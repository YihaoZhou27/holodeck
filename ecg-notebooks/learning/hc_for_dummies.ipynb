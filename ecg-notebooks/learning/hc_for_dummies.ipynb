{
 "cells": [
  {
   "cell_type": "code",
   "execution_count": 28,
   "metadata": {},
   "outputs": [],
   "source": [
    "# imports\n",
    "\n",
    "# MOD 1: needed to append sys path to import holodeck\n",
    "import sys\n",
    "sys.path.append('C:/Users/emiga/OneDrive/Cal/GWs/code/holodeck')\n",
    "\n",
    "\n",
    "# %load ../init.ipy\n",
    "%reload_ext autoreload\n",
    "%autoreload 2\n",
    "from importlib import reload\n",
    "\n",
    "import os\n",
    "import sys\n",
    "import logging\n",
    "import warnings\n",
    "import numpy as np\n",
    "import astropy as ap\n",
    "import scipy as sp\n",
    "import scipy.stats\n",
    "import matplotlib as mpl\n",
    "import matplotlib.pyplot as plt\n",
    "\n",
    "import h5py\n",
    "import tqdm.notebook as tqdm\n",
    "\n",
    "import kalepy as kale\n",
    "import kalepy.utils\n",
    "import kalepy.plot\n",
    "\n",
    "import holodeck as holo\n",
    "import holodeck.sam\n",
    "from holodeck import cosmo, utils, plot\n",
    "from holodeck.constants import MSOL, PC, YR, MPC, GYR\n",
    "\n",
    "# Silence annoying numpy errors\n",
    "np.seterr(divide='ignore', invalid='ignore', over='ignore')\n",
    "warnings.filterwarnings(\"ignore\", category=UserWarning)\n",
    "\n",
    "# Plotting settings\n",
    "mpl.rc('font', **{'family': 'serif', 'sans-serif': ['Times'], 'size': 15})\n",
    "mpl.rc('lines', solid_capstyle='round')\n",
    "mpl.rc('mathtext', fontset='cm')\n",
    "mpl.style.use('default')   # avoid dark backgrounds from dark theme vscode\n",
    "plt.rcParams.update({'grid.alpha': 0.5})\n",
    "\n",
    "log = holo.log\n",
    "log.setLevel(logging.INFO)"
   ]
  },
  {
   "attachments": {},
   "cell_type": "markdown",
   "metadata": {},
   "source": [
    "define Nyquist frequency centers and edges"
   ]
  },
  {
   "cell_type": "code",
   "execution_count": 29,
   "metadata": {},
   "outputs": [
    {
     "name": "stdout",
     "output_type": "stream",
     "text": [
      "dur=5.000000e+07 cad=5.000000e+06\n",
      "Number of frequency bins: 4\n",
      "  between [0.63, 3.16] 1/yr\n",
      "          [20.00, 100.00] nHz\n",
      "fobs= [2.e-08 4.e-08 6.e-08 8.e-08 1.e-07]\n",
      "fobs_edges= [1.0e-08 3.0e-08 5.0e-08 7.0e-08 9.0e-08 1.2e-07]\n",
      "<class 'numpy.ndarray'>\n",
      "[ 0.00000000e+00 -6.61744490e-24 -1.32348898e-23  0.00000000e+00\n",
      "  0.00000000e+00 -1.00000000e-08]\n"
     ]
    }
   ],
   "source": [
    "# my code\n",
    "dur = 5.0*YR/3.1557600\n",
    "cad = .5*YR/3.1557600\n",
    "print('dur=%e cad=%e' % (dur,cad))\n",
    "\n",
    "# standard\n",
    "fobs = utils.nyquist_freqs(dur,cad)\n",
    "fobs_edges = utils.nyquist_freqs_edges(dur,cad)\n",
    "print(f\"Number of frequency bins: {fobs.size-1}\")\n",
    "print(f\"  between [{fobs[0]*YR:.2f}, {fobs[-1]*YR:.2f}] 1/yr\")\n",
    "print(f\"          [{fobs[0]*1e9:.2f}, {fobs[-1]*1e9:.2f}] nHz\")\n",
    "\n",
    "# my code\n",
    "print('fobs=', fobs)\n",
    "print('fobs_edges=',fobs_edges) # this seems wrong\n",
    "\n",
    "\n",
    "print(type(fobs_edges))\n",
    "fobs_edges_MOD = np.array([1.0e-08, 3.0e-08, 5.0e-08,\n",
    "         7.0e-08, 9.0e-08, 1.1e-07])\n",
    "print(fobs_edges_MOD-fobs_edges)"
   ]
  },
  {
   "attachments": {},
   "cell_type": "markdown",
   "metadata": {},
   "source": [
    "# Semi_Analytic_Model with \n",
    "* mtot=[1.0e39, 1.0e40, 1e41] g \n",
    "* mrat=[.1, 1]\n",
    "* redz=[.001, .01, .1, 1]\n",
    "* gsmf=GSMF_Schechter\n",
    "* gpf=GPF_Power_Law\n",
    "* gmt=GMT_Power_Law\n",
    "* mmbulge=relations.MMBulge_MM2013"
   ]
  },
  {
   "cell_type": "code",
   "execution_count": 30,
   "metadata": {},
   "outputs": [],
   "source": [
    "my_mtot=(1.0e6*MSOL/1.988409870698051, \n",
    "        1.0e8*MSOL/1.988409870698051, 3)\n",
    "my_mrat=(1e-1, 1.0, 2)\n",
    "my_redz=(1e-3, 1.0, 4)\n",
    "my_gsmf=holo.sam.GSMF_Schechter\n",
    "my_gpf=holo.sam.GPF_Power_Law\n",
    "my_gmt=holo.sam.GMT_Power_Law\n",
    "shape=None\n",
    "my_mmbulge=holo.relations.MMBulge_MM2013\n",
    "sam = holo.sam.Semi_Analytic_Model(mtot=my_mtot, mrat=my_mrat, \n",
    "                redz=my_redz, gsmf=my_gsmf, gpf=my_gpf, gmt=my_gmt, \n",
    "                mmbulge=my_mmbulge, shape=my_shape)"
   ]
  },
  {
   "attachments": {},
   "cell_type": "markdown",
   "metadata": {},
   "source": [
    "in Semi_Analytic_Model()"
   ]
  },
  {
   "cell_type": "code",
   "execution_count": 31,
   "metadata": {},
   "outputs": [],
   "source": [
    "# Skipping \"sanitize input classes/instances\"\n",
    "# Process grid specifications here\n",
    "# Codes initialization\n",
    "\n",
    "param_names = ['mtot', 'mrat', 'redz']\n",
    "params = [my_mtot, my_mrat, my_redz]\n",
    "for ii, (par, name) in enumerate(zip(params, param_names)):\n",
    "    log.debug(f\"{name}: {par}\")\n",
    "    if isinstance(par, tuple) and (len(par) == 3):\n",
    "        continue\n",
    "    elif isinstance(par, np.ndarray):\n",
    "        continue\n",
    "    else:\n",
    "        err = (\n",
    "            f\"{name} (type={type(par)}, len={len(par)}) must be a (3,) tuple specifying a log-spacing, \"\n",
    "            \"or ndarray of grid edges!\"\n",
    "        )\n",
    "        log.exception(err)\n",
    "        raise ValueError(err)\n",
    "\n",
    "# Determine shape of grid (i.e. number of bins in each parameter)\n",
    "if shape is not None:\n",
    "    if np.isscalar(shape):\n",
    "        shape = [shape for ii in range(3)]\n",
    "\n",
    "    shape = np.asarray(shape)\n",
    "    if not np.issubdtype(shape.dtype, int) or (shape.size != 3) or np.any(shape <= 1):\n",
    "        raise ValueError(f\"`shape` ({shape}) must be an integer, or (3,) iterable of integers, larger than 1!\")\n",
    "\n",
    "    # mtot\n",
    "    for ii, par in enumerate(params):\n",
    "        if shape[ii] is not None:\n",
    "            log.debug(f\"{param_names[ii]}: resetting grid shape to {shape[ii]}\")\n",
    "            if not isinstance(par, tuple) or len(par) != 3:\n",
    "                err = (\n",
    "                    f\"Cannot set shape ({shape[ii]}) for {param_names[ii]} which is not a (3,) tuple \"\n",
    "                    \"specifying a log-spacing!\"\n",
    "                )\n",
    "                log.exception(err)\n",
    "                raise ValueError(err)\n",
    "\n",
    "            par = [pp for pp in par]\n",
    "            par[2] = shape[ii]\n",
    "            par = tuple(par)\n",
    "            params[ii] = par\n",
    "\n",
    "# Set grid-spacing for each parameter\n",
    "for ii, (par, name) in enumerate(zip(params, param_names)):\n",
    "    log.debug(f\"{name}: {par}\")\n",
    "    if isinstance(par, tuple) and (len(par) == 3):\n",
    "        par = np.logspace(*np.log10(par[:2]), par[2])\n",
    "    elif isinstance(par, np.ndarray):\n",
    "        par = np.copy(par)\n",
    "    else:\n",
    "        err = f\"{name} must be a (3,) tuple specifying a log-spacing; or ndarray of grid edges!  ({par})\"\n",
    "        log.exception(err)\n",
    "        raise ValueError(err)\n",
    "\n",
    "    log.debug(f\"{name}: [{par[0]}, {par[-1]}] {par.size}\")\n",
    "    params[ii] = par\n",
    "\n",
    "my_mtot, my_mrat, my_redz = params"
   ]
  },
  {
   "attachments": {},
   "cell_type": "markdown",
   "metadata": {},
   "source": [
    "check vars"
   ]
  },
  {
   "cell_type": "code",
   "execution_count": 32,
   "metadata": {},
   "outputs": [
    {
     "name": "stdout",
     "output_type": "stream",
     "text": [
      "[array([1.e+39, 1.e+40, 1.e+41]), array([0.1, 1. ]), array([0.001, 0.01 , 0.1  , 1.   ])]\n",
      "0.0 0.0\n",
      "0.0 0.0\n",
      "0.0 0.0\n"
     ]
    }
   ],
   "source": [
    "print(params)\n",
    "print(np.min(my_mtot-sam.mtot), np.max(my_mtot-sam.mtot))\n",
    "print(np.min(my_mrat-sam.mrat), np.max(my_mrat-sam.mrat))\n",
    "print(np.min(my_redz-sam.redz), np.max(my_redz-sam.redz))"
   ]
  },
  {
   "attachments": {},
   "cell_type": "markdown",
   "metadata": {},
   "source": [
    "# Semi_Analytic_Model.GWB\n",
    "* fobs_gw_edges = fobs_edges\n",
    "* hard = holo.hardening.Hard_GW\n",
    "* realize = False"
   ]
  },
  {
   "cell_type": "code",
   "execution_count": 33,
   "metadata": {},
   "outputs": [
    {
     "name": "stdout",
     "output_type": "stream",
     "text": [
      "before calling hc here is edges:\n",
      " [array([1.e+39, 1.e+40, 1.e+41]), array([0.1, 1. ]), array([0.001, 0.01 , 0.1  , 1.   ]), array([5.0e-09, 1.5e-08, 2.5e-08, 3.5e-08, 4.5e-08, 6.0e-08])]\n",
      "and here is number:\n",
      " (2, 1, 3, 5) \n",
      " [[[[0.00000000e+00 0.00000000e+00 0.00000000e+00 0.00000000e+00\n",
      "    0.00000000e+00]\n",
      "   [8.82745690e+06 6.46423553e+05 1.44416576e+05 5.00858751e+04\n",
      "    2.77638151e+04]\n",
      "   [1.09390698e+09 8.01054307e+07 1.78962414e+07 6.20668998e+06\n",
      "    3.44051876e+06]]]\n",
      "\n",
      "\n",
      " [[[0.00000000e+00 0.00000000e+00 0.00000000e+00 0.00000000e+00\n",
      "    0.00000000e+00]\n",
      "   [1.09892126e+05 8.04726202e+03 1.79782747e+03 6.23514038e+02\n",
      "    3.45628951e+02]\n",
      "   [1.28993591e+07 9.44603826e+05 2.11032610e+05 7.31893338e+04\n",
      "    4.05706225e+04]]]]\n",
      "and realize:\n",
      " False\n",
      "err here\n",
      "hc:\n",
      " [[[[8.52704562e-38 4.29736171e-37 1.10683151e-36 2.16573459e-36\n",
      "    2.72319684e-36]\n",
      "   [9.29179258e-40 4.68277002e-39 1.20609755e-38 2.35996821e-38\n",
      "    2.96742639e-38]\n",
      "   [1.98216207e-41 9.98947086e-41 2.57289515e-40 5.03437784e-40\n",
      "    6.33023175e-40]]]\n",
      "\n",
      "\n",
      " [[[1.83709629e-34 9.25838514e-34 2.38459620e-33 4.66593373e-33\n",
      "    5.86694975e-33]\n",
      "   [2.00185603e-36 1.00887222e-35 2.59845839e-35 5.08439738e-35\n",
      "    6.39312636e-35]\n",
      "   [4.27043872e-38 2.15216625e-37 5.54313457e-37 1.08462383e-36\n",
      "    1.36380709e-36]]]] \n",
      "hc shape: (2, 1, 3, 5)\n",
      "number:\n",
      " [[[[0.00000000e+00 0.00000000e+00 0.00000000e+00 0.00000000e+00\n",
      "    0.00000000e+00]\n",
      "   [8.82745690e+06 6.46423553e+05 1.44416576e+05 5.00858751e+04\n",
      "    2.77638151e+04]\n",
      "   [1.09390698e+09 8.01054307e+07 1.78962414e+07 6.20668998e+06\n",
      "    3.44051876e+06]]]\n",
      "\n",
      "\n",
      " [[[0.00000000e+00 0.00000000e+00 0.00000000e+00 0.00000000e+00\n",
      "    0.00000000e+00]\n",
      "   [1.09892126e+05 8.04726202e+03 1.79782747e+03 6.23514038e+02\n",
      "    3.45628951e+02]\n",
      "   [1.28993591e+07 9.44603826e+05 2.11032610e+05 7.31893338e+04\n",
      "    4.05706225e+04]]]] \n",
      "number shape (2, 1, 3, 5)\n"
     ]
    }
   ],
   "source": [
    "fobs_gw_edges = fobs_edges\n",
    "hard = holo.hardening.Hard_GW\n",
    "realize = False\n",
    "gwb = sam.gwb(fobs_gw_edges, realize=realize)    # calculate many different realizations\n",
    "\n"
   ]
  },
  {
   "cell_type": "code",
   "execution_count": 34,
   "metadata": {},
   "outputs": [
    {
     "name": "stdout",
     "output_type": "stream",
     "text": [
      "fobs_gw_cents [2.00e-08 4.00e-08 6.00e-08 8.00e-08 1.05e-07]\n",
      "fobs_orb_edges (6,)\n",
      "fobs_orb_cents (5,)\n"
     ]
    }
   ],
   "source": [
    "# skipped\n",
    "# squeeze = True\n",
    "# fobs_gw_edges = np.atleast_1d(fobs_gw_edges)\n",
    "# if np.isscalar(fobs_gw_edges) or np.size(fobs_gw_edges) == 1:\n",
    "#     err = \"GWB can only be calculated across bins of frequency, `fobs_gw_edges` must provide bin edges!\"\n",
    "#     log.exception(err)\n",
    "#     raise ValueError(err)\n",
    "\n",
    "# standard\n",
    "fobs_gw_cents = kale.utils.midpoints(fobs_gw_edges)\n",
    "print('fobs_gw_cents', fobs_gw_cents)\n",
    "# ---- Get the differential-number of binaries for each bin\n",
    "# convert to orbital-frequency (from GW-frequency)\n",
    "fobs_orb_edges = fobs_gw_edges / 2.0\n",
    "fobs_orb_cents = fobs_gw_cents / 2.0\n",
    "\n",
    "# my code\n",
    "print('fobs_orb_edges', fobs_orb_edges.shape)\n",
    "print('fobs_orb_cents', fobs_orb_cents.shape)"
   ]
  },
  {
   "attachments": {},
   "cell_type": "markdown",
   "metadata": {},
   "source": [
    "### straight from dynamic_binary_number"
   ]
  },
  {
   "cell_type": "code",
   "execution_count": 35,
   "metadata": {},
   "outputs": [],
   "source": [
    "fobs_orb = fobs_orb_cents\n",
    "hard = hard\n",
    "from constants import SPLC\n",
    "\n",
    "# skip\n",
    "# if (fobs_orb is None) == (sepa is None):\n",
    "#     err = \"one (and only one) of `fobs_orb` or `sepa` must be provided!\"\n",
    "#     log.exception(err)\n",
    "#     raise ValueError(err)\n",
    "if fobs_orb is not None:\n",
    "    fobs_orb = np.asarray(fobs_orb)\n",
    "    xsize = fobs_orb.size\n",
    "    my_edges = sam.edges + [fobs_orb, ]\n",
    "\n",
    "# shape: (M, Q, Z)\n",
    "my_dens = sam.static_binary_density   # d3n/[dz dlog10(M) dq]  units: [Mpc^-3]\n",
    "\n",
    "# (Z,) comoving-distance in [Mpc]\n",
    "dc = cosmo.comoving_distance(sam.redz).to('Mpc').value\n",
    "\n",
    "# (Z,) this is `(dVc/dz) * (dz/dt)` in units of [Mpc^3/s]\n",
    "cosmo_fact = 4 * np.pi * (SPLC/MPC) * np.square(dc) * (1.0 + sam.redz)\n",
    "\n"
   ]
  },
  {
   "cell_type": "code",
   "execution_count": 36,
   "metadata": {},
   "outputs": [],
   "source": [
    "# (M, Q) calculate chirp-mass\n",
    "mchirp = utils.m1m2_from_mtmr(sam.mtot[:, np.newaxis], sam.mrat[np.newaxis, :])\n",
    "mchirp = utils.chirp_mass(*mchirp)\n",
    "# (M, Q, 1, 1) make shape broadcastable for later calculations\n",
    "mchirp = mchirp[..., np.newaxis, np.newaxis]\n",
    "\n",
    "# (M*Q*Z,) 1D arrays of each total-mass, mass-ratio, and redshift\n",
    "mt, mr, rz = [gg.ravel() for gg in sam.grid]\n",
    "\n",
    "# Make sure we have both `frst_orb` and binary separation `sa`; shapes (X, M*Q*Z)\n",
    "if fobs_orb is not None:\n",
    "    # Convert from observer-frame orbital freq, to rest-frame orbital freq\n",
    "    # (X, M*Q*Z)\n",
    "    frst_orb = fobs_orb[:, np.newaxis] * (1.0 + rz[np.newaxis, :])\n",
    "    sa = utils.kepler_sepa_from_freq(mt[np.newaxis, :], frst_orb)  "
   ]
  },
  {
   "cell_type": "code",
   "execution_count": 37,
   "metadata": {},
   "outputs": [],
   "source": [
    "# (X, M*Q*Z), hardening rate, negative values, units of [cm/sec]\n",
    "dadt = hard.dadt(mt[np.newaxis, :], mr[np.newaxis, :], sa)\n"
   ]
  },
  {
   "cell_type": "code",
   "execution_count": 38,
   "metadata": {},
   "outputs": [],
   "source": [
    "# Calculate `tau = dt/dlnf_r = f_r / (df_r/dt)`\n",
    "if fobs_orb is not None:\n",
    "    # dfdt is positive (increasing frequency)\n",
    "    dfdt, frst_orb = utils.dfdt_from_dadt(dadt, sa, frst_orb=frst_orb)\n",
    "    tau = frst_orb / dfdt"
   ]
  },
  {
   "cell_type": "code",
   "execution_count": 39,
   "metadata": {},
   "outputs": [],
   "source": [
    "limit_merger_time=None\n",
    "if (limit_merger_time in [None, False]):\n",
    "    pass\n",
    "else:\n",
    "    err = f\"`limit_merger_time` ({type(limit_merger_time)}) must be boolean or scalar!\"\n",
    "    log.exception(err)\n",
    "    raise ValueError(err)"
   ]
  },
  {
   "cell_type": "code",
   "execution_count": 40,
   "metadata": {},
   "outputs": [],
   "source": [
    "# convert `tau` to the correct shape, note that moveaxis MUST happen _before_ reshape!\n",
    "# (X, M*Q*Z) ==> (M*Q*Z, X)\n",
    "tau = np.moveaxis(tau, 0, -1)\n",
    "# (M*Q*Z, X) ==> (M, Q, Z, X)\n",
    "tau = tau.reshape(my_dens.shape + (xsize,))\n",
    "\n",
    "# (M, Q, Z) units: [1/s] i.e. number per second\n",
    "my_dnum = my_dens * cosmo_fact\n",
    "# (M, Q, Z, X) units: [] unitless, i.e. number\n",
    "my_dnum = my_dnum[..., np.newaxis] * tau\n",
    "\n",
    "bads = ~np.isfinite(tau)\n",
    "if np.any(bads):\n",
    "    log.warning(f\"Found {utils.frac_str(bads)} invalid hardening timescales.  Setting to zero densities.\")\n",
    "    my_dnum[bads] = 0.0"
   ]
  },
  {
   "cell_type": "code",
   "execution_count": 1,
   "metadata": {},
   "outputs": [
    {
     "ename": "NameError",
     "evalue": "name 'sam' is not defined",
     "output_type": "error",
     "traceback": [
      "\u001b[1;31m---------------------------------------------------------------------------\u001b[0m",
      "\u001b[1;31mNameError\u001b[0m                                 Traceback (most recent call last)",
      "Cell \u001b[1;32mIn[1], line 1\u001b[0m\n\u001b[1;32m----> 1\u001b[0m sams_edges, sams_dnum \u001b[39m=\u001b[39m sam\u001b[39m.\u001b[39mdynamic_binary_number(hard, fobs_orb\u001b[39m=\u001b[39mfobs_orb_cents)\n\u001b[0;32m      2\u001b[0m my_edges[\u001b[39m-\u001b[39m\u001b[39m1\u001b[39m] \u001b[39m=\u001b[39m fobs_orb_edges\n\u001b[0;32m      4\u001b[0m \u001b[39mprint\u001b[39m(\u001b[39m'\u001b[39m\u001b[39medges\u001b[39m\u001b[39m\\n\u001b[39;00m\u001b[39m'\u001b[39m, \u001b[39mlen\u001b[39m(sams_edges), sams_edges)\n",
      "\u001b[1;31mNameError\u001b[0m: name 'sam' is not defined"
     ]
    },
    {
     "ename": "",
     "evalue": "",
     "output_type": "error",
     "traceback": [
      "\u001b[1;31mThe Kernel crashed while executing code in the the current cell or a previous cell. Please review the code in the cell(s) to identify a possible cause of the failure. Click <a href='https://aka.ms/vscodeJupyterKernelCrash'>here</a> for more info. View Jupyter <a href='command:jupyter.viewOutput'>log</a> for further details."
     ]
    }
   ],
   "source": [
    "sams_edges, sams_dnum = sam.dynamic_binary_number(hard, fobs_orb=fobs_orb_cents)\n",
    "my_edges[-1] = fobs_orb_edges\n",
    "\n",
    "print('edges\\n', len(sams_edges), sams_edges)\n",
    "print(sams_edges[-1].shape)\n",
    "print('my_edges\\n', len(my_edges), my_edges)\n",
    "print('my_edges')\n",
    "print('edges dif min and max\\n', \n",
    "    np.min(np.array([my_edges])-np.array([sams_edges])),\n",
    "    np.max(np.array([my_edges])-np.array([sams_edges])))\n",
    "print('\\ndnum\\n', dnum)\n",
    "print('my_dnum\\n', my_dnum)\n",
    "print('dnum dif min and max\\n', \n",
    "    np.min(np.array([my_dnum])-np.array([dnum])),\n",
    "    np.max(np.array([my_dnum])-np.array([dnum])))"
   ]
  },
  {
   "cell_type": "code",
   "execution_count": 52,
   "metadata": {},
   "outputs": [
    {
     "name": "stdout",
     "output_type": "stream",
     "text": [
      "[[array([0., 0., 0.]) array([0., 0.]) array([0., 0., 0., 0.])\n",
      "  array([0., 0., 0., 0., 0.])]]\n",
      "[[array([0., 0., 0.]) array([0., 0.]) array([0., 0., 0., 0.])\n",
      "  array([0., 0., 0., 0., 0., 0.])]]\n"
     ]
    }
   ],
   "source": [
    "edges1, dnum1 = sam.dynamic_binary_number(hard, fobs_orb=fobs_orb_edges)\n",
    "edges2 = [sam.mtot, sam.mrat, sam.redz] + [fobs_orb]\n",
    "edges3 = [sam.mtot, sam.mrat, sam.redz] + [fobs_orb_edges]\n",
    "\n",
    "# or\n",
    "edges4, dnum4 = sam.dynamic_binary_number(hard, fobs_orb=fobs_orb_cents)\n",
    "edges2 = [sam.mtot, sam.mrat, sam.redz] + [fobs_orb]\n",
    "\n",
    "\n",
    "print(np.array([edges4]) - np.array([edges2]))\n",
    "print(np.array([edges1]) - np.array([edges3]))\n",
    "\n",
    "# THIS IS THE ISSUES!!! Must be edges 3 and 1 or 2 and 4\n"
   ]
  },
  {
   "cell_type": "code",
   "execution_count": 56,
   "metadata": {},
   "outputs": [
    {
     "name": "stdout",
     "output_type": "stream",
     "text": [
      "err here\n",
      "hc:\n",
      " [[[[8.52704562e-38 4.29736171e-37 1.10683151e-36 2.16573459e-36\n",
      "    2.72319684e-36]\n",
      "   [9.29179258e-40 4.68277002e-39 1.20609755e-38 2.35996821e-38\n",
      "    2.96742639e-38]\n",
      "   [1.98216207e-41 9.98947086e-41 2.57289515e-40 5.03437784e-40\n",
      "    6.33023175e-40]]]\n",
      "\n",
      "\n",
      " [[[1.83709629e-34 9.25838514e-34 2.38459620e-33 4.66593373e-33\n",
      "    5.86694975e-33]\n",
      "   [2.00185603e-36 1.00887222e-35 2.59845839e-35 5.08439738e-35\n",
      "    6.39312636e-35]\n",
      "   [4.27043872e-38 2.15216625e-37 5.54313457e-37 1.08462383e-36\n",
      "    1.36380709e-36]]]] \n",
      "hc shape: (2, 1, 3, 5)\n",
      "number:\n",
      " [[[[0.00000000e+00 0.00000000e+00 0.00000000e+00 0.00000000e+00\n",
      "    0.00000000e+00]\n",
      "   [8.82745690e+06 6.46423553e+05 1.44416576e+05 5.00858751e+04\n",
      "    2.77638151e+04]\n",
      "   [1.09390698e+09 8.01054307e+07 1.78962414e+07 6.20668998e+06\n",
      "    3.44051876e+06]]]\n",
      "\n",
      "\n",
      " [[[0.00000000e+00 0.00000000e+00 0.00000000e+00 0.00000000e+00\n",
      "    0.00000000e+00]\n",
      "   [1.09892126e+05 8.04726202e+03 1.79782747e+03 6.23514038e+02\n",
      "    3.45628951e+02]\n",
      "   [1.28993591e+07 9.44603826e+05 2.11032610e+05 7.31893338e+04\n",
      "    4.05706225e+04]]]] \n",
      "number shape (2, 1, 3, 5)\n"
     ]
    }
   ],
   "source": [
    "sams_edges, samsdnum = sam.dynamic_binary_number(hard, \n",
    "                        fobs_orb_cents)\n",
    "sams_edges[-1] = fobs_orb_edges\n",
    "sams_number = utils._integrate_grid_differential_number(sams_edges, sams_dnum, freq=False)\n",
    "sams_number = sams_number * np.diff(np.log(fobs_gw_edges))\n",
    "log.debug(f\"number: {utils.stats(sams_number)}\")\n",
    "log.debug(f\"number.sum(): {sams_number.sum():.4e}\")\n",
    "sams_hc = holo.sam.gravwaves._gws_from_number_grid_integrated(sams_edges, sams_number, realize)\n",
    "print"
   ]
  },
  {
   "cell_type": "code",
   "execution_count": null,
   "metadata": {},
   "outputs": [],
   "source": []
  }
 ],
 "metadata": {
  "kernelspec": {
   "display_name": "Python 3",
   "language": "python",
   "name": "python3"
  },
  "language_info": {
   "codemirror_mode": {
    "name": "ipython",
    "version": 3
   },
   "file_extension": ".py",
   "mimetype": "text/x-python",
   "name": "python",
   "nbconvert_exporter": "python",
   "pygments_lexer": "ipython3",
   "version": "3.10.10"
  },
  "orig_nbformat": 4,
  "vscode": {
   "interpreter": {
    "hash": "17d459439548e0ef4d6a744a9fa4f3f6fa91b434189a6e542a76bffcd834cb9b"
   }
  }
 },
 "nbformat": 4,
 "nbformat_minor": 2
}
