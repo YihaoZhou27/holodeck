{
 "cells": [
  {
   "cell_type": "code",
   "execution_count": 2,
   "metadata": {},
   "outputs": [],
   "source": [
    "# MOD 1: needed to append sys path to import holodeck\n",
    "import sys\n",
    "sys.path.append('C:/Users/emiga/OneDrive/Cal/GWs/code/holodeck')\n",
    "\n",
    "\n",
    "# %load ../init.ipy\n",
    "%reload_ext autoreload\n",
    "%autoreload 2\n",
    "from importlib import reload\n",
    "\n",
    "import os\n",
    "import sys\n",
    "import logging\n",
    "import warnings\n",
    "import numpy as np\n",
    "import astropy as ap\n",
    "import scipy as sp\n",
    "import scipy.stats\n",
    "import matplotlib as mpl\n",
    "import matplotlib.pyplot as plt\n",
    "\n",
    "import h5py\n",
    "import tqdm.notebook as tqdm\n",
    "\n",
    "import kalepy as kale\n",
    "import kalepy.utils\n",
    "import kalepy.plot\n",
    "\n",
    "import holodeck as holo\n",
    "import holodeck.sam\n",
    "from holodeck import cosmo, utils, plot\n",
    "from holodeck.constants import MSOL, PC, YR, MPC, GYR\n",
    "\n",
    "# Silence annoying numpy errors\n",
    "np.seterr(divide='ignore', invalid='ignore', over='ignore')\n",
    "warnings.filterwarnings(\"ignore\", category=UserWarning)\n",
    "\n",
    "# Plotting settings\n",
    "mpl.rc('font', **{'family': 'serif', 'sans-serif': ['Times'], 'size': 15})\n",
    "mpl.rc('lines', solid_capstyle='round')\n",
    "mpl.rc('mathtext', fontset='cm')\n",
    "mpl.style.use('default')   # avoid dark backgrounds from dark theme vscode\n",
    "plt.rcParams.update({'grid.alpha': 0.5})\n",
    "\n",
    "log = holo.log\n",
    "log.setLevel(logging.INFO)"
   ]
  },
  {
   "attachments": {},
   "cell_type": "markdown",
   "metadata": {},
   "source": [
    "Nyquist Frequency Bins/Edges"
   ]
  },
  {
   "cell_type": "code",
   "execution_count": 3,
   "metadata": {},
   "outputs": [
    {
     "name": "stdout",
     "output_type": "stream",
     "text": [
      "Number of frequency bins: 4\n",
      "  between [0.63, 3.16] 1/yr\n",
      "          [20.00, 100.00] nHz\n"
     ]
    }
   ],
   "source": [
    "dur = 5.0*YR/3.1557600\n",
    "cad = .5*YR/3.1557600\n",
    "fobs = utils.nyquist_freqs(dur,cad)\n",
    "fobs_edges = utils.nyquist_freqs_edges(dur,cad)\n",
    "# print('fobs=', fobs)\n",
    "# print('fobs_edges=',fobs_edges)\n",
    "print(f\"Number of frequency bins: {fobs.size-1}\")\n",
    "print(f\"  between [{fobs[0]*YR:.2f}, {fobs[-1]*YR:.2f}] 1/yr\")\n",
    "print(f\"          [{fobs[0]*1e9:.2f}, {fobs[-1]*1e9:.2f}] nHz\")"
   ]
  },
  {
   "attachments": {},
   "cell_type": "markdown",
   "metadata": {},
   "source": [
    "SAM"
   ]
  },
  {
   "cell_type": "code",
   "execution_count": 4,
   "metadata": {},
   "outputs": [
    {
     "name": "stdout",
     "output_type": "stream",
     "text": [
      "edges: [array([1.e+39, 1.e+40, 1.e+41]), array([0.1, 1. ]), array([0.001, 0.01 , 0.1  , 1.   ])]\n"
     ]
    }
   ],
   "source": [
    "mtot=(1.0e6*MSOL/1.988409870698051, 1.0e8*MSOL/1.988409870698051, 3)\n",
    "mrat=(1e-1, 1.0, 2)\n",
    "redz=(1e-3, 1.0, 4)\n",
    "sam = holo.sam.Semi_Analytic_Model(mtot=mtot, mrat=mrat, \n",
    "        redz=redz)\n",
    "# gsmf=GSMF_Schechter, \n",
    "# gpf=GPF_Power_Law, \n",
    "# gmt=GMT_Power_Law, \n",
    "# mmbulge=relations.MMBulge_MM2013\n",
    "   \n",
    "# print('sam.mtot (M_sun)',sam.mtot/MSOL,\n",
    "# '\\nsam.mtot (g)', sam.mtot,\n",
    "# '\\nsam.mrat',sam.mrat,\n",
    "# '\\nsam.redz',sam.redz)\n",
    "print('edges:', sam.edges)"
   ]
  },
  {
   "attachments": {},
   "cell_type": "markdown",
   "metadata": {},
   "source": [
    "gwb (internal)"
   ]
  },
  {
   "cell_type": "code",
   "execution_count": 5,
   "metadata": {},
   "outputs": [],
   "source": [
    "fobs_gw_edges = fobs_edges\n",
    "hard = holo.hardening.Hard_GW\n",
    "fobs_gw_cents = kale.utils.midpoints(fobs_gw_edges)\n",
    "# print('fobs_gw_cents', fobs_gw_cents)\n",
    "fobs_orb_edges = fobs_gw_edges / 2.0\n",
    "fobs_orb_cents = fobs_gw_cents / 2.0\n",
    "# print('fobs_orb_edges', fobs_orb_edges.shape)\n",
    "# print('fobs_orb_cents', fobs_orb_cents.shape)\n",
    "\n",
    "\n",
    "# dynamic_binary_number\n",
    "# gets differential number of binaries per bin-vol\n",
    "# per log frequency interval\n",
    "edges, dnum = sam.dynamic_binary_number(hard, fobs_orb=fobs_orb_cents)\n",
    "edges[-1] = fobs_orb_edges\n",
    "\n",
    "# integrate (multiply by bin volume) within each\n",
    "# bin\n",
    "number = utils._integrate_grid_differential_number(edges, dnum, freq=False)\n",
    "number = number * np.diff(np.log(fobs_gw_edges))\n",
    "\n",
    "# get GWB spectrum\n",
    "hc = holo.sam.gravwaves._gws_from_number_grid_integrated(edges, number, realize=False)\n",
    "hc1 = holo.sam.gravwaves._gws_from_number_grid_integrated(edges, number, realize=1)\n",
    "        "
   ]
  },
  {
   "cell_type": "code",
   "execution_count": 6,
   "metadata": {},
   "outputs": [
    {
     "name": "stdout",
     "output_type": "stream",
     "text": [
      "[[[[0.00000000e+00 0.00000000e+00 0.00000000e+00 0.00000000e+00\n",
      "    0.00000000e+00]\n",
      "   [8.03509754e+06 1.26544857e+06 4.29207999e+05 1.99295661e+05\n",
      "    9.65086730e+04]\n",
      "   [9.95717043e+08 1.56815608e+08 5.31878695e+07 2.46969107e+07\n",
      "    1.19594479e+07]]]\n",
      "\n",
      "\n",
      " [[[0.00000000e+00 0.00000000e+00 0.00000000e+00 0.00000000e+00\n",
      "    0.00000000e+00]\n",
      "   [1.00028124e+05 1.57534424e+04 5.34316736e+03 2.48101171e+03\n",
      "    1.20142680e+03]\n",
      "   [1.17415027e+07 1.84917080e+06 6.27191748e+05 2.91226152e+05\n",
      "    1.41025898e+05]]]]\n",
      "np.diff(log(fobs_gw_edges))\n",
      " [1.09861229 0.51082562 0.33647224 0.25131443 0.28768207]\n",
      "number2\n",
      " [[[[0.00000000e+00 0.00000000e+00 0.00000000e+00 0.00000000e+00\n",
      "    0.00000000e+00]\n",
      "   [8.82745690e+06 6.46423553e+05 1.44416576e+05 5.00858751e+04\n",
      "    2.77638151e+04]\n",
      "   [1.09390698e+09 8.01054307e+07 1.78962414e+07 6.20668998e+06\n",
      "    3.44051876e+06]]]\n",
      "\n",
      "\n",
      " [[[0.00000000e+00 0.00000000e+00 0.00000000e+00 0.00000000e+00\n",
      "    0.00000000e+00]\n",
      "   [1.09892126e+05 8.04726202e+03 1.79782747e+03 6.23514038e+02\n",
      "    3.45628951e+02]\n",
      "   [1.28993591e+07 9.44603826e+05 2.11032610e+05 7.31893338e+04\n",
      "    4.05706225e+04]]]]\n"
     ]
    }
   ],
   "source": [
    "# learning\n",
    "edges_test, dnum_test = sam.dynamic_binary_number(hard, fobs_orb=fobs_orb_cents)\n",
    "edges_test[-1] = fobs_orb_edges\n",
    "\n",
    "# integrate (multiply by bin volume) within each\n",
    "# bin\n",
    "number1_test = utils._integrate_grid_differential_number(edges_test, dnum_test, freq=False)\n",
    "number2_test = number1_test * np.diff(np.log(fobs_gw_edges))\n",
    "\n",
    "print(number1_test)\n",
    "print('np.diff(log(fobs_gw_edges))\\n', np.diff(np.log(fobs_gw_edges)))\n",
    "print('number2\\n', number2_test)"
   ]
  },
  {
   "attachments": {},
   "cell_type": "markdown",
   "metadata": {},
   "source": [
    "print our numbers"
   ]
  },
  {
   "cell_type": "code",
   "execution_count": 7,
   "metadata": {},
   "outputs": [
    {
     "name": "stdout",
     "output_type": "stream",
     "text": [
      "\n",
      "fobs_gw_cents: 2.00e-08Hz\n",
      "fobs_orb_cents: 1.00e-08Hz \n",
      "frequency bin 5.00 nHz to 15.00 nHz\n",
      "number =\n",
      " [[[0.00e+00 8.83e+06 1.09e+09]]\n",
      "\n",
      " [[0.00e+00 1.10e+05 1.29e+07]]]\n",
      "\n",
      "fobs_gw_cents: 4.00e-08Hz\n",
      "fobs_orb_cents: 2.00e-08Hz \n",
      "frequency bin 15.00 nHz to 25.00 nHz\n",
      "number =\n",
      " [[[0.00e+00 6.46e+05 8.01e+07]]\n",
      "\n",
      " [[0.00e+00 8.05e+03 9.45e+05]]]\n",
      "\n",
      "fobs_gw_cents: 6.00e-08Hz\n",
      "fobs_orb_cents: 3.00e-08Hz \n",
      "frequency bin 25.00 nHz to 35.00 nHz\n",
      "number =\n",
      " [[[0.00e+00 1.44e+05 1.79e+07]]\n",
      "\n",
      " [[0.00e+00 1.80e+03 2.11e+05]]]\n",
      "\n",
      "fobs_gw_cents: 8.00e-08Hz\n",
      "fobs_orb_cents: 4.00e-08Hz \n",
      "frequency bin 35.00 nHz to 45.00 nHz\n",
      "number =\n",
      " [[[0.00e+00 5.01e+04 6.21e+06]]\n",
      "\n",
      " [[0.00e+00 6.24e+02 7.32e+04]]]\n",
      "\n",
      "fobs_gw_cents: 1.05e-07Hz\n",
      "fobs_orb_cents: 5.25e-08Hz \n",
      "frequency bin 45.00 nHz to 60.00 nHz\n",
      "number =\n",
      " [[[0.00e+00 2.78e+04 3.44e+06]]\n",
      "\n",
      " [[0.00e+00 3.46e+02 4.06e+04]]]\n"
     ]
    }
   ],
   "source": [
    "for num in range(len(fobs_gw_cents)):\n",
    "    print('\\nfobs_gw_cents: %.2eHz' % fobs_gw_cents[num])\n",
    "    print('fobs_orb_cents: %.2eHz ' % fobs_orb_cents[num])\n",
    "    print('frequency bin %.2f nHz to %.2f nHz' % (edges[-1][num]*10**9, edges[-1][num+1]*10**9))\n",
    "    np.set_printoptions(precision = 2)\n",
    "    print('number =\\n', number[:,:,:,num])"
   ]
  },
  {
   "attachments": {},
   "cell_type": "markdown",
   "metadata": {},
   "source": [
    "# GWs by Loops Dev"
   ]
  },
  {
   "cell_type": "code",
   "execution_count": 8,
   "metadata": {},
   "outputs": [
    {
     "name": "stdout",
     "output_type": "stream",
     "text": [
      "foo (obs frame orbital freq) = [5.0e-09 1.5e-08 2.5e-08 3.5e-08 4.5e-08 6.0e-08]\n",
      "df = diff foo = [1.0e-08 1.0e-08 1.0e-08 1.0e-08 1.5e-08]\n",
      "fc = obs frame orbital freq bin centers = [1.00e-08 2.00e-08 3.00e-08 4.00e-08 5.25e-08]\n"
     ]
    }
   ],
   "source": [
    "foo = edges[-1] # observer frame orbital frequency\n",
    "print('foo (obs frame orbital freq) =', foo)\n",
    "df = np.diff(foo)\n",
    "  # Q? What does np.diff do\n",
    "  # A! n'th discrete difference along given axis\n",
    "  #    just the differenc between neighboring values\n",
    "print('df = diff foo =', df)\n",
    "fc = kale.utils.midpoints(foo)\n",
    "print('fc = obs frame orbital freq bin centers =', fc)"
   ]
  },
  {
   "attachments": {},
   "cell_type": "markdown",
   "metadata": {},
   "source": [
    "calculate GW strain"
   ]
  },
  {
   "cell_type": "code",
   "execution_count": 9,
   "metadata": {},
   "outputs": [
    {
     "name": "stdout",
     "output_type": "stream",
     "text": [
      "mt = mtot midpoints = [5.5e+39 5.5e+40]\n",
      "mr = mrat midpoints = [0.55]\n",
      "rz = redz midpoints = [0.0055 0.055  0.55  ]\n"
     ]
    }
   ],
   "source": [
    "# midpoints of mtot, mrat, and redz\n",
    "mt = kale.utils.midpoints(edges[0])\n",
    "mr = kale.utils.midpoints(edges[1])\n",
    "rz = kale.utils.midpoints(edges[2])\n",
    "np.set_printoptions(precision = 5)\n",
    "print('mt = mtot midpoints =', mt)\n",
    "print('mr = mrat midpoints =', mr)\n",
    "print('rz = redz midpoints =',rz)"
   ]
  },
  {
   "cell_type": "code",
   "execution_count": 10,
   "metadata": {},
   "outputs": [
    {
     "name": "stdout",
     "output_type": "stream",
     "text": [
      "mc = chirpmass = \n",
      " [[[[2.27082e+39]]]\n",
      "\n",
      "\n",
      " [[[2.27082e+40]]]]\n",
      "dc = comoving distance =\n",
      " [[[[7.32986e+25]\n",
      "   [7.25035e+26]\n",
      "   [6.41542e+27]]]]\n"
     ]
    }
   ],
   "source": [
    "mc = utils.chirp_mass_mtmr(mt[:,np.newaxis], \n",
    "                        mr[np.newaxis,:])\n",
    "mc = mc[:, :, np.newaxis, np.newaxis]\n",
    "print('mc = chirpmass = \\n', mc)\n",
    "dc = cosmo.comoving_distance(rz).cgs.value\n",
    "dc = dc[np.newaxis, np.newaxis, :, np.newaxis]\n",
    "print('dc = comoving distance =\\n', dc)\n"
   ]
  },
  {
   "cell_type": "code",
   "execution_count": 11,
   "metadata": {},
   "outputs": [
    {
     "name": "stdout",
     "output_type": "stream",
     "text": [
      "recall fc = obs frame orbital freq bin centers = [1.00e-08 2.00e-08 3.00e-08 4.00e-08 5.25e-08]\n",
      "fr = rest-frame orbital frequency centers =\n",
      " [[[[1.00550e-08 2.01100e-08 3.01650e-08 4.02200e-08 5.27888e-08]\n",
      "   [1.05500e-08 2.11000e-08 3.16500e-08 4.22000e-08 5.53875e-08]\n",
      "   [1.55000e-08 3.10000e-08 4.65000e-08 6.20000e-08 8.13750e-08]]]]\n"
     ]
    }
   ],
   "source": [
    "# convert from observer frame to rest frame\n",
    "print('recall fc = obs frame orbital freq bin centers =', fc)\n",
    "fr = utils.frst_from_fobs(fc[np.newaxis, :], rz[:, np.newaxis])\n",
    "fr = fr[np.newaxis, np.newaxis, :, :]\n",
    "print('fr = rest-frame orbital frequency centers =\\n',\n",
    "        fr)"
   ]
  },
  {
   "attachments": {},
   "cell_type": "markdown",
   "metadata": {},
   "source": [
    "strain amplitude of single source (separate for each bin), $h_s$\n",
    "$$h_s = \\frac{A M_c (2M_c f_{r,orb})^{2/3}}{ d_c}$$\n",
    "where $A$ is a constant,\n",
    "$$A = \\frac{8 \\times G^{5/3} \\times \\pi^{2/3}}{\\sqrt(10) c^4}$$\n",
    "\n",
    "characteristic strain for a single source (separate for each bin)\n",
    "$$h_c^2 = h_s^2 \\times \\frac{f_\\mathrm{obs,\\ orb}}{{df_\\mathrm{obs,\\ orb}}} \n",
    "\\\\= h_s^2 \\times \\frac{\\mathrm{obs\\ frame\\ orb\\ freq\\ center}}{\\mathrm{freq\\ bin\\ width}}$$\n"
   ]
  },
  {
   "attachments": {},
   "cell_type": "markdown",
   "metadata": {},
   "source": [
    "\n",
    "* To realize: $h_c^2 = h_c^2 * \\mathrm{poisson(number)}$ \n",
    "* Multiple realizations: same but with shape thing\n",
    "* Unrealized: $h_c^2 = h_c^2 * number$ - adds up hc from all the binaries in the bin (not discrete)\n",
    "\\\n"
   ]
  },
  {
   "attachments": {},
   "cell_type": "markdown",
   "metadata": {},
   "source": [
    "\n",
    "Number $N = \\int \\frac{d^3N/dV}{dzd\\log{M}dq d\\ln{f_r}} d^3N dq dz d\\log{M} dV$\n",
    "If sum, \n",
    "$$h_c^2 = \\sum_{M,q,z} h_{c,\\mathrm{M,q,z}}^2$$\n",
    "\n",
    "$$h_c = \\sqrt{h_c}$$\n",
    "\n",
    "All together: \n",
    "$$\n",
    "h_c^2 = \\sum_{M,q,z} \\big(    h_s^2 \\times \\frac{f_\\mathrm{obs,\\ orb}}{{df_\\mathrm{obs,\\ orb}}} \\big) \\\\\n",
    "\n",
    "\\sum_{M,q,z} \\big(\\frac{A M_c (2M_c f_{r,orb})^{2/3}}{ d_c} \\frac{f_\\mathrm{obs,\\ orb}}{{df_\\mathrm{obs,\\ orb}}} \\big)\n",
    "$$\n"
   ]
  },
  {
   "cell_type": "code",
   "execution_count": 12,
   "metadata": {},
   "outputs": [
    {
     "name": "stdout",
     "output_type": "stream",
     "text": [
      "hs = single source strain =\n",
      " [[[[2.92011e-19 4.63539e-19 6.07407e-19 7.35822e-19 8.82075e-19]\n",
      "   [3.04824e-20 4.83879e-20 6.34060e-20 7.68109e-20 9.20780e-20]\n",
      "   [4.45215e-21 7.06734e-21 9.26084e-21 1.12187e-20 1.34486e-20]]]\n",
      "\n",
      "\n",
      " [[[1.35540e-17 2.15156e-17 2.81934e-17 3.41538e-17 4.09423e-17]\n",
      "   [1.41487e-18 2.24597e-18 2.94305e-18 3.56525e-18 4.27388e-18]\n",
      "   [2.06650e-19 3.28037e-19 4.29850e-19 5.20726e-19 6.24227e-19]]]] (2, 1, 3, 5)\n",
      "recall edges =\n",
      " [array([1.e+39, 1.e+40, 1.e+41]), array([0.1, 1. ]), array([0.001, 0.01 , 0.1  , 1.   ]), array([5.0e-09, 1.5e-08, 2.5e-08, 3.5e-08, 4.5e-08, 6.0e-08])]\n",
      "2 total masses x 1 mass ratio x 3 redshifts x 5 frequencies\n"
     ]
    }
   ],
   "source": [
    "\n",
    "# get gw strain from every individual source \n",
    "hs = utils.gw_strain_source(mc, dc, fr)\n",
    "print('hs = single source strain =\\n', hs, hs.shape)\n",
    "print('recall edges =\\n', edges)\n",
    "print('2 total masses x 1 mass ratio x 3 redshifts x 5 frequencies')"
   ]
  },
  {
   "cell_type": "code",
   "execution_count": 13,
   "metadata": {},
   "outputs": [
    {
     "name": "stdout",
     "output_type": "stream",
     "text": [
      "hc = characteristic strain =\n",
      " [[[[8.52705e-38 4.29736e-37 1.10683e-36 2.16573e-36 2.72320e-36]\n",
      "   [9.29179e-40 4.68277e-39 1.20610e-38 2.35997e-38 2.96743e-38]\n",
      "   [1.98216e-41 9.98947e-41 2.57290e-40 5.03438e-40 6.33023e-40]]]\n",
      "\n",
      "\n",
      " [[[1.83710e-34 9.25839e-34 2.38460e-33 4.66593e-33 5.86695e-33]\n",
      "   [2.00186e-36 1.00887e-35 2.59846e-35 5.08440e-35 6.39313e-35]\n",
      "   [4.27044e-38 2.15217e-37 5.54313e-37 1.08462e-36 1.36381e-36]]]]\n"
     ]
    }
   ],
   "source": [
    "# characteristic strain calculated fromm GW strain\n",
    "hc = (hs ** 2) * (fc / df)\n",
    "print('hc = characteristic strain =\\n', hc)"
   ]
  },
  {
   "attachments": {},
   "cell_type": "markdown",
   "metadata": {},
   "source": [
    "hc = (hs ** 2) * (fc / df)\n",
    "\n",
    "$h_c = h_s^2 \\times \\frac{\\mathrm{obs\\ frame\\ orb\\ freq}}{\\mathrm{freq\\ bin\\ width}}$"
   ]
  },
  {
   "attachments": {},
   "cell_type": "markdown",
   "metadata": {},
   "source": [
    "# GWs by Loops"
   ]
  },
  {
   "cell_type": "code",
   "execution_count": 36,
   "metadata": {},
   "outputs": [],
   "source": [
    "def gws_by_loops(edges, number, realize, print_test = False):\n",
    "       \n",
    "    \"\"\" Inefficient way to calculate strain from numbered \n",
    "    grid integrated\n",
    "\n",
    "    Parameters\n",
    "    ----------\n",
    "    edges : (4,) list of 1darrays\n",
    "        A list containing the edges along each dimension.  The four dimensions correspond to\n",
    "        total mass, mass ratio, redshift, and observer-frame orbital frequency.\n",
    "        The length of each of the four arrays is M, Q, Z, F.\n",
    "    number : (M-1, Q-1, Z-1, F-1) ndarray\n",
    "        The number of binaries in each bin of parameter space.  This is calculated by integrating\n",
    "        `dnum` over each bin.\n",
    "    realize : bool or int,\n",
    "        Specification of how to construct one or more discrete realizations.\n",
    "        If a `bool` value, then whether or not to construct a realization.\n",
    "        If an `int` value, then how many discrete realizations to construct.\n",
    "    sum : bool,\n",
    "        Whether or not to sum over axes {0, 1, 2}.\n",
    "\n",
    "    Returns\n",
    "    -------\n",
    "    hc : ndarray\n",
    "        Characteristic strain of the GWB.\n",
    "        The shape depends on whether `sum` is true or false.\n",
    "        sum = True:  shape is (F-1,)\n",
    "        sum = False: shape is (M-1, Q-1, Z-1, F-1)\n",
    "\n",
    "    \"\"\"\n",
    "    if(print_test):\n",
    "        print('INPUTS: edges:', len(edges), '\\n', edges, \n",
    "        '\\nINPUTS:number:', number.shape, '\\n', number,'\\n')\n",
    "\n",
    "    # Frequency bin midpoints\n",
    "    foo = edges[-1]                   #: should be observer-frame orbital-frequencies\n",
    "    df = np.diff(foo)                 #: frequency bin widths\n",
    "    fc = kale.utils.midpoints(foo)    #: use frequency-bin centers for strain (more accurate!)\n",
    "\n",
    "    # All other bin midpoints\n",
    "    mt = kale.utils.midpoints(edges[0]) #: total mass\n",
    "    mr = kale.utils.midpoints(edges[1]) #: mass ratio\n",
    "    rz = kale.utils.midpoints(edges[2]) #: redshift\n",
    "\n",
    "    if(print_test):\n",
    "        print('Observer frame frequency centers: ', fc)\n",
    "        print('Mass edges: ', mt.shape, mt)\n",
    "        print('Ratio edges:', mr.shape, mr)\n",
    "        print('Redshift edges:', rz.shape, rz,'\\n')\n",
    "\n",
    "    # Chirp mass and comoving distance\n",
    "    # mc = utils.chirp_mass_mtmr(mt[:, np.newaxis], mr[np.newaxis, :])\n",
    "    # dc = holo.cosmo.comoving_distance(rz).cgs.value\n",
    "    # if(print_test):\n",
    "    #     print('Chirp mass', mc.shape, '\\n', mc)\n",
    "        # print('Comoving distance:', dc,'\\n')\n",
    "\n",
    "    # Convert freq bin centers to rest-frame\n",
    "    # fr = utils.frst_from_fobs(fc[np.newaxis, :], rz[:, np.newaxis])\n",
    "    # if(print_test):\n",
    "    #     print('Rest frame frequency centers:', fr.shape, \n",
    "    #         '\\n',fr,'\\n')\n",
    "    \n",
    "    # get strain for each bin\n",
    "    hc_grid = np.empty_like(number)\n",
    "    for m_idx in range(len(mt)):\n",
    "        for q_idx in range(len(mr)):\n",
    "            for z_idx in range(len(rz)):\n",
    "                cmass = holo.utils.chirp_mass_mtmr(mt[m_idx], mr[q_idx])\n",
    "                cdist = holo.cosmo.comoving_distance(rz[z_idx]).cgs.value\n",
    "                if(print_test):\n",
    "                    print('BIN mt=%.2e, mr=%.2e, rz=%.2e' %\n",
    "                        (mt[m_idx], mr[q_idx], rz[z_idx]))\n",
    "                    print('\\t m_c = %.2e, d_c = %.2e' \n",
    "                        % (cmass, cdist))\n",
    "                for f_idx in range(len(fc)):\n",
    "                    rfreq = holo.utils.frst_from_fobs(fc[f_idx], rz[z_idx])\n",
    "                    hs_mqzf = utils.gw_strain_source(cmass, cdist, rfreq)\n",
    "                    hc_dlnf = hs_mqzf**2 * (fc[f_idx]/df[f_idx])\n",
    "                    if(print_test):\n",
    "                        print('\\t\\tfr = %.2fnHz, h_s = %.2e, h_c^2/dlnf = %.2e' \n",
    "                            % (rfreq*10**9, hs_mqzf, hc_dlnf))\n",
    "                    hc_grid[m_idx, q_idx, z_idx, f_idx] = hc_dlnf\n",
    "\n",
    "    if(realize == False):\n",
    "        hc_grid *= number\n",
    "    elif(realize == True):\n",
    "        hc_grid *= np.random.poisson(number)\n",
    "\n",
    "    #not sure if this part will work\n",
    "    elif utils.isinteger(realize):\n",
    "        try:\n",
    "            realizations = np.empty(realize)\n",
    "            for real in range(realize): \n",
    "                realizations[real]= gws_by_loops(edges, number, realize=True)\n",
    "            hc_grid = realizations\n",
    "        except:\n",
    "            print(\"Something went wrong when you tried to do multiple realizations.\")\n",
    "    print('hc shape:', hc.shape)\n",
    "\n",
    "    return hc\n",
    "\n",
    "\n",
    "    \n",
    "\n"
   ]
  },
  {
   "cell_type": "code",
   "execution_count": 37,
   "metadata": {},
   "outputs": [
    {
     "name": "stdout",
     "output_type": "stream",
     "text": [
      "INPUTS: edges: 4 \n",
      " [array([1.e+39, 1.e+40, 1.e+41]), array([0.1, 1. ]), array([0.001, 0.01 , 0.1  , 1.   ]), array([5.0e-09, 1.5e-08, 2.5e-08, 3.5e-08, 4.5e-08, 6.0e-08])] \n",
      "INPUTS:number: (2, 1, 3, 5) \n",
      " [[[[0.0000e+00 0.0000e+00 0.0000e+00 0.0000e+00 0.0000e+00]\n",
      "   [8.8275e+06 6.4642e+05 1.4442e+05 5.0086e+04 2.7764e+04]\n",
      "   [1.0939e+09 8.0105e+07 1.7896e+07 6.2067e+06 3.4405e+06]]]\n",
      "\n",
      "\n",
      " [[[0.0000e+00 0.0000e+00 0.0000e+00 0.0000e+00 0.0000e+00]\n",
      "   [1.0989e+05 8.0473e+03 1.7978e+03 6.2351e+02 3.4563e+02]\n",
      "   [1.2899e+07 9.4460e+05 2.1103e+05 7.3189e+04 4.0571e+04]]]] \n",
      "\n",
      "Observer frame frequency centers:  [1.00e-08 2.00e-08 3.00e-08 4.00e-08 5.25e-08]\n",
      "Mass edges:  (2,) [5.5e+39 5.5e+40]\n",
      "Ratio edges: (1,) [0.55]\n",
      "Redshift edges: (3,) [0.0055 0.055  0.55  ] \n",
      "\n",
      "BIN mt=5.50e+39, mr=5.50e-01, rz=5.50e-03\n",
      "\t m_c = 2.27e+39, d_c = 7.33e+25\n",
      "\t\tfr = 10.06nHz, h_s = 2.92e-19, h_c^2/dlnf = 8.53e-38\n",
      "\t\tfr = 20.11nHz, h_s = 4.64e-19, h_c^2/dlnf = 4.30e-37\n",
      "\t\tfr = 30.17nHz, h_s = 6.07e-19, h_c^2/dlnf = 1.11e-36\n",
      "\t\tfr = 40.22nHz, h_s = 7.36e-19, h_c^2/dlnf = 2.17e-36\n",
      "\t\tfr = 52.79nHz, h_s = 8.82e-19, h_c^2/dlnf = 2.72e-36\n",
      "BIN mt=5.50e+39, mr=5.50e-01, rz=5.50e-02\n",
      "\t m_c = 2.27e+39, d_c = 7.25e+26\n",
      "\t\tfr = 10.55nHz, h_s = 3.05e-20, h_c^2/dlnf = 9.29e-40\n",
      "\t\tfr = 21.10nHz, h_s = 4.84e-20, h_c^2/dlnf = 4.68e-39\n",
      "\t\tfr = 31.65nHz, h_s = 6.34e-20, h_c^2/dlnf = 1.21e-38\n",
      "\t\tfr = 42.20nHz, h_s = 7.68e-20, h_c^2/dlnf = 2.36e-38\n",
      "\t\tfr = 55.39nHz, h_s = 9.21e-20, h_c^2/dlnf = 2.97e-38\n",
      "BIN mt=5.50e+39, mr=5.50e-01, rz=5.50e-01\n",
      "\t m_c = 2.27e+39, d_c = 6.42e+27\n",
      "\t\tfr = 15.50nHz, h_s = 4.45e-21, h_c^2/dlnf = 1.98e-41\n",
      "\t\tfr = 31.00nHz, h_s = 7.07e-21, h_c^2/dlnf = 9.99e-41\n",
      "\t\tfr = 46.50nHz, h_s = 9.26e-21, h_c^2/dlnf = 2.57e-40\n",
      "\t\tfr = 62.00nHz, h_s = 1.12e-20, h_c^2/dlnf = 5.03e-40\n",
      "\t\tfr = 81.38nHz, h_s = 1.34e-20, h_c^2/dlnf = 6.33e-40\n",
      "BIN mt=5.50e+40, mr=5.50e-01, rz=5.50e-03\n",
      "\t m_c = 2.27e+40, d_c = 7.33e+25\n",
      "\t\tfr = 10.06nHz, h_s = 1.36e-17, h_c^2/dlnf = 1.84e-34\n",
      "\t\tfr = 20.11nHz, h_s = 2.15e-17, h_c^2/dlnf = 9.26e-34\n",
      "\t\tfr = 30.17nHz, h_s = 2.82e-17, h_c^2/dlnf = 2.38e-33\n",
      "\t\tfr = 40.22nHz, h_s = 3.42e-17, h_c^2/dlnf = 4.67e-33\n",
      "\t\tfr = 52.79nHz, h_s = 4.09e-17, h_c^2/dlnf = 5.87e-33\n",
      "BIN mt=5.50e+40, mr=5.50e-01, rz=5.50e-02\n",
      "\t m_c = 2.27e+40, d_c = 7.25e+26\n",
      "\t\tfr = 10.55nHz, h_s = 1.41e-18, h_c^2/dlnf = 2.00e-36\n",
      "\t\tfr = 21.10nHz, h_s = 2.25e-18, h_c^2/dlnf = 1.01e-35\n",
      "\t\tfr = 31.65nHz, h_s = 2.94e-18, h_c^2/dlnf = 2.60e-35\n",
      "\t\tfr = 42.20nHz, h_s = 3.57e-18, h_c^2/dlnf = 5.08e-35\n",
      "\t\tfr = 55.39nHz, h_s = 4.27e-18, h_c^2/dlnf = 6.39e-35\n",
      "BIN mt=5.50e+40, mr=5.50e-01, rz=5.50e-01\n",
      "\t m_c = 2.27e+40, d_c = 6.42e+27\n",
      "\t\tfr = 15.50nHz, h_s = 2.07e-19, h_c^2/dlnf = 4.27e-38\n",
      "\t\tfr = 31.00nHz, h_s = 3.28e-19, h_c^2/dlnf = 2.15e-37\n",
      "\t\tfr = 46.50nHz, h_s = 4.30e-19, h_c^2/dlnf = 5.54e-37\n",
      "\t\tfr = 62.00nHz, h_s = 5.21e-19, h_c^2/dlnf = 1.08e-36\n",
      "\t\tfr = 81.38nHz, h_s = 6.24e-19, h_c^2/dlnf = 1.36e-36\n",
      "hc shape: (2, 1, 3, 5)\n",
      "hc shape: (2, 1, 3, 5)\n"
     ]
    }
   ],
   "source": [
    "np.set_printoptions(precision = 4)\n",
    "loop_hcF = gws_by_loops(edges, number, realize = False, print_test=True)\n",
    "loop_hcT = gws_by_loops(edges, number, realize = True)\n",
    "np.set_printoptions(precision = None)"
   ]
  },
  {
   "cell_type": "code",
   "execution_count": 87,
   "metadata": {},
   "outputs": [],
   "source": [
    "def gws_by_arrs(edges, number, realize, sum=False, print_test=False):\n",
    "\n",
    "\n",
    "    foo = edges[-1]                   #: should be observer-frame orbital-frequencies\n",
    "    df = np.diff(foo)                 #: frequency bin widths\n",
    "    fc = kale.utils.midpoints(foo)    #: use frequency-bin centers for strain (more accurate!)\n",
    "\n",
    "    # ---- calculate GW strain ----\n",
    "    mt = kale.utils.midpoints(edges[0])\n",
    "    mr = kale.utils.midpoints(edges[1])\n",
    "    rz = kale.utils.midpoints(edges[2])\n",
    "    mc = utils.chirp_mass_mtmr(mt[:, np.newaxis], mr[np.newaxis, :])\n",
    "    mc = mc[:, :, np.newaxis, np.newaxis]\n",
    "    if(print_test):\n",
    "        print('chirp mass: ', mc.shape, '\\n', mc)\n",
    "        print(mc[0,0,0,0])\n",
    "        print(mc[1,0,0,0])\n",
    "    dc = cosmo.comoving_distance(rz).cgs.value\n",
    "    dc = dc[np.newaxis, np.newaxis, :, np.newaxis]\n",
    "\n",
    "    if(print_test):\n",
    "        print('Observer frame frequency centers: ', fc)\n",
    "        print('Mass edges: ', mt.shape, mt)\n",
    "        print('Ratio edges:', mr.shape, mr)\n",
    "        print('Redshift edges:', rz.shape, rz,'\\n')\n",
    "\n",
    "    \n",
    "\n",
    "    # convert from observer-frame to rest-frame; still using frequency-bin centers\n",
    "    fr = utils.frst_from_fobs(fc[np.newaxis, :], rz[:, np.newaxis])\n",
    "    fr = fr[np.newaxis, np.newaxis, :, :]\n",
    "\n",
    "    hs = utils.gw_strain_source(mc, dc, fr)\n",
    "    hc = (hs ** 2) * (fc / df)\n",
    "    # print('mt', len(mt))\n",
    "    # print('dc', len(dc), dc.shape)\n",
    "    # print chirp mass and comoving distance\n",
    "    if(print_test):\n",
    "        for m_idx in range(len(mt)):\n",
    "            for q_idx in range(len(mr)):\n",
    "                for z_idx in range(len(rz)):\n",
    "                    print('BIN mt=%.2e, mr=%.2e, rz=%.2e' %\n",
    "                        (mt[m_idx], mr[q_idx], rz[z_idx]))\n",
    "                    print('m_idx = %d, q_idx = %d, z_idx=%d' % (m_idx, q_idx, z_idx))\n",
    "                    print('\\t m_c = %.2e, d_c = %.2e' \n",
    "                        % (mc[m_idx, q_idx, 0,0], dc[0, 0, z_idx,0]))\n",
    "                    # for f_idx in range(len(fc)):\n",
    "                    #     if(print_test):\n",
    "                    #         print('\\t\\tfr = %.2fnHz, h_s = %.2e, h_c^2/dlnf = %.2e' \n",
    "                    #             % (0, 0, 0, f_idx]*10**9, \n",
    "                    #             hs[m_idx, q_idx, z_idx, f_idx], hc[m_idx, q_idx, z_idx, f_idx]))\n",
    "    if(print_test):\n",
    "        for m_idx in range(len(mt)):\n",
    "            for q_idx in range(len(mr)):\n",
    "                for z_idx in range(len(rz)):\n",
    "\n",
    "    if realize is True:\n",
    "        hc = hc * np.random.poisson(number)\n",
    "    elif realize in [None, False]:\n",
    "        # print('err here')\n",
    "        # print('hc:\\n', hc, '\\nhc shape:', hc.shape)\n",
    "        # print('number:\\n', number, '\\nnumber shape', number.shape)\n",
    "        hc = hc * number\n",
    "    elif utils.isinteger(realize):\n",
    "        shape = number.shape + (realize,)\n",
    "        try:\n",
    "            hc = hc[..., np.newaxis] * np.random.poisson(number[..., np.newaxis], size=shape)\n",
    "        except ValueError as err:\n",
    "            log.error(str(err))\n",
    "            print(f\"{utils.stats(number)=}\")\n",
    "            print(f\"{number.max()=:.8e}\")\n",
    "            print(f\"{number.dtype=}\")\n",
    "            raise\n",
    "\n",
    "    else:\n",
    "        err = \"`realize` ({}) must be one of {{True, False, integer}}!\".format(realize)\n",
    "        log.error(err)\n",
    "        raise ValueError(err)\n",
    "\n",
    "    # Sum over M, Q, Z bins\n",
    "    # (M-1, Q-1, Z-1, F-1 [, R]) ==> (F-1, [, R])\n",
    "    if sum:\n",
    "        hc = np.sum(hc, axis=(0, 1, 2))\n",
    "\n",
    "    # convert from hc^2 to hc\n",
    "    hc = np.sqrt(hc)\n",
    "    print('hc shape:', hc.shape)\n",
    "    return hc"
   ]
  },
  {
   "cell_type": "code",
   "execution_count": 89,
   "metadata": {},
   "outputs": [
    {
     "name": "stdout",
     "output_type": "stream",
     "text": [
      "\n",
      "-----------by loops--------\n",
      "INPUTS: edges: 4 \n",
      " [array([1.e+39, 1.e+40, 1.e+41]), array([0.1, 1. ]), array([0.001, 0.01 , 0.1  , 1.   ]), array([5.0e-09, 1.5e-08, 2.5e-08, 3.5e-08, 4.5e-08, 6.0e-08])] \n",
      "INPUTS:number: (2, 1, 3, 5) \n",
      " [[[[0.0000e+00 0.0000e+00 0.0000e+00 0.0000e+00 0.0000e+00]\n",
      "   [8.8275e+06 6.4642e+05 1.4442e+05 5.0086e+04 2.7764e+04]\n",
      "   [1.0939e+09 8.0105e+07 1.7896e+07 6.2067e+06 3.4405e+06]]]\n",
      "\n",
      "\n",
      " [[[0.0000e+00 0.0000e+00 0.0000e+00 0.0000e+00 0.0000e+00]\n",
      "   [1.0989e+05 8.0473e+03 1.7978e+03 6.2351e+02 3.4563e+02]\n",
      "   [1.2899e+07 9.4460e+05 2.1103e+05 7.3189e+04 4.0571e+04]]]] \n",
      "\n",
      "Observer frame frequency centers:  [1.00e-08 2.00e-08 3.00e-08 4.00e-08 5.25e-08]\n",
      "Mass edges:  (2,) [5.5e+39 5.5e+40]\n",
      "Ratio edges: (1,) [0.55]\n",
      "Redshift edges: (3,) [0.0055 0.055  0.55  ] \n",
      "\n",
      "BIN mt=5.50e+39, mr=5.50e-01, rz=5.50e-03\n",
      "\t m_c = 2.27e+39, d_c = 7.33e+25\n",
      "\t\tfr = 10.06nHz, h_s = 2.92e-19, h_c^2/dlnf = 8.53e-38\n",
      "\t\tfr = 20.11nHz, h_s = 4.64e-19, h_c^2/dlnf = 4.30e-37\n",
      "\t\tfr = 30.17nHz, h_s = 6.07e-19, h_c^2/dlnf = 1.11e-36\n",
      "\t\tfr = 40.22nHz, h_s = 7.36e-19, h_c^2/dlnf = 2.17e-36\n",
      "\t\tfr = 52.79nHz, h_s = 8.82e-19, h_c^2/dlnf = 2.72e-36\n",
      "BIN mt=5.50e+39, mr=5.50e-01, rz=5.50e-02\n",
      "\t m_c = 2.27e+39, d_c = 7.25e+26\n",
      "\t\tfr = 10.55nHz, h_s = 3.05e-20, h_c^2/dlnf = 9.29e-40\n",
      "\t\tfr = 21.10nHz, h_s = 4.84e-20, h_c^2/dlnf = 4.68e-39\n",
      "\t\tfr = 31.65nHz, h_s = 6.34e-20, h_c^2/dlnf = 1.21e-38\n",
      "\t\tfr = 42.20nHz, h_s = 7.68e-20, h_c^2/dlnf = 2.36e-38\n",
      "\t\tfr = 55.39nHz, h_s = 9.21e-20, h_c^2/dlnf = 2.97e-38\n",
      "BIN mt=5.50e+39, mr=5.50e-01, rz=5.50e-01\n",
      "\t m_c = 2.27e+39, d_c = 6.42e+27\n",
      "\t\tfr = 15.50nHz, h_s = 4.45e-21, h_c^2/dlnf = 1.98e-41\n",
      "\t\tfr = 31.00nHz, h_s = 7.07e-21, h_c^2/dlnf = 9.99e-41\n",
      "\t\tfr = 46.50nHz, h_s = 9.26e-21, h_c^2/dlnf = 2.57e-40\n",
      "\t\tfr = 62.00nHz, h_s = 1.12e-20, h_c^2/dlnf = 5.03e-40\n",
      "\t\tfr = 81.38nHz, h_s = 1.34e-20, h_c^2/dlnf = 6.33e-40\n",
      "BIN mt=5.50e+40, mr=5.50e-01, rz=5.50e-03\n",
      "\t m_c = 2.27e+40, d_c = 7.33e+25\n",
      "\t\tfr = 10.06nHz, h_s = 1.36e-17, h_c^2/dlnf = 1.84e-34\n",
      "\t\tfr = 20.11nHz, h_s = 2.15e-17, h_c^2/dlnf = 9.26e-34\n",
      "\t\tfr = 30.17nHz, h_s = 2.82e-17, h_c^2/dlnf = 2.38e-33\n",
      "\t\tfr = 40.22nHz, h_s = 3.42e-17, h_c^2/dlnf = 4.67e-33\n",
      "\t\tfr = 52.79nHz, h_s = 4.09e-17, h_c^2/dlnf = 5.87e-33\n",
      "BIN mt=5.50e+40, mr=5.50e-01, rz=5.50e-02\n",
      "\t m_c = 2.27e+40, d_c = 7.25e+26\n",
      "\t\tfr = 10.55nHz, h_s = 1.41e-18, h_c^2/dlnf = 2.00e-36\n",
      "\t\tfr = 21.10nHz, h_s = 2.25e-18, h_c^2/dlnf = 1.01e-35\n",
      "\t\tfr = 31.65nHz, h_s = 2.94e-18, h_c^2/dlnf = 2.60e-35\n",
      "\t\tfr = 42.20nHz, h_s = 3.57e-18, h_c^2/dlnf = 5.08e-35\n",
      "\t\tfr = 55.39nHz, h_s = 4.27e-18, h_c^2/dlnf = 6.39e-35\n",
      "BIN mt=5.50e+40, mr=5.50e-01, rz=5.50e-01\n",
      "\t m_c = 2.27e+40, d_c = 6.42e+27\n",
      "\t\tfr = 15.50nHz, h_s = 2.07e-19, h_c^2/dlnf = 4.27e-38\n",
      "\t\tfr = 31.00nHz, h_s = 3.28e-19, h_c^2/dlnf = 2.15e-37\n",
      "\t\tfr = 46.50nHz, h_s = 4.30e-19, h_c^2/dlnf = 5.54e-37\n",
      "\t\tfr = 62.00nHz, h_s = 5.21e-19, h_c^2/dlnf = 1.08e-36\n",
      "\t\tfr = 81.38nHz, h_s = 6.24e-19, h_c^2/dlnf = 1.36e-36\n",
      "hc shape: (2, 1, 3, 5)\n",
      "\n",
      "-----------by grid arrays--------\n",
      "chirp mass:  (2, 1, 1, 1) \n",
      " [[[[2.2708e+39]]]\n",
      "\n",
      "\n",
      " [[[2.2708e+40]]]]\n",
      "2.270817672236486e+39\n",
      "2.2708176722364863e+40\n",
      "Observer frame frequency centers:  [1.00e-08 2.00e-08 3.00e-08 4.00e-08 5.25e-08]\n",
      "Mass edges:  (2,) [5.5e+39 5.5e+40]\n",
      "Ratio edges: (1,) [0.55]\n",
      "Redshift edges: (3,) [0.0055 0.055  0.55  ] \n",
      "\n",
      "BIN mt=5.50e+39, mr=5.50e-01, rz=5.50e-03\n",
      "m_idx = 0, q_idx = 0, z_idx=0\n",
      "\t m_c = 2.27e+39, d_c = 7.33e+25\n",
      "BIN mt=5.50e+39, mr=5.50e-01, rz=5.50e-02\n",
      "m_idx = 0, q_idx = 0, z_idx=1\n",
      "\t m_c = 2.27e+39, d_c = 7.25e+26\n",
      "BIN mt=5.50e+39, mr=5.50e-01, rz=5.50e-01\n",
      "m_idx = 0, q_idx = 0, z_idx=2\n",
      "\t m_c = 2.27e+39, d_c = 6.42e+27\n",
      "BIN mt=5.50e+40, mr=5.50e-01, rz=5.50e-03\n",
      "m_idx = 1, q_idx = 0, z_idx=0\n",
      "\t m_c = 2.27e+40, d_c = 7.33e+25\n",
      "BIN mt=5.50e+40, mr=5.50e-01, rz=5.50e-02\n",
      "m_idx = 1, q_idx = 0, z_idx=1\n",
      "\t m_c = 2.27e+40, d_c = 7.25e+26\n",
      "BIN mt=5.50e+40, mr=5.50e-01, rz=5.50e-01\n",
      "m_idx = 1, q_idx = 0, z_idx=2\n",
      "\t m_c = 2.27e+40, d_c = 6.42e+27\n",
      "hc shape: (2, 1, 3, 5)\n"
     ]
    }
   ],
   "source": [
    "np.set_printoptions(precision = 4)\n",
    "print('\\n-----------by loops--------')\n",
    "hc_loopF = gws_by_loops(edges, number, realize = False, print_test=True)\n",
    "print('\\n-----------by grid arrays--------')\n",
    "hc_arrF = gws_by_arrs(edges, number, realize = False, print_test=True)\n",
    "\n",
    "# hc_arrT = gws_by_arrs(edgeas, number, realize = True)\n",
    "np.set_printoptions(precision = None)"
   ]
  },
  {
   "cell_type": "code",
   "execution_count": 90,
   "metadata": {},
   "outputs": [
    {
     "name": "stdout",
     "output_type": "stream",
     "text": [
      "[[[[ True  True  True  True  True]\n",
      "   [ True  True  True  True  True]\n",
      "   [ True  True  True  True  True]]]\n",
      "\n",
      "\n",
      " [[[ True  True  True  True  True]\n",
      "   [ True  True  True  True  True]\n",
      "   [ True  True  True  True  True]]]]\n"
     ]
    }
   ],
   "source": [
    "# print(arr_hcF)\n",
    "# print(loop_hcF)\n",
    "print(hc_samF == hc_arrF)"
   ]
  },
  {
   "attachments": {},
   "cell_type": "markdown",
   "metadata": {},
   "source": [
    "# Test Cases"
   ]
  },
  {
   "cell_type": "code",
   "execution_count": 31,
   "metadata": {},
   "outputs": [
    {
     "name": "stdout",
     "output_type": "stream",
     "text": [
      "Something went wrong when you tried to do multiple realizations.\n"
     ]
    }
   ],
   "source": [
    "# get GWB spectrum\n",
    "hc_samF = holo.sam.gravwaves._gws_from_number_grid_integrated(edges, number, realize=False, sum=False)\n",
    "hc_samT = holo.sam.gravwaves._gws_from_number_grid_integrated(edges, number, realize=True, sum=False)\n",
    "hc_sam1 = holo.sam.gravwaves._gws_from_number_grid_integrated(edges, number, realize=1, sum=False)\n",
    "hc_sam3 = holo.sam.gravwaves._gws_from_number_grid_integrated(edges, number, realize=3, sum=False)\n",
    "\n",
    "hc_loopF = gws_by_loops(edges, number, realize=False)    \n",
    "hc_loopT = gws_by_loops(edges, number, realize=True)\n",
    "hc_loop1 = gws_by_loops(edges, number, realize=1)   \n",
    "hc_loop3 = gws_by_loops(edges, number, realize=3)   \n",
    "        "
   ]
  },
  {
   "cell_type": "code",
   "execution_count": 17,
   "metadata": {},
   "outputs": [
    {
     "name": "stdout",
     "output_type": "stream",
     "text": [
      "[[[[ 0.0000e+00  0.0000e+00  0.0000e+00  0.0000e+00  0.0000e+00]\n",
      "   [ 5.0063e-21  2.7224e-20 -9.5969e-21 -9.4640e-20 -1.1465e-20]\n",
      "   [ 1.0517e-21  1.0499e-20 -3.7585e-21 -7.9430e-21  1.3897e-20]]]\n",
      "\n",
      "\n",
      " [[[ 0.0000e+00  0.0000e+00  0.0000e+00  0.0000e+00  0.0000e+00]\n",
      "   [ 2.7137e-19 -3.1385e-19  3.6267e-18 -6.9372e-20 -1.5767e-18]\n",
      "   [ 3.9821e-20  2.9050e-19 -8.7822e-20  1.0304e-18 -8.9517e-19]]]]\n"
     ]
    }
   ],
   "source": [
    "print(hc_samF-hc_samT)"
   ]
  },
  {
   "cell_type": "code",
   "execution_count": 18,
   "metadata": {},
   "outputs": [
    {
     "name": "stdout",
     "output_type": "stream",
     "text": [
      "[[[[0.0000e+00 0.0000e+00 0.0000e+00 0.0000e+00 0.0000e+00]\n",
      "   [9.0566e-17 5.5019e-17 4.1735e-17 3.4380e-17 2.8703e-17]\n",
      "   [1.4725e-16 8.9455e-17 6.7857e-17 5.5899e-17 4.6668e-17]]]\n",
      "\n",
      "\n",
      " [[[0.0000e+00 0.0000e+00 0.0000e+00 0.0000e+00 0.0000e+00]\n",
      "   [4.6903e-16 2.8493e-16 2.1614e-16 1.7805e-16 1.4865e-16]\n",
      "   [7.4220e-16 4.5088e-16 3.4202e-16 2.8175e-16 2.3522e-16]]]]\n"
     ]
    }
   ],
   "source": [
    "print(hc_samF)"
   ]
  },
  {
   "cell_type": "code",
   "execution_count": 19,
   "metadata": {},
   "outputs": [
    {
     "name": "stdout",
     "output_type": "stream",
     "text": [
      "[[[[8.5270e-38 4.2974e-37 1.1068e-36 2.1657e-36 2.7232e-36]\n",
      "   [9.2918e-40 4.6828e-39 1.2061e-38 2.3600e-38 2.9674e-38]\n",
      "   [1.9822e-41 9.9895e-41 2.5729e-40 5.0344e-40 6.3302e-40]]]\n",
      "\n",
      "\n",
      " [[[1.8371e-34 9.2584e-34 2.3846e-33 4.6659e-33 5.8669e-33]\n",
      "   [2.0019e-36 1.0089e-35 2.5985e-35 5.0844e-35 6.3931e-35]\n",
      "   [4.2704e-38 2.1522e-37 5.5431e-37 1.0846e-36 1.3638e-36]]]]\n"
     ]
    }
   ],
   "source": [
    "print(hc_loopF)"
   ]
  },
  {
   "cell_type": "code",
   "execution_count": null,
   "metadata": {},
   "outputs": [],
   "source": []
  }
 ],
 "metadata": {
  "kernelspec": {
   "display_name": "Python 3",
   "language": "python",
   "name": "python3"
  },
  "language_info": {
   "codemirror_mode": {
    "name": "ipython",
    "version": 3
   },
   "file_extension": ".py",
   "mimetype": "text/x-python",
   "name": "python",
   "nbconvert_exporter": "python",
   "pygments_lexer": "ipython3",
   "version": "3.10.10"
  },
  "orig_nbformat": 4,
  "vscode": {
   "interpreter": {
    "hash": "17d459439548e0ef4d6a744a9fa4f3f6fa91b434189a6e542a76bffcd834cb9b"
   }
  }
 },
 "nbformat": 4,
 "nbformat_minor": 2
}
