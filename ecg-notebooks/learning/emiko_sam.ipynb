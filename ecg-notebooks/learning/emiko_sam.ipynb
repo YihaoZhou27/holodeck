{
 "cells": [
  {
   "cell_type": "code",
   "execution_count": null,
   "metadata": {},
   "outputs": [],
   "source": [
    "\n",
    "# these were in the holodeck notebooks, idk what they do\n",
    "###\n",
    "# %reload_ext autoreload\n",
    "# %autoreload 2\n",
    "\n",
    "# imports\n",
    "from importlib import reload\n",
    "\n",
    "import os\n",
    "import sys\n",
    "import logging\n",
    "import warnings\n",
    "import numpy as np\n",
    "import astropy as ap\n",
    "import scipy as sp\n",
    "import scipy.stats\n",
    "import matplotlib as mpl\n",
    "import matplotlib.pyplot as plt\n",
    "\n",
    "import h5py\n",
    "import tqdm.notebook as tqdm\n",
    "\n",
    "import kalepy as kale\n",
    "import kalepy.utils\n",
    "import kalepy.plot\n",
    "\n",
    "# append sys path for holodeck\n",
    "import sys\n",
    "sys.path.append('C:/Users/emiga/OneDrive/Cal/GWs/code/holodeck/')\n",
    "\n",
    "# import holodeck\n",
    "import holodeck as holo\n",
    "import holodeck.sam\n",
    "from holodeck import cosmo, utils, plot\n",
    "from holodeck.constants import MSOL, PC, YR, MPC, GYR\n",
    "\n",
    "# Silence annoying numpy errors\n",
    "np.seterr(divide='ignore', invalid='ignore', over='ignore')\n",
    "warnings.filterwarnings(\"ignore\", category=UserWarning)\n",
    "\n",
    "# Plotting settings\n",
    "# wait to uncomment this until I need them, to see what dif they make\n",
    "###\n",
    "# mpl.rc('font', **{'family': 'serif', 'sans-serif': ['Times'], 'size': 15})\n",
    "# mpl.rc('lines', solid_capstyle='round')\n",
    "# mpl.rc('mathtext', fontset='cm')\n",
    "# mpl.style.use('default')   # avoid dark backgrounds from dark theme vscode\n",
    "# plt.rcParams.update({'grid.alpha': 0.5})\n",
    "\n",
    "# define log\n",
    "# log = holo.log # is this meant to be logger.py? I can't find log\n",
    "# log.setLevel(logging.INFO)"
   ]
  },
  {
   "attachments": {},
   "cell_type": "markdown",
   "metadata": {},
   "source": [
    "construct SAM with default parameters"
   ]
  },
  {
   "cell_type": "code",
   "execution_count": null,
   "metadata": {},
   "outputs": [],
   "source": [
    "\n",
    "# define a sam using the default parameters \n",
    "# (did not need to write them all out but did so \n",
    "#  so I can copy and paste to make clear variations)\n",
    "sam_default = holo.sam.Semi_Analytic_Model(\n",
    "    mtot = (1.0e4*MSOL,1.0e11*MSOL, 61), \n",
    "    mrat=(1e-3, 1.0, 81), \n",
    "    redz=(1e-3, 10.0, 101),\n",
    "    shape=None,\n",
    "    gsmf=holo.sam.GSMF_Schechter, \n",
    "    gpf=holo.sam.GPF_Power_Law, \n",
    "    gmt=holo.sam.GMT_Power_Law, \n",
    "    mmbulge=holo.relations.MMBulge_MM2013\n",
    ")\n",
    "## default parameters:\n",
    "######\n",
    "# mtot=(1.0e4*MSOL, 1.0e11*MSOL, 61), \n",
    "# mrat=(1e-3, 1.0, 81), \n",
    "# redz=(1e-3, 10.0, 101),\n",
    "# shape=None,\n",
    "# gsmf=GSMF_Schechter, \n",
    "# gpf=GPF_Power_Law, \n",
    "# gmt=GMT_Power_Law, \n",
    "# mmbulge=relations.MMBulge_MM2013\n",
    "######\\\n",
    "\n",
    "\n",
    "## could also set using \n",
    "# gsmf = holo.sam.GSMF_Schechter()               # Galaxy Stellar-Mass Function (GSMF)\n",
    "# gpf = holo.sam.GPF_Power_Law()                 # Galaxy Pair Fraction         (GPF)\n",
    "# gmt = holo.sam.GMT_Power_Law()                 # Galaxy Merger Time           (GMT)\n",
    "# mmbulge = holo.relations.MMBulge_Standard()    # M-MBulge Relation            (MMB)\n",
    "# hard = holo.evolution.Hard_GW()"
   ]
  },
  {
   "attachments": {},
   "cell_type": "markdown",
   "metadata": {},
   "source": [
    "choose observed GW frequency bins by nyquist sampling"
   ]
  },
  {
   "attachments": {},
   "cell_type": "markdown",
   "metadata": {},
   "source": [
    "Next, semi-analytic-models.ipynb \n",
    "* fobs_edges = utils.nyquist_freqs_edges(...) chooses edges of frequency bins\n",
    "* gwb = sam.gwb(fobs_edges,...) calculates GW frequencies for many different realizations, function of fobs_edges\n",
    "* plots realizations\n",
    "* sam = sam.Semi_Analytic_Model using different gsmf, gpf, gmt, and mmbulge (before was default)\n",
    "* calculate distrib of GWB amplitudes, plot\n",
    "\n"
   ]
  },
  {
   "attachments": {},
   "cell_type": "markdown",
   "metadata": {},
   "source": [
    "\n",
    "Or sam_discretization \n",
    "* defines a function sample_at_fbin to sample by frequency bin (*not sure what this means*), plots\n",
    "* sample (discretize) assuming GW-driven evolutions\n",
    "  - sample_sam_with_hardening to get vals, weights, edges, dens, mass, plot (*error here*)\n",
    "  - gravwaves._strains_from_samples(vals) gets the strains using vals found in sample_sam_with_hardening -> GW driven only strains, plots\n",
    "  - get GW (gw_freqs, gwf, gwb) for the grav-driven hardening sample using sam._gws_from_samples, plots\n",
    "* do similar but now with realistic hardening rate...? is this an alternative method to prev sampling or this same sample after some evolution?"
   ]
  },
  {
   "attachments": {},
   "cell_type": "markdown",
   "metadata": {},
   "source": [
    "Or sam_turnover.ipynb\n",
    "* gwb = sam.gwb(fobs, ...) calculates GWs for many realizations\n",
    "* plots"
   ]
  },
  {
   "attachments": {},
   "cell_type": "markdown",
   "metadata": {},
   "source": [
    "simplest option seems to be to calculate GWB (without first defining edges) like in sam_turnover"
   ]
  },
  {
   "cell_type": "code",
   "execution_count": null,
   "metadata": {},
   "outputs": [],
   "source": [
    "# using fobs = utils.nyquist_freqs_\n",
    "fobs_default = utils.nyquist_freqs(15*YR, .1*YR)\n",
    "# timing parameters: \n",
    "#   dur = duration of observations, default 15*YR\n",
    "#   cad = cadence of observation, default .1*YR\n",
    "#   (optional) trim: boundaries, i.e remove values outside range\n",
    "\n",
    "gwb_from_fobs = sam.Semi_Analytic_Model.gwb(fobs_gw_edges=fobs_default, realize = False)\n",
    "# default: \n",
    "#  fobs_gw_edges needs defining, \n",
    "#  hard=holo.evolution.Hard_GW, \n",
    "#  realize=False, if this were left False, would not discretize\n",
    "#                 by sampling from Poisson distribution\n",
    "print(gwb_from_obs.shape)"
   ]
  },
  {
   "cell_type": "code",
   "execution_count": null,
   "metadata": {},
   "outputs": [],
   "source": [
    "print(gwb_from_fobs.shape)\n",
    "x_integers = np.linspace(0,len(gwb_from_fobs)-1, len(gwb_from_fobs))\n",
    "plt.plot(x_integers, gwb_from_fobs)"
   ]
  },
  {
   "cell_type": "code",
   "execution_count": null,
   "metadata": {},
   "outputs": [],
   "source": [
    "# alternatively, using fobs_edges\n",
    "fobs_edges_default = utils.nyquist_freqs_edges(15*YR, .1*YR)\n",
    "# default parameters: \n",
    "# dur: float = 15.0*YR, \n",
    "# cad: float = 0.1*YR, \n",
    "# trim: Optional[Tuple[float, float]] = None\n",
    "\n",
    "gwb_from_edges = sam.gwb(fobs_edges_default, realize = False)\n",
    "print(gwb_from_edges.shape)"
   ]
  },
  {
   "cell_type": "code",
   "execution_count": null,
   "metadata": {},
   "outputs": [],
   "source": [
    "print(gwb_from_edges.shape)\n",
    "x_integers = np.linspace(0,len(gwb_from_edges)-1, len(gwb_from_edges))\n",
    "plt.plot(x_integers, gwb_from_edges)"
   ]
  },
  {
   "attachments": {},
   "cell_type": "markdown",
   "metadata": {},
   "source": [
    "Plot gwb_from_edges and gwb_from_fobs, both are not Poisson sampled"
   ]
  },
  {
   "cell_type": "code",
   "execution_count": null,
   "metadata": {},
   "outputs": [],
   "source": [
    "nsamp = 2\n",
    "fig, ax = plot.figax(xlabel='Frequency $f_\\mathrm{obs}$ [1/yr]',\n",
    "                     ylabel='Characteristic Strain $h_c$')\n",
    "                     \n",
    "\n",
    "# semi-analytic-model uses xx = fobs * YR\n",
    "# this is the one that made gwb from edges\n",
    "xx_sam = fobs_default * YR\n",
    "print('semi-analytic-model makes xx_sam shape =',\n",
    "        xx_sam.shape) # (75,)\n",
    "# semi-analytic-model used  np.median(gwb, axis=-1) for y\n",
    "# but we don't need median because only one realization\n",
    "ax.plot(xx_sam, gwb_from_edges, label='sam, from edges')\n",
    "\n",
    "\n",
    "# sam_discretiztion used xx = kale.utils.midpoints(fobs) * YR, \n",
    "# maybe this gets midpoints if the fobs array is edges\n",
    "xx_disc = kale.utils.midpoints(fobs_default) * YR\n",
    "print('sam_discretization makes xx.disc shape =', \n",
    "        xx_disc.shape) # (74,)\n",
    "# instead of gwb = sam.gwb() they used\n",
    "# gwf_freqs, gwf, gwb = holo.sam._gws_from_samples(vals, weights, fobs)\n",
    "# but maybe gwb part is the same, not sure if weighting matters\n",
    "# here we're plotting regular gwb, not their sampling version\n",
    "ax.plot(xx_disc, gwb_from_fobs, label='sam_discretization, from fobs')\n",
    "\n",
    "# sam_turnover used xx = (fobs[1:] + fobs[:-1]*0.5)\n",
    "# seems like a way to get centers/edges since only fobs is defined\n",
    "xx_turn = (fobs_default[1:] + fobs_default[:-1]) * 0.5\n",
    "print('sam_turnover makes xx.turn shape =', \n",
    "        xx_turn.shape) # (74,)\n",
    "ax.plot(xx_turn, gwb_from_fobs, label='sam_turnover, from fobs', \n",
    "linestyle = 'dashed')\n",
    "\n",
    "# gwb description from sam.py : (F,[R,]) ndarray of scalar\n",
    "#     Dimensionless, characteristic strain at each frequency.\n",
    "#     If `realize` is an integer with value R, then R realizations of the GWB are returned,\n",
    "#     such that `hc` has shape (F,R,).\n",
    "\n",
    "# since mine has no sampling, shape is just \n",
    "# (74,) from fobs and (75,) from edges\n",
    "\n",
    "\n",
    "ax.legend()"
   ]
  },
  {
   "cell_type": "code",
   "execution_count": null,
   "metadata": {},
   "outputs": [],
   "source": []
  },
  {
   "cell_type": "code",
   "execution_count": null,
   "metadata": {},
   "outputs": [],
   "source": []
  }
 ],
 "metadata": {
  "kernelspec": {
   "display_name": "Python 3",
   "language": "python",
   "name": "python3"
  },
  "language_info": {
   "codemirror_mode": {
    "name": "ipython",
    "version": 3
   },
   "file_extension": ".py",
   "mimetype": "text/x-python",
   "name": "python",
   "nbconvert_exporter": "python",
   "pygments_lexer": "ipython3",
   "version": "3.10.10"
  },
  "vscode": {
   "interpreter": {
    "hash": "17d459439548e0ef4d6a744a9fa4f3f6fa91b434189a6e542a76bffcd834cb9b"
   }
  }
 },
 "nbformat": 4,
 "nbformat_minor": 2
}
