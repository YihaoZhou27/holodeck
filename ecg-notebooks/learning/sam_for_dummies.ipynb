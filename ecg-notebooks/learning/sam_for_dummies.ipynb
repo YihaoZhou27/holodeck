{
 "cells": [
  {
   "cell_type": "code",
   "execution_count": 1,
   "id": "f9a9d9bc",
   "metadata": {},
   "outputs": [],
   "source": [
    "# MOD 1: needed to append sys path to import holodeck\n",
    "import sys\n",
    "sys.path.append('C:/Users/emiga/OneDrive/Cal/GWs/code/holodeck')\n",
    "\n",
    "\n",
    "# %load ../init.ipy\n",
    "%reload_ext autoreload\n",
    "%autoreload 2\n",
    "from importlib import reload\n",
    "\n",
    "import os\n",
    "import sys\n",
    "import logging\n",
    "import warnings\n",
    "import numpy as np\n",
    "import astropy as ap\n",
    "import scipy as sp\n",
    "import scipy.stats\n",
    "import matplotlib as mpl\n",
    "import matplotlib.pyplot as plt\n",
    "\n",
    "import h5py\n",
    "import tqdm.notebook as tqdm\n",
    "\n",
    "import kalepy as kale\n",
    "import kalepy.utils\n",
    "import kalepy.plot\n",
    "\n",
    "import holodeck as holo\n",
    "import holodeck.sam\n",
    "from holodeck import cosmo, utils, plot\n",
    "from holodeck.constants import MSOL, PC, YR, MPC, GYR\n",
    "\n",
    "# Silence annoying numpy errors\n",
    "np.seterr(divide='ignore', invalid='ignore', over='ignore')\n",
    "warnings.filterwarnings(\"ignore\", category=UserWarning)\n",
    "\n",
    "# Plotting settings\n",
    "mpl.rc('font', **{'family': 'serif', 'sans-serif': ['Times'], 'size': 15})\n",
    "mpl.rc('lines', solid_capstyle='round')\n",
    "mpl.rc('mathtext', fontset='cm')\n",
    "mpl.style.use('default')   # avoid dark backgrounds from dark theme vscode\n",
    "plt.rcParams.update({'grid.alpha': 0.5})\n",
    "\n",
    "log = holo.log\n",
    "log.setLevel(logging.INFO)"
   ]
  },
  {
   "attachments": {},
   "cell_type": "markdown",
   "id": "dea5337b",
   "metadata": {},
   "source": [
    "# Frequency Bins\n",
    "Choose the edges of the frequency bins at which to calculate the GWB"
   ]
  },
  {
   "cell_type": "code",
   "execution_count": 7,
   "id": "a2e69ca6",
   "metadata": {},
   "outputs": [
    {
     "name": "stdout",
     "output_type": "stream",
     "text": [
      "dur=5.000000e+07 cad=5.000000e+06\n",
      "fobs= [2.e-08 4.e-08 6.e-08 8.e-08 1.e-07]\n",
      "fobs_edges= [1.0e-08 3.0e-08 5.0e-08 7.0e-08 9.0e-08 1.2e-07]\n"
     ]
    }
   ],
   "source": [
    "dur = 5.0*YR/3.1557600\n",
    "cad = .5*YR/3.1557600\n",
    "print('dur=%e cad=%e' % (dur,cad))\n",
    "fobs = utils.nyquist_freqs(dur,cad)\n",
    "print('fobs=', fobs)\n",
    "fobs_edges = utils.nyquist_freqs_edges(dur,cad)\n",
    "print('fobs_edges=',fobs_edges)\n",
    "# print(f\"Number of frequency bins: {fobs.size-1}\")\n",
    "# print(f\"  between [{fobs[0]*YR:.2f}, {fobs[-1]*YR:.2f}] 1/yr\")\n",
    "# print(f\"          [{fobs[0]*1e9:.2f}, {fobs[-1]*1e9:.2f}] nHz\")"
   ]
  },
  {
   "cell_type": "markdown",
   "id": "e9c9485c",
   "metadata": {},
   "source": [
    "### Nyquist Freq Calculation"
   ]
  },
  {
   "cell_type": "code",
   "execution_count": 8,
   "id": "ea4284f4",
   "metadata": {},
   "outputs": [
    {
     "name": "stdout",
     "output_type": "stream",
     "text": [
      "fmin 2e-08 fmax 1e-07\n",
      "[2.e-08 4.e-08 6.e-08 8.e-08 1.e-07]\n",
      "[1.0e-08 3.0e-08 5.0e-08 7.0e-08 9.0e-08 1.1e-07]\n"
     ]
    }
   ],
   "source": [
    "# utils.nyquist_freqs code\n",
    "fmin = 1.0 / dur\n",
    "fmax = 1.0 / cad * 0.5\n",
    "print('fmin', fmin, 'fmax', fmax)\n",
    "# df = fmin / sample\n",
    "df = fmin    # bin width\n",
    "freqs = np.arange(fmin, fmax + df/10.0, df)   # centers\n",
    "print(freqs)\n",
    "freqs_edges = freqs - df/2.0    # shift to edges\n",
    "freqs_edges = np.concatenate([freqs_edges, [fmax + df/2]])\n",
    "print(freqs_edges)"
   ]
  },
  {
   "cell_type": "code",
   "execution_count": 9,
   "id": "de0f9a58",
   "metadata": {},
   "outputs": [
    {
     "name": "stdout",
     "output_type": "stream",
     "text": [
      "2e-08\n",
      "1e-07\n",
      "31557600.0\n",
      "2e-08\n",
      "freqs\n",
      " 2e-08 4e-08 6.000000000000001e-08 8e-08 1e-07\n",
      "1.02e-07\n",
      "freqs edges\n",
      "(1.000000e-08,3.000000e-08,5.000000e-08,7.000000e-08,9.000000e-08,1.100000e-07)\n"
     ]
    }
   ],
   "source": [
    "#calculator cell\n",
    "print(1/dur)\n",
    "print(1/2/cad)\n",
    "print(YR)\n",
    "width = 1/dur\n",
    "print(width)\n",
    "print('freqs\\n', 1/dur, 1/dur+width, \n",
    "      1/dur+2*width,\n",
    "      1/dur+3*width, \n",
    "      1/dur+4*width)\n",
    "print(fmax+df/10)\n",
    "print('freqs edges\\n(%e,%e,%e,%e,%e,%e)' %(1/dur-width/2,\n",
    "      1/dur+width-width/2,\n",
    "      1/dur+2*width-width/2,\n",
    "      1/dur+3*width-width/2,\n",
    "      1/dur+4*width-width/2,\n",
    "      1/2/cad+width/2))\n"
   ]
  },
  {
   "attachments": {},
   "cell_type": "markdown",
   "id": "630dd2a1",
   "metadata": {},
   "source": [
    "# SAM"
   ]
  },
  {
   "attachments": {},
   "cell_type": "markdown",
   "id": "f691ee46",
   "metadata": {},
   "source": [
    "Construct a semi-analytic-model"
   ]
  },
  {
   "attachments": {},
   "cell_type": "markdown",
   "id": "a9ff7227",
   "metadata": {},
   "source": [
    "## SAM Edges\n",
    "mtot, mrat, and redz"
   ]
  },
  {
   "cell_type": "code",
   "execution_count": 10,
   "id": "4f80bc42",
   "metadata": {},
   "outputs": [
    {
     "name": "stdout",
     "output_type": "stream",
     "text": [
      "1.988409870698051e+33\n",
      "sam.mtot (M_sun) [  502914.421587    5029144.21587004 50291442.15870041] \n",
      "sam.mrat [0.1 1. ] \n",
      "sam.redz [0.001 0.01  0.1   1.   ]\n",
      "sam.mtot [1.e+39 1.e+40 1.e+41]\n",
      "[array([1.e+39, 1.e+40, 1.e+41]), array([0.1, 1. ]), array([0.001, 0.01 , 0.1  , 1.   ])]\n",
      "1.988409870698051e+33\n"
     ]
    }
   ],
   "source": [
    "mtot=(1.0e6*MSOL/1.988409870698051, 1.0e8*MSOL/1.988409870698051, 3)\n",
    "print(MSOL)\n",
    "mrat=(1e-1, 1.0, 2)\n",
    "redz=(1e-3, 1.0, 4)\n",
    "sam = holo.sam.Semi_Analytic_Model(mtot=mtot, mrat=mrat, \n",
    "        redz=redz)\n",
    "# gsmf=GSMF_Schechter, \n",
    "# gpf=GPF_Power_Law, \n",
    "# gmt=GMT_Power_Law, \n",
    "# mmbulge=relations.MMBulge_MM2013\n",
    "   \n",
    "print('sam.mtot (M_sun)',sam.mtot/MSOL,\n",
    "'\\nsam.mrat',sam.mrat,\n",
    "'\\nsam.redz',sam.redz)\n",
    "print('sam.mtot',sam.mtot)\n",
    "print(sam.edges)\n",
    "print(MSOL)"
   ]
  },
  {
   "cell_type": "code",
   "execution_count": 11,
   "id": "3f2ab978",
   "metadata": {},
   "outputs": [
    {
     "name": "stdout",
     "output_type": "stream",
     "text": [
      "a\n",
      "a\n",
      "a\n",
      "t1 (1e+39, 1e+41, 3) mtot\n",
      "t2\n",
      "t1 (0.1, 1.0, 2) mrat\n",
      "t2\n",
      "t1 (0.001, 1.0, 4) redz\n",
      "t2\n",
      "par, name, ii=\n",
      "      [1.e+39 1.e+40 1.e+41] mtot 0\n",
      "par, name, ii=\n",
      "      [0.1 1. ] mrat 1\n",
      "par, name, ii=\n",
      "      [0.001 0.01  0.1   1.   ] redz 2\n",
      "ndarray name, par: redz [0.001 0.01  0.1   1.   ]\n"
     ]
    }
   ],
   "source": [
    "param_names = ['mtot', 'mrat', 'redz']\n",
    "params = [mtot, mrat, redz]\n",
    "shape=None\n",
    "\n",
    "        # Process grid specifications\n",
    "\n",
    "for ii, (par, name) in enumerate(zip(params, param_names)):\n",
    "            log.debug(f\"{name}: {par}\")\n",
    "            if isinstance(par, tuple) and (len(par) == 3):\n",
    "                print('a')\n",
    "                continue\n",
    "            elif isinstance(par, np.ndarray):\n",
    "                print('b')\n",
    "                continue\n",
    "            else:\n",
    "                err = (\n",
    "                    f\"{name} (type={type(par)}, len={len(par)}) must be a (3,) tuple specifying a log-spacing, \"\n",
    "                    \"or ndarray of grid edges!\"\n",
    "                )\n",
    "                log.exception(err)\n",
    "                print(err)\n",
    "                raise ValueError(err)\n",
    "# skip the \"if shape is not none\" stuff\n",
    "\n",
    "# Set grid-spacing for each parameter\n",
    "for ii, (par, name) in enumerate(zip(params, param_names)):\n",
    "    print('t1', par, name)\n",
    "    log.debug(f\"{name}: {par}\")\n",
    "    if isinstance(par, tuple) and (len(par) == 3):\n",
    "        print('t2')\n",
    "        par = np.logspace(*np.log10(par[:2]), par[2])\n",
    "    elif isinstance(par, np.ndarray):\n",
    "        print('t3')\n",
    "        par = np.copy(par)\n",
    "    else:\n",
    "        print('t4')\n",
    "        err = f\"{name} must be a (3,) tuple specifying a log-spacing; or ndarray of grid edges!  ({par})\"\n",
    "        log.exception(err)\n",
    "        raise ValueError(err)\n",
    "\n",
    "    log.debug(f\"{name}: [{par[0]}, {par[-1]}] {par.size}\")\n",
    "    params[ii] = par\n",
    "\n",
    "    \n",
    "# determine grid spacing\n",
    "for ii, (par, name) in enumerate(zip(params, param_names)):\n",
    "        log.debug(f\"{name}: {par}\")\n",
    "        print('par, name, ii=\\n     ',par, name, ii)\n",
    "if isinstance(par, tuple) and (len(par) == 3):\n",
    "    par = np.logspace(*np.log10(par[:2]), par[2])\n",
    "    print('tuple name, par:',name, par)\n",
    "elif isinstance(par, np.ndarray):\n",
    "    par = np.copy(par)\n",
    "    print('ndarray name, par:',name, par)\n",
    "else:\n",
    "    err = f\"{name} must be a (3,) tuple specifying a log-spacing; or ndarray of grid edges!  ({par})\"\n",
    "    log.exception(err)\n",
    "    print('ndarray name, par:',name, par)\n",
    "    raise ValueError(err)\n",
    "\n",
    "    log.debug(f\"{name}: [{par[0]}, {par[-1]}] {par.size}\")\n",
    "    params[ii] = par\n",
    "    # print(params)\n"
   ]
  },
  {
   "attachments": {},
   "cell_type": "markdown",
   "id": "4da73f8e",
   "metadata": {},
   "source": [
    "# gwb"
   ]
  },
  {
   "cell_type": "code",
   "execution_count": 12,
   "id": "e20a75b5",
   "metadata": {},
   "outputs": [
    {
     "name": "stdout",
     "output_type": "stream",
     "text": [
      "fobs_gw_edges [1.0e-08 3.0e-08 5.0e-08 7.0e-08 9.0e-08 1.1e-07]\n",
      "fobs_gw_cents [2.e-08 4.e-08 6.e-08 8.e-08 1.e-07]\n",
      "fobs_orb_edges [5.0e-09 1.5e-08 2.5e-08 3.5e-08 4.5e-08 5.5e-08]\n",
      "fobs_orb_cents [1.e-08 2.e-08 3.e-08 4.e-08 5.e-08]\n"
     ]
    }
   ],
   "source": [
    "fobs_gw_edges = freqs_edges\n",
    "print('fobs_gw_edges', fobs_gw_edges)\n",
    "\n",
    "gwb = sam.gwb(fobs_gw_edges, realize=False)    # calculate many different realizations\n",
    "\n",
    "\n",
    "fobs_gw_cents = kale.utils.midpoints(fobs_gw_edges)\n",
    "print('fobs_gw_cents', fobs_gw_cents)\n",
    "# ---- Get the differential-number of binaries for each bin\n",
    "# convert to orbital-frequency (from GW-frequency)\n",
    "fobs_orb_edges = fobs_gw_edges / 2.0\n",
    "fobs_orb_cents = fobs_gw_cents / 2.0\n",
    "print('fobs_orb_edges', fobs_orb_edges)\n",
    "print('fobs_orb_cents', fobs_orb_cents)"
   ]
  },
  {
   "cell_type": "code",
   "execution_count": null,
   "id": "ee1ea695",
   "metadata": {},
   "outputs": [],
   "source": []
  },
  {
   "attachments": {},
   "cell_type": "markdown",
   "id": "a05b4ec0",
   "metadata": {},
   "source": [
    "## gwb: dynamic_binary_number"
   ]
  },
  {
   "attachments": {},
   "cell_type": "markdown",
   "id": "c68bfaf0",
   "metadata": {},
   "source": [
    "### gwb: dynamic_binary_number: static_binary_density"
   ]
  },
  {
   "attachments": {},
   "cell_type": "markdown",
   "id": "dc5fa765",
   "metadata": {},
   "source": [
    "#### stellar masses"
   ]
  },
  {
   "cell_type": "code",
   "execution_count": 50,
   "id": "ac625193",
   "metadata": {},
   "outputs": [
    {
     "name": "stdout",
     "output_type": "stream",
     "text": [
      "(2, 3, 2)\n",
      "m1 [[9.09090909e+38 5.00000000e+38]\n",
      " [9.09090909e+39 5.00000000e+39]\n",
      " [9.09090909e+40 5.00000000e+40]]\n",
      "m2 [[9.09090909e+37 5.00000000e+38]\n",
      " [9.09090909e+38 5.00000000e+39]\n",
      " [9.09090909e+39 5.00000000e+40]]\n",
      "ratios [[0.1 1. ]\n",
      " [0.1 1. ]\n",
      " [0.1 1. ]]\n",
      "totals [[1.e+39 1.e+39]\n",
      " [1.e+40 1.e+40]\n",
      " [1.e+41 1.e+41]]\n",
      "primary masses:  [[6.96723892e+41 3.94263955e+41]\n",
      " [6.24369466e+42 3.53319842e+42]\n",
      " [5.59529010e+43 3.16627753e+43]]\n",
      "secondary masses:  [[7.77463038e+40 3.94263955e+41]\n",
      " [6.96723892e+41 3.53319842e+42]\n",
      " [6.24369466e+42 3.16627753e+43]]\n",
      "ratios [[0.1115884 1.       ]\n",
      " [0.1115884 1.       ]\n",
      " [0.1115884 1.       ]]\n",
      "totals [[7.74470196e+41 7.88527911e+41]\n",
      " [6.94041855e+42 7.06639683e+42]\n",
      " [6.21965957e+43 6.33255507e+43]]\n"
     ]
    }
   ],
   "source": [
    "# total-mass, mass-ratio ==> (M1, M2)\n",
    "masses = utils.m1m2_from_mtmr(sam.mtot[:, np.newaxis], sam.mrat[np.newaxis, :])\n",
    "print(masses.shape)\n",
    "print('m1',masses[0,:])\n",
    "print('m2',masses[1,:])\n",
    "# print(masses[:,2])\n",
    "print('ratios', np.array(masses[1,:])/np.array(masses[0,:]))\n",
    "print('totals', np.array(masses[1,:])+np.array(masses[0,:]))\n",
    "# BH-masses to stellar-masses\n",
    "masses = sam._mmbulge.mstar_from_mbh(masses, scatter=False)\n",
    "print('primary masses: ',masses[0,:])\n",
    "print('secondary masses: ',masses[1,:])\n",
    "print('ratios', np.array(masses[1,:])/np.array(masses[0,:]))\n",
    "print('totals', np.array(masses[0,:])+np.array(masses[1,:]))\n"
   ]
  },
  {
   "cell_type": "markdown",
   "id": "20c0b098",
   "metadata": {},
   "source": [
    "#### static_binary_density"
   ]
  },
  {
   "cell_type": "code",
   "execution_count": 51,
   "id": "ca2c3d10",
   "metadata": {},
   "outputs": [
    {
     "name": "stdout",
     "output_type": "stream",
     "text": [
      "mstar_rat [[0.1115884 1.       ]\n",
      " [0.1115884 1.       ]\n",
      " [0.1115884 1.       ]]\n",
      "mstar_tot [[7.74470196e+41 7.88527911e+41]\n",
      " [6.94041855e+42 7.06639683e+42]\n",
      " [6.21965957e+43 6.33255507e+43]]\n",
      "redz [[[0.001 0.01  0.1   1.   ]]]\n",
      "mstar_tot\n",
      " (3, 2, 4) \n",
      " [[[7.74470196e+41 7.74470196e+41 7.74470196e+41 7.74470196e+41]\n",
      "  [7.88527911e+41 7.88527911e+41 7.88527911e+41 7.88527911e+41]]\n",
      "\n",
      " [[6.94041855e+42 6.94041855e+42 6.94041855e+42 6.94041855e+42]\n",
      "  [7.06639683e+42 7.06639683e+42 7.06639683e+42 7.06639683e+42]]\n",
      "\n",
      " [[6.21965957e+43 6.21965957e+43 6.21965957e+43 6.21965957e+43]\n",
      "  [6.33255507e+43 6.33255507e+43 6.33255507e+43 6.33255507e+43]]]\n"
     ]
    }
   ],
   "source": [
    "# `mstar_tot` starts as the secondary mass, sorry\n",
    "mstar_pri, mstar_tot = masses\n",
    "# q = m2 / m1\n",
    "mstar_rat = mstar_tot / mstar_pri\n",
    "print('mstar_rat', mstar_rat)\n",
    "# M = m1 + m2\n",
    "mstar_tot = mstar_pri + mstar_tot\n",
    "print('mstar_tot', mstar_tot)\n",
    "redz = sam.redz[np.newaxis, np.newaxis, :]\n",
    "print('redz', redz)\n",
    "args = [mstar_pri[..., np.newaxis], mstar_rat[..., np.newaxis], mstar_tot[..., np.newaxis], redz]\n",
    "# Convert to shape (M, Q, Z)\n",
    "mstar_pri, mstar_rat, mstar_tot, redz = np.broadcast_arrays(*args)\n",
    "# print('mstar_pri', mstar_pri.shape, mstar_pri)\n",
    "# print('mstar_rat', mstar_rat.shape, mstar_rat)\n",
    "print('mstar_tot\\n', mstar_tot.shape, '\\n', mstar_tot)\n",
    "# print('redz', redz)"
   ]
  },
  {
   "cell_type": "code",
   "execution_count": 52,
   "id": "285d3dcc",
   "metadata": {},
   "outputs": [
    {
     "name": "stdout",
     "output_type": "stream",
     "text": [
      "[[[-1.         -1.          0.05842088  0.90887098]\n",
      "  [-1.         -1.          0.05842088  0.90887098]]\n",
      "\n",
      " [[-1.         -1.          0.05842088  0.90887098]\n",
      "  [-1.         -1.          0.05842088  0.90887098]]\n",
      "\n",
      " [[-1.         -1.          0.05842088  0.90887098]\n",
      "  [-1.         -1.          0.05842088  0.90887098]]]\n"
     ]
    }
   ],
   "source": [
    "# each of these could otherwise use MTOT\n",
    "mass_gsmf = mstar_pri\n",
    "mass_gpf = mstar_pri\n",
    "mass_gmt = mstar_pri\n",
    "\n",
    "# gsmf=GSMF_Schechter, \n",
    "# gpf=GPF_Power_Law, \n",
    "# gmt=GMT_Power_Law, \n",
    "# mmbulge=relations.MMBulge_MM2013\n",
    "\n",
    "zprime = sam._gmt.zprime(mass_gmt, mstar_rat, redz)\n",
    "print(zprime)"
   ]
  },
  {
   "attachments": {},
   "cell_type": "markdown",
   "id": "e5964629",
   "metadata": {},
   "source": [
    "##### GSMF_Schecter"
   ]
  },
  {
   "attachments": {},
   "cell_type": "markdown",
   "id": "8d8059ba",
   "metadata": {},
   "source": [
    "calls _gsmf(mass_gsmf, redz) with mass_gsmf=mstar_pri\n",
    "\n",
    "$$ \\mathrm{GSMF} = \\Phi(M,z) = \\frac{dn_G}{d\\log_{10}(M)} = \\ln(10)*\\phi * \\frac{m_\\mathrm{star}}{m_\\mathrm{mref}}^{1+\\alpha}\\times e^\\frac{m_\\mathrm{star}}{m_\\mathrm{mref}}$$"
   ]
  },
  {
   "cell_type": "code",
   "execution_count": 55,
   "id": "400d3705",
   "metadata": {},
   "outputs": [
    {
     "name": "stdout",
     "output_type": "stream",
     "text": [
      "[[[6.96723892e+41 6.96723892e+41 6.96723892e+41 6.96723892e+41]\n",
      "  [3.94263955e+41 3.94263955e+41 3.94263955e+41 3.94263955e+41]]\n",
      "\n",
      " [[6.24369466e+42 6.24369466e+42 6.24369466e+42 6.24369466e+42]\n",
      "  [3.53319842e+42 3.53319842e+42 3.53319842e+42 3.53319842e+42]]\n",
      "\n",
      " [[5.59529010e+43 5.59529010e+43 5.59529010e+43 5.59529010e+43]\n",
      "  [3.16627753e+43 3.16627753e+43 3.16627753e+43 3.16627753e+43]]]\n",
      "False\n",
      "\n",
      " [[[6.96723892e+41 6.96723892e+41 6.96723892e+41 6.96723892e+41]\n",
      "  [6.96723892e+41 6.96723892e+41 6.96723892e+41 6.96723892e+41]]\n",
      "\n",
      " [[6.24369466e+42 6.24369466e+42 6.24369466e+42 6.24369466e+42]\n",
      "  [6.24369466e+42 6.24369466e+42 6.24369466e+42 6.24369466e+42]]\n",
      "\n",
      " [[5.59529010e+43 5.59529010e+43 5.59529010e+43 5.59529010e+43]\n",
      "  [5.59529010e+43 5.59529010e+43 5.59529010e+43 5.59529010e+43]]]\n",
      "gsmf [[[0.01730046 0.01723279 0.01657041 0.01119722]\n",
      "  [0.01730046 0.01723279 0.01657041 0.01119722]]\n",
      "\n",
      " [[0.01005741 0.01001214 0.00957046 0.00609531]\n",
      "  [0.01005741 0.01001214 0.00957046 0.00609531]]\n",
      "\n",
      " [[0.00514529 0.0051191  0.00486439 0.00291996]\n",
      "  [0.00514529 0.0051191  0.00486439 0.00291996]]]\n"
     ]
    }
   ],
   "source": [
    "# testing GSMF dependence on phi\n",
    "print(mstar_pri)\n",
    "# print(mstar_pri[:,0,:])\n",
    "test_mstar = np.copy(mstar_pri[:,:,:])\n",
    "for q in range(len(test_mstar[0,:,0])):\n",
    "    test_mstar[:,q,:] = (mstar_pri[:,0,:])\n",
    "\n",
    "print(np.shares_memory(mstar_pri, test_mstar))\n",
    "print('\\n',test_mstar)\n",
    "# print(mstar_pri)\n",
    "\n",
    "# impact of q occurs in applying the mmbulge relation to \n",
    "# mpri and msec to get mstar_pri and mstar_sec\n",
    "print('gsmf',\n",
    "      sam._gsmf(test_mstar, redz))"
   ]
  },
  {
   "cell_type": "code",
   "execution_count": 31,
   "id": "ec8a4709",
   "metadata": {},
   "outputs": [
    {
     "name": "stdout",
     "output_type": "stream",
     "text": [
      "\n",
      "GSMF_Schechter(mass_gsmf, redz):\n",
      " [[[0.01730046 0.01723279 0.01657041 0.01119722]\n",
      "  [0.01985139 0.01977678 0.01904587 0.01306936]]\n",
      "\n",
      " [[0.01005741 0.01001214 0.00957046 0.00609531]\n",
      "  [0.01162106 0.01157053 0.01107713 0.00716418]]\n",
      "\n",
      " [[0.00514529 0.0051191  0.00486439 0.00291996]\n",
      "  [0.00632837 0.00629712 0.005993   0.00365316]]]\n"
     ]
    }
   ],
   "source": [
    "# return the number density of galaxies at a given stellar mass\n",
    "my_gsmf = sam._gsmf(mass_gsmf, redz)\n",
    "print('\\nGSMF_Schechter(mass_gsmf, redz):\\n', my_gsmf)\n",
    "# `gsmf` returns [1/Mpc^3]   `dtdz` returns [sec]\n",
    "# dens = self._gsmf(mass_gsmf, redz) * self._gpf(mass_gpf, mstar_rat, redz) * cosmo.dtdz(redz)\n",
    "# `gmt` returns [sec]\n",
    "# dens /= self._gmt(mass_gmt, mstar_rat, redz)\n",
    "# now `dens` is  ``dn_gal / [dlog10(Mstar) dq_gal dz]``  with units of [Mpc^-3]"
   ]
  },
  {
   "cell_type": "code",
   "execution_count": 12,
   "id": "ded134e5",
   "metadata": {},
   "outputs": [
    {
     "name": "stdout",
     "output_type": "stream",
     "text": [
      "mass_gmt=mstar=:\n",
      " [[[6.96723892e+41 6.96723892e+41 6.96723892e+41 6.96723892e+41]\n",
      "  [3.94263955e+41 3.94263955e+41 3.94263955e+41 3.94263955e+41]]\n",
      "\n",
      " [[6.24369466e+42 6.24369466e+42 6.24369466e+42 6.24369466e+42]\n",
      "  [3.53319842e+42 3.53319842e+42 3.53319842e+42 3.53319842e+42]]\n",
      "\n",
      " [[5.59529010e+43 5.59529010e+43 5.59529010e+43 5.59529010e+43]\n",
      "  [3.16627753e+43 3.16627753e+43 3.16627753e+43 3.16627753e+43]]]\n",
      "redz:\n",
      " [[[0.001 0.01  0.1   1.   ]\n",
      "  [0.001 0.01  0.1   1.   ]]\n",
      "\n",
      " [[0.001 0.01  0.1   1.   ]\n",
      "  [0.001 0.01  0.1   1.   ]]\n",
      "\n",
      " [[0.001 0.01  0.1   1.   ]\n",
      "  [0.001 0.01  0.1   1.   ]]]\n",
      "phi:\n",
      " [[[0.00169719 0.00168772 0.00159588 0.00091201]\n",
      "  [0.00169719 0.00168772 0.00159588 0.00091201]]\n",
      "\n",
      " [[0.00169719 0.00168772 0.00159588 0.00091201]\n",
      "  [0.00169719 0.00168772 0.00159588 0.00091201]]\n",
      "\n",
      " [[0.00169719 0.00168772 0.00159588 0.00091201]\n",
      "  [0.00169719 0.00168772 0.00159588 0.00091201]]]\n",
      "mref:\n",
      " [[[3.45546032e+44 3.45546032e+44 3.45546032e+44 3.45546032e+44]\n",
      "  [3.45546032e+44 3.45546032e+44 3.45546032e+44 3.45546032e+44]]\n",
      "\n",
      " [[3.45546032e+44 3.45546032e+44 3.45546032e+44 3.45546032e+44]\n",
      "  [3.45546032e+44 3.45546032e+44 3.45546032e+44 3.45546032e+44]]\n",
      "\n",
      " [[3.45546032e+44 3.45546032e+44 3.45546032e+44 3.45546032e+44]\n",
      "  [3.45546032e+44 3.45546032e+44 3.45546032e+44 3.45546032e+44]]]\n",
      "mref from sam.py\n",
      " [[[3.45546032e+44 3.45546032e+44 3.45546032e+44 3.45546032e+44]\n",
      "  [3.45546032e+44 3.45546032e+44 3.45546032e+44 3.45546032e+44]]\n",
      "\n",
      " [[3.45546032e+44 3.45546032e+44 3.45546032e+44 3.45546032e+44]\n",
      "  [3.45546032e+44 3.45546032e+44 3.45546032e+44 3.45546032e+44]]\n",
      "\n",
      " [[3.45546032e+44 3.45546032e+44 3.45546032e+44 3.45546032e+44]\n",
      "  [3.45546032e+44 3.45546032e+44 3.45546032e+44 3.45546032e+44]]]\n",
      "alpha:\n",
      " [[[-1.24003 -1.2403  -1.243   -1.27   ]\n",
      "  [-1.24003 -1.2403  -1.243   -1.27   ]]\n",
      "\n",
      " [[-1.24003 -1.2403  -1.243   -1.27   ]\n",
      "  [-1.24003 -1.2403  -1.243   -1.27   ]]\n",
      "\n",
      " [[-1.24003 -1.2403  -1.243   -1.27   ]\n",
      "  [-1.24003 -1.2403  -1.243   -1.27   ]]]\n",
      "mstar/mref\n",
      " [[[0.0020163  0.0020163  0.0020163  0.0020163 ]\n",
      "  [0.00114099 0.00114099 0.00114099 0.00114099]]\n",
      "\n",
      " [[0.01806907 0.01806907 0.01806907 0.01806907]\n",
      "  [0.01022497 0.01022497 0.01022497 0.01022497]]\n",
      "\n",
      " [[0.16192604 0.16192604 0.16192604 0.16192604]\n",
      "  [0.09163114 0.09163114 0.09163114 0.09163114]]]\n",
      "rv [[[0.01730046 0.01723279 0.01657041 0.01119722]\n",
      "  [0.01985139 0.01977678 0.01904587 0.01306936]]\n",
      "\n",
      " [[0.01005741 0.01001214 0.00957046 0.00609531]\n",
      "  [0.01162106 0.01157053 0.01107713 0.00716418]]\n",
      "\n",
      " [[0.00514529 0.0051191  0.00486439 0.00291996]\n",
      "  [0.00632837 0.00629712 0.005993   0.00365316]]]\n"
     ]
    }
   ],
   "source": [
    "print('mass_gmt=mstar=:\\n', mass_gmt)\n",
    "print('redz:\\n', redz)\n",
    "\n",
    "mstar = mass_gmt\n",
    "phi0 = -2.77            # - 2.77  +/- [-0.29, +0.27]  [1/Mpc^3]\n",
    "phiz = -0.27            # - 0.27  +/- [-0.21, +0.23]  [1/Mpc^3]\n",
    "mref0 = 10**11.24 * MSOL     # +11.24  +/- [-0.17, +0.20]  Msol\n",
    "mrefz = 0               #  0.0                        Msol    # noqa\n",
    "alpha0 = -1.24          # -1.24   +/- [-0.16, +0.16]\n",
    "alphaz = -0.03          # -0.03   +/- [-0.14, +0.16]\n",
    "\n",
    "phi = np.power(10, phi0 + phiz*redz)\n",
    "print('phi:\\n', phi)\n",
    "\n",
    "mref = mref0 + mrefz*redz\n",
    "print('mref:\\n', mref)\n",
    "print('mref from sam.py\\n', sam._gsmf._mref_func(redz))\n",
    "\n",
    "alpha = alpha0 + alphaz*redz\n",
    "print('alpha:\\n', alpha)\n",
    "\n",
    "xx = mstar / mref\n",
    "print('mstar/mref\\n', xx)\n",
    "# [Chen2019]_ Eq.8\n",
    "rv = np.log(10.0) * phi * np.power(xx, 1.0 + alpha) * np.exp(-xx)\n",
    "print('rv', rv)"
   ]
  },
  {
   "cell_type": "code",
   "execution_count": 13,
   "id": "6faf1f49",
   "metadata": {},
   "outputs": [
    {
     "name": "stdout",
     "output_type": "stream",
     "text": [
      "inf\n",
      "should be\n",
      "\n",
      "GSMF_Schechter(mass_gsmf, redz):\n",
      " [[[0.01730046 0.01723279 0.01657041 0.01119722]\n",
      "  [0.01985139 0.01977678 0.01904587 0.01306936]]\n",
      "\n",
      " [[0.01005741 0.01001214 0.00957046 0.00609531]\n",
      "  [0.01162106 0.01157053 0.01107713 0.00716418]]\n",
      "\n",
      " [[0.00514529 0.0051191  0.00486439 0.00291996]\n",
      "  [0.00632837 0.00629712 0.005993   0.00365316]]]\n",
      "first element 0.017227186392488002\n"
     ]
    }
   ],
   "source": [
    "# calculator\n",
    "# first numbers\n",
    "print(np.log(10)*.00169*(6.18*10**40)**(1+-1.24003)*np.exp(6.19*10**40))\n",
    "\n",
    "print('should be')\n",
    "print('\\nGSMF_Schechter(mass_gsmf, redz):\\n', my_gsmf)\n",
    "\n",
    "print('first element', (np.log(10) * 0.00169*(0.0020163)**(1-1.24003)\n",
    "                        *np.e**(-0.0020163)))"
   ]
  },
  {
   "attachments": {},
   "cell_type": "markdown",
   "id": "29dfd2ef",
   "metadata": {},
   "source": [
    "##### GPF_Power_Law"
   ]
  },
  {
   "cell_type": "code",
   "execution_count": 14,
   "id": "f9a87d23",
   "metadata": {},
   "outputs": [
    {
     "name": "stdout",
     "output_type": "stream",
     "text": [
      "GPF_Power_Law(mass_gpt, mstar_rat, redz) [[[0.03336    0.03359973 0.03597434 0.0580367 ]\n",
      "  [0.03336    0.03359973 0.03597434 0.0580367 ]]\n",
      "\n",
      " [[0.03336    0.03359973 0.03597434 0.0580367 ]\n",
      "  [0.03336    0.03359973 0.03597434 0.0580367 ]]\n",
      "\n",
      " [[0.03336    0.03359973 0.03597434 0.0580367 ]\n",
      "  [0.03336    0.03359973 0.03597434 0.0580367 ]]]\n",
      "1.9884098706980508e+44\n",
      "1.9884098706980508e+44\n",
      "0.0\n"
     ]
    }
   ],
   "source": [
    "# Return the fraction of galaxies in pairs of the given parameters.\n",
    "my_gpf = sam._gpf(mass_gpf, mstar_rat, redz)\n",
    "print('GPF_Power_Law(mass_gpt, mstar_rat, redz)', my_gpf)\n",
    "mref=None\n",
    "mref_log10=11.0\n",
    "mref, _ = utils._parse_val_log10_val_pars(\n",
    "            mref, mref_log10, val_units=MSOL, name='mref', only_one=True\n",
    "        )\n",
    "print(mref)\n",
    "print(10**11*MSOL)\n",
    "\n",
    "f0p = 0.025/(1-.25)\n",
    "print(f0p-1/30)\n"
   ]
  },
  {
   "cell_type": "code",
   "execution_count": 15,
   "id": "b12b6d97",
   "metadata": {},
   "outputs": [
    {
     "name": "stdout",
     "output_type": "stream",
     "text": [
      "rv by hand:\n",
      " [[[0.03336    0.03359973 0.03597434 0.0580367 ]\n",
      "  [0.03336    0.03359973 0.03597434 0.0580367 ]]\n",
      "\n",
      " [[0.03336    0.03359973 0.03597434 0.0580367 ]\n",
      "  [0.03336    0.03359973 0.03597434 0.0580367 ]]\n",
      "\n",
      " [[0.03336    0.03359973 0.03597434 0.0580367 ]\n",
      "  [0.03336    0.03359973 0.03597434 0.0580367 ]]]\n"
     ]
    }
   ],
   "source": [
    "print('rv by hand:\\n', 1/30 * (1+redz)**0.8)"
   ]
  },
  {
   "attachments": {},
   "cell_type": "markdown",
   "id": "06b98228",
   "metadata": {},
   "source": [
    "##### dzdt cosmology"
   ]
  },
  {
   "cell_type": "code",
   "execution_count": 16,
   "id": "8c285776",
   "metadata": {},
   "outputs": [
    {
     "name": "stdout",
     "output_type": "stream",
     "text": [
      "<class 'cosmopy.cosmology.Cosmology'> :: H0 = 69.33000000 km / (Mpc s), Om0 = 0.28800000, Ob0 = 0.04720000\n",
      "cosmo.dtdz(redz):\n",
      " [[[4.44434276e+17 4.38754128e+17 3.86602417e+17 1.28139693e+17]\n",
      "  [4.44434276e+17 4.38754128e+17 3.86602417e+17 1.28139693e+17]]\n",
      "\n",
      " [[4.44434276e+17 4.38754128e+17 3.86602417e+17 1.28139693e+17]\n",
      "  [4.44434276e+17 4.38754128e+17 3.86602417e+17 1.28139693e+17]]\n",
      "\n",
      " [[4.44434276e+17 4.38754128e+17 3.86602417e+17 1.28139693e+17]\n",
      "  [4.44434276e+17 4.38754128e+17 3.86602417e+17 1.28139693e+17]]]\n",
      "z = 0.001\n",
      "cosmo.efunc(z) = 1.0004323386856304\n",
      "E(z) by hand = 0.9899317472876602\n",
      "differnetial lookback time: 4.345426638623889e+17\n"
     ]
    }
   ],
   "source": [
    "import cosmopy\n",
    "from astropy import cosmology as cmy\n",
    "cosmo = cosmopy.Cosmology(h=.6933, Om0=.2880, Ob0=.0472)\n",
    "print(cosmo)\n",
    "\n",
    "my_dtdz = cosmo.dtdz(redz)\n",
    "print('cosmo.dtdz(redz):\\n', my_dtdz)\n",
    "z=redz[0,0,0]\n",
    "print('z =',z)\n",
    "efuncz = cosmo.efunc(z)\n",
    "print('cosmo.efunc(z) =', efuncz)\n",
    "# print('Ogamma0', cmy.FlatLambdaCDM.Ogamma0.__dir__())\n",
    "# print('Ogamma0', cmy.FlatLambdaCDM.Ogamma0.__eq__)\n",
    "OmegaLam0 = .6911\n",
    "Eofz = np.sqrt(.2880 * (1+z)**3 + OmegaLam0)\n",
    "print('E(z) by hand =', Eofz)\n",
    "hubbletime = 13.799*10**9 * 365 * 24 * 3600 #s\n",
    "lookbacktime = hubbletime/(1+z)/efuncz\n",
    "print('differnetial lookback time:', lookbacktime)\n"
   ]
  },
  {
   "attachments": {},
   "cell_type": "markdown",
   "id": "535330c5",
   "metadata": {},
   "source": [
    "##### GMT_Power_Law"
   ]
  },
  {
   "cell_type": "code",
   "execution_count": 17,
   "id": "471c497e",
   "metadata": {},
   "outputs": [
    {
     "name": "stdout",
     "output_type": "stream",
     "text": [
      "1.1472146953399976e+44\n",
      "mtime by hand:\n",
      " [[[1.73480082e+16 1.72705421e+16 1.65489451e+16 1.22730261e+16]\n",
      "  [1.73480082e+16 1.72705421e+16 1.65489451e+16 1.22730261e+16]]\n",
      "\n",
      " [[1.73480082e+16 1.72705421e+16 1.65489451e+16 1.22730261e+16]\n",
      "  [1.73480082e+16 1.72705421e+16 1.65489451e+16 1.22730261e+16]]\n",
      "\n",
      " [[1.73480082e+16 1.72705421e+16 1.65489451e+16 1.22730261e+16]\n",
      "  [1.73480082e+16 1.72705421e+16 1.65489451e+16 1.22730261e+16]]]\n",
      "(3, 2, 4)\n",
      "(3, 2, 4)\n",
      "(3, 2, 4)\n",
      "mtime by sam:\n",
      " [[[1.73480082e+16 1.72705421e+16 1.65489451e+16 1.22730261e+16]\n",
      "  [1.73480082e+16 1.72705421e+16 1.65489451e+16 1.22730261e+16]]\n",
      "\n",
      " [[1.73480082e+16 1.72705421e+16 1.65489451e+16 1.22730261e+16]\n",
      "  [1.73480082e+16 1.72705421e+16 1.65489451e+16 1.22730261e+16]]\n",
      "\n",
      " [[1.73480082e+16 1.72705421e+16 1.65489451e+16 1.22730261e+16]\n",
      "  [1.73480082e+16 1.72705421e+16 1.65489451e+16 1.22730261e+16]]]\n"
     ]
    }
   ],
   "source": [
    "gmtmref = 1*10**11 * .4 / .6933 * MSOL\n",
    "print(gmtmref)\n",
    "mtime = .55 * GYR * 1 * (1+redz)**(-.5)\n",
    "print('mtime by hand:\\n', mtime)\n",
    "print(mass_gmt.shape)\n",
    "print( mstar_rat.shape)\n",
    "print(redz.shape)\n",
    "my_gmt = sam._gmt(mass_gmt, mstar_rat, redz)\n",
    "print('mtime by sam:\\n', my_gmt)"
   ]
  },
  {
   "attachments": {},
   "cell_type": "markdown",
   "id": "3874681e",
   "metadata": {},
   "source": [
    "#### static_binary_density continued"
   ]
  },
  {
   "cell_type": "code",
   "execution_count": 18,
   "id": "a707583d",
   "metadata": {},
   "outputs": [
    {
     "name": "stdout",
     "output_type": "stream",
     "text": [
      "my_dens_gal:\n",
      " [[[0.01478569 0.01470979 0.01392581 0.00678492]\n",
      "  [0.01696582 0.01688133 0.01600619 0.00791934]]\n",
      "\n",
      " [[0.00859548 0.00854629 0.00804304 0.00369344]\n",
      "  [0.00993184 0.00987653 0.00930924 0.00434111]]\n",
      "\n",
      " [[0.00439738 0.00436963 0.00408804 0.00176934]\n",
      "  [0.00540848 0.00537518 0.00503653 0.00221362]]]\n",
      "mstar_rat 0.111588, \n",
      "mstar_tot 7.744702e+41, \n",
      "mstar_pri 6.967239e+41,        \n",
      "mstar_sec 7.774630e+40, \n",
      "redz 0.001000, \n",
      "mtot 1.000000e+39,         \n",
      "mrat 0.100000\n"
     ]
    }
   ],
   "source": [
    "my_dens_gal = my_gsmf * my_gpf * my_dtdz / my_gmt\n",
    "print('my_dens_gal:\\n', my_dens_gal) # `dn_gal / [dlog10(Mstar) dq_gal dz]``  with units of [Mpc^-3]\n",
    "\n",
    "# variables:\n",
    "print('mstar_rat %f, \\nmstar_tot %e, \\nmstar_pri %e,\\\n",
    "        \\nmstar_sec %e, \\nredz %f, \\nmtot %e, \\\n",
    "        \\nmrat %f'\n",
    "        % (mstar_rat[0,0,0], mstar_tot[0,0,0], \n",
    "        mstar_pri[0,0,0], \n",
    "        mstar_tot[0,0,0]-mstar_pri[0,0,0], \n",
    "        redz[0,0,0], mtot[0], mrat[0]))"
   ]
  },
  {
   "cell_type": "code",
   "execution_count": 19,
   "id": "e4c87527",
   "metadata": {},
   "outputs": [
    {
     "name": "stdout",
     "output_type": "stream",
     "text": [
      "1.05\n",
      "[[[0.94095803 0.94095803 0.94095803 0.94095803]\n",
      "  [1.05       1.05       1.05       1.05      ]]\n",
      "\n",
      " [[0.94095803 0.94095803 0.94095803 0.94095803]\n",
      "  [1.05       1.05       1.05       1.05      ]]\n",
      "\n",
      " [[0.94095803 0.94095803 0.94095803 0.94095803]\n",
      "  [1.05       1.05       1.05       1.05      ]]]\n",
      "0.9409580270439349\n"
     ]
    }
   ],
   "source": [
    "#dq_bh/dq_gal\n",
    "mplaw = sam._mmbulge._mplaw\n",
    "print(mplaw)\n",
    "my_dqbh_dqgal = mplaw * np.power(mstar_rat, mplaw - 1.0)\n",
    "print(my_dqbh_dqgal)\n",
    "print(1.05*mstar_rat[0,0,0]**.05)          "
   ]
  },
  {
   "cell_type": "code",
   "execution_count": 20,
   "id": "d5fee0eb",
   "metadata": {},
   "outputs": [
    {
     "name": "stdout",
     "output_type": "stream",
     "text": [
      "[[[729.90122025 729.90122025 729.90122025 729.90122025]\n",
      "  [750.97896261 750.97896261 750.97896261 750.97896261]]\n",
      "\n",
      " [[654.1013449  654.1013449  654.1013449  654.1013449 ]\n",
      "  [672.99017429 672.99017429 672.99017429 672.99017429]]\n",
      "\n",
      " [[586.17324855 586.17324855 586.17324855 586.17324855]\n",
      "  [603.1004825  603.1004825  603.1004825  603.1004825 ]]]\n",
      "qterm:\n",
      " [[[1.01053491 1.01053491 1.01053491 1.01053491]\n",
      "  [1.         1.         1.         1.        ]]\n",
      "\n",
      " [[1.01053491 1.01053491 1.01053491 1.01053491]\n",
      "  [1.         1.         1.         1.        ]]\n",
      "\n",
      " [[1.01053491 1.01053491 1.01053491 1.01053491]\n",
      "  [1.         1.         1.         1.        ]]]\n",
      "dmstar/dmbh:\n",
      " [[[737.59066275 737.59066275 737.59066275 737.59066275]\n",
      "  [750.97896261 750.97896261 750.97896261 750.97896261]]\n",
      "\n",
      " [[660.99224265 660.99224265 660.99224265 660.99224265]\n",
      "  [672.99017429 672.99017429 672.99017429 672.99017429]]\n",
      "\n",
      " [[592.34853004 592.34853004 592.34853004 592.34853004]\n",
      "  [603.1004825  603.1004825  603.1004825  603.1004825 ]]]\n",
      "dmstar/dmbh by hand: 737.56395\n"
     ]
    }
   ],
   "source": [
    "# dmstar_tot/dmbh_tot\n",
    "dmstar_dmbh_pri = sam._mmbulge.dmstar_dmbh(mstar_pri)   # [unitless]\n",
    "print(dmstar_dmbh_pri)\n",
    "qterm = (1.0 + mstar_rat) / (1.0 + sam.mrat[np.newaxis, :, np.newaxis])\n",
    "dmstar_dmbh = dmstar_dmbh_pri * qterm\n",
    "qterm = (1.0 + mstar_rat) / (1.0 + sam.mrat[np.newaxis, :, np.newaxis])\n",
    "print('qterm:\\n', qterm)\n",
    "dmstar_dmbh = dmstar_dmbh_pri * qterm\n",
    "print('dmstar/dmbh:\\n', dmstar_dmbh)\n",
    "print('dmstar/dmbh by hand:',729.9*1.0105)"
   ]
  },
  {
   "cell_type": "code",
   "execution_count": 21,
   "id": "f81b5c0a",
   "metadata": {},
   "outputs": [
    {
     "name": "stdout",
     "output_type": "stream",
     "text": [
      "[[[0.01496519 0.01488837 0.01409486 0.00686729]\n",
      "  [0.0153885  0.01531186 0.01451809 0.00718308]]\n",
      "\n",
      " [[0.00869982 0.00865004 0.00814068 0.00373827]\n",
      "  [0.00900847 0.0089583  0.00844376 0.00393752]]\n",
      "\n",
      " [[0.00445076 0.00442267 0.00413767 0.00179082]\n",
      "  [0.00490565 0.00487545 0.00456828 0.00200782]]]\n",
      "[[[0.         0.         0.01409486 0.00686729]\n",
      "  [0.         0.         0.01451809 0.00718308]]\n",
      "\n",
      " [[0.         0.         0.00814068 0.00373827]\n",
      "  [0.         0.         0.00844376 0.00393752]]\n",
      "\n",
      " [[0.         0.         0.00413767 0.00179082]\n",
      "  [0.         0.         0.00456828 0.00200782]]]\n",
      "my_dens - bads:\n",
      " [[[0.         0.         0.01409486 0.00686729]\n",
      "  [0.         0.         0.01451809 0.00718308]]\n",
      "\n",
      " [[0.         0.         0.00814068 0.00373827]\n",
      "  [0.         0.         0.00844376 0.00393752]]\n",
      "\n",
      " [[0.         0.         0.00413767 0.00179082]\n",
      "  [0.         0.         0.00456828 0.00200782]]]\n"
     ]
    }
   ],
   "source": [
    "dqbh_dqgal = my_dqbh_dqgal\n",
    "my_dens = (my_dens_gal * sam.mtot[:, np.newaxis, np.newaxis] \n",
    "            * dmstar_dmbh / dqbh_dqgal / mstar_tot)\n",
    "print(my_dens)\n",
    "print(sam._density) # this accounts for the zprimes<0,\n",
    "                    # otherwise they match\n",
    "zprime = sam._gmt.zprime(mass_gmt, mstar_rat, redz)\n",
    "# find valid entries (M, Q, Z)\n",
    "bads = (zprime < 0.0)\n",
    "my_dens[bads] = 0.0  \n",
    "print('my_dens - bads:\\n', my_dens)  "
   ]
  },
  {
   "attachments": {},
   "cell_type": "markdown",
   "id": "5ddf20fe",
   "metadata": {},
   "source": [
    "## dynamic_binary_number cont."
   ]
  },
  {
   "cell_type": "code",
   "execution_count": 23,
   "id": "77b34d13",
   "metadata": {},
   "outputs": [
    {
     "name": "stdout",
     "output_type": "stream",
     "text": [
      "(3,) (3,)\n"
     ]
    }
   ],
   "source": [
    "edges = sam.edges + [fobs_orb_cents]\n",
    "\n",
    "dc = cosmo.comoving_distance(redz).to('Mpc').value\n",
    "# print('dc:\\n', dc)\n",
    "from holodeck.constants import SPLC, MPC\n",
    "cosmo_fact = 4 * np.pi * (SPLC/MPC) * np.square(dc) * (1.0 + redz)\n",
    "# print('cosmo_fact:\\n', cosmo_fact)\n",
    "\n",
    "mchirp = utils.m1m2_from_mtmr(sam.mtot[:, np.newaxis], sam.mrat[np.newaxis, :])\n",
    "mchirp = utils.chirp_mass(*mchirp)\n",
    "# (M, Q, 1, 1) make shape broadcastable for later calculations\n",
    "mchirp = mchirp[..., np.newaxis, np.newaxis]\n",
    "# print('mchirp:\\n',mchirp)\n",
    "print(np.shape(mtot), np.shape(mrat))"
   ]
  },
  {
   "cell_type": "code",
   "execution_count": 24,
   "id": "f1157ef6",
   "metadata": {},
   "outputs": [
    {
     "name": "stdout",
     "output_type": "stream",
     "text": [
      "(24,) [1.e+39 1.e+39 1.e+39 1.e+39 1.e+39 1.e+39 1.e+39 1.e+39 1.e+40 1.e+40\n",
      " 1.e+40 1.e+40 1.e+40 1.e+40 1.e+40 1.e+40 1.e+41 1.e+41 1.e+41 1.e+41\n",
      " 1.e+41 1.e+41 1.e+41 1.e+41]\n",
      "(24,) [0.1 0.1 0.1 0.1 1.  1.  1.  1.  0.1 0.1 0.1 0.1 1.  1.  1.  1.  0.1 0.1\n",
      " 0.1 0.1 1.  1.  1.  1. ]\n",
      "(24,) [0.001 0.01  0.1   1.    0.001 0.01  0.1   1.    0.001 0.01  0.1   1.\n",
      " 0.001 0.01  0.1   1.    0.001 0.01  0.1   1.    0.001 0.01  0.1   1.   ]\n"
     ]
    }
   ],
   "source": [
    "mt, mr, rz = [gg.ravel() for gg in sam.grid]\n",
    "print(mt.shape, mt)\n",
    "print(mr.shape, mr)\n",
    "print(rz.shape, rz)"
   ]
  },
  {
   "cell_type": "code",
   "execution_count": 25,
   "id": "9913e9f1",
   "metadata": {},
   "outputs": [
    {
     "name": "stdout",
     "output_type": "stream",
     "text": [
      "[1.e-08 2.e-08 3.e-08 4.e-08 5.e-08]\n",
      "\n",
      "frst_orb\n",
      " (5, 24)\n",
      "\n",
      "sa\n",
      " (5, 24)\n",
      "\n",
      "dadt\n",
      " (5, 24)\n"
     ]
    }
   ],
   "source": [
    "fobs_orb = fobs_orb_cents\n",
    "print(fobs_orb)\n",
    "frst_orb = fobs_orb[:, np.newaxis] * (1.0 + rz[np.newaxis, :])\n",
    "print('\\nfrst_orb\\n', frst_orb.shape)\n",
    "sa = utils.kepler_sepa_from_freq(mt[np.newaxis, :], frst_orb)\n",
    "print('\\nsa\\n', sa.shape)\n",
    "dadt = holo.hardening.Hard_GW.dadt(mt[np.newaxis, :], mr[np.newaxis, :], sa)\n",
    "print('\\ndadt\\n', dadt.shape)     "
   ]
  },
  {
   "cell_type": "code",
   "execution_count": 26,
   "id": "11569447",
   "metadata": {},
   "outputs": [
    {
     "name": "stdout",
     "output_type": "stream",
     "text": [
      "dfdt\n",
      " (5, 24)\n",
      "frst_orb\n",
      " (5, 24)\n",
      "tau\n",
      " (5, 24)\n",
      "(24, 5)\n",
      "(3, 2, 4, 5)\n"
     ]
    }
   ],
   "source": [
    "dfdt, frst_orb = utils.dfdt_from_dadt(dadt, sa, \n",
    "                                    frst_orb=frst_orb)\n",
    "print('dfdt\\n', dfdt.shape)\n",
    "print('frst_orb\\n', frst_orb.shape)\n",
    "tau = frst_orb / dfdt\n",
    "print('tau\\n',tau.shape)\n",
    "# (X, M*Q*Z) ==> (M*Q*Z, X)\n",
    "tau = np.moveaxis(tau, 0, -1)\n",
    "print(tau.shape)\n",
    "# (M*Q*Z, X) ==> (M, Q, Z, X)\n",
    "xsize = fobs_orb.size\n",
    "tau = tau.reshape(my_dens.shape + (xsize,))\n",
    "print(tau.shape)"
   ]
  },
  {
   "cell_type": "code",
   "execution_count": 27,
   "id": "cc713a09",
   "metadata": {},
   "outputs": [
    {
     "name": "stdout",
     "output_type": "stream",
     "text": [
      "(3, 2, 4)\n",
      "(3, 2, 4)\n",
      "6.639770e+09\n",
      "dnum\n",
      " [[[[0.00000000e+00 0.00000000e+00 0.00000000e+00 0.00000000e+00\n",
      "    0.00000000e+00]\n",
      "   [0.00000000e+00 0.00000000e+00 0.00000000e+00 0.00000000e+00\n",
      "    0.00000000e+00]\n",
      "   [5.84719522e+08 9.20875543e+07 3.12337585e+07 1.45028810e+07\n",
      "    7.99885055e+06]\n",
      "   [6.63976979e+09 1.04569822e+09 3.54674264e+08 1.64687149e+08\n",
      "    9.08307731e+07]]\n",
      "\n",
      "  [[0.00000000e+00 0.00000000e+00 0.00000000e+00 0.00000000e+00\n",
      "    0.00000000e+00]\n",
      "   [0.00000000e+00 0.00000000e+00 0.00000000e+00 0.00000000e+00\n",
      "    0.00000000e+00]\n",
      "   [1.99099790e+08 3.13562520e+07 1.06352439e+07 4.93830025e+06\n",
      "    2.72364681e+06]\n",
      "   [2.29589815e+09 3.61581301e+08 1.22639190e+08 5.69454865e+07\n",
      "    3.14074449e+07]]]\n",
      "\n",
      "\n",
      " [[[0.00000000e+00 0.00000000e+00 0.00000000e+00 0.00000000e+00\n",
      "    0.00000000e+00]\n",
      "   [0.00000000e+00 0.00000000e+00 0.00000000e+00 0.00000000e+00\n",
      "    0.00000000e+00]\n",
      "   [7.27579957e+06 1.14586663e+06 3.88648844e+05 1.80462686e+05\n",
      "    9.95315380e+04]\n",
      "   [7.78703039e+07 1.22638044e+07 4.15957083e+06 1.93142816e+06\n",
      "    1.06525077e+06]]\n",
      "\n",
      "  [[0.00000000e+00 0.00000000e+00 0.00000000e+00 0.00000000e+00\n",
      "    0.00000000e+00]\n",
      "   [0.00000000e+00 0.00000000e+00 0.00000000e+00 0.00000000e+00\n",
      "    0.00000000e+00]\n",
      "   [2.49476958e+06 3.92901588e+05 1.33262235e+05 6.18781227e+04\n",
      "    3.41279678e+04]\n",
      "   [2.71142734e+07 4.27023047e+06 1.44835367e+06 6.72519157e+05\n",
      "    3.70918042e+05]]]\n",
      "\n",
      "\n",
      " [[[0.00000000e+00 0.00000000e+00 0.00000000e+00 0.00000000e+00\n",
      "    0.00000000e+00]\n",
      "   [0.00000000e+00 0.00000000e+00 0.00000000e+00 0.00000000e+00\n",
      "    0.00000000e+00]\n",
      "   [7.96726383e+04 1.25476543e+04 4.25584550e+03 1.97613172e+03\n",
      "    1.08990636e+03]\n",
      "   [8.03685357e+05 1.26572512e+05 4.29301801e+04 1.99339216e+04\n",
      "    1.09942610e+04]]\n",
      "\n",
      "  [[0.00000000e+00 0.00000000e+00 0.00000000e+00 0.00000000e+00\n",
      "    0.00000000e+00]\n",
      "   [0.00000000e+00 0.00000000e+00 0.00000000e+00 0.00000000e+00\n",
      "    0.00000000e+00]\n",
      "   [2.90790995e+04 4.57967120e+03 1.55330810e+03 7.21253018e+02\n",
      "    3.97796486e+02]\n",
      "   [2.97875098e+05 4.69123883e+04 1.59114901e+04 7.38823819e+03\n",
      "    4.07487403e+03]]]]\n",
      "edges\n",
      " [array([1.e+39, 1.e+40, 1.e+41]), array([0.1, 1. ]), array([0.001, 0.01 , 0.1  , 1.   ]), array([1.e-08, 2.e-08, 3.e-08, 4.e-08, 5.e-08])]\n"
     ]
    }
   ],
   "source": [
    "dnum = my_dens * cosmo_fact\n",
    "print(cosmo_fact.shape)\n",
    "print(my_dens.shape)\n",
    "dnum = dnum[..., np.newaxis] * tau\n",
    "edges = [sam.mtot, sam.mrat, sam.redz] + [fobs_orb, ]\n",
    "print('%e' % np.max(dnum))\n",
    "print('dnum\\n', dnum)\n",
    "print('edges\\n', edges)"
   ]
  },
  {
   "attachments": {},
   "cell_type": "markdown",
   "id": "09baedd3",
   "metadata": {},
   "source": [
    "# gwb cont.\n",
    "## number grid integrated"
   ]
  },
  {
   "attachments": {},
   "cell_type": "markdown",
   "id": "86c11fae",
   "metadata": {},
   "source": [
    "Using values calculated thus far"
   ]
  },
  {
   "cell_type": "code",
   "execution_count": 35,
   "id": "10eb3830",
   "metadata": {},
   "outputs": [
    {
     "name": "stdout",
     "output_type": "stream",
     "text": [
      "(3, 2, 4, 5)\n",
      "(6,)\n",
      "(2, 1, 3, 5)\n",
      "(2, 1, 3, 5)\n",
      "[[[[0.00000000e+00 0.00000000e+00 0.00000000e+00 0.00000000e+00\n",
      "    0.00000000e+00]\n",
      "   [8.82745690e+06 6.46423553e+05 1.44416576e+05 5.00858751e+04\n",
      "    2.20574395e+04]\n",
      "   [1.09390698e+09 8.01054307e+07 1.78962414e+07 6.20668998e+06\n",
      "    2.73337920e+06]]]\n",
      "\n",
      "\n",
      " [[[0.00000000e+00 0.00000000e+00 0.00000000e+00 0.00000000e+00\n",
      "    0.00000000e+00]\n",
      "   [1.09892126e+05 8.04726202e+03 1.79782747e+03 6.23514038e+02\n",
      "    2.74590854e+02]\n",
      "   [1.28993591e+07 9.44603826e+05 2.11032610e+05 7.31893338e+04\n",
      "    3.22320276e+04]]]]\n",
      "\n",
      "fobs_gw_cents:  2e-08\n",
      "fobs_orb_cents:  [1.e-08 2.e-08 3.e-08 4.e-08 5.e-08]\n",
      "frequency bin 5.000000 nHz to 15.000000 nHz\n",
      "number =\n",
      " [[[0.00000000e+00 8.82745690e+06 1.09390698e+09]]\n",
      "\n",
      " [[0.00000000e+00 1.09892126e+05 1.28993591e+07]]]\n",
      "\n",
      "fobs_gw_cents:  4.000000000000001e-08\n",
      "fobs_orb_cents:  [1.e-08 2.e-08 3.e-08 4.e-08 5.e-08]\n",
      "frequency bin 15.000000 nHz to 25.000000 nHz\n",
      "number =\n",
      " [[[0.00000000e+00 6.46423553e+05 8.01054307e+07]]\n",
      "\n",
      " [[0.00000000e+00 8.04726202e+03 9.44603826e+05]]]\n",
      "\n",
      "fobs_gw_cents:  6.000000000000001e-08\n",
      "fobs_orb_cents:  [1.e-08 2.e-08 3.e-08 4.e-08 5.e-08]\n",
      "frequency bin 25.000000 nHz to 35.000000 nHz\n",
      "number =\n",
      " [[[0.00000000e+00 1.44416576e+05 1.78962414e+07]]\n",
      "\n",
      " [[0.00000000e+00 1.79782747e+03 2.11032610e+05]]]\n",
      "\n",
      "fobs_gw_cents:  8e-08\n",
      "fobs_orb_cents:  [1.e-08 2.e-08 3.e-08 4.e-08 5.e-08]\n",
      "frequency bin 35.000000 nHz to 45.000000 nHz\n",
      "number =\n",
      " [[[0.00000000e+00 5.00858751e+04 6.20668998e+06]]\n",
      "\n",
      " [[0.00000000e+00 6.23514038e+02 7.31893338e+04]]]\n",
      "\n",
      "fobs_gw_cents:  1e-07\n",
      "fobs_orb_cents:  [1.e-08 2.e-08 3.e-08 4.e-08 5.e-08]\n",
      "frequency bin 45.000000 nHz to 55.000000 nHz\n",
      "number =\n",
      " [[[0.00000000e+00 2.20574395e+04 2.73337920e+06]]\n",
      "\n",
      " [[0.00000000e+00 2.74590854e+02 3.22320276e+04]]]\n",
      "6\n"
     ]
    }
   ],
   "source": [
    "edges[-1] = fobs_orb_edges\n",
    "\n",
    "# correct by using sam.py version of edges\n",
    "# hard = holo.hardening.Hard_GW\n",
    "# edges, dnum = sam.dynamic_binary_number(hard, \n",
    "#                 fobs_orb=fobs_orb_cents)\n",
    "print(dnum.shape)\n",
    "print(edges[-1].shape)\n",
    "\n",
    "edges[-1]=fobs_orb_edges\n",
    "number = utils._integrate_grid_differential_number(edges, dnum, freq=False)\n",
    "print(number.shape)\n",
    "number = number * np.diff(np.log(fobs_gw_edges))\n",
    "print(number.shape)\n",
    "print(number)\n",
    "# print('edges\\n', edges)\n",
    "# print(len(edges[-1]))\n",
    "# print(edges[-1])\n",
    "# print(edges[0])\n",
    "# print(edges[1])\n",
    "for num in range(len(fobs_gw_cents)):\n",
    "    print('\\nfobs_gw_cents: ', fobs_gw_cents[num])\n",
    "    print('fobs_orb_cents: ', fobs_orb_cents)\n",
    "    print('frequency bin %f nHz to %f nHz' % (edges[-1][num]*10**9, edges[-1][num+1]*10**9))\n",
    "    print('number =\\n', number[:,:,:,num])\n",
    "print(len(edges[-1]))\n"
   ]
  },
  {
   "attachments": {},
   "cell_type": "markdown",
   "id": "87141c7d",
   "metadata": {},
   "source": [
    "Using: my_edges"
   ]
  },
  {
   "cell_type": "code",
   "execution_count": 39,
   "id": "9bd70653",
   "metadata": {},
   "outputs": [
    {
     "name": "stdout",
     "output_type": "stream",
     "text": [
      "[[array([0., 0., 0.]) array([0., 0.]) array([0., 0., 0., 0.])\n",
      "  array([0., 0., 0., 0., 0., 0.])]]\n",
      "(2, 1, 3, 5)\n",
      "(2, 1, 3, 5)\n",
      "[8.94836712e-16 5.43608499e-16 4.12359473e-16 3.39693273e-16\n",
      " 2.92461393e-16]\n"
     ]
    }
   ],
   "source": [
    "# matching edges4, dnum4, edges 5\n",
    "hard = holo.hardening.Hard_GW\n",
    "my_edges, my_dnum = sam.dynamic_binary_number(hard, fobs_orb=fobs_orb_cents)\n",
    "# equivalent to\n",
    "my_edges[-1] = fobs_orb_edges\n",
    "my_edges_direct = [edges[0], edges[1], edges[2], fobs_orb_edges]\n",
    "\n",
    "print(np.array([my_edges]) - np.array([my_edges_direct])) # = 0\n",
    "\n",
    "my_number = utils._integrate_grid_differential_number(my_edges, my_dnum, freq=False)\n",
    "print(my_number.shape)\n",
    "my_number = my_number * np.diff(np.log(fobs_gw_edges))\n",
    "print(my_number.shape)\n",
    "my_hc = holo.gravwaves._gws_from_number_grid_integrated(my_edges, my_number, realize=False)\n",
    "print(my_hc)\n",
    "\n",
    "####           worked!"
   ]
  },
  {
   "attachments": {},
   "cell_type": "markdown",
   "id": "e81059e3",
   "metadata": {},
   "source": [
    "## get strain"
   ]
  },
  {
   "attachments": {},
   "cell_type": "markdown",
   "id": "6025d33f",
   "metadata": {},
   "source": [
    "using values calculated thus far, no realize"
   ]
  },
  {
   "cell_type": "code",
   "execution_count": 45,
   "id": "658830a4",
   "metadata": {},
   "outputs": [
    {
     "name": "stdout",
     "output_type": "stream",
     "text": [
      "[8.94836712e-16 5.43608499e-16 4.12359473e-16 3.39693273e-16\n",
      " 2.92461393e-16]\n",
      "frequency bin 45.0 nHz to 55.0 nHz\n",
      "\t h_c = 8.948367120399258e-16\n",
      "frequency bin 45.0 nHz to 55.0 nHz\n",
      "\t h_c = 5.436084991203219e-16\n",
      "frequency bin 45.0 nHz to 55.0 nHz\n",
      "\t h_c = 4.123594726001719e-16\n",
      "frequency bin 45.0 nHz to 55.0 nHz\n",
      "\t h_c = 3.396932730091485e-16\n",
      "frequency bin 45.0 nHz to 55.0 nHz\n",
      "\t h_c = 2.9246139304080997e-16\n"
     ]
    }
   ],
   "source": [
    "# print(number)\n",
    "hc = holo.gravwaves._gws_from_number_grid_integrated(edges, number, realize=False)\n",
    "print(hc)\n",
    "for ii in range(len(hc)):\n",
    "    print('frequency bin %.1f nHz to %.1f nHz' % (edges[-1][num]*10**9, edges[-1][num+1]*10**9))\n",
    "    print('\\t h_c =', hc[ii])"
   ]
  },
  {
   "attachments": {},
   "cell_type": "markdown",
   "id": "f9e3f3de",
   "metadata": {},
   "source": [
    "using my_edges, no realize"
   ]
  },
  {
   "cell_type": "code",
   "execution_count": 46,
   "id": "86d27ca1",
   "metadata": {},
   "outputs": [
    {
     "name": "stdout",
     "output_type": "stream",
     "text": [
      "[8.94836712e-16 5.43608499e-16 4.12359473e-16 3.39693273e-16\n",
      " 2.92461393e-16]\n",
      "frequency bin 45.0 nHz to 55.0 nHz\n",
      "\t h_c = 8.948367120399258e-16\n",
      "frequency bin 45.0 nHz to 55.0 nHz\n",
      "\t h_c = 5.436084991203219e-16\n",
      "frequency bin 45.0 nHz to 55.0 nHz\n",
      "\t h_c = 4.123594726001719e-16\n",
      "frequency bin 45.0 nHz to 55.0 nHz\n",
      "\t h_c = 3.396932730091485e-16\n",
      "frequency bin 45.0 nHz to 55.0 nHz\n",
      "\t h_c = 2.9246139304080997e-16\n"
     ]
    }
   ],
   "source": [
    "my_hc = holo.gravwaves._gws_from_number_grid_integrated(my_edges, my_number, realize=False)\n",
    "print(my_hc)\n",
    "for ii in range(len(my_hc)):\n",
    "    print('frequency bin %.1f nHz to %.1f nHz' % (edges[-1][num]*10**9, edges[-1][num+1]*10**9))\n",
    "    print('\\t h_c =', my_hc[ii]) "
   ]
  },
  {
   "attachments": {},
   "cell_type": "markdown",
   "id": "4e44d2eb",
   "metadata": {},
   "source": [
    "with realizations:"
   ]
  },
  {
   "cell_type": "code",
   "execution_count": 47,
   "id": "f244bb53",
   "metadata": {},
   "outputs": [
    {
     "name": "stdout",
     "output_type": "stream",
     "text": [
      "frequency bin 45.0 nHz to 55.0 nHz\n",
      "\t h_c = [8.95411963e-16 8.95030718e-16 8.95269487e-16]\n",
      "frequency bin 45.0 nHz to 55.0 nHz\n",
      "\t h_c = [5.42389980e-16 5.44134908e-16 5.43346805e-16]\n",
      "frequency bin 45.0 nHz to 55.0 nHz\n",
      "\t h_c = [4.14354910e-16 4.14754593e-16 4.12855271e-16]\n",
      "frequency bin 45.0 nHz to 55.0 nHz\n",
      "\t h_c = [3.41030236e-16 3.39016573e-16 3.38579851e-16]\n",
      "frequency bin 45.0 nHz to 55.0 nHz\n",
      "\t h_c = [2.92589856e-16 2.94227966e-16 2.88130754e-16]\n"
     ]
    }
   ],
   "source": [
    "my_realized_hc = holo.gravwaves._gws_from_number_grid_integrated(my_edges, my_number, realize=3)\n",
    "for ii in range(len(my_realized_hc)):\n",
    "    print('frequency bin %.1f nHz to %.1f nHz' % (edges[-1][num]*10**9, edges[-1][num+1]*10**9))\n",
    "    print('\\t h_c =', my_realized_hc[ii])"
   ]
  },
  {
   "attachments": {},
   "cell_type": "markdown",
   "id": "75ac363a",
   "metadata": {},
   "source": [
    "#### troubleshooting edges"
   ]
  },
  {
   "cell_type": "code",
   "execution_count": null,
   "id": "b14c3fb7",
   "metadata": {},
   "outputs": [],
   "source": [
    "edges2 = [sam.mtot, sam.mrat, sam.redz] + [fobs_orb]\n",
    "edges4, dnum4 = sam.dynamic_binary_number(hard, fobs_orb=fobs_orb_cents)\n",
    "print(np.array([edges4]) - np.array([edges2]))\n",
    "print(np.array([edges4]) - np.array([edges]))"
   ]
  },
  {
   "cell_type": "code",
   "execution_count": null,
   "id": "73bc72b5",
   "metadata": {},
   "outputs": [
    {
     "name": "stdout",
     "output_type": "stream",
     "text": [
      "[[array([0., 0., 0.]) array([0., 0.]) array([0., 0., 0., 0.])\n",
      "  array([0., 0., 0., 0., 0., 0.])]]\n",
      "(2, 1, 3, 5)\n",
      "(2, 1, 3, 5)\n",
      "err here\n",
      "hc:\n",
      " [[[[8.52704562e-38 4.29736171e-37 1.10683151e-36 2.16573459e-36\n",
      "    3.64526073e-36]\n",
      "   [9.29179258e-40 4.68277002e-39 1.20609755e-38 2.35996821e-38\n",
      "    3.97218545e-38]\n",
      "   [1.98216207e-41 9.98947086e-41 2.57289515e-40 5.03437784e-40\n",
      "    8.47362365e-40]]]\n",
      "\n",
      "\n",
      " [[[1.83709629e-34 9.25838514e-34 2.38459620e-33 4.66593373e-33\n",
      "    7.85347616e-33]\n",
      "   [2.00185603e-36 1.00887222e-35 2.59845839e-35 5.08439738e-35\n",
      "    8.55781413e-35]\n",
      "   [4.27043872e-38 2.15216625e-37 5.54313457e-37 1.08462383e-36\n",
      "    1.82558687e-36]]]] \n",
      "hc shape: (2, 1, 3, 5)\n",
      "number:\n",
      " [[[[0.00000000e+00 0.00000000e+00 0.00000000e+00 0.00000000e+00\n",
      "    0.00000000e+00]\n",
      "   [8.82745690e+06 6.46423553e+05 1.44416576e+05 5.00858751e+04\n",
      "    2.20574395e+04]\n",
      "   [1.09390698e+09 8.01054307e+07 1.78962414e+07 6.20668998e+06\n",
      "    2.73337920e+06]]]\n",
      "\n",
      "\n",
      " [[[0.00000000e+00 0.00000000e+00 0.00000000e+00 0.00000000e+00\n",
      "    0.00000000e+00]\n",
      "   [1.09892126e+05 8.04726202e+03 1.79782747e+03 6.23514038e+02\n",
      "    2.74590854e+02]\n",
      "   [1.28993591e+07 9.44603826e+05 2.11032610e+05 7.31893338e+04\n",
      "    3.22320276e+04]]]] \n",
      "number shape (2, 1, 3, 5)\n",
      "[8.94836712e-16 5.43608499e-16 4.12359473e-16 3.39693273e-16\n",
      " 2.92461393e-16]\n"
     ]
    }
   ],
   "source": [
    "# hc = holo.gravwaves._gws_from_number_grid_integrated(edges2, number, realize=False)\n",
    "# print('check1')\n",
    "edges4[-1] = fobs_orb_edges\n",
    "edges5 = [edges[0], edges[1], edges[2], fobs_orb_edges]\n",
    "print(np.array([edges4]) - np.array([edges5]))\n",
    "# print(np.array([edges4]) - np.array([edges5]))\n",
    "\n",
    "# number4 = utils._integrate_grid_differential_number(edges4, dnum4, freq=False)\n",
    "# print(number4.shape)\n",
    "# number4 = number4 * np.diff(np.log(fobs_gw_edges))\n",
    "# print(number4.shape)\n",
    "# hc = holo.gravwaves._gws_from_number_grid_integrated(edges4, number4, realize=False)\n",
    "# print(hc)\n",
    "\n",
    "number5 = utils._integrate_grid_differential_number(edges5, dnum4, freq=False)\n",
    "print(number5.shape)\n",
    "number5 = number5 * np.diff(np.log(fobs_gw_edges))\n",
    "print(number5.shape)\n",
    "hc5 = holo.gravwaves._gws_from_number_grid_integrated(edges5, number5, realize=False)\n",
    "print(hc5)\n",
    "\n",
    "####           worked!"
   ]
  },
  {
   "cell_type": "code",
   "execution_count": null,
   "id": "e05e31c2",
   "metadata": {},
   "outputs": [
    {
     "name": "stdout",
     "output_type": "stream",
     "text": [
      "err here\n",
      "hc:\n",
      " [[[[8.52704562e-38 4.29736171e-37 1.10683151e-36 2.16573459e-36\n",
      "    3.64526073e-36]\n",
      "   [9.29179258e-40 4.68277002e-39 1.20609755e-38 2.35996821e-38\n",
      "    3.97218545e-38]\n",
      "   [1.98216207e-41 9.98947086e-41 2.57289515e-40 5.03437784e-40\n",
      "    8.47362365e-40]]]\n",
      "\n",
      "\n",
      " [[[1.83709629e-34 9.25838514e-34 2.38459620e-33 4.66593373e-33\n",
      "    7.85347616e-33]\n",
      "   [2.00185603e-36 1.00887222e-35 2.59845839e-35 5.08439738e-35\n",
      "    8.55781413e-35]\n",
      "   [4.27043872e-38 2.15216625e-37 5.54313457e-37 1.08462383e-36\n",
      "    1.82558687e-36]]]] \n",
      "hc shape: (2, 1, 3, 5)\n",
      "number:\n",
      " [[[[0.00000000e+00 0.00000000e+00 0.00000000e+00 0.00000000e+00\n",
      "    0.00000000e+00]\n",
      "   [8.82745690e+06 6.46423553e+05 1.44416576e+05 5.00858751e+04\n",
      "    2.20574395e+04]\n",
      "   [1.09390698e+09 8.01054307e+07 1.78962414e+07 6.20668998e+06\n",
      "    2.73337920e+06]]]\n",
      "\n",
      "\n",
      " [[[0.00000000e+00 0.00000000e+00 0.00000000e+00 0.00000000e+00\n",
      "    0.00000000e+00]\n",
      "   [1.09892126e+05 8.04726202e+03 1.79782747e+03 6.23514038e+02\n",
      "    2.74590854e+02]\n",
      "   [1.28993591e+07 9.44603826e+05 2.11032610e+05 7.31893338e+04\n",
      "    3.22320276e+04]]]] \n",
      "number shape (2, 1, 3, 5)\n",
      "(5,) [8.94836712e-16 5.43608499e-16 4.12359473e-16 3.39693273e-16\n",
      " 2.92461393e-16]\n"
     ]
    }
   ],
   "source": [
    "# this worked in hc for dummies:\n",
    "\n",
    "sams_edges, sams_dnum = sam.dynamic_binary_number(hard, \n",
    "                        fobs_orb_cents)\n",
    "sams_edges[-1] = fobs_orb_edges\n",
    "sams_number = utils._integrate_grid_differential_number(sams_edges, sams_dnum, freq=False)\n",
    "sams_number = sams_number * np.diff(np.log(fobs_gw_edges))\n",
    "log.debug(f\"number: {utils.stats(sams_number)}\")\n",
    "log.debug(f\"number.sum(): {sams_number.sum():.4e}\")\n",
    "sams_hc = holo.sam.gravwaves._gws_from_number_grid_integrated(sams_edges, sams_number, realize=False)\n",
    "print(sams_hc.shape, sams_hc)"
   ]
  },
  {
   "cell_type": "code",
   "execution_count": null,
   "id": "abde3ae2",
   "metadata": {},
   "outputs": [],
   "source": [
    "# compare successful version from hc for dummies\n",
    "# to my values here\n",
    "\n",
    "# good: sams_edges, sams_dnum, sams_number, sams_hc\n",
    "\n"
   ]
  },
  {
   "cell_type": "markdown",
   "id": "ebc65eca",
   "metadata": {},
   "source": [
    "Plot GWB over multiple realizations"
   ]
  },
  {
   "cell_type": "code",
   "execution_count": null,
   "id": "b69aed2a",
   "metadata": {},
   "outputs": [],
   "source": [
    "# nsamp = 5    # number of sample GWB spectra to plot\n",
    "# fig, ax = plot.figax(xlabel='Frequency $f_\\mathrm{obs}$ [1/yr]', ylabel='Characteristic Strain $h_c$')\n",
    "\n",
    "# # `fobs` are bin centers in CGS units, convert to [1/yr]\n",
    "# xx = fobs * YR\n",
    "\n",
    "# # plot a reference, pure power-law  strain spectrum:   h_c(f) = 1e-15 * (f * yr) ^ -2/3\n",
    "# yy = 1e-15 * np.power(xx, -2.0/3.0)\n",
    "# ax.plot(xx, yy, 'k--', alpha=0.25, lw=2.0)\n",
    "\n",
    "# # Plot the median GWB spectrum\n",
    "# ax.plot(xx, np.median(gwb, axis=-1), 'k-')\n",
    "\n",
    "# # Plot `nsamp` random spectra \n",
    "# nsamp = np.min([nsamp, gwb.shape[1]])\n",
    "# idx = np.random.choice(gwb.shape[1], nsamp, replace=False)\n",
    "# ax.plot(xx, gwb[:, idx], 'k-', lw=1.0, alpha=0.1)\n",
    "\n",
    "# # plot contours at 50% and 98% confidence intervals\n",
    "# for pp in [50, 98]:\n",
    "#     percs = pp / 2\n",
    "#     percs = [50 - percs, 50 + percs]\n",
    "#     ax.fill_between(xx, *np.percentile(gwb, percs, axis=-1), alpha=0.25, color='b')\n",
    "    \n",
    "# plt.show()"
   ]
  },
  {
   "cell_type": "markdown",
   "id": "835aec19",
   "metadata": {},
   "source": [
    "# build SAM component-by-component"
   ]
  },
  {
   "cell_type": "markdown",
   "id": "566169af",
   "metadata": {},
   "source": [
    "Construct the four components required for all SAM models:\n",
    "\n",
    "1) **Galaxy Stellar Mass Function (GSMF)**: number-density of galaxies as a function of stellar mass\n",
    "2) **Galaxy Pair Fraction (GPF)**: fraction of galaxies that are in pairs\n",
    "3) **Galaxy Merger Time (GMT)**: time it takes for galaxies to merge\n",
    "4) **MBH––Galaxy Scaling Relationship (e.g. Mbh-Mbulge)**: mapping between galaxy properties (i.e. stellar mass) and BH mass"
   ]
  },
  {
   "cell_type": "code",
   "execution_count": null,
   "id": "7dacb18d",
   "metadata": {},
   "outputs": [],
   "source": [
    "# gsmf = holo.sam.GSMF_Schechter()        # Galaxy Stellar-Mass Function (GSMF)\n",
    "# gpf = holo.sam.GPF_Power_Law()          # Galaxy Pair Fraction         (GPF)\n",
    "# gmt = holo.sam.GMT_Power_Law()          # Galaxy Merger Time           (GMT)\n",
    "# mmbulge = holo.relations.MMBulge_MM2013() # M-MBulge Relation            (MMB)"
   ]
  },
  {
   "cell_type": "markdown",
   "id": "24566260",
   "metadata": {},
   "source": [
    "Build SAM using these components"
   ]
  },
  {
   "cell_type": "code",
   "execution_count": null,
   "id": "a667fecd",
   "metadata": {},
   "outputs": [],
   "source": [
    "# sam = holo.sam.Semi_Analytic_Model(gsmf=gsmf, gpf=gpf, gmt=gmt, mmbulge=mmbulge)"
   ]
  },
  {
   "cell_type": "markdown",
   "id": "526f1ed3",
   "metadata": {},
   "source": [
    "Calculate the distribution of GWB Amplitudes at 1/yr"
   ]
  },
  {
   "cell_type": "code",
   "execution_count": null,
   "id": "e9fc9e99",
   "metadata": {},
   "outputs": [],
   "source": [
    "# fobs_yr = 1.0/YR\n",
    "# fobs_yr = fobs_yr * (1.0 + np.array([-0.05, 0.05]))\n",
    "# ayr = sam.gwb(fobs_yr, realize=100)\n",
    "# gwb_ref = sam.gwb_ideal(1.0/YR)"
   ]
  },
  {
   "cell_type": "markdown",
   "id": "0584c3b6",
   "metadata": {},
   "source": [
    "Plot the distribution"
   ]
  },
  {
   "cell_type": "code",
   "execution_count": null,
   "id": "e56708aa",
   "metadata": {},
   "outputs": [],
   "source": [
    "# fig, ax = plt.subplots(figsize=[8, 4])\n",
    "# ax.set(xlabel=r'$\\log_{10}(A_\\mathrm{yr})$', ylabel='Probability Density')\n",
    "# ax.grid(alpha=0.2)\n",
    "\n",
    "# # use `kalepy` do draw the 1D distribution\n",
    "# kale.dist1d(np.log10(ayr), density=True, confidence=True)\n",
    "# ax.axvline(np.log10(gwb_ref), ls='--', color='k')\n",
    "\n",
    "# plt.show()"
   ]
  },
  {
   "cell_type": "markdown",
   "id": "4b567f98",
   "metadata": {},
   "source": [
    "## Plot GWB Amplitude Distribution vs. M-MBulge parameters"
   ]
  },
  {
   "cell_type": "markdown",
   "id": "20f4383b",
   "metadata": {},
   "source": [
    "Calculate GWB amplitudes at $f = 1/yr$ over a grid of M-Mbulge parameters, specifically the amplitude and power-law."
   ]
  },
  {
   "cell_type": "code",
   "execution_count": null,
   "id": "99f01130",
   "metadata": {},
   "outputs": [],
   "source": [
    "# # Choose parameters to explore\n",
    "# NREALS = 30     # number of realizations at each parameter combination\n",
    "# alpha_list = [0.75, 1.0, 1.25, 1.5]     # M-Mbulge power-law index\n",
    "# norm_list = np.logspace(8, 9.5, 4)     # M-Mbulge normalization, units of [Msol]\n",
    "\n",
    "# dist_mmb = np.zeros((len(alpha_list), norm_list.size, NREALS))\n",
    "\n",
    "# # Iterate over a grid of both paremeters\n",
    "# for aa, alpha in enumerate(tqdm.tqdm(alpha_list)):\n",
    "#     for nn, norm in enumerate(tqdm.tqdm(norm_list, leave=False)):\n",
    "#         # Create the M-Mbulge relationship for these parameters\n",
    "#         mmbulge = holo.relations.MMBulge_Standard(mamp=norm*MSOL, mplaw=alpha)\n",
    "#         # Build a new sam\n",
    "#         sam = holo.sam.Semi_Analytic_Model(gsmf=gsmf, gpf=gpf, gmt=gmt, mmbulge=mmbulge, shape=30)\n",
    "#         # Calculate the distribution of GWB amplitudes\n",
    "#         dist_mmb[aa, nn, :] = sam.gwb(fobs_yr, realize=NREALS)"
   ]
  },
  {
   "cell_type": "markdown",
   "id": "cc13e780",
   "metadata": {},
   "source": [
    "Plot the interquartile ranges for each power-law, as a function of normalization"
   ]
  },
  {
   "cell_type": "code",
   "execution_count": null,
   "id": "22a7c9c1",
   "metadata": {},
   "outputs": [],
   "source": [
    "# fig, ax = plt.subplots(figsize=[6, 4])\n",
    "# ax.set(xscale='log', xlabel='M-MBulge Mass Normalization', yscale='log', ylabel=r'GWB Amplitude $A_\\mathrm{yr}$')\n",
    "# ax.grid(alpha=0.2)\n",
    "\n",
    "# for aa, dd in zip(alpha_list, dist_mmb):\n",
    "#     med = np.median(dd, axis=-1)\n",
    "#     cc, = ax.plot(norm_list, med, label=aa)\n",
    "#     cc = cc.get_color()\n",
    "#     ax.fill_between(norm_list, *np.percentile(dd, [25, 75], axis=-1), color=cc, alpha=0.15)\n",
    "    \n",
    "# plt.legend(title='M-MBulge Slope')\n",
    "# plt.show()"
   ]
  },
  {
   "cell_type": "markdown",
   "id": "d946c755",
   "metadata": {},
   "source": [
    "# Generate Full Population of Binaries"
   ]
  },
  {
   "cell_type": "code",
   "execution_count": null,
   "id": "5c0a7d8a",
   "metadata": {},
   "outputs": [],
   "source": [
    "# # Choose a hardening model (determines number of binaries in each frequency bin)\n",
    "# hard = holo.evolution.Hard_GW()"
   ]
  },
  {
   "cell_type": "code",
   "execution_count": null,
   "id": "7ee6bca0",
   "metadata": {},
   "outputs": [],
   "source": [
    "# # Sample the SAM population using 'outlier sampling'\n",
    "# # use orbital frequency\n",
    "# fobs_orb_edges = fobs_edges / 2.0\n",
    "# vals, weights, edges, dens, mass = holo.sam.sample_sam_with_hardening(sam, hard, fobs_orb=fobs_orb_edges, sample_threshold=1e2, poisson_inside=True, poisson_outside=True)"
   ]
  },
  {
   "cell_type": "code",
   "execution_count": null,
   "id": "d58f8458",
   "metadata": {},
   "outputs": [],
   "source": [
    "# # use GW frequency\n",
    "# gff, gwf, gwb = holo.gravwaves._gws_from_samples(vals, weights, fobs_edges)"
   ]
  },
  {
   "cell_type": "code",
   "execution_count": null,
   "id": "9ac901c4",
   "metadata": {},
   "outputs": [],
   "source": [
    "# fig, ax = plot.figax(figsize=[12, 8], xlabel='Frequency [yr$^{-1}$]', ylabel='c-Strain')\n",
    "# ax.scatter(gff, gwf)\n",
    "# plot.draw_hist_steps(ax, fobs_edges, gwb, yfilter=lambda xx: np.greater(xx, 0.0))\n",
    "\n",
    "# plt.show()"
   ]
  },
  {
   "cell_type": "code",
   "execution_count": null,
   "id": "388be70d",
   "metadata": {},
   "outputs": [],
   "source": [
    "# hs, fo = holo.gravwaves._strains_from_samples(vals)"
   ]
  },
  {
   "cell_type": "code",
   "execution_count": null,
   "id": "864f4b3a",
   "metadata": {},
   "outputs": [],
   "source": [
    "# nloud = 5\n",
    "# colors = plot._get_cmap('plasma')(np.linspace(0.05, 0.95, nloud))# print(colors)\n",
    "\n",
    "# fig, ax = plot.figax(figsize=[12, 8], xlabel='Frequency [yr$^{-1}$]', ylabel='c-Strain')\n",
    "# for ii in range(fobs_edges.size-1):\n",
    "#     # if ii < 10 or ii > 16:\n",
    "#     #     continue\n",
    "    \n",
    "#     fextr = [fobs_edges[ii+jj] for jj in range(2)]\n",
    "#     fextr = np.asarray(fextr)\n",
    "#     cycles = 1.0 / np.diff(np.log(fextr))[0]\n",
    "\n",
    "#     idx = (fextr[0] <= fo) & (fo < fextr[1])\n",
    "#     hs_bin = hs[idx]\n",
    "#     fo_bin = fo[idx]    \n",
    "#     ww_bin = weights[idx]\n",
    "#     ww = ww_bin * cycles\n",
    "\n",
    "#     tot = np.sqrt(np.sum(ww * hs_bin**2))\n",
    "#     ax.plot(fextr*YR, tot * np.ones_like(fextr), 'k--')\n",
    "\n",
    "#     idx = np.argsort(hs_bin)[::-1]\n",
    "#     if any(ww_bin[idx[:nloud]] > 1):\n",
    "#         raise\n",
    "    \n",
    "#     for jj, cc in enumerate(colors):\n",
    "#         if jj >= len(idx):\n",
    "#             break\n",
    "#         hi = idx[jj]\n",
    "#         lo = idx[jj+1:]\n",
    "#         gw_hi = np.sqrt(np.sum(ww[hi] * hs_bin[hi]**2))\n",
    "#         gw_lo = np.sqrt(np.sum(ww[lo] * hs_bin[lo]**2))\n",
    "\n",
    "#         fave = np.average(fo_bin[hi], weights=hs_bin[hi])\n",
    "#         ax.plot(fextr*YR, gw_lo * np.ones_like(fextr), color=cc, lw=0.5)\n",
    "#         ax.scatter(fave*YR, gw_hi, marker='.', color=cc, alpha=0.5)\n",
    "\n",
    "# plt.show()"
   ]
  },
  {
   "cell_type": "code",
   "execution_count": null,
   "id": "7e4c2f11",
   "metadata": {},
   "outputs": [],
   "source": []
  }
 ],
 "metadata": {
  "kernelspec": {
   "display_name": "Python 3",
   "language": "python",
   "name": "python3"
  },
  "language_info": {
   "codemirror_mode": {
    "name": "ipython",
    "version": 3
   },
   "file_extension": ".py",
   "mimetype": "text/x-python",
   "name": "python",
   "nbconvert_exporter": "python",
   "pygments_lexer": "ipython3",
   "version": "3.10.10"
  },
  "toc": {
   "base_numbering": 1,
   "nav_menu": {},
   "number_sections": true,
   "sideBar": true,
   "skip_h1_title": false,
   "title_cell": "Table of Contents",
   "title_sidebar": "Contents",
   "toc_cell": false,
   "toc_position": {
    "height": "calc(100% - 180px)",
    "left": "10px",
    "top": "150px",
    "width": "165px"
   },
   "toc_section_display": true,
   "toc_window_display": true
  },
  "varInspector": {
   "cols": {
    "lenName": 16,
    "lenType": 16,
    "lenVar": 40
   },
   "kernels_config": {
    "python": {
     "delete_cmd_postfix": "",
     "delete_cmd_prefix": "del ",
     "library": "var_list.py",
     "varRefreshCmd": "print(var_dic_list())"
    },
    "r": {
     "delete_cmd_postfix": ") ",
     "delete_cmd_prefix": "rm(",
     "library": "var_list.r",
     "varRefreshCmd": "cat(var_dic_list()) "
    }
   },
   "types_to_exclude": [
    "module",
    "function",
    "builtin_function_or_method",
    "instance",
    "_Feature"
   ],
   "window_display": false
  },
  "vscode": {
   "interpreter": {
    "hash": "47e86e659cc4c7e7c8281f4dfa198d26eba569ed7d4f5779d5419dff2bd0d92c"
   }
  }
 },
 "nbformat": 4,
 "nbformat_minor": 5
}
