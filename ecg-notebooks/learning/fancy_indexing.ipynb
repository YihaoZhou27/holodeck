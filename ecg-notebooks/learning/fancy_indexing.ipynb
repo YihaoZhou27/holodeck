{
 "cells": [
  {
   "cell_type": "code",
   "execution_count": null,
   "metadata": {},
   "outputs": [],
   "source": [
    "import numpy as np"
   ]
  },
  {
   "attachments": {},
   "cell_type": "markdown",
   "metadata": {},
   "source": [
    "# 1 Fancy Indexing\n",
    "Can index a numpy array using another numpy array, a python list, or a sequence of integers"
   ]
  },
  {
   "attachments": {},
   "cell_type": "markdown",
   "metadata": {},
   "source": [
    "### With another numpy array"
   ]
  },
  {
   "cell_type": "code",
   "execution_count": null,
   "metadata": {},
   "outputs": [],
   "source": [
    "arr = np.arange(1,20)\n",
    "print(arr)\n",
    "indices = np.array([3,5,1])\n",
    "print(arr[indices])"
   ]
  },
  {
   "attachments": {},
   "cell_type": "markdown",
   "metadata": {},
   "source": [
    "### 1.1 Basic Slicing: \n",
    "In arr[idx], idx is the slice object, and it can be of the form start : stop : step, integer, or tuple of slice objects and integers."
   ]
  },
  {
   "cell_type": "code",
   "execution_count": null,
   "metadata": {},
   "outputs": [],
   "source": [
    "# slice object of start: stop : step\n",
    "print(arr[2:10:2])\n",
    "print(arr[0:10:2])\n",
    "print(arr[-8:17:1])"
   ]
  },
  {
   "attachments": {},
   "cell_type": "markdown",
   "metadata": {},
   "source": [
    "Using ellipsis: ... serves as however many : are needed for a selection tuple matching the dimensions of the array"
   ]
  },
  {
   "cell_type": "code",
   "execution_count": null,
   "metadata": {},
   "outputs": [],
   "source": [
    "print(arr[...])\n",
    "arr_3d = np.array([[[1,2,3], [4,5,6]], [[11,12,13], [14,15,16]], \n",
    "                  [[21,22,23],[24,25,26]], [[31,32,344], [34,35,36]]])\n",
    "print(arr_3d[2,...])"
   ]
  },
  {
   "cell_type": "code",
   "execution_count": null,
   "metadata": {},
   "outputs": [],
   "source": [
    "print(arr[::-1]) # negative index reverses order\n",
    "print(arr[-1:0:-2])\n",
    "print(arr[2:8:-1])\n",
    "print(arr[8:2:-1])"
   ]
  },
  {
   "attachments": {},
   "cell_type": "markdown",
   "metadata": {},
   "source": [
    "### 1.2 Advanced indexing\n",
    "In arr[idx], wher idx is an integer or boolean ndarray, a tuple containing a sequence object, or a non-tuple sequence object.\n",
    "\n",
    "Returns copy of data, not a view of it"
   ]
  },
  {
   "attachments": {},
   "cell_type": "markdown",
   "metadata": {},
   "source": [
    "##### 1.2.1 Purely integer indexing"
   ]
  },
  {
   "attachments": {},
   "cell_type": "markdown",
   "metadata": {},
   "source": [
    "All the first dim, all the second dim, etc."
   ]
  },
  {
   "cell_type": "code",
   "execution_count": null,
   "metadata": {},
   "outputs": [],
   "source": [
    "arr3d = np.array([[[111, 112, 113, 114], [121, 122, 123, 124]],\n",
    "                  [[211, 212, 213, 214], [221, 222, 223, 224]],\n",
    "                  [[311, 312, 313, 314], [321, 322, 323, 324]],\n",
    "                  [[411, 412, 413, 414], [421, 422, 423, 244]],\n",
    "                  [[511, 512, 513, 514], [521, 522, 523, 524]]])\n",
    "print(arr3d.shape)\n",
    "print('arr3d[[2], [1]]:\\t', arr3d[[2], [1]])\n",
    "print('ar3d[[2], [1], [0]]:\\t', arr3d[[2], [1], [0]])\n",
    "print('arr_3d[[2], [1], [0]]:\\t', arr3d[[2,], [1], [0]])\n",
    "print('arr_3d[[2, 0, 0], [1,0,3], [4,0,2]]:\\t', arr3d[[2, 0, 4], [1,0,0], [3,3,2]])\n",
    "\n",
    "\n",
    "try: \n",
    "    print('arr_3d[[2, 0, 0], [1,0,3], [4,0,2], [0,0,0]]:\\t', arr3d[[2, 0, 4], [1,0,0], [3,3,2], [0,0,0]])\n",
    "except IndexError:\n",
    "    print('Should only have one [] for each dimension, \\\n",
    "but you can have unlimited integers inside that []')\n",
    "\n",
    "print('arr3d[[2,0,4,4,4], [1,0,0,1,2,3], [3,3,2,2,1,1]]:\\t', arr3d[[2,0,4,4,4,4], [1,0,0,1,0,1], [3,3,2,2,1,1]])\n"
   ]
  },
  {
   "attachments": {},
   "cell_type": "markdown",
   "metadata": {},
   "source": [
    "##### 1.2.2 Boolean indexing\n",
    "Used for filtering, the index is a boolean expression. Only elements that satisfy that expression are returned.\n"
   ]
  },
  {
   "cell_type": "code",
   "execution_count": null,
   "metadata": {},
   "outputs": [],
   "source": [
    "print(arr[arr%2==1]) # select odd values\n",
    "# breaking it down\n",
    "arr_bools = arr%2==1 # gives array of T/F values depending on if each element meets the condition\n",
    "print(arr_bools)\n",
    "print(arr[arr_bools]) # just returns elements corresponding to True in the condition array"
   ]
  },
  {
   "cell_type": "code",
   "execution_count": null,
   "metadata": {},
   "outputs": [],
   "source": [
    "# get only the rows (of 3rd dim) with a sum >1500\n",
    "# print(arr3d)\n",
    "print(arr3d.shape)\n",
    "sums = arr3d.sum(axis=2)\n",
    "print(sums.shape)\n",
    "print(sums)\n",
    "print(arr3d[sums>=1500])"
   ]
  },
  {
   "cell_type": "code",
   "execution_count": null,
   "metadata": {},
   "outputs": [],
   "source": [
    "# only the rows with a sum < 1200\n",
    "print(arr3d[sums<=1200])"
   ]
  },
  {
   "cell_type": "code",
   "execution_count": null,
   "metadata": {},
   "outputs": [],
   "source": [
    "# (1st dim) columns with sums < val (for all of 3rd dim)\n",
    "sums2 = arr3d.sum(axis=0)\n",
    "print(sums2.shape)\n",
    "print(sums2)\n",
    "print(arr3d[:,sums2<=1565])"
   ]
  },
  {
   "attachments": {},
   "cell_type": "markdown",
   "metadata": {},
   "source": [
    "# 2 Shaping multidimensional arrays"
   ]
  },
  {
   "attachments": {},
   "cell_type": "markdown",
   "metadata": {},
   "source": [
    "### 2.1 np.reshape"
   ]
  },
  {
   "cell_type": "code",
   "execution_count": null,
   "metadata": {},
   "outputs": [],
   "source": [
    "arr_r = np.arange(20,40,2)\n",
    "print(arr_r)\n"
   ]
  },
  {
   "cell_type": "code",
   "execution_count": null,
   "metadata": {},
   "outputs": [],
   "source": [
    "try: \n",
    "    print(arr_r.reshape(5,3))\n",
    "except ValueError:\n",
    "    print(\"new shape needs to have same total elements\")\n",
    "print('(5,2):\\n', arr_r.reshape(5,2))\n",
    "print('(2,5):\\n', arr_r.reshape(2,5))"
   ]
  },
  {
   "cell_type": "code",
   "execution_count": null,
   "metadata": {},
   "outputs": [],
   "source": [
    "print('(2,5):\\n', arr_r.reshape(2,5)) \n",
    "print('(1,1,1,2,5):\\n', arr_r.reshape(1,1,1,2,5)) \n",
    "# print('(2,1,1,5):\\n', arr_r.reshape(2,1,5))\n",
    "# but a 1 in the middle add's an extra axis"
   ]
  },
  {
   "cell_type": "code",
   "execution_count": null,
   "metadata": {},
   "outputs": [],
   "source": [
    "print('(2,5,1,1):\\n', arr_r.reshape(2,5,1,1)) "
   ]
  },
  {
   "cell_type": "code",
   "execution_count": null,
   "metadata": {},
   "outputs": [],
   "source": [
    "\n",
    "print('(5,1,2):\\n', arr_r.reshape(2,1,5))\n",
    "print('(2,5,1):\\n', arr_r.reshape(2,1,5))"
   ]
  },
  {
   "attachments": {},
   "cell_type": "markdown",
   "metadata": {},
   "source": [
    "unpack existing shape with *"
   ]
  },
  {
   "cell_type": "code",
   "execution_count": null,
   "metadata": {},
   "outputs": [],
   "source": [
    "print(arr_3d.reshape(1, *arr_3d.shape))\n",
    "print(*arr_3d.shape) # just takes it out of parentheses\n",
    "print(arr_3d.shape)"
   ]
  },
  {
   "cell_type": "code",
   "execution_count": null,
   "metadata": {},
   "outputs": [],
   "source": [
    "print(arr_3d.shape[0])\n",
    "try:\n",
    "    print(*arr_3d.shape[0]) # but no longer iterable\n",
    "except TypeError:\n",
    "    print('* makes shape not iterable')"
   ]
  },
  {
   "attachments": {},
   "cell_type": "markdown",
   "metadata": {},
   "source": [
    "### np.newaxis\n",
    "does same as reshaping with a 1 where the new axis is (and other dims same)"
   ]
  },
  {
   "cell_type": "code",
   "execution_count": null,
   "metadata": {},
   "outputs": [],
   "source": [
    "print(arr_r.reshape(1,10))\n",
    "print((arr_r.reshape(10,1)))"
   ]
  },
  {
   "cell_type": "code",
   "execution_count": null,
   "metadata": {},
   "outputs": [],
   "source": [
    "print(arr_r[np.newaxis,:]) # same as reshape starting with 1\n",
    "print(arr_r[:,np.newaxis]) # same as reshape ending with 1"
   ]
  },
  {
   "cell_type": "code",
   "execution_count": null,
   "metadata": {},
   "outputs": [],
   "source": [
    "print(arr_3d.shape)\n",
    "print(arr_3d)"
   ]
  },
  {
   "cell_type": "code",
   "execution_count": null,
   "metadata": {},
   "outputs": [],
   "source": [
    "print(np.array_equal(arr_3d.reshape(4,2,1,3), arr_3d[:,:,np.newaxis,:]))"
   ]
  },
  {
   "cell_type": "code",
   "execution_count": null,
   "metadata": {},
   "outputs": [],
   "source": [
    "print(arr_3d[0].reshape(6))"
   ]
  },
  {
   "attachments": {},
   "cell_type": "markdown",
   "metadata": {},
   "source": [
    "### 2.3 np.expand_dims()\n",
    "np.expand_dims(array, index of new dim)"
   ]
  },
  {
   "cell_type": "code",
   "execution_count": null,
   "metadata": {},
   "outputs": [],
   "source": [
    "print(np.array_equal(np.expand_dims(arr_3d, 2), \n",
    "                     arr_3d[:,:,np.newaxis,:]))\n",
    "# expand_dims and newaxis don't require specifying size"
   ]
  },
  {
   "attachments": {},
   "cell_type": "markdown",
   "metadata": {},
   "source": [
    "### 2.4 Flattening \n",
    "##### np.ravel() / arr.ravel()\n",
    "* Returns a view of the array in 1d (making it faster than flatten)\n",
    "* Can specify order of flatten or ravel with 'A', 'C', 'F', K' \n",
    "* All those work for reshape too except 'K'."
   ]
  },
  {
   "cell_type": "code",
   "execution_count": null,
   "metadata": {},
   "outputs": [],
   "source": [
    "print(arr_3d.ravel())\n",
    "print(np.ravel(arr_3d))"
   ]
  },
  {
   "attachments": {},
   "cell_type": "markdown",
   "metadata": {},
   "source": [
    "##### reshape(-1)\n",
    "returns a view (if possible)"
   ]
  },
  {
   "cell_type": "code",
   "execution_count": null,
   "metadata": {},
   "outputs": [],
   "source": [
    "print(arr_3d.reshape(-1))\n",
    "print(np.reshape(arr_3d, -1))"
   ]
  },
  {
   "attachments": {},
   "cell_type": "markdown",
   "metadata": {},
   "source": [
    "##### flatten()\n",
    "always returns a copy, this also makes it slower because it needs to allocate new space"
   ]
  },
  {
   "cell_type": "code",
   "execution_count": null,
   "metadata": {},
   "outputs": [],
   "source": [
    "print(arr_3d.flatten())"
   ]
  },
  {
   "cell_type": "code",
   "execution_count": null,
   "metadata": {},
   "outputs": [],
   "source": [
    "flat_3d = arr_3d.flatten()\n",
    "print(flat_3d)\n",
    "print(arr_3d)"
   ]
  },
  {
   "attachments": {},
   "cell_type": "markdown",
   "metadata": {},
   "source": [
    "use ndarray.base to determine if view or copy"
   ]
  },
  {
   "cell_type": "code",
   "execution_count": null,
   "metadata": {},
   "outputs": [],
   "source": [
    "shape_3d  = arr_3d.reshape(-1)\n",
    "# print(shape_3d)\n",
    "print(shape_3d.base)\n",
    "print(arr_3d.base)\n",
    "print(flat_3d.base)\n"
   ]
  },
  {
   "attachments": {},
   "cell_type": "markdown",
   "metadata": {},
   "source": [
    "# 3 Views vs Copies\n",
    "Views: \n",
    "* reshape()\n",
    "* ravel()\n",
    "* basic index of range\n",
    "* view()\n",
    "\n",
    "Copies: \n",
    "* flatten()\n",
    "* fancy indexing \n",
    "* copy()\n",
    "* basic index of one values"
   ]
  },
  {
   "cell_type": "code",
   "execution_count": null,
   "metadata": {},
   "outputs": [],
   "source": [
    "original = np.array([1,2,3])\n",
    "reshaped = np.reshape(original, -1)\n",
    "raveled = original.ravel()\n",
    "flattened = original.flatten()\n",
    "basicindexedrange = original[0:2]\n",
    "basicindexedcolon = original[:]\n",
    "basicindex1 = original[0]\n",
    "fancyindexed = original[original%1==0]\n",
    "\n",
    "original[0] = 5\n",
    "print('reshaped', reshaped) # reshaped is just a view\n",
    "print('flattened', flattened) # flattened is a copy\n",
    "print('raveled', raveled)\n",
    "print('basicindexedrange', basicindexedrange)\n",
    "print('basicindexedcolon', basicindexedcolon)\n",
    "print('basicindex1', basicindex1)\n",
    "print('fancyindexed', fancyindexed) # returned a copy"
   ]
  },
  {
   "attachments": {},
   "cell_type": "markdown",
   "metadata": {},
   "source": [
    "### Determine if something is a copy using np.shares_memory()\n",
    "shares = True if view"
   ]
  },
  {
   "cell_type": "code",
   "execution_count": null,
   "metadata": {},
   "outputs": [],
   "source": [
    "print('reshaped', np.shares_memory(original, reshaped))\n",
    "print('flattened', np.shares_memory(original, flattened))\n",
    "print('raveled', np.shares_memory(original, raveled))\n",
    "print('basicindexedrange', np.shares_memory(original, basicindexedrange))\n",
    "print('basicindexedcolon', np.shares_memory(original, basicindexedcolon))\n",
    "print('basicindex1', np.shares_memory(original, basicindex1))\n",
    "print('fancyindexed', np.shares_memory(original, fancyindexed))"
   ]
  },
  {
   "attachments": {},
   "cell_type": "markdown",
   "metadata": {},
   "source": [
    "2 views of same thing also return True"
   ]
  },
  {
   "cell_type": "code",
   "execution_count": null,
   "metadata": {},
   "outputs": [],
   "source": [
    "print(np.shares_memory(basicindexedrange, raveled))"
   ]
  },
  {
   "attachments": {},
   "cell_type": "markdown",
   "metadata": {},
   "source": [
    "may_share_memory() checks if memory address ranges overlap, not if elemetns reference the same memory"
   ]
  },
  {
   "cell_type": "code",
   "execution_count": null,
   "metadata": {},
   "outputs": [],
   "source": [
    "print(np.may_share_memory(original[::2], original[1::2]))\n",
    "print(np.shares_memory(original[::2], original[1::2]))\n",
    "print(original[::2]) # double colons indicates start:stop:step indexing\n",
    "print(original[1::2])\n",
    "print(original)"
   ]
  },
  {
   "attachments": {},
   "cell_type": "markdown",
   "metadata": {},
   "source": [
    "### Determine if something is a copy using ndarray.base\n",
    "None if it owns its memory"
   ]
  },
  {
   "cell_type": "code",
   "execution_count": null,
   "metadata": {},
   "outputs": [],
   "source": [
    "print('reshaped', reshaped.base) # reshaped is just a view\n",
    "print('flattened', flattened.base) # flattened is a copy\n",
    "print('raveled', raveled.base)\n",
    "print('basicindexedrange', basicindexedrange.base)\n",
    "print('basicindexedcolon', basicindexedcolon.base)\n",
    "print('basicindex1', basicindex1.base)\n",
    "print('fancyindexed', fancyindexed.base) # returned a copy"
   ]
  },
  {
   "attachments": {},
   "cell_type": "markdown",
   "metadata": {},
   "source": [
    "# 4 Math with ndarrays"
   ]
  },
  {
   "attachments": {},
   "cell_type": "markdown",
   "metadata": {},
   "source": [
    "math function of a (1xN) array and a (Mx1) array produces an NxM array"
   ]
  },
  {
   "cell_type": "code",
   "execution_count": null,
   "metadata": {},
   "outputs": [],
   "source": [
    "x_arr = np.array([[1,2,3]])\n",
    "print('x_arr', x_arr.shape)\n",
    "y_arr = np.array([[1],[10],[100],[1000]])\n",
    "print('y_arr', y_arr.shape)\n",
    "print(x_arr*y_arr, '\\nshape', (y_arr*x_arr).shape)\n"
   ]
  },
  {
   "cell_type": "code",
   "execution_count": null,
   "metadata": {},
   "outputs": [],
   "source": []
  }
 ],
 "metadata": {
  "kernelspec": {
   "display_name": "Python 3",
   "language": "python",
   "name": "python3"
  },
  "language_info": {
   "codemirror_mode": {
    "name": "ipython",
    "version": 3
   },
   "file_extension": ".py",
   "mimetype": "text/x-python",
   "name": "python",
   "nbconvert_exporter": "python",
   "pygments_lexer": "ipython3",
   "version": "3.10.10"
  },
  "vscode": {
   "interpreter": {
    "hash": "17d459439548e0ef4d6a744a9fa4f3f6fa91b434189a6e542a76bffcd834cb9b"
   }
  }
 },
 "nbformat": 4,
 "nbformat_minor": 2
}
