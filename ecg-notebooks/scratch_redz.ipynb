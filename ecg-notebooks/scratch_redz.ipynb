{
 "cells": [
  {
   "cell_type": "code",
   "execution_count": 1,
   "metadata": {},
   "outputs": [],
   "source": [
    "# %load ../init.ipy\n",
    "%reload_ext autoreload\n",
    "%autoreload 2\n",
    "from importlib import reload\n",
    "\n",
    "import numpy as np\n",
    "import holodeck as holo\n",
    "import holodeck.single_sources as ss\n",
    "import holodeck.cyutils as cy\n",
    "import matplotlib.pyplot as plt\n",
    "import kalepy as kale\n",
    "\n",
    "\n",
    "import matplotlib.cm as cm\n",
    "from holodeck import plot, utils\n",
    "from holodeck.constants import YR, MSOL"
   ]
  },
  {
   "cell_type": "code",
   "execution_count": 19,
   "metadata": {},
   "outputs": [],
   "source": [
    "dur = 10.0*YR\n",
    "cad = 0.2*YR\n",
    "fobs = utils.nyquist_freqs(dur,cad)\n",
    "fobs_edges = utils.nyquist_freqs_edges(dur,cad)\n",
    "# sam = holo.sam.Semi_Analytic_Model( ZERO_DYNAMIC_STALLED_SYSTEMS = False, ZERO_DYNAMIC_COALESCED_SYSTEMS = True) \n",
    "sam = holo.sam.Semi_Analytic_Model(mtot=(1.0e4*MSOL, 1.0e11*MSOL, 20), mrat=(1e-3, 1.0, 20), redz=(1e-3, 10.0, 20),\n",
    "                                   ZERO_DYNAMIC_STALLED_SYSTEMS = False, ZERO_DYNAMIC_COALESCED_SYSTEMS = True)  # faster version\n",
    "hard = holo.hardening.Hard_GW"
   ]
  },
  {
   "cell_type": "code",
   "execution_count": 21,
   "metadata": {},
   "outputs": [
    {
     "name": "stdout",
     "output_type": "stream",
     "text": [
      "21:07:20 INFO : zero_coalesced=True, zero_stalled=True [sam.py:dynamic_binary_number]\n",
      "21:07:20 INFO : fraction of coalesced binaries: 9.44e+03/2.00e+05 = 4.72e-02 [sam.py:dynamic_binary_number]\n",
      "21:07:20 ERROR : type object 'Hard_GW' has no attribute '_sepa_init' [sam.py:dynamic_binary_number]\n",
      "Traceback (most recent call last):\n",
      "  File \"/Users/emigardiner/GWs/holodeck/holodeck/sam.py\", line 870, in dynamic_binary_number\n",
      "    rmax = hard._sepa_init\n",
      "AttributeError: type object 'Hard_GW' has no attribute '_sepa_init'\n",
      "Failed load initial separation from hardening model!  This is likely because you are using a non-self-consistent hardening model.  This means you cannot determine which systems stall before reaching redshift zero.  FIX: To skip this check, pass `zero_stalled=False` in your call to `Semi_Analytic_Model.dynamic_binary_number` or `Semi_Analytic_Model.gwb`.\n",
      "21:07:20 ERROR : Failed load initial separation from hardening model!  This is likely because you are using a non-self-consistent hardening model.  This means you cannot determine which systems stall before reaching redshift zero.  FIX: To skip this check, pass `zero_stalled=False` in your call to `Semi_Analytic_Model.dynamic_binary_number` or `Semi_Analytic_Model.gwb`. [sam.py:dynamic_binary_number]\n",
      "Traceback (most recent call last):\n",
      "  File \"/Users/emigardiner/GWs/holodeck/holodeck/sam.py\", line 870, in dynamic_binary_number\n",
      "    rmax = hard._sepa_init\n",
      "AttributeError: type object 'Hard_GW' has no attribute '_sepa_init'\n"
     ]
    },
    {
     "ename": "RuntimeError",
     "evalue": "Failed load initial separation from hardening model!  This is likely because you are using a non-self-consistent hardening model.  This means you cannot determine which systems stall before reaching redshift zero.  FIX: To skip this check, pass `zero_stalled=False` in your call to `Semi_Analytic_Model.dynamic_binary_number` or `Semi_Analytic_Model.gwb`.",
     "output_type": "error",
     "traceback": [
      "\u001b[0;31m---------------------------------------------------------------------------\u001b[0m",
      "\u001b[0;31mAttributeError\u001b[0m                            Traceback (most recent call last)",
      "File \u001b[0;32m~/GWs/holodeck/holodeck/sam.py:870\u001b[0m, in \u001b[0;36mSemi_Analytic_Model.dynamic_binary_number\u001b[0;34m(self, hard, fobs_orb, sepa, zero_coalesced, zero_stalled, return_details)\u001b[0m\n\u001b[1;32m    869\u001b[0m \u001b[39mtry\u001b[39;00m:\n\u001b[0;32m--> 870\u001b[0m     rmax \u001b[39m=\u001b[39m hard\u001b[39m.\u001b[39;49m_sepa_init\n\u001b[1;32m    871\u001b[0m \u001b[39mexcept\u001b[39;00m \u001b[39mAttributeError\u001b[39;00m \u001b[39mas\u001b[39;00m err:\n",
      "\u001b[0;31mAttributeError\u001b[0m: type object 'Hard_GW' has no attribute '_sepa_init'",
      "\nDuring handling of the above exception, another exception occurred:\n",
      "\u001b[0;31mRuntimeError\u001b[0m                              Traceback (most recent call last)",
      "Cell \u001b[0;32mIn[21], line 4\u001b[0m\n\u001b[1;32m      2\u001b[0m fobs_orb_cents \u001b[39m=\u001b[39m fobs\u001b[39m/\u001b[39m \u001b[39m2.0\u001b[39m\n\u001b[1;32m      3\u001b[0m \u001b[39m# edges\u001b[39;00m\n\u001b[0;32m----> 4\u001b[0m edges, dnum \u001b[39m=\u001b[39m sam\u001b[39m.\u001b[39;49mdynamic_binary_number(hard, fobs_orb\u001b[39m=\u001b[39;49mfobs_orb_cents, zero_stalled\u001b[39m=\u001b[39;49m\u001b[39mTrue\u001b[39;49;00m) \u001b[39m# should the zero stalled option be part of the parameter space?\u001b[39;00m\n\u001b[1;32m      5\u001b[0m edges[\u001b[39m-\u001b[39m\u001b[39m1\u001b[39m] \u001b[39m=\u001b[39m fobs_orb_edges\n\u001b[1;32m      6\u001b[0m \u001b[39m# integrate for number\u001b[39;00m\n",
      "File \u001b[0;32m~/GWs/holodeck/holodeck/sam.py:881\u001b[0m, in \u001b[0;36mSemi_Analytic_Model.dynamic_binary_number\u001b[0;34m(self, hard, fobs_orb, sepa, zero_coalesced, zero_stalled, return_details)\u001b[0m\n\u001b[1;32m    879\u001b[0m     \u001b[39mprint\u001b[39m(msg)\n\u001b[1;32m    880\u001b[0m     log\u001b[39m.\u001b[39mexception(msg)\n\u001b[0;32m--> 881\u001b[0m     \u001b[39mraise\u001b[39;00m \u001b[39mRuntimeError\u001b[39;00m(msg)\n\u001b[1;32m    883\u001b[0m \u001b[39m# (M,) end at the ISCO\u001b[39;00m\n\u001b[1;32m    884\u001b[0m rmin \u001b[39m=\u001b[39m utils\u001b[39m.\u001b[39mrad_isco(\u001b[39mself\u001b[39m\u001b[39m.\u001b[39mmtot)\n",
      "\u001b[0;31mRuntimeError\u001b[0m: Failed load initial separation from hardening model!  This is likely because you are using a non-self-consistent hardening model.  This means you cannot determine which systems stall before reaching redshift zero.  FIX: To skip this check, pass `zero_stalled=False` in your call to `Semi_Analytic_Model.dynamic_binary_number` or `Semi_Analytic_Model.gwb`."
     ]
    }
   ],
   "source": [
    "fobs_orb_edges = fobs_edges / 2.0 \n",
    "fobs_orb_cents = fobs/ 2.0\n",
    "# edges\n",
    "edges, dnum = sam.dynamic_binary_number(hard, fobs_orb=fobs_orb_cents, zero_stalled=True) # should the zero stalled option be part of the parameter space?\n",
    "edges[-1] = fobs_orb_edges\n",
    "# integrate for number\n",
    "number = utils._integrate_grid_differential_number(edges, dnum, freq=False)\n",
    "number = number * np.diff(np.log(fobs_edges)) \n",
    "# hc_ss, hc_bg = ss.ss_gws(edges, number, realize=30, \n",
    "#                                         loudest = 1, params = False) \n"
   ]
  },
  {
   "cell_type": "code",
   "execution_count": 14,
   "metadata": {},
   "outputs": [
    {
     "ename": "AttributeError",
     "evalue": "'Semi_Analytic_Model' object has no attribute '_redz_final'",
     "output_type": "error",
     "traceback": [
      "\u001b[0;31m---------------------------------------------------------------------------\u001b[0m",
      "\u001b[0;31mAttributeError\u001b[0m                            Traceback (most recent call last)",
      "Cell \u001b[0;32mIn[14], line 12\u001b[0m\n\u001b[1;32m      9\u001b[0m     use_redz_after_hard \u001b[39m=\u001b[39m sam\u001b[39m.\u001b[39mUSE_REDZ_AFTER_HARD\n\u001b[1;32m     11\u001b[0m \u001b[39mif\u001b[39;00m use_redz_after_hard:\n\u001b[0;32m---> 12\u001b[0m     use_redz \u001b[39m=\u001b[39m sam\u001b[39m.\u001b[39;49m_redz_final\n\u001b[1;32m     13\u001b[0m \u001b[39m# # Use the redshift based on initial redshift + galaxy-merger-time (without evo time)\u001b[39;00m\n\u001b[1;32m     14\u001b[0m \u001b[39m# else:\u001b[39;00m\n\u001b[1;32m     15\u001b[0m \u001b[39m#     # holo.log.warning(f\"Using `redz_prime` for redshift (includes galaxy merger time, but not evolution time)\")\u001b[39;00m\n\u001b[1;32m     16\u001b[0m \u001b[39m#     use_redz = sam._redz_prime[:, :, :, np.newaxis] * np.ones_like(dnum)\u001b[39;00m\n",
      "\u001b[0;31mAttributeError\u001b[0m: 'Semi_Analytic_Model' object has no attribute '_redz_final'"
     ]
    }
   ],
   "source": [
    "# times += sam._gmt_time.reshape(-1)[np.newaxis, :]\n",
    "\n",
    "# redz_final = utils.redz_after(times, redz=rz[0, np.newaxis, :])\n",
    "\n",
    "\n",
    "\n",
    "use_redz_after_hard=True\n",
    "if use_redz_after_hard is None:\n",
    "    use_redz_after_hard = sam.USE_REDZ_AFTER_HARD\n",
    "\n",
    "if use_redz_after_hard:\n",
    "    use_redz = sam._redz_final\n",
    "# # Use the redshift based on initial redshift + galaxy-merger-time (without evo time)\n",
    "# else:\n",
    "#     # holo.log.warning(f\"Using `redz_prime` for redshift (includes galaxy merger time, but not evolution time)\")\n",
    "#     use_redz = sam._redz_prime[:, :, :, np.newaxis] * np.ones_like(dnum)\n",
    "\n"
   ]
  },
  {
   "cell_type": "code",
   "execution_count": 3,
   "metadata": {},
   "outputs": [
    {
     "name": "stdout",
     "output_type": "stream",
     "text": [
      "60 80 100 25\n"
     ]
    }
   ],
   "source": [
    "M = number.shape[0]\n",
    "Q = number.shape[1]\n",
    "Z = number.shape[2]\n",
    "F = number.shape[3]\n",
    "print(M,Q,Z,F)"
   ]
  }
 ],
 "metadata": {
  "kernelspec": {
   "display_name": "holo310",
   "language": "python",
   "name": "python3"
  },
  "language_info": {
   "codemirror_mode": {
    "name": "ipython",
    "version": 3
   },
   "file_extension": ".py",
   "mimetype": "text/x-python",
   "name": "python",
   "nbconvert_exporter": "python",
   "pygments_lexer": "ipython3",
   "version": "3.10.10"
  },
  "orig_nbformat": 4,
  "vscode": {
   "interpreter": {
    "hash": "b691867a38f678e88325b7be712686862775b0bc37454cc33917ba725d804d99"
   }
  }
 },
 "nbformat": 4,
 "nbformat_minor": 2
}
