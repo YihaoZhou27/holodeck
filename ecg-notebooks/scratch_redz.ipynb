{
 "cells": [
  {
   "cell_type": "code",
   "execution_count": null,
   "metadata": {},
   "outputs": [],
   "source": [
    "# %load ../init.ipy\n",
    "%reload_ext autoreload\n",
    "%autoreload 2\n",
    "from importlib import reload\n",
    "\n",
    "import numpy as np\n",
    "import holodeck as holo\n",
    "import holodeck.single_sources as ss\n",
    "import holodeck.cyutils as cy\n",
    "import matplotlib.pyplot as plt\n",
    "import kalepy as kale\n",
    "\n",
    "\n",
    "import matplotlib.cm as cm\n",
    "from holodeck import plot, utils\n",
    "from holodeck.constants import YR, MSOL, GYR"
   ]
  },
  {
   "attachments": {},
   "cell_type": "markdown",
   "metadata": {},
   "source": [
    "# Check flag replacement\n",
    "## Fixed_Time"
   ]
  },
  {
   "cell_type": "code",
   "execution_count": null,
   "metadata": {},
   "outputs": [],
   "source": [
    "dur, cad = 17.5*YR, 0.2*YR\n",
    "fobs = utils.nyquist_freqs(dur,cad)\n",
    "fobs_edges = utils.nyquist_freqs_edges(dur,cad)\n",
    "sam = holo.sam.Semi_Analytic_Model()\n",
    "# sam = holo.sam.Semi_Analytic_Model(mtot=(1.0e4*MSOL, 1.0e11*MSOL, 20), mrat=(1e-3, 1.0, 20), redz=(1e-3, 10.0, 20))  # faster version\n",
    "# hard = holo.hardening.Fixed_Time.from_sam(sam, 3*GYR)\n",
    "# fobs_orb_edges = fobs_edges / 2.0 \n",
    "# fobs_orb_cents = fobs/ 2.0\n",
    "# edges, dnum = sam.dynamic_binary_number(hard, fobs_orb=fobs_orb_cents) #, zero_stalled=True) # should the zero stalled option be part of the parameter space?\n",
    "# edges[-1] = fobs_orb_edges\n"
   ]
  },
  {
   "cell_type": "code",
   "execution_count": null,
   "metadata": {},
   "outputs": [],
   "source": [
    "# just using gwb() function\n",
    "gwb = sam.gwb(fobs_edges, realize=10)\n",
    "fig = plot.plot_gwb(fobs, gwb)"
   ]
  },
  {
   "cell_type": "code",
   "execution_count": null,
   "metadata": {},
   "outputs": [],
   "source": [
    "# just using gwb() function\n",
    "\n",
    "gwb = sam.gwb(fobs_edges, hard=holo.hardening.Hard_GW, realize=10)\n",
    "fig = plot.plot_gwb(fobs, gwb)"
   ]
  },
  {
   "attachments": {},
   "cell_type": "markdown",
   "metadata": {},
   "source": [
    "Fixed_Time dadt issue: Need to create a Fixed_Time instance, like by hard = holo.hardening.Fixed_Time.from_sam(sam, 3*GYR)"
   ]
  },
  {
   "attachments": {},
   "cell_type": "markdown",
   "metadata": {},
   "source": [
    "# ss_gws_redz using sam.ss_gwb()\n",
    "## with Hard_GW"
   ]
  },
  {
   "cell_type": "code",
   "execution_count": null,
   "metadata": {},
   "outputs": [],
   "source": [
    "hc_ss, hc_bg, sspar, bgpar = sam.ss_gwb(fobs_edges, hard=holo.hardening.Hard_GW, realize = 10, loudest = 5, params = True)"
   ]
  },
  {
   "cell_type": "code",
   "execution_count": null,
   "metadata": {},
   "outputs": [],
   "source": [
    "fig = plot.plot_bg_ss(fobs, hc_bg, hc_ss)"
   ]
  },
  {
   "cell_type": "code",
   "execution_count": null,
   "metadata": {},
   "outputs": [],
   "source": [
    "fig = plot.plot_pars(fobs, hc_ss, hc_bg, sspar, bgpar)"
   ]
  },
  {
   "cell_type": "code",
   "execution_count": null,
   "metadata": {},
   "outputs": [],
   "source": [
    "hc_ss, hc_bg = sam.ss_gwb(fobs_edges, realize=30, loudest=100, params=False)\n",
    "fig = plot.plot_bg_ss(fobs, hc_bg, hc_ss)"
   ]
  },
  {
   "attachments": {},
   "cell_type": "markdown",
   "metadata": {},
   "source": [
    "## With Fixed_Time"
   ]
  },
  {
   "cell_type": "code",
   "execution_count": null,
   "metadata": {},
   "outputs": [],
   "source": [
    "hard = holo.hardening.Fixed_Time.from_sam(sam, 3*GYR)\n",
    "hc_ss, hc_bg, sspar, bgpar = sam.ss_gwb(fobs_edges, hard=hard, realize = 10, loudest = 5, params = True)\n",
    "fig = plot.plot_bg_ss(fobs, hc_bg, hc_ss)\n",
    "fig = plot.plot_pars(fobs, hc_ss, hc_bg, sspar, bgpar )"
   ]
  },
  {
   "cell_type": "code",
   "execution_count": null,
   "metadata": {},
   "outputs": [],
   "source": [
    "hc_ss, hc_bg = sam.ss_gwb(fobs_edges, hard=hard, realize = 10, loudest = 5, params = False)\n",
    "fig = plot.plot_bg_ss(fobs, hc_bg, hc_ss)"
   ]
  },
  {
   "attachments": {},
   "cell_type": "markdown",
   "metadata": {},
   "source": [
    "# Change redz for params"
   ]
  },
  {
   "cell_type": "markdown",
   "metadata": {},
   "source": []
  },
  {
   "cell_type": "code",
   "execution_count": null,
   "metadata": {},
   "outputs": [],
   "source": [
    "dur, cad = 16*YR, 0.2*YR\n",
    "fobs_gw_cents = utils.nyquist_freqs(dur,cad)\n",
    "fobs_gw_edges = utils.nyquist_freqs_edges(dur,cad)\n",
    "sam = holo.sam.Semi_Analytic_Model(mtot=(1e5*MSOL, 1e12*MSOL, 21), mrat = (0.001, 1, 16), redz=(0.001, 10, 11))\n",
    "# sam=holo.sam.Semi_Analytic_Model()\n",
    "\n",
    "hard = holo.hardening.Fixed_Time.from_sam(sam, 3*GYR)\n",
    "# hard = holo.hardening.Hard_GW\n",
    "# hard = holo.hardening.Fixed_Time_2PL_SAM(sam, 3*GYR)\n",
    "\n",
    "fobs_orb_cents = fobs_gw_cents / 2.0\n",
    "fobs_orb_edges = fobs_gw_edges / 2.0\n",
    "edges, dnum, redz_final = sam._dynamic_binary_number_at_fobs_consistent(hard, fobs_orb_cents)"
   ]
  },
  {
   "cell_type": "markdown",
   "metadata": {},
   "source": []
  },
  {
   "cell_type": "code",
   "execution_count": null,
   "metadata": {},
   "outputs": [],
   "source": [
    "# edges, dnum, redz_final = sam._dynamic_binary_number_at_fobs_inconsistent(hard, fobs_orb_cents)\n",
    "edges[-1] = fobs_orb_edges\n",
    "print(redz_final.shape)"
   ]
  },
  {
   "cell_type": "code",
   "execution_count": null,
   "metadata": {},
   "outputs": [],
   "source": [
    "number = utils._integrate_grid_differential_number(edges, dnum, freq=False)\n",
    "number = number * np.diff(np.log(fobs_gw_edges))"
   ]
  },
  {
   "attachments": {},
   "cell_type": "markdown",
   "metadata": {},
   "source": [
    "inside single_sources.ss_gws_redz()"
   ]
  },
  {
   "cell_type": "code",
   "execution_count": null,
   "metadata": {},
   "outputs": [],
   "source": [
    "# hsfdf = hsamp^2 * f/df # this is same as hc^2\n",
    "h2fdf = holo.gravwaves.char_strain_sq_from_bin_edges_redz(edges, redz_final)"
   ]
  },
  {
   "cell_type": "code",
   "execution_count": null,
   "metadata": {},
   "outputs": [],
   "source": [
    "mt = kale.utils.midpoints(edges[0]) #: total mass\n",
    "mr = kale.utils.midpoints(edges[1]) #: mass ratio\n",
    "rz = kale.utils.midpoints(edges[2]) #: initial redshift\n",
    "\n",
    "print('mt:', mt.shape, 'mr:', mr.shape, 'rz:', rz.shape)\n",
    "\n",
    "# indices of bins sorted by h2fdf\n",
    "indices = np.argsort(-h2fdf[...,0].flatten()) # just sort for first frequency\n",
    "unraveled = np.array(np.unravel_index(indices, (len(mt),len(mr),len(rz))))\n",
    "msort = unraveled[0,:]\n",
    "qsort = unraveled[1,:]\n",
    "zsort = unraveled[2,:]"
   ]
  },
  {
   "cell_type": "code",
   "execution_count": null,
   "metadata": {},
   "outputs": [],
   "source": [
    "realize=10\n",
    "loudest=5\n",
    "\n",
    "hc2ss, hc2bg, lspar, bgpar, ssidx = \\\n",
    "                holo.cyutils.loudest_hc_and_par_from_sorted(number, h2fdf, realize, loudest,\n",
    "                                                            mt, mr, rz, msort, qsort, zsort)"
   ]
  },
  {
   "cell_type": "code",
   "execution_count": null,
   "metadata": {},
   "outputs": [],
   "source": [
    "print(ssidx.shape)\n",
    "print([ssidx[0,...].shape, mt.shape])"
   ]
  },
  {
   "cell_type": "code",
   "execution_count": null,
   "metadata": {},
   "outputs": [],
   "source": [
    "print(redz_final.shape)\n",
    "redz = np.copy(redz_final)\n",
    "for dd in range(3):\n",
    "        redz = np.moveaxis(redz, dd, 0)\n",
    "        redz = kale.utils.midpoints(redz, axis=0)\n",
    "        redz = np.moveaxis(redz, 0, dd)\n",
    "print(redz.shape)\n",
    "print(mt.shape, mr.shape, rz.shape)"
   ]
  },
  {
   "cell_type": "code",
   "execution_count": null,
   "metadata": {},
   "outputs": [],
   "source": [
    "# print(ssidx[0,...].shape)\n",
    "# fidx = np.arange(len(ssidx[0]))\n",
    "# print(fidx.shape)\n",
    "# fidx = np.repeat(fidx, ssidx[0,0].size).reshape(ssidx[0].shape)\n",
    "# print(fidx.shape)\n",
    "# print(fidx[:,0,0])\n",
    "\n",
    "# ssnew = np.array([])\n",
    "# print(ssnew.shape)"
   ]
  },
  {
   "cell_type": "code",
   "execution_count": null,
   "metadata": {},
   "outputs": [],
   "source": [
    "# ssnew = np.array([ssidx[0,...], ssidx[1,...], ssidx[2,...], ])\n",
    "\n",
    "# par_rz_old = rz[ssidx[2,...]]\n",
    "# par_rz_new = redz[ssidx[0,...], ssidx[1,...], ssidx[2,...]]\n",
    "\n",
    "# print(par_rz_old.shape, par_rz_new.shape)"
   ]
  },
  {
   "cell_type": "code",
   "execution_count": null,
   "metadata": {},
   "outputs": [],
   "source": [
    "qq = redz[ssidx[0,...], [ssidx[1,...], ssidx[2,...], ssidx[3,...]]]\n",
    "print(qq.shape)\n",
    "print(mt[ssidx[0,...]].shape)"
   ]
  },
  {
   "cell_type": "code",
   "execution_count": null,
   "metadata": {},
   "outputs": [],
   "source": [
    "sspar = np.array([mt[ssidx[0,...]], mr[ssidx[1,...]], rz[ssidx[2,...]]])\n",
    "for ff in range(len(ssidx[0])):\n",
    "    for rr in range(len(ssidx[0,0])):\n",
    "        for "
   ]
  },
  {
   "cell_type": "markdown",
   "metadata": {},
   "source": []
  },
  {
   "cell_type": "code",
   "execution_count": null,
   "metadata": {},
   "outputs": [],
   "source": [
    "\n",
    "# hc_ss, hc_bg, sspar, bgpar = sam.ss_gwb(fobs_gw_edges, hard, params=True)"
   ]
  },
  {
   "cell_type": "code",
   "execution_count": null,
   "metadata": {},
   "outputs": [],
   "source": [
    "fobs_orb_edges = fobs_gw_edges / 2.0\n",
    "fobs_orb_cents = fobs_gw_cents / 2.0\n",
    "\n",
    "edges, dnum, redz_final = sam.dynamic_binary_number_at_fobs(hard, fobs_orb_cents)\n",
    "edges[-1] = fobs_orb_edges\n",
    "\n",
    "number = utils._integrate_grid_differential_number(edges, dnum, freq=False)\n",
    "number = number * np.diff(np.log(fobs_gw_edges))\n",
    "print(f\"number: {utils.stats(number)}\")\n",
    "print(f\"number.sum(): {number.sum():.4e}\")"
   ]
  },
  {
   "cell_type": "code",
   "execution_count": null,
   "metadata": {},
   "outputs": [],
   "source": [
    "use_redz = sam._redz_final"
   ]
  }
 ],
 "metadata": {
  "kernelspec": {
   "display_name": "holo310",
   "language": "python",
   "name": "python3"
  },
  "language_info": {
   "codemirror_mode": {
    "name": "ipython",
    "version": 3
   },
   "file_extension": ".py",
   "mimetype": "text/x-python",
   "name": "python",
   "nbconvert_exporter": "python",
   "pygments_lexer": "ipython3",
   "version": "3.10.10"
  },
  "vscode": {
   "interpreter": {
    "hash": "b691867a38f678e88325b7be712686862775b0bc37454cc33917ba725d804d99"
   }
  }
 },
 "nbformat": 4,
 "nbformat_minor": 2
}
