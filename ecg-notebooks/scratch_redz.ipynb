{
 "cells": [
  {
   "cell_type": "code",
   "execution_count": 3,
   "metadata": {},
   "outputs": [],
   "source": [
    "# %load ../init.ipy\n",
    "%reload_ext autoreload\n",
    "%autoreload 2\n",
    "from importlib import reload\n",
    "\n",
    "import numpy as np\n",
    "import holodeck as holo\n",
    "import holodeck.single_sources as ss\n",
    "import holodeck.cyutils as cy\n",
    "import matplotlib.pyplot as plt\n",
    "import kalepy as kale\n",
    "\n",
    "\n",
    "import matplotlib.cm as cm\n",
    "from holodeck import plot, utils\n",
    "from holodeck.constants import YR, MSOL"
   ]
  },
  {
   "attachments": {},
   "cell_type": "markdown",
   "metadata": {},
   "source": [
    "# Check flag replacement"
   ]
  },
  {
   "cell_type": "code",
   "execution_count": 7,
   "metadata": {},
   "outputs": [
    {
     "name": "stdout",
     "output_type": "stream",
     "text": [
      "11:38:09 INFO : zero_coalesced=False, zero_stalled=True [sam.py:dynamic_binary_number]\n",
      "11:38:09 INFO : Stalled SAM bins based on GMT: 3.20e+03/8.00e+03 = 4.00e-01 [sam.py:static_binary_density]\n",
      "11:38:09 INFO : Adding MMbulge scatter (3.4000e-01) [sam.py:static_binary_density]\n",
      "11:38:09 INFO : \tdens bef: (1.28e-114, 1.11e-55, 2.00e-13, 1.79e-03, 1.69e-02, 3.04e-02, 4.47e-02) [sam.py:static_binary_density]\n",
      "11:38:09 INFO : Scatter added after 0.176871 sec [sam.py:static_binary_density]\n",
      "11:38:09 INFO : \tdens aft: (6.08e-15, 1.26e-08, 1.91e-06, 1.96e-03, 1.73e-02, 3.03e-02, 4.25e-02) [sam.py:static_binary_density]\n",
      "11:38:09 INFO : \tmass: 8.91e-02 ==> 8.88e-02 || change = -3.5501e-03 [sam.py:static_binary_density]\n",
      "11:38:09 INFO : zeroing out 3.20e+03/8.00e+03 = 4.00e-01 systems stalled from GMT [sam.py:static_binary_density]\n"
     ]
    },
    {
     "ename": "TypeError",
     "evalue": "Fixed_Time.dadt() missing 1 required positional argument: 'sepa'",
     "output_type": "error",
     "traceback": [
      "\u001b[0;31m---------------------------------------------------------------------------\u001b[0m",
      "\u001b[0;31mTypeError\u001b[0m                                 Traceback (most recent call last)",
      "Cell \u001b[0;32mIn[7], line 8\u001b[0m\n\u001b[1;32m      6\u001b[0m fobs_orb_edges \u001b[39m=\u001b[39m fobs_edges \u001b[39m/\u001b[39m \u001b[39m2.0\u001b[39m \n\u001b[1;32m      7\u001b[0m fobs_orb_cents \u001b[39m=\u001b[39m fobs\u001b[39m/\u001b[39m \u001b[39m2.0\u001b[39m\n\u001b[0;32m----> 8\u001b[0m edges, dnum \u001b[39m=\u001b[39m sam\u001b[39m.\u001b[39;49mdynamic_binary_number(hard, fobs_orb\u001b[39m=\u001b[39;49mfobs_orb_cents) \u001b[39m#, zero_stalled=True) # should the zero stalled option be part of the parameter space?\u001b[39;00m\n\u001b[1;32m      9\u001b[0m edges[\u001b[39m-\u001b[39m\u001b[39m1\u001b[39m] \u001b[39m=\u001b[39m fobs_orb_edges\n\u001b[1;32m     12\u001b[0m \u001b[39m# use_redz = sam._redz_prime\u001b[39;00m\n",
      "File \u001b[0;32m~/GWs/holodeck/holodeck/sam.py:816\u001b[0m, in \u001b[0;36mSemi_Analytic_Model.dynamic_binary_number\u001b[0;34m(self, hard, fobs_orb, sepa, zero_coalesced, zero_stalled, return_details)\u001b[0m\n\u001b[1;32m    813\u001b[0m     frst_orb \u001b[39m=\u001b[39m utils\u001b[39m.\u001b[39mkepler_freq_from_sepa(mt[np\u001b[39m.\u001b[39mnewaxis, :], sa)\n\u001b[1;32m    815\u001b[0m \u001b[39m# (X, M*Q*Z), hardening rate, negative values, units of [cm/sec]\u001b[39;00m\n\u001b[0;32m--> 816\u001b[0m dadt \u001b[39m=\u001b[39m hard\u001b[39m.\u001b[39;49mdadt(mt[np\u001b[39m.\u001b[39;49mnewaxis, :], mr[np\u001b[39m.\u001b[39;49mnewaxis, :], sa)\n\u001b[1;32m    818\u001b[0m \u001b[39m# Calculate `tau = dt/dlnf_r = f_r / (df_r/dt)`\u001b[39;00m\n\u001b[1;32m    819\u001b[0m \u001b[39mif\u001b[39;00m fobs_orb \u001b[39mis\u001b[39;00m \u001b[39mnot\u001b[39;00m \u001b[39mNone\u001b[39;00m:\n\u001b[1;32m    820\u001b[0m     \u001b[39m# dfdt is positive (increasing frequency)\u001b[39;00m\n",
      "\u001b[0;31mTypeError\u001b[0m: Fixed_Time.dadt() missing 1 required positional argument: 'sepa'"
     ]
    }
   ],
   "source": [
    "dur, cad = 17.5*YR, 0.2*YR\n",
    "fobs = utils.nyquist_freqs(dur,cad)\n",
    "fobs_edges = utils.nyquist_freqs_edges(dur,cad)\n",
    "sam = holo.sam.Semi_Analytic_Model(mtot=(1.0e4*MSOL, 1.0e11*MSOL, 20), mrat=(1e-3, 1.0, 20), redz=(1e-3, 10.0, 20))  # faster version\n",
    "hard = holo.hardening.Fixed_Time\n",
    "fobs_orb_edges = fobs_edges / 2.0 \n",
    "fobs_orb_cents = fobs/ 2.0\n",
    "edges, dnum = sam.dynamic_binary_number(hard, fobs_orb=fobs_orb_cents) #, zero_stalled=True) # should the zero stalled option be part of the parameter space?\n",
    "edges[-1] = fobs_orb_edges\n",
    "\n",
    "\n",
    "# use_redz = sam._redz_prime"
   ]
  },
  {
   "cell_type": "code",
   "execution_count": 27,
   "metadata": {},
   "outputs": [],
   "source": [
    "dur = 17.5*YR\n",
    "cad = 0.2*YR\n",
    "fobs = utils.nyquist_freqs(dur,cad)\n",
    "fobs_edges = utils.nyquist_freqs_edges(dur,cad)\n",
    "# sam = holo.sam.Semi_Analytic_Model( ZERO_DYNAMIC_STALLED_SYSTEMS = False, ZERO_DYNAMIC_COALESCED_SYSTEMS = True) \n",
    "sam = holo.sam.Semi_Analytic_Model(mtot=(1.0e4*MSOL, 1.0e11*MSOL, 20), mrat=(1e-3, 1.0, 20), redz=(1e-3, 10.0, 20),\n",
    "                                   ZERO_DYNAMIC_STALLED_SYSTEMS = False, ZERO_DYNAMIC_COALESCED_SYSTEMS = True)  # faster version\n",
    "hard = holo.hardening.Hard_GW"
   ]
  },
  {
   "cell_type": "code",
   "execution_count": 29,
   "metadata": {},
   "outputs": [
    {
     "name": "stdout",
     "output_type": "stream",
     "text": [
      "09:16:35 INFO : zero_coalesced=True, zero_stalled=False [sam.py:dynamic_binary_number]\n",
      "09:16:35 INFO : fraction of coalesced binaries: 9.44e+03/2.00e+05 = 4.72e-02 [sam.py:dynamic_binary_number]\n",
      "09:16:35 INFO : stalled binaries are not being accounted for in `dynamic_binary_number`! [sam.py:dynamic_binary_number]\n"
     ]
    }
   ],
   "source": [
    "fobs_orb_edges = fobs_edges / 2.0 \n",
    "fobs_orb_cents = fobs/ 2.0\n",
    "# edges\n",
    "edges, dnum = sam.dynamic_binary_number(hard, fobs_orb=fobs_orb_cents) #, zero_stalled=True) # should the zero stalled option be part of the parameter space?\n",
    "edges[-1] = fobs_orb_edges\n",
    "# integrate for number\n",
    "number = utils._integrate_grid_differential_number(edges, dnum, freq=False)\n",
    "number = number * np.diff(np.log(fobs_edges)) \n",
    "# hc_ss, hc_bg = ss.ss_gws(edges, number, realize=30, \n",
    "#                                         loudest = 1, params = False) \n"
   ]
  },
  {
   "cell_type": "code",
   "execution_count": 14,
   "metadata": {},
   "outputs": [
    {
     "ename": "AttributeError",
     "evalue": "'Semi_Analytic_Model' object has no attribute '_redz_final'",
     "output_type": "error",
     "traceback": [
      "\u001b[0;31m---------------------------------------------------------------------------\u001b[0m",
      "\u001b[0;31mAttributeError\u001b[0m                            Traceback (most recent call last)",
      "Cell \u001b[0;32mIn[14], line 12\u001b[0m\n\u001b[1;32m      9\u001b[0m     use_redz_after_hard \u001b[39m=\u001b[39m sam\u001b[39m.\u001b[39mUSE_REDZ_AFTER_HARD\n\u001b[1;32m     11\u001b[0m \u001b[39mif\u001b[39;00m use_redz_after_hard:\n\u001b[0;32m---> 12\u001b[0m     use_redz \u001b[39m=\u001b[39m sam\u001b[39m.\u001b[39;49m_redz_final\n\u001b[1;32m     13\u001b[0m \u001b[39m# # Use the redshift based on initial redshift + galaxy-merger-time (without evo time)\u001b[39;00m\n\u001b[1;32m     14\u001b[0m \u001b[39m# else:\u001b[39;00m\n\u001b[1;32m     15\u001b[0m \u001b[39m#     # holo.log.warning(f\"Using `redz_prime` for redshift (includes galaxy merger time, but not evolution time)\")\u001b[39;00m\n\u001b[1;32m     16\u001b[0m \u001b[39m#     use_redz = sam._redz_prime[:, :, :, np.newaxis] * np.ones_like(dnum)\u001b[39;00m\n",
      "\u001b[0;31mAttributeError\u001b[0m: 'Semi_Analytic_Model' object has no attribute '_redz_final'"
     ]
    }
   ],
   "source": [
    "# times += sam._gmt_time.reshape(-1)[np.newaxis, :]\n",
    "\n",
    "# redz_final = utils.redz_after(times, redz=rz[0, np.newaxis, :])\n",
    "\n",
    "\n",
    "\n",
    "use_redz_after_hard=True\n",
    "if use_redz_after_hard is None:\n",
    "    use_redz_after_hard = sam.USE_REDZ_AFTER_HARD\n",
    "\n",
    "if use_redz_after_hard:\n",
    "    use_redz = sam._redz_final\n",
    "# # Use the redshift based on initial redshift + galaxy-merger-time (without evo time)\n",
    "# else:\n",
    "#     # holo.log.warning(f\"Using `redz_prime` for redshift (includes galaxy merger time, but not evolution time)\")\n",
    "#     use_redz = sam._redz_prime[:, :, :, np.newaxis] * np.ones_like(dnum)\n",
    "\n"
   ]
  },
  {
   "cell_type": "code",
   "execution_count": 3,
   "metadata": {},
   "outputs": [
    {
     "name": "stdout",
     "output_type": "stream",
     "text": [
      "60 80 100 25\n"
     ]
    }
   ],
   "source": [
    "M = number.shape[0]\n",
    "Q = number.shape[1]\n",
    "Z = number.shape[2]\n",
    "F = number.shape[3]\n",
    "print(M,Q,Z,F)"
   ]
  }
 ],
 "metadata": {
  "kernelspec": {
   "display_name": "holo310",
   "language": "python",
   "name": "python3"
  },
  "language_info": {
   "codemirror_mode": {
    "name": "ipython",
    "version": 3
   },
   "file_extension": ".py",
   "mimetype": "text/x-python",
   "name": "python",
   "nbconvert_exporter": "python",
   "pygments_lexer": "ipython3",
   "version": "3.10.10"
  },
  "orig_nbformat": 4,
  "vscode": {
   "interpreter": {
    "hash": "b691867a38f678e88325b7be712686862775b0bc37454cc33917ba725d804d99"
   }
  }
 },
 "nbformat": 4,
 "nbformat_minor": 2
}
