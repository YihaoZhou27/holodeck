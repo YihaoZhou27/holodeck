{
 "cells": [
  {
   "cell_type": "code",
   "execution_count": 82,
   "metadata": {},
   "outputs": [],
   "source": [
    "# MOD per system\n",
    "import sys\n",
    "sys.path.append('C:/Users/emiga/OneDrive/Cal/GWs/code/holodeck') \n",
    "\n",
    "\n",
    "# %load ../init.ipy\n",
    "%reload_ext autoreload\n",
    "%autoreload 2\n",
    "from importlib import reload\n",
    "\n",
    "import os\n",
    "import sys\n",
    "import logging\n",
    "import warnings\n",
    "import numpy as np\n",
    "import astropy as ap\n",
    "import scipy as sp\n",
    "import scipy.stats\n",
    "import matplotlib as mpl\n",
    "import matplotlib.pyplot as plt\n",
    "\n",
    "import h5py\n",
    "import tqdm.notebook as tqdm\n",
    "\n",
    "import kalepy as kale\n",
    "import kalepy.utils\n",
    "import kalepy.plot\n",
    "\n",
    "import holodeck as holo\n",
    "import holodeck.sam\n",
    "from holodeck import cosmo, utils, plot\n",
    "from holodeck.constants import MSOL, PC, YR, MPC, GYR\n",
    "\n",
    "# Silence annoying numpy errors\n",
    "np.seterr(divide='ignore', invalid='ignore', over='ignore')\n",
    "warnings.filterwarnings(\"ignore\", category=UserWarning)\n",
    "\n",
    "# Plotting settings\n",
    "mpl.rc('font', **{'family': 'serif', 'sans-serif': ['Times'], 'size': 15})\n",
    "mpl.rc('lines', solid_capstyle='round')\n",
    "mpl.rc('mathtext', fontset='cm')\n",
    "mpl.style.use('default')   # avoid dark backgrounds from dark theme vscode\n",
    "plt.rcParams.update({'grid.alpha': 0.5})\n",
    "\n",
    "log = holo.log\n",
    "log.setLevel(logging.INFO)"
   ]
  },
  {
   "cell_type": "markdown",
   "metadata": {},
   "source": [
    "# SAM Edges and Number for Example"
   ]
  },
  {
   "cell_type": "markdown",
   "metadata": {},
   "source": [
    "frequency bins/edges"
   ]
  },
  {
   "cell_type": "code",
   "execution_count": 83,
   "metadata": {},
   "outputs": [
    {
     "name": "stdout",
     "output_type": "stream",
     "text": [
      "Number of frequency bins: 4\n",
      "  between [0.63, 3.16] 1/yr\n",
      "          [20.00, 100.00] nHz\n"
     ]
    }
   ],
   "source": [
    "dur = 5.0*YR/3.1557600\n",
    "cad = .5*YR/3.1557600\n",
    "fobs = utils.nyquist_freqs(dur,cad)\n",
    "fobs_edges = utils.nyquist_freqs_edges(dur,cad)\n",
    "print(f\"Number of frequency bins: {fobs.size-1}\")\n",
    "print(f\"  between [{fobs[0]*YR:.2f}, {fobs[-1]*YR:.2f}] 1/yr\")\n",
    "print(f\"          [{fobs[0]*1e9:.2f}, {fobs[-1]*1e9:.2f}] nHz\")"
   ]
  },
  {
   "cell_type": "markdown",
   "metadata": {},
   "source": [
    "Semi-Analytic-Model with default parameters \n",
    "* gsmf=GSMF_Schechter, \n",
    "* gpf=GPF_Power_Law, \n",
    "* gmt=GMT_Power_Law, \n",
    "* mmbulge=relations.MMBulge_MM2013"
   ]
  },
  {
   "cell_type": "code",
   "execution_count": 84,
   "metadata": {},
   "outputs": [
    {
     "name": "stdout",
     "output_type": "stream",
     "text": [
      "edges: [array([1.e+39, 1.e+40, 1.e+41]), array([0.1, 1. ]), array([0.001, 0.01 , 0.1  , 1.   ])]\n"
     ]
    }
   ],
   "source": [
    "mtot=(1.0e6*MSOL/1.988409870698051, 1.0e8*MSOL/1.988409870698051, 3)\n",
    "mrat=(1e-1, 1.0, 2)\n",
    "redz=(1e-3, 1.0, 4)\n",
    "sam = holo.sam.Semi_Analytic_Model(mtot=mtot, mrat=mrat, \n",
    "        redz=redz)\n",
    "print('edges:', sam.edges)"
   ]
  },
  {
   "cell_type": "markdown",
   "metadata": {},
   "source": [
    "gwb (internal to sam.gwb excluding hc calculation)"
   ]
  },
  {
   "cell_type": "code",
   "execution_count": 85,
   "metadata": {},
   "outputs": [],
   "source": [
    "fobs_gw_edges = fobs_edges\n",
    "hard = holo.hardening.Hard_GW\n",
    "fobs_gw_cents = kale.utils.midpoints(fobs_gw_edges)\n",
    "fobs_orb_edges = fobs_gw_edges / 2.0\n",
    "fobs_orb_cents = fobs_gw_cents / 2.0\n",
    "\n",
    "\n",
    "# dynamic_binary_number\n",
    "# gets differential number of binaries per bin-vol per log freq interval\n",
    "edges, dnum = sam.dynamic_binary_number(hard, fobs_orb=fobs_orb_cents)\n",
    "edges[-1] = fobs_orb_edges\n",
    "\n",
    "# integrate (multiply by bin volume) within each bin\n",
    "number = utils._integrate_grid_differential_number(edges, dnum, freq=False)\n",
    "number = number * np.diff(np.log(fobs_gw_edges))"
   ]
  },
  {
   "cell_type": "code",
   "execution_count": 86,
   "metadata": {},
   "outputs": [],
   "source": [
    "def gws_by_loops(edges, number, realize, print_test = False, sum=False):\n",
    "       \n",
    "    \"\"\" Inefficient way to calculate strain from numbered \n",
    "    grid integrated\n",
    "\n",
    "    Parameters\n",
    "    ----------\n",
    "    edges : (4,) list of 1darrays\n",
    "        A list containing the edges along each dimension.  The four dimensions correspond to\n",
    "        total mass, mass ratio, redshift, and observer-frame orbital frequency.\n",
    "        The length of each of the four arrays is M, Q, Z, F.\n",
    "    number : (M-1, Q-1, Z-1, F-1) ndarray\n",
    "        The number of binaries in each bin of parameter space.  This is calculated by integrating\n",
    "        `dnum` over each bin.\n",
    "    realize : bool or int\n",
    "        Specification of how to construct one or more discrete realizations.\n",
    "        If a `bool` value, then whether or not to construct a realization.\n",
    "        If an `int` value, then how many discrete realizations to construct.\n",
    "    sum : bool\n",
    "        Whether or not to sum the strain at a given frequency over all bins.\n",
    "\n",
    "\n",
    "    Returns\n",
    "    -------\n",
    "    hc : ndarray\n",
    "        Characteristic strain of the GWB.\n",
    "        The shape depends on whether realize is an integer or not\n",
    "        realize = True or False, sum = False: shape is (M-1, Q-1, Z-1, F-1)\n",
    "        realize = True or False, sum = True: shape is (F-1)\n",
    "        realize = R, sum = False: shape is  (M-1, Q-1, Z-1, F-1, R)\n",
    "        realize = R, sum = True: shape is  (F-1, R)\n",
    "\n",
    "    \"\"\"\n",
    "    \n",
    "    if(print_test):\n",
    "        print('INPUTS: edges:', len(edges), '\\n', edges, \n",
    "        '\\nINPUTS:number:', number.shape, '\\n', number,'\\n')\n",
    "\n",
    "    # Frequency bin midpoints\n",
    "    foo = edges[-1]                   #: should be observer-frame orbital-frequencies\n",
    "    df = np.diff(foo)                 #: frequency bin widths\n",
    "    fc = kale.utils.midpoints(foo)    #: use frequency-bin centers for strain (more accurate!)\n",
    "\n",
    "    # All other bin midpoints\n",
    "    mt = kale.utils.midpoints(edges[0]) #: total mass\n",
    "    mr = kale.utils.midpoints(edges[1]) #: mass ratio\n",
    "    rz = kale.utils.midpoints(edges[2]) #: redshift\n",
    "\n",
    "    if(print_test):\n",
    "        print('Observer frame frequency centers: ', fc)\n",
    "        print('Mass edges: ', mt.shape, mt)\n",
    "        print('Ratio edges:', mr.shape, mr)\n",
    "        print('Redshift edges:', rz.shape, rz,'\\n')\n",
    "\n",
    "    \n",
    "    # make strain grid\n",
    "    hc_grid = np.empty_like(number)\n",
    "\n",
    "    # for r realizations, make a grid with shape \n",
    "    # m, q, z, f, r\n",
    "    if(utils.isinteger(realize)):\n",
    "        newshape = hc_grid.shape + (realize,)\n",
    "        if(print_test):\n",
    "            print('newshape:', newshape)\n",
    "        realized_grid = np.empty(newshape)\n",
    "\n",
    "    # get strain for each bin\n",
    "    for m_idx in range(len(mt)):\n",
    "        for q_idx in range(len(mr)):\n",
    "            for z_idx in range(len(rz)):\n",
    "                cmass = holo.utils.chirp_mass_mtmr(mt[m_idx], mr[q_idx])\n",
    "                cdist = holo.cosmo.comoving_distance(rz[z_idx]).cgs.value\n",
    "                \n",
    "                # print M, q, z, M_c, d_c\n",
    "                if(print_test):\n",
    "                    print('BIN mt=%.2e, mr=%.2e, rz=%.2e' %\n",
    "                        (mt[m_idx], mr[q_idx], rz[z_idx]))\n",
    "                    print('\\t m_c = %.2e, d_c = %.2e' \n",
    "                        % (cmass, cdist))\n",
    "\n",
    "                for f_idx in range(len(fc)):\n",
    "                    rfreq = holo.utils.frst_from_fobs(fc[f_idx], rz[z_idx])\n",
    "                    hs_mqzf = utils.gw_strain_source(cmass, cdist, rfreq)\n",
    "                    hc_mqzf = hs_mqzf**2 * (fc[f_idx]/df[f_idx])\n",
    "                    \n",
    "                    if(realize == False):\n",
    "                        hc_grid[m_idx, q_idx, z_idx, f_idx] = np.sqrt(hc_mqzf \n",
    "                                        * number[m_idx, q_idx, z_idx, f_idx])\n",
    "                    elif(realize == True):\n",
    "                        hc_grid[m_idx, q_idx, z_idx, f_idx] = np.sqrt(hc_mqzf \n",
    "                                        *np.random.poisson(number[m_idx, q_idx, z_idx, f_idx]))\n",
    "                    elif(utils.isinteger(realize)):\n",
    "                        for r_idx in range(realize):\n",
    "                            realized_grid[m_idx, q_idx, z_idx, f_idx, r_idx] = \\\n",
    "                                np.sqrt(hc_mqzf \n",
    "                                        *np.random.poisson(number[m_idx, q_idx, z_idx, f_idx]))\n",
    "                        hc_grid = realized_grid                \n",
    "                    else:\n",
    "                        print(\"`realize` ({}) must be one of {{True, False, integer}}!\"\\\n",
    "                            .format(realize))\n",
    "\n",
    "                     # print fr, hs, hc^2/dlnf, number, hc\n",
    "                    if(print_test):\n",
    "                        print('\\t\\tfr = %.2fnHz, h_s = %.2e, h_c^2/dlnf = %.2e' \n",
    "                            % (rfreq*10**9, hs_mqzf, hc_mqzf))\n",
    "                        print('\\t\\tnumber: %.2e' % number[m_idx, q_idx, z_idx, f_idx])\n",
    "                        print('\\t\\thc = %.2e' % hc_grid[m_idx, q_idx, z_idx, f_idx])\n",
    "    if(sum):\n",
    "        # sum over all bins at a given frequency and realization\n",
    "        hc_grid = np.sqrt(np.sum(hc_grid**2, axis=(0, 1, 2)))\n",
    "\n",
    "    \n",
    "    return hc_grid\n"
   ]
  },
  {
   "cell_type": "code",
   "execution_count": 113,
   "metadata": {},
   "outputs": [],
   "source": [
    "def gws_by_ndars(edges, number, realize, print_test = False, sum=False):\n",
    "       \n",
    "    \"\"\" More efficient way to calculate strain from numbered \n",
    "    grid integrated\n",
    "\n",
    "    Parameters\n",
    "    ----------\n",
    "    edges : (4,) list of 1darrays\n",
    "        A list containing the edges along each dimension.  The four dimensions correspond to\n",
    "        total mass, mass ratio, redshift, and observer-frame orbital frequency.\n",
    "        The length of each of the four arrays is M, Q, Z, F.\n",
    "    number : (M-1, Q-1, Z-1, F-1) ndarray\n",
    "        The number of binaries in each bin of parameter space.  This is calculated by integrating\n",
    "        `dnum` over each bin.\n",
    "    realize : bool or int\n",
    "        Specification of how to construct one or more discrete realizations.\n",
    "        If a `bool` value, then whether or not to construct a realization.\n",
    "        If an `int` value, then how many discrete realizations to construct.\n",
    "    sum : bool\n",
    "        Whether or not to sum the strain at a given frequency over all bins.\n",
    "\n",
    "\n",
    "    Returns\n",
    "    -------\n",
    "    hc : ndarray\n",
    "        Characteristic strain of the GWB.\n",
    "        The shape depends on whether realize is an integer or not\n",
    "        realize = True or False, sum = False: shape is (M-1, Q-1, Z-1, F-1)\n",
    "        realize = True or False, sum = True: shape is (F-1)\n",
    "        realize = R, sum = False: shape is  (M-1, Q-1, Z-1, F-1, R)\n",
    "        realize = R, sum = True: shape is  (F-1, R)\n",
    "\n",
    "    \"\"\"\n",
    "\n",
    "    if(print_test):\n",
    "        print('INPUTS: edges:', len(edges), # '\\n', edges, \n",
    "        '\\nINPUTS:number:', number.shape, '\\n', number,'\\n')\n",
    "\n",
    "    # Frequency bin midpoints\n",
    "    foo = edges[-1]                   #: should be observer-frame orbital-frequencies\n",
    "    df = np.diff(foo)                 #: frequency bin widths\n",
    "    fc = kale.utils.midpoints(foo)    #: use frequency-bin centers for strain (more accurate!)\n",
    "\n",
    "    # All other bin midpoints\n",
    "    mt = kale.utils.midpoints(edges[0]) #: total mass\n",
    "    mr = kale.utils.midpoints(edges[1]) #: mass ratio\n",
    "    rz = kale.utils.midpoints(edges[2]) #: redshift\n",
    "\n",
    "\n",
    "    # --- Chirp Masses ---\n",
    "    # to get chirp mass in shape (M-1, Q-1) we need \n",
    "    # mt in shape (M-1, 1) \n",
    "    # mr in shape (1, Q-1)\n",
    "    cmass = utils.chirp_mass_mtmr(mt[:,np.newaxis], mr[np.newaxis,:])\n",
    "    if(print_test):\n",
    "        print('cmass:', cmass.shape, '\\n', cmass)\n",
    "\n",
    "    # --- Comoving Distances ---\n",
    "    # to get cdist in shape (Z-1) we need\n",
    "    # rz in shape (Z-1)\n",
    "    cdist = holo.cosmo.comoving_distance(rz).cgs.value\n",
    "    if(print_test):\n",
    "        print('cdist:', cdist.shape, '\\n', cdist)\n",
    "\n",
    "    # --- Rest Frame Frequencies ---\n",
    "    # to get rest freqs in shape (Z-1, F-1) we need \n",
    "    # rz in shape (Z-1, 1) \n",
    "    # fc in shape (1, F-1)\n",
    "    rfreq = holo.utils.frst_from_fobs(fc[np.newaxis,:], rz[:,np.newaxis])\n",
    "    if(print_test):\n",
    "        print('rfreq:', rfreq.shape, '\\n', rfreq)\n",
    "\n",
    "    # --- Source Strain Amplitude ---\n",
    "    # to get hs amplitude in shape (M-1, Q-1, Z-1, F-1) we need\n",
    "    # cmass in shape (M-1, Q-1, 1, 1) from (M-1, Q-1)\n",
    "    # cdist in shape (1, 1, Z-1, 1) from (Z-1)\n",
    "    # rfreq in shape (1, 1, Z-1, F-1) from (Z-1, F-1)\n",
    "    hsamp = utils.gw_strain_source(cmass[:,:,np.newaxis,np.newaxis],\n",
    "                                   cdist[np.newaxis,np.newaxis,:,np.newaxis],\n",
    "                                   rfreq[np.newaxis,np.newaxis,:,:])\n",
    "    if(print_test):\n",
    "        print('hsamp', hsamp.shape, '\\n', hsamp)\n",
    "\n",
    "    # --- Characteristic Strain Squared ---\n",
    "    # to get characteristic strain in shape (M-1, Q-1, Z-1, F-1) we need\n",
    "    # hsamp in shape (M-1, Q-1, Z-1, F-1)\n",
    "    # fc in shape (1, 1, 1, F-1)\n",
    "    hchar = hsamp**2 * (fc[np.newaxis, np.newaxis, np.newaxis,:]\n",
    "                        /df[np.newaxis, np.newaxis, np.newaxis,:])\n",
    "\n",
    "    # Sample:\n",
    "    if(realize == False):\n",
    "        # without sampling, want strain in shape (M-1, Q-1, Z-1, F-1)\n",
    "        hchar *= number\n",
    "\n",
    "    if(realize == True):\n",
    "        # with a single sample, want strain in shape (M-1, Q-1, Z-1, F-1)\n",
    "        hchar *= np.random.poisson(number)\n",
    "\n",
    "    if(utils.isinteger(realize)):\n",
    "        # with R realizations, \n",
    "        # to get strain in shape (M-1, Q-1, Z-1, F-1, R) we need\n",
    "        # hchar in shape(M-1, Q-1, Z-1, F-1, 1)\n",
    "        # Poisson sample in shape (1, 1, 1, 1, R)\n",
    "        npois = np.random.poisson(number[...,np.newaxis], size = (number.shape + (realize,)))\n",
    "        if(print_test):\n",
    "            print('npois', npois.shape)\n",
    "        hchar = hchar[...,np.newaxis] * npois\n",
    "\n",
    "\n",
    "    if(print_test):\n",
    "        print('hchar', hchar.shape, '\\n', hchar)\n",
    "\n",
    "\n",
    "    if(sum):\n",
    "        # sum over all bins at a given frequency and realization\n",
    "        hchar = np.sum(hchar, axis=(0, 1, 2))\n",
    "        # NOTE I should check what big O time this is,  not sure\n",
    "        if(print_test):\n",
    "            print('hchar summed', hchar.shape, '\\n', hchar)\n",
    "\n",
    "    return np.sqrt(hchar)"
   ]
  },
  {
   "cell_type": "code",
   "execution_count": 114,
   "metadata": {},
   "outputs": [
    {
     "name": "stdout",
     "output_type": "stream",
     "text": [
      "------BY NDARS------\n",
      "INPUTS: edges: 4 \n",
      "INPUTS:number: (2, 1, 3, 5) \n",
      " [[[[0.00e+00 0.00e+00 0.00e+00 0.00e+00 0.00e+00]\n",
      "   [8.83e+06 6.46e+05 1.44e+05 5.01e+04 2.78e+04]\n",
      "   [1.09e+09 8.01e+07 1.79e+07 6.21e+06 3.44e+06]]]\n",
      "\n",
      "\n",
      " [[[0.00e+00 0.00e+00 0.00e+00 0.00e+00 0.00e+00]\n",
      "   [1.10e+05 8.05e+03 1.80e+03 6.24e+02 3.46e+02]\n",
      "   [1.29e+07 9.45e+05 2.11e+05 7.32e+04 4.06e+04]]]] \n",
      "\n",
      "cmass: (2, 1) \n",
      " [[2.27e+39]\n",
      " [2.27e+40]]\n",
      "cdist: (3,) \n",
      " [7.33e+25 7.25e+26 6.42e+27]\n",
      "rfreq: (3, 5) \n",
      " [[1.01e-08 2.01e-08 3.02e-08 4.02e-08 5.28e-08]\n",
      " [1.06e-08 2.11e-08 3.17e-08 4.22e-08 5.54e-08]\n",
      " [1.55e-08 3.10e-08 4.65e-08 6.20e-08 8.14e-08]]\n",
      "hsamp (2, 1, 3, 5) \n",
      " [[[[2.92e-19 4.64e-19 6.07e-19 7.36e-19 8.82e-19]\n",
      "   [3.05e-20 4.84e-20 6.34e-20 7.68e-20 9.21e-20]\n",
      "   [4.45e-21 7.07e-21 9.26e-21 1.12e-20 1.34e-20]]]\n",
      "\n",
      "\n",
      " [[[1.36e-17 2.15e-17 2.82e-17 3.42e-17 4.09e-17]\n",
      "   [1.41e-18 2.25e-18 2.94e-18 3.57e-18 4.27e-18]\n",
      "   [2.07e-19 3.28e-19 4.30e-19 5.21e-19 6.24e-19]]]]\n",
      "hchar (2, 1, 3, 5) \n",
      " [[[[8.53e-38 4.30e-37 1.11e-36 2.17e-36 2.72e-36]\n",
      "   [9.29e-40 4.68e-39 1.21e-38 2.36e-38 2.97e-38]\n",
      "   [1.98e-41 9.99e-41 2.57e-40 5.03e-40 6.33e-40]]]\n",
      "\n",
      "\n",
      " [[[1.84e-34 9.26e-34 2.38e-33 4.67e-33 5.87e-33]\n",
      "   [2.00e-36 1.01e-35 2.60e-35 5.08e-35 6.39e-35]\n",
      "   [4.27e-38 2.15e-37 5.54e-37 1.08e-36 1.36e-36]]]]\n",
      "hchar (2, 1, 3, 5) \n",
      " [[[[0.00e+00 0.00e+00 0.00e+00 0.00e+00 0.00e+00]\n",
      "   [8.20e-33 3.03e-33 1.74e-33 1.18e-33 8.24e-34]\n",
      "   [2.17e-32 8.00e-33 4.60e-33 3.12e-33 2.18e-33]]]\n",
      "\n",
      "\n",
      " [[[0.00e+00 0.00e+00 0.00e+00 0.00e+00 0.00e+00]\n",
      "   [2.20e-31 8.12e-32 4.67e-32 3.17e-32 2.21e-32]\n",
      "   [5.51e-31 2.03e-31 1.17e-31 7.94e-32 5.53e-32]]]]\n",
      "\n",
      "------BY LOOPS------\n",
      "INPUTS: edges: 4 \n",
      " [array([1.e+39, 1.e+40, 1.e+41]), array([0.1, 1. ]), array([0.  , 0.01, 0.1 , 1.  ]), array([5.0e-09, 1.5e-08, 2.5e-08, 3.5e-08, 4.5e-08, 6.0e-08])] \n",
      "INPUTS:number: (2, 1, 3, 5) \n",
      " [[[[0.00e+00 0.00e+00 0.00e+00 0.00e+00 0.00e+00]\n",
      "   [8.83e+06 6.46e+05 1.44e+05 5.01e+04 2.78e+04]\n",
      "   [1.09e+09 8.01e+07 1.79e+07 6.21e+06 3.44e+06]]]\n",
      "\n",
      "\n",
      " [[[0.00e+00 0.00e+00 0.00e+00 0.00e+00 0.00e+00]\n",
      "   [1.10e+05 8.05e+03 1.80e+03 6.24e+02 3.46e+02]\n",
      "   [1.29e+07 9.45e+05 2.11e+05 7.32e+04 4.06e+04]]]] \n",
      "\n",
      "Observer frame frequency centers:  [1.00e-08 2.00e-08 3.00e-08 4.00e-08 5.25e-08]\n",
      "Mass edges:  (2,) [5.5e+39 5.5e+40]\n",
      "Ratio edges: (1,) [0.55]\n",
      "Redshift edges: (3,) [0.01 0.06 0.55] \n",
      "\n",
      "BIN mt=5.50e+39, mr=5.50e-01, rz=5.50e-03\n",
      "\t m_c = 2.27e+39, d_c = 7.33e+25\n",
      "\t\tfr = 10.06nHz, h_s = 2.92e-19, h_c^2/dlnf = 8.53e-38\n",
      "\t\tnumber: 0.00e+00\n",
      "\t\thc = 0.00e+00\n",
      "\t\tfr = 20.11nHz, h_s = 4.64e-19, h_c^2/dlnf = 4.30e-37\n",
      "\t\tnumber: 0.00e+00\n",
      "\t\thc = 0.00e+00\n",
      "\t\tfr = 30.17nHz, h_s = 6.07e-19, h_c^2/dlnf = 1.11e-36\n",
      "\t\tnumber: 0.00e+00\n",
      "\t\thc = 0.00e+00\n",
      "\t\tfr = 40.22nHz, h_s = 7.36e-19, h_c^2/dlnf = 2.17e-36\n",
      "\t\tnumber: 0.00e+00\n",
      "\t\thc = 0.00e+00\n",
      "\t\tfr = 52.79nHz, h_s = 8.82e-19, h_c^2/dlnf = 2.72e-36\n",
      "\t\tnumber: 0.00e+00\n",
      "\t\thc = 0.00e+00\n",
      "BIN mt=5.50e+39, mr=5.50e-01, rz=5.50e-02\n",
      "\t m_c = 2.27e+39, d_c = 7.25e+26\n",
      "\t\tfr = 10.55nHz, h_s = 3.05e-20, h_c^2/dlnf = 9.29e-40\n",
      "\t\tnumber: 8.83e+06\n",
      "\t\thc = 9.06e-17\n",
      "\t\tfr = 21.10nHz, h_s = 4.84e-20, h_c^2/dlnf = 4.68e-39\n",
      "\t\tnumber: 6.46e+05\n",
      "\t\thc = 5.50e-17\n",
      "\t\tfr = 31.65nHz, h_s = 6.34e-20, h_c^2/dlnf = 1.21e-38\n",
      "\t\tnumber: 1.44e+05\n",
      "\t\thc = 4.17e-17\n",
      "\t\tfr = 42.20nHz, h_s = 7.68e-20, h_c^2/dlnf = 2.36e-38\n",
      "\t\tnumber: 5.01e+04\n",
      "\t\thc = 3.44e-17\n",
      "\t\tfr = 55.39nHz, h_s = 9.21e-20, h_c^2/dlnf = 2.97e-38\n",
      "\t\tnumber: 2.78e+04\n",
      "\t\thc = 2.87e-17\n",
      "BIN mt=5.50e+39, mr=5.50e-01, rz=5.50e-01\n",
      "\t m_c = 2.27e+39, d_c = 6.42e+27\n",
      "\t\tfr = 15.50nHz, h_s = 4.45e-21, h_c^2/dlnf = 1.98e-41\n",
      "\t\tnumber: 1.09e+09\n",
      "\t\thc = 1.47e-16\n",
      "\t\tfr = 31.00nHz, h_s = 7.07e-21, h_c^2/dlnf = 9.99e-41\n",
      "\t\tnumber: 8.01e+07\n",
      "\t\thc = 8.95e-17\n",
      "\t\tfr = 46.50nHz, h_s = 9.26e-21, h_c^2/dlnf = 2.57e-40\n",
      "\t\tnumber: 1.79e+07\n",
      "\t\thc = 6.79e-17\n",
      "\t\tfr = 62.00nHz, h_s = 1.12e-20, h_c^2/dlnf = 5.03e-40\n",
      "\t\tnumber: 6.21e+06\n",
      "\t\thc = 5.59e-17\n",
      "\t\tfr = 81.38nHz, h_s = 1.34e-20, h_c^2/dlnf = 6.33e-40\n",
      "\t\tnumber: 3.44e+06\n",
      "\t\thc = 4.67e-17\n",
      "BIN mt=5.50e+40, mr=5.50e-01, rz=5.50e-03\n",
      "\t m_c = 2.27e+40, d_c = 7.33e+25\n",
      "\t\tfr = 10.06nHz, h_s = 1.36e-17, h_c^2/dlnf = 1.84e-34\n",
      "\t\tnumber: 0.00e+00\n",
      "\t\thc = 0.00e+00\n",
      "\t\tfr = 20.11nHz, h_s = 2.15e-17, h_c^2/dlnf = 9.26e-34\n",
      "\t\tnumber: 0.00e+00\n",
      "\t\thc = 0.00e+00\n",
      "\t\tfr = 30.17nHz, h_s = 2.82e-17, h_c^2/dlnf = 2.38e-33\n",
      "\t\tnumber: 0.00e+00\n",
      "\t\thc = 0.00e+00\n",
      "\t\tfr = 40.22nHz, h_s = 3.42e-17, h_c^2/dlnf = 4.67e-33\n",
      "\t\tnumber: 0.00e+00\n",
      "\t\thc = 0.00e+00\n",
      "\t\tfr = 52.79nHz, h_s = 4.09e-17, h_c^2/dlnf = 5.87e-33\n",
      "\t\tnumber: 0.00e+00\n",
      "\t\thc = 0.00e+00\n",
      "BIN mt=5.50e+40, mr=5.50e-01, rz=5.50e-02\n",
      "\t m_c = 2.27e+40, d_c = 7.25e+26\n",
      "\t\tfr = 10.55nHz, h_s = 1.41e-18, h_c^2/dlnf = 2.00e-36\n",
      "\t\tnumber: 1.10e+05\n",
      "\t\thc = 4.69e-16\n",
      "\t\tfr = 21.10nHz, h_s = 2.25e-18, h_c^2/dlnf = 1.01e-35\n",
      "\t\tnumber: 8.05e+03\n",
      "\t\thc = 2.85e-16\n",
      "\t\tfr = 31.65nHz, h_s = 2.94e-18, h_c^2/dlnf = 2.60e-35\n",
      "\t\tnumber: 1.80e+03\n",
      "\t\thc = 2.16e-16\n",
      "\t\tfr = 42.20nHz, h_s = 3.57e-18, h_c^2/dlnf = 5.08e-35\n",
      "\t\tnumber: 6.24e+02\n",
      "\t\thc = 1.78e-16\n",
      "\t\tfr = 55.39nHz, h_s = 4.27e-18, h_c^2/dlnf = 6.39e-35\n",
      "\t\tnumber: 3.46e+02\n",
      "\t\thc = 1.49e-16\n",
      "BIN mt=5.50e+40, mr=5.50e-01, rz=5.50e-01\n",
      "\t m_c = 2.27e+40, d_c = 6.42e+27\n",
      "\t\tfr = 15.50nHz, h_s = 2.07e-19, h_c^2/dlnf = 4.27e-38\n",
      "\t\tnumber: 1.29e+07\n",
      "\t\thc = 7.42e-16\n",
      "\t\tfr = 31.00nHz, h_s = 3.28e-19, h_c^2/dlnf = 2.15e-37\n",
      "\t\tnumber: 9.45e+05\n",
      "\t\thc = 4.51e-16\n",
      "\t\tfr = 46.50nHz, h_s = 4.30e-19, h_c^2/dlnf = 5.54e-37\n",
      "\t\tnumber: 2.11e+05\n",
      "\t\thc = 3.42e-16\n",
      "\t\tfr = 62.00nHz, h_s = 5.21e-19, h_c^2/dlnf = 1.08e-36\n",
      "\t\tnumber: 7.32e+04\n",
      "\t\thc = 2.82e-16\n",
      "\t\tfr = 81.38nHz, h_s = 6.24e-19, h_c^2/dlnf = 1.36e-36\n",
      "\t\tnumber: 4.06e+04\n",
      "\t\thc = 2.35e-16\n"
     ]
    }
   ],
   "source": [
    "np.set_printoptions(precision=2)\n",
    "print('------BY NDARS------')\n",
    "ndar_hcF = gws_by_ndars(edges, number, realize=False, print_test=True, sum=False)\n",
    "print('\\n------BY LOOPS------')\n",
    "loop_ncF = gws_by_loops(edges, number, realize=False, print_test=True, sum=False)\n",
    "np.set_printoptions()"
   ]
  },
  {
   "cell_type": "markdown",
   "metadata": {},
   "source": [
    "# Test Cases"
   ]
  },
  {
   "cell_type": "code",
   "execution_count": 115,
   "metadata": {},
   "outputs": [],
   "source": [
    "# get GWB spectrum\n",
    "hc_samF = holo.sam.gravwaves._gws_from_number_grid_integrated(edges, number, realize=False, sum=False)\n",
    "hc_samF_sum = holo.sam.gravwaves._gws_from_number_grid_integrated(edges, number, realize=False, sum=True)\n",
    "hc_samT = holo.sam.gravwaves._gws_from_number_grid_integrated(edges, number, realize=True, sum=False)\n",
    "hc_sam1 = holo.sam.gravwaves._gws_from_number_grid_integrated(edges, number, realize=1, sum=False)\n",
    "hc_sam3 = holo.sam.gravwaves._gws_from_number_grid_integrated(edges, number, realize=3, sum=False)\n",
    "hc_sam3_sum = holo.sam.gravwaves._gws_from_number_grid_integrated(edges, number, realize=3, sum=True)\n",
    "\n",
    "hc_ndarF = gws_by_ndars(edges, number, realize=False, sum=False)   \n",
    "hc_ndarF_sum = np.sqrt(np.sum(hc_ndarF**2, axis=(0, 1, 2))) \n",
    "hc_ndarF_sum2 = gws_by_ndars(edges, number, realize=False, sum=True)\n",
    "hc_ndarT = gws_by_ndars(edges, number, realize=True)\n",
    "hc_ndar1 = gws_by_ndars(edges, number, realize=1)   \n",
    "hc_ndar3 = gws_by_ndars(edges, number, realize=3)   \n",
    "hc_ndar3_sum = np.sqrt(np.sum(hc_ndar3**2, axis=(0, 1, 2)))\n",
    "        "
   ]
  },
  {
   "cell_type": "code",
   "execution_count": 116,
   "metadata": {},
   "outputs": [
    {
     "name": "stdout",
     "output_type": "stream",
     "text": [
      "[[[[ True  True  True  True  True]\n",
      "   [ True  True  True  True  True]\n",
      "   [ True  True  True  True  True]]]\n",
      "\n",
      "\n",
      " [[[ True  True  True  True  True]\n",
      "   [ True  True  True  True  True]\n",
      "   [ True  True  True  True  True]]]]\n",
      "hc by sam:\n",
      " [[[[0.00e+00 0.00e+00 0.00e+00 0.00e+00 0.00e+00]\n",
      "   [9.06e-17 5.50e-17 4.17e-17 3.44e-17 2.87e-17]\n",
      "   [1.47e-16 8.95e-17 6.79e-17 5.59e-17 4.67e-17]]]\n",
      "\n",
      "\n",
      " [[[0.00e+00 0.00e+00 0.00e+00 0.00e+00 0.00e+00]\n",
      "   [4.69e-16 2.85e-16 2.16e-16 1.78e-16 1.49e-16]\n",
      "   [7.42e-16 4.51e-16 3.42e-16 2.82e-16 2.35e-16]]]]\n",
      "hc by ndar:\n",
      " [[[[0.00e+00 0.00e+00 0.00e+00 0.00e+00 0.00e+00]\n",
      "   [9.06e-17 5.50e-17 4.17e-17 3.44e-17 2.87e-17]\n",
      "   [1.47e-16 8.95e-17 6.79e-17 5.59e-17 4.67e-17]]]\n",
      "\n",
      "\n",
      " [[[0.00e+00 0.00e+00 0.00e+00 0.00e+00 0.00e+00]\n",
      "   [4.69e-16 2.85e-16 2.16e-16 1.78e-16 1.49e-16]\n",
      "   [7.42e-16 4.51e-16 3.42e-16 2.82e-16 2.35e-16]]]]\n"
     ]
    }
   ],
   "source": [
    "print(hc_samF == hc_ndarF)\n",
    "# should be exact same\n",
    "print('hc by sam:\\n', hc_samF)\n",
    "print('hc by ndar:\\n', hc_ndarF)"
   ]
  },
  {
   "cell_type": "code",
   "execution_count": 117,
   "metadata": {},
   "outputs": [
    {
     "name": "stdout",
     "output_type": "stream",
     "text": [
      "[ True  True  True  True  True]\n",
      "[ True  True  True  True  True]\n",
      "hc sum by sam:\n",
      " [8.95e-16 5.44e-16 4.12e-16 3.40e-16 2.84e-16]\n",
      "hc sum by ndar:\n",
      " [8.95e-16 5.44e-16 4.12e-16 3.40e-16 2.84e-16]\n"
     ]
    }
   ],
   "source": [
    "print(hc_samF_sum == hc_ndarF_sum)\n",
    "print(hc_samF_sum == hc_ndarF_sum2)\n",
    "# should be exact same\n",
    "print('hc sum by sam:\\n', hc_samF_sum)\n",
    "print('hc sum by ndar:\\n', hc_ndarF_sum)"
   ]
  },
  {
   "attachments": {},
   "cell_type": "markdown",
   "metadata": {},
   "source": [
    "# Scratch"
   ]
  },
  {
   "attachments": {},
   "cell_type": "markdown",
   "metadata": {},
   "source": [
    "### poisson sampling"
   ]
  },
  {
   "cell_type": "code",
   "execution_count": 92,
   "metadata": {},
   "outputs": [
    {
     "name": "stdout",
     "output_type": "stream",
     "text": [
      "(2, 1, 3, 5)\n",
      "(2, 1, 3, 5, 5)\n"
     ]
    }
   ],
   "source": [
    "print(np.random.poisson(number).shape)\n",
    "realize=5\n",
    "newshape = number.shape + (realize,)\n",
    "# print((number.shape + (5,)).shape)\n",
    "print(np.random.poisson(number[:,:,:,:,np.newaxis], size=newshape).shape)"
   ]
  },
  {
   "attachments": {},
   "cell_type": "markdown",
   "metadata": {},
   "source": [
    "### comoving distance"
   ]
  },
  {
   "cell_type": "code",
   "execution_count": 93,
   "metadata": {},
   "outputs": [
    {
     "name": "stdout",
     "output_type": "stream",
     "text": [
      "[1.0367e+28 1.6307e+28 2.0040e+28] cm\n"
     ]
    }
   ],
   "source": [
    "red_temp = np.array([1,2,3])\n",
    "print(holo.cosmo.comoving_distance(red_temp).cgs)"
   ]
  },
  {
   "attachments": {},
   "cell_type": "markdown",
   "metadata": {},
   "source": [
    "### chirp mass"
   ]
  },
  {
   "cell_type": "code",
   "execution_count": 94,
   "metadata": {},
   "outputs": [
    {
     "name": "stdout",
     "output_type": "stream",
     "text": [
      "(4, 3)\n",
      "[[2.2404e+39 4.4808e+39 6.7212e+39]\n",
      " [3.0591e+39 6.1183e+39 9.1774e+39]\n",
      " [3.5444e+39 7.0888e+39 1.0633e+40]\n",
      " [3.8537e+39 7.7075e+39 1.1561e+40]]\n"
     ]
    }
   ],
   "source": [
    "# checking out utils.chirp_mass_mtmr\n",
    "mtotarr = np.array([[1e40, 2e40, 3e40],[1e40, 2e40, 3e40],[1e40, 2e40, 3e40],[1e40, 2e40, 3e40]])\n",
    "mratarr = np.array([[.1, .1, .1], [.2, .2, .2], [.3, .3, .3], [.4, .4, .4]])\n",
    "mchiarr = utils.chirp_mass_mtmr(mtotarr, mratarr)\n",
    "print(mchiarr.shape)\n",
    "print(mchiarr)"
   ]
  },
  {
   "cell_type": "code",
   "execution_count": 95,
   "metadata": {},
   "outputs": [
    {
     "name": "stdout",
     "output_type": "stream",
     "text": [
      "[[1.e+40]\n",
      " [2.e+40]]\n",
      "[[0.1 0.2 0.3]]\n",
      "[array([[1.e+40],\n",
      "       [2.e+40]]), array([[0.1, 0.2, 0.3]])]\n",
      "[[1.e+39 2.e+39 3.e+39]\n",
      " [2.e+39 4.e+39 6.e+39]]\n",
      "(2, 1)\n",
      "(1, 3)\n",
      "mchirp (2, 3)\n"
     ]
    }
   ],
   "source": [
    "mtotarr = np.array([1e40, 2e40])\n",
    "mratarr = np.array([.1, .2, .3])\n",
    "mttemp = mtotarr[:, np.newaxis]\n",
    "mrtemp = mratarr[np.newaxis,:]\n",
    "print(mttemp)\n",
    "print(mrtemp)\n",
    "print(utils._array_args(mttemp, mrtemp))\n",
    "print(mttemp * mrtemp)\n",
    "# print(utils.chirp_mass_mtmr(mttemp, mrtemp))\n",
    "\n",
    "# math function of a (1xN) array and a (Mx1) array produces an NxM array\n",
    "\n",
    "# we want shape (M x Q), comes from (M x 1) * (1 x Q)\n",
    "# put mass in form (M x 1), this is just a new view of the same array\n",
    "mtemp = mtotarr[..., np.newaxis]\n",
    "print(mtemp.shape)\n",
    "qtemp = mratarr[np.newaxis, ...]\n",
    "print(qtemp.shape)\n",
    "print('mchirp', utils.chirp_mass_mtmr(mtemp,qtemp).shape)\n",
    "# put rat in form (1 x Q)\n",
    "# give mass as "
   ]
  },
  {
   "cell_type": "code",
   "execution_count": 96,
   "metadata": {},
   "outputs": [
    {
     "name": "stdout",
     "output_type": "stream",
     "text": [
      "True\n",
      "[[ 5]\n",
      " [-1]\n",
      " [ 5]]\n",
      "None\n"
     ]
    }
   ],
   "source": [
    "temp1 = np.array([5,5,5])\n",
    "temp2 = temp1[:,np.newaxis]\n",
    "temp1[1] = -1\n",
    "print(np.shares_memory(temp1, temp2))\n",
    "print(temp2)\n",
    "print(temp1.base) #??? how is this none? now temp1 is a view of temp2?"
   ]
  },
  {
   "cell_type": "code",
   "execution_count": 97,
   "metadata": {},
   "outputs": [
    {
     "name": "stdout",
     "output_type": "stream",
     "text": [
      "[[   1    2    3]\n",
      " [  10   20   30]\n",
      " [ 100  200  300]\n",
      " [1000 2000 3000]]\n"
     ]
    }
   ],
   "source": [
    "x_arr = np.array([[1,2,3]])\n",
    "y_arr = np.array([[1],[10],[100],[1000]])\n",
    "print(x_arr*y_arr)\n",
    "\n",
    "# similarly, passing utils.chirp_mass_mtmr a (nx)"
   ]
  },
  {
   "cell_type": "code",
   "execution_count": 98,
   "metadata": {},
   "outputs": [
    {
     "name": "stdout",
     "output_type": "stream",
     "text": [
      "INPUTS: edges: 4 \n",
      "INPUTS:number: (2, 1, 3, 5)\n",
      "cmass: (2, 1)\n",
      "cdist: (3,)\n",
      "rfreq: (3, 5)\n",
      "hsamp (2, 1, 3, 5)\n",
      "hsamp (2, 1, 3, 5)\n",
      "hchar (2, 1, 3, 5)\n"
     ]
    }
   ],
   "source": [
    "np.set_printoptions(precision = 4)\n",
    "ndar_hcF = gws_by_ndars(edges, number, realize = False, print_test=True)\n",
    "np.set_printoptions(precision = None)"
   ]
  }
 ],
 "metadata": {
  "kernelspec": {
   "display_name": "Python 3",
   "language": "python",
   "name": "python3"
  },
  "language_info": {
   "codemirror_mode": {
    "name": "ipython",
    "version": 3
   },
   "file_extension": ".py",
   "mimetype": "text/x-python",
   "name": "python",
   "nbconvert_exporter": "python",
   "pygments_lexer": "ipython3",
   "version": "3.10.10"
  },
  "orig_nbformat": 4,
  "vscode": {
   "interpreter": {
    "hash": "17d459439548e0ef4d6a744a9fa4f3f6fa91b434189a6e542a76bffcd834cb9b"
   }
  }
 },
 "nbformat": 4,
 "nbformat_minor": 2
}
