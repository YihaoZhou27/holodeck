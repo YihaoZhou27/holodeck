{
 "cells": [
  {
   "cell_type": "code",
   "execution_count": 1,
   "id": "f9a9d9bc",
   "metadata": {},
   "outputs": [],
   "source": [
    "# MOD 1: needed to append sys path to import holodeck\n",
    "import sys\n",
    "sys.path.append('C:/Users/emiga/OneDrive/Cal/GWs/code/holodeck')\n",
    "\n",
    "# %load ./init.ipy\n",
    "%reload_ext autoreload\n",
    "%autoreload 2\n",
    "from importlib import reload\n",
    "\n",
    "import os\n",
    "import sys\n",
    "import logging\n",
    "import warnings\n",
    "import numpy as np\n",
    "import astropy as ap\n",
    "import scipy as sp\n",
    "import scipy.stats\n",
    "import matplotlib as mpl\n",
    "import matplotlib.pyplot as plt\n",
    "\n",
    "import h5py\n",
    "import tqdm.notebook as tqdm\n",
    "\n",
    "import kalepy as kale\n",
    "# import kalepy.utils\n",
    "import kalepy.plot\n",
    "\n",
    "import holodeck as holo\n",
    "import holodeck.sam\n",
    "from holodeck import utils, plot, cosmo\n",
    "from holodeck.constants import MSOL, PC, YR, MPC, GYR, SPLC\n",
    "\n",
    "# Silence annoying numpy errors\n",
    "np.seterr(divide='ignore', invalid='ignore', over='ignore')\n",
    "warnings.filterwarnings(\"ignore\", category=UserWarning)\n",
    "\n",
    "# Plotting settings\n",
    "mpl.rc('font', **{'family': 'serif', 'sans-serif': ['Times'], 'size': 15})\n",
    "mpl.rc('lines', solid_capstyle='round')\n",
    "mpl.rc('mathtext', fontset='cm')\n",
    "mpl.style.use('default')   # avoid dark backgrounds from dark theme vscode\n",
    "plt.rcParams.update({'grid.alpha': 0.5})\n",
    "\n",
    "log = holo.log\n",
    "log.setLevel(logging.INFO)"
   ]
  },
  {
   "cell_type": "markdown",
   "id": "835aec19",
   "metadata": {},
   "source": [
    "# Initialize SAM model"
   ]
  },
  {
   "cell_type": "code",
   "execution_count": 2,
   "id": "7dacb18d",
   "metadata": {},
   "outputs": [
    {
     "ename": "AttributeError",
     "evalue": "module 'holodeck.evolution' has no attribute 'Hard_GW'",
     "output_type": "error",
     "traceback": [
      "\u001b[1;31m---------------------------------------------------------------------------\u001b[0m",
      "\u001b[1;31mAttributeError\u001b[0m                            Traceback (most recent call last)",
      "Cell \u001b[1;32mIn[2], line 6\u001b[0m\n\u001b[0;32m      3\u001b[0m gmt \u001b[39m=\u001b[39m holo\u001b[39m.\u001b[39msam\u001b[39m.\u001b[39mGMT_Power_Law()                 \u001b[39m# Galaxy Merger Time           (GMT)\u001b[39;00m\n\u001b[0;32m      4\u001b[0m mmbulge \u001b[39m=\u001b[39m holo\u001b[39m.\u001b[39mrelations\u001b[39m.\u001b[39mMMBulge_Standard()    \u001b[39m# M-MBulge Relation            (MMB)\u001b[39;00m\n\u001b[1;32m----> 6\u001b[0m hard \u001b[39m=\u001b[39m holo\u001b[39m.\u001b[39;49mevolution\u001b[39m.\u001b[39;49mHard_GW()\n\u001b[0;32m      8\u001b[0m sam \u001b[39m=\u001b[39m holo\u001b[39m.\u001b[39msam\u001b[39m.\u001b[39mSemi_Analytic_Model(gsmf\u001b[39m=\u001b[39mgsmf, gpf\u001b[39m=\u001b[39mgpf, gmt\u001b[39m=\u001b[39mgmt, mmbulge\u001b[39m=\u001b[39mmmbulge)\n",
      "\u001b[1;31mAttributeError\u001b[0m: module 'holodeck.evolution' has no attribute 'Hard_GW'"
     ]
    }
   ],
   "source": [
    "gsmf = holo.sam.GSMF_Schechter()               # Galaxy Stellar-Mass Function (GSMF)\n",
    "gpf = holo.sam.GPF_Power_Law()                 # Galaxy Pair Fraction         (GPF)\n",
    "gmt = holo.sam.GMT_Power_Law()                 # Galaxy Merger Time           (GMT)\n",
    "mmbulge = holo.relations.MMBulge_Standard()    # M-MBulge Relation            (MMB)\n",
    "\n",
    "hard = holo.evolution.Hard_GW()\n",
    "\n",
    "sam = holo.sam.Semi_Analytic_Model(gsmf=gsmf, gpf=gpf, gmt=gmt, mmbulge=mmbulge)"
   ]
  },
  {
   "cell_type": "code",
   "execution_count": null,
   "id": "5b497346",
   "metadata": {},
   "outputs": [],
   "source": [
    "# Choose observed GW-Frequency bins based on nyquist sampling\n",
    "fobs = utils.nyquist_freqs(10.0*YR, 0.2*YR)"
   ]
  },
  {
   "cell_type": "code",
   "execution_count": null,
   "id": "099905c8",
   "metadata": {},
   "outputs": [
    {
     "name": "stdout",
     "output_type": "stream",
     "text": [
      "00:10:01 ERROR : lam value too large [gravwaves.py:_gws_from_number_grid_integrated]\n",
      "utils.stats(number)='2.84e-213, 1.59e-97, 8.34e-24, 2.58e-03, 1.21e+03, 4.36e+05, 1.25e+11'\n",
      "number.max()=1.25031640e+11\n",
      "number.dtype=dtype('float64')\n"
     ]
    },
    {
     "ename": "ValueError",
     "evalue": "lam value too large",
     "output_type": "error",
     "traceback": [
      "\u001b[1;31m---------------------------------------------------------------------------\u001b[0m",
      "\u001b[1;31mValueError\u001b[0m                                Traceback (most recent call last)",
      "Cell \u001b[1;32mIn[9], line 1\u001b[0m\n\u001b[1;32m----> 1\u001b[0m gwb \u001b[39m=\u001b[39m sam\u001b[39m.\u001b[39;49mgwb(fobs, realize\u001b[39m=\u001b[39;49m\u001b[39m10\u001b[39;49m, hard\u001b[39m=\u001b[39;49mhard)    \u001b[39m# calculate many different realizations\u001b[39;00m\n",
      "File \u001b[1;32mC:\\Users/emiga/OneDrive/Cal/GWs/code/holodeck\\holodeck\\sam.py:897\u001b[0m, in \u001b[0;36mSemi_Analytic_Model.gwb\u001b[1;34m(self, fobs_gw_edges, hard, realize)\u001b[0m\n\u001b[0;32m    894\u001b[0m     \u001b[39mraise\u001b[39;00m \u001b[39mValueError\u001b[39;00m(err)\n\u001b[0;32m    896\u001b[0m \u001b[39m# ---- Get the GWB spectrum from number of binaries over grid\u001b[39;00m\n\u001b[1;32m--> 897\u001b[0m hc \u001b[39m=\u001b[39m gravwaves\u001b[39m.\u001b[39;49m_gws_from_number_grid_integrated(edges, number, realize)\n\u001b[0;32m    898\u001b[0m \u001b[39mif\u001b[39;00m squeeze:\n\u001b[0;32m    899\u001b[0m     hc \u001b[39m=\u001b[39m hc\u001b[39m.\u001b[39msqueeze()\n",
      "File \u001b[1;32mC:\\Users/emiga/OneDrive/Cal/GWs/code/holodeck\\holodeck\\gravwaves.py:537\u001b[0m, in \u001b[0;36m_gws_from_number_grid_integrated\u001b[1;34m(edges, number, realize, sum)\u001b[0m\n\u001b[0;32m    535\u001b[0m shape \u001b[39m=\u001b[39m number\u001b[39m.\u001b[39mshape \u001b[39m+\u001b[39m (realize,)\n\u001b[0;32m    536\u001b[0m \u001b[39mtry\u001b[39;00m:\n\u001b[1;32m--> 537\u001b[0m     hc \u001b[39m=\u001b[39m hc[\u001b[39m.\u001b[39m\u001b[39m.\u001b[39m\u001b[39m.\u001b[39m, np\u001b[39m.\u001b[39mnewaxis] \u001b[39m*\u001b[39m np\u001b[39m.\u001b[39;49mrandom\u001b[39m.\u001b[39;49mpoisson(number[\u001b[39m.\u001b[39;49m\u001b[39m.\u001b[39;49m\u001b[39m.\u001b[39;49m, np\u001b[39m.\u001b[39;49mnewaxis], size\u001b[39m=\u001b[39;49mshape)\n\u001b[0;32m    538\u001b[0m \u001b[39mexcept\u001b[39;00m \u001b[39mValueError\u001b[39;00m \u001b[39mas\u001b[39;00m err:\n\u001b[0;32m    539\u001b[0m     log\u001b[39m.\u001b[39merror(\u001b[39mstr\u001b[39m(err))\n",
      "File \u001b[1;32mmtrand.pyx:3595\u001b[0m, in \u001b[0;36mnumpy.random.mtrand.RandomState.poisson\u001b[1;34m()\u001b[0m\n",
      "File \u001b[1;32m_common.pyx:883\u001b[0m, in \u001b[0;36mnumpy.random._common.disc\u001b[1;34m()\u001b[0m\n",
      "File \u001b[1;32m_common.pyx:680\u001b[0m, in \u001b[0;36mnumpy.random._common.discrete_broadcast_d\u001b[1;34m()\u001b[0m\n",
      "File \u001b[1;32m_common.pyx:411\u001b[0m, in \u001b[0;36mnumpy.random._common.check_array_constraint\u001b[1;34m()\u001b[0m\n",
      "\u001b[1;31mValueError\u001b[0m: lam value too large"
     ]
    }
   ],
   "source": [
    "gwb = sam.gwb(fobs, realize=10, hard=hard)    # calculate many different realizations"
   ]
  },
  {
   "cell_type": "code",
   "execution_count": null,
   "id": "9bd6f390",
   "metadata": {},
   "outputs": [],
   "source": [
    "fig, ax = plot.figax(xlabel='Frequency $f_\\mathrm{obs}$ [1/yr]', ylabel='Characteristic Strain $h_c$')\n",
    "\n",
    "xx = (fobs[1:] + fobs[:-1]) * 0.5\n",
    "ax.plot(xx, np.median(gwb, axis=1))\n",
    "\n",
    "ax.fill_between(xx, *np.percentile(gwb, [25, 75], axis=1), alpha=0.2)\n",
    "\n",
    "plt.show()"
   ]
  },
  {
   "cell_type": "code",
   "execution_count": null,
   "id": "df53a22f",
   "metadata": {},
   "outputs": [],
   "source": [
    "Fixed_Time = holo.evolution.Fixed_Time\n",
    "fixed = Fixed_Time.from_sam(sam, 2 * GYR)"
   ]
  },
  {
   "cell_type": "code",
   "execution_count": null,
   "id": "718cadbf",
   "metadata": {},
   "outputs": [],
   "source": [
    "gwb_fixed = sam.gwb(fobs, realize=3, hard=fixed)    # calculate many different realizations"
   ]
  },
  {
   "cell_type": "code",
   "execution_count": null,
   "id": "3f2ccf11",
   "metadata": {},
   "outputs": [],
   "source": [
    "fig, ax = plot.figax(xlabel='Frequency $f_\\mathrm{obs}$ [1/yr]', ylabel='Characteristic Strain $h_c$')\n",
    "\n",
    "xx = (fobs[1:] + fobs[:-1]) * 0.5\n",
    "ax.plot(xx, np.median(gwb_fixed, axis=1))\n",
    "\n",
    "ax.fill_between(xx, *np.percentile(gwb_fixed, [25, 75], axis=1), alpha=0.2)\n",
    "\n",
    "plt.show()"
   ]
  }
 ],
 "metadata": {
  "kernelspec": {
   "display_name": "Python 3",
   "language": "python",
   "name": "python3"
  },
  "language_info": {
   "codemirror_mode": {
    "name": "ipython",
    "version": 3
   },
   "file_extension": ".py",
   "mimetype": "text/x-python",
   "name": "python",
   "nbconvert_exporter": "python",
   "pygments_lexer": "ipython3",
   "version": "3.10.10"
  },
  "toc": {
   "base_numbering": 1,
   "nav_menu": {},
   "number_sections": true,
   "sideBar": true,
   "skip_h1_title": false,
   "title_cell": "Table of Contents",
   "title_sidebar": "Contents",
   "toc_cell": false,
   "toc_position": {
    "height": "calc(100% - 180px)",
    "left": "10px",
    "top": "150px",
    "width": "165px"
   },
   "toc_section_display": true,
   "toc_window_display": true
  },
  "varInspector": {
   "cols": {
    "lenName": 16,
    "lenType": 16,
    "lenVar": 40
   },
   "kernels_config": {
    "python": {
     "delete_cmd_postfix": "",
     "delete_cmd_prefix": "del ",
     "library": "var_list.py",
     "varRefreshCmd": "print(var_dic_list())"
    },
    "r": {
     "delete_cmd_postfix": ") ",
     "delete_cmd_prefix": "rm(",
     "library": "var_list.r",
     "varRefreshCmd": "cat(var_dic_list()) "
    }
   },
   "types_to_exclude": [
    "module",
    "function",
    "builtin_function_or_method",
    "instance",
    "_Feature"
   ],
   "window_display": false
  },
  "vscode": {
   "interpreter": {
    "hash": "17d459439548e0ef4d6a744a9fa4f3f6fa91b434189a6e542a76bffcd834cb9b"
   }
  }
 },
 "nbformat": 4,
 "nbformat_minor": 5
}
