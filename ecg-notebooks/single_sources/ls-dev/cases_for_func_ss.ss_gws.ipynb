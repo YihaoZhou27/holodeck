{
 "cells": [
  {
   "cell_type": "code",
   "execution_count": null,
   "metadata": {},
   "outputs": [],
   "source": [
    "# %load ../init.ipy\n",
    "%reload_ext autoreload\n",
    "%autoreload 2\n",
    "from importlib import reload\n",
    "\n",
    "import numpy as np\n",
    "import holodeck as holo\n",
    "import holodeck.single_sources as ss\n",
    "import holodeck.cyutils as cy\n",
    "import matplotlib.pyplot as plt\n",
    "import kalepy as kale\n",
    "\n",
    "\n",
    "import matplotlib.cm as cm\n",
    "from holodeck import plot, utils\n",
    "from holodeck.constants import YR, MSOL"
   ]
  },
  {
   "attachments": {},
   "cell_type": "markdown",
   "metadata": {},
   "source": [
    "# using single_source.py's ss_gws function with pspace"
   ]
  },
  {
   "attachments": {},
   "cell_type": "markdown",
   "metadata": {},
   "source": [
    "setup example"
   ]
  },
  {
   "cell_type": "code",
   "execution_count": null,
   "metadata": {},
   "outputs": [],
   "source": [
    "dur = 10.0*YR\n",
    "cad = .2*YR\n",
    "\n",
    "\n",
    "\n",
    "# 1) Choose the frequency bins at which to calculate the GWB, same as in semi-analytic-models.ipynb\n",
    "fobs = utils.nyquist_freqs(dur,cad)\n",
    "fobs_edges = utils.nyquist_freqs_edges(dur,cad)\n",
    "\n",
    "# 2) Build Semi-Analytic-Model with super simple parameters \n",
    "sam = holo.sam.Semi_Analytic_Model()\n",
    "# get observed orbital frequency bin edges and centers \n",
    "# from observed GW frequency bin edges\n",
    "fobs_orb_edges = fobs_edges / 2.0 # f_orb = f_GW/2\n",
    "fobs_orb_cents = kale.utils.midpoints(fobs_edges) / 2.0\n",
    "\n",
    "# 3) Get SAM edges and numbers as in sam.gwb()\n",
    "# gets differential number of binaries per bin-vol per log freq interval\n",
    "edges, dnum = sam.dynamic_binary_number(holo.hardening.Hard_GW, fobs_orb=fobs_orb_cents, zero_stalled=False)\n",
    "edges[-1] = fobs_orb_edges\n",
    "# integrate (multiply by bin volume) within each bin\n",
    "number = utils._integrate_grid_differential_number(edges, dnum, freq=False)\n",
    "number = number * np.diff(np.log(fobs_edges))\n",
    "\n",
    "sam = holo.sam.Semi_Analytic_Model()"
   ]
  },
  {
   "attachments": {},
   "cell_type": "markdown",
   "metadata": {},
   "source": [
    "### Case A) just 1, no params"
   ]
  },
  {
   "cell_type": "code",
   "execution_count": null,
   "metadata": {},
   "outputs": [],
   "source": [
    "hc_ss, hc_bg= ss.ss_gws(edges, number, realize = 5, loudest=1, params=False)"
   ]
  },
  {
   "cell_type": "code",
   "execution_count": null,
   "metadata": {},
   "outputs": [],
   "source": [
    "#optional:\n",
    "INCLUDE_MEDIANS = True\n",
    "\n",
    "\n",
    "fig, ax = plot.figax(xlabel='Frequency $f_\\mathrm{obs}$ [1/yr]', \n",
    "                    ylabel='Characteristic Strain $h_c$', figsize=[10,4.5])\n",
    "ax.set_title('ss.ss_gws(edges, number, realize=5, loudest=1, params=False)')\n",
    "xx = fobs * YR\n",
    "\n",
    "# plot a reference, pure power-law  strain spectrum:   h_c(f) = 1e-15 * (f * yr) ^ -2/3\n",
    "yy = 1e-15 * np.power(xx, -2.0/3.0)\n",
    "ax.plot(xx, yy, 'k--', alpha=0.25, lw=2.0, label = 'pure power law')\n",
    "\n",
    "\n",
    "# plot the background contours \n",
    "ss.plot_BG(ax, xx, hc_bg, LABEL='background contours', COLOR='k',\n",
    "           REALS=0, median = True)\n",
    "\n",
    "# plot the first 5 realizations\n",
    "ss.plot_samples(ax, xx, SS = hc_ss[...,0], BG = hc_bg, REALS=5, LABEL=' (5 reals)')\n",
    "\n",
    "\n",
    "# plot medians and errorbars\n",
    "ss.plot_medians(ax, xx, BG=hc_bg, SS=hc_ss[...,0], \n",
    "                BG_ERRORS=True, BG_COLOR='k',\n",
    "                SS_ERRORS=True, SS_COLOR='mediumorchid')\n",
    "\n",
    "\n",
    "legend_gwb = ax.legend(bbox_to_anchor=(.1,.15), \n",
    "                       bbox_transform=fig.transFigure, loc='lower left',\n",
    "                       fontsize=8)\n",
    "\n",
    "# ax.set_ylim(1e-16, 3e-15)\n",
    "fig.tight_layout()"
   ]
  },
  {
   "attachments": {},
   "cell_type": "markdown",
   "metadata": {},
   "source": [
    "### Case B) multiple loudest, no params"
   ]
  },
  {
   "cell_type": "code",
   "execution_count": null,
   "metadata": {},
   "outputs": [],
   "source": [
    "hc_ss, hc_bg = ss.ss_gws(edges, number, realize = 5, loudest = 3)"
   ]
  },
  {
   "cell_type": "code",
   "execution_count": null,
   "metadata": {},
   "outputs": [],
   "source": [
    "fig, ax = plot.figax(xlabel='Frequency $f_\\mathrm{obs}$ [1/yr]', \n",
    "                    ylabel='Characteristic Strain $h_c$', figsize=[10,4.5])\n",
    "ax.set_title('ss.ss_gws(edges, number, realize=5, loudest=3)')\n",
    "\n",
    "xx = fobs * YR\n",
    "\n",
    "# plot a reference, pure power-law  strain spectrum:   h_c(f) = 1e-15 * (f * yr) ^ -2/3\n",
    "yy = 1e-15 * np.power(xx, -2.0/3.0)\n",
    "ax.plot(xx, yy, 'k--', alpha=0.25, lw=2.0, label = 'pure power law')\n",
    "\n",
    "# plot the median background\n",
    "ax.plot(xx, np.median(hc_bg, axis=1), label='bg median', color='k', lw=3, alpha=.5)\n",
    "\n",
    "# plot all single sources in the first realization\n",
    "REALS = 3\n",
    "colors = cm.rainbow(np.linspace(0,1,REALS))\n",
    "for rr in range(REALS):\n",
    "    ax.plot(xx, hc_bg[:,rr], lw=2.0, alpha=0.5, color=colors[rr], linestyle='solid')\n",
    "    for ll in range(len(hc_ss[0,0])):\n",
    "        if(ll==0): \n",
    "            edgecolor = 'k'\n",
    "            alpha = 0.7\n",
    "        else: \n",
    "            edgecolor = None\n",
    "            alpha = 0.4\n",
    "        ax.scatter(xx,hc_ss[:,rr,ll], color=colors[rr], marker='o', s=80,\n",
    "                    edgecolor=edgecolor, alpha=alpha)\n",
    "\n",
    "# plot the model with Poisson sampling\n",
    "# ss.plot_BG(ax, xx, hc_bg, LABEL='hc_bg, median of %d realizations'% hc_bg.shape[1], REALS=1, COLOR='b')\n",
    "\n",
    "\n",
    "legend_gwb = ax.legend(bbox_to_anchor=(.1,.15), bbox_transform=fig.transFigure, loc='lower left')\n",
    "fig.tight_layout()"
   ]
  },
  {
   "attachments": {},
   "cell_type": "markdown",
   "metadata": {},
   "source": [
    "### Case C) just 1, with params"
   ]
  },
  {
   "cell_type": "code",
   "execution_count": null,
   "metadata": {},
   "outputs": [],
   "source": [
    "hc_ss, hc_bg, sspar, bgpar = ss.ss_gws(edges, number, realize = 5, params=True)"
   ]
  },
  {
   "cell_type": "code",
   "execution_count": null,
   "metadata": {},
   "outputs": [],
   "source": [
    "#optional:\n",
    "INCLUDE_MEDIANS = True\n",
    "\n",
    "\n",
    "fig, ax = plot.figax(xlabel='Frequency $f_\\mathrm{obs}$ [1/yr]', \n",
    "                    ylabel='Characteristic Strain $h_c$', figsize=[10,4.5])\n",
    "ax.set_title('ss.ss_gws(edges, number, realize=5, params=True)')\n",
    "xx = fobs * YR\n",
    "\n",
    "# plot a reference, pure power-law  strain spectrum:   h_c(f) = 1e-15 * (f * yr) ^ -2/3\n",
    "yy = 1e-15 * np.power(xx, -2.0/3.0)\n",
    "ax.plot(xx, yy, 'k--', alpha=0.25, lw=2.0, label = 'pure power law')\n",
    "\n",
    "\n",
    "# plot the background contours \n",
    "ss.plot_BG(ax, xx, hc_bg, LABEL='background contours', COLOR='k',\n",
    "           REALS=0, median = True)\n",
    "\n",
    "# plot the first 5 realizations\n",
    "ss.plot_samples(ax, xx, SS = hc_ss[...,0], BG = hc_bg, REALS=5, LABEL=' (5 reals)')\n",
    "\n",
    "\n",
    "# plot medians and errorbars\n",
    "ss.plot_medians(ax, xx, BG=hc_bg, SS=hc_ss[...,0], \n",
    "                BG_ERRORS=True, BG_COLOR='k',\n",
    "                SS_ERRORS=True, SS_COLOR='mediumorchid')\n",
    "\n",
    "\n",
    "legend_gwb = ax.legend(bbox_to_anchor=(.1,.15), \n",
    "                       bbox_transform=fig.transFigure, loc='lower left',\n",
    "                       fontsize=8)\n",
    "\n",
    "# ax.set_ylim(1e-16, 3e-15)\n",
    "fig.tight_layout()"
   ]
  },
  {
   "cell_type": "code",
   "execution_count": null,
   "metadata": {},
   "outputs": [],
   "source": [
    "fig, axs = plt.subplots(2, 2, figsize=(10,6), sharex=True)\n",
    "fig.suptitle(('Parameters of Loudest Single Sources in %d Realizations of ' % hc_bg.shape[1])\n",
    "             +'\\nss.ss_gws(edges, number, realize=5, params=True)')\n",
    "\n",
    "grid = np.empty((2,2), dtype=list)\n",
    "grid[0,0] = edges[0]/MSOL\n",
    "grid[0,1] = edges[1]\n",
    "grid[1,0] = edges[2]\n",
    "grid[1,1] = edges[3]\n",
    "xx = fobs * YR\n",
    "\n",
    "bg_marr = bgpar[0,:,:]\n",
    "bg_qarr = bgpar[1,:,:]\n",
    "bg_zarr = bgpar[2,:,:]\n",
    "bg_params = np.array([[bg_marr/MSOL, bg_qarr], [bg_zarr, hc_bg]])\n",
    "\n",
    "ss_marr = sspar[0,:,:,0]\n",
    "ss_qarr = sspar[1,:,:,0]\n",
    "ss_zarr = sspar[2,:,:,0]\n",
    "ss_params = np.array([[ss_marr/MSOL, ss_qarr], [ss_zarr, hc_ss[...,0]]])\n",
    "\n",
    "\n",
    "ss.plot_params(axs, xx, grid, REALS=5, \n",
    "               BG_PARAMS=bg_params, SS_PARAMS=ss_params,\n",
    "               BG_MEDIAN=False, SS_MEDIAN=False,\n",
    "               SHOW_GRID=False)\n",
    "\n",
    "\n",
    "fig.tight_layout()"
   ]
  },
  {
   "attachments": {},
   "cell_type": "markdown",
   "metadata": {},
   "source": [
    "### Case D) multiple, with params"
   ]
  },
  {
   "cell_type": "code",
   "execution_count": null,
   "metadata": {},
   "outputs": [],
   "source": [
    "hc_ss, hc_bg, sspar, bgpar = ss.ss_gws(edges, number, realize = 5, loudest = 3, params=True)"
   ]
  },
  {
   "cell_type": "code",
   "execution_count": null,
   "metadata": {},
   "outputs": [],
   "source": [
    "fig, ax = plot.figax(xlabel='Frequency $f_\\mathrm{obs}$ [1/yr]', \n",
    "                    ylabel='Characteristic Strain $h_c$', figsize=[10,4.5])\n",
    "ax.set_title('ss.ss_gws(edges, number, realize=5, loudest=3, params=True)')\n",
    "\n",
    "xx = fobs * YR\n",
    "\n",
    "# plot a reference, pure power-law  strain spectrum:   h_c(f) = 1e-15 * (f * yr) ^ -2/3\n",
    "yy = 1e-15 * np.power(xx, -2.0/3.0)\n",
    "ax.plot(xx, yy, 'k--', alpha=0.25, lw=2.0, label = 'pure power law')\n",
    "\n",
    "# plot the median background\n",
    "ax.plot(xx, np.median(hc_bg, axis=1), label='bg median', color='k', lw=3, alpha=.5)\n",
    "\n",
    "# plot all single sources in the first realization\n",
    "REALS = 3\n",
    "colors = cm.rainbow(np.linspace(0,1,REALS))\n",
    "for rr in range(REALS):\n",
    "    ax.plot(xx, hc_bg[:,rr], lw=2.0, alpha=0.5, color=colors[rr], linestyle='solid')\n",
    "    for ll in range(len(hc_ss[0,0])):\n",
    "        if(ll==0): \n",
    "            edgecolor = 'k'\n",
    "            alpha = 0.7\n",
    "        else: \n",
    "            edgecolor = None\n",
    "            alpha = 0.4\n",
    "        ax.scatter(xx,hc_ss[:,rr,ll], color=colors[rr], marker='o', s=80,\n",
    "                    edgecolor=edgecolor, alpha=alpha)\n",
    "\n",
    "# plot the model with Poisson sampling\n",
    "# ss.plot_BG(ax, xx, hc_bg, LABEL='hc_bg, median of %d realizations'% hc_bg.shape[1], REALS=1, COLOR='b')\n",
    "\n",
    "\n",
    "legend_gwb = ax.legend(bbox_to_anchor=(.1,.15), bbox_transform=fig.transFigure, loc='lower left')\n",
    "fig.tight_layout()"
   ]
  },
  {
   "cell_type": "code",
   "execution_count": null,
   "metadata": {},
   "outputs": [],
   "source": [
    "fig, axs = plt.subplots(2, 2, figsize=(10,6), sharex=True)\n",
    "rr = 2\n",
    "L = len(hc_ss[0,0])\n",
    "fig.suptitle(('Individual Parameters of the %d Loudest Sources in Realization %d of ' % (L,rr))\n",
    "             +'\\nss.ss_gws(edges, number, realize=5, loudest=3, params=True)')\n",
    "\n",
    "grid = np.empty((2,2), dtype=list)\n",
    "grid[0,0] = edges[0]/MSOL\n",
    "grid[0,1] = edges[1]\n",
    "grid[1,0] = edges[2]\n",
    "grid[1,1] = edges[3]\n",
    "xx = fobs * YR\n",
    "\n",
    "\n",
    "ss_marr = sspar[0,...]\n",
    "ss_qarr = sspar[1,...]\n",
    "ss_zarr = sspar[2,...]\n",
    "ss_darr = holo.cosmo.comoving_distance(ss_zarr).si.value * 3.241 * 10**-23 # Mpc\n",
    "\n",
    "\n",
    "# shape(2, 2) each piece shape (F, R, L)\n",
    "LL_PARAMS = np.array([[ss_marr/MSOL, ss_qarr], [ss_darr, hc_ss]])\n",
    "\n",
    "# from single_sources.py\n",
    "TITLES = np.array([['Total Mass $M/M_\\odot$', 'Mass Ratio $q$'], \n",
    "                                   ['Comoving Distance $d_c$ (Mpc)', 'Characteristic Strain $h_c$']])\n",
    "XLABEL = 'Frequency $f_\\mathrm{obs}$ (1/yr)'\n",
    "SHOW_GRID = False  \n",
    "SHOW_LEGEND = True\n",
    "LABEL=''           \n",
    "colors = cm.rainbow(np.linspace(1,0,L))\n",
    "for ii in range(len(axs)):\n",
    "    for jj in range(len(axs)):\n",
    "        axs[ii,jj].set_ylabel(TITLES[ii,jj])\n",
    "        # if(ii==0 or jj==0): # mass, ratio, or redshift\n",
    "        #     # bin edges\n",
    "        #     for kk in range(len(grid[ii,jj])):\n",
    "        #         if(kk==0): edgelabel='edges'\n",
    "        #         else: edgelabel=None \n",
    "        #         if(SHOW_GRID == True):\n",
    "        #             axs[ii,jj].axhline(grid[ii,jj][kk], color='k', alpha=0.6, lw=0.15, label=edgelabel)\n",
    "                \n",
    "        if (LL_PARAMS is not None):\n",
    "            # single source realizations\n",
    "            for ll in range(L):\n",
    "                if(ll==0): \n",
    "                    sslabel = 'loudest ss'+LABEL\n",
    "                elif(ll==L-1): \n",
    "                    sslabel = 'quietest ss'+LABEL\n",
    "                else: \n",
    "                    sslabel = None\n",
    "                axs[ii,jj].scatter(xx, LL_PARAMS[ii,jj,:,rr,ll], label=sslabel,\n",
    "                                    color=colors[ll], marker='o', s=80, \n",
    "                                    alpha=0.5, edgecolor='k')\n",
    "        axs[ii,jj].set_yscale('log')\n",
    "        axs[ii,jj].set_xscale('log')\n",
    "        if(ii==1): axs[ii,jj].set_xlabel(XLABEL)\n",
    "        if(jj==1):\n",
    "            axs[ii,jj].yaxis.set_label_position(\"right\")\n",
    "            axs[ii,jj].yaxis.tick_right()\n",
    "        if(SHOW_LEGEND): axs[ii,jj].legend(loc='lower left')\n",
    "\n",
    "\n",
    "fig.tight_layout()"
   ]
  },
  {
   "cell_type": "code",
   "execution_count": null,
   "metadata": {},
   "outputs": [],
   "source": []
  },
  {
   "cell_type": "code",
   "execution_count": null,
   "metadata": {},
   "outputs": [],
   "source": []
  },
  {
   "attachments": {},
   "cell_type": "markdown",
   "metadata": {},
   "source": [
    "# all from sam, for librarian.py function"
   ]
  },
  {
   "cell_type": "code",
   "execution_count": null,
   "metadata": {},
   "outputs": [],
   "source": [
    "dur = 10.0*YR\n",
    "cad = .2*YR\n",
    "\n",
    "\n",
    "\n",
    "# 1) Choose the frequency bins at which to calculate the GWB, same as in semi-analytic-models.ipynb\n",
    "fobs = utils.nyquist_freqs(dur,cad)\n",
    "fobs_edges = utils.nyquist_freqs_edges(dur,cad)\n",
    "\n",
    "# 2) Build Semi-Analytic-Model with super simple parameters \n",
    "sam = holo.sam.Semi_Analytic_Model()\n",
    "# get observed orbital frequency bin edges and centers \n",
    "# from observed GW frequency bin edges\n",
    "fobs_orb_edges = fobs_edges / 2.0 # f_orb = f_GW/2\n",
    "fobs_orb_cents = kale.utils.midpoints(fobs_edges) / 2.0\n",
    "\n",
    "# 3) Get SAM edges and numbers as in sam.gwb()\n",
    "# gets differential number of binaries per bin-vol per log freq interval\n",
    "edges, dnum = sam.dynamic_binary_number(holo.hardening.Hard_GW, fobs_orb=fobs_orb_cents, zero_stalled=False)\n",
    "edges[-1] = fobs_orb_edges\n",
    "# integrate (multiply by bin volume) within each bin\n",
    "number = utils._integrate_grid_differential_number(edges, dnum, freq=False)\n",
    "number = number * np.diff(np.log(fobs_edges))"
   ]
  },
  {
   "cell_type": "code",
   "execution_count": null,
   "metadata": {},
   "outputs": [],
   "source": [
    "print(sam.__dict__.keys())"
   ]
  },
  {
   "cell_type": "code",
   "execution_count": null,
   "metadata": {},
   "outputs": [],
   "source": []
  }
 ],
 "metadata": {
  "kernelspec": {
   "display_name": "holo310",
   "language": "python",
   "name": "python3"
  },
  "language_info": {
   "codemirror_mode": {
    "name": "ipython",
    "version": 3
   },
   "file_extension": ".py",
   "mimetype": "text/x-python",
   "name": "python",
   "nbconvert_exporter": "python",
   "pygments_lexer": "ipython3",
   "version": "3.10.9"
  },
  "vscode": {
   "interpreter": {
    "hash": "b691867a38f678e88325b7be712686862775b0bc37454cc33917ba725d804d99"
   }
  }
 },
 "nbformat": 4,
 "nbformat_minor": 2
}
