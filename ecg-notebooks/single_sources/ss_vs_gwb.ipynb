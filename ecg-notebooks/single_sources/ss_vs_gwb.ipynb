{
 "cells": [
  {
   "cell_type": "code",
   "execution_count": null,
   "metadata": {},
   "outputs": [],
   "source": [
    "import matplotlib.pyplot as plt\n",
    "\n",
    "import numpy as np\n",
    "import matplotlib as mpl\n",
    "import matplotlib.pyplot as plt\n",
    "\n",
    "import tqdm\n",
    "\n",
    "import holodeck as holo\n",
    "from holodeck import utils, plot\n",
    "from holodeck.constants import YR\n",
    "\n",
    "mpl.style.use('default')   # avoid dark backgrounds from dark theme vscode\n",
    "%matplotlib inline\n",
    "%config InlineBackend.figure_format = 'retina'\n"
   ]
  },
  {
   "attachments": {},
   "cell_type": "markdown",
   "metadata": {},
   "source": [
    "# Compare Simple Sample"
   ]
  },
  {
   "cell_type": "code",
   "execution_count": null,
   "metadata": {},
   "outputs": [],
   "source": [
    "from holodeck.constants import YR, MSOL\n",
    "import kalepy as kale"
   ]
  },
  {
   "cell_type": "code",
   "execution_count": null,
   "metadata": {},
   "outputs": [],
   "source": [
    "dur1 = 5.0*YR/3.1557600\n",
    "cad1 = .5*YR/3.1557600\n",
    "fobs1 = utils.nyquist_freqs(dur1,cad1)\n",
    "fobs_edges1 = utils.nyquist_freqs_edges(dur1,cad1)\n",
    "# print('fobs=', fobs)\n",
    "# print('fobs_edges=',fobs_edges)\n",
    "print(f\"Number of frequency bins: {fobs.size-1}\")\n",
    "print(f\"  between [{fobs1[0]*YR:.2f}, {fobs1[-1]*YR:.2f}] 1/yr\")\n",
    "print(f\"          [{fobs1[0]*1e9:.2f}, {fobs1[-1]*1e9:.2f}] nHz\")\n",
    "mtot=(1.0e6*MSOL/1.988409870698051, 1.0e8*MSOL/1.988409870698051, 3)\n",
    "mrat=(1e-1, 1.0, 2)\n",
    "redz=(1e-3, 1.0, 4)\n",
    "sam1 = holo.sam.Semi_Analytic_Model(mtot=mtot, mrat=mrat, \n",
    "        redz=redz)\n",
    "print('edges:', sam1.edges)"
   ]
  },
  {
   "attachments": {},
   "cell_type": "markdown",
   "metadata": {},
   "source": [
    "inside sam.gwb(Hard_GW)"
   ]
  },
  {
   "cell_type": "code",
   "execution_count": null,
   "metadata": {},
   "outputs": [],
   "source": [
    "fobs_gw_edges1 = fobs_edges1\n",
    "hard = holo.hardening.Hard_GW\n",
    "fobs_gw_cents1 = kale.utils.midpoints(fobs_gw_edges1)\n",
    "fobs_orb_edges1 = fobs_gw_edges1 / 2.0\n",
    "fobs_orb_cents1 = fobs_gw_cents1 / 2.0\n",
    "\n",
    "# dynamic_binary_number\n",
    "edges1, dnum1 = sam1.dynamic_binary_number(hard, fobs_orb=fobs_orb_cents1)\n",
    "edges1[-1] = fobs_orb_edges1\n",
    "\n",
    "# integrate (multiply by bin volume) within each\n",
    "# bin\n",
    "number1 = utils._integrate_grid_differential_number(edges1, dnum1, freq=False)\n",
    "number1 = number1 * np.diff(np.log(fobs_gw_edges1))\n",
    "\n",
    "use_redz1 = sam1._redz_prime[:, :, :, np.newaxis] * np.ones_like(dnum1)\n"
   ]
  },
  {
   "attachments": {},
   "cell_type": "markdown",
   "metadata": {},
   "source": [
    "compare steps of \n",
    "* gravwaves._gws_from_number_grid_integrated_redz(edges, redz, number, realize=1, sum=True)\n",
    "* single_sources.ss_gws_redz(edges, redz, number, realize=1, loudest = 1, params = False)"
   ]
  },
  {
   "cell_type": "code",
   "execution_count": null,
   "metadata": {},
   "outputs": [],
   "source": [
    "gwb1 = holo.gravwaves._gws_from_number_grid_integrated_redz(edges1, use_redz1, number1, \n",
    "                                                           realize=1, sum=True)\n",
    "hc_ss1, hc_bg1 = holo.single_sources.ss_gws_redz(edges1, use_redz1, number1, realize=1, loudest=100, params=False)\n",
    "# hc_ss_tot = np.sqrt(\n",
    "hc_tot1 = np.sqrt(np.sum(hc_ss1**2, axis=2)+ hc_bg1**2)"
   ]
  },
  {
   "cell_type": "code",
   "execution_count": null,
   "metadata": {},
   "outputs": [],
   "source": [
    "print(np.array(edges1).shape)"
   ]
  },
  {
   "cell_type": "code",
   "execution_count": null,
   "metadata": {},
   "outputs": [],
   "source": [
    "print(hc_bg1.squeeze())\n",
    "print(gwb1.squeeze())\n",
    "hc_tot1 = np.sqrt(np.sum(hc_ss1**2, axis=2)+ hc_bg1**2)\n",
    "print(hc_tot1.shape)\n",
    "print(gwb1.shape)\n",
    "for rr in range(len(gwb1[0])):\n",
    "    plt.plot(fobs1*YR, hc_tot1[:,rr]/gwb1[:,rr], label='hc_tot/gwb', alpha=0.25)\n",
    "\n",
    "plt.xlabel('GW frequency (1/yr)')\n",
    "plt.ylabel('Ratio hc_tot / gwb')"
   ]
  },
  {
   "cell_type": "code",
   "execution_count": null,
   "metadata": {},
   "outputs": [],
   "source": [
    "plt.xlabel('GW frequency (1/yr)')\n",
    "plt.ylabel('Strain $h_c$')\n",
    "\n",
    "plt.loglog(fobs1*YR, gwb1[:], color='red', alpha=0.25, label='gwb')\n",
    "plt.loglog(fobs1*YR, hc_tot1[:,0], color='b', alpha=0.25, label='hc_tot')\n",
    "plt.legend()"
   ]
  },
  {
   "cell_type": "markdown",
   "metadata": {},
   "source": [
    "### 2 Simple again. more louds"
   ]
  },
  {
   "cell_type": "code",
   "execution_count": null,
   "metadata": {},
   "outputs": [],
   "source": [
    "hc_ss2, hc_bg2 = sam1.ss_gwb(fobs_edges1, realize=1, loudest=10)"
   ]
  },
  {
   "cell_type": "code",
   "execution_count": null,
   "metadata": {},
   "outputs": [],
   "source": [
    "gwb2 = sam1.gwb(fobs_edges1, realize=1)"
   ]
  },
  {
   "cell_type": "code",
   "execution_count": null,
   "metadata": {},
   "outputs": [],
   "source": [
    "print(hc_bg2.squeeze())\n",
    "print(gwb2.squeeze())\n",
    "hc_tot2 = np.sqrt(np.sum(hc_ss2**2, axis=2)+ hc_bg2**2)\n",
    "print(hc_tot2.shape)\n",
    "print(gwb2.shape)\n",
    "plt.plot(fobs1*YR, hc_tot2[:,0]/gwb2[:], label='hc_tot/gwb')"
   ]
  },
  {
   "cell_type": "code",
   "execution_count": null,
   "metadata": {},
   "outputs": [],
   "source": [
    "plt.xlabel('GW frequency (1/yr)')\n",
    "plt.ylabel('Strain $h_c$')\n",
    "\n",
    "plt.loglog(fobs1*YR, gwb2[:], color='red', alpha=0.25, label='gwb')\n",
    "plt.loglog(fobs1*YR, hc_tot2[:,0], color='b', alpha=0.25, label='hc_tot')\n",
    "plt.legend()"
   ]
  },
  {
   "attachments": {},
   "cell_type": "markdown",
   "metadata": {},
   "source": [
    "For the super simple example they match!!\n",
    "\n",
    "### 3 Let's try full size SAM:"
   ]
  },
  {
   "cell_type": "code",
   "execution_count": null,
   "metadata": {},
   "outputs": [],
   "source": [
    "dur3 = 10.0 *YR\n",
    "cad3 = 0.2* YR\n",
    "fobs3 = utils.nyquist_freqs(dur3,cad3) # obs gw freqs\n",
    "fobs_edges3 = utils.nyquist_freqs_edges(dur3,cad3) # obs gw fres\n",
    "sam3 = holo.sam.Semi_Analytic_Model()"
   ]
  },
  {
   "cell_type": "code",
   "execution_count": null,
   "metadata": {},
   "outputs": [],
   "source": [
    "hc_ss3, hc_bg3 = sam3.ss_gwb(fobs_edges3, realize=30, loudest=10)\n",
    "gwb3 = sam3.gwb(fobs_edges3, realize=30)"
   ]
  },
  {
   "cell_type": "code",
   "execution_count": null,
   "metadata": {},
   "outputs": [],
   "source": [
    "# print(hc_bg3.squeeze())\n",
    "# print(gwb3.squeeze())\n",
    "hc_tot3 = np.sqrt(np.sum(hc_ss3**2, axis=2)+ hc_bg3**2)\n",
    "print(hc_tot3.shape)\n",
    "print(gwb3.shape)\n",
    "for rr in range(len(gwb3[0])):\n",
    "    plt.plot(fobs3*YR, hc_tot3[:,rr]/gwb3[:,rr], label='hc_tot/gwb', alpha=0.25)\n",
    "\n",
    "plt.plot(fobs3*YR, np.mean(hc_tot3/gwb3, axis=1), color='k')\n",
    "\n",
    "plt.xlabel('GW frequency (1/yr)')\n",
    "plt.ylabel('Ratio hc_tot / gwb')\n",
    "plt.ylim(0,3)"
   ]
  },
  {
   "cell_type": "code",
   "execution_count": null,
   "metadata": {},
   "outputs": [],
   "source": [
    "plt.xlabel('GW frequency (1/yr)')\n",
    "plt.ylabel('Strain $h_c$')\n",
    "\n",
    "rr=0\n",
    "plt.loglog(fobs3*YR, gwb3[:,rr], color='red', alpha=0.25, label='gwb')\n",
    "plt.loglog(fobs3*YR, hc_tot3[:,rr], color='b', alpha=0.25, label='hc_tot')\n",
    "for rr in range(1,len(gwb3[0])):\n",
    "    plt.loglog(fobs3*YR, gwb3[:,rr], color='red', alpha=0.25)\n",
    "    plt.loglog(fobs3*YR, hc_tot3[:,rr], color='b', alpha=0.25)\n",
    "plt.legend()"
   ]
  },
  {
   "attachments": {},
   "cell_type": "markdown",
   "metadata": {},
   "source": [
    "For the super simple example they match!!\n",
    "\n",
    "### 4 Let's try full size SAM, more reals:"
   ]
  },
  {
   "cell_type": "code",
   "execution_count": null,
   "metadata": {},
   "outputs": [],
   "source": [
    "hc_ss4, hc_bg4 = sam3.ss_gwb(fobs_edges3, realize=100, loudest=10)\n",
    "gwb4 = sam3.gwb(fobs_edges3, realize=100)"
   ]
  },
  {
   "cell_type": "code",
   "execution_count": null,
   "metadata": {},
   "outputs": [],
   "source": [
    "# print(hc_bg3.squeeze())\n",
    "# print(gwb3.squeeze())\n",
    "hc_tot4 = np.sqrt(np.sum(hc_ss4**2, axis=2)+ hc_bg4**2)\n",
    "print(hc_tot4.shape)\n",
    "print(gwb4.shape)\n",
    "for rr in range(len(gwb4[0])):\n",
    "    plt.plot(fobs3*YR, hc_tot4[:,rr]/gwb4[:,rr], label='hc_tot/gwb', alpha=0.25)\n",
    "\n",
    "plt.plot(fobs3*YR, np.mean(hc_tot4/gwb4, axis=1), color='k')\n",
    "\n",
    "plt.xlabel('GW frequency (1/yr)')\n",
    "plt.ylabel('Ratio hc_tot / gwb')\n",
    "plt.ylim(0,3)"
   ]
  },
  {
   "cell_type": "code",
   "execution_count": null,
   "metadata": {},
   "outputs": [],
   "source": [
    "plt.xlabel('GW frequency (1/yr)')\n",
    "plt.ylabel('Strain $h_c$')\n",
    "\n",
    "rr=0\n",
    "plt.loglog(fobs3*YR, gwb4[:,rr], color='red', alpha=0.25, label='gwb')\n",
    "plt.loglog(fobs3*YR, hc_tot4[:,rr], color='b', alpha=0.25, label='hc_tot')\n",
    "for rr in range(1,len(gwb4[0])):\n",
    "    plt.loglog(fobs3*YR, gwb4[:,rr], color='red', alpha=0.25)\n",
    "    plt.loglog(fobs3*YR, hc_tot4[:,rr], color='b', alpha=0.25)\n",
    "plt.legend()"
   ]
  },
  {
   "cell_type": "code",
   "execution_count": null,
   "metadata": {},
   "outputs": [],
   "source": [
    "sum1 = np.sqrt(np.sum(hc_bg4[:, :, np.newaxis]**2 + hc_ss4**2, axis=-1))\n",
    "print(sum1.shape)\n",
    "sum2 = np.sqrt(np.sum(hc_ss4**2, axis=2) + hc_bg4**2)\n",
    "# why are these not the exact same??\n",
    "plt.plot(sum1[:,0], sum2[:,0])\n",
    "plt.xlabel('sum1 = $\\sqrt{\\sum_\\mathrm{axis=-1}(hc_{bg4}[:, :, np.newaxis]^2 + hc_{ss4}^2})$')\n",
    "plt.ylabel('sum2 = $\\sqrt{\\sum_L(hc_{ss4}^2) + hc_{bg4}^2}$')"
   ]
  },
  {
   "cell_type": "code",
   "execution_count": null,
   "metadata": {},
   "outputs": [],
   "source": [
    "fig, axes = plot.figax(\n",
    "    figsize=[8, 8], nrows=2, hspace=0.4,\n",
    "    xlabel=plot.LABEL_GW_FREQUENCY_YR, ylabel=plot.LABEL_CHARACTERISTIC_STRAIN\n",
    ")\n",
    "\n",
    "\n",
    "xx = fobs3 * YR\n",
    "\n",
    "# y1 = data['hc_bg']\n",
    "# y1 = np.sqrt(np.sum(hc_bg4[:, :, np.newaxis]**2 + hc_ss4**2, axis=-1))\n",
    "y1=hc_tot4\n",
    "print(y1.shape)\n",
    "y2 = gwb4\n",
    "\n",
    "labels = ['SS', 'GWB']\n",
    "for jj, yy in enumerate([y1, y2]):\n",
    "    med, *conf = np.percentile(yy, [50, 25, 75], axis=-1)\n",
    "    cc, = axes[0].plot(xx, med, alpha=0.5, label=labels[jj])\n",
    "    cc = cc.get_color()\n",
    "    axes[0].fill_between(xx, *conf, color=cc, alpha=0.1)\n",
    "\n",
    "axes[1].plot(xx, np.median(y1, axis=-1)/np.median(y2, axis=-1), 'k--', label='SS/GWB median')\n",
    "axes[1].plot(xx, np.mean(y1, axis=-1)/np.mean(y2, axis=-1), 'k--', label='SS/GWB mean')\n",
    "        \n",
    "\n",
    "axes[1].set_ylabel('ratio')\n",
    "for ax in axes:\n",
    "    ax.legend()\n",
    "    plot._twin_hz(ax)\n",
    "    \n",
    "plt.show()"
   ]
  },
  {
   "attachments": {},
   "cell_type": "markdown",
   "metadata": {},
   "source": [
    "# Compare Old (noredz)"
   ]
  },
  {
   "cell_type": "code",
   "execution_count": null,
   "metadata": {},
   "outputs": [],
   "source": [
    "def run_single_params_model(space, params, fobs_edges, nreals=100, nloudest=5):\n",
    "    param_names = space.param_names\n",
    "    log = space._log\n",
    "    \n",
    "    pars = {name: params[pp] for pp, name in enumerate(param_names)}\n",
    "\n",
    "    log.info(f\"Loading sam and hard from {params=}\")\n",
    "    sam, hard = space.model_for_params(pars, sam_shape=space.sam_shape)\n",
    "\n",
    "    fobs_cents = utils.midpoints(fobs_edges, log=False)\n",
    "    fobs_orb_edges = fobs_edges / 2.0\n",
    "    fobs_orb_cents = fobs_cents / 2.0\n",
    "\n",
    "    log.info(f\"Calculating `dynamic_binary_number` for {fobs_cents.size} freqs\")\n",
    "    edges, dnum = sam.dynamic_binary_number(hard, fobs_orb=fobs_orb_cents)\n",
    "    edges[-1] = fobs_orb_edges\n",
    "\n",
    "    # integrate for number\n",
    "    log.debug(f\"integrating to get number of binaries\")\n",
    "    number = utils._integrate_grid_differential_number(edges, dnum, freq=False)\n",
    "    number = number * np.diff(np.log(fobs_edges))\n",
    "\n",
    "    log.debug(f\"calculating strains and sources for shape ({fobs_cents.size}, {nreals}), {nloudest=}\")\n",
    "    hc_ss, hc_bg, sspar, bgpar = holo.single_sources.ss_gws(\n",
    "        edges, number, realize=nreals, loudest=nloudest, params=True\n",
    "    )\n",
    "\n",
    "    # use_redz = sam._redz_final\n",
    "    # gwb = holo.gravwaves._gws_from_number_grid_integrated(edges, use_redz, number, nreals)\n",
    "\n",
    "    gwb = holo.gravwaves._gws_from_number_grid_integrated(edges, number, nreals)\n",
    "\n",
    "    data = dict(\n",
    "        fobs=fobs_cents, fobs_edges=fobs_edges,\n",
    "        gwb=gwb, hc_ss=hc_ss, hc_bg=hc_bg, sspar=sspar, bgpar=bgpar\n",
    "    )\n",
    "    return data\n",
    "\n",
    "\n",
    "def run_params_subspace(space, params, fobs_edges, **kwargs):\n",
    "    log = space._log\n",
    "    param_names = space.param_names\n",
    "    npars = len(param_names)\n",
    "    params = np.asarray(params)\n",
    "\n",
    "    # Make sure shapes look good\n",
    "    if params.ndim != 2 or params.shape[1] != npars:\n",
    "        err = f\"`params` shape {np.shape(params)} does not match {npars} parameters: {param_names}!\"\n",
    "        log.exception(err)\n",
    "        raise RuntimeError(err)\n",
    "\n",
    "    # Make sure all parameters are within excepted bounds\n",
    "    for pp, name in enumerate(param_names):\n",
    "        dist = space._dists[pp]\n",
    "\n",
    "        bads = (params[:, pp] <= dist.extrema[0]) | (dist.extrema[1] <= params[:, pp])\n",
    "        if np.any(bads):\n",
    "            err = f\"`params` {pp} {name} are outside of extrema [{dist.extrema[0]:.8e}, {dist.extrema[1]:.8e}]!\"\n",
    "            err += f\"  {utils.stats(params[:, pp])}\"\n",
    "            log.exception(err)\n",
    "            raise ValueError(err)\n",
    "\n",
    "    num_samps = params.shape[0]\n",
    "\n",
    "    all_data = []\n",
    "    for ii in tqdm.trange(num_samps):\n",
    "        data = run_single_params_model(space, params[ii], fobs_edges, **kwargs)\n",
    "        all_data.append(data)\n",
    "\n",
    "    return all_data\n",
    "\n",
    "\n",
    "NUM_FBINS = 14\n",
    "PTA_DUR = 16.03     # [yrs]\n",
    "SHAPE = 40\n",
    "NREALS = 50\n",
    "\n",
    "space_class = holo.param_spaces.PS_Broad_Uniform_02B\n",
    "space = space_class(holo.log, 0, SHAPE, None)\n",
    "\n",
    "dur = PTA_DUR * YR\n",
    "pta_cad = dur / (2 * NUM_FBINS)\n",
    "fobs_edges = holo.utils.nyquist_freqs_edges(dur, pta_cad)\n",
    "\n",
    "draw_params = [\n",
    "    [ 4.57784231, -1.51291368, 10.90450461,  8.85735088,  0.52998213],\n",
    "    [ 6.96691128, -2.38054765, 11.08484247,  9.29421616,  0.45471499],\n",
    "    [ 0.37454247, -2.10501603, 11.62087475,  8.84882612,  0.09778727]\n",
    "]\n",
    "\n",
    "# Run full set of `draw_params`\n",
    "# all_data = run_params_subspace(space, draw_params[:4], fobs_edges, nreals=NREALS)\n",
    "\n",
    "single_data = run_single_params_model(space, draw_params[0], fobs_edges, nreals=NREALS)\n"
   ]
  },
  {
   "cell_type": "code",
   "execution_count": null,
   "metadata": {},
   "outputs": [],
   "source": [
    "fig, axes = plot.figax(\n",
    "    figsize=[8, 8], nrows=2, hspace=0.4,\n",
    "    xlabel=plot.LABEL_GW_FREQUENCY_YR, ylabel=plot.LABEL_CHARACTERISTIC_STRAIN\n",
    ")\n",
    "\n",
    "\n",
    "xx = single_data['fobs'] * YR\n",
    "\n",
    "# y1 = data['hc_bg']\n",
    "y1 = np.sqrt(np.sum(single_data['hc_bg'][:, :, np.newaxis]**2 + single_data['hc_ss']**2, axis=-1))\n",
    "y2 = single_data['gwb']\n",
    "\n",
    "labels = ['SS', '2x GWB']\n",
    "for jj, yy in enumerate([y1, 2*y2]):\n",
    "    med, *conf = np.percentile(yy, [50, 25, 75], axis=-1)\n",
    "    cc, = axes[0].plot(xx, med, alpha=0.5, label=labels[jj])\n",
    "    cc = cc.get_color()\n",
    "    axes[0].fill_between(xx, *conf, color=cc, alpha=0.1)\n",
    "\n",
    "axes[1].plot(xx, np.median(y1, axis=-1)/np.median(y2, axis=-1), 'k--', label='SS/GWB')\n",
    "        \n",
    "\n",
    "axes[1].set_ylabel('ratio')\n",
    "for ax in axes:\n",
    "    ax.legend()\n",
    "    plot._twin_hz(ax)\n",
    "    \n",
    "plt.show()"
   ]
  },
  {
   "attachments": {},
   "cell_type": "markdown",
   "metadata": {},
   "source": [
    "# Compare New redz funcs"
   ]
  },
  {
   "cell_type": "code",
   "execution_count": null,
   "metadata": {},
   "outputs": [],
   "source": [
    "def run_single_params_model_new(space, params, fobs_edges, nreals=100, nloudest=5):\n",
    "    param_names = space.param_names\n",
    "    log = space._log\n",
    "    \n",
    "    pars = {name: params[pp] for pp, name in enumerate(param_names)}\n",
    "\n",
    "    log.info(f\"Loading sam and hard from {params=}\")\n",
    "    sam, hard = space.model_for_params(pars, sam_shape=space.sam_shape)\n",
    "\n",
    "    fobs_cents = utils.midpoints(fobs_edges, log=False)\n",
    "    fobs_orb_edges = fobs_edges / 2.0\n",
    "    fobs_orb_cents = fobs_cents / 2.0\n",
    "\n",
    "    # log.info(f\"Calculating `dynamic_binary_number` for {fobs_cents.size} freqs\")\n",
    "    # edges, dnum = sam.dynamic_binary_number(hard, fobs_orb=fobs_orb_cents)\n",
    "    # edges[-1] = fobs_orb_edges\n",
    "\n",
    "    # # integrate for number\n",
    "    # log.debug(f\"integrating to get number of binaries\")\n",
    "    # number = utils._integrate_grid_differential_number(edges, dnum, freq=False)\n",
    "    # number = number * np.diff(np.log(fobs_edges))\n",
    "\n",
    "    log.debug(f\"calculating strains and sources for shape ({fobs_cents.size}, {nreals}), {nloudest=}\")\n",
    "    hc_ss, hc_bg, sspar, bgpar = sam.ss_gwb(fobs_edges, hard=hard, realize=nreals, loudest=nloudest, params=True)\n",
    "\n",
    "    # use_redz = sam._redz_final\n",
    "    # gwb = holo.gravwaves._gws_from_number_grid_integrated(edges, use_redz, number, nreals)\n",
    "\n",
    "    gwb = sam.gwb(fobs_edges, hard=hard, realize=nreals)\n",
    "\n",
    "    data = dict(\n",
    "        fobs=fobs_cents, fobs_edges=fobs_edges,\n",
    "        gwb=gwb, hc_ss=hc_ss, hc_bg=hc_bg, sspar=sspar, bgpar=bgpar\n",
    "    )\n",
    "    return data\n",
    "\n",
    "\n",
    "def run_params_subspace(space, params, fobs_edges, **kwargs):\n",
    "    log = space._log\n",
    "    param_names = space.param_names\n",
    "    npars = len(param_names)\n",
    "    params = np.asarray(params)\n",
    "\n",
    "    # Make sure shapes look good\n",
    "    if params.ndim != 2 or params.shape[1] != npars:\n",
    "        err = f\"`params` shape {np.shape(params)} does not match {npars} parameters: {param_names}!\"\n",
    "        log.exception(err)\n",
    "        raise RuntimeError(err)\n",
    "\n",
    "    # Make sure all parameters are within excepted bounds\n",
    "    for pp, name in enumerate(param_names):\n",
    "        dist = space._dists[pp]\n",
    "\n",
    "        bads = (params[:, pp] <= dist.extrema[0]) | (dist.extrema[1] <= params[:, pp])\n",
    "        if np.any(bads):\n",
    "            err = f\"`params` {pp} {name} are outside of extrema [{dist.extrema[0]:.8e}, {dist.extrema[1]:.8e}]!\"\n",
    "            err += f\"  {utils.stats(params[:, pp])}\"\n",
    "            log.exception(err)\n",
    "            raise ValueError(err)\n",
    "\n",
    "    num_samps = params.shape[0]\n",
    "\n",
    "    all_data = []\n",
    "    for ii in tqdm.trange(num_samps):\n",
    "        data = run_single_params_model(space, params[ii], fobs_edges, **kwargs)\n",
    "        all_data.append(data)\n",
    "\n",
    "    return all_data\n",
    "\n",
    "\n",
    "NUM_FBINS = 14\n",
    "PTA_DUR = 16.03     # [yrs]\n",
    "SHAPE = 40\n",
    "NREALS = 50\n",
    "\n",
    "space_class = holo.param_spaces.PS_Broad_Uniform_02B\n",
    "space = space_class(holo.log, 0, SHAPE, None)\n",
    "\n",
    "dur = PTA_DUR * YR\n",
    "pta_cad = dur / (2 * NUM_FBINS)\n",
    "fobs_edges = holo.utils.nyquist_freqs_edges(dur, pta_cad)\n",
    "\n",
    "draw_params = [\n",
    "    [ 4.57784231, -1.51291368, 10.90450461,  8.85735088,  0.52998213],\n",
    "    [ 6.96691128, -2.38054765, 11.08484247,  9.29421616,  0.45471499],\n",
    "    [ 0.37454247, -2.10501603, 11.62087475,  8.84882612,  0.09778727]\n",
    "]\n",
    "\n",
    "# Run full set of `draw_params`\n",
    "# all_data = run_params_subspace(space, draw_params[:4], fobs_edges, nreals=NREALS)\n",
    "\n",
    "single_data = run_single_params_model_new(space, draw_params[0], fobs_edges, nreals=NREALS)\n"
   ]
  },
  {
   "cell_type": "code",
   "execution_count": null,
   "metadata": {},
   "outputs": [],
   "source": [
    "fig, axes = plot.figax(\n",
    "    figsize=[8, 8], nrows=2, hspace=0.4,\n",
    "    xlabel=plot.LABEL_GW_FREQUENCY_YR, ylabel=plot.LABEL_CHARACTERISTIC_STRAIN\n",
    ")\n",
    "\n",
    "\n",
    "xx = single_data['fobs'] * YR\n",
    "\n",
    "# y1 = data['hc_bg']\n",
    "y1 = np.sqrt(np.sum(single_data['hc_bg'][:, :, np.newaxis]**2 + single_data['hc_ss']**2, axis=-1))\n",
    "y2 = single_data['gwb']\n",
    "\n",
    "labels = ['SS', '2x GWB']\n",
    "for jj, yy in enumerate([y1, 2*y2]):\n",
    "    med, *conf = np.percentile(yy, [50, 25, 75], axis=-1)\n",
    "    cc, = axes[0].plot(xx, med, alpha=0.5, label=labels[jj])\n",
    "    cc = cc.get_color()\n",
    "    axes[0].fill_between(xx, *conf, color=cc, alpha=0.1)\n",
    "\n",
    "axes[1].plot(xx, np.median(y1, axis=-1)/np.median(y2, axis=-1), 'k--', label='SS/GWB')\n",
    "        \n",
    "\n",
    "axes[1].set_ylabel('ratio')\n",
    "for ax in axes:\n",
    "    ax.legend()\n",
    "    plot._twin_hz(ax)\n",
    "    \n",
    "plt.show()"
   ]
  },
  {
   "cell_type": "code",
   "execution_count": null,
   "metadata": {},
   "outputs": [],
   "source": []
  }
 ],
 "metadata": {
  "kernelspec": {
   "display_name": "py310",
   "language": "python",
   "name": "python3"
  },
  "language_info": {
   "codemirror_mode": {
    "name": "ipython",
    "version": 3
   },
   "file_extension": ".py",
   "mimetype": "text/x-python",
   "name": "python",
   "nbconvert_exporter": "python",
   "pygments_lexer": "ipython3",
   "version": "3.10.10"
  }
 },
 "nbformat": 4,
 "nbformat_minor": 2
}
