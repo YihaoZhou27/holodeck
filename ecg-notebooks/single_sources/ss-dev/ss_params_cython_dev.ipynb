{
 "cells": [
  {
   "cell_type": "code",
   "execution_count": null,
   "metadata": {},
   "outputs": [],
   "source": [
    "import numpy as np\n",
    "import matplotlib.pyplot as plt\n",
    "\n",
    "import holodeck as holo\n",
    "from holodeck.constants import YR, MSOL\n"
   ]
  },
  {
   "cell_type": "code",
   "execution_count": null,
   "metadata": {},
   "outputs": [],
   "source": [
    "import kalepy as kale\n",
    "import holodeck.cyutils as cy\n",
    "import holodeck.single_sources as ss\n",
    "\n",
    "edges, number, fobs, exname = ss.example5()\n",
    "h2fdf = ss.h2fdf(edges)\n",
    "mt = kale.utils.midpoints(edges[0]) #: total mass\n",
    "mr = kale.utils.midpoints(edges[1]) #: mass ratio\n",
    "rz = kale.utils.midpoints(edges[2]) #: redshift"
   ]
  },
  {
   "cell_type": "code",
   "execution_count": null,
   "metadata": {},
   "outputs": [],
   "source": [
    "# hc_ss, hc_bg, ssidx, hsamp, bgpar, sspar = ss.ss_by_cdefs(edges, number, 30, params=True)\n",
    "infile = np.load('/Users/emigardiner/GWs/holodeck/ecg-notebooks/single_sources/ss-dev/ss_params_arr.npz')\n",
    "hc_ss= infile['hc_ss']\n",
    "hc_bg= infile['hc_bg']\n",
    "ssidx= infile['ssidx']\n",
    "bgpar= infile['bgpar'] \n",
    "sspar= infile['sspar']"
   ]
  },
  {
   "cell_type": "code",
   "execution_count": null,
   "metadata": {},
   "outputs": [],
   "source": [
    "np.savez('/Users/emigardiner/GWs/holodeck/ecg-notebooks/single_sources/ss-dev/ss_params_arr.npz', hc_ss= hc_ss, hc_bg=hc_bg, ssidx=ssidx,\n",
    "        bgpar=bgpar, sspar=sspar)"
   ]
  },
  {
   "cell_type": "code",
   "execution_count": null,
   "metadata": {},
   "outputs": [],
   "source": [
    "print(bgpar.shape)\n",
    "print(hc_bg.shape)"
   ]
  },
  {
   "cell_type": "code",
   "execution_count": null,
   "metadata": {},
   "outputs": [],
   "source": [
    "import holodeck.single_sources as ss\n"
   ]
  },
  {
   "attachments": {},
   "cell_type": "markdown",
   "metadata": {},
   "source": [
    "showing everything, full chaos"
   ]
  },
  {
   "cell_type": "code",
   "execution_count": null,
   "metadata": {},
   "outputs": [],
   "source": [
    "fig, axs = plt.subplots(2, 2, figsize=(10,6), sharex=True)\n",
    "fig.suptitle(('Parameters of Loudest Single Sources in %d Realizations of ' % hc_bg.shape[1])\n",
    "             +exname)\n",
    "\n",
    "grid = np.empty((2,2), dtype=list)\n",
    "grid[0,0] = edges[0]/MSOL\n",
    "grid[0,1] = edges[1]\n",
    "grid[1,0] = edges[2]\n",
    "grid[1,1] = edges[3]\n",
    "xx = fobs * YR\n",
    "\n",
    "bg_marr = bgpar[0,:,:]\n",
    "bg_qarr = bgpar[1,:,:]\n",
    "bg_zarr = bgpar[2,:,:]\n",
    "bg_params = np.array([[bg_marr/MSOL, bg_qarr], [bg_zarr, hc_bg]])\n",
    "\n",
    "ss_marr = sspar[0,:,:]\n",
    "ss_qarr = sspar[1,:,:]\n",
    "ss_zarr = sspar[2,:,:]\n",
    "ss_params = np.array([[ss_marr/MSOL, ss_qarr], [ss_zarr, hc_ss]])\n",
    "\n",
    "\n",
    "ss.plot_params(axs, xx, grid, REALS=5, \n",
    "               BG_PARAMS=bg_params, SS_PARAMS=ss_params,\n",
    "               SHOW_GRID=True)\n",
    "\n",
    "\n",
    "\n",
    "fig.tight_layout()"
   ]
  },
  {
   "attachments": {},
   "cell_type": "markdown",
   "metadata": {},
   "source": [
    "remove grid -> zoom"
   ]
  },
  {
   "cell_type": "code",
   "execution_count": null,
   "metadata": {},
   "outputs": [],
   "source": [
    "fig, axs = plt.subplots(2, 2, figsize=(10,6), sharex=True)\n",
    "fig.suptitle(('Parameters of Loudest Single Sources in %d Realizations of ' % hc_bg.shape[1])\n",
    "             +exname)\n",
    "\n",
    "grid = np.empty((2,2), dtype=list)\n",
    "grid[0,0] = edges[0]/MSOL\n",
    "grid[0,1] = edges[1]\n",
    "grid[1,0] = edges[2]\n",
    "grid[1,1] = edges[3]\n",
    "xx = fobs * YR\n",
    "\n",
    "bg_marr = bgpar[0,:,:]\n",
    "bg_qarr = bgpar[1,:,:]\n",
    "bg_zarr = bgpar[2,:,:]\n",
    "bg_params = np.array([[bg_marr/MSOL, bg_qarr], [bg_zarr, hc_bg]])\n",
    "\n",
    "ss_marr = sspar[0,:,:]\n",
    "ss_qarr = sspar[1,:,:]\n",
    "ss_zarr = sspar[2,:,:]\n",
    "ss_params = np.array([[ss_marr/MSOL, ss_qarr], [ss_zarr, hc_ss]])\n",
    "\n",
    "\n",
    "ss.plot_params(axs, xx, grid, REALS=5, \n",
    "               BG_PARAMS=bg_params, SS_PARAMS=ss_params,\n",
    "               SHOW_GRID=False)\n",
    "\n",
    "\n",
    "fig.tight_layout()"
   ]
  },
  {
   "attachments": {},
   "cell_type": "markdown",
   "metadata": {},
   "source": [
    "remove errorbars"
   ]
  },
  {
   "cell_type": "code",
   "execution_count": null,
   "metadata": {},
   "outputs": [],
   "source": [
    "fig, axs = plt.subplots(2, 2, figsize=(10,6), sharex=True)\n",
    "fig.suptitle(('Paremeters of Loudest Single Sources in %d Realizations of ' % hc_bg.shape[1])\n",
    "             +exname)\n",
    "\n",
    "grid = np.empty((2,2), dtype=list)\n",
    "grid[0,0] = edges[0]/MSOL\n",
    "grid[0,1] = edges[1]\n",
    "grid[1,0] = edges[2]\n",
    "grid[1,1] = edges[3]\n",
    "xx = fobs * YR\n",
    "\n",
    "bg_marr = bgpar[0,:,:]\n",
    "bg_qarr = bgpar[1,:,:]\n",
    "bg_zarr = bgpar[2,:,:]\n",
    "bg_params = np.array([[bg_marr/MSOL, bg_qarr], [bg_zarr, hc_bg]])\n",
    "\n",
    "ss_marr = sspar[0,:,:]\n",
    "ss_qarr = sspar[1,:,:]\n",
    "ss_zarr = sspar[2,:,:]\n",
    "ss_params = np.array([[ss_marr/MSOL, ss_qarr], [ss_zarr, hc_ss]])\n",
    "\n",
    "\n",
    "ss.plot_params(axs, xx, grid, REALS=5, \n",
    "               BG_PARAMS=bg_params, SS_PARAMS=ss_params,\n",
    "               BG_ERRORS=False, SS_ERRORS=False,\n",
    "               SHOW_GRID=False)\n",
    "\n",
    "\n",
    "fig.tight_layout()"
   ]
  },
  {
   "attachments": {},
   "cell_type": "markdown",
   "metadata": {},
   "source": [
    "just medians & errors, no reals"
   ]
  },
  {
   "cell_type": "code",
   "execution_count": null,
   "metadata": {},
   "outputs": [],
   "source": [
    "fig, axs = plt.subplots(2, 2, figsize=(10,6), sharex=True)\n",
    "fig.suptitle(('Parameters of Loudest Single Sources in %d Realizations of ' % hc_bg.shape[1])\n",
    "             +exname)\n",
    "\n",
    "grid = np.empty((2,2), dtype=list)\n",
    "grid[0,0] = edges[0]/MSOL\n",
    "grid[0,1] = edges[1]\n",
    "grid[1,0] = edges[2]\n",
    "grid[1,1] = edges[3]\n",
    "xx = fobs * YR\n",
    "\n",
    "bg_marr = bgpar[0,:,:]\n",
    "bg_qarr = bgpar[1,:,:]\n",
    "bg_zarr = bgpar[2,:,:]\n",
    "bg_params = np.array([[bg_marr/MSOL, bg_qarr], [bg_zarr, hc_bg]])\n",
    "\n",
    "ss_marr = sspar[0,:,:]\n",
    "ss_qarr = sspar[1,:,:]\n",
    "ss_zarr = sspar[2,:,:]\n",
    "ss_params = np.array([[ss_marr/MSOL, ss_qarr], [ss_zarr, hc_ss]])\n",
    "\n",
    "\n",
    "ss.plot_params(axs, xx, grid, REALS=0, \n",
    "               BG_PARAMS=bg_params, SS_PARAMS=ss_params,\n",
    "               BG_ERRORS=True, SS_ERRORS=True,\n",
    "               SHOW_GRID=False)\n",
    "\n",
    "\n",
    "fig.tight_layout()"
   ]
  },
  {
   "attachments": {},
   "cell_type": "markdown",
   "metadata": {},
   "source": [
    "just reals, no errorbars or medians"
   ]
  },
  {
   "cell_type": "code",
   "execution_count": null,
   "metadata": {},
   "outputs": [],
   "source": [
    "fig, axs = plt.subplots(2, 2, figsize=(10,6), sharex=True)\n",
    "fig.suptitle(('Parameters of Loudest Single Sources in %d Realizations of ' % hc_bg.shape[1])\n",
    "             +exname)\n",
    "\n",
    "grid = np.empty((2,2), dtype=list)\n",
    "grid[0,0] = edges[0]/MSOL\n",
    "grid[0,1] = edges[1]\n",
    "grid[1,0] = edges[2]\n",
    "grid[1,1] = edges[3]\n",
    "xx = fobs * YR\n",
    "\n",
    "bg_marr = bgpar[0,:,:]\n",
    "bg_qarr = bgpar[1,:,:]\n",
    "bg_zarr = bgpar[2,:,:]\n",
    "bg_params = np.array([[bg_marr/MSOL, bg_qarr], [bg_zarr, hc_bg]])\n",
    "\n",
    "ss_marr = sspar[0,:,:]\n",
    "ss_qarr = sspar[1,:,:]\n",
    "ss_zarr = sspar[2,:,:]\n",
    "ss_params = np.array([[ss_marr/MSOL, ss_qarr], [ss_zarr, hc_ss]])\n",
    "\n",
    "\n",
    "ss.plot_params(axs, xx, grid, REALS=5, \n",
    "               BG_PARAMS=bg_params, SS_PARAMS=ss_params,\n",
    "               BG_MEDIAN=False, SS_MEDIAN=False,\n",
    "               SHOW_GRID=False)\n",
    "\n",
    "\n",
    "fig.tight_layout()"
   ]
  },
  {
   "cell_type": "code",
   "execution_count": null,
   "metadata": {},
   "outputs": [],
   "source": []
  }
 ],
 "metadata": {
  "kernelspec": {
   "display_name": "holo310",
   "language": "python",
   "name": "python3"
  },
  "language_info": {
   "codemirror_mode": {
    "name": "ipython",
    "version": 3
   },
   "file_extension": ".py",
   "mimetype": "text/x-python",
   "name": "python",
   "nbconvert_exporter": "python",
   "pygments_lexer": "ipython3",
   "version": "3.10.9"
  }
 },
 "nbformat": 4,
 "nbformat_minor": 2
}
