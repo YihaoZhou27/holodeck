{
 "cells": [
  {
   "cell_type": "code",
   "execution_count": null,
   "metadata": {},
   "outputs": [],
   "source": [
    "# MOD 1: needed to append sys path to import holodeck\n",
    "import sys\n",
    "sys.path.append('C:/Users/emiga/OneDrive/Cal/GWs/code/holodeck')\n",
    "\n",
    "\n",
    "# %load ../init.ipy\n",
    "%reload_ext autoreload\n",
    "%autoreload 2\n",
    "from importlib import reload\n",
    "\n",
    "import os\n",
    "import sys\n",
    "import logging\n",
    "import warnings\n",
    "import numpy as np\n",
    "import astropy as ap\n",
    "import scipy as sp\n",
    "import scipy.stats\n",
    "import matplotlib as mpl\n",
    "import matplotlib.pyplot as plt\n",
    "\n",
    "import h5py\n",
    "import tqdm.notebook as tqdm\n",
    "\n",
    "import kalepy as kale\n",
    "import kalepy.utils\n",
    "import kalepy.plot\n",
    "\n",
    "import holodeck as holo\n",
    "import holodeck.sam\n",
    "from holodeck import cosmo, utils, plot\n",
    "from holodeck.constants import MSOL, PC, YR, MPC, GYR\n",
    "\n",
    "# Silence annoying numpy errors\n",
    "np.seterr(divide='ignore', invalid='ignore', over='ignore')\n",
    "warnings.filterwarnings(\"ignore\", category=UserWarning)\n",
    "\n",
    "# Plotting settings\n",
    "mpl.rc('font', **{'family': 'serif', 'sans-serif': ['Times'], 'size': 15})\n",
    "mpl.rc('lines', solid_capstyle='round')\n",
    "mpl.rc('mathtext', fontset='cm')\n",
    "mpl.style.use('default')   # avoid dark backgrounds from dark theme vscode\n",
    "plt.rcParams.update({'grid.alpha': 0.5})\n",
    "\n",
    "log = holo.log\n",
    "log.setLevel(logging.INFO)"
   ]
  },
  {
   "attachments": {},
   "cell_type": "markdown",
   "metadata": {},
   "source": [
    "Nyquist Frequency Bins/Edges"
   ]
  },
  {
   "cell_type": "code",
   "execution_count": null,
   "metadata": {},
   "outputs": [],
   "source": [
    "dur = 5.0*YR/3.1557600\n",
    "cad = .5*YR/3.1557600\n",
    "fobs = utils.nyquist_freqs(dur,cad)\n",
    "fobs_edges = utils.nyquist_freqs_edges(dur,cad)\n",
    "# print('fobs=', fobs)\n",
    "# print('fobs_edges=',fobs_edges)\n",
    "print(f\"Number of frequency bins: {fobs.size-1}\")\n",
    "print(f\"  between [{fobs[0]*YR:.2f}, {fobs[-1]*YR:.2f}] 1/yr\")\n",
    "print(f\"          [{fobs[0]*1e9:.2f}, {fobs[-1]*1e9:.2f}] nHz\")"
   ]
  },
  {
   "attachments": {},
   "cell_type": "markdown",
   "metadata": {},
   "source": [
    "SAM"
   ]
  },
  {
   "cell_type": "code",
   "execution_count": null,
   "metadata": {},
   "outputs": [],
   "source": [
    "mtot=(1.0e6*MSOL/1.988409870698051, 1.0e8*MSOL/1.988409870698051, 3)\n",
    "mrat=(1e-1, 1.0, 2)\n",
    "redz=(1e-3, 1.0, 4)\n",
    "sam = holo.sam.Semi_Analytic_Model(mtot=mtot, mrat=mrat, \n",
    "        redz=redz)\n",
    "# gsmf=GSMF_Schechter, \n",
    "# gpf=GPF_Power_Law, \n",
    "# gmt=GMT_Power_Law, \n",
    "# mmbulge=relations.MMBulge_MM2013\n",
    "   \n",
    "# print('sam.mtot (M_sun)',sam.mtot/MSOL,\n",
    "# '\\nsam.mtot (g)', sam.mtot,\n",
    "# '\\nsam.mrat',sam.mrat,\n",
    "# '\\nsam.redz',sam.redz)\n",
    "print('edges:', sam.edges)"
   ]
  },
  {
   "attachments": {},
   "cell_type": "markdown",
   "metadata": {},
   "source": [
    "gwb (internal)"
   ]
  },
  {
   "cell_type": "code",
   "execution_count": null,
   "metadata": {},
   "outputs": [],
   "source": [
    "fobs_gw_edges = fobs_edges\n",
    "hard = holo.hardening.Hard_GW\n",
    "fobs_gw_cents = kale.utils.midpoints(fobs_gw_edges)\n",
    "# print('fobs_gw_cents', fobs_gw_cents)\n",
    "fobs_orb_edges = fobs_gw_edges / 2.0\n",
    "fobs_orb_cents = fobs_gw_cents / 2.0\n",
    "# print('fobs_orb_edges', fobs_orb_edges.shape)\n",
    "# print('fobs_orb_cents', fobs_orb_cents.shape)\n",
    "\n",
    "\n",
    "# dynamic_binary_number\n",
    "# gets differential number of binaries per bin-vol\n",
    "# per log frequency interval\n",
    "edges, dnum = sam.dynamic_binary_number(hard, fobs_orb=fobs_orb_cents)\n",
    "edges[-1] = fobs_orb_edges\n",
    "\n",
    "# integrate (multiply by bin volume) within each\n",
    "# bin\n",
    "number = utils._integrate_grid_differential_number(edges, dnum, freq=False)\n",
    "number = number * np.diff(np.log(fobs_gw_edges))\n",
    "\n",
    "# get GWB spectrum\n",
    "hc = holo.sam.gravwaves._gws_from_number_grid_integrated(edges, number, realize=False)\n",
    "hc1 = holo.sam.gravwaves._gws_from_number_grid_integrated(edges, number, realize=1)\n",
    "        "
   ]
  },
  {
   "cell_type": "code",
   "execution_count": null,
   "metadata": {},
   "outputs": [],
   "source": [
    "# learning\n",
    "edges_test, dnum_test = sam.dynamic_binary_number(hard, fobs_orb=fobs_orb_cents)\n",
    "edges_test[-1] = fobs_orb_edges\n",
    "\n",
    "# integrate (multiply by bin volume) within each\n",
    "# bin\n",
    "number1_test = utils._integrate_grid_differential_number(edges_test, dnum_test, freq=False)\n",
    "number2_test = number1_test * np.diff(np.log(fobs_gw_edges))\n",
    "\n",
    "print(number1_test)\n",
    "print('np.diff(log(fobs_gw_edges))\\n', np.diff(np.log(fobs_gw_edges)))\n",
    "print('number2\\n', number2_test)"
   ]
  },
  {
   "attachments": {},
   "cell_type": "markdown",
   "metadata": {},
   "source": [
    "print our numbers"
   ]
  },
  {
   "cell_type": "code",
   "execution_count": null,
   "metadata": {},
   "outputs": [],
   "source": [
    "for num in range(len(fobs_gw_cents)):\n",
    "    print('\\nfobs_gw_cents: %.2eHz' % fobs_gw_cents[num])\n",
    "    print('fobs_orb_cents: %.2eHz ' % fobs_orb_cents[num])\n",
    "    print('frequency bin %.2f nHz to %.2f nHz' % (edges[-1][num]*10**9, edges[-1][num+1]*10**9))\n",
    "    np.set_printoptions(precision = 2)\n",
    "    print('number =\\n', number[:,:,:,num])"
   ]
  },
  {
   "attachments": {},
   "cell_type": "markdown",
   "metadata": {},
   "source": [
    "# GWs by Loops Dev"
   ]
  },
  {
   "cell_type": "code",
   "execution_count": null,
   "metadata": {},
   "outputs": [],
   "source": [
    "foo = edges[-1] # observer frame orbital frequency\n",
    "print('foo (obs frame orbital freq) =', foo)\n",
    "df = np.diff(foo)\n",
    "  # Q? What does np.diff do\n",
    "  # A! n'th discrete difference along given axis\n",
    "  #    just the differenc between neighboring values\n",
    "print('df = diff foo =', df)\n",
    "fc = kale.utils.midpoints(foo)\n",
    "print('fc = obs frame orbital freq bin centers =', fc)"
   ]
  },
  {
   "attachments": {},
   "cell_type": "markdown",
   "metadata": {},
   "source": [
    "calculate GW strain"
   ]
  },
  {
   "cell_type": "code",
   "execution_count": null,
   "metadata": {},
   "outputs": [],
   "source": [
    "# midpoints of mtot, mrat, and redz\n",
    "mt = kale.utils.midpoints(edges[0])\n",
    "mr = kale.utils.midpoints(edges[1])\n",
    "rz = kale.utils.midpoints(edges[2])\n",
    "np.set_printoptions(precision = 5)\n",
    "print('mt = mtot midpoints =', mt)\n",
    "print('mr = mrat midpoints =', mr)\n",
    "print('rz = redz midpoints =',rz)"
   ]
  },
  {
   "cell_type": "code",
   "execution_count": null,
   "metadata": {},
   "outputs": [],
   "source": [
    "mc = utils.chirp_mass_mtmr(mt[:,np.newaxis], \n",
    "                        mr[np.newaxis,:])\n",
    "mc = mc[:, :, np.newaxis, np.newaxis]\n",
    "print('mc = chirpmass = \\n', mc)\n",
    "dc = cosmo.comoving_distance(rz).cgs.value\n",
    "dc = dc[np.newaxis, np.newaxis, :, np.newaxis]\n",
    "print('dc = comoving distance =\\n', dc)\n"
   ]
  },
  {
   "cell_type": "code",
   "execution_count": null,
   "metadata": {},
   "outputs": [],
   "source": [
    "# convert from observer frame to rest frame\n",
    "print('recall fc = obs frame orbital freq bin centers =', fc)\n",
    "fr = utils.frst_from_fobs(fc[np.newaxis, :], rz[:, np.newaxis])\n",
    "fr = fr[np.newaxis, np.newaxis, :, :]\n",
    "print('fr = rest-frame orbital frequency centers =\\n',\n",
    "        fr)"
   ]
  },
  {
   "attachments": {},
   "cell_type": "markdown",
   "metadata": {},
   "source": [
    "strain amplitude of single source (separate for each bin), $h_s$\n",
    "$$h_s = \\frac{A M_c (2M_c f_{r,orb})^{2/3}}{ d_c}$$\n",
    "where $A$ is a constant,\n",
    "$$A = \\frac{8 \\times G^{5/3} \\times \\pi^{2/3}}{\\sqrt(10) c^4}$$\n",
    "\n",
    "characteristic strain for a single source (separate for each bin)\n",
    "$$h_c^2 = h_s^2 \\times \\frac{f_\\mathrm{obs,\\ orb}}{{df_\\mathrm{obs,\\ orb}}} \n",
    "\\\\= h_s^2 \\times \\frac{\\mathrm{obs\\ frame\\ orb\\ freq\\ center}}{\\mathrm{freq\\ bin\\ width}}$$\n"
   ]
  },
  {
   "attachments": {},
   "cell_type": "markdown",
   "metadata": {},
   "source": [
    "\n",
    "* To realize: $h_c^2 = h_c^2 * \\mathrm{poisson(number)}$ \n",
    "* Multiple realizations: same but with shape thing\n",
    "* Unrealized: $h_c^2 = h_c^2 * number$ - adds up hc from all the binaries in the bin (not discrete)\n",
    "\\\n"
   ]
  },
  {
   "attachments": {},
   "cell_type": "markdown",
   "metadata": {},
   "source": [
    "\n",
    "Number $N = \\int \\frac{d^3N/dV}{dzd\\log{M}dq d\\ln{f_r}} d^3N dq dz d\\log{M} dV$\n",
    "If sum, \n",
    "$$h_c^2 = \\sum_{M,q,z} h_{c,\\mathrm{M,q,z}}^2$$\n",
    "\n",
    "$$h_c = \\sqrt{h_c}$$\n",
    "\n",
    "All together: \n",
    "$$\n",
    "h_c^2 = \\sum_{M,q,z} \\big(    h_s^2 \\times \\frac{f_\\mathrm{obs,\\ orb}}{{df_\\mathrm{obs,\\ orb}}} \\big) \\\\\n",
    "\n",
    "\\sum_{M,q,z} \\big(\\frac{A M_c (2M_c f_{r,orb})^{2/3}}{ d_c} \\frac{f_\\mathrm{obs,\\ orb}}{{df_\\mathrm{obs,\\ orb}}} \\big)\n",
    "$$\n"
   ]
  },
  {
   "cell_type": "code",
   "execution_count": null,
   "metadata": {},
   "outputs": [],
   "source": [
    "\n",
    "# get gw strain from every individual source \n",
    "hs = utils.gw_strain_source(mc, dc, fr)\n",
    "print('hs = single source strain =\\n', hs, hs.shape)\n",
    "print('recall edges =\\n', edges)\n",
    "print('2 total masses x 1 mass ratio x 3 redshifts x 5 frequencies')"
   ]
  },
  {
   "cell_type": "code",
   "execution_count": null,
   "metadata": {},
   "outputs": [],
   "source": [
    "# characteristic strain calculated fromm GW strain\n",
    "hc = (hs ** 2) * (fc / df)\n",
    "print('hc = characteristic strain =\\n', hc)"
   ]
  },
  {
   "attachments": {},
   "cell_type": "markdown",
   "metadata": {},
   "source": [
    "hc = (hs ** 2) * (fc / df)\n",
    "\n",
    "$h_c = h_s^2 \\times \\frac{\\mathrm{obs\\ frame\\ orb\\ freq}}{\\mathrm{freq\\ bin\\ width}}$"
   ]
  },
  {
   "attachments": {},
   "cell_type": "markdown",
   "metadata": {},
   "source": [
    "# GWs by Loops"
   ]
  },
  {
   "cell_type": "code",
   "execution_count": null,
   "metadata": {},
   "outputs": [],
   "source": [
    "def gws_by_loops(edges, number, realize, print_test = False):\n",
    "       \n",
    "    \"\"\" Inefficient way to calculate strain from numbered \n",
    "    grid integrated\n",
    "\n",
    "    Parameters\n",
    "    ----------\n",
    "    edges : (4,) list of 1darrays\n",
    "        A list containing the edges along each dimension.  The four dimensions correspond to\n",
    "        total mass, mass ratio, redshift, and observer-frame orbital frequency.\n",
    "        The length of each of the four arrays is M, Q, Z, F.\n",
    "    number : (M-1, Q-1, Z-1, F-1) ndarray\n",
    "        The number of binaries in each bin of parameter space.  This is calculated by integrating\n",
    "        `dnum` over each bin.\n",
    "    realize : bool or int,\n",
    "        Specification of how to construct one or more discrete realizations.\n",
    "        If a `bool` value, then whether or not to construct a realization.\n",
    "        If an `int` value, then how many discrete realizations to construct.\n",
    "    print_test : bool\n",
    "        Whether or not to print variables as they are calculated, for dev purposes.\n",
    "\n",
    "\n",
    "    Returns\n",
    "    -------\n",
    "    hc : ndarray\n",
    "        Characteristic strain of the GWB.\n",
    "        The shape depends on whether realize is an integer or not\n",
    "        realize = True or False: shape is (M-1, Q-1, Z-1, F-1)\n",
    "        realize = R: shape is  (M-1, Q-1, Z-1, F-1, R)\n",
    "\n",
    "    \"\"\"\n",
    "    if(print_test):\n",
    "        print('INPUTS: edges:', len(edges), '\\n', edges, \n",
    "        '\\nINPUTS:number:', number.shape, '\\n', number,'\\n')\n",
    "\n",
    "    # Frequency bin midpoints\n",
    "    foo = edges[-1]                   #: should be observer-frame orbital-frequencies\n",
    "    df = np.diff(foo)                 #: frequency bin widths\n",
    "    fc = kale.utils.midpoints(foo)    #: use frequency-bin centers for strain (more accurate!)\n",
    "\n",
    "    # All other bin midpoints\n",
    "    mt = kale.utils.midpoints(edges[0]) #: total mass\n",
    "    mr = kale.utils.midpoints(edges[1]) #: mass ratio\n",
    "    rz = kale.utils.midpoints(edges[2]) #: redshift\n",
    "\n",
    "    if(print_test):\n",
    "        print('Observer frame frequency centers: ', fc)\n",
    "        print('Mass edges: ', mt.shape, mt)\n",
    "        print('Ratio edges:', mr.shape, mr)\n",
    "        print('Redshift edges:', rz.shape, rz,'\\n')\n",
    "\n",
    "    # Chirp mass and comoving distance\n",
    "    # mc = utils.chirp_mass_mtmr(mt[:, np.newaxis], mr[np.newaxis, :])\n",
    "    # dc = holo.cosmo.comoving_distance(rz).cgs.value\n",
    "    # if(print_test):\n",
    "    #     print('Chirp mass', mc.shape, '\\n', mc)\n",
    "        # print('Comoving distance:', dc,'\\n')\n",
    "\n",
    "    # Convert freq bin centers to rest-frame\n",
    "    # fr = utils.frst_from_fobs(fc[np.newaxis, :], rz[:, np.newaxis])\n",
    "    # if(print_test):\n",
    "    #     print('Rest frame frequency centers:', fr.shape, \n",
    "    #         '\\n',fr,'\\n')\n",
    "    \n",
    "\n",
    "\n",
    "    # make strain grid\n",
    "    hc_grid = np.empty_like(number)\n",
    "\n",
    "    # for r realizations, make a grid with shape \n",
    "    # m, q, z, f, r\n",
    "    if(utils.isinteger(realize)):\n",
    "        newshape = hc_grid.shape + (realize,)\n",
    "        if(print_test):\n",
    "            print('newshape:', newshape)\n",
    "        realized_grid = np.empty(newshape)\n",
    "\n",
    "    # get strain for each bin\n",
    "    for m_idx in range(len(mt)):\n",
    "        for q_idx in range(len(mr)):\n",
    "            for z_idx in range(len(rz)):\n",
    "                cmass = holo.utils.chirp_mass_mtmr(mt[m_idx], mr[q_idx])\n",
    "                cdist = holo.cosmo.comoving_distance(rz[z_idx]).cgs.value\n",
    "                \n",
    "                # print M, q, z, M_c, d_c\n",
    "                if(print_test):\n",
    "                    print('BIN mt=%.2e, mr=%.2e, rz=%.2e' %\n",
    "                        (mt[m_idx], mr[q_idx], rz[z_idx]))\n",
    "                    print('\\t m_c = %.2e, d_c = %.2e' \n",
    "                        % (cmass, cdist))\n",
    "\n",
    "                for f_idx in range(len(fc)):\n",
    "                    rfreq = holo.utils.frst_from_fobs(fc[f_idx], rz[z_idx])\n",
    "                    hs_mqzf = utils.gw_strain_source(cmass, cdist, rfreq)\n",
    "                    hc_dlnf = hs_mqzf**2 * (fc[f_idx]/df[f_idx])\n",
    "                    \n",
    "                    if(realize == False):\n",
    "                        hc_grid[m_idx, q_idx, z_idx, f_idx] = np.sqrt(hc_dlnf \n",
    "                                        * number[m_idx, q_idx, z_idx, f_idx])\n",
    "                    elif(realize == True):\n",
    "                        hc_grid[m_idx, q_idx, z_idx, f_idx] = np.sqrt(hc_dlnf \n",
    "                                        *np.random.poisson(number[m_idx, q_idx, z_idx, f_idx]))\n",
    "                    elif(utils.isinteger(realize)):\n",
    "                        for r_idx in range(realize):\n",
    "                            realized_grid[m_idx, q_idx, z_idx, f_idx, r_idx] = \\\n",
    "                                np.sqrt(hc_dlnf \n",
    "                                        *np.random.poisson(number[m_idx, q_idx, z_idx, f_idx]))\n",
    "                        hc_grid = realized_grid                \n",
    "                    else:\n",
    "                        print(\"`realize` ({}) must be one of {{True, False, integer}}!\"\\\n",
    "                            .format(realize))\n",
    "\n",
    "                     # print fr, hs, hc^2/dlnf, number, hc\n",
    "                    if(print_test):\n",
    "                        print('\\t\\tfr = %.2fnHz, h_s = %.2e, h_c^2/dlnf = %.2e' \n",
    "                            % (rfreq*10**9, hs_mqzf, hc_dlnf))\n",
    "                        print('\\t\\tnumber: %.2e' % number[m_idx, q_idx, z_idx, f_idx])\n",
    "                        print('\\t\\thc = %.2e' % hc_grid[m_idx, q_idx, z_idx, f_idx])\n",
    "                    \n",
    "            \n",
    "\n",
    "    # if(realize == False):\n",
    "    #     hc_grid *= number\n",
    "    # elif(realize == True):\n",
    "    #     hc_grid *= np.random.poisson(number)\n",
    "\n",
    "    #not sure if this part will work\n",
    "    # elif utils.isinteger(realize):\n",
    "    #     try:\n",
    "    #         realizations = np.empty(realize)\n",
    "    #         for real in range(realize): \n",
    "    #             realizations[real]= gws_by_loops(edges, number, realize=True)\n",
    "    #         hc_grid = realizations\n",
    "    #     except:\n",
    "    #         print(\"Something went wrong when you tried to do multiple realizations.\")\n",
    "    print('hc:', hc.shape)\n",
    "\n",
    "    return hc_grid\n",
    "\n",
    "\n",
    "    \n",
    "\n"
   ]
  },
  {
   "cell_type": "code",
   "execution_count": null,
   "metadata": {},
   "outputs": [],
   "source": []
  },
  {
   "cell_type": "code",
   "execution_count": null,
   "metadata": {},
   "outputs": [],
   "source": [
    "np.set_printoptions(precision = 4)\n",
    "loop_hcF = gws_by_loops(edges, number, realize = False, print_test=True)\n",
    "loop_hcT = gws_by_loops(edges, number, realize = True)\n",
    "np.set_printoptions(precision = None)"
   ]
  },
  {
   "cell_type": "code",
   "execution_count": null,
   "metadata": {},
   "outputs": [],
   "source": [
    "def gws_by_arrs(edges, number, realize, sum=False, print_test=False):\n",
    "\n",
    "\n",
    "    foo = edges[-1]                   #: should be observer-frame orbital-frequencies\n",
    "    df = np.diff(foo)                 #: frequency bin widths\n",
    "    fc = kale.utils.midpoints(foo)    #: use frequency-bin centers for strain (more accurate!)\n",
    "\n",
    "    # ---- calculate GW strain ----\n",
    "    mt = kale.utils.midpoints(edges[0])\n",
    "    mr = kale.utils.midpoints(edges[1])\n",
    "    rz = kale.utils.midpoints(edges[2])\n",
    "    mc = utils.chirp_mass_mtmr(mt[:, np.newaxis], mr[np.newaxis, :])\n",
    "    mc = mc[:, :, np.newaxis, np.newaxis]\n",
    "    if(print_test):\n",
    "        print('chirp mass: ', mc.shape, '\\n', mc)\n",
    "        print(mc[0,0,0,0])\n",
    "        print(mc[1,0,0,0])\n",
    "    dc = cosmo.comoving_distance(rz).cgs.value\n",
    "    dc = dc[np.newaxis, np.newaxis, :, np.newaxis]\n",
    "\n",
    "    if(print_test):\n",
    "        print('Observer frame frequency centers: ', fc)\n",
    "        print('Mass edges: ', mt.shape, mt)\n",
    "        print('Ratio edges:', mr.shape, mr)\n",
    "        print('Redshift edges:', rz.shape, rz,'\\n')\n",
    "\n",
    "    \n",
    "\n",
    "    # convert from observer-frame to rest-frame; still using frequency-bin centers\n",
    "    fr = utils.frst_from_fobs(fc[np.newaxis, :], rz[:, np.newaxis])\n",
    "    fr = fr[np.newaxis, np.newaxis, :, :]\n",
    "\n",
    "    hs = utils.gw_strain_source(mc, dc, fr)\n",
    "    hc = (hs ** 2) * (fc / df)\n",
    "    print('hs:', hs.shape,'\\n',hs)\n",
    "    print('hc^2/dlnf:', hc.shape,'\\n',hc)\n",
    "    # print('mt', len(mt))\n",
    "    # print('dc', len(dc), dc.shape)\n",
    "    # print chirp mass and comoving distance\n",
    "    if(print_test):\n",
    "        for m_idx in range(len(mt)):\n",
    "            for q_idx in range(len(mr)):\n",
    "                for z_idx in range(len(rz)):\n",
    "                    print('BIN mt=%.2e, mr=%.2e, rz=%.2e' %\n",
    "                        (mt[m_idx], mr[q_idx], rz[z_idx]))\n",
    "                    # print('m_idx = %d, q_idx = %d, z_idx=%d' % (m_idx, q_idx, z_idx))\n",
    "                    print('\\t m_c = %.2e, d_c = %.2e' \n",
    "                        % (mc[m_idx, q_idx, 0,0], dc[0, 0, z_idx,0]))\n",
    "                    for f_idx in range(len(fc)):\n",
    "                        print('\\t\\tfr = %.2fnHz, h_s = %.2e, h_c^2/dlnf = %.2e' \n",
    "                            % (fr[0, 0, 0, f_idx]*10**9, \n",
    "                            hs[m_idx, q_idx, z_idx, f_idx], hc[m_idx, q_idx, z_idx, f_idx]))  \n",
    "                        print('\\t\\tnumber: %.2e' % number[m_idx, q_idx, z_idx, f_idx])\n",
    "    # if(print_test):\n",
    "    #     for m_idx in range(len(mt)):\n",
    "    #         for q_idx in range(len(mr)):\n",
    "    #             for z_idx in range(len(rz)):\n",
    "\n",
    "\n",
    "    if realize is True:\n",
    "        hc = hc * np.random.poisson(number)\n",
    "    elif realize in [None, False]:\n",
    "        # print('err here')\n",
    "        # print('hc:\\n', hc, '\\nhc shape:', hc.shape)\n",
    "        # print('number:\\n', number, '\\nnumber shape', number.shape)\n",
    "        hc = hc * number\n",
    "    elif utils.isinteger(realize):\n",
    "        shape = number.shape + (realize,)\n",
    "        try:\n",
    "            hc = hc[..., np.newaxis] * np.random.poisson(number[..., np.newaxis], size=shape)\n",
    "        except ValueError as err:\n",
    "            log.error(str(err))\n",
    "            print(f\"{utils.stats(number)=}\")\n",
    "            print(f\"{number.max()=:.8e}\")\n",
    "            print(f\"{number.dtype=}\")\n",
    "            raise\n",
    "    else:\n",
    "        err = \"`realize` ({}) must be one of {{True, False, integer}}!\".format(realize)\n",
    "        log.error(err)\n",
    "        raise ValueError(err)\n",
    "\n",
    "    # Sum over M, Q, Z bins\n",
    "    # (M-1, Q-1, Z-1, F-1 [, R]) ==> (F-1, [, R])\n",
    "    if sum:\n",
    "        hc = np.sum(hc, axis=(0, 1, 2))\n",
    "\n",
    "    # convert from hc^2 to hc\n",
    "    hc = np.sqrt(hc)\n",
    "    print('hc shape:', hc.shape)\n",
    "    return hc"
   ]
  },
  {
   "cell_type": "code",
   "execution_count": null,
   "metadata": {},
   "outputs": [],
   "source": [
    "np.set_printoptions(precision = 4)\n",
    "print('\\n-----------by loops--------')\n",
    "hc_loopF = gws_by_loops(edges, number, realize = False, print_test=True)\n",
    "print('\\n-----------by grid arrays--------')\n",
    "hc_arrF = gws_by_arrs(edges, number, realize = False, print_test=True)\n",
    "\n",
    "# hc_arrT = gws_by_arrs(edgeas, number, realize = True)\n",
    "np.set_printoptions(precision = None)"
   ]
  },
  {
   "cell_type": "code",
   "execution_count": null,
   "metadata": {},
   "outputs": [],
   "source": [
    "# print(arr_hcF)\n",
    "# print(loop_hcF)\n",
    "print(hc_samF == hc_arrF)"
   ]
  },
  {
   "attachments": {},
   "cell_type": "markdown",
   "metadata": {},
   "source": [
    "# Test Cases"
   ]
  },
  {
   "cell_type": "code",
   "execution_count": null,
   "metadata": {},
   "outputs": [],
   "source": [
    "# get GWB spectrum\n",
    "hc_samF = holo.sam.gravwaves._gws_from_number_grid_integrated(edges, number, realize=False, sum=False)\n",
    "hc_samT = holo.sam.gravwaves._gws_from_number_grid_integrated(edges, number, realize=True, sum=False)\n",
    "hc_sam1 = holo.sam.gravwaves._gws_from_number_grid_integrated(edges, number, realize=1, sum=False)\n",
    "hc_sam3 = holo.sam.gravwaves._gws_from_number_grid_integrated(edges, number, realize=3, sum=False)\n",
    "\n",
    "hc_loopF = gws_by_loops(edges, number, realize=False)    \n",
    "hc_loopT = gws_by_loops(edges, number, realize=True)\n",
    "hc_loop1 = gws_by_loops(edges, number, realize=1)   \n",
    "hc_loop3 = gws_by_loops(edges, number, realize=3)   \n",
    "        "
   ]
  },
  {
   "cell_type": "code",
   "execution_count": null,
   "metadata": {},
   "outputs": [],
   "source": [
    "print(hc_loop3.shape)"
   ]
  },
  {
   "cell_type": "code",
   "execution_count": null,
   "metadata": {},
   "outputs": [],
   "source": [
    "print(hc_sam3.shape)"
   ]
  },
  {
   "cell_type": "code",
   "execution_count": null,
   "metadata": {},
   "outputs": [],
   "source": [
    "print(hc_loop3 - hc_sam3)"
   ]
  },
  {
   "cell_type": "code",
   "execution_count": null,
   "metadata": {},
   "outputs": [],
   "source": [
    "print(hc_loopF)"
   ]
  },
  {
   "cell_type": "code",
   "execution_count": null,
   "metadata": {},
   "outputs": [],
   "source": []
  }
 ],
 "metadata": {
  "kernelspec": {
   "display_name": "Python 3",
   "language": "python",
   "name": "python3"
  },
  "language_info": {
   "codemirror_mode": {
    "name": "ipython",
    "version": 3
   },
   "file_extension": ".py",
   "mimetype": "text/x-python",
   "name": "python",
   "nbconvert_exporter": "python",
   "pygments_lexer": "ipython3",
   "version": "3.10.10"
  },
  "vscode": {
   "interpreter": {
    "hash": "17d459439548e0ef4d6a744a9fa4f3f6fa91b434189a6e542a76bffcd834cb9b"
   }
  }
 },
 "nbformat": 4,
 "nbformat_minor": 2
}
