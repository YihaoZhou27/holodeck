{
 "cells": [
  {
   "cell_type": "code",
   "execution_count": null,
   "metadata": {},
   "outputs": [],
   "source": [
    "# %load ../init.ipy\n",
    "%reload_ext autoreload\n",
    "%autoreload 2\n",
    "from importlib import reload\n",
    "\n",
    "import numpy as np\n",
    "import holodeck as holo\n",
    "import holodeck.single_sources as ss\n",
    "import holodeck.cyutils as cy\n",
    "import matplotlib.pyplot as plt"
   ]
  },
  {
   "attachments": {},
   "cell_type": "markdown",
   "metadata": {},
   "source": [
    "# Cython sorting"
   ]
  },
  {
   "cell_type": "code",
   "execution_count": null,
   "metadata": {},
   "outputs": [],
   "source": [
    "import holodeck.cyutils as cy\n",
    "import numpy as np\n",
    "import holodeck as holo\n",
    "import holodeck.single_sources as ss\n",
    "import kalepy as kale"
   ]
  },
  {
   "attachments": {},
   "cell_type": "markdown",
   "metadata": {},
   "source": [
    "meshgrid, defining random h2fdf and bgnum"
   ]
  },
  {
   "cell_type": "code",
   "execution_count": null,
   "metadata": {},
   "outputs": [],
   "source": [
    "M = 2\n",
    "Q = 1\n",
    "Z = 3\n",
    "F = 2\n",
    "h2fdf = np.zeros((M,Q,Z,F))\n",
    "bgnum = np.zeros((M,Q,Z,F))\n",
    "mqz = np.zeros((3,M,Q,Z))\n",
    "for mm in range(M):\n",
    "    for qq in range(Q):\n",
    "        for zz in range(Z):\n",
    "            mqz[0,mm,qq,zz] = mm\n",
    "            mqz[1,mm,qq,zz] = qq\n",
    "            mqz[2,mm,qq,zz] = zz\n",
    "            for ff in range(F):\n",
    "                h2fdf[mm,qq,zz,ff] = np.random.uniform(1,10)\n",
    "                bgnum[mm,qq,zz,ff] = int(np.random.uniform(0,5))\n",
    "                \n",
    "print(h2fdf)\n",
    "print(bgnum)\n",
    "m_i = np.arange(M) \n",
    "q_i = np.arange(Q)\n",
    "z_i = np.arange(Z)\n",
    "m_idx, q_idx, z_idx = np.meshgrid(m_i, q_i, z_i, indexing='ij')"
   ]
  },
  {
   "cell_type": "code",
   "execution_count": null,
   "metadata": {},
   "outputs": [],
   "source": [
    "print(mqz[0,:,:,:] == m_idx)\n",
    "print(mqz[1,:,:] == q_idx)\n",
    "print(mqz[2,:,:]==z_idx)\n",
    "print(np.all(mqz==np.array([m_idx, q_idx, z_idx])))\n",
    "# meshgrid for indeing works!"
   ]
  },
  {
   "cell_type": "code",
   "execution_count": null,
   "metadata": {},
   "outputs": [],
   "source": [
    "cc.sort_h2fdf(h2fdf)"
   ]
  },
  {
   "cell_type": "code",
   "execution_count": null,
   "metadata": {},
   "outputs": [],
   "source": [
    "copy = np.copy(h2fdf.reshape(M,Q,Z,F))\n",
    "h2fdf = h2fdf.reshape(M*Q*Z, F)\n",
    "\n",
    "bgnum = bgnum.reshape(M*Q*Z, F)\n",
    "m_idx = m_idx.reshape(M*Q*Z)\n",
    "q_idx = q_idx.reshape(M*Q*Z)\n",
    "z_idx = z_idx.reshape(M*Q*Z)\n",
    "\n",
    "indices = np.argsort(-h2fdf, axis=0)\n",
    "print(indices.shape)\n",
    "print(h2fdf.shape)\n",
    "for ff in range(len(h2fdf[0])):\n",
    "    print('\\nff =', ff)\n",
    "    for hh in range(len(h2fdf)):\n",
    "        ii = indices[hh,ff]\n",
    "        mm = m_idx[ii]\n",
    "        qq = q_idx[ii]\n",
    "        zz = z_idx[ii]\n",
    "        print(h2fdf[ii,ff],copy[mm,qq,zz,ff])\n",
    "        print(mm,qq,zz, np.unravel_index(ii, (M,Q,Z)))\n",
    "        "
   ]
  },
  {
   "cell_type": "code",
   "execution_count": null,
   "metadata": {},
   "outputs": [],
   "source": [
    "unraveled = np.array(np.unravel_index(indices, (M,Q,Z)))\n",
    "print((unraveled).shape)\n",
    "msort = unraveled[0,:,:]\n",
    "qsort = unraveled[1,:,:]\n",
    "zsort = unraveled[2,:,:]\n",
    "print(msort.shape)"
   ]
  },
  {
   "cell_type": "code",
   "execution_count": null,
   "metadata": {},
   "outputs": [],
   "source": [
    "print(h2fdf.shape)"
   ]
  },
  {
   "cell_type": "code",
   "execution_count": null,
   "metadata": {},
   "outputs": [],
   "source": [
    "for ff in range(len(h2fdf[0])):\n",
    "    print('\\nff =', ff)\n",
    "    for hh in range(len(h2fdf)):\n",
    "        ii = indices[hh,ff]\n",
    "        mm = m_idx[ii]\n",
    "        qq = q_idx[ii]\n",
    "        zz = z_idx[ii]\n",
    "        print(h2fdf[ii,ff],copy[mm,qq,zz,ff])\n",
    "        print(mm,qq,zz, np.unravel_index(ii, (M,Q,Z)), msort[hh,ff], qsort[hh,ff], zsort[hh,ff])"
   ]
  },
  {
   "attachments": {},
   "cell_type": "markdown",
   "metadata": {},
   "source": [
    "pass cython \n",
    "h2fdf [MxQxZ, F]\n",
    "sorted [MxQxZ, F] (argsort)\n",
    "edges [M,Q,Z,F]\n",
    "sorted []"
   ]
  },
  {
   "cell_type": "code",
   "execution_count": null,
   "metadata": {},
   "outputs": [],
   "source": [
    "# summary so far:\n",
    "# setup random example h2fdf\n",
    "M = 2\n",
    "Q = 1\n",
    "Z = 3\n",
    "F = 2\n",
    "h2fdf = np.zeros((M,Q,Z,F))\n",
    "bgnum = np.zeros((M,Q,Z,F))\n",
    "for mm in range(M):\n",
    "    for qq in range(Q):\n",
    "        for zz in range(Z):\n",
    "            for ff in range(F):\n",
    "                h2fdf[mm,qq,zz,ff] = np.random.uniform(1,10)\n",
    "                bgnum[mm,qq,zz,ff] = int(np.random.uniform(0,5))"
   ]
  },
  {
   "cell_type": "code",
   "execution_count": null,
   "metadata": {},
   "outputs": [],
   "source": [
    "# sort and index\n",
    "indices = np.argsort(-h2fdf.reshape(M*Q*Z, F), axis=0)\n",
    "unraveled = np.array(np.unravel_index(indices, (M,Q,Z)))\n",
    "msort = unraveled[0,:,:]\n",
    "qsort = unraveled[1,:,:]\n",
    "zsort = unraveled[2,:,:]\n"
   ]
  },
  {
   "cell_type": "code",
   "execution_count": null,
   "metadata": {},
   "outputs": [],
   "source": [
    "# test\n",
    "print(h2fdf.shape)\n",
    "for ff in range(F):\n",
    "    for hh in range(len(indices)-1):\n",
    "        # cur = h2fdf[indices[hh], ff]\n",
    "        # print(h2fdf[msort[hh,ff], qsort[hh,ff], zsort[hh,ff], ff])\n",
    "        # true of any sort\n",
    "        assert((h2fdf[msort[hh,ff], qsort[hh,ff], zsort[hh,ff], ff]) > (h2fdf[msort[hh+1,ff], qsort[hh+1,ff], zsort[hh+1,ff], ff]))\n",
    "        \n",
    "        # true for a real h2fdf (same across frequencies)\n",
    "        assert(msort[hh,0]==msort[hh,1])\n",
    "        assert(qsort[hh,0]==qsort[hh,1])\n",
    "        assert(zsort[hh,0]==zsort[hh,1])\n"
   ]
  },
  {
   "attachments": {},
   "cell_type": "markdown",
   "metadata": {},
   "source": [
    "try for example 5"
   ]
  },
  {
   "cell_type": "code",
   "execution_count": null,
   "metadata": {},
   "outputs": [],
   "source": [
    "edges, number, fobs, exname = ss.example5()\n",
    "h2fdf = ss.h2fdf(edges)\n",
    "mt = kale.utils.midpoints(edges[0]) #: total mass\n",
    "mr = kale.utils.midpoints(edges[1]) #: mass ratio\n",
    "rz = kale.utils.midpoints(edges[2]) #: redshift"
   ]
  },
  {
   "cell_type": "code",
   "execution_count": null,
   "metadata": {},
   "outputs": [],
   "source": [
    "M = number.shape[0]\n",
    "Q = number.shape[1]\n",
    "Z = number.shape[2]\n",
    "F = number.shape[3]\n",
    "print(M,Q,Z,F)"
   ]
  },
  {
   "cell_type": "code",
   "execution_count": null,
   "metadata": {},
   "outputs": [],
   "source": [
    "# # sort and index\n",
    "# indices = np.argsort(-h2fdf.reshape(M*Q*Z, F), axis=0)\n",
    "# unraveled = np.array(np.unravel_index(indices, (M,Q,Z)))\n",
    "# msort = unraveled[0,:,:]\n",
    "# qsort = unraveled[1,:,:]\n",
    "# zsort = unraveled[2,:,:]\n"
   ]
  },
  {
   "cell_type": "code",
   "execution_count": null,
   "metadata": {},
   "outputs": [],
   "source": [
    "# # test\n",
    "# print(h2fdf.shape)\n",
    "# for ff in range(F):\n",
    "#     for hh in range(len(indices)-1):\n",
    "#         # cur = h2fdf[indices[hh], ff]\n",
    "#         # print(h2fdf[msort[hh,ff], qsort[hh,ff], zsort[hh,ff], ff])\n",
    "#         # true of any sort\n",
    "#         assert((h2fdf[msort[hh,ff], qsort[hh,ff], zsort[hh,ff], ff]) > (h2fdf[msort[hh+1,ff], qsort[hh+1,ff], zsort[hh+1,ff], ff]))\n",
    "        \n",
    "#         # true for a real h2fdf (same across frequencies)\n",
    "#         assert(msort[hh,0]==msort[hh,1])\n",
    "#         assert(qsort[hh,0]==qsort[hh,1])\n",
    "#         assert(zsort[hh,0]==zsort[hh,1])\n"
   ]
  },
  {
   "attachments": {},
   "cell_type": "markdown",
   "metadata": {},
   "source": [
    "so actually, we don't need to do it for every frequency"
   ]
  },
  {
   "cell_type": "code",
   "execution_count": null,
   "metadata": {},
   "outputs": [],
   "source": [
    "# sort and index\n",
    "indices = np.argsort(-h2fdf[...,0].flatten()) # just sort for first frequency\n",
    "unraveled = np.array(np.unravel_index(indices, (M,Q,Z)))\n",
    "print(unraveled.shape)\n",
    "msort = unraveled[0,:]\n",
    "qsort = unraveled[1,:]\n",
    "zsort = unraveled[2,:]\n",
    "print(msort.shape)"
   ]
  },
  {
   "cell_type": "code",
   "execution_count": null,
   "metadata": {},
   "outputs": [],
   "source": [
    "# test\n",
    "print(h2fdf.shape)\n",
    "for ff in range(F):\n",
    "    for hh in range(len(indices)-1):\n",
    "        # cur = h2fdf[indices[hh], ff]\n",
    "        # print(h2fdf[msort[hh,ff], qsort[hh,ff], zsort[hh,ff], ff])\n",
    "        # true of any sort\n",
    "        assert((h2fdf[msort[hh], qsort[hh], zsort[hh], ff]) > (h2fdf[msort[hh+1], qsort[hh+1], zsort[hh+1], ff]))\n",
    "            \n"
   ]
  },
  {
   "attachments": {},
   "cell_type": "markdown",
   "metadata": {},
   "source": [
    "pass to cython\n",
    "* h2fdf (M,Q,Z,F) NDarray\n",
    "* number (M,Q,Z,F) NDarray\n",
    "* msort, qsort, zsort; each is an (MxQxZ) 1Darray\n",
    "* nreals : int\n",
    "* nloudest : int\n",
    "* mt : (M,) 1Darray\n",
    "* mr : (Q,) 1Darray\n",
    "* rz : (Z,) 1Darray\n",
    "\n",
    "return\n",
    "* hc2ls : (F,R,L) NDarray\n",
    "* hc2bg : (F,R) NDarray\n",
    "* bgpar\n",
    "* lspar"
   ]
  },
  {
   "cell_type": "code",
   "execution_count": null,
   "metadata": {},
   "outputs": [],
   "source": [
    "R=10\n",
    "L=5\n",
    "hc2ls, hc2bg = cy.loudest_hc_from_sorted(number, h2fdf, R, L, \n",
    "                                         mt, mr, rz, \n",
    "                                         msort, qsort, zsort)"
   ]
  },
  {
   "cell_type": "code",
   "execution_count": null,
   "metadata": {},
   "outputs": [],
   "source": [
    "print(hc2ls.shape, hc2bg.shape)\n",
    "hc_ls = np.sqrt(hc2ls)\n",
    "hc_bg = np.sqrt(hc2bg)"
   ]
  },
  {
   "cell_type": "code",
   "execution_count": null,
   "metadata": {},
   "outputs": [],
   "source": [
    "import matplotlib.pyplot as plt\n",
    "import matplotlib.cm as cm\n",
    "from holodeck import plot\n",
    "from holodeck.constants import YR"
   ]
  },
  {
   "cell_type": "code",
   "execution_count": null,
   "metadata": {},
   "outputs": [],
   "source": [
    "print(len(hc_ls[0,0]))"
   ]
  },
  {
   "cell_type": "code",
   "execution_count": null,
   "metadata": {},
   "outputs": [],
   "source": [
    "fig, ax = plot.figax(xlabel='Frequency $f_\\mathrm{obs}$ [1/yr]', \n",
    "                    ylabel='Characteristic Strain $h_c$', figsize=[10,4.5])\n",
    "\n",
    "xx = fobs * YR\n",
    "\n",
    "# plot a reference, pure power-law  strain spectrum:   h_c(f) = 1e-15 * (f * yr) ^ -2/3\n",
    "yy = 1e-15 * np.power(xx, -2.0/3.0)\n",
    "ax.plot(xx, yy, 'k--', alpha=0.25, lw=2.0, label = 'pure power law')\n",
    "\n",
    "# plot the median background\n",
    "ax.plot(xx, np.median(hc_bg, axis=1), label='bg median', color='k', lw=3, alpha=.5)\n",
    "\n",
    "# plot all single sources in the first realization\n",
    "REALS = 3\n",
    "colors = cm.rainbow(np.linspace(0,1,REALS))\n",
    "for rr in range(REALS):\n",
    "    ax.plot(xx, hc_bg[:,rr], lw=2.0, alpha=0.5, color=colors[rr], linestyle='solid')\n",
    "    for ll in range(len(hc_ls[0,0])):\n",
    "        if(ll==0): \n",
    "            edgecolor = 'k'\n",
    "            alpha = 0.7\n",
    "        else: \n",
    "            edgecolor = None\n",
    "            alpha = 0.4\n",
    "        ax.scatter(xx,hc_ls[:,rr,ll], color=colors[rr], marker='o', s=80,\n",
    "                    edgecolor=edgecolor, alpha=alpha)\n",
    "\n",
    "# plot the model with Poisson sampling\n",
    "# ss.plot_BG(ax, xx, hc_bg, LABEL='hc_bg, median of %d realizations'% hc_bg.shape[1], REALS=1, COLOR='b')\n",
    "\n",
    "\n",
    "legend_gwb = ax.legend(bbox_to_anchor=(.1,.15), bbox_transform=fig.transFigure, loc='lower left')\n",
    "fig.tight_layout()"
   ]
  },
  {
   "cell_type": "code",
   "execution_count": null,
   "metadata": {},
   "outputs": [],
   "source": [
    "def plot_samples(ax, xx, BG=None, SS=None, REALS=1, LABEL=''):\n",
    "    \"\"\"\n",
    "    Plot the background and/or single sources for the first 'REALS' \n",
    "    number of realizations, with each color corresponding to a difference \n",
    "    realization.\n",
    "\n",
    "    Parameters\n",
    "    ----------\n",
    "    ax : pyplot ax object\n",
    "    xx : (F,) array of scalars\n",
    "    BG : (F,R) ndarray or None\n",
    "    SS : (F,R) ndarray or None\n",
    "    REALS : int\n",
    "    \"\"\"\n",
    "    colors = cm.rainbow(np.linspace(0,1,REALS))\n",
    "    for rr in range(REALS):\n",
    "        if rr==REALS-1:\n",
    "            if(BG is not None):\n",
    "                ax.plot(xx, BG[:,rr], lw=2.0, alpha=0.5, color=colors[rr], linestyle='solid',\n",
    "                    label='background'+LABEL)\n",
    "            if(SS is not None):\n",
    "                ax.scatter(xx, SS[:,rr], color=colors[rr], marker='o', s=80,\n",
    "                    edgecolor='k', alpha=0.5, label='single source'+LABEL)\n",
    "        else:\n",
    "            if(BG is not None):\n",
    "                ax.plot(xx, BG[:,rr], lw=2.0, alpha=0.5, color=colors[rr], linestyle='solid')\n",
    "            if(SS is not None):\n",
    "                ax.scatter(xx, SS[:,rr], color=colors[rr], marker='o', s=80,\n",
    "                    edgecolor='k', alpha=0.5)"
   ]
  },
  {
   "cell_type": "code",
   "execution_count": null,
   "metadata": {},
   "outputs": [],
   "source": [
    "fig, ax = plot.figax(xlabel='Frequency $f_\\mathrm{obs}$ [1/yr]', \n",
    "                    ylabel='Characteristic Strain $h_c$', figsize=[10,4.5])\n",
    "\n",
    "xx = fobs * YR\n",
    "\n",
    "# plot a reference, pure power-law  strain spectrum:   h_c(f) = 1e-15 * (f * yr) ^ -2/3\n",
    "yy = 1e-15 * np.power(xx, -2.0/3.0)\n",
    "ax.plot(xx, yy, 'k--', alpha=0.25, lw=2.0, label = 'pure power law')\n",
    "\n",
    "# plot the model without sampling\n",
    "hc_bg_exp = ss.ss_by_cdefs(edges, number, realize=False, round=False)[0]\n",
    "ax.plot(xx, hc_bg_exp, color='k', lw=4, ls = 'dotted', label='unsampled background')\n",
    "\n",
    "# plot the model with Poisson sampling\n",
    "# ss.plot_BG(ax, xx, hc_bg, LABEL='hc_bg, median of %d realizations'% hc_bg.shape[1], REALS=1, COLOR='b')\n",
    "ss.plot_samples(ax, xx, hc_bg, hc_ss, REALS=5)\n",
    "\n",
    "legend_gwb = ax.legend(bbox_to_anchor=(.1,.15), bbox_transform=fig.transFigure, loc='lower left')\n",
    "fig.tight_layout()"
   ]
  }
 ],
 "metadata": {
  "kernelspec": {
   "display_name": "holo310",
   "language": "python",
   "name": "python3"
  },
  "language_info": {
   "codemirror_mode": {
    "name": "ipython",
    "version": 3
   },
   "file_extension": ".py",
   "mimetype": "text/x-python",
   "name": "python",
   "nbconvert_exporter": "python",
   "pygments_lexer": "ipython3",
   "version": "3.10.9"
  },
  "orig_nbformat": 4,
  "vscode": {
   "interpreter": {
    "hash": "b691867a38f678e88325b7be712686862775b0bc37454cc33917ba725d804d99"
   }
  }
 },
 "nbformat": 4,
 "nbformat_minor": 2
}
