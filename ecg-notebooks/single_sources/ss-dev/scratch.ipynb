{
 "cells": [
  {
   "cell_type": "code",
   "execution_count": 4,
   "metadata": {},
   "outputs": [],
   "source": [
    "# %load ../init.ipy\n",
    "%reload_ext autoreload\n",
    "%autoreload 2\n",
    "from importlib import reload\n",
    "\n",
    "import numpy as np"
   ]
  },
  {
   "cell_type": "code",
   "execution_count": null,
   "metadata": {},
   "outputs": [],
   "source": []
  },
  {
   "attachments": {},
   "cell_type": "markdown",
   "metadata": {},
   "source": [
    "### grid:\n",
    "\n",
    "1x  |  xx  |  xx  |  xx  |  xx \\\n",
    "xx  |  9x  |  x3  |  xx  |  xx \\\n",
    "xx  |  xx  |  xx  |  x4  |  x5 \n",
    "\n",
    "10x  |  x80   |  xx   |  xx   |  xx \\\n",
    "xx   |  xx  |  x30  |  xx   |  xx \\\n",
    "xx   |  xx   |  xx   |  x40  |  x50 "
   ]
  },
  {
   "cell_type": "code",
   "execution_count": 245,
   "metadata": {},
   "outputs": [
    {
     "name": "stdout",
     "output_type": "stream",
     "text": [
      "(2, 1, 3, 5, 2)\n",
      "(2, 1, 3, 5, 2)\n",
      "(2, 1, 3, 5)\n"
     ]
    }
   ],
   "source": [
    "hsamp = np.array([[[[[1,10],[0,80],[0,6],[0,6],[0,6]],\n",
    "                [[0,6],[9,6],[0,6],[0,6],[0,6]],\n",
    "                [[0,6],[0,6],[0,6],[0,6],[0,6]]]],\n",
    "\n",
    "                [[[[0,6],[0,6],[0,6],[0,6],[0,6]],\n",
    "                [[0,6],[0,6],[3,30],[0,6],[0,6]],\n",
    "                [[0,6],[0,6],[0,6],[4,40],[5,50]]]]])\n",
    "bgnum = np.full_like(hsamp, 100)\n",
    "\n",
    "print(hsamp.shape)\n",
    "print(bgnum.shape)\n",
    "# print(grid)\n",
    "hsone=hsamp[...,0]\n",
    "print(hsone.shape)"
   ]
  },
  {
   "cell_type": "code",
   "execution_count": 246,
   "metadata": {},
   "outputs": [
    {
     "name": "stdout",
     "output_type": "stream",
     "text": [
      "(2, 1, 3, 5, 2)\n"
     ]
    }
   ],
   "source": [
    "repped = np.repeat(hsone[...,np.newaxis],2,axis=4)\n",
    "print(repped.shape)"
   ]
  },
  {
   "cell_type": "code",
   "execution_count": 7,
   "metadata": {},
   "outputs": [
    {
     "name": "stdout",
     "output_type": "stream",
     "text": [
      "(2, 1, 3, 5)\n",
      "(6, 5)\n",
      "(2, 1, 3, 5)\n",
      "mqz (3, 5)\n",
      "[[0 0 1 1 1]\n",
      " [0 0 0 0 0]\n",
      " [0 1 1 2 2]]\n",
      "[0 0 1 1 1 0 0 0 0 0 0 1 1 2 2 0 1 2 3 4]\n",
      "ssnew [[0 0 1 1 1]\n",
      " [0 0 0 0 0]\n",
      " [0 1 1 2 2]\n",
      " [0 1 2 3 4]]\n"
     ]
    }
   ],
   "source": [
    "# one real\n",
    "hsmax = np.amax(hsone, axis=(0,1,2))\n",
    "shape = hsone.shape\n",
    "print(shape)\n",
    "newshape = (shape[0]*shape[1]*shape[2], shape[3])\n",
    "print(newshape)\n",
    "hsone = hsone.reshape(newshape) # change hsamp to shape (M-1*Q-1*Z-1, F-1)\n",
    "argmax = np.argmax(hsone, axis=0) # max at each frequency & realization\n",
    "hsone = hsone.reshape(shape) # restore hsamp shape to (M-1, Q-1, Z-1, F-1)\n",
    "print(hsone.shape)\n",
    "mqz = np.array(np.unravel_index(argmax, shape[:-1])) # unravel indices\n",
    "print('mqz', mqz.shape)\n",
    "print(mqz)\n",
    "f_ids = np.linspace(0,len(mqz[0])-1,len(mqz[0])).astype(int) # frequency indices\n",
    "print(np.append(mqz, f_ids))\n",
    "ssnew = np.append(mqz, f_ids).reshape(4,len(f_ids))\n",
    "print('ssnew', ssnew)\n",
    "# print(hsone[ssnew[0], ssnew[1], ssnew[2], ssnew[3]])"
   ]
  },
  {
   "cell_type": "code",
   "execution_count": 217,
   "metadata": {},
   "outputs": [
    {
     "name": "stdout",
     "output_type": "stream",
     "text": [
      "[[ 1 10]\n",
      " [ 9 80]\n",
      " [ 3 30]\n",
      " [ 4 40]\n",
      " [ 5 50]]\n",
      "shape (2, 1, 3, 5, 2)\n",
      "newshape (6, 5, 2)\n",
      "mqz (3, 5, 2)\n",
      "[[[0 0]\n",
      "  [0 0]\n",
      "  [1 1]\n",
      "  [1 1]\n",
      "  [1 1]]\n",
      "\n",
      " [[0 0]\n",
      "  [0 0]\n",
      "  [0 0]\n",
      "  [0 0]\n",
      "  [0 0]]\n",
      "\n",
      " [[0 0]\n",
      "  [1 0]\n",
      "  [1 1]\n",
      "  [2 2]\n",
      "  [2 2]]\n",
      "\n",
      " [[0 0]\n",
      "  [1 1]\n",
      "  [2 2]\n",
      "  [3 3]\n",
      "  [4 4]]] (4, 5, 2)\n"
     ]
    }
   ],
   "source": [
    "#hsamp for all bins at all realizations\n",
    "\n",
    "#gets max for each frequency and realization\n",
    "max = np.amax(hsamp, axis=(0,1,2))\n",
    "print(max)\n",
    "shape = hsamp.shape\n",
    "print('shape',shape)\n",
    "newshape = (shape[0]*shape[1]*shape[2], shape[3], shape[4])\n",
    "print('newshape', newshape)\n",
    "hsamp = hsamp.reshape(newshape)\n",
    "argmax = np.argmax(hsamp, axis=0)\n",
    "hsamp = hsamp.reshape(shape)\n",
    "\n",
    "# shape (3, F, R)\n",
    "mqz = np.array(np.unravel_index(argmax, shape[:-2])) # unravel indices\n",
    "print('mqz', mqz.shape)\n",
    "\n",
    "\n",
    "# I GOt IT!!!!!\n",
    "# MQZ in shape (3,F,R)\n",
    "# Want to get MQZF in shape (4,F,R)\n",
    "# Need f_ids in shape (1,F,R) to append\n",
    "\n",
    "f_ids = np.linspace(0,len(mqz[0])-1,len(mqz[0])).astype(int) # frequency indices\n",
    "f_ids = np.repeat(f_ids, R).reshape(F,R)[np.newaxis,:]\n",
    "ssnew = np.append(mqz,f_ids, axis=0)\n",
    "print(ssnew, ssnew.shape)"
   ]
  },
  {
   "cell_type": "code",
   "execution_count": 184,
   "metadata": {},
   "outputs": [
    {
     "name": "stdout",
     "output_type": "stream",
     "text": [
      "(2, 1, 3, 5, 2)\n",
      "(4, 5, 2)\n",
      "(5, 2, 2)\n",
      "[[[ 1 10]\n",
      "  [ 1 10]]\n",
      "\n",
      " [[ 9  6]\n",
      "  [ 0 80]]\n",
      "\n",
      " [[ 3 30]\n",
      "  [ 3 30]]\n",
      "\n",
      " [[ 4 40]\n",
      "  [ 4 40]]\n",
      "\n",
      " [[ 5 50]\n",
      "  [ 5 50]]]\n",
      "(5, 2)\n",
      "[[ 1 10]\n",
      " [ 9 80]\n",
      " [ 3 30]\n",
      " [ 4 40]\n",
      " [ 5 50]]\n"
     ]
    }
   ],
   "source": [
    "# print(hsamp[ssnew[0,:,0], ssnew[1,:,0], ssnew[2,:,0], \n",
    "#         ssnew[3,:,0]][...,0])\n",
    "# print(hsamp[ssnew[0,:,1], ssnew[1,:,1], ssnew[2,:,1], \n",
    "#         ssnew[3,:,1]][...,1])\n",
    "print(hsamp.shape)\n",
    "print(ssnew.shape)\n",
    "ampmax=hsamp[ssnew[0,], ssnew[1], ssnew[2], \n",
    "        ssnew[3]].squeeze()\n",
    "ampmax2 = hsamp[tuple(ssnew)]\n",
    "# why does this give me duplicates??\n",
    "print(ampmax.shape)\n",
    "print(ampmax)\n",
    "print(max.shape)\n",
    "print(max)"
   ]
  },
  {
   "attachments": {},
   "cell_type": "markdown",
   "metadata": {},
   "source": [
    "include r indices calculation"
   ]
  },
  {
   "cell_type": "code",
   "execution_count": 224,
   "metadata": {},
   "outputs": [
    {
     "name": "stdout",
     "output_type": "stream",
     "text": [
      "[[ 1 10]\n",
      " [ 9 80]\n",
      " [ 3 30]\n",
      " [ 4 40]\n",
      " [ 5 50]]\n",
      "shape (2, 1, 3, 5, 2)\n",
      "newshape (6, 5, 2)\n",
      "R = 2 F = 5\n",
      "[0 1]\n",
      "[[[0 1]\n",
      "  [0 1]\n",
      "  [0 1]\n",
      "  [0 1]\n",
      "  [0 1]]] (1, 5, 2)\n",
      "(5, 5, 2)\n"
     ]
    }
   ],
   "source": [
    "# include also r indices: \n",
    "# Only way to avoid for loops over realizations?\n",
    "#hsamp for all bins at all realizations\n",
    "\n",
    "#gets max for each frequency and realization\n",
    "max = np.amax(hsamp, axis=(0,1,2))\n",
    "print(max)\n",
    "shape = hsamp.shape\n",
    "print('shape',shape)\n",
    "newshape = (shape[0]*shape[1]*shape[2], shape[3], shape[4])\n",
    "print('newshape', newshape)\n",
    "hsamp = hsamp.reshape(newshape)\n",
    "argmax = np.argmax(hsamp, axis=0)\n",
    "hsamp = hsamp.reshape(shape)\n",
    "\n",
    "# shape (3, F, R)\n",
    "mqz = np.array(np.unravel_index(argmax, shape[:-2])) # unravel indices\n",
    "# print('mqz', mqz.shape)\n",
    "\n",
    "# MQZ in shape (3,F,R)\n",
    "# Want to get MQZF in shape (4,F,R)\n",
    "# Need f_ids in shape (1,F,R) to append\n",
    "# Need r_ids in shape (1,F,R) to append\n",
    "R=shape[4]\n",
    "F=shape[3]\n",
    "print('R =', R, 'F =',F)\n",
    "f_ids = np.linspace(0,len(mqz[0])-1,len(mqz[0])).astype(int) # frequency indices\n",
    "f_ids = np.repeat(f_ids, R).reshape(F,R)[np.newaxis,:]\n",
    "r_ids = np.linspace(0,R-1,R).astype(int) # realization indices\n",
    "print(r_ids)\n",
    "r_ids = np.tile(r_ids, F).reshape(F,R)[np.newaxis,:]\n",
    "print(r_ids, r_ids.shape)\n",
    "ssnew = np.append(mqz,f_ids, axis=0)\n",
    "ssnew = np.append(ssnew,r_ids, axis=0)\n",
    "print(ssnew.shape)"
   ]
  },
  {
   "cell_type": "code",
   "execution_count": 237,
   "metadata": {},
   "outputs": [
    {
     "name": "stdout",
     "output_type": "stream",
     "text": [
      "(5, 2)\n"
     ]
    }
   ],
   "source": [
    "print(max.shape)"
   ]
  },
  {
   "cell_type": "code",
   "execution_count": 225,
   "metadata": {},
   "outputs": [
    {
     "name": "stdout",
     "output_type": "stream",
     "text": [
      "[[ 1 10]\n",
      " [ 9 80]\n",
      " [ 3 30]\n",
      " [ 4 40]\n",
      " [ 5 50]]\n"
     ]
    }
   ],
   "source": [
    "print(hsamp[ssnew[0], ssnew[1], ssnew[2], ssnew[3], ssnew[4]])"
   ]
  },
  {
   "cell_type": "code",
   "execution_count": 200,
   "metadata": {},
   "outputs": [
    {
     "name": "stdout",
     "output_type": "stream",
     "text": [
      "0 ()\n",
      "(2, 1, 3, 5, 2)\n",
      "100\n"
     ]
    }
   ],
   "source": [
    "print(ssnew[0,0,0], ssnew[0,0,0].shape)\n",
    "# mass index of all freqs, all reals\n",
    "print(bgnum.shape)\n",
    "print(bgnum[ssnew[0,0,0], ssnew[1,0,0], ssnew[2,0,0], ssnew[3,0,0],0])"
   ]
  },
  {
   "attachments": {},
   "cell_type": "markdown",
   "metadata": {},
   "source": [
    "bgnum"
   ]
  },
  {
   "cell_type": "code",
   "execution_count": 235,
   "metadata": {},
   "outputs": [
    {
     "name": "stdout",
     "output_type": "stream",
     "text": [
      "[[[[100 100 100 100 100]\n",
      "   [100 100 100 100 100]\n",
      "   [100 100 100 100 100]]]\n",
      "\n",
      "\n",
      " [[[100 100 100 100 100]\n",
      "   [100 100 100 100 100]\n",
      "   [100 100 100 100 100]]]] (2, 1, 3, 5, 2)\n",
      "(2, 1, 3, 5, 2)\n",
      "[10 80 30 40 50]\n",
      "[[[[ 99  99 100 100 100]\n",
      "   [100 100 100 100 100]\n",
      "   [100 100 100 100 100]]]\n",
      "\n",
      "\n",
      " [[[100 100 100 100 100]\n",
      "   [100 100  99 100 100]\n",
      "   [100 100 100  99  99]]]] (2, 1, 3, 5, 2)\n"
     ]
    },
    {
     "name": "stderr",
     "output_type": "stream",
     "text": [
      "/var/folders/r0/rzjvt8tn7lqbr892wvvnr0j40000gn/T/ipykernel_28871/2073731583.py:8: FutureWarning: Using a non-tuple sequence for multidimensional indexing is deprecated; use `arr[tuple(seq)]` instead of `arr[seq]`. In the future this will be interpreted as an array index, `arr[np.array(seq)]`, which will result either in an error or a different result.\n",
      "  bgnumcop[[ssnew[0], ssnew[1], ssnew[2], ssnew[3], ssnew[4]]]-=1\n"
     ]
    }
   ],
   "source": [
    "r=1\n",
    "print(bgnum[...,r], bgnum.shape)\n",
    "print(hsamp.shape)\n",
    "print(hsamp[ssnew[0], ssnew[1], ssnew[2], \n",
    "        ssnew[3],ssnew[4]][...,r])\n",
    "bgnumcop = np.copy(bgnum)\n",
    "# bgnumcop[ssnew[0,:,:], ssnew[1,:,:], ssnew[2,:,:], ssnew[3,:,:]]=9\n",
    "bgnumcop[[ssnew[0], ssnew[1], ssnew[2], ssnew[3], ssnew[4]]]-=1\n",
    "print(bgnumcop[...,r], bgnumcop.shape)"
   ]
  },
  {
   "attachments": {},
   "cell_type": "markdown",
   "metadata": {},
   "source": [
    "old arrs stuff"
   ]
  },
  {
   "cell_type": "code",
   "execution_count": 64,
   "metadata": {},
   "outputs": [
    {
     "name": "stdout",
     "output_type": "stream",
     "text": [
      "[[[1 1]\n",
      "  [2 2]\n",
      "  [3 3]]] (1, 3, 2)\n",
      "[[[0]\n",
      "  [5]\n",
      "  [6]]] (1, 3, 1)\n",
      "[[[1 1 0]\n",
      "  [2 2 5]\n",
      "  [3 3 6]]] (1, 3, 3)\n"
     ]
    }
   ],
   "source": [
    "arr = np.array([[[1,1], [2,2], [3,3]]])\n",
    "print(arr, arr.shape)\n",
    "app = np.array([[[0], [5], [6]]])\n",
    "print(app, app.shape)\n",
    "res = np.append(arr, app, axis=2)\n",
    "print(res, res.shape)\n",
    "\n",
    "# take shape (a,b,c) and append shape (a,b,d) to get shape (a,b,c+d)"
   ]
  },
  {
   "cell_type": "code",
   "execution_count": 81,
   "metadata": {},
   "outputs": [
    {
     "name": "stdout",
     "output_type": "stream",
     "text": [
      "[[1]\n",
      " [2]\n",
      " [3]] (3, 1)\n",
      "[[0]\n",
      " [0]\n",
      " [3]] (3, 1)\n",
      "[[1 0]\n",
      " [2 0]\n",
      " [3 3]] (3, 2)\n"
     ]
    }
   ],
   "source": [
    "arr = np.array([[1],[2],[3]])\n",
    "print(arr, arr.shape)\n",
    "app = np.array([[0],[0],[3]])\n",
    "print(app, app.shape)\n",
    "res = np.append(arr, app, axis=1)\n",
    "print(res, res.shape)\n",
    "\n",
    "# take shape (a,b,c) and append shape (a,b,d) to get shape (a,b,c+d)\n",
    "# I have shape (3,5,2) and I want to append ..... \n",
    "# to get shape (4,5,2)"
   ]
  },
  {
   "cell_type": "code",
   "execution_count": 89,
   "metadata": {},
   "outputs": [
    {
     "name": "stdout",
     "output_type": "stream",
     "text": [
      "[[1 2]\n",
      " [3 4]] (2, 2)\n",
      "[[0 0]] (1, 2)\n",
      "[[1 2]\n",
      " [3 4]\n",
      " [0 0]] (3, 2)\n"
     ]
    }
   ],
   "source": [
    "arr = np.array([[1,2],[3,4]])\n",
    "print(arr, arr.shape)\n",
    "app = np.array([[0,0]])\n",
    "print(app, app.shape)\n",
    "res = np.append(arr, app, axis=0)\n",
    "print(res, res.shape)\n",
    "\n",
    "# take shape (a,b,c) and append shape (a,b,d) to get shape (a,b,c+d)\n",
    "# I have shape (3,5,2) and I want to append ..... \n",
    "# to get shape (4,5,2)"
   ]
  },
  {
   "cell_type": "code",
   "execution_count": 86,
   "metadata": {},
   "outputs": [
    {
     "name": "stdout",
     "output_type": "stream",
     "text": [
      "[[1 2]\n",
      " [3 4]] (2, 2)\n",
      "[[0]\n",
      " [0]] (2, 1)\n",
      "[[1 2 0]\n",
      " [3 4 0]] (2, 3)\n"
     ]
    }
   ],
   "source": [
    "arr = np.array([[1,2],[3,4]])\n",
    "print(arr, arr.shape)\n",
    "app = np.array([[0],[0]])\n",
    "print(app, app.shape)\n",
    "res = np.append(arr, app, axis=1)\n",
    "print(res, res.shape)\n",
    "\n",
    "# take shape (a,b,c) and append shape (a,b,d) to get shape (a,b,c+d)\n",
    "# I have shape (3,5,2) and I want to append ..... \n",
    "# to get shape (4,5,2)"
   ]
  },
  {
   "cell_type": "code",
   "execution_count": 101,
   "metadata": {},
   "outputs": [
    {
     "name": "stdout",
     "output_type": "stream",
     "text": [
      "[[[1]\n",
      "  [2]]\n",
      "\n",
      " [[3]\n",
      "  [4]]\n",
      "\n",
      " [[5]\n",
      "  [6]]] (3, 2, 1)\n",
      "[[[0]\n",
      "  [0]]] (1, 2, 1)\n",
      "[[[1]\n",
      "  [2]]\n",
      "\n",
      " [[3]\n",
      "  [4]]\n",
      "\n",
      " [[5]\n",
      "  [6]]\n",
      "\n",
      " [[0]\n",
      "  [0]]] (4, 2, 1)\n"
     ]
    }
   ],
   "source": [
    "arr = np.array([[[1],[2]],[[3],[4]],[[5],[6]]])\n",
    "print(arr, arr.shape)\n",
    "app = np.array([[[0],[0]]])\n",
    "print(app, app.shape)\n",
    "res = np.append(arr, app, axis=0)\n",
    "print(res, res.shape)\n",
    "\n",
    "# take shape (a,b,c) and append shape (a,b,d) to get shape (a,b,c+d)\n",
    "# I have shape (3,5,2) and I want to append ..... \n",
    "# to get shape (4,5,2)"
   ]
  },
  {
   "cell_type": "code",
   "execution_count": 127,
   "metadata": {},
   "outputs": [
    {
     "name": "stdout",
     "output_type": "stream",
     "text": [
      "(3, 5, 2)\n",
      "(5,)\n",
      "(1, 5, 1)\n",
      "[[0 1 2 3 4 0 1 2 3 4]]\n",
      "(5, 2)\n"
     ]
    }
   ],
   "source": [
    "print(mqz.shape) # mqz is shape (3,5,2) = (3,F,R)\n",
    "# I want to append frequencies to get shape (4,5,2) = (4,F,R)\n",
    "# this means I need my f_indices in shape (1,5,2)\n",
    "print(f_ids.shape)\n",
    "print(f_ids[np.newaxis,:,np.newaxis].shape)\n",
    "print(np.tile(f_ids, (1,2)))\n",
    "print(np.repeat(f_ids, 2).reshape(5,2).shape)"
   ]
  },
  {
   "cell_type": "code",
   "execution_count": 131,
   "metadata": {},
   "outputs": [
    {
     "name": "stdout",
     "output_type": "stream",
     "text": [
      "[[[0 0]\n",
      "  [1 1]\n",
      "  [2 2]\n",
      "  [3 3]\n",
      "  [4 4]]]\n",
      "(1, 5, 2)\n"
     ]
    }
   ],
   "source": [
    "R = 2\n",
    "F = 5\n",
    "reps = np.repeat(f_ids, R).reshape(F,R)\n",
    "resh = reps[np.newaxis,:]\n",
    "print(resh)\n",
    "print(resh.shape)"
   ]
  },
  {
   "attachments": {},
   "cell_type": "markdown",
   "metadata": {},
   "source": [
    "f appending"
   ]
  },
  {
   "cell_type": "code",
   "execution_count": 136,
   "metadata": {},
   "outputs": [
    {
     "name": "stdout",
     "output_type": "stream",
     "text": [
      "(4, 5, 2)\n"
     ]
    }
   ],
   "source": [
    "# I GOt IT!!!!!\n",
    "# MQZ in shape (3,F,R)\n",
    "# Want to get MQZF in shape (4,F,R)\n",
    "# Need f_ids in shape (1,F,R) to append\n",
    "\n",
    "f_ids = np.linspace(0,len(mqz[0])-1,len(mqz[0])).astype(int) # frequency indices\n",
    "f_ids = np.repeat(f_ids, R).reshape(F,R)[np.newaxis,:]\n",
    "mqzf = np.append(mqz,f_ids, axis=0)\n",
    "print(mqzf.shape)"
   ]
  },
  {
   "attachments": {},
   "cell_type": "markdown",
   "metadata": {},
   "source": [
    "single realization"
   ]
  },
  {
   "cell_type": "code",
   "execution_count": 252,
   "metadata": {},
   "outputs": [
    {
     "name": "stdout",
     "output_type": "stream",
     "text": [
      "(2, 1, 3, 5, 1)\n"
     ]
    }
   ],
   "source": [
    "hsamp = np.array([[[[1,0,0,0,0],[0,9,0,0,0],[0,0,0,0,0]]],\n",
    "\n",
    "                 [[[0,0,0,0,0],[0,0,3,0,0],[0,0,0,4,5]]]])[...,np.newaxis]\n",
    "print(hsamp.shape)\n",
    "bgnum = np.full_like(hsamp, 100)\n"
   ]
  },
  {
   "cell_type": "code",
   "execution_count": 260,
   "metadata": {},
   "outputs": [
    {
     "name": "stdout",
     "output_type": "stream",
     "text": [
      "[[1]\n",
      " [9]\n",
      " [3]\n",
      " [4]\n",
      " [5]]\n",
      "shape (2, 1, 3, 5, 1)\n",
      "newshape (6, 5, 1)\n",
      "R = 1 F = 5\n",
      "f_ids [[[0]\n",
      "  [1]\n",
      "  [2]\n",
      "  [3]\n",
      "  [4]]] (1, 5, 1)\n",
      "r_ids [0] (1,)\n",
      "[[[0]\n",
      "  [0]\n",
      "  [0]\n",
      "  [0]\n",
      "  [0]]] (1, 5, 1)\n",
      "(5, 5, 1)\n"
     ]
    }
   ],
   "source": [
    "# include also r indices: \n",
    "# Only way to avoid for loops over realizations?\n",
    "#hsamp for all bins at all realizations\n",
    "\n",
    "#gets max for each frequency and realization\n",
    "max = np.amax(hsamp, axis=(0,1,2))\n",
    "print(max)\n",
    "shape = hsamp.shape\n",
    "print('shape',shape)\n",
    "newshape = (shape[0]*shape[1]*shape[2], shape[3], shape[4])\n",
    "print('newshape', newshape)\n",
    "hsamp = hsamp.reshape(newshape)\n",
    "argmax = np.argmax(hsamp, axis=0)\n",
    "hsamp = hsamp.reshape(shape)\n",
    "\n",
    "# shape (3, F, R)\n",
    "mqz = np.array(np.unravel_index(argmax, shape[:-2])) # unravel indices\n",
    "# print('mqz', mqz.shape)\n",
    "\n",
    "# MQZ in shape (3,F,R)\n",
    "# Want to get MQZF in shape (4,F,R)\n",
    "# Need f_ids in shape (1,F,R) to append\n",
    "# Need r_ids in shape (1,F,R) to append\n",
    "R=shape[4]\n",
    "F=shape[3]\n",
    "print('R =', R, 'F =',F)\n",
    "f_ids = np.linspace(0,len(mqz[0])-1,len(mqz[0])).astype(int) # frequency indices\n",
    "f_ids = np.repeat(f_ids, R).reshape(F,R)[np.newaxis,:]\n",
    "print('f_ids',f_ids, f_ids.shape)\n",
    "r_ids = np.linspace(0,R-1,R).astype(int) # realization indices\n",
    "print('r_ids',r_ids,r_ids.shape)\n",
    "r_ids = np.tile(r_ids, F).reshape(F,R)[np.newaxis,:]\n",
    "print(r_ids, r_ids.shape)\n",
    "ssnew = np.append(mqz,f_ids, axis=0)\n",
    "ssnew = np.append(ssnew,r_ids, axis=0)\n",
    "print(ssnew.shape)"
   ]
  },
  {
   "cell_type": "code",
   "execution_count": 257,
   "metadata": {},
   "outputs": [
    {
     "name": "stdout",
     "output_type": "stream",
     "text": [
      "[[[0]\n",
      "  [0]\n",
      "  [1]\n",
      "  [1]\n",
      "  [1]]\n",
      "\n",
      " [[0]\n",
      "  [0]\n",
      "  [0]\n",
      "  [0]\n",
      "  [0]]\n",
      "\n",
      " [[0]\n",
      "  [1]\n",
      "  [1]\n",
      "  [2]\n",
      "  [2]]\n",
      "\n",
      " [[0]\n",
      "  [1]\n",
      "  [2]\n",
      "  [3]\n",
      "  [4]]\n",
      "\n",
      " [[0]\n",
      "  [0]\n",
      "  [0]\n",
      "  [0]\n",
      "  [0]]]\n"
     ]
    }
   ],
   "source": [
    "print(ssnew)"
   ]
  },
  {
   "cell_type": "code",
   "execution_count": 256,
   "metadata": {},
   "outputs": [
    {
     "name": "stdout",
     "output_type": "stream",
     "text": [
      "[[[[100 100 100 100 100]\n",
      "   [100 100 100 100 100]\n",
      "   [100 100 100 100 100]]]\n",
      "\n",
      "\n",
      " [[[100 100 100 100 100]\n",
      "   [100 100 100 100 100]\n",
      "   [100 100 100 100 100]]]] (2, 1, 3, 5, 1)\n",
      "(2, 1, 3, 5, 1)\n",
      "[1 9 3 4 5]\n",
      "[[[[[ 99]\n",
      "    [100]\n",
      "    [100]\n",
      "    [100]\n",
      "    [100]]\n",
      "\n",
      "   [[100]\n",
      "    [ 99]\n",
      "    [100]\n",
      "    [100]\n",
      "    [100]]\n",
      "\n",
      "   [[100]\n",
      "    [100]\n",
      "    [100]\n",
      "    [100]\n",
      "    [100]]]]\n",
      "\n",
      "\n",
      "\n",
      " [[[[100]\n",
      "    [100]\n",
      "    [100]\n",
      "    [100]\n",
      "    [100]]\n",
      "\n",
      "   [[100]\n",
      "    [100]\n",
      "    [ 99]\n",
      "    [100]\n",
      "    [100]]\n",
      "\n",
      "   [[100]\n",
      "    [100]\n",
      "    [100]\n",
      "    [ 99]\n",
      "    [ 99]]]]] (2, 1, 3, 5, 1)\n"
     ]
    },
    {
     "name": "stderr",
     "output_type": "stream",
     "text": [
      "/var/folders/r0/rzjvt8tn7lqbr892wvvnr0j40000gn/T/ipykernel_28871/70686756.py:8: FutureWarning: Using a non-tuple sequence for multidimensional indexing is deprecated; use `arr[tuple(seq)]` instead of `arr[seq]`. In the future this will be interpreted as an array index, `arr[np.array(seq)]`, which will result either in an error or a different result.\n",
      "  bgnumcop[[ssnew[0], ssnew[1], ssnew[2], ssnew[3], ssnew[4]]]-=1\n"
     ]
    }
   ],
   "source": [
    "r=0\n",
    "print(bgnum[...,r], bgnum.shape)\n",
    "print(hsamp.shape)\n",
    "print(hsamp[ssnew[0], ssnew[1], ssnew[2], \n",
    "        ssnew[3],ssnew[4]][...,r])\n",
    "bgnumcop = np.copy(bgnum)\n",
    "# bgnumcop[ssnew[0,:,:], ssnew[1,:,:], ssnew[2,:,:], ssnew[3,:,:]]=9\n",
    "bgnumcop[[ssnew[0], ssnew[1], ssnew[2], ssnew[3], ssnew[4]]]-=1\n",
    "print(bgnumcop, bgnumcop.shape)"
   ]
  },
  {
   "attachments": {},
   "cell_type": "markdown",
   "metadata": {},
   "source": [
    "# From ss_real_dev 3/10"
   ]
  },
  {
   "cell_type": "markdown",
   "metadata": {},
   "source": [
    "## Scratch"
   ]
  },
  {
   "cell_type": "markdown",
   "metadata": {},
   "source": [
    "grid:\n",
    "\n",
    "1x  |  xx  |  xx  |  xx  |  xx \\\n",
    "xx  |  9x  |  x3  |  xx  |  xx \\\n",
    "xx  |  xx  |  xx  |  x4  |  x5 "
   ]
  },
  {
   "cell_type": "code",
   "execution_count": null,
   "metadata": {},
   "outputs": [
    {
     "name": "stdout",
     "output_type": "stream",
     "text": [
      "(2, 1, 3, 5)\n",
      "mqz_f:\n",
      " [[0 0 1 1 1]\n",
      " [0 0 0 0 0]\n",
      " [0 1 1 2 2]]\n",
      "\n",
      "f_mqz:\n",
      " [[0 0 0]\n",
      " [0 0 1]\n",
      " [1 0 1]\n",
      " [1 0 2]\n",
      " [1 0 2]]\n",
      "\n",
      "all_f:\n",
      " [[0 0 1 1 1]\n",
      " [0 0 0 0 0]\n",
      " [0 1 1 2 2]\n",
      " [0 1 2 3 4]]\n",
      "\n",
      "f_all:\n",
      " [[0 0 0 0]\n",
      " [0 0 1 1]\n",
      " [1 0 1 2]\n",
      " [1 0 2 3]\n",
      " [1 0 2 4]]\n"
     ]
    }
   ],
   "source": [
    "grid = np.array([[[[1,0,0,0,0],[0,9,0,0,0],[0,0,0,0,0]]],\n",
    "                 [[[0,0,0,0,0],[0,0,3,0,0],[0,0,0,4,5]]]])\n",
    "print(grid.shape)\n",
    "mqz_f, f_mqz, all_f, f_all= max_index_at_f(grid)\n",
    "print('mqz_f:\\n',mqz_f)\n",
    "print('\\nf_mqz:\\n', f_mqz)\n",
    "print('\\nall_f:\\n', all_f)\n",
    "print('\\nf_all:\\n', f_all)"
   ]
  },
  {
   "cell_type": "code",
   "execution_count": null,
   "metadata": {},
   "outputs": [
    {
     "name": "stdout",
     "output_type": "stream",
     "text": [
      "[1 9 3 4 5]\n",
      "0 0 0 0 grid max: 1\n",
      "0 0 1 1 grid max: 9\n",
      "1 0 1 2 grid max: 3\n",
      "1 0 2 3 grid max: 4\n",
      "1 0 2 4 grid max: 5\n",
      "[[0 0 0 0]\n",
      " [0 0 1 1]\n",
      " [1 0 1 2]\n",
      " [1 0 2 3]\n",
      " [1 0 2 4]]\n"
     ]
    }
   ],
   "source": [
    "maxes = np.amax(grid, axis=(0,1,2))\n",
    "print(maxes)\n",
    "\n",
    "hsmax = np.amax(grid, axis=(0,1,2)) #find max hs at each frequency\n",
    "    \n",
    "    #### 2) Record the indices and strain of that single source\n",
    "\n",
    "# --- Indices of Loudest Bin ---\n",
    "# Shape [F, 4], looks like\n",
    "# [[m_idx,q_idx,z_idx,0],\n",
    "#  [m_idx,q_idx,z_idx,1],\n",
    "#   ........\n",
    "#  [m_idx,q_idx,z_idx,F-2]]\n",
    "ssidx = np.argwhere(grid==hsmax) \n",
    "for s in range(len(ssidx)):\n",
    "    m,q,z,f = ssidx[s]\n",
    "    print(m,q,z,f, 'grid max:',grid[m,q,z,f])\n",
    "print(ssidx)"
   ]
  },
  {
   "cell_type": "markdown",
   "metadata": {},
   "source": [
    "grid: argwhere vs where"
   ]
  },
  {
   "cell_type": "code",
   "execution_count": null,
   "metadata": {},
   "outputs": [
    {
     "name": "stdout",
     "output_type": "stream",
     "text": [
      "where:\n",
      " (array([0, 0, 1, 1, 1]), array([0, 0, 0, 0, 0]), array([0, 1, 1, 2, 2]), array([0, 1, 2, 3, 4]))\n",
      "np.where unpacked and put in numpy array\n",
      " [[0 0 1 1 1]\n",
      " [0 0 0 0 0]\n",
      " [0 1 1 2 2]\n",
      " [0 1 2 3 4]]\n",
      "argwhere:\n",
      " [[0 0 0 0]\n",
      " [0 0 1 1]\n",
      " [1 0 1 2]\n",
      " [1 0 2 3]\n",
      " [1 0 2 4]]\n",
      "first point [0 0 0 0] [0 0 0 0]\n",
      "f: by np.array[*where][:,f] [0 0 0 0] or by argwhere[f,:] [0 0 0 0]\n",
      "f: by np.array[*where][:,f] [0 0 1 1] or by argwhere[f,:] [0 0 1 1]\n",
      "f: by np.array[*where][:,f] [1 0 1 2] or by argwhere[f,:] [1 0 1 2]\n",
      "f: by np.array[*where][:,f] [1 0 2 3] or by argwhere[f,:] [1 0 2 3]\n",
      "f: by np.array[*where][:,f] [1 0 2 4] or by argwhere[f,:] [1 0 2 4]\n"
     ]
    }
   ],
   "source": [
    "where = np.where(grid==hsmax)\n",
    "where_arr = np.array([*where])\n",
    "argwhere = np.argwhere(grid==hsmax)\n",
    "print('where:\\n', where)\n",
    "print('np.where unpacked and put in numpy array\\n', where_arr)\n",
    "print('argwhere:\\n', argwhere)\n",
    "print('first point', argwhere[0,:], where_arr[:,0])\n",
    "for f in range(len(argwhere)):\n",
    "    print('f: by np.array[*where][:,f]', where_arr[:,f],  \n",
    "          'or by argwhere[f,:]', argwhere[f,:])"
   ]
  },
  {
   "cell_type": "markdown",
   "metadata": {},
   "source": [
    "grid: using reshape"
   ]
  },
  {
   "cell_type": "code",
   "execution_count": null,
   "metadata": {},
   "outputs": [
    {
     "name": "stdout",
     "output_type": "stream",
     "text": [
      "(2, 1, 3, 5)\n",
      "[[[[1 0 0 0 0]\n",
      "   [0 9 0 0 0]\n",
      "   [0 0 0 0 0]]]\n",
      "\n",
      "\n",
      " [[[0 0 0 0 0]\n",
      "   [0 0 3 0 0]\n",
      "   [0 0 0 4 5]]]]\n",
      "(6, 5)\n",
      "[[1 0 0 0 0]\n",
      " [0 9 0 0 0]\n",
      " [0 0 0 0 0]\n",
      " [0 0 0 0 0]\n",
      " [0 0 3 0 0]\n",
      " [0 0 0 4 5]]\n",
      "(2, 1, 3, 5)\n",
      "[[[[1 0 0 0 0]\n",
      "   [0 9 0 0 0]\n",
      "   [0 0 0 0 0]]]\n",
      "\n",
      "\n",
      " [[[0 0 0 0 0]\n",
      "   [0 0 3 0 0]\n",
      "   [0 0 0 4 5]]]]\n"
     ]
    }
   ],
   "source": [
    "shape = grid.shape\n",
    "print(shape)\n",
    "print(grid)\n",
    "grid = grid.reshape(6,5)\n",
    "print(grid.shape)\n",
    "print(grid)\n",
    "grid = grid.reshape(shape)\n",
    "print(grid.shape)\n",
    "print(grid)"
   ]
  },
  {
   "cell_type": "code",
   "execution_count": null,
   "metadata": {},
   "outputs": [
    {
     "name": "stdout",
     "output_type": "stream",
     "text": [
      "(2, 1, 3)\n",
      "grid: (6, 5) \n",
      " [[1 0 0 0 0]\n",
      " [0 9 0 0 0]\n",
      " [0 0 0 0 0]\n",
      " [0 0 0 0 0]\n",
      " [0 0 3 0 0]\n",
      " [0 0 0 4 5]]\n",
      "argmax0: (5,) [0 1 4 5 5]\n",
      "argmax[i]= 0 i= 0 grid[argmax[i], i]] = 1\n",
      "argmax[i]= 1 i= 1 grid[argmax[i], i]] = 9\n",
      "argmax[i]= 4 i= 2 grid[argmax[i], i]] = 3\n",
      "argmax[i]= 5 i= 3 grid[argmax[i], i]] = 4\n",
      "argmax[i]= 5 i= 4 grid[argmax[i], i]] = 5\n",
      "grid[argmax,:]\n",
      " [[1 0 0 0 0]\n",
      " [0 9 0 0 0]\n",
      " [0 0 3 0 0]\n",
      " [0 0 0 4 5]\n",
      " [0 0 0 4 5]]\n",
      "unraveled 3 (5,) (array([0, 0, 1, 1, 1]), array([0, 0, 0, 0, 0]), array([0, 1, 1, 2, 2]))\n",
      "unraveled[:,i] m,q,z,f =  0 0 0 0\n",
      "1\n",
      "unraveled[:,i] m,q,z,f =  0 0 1 1\n",
      "9\n",
      "unraveled[:,i] m,q,z,f =  1 0 1 2\n",
      "3\n",
      "unraveled[:,i] m,q,z,f =  1 0 2 3\n",
      "4\n",
      "unraveled[:,i] m,q,z,f =  1 0 2 4\n",
      "5\n"
     ]
    }
   ],
   "source": [
    "shape = (2,1,3,5)\n",
    "print(shape[:-1])\n",
    "grid = grid.reshape(shape)\n",
    "# print('grid:', grid.shape,'\\n', grid)\n",
    "grid = grid.reshape(6,5)\n",
    "print('grid:', grid.shape,'\\n', grid)\n",
    "# print('grid[4,2]', grid[4,2])\n",
    "\n",
    "argmax0 = np.argmax(grid,axis=0)\n",
    "# argmax1 = np.argmax(grid,axis=1)\n",
    "# unraveledargmax = np.unravel_index(argmax, grid.shape)\n",
    "print('argmax0:', argmax0.shape, argmax0)\n",
    "for i in range(len(grid[0])):\n",
    "    print('argmax[i]=',argmax0[i], \n",
    "          'i=', i, \n",
    "          'grid[argmax[i], i]] =', grid[argmax0[i], i])\n",
    "# print('argmax1:', argmax1.shape, argmax1)\n",
    "\n",
    "# print('unraveled:', unraveledargmax)\n",
    "# print('max at argmax:', grid[:,argmax])\n",
    "# argidx = np.unravel_index(argmax, grid.shape)\n",
    "print('grid[argmax,:]\\n', grid[argmax0,:])\n",
    "# print('grid[:,argmax]\\n', grid[:,argmax0])\n",
    "grid = grid.reshape(shape)\n",
    "unraveled = np.unravel_index(argmax0, shape[:-1])\n",
    "print('unraveled', len(unraveled), unraveled[0].shape, unraveled)\n",
    "for i in range(len(grid[0,0,0,:])):\n",
    "    m,q,z= unraveled[0][i], unraveled[1][i], unraveled[2][i] #, unraveled[3][i]\n",
    "    print('unraveled[:,i] m,q,z,f = ', m,q,z,i)\n",
    "    print(grid[m,q,z,i])\n",
    "    # print('argmax[i]=',argmax0[i], \n",
    "    #       'i=', i, \n",
    "    #       'grid[argmax[i], i]] =', grid[n,q,z, i])\n",
    "\n",
    "# print('grid:', grid.shape,'\\n', grid)\n",
    "\n"
   ]
  },
  {
   "cell_type": "markdown",
   "metadata": {},
   "source": [
    "figured out how to use my faster mqz indexing to get maxes from grid, with fancy indexing"
   ]
  },
  {
   "cell_type": "code",
   "execution_count": null,
   "metadata": {},
   "outputs": [
    {
     "name": "stdout",
     "output_type": "stream",
     "text": [
      "[[0 0 1 1 1]\n",
      " [0 0 0 0 0]\n",
      " [0 1 1 2 2]]\n",
      "f_indices [0 1 2 3 4]\n",
      "m,q,z,f 0 0 0 0\n",
      "grid[m,q,z,f] = 1\n",
      "m,q,z,f 0 0 1 1\n",
      "grid[m,q,z,f] = 9\n",
      "m,q,z,f 1 0 1 2\n",
      "grid[m,q,z,f] = 3\n",
      "m,q,z,f 1 0 2 3\n",
      "grid[m,q,z,f] = 4\n",
      "m,q,z,f 1 0 2 4\n",
      "grid[m,q,z,f] = 5\n",
      "mqzf (5, 4) \n",
      " [[0 0 0 0]\n",
      " [0 0 1 1]\n",
      " [1 0 1 2]\n",
      " [1 0 2 3]\n",
      " [1 0 2 4]]\n",
      "[[0 0 0 0]\n",
      " [0 0 1 1]\n",
      " [1 0 1 2]\n",
      " [1 0 2 3]\n",
      " [1 0 2 4]]\n"
     ]
    }
   ],
   "source": [
    "mqz = reshaped_argmax_at_f(grid)\n",
    "print(mqz)\n",
    "mqzf = mqzf_from_mqz(mqz, True)\n",
    "print(mqzf)"
   ]
  },
  {
   "cell_type": "code",
   "execution_count": null,
   "metadata": {},
   "outputs": [
    {
     "name": "stdout",
     "output_type": "stream",
     "text": [
      "faster: [[0 0 1 1 1]\n",
      " [0 0 0 0 0]\n",
      " [0 1 1 2 2]\n",
      " [0 1 2 3 4]]\n",
      "(2, 1, 3, 5)\n",
      "1st max at m,q,z,f = 0,0,0,0: 1\n",
      "2nd max at m,q,z,f = 0,0,1,1: 9\n",
      "3rd max at m,q,z,f = 1,0,1,2: 3\n",
      "4th max at m,q,z,f = 1,0,2,3: 4\n",
      "5th max at m,q,z,f = 1,0,2,4: 5\n",
      "[1 9 3 4 5]\n",
      "grid[fancy] = [1 9 3 4 5]\n",
      "fancy: ([0, 0, 1, 1, 1], [0, 0, 0, 0, 0], [0, 1, 1, 2, 2], [0, 1, 2, 3, 4])\n",
      "[1 9 3 4 5]\n"
     ]
    }
   ],
   "source": [
    "faster = faster_mqzf_from_mqz(mqz, False)\n",
    "print('faster:', faster)\n",
    "print(grid.shape)\n",
    "print('1st max at m,q,z,f = 0,0,0,0:', grid[0,0,0,0])\n",
    "print('2nd max at m,q,z,f = 0,0,1,1:', grid[0,0,1,1])\n",
    "print('3rd max at m,q,z,f = 1,0,1,2:', grid[1,0,1,2])\n",
    "print('4th max at m,q,z,f = 1,0,2,3:', grid[1,0,2,3])\n",
    "print('5th max at m,q,z,f = 1,0,2,4:', grid[1,0,2,4])\n",
    "print(grid[[0,0,1,1,1], [0,0,0,0,0], [0,1,1,2,2], [0,1,2,3,4]])\n",
    "fancy = [0,0,1,1,1], [0,0,0,0,0], [0,1,1,2,2], [0,1,2,3,4]\n",
    "print('grid[fancy] =',grid[fancy])\n",
    "print('fancy:', fancy)\n",
    "print(grid[faster[0], faster[1], faster[2], faster[3]]) # this gives maxes!!! \n",
    "\n",
    "# listed = (faster[0], faster[1], faster[2], faster[3])\n",
    "# print(listed)\n"
   ]
  },
  {
   "cell_type": "markdown",
   "metadata": {},
   "source": [
    "using reshaped argmax, and mqzf to mqz methods"
   ]
  },
  {
   "cell_type": "code",
   "execution_count": null,
   "metadata": {},
   "outputs": [
    {
     "name": "stdout",
     "output_type": "stream",
     "text": [
      "(3, 5)\n",
      "[[  1   2   3   4   5]\n",
      " [ 10  20  30  40  50]\n",
      " [100 200 300 400 500]\n",
      " [  0   1   2   3   4]]\n"
     ]
    }
   ],
   "source": [
    "# this is what mqz looks like\n",
    "# all [[M indices], [q indices], [z indices]] in shape (3,F)\n",
    "arr = np.array([[1,2,3,4,5], [10,20,30,40,50], [100,200,300,400,500]])\n",
    "print(np.array(arr).shape)\n",
    "# Here are the F indices\n",
    "indices = np.array([0,1,2,3,4])\n",
    "\n",
    "# I'd like to get this in the shape (4,F):\n",
    "# [array of M indices, array of q indices, array of z indices]\n",
    "newarr = np.append(arr,indices).reshape(4,len(indices))\n",
    "print(newarr)"
   ]
  },
  {
   "cell_type": "markdown",
   "metadata": {},
   "source": [
    "apply to example 3"
   ]
  },
  {
   "cell_type": "code",
   "execution_count": null,
   "metadata": {},
   "outputs": [
    {
     "ename": "ValueError",
     "evalue": "not enough values to unpack (expected 7, got 6)",
     "output_type": "error",
     "traceback": [
      "\u001b[0;31m---------------------------------------------------------------------------\u001b[0m\n",
      "\u001b[0;31mValueError\u001b[0m                                Traceback (most recent call last)\n",
      "Cell \u001b[0;32mIn[34], line 2\u001b[0m\n",
      "\u001b[1;32m      1\u001b[0m edges, number, fobs, exname \u001b[39m=\u001b[39m example2(print_test\u001b[39m=\u001b[39m\u001b[39mFalse\u001b[39;00m)\n",
      "\u001b[0;32m----> 2\u001b[0m hc_bg, hc_ss, hsamp, ssidx, hsmax, bgnum, ssnew \u001b[39m=\u001b[39m ss_by_ndars(edges, number, realize\u001b[39m=\u001b[39m\u001b[39mFalse\u001b[39;00m, \u001b[39mround\u001b[39m\u001b[39m=\u001b[39m\u001b[39mTrue\u001b[39;00m)\n",
      "\u001b[1;32m      3\u001b[0m \u001b[39m# print(holo.utils.stats(hsamp))\u001b[39;00m\n",
      "\u001b[1;32m      4\u001b[0m np\u001b[39m.\u001b[39mset_printoptions(precision\u001b[39m=\u001b[39m\u001b[39m2\u001b[39m)\n",
      "\n",
      "\u001b[0;31mValueError\u001b[0m: not enough values to unpack (expected 7, got 6)"
     ]
    }
   ],
   "source": [
    "edges, number, fobs, exname = example2(print_test=False)\n",
    "hc_bg, hc_ss, hsamp, ssidx, hsmax, bgnum, ssnew = ss_by_ndars(edges, number, realize=False, round=True)\n",
    "# print(holo.utils.stats(hsamp))\n",
    "np.set_printoptions(precision=2)\n",
    "print('hsamp\\n', hsamp)\n",
    "print('hsmax', hsmax)\n",
    "shape = hsamp.shape\n",
    "\n"
   ]
  },
  {
   "cell_type": "code",
   "execution_count": null,
   "metadata": {},
   "outputs": [
    {
     "name": "stdout",
     "output_type": "stream",
     "text": [
      "old hsamp (2, 1, 3, 5, 2) \n",
      " [[[[[0.00000000e+00 0.00000000e+00]\n",
      "    [0.00000000e+00 0.00000000e+00]\n",
      "    [0.00000000e+00 0.00000000e+00]\n",
      "    [0.00000000e+00 0.00000000e+00]\n",
      "    [0.00000000e+00 0.00000000e+00]]\n",
      "\n",
      "   [[3.04824418e-20 3.04824418e-20]\n",
      "    [4.83878602e-20 4.83878602e-20]\n",
      "    [6.34060341e-20 6.34060341e-20]\n",
      "    [7.68109401e-20 7.68109401e-20]\n",
      "    [9.20780165e-20 9.20780165e-20]]\n",
      "\n",
      "   [[4.45214787e-21 4.45214787e-21]\n",
      "    [7.06734422e-21 7.06734422e-21]\n",
      "    [9.26084077e-21 9.26084077e-21]\n",
      "    [1.12187096e-20 1.12187096e-20]\n",
      "    [1.34485599e-20 1.34485599e-20]]]]\n",
      "\n",
      "\n",
      "\n",
      " [[[[0.00000000e+00 0.00000000e+00]\n",
      "    [0.00000000e+00 0.00000000e+00]\n",
      "    [0.00000000e+00 0.00000000e+00]\n",
      "    [0.00000000e+00 0.00000000e+00]\n",
      "    [0.00000000e+00 0.00000000e+00]]\n",
      "\n",
      "   [[1.41486961e-18 1.41486961e-18]\n",
      "    [2.24596551e-18 2.24596551e-18]\n",
      "    [2.94304740e-18 2.94304740e-18]\n",
      "    [3.56524802e-18 3.56524802e-18]\n",
      "    [4.27388293e-18 4.27388293e-18]]\n",
      "\n",
      "   [[2.06650399e-19 2.06650399e-19]\n",
      "    [3.28037060e-19 3.28037060e-19]\n",
      "    [4.29850151e-19 4.29850151e-19]\n",
      "    [5.20726374e-19 5.20726374e-19]\n",
      "    [6.24226856e-19 6.24226856e-19]]]]]\n"
     ]
    },
    {
     "ename": "ValueError",
     "evalue": "cannot reshape array of size 60 into shape (6,5)",
     "output_type": "error",
     "traceback": [
      "\u001b[0;31m---------------------------------------------------------------------------\u001b[0m\n",
      "\u001b[0;31mValueError\u001b[0m                                Traceback (most recent call last)\n",
      "\u001b[1;32m/Users/emigardiner/GWs/holodeck/ecg-notebooks/single_sources/ss-dev/ss_reals_dev.ipynb Cell 74\u001b[0m in \u001b[0;36m<cell line: 4>\u001b[0;34m()\u001b[0m\n",
      "\u001b[1;32m      <a href='vscode-notebook-cell:/Users/emigardiner/GWs/holodeck/ecg-notebooks/single_sources/ss-dev/ss_reals_dev.ipynb#Y105sZmlsZQ%3D%3D?line=0'>1</a>\u001b[0m \u001b[39mprint\u001b[39m(\u001b[39m'\u001b[39m\u001b[39mold hsamp\u001b[39m\u001b[39m'\u001b[39m, hsamp\u001b[39m.\u001b[39mshape, \u001b[39m'\u001b[39m\u001b[39m\\n\u001b[39;00m\u001b[39m'\u001b[39m, hsamp)\n",
      "\u001b[1;32m      <a href='vscode-notebook-cell:/Users/emigardiner/GWs/holodeck/ecg-notebooks/single_sources/ss-dev/ss_reals_dev.ipynb#Y105sZmlsZQ%3D%3D?line=2'>3</a>\u001b[0m newshape \u001b[39m=\u001b[39m (shape[\u001b[39m0\u001b[39m]\u001b[39m*\u001b[39mshape[\u001b[39m1\u001b[39m]\u001b[39m*\u001b[39mshape[\u001b[39m2\u001b[39m], shape[\u001b[39m3\u001b[39m])\n",
      "\u001b[0;32m----> <a href='vscode-notebook-cell:/Users/emigardiner/GWs/holodeck/ecg-notebooks/single_sources/ss-dev/ss_reals_dev.ipynb#Y105sZmlsZQ%3D%3D?line=3'>4</a>\u001b[0m hsamp \u001b[39m=\u001b[39m hsamp\u001b[39m.\u001b[39;49mreshape(newshape)\n",
      "\u001b[1;32m      <a href='vscode-notebook-cell:/Users/emigardiner/GWs/holodeck/ecg-notebooks/single_sources/ss-dev/ss_reals_dev.ipynb#Y105sZmlsZQ%3D%3D?line=4'>5</a>\u001b[0m \u001b[39mprint\u001b[39m(\u001b[39m'\u001b[39m\u001b[39mnew hsamp\u001b[39m\u001b[39m'\u001b[39m, hsamp\u001b[39m.\u001b[39mshape, \u001b[39m'\u001b[39m\u001b[39m\\n\u001b[39;00m\u001b[39m'\u001b[39m, hsamp)\n",
      "\u001b[1;32m      <a href='vscode-notebook-cell:/Users/emigardiner/GWs/holodeck/ecg-notebooks/single_sources/ss-dev/ss_reals_dev.ipynb#Y105sZmlsZQ%3D%3D?line=5'>6</a>\u001b[0m argmax \u001b[39m=\u001b[39m np\u001b[39m.\u001b[39margmax(hsamp, axis\u001b[39m=\u001b[39m\u001b[39m0\u001b[39m)\n",
      "\n",
      "\u001b[0;31mValueError\u001b[0m: cannot reshape array of size 60 into shape (6,5)"
     ]
    }
   ],
   "source": [
    "print('old hsamp', hsamp.shape, '\\n', hsamp)\n",
    "\n",
    "newshape = (shape[0]*shape[1]*shape[2], shape[3])\n",
    "hsamp = hsamp.reshape(newshape)\n",
    "print('new hsamp', hsamp.shape, '\\n', hsamp)\n",
    "argmax = np.argmax(hsamp, axis=0)\n",
    "print('argmax', argmax)\n",
    "\n",
    "\n",
    "hsamp = hsamp.reshape(shape)\n",
    "print('m,q,z shape:', shape[:-1])\n",
    "maxidx = np.unravel_index(argmax, shape[:-1])\n",
    "\n",
    "for i in range(len(hsamp[0,0,0,:])):\n",
    "    m,q,z= maxidx[0][i], maxidx[1][i], maxidx[2][i] #, unraveled[3][i]\n",
    "    print('unraveled[:,i] m,q,z,f = ', m,q,z,i)\n",
    "    print(hsamp[m,q,z,i], hsmax[i])\n"
   ]
  },
  {
   "cell_type": "code",
   "execution_count": null,
   "metadata": {},
   "outputs": [],
   "source": [
    "# am = (np.argmax(hsamp[3,3,:,4]))\n",
    "# print(hsamp[3,3,:,4])\n",
    "# print(hsamp[3,3,am,4])"
   ]
  },
  {
   "cell_type": "code",
   "execution_count": null,
   "metadata": {},
   "outputs": [],
   "source": [
    "# mqz_f, f_mqz, all_f, f_all= max_index_at_f(grid)\n",
    "# argwhere = argwhere_at_f(grid)\n",
    "# print(argwhere)\n",
    "# assert (np.all(f_all == argwhere)), 'argwhere failing to find maxes'"
   ]
  },
  {
   "cell_type": "code",
   "execution_count": null,
   "metadata": {},
   "outputs": [],
   "source": [
    "# for i in range(len(grid[0,0,0,:])):\n",
    "#     m,q,z,f = argwhere[i]\n",
    "#     print(m,q,z,f, 'max:', grid[m,q,z,f])"
   ]
  },
  {
   "cell_type": "code",
   "execution_count": null,
   "metadata": {},
   "outputs": [],
   "source": [
    "# grid = np.array([[[[1,0,0,0,0],[0,2,0,0,0],[0,0,0,0,0]]],\n",
    "#                  [[[0,0,0,0,0],[0,0,3,0,0],[0,0,0,4,5]]]])\n",
    "# maxes = np.max(grid, axis=(0,1,2))\n",
    "# # print('grid:', grid.shape, '\\n', grid)\n",
    "# # print('maxes', maxes.shape, '\\n', maxes)\n",
    "# where = np.where(grid==maxes)\n",
    "# print('where: len=', len(where), 'with shapes=', where[0].shape, where[1].shape, where[2].shape,\n",
    "#       where[3].shape, '\\n', where)\n",
    "# print('max by where:', grid[np.where(maxes==grid)])\n",
    "# print()\n",
    "# argmax = np.argmax(grid)\n",
    "# m,q,z,f = np.unravel_index(np.argmax(grid), grid.shape)\n",
    "# print('m:',m, '\\nq:',q, '\\nz:',z, '\\nf:',f)\n",
    "# print('argmaxes:', argmax.shape, '\\n', argmax)"
   ]
  },
  {
   "cell_type": "code",
   "execution_count": null,
   "metadata": {},
   "outputs": [],
   "source": [
    "# idxs = np.argwhere(arr==maxes)\n",
    "# print('idxs', idxs.shape,'\\n', idxs)\n",
    "# rots = np.rot90(idxs)\n",
    "# print('rots', rots.shape, '\\n', rots)\n",
    "# print(idxs[0])\n",
    "# for i in [0,1]:\n",
    "#     print(arr[idxs[i,0], idxs[i,1], idxs[i,2]])\n",
    "# for i in [0,1]:\n",
    "#     # print(arr[rots[0,i], rots[1,i], rots[2,i]])\n",
    "#     print(arr[rots[2,i], rots[1,i], rots[0,i]])\n",
    "# # the rot situation is trickier, just use\n",
    "# # idxs = np.argwhere(arr==maxes)\n",
    "# # returns (2,3) array\n",
    "# # or (f, 4) array?\n"
   ]
  },
  {
   "attachments": {},
   "cell_type": "markdown",
   "metadata": {},
   "source": [
    "# Cython\n"
   ]
  },
  {
   "cell_type": "code",
   "execution_count": 1,
   "metadata": {},
   "outputs": [
    {
     "data": {
      "text/plain": [
       "<module 'holodeck.single_sources' from '/Users/emigardiner/GWs/holodeck/holodeck/single_sources.py'>"
      ]
     },
     "execution_count": 1,
     "metadata": {},
     "output_type": "execute_result"
    }
   ],
   "source": [
    "# %load ../init.ipy\n",
    "%reload_ext autoreload\n",
    "%autoreload 2\n",
    "from importlib import reload\n",
    "\n",
    "import holodeck as holo\n",
    "import holodeck.single_sources as ss\n",
    "import holodeck.cyutils as cy\n",
    "\n",
    "reload(cy) # not working :/\n",
    "reload(ss)"
   ]
  },
  {
   "cell_type": "markdown",
   "metadata": {},
   "source": [
    "Using SS's"
   ]
  },
  {
   "cell_type": "code",
   "execution_count": 2,
   "metadata": {},
   "outputs": [
    {
     "name": "stdout",
     "output_type": "stream",
     "text": [
      "13:30:01 INFO : zero_coalesced=True, zero_stalled=False [sam.py:dynamic_binary_number]\n",
      "13:30:01 INFO : Stalled SAM bins based on GMT: 1.20e+01/2.40e+01 = 5.00e-01 [sam.py:static_binary_density]\n",
      "13:30:01 INFO : Adding MMbulge scatter (3.4000e-01) [sam.py:static_binary_density]\n",
      "13:30:01 INFO : \tdens bef: (1.79e-03, 1.94e-03, 4.00e-03, 7.66e-03, 1.48e-02, 1.53e-02, 1.54e-02) [sam.py:static_binary_density]\n",
      "13:30:01 INFO : Scatter added after 0.002437 sec [sam.py:static_binary_density]\n",
      "13:30:01 INFO : \tdens aft: (2.07e-03, 2.12e-03, 4.31e-03, 7.29e-03, 1.38e-02, 1.46e-02, 1.46e-02) [sam.py:static_binary_density]\n",
      "13:30:01 INFO : \tmass: 1.21e-02 ==> 1.20e-02 || change = -9.0094e-03 [sam.py:static_binary_density]\n",
      "13:30:01 INFO : zeroing out 1.20e+01/2.40e+01 = 5.00e-01 systems stalled from GMT [sam.py:static_binary_density]\n",
      "13:30:01 INFO : fraction of coalesced binaries: 0.00e+00/1.20e+02 = 0.00e+00 [sam.py:dynamic_binary_number]\n",
      "13:30:01 WARNING : WARNING: _stalled_ binaries are not being accounted for in `dynamic_binary_number`! [sam.py:dynamic_binary_number]\n"
     ]
    }
   ],
   "source": [
    "edges, number, fobs, exname = ss.example2(print_test=False)\n",
    "h2fdf = ss.h2fdf(edges)"
   ]
  },
  {
   "cell_type": "code",
   "execution_count": 3,
   "metadata": {},
   "outputs": [
    {
     "name": "stdout",
     "output_type": "stream",
     "text": [
      "[[2.00185603e-36 2.00185603e-36]\n",
      " [1.00887222e-35 1.00887222e-35]\n",
      " [2.59845839e-35 2.59845839e-35]\n",
      " [5.08439738e-35 5.08439738e-35]\n",
      " [8.66611127e-35 8.66611127e-35]] [[8.41801361e-31 8.41881442e-31]\n",
      " [3.11013465e-31 3.12286731e-31]\n",
      " [1.78109026e-31 1.81235363e-31]\n",
      " [1.22007831e-31 1.21111094e-31]\n",
      " [8.86345056e-32 9.06408785e-32]] [[[1 1]\n",
      "  [1 1]\n",
      "  [1 1]\n",
      "  [1 1]\n",
      "  [1 1]]\n",
      "\n",
      " [[0 0]\n",
      "  [0 0]\n",
      "  [0 0]\n",
      "  [0 0]\n",
      "  [0 0]]\n",
      "\n",
      " [[1 1]\n",
      "  [1 1]\n",
      "  [1 1]\n",
      "  [1 1]\n",
      "  [1 1]]]\n"
     ]
    }
   ],
   "source": [
    "hc_ss, hc_bg, ssidx = cy.ss_bg_hc(number, h2fdf, 2)"
   ]
  },
  {
   "attachments": {},
   "cell_type": "markdown",
   "metadata": {},
   "source": [
    "Basic Tests"
   ]
  },
  {
   "cell_type": "code",
   "execution_count": 2,
   "metadata": {},
   "outputs": [
    {
     "name": "stdout",
     "output_type": "stream",
     "text": [
      "[2 2 2 2 2]\n"
     ]
    },
    {
     "data": {
      "text/plain": [
       "array([2, 2, 2, 2, 2])"
      ]
     },
     "execution_count": 2,
     "metadata": {},
     "output_type": "execute_result"
    }
   ],
   "source": [
    "cy.test_long_array(5)"
   ]
  },
  {
   "cell_type": "code",
   "execution_count": 2,
   "metadata": {},
   "outputs": [
    {
     "name": "stdout",
     "output_type": "stream",
     "text": [
      "[[0. 0. 0.]\n",
      " [0. 0. 0.]] [[0. 0. 0.]\n",
      " [0. 0. 0.]]\n",
      "[[1. 1. 0.]\n",
      " [1. 1. 0.]] [[2. 2. 0.]\n",
      " [2. 2. 0.]]\n"
     ]
    }
   ],
   "source": [
    "arr1, arr2 = cy.test_multiple_arrays()"
   ]
  },
  {
   "cell_type": "code",
   "execution_count": 2,
   "metadata": {},
   "outputs": [
    {
     "name": "stdout",
     "output_type": "stream",
     "text": [
      "[[0. 0. 0.]\n",
      " [0. 0. 0.]]\n",
      "[[6.2 6.2 6.2]\n",
      " [6.2 6.2 6.2]]\n"
     ]
    }
   ],
   "source": [
    "arr = cy.test_2darray()"
   ]
  },
  {
   "cell_type": "code",
   "execution_count": 4,
   "metadata": {},
   "outputs": [
    {
     "name": "stdout",
     "output_type": "stream",
     "text": [
      "[0. 0. 0. 0. 0.]\n",
      "[5. 5. 5. 5. 5.]\n",
      "[5. 5. 5. 5. 5.]\n"
     ]
    }
   ],
   "source": [
    "arr = cy.test_1darray()\n",
    "print(arr)"
   ]
  },
  {
   "cell_type": "code",
   "execution_count": null,
   "metadata": {},
   "outputs": [],
   "source": []
  }
 ],
 "metadata": {
  "kernelspec": {
   "display_name": "base",
   "language": "python",
   "name": "python3"
  },
  "language_info": {
   "codemirror_mode": {
    "name": "ipython",
    "version": 3
   },
   "file_extension": ".py",
   "mimetype": "text/x-python",
   "name": "python",
   "nbconvert_exporter": "python",
   "pygments_lexer": "ipython3",
   "version": "3.10.9"
  },
  "orig_nbformat": 4
 },
 "nbformat": 4,
 "nbformat_minor": 2
}
