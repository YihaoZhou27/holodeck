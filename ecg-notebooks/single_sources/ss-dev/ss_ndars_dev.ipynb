{
 "cells": [
  {
   "cell_type": "code",
   "execution_count": 1,
   "metadata": {},
   "outputs": [],
   "source": [
    "# MOD per system\n",
    "import sys\n",
    "sys.path.append('C:/Users/emiga/OneDrive/Cal/GWs/code/holodeck') \n",
    "\n",
    "\n",
    "# %load ../init.ipy\n",
    "%reload_ext autoreload\n",
    "%autoreload 2\n",
    "from importlib import reload\n",
    "\n",
    "import os\n",
    "import sys\n",
    "import logging\n",
    "import warnings\n",
    "import numpy as np\n",
    "import astropy as ap\n",
    "import scipy as sp\n",
    "import scipy.stats\n",
    "import matplotlib as mpl\n",
    "import matplotlib.pyplot as plt\n",
    "\n",
    "import h5py\n",
    "import tqdm.notebook as tqdm\n",
    "\n",
    "import kalepy as kale\n",
    "import kalepy.utils\n",
    "import kalepy.plot\n",
    "\n",
    "import holodeck as holo\n",
    "import holodeck.sam\n",
    "from holodeck import cosmo, utils, plot\n",
    "from holodeck.constants import MSOL, PC, YR, MPC, GYR\n",
    "\n",
    "# Silence annoying numpy errors\n",
    "np.seterr(divide='ignore', invalid='ignore', over='ignore')\n",
    "warnings.filterwarnings(\"ignore\", category=UserWarning)\n",
    "\n",
    "# Plotting settings\n",
    "mpl.rc('font', **{'family': 'serif', 'sans-serif': ['Times'], 'size': 15})\n",
    "mpl.rc('lines', solid_capstyle='round')\n",
    "mpl.rc('mathtext', fontset='cm')\n",
    "mpl.style.use('default')   # avoid dark backgrounds from dark theme vscode\n",
    "plt.rcParams.update({'grid.alpha': 0.5})\n",
    "\n",
    "log = holo.log\n",
    "log.setLevel(logging.INFO)"
   ]
  },
  {
   "cell_type": "markdown",
   "metadata": {},
   "source": [
    "# 1 Functions"
   ]
  },
  {
   "attachments": {},
   "cell_type": "markdown",
   "metadata": {},
   "source": [
    "## 1.1 Make Examples\n",
    "1) Choose the frequency bins at which to calculate the GWB, same as in semi-analytic-models.ipynb\n",
    "2) Build Semi-Analytic-Model with super simple parameters \n",
    "3) Get SAM edges and numbers as in sam.gwb()"
   ]
  },
  {
   "cell_type": "code",
   "execution_count": 38,
   "metadata": {},
   "outputs": [],
   "source": [
    "def example(dur, cad, mtot, mrat, redz, print_test):\n",
    "    ''' \n",
    "    1) Choose the frequency bins at which to calculate the GWB, same as in semi-analytic-models.ipynb\n",
    "    2) Build Semi-Analytic-Model with super simple parameters \n",
    "    3) Get SAM edges and numbers as in sam.gwb()\n",
    "\n",
    "    Parameters\n",
    "    ----------\n",
    "    dur : \n",
    "    cad :\n",
    "    mtot :\n",
    "    mrat :\n",
    "    redz : \n",
    "    print_test :\n",
    "\n",
    "    Returns\n",
    "    -------\n",
    "    edges : (4,) list of 1darrays\n",
    "        A list containing the edges along each dimension.  The four dimensions correspond to\n",
    "        total mass, mass ratio, redshift, and observer-frame orbital frequency.\n",
    "        The length of each of the four arrays is M, Q, Z, F.\n",
    "    number : (M-a, Q-1, Z-1, F-1) array\n",
    "        The number of binaries in each bin of parameter space.  This is calculated by integrating\n",
    "        `dnum` over each bin.\n",
    "    fobs : (F-1) array\n",
    "        observed frequency bin centers\n",
    "    '''\n",
    "    # 1) Choose the frequency bins at which to calculate the GWB, same as in semi-analytic-models.ipynb\n",
    "    fobs = utils.nyquist_freqs(dur,cad)\n",
    "    fobs_edges = utils.nyquist_freqs_edges(dur,cad)\n",
    "    if(print_test):\n",
    "        print(f\"Number of frequency bins: {fobs.size-1}\")\n",
    "        print(f\"  between [{fobs[0]*YR:.2f}, {fobs[-1]*YR:.2f}] 1/yr\")\n",
    "        print(f\"          [{fobs[0]*1e9:.2f}, {fobs[-1]*1e9:.2f}] nHz\")\n",
    "\n",
    "    # 2) Build Semi-Analytic-Model with super simple parameters \n",
    "    if(mtot==None or mrat==None or redz==None):\n",
    "        print('using default mtot, mrat, and redz')\n",
    "        sam = holo.sam.Semi_Analytic_Model()\n",
    "    else:\n",
    "        sam = holo.sam.Semi_Analytic_Model(mtot, mrat, redz)\n",
    "    if(print_test):\n",
    "        print('edges:', sam.edges)\n",
    "    # get observed orbital frequency bin edges and centers \n",
    "    # from observed GW frequency bin edges\n",
    "    fobs_orb_edges = fobs_edges / 2.0 # f_orb = f_GW/2\n",
    "    fobs_orb_cents = kale.utils.midpoints(fobs_edges) / 2.0\n",
    "\n",
    "    # 3) Get SAM edges and numbers as in sam.gwb()\n",
    "    # dynamic_binary_number\n",
    "    # gets differential number of binaries per bin-vol per log freq interval\n",
    "    edges, dnum = sam.dynamic_binary_number(holo.hardening.Hard_GW, fobs_orb=fobs_orb_cents)\n",
    "    edges[-1] = fobs_orb_edges\n",
    "\n",
    "    # integrate (multiply by bin volume) within each bin\n",
    "    number = utils._integrate_grid_differential_number(edges, dnum, freq=False)\n",
    "    number = number * np.diff(np.log(fobs_edges))\n",
    "\n",
    "    return edges, number, fobs"
   ]
  },
  {
   "attachments": {},
   "cell_type": "markdown",
   "metadata": {},
   "source": [
    "Example 2"
   ]
  },
  {
   "cell_type": "code",
   "execution_count": 39,
   "metadata": {},
   "outputs": [],
   "source": [
    "def example2(print_test = True, exname='Example 2'):\n",
    "    ''' \n",
    "    Parameters\n",
    "    ---------\n",
    "    print_test : Bool\n",
    "        Whether to print frequencies and edges\n",
    "\n",
    "\n",
    "    Returns\n",
    "    ---------\n",
    "    edges : (M,Q,Z,F) array\n",
    "    number : (M-a, Q-1, Z-1, F-1) array\n",
    "    fobs : (F-1) array\n",
    "        observed frequency bin centers\n",
    "    '''\n",
    "    \n",
    "    dur = 5.0*YR/3.1557600\n",
    "    cad = .5*YR/3.1557600\n",
    "    \n",
    "    mtot=(1.0e6*MSOL/1.988409870698051, 1.0e8*MSOL/1.988409870698051, 3)\n",
    "    mrat=(1e-1, 1.0, 2)\n",
    "    redz=(1e-3, 1.0, 4)\n",
    "    \n",
    "    edges, number, fobs = example(dur, cad, mtot, mrat, redz, print_test)\n",
    "    return edges, number, fobs, exname"
   ]
  },
  {
   "attachments": {},
   "cell_type": "markdown",
   "metadata": {},
   "source": [
    "Example 3"
   ]
  },
  {
   "cell_type": "code",
   "execution_count": 40,
   "metadata": {},
   "outputs": [],
   "source": [
    "def example3(print_test = True, exname = 'Example 3'):\n",
    "    ''' \n",
    "    Parameters\n",
    "    ---------\n",
    "    print_test : Bool\n",
    "        Whether to print frequencies and edges\n",
    "\n",
    "\n",
    "    Returns\n",
    "    ---------\n",
    "    edges : (M,Q,Z,F) array\n",
    "    number : (M-a, Q-1, Z-1, F-1) array\n",
    "    fobs : (F-1) array\n",
    "        observed frequency bin centers\n",
    "    '''\n",
    "    dur = 5.0*YR/3.1557600\n",
    "    cad = .5*YR/3.1557600\n",
    "    \n",
    "\n",
    "    mtot=(1.0e6*MSOL/1.988409870698051, 4.0e9*MSOL, 25)\n",
    "    mrat=(1e-1, 1.0, 25)\n",
    "    redz=(1e-3, 10.0, 25)\n",
    "\n",
    "    edges, number, fobs = example(dur, cad, mtot, mrat, redz, print_test)\n",
    "    return edges, number, fobs, exname"
   ]
  },
  {
   "attachments": {},
   "cell_type": "markdown",
   "metadata": {},
   "source": [
    "Example 4"
   ]
  },
  {
   "cell_type": "code",
   "execution_count": 41,
   "metadata": {},
   "outputs": [],
   "source": [
    "def example4(print_test = True, exname = 'Example 4'):\n",
    "    ''' \n",
    "    Parameters\n",
    "    ---------\n",
    "    print_test : Bool\n",
    "        Whether to print frequencies and edges\n",
    "\n",
    "\n",
    "    Returns\n",
    "    ---------\n",
    "    edges : (M,Q,Z,F) array\n",
    "    number : (M-a, Q-1, Z-1, F-1) array\n",
    "    fobs : (F-1) array\n",
    "        observed frequency bin centers\n",
    "    '''\n",
    "    dur = 5.0*YR/3.1557600\n",
    "    cad = .2*YR/3.1557600\n",
    "\n",
    "    mtot=(1.0e6*MSOL/1.988409870698051, (4.0e11*MSOL).astype(np.float64), 25)\n",
    "    mrat=(1e-1, 1.0, 25)\n",
    "    redz=(1e-3, 10.0, 25)\n",
    "    \n",
    "    edges, number, fobs = example(dur, cad, mtot, mrat, redz, print_test)\n",
    "    return edges, number, fobs, exname"
   ]
  },
  {
   "attachments": {},
   "cell_type": "markdown",
   "metadata": {},
   "source": [
    "Example 5 (same as in semi-analytic-models.ipynb)"
   ]
  },
  {
   "cell_type": "code",
   "execution_count": 42,
   "metadata": {},
   "outputs": [],
   "source": [
    "def example5(print_test = True, exname = 'Example 5'):\n",
    "    ''' \n",
    "    Parameters\n",
    "    ---------\n",
    "    print_test : Bool\n",
    "        Whether to print frequencies and edges\n",
    "\n",
    "\n",
    "    Returns\n",
    "    ---------\n",
    "    edges : (M,Q,Z,F) array\n",
    "    number : (M-a, Q-1, Z-1, F-1) array\n",
    "    fobs : (F-1) array\n",
    "        observed frequency bin centers\n",
    "    '''\n",
    "    dur = 10.0*YR\n",
    "    cad = .2*YR\n",
    "\n",
    "    # default mtot, mrat, redz\n",
    "    \n",
    "    edges, number, fobs = example(dur, cad, mtot=None, mrat=None, redz=None, \n",
    "                                  print_test=print_test)\n",
    "    return edges, number, fobs, exname"
   ]
  },
  {
   "attachments": {},
   "cell_type": "markdown",
   "metadata": {},
   "source": [
    "## 1.2 SS Calculations\n",
    "Contains: \n",
    "- ss_gws_by_loops\n",
    "- gws_by_ndars (same purpose as gravwaves._gws_from_number_grid_integrated())\n",
    "- ss_gws_by_ndars\n",
    "- subtraction_from_number method (no longer needed)\n",
    "Could add:\n",
    "- get sspar from edges and ssidx (instead of calculating and returning sspar)\n",
    "- get bgnum from number and ssidx (instead of ss methods returning bgnum)\n"
   ]
  },
  {
   "attachments": {},
   "cell_type": "markdown",
   "metadata": {},
   "source": [
    "ss_gws_by_loops \\\n",
    "rounds loops first"
   ]
  },
  {
   "cell_type": "code",
   "execution_count": 6,
   "metadata": {},
   "outputs": [],
   "source": [
    "def ss_gws_by_loops(edges, number, realize=False, round=True, ss=True, \n",
    "                    sum=True, print_test = False):\n",
    "       \n",
    "    \"\"\" Inefficient way to calculate strain from numbered \n",
    "    grid integrated\n",
    "\n",
    "    Parameters\n",
    "    ----------\n",
    "    edges : (4,) list of 1darrays\n",
    "        A list containing the edges along each dimension.  The four dimensions correspond to\n",
    "        total mass, mass ratio, redshift, and observer-frame orbital frequency.\n",
    "        The length of each of the four arrays is M, Q, Z, F.\n",
    "    number : (M-1, Q-1, Z-1, F-1) ndarray\n",
    "        The number of binaries in each bin of parameter space.  This is calculated by integrating\n",
    "        `dnum` over each bin.\n",
    "    realize : bool or int,\n",
    "        Specification of how to construct one or more discrete realizations.\n",
    "        If a `bool` value, then whether or not to construct a realization.\n",
    "        If a `int` value, then how many discrete realizations to construct.\n",
    "    round : bool\n",
    "        Specification of whether to discretize the sample if realize is False, \n",
    "        by rounding number of binaries in each bin to integers. \n",
    "    ss : bool \n",
    "        Whether or not to separate the loudest single source in each frequency bin.\n",
    "    sum : bool\n",
    "        Whether or not to sum the strain at a given frequency over all bins.\n",
    "    print_test : bool\n",
    "        Whether or not to print variable as they are calculated, for dev purposes.\n",
    "\n",
    "\n",
    "    Returns\n",
    "    -------\n",
    "    hc_bg : ndarray\n",
    "        Characteristic strain of the GWB.\n",
    "        The shape depends on whether realize is an integer or not\n",
    "        realize = True or False, sum = False: shape is (M-1, Q-1, Z-1, F-1)\n",
    "        realize = True or False, sum = True: shape is (F-1)\n",
    "        realize = R, sum = False: shape is  (M-1, Q-1, Z-1, F-1, R)\n",
    "        realize = R, sum = True: shape is  (F-1, R)\n",
    "    hc_ss : (F-1) array\n",
    "        The characteristic strain of the loudest single source at each frequency.\n",
    "    sspar : (F-1, 3) 2darray or None\n",
    "        The parameters (M, q, and z) of the loudest single source at each frequency.\n",
    "        None if ss = False. \n",
    "    ssidx : (F-1, 3) 2darray or None\n",
    "        The indices (m_idx, q_idx, and z_idx) of the parameters of the loudest single\n",
    "        source's bin, at each frequency.    \n",
    "        None if ss = False. \n",
    "    maxhs : (F-1) array or None\n",
    "        The maximum single source strain amplitude at each frequency.\n",
    "        None if ss = False. \n",
    "    bgnum : (M-1, Q-1, Z-1, F-1) \n",
    "        The number of binaries in each bin after the loudest single source\n",
    "        at each frequency is subtracted out.\n",
    "\n",
    "    \"\"\"\n",
    "    if(print_test):\n",
    "        print('INPUTS: edges:', len(edges), '\\n', edges, \n",
    "        '\\nINPUTS:number:', number.shape, '\\n', number,'\\n')\n",
    "\n",
    "    # Frequency bin midpoints\n",
    "    foo = edges[-1]                   #: should be observer-frame orbital-frequencies\n",
    "    df = np.diff(foo)                 #: frequency bin widths\n",
    "    fc = kale.utils.midpoints(foo)    #: use frequency-bin centers for strain (more accurate!)\n",
    "\n",
    "    # All other bin midpoints\n",
    "    mt = kale.utils.midpoints(edges[0]) #: total mass\n",
    "    mr = kale.utils.midpoints(edges[1]) #: mass ratio\n",
    "    rz = kale.utils.midpoints(edges[2]) #: redshift\n",
    "\n",
    "    \n",
    "    # GW background characteristic strain\n",
    "    hc_bg = np.empty_like(number)\n",
    "\n",
    "    # new number array\n",
    "    if(round == True):\n",
    "        bgnum = np.copy(np.floor(number).astype(int))\n",
    "        if(print_test):\n",
    "            print('noninteger bgnum values:', bgnum[np.where(bgnum%1 !=0)])\n",
    "    else:\n",
    "        bgnum = np.copy(number)\n",
    "\n",
    "    # for single sources, make a grid with shape\n",
    "    # (f, 3)\n",
    "    if(ss == True):\n",
    "        # params of loudest bin with number>=1\n",
    "        # shape (f,3) for 3 params\n",
    "        sspar = np.empty((len(fc), 3)) \n",
    "        # param indices of loudest bin with number>=1\n",
    "        # shape (f,3) for 3 params\n",
    "        ssidx = np.empty((len(fc), 3)) \n",
    "        # max hs at each frequency\n",
    "        maxhs = np.zeros(len(fc))\n",
    "        # (max)  single source characteristic strain at each frequency\n",
    "        hc_ss = np.zeros(len(fc))\n",
    "    else: \n",
    "        sspar = None\n",
    "        ssidx = None\n",
    "        maxhs = None\n",
    "        hc_ss = None\n",
    "\n",
    "    # # not worrying about realization implementation yet\n",
    "    # # for r realizations, make a grid with shape \n",
    "    # # m, q, z, f, r\n",
    "    # if(utils.isinteger(realize)):\n",
    "    #     newshape = hc_grid.shape + (realize,)\n",
    "    #     if(print_test):\n",
    "    #         print('newshape:', newshape)\n",
    "    #     realized_grid = np.empty(newshape)\n",
    "\n",
    "\n",
    "    # --------------- Single Sources ------------------\n",
    "    # 0) Round or realize so numbers are all integers\n",
    "    # 1) Identify the loudest (max hs) single source in a bin with N>0 \n",
    "    # 2) Record the parameters, parameter indices, and strain\n",
    "    #  of that single source\n",
    "    # 3) Subtract 1 from the number in that source's bin, \n",
    "    # 4) Calculate single source characteristic strain (hc)\n",
    "    # 5) Calculate the background with the new number \n",
    "    \n",
    "    if(ss == True):\n",
    "        for m_idx in range(len(mt)):\n",
    "            for q_idx in range(len(mr)):\n",
    "                cmass = holo.utils.chirp_mass_mtmr(mt[m_idx], mr[q_idx])\n",
    "                for z_idx in range(len(rz)):\n",
    "                    cdist = holo.cosmo.comoving_distance(rz[z_idx]).cgs.value\n",
    "                    \n",
    "                    # print M, q, z, M_c, d_c\n",
    "                    if(print_test):\n",
    "                        print('BIN mt=%.2e, mr=%.2e, rz=%.2e' %\n",
    "                            (mt[m_idx], mr[q_idx], rz[z_idx]))\n",
    "                        print('\\t m_c = %.2e, d_c = %.2e' \n",
    "                            % (cmass, cdist))\n",
    "\n",
    "                    # check if loudest source in any bin\n",
    "                    for f_idx in range(len(fc)):\n",
    "                        rfreq = holo.utils.frst_from_fobs(fc[f_idx], rz[z_idx])\n",
    "                        # hs of a source in that bin\n",
    "                        hs_mqzf = utils.gw_strain_source(cmass, cdist, rfreq)\n",
    "                        \n",
    "                        # 1) IF LOUDEST\n",
    "                        # check if loudest hs at that \n",
    "                        # frequency and contains binaries\n",
    "                        if(hs_mqzf>maxhs[f_idx] and \n",
    "                           bgnum[m_idx, q_idx, z_idx, f_idx]>0):\n",
    "                            if(bgnum[m_idx, q_idx, z_idx, f_idx]<1):\n",
    "                                print('number<1 used', bgnum[m_idx, q_idx, z_idx, f_idx])  #DELETE\n",
    "                            # 2) If so, RECORD:\n",
    "                            # parameters M, q, z\n",
    "                            sspar[f_idx] = np.array([mt[m_idx], mr[q_idx],\n",
    "                                                     rz[z_idx]])\n",
    "                            # parameter indices\n",
    "                            ssidx[f_idx] = np.array([m_idx, q_idx, z_idx])\n",
    "                            # new max strain\n",
    "                            maxhs[f_idx] = hs_mqzf\n",
    "\n",
    "\n",
    "        # 3) SUBTRACT 1 \n",
    "        # from bin with loudest source at each frequency\n",
    "        # can do this using the index of loudest, ssidx\n",
    "        # recall ssidx has shape [3, F]\n",
    "        # and = [(m_idx,q_idx,z_idx), fc],\n",
    "        for f_idx in range(len(fc)):\n",
    "            bgnum[int(ssidx[f_idx,0]), int(ssidx[f_idx,1]), int(ssidx[f_idx,2]), \n",
    "                    f_idx] -= 1 \n",
    "\n",
    "            # 4) CALCULATE \n",
    "            # single source characteristic strain\n",
    "            hc_ss[f_idx] = np.sqrt(maxhs[f_idx]**2 * (fc[f_idx]/df[f_idx]))\n",
    "        \n",
    "        # CHECK no numbers should be <0 \n",
    "        if(np.any(bgnum<0)): \n",
    "            error_index = np.where(bgnum<0)\n",
    "            print('number<0 found at (M,q,z,f) =', error_index)         \n",
    "        \n",
    "\n",
    "    # 5)\n",
    "    # ----------------- Calculate Background Strains --------------------\n",
    "    # then we can go back in and calculate characteristic strains\n",
    "    # NOTE: could make this faster by saving rfreq and hs values from above\n",
    "    # instead of recalculating\n",
    "    for m_idx in range(len(mt)):\n",
    "        for q_idx in range(len(mr)):\n",
    "            cmass = holo.utils.chirp_mass_mtmr(mt[m_idx], mr[q_idx])\n",
    "            for z_idx in range(len(rz)):\n",
    "                cdist = holo.cosmo.comoving_distance(rz[z_idx]).cgs.value\n",
    "                for f_idx in range(len(fc)):\n",
    "                    rfreq = holo.utils.frst_from_fobs(fc[f_idx], rz[z_idx])\n",
    "                    hs_mqzf = utils.gw_strain_source(cmass, cdist, rfreq)\n",
    "                    hc_dlnf = hs_mqzf**2 * (fc[f_idx]/df[f_idx])\n",
    "                    if(realize == False):\n",
    "                        hc_bg[m_idx, q_idx, z_idx, f_idx] = np.sqrt(hc_dlnf \n",
    "                                        * bgnum[m_idx, q_idx, z_idx, f_idx])\n",
    "                    else: \n",
    "                        raise Exception('realize not implemented yet') \n",
    "                    # elif(realize == True):\n",
    "                    #     hc_grid[m_idx, q_idx, z_idx, f_idx] = np.sqrt(hc_dlnf \n",
    "                    #                     *np.random.poisson(bgnum[m_idx, q_idx, z_idx, f_idx]))\n",
    "                    # elif(utils.isinteger(realize)):\n",
    "                    #     for r_idx in range(realize):\n",
    "                    #         realized_grid[m_idx, q_idx, z_idx, f_idx, r_idx] = \\\n",
    "                    #             np.sqrt(hc_dlnf \n",
    "                    #                     *np.random.poisson(bgnum[m_idx, q_idx, z_idx, f_idx]))\n",
    "                    #     hc_grid = realized_grid                \n",
    "                    # else:\n",
    "                    #     print(\"`realize` ({}) must be one of {{True, False, integer}}!\"\\\n",
    "                    #         .format(realize))\n",
    "\n",
    "                    if(print_test):\n",
    "                        print('\\tfr = %.2fnHz, h_s = %.2e, h_c^2/dlnf = %.2e' \n",
    "                            % (rfreq*10**9, hs_mqzf, hc_dlnf))\n",
    "                        print('\\t\\tnumber: %.2e' % bgnum[m_idx, q_idx, z_idx, f_idx])\n",
    "                        print('\\t\\thc = %.2e' % hc_bg[m_idx, q_idx, z_idx, f_idx])\n",
    "                        if(ss == True):\n",
    "                            print('\\t\\t loudest?', \n",
    "                                np.all((ssidx[f_idx] == np.array([m_idx, q_idx, z_idx]))))\n",
    "    if(ss and print_test):\n",
    "        print('----loudest bins:')\n",
    "        for f_idx in range(len(fc)):\n",
    "            print('\\t M=%.2e, q=%.2e, z=%.2e, f=%.2e' \n",
    "                    % (sspar[f_idx,0], sspar[f_idx,1], sspar[f_idx,2], fc[f_idx]))\n",
    "            # if we use this instead, we don't need sspar\n",
    "            # print('\\t M=%.2e, q=%.2e, z=%.2e, f=%.2e' \n",
    "            #       % (mt[ssidx[f_idx,0]], mr[ssidx[f_idx,1]], rz[ssidx[f_idx,2]]))\n",
    "\n",
    "     \n",
    "    if(sum):\n",
    "        # sum over all bins at a given frequency and realization\n",
    "        hc_bg = np.sqrt(np.sum(hc_bg**2, axis=(0, 1, 2)))\n",
    "\n",
    "    \n",
    "    return hc_bg, hc_ss, sspar, ssidx, maxhs, bgnum\n"
   ]
  },
  {
   "attachments": {},
   "cell_type": "markdown",
   "metadata": {},
   "source": [
    "gws_by_ndars (no ss)"
   ]
  },
  {
   "cell_type": "code",
   "execution_count": 7,
   "metadata": {},
   "outputs": [],
   "source": [
    "def gws_by_ndars(edges, number, realize, round = True, sum = True, print_test = False):\n",
    "       \n",
    "    \"\"\" More efficient way to calculate strain from numbered \n",
    "    grid integrated\n",
    "\n",
    "    Parameters\n",
    "    ----------\n",
    "    edges : (4,) list of 1darrays\n",
    "        A list containing the edges along each dimension.  The four dimensions \n",
    "        correspond to total mass, mass ratio, redshift, and observer-frame orbital \n",
    "        frequency. The length of each of the four arrays is M, Q, Z, F.\n",
    "    number : (M-1, Q-1, Z-1, F-1) ndarray\n",
    "        The number of binaries in each bin of parameter space.  This is calculated \n",
    "        by integrating `dnum` over each bin.\n",
    "    realize : bool or int\n",
    "        Specification of how to construct one or more discrete realizations.\n",
    "        If a `bool` value, then whether or not to construct a realization.\n",
    "        If an `int` value, then how many discrete realizations to construct.\n",
    "    round : bool\n",
    "        Specification of whether to discretize the sample if realize is False, \n",
    "        by rounding number of binaries in each bin to integers. This has no impact \n",
    "        if realize is true.\n",
    "        NOTE: should add a warning if round and realize are both True\n",
    "    sum : bool\n",
    "        Whether or not to sum the strain at a given frequency over all bins.\n",
    "    print_test : bool\n",
    "        Whether or not to print variable as they are calculated, for dev purposes.\n",
    "\n",
    "\n",
    "    Returns\n",
    "    -------\n",
    "    hchar : ndarray\n",
    "        Characteristic strain of the GWB.\n",
    "        The shape depends on whether realize is an integer or not\n",
    "        realize = True or False, sum = False: shape is (M-1, Q-1, Z-1, F-1)\n",
    "        realize = True or False, sum = True: shape is (F-1)\n",
    "        realize = R, sum = False: shape is  (M-1, Q-1, Z-1, F-1, R)\n",
    "        realize = R, sum = True: shape is  (F-1, R)\n",
    "\n",
    "    \"\"\"\n",
    "\n",
    "    if(print_test):\n",
    "        print('INPUTS: edges:', len(edges), # '\\n', edges, \n",
    "        '\\nINPUTS:number:', number.shape, '\\n', number,'\\n')\n",
    "\n",
    "    # Frequency bin midpoints\n",
    "    foo = edges[-1]                   #: should be observer-frame orbital-frequencies\n",
    "    df = np.diff(foo)                 #: frequency bin widths\n",
    "    fc = kale.utils.midpoints(foo)    #: use frequency-bin centers for strain (more accurate!)\n",
    "\n",
    "    # All other bin midpoints\n",
    "    mt = kale.utils.midpoints(edges[0]) #: total mass\n",
    "    mr = kale.utils.midpoints(edges[1]) #: mass ratio\n",
    "    rz = kale.utils.midpoints(edges[2]) #: redshift\n",
    "\n",
    "\n",
    "    # --- Chirp Masses ---\n",
    "    # to get chirp mass in shape (M-1, Q-1) we need \n",
    "    # mt in shape (M-1, 1) \n",
    "    # mr in shape (1, Q-1)\n",
    "    cmass = utils.chirp_mass_mtmr(mt[:,np.newaxis], mr[np.newaxis,:])\n",
    "    if(print_test):\n",
    "        print('cmass:', cmass.shape, '\\n', cmass)\n",
    "\n",
    "    # --- Comoving Distances ---\n",
    "    # to get cdist in shape (Z-1) we need\n",
    "    # rz in shape (Z-1)\n",
    "    cdist = holo.cosmo.comoving_distance(rz).cgs.value\n",
    "    if(print_test):\n",
    "        print('cdist:', cdist.shape, '\\n', cdist)\n",
    "\n",
    "    # --- Rest Frame Frequencies ---\n",
    "    # to get rest freqs in shape (Z-1, F-1) we need \n",
    "    # rz in shape (Z-1, 1) \n",
    "    # fc in shape (1, F-1)\n",
    "    rfreq = holo.utils.frst_from_fobs(fc[np.newaxis,:], rz[:,np.newaxis])\n",
    "    if(print_test):\n",
    "        print('rfreq:', rfreq.shape, '\\n', rfreq)\n",
    "\n",
    "    # --- Source Strain Amplitude ---\n",
    "    # to get hs amplitude in shape (M-1, Q-1, Z-1, F-1) we need\n",
    "    # cmass in shape (M-1, Q-1, 1, 1) from (M-1, Q-1)\n",
    "    # cdist in shape (1, 1, Z-1, 1) from (Z-1)\n",
    "    # rfreq in shape (1, 1, Z-1, F-1) from (Z-1, F-1)\n",
    "    hsamp = utils.gw_strain_source(cmass[:,:,np.newaxis,np.newaxis],\n",
    "                                   cdist[np.newaxis,np.newaxis,:,np.newaxis],\n",
    "                                   rfreq[np.newaxis,np.newaxis,:,:])\n",
    "    if(print_test):\n",
    "        print('hsamp', hsamp.shape, '\\n', hsamp)\n",
    "\n",
    "    # --- Characteristic Strain Squared ---\n",
    "    # to get characteristic strain in shape (M-1, Q-1, Z-1, F-1) we need\n",
    "    # hsamp in shape (M-1, Q-1, Z-1, F-1)\n",
    "    # fc in shape (1, 1, 1, F-1)\n",
    "    hchar = hsamp**2 * (fc[np.newaxis, np.newaxis, np.newaxis,:]\n",
    "                        /df[np.newaxis, np.newaxis, np.newaxis,:])\n",
    "\n",
    "    # Sample:\n",
    "    if(realize == False):\n",
    "        # without sampling, want strain in shape (M-1, Q-1, Z-1, F-1)\n",
    "        if(round): \n",
    "            # discretize by rounding number down to nearest integer \n",
    "            hchar *= np.floor(number).astype(int) \n",
    "        else: \n",
    "            # keep non-integer values\n",
    "            hchar *= number\n",
    "\n",
    "    if(realize == True):\n",
    "        # with a single sample, want strain in shape (M-1, Q-1, Z-1, F-1)\n",
    "        hchar *= np.random.poisson(number)\n",
    "\n",
    "    if(utils.isinteger(realize)):\n",
    "        # with R realizations, \n",
    "        # to get strain in shape (M-1, Q-1, Z-1, F-1, R) we need\n",
    "        # hchar in shape(M-1, Q-1, Z-1, F-1, 1)\n",
    "        # Poisson sample in shape (1, 1, 1, 1, R)\n",
    "        npois = np.random.poisson(number[...,np.newaxis], size = (number.shape + (realize,)))\n",
    "        if(print_test):\n",
    "            print('npois', npois.shape)\n",
    "        hchar = hchar[...,np.newaxis] * npois\n",
    "\n",
    "\n",
    "    if(print_test):\n",
    "        print('hchar', hchar.shape, '\\n', hchar)\n",
    "\n",
    "\n",
    "    if(sum):\n",
    "        # sum over all bins at a given frequency and realization\n",
    "        hchar = np.sum(hchar, axis=(0, 1, 2))\n",
    "        # NOTE I should check what big O time this is,  not sure\n",
    "        if(print_test):\n",
    "            print('hchar summed', hchar.shape, '\\n', hchar)\n",
    "\n",
    "    return np.sqrt(hchar)"
   ]
  },
  {
   "attachments": {},
   "cell_type": "markdown",
   "metadata": {},
   "source": [
    "subtraction from number method"
   ]
  },
  {
   "attachments": {},
   "cell_type": "markdown",
   "metadata": {},
   "source": [
    "ss_gws_by_ndars"
   ]
  },
  {
   "cell_type": "code",
   "execution_count": 51,
   "metadata": {},
   "outputs": [],
   "source": [
    "def ss_gws_by_ndars(edges, number, realize, round = True, sum = True, \n",
    "                    ss = True, print_test = False):\n",
    "       \n",
    "    \"\"\" More efficient way to calculate strain from numbered \n",
    "    grid integrated\n",
    "\n",
    "\n",
    "    Parameters\n",
    "    ----------\n",
    "    edges : (4,) list of 1darrays\n",
    "        A list containing the edges along each dimension.  The four dimensions correspond to\n",
    "        total mass, mass ratio, redshift, and observer-frame orbital frequency.\n",
    "        The length of each of the four arrays is M, Q, Z, F.\n",
    "    number : (M-1, Q-1, Z-1, F-1) ndarray of scalars\n",
    "        The number of binaries in each bin of parameter space.  This is calculated by integrating\n",
    "        `dnum` over each bin.\n",
    "    realize : bool or int,\n",
    "        Specification of how to construct one or more discrete realizations.\n",
    "        If a `bool` value, then whether or not to construct a realization.\n",
    "        If a `int` value, then how many discrete realizations to construct.\n",
    "    round : bool\n",
    "        Specification of whether to discretize the sample if realize is False, \n",
    "        by rounding number of binaries in each bin to integers. \n",
    "        Does nothing if realize is True.\n",
    "    ss : bool \n",
    "        Whether or not to separate the loudest single source in each frequency bin.\n",
    "    sum : bool\n",
    "        Whether or not to sum the strain at a given frequency over all bins.\n",
    "    print_test : bool\n",
    "        Whether or not to print variable as they are calculated, for dev purposes.\n",
    "\n",
    "\n",
    "    Returns\n",
    "    -------\n",
    "    hc_bg : ndarray\n",
    "        Characteristic strain of the GWB.\n",
    "        The shape depends on whether realize is an integer or not\n",
    "        realize = True or False, sum = False: shape is (M-1, Q-1, Z-1, F-1)\n",
    "        realize = True or False, sum = True: shape is (F-1)\n",
    "        realize = R, sum = False: shape is  (M-1, Q-1, Z-1, F-1, R)\n",
    "        realize = R, sum = True: shape is  (F-1, R)\n",
    "    hc_ss : (F-1,) array of scalars\n",
    "        The characteristic strain of the loudest single source at each frequency.\n",
    "    ssidx : (F-1, 4) ndarray or None\n",
    "        The indices (m_idx, q_idx, z_idx, f_idx) of the parameters of the loudest single\n",
    "        source's bin, at each frequency such that \n",
    "        ssidx[i,0] = m_idx of the ith frequency\n",
    "        ssidx[i,1] = q_idx of the ith frequency\n",
    "        ssidx[i,2] = z_idx of the ith frequency\n",
    "        ssidx[i,3] = f_idx of the ith frequency = i\n",
    "        None if ss = False. \n",
    "    hsmax : (F-1) array of scalars or None\n",
    "        The maximum single source strain amplitude at each frequency.\n",
    "        None if ss = False. \n",
    "    bgnum : (M-1, Q-1, Z-1, F-1) ndarray\n",
    "        The number of binaries in each bin after the loudest single source\n",
    "        at each frequency is subtracted out.\n",
    "\n",
    "        \n",
    "\n",
    "    Potential BUG: In the unlikely scenario that there are two equal hsmaxes \n",
    "    (at same OR dif frequencies), ssidx calculation will go wrong\n",
    "    Could avoid this by using argwhere for each f_idx column separately.\n",
    "    Or TODO implement some kind of check to see if any argwheres return multiple \n",
    "    values for that hsmax and raises a warning/assertion error\n",
    "\n",
    "    NOTE: Probably don't need to return so many things, it's just useful for testing.\n",
    "\n",
    "    TODO: Calculate sspar\n",
    "    TODO: Implement realizations\n",
    "    TODO: Implement not summing, or remove option\n",
    "    \"\"\"\n",
    "\n",
    "    if(print_test):\n",
    "        print('INPUTS: edges:', len(edges), # '\\n', edges, \n",
    "        '\\nINPUTS:number:', number.shape, '\\n', number,'\\n')\n",
    "\n",
    "    # Frequency bin midpoints\n",
    "    foo = edges[-1]                   #: should be observer-frame orbital-frequencies\n",
    "    df = np.diff(foo)                 #: frequency bin widths\n",
    "    fc = kale.utils.midpoints(foo)    #: use frequency-bin centers for strain (more accurate!)\n",
    "\n",
    "    # All other bin midpoints\n",
    "    mt = kale.utils.midpoints(edges[0]) #: total mass\n",
    "    mr = kale.utils.midpoints(edges[1]) #: mass ratio\n",
    "    rz = kale.utils.midpoints(edges[2]) #: redshift\n",
    "\n",
    "\n",
    "    # --- Chirp Masses ---\n",
    "    # to get chirp mass in shape (M-1, Q-1) we need \n",
    "    # mt in shape (M-1, 1) \n",
    "    # mr in shape (1, Q-1)\n",
    "    cmass = utils.chirp_mass_mtmr(mt[:,np.newaxis], mr[np.newaxis,:])\n",
    "    if(print_test):\n",
    "        print('cmass:', cmass.shape, '\\n', cmass)\n",
    "\n",
    "    # --- Comoving Distances ---\n",
    "    # to get cdist in shape (Z-1) we need\n",
    "    # rz in shape (Z-1)\n",
    "    cdist = holo.cosmo.comoving_distance(rz).cgs.value\n",
    "    if(print_test):\n",
    "        print('cdist:', cdist.shape, '\\n', cdist)\n",
    "\n",
    "    # --- Rest Frame Frequencies ---\n",
    "    # to get rest freqs in shape (Z-1, F-1) we need \n",
    "    # rz in shape (Z-1, 1) \n",
    "    # fc in shape (1, F-1)\n",
    "    rfreq = holo.utils.frst_from_fobs(fc[np.newaxis,:], rz[:,np.newaxis])\n",
    "    if(print_test):\n",
    "        print('rfreq:', rfreq.shape, '\\n', rfreq)\n",
    "\n",
    "    # --- Source Strain Amplitude ---\n",
    "    # to get hs amplitude in shape (M-1, Q-1, Z-1, F-1) we need\n",
    "    # cmass in shape (M-1, Q-1, 1, 1) from (M-1, Q-1)\n",
    "    # cdist in shape (1, 1, Z-1, 1) from (Z-1)\n",
    "    # rfreq in shape (1, 1, Z-1, F-1) from (Z-1, F-1)\n",
    "    hsamp = utils.gw_strain_source(cmass[:,:,np.newaxis,np.newaxis],\n",
    "                                   cdist[np.newaxis,np.newaxis,:,np.newaxis],\n",
    "                                   rfreq[np.newaxis,np.newaxis,:,:])\n",
    "    if(print_test):\n",
    "        print('hsamp', hsamp.shape, '\\n', hsamp)\n",
    "\n",
    "\n",
    "    ############################################################\n",
    "    ########## HERE'S WHERE THINGS CHANGE FOR SS ###############\n",
    "    ############################################################\n",
    "\n",
    "    # --------------- Single Sources ------------------\n",
    "    ##### 0) Round and/or realize so numbers are all integers\n",
    "    if (round == True):\n",
    "        bgnum = np.copy(np.floor(number).astype(int))\n",
    "        assert (np.all(bgnum%1 ==0)), 'nonzero numbers found with round=True'\n",
    "    else:\n",
    "        bgnum = np.copy(number)\n",
    "        if(ss==True):\n",
    "            warnings.warn('Number grid used for single source calculation.')\n",
    "\n",
    "    if(realize == True):\n",
    "        bgnum = np.random.poisson(number)\n",
    "        assert (np.all(bgnum%1 ==0)), 'nonzero numbers found with realize=True'\n",
    "\n",
    "    #### 1) Identify the loudest (max hs) single source in a bin with N>0 \n",
    "    hsamp[np.where(bgnum==0)] = 0 #set hs=0 if number=0\n",
    "    \n",
    "    # --- Single Source Strain Amplitude At Each Frequency ---\n",
    "    # to get max strain in shape (F-1) we need\n",
    "    # hsamp in shape (M-1, Q-1, Z-1, F-1), search over first 3 axes\n",
    "    hsmax = np.amax(hsamp, axis=(0,1,2)) #find max hs at each frequency\n",
    "    \n",
    "    #### 2) Record the indices and strain of that single source\n",
    "\n",
    "    # --- Indices of Loudest Bin ---\n",
    "    # Shape (F-1, 4), looks like\n",
    "    # [[m_idx,q_idx,z_idx,0],\n",
    "    #  [m_idx,q_idx,z_idx,1],\n",
    "    #   ........\n",
    "    #  [m_idx,q_idx,z_idx,F-2]]\n",
    "    # no longer actually need this, but might be useful\n",
    "    ssidx = np.argwhere(hsamp==hsmax) \n",
    "    ssidx = ssidx[ssidx[:,-1].argsort()]\n",
    "\n",
    "\n",
    "\n",
    "    ### 3) Subtract 1 from the number in that source's bin\n",
    "\n",
    "    # --- Background Number ---\n",
    "    # bgnum = subtract_from_number(bgnum, ssidx) # Find a better way to do this!\n",
    "    bgnum[np.where(hsamp == hsmax)]-=1 # better way found! ssidx may be unnecessary now, but still nice to have\n",
    "\n",
    "    assert np.all(bgnum>=0), f\"bgnum contains negative values at: {np.where(bgnum<0)}\"\n",
    "    # if(np.any(bgnum<0)):   # alternate way to check for this error, and give index of neg number\n",
    "    #         error_index = *np.where(bgnum<0)\n",
    "    #         print('number<0 found at [M's], [q's], [z's], [f's]) =', error_index)   \n",
    "\n",
    "    \n",
    "\n",
    "    ### 4) Calculate single source characteristic strain (hc)\n",
    "\n",
    "    # --- Single Source Characteristic Strain ---\n",
    "    # to get ss char strain in shape [F-1] need\n",
    "    # fc in shape (F-1)\n",
    "    # df in shape (F-1)\n",
    "    hc_ss = np.sqrt(hsmax**2 * (fc/df))\n",
    "\n",
    "\n",
    "    # --- Parameters of loudest source ---\n",
    "    # NOTE: This would be useful to implement\n",
    "\n",
    "    ### 5) Calculate the background with the new number \n",
    " \n",
    "    # --- Background Characteristic Strain Squared ---\n",
    "    # to get characteristic strain in shape (M-1, Q-1, Z-1, F-1) we need\n",
    "    # hsamp in shape (M-1, Q-1, Z-1, F-1)\n",
    "    # fc in shape (1, 1, 1, F-1)\n",
    "    hchar = hsamp**2 * (fc[np.newaxis, np.newaxis, np.newaxis,:]\n",
    "                        /df[np.newaxis, np.newaxis, np.newaxis,:])   \n",
    "    if (realize==False):\n",
    "        hchar *= bgnum\n",
    "    else:\n",
    "        raise Exception('realize not implemented yet') \n",
    "\n",
    "    if(print_test):\n",
    "        print('hchar', hchar.shape, '\\n', hchar)\n",
    "\n",
    "    if(sum):\n",
    "        # sum over all bins at a given frequency and realization\n",
    "        hchar = np.sum(hchar, axis=(0, 1, 2))\n",
    "        # NOTE I should check what big O time this is,  not sure\n",
    "        if(print_test):\n",
    "            print('hchar summed', hchar.shape, '\\n', hchar)\n",
    "    else:\n",
    "        raise Exception('without sum not implemented or tested yet')\n",
    "\n",
    "    hc_bg = np.sqrt(hchar)\n",
    "\n",
    "    return hc_bg, hc_ss, hsamp, ssidx, hsmax, bgnum\n"
   ]
  },
  {
   "attachments": {},
   "cell_type": "markdown",
   "metadata": {},
   "source": [
    "## 1.3 Test Functions\n",
    "Consider changing all the np.all(x==y) to np.isclose(x,y)"
   ]
  },
  {
   "cell_type": "code",
   "execution_count": 9,
   "metadata": {},
   "outputs": [],
   "source": [
    "def max_test(hsmax, hsamp): \n",
    "    # check hsmaxes are correct\n",
    "    hsmax_hsamp_match = np.empty_like(hsmax)\n",
    "    for f_idx in range(len(hsmax)):\n",
    "        hsmax_hsamp_match[f_idx] = (np.max(hsamp[...,f_idx]) == hsmax[f_idx])\n",
    "    assert np.all(hsmax_hsamp_match == True), \"the max amplitudes in hsamp do not match those in hsmax\"\n",
    "    print('max_test passed')\n",
    "\n",
    "def ssidx_test(hsmax, hsamp, ssidx, print_test):\n",
    "    \"\"\" \n",
    "    Test ssidx in hsamp gives the same values as hsmax\n",
    "\n",
    "    Parameters\n",
    "    ----------\n",
    "    hsmax : (F,) array of scalars\n",
    "        Maximum strain amplitude of a single source at each frequency.\n",
    "    hsamp : (M, Q, Z, F,) ndarray of scalar\n",
    "        Strain amplitude of a source in each bin\n",
    "    ssidx : (F-1, 4) ndarray \n",
    "        \n",
    "\n",
    "    \"\"\"\n",
    "    # check ssidx are correct and in frequency order\n",
    "    for i in range(len(hsmax)): #ith frequency\n",
    "        m,q,z,f = ssidx[i]\n",
    "        assert i==f, 'ssidx not in order of frequencies'\n",
    "        if(print_test):\n",
    "            print('max is at m,q,z,f = %d, %d, %d, %d and it = %.2e'\n",
    "                  % (m, q, z, f, hsmax[i]))\n",
    "        assert (hsamp[m,q,z,f] == hsmax[i]), f\"The ssidx[{i}] does not give the hsmax[{i}].\"\n",
    "    print('ssidx test passes')\n",
    "\n",
    "def number_test(num, bgnum, fobs, exname='', plot_test=False):\n",
    "    ''' \n",
    "    Plots num - bgnum, where number is the ndarray of \n",
    "    integer number of sources in each bin, i.e. after \n",
    "    rounding or Poisson sampling\n",
    "\n",
    "    Parameters\n",
    "    ------------\n",
    "    num : (M, Q, Z, F) array\n",
    "        integer numbers in each bin, i.e. after rounding or\n",
    "        Poisson sampling\n",
    "    bgnum : (M, Q, Z, F) array\n",
    "        number of background sources in each bin, \n",
    "        after single source subtraction\n",
    "    fobs : (F) array\n",
    "        frequencies of each F, for ax titles\n",
    "    exname : String\n",
    "        name of example\n",
    "    plot_test : Bool\n",
    "        whether or not to print values a\n",
    "\n",
    "\n",
    "    Returns\n",
    "    -----------\n",
    "    None \n",
    "    \n",
    "    '''   \n",
    "    if np.all(num%1 == 0) != True: warnings.warn(\"num contains at least one non-integer value\")\n",
    "    difs = num - bgnum\n",
    "    assert len(difs[np.where(difs>0)]) == len(difs[0,0,0,:]), \"More than one bin per frequency found with a single source subtracted.\"\n",
    "\n",
    "    if(plot_test):\n",
    "        fig, ax = plt.subplots(1,len(fobs), figsize = (10,3), sharey=True)\n",
    "        fig.suptitle('integer number - numbg for each bin, '+ exname)\n",
    "        ax[0].set_ylabel('number - number_bg')\n",
    "        bins = np.arange(0, num[...,0].size, 1)\n",
    "        bins = np.reshape(bins, num[...,0].shape)\n",
    "        # print(bins.shape)\n",
    "        # print(num[...,0].shape)\n",
    "        for f in range(len(fobs)):\n",
    "            ax[f].scatter(bins, (num[...,f] - bgnum[...,f]))\n",
    "            ax[f].set_title('$f_\\mathrm{obs}$ = %dnHz' % (fobs[f]*10**9))\n",
    "            ax[f].set_xlabel('bin')\n",
    "        fig.tight_layout()\n",
    "    print('number test passed')\n",
    "\n",
    "    \n",
    "    # TODO Assertion \n",
    "\n",
    "def compare_to_loops_test(edges, number, hc_bg, hc_ss, hsmax, ssidx, bgnum):\n",
    "    hc_bg_loop, hc_ss_loop, sspar_loop, ssidx_loop, maxhs_loop, number_bg_loop \\\n",
    "      = ss_gws_by_loops(edges, number, realize=False, round=True, sum=True, ss=True, print_test=False)\n",
    "    \n",
    "    for i in range(len(ssidx)):\n",
    "        assert np.all(ssidx[i, 0:3] == ssidx_loop[i,:]), \\\n",
    "            f\"ssidx[{i}] by ndars does not match by loops\"\n",
    "    assert (np.all(bgnum == number_bg_loop)), \"bgnum by ndars does not match by loops\"\n",
    "    assert (np.all(hc_ss == hc_ss_loop)), \"hc_ss by ndars does not match by loops\"    \n",
    "    assert (np.all(hsmax == maxhs_loop)), \"hsmax by ndars does not match by loops\" \n",
    "    assert (np.all(hsmax == maxhs_loop)), \"hsmax by ndars does not match by loops\"\n",
    "    assert (np.all(np.isclose(hc_bg, hc_bg_loop, atol=1e-20, rtol=1e-20))), \\\n",
    "        \"hc_bg by ndars does not match by loops\"\n",
    "    print('compare to loops test passed')\n",
    "\n",
    "def quadratic_sum_test(hc_bg, hc_ss, hc_tt, print_test):\n",
    "    test = (hc_bg**2 + hc_ss**2)\n",
    "    error = (test-hc_tt**2)/hc_tt**2\n",
    "    assert np.all(np.isclose(hc_tt, test, atol=2e-15, rtol=1e-15)), \\\n",
    "        \"quadratic sum of hc_bg and hc_ss does not match hc_tt\"\n",
    "    if(print_test):\n",
    "        print('percent error between (hc_bg^2+hc_ss^2) and hc_tt^2:', error)\n",
    "        print('differences between np.sqrt((hc_bg^2+hc_ss^2)) and hc_tt:', \n",
    "              np.sqrt(test) - hc_tt)\n",
    "    print('quadratic sum test passed')\n",
    "\n",
    "def run_example_tests(edges,number, fobs, exname='', print_test=False, \n",
    "                     loop_comparison = True):\n",
    "    '''\n",
    "    Call tests for some edges, number\n",
    "    Paramaters\n",
    "    ----------\n",
    "    edges : (4,) list of 1D arrays\n",
    "        Mass, ratio, redshift, and frequency edges of bins\n",
    "    number : (M, Q, Z, F) ndarray of scalars\n",
    "        Number of binaries in each bin\n",
    "    fobs : (F,) array of scalars\n",
    "        Observed frequency bin centers\n",
    "    exname : String\n",
    "        Name of example (used for number plots)\n",
    "\n",
    "    Returns\n",
    "    ------\n",
    "    hsamp\n",
    "    hsmax\n",
    "    ssidx\n",
    "    bgnum\n",
    "    '''\n",
    "    hc_bg, hc_ss, hsamp, ssidx, hsmax, bgnum = ss_gws_by_ndars(edges, number, realize=False, round=True, ss=True, sum=True)\n",
    "    max_test(hsmax, hsamp)\n",
    "\n",
    "    ssidx_test(hsmax, hsamp, ssidx, print_test)\n",
    "\n",
    "    rounded = np.floor(number).astype(int)\n",
    "    number_test(rounded, bgnum, fobs, exname, plot_test=print_test)\n",
    "    \n",
    "    if(loop_comparison): # optional because its faster without\n",
    "        compare_to_loops_test(edges, number, hc_bg, hc_ss, hsmax, ssidx, bgnum)\n",
    "\n",
    "    hc_tt = gws_by_ndars(edges, number, realize=False, round = True, sum=True)  \n",
    "    quadratic_sum_test(hc_bg, hc_ss, hc_tt, print_test)\n",
    "\n",
    "    return hc_bg, hc_ss, hsamp, ssidx, hsmax, bgnum"
   ]
  },
  {
   "attachments": {},
   "cell_type": "markdown",
   "metadata": {},
   "source": [
    "run tests"
   ]
  },
  {
   "cell_type": "code",
   "execution_count": 10,
   "metadata": {},
   "outputs": [
    {
     "name": "stdout",
     "output_type": "stream",
     "text": [
      "max_test passed\n",
      "ssidx test passes\n",
      "number test passed\n",
      "compare to loops test passed\n",
      "quadratic sum test passed\n"
     ]
    }
   ],
   "source": [
    "edges, number, fobs, exname = example2(print_test=False)\n",
    "hc_bg, hc_ss, hsamp, ssidx, hsmax, bgnum = \\\n",
    "    run_example_tests(edges, number, fobs, exname, print_test=False)"
   ]
  },
  {
   "cell_type": "code",
   "execution_count": 11,
   "metadata": {},
   "outputs": [
    {
     "name": "stdout",
     "output_type": "stream",
     "text": [
      "max_test passed\n",
      "ssidx test passes\n",
      "number test passed\n",
      "compare to loops test passed\n",
      "quadratic sum test passed\n"
     ]
    }
   ],
   "source": [
    "edges, number, fobs, exname = example3(print_test=False)\n",
    "hc_bg, hc_ss, hsamp, ssidx, hsmax, bgnum = \\\n",
    "    run_example_tests(edges, number, fobs, exname, print_test=False)"
   ]
  },
  {
   "cell_type": "code",
   "execution_count": 12,
   "metadata": {},
   "outputs": [
    {
     "name": "stdout",
     "output_type": "stream",
     "text": [
      "max_test passed\n",
      "ssidx test passes\n",
      "number test passed\n",
      "compare to loops test passed\n",
      "quadratic sum test passed\n"
     ]
    }
   ],
   "source": [
    "edges, number, fobs, exname = example4(print_test=False)\n",
    "hc_bg, hc_ss, hsamp, ssidx, hsmax, bgnum = \\\n",
    "    run_example_tests(edges, number, fobs, exname, print_test=False)"
   ]
  },
  {
   "attachments": {},
   "cell_type": "markdown",
   "metadata": {},
   "source": [
    "## 1.4 Random Other Functions"
   ]
  },
  {
   "cell_type": "code",
   "execution_count": 13,
   "metadata": {},
   "outputs": [],
   "source": [
    "def subtract_from_number(bgnum, ssidx):\n",
    "    ''' \n",
    "    Inefficient way to subtract 1 from the number of all bins \n",
    "    with a loudest single source\n",
    "    \n",
    "    Paramaters\n",
    "    -------------\n",
    "    bgnum : (M, Q, Z, F) array\n",
    "        number of sources in each bin, before\n",
    "        single sources have been subtracted\n",
    "    ssidx : (F, 4) array \n",
    "        The indices (m_idx, q_idx, and z_idx) of the parameters of the \n",
    "        loudest single source's bin, at each frequency\n",
    "\n",
    "    Returns\n",
    "    -------------\n",
    "    bgnum : (M, Q, Z, F) array\n",
    "        number of background sources in each bin,\n",
    "        after single sources have been subtracted\n",
    "    '''\n",
    "\n",
    "    for ff in range(len(ssidx)):\n",
    "        m,q,z,f = ssidx[ff]\n",
    "        print(m,q,z,f)\n",
    "        bgnum[m,q,z,f] -=1\n",
    "    return bgnum\n",
    "\n",
    "def max_index_at_f(grid):\n",
    "    \"\"\" Get the index of the maximum value for each frequency. \n",
    "    Frequency is the 4th dimension of the 4Darray, grid.\n",
    "    NOTE: Find a more elegant way to do this with some fancy indexing! Or\n",
    "    at least choose which option works best and just use that\n",
    "\n",
    "    Parameters:\n",
    "    grid : [M,Q,Z,F] array\n",
    "        test grid\n",
    "\n",
    "    Returns:\n",
    "    mqz_f : (3, F) array\n",
    "        Indices of max grid value at each frequency\n",
    "        For F frequencies, it looks like \n",
    "        [[m1,m2,...,mF], [q1,q2,...,qF], [z1,z2,...,zF]] \n",
    "    f_mqz : (F, 3) array\n",
    "        Indices of max grid value at each frequency\n",
    "        For F frequencies it looks like\n",
    "        [[m1,q1,z1,1], [m2,q2,z2,2], ..., [mF,qF,zF,F]]\n",
    "    all_f : (4, F) array\n",
    "        Indices of max grid value at each frequency\n",
    "        For n frequencies, it looks like \n",
    "        [[m1,m2,...,mF], [q1,q2,...,qF], [z1,z2,...,zF], [1,2,...,F]] \n",
    "    f_all : (F, 4) array\n",
    "        Indices of max grid value at each frequency\n",
    "        For F frequencies it looks like\n",
    "        [[m1,q1,z1,1], [m2,q2,z2,2], ..., [mF,qF,zF,F]]\n",
    "    \"\"\"\n",
    "    mqz_f = np.empty((3,len(grid[0,0,0,:])))\n",
    "    f_mqz = np.empty((len(grid[0,0,0,:]),3))\n",
    "    all_f = np.empty((4, len(grid[0,0,0,:])))\n",
    "    f_all = np.empty((len(grid[0,0,0,:]),4))\n",
    "\n",
    "    for f_idx in range(len(grid[0,0,0,:])):\n",
    "        m,q,z = np.unravel_index(np.argmax(grid[...,f_idx]), \n",
    "                                 grid[...,f_idx].shape)\n",
    "        mqz_f[:,f_idx] = np.array([m,q,z])\n",
    "        f_mqz[f_idx,:] = np.array([m,q,z])\n",
    "        all_f[:, f_idx] = np.array([m,q,z,f_idx])\n",
    "        f_all[f_idx,:] = np.array([m,q,z,f_idx])\n",
    "    mqz_f = mqz_f.astype(int)\n",
    "    f_mqz = f_mqz.astype(int)\n",
    "    all_f = all_f.astype(int)\n",
    "    f_all = f_all.astype(int)\n",
    "    return mqz_f, f_mqz, all_f, f_all\n",
    "\n",
    "def argwhere_at_f(grid):\n",
    "    \"\"\" Get the index of the maximum value for each frequency. \n",
    "    Frequency is the 4th dimension of the 4Darray, grid.\n",
    "    NOTE: This should match f_all\n",
    "\n",
    "    Parameters:\n",
    "    grid : [M,Q,Z,F] array\n",
    "        test grid\n",
    "\n",
    "    Returns:\n",
    "    argwhere : (F, 4) array\n",
    "        Indices of max grid value at each frequency\n",
    "        For F frequencies it looks like\n",
    "        [[m1,q1,z1,1], [m2,q2,z2,2], ..., [mF,qF,zF,F]]\n",
    "    \n",
    "    \"\"\"\n",
    "    maxes = np.max(grid, axis=(0,1,2))\n",
    "    # print(maxes)\n",
    "    argwhere = np.argwhere(grid==maxes)\n",
    "    # print(argwhere)\n",
    "    return argwhere\n"
   ]
  },
  {
   "cell_type": "code",
   "execution_count": 14,
   "metadata": {},
   "outputs": [],
   "source": [
    "def test_argwhere(grid):\n",
    "    # check argwhere find max indices correctly\n",
    "    f_all = (max_index_at_f(grid))[-1]\n",
    "    argwhere = argwhere_at_f(grid)\n",
    "    assert (np.all(f_all == argwhere)), 'argwhere failing to find correct max indices'\n"
   ]
  },
  {
   "attachments": {},
   "cell_type": "markdown",
   "metadata": {},
   "source": [
    "## 1.Scratch\n",
    "- matching max values from hsmax, hsamp, and ssidx\n",
    "- number-bgnum give 1 nonzero value for each frequency\n",
    "- hc_bg^2 + hc_ss^2 = hc_tt^2"
   ]
  },
  {
   "cell_type": "code",
   "execution_count": 15,
   "metadata": {},
   "outputs": [
    {
     "name": "stdout",
     "output_type": "stream",
     "text": [
      "True\n",
      "True\n",
      "True\n",
      "True\n",
      "True\n",
      "True\n",
      "True\n",
      "True\n",
      "True\n",
      "True\n",
      "True\n",
      "True\n",
      "[[13 23 16  0]\n",
      " [12 23 18  1]\n",
      " [10 23 16  2]\n",
      " [10 23 18  3]\n",
      " [ 9 23 17  4]\n",
      " [ 8 23 16  5]\n",
      " [ 8 23 17  6]\n",
      " [ 8 23 18  7]\n",
      " [ 7 23 17  8]\n",
      " [ 7 23 17  9]\n",
      " [ 6 23 16 10]\n",
      " [ 7 23 18 11]]\n",
      "(12, 4)\n",
      "0\n",
      "1.0051787086385068e-16\n",
      "1.0051787086385068e-16\n",
      "1.0051787086385068e-16\n",
      "1\n",
      "4.3250770488997604e-17\n",
      "4.3250770488997604e-17\n",
      "4.3250770488997604e-17\n",
      "2\n",
      "1.2332171467578702e-17\n",
      "1.2332171467578702e-17\n",
      "1.2332171467578702e-17\n",
      "3\n",
      "1.040297297960971e-17\n",
      "1.040297297960971e-17\n",
      "1.040297297960971e-17\n",
      "4\n",
      "5.478025031806371e-18\n",
      "5.478025031806371e-18\n",
      "5.478025031806371e-18\n",
      "5\n",
      "2.966218754178506e-18\n",
      "2.966218754178506e-18\n",
      "2.966218754178506e-18\n",
      "6\n",
      "2.6685858687611787e-18\n",
      "2.6685858687611787e-18\n",
      "2.6685858687611787e-18\n",
      "7\n",
      "2.5021946566713723e-18\n",
      "2.5021946566713723e-18\n",
      "2.5021946566713723e-18\n",
      "8\n",
      "1.2282383135442348e-18\n",
      "1.2282383135442348e-18\n",
      "1.2282383135442348e-18\n",
      "9\n",
      "1.3176122816587554e-18\n",
      "1.3176122816587554e-18\n",
      "1.3176122816587554e-18\n",
      "10\n",
      "6.732469961608836e-19\n",
      "6.732469961608836e-19\n",
      "6.732469961608836e-19\n",
      "11\n",
      "1.3115139732990947e-18\n",
      "1.3115139732990947e-18\n",
      "1.3115139732990947e-18\n",
      "(24, 24, 24, 12)\n"
     ]
    }
   ],
   "source": [
    "np.set_printoptions(precision=2)\n",
    "hc_bg, hc_ss, hsamp, ssidx, hsmax, bgnum = ss_gws_by_ndars(edges, number, realize=False, round=True, ss=True, sum=True)\n",
    "#### Test hsmax\n",
    "for i in range(len(hsmax)):\n",
    "    print(np.max(hsamp[...,i]) == hsmax[i])\n",
    "# print(np.max(hsamp[...,0]))\n",
    "# print(hsmax)\n",
    "# print(number>=1)\n",
    "\n",
    "### Test ssidx\n",
    "print(ssidx)\n",
    "print(ssidx.shape)\n",
    "for f_idx in range(len(hsamp[0,0,0,:])):\n",
    "    print(f_idx)\n",
    "    print(hsamp[ssidx[f_idx,0], ssidx[f_idx,1], ssidx[f_idx,2], ssidx[f_idx,3]])\n",
    "    print(hsmax[f_idx])\n",
    "    print(np.max(hsamp[...,f_idx]))\n",
    "    # Those should all be equal, lets make this into asserts\n",
    "print(hsamp.shape)\n"
   ]
  },
  {
   "cell_type": "code",
   "execution_count": 16,
   "metadata": {},
   "outputs": [
    {
     "name": "stdout",
     "output_type": "stream",
     "text": [
      "False\n"
     ]
    }
   ],
   "source": [
    "bgnum = np.floor(number).astype(int) \n",
    "print(np.shares_memory(bgnum, number))"
   ]
  },
  {
   "cell_type": "code",
   "execution_count": 17,
   "metadata": {},
   "outputs": [
    {
     "name": "stdout",
     "output_type": "stream",
     "text": [
      "(3, 4, 2) 9000 800\n",
      "(2,)\n",
      "[9000  800]\n",
      "index (3, 2) \n",
      " [[1 2]\n",
      " [0 3]\n",
      " [0 1]]\n",
      "rot (2, 3) \n",
      " [[1 0 0]\n",
      " [2 3 1]]\n",
      "9000\n",
      "800\n",
      "9000\n",
      "800\n"
     ]
    }
   ],
   "source": [
    "arr = np.array([[[1,2], [3,4], [5,6], [1,2]], [[9000,20], [30,40], [50,60], [10,20]], [[100,200], [300,400], [500,600], [700,800]]])\n",
    "# arr, like hsamp, shape (3,4,2)\n",
    "print(arr.shape, np.max(arr[...,0]), np.max(arr[...,1]))\n",
    "maxes = np.amax(arr, axis=(0,1)) \n",
    "# maxes, like hsmax, shape 2\n",
    "print(maxes.shape)\n",
    "print(arr[np.where(arr==maxes)])\n",
    "idx = np.array(np.where(arr==maxes))\n",
    "print('index', idx.shape, '\\n', idx)\n",
    "rot = np.swapaxes(idx,0,1)\n",
    "print('rot', rot.shape, '\\n', rot)\n",
    "for i in range(2):\n",
    "    print(arr[int(idx[0,i]), int(idx[1,i]), int(idx[2,i])])\n",
    "for i in range(2):\n",
    "    print(arr[int(rot[i,0]), int(rot[i,1]), int(rot[i,2])])"
   ]
  },
  {
   "cell_type": "markdown",
   "metadata": {},
   "source": [
    "here's how to check"
   ]
  },
  {
   "cell_type": "code",
   "execution_count": 18,
   "metadata": {},
   "outputs": [
    {
     "name": "stdout",
     "output_type": "stream",
     "text": [
      "13 23 16 0\n",
      "12 23 18 1\n",
      "10 23 16 2\n",
      "10 23 18 3\n",
      "9 23 17 4\n",
      "8 23 16 5\n",
      "8 23 17 6\n",
      "8 23 18 7\n",
      "7 23 17 8\n",
      "7 23 17 9\n",
      "6 23 16 10\n",
      "7 23 18 11\n"
     ]
    }
   ],
   "source": [
    "hsmax_hsamp_match = np.empty_like(hsmax)\n",
    "hsmax_ssidx_match = np.empty_like(hsmax)\n",
    "for f_idx in range(len(hsmax)):\n",
    "    hsmax_hsamp_match[f_idx] = (np.max(hsamp[...,f_idx]) == hsmax[f_idx])\n",
    "    \n",
    "    m,q,z,f = (ssidx[np.where(ssidx[:,3] == f_idx)])[0]\n",
    "    print(m,q,z,f)\n",
    "    hsmax_ssidx_match[f_idx] = (hsamp[m,q,z,f] == hsmax[f_idx])\n",
    "assert np.all(hsmax_hsamp_match == True), \"the max amplitudes in hsamp do not match those in hsmax\"\n",
    "assert np.all(hsmax_ssidx_match == True), \"the max amplitudes in hsamp idenfitied with ssidx do not match those in hsmax\""
   ]
  },
  {
   "cell_type": "code",
   "execution_count": 19,
   "metadata": {},
   "outputs": [
    {
     "name": "stdout",
     "output_type": "stream",
     "text": [
      "[[10 23 18  3]]\n"
     ]
    }
   ],
   "source": [
    "# to look up where the strain at some index (e.g. from ssidx):\n",
    "f=3\n",
    "print(ssidx[np.where(ssidx[:,3] == f)])"
   ]
  },
  {
   "cell_type": "code",
   "execution_count": 20,
   "metadata": {},
   "outputs": [
    {
     "name": "stdout",
     "output_type": "stream",
     "text": [
      "[13 23 16  0]\n",
      "[[13 23 16  0]\n",
      " [12 23 18  1]\n",
      " [10 23 16  2]\n",
      " [10 23 18  3]\n",
      " [ 9 23 17  4]\n",
      " [ 8 23 16  5]\n",
      " [ 8 23 17  6]\n",
      " [ 8 23 18  7]\n",
      " [ 7 23 17  8]\n",
      " [ 7 23 17  9]\n",
      " [ 6 23 16 10]\n",
      " [ 7 23 18 11]]\n",
      "[ 0  1  2  3  4  5  6  7  8  9 10 11]\n"
     ]
    }
   ],
   "source": [
    "print(ssidx[0,...])\n",
    "print(ssidx)\n",
    "print(ssidx[:,3])\n",
    "# print(number.shape)\n",
    "# print(hsmax)\n"
   ]
  },
  {
   "cell_type": "code",
   "execution_count": 21,
   "metadata": {},
   "outputs": [
    {
     "name": "stdout",
     "output_type": "stream",
     "text": [
      "[1. 1. 1. 1. 1. 1. 1. 1. 1. 1. 1. 1.]\n",
      "[1. 1. 1. 1. 1. 1. 1. 1. 1. 1. 1. 1.]\n"
     ]
    }
   ],
   "source": [
    "print(hsmax_hsamp_match)\n",
    "print(hsmax_ssidx_match)"
   ]
  },
  {
   "cell_type": "code",
   "execution_count": 22,
   "metadata": {},
   "outputs": [
    {
     "name": "stdout",
     "output_type": "stream",
     "text": [
      "[1.01e-16 4.33e-17 1.23e-17 1.04e-17 5.48e-18 2.97e-18 2.67e-18 2.50e-18\n",
      " 1.23e-18 1.32e-18 6.73e-19 1.31e-18]\n",
      "[[ 6 23 16 10]\n",
      " [ 7 23 17  8]\n",
      " [ 7 23 17  9]\n",
      " [ 7 23 18 11]\n",
      " [ 8 23 16  5]\n",
      " [ 8 23 17  6]\n",
      " [ 8 23 18  7]\n",
      " [ 9 23 17  4]\n",
      " [10 23 16  2]\n",
      " [10 23 18  3]\n",
      " [12 23 18  1]\n",
      " [13 23 16  0]]\n",
      "[[ 6 23 16 10]\n",
      " [ 7 23 17  8]\n",
      " [ 7 23 17  9]\n",
      " [ 7 23 18 11]\n",
      " [ 8 23 16  5]\n",
      " [ 8 23 17  6]\n",
      " [ 8 23 18  7]\n",
      " [ 9 23 17  4]\n",
      " [10 23 16  2]\n",
      " [10 23 18  3]\n",
      " [12 23 18  1]\n",
      " [13 23 16  0]]\n",
      "True\n",
      "1.0051787086385068e-16\n",
      "1.0051787086385068e-16\n",
      "1.0051787086385068e-16\n"
     ]
    }
   ],
   "source": [
    "hsmaxes = np.max(hsamp, axis=(0,1,2))\n",
    "print(hsmaxes) # this orders them from largest to smallest\n",
    "argwhere = np.argwhere(hsamp==hsmaxes)\n",
    "revwhere = np.argwhere(hsmaxes==hsamp) # order makes no dif\n",
    "print(argwhere)\n",
    "print(revwhere)\n",
    "print(np.all(argwhere==revwhere))\n",
    "print(hsmaxes[0])\n",
    "print(np.max(hsmax))\n",
    "print(hsamp[13,23,16,0])"
   ]
  },
  {
   "attachments": {},
   "cell_type": "markdown",
   "metadata": {},
   "source": [
    "grid:\n",
    "\n",
    "1x  |  xx  |  xx  |  xx  |  xx \\\n",
    "xx  |  9x  |  x3  |  xx  |  xx \\\n",
    "xx  |  xx  |  xx  |  x4  |  x5 "
   ]
  },
  {
   "cell_type": "code",
   "execution_count": 23,
   "metadata": {},
   "outputs": [
    {
     "name": "stdout",
     "output_type": "stream",
     "text": [
      "(2, 1, 3, 5)\n",
      "mqz_f:\n",
      " [[0 0 1 1 1]\n",
      " [0 0 0 0 0]\n",
      " [0 1 1 2 2]]\n",
      "\n",
      "f_mqz:\n",
      " [[0 0 0]\n",
      " [0 0 1]\n",
      " [1 0 1]\n",
      " [1 0 2]\n",
      " [1 0 2]]\n",
      "\n",
      "all_f:\n",
      " [[0 0 1 1 1]\n",
      " [0 0 0 0 0]\n",
      " [0 1 1 2 2]\n",
      " [0 1 2 3 4]]\n",
      "\n",
      "f_all:\n",
      " [[0 0 0 0]\n",
      " [0 0 1 1]\n",
      " [1 0 1 2]\n",
      " [1 0 2 3]\n",
      " [1 0 2 4]]\n"
     ]
    }
   ],
   "source": [
    "grid = np.array([[[[1,0,0,0,0],[0,9,0,0,0],[0,0,0,0,0]]],\n",
    "                 [[[0,0,0,0,0],[0,0,3,0,0],[0,0,0,4,5]]]])\n",
    "print(grid.shape)\n",
    "mqz_f, f_mqz, all_f, f_all= max_index_at_f(grid)\n",
    "print('mqz_f:\\n',mqz_f)\n",
    "print('\\nf_mqz:\\n', f_mqz)\n",
    "print('\\nall_f:\\n', all_f)\n",
    "print('\\nf_all:\\n', f_all)"
   ]
  },
  {
   "cell_type": "code",
   "execution_count": 24,
   "metadata": {},
   "outputs": [
    {
     "name": "stdout",
     "output_type": "stream",
     "text": [
      "[1 9 3 4 5]\n",
      "0 0 0 0 grid max: 1\n",
      "0 0 1 1 grid max: 9\n",
      "1 0 1 2 grid max: 3\n",
      "1 0 2 3 grid max: 4\n",
      "1 0 2 4 grid max: 5\n",
      "[[0 0 0 0]\n",
      " [0 0 1 1]\n",
      " [1 0 1 2]\n",
      " [1 0 2 3]\n",
      " [1 0 2 4]]\n"
     ]
    }
   ],
   "source": [
    "maxes = np.amax(grid, axis=(0,1,2))\n",
    "print(maxes)\n",
    "\n",
    "hsmax = np.amax(grid, axis=(0,1,2)) #find max hs at each frequency\n",
    "    \n",
    "    #### 2) Record the indices and strain of that single source\n",
    "\n",
    "# --- Indices of Loudest Bin ---\n",
    "# Shape [F-1, 4], looks like\n",
    "# [[m_idx,q_idx,z_idx,0],\n",
    "#  [m_idx,q_idx,z_idx,1],\n",
    "#   ........\n",
    "#  [m_idx,q_idx,z_idx,F-2]]\n",
    "ssidx = np.argwhere(grid==hsmax) # NOTE: \n",
    "for s in range(len(ssidx)):\n",
    "    m,q,z,f = ssidx[s]\n",
    "    print(m,q,z,f, 'grid max:',grid[m,q,z,f])\n",
    "print(ssidx)"
   ]
  },
  {
   "cell_type": "code",
   "execution_count": 25,
   "metadata": {},
   "outputs": [
    {
     "name": "stdout",
     "output_type": "stream",
     "text": [
      "[0.00e+00 0.00e+00 0.00e+00 0.00e+00 0.00e+00 0.00e+00 0.00e+00 0.00e+00\n",
      " 0.00e+00 0.00e+00 0.00e+00 4.77e-20 3.36e-20 2.40e-20 1.74e-20 1.31e-20\n",
      " 1.01e-20 8.22e-21 7.05e-21 6.43e-21 6.24e-21 6.40e-21 6.90e-21 7.74e-21]\n",
      "4.765568362190449e-20\n"
     ]
    }
   ],
   "source": [
    "am = (np.argmax(hsamp[3,3,:,4]))\n",
    "print(hsamp[3,3,:,4])\n",
    "print(hsamp[3,3,am,4])"
   ]
  },
  {
   "cell_type": "code",
   "execution_count": 26,
   "metadata": {},
   "outputs": [
    {
     "name": "stdout",
     "output_type": "stream",
     "text": [
      "[[0 0 0 0]\n",
      " [0 0 1 1]\n",
      " [1 0 1 2]\n",
      " [1 0 2 3]\n",
      " [1 0 2 4]]\n"
     ]
    }
   ],
   "source": [
    "mqz_f, f_mqz, all_f, f_all= max_index_at_f(grid)\n",
    "argwhere = argwhere_at_f(grid)\n",
    "print(argwhere)\n",
    "assert (np.all(f_all == argwhere)), 'argwhere failing to find maxes'"
   ]
  },
  {
   "cell_type": "code",
   "execution_count": 27,
   "metadata": {},
   "outputs": [
    {
     "name": "stdout",
     "output_type": "stream",
     "text": [
      "0 0 0 0 max: 1\n",
      "0 0 1 1 max: 9\n",
      "1 0 1 2 max: 3\n",
      "1 0 2 3 max: 4\n",
      "1 0 2 4 max: 5\n"
     ]
    }
   ],
   "source": [
    "for i in range(len(grid[0,0,0,:])):\n",
    "    m,q,z,f = argwhere[i]\n",
    "    print(m,q,z,f, 'max:', grid[m,q,z,f])"
   ]
  },
  {
   "cell_type": "code",
   "execution_count": 28,
   "metadata": {},
   "outputs": [
    {
     "name": "stdout",
     "output_type": "stream",
     "text": [
      "where: len= 4 with shapes= (5,) (5,) (5,) (5,) \n",
      " (array([0, 0, 1, 1, 1], dtype=int64), array([0, 0, 0, 0, 0], dtype=int64), array([0, 1, 1, 2, 2], dtype=int64), array([0, 1, 2, 3, 4], dtype=int64))\n",
      "max by where: [1 2 3 4 5]\n",
      "\n",
      "m: 1 \n",
      "q: 0 \n",
      "z: 2 \n",
      "f: 4\n",
      "argmaxes: () \n",
      " 29\n"
     ]
    }
   ],
   "source": [
    "grid = np.array([[[[1,0,0,0,0],[0,2,0,0,0],[0,0,0,0,0]]],\n",
    "                 [[[0,0,0,0,0],[0,0,3,0,0],[0,0,0,4,5]]]])\n",
    "maxes = np.max(grid, axis=(0,1,2))\n",
    "# print('grid:', grid.shape, '\\n', grid)\n",
    "# print('maxes', maxes.shape, '\\n', maxes)\n",
    "where = np.where(grid==maxes)\n",
    "print('where: len=', len(where), 'with shapes=', where[0].shape, where[1].shape, where[2].shape,\n",
    "      where[3].shape, '\\n', where)\n",
    "print('max by where:', grid[np.where(maxes==grid)])\n",
    "print()\n",
    "argmax = np.argmax(grid)\n",
    "m,q,z,f = np.unravel_index(np.argmax(grid), grid.shape)\n",
    "print('m:',m, '\\nq:',q, '\\nz:',z, '\\nf:',f)\n",
    "print('argmaxes:', argmax.shape, '\\n', argmax)"
   ]
  },
  {
   "cell_type": "code",
   "execution_count": 29,
   "metadata": {},
   "outputs": [
    {
     "name": "stdout",
     "output_type": "stream",
     "text": [
      "idxs (0, 0) \n",
      " []\n",
      "rots (0, 0) \n",
      " []\n"
     ]
    },
    {
     "name": "stderr",
     "output_type": "stream",
     "text": [
      "C:\\Users\\emiga\\AppData\\Local\\Temp\\ipykernel_25096\\1210486066.py:1: DeprecationWarning: elementwise comparison failed; this will raise an error in the future.\n",
      "  idxs = np.argwhere(arr==maxes)\n"
     ]
    },
    {
     "ename": "IndexError",
     "evalue": "index 0 is out of bounds for axis 0 with size 0",
     "output_type": "error",
     "traceback": [
      "\u001b[1;31m---------------------------------------------------------------------------\u001b[0m",
      "\u001b[1;31mIndexError\u001b[0m                                Traceback (most recent call last)",
      "Cell \u001b[1;32mIn[29], line 5\u001b[0m\n\u001b[0;32m      3\u001b[0m rots \u001b[39m=\u001b[39m np\u001b[39m.\u001b[39mrot90(idxs)\n\u001b[0;32m      4\u001b[0m \u001b[39mprint\u001b[39m(\u001b[39m'\u001b[39m\u001b[39mrots\u001b[39m\u001b[39m'\u001b[39m, rots\u001b[39m.\u001b[39mshape, \u001b[39m'\u001b[39m\u001b[39m\\n\u001b[39;00m\u001b[39m'\u001b[39m, rots)\n\u001b[1;32m----> 5\u001b[0m \u001b[39mprint\u001b[39m(idxs[\u001b[39m0\u001b[39;49m])\n\u001b[0;32m      6\u001b[0m \u001b[39mfor\u001b[39;00m i \u001b[39min\u001b[39;00m [\u001b[39m0\u001b[39m,\u001b[39m1\u001b[39m]:\n\u001b[0;32m      7\u001b[0m     \u001b[39mprint\u001b[39m(arr[idxs[i,\u001b[39m0\u001b[39m], idxs[i,\u001b[39m1\u001b[39m], idxs[i,\u001b[39m2\u001b[39m]])\n",
      "\u001b[1;31mIndexError\u001b[0m: index 0 is out of bounds for axis 0 with size 0"
     ]
    }
   ],
   "source": [
    "idxs = np.argwhere(arr==maxes)\n",
    "print('idxs', idxs.shape,'\\n', idxs)\n",
    "rots = np.rot90(idxs)\n",
    "print('rots', rots.shape, '\\n', rots)\n",
    "print(idxs[0])\n",
    "for i in [0,1]:\n",
    "    print(arr[idxs[i,0], idxs[i,1], idxs[i,2]])\n",
    "for i in [0,1]:\n",
    "    # print(arr[rots[0,i], rots[1,i], rots[2,i]])\n",
    "    print(arr[rots[2,i], rots[1,i], rots[0,i]])\n",
    "# the rot situation is trickier, just use\n",
    "# idxs = np.argwhere(arr==maxes)\n",
    "# returns (2,3) array\n",
    "# or (f, 4) array?\n"
   ]
  },
  {
   "attachments": {},
   "cell_type": "markdown",
   "metadata": {},
   "source": [
    "another sample grid for hsamp"
   ]
  },
  {
   "cell_type": "code",
   "execution_count": null,
   "metadata": {},
   "outputs": [
    {
     "name": "stdout",
     "output_type": "stream",
     "text": [
      "[1 9 3 4 5]\n",
      "(5, 4)\n",
      "[[0 0 0 0]\n",
      " [0 0 1 1]\n",
      " [1 0 1 2]\n",
      " [1 0 2 3]\n",
      " [1 0 2 4]]\n",
      "0\n",
      "0 0 0 0 1\n",
      "1\n",
      "0 0 1 1 9\n",
      "2\n",
      "1 0 1 2 3\n",
      "3\n",
      "1 0 2 3 4\n",
      "4\n",
      "1 0 2 4 5\n"
     ]
    }
   ],
   "source": [
    "# --- Single Source Strain Amplitude At Each Frequency ---\n",
    "hsamp = np.copy(grid)\n",
    "# print(hsamp)\n",
    "\n",
    "hsmax = np.amax(hsamp, axis=(0,1,2)) #find max hs at each frequency\n",
    "print(hsmax)\n",
    "#### 2) Record the indices and strain of that single source\n",
    "\n",
    "# --- Indices of Loudest Bin ---\n",
    "# Shape [F-1, 4], looks like\n",
    "# [[m_idx,q_idx,z_idx,0],\n",
    "#  [m_idx,q_idx,z_idx,1],\n",
    "#   ........\n",
    "#  [m_idx,q_idx,z_idx,F-2]]\n",
    "ssidx = np.argwhere(hsamp==hsmax) \n",
    "print(ssidx.shape)\n",
    "print(ssidx)\n",
    "for s in range(len(ssidx)):\n",
    "    print(s)\n",
    "    m,q,z,f = ssidx[s]\n",
    "    print(m,q,z,f, hsamp[m,q,z,f])\n",
    "\n",
    "# This works perfectly for my test grid, so why the actual\n",
    "# is it not working fo the real hsamps\n",
    "# I AM LOSING MY MIND"
   ]
  },
  {
   "cell_type": "markdown",
   "metadata": {},
   "source": [
    "number"
   ]
  },
  {
   "cell_type": "code",
   "execution_count": null,
   "metadata": {},
   "outputs": [
    {
     "name": "stdout",
     "output_type": "stream",
     "text": [
      "(24, 24, 24, 5)\n",
      "all freq, m10 q10 and z10, [6.23203359 0.45636397 0.10195563 0.03535977 0.01960078]\n",
      "all 2 ms, 1q, 3zs, all 5 freqs:\n",
      " [[[[2.29951123e+02 1.68390312e+01 3.76198424e+00 1.30471362e+00\n",
      "    7.23234396e-01]\n",
      "   [6.73749340e+02 4.93378158e+01 1.10224919e+01 3.82276863e+00\n",
      "    2.11905335e+00]\n",
      "   [1.90675301e+03 1.39629122e+02 3.11943455e+01 1.08186757e+01\n",
      "    5.99705426e+00]]]\n",
      "\n",
      "\n",
      " [[[1.12491962e+02 8.23764476e+00 1.84036061e+00 6.38265181e-01\n",
      "    3.53805867e-01]\n",
      "   [3.29498024e+02 2.41287254e+01 5.39056455e+00 1.86953015e+00\n",
      "    1.03632590e+00]\n",
      "   [9.32087993e+02 6.82556301e+01 1.52488942e+01 5.28854950e+00\n",
      "    2.93157123e+00]]]]\n"
     ]
    }
   ],
   "source": [
    "print(number.shape)\n",
    "print('all freq, m10 q10 and z10,', number[10,10,10])\n",
    "print('all 2 ms, 1q, 3zs, all 5 freqs:\\n', number[5:7,10:11,10:13])"
   ]
  },
  {
   "cell_type": "code",
   "execution_count": null,
   "metadata": {},
   "outputs": [],
   "source": [
    "# --------------- Single Sources ------------------\n",
    "    ##### 0) Round and/or realize so numbers are all integers\n",
    "# (round == True):\n",
    "bgnum = np.copy(np.floor(number).astype(int))\n",
    "assert (np.all(bgnum%1 ==0)), 'nonzero numbers found with round=True'\n",
    "    # else:\n",
    "    #     bgnum = np.copy(number)\n",
    "\n",
    "# if(realize == True):\n",
    "bgnum = np.random.poisson(number)\n",
    "assert (np.all(bgnum%1 ==0)), 'nonzero numbers found with realize=True'\n"
   ]
  },
  {
   "attachments": {},
   "cell_type": "markdown",
   "metadata": {},
   "source": [
    "number subtraction"
   ]
  },
  {
   "cell_type": "code",
   "execution_count": null,
   "metadata": {},
   "outputs": [],
   "source": [
    "def subtract_from_number(bgnum, ssidx):\n",
    "    for ff in range(len(ssidx)):\n",
    "        m,q,z,f = ssidx[ff]\n",
    "        print(m,q,z,f)\n",
    "        bgnum[m,q,z,f] -=1\n",
    "    return bgnum\n",
    "\n",
    "\n",
    "# better subtraction method?\n",
    "def better_sub_from_number(number, hsamp, hsmax):\n",
    "    bgnum = np.copy(number)\n",
    "    bgnum[np.where(hsamp == hsmax)]-=1\n",
    "    return bgnum"
   ]
  },
  {
   "cell_type": "code",
   "execution_count": null,
   "metadata": {},
   "outputs": [
    {
     "name": "stdout",
     "output_type": "stream",
     "text": [
      "(4,)\n",
      "[[[[         0          0          0          0          0]\n",
      "   [    109891       8046       1796        622        344]\n",
      "   [  12899359     944603     211032      73189      40570]]]\n",
      "\n",
      "\n",
      " [[[         0          0          0          0          0]\n",
      "   [   8827456     646423     144416      50085      27763]\n",
      "   [1093906979   80105430   17896241    6206689    3440518]]]\n",
      "\n",
      "\n",
      " [[[         0          0          0          0          0]\n",
      "   [    109891       8046       1796        622        344]\n",
      "   [  12899359     944603     211032      73189      40570]]]\n",
      "\n",
      "\n",
      " [[[         0          0          0          0          0]\n",
      "   [   8827456     646423     144416      50085      27763]\n",
      "   [1093906979   80105430   17896241    6206689    3440518]]]]\n"
     ]
    }
   ],
   "source": [
    "print(ssidx[0].shape)\n",
    "print(rounded[ssidx[0]]) "
   ]
  },
  {
   "cell_type": "code",
   "execution_count": null,
   "metadata": {},
   "outputs": [
    {
     "ename": "NameError",
     "evalue": "name 'run_example_test' is not defined",
     "output_type": "error",
     "traceback": [
      "\u001b[1;31m---------------------------------------------------------------------------\u001b[0m",
      "\u001b[1;31mNameError\u001b[0m                                 Traceback (most recent call last)",
      "Cell \u001b[1;32mIn[16], line 2\u001b[0m\n\u001b[0;32m      1\u001b[0m edges, number, fobs, exname \u001b[39m=\u001b[39m example2(\u001b[39mFalse\u001b[39;00m)\n\u001b[1;32m----> 2\u001b[0m hc_bg, hc_ss, hsamp, ssidx, hsmax, bgnum \u001b[39m=\u001b[39m run_example_test(edges, number, fobs, exname)\n\u001b[0;32m      3\u001b[0m rounded \u001b[39m=\u001b[39m np\u001b[39m.\u001b[39mfloor(number)\u001b[39m.\u001b[39mastype(\u001b[39mint\u001b[39m)\n\u001b[0;32m      4\u001b[0m subnum \u001b[39m=\u001b[39m subtract_from_number(rounded, ssidx)\n",
      "\u001b[1;31mNameError\u001b[0m: name 'run_example_test' is not defined"
     ]
    }
   ],
   "source": [
    "edges, number, fobs, exname = example2(False)\n",
    "hc_bg, hc_ss, hsamp, ssidx, hsmax, bgnum = run_example_test(edges, number, fobs, exname)\n",
    "rounded = np.floor(number).astype(int)\n",
    "subnum = subtract_from_number(rounded, ssidx)\n",
    "print(np.all(subnum == bgnum))\n",
    "\n",
    "rounded = np.floor(number).astype(int)\n",
    "subnum2 = better_sub_from_number(rounded, hsamp, hsmax)\n",
    "print(np.all(subnum2==subnum))\n",
    "\n",
    "rounded = np.floor(number).astype(int)\n",
    "subnum3 = sub2(rounded, ssidx)\n",
    "print(np.all(subnum3==subnum))"
   ]
  },
  {
   "cell_type": "code",
   "execution_count": null,
   "metadata": {},
   "outputs": [],
   "source": [
    "def number_test(num, bgnum, fobs, exname=''):\n",
    "    ''' \n",
    "    Plots num - bgnum, where number is the ndarray of \n",
    "    integer number of sources in each bin, i.e. after \n",
    "    rounding or Poisson sampling\n",
    "\n",
    "    Parameters\n",
    "    ------------\n",
    "    num : (M, Q, Z, F) array\n",
    "        integer numbers in each bin, i.e. after rounding or\n",
    "        Poisson sampling\n",
    "    bgnum : (M, Q, Z, F) array\n",
    "        number of background sources in each bin, \n",
    "        after single source subtraction\n",
    "    fobs : (F) array\n",
    "        frequencies of each F, for ax titles\n",
    "    exname : \n",
    "\n",
    "    Returns\n",
    "    -----------\n",
    "    None \n",
    "\n",
    "    TODO: Add an assertion that there be one nonzero value \n",
    "    in the difference array at each frequency\n",
    "    \n",
    "    '''\n",
    "        \n",
    "    assert np.all(num%1 == 0), \"use integer array for num\"\n",
    "    fig, ax = plt.subplots(1,len(fobs), figsize = (10,3), sharey=True)\n",
    "    fig.suptitle('integer number - numbg for each bin, '+ exname)\n",
    "    ax[0].set_ylabel('number - number_bg')\n",
    "    bins = np.arange(0, num[...,0].size, 1)\n",
    "    bins = np.reshape(bins, num[...,0].shape)\n",
    "    # print(bins.shape)\n",
    "    # print(num[...,0].shape)\n",
    "    for f in range(len(fobs)):\n",
    "        ax[f].scatter(bins, (num[...,f] - bgnum[...,f]))\n",
    "        ax[f].set_title('$f_\\mathrm{obs}$ = %dnHz' % (fobs[f]*10**9))\n",
    "        ax[f].set_xlabel('bin')\n",
    "    fig.tight_layout()"
   ]
  },
  {
   "cell_type": "code",
   "execution_count": null,
   "metadata": {},
   "outputs": [
    {
     "ename": "IndexError",
     "evalue": "index 5 is out of bounds for axis 3 with size 5",
     "output_type": "error",
     "traceback": [
      "\u001b[1;31m---------------------------------------------------------------------------\u001b[0m",
      "\u001b[1;31mIndexError\u001b[0m                                Traceback (most recent call last)",
      "Cell \u001b[1;32mIn[411], line 1\u001b[0m\n\u001b[1;32m----> 1\u001b[0m number_test(rounded, bgnum, fobs\u001b[39m=\u001b[39;49mfobs, exname\u001b[39m=\u001b[39;49m exname)\n",
      "Cell \u001b[1;32mIn[410], line 37\u001b[0m, in \u001b[0;36mnumber_test\u001b[1;34m(num, bgnum, fobs, exname)\u001b[0m\n\u001b[0;32m     34\u001b[0m \u001b[39m# print(bins.shape)\u001b[39;00m\n\u001b[0;32m     35\u001b[0m \u001b[39m# print(num[...,0].shape)\u001b[39;00m\n\u001b[0;32m     36\u001b[0m \u001b[39mfor\u001b[39;00m f \u001b[39min\u001b[39;00m \u001b[39mrange\u001b[39m(\u001b[39mlen\u001b[39m(fobs)):\n\u001b[1;32m---> 37\u001b[0m     ax[f]\u001b[39m.\u001b[39mscatter(bins, (num[\u001b[39m.\u001b[39;49m\u001b[39m.\u001b[39;49m\u001b[39m.\u001b[39;49m,f] \u001b[39m-\u001b[39m bgnum[\u001b[39m.\u001b[39m\u001b[39m.\u001b[39m\u001b[39m.\u001b[39m,f]))\n\u001b[0;32m     38\u001b[0m     ax[f]\u001b[39m.\u001b[39mset_title(\u001b[39m'\u001b[39m\u001b[39m$f_\u001b[39m\u001b[39m\\\u001b[39m\u001b[39mmathrm\u001b[39m\u001b[39m{obs}\u001b[39;00m\u001b[39m$ = \u001b[39m\u001b[39m%d\u001b[39;00m\u001b[39mnHz\u001b[39m\u001b[39m'\u001b[39m \u001b[39m%\u001b[39m (fobs[f]\u001b[39m*\u001b[39m\u001b[39m10\u001b[39m\u001b[39m*\u001b[39m\u001b[39m*\u001b[39m\u001b[39m9\u001b[39m))\n\u001b[0;32m     39\u001b[0m     ax[f]\u001b[39m.\u001b[39mset_xlabel(\u001b[39m'\u001b[39m\u001b[39mbin\u001b[39m\u001b[39m'\u001b[39m)\n",
      "\u001b[1;31mIndexError\u001b[0m: index 5 is out of bounds for axis 3 with size 5"
     ]
    },
    {
     "data": {
      "image/png": "[encoded data removed]",
      "text/plain": [
       "<Figure size 1000x300 with 12 Axes>"
      ]
     },
     "metadata": {},
     "output_type": "display_data"
    }
   ],
   "source": [
    "number_test(rounded, bgnum, fobs=fobs, exname= exname)"
   ]
  },
  {
   "cell_type": "code",
   "execution_count": null,
   "metadata": {},
   "outputs": [
    {
     "name": "stdout",
     "output_type": "stream",
     "text": [
      "(5, 4)\n",
      "(24, 24, 24, 5)\n",
      "14 23 18 4\n",
      "15 23 18 3\n",
      "16 23 18 2\n",
      "17 23 16 1\n",
      "20 23 18 0\n",
      "(24, 24, 24)\n",
      "(24, 24, 24)\n"
     ]
    },
    {
     "data": {
      "image/png": "[encoded data removed]",
      "text/plain": [
       "<Figure size 1000x300 with 5 Axes>"
      ]
     },
     "metadata": {},
     "output_type": "display_data"
    }
   ],
   "source": [
    "print(ssidx.shape)\n",
    "print(hsamp.shape)\n",
    "numbg = np.floor(number).astype(int)\n",
    "rounded = np.floor(number).astype(int)\n",
    "# print(numbg%1 == 0)\n",
    "for ff in range(len(ssidx)):\n",
    "    m,q,z,f = ssidx[ff]\n",
    "    print(m,q,z,f)\n",
    "    numbg[m,q,z,f] -=1\n",
    "\n",
    "# plot number vs anything at 1 frequency \n",
    "freqs_in_nHz = fobs*10**9\n",
    "# plot number - single sources vs anything at 1 frequency,\n",
    "# should only vary in one cell\n",
    "fig, ax = plt.subplots(1,len(fobs), figsize = (10,3), sharey=True)\n",
    "fig.suptitle('rounded number - numbg for each bin, '+ exname)\n",
    "ax[0].set_ylabel('number - number_bg')\n",
    "bins = np.arange(0, number[...,0].size, 1)\n",
    "bins = np.reshape(bins, number[...,0].shape)\n",
    "print(bins.shape)\n",
    "print(number[...,0].shape)\n",
    "for f in range(len(fobs)):\n",
    "    ax[f].scatter(bins, (rounded[...,f] - numbg[...,f]))\n",
    "    ax[f].set_title('$f_\\mathrm{obs}$ = %dnHz' % freqs_in_nHz[f])\n",
    "    ax[f].set_xlabel('bin')\n",
    "fig.tight_layout()\n",
    "\n",
    "    "
   ]
  },
  {
   "cell_type": "code",
   "execution_count": null,
   "metadata": {},
   "outputs": [
    {
     "name": "stdout",
     "output_type": "stream",
     "text": [
      "5\n",
      "(array([ 0,  0,  0, ..., 23, 23, 23], dtype=int64), array([ 0,  0,  0, ..., 23, 23, 23], dtype=int64), array([ 0,  0,  0, ..., 23, 23, 23], dtype=int64), array([0, 1, 2, ..., 2, 3, 4], dtype=int64))\n",
      "[1 1 1 1 1]\n",
      "5\n"
     ]
    }
   ],
   "source": [
    "difs = rounded-numbg\n",
    "print(len(difs[0,0,0,:]))\n",
    "# print(difs[:,:,:,0])\n",
    "print(np.where(difs==0))\n",
    "# difs[0,0,0,0] = 2\n",
    "print(difs[np.where(difs>0)])\n",
    "print(len(difs[np.where(difs>0)]))\n",
    "assert len(difs[np.where(difs>0)]) == len(difs[0,0,0,:]), \"More than one bin per frequency found with a single source subtracted.\""
   ]
  },
  {
   "attachments": {},
   "cell_type": "markdown",
   "metadata": {},
   "source": [
    "sort hsmax with example"
   ]
  },
  {
   "cell_type": "code",
   "execution_count": null,
   "metadata": {},
   "outputs": [],
   "source": [
    "edges, number, fobs, exname = example2(False)"
   ]
  },
  {
   "cell_type": "code",
   "execution_count": null,
   "metadata": {},
   "outputs": [],
   "source": [
    "hc_bg, hc_ss, hsamp, ssidx, hsmax, bgnum = ss_gws_by_ndars(edges, number, realize=False, round=True, ss=True, sum=True)"
   ]
  },
  {
   "cell_type": "code",
   "execution_count": null,
   "metadata": {},
   "outputs": [],
   "source": [
    "run_example_test(edges, number, fobs, exname)"
   ]
  },
  {
   "cell_type": "code",
   "execution_count": null,
   "metadata": {},
   "outputs": [
    {
     "name": "stdout",
     "output_type": "stream",
     "text": [
      "[[[[0.00e+00 0.00e+00 0.00e+00 0.00e+00 0.00e+00]\n",
      "   [3.05e-20 4.84e-20 6.34e-20 7.68e-20 9.21e-20]\n",
      "   [4.45e-21 9.00e-18 9.26e-21 1.12e-20 1.34e-20]]]\n",
      "\n",
      "\n",
      " [[[0.00e+00 0.00e+00 0.00e+00 0.00e+00 0.00e+00]\n",
      "   [1.41e-18 2.25e-18 2.94e-18 3.57e-18 4.27e-18]\n",
      "   [2.07e-19 3.28e-19 4.30e-19 5.21e-19 6.24e-19]]]]\n"
     ]
    },
    {
     "ename": "AssertionError",
     "evalue": "hsmaxtest problem",
     "output_type": "error",
     "traceback": [
      "\u001b[1;31m---------------------------------------------------------------------------\u001b[0m",
      "\u001b[1;31mAssertionError\u001b[0m                            Traceback (most recent call last)",
      "Cell \u001b[1;32mIn[352], line 4\u001b[0m\n\u001b[0;32m      1\u001b[0m \u001b[39mprint\u001b[39m(hsamp)\n\u001b[0;32m      3\u001b[0m hsmaxtest \u001b[39m=\u001b[39m np\u001b[39m.\u001b[39mamax(hsamp, axis\u001b[39m=\u001b[39m(\u001b[39m0\u001b[39m,\u001b[39m1\u001b[39m,\u001b[39m2\u001b[39m)) \u001b[39m#find max hs at each frequency\u001b[39;00m\n\u001b[1;32m----> 4\u001b[0m \u001b[39massert\u001b[39;00m np\u001b[39m.\u001b[39mall(hsmaxtest \u001b[39m==\u001b[39m hsmax), \u001b[39m'\u001b[39m\u001b[39mhsmaxtest problem\u001b[39m\u001b[39m'\u001b[39m\n\u001b[0;32m      5\u001b[0m \u001b[39mprint\u001b[39m(hsmax)\n\u001b[0;32m      7\u001b[0m ssidxtest \u001b[39m=\u001b[39m np\u001b[39m.\u001b[39margwhere(hsamp\u001b[39m==\u001b[39mhsmaxtest) \n",
      "\u001b[1;31mAssertionError\u001b[0m: hsmaxtest problem"
     ]
    }
   ],
   "source": [
    "print(hsamp)\n",
    "\n",
    "hsmaxtest = np.amax(hsamp, axis=(0,1,2)) #find max hs at each frequency\n",
    "assert np.all(hsmaxtest == hsmax), 'hsmaxtest problem'\n",
    "print(hsmax)\n",
    "\n",
    "ssidxtest = np.argwhere(hsamp==hsmaxtest) \n",
    "assert np.all(ssidxtest == ssidx), 'ssidx problem'\n",
    "print(ssidx.shape)\n",
    "print(ssidx)\n",
    "for s in range(len(ssidx)):\n",
    "    print(s)\n",
    "    m,q,z,f = ssidx[s]\n",
    "    print(m,q,z,f, hsamp[m,q,z,f])\n",
    "\n",
    "# This works perfectly for my test grid, so why the actual\n",
    "# is it not working for the real hsamps\n",
    "# I AM LOSING MY MIND"
   ]
  },
  {
   "cell_type": "code",
   "execution_count": null,
   "metadata": {},
   "outputs": [
    {
     "name": "stdout",
     "output_type": "stream",
     "text": [
      "7.067344217243042e-21\n",
      "9e-18\n"
     ]
    }
   ],
   "source": [
    "# now modify example:\n",
    "print(hsamp[0,0,2,1]) # initially 4.83e-20, then set to larger number\n",
    "hsamp[0,0,2,1] = 9e-18\n",
    "print(hsamp[0,0,2,1])\n"
   ]
  },
  {
   "cell_type": "code",
   "execution_count": null,
   "metadata": {},
   "outputs": [
    {
     "name": "stdout",
     "output_type": "stream",
     "text": [
      "(5, 4)\n",
      "0\n",
      "0 0 2 1 9e-18\n",
      "1\n",
      "1 0 1 0 1.4148696145918927e-18\n",
      "2\n",
      "1 0 1 2 2.9430473970402786e-18\n",
      "3\n",
      "1 0 1 3 3.565248020561944e-18\n",
      "4\n",
      "1 0 1 4 4.273882933282341e-18\n"
     ]
    }
   ],
   "source": [
    "# print(hsamp)\n",
    "\n",
    "hsmaxtest = np.amax(hsamp, axis=(0,1,2)) #find max hs at each frequency\n",
    "# print(hsmaxtest)\n",
    "\n",
    "ssidxtest = np.argwhere(hsamp==hsmaxtest) \n",
    "# assert np.all(ssidxtest == ssidx), 'ssidx problem'\n",
    "print(ssidxtest.shape)\n",
    "# print(ssidxtest)\n",
    "for s in range(len(ssidx)):\n",
    "    print(s)\n",
    "    m,q,z,f = ssidxtest[s]\n",
    "    print(m,q,z,f, hsamp[m,q,z,f])\n",
    "\n",
    "# EUREKA! np.argwhere sorted by max, not np.amax"
   ]
  },
  {
   "cell_type": "code",
   "execution_count": null,
   "metadata": {},
   "outputs": [
    {
     "name": "stdout",
     "output_type": "stream",
     "text": [
      "[[1 0 1 0]\n",
      " [0 0 2 1]\n",
      " [1 0 1 2]\n",
      " [1 0 1 3]\n",
      " [1 0 1 4]]\n",
      "0\n",
      "1 0 1 0 1.4148696145918927e-18 1.4148696145918927e-18\n",
      "1\n",
      "0 0 2 1 9e-18 2.245965514601012e-18\n",
      "2\n",
      "1 0 1 2 2.9430473970402786e-18 2.9430473970402786e-18\n",
      "3\n",
      "1 0 1 3 3.565248020561944e-18 3.565248020561944e-18\n",
      "4\n",
      "1 0 1 4 4.273882933282341e-18 4.273882933282341e-18\n"
     ]
    }
   ],
   "source": [
    "ssidx_sorted = ssidxtest[ssidxtest[:,-1].argsort()]\n",
    "print(ssidx_sorted)\n",
    "for s in range(len(ssidx_sorted)):\n",
    "    print(s)\n",
    "    m,q,z,f = ssidx_sorted[s]\n",
    "    print(m,q,z,f, hsamp[m,q,z,f], hsmax[s])\n"
   ]
  },
  {
   "cell_type": "code",
   "execution_count": null,
   "metadata": {},
   "outputs": [
    {
     "name": "stdout",
     "output_type": "stream",
     "text": [
      "[7.08e-17 2.49e-17 1.22e-17 7.89e-18 5.07e-18]\n",
      "[14 23 18  4] 7.082030655840575e-17 7.082030655840575e-17\n"
     ]
    },
    {
     "ename": "IndexError",
     "evalue": "index 14 is out of bounds for axis 3 with size 5",
     "output_type": "error",
     "traceback": [
      "\u001b[1;31m---------------------------------------------------------------------------\u001b[0m",
      "\u001b[1;31mIndexError\u001b[0m                                Traceback (most recent call last)",
      "Cell \u001b[1;32mIn[289], line 6\u001b[0m\n\u001b[0;32m      4\u001b[0m \u001b[39mfor\u001b[39;00m a \u001b[39min\u001b[39;00m \u001b[39mrange\u001b[39m(\u001b[39mlen\u001b[39m(argwhere)):\n\u001b[0;32m      5\u001b[0m     \u001b[39mprint\u001b[39m(argwhere[a], hsmaxes[a], hsmax[a])\n\u001b[1;32m----> 6\u001b[0m     \u001b[39mprint\u001b[39m(np\u001b[39m.\u001b[39mmax(hsamp[\u001b[39m.\u001b[39;49m\u001b[39m.\u001b[39;49m\u001b[39m.\u001b[39;49m,argwhere[a]]))\n\u001b[0;32m      7\u001b[0m \u001b[39m# print(argwhere)\u001b[39;00m\n\u001b[0;32m      8\u001b[0m \u001b[39mprint\u001b[39m(hsmax[\u001b[39m0\u001b[39m])\n",
      "\u001b[1;31mIndexError\u001b[0m: index 14 is out of bounds for axis 3 with size 5"
     ]
    }
   ],
   "source": [
    "hsmaxes = np.max(hsamp, axis=(0,1,2))\n",
    "print(hsmaxes) # this orders them from largest to smallest\n",
    "argwhere = np.argwhere(hsamp==hsmaxes)\n",
    "for a in range(len(argwhere)):\n",
    "    print(argwhere[a], hsmaxes[a], hsmax[a])\n",
    "    print(np.max(hsamp[...,argwhere[a]]))\n",
    "# print(argwhere)\n",
    "print(hsmax[0])\n",
    "print(np.max(hsmax))\n",
    "print(hsamp[13,23,16,0])\n"
   ]
  },
  {
   "cell_type": "code",
   "execution_count": null,
   "metadata": {},
   "outputs": [
    {
     "name": "stdout",
     "output_type": "stream",
     "text": [
      "[[20 23 18  0]\n",
      " [17 23 16  1]\n",
      " [16 23 18  2]\n",
      " [15 23 18  3]\n",
      " [14 23 18  4]]\n",
      "20 23 18 0 7.082030655840575e-17\n",
      "17 23 16 1 2.485427762306846e-17\n",
      "16 23 18 2 1.2154808211517563e-17\n",
      "15 23 18 3 7.89165279540453e-18\n",
      "14 23 18 4 5.070236440195799e-18\n"
     ]
    }
   ],
   "source": [
    "sortedargs = argwhere[argwhere[:,-1].argsort()]\n",
    "print(sortedargs)\n",
    "maxsorted = np.empty_like(hsmax)\n",
    "for f_idx in range(len(hsmax)): \n",
    "    m,q,z,f = sortedargs[f_idx]\n",
    "    maxsorted[f_idx] = hsamp[m,q,z,f] \n",
    "    print(m,q,z,f, maxsorted[f_idx])\n",
    "# sortedargwhere = np.argwhere(hsamp == sortedmaxes)\n",
    "# print(sortedargwhere)"
   ]
  },
  {
   "cell_type": "code",
   "execution_count": null,
   "metadata": {},
   "outputs": [
    {
     "name": "stdout",
     "output_type": "stream",
     "text": [
      "[[20 23 18  0]\n",
      " [17 23 16  1]\n",
      " [16 23 18  2]\n",
      " [15 23 18  3]\n",
      " [14 23 18  4]]\n"
     ]
    }
   ],
   "source": [
    "print(argwhere[argwhere[:,-1].argsort()])"
   ]
  },
  {
   "cell_type": "code",
   "execution_count": null,
   "metadata": {},
   "outputs": [
    {
     "name": "stdout",
     "output_type": "stream",
     "text": [
      "0\n",
      "1.0051787086385068e-16\n",
      "1\n",
      "4.3250770488997604e-17\n",
      "2\n",
      "1.2332171467578702e-17\n",
      "3\n",
      "1.040297297960971e-17\n",
      "4\n",
      "5.478025031806371e-18\n",
      "5\n",
      "2.966218754178506e-18\n",
      "6\n",
      "2.6685858687611787e-18\n",
      "7\n",
      "2.5021946566713723e-18\n",
      "8\n",
      "1.2282383135442348e-18\n",
      "9\n",
      "1.3176122816587554e-18\n",
      "10\n",
      "6.732469961608836e-19\n",
      "11\n",
      "1.3115139732990947e-18\n"
     ]
    }
   ],
   "source": [
    "for f_idx in range(len(hsmax)):\n",
    "    print(f_idx)\n",
    "    # print(hsamp[ssidx[f_idx,0], ssidx[f_idx,1], ssidx[f_idx,2], ssidx[f_idx,3]])\n",
    "    print(hsmax[f_idx])\n",
    "    print(sorted_hsmax)\n",
    "    # print(np.max(hsamp[...,f_idx]))"
   ]
  },
  {
   "cell_type": "code",
   "execution_count": null,
   "metadata": {},
   "outputs": [
    {
     "name": "stdout",
     "output_type": "stream",
     "text": [
      "(5, 4)\n",
      "0\n",
      "5.070236440195799e-18\n",
      "7.082030655840575e-17\n",
      "7.082030655840575e-17\n",
      "1\n",
      "7.89165279540453e-18\n",
      "2.485427762306846e-17\n",
      "2.485427762306846e-17\n",
      "2\n",
      "1.2154808211517563e-17\n",
      "1.2154808211517563e-17\n",
      "1.2154808211517563e-17\n",
      "3\n",
      "2.485427762306846e-17\n",
      "7.89165279540453e-18\n",
      "7.89165279540453e-18\n",
      "4\n",
      "7.082030655840575e-17\n",
      "5.070236440195799e-18\n",
      "5.070236440195799e-18\n",
      "(24, 24, 24, 5)\n"
     ]
    }
   ],
   "source": [
    "np.set_printoptions(precision=2)\n",
    "#### Test hsmax\n",
    "# for i in range(len(hsmax)):\n",
    "#     print(np.max(hsamp[...,i]) == hsmax[i])\n",
    "# print(np.max(hsamp[...,0]))\n",
    "# print(hsmax)\n",
    "# print(number>=1)\n",
    "\n",
    "### Test ssidx\n",
    "# print(ssidx)\n",
    "print(ssidx.shape)\n",
    "for f_idx in range(len(hsamp[0,0,0,:])):\n",
    "    print(f_idx)\n",
    "    print(hsamp[ssidx[f_idx,0], ssidx[f_idx,1], ssidx[f_idx,2], ssidx[f_idx,3]])\n",
    "    print(hsmax[f_idx])\n",
    "    print(np.max(hsamp[...,f_idx]))\n",
    "    # Those should all be equal, lets make this into asserts\n",
    "print(hsamp.shape)\n",
    "# BUG: ssidx does not give the correct maxes for the more complicated exampleS (3 and 4)"
   ]
  },
  {
   "attachments": {},
   "cell_type": "markdown",
   "metadata": {},
   "source": [
    "compare to loops"
   ]
  },
  {
   "cell_type": "code",
   "execution_count": null,
   "metadata": {},
   "outputs": [
    {
     "ename": "TypeError",
     "evalue": "cannot unpack non-iterable numpy.float64 object",
     "output_type": "error",
     "traceback": [
      "\u001b[1;31m---------------------------------------------------------------------------\u001b[0m",
      "\u001b[1;31mTypeError\u001b[0m                                 Traceback (most recent call last)",
      "Cell \u001b[1;32mIn[17], line 2\u001b[0m\n\u001b[0;32m      1\u001b[0m edges, number, fobs, exname \u001b[39m=\u001b[39m example4(print_test\u001b[39m=\u001b[39m\u001b[39mFalse\u001b[39;00m)\n\u001b[1;32m----> 2\u001b[0m hc_bg, hc_ss, hsamp, ssidx, hsmax, bgnum \u001b[39m=\u001b[39m run_example_tests(edges, number, fobs, exname, print_test\u001b[39m=\u001b[39;49m\u001b[39mFalse\u001b[39;49;00m)\n",
      "Cell \u001b[1;32mIn[13], line 128\u001b[0m, in \u001b[0;36mrun_example_tests\u001b[1;34m(edges, number, fobs, exname, print_test, loop_comparison)\u001b[0m\n\u001b[0;32m    125\u001b[0m hc_bg, hc_ss, hsamp, hsmax, ssidx, bgnum \u001b[39m=\u001b[39m ss_gws_by_ndars(edges, number, realize\u001b[39m=\u001b[39m\u001b[39mFalse\u001b[39;00m, \u001b[39mround\u001b[39m\u001b[39m=\u001b[39m\u001b[39mTrue\u001b[39;00m, ss\u001b[39m=\u001b[39m\u001b[39mTrue\u001b[39;00m, \u001b[39msum\u001b[39m\u001b[39m=\u001b[39m\u001b[39mTrue\u001b[39;00m)\n\u001b[0;32m    126\u001b[0m \u001b[39m# max_test(hsmax, hsamp)\u001b[39;00m\n\u001b[1;32m--> 128\u001b[0m ssidx_test(hsmax, hsamp, ssidx, print_test)\n\u001b[0;32m    130\u001b[0m rounded \u001b[39m=\u001b[39m np\u001b[39m.\u001b[39mfloor(number)\u001b[39m.\u001b[39mastype(\u001b[39mint\u001b[39m)\n\u001b[0;32m    131\u001b[0m number_test(rounded, bgnum, fobs, exname, plot_test\u001b[39m=\u001b[39mprint_test)\n",
      "Cell \u001b[1;32mIn[13], line 25\u001b[0m, in \u001b[0;36mssidx_test\u001b[1;34m(hsmax, hsamp, ssidx, print_test)\u001b[0m\n\u001b[0;32m     23\u001b[0m \u001b[39m# check ssidx are correct and in frequency order\u001b[39;00m\n\u001b[0;32m     24\u001b[0m \u001b[39mfor\u001b[39;00m i \u001b[39min\u001b[39;00m \u001b[39mrange\u001b[39m(\u001b[39mlen\u001b[39m(hsmax)): \u001b[39m#ith frequency\u001b[39;00m\n\u001b[1;32m---> 25\u001b[0m     m,q,z,f \u001b[39m=\u001b[39m ssidx[i]\n\u001b[0;32m     26\u001b[0m     \u001b[39massert\u001b[39;00m i\u001b[39m==\u001b[39mf, \u001b[39m'\u001b[39m\u001b[39mssidx not in order of frequencies\u001b[39m\u001b[39m'\u001b[39m\n\u001b[0;32m     27\u001b[0m     \u001b[39mif\u001b[39;00m(print_test):\n",
      "\u001b[1;31mTypeError\u001b[0m: cannot unpack non-iterable numpy.float64 object"
     ]
    }
   ],
   "source": [
    "edges, number, fobs, exname = example4(print_test=False)\n",
    "hc_bg, hc_ss, hsamp, ssidx, hsmax, bgnum = run_example_tests(edges, number, fobs, exname, print_test=False)"
   ]
  },
  {
   "cell_type": "code",
   "execution_count": null,
   "metadata": {},
   "outputs": [
    {
     "name": "stdout",
     "output_type": "stream",
     "text": [
      "[]\n"
     ]
    }
   ],
   "source": [
    "hc_bg_loop, hc_ss_loop, sspar_loop, ssidx_loop, maxhs_loop, number_bg_loop \\\n",
    "      = ss_gws_by_loops(edges, number, realize=False, round=True, sum=True, ss=True)"
   ]
  },
  {
   "cell_type": "code",
   "execution_count": null,
   "metadata": {},
   "outputs": [
    {
     "name": "stdout",
     "output_type": "stream",
     "text": [
      "[ True  True  True  True  True  True  True  True  True  True  True  True]\n"
     ]
    }
   ],
   "source": [
    "print(hsmax==maxhs_loop)"
   ]
  },
  {
   "cell_type": "code",
   "execution_count": null,
   "metadata": {},
   "outputs": [
    {
     "name": "stdout",
     "output_type": "stream",
     "text": [
      "True\n",
      "False\n"
     ]
    },
    {
     "name": "stderr",
     "output_type": "stream",
     "text": [
      "C:\\Users\\emiga\\AppData\\Local\\Temp\\ipykernel_13792\\2197328468.py:2: DeprecationWarning: elementwise comparison failed; this will raise an error in the future.\n",
      "  print(np.all(ssidx == ssidx_loop))\n"
     ]
    }
   ],
   "source": [
    "print(np.all(bgnum == number_bg_loop))\n",
    "# print(np.all(ssidx == ssidx_loop))"
   ]
  },
  {
   "cell_type": "code",
   "execution_count": null,
   "metadata": {},
   "outputs": [
    {
     "name": "stdout",
     "output_type": "stream",
     "text": [
      "(12, 3)\n",
      "(12, 4)\n",
      "[ True  True  True]\n",
      "[ True  True  True]\n",
      "[ True  True  True]\n",
      "[ True  True  True]\n",
      "[ True  True  True]\n",
      "[ True  True  True]\n",
      "[ True  True  True]\n",
      "[ True  True  True]\n",
      "[ True  True  True]\n",
      "[ True  True  True]\n",
      "[ True  True  True]\n",
      "[ True  True  True]\n"
     ]
    }
   ],
   "source": [
    "print(ssidx_loop.shape)\n",
    "print(ssidx.shape)\n",
    "for i in range(len(ssidx)):\n",
    "    print(ssidx[i, 0:3] == ssidx_loop[i])"
   ]
  },
  {
   "cell_type": "code",
   "execution_count": null,
   "metadata": {},
   "outputs": [
    {
     "name": "stdout",
     "output_type": "stream",
     "text": [
      "[ True  True  True  True  True  True  True  True  True  True  True  True]\n",
      "True\n",
      "[0. 0. 0. 0. 0. 0. 0. 0. 0. 0. 0. 0.]\n",
      "[1.01e-16 6.12e-17 2.14e-17 2.08e-17 1.22e-17 7.27e-18 7.06e-18 7.08e-18\n",
      " 3.68e-18 4.17e-18 2.23e-18 3.28e-18]\n",
      "[1.01e-16 6.12e-17 2.14e-17 2.08e-17 1.22e-17 7.27e-18 7.06e-18 7.08e-18\n",
      " 3.68e-18 4.17e-18 2.23e-18 3.28e-18]\n"
     ]
    }
   ],
   "source": [
    "# hc_ss working!!\n",
    "\n",
    "print(np.isclose(hc_ss, hc_ss_loop, atol=10e-35))\n",
    "print(np.all(hc_ss == hc_ss_loop))\n",
    "print(hc_ss - hc_ss_loop)\n",
    "print(hc_ss)\n",
    "print(hc_ss_loop)"
   ]
  },
  {
   "cell_type": "code",
   "execution_count": null,
   "metadata": {},
   "outputs": [],
   "source": [
    "assert (np.all(hsmax == maxhs_loop)), \"hsmax by ndars does not match by loops\"\n",
    "assert (np.all(ssidx == ssidx_loop)), \"ssidx by ndars does not match by loops\"\n",
    "assert (np.all(bgnum == number_bg_loop)), \"bgnum by ndars does not match by loops\"\n",
    "assert (np.all(hc_ss == hc_ss_loop)), \"hc_ss by ndars does not match by loops\"    \n"
   ]
  },
  {
   "attachments": {},
   "cell_type": "markdown",
   "metadata": {},
   "source": [
    "working on hc_ss"
   ]
  },
  {
   "cell_type": "code",
   "execution_count": null,
   "metadata": {},
   "outputs": [
    {
     "name": "stdout",
     "output_type": "stream",
     "text": [
      "max_test passed\n",
      "ssidx test passes\n",
      "number test passed\n",
      "compare to loops test passed\n"
     ]
    },
    {
     "ename": "AssertionError",
     "evalue": "quadratic sum of hc_bg and hc_ss does not match hc_tt",
     "output_type": "error",
     "traceback": [
      "\u001b[1;31m---------------------------------------------------------------------------\u001b[0m",
      "\u001b[1;31mAssertionError\u001b[0m                            Traceback (most recent call last)",
      "Cell \u001b[1;32mIn[33], line 2\u001b[0m\n\u001b[0;32m      1\u001b[0m edges, number, fobs, exname \u001b[39m=\u001b[39m example4(print_test\u001b[39m=\u001b[39m\u001b[39mFalse\u001b[39;00m)\n\u001b[1;32m----> 2\u001b[0m hc_bg, hc_ss, hsamp, ssidx, hsmax, bgnum \u001b[39m=\u001b[39m run_example_tests(edges, number, fobs, exname, print_test\u001b[39m=\u001b[39;49m\u001b[39mFalse\u001b[39;49;00m)\n",
      "Cell \u001b[1;32mIn[28], line 140\u001b[0m, in \u001b[0;36mrun_example_tests\u001b[1;34m(edges, number, fobs, exname, print_test, loop_comparison)\u001b[0m\n\u001b[0;32m    137\u001b[0m     compare_to_loops_test(edges, number, hc_bg, hc_ss, hsmax, ssidx, bgnum)\n\u001b[0;32m    139\u001b[0m hc_tt \u001b[39m=\u001b[39m gws_by_ndars(edges, number, realize\u001b[39m=\u001b[39m\u001b[39mFalse\u001b[39;00m, \u001b[39mround\u001b[39m \u001b[39m=\u001b[39m \u001b[39mTrue\u001b[39;00m, \u001b[39msum\u001b[39m\u001b[39m=\u001b[39m\u001b[39mTrue\u001b[39;00m)  \n\u001b[1;32m--> 140\u001b[0m quadratic_sum_test(hc_bg, hc_ss, hc_tt, print_test)\n\u001b[0;32m    142\u001b[0m \u001b[39mreturn\u001b[39;00m hc_bg, hc_ss, hsamp, ssidx, hsmax, bgnum\n",
      "Cell \u001b[1;32mIn[28], line 100\u001b[0m, in \u001b[0;36mquadratic_sum_test\u001b[1;34m(hc_bg, hc_ss, hc_tt, print_test)\u001b[0m\n\u001b[0;32m     98\u001b[0m test \u001b[39m=\u001b[39m (hc_bg\u001b[39m*\u001b[39m\u001b[39m*\u001b[39m\u001b[39m2\u001b[39m \u001b[39m+\u001b[39m hc_ss\u001b[39m*\u001b[39m\u001b[39m*\u001b[39m\u001b[39m2\u001b[39m)\n\u001b[0;32m     99\u001b[0m error \u001b[39m=\u001b[39m (test\u001b[39m-\u001b[39mhc_tt\u001b[39m*\u001b[39m\u001b[39m*\u001b[39m\u001b[39m2\u001b[39m)\u001b[39m/\u001b[39mhc_tt\u001b[39m*\u001b[39m\u001b[39m*\u001b[39m\u001b[39m2\u001b[39m\n\u001b[1;32m--> 100\u001b[0m \u001b[39massert\u001b[39;00m np\u001b[39m.\u001b[39mall(np\u001b[39m.\u001b[39misclose(hc_tt, test, atol\u001b[39m=\u001b[39m\u001b[39m1e-30\u001b[39m, rtol\u001b[39m=\u001b[39m\u001b[39m1e-30\u001b[39m)), \\\n\u001b[0;32m    101\u001b[0m     \u001b[39m\"\u001b[39m\u001b[39mquadratic sum of hc_bg and hc_ss does not match hc_tt\u001b[39m\u001b[39m\"\u001b[39m\n\u001b[0;32m    102\u001b[0m \u001b[39mif\u001b[39;00m(print_test):\n\u001b[0;32m    103\u001b[0m     \u001b[39mprint\u001b[39m(\u001b[39m'\u001b[39m\u001b[39mpercent error between (hc_bg^2+hc_ss^2) and hc_tt:\u001b[39m\u001b[39m'\u001b[39m, error)\n",
      "\u001b[1;31mAssertionError\u001b[0m: quadratic sum of hc_bg and hc_ss does not match hc_tt"
     ]
    }
   ],
   "source": [
    "edges, number, fobs, exname = example4(print_test=False)\n",
    "hc_bg, hc_ss, hsamp, ssidx, hsmax, bgnum = run_example_tests(edges, number, fobs, exname, print_test=False)\n"
   ]
  },
  {
   "attachments": {},
   "cell_type": "markdown",
   "metadata": {},
   "source": [
    "warnings"
   ]
  },
  {
   "cell_type": "code",
   "execution_count": null,
   "metadata": {},
   "outputs": [
    {
     "name": "stdout",
     "output_type": "stream",
     "text": [
      "True\n",
      "should warn\n"
     ]
    }
   ],
   "source": [
    "# WHY DOESN'T WARNING SHOW UP?\n",
    "# warnings probably disabled\n",
    "num = np.array([0,1,2,3.5,4])\n",
    "print( np.any(num[np.where(num%1 !=0)]))\n",
    "def test(num):\n",
    "    if np.any(num[np.where(num%1 !=0)]): \n",
    "        print(\"should warn\")\n",
    "        warnings.warn('noninteger val found !') #('noninteger bgnum values:', bgnum[np.where(bgnum%1 !=0)]))\n",
    "test(num)"
   ]
  },
  {
   "attachments": {},
   "cell_type": "markdown",
   "metadata": {},
   "source": [
    "quadratic sum tests"
   ]
  },
  {
   "cell_type": "code",
   "execution_count": null,
   "metadata": {},
   "outputs": [],
   "source": [
    "hc_bg, hc_ss, hsamp, ssidx, hsmax, bgnum = ss_gws_by_ndars(edges, number, realize=False, round=True)\n",
    "hc_tt = gws_by_ndars(edges, number, realize=False, round = True, sum=True)  "
   ]
  },
  {
   "cell_type": "code",
   "execution_count": null,
   "metadata": {},
   "outputs": [
    {
     "name": "stdout",
     "output_type": "stream",
     "text": [
      "[ 0.00e+00  0.00e+00 -2.15e-16 -1.39e-16  0.00e+00  1.55e-16 -1.28e-16\n",
      " -2.18e-16 -1.71e-16 -2.55e-16 -1.99e-16 -1.90e-16]\n",
      "[0.00e+00 0.00e+00 0.00e+00 0.00e+00 0.00e+00 0.00e+00 0.00e+00 6.16e-33\n",
      " 6.16e-33 3.08e-33 3.08e-33 3.08e-33]\n",
      "[1.01e-16 6.12e-17 2.14e-17 2.08e-17 1.22e-17 7.27e-18 7.06e-18 7.08e-18\n",
      " 3.68e-18 4.17e-18 2.23e-18 3.28e-18]\n",
      "[ True  True  True  True  True  True  True  True  True  True  True  True]\n"
     ]
    }
   ],
   "source": [
    "test = (hc_bg**2 + hc_ss**2)\n",
    "error = (test-hc_tt**2)/hc_tt**2\n",
    "# np.isclose(hc_tt, )\n",
    "print(error)\n",
    "print(hc_tt - np.sqrt(hc_ss**2 + hc_bg**2))\n",
    "print(hc_ss)\n",
    "print(np.isclose(hc_tt, test, atol=2e-15, rtol=1e-15))"
   ]
  },
  {
   "cell_type": "code",
   "execution_count": null,
   "metadata": {},
   "outputs": [],
   "source": [
    "hc_bg_loop, hc_ss_loop, sspar_loop, ssidx_loop, maxhs_loop, number_bg_loop \\\n",
    "  = ss_gws_by_loops(edges, number, realize=False, round=True, sum=True, ss=True, print_test=False)"
   ]
  },
  {
   "attachments": {},
   "cell_type": "markdown",
   "metadata": {},
   "source": [
    "bg tests"
   ]
  },
  {
   "cell_type": "code",
   "execution_count": null,
   "metadata": {},
   "outputs": [
    {
     "name": "stdout",
     "output_type": "stream",
     "text": [
      "diff: [0. 0. 0. 0. 0.]\n",
      "percent diff: [0. 0. 0. 0. 0.]\n",
      "hc_bg: [8.95e-16 5.44e-16 4.12e-16 3.40e-16 2.83e-16]\n",
      "hc_bg_loop: [8.95e-16 5.44e-16 4.12e-16 3.40e-16 2.83e-16]\n"
     ]
    }
   ],
   "source": [
    "np.set_printoptions(precision=2)\n",
    "print('isequal:', hc_bg == hc_bg_loop)\n",
    "print('isclose:', np.isclose(hc_bg, hc_bg_loop, atol=1e-30, rtol=1e-30))\n",
    "\n",
    "diff = hc_bg - hc_bg_loop\n",
    "error = diff/hc_bg_loop\n",
    "# np.isclose(hc_tt, )\n",
    "print('diff:', diff)\n",
    "print('percent diff:', error)\n",
    "print('hc_bg:', hc_bg)\n",
    "print('hc_bg_loop:', hc_bg_loop)"
   ]
  },
  {
   "attachments": {},
   "cell_type": "markdown",
   "metadata": {},
   "source": [
    "# 2 Super Simple Example "
   ]
  },
  {
   "attachments": {},
   "cell_type": "markdown",
   "metadata": {},
   "source": [
    "## 2.1 Build Model and Calculate Strains\n",
    "Build Model"
   ]
  },
  {
   "cell_type": "code",
   "execution_count": null,
   "metadata": {},
   "outputs": [
    {
     "name": "stdout",
     "output_type": "stream",
     "text": [
      "Number of frequency bins: 4\n",
      "  between [0.63, 3.16] 1/yr\n",
      "          [20.00, 100.00] nHz\n",
      "edges: [array([1.e+39, 1.e+40, 1.e+41]), array([0.1, 1. ]), array([0.  , 0.01, 0.1 , 1.  ])]\n"
     ]
    }
   ],
   "source": [
    "edges, number, fobs, exname = example2(print_test=True)"
   ]
  },
  {
   "attachments": {},
   "cell_type": "markdown",
   "metadata": {},
   "source": [
    "Calculate Strains"
   ]
  },
  {
   "cell_type": "code",
   "execution_count": null,
   "metadata": {},
   "outputs": [],
   "source": [
    "# Get GW Total Strain using gws_by_ndars()\n",
    "hc_tt = gws_by_ndars(edges, number, realize=False, round = True, sum=True)   \n",
    " \n",
    "# Get BG and SS Strain using ss_gws_by_ndars()\n",
    "# has hsamp but not sspar\n",
    "hc_bg_ndar, hc_ss_ndar, hsamp_ndar, ssidx_ndar, maxhs_ndar, bgnum_ndar\\\n",
    "    = ss_gws_by_ndars(edges, number, realize=False)\n",
    "\n",
    "# Get BG and SS Strain using ss_gws_by_loops()\n",
    "# has sspar, but not hsamp\n",
    "hc_bg_loop, hc_ss_loop, sspar_loop, ssidx_loop, maxhs_loop, bgnum_loop\\\n",
    "    = ss_gws_by_loops(edges, number, realize=False)"
   ]
  },
  {
   "cell_type": "markdown",
   "metadata": {},
   "source": [
    "## 2.2 Tests"
   ]
  },
  {
   "cell_type": "code",
   "execution_count": null,
   "metadata": {},
   "outputs": [
    {
     "name": "stdout",
     "output_type": "stream",
     "text": [
      "max_test passed\n",
      "max is at m,q,z,f = 1, 0, 1, 0 and it = 1.41e-18\n",
      "max is at m,q,z,f = 1, 0, 1, 1 and it = 2.25e-18\n",
      "max is at m,q,z,f = 1, 0, 1, 2 and it = 2.94e-18\n",
      "max is at m,q,z,f = 1, 0, 1, 3 and it = 3.57e-18\n",
      "max is at m,q,z,f = 1, 0, 1, 4 and it = 4.27e-18\n",
      "ssidx test passes\n",
      "number test passed\n",
      "compare to loops test passed\n",
      "percent error between (hc_bg^2+hc_ss^2) and hc_tt^2: [ 0.00e+00  1.48e-16 -1.29e-16  0.00e+00  1.36e-16]\n",
      "differences between np.sqrt((hc_bg^2+hc_ss^2)) and hc_tt: [0. 0. 0. 0. 0.]\n",
      "quadratic sum test passed\n"
     ]
    },
    {
     "data": {
      "image/png": "[encoded data removed]",
      "text/plain": [
       "<Figure size 1000x300 with 5 Axes>"
      ]
     },
     "metadata": {},
     "output_type": "display_data"
    }
   ],
   "source": [
    "# test\n",
    "hc_bg_ndar, hc_ss_ndar, hsamp_ndar, ssidx_ndar, maxhs_ndar, bgnum_ndar\\\n",
    "    = run_example_tests(edges, number, fobs, print_test=True)"
   ]
  },
  {
   "attachments": {},
   "cell_type": "markdown",
   "metadata": {},
   "source": [
    "## 2.3 Plots"
   ]
  },
  {
   "cell_type": "markdown",
   "metadata": {},
   "source": [
    "### BG, SS, and TT Strain"
   ]
  },
  {
   "cell_type": "code",
   "execution_count": null,
   "metadata": {},
   "outputs": [
    {
     "data": {
      "image/png": "[encoded data removed]",
      "text/plain": [
       "<Figure size 1000x450 with 1 Axes>"
      ]
     },
     "metadata": {},
     "output_type": "display_data"
    }
   ],
   "source": [
    "# quick plot\n",
    "fig, ax = plot.figax(xlabel='Frequency $f_\\mathrm{obs}$ [1/yr]', \n",
    "                    ylabel='Characteristic Strain $h_c$', figsize=[10,4.5])\n",
    "ax.set_title(exname)\n",
    "xx = fobs * YR\n",
    "\n",
    "# plot a reference, pure power-law  strain spectrum:   h_c(f) = 1e-15 * (f * yr) ^ -2/3\n",
    "yy = 1e-15 * np.power(xx, -2.0/3.0)\n",
    "ax.plot(xx, yy, 'k--', alpha=0.25, lw=2.0, label = 'pure power law')\n",
    "\n",
    "# total char strain (no sources subtracted)\n",
    "ax.plot(xx, hc_tt, color='black', marker = 'x', lw=3, \n",
    "        ls = 'dotted', alpha=1, label='total, by loops')\n",
    "\n",
    "\n",
    "# by loops:\n",
    "# gwb\n",
    "ax.plot(xx, hc_bg_loop, color='b', marker = 'o', lw=3,\n",
    "        ls = 'dotted', alpha=.5, label='background, loops')\n",
    "# loudest source per bin\n",
    "ax.scatter(xx, hc_ss_loop, color='b', marker = 'o', s=100,\n",
    "           edgecolor='k', alpha=.5, label='single source, loops')\n",
    "\n",
    "# by ndars:\n",
    "# gwb\n",
    "ax.plot(xx, hc_bg_ndar, color='g', marker = 'o', lw=3, \n",
    "        ls = 'dotted', alpha=.5, label='background, ndars')\n",
    "# loudest source per bin\n",
    "ax.scatter(xx, hc_ss_ndar, color='g', marker = 'o', \n",
    "           edgecolor='k', alpha=.5, label='single source, ndars')\n",
    "\n",
    "\n",
    "# ax.plot(xx, hc_bg+hc_ss, color='r', label='bg + ss', alpha=.5)\n",
    "ax.plot(xx, np.sqrt(hc_bg_ndar**2+hc_ss_ndar**2), color='r', \n",
    "        label=r'$sqrt (bg^2 + ss^2)$, ndars', alpha=.5)\n",
    "\n",
    "legend_gwb = ax.legend(bbox_to_anchor=(.95,.95), \n",
    "                       bbox_transform=fig.transFigure, loc='upper right')\n",
    "\n",
    "\n",
    "# ax.set_ylim(1e-16, 3e-15)\n",
    "fig.tight_layout()"
   ]
  },
  {
   "attachments": {},
   "cell_type": "markdown",
   "metadata": {},
   "source": [
    "# 3 Medium Simple Example"
   ]
  },
  {
   "attachments": {},
   "cell_type": "markdown",
   "metadata": {},
   "source": [
    "## 3.1 Build Model and Calculate Strains\n",
    "Build Model"
   ]
  },
  {
   "cell_type": "code",
   "execution_count": null,
   "metadata": {},
   "outputs": [
    {
     "name": "stdout",
     "output_type": "stream",
     "text": [
      "Number of frequency bins: 4\n",
      "  between [0.63, 3.16] 1/yr\n",
      "          [20.00, 100.00] nHz\n",
      "edges: [array([1.00e+39, 1.45e+39, 2.11e+39, 3.07e+39, 4.47e+39, 6.50e+39,\n",
      "       9.44e+39, 1.37e+40, 2.00e+40, 2.90e+40, 4.22e+40, 6.13e+40,\n",
      "       8.92e+40, 1.30e+41, 1.89e+41, 2.74e+41, 3.98e+41, 5.79e+41,\n",
      "       8.42e+41, 1.22e+42, 1.78e+42, 2.59e+42, 3.76e+42, 5.47e+42,\n",
      "       7.95e+42]), array([0.1 , 0.11, 0.12, 0.13, 0.15, 0.16, 0.18, 0.2 , 0.22, 0.24, 0.26,\n",
      "       0.29, 0.32, 0.35, 0.38, 0.42, 0.46, 0.51, 0.56, 0.62, 0.68, 0.75,\n",
      "       0.83, 0.91, 1.  ]), array([1.00e-03, 1.47e-03, 2.15e-03, 3.16e-03, 4.64e-03, 6.81e-03,\n",
      "       1.00e-02, 1.47e-02, 2.15e-02, 3.16e-02, 4.64e-02, 6.81e-02,\n",
      "       1.00e-01, 1.47e-01, 2.15e-01, 3.16e-01, 4.64e-01, 6.81e-01,\n",
      "       1.00e+00, 1.47e+00, 2.15e+00, 3.16e+00, 4.64e+00, 6.81e+00,\n",
      "       1.00e+01])]\n"
     ]
    }
   ],
   "source": [
    "edges, number, fobs, exname = example3(print_test=True)"
   ]
  },
  {
   "cell_type": "markdown",
   "metadata": {},
   "source": [
    "Calculate Strains"
   ]
  },
  {
   "cell_type": "code",
   "execution_count": null,
   "metadata": {},
   "outputs": [],
   "source": [
    "# Get GW Total Strain using gws_by_ndars()\n",
    "hc_tt = gws_by_ndars(edges, number, realize=False, round = True, sum=True)   \n",
    " \n",
    "# Get BG and SS Strain using ss_gws_by_ndars()\n",
    "# has hsamp but not sspar\n",
    "hc_bg_ndar, hc_ss_ndar, hsamp_ndar, ssidx_ndar, maxhs_ndar, bgnum_ndar\\\n",
    "    = ss_gws_by_ndars(edges, number, realize=False)\n",
    "\n",
    "# Get BG and SS Strain using ss_gws_by_loops()\n",
    "# has sspar, but not hsamp\n",
    "hc_bg_loop, hc_ss_loop, sspar_loop, ssidx_loop, maxhs_loop, bgnum_loop\\\n",
    "    = ss_gws_by_loops(edges, number, realize=False)"
   ]
  },
  {
   "attachments": {},
   "cell_type": "markdown",
   "metadata": {},
   "source": [
    "## 3.2 Tests"
   ]
  },
  {
   "cell_type": "code",
   "execution_count": null,
   "metadata": {},
   "outputs": [
    {
     "name": "stdout",
     "output_type": "stream",
     "text": [
      "max_test passed\n",
      "max is at m,q,z,f = 20, 23, 18, 0 and it = 7.08e-17\n",
      "max is at m,q,z,f = 17, 23, 16, 1 and it = 2.49e-17\n",
      "max is at m,q,z,f = 16, 23, 18, 2 and it = 1.22e-17\n",
      "max is at m,q,z,f = 15, 23, 18, 3 and it = 7.89e-18\n",
      "max is at m,q,z,f = 14, 23, 18, 4 and it = 5.07e-18\n",
      "ssidx test passes\n",
      "number test passed\n",
      "compare to loops test passed\n",
      "percent error between (hc_bg^2+hc_ss^2) and hc_tt^2: [-2.09e-16  3.54e-16  1.61e-16  0.00e+00  1.12e-16]\n",
      "differences between np.sqrt((hc_bg^2+hc_ss^2)) and hc_tt: [0.00e+00 4.93e-32 2.47e-32 0.00e+00 0.00e+00]\n",
      "quadratic sum test passed\n"
     ]
    }
   ],
   "source": [
    "# test\n",
    "hc_bg_ndar, hc_ss_ndar, hsamp_ndar, ssidx_ndar, maxhs_ndar, bgnum_ndar\\\n",
    "    = run_example_tests(edges, number, fobs, print_test=True)"
   ]
  },
  {
   "attachments": {},
   "cell_type": "markdown",
   "metadata": {},
   "source": [
    "## 3.3 Plots"
   ]
  },
  {
   "cell_type": "markdown",
   "metadata": {},
   "source": [
    "### BG, SS, and TT Strain"
   ]
  },
  {
   "cell_type": "code",
   "execution_count": null,
   "metadata": {},
   "outputs": [
    {
     "data": {
      "image/png": "[encoded data removed]",
      "text/plain": [
       "<Figure size 1000x450 with 1 Axes>"
      ]
     },
     "metadata": {},
     "output_type": "display_data"
    }
   ],
   "source": [
    "# quick plot\n",
    "fig, ax = plot.figax(xlabel='Frequency $f_\\mathrm{obs}$ [1/yr]', \n",
    "                    ylabel='Characteristic Strain $h_c$', figsize=[10,4.5])\n",
    "ax.set_title(exname)\n",
    "xx = fobs * YR\n",
    "\n",
    "# plot a reference, pure power-law  strain spectrum:   h_c(f) = 1e-15 * (f * yr) ^ -2/3\n",
    "yy = 1e-15 * np.power(xx, -2.0/3.0)\n",
    "ax.plot(xx, yy, 'k--', alpha=0.25, lw=2.0, label = 'pure power law')\n",
    "\n",
    "# total char strain (no sources subtracted)\n",
    "ax.plot(xx, hc_tt, color='black', marker = 'x', lw=3, \n",
    "        ls = 'dotted', alpha=1, label='total, by loops')\n",
    "\n",
    "\n",
    "# by loops:\n",
    "# gwb\n",
    "ax.plot(xx, hc_bg_loop, color='b', marker = 'o', lw=3,\n",
    "        ls = 'dotted', alpha=.5, label='background, loops')\n",
    "# loudest source per bin\n",
    "ax.scatter(xx, hc_ss_loop, color='b', marker = 'o', s=100,\n",
    "           edgecolor='k', alpha=.5, label='single source, loops')\n",
    "\n",
    "# by ndars:\n",
    "# gwb\n",
    "ax.plot(xx, hc_bg_ndar, color='g', marker = 'o', lw=3, \n",
    "        ls = 'dotted', alpha=.5, label='background, ndars')\n",
    "# loudest source per bin\n",
    "ax.scatter(xx, hc_ss_ndar, color='g', marker = 'o', \n",
    "           edgecolor='k', alpha=.5, label='single source, ndars')\n",
    "\n",
    "\n",
    "# ax.plot(xx, hc_bg+hc_ss, color='r', label='bg + ss', alpha=.5)\n",
    "ax.plot(xx, np.sqrt(hc_bg_ndar**2+hc_ss_ndar**2), color='r', \n",
    "        label=r'$sqrt (bg^2 + ss^2)$, ndars', alpha=.5)\n",
    "\n",
    "legend_gwb = ax.legend(bbox_to_anchor=(.95,.95), \n",
    "                       bbox_transform=fig.transFigure, loc='upper right')\n",
    "\n",
    "\n",
    "# ax.set_ylim(1e-16, 3e-15)\n",
    "fig.tight_layout()"
   ]
  },
  {
   "attachments": {},
   "cell_type": "markdown",
   "metadata": {},
   "source": [
    "# 4 Complex Example - Casting 64bit\n"
   ]
  },
  {
   "attachments": {},
   "cell_type": "markdown",
   "metadata": {},
   "source": [
    "## 4.1 Build Model and Calculate Strains\n",
    "Build Model"
   ]
  },
  {
   "cell_type": "code",
   "execution_count": 45,
   "metadata": {},
   "outputs": [
    {
     "name": "stdout",
     "output_type": "stream",
     "text": [
      "Number of frequency bins: 11\n",
      "  between [0.63, 7.57] 1/yr\n",
      "          [20.00, 240.00] nHz\n",
      "edges: [array([1.00e+39, 1.76e+39, 3.10e+39, 5.46e+39, 9.63e+39, 1.70e+40,\n",
      "       2.99e+40, 5.26e+40, 9.27e+40, 1.63e+41, 2.87e+41, 5.06e+41,\n",
      "       8.92e+41, 1.57e+42, 2.77e+42, 4.87e+42, 8.58e+42, 1.51e+43,\n",
      "       2.66e+43, 4.69e+43, 8.26e+43, 1.46e+44, 2.56e+44, 4.52e+44,\n",
      "       7.95e+44]), array([0.1 , 0.11, 0.12, 0.13, 0.15, 0.16, 0.18, 0.2 , 0.22, 0.24, 0.26,\n",
      "       0.29, 0.32, 0.35, 0.38, 0.42, 0.46, 0.51, 0.56, 0.62, 0.68, 0.75,\n",
      "       0.83, 0.91, 1.  ]), array([1.00e-03, 1.47e-03, 2.15e-03, 3.16e-03, 4.64e-03, 6.81e-03,\n",
      "       1.00e-02, 1.47e-02, 2.15e-02, 3.16e-02, 4.64e-02, 6.81e-02,\n",
      "       1.00e-01, 1.47e-01, 2.15e-01, 3.16e-01, 4.64e-01, 6.81e-01,\n",
      "       1.00e+00, 1.47e+00, 2.15e+00, 3.16e+00, 4.64e+00, 6.81e+00,\n",
      "       1.00e+01])]\n"
     ]
    }
   ],
   "source": [
    "edges, number, fobs, exname = example4(print_test=True)"
   ]
  },
  {
   "cell_type": "markdown",
   "metadata": {},
   "source": [
    "Calculate Strains"
   ]
  },
  {
   "cell_type": "code",
   "execution_count": 47,
   "metadata": {},
   "outputs": [],
   "source": [
    "# Get GW Total Strain using gws_by_ndars()\n",
    "hc_tt = gws_by_ndars(edges, number, realize=False, round = True, sum=True)   \n",
    " \n",
    "# Get BG and SS Strain using ss_gws_by_ndars()\n",
    "# has hsamp but not sspar\n",
    "hc_bg_ndar, hc_ss_ndar, hsamp_ndar, ssidx_ndar, maxhs_ndar, bgnum_ndar\\\n",
    "    = ss_gws_by_ndars(edges, number, realize=False)\n",
    "\n",
    "# Get BG and SS Strain using ss_gws_by_loops()\n",
    "# has sspar, but not hsamp\n",
    "hc_bg_loop, hc_ss_loop, sspar_loop, ssidx_loop, maxhs_loop, bgnum_loop\\\n",
    "    = ss_gws_by_loops(edges, number, realize=False)"
   ]
  },
  {
   "attachments": {},
   "cell_type": "markdown",
   "metadata": {},
   "source": [
    "## 4.2 Tests"
   ]
  },
  {
   "cell_type": "code",
   "execution_count": 48,
   "metadata": {},
   "outputs": [
    {
     "name": "stdout",
     "output_type": "stream",
     "text": [
      "max_test passed\n",
      "max is at m,q,z,f = 13, 23, 16, 0 and it = 1.01e-16\n",
      "max is at m,q,z,f = 12, 23, 18, 1 and it = 4.33e-17\n",
      "max is at m,q,z,f = 10, 23, 16, 2 and it = 1.23e-17\n",
      "max is at m,q,z,f = 10, 23, 18, 3 and it = 1.04e-17\n",
      "max is at m,q,z,f = 9, 23, 17, 4 and it = 5.48e-18\n",
      "max is at m,q,z,f = 8, 23, 16, 5 and it = 2.97e-18\n",
      "max is at m,q,z,f = 8, 23, 17, 6 and it = 2.67e-18\n",
      "max is at m,q,z,f = 8, 23, 18, 7 and it = 2.50e-18\n",
      "max is at m,q,z,f = 7, 23, 17, 8 and it = 1.23e-18\n",
      "max is at m,q,z,f = 7, 23, 17, 9 and it = 1.32e-18\n",
      "max is at m,q,z,f = 6, 23, 16, 10 and it = 6.73e-19\n",
      "max is at m,q,z,f = 7, 23, 18, 11 and it = 1.31e-18\n",
      "ssidx test passes\n",
      "number test passed\n",
      "compare to loops test passed\n",
      "percent error between (hc_bg^2+hc_ss^2) and hc_tt^2: [ 0.00e+00  0.00e+00 -2.15e-16 -1.39e-16  0.00e+00  1.55e-16 -1.28e-16\n",
      " -2.18e-16 -1.71e-16 -2.55e-16 -1.99e-16 -1.90e-16]\n",
      "differences between np.sqrt((hc_bg^2+hc_ss^2)) and hc_tt: [ 0.00e+00  0.00e+00  0.00e+00  0.00e+00  0.00e+00  0.00e+00  0.00e+00\n",
      " -6.16e-33 -6.16e-33 -3.08e-33 -3.08e-33 -3.08e-33]\n",
      "quadratic sum test passed\n"
     ]
    },
    {
     "data": {
      "image/png": "[encoded data removed]",
      "text/plain": [
       "<Figure size 1000x300 with 12 Axes>"
      ]
     },
     "metadata": {},
     "output_type": "display_data"
    }
   ],
   "source": [
    "# test\n",
    "hc_bg_ndar, hc_ss_ndar, hsamp_ndar, ssidx_ndar, maxhs_ndar, bgnum_ndar\\\n",
    "    = run_example_tests(edges, number, fobs, print_test=True)"
   ]
  },
  {
   "attachments": {},
   "cell_type": "markdown",
   "metadata": {},
   "source": [
    "## 4.3 Plots"
   ]
  },
  {
   "cell_type": "markdown",
   "metadata": {},
   "source": [
    "### BG, SS, and TT Strain"
   ]
  },
  {
   "cell_type": "code",
   "execution_count": null,
   "metadata": {},
   "outputs": [
    {
     "data": {
      "image/png": "[encoded data removed]",
      "text/plain": [
       "<Figure size 1000x450 with 1 Axes>"
      ]
     },
     "metadata": {},
     "output_type": "display_data"
    }
   ],
   "source": [
    "# quick plot\n",
    "fig, ax = plot.figax(xlabel='Frequency $f_\\mathrm{obs}$ [1/yr]', \n",
    "                    ylabel='Characteristic Strain $h_c$', figsize=[10,4.5])\n",
    "ax.set_title(exname)\n",
    "xx = fobs * YR\n",
    "\n",
    "# plot a reference, pure power-law  strain spectrum:   h_c(f) = 1e-15 * (f * yr) ^ -2/3\n",
    "yy = 1e-15 * np.power(xx, -2.0/3.0)\n",
    "ax.plot(xx, yy, 'k--', alpha=0.25, lw=2.0, label = 'pure power law')\n",
    "\n",
    "# total char strain (no sources subtracted)\n",
    "ax.plot(xx, hc_tt, color='black', marker = 'x', lw=3, \n",
    "        ls = 'dotted', alpha=1, label='total, by loops')\n",
    "\n",
    "\n",
    "# by loops:\n",
    "# gwb\n",
    "ax.plot(xx, hc_bg_loop, color='b', marker = 'o', lw=3,\n",
    "        ls = 'dotted', alpha=.5, label='background, loops')\n",
    "# loudest source per bin\n",
    "ax.scatter(xx, hc_ss_loop, color='b', marker = 'o', s=100,\n",
    "           edgecolor='k', alpha=.5, label='single source, loops')\n",
    "\n",
    "# by ndars:\n",
    "# gwb\n",
    "ax.plot(xx, hc_bg_ndar, color='g', marker = 'o', lw=3, \n",
    "        ls = 'dotted', alpha=.5, label='background, ndars')\n",
    "# loudest source per bin\n",
    "ax.scatter(xx, hc_ss_ndar, color='g', marker = 'o', \n",
    "           edgecolor='k', alpha=.5, label='single source, ndars')\n",
    "\n",
    "\n",
    "# ax.plot(xx, hc_bg+hc_ss, color='r', label='bg + ss', alpha=.5)\n",
    "ax.plot(xx, np.sqrt(hc_bg_ndar**2+hc_ss_ndar**2), color='r', \n",
    "        label=r'$sqrt (bg^2 + ss^2)$, ndars', alpha=.5)\n",
    "\n",
    "legend_gwb = ax.legend(bbox_to_anchor=(.95,.95), \n",
    "                       bbox_transform=fig.transFigure, loc='upper right')\n",
    "\n",
    "\n",
    "# ax.set_ylim(1e-16, 3e-15)\n",
    "fig.tight_layout()"
   ]
  },
  {
   "attachments": {},
   "cell_type": "markdown",
   "metadata": {},
   "source": [
    "# 5 SAM Default Example - Casting 64bit\n"
   ]
  },
  {
   "attachments": {},
   "cell_type": "markdown",
   "metadata": {},
   "source": [
    "## 5.1 Build Model and Calculate Strains\n",
    "Build Model"
   ]
  },
  {
   "cell_type": "code",
   "execution_count": 49,
   "metadata": {},
   "outputs": [
    {
     "name": "stdout",
     "output_type": "stream",
     "text": [
      "Number of frequency bins: 24\n",
      "  between [0.10, 2.50] 1/yr\n",
      "          [3.17, 79.22] nHz\n",
      "using default mtot, mrat, and redz\n",
      "edges: [array([1.99e+37, 2.60e+37, 3.40e+37, 4.45e+37, 5.82e+37, 7.62e+37,\n",
      "       9.97e+37, 1.30e+38, 1.71e+38, 2.23e+38, 2.92e+38, 3.82e+38,\n",
      "       4.99e+38, 6.53e+38, 8.55e+38, 1.12e+39, 1.46e+39, 1.91e+39,\n",
      "       2.50e+39, 3.27e+39, 4.28e+39, 5.60e+39, 7.33e+39, 9.59e+39,\n",
      "       1.25e+40, 1.64e+40, 2.15e+40, 2.81e+40, 3.67e+40, 4.81e+40,\n",
      "       6.29e+40, 8.23e+40, 1.08e+41, 1.41e+41, 1.84e+41, 2.41e+41,\n",
      "       3.15e+41, 4.12e+41, 5.39e+41, 7.06e+41, 9.23e+41, 1.21e+42,\n",
      "       1.58e+42, 2.07e+42, 2.70e+42, 3.54e+42, 4.63e+42, 6.05e+42,\n",
      "       7.92e+42, 1.04e+43, 1.35e+43, 1.77e+43, 2.32e+43, 3.03e+43,\n",
      "       3.97e+43, 5.19e+43, 6.79e+43, 8.88e+43, 1.16e+44, 1.52e+44,\n",
      "       1.99e+44]), array([0.  , 0.  , 0.  , 0.  , 0.  , 0.  , 0.  , 0.  , 0.  , 0.  , 0.  ,\n",
      "       0.  , 0.  , 0.  , 0.  , 0.  , 0.  , 0.  , 0.  , 0.01, 0.01, 0.01,\n",
      "       0.01, 0.01, 0.01, 0.01, 0.01, 0.01, 0.01, 0.01, 0.01, 0.01, 0.02,\n",
      "       0.02, 0.02, 0.02, 0.02, 0.02, 0.03, 0.03, 0.03, 0.03, 0.04, 0.04,\n",
      "       0.04, 0.05, 0.05, 0.06, 0.06, 0.07, 0.07, 0.08, 0.09, 0.1 , 0.11,\n",
      "       0.12, 0.13, 0.14, 0.15, 0.16, 0.18, 0.19, 0.21, 0.23, 0.25, 0.27,\n",
      "       0.3 , 0.33, 0.35, 0.39, 0.42, 0.46, 0.5 , 0.55, 0.6 , 0.65, 0.71,\n",
      "       0.77, 0.84, 0.92, 1.  ]), array([1.00e-03, 1.10e-03, 1.20e-03, 1.32e-03, 1.45e-03, 1.58e-03,\n",
      "       1.74e-03, 1.91e-03, 2.09e-03, 2.29e-03, 2.51e-03, 2.75e-03,\n",
      "       3.02e-03, 3.31e-03, 3.63e-03, 3.98e-03, 4.37e-03, 4.79e-03,\n",
      "       5.25e-03, 5.75e-03, 6.31e-03, 6.92e-03, 7.59e-03, 8.32e-03,\n",
      "       9.12e-03, 1.00e-02, 1.10e-02, 1.20e-02, 1.32e-02, 1.45e-02,\n",
      "       1.58e-02, 1.74e-02, 1.91e-02, 2.09e-02, 2.29e-02, 2.51e-02,\n",
      "       2.75e-02, 3.02e-02, 3.31e-02, 3.63e-02, 3.98e-02, 4.37e-02,\n",
      "       4.79e-02, 5.25e-02, 5.75e-02, 6.31e-02, 6.92e-02, 7.59e-02,\n",
      "       8.32e-02, 9.12e-02, 1.00e-01, 1.10e-01, 1.20e-01, 1.32e-01,\n",
      "       1.45e-01, 1.58e-01, 1.74e-01, 1.91e-01, 2.09e-01, 2.29e-01,\n",
      "       2.51e-01, 2.75e-01, 3.02e-01, 3.31e-01, 3.63e-01, 3.98e-01,\n",
      "       4.37e-01, 4.79e-01, 5.25e-01, 5.75e-01, 6.31e-01, 6.92e-01,\n",
      "       7.59e-01, 8.32e-01, 9.12e-01, 1.00e+00, 1.10e+00, 1.20e+00,\n",
      "       1.32e+00, 1.45e+00, 1.58e+00, 1.74e+00, 1.91e+00, 2.09e+00,\n",
      "       2.29e+00, 2.51e+00, 2.75e+00, 3.02e+00, 3.31e+00, 3.63e+00,\n",
      "       3.98e+00, 4.37e+00, 4.79e+00, 5.25e+00, 5.75e+00, 6.31e+00,\n",
      "       6.92e+00, 7.59e+00, 8.32e+00, 9.12e+00, 1.00e+01])]\n"
     ]
    }
   ],
   "source": [
    "edges, number, fobs, exname = example5(print_test=True)"
   ]
  },
  {
   "cell_type": "markdown",
   "metadata": {},
   "source": [
    "Calculate Strains"
   ]
  },
  {
   "cell_type": "code",
   "execution_count": 54,
   "metadata": {},
   "outputs": [
    {
     "name": "stdout",
     "output_type": "stream",
     "text": [
      "number<0 found at (M,q,z,f) = (array([ 0,  0,  0, ..., 10, 10, 10], dtype=int64), array([ 0,  0,  0, ..., 79, 79, 79], dtype=int64), array([53, 54, 55, ..., 84, 85, 86], dtype=int64), array([0, 0, 0, ..., 0, 0, 0], dtype=int64))\n"
     ]
    }
   ],
   "source": [
    "# Get GW Total Strain using gws_by_ndars()\n",
    "hc_tt = gws_by_ndars(edges, number, realize=False, round = True, sum=True)   \n",
    " \n",
    "# Get BG and SS Strain using ss_gws_by_ndars()\n",
    "# has hsamp but not sspar\n",
    "# hc_bg_ndar, hc_ss_ndar, hsamp_ndar, ssidx_ndar, maxhs_ndar, bgnum_ndar\\\n",
    "#     = ss_gws_by_ndars(edges, number, realize=False)\n",
    "\n",
    "# Get BG and SS Strain using ss_gws_by_loops()\n",
    "# has sspar, but not hsamp\n",
    "hc_bg_loop, hc_ss_loop, sspar_loop, ssidx_loop, maxhs_loop, bgnum_loop\\\n",
    "    = ss_gws_by_loops(edges, number, realize=False)"
   ]
  },
  {
   "attachments": {},
   "cell_type": "markdown",
   "metadata": {},
   "source": [
    "Darn! This doesn't work. Must investigate"
   ]
  },
  {
   "attachments": {},
   "cell_type": "markdown",
   "metadata": {},
   "source": [
    "## 5.2 Tests"
   ]
  },
  {
   "cell_type": "code",
   "execution_count": 53,
   "metadata": {},
   "outputs": [],
   "source": [
    "# test\n",
    "# hc_bg_ndar, hc_ss_ndar, hsamp_ndar, ssidx_ndar, maxhs_ndar, bgnum_ndar\\\n",
    "#     = run_example_tests(edges, number, fobs, print_test=True)"
   ]
  },
  {
   "attachments": {},
   "cell_type": "markdown",
   "metadata": {},
   "source": [
    "## 5.3 Plots"
   ]
  },
  {
   "cell_type": "markdown",
   "metadata": {},
   "source": [
    "### BG, SS, and TT Strain"
   ]
  },
  {
   "cell_type": "code",
   "execution_count": 55,
   "metadata": {},
   "outputs": [
    {
     "data": {
      "image/png": "[encoded data removed]",
      "text/plain": [
       "<Figure size 1000x450 with 1 Axes>"
      ]
     },
     "metadata": {},
     "output_type": "display_data"
    }
   ],
   "source": [
    "# quick plot\n",
    "fig, ax = plot.figax(xlabel='Frequency $f_\\mathrm{obs}$ [1/yr]', \n",
    "                    ylabel='Characteristic Strain $h_c$', figsize=[10,4.5])\n",
    "ax.set_title(exname)\n",
    "xx = fobs * YR\n",
    "\n",
    "# plot a reference, pure power-law  strain spectrum:   h_c(f) = 1e-15 * (f * yr) ^ -2/3\n",
    "yy = 1e-15 * np.power(xx, -2.0/3.0)\n",
    "ax.plot(xx, yy, 'k--', alpha=0.25, lw=2.0, label = 'pure power law')\n",
    "\n",
    "# total char strain (no sources subtracted)\n",
    "ax.plot(xx, hc_tt, color='black', marker = 'x', lw=3, \n",
    "        ls = 'dotted', alpha=1, label='total, by loops')\n",
    "\n",
    "\n",
    "# by loops:\n",
    "# gwb\n",
    "ax.plot(xx, hc_bg_loop, color='b', marker = 'o', lw=3,\n",
    "        ls = 'dotted', alpha=.5, label='background, loops')\n",
    "# loudest source per bin\n",
    "ax.scatter(xx, hc_ss_loop, color='b', marker = 'o', s=100,\n",
    "           edgecolor='k', alpha=.5, label='single source, loops')\n",
    "\n",
    "# # by ndars:\n",
    "# # gwb\n",
    "# ax.plot(xx, hc_bg_ndar, color='g', marker = 'o', lw=3, \n",
    "#         ls = 'dotted', alpha=.5, label='background, ndars')\n",
    "# # loudest source per bin\n",
    "# ax.scatter(xx, hc_ss_ndar, color='g', marker = 'o', \n",
    "#            edgecolor='k', alpha=.5, label='single source, ndars')\n",
    "\n",
    "\n",
    "# ax.plot(xx, np.sqrt(hc_bg_ndar**2+hc_ss_ndar**2), color='r', \n",
    "#         label=r'$sqrt (bg^2 + ss^2)$, ndars', alpha=.5)\n",
    "ax.plot(xx, np.sqrt(hc_bg_loop**2+hc_ss_loop**2), color='r', \n",
    "        label=r'$sqrt (bg^2 + ss^2)$, loops', alpha=.5)\n",
    "\n",
    "legend_gwb = ax.legend(bbox_to_anchor=(.95,.95), \n",
    "                       bbox_transform=fig.transFigure, loc='upper right')\n",
    "\n",
    "\n",
    "# ax.set_ylim(1e-16, 3e-15)\n",
    "fig.tight_layout()"
   ]
  },
  {
   "cell_type": "code",
   "execution_count": null,
   "metadata": {},
   "outputs": [],
   "source": []
  }
 ],
 "metadata": {
  "kernelspec": {
   "display_name": "Python 3",
   "language": "python",
   "name": "python3"
  },
  "language_info": {
   "codemirror_mode": {
    "name": "ipython",
    "version": 3
   },
   "file_extension": ".py",
   "mimetype": "text/x-python",
   "name": "python",
   "nbconvert_exporter": "python",
   "pygments_lexer": "ipython3",
   "version": "3.10.10"
  },
  "orig_nbformat": 4,
  "vscode": {
   "interpreter": {
    "hash": "17d459439548e0ef4d6a744a9fa4f3f6fa91b434189a6e542a76bffcd834cb9b"
   }
  }
 },
 "nbformat": 4,
 "nbformat_minor": 2
}
