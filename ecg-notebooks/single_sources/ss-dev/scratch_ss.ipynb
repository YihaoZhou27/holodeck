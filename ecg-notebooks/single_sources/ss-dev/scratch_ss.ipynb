{
 "cells": [
  {
   "cell_type": "code",
   "execution_count": 1,
   "metadata": {},
   "outputs": [],
   "source": [
    "# %load ../init.ipy\n",
    "%reload_ext autoreload\n",
    "%autoreload 2\n",
    "from importlib import reload\n",
    "\n",
    "import numpy as np\n",
    "import holodeck as holo\n",
    "import holodeck.single_sources as ss\n",
    "import holodeck.cyutils as cy\n",
    "import matplotlib.pyplot as plt"
   ]
  },
  {
   "attachments": {},
   "cell_type": "markdown",
   "metadata": {},
   "source": [
    "### grid:\n",
    "\n",
    "1x  |  xx  |  xx  |  xx  |  xx \\\n",
    "xx  |  9x  |  x3  |  xx  |  xx \\\n",
    "xx  |  xx  |  xx  |  x4  |  x5 \n",
    "\n",
    "10x  |  x80   |  xx   |  xx   |  xx \\\n",
    "xx   |  xx  |  x30  |  xx   |  xx \\\n",
    "xx   |  xx   |  xx   |  x40  |  x50 "
   ]
  },
  {
   "cell_type": "code",
   "execution_count": 6,
   "metadata": {},
   "outputs": [
    {
     "name": "stdout",
     "output_type": "stream",
     "text": [
      "(2, 1, 3, 5, 2)\n",
      "(2, 1, 3, 5, 2)\n",
      "(2, 1, 3, 5)\n"
     ]
    }
   ],
   "source": [
    "hsamp = np.array([[[[[1,10],[0,80],[0,6],[0,6],[0,6]],\n",
    "                [[0,6],[9,6],[0,6],[0,6],[0,6]],\n",
    "                [[0,6],[0,6],[0,6],[0,6],[0,6]]]],\n",
    "\n",
    "                [[[[0,6],[0,6],[0,6],[0,6],[0,6]],\n",
    "                [[0,6],[0,6],[3,30],[0,6],[0,6]],\n",
    "                [[0,6],[0,6],[0,6],[4,40],[5,50]]]]])\n",
    "bgnum = np.full_like(hsamp, 100)\n",
    "\n",
    "print(hsamp.shape)\n",
    "print(bgnum.shape)\n",
    "# print(grid)\n",
    "hsone=hsamp[...,0]\n",
    "print(hsone.shape)"
   ]
  },
  {
   "cell_type": "code",
   "execution_count": 246,
   "metadata": {},
   "outputs": [
    {
     "name": "stdout",
     "output_type": "stream",
     "text": [
      "(2, 1, 3, 5, 2)\n"
     ]
    }
   ],
   "source": [
    "repped = np.repeat(hsone[...,np.newaxis],2,axis=4)\n",
    "print(repped.shape)"
   ]
  },
  {
   "cell_type": "code",
   "execution_count": 7,
   "metadata": {},
   "outputs": [
    {
     "name": "stdout",
     "output_type": "stream",
     "text": [
      "(2, 1, 3, 5)\n",
      "(6, 5)\n",
      "(2, 1, 3, 5)\n",
      "mqz (3, 5)\n",
      "[[0 0 1 1 1]\n",
      " [0 0 0 0 0]\n",
      " [0 1 1 2 2]]\n",
      "[0 0 1 1 1 0 0 0 0 0 0 1 1 2 2 0 1 2 3 4]\n",
      "ssnew [[0 0 1 1 1]\n",
      " [0 0 0 0 0]\n",
      " [0 1 1 2 2]\n",
      " [0 1 2 3 4]]\n"
     ]
    }
   ],
   "source": [
    "# one real\n",
    "hsmax = np.amax(hsone, axis=(0,1,2))\n",
    "shape = hsone.shape\n",
    "print(shape)\n",
    "newshape = (shape[0]*shape[1]*shape[2], shape[3])\n",
    "print(newshape)\n",
    "hsone = hsone.reshape(newshape) # change hsamp to shape (M-1*Q-1*Z-1, F-1)\n",
    "argmax = np.argmax(hsone, axis=0) # max at each frequency & realization\n",
    "hsone = hsone.reshape(shape) # restore hsamp shape to (M-1, Q-1, Z-1, F-1)\n",
    "print(hsone.shape)\n",
    "mqz = np.array(np.unravel_index(argmax, shape[:-1])) # unravel indices\n",
    "print('mqz', mqz.shape)\n",
    "print(mqz)\n",
    "f_ids = np.linspace(0,len(mqz[0])-1,len(mqz[0])).astype(int) # frequency indices\n",
    "print(np.append(mqz, f_ids))\n",
    "ssnew = np.append(mqz, f_ids).reshape(4,len(f_ids))\n",
    "print('ssnew', ssnew)\n",
    "# print(hsone[ssnew[0], ssnew[1], ssnew[2], ssnew[3]])"
   ]
  },
  {
   "cell_type": "code",
   "execution_count": 217,
   "metadata": {},
   "outputs": [
    {
     "name": "stdout",
     "output_type": "stream",
     "text": [
      "[[ 1 10]\n",
      " [ 9 80]\n",
      " [ 3 30]\n",
      " [ 4 40]\n",
      " [ 5 50]]\n",
      "shape (2, 1, 3, 5, 2)\n",
      "newshape (6, 5, 2)\n",
      "mqz (3, 5, 2)\n",
      "[[[0 0]\n",
      "  [0 0]\n",
      "  [1 1]\n",
      "  [1 1]\n",
      "  [1 1]]\n",
      "\n",
      " [[0 0]\n",
      "  [0 0]\n",
      "  [0 0]\n",
      "  [0 0]\n",
      "  [0 0]]\n",
      "\n",
      " [[0 0]\n",
      "  [1 0]\n",
      "  [1 1]\n",
      "  [2 2]\n",
      "  [2 2]]\n",
      "\n",
      " [[0 0]\n",
      "  [1 1]\n",
      "  [2 2]\n",
      "  [3 3]\n",
      "  [4 4]]] (4, 5, 2)\n"
     ]
    }
   ],
   "source": [
    "#hsamp for all bins at all realizations\n",
    "\n",
    "#gets max for each frequency and realization\n",
    "max = np.amax(hsamp, axis=(0,1,2))\n",
    "print(max)\n",
    "shape = hsamp.shape\n",
    "print('shape',shape)\n",
    "newshape = (shape[0]*shape[1]*shape[2], shape[3], shape[4])\n",
    "print('newshape', newshape)\n",
    "hsamp = hsamp.reshape(newshape)\n",
    "argmax = np.argmax(hsamp, axis=0)\n",
    "hsamp = hsamp.reshape(shape)\n",
    "\n",
    "# shape (3, F, R)\n",
    "mqz = np.array(np.unravel_index(argmax, shape[:-2])) # unravel indices\n",
    "print('mqz', mqz.shape)\n",
    "\n",
    "\n",
    "# I GOt IT!!!!!\n",
    "# MQZ in shape (3,F,R)\n",
    "# Want to get MQZF in shape (4,F,R)\n",
    "# Need f_ids in shape (1,F,R) to append\n",
    "\n",
    "f_ids = np.linspace(0,len(mqz[0])-1,len(mqz[0])).astype(int) # frequency indices\n",
    "f_ids = np.repeat(f_ids, R).reshape(F,R)[np.newaxis,:]\n",
    "ssnew = np.append(mqz,f_ids, axis=0)\n",
    "print(ssnew, ssnew.shape)"
   ]
  },
  {
   "cell_type": "code",
   "execution_count": 184,
   "metadata": {},
   "outputs": [
    {
     "name": "stdout",
     "output_type": "stream",
     "text": [
      "(2, 1, 3, 5, 2)\n",
      "(4, 5, 2)\n",
      "(5, 2, 2)\n",
      "[[[ 1 10]\n",
      "  [ 1 10]]\n",
      "\n",
      " [[ 9  6]\n",
      "  [ 0 80]]\n",
      "\n",
      " [[ 3 30]\n",
      "  [ 3 30]]\n",
      "\n",
      " [[ 4 40]\n",
      "  [ 4 40]]\n",
      "\n",
      " [[ 5 50]\n",
      "  [ 5 50]]]\n",
      "(5, 2)\n",
      "[[ 1 10]\n",
      " [ 9 80]\n",
      " [ 3 30]\n",
      " [ 4 40]\n",
      " [ 5 50]]\n"
     ]
    }
   ],
   "source": [
    "# print(hsamp[ssnew[0,:,0], ssnew[1,:,0], ssnew[2,:,0], \n",
    "#         ssnew[3,:,0]][...,0])\n",
    "# print(hsamp[ssnew[0,:,1], ssnew[1,:,1], ssnew[2,:,1], \n",
    "#         ssnew[3,:,1]][...,1])\n",
    "print(hsamp.shape)\n",
    "print(ssnew.shape)\n",
    "ampmax=hsamp[ssnew[0,], ssnew[1], ssnew[2], \n",
    "        ssnew[3]].squeeze()\n",
    "ampmax2 = hsamp[tuple(ssnew)]\n",
    "# why does this give me duplicates??\n",
    "print(ampmax.shape)\n",
    "print(ampmax)\n",
    "print(max.shape)\n",
    "print(max)"
   ]
  },
  {
   "attachments": {},
   "cell_type": "markdown",
   "metadata": {},
   "source": [
    "include r indices calculation"
   ]
  },
  {
   "cell_type": "code",
   "execution_count": 224,
   "metadata": {},
   "outputs": [
    {
     "name": "stdout",
     "output_type": "stream",
     "text": [
      "[[ 1 10]\n",
      " [ 9 80]\n",
      " [ 3 30]\n",
      " [ 4 40]\n",
      " [ 5 50]]\n",
      "shape (2, 1, 3, 5, 2)\n",
      "newshape (6, 5, 2)\n",
      "R = 2 F = 5\n",
      "[0 1]\n",
      "[[[0 1]\n",
      "  [0 1]\n",
      "  [0 1]\n",
      "  [0 1]\n",
      "  [0 1]]] (1, 5, 2)\n",
      "(5, 5, 2)\n"
     ]
    }
   ],
   "source": [
    "# include also r indices: \n",
    "# Only way to avoid for loops over realizations?\n",
    "#hsamp for all bins at all realizations\n",
    "\n",
    "#gets max for each frequency and realization\n",
    "max = np.amax(hsamp, axis=(0,1,2))\n",
    "print(max)\n",
    "shape = hsamp.shape\n",
    "print('shape',shape)\n",
    "newshape = (shape[0]*shape[1]*shape[2], shape[3], shape[4])\n",
    "print('newshape', newshape)\n",
    "hsamp = hsamp.reshape(newshape)\n",
    "argmax = np.argmax(hsamp, axis=0)\n",
    "hsamp = hsamp.reshape(shape)\n",
    "\n",
    "# shape (3, F, R)\n",
    "mqz = np.array(np.unravel_index(argmax, shape[:-2])) # unravel indices\n",
    "# print('mqz', mqz.shape)\n",
    "\n",
    "# MQZ in shape (3,F,R)\n",
    "# Want to get MQZF in shape (4,F,R)\n",
    "# Need f_ids in shape (1,F,R) to append\n",
    "# Need r_ids in shape (1,F,R) to append\n",
    "R=shape[4]\n",
    "F=shape[3]\n",
    "print('R =', R, 'F =',F)\n",
    "f_ids = np.linspace(0,len(mqz[0])-1,len(mqz[0])).astype(int) # frequency indices\n",
    "f_ids = np.repeat(f_ids, R).reshape(F,R)[np.newaxis,:]\n",
    "r_ids = np.linspace(0,R-1,R).astype(int) # realization indices\n",
    "print(r_ids)\n",
    "r_ids = np.tile(r_ids, F).reshape(F,R)[np.newaxis,:]\n",
    "print(r_ids, r_ids.shape)\n",
    "ssnew = np.append(mqz,f_ids, axis=0)\n",
    "ssnew = np.append(ssnew,r_ids, axis=0)\n",
    "print(ssnew.shape)"
   ]
  },
  {
   "cell_type": "code",
   "execution_count": 237,
   "metadata": {},
   "outputs": [
    {
     "name": "stdout",
     "output_type": "stream",
     "text": [
      "(5, 2)\n"
     ]
    }
   ],
   "source": [
    "print(max.shape)"
   ]
  },
  {
   "cell_type": "code",
   "execution_count": 225,
   "metadata": {},
   "outputs": [
    {
     "name": "stdout",
     "output_type": "stream",
     "text": [
      "[[ 1 10]\n",
      " [ 9 80]\n",
      " [ 3 30]\n",
      " [ 4 40]\n",
      " [ 5 50]]\n"
     ]
    }
   ],
   "source": [
    "print(hsamp[ssnew[0], ssnew[1], ssnew[2], ssnew[3], ssnew[4]])"
   ]
  },
  {
   "cell_type": "code",
   "execution_count": 200,
   "metadata": {},
   "outputs": [
    {
     "name": "stdout",
     "output_type": "stream",
     "text": [
      "0 ()\n",
      "(2, 1, 3, 5, 2)\n",
      "100\n"
     ]
    }
   ],
   "source": [
    "print(ssnew[0,0,0], ssnew[0,0,0].shape)\n",
    "# mass index of all freqs, all reals\n",
    "print(bgnum.shape)\n",
    "print(bgnum[ssnew[0,0,0], ssnew[1,0,0], ssnew[2,0,0], ssnew[3,0,0],0])"
   ]
  },
  {
   "attachments": {},
   "cell_type": "markdown",
   "metadata": {},
   "source": [
    "bgnum"
   ]
  },
  {
   "cell_type": "code",
   "execution_count": 235,
   "metadata": {},
   "outputs": [
    {
     "name": "stdout",
     "output_type": "stream",
     "text": [
      "[[[[100 100 100 100 100]\n",
      "   [100 100 100 100 100]\n",
      "   [100 100 100 100 100]]]\n",
      "\n",
      "\n",
      " [[[100 100 100 100 100]\n",
      "   [100 100 100 100 100]\n",
      "   [100 100 100 100 100]]]] (2, 1, 3, 5, 2)\n",
      "(2, 1, 3, 5, 2)\n",
      "[10 80 30 40 50]\n",
      "[[[[ 99  99 100 100 100]\n",
      "   [100 100 100 100 100]\n",
      "   [100 100 100 100 100]]]\n",
      "\n",
      "\n",
      " [[[100 100 100 100 100]\n",
      "   [100 100  99 100 100]\n",
      "   [100 100 100  99  99]]]] (2, 1, 3, 5, 2)\n"
     ]
    },
    {
     "name": "stderr",
     "output_type": "stream",
     "text": [
      "/var/folders/r0/rzjvt8tn7lqbr892wvvnr0j40000gn/T/ipykernel_28871/2073731583.py:8: FutureWarning: Using a non-tuple sequence for multidimensional indexing is deprecated; use `arr[tuple(seq)]` instead of `arr[seq]`. In the future this will be interpreted as an array index, `arr[np.array(seq)]`, which will result either in an error or a different result.\n",
      "  bgnumcop[[ssnew[0], ssnew[1], ssnew[2], ssnew[3], ssnew[4]]]-=1\n"
     ]
    }
   ],
   "source": [
    "r=1\n",
    "print(bgnum[...,r], bgnum.shape)\n",
    "print(hsamp.shape)\n",
    "print(hsamp[ssnew[0], ssnew[1], ssnew[2], \n",
    "        ssnew[3],ssnew[4]][...,r])\n",
    "bgnumcop = np.copy(bgnum)\n",
    "# bgnumcop[ssnew[0,:,:], ssnew[1,:,:], ssnew[2,:,:], ssnew[3,:,:]]=9\n",
    "bgnumcop[[ssnew[0], ssnew[1], ssnew[2], ssnew[3], ssnew[4]]]-=1\n",
    "print(bgnumcop[...,r], bgnumcop.shape)"
   ]
  },
  {
   "attachments": {},
   "cell_type": "markdown",
   "metadata": {},
   "source": [
    "old arrs stuff"
   ]
  },
  {
   "cell_type": "code",
   "execution_count": 64,
   "metadata": {},
   "outputs": [
    {
     "name": "stdout",
     "output_type": "stream",
     "text": [
      "[[[1 1]\n",
      "  [2 2]\n",
      "  [3 3]]] (1, 3, 2)\n",
      "[[[0]\n",
      "  [5]\n",
      "  [6]]] (1, 3, 1)\n",
      "[[[1 1 0]\n",
      "  [2 2 5]\n",
      "  [3 3 6]]] (1, 3, 3)\n"
     ]
    }
   ],
   "source": [
    "arr = np.array([[[1,1], [2,2], [3,3]]])\n",
    "print(arr, arr.shape)\n",
    "app = np.array([[[0], [5], [6]]])\n",
    "print(app, app.shape)\n",
    "res = np.append(arr, app, axis=2)\n",
    "print(res, res.shape)\n",
    "\n",
    "# take shape (a,b,c) and append shape (a,b,d) to get shape (a,b,c+d)"
   ]
  },
  {
   "cell_type": "code",
   "execution_count": 81,
   "metadata": {},
   "outputs": [
    {
     "name": "stdout",
     "output_type": "stream",
     "text": [
      "[[1]\n",
      " [2]\n",
      " [3]] (3, 1)\n",
      "[[0]\n",
      " [0]\n",
      " [3]] (3, 1)\n",
      "[[1 0]\n",
      " [2 0]\n",
      " [3 3]] (3, 2)\n"
     ]
    }
   ],
   "source": [
    "arr = np.array([[1],[2],[3]])\n",
    "print(arr, arr.shape)\n",
    "app = np.array([[0],[0],[3]])\n",
    "print(app, app.shape)\n",
    "res = np.append(arr, app, axis=1)\n",
    "print(res, res.shape)\n",
    "\n",
    "# take shape (a,b,c) and append shape (a,b,d) to get shape (a,b,c+d)\n",
    "# I have shape (3,5,2) and I want to append ..... \n",
    "# to get shape (4,5,2)"
   ]
  },
  {
   "cell_type": "code",
   "execution_count": 89,
   "metadata": {},
   "outputs": [
    {
     "name": "stdout",
     "output_type": "stream",
     "text": [
      "[[1 2]\n",
      " [3 4]] (2, 2)\n",
      "[[0 0]] (1, 2)\n",
      "[[1 2]\n",
      " [3 4]\n",
      " [0 0]] (3, 2)\n"
     ]
    }
   ],
   "source": [
    "arr = np.array([[1,2],[3,4]])\n",
    "print(arr, arr.shape)\n",
    "app = np.array([[0,0]])\n",
    "print(app, app.shape)\n",
    "res = np.append(arr, app, axis=0)\n",
    "print(res, res.shape)\n",
    "\n",
    "# take shape (a,b,c) and append shape (a,b,d) to get shape (a,b,c+d)\n",
    "# I have shape (3,5,2) and I want to append ..... \n",
    "# to get shape (4,5,2)"
   ]
  },
  {
   "cell_type": "code",
   "execution_count": 86,
   "metadata": {},
   "outputs": [
    {
     "name": "stdout",
     "output_type": "stream",
     "text": [
      "[[1 2]\n",
      " [3 4]] (2, 2)\n",
      "[[0]\n",
      " [0]] (2, 1)\n",
      "[[1 2 0]\n",
      " [3 4 0]] (2, 3)\n"
     ]
    }
   ],
   "source": [
    "arr = np.array([[1,2],[3,4]])\n",
    "print(arr, arr.shape)\n",
    "app = np.array([[0],[0]])\n",
    "print(app, app.shape)\n",
    "res = np.append(arr, app, axis=1)\n",
    "print(res, res.shape)\n",
    "\n",
    "# take shape (a,b,c) and append shape (a,b,d) to get shape (a,b,c+d)\n",
    "# I have shape (3,5,2) and I want to append ..... \n",
    "# to get shape (4,5,2)"
   ]
  },
  {
   "cell_type": "code",
   "execution_count": 101,
   "metadata": {},
   "outputs": [
    {
     "name": "stdout",
     "output_type": "stream",
     "text": [
      "[[[1]\n",
      "  [2]]\n",
      "\n",
      " [[3]\n",
      "  [4]]\n",
      "\n",
      " [[5]\n",
      "  [6]]] (3, 2, 1)\n",
      "[[[0]\n",
      "  [0]]] (1, 2, 1)\n",
      "[[[1]\n",
      "  [2]]\n",
      "\n",
      " [[3]\n",
      "  [4]]\n",
      "\n",
      " [[5]\n",
      "  [6]]\n",
      "\n",
      " [[0]\n",
      "  [0]]] (4, 2, 1)\n"
     ]
    }
   ],
   "source": [
    "arr = np.array([[[1],[2]],[[3],[4]],[[5],[6]]])\n",
    "print(arr, arr.shape)\n",
    "app = np.array([[[0],[0]]])\n",
    "print(app, app.shape)\n",
    "res = np.append(arr, app, axis=0)\n",
    "print(res, res.shape)\n",
    "\n",
    "# take shape (a,b,c) and append shape (a,b,d) to get shape (a,b,c+d)\n",
    "# I have shape (3,5,2) and I want to append ..... \n",
    "# to get shape (4,5,2)"
   ]
  },
  {
   "cell_type": "code",
   "execution_count": 127,
   "metadata": {},
   "outputs": [
    {
     "name": "stdout",
     "output_type": "stream",
     "text": [
      "(3, 5, 2)\n",
      "(5,)\n",
      "(1, 5, 1)\n",
      "[[0 1 2 3 4 0 1 2 3 4]]\n",
      "(5, 2)\n"
     ]
    }
   ],
   "source": [
    "print(mqz.shape) # mqz is shape (3,5,2) = (3,F,R)\n",
    "# I want to append frequencies to get shape (4,5,2) = (4,F,R)\n",
    "# this means I need my f_indices in shape (1,5,2)\n",
    "print(f_ids.shape)\n",
    "print(f_ids[np.newaxis,:,np.newaxis].shape)\n",
    "print(np.tile(f_ids, (1,2)))\n",
    "print(np.repeat(f_ids, 2).reshape(5,2).shape)"
   ]
  },
  {
   "cell_type": "code",
   "execution_count": 131,
   "metadata": {},
   "outputs": [
    {
     "name": "stdout",
     "output_type": "stream",
     "text": [
      "[[[0 0]\n",
      "  [1 1]\n",
      "  [2 2]\n",
      "  [3 3]\n",
      "  [4 4]]]\n",
      "(1, 5, 2)\n"
     ]
    }
   ],
   "source": [
    "R = 2\n",
    "F = 5\n",
    "reps = np.repeat(f_ids, R).reshape(F,R)\n",
    "resh = reps[np.newaxis,:]\n",
    "print(resh)\n",
    "print(resh.shape)"
   ]
  },
  {
   "attachments": {},
   "cell_type": "markdown",
   "metadata": {},
   "source": [
    "f appending"
   ]
  },
  {
   "cell_type": "code",
   "execution_count": 136,
   "metadata": {},
   "outputs": [
    {
     "name": "stdout",
     "output_type": "stream",
     "text": [
      "(4, 5, 2)\n"
     ]
    }
   ],
   "source": [
    "# I GOt IT!!!!!\n",
    "# MQZ in shape (3,F,R)\n",
    "# Want to get MQZF in shape (4,F,R)\n",
    "# Need f_ids in shape (1,F,R) to append\n",
    "\n",
    "f_ids = np.linspace(0,len(mqz[0])-1,len(mqz[0])).astype(int) # frequency indices\n",
    "f_ids = np.repeat(f_ids, R).reshape(F,R)[np.newaxis,:]\n",
    "mqzf = np.append(mqz,f_ids, axis=0)\n",
    "print(mqzf.shape)"
   ]
  },
  {
   "attachments": {},
   "cell_type": "markdown",
   "metadata": {},
   "source": [
    "single realization"
   ]
  },
  {
   "cell_type": "code",
   "execution_count": 105,
   "metadata": {},
   "outputs": [
    {
     "name": "stdout",
     "output_type": "stream",
     "text": [
      "(2, 1, 3, 5, 1)\n"
     ]
    }
   ],
   "source": [
    "hsamp = np.array([[[[1,0,0,0,0],[0,9,0,0,0],[0,0,0,0,0]]],\n",
    "\n",
    "                 [[[0,0,0,0,0],[0,0,3,0,0],[0,0,0,4,5]]]])[...,np.newaxis]\n",
    "print(hsamp.shape)\n",
    "bgnum = np.full_like(hsamp, 100)\n"
   ]
  },
  {
   "cell_type": "code",
   "execution_count": 260,
   "metadata": {},
   "outputs": [
    {
     "name": "stdout",
     "output_type": "stream",
     "text": [
      "[[1]\n",
      " [9]\n",
      " [3]\n",
      " [4]\n",
      " [5]]\n",
      "shape (2, 1, 3, 5, 1)\n",
      "newshape (6, 5, 1)\n",
      "R = 1 F = 5\n",
      "f_ids [[[0]\n",
      "  [1]\n",
      "  [2]\n",
      "  [3]\n",
      "  [4]]] (1, 5, 1)\n",
      "r_ids [0] (1,)\n",
      "[[[0]\n",
      "  [0]\n",
      "  [0]\n",
      "  [0]\n",
      "  [0]]] (1, 5, 1)\n",
      "(5, 5, 1)\n"
     ]
    }
   ],
   "source": [
    "# include also r indices: \n",
    "# Only way to avoid for loops over realizations?\n",
    "#hsamp for all bins at all realizations\n",
    "\n",
    "#gets max for each frequency and realization\n",
    "max = np.amax(hsamp, axis=(0,1,2))\n",
    "print(max)\n",
    "shape = hsamp.shape\n",
    "print('shape',shape)\n",
    "newshape = (shape[0]*shape[1]*shape[2], shape[3], shape[4])\n",
    "print('newshape', newshape)\n",
    "hsamp = hsamp.reshape(newshape)\n",
    "argmax = np.argmax(hsamp, axis=0)\n",
    "hsamp = hsamp.reshape(shape)\n",
    "\n",
    "# shape (3, F, R)\n",
    "mqz = np.array(np.unravel_index(argmax, shape[:-2])) # unravel indices\n",
    "# print('mqz', mqz.shape)\n",
    "\n",
    "# MQZ in shape (3,F,R)\n",
    "# Want to get MQZF in shape (4,F,R)\n",
    "# Need f_ids in shape (1,F,R) to append\n",
    "# Need r_ids in shape (1,F,R) to append\n",
    "R=shape[4]\n",
    "F=shape[3]\n",
    "print('R =', R, 'F =',F)\n",
    "f_ids = np.linspace(0,len(mqz[0])-1,len(mqz[0])).astype(int) # frequency indices\n",
    "f_ids = np.repeat(f_ids, R).reshape(F,R)[np.newaxis,:]\n",
    "print('f_ids',f_ids, f_ids.shape)\n",
    "r_ids = np.linspace(0,R-1,R).astype(int) # realization indices\n",
    "print('r_ids',r_ids,r_ids.shape)\n",
    "r_ids = np.tile(r_ids, F).reshape(F,R)[np.newaxis,:]\n",
    "print(r_ids, r_ids.shape)\n",
    "ssnew = np.append(mqz,f_ids, axis=0)\n",
    "ssnew = np.append(ssnew,r_ids, axis=0)\n",
    "print(ssnew.shape)"
   ]
  },
  {
   "cell_type": "code",
   "execution_count": 257,
   "metadata": {},
   "outputs": [
    {
     "name": "stdout",
     "output_type": "stream",
     "text": [
      "[[[0]\n",
      "  [0]\n",
      "  [1]\n",
      "  [1]\n",
      "  [1]]\n",
      "\n",
      " [[0]\n",
      "  [0]\n",
      "  [0]\n",
      "  [0]\n",
      "  [0]]\n",
      "\n",
      " [[0]\n",
      "  [1]\n",
      "  [1]\n",
      "  [2]\n",
      "  [2]]\n",
      "\n",
      " [[0]\n",
      "  [1]\n",
      "  [2]\n",
      "  [3]\n",
      "  [4]]\n",
      "\n",
      " [[0]\n",
      "  [0]\n",
      "  [0]\n",
      "  [0]\n",
      "  [0]]]\n"
     ]
    }
   ],
   "source": [
    "print(ssnew)"
   ]
  },
  {
   "cell_type": "code",
   "execution_count": 256,
   "metadata": {},
   "outputs": [
    {
     "name": "stdout",
     "output_type": "stream",
     "text": [
      "[[[[100 100 100 100 100]\n",
      "   [100 100 100 100 100]\n",
      "   [100 100 100 100 100]]]\n",
      "\n",
      "\n",
      " [[[100 100 100 100 100]\n",
      "   [100 100 100 100 100]\n",
      "   [100 100 100 100 100]]]] (2, 1, 3, 5, 1)\n",
      "(2, 1, 3, 5, 1)\n",
      "[1 9 3 4 5]\n",
      "[[[[[ 99]\n",
      "    [100]\n",
      "    [100]\n",
      "    [100]\n",
      "    [100]]\n",
      "\n",
      "   [[100]\n",
      "    [ 99]\n",
      "    [100]\n",
      "    [100]\n",
      "    [100]]\n",
      "\n",
      "   [[100]\n",
      "    [100]\n",
      "    [100]\n",
      "    [100]\n",
      "    [100]]]]\n",
      "\n",
      "\n",
      "\n",
      " [[[[100]\n",
      "    [100]\n",
      "    [100]\n",
      "    [100]\n",
      "    [100]]\n",
      "\n",
      "   [[100]\n",
      "    [100]\n",
      "    [ 99]\n",
      "    [100]\n",
      "    [100]]\n",
      "\n",
      "   [[100]\n",
      "    [100]\n",
      "    [100]\n",
      "    [ 99]\n",
      "    [ 99]]]]] (2, 1, 3, 5, 1)\n"
     ]
    },
    {
     "name": "stderr",
     "output_type": "stream",
     "text": [
      "/var/folders/r0/rzjvt8tn7lqbr892wvvnr0j40000gn/T/ipykernel_28871/70686756.py:8: FutureWarning: Using a non-tuple sequence for multidimensional indexing is deprecated; use `arr[tuple(seq)]` instead of `arr[seq]`. In the future this will be interpreted as an array index, `arr[np.array(seq)]`, which will result either in an error or a different result.\n",
      "  bgnumcop[[ssnew[0], ssnew[1], ssnew[2], ssnew[3], ssnew[4]]]-=1\n"
     ]
    }
   ],
   "source": [
    "r=0\n",
    "print(bgnum[...,r], bgnum.shape)\n",
    "print(hsamp.shape)\n",
    "print(hsamp[ssnew[0], ssnew[1], ssnew[2], \n",
    "        ssnew[3],ssnew[4]][...,r])\n",
    "bgnumcop = np.copy(bgnum)\n",
    "# bgnumcop[ssnew[0,:,:], ssnew[1,:,:], ssnew[2,:,:], ssnew[3,:,:]]=9\n",
    "bgnumcop[[ssnew[0], ssnew[1], ssnew[2], ssnew[3], ssnew[4]]]-=1\n",
    "print(bgnumcop, bgnumcop.shape)"
   ]
  },
  {
   "attachments": {},
   "cell_type": "markdown",
   "metadata": {},
   "source": [
    "# From ss_real_dev 3/10"
   ]
  },
  {
   "cell_type": "markdown",
   "metadata": {},
   "source": [
    "## Scratch"
   ]
  },
  {
   "cell_type": "markdown",
   "metadata": {},
   "source": [
    "grid:\n",
    "\n",
    "1x  |  xx  |  xx  |  xx  |  xx \\\n",
    "xx  |  9x  |  x3  |  xx  |  xx \\\n",
    "xx  |  xx  |  xx  |  x4  |  x5 "
   ]
  },
  {
   "cell_type": "code",
   "execution_count": 7,
   "metadata": {},
   "outputs": [
    {
     "name": "stdout",
     "output_type": "stream",
     "text": [
      "(2, 1, 3, 5)\n"
     ]
    },
    {
     "ename": "NameError",
     "evalue": "name 'max_index_at_f' is not defined",
     "output_type": "error",
     "traceback": [
      "\u001b[0;31m---------------------------------------------------------------------------\u001b[0m",
      "\u001b[0;31mNameError\u001b[0m                                 Traceback (most recent call last)",
      "Cell \u001b[0;32mIn[7], line 4\u001b[0m\n\u001b[1;32m      1\u001b[0m grid \u001b[39m=\u001b[39m np\u001b[39m.\u001b[39marray([[[[\u001b[39m1\u001b[39m,\u001b[39m0\u001b[39m,\u001b[39m0\u001b[39m,\u001b[39m0\u001b[39m,\u001b[39m0\u001b[39m],[\u001b[39m0\u001b[39m,\u001b[39m9\u001b[39m,\u001b[39m0\u001b[39m,\u001b[39m0\u001b[39m,\u001b[39m0\u001b[39m],[\u001b[39m0\u001b[39m,\u001b[39m0\u001b[39m,\u001b[39m0\u001b[39m,\u001b[39m0\u001b[39m,\u001b[39m0\u001b[39m]]],\n\u001b[1;32m      2\u001b[0m                  [[[\u001b[39m0\u001b[39m,\u001b[39m0\u001b[39m,\u001b[39m0\u001b[39m,\u001b[39m0\u001b[39m,\u001b[39m0\u001b[39m],[\u001b[39m0\u001b[39m,\u001b[39m0\u001b[39m,\u001b[39m3\u001b[39m,\u001b[39m0\u001b[39m,\u001b[39m0\u001b[39m],[\u001b[39m0\u001b[39m,\u001b[39m0\u001b[39m,\u001b[39m0\u001b[39m,\u001b[39m4\u001b[39m,\u001b[39m5\u001b[39m]]]])\n\u001b[1;32m      3\u001b[0m \u001b[39mprint\u001b[39m(grid\u001b[39m.\u001b[39mshape)\n\u001b[0;32m----> 4\u001b[0m mqz_f, f_mqz, all_f, f_all\u001b[39m=\u001b[39m max_index_at_f(grid)\n\u001b[1;32m      5\u001b[0m \u001b[39mprint\u001b[39m(\u001b[39m'\u001b[39m\u001b[39mmqz_f:\u001b[39m\u001b[39m\\n\u001b[39;00m\u001b[39m'\u001b[39m,mqz_f)\n\u001b[1;32m      6\u001b[0m \u001b[39mprint\u001b[39m(\u001b[39m'\u001b[39m\u001b[39m\\n\u001b[39;00m\u001b[39mf_mqz:\u001b[39m\u001b[39m\\n\u001b[39;00m\u001b[39m'\u001b[39m, f_mqz)\n",
      "\u001b[0;31mNameError\u001b[0m: name 'max_index_at_f' is not defined"
     ]
    }
   ],
   "source": [
    "grid = np.array([[[[1,0,0,0,0],[0,9,0,0,0],[0,0,0,0,0]]],\n",
    "                 [[[0,0,0,0,0],[0,0,3,0,0],[0,0,0,4,5]]]])\n",
    "print(grid.shape)\n",
    "mqz_f, f_mqz, all_f, f_all= max_index_at_f(grid)\n",
    "print('mqz_f:\\n',mqz_f)\n",
    "print('\\nf_mqz:\\n', f_mqz)\n",
    "print('\\nall_f:\\n', all_f)\n",
    "print('\\nf_all:\\n', f_all)"
   ]
  },
  {
   "cell_type": "code",
   "execution_count": null,
   "metadata": {},
   "outputs": [
    {
     "name": "stdout",
     "output_type": "stream",
     "text": [
      "[1 9 3 4 5]\n",
      "0 0 0 0 grid max: 1\n",
      "0 0 1 1 grid max: 9\n",
      "1 0 1 2 grid max: 3\n",
      "1 0 2 3 grid max: 4\n",
      "1 0 2 4 grid max: 5\n",
      "[[0 0 0 0]\n",
      " [0 0 1 1]\n",
      " [1 0 1 2]\n",
      " [1 0 2 3]\n",
      " [1 0 2 4]]\n"
     ]
    }
   ],
   "source": [
    "maxes = np.amax(grid, axis=(0,1,2))\n",
    "print(maxes)\n",
    "\n",
    "hsmax = np.amax(grid, axis=(0,1,2)) #find max hs at each frequency\n",
    "    \n",
    "    #### 2) Record the indices and strain of that single source\n",
    "\n",
    "# --- Indices of Loudest Bin ---\n",
    "# Shape [F, 4], looks like\n",
    "# [[m_idx,q_idx,z_idx,0],\n",
    "#  [m_idx,q_idx,z_idx,1],\n",
    "#   ........\n",
    "#  [m_idx,q_idx,z_idx,F-2]]\n",
    "ssidx = np.argwhere(grid==hsmax) \n",
    "for s in range(len(ssidx)):\n",
    "    m,q,z,f = ssidx[s]\n",
    "    print(m,q,z,f, 'grid max:',grid[m,q,z,f])\n",
    "print(ssidx)"
   ]
  },
  {
   "cell_type": "markdown",
   "metadata": {},
   "source": [
    "grid: argwhere vs where"
   ]
  },
  {
   "cell_type": "code",
   "execution_count": null,
   "metadata": {},
   "outputs": [
    {
     "name": "stdout",
     "output_type": "stream",
     "text": [
      "where:\n",
      " (array([0, 0, 1, 1, 1]), array([0, 0, 0, 0, 0]), array([0, 1, 1, 2, 2]), array([0, 1, 2, 3, 4]))\n",
      "np.where unpacked and put in numpy array\n",
      " [[0 0 1 1 1]\n",
      " [0 0 0 0 0]\n",
      " [0 1 1 2 2]\n",
      " [0 1 2 3 4]]\n",
      "argwhere:\n",
      " [[0 0 0 0]\n",
      " [0 0 1 1]\n",
      " [1 0 1 2]\n",
      " [1 0 2 3]\n",
      " [1 0 2 4]]\n",
      "first point [0 0 0 0] [0 0 0 0]\n",
      "f: by np.array[*where][:,f] [0 0 0 0] or by argwhere[f,:] [0 0 0 0]\n",
      "f: by np.array[*where][:,f] [0 0 1 1] or by argwhere[f,:] [0 0 1 1]\n",
      "f: by np.array[*where][:,f] [1 0 1 2] or by argwhere[f,:] [1 0 1 2]\n",
      "f: by np.array[*where][:,f] [1 0 2 3] or by argwhere[f,:] [1 0 2 3]\n",
      "f: by np.array[*where][:,f] [1 0 2 4] or by argwhere[f,:] [1 0 2 4]\n"
     ]
    }
   ],
   "source": [
    "where = np.where(grid==hsmax)\n",
    "where_arr = np.array([*where])\n",
    "argwhere = np.argwhere(grid==hsmax)\n",
    "print('where:\\n', where)\n",
    "print('np.where unpacked and put in numpy array\\n', where_arr)\n",
    "print('argwhere:\\n', argwhere)\n",
    "print('first point', argwhere[0,:], where_arr[:,0])\n",
    "for f in range(len(argwhere)):\n",
    "    print('f: by np.array[*where][:,f]', where_arr[:,f],  \n",
    "          'or by argwhere[f,:]', argwhere[f,:])"
   ]
  },
  {
   "cell_type": "markdown",
   "metadata": {},
   "source": [
    "grid: using reshape"
   ]
  },
  {
   "cell_type": "code",
   "execution_count": null,
   "metadata": {},
   "outputs": [
    {
     "name": "stdout",
     "output_type": "stream",
     "text": [
      "(2, 1, 3, 5)\n",
      "[[[[1 0 0 0 0]\n",
      "   [0 9 0 0 0]\n",
      "   [0 0 0 0 0]]]\n",
      "\n",
      "\n",
      " [[[0 0 0 0 0]\n",
      "   [0 0 3 0 0]\n",
      "   [0 0 0 4 5]]]]\n",
      "(6, 5)\n",
      "[[1 0 0 0 0]\n",
      " [0 9 0 0 0]\n",
      " [0 0 0 0 0]\n",
      " [0 0 0 0 0]\n",
      " [0 0 3 0 0]\n",
      " [0 0 0 4 5]]\n",
      "(2, 1, 3, 5)\n",
      "[[[[1 0 0 0 0]\n",
      "   [0 9 0 0 0]\n",
      "   [0 0 0 0 0]]]\n",
      "\n",
      "\n",
      " [[[0 0 0 0 0]\n",
      "   [0 0 3 0 0]\n",
      "   [0 0 0 4 5]]]]\n"
     ]
    }
   ],
   "source": [
    "shape = grid.shape\n",
    "print(shape)\n",
    "print(grid)\n",
    "grid = grid.reshape(6,5)\n",
    "print(grid.shape)\n",
    "print(grid)\n",
    "grid = grid.reshape(shape)\n",
    "print(grid.shape)\n",
    "print(grid)"
   ]
  },
  {
   "cell_type": "code",
   "execution_count": null,
   "metadata": {},
   "outputs": [
    {
     "name": "stdout",
     "output_type": "stream",
     "text": [
      "(2, 1, 3)\n",
      "grid: (6, 5) \n",
      " [[1 0 0 0 0]\n",
      " [0 9 0 0 0]\n",
      " [0 0 0 0 0]\n",
      " [0 0 0 0 0]\n",
      " [0 0 3 0 0]\n",
      " [0 0 0 4 5]]\n",
      "argmax0: (5,) [0 1 4 5 5]\n",
      "argmax[i]= 0 i= 0 grid[argmax[i], i]] = 1\n",
      "argmax[i]= 1 i= 1 grid[argmax[i], i]] = 9\n",
      "argmax[i]= 4 i= 2 grid[argmax[i], i]] = 3\n",
      "argmax[i]= 5 i= 3 grid[argmax[i], i]] = 4\n",
      "argmax[i]= 5 i= 4 grid[argmax[i], i]] = 5\n",
      "grid[argmax,:]\n",
      " [[1 0 0 0 0]\n",
      " [0 9 0 0 0]\n",
      " [0 0 3 0 0]\n",
      " [0 0 0 4 5]\n",
      " [0 0 0 4 5]]\n",
      "unraveled 3 (5,) (array([0, 0, 1, 1, 1]), array([0, 0, 0, 0, 0]), array([0, 1, 1, 2, 2]))\n",
      "unraveled[:,i] m,q,z,f =  0 0 0 0\n",
      "1\n",
      "unraveled[:,i] m,q,z,f =  0 0 1 1\n",
      "9\n",
      "unraveled[:,i] m,q,z,f =  1 0 1 2\n",
      "3\n",
      "unraveled[:,i] m,q,z,f =  1 0 2 3\n",
      "4\n",
      "unraveled[:,i] m,q,z,f =  1 0 2 4\n",
      "5\n"
     ]
    }
   ],
   "source": [
    "shape = (2,1,3,5)\n",
    "print(shape[:-1])\n",
    "grid = grid.reshape(shape)\n",
    "# print('grid:', grid.shape,'\\n', grid)\n",
    "grid = grid.reshape(6,5)\n",
    "print('grid:', grid.shape,'\\n', grid)\n",
    "# print('grid[4,2]', grid[4,2])\n",
    "\n",
    "argmax0 = np.argmax(grid,axis=0)\n",
    "# argmax1 = np.argmax(grid,axis=1)\n",
    "# unraveledargmax = np.unravel_index(argmax, grid.shape)\n",
    "print('argmax0:', argmax0.shape, argmax0)\n",
    "for i in range(len(grid[0])):\n",
    "    print('argmax[i]=',argmax0[i], \n",
    "          'i=', i, \n",
    "          'grid[argmax[i], i]] =', grid[argmax0[i], i])\n",
    "# print('argmax1:', argmax1.shape, argmax1)\n",
    "\n",
    "# print('unraveled:', unraveledargmax)\n",
    "# print('max at argmax:', grid[:,argmax])\n",
    "# argidx = np.unravel_index(argmax, grid.shape)\n",
    "print('grid[argmax,:]\\n', grid[argmax0,:])\n",
    "# print('grid[:,argmax]\\n', grid[:,argmax0])\n",
    "grid = grid.reshape(shape)\n",
    "unraveled = np.unravel_index(argmax0, shape[:-1])\n",
    "print('unraveled', len(unraveled), unraveled[0].shape, unraveled)\n",
    "for i in range(len(grid[0,0,0,:])):\n",
    "    m,q,z= unraveled[0][i], unraveled[1][i], unraveled[2][i] #, unraveled[3][i]\n",
    "    print('unraveled[:,i] m,q,z,f = ', m,q,z,i)\n",
    "    print(grid[m,q,z,i])\n",
    "    # print('argmax[i]=',argmax0[i], \n",
    "    #       'i=', i, \n",
    "    #       'grid[argmax[i], i]] =', grid[n,q,z, i])\n",
    "\n",
    "# print('grid:', grid.shape,'\\n', grid)\n",
    "\n"
   ]
  },
  {
   "cell_type": "markdown",
   "metadata": {},
   "source": [
    "figured out how to use my faster mqz indexing to get maxes from grid, with fancy indexing"
   ]
  },
  {
   "cell_type": "code",
   "execution_count": null,
   "metadata": {},
   "outputs": [
    {
     "name": "stdout",
     "output_type": "stream",
     "text": [
      "[[0 0 1 1 1]\n",
      " [0 0 0 0 0]\n",
      " [0 1 1 2 2]]\n",
      "f_indices [0 1 2 3 4]\n",
      "m,q,z,f 0 0 0 0\n",
      "grid[m,q,z,f] = 1\n",
      "m,q,z,f 0 0 1 1\n",
      "grid[m,q,z,f] = 9\n",
      "m,q,z,f 1 0 1 2\n",
      "grid[m,q,z,f] = 3\n",
      "m,q,z,f 1 0 2 3\n",
      "grid[m,q,z,f] = 4\n",
      "m,q,z,f 1 0 2 4\n",
      "grid[m,q,z,f] = 5\n",
      "mqzf (5, 4) \n",
      " [[0 0 0 0]\n",
      " [0 0 1 1]\n",
      " [1 0 1 2]\n",
      " [1 0 2 3]\n",
      " [1 0 2 4]]\n",
      "[[0 0 0 0]\n",
      " [0 0 1 1]\n",
      " [1 0 1 2]\n",
      " [1 0 2 3]\n",
      " [1 0 2 4]]\n"
     ]
    }
   ],
   "source": [
    "mqz = reshaped_argmax_at_f(grid)\n",
    "print(mqz)\n",
    "mqzf = mqzf_from_mqz(mqz, True)\n",
    "print(mqzf)"
   ]
  },
  {
   "cell_type": "code",
   "execution_count": 5,
   "metadata": {},
   "outputs": [
    {
     "name": "stdout",
     "output_type": "stream",
     "text": [
      "[[ 0  0]\n",
      " [-1 -2]\n",
      " [ 3  4]]\n",
      "[[-1 -2]\n",
      " [ 0  0]\n",
      " [ 3  4]]\n"
     ]
    }
   ],
   "source": [
    "testarr = np.array([[0,0],[-1,-2],[3,4]])\n",
    "print(testarr)\n",
    "sorted = np.sort(testarr, axis=0)\n",
    "print(sorted)"
   ]
  },
  {
   "attachments": {},
   "cell_type": "markdown",
   "metadata": {},
   "source": [
    "sort over all M,q,z for each individual F and R\n",
    "np.sort( axis?)\n",
    "\n",
    "* keep F and R indices separated"
   ]
  },
  {
   "cell_type": "code",
   "execution_count": null,
   "metadata": {},
   "outputs": [
    {
     "name": "stdout",
     "output_type": "stream",
     "text": [
      "faster: [[0 0 1 1 1]\n",
      " [0 0 0 0 0]\n",
      " [0 1 1 2 2]\n",
      " [0 1 2 3 4]]\n",
      "(2, 1, 3, 5)\n",
      "1st max at m,q,z,f = 0,0,0,0: 1\n",
      "2nd max at m,q,z,f = 0,0,1,1: 9\n",
      "3rd max at m,q,z,f = 1,0,1,2: 3\n",
      "4th max at m,q,z,f = 1,0,2,3: 4\n",
      "5th max at m,q,z,f = 1,0,2,4: 5\n",
      "[1 9 3 4 5]\n",
      "grid[fancy] = [1 9 3 4 5]\n",
      "fancy: ([0, 0, 1, 1, 1], [0, 0, 0, 0, 0], [0, 1, 1, 2, 2], [0, 1, 2, 3, 4])\n",
      "[1 9 3 4 5]\n"
     ]
    }
   ],
   "source": [
    "faster = faster_mqzf_from_mqz(mqz, False)\n",
    "print('faster:', faster)\n",
    "print(grid.shape)\n",
    "print('1st max at m,q,z,f = 0,0,0,0:', grid[0,0,0,0])\n",
    "print('2nd max at m,q,z,f = 0,0,1,1:', grid[0,0,1,1])\n",
    "print('3rd max at m,q,z,f = 1,0,1,2:', grid[1,0,1,2])\n",
    "print('4th max at m,q,z,f = 1,0,2,3:', grid[1,0,2,3])\n",
    "print('5th max at m,q,z,f = 1,0,2,4:', grid[1,0,2,4])\n",
    "print(grid[[0,0,1,1,1], [0,0,0,0,0], [0,1,1,2,2], [0,1,2,3,4]])\n",
    "fancy = [0,0,1,1,1], [0,0,0,0,0], [0,1,1,2,2], [0,1,2,3,4]\n",
    "print('grid[fancy] =',grid[fancy])\n",
    "print('fancy:', fancy)\n",
    "print(grid[faster[0], faster[1], faster[2], faster[3]]) # this gives maxes!!! \n",
    "\n",
    "# listed = (faster[0], faster[1], faster[2], faster[3])\n",
    "# print(listed)\n"
   ]
  },
  {
   "cell_type": "markdown",
   "metadata": {},
   "source": [
    "using reshaped argmax, and mqzf to mqz methods"
   ]
  },
  {
   "cell_type": "code",
   "execution_count": null,
   "metadata": {},
   "outputs": [
    {
     "name": "stdout",
     "output_type": "stream",
     "text": [
      "(3, 5)\n",
      "[[  1   2   3   4   5]\n",
      " [ 10  20  30  40  50]\n",
      " [100 200 300 400 500]\n",
      " [  0   1   2   3   4]]\n"
     ]
    }
   ],
   "source": [
    "# this is what mqz looks like\n",
    "# all [[M indices], [q indices], [z indices]] in shape (3,F)\n",
    "arr = np.array([[1,2,3,4,5], [10,20,30,40,50], [100,200,300,400,500]])\n",
    "print(np.array(arr).shape)\n",
    "# Here are the F indices\n",
    "indices = np.array([0,1,2,3,4])\n",
    "\n",
    "# I'd like to get this in the shape (4,F):\n",
    "# [array of M indices, array of q indices, array of z indices]\n",
    "newarr = np.append(arr,indices).reshape(4,len(indices))\n",
    "print(newarr)"
   ]
  },
  {
   "cell_type": "markdown",
   "metadata": {},
   "source": [
    "apply to example 3"
   ]
  },
  {
   "cell_type": "code",
   "execution_count": null,
   "metadata": {},
   "outputs": [
    {
     "ename": "ValueError",
     "evalue": "not enough values to unpack (expected 7, got 6)",
     "output_type": "error",
     "traceback": [
      "\u001b[0;31m---------------------------------------------------------------------------\u001b[0m\n",
      "\u001b[0;31mValueError\u001b[0m                                Traceback (most recent call last)\n",
      "Cell \u001b[0;32mIn[34], line 2\u001b[0m\n",
      "\u001b[1;32m      1\u001b[0m edges, number, fobs, exname \u001b[39m=\u001b[39m example2(print_test\u001b[39m=\u001b[39m\u001b[39mFalse\u001b[39;00m)\n",
      "\u001b[0;32m----> 2\u001b[0m hc_bg, hc_ss, hsamp, ssidx, hsmax, bgnum, ssnew \u001b[39m=\u001b[39m ss_by_ndars(edges, number, realize\u001b[39m=\u001b[39m\u001b[39mFalse\u001b[39;00m, \u001b[39mround\u001b[39m\u001b[39m=\u001b[39m\u001b[39mTrue\u001b[39;00m)\n",
      "\u001b[1;32m      3\u001b[0m \u001b[39m# print(holo.utils.stats(hsamp))\u001b[39;00m\n",
      "\u001b[1;32m      4\u001b[0m np\u001b[39m.\u001b[39mset_printoptions(precision\u001b[39m=\u001b[39m\u001b[39m2\u001b[39m)\n",
      "\n",
      "\u001b[0;31mValueError\u001b[0m: not enough values to unpack (expected 7, got 6)"
     ]
    }
   ],
   "source": [
    "edges, number, fobs, exname = example2(print_test=False)\n",
    "hc_bg, hc_ss, hsamp, ssidx, hsmax, bgnum, ssnew = ss_by_ndars(edges, number, realize=False, round=True)\n",
    "# print(holo.utils.stats(hsamp))\n",
    "np.set_printoptions(precision=2)\n",
    "print('hsamp\\n', hsamp)\n",
    "print('hsmax', hsmax)\n",
    "shape = hsamp.shape\n",
    "\n"
   ]
  },
  {
   "cell_type": "code",
   "execution_count": null,
   "metadata": {},
   "outputs": [
    {
     "name": "stdout",
     "output_type": "stream",
     "text": [
      "old hsamp (2, 1, 3, 5, 2) \n",
      " [[[[[0.00000000e+00 0.00000000e+00]\n",
      "    [0.00000000e+00 0.00000000e+00]\n",
      "    [0.00000000e+00 0.00000000e+00]\n",
      "    [0.00000000e+00 0.00000000e+00]\n",
      "    [0.00000000e+00 0.00000000e+00]]\n",
      "\n",
      "   [[3.04824418e-20 3.04824418e-20]\n",
      "    [4.83878602e-20 4.83878602e-20]\n",
      "    [6.34060341e-20 6.34060341e-20]\n",
      "    [7.68109401e-20 7.68109401e-20]\n",
      "    [9.20780165e-20 9.20780165e-20]]\n",
      "\n",
      "   [[4.45214787e-21 4.45214787e-21]\n",
      "    [7.06734422e-21 7.06734422e-21]\n",
      "    [9.26084077e-21 9.26084077e-21]\n",
      "    [1.12187096e-20 1.12187096e-20]\n",
      "    [1.34485599e-20 1.34485599e-20]]]]\n",
      "\n",
      "\n",
      "\n",
      " [[[[0.00000000e+00 0.00000000e+00]\n",
      "    [0.00000000e+00 0.00000000e+00]\n",
      "    [0.00000000e+00 0.00000000e+00]\n",
      "    [0.00000000e+00 0.00000000e+00]\n",
      "    [0.00000000e+00 0.00000000e+00]]\n",
      "\n",
      "   [[1.41486961e-18 1.41486961e-18]\n",
      "    [2.24596551e-18 2.24596551e-18]\n",
      "    [2.94304740e-18 2.94304740e-18]\n",
      "    [3.56524802e-18 3.56524802e-18]\n",
      "    [4.27388293e-18 4.27388293e-18]]\n",
      "\n",
      "   [[2.06650399e-19 2.06650399e-19]\n",
      "    [3.28037060e-19 3.28037060e-19]\n",
      "    [4.29850151e-19 4.29850151e-19]\n",
      "    [5.20726374e-19 5.20726374e-19]\n",
      "    [6.24226856e-19 6.24226856e-19]]]]]\n"
     ]
    },
    {
     "ename": "ValueError",
     "evalue": "cannot reshape array of size 60 into shape (6,5)",
     "output_type": "error",
     "traceback": [
      "\u001b[0;31m---------------------------------------------------------------------------\u001b[0m\n",
      "\u001b[0;31mValueError\u001b[0m                                Traceback (most recent call last)\n",
      "\u001b[1;32m/Users/emigardiner/GWs/holodeck/ecg-notebooks/single_sources/ss-dev/ss_reals_dev.ipynb Cell 74\u001b[0m in \u001b[0;36m<cell line: 4>\u001b[0;34m()\u001b[0m\n",
      "\u001b[1;32m      <a href='vscode-notebook-cell:/Users/emigardiner/GWs/holodeck/ecg-notebooks/single_sources/ss-dev/ss_reals_dev.ipynb#Y105sZmlsZQ%3D%3D?line=0'>1</a>\u001b[0m \u001b[39mprint\u001b[39m(\u001b[39m'\u001b[39m\u001b[39mold hsamp\u001b[39m\u001b[39m'\u001b[39m, hsamp\u001b[39m.\u001b[39mshape, \u001b[39m'\u001b[39m\u001b[39m\\n\u001b[39;00m\u001b[39m'\u001b[39m, hsamp)\n",
      "\u001b[1;32m      <a href='vscode-notebook-cell:/Users/emigardiner/GWs/holodeck/ecg-notebooks/single_sources/ss-dev/ss_reals_dev.ipynb#Y105sZmlsZQ%3D%3D?line=2'>3</a>\u001b[0m newshape \u001b[39m=\u001b[39m (shape[\u001b[39m0\u001b[39m]\u001b[39m*\u001b[39mshape[\u001b[39m1\u001b[39m]\u001b[39m*\u001b[39mshape[\u001b[39m2\u001b[39m], shape[\u001b[39m3\u001b[39m])\n",
      "\u001b[0;32m----> <a href='vscode-notebook-cell:/Users/emigardiner/GWs/holodeck/ecg-notebooks/single_sources/ss-dev/ss_reals_dev.ipynb#Y105sZmlsZQ%3D%3D?line=3'>4</a>\u001b[0m hsamp \u001b[39m=\u001b[39m hsamp\u001b[39m.\u001b[39;49mreshape(newshape)\n",
      "\u001b[1;32m      <a href='vscode-notebook-cell:/Users/emigardiner/GWs/holodeck/ecg-notebooks/single_sources/ss-dev/ss_reals_dev.ipynb#Y105sZmlsZQ%3D%3D?line=4'>5</a>\u001b[0m \u001b[39mprint\u001b[39m(\u001b[39m'\u001b[39m\u001b[39mnew hsamp\u001b[39m\u001b[39m'\u001b[39m, hsamp\u001b[39m.\u001b[39mshape, \u001b[39m'\u001b[39m\u001b[39m\\n\u001b[39;00m\u001b[39m'\u001b[39m, hsamp)\n",
      "\u001b[1;32m      <a href='vscode-notebook-cell:/Users/emigardiner/GWs/holodeck/ecg-notebooks/single_sources/ss-dev/ss_reals_dev.ipynb#Y105sZmlsZQ%3D%3D?line=5'>6</a>\u001b[0m argmax \u001b[39m=\u001b[39m np\u001b[39m.\u001b[39margmax(hsamp, axis\u001b[39m=\u001b[39m\u001b[39m0\u001b[39m)\n",
      "\n",
      "\u001b[0;31mValueError\u001b[0m: cannot reshape array of size 60 into shape (6,5)"
     ]
    }
   ],
   "source": [
    "print('old hsamp', hsamp.shape, '\\n', hsamp)\n",
    "\n",
    "newshape = (shape[0]*shape[1]*shape[2], shape[3])\n",
    "hsamp = hsamp.reshape(newshape)\n",
    "print('new hsamp', hsamp.shape, '\\n', hsamp)\n",
    "argmax = np.argmax(hsamp, axis=0)\n",
    "print('argmax', argmax)\n",
    "\n",
    "\n",
    "hsamp = hsamp.reshape(shape)\n",
    "print('m,q,z shape:', shape[:-1])\n",
    "maxidx = np.unravel_index(argmax, shape[:-1])\n",
    "\n",
    "for i in range(len(hsamp[0,0,0,:])):\n",
    "    m,q,z= maxidx[0][i], maxidx[1][i], maxidx[2][i] #, unraveled[3][i]\n",
    "    print('unraveled[:,i] m,q,z,f = ', m,q,z,i)\n",
    "    print(hsamp[m,q,z,i], hsmax[i])\n"
   ]
  },
  {
   "cell_type": "code",
   "execution_count": null,
   "metadata": {},
   "outputs": [],
   "source": [
    "# am = (np.argmax(hsamp[3,3,:,4]))\n",
    "# print(hsamp[3,3,:,4])\n",
    "# print(hsamp[3,3,am,4])"
   ]
  },
  {
   "cell_type": "code",
   "execution_count": null,
   "metadata": {},
   "outputs": [],
   "source": [
    "# mqz_f, f_mqz, all_f, f_all= max_index_at_f(grid)\n",
    "# argwhere = argwhere_at_f(grid)\n",
    "# print(argwhere)\n",
    "# assert (np.all(f_all == argwhere)), 'argwhere failing to find maxes'"
   ]
  },
  {
   "cell_type": "code",
   "execution_count": null,
   "metadata": {},
   "outputs": [],
   "source": [
    "# for i in range(len(grid[0,0,0,:])):\n",
    "#     m,q,z,f = argwhere[i]\n",
    "#     print(m,q,z,f, 'max:', grid[m,q,z,f])"
   ]
  },
  {
   "cell_type": "code",
   "execution_count": null,
   "metadata": {},
   "outputs": [],
   "source": [
    "# grid = np.array([[[[1,0,0,0,0],[0,2,0,0,0],[0,0,0,0,0]]],\n",
    "#                  [[[0,0,0,0,0],[0,0,3,0,0],[0,0,0,4,5]]]])\n",
    "# maxes = np.max(grid, axis=(0,1,2))\n",
    "# # print('grid:', grid.shape, '\\n', grid)\n",
    "# # print('maxes', maxes.shape, '\\n', maxes)\n",
    "# where = np.where(grid==maxes)\n",
    "# print('where: len=', len(where), 'with shapes=', where[0].shape, where[1].shape, where[2].shape,\n",
    "#       where[3].shape, '\\n', where)\n",
    "# print('max by where:', grid[np.where(maxes==grid)])\n",
    "# print()\n",
    "# argmax = np.argmax(grid)\n",
    "# m,q,z,f = np.unravel_index(np.argmax(grid), grid.shape)\n",
    "# print('m:',m, '\\nq:',q, '\\nz:',z, '\\nf:',f)\n",
    "# print('argmaxes:', argmax.shape, '\\n', argmax)"
   ]
  },
  {
   "cell_type": "code",
   "execution_count": null,
   "metadata": {},
   "outputs": [],
   "source": [
    "# idxs = np.argwhere(arr==maxes)\n",
    "# print('idxs', idxs.shape,'\\n', idxs)\n",
    "# rots = np.rot90(idxs)\n",
    "# print('rots', rots.shape, '\\n', rots)\n",
    "# print(idxs[0])\n",
    "# for i in [0,1]:\n",
    "#     print(arr[idxs[i,0], idxs[i,1], idxs[i,2]])\n",
    "# for i in [0,1]:\n",
    "#     # print(arr[rots[0,i], rots[1,i], rots[2,i]])\n",
    "#     print(arr[rots[2,i], rots[1,i], rots[0,i]])\n",
    "# # the rot situation is trickier, just use\n",
    "# # idxs = np.argwhere(arr==maxes)\n",
    "# # returns (2,3) array\n",
    "# # or (f, 4) array?\n"
   ]
  },
  {
   "attachments": {},
   "cell_type": "markdown",
   "metadata": {},
   "source": [
    "# Cython\n"
   ]
  },
  {
   "cell_type": "code",
   "execution_count": 1,
   "metadata": {},
   "outputs": [
    {
     "data": {
      "text/plain": [
       "<module 'holodeck.single_sources' from '/Users/emigardiner/GWs/holodeck/holodeck/single_sources.py'>"
      ]
     },
     "execution_count": 1,
     "metadata": {},
     "output_type": "execute_result"
    }
   ],
   "source": [
    "# %load ../init.ipy\n",
    "%reload_ext autoreload\n",
    "%autoreload 2\n",
    "from importlib import reload\n",
    "\n",
    "import holodeck as holo\n",
    "import holodeck.single_sources as ss\n",
    "import holodeck.cyutils as cy\n",
    "\n",
    "reload(cy) # not working :/\n",
    "reload(ss)"
   ]
  },
  {
   "cell_type": "markdown",
   "metadata": {},
   "source": [
    "Using SS's"
   ]
  },
  {
   "cell_type": "code",
   "execution_count": 2,
   "metadata": {},
   "outputs": [
    {
     "name": "stdout",
     "output_type": "stream",
     "text": [
      "13:30:01 INFO : zero_coalesced=True, zero_stalled=False [sam.py:dynamic_binary_number]\n",
      "13:30:01 INFO : Stalled SAM bins based on GMT: 1.20e+01/2.40e+01 = 5.00e-01 [sam.py:static_binary_density]\n",
      "13:30:01 INFO : Adding MMbulge scatter (3.4000e-01) [sam.py:static_binary_density]\n",
      "13:30:01 INFO : \tdens bef: (1.79e-03, 1.94e-03, 4.00e-03, 7.66e-03, 1.48e-02, 1.53e-02, 1.54e-02) [sam.py:static_binary_density]\n",
      "13:30:01 INFO : Scatter added after 0.002437 sec [sam.py:static_binary_density]\n",
      "13:30:01 INFO : \tdens aft: (2.07e-03, 2.12e-03, 4.31e-03, 7.29e-03, 1.38e-02, 1.46e-02, 1.46e-02) [sam.py:static_binary_density]\n",
      "13:30:01 INFO : \tmass: 1.21e-02 ==> 1.20e-02 || change = -9.0094e-03 [sam.py:static_binary_density]\n",
      "13:30:01 INFO : zeroing out 1.20e+01/2.40e+01 = 5.00e-01 systems stalled from GMT [sam.py:static_binary_density]\n",
      "13:30:01 INFO : fraction of coalesced binaries: 0.00e+00/1.20e+02 = 0.00e+00 [sam.py:dynamic_binary_number]\n",
      "13:30:01 WARNING : WARNING: _stalled_ binaries are not being accounted for in `dynamic_binary_number`! [sam.py:dynamic_binary_number]\n"
     ]
    }
   ],
   "source": [
    "edges, number, fobs, exname = ss.example2(print_test=False)\n",
    "h2fdf = ss.h2fdf(edges)"
   ]
  },
  {
   "cell_type": "code",
   "execution_count": 3,
   "metadata": {},
   "outputs": [
    {
     "name": "stdout",
     "output_type": "stream",
     "text": [
      "[[2.00185603e-36 2.00185603e-36]\n",
      " [1.00887222e-35 1.00887222e-35]\n",
      " [2.59845839e-35 2.59845839e-35]\n",
      " [5.08439738e-35 5.08439738e-35]\n",
      " [8.66611127e-35 8.66611127e-35]] [[8.41801361e-31 8.41881442e-31]\n",
      " [3.11013465e-31 3.12286731e-31]\n",
      " [1.78109026e-31 1.81235363e-31]\n",
      " [1.22007831e-31 1.21111094e-31]\n",
      " [8.86345056e-32 9.06408785e-32]] [[[1 1]\n",
      "  [1 1]\n",
      "  [1 1]\n",
      "  [1 1]\n",
      "  [1 1]]\n",
      "\n",
      " [[0 0]\n",
      "  [0 0]\n",
      "  [0 0]\n",
      "  [0 0]\n",
      "  [0 0]]\n",
      "\n",
      " [[1 1]\n",
      "  [1 1]\n",
      "  [1 1]\n",
      "  [1 1]\n",
      "  [1 1]]]\n"
     ]
    }
   ],
   "source": [
    "hc_ss, hc_bg, ssidx = cy.ss_bg_hc(number, h2fdf, 2)"
   ]
  },
  {
   "attachments": {},
   "cell_type": "markdown",
   "metadata": {},
   "source": [
    "## Compare to non cython results"
   ]
  },
  {
   "cell_type": "code",
   "execution_count": null,
   "metadata": {},
   "outputs": [],
   "source": []
  },
  {
   "attachments": {},
   "cell_type": "markdown",
   "metadata": {},
   "source": [
    "Basic Tests Cython"
   ]
  },
  {
   "cell_type": "code",
   "execution_count": 2,
   "metadata": {},
   "outputs": [
    {
     "name": "stdout",
     "output_type": "stream",
     "text": [
      "[2 2 2 2 2]\n"
     ]
    },
    {
     "data": {
      "text/plain": [
       "array([2, 2, 2, 2, 2])"
      ]
     },
     "execution_count": 2,
     "metadata": {},
     "output_type": "execute_result"
    }
   ],
   "source": [
    "cy.test_long_array(5)"
   ]
  },
  {
   "cell_type": "code",
   "execution_count": 2,
   "metadata": {},
   "outputs": [
    {
     "name": "stdout",
     "output_type": "stream",
     "text": [
      "[[0. 0. 0.]\n",
      " [0. 0. 0.]] [[0. 0. 0.]\n",
      " [0. 0. 0.]]\n",
      "[[1. 1. 0.]\n",
      " [1. 1. 0.]] [[2. 2. 0.]\n",
      " [2. 2. 0.]]\n"
     ]
    }
   ],
   "source": [
    "arr1, arr2 = cy.test_multiple_arrays()"
   ]
  },
  {
   "cell_type": "code",
   "execution_count": 2,
   "metadata": {},
   "outputs": [
    {
     "name": "stdout",
     "output_type": "stream",
     "text": [
      "[[0. 0. 0.]\n",
      " [0. 0. 0.]]\n",
      "[[6.2 6.2 6.2]\n",
      " [6.2 6.2 6.2]]\n"
     ]
    }
   ],
   "source": [
    "arr = cy.test_2darray()"
   ]
  },
  {
   "cell_type": "code",
   "execution_count": 4,
   "metadata": {},
   "outputs": [
    {
     "name": "stdout",
     "output_type": "stream",
     "text": [
      "[0. 0. 0. 0. 0.]\n",
      "[5. 5. 5. 5. 5.]\n",
      "[5. 5. 5. 5. 5.]\n"
     ]
    }
   ],
   "source": [
    "arr = cy.test_1darray()\n",
    "print(arr)"
   ]
  },
  {
   "cell_type": "code",
   "execution_count": 161,
   "metadata": {},
   "outputs": [],
   "source": [
    "import holodeck.single_sources as ss"
   ]
  },
  {
   "cell_type": "code",
   "execution_count": 138,
   "metadata": {},
   "outputs": [
    {
     "name": "stdout",
     "output_type": "stream",
     "text": [
      "18:21:25 INFO : zero_coalesced=True, zero_stalled=False [sam.py:dynamic_binary_number]\n",
      "18:21:25 INFO : Stalled SAM bins based on GMT: 6.25e+03/1.56e+04 = 4.00e-01 [sam.py:static_binary_density]\n",
      "18:21:25 INFO : Adding MMbulge scatter (3.4000e-01) [sam.py:static_binary_density]\n",
      "18:21:25 INFO : \tdens bef: (5.73e-12, 5.07e-07, 1.98e-05, 2.21e-03, 8.80e-03, 1.25e-02, 1.54e-02) [sam.py:static_binary_density]\n",
      "18:21:25 INFO : Scatter added after 0.183394 sec [sam.py:static_binary_density]\n",
      "18:21:25 INFO : \tdens aft: (6.58e-09, 5.71e-06, 9.08e-05, 2.29e-03, 8.88e-03, 1.24e-02, 1.40e-02) [sam.py:static_binary_density]\n",
      "18:21:25 INFO : \tmass: 2.38e-02 ==> 2.36e-02 || change = -5.7558e-03 [sam.py:static_binary_density]\n",
      "18:21:25 INFO : zeroing out 6.25e+03/1.56e+04 = 4.00e-01 systems stalled from GMT [sam.py:static_binary_density]\n",
      "18:21:25 INFO : fraction of coalesced binaries: 2.50e+01/7.81e+04 = 3.20e-04 [sam.py:dynamic_binary_number]\n",
      "18:21:25 WARNING : WARNING: _stalled_ binaries are not being accounted for in `dynamic_binary_number`! [sam.py:dynamic_binary_number]\n"
     ]
    }
   ],
   "source": [
    "edges, number, fobs, exname = ss.example3(print_test=False)"
   ]
  },
  {
   "attachments": {},
   "cell_type": "markdown",
   "metadata": {},
   "source": [
    "### Check ssidx match"
   ]
  },
  {
   "cell_type": "code",
   "execution_count": 139,
   "metadata": {},
   "outputs": [],
   "source": [
    "hc_bg, hc_ss, hsamp, ssidx, hsmax, bgnum = ss.ss_by_ndars(edges, number, False, round=True)"
   ]
  },
  {
   "cell_type": "code",
   "execution_count": 164,
   "metadata": {},
   "outputs": [
    {
     "name": "stdout",
     "output_type": "stream",
     "text": [
      "shape (24, 24, 24, 5)\n",
      "argmax [12089 10360  9786  8633  8057]\n",
      "ssidx [[20 17 16 14 13]\n",
      " [23 23 23 23 23]\n",
      " [17 16 18 17 17]]\n"
     ]
    }
   ],
   "source": [
    "bg_c, ss_c, idx_c, amp_c = ss.ss_by_cdefs(edges, number, False, round=True)"
   ]
  },
  {
   "cell_type": "code",
   "execution_count": 146,
   "metadata": {},
   "outputs": [
    {
     "name": "stdout",
     "output_type": "stream",
     "text": [
      "[[20 17 16 14 13]\n",
      " [23 23 23 23 23]\n",
      " [17 16 18 17 17]\n",
      " [ 0  1  2  3  4]\n",
      " [ 0  0  0  0  0]]\n"
     ]
    }
   ],
   "source": [
    "print(ssidx.squeeze())"
   ]
  },
  {
   "cell_type": "code",
   "execution_count": 147,
   "metadata": {},
   "outputs": [],
   "source": [
    "hc_bg_, hc_ss_l, hsamp_l, ssidx_l, hsmax_l, bgnum_l = ss.ss_by_loops(edges, number, False, round=True)"
   ]
  },
  {
   "cell_type": "code",
   "execution_count": 149,
   "metadata": {},
   "outputs": [
    {
     "name": "stdout",
     "output_type": "stream",
     "text": [
      "[[20. 23. 17.]\n",
      " [17. 23. 16.]\n",
      " [16. 23. 18.]\n",
      " [14. 23. 17.]\n",
      " [13. 23. 17.]]\n"
     ]
    }
   ],
   "source": [
    "print(ssidx_l.squeeze())"
   ]
  },
  {
   "cell_type": "code",
   "execution_count": 126,
   "metadata": {},
   "outputs": [
    {
     "name": "stdout",
     "output_type": "stream",
     "text": [
      "[[[[0.00000000e+00 0.00000000e+00 0.00000000e+00 0.00000000e+00\n",
      "    0.00000000e+00]\n",
      "   [3.04824418e-20 4.83878602e-20 6.34060341e-20 7.68109401e-20\n",
      "    8.90347170e-20]\n",
      "   [4.45214787e-21 7.06734422e-21 9.26084077e-21 1.12187096e-20\n",
      "    1.30040674e-20]]]\n",
      "\n",
      "\n",
      " [[[0.00000000e+00 0.00000000e+00 0.00000000e+00 0.00000000e+00\n",
      "    0.00000000e+00]\n",
      "   [1.41486961e-18 2.24596551e-18 2.94304740e-18 3.56524802e-18\n",
      "    4.13262548e-18]\n",
      "   [2.06650399e-19 3.28037060e-19 4.29850151e-19 5.20726374e-19\n",
      "    6.03595338e-19]]]] [[[[2.92011055e-19 4.63538656e-19 6.07407471e-19 7.35821750e-19\n",
      "    8.52921227e-19]\n",
      "   [3.04824418e-20 4.83878602e-20 6.34060341e-20 7.68109401e-20\n",
      "    8.90347170e-20]\n",
      "   [4.45214787e-21 7.06734422e-21 9.26084077e-21 1.12187096e-20\n",
      "    1.30040674e-20]]]\n",
      "\n",
      "\n",
      " [[[1.35539525e-17 2.15155585e-17 2.81933574e-17 3.41538202e-17\n",
      "    3.95890964e-17]\n",
      "   [1.41486961e-18 2.24596551e-18 2.94304740e-18 3.56524802e-18\n",
      "    4.13262548e-18]\n",
      "   [2.06650399e-19 3.28037060e-19 4.29850151e-19 5.20726374e-19\n",
      "    6.03595338e-19]]]]\n"
     ]
    }
   ],
   "source": [
    "print(hsamp[...,0],amp)"
   ]
  },
  {
   "cell_type": "code",
   "execution_count": 114,
   "metadata": {},
   "outputs": [
    {
     "name": "stdout",
     "output_type": "stream",
     "text": [
      "0.00e+00, 0.00e+00, 0.00e+00, 1.00e+00, 6.00e+00, 2.20e+01, 2.90e+01\n",
      "0.00e+00, 0.00e+00, 0.00e+00, 1.00e+00, 1.00e+00, 1.00e+00, 1.00e+00\n"
     ]
    }
   ],
   "source": [
    "print(holo.utils.stats(ssidx))\n",
    "print(holo.utils.stats(idx))"
   ]
  },
  {
   "cell_type": "code",
   "execution_count": 52,
   "metadata": {},
   "outputs": [
    {
     "name": "stdout",
     "output_type": "stream",
     "text": [
      "(25,)\n"
     ]
    }
   ],
   "source": [
    "print(hc_ss.shape)"
   ]
  },
  {
   "cell_type": "code",
   "execution_count": 71,
   "metadata": {},
   "outputs": [],
   "source": [
    "marr, qarr, zarr, farr = ss.parameters_from_indices(edges, ssidx2)"
   ]
  },
  {
   "cell_type": "code",
   "execution_count": 74,
   "metadata": {},
   "outputs": [
    {
     "name": "stdout",
     "output_type": "stream",
     "text": [
      "[[6.72902784e+42 3.82028191e+42 1.18524802e+43 6.72902784e+42\n",
      "  2.16889486e+42]\n",
      " [3.82028191e+42 6.72902784e+42 3.82028191e+42 2.16889486e+42\n",
      "  3.82028191e+42]\n",
      " [2.16889486e+42 2.16889486e+42 3.82028191e+42 2.16889486e+42\n",
      "  3.82028191e+42]\n",
      " [2.16889486e+42 3.82028191e+42 1.23135021e+42 1.23135021e+42\n",
      "  1.23135021e+42]\n",
      " [2.16889486e+42 2.16889486e+42 3.96887812e+41 1.23135021e+42\n",
      "  1.23135021e+42]\n",
      " [6.99076454e+41 1.23135021e+42 1.23135021e+42 6.99076454e+41\n",
      "  3.82028191e+42]\n",
      " [2.16889486e+42 1.23135021e+42 6.99076454e+41 6.99076454e+41\n",
      "  6.99076454e+41]\n",
      " [2.16889486e+42 6.99076454e+41 3.96887812e+41 6.99076454e+41\n",
      "  6.99076454e+41]\n",
      " [6.99076454e+41 3.96887812e+41 6.99076454e+41 3.96887812e+41\n",
      "  6.99076454e+41]\n",
      " [6.99076454e+41 6.99076454e+41 3.96887812e+41 3.96887812e+41\n",
      "  3.96887812e+41]\n",
      " [6.99076454e+41 6.99076454e+41 3.96887812e+41 6.99076454e+41\n",
      "  3.96887812e+41]\n",
      " [1.27924561e+41 3.96887812e+41 2.25325763e+41 3.96887812e+41\n",
      "  3.96887812e+41]]\n"
     ]
    }
   ],
   "source": [
    "print(marr)"
   ]
  },
  {
   "cell_type": "code",
   "execution_count": 72,
   "metadata": {},
   "outputs": [
    {
     "name": "stdout",
     "output_type": "stream",
     "text": [
      "[[[14 16 16 15 14]\n",
      "  [12 14 14 15 14]\n",
      "  [13 14 14 13 14]\n",
      "  [13 13 13 12 12]\n",
      "  [11 10 12 13 12]\n",
      "  [11 12 12 10 12]\n",
      "  [11 11 14 11 11]\n",
      "  [11 12 11 10 10]\n",
      "  [11 11  9 11 11]\n",
      "  [ 9 10 11 11 10]\n",
      "  [12 12 11 10 10]\n",
      "  [13 10  9 12 11]]\n",
      "\n",
      " [[20 11 21 15  8]\n",
      "  [13 23 11  8 19]\n",
      "  [16 13 13 19 22]\n",
      "  [20  4 14 19 22]\n",
      "  [21 17 23 16 12]\n",
      "  [17 14 23 19 12]\n",
      "  [18 22 21 22 21]\n",
      "  [ 9 14 21 19 20]\n",
      "  [10  8 16 15 23]\n",
      "  [19 20 20 12  7]\n",
      "  [16 17  2 23 18]\n",
      "  [20 20  9  9  8]]\n",
      "\n",
      " [[13 16 21 17 12]\n",
      "  [12 19 18 20 17]\n",
      "  [15 17 15 21 18]\n",
      "  [18 18 17 18 11]\n",
      "  [16 14 18 16 19]\n",
      "  [15 18 19 13 19]\n",
      "  [15 13 16 18 15]\n",
      "  [20 19 16 18 16]\n",
      "  [16 17 14 18 19]\n",
      "  [14 13 15 15 14]\n",
      "  [20 19 18 18 13]\n",
      "  [18 16 14 16 19]]]\n"
     ]
    }
   ],
   "source": [
    "print(ssidx)"
   ]
  },
  {
   "cell_type": "code",
   "execution_count": 56,
   "metadata": {},
   "outputs": [
    {
     "name": "stdout",
     "output_type": "stream",
     "text": [
      "[0.95863797 0.95863797 0.95863797 0.95863797 0.95863797 0.95863797\n",
      " 0.95863797 0.95863797 0.95863797 0.95863797 0.95863797 0.95863797\n",
      " 0.95863797 0.95863797 0.95863797 0.95863797 0.95863797 0.95863797\n",
      " 0.95863797 0.95863797 0.95863797 0.95863797 0.95863797 0.95863797\n",
      " 0.95863797]\n"
     ]
    }
   ],
   "source": [
    "print(qarr)"
   ]
  },
  {
   "cell_type": "code",
   "execution_count": 67,
   "metadata": {},
   "outputs": [
    {
     "data": {
      "text/plain": [
       "[<matplotlib.lines.Line2D at 0x2a21fc760>]"
      ]
     },
     "execution_count": 67,
     "metadata": {},
     "output_type": "execute_result"
    },
    {
     "data": {
      "image/png": "[encoded data removed]",
      "text/plain": [
       "<Figure size 640x480 with 1 Axes>"
      ]
     },
     "metadata": {},
     "output_type": "display_data"
    }
   ],
   "source": [
    "plt.plot(np.arange(len(marr)), marr)"
   ]
  },
  {
   "cell_type": "code",
   "execution_count": 28,
   "metadata": {},
   "outputs": [
    {
     "ename": "IndexError",
     "evalue": "invalid index to scalar variable.",
     "output_type": "error",
     "traceback": [
      "\u001b[0;31m---------------------------------------------------------------------------\u001b[0m",
      "\u001b[0;31mIndexError\u001b[0m                                Traceback (most recent call last)",
      "Cell \u001b[0;32mIn[28], line 1\u001b[0m\n\u001b[0;32m----> 1\u001b[0m plt\u001b[39m.\u001b[39mplot(fobs, hc_ss[:,\u001b[39m0\u001b[39;49m])\n",
      "\u001b[0;31mIndexError\u001b[0m: invalid index to scalar variable."
     ]
    }
   ],
   "source": [
    "plt.plot(fobs, hc_ss[:,0])"
   ]
  },
  {
   "cell_type": "code",
   "execution_count": 29,
   "metadata": {},
   "outputs": [
    {
     "name": "stdout",
     "output_type": "stream",
     "text": [
      "()\n"
     ]
    }
   ],
   "source": [
    "print(hc_ss.shape)"
   ]
  },
  {
   "cell_type": "code",
   "execution_count": 95,
   "metadata": {},
   "outputs": [
    {
     "name": "stdout",
     "output_type": "stream",
     "text": [
      "[[[[2.92011055e-19 4.63538656e-19 6.07407471e-19 7.35821750e-19\n",
      "    8.52921227e-19]\n",
      "   [3.04824418e-20 4.83878602e-20 6.34060341e-20 7.68109401e-20\n",
      "    8.90347170e-20]\n",
      "   [4.45214787e-21 7.06734422e-21 9.26084077e-21 1.12187096e-20\n",
      "    1.30040674e-20]]]\n",
      "\n",
      "\n",
      " [[[1.35539525e-17 2.15155585e-17 2.81933574e-17 3.41538202e-17\n",
      "    3.95890964e-17]\n",
      "   [1.41486961e-18 2.24596551e-18 2.94304740e-18 3.56524802e-18\n",
      "    4.13262548e-18]\n",
      "   [2.06650399e-19 3.28037060e-19 4.29850151e-19 5.20726374e-19\n",
      "    6.03595338e-19]]]]\n"
     ]
    }
   ],
   "source": [
    "hsamp = amp\n",
    "print(hsamp)"
   ]
  },
  {
   "cell_type": "code",
   "execution_count": 106,
   "metadata": {},
   "outputs": [],
   "source": [
    "temp = np.copy(hsamp)\n"
   ]
  },
  {
   "cell_type": "code",
   "execution_count": 143,
   "metadata": {},
   "outputs": [
    {
     "name": "stdout",
     "output_type": "stream",
     "text": [
      "(24, 24, 24, 5)\n",
      "[[[[0.00000000e+00 0.00000000e+00 0.00000000e+00 0.00000000e+00\n",
      "    0.00000000e+00]\n",
      "   [0.00000000e+00 0.00000000e+00 0.00000000e+00 0.00000000e+00\n",
      "    0.00000000e+00]\n",
      "   [0.00000000e+00 0.00000000e+00 0.00000000e+00 0.00000000e+00\n",
      "    0.00000000e+00]\n",
      "   ...\n",
      "   [8.46640256e-23 1.34395763e-22 1.76108270e-22 2.13339976e-22\n",
      "    2.47559113e-22]\n",
      "   [9.12579470e-23 1.44862961e-22 1.89824179e-22 2.29955617e-22\n",
      "    2.66839856e-22]\n",
      "   [1.02348020e-22 1.62467355e-22 2.12892461e-22 2.57900850e-22\n",
      "    2.99267427e-22]]\n",
      "\n",
      "  [[0.00000000e+00 0.00000000e+00 0.00000000e+00 0.00000000e+00\n",
      "    0.00000000e+00]\n",
      "   [0.00000000e+00 0.00000000e+00 0.00000000e+00 0.00000000e+00\n",
      "    0.00000000e+00]\n",
      "   [0.00000000e+00 0.00000000e+00 0.00000000e+00 0.00000000e+00\n",
      "    0.00000000e+00]\n",
      "   ...\n",
      "   [9.14306427e-23 1.45137098e-22 1.90183401e-22 2.30390783e-22\n",
      "    2.67344821e-22]\n",
      "   [9.85515712e-23 1.56440868e-22 2.04995529e-22 2.48334398e-22\n",
      "    2.88166542e-22]\n",
      "   [1.10527998e-22 1.75452261e-22 2.29907501e-22 2.78513103e-22\n",
      "    3.23185828e-22]]\n",
      "\n",
      "  [[0.00000000e+00 0.00000000e+00 0.00000000e+00 0.00000000e+00\n",
      "    0.00000000e+00]\n",
      "   [0.00000000e+00 0.00000000e+00 0.00000000e+00 0.00000000e+00\n",
      "    0.00000000e+00]\n",
      "   [0.00000000e+00 0.00000000e+00 0.00000000e+00 0.00000000e+00\n",
      "    0.00000000e+00]\n",
      "   ...\n",
      "   [9.85693078e-23 1.56469023e-22 2.05032423e-22 2.48379092e-22\n",
      "    2.88218405e-22]\n",
      "   [1.06246220e-22 1.68655361e-22 2.21001043e-22 2.67723698e-22\n",
      "    3.10665831e-22]\n",
      "   [1.19157735e-22 1.89151114e-22 2.47858077e-22 3.00258677e-22\n",
      "    3.48419331e-22]]\n",
      "\n",
      "  ...\n",
      "\n",
      "  [[0.00000000e+00 0.00000000e+00 0.00000000e+00 0.00000000e+00\n",
      "    0.00000000e+00]\n",
      "   [0.00000000e+00 0.00000000e+00 0.00000000e+00 0.00000000e+00\n",
      "    0.00000000e+00]\n",
      "   [0.00000000e+00 0.00000000e+00 0.00000000e+00 0.00000000e+00\n",
      "    0.00000000e+00]\n",
      "   ...\n",
      "   [2.42597408e-22 3.85099381e-22 5.04622944e-22 6.11307162e-22\n",
      "    7.09359124e-22]\n",
      "   [2.61491717e-22 4.15092226e-22 5.43924690e-22 6.58917837e-22\n",
      "    7.64606418e-22]\n",
      "   [2.93269358e-22 4.65536088e-22 6.10024848e-22 7.38992475e-22\n",
      "    8.57524805e-22]]\n",
      "\n",
      "  [[0.00000000e+00 0.00000000e+00 0.00000000e+00 0.00000000e+00\n",
      "    0.00000000e+00]\n",
      "   [0.00000000e+00 0.00000000e+00 0.00000000e+00 0.00000000e+00\n",
      "    0.00000000e+00]\n",
      "   [0.00000000e+00 0.00000000e+00 0.00000000e+00 0.00000000e+00\n",
      "    0.00000000e+00]\n",
      "   ...\n",
      "   [2.44820051e-22 3.88627606e-22 5.09246227e-22 6.16907871e-22\n",
      "    7.15858171e-22]\n",
      "   [2.63887466e-22 4.18895242e-22 5.48908050e-22 6.64954748e-22\n",
      "    7.71611633e-22]\n",
      "   [2.95956250e-22 4.69801263e-22 6.15613808e-22 7.45763018e-22\n",
      "    8.65381325e-22]]\n",
      "\n",
      "  [[0.00000000e+00 0.00000000e+00 0.00000000e+00 0.00000000e+00\n",
      "    0.00000000e+00]\n",
      "   [0.00000000e+00 0.00000000e+00 0.00000000e+00 0.00000000e+00\n",
      "    0.00000000e+00]\n",
      "   [0.00000000e+00 0.00000000e+00 0.00000000e+00 0.00000000e+00\n",
      "    0.00000000e+00]\n",
      "   ...\n",
      "   [2.45934773e-22 3.90397118e-22 5.11564944e-22 6.19716796e-22\n",
      "    7.19117640e-22]\n",
      "   [2.65089008e-22 4.20802569e-22 5.51407356e-22 6.67982441e-22\n",
      "    7.75124960e-22]\n",
      "   [2.97303808e-22 4.71940377e-22 6.18416841e-22 7.49158651e-22\n",
      "    8.69321607e-22]]]\n",
      "\n",
      "\n",
      " [[[0.00000000e+00 0.00000000e+00 0.00000000e+00 0.00000000e+00\n",
      "    0.00000000e+00]\n",
      "   [0.00000000e+00 0.00000000e+00 0.00000000e+00 0.00000000e+00\n",
      "    0.00000000e+00]\n",
      "   [0.00000000e+00 0.00000000e+00 0.00000000e+00 0.00000000e+00\n",
      "    0.00000000e+00]\n",
      "   ...\n",
      "   [1.57968883e-22 2.50759971e-22 3.28588518e-22 3.98056641e-22\n",
      "    4.61903815e-22]\n",
      "   [1.70272035e-22 2.70290008e-22 3.54180106e-22 4.29058642e-22\n",
      "    4.97878451e-22]\n",
      "   [1.90964253e-22 3.03136856e-22 3.97221654e-22 4.81199765e-22\n",
      "    5.58382864e-22]]\n",
      "\n",
      "  [[0.00000000e+00 0.00000000e+00 0.00000000e+00 0.00000000e+00\n",
      "    0.00000000e+00]\n",
      "   [0.00000000e+00 0.00000000e+00 0.00000000e+00 0.00000000e+00\n",
      "    0.00000000e+00]\n",
      "   [0.00000000e+00 0.00000000e+00 0.00000000e+00 0.00000000e+00\n",
      "    0.00000000e+00]\n",
      "   ...\n",
      "   [1.70594256e-22 2.70801502e-22 3.54850353e-22 4.29870589e-22\n",
      "    4.98820631e-22]\n",
      "   [1.83880715e-22 2.91892441e-22 3.82487302e-22 4.63350368e-22\n",
      "    5.37670474e-22]\n",
      "   [2.06226721e-22 3.27364514e-22 4.28968867e-22 5.19658774e-22\n",
      "    6.03010591e-22]]\n",
      "\n",
      "  [[0.00000000e+00 0.00000000e+00 0.00000000e+00 0.00000000e+00\n",
      "    0.00000000e+00]\n",
      "   [0.00000000e+00 0.00000000e+00 0.00000000e+00 0.00000000e+00\n",
      "    0.00000000e+00]\n",
      "   [0.00000000e+00 0.00000000e+00 0.00000000e+00 0.00000000e+00\n",
      "    0.00000000e+00]\n",
      "   ...\n",
      "   [1.83913809e-22 2.91944974e-22 3.82556139e-22 4.63433759e-22\n",
      "    5.37767240e-22]\n",
      "   [1.98237640e-22 3.14682638e-22 4.12350908e-22 4.99527551e-22\n",
      "    5.79650376e-22]\n",
      "   [2.22328363e-22 3.52924278e-22 4.62461632e-22 5.60232370e-22\n",
      "    6.50092079e-22]]\n",
      "\n",
      "  ...\n",
      "\n",
      "  [[0.00000000e+00 0.00000000e+00 0.00000000e+00 0.00000000e+00\n",
      "    0.00000000e+00]\n",
      "   [0.00000000e+00 0.00000000e+00 0.00000000e+00 0.00000000e+00\n",
      "    0.00000000e+00]\n",
      "   [0.00000000e+00 0.00000000e+00 0.00000000e+00 0.00000000e+00\n",
      "    0.00000000e+00]\n",
      "   ...\n",
      "   [4.52646106e-22 7.18530905e-22 9.41541842e-22 1.14059671e-21\n",
      "    1.32354524e-21]\n",
      "   [4.87899720e-22 7.74492528e-22 1.01487231e-21 1.22943025e-21\n",
      "    1.42662743e-21]\n",
      "   [5.47191473e-22 8.68612319e-22 1.13820413e-21 1.37883611e-21\n",
      "    1.59999757e-21]]\n",
      "\n",
      "  [[0.00000000e+00 0.00000000e+00 0.00000000e+00 0.00000000e+00\n",
      "    0.00000000e+00]\n",
      "   [0.00000000e+00 0.00000000e+00 0.00000000e+00 0.00000000e+00\n",
      "    0.00000000e+00]\n",
      "   [0.00000000e+00 0.00000000e+00 0.00000000e+00 0.00000000e+00\n",
      "    0.00000000e+00]\n",
      "   ...\n",
      "   [4.56793185e-22 7.25113982e-22 9.50168114e-22 1.15104670e-21\n",
      "    1.33567137e-21]\n",
      "   [4.92369787e-22 7.81588318e-22 1.02417043e-21 1.24069412e-21\n",
      "    1.43969799e-21]\n",
      "   [5.52204762e-22 8.76570421e-22 1.14863219e-21 1.39146881e-21\n",
      "    1.61465652e-21]]\n",
      "\n",
      "  [[0.00000000e+00 0.00000000e+00 0.00000000e+00 0.00000000e+00\n",
      "    0.00000000e+00]\n",
      "   [0.00000000e+00 0.00000000e+00 0.00000000e+00 0.00000000e+00\n",
      "    0.00000000e+00]\n",
      "   [0.00000000e+00 0.00000000e+00 0.00000000e+00 0.00000000e+00\n",
      "    0.00000000e+00]\n",
      "   ...\n",
      "   [4.58873070e-22 7.28415594e-22 9.54494450e-22 1.15628768e-21\n",
      "    1.34175300e-21]\n",
      "   [4.94611661e-22 7.85147071e-22 1.02883371e-21 1.24634329e-21\n",
      "    1.44625327e-21]\n",
      "   [5.54719079e-22 8.80561650e-22 1.15386218e-21 1.39780449e-21\n",
      "    1.62200843e-21]]]\n",
      "\n",
      "\n",
      " [[[0.00000000e+00 0.00000000e+00 0.00000000e+00 0.00000000e+00\n",
      "    0.00000000e+00]\n",
      "   [0.00000000e+00 0.00000000e+00 0.00000000e+00 0.00000000e+00\n",
      "    0.00000000e+00]\n",
      "   [0.00000000e+00 0.00000000e+00 0.00000000e+00 0.00000000e+00\n",
      "    0.00000000e+00]\n",
      "   ...\n",
      "   [2.94743461e-22 4.67876080e-22 6.13091105e-22 7.42706981e-22\n",
      "    8.61835108e-22]\n",
      "   [3.17699081e-22 5.04315855e-22 6.60840719e-22 8.00551520e-22\n",
      "    9.28957748e-22]\n",
      "   [3.56307292e-22 5.65602571e-22 7.41149035e-22 8.97838116e-22\n",
      "    1.04184884e-21]]\n",
      "\n",
      "  [[0.00000000e+00 0.00000000e+00 0.00000000e+00 0.00000000e+00\n",
      "    0.00000000e+00]\n",
      "   [0.00000000e+00 0.00000000e+00 0.00000000e+00 0.00000000e+00\n",
      "    0.00000000e+00]\n",
      "   [0.00000000e+00 0.00000000e+00 0.00000000e+00 0.00000000e+00\n",
      "    0.00000000e+00]\n",
      "   ...\n",
      "   [3.18300292e-22 5.05270218e-22 6.62091288e-22 8.02066476e-22\n",
      "    9.30715699e-22]\n",
      "   [3.43090598e-22 5.44622376e-22 7.13657203e-22 8.64534133e-22\n",
      "    1.00320299e-21]\n",
      "   [3.84784500e-22 6.10807320e-22 8.00384013e-22 9.69596182e-22\n",
      "    1.12511670e-21]]\n",
      "\n",
      "  [[0.00000000e+00 0.00000000e+00 0.00000000e+00 0.00000000e+00\n",
      "    0.00000000e+00]\n",
      "   [0.00000000e+00 0.00000000e+00 0.00000000e+00 0.00000000e+00\n",
      "    0.00000000e+00]\n",
      "   [0.00000000e+00 0.00000000e+00 0.00000000e+00 0.00000000e+00\n",
      "    0.00000000e+00]\n",
      "   ...\n",
      "   [3.43152345e-22 5.44720393e-22 7.13785642e-22 8.64689725e-22\n",
      "    1.00338354e-21]\n",
      "   [3.69878213e-22 5.87145065e-22 7.69377688e-22 9.32034694e-22\n",
      "    1.08153046e-21]\n",
      "   [4.14827466e-22 6.58497555e-22 8.62875901e-22 1.04529971e-21\n",
      "    1.21296287e-21]]\n",
      "\n",
      "  ...\n",
      "\n",
      "  [[0.00000000e+00 0.00000000e+00 0.00000000e+00 0.00000000e+00\n",
      "    0.00000000e+00]\n",
      "   [0.00000000e+00 0.00000000e+00 0.00000000e+00 0.00000000e+00\n",
      "    0.00000000e+00]\n",
      "   [0.00000000e+00 0.00000000e+00 0.00000000e+00 0.00000000e+00\n",
      "    0.00000000e+00]\n",
      "   ...\n",
      "   [8.44561773e-22 1.34065825e-21 1.75675928e-21 2.12816231e-21\n",
      "    2.46951361e-21]\n",
      "   [9.10339109e-22 1.44507326e-21 1.89358165e-21 2.29391081e-21\n",
      "    2.66184770e-21]\n",
      "   [1.02096758e-21 1.62068501e-21 2.12369815e-21 2.57267710e-21\n",
      "    2.98532732e-21]]\n",
      "\n",
      "  [[0.00000000e+00 0.00000000e+00 0.00000000e+00 0.00000000e+00\n",
      "    0.00000000e+00]\n",
      "   [0.00000000e+00 0.00000000e+00 0.00000000e+00 0.00000000e+00\n",
      "    0.00000000e+00]\n",
      "   [0.00000000e+00 0.00000000e+00 0.00000000e+00 0.00000000e+00\n",
      "    0.00000000e+00]\n",
      "   ...\n",
      "   [8.52299527e-22 1.35294117e-21 1.77285446e-21 2.14766023e-21\n",
      "    2.49213894e-21]\n",
      "   [9.18679505e-22 1.45831281e-21 1.91093038e-21 2.31492729e-21\n",
      "    2.68623517e-21]\n",
      "   [1.03032154e-21 1.63553350e-21 2.14315517e-21 2.59624760e-21\n",
      "    3.01267846e-21]]\n",
      "\n",
      "  [[0.00000000e+00 0.00000000e+00 0.00000000e+00 0.00000000e+00\n",
      "    0.00000000e+00]\n",
      "   [0.00000000e+00 0.00000000e+00 0.00000000e+00 0.00000000e+00\n",
      "    0.00000000e+00]\n",
      "   [0.00000000e+00 0.00000000e+00 0.00000000e+00 0.00000000e+00\n",
      "    0.00000000e+00]\n",
      "   ...\n",
      "   [8.56180245e-22 1.35910142e-21 1.78092668e-21 2.15743903e-21\n",
      "    2.50348622e-21]\n",
      "   [9.22862467e-22 1.46495285e-21 1.91963129e-21 2.32546770e-21\n",
      "    2.69846622e-21]\n",
      "   [1.03501284e-21 1.64298046e-21 2.15291345e-21 2.60806892e-21\n",
      "    3.02639589e-21]]]\n",
      "\n",
      "\n",
      " ...\n",
      "\n",
      "\n",
      " [[[0.00000000e+00 0.00000000e+00 0.00000000e+00 0.00000000e+00\n",
      "    0.00000000e+00]\n",
      "   [0.00000000e+00 0.00000000e+00 0.00000000e+00 0.00000000e+00\n",
      "    0.00000000e+00]\n",
      "   [0.00000000e+00 0.00000000e+00 0.00000000e+00 0.00000000e+00\n",
      "    0.00000000e+00]\n",
      "   ...\n",
      "   [0.00000000e+00 0.00000000e+00 0.00000000e+00 0.00000000e+00\n",
      "    0.00000000e+00]\n",
      "   [0.00000000e+00 0.00000000e+00 0.00000000e+00 0.00000000e+00\n",
      "    0.00000000e+00]\n",
      "   [0.00000000e+00 0.00000000e+00 0.00000000e+00 0.00000000e+00\n",
      "    0.00000000e+00]]\n",
      "\n",
      "  [[0.00000000e+00 0.00000000e+00 0.00000000e+00 0.00000000e+00\n",
      "    0.00000000e+00]\n",
      "   [0.00000000e+00 0.00000000e+00 0.00000000e+00 0.00000000e+00\n",
      "    0.00000000e+00]\n",
      "   [0.00000000e+00 0.00000000e+00 0.00000000e+00 0.00000000e+00\n",
      "    0.00000000e+00]\n",
      "   ...\n",
      "   [0.00000000e+00 0.00000000e+00 0.00000000e+00 0.00000000e+00\n",
      "    0.00000000e+00]\n",
      "   [0.00000000e+00 0.00000000e+00 0.00000000e+00 0.00000000e+00\n",
      "    0.00000000e+00]\n",
      "   [0.00000000e+00 0.00000000e+00 0.00000000e+00 0.00000000e+00\n",
      "    0.00000000e+00]]\n",
      "\n",
      "  [[0.00000000e+00 0.00000000e+00 0.00000000e+00 0.00000000e+00\n",
      "    0.00000000e+00]\n",
      "   [0.00000000e+00 0.00000000e+00 0.00000000e+00 0.00000000e+00\n",
      "    0.00000000e+00]\n",
      "   [0.00000000e+00 0.00000000e+00 0.00000000e+00 0.00000000e+00\n",
      "    0.00000000e+00]\n",
      "   ...\n",
      "   [0.00000000e+00 0.00000000e+00 0.00000000e+00 0.00000000e+00\n",
      "    0.00000000e+00]\n",
      "   [0.00000000e+00 0.00000000e+00 0.00000000e+00 0.00000000e+00\n",
      "    0.00000000e+00]\n",
      "   [0.00000000e+00 0.00000000e+00 0.00000000e+00 0.00000000e+00\n",
      "    0.00000000e+00]]\n",
      "\n",
      "  ...\n",
      "\n",
      "  [[0.00000000e+00 0.00000000e+00 0.00000000e+00 0.00000000e+00\n",
      "    0.00000000e+00]\n",
      "   [0.00000000e+00 0.00000000e+00 0.00000000e+00 0.00000000e+00\n",
      "    0.00000000e+00]\n",
      "   [0.00000000e+00 0.00000000e+00 0.00000000e+00 0.00000000e+00\n",
      "    0.00000000e+00]\n",
      "   ...\n",
      "   [0.00000000e+00 0.00000000e+00 0.00000000e+00 0.00000000e+00\n",
      "    0.00000000e+00]\n",
      "   [0.00000000e+00 0.00000000e+00 0.00000000e+00 0.00000000e+00\n",
      "    0.00000000e+00]\n",
      "   [0.00000000e+00 0.00000000e+00 0.00000000e+00 0.00000000e+00\n",
      "    0.00000000e+00]]\n",
      "\n",
      "  [[0.00000000e+00 0.00000000e+00 0.00000000e+00 0.00000000e+00\n",
      "    0.00000000e+00]\n",
      "   [0.00000000e+00 0.00000000e+00 0.00000000e+00 0.00000000e+00\n",
      "    0.00000000e+00]\n",
      "   [0.00000000e+00 0.00000000e+00 0.00000000e+00 0.00000000e+00\n",
      "    0.00000000e+00]\n",
      "   ...\n",
      "   [0.00000000e+00 0.00000000e+00 0.00000000e+00 0.00000000e+00\n",
      "    0.00000000e+00]\n",
      "   [0.00000000e+00 0.00000000e+00 0.00000000e+00 0.00000000e+00\n",
      "    0.00000000e+00]\n",
      "   [0.00000000e+00 0.00000000e+00 0.00000000e+00 0.00000000e+00\n",
      "    0.00000000e+00]]\n",
      "\n",
      "  [[0.00000000e+00 0.00000000e+00 0.00000000e+00 0.00000000e+00\n",
      "    0.00000000e+00]\n",
      "   [0.00000000e+00 0.00000000e+00 0.00000000e+00 0.00000000e+00\n",
      "    0.00000000e+00]\n",
      "   [0.00000000e+00 0.00000000e+00 0.00000000e+00 0.00000000e+00\n",
      "    0.00000000e+00]\n",
      "   ...\n",
      "   [0.00000000e+00 0.00000000e+00 0.00000000e+00 0.00000000e+00\n",
      "    0.00000000e+00]\n",
      "   [0.00000000e+00 0.00000000e+00 0.00000000e+00 0.00000000e+00\n",
      "    0.00000000e+00]\n",
      "   [0.00000000e+00 0.00000000e+00 0.00000000e+00 0.00000000e+00\n",
      "    0.00000000e+00]]]\n",
      "\n",
      "\n",
      " [[[0.00000000e+00 0.00000000e+00 0.00000000e+00 0.00000000e+00\n",
      "    0.00000000e+00]\n",
      "   [0.00000000e+00 0.00000000e+00 0.00000000e+00 0.00000000e+00\n",
      "    0.00000000e+00]\n",
      "   [0.00000000e+00 0.00000000e+00 0.00000000e+00 0.00000000e+00\n",
      "    0.00000000e+00]\n",
      "   ...\n",
      "   [0.00000000e+00 0.00000000e+00 0.00000000e+00 0.00000000e+00\n",
      "    0.00000000e+00]\n",
      "   [0.00000000e+00 0.00000000e+00 0.00000000e+00 0.00000000e+00\n",
      "    0.00000000e+00]\n",
      "   [0.00000000e+00 0.00000000e+00 0.00000000e+00 0.00000000e+00\n",
      "    0.00000000e+00]]\n",
      "\n",
      "  [[0.00000000e+00 0.00000000e+00 0.00000000e+00 0.00000000e+00\n",
      "    0.00000000e+00]\n",
      "   [0.00000000e+00 0.00000000e+00 0.00000000e+00 0.00000000e+00\n",
      "    0.00000000e+00]\n",
      "   [0.00000000e+00 0.00000000e+00 0.00000000e+00 0.00000000e+00\n",
      "    0.00000000e+00]\n",
      "   ...\n",
      "   [0.00000000e+00 0.00000000e+00 0.00000000e+00 0.00000000e+00\n",
      "    0.00000000e+00]\n",
      "   [0.00000000e+00 0.00000000e+00 0.00000000e+00 0.00000000e+00\n",
      "    0.00000000e+00]\n",
      "   [0.00000000e+00 0.00000000e+00 0.00000000e+00 0.00000000e+00\n",
      "    0.00000000e+00]]\n",
      "\n",
      "  [[0.00000000e+00 0.00000000e+00 0.00000000e+00 0.00000000e+00\n",
      "    0.00000000e+00]\n",
      "   [0.00000000e+00 0.00000000e+00 0.00000000e+00 0.00000000e+00\n",
      "    0.00000000e+00]\n",
      "   [0.00000000e+00 0.00000000e+00 0.00000000e+00 0.00000000e+00\n",
      "    0.00000000e+00]\n",
      "   ...\n",
      "   [0.00000000e+00 0.00000000e+00 0.00000000e+00 0.00000000e+00\n",
      "    0.00000000e+00]\n",
      "   [0.00000000e+00 0.00000000e+00 0.00000000e+00 0.00000000e+00\n",
      "    0.00000000e+00]\n",
      "   [0.00000000e+00 0.00000000e+00 0.00000000e+00 0.00000000e+00\n",
      "    0.00000000e+00]]\n",
      "\n",
      "  ...\n",
      "\n",
      "  [[0.00000000e+00 0.00000000e+00 0.00000000e+00 0.00000000e+00\n",
      "    0.00000000e+00]\n",
      "   [0.00000000e+00 0.00000000e+00 0.00000000e+00 0.00000000e+00\n",
      "    0.00000000e+00]\n",
      "   [0.00000000e+00 0.00000000e+00 0.00000000e+00 0.00000000e+00\n",
      "    0.00000000e+00]\n",
      "   ...\n",
      "   [0.00000000e+00 0.00000000e+00 0.00000000e+00 0.00000000e+00\n",
      "    0.00000000e+00]\n",
      "   [0.00000000e+00 0.00000000e+00 0.00000000e+00 0.00000000e+00\n",
      "    0.00000000e+00]\n",
      "   [0.00000000e+00 0.00000000e+00 0.00000000e+00 0.00000000e+00\n",
      "    0.00000000e+00]]\n",
      "\n",
      "  [[0.00000000e+00 0.00000000e+00 0.00000000e+00 0.00000000e+00\n",
      "    0.00000000e+00]\n",
      "   [0.00000000e+00 0.00000000e+00 0.00000000e+00 0.00000000e+00\n",
      "    0.00000000e+00]\n",
      "   [0.00000000e+00 0.00000000e+00 0.00000000e+00 0.00000000e+00\n",
      "    0.00000000e+00]\n",
      "   ...\n",
      "   [0.00000000e+00 0.00000000e+00 0.00000000e+00 0.00000000e+00\n",
      "    0.00000000e+00]\n",
      "   [0.00000000e+00 0.00000000e+00 0.00000000e+00 0.00000000e+00\n",
      "    0.00000000e+00]\n",
      "   [0.00000000e+00 0.00000000e+00 0.00000000e+00 0.00000000e+00\n",
      "    0.00000000e+00]]\n",
      "\n",
      "  [[0.00000000e+00 0.00000000e+00 0.00000000e+00 0.00000000e+00\n",
      "    0.00000000e+00]\n",
      "   [0.00000000e+00 0.00000000e+00 0.00000000e+00 0.00000000e+00\n",
      "    0.00000000e+00]\n",
      "   [0.00000000e+00 0.00000000e+00 0.00000000e+00 0.00000000e+00\n",
      "    0.00000000e+00]\n",
      "   ...\n",
      "   [0.00000000e+00 0.00000000e+00 0.00000000e+00 0.00000000e+00\n",
      "    0.00000000e+00]\n",
      "   [0.00000000e+00 0.00000000e+00 0.00000000e+00 0.00000000e+00\n",
      "    0.00000000e+00]\n",
      "   [0.00000000e+00 0.00000000e+00 0.00000000e+00 0.00000000e+00\n",
      "    0.00000000e+00]]]\n",
      "\n",
      "\n",
      " [[[0.00000000e+00 0.00000000e+00 0.00000000e+00 0.00000000e+00\n",
      "    0.00000000e+00]\n",
      "   [0.00000000e+00 0.00000000e+00 0.00000000e+00 0.00000000e+00\n",
      "    0.00000000e+00]\n",
      "   [0.00000000e+00 0.00000000e+00 0.00000000e+00 0.00000000e+00\n",
      "    0.00000000e+00]\n",
      "   ...\n",
      "   [0.00000000e+00 0.00000000e+00 0.00000000e+00 0.00000000e+00\n",
      "    0.00000000e+00]\n",
      "   [0.00000000e+00 0.00000000e+00 0.00000000e+00 0.00000000e+00\n",
      "    0.00000000e+00]\n",
      "   [0.00000000e+00 0.00000000e+00 0.00000000e+00 0.00000000e+00\n",
      "    0.00000000e+00]]\n",
      "\n",
      "  [[0.00000000e+00 0.00000000e+00 0.00000000e+00 0.00000000e+00\n",
      "    0.00000000e+00]\n",
      "   [0.00000000e+00 0.00000000e+00 0.00000000e+00 0.00000000e+00\n",
      "    0.00000000e+00]\n",
      "   [0.00000000e+00 0.00000000e+00 0.00000000e+00 0.00000000e+00\n",
      "    0.00000000e+00]\n",
      "   ...\n",
      "   [0.00000000e+00 0.00000000e+00 0.00000000e+00 0.00000000e+00\n",
      "    0.00000000e+00]\n",
      "   [0.00000000e+00 0.00000000e+00 0.00000000e+00 0.00000000e+00\n",
      "    0.00000000e+00]\n",
      "   [0.00000000e+00 0.00000000e+00 0.00000000e+00 0.00000000e+00\n",
      "    0.00000000e+00]]\n",
      "\n",
      "  [[0.00000000e+00 0.00000000e+00 0.00000000e+00 0.00000000e+00\n",
      "    0.00000000e+00]\n",
      "   [0.00000000e+00 0.00000000e+00 0.00000000e+00 0.00000000e+00\n",
      "    0.00000000e+00]\n",
      "   [0.00000000e+00 0.00000000e+00 0.00000000e+00 0.00000000e+00\n",
      "    0.00000000e+00]\n",
      "   ...\n",
      "   [0.00000000e+00 0.00000000e+00 0.00000000e+00 0.00000000e+00\n",
      "    0.00000000e+00]\n",
      "   [0.00000000e+00 0.00000000e+00 0.00000000e+00 0.00000000e+00\n",
      "    0.00000000e+00]\n",
      "   [0.00000000e+00 0.00000000e+00 0.00000000e+00 0.00000000e+00\n",
      "    0.00000000e+00]]\n",
      "\n",
      "  ...\n",
      "\n",
      "  [[0.00000000e+00 0.00000000e+00 0.00000000e+00 0.00000000e+00\n",
      "    0.00000000e+00]\n",
      "   [0.00000000e+00 0.00000000e+00 0.00000000e+00 0.00000000e+00\n",
      "    0.00000000e+00]\n",
      "   [0.00000000e+00 0.00000000e+00 0.00000000e+00 0.00000000e+00\n",
      "    0.00000000e+00]\n",
      "   ...\n",
      "   [0.00000000e+00 0.00000000e+00 0.00000000e+00 0.00000000e+00\n",
      "    0.00000000e+00]\n",
      "   [0.00000000e+00 0.00000000e+00 0.00000000e+00 0.00000000e+00\n",
      "    0.00000000e+00]\n",
      "   [0.00000000e+00 0.00000000e+00 0.00000000e+00 0.00000000e+00\n",
      "    0.00000000e+00]]\n",
      "\n",
      "  [[0.00000000e+00 0.00000000e+00 0.00000000e+00 0.00000000e+00\n",
      "    0.00000000e+00]\n",
      "   [0.00000000e+00 0.00000000e+00 0.00000000e+00 0.00000000e+00\n",
      "    0.00000000e+00]\n",
      "   [0.00000000e+00 0.00000000e+00 0.00000000e+00 0.00000000e+00\n",
      "    0.00000000e+00]\n",
      "   ...\n",
      "   [0.00000000e+00 0.00000000e+00 0.00000000e+00 0.00000000e+00\n",
      "    0.00000000e+00]\n",
      "   [0.00000000e+00 0.00000000e+00 0.00000000e+00 0.00000000e+00\n",
      "    0.00000000e+00]\n",
      "   [0.00000000e+00 0.00000000e+00 0.00000000e+00 0.00000000e+00\n",
      "    0.00000000e+00]]\n",
      "\n",
      "  [[0.00000000e+00 0.00000000e+00 0.00000000e+00 0.00000000e+00\n",
      "    0.00000000e+00]\n",
      "   [0.00000000e+00 0.00000000e+00 0.00000000e+00 0.00000000e+00\n",
      "    0.00000000e+00]\n",
      "   [0.00000000e+00 0.00000000e+00 0.00000000e+00 0.00000000e+00\n",
      "    0.00000000e+00]\n",
      "   ...\n",
      "   [0.00000000e+00 0.00000000e+00 0.00000000e+00 0.00000000e+00\n",
      "    0.00000000e+00]\n",
      "   [0.00000000e+00 0.00000000e+00 0.00000000e+00 0.00000000e+00\n",
      "    0.00000000e+00]\n",
      "   [0.00000000e+00 0.00000000e+00 0.00000000e+00 0.00000000e+00\n",
      "    0.00000000e+00]]]]\n"
     ]
    }
   ],
   "source": [
    "hsamp=amp\n",
    "print(hsamp.shape)\n",
    "print(hsamp)"
   ]
  },
  {
   "cell_type": "code",
   "execution_count": 144,
   "metadata": {},
   "outputs": [],
   "source": [
    "shape = hsamp.shape\n",
    "newshape = (shape[0]*shape[1]*shape[2], shape[3])\n",
    "hsamp = hsamp.reshape(newshape) # change hsamp to shape (M*Q*Z, F)\n",
    "argmax = np.argmax(hsamp, axis=0) # max at each frequency\n",
    "hsamp = hsamp.reshape(shape) # restore hsamp shape to (M, Q, Z, F)\n",
    "ssidx3 = np.array(np.unravel_index(argmax, shape[:-1])) # unravel indices\n"
   ]
  },
  {
   "cell_type": "code",
   "execution_count": 145,
   "metadata": {},
   "outputs": [
    {
     "name": "stdout",
     "output_type": "stream",
     "text": [
      "[[20 17 16 14 13]\n",
      " [23 23 23 23 23]\n",
      " [17 16 18 17 17]]\n"
     ]
    }
   ],
   "source": [
    "print(ssidx3)"
   ]
  },
  {
   "cell_type": "code",
   "execution_count": 110,
   "metadata": {},
   "outputs": [
    {
     "name": "stdout",
     "output_type": "stream",
     "text": [
      "[[1 0 0 0 0]\n",
      " [0 9 0 0 0]\n",
      " [0 0 3 0 0]\n",
      " [0 0 0 4 5]\n",
      " [0 0 0 4 5]]\n"
     ]
    }
   ],
   "source": [
    "print(hsamp[tuple(ssidx)])"
   ]
  },
  {
   "attachments": {},
   "cell_type": "markdown",
   "metadata": {},
   "source": [
    "# Timing. What data to store?"
   ]
  },
  {
   "cell_type": "code",
   "execution_count": 3,
   "metadata": {},
   "outputs": [
    {
     "name": "stdout",
     "output_type": "stream",
     "text": [
      "Number of frequency bins: 24\n",
      "  between [0.10, 2.50] 1/yr\n",
      "          [3.17, 79.22] nHz\n",
      "using default mtot, mrat, and redz\n",
      "edges: [array([1.98840987e+37, 2.60119300e+37, 3.40282209e+37, 4.45149521e+37,\n",
      "       5.82334576e+37, 7.61796975e+37, 9.96565642e+37, 1.30368473e+38,\n",
      "       1.70545099e+38, 2.23103257e+38, 2.91858655e+38, 3.81802918e+38,\n",
      "       4.99465977e+38, 6.53390141e+38, 8.54750264e+38, 1.11816504e+39,\n",
      "       1.46275832e+39, 1.91354748e+39, 2.50325972e+39, 3.27470797e+39,\n",
      "       4.28389920e+39, 5.60410044e+39, 7.33115796e+39, 9.59045570e+39,\n",
      "       1.25460181e+40, 1.64124183e+40, 2.14703559e+40, 2.80870360e+40,\n",
      "       3.67428278e+40, 4.80661396e+40, 6.28790411e+40, 8.22569452e+40,\n",
      "       1.07606683e+41, 1.40768639e+41, 1.84150362e+41, 2.40901356e+41,\n",
      "       3.15141727e+41, 4.12261308e+41, 5.39310957e+41, 7.05514445e+41,\n",
      "       9.22938105e+41, 1.20736684e+42, 1.57945010e+42, 2.06620105e+42,\n",
      "       2.70295767e+42, 3.53594833e+42, 4.62564796e+42, 6.05116846e+42,\n",
      "       7.91600228e+42, 1.03555359e+43, 1.35468787e+43, 1.77217216e+43,\n",
      "       2.31831570e+43, 3.03276838e+43, 3.96739928e+43, 5.19006237e+43,\n",
      "       6.78952268e+43, 8.88190064e+43, 1.16191023e+44, 1.51998480e+44,\n",
      "       1.98840987e+44]), array([0.001     , 0.00109018, 0.0011885 , 0.00129569, 0.00141254,\n",
      "       0.00153993, 0.0016788 , 0.00183021, 0.00199526, 0.0021752 ,\n",
      "       0.00237137, 0.00258523, 0.00281838, 0.00307256, 0.00334965,\n",
      "       0.00365174, 0.00398107, 0.0043401 , 0.00473151, 0.00515822,\n",
      "       0.00562341, 0.00613056, 0.00668344, 0.00728618, 0.00794328,\n",
      "       0.00865964, 0.00944061, 0.01029201, 0.01122018, 0.01223207,\n",
      "       0.01333521, 0.01453784, 0.01584893, 0.01727826, 0.01883649,\n",
      "       0.02053525, 0.02238721, 0.02440619, 0.02660725, 0.02900681,\n",
      "       0.03162278, 0.03447466, 0.03758374, 0.04097321, 0.04466836,\n",
      "       0.04869675, 0.05308844, 0.0578762 , 0.06309573, 0.06878599,\n",
      "       0.07498942, 0.0817523 , 0.08912509, 0.0971628 , 0.10592537,\n",
      "       0.1154782 , 0.12589254, 0.1372461 , 0.14962357, 0.16311729,\n",
      "       0.17782794, 0.19386526, 0.2113489 , 0.2304093 , 0.25118864,\n",
      "       0.27384196, 0.29853826, 0.32546178, 0.35481339, 0.38681205,\n",
      "       0.4216965 , 0.45972699, 0.50118723, 0.54638655, 0.59566214,\n",
      "       0.64938163, 0.70794578, 0.77179152, 0.84139514, 0.91727594,\n",
      "       1.        ]), array([1.00000000e-03, 1.09647820e-03, 1.20226443e-03, 1.31825674e-03,\n",
      "       1.44543977e-03, 1.58489319e-03, 1.73780083e-03, 1.90546072e-03,\n",
      "       2.08929613e-03, 2.29086765e-03, 2.51188643e-03, 2.75422870e-03,\n",
      "       3.01995172e-03, 3.31131121e-03, 3.63078055e-03, 3.98107171e-03,\n",
      "       4.36515832e-03, 4.78630092e-03, 5.24807460e-03, 5.75439937e-03,\n",
      "       6.30957344e-03, 6.91830971e-03, 7.58577575e-03, 8.31763771e-03,\n",
      "       9.12010839e-03, 1.00000000e-02, 1.09647820e-02, 1.20226443e-02,\n",
      "       1.31825674e-02, 1.44543977e-02, 1.58489319e-02, 1.73780083e-02,\n",
      "       1.90546072e-02, 2.08929613e-02, 2.29086765e-02, 2.51188643e-02,\n",
      "       2.75422870e-02, 3.01995172e-02, 3.31131121e-02, 3.63078055e-02,\n",
      "       3.98107171e-02, 4.36515832e-02, 4.78630092e-02, 5.24807460e-02,\n",
      "       5.75439937e-02, 6.30957344e-02, 6.91830971e-02, 7.58577575e-02,\n",
      "       8.31763771e-02, 9.12010839e-02, 1.00000000e-01, 1.09647820e-01,\n",
      "       1.20226443e-01, 1.31825674e-01, 1.44543977e-01, 1.58489319e-01,\n",
      "       1.73780083e-01, 1.90546072e-01, 2.08929613e-01, 2.29086765e-01,\n",
      "       2.51188643e-01, 2.75422870e-01, 3.01995172e-01, 3.31131121e-01,\n",
      "       3.63078055e-01, 3.98107171e-01, 4.36515832e-01, 4.78630092e-01,\n",
      "       5.24807460e-01, 5.75439937e-01, 6.30957344e-01, 6.91830971e-01,\n",
      "       7.58577575e-01, 8.31763771e-01, 9.12010839e-01, 1.00000000e+00,\n",
      "       1.09647820e+00, 1.20226443e+00, 1.31825674e+00, 1.44543977e+00,\n",
      "       1.58489319e+00, 1.73780083e+00, 1.90546072e+00, 2.08929613e+00,\n",
      "       2.29086765e+00, 2.51188643e+00, 2.75422870e+00, 3.01995172e+00,\n",
      "       3.31131121e+00, 3.63078055e+00, 3.98107171e+00, 4.36515832e+00,\n",
      "       4.78630092e+00, 5.24807460e+00, 5.75439937e+00, 6.30957344e+00,\n",
      "       6.91830971e+00, 7.58577575e+00, 8.31763771e+00, 9.12010839e+00,\n",
      "       1.00000000e+01])]\n",
      "13:11:50 INFO : zero_coalesced=True, zero_stalled=False [sam.py:dynamic_binary_number]\n",
      "13:11:50 INFO : Stalled SAM bins based on GMT: 1.98e+05/4.99e+05 = 3.96e-01 [sam.py:static_binary_density]\n",
      "13:11:50 INFO : Adding MMbulge scatter (3.4000e-01) [sam.py:static_binary_density]\n",
      "13:11:50 INFO : \tdens bef: (1.28e-114, 5.22e-53, 2.59e-13, 2.12e-03, 1.66e-02, 2.92e-02, 4.47e-02) [sam.py:static_binary_density]\n",
      "13:11:57 INFO : Scatter added after 6.072118 sec [sam.py:static_binary_density]\n",
      "13:11:57 INFO : \tdens aft: (6.14e-17, 7.92e-09, 2.90e-06, 2.19e-03, 1.69e-02, 2.92e-02, 4.27e-02) [sam.py:static_binary_density]\n",
      "13:11:57 INFO : \tmass: 8.56e-02 ==> 8.54e-02 || change = -1.8507e-03 [sam.py:static_binary_density]\n",
      "13:11:57 INFO : zeroing out 1.98e+05/4.99e+05 = 3.96e-01 systems stalled from GMT [sam.py:static_binary_density]\n",
      "13:11:57 INFO : fraction of coalesced binaries: 4.33e+05/1.25e+07 = 3.47e-02 [sam.py:dynamic_binary_number]\n",
      "13:11:57 WARNING : WARNING: _stalled_ binaries are not being accounted for in `dynamic_binary_number`! [sam.py:dynamic_binary_number]\n",
      "Number of frequency bins: 24\n",
      "  between [0.10, 2.50] 1/yr\n",
      "          [3.17, 79.22] nHz\n",
      "using default mtot, mrat, and redz\n",
      "edges: [array([1.98840987e+37, 2.60119300e+37, 3.40282209e+37, 4.45149521e+37,\n",
      "       5.82334576e+37, 7.61796975e+37, 9.96565642e+37, 1.30368473e+38,\n",
      "       1.70545099e+38, 2.23103257e+38, 2.91858655e+38, 3.81802918e+38,\n",
      "       4.99465977e+38, 6.53390141e+38, 8.54750264e+38, 1.11816504e+39,\n",
      "       1.46275832e+39, 1.91354748e+39, 2.50325972e+39, 3.27470797e+39,\n",
      "       4.28389920e+39, 5.60410044e+39, 7.33115796e+39, 9.59045570e+39,\n",
      "       1.25460181e+40, 1.64124183e+40, 2.14703559e+40, 2.80870360e+40,\n",
      "       3.67428278e+40, 4.80661396e+40, 6.28790411e+40, 8.22569452e+40,\n",
      "       1.07606683e+41, 1.40768639e+41, 1.84150362e+41, 2.40901356e+41,\n",
      "       3.15141727e+41, 4.12261308e+41, 5.39310957e+41, 7.05514445e+41,\n",
      "       9.22938105e+41, 1.20736684e+42, 1.57945010e+42, 2.06620105e+42,\n",
      "       2.70295767e+42, 3.53594833e+42, 4.62564796e+42, 6.05116846e+42,\n",
      "       7.91600228e+42, 1.03555359e+43, 1.35468787e+43, 1.77217216e+43,\n",
      "       2.31831570e+43, 3.03276838e+43, 3.96739928e+43, 5.19006237e+43,\n",
      "       6.78952268e+43, 8.88190064e+43, 1.16191023e+44, 1.51998480e+44,\n",
      "       1.98840987e+44]), array([0.001     , 0.00109018, 0.0011885 , 0.00129569, 0.00141254,\n",
      "       0.00153993, 0.0016788 , 0.00183021, 0.00199526, 0.0021752 ,\n",
      "       0.00237137, 0.00258523, 0.00281838, 0.00307256, 0.00334965,\n",
      "       0.00365174, 0.00398107, 0.0043401 , 0.00473151, 0.00515822,\n",
      "       0.00562341, 0.00613056, 0.00668344, 0.00728618, 0.00794328,\n",
      "       0.00865964, 0.00944061, 0.01029201, 0.01122018, 0.01223207,\n",
      "       0.01333521, 0.01453784, 0.01584893, 0.01727826, 0.01883649,\n",
      "       0.02053525, 0.02238721, 0.02440619, 0.02660725, 0.02900681,\n",
      "       0.03162278, 0.03447466, 0.03758374, 0.04097321, 0.04466836,\n",
      "       0.04869675, 0.05308844, 0.0578762 , 0.06309573, 0.06878599,\n",
      "       0.07498942, 0.0817523 , 0.08912509, 0.0971628 , 0.10592537,\n",
      "       0.1154782 , 0.12589254, 0.1372461 , 0.14962357, 0.16311729,\n",
      "       0.17782794, 0.19386526, 0.2113489 , 0.2304093 , 0.25118864,\n",
      "       0.27384196, 0.29853826, 0.32546178, 0.35481339, 0.38681205,\n",
      "       0.4216965 , 0.45972699, 0.50118723, 0.54638655, 0.59566214,\n",
      "       0.64938163, 0.70794578, 0.77179152, 0.84139514, 0.91727594,\n",
      "       1.        ]), array([1.00000000e-03, 1.09647820e-03, 1.20226443e-03, 1.31825674e-03,\n",
      "       1.44543977e-03, 1.58489319e-03, 1.73780083e-03, 1.90546072e-03,\n",
      "       2.08929613e-03, 2.29086765e-03, 2.51188643e-03, 2.75422870e-03,\n",
      "       3.01995172e-03, 3.31131121e-03, 3.63078055e-03, 3.98107171e-03,\n",
      "       4.36515832e-03, 4.78630092e-03, 5.24807460e-03, 5.75439937e-03,\n",
      "       6.30957344e-03, 6.91830971e-03, 7.58577575e-03, 8.31763771e-03,\n",
      "       9.12010839e-03, 1.00000000e-02, 1.09647820e-02, 1.20226443e-02,\n",
      "       1.31825674e-02, 1.44543977e-02, 1.58489319e-02, 1.73780083e-02,\n",
      "       1.90546072e-02, 2.08929613e-02, 2.29086765e-02, 2.51188643e-02,\n",
      "       2.75422870e-02, 3.01995172e-02, 3.31131121e-02, 3.63078055e-02,\n",
      "       3.98107171e-02, 4.36515832e-02, 4.78630092e-02, 5.24807460e-02,\n",
      "       5.75439937e-02, 6.30957344e-02, 6.91830971e-02, 7.58577575e-02,\n",
      "       8.31763771e-02, 9.12010839e-02, 1.00000000e-01, 1.09647820e-01,\n",
      "       1.20226443e-01, 1.31825674e-01, 1.44543977e-01, 1.58489319e-01,\n",
      "       1.73780083e-01, 1.90546072e-01, 2.08929613e-01, 2.29086765e-01,\n",
      "       2.51188643e-01, 2.75422870e-01, 3.01995172e-01, 3.31131121e-01,\n",
      "       3.63078055e-01, 3.98107171e-01, 4.36515832e-01, 4.78630092e-01,\n",
      "       5.24807460e-01, 5.75439937e-01, 6.30957344e-01, 6.91830971e-01,\n",
      "       7.58577575e-01, 8.31763771e-01, 9.12010839e-01, 1.00000000e+00,\n",
      "       1.09647820e+00, 1.20226443e+00, 1.31825674e+00, 1.44543977e+00,\n",
      "       1.58489319e+00, 1.73780083e+00, 1.90546072e+00, 2.08929613e+00,\n",
      "       2.29086765e+00, 2.51188643e+00, 2.75422870e+00, 3.01995172e+00,\n",
      "       3.31131121e+00, 3.63078055e+00, 3.98107171e+00, 4.36515832e+00,\n",
      "       4.78630092e+00, 5.24807460e+00, 5.75439937e+00, 6.30957344e+00,\n",
      "       6.91830971e+00, 7.58577575e+00, 8.31763771e+00, 9.12010839e+00,\n",
      "       1.00000000e+01])]\n",
      "13:11:57 INFO : zero_coalesced=True, zero_stalled=False [sam.py:dynamic_binary_number]\n",
      "13:11:57 INFO : Stalled SAM bins based on GMT: 1.98e+05/4.99e+05 = 3.96e-01 [sam.py:static_binary_density]\n",
      "13:11:58 INFO : Adding MMbulge scatter (3.4000e-01) [sam.py:static_binary_density]\n",
      "13:11:58 INFO : \tdens bef: (1.28e-114, 5.22e-53, 2.59e-13, 2.12e-03, 1.66e-02, 2.92e-02, 4.47e-02) [sam.py:static_binary_density]\n",
      "13:12:04 INFO : Scatter added after 5.888215 sec [sam.py:static_binary_density]\n",
      "13:12:04 INFO : \tdens aft: (6.14e-17, 7.92e-09, 2.90e-06, 2.19e-03, 1.69e-02, 2.92e-02, 4.27e-02) [sam.py:static_binary_density]\n",
      "13:12:04 INFO : \tmass: 8.56e-02 ==> 8.54e-02 || change = -1.8507e-03 [sam.py:static_binary_density]\n",
      "13:12:04 INFO : zeroing out 1.98e+05/4.99e+05 = 3.96e-01 systems stalled from GMT [sam.py:static_binary_density]\n",
      "13:12:04 INFO : fraction of coalesced binaries: 4.33e+05/1.25e+07 = 3.47e-02 [sam.py:dynamic_binary_number]\n",
      "13:12:04 WARNING : WARNING: _stalled_ binaries are not being accounted for in `dynamic_binary_number`! [sam.py:dynamic_binary_number]\n",
      "Number of frequency bins: 24\n",
      "  between [0.10, 2.50] 1/yr\n",
      "          [3.17, 79.22] nHz\n",
      "using default mtot, mrat, and redz\n",
      "edges: [array([1.98840987e+37, 2.60119300e+37, 3.40282209e+37, 4.45149521e+37,\n",
      "       5.82334576e+37, 7.61796975e+37, 9.96565642e+37, 1.30368473e+38,\n",
      "       1.70545099e+38, 2.23103257e+38, 2.91858655e+38, 3.81802918e+38,\n",
      "       4.99465977e+38, 6.53390141e+38, 8.54750264e+38, 1.11816504e+39,\n",
      "       1.46275832e+39, 1.91354748e+39, 2.50325972e+39, 3.27470797e+39,\n",
      "       4.28389920e+39, 5.60410044e+39, 7.33115796e+39, 9.59045570e+39,\n",
      "       1.25460181e+40, 1.64124183e+40, 2.14703559e+40, 2.80870360e+40,\n",
      "       3.67428278e+40, 4.80661396e+40, 6.28790411e+40, 8.22569452e+40,\n",
      "       1.07606683e+41, 1.40768639e+41, 1.84150362e+41, 2.40901356e+41,\n",
      "       3.15141727e+41, 4.12261308e+41, 5.39310957e+41, 7.05514445e+41,\n",
      "       9.22938105e+41, 1.20736684e+42, 1.57945010e+42, 2.06620105e+42,\n",
      "       2.70295767e+42, 3.53594833e+42, 4.62564796e+42, 6.05116846e+42,\n",
      "       7.91600228e+42, 1.03555359e+43, 1.35468787e+43, 1.77217216e+43,\n",
      "       2.31831570e+43, 3.03276838e+43, 3.96739928e+43, 5.19006237e+43,\n",
      "       6.78952268e+43, 8.88190064e+43, 1.16191023e+44, 1.51998480e+44,\n",
      "       1.98840987e+44]), array([0.001     , 0.00109018, 0.0011885 , 0.00129569, 0.00141254,\n",
      "       0.00153993, 0.0016788 , 0.00183021, 0.00199526, 0.0021752 ,\n",
      "       0.00237137, 0.00258523, 0.00281838, 0.00307256, 0.00334965,\n",
      "       0.00365174, 0.00398107, 0.0043401 , 0.00473151, 0.00515822,\n",
      "       0.00562341, 0.00613056, 0.00668344, 0.00728618, 0.00794328,\n",
      "       0.00865964, 0.00944061, 0.01029201, 0.01122018, 0.01223207,\n",
      "       0.01333521, 0.01453784, 0.01584893, 0.01727826, 0.01883649,\n",
      "       0.02053525, 0.02238721, 0.02440619, 0.02660725, 0.02900681,\n",
      "       0.03162278, 0.03447466, 0.03758374, 0.04097321, 0.04466836,\n",
      "       0.04869675, 0.05308844, 0.0578762 , 0.06309573, 0.06878599,\n",
      "       0.07498942, 0.0817523 , 0.08912509, 0.0971628 , 0.10592537,\n",
      "       0.1154782 , 0.12589254, 0.1372461 , 0.14962357, 0.16311729,\n",
      "       0.17782794, 0.19386526, 0.2113489 , 0.2304093 , 0.25118864,\n",
      "       0.27384196, 0.29853826, 0.32546178, 0.35481339, 0.38681205,\n",
      "       0.4216965 , 0.45972699, 0.50118723, 0.54638655, 0.59566214,\n",
      "       0.64938163, 0.70794578, 0.77179152, 0.84139514, 0.91727594,\n",
      "       1.        ]), array([1.00000000e-03, 1.09647820e-03, 1.20226443e-03, 1.31825674e-03,\n",
      "       1.44543977e-03, 1.58489319e-03, 1.73780083e-03, 1.90546072e-03,\n",
      "       2.08929613e-03, 2.29086765e-03, 2.51188643e-03, 2.75422870e-03,\n",
      "       3.01995172e-03, 3.31131121e-03, 3.63078055e-03, 3.98107171e-03,\n",
      "       4.36515832e-03, 4.78630092e-03, 5.24807460e-03, 5.75439937e-03,\n",
      "       6.30957344e-03, 6.91830971e-03, 7.58577575e-03, 8.31763771e-03,\n",
      "       9.12010839e-03, 1.00000000e-02, 1.09647820e-02, 1.20226443e-02,\n",
      "       1.31825674e-02, 1.44543977e-02, 1.58489319e-02, 1.73780083e-02,\n",
      "       1.90546072e-02, 2.08929613e-02, 2.29086765e-02, 2.51188643e-02,\n",
      "       2.75422870e-02, 3.01995172e-02, 3.31131121e-02, 3.63078055e-02,\n",
      "       3.98107171e-02, 4.36515832e-02, 4.78630092e-02, 5.24807460e-02,\n",
      "       5.75439937e-02, 6.30957344e-02, 6.91830971e-02, 7.58577575e-02,\n",
      "       8.31763771e-02, 9.12010839e-02, 1.00000000e-01, 1.09647820e-01,\n",
      "       1.20226443e-01, 1.31825674e-01, 1.44543977e-01, 1.58489319e-01,\n",
      "       1.73780083e-01, 1.90546072e-01, 2.08929613e-01, 2.29086765e-01,\n",
      "       2.51188643e-01, 2.75422870e-01, 3.01995172e-01, 3.31131121e-01,\n",
      "       3.63078055e-01, 3.98107171e-01, 4.36515832e-01, 4.78630092e-01,\n",
      "       5.24807460e-01, 5.75439937e-01, 6.30957344e-01, 6.91830971e-01,\n",
      "       7.58577575e-01, 8.31763771e-01, 9.12010839e-01, 1.00000000e+00,\n",
      "       1.09647820e+00, 1.20226443e+00, 1.31825674e+00, 1.44543977e+00,\n",
      "       1.58489319e+00, 1.73780083e+00, 1.90546072e+00, 2.08929613e+00,\n",
      "       2.29086765e+00, 2.51188643e+00, 2.75422870e+00, 3.01995172e+00,\n",
      "       3.31131121e+00, 3.63078055e+00, 3.98107171e+00, 4.36515832e+00,\n",
      "       4.78630092e+00, 5.24807460e+00, 5.75439937e+00, 6.30957344e+00,\n",
      "       6.91830971e+00, 7.58577575e+00, 8.31763771e+00, 9.12010839e+00,\n",
      "       1.00000000e+01])]\n",
      "13:12:04 INFO : zero_coalesced=True, zero_stalled=False [sam.py:dynamic_binary_number]\n",
      "13:12:04 INFO : Stalled SAM bins based on GMT: 1.98e+05/4.99e+05 = 3.96e-01 [sam.py:static_binary_density]\n",
      "13:12:04 INFO : Adding MMbulge scatter (3.4000e-01) [sam.py:static_binary_density]\n",
      "13:12:04 INFO : \tdens bef: (1.28e-114, 5.22e-53, 2.59e-13, 2.12e-03, 1.66e-02, 2.92e-02, 4.47e-02) [sam.py:static_binary_density]\n",
      "13:12:10 INFO : Scatter added after 5.794143 sec [sam.py:static_binary_density]\n",
      "13:12:10 INFO : \tdens aft: (6.14e-17, 7.92e-09, 2.90e-06, 2.19e-03, 1.69e-02, 2.92e-02, 4.27e-02) [sam.py:static_binary_density]\n",
      "13:12:10 INFO : \tmass: 8.56e-02 ==> 8.54e-02 || change = -1.8507e-03 [sam.py:static_binary_density]\n",
      "13:12:10 INFO : zeroing out 1.98e+05/4.99e+05 = 3.96e-01 systems stalled from GMT [sam.py:static_binary_density]\n",
      "13:12:11 INFO : fraction of coalesced binaries: 4.33e+05/1.25e+07 = 3.47e-02 [sam.py:dynamic_binary_number]\n",
      "13:12:11 WARNING : WARNING: _stalled_ binaries are not being accounted for in `dynamic_binary_number`! [sam.py:dynamic_binary_number]\n",
      "Number of frequency bins: 24\n",
      "  between [0.10, 2.50] 1/yr\n",
      "          [3.17, 79.22] nHz\n",
      "using default mtot, mrat, and redz\n",
      "edges: [array([1.98840987e+37, 2.60119300e+37, 3.40282209e+37, 4.45149521e+37,\n",
      "       5.82334576e+37, 7.61796975e+37, 9.96565642e+37, 1.30368473e+38,\n",
      "       1.70545099e+38, 2.23103257e+38, 2.91858655e+38, 3.81802918e+38,\n",
      "       4.99465977e+38, 6.53390141e+38, 8.54750264e+38, 1.11816504e+39,\n",
      "       1.46275832e+39, 1.91354748e+39, 2.50325972e+39, 3.27470797e+39,\n",
      "       4.28389920e+39, 5.60410044e+39, 7.33115796e+39, 9.59045570e+39,\n",
      "       1.25460181e+40, 1.64124183e+40, 2.14703559e+40, 2.80870360e+40,\n",
      "       3.67428278e+40, 4.80661396e+40, 6.28790411e+40, 8.22569452e+40,\n",
      "       1.07606683e+41, 1.40768639e+41, 1.84150362e+41, 2.40901356e+41,\n",
      "       3.15141727e+41, 4.12261308e+41, 5.39310957e+41, 7.05514445e+41,\n",
      "       9.22938105e+41, 1.20736684e+42, 1.57945010e+42, 2.06620105e+42,\n",
      "       2.70295767e+42, 3.53594833e+42, 4.62564796e+42, 6.05116846e+42,\n",
      "       7.91600228e+42, 1.03555359e+43, 1.35468787e+43, 1.77217216e+43,\n",
      "       2.31831570e+43, 3.03276838e+43, 3.96739928e+43, 5.19006237e+43,\n",
      "       6.78952268e+43, 8.88190064e+43, 1.16191023e+44, 1.51998480e+44,\n",
      "       1.98840987e+44]), array([0.001     , 0.00109018, 0.0011885 , 0.00129569, 0.00141254,\n",
      "       0.00153993, 0.0016788 , 0.00183021, 0.00199526, 0.0021752 ,\n",
      "       0.00237137, 0.00258523, 0.00281838, 0.00307256, 0.00334965,\n",
      "       0.00365174, 0.00398107, 0.0043401 , 0.00473151, 0.00515822,\n",
      "       0.00562341, 0.00613056, 0.00668344, 0.00728618, 0.00794328,\n",
      "       0.00865964, 0.00944061, 0.01029201, 0.01122018, 0.01223207,\n",
      "       0.01333521, 0.01453784, 0.01584893, 0.01727826, 0.01883649,\n",
      "       0.02053525, 0.02238721, 0.02440619, 0.02660725, 0.02900681,\n",
      "       0.03162278, 0.03447466, 0.03758374, 0.04097321, 0.04466836,\n",
      "       0.04869675, 0.05308844, 0.0578762 , 0.06309573, 0.06878599,\n",
      "       0.07498942, 0.0817523 , 0.08912509, 0.0971628 , 0.10592537,\n",
      "       0.1154782 , 0.12589254, 0.1372461 , 0.14962357, 0.16311729,\n",
      "       0.17782794, 0.19386526, 0.2113489 , 0.2304093 , 0.25118864,\n",
      "       0.27384196, 0.29853826, 0.32546178, 0.35481339, 0.38681205,\n",
      "       0.4216965 , 0.45972699, 0.50118723, 0.54638655, 0.59566214,\n",
      "       0.64938163, 0.70794578, 0.77179152, 0.84139514, 0.91727594,\n",
      "       1.        ]), array([1.00000000e-03, 1.09647820e-03, 1.20226443e-03, 1.31825674e-03,\n",
      "       1.44543977e-03, 1.58489319e-03, 1.73780083e-03, 1.90546072e-03,\n",
      "       2.08929613e-03, 2.29086765e-03, 2.51188643e-03, 2.75422870e-03,\n",
      "       3.01995172e-03, 3.31131121e-03, 3.63078055e-03, 3.98107171e-03,\n",
      "       4.36515832e-03, 4.78630092e-03, 5.24807460e-03, 5.75439937e-03,\n",
      "       6.30957344e-03, 6.91830971e-03, 7.58577575e-03, 8.31763771e-03,\n",
      "       9.12010839e-03, 1.00000000e-02, 1.09647820e-02, 1.20226443e-02,\n",
      "       1.31825674e-02, 1.44543977e-02, 1.58489319e-02, 1.73780083e-02,\n",
      "       1.90546072e-02, 2.08929613e-02, 2.29086765e-02, 2.51188643e-02,\n",
      "       2.75422870e-02, 3.01995172e-02, 3.31131121e-02, 3.63078055e-02,\n",
      "       3.98107171e-02, 4.36515832e-02, 4.78630092e-02, 5.24807460e-02,\n",
      "       5.75439937e-02, 6.30957344e-02, 6.91830971e-02, 7.58577575e-02,\n",
      "       8.31763771e-02, 9.12010839e-02, 1.00000000e-01, 1.09647820e-01,\n",
      "       1.20226443e-01, 1.31825674e-01, 1.44543977e-01, 1.58489319e-01,\n",
      "       1.73780083e-01, 1.90546072e-01, 2.08929613e-01, 2.29086765e-01,\n",
      "       2.51188643e-01, 2.75422870e-01, 3.01995172e-01, 3.31131121e-01,\n",
      "       3.63078055e-01, 3.98107171e-01, 4.36515832e-01, 4.78630092e-01,\n",
      "       5.24807460e-01, 5.75439937e-01, 6.30957344e-01, 6.91830971e-01,\n",
      "       7.58577575e-01, 8.31763771e-01, 9.12010839e-01, 1.00000000e+00,\n",
      "       1.09647820e+00, 1.20226443e+00, 1.31825674e+00, 1.44543977e+00,\n",
      "       1.58489319e+00, 1.73780083e+00, 1.90546072e+00, 2.08929613e+00,\n",
      "       2.29086765e+00, 2.51188643e+00, 2.75422870e+00, 3.01995172e+00,\n",
      "       3.31131121e+00, 3.63078055e+00, 3.98107171e+00, 4.36515832e+00,\n",
      "       4.78630092e+00, 5.24807460e+00, 5.75439937e+00, 6.30957344e+00,\n",
      "       6.91830971e+00, 7.58577575e+00, 8.31763771e+00, 9.12010839e+00,\n",
      "       1.00000000e+01])]\n",
      "13:12:11 INFO : zero_coalesced=True, zero_stalled=False [sam.py:dynamic_binary_number]\n",
      "13:12:11 INFO : Stalled SAM bins based on GMT: 1.98e+05/4.99e+05 = 3.96e-01 [sam.py:static_binary_density]\n",
      "13:12:11 INFO : Adding MMbulge scatter (3.4000e-01) [sam.py:static_binary_density]\n",
      "13:12:11 INFO : \tdens bef: (1.28e-114, 5.22e-53, 2.59e-13, 2.12e-03, 1.66e-02, 2.92e-02, 4.47e-02) [sam.py:static_binary_density]\n",
      "13:12:17 INFO : Scatter added after 5.813101 sec [sam.py:static_binary_density]\n",
      "13:12:17 INFO : \tdens aft: (6.14e-17, 7.92e-09, 2.90e-06, 2.19e-03, 1.69e-02, 2.92e-02, 4.27e-02) [sam.py:static_binary_density]\n",
      "13:12:17 INFO : \tmass: 8.56e-02 ==> 8.54e-02 || change = -1.8507e-03 [sam.py:static_binary_density]\n",
      "13:12:17 INFO : zeroing out 1.98e+05/4.99e+05 = 3.96e-01 systems stalled from GMT [sam.py:static_binary_density]\n",
      "13:12:17 INFO : fraction of coalesced binaries: 4.33e+05/1.25e+07 = 3.47e-02 [sam.py:dynamic_binary_number]\n",
      "13:12:17 WARNING : WARNING: _stalled_ binaries are not being accounted for in `dynamic_binary_number`! [sam.py:dynamic_binary_number]\n",
      "Number of frequency bins: 24\n",
      "  between [0.10, 2.50] 1/yr\n",
      "          [3.17, 79.22] nHz\n",
      "using default mtot, mrat, and redz\n",
      "edges: [array([1.98840987e+37, 2.60119300e+37, 3.40282209e+37, 4.45149521e+37,\n",
      "       5.82334576e+37, 7.61796975e+37, 9.96565642e+37, 1.30368473e+38,\n",
      "       1.70545099e+38, 2.23103257e+38, 2.91858655e+38, 3.81802918e+38,\n",
      "       4.99465977e+38, 6.53390141e+38, 8.54750264e+38, 1.11816504e+39,\n",
      "       1.46275832e+39, 1.91354748e+39, 2.50325972e+39, 3.27470797e+39,\n",
      "       4.28389920e+39, 5.60410044e+39, 7.33115796e+39, 9.59045570e+39,\n",
      "       1.25460181e+40, 1.64124183e+40, 2.14703559e+40, 2.80870360e+40,\n",
      "       3.67428278e+40, 4.80661396e+40, 6.28790411e+40, 8.22569452e+40,\n",
      "       1.07606683e+41, 1.40768639e+41, 1.84150362e+41, 2.40901356e+41,\n",
      "       3.15141727e+41, 4.12261308e+41, 5.39310957e+41, 7.05514445e+41,\n",
      "       9.22938105e+41, 1.20736684e+42, 1.57945010e+42, 2.06620105e+42,\n",
      "       2.70295767e+42, 3.53594833e+42, 4.62564796e+42, 6.05116846e+42,\n",
      "       7.91600228e+42, 1.03555359e+43, 1.35468787e+43, 1.77217216e+43,\n",
      "       2.31831570e+43, 3.03276838e+43, 3.96739928e+43, 5.19006237e+43,\n",
      "       6.78952268e+43, 8.88190064e+43, 1.16191023e+44, 1.51998480e+44,\n",
      "       1.98840987e+44]), array([0.001     , 0.00109018, 0.0011885 , 0.00129569, 0.00141254,\n",
      "       0.00153993, 0.0016788 , 0.00183021, 0.00199526, 0.0021752 ,\n",
      "       0.00237137, 0.00258523, 0.00281838, 0.00307256, 0.00334965,\n",
      "       0.00365174, 0.00398107, 0.0043401 , 0.00473151, 0.00515822,\n",
      "       0.00562341, 0.00613056, 0.00668344, 0.00728618, 0.00794328,\n",
      "       0.00865964, 0.00944061, 0.01029201, 0.01122018, 0.01223207,\n",
      "       0.01333521, 0.01453784, 0.01584893, 0.01727826, 0.01883649,\n",
      "       0.02053525, 0.02238721, 0.02440619, 0.02660725, 0.02900681,\n",
      "       0.03162278, 0.03447466, 0.03758374, 0.04097321, 0.04466836,\n",
      "       0.04869675, 0.05308844, 0.0578762 , 0.06309573, 0.06878599,\n",
      "       0.07498942, 0.0817523 , 0.08912509, 0.0971628 , 0.10592537,\n",
      "       0.1154782 , 0.12589254, 0.1372461 , 0.14962357, 0.16311729,\n",
      "       0.17782794, 0.19386526, 0.2113489 , 0.2304093 , 0.25118864,\n",
      "       0.27384196, 0.29853826, 0.32546178, 0.35481339, 0.38681205,\n",
      "       0.4216965 , 0.45972699, 0.50118723, 0.54638655, 0.59566214,\n",
      "       0.64938163, 0.70794578, 0.77179152, 0.84139514, 0.91727594,\n",
      "       1.        ]), array([1.00000000e-03, 1.09647820e-03, 1.20226443e-03, 1.31825674e-03,\n",
      "       1.44543977e-03, 1.58489319e-03, 1.73780083e-03, 1.90546072e-03,\n",
      "       2.08929613e-03, 2.29086765e-03, 2.51188643e-03, 2.75422870e-03,\n",
      "       3.01995172e-03, 3.31131121e-03, 3.63078055e-03, 3.98107171e-03,\n",
      "       4.36515832e-03, 4.78630092e-03, 5.24807460e-03, 5.75439937e-03,\n",
      "       6.30957344e-03, 6.91830971e-03, 7.58577575e-03, 8.31763771e-03,\n",
      "       9.12010839e-03, 1.00000000e-02, 1.09647820e-02, 1.20226443e-02,\n",
      "       1.31825674e-02, 1.44543977e-02, 1.58489319e-02, 1.73780083e-02,\n",
      "       1.90546072e-02, 2.08929613e-02, 2.29086765e-02, 2.51188643e-02,\n",
      "       2.75422870e-02, 3.01995172e-02, 3.31131121e-02, 3.63078055e-02,\n",
      "       3.98107171e-02, 4.36515832e-02, 4.78630092e-02, 5.24807460e-02,\n",
      "       5.75439937e-02, 6.30957344e-02, 6.91830971e-02, 7.58577575e-02,\n",
      "       8.31763771e-02, 9.12010839e-02, 1.00000000e-01, 1.09647820e-01,\n",
      "       1.20226443e-01, 1.31825674e-01, 1.44543977e-01, 1.58489319e-01,\n",
      "       1.73780083e-01, 1.90546072e-01, 2.08929613e-01, 2.29086765e-01,\n",
      "       2.51188643e-01, 2.75422870e-01, 3.01995172e-01, 3.31131121e-01,\n",
      "       3.63078055e-01, 3.98107171e-01, 4.36515832e-01, 4.78630092e-01,\n",
      "       5.24807460e-01, 5.75439937e-01, 6.30957344e-01, 6.91830971e-01,\n",
      "       7.58577575e-01, 8.31763771e-01, 9.12010839e-01, 1.00000000e+00,\n",
      "       1.09647820e+00, 1.20226443e+00, 1.31825674e+00, 1.44543977e+00,\n",
      "       1.58489319e+00, 1.73780083e+00, 1.90546072e+00, 2.08929613e+00,\n",
      "       2.29086765e+00, 2.51188643e+00, 2.75422870e+00, 3.01995172e+00,\n",
      "       3.31131121e+00, 3.63078055e+00, 3.98107171e+00, 4.36515832e+00,\n",
      "       4.78630092e+00, 5.24807460e+00, 5.75439937e+00, 6.30957344e+00,\n",
      "       6.91830971e+00, 7.58577575e+00, 8.31763771e+00, 9.12010839e+00,\n",
      "       1.00000000e+01])]\n",
      "13:12:17 INFO : zero_coalesced=True, zero_stalled=False [sam.py:dynamic_binary_number]\n",
      "13:12:17 INFO : Stalled SAM bins based on GMT: 1.98e+05/4.99e+05 = 3.96e-01 [sam.py:static_binary_density]\n",
      "13:12:18 INFO : Adding MMbulge scatter (3.4000e-01) [sam.py:static_binary_density]\n",
      "13:12:18 INFO : \tdens bef: (1.28e-114, 5.22e-53, 2.59e-13, 2.12e-03, 1.66e-02, 2.92e-02, 4.47e-02) [sam.py:static_binary_density]\n",
      "13:12:24 INFO : Scatter added after 5.778135 sec [sam.py:static_binary_density]\n",
      "13:12:24 INFO : \tdens aft: (6.14e-17, 7.92e-09, 2.90e-06, 2.19e-03, 1.69e-02, 2.92e-02, 4.27e-02) [sam.py:static_binary_density]\n",
      "13:12:24 INFO : \tmass: 8.56e-02 ==> 8.54e-02 || change = -1.8507e-03 [sam.py:static_binary_density]\n",
      "13:12:24 INFO : zeroing out 1.98e+05/4.99e+05 = 3.96e-01 systems stalled from GMT [sam.py:static_binary_density]\n",
      "13:12:24 INFO : fraction of coalesced binaries: 4.33e+05/1.25e+07 = 3.47e-02 [sam.py:dynamic_binary_number]\n",
      "13:12:24 WARNING : WARNING: _stalled_ binaries are not being accounted for in `dynamic_binary_number`! [sam.py:dynamic_binary_number]\n",
      "Number of frequency bins: 24\n",
      "  between [0.10, 2.50] 1/yr\n",
      "          [3.17, 79.22] nHz\n",
      "using default mtot, mrat, and redz\n",
      "edges: [array([1.98840987e+37, 2.60119300e+37, 3.40282209e+37, 4.45149521e+37,\n",
      "       5.82334576e+37, 7.61796975e+37, 9.96565642e+37, 1.30368473e+38,\n",
      "       1.70545099e+38, 2.23103257e+38, 2.91858655e+38, 3.81802918e+38,\n",
      "       4.99465977e+38, 6.53390141e+38, 8.54750264e+38, 1.11816504e+39,\n",
      "       1.46275832e+39, 1.91354748e+39, 2.50325972e+39, 3.27470797e+39,\n",
      "       4.28389920e+39, 5.60410044e+39, 7.33115796e+39, 9.59045570e+39,\n",
      "       1.25460181e+40, 1.64124183e+40, 2.14703559e+40, 2.80870360e+40,\n",
      "       3.67428278e+40, 4.80661396e+40, 6.28790411e+40, 8.22569452e+40,\n",
      "       1.07606683e+41, 1.40768639e+41, 1.84150362e+41, 2.40901356e+41,\n",
      "       3.15141727e+41, 4.12261308e+41, 5.39310957e+41, 7.05514445e+41,\n",
      "       9.22938105e+41, 1.20736684e+42, 1.57945010e+42, 2.06620105e+42,\n",
      "       2.70295767e+42, 3.53594833e+42, 4.62564796e+42, 6.05116846e+42,\n",
      "       7.91600228e+42, 1.03555359e+43, 1.35468787e+43, 1.77217216e+43,\n",
      "       2.31831570e+43, 3.03276838e+43, 3.96739928e+43, 5.19006237e+43,\n",
      "       6.78952268e+43, 8.88190064e+43, 1.16191023e+44, 1.51998480e+44,\n",
      "       1.98840987e+44]), array([0.001     , 0.00109018, 0.0011885 , 0.00129569, 0.00141254,\n",
      "       0.00153993, 0.0016788 , 0.00183021, 0.00199526, 0.0021752 ,\n",
      "       0.00237137, 0.00258523, 0.00281838, 0.00307256, 0.00334965,\n",
      "       0.00365174, 0.00398107, 0.0043401 , 0.00473151, 0.00515822,\n",
      "       0.00562341, 0.00613056, 0.00668344, 0.00728618, 0.00794328,\n",
      "       0.00865964, 0.00944061, 0.01029201, 0.01122018, 0.01223207,\n",
      "       0.01333521, 0.01453784, 0.01584893, 0.01727826, 0.01883649,\n",
      "       0.02053525, 0.02238721, 0.02440619, 0.02660725, 0.02900681,\n",
      "       0.03162278, 0.03447466, 0.03758374, 0.04097321, 0.04466836,\n",
      "       0.04869675, 0.05308844, 0.0578762 , 0.06309573, 0.06878599,\n",
      "       0.07498942, 0.0817523 , 0.08912509, 0.0971628 , 0.10592537,\n",
      "       0.1154782 , 0.12589254, 0.1372461 , 0.14962357, 0.16311729,\n",
      "       0.17782794, 0.19386526, 0.2113489 , 0.2304093 , 0.25118864,\n",
      "       0.27384196, 0.29853826, 0.32546178, 0.35481339, 0.38681205,\n",
      "       0.4216965 , 0.45972699, 0.50118723, 0.54638655, 0.59566214,\n",
      "       0.64938163, 0.70794578, 0.77179152, 0.84139514, 0.91727594,\n",
      "       1.        ]), array([1.00000000e-03, 1.09647820e-03, 1.20226443e-03, 1.31825674e-03,\n",
      "       1.44543977e-03, 1.58489319e-03, 1.73780083e-03, 1.90546072e-03,\n",
      "       2.08929613e-03, 2.29086765e-03, 2.51188643e-03, 2.75422870e-03,\n",
      "       3.01995172e-03, 3.31131121e-03, 3.63078055e-03, 3.98107171e-03,\n",
      "       4.36515832e-03, 4.78630092e-03, 5.24807460e-03, 5.75439937e-03,\n",
      "       6.30957344e-03, 6.91830971e-03, 7.58577575e-03, 8.31763771e-03,\n",
      "       9.12010839e-03, 1.00000000e-02, 1.09647820e-02, 1.20226443e-02,\n",
      "       1.31825674e-02, 1.44543977e-02, 1.58489319e-02, 1.73780083e-02,\n",
      "       1.90546072e-02, 2.08929613e-02, 2.29086765e-02, 2.51188643e-02,\n",
      "       2.75422870e-02, 3.01995172e-02, 3.31131121e-02, 3.63078055e-02,\n",
      "       3.98107171e-02, 4.36515832e-02, 4.78630092e-02, 5.24807460e-02,\n",
      "       5.75439937e-02, 6.30957344e-02, 6.91830971e-02, 7.58577575e-02,\n",
      "       8.31763771e-02, 9.12010839e-02, 1.00000000e-01, 1.09647820e-01,\n",
      "       1.20226443e-01, 1.31825674e-01, 1.44543977e-01, 1.58489319e-01,\n",
      "       1.73780083e-01, 1.90546072e-01, 2.08929613e-01, 2.29086765e-01,\n",
      "       2.51188643e-01, 2.75422870e-01, 3.01995172e-01, 3.31131121e-01,\n",
      "       3.63078055e-01, 3.98107171e-01, 4.36515832e-01, 4.78630092e-01,\n",
      "       5.24807460e-01, 5.75439937e-01, 6.30957344e-01, 6.91830971e-01,\n",
      "       7.58577575e-01, 8.31763771e-01, 9.12010839e-01, 1.00000000e+00,\n",
      "       1.09647820e+00, 1.20226443e+00, 1.31825674e+00, 1.44543977e+00,\n",
      "       1.58489319e+00, 1.73780083e+00, 1.90546072e+00, 2.08929613e+00,\n",
      "       2.29086765e+00, 2.51188643e+00, 2.75422870e+00, 3.01995172e+00,\n",
      "       3.31131121e+00, 3.63078055e+00, 3.98107171e+00, 4.36515832e+00,\n",
      "       4.78630092e+00, 5.24807460e+00, 5.75439937e+00, 6.30957344e+00,\n",
      "       6.91830971e+00, 7.58577575e+00, 8.31763771e+00, 9.12010839e+00,\n",
      "       1.00000000e+01])]\n",
      "13:12:24 INFO : zero_coalesced=True, zero_stalled=False [sam.py:dynamic_binary_number]\n",
      "13:12:24 INFO : Stalled SAM bins based on GMT: 1.98e+05/4.99e+05 = 3.96e-01 [sam.py:static_binary_density]\n",
      "13:12:24 INFO : Adding MMbulge scatter (3.4000e-01) [sam.py:static_binary_density]\n",
      "13:12:24 INFO : \tdens bef: (1.28e-114, 5.22e-53, 2.59e-13, 2.12e-03, 1.66e-02, 2.92e-02, 4.47e-02) [sam.py:static_binary_density]\n",
      "13:12:30 INFO : Scatter added after 5.802878 sec [sam.py:static_binary_density]\n",
      "13:12:30 INFO : \tdens aft: (6.14e-17, 7.92e-09, 2.90e-06, 2.19e-03, 1.69e-02, 2.92e-02, 4.27e-02) [sam.py:static_binary_density]\n",
      "13:12:30 INFO : \tmass: 8.56e-02 ==> 8.54e-02 || change = -1.8507e-03 [sam.py:static_binary_density]\n",
      "13:12:30 INFO : zeroing out 1.98e+05/4.99e+05 = 3.96e-01 systems stalled from GMT [sam.py:static_binary_density]\n",
      "13:12:31 INFO : fraction of coalesced binaries: 4.33e+05/1.25e+07 = 3.47e-02 [sam.py:dynamic_binary_number]\n",
      "13:12:31 WARNING : WARNING: _stalled_ binaries are not being accounted for in `dynamic_binary_number`! [sam.py:dynamic_binary_number]\n",
      "Number of frequency bins: 24\n",
      "  between [0.10, 2.50] 1/yr\n",
      "          [3.17, 79.22] nHz\n",
      "using default mtot, mrat, and redz\n",
      "edges: [array([1.98840987e+37, 2.60119300e+37, 3.40282209e+37, 4.45149521e+37,\n",
      "       5.82334576e+37, 7.61796975e+37, 9.96565642e+37, 1.30368473e+38,\n",
      "       1.70545099e+38, 2.23103257e+38, 2.91858655e+38, 3.81802918e+38,\n",
      "       4.99465977e+38, 6.53390141e+38, 8.54750264e+38, 1.11816504e+39,\n",
      "       1.46275832e+39, 1.91354748e+39, 2.50325972e+39, 3.27470797e+39,\n",
      "       4.28389920e+39, 5.60410044e+39, 7.33115796e+39, 9.59045570e+39,\n",
      "       1.25460181e+40, 1.64124183e+40, 2.14703559e+40, 2.80870360e+40,\n",
      "       3.67428278e+40, 4.80661396e+40, 6.28790411e+40, 8.22569452e+40,\n",
      "       1.07606683e+41, 1.40768639e+41, 1.84150362e+41, 2.40901356e+41,\n",
      "       3.15141727e+41, 4.12261308e+41, 5.39310957e+41, 7.05514445e+41,\n",
      "       9.22938105e+41, 1.20736684e+42, 1.57945010e+42, 2.06620105e+42,\n",
      "       2.70295767e+42, 3.53594833e+42, 4.62564796e+42, 6.05116846e+42,\n",
      "       7.91600228e+42, 1.03555359e+43, 1.35468787e+43, 1.77217216e+43,\n",
      "       2.31831570e+43, 3.03276838e+43, 3.96739928e+43, 5.19006237e+43,\n",
      "       6.78952268e+43, 8.88190064e+43, 1.16191023e+44, 1.51998480e+44,\n",
      "       1.98840987e+44]), array([0.001     , 0.00109018, 0.0011885 , 0.00129569, 0.00141254,\n",
      "       0.00153993, 0.0016788 , 0.00183021, 0.00199526, 0.0021752 ,\n",
      "       0.00237137, 0.00258523, 0.00281838, 0.00307256, 0.00334965,\n",
      "       0.00365174, 0.00398107, 0.0043401 , 0.00473151, 0.00515822,\n",
      "       0.00562341, 0.00613056, 0.00668344, 0.00728618, 0.00794328,\n",
      "       0.00865964, 0.00944061, 0.01029201, 0.01122018, 0.01223207,\n",
      "       0.01333521, 0.01453784, 0.01584893, 0.01727826, 0.01883649,\n",
      "       0.02053525, 0.02238721, 0.02440619, 0.02660725, 0.02900681,\n",
      "       0.03162278, 0.03447466, 0.03758374, 0.04097321, 0.04466836,\n",
      "       0.04869675, 0.05308844, 0.0578762 , 0.06309573, 0.06878599,\n",
      "       0.07498942, 0.0817523 , 0.08912509, 0.0971628 , 0.10592537,\n",
      "       0.1154782 , 0.12589254, 0.1372461 , 0.14962357, 0.16311729,\n",
      "       0.17782794, 0.19386526, 0.2113489 , 0.2304093 , 0.25118864,\n",
      "       0.27384196, 0.29853826, 0.32546178, 0.35481339, 0.38681205,\n",
      "       0.4216965 , 0.45972699, 0.50118723, 0.54638655, 0.59566214,\n",
      "       0.64938163, 0.70794578, 0.77179152, 0.84139514, 0.91727594,\n",
      "       1.        ]), array([1.00000000e-03, 1.09647820e-03, 1.20226443e-03, 1.31825674e-03,\n",
      "       1.44543977e-03, 1.58489319e-03, 1.73780083e-03, 1.90546072e-03,\n",
      "       2.08929613e-03, 2.29086765e-03, 2.51188643e-03, 2.75422870e-03,\n",
      "       3.01995172e-03, 3.31131121e-03, 3.63078055e-03, 3.98107171e-03,\n",
      "       4.36515832e-03, 4.78630092e-03, 5.24807460e-03, 5.75439937e-03,\n",
      "       6.30957344e-03, 6.91830971e-03, 7.58577575e-03, 8.31763771e-03,\n",
      "       9.12010839e-03, 1.00000000e-02, 1.09647820e-02, 1.20226443e-02,\n",
      "       1.31825674e-02, 1.44543977e-02, 1.58489319e-02, 1.73780083e-02,\n",
      "       1.90546072e-02, 2.08929613e-02, 2.29086765e-02, 2.51188643e-02,\n",
      "       2.75422870e-02, 3.01995172e-02, 3.31131121e-02, 3.63078055e-02,\n",
      "       3.98107171e-02, 4.36515832e-02, 4.78630092e-02, 5.24807460e-02,\n",
      "       5.75439937e-02, 6.30957344e-02, 6.91830971e-02, 7.58577575e-02,\n",
      "       8.31763771e-02, 9.12010839e-02, 1.00000000e-01, 1.09647820e-01,\n",
      "       1.20226443e-01, 1.31825674e-01, 1.44543977e-01, 1.58489319e-01,\n",
      "       1.73780083e-01, 1.90546072e-01, 2.08929613e-01, 2.29086765e-01,\n",
      "       2.51188643e-01, 2.75422870e-01, 3.01995172e-01, 3.31131121e-01,\n",
      "       3.63078055e-01, 3.98107171e-01, 4.36515832e-01, 4.78630092e-01,\n",
      "       5.24807460e-01, 5.75439937e-01, 6.30957344e-01, 6.91830971e-01,\n",
      "       7.58577575e-01, 8.31763771e-01, 9.12010839e-01, 1.00000000e+00,\n",
      "       1.09647820e+00, 1.20226443e+00, 1.31825674e+00, 1.44543977e+00,\n",
      "       1.58489319e+00, 1.73780083e+00, 1.90546072e+00, 2.08929613e+00,\n",
      "       2.29086765e+00, 2.51188643e+00, 2.75422870e+00, 3.01995172e+00,\n",
      "       3.31131121e+00, 3.63078055e+00, 3.98107171e+00, 4.36515832e+00,\n",
      "       4.78630092e+00, 5.24807460e+00, 5.75439937e+00, 6.30957344e+00,\n",
      "       6.91830971e+00, 7.58577575e+00, 8.31763771e+00, 9.12010839e+00,\n",
      "       1.00000000e+01])]\n",
      "13:12:31 INFO : zero_coalesced=True, zero_stalled=False [sam.py:dynamic_binary_number]\n",
      "13:12:31 INFO : Stalled SAM bins based on GMT: 1.98e+05/4.99e+05 = 3.96e-01 [sam.py:static_binary_density]\n",
      "13:12:31 INFO : Adding MMbulge scatter (3.4000e-01) [sam.py:static_binary_density]\n",
      "13:12:31 INFO : \tdens bef: (1.28e-114, 5.22e-53, 2.59e-13, 2.12e-03, 1.66e-02, 2.92e-02, 4.47e-02) [sam.py:static_binary_density]\n",
      "13:12:37 INFO : Scatter added after 5.858652 sec [sam.py:static_binary_density]\n",
      "13:12:37 INFO : \tdens aft: (6.14e-17, 7.92e-09, 2.90e-06, 2.19e-03, 1.69e-02, 2.92e-02, 4.27e-02) [sam.py:static_binary_density]\n",
      "13:12:37 INFO : \tmass: 8.56e-02 ==> 8.54e-02 || change = -1.8507e-03 [sam.py:static_binary_density]\n",
      "13:12:37 INFO : zeroing out 1.98e+05/4.99e+05 = 3.96e-01 systems stalled from GMT [sam.py:static_binary_density]\n",
      "13:12:37 INFO : fraction of coalesced binaries: 4.33e+05/1.25e+07 = 3.47e-02 [sam.py:dynamic_binary_number]\n",
      "13:12:37 WARNING : WARNING: _stalled_ binaries are not being accounted for in `dynamic_binary_number`! [sam.py:dynamic_binary_number]\n",
      "Number of frequency bins: 24\n",
      "  between [0.10, 2.50] 1/yr\n",
      "          [3.17, 79.22] nHz\n",
      "using default mtot, mrat, and redz\n",
      "edges: [array([1.98840987e+37, 2.60119300e+37, 3.40282209e+37, 4.45149521e+37,\n",
      "       5.82334576e+37, 7.61796975e+37, 9.96565642e+37, 1.30368473e+38,\n",
      "       1.70545099e+38, 2.23103257e+38, 2.91858655e+38, 3.81802918e+38,\n",
      "       4.99465977e+38, 6.53390141e+38, 8.54750264e+38, 1.11816504e+39,\n",
      "       1.46275832e+39, 1.91354748e+39, 2.50325972e+39, 3.27470797e+39,\n",
      "       4.28389920e+39, 5.60410044e+39, 7.33115796e+39, 9.59045570e+39,\n",
      "       1.25460181e+40, 1.64124183e+40, 2.14703559e+40, 2.80870360e+40,\n",
      "       3.67428278e+40, 4.80661396e+40, 6.28790411e+40, 8.22569452e+40,\n",
      "       1.07606683e+41, 1.40768639e+41, 1.84150362e+41, 2.40901356e+41,\n",
      "       3.15141727e+41, 4.12261308e+41, 5.39310957e+41, 7.05514445e+41,\n",
      "       9.22938105e+41, 1.20736684e+42, 1.57945010e+42, 2.06620105e+42,\n",
      "       2.70295767e+42, 3.53594833e+42, 4.62564796e+42, 6.05116846e+42,\n",
      "       7.91600228e+42, 1.03555359e+43, 1.35468787e+43, 1.77217216e+43,\n",
      "       2.31831570e+43, 3.03276838e+43, 3.96739928e+43, 5.19006237e+43,\n",
      "       6.78952268e+43, 8.88190064e+43, 1.16191023e+44, 1.51998480e+44,\n",
      "       1.98840987e+44]), array([0.001     , 0.00109018, 0.0011885 , 0.00129569, 0.00141254,\n",
      "       0.00153993, 0.0016788 , 0.00183021, 0.00199526, 0.0021752 ,\n",
      "       0.00237137, 0.00258523, 0.00281838, 0.00307256, 0.00334965,\n",
      "       0.00365174, 0.00398107, 0.0043401 , 0.00473151, 0.00515822,\n",
      "       0.00562341, 0.00613056, 0.00668344, 0.00728618, 0.00794328,\n",
      "       0.00865964, 0.00944061, 0.01029201, 0.01122018, 0.01223207,\n",
      "       0.01333521, 0.01453784, 0.01584893, 0.01727826, 0.01883649,\n",
      "       0.02053525, 0.02238721, 0.02440619, 0.02660725, 0.02900681,\n",
      "       0.03162278, 0.03447466, 0.03758374, 0.04097321, 0.04466836,\n",
      "       0.04869675, 0.05308844, 0.0578762 , 0.06309573, 0.06878599,\n",
      "       0.07498942, 0.0817523 , 0.08912509, 0.0971628 , 0.10592537,\n",
      "       0.1154782 , 0.12589254, 0.1372461 , 0.14962357, 0.16311729,\n",
      "       0.17782794, 0.19386526, 0.2113489 , 0.2304093 , 0.25118864,\n",
      "       0.27384196, 0.29853826, 0.32546178, 0.35481339, 0.38681205,\n",
      "       0.4216965 , 0.45972699, 0.50118723, 0.54638655, 0.59566214,\n",
      "       0.64938163, 0.70794578, 0.77179152, 0.84139514, 0.91727594,\n",
      "       1.        ]), array([1.00000000e-03, 1.09647820e-03, 1.20226443e-03, 1.31825674e-03,\n",
      "       1.44543977e-03, 1.58489319e-03, 1.73780083e-03, 1.90546072e-03,\n",
      "       2.08929613e-03, 2.29086765e-03, 2.51188643e-03, 2.75422870e-03,\n",
      "       3.01995172e-03, 3.31131121e-03, 3.63078055e-03, 3.98107171e-03,\n",
      "       4.36515832e-03, 4.78630092e-03, 5.24807460e-03, 5.75439937e-03,\n",
      "       6.30957344e-03, 6.91830971e-03, 7.58577575e-03, 8.31763771e-03,\n",
      "       9.12010839e-03, 1.00000000e-02, 1.09647820e-02, 1.20226443e-02,\n",
      "       1.31825674e-02, 1.44543977e-02, 1.58489319e-02, 1.73780083e-02,\n",
      "       1.90546072e-02, 2.08929613e-02, 2.29086765e-02, 2.51188643e-02,\n",
      "       2.75422870e-02, 3.01995172e-02, 3.31131121e-02, 3.63078055e-02,\n",
      "       3.98107171e-02, 4.36515832e-02, 4.78630092e-02, 5.24807460e-02,\n",
      "       5.75439937e-02, 6.30957344e-02, 6.91830971e-02, 7.58577575e-02,\n",
      "       8.31763771e-02, 9.12010839e-02, 1.00000000e-01, 1.09647820e-01,\n",
      "       1.20226443e-01, 1.31825674e-01, 1.44543977e-01, 1.58489319e-01,\n",
      "       1.73780083e-01, 1.90546072e-01, 2.08929613e-01, 2.29086765e-01,\n",
      "       2.51188643e-01, 2.75422870e-01, 3.01995172e-01, 3.31131121e-01,\n",
      "       3.63078055e-01, 3.98107171e-01, 4.36515832e-01, 4.78630092e-01,\n",
      "       5.24807460e-01, 5.75439937e-01, 6.30957344e-01, 6.91830971e-01,\n",
      "       7.58577575e-01, 8.31763771e-01, 9.12010839e-01, 1.00000000e+00,\n",
      "       1.09647820e+00, 1.20226443e+00, 1.31825674e+00, 1.44543977e+00,\n",
      "       1.58489319e+00, 1.73780083e+00, 1.90546072e+00, 2.08929613e+00,\n",
      "       2.29086765e+00, 2.51188643e+00, 2.75422870e+00, 3.01995172e+00,\n",
      "       3.31131121e+00, 3.63078055e+00, 3.98107171e+00, 4.36515832e+00,\n",
      "       4.78630092e+00, 5.24807460e+00, 5.75439937e+00, 6.30957344e+00,\n",
      "       6.91830971e+00, 7.58577575e+00, 8.31763771e+00, 9.12010839e+00,\n",
      "       1.00000000e+01])]\n",
      "13:12:37 INFO : zero_coalesced=True, zero_stalled=False [sam.py:dynamic_binary_number]\n",
      "13:12:37 INFO : Stalled SAM bins based on GMT: 1.98e+05/4.99e+05 = 3.96e-01 [sam.py:static_binary_density]\n",
      "13:12:38 INFO : Adding MMbulge scatter (3.4000e-01) [sam.py:static_binary_density]\n",
      "13:12:38 INFO : \tdens bef: (1.28e-114, 5.22e-53, 2.59e-13, 2.12e-03, 1.66e-02, 2.92e-02, 4.47e-02) [sam.py:static_binary_density]\n",
      "13:12:44 INFO : Scatter added after 5.793096 sec [sam.py:static_binary_density]\n",
      "13:12:44 INFO : \tdens aft: (6.14e-17, 7.92e-09, 2.90e-06, 2.19e-03, 1.69e-02, 2.92e-02, 4.27e-02) [sam.py:static_binary_density]\n",
      "13:12:44 INFO : \tmass: 8.56e-02 ==> 8.54e-02 || change = -1.8507e-03 [sam.py:static_binary_density]\n",
      "13:12:44 INFO : zeroing out 1.98e+05/4.99e+05 = 3.96e-01 systems stalled from GMT [sam.py:static_binary_density]\n",
      "13:12:44 INFO : fraction of coalesced binaries: 4.33e+05/1.25e+07 = 3.47e-02 [sam.py:dynamic_binary_number]\n",
      "13:12:44 WARNING : WARNING: _stalled_ binaries are not being accounted for in `dynamic_binary_number`! [sam.py:dynamic_binary_number]\n",
      "6.69 s ± 67.3 ms per loop (mean ± std. dev. of 7 runs, 1 loop each)\n"
     ]
    }
   ],
   "source": [
    "%timeit edges, number, fobs, fname = ss.example5()"
   ]
  },
  {
   "cell_type": "code",
   "execution_count": 13,
   "metadata": {},
   "outputs": [],
   "source": [
    "import holodeck as holo\n",
    "from holodeck.constants import YR, MSOL"
   ]
  },
  {
   "cell_type": "code",
   "execution_count": 17,
   "metadata": {},
   "outputs": [
    {
     "name": "stdout",
     "output_type": "stream",
     "text": [
      "using default mtot, mrat, and redz\n",
      "13:19:26 INFO : zero_coalesced=True, zero_stalled=False [sam.py:dynamic_binary_number]\n",
      "13:19:27 INFO : Stalled SAM bins based on GMT: 1.98e+05/4.99e+05 = 3.96e-01 [sam.py:static_binary_density]\n",
      "13:19:27 INFO : Adding MMbulge scatter (3.4000e-01) [sam.py:static_binary_density]\n",
      "13:19:27 INFO : \tdens bef: (1.28e-114, 5.22e-53, 2.59e-13, 2.12e-03, 1.66e-02, 2.92e-02, 4.47e-02) [sam.py:static_binary_density]\n",
      "13:19:33 INFO : Scatter added after 5.938163 sec [sam.py:static_binary_density]\n",
      "13:19:33 INFO : \tdens aft: (6.14e-17, 7.92e-09, 2.90e-06, 2.19e-03, 1.69e-02, 2.92e-02, 4.27e-02) [sam.py:static_binary_density]\n",
      "13:19:33 INFO : \tmass: 8.56e-02 ==> 8.54e-02 || change = -1.8507e-03 [sam.py:static_binary_density]\n",
      "13:19:33 INFO : zeroing out 1.98e+05/4.99e+05 = 3.96e-01 systems stalled from GMT [sam.py:static_binary_density]\n",
      "13:19:33 INFO : fraction of coalesced binaries: 4.33e+05/1.25e+07 = 3.47e-02 [sam.py:dynamic_binary_number]\n",
      "13:19:33 WARNING : WARNING: _stalled_ binaries are not being accounted for in `dynamic_binary_number`! [sam.py:dynamic_binary_number]\n",
      "using default mtot, mrat, and redz\n",
      "13:19:33 INFO : zero_coalesced=True, zero_stalled=False [sam.py:dynamic_binary_number]\n",
      "13:19:33 INFO : Stalled SAM bins based on GMT: 1.98e+05/4.99e+05 = 3.96e-01 [sam.py:static_binary_density]\n",
      "13:19:34 INFO : Adding MMbulge scatter (3.4000e-01) [sam.py:static_binary_density]\n",
      "13:19:34 INFO : \tdens bef: (1.28e-114, 5.22e-53, 2.59e-13, 2.12e-03, 1.66e-02, 2.92e-02, 4.47e-02) [sam.py:static_binary_density]\n",
      "13:19:40 INFO : Scatter added after 5.856785 sec [sam.py:static_binary_density]\n",
      "13:19:40 INFO : \tdens aft: (6.14e-17, 7.92e-09, 2.90e-06, 2.19e-03, 1.69e-02, 2.92e-02, 4.27e-02) [sam.py:static_binary_density]\n",
      "13:19:40 INFO : \tmass: 8.56e-02 ==> 8.54e-02 || change = -1.8507e-03 [sam.py:static_binary_density]\n",
      "13:19:40 INFO : zeroing out 1.98e+05/4.99e+05 = 3.96e-01 systems stalled from GMT [sam.py:static_binary_density]\n",
      "13:19:40 INFO : fraction of coalesced binaries: 4.33e+05/1.25e+07 = 3.47e-02 [sam.py:dynamic_binary_number]\n",
      "13:19:40 WARNING : WARNING: _stalled_ binaries are not being accounted for in `dynamic_binary_number`! [sam.py:dynamic_binary_number]\n",
      "using default mtot, mrat, and redz\n",
      "13:19:40 INFO : zero_coalesced=True, zero_stalled=False [sam.py:dynamic_binary_number]\n",
      "13:19:40 INFO : Stalled SAM bins based on GMT: 1.98e+05/4.99e+05 = 3.96e-01 [sam.py:static_binary_density]\n",
      "13:19:41 INFO : Adding MMbulge scatter (3.4000e-01) [sam.py:static_binary_density]\n",
      "13:19:41 INFO : \tdens bef: (1.28e-114, 5.22e-53, 2.59e-13, 2.12e-03, 1.66e-02, 2.92e-02, 4.47e-02) [sam.py:static_binary_density]\n",
      "13:19:46 INFO : Scatter added after 5.759294 sec [sam.py:static_binary_density]\n",
      "13:19:46 INFO : \tdens aft: (6.14e-17, 7.92e-09, 2.90e-06, 2.19e-03, 1.69e-02, 2.92e-02, 4.27e-02) [sam.py:static_binary_density]\n",
      "13:19:46 INFO : \tmass: 8.56e-02 ==> 8.54e-02 || change = -1.8507e-03 [sam.py:static_binary_density]\n",
      "13:19:46 INFO : zeroing out 1.98e+05/4.99e+05 = 3.96e-01 systems stalled from GMT [sam.py:static_binary_density]\n",
      "13:19:47 INFO : fraction of coalesced binaries: 4.33e+05/1.25e+07 = 3.47e-02 [sam.py:dynamic_binary_number]\n",
      "13:19:47 WARNING : WARNING: _stalled_ binaries are not being accounted for in `dynamic_binary_number`! [sam.py:dynamic_binary_number]\n",
      "using default mtot, mrat, and redz\n",
      "13:19:47 INFO : zero_coalesced=True, zero_stalled=False [sam.py:dynamic_binary_number]\n",
      "13:19:47 INFO : Stalled SAM bins based on GMT: 1.98e+05/4.99e+05 = 3.96e-01 [sam.py:static_binary_density]\n",
      "13:19:47 INFO : Adding MMbulge scatter (3.4000e-01) [sam.py:static_binary_density]\n",
      "13:19:47 INFO : \tdens bef: (1.28e-114, 5.22e-53, 2.59e-13, 2.12e-03, 1.66e-02, 2.92e-02, 4.47e-02) [sam.py:static_binary_density]\n",
      "13:19:53 INFO : Scatter added after 5.766912 sec [sam.py:static_binary_density]\n",
      "13:19:53 INFO : \tdens aft: (6.14e-17, 7.92e-09, 2.90e-06, 2.19e-03, 1.69e-02, 2.92e-02, 4.27e-02) [sam.py:static_binary_density]\n",
      "13:19:53 INFO : \tmass: 8.56e-02 ==> 8.54e-02 || change = -1.8507e-03 [sam.py:static_binary_density]\n",
      "13:19:53 INFO : zeroing out 1.98e+05/4.99e+05 = 3.96e-01 systems stalled from GMT [sam.py:static_binary_density]\n",
      "13:19:53 INFO : fraction of coalesced binaries: 4.33e+05/1.25e+07 = 3.47e-02 [sam.py:dynamic_binary_number]\n",
      "13:19:53 WARNING : WARNING: _stalled_ binaries are not being accounted for in `dynamic_binary_number`! [sam.py:dynamic_binary_number]\n",
      "using default mtot, mrat, and redz\n",
      "13:19:53 INFO : zero_coalesced=True, zero_stalled=False [sam.py:dynamic_binary_number]\n",
      "13:19:53 INFO : Stalled SAM bins based on GMT: 1.98e+05/4.99e+05 = 3.96e-01 [sam.py:static_binary_density]\n",
      "13:19:54 INFO : Adding MMbulge scatter (3.4000e-01) [sam.py:static_binary_density]\n",
      "13:19:54 INFO : \tdens bef: (1.28e-114, 5.22e-53, 2.59e-13, 2.12e-03, 1.66e-02, 2.92e-02, 4.47e-02) [sam.py:static_binary_density]\n",
      "13:20:00 INFO : Scatter added after 5.804646 sec [sam.py:static_binary_density]\n",
      "13:20:00 INFO : \tdens aft: (6.14e-17, 7.92e-09, 2.90e-06, 2.19e-03, 1.69e-02, 2.92e-02, 4.27e-02) [sam.py:static_binary_density]\n",
      "13:20:00 INFO : \tmass: 8.56e-02 ==> 8.54e-02 || change = -1.8507e-03 [sam.py:static_binary_density]\n",
      "13:20:00 INFO : zeroing out 1.98e+05/4.99e+05 = 3.96e-01 systems stalled from GMT [sam.py:static_binary_density]\n",
      "13:20:00 INFO : fraction of coalesced binaries: 4.33e+05/1.25e+07 = 3.47e-02 [sam.py:dynamic_binary_number]\n",
      "13:20:00 WARNING : WARNING: _stalled_ binaries are not being accounted for in `dynamic_binary_number`! [sam.py:dynamic_binary_number]\n",
      "using default mtot, mrat, and redz\n",
      "13:20:00 INFO : zero_coalesced=True, zero_stalled=False [sam.py:dynamic_binary_number]\n",
      "13:20:00 INFO : Stalled SAM bins based on GMT: 1.98e+05/4.99e+05 = 3.96e-01 [sam.py:static_binary_density]\n",
      "13:20:00 INFO : Adding MMbulge scatter (3.4000e-01) [sam.py:static_binary_density]\n",
      "13:20:00 INFO : \tdens bef: (1.28e-114, 5.22e-53, 2.59e-13, 2.12e-03, 1.66e-02, 2.92e-02, 4.47e-02) [sam.py:static_binary_density]\n",
      "13:20:06 INFO : Scatter added after 5.763265 sec [sam.py:static_binary_density]\n",
      "13:20:06 INFO : \tdens aft: (6.14e-17, 7.92e-09, 2.90e-06, 2.19e-03, 1.69e-02, 2.92e-02, 4.27e-02) [sam.py:static_binary_density]\n",
      "13:20:06 INFO : \tmass: 8.56e-02 ==> 8.54e-02 || change = -1.8507e-03 [sam.py:static_binary_density]\n",
      "13:20:06 INFO : zeroing out 1.98e+05/4.99e+05 = 3.96e-01 systems stalled from GMT [sam.py:static_binary_density]\n",
      "13:20:07 INFO : fraction of coalesced binaries: 4.33e+05/1.25e+07 = 3.47e-02 [sam.py:dynamic_binary_number]\n",
      "13:20:07 WARNING : WARNING: _stalled_ binaries are not being accounted for in `dynamic_binary_number`! [sam.py:dynamic_binary_number]\n",
      "using default mtot, mrat, and redz\n",
      "13:20:07 INFO : zero_coalesced=True, zero_stalled=False [sam.py:dynamic_binary_number]\n",
      "13:20:07 INFO : Stalled SAM bins based on GMT: 1.98e+05/4.99e+05 = 3.96e-01 [sam.py:static_binary_density]\n",
      "13:20:07 INFO : Adding MMbulge scatter (3.4000e-01) [sam.py:static_binary_density]\n",
      "13:20:07 INFO : \tdens bef: (1.28e-114, 5.22e-53, 2.59e-13, 2.12e-03, 1.66e-02, 2.92e-02, 4.47e-02) [sam.py:static_binary_density]\n",
      "13:20:13 INFO : Scatter added after 5.763802 sec [sam.py:static_binary_density]\n",
      "13:20:13 INFO : \tdens aft: (6.14e-17, 7.92e-09, 2.90e-06, 2.19e-03, 1.69e-02, 2.92e-02, 4.27e-02) [sam.py:static_binary_density]\n",
      "13:20:13 INFO : \tmass: 8.56e-02 ==> 8.54e-02 || change = -1.8507e-03 [sam.py:static_binary_density]\n",
      "13:20:13 INFO : zeroing out 1.98e+05/4.99e+05 = 3.96e-01 systems stalled from GMT [sam.py:static_binary_density]\n",
      "13:20:13 INFO : fraction of coalesced binaries: 4.33e+05/1.25e+07 = 3.47e-02 [sam.py:dynamic_binary_number]\n",
      "13:20:13 WARNING : WARNING: _stalled_ binaries are not being accounted for in `dynamic_binary_number`! [sam.py:dynamic_binary_number]\n",
      "using default mtot, mrat, and redz\n",
      "13:20:13 INFO : zero_coalesced=True, zero_stalled=False [sam.py:dynamic_binary_number]\n",
      "13:20:13 INFO : Stalled SAM bins based on GMT: 1.98e+05/4.99e+05 = 3.96e-01 [sam.py:static_binary_density]\n",
      "13:20:14 INFO : Adding MMbulge scatter (3.4000e-01) [sam.py:static_binary_density]\n",
      "13:20:14 INFO : \tdens bef: (1.28e-114, 5.22e-53, 2.59e-13, 2.12e-03, 1.66e-02, 2.92e-02, 4.47e-02) [sam.py:static_binary_density]\n",
      "13:20:19 INFO : Scatter added after 5.763613 sec [sam.py:static_binary_density]\n",
      "13:20:19 INFO : \tdens aft: (6.14e-17, 7.92e-09, 2.90e-06, 2.19e-03, 1.69e-02, 2.92e-02, 4.27e-02) [sam.py:static_binary_density]\n",
      "13:20:19 INFO : \tmass: 8.56e-02 ==> 8.54e-02 || change = -1.8507e-03 [sam.py:static_binary_density]\n",
      "13:20:19 INFO : zeroing out 1.98e+05/4.99e+05 = 3.96e-01 systems stalled from GMT [sam.py:static_binary_density]\n",
      "13:20:20 INFO : fraction of coalesced binaries: 4.33e+05/1.25e+07 = 3.47e-02 [sam.py:dynamic_binary_number]\n",
      "13:20:20 WARNING : WARNING: _stalled_ binaries are not being accounted for in `dynamic_binary_number`! [sam.py:dynamic_binary_number]\n",
      "6.64 s ± 47.8 ms per loop (mean ± std. dev. of 7 runs, 1 loop each)\n"
     ]
    }
   ],
   "source": [
    "dur = 10.0*YR\n",
    "cad = .2*YR\n",
    "%timeit edges, number, fobs = ss.example(dur, cad, mtot=None, mrat=None, redz=None, print_test=False)"
   ]
  },
  {
   "cell_type": "code",
   "execution_count": 5,
   "metadata": {},
   "outputs": [
    {
     "name": "stdout",
     "output_type": "stream",
     "text": [
      "146 ms ± 2.64 ms per loop (mean ± std. dev. of 7 runs, 10 loops each)\n"
     ]
    }
   ],
   "source": [
    "%timeit ss.h2fdf(edges)"
   ]
  },
  {
   "cell_type": "code",
   "execution_count": 18,
   "metadata": {},
   "outputs": [
    {
     "name": "stdout",
     "output_type": "stream",
     "text": [
      "20 s ± 580 ms per loop (mean ± std. dev. of 7 runs, 1 loop each)\n"
     ]
    }
   ],
   "source": [
    "h2fdf = ss.h2fdf(edges)\n",
    "%timeit cy.ss_bg_hc(number, h2fdf, 30)"
   ]
  },
  {
   "cell_type": "code",
   "execution_count": 20,
   "metadata": {},
   "outputs": [],
   "source": [
    "hc_ss, hc_bg, ssidx, hsamp = ss.ss_by_cdefs(edges, number, 30)"
   ]
  },
  {
   "cell_type": "code",
   "execution_count": 21,
   "metadata": {},
   "outputs": [
    {
     "name": "stdout",
     "output_type": "stream",
     "text": [
      "20.6 s ± 143 ms per loop (mean ± std. dev. of 7 runs, 1 loop each)\n"
     ]
    }
   ],
   "source": [
    "%timeit hc_ss, hc_bg, ssidx, hsamp = ss.ss_by_cdefs(edges, number, 30)"
   ]
  },
  {
   "cell_type": "code",
   "execution_count": 23,
   "metadata": {},
   "outputs": [
    {
     "name": "stdout",
     "output_type": "stream",
     "text": [
      "16.4 µs ± 184 ns per loop (mean ± std. dev. of 7 runs, 100,000 loops each)\n"
     ]
    }
   ],
   "source": [
    "%timeit marr, qarr, zarr, farr = ss.parameters_from_indices(edges, ssidx)\n",
    "marr, qarr, zarr, farr = ss.parameters_from_indices(edges, ssidx)"
   ]
  },
  {
   "attachments": {},
   "cell_type": "markdown",
   "metadata": {},
   "source": [
    "function to calculate effective parameters"
   ]
  },
  {
   "cell_type": "code",
   "execution_count": 29,
   "metadata": {},
   "outputs": [
    {
     "name": "stdout",
     "output_type": "stream",
     "text": [
      "(25, 30)\n"
     ]
    }
   ],
   "source": [
    "print(hc_ss.shape)"
   ]
  },
  {
   "cell_type": "code",
   "execution_count": 28,
   "metadata": {},
   "outputs": [
    {
     "name": "stdout",
     "output_type": "stream",
     "text": [
      "(25, 30)\n",
      "[1.31003488e+43 1.07633983e+43 1.02479984e+43 7.32252891e+42\n",
      " 5.17051316e+42 5.12361553e+42 4.17369807e+42 4.31707413e+42\n",
      " 3.47862402e+42 3.06850235e+42 2.95854519e+42 3.04504006e+42\n",
      " 2.43621625e+42 2.59795251e+42 1.84953646e+42 1.88069818e+42\n",
      " 1.87589185e+42 1.53198469e+42 1.62893906e+42 1.31654612e+42\n",
      " 1.74621861e+42 1.17744206e+42 1.18303350e+42 1.17832940e+42\n",
      " 1.32817693e+42]\n"
     ]
    }
   ],
   "source": [
    "print(marr.shape)\n",
    "print(np.average(marr, axis=1, weights=hc_ss))"
   ]
  },
  {
   "cell_type": "code",
   "execution_count": null,
   "metadata": {},
   "outputs": [],
   "source": [
    "def effective_paramater(arr, hc_ss):\n",
    "    \"\"\" \n",
    "    Calculate the average effective binary parameter, given the \n",
    "    \"\"\"\n",
    "    eff = np.average(arr, axis=1, weights=hc_ss**2)\n",
    "    return eff"
   ]
  },
  {
   "attachments": {},
   "cell_type": "markdown",
   "metadata": {},
   "source": [
    "# Parameters in cython"
   ]
  },
  {
   "cell_type": "code",
   "execution_count": 2,
   "metadata": {},
   "outputs": [
    {
     "name": "stdout",
     "output_type": "stream",
     "text": [
      "Number of frequency bins: 24\n",
      "  between [0.10, 2.50] 1/yr\n",
      "          [3.17, 79.22] nHz\n",
      "using default mtot, mrat, and redz\n",
      "edges: [array([1.98840987e+37, 2.60119300e+37, 3.40282209e+37, 4.45149521e+37,\n",
      "       5.82334576e+37, 7.61796975e+37, 9.96565642e+37, 1.30368473e+38,\n",
      "       1.70545099e+38, 2.23103257e+38, 2.91858655e+38, 3.81802918e+38,\n",
      "       4.99465977e+38, 6.53390141e+38, 8.54750264e+38, 1.11816504e+39,\n",
      "       1.46275832e+39, 1.91354748e+39, 2.50325972e+39, 3.27470797e+39,\n",
      "       4.28389920e+39, 5.60410044e+39, 7.33115796e+39, 9.59045570e+39,\n",
      "       1.25460181e+40, 1.64124183e+40, 2.14703559e+40, 2.80870360e+40,\n",
      "       3.67428278e+40, 4.80661396e+40, 6.28790411e+40, 8.22569452e+40,\n",
      "       1.07606683e+41, 1.40768639e+41, 1.84150362e+41, 2.40901356e+41,\n",
      "       3.15141727e+41, 4.12261308e+41, 5.39310957e+41, 7.05514445e+41,\n",
      "       9.22938105e+41, 1.20736684e+42, 1.57945010e+42, 2.06620105e+42,\n",
      "       2.70295767e+42, 3.53594833e+42, 4.62564796e+42, 6.05116846e+42,\n",
      "       7.91600228e+42, 1.03555359e+43, 1.35468787e+43, 1.77217216e+43,\n",
      "       2.31831570e+43, 3.03276838e+43, 3.96739928e+43, 5.19006237e+43,\n",
      "       6.78952268e+43, 8.88190064e+43, 1.16191023e+44, 1.51998480e+44,\n",
      "       1.98840987e+44]), array([0.001     , 0.00109018, 0.0011885 , 0.00129569, 0.00141254,\n",
      "       0.00153993, 0.0016788 , 0.00183021, 0.00199526, 0.0021752 ,\n",
      "       0.00237137, 0.00258523, 0.00281838, 0.00307256, 0.00334965,\n",
      "       0.00365174, 0.00398107, 0.0043401 , 0.00473151, 0.00515822,\n",
      "       0.00562341, 0.00613056, 0.00668344, 0.00728618, 0.00794328,\n",
      "       0.00865964, 0.00944061, 0.01029201, 0.01122018, 0.01223207,\n",
      "       0.01333521, 0.01453784, 0.01584893, 0.01727826, 0.01883649,\n",
      "       0.02053525, 0.02238721, 0.02440619, 0.02660725, 0.02900681,\n",
      "       0.03162278, 0.03447466, 0.03758374, 0.04097321, 0.04466836,\n",
      "       0.04869675, 0.05308844, 0.0578762 , 0.06309573, 0.06878599,\n",
      "       0.07498942, 0.0817523 , 0.08912509, 0.0971628 , 0.10592537,\n",
      "       0.1154782 , 0.12589254, 0.1372461 , 0.14962357, 0.16311729,\n",
      "       0.17782794, 0.19386526, 0.2113489 , 0.2304093 , 0.25118864,\n",
      "       0.27384196, 0.29853826, 0.32546178, 0.35481339, 0.38681205,\n",
      "       0.4216965 , 0.45972699, 0.50118723, 0.54638655, 0.59566214,\n",
      "       0.64938163, 0.70794578, 0.77179152, 0.84139514, 0.91727594,\n",
      "       1.        ]), array([1.00000000e-03, 1.09647820e-03, 1.20226443e-03, 1.31825674e-03,\n",
      "       1.44543977e-03, 1.58489319e-03, 1.73780083e-03, 1.90546072e-03,\n",
      "       2.08929613e-03, 2.29086765e-03, 2.51188643e-03, 2.75422870e-03,\n",
      "       3.01995172e-03, 3.31131121e-03, 3.63078055e-03, 3.98107171e-03,\n",
      "       4.36515832e-03, 4.78630092e-03, 5.24807460e-03, 5.75439937e-03,\n",
      "       6.30957344e-03, 6.91830971e-03, 7.58577575e-03, 8.31763771e-03,\n",
      "       9.12010839e-03, 1.00000000e-02, 1.09647820e-02, 1.20226443e-02,\n",
      "       1.31825674e-02, 1.44543977e-02, 1.58489319e-02, 1.73780083e-02,\n",
      "       1.90546072e-02, 2.08929613e-02, 2.29086765e-02, 2.51188643e-02,\n",
      "       2.75422870e-02, 3.01995172e-02, 3.31131121e-02, 3.63078055e-02,\n",
      "       3.98107171e-02, 4.36515832e-02, 4.78630092e-02, 5.24807460e-02,\n",
      "       5.75439937e-02, 6.30957344e-02, 6.91830971e-02, 7.58577575e-02,\n",
      "       8.31763771e-02, 9.12010839e-02, 1.00000000e-01, 1.09647820e-01,\n",
      "       1.20226443e-01, 1.31825674e-01, 1.44543977e-01, 1.58489319e-01,\n",
      "       1.73780083e-01, 1.90546072e-01, 2.08929613e-01, 2.29086765e-01,\n",
      "       2.51188643e-01, 2.75422870e-01, 3.01995172e-01, 3.31131121e-01,\n",
      "       3.63078055e-01, 3.98107171e-01, 4.36515832e-01, 4.78630092e-01,\n",
      "       5.24807460e-01, 5.75439937e-01, 6.30957344e-01, 6.91830971e-01,\n",
      "       7.58577575e-01, 8.31763771e-01, 9.12010839e-01, 1.00000000e+00,\n",
      "       1.09647820e+00, 1.20226443e+00, 1.31825674e+00, 1.44543977e+00,\n",
      "       1.58489319e+00, 1.73780083e+00, 1.90546072e+00, 2.08929613e+00,\n",
      "       2.29086765e+00, 2.51188643e+00, 2.75422870e+00, 3.01995172e+00,\n",
      "       3.31131121e+00, 3.63078055e+00, 3.98107171e+00, 4.36515832e+00,\n",
      "       4.78630092e+00, 5.24807460e+00, 5.75439937e+00, 6.30957344e+00,\n",
      "       6.91830971e+00, 7.58577575e+00, 8.31763771e+00, 9.12010839e+00,\n",
      "       1.00000000e+01])]\n",
      "23:12:12 INFO : zero_coalesced=True, zero_stalled=False [sam.py:dynamic_binary_number]\n",
      "23:12:12 INFO : Stalled SAM bins based on GMT: 1.98e+05/4.99e+05 = 3.96e-01 [sam.py:static_binary_density]\n",
      "23:12:12 INFO : Adding MMbulge scatter (3.4000e-01) [sam.py:static_binary_density]\n",
      "23:12:12 INFO : \tdens bef: (1.28e-114, 5.22e-53, 2.59e-13, 2.12e-03, 1.66e-02, 2.92e-02, 4.47e-02) [sam.py:static_binary_density]\n",
      "23:12:18 INFO : Scatter added after 6.098871 sec [sam.py:static_binary_density]\n",
      "23:12:18 INFO : \tdens aft: (6.14e-17, 7.92e-09, 2.90e-06, 2.19e-03, 1.69e-02, 2.92e-02, 4.27e-02) [sam.py:static_binary_density]\n",
      "23:12:18 INFO : \tmass: 8.56e-02 ==> 8.54e-02 || change = -1.8507e-03 [sam.py:static_binary_density]\n",
      "23:12:18 INFO : zeroing out 1.98e+05/4.99e+05 = 3.96e-01 systems stalled from GMT [sam.py:static_binary_density]\n",
      "23:12:18 INFO : fraction of coalesced binaries: 4.33e+05/1.25e+07 = 3.47e-02 [sam.py:dynamic_binary_number]\n",
      "23:12:18 WARNING : WARNING: _stalled_ binaries are not being accounted for in `dynamic_binary_number`! [sam.py:dynamic_binary_number]\n"
     ]
    }
   ],
   "source": [
    "import kalepy as kale\n",
    "import holodeck.cyutils as cy\n",
    "import holodeck.single_sources as ss\n",
    "\n",
    "edges, number, fobs, exname = ss.example5()\n",
    "h2fdf = ss.h2fdf(edges)\n",
    "mt = kale.utils.midpoints(edges[0]) #: total mass\n",
    "mr = kale.utils.midpoints(edges[1]) #: mass ratio\n",
    "rz = kale.utils.midpoints(edges[2]) #: redshift"
   ]
  },
  {
   "cell_type": "code",
   "execution_count": 2,
   "metadata": {},
   "outputs": [],
   "source": [
    "hc_ss, hc_bg, ssidx, bgpar, sspar = cy.ss_bg_hc_and_par(number, h2fdf, 30, mt, mr, rz)"
   ]
  },
  {
   "cell_type": "code",
   "execution_count": 3,
   "metadata": {},
   "outputs": [
    {
     "name": "stdout",
     "output_type": "stream",
     "text": [
      "[6.72902784e+42 9.54258788e-01 5.72725476e-01]\n",
      "[3.21709576e+42 6.50770638e-01 1.09194891e+00]\n"
     ]
    }
   ],
   "source": [
    "print(sspar[:,0,0])\n",
    "print(bgpar[:,0,0])"
   ]
  },
  {
   "cell_type": "code",
   "execution_count": 4,
   "metadata": {},
   "outputs": [
    {
     "name": "stdout",
     "output_type": "stream",
     "text": [
      "6.729027836269378e+42 0.9542587878258433 0.5727254762096192\n"
     ]
    }
   ],
   "source": [
    "print(mt[ssidx[0,0,0]], mr[ssidx[1,0,0]], rz[ssidx[2,0,0]])"
   ]
  },
  {
   "cell_type": "code",
   "execution_count": null,
   "metadata": {},
   "outputs": [
    {
     "name": "stdout",
     "output_type": "stream",
     "text": [
      "50.2 s ± 350 ms per loop (mean ± std. dev. of 7 runs, 1 loop each)\n"
     ]
    }
   ],
   "source": [
    "%timeit hc_ss, hc_bg, ssidx, bgpar, sspar = cy.ss_bg_hc_and_par(number, h2fdf, 30, mt, mr, rz)"
   ]
  },
  {
   "cell_type": "code",
   "execution_count": 6,
   "metadata": {},
   "outputs": [
    {
     "name": "stdout",
     "output_type": "stream",
     "text": [
      "49.8 s ± 387 ms per loop (mean ± std. dev. of 7 runs, 1 loop each)\n"
     ]
    }
   ],
   "source": [
    "%timeit hc_ss, hc_bg, ssidx, hsamp, bgpar, sspar = ss.ss_by_cdefs(edges, number, 30, params=True)"
   ]
  },
  {
   "cell_type": "code",
   "execution_count": 3,
   "metadata": {},
   "outputs": [
    {
     "name": "stdout",
     "output_type": "stream",
     "text": [
      "20.7 s ± 231 ms per loop (mean ± std. dev. of 7 runs, 1 loop each)\n"
     ]
    }
   ],
   "source": [
    "%timeit hc_ss, hc_bg, ssidx, hsamp = ss.ss_by_cdefs(edges, number, 30)"
   ]
  },
  {
   "cell_type": "code",
   "execution_count": 19,
   "metadata": {},
   "outputs": [
    {
     "name": "stdout",
     "output_type": "stream",
     "text": [
      "Number of frequency bins: 4\n",
      "  between [0.63, 3.16] 1/yr\n",
      "          [20.00, 100.00] nHz\n",
      "edges: [array([1.e+39, 1.e+40, 1.e+41]), array([0.1, 1. ]), array([0.001, 0.01 , 0.1  , 1.   ])]\n",
      "17:31:25 INFO : zero_coalesced=True, zero_stalled=False [sam.py:dynamic_binary_number]\n",
      "17:31:25 INFO : Stalled SAM bins based on GMT: 1.20e+01/2.40e+01 = 5.00e-01 [sam.py:static_binary_density]\n",
      "17:31:25 INFO : Adding MMbulge scatter (3.4000e-01) [sam.py:static_binary_density]\n",
      "17:31:25 INFO : \tdens bef: (1.79e-03, 1.94e-03, 4.00e-03, 7.66e-03, 1.48e-02, 1.53e-02, 1.54e-02) [sam.py:static_binary_density]\n",
      "17:31:25 INFO : Scatter added after 0.002365 sec [sam.py:static_binary_density]\n",
      "17:31:25 INFO : \tdens aft: (2.07e-03, 2.12e-03, 4.31e-03, 7.29e-03, 1.38e-02, 1.46e-02, 1.46e-02) [sam.py:static_binary_density]\n",
      "17:31:25 INFO : \tmass: 1.21e-02 ==> 1.20e-02 || change = -9.0094e-03 [sam.py:static_binary_density]\n",
      "17:31:25 INFO : zeroing out 1.20e+01/2.40e+01 = 5.00e-01 systems stalled from GMT [sam.py:static_binary_density]\n",
      "17:31:25 INFO : fraction of coalesced binaries: 0.00e+00/1.20e+02 = 0.00e+00 [sam.py:dynamic_binary_number]\n",
      "17:31:25 WARNING : WARNING: _stalled_ binaries are not being accounted for in `dynamic_binary_number`! [sam.py:dynamic_binary_number]\n"
     ]
    }
   ],
   "source": [
    "edges, number, fobs, exname = ss.example2()"
   ]
  },
  {
   "cell_type": "code",
   "execution_count": 25,
   "metadata": {},
   "outputs": [],
   "source": [
    "hc_bg, hc_ss, hsamp, ssidx, hsmax, bgnum = ss.ss_by_ndars(edges, number, realize=2)"
   ]
  },
  {
   "cell_type": "code",
   "execution_count": 70,
   "metadata": {},
   "outputs": [
    {
     "name": "stdout",
     "output_type": "stream",
     "text": [
      "[[[       0   138051 17110042]]\n",
      "\n",
      " [[       0     1909   222967]]]\n",
      "(2, 1, 3, 5, 2)\n",
      "(2, 2, 1, 3, 5, 2)\n",
      "(2, 6, 5, 2)\n",
      "[[0.00e+00 6.34e-20 9.26e-21 0.00e+00 2.94e-18 4.30e-19]\n",
      " [0.00e+00 1.38e+05 1.71e+07 0.00e+00 1.91e+03 2.23e+05]]\n",
      "together\n",
      " [[0.00e+00 6.34e-20 9.26e-21 0.00e+00 2.94e-18 4.30e-19]\n",
      " [0.00e+00 1.38e+05 1.71e+07 0.00e+00 1.91e+03 2.23e+05]]\n",
      "hsort [0.00e+00 6.34e-20 9.26e-21 0.00e+00 2.94e-18 4.30e-19]\n",
      "bgnum [       0   138051 17110042        0     1909   222967]\n",
      "sorted hsort [0.00e+00 0.00e+00 9.26e-21 6.34e-20 4.30e-19 2.94e-18]\n",
      "sorted together\n",
      " [[0.00e+00 0.00e+00 9.26e-21 6.34e-20 4.30e-19 2.94e-18]\n",
      " [0.00e+00 0.00e+00 1.91e+03 1.38e+05 2.23e+05 1.71e+07]]\n"
     ]
    }
   ],
   "source": [
    "print(bgnum[:,:,:,2,0])\n",
    "print(bgnum.shape)\n",
    "together = np.array([hsamp, bgnum])\n",
    "print(together.shape)\n",
    "shape = together.shape\n",
    "together = together.reshape((shape[0], shape[1]*shape[2]*shape[3], shape[4], shape[5]))\n",
    "print(together.shape)\n",
    "print(together[:,:,2,0])\n",
    "sorted = np.sort(together, axis=1)\n",
    "print('together\\n', together[:,:,2,0])\n",
    "print('hsort', hsort[:,2,0])\n",
    "print('bgnum', bgnum.reshape((2*1*3, 5, 2))[:,2,0])\n",
    "print('sorted hsort', np.sort(hsort, axis=0)[:,2,0])\n",
    "print('sorted together\\n', sorted[:,:,2,0])"
   ]
  },
  {
   "cell_type": "code",
   "execution_count": 49,
   "metadata": {},
   "outputs": [
    {
     "name": "stdout",
     "output_type": "stream",
     "text": [
      "(2, 1, 3, 5, 2)\n",
      "[[[0.00e+00 6.34e-20 9.26e-21]]\n",
      "\n",
      " [[0.00e+00 2.94e-18 4.30e-19]]]\n",
      "[0.00e+00 6.34e-20 9.26e-21 0.00e+00 2.94e-18 4.30e-19]\n",
      "[0.00e+00 0.00e+00 9.26e-21 6.34e-20 4.30e-19 2.94e-18]\n"
     ]
    }
   ],
   "source": [
    "np.set_printoptions(precision=2)\n",
    "print(hsamp.shape)\n",
    "print(hsamp[:,:,:,2,0]) #0th realization, 2nd frequency\n",
    "shape = hsamp.shape\n",
    "hsort = hsamp.reshape(shape[0]*shape[1]*shape[2], shape[3], shape[4])\n",
    "print(hsort[:,2,0])\n",
    "print(np.sort(hsort, axis=0)[:,2,0])"
   ]
  },
  {
   "cell_type": "code",
   "execution_count": 43,
   "metadata": {},
   "outputs": [
    {
     "name": "stdout",
     "output_type": "stream",
     "text": [
      "[[[ 5 20]\n",
      "  [ 4 35]]\n",
      "\n",
      " [[ 6 10]\n",
      "  [ 3 11]]]\n",
      "[[ 5 20]\n",
      " [ 4 35]\n",
      " [ 6 10]\n",
      " [ 3 11]]\n",
      "[[ 3 10]\n",
      " [ 4 11]\n",
      " [ 5 20]\n",
      " [ 6 35]]\n"
     ]
    }
   ],
   "source": [
    "# shape (M, Q, F)\n",
    "# sort over any M and Q for each individual F\n",
    "# first frequency: m1,q1,f1 = 5; m1q2,f1 = 4, m2q1,f1 = 6, m2q2,f1 = 3\n",
    "# second frequency: m1,q1,f2 = 20, m1q2f2 = 35, m2q1f2 = 10, m2q2f2 = 11\n",
    "# order by first all frequencies of m1 q1, then all q1s for m1, \n",
    "test = np.array([[[5,20], [4,35]], [[6,10], [3,11]]])\n",
    "goal = np.array([[3, 4, 5, 6], [10,11,20,35]])\n",
    "print(test)\n",
    "print(test.reshape((2*2, 2)))\n",
    "print(np.sort(test.reshape(2*2, 2), axis=0))\n",
    "# print(np.sort(test, axis=0))\n",
    "# print(goal)"
   ]
  },
  {
   "cell_type": "code",
   "execution_count": 44,
   "metadata": {},
   "outputs": [
    {
     "name": "stdout",
     "output_type": "stream",
     "text": [
      "[[[[1 0 0 0 0]\n",
      "   [0 9 0 0 0]\n",
      "   [0 0 0 0 0]]]\n",
      "\n",
      "\n",
      " [[[0 0 0 0 0]\n",
      "   [0 0 3 0 0]\n",
      "   [0 0 0 4 5]]]]\n"
     ]
    }
   ],
   "source": [
    "print(grid)"
   ]
  },
  {
   "cell_type": "code",
   "execution_count": null,
   "metadata": {},
   "outputs": [],
   "source": [
    "print(hsamp[])"
   ]
  }
 ],
 "metadata": {
  "kernelspec": {
   "display_name": "base",
   "language": "python",
   "name": "python3"
  },
  "language_info": {
   "codemirror_mode": {
    "name": "ipython",
    "version": 3
   },
   "file_extension": ".py",
   "mimetype": "text/x-python",
   "name": "python",
   "nbconvert_exporter": "python",
   "pygments_lexer": "ipython3",
   "version": "3.10.9"
  },
  "orig_nbformat": 4
 },
 "nbformat": 4,
 "nbformat_minor": 2
}
