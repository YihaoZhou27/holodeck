{
 "cells": [
  {
   "cell_type": "code",
   "execution_count": null,
   "metadata": {},
   "outputs": [],
   "source": [
    "# %load ../init.ipy\n",
    "%reload_ext autoreload\n",
    "%autoreload 2\n",
    "from importlib import reload\n",
    "\n",
    "import numpy as np\n",
    "import holodeck as holo\n",
    "import holodeck.single_sources as ss\n",
    "import holodeck.cyutils as cy\n",
    "import matplotlib.pyplot as plt"
   ]
  },
  {
   "attachments": {},
   "cell_type": "markdown",
   "metadata": {},
   "source": [
    "### grid:\n",
    "\n",
    "1x  |  xx  |  xx  |  xx  |  xx \\\n",
    "xx  |  9x  |  x3  |  xx  |  xx \\\n",
    "xx  |  xx  |  xx  |  x4  |  x5 \n",
    "\n",
    "10x  |  x80   |  xx   |  xx   |  xx \\\n",
    "xx   |  xx  |  x30  |  xx   |  xx \\\n",
    "xx   |  xx   |  xx   |  x40  |  x50 "
   ]
  },
  {
   "cell_type": "code",
   "execution_count": null,
   "metadata": {},
   "outputs": [],
   "source": [
    "hsamp = np.array([[[[[1,10],[0,80],[0,6],[0,6],[0,6]],\n",
    "                [[0,6],[9,6],[0,6],[0,6],[0,6]],\n",
    "                [[0,6],[0,6],[0,6],[0,6],[0,6]]]],\n",
    "\n",
    "                [[[[0,6],[0,6],[0,6],[0,6],[0,6]],\n",
    "                [[0,6],[0,6],[3,30],[0,6],[0,6]],\n",
    "                [[0,6],[0,6],[0,6],[4,40],[5,50]]]]])\n",
    "bgnum = np.full_like(hsamp, 100)\n",
    "\n",
    "print(hsamp.shape)\n",
    "print(bgnum.shape)\n",
    "# print(grid)\n",
    "hsone=hsamp[...,0]\n",
    "print(hsone.shape)"
   ]
  },
  {
   "cell_type": "code",
   "execution_count": null,
   "metadata": {},
   "outputs": [],
   "source": [
    "repped = np.repeat(hsone[...,np.newaxis],2,axis=4)\n",
    "print(repped.shape)"
   ]
  },
  {
   "cell_type": "code",
   "execution_count": null,
   "metadata": {},
   "outputs": [],
   "source": [
    "# one real\n",
    "hsmax = np.amax(hsone, axis=(0,1,2))\n",
    "shape = hsone.shape\n",
    "print(shape)\n",
    "newshape = (shape[0]*shape[1]*shape[2], shape[3])\n",
    "print(newshape)\n",
    "hsone = hsone.reshape(newshape) # change hsamp to shape (M-1*Q-1*Z-1, F-1)\n",
    "argmax = np.argmax(hsone, axis=0) # max at each frequency & realization\n",
    "hsone = hsone.reshape(shape) # restore hsamp shape to (M-1, Q-1, Z-1, F-1)\n",
    "print(hsone.shape)\n",
    "mqz = np.array(np.unravel_index(argmax, shape[:-1])) # unravel indices\n",
    "print('mqz', mqz.shape)\n",
    "print(mqz)\n",
    "f_ids = np.linspace(0,len(mqz[0])-1,len(mqz[0])).astype(int) # frequency indices\n",
    "print(np.append(mqz, f_ids))\n",
    "ssnew = np.append(mqz, f_ids).reshape(4,len(f_ids))\n",
    "print('ssnew', ssnew)\n",
    "# print(hsone[ssnew[0], ssnew[1], ssnew[2], ssnew[3]])"
   ]
  },
  {
   "cell_type": "code",
   "execution_count": null,
   "metadata": {},
   "outputs": [],
   "source": [
    "#hsamp for all bins at all realizations\n",
    "\n",
    "#gets max for each frequency and realization\n",
    "max = np.amax(hsamp, axis=(0,1,2))\n",
    "print(max)\n",
    "shape = hsamp.shape\n",
    "print('shape',shape)\n",
    "newshape = (shape[0]*shape[1]*shape[2], shape[3], shape[4])\n",
    "print('newshape', newshape)\n",
    "hsamp = hsamp.reshape(newshape)\n",
    "argmax = np.argmax(hsamp, axis=0)\n",
    "hsamp = hsamp.reshape(shape)\n",
    "\n",
    "# shape (3, F, R)\n",
    "mqz = np.array(np.unravel_index(argmax, shape[:-2])) # unravel indices\n",
    "print('mqz', mqz.shape)\n",
    "\n",
    "\n",
    "# I GOt IT!!!!!\n",
    "# MQZ in shape (3,F,R)\n",
    "# Want to get MQZF in shape (4,F,R)\n",
    "# Need f_ids in shape (1,F,R) to append\n",
    "\n",
    "f_ids = np.linspace(0,len(mqz[0])-1,len(mqz[0])).astype(int) # frequency indices\n",
    "f_ids = np.repeat(f_ids, R).reshape(F,R)[np.newaxis,:]\n",
    "ssnew = np.append(mqz,f_ids, axis=0)\n",
    "print(ssnew, ssnew.shape)"
   ]
  },
  {
   "cell_type": "code",
   "execution_count": null,
   "metadata": {},
   "outputs": [],
   "source": [
    "# print(hsamp[ssnew[0,:,0], ssnew[1,:,0], ssnew[2,:,0], \n",
    "#         ssnew[3,:,0]][...,0])\n",
    "# print(hsamp[ssnew[0,:,1], ssnew[1,:,1], ssnew[2,:,1], \n",
    "#         ssnew[3,:,1]][...,1])\n",
    "print(hsamp.shape)\n",
    "print(ssnew.shape)\n",
    "ampmax=hsamp[ssnew[0,], ssnew[1], ssnew[2], \n",
    "        ssnew[3]].squeeze()\n",
    "ampmax2 = hsamp[tuple(ssnew)]\n",
    "# why does this give me duplicates??\n",
    "print(ampmax.shape)\n",
    "print(ampmax)\n",
    "print(max.shape)\n",
    "print(max)"
   ]
  },
  {
   "attachments": {},
   "cell_type": "markdown",
   "metadata": {},
   "source": [
    "include r indices calculation"
   ]
  },
  {
   "cell_type": "code",
   "execution_count": null,
   "metadata": {},
   "outputs": [],
   "source": [
    "# include also r indices: \n",
    "# Only way to avoid for loops over realizations?\n",
    "#hsamp for all bins at all realizations\n",
    "\n",
    "#gets max for each frequency and realization\n",
    "max = np.amax(hsamp, axis=(0,1,2))\n",
    "print(max)\n",
    "shape = hsamp.shape\n",
    "print('shape',shape)\n",
    "newshape = (shape[0]*shape[1]*shape[2], shape[3], shape[4])\n",
    "print('newshape', newshape)\n",
    "hsamp = hsamp.reshape(newshape)\n",
    "argmax = np.argmax(hsamp, axis=0)\n",
    "hsamp = hsamp.reshape(shape)\n",
    "\n",
    "# shape (3, F, R)\n",
    "mqz = np.array(np.unravel_index(argmax, shape[:-2])) # unravel indices\n",
    "# print('mqz', mqz.shape)\n",
    "\n",
    "# MQZ in shape (3,F,R)\n",
    "# Want to get MQZF in shape (4,F,R)\n",
    "# Need f_ids in shape (1,F,R) to append\n",
    "# Need r_ids in shape (1,F,R) to append\n",
    "R=shape[4]\n",
    "F=shape[3]\n",
    "print('R =', R, 'F =',F)\n",
    "f_ids = np.linspace(0,len(mqz[0])-1,len(mqz[0])).astype(int) # frequency indices\n",
    "f_ids = np.repeat(f_ids, R).reshape(F,R)[np.newaxis,:]\n",
    "r_ids = np.linspace(0,R-1,R).astype(int) # realization indices\n",
    "print(r_ids)\n",
    "r_ids = np.tile(r_ids, F).reshape(F,R)[np.newaxis,:]\n",
    "print(r_ids, r_ids.shape)\n",
    "ssnew = np.append(mqz,f_ids, axis=0)\n",
    "ssnew = np.append(ssnew,r_ids, axis=0)\n",
    "print(ssnew.shape)"
   ]
  },
  {
   "cell_type": "code",
   "execution_count": null,
   "metadata": {},
   "outputs": [],
   "source": [
    "print(max.shape)"
   ]
  },
  {
   "cell_type": "code",
   "execution_count": null,
   "metadata": {},
   "outputs": [],
   "source": [
    "print(hsamp[ssnew[0], ssnew[1], ssnew[2], ssnew[3], ssnew[4]])"
   ]
  },
  {
   "cell_type": "code",
   "execution_count": null,
   "metadata": {},
   "outputs": [],
   "source": [
    "print(ssnew[0,0,0], ssnew[0,0,0].shape)\n",
    "# mass index of all freqs, all reals\n",
    "print(bgnum.shape)\n",
    "print(bgnum[ssnew[0,0,0], ssnew[1,0,0], ssnew[2,0,0], ssnew[3,0,0],0])"
   ]
  },
  {
   "attachments": {},
   "cell_type": "markdown",
   "metadata": {},
   "source": [
    "bgnum"
   ]
  },
  {
   "cell_type": "code",
   "execution_count": null,
   "metadata": {},
   "outputs": [],
   "source": [
    "r=1\n",
    "print(bgnum[...,r], bgnum.shape)\n",
    "print(hsamp.shape)\n",
    "print(hsamp[ssnew[0], ssnew[1], ssnew[2], \n",
    "        ssnew[3],ssnew[4]][...,r])\n",
    "bgnumcop = np.copy(bgnum)\n",
    "# bgnumcop[ssnew[0,:,:], ssnew[1,:,:], ssnew[2,:,:], ssnew[3,:,:]]=9\n",
    "bgnumcop[[ssnew[0], ssnew[1], ssnew[2], ssnew[3], ssnew[4]]]-=1\n",
    "print(bgnumcop[...,r], bgnumcop.shape)"
   ]
  },
  {
   "attachments": {},
   "cell_type": "markdown",
   "metadata": {},
   "source": [
    "old arrs stuff"
   ]
  },
  {
   "cell_type": "code",
   "execution_count": null,
   "metadata": {},
   "outputs": [],
   "source": [
    "arr = np.array([[[1,1], [2,2], [3,3]]])\n",
    "print(arr, arr.shape)\n",
    "app = np.array([[[0], [5], [6]]])\n",
    "print(app, app.shape)\n",
    "res = np.append(arr, app, axis=2)\n",
    "print(res, res.shape)\n",
    "\n",
    "# take shape (a,b,c) and append shape (a,b,d) to get shape (a,b,c+d)"
   ]
  },
  {
   "cell_type": "code",
   "execution_count": null,
   "metadata": {},
   "outputs": [],
   "source": [
    "arr = np.array([[1],[2],[3]])\n",
    "print(arr, arr.shape)\n",
    "app = np.array([[0],[0],[3]])\n",
    "print(app, app.shape)\n",
    "res = np.append(arr, app, axis=1)\n",
    "print(res, res.shape)\n",
    "\n",
    "# take shape (a,b,c) and append shape (a,b,d) to get shape (a,b,c+d)\n",
    "# I have shape (3,5,2) and I want to append ..... \n",
    "# to get shape (4,5,2)"
   ]
  },
  {
   "cell_type": "code",
   "execution_count": null,
   "metadata": {},
   "outputs": [],
   "source": [
    "arr = np.array([[1,2],[3,4]])\n",
    "print(arr, arr.shape)\n",
    "app = np.array([[0,0]])\n",
    "print(app, app.shape)\n",
    "res = np.append(arr, app, axis=0)\n",
    "print(res, res.shape)\n",
    "\n",
    "# take shape (a,b,c) and append shape (a,b,d) to get shape (a,b,c+d)\n",
    "# I have shape (3,5,2) and I want to append ..... \n",
    "# to get shape (4,5,2)"
   ]
  },
  {
   "cell_type": "code",
   "execution_count": null,
   "metadata": {},
   "outputs": [],
   "source": [
    "arr = np.array([[1,2],[3,4]])\n",
    "print(arr, arr.shape)\n",
    "app = np.array([[0],[0]])\n",
    "print(app, app.shape)\n",
    "res = np.append(arr, app, axis=1)\n",
    "print(res, res.shape)\n",
    "\n",
    "# take shape (a,b,c) and append shape (a,b,d) to get shape (a,b,c+d)\n",
    "# I have shape (3,5,2) and I want to append ..... \n",
    "# to get shape (4,5,2)"
   ]
  },
  {
   "cell_type": "code",
   "execution_count": null,
   "metadata": {},
   "outputs": [],
   "source": [
    "arr = np.array([[[1],[2]],[[3],[4]],[[5],[6]]])\n",
    "print(arr, arr.shape)\n",
    "app = np.array([[[0],[0]]])\n",
    "print(app, app.shape)\n",
    "res = np.append(arr, app, axis=0)\n",
    "print(res, res.shape)\n",
    "\n",
    "# take shape (a,b,c) and append shape (a,b,d) to get shape (a,b,c+d)\n",
    "# I have shape (3,5,2) and I want to append ..... \n",
    "# to get shape (4,5,2)"
   ]
  },
  {
   "cell_type": "code",
   "execution_count": null,
   "metadata": {},
   "outputs": [],
   "source": [
    "print(mqz.shape) # mqz is shape (3,5,2) = (3,F,R)\n",
    "# I want to append frequencies to get shape (4,5,2) = (4,F,R)\n",
    "# this means I need my f_indices in shape (1,5,2)\n",
    "print(f_ids.shape)\n",
    "print(f_ids[np.newaxis,:,np.newaxis].shape)\n",
    "print(np.tile(f_ids, (1,2)))\n",
    "print(np.repeat(f_ids, 2).reshape(5,2).shape)"
   ]
  },
  {
   "cell_type": "code",
   "execution_count": null,
   "metadata": {},
   "outputs": [],
   "source": [
    "R = 2\n",
    "F = 5\n",
    "reps = np.repeat(f_ids, R).reshape(F,R)\n",
    "resh = reps[np.newaxis,:]\n",
    "print(resh)\n",
    "print(resh.shape)"
   ]
  },
  {
   "attachments": {},
   "cell_type": "markdown",
   "metadata": {},
   "source": [
    "f appending"
   ]
  },
  {
   "cell_type": "code",
   "execution_count": null,
   "metadata": {},
   "outputs": [],
   "source": [
    "# I GOt IT!!!!!\n",
    "# MQZ in shape (3,F,R)\n",
    "# Want to get MQZF in shape (4,F,R)\n",
    "# Need f_ids in shape (1,F,R) to append\n",
    "\n",
    "f_ids = np.linspace(0,len(mqz[0])-1,len(mqz[0])).astype(int) # frequency indices\n",
    "f_ids = np.repeat(f_ids, R).reshape(F,R)[np.newaxis,:]\n",
    "mqzf = np.append(mqz,f_ids, axis=0)\n",
    "print(mqzf.shape)"
   ]
  },
  {
   "attachments": {},
   "cell_type": "markdown",
   "metadata": {},
   "source": [
    "single realization"
   ]
  },
  {
   "cell_type": "code",
   "execution_count": null,
   "metadata": {},
   "outputs": [],
   "source": [
    "hsamp = np.array([[[[1,0,0,0,0],[0,9,0,0,0],[0,0,0,0,0]]],\n",
    "\n",
    "                 [[[0,0,0,0,0],[0,0,3,0,0],[0,0,0,4,5]]]])[...,np.newaxis]\n",
    "print(hsamp.shape)\n",
    "bgnum = np.full_like(hsamp, 100)\n"
   ]
  },
  {
   "cell_type": "code",
   "execution_count": null,
   "metadata": {},
   "outputs": [],
   "source": [
    "# include also r indices: \n",
    "# Only way to avoid for loops over realizations?\n",
    "#hsamp for all bins at all realizations\n",
    "\n",
    "#gets max for each frequency and realization\n",
    "max = np.amax(hsamp, axis=(0,1,2))\n",
    "print(max)\n",
    "shape = hsamp.shape\n",
    "print('shape',shape)\n",
    "newshape = (shape[0]*shape[1]*shape[2], shape[3], shape[4])\n",
    "print('newshape', newshape)\n",
    "hsamp = hsamp.reshape(newshape)\n",
    "argmax = np.argmax(hsamp, axis=0)\n",
    "hsamp = hsamp.reshape(shape)\n",
    "\n",
    "# shape (3, F, R)\n",
    "mqz = np.array(np.unravel_index(argmax, shape[:-2])) # unravel indices\n",
    "# print('mqz', mqz.shape)\n",
    "\n",
    "# MQZ in shape (3,F,R)\n",
    "# Want to get MQZF in shape (4,F,R)\n",
    "# Need f_ids in shape (1,F,R) to append\n",
    "# Need r_ids in shape (1,F,R) to append\n",
    "R=shape[4]\n",
    "F=shape[3]\n",
    "print('R =', R, 'F =',F)\n",
    "f_ids = np.linspace(0,len(mqz[0])-1,len(mqz[0])).astype(int) # frequency indices\n",
    "f_ids = np.repeat(f_ids, R).reshape(F,R)[np.newaxis,:]\n",
    "print('f_ids',f_ids, f_ids.shape)\n",
    "r_ids = np.linspace(0,R-1,R).astype(int) # realization indices\n",
    "print('r_ids',r_ids,r_ids.shape)\n",
    "r_ids = np.tile(r_ids, F).reshape(F,R)[np.newaxis,:]\n",
    "print(r_ids, r_ids.shape)\n",
    "ssnew = np.append(mqz,f_ids, axis=0)\n",
    "ssnew = np.append(ssnew,r_ids, axis=0)\n",
    "print(ssnew.shape)"
   ]
  },
  {
   "cell_type": "code",
   "execution_count": null,
   "metadata": {},
   "outputs": [],
   "source": [
    "print(ssnew)"
   ]
  },
  {
   "cell_type": "code",
   "execution_count": null,
   "metadata": {},
   "outputs": [],
   "source": [
    "r=0\n",
    "print(bgnum[...,r], bgnum.shape)\n",
    "print(hsamp.shape)\n",
    "print(hsamp[ssnew[0], ssnew[1], ssnew[2], \n",
    "        ssnew[3],ssnew[4]][...,r])\n",
    "bgnumcop = np.copy(bgnum)\n",
    "# bgnumcop[ssnew[0,:,:], ssnew[1,:,:], ssnew[2,:,:], ssnew[3,:,:]]=9\n",
    "bgnumcop[[ssnew[0], ssnew[1], ssnew[2], ssnew[3], ssnew[4]]]-=1\n",
    "print(bgnumcop, bgnumcop.shape)"
   ]
  },
  {
   "attachments": {},
   "cell_type": "markdown",
   "metadata": {},
   "source": [
    "# From ss_real_dev 3/10"
   ]
  },
  {
   "cell_type": "markdown",
   "metadata": {},
   "source": [
    "## Scratch"
   ]
  },
  {
   "cell_type": "markdown",
   "metadata": {},
   "source": [
    "grid:\n",
    "\n",
    "1x  |  xx  |  xx  |  xx  |  xx \\\n",
    "xx  |  9x  |  x3  |  xx  |  xx \\\n",
    "xx  |  xx  |  xx  |  x4  |  x5 "
   ]
  },
  {
   "cell_type": "code",
   "execution_count": null,
   "metadata": {},
   "outputs": [],
   "source": [
    "grid = np.array([[[[1,0,0,0,0],[0,9,0,0,0],[0,0,0,0,0]]],\n",
    "                 [[[0,0,0,0,0],[0,0,3,0,0],[0,0,0,4,5]]]])\n",
    "print(grid.shape)\n",
    "mqz_f, f_mqz, all_f, f_all= max_index_at_f(grid)\n",
    "print('mqz_f:\\n',mqz_f)\n",
    "print('\\nf_mqz:\\n', f_mqz)\n",
    "print('\\nall_f:\\n', all_f)\n",
    "print('\\nf_all:\\n', f_all)"
   ]
  },
  {
   "cell_type": "code",
   "execution_count": null,
   "metadata": {},
   "outputs": [],
   "source": [
    "maxes = np.amax(grid, axis=(0,1,2))\n",
    "print(maxes)\n",
    "\n",
    "hsmax = np.amax(grid, axis=(0,1,2)) #find max hs at each frequency\n",
    "    \n",
    "    #### 2) Record the indices and strain of that single source\n",
    "\n",
    "# --- Indices of Loudest Bin ---\n",
    "# Shape [F, 4], looks like\n",
    "# [[m_idx,q_idx,z_idx,0],\n",
    "#  [m_idx,q_idx,z_idx,1],\n",
    "#   ........\n",
    "#  [m_idx,q_idx,z_idx,F-2]]\n",
    "ssidx = np.argwhere(grid==hsmax) \n",
    "for s in range(len(ssidx)):\n",
    "    m,q,z,f = ssidx[s]\n",
    "    print(m,q,z,f, 'grid max:',grid[m,q,z,f])\n",
    "print(ssidx)"
   ]
  },
  {
   "cell_type": "markdown",
   "metadata": {},
   "source": [
    "grid: argwhere vs where"
   ]
  },
  {
   "cell_type": "code",
   "execution_count": null,
   "metadata": {},
   "outputs": [],
   "source": [
    "where = np.where(grid==hsmax)\n",
    "where_arr = np.array([*where])\n",
    "argwhere = np.argwhere(grid==hsmax)\n",
    "print('where:\\n', where)\n",
    "print('np.where unpacked and put in numpy array\\n', where_arr)\n",
    "print('argwhere:\\n', argwhere)\n",
    "print('first point', argwhere[0,:], where_arr[:,0])\n",
    "for f in range(len(argwhere)):\n",
    "    print('f: by np.array[*where][:,f]', where_arr[:,f],  \n",
    "          'or by argwhere[f,:]', argwhere[f,:])"
   ]
  },
  {
   "cell_type": "markdown",
   "metadata": {},
   "source": [
    "grid: using reshape"
   ]
  },
  {
   "cell_type": "code",
   "execution_count": null,
   "metadata": {},
   "outputs": [],
   "source": [
    "shape = grid.shape\n",
    "print(shape)\n",
    "print(grid)\n",
    "grid = grid.reshape(6,5)\n",
    "print(grid.shape)\n",
    "print(grid)\n",
    "grid = grid.reshape(shape)\n",
    "print(grid.shape)\n",
    "print(grid)"
   ]
  },
  {
   "cell_type": "code",
   "execution_count": null,
   "metadata": {},
   "outputs": [],
   "source": [
    "shape = (2,1,3,5)\n",
    "print(shape[:-1])\n",
    "grid = grid.reshape(shape)\n",
    "# print('grid:', grid.shape,'\\n', grid)\n",
    "grid = grid.reshape(6,5)\n",
    "print('grid:', grid.shape,'\\n', grid)\n",
    "# print('grid[4,2]', grid[4,2])\n",
    "\n",
    "argmax0 = np.argmax(grid,axis=0)\n",
    "# argmax1 = np.argmax(grid,axis=1)\n",
    "# unraveledargmax = np.unravel_index(argmax, grid.shape)\n",
    "print('argmax0:', argmax0.shape, argmax0)\n",
    "for i in range(len(grid[0])):\n",
    "    print('argmax[i]=',argmax0[i], \n",
    "          'i=', i, \n",
    "          'grid[argmax[i], i]] =', grid[argmax0[i], i])\n",
    "# print('argmax1:', argmax1.shape, argmax1)\n",
    "\n",
    "# print('unraveled:', unraveledargmax)\n",
    "# print('max at argmax:', grid[:,argmax])\n",
    "# argidx = np.unravel_index(argmax, grid.shape)\n",
    "print('grid[argmax,:]\\n', grid[argmax0,:])\n",
    "# print('grid[:,argmax]\\n', grid[:,argmax0])\n",
    "grid = grid.reshape(shape)\n",
    "unraveled = np.unravel_index(argmax0, shape[:-1])\n",
    "print('unraveled', len(unraveled), unraveled[0].shape, unraveled)\n",
    "for i in range(len(grid[0,0,0,:])):\n",
    "    m,q,z= unraveled[0][i], unraveled[1][i], unraveled[2][i] #, unraveled[3][i]\n",
    "    print('unraveled[:,i] m,q,z,f = ', m,q,z,i)\n",
    "    print(grid[m,q,z,i])\n",
    "    # print('argmax[i]=',argmax0[i], \n",
    "    #       'i=', i, \n",
    "    #       'grid[argmax[i], i]] =', grid[n,q,z, i])\n",
    "\n",
    "# print('grid:', grid.shape,'\\n', grid)\n",
    "\n"
   ]
  },
  {
   "cell_type": "markdown",
   "metadata": {},
   "source": [
    "figured out how to use my faster mqz indexing to get maxes from grid, with fancy indexing"
   ]
  },
  {
   "cell_type": "code",
   "execution_count": null,
   "metadata": {},
   "outputs": [],
   "source": [
    "mqz = reshaped_argmax_at_f(grid)\n",
    "print(mqz)\n",
    "mqzf = mqzf_from_mqz(mqz, True)\n",
    "print(mqzf)"
   ]
  },
  {
   "cell_type": "code",
   "execution_count": null,
   "metadata": {},
   "outputs": [],
   "source": [
    "testarr = np.array([[0,0],[-1,-2],[3,4]])\n",
    "print(testarr)\n",
    "sorted = np.sort(testarr, axis=0)\n",
    "print(sorted)"
   ]
  },
  {
   "attachments": {},
   "cell_type": "markdown",
   "metadata": {},
   "source": [
    "sort over all M,q,z for each individual F and R\n",
    "np.sort( axis?)\n",
    "\n",
    "* keep F and R indices separated"
   ]
  },
  {
   "cell_type": "code",
   "execution_count": null,
   "metadata": {},
   "outputs": [],
   "source": [
    "faster = faster_mqzf_from_mqz(mqz, False)\n",
    "print('faster:', faster)\n",
    "print(grid.shape)\n",
    "print('1st max at m,q,z,f = 0,0,0,0:', grid[0,0,0,0])\n",
    "print('2nd max at m,q,z,f = 0,0,1,1:', grid[0,0,1,1])\n",
    "print('3rd max at m,q,z,f = 1,0,1,2:', grid[1,0,1,2])\n",
    "print('4th max at m,q,z,f = 1,0,2,3:', grid[1,0,2,3])\n",
    "print('5th max at m,q,z,f = 1,0,2,4:', grid[1,0,2,4])\n",
    "print(grid[[0,0,1,1,1], [0,0,0,0,0], [0,1,1,2,2], [0,1,2,3,4]])\n",
    "fancy = [0,0,1,1,1], [0,0,0,0,0], [0,1,1,2,2], [0,1,2,3,4]\n",
    "print('grid[fancy] =',grid[fancy])\n",
    "print('fancy:', fancy)\n",
    "print(grid[faster[0], faster[1], faster[2], faster[3]]) # this gives maxes!!! \n",
    "\n",
    "# listed = (faster[0], faster[1], faster[2], faster[3])\n",
    "# print(listed)\n"
   ]
  },
  {
   "cell_type": "markdown",
   "metadata": {},
   "source": [
    "using reshaped argmax, and mqzf to mqz methods"
   ]
  },
  {
   "cell_type": "code",
   "execution_count": null,
   "metadata": {},
   "outputs": [],
   "source": [
    "# this is what mqz looks like\n",
    "# all [[M indices], [q indices], [z indices]] in shape (3,F)\n",
    "arr = np.array([[1,2,3,4,5], [10,20,30,40,50], [100,200,300,400,500]])\n",
    "print(np.array(arr).shape)\n",
    "# Here are the F indices\n",
    "indices = np.array([0,1,2,3,4])\n",
    "\n",
    "# I'd like to get this in the shape (4,F):\n",
    "# [array of M indices, array of q indices, array of z indices]\n",
    "newarr = np.append(arr,indices).reshape(4,len(indices))\n",
    "print(newarr)"
   ]
  },
  {
   "cell_type": "markdown",
   "metadata": {},
   "source": [
    "apply to example 3"
   ]
  },
  {
   "cell_type": "code",
   "execution_count": null,
   "metadata": {},
   "outputs": [],
   "source": [
    "edges, number, fobs, exname = example2(print_test=False)\n",
    "hc_bg, hc_ss, hsamp, ssidx, hsmax, bgnum, ssnew = ss_by_ndars(edges, number, realize=False, round=True)\n",
    "# print(holo.utils.stats(hsamp))\n",
    "np.set_printoptions(precision=2)\n",
    "print('hsamp\\n', hsamp)\n",
    "print('hsmax', hsmax)\n",
    "shape = hsamp.shape\n",
    "\n"
   ]
  },
  {
   "cell_type": "code",
   "execution_count": null,
   "metadata": {},
   "outputs": [],
   "source": [
    "print('old hsamp', hsamp.shape, '\\n', hsamp)\n",
    "\n",
    "newshape = (shape[0]*shape[1]*shape[2], shape[3])\n",
    "hsamp = hsamp.reshape(newshape)\n",
    "print('new hsamp', hsamp.shape, '\\n', hsamp)\n",
    "argmax = np.argmax(hsamp, axis=0)\n",
    "print('argmax', argmax)\n",
    "\n",
    "\n",
    "hsamp = hsamp.reshape(shape)\n",
    "print('m,q,z shape:', shape[:-1])\n",
    "maxidx = np.unravel_index(argmax, shape[:-1])\n",
    "\n",
    "for i in range(len(hsamp[0,0,0,:])):\n",
    "    m,q,z= maxidx[0][i], maxidx[1][i], maxidx[2][i] #, unraveled[3][i]\n",
    "    print('unraveled[:,i] m,q,z,f = ', m,q,z,i)\n",
    "    print(hsamp[m,q,z,i], hsmax[i])\n"
   ]
  },
  {
   "cell_type": "code",
   "execution_count": null,
   "metadata": {},
   "outputs": [],
   "source": [
    "# am = (np.argmax(hsamp[3,3,:,4]))\n",
    "# print(hsamp[3,3,:,4])\n",
    "# print(hsamp[3,3,am,4])"
   ]
  },
  {
   "cell_type": "code",
   "execution_count": null,
   "metadata": {},
   "outputs": [],
   "source": [
    "# mqz_f, f_mqz, all_f, f_all= max_index_at_f(grid)\n",
    "# argwhere = argwhere_at_f(grid)\n",
    "# print(argwhere)\n",
    "# assert (np.all(f_all == argwhere)), 'argwhere failing to find maxes'"
   ]
  },
  {
   "cell_type": "code",
   "execution_count": null,
   "metadata": {},
   "outputs": [],
   "source": [
    "# for i in range(len(grid[0,0,0,:])):\n",
    "#     m,q,z,f = argwhere[i]\n",
    "#     print(m,q,z,f, 'max:', grid[m,q,z,f])"
   ]
  },
  {
   "cell_type": "code",
   "execution_count": null,
   "metadata": {},
   "outputs": [],
   "source": [
    "# grid = np.array([[[[1,0,0,0,0],[0,2,0,0,0],[0,0,0,0,0]]],\n",
    "#                  [[[0,0,0,0,0],[0,0,3,0,0],[0,0,0,4,5]]]])\n",
    "# maxes = np.max(grid, axis=(0,1,2))\n",
    "# # print('grid:', grid.shape, '\\n', grid)\n",
    "# # print('maxes', maxes.shape, '\\n', maxes)\n",
    "# where = np.where(grid==maxes)\n",
    "# print('where: len=', len(where), 'with shapes=', where[0].shape, where[1].shape, where[2].shape,\n",
    "#       where[3].shape, '\\n', where)\n",
    "# print('max by where:', grid[np.where(maxes==grid)])\n",
    "# print()\n",
    "# argmax = np.argmax(grid)\n",
    "# m,q,z,f = np.unravel_index(np.argmax(grid), grid.shape)\n",
    "# print('m:',m, '\\nq:',q, '\\nz:',z, '\\nf:',f)\n",
    "# print('argmaxes:', argmax.shape, '\\n', argmax)"
   ]
  },
  {
   "cell_type": "code",
   "execution_count": null,
   "metadata": {},
   "outputs": [],
   "source": [
    "# idxs = np.argwhere(arr==maxes)\n",
    "# print('idxs', idxs.shape,'\\n', idxs)\n",
    "# rots = np.rot90(idxs)\n",
    "# print('rots', rots.shape, '\\n', rots)\n",
    "# print(idxs[0])\n",
    "# for i in [0,1]:\n",
    "#     print(arr[idxs[i,0], idxs[i,1], idxs[i,2]])\n",
    "# for i in [0,1]:\n",
    "#     # print(arr[rots[0,i], rots[1,i], rots[2,i]])\n",
    "#     print(arr[rots[2,i], rots[1,i], rots[0,i]])\n",
    "# # the rot situation is trickier, just use\n",
    "# # idxs = np.argwhere(arr==maxes)\n",
    "# # returns (2,3) array\n",
    "# # or (f, 4) array?\n"
   ]
  },
  {
   "attachments": {},
   "cell_type": "markdown",
   "metadata": {},
   "source": [
    "# Cython\n"
   ]
  },
  {
   "cell_type": "code",
   "execution_count": null,
   "metadata": {},
   "outputs": [],
   "source": [
    "# %load ../init.ipy\n",
    "%reload_ext autoreload\n",
    "%autoreload 2\n",
    "from importlib import reload\n",
    "\n",
    "import holodeck as holo\n",
    "import holodeck.single_sources as ss\n",
    "import holodeck.cyutils as cy\n",
    "\n",
    "reload(cy) # not working :/\n",
    "reload(ss)"
   ]
  },
  {
   "cell_type": "markdown",
   "metadata": {},
   "source": [
    "Using SS's"
   ]
  },
  {
   "cell_type": "code",
   "execution_count": null,
   "metadata": {},
   "outputs": [],
   "source": [
    "edges, number, fobs, exname = ss.example2(print_test=False)\n",
    "h2fdf = ss.h2fdf(edges)"
   ]
  },
  {
   "cell_type": "code",
   "execution_count": null,
   "metadata": {},
   "outputs": [],
   "source": [
    "hc_ss, hc_bg, ssidx = cy.ss_bg_hc(number, h2fdf, 2)"
   ]
  },
  {
   "attachments": {},
   "cell_type": "markdown",
   "metadata": {},
   "source": [
    "## Compare to non cython results"
   ]
  },
  {
   "cell_type": "code",
   "execution_count": null,
   "metadata": {},
   "outputs": [],
   "source": []
  },
  {
   "attachments": {},
   "cell_type": "markdown",
   "metadata": {},
   "source": [
    "Basic Tests Cython"
   ]
  },
  {
   "cell_type": "code",
   "execution_count": null,
   "metadata": {},
   "outputs": [],
   "source": [
    "cy.test_long_array(5)"
   ]
  },
  {
   "cell_type": "code",
   "execution_count": null,
   "metadata": {},
   "outputs": [],
   "source": [
    "arr1, arr2 = cy.test_multiple_arrays()"
   ]
  },
  {
   "cell_type": "code",
   "execution_count": null,
   "metadata": {},
   "outputs": [],
   "source": [
    "arr = cy.test_2darray()"
   ]
  },
  {
   "cell_type": "code",
   "execution_count": null,
   "metadata": {},
   "outputs": [],
   "source": [
    "arr = cy.test_1darray()\n",
    "print(arr)"
   ]
  },
  {
   "cell_type": "code",
   "execution_count": null,
   "metadata": {},
   "outputs": [],
   "source": [
    "import holodeck.single_sources as ss"
   ]
  },
  {
   "cell_type": "code",
   "execution_count": null,
   "metadata": {},
   "outputs": [],
   "source": [
    "edges, number, fobs, exname = ss.example3(print_test=False)"
   ]
  },
  {
   "attachments": {},
   "cell_type": "markdown",
   "metadata": {},
   "source": [
    "### Check ssidx match"
   ]
  },
  {
   "cell_type": "code",
   "execution_count": null,
   "metadata": {},
   "outputs": [],
   "source": [
    "hc_bg, hc_ss, hsamp, ssidx, hsmax, bgnum = ss.ss_by_ndars(edges, number, False, round=True)"
   ]
  },
  {
   "cell_type": "code",
   "execution_count": null,
   "metadata": {},
   "outputs": [],
   "source": [
    "bg_c, ss_c, idx_c, amp_c = ss.ss_by_cdefs(edges, number, False, round=True)"
   ]
  },
  {
   "cell_type": "code",
   "execution_count": null,
   "metadata": {},
   "outputs": [],
   "source": [
    "print(ssidx.squeeze())"
   ]
  },
  {
   "cell_type": "code",
   "execution_count": null,
   "metadata": {},
   "outputs": [],
   "source": [
    "hc_bg_, hc_ss_l, hsamp_l, ssidx_l, hsmax_l, bgnum_l = ss.ss_by_loops(edges, number, False, round=True)"
   ]
  },
  {
   "cell_type": "code",
   "execution_count": null,
   "metadata": {},
   "outputs": [],
   "source": [
    "print(ssidx_l.squeeze())"
   ]
  },
  {
   "cell_type": "code",
   "execution_count": null,
   "metadata": {},
   "outputs": [],
   "source": [
    "print(hsamp[...,0],amp)"
   ]
  },
  {
   "cell_type": "code",
   "execution_count": null,
   "metadata": {},
   "outputs": [],
   "source": [
    "print(holo.utils.stats(ssidx))\n",
    "print(holo.utils.stats(idx))"
   ]
  },
  {
   "cell_type": "code",
   "execution_count": null,
   "metadata": {},
   "outputs": [],
   "source": [
    "print(hc_ss.shape)"
   ]
  },
  {
   "cell_type": "code",
   "execution_count": null,
   "metadata": {},
   "outputs": [],
   "source": [
    "marr, qarr, zarr, farr = ss.parameters_from_indices(edges, ssidx2)"
   ]
  },
  {
   "cell_type": "code",
   "execution_count": null,
   "metadata": {},
   "outputs": [],
   "source": [
    "print(marr)"
   ]
  },
  {
   "cell_type": "code",
   "execution_count": null,
   "metadata": {},
   "outputs": [],
   "source": [
    "print(ssidx)"
   ]
  },
  {
   "cell_type": "code",
   "execution_count": null,
   "metadata": {},
   "outputs": [],
   "source": [
    "print(qarr)"
   ]
  },
  {
   "cell_type": "code",
   "execution_count": null,
   "metadata": {},
   "outputs": [],
   "source": [
    "plt.plot(np.arange(len(marr)), marr)"
   ]
  },
  {
   "cell_type": "code",
   "execution_count": null,
   "metadata": {},
   "outputs": [],
   "source": [
    "plt.plot(fobs, hc_ss[:,0])"
   ]
  },
  {
   "cell_type": "code",
   "execution_count": null,
   "metadata": {},
   "outputs": [],
   "source": [
    "print(hc_ss.shape)"
   ]
  },
  {
   "cell_type": "code",
   "execution_count": null,
   "metadata": {},
   "outputs": [],
   "source": [
    "hsamp = amp\n",
    "print(hsamp)"
   ]
  },
  {
   "cell_type": "code",
   "execution_count": null,
   "metadata": {},
   "outputs": [],
   "source": [
    "temp = np.copy(hsamp)\n"
   ]
  },
  {
   "cell_type": "code",
   "execution_count": null,
   "metadata": {},
   "outputs": [],
   "source": [
    "hsamp=amp\n",
    "print(hsamp.shape)\n",
    "print(hsamp)"
   ]
  },
  {
   "cell_type": "code",
   "execution_count": null,
   "metadata": {},
   "outputs": [],
   "source": [
    "shape = hsamp.shape\n",
    "newshape = (shape[0]*shape[1]*shape[2], shape[3])\n",
    "hsamp = hsamp.reshape(newshape) # change hsamp to shape (M*Q*Z, F)\n",
    "argmax = np.argmax(hsamp, axis=0) # max at each frequency\n",
    "hsamp = hsamp.reshape(shape) # restore hsamp shape to (M, Q, Z, F)\n",
    "ssidx3 = np.array(np.unravel_index(argmax, shape[:-1])) # unravel indices\n"
   ]
  },
  {
   "cell_type": "code",
   "execution_count": null,
   "metadata": {},
   "outputs": [],
   "source": [
    "print(ssidx3)"
   ]
  },
  {
   "cell_type": "code",
   "execution_count": null,
   "metadata": {},
   "outputs": [],
   "source": [
    "print(hsamp[tuple(ssidx)])"
   ]
  },
  {
   "attachments": {},
   "cell_type": "markdown",
   "metadata": {},
   "source": [
    "# Timing. What data to store?"
   ]
  },
  {
   "cell_type": "code",
   "execution_count": null,
   "metadata": {},
   "outputs": [],
   "source": [
    "%timeit edges, number, fobs, fname = ss.example5()"
   ]
  },
  {
   "cell_type": "code",
   "execution_count": null,
   "metadata": {},
   "outputs": [],
   "source": [
    "import holodeck as holo\n",
    "from holodeck.constants import YR, MSOL"
   ]
  },
  {
   "cell_type": "code",
   "execution_count": null,
   "metadata": {},
   "outputs": [],
   "source": [
    "dur = 10.0*YR\n",
    "cad = .2*YR\n",
    "%timeit edges, number, fobs = ss.example(dur, cad, mtot=None, mrat=None, redz=None, print_test=False)"
   ]
  },
  {
   "cell_type": "code",
   "execution_count": null,
   "metadata": {},
   "outputs": [],
   "source": [
    "%timeit ss.h2fdf(edges)"
   ]
  },
  {
   "cell_type": "code",
   "execution_count": null,
   "metadata": {},
   "outputs": [],
   "source": [
    "h2fdf = ss.h2fdf(edges)\n",
    "%timeit cy.ss_bg_hc(number, h2fdf, 30)"
   ]
  },
  {
   "cell_type": "code",
   "execution_count": null,
   "metadata": {},
   "outputs": [],
   "source": [
    "hc_ss, hc_bg, ssidx, hsamp = ss.ss_by_cdefs(edges, number, 30)"
   ]
  },
  {
   "cell_type": "code",
   "execution_count": null,
   "metadata": {},
   "outputs": [],
   "source": [
    "%timeit hc_ss, hc_bg, ssidx, hsamp = ss.ss_by_cdefs(edges, number, 30)"
   ]
  },
  {
   "cell_type": "code",
   "execution_count": null,
   "metadata": {},
   "outputs": [],
   "source": [
    "%timeit marr, qarr, zarr, farr = ss.parameters_from_indices(edges, ssidx)\n",
    "marr, qarr, zarr, farr = ss.parameters_from_indices(edges, ssidx)"
   ]
  },
  {
   "attachments": {},
   "cell_type": "markdown",
   "metadata": {},
   "source": [
    "function to calculate effective parameters"
   ]
  },
  {
   "cell_type": "code",
   "execution_count": null,
   "metadata": {},
   "outputs": [],
   "source": [
    "print(hc_ss.shape)"
   ]
  },
  {
   "cell_type": "code",
   "execution_count": null,
   "metadata": {},
   "outputs": [],
   "source": [
    "print(marr.shape)\n",
    "print(np.average(marr, axis=1, weights=hc_ss))"
   ]
  },
  {
   "cell_type": "code",
   "execution_count": null,
   "metadata": {},
   "outputs": [],
   "source": [
    "def effective_paramater(arr, hc_ss):\n",
    "    \"\"\" \n",
    "    Calculate the average effective binary parameter, given the \n",
    "    \"\"\"\n",
    "    eff = np.average(arr, axis=1, weights=hc_ss**2)\n",
    "    return eff"
   ]
  },
  {
   "attachments": {},
   "cell_type": "markdown",
   "metadata": {},
   "source": [
    "# Parameters in cython"
   ]
  },
  {
   "cell_type": "code",
   "execution_count": null,
   "metadata": {},
   "outputs": [],
   "source": [
    "import kalepy as kale\n",
    "import holodeck.cyutils as cy\n",
    "import holodeck.single_sources as ss\n",
    "\n",
    "edges, number, fobs, exname = ss.example5()\n",
    "h2fdf = ss.h2fdf(edges)\n",
    "mt = kale.utils.midpoints(edges[0]) #: total mass\n",
    "mr = kale.utils.midpoints(edges[1]) #: mass ratio\n",
    "rz = kale.utils.midpoints(edges[2]) #: redshift"
   ]
  },
  {
   "cell_type": "code",
   "execution_count": null,
   "metadata": {},
   "outputs": [],
   "source": [
    "hc_ss, hc_bg, ssidx, bgpar, sspar = cy.ss_bg_hc_and_par(number, h2fdf, 30, mt, mr, rz)"
   ]
  },
  {
   "cell_type": "code",
   "execution_count": null,
   "metadata": {},
   "outputs": [],
   "source": [
    "print(sspar[:,0,0])\n",
    "print(bgpar[:,0,0])"
   ]
  },
  {
   "cell_type": "code",
   "execution_count": null,
   "metadata": {},
   "outputs": [],
   "source": [
    "print(mt[ssidx[0,0,0]], mr[ssidx[1,0,0]], rz[ssidx[2,0,0]])"
   ]
  },
  {
   "cell_type": "code",
   "execution_count": null,
   "metadata": {},
   "outputs": [],
   "source": [
    "%timeit hc_ss, hc_bg, ssidx, bgpar, sspar = cy.ss_bg_hc_and_par(number, h2fdf, 30, mt, mr, rz)"
   ]
  },
  {
   "cell_type": "code",
   "execution_count": null,
   "metadata": {},
   "outputs": [],
   "source": [
    "%timeit hc_ss, hc_bg, ssidx, hsamp, bgpar, sspar = ss.ss_by_cdefs(edges, number, 30, params=True)"
   ]
  },
  {
   "cell_type": "code",
   "execution_count": null,
   "metadata": {},
   "outputs": [],
   "source": [
    "%timeit hc_ss, hc_bg, ssidx, hsamp = ss.ss_by_cdefs(edges, number, 30)"
   ]
  },
  {
   "cell_type": "code",
   "execution_count": null,
   "metadata": {},
   "outputs": [],
   "source": [
    "edges, number, fobs, exname = ss.example2()"
   ]
  },
  {
   "cell_type": "code",
   "execution_count": null,
   "metadata": {},
   "outputs": [],
   "source": [
    "hc_bg, hc_ss, hsamp, ssidx, hsmax, bgnum = ss.ss_by_ndars(edges, number, realize=2)"
   ]
  },
  {
   "cell_type": "code",
   "execution_count": null,
   "metadata": {},
   "outputs": [],
   "source": [
    "print(bgnum[:,:,:,2,0])\n",
    "print(bgnum.shape)\n",
    "together = np.array([hsamp, bgnum])\n",
    "print(together.shape)\n",
    "shape = together.shape\n",
    "together = together.reshape((shape[0], shape[1]*shape[2]*shape[3], shape[4], shape[5]))\n",
    "print(together.shape)\n",
    "print(together[:,:,2,0])\n",
    "sorted = np.sort(together, axis=1)\n",
    "print('together\\n', together[:,:,2,0])\n",
    "print('hsort', hsort[:,2,0])\n",
    "print('bgnum', bgnum.reshape((2*1*3, 5, 2))[:,2,0])\n",
    "print('sorted hsort', np.sort(hsort, axis=0)[:,2,0])\n",
    "print('sorted together\\n', sorted[:,:,2,0])"
   ]
  },
  {
   "cell_type": "code",
   "execution_count": null,
   "metadata": {},
   "outputs": [],
   "source": [
    "np.set_printoptions(precision=2)\n",
    "print(hsamp.shape)\n",
    "print(hsamp[:,:,:,2,0]) #0th realization, 2nd frequency\n",
    "shape = hsamp.shape\n",
    "hsort = hsamp.reshape(shape[0]*shape[1]*shape[2], shape[3], shape[4])\n",
    "print(hsort[:,2,0])\n",
    "print(np.sort(hsort, axis=0)[:,2,0])"
   ]
  },
  {
   "cell_type": "code",
   "execution_count": null,
   "metadata": {},
   "outputs": [],
   "source": [
    "# shape (M, Q, F)\n",
    "# sort over any M and Q for each individual F\n",
    "# first frequency: m1,q1,f1 = 5; m1q2,f1 = 4, m2q1,f1 = 6, m2q2,f1 = 3\n",
    "# second frequency: m1,q1,f2 = 20, m1q2f2 = 35, m2q1f2 = 10, m2q2f2 = 11\n",
    "# order by first all frequencies of m1 q1, then all q1s for m1, \n",
    "test = np.array([[[5,20], [4,35]], [[6,10], [3,11]]])\n",
    "goal = np.array([[3, 4, 5, 6], [10,11,20,35]])\n",
    "print(test)\n",
    "print(test.reshape((2*2, 2)))\n",
    "print(np.sort(test.reshape(2*2, 2), axis=0))\n",
    "# print(np.sort(test, axis=0))\n",
    "# print(goal)"
   ]
  },
  {
   "cell_type": "code",
   "execution_count": null,
   "metadata": {},
   "outputs": [],
   "source": [
    "print(grid)"
   ]
  },
  {
   "cell_type": "code",
   "execution_count": null,
   "metadata": {},
   "outputs": [],
   "source": [
    "print(hsamp[])"
   ]
  },
  {
   "attachments": {},
   "cell_type": "markdown",
   "metadata": {},
   "source": [
    "## Cython sorting"
   ]
  },
  {
   "cell_type": "code",
   "execution_count": null,
   "metadata": {},
   "outputs": [],
   "source": [
    "import holodeck.cyutils as cc\n",
    "import numpy as np\n",
    "import holodeck as holo\n",
    "import holodeck.single_sources as ss"
   ]
  },
  {
   "attachments": {},
   "cell_type": "markdown",
   "metadata": {},
   "source": [
    "meshgrid, defining random h2fdf and bgnum"
   ]
  },
  {
   "cell_type": "code",
   "execution_count": null,
   "metadata": {},
   "outputs": [],
   "source": [
    "M = 2\n",
    "Q = 1\n",
    "Z = 3\n",
    "F = 2\n",
    "h2fdf = np.zeros((M,Q,Z,F))\n",
    "bgnum = np.zeros((M,Q,Z,F))\n",
    "mqz = np.zeros((3,M,Q,Z))\n",
    "for mm in range(M):\n",
    "    for qq in range(Q):\n",
    "        for zz in range(Z):\n",
    "            mqz[0,mm,qq,zz] = mm\n",
    "            mqz[1,mm,qq,zz] = qq\n",
    "            mqz[2,mm,qq,zz] = zz\n",
    "            for ff in range(F):\n",
    "                h2fdf[mm,qq,zz,ff] = np.random.uniform(1,10)\n",
    "                bgnum[mm,qq,zz,ff] = int(np.random.uniform(0,5))\n",
    "                \n",
    "print(h2fdf)\n",
    "print(bgnum)\n",
    "m_i = np.arange(M) \n",
    "q_i = np.arange(Q)\n",
    "z_i = np.arange(Z)\n",
    "m_idx, q_idx, z_idx = np.meshgrid(m_i, q_i, z_i, indexing='ij')"
   ]
  },
  {
   "cell_type": "code",
   "execution_count": null,
   "metadata": {},
   "outputs": [],
   "source": [
    "print(mqz[0,:,:,:] == m_idx)\n",
    "print(mqz[1,:,:] == q_idx)\n",
    "print(mqz[2,:,:]==z_idx)\n",
    "print(np.all(mqz==np.array([m_idx, q_idx, z_idx])))\n",
    "# meshgrid for indeing works!"
   ]
  },
  {
   "cell_type": "code",
   "execution_count": null,
   "metadata": {},
   "outputs": [],
   "source": [
    "cc.sort_h2fdf(h2fdf)"
   ]
  },
  {
   "cell_type": "code",
   "execution_count": null,
   "metadata": {},
   "outputs": [],
   "source": [
    "copy = np.copy(h2fdf.reshape(M,Q,Z,F))\n",
    "h2fdf = h2fdf.reshape(M*Q*Z, F)\n",
    "\n",
    "bgnum = bgnum.reshape(M*Q*Z, F)\n",
    "m_idx = m_idx.reshape(M*Q*Z)\n",
    "q_idx = q_idx.reshape(M*Q*Z)\n",
    "z_idx = z_idx.reshape(M*Q*Z)\n",
    "\n",
    "indices = np.argsort(-h2fdf, axis=0)\n",
    "print(indices.shape)\n",
    "print(h2fdf.shape)\n",
    "for ff in range(len(h2fdf[0])):\n",
    "    print('\\nff =', ff)\n",
    "    for hh in range(len(h2fdf)):\n",
    "        ii = indices[hh,ff]\n",
    "        mm = m_idx[ii]\n",
    "        qq = q_idx[ii]\n",
    "        zz = z_idx[ii]\n",
    "        print(h2fdf[ii,ff],copy[mm,qq,zz,ff])\n",
    "        print(mm,qq,zz, np.unravel_index(ii, (M,Q,Z)))\n",
    "        "
   ]
  },
  {
   "cell_type": "code",
   "execution_count": null,
   "metadata": {},
   "outputs": [],
   "source": [
    "unraveled = np.array(np.unravel_index(indices, (M,Q,Z)))\n",
    "print((unraveled).shape)\n",
    "msort = unraveled[0,:,:]\n",
    "qsort = unraveled[1,:,:]\n",
    "zsort = unraveled[2,:,:]\n",
    "print(msort.shape)"
   ]
  },
  {
   "cell_type": "code",
   "execution_count": null,
   "metadata": {},
   "outputs": [],
   "source": [
    "print(h2fdf.shape)"
   ]
  },
  {
   "cell_type": "code",
   "execution_count": null,
   "metadata": {},
   "outputs": [],
   "source": [
    "for ff in range(len(h2fdf[0])):\n",
    "    print('\\nff =', ff)\n",
    "    for hh in range(len(h2fdf)):\n",
    "        ii = indices[hh,ff]\n",
    "        mm = m_idx[ii]\n",
    "        qq = q_idx[ii]\n",
    "        zz = z_idx[ii]\n",
    "        print(h2fdf[ii,ff],copy[mm,qq,zz,ff])\n",
    "        print(mm,qq,zz, np.unravel_index(ii, (M,Q,Z)), msort[hh,ff], qsort[hh,ff], zsort[hh,ff])"
   ]
  },
  {
   "attachments": {},
   "cell_type": "markdown",
   "metadata": {},
   "source": [
    "pass cython \n",
    "h2fdf [MxQxZ, F]\n",
    "sorted [MxQxZ, F] (argsort)\n",
    "edges [M,Q,Z,F]\n",
    "sorted []"
   ]
  },
  {
   "cell_type": "code",
   "execution_count": null,
   "metadata": {},
   "outputs": [],
   "source": [
    "# summary so far:\n",
    "# setup random example h2fdf\n",
    "M = 2\n",
    "Q = 1\n",
    "Z = 3\n",
    "F = 2\n",
    "h2fdf = np.zeros((M,Q,Z,F))\n",
    "bgnum = np.zeros((M,Q,Z,F))\n",
    "for mm in range(M):\n",
    "    for qq in range(Q):\n",
    "        for zz in range(Z):\n",
    "            for ff in range(F):\n",
    "                h2fdf[mm,qq,zz,ff] = np.random.uniform(1,10)\n",
    "                bgnum[mm,qq,zz,ff] = int(np.random.uniform(0,5))"
   ]
  },
  {
   "cell_type": "code",
   "execution_count": null,
   "metadata": {},
   "outputs": [],
   "source": [
    "# sort and index\n",
    "indices = np.argsort(-h2fdf.reshape(M*Q*Z, F), axis=0)\n",
    "unraveled = np.array(np.unravel_index(indices, (M,Q,Z)))\n",
    "msort = unraveled[0,:,:]\n",
    "qsort = unraveled[1,:,:]\n",
    "zsort = unraveled[2,:,:]\n"
   ]
  },
  {
   "cell_type": "code",
   "execution_count": null,
   "metadata": {},
   "outputs": [],
   "source": [
    "# test\n",
    "print(h2fdf.shape)\n",
    "for ff in range(F):\n",
    "    for hh in range(len(indices)-1):\n",
    "        # cur = h2fdf[indices[hh], ff]\n",
    "        # print(h2fdf[msort[hh,ff], qsort[hh,ff], zsort[hh,ff], ff])\n",
    "        # true of any sort\n",
    "        assert((h2fdf[msort[hh,ff], qsort[hh,ff], zsort[hh,ff], ff]) > (h2fdf[msort[hh+1,ff], qsort[hh+1,ff], zsort[hh+1,ff], ff]))\n",
    "        \n",
    "        # true for a real h2fdf (same across frequencies)\n",
    "        assert(msort[hh,0]==msort[hh,1])\n",
    "        assert(qsort[hh,0]==qsort[hh,1])\n",
    "        assert(zsort[hh,0]==zsort[hh,1])\n"
   ]
  },
  {
   "attachments": {},
   "cell_type": "markdown",
   "metadata": {},
   "source": [
    "try for example 5"
   ]
  },
  {
   "cell_type": "code",
   "execution_count": null,
   "metadata": {},
   "outputs": [],
   "source": [
    "edges, number, fobs, exname = ss.example5()\n",
    "h2fdf = ss.h2fdf(edges)"
   ]
  },
  {
   "cell_type": "code",
   "execution_count": null,
   "metadata": {},
   "outputs": [],
   "source": [
    "M = number.shape[0]\n",
    "Q = number.shape[1]\n",
    "Z = number.shape[2]\n",
    "F = number.shape[3]\n",
    "print(M,Q,Z,F)"
   ]
  },
  {
   "cell_type": "code",
   "execution_count": null,
   "metadata": {},
   "outputs": [],
   "source": [
    "# sort and index\n",
    "indices = np.argsort(-h2fdf.reshape(M*Q*Z, F), axis=0)\n",
    "unraveled = np.array(np.unravel_index(indices, (M,Q,Z)))\n",
    "msort = unraveled[0,:,:]\n",
    "qsort = unraveled[1,:,:]\n",
    "zsort = unraveled[2,:,:]\n"
   ]
  },
  {
   "cell_type": "code",
   "execution_count": null,
   "metadata": {},
   "outputs": [],
   "source": [
    "# test\n",
    "print(h2fdf.shape)\n",
    "for ff in range(F):\n",
    "    for hh in range(len(indices)-1):\n",
    "        # cur = h2fdf[indices[hh], ff]\n",
    "        # print(h2fdf[msort[hh,ff], qsort[hh,ff], zsort[hh,ff], ff])\n",
    "        # true of any sort\n",
    "        assert((h2fdf[msort[hh,ff], qsort[hh,ff], zsort[hh,ff], ff]) > (h2fdf[msort[hh+1,ff], qsort[hh+1,ff], zsort[hh+1,ff], ff]))\n",
    "        \n",
    "        # true for a real h2fdf (same across frequencies)\n",
    "        assert(msort[hh,0]==msort[hh,1])\n",
    "        assert(qsort[hh,0]==qsort[hh,1])\n",
    "        assert(zsort[hh,0]==zsort[hh,1])\n"
   ]
  },
  {
   "attachments": {},
   "cell_type": "markdown",
   "metadata": {},
   "source": [
    "so actually, we don't need to do it for every frequency"
   ]
  },
  {
   "cell_type": "code",
   "execution_count": null,
   "metadata": {},
   "outputs": [],
   "source": [
    "# sort and index\n",
    "indices = np.argsort(-h2fdf[...,0].flatten()) # just sort for first frequency\n",
    "unraveled = np.array(np.unravel_index(indices, (M,Q,Z)))\n",
    "print(unraveled.shape)\n",
    "msort = unraveled[0,:]\n",
    "qsort = unraveled[1,:]\n",
    "zsort = unraveled[2,:]\n",
    "print(msort.shape)"
   ]
  },
  {
   "cell_type": "code",
   "execution_count": null,
   "metadata": {},
   "outputs": [],
   "source": [
    "# test\n",
    "print(h2fdf.shape)\n",
    "for ff in range(F):\n",
    "    for hh in range(len(indices)-1):\n",
    "        # cur = h2fdf[indices[hh], ff]\n",
    "        # print(h2fdf[msort[hh,ff], qsort[hh,ff], zsort[hh,ff], ff])\n",
    "        # true of any sort\n",
    "        assert((h2fdf[msort[hh,ff], qsort[hh,ff], zsort[hh,ff], ff]) > (h2fdf[msort[hh+1,ff], qsort[hh+1,ff], zsort[hh+1,ff], ff]))\n",
    "        \n",
    "        # true for a real h2fdf (same across frequencies)\n",
    "        assert(msort[hh,0]==msort[hh,1])\n",
    "        assert(qsort[hh,0]==qsort[hh,1])\n",
    "        assert(zsort[hh,0]==zsort[hh,1])\n"
   ]
  }
 ],
 "metadata": {
  "kernelspec": {
   "display_name": "base",
   "language": "python",
   "name": "python3"
  },
  "language_info": {
   "codemirror_mode": {
    "name": "ipython",
    "version": 3
   },
   "file_extension": ".py",
   "mimetype": "text/x-python",
   "name": "python",
   "nbconvert_exporter": "python",
   "pygments_lexer": "ipython3",
   "version": "3.10.9"
  }
 },
 "nbformat": 4,
 "nbformat_minor": 2
}
