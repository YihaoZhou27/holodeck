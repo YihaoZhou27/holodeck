{
 "cells": [
  {
   "cell_type": "code",
   "execution_count": 3,
   "metadata": {},
   "outputs": [],
   "source": [
    "import numpy as np"
   ]
  },
  {
   "cell_type": "code",
   "execution_count": null,
   "metadata": {},
   "outputs": [],
   "source": []
  },
  {
   "attachments": {},
   "cell_type": "markdown",
   "metadata": {},
   "source": [
    "### grid:\n",
    "\n",
    "1x  |  xx  |  xx  |  xx  |  xx \\\n",
    "xx  |  9x  |  x3  |  xx  |  xx \\\n",
    "xx  |  xx  |  xx  |  x4  |  x5 \n",
    "\n",
    "10x  |  x80   |  xx   |  xx   |  xx \\\n",
    "xx   |  xx  |  x30  |  xx   |  xx \\\n",
    "xx   |  xx   |  xx   |  x40  |  x50 "
   ]
  },
  {
   "cell_type": "code",
   "execution_count": 147,
   "metadata": {},
   "outputs": [
    {
     "name": "stdout",
     "output_type": "stream",
     "text": [
      "(2, 1, 3, 5, 2)\n",
      "(2, 1, 3, 5)\n"
     ]
    }
   ],
   "source": [
    "hsamp = np.array([[[[[1,10],[0,80],[0,6],[0,6],[0,6]],\n",
    "                [[0,6],[9,6],[0,6],[0,6],[0,6]],\n",
    "                [[0,6],[0,6],[0,6],[0,6],[0,6]]]],\n",
    "\n",
    "                [[[[0,6],[0,6],[0,6],[0,6],[0,6]],\n",
    "                [[0,6],[0,6],[3,30],[0,6],[0,6]],\n",
    "                [[0,6],[0,6],[0,6],[4,40],[5,50]]]]])\n",
    "print(hsamp.shape)\n",
    "# print(grid)\n",
    "hsone=hsamp[...,0]\n",
    "print(hsone.shape)"
   ]
  },
  {
   "cell_type": "code",
   "execution_count": 148,
   "metadata": {},
   "outputs": [
    {
     "name": "stdout",
     "output_type": "stream",
     "text": [
      "(2, 1, 3, 5, 2)\n"
     ]
    }
   ],
   "source": [
    "hsamp2 = np.repeat(hsone[...,np.newaxis], 2, axis=4)\n",
    "print(hsamp2.shape)"
   ]
  },
  {
   "cell_type": "code",
   "execution_count": 5,
   "metadata": {},
   "outputs": [],
   "source": [
    "hsmax = np.amax(hsamp, axis=(0,1,2))"
   ]
  },
  {
   "cell_type": "code",
   "execution_count": 6,
   "metadata": {},
   "outputs": [
    {
     "name": "stdout",
     "output_type": "stream",
     "text": [
      "[[ 1 10]\n",
      " [ 9 80]\n",
      " [ 3 30]\n",
      " [ 4 40]\n",
      " [ 5 50]]\n"
     ]
    }
   ],
   "source": [
    "print(hsmax)"
   ]
  },
  {
   "cell_type": "code",
   "execution_count": 7,
   "metadata": {},
   "outputs": [
    {
     "name": "stdout",
     "output_type": "stream",
     "text": [
      "(2, 1, 3, 5)\n",
      "(6, 5)\n",
      "(2, 1, 3, 5)\n",
      "mqz (3, 5)\n",
      "[[0 0 1 1 1]\n",
      " [0 0 0 0 0]\n",
      " [0 1 1 2 2]]\n",
      "[0 0 1 1 1 0 0 0 0 0 0 1 1 2 2 0 1 2 3 4]\n",
      "ssnew [[0 0 1 1 1]\n",
      " [0 0 0 0 0]\n",
      " [0 1 1 2 2]\n",
      " [0 1 2 3 4]]\n"
     ]
    }
   ],
   "source": [
    "# one real\n",
    "hsmax = np.amax(hsone, axis=(0,1,2))\n",
    "shape = hsone.shape\n",
    "print(shape)\n",
    "newshape = (shape[0]*shape[1]*shape[2], shape[3])\n",
    "print(newshape)\n",
    "hsone = hsone.reshape(newshape) # change hsamp to shape (M-1*Q-1*Z-1, F-1)\n",
    "argmax = np.argmax(hsone, axis=0) # max at each frequency & realization\n",
    "hsone = hsone.reshape(shape) # restore hsamp shape to (M-1, Q-1, Z-1, F-1)\n",
    "print(hsone.shape)\n",
    "mqz = np.array(np.unravel_index(argmax, shape[:-1])) # unravel indices\n",
    "print('mqz', mqz.shape)\n",
    "print(mqz)\n",
    "f_ids = np.linspace(0,len(mqz[0])-1,len(mqz[0])).astype(int) # frequency indices\n",
    "print(np.append(mqz, f_ids))\n",
    "ssnew = np.append(mqz, f_ids).reshape(4,len(f_ids))\n",
    "print('ssnew', ssnew)\n",
    "# print(hsone[ssnew[0], ssnew[1], ssnew[2], ssnew[3]])"
   ]
  },
  {
   "cell_type": "code",
   "execution_count": 139,
   "metadata": {},
   "outputs": [
    {
     "name": "stdout",
     "output_type": "stream",
     "text": [
      "[[ 1 10]\n",
      " [ 9 80]\n",
      " [ 3 30]\n",
      " [ 4 40]\n",
      " [ 5 50]]\n",
      "shape (2, 1, 3, 5, 2)\n",
      "newshape (6, 5, 2)\n",
      "mqz (3, 5, 2)\n",
      "(4, 5, 2)\n"
     ]
    }
   ],
   "source": [
    "#hsamp for all bins at all realizations\n",
    "\n",
    "#gets max for each frequency and realization\n",
    "max = np.amax(hsamp, axis=(0,1,2))\n",
    "print(max)\n",
    "shape = hsamp.shape\n",
    "print('shape',shape)\n",
    "newshape = (shape[0]*shape[1]*shape[2], shape[3], shape[4])\n",
    "print('newshape', newshape)\n",
    "hsamp = hsamp.reshape(newshape)\n",
    "argmax = np.argmax(hsamp, axis=0)\n",
    "hsamp = hsamp.reshape(shape)\n",
    "\n",
    "# shape (3, F, R)\n",
    "mqz = np.array(np.unravel_index(argmax, shape[:-2])) # unravel indices\n",
    "print('mqz', mqz.shape)\n",
    "\n",
    "\n",
    "# I GOt IT!!!!!\n",
    "# MQZ in shape (3,F,R)\n",
    "# Want to get MQZF in shape (4,F,R)\n",
    "# Need f_ids in shape (1,F,R) to append\n",
    "\n",
    "f_ids = np.linspace(0,len(mqz[0])-1,len(mqz[0])).astype(int) # frequency indices\n",
    "f_ids = np.repeat(f_ids, R).reshape(F,R)[np.newaxis,:]\n",
    "ssnew = np.append(mqz,f_ids, axis=0)\n",
    "print(ssnew.shape)"
   ]
  },
  {
   "cell_type": "code",
   "execution_count": 28,
   "metadata": {},
   "outputs": [
    {
     "name": "stdout",
     "output_type": "stream",
     "text": [
      "(3, 5)\n",
      "[[0 0 1 1]\n",
      " [1 0 0 0]\n",
      " [0 0 0 1]\n",
      " [1 2 2 0]\n",
      " [1 2 3 4]]\n",
      "(3, 5, 2)\n",
      "new (5, 4) [[0 0 1 1]\n",
      " [1 0 0 0]\n",
      " [0 0 0 1]\n",
      " [1 2 2 0]\n",
      " [1 2 3 4]]\n"
     ]
    },
    {
     "ename": "ValueError",
     "evalue": "could not broadcast input array from shape (5,4) into shape (3,5)",
     "output_type": "error",
     "traceback": [
      "\u001b[0;31m---------------------------------------------------------------------------\u001b[0m",
      "\u001b[0;31mValueError\u001b[0m                                Traceback (most recent call last)",
      "\u001b[1;32m/Users/emigardiner/GWs/holodeck/ecg-notebooks/single_sources/scratch.ipynb Cell 9\u001b[0m in \u001b[0;36m<cell line: 10>\u001b[0;34m()\u001b[0m\n\u001b[1;32m     <a href='vscode-notebook-cell:/Users/emigardiner/GWs/holodeck/ecg-notebooks/single_sources/scratch.ipynb#X14sZmlsZQ%3D%3D?line=10'>11</a>\u001b[0m new \u001b[39m=\u001b[39m np\u001b[39m.\u001b[39mappend(mqz[:,:,r], f_ids)\u001b[39m.\u001b[39mreshape(\u001b[39m5\u001b[39m,\u001b[39m4\u001b[39m)\n\u001b[1;32m     <a href='vscode-notebook-cell:/Users/emigardiner/GWs/holodeck/ecg-notebooks/single_sources/scratch.ipynb#X14sZmlsZQ%3D%3D?line=11'>12</a>\u001b[0m \u001b[39mprint\u001b[39m(\u001b[39m'\u001b[39m\u001b[39mnew\u001b[39m\u001b[39m'\u001b[39m, new\u001b[39m.\u001b[39mshape, new)\n\u001b[0;32m---> <a href='vscode-notebook-cell:/Users/emigardiner/GWs/holodeck/ecg-notebooks/single_sources/scratch.ipynb#X14sZmlsZQ%3D%3D?line=12'>13</a>\u001b[0m mqz[:,:,r] \u001b[39m=\u001b[39m new\n",
      "\u001b[0;31mValueError\u001b[0m: could not broadcast input array from shape (5,4) into shape (3,5)"
     ]
    }
   ],
   "source": [
    "# print(mqz.shape, mqz)\n",
    "one = mqz[:,:,0]\n",
    "print(one.shape)\n",
    "one = np.append(one, f_ids)\n",
    "print(one.reshape(5,4))\n",
    "print(mqz.shape)\n",
    "# aaa = mqz.reshape(2*1*3*5,2)\n",
    "# print(aaa)\n",
    "\n",
    "for r in range(2):\n",
    "    new = np.append(mqz[:,:,r], f_ids).reshape(5,4)\n",
    "    print('new', new.shape, new)\n",
    "    mqz[:,:,r] = new"
   ]
  },
  {
   "cell_type": "code",
   "execution_count": 9,
   "metadata": {},
   "outputs": [
    {
     "name": "stdout",
     "output_type": "stream",
     "text": [
      "(3, 5, 2)\n",
      "(5, 2)\n",
      "(5,)\n"
     ]
    },
    {
     "ename": "ValueError",
     "evalue": "all the input arrays must have same number of dimensions, but the array at index 0 has 3 dimension(s) and the array at index 1 has 2 dimension(s)",
     "output_type": "error",
     "traceback": [
      "\u001b[0;31m---------------------------------------------------------------------------\u001b[0m",
      "\u001b[0;31mValueError\u001b[0m                                Traceback (most recent call last)",
      "\u001b[1;32m/Users/emigardiner/GWs/holodeck/ecg-notebooks/single_sources/scratch.ipynb Cell 10\u001b[0m in \u001b[0;36m<cell line: 5>\u001b[0;34m()\u001b[0m\n\u001b[1;32m      <a href='vscode-notebook-cell:/Users/emigardiner/GWs/holodeck/ecg-notebooks/single_sources/scratch.ipynb#X12sZmlsZQ%3D%3D?line=2'>3</a>\u001b[0m \u001b[39mprint\u001b[39m(doublef\u001b[39m.\u001b[39mshape)\n\u001b[1;32m      <a href='vscode-notebook-cell:/Users/emigardiner/GWs/holodeck/ecg-notebooks/single_sources/scratch.ipynb#X12sZmlsZQ%3D%3D?line=3'>4</a>\u001b[0m \u001b[39mprint\u001b[39m(f_ids\u001b[39m.\u001b[39mshape)\n\u001b[0;32m----> <a href='vscode-notebook-cell:/Users/emigardiner/GWs/holodeck/ecg-notebooks/single_sources/scratch.ipynb#X12sZmlsZQ%3D%3D?line=4'>5</a>\u001b[0m \u001b[39mprint\u001b[39m(np\u001b[39m.\u001b[39;49mappend(mqz,doublef, axis\u001b[39m=\u001b[39;49m\u001b[39m1\u001b[39;49m))\n",
      "File \u001b[0;32m<__array_function__ internals>:5\u001b[0m, in \u001b[0;36mappend\u001b[0;34m(*args, **kwargs)\u001b[0m\n",
      "File \u001b[0;32m/opt/homebrew/anaconda3/lib/python3.9/site-packages/numpy/lib/function_base.py:4817\u001b[0m, in \u001b[0;36mappend\u001b[0;34m(arr, values, axis)\u001b[0m\n\u001b[1;32m   4815\u001b[0m     values \u001b[39m=\u001b[39m ravel(values)\n\u001b[1;32m   4816\u001b[0m     axis \u001b[39m=\u001b[39m arr\u001b[39m.\u001b[39mndim\u001b[39m-\u001b[39m\u001b[39m1\u001b[39m\n\u001b[0;32m-> 4817\u001b[0m \u001b[39mreturn\u001b[39;00m concatenate((arr, values), axis\u001b[39m=\u001b[39;49maxis)\n",
      "File \u001b[0;32m<__array_function__ internals>:5\u001b[0m, in \u001b[0;36mconcatenate\u001b[0;34m(*args, **kwargs)\u001b[0m\n",
      "\u001b[0;31mValueError\u001b[0m: all the input arrays must have same number of dimensions, but the array at index 0 has 3 dimension(s) and the array at index 1 has 2 dimension(s)"
     ]
    }
   ],
   "source": [
    "print(mqz.shape)\n",
    "doublef = np.array([[0,0],[1,1],[2,2],[3,3],[4,4]])\n",
    "print(doublef.shape)\n",
    "print(f_ids.shape)\n",
    "print(np.append(mqz,doublef, axis=1))"
   ]
  },
  {
   "cell_type": "code",
   "execution_count": 29,
   "metadata": {},
   "outputs": [
    {
     "name": "stdout",
     "output_type": "stream",
     "text": [
      "0\n",
      "(3,)\n",
      "(3,)\n",
      "(3,)\n",
      "(3,)\n",
      "(3,)\n",
      "1\n",
      "(3,)\n",
      "(3,)\n",
      "(3,)\n",
      "(3,)\n",
      "(3,)\n"
     ]
    }
   ],
   "source": [
    "for r in range(shape[4]):\n",
    "    print(r)\n",
    "    for f in range(shape[3]):\n",
    "        print(mqz[:,f,r].shape)\n",
    "        # mqz[0,f,r]\n",
    "        # mqz[f,r] = np.append(mqz[:,f,r], f)"
   ]
  },
  {
   "cell_type": "code",
   "execution_count": 64,
   "metadata": {},
   "outputs": [
    {
     "name": "stdout",
     "output_type": "stream",
     "text": [
      "[[[1 1]\n",
      "  [2 2]\n",
      "  [3 3]]] (1, 3, 2)\n",
      "[[[0]\n",
      "  [5]\n",
      "  [6]]] (1, 3, 1)\n",
      "[[[1 1 0]\n",
      "  [2 2 5]\n",
      "  [3 3 6]]] (1, 3, 3)\n"
     ]
    }
   ],
   "source": [
    "arr = np.array([[[1,1], [2,2], [3,3]]])\n",
    "print(arr, arr.shape)\n",
    "app = np.array([[[0], [5], [6]]])\n",
    "print(app, app.shape)\n",
    "res = np.append(arr, app, axis=2)\n",
    "print(res, res.shape)\n",
    "\n",
    "# take shape (a,b,c) and append shape (a,b,d) to get shape (a,b,c+d)"
   ]
  },
  {
   "cell_type": "code",
   "execution_count": 81,
   "metadata": {},
   "outputs": [
    {
     "name": "stdout",
     "output_type": "stream",
     "text": [
      "[[1]\n",
      " [2]\n",
      " [3]] (3, 1)\n",
      "[[0]\n",
      " [0]\n",
      " [3]] (3, 1)\n",
      "[[1 0]\n",
      " [2 0]\n",
      " [3 3]] (3, 2)\n"
     ]
    }
   ],
   "source": [
    "arr = np.array([[1],[2],[3]])\n",
    "print(arr, arr.shape)\n",
    "app = np.array([[0],[0],[3]])\n",
    "print(app, app.shape)\n",
    "res = np.append(arr, app, axis=1)\n",
    "print(res, res.shape)\n",
    "\n",
    "# take shape (a,b,c) and append shape (a,b,d) to get shape (a,b,c+d)\n",
    "# I have shape (3,5,2) and I want to append ..... \n",
    "# to get shape (4,5,2)"
   ]
  },
  {
   "cell_type": "code",
   "execution_count": 89,
   "metadata": {},
   "outputs": [
    {
     "name": "stdout",
     "output_type": "stream",
     "text": [
      "[[1 2]\n",
      " [3 4]] (2, 2)\n",
      "[[0 0]] (1, 2)\n",
      "[[1 2]\n",
      " [3 4]\n",
      " [0 0]] (3, 2)\n"
     ]
    }
   ],
   "source": [
    "arr = np.array([[1,2],[3,4]])\n",
    "print(arr, arr.shape)\n",
    "app = np.array([[0,0]])\n",
    "print(app, app.shape)\n",
    "res = np.append(arr, app, axis=0)\n",
    "print(res, res.shape)\n",
    "\n",
    "# take shape (a,b,c) and append shape (a,b,d) to get shape (a,b,c+d)\n",
    "# I have shape (3,5,2) and I want to append ..... \n",
    "# to get shape (4,5,2)"
   ]
  },
  {
   "cell_type": "code",
   "execution_count": 86,
   "metadata": {},
   "outputs": [
    {
     "name": "stdout",
     "output_type": "stream",
     "text": [
      "[[1 2]\n",
      " [3 4]] (2, 2)\n",
      "[[0]\n",
      " [0]] (2, 1)\n",
      "[[1 2 0]\n",
      " [3 4 0]] (2, 3)\n"
     ]
    }
   ],
   "source": [
    "arr = np.array([[1,2],[3,4]])\n",
    "print(arr, arr.shape)\n",
    "app = np.array([[0],[0]])\n",
    "print(app, app.shape)\n",
    "res = np.append(arr, app, axis=1)\n",
    "print(res, res.shape)\n",
    "\n",
    "# take shape (a,b,c) and append shape (a,b,d) to get shape (a,b,c+d)\n",
    "# I have shape (3,5,2) and I want to append ..... \n",
    "# to get shape (4,5,2)"
   ]
  },
  {
   "cell_type": "code",
   "execution_count": 101,
   "metadata": {},
   "outputs": [
    {
     "name": "stdout",
     "output_type": "stream",
     "text": [
      "[[[1]\n",
      "  [2]]\n",
      "\n",
      " [[3]\n",
      "  [4]]\n",
      "\n",
      " [[5]\n",
      "  [6]]] (3, 2, 1)\n",
      "[[[0]\n",
      "  [0]]] (1, 2, 1)\n",
      "[[[1]\n",
      "  [2]]\n",
      "\n",
      " [[3]\n",
      "  [4]]\n",
      "\n",
      " [[5]\n",
      "  [6]]\n",
      "\n",
      " [[0]\n",
      "  [0]]] (4, 2, 1)\n"
     ]
    }
   ],
   "source": [
    "arr = np.array([[[1],[2]],[[3],[4]],[[5],[6]]])\n",
    "print(arr, arr.shape)\n",
    "app = np.array([[[0],[0]]])\n",
    "print(app, app.shape)\n",
    "res = np.append(arr, app, axis=0)\n",
    "print(res, res.shape)\n",
    "\n",
    "# take shape (a,b,c) and append shape (a,b,d) to get shape (a,b,c+d)\n",
    "# I have shape (3,5,2) and I want to append ..... \n",
    "# to get shape (4,5,2)"
   ]
  },
  {
   "cell_type": "code",
   "execution_count": 127,
   "metadata": {},
   "outputs": [
    {
     "name": "stdout",
     "output_type": "stream",
     "text": [
      "(3, 5, 2)\n",
      "(5,)\n",
      "(1, 5, 1)\n",
      "[[0 1 2 3 4 0 1 2 3 4]]\n",
      "(5, 2)\n"
     ]
    }
   ],
   "source": [
    "print(mqz.shape) # mqz is shape (3,5,2) = (3,F,R)\n",
    "# I want to append frequencies to get shape (4,5,2) = (4,F,R)\n",
    "# this means I need my f_indices in shape (1,5,2)\n",
    "print(f_ids.shape)\n",
    "print(f_ids[np.newaxis,:,np.newaxis].shape)\n",
    "print(np.tile(f_ids, (1,2)))\n",
    "print(np.repeat(f_ids, 2).reshape(5,2).shape)"
   ]
  },
  {
   "cell_type": "code",
   "execution_count": 131,
   "metadata": {},
   "outputs": [
    {
     "name": "stdout",
     "output_type": "stream",
     "text": [
      "[[[0 0]\n",
      "  [1 1]\n",
      "  [2 2]\n",
      "  [3 3]\n",
      "  [4 4]]]\n",
      "(1, 5, 2)\n"
     ]
    }
   ],
   "source": [
    "R = 2\n",
    "F = 5\n",
    "reps = np.repeat(f_ids, R).reshape(F,R)\n",
    "resh = reps[np.newaxis,:]\n",
    "print(resh)\n",
    "print(resh.shape)"
   ]
  },
  {
   "cell_type": "code",
   "execution_count": 133,
   "metadata": {},
   "outputs": [
    {
     "name": "stdout",
     "output_type": "stream",
     "text": [
      "(4, 5, 2)\n"
     ]
    }
   ],
   "source": [
    "print(np.append(mqz, resh, axis=0).shape)"
   ]
  },
  {
   "cell_type": "code",
   "execution_count": 136,
   "metadata": {},
   "outputs": [
    {
     "name": "stdout",
     "output_type": "stream",
     "text": [
      "(4, 5, 2)\n"
     ]
    }
   ],
   "source": [
    "# I GOt IT!!!!!\n",
    "# MQZ in shape (3,F,R)\n",
    "# Want to get MQZF in shape (4,F,R)\n",
    "# Need f_ids in shape (1,F,R) to append\n",
    "\n",
    "f_ids = np.linspace(0,len(mqz[0])-1,len(mqz[0])).astype(int) # frequency indices\n",
    "f_ids = np.repeat(f_ids, R).reshape(F,R)[np.newaxis,:]\n",
    "mqzf = np.append(mqz,f_ids, axis=0)\n",
    "print(mqzf.shape)"
   ]
  },
  {
   "cell_type": "code",
   "execution_count": 142,
   "metadata": {},
   "outputs": [
    {
     "name": "stdout",
     "output_type": "stream",
     "text": [
      "(5, 2)\n"
     ]
    }
   ],
   "source": [
    "print(ssnew[0].shape)"
   ]
  },
  {
   "cell_type": "code",
   "execution_count": null,
   "metadata": {},
   "outputs": [],
   "source": []
  }
 ],
 "metadata": {
  "kernelspec": {
   "display_name": "base",
   "language": "python",
   "name": "python3"
  },
  "language_info": {
   "codemirror_mode": {
    "name": "ipython",
    "version": 3
   },
   "file_extension": ".py",
   "mimetype": "text/x-python",
   "name": "python",
   "nbconvert_exporter": "python",
   "pygments_lexer": "ipython3",
   "version": "3.9.13"
  },
  "orig_nbformat": 4
 },
 "nbformat": 4,
 "nbformat_minor": 2
}
