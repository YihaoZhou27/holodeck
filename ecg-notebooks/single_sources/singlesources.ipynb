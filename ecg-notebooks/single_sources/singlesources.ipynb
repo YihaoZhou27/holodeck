{
 "cells": [
  {
   "cell_type": "code",
   "execution_count": 4,
   "metadata": {},
   "outputs": [],
   "source": [
    "# MOD per system\n",
    "import sys\n",
    "# sys.path.append('C:/Users/emiga/OneDrive/Cal/GWs/code/holodeck') # lenovo\n",
    "sys.path.append('/Users/emigardiner/GWs/holodeck/') # mac\n",
    "\n",
    "\n",
    "# %load ../init.ipy\n",
    "%reload_ext autoreload\n",
    "%autoreload 2\n",
    "from importlib import reload\n",
    "\n",
    "import os\n",
    "import sys\n",
    "import logging\n",
    "import warnings\n",
    "import numpy as np\n",
    "import astropy as ap\n",
    "import scipy as sp\n",
    "import scipy.stats\n",
    "import matplotlib as mpl\n",
    "import matplotlib.pyplot as plt\n",
    "\n",
    "import h5py\n",
    "import tqdm.notebook as tqdm\n",
    "\n",
    "import kalepy as kale\n",
    "import kalepy.utils\n",
    "import kalepy.plot\n",
    "\n",
    "import holodeck as holo\n",
    "import holodeck.sam\n",
    "from holodeck import cosmo, utils, plot\n",
    "from holodeck.constants import MSOL, PC, YR, MPC, GYR\n",
    "\n",
    "# Silence annoying numpy errors\n",
    "np.seterr(divide='ignore', invalid='ignore', over='ignore')\n",
    "warnings.filterwarnings(\"ignore\", category=UserWarning)\n",
    "\n",
    "# Plotting settings\n",
    "mpl.rc('font', **{'family': 'serif', 'sans-serif': ['Times'], 'size': 15})\n",
    "mpl.rc('lines', solid_capstyle='round')\n",
    "mpl.rc('mathtext', fontset='cm')\n",
    "mpl.style.use('default')   # avoid dark backgrounds from dark theme vscode\n",
    "plt.rcParams.update({'grid.alpha': 0.5})\n",
    "\n",
    "log = holo.log\n",
    "log.setLevel(logging.INFO)"
   ]
  },
  {
   "cell_type": "markdown",
   "metadata": {},
   "source": [
    "# 1 Functions"
   ]
  },
  {
   "attachments": {},
   "cell_type": "markdown",
   "metadata": {},
   "source": [
    "## 1.1 Make Examples\n",
    "1) Choose the frequency bins at which to calculate the GWB, same as in semi-analytic-models.ipynb\n",
    "2) Build Semi-Analytic-Model with super simple parameters \n",
    "3) Get SAM edges and numbers as in sam.gwb()"
   ]
  },
  {
   "cell_type": "code",
   "execution_count": 5,
   "metadata": {},
   "outputs": [],
   "source": [
    "def example(dur, cad, mtot, mrat, redz, print_test):\n",
    "    ''' \n",
    "    1) Choose the frequency bins at which to calculate the GWB, same as in semi-analytic-models.ipynb\n",
    "    2) Build Semi-Analytic-Model with super simple parameters \n",
    "    3) Get SAM edges and numbers as in sam.gwb()\n",
    "\n",
    "    Parameters\n",
    "    ----------oiuyuiuytd\n",
    "    dur : scalar\n",
    "        Duration of observation in secnods (multiply by YR)\n",
    "    cad : scalar\n",
    "        Cadence of observations in seconds (multiply by YR)\n",
    "    mtot : (3,) list of scalars\n",
    "        Min, max, and steps for total mass.\n",
    "    mrat : (3,) list of scalars\n",
    "        Min, max, and steps for mass ratio.\n",
    "    redz : (3,) list of scalars\n",
    "        Min, max, and steps for redshift.\n",
    "    print_test :\n",
    "\n",
    "    Returns\n",
    "    -------\n",
    "    edges : (4,) list of 1darrays\n",
    "        A list containing the edges along each dimension.  The four dimensions correspond to\n",
    "        total mass, mass ratio, redshift, and observer-frame orbital frequency.\n",
    "        The length of each of the four arrays is M, Q, Z, F.\n",
    "    number : (M-a, Q-1, Z-1, F-1) array\n",
    "        The number of binaries in each bin of parameter space.  This is calculated by integrating\n",
    "        `dnum` over each bin.\n",
    "    fobs : (F-1) array\n",
    "        observed frequency bin centers\n",
    "    '''\n",
    "    # 1) Choose the frequency bins at which to calculate the GWB, same as in semi-analytic-models.ipynb\n",
    "    fobs = utils.nyquist_freqs(dur,cad)\n",
    "    fobs_edges = utils.nyquist_freqs_edges(dur,cad)\n",
    "    if(print_test):\n",
    "        print(f\"Number of frequency bins: {fobs.size-1}\")\n",
    "        print(f\"  between [{fobs[0]*YR:.2f}, {fobs[-1]*YR:.2f}] 1/yr\")\n",
    "        print(f\"          [{fobs[0]*1e9:.2f}, {fobs[-1]*1e9:.2f}] nHz\")\n",
    "\n",
    "    # 2) Build Semi-Analytic-Model with super simple parameters \n",
    "    if(mtot==None or mrat==None or redz==None):\n",
    "        print('using default mtot, mrat, and redz')\n",
    "        sam = holo.sam.Semi_Analytic_Model()\n",
    "    else:\n",
    "        sam = holo.sam.Semi_Analytic_Model(mtot, mrat, redz)\n",
    "    if(print_test):\n",
    "        print('edges:', sam.edges)\n",
    "    # get observed orbital frequency bin edges and centers \n",
    "    # from observed GW frequency bin edges\n",
    "    fobs_orb_edges = fobs_edges / 2.0 # f_orb = f_GW/2\n",
    "    fobs_orb_cents = kale.utils.midpoints(fobs_edges) / 2.0\n",
    "\n",
    "    # 3) Get SAM edges and numbers as in sam.gwb()\n",
    "    # dynamic_binary_number\n",
    "    # gets differential number of binaries per bin-vol per log freq interval\n",
    "    edges, dnum = sam.dynamic_binary_number(holo.hardening.Hard_GW, fobs_orb=fobs_orb_cents)\n",
    "    edges[-1] = fobs_orb_edges\n",
    "\n",
    "    # integrate (multiply by bin volume) within each bin\n",
    "    number = utils._integrate_grid_differential_number(edges, dnum, freq=False)\n",
    "    number = number * np.diff(np.log(fobs_edges))\n",
    "\n",
    "    return edges, number, fobs"
   ]
  },
  {
   "attachments": {},
   "cell_type": "markdown",
   "metadata": {},
   "source": [
    "Example 2"
   ]
  },
  {
   "cell_type": "code",
   "execution_count": 6,
   "metadata": {},
   "outputs": [],
   "source": [
    "def example2(print_test = True, exname='Example 2'):\n",
    "    ''' \n",
    "    Parameters\n",
    "    ---------\n",
    "    print_test : Bool\n",
    "        Whether to print frequencies and edges\n",
    "\n",
    "\n",
    "    Returns\n",
    "    ---------\n",
    "    edges : (M,Q,Z,F) array\n",
    "    number : (M-a, Q-1, Z-1, F-1) array\n",
    "    fobs : (F-1) array\n",
    "        observed frequency bin centers\n",
    "    '''\n",
    "    \n",
    "    dur = 5.0*YR/3.1557600\n",
    "    cad = .5*YR/3.1557600\n",
    "    \n",
    "    mtot=(1.0e6*MSOL/1.988409870698051, 1.0e8*MSOL/1.988409870698051, 3)\n",
    "    mrat=(1e-1, 1.0, 2)\n",
    "    redz=(1e-3, 1.0, 4)\n",
    "    \n",
    "    edges, number, fobs = example(dur, cad, mtot, mrat, redz, print_test)\n",
    "    return edges, number, fobs, exname"
   ]
  },
  {
   "attachments": {},
   "cell_type": "markdown",
   "metadata": {},
   "source": [
    "Example 3"
   ]
  },
  {
   "cell_type": "code",
   "execution_count": 7,
   "metadata": {},
   "outputs": [],
   "source": [
    "def example3(print_test = True, exname = 'Example 3'):\n",
    "    ''' \n",
    "    Parameters\n",
    "    ---------\n",
    "    print_test : Bool\n",
    "        Whether to print frequencies and edges\n",
    "\n",
    "\n",
    "    Returns\n",
    "    ---------\n",
    "    edges : (M,Q,Z,F) array\n",
    "    number : (M-a, Q-1, Z-1, F-1) array\n",
    "    fobs : (F-1) array\n",
    "        observed frequency bin centers\n",
    "    '''\n",
    "    dur = 5.0*YR/3.1557600\n",
    "    cad = .5*YR/3.1557600\n",
    "    \n",
    "\n",
    "    mtot=(1.0e6*MSOL/1.988409870698051, 4.0e9*MSOL, 25)\n",
    "    mrat=(1e-1, 1.0, 25)\n",
    "    redz=(1e-3, 10.0, 25)\n",
    "\n",
    "    edges, number, fobs = example(dur, cad, mtot, mrat, redz, print_test)\n",
    "    return edges, number, fobs, exname"
   ]
  },
  {
   "attachments": {},
   "cell_type": "markdown",
   "metadata": {},
   "source": [
    "Example 4"
   ]
  },
  {
   "cell_type": "code",
   "execution_count": 8,
   "metadata": {},
   "outputs": [],
   "source": [
    "def example4(print_test = True, exname = 'Example 4'):\n",
    "    ''' \n",
    "    Parameters\n",
    "    ---------\n",
    "    print_test : Bool\n",
    "        Whether to print frequencies and edges\n",
    "\n",
    "\n",
    "    Returns\n",
    "    ---------\n",
    "    edges : (M,Q,Z,F) array\n",
    "    number : (M-a, Q-1, Z-1, F-1) array\n",
    "    fobs : (F-1) array\n",
    "        observed frequency bin centers\n",
    "    '''\n",
    "    dur = 5.0*YR/3.1557600\n",
    "    cad = .2*YR/3.1557600\n",
    "\n",
    "    mtot=(1.0e6*MSOL/1.988409870698051, (4.0e11*MSOL).astype(np.float64), 25)\n",
    "    mrat=(1e-1, 1.0, 25)\n",
    "    redz=(1e-3, 10.0, 25)\n",
    "    \n",
    "    edges, number, fobs = example(dur, cad, mtot, mrat, redz, print_test)\n",
    "    return edges, number, fobs, exname"
   ]
  },
  {
   "attachments": {},
   "cell_type": "markdown",
   "metadata": {},
   "source": [
    "Example 5 (same as in semi-analytic-models.ipynb)"
   ]
  },
  {
   "cell_type": "code",
   "execution_count": 9,
   "metadata": {},
   "outputs": [],
   "source": [
    "def example5(print_test = True, exname = 'Example 5'):\n",
    "    ''' \n",
    "    Parameters\n",
    "    ---------\n",
    "    print_test : Bool\n",
    "        Whether to print frequencies and edges\n",
    "\n",
    "\n",
    "    Returns\n",
    "    ---------\n",
    "    edges : (M,Q,Z,F) array\n",
    "    number : (M-a, Q-1, Z-1, F-1) array\n",
    "    fobs : (F-1) array\n",
    "        observed frequency bin centers\n",
    "    '''\n",
    "    dur = 10.0*YR\n",
    "    cad = .2*YR\n",
    "\n",
    "    # default mtot, mrat, redz\n",
    "    \n",
    "    edges, number, fobs = example(dur, cad, mtot=None, mrat=None, redz=None, \n",
    "                                  print_test=print_test)\n",
    "    return edges, number, fobs, exname"
   ]
  },
  {
   "attachments": {},
   "cell_type": "markdown",
   "metadata": {},
   "source": [
    "## 1.2 SS Calculations\n",
    "Contains: \n",
    "- ss_gws_by_loops\n",
    "- gws_by_ndars (same purpose as gravwaves._gws_from_number_grid_integrated())\n",
    "- ss_gws_by_ndars\n",
    "- subtraction_from_number method (no longer needed)\n",
    "Could add:\n",
    "- get sspar from edges and ssidx (instead of calculating and returning sspar)\n",
    "- get bgnum from number and ssidx (instead of ss methods returning bgnum)\n"
   ]
  },
  {
   "attachments": {},
   "cell_type": "markdown",
   "metadata": {},
   "source": [
    "ss_gws_by_loops \\\n",
    "rounds loops first"
   ]
  },
  {
   "cell_type": "code",
   "execution_count": 9,
   "metadata": {},
   "outputs": [],
   "source": [
    "def ss_gws_by_loops(edges, number, realize=False, round=True,  print_test = False):\n",
    "       \n",
    "    \"\"\" Inefficient way to calculate strain from numbered \n",
    "    grid integrated\n",
    "\n",
    "    Parameters\n",
    "    ----------\n",
    "    edges : (4,) list of 1darrays\n",
    "        A list containing the edges along each dimension.  The four dimensions correspond to\n",
    "        total mass, mass ratio, redshift, and observer-frame orbital frequency.\n",
    "        The length of each of the four arrays is M, Q, Z, F.\n",
    "    number : (M-1, Q-1, Z-1, F-1) ndarray\n",
    "        The number of binaries in each bin of parameter space.  This is calculated by integrating\n",
    "        `dnum` over each bin.\n",
    "    realize : bool or int,\n",
    "        Specification of how to construct one or more discrete realizations.\n",
    "        If a `bool` value, then whether or not to construct a realization.\n",
    "        If a `int` value, then how many discrete realizations to construct.\n",
    "    round : bool\n",
    "        Specification of whether to discretize the sample if realize is False, \n",
    "        by rounding number of binaries in each bin to integers. \n",
    "    print_test : bool\n",
    "        Whether or not to print variable as they are calculated, for dev purposes.\n",
    "\n",
    "\n",
    "    Returns\n",
    "    -------\n",
    "    hc_bg : ndarray\n",
    "        Characteristic strain of the GWB.\n",
    "        The shape depends on whether realize is an integer or not\n",
    "        realize = True or False: shape is (F-1)\n",
    "        realize = R, True: shape is  (F-1, R)\n",
    "    hc_ss : (F-1) array\n",
    "        The characteristic strain of the loudest single source at each frequency.\n",
    "    sspar : (F-1, 3) 2darray or None\n",
    "        The parameters (M, q, and z) of the loudest single source at each frequency.\n",
    "    ssidx : (F-1, 3) 2darray or None\n",
    "        The indices (m_idx, q_idx, and z_idx) of the parameters of the loudest single\n",
    "        source's bin, at each frequency.    \n",
    "    maxhs : (F-1) array or None\n",
    "        The maximum single source strain amplitude at each frequency.\n",
    "    bgnum : (M-1, Q-1, Z-1, F-1) \n",
    "        The number of binaries in each bin after the loudest single source\n",
    "        at each frequency is subtracted out.\n",
    "\n",
    "    \"\"\"\n",
    "    if(print_test):\n",
    "        print('INPUTS: edges:', len(edges), '\\n', edges, \n",
    "        '\\nINPUTS:number:', number.shape, '\\n', number,'\\n')\n",
    "\n",
    "    # Frequency bin midpoints\n",
    "    foo = edges[-1]                   #: should be observer-frame orbital-frequencies\n",
    "    df = np.diff(foo)                 #: frequency bin widths\n",
    "    fc = kale.utils.midpoints(foo)    #: use frequency-bin centers for strain (more accurate!)\n",
    "\n",
    "    # All other bin midpoints\n",
    "    mt = kale.utils.midpoints(edges[0]) #: total mass\n",
    "    mr = kale.utils.midpoints(edges[1]) #: mass ratio\n",
    "    rz = kale.utils.midpoints(edges[2]) #: redshift\n",
    "\n",
    "    \n",
    "    # GW background characteristic strain\n",
    "    hc_bg = np.empty_like(number)\n",
    "\n",
    "    # new number array\n",
    "    if(round == True):\n",
    "        bgnum = np.copy(np.floor(number).astype(np.int64))\n",
    "        if(print_test):\n",
    "            print('noninteger bgnum values:', bgnum[(bgnum%1 !=0)])\n",
    "    else:\n",
    "        bgnum = np.copy(number)\n",
    "\n",
    "    # for single sources, make a grid with shape\n",
    "    # (f, 3)\n",
    "    # params of loudest bin with number>=1\n",
    "    # shape (f,3) for 3 params\n",
    "    sspar = np.empty((len(fc), 3)) \n",
    "    # param indices of loudest bin with number>=1\n",
    "    # shape (f,3) for 3 params\n",
    "    ssidx = np.empty((len(fc), 3)) \n",
    "    # max hs at each frequency\n",
    "    maxhs = np.zeros(len(fc))\n",
    "    # (max)  single source characteristic strain at each frequency\n",
    "    hc_ss = np.zeros(len(fc))\n",
    "\n",
    "    # # not worrying about realization implementation yet\n",
    "    # # for r realizations, make a grid with shape \n",
    "    # # m, q, z, f, r\n",
    "    # if(utils.isinteger(realize)):\n",
    "    #     newshape = hc_grid.shape + (realize,)\n",
    "    #     if(print_test):\n",
    "    #         print('newshape:', newshape)\n",
    "    #     realized_grid = np.empty(newshape)\n",
    "\n",
    "\n",
    "    # --------------- Single Sources ------------------\n",
    "    # 0) Round or realize so numbers are all integers\n",
    "    # 1) Identify the loudest (max hs) single source in a bin with N>0 \n",
    "    # 2) Record the parameters, parameter indices, and strain\n",
    "    #  of that single source\n",
    "    # 3) Subtract 1 from the number in that source's bin, \n",
    "    # 4) Calculate single source characteristic strain (hc)\n",
    "    # 5) Calculate the background with the new number \n",
    "    \n",
    "    for m_idx in range(len(mt)):\n",
    "        for q_idx in range(len(mr)):\n",
    "            cmass = holo.utils.chirp_mass_mtmr(mt[m_idx], mr[q_idx])\n",
    "            for z_idx in range(len(rz)):\n",
    "                cdist = holo.cosmo.comoving_distance(rz[z_idx]).cgs.value\n",
    "                \n",
    "                # print M, q, z, M_c, d_c\n",
    "                if(print_test):\n",
    "                    print('BIN mt=%.2e, mr=%.2e, rz=%.2e' %\n",
    "                        (mt[m_idx], mr[q_idx], rz[z_idx]))\n",
    "                    print('\\t m_c = %.2e, d_c = %.2e' \n",
    "                        % (cmass, cdist))\n",
    "\n",
    "                # check if loudest source in any bin\n",
    "                for f_idx in range(len(fc)):\n",
    "                    rfreq = holo.utils.frst_from_fobs(fc[f_idx], rz[z_idx])\n",
    "                    # hs of a source in that bin\n",
    "                    hs_mqzf = utils.gw_strain_source(cmass, cdist, rfreq)\n",
    "                    \n",
    "                    # 1) IF LOUDEST\n",
    "                    # check if loudest hs at that \n",
    "                    # frequency and contains binaries\n",
    "                    if(hs_mqzf>maxhs[f_idx] and \n",
    "                        bgnum[m_idx, q_idx, z_idx, f_idx]>0):\n",
    "                        if(bgnum[m_idx, q_idx, z_idx, f_idx]<1):\n",
    "                            print('number<1 used', bgnum[m_idx, q_idx, z_idx, f_idx])  #DELETE\n",
    "                        # 2) If so, RECORD:\n",
    "                        # parameters M, q, z\n",
    "                        sspar[f_idx] = np.array([mt[m_idx], mr[q_idx],\n",
    "                                                    rz[z_idx]])\n",
    "                        # parameter indices\n",
    "                        ssidx[f_idx] = np.array([m_idx, q_idx, z_idx])\n",
    "                        # new max strain\n",
    "                        maxhs[f_idx] = hs_mqzf\n",
    "\n",
    "\n",
    "    # 3) SUBTRACT 1 \n",
    "    # from bin with loudest source at each frequency\n",
    "    # can do this using the index of loudest, ssidx\n",
    "    # recall ssidx has shape [3, F]\n",
    "    # and = [(m_idx,q_idx,z_idx), fc],\n",
    "    for f_idx in range(len(fc)):\n",
    "        bgnum[int(ssidx[f_idx,0]), int(ssidx[f_idx,1]), int(ssidx[f_idx,2]), \n",
    "                f_idx] -= 1 \n",
    "\n",
    "        # 4) CALCULATE \n",
    "        # single source characteristic strain\n",
    "        hc_ss[f_idx] = np.sqrt(maxhs[f_idx]**2 * (fc[f_idx]/df[f_idx]))\n",
    "    \n",
    "    # CHECK no numbers should be <0 \n",
    "    if(np.any(bgnum<0)): \n",
    "        error_index = np.where(bgnum<0)\n",
    "        print('number<0 found at (M,q,z,f) =', error_index)         \n",
    "        \n",
    "\n",
    "    # 5)\n",
    "    # ----------------- Calculate Background Strains --------------------\n",
    "    # then we can go back in and calculate characteristic strains\n",
    "    # NOTE: could make this faster by saving rfreq and hs values from above\n",
    "    # instead of recalculating\n",
    "    for m_idx in range(len(mt)):\n",
    "        for q_idx in range(len(mr)):\n",
    "            cmass = holo.utils.chirp_mass_mtmr(mt[m_idx], mr[q_idx])\n",
    "            for z_idx in range(len(rz)):\n",
    "                cdist = holo.cosmo.comoving_distance(rz[z_idx]).cgs.value\n",
    "                for f_idx in range(len(fc)):\n",
    "                    rfreq = holo.utils.frst_from_fobs(fc[f_idx], rz[z_idx])\n",
    "                    hs_mqzf = utils.gw_strain_source(cmass, cdist, rfreq)\n",
    "                    hc_dlnf = hs_mqzf**2 * (fc[f_idx]/df[f_idx])\n",
    "                    if(realize == False):\n",
    "                        hc_bg[m_idx, q_idx, z_idx, f_idx] = np.sqrt(hc_dlnf \n",
    "                                        * bgnum[m_idx, q_idx, z_idx, f_idx])\n",
    "                    else: \n",
    "                        raise Exception('realize not implemented yet') \n",
    "                    # elif(realize == True):\n",
    "                    #     hc_grid[m_idx, q_idx, z_idx, f_idx] = np.sqrt(hc_dlnf \n",
    "                    #                     *np.random.poisson(bgnum[m_idx, q_idx, z_idx, f_idx]))\n",
    "                    # elif(utils.isinteger(realize)):\n",
    "                    #     for r_idx in range(realize):\n",
    "                    #         realized_grid[m_idx, q_idx, z_idx, f_idx, r_idx] = \\\n",
    "                    #             np.sqrt(hc_dlnf \n",
    "                    #                     *np.random.poisson(bgnum[m_idx, q_idx, z_idx, f_idx]))\n",
    "                    #     hc_grid = realized_grid                \n",
    "                    # else:\n",
    "                    #     print(\"`realize` ({}) must be one of {{True, False, integer}}!\"\\\n",
    "                    #         .format(realize))\n",
    "\n",
    "                    if(print_test):\n",
    "                        print('\\tfr = %.2fnHz, h_s = %.2e, h_c^2/dlnf = %.2e' v\n",
    "                            % (rfreq*10**9, hs_mqzf, hc_dlnf))\n",
    "                        print('\\t\\tnumber: %.2e' % bgnum[m_idx, q_idx, z_idx, f_idx])\n",
    "                        print('\\t\\thc = %.2e' % hc_bg[m_idx, q_idx, z_idx, f_idx])\n",
    "                        print('\\t\\t loudest?', \n",
    "                            np.all((ssidx[f_idx] == np.array([m_idx, q_idx, z_idx]))))\n",
    "    if(print_test):\n",
    "        print('----loudest bins:')\n",
    "        for f_idx in range(len(fc)):\n",
    "            print('\\t M=%.2e, q=%.2e, z=%.2e, f=%.2e' \n",
    "                    % (sspar[f_idx,0], sspar[f_idx,1], sspar[f_idx,2], fc[f_idx]))\n",
    "            # if we use this instead, we don't need sspar\n",
    "            # print('\\t M=%.2e, q=%.2e, z=%.2e, f=%.2e' \n",
    "            #       % (mt[ssidx[f_idx,0]], mr[ssidx[f_idx,1]], rz[ssidx[f_idx,2]]))\n",
    "\n",
    "     \n",
    "    # sum over all bins at a given frequency and realization\n",
    "    hc_bg = np.sqrt(np.sum(hc_bg**2, axis=(0, 1, 2)))\n",
    "\n",
    "    \n",
    "    return hc_bg, hc_ss, sspar, ssidx, maxhs, bgnum\n"
   ]
  },
  {
   "attachments": {},
   "cell_type": "markdown",
   "metadata": {},
   "source": [
    "gws_by_ndars (no ss)"
   ]
  },
  {
   "cell_type": "code",
   "execution_count": 10,
   "metadata": {},
   "outputs": [],
   "source": [
    "def gws_by_ndars(edges, number, realize, round = True, sum = True, print_test = False):\n",
    "       \n",
    "    \"\"\" More efficient way to calculate strain from numbered \n",
    "    grid integrated\n",
    "\n",
    "    Parameters\n",
    "    ----------\n",
    "    edges : (4,) list of 1darrays\n",
    "        A list containing the edges along each dimension.  The four dimensions \n",
    "        correspond to total mass, mass ratio, redshift, and observer-frame orbital \n",
    "        frequency. The length of each of the four arrays is M, Q, Z, F.\n",
    "    number : (M-1, Q-1, Z-1, F-1) ndarray\n",
    "        The number of binaries in each bin of parameter space.  This is calculated \n",
    "        by integrating `dnum` over each bin.\n",
    "    realize : bool or int\n",
    "        Specification of how to construct one or more discrete realizations.\n",
    "        If a `bool` value, then whether or not to construct a realization.\n",
    "        If an `int` value, then how many discrete realizations to construct.\n",
    "    round : bool\n",
    "        Specification of whether to discretize the sample if realize is False, \n",
    "        by rounding number of binaries in each bin to integers. This has no impact \n",
    "        if realize is true.\n",
    "        NOTE: should add a warning if round and realize are both True\n",
    "    sum : bool\n",
    "        Whether or not to sum the strain at a given frequency over all bins.\n",
    "    print_test : bool\n",
    "        Whether or not to print variable as they are calculated, for dev purposes.\n",
    "\n",
    "\n",
    "    Returns\n",
    "    -------\n",
    "    hchar : ndarray\n",
    "        Characteristic strain of the GWB.\n",
    "        The shape depends on whether realize is an integer or not\n",
    "        realize = True or False, sum = False: shape is (M-1, Q-1, Z-1, F-1)\n",
    "        realize = True or False, sum = True: shape is (F-1)\n",
    "        realize = R, sum = False: shape is  (M-1, Q-1, Z-1, F-1, R)\n",
    "        realize = R, sum = True: shape is  (F-1, R)\n",
    "\n",
    "    \"\"\"\n",
    "\n",
    "    if(print_test):\n",
    "        print('INPUTS: edges:', len(edges), # '\\n', edges, \n",
    "        '\\nINPUTS:number:', number.shape, '\\n', number,'\\n')\n",
    "\n",
    "    # Frequency bin midpoints\n",
    "    foo = edges[-1]                   #: should be observer-frame orbital-frequencies\n",
    "    df = np.diff(foo)                 #: frequency bin widths\n",
    "    fc = kale.utils.midpoints(foo)    #: use frequency-bin centers for strain (more accurate!)\n",
    "\n",
    "    # All other bin midpoints\n",
    "    mt = kale.utils.midpoints(edges[0]) #: total mass\n",
    "    mr = kale.utils.midpoints(edges[1]) #: mass ratio\n",
    "    rz = kale.utils.midpoints(edges[2]) #: redshift\n",
    "\n",
    "\n",
    "    # --- Chirp Masses ---\n",
    "    # to get chirp mass in shape (M-1, Q-1) we need \n",
    "    # mt in shape (M-1, 1) \n",
    "    # mr in shape (1, Q-1)\n",
    "    cmass = utils.chirp_mass_mtmr(mt[:,np.newaxis], mr[np.newaxis,:])\n",
    "    if(print_test):\n",
    "        print('cmass:', cmass.shape, '\\n', cmass)\n",
    "\n",
    "    # --- Comoving Distances ---\n",
    "    # to get cdist in shape (Z-1) we need\n",
    "    # rz in shape (Z-1)\n",
    "    cdist = holo.cosmo.comoving_distance(rz).cgs.value\n",
    "    if(print_test):\n",
    "        print('cdist:', cdist.shape, '\\n', cdist)\n",
    "\n",
    "    # --- Rest Frame Frequencies ---\n",
    "    # to get rest freqs in shape (Z-1, F-1) we need \n",
    "    # rz in shape (Z-1, 1) \n",
    "    # fc in shape (1, F-1)\n",
    "    rfreq = holo.utils.frst_from_fobs(fc[np.newaxis,:], rz[:,np.newaxis])\n",
    "    if(print_test):\n",
    "        print('rfreq:', rfreq.shape, '\\n', rfreq)\n",
    "\n",
    "    # --- Source Strain Amplitude ---\n",
    "    # to get hs amplitude in shape (M-1, Q-1, Z-1, F-1) we need\n",
    "    # cmass in shape (M-1, Q-1, 1, 1) from (M-1, Q-1)\n",
    "    # cdist in shape (1, 1, Z-1, 1) from (Z-1)\n",
    "    # rfreq in shape (1, 1, Z-1, F-1) from (Z-1, F-1)\n",
    "    hsamp = utils.gw_strain_source(cmass[:,:,np.newaxis,np.newaxis],\n",
    "                                   cdist[np.newaxis,np.newaxis,:,np.newaxis],\n",
    "                                   rfreq[np.newaxis,np.newaxis,:,:])\n",
    "    if(print_test):\n",
    "        print('hsamp', hsamp.shape, '\\n', hsamp)\n",
    "\n",
    "    # --- Characteristic Strain Squared ---\n",
    "    # to get characteristic strain in shape (M-1, Q-1, Z-1, F-1) we need\n",
    "    # hsamp in shape (M-1, Q-1, Z-1, F-1)\n",
    "    # fc in shape (1, 1, 1, F-1)\n",
    "    hchar = hsamp**2 * (fc[np.newaxis, np.newaxis, np.newaxis,:]\n",
    "                        /df[np.newaxis, np.newaxis, np.newaxis,:])\n",
    "\n",
    "    # Sample:\n",
    "    if(realize == False):\n",
    "        # without sampling, want strain in shape (M-1, Q-1, Z-1, F-1)\n",
    "        if(round): \n",
    "            # discretize by rounding number down to nearest integer \n",
    "            hchar *= np.floor(number).astype(int) \n",
    "        else: \n",
    "            # keep non-integer values\n",
    "            hchar *= number\n",
    "\n",
    "    if(realize == True):\n",
    "        # with a single sample, want strain in shape (M-1, Q-1, Z-1, F-1)\n",
    "        hchar *= np.random.poisson(number)\n",
    "\n",
    "    if(utils.isinteger(realize)):\n",
    "        # with R realizations, \n",
    "        # to get strain in shape (M-1, Q-1, Z-1, F-1, R) we need\n",
    "        # hchar in shape(M-1, Q-1, Z-1, F-1, 1)\n",
    "        # Poisson sample in shape (1, 1, 1, 1, R)\n",
    "        npois = np.random.poisson(number[...,np.newaxis], size = (number.shape + (realize,)))\n",
    "        if(print_test):\n",
    "            print('npois', npois.shape)\n",
    "        hchar = hchar[...,np.newaxis] * npois\n",
    "\n",
    "\n",
    "    if(print_test):\n",
    "        print('hchar', hchar.shape, '\\n', hchar)\n",
    "\n",
    "\n",
    "    if(sum):\n",
    "        # sum over all bins at a given frequency and realization\n",
    "        hchar = np.sum(hchar, axis=(0, 1, 2))\n",
    "        # NOTE I should check what big O time this is,  not sure\n",
    "        if(print_test):\n",
    "            print('hchar summed', hchar.shape, '\\n', hchar)\n",
    "\n",
    "    return np.sqrt(hchar)"
   ]
  },
  {
   "attachments": {},
   "cell_type": "markdown",
   "metadata": {},
   "source": [
    "ss_gws_by_ndars"
   ]
  },
  {
   "cell_type": "code",
   "execution_count": 108,
   "metadata": {},
   "outputs": [],
   "source": [
    "def ss_gws_by_ndars(edges, number, realize, round = True, print_test = False):\n",
    "       \n",
    "    \"\"\" More efficient way to calculate strain from numbered \n",
    "    grid integrated\n",
    "\n",
    "\n",
    "    Parameters\n",
    "    ----------\n",
    "    edges : (4,) list of 1darrays\n",
    "        A list containing the edges along each dimension.  The four dimensions correspond to\n",
    "        total mass, mass ratio, redshift, and observer-frame orbital frequency.\n",
    "        The length of each of the four arrays is M, Q, Z, F.\n",
    "    number : (M-1, Q-1, Z-1, F-1) ndarray of scalars\n",
    "        The number of binaries in each bin of parameter space.  This is calculated by integrating\n",
    "        `dnum` over each bin.\n",
    "    realize : bool or int,\n",
    "        Specification of how to construct one or more discrete realizations.\n",
    "        If a `bool` value, then whether or not to construct a realization.\n",
    "        If a `int` value, then how many discrete realizations to construct.\n",
    "    round : bool\n",
    "        Specification of whether to discretize the sample if realize is False, \n",
    "        by rounding number of binaries in each bin to integers. \n",
    "        Does nothing if realize is True.\n",
    "    ss : bool \n",
    "        Whether or not to separate the loudest single source in each frequency bin.\n",
    "    sum : bool\n",
    "        Whether or not to sum the strain at a given frequency over all bins.\n",
    "    print_test : bool\n",
    "        Whether or not to print variable as they are calculated, for dev purposes.\n",
    "\n",
    "\n",
    "    Returns\n",
    "    -------\n",
    "    hc_bg : ndarray\n",
    "        Characteristic strain of the GWB.\n",
    "        The shape depends on whether realize is an integer or not\n",
    "        realize = True or False: shape is (F-1)\n",
    "        realize = R: shape is  (F-1, R)\n",
    "    hc_ss : (F-1,) array of scalars\n",
    "        The characteristic strain of the loudest single source at each frequency.\n",
    "    ssidx : (F-1, 4) ndarray \n",
    "        The indices (m_idx, q_idx, z_idx, f_idx) of the parameters of the loudest single\n",
    "        source's bin, at each frequency such that \n",
    "        ssidx[i,0] = m_idx of the ith frequency\n",
    "        ssidx[i,1] = q_idx of the ith frequency\n",
    "        ssidx[i,2] = z_idx of the ith frequency\n",
    "        ssidx[i,3] = f_idx of the ith frequency = i\n",
    "    hsmax : (F-1) array of scalars \n",
    "        The maximum single source strain amplitude at each frequency.\n",
    "    bgnum : (M-1, Q-1, Z-1, F-1) ndarray\n",
    "        The number of binaries in each bin after the loudest single source\n",
    "        at each frequency is subtracted out.\n",
    "    ssnew : (4, F-1) ndarray\n",
    "        The indices of loudest single sources at each frequency in the\n",
    "        format: [[M indices], [q indices], [z indices], [f indices]]\n",
    "\n",
    "        \n",
    "\n",
    "    Potential BUG: In the unlikely scenario that there are two equal hsmaxes \n",
    "    (at same OR dif frequencies), ssidx calculation will go wrong\n",
    "    Could avoid this by using argwhere for each f_idx column separately.\n",
    "    Or TODO implement some kind of check to see if any argwheres return multiple \n",
    "    values for that hsmax and raises a warning/assertion error\n",
    "\n",
    "    NOTE: Probably don't need to return so many things, it's just useful for testing.\n",
    "\n",
    "    TODO: Calculate sspar\n",
    "    TODO: Implement realizations\n",
    "    TODO: Implement not summing, or remove option\n",
    "    \"\"\"\n",
    "\n",
    "    if(print_test):\n",
    "        print('INPUTS: edges:', len(edges), # '\\n', edges, \n",
    "        '\\nINPUTS:number:', number.shape, '\\n', number,'\\n')\n",
    "\n",
    "    # Frequency bin midpoints\n",
    "    foo = edges[-1]                   #: should be observer-frame orbital-frequencies\n",
    "    df = np.diff(foo)                 #: frequency bin widths\n",
    "    fc = kale.utils.midpoints(foo)    #: use frequency-bin centers for strain (more accurate!)\n",
    "\n",
    "    # All other bin midpoints\n",
    "    mt = kale.utils.midpoints(edges[0]) #: total mass\n",
    "    mr = kale.utils.midpoints(edges[1]) #: mass ratio\n",
    "    rz = kale.utils.midpoints(edges[2]) #: redshift\n",
    "\n",
    "\n",
    "    # --- Chirp Masses ---\n",
    "    # to get chirp mass in shape (M-1, Q-1) we need \n",
    "    # mt in shape (M-1, 1) \n",
    "    # mr in shape (1, Q-1)\n",
    "    cmass = utils.chirp_mass_mtmr(mt[:,np.newaxis], mr[np.newaxis,:])\n",
    "    if(print_test):\n",
    "        print('cmass:', cmass.shape, '\\n', cmass)\n",
    "\n",
    "    # --- Comoving Distances ---\n",
    "    # to get cdist in shape (Z-1) we need\n",
    "    # rz in shape (Z-1)\n",
    "    cdist = holo.cosmo.comoving_distance(rz).cgs.value\n",
    "    if(print_test):\n",
    "        print('cdist:', cdist.shape, '\\n', cdist)\n",
    "\n",
    "    # --- Rest Frame Frequencies ---\n",
    "    # to get rest freqs in shape (Z-1, F-1) we need \n",
    "    # rz in shape (Z-1, 1) \n",
    "    # fc in shape (1, F-1)\n",
    "    rfreq = holo.utils.frst_from_fobs(fc[np.newaxis,:], rz[:,np.newaxis])\n",
    "    if(print_test):\n",
    "        print('rfreq:', rfreq.shape, '\\n', rfreq)\n",
    "\n",
    "    # --- Source Strain Amplitude ---\n",
    "    # to get hs amplitude in shape (M-1, Q-1, Z-1, F-1) we need\n",
    "    # cmass in shape (M-1, Q-1, 1, 1) from (M-1, Q-1)\n",
    "    # cdist in shape (1, 1, Z-1, 1) from (Z-1)\n",
    "    # rfreq in shape (1, 1, Z-1, F-1) from (Z-1, F-1)\n",
    "    hsamp = utils.gw_strain_source(cmass[:,:,np.newaxis,np.newaxis],\n",
    "                                   cdist[np.newaxis,np.newaxis,:,np.newaxis],\n",
    "                                   rfreq[np.newaxis,np.newaxis,:,:])\n",
    "    if(print_test):\n",
    "        print('hsamp', hsamp.shape, '\\n', hsamp)\n",
    "\n",
    "\n",
    "    ############################################################\n",
    "    ########## HERE'S WHERE THINGS CHANGE FOR SS ###############\n",
    "    ############################################################\n",
    "\n",
    "    # --------------- Single Sources ------------------\n",
    "    ##### 0) Round and/or realize so numbers are all integers\n",
    "    if (round == True):\n",
    "        bgnum = np.copy(np.floor(number).astype(np.int64))\n",
    "        assert (np.all(bgnum%1 == 0)), 'non integer numbers found with round=True'\n",
    "        assert (np.all(bgnum >= 0)), 'negative numbers found with round=True'\n",
    "    else:\n",
    "        bgnum = np.copy(number)\n",
    "        if(ss==True):\n",
    "            warnings.warn('Number grid used for single source calculation.')\n",
    "\n",
    "    if(realize == True):\n",
    "        bgnum = np.random.poisson(number)\n",
    "        assert (np.all(bgnum%1 ==0)), 'nonzero numbers found with realize=True'\n",
    "    print('bgnum stats after copy\\n', holo.utils.stats(bgnum))\n",
    "\n",
    "    #### 1) Identify the loudest (max hs) single source in a bin with N>0 \n",
    "    hsamp[(bgnum==0)] = 0 #set hs=0 if number=0\n",
    "    # NOTE don't need to use where function when they are the same shape because I can use boolean indexing\n",
    "    # hsamp[bgnum==0] = 0\n",
    "\n",
    "\n",
    "\n",
    "    # --- Single Source Strain Amplitude At Each Frequency ---\n",
    "    # to get max strain in shape (F-1) we need\n",
    "    # hsamp in shape (M-1, Q-1, Z-1, F-1), search over first 3 axes\n",
    "    hsmax = np.amax(hsamp, axis=(0,1,2)) #find max hs at each frequency\n",
    "    \n",
    "    #### 2) Record the indices and strain of that single source\n",
    "\n",
    "    # --- Indices of Loudest Bin ---\n",
    "    # Shape (F-1, 4), looks like\n",
    "    # [[m_idx,q_idx,z_idx,0],\n",
    "    #  [m_idx,q_idx,z_idx,1],\n",
    "    #   ........\n",
    "    #  [m_idx,q_idx,z_idx,F-2]]\n",
    "    # no longer actually need this, but might be useful\n",
    "    ssidx = np.argwhere(hsamp==hsmax) \n",
    "    ssidx = ssidx[ssidx[:,-1].argsort()]\n",
    "\n",
    "    # --- Indices of Loudest Bin, New Method ---\n",
    "    # Shape (4, F-1), looks like\n",
    "    # [[m1,m2,..mN], [q1,q2,...qN], [z1,z2,...zN], [0,1,...N-1]]\n",
    "    # for N=F-1 frequencies\n",
    "    shape = hsamp.shape\n",
    "    newshape = (shape[0]*shape[1]*shape[2], shape[3])\n",
    "    hsamp = hsamp.reshape(newshape) # change hsamp to shape (M-1*Q-1*Z-1, F-1)\n",
    "    argmax = np.argmax(hsamp, axis=0) # max at each frequency\n",
    "    hsamp = hsamp.reshape(shape) # restore hsamp shape to (M-1, Q-1, Z-1, F-1)\n",
    "    mqz = np.array(np.unravel_index(argmax, shape[:-1])) # unravel indices\n",
    "    f_ids = np.linspace(0,len(mqz[0])-1,len(mqz[0])).astype(int) # frequency indices\n",
    "    ssnew = np.append(mqz, f_ids).reshape(4,len(f_ids))\n",
    "\n",
    "\n",
    "\n",
    "    ### 3) Subtract 1 from the number in that source's bin\n",
    "\n",
    "    # --- Background Number ---\n",
    "    # bgnum = subtract_from_number(bgnum, ssidx) # Find a better way to do this!\n",
    "    if np.any( bgnum[(hsamp == hsmax)] <=0):\n",
    "        raise Exception(\"bgnum <= found at hsmax\")\n",
    "    if np.any( hsamp[(hsamp == hsmax)] <=0):\n",
    "        raise Exception(\"hsamp <=0 found at hsmax\")\n",
    "    if np.any(hsmax<=0):\n",
    "        raise Exception(\"hsmax <=0 found\")\n",
    "   \n",
    "    # print('bgnum stats:\\n', holo.utils.stats(bgnum))\n",
    "    # print('bgnum[hsamp==hsmax] stats:\\n', holo.utils.stats(bgnum[(hsamp == hsmax)]))\n",
    "    bgnum[(hsamp == hsmax)]-=1 \n",
    "    # NOTE keep an eye out for if hsmax is not found anywhere in hsasmp\n",
    "    # could change to bgnum(np.where(hsamp==hsmax) & (bgnum >0))-=1\n",
    "    # print('\\nafter subtraction')\n",
    "    # print('bgnum stats:\\n', holo.utils.stats(bgnum))\n",
    "    # print('bgnum[hsamp==hsmax] stats:\\n', holo.utils.stats(bgnum[(hsamp == hsmax)]))\n",
    "\n",
    "    assert np.all(bgnum>=0), f\"bgnum contains negative values at: {np.where(bgnum<0)}\"\n",
    "    # if(np.any(bgnum<0)):   # alternate way to check for this error, and give index of neg number\n",
    "    #         error_index = *np.where(bgnum<0)\n",
    "    #         print('number<0 found at [M's], [q's], [z's], [f's]) =', error_index)   \n",
    "\n",
    "    \n",
    "\n",
    "    ### 4) Calculate single source characteristic strain (hc)\n",
    "\n",
    "    # --- Single Source Characteristic Strain ---\n",
    "    # to get ss char strain in shape [F-1] need\n",
    "    # fc in shape (F-1)\n",
    "    # df in shape (F-1)\n",
    "    hc_ss = np.sqrt(hsmax**2 * (fc/df))\n",
    "\n",
    "\n",
    "    # --- Parameters of loudest source ---\n",
    "    # NOTE: This would be useful to implement, or have separate function for\n",
    "\n",
    "    ### 5) Calculate the background with the new number \n",
    " \n",
    "    # --- Background Characteristic Strain Squared ---\n",
    "    # to get characteristic strain in shape (M-1, Q-1, Z-1, F-1) we need\n",
    "    # hsamp in shape (M-1, Q-1, Z-1, F-1)\n",
    "    # fc in shape (1, 1, 1, F-1)\n",
    "    hchar = hsamp**2 * (fc[np.newaxis, np.newaxis, np.newaxis,:]\n",
    "                        /df[np.newaxis, np.newaxis, np.newaxis,:])   \n",
    "    if (realize==False):\n",
    "        hchar *= bgnum\n",
    "    else:\n",
    "        raise Exception('realize not implemented yet') \n",
    "        \n",
    "\n",
    "    if(print_test):\n",
    "        print('hchar', hchar.shape, '\\n', hchar)\n",
    "\n",
    "    \n",
    "    # sum over all bins at a given frequency\n",
    "    hchar = np.sum(hchar, axis=(0, 1, 2))\n",
    "    if(print_test):\n",
    "        print('hchar summed', hchar.shape, '\\n', hchar)\n",
    "\n",
    "    hc_bg = np.sqrt(hchar)\n",
    "\n",
    "    return hc_bg, hc_ss, hsamp, ssidx, hsmax, bgnum, ssnew\n"
   ]
  },
  {
   "attachments": {},
   "cell_type": "markdown",
   "metadata": {},
   "source": [
    "## 1.3 Test Functions\n",
    "Consider changing all the np.all(x==y) to np.isclose(x,y)"
   ]
  },
  {
   "cell_type": "code",
   "execution_count": 109,
   "metadata": {},
   "outputs": [],
   "source": [
    "def max_test(hsmax, hsamp): \n",
    "    # check hsmaxes are correct\n",
    "    hsmax_hsamp_match = np.empty_like(hsmax)\n",
    "    for f_idx in range(len(hsmax)):\n",
    "        hsmax_hsamp_match[f_idx] = (np.max(hsamp[...,f_idx]) == hsmax[f_idx])\n",
    "    assert np.all(hsmax_hsamp_match == True), \"the max amplitudes in hsamp do not match those in hsmax\"\n",
    "    print('max_test passed')\n",
    "\n",
    "def ssidx_test(hsmax, hsamp, ssidx, print_test):\n",
    "    \"\"\" \n",
    "    Test ssidx in hsamp gives the same values as hsmax\n",
    "\n",
    "    Parameters\n",
    "    ----------\n",
    "    hsmax : (F,) array of scalars\n",
    "        Maximum strain amplitude of a single source at each frequency.\n",
    "    hsamp : (M, Q, Z, F,) ndarray of scalar\n",
    "        Strain amplitude of a source in each bin\n",
    "    ssidx : (F-1, 4) ndarray \n",
    "        \n",
    "\n",
    "    \"\"\"\n",
    "    # check ssidx are correct and in frequency order\n",
    "    for i in range(len(hsmax)): #ith frequency\n",
    "        m,q,z,f = ssidx[i]\n",
    "        assert i==f, 'ssidx not in order of frequencies'\n",
    "        if(print_test):\n",
    "            print('max is at m,q,z,f = %d, %d, %d, %d and it = %.2e'\n",
    "                  % (m, q, z, f, hsmax[i]))\n",
    "        assert (hsamp[m,q,z,f] == hsmax[i]), f\"The ssidx[{i}] does not give the hsmax[{i}].\"\n",
    "    print('ssidx test passes')\n",
    "\n",
    "\n",
    "def ssnew_test(hsmax, hsamp, ssnew, print_test):\n",
    "    \"\"\" \n",
    "    Test ssnew in hsamp gives the same values as hsmax\n",
    "\n",
    "    Parameters\n",
    "    ----------\n",
    "    hsmax : (F,) array of scalars\n",
    "        Maximum strain amplitude of a single source at each frequency.\n",
    "    hsamp : (M, Q, Z, F,) ndarray of scalar\n",
    "        Strain amplitude of a source in each bin\n",
    "    ssnew : (4, F-1) ndarray \n",
    "        \n",
    "\n",
    "    \"\"\"\n",
    "    maxes = hsamp[ssnew[0], ssnew[1], ssnew[2], ssnew[3]]\n",
    "    if(print_test):\n",
    "        print('maxes by hsamp[ssnew[0], ssnew[1], ssnew[2], ssnew[3]] are:',\n",
    "        maxes)\n",
    "    \n",
    "    assert np.all(maxes == hsmax), f\"ssnew does not give correct hs maxes\"\n",
    "    print('ssnew test passes')\n",
    "\n",
    "\n",
    "\n",
    "def number_test(num, bgnum, fobs, exname='', plot_test=False):\n",
    "    ''' \n",
    "    Plots num - bgnum, where number is the ndarray of \n",
    "    integer number of sources in each bin, i.e. after \n",
    "    rounding or Poisson sampling\n",
    "\n",
    "    Parameters\n",
    "    ------------\n",
    "    num : (M, Q, Z, F) array\n",
    "        integer numbers in each bin, i.e. after rounding or\n",
    "        Poisson sampling\n",
    "    bgnum : (M, Q, Z, F) array\n",
    "        number of background sources in each bin, \n",
    "        after single source subtraction\n",
    "    fobs : (F) array\n",
    "        frequencies of each F, for ax titles\n",
    "    exname : String\n",
    "        name of example\n",
    "    plot_test : Bool\n",
    "        whether or not to print values a\n",
    "\n",
    "\n",
    "    Returns\n",
    "    -----------\n",
    "    None \n",
    "    \n",
    "    '''   \n",
    "    if np.all(num%1 == 0) != True: warnings.warn(\"num contains at least one non-integer value\")\n",
    "    difs = num - bgnum\n",
    "    assert len(difs[np.where(difs>0)]) == len(difs[0,0,0,:]), \"More than one bin per frequency found with a single source subtracted.\"\n",
    "\n",
    "    if(plot_test):\n",
    "        fig, ax = plt.subplots(1,len(fobs), figsize = (10,3), sharey=True)\n",
    "        fig.suptitle('integer number - numbg for each bin, '+ exname)\n",
    "        ax[0].set_ylabel('number - number_bg')\n",
    "        bins = np.arange(0, num[...,0].size, 1)\n",
    "        bins = np.reshape(bins, num[...,0].shape)\n",
    "        # print(bins.shape)\n",
    "        # print(num[...,0].shape)\n",
    "        for f in range(len(fobs)):\n",
    "            ax[f].scatter(bins, (num[...,f] - bgnum[...,f]))\n",
    "            ax[f].set_title('$f_\\mathrm{obs}$ = %dnHz' % (fobs[f]*10**9))\n",
    "            ax[f].set_xlabel('bin')\n",
    "        fig.tight_layout()\n",
    "    print('number test passed')\n",
    "\n",
    "    \n",
    "    # TODO Assertion \n",
    "\n",
    "def compare_to_loops_test(edges, number, hc_bg, hc_ss, hsmax, ssidx, bgnum):\n",
    "    hc_bg_loop, hc_ss_loop, sspar_loop, ssidx_loop, maxhs_loop, number_bg_loop \\\n",
    "      = ss_gws_by_loops(edges, number, realize=False, round=True, print_test=False)\n",
    "    \n",
    "    for i in range(len(ssidx)):\n",
    "        assert np.all(ssidx[i, 0:3] == ssidx_loop[i,:]), \\\n",
    "            f\"ssidx[{i}] by ndars does not match by loops\"\n",
    "    assert (np.all(bgnum == number_bg_loop)), \"bgnum by ndars does not match by loops\"\n",
    "    assert (np.all(hc_ss == hc_ss_loop)), \"hc_ss by ndars does not match by loops\"    \n",
    "    assert (np.all(hsmax == maxhs_loop)), \"hsmax by ndars does not match by loops\" \n",
    "    assert (np.all(hsmax == maxhs_loop)), \"hsmax by ndars does not match by loops\"\n",
    "    assert (np.all(np.isclose(hc_bg, hc_bg_loop, atol=1e-20, rtol=1e-20))), \\\n",
    "        \"hc_bg by ndars does not match by loops\"\n",
    "    print('compare to loops test passed')\n",
    "\n",
    "def quadratic_sum_test(hc_bg, hc_ss, hc_tt, print_test):\n",
    "    test = (hc_bg**2 + hc_ss**2)\n",
    "    error = (test-hc_tt**2)/hc_tt**2\n",
    "    assert np.all(np.isclose(hc_tt, test, atol=2e-15, rtol=1e-15)), \\\n",
    "        \"quadratic sum of hc_bg and hc_ss does not match hc_tt\"\n",
    "    if(print_test):\n",
    "        print('percent error between (hc_bg^2+hc_ss^2) and hc_tt^2:', error)\n",
    "        print('differences between np.sqrt((hc_bg^2+hc_ss^2)) and hc_tt:', \n",
    "              np.sqrt(test) - hc_tt)\n",
    "    print('quadratic sum test passed')\n",
    "\n",
    "\n",
    "\n",
    "def run_example_tests(edges,number, fobs, exname='', print_test=False, \n",
    "                     loop_comparison = True):\n",
    "    '''\n",
    "    Call tests for some edges, number\n",
    "    Paramaters\n",
    "    ----------\n",
    "    edges : (4,) list of 1D arrays\n",
    "        Mass, ratio, redshift, and frequency edges of bins\n",
    "    number : (M, Q, Z, F) ndarray of scalars\n",
    "        Number of binaries in each bin\n",
    "    fobs : (F,) array of scalars\n",
    "        Observed frequency bin centers\n",
    "    exname : String\n",
    "        Name of example (used for number plots)\n",
    "\n",
    "    Returns\n",
    "    ------\n",
    "    hsamp\n",
    "    hsmax\n",
    "    ssidx\n",
    "    bgnum\n",
    "    '''\n",
    "    hc_bg, hc_ss, hsamp, ssidx, hsmax, bgnum = ss_gws_by_ndars(edges, number, realize=False, round=True)\n",
    "    max_test(hsmax, hsamp)\n",
    "\n",
    "    ssidx_test(hsmax, hsamp, ssidx, print_test)\n",
    "\n",
    "    rounded = np.floor(number).astype(np.int64)\n",
    "    number_test(rounded, bgnum, fobs, exname, plot_test=print_test)\n",
    "    \n",
    "    if(loop_comparison): # optional because its faster without\n",
    "        compare_to_loops_test(edges, number, hc_bg, hc_ss, hsmax, ssidx, bgnum)\n",
    "\n",
    "    hc_tt = gws_by_ndars(edges, number, realize=False, round = True, sum=True)  \n",
    "    quadratic_sum_test(hc_bg, hc_ss, hc_tt, print_test)\n",
    "\n",
    "    return hc_bg, hc_ss, hsamp, ssidx, hsmax, bgnum"
   ]
  },
  {
   "attachments": {},
   "cell_type": "markdown",
   "metadata": {},
   "source": [
    "run tests"
   ]
  },
  {
   "cell_type": "code",
   "execution_count": 110,
   "metadata": {},
   "outputs": [
    {
     "ename": "TypeError",
     "evalue": "ss_gws_by_ndars() got an unexpected keyword argument 'ss'",
     "output_type": "error",
     "traceback": [
      "\u001b[0;31m---------------------------------------------------------------------------\u001b[0m",
      "\u001b[0;31mTypeError\u001b[0m                                 Traceback (most recent call last)",
      "\u001b[1;32m/Users/emigardiner/GWs/holodeck/ecg-notebooks/single_sources/singlesources.ipynb Cell 23\u001b[0m in \u001b[0;36m<cell line: 3>\u001b[0;34m()\u001b[0m\n\u001b[1;32m      <a href='vscode-notebook-cell:/Users/emigardiner/GWs/holodeck/ecg-notebooks/single_sources/singlesources.ipynb#X32sZmlsZQ%3D%3D?line=0'>1</a>\u001b[0m edges, number, fobs, exname \u001b[39m=\u001b[39m example2(print_test\u001b[39m=\u001b[39m\u001b[39mFalse\u001b[39;00m)\n\u001b[1;32m      <a href='vscode-notebook-cell:/Users/emigardiner/GWs/holodeck/ecg-notebooks/single_sources/singlesources.ipynb#X32sZmlsZQ%3D%3D?line=1'>2</a>\u001b[0m hc_bg, hc_ss, hsamp, ssidx, hsmax, bgnum \u001b[39m=\u001b[39m \\\n\u001b[0;32m----> <a href='vscode-notebook-cell:/Users/emigardiner/GWs/holodeck/ecg-notebooks/single_sources/singlesources.ipynb#X32sZmlsZQ%3D%3D?line=2'>3</a>\u001b[0m     run_example_tests(edges, number, fobs, exname, print_test\u001b[39m=\u001b[39;49m\u001b[39mFalse\u001b[39;49;00m)\n",
      "\u001b[1;32m/Users/emigardiner/GWs/holodeck/ecg-notebooks/single_sources/singlesources.ipynb Cell 23\u001b[0m in \u001b[0;36mrun_example_tests\u001b[0;34m(edges, number, fobs, exname, print_test, loop_comparison)\u001b[0m\n\u001b[1;32m    <a href='vscode-notebook-cell:/Users/emigardiner/GWs/holodeck/ecg-notebooks/single_sources/singlesources.ipynb#X32sZmlsZQ%3D%3D?line=134'>135</a>\u001b[0m \u001b[39mdef\u001b[39;00m \u001b[39mrun_example_tests\u001b[39m(edges,number, fobs, exname\u001b[39m=\u001b[39m\u001b[39m'\u001b[39m\u001b[39m'\u001b[39m, print_test\u001b[39m=\u001b[39m\u001b[39mFalse\u001b[39;00m, \n\u001b[1;32m    <a href='vscode-notebook-cell:/Users/emigardiner/GWs/holodeck/ecg-notebooks/single_sources/singlesources.ipynb#X32sZmlsZQ%3D%3D?line=135'>136</a>\u001b[0m                      loop_comparison \u001b[39m=\u001b[39m \u001b[39mTrue\u001b[39;00m):\n\u001b[1;32m    <a href='vscode-notebook-cell:/Users/emigardiner/GWs/holodeck/ecg-notebooks/single_sources/singlesources.ipynb#X32sZmlsZQ%3D%3D?line=136'>137</a>\u001b[0m     \u001b[39m'''\u001b[39;00m\n\u001b[1;32m    <a href='vscode-notebook-cell:/Users/emigardiner/GWs/holodeck/ecg-notebooks/single_sources/singlesources.ipynb#X32sZmlsZQ%3D%3D?line=137'>138</a>\u001b[0m \u001b[39m    Call tests for some edges, number\u001b[39;00m\n\u001b[1;32m    <a href='vscode-notebook-cell:/Users/emigardiner/GWs/holodeck/ecg-notebooks/single_sources/singlesources.ipynb#X32sZmlsZQ%3D%3D?line=138'>139</a>\u001b[0m \u001b[39m    Paramaters\u001b[39;00m\n\u001b[0;32m   (...)\u001b[0m\n\u001b[1;32m    <a href='vscode-notebook-cell:/Users/emigardiner/GWs/holodeck/ecg-notebooks/single_sources/singlesources.ipynb#X32sZmlsZQ%3D%3D?line=154'>155</a>\u001b[0m \u001b[39m    bgnum\u001b[39;00m\n\u001b[1;32m    <a href='vscode-notebook-cell:/Users/emigardiner/GWs/holodeck/ecg-notebooks/single_sources/singlesources.ipynb#X32sZmlsZQ%3D%3D?line=155'>156</a>\u001b[0m \u001b[39m    '''\u001b[39;00m\n\u001b[0;32m--> <a href='vscode-notebook-cell:/Users/emigardiner/GWs/holodeck/ecg-notebooks/single_sources/singlesources.ipynb#X32sZmlsZQ%3D%3D?line=156'>157</a>\u001b[0m     hc_bg, hc_ss, hsamp, ssidx, hsmax, bgnum \u001b[39m=\u001b[39m ss_gws_by_ndars(edges, number, realize\u001b[39m=\u001b[39;49m\u001b[39mFalse\u001b[39;49;00m, \u001b[39mround\u001b[39;49m\u001b[39m=\u001b[39;49m\u001b[39mTrue\u001b[39;49;00m, ss\u001b[39m=\u001b[39;49m\u001b[39mTrue\u001b[39;49;00m, \u001b[39msum\u001b[39;49m\u001b[39m=\u001b[39;49m\u001b[39mTrue\u001b[39;49;00m)\n\u001b[1;32m    <a href='vscode-notebook-cell:/Users/emigardiner/GWs/holodeck/ecg-notebooks/single_sources/singlesources.ipynb#X32sZmlsZQ%3D%3D?line=157'>158</a>\u001b[0m     max_test(hsmax, hsamp)\n\u001b[1;32m    <a href='vscode-notebook-cell:/Users/emigardiner/GWs/holodeck/ecg-notebooks/single_sources/singlesources.ipynb#X32sZmlsZQ%3D%3D?line=159'>160</a>\u001b[0m     ssidx_test(hsmax, hsamp, ssidx, print_test)\n",
      "\u001b[0;31mTypeError\u001b[0m: ss_gws_by_ndars() got an unexpected keyword argument 'ss'"
     ]
    }
   ],
   "source": [
    "edges, number, fobs, exname = example2(print_test=False)\n",
    "hc_bg, hc_ss, hsamp, ssidx, hsmax, bgnum = \\\n",
    "    run_example_tests(edges, number, fobs, exname, print_test=False)"
   ]
  },
  {
   "cell_type": "code",
   "execution_count": 13,
   "metadata": {},
   "outputs": [
    {
     "name": "stdout",
     "output_type": "stream",
     "text": [
      "max_test passed\n",
      "ssidx test passes\n",
      "number test passed\n",
      "compare to loops test passed\n",
      "quadratic sum test passed\n"
     ]
    }
   ],
   "source": [
    "edges, number, fobs, exname = example3(print_test=False)\n",
    "hc_bg, hc_ss, hsamp, ssidx, hsmax, bgnum = \\\n",
    "    run_example_tests(edges, number, fobs, exname, print_test=False)"
   ]
  },
  {
   "cell_type": "code",
   "execution_count": 14,
   "metadata": {},
   "outputs": [
    {
     "name": "stdout",
     "output_type": "stream",
     "text": [
      "max_test passed\n",
      "ssidx test passes\n",
      "number test passed\n",
      "compare to loops test passed\n",
      "quadratic sum test passed\n"
     ]
    }
   ],
   "source": [
    "edges, number, fobs, exname = example4(print_test=False)\n",
    "hc_bg, hc_ss, hsamp, ssidx, hsmax, bgnum = \\\n",
    "    run_example_tests(edges, number, fobs, exname, print_test=False)"
   ]
  },
  {
   "attachments": {},
   "cell_type": "markdown",
   "metadata": {},
   "source": [
    "## 1.4 Random Other Functions"
   ]
  },
  {
   "cell_type": "markdown",
   "metadata": {},
   "source": [
    "grid:\n",
    "\n",
    "1x  |  xx  |  xx  |  xx  |  xx \\\n",
    "xx  |  9x  |  x3  |  xx  |  xx \\\n",
    "xx  |  xx  |  xx  |  x4  |  x5 "
   ]
  },
  {
   "cell_type": "code",
   "execution_count": 106,
   "metadata": {},
   "outputs": [
    {
     "name": "stdout",
     "output_type": "stream",
     "text": [
      "(2, 1, 3, 5)\n"
     ]
    }
   ],
   "source": [
    "grid = np.array([[[[1,0,0,0,0],[0,9,0,0,0],[0,0,0,0,0]]],\n",
    "                 [[[0,0,0,0,0],[0,0,3,0,0],[0,0,0,4,5]]]])\n",
    "print(grid.shape)"
   ]
  },
  {
   "cell_type": "code",
   "execution_count": 103,
   "metadata": {},
   "outputs": [],
   "source": [
    "def subtract_from_number(bgnum, ssidx):\n",
    "    ''' \n",
    "    Inefficient way to subtract 1 from the number of all bins \n",
    "    with a loudest single source\n",
    "    \n",
    "    Paramaters\n",
    "    -------------\n",
    "    bgnum : (M, Q, Z, F) array\n",
    "        number of sources in each bin, before\n",
    "        single sources have been subtracted\n",
    "    ssidx : (F, 4) array \n",
    "        The indices (m_idx, q_idx, and z_idx) of the parameters of the \n",
    "        loudest single source's bin, at each frequency\n",
    "\n",
    "    Returns\n",
    "    -------------\n",
    "    bgnum : (M, Q, Z, F) array\n",
    "        number of background sources in each bin,\n",
    "        after single sources have been subtracted\n",
    "    '''\n",
    "\n",
    "    for ff in range(len(ssidx)):\n",
    "        m,q,z,f = ssidx[ff]\n",
    "        print(m,q,z,f)\n",
    "        bgnum[m,q,z,f] -=1\n",
    "    return bgnum\n",
    "\n",
    "def max_index_at_f(grid):\n",
    "    \"\"\" Get the index of the maximum value for each frequency. \n",
    "    Frequency is the 4th dimension of the 4Darray, grid.\n",
    "    NOTE: Find a more elegant way to do this with some fancy indexing! Or\n",
    "    at least choose which option works best and just use that\n",
    "\n",
    "    Parameters:\n",
    "    grid : [M,Q,Z,F] array\n",
    "        test grid\n",
    "\n",
    "    Returns:\n",
    "    mqz_f : (3, F) array\n",
    "        Indices of max grid value at each frequency\n",
    "        For F frequencies, it looks like \n",
    "        [[m1,m2,...,mF], [q1,q2,...,qF], [z1,z2,...,zF]] \n",
    "    f_mqz : (F, 3) array\n",
    "        Indices of max grid value at each frequency\n",
    "        For F frequencies it looks like\n",
    "        [[m1,q1,z1,1], [m2,q2,z2,2], ..., [mF,qF,zF,F]]\n",
    "    all_f : (4, F) array\n",
    "        Indices of max grid value at each frequency\n",
    "        For n frequencies, it looks like \n",
    "        [[m1,m2,...,mF], [q1,q2,...,qF], [z1,z2,...,zF], [1,2,...,F]] \n",
    "    f_all : (F, 4) array\n",
    "        Indices of max grid value at each frequency\n",
    "        For F frequencies it looks like\n",
    "        [[m1,q1,z1,1], [m2,q2,z2,2], ..., [mF,qF,zF,F]]\n",
    "    \"\"\"\n",
    "    mqz_f = np.empty((3,len(grid[0,0,0,:])))\n",
    "    f_mqz = np.empty((len(grid[0,0,0,:]),3))\n",
    "    all_f = np.empty((4, len(grid[0,0,0,:])))\n",
    "    f_all = np.empty((len(grid[0,0,0,:]),4))\n",
    "\n",
    "    for f_idx in range(len(grid[0,0,0,:])):\n",
    "        m,q,z = np.unravel_index(np.argmax(grid[...,f_idx]), \n",
    "                                 grid[...,f_idx].shape)\n",
    "        mqz_f[:,f_idx] = np.array([m,q,z])\n",
    "        f_mqz[f_idx,:] = np.array([m,q,z])\n",
    "        all_f[:, f_idx] = np.array([m,q,z,f_idx])\n",
    "        f_all[f_idx,:] = np.array([m,q,z,f_idx])\n",
    "    mqz_f = mqz_f.astype(int)\n",
    "    f_mqz = f_mqz.astype(int)\n",
    "    all_f = all_f.astype(int)\n",
    "    f_all = f_all.astype(int)\n",
    "    return mqz_f, f_mqz, all_f, f_all\n",
    "\n",
    "def argwhere_at_f(grid):\n",
    "    \"\"\" Get the index of the maximum value for each frequency. \n",
    "    Frequency is the 4th dimension of the 4Darray, grid.\n",
    "    NOTE: This should match f_all\n",
    "\n",
    "    Parameters:\n",
    "    grid : [M,Q,Z,F] array\n",
    "        test grid\n",
    "\n",
    "    Returns:\n",
    "    argwhere : (F, 4) array\n",
    "        Indices of max grid value at each frequency\n",
    "        For F frequencies it looks like\n",
    "        [[m1,q1,z1,1], [m2,q2,z2,2], ..., [mF,qF,zF,F]]\n",
    "    \n",
    "    \"\"\"\n",
    "    maxes = np.max(grid, axis=(0,1,2))\n",
    "    # print(maxes)\n",
    "    argwhere = np.argwhere(grid==maxes)\n",
    "    # print(argwhere)\n",
    "    return argwhere\n",
    "\n",
    "\n",
    "def reshaped_argmax_at_f(grid, print_test=False):\n",
    "    \"\"\" \n",
    "    Parameters:\n",
    "    ----------\n",
    "    grid : (M, Q, Z, F,) ndarray of scalars\n",
    "        e.g. hsamp\n",
    "    print_test : Bool\n",
    "        whether or not to print values along the way\n",
    "    \n",
    "    Returns:\n",
    "    --------\n",
    "    maxidx : (3,) tuple of 1D scalar arrays\n",
    "        M indicies, q indices, z indices for max value \n",
    "        in grid for each F.\n",
    "\n",
    "    \"\"\"\n",
    "    shape = grid.shape\n",
    "    if(print_test):\n",
    "        print('old grid', grid.shape, '\\n', grid)\n",
    "    newshape = (shape[0]*shape[1]*shape[2], shape[3])\n",
    "    grid = grid.reshape(newshape)\n",
    "    if(print_test):\n",
    "        print('new grid', grid.shape, '\\n', grid)\n",
    "\n",
    "    # max over all other bins at each frequency\n",
    "    argmax = np.argmax(grid, axis=0)\n",
    "    if(print_test):\n",
    "        print('argmax', argmax)\n",
    "\n",
    "    # unravel\n",
    "    grid = grid.reshape(shape)\n",
    "    if(print_test):\n",
    "        print('m,q,z shape:', shape[:-1])\n",
    "\n",
    "    # m,q,z= mqz[0][i], mqz[1][i], mqz[2][i] #, mqz[3][i] for a frequency i\n",
    "    mqz = np.array(np.unravel_index(argmax, shape[:-1]))\n",
    "\n",
    "    if(print_test):\n",
    "        for i in range(len(grid[0,0,0,:])):\n",
    "            m,q,z= mqz[0][i], mqz[1][i], mqz[2][i] \n",
    "            print('mqz[:,i] m,q,z,f = ', m,q,z,i)\n",
    "            print('grid[m,q,z,f] =', grid[m,q,z,i])\n",
    "    return mqz\n",
    "\n",
    "def mqzf_from_mqz(mqz, print_test=False):\n",
    "    f_indices = np.linspace(0,len(mqz[0])-1,len(mqz[0])).astype(int)\n",
    "    if(print_test):\n",
    "        print('f_indices', f_indices)\n",
    "    mqzf = np.empty((len(f_indices),4), dtype=int)\n",
    "    for i in range(len(f_indices)):\n",
    "        m,q,z,f = mqz[0][i], mqz[1][i], mqz[2][i], f_indices[i]\n",
    "        if(print_test):\n",
    "            print('m,q,z,f', m,q,z,f)\n",
    "            print('grid[m,q,z,f] =', grid[m,q,z,f])\n",
    "        mqzf[i] = np.array([m,q,z,f])\n",
    "    if (print_test):\n",
    "        print('mqzf', mqzf.shape, '\\n', mqzf)\n",
    "    return mqzf\n",
    "    \n",
    "def faster_mqzf_from_mqz(mqz, print_test = False):\n",
    "    f_indices = np.linspace(0,len(mqz[0])-1,len(mqz[0])).astype(int)\n",
    "    mqzf = np.append(mqz, f_indices).reshape(4,len(f_indices))\n",
    "    # this gives us (all m's, all q's, all z's, all f's). I like this!\n",
    "\n",
    "    return mqzf\n",
    "    # to get maxes from grid with fancy indexing\n",
    "    # use grid[mqzf[0], mqzf[1], mqzf[2], mqzf[3]]\n",
    "\n",
    "    # not certain why grid[mqzf] doesn't work\n",
    "    \n",
    "    # implementing this as ssnew\n",
    "\n",
    "def ssnew(grid):\n",
    "    shape = grid.shape\n",
    "    newshape = (shape[0]*shape[1]*shape[2], shape[3])\n",
    "    grid = grid.reshape(newshape)\n",
    "   \n",
    "    argmax = np.argmax(grid, axis=0) # max over all other bins at each frequency\n",
    "\n",
    "    # unravel\n",
    "    grid = grid.reshape(shape)\n",
    "    # m,q,z= mqz[0][i], mqz[1][i], mqz[2][i] #, mqz[3][i] for a frequency i\n",
    "    mqz = np.array(np.unravel_index(argmax, shape[:-1]))\n",
    "\n",
    "    f_indices = np.linspace(0,len(mqz[0])-1,len(mqz[0])).astype(int)\n",
    "    mqzf = np.append(mqz, f_indices).reshape(4,len(f_indices))\n",
    "    return mqzf\n"
   ]
  },
  {
   "cell_type": "code",
   "execution_count": 75,
   "metadata": {},
   "outputs": [
    {
     "name": "stdout",
     "output_type": "stream",
     "text": [
      "4\n",
      "3\n",
      "(5, 4)\n",
      "m,q,z,f =  0 0 0 0 , grid[m,q,z,f]= 1\n",
      "m,q,z,f =  0 0 1 1 , grid[m,q,z,f]= 9\n",
      "m,q,z,f =  1 0 1 2 , grid[m,q,z,f]= 3\n",
      "m,q,z,f =  1 0 2 3 , grid[m,q,z,f]= 4\n",
      "m,q,z,f =  1 0 2 4 , grid[m,q,z,f]= 5\n"
     ]
    }
   ],
   "source": [
    "def test_reshaped_argmax(grid, print_test=False):\n",
    "    maxes = reshaped_argmax_at_f(grid, print_test=print_test)\n",
    "    print(len(maxes[0])-1)\n",
    "    mqzf = mqzf_from_mqz(maxes, print_test=False)\n",
    "    print(len(maxes))\n",
    "    print(mqzf.shape)\n",
    "    # print('mqzf', mqzf.shape, '\\n', mqzf)\n",
    "    for i in range(len(grid[0,0,0,:])):\n",
    "        m,q,z,f = mqzf[i] #.astype(int)\n",
    "        print('m,q,z,f = ', m,q,z,f, ', grid[m,q,z,f]=', grid[m,q,z,f])\n",
    "test_reshaped_argmax(grid, False)\n"
   ]
  },
  {
   "cell_type": "code",
   "execution_count": null,
   "metadata": {},
   "outputs": [],
   "source": [
    "def test_faster_reshaped_argmax(grid, print_test=False):\n",
    "    maxes = reshaped_argmax_at_f(grid, print_test=print_test)\n",
    "    print(len(maxes[0])-1)\n",
    "    mqzf = mqzf_from_mqz(maxes, print_test=False)\n",
    "    print(len(maxes))\n",
    "    print(mqzf.shape)\n",
    "    # print('mqzf', mqzf.shape, '\\n', mqzf)\n",
    "    for i in range(len(grid[0,0,0,:])):\n",
    "        m,q,z,f = mqzf[i] #.astype(int)\n",
    "        print('m,q,z,f = ', m,q,z,f, ', grid[m,q,z,f]=', grid[m,q,z,f])\n",
    "test_reshaped_argmax(grid, False)"
   ]
  },
  {
   "cell_type": "code",
   "execution_count": 105,
   "metadata": {},
   "outputs": [
    {
     "name": "stdout",
     "output_type": "stream",
     "text": [
      "maxes are: [1 9 3 4 5]\n"
     ]
    }
   ],
   "source": [
    "def test_ssnew(grid):\n",
    "    mqzf = ssnew(grid)\n",
    "    print('maxes are:', grid[mqzf[0], mqzf[1], mqzf[2], mqzf[3]])\n",
    "test_ssnew(grid)"
   ]
  },
  {
   "cell_type": "code",
   "execution_count": 202,
   "metadata": {},
   "outputs": [],
   "source": [
    "def test_argwhere(grid):\n",
    "    # check argwhere find max indices correctly\n",
    "    f_all = (max_index_at_f(grid))[-1]\n",
    "    argwhere = argwhere_at_f(grid)\n",
    "    assert (np.all(f_all == argwhere)), 'argwhere failing to find correct max indices'\n"
   ]
  },
  {
   "attachments": {},
   "cell_type": "markdown",
   "metadata": {},
   "source": [
    "## Scratch"
   ]
  },
  {
   "attachments": {},
   "cell_type": "markdown",
   "metadata": {},
   "source": [
    "grid:\n",
    "\n",
    "1x  |  xx  |  xx  |  xx  |  xx \\\n",
    "xx  |  9x  |  x3  |  xx  |  xx \\\n",
    "xx  |  xx  |  xx  |  x4  |  x5 "
   ]
  },
  {
   "cell_type": "code",
   "execution_count": 11,
   "metadata": {},
   "outputs": [
    {
     "name": "stdout",
     "output_type": "stream",
     "text": [
      "(2, 1, 3, 5)\n",
      "mqz_f:\n",
      " [[0 0 1 1 1]\n",
      " [0 0 0 0 0]\n",
      " [0 1 1 2 2]]\n",
      "\n",
      "f_mqz:\n",
      " [[0 0 0]\n",
      " [0 0 1]\n",
      " [1 0 1]\n",
      " [1 0 2]\n",
      " [1 0 2]]\n",
      "\n",
      "all_f:\n",
      " [[0 0 1 1 1]\n",
      " [0 0 0 0 0]\n",
      " [0 1 1 2 2]\n",
      " [0 1 2 3 4]]\n",
      "\n",
      "f_all:\n",
      " [[0 0 0 0]\n",
      " [0 0 1 1]\n",
      " [1 0 1 2]\n",
      " [1 0 2 3]\n",
      " [1 0 2 4]]\n"
     ]
    }
   ],
   "source": [
    "grid = np.array([[[[1,0,0,0,0],[0,9,0,0,0],[0,0,0,0,0]]],\n",
    "                 [[[0,0,0,0,0],[0,0,3,0,0],[0,0,0,4,5]]]])\n",
    "print(grid.shape)\n",
    "mqz_f, f_mqz, all_f, f_all= max_index_at_f(grid)\n",
    "print('mqz_f:\\n',mqz_f)\n",
    "print('\\nf_mqz:\\n', f_mqz)\n",
    "print('\\nall_f:\\n', all_f)\n",
    "print('\\nf_all:\\n', f_all)"
   ]
  },
  {
   "cell_type": "code",
   "execution_count": 19,
   "metadata": {},
   "outputs": [
    {
     "name": "stdout",
     "output_type": "stream",
     "text": [
      "[1 9 3 4 5]\n",
      "0 0 0 0 grid max: 1\n",
      "0 0 1 1 grid max: 9\n",
      "1 0 1 2 grid max: 3\n",
      "1 0 2 3 grid max: 4\n",
      "1 0 2 4 grid max: 5\n",
      "[[0 0 0 0]\n",
      " [0 0 1 1]\n",
      " [1 0 1 2]\n",
      " [1 0 2 3]\n",
      " [1 0 2 4]]\n"
     ]
    }
   ],
   "source": [
    "maxes = np.amax(grid, axis=(0,1,2))\n",
    "print(maxes)\n",
    "\n",
    "hsmax = np.amax(grid, axis=(0,1,2)) #find max hs at each frequency\n",
    "    \n",
    "    #### 2) Record the indices and strain of that single source\n",
    "\n",
    "# --- Indices of Loudest Bin ---\n",
    "# Shape [F-1, 4], looks like\n",
    "# [[m_idx,q_idx,z_idx,0],\n",
    "#  [m_idx,q_idx,z_idx,1],\n",
    "#   ........\n",
    "#  [m_idx,q_idx,z_idx,F-2]]\n",
    "ssidx = np.argwhere(grid==hsmax) # NOTE: \n",
    "for s in range(len(ssidx)):\n",
    "    m,q,z,f = ssidx[s]\n",
    "    print(m,q,z,f, 'grid max:',grid[m,q,z,f])\n",
    "print(ssidx)"
   ]
  },
  {
   "attachments": {},
   "cell_type": "markdown",
   "metadata": {},
   "source": [
    "grid: argwhere vs where"
   ]
  },
  {
   "cell_type": "code",
   "execution_count": 33,
   "metadata": {},
   "outputs": [
    {
     "name": "stdout",
     "output_type": "stream",
     "text": [
      "where:\n",
      " (array([0, 0, 1, 1, 1], dtype=int64), array([0, 0, 0, 0, 0], dtype=int64), array([0, 1, 1, 2, 2], dtype=int64), array([0, 1, 2, 3, 4], dtype=int64))\n",
      "np.where unpacked and put in numpy array\n",
      " [[0 0 1 1 1]\n",
      " [0 0 0 0 0]\n",
      " [0 1 1 2 2]\n",
      " [0 1 2 3 4]]\n",
      "argwhere:\n",
      " [[0 0 0 0]\n",
      " [0 0 1 1]\n",
      " [1 0 1 2]\n",
      " [1 0 2 3]\n",
      " [1 0 2 4]]\n",
      "first point [0 0 0 0] [0 0 0 0]\n",
      "f: by np.array[*where][:,f] [0 0 0 0] or by argwhere[f,:] [0 0 0 0]\n",
      "f: by np.array[*where][:,f] [0 0 1 1] or by argwhere[f,:] [0 0 1 1]\n",
      "f: by np.array[*where][:,f] [1 0 1 2] or by argwhere[f,:] [1 0 1 2]\n",
      "f: by np.array[*where][:,f] [1 0 2 3] or by argwhere[f,:] [1 0 2 3]\n",
      "f: by np.array[*where][:,f] [1 0 2 4] or by argwhere[f,:] [1 0 2 4]\n"
     ]
    }
   ],
   "source": [
    "where = np.where(grid==hsmax)\n",
    "where_arr = np.array([*where])\n",
    "argwhere = np.argwhere(grid==hsmax)\n",
    "print('where:\\n', where)\n",
    "print('np.where unpacked and put in numpy array\\n', where_arr)\n",
    "print('argwhere:\\n', argwhere)\n",
    "print('first point', argwhere[0,:], where_arr[:,0])\n",
    "for f in range(len(argwhere)):\n",
    "    print('f: by np.array[*where][:,f]', where_arr[:,f],  \n",
    "          'or by argwhere[f,:]', argwhere[f,:])"
   ]
  },
  {
   "attachments": {},
   "cell_type": "markdown",
   "metadata": {},
   "source": [
    "grid: using reshape"
   ]
  },
  {
   "cell_type": "code",
   "execution_count": 52,
   "metadata": {},
   "outputs": [
    {
     "name": "stdout",
     "output_type": "stream",
     "text": [
      "(2, 1, 3, 5)\n",
      "[[[[1 0 0 0 0]\n",
      "   [0 9 0 0 0]\n",
      "   [0 0 0 0 0]]]\n",
      "\n",
      "\n",
      " [[[0 0 0 0 0]\n",
      "   [0 0 3 0 0]\n",
      "   [0 0 0 4 5]]]]\n",
      "(6, 5)\n",
      "[[1 0 0 0 0]\n",
      " [0 9 0 0 0]\n",
      " [0 0 0 0 0]\n",
      " [0 0 0 0 0]\n",
      " [0 0 3 0 0]\n",
      " [0 0 0 4 5]]\n",
      "(2, 1, 3, 5)\n",
      "[[[[1 0 0 0 0]\n",
      "   [0 9 0 0 0]\n",
      "   [0 0 0 0 0]]]\n",
      "\n",
      "\n",
      " [[[0 0 0 0 0]\n",
      "   [0 0 3 0 0]\n",
      "   [0 0 0 4 5]]]]\n"
     ]
    }
   ],
   "source": [
    "shape = grid.shape\n",
    "print(shape)\n",
    "print(grid)\n",
    "grid = grid.reshape(6,5)\n",
    "print(grid.shape)\n",
    "print(grid)\n",
    "grid = grid.reshape(shape)\n",
    "print(grid.shape)\n",
    "print(grid)"
   ]
  },
  {
   "cell_type": "code",
   "execution_count": 115,
   "metadata": {},
   "outputs": [
    {
     "name": "stdout",
     "output_type": "stream",
     "text": [
      "(2, 1, 3)\n",
      "grid: (6, 5) \n",
      " [[1 0 0 0 0]\n",
      " [0 9 0 0 0]\n",
      " [0 0 0 0 0]\n",
      " [0 0 0 0 0]\n",
      " [0 0 3 0 0]\n",
      " [0 0 0 4 5]]\n",
      "argmax0: (5,) [0 1 4 5 5]\n",
      "argmax[i]= 0 i= 0 grid[argmax[i], i]] = 1\n",
      "argmax[i]= 1 i= 1 grid[argmax[i], i]] = 9\n",
      "argmax[i]= 4 i= 2 grid[argmax[i], i]] = 3\n",
      "argmax[i]= 5 i= 3 grid[argmax[i], i]] = 4\n",
      "argmax[i]= 5 i= 4 grid[argmax[i], i]] = 5\n",
      "grid[argmax,:]\n",
      " [[1 0 0 0 0]\n",
      " [0 9 0 0 0]\n",
      " [0 0 3 0 0]\n",
      " [0 0 0 4 5]\n",
      " [0 0 0 4 5]]\n",
      "unraveled 3 (5,) (array([0, 0, 1, 1, 1], dtype=int64), array([0, 0, 0, 0, 0], dtype=int64), array([0, 1, 1, 2, 2], dtype=int64))\n",
      "unraveled[:,i] m,q,z,f =  0 0 0 0\n",
      "1\n",
      "unraveled[:,i] m,q,z,f =  0 0 1 1\n",
      "9\n",
      "unraveled[:,i] m,q,z,f =  1 0 1 2\n",
      "3\n",
      "unraveled[:,i] m,q,z,f =  1 0 2 3\n",
      "4\n",
      "unraveled[:,i] m,q,z,f =  1 0 2 4\n",
      "5\n"
     ]
    }
   ],
   "source": [
    "shape = (2,1,3,5)\n",
    "print(shape[:-1])\n",
    "grid = grid.reshape(shape)\n",
    "# print('grid:', grid.shape,'\\n', grid)\n",
    "grid = grid.reshape(6,5)\n",
    "print('grid:', grid.shape,'\\n', grid)\n",
    "# print('grid[4,2]', grid[4,2])\n",
    "\n",
    "argmax0 = np.argmax(grid,axis=0)\n",
    "# argmax1 = np.argmax(grid,axis=1)\n",
    "# unraveledargmax = np.unravel_index(argmax, grid.shape)\n",
    "print('argmax0:', argmax0.shape, argmax0)\n",
    "for i in range(len(grid[0])):\n",
    "    print('argmax[i]=',argmax0[i], \n",
    "          'i=', i, \n",
    "          'grid[argmax[i], i]] =', grid[argmax0[i], i])\n",
    "# print('argmax1:', argmax1.shape, argmax1)\n",
    "\n",
    "# print('unraveled:', unraveledargmax)\n",
    "# print('max at argmax:', grid[:,argmax])\n",
    "# argidx = np.unravel_index(argmax, grid.shape)\n",
    "print('grid[argmax,:]\\n', grid[argmax0,:])\n",
    "# print('grid[:,argmax]\\n', grid[:,argmax0])\n",
    "grid = grid.reshape(shape)\n",
    "unraveled = np.unravel_index(argmax0, shape[:-1])\n",
    "print('unraveled', len(unraveled), unraveled[0].shape, unraveled)\n",
    "for i in range(len(grid[0,0,0,:])):\n",
    "    m,q,z= unraveled[0][i], unraveled[1][i], unraveled[2][i] #, unraveled[3][i]\n",
    "    print('unraveled[:,i] m,q,z,f = ', m,q,z,i)\n",
    "    print(grid[m,q,z,i])\n",
    "    # print('argmax[i]=',argmax0[i], \n",
    "    #       'i=', i, \n",
    "    #       'grid[argmax[i], i]] =', grid[n,q,z, i])\n",
    "\n",
    "# print('grid:', grid.shape,'\\n', grid)\n",
    "\n"
   ]
  },
  {
   "attachments": {},
   "cell_type": "markdown",
   "metadata": {},
   "source": [
    "figured out how to use my faster mqz indexing to get maxes from grid, with fancy indexing"
   ]
  },
  {
   "cell_type": "code",
   "execution_count": 102,
   "metadata": {},
   "outputs": [
    {
     "name": "stdout",
     "output_type": "stream",
     "text": [
      "faster: [[0 0 1 1 1]\n",
      " [0 0 0 0 0]\n",
      " [0 1 1 2 2]\n",
      " [0 1 2 3 4]]\n",
      "(2, 1, 3, 5)\n",
      "1st max at m,q,z,f = 0,0,0,0: 1\n",
      "2nd max at m,q,z,f = 0,0,1,1: 9\n",
      "3rd max at m,q,z,f = 1,0,1,2: 3\n",
      "4th max at m,q,z,f = 1,0,2,3: 4\n",
      "5th max at m,q,z,f = 1,0,2,4: 5\n",
      "[1 9 3 4 5]\n",
      "grid[fancy] = [1 9 3 4 5]\n",
      "fancy: ([0, 0, 1, 1, 1], [0, 0, 0, 0, 0], [0, 1, 1, 2, 2], [0, 1, 2, 3, 4])\n",
      "[1 9 3 4 5]\n"
     ]
    }
   ],
   "source": [
    "faster = faster_mqzf_from_mqz(mqz, False)\n",
    "print('faster:', faster)\n",
    "print(grid.shape)\n",
    "print('1st max at m,q,z,f = 0,0,0,0:', grid[0,0,0,0])\n",
    "print('2nd max at m,q,z,f = 0,0,1,1:', grid[0,0,1,1])\n",
    "print('3rd max at m,q,z,f = 1,0,1,2:', grid[1,0,1,2])\n",
    "print('4th max at m,q,z,f = 1,0,2,3:', grid[1,0,2,3])\n",
    "print('5th max at m,q,z,f = 1,0,2,4:', grid[1,0,2,4])\n",
    "print(grid[[0,0,1,1,1], [0,0,0,0,0], [0,1,1,2,2], [0,1,2,3,4]])\n",
    "fancy = [0,0,1,1,1], [0,0,0,0,0], [0,1,1,2,2], [0,1,2,3,4]\n",
    "print('grid[fancy] =',grid[fancy])\n",
    "print('fancy:', fancy)\n",
    "print(grid[faster[0], faster[1], faster[2], faster[3]]) # this gives maxes!!! \n",
    "\n",
    "# listed = (faster[0], faster[1], faster[2], faster[3])\n",
    "# print(listed)\n"
   ]
  },
  {
   "attachments": {},
   "cell_type": "markdown",
   "metadata": {},
   "source": [
    "using reshaped argmax, and mqzf to mqz methods"
   ]
  },
  {
   "cell_type": "code",
   "execution_count": null,
   "metadata": {},
   "outputs": [
    {
     "name": "stdout",
     "output_type": "stream",
     "text": [
      "(3, 5)\n",
      "[[  1   2   3   4   5]\n",
      " [ 10  20  30  40  50]\n",
      " [100 200 300 400 500]\n",
      " [  0   1   2   3   4]]\n"
     ]
    }
   ],
   "source": [
    "# this is what mqz looks like\n",
    "# all [[M indices], [q indices], [z indices]] in shape (3,F)\n",
    "arr = np.array([[1,2,3,4,5], [10,20,30,40,50], [100,200,300,400,500]])\n",
    "print(np.array(arr).shape)\n",
    "# Here are the F indices\n",
    "indices = np.array([0,1,2,3,4])\n",
    "\n",
    "# I'd like to get this in the shape (4,F):\n",
    "# [array of M indices, array of q indices, array of z indices]\n",
    "newarr = np.append(arr,indices).reshape(4,len(indices))\n",
    "print(newarr)"
   ]
  },
  {
   "cell_type": "code",
   "execution_count": null,
   "metadata": {},
   "outputs": [
    {
     "name": "stdout",
     "output_type": "stream",
     "text": [
      "[[0 0 1 1 1]\n",
      " [0 0 0 0 0]\n",
      " [0 1 1 2 2]]\n",
      "f_indices [0 1 2 3 4]\n",
      "m,q,z,f 0 0 0 0\n",
      "grid[m,q,z,f] = 1\n",
      "m,q,z,f 0 0 1 1\n",
      "grid[m,q,z,f] = 9\n",
      "m,q,z,f 1 0 1 2\n",
      "grid[m,q,z,f] = 3\n",
      "m,q,z,f 1 0 2 3\n",
      "grid[m,q,z,f] = 4\n",
      "m,q,z,f 1 0 2 4\n",
      "grid[m,q,z,f] = 5\n",
      "mqzf (5, 4) \n",
      " [[0 0 0 0]\n",
      " [0 0 1 1]\n",
      " [1 0 1 2]\n",
      " [1 0 2 3]\n",
      " [1 0 2 4]]\n",
      "[[0 0 0 0]\n",
      " [0 0 1 1]\n",
      " [1 0 1 2]\n",
      " [1 0 2 3]\n",
      " [1 0 2 4]]\n"
     ]
    }
   ],
   "source": [
    "mqz = reshaped_argmax_at_f(grid)\n",
    "print(mqz)\n",
    "mqzf = mqzf_from_mqz(mqz, True)\n",
    "print(mqzf)"
   ]
  },
  {
   "attachments": {},
   "cell_type": "markdown",
   "metadata": {},
   "source": [
    "apply to example 3"
   ]
  },
  {
   "cell_type": "code",
   "execution_count": 145,
   "metadata": {},
   "outputs": [
    {
     "name": "stdout",
     "output_type": "stream",
     "text": [
      "bgnum stats after copy\n",
      " 0.00e+00, 0.00e+00, 0.00e+00, 3.42e+04, 8.15e+06, 8.01e+07, 1.09e+09\n",
      "hsamp\n",
      " [[[[0.00e+00 0.00e+00 0.00e+00 0.00e+00 0.00e+00]\n",
      "   [3.05e-20 4.84e-20 6.34e-20 7.68e-20 9.21e-20]\n",
      "   [4.45e-21 7.07e-21 9.26e-21 1.12e-20 1.34e-20]]]\n",
      "\n",
      "\n",
      " [[[0.00e+00 0.00e+00 0.00e+00 0.00e+00 0.00e+00]\n",
      "   [1.41e-18 2.25e-18 2.94e-18 3.57e-18 4.27e-18]\n",
      "   [2.07e-19 3.28e-19 4.30e-19 5.21e-19 6.24e-19]]]]\n",
      "hsmax [1.41e-18 2.25e-18 2.94e-18 3.57e-18 4.27e-18]\n"
     ]
    }
   ],
   "source": [
    "edges, number, fobs, exname = example2(print_test=False)\n",
    "hc_bg, hc_ss, hsamp, ssidx, hsmax, bgnum = ss_gws_by_ndars(edges, number, realize=False, round=True)\n",
    "# print(holo.utils.stats(hsamp))\n",
    "np.set_printoptions(precision=2)\n",
    "print('hsamp\\n', hsamp)\n",
    "print('hsmax', hsmax)\n",
    "shape = hsamp.shape\n",
    "\n"
   ]
  },
  {
   "cell_type": "code",
   "execution_count": 148,
   "metadata": {},
   "outputs": [
    {
     "name": "stdout",
     "output_type": "stream",
     "text": [
      "old hsamp (2, 1, 3, 5) \n",
      " [[[[0.00e+00 0.00e+00 0.00e+00 0.00e+00 0.00e+00]\n",
      "   [3.05e-20 4.84e-20 6.34e-20 7.68e-20 9.21e-20]\n",
      "   [4.45e-21 7.07e-21 9.26e-21 1.12e-20 1.34e-20]]]\n",
      "\n",
      "\n",
      " [[[0.00e+00 0.00e+00 0.00e+00 0.00e+00 0.00e+00]\n",
      "   [1.41e-18 2.25e-18 2.94e-18 3.57e-18 4.27e-18]\n",
      "   [2.07e-19 3.28e-19 4.30e-19 5.21e-19 6.24e-19]]]]\n",
      "new hsamp (6, 5) \n",
      " [[0.00e+00 0.00e+00 0.00e+00 0.00e+00 0.00e+00]\n",
      " [3.05e-20 4.84e-20 6.34e-20 7.68e-20 9.21e-20]\n",
      " [4.45e-21 7.07e-21 9.26e-21 1.12e-20 1.34e-20]\n",
      " [0.00e+00 0.00e+00 0.00e+00 0.00e+00 0.00e+00]\n",
      " [1.41e-18 2.25e-18 2.94e-18 3.57e-18 4.27e-18]\n",
      " [2.07e-19 3.28e-19 4.30e-19 5.21e-19 6.24e-19]]\n",
      "argmax [4 4 4 4 4]\n",
      "m,q,z shape: (2, 1, 3)\n",
      "unraveled[:,i] m,q,z,f =  1 0 1 0\n",
      "1.4148696145918927e-18 1.4148696145918927e-18\n",
      "unraveled[:,i] m,q,z,f =  1 0 1 1\n",
      "2.245965514601012e-18 2.245965514601012e-18\n",
      "unraveled[:,i] m,q,z,f =  1 0 1 2\n",
      "2.9430473970402786e-18 2.9430473970402786e-18\n",
      "unraveled[:,i] m,q,z,f =  1 0 1 3\n",
      "3.565248020561944e-18 3.565248020561944e-18\n",
      "unraveled[:,i] m,q,z,f =  1 0 1 4\n",
      "4.273882933282341e-18 4.273882933282341e-18\n"
     ]
    }
   ],
   "source": [
    "print('old hsamp', hsamp.shape, '\\n', hsamp)\n",
    "\n",
    "newshape = (shape[0]*shape[1]*shape[2], shape[3])\n",
    "hsamp = hsamp.reshape(newshape)\n",
    "print('new hsamp', hsamp.shape, '\\n', hsamp)\n",
    "argmax = np.argmax(hsamp, axis=0)\n",
    "print('argmax', argmax)\n",
    "\n",
    "\n",
    "hsamp = hsamp.reshape(shape)\n",
    "print('m,q,z shape:', shape[:-1])\n",
    "maxidx = np.unravel_index(argmax, shape[:-1])\n",
    "\n",
    "for i in range(len(hsamp[0,0,0,:])):\n",
    "    m,q,z= maxidx[0][i], maxidx[1][i], maxidx[2][i] #, unraveled[3][i]\n",
    "    print('unraveled[:,i] m,q,z,f = ', m,q,z,i)\n",
    "    print(hsamp[m,q,z,i], hsmax[i])\n"
   ]
  },
  {
   "cell_type": "code",
   "execution_count": 27,
   "metadata": {},
   "outputs": [
    {
     "name": "stdout",
     "output_type": "stream",
     "text": [
      "[0.00e+00 0.00e+00 0.00e+00 0.00e+00 0.00e+00 0.00e+00 0.00e+00 0.00e+00\n",
      " 0.00e+00 0.00e+00 0.00e+00 4.77e-20 3.36e-20 2.40e-20 1.74e-20 1.31e-20\n",
      " 1.01e-20 8.22e-21 7.05e-21 6.43e-21 6.24e-21 6.40e-21 6.90e-21 7.74e-21]\n",
      "4.765568362190449e-20\n"
     ]
    }
   ],
   "source": [
    "# am = (np.argmax(hsamp[3,3,:,4]))\n",
    "# print(hsamp[3,3,:,4])\n",
    "# print(hsamp[3,3,am,4])"
   ]
  },
  {
   "cell_type": "code",
   "execution_count": 28,
   "metadata": {},
   "outputs": [
    {
     "name": "stdout",
     "output_type": "stream",
     "text": [
      "[[0 0 0 0]\n",
      " [0 0 1 1]\n",
      " [1 0 1 2]\n",
      " [1 0 2 3]\n",
      " [1 0 2 4]]\n"
     ]
    }
   ],
   "source": [
    "# mqz_f, f_mqz, all_f, f_all= max_index_at_f(grid)\n",
    "# argwhere = argwhere_at_f(grid)\n",
    "# print(argwhere)\n",
    "# assert (np.all(f_all == argwhere)), 'argwhere failing to find maxes'"
   ]
  },
  {
   "cell_type": "code",
   "execution_count": 29,
   "metadata": {},
   "outputs": [
    {
     "name": "stdout",
     "output_type": "stream",
     "text": [
      "0 0 0 0 max: 1\n",
      "0 0 1 1 max: 9\n",
      "1 0 1 2 max: 3\n",
      "1 0 2 3 max: 4\n",
      "1 0 2 4 max: 5\n"
     ]
    }
   ],
   "source": [
    "# for i in range(len(grid[0,0,0,:])):\n",
    "#     m,q,z,f = argwhere[i]\n",
    "#     print(m,q,z,f, 'max:', grid[m,q,z,f])"
   ]
  },
  {
   "cell_type": "code",
   "execution_count": 30,
   "metadata": {},
   "outputs": [
    {
     "name": "stdout",
     "output_type": "stream",
     "text": [
      "where: len= 4 with shapes= (5,) (5,) (5,) (5,) \n",
      " (array([0, 0, 1, 1, 1], dtype=int64), array([0, 0, 0, 0, 0], dtype=int64), array([0, 1, 1, 2, 2], dtype=int64), array([0, 1, 2, 3, 4], dtype=int64))\n",
      "max by where: [1 2 3 4 5]\n",
      "\n",
      "m: 1 \n",
      "q: 0 \n",
      "z: 2 \n",
      "f: 4\n",
      "argmaxes: () \n",
      " 29\n"
     ]
    }
   ],
   "source": [
    "# grid = np.array([[[[1,0,0,0,0],[0,2,0,0,0],[0,0,0,0,0]]],\n",
    "#                  [[[0,0,0,0,0],[0,0,3,0,0],[0,0,0,4,5]]]])\n",
    "# maxes = np.max(grid, axis=(0,1,2))\n",
    "# # print('grid:', grid.shape, '\\n', grid)\n",
    "# # print('maxes', maxes.shape, '\\n', maxes)\n",
    "# where = np.where(grid==maxes)\n",
    "# print('where: len=', len(where), 'with shapes=', where[0].shape, where[1].shape, where[2].shape,\n",
    "#       where[3].shape, '\\n', where)\n",
    "# print('max by where:', grid[np.where(maxes==grid)])\n",
    "# print()\n",
    "# argmax = np.argmax(grid)\n",
    "# m,q,z,f = np.unravel_index(np.argmax(grid), grid.shape)\n",
    "# print('m:',m, '\\nq:',q, '\\nz:',z, '\\nf:',f)\n",
    "# print('argmaxes:', argmax.shape, '\\n', argmax)"
   ]
  },
  {
   "cell_type": "code",
   "execution_count": 31,
   "metadata": {},
   "outputs": [
    {
     "name": "stdout",
     "output_type": "stream",
     "text": [
      "idxs (0, 0) \n",
      " []\n",
      "rots (0, 0) \n",
      " []\n"
     ]
    },
    {
     "name": "stderr",
     "output_type": "stream",
     "text": [
      "C:\\Users\\emiga\\AppData\\Local\\Temp\\ipykernel_10096\\1210486066.py:1: DeprecationWarning: elementwise comparison failed; this will raise an error in the future.\n",
      "  idxs = np.argwhere(arr==maxes)\n"
     ]
    },
    {
     "ename": "IndexError",
     "evalue": "index 0 is out of bounds for axis 0 with size 0",
     "output_type": "error",
     "traceback": [
      "\u001b[1;31m---------------------------------------------------------------------------\u001b[0m",
      "\u001b[1;31mIndexError\u001b[0m                                Traceback (most recent call last)",
      "Cell \u001b[1;32mIn[31], line 5\u001b[0m\n\u001b[0;32m      3\u001b[0m rots \u001b[39m=\u001b[39m np\u001b[39m.\u001b[39mrot90(idxs)\n\u001b[0;32m      4\u001b[0m \u001b[39mprint\u001b[39m(\u001b[39m'\u001b[39m\u001b[39mrots\u001b[39m\u001b[39m'\u001b[39m, rots\u001b[39m.\u001b[39mshape, \u001b[39m'\u001b[39m\u001b[39m\\n\u001b[39;00m\u001b[39m'\u001b[39m, rots)\n\u001b[1;32m----> 5\u001b[0m \u001b[39mprint\u001b[39m(idxs[\u001b[39m0\u001b[39;49m])\n\u001b[0;32m      6\u001b[0m \u001b[39mfor\u001b[39;00m i \u001b[39min\u001b[39;00m [\u001b[39m0\u001b[39m,\u001b[39m1\u001b[39m]:\n\u001b[0;32m      7\u001b[0m     \u001b[39mprint\u001b[39m(arr[idxs[i,\u001b[39m0\u001b[39m], idxs[i,\u001b[39m1\u001b[39m], idxs[i,\u001b[39m2\u001b[39m]])\n",
      "\u001b[1;31mIndexError\u001b[0m: index 0 is out of bounds for axis 0 with size 0"
     ]
    }
   ],
   "source": [
    "# idxs = np.argwhere(arr==maxes)\n",
    "# print('idxs', idxs.shape,'\\n', idxs)\n",
    "# rots = np.rot90(idxs)\n",
    "# print('rots', rots.shape, '\\n', rots)\n",
    "# print(idxs[0])\n",
    "# for i in [0,1]:\n",
    "#     print(arr[idxs[i,0], idxs[i,1], idxs[i,2]])\n",
    "# for i in [0,1]:\n",
    "#     # print(arr[rots[0,i], rots[1,i], rots[2,i]])\n",
    "#     print(arr[rots[2,i], rots[1,i], rots[0,i]])\n",
    "# # the rot situation is trickier, just use\n",
    "# # idxs = np.argwhere(arr==maxes)\n",
    "# # returns (2,3) array\n",
    "# # or (f, 4) array?\n"
   ]
  },
  {
   "attachments": {},
   "cell_type": "markdown",
   "metadata": {},
   "source": [
    "# 2 Super Simple Example "
   ]
  },
  {
   "attachments": {},
   "cell_type": "markdown",
   "metadata": {},
   "source": [
    "## 2.1 Build Model and Calculate Strains\n",
    "Build Model"
   ]
  },
  {
   "cell_type": "code",
   "execution_count": 33,
   "metadata": {},
   "outputs": [
    {
     "name": "stdout",
     "output_type": "stream",
     "text": [
      "Number of frequency bins: 4\n",
      "  between [0.63, 3.16] 1/yr\n",
      "          [20.00, 100.00] nHz\n",
      "edges: [array([1.e+39, 1.e+40, 1.e+41]), array([0.1, 1. ]), array([0.  , 0.01, 0.1 , 1.  ])]\n"
     ]
    }
   ],
   "source": [
    "edges, number, fobs, exname = example2(print_test=True)"
   ]
  },
  {
   "attachments": {},
   "cell_type": "markdown",
   "metadata": {},
   "source": [
    "Calculate Strains"
   ]
  },
  {
   "cell_type": "code",
   "execution_count": 34,
   "metadata": {},
   "outputs": [],
   "source": [
    "# Get GW Total Strain using gws_by_ndars()\n",
    "hc_tt = gws_by_ndars(edges, number, realize=False, round = True, sum=True)   \n",
    " \n",
    "# Get BG and SS Strain using ss_gws_by_ndars()\n",
    "# has hsamp but not sspar\n",
    "hc_bg_ndar, hc_ss_ndar, hsamp_ndar, ssidx_ndar, maxhs_ndar, bgnum_ndar\\\n",
    "    = ss_gws_by_ndars(edges, number, realize=False)\n",
    "\n",
    "# Get BG and SS Strain using ss_gws_by_loops()\n",
    "# has sspar, but not hsamp\n",
    "hc_bg_loop, hc_ss_loop, sspar_loop, ssidx_loop, maxhs_loop, bgnum_loop\\\n",
    "    = ss_gws_by_loops(edges, number, realize=False)"
   ]
  },
  {
   "cell_type": "markdown",
   "metadata": {},
   "source": [
    "## 2.2 Tests"
   ]
  },
  {
   "cell_type": "code",
   "execution_count": 35,
   "metadata": {},
   "outputs": [
    {
     "name": "stdout",
     "output_type": "stream",
     "text": [
      "max_test passed\n",
      "max is at m,q,z,f = 1, 0, 1, 0 and it = 1.41e-18\n",
      "max is at m,q,z,f = 1, 0, 1, 1 and it = 2.25e-18\n",
      "max is at m,q,z,f = 1, 0, 1, 2 and it = 2.94e-18\n",
      "max is at m,q,z,f = 1, 0, 1, 3 and it = 3.57e-18\n",
      "max is at m,q,z,f = 1, 0, 1, 4 and it = 4.27e-18\n",
      "ssidx test passes\n",
      "number test passed\n",
      "compare to loops test passed\n",
      "percent error between (hc_bg^2+hc_ss^2) and hc_tt^2: [ 0.00e+00  1.48e-16 -1.29e-16  0.00e+00  1.36e-16]\n",
      "differences between np.sqrt((hc_bg^2+hc_ss^2)) and hc_tt: [0. 0. 0. 0. 0.]\n",
      "quadratic sum test passed\n"
     ]
    },
    {
     "data": {
      "image/png": "[encoded data removed]",
      "text/plain": [
       "<Figure size 1000x300 with 5 Axes>"
      ]
     },
     "metadata": {},
     "output_type": "display_data"
    }
   ],
   "source": [
    "# test\n",
    "hc_bg_ndar, hc_ss_ndar, hsamp_ndar, ssidx_ndar, maxhs_ndar, bgnum_ndar\\\n",
    "    = run_example_tests(edges, number, fobs, print_test=True)"
   ]
  },
  {
   "attachments": {},
   "cell_type": "markdown",
   "metadata": {},
   "source": [
    "## 2.3 Plots"
   ]
  },
  {
   "cell_type": "markdown",
   "metadata": {},
   "source": [
    "### BG, SS, and TT Strain"
   ]
  },
  {
   "cell_type": "code",
   "execution_count": 36,
   "metadata": {},
   "outputs": [
    {
     "data": {
      "image/png": "[encoded data removed]",
      "text/plain": [
       "<Figure size 1000x450 with 1 Axes>"
      ]
     },
     "metadata": {},
     "output_type": "display_data"
    }
   ],
   "source": [
    "# quick plot\n",
    "fig, ax = plot.figax(xlabel='Frequency $f_\\mathrm{obs}$ [1/yr]', \n",
    "                    ylabel='Characteristic Strain $h_c$', figsize=[10,4.5])\n",
    "ax.set_title(exname)\n",
    "xx = fobs * YR\n",
    "\n",
    "# plot a reference, pure power-law  strain spectrum:   h_c(f) = 1e-15 * (f * yr) ^ -2/3\n",
    "yy = 1e-15 * np.power(xx, -2.0/3.0)\n",
    "ax.plot(xx, yy, 'k--', alpha=0.25, lw=2.0, label = 'pure power law')\n",
    "\n",
    "# total char strain (no sources subtracted)\n",
    "ax.plot(xx, hc_tt, color='black', marker = 'x', lw=3, \n",
    "        ls = 'dotted', alpha=1, label='total, by loops')\n",
    "\n",
    "\n",
    "# by loops:\n",
    "# gwb\n",
    "ax.plot(xx, hc_bg_loop, color='b', marker = 'o', lw=3,\n",
    "        ls = 'dotted', alpha=.5, label='background, loops')\n",
    "# loudest source per bin\n",
    "ax.scatter(xx, hc_ss_loop, color='b', marker = 'o', s=100,\n",
    "           edgecolor='k', alpha=.5, label='single source, loops')\n",
    "\n",
    "# by ndars:\n",
    "# gwb\n",
    "ax.plot(xx, hc_bg_ndar, color='g', marker = 'o', lw=3, \n",
    "        ls = 'dotted', alpha=.5, label='background, ndars')\n",
    "# loudest source per bin\n",
    "ax.scatter(xx, hc_ss_ndar, color='g', marker = 'o', \n",
    "           edgecolor='k', alpha=.5, label='single source, ndars')\n",
    "\n",
    "\n",
    "# ax.plot(xx, hc_bg+hc_ss, color='r', label='bg + ss', alpha=.5)\n",
    "ax.plot(xx, np.sqrt(hc_bg_ndar**2+hc_ss_ndar**2), color='r', \n",
    "        label=r'$sqrt (bg^2 + ss^2)$, ndars', alpha=.5)\n",
    "\n",
    "legend_gwb = ax.legend(bbox_to_anchor=(.95,.95), \n",
    "                       bbox_transform=fig.transFigure, loc='upper right')\n",
    "\n",
    "\n",
    "# ax.set_ylim(1e-16, 3e-15)\n",
    "fig.tight_layout()"
   ]
  },
  {
   "attachments": {},
   "cell_type": "markdown",
   "metadata": {},
   "source": [
    "# 3 Medium Simple Example"
   ]
  },
  {
   "attachments": {},
   "cell_type": "markdown",
   "metadata": {},
   "source": [
    "## 3.1 Build Model and Calculate Strains\n",
    "Build Model"
   ]
  },
  {
   "cell_type": "code",
   "execution_count": 37,
   "metadata": {},
   "outputs": [
    {
     "name": "stdout",
     "output_type": "stream",
     "text": [
      "Number of frequency bins: 4\n",
      "  between [0.63, 3.16] 1/yr\n",
      "          [20.00, 100.00] nHz\n",
      "edges: [array([1.00e+39, 1.45e+39, 2.11e+39, 3.07e+39, 4.47e+39, 6.50e+39,\n",
      "       9.44e+39, 1.37e+40, 2.00e+40, 2.90e+40, 4.22e+40, 6.13e+40,\n",
      "       8.92e+40, 1.30e+41, 1.89e+41, 2.74e+41, 3.98e+41, 5.79e+41,\n",
      "       8.42e+41, 1.22e+42, 1.78e+42, 2.59e+42, 3.76e+42, 5.47e+42,\n",
      "       7.95e+42]), array([0.1 , 0.11, 0.12, 0.13, 0.15, 0.16, 0.18, 0.2 , 0.22, 0.24, 0.26,\n",
      "       0.29, 0.32, 0.35, 0.38, 0.42, 0.46, 0.51, 0.56, 0.62, 0.68, 0.75,\n",
      "       0.83, 0.91, 1.  ]), array([1.00e-03, 1.47e-03, 2.15e-03, 3.16e-03, 4.64e-03, 6.81e-03,\n",
      "       1.00e-02, 1.47e-02, 2.15e-02, 3.16e-02, 4.64e-02, 6.81e-02,\n",
      "       1.00e-01, 1.47e-01, 2.15e-01, 3.16e-01, 4.64e-01, 6.81e-01,\n",
      "       1.00e+00, 1.47e+00, 2.15e+00, 3.16e+00, 4.64e+00, 6.81e+00,\n",
      "       1.00e+01])]\n"
     ]
    }
   ],
   "source": [
    "edges, number, fobs, exname = example3(print_test=True)"
   ]
  },
  {
   "cell_type": "markdown",
   "metadata": {},
   "source": [
    "Calculate Strains"
   ]
  },
  {
   "cell_type": "code",
   "execution_count": 38,
   "metadata": {},
   "outputs": [],
   "source": [
    "# Get GW Total Strain using gws_by_ndars()\n",
    "hc_tt = gws_by_ndars(edges, number, realize=False, round = True, sum=True)   \n",
    " \n",
    "# Get BG and SS Strain using ss_gws_by_ndars()\n",
    "# has hsamp but not sspar\n",
    "hc_bg_ndar, hc_ss_ndar, hsamp_ndar, ssidx_ndar, maxhs_ndar, bgnum_ndar\\\n",
    "    = ss_gws_by_ndars(edges, number, realize=False)\n",
    "\n",
    "# Get BG and SS Strain using ss_gws_by_loops()\n",
    "# has sspar, but not hsamp\n",
    "hc_bg_loop, hc_ss_loop, sspar_loop, ssidx_loop, maxhs_loop, bgnum_loop\\\n",
    "    = ss_gws_by_loops(edges, number, realize=False)"
   ]
  },
  {
   "attachments": {},
   "cell_type": "markdown",
   "metadata": {},
   "source": [
    "## 3.2 Tests"
   ]
  },
  {
   "cell_type": "code",
   "execution_count": 39,
   "metadata": {},
   "outputs": [
    {
     "name": "stdout",
     "output_type": "stream",
     "text": [
      "max_test passed\n",
      "max is at m,q,z,f = 20, 23, 18, 0 and it = 7.08e-17\n",
      "max is at m,q,z,f = 17, 23, 16, 1 and it = 2.49e-17\n",
      "max is at m,q,z,f = 16, 23, 18, 2 and it = 1.22e-17\n",
      "max is at m,q,z,f = 15, 23, 18, 3 and it = 7.89e-18\n",
      "max is at m,q,z,f = 14, 23, 18, 4 and it = 5.07e-18\n",
      "ssidx test passes\n",
      "number test passed\n",
      "compare to loops test passed\n",
      "percent error between (hc_bg^2+hc_ss^2) and hc_tt^2: [-2.09e-16  3.54e-16  1.61e-16  0.00e+00  1.12e-16]\n",
      "differences between np.sqrt((hc_bg^2+hc_ss^2)) and hc_tt: [0.00e+00 4.93e-32 2.47e-32 0.00e+00 0.00e+00]\n",
      "quadratic sum test passed\n"
     ]
    },
    {
     "data": {
      "image/png": "[encoded data removed]",
      "text/plain": [
       "<Figure size 1000x300 with 5 Axes>"
      ]
     },
     "metadata": {},
     "output_type": "display_data"
    }
   ],
   "source": [
    "# test\n",
    "hc_bg_ndar, hc_ss_ndar, hsamp_ndar, ssidx_ndar, maxhs_ndar, bgnum_ndar\\\n",
    "    = run_example_tests(edges, number, fobs, print_test=True)"
   ]
  },
  {
   "attachments": {},
   "cell_type": "markdown",
   "metadata": {},
   "source": [
    "## 3.3 Plots"
   ]
  },
  {
   "cell_type": "markdown",
   "metadata": {},
   "source": [
    "### BG, SS, and TT Strain"
   ]
  },
  {
   "cell_type": "code",
   "execution_count": 40,
   "metadata": {},
   "outputs": [
    {
     "data": {
      "image/png": "[encoded data removed]",
      "text/plain": [
       "<Figure size 1000x450 with 1 Axes>"
      ]
     },
     "metadata": {},
     "output_type": "display_data"
    }
   ],
   "source": [
    "# quick plot\n",
    "fig, ax = plot.figax(xlabel='Frequency $f_\\mathrm{obs}$ [1/yr]', \n",
    "                    ylabel='Characteristic Strain $h_c$', figsize=[10,4.5])\n",
    "ax.set_title(exname)\n",
    "xx = fobs * YR\n",
    "\n",
    "# plot a reference, pure power-law  strain spectrum:   h_c(f) = 1e-15 * (f * yr) ^ -2/3\n",
    "yy = 1e-15 * np.power(xx, -2.0/3.0)\n",
    "ax.plot(xx, yy, 'k--', alpha=0.25, lw=2.0, label = 'pure power law')\n",
    "\n",
    "# total char strain (no sources subtracted)\n",
    "ax.plot(xx, hc_tt, color='black', marker = 'x', lw=3, \n",
    "        ls = 'dotted', alpha=1, label='total, by loops')\n",
    "\n",
    "\n",
    "# by loops:\n",
    "# gwb\n",
    "ax.plot(xx, hc_bg_loop, color='b', marker = 'o', lw=3,\n",
    "        ls = 'dotted', alpha=.5, label='background, loops')\n",
    "# loudest source per bin\n",
    "ax.scatter(xx, hc_ss_loop, color='b', marker = 'o', s=100,\n",
    "           edgecolor='k', alpha=.5, label='single source, loops')\n",
    "\n",
    "# by ndars:\n",
    "# gwb\n",
    "ax.plot(xx, hc_bg_ndar, color='g', marker = 'o', lw=3, \n",
    "        ls = 'dotted', alpha=.5, label='background, ndars')\n",
    "# loudest source per bin\n",
    "ax.scatter(xx, hc_ss_ndar, color='g', marker = 'o', \n",
    "           edgecolor='k', alpha=.5, label='single source, ndars')\n",
    "\n",
    "\n",
    "# ax.plot(xx, hc_bg+hc_ss, color='r', label='bg + ss', alpha=.5)\n",
    "ax.plot(xx, np.sqrt(hc_bg_ndar**2+hc_ss_ndar**2), color='r', \n",
    "        label=r'$sqrt (bg^2 + ss^2)$, ndars', alpha=.5)\n",
    "\n",
    "legend_gwb = ax.legend(bbox_to_anchor=(.95,.95), \n",
    "                       bbox_transform=fig.transFigure, loc='upper right')\n",
    "\n",
    "\n",
    "# ax.set_ylim(1e-16, 3e-15)\n",
    "fig.tight_layout()"
   ]
  },
  {
   "attachments": {},
   "cell_type": "markdown",
   "metadata": {},
   "source": [
    "# 4 Complex Example - Casting 64bit\n"
   ]
  },
  {
   "attachments": {},
   "cell_type": "markdown",
   "metadata": {},
   "source": [
    "## 4.1 Build Model and Calculate Strains\n",
    "Build Model"
   ]
  },
  {
   "cell_type": "code",
   "execution_count": 41,
   "metadata": {},
   "outputs": [
    {
     "name": "stdout",
     "output_type": "stream",
     "text": [
      "Number of frequency bins: 11\n",
      "  between [0.63, 7.57] 1/yr\n",
      "          [20.00, 240.00] nHz\n",
      "edges: [array([1.00e+39, 1.76e+39, 3.10e+39, 5.46e+39, 9.63e+39, 1.70e+40,\n",
      "       2.99e+40, 5.26e+40, 9.27e+40, 1.63e+41, 2.87e+41, 5.06e+41,\n",
      "       8.92e+41, 1.57e+42, 2.77e+42, 4.87e+42, 8.58e+42, 1.51e+43,\n",
      "       2.66e+43, 4.69e+43, 8.26e+43, 1.46e+44, 2.56e+44, 4.52e+44,\n",
      "       7.95e+44]), array([0.1 , 0.11, 0.12, 0.13, 0.15, 0.16, 0.18, 0.2 , 0.22, 0.24, 0.26,\n",
      "       0.29, 0.32, 0.35, 0.38, 0.42, 0.46, 0.51, 0.56, 0.62, 0.68, 0.75,\n",
      "       0.83, 0.91, 1.  ]), array([1.00e-03, 1.47e-03, 2.15e-03, 3.16e-03, 4.64e-03, 6.81e-03,\n",
      "       1.00e-02, 1.47e-02, 2.15e-02, 3.16e-02, 4.64e-02, 6.81e-02,\n",
      "       1.00e-01, 1.47e-01, 2.15e-01, 3.16e-01, 4.64e-01, 6.81e-01,\n",
      "       1.00e+00, 1.47e+00, 2.15e+00, 3.16e+00, 4.64e+00, 6.81e+00,\n",
      "       1.00e+01])]\n"
     ]
    }
   ],
   "source": [
    "edges, number, fobs, exname = example4(print_test=True)"
   ]
  },
  {
   "cell_type": "markdown",
   "metadata": {},
   "source": [
    "Calculate Strains"
   ]
  },
  {
   "cell_type": "code",
   "execution_count": 42,
   "metadata": {},
   "outputs": [],
   "source": [
    "# Get GW Total Strain using gws_by_ndars()\n",
    "hc_tt = gws_by_ndars(edges, number, realize=False, round = True, sum=True)   \n",
    " \n",
    "# Get BG and SS Strain using ss_gws_by_ndars()\n",
    "# has hsamp but not sspar\n",
    "hc_bg_ndar, hc_ss_ndar, hsamp_ndar, ssidx_ndar, maxhs_ndar, bgnum_ndar\\\n",
    "    = ss_gws_by_ndars(edges, number, realize=False)\n",
    "\n",
    "# Get BG and SS Strain using ss_gws_by_loops()\n",
    "# has sspar, but not hsamp\n",
    "hc_bg_loop, hc_ss_loop, sspar_loop, ssidx_loop, maxhs_loop, bgnum_loop\\\n",
    "    = ss_gws_by_loops(edges, number, realize=False)"
   ]
  },
  {
   "attachments": {},
   "cell_type": "markdown",
   "metadata": {},
   "source": [
    "## 4.2 Tests"
   ]
  },
  {
   "cell_type": "code",
   "execution_count": 43,
   "metadata": {},
   "outputs": [
    {
     "name": "stdout",
     "output_type": "stream",
     "text": [
      "max_test passed\n",
      "max is at m,q,z,f = 13, 23, 16, 0 and it = 1.01e-16\n",
      "max is at m,q,z,f = 12, 23, 18, 1 and it = 4.33e-17\n",
      "max is at m,q,z,f = 10, 23, 16, 2 and it = 1.23e-17\n",
      "max is at m,q,z,f = 10, 23, 18, 3 and it = 1.04e-17\n",
      "max is at m,q,z,f = 9, 23, 17, 4 and it = 5.48e-18\n",
      "max is at m,q,z,f = 8, 23, 16, 5 and it = 2.97e-18\n",
      "max is at m,q,z,f = 8, 23, 17, 6 and it = 2.67e-18\n",
      "max is at m,q,z,f = 8, 23, 18, 7 and it = 2.50e-18\n",
      "max is at m,q,z,f = 7, 23, 17, 8 and it = 1.23e-18\n",
      "max is at m,q,z,f = 7, 23, 17, 9 and it = 1.32e-18\n",
      "max is at m,q,z,f = 6, 23, 16, 10 and it = 6.73e-19\n",
      "max is at m,q,z,f = 7, 23, 18, 11 and it = 1.31e-18\n",
      "ssidx test passes\n",
      "number test passed\n",
      "compare to loops test passed\n",
      "percent error between (hc_bg^2+hc_ss^2) and hc_tt^2: [ 0.00e+00  0.00e+00 -2.15e-16 -1.39e-16  0.00e+00  1.55e-16 -1.28e-16\n",
      " -2.18e-16 -1.71e-16 -2.55e-16 -1.99e-16 -1.90e-16]\n",
      "differences between np.sqrt((hc_bg^2+hc_ss^2)) and hc_tt: [ 0.00e+00  0.00e+00  0.00e+00  0.00e+00  0.00e+00  0.00e+00  0.00e+00\n",
      " -6.16e-33 -6.16e-33 -3.08e-33 -3.08e-33 -3.08e-33]\n",
      "quadratic sum test passed\n"
     ]
    },
    {
     "data": {
      "image/png": "[encoded data removed]",
      "text/plain": [
       "<Figure size 1000x300 with 12 Axes>"
      ]
     },
     "metadata": {},
     "output_type": "display_data"
    }
   ],
   "source": [
    "# test\n",
    "hc_bg_ndar, hc_ss_ndar, hsamp_ndar, ssidx_ndar, maxhs_ndar, bgnum_ndar\\\n",
    "    = run_example_tests(edges, number, fobs, print_test=True)"
   ]
  },
  {
   "attachments": {},
   "cell_type": "markdown",
   "metadata": {},
   "source": [
    "## 4.3 Plots"
   ]
  },
  {
   "cell_type": "markdown",
   "metadata": {},
   "source": [
    "### BG, SS, and TT Strain"
   ]
  },
  {
   "cell_type": "code",
   "execution_count": 44,
   "metadata": {},
   "outputs": [
    {
     "data": {
      "image/png": "[encoded data removed]",
      "text/plain": [
       "<Figure size 1000x450 with 1 Axes>"
      ]
     },
     "metadata": {},
     "output_type": "display_data"
    }
   ],
   "source": [
    "# quick plot\n",
    "fig, ax = plot.figax(xlabel='Frequency $f_\\mathrm{obs}$ [1/yr]', \n",
    "                    ylabel='Characteristic Strain $h_c$', figsize=[10,4.5])\n",
    "ax.set_title(exname)\n",
    "xx = fobs * YR\n",
    "\n",
    "# plot a reference, pure power-law  strain spectrum:   h_c(f) = 1e-15 * (f * yr) ^ -2/3\n",
    "yy = 1e-15 * np.power(xx, -2.0/3.0)\n",
    "ax.plot(xx, yy, 'k--', alpha=0.25, lw=2.0, label = 'pure power law')\n",
    "\n",
    "# total char strain (no sources subtracted)\n",
    "ax.plot(xx, hc_tt, color='black', marker = 'x', lw=3, \n",
    "        ls = 'dotted', alpha=1, label='total, by loops')\n",
    "\n",
    "\n",
    "# by loops:\n",
    "# gwb\n",
    "ax.plot(xx, hc_bg_loop, color='b', marker = 'o', lw=3,\n",
    "        ls = 'dotted', alpha=.5, label='background, loops')\n",
    "# loudest source per bin\n",
    "ax.scatter(xx, hc_ss_loop, color='b', marker = 'o', s=100,\n",
    "           edgecolor='k', alpha=.5, label='single source, loops')\n",
    "\n",
    "# by ndars:\n",
    "# gwb\n",
    "ax.plot(xx, hc_bg_ndar, color='g', marker = 'o', lw=3, \n",
    "        ls = 'dotted', alpha=.5, label='background, ndars')\n",
    "# loudest source per bin\n",
    "ax.scatter(xx, hc_ss_ndar, color='g', marker = 'o', \n",
    "           edgecolor='k', alpha=.5, label='single source, ndars')\n",
    "\n",
    "\n",
    "# ax.plot(xx, hc_bg+hc_ss, color='r', label='bg + ss', alpha=.5)\n",
    "ax.plot(xx, np.sqrt(hc_bg_ndar**2+hc_ss_ndar**2), color='r', \n",
    "        label=r'$sqrt (bg^2 + ss^2)$, ndars', alpha=.5)\n",
    "\n",
    "legend_gwb = ax.legend(bbox_to_anchor=(.95,.95), \n",
    "                       bbox_transform=fig.transFigure, loc='upper right')\n",
    "\n",
    "\n",
    "# ax.set_ylim(1e-16, 3e-15)\n",
    "fig.tight_layout()"
   ]
  },
  {
   "attachments": {},
   "cell_type": "markdown",
   "metadata": {},
   "source": [
    "# 5 SAM Default Example - Casting 64bit\n"
   ]
  },
  {
   "attachments": {},
   "cell_type": "markdown",
   "metadata": {},
   "source": [
    "## 5.1 Build Model and Calculate Strains\n",
    "Build Model"
   ]
  },
  {
   "cell_type": "code",
   "execution_count": 69,
   "metadata": {},
   "outputs": [
    {
     "name": "stdout",
     "output_type": "stream",
     "text": [
      "Number of frequency bins: 24\n",
      "  between [0.10, 2.50] 1/yr\n",
      "          [3.17, 79.22] nHz\n",
      "using default mtot, mrat, and redz\n",
      "edges: [array([1.99e+37, 2.60e+37, 3.40e+37, 4.45e+37, 5.82e+37, 7.62e+37,\n",
      "       9.97e+37, 1.30e+38, 1.71e+38, 2.23e+38, 2.92e+38, 3.82e+38,\n",
      "       4.99e+38, 6.53e+38, 8.55e+38, 1.12e+39, 1.46e+39, 1.91e+39,\n",
      "       2.50e+39, 3.27e+39, 4.28e+39, 5.60e+39, 7.33e+39, 9.59e+39,\n",
      "       1.25e+40, 1.64e+40, 2.15e+40, 2.81e+40, 3.67e+40, 4.81e+40,\n",
      "       6.29e+40, 8.23e+40, 1.08e+41, 1.41e+41, 1.84e+41, 2.41e+41,\n",
      "       3.15e+41, 4.12e+41, 5.39e+41, 7.06e+41, 9.23e+41, 1.21e+42,\n",
      "       1.58e+42, 2.07e+42, 2.70e+42, 3.54e+42, 4.63e+42, 6.05e+42,\n",
      "       7.92e+42, 1.04e+43, 1.35e+43, 1.77e+43, 2.32e+43, 3.03e+43,\n",
      "       3.97e+43, 5.19e+43, 6.79e+43, 8.88e+43, 1.16e+44, 1.52e+44,\n",
      "       1.99e+44]), array([0.  , 0.  , 0.  , 0.  , 0.  , 0.  , 0.  , 0.  , 0.  , 0.  , 0.  ,\n",
      "       0.  , 0.  , 0.  , 0.  , 0.  , 0.  , 0.  , 0.  , 0.01, 0.01, 0.01,\n",
      "       0.01, 0.01, 0.01, 0.01, 0.01, 0.01, 0.01, 0.01, 0.01, 0.01, 0.02,\n",
      "       0.02, 0.02, 0.02, 0.02, 0.02, 0.03, 0.03, 0.03, 0.03, 0.04, 0.04,\n",
      "       0.04, 0.05, 0.05, 0.06, 0.06, 0.07, 0.07, 0.08, 0.09, 0.1 , 0.11,\n",
      "       0.12, 0.13, 0.14, 0.15, 0.16, 0.18, 0.19, 0.21, 0.23, 0.25, 0.27,\n",
      "       0.3 , 0.33, 0.35, 0.39, 0.42, 0.46, 0.5 , 0.55, 0.6 , 0.65, 0.71,\n",
      "       0.77, 0.84, 0.92, 1.  ]), array([1.00e-03, 1.10e-03, 1.20e-03, 1.32e-03, 1.45e-03, 1.58e-03,\n",
      "       1.74e-03, 1.91e-03, 2.09e-03, 2.29e-03, 2.51e-03, 2.75e-03,\n",
      "       3.02e-03, 3.31e-03, 3.63e-03, 3.98e-03, 4.37e-03, 4.79e-03,\n",
      "       5.25e-03, 5.75e-03, 6.31e-03, 6.92e-03, 7.59e-03, 8.32e-03,\n",
      "       9.12e-03, 1.00e-02, 1.10e-02, 1.20e-02, 1.32e-02, 1.45e-02,\n",
      "       1.58e-02, 1.74e-02, 1.91e-02, 2.09e-02, 2.29e-02, 2.51e-02,\n",
      "       2.75e-02, 3.02e-02, 3.31e-02, 3.63e-02, 3.98e-02, 4.37e-02,\n",
      "       4.79e-02, 5.25e-02, 5.75e-02, 6.31e-02, 6.92e-02, 7.59e-02,\n",
      "       8.32e-02, 9.12e-02, 1.00e-01, 1.10e-01, 1.20e-01, 1.32e-01,\n",
      "       1.45e-01, 1.58e-01, 1.74e-01, 1.91e-01, 2.09e-01, 2.29e-01,\n",
      "       2.51e-01, 2.75e-01, 3.02e-01, 3.31e-01, 3.63e-01, 3.98e-01,\n",
      "       4.37e-01, 4.79e-01, 5.25e-01, 5.75e-01, 6.31e-01, 6.92e-01,\n",
      "       7.59e-01, 8.32e-01, 9.12e-01, 1.00e+00, 1.10e+00, 1.20e+00,\n",
      "       1.32e+00, 1.45e+00, 1.58e+00, 1.74e+00, 1.91e+00, 2.09e+00,\n",
      "       2.29e+00, 2.51e+00, 2.75e+00, 3.02e+00, 3.31e+00, 3.63e+00,\n",
      "       3.98e+00, 4.37e+00, 4.79e+00, 5.25e+00, 5.75e+00, 6.31e+00,\n",
      "       6.92e+00, 7.59e+00, 8.32e+00, 9.12e+00, 1.00e+01])]\n"
     ]
    }
   ],
   "source": [
    "edges, number, fobs, exname = example5(print_test=True)"
   ]
  },
  {
   "cell_type": "code",
   "execution_count": 76,
   "metadata": {},
   "outputs": [
    {
     "name": "stdout",
     "output_type": "stream",
     "text": [
      "0.00e+00, 0.00e+00, 0.00e+00, 6.53e-11, 1.11e+03, 5.99e+05, 5.83e+11\n"
     ]
    }
   ],
   "source": [
    "print(holo.utils.stats(number))"
   ]
  },
  {
   "cell_type": "code",
   "execution_count": 72,
   "metadata": {},
   "outputs": [
    {
     "name": "stdout",
     "output_type": "stream",
     "text": [
      "-2.15e+09, 0.00e+00, 0.00e+00, 0.00e+00, 9.52e+02, 4.92e+05, 2.15e+09\n"
     ]
    }
   ],
   "source": [
    "print(holo.utils.stats(np.floor(number).astype(int)))"
   ]
  },
  {
   "cell_type": "markdown",
   "metadata": {},
   "source": [
    "Calculate Strains"
   ]
  },
  {
   "cell_type": "code",
   "execution_count": 83,
   "metadata": {},
   "outputs": [
    {
     "name": "stdout",
     "output_type": "stream",
     "text": [
      "bgnum stats after copy\n",
      " 0.00e+00, 0.00e+00, 0.00e+00, 0.00e+00, 1.11e+03, 5.99e+05, 5.83e+11\n",
      "new tests passed! :(\n",
      "bgnum stats:\n",
      " 0.00e+00, 0.00e+00, 0.00e+00, 0.00e+00, 1.11e+03, 5.99e+05, 5.83e+11\n",
      "bgnum[hsamp==hsmax] stats:\n",
      " 1.00e+00, 1.00e+00, 1.00e+00, 1.00e+00, 1.00e+00, 1.00e+00, 1.00e+00\n",
      "\n",
      "after subtraction\n",
      "bgnum stats:\n",
      " 0.00e+00, 0.00e+00, 0.00e+00, 0.00e+00, 1.11e+03, 5.99e+05, 5.83e+11\n",
      "bgnum[hsamp==hsmax] stats:\n",
      " 0.00e+00, 0.00e+00, 0.00e+00, 0.00e+00, 0.00e+00, 0.00e+00, 0.00e+00\n"
     ]
    }
   ],
   "source": [
    "# Get GW Total Strain using gws_by_ndars()\n",
    "hc_tt = gws_by_ndars(edges, number, realize=False, round = True, sum=True)   \n",
    " \n",
    "# Get BG and SS Strain using ss_gws_by_ndars()\n",
    "# has hsamp but not sspar\n",
    "hc_bg_ndar, hc_ss_ndar, hsamp_ndar, ssidx_ndar, maxhs_ndar, bgnum_ndar\\\n",
    "    = ss_gws_by_ndars(edges, number, realize=False)\n",
    "hc_bg_ndar5, hc_ss_ndar5, hsamp_ndar5, ssidx_ndar5, maxhs_ndar5, bgnum_ndar5\\\n",
    "    = hc_bg_ndar, hc_ss_ndar, hsamp_ndar, ssidx_ndar, maxhs_ndar, bgnum_ndar\n",
    "\n",
    "# Get BG and SS Strain using ss_gws_by_loops()\n",
    "# has sspar, but not hsamp\n",
    "hc_bg_loop, hc_ss_loop, sspar_loop, ssidx_loop, maxhs_loop, bgnum_loop\\\n",
    "    = ss_gws_by_loops(edges, number, realize=False)\n",
    "hc_bg_loop5, hc_ss_loop5, sspar_loop5, ssidx_loop5, maxhs_loop5, bgnum_loop5\\\n",
    "    = hc_bg_loop, hc_ss_loop, sspar_loop, ssidx_loop, maxhs_loop, bgnum_loop"
   ]
  },
  {
   "attachments": {},
   "cell_type": "markdown",
   "metadata": {},
   "source": [
    "## 5.2 Tests"
   ]
  },
  {
   "cell_type": "code",
   "execution_count": 47,
   "metadata": {},
   "outputs": [],
   "source": [
    "# test\n",
    "hc_bg_ndar, hc_ss_ndar, hsamp_ndar, ssidx_ndar, maxhs_ndar, bgnum_ndar\\\n",
    "    = run_example_tests(edges, number, fobs, print_test=True)"
   ]
  },
  {
   "attachments": {},
   "cell_type": "markdown",
   "metadata": {},
   "source": [
    "## 5.3 Plots"
   ]
  },
  {
   "cell_type": "markdown",
   "metadata": {},
   "source": [
    "### BG, SS, and TT Strain"
   ]
  },
  {
   "cell_type": "code",
   "execution_count": 84,
   "metadata": {},
   "outputs": [
    {
     "data": {
      "image/png": "[encoded data removed]",
      "text/plain": [
       "<Figure size 1000x450 with 1 Axes>"
      ]
     },
     "metadata": {},
     "output_type": "display_data"
    }
   ],
   "source": [
    "# quick plot\n",
    "fig, ax = plot.figax(xlabel='Frequency $f_\\mathrm{obs}$ [1/yr]', \n",
    "                    ylabel='Characteristic Strain $h_c$', figsize=[10,4.5])\n",
    "ax.set_title(exname)\n",
    "xx = fobs * YR\n",
    "\n",
    "# plot a reference, pure power-law  strain spectrum:   h_c(f) = 1e-15 * (f * yr) ^ -2/3\n",
    "yy = 1e-15 * np.power(xx, -2.0/3.0)\n",
    "ax.plot(xx, yy, 'k--', alpha=0.25, lw=2.0, label = 'pure power law')\n",
    "\n",
    "# total char strain (no sources subtracted)\n",
    "ax.plot(xx, hc_tt, color='black', marker = 'x', lw=3, \n",
    "        ls = 'dotted', alpha=1, label='total, by loops')\n",
    "\n",
    "\n",
    "# by loops:\n",
    "# gwb\n",
    "ax.plot(xx, hc_bg_loop, color='b', marker = 'o', lw=3,\n",
    "        ls = 'dotted', alpha=.5, label='background, loops')\n",
    "# loudest source per bin\n",
    "ax.scatter(xx, hc_ss_loop, color='b', marker = 'o', s=100,\n",
    "           edgecolor='k', alpha=.5, label='single source, loops')\n",
    "\n",
    "# by ndars:\n",
    "# gwb\n",
    "ax.plot(xx, hc_bg_ndar, color='g', marker = 'o', lw=3, \n",
    "        ls = 'dotted', alpha=.5, label='background, ndars')\n",
    "# loudest source per bin\n",
    "ax.scatter(xx, hc_ss_ndar, color='g', marker = 'o', \n",
    "           edgecolor='k', alpha=.5, label='single source, ndars')\n",
    "\n",
    "\n",
    "ax.plot(xx, np.sqrt(hc_bg_ndar**2+hc_ss_ndar**2), color='r', \n",
    "        label=r'$sqrt (bg^2 + ss^2)$, ndars', alpha=.5)\n",
    "# ax.plot(xx, np.sqrt(hc_bg_loop**2+hc_ss_loop**2), color='r', \n",
    "#         label=r'$sqrt (bg^2 + ss^2)$, loops', alpha=.5)\n",
    "\n",
    "legend_gwb = ax.legend(bbox_to_anchor=(.95,.95), \n",
    "                       bbox_transform=fig.transFigure, loc='upper right')\n",
    "\n",
    "\n",
    "# ax.set_ylim(1e-16, 3e-15)\n",
    "fig.tight_layout()"
   ]
  }
 ],
 "metadata": {
  "kernelspec": {
   "display_name": "Python 3",
   "language": "python",
   "name": "python3"
  },
  "language_info": {
   "codemirror_mode": {
    "name": "ipython",
    "version": 3
   },
   "file_extension": ".py",
   "mimetype": "text/x-python",
   "name": "python",
   "nbconvert_exporter": "python",
   "pygments_lexer": "ipython3",
   "version": "3.9.13"
  },
  "orig_nbformat": 4,
  "vscode": {
   "interpreter": {
    "hash": "17d459439548e0ef4d6a744a9fa4f3f6fa91b434189a6e542a76bffcd834cb9b"
   }
  }
 },
 "nbformat": 4,
 "nbformat_minor": 2
}
