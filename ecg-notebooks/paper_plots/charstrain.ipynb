{
 "cells": [
  {
   "cell_type": "code",
   "execution_count": null,
   "metadata": {},
   "outputs": [],
   "source": [
    "%reload_ext autoreload\n",
    "%autoreload 2\n",
    "from importlib import reload\n",
    "\n",
    "import numpy as np\n",
    "import matplotlib.pyplot as plt\n",
    "import matplotlib.cm as cm\n",
    "import h5py\n",
    "import matplotlib as mpl\n",
    "\n",
    "\n",
    "from holodeck import plot, detstats\n",
    "import holodeck.single_sources as sings\n",
    "from holodeck.constants import YR, MSOL, MPC\n",
    "import holodeck as holo\n",
    "\n",
    "import hasasia.sim as hsim\n",
    "import os\n"
   ]
  },
  {
   "cell_type": "code",
   "execution_count": null,
   "metadata": {},
   "outputs": [],
   "source": [
    "SHAPE = None\n",
    "NREALS = 500\n",
    "# NREALS = 20\n",
    "NFREQS = 40\n",
    "NLOUDEST = 10\n",
    "\n",
    "BUILD_ARRAYS = False\n",
    "SAVEFIG = False\n",
    "TOL=0.01\n",
    "MAXBADS=5\n",
    "\n",
    "NVARS = 21\n",
    "# NVARS = 6\n",
    "\n",
    "NPSRS = 40\n",
    "NSKIES = 100\n",
    "# NSKIES = 15"
   ]
  },
  {
   "cell_type": "code",
   "execution_count": null,
   "metadata": {},
   "outputs": [],
   "source": [
    "def get_data(\n",
    "        target, nvars=NVARS, nreals=NREALS, nskies=NSKIES, shape=SHAPE, red_gamma = None, red2white=None,\n",
    "    path = '/Users/emigardiner/GWs/holodeck/output/anatomy_09B'     \n",
    "):\n",
    "\n",
    "    load_data_from_file = path+f'/{target}_v{nvars}_r{nreals}_s{nskies}_shape{str(shape)}.npz' \n",
    "    # load_dets_from_file = path+f'/{target}_v{nvars}_r{nreals}_s{nskies}_shape{str(shape)}_ds' \n",
    "    # if red_gamma is not None and red2white is not None:\n",
    "    #     load_dets_from_file = load_dets_from_file+f'_r2w{red2white:.1f}_rg{red_gamma:.1f}'\n",
    "    # load_dets_from_file = load_dets_from_file+'.npz'\n",
    "\n",
    "    if os.path.exists(load_data_from_file) is False:\n",
    "        err = f\"load data file '{load_data_from_file}' does not exist, you need to construct it.\"\n",
    "        raise Exception(err)\n",
    "    # if os.path.exists(load_dets_from_file) is False:\n",
    "    #     err = f\"load dets file '{load_dets_from_file}' does not exist, you need to construct it.\"\n",
    "    #     raise Exception(err)\n",
    "    file = np.load(load_data_from_file, allow_pickle=True)\n",
    "    data = file['data'][int(NVARS/2)]\n",
    "    params = file['params'][int(NVARS/2)]\n",
    "    file.close()\n",
    "\n",
    "    # file = np.load(load_dets_from_file, allow_pickle=True)\n",
    "    # dsdat = file['dsdat']\n",
    "    # file.close()\n",
    "\n",
    "    return data, params"
   ]
  },
  {
   "cell_type": "code",
   "execution_count": null,
   "metadata": {},
   "outputs": [],
   "source": [
    "data, params = get_data('hard_time')"
   ]
  },
  {
   "cell_type": "code",
   "execution_count": null,
   "metadata": {},
   "outputs": [],
   "source": [
    "hc_ss = data['hc_ss']\n",
    "hc_bg = data['hc_bg']\n",
    "sspar = data['sspar']\n",
    "bgpar = data['bgpar']\n",
    "fobs_cents = data['fobs_cents']"
   ]
  },
  {
   "cell_type": "code",
   "execution_count": null,
   "metadata": {},
   "outputs": [],
   "source": [
    "edgecolors = np.repeat(None, NLOUDEST)\n",
    "edgecolors[0] = 'k'\n",
    "print(edgecolors)"
   ]
  },
  {
   "cell_type": "code",
   "execution_count": null,
   "metadata": {},
   "outputs": [],
   "source": [
    "fig, ax = plot.figax_single(\n",
    "    xlabel=plot.LABEL_GW_FREQUENCY_YR, ylabel=plot.LABEL_CHARACTERISTIC_STRAIN)\n",
    "\n",
    "\n",
    "nsamp = 5    # number of sample GWB spectra to plot\n",
    "\n",
    "xx = fobs_cents * YR\n",
    "xx_ss = np.repeat(xx, NLOUDEST).reshape(NFREQS, NLOUDEST)\n",
    "\n",
    "# plot a reference, pure power-law  strain spectrum:   h_c(f) = 1e-15 * (f * yr) ^ -2/3\n",
    "yy = 1e-15 * np.power(xx, -2.0/3.0)\n",
    "ax.plot(xx, yy, 'k--', alpha=0.25, lw=2.0)\n",
    "\n",
    "# Plot the median GWB spectrum\n",
    "ax.plot(xx, np.median(hc_bg, axis=-1), 'k-')\n",
    "\n",
    "\n",
    "\n",
    "# Plot `nsamp` random spectra \n",
    "seed = 67233 # more spread out\n",
    "# seed = 98068 # includes random super high\n",
    "# seed = np.random.randint(99999)   # get a random number\n",
    "print(seed)                       # print it out so we can reuse it if desired\n",
    "np.random.seed(seed)              # set the random seed\n",
    "\n",
    "nsamp = np.min([nsamp, NREALS])\n",
    "\n",
    "colors = [\n",
    "    '#6a3d9a', # purple\n",
    "    '#ff7f0f', # orange\n",
    "    '#15becf', # teal\n",
    "    '#f0027f', # pink\n",
    "    '#a6d853', # green\n",
    "]\n",
    "\n",
    "# select random realizations to plot\n",
    "idx = np.random.choice(NREALS, nsamp, replace=False)\n",
    "for aa, ii in enumerate(idx):\n",
    "\n",
    "    # edgecolors = np.repeat(colors[aa], NLOUDEST).reshape(4, NLOUDEST) # idk why this isnt working\n",
    "    # edgecolors = np.swapaxes(edgecolors, 0,1)\n",
    "    # edgecolors[0,:] = np.array([1, 1, 1, 1])\n",
    "\n",
    "    for ll in range(5):\n",
    "        edgecolor = 'k' if ll==0 else None\n",
    "        ax.scatter(xx, hc_ss[:,ii,ll], color=colors[aa], alpha=0.3, edgecolor=edgecolor)\n",
    "\n",
    "for aa, ii in enumerate(idx):\n",
    "    ax.plot(xx, hc_bg[:,ii], linestyle='-', alpha=0.75, color=colors[aa])  \n",
    "\n",
    "fig.tight_layout()\n",
    "# fig.savefig(f'/Users/emigardiner/GWs/holodeck/output/figures/bigplots/hc_midvars_{seed}.png', dpi=100)\n",
    "\n",
    "# plot contours at 50% and 98% confidence intervals\n",
    "for pp in [50, 98]:\n",
    "    percs = pp / 2\n",
    "    percs = [50 - percs, 50 + percs]\n",
    "    ax.fill_between(xx, *np.percentile(hc_bg, percs, axis=-1), alpha=0.25, color='k')\n",
    "    \n",
    "# plt.show()"
   ]
  },
  {
   "attachments": {},
   "cell_type": "markdown",
   "metadata": {},
   "source": [
    "# all parameters"
   ]
  },
  {
   "cell_type": "code",
   "execution_count": null,
   "metadata": {},
   "outputs": [],
   "source": [
    "print(sings.par_labels)\n",
    "\n",
    "bgpar = data['bgpar']\n",
    "sspar = data['sspar']\n",
    "sspar = sings.all_sspars(fobs_cents, sspar)\n",
    "\n",
    "bgpar = bgpar*sings.par_units[:,np.newaxis,np.newaxis]\n",
    "sspar = sspar*sings.par_units[:,np.newaxis,np.newaxis,np.newaxis]"
   ]
  },
  {
   "cell_type": "code",
   "execution_count": null,
   "metadata": {},
   "outputs": [],
   "source": [
    "fig, axs = plot.figax_double(nrows=2, ncols=3, sharex=True)\n",
    "\n",
    "xx = fobs_cents*YR\n",
    "nsamp = 5\n",
    "\n",
    "# Plot `nsamp` random spectra \n",
    "seed = 67233 # more spread out\n",
    "# seed = np.random.randint(99999)   # get a random number\n",
    "print(seed)                       # print it out so we can reuse it if desired\n",
    "np.random.seed(seed)              # set the random seed\n",
    "\n",
    "# select random realizations to plot\n",
    "idx = np.random.choice(NREALS, nsamp, replace=False)\n",
    "\n",
    "# parameters to plot\n",
    "yy_ss = [hc_ss, sspar[0], sspar[1], # sspar[2,],  # strain, mass, mass ratio,\n",
    "         sspar[4], sspar[5], sspar[6]] # final comoving distance, final separation, final angular separation\n",
    "yy_bg = [hc_bg, bgpar[0], bgpar[1],  # strain, mass, mass ratio, initial redshift\n",
    "         bgpar[4], bgpar[5], bgpar[6]]\n",
    "ylabels = np.append([plot.LABEL_CHARACTERISTIC_STRAIN,], sings.par_labels)\n",
    "ylabels = ['Characteristic Strain, $h_c$', 'Total Mass, $M_\\mathrm{tot}$ [M$_\\odot$]', 'Mass Ratio, $q$', \n",
    "           'Comoving Distance, $d_\\mathrm{com}$ [Mpc]', 'Separation [pc]', 'Separation [rad]']\n",
    "for ii, ax in enumerate(axs.flatten()):\n",
    "    # Plot the median   \n",
    "    ax.plot(xx, np.median(yy_bg[ii], axis=-1), 'k-')\n",
    "\n",
    "    # Plot the confidence intervals\n",
    "    for pp in [50, 95]:\n",
    "        percs = pp / 2\n",
    "        percs = [50 - percs, 50 + percs]\n",
    "        ax.fill_between(xx, *np.percentile(yy_bg[ii], percs, axis=-1), alpha=0.25, color='k')\n",
    "\n",
    "    # label axes\n",
    "    if ii>=3:\n",
    "        ax.set_xlabel(plot.LABEL_GW_FREQUENCY_YR)\n",
    "    ax.set_ylabel(ylabels[ii])\n",
    "    \n",
    "fig.tight_layout()"
   ]
  },
  {
   "cell_type": "code",
   "execution_count": null,
   "metadata": {},
   "outputs": [],
   "source": [
    "# print(holo.utils.stats(sspar[3]))"
   ]
  },
  {
   "cell_type": "code",
   "execution_count": null,
   "metadata": {},
   "outputs": [],
   "source": [
    "xx = np.linspace(0,20,100)\n",
    "xx[5] = np.nan\n",
    "\n",
    "print(np.sum(xx))"
   ]
  },
  {
   "cell_type": "code",
   "execution_count": null,
   "metadata": {},
   "outputs": [],
   "source": []
  }
 ],
 "metadata": {
  "kernelspec": {
   "display_name": "holo310",
   "language": "python",
   "name": "python3"
  },
  "language_info": {
   "codemirror_mode": {
    "name": "ipython",
    "version": 3
   },
   "file_extension": ".py",
   "mimetype": "text/x-python",
   "name": "python",
   "nbconvert_exporter": "python",
   "pygments_lexer": "ipython3",
   "version": "3.10.10"
  }
 },
 "nbformat": 4,
 "nbformat_minor": 2
}
