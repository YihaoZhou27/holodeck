{
 "cells": [
  {
   "cell_type": "code",
   "execution_count": null,
   "metadata": {},
   "outputs": [],
   "source": [
    "%reload_ext autoreload\n",
    "%autoreload 2\n",
    "from importlib import reload\n",
    "\n",
    "import numpy as np\n",
    "import matplotlib.pyplot as plt\n",
    "import matplotlib.cm as cm\n",
    "import matplotlib as mpl\n",
    "import h5py\n",
    "from tqdm import tqdm\n",
    "import os\n",
    "import kalepy as kale\n",
    "\n",
    "\n",
    "from holodeck import plot, detstats\n",
    "import holodeck.single_sources as sings\n",
    "from holodeck.constants import YR, MSOL, MPC, GYR, PC\n",
    "import holodeck as holo"
   ]
  },
  {
   "cell_type": "code",
   "execution_count": null,
   "metadata": {},
   "outputs": [],
   "source": [
    "fobs_cents, fobs_edges = holo.utils.pta_freqs()\n",
    "cad = 1.0/(2*fobs_cents[-1])\n",
    "print(cad/YR)"
   ]
  },
  {
   "cell_type": "code",
   "execution_count": null,
   "metadata": {},
   "outputs": [],
   "source": [
    "def truncate_colormap(cmap, minval=0.0, maxval=1.0, n=100):\n",
    "    '''\n",
    "    https://stackoverflow.com/a/18926541\n",
    "    '''\n",
    "    if isinstance(cmap, str):\n",
    "        cmap = plt.get_cmap(cmap)\n",
    "    new_cmap = mpl.colors.LinearSegmentedColormap.from_list(\n",
    "        'trunc({n},{a:.2f},{b:.2f})'.format(n=cmap.name, a=minval, b=maxval),\n",
    "        cmap(np.linspace(minval, maxval, n)))\n",
    "    return new_cmap\n",
    "\n",
    "cmap_base = 'magma_r'\n",
    "magma_r = truncate_colormap(cmap_base, 0, 0.85)\n",
    "blacks = truncate_colormap('binary', 0.4, 1.0)\n",
    "\n",
    "cmap_Blues = truncate_colormap('Blues', 0.4, 1)\n",
    "cmap_PuBuGn = truncate_colormap('PuBuGn', 0.2, 1)\n",
    "cmap_Greens = truncate_colormap('Greens', 0.4, 1)\n",
    "cmap_Oranges = truncate_colormap('Oranges', 0.4, 1)\n",
    "cmap_Purples = truncate_colormap('Purples', 0.4, 1)"
   ]
  },
  {
   "cell_type": "code",
   "execution_count": null,
   "metadata": {},
   "outputs": [],
   "source": [
    "SHAPE = None\n",
    "NREALS = 500\n",
    "NFREQS = 40\n",
    "NLOUDEST = 10\n",
    "\n",
    "BUILD_ARRAYS = False\n",
    "SAVEFIG = False\n",
    "TOL=0.01\n",
    "MAXBADS=5\n",
    "\n",
    "NVARS = 21\n",
    "# NVARS = 6\n",
    "\n",
    "NPSRS = 40\n",
    "NSKIES = 100\n",
    "RED_GAMMA = None\n",
    "RED2WHITE = None\n",
    "\n"
   ]
  },
  {
   "cell_type": "code",
   "execution_count": null,
   "metadata": {},
   "outputs": [],
   "source": [
    "def get_var_data( target, var=None, nvars=NVARS, nreals=NREALS, nskies=NSKIES, shape=SHAPE, red_gamma = None, red2white=None,\n",
    "    path = '/Users/emigardiner/GWs/holodeck/output/anatomy_redz'     \n",
    "):\n",
    "\n",
    "    path = path + f'/{target}_v{nvars}_r{nreals}_shape{str(shape)}' \n",
    "    load_data_from_file = path+f'/data_params.npz' \n",
    "    load_dets_from_file = path+f'/detstats_s{nskies}_ssn' \n",
    "    if red_gamma is not None and red2white is not None:\n",
    "        load_dets_from_file = load_dets_from_file+f'_r2w{red2white:.1f}_rg{red_gamma:.1f}'\n",
    "    else:\n",
    "        load_dets_from_file = load_dets_from_file+f'_white'\n",
    "    load_dets_from_file = load_dets_from_file+'.npz'\n",
    "\n",
    "    if os.path.exists(load_data_from_file) is False:\n",
    "        err = f\"load data file '{load_data_from_file}' does not exist, you need to construct it.\"\n",
    "        raise Exception(err)\n",
    "    if os.path.exists(load_dets_from_file) is False:\n",
    "        err = f\"load dets file '{load_dets_from_file}' does not exist, you need to construct it.\"\n",
    "        raise Exception(err)\n",
    "    file = np.load(load_data_from_file, allow_pickle=True)\n",
    "    if var is not None:\n",
    "        data = file['data'][var]\n",
    "        params = file['params'][var]\n",
    "    else:\n",
    "        data = file['data']\n",
    "        params = file['params']\n",
    "\n",
    "    file.close()\n",
    "\n",
    "    file = np.load(load_dets_from_file, allow_pickle=True)\n",
    "    if var is not None:\n",
    "        dsdat = file['dsdat'][var]\n",
    "    else:\n",
    "        dsdat = file['dsdat']\n",
    "    file.close()\n",
    "\n",
    "    return data, params, dsdat"
   ]
  },
  {
   "attachments": {},
   "cell_type": "markdown",
   "metadata": {},
   "source": [
    "# Get Edges"
   ]
  },
  {
   "cell_type": "code",
   "execution_count": null,
   "metadata": {},
   "outputs": [],
   "source": [
    "# # get edges\n",
    "# NBINS = 40\n",
    "# sam = holo.sams.Semi_Analytic_Model()\n",
    "# mt_edges = sam.mtot[25:-15]/MSOL\n",
    "# dc_edges = np.geomspace(1e1, 1e4, NBINS)\n",
    "# sn_edges = np.geomspace(2.e-6,515, NBINS)"
   ]
  },
  {
   "attachments": {},
   "cell_type": "markdown",
   "metadata": {},
   "source": [
    "# Get Hist Data"
   ]
  },
  {
   "cell_type": "code",
   "execution_count": null,
   "metadata": {},
   "outputs": [],
   "source": [
    "# TARGET = 'hard_time'\n",
    "# var = None\n",
    "# data, params, dsdat = get_var_data(target=TARGET, var=0, nskies=NSKIES, nvars=NVARS,\n",
    "#                         path = '/Users/emigardiner/GWs/holodeck/output/anatomy_redz'  )\n",
    "# print(params)"
   ]
  },
  {
   "cell_type": "code",
   "execution_count": null,
   "metadata": {},
   "outputs": [],
   "source": [
    "# TARGET = 'hard_time'\n",
    "# hist_mt = []\n",
    "# hist_dc = []\n",
    "# bghist_mt = []\n",
    "# bghist_dc = []\n",
    "\n",
    "# for var in [0,-1]:\n",
    "#     data, params, dsdat = get_var_data(target=TARGET, var=var, nskies=NSKIES, nvars=NVARS,\n",
    "#                         path = '/Users/emigardiner/GWs/holodeck/output/anatomy_redz'  )\n",
    "\n",
    "#     sspar = sings.all_sspars(data['fobs_cents'], data['sspar'])\n",
    "#     bgpar = data['bgpar']\n",
    "\n",
    "#     # total mass\n",
    "#     _ssmtt = sspar[0]/MSOL\n",
    "#     _ssmtt = np.repeat(_ssmtt, NSKIES).reshape(NFREQS, NREALS, NLOUDEST, NSKIES)\n",
    "#     _ssmtt = np.swapaxes(_ssmtt, -2, -1)\n",
    "\n",
    "#     _bgmtt = bgpar[0]/MSOL # F,R\n",
    "#     print(f\"{_bgmtt.shape=}\")\n",
    "\n",
    "#     # comoving distance\n",
    "#     _ssdcm = sspar[4]/MPC\n",
    "#     _ssdcm = np.repeat(_ssdcm, NSKIES).reshape(NFREQS, NREALS, NLOUDEST, NSKIES)\n",
    "#     _ssdcm = np.swapaxes(_ssdcm, -2, -1)\n",
    "\n",
    "#     _bgdcm = bgpar[4]/MPC\n",
    "\n",
    "#     # snr\n",
    "#     _snssi = dsdat['snr_ss']\n",
    "#     _snrbg = dsdat['snr_bg']\n",
    "#     _snrbg = np.repeat(_snrbg, NFREQS).reshape(NREALS, NFREQS)\n",
    "#     _snrbg = np.swapaxes(_snrbg, 0, 1)\n",
    "    \n",
    "\n",
    "#     # get total mass histograms\n",
    "#     _hist_mt, sne, mte, = np.histogram2d(\n",
    "#         _snssi.flatten(), _ssmtt.flatten(), bins=(sn_edges, mt_edges))\n",
    "#     hist_mt.append(_hist_mt)\n",
    "\n",
    "#     _bghist_mt, sne, mte, = np.histogram2d(\n",
    "#         _snrbg.flatten(), _bgmtt.flatten(), bins=(sn_edges, mt_edges))\n",
    "#     bghist_mt.append(_bghist_mt)\n",
    "\n",
    "#     # get comoving distance histograms\n",
    "#     _hist_dc, sne, dce, = np.histogram2d(\n",
    "#         _snssi.flatten(), _ssdcm.flatten(), bins=(sn_edges, dc_edges))\n",
    "#     hist_dc.append(_hist_dc)\n",
    "\n",
    "#     _bghist_dc, sne, dce = np.histogram2d(\n",
    "#         _snrbg.flatten(), _bgdcm.flatten(), bins=(sn_edges, dc_edges))\n",
    "#     bghist_dc.append(_bghist_dc)\n"
   ]
  },
  {
   "attachments": {},
   "cell_type": "markdown",
   "metadata": {},
   "source": [
    "# Try AGAIN"
   ]
  },
  {
   "cell_type": "code",
   "execution_count": null,
   "metadata": {},
   "outputs": [],
   "source": [
    "# # get edges\n",
    "# NBINS = 20\n",
    "# sam = holo.sams.Semi_Analytic_Model()\n",
    "# mt_edges = sam.mtot[25:-15]/MSOL\n",
    "# dc_edges = np.geomspace(1e1, 1e4, NBINS)\n",
    "# sn_edges = np.geomspace(2.e-6,515, NBINS)\n",
    "\n",
    "# dcgrid, mtgrid, = np.meshgrid(dc_edges, mt_edges, )"
   ]
  },
  {
   "cell_type": "code",
   "execution_count": null,
   "metadata": {},
   "outputs": [],
   "source": [
    "# snr = dsdat['snr_ss']\n",
    "# sspar = sings.all_sspars(data['fobs_cents'], data['sspar'])\n",
    "# mtt = np.repeat(sspar[0]/MSOL, NSKIES).reshape(NFREQS, NREALS, NLOUDEST, NSKIES)\n",
    "# mtt = np.swapaxes(mtt, -1, -2)\n",
    "# dcm = np.repeat(sspar[4]/MPC, NSKIES).reshape(NFREQS, NREALS, NLOUDEST, NSKIES)\n",
    "# dcm = np.swapaxes(dcm, -1, -2)\n"
   ]
  },
  {
   "cell_type": "code",
   "execution_count": null,
   "metadata": {},
   "outputs": [],
   "source": [
    "# snr_grid = np.zeros((len(mt_edges)-1, len(dc_edges)-1))\n",
    "# sum_grid = np.zeros_like(snr_grid)"
   ]
  },
  {
   "cell_type": "code",
   "execution_count": null,
   "metadata": {},
   "outputs": [],
   "source": [
    "# print(snr_grid.shape)\n",
    "# print(mtt.shape, dcm.shape, snr.shape)"
   ]
  },
  {
   "cell_type": "code",
   "execution_count": null,
   "metadata": {},
   "outputs": [],
   "source": [
    "# for mm in range(len(mt_edges)-1):\n",
    "#     # inmass = np.where(np.logical_and(mtt>mt_edges[0], mtt<mt_edges[mm+1])\n",
    "#     for dd in range(len(dc_edges)-1):\n",
    "#         inbin = np.where(\n",
    "#             np.logical_and(\n",
    "#                 np.logical_and(mtt>mt_edges[mm], mtt<mt_edges[mm+1]),\n",
    "#                 np.logical_and(dcm>dc_edges[dd], dcm<dc_edges[dd+1])\n",
    "#             )\n",
    "#         )\n",
    "#         snr_grid[mm,dd] = np.mean(snr[inbin])\n"
   ]
  },
  {
   "attachments": {},
   "cell_type": "markdown",
   "metadata": {},
   "source": [
    "# min grid"
   ]
  },
  {
   "cell_type": "code",
   "execution_count": null,
   "metadata": {},
   "outputs": [],
   "source": [
    "# VAR = 0\n",
    "# data, params, dsdat = get_var_data(target=TARGET, var=VAR, nskies=NSKIES, nvars=NVARS,\n",
    "#                     path = '/Users/emigardiner/GWs/holodeck/output/anatomy_redz'  )\n",
    "# ht_min = params[TARGET]\n",
    "\n",
    "# snr = dsdat['snr_ss']\n",
    "# sspar = sings.all_sspars(data['fobs_cents'], data['sspar'])\n",
    "# mtt = np.repeat(sspar[0]/MSOL, NSKIES).reshape(NFREQS, NREALS, NLOUDEST, NSKIES)\n",
    "# mtt = np.swapaxes(mtt, -1, -2)\n",
    "# dcm = np.repeat(sspar[4]/MPC, NSKIES).reshape(NFREQS, NREALS, NLOUDEST, NSKIES)\n",
    "# dcm = np.swapaxes(dcm, -1, -2)\n",
    "\n",
    "\n",
    "# min_grid = np.zeros_like(snr_grid)\n",
    "# for mm in range(len(mt_edges)-1):\n",
    "#     # inmass = np.where(np.logical_and(mtt>mt_edges[0], mtt<mt_edges[mm+1])\n",
    "#     for dd in range(len(dc_edges)-1):\n",
    "#         inbin = np.where(\n",
    "#             np.logical_and(\n",
    "#                 np.logical_and(mtt>mt_edges[mm], mtt<mt_edges[mm+1]),\n",
    "#                 np.logical_and(dcm>dc_edges[dd], dcm<dc_edges[dd+1])\n",
    "#             )\n",
    "#         )\n",
    "#         min_grid[mm,dd] = np.sum(snr[inbin])\n"
   ]
  },
  {
   "attachments": {},
   "cell_type": "markdown",
   "metadata": {},
   "source": [
    "# max grid"
   ]
  },
  {
   "cell_type": "code",
   "execution_count": null,
   "metadata": {},
   "outputs": [],
   "source": [
    "# VAR = -1\n",
    "# data, params, dsdat = get_var_data(target=TARGET, var=VAR, nskies=NSKIES, nvars=NVARS,\n",
    "#                     path = '/Users/emigardiner/GWs/holodeck/output/anatomy_redz'  )\n",
    "# ht_max = params[TARGET]\n",
    "\n",
    "# snr = dsdat['snr_ss']\n",
    "# sspar = sings.all_sspars(data['fobs_cents'], data['sspar'])\n",
    "# mtt = np.repeat(sspar[0]/MSOL, NSKIES).reshape(NFREQS, NREALS, NLOUDEST, NSKIES)\n",
    "# mtt = np.swapaxes(mtt, -1, -2)\n",
    "# dcm = np.repeat(sspar[4]/MPC, NSKIES).reshape(NFREQS, NREALS, NLOUDEST, NSKIES)\n",
    "# dcm = np.swapaxes(dcm, -1, -2)\n",
    "\n",
    "\n",
    "# max_grid = np.zeros_like(snr_grid)\n",
    "# for mm in range(len(mt_edges)-1):\n",
    "#     # inmass = np.where(np.logical_and(mtt>mt_edges[0], mtt<mt_edges[mm+1])\n",
    "#     for dd in range(len(dc_edges)-1):\n",
    "#         inbin = np.where(\n",
    "#             np.logical_and(\n",
    "#                 np.logical_and(mtt>mt_edges[mm], mtt<mt_edges[mm+1]),\n",
    "#                 np.logical_and(dcm>dc_edges[dd], dcm<dc_edges[dd+1])\n",
    "#             )\n",
    "#         )\n",
    "#         max_grid[mm,dd] = np.sum(snr[inbin])"
   ]
  },
  {
   "cell_type": "code",
   "execution_count": null,
   "metadata": {},
   "outputs": [],
   "source": [
    "# # sum\n",
    "# fig, ax = plot.figax(xlabel='Mass', ylabel='Distance',)\n",
    "# im = ax.pcolormesh(mtgrid, dcgrid, max_grid)\n",
    "# plt.colorbar(im, ax=ax, label='$\\sum \\mathrm{SNR} (\\\\tau_\\mathrm{hard}=%.2f \\mathrm{Gyr})$' % ht_max)"
   ]
  },
  {
   "cell_type": "code",
   "execution_count": null,
   "metadata": {},
   "outputs": [],
   "source": [
    "# # sum\n",
    "# fig, ax = plot.figax(xlabel='Mass', ylabel='Distance',)\n",
    "# im = ax.pcolormesh(mtgrid, dcgrid, min_grid)\n",
    "# plt.colorbar(im, ax=ax, label='$\\sum \\mathrm{SNR} (\\\\tau_\\mathrm{hard}=%.2f \\mathrm{Gyr})$' % ht_min)"
   ]
  },
  {
   "cell_type": "code",
   "execution_count": null,
   "metadata": {},
   "outputs": [],
   "source": [
    "# # sum\n",
    "# fig, ax = plot.figax(xlabel='Mass', ylabel='Distance',)\n",
    "# im = ax.pcolormesh(mtgrid, dcgrid, np.log10(max_grid))\n",
    "# plt.colorbar(im, ax=ax, label='$\\log \\sum \\mathrm{SNR} (\\\\tau_\\mathrm{hard}=%.2f \\mathrm{Gyr})$' % ht_max)"
   ]
  },
  {
   "cell_type": "code",
   "execution_count": null,
   "metadata": {},
   "outputs": [],
   "source": [
    "# # sum\n",
    "# fig, ax = plot.figax(xlabel='Mass', ylabel='Distance',)\n",
    "# im = ax.pcolormesh(mtgrid, dcgrid, np.log10(min_grid))\n",
    "# plt.colorbar(im, ax=ax, label='$\\log \\sum \\mathrm{SNR} (\\\\tau_\\mathrm{hard}=%.2f \\mathrm{Gyr})$' % ht_min)"
   ]
  },
  {
   "cell_type": "code",
   "execution_count": null,
   "metadata": {},
   "outputs": [],
   "source": [
    "# # ratio\n",
    "# fig, ax = plot.figax(xlabel='Mass', ylabel='Distance',)\n",
    "# im = ax.pcolormesh(mtgrid, dcgrid, (max_grid/min_grid))\n",
    "# plt.colorbar(im, ax=ax, label='[$\\sum \\mathrm{SNR} (\\\\tau_\\mathrm{hard}=%.2f \\mathrm{Gyr})$] / [$\\sum \\mathrm{SNR} (\\\\tau_\\mathrm{hard}=%.2f \\mathrm{Gyr})$]' \n",
    "#              % (ht_max, ht_min))"
   ]
  },
  {
   "cell_type": "code",
   "execution_count": null,
   "metadata": {},
   "outputs": [],
   "source": [
    "# # ratio\n",
    "# fig, ax = plot.figax(xlabel='Mass', ylabel='Distance',)\n",
    "# im = ax.pcolormesh(mtgrid, dcgrid, np.log10(max_grid/min_grid))\n",
    "# plt.colorbar(im, ax=ax, label='log [$\\sum \\mathrm{SNR} (\\\\tau_\\mathrm{hard}=%.2f \\mathrm{Gyr})$] / [$\\sum \\mathrm{SNR} (\\\\tau_\\mathrm{hard}=%.2f \\mathrm{Gyr})$]' \n",
    "#              % (ht_max, ht_min))"
   ]
  },
  {
   "cell_type": "code",
   "execution_count": null,
   "metadata": {},
   "outputs": [],
   "source": []
  },
  {
   "cell_type": "code",
   "execution_count": null,
   "metadata": {},
   "outputs": [],
   "source": [
    "# fig, ax = plot.figax()\n",
    "# ax.pcolormesh(mtgrid, dcgrid, snr_grid)\n",
    "# ax.set_xscale('log')\n",
    "# ax.set_yscale('log')"
   ]
  },
  {
   "attachments": {},
   "cell_type": "markdown",
   "metadata": {},
   "source": [
    "# min hist"
   ]
  },
  {
   "cell_type": "code",
   "execution_count": null,
   "metadata": {},
   "outputs": [],
   "source": [
    "# mt_grid, dc_grid, = np.meshgrid(mt_edges, dc_edges, )"
   ]
  },
  {
   "cell_type": "code",
   "execution_count": null,
   "metadata": {},
   "outputs": [],
   "source": [
    "# VAR = 0\n",
    "# data, params, dsdat = get_var_data(target=TARGET, var=VAR, nskies=NSKIES, nvars=NVARS,\n",
    "#                     path = '/Users/emigardiner/GWs/holodeck/output/anatomy_redz'  )\n",
    "# ht_min = params[TARGET]\n",
    "\n",
    "# snr = dsdat['snr_ss']\n",
    "# sspar = sings.all_sspars(data['fobs_cents'], data['sspar'])\n",
    "# mtt = np.repeat(sspar[0]/MSOL, NSKIES).reshape(NFREQS, NREALS, NLOUDEST, NSKIES)\n",
    "# mtt = np.swapaxes(mtt, -1, -2)\n",
    "# dcm = np.repeat(sspar[4]/MPC, NSKIES).reshape(NFREQS, NREALS, NLOUDEST, NSKIES)\n",
    "# dcm = np.swapaxes(dcm, -1, -2)\n",
    "\n",
    "# hist_min, dc_ed, mt_ed = np.histogram2d(dcm.flatten(), mtt.flatten(), \n",
    "#                                         bins=(dc_edges, mt_edges), weights=snr.flatten())"
   ]
  },
  {
   "cell_type": "code",
   "execution_count": null,
   "metadata": {},
   "outputs": [],
   "source": [
    "# # sum\n",
    "# fig, ax = plot.figax(xlabel='Mass', ylabel='Distance',)\n",
    "# im = ax.pcolormesh(mt_grid, dc_grid, (hist_min))\n",
    "# plt.colorbar(im, ax=ax, label='$\\sum \\mathrm{SNR} (\\\\tau_\\mathrm{hard}=%.2f \\mathrm{Gyr})$' % ht_min)"
   ]
  },
  {
   "cell_type": "code",
   "execution_count": null,
   "metadata": {},
   "outputs": [],
   "source": [
    "# # sum\n",
    "# fig, ax = plot.figax(xlabel='Mass', ylabel='Distance',)\n",
    "# im = ax.pcolormesh(mt_grid, dc_grid, np.log10(hist_min))\n",
    "# plt.colorbar(im, ax=ax, label='$\\log \\sum \\mathrm{SNR} (\\\\tau_\\mathrm{hard}=%.2f \\mathrm{Gyr})$' % ht_min)"
   ]
  },
  {
   "attachments": {},
   "cell_type": "markdown",
   "metadata": {},
   "source": [
    "# med grid"
   ]
  },
  {
   "cell_type": "code",
   "execution_count": null,
   "metadata": {},
   "outputs": [],
   "source": [
    "# VAR = 10\n",
    "# data, params, dsdat = get_var_data(target=TARGET, var=VAR, nskies=NSKIES, nvars=NVARS,\n",
    "#                     path = '/Users/emigardiner/GWs/holodeck/output/anatomy_redz'  )\n",
    "# ht_med = params[TARGET]\n",
    "\n",
    "# snr = dsdat['snr_ss']\n",
    "# sspar = sings.all_sspars(data['fobs_cents'], data['sspar'])\n",
    "# mtt = np.repeat(sspar[0]/MSOL, NSKIES).reshape(NFREQS, NREALS, NLOUDEST, NSKIES)\n",
    "# mtt = np.swapaxes(mtt, -1, -2)\n",
    "# dcm = np.repeat(sspar[4]/MPC, NSKIES).reshape(NFREQS, NREALS, NLOUDEST, NSKIES)\n",
    "# dcm = np.swapaxes(dcm, -1, -2)\n",
    "\n",
    "\n",
    "# hist_med, dc_ed, mt_ed = np.histogram2d(dcm.flatten(), mtt.flatten(), \n",
    "#                                         bins=(dc_edges, mt_edges), weights=snr.flatten())"
   ]
  },
  {
   "attachments": {},
   "cell_type": "markdown",
   "metadata": {},
   "source": [
    "# max grid"
   ]
  },
  {
   "cell_type": "code",
   "execution_count": null,
   "metadata": {},
   "outputs": [],
   "source": [
    "# VAR = -1\n",
    "# data, params, dsdat = get_var_data(target=TARGET, var=VAR, nskies=NSKIES, nvars=NVARS,\n",
    "#                     path = '/Users/emigardiner/GWs/holodeck/output/anatomy_redz'  )\n",
    "# ht_max = params[TARGET]\n",
    "\n",
    "# snr = dsdat['snr_ss']\n",
    "# sspar = sings.all_sspars(data['fobs_cents'], data['sspar'])\n",
    "# mtt = np.repeat(sspar[0]/MSOL, NSKIES).reshape(NFREQS, NREALS, NLOUDEST, NSKIES)\n",
    "# mtt = np.swapaxes(mtt, -1, -2)\n",
    "# dcm = np.repeat(sspar[4]/MPC, NSKIES).reshape(NFREQS, NREALS, NLOUDEST, NSKIES)\n",
    "# dcm = np.swapaxes(dcm, -1, -2)\n",
    "\n",
    "\n",
    "# hist_max, dc_ed, mt_ed = np.histogram2d(dcm.flatten(), mtt.flatten(), \n",
    "#                                         bins=(dc_edges, mt_edges), weights=snr.flatten())"
   ]
  },
  {
   "cell_type": "code",
   "execution_count": null,
   "metadata": {},
   "outputs": [],
   "source": [
    "# # sum\n",
    "# fig, ax = plot.figax(xlabel='Mass', ylabel='Distance',)\n",
    "# im = ax.pcolormesh(mt_grid, dc_grid, (hist_max))\n",
    "# plt.colorbar(im, ax=ax, label='$\\sum \\mathrm{SNR} (\\\\tau_\\mathrm{hard}=%.2f \\mathrm{Gyr})$' % ht_max)"
   ]
  },
  {
   "cell_type": "code",
   "execution_count": null,
   "metadata": {},
   "outputs": [],
   "source": [
    "# # sum\n",
    "# fig, ax = plot.figax(xlabel='Mass', ylabel='Distance',)\n",
    "# im = ax.pcolormesh(mt_grid, dc_grid, np.log10(hist_max))\n",
    "# plt.colorbar(im, ax=ax, label='log$\\sum \\mathrm{SNR} (\\\\tau_\\mathrm{hard}=%.2f \\mathrm{Gyr})$' % ht_max)"
   ]
  },
  {
   "cell_type": "code",
   "execution_count": null,
   "metadata": {},
   "outputs": [],
   "source": [
    "# mt_cents = holo.utils.midpoints(mt_edges)\n",
    "# dc_cents= holo.utils.midpoints(dc_edges)"
   ]
  },
  {
   "cell_type": "code",
   "execution_count": null,
   "metadata": {},
   "outputs": [],
   "source": [
    "# # sum\n",
    "# fig, ax = plot.figax(xlabel='Mass', ylabel='Distance',)\n",
    "# ax.contour(mt_cents, dc_cents, (hist_max), cmap=cm.Purples)\n",
    "# ax.contour(mt_cents, dc_cents, (hist_med), cmap=cm.Blues)\n",
    "# ax.contour(mt_cents, dc_cents, (hist_min), cmap=cm.Greens)\n",
    "# # plt.colorbar(im, ax=ax, label='log$\\sum \\mathrm{SNR} (\\\\tau_\\mathrm{hard}=%.2f \\mathrm{Gyr})$' % ht_max)"
   ]
  },
  {
   "cell_type": "code",
   "execution_count": null,
   "metadata": {},
   "outputs": [],
   "source": [
    "# # sum\n",
    "# levels = np.linspace(3.5,5,8)\n",
    "# # levels=None\n",
    "\n",
    "# fig, ax = plot.figax(xlabel='Mass', ylabel='Distance',)\n",
    "# ax.contour(mt_cents, dc_cents, np.log10(hist_min), cmap=cmap_Greens, levels=levels)\n",
    "# ax.contour(mt_cents, dc_cents, np.log10(hist_med), cmap=cmap_Blues, levels=levels)\n",
    "# ax.contour(mt_cents, dc_cents, np.log10(hist_max), cmap=cmap_Purples, levels=levels)\n",
    "# # plt.colorbar(im, ax=ax, label='log$\\sum \\mathrm{SNR} (\\\\tau_\\mathrm{hard}=%.2f \\mathrm{Gyr})$' % ht_max)\n",
    "# handles = [\n",
    "#     mpl.lines.Line2D([0], [0], label=f\"{ht_min:.2f}\", color='#1e8144'),\n",
    "#     mpl.lines.Line2D([0], [0], label=f\"{ht_med:.2f}\", color=\"#347ebb\"),\n",
    "#     mpl.lines.Line2D([0], [0], label=f\"{ht_max:.2f}\", color=\"#6e56a6\")\n",
    "# ]\n",
    "# # labels = [f\"{ht_min:.2f}\", f\"{ht_med:.2f}\", labelf\"{ht_max:.2f}\", color='#1e8144']\n",
    "# ax.legend(handles=handles, title='$\\\\tau_\\mathrm{hard}$', loc='upper left')"
   ]
  },
  {
   "attachments": {},
   "cell_type": "markdown",
   "metadata": {},
   "source": [
    "# Histogram Functions"
   ]
  },
  {
   "cell_type": "code",
   "execution_count": null,
   "metadata": {},
   "outputs": [],
   "source": [
    "def hist_min_med_max(TARGET, mt_edges, dc_edges):\n",
    "\n",
    "    # MINIMUM\n",
    "    VAR = 0\n",
    "    data, params, dsdat = get_var_data(target=TARGET, var=VAR, nskies=NSKIES, nvars=NVARS,\n",
    "                        path = '/Users/emigardiner/GWs/holodeck/output/anatomy_redz'  )\n",
    "    par_min = params[TARGET]\n",
    "\n",
    "    # single sources \n",
    "    snr = dsdat['snr_ss'] # (F,R,S,L)\n",
    "    sspar = sings.all_sspars(data['fobs_cents'], data['sspar'])\n",
    "    mtt = np.repeat(sspar[0]/MSOL, NSKIES).reshape(NFREQS, NREALS, NLOUDEST, NSKIES)\n",
    "    mtt = np.swapaxes(mtt, -1, -2)\n",
    "    dcm = np.repeat(sspar[4]/MPC, NSKIES).reshape(NFREQS, NREALS, NLOUDEST, NSKIES)\n",
    "    dcm = np.swapaxes(dcm, -1, -2)\n",
    "\n",
    "    hist_min, dc_ed, mt_ed = np.histogram2d(dcm.flatten(), mtt.flatten(), \n",
    "                                            bins=(dc_edges, mt_edges), weights=snr.flatten())\n",
    "    \n",
    "    # background\n",
    "    bgsnr = np.repeat(dsdat['snr_bg'], NFREQS).reshape(NREALS, NFREQS) # (R,F)\n",
    "    bgsnr = np.swapaxes(bgsnr, 0, 1).flatten() # (FxR)\n",
    "    bgpar = data['bgpar'] # (4,F,R)\n",
    "    bgmtt = bgpar[0]/MSOL\n",
    "    bgdcm = bgpar[4]/MPC \n",
    "    bghist_min, dc_ed, mt_ed = np.histogram2d(bgdcm.flatten(), bgmtt.flatten(), \n",
    "                                            bins=(dc_edges, mt_edges), weights=bgsnr.flatten())\n",
    "    \n",
    "    # MEAN\n",
    "    VAR = 10\n",
    "    data, params, dsdat = get_var_data(target=TARGET, var=VAR, nskies=NSKIES, nvars=NVARS,\n",
    "                        path = '/Users/emigardiner/GWs/holodeck/output/anatomy_redz'  )\n",
    "    par_med = params[TARGET]\n",
    "\n",
    "    # single sources \n",
    "    snr = dsdat['snr_ss']\n",
    "    sspar = sings.all_sspars(data['fobs_cents'], data['sspar'])\n",
    "    mtt = np.repeat(sspar[0]/MSOL, NSKIES).reshape(NFREQS, NREALS, NLOUDEST, NSKIES)\n",
    "    mtt = np.swapaxes(mtt, -1, -2)\n",
    "    dcm = np.repeat(sspar[4]/MPC, NSKIES).reshape(NFREQS, NREALS, NLOUDEST, NSKIES)\n",
    "    dcm = np.swapaxes(dcm, -1, -2)\n",
    "\n",
    "    hist_med, dc_ed, mt_ed = np.histogram2d(dcm.flatten(), mtt.flatten(), \n",
    "                                            bins=(dc_edges, mt_edges), weights=snr.flatten())\n",
    "    \n",
    "    # background\n",
    "    bgsnr = np.repeat(dsdat['snr_bg'], NFREQS).reshape(NREALS, NFREQS) # (R,F)\n",
    "    bgsnr = np.swapaxes(bgsnr, 0, 1).flatten() # (FxR)\n",
    "    bgpar = data['bgpar'] # (4,F,R)\n",
    "    bgmtt = bgpar[0]/MSOL\n",
    "    bgdcm = bgpar[4]/MPC \n",
    "\n",
    "    bghist_med, dc_ed, mt_ed = np.histogram2d(bgdcm.flatten(), bgmtt.flatten(), \n",
    "                                            bins=(dc_edges, mt_edges), weights=bgsnr.flatten())\n",
    "    \n",
    "    # MAXIMUM\n",
    "    VAR = -1\n",
    "    data, params, dsdat = get_var_data(target=TARGET, var=VAR, nskies=NSKIES, nvars=NVARS,\n",
    "                        path = '/Users/emigardiner/GWs/holodeck/output/anatomy_redz'  )\n",
    "    par_max = params[TARGET]\n",
    "\n",
    "    # single sources\n",
    "    snr = dsdat['snr_ss']\n",
    "    sspar = sings.all_sspars(data['fobs_cents'], data['sspar'])\n",
    "    mtt = np.repeat(sspar[0]/MSOL, NSKIES).reshape(NFREQS, NREALS, NLOUDEST, NSKIES)\n",
    "    mtt = np.swapaxes(mtt, -1, -2)\n",
    "    dcm = np.repeat(sspar[4]/MPC, NSKIES).reshape(NFREQS, NREALS, NLOUDEST, NSKIES)\n",
    "    dcm = np.swapaxes(dcm, -1, -2)\n",
    "\n",
    "\n",
    "    hist_max, dc_ed, mt_ed = np.histogram2d(dcm.flatten(), mtt.flatten(), \n",
    "                                            bins=(dc_edges, mt_edges), weights=snr.flatten())\n",
    "    \n",
    "    # background\n",
    "    bgsnr = np.repeat(dsdat['snr_bg'], NFREQS).reshape(NREALS, NFREQS) # (R,F)\n",
    "    bgsnr = np.swapaxes(bgsnr, 0, 1).flatten() # (FxR)\n",
    "    bgpar = data['bgpar'] # (4,F,R)\n",
    "    bgmtt = bgpar[0]/MSOL\n",
    "    bgdcm = bgpar[4]/MPC \n",
    "\n",
    "    bghist_max, dc_ed, mt_ed = np.histogram2d(bgdcm.flatten(), bgmtt.flatten(), \n",
    "                                            bins=(dc_edges, mt_edges), weights=bgsnr.flatten())\n",
    "\n",
    "    rv = dict(hist_min=hist_min, hist_med=hist_med, hist_max=hist_max, \n",
    "              bghist_min=bghist_min, bghist_med=bghist_med, bghist_max=bghist_max,\n",
    "              par_min=par_min, par_med=par_med, par_max=par_max)\n",
    "    \n",
    "    return rv\n",
    "\n",
    "\n",
    "def draw_contours(ax, TARGET, mt_edges, dc_edges,\n",
    "                  levels=np.linspace(3.5,5,8), colors=None, load_from=None):\n",
    "    if load_from is None:\n",
    "        rv = hist_min_med_max(TARGET, mt_edges=mt_edges, dc_edges=dc_edges,)\n",
    "        hist_min, hist_med, hist_max = rv['hist_min'], rv['hist_med'], rv['hist_max']\n",
    "        par_min, par_med, par_max = rv['par_min'], rv['par_med'], rv['par_max']\n",
    "    else:\n",
    "        rv = np.load(load_from)\n",
    "        hist_min, hist_med, hist_max = rv['hist_min'], rv['hist_med'], rv['hist_max']\n",
    "        par_min, par_med, par_max = rv['par_min'], rv['par_med'], rv['par_max']\n",
    "        rv.close()\n",
    "\n",
    "    mt_cents = holo.utils.midpoints(mt_edges)\n",
    "    dc_cents= holo.utils.midpoints(dc_edges)\n",
    "\n",
    "    if colors is None:\n",
    "        ax.contour(mt_cents, dc_cents, np.log10(hist_min), cmap=cmap_Greens, levels=levels)\n",
    "        ax.contour(mt_cents, dc_cents, np.log10(hist_med), cmap=cmap_Blues, levels=levels)\n",
    "        ax.contour(mt_cents, dc_cents, np.log10(hist_max), cmap=cmap_Purples, levels=levels)\n",
    "    else:\n",
    "        ax.contour(mt_cents, dc_cents, np.log10(hist_min), colors=colors[0], levels=levels)\n",
    "        ax.contour(mt_cents, dc_cents, np.log10(hist_med), colors=colors[1], levels=levels)\n",
    "        ax.contour(mt_cents, dc_cents, np.log10(hist_max), colors=colors[2], levels=levels)\n",
    "    # plt.colorbar(im, ax=ax, label='log$\\sum \\mathrm{SNR} (\\\\tau_\\mathrm{hard}=%.2f \\mathrm{Gyr})$' % ht_max)\n",
    "    \n",
    "    if colors is None:\n",
    "        colors = ['#1e8144', \"#347ebb\", '#6e56a6' ]\n",
    "    handles = [\n",
    "        mpl.lines.Line2D([0], [0], label=f\"{par_min:.2f}\", color=colors[0]),\n",
    "        mpl.lines.Line2D([0], [0], label=f\"{par_med:.2f}\", color=colors[1]),\n",
    "        mpl.lines.Line2D([0], [0], label=f\"{par_max:.2f}\", color=colors[2])\n",
    "    ]\n",
    "    return handles"
   ]
  },
  {
   "attachments": {},
   "cell_type": "markdown",
   "metadata": {},
   "source": [
    "# Save all hist data"
   ]
  },
  {
   "cell_type": "code",
   "execution_count": null,
   "metadata": {},
   "outputs": [],
   "source": [
    "BUILD_ARRAYS=False"
   ]
  },
  {
   "cell_type": "code",
   "execution_count": null,
   "metadata": {},
   "outputs": [],
   "source": [
    "\n",
    "NBINS = 40\n",
    "TAKE = 6 # take 5: ssn\n",
    "MT_IDX_MIN=30 \n",
    "MT_IDX_MAX=-1\n",
    "DC_EDGE_MIN=3e1\n",
    "DC_EDGE_MAX=1e4\n",
    "\n",
    "\n",
    "# get edges\n",
    "sam = holo.sams.Semi_Analytic_Model()\n",
    "mt_edges = sam.mtot[MT_IDX_MIN:MT_IDX_MAX]/MSOL\n",
    "dc_edges = np.geomspace(DC_EDGE_MIN, DC_EDGE_MAX, NBINS)\n",
    "\n",
    "\n",
    "targets = [\n",
    "    # 'gsmf_phi0', 'gsmf_mchar0_log10', 'mmb_mamp_log10', 'mmb_scatter_dex',\n",
    "    #            'hard_time', \n",
    "               'hard_gamma_inner'\n",
    "               ]\n",
    "if BUILD_ARRAYS:\n",
    "    for TARGET in tqdm(targets):\n",
    "        rv = hist_min_med_max(TARGET, mt_edges=mt_edges, dc_edges=dc_edges,)\n",
    "        hist_min, hist_med, hist_max = rv['hist_min'], rv['hist_med'], rv['hist_max']\n",
    "        bghist_min, bghist_med, bghist_max = rv['bghist_min'], rv['bghist_med'], rv['bghist_max']\n",
    "        par_min, par_med, par_max = rv['par_min'], rv['par_med'], rv['par_max']\n",
    "        print(file=/'')\n",
    "        filename = '/Users/emigardiner/GWs/holodeck/output/anatomy_redz/figdata'\n",
    "        filename = filename+f'/mt_dc_hist_tk{TAKE}_{TARGET}_{NBINS}bins.npz'\n",
    "        np.savez(filename,\n",
    "                hist_min=hist_min, hist_med=hist_med, hist_max=hist_max, \n",
    "                bghist_min=bghist_min, bghist_med=bghist_med, bghist_max=bghist_max, \n",
    "                    par_min=par_min, par_med=par_med, par_max=par_max)"
   ]
  },
  {
   "attachments": {},
   "cell_type": "markdown",
   "metadata": {},
   "source": [
    "### Plot individual targets from saved hist data"
   ]
  },
  {
   "cell_type": "code",
   "execution_count": null,
   "metadata": {},
   "outputs": [],
   "source": [
    "\n",
    "def plot_one_target(TARGET, title, NBINS=NBINS,\n",
    "                    MT_IDX_MIN=MT_IDX_MIN, MT_IDX_MAX=MT_IDX_MAX,\n",
    "                    DC_EDGE_MIN=DC_EDGE_MIN, DC_EDGE_MAX=DC_EDGE_MAX,\n",
    "                    levels=np.linspace(3.5,5,8), load_from=None):\n",
    "\n",
    "    # get edges\n",
    "    sam = holo.sams.Semi_Analytic_Model()\n",
    "    mt_edges = sam.mtot[MT_IDX_MIN:MT_IDX_MAX]/MSOL\n",
    "    dc_edges = np.geomspace(DC_EDGE_MIN, DC_EDGE_MAX, NBINS)\n",
    "\n",
    "    # make figure\n",
    "    fig, ax = plot.figax_single(xlabel='Mass', ylabel='Distance',)\n",
    "    handles = draw_contours(ax, TARGET, mt_edges=mt_edges, dc_edges=dc_edges, levels=levels, load_from=load_from)\n",
    "    ax.legend(handles=handles, title=title, loc='upper left')\n",
    "    return fig\n",
    "\n",
    "\n",
    "targets = ['hard_gamma_inner']\n",
    "\n",
    "\n",
    "for tt, TARGET in enumerate(tqdm(targets)):\n",
    "    title = plot.PARAM_KEYS[TARGET]\n",
    "\n",
    "    filename = '/Users/emigardiner/GWs/holodeck/output/anatomy_redz/figdata'\n",
    "    filename = filename+f'/mt_dc_hist_tk{TAKE}_{TARGET}_{NBINS}bins.npz'\n",
    "    print(filename)\n",
    "    print(title)\n",
    "    fig = plot_one_target(TARGET, title, load_from=filename)"
   ]
  },
  {
   "attachments": {},
   "cell_type": "markdown",
   "metadata": {},
   "source": [
    "# Kale Contours\n",
    "\n",
    "Using default sigmas: _DEF_SIGMAS = [0.5, 1.0, 1.5, 2.0]"
   ]
  },
  {
   "cell_type": "code",
   "execution_count": null,
   "metadata": {},
   "outputs": [],
   "source": [
    "print(f\"{sam.mtot[35]/MSOL:.2e}\")"
   ]
  },
  {
   "cell_type": "code",
   "execution_count": null,
   "metadata": {},
   "outputs": [],
   "source": [
    "# TAKE = 3\n",
    "# MT_IDX_MIN=30 \n",
    "# MT_IDX_MAX=-8\n",
    "# DC_EDGE_MIN=3e1\n",
    "# DC_EDGE_MAX=1e4\n",
    "\n",
    "# # get edges\n",
    "# sam = holo.sams.Semi_Analytic_Model()\n",
    "# mt_edges = sam.mtot[MT_IDX_MIN:MT_IDX_MAX]/MSOL\n",
    "# dc_edges = np.geomspace(DC_EDGE_MIN, DC_EDGE_MAX, NBINS)"
   ]
  },
  {
   "cell_type": "code",
   "execution_count": null,
   "metadata": {},
   "outputs": [],
   "source": [
    "# target = 'hard_time'\n",
    "\n",
    "# green_colors = ['#98d594', '#2e984e', '#00441b']\n",
    "# blue_colors = ['#94c4df', '#2e7ebc',  '#09306b']\n",
    "# orange_colors = ['#fda762', '#e2540a', '#7f2704']\n",
    "\n",
    "# filename = '/Users/emigardiner/GWs/holodeck/output/anatomy_redz/figdata'\n",
    "# load_from = filename+f'/mt_dc_hist_tk{TAKE}_{target}_{NBINS}bins.npz'\n",
    "\n",
    "# rv = np.load(load_from)\n",
    "# hist_min, hist_med, hist_max = rv['hist_min'], rv['hist_med'], rv['hist_max']\n",
    "# par_min, par_med, par_max = rv['par_min'], rv['par_med'], rv['par_max']\n",
    "# rv.close()\n",
    "\n",
    "# mt_cents = holo.utils.midpoints(mt_edges)\n",
    "# dc_cents= holo.utils.midpoints(dc_edges)"
   ]
  },
  {
   "cell_type": "code",
   "execution_count": null,
   "metadata": {},
   "outputs": [],
   "source": [
    "# fig, ax = plot.figax(xlabel='Mass [M$_\\odot$]', ylabel='Distance [Mpc]')\n",
    "# cmap_idx = [0.4, 0.7, 1.0]\n",
    "# for ii, hist in enumerate([hist_min, hist_med, hist_max]):\n",
    "#     cmap = truncate_colormap('Blues', cmap_idx[ii], cmap_idx[ii])\n",
    "#     kale.plot.draw_contour2d(ax, [mt_edges, dc_edges], \n",
    "#                          np.swapaxes(hist,0,1), cmap=cmap, outline=False)"
   ]
  },
  {
   "cell_type": "code",
   "execution_count": null,
   "metadata": {},
   "outputs": [],
   "source": [
    "# fig, ax = plot.figax(xlabel='Mass [M$_\\odot$]', ylabel='Distance [Mpc]')\n",
    "# cmap_idx = [0.4, 0.7, 1.0]\n",
    "# for ii, hist in enumerate([hist_min, hist_med, hist_max]):\n",
    "#     cmap = truncate_colormap('Blues', cmap_idx[ii], cmap_idx[ii])\n",
    "#     kale.plot.draw_contour2d(ax, [mt_edges, dc_edges], \n",
    "#                          np.swapaxes(hist,0,1), cmap=cmap, outline=True)"
   ]
  },
  {
   "cell_type": "code",
   "execution_count": null,
   "metadata": {},
   "outputs": [],
   "source": [
    "quantiles, sigmas = kale.plot._default_quantiles(sigmas=[0.5,1.0,1.5])"
   ]
  },
  {
   "cell_type": "code",
   "execution_count": null,
   "metadata": {},
   "outputs": [],
   "source": [
    "# sigmas = [1.0, 2.0]\n",
    "# quantiles = 1.0 - np.exp(-0.5 * np.square(sigmas))\n",
    "# print(quantiles)\n",
    "\n",
    "# fig = plot_all_targets_catcolors(targets, NBINS=NBINS,\n",
    "#                     MT_IDX_MIN=MT_IDX_MIN, MT_IDX_MAX=MT_IDX_MAX,\n",
    "#                     DC_EDGE_MIN=DC_EDGE_MIN, DC_EDGE_MAX=DC_EDGE_MAX,\n",
    "#                     smooth=True)\n",
    "# savepath = '/Users/emigardiner/GWs/holodeck/output/figures/bigplots/snr_contours'\n",
    "# savename = f\"{savepath}/snr_smooth_contours.png\"\n",
    "# fig.savefig(savename, dpi=300)"
   ]
  },
  {
   "cell_type": "code",
   "execution_count": null,
   "metadata": {},
   "outputs": [],
   "source": [
    "# sigmas = [1.0, 2.0]\n",
    "# quantiles = 1.0 - np.exp(-0.5 * np.square(sigmas))\n",
    "# print(quantiles)\n",
    "\n",
    "# fig = plot_all_targets_catcolors(targets, NBINS=NBINS,\n",
    "#                     MT_IDX_MIN=MT_IDX_MIN, MT_IDX_MAX=MT_IDX_MAX,\n",
    "#                     DC_EDGE_MIN=DC_EDGE_MIN, DC_EDGE_MAX=DC_EDGE_MAX,\n",
    "#                      quantiles=quantiles)"
   ]
  },
  {
   "cell_type": "markdown",
   "metadata": {},
   "source": [
    "# Single"
   ]
  },
  {
   "cell_type": "code",
   "execution_count": null,
   "metadata": {},
   "outputs": [],
   "source": [
    "def plot_all_targets_single(\n",
    "        targets, NBINS=NBINS, \n",
    "        MT_IDX_MIN=MT_IDX_MIN, MT_IDX_MAX=MT_IDX_MAX, DC_EDGE_MIN=DC_EDGE_MIN, DC_EDGE_MAX=DC_EDGE_MAX,\n",
    "        quantiles=None, smooth=None):\n",
    "    green_colors = ['#98d594', '#2e984e', '#00441b']\n",
    "    blue_colors = ['#94c4df', '#2e7ebc',  '#09306b']\n",
    "    orange_colors = ['#fda762', '#e2540a', '#7f2704']\n",
    "\n",
    "    catcolors = [green_colors, green_colors, \n",
    "                orange_colors, orange_colors, \n",
    "                blue_colors, blue_colors]\n",
    "    \n",
    "\n",
    "    cmap_idx = [0.4, 0.7, 1.0]\n",
    "    cmaps = ['Greens', 'Greens', \n",
    "             'Oranges', 'Oranges',\n",
    "             'Blues', 'Blues',]\n",
    "\n",
    "    # get edges\n",
    "    sam = holo.sams.Semi_Analytic_Model()\n",
    "    mt_edges = sam.mtot[MT_IDX_MIN:MT_IDX_MAX]/MSOL\n",
    "    dc_edges = np.geomspace(DC_EDGE_MIN, DC_EDGE_MAX, NBINS)\n",
    "\n",
    "    # make figure\n",
    "    xlabel='Mass [$\\mathrm{M}_\\odot$]'\n",
    "    ylabel='Distance [$\\mathrm{Mpc}$]'\n",
    "    fig, axs = plot.figax_single(nrows=3, ncols=2, sharey=True, sharex=True,\n",
    "                                 height=7)\n",
    "    fig.text(0.55, 0.075, xlabel, ha='center', va='bottom', )\n",
    "    plt.subplots_adjust(wspace=0, hspace=0)\n",
    "    for ii, ax in enumerate(tqdm(axs.flatten())):\n",
    "        colors = catcolors[ii]\n",
    "        if ii == 2:\n",
    "            ax.set_ylabel(ylabel)\n",
    "        title = plot.PARAM_KEYS[targets[ii]]\n",
    "\n",
    "        # load histogram data\n",
    "        filename = '/Users/emigardiner/GWs/holodeck/output/anatomy_redz/figdata'\n",
    "        filename = filename+f'/mt_dc_hist_tk{TAKE}_{targets[ii]}_{NBINS}bins.npz'\n",
    "        rv = np.load(filename)\n",
    "        hist_min, hist_med, hist_max = rv['hist_min'], rv['hist_med'], rv['hist_max']\n",
    "        bghist_min, bghist_med, bghist_max = rv['bghist_min'], rv['bghist_med'], rv['bghist_max']\n",
    "        par_min, par_med, par_max = rv['par_min'], rv['par_med'], rv['par_max']\n",
    "        rv.close()\n",
    "\n",
    "        # plot histogram\n",
    "        bghists = [bghist_min, bghist_med, bghist_max]\n",
    "        for hh, hist in enumerate([hist_min, hist_med, hist_max]):\n",
    "            # plot single source contours\n",
    "            cmap = truncate_colormap(cmaps[ii], cmap_idx[hh], cmap_idx[hh])\n",
    "            kale.plot.draw_contour2d(ax, [mt_edges, dc_edges], \n",
    "                                np.swapaxes(hist,0,1), cmap=cmap, \n",
    "                                outline=False, quantiles=quantiles, smooth=smooth)\n",
    "            \n",
    "            # plot background contours\n",
    "            cmap = truncate_colormap(cm.Greys, cmap_idx[hh], cmap_idx[hh])\n",
    "            kale.plot.draw_contour2d(ax, [mt_edges, dc_edges], \n",
    "                                     np.swapaxes(bghists[hh],0,1), cmap=cmap,\n",
    "                                     outline=False, quantiles=quantiles, smooth=smooth,\n",
    "                                     alpha=0.5, linestyles='--', linewidth=1)\n",
    "            \n",
    "\n",
    "        # make legend\n",
    "        alpha = 1- np.sqrt(1-0.8)\n",
    "        handles = [\n",
    "        mpl.lines.Line2D([0], [0], label=f\"{par_min:.2f}\", color=colors[0], alpha=alpha),\n",
    "        mpl.lines.Line2D([0], [0], label=f\"{par_med:.2f}\", color=colors[1], alpha=alpha),\n",
    "        mpl.lines.Line2D([0], [0], label=f\"{par_max:.2f}\", color=colors[2], alpha=alpha),\n",
    "        ]\n",
    "        leg = ax.legend(handles=handles, title=title, loc='upper left', \n",
    "                  handletextpad=0.25, borderpad=0.25, labelspacing=0.25, frameon=0,\n",
    "                  borderaxespad=0.25)\n",
    "        leg._legend_box.align = \"left\"\n",
    "    \n",
    "    # plt.subplots_adjust(wspace=0, hspace=0)\n",
    "    return fig\n",
    "\n",
    "fig = plot_all_targets_single(targets, smooth=True)\n",
    "\n",
    "savepath = '/Users/emigardiner/GWs/holodeck/output/figures/bigplots/snr_contours'\n",
    "savename = f\"{savepath}/snr_bgkale_contours_single.png\"\n",
    "fig.savefig(savename, dpi=300)"
   ]
  },
  {
   "cell_type": "code",
   "execution_count": null,
   "metadata": {},
   "outputs": [],
   "source": []
  }
 ],
 "metadata": {
  "kernelspec": {
   "display_name": "holo310",
   "language": "python",
   "name": "python3"
  },
  "language_info": {
   "codemirror_mode": {
    "name": "ipython",
    "version": 3
   },
   "file_extension": ".py",
   "mimetype": "text/x-python",
   "name": "python",
   "nbconvert_exporter": "python",
   "pygments_lexer": "ipython3",
   "version": "3.10.10"
  }
 },
 "nbformat": 4,
 "nbformat_minor": 2
}
