{
 "cells": [
  {
   "cell_type": "code",
   "execution_count": 279,
   "metadata": {},
   "outputs": [],
   "source": [
    "# MOD per system\n",
    "import sys\n",
    "sys.path.append('C:/Users/emiga/OneDrive/Cal/GWs/code/holodeck') \n",
    "\n",
    "\n",
    "# %load ../init.ipy\n",
    "%reload_ext autoreload\n",
    "%autoreload 2\n",
    "from importlib import reload\n",
    "\n",
    "import os\n",
    "import sys\n",
    "import logging\n",
    "import warnings\n",
    "import numpy as np\n",
    "import astropy as ap\n",
    "import scipy as sp\n",
    "import scipy.stats\n",
    "import matplotlib as mpl\n",
    "import matplotlib.pyplot as plt\n",
    "\n",
    "import h5py\n",
    "import tqdm.notebook as tqdm\n",
    "\n",
    "import kalepy as kale\n",
    "import kalepy.utils\n",
    "import kalepy.plot\n",
    "\n",
    "import holodeck as holo\n",
    "import holodeck.sam\n",
    "from holodeck import cosmo, utils, plot\n",
    "from holodeck.constants import MSOL, PC, YR, MPC, GYR\n",
    "\n",
    "# Silence annoying numpy errors\n",
    "np.seterr(divide='ignore', invalid='ignore', over='ignore')\n",
    "warnings.filterwarnings(\"ignore\", category=UserWarning)\n",
    "\n",
    "# Plotting settings\n",
    "mpl.rc('font', **{'family': 'serif', 'sans-serif': ['Times'], 'size': 15})\n",
    "mpl.rc('lines', solid_capstyle='round')\n",
    "mpl.rc('mathtext', fontset='cm')\n",
    "mpl.style.use('default')   # avoid dark backgrounds from dark theme vscode\n",
    "plt.rcParams.update({'grid.alpha': 0.5})\n",
    "\n",
    "log = holo.log\n",
    "log.setLevel(logging.INFO)"
   ]
  },
  {
   "attachments": {},
   "cell_type": "markdown",
   "metadata": {},
   "source": [
    "## Calculate Test Strains\n",
    "### Choose the frequency bins at which to calculate the GWB\n",
    "same as in semi-analytic-models.ipynb"
   ]
  },
  {
   "cell_type": "code",
   "execution_count": 280,
   "metadata": {},
   "outputs": [
    {
     "name": "stdout",
     "output_type": "stream",
     "text": [
      "Number of frequency bins: 4\n",
      "  between [0.63, 3.16] 1/yr\n",
      "          [20.00, 100.00] nHz\n"
     ]
    }
   ],
   "source": [
    "dur = 5.0*YR/3.1557600\n",
    "cad = .5*YR/3.1557600\n",
    "fobs = utils.nyquist_freqs(dur,cad)\n",
    "fobs_edges = utils.nyquist_freqs_edges(dur,cad)\n",
    "print(f\"Number of frequency bins: {fobs.size-1}\")\n",
    "print(f\"  between [{fobs[0]*YR:.2f}, {fobs[-1]*YR:.2f}] 1/yr\")\n",
    "print(f\"          [{fobs[0]*1e9:.2f}, {fobs[-1]*1e9:.2f}] nHz\")"
   ]
  },
  {
   "cell_type": "markdown",
   "metadata": {},
   "source": [
    "### Build Semi-Analytic-Model with super simple parameters "
   ]
  },
  {
   "cell_type": "code",
   "execution_count": 281,
   "metadata": {},
   "outputs": [
    {
     "name": "stdout",
     "output_type": "stream",
     "text": [
      "edges: [array([1.e+39, 1.e+40, 1.e+41]), array([0.1, 1. ]), array([0.  , 0.01, 0.1 , 1.  ])]\n"
     ]
    }
   ],
   "source": [
    "exname = 'Example 2'\n",
    "\n",
    "mtot=(1.0e6*MSOL/1.988409870698051, 1.0e8*MSOL/1.988409870698051, 3)\n",
    "mrat=(1e-1, 1.0, 2)\n",
    "redz=(1e-3, 1.0, 4)\n",
    "sam = holo.sam.Semi_Analytic_Model(mtot, mrat, redz)\n",
    "print('edges:', sam.edges)"
   ]
  },
  {
   "cell_type": "markdown",
   "metadata": {},
   "source": [
    "### Get SAM edges and numbers as in sam.gwb()"
   ]
  },
  {
   "cell_type": "code",
   "execution_count": 282,
   "metadata": {},
   "outputs": [],
   "source": [
    "# get observed orbital frequency bin edges and centers \n",
    "# from observed GW frequency bin edges\n",
    "# f_orb = f_GW/2\n",
    "fobs_orb_edges = fobs_edges / 2.0\n",
    "fobs_orb_cents = kale.utils.midpoints(fobs_edges) / 2.0\n",
    "\n",
    "# dynamic_binary_number\n",
    "# gets differential number of binaries per bin-vol per log freq interval\n",
    "edges, dnum = sam.dynamic_binary_number(holo.hardening.Hard_GW, fobs_orb=fobs_orb_cents)\n",
    "edges[-1] = fobs_orb_edges\n",
    "\n",
    "# integrate (multiply by bin volume) within each bin\n",
    "number = utils._integrate_grid_differential_number(edges, dnum, freq=False)\n",
    "number = number * np.diff(np.log(fobs_edges))"
   ]
  },
  {
   "attachments": {},
   "cell_type": "markdown",
   "metadata": {},
   "source": [
    "# 1 Functions"
   ]
  },
  {
   "attachments": {},
   "cell_type": "markdown",
   "metadata": {},
   "source": [
    "gws_by_loops"
   ]
  },
  {
   "cell_type": "code",
   "execution_count": 283,
   "metadata": {},
   "outputs": [],
   "source": [
    "def gws_by_loops(edges, number, realize, round = False, sum=False, print_test = False):\n",
    "       \n",
    "    \"\"\" Inefficient way to calculate strain from numbered \n",
    "    grid integrated\n",
    "\n",
    "    Parameters\n",
    "    ----------\n",
    "    edges : (4,) list of 1darrays\n",
    "        A list containing the edges along each dimension.  The four dimensions correspond to\n",
    "        total mass, mass ratio, redshift, and observer-frame orbital frequency.\n",
    "        The length of each of the four arrays is M, Q, Z, F.\n",
    "    number : (M-1, Q-1, Z-1, F-1) ndarray\n",
    "        The number of binaries in each bin of parameter space.  This is calculated by integrating\n",
    "        `dnum` over each bin.\n",
    "    realize : bool or int,\n",
    "        Specification of how to construct one or more discrete realizations.\n",
    "        If a `bool` value, then whether or not to construct a realization.\n",
    "        If a `int` value, then how many discrete realizations to construct.\n",
    "    round : bool\n",
    "        Specification of whether to discretize the sample if realize is False, \n",
    "        by rounding number of binaries in each bin to integers. This has no impact \n",
    "        if realize is true.\n",
    "    sum : bool\n",
    "        Whether or not to sum the strain at a given frequency over all bins.\n",
    "    print_test : bool\n",
    "        Whether or not to print variables as they are calculated, for dev purposes.\n",
    "\n",
    "\n",
    "    Returns\n",
    "    -------\n",
    "    hc : ndarray\n",
    "        Characteristic strain of the GWB.\n",
    "        The shape depends on whether realize is an integer or not\n",
    "        realize = True or False: shape is (M-1, Q-1, Z-1, F-1)\n",
    "        realize = R: shape is  (M-1, Q-1, Z-1, F-1, R)\n",
    "\n",
    "    \"\"\"\n",
    "    if(print_test):\n",
    "        print('INPUTS: edges:', len(edges), '\\n', edges, \n",
    "        '\\nINPUTS:number:', number.shape, '\\n', number,'\\n')\n",
    "\n",
    "    # Frequency bin midpoints\n",
    "    foo = edges[-1]                   #: should be observer-frame orbital-frequencies\n",
    "    df = np.diff(foo)                 #: frequency bin widths\n",
    "    fc = kale.utils.midpoints(foo)    #: use frequency-bin centers for strain (more accurate!)\n",
    "\n",
    "    # All other bin midpoints\n",
    "    mt = kale.utils.midpoints(edges[0]) #: total mass\n",
    "    mr = kale.utils.midpoints(edges[1]) #: mass ratio\n",
    "    rz = kale.utils.midpoints(edges[2]) #: redshift\n",
    "\n",
    "    \n",
    "    # make strain grid\n",
    "    hc_grid = np.empty_like(number)\n",
    "\n",
    "    # for r realizations, make a grid with shape \n",
    "    # m, q, z, f, r\n",
    "    if(utils.isinteger(realize)):\n",
    "        newshape = hc_grid.shape + (realize,)\n",
    "        if(print_test):\n",
    "            print('newshape:', newshape)\n",
    "        realized_grid = np.empty(newshape)\n",
    "\n",
    "    # get strain for each bin\n",
    "    for m_idx in range(len(mt)):\n",
    "        for q_idx in range(len(mr)):\n",
    "            cmass = holo.utils.chirp_mass_mtmr(mt[m_idx], mr[q_idx])\n",
    "            for z_idx in range(len(rz)):\n",
    "                cdist = holo.cosmo.comoving_distance(rz[z_idx]).cgs.value\n",
    "                \n",
    "                # print M, q, z, M_c, d_c\n",
    "                if(print_test):\n",
    "                    print('BIN mt=%.2e, mr=%.2e, rz=%.2e' %\n",
    "                        (mt[m_idx], mr[q_idx], rz[z_idx]))\n",
    "                    print('\\t m_c = %.2e, d_c = %.2e' \n",
    "                        % (cmass, cdist))\n",
    "\n",
    "                for f_idx in range(len(fc)):\n",
    "                    rfreq = holo.utils.frst_from_fobs(fc[f_idx], rz[z_idx])\n",
    "                    hs_mqzf = utils.gw_strain_source(cmass, cdist, rfreq)\n",
    "                    hc_dlnf = hs_mqzf**2 * (fc[f_idx]/df[f_idx])\n",
    "                    \n",
    "                    if(realize == False):\n",
    "                        if(round == True):\n",
    "                            hc_grid[m_idx, q_idx, z_idx, f_idx] = np.sqrt(hc_dlnf \n",
    "                                        * np.floor(number[m_idx, q_idx, z_idx, f_idx]).astype(int))\n",
    "                        else:\n",
    "                            hc_grid[m_idx, q_idx, z_idx, f_idx] = np.sqrt(hc_dlnf \n",
    "                                        * number[m_idx, q_idx, z_idx, f_idx])\n",
    "                        \n",
    "                    elif(realize == True):\n",
    "                        hc_grid[m_idx, q_idx, z_idx, f_idx] = np.sqrt(hc_dlnf \n",
    "                                        *np.random.poisson(number[m_idx, q_idx, z_idx, f_idx]))\n",
    "                    elif(utils.isinteger(realize)):\n",
    "                        for r_idx in range(realize):\n",
    "                            realized_grid[m_idx, q_idx, z_idx, f_idx, r_idx] = \\\n",
    "                                np.sqrt(hc_dlnf \n",
    "                                        *np.random.poisson(number[m_idx, q_idx, z_idx, f_idx]))\n",
    "                        hc_grid = realized_grid                \n",
    "                    else:\n",
    "                        print(\"`realize` ({}) must be one of {{True, False, integer}}!\"\\\n",
    "                            .format(realize))\n",
    "\n",
    "                     # print fr, hs, hc^2/dlnf, number, hc\n",
    "                    if(print_test):\n",
    "                        print('\\t\\tfr = %.2fnHz, h_s = %.2e, h_c^2/dlnf = %.2e' \n",
    "                            % (rfreq*10**9, hs_mqzf, hc_dlnf))\n",
    "                        print('\\t\\tnumber: %.2e' % number[m_idx, q_idx, z_idx, f_idx])\n",
    "                        print('\\t\\thc = %.2e' % hc_grid[m_idx, q_idx, z_idx, f_idx])\n",
    "    if(sum):\n",
    "        # sum over all bins at a given frequency and realization\n",
    "        hc_grid = np.sqrt(np.sum(hc_grid**2, axis=(0, 1, 2)))\n",
    "\n",
    "    \n",
    "    return hc_grid\n"
   ]
  },
  {
   "attachments": {},
   "cell_type": "markdown",
   "metadata": {},
   "source": [
    "cleaned up loops"
   ]
  },
  {
   "cell_type": "code",
   "execution_count": 317,
   "metadata": {},
   "outputs": [],
   "source": [
    "def ss_gws_by_loops(edges, number, realize=False, round=True, sum=True, \n",
    "                    ss=True, print_test = False):\n",
    "       \n",
    "    \"\"\" Inefficient way to calculate strain from numbered \n",
    "    grid integrated\n",
    "\n",
    "    Parameters\n",
    "    ----------\n",
    "    edges : (4,) list of 1darrays\n",
    "        A list containing the edges along each dimension.  The four dimensions correspond to\n",
    "        total mass, mass ratio, redshift, and observer-frame orbital frequency.\n",
    "        The length of each of the four arrays is M, Q, Z, F.\n",
    "    number : (M-1, Q-1, Z-1, F-1) ndarray\n",
    "        The number of binaries in each bin of parameter space.  This is calculated by integrating\n",
    "        `dnum` over each bin.\n",
    "    realize : bool or int,\n",
    "        Specification of how to construct one or more discrete realizations.\n",
    "        If a `bool` value, then whether or not to construct a realization.\n",
    "        If a `int` value, then how many discrete realizations to construct.\n",
    "    round : bool\n",
    "        Specification of whether to discretize the sample if realize is False, \n",
    "        by rounding number of binaries in each bin to integers. This has no impact \n",
    "        if realize is true.\n",
    "    sum : bool\n",
    "        Whether or not to sum the strain at a given frequency over all bins.\n",
    "    ss : bool \n",
    "        Whether or not to separate the loudest single source in each frequency bin.\n",
    "        NOTE: would be good to update this to allow for multiple foreground sources.\n",
    "    print_test : bool\n",
    "        Whether or not to print variable as they are calculated, for dev purposes.\n",
    "\n",
    "\n",
    "    Returns\n",
    "    -------\n",
    "    hc : ndarray\n",
    "        Characteristic strain of the GWB.\n",
    "        The shape depends on whether realize is an integer or not\n",
    "        realize = True or False, sum = False: shape is (M-1, Q-1, Z-1, F-1)\n",
    "        realize = True or False, sum = True: shape is (F-1)\n",
    "        realize = R, sum = False: shape is  (M-1, Q-1, Z-1, F-1, R)\n",
    "        realize = R, sum = True: shape is  (F-1, R)\n",
    "    louds : (F-1, 3) ndarray or None\n",
    "        M, q, and z of the loudest single source in each frequency bin.\n",
    "        None if loud = False\n",
    "\n",
    "\n",
    "    \"\"\"\n",
    "    if(print_test):\n",
    "        print('INPUTS: edges:', len(edges), '\\n', edges, \n",
    "        '\\nINPUTS:number:', number.shape, '\\n', number,'\\n')\n",
    "\n",
    "    # Frequency bin midpoints\n",
    "    foo = edges[-1]                   #: should be observer-frame orbital-frequencies\n",
    "    df = np.diff(foo)                 #: frequency bin widths\n",
    "    fc = kale.utils.midpoints(foo)    #: use frequency-bin centers for strain (more accurate!)\n",
    "\n",
    "    # All other bin midpoints\n",
    "    mt = kale.utils.midpoints(edges[0]) #: total mass\n",
    "    mr = kale.utils.midpoints(edges[1]) #: mass ratio\n",
    "    rz = kale.utils.midpoints(edges[2]) #: redshift\n",
    "\n",
    "    \n",
    "    # GW background characteristic strain\n",
    "    hc_bg = np.empty_like(number)\n",
    "    new_num = np.copy(number)\n",
    "\n",
    "    # for single sources, make a grid with shape\n",
    "    # (f, 3)\n",
    "    if(ss == True):\n",
    "        # params of loudest bin with number>=1\n",
    "        # shape (f,3) for 3 params\n",
    "        sspar = np.empty((len(fc), 3)) \n",
    "        # param indices of loudest bin with number>=1\n",
    "        # shape (f,3) for 3 params\n",
    "        ssidx = np.empty((len(fc), 3)) \n",
    "        # max hs at each frequency\n",
    "        maxhs = np.zeros(len(fc))\n",
    "        # (max)  single source characteristic strain at each frequency\n",
    "        hc_ss = np.zeros(len(fc))\n",
    "    else: \n",
    "        sspar = None\n",
    "        ssidx = None\n",
    "        maxhs = None\n",
    "        hc_ss = None\n",
    "\n",
    "    # # not worrying about realization implementation yet\n",
    "    # # for r realizations, make a grid with shape \n",
    "    # # m, q, z, f, r\n",
    "    # if(utils.isinteger(realize)):\n",
    "    #     newshape = hc_grid.shape + (realize,)\n",
    "    #     if(print_test):\n",
    "    #         print('newshape:', newshape)\n",
    "    #     realized_grid = np.empty(newshape)\n",
    "\n",
    "\n",
    "    # --------------- Single Sources ------------------\n",
    "    # 1) Identify the loudest (max hs) single source in a bin with N>=1\n",
    "    # 2) Record the parameters, parameter indices, and strain\n",
    "    #  of that single source\n",
    "    # 3) Subtract 1 from the number in that source's bin, \n",
    "    # 4) Calculate single source characteristic strain (hc)\n",
    "    # 5) Calculate the background with the new number \n",
    "    \n",
    "    if(ss == True):\n",
    "        for m_idx in range(len(mt)):\n",
    "            for q_idx in range(len(mr)):\n",
    "                cmass = holo.utils.chirp_mass_mtmr(mt[m_idx], mr[q_idx])\n",
    "                for z_idx in range(len(rz)):\n",
    "                    cdist = holo.cosmo.comoving_distance(rz[z_idx]).cgs.value\n",
    "                    \n",
    "                    # print M, q, z, M_c, d_c\n",
    "                    if(print_test):\n",
    "                        print('BIN mt=%.2e, mr=%.2e, rz=%.2e' %\n",
    "                            (mt[m_idx], mr[q_idx], rz[z_idx]))\n",
    "                        print('\\t m_c = %.2e, d_c = %.2e' \n",
    "                            % (cmass, cdist))\n",
    "\n",
    "                    # check if loudest source in any bin\n",
    "                    for f_idx in range(len(fc)):\n",
    "                        rfreq = holo.utils.frst_from_fobs(fc[f_idx], rz[z_idx])\n",
    "                        # hs of a source in that bin\n",
    "                        hs_mqzf = utils.gw_strain_source(cmass, cdist, rfreq)\n",
    "                        \n",
    "                        # 1) IF LOUDEST\n",
    "                        # check if loudest hs at that \n",
    "                        # frequency and contains binaries\n",
    "                        if(hs_mqzf>maxhs[f_idx] and \n",
    "                           number[m_idx, q_idx, z_idx, f_idx]>=1):\n",
    "                            \n",
    "                            # 2) If so, RECORD:\n",
    "                            # parameters M, q, z\n",
    "                            sspar[f_idx] = np.array([mt[m_idx], mr[q_idx],\n",
    "                                                     rz[z_idx]])\n",
    "                            # parameter indices\n",
    "                            ssidx[f_idx] = np.array([m_idx, q_idx, z_idx])\n",
    "                            # new max strain\n",
    "                            maxhs[f_idx] = hs_mqzf\n",
    "\n",
    "                    # print fr, hs, hc^2/dlnf, number, hc\n",
    "                    # if(print_test):\n",
    "                    #     print('\\tfr = %.2fnHz, h_s = %.2e'\n",
    "                    #         % (rfreq*10**9, hs_mqzf))\n",
    "                    #     print('\\t\\tnumber: %.2e' % \n",
    "                    #           number[m_idx, q_idx, z_idx, f_idx])\n",
    "                    #     if(ss):\n",
    "                    #         print('\\t\\thsmax = %.2e, max indices = (%d,%d,%d)' \n",
    "                    #             % (maxhs[f_idx], ssidx[f_idx,0], \n",
    "                    #                ssidx[f_idx,1], ssidx[f_idx,2]))\n",
    "\n",
    "        # 3) SUBTRACT 1 \n",
    "        # from bin with loudest source at each frequency\n",
    "        # can do this using the index of loudest, ssidx\n",
    "        # recall ssidx has shape [3, F]\n",
    "        # and = [(m_idx,q_idx,z_idx), fc],\n",
    "        for f_idx in range(len(fc)):\n",
    "            new_num[int(ssidx[f_idx,0]), int(ssidx[f_idx,1]), int(ssidx[f_idx,2]), \n",
    "                    f_idx] = number[int(ssidx[f_idx,0]), int(ssidx[f_idx,1]),\n",
    "                                     int(ssidx[f_idx,2]), f_idx] - 1 \n",
    "            # print('ssidx=', int(ssidx[f_idx,0]), int(ssidx[f_idx,1]), int(ssidx[f_idx,2]), f_idx)\n",
    "            # print(new_num.shape)\n",
    "            # print(new_num[int(ssidx[f_idx,0]), int(ssidx[f_idx,1]), int(ssidx[f_idx,2]), f_idx])\n",
    "\n",
    "            # 4) CALCULATE \n",
    "            # single source characteristic strain\n",
    "            hc_ss[f_idx] = np.sqrt(maxhs[f_idx]**2 * (fc[f_idx]/df[f_idx]))\n",
    "            \n",
    "\n",
    "    # 5)\n",
    "    # ----------------- Calculate Background Strains --------------------\n",
    "    # then we can go back in and calculate characteristic strains\n",
    "    # NOTE: could make this faster by saving rfreq and hs values from above\n",
    "    # instead of recalculating\n",
    "    for m_idx in range(len(mt)):\n",
    "        for q_idx in range(len(mr)):\n",
    "            cmass = holo.utils.chirp_mass_mtmr(mt[m_idx], mr[q_idx])\n",
    "            for z_idx in range(len(rz)):\n",
    "                cdist = holo.cosmo.comoving_distance(rz[z_idx]).cgs.value\n",
    "                for f_idx in range(len(fc)):\n",
    "                    rfreq = holo.utils.frst_from_fobs(fc[f_idx], rz[z_idx])\n",
    "                    hs_mqzf = utils.gw_strain_source(cmass, cdist, rfreq)\n",
    "                    hc_dlnf = hs_mqzf**2 * (fc[f_idx]/df[f_idx])\n",
    "                    if(realize == False):\n",
    "                        if(round == True):\n",
    "                            hc_bg[m_idx, q_idx, z_idx, f_idx] = np.sqrt(hc_dlnf \n",
    "                                        * np.floor(new_num[m_idx, q_idx, z_idx, f_idx]).astype(int))\n",
    "                        else:\n",
    "                            hc_bg[m_idx, q_idx, z_idx, f_idx] = np.sqrt(hc_dlnf \n",
    "                                        * new_num[m_idx, q_idx, z_idx, f_idx])\n",
    "                    else: \n",
    "                        print('realize not implemented yet') \n",
    "                        return 0   \n",
    "                    # elif(realize == True):\n",
    "                    #     hc_grid[m_idx, q_idx, z_idx, f_idx] = np.sqrt(hc_dlnf \n",
    "                    #                     *np.random.poisson(new_num[m_idx, q_idx, z_idx, f_idx]))\n",
    "                    # elif(utils.isinteger(realize)):\n",
    "                    #     for r_idx in range(realize):\n",
    "                    #         realized_grid[m_idx, q_idx, z_idx, f_idx, r_idx] = \\\n",
    "                    #             np.sqrt(hc_dlnf \n",
    "                    #                     *np.random.poisson(new_num[m_idx, q_idx, z_idx, f_idx]))\n",
    "                    #     hc_grid = realized_grid                \n",
    "                    # else:\n",
    "                    #     print(\"`realize` ({}) must be one of {{True, False, integer}}!\"\\\n",
    "                    #         .format(realize))\n",
    "\n",
    "                    if(print_test):\n",
    "                        print('\\tfr = %.2fnHz, h_s = %.2e, h_c^2/dlnf = %.2e' \n",
    "                            % (rfreq*10**9, hs_mqzf, hc_dlnf))\n",
    "                        print('\\t\\tnumber: %.2e' % new_num[m_idx, q_idx, z_idx, f_idx])\n",
    "                        print('\\t\\thc = %.2e' % hc_bg[m_idx, q_idx, z_idx, f_idx])\n",
    "                        if(ss == True):\n",
    "                            print('\\t\\t loudest?', \n",
    "                                np.all((ssidx[f_idx] == np.array([m_idx, q_idx, z_idx]))))\n",
    "    if(ss and print_test):\n",
    "        print('----loudest bins:')\n",
    "        for f_idx in range(len(fc)):\n",
    "            print('\\t M=%.2e, q=%.2e, z=%.2e, f=%.2e' \n",
    "                    % (sspar[f_idx,0], sspar[f_idx,1], sspar[f_idx,2], fc[f_idx]))\n",
    "            # if we use this instead, we don't need sspar\n",
    "            # print('\\t M=%.2e, q=%.2e, z=%.2e, f=%.2e' \n",
    "            #       % (mt[ssidx[f_idx,0]], mr[ssidx[f_idx,1]], rz[ssidx[f_idx,2]]))\n",
    "\n",
    "     \n",
    "    if(sum):\n",
    "        # sum over all bins at a given frequency and realization\n",
    "        hc_bg = np.sqrt(np.sum(hc_bg**2, axis=(0, 1, 2)))\n",
    "\n",
    "    \n",
    "    return hc_bg, hc_ss, sspar, ssidx, maxhs, new_num\n"
   ]
  },
  {
   "cell_type": "code",
   "execution_count": 290,
   "metadata": {},
   "outputs": [],
   "source": [
    "def gws_by_ndars(edges, number, realize, round = False, sum = False, print_test = False):\n",
    "       \n",
    "    \"\"\" More efficient way to calculate strain from numbered \n",
    "    grid integrated\n",
    "\n",
    "    Parameters\n",
    "    ----------\n",
    "    edges : (4,) list of 1darrays\n",
    "        A list containing the edges along each dimension.  The four dimensions \n",
    "        correspond to total mass, mass ratio, redshift, and observer-frame orbital \n",
    "        frequency. The length of each of the four arrays is M, Q, Z, F.\n",
    "    number : (M-1, Q-1, Z-1, F-1) ndarray\n",
    "        The number of binaries in each bin of parameter space.  This is calculated \n",
    "        by integrating `dnum` over each bin.\n",
    "    realize : bool or int\n",
    "        Specification of how to construct one or more discrete realizations.\n",
    "        If a `bool` value, then whether or not to construct a realization.\n",
    "        If an `int` value, then how many discrete realizations to construct.\n",
    "    round : bool\n",
    "        Specification of whether to discretize the sample if realize is False, \n",
    "        by rounding number of binaries in each bin to integers. This has no impact \n",
    "        if realize is true.\n",
    "    sum : bool\n",
    "        Whether or not to sum the strain at a given frequency over all bins.\n",
    "    print_test : bool\n",
    "        Whether or not to print variable as they are calculated, for dev purposes.\n",
    "\n",
    "\n",
    "    Returns\n",
    "    -------\n",
    "    hc : ndarray\n",
    "        Characteristic strain of the GWB.\n",
    "        The shape depends on whether realize is an integer or not\n",
    "        realize = True or False, sum = False: shape is (M-1, Q-1, Z-1, F-1)\n",
    "        realize = True or False, sum = True: shape is (F-1)\n",
    "        realize = R, sum = False: shape is  (M-1, Q-1, Z-1, F-1, R)\n",
    "        realize = R, sum = True: shape is  (F-1, R)\n",
    "\n",
    "    \"\"\"\n",
    "\n",
    "    if(print_test):\n",
    "        print('INPUTS: edges:', len(edges), # '\\n', edges, \n",
    "        '\\nINPUTS:number:', number.shape, '\\n', number,'\\n')\n",
    "\n",
    "    # Frequency bin midpoints\n",
    "    foo = edges[-1]                   #: should be observer-frame orbital-frequencies\n",
    "    df = np.diff(foo)                 #: frequency bin widths\n",
    "    fc = kale.utils.midpoints(foo)    #: use frequency-bin centers for strain (more accurate!)\n",
    "\n",
    "    # All other bin midpoints\n",
    "    mt = kale.utils.midpoints(edges[0]) #: total mass\n",
    "    mr = kale.utils.midpoints(edges[1]) #: mass ratio\n",
    "    rz = kale.utils.midpoints(edges[2]) #: redshift\n",
    "\n",
    "\n",
    "    # --- Chirp Masses ---\n",
    "    # to get chirp mass in shape (M-1, Q-1) we need \n",
    "    # mt in shape (M-1, 1) \n",
    "    # mr in shape (1, Q-1)\n",
    "    cmass = utils.chirp_mass_mtmr(mt[:,np.newaxis], mr[np.newaxis,:])\n",
    "    if(print_test):\n",
    "        print('cmass:', cmass.shape, '\\n', cmass)\n",
    "\n",
    "    # --- Comoving Distances ---\n",
    "    # to get cdist in shape (Z-1) we need\n",
    "    # rz in shape (Z-1)\n",
    "    cdist = holo.cosmo.comoving_distance(rz).cgs.value\n",
    "    if(print_test):\n",
    "        print('cdist:', cdist.shape, '\\n', cdist)\n",
    "\n",
    "    # --- Rest Frame Frequencies ---\n",
    "    # to get rest freqs in shape (Z-1, F-1) we need \n",
    "    # rz in shape (Z-1, 1) \n",
    "    # fc in shape (1, F-1)\n",
    "    rfreq = holo.utils.frst_from_fobs(fc[np.newaxis,:], rz[:,np.newaxis])\n",
    "    if(print_test):\n",
    "        print('rfreq:', rfreq.shape, '\\n', rfreq)\n",
    "\n",
    "    # --- Source Strain Amplitude ---\n",
    "    # to get hs amplitude in shape (M-1, Q-1, Z-1, F-1) we need\n",
    "    # cmass in shape (M-1, Q-1, 1, 1) from (M-1, Q-1)\n",
    "    # cdist in shape (1, 1, Z-1, 1) from (Z-1)\n",
    "    # rfreq in shape (1, 1, Z-1, F-1) from (Z-1, F-1)\n",
    "    hsamp = utils.gw_strain_source(cmass[:,:,np.newaxis,np.newaxis],\n",
    "                                   cdist[np.newaxis,np.newaxis,:,np.newaxis],\n",
    "                                   rfreq[np.newaxis,np.newaxis,:,:])\n",
    "    if(print_test):\n",
    "        print('hsamp', hsamp.shape, '\\n', hsamp)\n",
    "\n",
    "    # --- Characteristic Strain Squared ---\n",
    "    # to get characteristic strain in shape (M-1, Q-1, Z-1, F-1) we need\n",
    "    # hsamp in shape (M-1, Q-1, Z-1, F-1)\n",
    "    # fc in shape (1, 1, 1, F-1)\n",
    "    hchar = hsamp**2 * (fc[np.newaxis, np.newaxis, np.newaxis,:]\n",
    "                        /df[np.newaxis, np.newaxis, np.newaxis,:])\n",
    "\n",
    "    # Sample:\n",
    "    if(realize == False):\n",
    "        # without sampling, want strain in shape (M-1, Q-1, Z-1, F-1)\n",
    "        if(round): \n",
    "            # discretize by rounding number down to nearest integer \n",
    "            hchar *= np.floor(number).astype(int) \n",
    "        else: \n",
    "            # keep non-integer values\n",
    "            hchar *= number\n",
    "\n",
    "    if(realize == True):\n",
    "        # with a single sample, want strain in shape (M-1, Q-1, Z-1, F-1)\n",
    "        hchar *= np.random.poisson(number)\n",
    "\n",
    "    if(utils.isinteger(realize)):\n",
    "        # with R realizations, \n",
    "        # to get strain in shape (M-1, Q-1, Z-1, F-1, R) we need\n",
    "        # hchar in shape(M-1, Q-1, Z-1, F-1, 1)\n",
    "        # Poisson sample in shape (1, 1, 1, 1, R)\n",
    "        npois = np.random.poisson(number[...,np.newaxis], size = (number.shape + (realize,)))\n",
    "        if(print_test):\n",
    "            print('npois', npois.shape)\n",
    "        hchar = hchar[...,np.newaxis] * npois\n",
    "\n",
    "\n",
    "    if(print_test):\n",
    "        print('hchar', hchar.shape, '\\n', hchar)\n",
    "\n",
    "\n",
    "    if(sum):\n",
    "        # sum over all bins at a given frequency and realization\n",
    "        hchar = np.sum(hchar, axis=(0, 1, 2))\n",
    "        # NOTE I should check what big O time this is,  not sure\n",
    "        if(print_test):\n",
    "            print('hchar summed', hchar.shape, '\\n', hchar)\n",
    "\n",
    "    return np.sqrt(hchar)"
   ]
  },
  {
   "attachments": {},
   "cell_type": "markdown",
   "metadata": {},
   "source": [
    "some edits for loud_gws:\n",
    "* no longer makes sense to have a sum=False option\n"
   ]
  },
  {
   "attachments": {},
   "cell_type": "markdown",
   "metadata": {},
   "source": [
    "##### ss ndars"
   ]
  },
  {
   "cell_type": "code",
   "execution_count": 291,
   "metadata": {},
   "outputs": [],
   "source": [
    "def ss_gws_by_ndars(edges, number, realize, round = False, sum = True, \n",
    "                    loud = True, print_test = False):\n",
    "       \n",
    "    \"\"\" More efficient way to calculate strain from numbered \n",
    "    grid integrated\n",
    "\n",
    "    Parameters\n",
    "    ----------\n",
    "    edges : (4,) list of 1darrays\n",
    "        A list containing the edges along each dimension.  The four dimensions \n",
    "        correspond to total mass, mass ratio, redshift, and observer-frame orbital \n",
    "        frequency. The length of each of the four arrays is M, Q, Z, F.\n",
    "    number : (M-1, Q-1, Z-1, F-1) ndarray\n",
    "        The number of binaries in each bin of parameter space.  This is calculated \n",
    "        by integrating `dnum` over each bin.\n",
    "    realize : bool or int\n",
    "        Specification of how to construct one or more discrete realizations.\n",
    "        If a `bool` value, then whether or not to construct a realization.\n",
    "        If an `int` value, then how many discrete realizations to construct.\n",
    "    round : bool\n",
    "        Specification of whether to discretize the sample if realize is False, \n",
    "        by rounding number of binaries in each bin to integers. This has no impact \n",
    "        if realize is true.\n",
    "    sum : bool\n",
    "        Whether or not to sum the strain at a given frequency over all bins.\n",
    "    loud : bool \n",
    "        Whether or not to separate the loudest single source in each frequency bin.\n",
    "        NOTE: would be good to update this to allow for multiple foreground sources.\n",
    "    print_test : bool\n",
    "        Whether or not to print variable as they are calculated, for dev purposes.\n",
    "\n",
    "\n",
    "    Returns\n",
    "    -------\n",
    "    hchar : ndarray\n",
    "        Characteristic strain of the GWB.\n",
    "        The shape depends on whether realize is an integer or not\n",
    "        realize = True or False, sum = False: shape is (M-1, Q-1, Z-1, F-1)\n",
    "        realize = True or False, sum = True: shape is (F-1)\n",
    "        realize = R, sum = False: shape is  (M-1, Q-1, Z-1, F-1, R)\n",
    "        realize = R, sum = True: shape is  (F-1, R)\n",
    "    louds : (3,F-1) ndarray or None\n",
    "        Parameters of the loudest single source in each frequency bin.\n",
    "        None if loud = False\n",
    "\n",
    "    \"\"\"\n",
    "\n",
    "    if(print_test):\n",
    "        print('INPUTS: edges:', len(edges), # '\\n', edges, \n",
    "        '\\nINPUTS:number:', number.shape, '\\n', number,'\\n')\n",
    "\n",
    "    # Frequency bin midpoints\n",
    "    foo = edges[-1]                   #: should be observer-frame orbital-frequencies\n",
    "    df = np.diff(foo)                 #: frequency bin widths\n",
    "    fc = kale.utils.midpoints(foo)    #: use frequency-bin centers for strain (more accurate!)\n",
    "\n",
    "    # All other bin midpoints\n",
    "    mt = kale.utils.midpoints(edges[0]) #: total mass\n",
    "    mr = kale.utils.midpoints(edges[1]) #: mass ratio\n",
    "    rz = kale.utils.midpoints(edges[2]) #: redshift\n",
    "\n",
    "\n",
    "    # --- Chirp Masses ---\n",
    "    # to get chirp mass in shape (M-1, Q-1) we need \n",
    "    # mt in shape (M-1, 1) \n",
    "    # mr in shape (1, Q-1)\n",
    "    cmass = utils.chirp_mass_mtmr(mt[:,np.newaxis], mr[np.newaxis,:])\n",
    "    if(print_test):\n",
    "        print('cmass:', cmass.shape, '\\n', cmass)\n",
    "\n",
    "    # --- Comoving Distances ---\n",
    "    # to get cdist in shape (Z-1) we need\n",
    "    # rz in shape (Z-1)\n",
    "    cdist = holo.cosmo.comoving_distance(rz).cgs.value\n",
    "    if(print_test):\n",
    "        print('cdist:', cdist.shape, '\\n', cdist)\n",
    "\n",
    "    # --- Rest Frame Frequencies ---\n",
    "    # to get rest freqs in shape (Z-1, F-1) we need \n",
    "    # rz in shape (Z-1, 1) \n",
    "    # fc in shape (1, F-1)\n",
    "    rfreq = holo.utils.frst_from_fobs(fc[np.newaxis,:], rz[:,np.newaxis])\n",
    "    if(print_test):\n",
    "        print('rfreq:', rfreq.shape, '\\n', rfreq)\n",
    "\n",
    "    # --- Source Strain Amplitude ---\n",
    "    # to get hs amplitude in shape (M-1, Q-1, Z-1, F-1) we need\n",
    "    # cmass in shape (M-1, Q-1, 1, 1) from (M-1, Q-1)\n",
    "    # cdist in shape (1, 1, Z-1, 1) from (Z-1)\n",
    "    # rfreq in shape (1, 1, Z-1, F-1) from (Z-1, F-1)\n",
    "    hsamp = utils.gw_strain_source(cmass[:,:,np.newaxis,np.newaxis],\n",
    "                                   cdist[np.newaxis,np.newaxis,:,np.newaxis],\n",
    "                                   rfreq[np.newaxis,np.newaxis,:,:])\n",
    "    if(print_test):\n",
    "        print('hsamp', hsamp.shape, '\\n', hsamp)\n",
    "\n",
    "    if(loud == True):\n",
    "        louds = np.empty((3,len(fc)))\n",
    "\n",
    "    # --- Characteristic Strain Squared ---\n",
    "    # to get characteristic strain in shape (M-1, Q-1, Z-1, F-1) we need\n",
    "    # hsamp in shape (M-1, Q-1, Z-1, F-1)\n",
    "    # fc in shape (1, 1, 1, F-1)\n",
    "    hchar = hsamp**2 * (fc[np.newaxis, np.newaxis, np.newaxis,:]\n",
    "                        /df[np.newaxis, np.newaxis, np.newaxis,:])\n",
    "\n",
    "    # Sample:\n",
    "    if(realize == False):\n",
    "        # without sampling, want strain in shape (M-1, Q-1, Z-1, F-1)\n",
    "        if(round): \n",
    "            # discretize by rounding number down to nearest integer \n",
    "            hchar *= np.floor(number).astype(int) \n",
    "        else: \n",
    "            # keep non-integer values\n",
    "            hchar *= number\n",
    "\n",
    "    if(realize == True):\n",
    "        # with a single sample, want strain in shape (M-1, Q-1, Z-1, F-1)\n",
    "        hchar *= np.random.poisson(number)\n",
    "\n",
    "    if(utils.isinteger(realize)):\n",
    "        # with R realizations, \n",
    "        # to get strain in shape (M-1, Q-1, Z-1, F-1, R) we need\n",
    "        # hchar in shape(M-1, Q-1, Z-1, F-1, 1)\n",
    "        # Poisson sample in shape (1, 1, 1, 1, R)\n",
    "        npois = np.random.poisson(number[...,np.newaxis], size = (number.shape + (realize,)))\n",
    "        if(print_test):\n",
    "            print('npois', npois.shape)\n",
    "        hchar = hchar[...,np.newaxis] * npois\n",
    "\n",
    "\n",
    "    if(print_test):\n",
    "        print('hchar', hchar.shape, '\\n', hchar)\n",
    "\n",
    "\n",
    "    if(sum):\n",
    "        # sum over all bins at a given frequency and realization\n",
    "        hchar = np.sum(hchar, axis=(0, 1, 2))\n",
    "        # NOTE I should check what big O time this is,  not sure\n",
    "        if(print_test):\n",
    "            print('hchar summed', hchar.shape, '\\n', hchar)\n",
    "\n",
    "    return np.sqrt(hchar)"
   ]
  },
  {
   "attachments": {},
   "cell_type": "markdown",
   "metadata": {},
   "source": [
    "# 2 Super Simple Example "
   ]
  },
  {
   "cell_type": "code",
   "execution_count": 319,
   "metadata": {},
   "outputs": [],
   "source": [
    "exname = 'Example 2'"
   ]
  },
  {
   "attachments": {},
   "cell_type": "markdown",
   "metadata": {},
   "source": [
    "### Choose the frequency bins at which to calculate the GWB\n",
    "same as in semi-analytic-models.ipynb"
   ]
  },
  {
   "cell_type": "code",
   "execution_count": 320,
   "metadata": {},
   "outputs": [
    {
     "name": "stdout",
     "output_type": "stream",
     "text": [
      "Number of frequency bins: 4\n",
      "  between [0.63, 3.16] 1/yr\n",
      "          [20.00, 100.00] nHz\n"
     ]
    }
   ],
   "source": [
    "dur = 5.0*YR/3.1557600\n",
    "cad = .5*YR/3.1557600\n",
    "fobs = utils.nyquist_freqs(dur,cad)\n",
    "fobs_edges = utils.nyquist_freqs_edges(dur,cad)\n",
    "print(f\"Number of frequency bins: {fobs.size-1}\")\n",
    "print(f\"  between [{fobs[0]*YR:.2f}, {fobs[-1]*YR:.2f}] 1/yr\")\n",
    "print(f\"          [{fobs[0]*1e9:.2f}, {fobs[-1]*1e9:.2f}] nHz\")"
   ]
  },
  {
   "cell_type": "markdown",
   "metadata": {},
   "source": [
    "### Build Semi-Analytic-Model with super simple parameters "
   ]
  },
  {
   "cell_type": "code",
   "execution_count": 321,
   "metadata": {},
   "outputs": [
    {
     "name": "stdout",
     "output_type": "stream",
     "text": [
      "edges: [array([1.e+39, 1.e+40, 1.e+41]), array([0.1, 1. ]), array([0.  , 0.01, 0.1 , 1.  ])]\n"
     ]
    }
   ],
   "source": [
    "exname = 'Example 2'\n",
    "\n",
    "mtot=(1.0e6*MSOL/1.988409870698051, 1.0e8*MSOL/1.988409870698051, 3)\n",
    "mrat=(1e-1, 1.0, 2)\n",
    "redz=(1e-3, 1.0, 4)\n",
    "sam = holo.sam.Semi_Analytic_Model(mtot, mrat, redz)\n",
    "print('edges:', sam.edges)"
   ]
  },
  {
   "cell_type": "markdown",
   "metadata": {},
   "source": [
    "### Get SAM edges and numbers as in sam.gwb()"
   ]
  },
  {
   "cell_type": "code",
   "execution_count": 322,
   "metadata": {},
   "outputs": [],
   "source": [
    "# get observed orbital frequency bin edges and centers \n",
    "# from observed GW frequency bin edges\n",
    "# f_orb = f_GW/2\n",
    "fobs_orb_edges = fobs_edges / 2.0\n",
    "fobs_orb_cents = kale.utils.midpoints(fobs_edges) / 2.0\n",
    "\n",
    "# dynamic_binary_number\n",
    "# gets differential number of binaries per bin-vol per log freq interval\n",
    "edges, dnum = sam.dynamic_binary_number(holo.hardening.Hard_GW, fobs_orb=fobs_orb_cents)\n",
    "edges[-1] = fobs_orb_edges\n",
    "\n",
    "# integrate (multiply by bin volume) within each bin\n",
    "number = utils._integrate_grid_differential_number(edges, dnum, freq=False)\n",
    "number = number * np.diff(np.log(fobs_edges))"
   ]
  },
  {
   "attachments": {},
   "cell_type": "markdown",
   "metadata": {},
   "source": [
    "### Calculate strains"
   ]
  },
  {
   "cell_type": "code",
   "execution_count": 327,
   "metadata": {},
   "outputs": [
    {
     "name": "stdout",
     "output_type": "stream",
     "text": [
      "INPUTS: edges: 4 \n",
      " [array([1.e+39, 1.e+40, 1.e+41]), array([0.1, 1. ]), array([0.  , 0.01, 0.1 , 1.  ]), array([5.0e-09, 1.5e-08, 2.5e-08, 3.5e-08, 4.5e-08, 6.0e-08])] \n",
      "INPUTS:number: (2, 1, 3, 5) \n",
      " [[[[0.00e+00 0.00e+00 0.00e+00 0.00e+00 0.00e+00]\n",
      "   [8.83e+06 6.46e+05 1.44e+05 5.01e+04 2.78e+04]\n",
      "   [1.09e+09 8.01e+07 1.79e+07 6.21e+06 3.44e+06]]]\n",
      "\n",
      "\n",
      " [[[0.00e+00 0.00e+00 0.00e+00 0.00e+00 0.00e+00]\n",
      "   [1.10e+05 8.05e+03 1.80e+03 6.24e+02 3.46e+02]\n",
      "   [1.29e+07 9.45e+05 2.11e+05 7.32e+04 4.06e+04]]]] \n",
      "\n",
      "[[4.04e-306 5.40e-315 5.93e-305]\n",
      " [1.37e-308 3.96e-316 2.00e-308]\n",
      " [3.06e-309 8.84e-317 4.48e-309]\n",
      " [1.06e-309 3.07e-317 1.55e-309]\n",
      " [5.89e-310 1.70e-317 8.61e-310]]\n",
      "BIN mt=5.50e+39, mr=5.50e-01, rz=5.50e-03\n",
      "\t m_c = 2.27e+39, d_c = 7.33e+25\n",
      "\tfr = 10.06nHz, h_s = 2.92e-19\n",
      "\t\tnumber: 0.00e+00\n",
      "\t\thsmax = 0.00e+00, max indices = (0,0,0)\n",
      "\tfr = 20.11nHz, h_s = 4.64e-19\n",
      "\t\tnumber: 0.00e+00\n",
      "\t\thsmax = 0.00e+00, max indices = (0,0,0)\n",
      "\tfr = 30.17nHz, h_s = 6.07e-19\n",
      "\t\tnumber: 0.00e+00\n",
      "\t\thsmax = 0.00e+00, max indices = (0,0,0)\n",
      "\tfr = 40.22nHz, h_s = 7.36e-19\n",
      "\t\tnumber: 0.00e+00\n",
      "\t\thsmax = 0.00e+00, max indices = (0,0,0)\n",
      "\tfr = 52.79nHz, h_s = 8.82e-19\n",
      "\t\tnumber: 0.00e+00\n",
      "\t\thsmax = 0.00e+00, max indices = (0,0,0)\n",
      "BIN mt=5.50e+39, mr=5.50e-01, rz=5.50e-02\n",
      "\t m_c = 2.27e+39, d_c = 7.25e+26\n",
      "\tfr = 10.55nHz, h_s = 3.05e-20\n",
      "\t\tnumber: 8.83e+06\n",
      "\t\thsmax = 3.05e-20, max indices = (0,0,1)\n",
      "\tfr = 21.10nHz, h_s = 4.84e-20\n",
      "\t\tnumber: 6.46e+05\n",
      "\t\thsmax = 4.84e-20, max indices = (0,0,1)\n",
      "\tfr = 31.65nHz, h_s = 6.34e-20\n",
      "\t\tnumber: 1.44e+05\n",
      "\t\thsmax = 6.34e-20, max indices = (0,0,1)\n",
      "\tfr = 42.20nHz, h_s = 7.68e-20\n",
      "\t\tnumber: 5.01e+04\n",
      "\t\thsmax = 7.68e-20, max indices = (0,0,1)\n",
      "\tfr = 55.39nHz, h_s = 9.21e-20\n",
      "\t\tnumber: 2.78e+04\n",
      "\t\thsmax = 9.21e-20, max indices = (0,0,1)\n",
      "BIN mt=5.50e+39, mr=5.50e-01, rz=5.50e-01\n",
      "\t m_c = 2.27e+39, d_c = 6.42e+27\n",
      "\tfr = 15.50nHz, h_s = 4.45e-21\n",
      "\t\tnumber: 1.09e+09\n",
      "\t\thsmax = 3.05e-20, max indices = (0,0,1)\n",
      "\tfr = 31.00nHz, h_s = 7.07e-21\n",
      "\t\tnumber: 8.01e+07\n",
      "\t\thsmax = 4.84e-20, max indices = (0,0,1)\n",
      "\tfr = 46.50nHz, h_s = 9.26e-21\n",
      "\t\tnumber: 1.79e+07\n",
      "\t\thsmax = 6.34e-20, max indices = (0,0,1)\n",
      "\tfr = 62.00nHz, h_s = 1.12e-20\n",
      "\t\tnumber: 6.21e+06\n",
      "\t\thsmax = 7.68e-20, max indices = (0,0,1)\n",
      "\tfr = 81.38nHz, h_s = 1.34e-20\n",
      "\t\tnumber: 3.44e+06\n",
      "\t\thsmax = 9.21e-20, max indices = (0,0,1)\n",
      "BIN mt=5.50e+40, mr=5.50e-01, rz=5.50e-03\n",
      "\t m_c = 2.27e+40, d_c = 7.33e+25\n",
      "\tfr = 10.06nHz, h_s = 1.36e-17\n",
      "\t\tnumber: 0.00e+00\n",
      "\t\thsmax = 3.05e-20, max indices = (0,0,1)\n",
      "\tfr = 20.11nHz, h_s = 2.15e-17\n",
      "\t\tnumber: 0.00e+00\n",
      "\t\thsmax = 4.84e-20, max indices = (0,0,1)\n",
      "\tfr = 30.17nHz, h_s = 2.82e-17\n",
      "\t\tnumber: 0.00e+00\n",
      "\t\thsmax = 6.34e-20, max indices = (0,0,1)\n",
      "\tfr = 40.22nHz, h_s = 3.42e-17\n",
      "\t\tnumber: 0.00e+00\n",
      "\t\thsmax = 7.68e-20, max indices = (0,0,1)\n",
      "\tfr = 52.79nHz, h_s = 4.09e-17\n",
      "\t\tnumber: 0.00e+00\n",
      "\t\thsmax = 9.21e-20, max indices = (0,0,1)\n",
      "BIN mt=5.50e+40, mr=5.50e-01, rz=5.50e-02\n",
      "\t m_c = 2.27e+40, d_c = 7.25e+26\n",
      "\tfr = 10.55nHz, h_s = 1.41e-18\n",
      "\t\tnumber: 1.10e+05\n",
      "\t\thsmax = 1.41e-18, max indices = (1,0,1)\n",
      "\tfr = 21.10nHz, h_s = 2.25e-18\n",
      "\t\tnumber: 8.05e+03\n",
      "\t\thsmax = 2.25e-18, max indices = (1,0,1)\n",
      "\tfr = 31.65nHz, h_s = 2.94e-18\n",
      "\t\tnumber: 1.80e+03\n",
      "\t\thsmax = 2.94e-18, max indices = (1,0,1)\n",
      "\tfr = 42.20nHz, h_s = 3.57e-18\n",
      "\t\tnumber: 6.24e+02\n",
      "\t\thsmax = 3.57e-18, max indices = (1,0,1)\n",
      "\tfr = 55.39nHz, h_s = 4.27e-18\n",
      "\t\tnumber: 3.46e+02\n",
      "\t\thsmax = 4.27e-18, max indices = (1,0,1)\n",
      "BIN mt=5.50e+40, mr=5.50e-01, rz=5.50e-01\n",
      "\t m_c = 2.27e+40, d_c = 6.42e+27\n",
      "\tfr = 15.50nHz, h_s = 2.07e-19\n",
      "\t\tnumber: 1.29e+07\n",
      "\t\thsmax = 1.41e-18, max indices = (1,0,1)\n",
      "\tfr = 31.00nHz, h_s = 3.28e-19\n",
      "\t\tnumber: 9.45e+05\n",
      "\t\thsmax = 2.25e-18, max indices = (1,0,1)\n",
      "\tfr = 46.50nHz, h_s = 4.30e-19\n",
      "\t\tnumber: 2.11e+05\n",
      "\t\thsmax = 2.94e-18, max indices = (1,0,1)\n",
      "\tfr = 62.00nHz, h_s = 5.21e-19\n",
      "\t\tnumber: 7.32e+04\n",
      "\t\thsmax = 3.57e-18, max indices = (1,0,1)\n",
      "\tfr = 81.38nHz, h_s = 6.24e-19\n",
      "\t\tnumber: 4.06e+04\n",
      "\t\thsmax = 4.27e-18, max indices = (1,0,1)\n",
      "\n",
      "At 0.00 nHz, loudest source in bin: [1. 0. 1.]\n",
      "[[[0. 0. 0.]]\n",
      "\n",
      " [[0. 1. 0.]]]\n",
      "False\n",
      "\n",
      "At 0.00 nHz, loudest source in bin: [1. 0. 1.]\n",
      "[[[0. 0. 0.]]\n",
      "\n",
      " [[0. 1. 0.]]]\n",
      "False\n",
      "\n",
      "At 0.00 nHz, loudest source in bin: [1. 0. 1.]\n",
      "[[[0. 0. 0.]]\n",
      "\n",
      " [[0. 1. 0.]]]\n",
      "False\n",
      "\n",
      "At 0.00 nHz, loudest source in bin: [1. 0. 1.]\n",
      "[[[0. 0. 0.]]\n",
      "\n",
      " [[0. 1. 0.]]]\n",
      "False\n",
      "\n",
      "At 0.00 nHz, loudest source in bin: [1. 0. 1.]\n",
      "[[[0. 0. 0.]]\n",
      "\n",
      " [[0. 1. 0.]]]\n",
      "False\n",
      "\tfr = 10.06nHz, h_s = 2.92e-19, h_c^2/dlnf = 8.53e-38\n",
      "\t\tnumber: 0.00e+00\n",
      "\t\thc = 0.00e+00\n",
      "\t\t loudest = False\n",
      "\tfr = 20.11nHz, h_s = 4.64e-19, h_c^2/dlnf = 4.30e-37\n",
      "\t\tnumber: 0.00e+00\n",
      "\t\thc = 0.00e+00\n",
      "\t\t loudest = False\n",
      "\tfr = 30.17nHz, h_s = 6.07e-19, h_c^2/dlnf = 1.11e-36\n",
      "\t\tnumber: 0.00e+00\n",
      "\t\thc = 0.00e+00\n",
      "\t\t loudest = False\n",
      "\tfr = 40.22nHz, h_s = 7.36e-19, h_c^2/dlnf = 2.17e-36\n",
      "\t\tnumber: 0.00e+00\n",
      "\t\thc = 0.00e+00\n",
      "\t\t loudest = False\n",
      "\tfr = 52.79nHz, h_s = 8.82e-19, h_c^2/dlnf = 2.72e-36\n",
      "\t\tnumber: 0.00e+00\n",
      "\t\thc = 0.00e+00\n",
      "\t\t loudest = False\n",
      "\tfr = 10.55nHz, h_s = 3.05e-20, h_c^2/dlnf = 9.29e-40\n",
      "\t\tnumber: 8.83e+06\n",
      "\t\thc = 9.06e-17\n",
      "\t\t loudest = False\n",
      "\tfr = 21.10nHz, h_s = 4.84e-20, h_c^2/dlnf = 4.68e-39\n",
      "\t\tnumber: 6.46e+05\n",
      "\t\thc = 5.50e-17\n",
      "\t\t loudest = False\n",
      "\tfr = 31.65nHz, h_s = 6.34e-20, h_c^2/dlnf = 1.21e-38\n",
      "\t\tnumber: 1.44e+05\n",
      "\t\thc = 4.17e-17\n",
      "\t\t loudest = False\n",
      "\tfr = 42.20nHz, h_s = 7.68e-20, h_c^2/dlnf = 2.36e-38\n",
      "\t\tnumber: 5.01e+04\n",
      "\t\thc = 3.44e-17\n",
      "\t\t loudest = False\n",
      "\tfr = 55.39nHz, h_s = 9.21e-20, h_c^2/dlnf = 2.97e-38\n",
      "\t\tnumber: 2.78e+04\n",
      "\t\thc = 2.87e-17\n",
      "\t\t loudest = False\n",
      "\tfr = 15.50nHz, h_s = 4.45e-21, h_c^2/dlnf = 1.98e-41\n",
      "\t\tnumber: 1.09e+09\n",
      "\t\thc = 1.47e-16\n",
      "\t\t loudest = False\n",
      "\tfr = 31.00nHz, h_s = 7.07e-21, h_c^2/dlnf = 9.99e-41\n",
      "\t\tnumber: 8.01e+07\n",
      "\t\thc = 8.95e-17\n",
      "\t\t loudest = False\n",
      "\tfr = 46.50nHz, h_s = 9.26e-21, h_c^2/dlnf = 2.57e-40\n",
      "\t\tnumber: 1.79e+07\n",
      "\t\thc = 6.79e-17\n",
      "\t\t loudest = False\n",
      "\tfr = 62.00nHz, h_s = 1.12e-20, h_c^2/dlnf = 5.03e-40\n",
      "\t\tnumber: 6.21e+06\n",
      "\t\thc = 5.59e-17\n",
      "\t\t loudest = False\n",
      "\tfr = 81.38nHz, h_s = 1.34e-20, h_c^2/dlnf = 6.33e-40\n",
      "\t\tnumber: 3.44e+06\n",
      "\t\thc = 4.67e-17\n",
      "\t\t loudest = False\n",
      "\tfr = 10.06nHz, h_s = 1.36e-17, h_c^2/dlnf = 1.84e-34\n",
      "\t\tnumber: 0.00e+00\n",
      "\t\thc = 0.00e+00\n",
      "\t\t loudest = False\n",
      "\tfr = 20.11nHz, h_s = 2.15e-17, h_c^2/dlnf = 9.26e-34\n",
      "\t\tnumber: 0.00e+00\n",
      "\t\thc = 0.00e+00\n",
      "\t\t loudest = False\n",
      "\tfr = 30.17nHz, h_s = 2.82e-17, h_c^2/dlnf = 2.38e-33\n",
      "\t\tnumber: 0.00e+00\n",
      "\t\thc = 0.00e+00\n",
      "\t\t loudest = False\n",
      "\tfr = 40.22nHz, h_s = 3.42e-17, h_c^2/dlnf = 4.67e-33\n",
      "\t\tnumber: 0.00e+00\n",
      "\t\thc = 0.00e+00\n",
      "\t\t loudest = False\n",
      "\tfr = 52.79nHz, h_s = 4.09e-17, h_c^2/dlnf = 5.87e-33\n",
      "\t\tnumber: 0.00e+00\n",
      "\t\thc = 0.00e+00\n",
      "\t\t loudest = False\n",
      "\tfr = 10.55nHz, h_s = 1.41e-18, h_c^2/dlnf = 2.00e-36\n",
      "\t\tnumber: 1.10e+05\n",
      "\t\thc = 4.69e-16\n",
      "\t\t loudest = True\n",
      "\tfr = 21.10nHz, h_s = 2.25e-18, h_c^2/dlnf = 1.01e-35\n",
      "\t\tnumber: 8.05e+03\n",
      "\t\thc = 2.85e-16\n",
      "\t\t loudest = True\n",
      "\tfr = 31.65nHz, h_s = 2.94e-18, h_c^2/dlnf = 2.60e-35\n",
      "\t\tnumber: 1.80e+03\n",
      "\t\thc = 2.16e-16\n",
      "\t\t loudest = True\n",
      "\tfr = 42.20nHz, h_s = 3.57e-18, h_c^2/dlnf = 5.08e-35\n",
      "\t\tnumber: 6.23e+02\n",
      "\t\thc = 1.78e-16\n",
      "\t\t loudest = True\n",
      "\tfr = 55.39nHz, h_s = 4.27e-18, h_c^2/dlnf = 6.39e-35\n",
      "\t\tnumber: 3.45e+02\n",
      "\t\thc = 1.48e-16\n",
      "\t\t loudest = True\n",
      "\tfr = 15.50nHz, h_s = 2.07e-19, h_c^2/dlnf = 4.27e-38\n",
      "\t\tnumber: 1.29e+07\n",
      "\t\thc = 7.42e-16\n",
      "\t\t loudest = False\n",
      "\tfr = 31.00nHz, h_s = 3.28e-19, h_c^2/dlnf = 2.15e-37\n",
      "\t\tnumber: 9.45e+05\n",
      "\t\thc = 4.51e-16\n",
      "\t\t loudest = False\n",
      "\tfr = 46.50nHz, h_s = 4.30e-19, h_c^2/dlnf = 5.54e-37\n",
      "\t\tnumber: 2.11e+05\n",
      "\t\thc = 3.42e-16\n",
      "\t\t loudest = False\n",
      "\tfr = 62.00nHz, h_s = 5.21e-19, h_c^2/dlnf = 1.08e-36\n",
      "\t\tnumber: 7.32e+04\n",
      "\t\thc = 2.82e-16\n",
      "\t\t loudest = False\n",
      "\tfr = 81.38nHz, h_s = 6.24e-19, h_c^2/dlnf = 1.36e-36\n",
      "\t\tnumber: 4.06e+04\n",
      "\t\thc = 2.35e-16\n",
      "\t\t loudest = False\n"
     ]
    }
   ],
   "source": [
    "# 1. Get GW Total Strain using gws_by_ndars()\n",
    "hc_tt = gws_by_ndars(edges, number, realize=False, round = True, sum=True)   \n",
    " \n",
    "# Get bg (background) and ss (single source) strains by ss_gws_by_loops_ugly\n",
    "hc_bg_ugly, hc_ss_ugly, sspar_ugy, ssidx_ugly, maxhs_ugly = ss_gws_by_loops_ugly(edges, number, realize=False, round=True, ss=True, print_test=True, sum=True)\n",
    "\n",
    "# cleaan\n",
    "hc_bg, hc_ss, sspar, ssidx, maxhs, number_bg  = ss_gws_by_loops(edges, number, realize=False, round=True, sum=True, ss=True)"
   ]
  },
  {
   "attachments": {},
   "cell_type": "markdown",
   "metadata": {},
   "source": [
    "## 2.3 Test Plots"
   ]
  },
  {
   "cell_type": "markdown",
   "metadata": {},
   "source": [
    "### BG, SS, and TT Strain"
   ]
  },
  {
   "cell_type": "code",
   "execution_count": 328,
   "metadata": {},
   "outputs": [
    {
     "name": "stdout",
     "output_type": "stream",
     "text": [
      "5\n"
     ]
    },
    {
     "data": {
      "image/png": "[encoded data removed]",
      "text/plain": [
       "<Figure size 1000x450 with 1 Axes>"
      ]
     },
     "metadata": {},
     "output_type": "display_data"
    }
   ],
   "source": [
    "# quick plot\n",
    "fig, ax = plot.figax(xlabel='Frequency $f_\\mathrm{obs}$ [1/yr]', \n",
    "                    ylabel='Characteristic Strain $h_c$', figsize=[10,4.5])\n",
    "ax.set_title(exname)\n",
    "xx = fobs * YR\n",
    "print(len(hc_bg_ugly))\n",
    "\n",
    "# plot a reference, pure power-law  strain spectrum:   h_c(f) = 1e-15 * (f * yr) ^ -2/3\n",
    "yy = 1e-15 * np.power(xx, -2.0/3.0)\n",
    "ax.plot(xx, yy, 'k--', alpha=0.25, lw=2.0, label = 'pure power law')\n",
    "\n",
    "# total char strain (no sources subtracted)\n",
    "ax.plot(xx, hc_tt, color='black', marker = 'x', lw=3, ls = 'dotted', alpha=1, label='total, by loops')\n",
    "\n",
    "# gwb\n",
    "ax.plot(xx, hc_bg_ugly, color='lightblue', marker = 'o', lw=3, ms=12,\n",
    "        ls = 'dotted', alpha=.5, label='background, ugly loops')\n",
    "# loudest source per bin\n",
    "ax.scatter(xx, hc_ss_ugly, color='lightblue', marker = 'o', s=100,\n",
    "           edgecolor='k', alpha=.5, label='single source, ugly loops')\n",
    "\n",
    "\n",
    "# gwb\n",
    "ax.plot(xx, hc_bg, color='b', marker = 'o', lw=3, ls = 'dotted', alpha=.5, label='background, pretty loops')\n",
    "# loudest source per bin\n",
    "ax.scatter(xx, hc_ss, color='b', marker = 'o', edgecolor='k', alpha=.5, label='single source, pretty loops')\n",
    "\n",
    "\n",
    "# ax.plot(xx, hc_bg+hc_ss, color='r', label='bg + ss', alpha=.5)\n",
    "ax.plot(xx, np.sqrt(hc_bg**2+hc_ss**2), color='r', label=r'$sqrt (bg^2 + ss^2)$', alpha=.5)\n",
    "\n",
    "legend_gwb = ax.legend(bbox_to_anchor=(.1,.15), bbox_transform=fig.transFigure, loc='lower left')\n",
    "\n",
    "\n",
    "# ax.set_ylim(1e-16, 3e-15)\n",
    "fig.tight_layout()"
   ]
  },
  {
   "cell_type": "markdown",
   "metadata": {},
   "source": [
    "##### number - number_bg check"
   ]
  },
  {
   "cell_type": "code",
   "execution_count": 298,
   "metadata": {},
   "outputs": [
    {
     "name": "stdout",
     "output_type": "stream",
     "text": [
      "(2, 1, 3)\n",
      "(2, 1, 3)\n"
     ]
    },
    {
     "data": {
      "image/png": "[encoded data removed]",
      "text/plain": [
       "<Figure size 1000x300 with 5 Axes>"
      ]
     },
     "metadata": {},
     "output_type": "display_data"
    }
   ],
   "source": [
    "# plot number vs anything at 1 frequency \n",
    "freqs_in_nHz = fobs*10**9\n",
    "# plot number - single sources vs anything at 1 frequency,\n",
    "# should only vary in one cell\n",
    "fig, ax = plt.subplots(1,len(fobs), figsize = (10,3), sharey=True)\n",
    "fig.suptitle('number - number_bg for each bin, '+ exname)\n",
    "ax[0].set_ylabel('number - number_bg')\n",
    "bins = np.arange(0, number[...,0].size, 1)\n",
    "bins = np.reshape(bins, number[...,0].shape)\n",
    "print(bins.shape)\n",
    "print(number[...,0].shape)\n",
    "for f in range(len(fobs)):\n",
    "    ax[f].scatter(bins, (number[...,f] - number_bg[...,f]))\n",
    "    ax[f].set_title('$f_\\mathrm{obs}$ = %dnHz' % freqs_in_nHz[f])\n",
    "    ax[f].set_xlabel('bin')\n",
    "fig.tight_layout()\n"
   ]
  },
  {
   "attachments": {},
   "cell_type": "markdown",
   "metadata": {},
   "source": [
    "# 3 Slightly More Complex Example\n",
    "Let's see what windows can handle. Limiting factor seems to be the total mass upper limit."
   ]
  },
  {
   "cell_type": "code",
   "execution_count": 299,
   "metadata": {},
   "outputs": [],
   "source": [
    "exname = 'Example 3'"
   ]
  },
  {
   "attachments": {},
   "cell_type": "markdown",
   "metadata": {},
   "source": [
    "## 3.1 Calculate Strains\n",
    "### Choose the frequency bins at which to calculate the GWB\n",
    "same as in semi-analytic-models.ipynb"
   ]
  },
  {
   "cell_type": "code",
   "execution_count": 300,
   "metadata": {},
   "outputs": [
    {
     "name": "stdout",
     "output_type": "stream",
     "text": [
      "Number of frequency bins: 4\n",
      "  between [0.63, 3.16] 1/yr\n",
      "          [20.00, 100.00] nHz\n"
     ]
    }
   ],
   "source": [
    "dur = 5.0*YR/3.1557600\n",
    "cad = .5*YR/3.1557600\n",
    "fobs = utils.nyquist_freqs(dur,cad)\n",
    "fobs_edges = utils.nyquist_freqs_edges(dur,cad)\n",
    "print(f\"Number of frequency bins: {fobs.size-1}\")\n",
    "print(f\"  between [{fobs[0]*YR:.2f}, {fobs[-1]*YR:.2f}] 1/yr\")\n",
    "print(f\"          [{fobs[0]*1e9:.2f}, {fobs[-1]*1e9:.2f}] nHz\")"
   ]
  },
  {
   "cell_type": "markdown",
   "metadata": {},
   "source": [
    "### Build Semi-Analytic-Model with super simple parameters "
   ]
  },
  {
   "cell_type": "code",
   "execution_count": 301,
   "metadata": {},
   "outputs": [
    {
     "name": "stdout",
     "output_type": "stream",
     "text": [
      "edges: [array([1.00e+39, 1.45e+39, 2.11e+39, 3.07e+39, 4.47e+39, 6.50e+39,\n",
      "       9.44e+39, 1.37e+40, 2.00e+40, 2.90e+40, 4.22e+40, 6.13e+40,\n",
      "       8.92e+40, 1.30e+41, 1.89e+41, 2.74e+41, 3.98e+41, 5.79e+41,\n",
      "       8.42e+41, 1.22e+42, 1.78e+42, 2.59e+42, 3.76e+42, 5.47e+42,\n",
      "       7.95e+42]), array([0.1 , 0.11, 0.12, 0.13, 0.15, 0.16, 0.18, 0.2 , 0.22, 0.24, 0.26,\n",
      "       0.29, 0.32, 0.35, 0.38, 0.42, 0.46, 0.51, 0.56, 0.62, 0.68, 0.75,\n",
      "       0.83, 0.91, 1.  ]), array([1.00e-03, 1.47e-03, 2.15e-03, 3.16e-03, 4.64e-03, 6.81e-03,\n",
      "       1.00e-02, 1.47e-02, 2.15e-02, 3.16e-02, 4.64e-02, 6.81e-02,\n",
      "       1.00e-01, 1.47e-01, 2.15e-01, 3.16e-01, 4.64e-01, 6.81e-01,\n",
      "       1.00e+00, 1.47e+00, 2.15e+00, 3.16e+00, 4.64e+00, 6.81e+00,\n",
      "       1.00e+01])]\n"
     ]
    }
   ],
   "source": [
    "mtot=(1.0e6*MSOL/1.988409870698051, 4.0e9*MSOL, 25)\n",
    "mrat=(1e-1, 1.0, 25)\n",
    "redz=(1e-3, 10.0, 25)\n",
    "sam = holo.sam.Semi_Analytic_Model(mtot, mrat, redz)\n",
    "print('edges:', sam.edges)"
   ]
  },
  {
   "cell_type": "markdown",
   "metadata": {},
   "source": [
    "### Get SAM edges and numbers as in sam.gwb()"
   ]
  },
  {
   "cell_type": "code",
   "execution_count": 302,
   "metadata": {},
   "outputs": [],
   "source": [
    "# get observed orbital frequency bin edges and centers \n",
    "# from observed GW frequency bin edges\n",
    "# f_orb = f_GW/2\n",
    "fobs_orb_edges = fobs_edges / 2.0\n",
    "fobs_orb_cents = kale.utils.midpoints(fobs_edges) / 2.0\n",
    "\n",
    "# dynamic_binary_number\n",
    "# gets differential number of binaries per bin-vol per log freq interval\n",
    "edges, dnum = sam.dynamic_binary_number(holo.hardening.Hard_GW, fobs_orb=fobs_orb_cents)\n",
    "edges[-1] = fobs_orb_edges\n",
    "\n",
    "# integrate (multiply by bin volume) within each bin\n",
    "number = utils._integrate_grid_differential_number(edges, dnum, freq=False)\n",
    "number = number * np.diff(np.log(fobs_edges))"
   ]
  },
  {
   "attachments": {},
   "cell_type": "markdown",
   "metadata": {},
   "source": [
    "### Calculate strains"
   ]
  },
  {
   "cell_type": "code",
   "execution_count": 303,
   "metadata": {},
   "outputs": [],
   "source": [
    "# 1. Get GW Total Strain using gws_by_ndars()\n",
    "# hc_tt = ss_gws_by_loops(edges, number, realize=False, round = True, sum=True, ss=False)   \n",
    "hc_tt = gws_by_ndars(edges, number, realize=False, round = True, sum=True)  \n",
    " \n",
    "# 2 Get bg (background) and ss (single source) strains by ss_gws_by_loops\n",
    "hc_bg, hc_ss, sspar, ssidx, maxhs, number_bg = ss_gws_by_loops(edges, number, realize=False, round=True, sum=True, ss=True)"
   ]
  },
  {
   "attachments": {},
   "cell_type": "markdown",
   "metadata": {},
   "source": [
    "## 3.3 Test Plots"
   ]
  },
  {
   "cell_type": "markdown",
   "metadata": {},
   "source": [
    "### BG, SS, and TT Strain"
   ]
  },
  {
   "cell_type": "code",
   "execution_count": 304,
   "metadata": {},
   "outputs": [
    {
     "name": "stdout",
     "output_type": "stream",
     "text": [
      "(5,)\n",
      "5\n"
     ]
    },
    {
     "data": {
      "image/png": "[encoded data removed]",
      "text/plain": [
       "<Figure size 1000x450 with 1 Axes>"
      ]
     },
     "metadata": {},
     "output_type": "display_data"
    }
   ],
   "source": [
    "# quick plot\n",
    "fig, ax = plot.figax(xlabel='Frequency $f_\\mathrm{obs}$ [1/yr]', \n",
    "                    ylabel='Characteristic Strain $h_c$', figsize=[10,4.5])\n",
    "ax.set_title(exname)\n",
    "xx = fobs * YR\n",
    "print(fobs.shape)\n",
    "print(len(hc_tt))\n",
    "# plot a reference, pure power-law  strain spectrum:   h_c(f) = 1e-15 * (f * yr) ^ -2/3\n",
    "yy = 1e-15 * np.power(xx, -2.0/3.0)\n",
    "ax.plot(xx, yy, 'k--', alpha=0.25, lw=2.0, label = 'pure power law')\n",
    "\n",
    "# total char strain (no sources subtracted)\n",
    "ax.plot(xx, hc_tt, color='black', marker = 'x', lw=3, ls = 'dotted', alpha=1, label='total, by loops')\n",
    "\n",
    "\n",
    "# gwb\n",
    "ax.plot(xx, hc_bg, color='b', marker = 'o', lw=3, ls = 'dotted', alpha=.5, label='background, pretty loops')\n",
    "# loudest source per bin\n",
    "ax.scatter(xx, hc_ss, color='b', marker = 'o', edgecolor='k', alpha=.5, label='single source, pretty loops')\n",
    "\n",
    "\n",
    "# ax.plot(xx, hc_bg+hc_ss, color='r', label='bg + ss', alpha=.5)\n",
    "ax.plot(xx, np.sqrt(hc_bg**2+hc_ss**2), color='r', label=r'$sqrt (bg^2 + ss^2)$', alpha=.5)\n",
    "\n",
    "legend_gwb = ax.legend(bbox_to_anchor=(.1,.15), bbox_transform=fig.transFigure, loc='lower left')\n",
    "\n",
    "\n",
    "# ax.set_ylim(1e-16, 3e-15)\n",
    "fig.tight_layout()"
   ]
  },
  {
   "cell_type": "markdown",
   "metadata": {},
   "source": [
    "##### number - number_bg check"
   ]
  },
  {
   "cell_type": "code",
   "execution_count": 305,
   "metadata": {},
   "outputs": [
    {
     "name": "stdout",
     "output_type": "stream",
     "text": [
      "(24, 24, 24)\n",
      "(24, 24, 24)\n"
     ]
    },
    {
     "data": {
      "image/png": "[encoded data removed]",
      "text/plain": [
       "<Figure size 1000x300 with 5 Axes>"
      ]
     },
     "metadata": {},
     "output_type": "display_data"
    }
   ],
   "source": [
    "# plot number vs anything at 1 frequency \n",
    "freqs_in_nHz = fobs*10**9\n",
    "# plot number - single sources vs anything at 1 frequency,\n",
    "# should only vary in one cell\n",
    "fig, ax = plt.subplots(1,len(fobs), figsize = (10,3), sharey=True)\n",
    "fig.suptitle('number - number_bg for each bin, '+ exname)\n",
    "ax[0].set_ylabel('number - number_bg')\n",
    "bins = np.arange(0, number[...,0].size, 1)\n",
    "bins = np.reshape(bins, number[...,0].shape)\n",
    "print(bins.shape)\n",
    "print(number[...,0].shape)\n",
    "for f in range(len(fobs)):\n",
    "    ax[f].scatter(bins, (number[...,f] - number_bg[...,f]))\n",
    "    ax[f].set_title('$f_\\mathrm{obs}$ = %dnHz' % freqs_in_nHz[f])\n",
    "    ax[f].set_xlabel('bin')\n",
    "fig.tight_layout()\n"
   ]
  },
  {
   "cell_type": "markdown",
   "metadata": {},
   "source": [
    "# 4. Even More Complex Example - Casting 64bit\n"
   ]
  },
  {
   "cell_type": "code",
   "execution_count": 306,
   "metadata": {},
   "outputs": [],
   "source": [
    "exname = 'Example 4'"
   ]
  },
  {
   "cell_type": "markdown",
   "metadata": {},
   "source": [
    "## 4.1 Calculate Strains\n",
    "### Choose the frequency bins at which to calculate the GWB"
   ]
  },
  {
   "cell_type": "code",
   "execution_count": 307,
   "metadata": {},
   "outputs": [
    {
     "name": "stdout",
     "output_type": "stream",
     "text": [
      "Number of frequency bins: 11\n",
      "  between [0.63, 7.57] 1/yr\n",
      "          [20.00, 240.00] nHz\n"
     ]
    }
   ],
   "source": [
    "dur = 5.0*YR/3.1557600\n",
    "cad = .2*YR/3.1557600\n",
    "fobs = utils.nyquist_freqs(dur,cad)\n",
    "fobs_edges = utils.nyquist_freqs_edges(dur,cad)\n",
    "print(f\"Number of frequency bins: {fobs.size-1}\")\n",
    "print(f\"  between [{fobs[0]*YR:.2f}, {fobs[-1]*YR:.2f}] 1/yr\")\n",
    "print(f\"          [{fobs[0]*1e9:.2f}, {fobs[-1]*1e9:.2f}] nHz\")"
   ]
  },
  {
   "cell_type": "markdown",
   "metadata": {},
   "source": [
    "### Build Semi-Analytic-Model with super simple parameters "
   ]
  },
  {
   "cell_type": "code",
   "execution_count": 308,
   "metadata": {},
   "outputs": [
    {
     "name": "stdout",
     "output_type": "stream",
     "text": [
      "edges: [array([1.00e+39, 1.76e+39, 3.10e+39, 5.46e+39, 9.63e+39, 1.70e+40,\n",
      "       2.99e+40, 5.26e+40, 9.27e+40, 1.63e+41, 2.87e+41, 5.06e+41,\n",
      "       8.92e+41, 1.57e+42, 2.77e+42, 4.87e+42, 8.58e+42, 1.51e+43,\n",
      "       2.66e+43, 4.69e+43, 8.26e+43, 1.46e+44, 2.56e+44, 4.52e+44,\n",
      "       7.95e+44]), array([0.1 , 0.11, 0.12, 0.13, 0.15, 0.16, 0.18, 0.2 , 0.22, 0.24, 0.26,\n",
      "       0.29, 0.32, 0.35, 0.38, 0.42, 0.46, 0.51, 0.56, 0.62, 0.68, 0.75,\n",
      "       0.83, 0.91, 1.  ]), array([1.00e-03, 1.47e-03, 2.15e-03, 3.16e-03, 4.64e-03, 6.81e-03,\n",
      "       1.00e-02, 1.47e-02, 2.15e-02, 3.16e-02, 4.64e-02, 6.81e-02,\n",
      "       1.00e-01, 1.47e-01, 2.15e-01, 3.16e-01, 4.64e-01, 6.81e-01,\n",
      "       1.00e+00, 1.47e+00, 2.15e+00, 3.16e+00, 4.64e+00, 6.81e+00,\n",
      "       1.00e+01])]\n"
     ]
    }
   ],
   "source": [
    "mtot=(1.0e6*MSOL/1.988409870698051, (4.0e11*MSOL).astype(np.float64), 25)\n",
    "mrat=(1e-1, 1.0, 25)\n",
    "redz=(1e-3, 10.0, 25)\n",
    "sam = holo.sam.Semi_Analytic_Model(mtot, mrat, redz)\n",
    "print('edges:', sam.edges)"
   ]
  },
  {
   "cell_type": "markdown",
   "metadata": {},
   "source": [
    "### Get SAM edges and numbers as in sam.gwb()"
   ]
  },
  {
   "cell_type": "code",
   "execution_count": 309,
   "metadata": {},
   "outputs": [],
   "source": [
    "# get observed orbital frequency bin edges and centers \n",
    "# from observed GW frequency bin edges\n",
    "# f_orb = f_GW/2\n",
    "fobs_orb_edges = fobs_edges / 2.0\n",
    "fobs_orb_cents = kale.utils.midpoints(fobs_edges) / 2.0\n",
    "\n",
    "# dynamic_binary_number\n",
    "# gets differential number of binaries per bin-vol per log freq interval\n",
    "edges, dnum = sam.dynamic_binary_number(holo.hardening.Hard_GW, fobs_orb=fobs_orb_cents)\n",
    "edges[-1] = fobs_orb_edges\n",
    "\n",
    "# integrate (multiply by bin volume) within each bin\n",
    "number = utils._integrate_grid_differential_number(edges, dnum, freq=False)\n",
    "number = number * np.diff(np.log(fobs_edges))"
   ]
  },
  {
   "cell_type": "markdown",
   "metadata": {},
   "source": [
    "### Calculate strains"
   ]
  },
  {
   "cell_type": "code",
   "execution_count": 310,
   "metadata": {},
   "outputs": [],
   "source": [
    "# 1. Get GW Total Strain using gws_by_ndars()\n",
    "hc_tt = gws_by_loops(edges, number, realize=False, round = True, sum=True)   \n",
    " \n",
    "# 2 Get bg (background) and ss (single source) strains by ss_gws_by_loops\n",
    "hc_bg, hc_ss, sspar, ssidx, maxhs, number_bg = ss_gws_by_loops(edges, number, realize=False, round=True, sum=True, ss=True)"
   ]
  },
  {
   "attachments": {},
   "cell_type": "markdown",
   "metadata": {},
   "source": [
    "## 4.3 Test Plots"
   ]
  },
  {
   "cell_type": "markdown",
   "metadata": {},
   "source": [
    "### BG, SS, and TT Strain"
   ]
  },
  {
   "cell_type": "code",
   "execution_count": 314,
   "metadata": {},
   "outputs": [
    {
     "data": {
      "image/png": "[encoded data removed]",
      "text/plain": [
       "<Figure size 1000x450 with 1 Axes>"
      ]
     },
     "metadata": {},
     "output_type": "display_data"
    }
   ],
   "source": [
    "# quick plot\n",
    "fig, ax = plot.figax(xlabel='Frequency $f_\\mathrm{obs}$ [1/yr]', \n",
    "                    ylabel='Characteristic Strain $h_c$', figsize=[10,4.5])\n",
    "ax.set_title(exname)\n",
    "xx = fobs * YR\n",
    "\n",
    "# plot a reference, pure power-law  strain spectrum:   h_c(f) = 1e-15 * (f * yr) ^ -2/3\n",
    "yy = 1e-15 * np.power(xx, -2.0/3.0)\n",
    "ax.plot(xx, yy, 'k--', alpha=0.25, lw=2.0, label = 'pure power law')\n",
    "\n",
    "# total char strain (no sources subtracted)\n",
    "ax.plot(xx, hc_tt, color='black', marker = 'x', lw=3, ls = 'dotted', alpha=1, label='total, by loops')\n",
    "\n",
    "\n",
    "# gwb\n",
    "ax.plot(xx, hc_bg, color='b', marker = '.', lw=3, ls = 'dotted', alpha=.8, label='background, by loops')\n",
    "# loudest source per bin\n",
    "ax.scatter(xx, hc_ss, color='b', marker = 'o', edgecolor='k', alpha=.8, label='single source, by loops')\n",
    "\n",
    "\n",
    "# ax.plot(xx, hc_bg+hc_ss, color='r', label='bg + ss')\n",
    "ax.plot(xx, np.sqrt(hc_bg**2+hc_ss**2), color='r', label=r'$sqrt (bg^2 + ss^2)$', alpha=.5)\n",
    "\n",
    "\n",
    "legend_gwb = ax.legend(bbox_to_anchor=(.1,.15), bbox_transform=fig.transFigure, loc='lower left')\n",
    "\n",
    "\n",
    "# ax.set_ylim(1e-16, 3e-15)\n",
    "fig.tight_layout()"
   ]
  },
  {
   "cell_type": "markdown",
   "metadata": {},
   "source": [
    "##### number - number_bg check"
   ]
  },
  {
   "cell_type": "code",
   "execution_count": 312,
   "metadata": {},
   "outputs": [
    {
     "name": "stdout",
     "output_type": "stream",
     "text": [
      "(24, 24, 24)\n",
      "(24, 24, 24)\n"
     ]
    },
    {
     "data": {
      "image/png": "[encoded data removed]",
      "text/plain": [
       "<Figure size 1500x300 with 12 Axes>"
      ]
     },
     "metadata": {},
     "output_type": "display_data"
    }
   ],
   "source": [
    "# plot number vs anything at 1 frequency \n",
    "freqs_in_nHz = fobs*10**9\n",
    "# plot number - single sources vs anything at 1 frequency,\n",
    "# should only vary in one cell\n",
    "fig, ax = plt.subplots(1,len(fobs), figsize = (15,3), sharey=True)\n",
    "fig.suptitle('number - number_bg for each bin, '+ exname)\n",
    "ax[0].set_ylabel('number - number_bg')\n",
    "bins = np.arange(0, number[...,0].size, 1)\n",
    "bins = np.reshape(bins, number[...,0].shape)\n",
    "print(bins.shape)\n",
    "print(number[...,0].shape)\n",
    "for f in range(len(fobs)):\n",
    "    ax[f].scatter(bins, (number[...,f] - number_bg[...,f]))\n",
    "    ax[f].set_title('$f_\\mathrm{obs}$ = %dnHz' % freqs_in_nHz[f])\n",
    "    ax[f].set_xlabel('bin')\n",
    "fig.tight_layout()\n"
   ]
  },
  {
   "cell_type": "code",
   "execution_count": 313,
   "metadata": {},
   "outputs": [
    {
     "name": "stdout",
     "output_type": "stream",
     "text": [
      "[ 0.00e+00 -2.38e-16 -2.15e-16 -1.39e-16 -2.96e-16  1.55e-16 -1.28e-16\n",
      "  2.18e-16 -1.71e-16  0.00e+00  0.00e+00  1.90e-16]\n",
      "[ 0.00e+00  4.93e-32  0.00e+00  0.00e+00  1.23e-32  0.00e+00  0.00e+00\n",
      " -6.16e-33  0.00e+00  0.00e+00  0.00e+00  0.00e+00]\n"
     ]
    }
   ],
   "source": [
    "test = (hc_bg**2 + hc_ss**2)\n",
    "error = (test-hc_tt**2)/hc_tt**2\n",
    "# np.isclose(hc_tt, )\n",
    "print(error)\n",
    "print(hc_tt - np.sqrt(hc_ss**2 + hc_bg**2))"
   ]
  },
  {
   "attachments": {},
   "cell_type": "markdown",
   "metadata": {},
   "source": [
    "use n>0"
   ]
  },
  {
   "cell_type": "code",
   "execution_count": null,
   "metadata": {},
   "outputs": [],
   "source": []
  }
 ],
 "metadata": {
  "kernelspec": {
   "display_name": "Python 3",
   "language": "python",
   "name": "python3"
  },
  "language_info": {
   "codemirror_mode": {
    "name": "ipython",
    "version": 3
   },
   "file_extension": ".py",
   "mimetype": "text/x-python",
   "name": "python",
   "nbconvert_exporter": "python",
   "pygments_lexer": "ipython3",
   "version": "3.10.10"
  },
  "orig_nbformat": 4,
  "vscode": {
   "interpreter": {
    "hash": "17d459439548e0ef4d6a744a9fa4f3f6fa91b434189a6e542a76bffcd834cb9b"
   }
  }
 },
 "nbformat": 4,
 "nbformat_minor": 2
}
