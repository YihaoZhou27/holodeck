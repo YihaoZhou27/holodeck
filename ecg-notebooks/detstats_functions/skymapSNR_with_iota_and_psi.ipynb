{
 "cells": [
  {
   "cell_type": "code",
   "execution_count": null,
   "metadata": {},
   "outputs": [],
   "source": [
    "import numpy as np\n",
    "import matplotlib.pyplot as plt\n",
    "import matplotlib.cm as cm\n",
    "import scipy as sp\n",
    "\n",
    "import holodeck as holo\n",
    "import holodeck.single_sources\n",
    "import holodeck.detstats_randomskies as det\n",
    "from holodeck.constants import YR, MSOL\n",
    "from holodeck import utils\n",
    "\n",
    "\n",
    "import hasasia.sensitivity as hsen\n",
    "import hasasia.sim as hsim\n",
    "import hasasia.skymap as hsky"
   ]
  },
  {
   "attachments": {},
   "cell_type": "markdown",
   "metadata": {},
   "source": [
    "# 1.) 2 pulsars, 1 binary\n",
    "## 1.1 Setup\n",
    "### 1.1.1 Build SAM and calculate strains"
   ]
  },
  {
   "attachments": {},
   "cell_type": "markdown",
   "metadata": {},
   "source": [
    "Make the semi-analytic model object."
   ]
  },
  {
   "cell_type": "code",
   "execution_count": null,
   "metadata": {},
   "outputs": [],
   "source": [
    "hcfile = np.load('/Users/emigardiner/GWs/holodeck/ecg-notebooks/detstats_functions/sample_sam_C.npz')\n",
    "dur = hcfile['dur']\n",
    "cad = hcfile['cad']\n",
    "fobs = hcfile['fobs']\n",
    "dfobs = hcfile['dfobs']\n",
    "hc_ss = hcfile['hc_ss']\n",
    "hc_bg = hcfile['hc_bg']\n",
    "print(hc_ss.shape)"
   ]
  },
  {
   "attachments": {},
   "cell_type": "markdown",
   "metadata": {},
   "source": [
    "### 1.1.2 Set Up 1 SS\n"
   ]
  },
  {
   "attachments": {},
   "cell_type": "markdown",
   "metadata": {},
   "source": [
    "Place the single sources randomly across the sky\n",
    "Isolate the 3rd frequency bin source, place it."
   ]
  },
  {
   "cell_type": "code",
   "execution_count": null,
   "metadata": {},
   "outputs": [],
   "source": [
    "# theta_ss = np.random.uniform(0, np.pi, size = hc_ss.size).reshape(hc_ss.shape)\n",
    "# phi_ss = np.random.uniform(0, 2*np.pi, size = hc_ss.size).reshape(hc_ss.shape)\n",
    "# iota_ss = np.random.uniform(0, np.pi, size = hc_ss.size).reshape(hc_ss.shape)\n",
    "# psi_ss = np.random.uniform(0, np.pi, size = hc_ss.size).reshape(hc_ss.shape) \n",
    "# Phi0_ss = np.random.uniform(0,2*np.pi, size=hc_ss.size).reshape(hc_ss.shape)\n",
    "# np.savez('/Users/emigardiner/GWs/holodeck/ecg-notebooks/detstats_functions/random_binary_angles_C.npz',\n",
    "#          theta_ss=theta_ss, phi_ss=phi_ss, iota_ss=iota_ss, psi_ss=psi_ss, Phi0_ss=Phi0_ss)\n",
    "\n",
    "infile = np.load('/Users/emigardiner/GWs/holodeck/ecg-notebooks/detstats_functions/random_binary_angles_C.npz')\n",
    "theta_ss = infile['theta_ss']\n",
    "phi_ss = infile['phi_ss']\n",
    "iota_ss = infile['iota_ss']\n",
    "psi_ss = infile['psi_ss']\n",
    "Phi0_ss = infile['Phi0_ss']\n",
    "\n",
    "# theta_ss = np.zeros_like(hc_ss)\n",
    "# phi_ss = np.zeros_like(hc_ss)\n",
    "iota_ss = np.zeros_like(hc_ss)\n",
    "psi_ss = np.zeros_like(hc_ss)\n",
    "Phi0_ss = np.zeros_like(hc_ss)\n",
    "\n",
    "test=np.ones(theta_ss.shape)\n",
    "# # special 5th bin:\n",
    "ss=2\n",
    "def reset_ss():\n",
    "    theta_ss[ss,0,0] = np.pi/8\n",
    "    phi_ss[ss,0,0] = np.pi/8\n",
    "    Phi0_ss[ss,0,0] = 0\n",
    "    iota_ss[ss,0,0] = 0\n",
    "    psi_ss[ss,0,0] = 0\n",
    "    hc_ss = np.zeros(theta_ss.shape)\n",
    "    hc_ss[ss,0,0] = 5e-15\n",
    "    return theta_ss, phi_ss, iota_ss, psi_ss, Phi0_ss, hc_ss\n",
    "theta_ss, phi_ss, iota_ss, psi_ss, Phi0_ss, hc_ss = reset_ss()\n",
    "fig = holo.plot.plot_bg_ss(fobs, hc_bg, hc_ss)"
   ]
  },
  {
   "attachments": {},
   "cell_type": "markdown",
   "metadata": {},
   "source": [
    "### 1.1.3 Set Up 2 Pulsars\n",
    "* 2 pulsars\n",
    "* 45 degrees ($\\pi$/4) apart in $\\phi$\n",
    "* same $\\theta=0$"
   ]
  },
  {
   "cell_type": "code",
   "execution_count": null,
   "metadata": {},
   "outputs": [],
   "source": [
    "# set pulsar parameters\n",
    "def reset_pulsars(npsrs=2, phis = np.array([0,np.pi/4]), thetas = np.array([0,0]), \n",
    "    sigmas = np.array([1e-7,1e-7])):\n",
    "    # build sim_pta\n",
    "    pulsars = hsim.sim_pta(timespan=dur/YR, cad=1/(cad/YR), sigma=sigmas,\n",
    "                        phi=phis, theta=thetas)\n",
    "    # get spectrum for each\n",
    "    spectra = np.empty_like(pulsars, dtype=hsen.Spectrum)\n",
    "    for ii in range(npsrs):\n",
    "        spectra[ii] = hsen.Spectrum(pulsars[ii], freqs=fobs)\n",
    "        spectra[ii].NcalInv # calculate inverse noise weighted transmission function\n",
    "    # get sensitivity curve\n",
    "    scDeter = hsen.DeterSensitivityCurve(list(spectra))\n",
    "    skymap = hsky.SkySensitivity(list(spectra), theta_gw=theta_ss.squeeze(), \n",
    "                                 phi_gw=phi_ss.squeeze(),\n",
    "                                 iota=iota_ss.squeeze(), psi=psi_ss.squeeze())\n",
    "    return npsrs, thetas, phis, sigmas, pulsars, spectra, scDeter, skymap\n",
    "npsrs, thetas, phis, sigmas, pulsars, spectra, scDeter, skymap = reset_pulsars()"
   ]
  },
  {
   "attachments": {},
   "cell_type": "markdown",
   "metadata": {},
   "source": [
    "## 1.2 SNR "
   ]
  },
  {
   "attachments": {},
   "cell_type": "markdown",
   "metadata": {},
   "source": [
    "### 1.2.1 skymap \n",
    "Using hasasia.skysensitivity.skymap, including iota or psi"
   ]
  },
  {
   "cell_type": "code",
   "execution_count": null,
   "metadata": {},
   "outputs": [],
   "source": [
    "hs = holo.utils.char_strain_to_strain_amp(hc_ss, fobs, dfobs)\n",
    "iota_ss[ss,0,0] = np.pi/4\n",
    "psi_ss[ss,0,0] = np.pi/4\n",
    "np.set_printoptions(precision=2)\n",
    "    \n",
    "print('iota_ss', iota_ss[:,0,0])\n",
    "print('psi_ss', psi_ss[:,0,0])\n",
    "\n",
    "print('\\trho1: None, None')\n",
    "rho1 = skymap.SNR(hs[:,0,0], iota=None, psi=None)\n",
    "print('rho1[:,ss]', rho1[:,ss])\n",
    "print('rho1[ss,:]', rho1[ss,:])\n",
    "\n",
    "print('\\trho2: iota, None')\n",
    "rho2 = skymap.SNR(hs[:,0,0], iota=iota_ss, psi=None)\n",
    "print('rho2[:,ss]', rho2[:,ss])\n",
    "print('rho2[ss,:]', rho2[ss,:])\n",
    "\n",
    "\n",
    "print('\\trho3: None, psi')\n",
    "rho3 = skymap.SNR(hs[:,0,0], iota=None, psi=psi_ss)\n",
    "print('rho3[:,ss]', rho3[:,ss])\n",
    "print('rho3[ss,:]', rho3[ss,:])\n",
    "\n",
    "print('rho1=rho2:', np.all(rho1==rho2))\n",
    "print('rho1=rho3:', np.all(rho1==rho3))"
   ]
  },
  {
   "cell_type": "code",
   "execution_count": null,
   "metadata": {},
   "outputs": [],
   "source": [
    "test_iota = np.pi/2\n",
    "test_psi = np.pi/2\n",
    "iota_ss[ss,0,0] = test_iota\n",
    "psi_ss[ss,0,0] = test_psi\n",
    "    \n",
    "\n",
    "print('\\n\\tiota=None and psi=None')\n",
    "snr_sky1 = det.snr_skymap(skymap, fobs, dfobs, hc_ss,\n",
    "                          iota_ss=None, psi_ss=None, debug=True)\n",
    "print('snr_sky =',snr_sky1.shape,\n",
    "       (snr_sky1.squeeze()))\n",
    "\n",
    "print('\\n\\tiota=None and psi=%.2fpi' % (test_psi/np.pi))\n",
    "snr_sky2 = det.snr_skymap(skymap, fobs, dfobs, hc_ss, \n",
    "                          iota_ss=None, psi_ss=psi_ss, debug=True)\n",
    "print('snr_sky =',snr_sky2.shape,\n",
    "       (snr_sky2.squeeze()))\n",
    "\n",
    "print('\\n\\tiota=%.2fpi and psi=None' % (test_iota/np.pi))\n",
    "snr_sky3 = det.snr_skymap(skymap, fobs, dfobs, hc_ss,\n",
    "                          iota_ss=iota_ss, psi_ss=None, debug=True)\n",
    "print('snr_sky =',snr_sky3.shape,\n",
    "       (snr_sky3.squeeze()))"
   ]
  },
  {
   "attachments": {},
   "cell_type": "markdown",
   "metadata": {},
   "source": [
    "### 1.2.2 scDeter\n",
    "using hasasia.sensitivity.DeterSensitivityCurve"
   ]
  },
  {
   "cell_type": "code",
   "execution_count": null,
   "metadata": {},
   "outputs": [],
   "source": [
    "snr_sky4 = det.snr_scDeter(scDeter, fobs, dfobs, hc_ss, debug=True)\n",
    "print('snr_sky =',snr_sky4.shape,\n",
    "       (snr_sky4.squeeze()))"
   ]
  },
  {
   "attachments": {},
   "cell_type": "markdown",
   "metadata": {},
   "source": [
    "# 2.) Realistic random sample\n",
    "## 2.1 Setup\n",
    "### 2.1.1 Build SAM and calculate strain"
   ]
  },
  {
   "cell_type": "code",
   "execution_count": null,
   "metadata": {},
   "outputs": [],
   "source": [
    "# dur = 10.0*YR\n",
    "# cad = .2*YR\n",
    "# fobs = utils.nyquist_freqs(dur,cad)\n",
    "# fobs_edges = utils.nyquist_freqs_edges(dur,cad)\n",
    "# sam = holo.sam.Semi_Analytic_Model() \n",
    "# # sam = holo.sam.Semi_Analytic_Model(mtot=(1.0e4*MSOL, 1.0e11*MSOL, 20), mrat=(1e-3, 1.0, 20), redz=(1e-3, 10.0, 20))  # faster version\n",
    "# hard = holo.hardening.Hard_GW\n",
    "# fobs_orb_edges = fobs_edges / 2.0 \n",
    "# fobs_orb_cents = fobs/ 2.0\n",
    "# # edges\n",
    "# edges, dnum = sam.dynamic_binary_number(hard, fobs_orb=fobs_orb_cents) # should the zero stalled option be part of the parameter space?\n",
    "# edges[-1] = fobs_orb_edges\n",
    "# dfobs = np.diff(edges[-1])\n",
    "# # integrate for number\n",
    "# number = utils._integrate_grid_differential_number(edges, dnum, freq=False)\n",
    "# number = number * np.diff(np.log(fobs_edges)) \n",
    "# hc_ss, hc_bg = holo.single_sources.ss_gws(edges, number, realize=1, \n",
    "#                                         loudest = 1, params = False) \n",
    "# np.savez('/Users/emigardiner/GWs/holodeck/ecg-notebooks/detstats_functions/sample_sam_D.npz', \n",
    "#          dur=dur, cad=cad, fobs=fobs, dfobs=dfobs, hc_ss=hc_ss, hc_bg=hc_bg)\n",
    "hcfile = np.load('/Users/emigardiner/GWs/holodeck/ecg-notebooks/detstats_functions/npz_arrays/sample_sam_D.npz')\n",
    "dur = hcfile['dur']\n",
    "cad = hcfile['cad']\n",
    "fobs = hcfile['fobs']\n",
    "dfobs = hcfile['dfobs']\n",
    "hc_ss = hcfile['hc_ss']\n",
    "hc_bg = hcfile['hc_bg']\n",
    "print(hc_ss.shape)\n",
    "fig = holo.plot.plot_bg_ss(fobs, hc_bg, hc_ss)"
   ]
  },
  {
   "attachments": {},
   "cell_type": "markdown",
   "metadata": {},
   "source": [
    "### 2.1.2 Place random SS"
   ]
  },
  {
   "cell_type": "code",
   "execution_count": null,
   "metadata": {},
   "outputs": [],
   "source": [
    "# theta_ss = np.random.uniform(0, np.pi, size = hc_ss.size).reshape(hc_ss.shape)\n",
    "# phi_ss = np.random.uniform(0, 2*np.pi, size = hc_ss.size).reshape(hc_ss.shape)\n",
    "# iota_ss = np.random.uniform(0, np.pi, size = hc_ss.size).reshape(hc_ss.shape)\n",
    "# psi_ss = np.random.uniform(0, np.pi, size = hc_ss.size).reshape(hc_ss.shape) \n",
    "# Phi0_ss = np.random.uniform(0,2*np.pi, size=hc_ss.size).reshape(hc_ss.shape)\n",
    "# np.savez('/Users/emigardiner/GWs/holodeck/ecg-notebooks/detstats_functions/random_binary_angles_D.npz',\n",
    "#          theta_ss=theta_ss, phi_ss=phi_ss, iota_ss=iota_ss, psi_ss=psi_ss, Phi0_ss=Phi0_ss)\n",
    "\n",
    "infile = np.load('/Users/emigardiner/GWs/holodeck/ecg-notebooks/detstats_functions/npz_arrays/andom_binary_angles_D.npz')\n",
    "theta_ss = infile['theta_ss']\n",
    "phi_ss = infile['phi_ss']\n",
    "iota_ss = infile['iota_ss']\n",
    "psi_ss = infile['psi_ss']\n",
    "Phi0_ss = infile['Phi0_ss']"
   ]
  },
  {
   "attachments": {},
   "cell_type": "markdown",
   "metadata": {},
   "source": [
    "### 2.1.3 Place 40 random pulsars"
   ]
  },
  {
   "cell_type": "code",
   "execution_count": null,
   "metadata": {},
   "outputs": [],
   "source": [
    "npsrs = 40\n",
    "phis = np.random.uniform(0, 2*np.pi, size = npsrs)\n",
    "thetas = np.random.uniform(np.pi/2, np.pi/2, size = npsrs)\n",
    "sigmas = np.ones_like(phis)*1e-7\n",
    "\n",
    "# build sim_pta\n",
    "pulsars = hsim.sim_pta(timespan=dur/YR, cad=1/(cad/YR), sigma=sigmas,\n",
    "                    phi=phis, theta=thetas)\n",
    "# get spectrum for each\n",
    "spectra = np.empty_like(pulsars, dtype=hsen.Spectrum)\n",
    "for ii in range(npsrs):\n",
    "    spectra[ii] = hsen.Spectrum(pulsars[ii], freqs=fobs)\n",
    "    spectra[ii].NcalInv # calculate inverse noise weighted transmission function\n",
    "# get sensitivity curve\n",
    "scDeter = hsen.DeterSensitivityCurve(list(spectra))\n",
    "skymap = hsky.SkySensitivity(list(spectra), theta_gw=theta_ss.squeeze(), \n",
    "                                phi_gw=phi_ss.squeeze(),\n",
    "                               iota=iota_ss.squeeze(),\n",
    "                                psi=psi_ss.squeeze())\n",
    "print(theta_ss.squeeze(), '\\n', phi_ss.squeeze(), '\\n', iota_ss.squeeze())"
   ]
  },
  {
   "attachments": {},
   "cell_type": "markdown",
   "metadata": {},
   "source": [
    "## 2.2 SNR"
   ]
  },
  {
   "attachments": {},
   "cell_type": "markdown",
   "metadata": {},
   "source": [
    "### 2.2.1 skymap \n",
    "Using hasasia.skysensitivity.skymap, including iota or psi"
   ]
  },
  {
   "cell_type": "code",
   "execution_count": null,
   "metadata": {},
   "outputs": [],
   "source": [
    "hs = holo.utils.char_strain_to_strain_amp(hc_ss, fobs, dfobs)\n",
    "skymap1 = hsky.SkySensitivity(list(spectra), theta_gw=theta_ss.squeeze(), \n",
    "                                phi_gw=phi_ss.squeeze(),iota=None, psi=None)\n",
    "rho1 = skymap1.SNR(hs[:,0,0], iota=None, psi=None)\n",
    "skymap2 = hsky.SkySensitivity(list(spectra), theta_gw=theta_ss.squeeze(), \n",
    "                                phi_gw=phi_ss.squeeze(),iota=iota_ss, psi=None)\n",
    "rho2 = skymap2.SNR(hs[:,0,0], iota=iota_ss, psi=None)\n",
    "\n",
    "skymap3 = hsky.SkySensitivity(list(spectra), theta_gw=theta_ss.squeeze(), \n",
    "                                phi_gw=phi_ss.squeeze(),iota=None, psi=psi_ss)\n",
    "rho3 = skymap3.SNR(hs[:,0,0], iota=None, psi=psi_ss)\n",
    "\n",
    "print('rho1=rho2:', np.all(rho1==rho2))\n",
    "print('rho1=rho3:', np.all(rho1==rho3))\n",
    "print(iota_ss.squeeze(), '\\n', psi_ss.squeeze())"
   ]
  },
  {
   "cell_type": "code",
   "execution_count": null,
   "metadata": {},
   "outputs": [],
   "source": [
    "hs = holo.utils.char_strain_to_strain_amp(hc_ss, fobs, dfobs)\n",
    "np.set_printoptions(precision=2)\n",
    "    \n",
    "print('iota_ss', iota_ss[:,0,0])\n",
    "print('psi_ss', psi_ss[:,0,0])\n",
    "\n",
    "print('\\trho1: None, None')\n",
    "rho1 = skymap.SNR(hs[:,0,0], iota=None, psi=None)\n",
    "print('rho1[:,ss]', rho1[:,ss])\n",
    "print('rho1[ss,:]', rho1[ss,:])\n",
    "\n",
    "print('\\trho2: iota, None')\n",
    "rho2 = skymap.SNR(hs[:,0,0], iota=iota_ss, psi=None)\n",
    "print('rho2[:,ss]', rho2[:,ss])\n",
    "print('rho2[ss,:]', rho2[ss,:])\n",
    "\n",
    "\n",
    "print('\\trho3: None, psi')\n",
    "rho3 = skymap.SNR(hs[:,0,0], iota=None, psi=psi_ss)\n",
    "print('rho3[:,ss]', rho3[:,ss])\n",
    "print('rho3[ss,:]', rho3[ss,:])\n",
    "\n",
    "print('rho1=rho2:', np.all(rho1==rho2))\n",
    "print('rho1=rho3:', np.all(rho1==rho3))"
   ]
  },
  {
   "cell_type": "code",
   "execution_count": null,
   "metadata": {},
   "outputs": [],
   "source": [
    "# test_iota = np.pi/2\n",
    "# test_psi = np.pi/2\n",
    "# iota_ss[ss,0,0] = test_iota\n",
    "# psi_ss[ss,0,0] = test_psi\n",
    "    \n",
    "\n",
    "print('\\n\\tiota=None and psi=None')\n",
    "snr_sky1 = det.snr_skymap(skymap, fobs, dfobs, hc_ss,\n",
    "                          iota_ss=None, psi_ss=None, debug=True)\n",
    "print('snr_sky =',snr_sky1.shape,\n",
    "       (snr_sky1.squeeze()))\n",
    "\n",
    "print('\\n\\tiota=None and psi=%.2fpi' % (test_psi/np.pi))\n",
    "snr_sky2 = det.snr_skymap(skymap, fobs, dfobs, hc_ss, \n",
    "                          iota_ss=None, psi_ss=psi_ss, debug=True)\n",
    "print('snr_sky =',snr_sky2.shape,\n",
    "       (snr_sky2.squeeze()))\n",
    "\n",
    "print('\\n\\tiota=%.2fpi and psi=None' % (test_iota/np.pi))\n",
    "snr_sky3 = det.snr_skymap(skymap, fobs, dfobs, hc_ss,\n",
    "                          iota_ss=iota_ss, psi_ss=None, debug=True)\n",
    "print('snr_sky =',snr_sky3.shape,\n",
    "       (snr_sky3.squeeze()))"
   ]
  },
  {
   "cell_type": "markdown",
   "metadata": {},
   "source": [
    "### 1.2.2 scDeter\n",
    "using hasasia.sensitivity.DeterSensitivityCurve"
   ]
  },
  {
   "cell_type": "code",
   "execution_count": null,
   "metadata": {},
   "outputs": [],
   "source": [
    "snr_sky4 = det.snr_scDeter(scDeter, fobs, dfobs, hc_ss, debug=True)\n",
    "print('snr_sky =',snr_sky4.shape,\n",
    "       (snr_sky4.squeeze()))"
   ]
  },
  {
   "cell_type": "code",
   "execution_count": null,
   "metadata": {},
   "outputs": [],
   "source": []
  }
 ],
 "metadata": {
  "kernelspec": {
   "display_name": "holo310",
   "language": "python",
   "name": "python3"
  },
  "language_info": {
   "codemirror_mode": {
    "name": "ipython",
    "version": 3
   },
   "file_extension": ".py",
   "mimetype": "text/x-python",
   "name": "python",
   "nbconvert_exporter": "python",
   "pygments_lexer": "ipython3",
   "version": "3.10.10"
  }
 },
 "nbformat": 4,
 "nbformat_minor": 2
}
