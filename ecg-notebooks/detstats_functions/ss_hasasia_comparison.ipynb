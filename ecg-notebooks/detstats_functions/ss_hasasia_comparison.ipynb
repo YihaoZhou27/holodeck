{
 "cells": [
  {
   "cell_type": "code",
   "execution_count": null,
   "metadata": {},
   "outputs": [],
   "source": [
    "import numpy as np\n",
    "import matplotlib.pyplot as plt\n",
    "\n",
    "import holodeck as holo\n",
    "from holodeck import detstats\n",
    "from holodeck.constants import YR, MSOL\n",
    "\n",
    "import hasasia.skymap as hsky\n",
    "import hasasia.sensitivity as hsen\n",
    "import hasasia.sim as hsim"
   ]
  },
  {
   "attachments": {},
   "cell_type": "markdown",
   "metadata": {},
   "source": [
    "# Glossary:\n",
    "* F = nfreqs = number of frequencies\n",
    "* R = nreals = number of strain realizations\n",
    "* S = nskies = number of single source sky realizations\n",
    "* L - nloudest = number of loudest single sources at each frequency\n",
    "# Table of Contents\n",
    "1. Load or calculate characteristic strain ndarrays, 'hc_bg' of shape (F,R) and 'hc_ss' of shape (F,R,L)\n",
    "2. Load or calculate ss sky realizations, the single source position, initial gw phase, inclination and polarization\n",
    "3. Calculate SNR with hasasia\n",
    "4. Calcualte SNR with holodeck, using 5-dim NDarrays (slow) and Rosado eq.s"
   ]
  },
  {
   "attachments": {},
   "cell_type": "markdown",
   "metadata": {},
   "source": [
    "# 1.. Load characteristic strain data"
   ]
  },
  {
   "cell_type": "code",
   "execution_count": null,
   "metadata": {},
   "outputs": [],
   "source": [
    "hc_path = '/Users/emigardiner/GWs/holodeck/ecg-notebooks/detstats_functions/npz_arrays/sample_sam_D.npz'  # CHANGE THIS TO YOUR OWN PATH\n",
    "\n",
    "hcfile = np.load(hc_path)\n",
    "dur = hcfile['dur']\n",
    "cad = hcfile['cad']\n",
    "fobs = hcfile['fobs']\n",
    "dfobs = hcfile['dfobs']\n",
    "hc_ss = hcfile['hc_ss']\n",
    "hc_bg = hcfile['hc_bg']\n",
    "nfreqs, nreals, nloudest = hc_ss.shape[0], hc_ss.shape[1], hc_ss.shape[2]\n",
    "print('F=%d, R=%d, L=%d' % (nfreqs, nreals, nloudest)) # 5 frequencies, 1 realization, 1 loudest single source at each frequency"
   ]
  },
  {
   "attachments": {},
   "cell_type": "markdown",
   "metadata": {},
   "source": [
    "Alternatively, you can calculate this yourself with holodeck, and vary any parameters"
   ]
  },
  {
   "cell_type": "code",
   "execution_count": null,
   "metadata": {},
   "outputs": [],
   "source": [
    "\"\"\"\n",
    "\n",
    "dur = 10.0*YR # choose this, these will determine your frequencies\n",
    "cad = 0.2*YR # choose this, these will determine your frequencies\n",
    "\n",
    "fobs_gw_cents = holo.utils.nyquist_freqs(dur,cad)\n",
    "fobs_gw_edges = holo.utils.nyquist_freqs_edges(dur,cad)\n",
    "sam = holo.sam.Semi_Analytic_Model() # full SAM \n",
    "# sam = holo.sam.Semi_Analytic_Model(mtot=(1.0e4*MSOL, 1.0e11*MSOL, 20), mrat=(1e-3, 1.0, 20), redz=(1e-3, 10.0, 20))  # faster version\n",
    "hard = holo.hardening.Hard_GW()\n",
    "fobs=fobs_gw_cents\n",
    "dfobs = np.diff(fobs_gw_edges)\n",
    "\n",
    "hc_ss, hc_bg = sam.gwb(fobs_gw_edges, hard=holo.hardening.Hard_GW(), realize=1, loudest = 1, params = False) \n",
    "print('F, R, L =', hc_ss.shape)\n",
    "\n",
    "\"\"\""
   ]
  },
  {
   "cell_type": "code",
   "execution_count": null,
   "metadata": {},
   "outputs": [],
   "source": [
    "fig = holo.plot.plot_bg_ss(fobs, hc_bg, hc_ss)"
   ]
  },
  {
   "attachments": {},
   "cell_type": "markdown",
   "metadata": {},
   "source": [
    "# 2.. Load (or randomly calculate) skies"
   ]
  },
  {
   "cell_type": "code",
   "execution_count": null,
   "metadata": {},
   "outputs": [],
   "source": [
    "nskies = 1 # number of random single source sky realizations to create\n",
    "\n",
    "theta_ss = np.random.uniform(0, np.pi, size = nfreqs*nskies*nreals).reshape(nfreqs, nreals, nskies) # shape (F, S, L)\n",
    "phi_ss = np.random.uniform(0, 2*np.pi, size = hc_ss.size).reshape(hc_ss.shape)\n",
    "iota_ss = np.random.uniform(0, np.pi, size = hc_ss.size).reshape(hc_ss.shape)\n",
    "psi_ss = np.random.uniform(0, np.pi, size = hc_ss.size).reshape(hc_ss.shape) \n",
    "Phi0_ss = np.random.uniform(0,2*np.pi, size=hc_ss.size).reshape(hc_ss.shape)\n",
    "\n",
    "# (save these if you want to use the same skies later)\n",
    "\"\"\"\n",
    "skies_path = '/Users/emigardiner/GWs/holodeck/ecg-notebooks/detstats_functions/npz_arrays/random_binary_angles_D.npz' # CHANGE THIS TO YOUR OWN PATH\n",
    "np.savez(skies_path,\n",
    "         theta_ss=theta_ss, phi_ss=phi_ss, iota_ss=iota_ss, psi_ss=psi_ss, Phi0_ss=Phi0_ss) \n",
    "\"\"\""
   ]
  },
  {
   "attachments": {},
   "cell_type": "markdown",
   "metadata": {},
   "source": [
    "Alternatively, load ss sky realizations from a saved file"
   ]
  },
  {
   "cell_type": "code",
   "execution_count": null,
   "metadata": {},
   "outputs": [],
   "source": [
    "\"\"\"\n",
    "skies_path = '/Users/emigardiner/GWs/holodeck/ecg-notebooks/detstats_functions/npz_arrays/random_binary_angles_D.npz' # CHANGE THIS TO YOUR OWN PATH\n",
    "infile = np.load(skies_path)\n",
    "\n",
    "theta_ss = infile['theta_ss']\n",
    "phi_ss = infile['phi_ss']\n",
    "iota_ss = infile['iota_ss'] # or set to None\n",
    "psi_ss = infile['psi_ss'] # or set to None\n",
    "Phi0_ss = infile['Phi0_ss']\n",
    "\"\"\""
   ]
  },
  {
   "attachments": {},
   "cell_type": "markdown",
   "metadata": {},
   "source": [
    "# 3.. Build PTA"
   ]
  },
  {
   "cell_type": "code",
   "execution_count": null,
   "metadata": {},
   "outputs": [],
   "source": [
    "npsrs = 40\n",
    "phis = np.random.uniform(0, 2*np.pi, size = npsrs)\n",
    "thetas = np.random.uniform(np.pi/2, np.pi/2, size = npsrs)\n",
    "sigmas = np.ones_like(phis)*1e-7\n",
    "\n",
    "# build sim_pta\n",
    "pulsars = hsim.sim_pta(timespan=dur/YR, cad=1/(cad/YR), sigma=sigmas,\n",
    "                    phi=phis, theta=thetas)\n",
    "# get spectrum for each\n",
    "spectra = np.empty_like(pulsars, dtype=hsen.Spectrum)\n",
    "for ii in range(npsrs):\n",
    "    spectra[ii] = hsen.Spectrum(pulsars[ii], freqs=fobs)\n",
    "    spectra[ii].NcalInv # calculate inverse noise weighted transmission function\n"
   ]
  },
  {
   "attachments": {},
   "cell_type": "markdown",
   "metadata": {},
   "source": [
    "# 4.. Calculate SNR's with hasasia\n",
    "These calculate the SNR for a source with every theta_ss, phi_ss combination. For sources at our assigned theta's and phi's, take the diagonal of the 2d SNR array"
   ]
  },
  {
   "cell_type": "code",
   "execution_count": null,
   "metadata": {},
   "outputs": [],
   "source": [
    "# calculate strain amplitude from characteristic strain\n",
    "hs = holo.utils.char_strain_to_strain_amp(hc_ss, fobs, dfobs)\n",
    "\n",
    "# The following uses the 0th strain realization (R) and 0th loudest sources (L)\n",
    "# This works for 1 sky realization\n",
    "# \n",
    "\n",
    "# Build hasasia skymap, without iota or psi (inclination and polarization averaged)\n",
    "skymap1 = hsky.SkySensitivity(list(spectra), theta_gw=theta_ss[:,0,0], \n",
    "                                phi_gw=phi_ss[:,0,0],iota=None, psi=None)\n",
    "# Calculate skymap SNR\n",
    "snr1 = skymap1.SNR(hs[:,0,0], iota=None, psi=None)\n",
    "\n",
    "# Try other iota and psi combinations, if you want\n",
    "# provide iota, not psi\n",
    "skymap2 = hsky.SkySensitivity(list(spectra), theta_gw=theta_ss[:,0,0], \n",
    "                                phi_gw=phi_ss[:,0,0], iota=iota_ss[:,0,0], psi=None)\n",
    "snr2 = skymap2.SNR(hs[:,0,0], iota=iota_ss[:,0,0], psi=None)\n",
    "\n",
    "# provide psi, not iota\n",
    "skymap3 = hsky.SkySensitivity(list(spectra), theta_gw=theta_ss[:,0,0], \n",
    "                                phi_gw=phi_ss[:,0,0], iota=None, psi=psi_ss[:,0,0])\n",
    "snr3 = skymap3.SNR(hs[:,0,0])"
   ]
  },
  {
   "attachments": {},
   "cell_type": "markdown",
   "metadata": {},
   "source": [
    "This functions, from the old detstats_randomskies.py file, does the same, then takes the diagonal of the 2d hasasia SNR array."
   ]
  },
  {
   "cell_type": "code",
   "execution_count": null,
   "metadata": {},
   "outputs": [],
   "source": [
    "def snr_skymap(skymap, fobs, dfobs, hc_ss, iota_ss=None, psi_ss=None, \n",
    "               debug=True):\n",
    "    \"\"\" Calculate the single source detection probability, and all intermediary steps.\n",
    "    \n",
    "    Parameters\n",
    "    ----------\n",
    "    skymap : hasasia.skysensitivity.skymap Object\n",
    "        Skymap from hasasia.\n",
    "    fobs : (F,) 1Darray of scalars\n",
    "        Frequency bin centers in Hz.\n",
    "    dfobs : (F-1,) 1Darray of scalars\n",
    "        Frequency bin widths in Hz.   \n",
    "    hc_ss : (F,R,L) NDarray of scalars\n",
    "        Characteristic strain of the L loudest single sources at \n",
    "        each frequency, for R realizations.\n",
    "    iota_ss : (F,R,L) NDarray or None\n",
    "        Inclination of each single source with respect to the line of sight.\n",
    "        NOTE: either `iota_ss` or `psi_ss` can be provided (and not both).\n",
    "    psi_ss : (F,R,L) NDarray or None\n",
    "        Polarizationof each single source.\n",
    "        NOTE: either `iota_ss` or `psi_ss` can be provided (and not both).\n",
    "\n",
    "    Returns\n",
    "    -------\n",
    "    rho_h_ss : (F,R,L) NDarray\n",
    "        SNR of each single source.\n",
    "\n",
    "    If neither 'iota_ss' or 'phi_ss' are used, then inclination and polarization \n",
    "    averaging is used in hasasia (I think).\n",
    "    \"\"\"\n",
    "\n",
    "    # rho_ss (corresponds to SNR)\n",
    "    hs = holo.utils.char_strain_to_strain_amp(hc_ss, fobs, dfobs)\n",
    "    rho_h_ss = np.zeros(hc_ss.shape) # (F,F,R,L)\n",
    "    # rho_h_ss = np.zeros((hc_ss.shape[0],hc_ss.shape[0],\n",
    "    #                      hc_ss.shape[1], hc_ss.shape[2])) # (F,F,R,L)\n",
    "    for rr in range(len(hc_ss[0])):\n",
    "        for ll in range(len(hc_ss[0,0])):\n",
    "            if debug: print('hc_ss[:,rr,ll]', hc_ss[:,rr,ll].shape) #, hc_ss[:,rr,ll])\n",
    "            if(iota_ss is not None): \n",
    "                assert (psi_ss is None), \"Only one of 'iota_ss' or 'psi_ss' should be provided.\"    \n",
    "                iota=iota_ss[:,rr,ll] \n",
    "            else: \n",
    "                iota = None\n",
    "            if(psi_ss is not None): \n",
    "                psi = psi_ss[:,rr,ll] # otherwise \n",
    "            else: \n",
    "                psi = None\n",
    "            if debug: print('iota =', iota, 'psi =', psi)\n",
    "            rho = skymap.SNR(hs[:,rr,ll], iota=iota, psi=psi) # calcutes SNR for every phi theta combo\n",
    "            rho = np.diagonal(rho) # SNR only for the corresponding phis and thetas\n",
    "            try:\n",
    "                rho_h_ss[:,rr,ll]  = rho\n",
    "                if (rr==0) and (ll==0):\n",
    "                    if debug: print('rho', rho.shape) #, rho)\n",
    "            except Exception:\n",
    "                if debug: print('rho', rho.shape) #, rho)\n",
    "                if debug: print(\"'rho_h_ss[:,rr,ll]  = rho' failed\")\n",
    "                raise\n",
    "                # return rho_h_ss\n",
    "    \n",
    "    return rho_h_ss"
   ]
  },
  {
   "cell_type": "code",
   "execution_count": null,
   "metadata": {},
   "outputs": [],
   "source": [
    "snr4 = snr_skymap(skymap1, fobs, dfobs, hc_ss, iota_ss=None, psi_ss=None, debug=True)\n",
    "\n",
    "assert np.all(np.diag(snr1) == snr4.squeeze()),  'Diagonal of snr1 should equal snr4, something might be wrong!'\n",
    "for ii in range(len(snr4)):\n",
    "    assert snr4[ii] == snr1[ii,ii], 'Diagonal of snr1 should equal snr4, something might be wrong!'"
   ]
  },
  {
   "attachments": {},
   "cell_type": "markdown",
   "metadata": {},
   "source": [
    "# 5.. Calculate SNR's with holodeck\n",
    " Based on Rosado et al. 2015\n",
    "\n",
    "Here are the individual steps, if you want to look at intermediate variables"
   ]
  },
  {
   "cell_type": "code",
   "execution_count": null,
   "metadata": {},
   "outputs": [],
   "source": [
    " # unitary vectors\n",
    "m_hat = detstats._m_unitary_vector(theta_ss, phi_ss, psi_ss) # (3,F,S,L)\n",
    "print(m_hat.shape)\n",
    "n_hat = detstats._n_unitary_vector(theta_ss, phi_ss, psi_ss) # (3,F,S,L)\n",
    "Omega_hat = detstats._Omega_unitary_vector(theta_ss, phi_ss) # (3,F,S,L)\n",
    "pi_hat = detstats._pi_unitary_vector(phis, thetas) # (3,P)\n",
    "\n",
    "# antenna pattern functions\n",
    "F_iplus, F_icross = detstats._antenna_pattern_functions(m_hat, n_hat, Omega_hat, \n",
    "                                                pi_hat) # (P,F,S,L)\n",
    "print(F_iplus.shape)\n",
    "\n",
    "# noise spectral density\n",
    "S_i = detstats._total_noise(cad, sigmas, hc_ss, hc_bg, fobs)\n",
    "\n",
    "# amplitudw\n",
    "amp = detstats._amplitude(hc_ss, fobs, \n",
    "                    dfobs) # (F,R,L)\n",
    "print(amp.shape)\n",
    "\n",
    "snr_ss_5d = detstats._snr_ss_5dim(amp, F_iplus, F_icross, iota_ss, dur, Phi0_ss, S_i, fobs) # (F,R,S,L)\n",
    "print(snr_ss_5d.shape)"
   ]
  },
  {
   "attachments": {},
   "cell_type": "markdown",
   "metadata": {},
   "source": [
    "The detect_ss_pta() function does all this, and also calculates detection probabilities. \n",
    "\n",
    "The only variable that may need changing is Fe_bar_guess. This is used by sympy.nsolve to solve for the threshold Fe statistic. If you use larger F or L, try 15 or 20. "
   ]
  },
  {
   "cell_type": "code",
   "execution_count": null,
   "metadata": {},
   "outputs": [],
   "source": [
    "gamma_ss, snr_ss, gamma_ssi = detstats.detect_ss_pta(pulsars, cad, dur, fobs, dfobs, hc_ss, hc_bg,\n",
    "                                                     theta_ss, phi_ss, Phi0_ss, iota_ss, psi_ss,\n",
    "                                                     snr_cython=False,\n",
    "                                                     gamma_cython=False, \n",
    "                                                     Fe_bar_guess=10, # you may need to adjust Fe_bar_guess\n",
    "                                                     ret_snr=True)"
   ]
  },
  {
   "attachments": {},
   "cell_type": "markdown",
   "metadata": {},
   "source": [
    "# Plot/Compare"
   ]
  },
  {
   "attachments": {},
   "cell_type": "markdown",
   "metadata": {},
   "source": [
    "I'll leave most of this to you, but here's one plot to get ya started!"
   ]
  },
  {
   "cell_type": "code",
   "execution_count": null,
   "metadata": {},
   "outputs": [],
   "source": [
    "fig, ax = holo.plot.figax(xlabel = 'Frequency, $f$ (1/yr',\n",
    "                          ylabel = 'Single Source SNR')\n",
    "\n",
    "xx = fobs*YR\n",
    "\n",
    "ax.scatter(xx, snr4, label='skymap SNR with iota=psi=None', alpha=0.5)\n",
    "ax.scatter(xx, np.diag(snr2), label='skymap SNR with random iota, psi=None', alpha=0.5)\n",
    "ax.scatter(xx, np.diag(snr3), label='skymap SNR with random iota, psi=None', alpha=0.5)\n",
    "ax.scatter(xx, snr_ss, label='Rosado SNR with random iota, psi', alpha=0.5)\n",
    "\n",
    "ax.legend()"
   ]
  },
  {
   "cell_type": "code",
   "execution_count": null,
   "metadata": {},
   "outputs": [],
   "source": []
  }
 ],
 "metadata": {
  "kernelspec": {
   "display_name": "holo310",
   "language": "python",
   "name": "python3"
  },
  "language_info": {
   "codemirror_mode": {
    "name": "ipython",
    "version": 3
   },
   "file_extension": ".py",
   "mimetype": "text/x-python",
   "name": "python",
   "nbconvert_exporter": "python",
   "pygments_lexer": "ipython3",
   "version": "3.10.10"
  }
 },
 "nbformat": 4,
 "nbformat_minor": 2
}
