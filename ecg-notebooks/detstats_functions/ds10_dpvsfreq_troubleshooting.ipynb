{
 "cells": [
  {
   "cell_type": "code",
   "execution_count": null,
   "metadata": {},
   "outputs": [],
   "source": [
    "%reload_ext autoreload\n",
    "%autoreload 2\n",
    "from importlib import reload\n",
    "\n",
    "import numpy as np\n",
    "import matplotlib.pyplot as plt\n",
    "import matplotlib.cm as cm\n",
    "import h5py\n",
    "\n",
    "from holodeck import plot, detstats, utils\n",
    "from holodeck.constants import YR, MSOL, MPC, GYR\n",
    "import holodeck as holo"
   ]
  },
  {
   "cell_type": "code",
   "execution_count": null,
   "metadata": {},
   "outputs": [],
   "source": [
    "fobs_cents, fobs_edges = utils.pta_freqs()\n",
    "sam = holo.sams.Semi_Analytic_Model() \n",
    "hard = holo.hardening.Fixed_Time_2PL_SAM(sam, 3*GYR)\n"
   ]
  },
  {
   "attachments": {},
   "cell_type": "markdown",
   "metadata": {},
   "source": [
    "## Get Strain Model"
   ]
  },
  {
   "cell_type": "code",
   "execution_count": null,
   "metadata": {},
   "outputs": [],
   "source": [
    "NLOUDEST = 10\n",
    "NREALS = 30"
   ]
  },
  {
   "cell_type": "code",
   "execution_count": null,
   "metadata": {},
   "outputs": [],
   "source": [
    "hc_ss, hc_bg, sspar, bgpar = sam.gwb(fobs_gw_edges=fobs_edges, realize=NREALS, \n",
    "                                     loudest=NLOUDEST, params=True)"
   ]
  },
  {
   "attachments": {},
   "cell_type": "markdown",
   "metadata": {},
   "source": [
    "# Get Psrs Model"
   ]
  },
  {
   "cell_type": "code",
   "execution_count": null,
   "metadata": {},
   "outputs": [],
   "source": [
    "NSKIES = 25\n",
    "NPSRS = 10"
   ]
  },
  {
   "cell_type": "code",
   "execution_count": null,
   "metadata": {},
   "outputs": [],
   "source": [
    "# for the 0th realization\n",
    "psrs, sigmin, sigmax, sigma = detstats.calibrate_one_pta(hc_bg[:,0], fobs_cents, NPSRS, ret_sig=True)\n",
    "print(f\"{sigmin=}, {sigmax=}, {sigma=}\")"
   ]
  },
  {
   "attachments": {},
   "cell_type": "markdown",
   "metadata": {},
   "source": [
    "## Noise Spectral Density\n",
    "Noise from all but one source"
   ]
  },
  {
   "cell_type": "code",
   "execution_count": null,
   "metadata": {},
   "outputs": [],
   "source": [
    "Sh_rest = detstats._Sh_rest_noise(hc_ss, hc_bg, fobs_cents)\n",
    "print(f\"{Sh_rest.shape=}\")"
   ]
  },
  {
   "cell_type": "code",
   "execution_count": null,
   "metadata": {},
   "outputs": [],
   "source": [
    "xx = fobs_cents * YR\n",
    "y1 = Sh_rest[:,:,0]\n",
    "label1 = 'S_h,rest (all but 1st loudest)'\n",
    "\n",
    "y2 = Sh_rest[:,:,9]\n",
    "label2 = 'S_h,rest (all but 10th loudest)'\n",
    "\n",
    "fig, ax = plot.figax(xlabel=plot.LABEL_GW_FREQUENCY_YR, ylabel='Power Spectral Density (Hz$^{-1}$)')\n",
    "h1 = plot.draw_med_conf(ax, xx, y1)\n",
    "h2 = plot.draw_med_conf(ax, xx, y2)\n",
    "ax.legend(handles=[h1, h2], labels=[label1, label2])"
   ]
  },
  {
   "cell_type": "code",
   "execution_count": null,
   "metadata": {},
   "outputs": [],
   "source": [
    "# Sh_rest = hc^2 / (12 pi^2 freqs^3)\n",
    "\n",
    "# power spectral density of single loudest source\n",
    "\n",
    "l1 = detstats._power_spectral_density(hc_ss[:,:,0], fobs_cents)\n",
    "l2 = detstats._power_spectral_density(hc_ss[:,:,9], fobs_cents)\n",
    "label3 = '1st loudest'\n",
    "label4 = '10th loudest'\n",
    "\n",
    "fig, ax = plot.figax(xlabel=plot.LABEL_GW_FREQUENCY_YR, ylabel='Power Spectral Density')\n",
    "h1 = plot.draw_med_conf(ax, xx, y1)\n",
    "h2 = plot.draw_med_conf(ax, xx, y2)\n",
    "c1 = h1[0].get_color()\n",
    "c2 = h2[0].get_color()\n",
    "ax.legend(handles=[h1, h2], labels=[label1, label2])\n",
    "for rr in range(NREALS):\n",
    "    h3 = ax.scatter(xx, l1[:,rr], ec=c1, fc=None, alpha=0.1)\n",
    "    h4 = ax.scatter(xx, l2[:,rr], ec=c2, fc=None, alpha=0.1)\n",
    "\n",
    "ax.legend(handles=[h1, h2, h3, h4], labels=[label1, label2, label3, label4])"
   ]
  },
  {
   "cell_type": "code",
   "execution_count": null,
   "metadata": {},
   "outputs": [],
   "source": [
    "dur = 1.0/fobs_cents[0]\n",
    "cad = 1.0/(2*fobs_cents[-1])\n",
    "sigmas = np.ones(NPSRS)*sigma\n",
    "\n",
    "rr=0\n",
    "\n",
    "y1 = detstats._total_noise(cad, sigmas, hc_ss[:,rr:rr+1], hc_bg[:,rr:rr+1], fobs_cents)[0,:,:,0]\n",
    "y2 = detstats._power_spectral_density(hc_ss[:,rr:rr+1,0], fobs_cents)\n",
    "y3 = detstats._white_noise(cad, sigmas) # (P,)\n",
    "label1 = 'total noise'\n",
    "label2 = 'hc-rest noise'\n",
    "label3 = 'white noise'\n",
    "# label4 = '10th loudest'\n",
    "print(f\"{y1.shape=}, {y2.shape=}, {y3.shape=}\")\n",
    "\n",
    "fig, ax = plot.figax(xlabel=plot.LABEL_GW_FREQUENCY_NHZ, ylabel='Noise Spectral Density (Hz$^{-3}$)')\n",
    "h1 = plot.draw_med_conf(ax, xx, y1)\n",
    "h2 = plot.draw_med_conf(ax, xx, y2)\n",
    "h3 = ax.axhline(y3[0], linestyle='--', color='k', alpha=0.5)\n",
    "# c1 = h1[0].get_color()\n",
    "# c2 = h2[0].get_color()\n",
    "# ax.legend(handles=[h1, h2], labels=[label1, label2])\n",
    "# for rr in range(NREALS):\n",
    "#     h3 = ax.scatter(xx, l1[:,rr], ec=c1, fc=None, alpha=0.1)\n",
    "#     h4 = ax.scatter(xx, l2[:,rr], ec=c2, fc=None, alpha=0.1)\n",
    "\n",
    "ax.legend(handles=[h1, h2, h3,], labels=[label1, label2, label3,])"
   ]
  },
  {
   "cell_type": "code",
   "execution_count": null,
   "metadata": {},
   "outputs": [],
   "source": [
    "print(l3)"
   ]
  },
  {
   "attachments": {},
   "cell_type": "markdown",
   "metadata": {},
   "source": [
    "## Total noise (Sh_rest + white noise)"
   ]
  },
  {
   "cell_type": "code",
   "execution_count": null,
   "metadata": {},
   "outputs": [],
   "source": []
  },
  {
   "attachments": {},
   "cell_type": "markdown",
   "metadata": {},
   "source": [
    "## SNR_ss"
   ]
  },
  {
   "cell_type": "code",
   "execution_count": null,
   "metadata": {},
   "outputs": [],
   "source": []
  },
  {
   "cell_type": "markdown",
   "metadata": {},
   "source": [
    "# Detection Probability"
   ]
  },
  {
   "cell_type": "code",
   "execution_count": null,
   "metadata": {},
   "outputs": [],
   "source": [
    "dp_ss, snr_ss, gamma_ssi = detstats.detect_ss_pta(psrs, fobs_cents, hc_ss, hc_bg, \n",
    "                                                  nskies=NSKIES, ret_snr=True)\n",
    "dp_bg, snr_bg = detstats.detect_bg_pta(psrs, fobs_cents, hc_bg, ret_snr=True)\n",
    "\n",
    "print(f\"{dp_ss.shape=}, {snr_ss.shape=}, {dp_bg.shape=}, {snr_bg.shape=}\")"
   ]
  },
  {
   "cell_type": "code",
   "execution_count": null,
   "metadata": {},
   "outputs": [],
   "source": [
    "fig, ax = plot.figax(xlabel=plot.LABEL_GW_FREQUENCY_YR, ylabel='Detection Probability')\n",
    "\n",
    "xx = fobs_cents*YR\n",
    "y1 = dp_bg[0] # 1\n",
    "y2 = gamma_ssi[:,0,:,0] # F, S\n",
    "y3 = dp_ss[0] # S\n",
    "label1 = 'BG Detprob'\n",
    "label2 = '1st Loudest Detprob, for each sky realization'\n",
    "label3 = 'Overall SS Detprob, for each sky realization'\n",
    "\n",
    "h1 = ax.axhline(y1)\n",
    "h2 = plot.draw_med_conf_color(ax, xx, y2, color='orange')\n",
    "for ss in range(NSKIES):\n",
    "    h3 = ax.axhline(y3[ss], color='tab:red', alpha=0.2)\n",
    "\n",
    "ax.legend(handles=[h1,h2,h3], labels=[label1, label2, label3])"
   ]
  },
  {
   "attachments": {},
   "cell_type": "markdown",
   "metadata": {},
   "source": [
    "# SNR"
   ]
  },
  {
   "cell_type": "code",
   "execution_count": null,
   "metadata": {},
   "outputs": [],
   "source": [
    "fig, ax = plot.figax(xlabel=plot.LABEL_GW_FREQUENCY_YR, ylabel='SNR')\n",
    "\n",
    "xx = fobs_cents*YR\n",
    "y1 = snr_bg[0] # F,\n",
    "y2 = snr_ss[:,0,:,0] # F, S\n",
    "# y3 = dp_ss[0] # S\n",
    "label1 = 'BG SNR'\n",
    "label2 = '1st Loudest SNR, for each sky realization'\n",
    "\n",
    "h1 = ax.axhline(y1)\n",
    "h2 = plot.draw_med_conf_color(ax, xx, y2, color='orange')\n",
    "# for ss in range(NSKIES):\n",
    "#     h3 = ax.axhline(y3[ss], color='tab:red', alpha=0.2)\n",
    "\n",
    "ax.legend(handles=[h1,h2,], labels=[label1, label2])"
   ]
  },
  {
   "cell_type": "code",
   "execution_count": null,
   "metadata": {},
   "outputs": [],
   "source": []
  }
 ],
 "metadata": {
  "kernelspec": {
   "display_name": "holo310",
   "language": "python",
   "name": "python3"
  },
  "language_info": {
   "codemirror_mode": {
    "name": "ipython",
    "version": 3
   },
   "file_extension": ".py",
   "mimetype": "text/x-python",
   "name": "python",
   "nbconvert_exporter": "python",
   "pygments_lexer": "ipython3",
   "version": "3.10.10"
  }
 },
 "nbformat": 4,
 "nbformat_minor": 2
}
