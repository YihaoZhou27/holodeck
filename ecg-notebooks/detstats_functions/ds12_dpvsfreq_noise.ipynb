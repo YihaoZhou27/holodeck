{
 "cells": [
  {
   "cell_type": "code",
   "execution_count": null,
   "metadata": {},
   "outputs": [],
   "source": [
    "%reload_ext autoreload\n",
    "%autoreload 2\n",
    "from importlib import reload\n",
    "\n",
    "import numpy as np\n",
    "import matplotlib.pyplot as plt\n",
    "import matplotlib.cm as cm\n",
    "import h5py\n",
    "import os\n",
    "\n",
    "from holodeck import plot, detstats, utils\n",
    "from holodeck.constants import YR, MSOL, MPC, GYR\n",
    "import holodeck as holo"
   ]
  },
  {
   "cell_type": "code",
   "execution_count": null,
   "metadata": {},
   "outputs": [],
   "source": [
    "SHAPE = None\n",
    "NREALS = 500\n",
    "NFREQS = 40\n",
    "NLOUDEST = 10\n",
    "\n",
    "CONSTRUCT = False\n",
    "JUST_DETSTATS = False\n",
    "SAVEFIG = True\n",
    "TOL=0.01\n",
    "MAXBADS=5\n",
    "\n",
    "RED_GAMMA = None\n",
    "RED_AMP = None\n",
    "\n",
    "NVARS = 21\n",
    "\n",
    "NPSRS = 40\n",
    "NSKIES = 100\n",
    "TARGET = 'mmb_scatter_dex' # EDIT AS NEEDED\n",
    "TITLE = plot.PARAM_KEYS[TARGET]  # EDIT AS NEEDED"
   ]
  },
  {
   "cell_type": "code",
   "execution_count": null,
   "metadata": {},
   "outputs": [],
   "source": [
    "def get_data(\n",
    "        target, nvars=NVARS, nreals=NREALS, nskies=NSKIES, shape=SHAPE, red_gamma = None, red2white=None,\n",
    "    path = '/Users/emigardiner/GWs/holodeck/output/anatomy_redz', ssn='_ssn',     \n",
    "):\n",
    "    load_data_from_file = path+f'/{target}_v{nvars}_r{nreals}_shape{str(shape)}/data_params.npz' \n",
    "    load_dets_from_file = path+f'/{target}_v{nvars}_r{nreals}_shape{str(shape)}/detstats_s{nskies}{ssn}' \n",
    "\n",
    "    if red_gamma is not None and red2white is not None:\n",
    "        load_dets_from_file = load_dets_from_file+f'_r2w{red2white:.1f}_rg{red_gamma:.1f}'\n",
    "    else:\n",
    "        load_dets_from_file = load_dets_from_file+f'_white'\n",
    "    load_dets_from_file = load_dets_from_file+'.npz'\n",
    "\n",
    "    if os.path.exists(load_data_from_file) is False:\n",
    "        err = f\"load data file '{load_data_from_file}' does not exist, you need to construct it.\"\n",
    "        raise Exception(err)\n",
    "    if os.path.exists(load_dets_from_file) is False:\n",
    "        err = f\"load dets file '{load_dets_from_file}' does not exist, you need to construct it.\"\n",
    "        raise Exception(err)\n",
    "    file = np.load(load_data_from_file, allow_pickle=True)\n",
    "    data = file['data']\n",
    "    params = file['params']\n",
    "    file.close()\n",
    "    print(target, \"got data\")\n",
    "    file = np.load(load_dets_from_file, allow_pickle=True)\n",
    "    print(target, \"loaded dets\")\n",
    "    print(file.files)\n",
    "    dsdat = file['dsdat']\n",
    "    file.close()\n",
    "\n",
    "    return data, params, dsdat"
   ]
  },
  {
   "cell_type": "code",
   "execution_count": null,
   "metadata": {},
   "outputs": [],
   "source": [
    "data, params, dsdat = get_data('mmb_scatter_dex')"
   ]
  },
  {
   "cell_type": "code",
   "execution_count": null,
   "metadata": {},
   "outputs": [],
   "source": [
    "def plot_dp(fobs_cents, dp_ss, dp_bg, gamma_ssi, ax_avg=(0,3)):\n",
    "    fig, ax = plot.figax(xlabel=plot.LABEL_GW_FREQUENCY_YR, ylabel='Detection Probability')\n",
    "\n",
    "    xx = fobs_cents*YR\n",
    "    y1 = dp_bg[0] # 1\n",
    "    y2 = gamma_ssi[:,:,:,:].reshape(NFREQS, NREALS*NSKIES*NLOUDEST) # F, R*S*L\n",
    "    y3 = dp_ss[0] # S\n",
    "    favg = np.average(\n",
    "        np.repeat(xx, NREALS*NSKIES*NLOUDEST).reshape(NFREQS, NREALS, NSKIES, NLOUDEST),\n",
    "        weights=gamma_ssi.reshape(NFREQS, NREALS, NSKIES, NLOUDEST), axis=ax_avg)\n",
    "    \n",
    "    label1 = 'BG Detprob'\n",
    "    label2 = 'Individual SS Detprob'\n",
    "    label3 = 'Overall SS Detprob'\n",
    "    label4 = 'dp-weighted $\\langle f \\\\rangle$'\n",
    "\n",
    "\n",
    "    h1 = ax.axhline(y1)\n",
    "    h2 = plot.draw_med_conf_color(ax, xx, y2, color='orange')\n",
    "    for ss in range(NSKIES):\n",
    "        h3 = ax.axhline(y3[ss], color='tab:red', alpha=0.2)\n",
    "    h4 = ax.axvline(np.median(favg), color='g')\n",
    "\n",
    "    ax.legend(handles=[h1,h2,h3,h4], labels=[label1, label2, label3, label4], loc='upper right')\n",
    "    ax.text(1.0,0., f\"{RED_AMP=}, {RED_GAMMA=}\", horizontalalignment='right', verticalalignment='bottom',\n",
    "            transform=ax.transAxes)\n",
    "    \n",
    "    return fig"
   ]
  },
  {
   "cell_type": "markdown",
   "metadata": {},
   "source": [
    "# average over all realizations"
   ]
  },
  {
   "cell_type": "code",
   "execution_count": null,
   "metadata": {},
   "outputs": [],
   "source": [
    "for pp in [0, 5, 10, 15, 20]:\n",
    "    fobs_cents = data[pp]['fobs_cents']\n",
    "    dp_ss = dsdat[pp]['dp_ss']\n",
    "    dp_bg = dsdat[pp]['dp_bg']\n",
    "    gamma_ssi = dsdat[pp]['gamma_ssi']\n",
    "\n",
    "    fig = plot_dp(fobs_cents, dp_ss, dp_bg, gamma_ssi, ax_avg=(0,1,2,3))\n",
    "    fig.text(0,0, f\"{TARGET}={params[pp][TARGET]}\", ha='left', va='bottom')"
   ]
  },
  {
   "cell_type": "markdown",
   "metadata": {},
   "source": [
    "# average over all skies, median of strains"
   ]
  },
  {
   "cell_type": "code",
   "execution_count": null,
   "metadata": {},
   "outputs": [],
   "source": [
    "for pp in [0, 5, 10, 15, 20]:\n",
    "    fobs_cents = data[pp]['fobs_cents']\n",
    "    dp_ss = dsdat[pp]['dp_ss']\n",
    "    dp_bg = dsdat[pp]['dp_bg']\n",
    "    gamma_ssi = dsdat[pp]['gamma_ssi']\n",
    "\n",
    "    fig = plot_dp(fobs_cents, dp_ss, dp_bg, gamma_ssi, ax_avg=(0,2,3))\n",
    "    fig.text(0,0, f\"{TARGET}={params[pp][TARGET]}\", ha='left', va='bottom')"
   ]
  },
  {
   "cell_type": "markdown",
   "metadata": {},
   "source": [
    "# average only over freqs and loudest, median of realizations"
   ]
  },
  {
   "cell_type": "code",
   "execution_count": null,
   "metadata": {},
   "outputs": [],
   "source": [
    "for pp in [0, 5, 10, 15, 20]:\n",
    "    fobs_cents = data[pp]['fobs_cents']\n",
    "    dp_ss = dsdat[pp]['dp_ss']\n",
    "    dp_bg = dsdat[pp]['dp_bg']\n",
    "    gamma_ssi = dsdat[pp]['gamma_ssi']\n",
    "\n",
    "    fig = plot_dp(fobs_cents, dp_ss, dp_bg, gamma_ssi, ax_avg=(0,3))\n",
    "    fig.text(0,0, f\"{TARGET}={params[pp][TARGET]}\", ha='left', va='bottom')"
   ]
  },
  {
   "cell_type": "code",
   "execution_count": null,
   "metadata": {},
   "outputs": [],
   "source": [
    "for pp in [0, 5, 10, 15, 20]:\n",
    "    fobs_cents = data[pp]['fobs_cents']\n",
    "    dp_ss = dsdat[pp]['dp_ss']\n",
    "    dp_bg = dsdat[pp]['dp_bg']\n",
    "    gamma_ssi = dsdat[pp]['gamma_ssi']\n",
    "\n",
    "    fig = plot_dp(fobs_cents, dp_ss, dp_bg, gamma_ssi, ax_avg=(0,1,2,3))\n",
    "    fig.text(0,0, f\"{TARGET}={params[pp][TARGET]}\", ha='left', va='bottom')"
   ]
  },
  {
   "cell_type": "code",
   "execution_count": null,
   "metadata": {},
   "outputs": [],
   "source": [
    "print(fobs_cents.shape)\n",
    "print(gamma_ssi.shape)\n",
    "xx = np.repeat(fobs_cents, NREALS*NSKIES*NLOUDEST)*YR\n",
    "yy = gamma_ssi.flatten()\n",
    "favg = np.average(xx.reshape(NFREQS, NREALS, NSKIES, NLOUDEST),\n",
    "                   weights=yy.reshape(NFREQS, NREALS, NSKIES, NLOUDEST), axis=(0,-1))\n",
    "# print(f\"{fmean:.2e}\")"
   ]
  },
  {
   "cell_type": "code",
   "execution_count": null,
   "metadata": {},
   "outputs": [],
   "source": [
    "print(favg.shape)"
   ]
  },
  {
   "cell_type": "code",
   "execution_count": null,
   "metadata": {},
   "outputs": [],
   "source": [
    "fig, ax = plot.figax(xlabel='freq', ylabel='dpssi')\n",
    "ax.scatter(xx, yy, s=4, alpha=0.1)\n",
    "plot.draw_med_conf(ax, fobs_cents*YR, gamma_ssi.reshape(NFREQS, NREALS*NSKIES*NLOUDEST))\n",
    "ax.axvline(np.median(favg), color='green')"
   ]
  },
  {
   "cell_type": "code",
   "execution_count": null,
   "metadata": {},
   "outputs": [],
   "source": [
    "for ii in range(300):\n",
    "    rr = int(np.random.uniform(0,500))\n",
    "    ss = int(np.random.uniform(0,100))\n",
    "    ax.axvline(favg[rr,ss], linestyle='dashed', color='green', alpha=0.5)\n",
    "fig"
   ]
  },
  {
   "cell_type": "code",
   "execution_count": null,
   "metadata": {},
   "outputs": [],
   "source": [
    "_, fobs_edges = holo.utils.pta_freqs()\n",
    "dp_edges = np.geomspace(10**-6, 10**0, num=20)\n",
    "hist,  dpe, ffe,  = np.histogram2d(yy.flatten(),xx.flatten(),  bins=(dp_edges, fobs_edges, ))\n",
    "plt.pcolormesh(fobs_edges, (dp_edges), np.log10(hist),)"
   ]
  },
  {
   "cell_type": "code",
   "execution_count": null,
   "metadata": {},
   "outputs": [],
   "source": [
    "\n",
    "weights = np.array([2,3,2,1,0.05,0.01,0,0,0,0])\n",
    "arr = np.linspace(1,10,len(weights))"
   ]
  },
  {
   "cell_type": "code",
   "execution_count": null,
   "metadata": {},
   "outputs": [],
   "source": [
    "weights = (np.repeat(weights, 5) + np.random.uniform(-0.1,0.1,50)).reshape(10,5) # 5 realizations\n",
    "arr = np.repeat(arr, 5).reshape(10,5)"
   ]
  },
  {
   "cell_type": "code",
   "execution_count": null,
   "metadata": {},
   "outputs": [],
   "source": [
    "print(np.average(arr, weights=weights))\n",
    "print(np.average(arr, weights=weights, axis=0))"
   ]
  },
  {
   "cell_type": "code",
   "execution_count": null,
   "metadata": {},
   "outputs": [],
   "source": []
  }
 ],
 "metadata": {
  "kernelspec": {
   "display_name": "holo310",
   "language": "python",
   "name": "python3"
  },
  "language_info": {
   "codemirror_mode": {
    "name": "ipython",
    "version": 3
   },
   "file_extension": ".py",
   "mimetype": "text/x-python",
   "name": "python",
   "nbconvert_exporter": "python",
   "pygments_lexer": "ipython3",
   "version": "3.10.10"
  }
 },
 "nbformat": 4,
 "nbformat_minor": 2
}
