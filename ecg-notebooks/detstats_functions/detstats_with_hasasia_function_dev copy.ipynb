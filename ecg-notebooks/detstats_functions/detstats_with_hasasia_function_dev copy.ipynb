{
 "cells": [
  {
   "cell_type": "code",
   "execution_count": 1,
   "metadata": {},
   "outputs": [],
   "source": [
    "# %load ../init.ipy\n",
    "%reload_ext autoreload\n",
    "%autoreload 2\n",
    "from importlib import reload\n",
    "\n",
    "import numpy as np\n",
    "import holodeck as holo\n",
    "import holodeck.single_sources as ss\n",
    "from holodeck.constants import YR\n",
    "import matplotlib.pyplot as plt\n",
    "import scipy as sp\n",
    "\n",
    "import hasasia.sensitivity as sens\n",
    "import hasasia.sim as sim\n",
    "import hasasia as has"
   ]
  },
  {
   "attachments": {},
   "cell_type": "markdown",
   "metadata": {},
   "source": [
    "# 1 Strain Model"
   ]
  },
  {
   "cell_type": "code",
   "execution_count": 2,
   "metadata": {},
   "outputs": [
    {
     "name": "stdout",
     "output_type": "stream",
     "text": [
      "using default mtot, mrat, and redz\n",
      "09:48:18 INFO : zero_coalesced=True, zero_stalled=False [sam.py:dynamic_binary_number]\n",
      "09:48:18 INFO : Stalled SAM bins based on GMT: 1.98e+05/4.99e+05 = 3.96e-01 [sam.py:static_binary_density]\n",
      "09:48:18 INFO : Adding MMbulge scatter (3.4000e-01) [sam.py:static_binary_density]\n",
      "09:48:18 INFO : \tdens bef: (1.28e-114, 5.22e-53, 2.59e-13, 2.12e-03, 1.66e-02, 2.92e-02, 4.47e-02) [sam.py:static_binary_density]\n",
      "09:48:25 INFO : Scatter added after 6.029679 sec [sam.py:static_binary_density]\n",
      "09:48:25 INFO : \tdens aft: (6.14e-17, 7.92e-09, 2.90e-06, 2.19e-03, 1.69e-02, 2.92e-02, 4.27e-02) [sam.py:static_binary_density]\n",
      "09:48:25 INFO : \tmass: 8.56e-02 ==> 8.54e-02 || change = -1.8507e-03 [sam.py:static_binary_density]\n",
      "09:48:25 INFO : zeroing out 1.98e+05/4.99e+05 = 3.96e-01 systems stalled from GMT [sam.py:static_binary_density]\n",
      "09:48:25 INFO : fraction of coalesced binaries: 4.33e+05/1.25e+07 = 3.47e-02 [sam.py:dynamic_binary_number]\n",
      "09:48:25 WARNING : WARNING: _stalled_ binaries are not being accounted for in `dynamic_binary_number`! [sam.py:dynamic_binary_number]\n"
     ]
    }
   ],
   "source": [
    "edges, number, fobs, exname = ss.example5(print_test=False)\n",
    "hc_bg, hc_ss, ssidx, hsamp, bgpar, sspar = ss.ss_by_cdefs(edges, number, 30, params=True)\n",
    "# example 5\n",
    "dur = 10.0*YR\n",
    "cad = .2*YR"
   ]
  },
  {
   "attachments": {},
   "cell_type": "markdown",
   "metadata": {},
   "source": [
    "# 2 Pulsar Setup\n",
    "## 2.1 Make pulsars with hasasia"
   ]
  },
  {
   "cell_type": "code",
   "execution_count": 3,
   "metadata": {},
   "outputs": [
    {
     "name": "stdout",
     "output_type": "stream",
     "text": [
      "dict_keys(['toas', 'toaerrs', 'phi', 'theta', 'pdist', 'N', 'designmatrix'])\n"
     ]
    }
   ],
   "source": [
    "num = 4\n",
    "phis = np.random.uniform(0, 2*np.pi, size = num)\n",
    "thetas = np.random.uniform(np.pi/2, np.pi/2, size = num)\n",
    "# sim uses dur in yrs and cad in #/yr\n",
    "# make list of hasasia.Pulsar objects\n",
    "pulsars = sim.sim_pta(timespan = dur/YR, cad = 1/(cad/YR), sigma = 1e-7,\n",
    "                      phi = phis, theta = thetas)\n",
    "print(pulsars[0].__dict__.keys())"
   ]
  },
  {
   "cell_type": "code",
   "execution_count": 4,
   "metadata": {},
   "outputs": [
    {
     "name": "stdout",
     "output_type": "stream",
     "text": [
      "[1.57079633 1.57079633 1.57079633 1.57079633]\n",
      "[3.16055523 1.44115487 4.21799526 1.88508737]\n"
     ]
    }
   ],
   "source": [
    "print(thetas)\n",
    "print(phis)"
   ]
  },
  {
   "attachments": {},
   "cell_type": "markdown",
   "metadata": {},
   "source": [
    "Make spectra"
   ]
  },
  {
   "cell_type": "code",
   "execution_count": 5,
   "metadata": {},
   "outputs": [],
   "source": [
    "spectra = []\n",
    "\n",
    "for pul in pulsars:\n",
    "    spec = sens.Spectrum(pul, freqs=fobs) # spectrum object\n",
    "    spec.NcalInv # calculate inverse noise weighted transmission function along the way\n",
    "    spectra.append(spec)\n",
    "    # add white noise and add red noise here? \n",
    "    # add_noise_power(noise)\n",
    "    # add_red_noise_power(A=None, gamma=None, vals=False)\n",
    "    # add_white_noise_power(sigma=None, dt = None, vals=False)"
   ]
  },
  {
   "attachments": {},
   "cell_type": "markdown",
   "metadata": {},
   "source": [
    "## 2.2 Overlap Reduction Function\n",
    "\n",
    "Using Rosado eq.s:\n",
    "$$ \\Gamma_{ij} = \\frac{3}{2} \\gamma_{ij} \\ln (\\gamma_{ij}) - \\frac{1}{4} \\gamma_{ij} + \\frac{1}{2} + \\frac{1}{2}\\delta_{ij} $$\n",
    "$$ \\gamma_{ij} = [1-\\cos (\\theta_{ij})]/2$$"
   ]
  },
  {
   "cell_type": "code",
   "execution_count": 6,
   "metadata": {},
   "outputs": [],
   "source": [
    "def gammaij_from_thetaij(theta_ij):\n",
    "    \"\"\" Calcualte gamma_ij for two pulsars of relative angle theta_ij.\n",
    "    \n",
    "    Parameters\n",
    "    ----------\n",
    "    theta_ij : scalar \n",
    "        Relative angular position between the ith and jth pulsars.\n",
    "\n",
    "    Returns\n",
    "    -------\n",
    "    gamma_ij : scalar \n",
    "        [1 - cos(theta_ij)]/2\n",
    "\n",
    "    \"\"\"\n",
    "    return (1-np.cos(theta_ij))/2\n",
    "\n",
    "\n",
    "def dirac_delta(i,j):\n",
    "    \"\"\" Calculate the dirac delta function of i,j.\n",
    "    Parameters\n",
    "    ----------\n",
    "    i : int\n",
    "    j : int\n",
    "\n",
    "    Returns\n",
    "    ------- \n",
    "    dirac_ij : int\n",
    "        Dirac delta function of i and j\n",
    "\n",
    "    \"\"\"\n",
    "    if(i==j): return 1\n",
    "    else: return 0\n",
    "\n",
    "def relative_angle(theta_i, phi_i, theta_j, phi_j):\n",
    "    \"\"\" Calcualte relative angle between two pulsars i and j.\n",
    "    \n",
    "    Parameters\n",
    "    ----------\n",
    "    theta_i : scalar \n",
    "        Polar angular position in the sky of the ith pulsar.\n",
    "    phi_i : scalar\n",
    "        Azimuthal angular position in the sky of the ith pulsar.\n",
    "    theta_j : scalar \n",
    "        Polar angular position in the sky of the jth pulsar.\n",
    "    phi_j : scalara\n",
    "        Azimuthal angular position in the sky of the jth pulsar.\n",
    "\n",
    "    Returns\n",
    "    -------\n",
    "    theta_ij : scalar \n",
    "        Relative angular position between the ith and jth pulsar.\n",
    "\n",
    "    \"\"\"\n",
    "    \n",
    "    theta_ij = np.arccos(np.cos(phi_i)*np.cos(phi_j) \n",
    "                      + np.sin(phi_i)*np.sin(phi_j)*np.cos(theta_i - theta_j))\n",
    "    \n",
    "    return theta_ij\n",
    "\n",
    "def orf_ij(i, j, theta_ij):\n",
    "    \"\"\" Calculate the overlap reduction function Gamma_i,j as a function of theta_i, theta_j, i, and j.\n",
    "    \n",
    "    Parameters\n",
    "    ----------\n",
    "    theta_i : scalar\n",
    "        Angular position of the ith pulsar.\n",
    "    theta_j : scalar\n",
    "        Angular position of the jth pulsar.\n",
    "    i : int\n",
    "        index of the ith pulsar\n",
    "    j : int\n",
    "        index of the jth pulsar\n",
    "\n",
    "    Returns\n",
    "    -------\n",
    "    Gamma : scalar\n",
    "        The overlap reduction function of the ith and jth pulsars.\n",
    "\n",
    "\n",
    "    Follows Rosado et al. 2015 Eq. (24)\n",
    "    \"\"\"\n",
    "    dirac_ij = dirac_delta(i, j)\n",
    "    gamma_ij = gammaij_from_thetaij(theta_ij)\n",
    "    \n",
    "    Gamma = (3/2 * gamma_ij *np.log(gamma_ij)\n",
    "            - 1/4 * gamma_ij\n",
    "            + 1/2 + dirac_ij)\n",
    "    if(np.isnan(Gamma) and i!=j):\n",
    "        print('Gamma_%d,%d is nan, set to 0' % (i,j))\n",
    "        return 0\n",
    "    return Gamma\n",
    "\n",
    "\n",
    "def orf_all(pulsars):\n",
    "    \"\"\" Calculate the overlap reduction function matrix Gamma for a list of hasasia.Pulsar objects\n",
    "\n",
    "    Paramters\n",
    "    ---------\n",
    "    pulsars : (P,) list of hasasia.Pulsar objects.\n",
    "\n",
    "    Returns\n",
    "    -------\n",
    "    Gamma : (P,P) NDarray\n",
    "        Overlap reduction function matrix for all pulsars i,j with j>i\n",
    "        Only for j>1, 0 for j<=i\n",
    "\n",
    "    \"\"\"\n",
    "\n",
    "    Gamma = np.zeros((len(pulsars), len(pulsars)))\n",
    "    for ii in range(len(pulsars)):\n",
    "        for jj in range(len(pulsars)):\n",
    "            if (jj>ii): # 0 otherwise, allows sum over all\n",
    "                # calculate angle between two vectors.\n",
    "                theta_ij =  relative_angle(pulsars[ii].theta, pulsars[ii].phi,\n",
    "                                           pulsars[jj].theta, pulsars[jj].phi)\n",
    "                print('theta_ij', theta_ij)\n",
    "                # find ORF\n",
    "                Gamma[ii,jj] = orf_ij(ii, jj, theta_ij)\n",
    "    \n",
    "    return Gamma\n"
   ]
  },
  {
   "cell_type": "code",
   "execution_count": 7,
   "metadata": {},
   "outputs": [
    {
     "name": "stdout",
     "output_type": "stream",
     "text": [
      "theta_ij 1.719400365245179\n",
      "theta_ij 1.0574400293490243\n",
      "theta_ij 1.2754678632499987\n",
      "theta_ij 2.776840394594203\n",
      "theta_ij 0.4439325019951806\n",
      "theta_ij 2.3329078925990228\n",
      "[[ 0.         -0.12145134 -0.08599086 -0.14006644]\n",
      " [ 0.          0.          0.20970316  0.26783416]\n",
      " [ 0.          0.          0.          0.07550404]\n",
      " [ 0.          0.          0.          0.        ]]\n"
     ]
    }
   ],
   "source": [
    "Gamma = orf_all(pulsars)\n",
    "print(Gamma)"
   ]
  },
  {
   "cell_type": "markdown",
   "metadata": {},
   "source": [
    "Using hasasia.GWBSensitivityCurve"
   ]
  },
  {
   "cell_type": "code",
   "execution_count": 8,
   "metadata": {},
   "outputs": [
    {
     "name": "stdout",
     "output_type": "stream",
     "text": [
      "dict_keys(['_H_0', 'Npsrs', 'phis', 'thetas', 'Tspan', 'freqs', 'SnI', 'ThetaIJ', 'chiIJ', 'pairs', 'chiRSS', 'T_IJ'])\n",
      "[-0.12145134 -0.08599086 -0.14006644  0.20970316  0.26783416  0.07550404]\n"
     ]
    }
   ],
   "source": [
    "scGWB = sens.GWBSensitivityCurve(spectra) # orf='hd'\n",
    "print(scGWB.__dict__.keys())\n",
    "print(scGWB.chiIJ) # not this!!!"
   ]
  },
  {
   "attachments": {},
   "cell_type": "markdown",
   "metadata": {},
   "source": [
    "## 2.3 Noise spectral density $P_i$ \n",
    "$$ P_i = 2 \\Delta t \\sigma_i^2 $$"
   ]
  },
  {
   "cell_type": "code",
   "execution_count": 9,
   "metadata": {},
   "outputs": [],
   "source": [
    "def white_noise(delta_t, sigma_i):\n",
    "    \"\"\" Calculate the white noise for a given pulsar 2 /Delta t sigma_i^2\n",
    "    \n",
    "    Parameters\n",
    "    ----------\n",
    "    delta_t : scalar\n",
    "        Detection cadence, in seconds.\n",
    "    sigma_i : scalar\n",
    "        Error/stdev/variance? for the ith pulsar, in seconds.\n",
    "\n",
    "    Returns\n",
    "    -------\n",
    "    P_i : scalar\n",
    "        Noise spectral density for the ith pulsar, for bg detection.\n",
    "        For single source detections, the noise spectral density S_i must also \n",
    "        include red noise from all but the loudest single sources, S_h,rest.\n",
    "\n",
    "    \"\"\"\n",
    "    P_i = 2 * delta_t * sigma_i**2\n",
    "    return P_i"
   ]
  },
  {
   "cell_type": "code",
   "execution_count": 10,
   "metadata": {},
   "outputs": [
    {
     "name": "stdout",
     "output_type": "stream",
     "text": [
      "P_i = [1.262304e-07 1.262304e-07 1.262304e-07 1.262304e-07] s^3 = [4.01653964e-30 4.01653964e-30 4.01653964e-30 4.01653964e-30]  yrs^3\n"
     ]
    }
   ],
   "source": [
    "sigmas = np.zeros(num)\n",
    "for ii in range(num):\n",
    "    sigmas[ii] = np.mean(pulsars[ii].toaerrs)\n",
    "noise = white_noise(cad, sigmas) \n",
    "print('P_i =', noise, 's^3 =', noise/YR**3,' yrs^3')"
   ]
  },
  {
   "attachments": {},
   "cell_type": "markdown",
   "metadata": {},
   "source": [
    "# 3 Background Signal\n",
    "## 3.1 Power Spectral Density\n",
    "$S_h$, the one-sided power spectral density of the GW signal in the timing residuals\n",
    "$$ S_h = \\frac{h_c^2}{12 \\pi ^2 f_k^3}$$"
   ]
  },
  {
   "cell_type": "code",
   "execution_count": 11,
   "metadata": {},
   "outputs": [],
   "source": [
    "def spectral_density(hc_bg, freqs):\n",
    "    \"\"\" Calculate the spectral density S_h(f_k) ~ S_h0(f_k) at the kth frequency\n",
    "\n",
    "    Parameters\n",
    "    ----------\n",
    "    hc_bg : (F,) 1D array of scalars\n",
    "        Characteristic strain of the background at each frequency. \n",
    "    freqs : (F,) 1Darray of scalars\n",
    "        Frequency bin centers corresponding to each strain\n",
    "\n",
    "    Returns\n",
    "    -------\n",
    "    S_h : (F,) 1Darray of scalars\n",
    "        Actual (S_h) or ~construction (S_h0) value of the background spectral density. \n",
    "        In units of [freqs]^-3\n",
    "    \"\"\"\n",
    "\n",
    "    S_h = hc_bg**2 / (12 * np.pi**2 * freqs**3)\n",
    "    return S_h"
   ]
  },
  {
   "cell_type": "code",
   "execution_count": 12,
   "metadata": {},
   "outputs": [
    {
     "name": "stdout",
     "output_type": "stream",
     "text": [
      "[1.07797188e-05 4.05009086e-07 6.06580107e-08 1.39978273e-08\n",
      " 5.89433198e-09 3.05502768e-09 1.04619541e-09 7.16789428e-10\n",
      " 2.69385994e-10 2.66268686e-10 1.07703171e-10 5.88000101e-11\n",
      " 6.56569145e-11 4.63356249e-11 1.86827682e-11 3.65488772e-11\n",
      " 7.70698933e-12 8.23810291e-12 5.50306346e-12 4.33906126e-12\n",
      " 2.69577384e-12 1.43835963e-12 8.07115048e-13 1.44229870e-12\n",
      " 1.21022812e-12]\n"
     ]
    }
   ],
   "source": [
    "Sh_bg = spectral_density(hc_bg[:,0], fobs) # spectral density of bg, using 0th realization\n",
    "Sh0_bg = Sh_bg # approximation used in Rosado et al. 2015\n",
    "print(Sh_bg)"
   ]
  },
  {
   "attachments": {},
   "cell_type": "markdown",
   "metadata": {},
   "source": [
    "## 3.2 mu_1\n",
    "$$\\mu_1 = 1\\sum_f \\sum_{ij} \\frac{\\Gamma_{ij}^2 S_h S_{h0}}{[P_i + S_{h0}] [P_j + S_{h0}] + \\Gamma_{ij}^2 S_{h0}^2} $$\n"
   ]
  },
  {
   "cell_type": "code",
   "execution_count": 13,
   "metadata": {},
   "outputs": [],
   "source": [
    "def mean1_Bstatistic_loops(noise, Gamma, Sh_bg, Sh0_bg):\n",
    "    \"\"\" Calculate mu_1 for the background, by summing over all pulsars and frequencies.\n",
    "    Assuming the B statistic, which maximizes S/N_B = mu_1/sigma_1\n",
    "    \n",
    "    Parameters\n",
    "    ----------\n",
    "    noise : (P,) 1darray of scalars\n",
    "        Noise spectral density of each pulsar.\n",
    "    Gamma : (P,P,) 2Darray of scalars\n",
    "        Overlap reduction function for j>i, 0 otherwise.\n",
    "    Sh_bg : (F,) 1Darray of scalars\n",
    "        Spectral density in the background.\n",
    "    Sh0_bg : (F,) 1Darray of scalars\n",
    "        Value of spectral density used to construct the statistic.\n",
    "\n",
    "    Returns\n",
    "    -------\n",
    "    mu_1B : \n",
    "        Expected value for the B statistic\n",
    "\n",
    "    Follows Eq. (A16) from Rosado et al. 2015.\n",
    "    \"\"\"\n",
    "    mu_1B = 0\n",
    "    for ii in range(len(noise)):\n",
    "        P_i = noise[ii]\n",
    "        for jj in range(len(noise)): \n",
    "            if(jj>ii):\n",
    "                P_j = noise[jj]\n",
    "                Gamma_ij = Gamma[ii,jj]\n",
    "                for kk in range(len(Sh_bg)):\n",
    "                    Sh = Sh_bg[kk]\n",
    "                    Sh0 = Sh0_bg[kk]\n",
    "                    mu_1B += ((Gamma_ij**2 * Sh * Sh0)\n",
    "                            /((P_i+Sh0) * (P_j+Sh0) \n",
    "                                + Gamma_ij**2 * Sh0**2))\n",
    "    mu_1B *= 2\n",
    "    return mu_1B\n",
    "\n",
    "def mean1_Bstatistic_ndars(noise, Gamma, Sh_bg, Sh0_bg):\n",
    "    \"\"\" Calculate mu_1 for the background, by summing over all pulsars and frequencies.\n",
    "    Assuming the B statistic, which maximizes S/N_B = mu_1/sigma_1\n",
    "    \n",
    "    Parameters\n",
    "    ----------\n",
    "    noise : (P,) 1darray of scalars\n",
    "        Noise spectral density of each pulsar.\n",
    "    Gamma : (P,P,) 2Darray of scalars\n",
    "        Overlap reduction function for jj>ii, 0 otherwise.\n",
    "    Sh_bg : (F,) 1Darray of scalars\n",
    "        Spectral density in the background.\n",
    "    Sh0_bg : (F,) 1Darray of scalars\n",
    "        Value of spectral density used to construct the statistic.\n",
    "\n",
    "    Returns\n",
    "    -------\n",
    "    mu_1B : \n",
    "        Expected value for the B statistic\n",
    "\n",
    "    Follows Eq. (A16) from Rosado et al. 2015.\n",
    "    \"\"\"\n",
    "    \n",
    "    # to get sum term in shape (P,P,F) for ii,jj,kk we want:\n",
    "    # Gamma in shape (P,P,1)\n",
    "    # Sh0 and Sh in shape (1,1,F)\n",
    "    # P_i in shape (P,1,1)\n",
    "    # P_j in shape (1,P,1)\n",
    "\n",
    "    numer = (Gamma[:,:,np.newaxis] **2 \n",
    "            * Sh_bg[np.newaxis, np.newaxis, :]\n",
    "            * Sh0_bg[np.newaxis, np.newaxis, :])\n",
    "    denom = ((noise[:, np.newaxis, np.newaxis] + Sh0_bg[np.newaxis,np.newaxis,:])\n",
    "               * (noise[np.newaxis, :, np.newaxis] + Sh0_bg[np.newaxis,np.newaxis,:])\n",
    "               + Gamma[:,:,np.newaxis]**2 * Sh0_bg[np.newaxis, np.newaxis, :]**2)\n",
    "    \n",
    "    # should not need this part if Gamma takes all jj<=ii parts to zero\n",
    "    sum = np.sum(numer/denom)\n",
    "    mu_1B = 2*sum\n",
    "    return mu_1B\n"
   ]
  },
  {
   "cell_type": "code",
   "execution_count": 14,
   "metadata": {},
   "outputs": [
    {
     "name": "stdout",
     "output_type": "stream",
     "text": [
      "0.5277602241930359 0.5277602241930358\n"
     ]
    }
   ],
   "source": [
    "mu_1B_loops = mean1_Bstatistic_loops(noise, Gamma, Sh_bg, Sh0_bg)\n",
    "mu_1B = mean1_Bstatistic_ndars(noise, Gamma, Sh_bg, Sh0_bg)\n",
    "print(mu_1B_loops, mu_1B)"
   ]
  },
  {
   "attachments": {},
   "cell_type": "markdown",
   "metadata": {},
   "source": [
    "## 3.3 sigma_0\n",
    "$$ \\sigma_0^2 = 2\\sum_f \\sum_{ij} \\frac{\\Gamma_{ij}^2 S_{h0}^2 P_i P_j  }{\\big[ [P_i + S_{h0}] [P_j +S_{h0}] + \\Gamma_{ij}^2 S_{h0}^2  \\big]^2  } $$\n",
    "\n"
   ]
  },
  {
   "cell_type": "code",
   "execution_count": 15,
   "metadata": {},
   "outputs": [],
   "source": [
    "def sigma0_Bstatistic_loops(noise, Gamma, Sh_bg, Sh0_bg):\n",
    "    \"\"\" Calculate sigma_1 for the background, by summing over all pulsars and frequencies.\n",
    "    Assuming the B statistic, which maximizes S/N_B = mu_1/sigma_1\n",
    "    \n",
    "    Parameters\n",
    "    ----------\n",
    "    noise : (P,) 1darray of scalars\n",
    "        Noise spectral density of each pulsar.\n",
    "    Gamma : (P,P,) 2Darray of scalars\n",
    "        Overlap reduction function for j>i, 0 otherwise.\n",
    "    Sh_bg : (F,) 1Darray of scalars\n",
    "        Spectral density in the background.\n",
    "    Sh0_bg : (F,) 1Darray of scalars\n",
    "        Value of spectral density used to construct the statistic.\n",
    "\n",
    "    Returns\n",
    "    -------\n",
    "    sigma_0B : Scalar\n",
    "        \n",
    "    \n",
    "    Follows Eq. (A17) from Rosado et al. 2015.\n",
    "    \"\"\"\n",
    "\n",
    "    sigma_0B = 0 # sigma_1 squared\n",
    "    for ii in range(len(noise)):\n",
    "        P_i = noise[ii]\n",
    "        for jj in range(len(noise)): \n",
    "            if(jj>ii):\n",
    "                P_j = noise[jj]\n",
    "                Gamma_ij = Gamma[ii,jj]\n",
    "                for kk in range(len(Sh_bg)):\n",
    "                    Sh0 = Sh0_bg[kk]\n",
    "                    numer = Gamma_ij**2 * Sh0**2 * P_i * P_j\n",
    "                    denom = ((P_i + Sh0) * (P_j + Sh0) \n",
    "                             + Gamma_ij**2 * Sh0**2)**2\n",
    "                    sigma_0B += (numer/denom)\n",
    "    \n",
    "    sigma_0B = np.sqrt(2*sigma_0B)\n",
    "    return sigma_0B\n",
    "\n",
    "\n",
    "def sigma0_Bstatistic_ndars(noise, Gamma, Sh_bg, Sh0_bg):\n",
    "    \"\"\" Calculate sigma_1 for the background, by summing over all pulsars and frequencies.\n",
    "    Assuming the B statistic, which maximizes S/N_B = mu_1/sigma_1\n",
    "    \n",
    "    Parameters\n",
    "    ----------\n",
    "    noise : (P,) 1darray of scalars\n",
    "        Noise spectral density of each pulsar.\n",
    "    Gamma : (P,P,) 2Darray of scalars\n",
    "        Overlap reduction function for j>i, 0 otherwise.\n",
    "    Sh_bg : (F,) 1Darray of scalars\n",
    "        Spectral density in the background.\n",
    "    Sh0_bg : (F,) 1Darray of scalars\n",
    "        Value of spectral density used to construct the statistic.\n",
    "\n",
    "    Returns\n",
    "    -------\n",
    "    sigma_0B : Scalar\n",
    "        \n",
    "\n",
    "    Follows Eq. (A17) from Rosado et al. 2015.\n",
    "    \"\"\"\n",
    "\n",
    "    # to get sum term in shape (P,P,F) for ii,jj,kk we want:\n",
    "    # Gamma in shape (P,P,1)\n",
    "    # Sh0 and Sh in shape (1,1,F)\n",
    "    # P_i in shape (P,1,1)\n",
    "    # P_j in shape (1,P,1)\n",
    "\n",
    "    numer = (Gamma[:,:,np.newaxis]**2 * Sh0_bg[np.newaxis,np.newaxis,:]**2 \n",
    "             * noise[:,np.newaxis,np.newaxis] * noise[np.newaxis,:,np.newaxis])\n",
    "    denom = ((noise[:,np.newaxis,np.newaxis] + Sh0_bg[np.newaxis, np.newaxis,:])\n",
    "              * (noise[np.newaxis,:,np.newaxis] + Sh0_bg[np.newaxis,np.newaxis,:])\n",
    "             + Gamma[:,:,np.newaxis]**2 * Sh0_bg[np.newaxis,np.newaxis,:]**2)**2\n",
    "    \n",
    "    sum = np.sum(numer/denom)\n",
    "    sigma_0B = np.sqrt(2*sum)\n",
    "    return sigma_0B\n",
    "\n"
   ]
  },
  {
   "cell_type": "code",
   "execution_count": 16,
   "metadata": {},
   "outputs": [
    {
     "name": "stdout",
     "output_type": "stream",
     "text": [
      "0.17072803645554616 0.17072803645554613\n"
     ]
    }
   ],
   "source": [
    "sigma_0B_loops = sigma0_Bstatistic_loops(noise, Gamma, Sh_bg, Sh0_bg)\n",
    "sigma_0B = sigma0_Bstatistic_ndars(noise, Gamma, Sh_bg, Sh0_bg)\n",
    "print(sigma_0B_loops, sigma_0B)"
   ]
  },
  {
   "attachments": {},
   "cell_type": "markdown",
   "metadata": {},
   "source": [
    "## 3.4 sigma_1\n",
    "$$ \\sigma_1^2 = 2 \\sum_f \\sum_{ij} \\frac{\\Gamma_{ij}^2 S_{h0}^2 \\big[ [P_i + S_h] [P_j + S_h] + \\Gamma_{ij}^2 S_h^2   \\big]  }{\\big[[P_i + S_{h0}][P_j + S_{h0}] + \\Gamma_{ij}^2 S_{h0}^2  \\big]^2  } $$"
   ]
  },
  {
   "cell_type": "code",
   "execution_count": 17,
   "metadata": {},
   "outputs": [],
   "source": [
    "def sigma1_Bstatistic_loops(noise, Gamma, Sh_bg, Sh0_bg):\n",
    "    \"\"\" Calculate sigma_1 for the background, by summing over all pulsars and frequencies.\n",
    "    Assuming the B statistic, which maximizes S/N_B = mu_1/sigma_1\n",
    "    \n",
    "    Parameters\n",
    "    ----------\n",
    "    noise : (P,) 1darray of scalars\n",
    "        Noise spectral density of each pulsar.\n",
    "    Gamma : (P,P,) 2Darray of scalars\n",
    "        Overlap reduction function for j>i, 0 otherwise.\n",
    "    Sh_bg : (F,) 1Darray of scalars\n",
    "        Spectral density in the background.\n",
    "    Sh0_bg : (F,) 1Darray of scalars\n",
    "        Value of spectral density used to construct the statistic.\n",
    "\n",
    "    Returns\n",
    "    -------\n",
    "    sigma_1B : Scalar\n",
    "        \n",
    "\n",
    "    Follows Eq. (A18) from Rosado et al. 2015.\n",
    "    \"\"\"\n",
    "\n",
    "    sigma_1B = 0 # sigma_1 squared\n",
    "    for ii in range(len(noise)):\n",
    "        P_i = noise[ii]\n",
    "        for jj in range(len(noise)): \n",
    "            if(jj>ii):\n",
    "                P_j = noise[jj]\n",
    "                Gamma_ij = Gamma[ii,jj]\n",
    "                for kk in range(len(Sh_bg)):\n",
    "                    Sh = Sh_bg[kk]\n",
    "                    Sh0 = Sh0_bg[kk]\n",
    "                    numer = (Gamma_ij**2 * Sh0**2 * \n",
    "                             ((P_i + Sh) * (P_j + Sh) \n",
    "                              + Gamma_ij**2 * Sh**2))\n",
    "                    denom = ((P_i + Sh0) * (P_j + Sh0) \n",
    "                             + Gamma_ij**2 * Sh0**2)**2\n",
    "                    sigma_1B += (numer/denom)\n",
    "    \n",
    "    sigma_1B = np.sqrt(2*sigma_1B)\n",
    "    return sigma_1B\n",
    "\n",
    "\n",
    "def sigma1_Bstatistic_ndars(noise, Gamma, Sh_bg, Sh0_bg):\n",
    "    \"\"\" Calculate sigma_1 for the background, by summing over all pulsars and frequencies.\n",
    "    Assuming the B statistic, which maximizes S/N_B = mu_1/sigma_1\n",
    "    \n",
    "    Parameters\n",
    "    ----------\n",
    "    noise : (P,) 1darray of scalars\n",
    "        Noise spectral density of each pulsar.\n",
    "    Gamma : (P,P,) 2Darray of scalars\n",
    "        Overlap reduction function for j>i, 0 otherwise.\n",
    "    Sh_bg : (F,) 1Darray of scalars\n",
    "        Spectral density in the background.\n",
    "    Sh0_bg : (F,) 1Darray of scalars\n",
    "        Value of spectral density used to construct the statistic.\n",
    "\n",
    "    Returns\n",
    "    -------\n",
    "    sigma_1B : Scalar\n",
    "        \n",
    "\n",
    "    Follows Eq. (A18) from Rosado et al. 2015.\n",
    "    \"\"\"\n",
    "\n",
    "    # to get sum term in shape (P,P,F) for ii,jj,kk we want:\n",
    "    # Gamma in shape (P,P,1)\n",
    "    # Sh0 and Sh in shape (1,1,F)\n",
    "    # P_i in shape (P,1,1)\n",
    "    # P_j in shape (1,P,1)\n",
    "\n",
    "    numer = (Gamma[:,:,np.newaxis]**2 * Sh0_bg[np.newaxis,np.newaxis,:]**2 \n",
    "             * ((noise[:,np.newaxis,np.newaxis] + Sh_bg[np.newaxis,np.newaxis,:])\n",
    "                * (noise[np.newaxis,:,np.newaxis] + Sh_bg[np.newaxis,np.newaxis,:])\n",
    "                + Gamma[:,:,np.newaxis]**2 * Sh_bg[np.newaxis,np.newaxis,:]**2))\n",
    "             \n",
    "    denom = ((noise[:,np.newaxis,np.newaxis] + Sh0_bg[np.newaxis, np.newaxis,:])\n",
    "              * (noise[np.newaxis,:,np.newaxis] + Sh0_bg[np.newaxis,np.newaxis,:])\n",
    "             + Gamma[:,:,np.newaxis]**2 * Sh0_bg[np.newaxis,np.newaxis,:]**2)**2\n",
    "    \n",
    "    sum = np.sum(numer/denom)\n",
    "    sigma_1B = np.sqrt(2*sum)\n",
    "    return sigma_1B\n",
    "\n"
   ]
  },
  {
   "cell_type": "code",
   "execution_count": 18,
   "metadata": {},
   "outputs": [
    {
     "name": "stdout",
     "output_type": "stream",
     "text": [
      "0.7264710759507469 0.7264710759507469\n"
     ]
    }
   ],
   "source": [
    "sigma_1B_loops = sigma1_Bstatistic_loops(noise, Gamma, Sh_bg, Sh0_bg)\n",
    "sigma_1B = sigma1_Bstatistic_ndars(noise, Gamma, Sh_bg, Sh0_bg)\n",
    "print(sigma_1B_loops, sigma_1B)"
   ]
  },
  {
   "attachments": {},
   "cell_type": "markdown",
   "metadata": {},
   "source": [
    "## 3.5 SNR Check\n",
    "$$S/N_B \\equiv \\frac{\\mu_1}{ \\sigma_1} = \\Bigg[ 2 \\sum_f \\sum_{ij} \\frac{\\Gamma_{ij}^2 S_h^2}{P_iP_j + S_h[P_i + P_j] + S_h^2[1+\\Gamma_{ij}^2]}   \\Bigg]^{1/2} $$"
   ]
  },
  {
   "cell_type": "code",
   "execution_count": 19,
   "metadata": {},
   "outputs": [],
   "source": [
    "def snr_bg_B(noise, Gamma, Sh_bg):\n",
    "    \"\"\" Calculate S/N_B for the background, using P_i, Gamma, S_h and S_h0\n",
    "    \n",
    "    Parameters\n",
    "    ----------\n",
    "    noise : (P,) 1darray of scalars\n",
    "        Noise spectral density of each pulsar.\n",
    "    Gamma : (P,P,) 2Darray of scalars\n",
    "        Overlap reduction function for j>i, 0 otherwise.\n",
    "    Sh_bg : (F,) 1Darray of scalars\n",
    "        Spectral density in the background.\n",
    "    Sh0_bg : (F,) 1Darray of scalars\n",
    "        Value of spectral density used to construct the statistic.\n",
    "\n",
    "    Returns\n",
    "    -------\n",
    "    SNR_B : Scalar\n",
    "        Signal to noise ratio assuming the B statistic\n",
    "        \n",
    "\n",
    "    Follows Eq. (A19) from Rosado et al. 2015.\n",
    "    \"\"\"\n",
    "\n",
    "\n",
    "    # to get sum term in shape (P,P,F) for ii,jj,kk we want:\n",
    "    # Gamma in shape (P,P,1)\n",
    "    # Sh0 and Sh in shape (1,1,F)\n",
    "    # P_i in shape (P,1,1)\n",
    "    # P_j in shape (1,P,1)\n",
    "\n",
    "    numer = Gamma[:,:,np.newaxis]**2 * Sh_bg[np.newaxis,np.newaxis,:]**2\n",
    "    denom = (noise[:,np.newaxis,np.newaxis] * noise[np.newaxis,:,np.newaxis]\n",
    "             + Sh_bg[np.newaxis,np.newaxis,:] * (noise[:,np.newaxis,np.newaxis]+noise[np.newaxis,:,np.newaxis])\n",
    "             + Sh_bg[np.newaxis,np.newaxis,:]**2 * (1 + Gamma[:,:,np.newaxis]**2))\n",
    "\n",
    "    sum = np.sum(numer/denom)\n",
    "    SNR_B = np.sqrt(2*sum)\n",
    "    return SNR_B\n",
    "\n",
    "    "
   ]
  },
  {
   "cell_type": "code",
   "execution_count": 20,
   "metadata": {},
   "outputs": [
    {
     "name": "stdout",
     "output_type": "stream",
     "text": [
      "0.7264710759507469 0.7264710759507468\n"
     ]
    }
   ],
   "source": [
    "SNR_B = snr_bg_B(noise, Gamma, Sh_bg)\n",
    "print(SNR_B, mu_1B/sigma_1B)"
   ]
  },
  {
   "attachments": {},
   "cell_type": "markdown",
   "metadata": {},
   "source": [
    "## 3.6 Detection Probability\n",
    "$$ \\gamma_{bg} = \\frac{1}{2} \\mathrm{erfc} \\big[ \\frac{\\sqrt{2} \\sigma_0 \\mathrm{erfc}^{-1}(2\\alpha_0) - \\mu_1}{\\sqrt{2} \\sigma_1}\\big]"
   ]
  },
  {
   "cell_type": "code",
   "execution_count": 21,
   "metadata": {},
   "outputs": [],
   "source": [
    "ALPHA0 = 0.001 # false alarm probability (FAP)\n",
    "\n",
    "def bg_detection_probability(sigma_0, sigma_1, mu_1, alpha_0):\n",
    "    \"\"\" Calculate the background detection probability, gamma_bg.\n",
    "\n",
    "    Parameters\n",
    "    ----------\n",
    "    sigma_0 : scalar\n",
    "        Standard deviation of stochastic noise processes.\n",
    "    sigma_1 : scalar\n",
    "        Standard deviation of GWB PDF.\n",
    "    mu_1 : scalar\n",
    "        Mean of GWB PDF.\n",
    "    alpha_0 : scalar\n",
    "        False alarm probability max.\n",
    "\n",
    "    Returns\n",
    "    -------\n",
    "    dp_bg : scalar\n",
    "        Background detection probability.\n",
    "\n",
    "        \n",
    "    Follows Rosado et al. 2015 Eq. (15)\n",
    "    \"\"\"\n",
    "    temp = ((np.sqrt(2) * sigma_0 * sp.special.erfcinv(2*alpha_0) - mu_1)\n",
    "            /(np.sqrt(2) * sigma_1))\n",
    "    dp_bg = .5 * sp.special.erfc(temp)\n",
    "    return dp_bg"
   ]
  },
  {
   "cell_type": "code",
   "execution_count": 22,
   "metadata": {},
   "outputs": [
    {
     "name": "stdout",
     "output_type": "stream",
     "text": [
      "0.5000938665736748\n"
     ]
    }
   ],
   "source": [
    "dp_bg = bg_detection_probability(sigma_0B, sigma_1B, mu_1B, ALPHA0)\n",
    "print(dp_bg)"
   ]
  },
  {
   "cell_type": "code",
   "execution_count": 23,
   "metadata": {},
   "outputs": [],
   "source": [
    "def detect_bg(THETAS, SIGMAS, fobs, cad, hc_bg, return_all = False):\n",
    "    \"\"\" Calculate the background detection probability, and all intermediary steps.\n",
    "\n",
    "    Parameters\n",
    "    ----------\n",
    "    THETAS : (P,) 1Darray of scalars\n",
    "        Angular position of each pulsar in radians.\n",
    "    SIGMAS : (P,) 1Darray of scalars\n",
    "        Sigma_i of each pulsar in seconds.\n",
    "    fobs : (F,) 1Darray of scalars\n",
    "        Frequency bin centers in hertz.\n",
    "    cad : scalar\n",
    "        Cadence of observations in seconds.\n",
    "    hc_bg : (F,)\n",
    "        Characteristic strain of the background at each frequency.\n",
    "    return_all : Bool\n",
    "        Whether to return all parameters or just dp_bg\n",
    "\n",
    "    Returns\n",
    "    -------\n",
    "    dp_bg : scalar\n",
    "        Background detection probability\n",
    "    Gamma : (P, P) 2D Array\n",
    "        Overlap reduction function for j>i, 0 otherwise.\n",
    "        Only returned if return_all = True.\n",
    "    Sh_bg : (F,) 1Darray\n",
    "        Spectral density\n",
    "        Only returned if return_all = True.\n",
    "    noise : (P,) 1Darray\n",
    "        Spectral noise density of each pulsar.\n",
    "        Only returned if return_all = True.\n",
    "    mu_1B : scalar\n",
    "        Expected value for the B statistic.\n",
    "        Only returned if return_all = True.\n",
    "    sigma_0B : scalar\n",
    "    sigma_1B : scalar\n",
    "\n",
    "    \"\"\"\n",
    "    # Overlap Reduction Function\n",
    "    num = len(THETAS) # number of pulsars, P\n",
    "    Gamma = np.zeros((num, num)) # (P,P) 2Darray of scalars, Overlap reduction function between all puolsar\n",
    "    for ii in range(num):\n",
    "        for jj in range(num):\n",
    "            Gamma[ii,jj] = overlap_reduction_function(THETAS[ii], THETAS[jj], ii, jj)\n",
    "\n",
    "    # Spectral Density\n",
    "    Sh_bg = spectral_density(hc_bg[:], fobs) # spectral density of bg, using 0th realization\n",
    "    Sh0_bg = Sh_bg # approximation used in Rosado et al. 2015\n",
    "\n",
    "    # Noise \n",
    "    noise = white_noise(cad, SIGMAS) \n",
    "\n",
    "    mu_1B = mean1_Bstatistic_ndars(noise, Gamma, Sh_bg, Sh0_bg)\n",
    "\n",
    "    sigma_0B = sigma0_Bstatistic_ndars(noise, Gamma, Sh_bg, Sh0_bg)\n",
    "\n",
    "    sigma_1B = sigma1_Bstatistic_ndars(noise, Gamma, Sh_bg, Sh0_bg)\n",
    "\n",
    "    dp_bg = bg_detection_probability(sigma_0B, sigma_1B, mu_1B, ALPHA0)\n",
    "\n",
    "    if(return_all):\n",
    "        return dp_bg, Gamma, Sh_bg, noise, mu_1B, sigma_0B, sigma_1B\n",
    "    else:\n",
    "        return dp_bg"
   ]
  },
  {
   "cell_type": "markdown",
   "metadata": {},
   "source": [
    "# Full Walkthrough"
   ]
  },
  {
   "cell_type": "code",
   "execution_count": null,
   "metadata": {},
   "outputs": [
    {
     "name": "stdout",
     "output_type": "stream",
     "text": [
      "using default mtot, mrat, and redz\n",
      "09:18:01 INFO : zero_coalesced=True, zero_stalled=False [sam.py:dynamic_binary_number]\n",
      "09:18:01 INFO : Stalled SAM bins based on GMT: 1.98e+05/4.99e+05 = 3.96e-01 [sam.py:static_binary_density]\n",
      "09:18:02 INFO : Adding MMbulge scatter (3.4000e-01) [sam.py:static_binary_density]\n",
      "09:18:02 INFO : \tdens bef: (1.28e-114, 5.22e-53, 2.59e-13, 2.12e-03, 1.66e-02, 2.92e-02, 4.47e-02) [sam.py:static_binary_density]\n",
      "09:18:08 INFO : Scatter added after 6.086163 sec [sam.py:static_binary_density]\n",
      "09:18:08 INFO : \tdens aft: (6.14e-17, 7.92e-09, 2.90e-06, 2.19e-03, 1.69e-02, 2.92e-02, 4.27e-02) [sam.py:static_binary_density]\n",
      "09:18:08 INFO : \tmass: 8.56e-02 ==> 8.54e-02 || change = -1.8507e-03 [sam.py:static_binary_density]\n",
      "09:18:08 INFO : zeroing out 1.98e+05/4.99e+05 = 3.96e-01 systems stalled from GMT [sam.py:static_binary_density]\n",
      "09:18:08 INFO : fraction of coalesced binaries: 4.33e+05/1.25e+07 = 3.47e-02 [sam.py:dynamic_binary_number]\n",
      "09:18:08 WARNING : WARNING: _stalled_ binaries are not being accounted for in `dynamic_binary_number`! [sam.py:dynamic_binary_number]\n"
     ]
    }
   ],
   "source": [
    "# example 5\n",
    "edges, number, fobs, exname = ss.example5(print_test=False)\n",
    "hc_bg, hc_ss, ssidx, hsamp, bgpar, sspar = ss.ss_by_cdefs(edges, number, 30, params=True)\n",
    "dur = 10.0*YR\n",
    "cad = .2*YR"
   ]
  },
  {
   "attachments": {},
   "cell_type": "markdown",
   "metadata": {},
   "source": [
    "Print Info"
   ]
  },
  {
   "cell_type": "code",
   "execution_count": null,
   "metadata": {},
   "outputs": [
    {
     "name": "stdout",
     "output_type": "stream",
     "text": [
      "Number of pulsars: 40\n",
      "\n",
      "OVERLAP\n",
      "thetas (pi):\t3.18e-06, 7.69e-02, 3.00e-01, 1.00e+00, 1.70e+00, 1.92e+00, 2.00e+00\n",
      "Gamma_ij:\t-1.52e-01, -1.52e-01, -1.10e-01, 4.73e-02, 2.48e-01, 4.49e-01, nan\n",
      "\n",
      "NOISE\n",
      "cadence (s): \t6.31e+06\n",
      "sigmas (s): %s 1.00e-06, 1.04e-06, 1.15e-06, 1.50e-06, 1.85e-06, 1.96e-06, 2.00e-06\n",
      "P_i (s^3):\t1.26e-05, 1.36e-05, 1.67e-05, 2.84e-05, 4.32e-05, 4.86e-05, 5.05e-05\n",
      "\n",
      "SIGNAL\n",
      "fobs (nHz): \t3.17e+00, 5.55e+00, 1.42e+01, 4.12e+01, 6.82e+01, 7.68e+01, 7.92e+01\n",
      "hc_bg:   \t2.89e-16, 2.91e-16, 3.40e-16, 8.40e-16, 1.81e-15, 4.23e-15, 6.29e-15\n",
      "S_h (s^3):\t1.13e-12, 1.23e-12, 2.51e-12, 5.90e-11, 1.20e-08, 2.78e-06, 9.79e-06\n",
      "\n",
      "B STATISTICS\n",
      "sigma_0: \t1.44e+00\n",
      "sigma_1: \t2.07e+00\n",
      "mu_1:    \t4.27e+00\n",
      "\n",
      "DETECTION PROB\n",
      "DP_bg:   \t4.64e-01\n",
      "SNR_B:   \t2.07\n"
     ]
    }
   ],
   "source": [
    "num_pulsars = 40\n",
    "THETAS = np.linspace(.00001, 2*np.pi, num_pulsars) # (P,) 1Darray of scalars, angular sky position of each pulsar\n",
    "SIGMAS = np.linspace(1e-6, 2e-6, num_pulsars) # (P,) 1Darray of scalars, sigma_i of each pulsar\n",
    "ALPHA0 = 0.001\n",
    "dp_bg, Gamma, Sh_bg, noise, mu_1B, sigma_0B, sigma_1B = \\\n",
    "    detect_bg(THETAS, SIGMAS, fobs, cad, hc_bg[:,1], return_all=True)\n",
    "print('Number of pulsars:',num_pulsars)\n",
    "print('\\nOVERLAP')\n",
    "print('thetas (pi):\\t%s' % str(holo.utils.stats(THETAS/np.pi)))\n",
    "print('Gamma:\\t%s' % str(holo.utils.stats(Gamma)))\n",
    "# print('Gamma:\\t', Gamma)\n",
    "\n",
    "print('\\nNOISE')\n",
    "print('cadence (s): \\t%.2e' % cad)\n",
    "print('sigmas (s): %s', str(holo.utils.stats(SIGMAS)))\n",
    "print('P_i (s^3):\\t%s' % str(holo.utils.stats(noise)))\n",
    "\n",
    "print('\\nSIGNAL')\n",
    "print('fobs (nHz): \\t%s' % str(holo.utils.stats(fobs*10**9)))\n",
    "print('hc_bg:   \\t%s' % str(holo.utils.stats(hc_bg[:,0])))\n",
    "print('S_h (s^3):\\t%s' % str(holo.utils.stats(Sh_bg)))\n",
    "\n",
    "print('\\nB STATISTICS')\n",
    "print('sigma_0: \\t%.2e' % sigma_0B)\n",
    "print('sigma_1: \\t%.2e' % sigma_1B)\n",
    "print('mu_1:    \\t%.2e' % mu_1B)\n",
    "\n",
    "print('\\nDETECTION PROB')\n",
    "print('DP_bg:   \\t%.2e' % dp_bg)\n",
    "print('SNR_B:   \\t%.2f' % (mu_1B/sigma_1B))"
   ]
  },
  {
   "attachments": {},
   "cell_type": "markdown",
   "metadata": {},
   "source": [
    "# 4 Binaries Setup"
   ]
  },
  {
   "attachments": {},
   "cell_type": "markdown",
   "metadata": {},
   "source": [
    "## 4.1 Place binaries at random positions"
   ]
  },
  {
   "cell_type": "code",
   "execution_count": 32,
   "metadata": {},
   "outputs": [],
   "source": [
    "ss_thetas = np.random.uniform(0, np.pi, size = len(hc_ss))\n",
    "ss_phis = np.random.uniform(0, 2*np.pi, size = len(hc_ss))\n",
    "ss_xis = np.random.uniform(0, np.pi, size = len(hc_ss))"
   ]
  },
  {
   "attachments": {},
   "cell_type": "markdown",
   "metadata": {},
   "source": [
    "## 4.2 Calculate unitary vectors\n",
    "\n",
    "$$\\hat{m} = +[\\sin (\\phi)\\cos(\\xi) - \\sin (\\xi) cos(\\phi) cos(\\theta)] \\hat{x} \n",
    "\\\\\n",
    "- [\\cos (\\phi) \\cos(\\xi) + \\sin(\\xi) \\sin(\\phi) \\cos(\\theta)] \\hat{y} \n",
    "\\\\\n",
    "+ [\\sin)(\\xi)\\sin(\\phi)]\\hat{z}$$\n",
    "\n",
    "$$ \\hat{n} = +[-\\sin(\\phi) \\sin(\\xi) - \\cos(\\xi) \\cos(\\phi) \\cos(\\theta)] \\hat{x} \\\\\n",
    "+[\\cos(\\phi) \\sin(\\xi) - \\cos(\\xi) \\sin(\\phi) \\cos(\\theta)] \\hat{y} \\\\\n",
    "+[\\cos(\\xi) \\sin(\\theta)]\\hat{z} $$\n",
    "\n",
    "$$\\hat{\\Omega} = -\\sin(\\theta) \\cos(\\phi) \\hat{x}  - \\sin(\\theta) \\sin(\\phi) \\hat{y} - \\cos(\\theta) \\hat{z} $$"
   ]
  },
  {
   "cell_type": "code",
   "execution_count": 58,
   "metadata": {},
   "outputs": [],
   "source": [
    "def m_unitary_vector(phi, theta, xi):\n",
    "    \"\"\" Calculate the unitary vector m-hat for the antenna pattern functions.\n",
    "    \n",
    "    Parameters\n",
    "    ----------\n",
    "    phi : (F,) 1Darray\n",
    "        Spherical coordinate position of each single source.\n",
    "    theta : (F,) 1Darray\n",
    "        Spherical coordinate position of each single source.\n",
    "    xi : (F,) 1Darray\n",
    "        Inclination of binary? But thought that's what iota was?    \n",
    "    \n",
    "    Returns\n",
    "    -------\n",
    "    m_hat : (25,3) 2Darray \n",
    "        Unitary vector m-hat with x, y, and z components at \n",
    "        index 0, 1, and 2, respectively.\n",
    "        \n",
    "    \"\"\"\n",
    "    mhat_x = (np.sin(phi) * np.cos(xi) \n",
    "              - np.sin(xi) * np.cos(phi) * np.cos(theta))\n",
    "    mhat_y = -(np.cos(phi) * np.cos(xi)\n",
    "               + np.sin(xi) * np.sin(phi) * np.cos(theta))\n",
    "    mhat_z = (np.sin(xi) * np.sin(theta))\n",
    "\n",
    "    m_hat = np.swapaxes(np.array([mhat_x, mhat_y, mhat_z]), 0, 1)\n",
    "    return m_hat\n",
    "\n",
    "def n_unitary_vector(phi, theta, xi):\n",
    "    \"\"\" Calculate the unitary vector n-hat for the antenna pattern functions.\n",
    "    \n",
    "    Paramters\n",
    "    ---------\n",
    "    phi : (F,) 1Darray\n",
    "        Spherical coordinate position of each single source.\n",
    "    theta : (F,) 1Darray\n",
    "        Spherical coordinate position of each single source.\n",
    "    xi : (F,) 1Darray\n",
    "        Inclination of binary? But thought that's what iota was?    \n",
    "    \n",
    "    Returns\n",
    "    -------\n",
    "    n_hat : (25,3,) 2Darray\n",
    "        Unitary vector n-hat.\n",
    "        \n",
    "    \"\"\"\n",
    "\n",
    "    nhat_x = (- np.sin(phi) * np.sin(xi) \n",
    "              - np.cos(xi) * np.cos(phi) * np.cos(theta))\n",
    "    nhat_y = (np.cos(phi) * np.sin(xi) \n",
    "              - np.cos(xi) * np.sin(phi) * np.cos(theta))\n",
    "    nhat_z = np.cos(xi) * np.sin(theta)\n",
    "\n",
    "    n_hat = np.swapaxes(np.array([nhat_x, nhat_y, nhat_z]), 0, 1)\n",
    "    return n_hat\n",
    "\n",
    "def Omega_unitary_vector(phi, theta):\n",
    "    \"\"\" Calculate the unitary vector n-hat for the antenna pattern functions.\n",
    "    \n",
    "    Paramters\n",
    "    ---------\n",
    "    phi : (F,) 1Darray\n",
    "        Spherical coordinate position of each single source.\n",
    "    theta : (F,) 1Darray\n",
    "        Spherical coordinate position of each single source.\n",
    "    \n",
    "    Returns\n",
    "    -------\n",
    "    Omega_hat : (3,) vector\n",
    "        Unitary vector Omega-hat.\n",
    "    \"\"\"\n",
    "\n",
    "    Omegahat_x = - np.sin(theta) * np.cos(phi)\n",
    "    Omegahat_y = - np.sin(theta) * np.sin(phi)\n",
    "    Omegahat_z = - np.cos(theta)\n",
    "\n",
    "    Omega_hat = np.swapaxes(np.array([Omegahat_x, Omegahat_y, Omegahat_z]), 0, 1)\n",
    "    return Omega_hat\n",
    "\n"
   ]
  },
  {
   "cell_type": "code",
   "execution_count": 57,
   "metadata": {},
   "outputs": [
    {
     "name": "stdout",
     "output_type": "stream",
     "text": [
      "(25, 3)\n"
     ]
    }
   ],
   "source": [
    "m_hat = m_unitary_vector(ss_phis, ss_thetas, ss_xis)\n",
    "print(m_hat.shape)"
   ]
  },
  {
   "attachments": {},
   "cell_type": "markdown",
   "metadata": {},
   "source": [
    "# Pulsar Terms for SS\n",
    "$$ \\hat{p}_i = \\sin(\\theta_i) \\cos(\\phi_i) \\hat{x} + \\sin(\\theta_i) \\sin(\\phi_i) \\hat{y} + \\cos(\\theta_i) \\hat{z} $$"
   ]
  },
  {
   "cell_type": "code",
   "execution_count": 31,
   "metadata": {},
   "outputs": [],
   "source": [
    "def pi_unitary_vectory(phi_i, theta_i):\n",
    "    \"\"\" Calculate the unitary vector p_i-hat for the ith pulsar.\n",
    "    \n",
    "    Parameters\n",
    "    ----------\n",
    "    phi : (P,) 1Darray\n",
    "        Spherical coordinate position of each pulsar.\n",
    "    theta : (P,) 1Darray\n",
    "        Spherical coordinate position of each pulsar.\n",
    "    Returns\n",
    "    -------\n",
    "    pi_hat : (P,3,) vector\n",
    "    \n",
    "    \"\"\"\n",
    "\n",
    "    pihat_x = np.sin(theta_i) * np.cos(phi_i)\n",
    "    pihat_y = np.sin(theta_i) * np.sin(phi_i)\n",
    "    pihat_z = np.cos(theta_i)\n",
    "\n",
    "    pi_hat = np.array([pihat_x, pihat_y, pihat_z])\n",
    "    return pi_hat"
   ]
  },
  {
   "attachments": {},
   "cell_type": "markdown",
   "metadata": {},
   "source": [
    "## 4.2 Antenna Pattern Functions\n",
    "$$ F_i^+ = \\frac{1}{2}  \\frac{[\\hat{m}\\cdot \\hat{p}_i]^2 - \\hat{n} \\cdot \\hat{p}_i]^2}{1  + \\hat{\\Omega} \\cdot \\hat{p}_i} $$\n",
    " \n",
    " $$ F_i^\\times = \\frac{\\hat{m} \\cdot \\hat{p}_i] [\\hat{n} \\cdot \\hat{p}_i]}{1 + \\hat{\\Omega} \\cdot \\hat{p}_i}"
   ]
  },
  {
   "cell_type": "code",
   "execution_count": null,
   "metadata": {},
   "outputs": [],
   "source": [
    "def antenna_pattern_functions(m_hat, n_hat, Omega_hat, pi_hat):\n",
    "    \"\"\" + antenna pattern function for the ith pulsar.\n",
    "    \n",
    "    Parameters\n",
    "    ----------\n",
    "    m_hat : (3,) vector\n",
    "    n_hat : (3,) vector\n",
    "    Omega_hat : (3,) vector\n",
    "    pi_hat : (3,) vector\n",
    "        for the ith pulsar.\n",
    "        \n",
    "    Returns\n",
    "    -------\n",
    "    Fi_plus : scalar\n",
    "    Fi_cross : scalar\n",
    "    \n",
    "    \"\"\"\n",
    "    \n",
    "    denom = 1 + np.dot(Omega_hat, pi_hat)\n",
    "    Fi_plus = ((np.dot(m_hat, pi_hat)**2 - np.dot(n_hat, pi_hat)**2) \n",
    "               / denom / 2)\n",
    "    Fi_cross = np.dot(m_hat, pi_hat) * np.dot(n_hat, pi_hat) / denom\n",
    "    \n",
    "    return Fi_plus, Fi_cross\n",
    "    "
   ]
  },
  {
   "attachments": {},
   "cell_type": "markdown",
   "metadata": {},
   "source": [
    "## Amplitude, A\n",
    "\n",
    "$$ A = 2 \\frac{G^{5/3} \\mathcal{M}^{5/3} [\\pi f [1+z]]^{2/3}}{c^4 r} \\quad (5)$$\n",
    "$ h = A\\sqrt{\\frac{1}{2}[a^2+b^2]} \\quad (4)$ ?? a and b are defined by i, is that related to hc_ss then??\n",
    "$$ h_s = \\frac{8}{10^{1/2}} \\frac{(G\\mathcal{M})^{5/3}}{c^4 d_L} (2\\pi f_r)^{2/3}  = \\frac{2^{2/3}\\times8}{2\\times10^{1/2}} \\times \\big[ 2 \\frac{(G\\mathcal{M})^{5/3}}{c^4 d_L} (\\pi f_r)^{2/3} \\big] =  \\frac{4(2)^{1/6}}{\\sqrt{5}} A $$\n",
    "$$ h_{c,ss}^2 = h_s^2 / dlnf = h_s^2 * f / df $$\n",
    "$$ h_{c,ss} = h_s \\sqrt{f/df} \\frac{4(2)^{1/6}}{\\sqrt{5}} A * f / df$$\n",
    "$$ A = \\frac{\\sqrt{5}}{4 (2)^{1/6}} \\sqrt{\\frac{df}{f}} h_{c,ss} $$"
   ]
  },
  {
   "cell_type": "code",
   "execution_count": null,
   "metadata": {},
   "outputs": [],
   "source": [
    "def amplitude(hc_ss, f, df):\n",
    "    \"\"\" Calculate the amplitude from the single source to use in DP calculations\n",
    "    \n",
    "    Parameters\n",
    "    ----------\n",
    "    hc_ss : scalar, ndarray\n",
    "        Characteristic strain of a single source.\n",
    "    f : scalar, ndarray\n",
    "        Frequency.\n",
    "    df : scalar, ndarray\n",
    "        Frequency bin width.\n",
    "\n",
    "    Returns\n",
    "    -------\n",
    "    Amp : scalar, ndarray\n",
    "        Dimensionless amplitude, A, of each single source.\n",
    "    \n",
    "    \"\"\"\n",
    "\n",
    "    Amp = hc_ss * np.sqrt(5) / 4 / 2**(1/6) *np.sqrt(df/f)\n",
    "    return Amp"
   ]
  },
  {
   "attachments": {},
   "cell_type": "markdown",
   "metadata": {},
   "source": [
    "## 4.3 ss_noise\n",
    "Noise from all other sources in the same frequency bin except for the loudest\n",
    "$$ S_{h,\\mathrm{rest}} = \\frac{h_{c,\\mathrm{rest}}^2}{f} \\frac{1}{12 \\pi^2 f^2} $$\n",
    "Included in total noise spectral density\n",
    "$$S_i = 2\\Delta t \\sigma_i^2 + S_{h,\\mathrm{rest}}$$"
   ]
  },
  {
   "cell_type": "code",
   "execution_count": 26,
   "metadata": {},
   "outputs": [],
   "source": [
    "def single_source_noise(noise, hc_bg, freqs):\n",
    "    \"\"\" Calculate the noise spectral density of the ith pulsar\n",
    "\n",
    "    Parameters\n",
    "    ----------\n",
    "    noise : (P,) 1Darray\n",
    "        White noise P_i, or 2 Delta t sigma_i^2 term for each pulsar, i.\n",
    "    hc_bg : (F,) 1Darray\n",
    "        Characteristic strain from all but loudest source at each frequency.\n",
    "    freqs : (F,) 1Darray\n",
    "        Frequency bin centers.\n",
    "        \n",
    "    Returns\n",
    "    -------\n",
    "    ss_noise : (P,F) 2Darray of scalars\n",
    "        The noise in each pulsar for detecting a single source at each frequency.\n",
    "\n",
    "    Follows Eq.s (44) and (45) in Rosado et al. 2015.\n",
    "    \"\"\"\n",
    "    Sh_rest = hc_bg**2 / freqs**3 /(12 * np.pi**2) # (F,)\n",
    "    ss_noise = noise[:,np.newaxis] + Sh_rest[np.newaxis,:]\n",
    "    return ss_noise"
   ]
  },
  {
   "cell_type": "markdown",
   "metadata": {},
   "source": [
    "## Polarization contributions\n",
    "$$ a = 1 + \\cos^2 \\iota $$\n",
    "$$ b = -2 \\cos \\iota $$\n",
    "\n",
    "What is iota?"
   ]
  },
  {
   "attachments": {},
   "cell_type": "markdown",
   "metadata": {},
   "source": [
    "## SNR for a single pulsar \n",
    "$$ S/N_i^2 = \\frac{A^2}{S_i 8 \\pi^3 f^3} \\bigg[a^2[F_i^+]^2 \\big[\\Phi_T [1 + 2 \\sin^2(\\Phi_0)]\n",
    "+ \\cos(\\Phi_T)[-\\sin(\\Phi_T) + 4 \\sin(\\Phi_0)] - 4\\sin(\\Phi_0)\\big] \\\\\n",
    "+ b^2[F_i^\\times]^2 \\big[\\Phi_T[1+2\\cos^2(\\Phi_0)] + \\sin(\\Phi_T)[\\cos(\\Phi_T) - 4\\cos(\\Phi_0)]\\big] \\\\\n",
    "- 2ab F_i^+ F_i^\\times \\big[2\\Phi_T \\sin(\\Phi_0) \\cos(\\Phi_0) \\\\\n",
    "+ \\sin(\\Phi_T)[\\sin(\\Phi_T) - 2\\sin(\\Phi_0) + 2\\cos(\\Phi_T) \\cos(\\Phi_0) - 2\\cos(\\Phi_0)]\\big]\\bigg] $$\n"
   ]
  },
  {
   "cell_type": "code",
   "execution_count": null,
   "metadata": {},
   "outputs": [],
   "source": [
    "def SNR_pulsar(Amp, Fi_plus, Fi_cross, iota, dur, Phi_0, S_i, freqs)\n",
    "    \"\"\" \n",
    "    Amp : (F,) 1Darray \n",
    "        Dimensionless strain amplitude for loudest source at each frequency.\n",
    "    Fi_plus : (P,) 1Darray\n",
    "        Antenna pattern function for each pulsar.\n",
    "    Fi_cross : (P,) 1Darray\n",
    "        Antenna pattern function for each pulsar.\n",
    "    iota : (F,) 1Darray\n",
    "        Is this inclination? or what?\n",
    "        Gives the wave polarizations a and b.\n",
    "    dur : scalar\n",
    "        Duration of observations.\n",
    "    Phi_0 : \n",
    "    S_i : (P,) 1Darray of scalars\n",
    "    freqs : (F,) 1Darray of scalars\n",
    "\n",
    "    \"\"\"\n",
    "\n",
    "    a = 1 + (np.cos(iota))**2\n",
    "    b = -2 * np.cos(iota)\n",
    "    Phi_T = 2 * np.pi * freqs *dur"
   ]
  },
  {
   "cell_type": "markdown",
   "metadata": {},
   "source": []
  },
  {
   "cell_type": "code",
   "execution_count": null,
   "metadata": {},
   "outputs": [],
   "source": []
  },
  {
   "cell_type": "code",
   "execution_count": null,
   "metadata": {},
   "outputs": [],
   "source": []
  },
  {
   "cell_type": "code",
   "execution_count": null,
   "metadata": {},
   "outputs": [],
   "source": []
  }
 ],
 "metadata": {
  "kernelspec": {
   "display_name": "holo310",
   "language": "python",
   "name": "python3"
  },
  "language_info": {
   "codemirror_mode": {
    "name": "ipython",
    "version": 3
   },
   "file_extension": ".py",
   "mimetype": "text/x-python",
   "name": "python",
   "nbconvert_exporter": "python",
   "pygments_lexer": "ipython3",
   "version": "3.10.9"
  },
  "orig_nbformat": 4
 },
 "nbformat": 4,
 "nbformat_minor": 2
}
