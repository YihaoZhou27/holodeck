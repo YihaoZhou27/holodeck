{
 "cells": [
  {
   "cell_type": "code",
   "execution_count": 5,
   "metadata": {},
   "outputs": [],
   "source": [
    "import numpy as np\n",
    "import holodeck as holo\n",
    "import holodeck.single_sources as ss\n",
    "from holodeck.constants import YR\n",
    "import matplotlib.pyplot as plt\n",
    "import scipy as sp\n",
    "\n",
    "import hasasia.sensitivity as hsen\n",
    "import hasasia.sim as hsim\n",
    "import hasasia as has"
   ]
  },
  {
   "attachments": {},
   "cell_type": "markdown",
   "metadata": {},
   "source": [
    "# 1 Strain Model"
   ]
  },
  {
   "cell_type": "code",
   "execution_count": 6,
   "metadata": {},
   "outputs": [
    {
     "name": "stdout",
     "output_type": "stream",
     "text": [
      "using default mtot, mrat, and redz\n",
      "19:26:40 INFO : zero_coalesced=True, zero_stalled=False [sam.py:dynamic_binary_number]\n",
      "19:26:40 INFO : Stalled SAM bins based on GMT: 1.98e+05/4.99e+05 = 3.96e-01 [sam.py:static_binary_density]\n",
      "19:26:40 INFO : Adding MMbulge scatter (3.4000e-01) [sam.py:static_binary_density]\n",
      "19:26:40 INFO : \tdens bef: (1.28e-114, 5.22e-53, 2.59e-13, 2.12e-03, 1.66e-02, 2.92e-02, 4.47e-02) [sam.py:static_binary_density]\n",
      "19:26:46 INFO : Scatter added after 6.466119 sec [sam.py:static_binary_density]\n",
      "19:26:46 INFO : \tdens aft: (6.14e-17, 7.92e-09, 2.90e-06, 2.19e-03, 1.69e-02, 2.92e-02, 4.27e-02) [sam.py:static_binary_density]\n",
      "19:26:46 INFO : \tmass: 8.56e-02 ==> 8.54e-02 || change = -1.8507e-03 [sam.py:static_binary_density]\n",
      "19:26:46 INFO : zeroing out 1.98e+05/4.99e+05 = 3.96e-01 systems stalled from GMT [sam.py:static_binary_density]\n",
      "19:26:47 INFO : fraction of coalesced binaries: 4.33e+05/1.25e+07 = 3.47e-02 [sam.py:dynamic_binary_number]\n",
      "19:26:47 WARNING : WARNING: _stalled_ binaries are not being accounted for in `dynamic_binary_number`! [sam.py:dynamic_binary_number]\n"
     ]
    }
   ],
   "source": [
    "edges, number, fobs, exname = ss.example5(print_test=False)\n",
    "hc_bg, hc_ss, ssidx, hsamp, bgpar, sspar = ss.ss_by_cdefs(edges, number, 30, params=True)\n",
    "# example 5\n",
    "dur = 10.0*YR\n",
    "cad = .2*YR"
   ]
  },
  {
   "attachments": {},
   "cell_type": "markdown",
   "metadata": {},
   "source": [
    "# 2 Pulsar Setup\n",
    "## 2.1 Make pulsars with hasasia"
   ]
  },
  {
   "cell_type": "code",
   "execution_count": 7,
   "metadata": {},
   "outputs": [
    {
     "name": "stdout",
     "output_type": "stream",
     "text": [
      "dict_keys(['toas', 'toaerrs', 'phi', 'theta', 'pdist', 'N', 'designmatrix'])\n"
     ]
    }
   ],
   "source": [
    "num = 4\n",
    "phis = np.random.uniform(0, 2*np.pi, size = num)\n",
    "thetas = np.random.uniform(np.pi/2, np.pi/2, size = num)\n",
    "# sim uses dur in yrs and cad in #/yr\n",
    "# make list of hasasia.Pulsar objects\n",
    "pulsars = hsim.sim_pta(timespan = dur/YR, cad = 1/(cad/YR), sigma = 1e-7,\n",
    "                      phi = phis, theta = thetas)\n",
    "print(pulsars[0].__dict__.keys())"
   ]
  },
  {
   "cell_type": "code",
   "execution_count": 8,
   "metadata": {},
   "outputs": [
    {
     "name": "stdout",
     "output_type": "stream",
     "text": [
      "[1.57079633 1.57079633 1.57079633 1.57079633]\n",
      "[4.55910355 3.03912902 5.76888472 3.81715643]\n"
     ]
    }
   ],
   "source": [
    "print(thetas)\n",
    "print(phis)"
   ]
  },
  {
   "attachments": {},
   "cell_type": "markdown",
   "metadata": {},
   "source": [
    "Make spectra"
   ]
  },
  {
   "cell_type": "code",
   "execution_count": 9,
   "metadata": {},
   "outputs": [],
   "source": [
    "spectra = []\n",
    "\n",
    "for pul in pulsars:\n",
    "    spec = hsen.Spectrum(pul, freqs=fobs) # spectrum object\n",
    "    spec.NcalInv # calculate inverse noise weighted transmission function along the way\n",
    "    spectra.append(spec)\n",
    "    # add white noise and add red noise here? \n",
    "    # add_noise_power(noise)\n",
    "    # add_red_noise_power(A=None, gamma=None, vals=False)\n",
    "    # add_white_noise_power(sigma=None, dt = None, vals=False)"
   ]
  },
  {
   "attachments": {},
   "cell_type": "markdown",
   "metadata": {},
   "source": [
    "## 2.2 Overlap Reduction Function\n",
    "\n",
    "Using Rosado eq.s:\n",
    "$$ \\Gamma_{ij} = \\frac{3}{2} \\gamma_{ij} \\ln (\\gamma_{ij}) - \\frac{1}{4} \\gamma_{ij} + \\frac{1}{2} + \\frac{1}{2}\\delta_{ij} $$\n",
    "$$ \\gamma_{ij} = [1-\\cos (\\theta_{ij})]/2$$"
   ]
  },
  {
   "cell_type": "code",
   "execution_count": 13,
   "metadata": {},
   "outputs": [],
   "source": [
    "def gammaij_from_thetaij(theta_ij):\n",
    "    \"\"\" Calcualte gamma_ij for two pulsars of relative angle theta_ij.\n",
    "    \n",
    "    Parameters\n",
    "    ----------\n",
    "    theta_ij : scalar \n",
    "        Relative angular position between the ith and jth pulsars.\n",
    "\n",
    "    Returns\n",
    "    -------\n",
    "    gamma_ij : scalar \n",
    "        [1 - cos(theta_ij)]/2\n",
    "\n",
    "    \"\"\"\n",
    "    return (1-np.cos(theta_ij))/2\n",
    "\n",
    "\n",
    "def dirac_delta(i,j):\n",
    "    \"\"\" Calculate the dirac delta function of i,j.\n",
    "    Parameters\n",
    "    ----------\n",
    "    i : int\n",
    "    j : int\n",
    "\n",
    "    Returns\n",
    "    ------- \n",
    "    dirac_ij : int\n",
    "        Dirac delta function of i and j\n",
    "\n",
    "    \"\"\"\n",
    "    if(i==j): return 1\n",
    "    else: return 0\n",
    "\n",
    "def relative_angle(theta_i, phi_i, theta_j, phi_j):\n",
    "    \"\"\" Calculate relative angle between two pulsars i and j.\n",
    "    \n",
    "    Parameters\n",
    "    ----------\n",
    "    theta_i : scalar \n",
    "        Polar angular position in the sky of the ith pulsar.\n",
    "    phi_i : scalar\n",
    "        Azimuthal angular position in the sky of the ith pulsar.\n",
    "    theta_j : scalar \n",
    "        Polar angular position in the sky of the jth pulsar.\n",
    "    phi_j : scalara\n",
    "        Azimuthal angular position in the sky of the jth pulsar.\n",
    "\n",
    "    Returns\n",
    "    -------\n",
    "    theta_ij : scalar \n",
    "        Relative angular position between the ith and jth pulsar.\n",
    "\n",
    "    \"\"\"\n",
    "    \n",
    "    theta_ij = np.arccos(np.cos(phi_i)*np.cos(phi_j) \n",
    "                      + np.sin(phi_i)*np.sin(phi_j)*np.cos(theta_i - theta_j))\n",
    "    \n",
    "    return theta_ij\n",
    "\n",
    "def orf_ij(i, j, theta_ij):\n",
    "    \"\"\" Calculate the overlap reduction function Gamma_i,j as a function of theta_i, theta_j, i, and j.\n",
    "    \n",
    "    Parameters\n",
    "    ----------\n",
    "    i : int\n",
    "        index of the ith pulsar\n",
    "    j : int\n",
    "        index of the jth pulsar\n",
    "    theta_ij : scalar\n",
    "        relative angular position between the ith and jth pulsars\n",
    "\n",
    "    Returns\n",
    "    -------\n",
    "    Gamma : scalar\n",
    "        The overlap reduction function of the ith and jth pulsars.\n",
    "\n",
    "\n",
    "    Follows Rosado et al. 2015 Eq. (24)\n",
    "    \"\"\"\n",
    "    dirac_ij = dirac_delta(i, j)\n",
    "    gamma_ij = gammaij_from_thetaij(theta_ij)\n",
    "    \n",
    "    Gamma = (3/2 * gamma_ij *np.log(gamma_ij)\n",
    "            - 1/4 * gamma_ij\n",
    "            + 1/2 + dirac_ij)\n",
    "    if(np.isnan(Gamma) and i!=j):\n",
    "        print('Gamma_%d,%d is nan, set to 0' % (i,j))\n",
    "        return 0\n",
    "    return Gamma\n",
    "\n",
    "\n",
    "def orf_all(pulsars):\n",
    "    \"\"\" Calculate the overlap reduction function matrix Gamma for a list of hasasia.Pulsar objects\n",
    "\n",
    "    Paramters\n",
    "    ---------\n",
    "    pulsars : (P,) list of hasasia.Pulsar objects.\n",
    "\n",
    "    Returns\n",
    "    -------\n",
    "    Gamma : (P,P) NDarray\n",
    "        Overlap reduction function matrix for all pulsars i,j with j>i\n",
    "        Only for j>1, 0 for j<=i\n",
    "\n",
    "    \"\"\"\n",
    "\n",
    "    Gamma = np.zeros((len(pulsars), len(pulsars)))\n",
    "    for ii in range(len(pulsars)):\n",
    "        for jj in range(len(pulsars)):\n",
    "            if (jj>ii): # 0 otherwise, allows sum over all\n",
    "                # calculate angle between two vectors.\n",
    "                theta_ij =  relative_angle(pulsars[ii].theta, pulsars[ii].phi,\n",
    "                                           pulsars[jj].theta, pulsars[jj].phi)\n",
    "                print('theta_ij', theta_ij)\n",
    "                # find ORF\n",
    "                Gamma[ii,jj] = orf_ij(ii, jj, theta_ij)\n",
    "    \n",
    "    return Gamma\n"
   ]
  },
  {
   "cell_type": "code",
   "execution_count": 14,
   "metadata": {},
   "outputs": [
    {
     "name": "stdout",
     "output_type": "stream",
     "text": [
      "theta_ij 1.5199745352085046\n",
      "theta_ij 1.2097811669308092\n",
      "theta_ij 0.7419471211224731\n",
      "theta_ij 2.729755702139314\n",
      "theta_ij 0.7780274140860316\n",
      "theta_ij 1.9517282880532822\n",
      "[[ 0.         -0.14921692 -0.12845722  0.06709269]\n",
      " [ 0.          0.          0.1990714   0.04565272]\n",
      " [ 0.          0.          0.         -0.05938042]\n",
      " [ 0.          0.          0.          0.        ]]\n"
     ]
    }
   ],
   "source": [
    "Gamma = orf_all(pulsars)\n",
    "print(Gamma)"
   ]
  },
  {
   "cell_type": "markdown",
   "metadata": {},
   "source": [
    "Using hasasia.GWBSensitivityCurve"
   ]
  },
  {
   "cell_type": "code",
   "execution_count": 15,
   "metadata": {},
   "outputs": [
    {
     "name": "stdout",
     "output_type": "stream",
     "text": [
      "dict_keys(['_H_0', 'Npsrs', 'phis', 'thetas', 'Tspan', 'freqs', 'SnI', 'ThetaIJ', 'chiIJ', 'pairs', 'chiRSS', 'T_IJ'])\n",
      "[-0.14921692 -0.12845722  0.06709269  0.1990714   0.04565272 -0.05938042]\n"
     ]
    }
   ],
   "source": [
    "scGWB = hsen.GWBSensitivityCurve(spectra) # orf='hd'\n",
    "print(scGWB.__dict__.keys())\n",
    "print(scGWB.chiIJ) "
   ]
  },
  {
   "attachments": {},
   "cell_type": "markdown",
   "metadata": {},
   "source": [
    "## 2.3 Noise spectral density $P_i$ \n",
    "$$ P_i = 2 \\Delta t \\sigma_i^2 $$"
   ]
  },
  {
   "cell_type": "code",
   "execution_count": 118,
   "metadata": {},
   "outputs": [],
   "source": [
    "def _white_noise(delta_t, sigma_i):\n",
    "    \"\"\" Calculate the white noise for a given pulsar 2 /Delta t sigma_i^2\n",
    "    \n",
    "    Parameters\n",
    "    ----------\n",
    "    delta_t : scalar\n",
    "        Detection cadence, in seconds.\n",
    "    sigma_i : scalar\n",
    "        Error/stdev/variance? for the ith pulsar, in seconds.\n",
    "\n",
    "    Returns\n",
    "    -------\n",
    "    P_i : scalar\n",
    "        Noise spectral density for the ith pulsar, for bg detection.\n",
    "        For single source detections, the noise spectral density S_i must also \n",
    "        include red noise from all but the loudest single sources, S_h,rest. \n",
    "        Rosado et al. 2015 Eq. (23)\n",
    "\n",
    "    \"\"\"\n",
    "    P_i = 2 * delta_t * sigma_i**2\n",
    "    return P_i"
   ]
  },
  {
   "cell_type": "code",
   "execution_count": 130,
   "metadata": {},
   "outputs": [
    {
     "name": "stdout",
     "output_type": "stream",
     "text": [
      "P_i = [1.262304e-07 1.262304e-07 1.262304e-07 1.262304e-07] s^3 = [4.01653964e-30 4.01653964e-30 4.01653964e-30 4.01653964e-30]  yrs^3\n"
     ]
    }
   ],
   "source": [
    "sigmas = np.zeros(num)\n",
    "for ii in range(num):\n",
    "    sigmas[ii] = np.mean(pulsars[ii].toaerrs)\n",
    "noise = _white_noise(cad, sigmas) \n",
    "print('P_i =', noise, 's^3 =', noise/YR**3,' yrs^3')"
   ]
  },
  {
   "attachments": {},
   "cell_type": "markdown",
   "metadata": {},
   "source": [
    "# 3 Background Signal\n",
    "## 3.1 Power Spectral Density\n",
    "$S_h$, the one-sided power spectral density of the GW signal in the timing residuals\n",
    "$$ S_h = \\frac{h_c^2}{12 \\pi ^2 f_k^3}$$"
   ]
  },
  {
   "cell_type": "code",
   "execution_count": 120,
   "metadata": {},
   "outputs": [],
   "source": [
    "def power_spectral_density(hc_bg, freqs):\n",
    "    \"\"\" Calculate the spectral density S_h(f_k) ~ S_h0(f_k) at the kth frequency\n",
    "\n",
    "    Parameters\n",
    "    ----------\n",
    "    hc_bg : (F,) 1D array of scalars\n",
    "        Characteristic strain of the background at each frequency. \n",
    "    freqs : (F,) 1Darray of scalars\n",
    "        Frequency bin centers corresponding to each strain\n",
    "\n",
    "    Returns\n",
    "    -------\n",
    "    S_h : (F,) 1Darray of scalars\n",
    "        Actual (S_h) or ~construction (S_h0) value of the background spectral density. \n",
    "        In units of [freqs]^-3\n",
    "    \"\"\"\n",
    "\n",
    "    S_h = hc_bg**2 / (12 * np.pi**2 * freqs**3)\n",
    "    return S_h"
   ]
  },
  {
   "cell_type": "code",
   "execution_count": 121,
   "metadata": {},
   "outputs": [
    {
     "name": "stdout",
     "output_type": "stream",
     "text": [
      "[1.02810152e-05 4.12121645e-07 6.77955252e-08 1.74948935e-08\n",
      " 5.94502914e-09 2.92751707e-09 1.24884857e-09 6.87719862e-10\n",
      " 2.68357303e-10 1.25664924e-10 1.58608921e-10 7.62581787e-11\n",
      " 4.32827983e-11 4.28001864e-11 3.54519715e-11 2.14762050e-11\n",
      " 2.46776135e-11 9.35066788e-12 3.06424629e-12 3.23814915e-12\n",
      " 3.79656237e-12 1.73258408e-11 2.26417199e-12 3.40685381e-12\n",
      " 3.00933934e-12]\n"
     ]
    }
   ],
   "source": [
    "Sh_bg = power_spectral_density(hc_bg[:,0], fobs) # spectral density of bg, using 0th realization\n",
    "Sh0_bg = Sh_bg # approximation used in Rosado et al. 2015\n",
    "print(Sh_bg)"
   ]
  },
  {
   "attachments": {},
   "cell_type": "markdown",
   "metadata": {},
   "source": [
    "## 3.2 mu_1\n",
    "$$\\mu_1 = 1\\sum_f \\sum_{ij} \\frac{\\Gamma_{ij}^2 S_h S_{h0}}{[P_i + S_{h0}] [P_j + S_{h0}] + \\Gamma_{ij}^2 S_{h0}^2} $$\n"
   ]
  },
  {
   "cell_type": "code",
   "execution_count": 122,
   "metadata": {},
   "outputs": [],
   "source": [
    "def mean1_Bstatistic_loops(noise, Gamma, Sh_bg, Sh0_bg):\n",
    "    \"\"\" Calculate mu_1 for the background, by summing over all pulsars and frequencies.\n",
    "    Assuming the B statistic, which maximizes S/N_B = mu_1/sigma_1\n",
    "    \n",
    "    Parameters\n",
    "    ----------\n",
    "    noise : (P,) 1darray of scalars\n",
    "        Noise spectral density of each pulsar.\n",
    "    Gamma : (P,P,) 2Darray of scalars\n",
    "        Overlap reduction function for j>i, 0 otherwise.\n",
    "    Sh_bg : (F,) 1Darray of scalars\n",
    "        Spectral density in the background.\n",
    "    Sh0_bg : (F,) 1Darray of scalars\n",
    "        Value of spectral density used to construct the statistic.\n",
    "\n",
    "    Returns\n",
    "    -------\n",
    "    mu_1B : \n",
    "        Expected value for the B statistic\n",
    "\n",
    "    Follows Eq. (A16) from Rosado et al. 2015.\n",
    "    \"\"\"\n",
    "    mu_1B = 0\n",
    "    for ii in range(len(noise)):\n",
    "        P_i = noise[ii]\n",
    "        for jj in range(len(noise)): \n",
    "            if(jj>ii):\n",
    "                P_j = noise[jj]\n",
    "                Gamma_ij = Gamma[ii,jj]\n",
    "                for kk in range(len(Sh_bg)):\n",
    "                    Sh = Sh_bg[kk]\n",
    "                    Sh0 = Sh0_bg[kk]\n",
    "                    mu_1B += ((Gamma_ij**2 * Sh * Sh0)\n",
    "                            /((P_i+Sh0) * (P_j+Sh0) \n",
    "                                + Gamma_ij**2 * Sh0**2))\n",
    "    mu_1B *= 2\n",
    "    return mu_1B\n",
    "\n",
    "def mean1_Bstatistic_ndars(noise, Gamma, Sh_bg, Sh0_bg):\n",
    "    \"\"\" Calculate mu_1 for the background, by summing over all pulsars and frequencies.\n",
    "    Assuming the B statistic, which maximizes S/N_B = mu_1/sigma_1\n",
    "    \n",
    "    Parameters\n",
    "    ----------\n",
    "    noise : (P,) 1darray of scalars\n",
    "        Noise spectral density of each pulsar.\n",
    "    Gamma : (P,P,) 2Darray of scalars\n",
    "        Overlap reduction function for jj>ii, 0 otherwise.\n",
    "    Sh_bg : (F,) 1Darray of scalars\n",
    "        Spectral density in the background.\n",
    "    Sh0_bg : (F,) 1Darray of scalars\n",
    "        Value of spectral density used to construct the statistic.\n",
    "\n",
    "    Returns\n",
    "    -------\n",
    "    mu_1B : \n",
    "        Expected value for the B statistic\n",
    "\n",
    "    Follows Eq. (A16) from Rosado et al. 2015.\n",
    "    \"\"\"\n",
    "    \n",
    "    # to get sum term in shape (P,P,F) for ii,jj,kk we want:\n",
    "    # Gamma in shape (P,P,1)\n",
    "    # Sh0 and Sh in shape (1,1,F)\n",
    "    # P_i in shape (P,1,1)\n",
    "    # P_j in shape (1,P,1)\n",
    "\n",
    "    numer = (Gamma[:,:,np.newaxis] **2 \n",
    "            * Sh_bg[np.newaxis, np.newaxis, :]\n",
    "            * Sh0_bg[np.newaxis, np.newaxis, :])\n",
    "    denom = ((noise[:, np.newaxis, np.newaxis] + Sh0_bg[np.newaxis,np.newaxis,:])\n",
    "               * (noise[np.newaxis, :, np.newaxis] + Sh0_bg[np.newaxis,np.newaxis,:])\n",
    "               + Gamma[:,:,np.newaxis]**2 * Sh0_bg[np.newaxis, np.newaxis, :]**2)\n",
    "    \n",
    "    # should not need this part if Gamma takes all jj<=ii parts to zero\n",
    "    sum = np.sum(numer/denom)\n",
    "    mu_1B = 2*sum\n",
    "    return mu_1B\n"
   ]
  },
  {
   "cell_type": "code",
   "execution_count": 123,
   "metadata": {},
   "outputs": [
    {
     "ename": "ValueError",
     "evalue": "operands could not be broadcast together with shapes (4,4,25) (40,40,25) ",
     "output_type": "error",
     "traceback": [
      "\u001b[0;31m---------------------------------------------------------------------------\u001b[0m",
      "\u001b[0;31mValueError\u001b[0m                                Traceback (most recent call last)",
      "Cell \u001b[0;32mIn[123], line 2\u001b[0m\n\u001b[1;32m      1\u001b[0m mu_1B_loops \u001b[39m=\u001b[39m mean1_Bstatistic_loops(noise, Gamma, Sh_bg, Sh0_bg)\n\u001b[0;32m----> 2\u001b[0m mu_1B \u001b[39m=\u001b[39m mean1_Bstatistic_ndars(noise, Gamma, Sh_bg, Sh0_bg)\n\u001b[1;32m      3\u001b[0m \u001b[39mprint\u001b[39m(mu_1B_loops, mu_1B)\n",
      "Cell \u001b[0;32mIn[122], line 71\u001b[0m, in \u001b[0;36mmean1_Bstatistic_ndars\u001b[0;34m(noise, Gamma, Sh_bg, Sh0_bg)\u001b[0m\n\u001b[1;32m     62\u001b[0m \u001b[39m# to get sum term in shape (P,P,F) for ii,jj,kk we want:\u001b[39;00m\n\u001b[1;32m     63\u001b[0m \u001b[39m# Gamma in shape (P,P,1)\u001b[39;00m\n\u001b[1;32m     64\u001b[0m \u001b[39m# Sh0 and Sh in shape (1,1,F)\u001b[39;00m\n\u001b[1;32m     65\u001b[0m \u001b[39m# P_i in shape (P,1,1)\u001b[39;00m\n\u001b[1;32m     66\u001b[0m \u001b[39m# P_j in shape (1,P,1)\u001b[39;00m\n\u001b[1;32m     68\u001b[0m numer \u001b[39m=\u001b[39m (Gamma[:,:,np\u001b[39m.\u001b[39mnewaxis] \u001b[39m*\u001b[39m\u001b[39m*\u001b[39m\u001b[39m2\u001b[39m \n\u001b[1;32m     69\u001b[0m         \u001b[39m*\u001b[39m Sh_bg[np\u001b[39m.\u001b[39mnewaxis, np\u001b[39m.\u001b[39mnewaxis, :]\n\u001b[1;32m     70\u001b[0m         \u001b[39m*\u001b[39m Sh0_bg[np\u001b[39m.\u001b[39mnewaxis, np\u001b[39m.\u001b[39mnewaxis, :])\n\u001b[0;32m---> 71\u001b[0m denom \u001b[39m=\u001b[39m ((noise[:, np\u001b[39m.\u001b[39;49mnewaxis, np\u001b[39m.\u001b[39;49mnewaxis] \u001b[39m+\u001b[39;49m Sh0_bg[np\u001b[39m.\u001b[39;49mnewaxis,np\u001b[39m.\u001b[39;49mnewaxis,:])\n\u001b[1;32m     72\u001b[0m            \u001b[39m*\u001b[39;49m (noise[np\u001b[39m.\u001b[39;49mnewaxis, :, np\u001b[39m.\u001b[39;49mnewaxis] \u001b[39m+\u001b[39;49m Sh0_bg[np\u001b[39m.\u001b[39;49mnewaxis,np\u001b[39m.\u001b[39;49mnewaxis,:])\n\u001b[1;32m     73\u001b[0m            \u001b[39m+\u001b[39;49m Gamma[:,:,np\u001b[39m.\u001b[39;49mnewaxis]\u001b[39m*\u001b[39;49m\u001b[39m*\u001b[39;49m\u001b[39m2\u001b[39;49m \u001b[39m*\u001b[39;49m Sh0_bg[np\u001b[39m.\u001b[39;49mnewaxis, np\u001b[39m.\u001b[39;49mnewaxis, :]\u001b[39m*\u001b[39;49m\u001b[39m*\u001b[39;49m\u001b[39m2\u001b[39;49m)\n\u001b[1;32m     75\u001b[0m \u001b[39m# should not need this part if Gamma takes all jj<=ii parts to zero\u001b[39;00m\n\u001b[1;32m     76\u001b[0m \u001b[39msum\u001b[39m \u001b[39m=\u001b[39m np\u001b[39m.\u001b[39msum(numer\u001b[39m/\u001b[39mdenom)\n",
      "\u001b[0;31mValueError\u001b[0m: operands could not be broadcast together with shapes (4,4,25) (40,40,25) "
     ]
    }
   ],
   "source": [
    "mu_1B_loops = mean1_Bstatistic_loops(noise, Gamma, Sh_bg, Sh0_bg)\n",
    "mu_1B = mean1_Bstatistic_ndars(noise, Gamma, Sh_bg, Sh0_bg)\n",
    "print(mu_1B_loops, mu_1B)"
   ]
  },
  {
   "attachments": {},
   "cell_type": "markdown",
   "metadata": {},
   "source": [
    "## 3.3 sigma_0\n",
    "$$ \\sigma_0^2 = 2\\sum_f \\sum_{ij} \\frac{\\Gamma_{ij}^2 S_{h0}^2 P_i P_j  }{\\big[ [P_i + S_{h0}] [P_j +S_{h0}] + \\Gamma_{ij}^2 S_{h0}^2  \\big]^2  } $$\n",
    "\n"
   ]
  },
  {
   "cell_type": "code",
   "execution_count": 124,
   "metadata": {},
   "outputs": [],
   "source": [
    "def sigma0_Bstatistic_loops(noise, Gamma, Sh_bg, Sh0_bg):\n",
    "    \"\"\" Calculate sigma_1 for the background, by summing over all pulsars and frequencies.\n",
    "    Assuming the B statistic, which maximizes S/N_B = mu_1/sigma_1\n",
    "    \n",
    "    Parameters\n",
    "    ----------\n",
    "    noise : (P,) 1darray of scalars\n",
    "        Noise spectral density of each pulsar.\n",
    "    Gamma : (P,P,) 2Darray of scalars\n",
    "        Overlap reduction function for j>i, 0 otherwise.\n",
    "    Sh_bg : (F,) 1Darray of scalars\n",
    "        Spectral density in the background.\n",
    "    Sh0_bg : (F,) 1Darray of scalars\n",
    "        Value of spectral density used to construct the statistic.\n",
    "\n",
    "    Returns\n",
    "    -------\n",
    "    sigma_0B : Scalar\n",
    "        \n",
    "    \n",
    "    Follows Eq. (A17) from Rosado et al. 2015.\n",
    "    \"\"\"\n",
    "\n",
    "    sigma_0B = 0 # sigma_1 squared\n",
    "    for ii in range(len(noise)):\n",
    "        P_i = noise[ii]\n",
    "        for jj in range(len(noise)): \n",
    "            if(jj>ii):\n",
    "                P_j = noise[jj]\n",
    "                Gamma_ij = Gamma[ii,jj]\n",
    "                for kk in range(len(Sh_bg)):\n",
    "                    Sh0 = Sh0_bg[kk]\n",
    "                    numer = Gamma_ij**2 * Sh0**2 * P_i * P_j\n",
    "                    denom = ((P_i + Sh0) * (P_j + Sh0) \n",
    "                             + Gamma_ij**2 * Sh0**2)**2\n",
    "                    sigma_0B += (numer/denom)\n",
    "    \n",
    "    sigma_0B = np.sqrt(2*sigma_0B)\n",
    "    return sigma_0B\n",
    "\n",
    "\n",
    "def sigma0_Bstatistic_ndars(noise, Gamma, Sh_bg, Sh0_bg):\n",
    "    \"\"\" Calculate sigma_1 for the background, by summing over all pulsars and frequencies.\n",
    "    Assuming the B statistic, which maximizes S/N_B = mu_1/sigma_1\n",
    "    \n",
    "    Parameters\n",
    "    ----------\n",
    "    noise : (P,) 1darray of scalars\n",
    "        Noise spectral density of each pulsar.\n",
    "    Gamma : (P,P,) 2Darray of scalars\n",
    "        Overlap reduction function for j>i, 0 otherwise.\n",
    "    Sh_bg : (F,) 1Darray of scalars\n",
    "        Spectral density in the background.\n",
    "    Sh0_bg : (F,) 1Darray of scalars\n",
    "        Value of spectral density used to construct the statistic.\n",
    "\n",
    "    Returns\n",
    "    -------\n",
    "    sigma_0B : Scalar\n",
    "        \n",
    "\n",
    "    Follows Eq. (A17) from Rosado et al. 2015.\n",
    "    \"\"\"\n",
    "\n",
    "    # to get sum term in shape (P,P,F) for ii,jj,kk we want:\n",
    "    # Gamma in shape (P,P,1)\n",
    "    # Sh0 and Sh in shape (1,1,F)\n",
    "    # P_i in shape (P,1,1)\n",
    "    # P_j in shape (1,P,1)\n",
    "\n",
    "    numer = (Gamma[:,:,np.newaxis]**2 * Sh0_bg[np.newaxis,np.newaxis,:]**2 \n",
    "             * noise[:,np.newaxis,np.newaxis] * noise[np.newaxis,:,np.newaxis])\n",
    "    denom = ((noise[:,np.newaxis,np.newaxis] + Sh0_bg[np.newaxis, np.newaxis,:])\n",
    "              * (noise[np.newaxis,:,np.newaxis] + Sh0_bg[np.newaxis,np.newaxis,:])\n",
    "             + Gamma[:,:,np.newaxis]**2 * Sh0_bg[np.newaxis,np.newaxis,:]**2)**2\n",
    "    \n",
    "    sum = np.sum(numer/denom)\n",
    "    sigma_0B = np.sqrt(2*sum)\n",
    "    return sigma_0B\n",
    "\n"
   ]
  },
  {
   "cell_type": "code",
   "execution_count": 125,
   "metadata": {},
   "outputs": [
    {
     "ename": "ValueError",
     "evalue": "operands could not be broadcast together with shapes (40,40,25) (4,1,1) ",
     "output_type": "error",
     "traceback": [
      "\u001b[0;31m---------------------------------------------------------------------------\u001b[0m",
      "\u001b[0;31mValueError\u001b[0m                                Traceback (most recent call last)",
      "Cell \u001b[0;32mIn[125], line 2\u001b[0m\n\u001b[1;32m      1\u001b[0m sigma_0B_loops \u001b[39m=\u001b[39m sigma0_Bstatistic_loops(noise, Gamma, Sh_bg, Sh0_bg)\n\u001b[0;32m----> 2\u001b[0m sigma_0B \u001b[39m=\u001b[39m sigma0_Bstatistic_ndars(noise, Gamma, Sh_bg, Sh0_bg)\n\u001b[1;32m      3\u001b[0m \u001b[39mprint\u001b[39m(sigma_0B_loops, sigma_0B)\n",
      "Cell \u001b[0;32mIn[124], line 71\u001b[0m, in \u001b[0;36msigma0_Bstatistic_ndars\u001b[0;34m(noise, Gamma, Sh_bg, Sh0_bg)\u001b[0m\n\u001b[1;32m     43\u001b[0m \u001b[39m\u001b[39m\u001b[39m\"\"\" Calculate sigma_1 for the background, by summing over all pulsars and frequencies.\u001b[39;00m\n\u001b[1;32m     44\u001b[0m \u001b[39mAssuming the B statistic, which maximizes S/N_B = mu_1/sigma_1\u001b[39;00m\n\u001b[1;32m     45\u001b[0m \u001b[39m\u001b[39;00m\n\u001b[0;32m   (...)\u001b[0m\n\u001b[1;32m     62\u001b[0m \u001b[39mFollows Eq. (A17) from Rosado et al. 2015.\u001b[39;00m\n\u001b[1;32m     63\u001b[0m \u001b[39m\"\"\"\u001b[39;00m\n\u001b[1;32m     65\u001b[0m \u001b[39m# to get sum term in shape (P,P,F) for ii,jj,kk we want:\u001b[39;00m\n\u001b[1;32m     66\u001b[0m \u001b[39m# Gamma in shape (P,P,1)\u001b[39;00m\n\u001b[1;32m     67\u001b[0m \u001b[39m# Sh0 and Sh in shape (1,1,F)\u001b[39;00m\n\u001b[1;32m     68\u001b[0m \u001b[39m# P_i in shape (P,1,1)\u001b[39;00m\n\u001b[1;32m     69\u001b[0m \u001b[39m# P_j in shape (1,P,1)\u001b[39;00m\n\u001b[0;32m---> 71\u001b[0m numer \u001b[39m=\u001b[39m (Gamma[:,:,np\u001b[39m.\u001b[39;49mnewaxis]\u001b[39m*\u001b[39;49m\u001b[39m*\u001b[39;49m\u001b[39m2\u001b[39;49m \u001b[39m*\u001b[39;49m Sh0_bg[np\u001b[39m.\u001b[39;49mnewaxis,np\u001b[39m.\u001b[39;49mnewaxis,:]\u001b[39m*\u001b[39;49m\u001b[39m*\u001b[39;49m\u001b[39m2\u001b[39;49m \n\u001b[1;32m     72\u001b[0m          \u001b[39m*\u001b[39;49m noise[:,np\u001b[39m.\u001b[39;49mnewaxis,np\u001b[39m.\u001b[39;49mnewaxis] \u001b[39m*\u001b[39m noise[np\u001b[39m.\u001b[39mnewaxis,:,np\u001b[39m.\u001b[39mnewaxis])\n\u001b[1;32m     73\u001b[0m denom \u001b[39m=\u001b[39m ((noise[:,np\u001b[39m.\u001b[39mnewaxis,np\u001b[39m.\u001b[39mnewaxis] \u001b[39m+\u001b[39m Sh0_bg[np\u001b[39m.\u001b[39mnewaxis, np\u001b[39m.\u001b[39mnewaxis,:])\n\u001b[1;32m     74\u001b[0m           \u001b[39m*\u001b[39m (noise[np\u001b[39m.\u001b[39mnewaxis,:,np\u001b[39m.\u001b[39mnewaxis] \u001b[39m+\u001b[39m Sh0_bg[np\u001b[39m.\u001b[39mnewaxis,np\u001b[39m.\u001b[39mnewaxis,:])\n\u001b[1;32m     75\u001b[0m          \u001b[39m+\u001b[39m Gamma[:,:,np\u001b[39m.\u001b[39mnewaxis]\u001b[39m*\u001b[39m\u001b[39m*\u001b[39m\u001b[39m2\u001b[39m \u001b[39m*\u001b[39m Sh0_bg[np\u001b[39m.\u001b[39mnewaxis,np\u001b[39m.\u001b[39mnewaxis,:]\u001b[39m*\u001b[39m\u001b[39m*\u001b[39m\u001b[39m2\u001b[39m)\u001b[39m*\u001b[39m\u001b[39m*\u001b[39m\u001b[39m2\u001b[39m\n\u001b[1;32m     77\u001b[0m \u001b[39msum\u001b[39m \u001b[39m=\u001b[39m np\u001b[39m.\u001b[39msum(numer\u001b[39m/\u001b[39mdenom)\n",
      "\u001b[0;31mValueError\u001b[0m: operands could not be broadcast together with shapes (40,40,25) (4,1,1) "
     ]
    }
   ],
   "source": [
    "sigma_0B_loops = sigma0_Bstatistic_loops(noise, Gamma, Sh_bg, Sh0_bg)\n",
    "sigma_0B = sigma0_Bstatistic_ndars(noise, Gamma, Sh_bg, Sh0_bg)\n",
    "print(sigma_0B_loops, sigma_0B)"
   ]
  },
  {
   "attachments": {},
   "cell_type": "markdown",
   "metadata": {},
   "source": [
    "## 3.4 sigma_1\n",
    "$$ \\sigma_1^2 = 2 \\sum_f \\sum_{ij} \\frac{\\Gamma_{ij}^2 S_{h0}^2 \\big[ [P_i + S_h] [P_j + S_h] + \\Gamma_{ij}^2 S_h^2   \\big]  }{\\big[[P_i + S_{h0}][P_j + S_{h0}] + \\Gamma_{ij}^2 S_{h0}^2  \\big]^2  } $$"
   ]
  },
  {
   "cell_type": "code",
   "execution_count": 126,
   "metadata": {},
   "outputs": [],
   "source": [
    "def sigma1_Bstatistic_loops(noise, Gamma, Sh_bg, Sh0_bg):\n",
    "    \"\"\" Calculate sigma_1 for the background, by summing over all pulsars and frequencies.\n",
    "    Assuming the B statistic, which maximizes S/N_B = mu_1/sigma_1\n",
    "    \n",
    "    Parameters\n",
    "    ----------\n",
    "    noise : (P,) 1darray of scalars\n",
    "        Noise spectral density of each pulsar.\n",
    "    Gamma : (P,P,) 2Darray of scalars\n",
    "        Overlap reduction function for j>i, 0 otherwise.\n",
    "    Sh_bg : (F,) 1Darray of scalars\n",
    "        Spectral density in the background.\n",
    "    Sh0_bg : (F,) 1Darray of scalars\n",
    "        Value of spectral density used to construct the statistic.\n",
    "\n",
    "    Returns\n",
    "    -------\n",
    "    sigma_1B : Scalar\n",
    "        \n",
    "\n",
    "    Follows Eq. (A18) from Rosado et al. 2015.\n",
    "    \"\"\"\n",
    "\n",
    "    sigma_1B = 0 # sigma_1 squared\n",
    "    for ii in range(len(noise)):\n",
    "        P_i = noise[ii]\n",
    "        for jj in range(len(noise)): \n",
    "            if(jj>ii):\n",
    "                P_j = noise[jj]\n",
    "                Gamma_ij = Gamma[ii,jj]\n",
    "                for kk in range(len(Sh_bg)):\n",
    "                    Sh = Sh_bg[kk]\n",
    "                    Sh0 = Sh0_bg[kk]\n",
    "                    numer = (Gamma_ij**2 * Sh0**2 * \n",
    "                             ((P_i + Sh) * (P_j + Sh) \n",
    "                              + Gamma_ij**2 * Sh**2))\n",
    "                    denom = ((P_i + Sh0) * (P_j + Sh0) \n",
    "                             + Gamma_ij**2 * Sh0**2)**2\n",
    "                    sigma_1B += (numer/denom)\n",
    "    \n",
    "    sigma_1B = np.sqrt(2*sigma_1B)\n",
    "    return sigma_1B\n",
    "\n",
    "\n",
    "def sigma1_Bstatistic_ndars(noise, Gamma, Sh_bg, Sh0_bg):\n",
    "    \"\"\" Calculate sigma_1 for the background, by summing over all pulsars and frequencies.\n",
    "    Assuming the B statistic, which maximizes S/N_B = mu_1/sigma_1\n",
    "    \n",
    "    Parameters\n",
    "    ----------\n",
    "    noise : (P,) 1darray of scalars\n",
    "        Noise spectral density of each pulsar.\n",
    "    Gamma : (P,P,) 2Darray of scalars\n",
    "        Overlap reduction function for j>i, 0 otherwise.\n",
    "    Sh_bg : (F,) 1Darray of scalars\n",
    "        Spectral density in the background.\n",
    "    Sh0_bg : (F,) 1Darray of scalars\n",
    "        Value of spectral density used to construct the statistic.\n",
    "\n",
    "    Returns\n",
    "    -------\n",
    "    sigma_1B : Scalar\n",
    "        \n",
    "\n",
    "    Follows Eq. (A18) from Rosado et al. 2015.\n",
    "    \"\"\"\n",
    "\n",
    "    # to get sum term in shape (P,P,F) for ii,jj,kk we want:\n",
    "    # Gamma in shape (P,P,1)\n",
    "    # Sh0 and Sh in shape (1,1,F)\n",
    "    # P_i in shape (P,1,1)\n",
    "    # P_j in shape (1,P,1)\n",
    "\n",
    "    numer = (Gamma[:,:,np.newaxis]**2 * Sh0_bg[np.newaxis,np.newaxis,:]**2 \n",
    "             * ((noise[:,np.newaxis,np.newaxis] + Sh_bg[np.newaxis,np.newaxis,:])\n",
    "                * (noise[np.newaxis,:,np.newaxis] + Sh_bg[np.newaxis,np.newaxis,:])\n",
    "                + Gamma[:,:,np.newaxis]**2 * Sh_bg[np.newaxis,np.newaxis,:]**2))\n",
    "             \n",
    "    denom = ((noise[:,np.newaxis,np.newaxis] + Sh0_bg[np.newaxis, np.newaxis,:])\n",
    "              * (noise[np.newaxis,:,np.newaxis] + Sh0_bg[np.newaxis,np.newaxis,:])\n",
    "             + Gamma[:,:,np.newaxis]**2 * Sh0_bg[np.newaxis,np.newaxis,:]**2)**2\n",
    "    \n",
    "    sum = np.sum(numer/denom)\n",
    "    sigma_1B = np.sqrt(2*sum)\n",
    "    return sigma_1B\n",
    "\n"
   ]
  },
  {
   "cell_type": "code",
   "execution_count": 127,
   "metadata": {},
   "outputs": [
    {
     "ename": "ValueError",
     "evalue": "operands could not be broadcast together with shapes (4,4,25) (40,40,25) ",
     "output_type": "error",
     "traceback": [
      "\u001b[0;31m---------------------------------------------------------------------------\u001b[0m",
      "\u001b[0;31mValueError\u001b[0m                                Traceback (most recent call last)",
      "Cell \u001b[0;32mIn[127], line 2\u001b[0m\n\u001b[1;32m      1\u001b[0m sigma_1B_loops \u001b[39m=\u001b[39m sigma1_Bstatistic_loops(noise, Gamma, Sh_bg, Sh0_bg)\n\u001b[0;32m----> 2\u001b[0m sigma_1B \u001b[39m=\u001b[39m sigma1_Bstatistic_ndars(noise, Gamma, Sh_bg, Sh0_bg)\n\u001b[1;32m      3\u001b[0m \u001b[39mprint\u001b[39m(sigma_1B_loops, sigma_1B)\n",
      "Cell \u001b[0;32mIn[126], line 75\u001b[0m, in \u001b[0;36msigma1_Bstatistic_ndars\u001b[0;34m(noise, Gamma, Sh_bg, Sh0_bg)\u001b[0m\n\u001b[1;32m     46\u001b[0m \u001b[39m\u001b[39m\u001b[39m\"\"\" Calculate sigma_1 for the background, by summing over all pulsars and frequencies.\u001b[39;00m\n\u001b[1;32m     47\u001b[0m \u001b[39mAssuming the B statistic, which maximizes S/N_B = mu_1/sigma_1\u001b[39;00m\n\u001b[1;32m     48\u001b[0m \u001b[39m\u001b[39;00m\n\u001b[0;32m   (...)\u001b[0m\n\u001b[1;32m     65\u001b[0m \u001b[39mFollows Eq. (A18) from Rosado et al. 2015.\u001b[39;00m\n\u001b[1;32m     66\u001b[0m \u001b[39m\"\"\"\u001b[39;00m\n\u001b[1;32m     68\u001b[0m \u001b[39m# to get sum term in shape (P,P,F) for ii,jj,kk we want:\u001b[39;00m\n\u001b[1;32m     69\u001b[0m \u001b[39m# Gamma in shape (P,P,1)\u001b[39;00m\n\u001b[1;32m     70\u001b[0m \u001b[39m# Sh0 and Sh in shape (1,1,F)\u001b[39;00m\n\u001b[1;32m     71\u001b[0m \u001b[39m# P_i in shape (P,1,1)\u001b[39;00m\n\u001b[1;32m     72\u001b[0m \u001b[39m# P_j in shape (1,P,1)\u001b[39;00m\n\u001b[1;32m     74\u001b[0m numer \u001b[39m=\u001b[39m (Gamma[:,:,np\u001b[39m.\u001b[39mnewaxis]\u001b[39m*\u001b[39m\u001b[39m*\u001b[39m\u001b[39m2\u001b[39m \u001b[39m*\u001b[39m Sh0_bg[np\u001b[39m.\u001b[39mnewaxis,np\u001b[39m.\u001b[39mnewaxis,:]\u001b[39m*\u001b[39m\u001b[39m*\u001b[39m\u001b[39m2\u001b[39m \n\u001b[0;32m---> 75\u001b[0m          \u001b[39m*\u001b[39m ((noise[:,np\u001b[39m.\u001b[39;49mnewaxis,np\u001b[39m.\u001b[39;49mnewaxis] \u001b[39m+\u001b[39;49m Sh_bg[np\u001b[39m.\u001b[39;49mnewaxis,np\u001b[39m.\u001b[39;49mnewaxis,:])\n\u001b[1;32m     76\u001b[0m             \u001b[39m*\u001b[39;49m (noise[np\u001b[39m.\u001b[39;49mnewaxis,:,np\u001b[39m.\u001b[39;49mnewaxis] \u001b[39m+\u001b[39;49m Sh_bg[np\u001b[39m.\u001b[39;49mnewaxis,np\u001b[39m.\u001b[39;49mnewaxis,:])\n\u001b[1;32m     77\u001b[0m             \u001b[39m+\u001b[39;49m Gamma[:,:,np\u001b[39m.\u001b[39;49mnewaxis]\u001b[39m*\u001b[39;49m\u001b[39m*\u001b[39;49m\u001b[39m2\u001b[39;49m \u001b[39m*\u001b[39;49m Sh_bg[np\u001b[39m.\u001b[39;49mnewaxis,np\u001b[39m.\u001b[39;49mnewaxis,:]\u001b[39m*\u001b[39;49m\u001b[39m*\u001b[39;49m\u001b[39m2\u001b[39;49m))\n\u001b[1;32m     79\u001b[0m denom \u001b[39m=\u001b[39m ((noise[:,np\u001b[39m.\u001b[39mnewaxis,np\u001b[39m.\u001b[39mnewaxis] \u001b[39m+\u001b[39m Sh0_bg[np\u001b[39m.\u001b[39mnewaxis, np\u001b[39m.\u001b[39mnewaxis,:])\n\u001b[1;32m     80\u001b[0m           \u001b[39m*\u001b[39m (noise[np\u001b[39m.\u001b[39mnewaxis,:,np\u001b[39m.\u001b[39mnewaxis] \u001b[39m+\u001b[39m Sh0_bg[np\u001b[39m.\u001b[39mnewaxis,np\u001b[39m.\u001b[39mnewaxis,:])\n\u001b[1;32m     81\u001b[0m          \u001b[39m+\u001b[39m Gamma[:,:,np\u001b[39m.\u001b[39mnewaxis]\u001b[39m*\u001b[39m\u001b[39m*\u001b[39m\u001b[39m2\u001b[39m \u001b[39m*\u001b[39m Sh0_bg[np\u001b[39m.\u001b[39mnewaxis,np\u001b[39m.\u001b[39mnewaxis,:]\u001b[39m*\u001b[39m\u001b[39m*\u001b[39m\u001b[39m2\u001b[39m)\u001b[39m*\u001b[39m\u001b[39m*\u001b[39m\u001b[39m2\u001b[39m\n\u001b[1;32m     83\u001b[0m \u001b[39msum\u001b[39m \u001b[39m=\u001b[39m np\u001b[39m.\u001b[39msum(numer\u001b[39m/\u001b[39mdenom)\n",
      "\u001b[0;31mValueError\u001b[0m: operands could not be broadcast together with shapes (4,4,25) (40,40,25) "
     ]
    }
   ],
   "source": [
    "sigma_1B_loops = sigma1_Bstatistic_loops(noise, Gamma, Sh_bg, Sh0_bg)\n",
    "sigma_1B = sigma1_Bstatistic_ndars(noise, Gamma, Sh_bg, Sh0_bg)\n",
    "print(sigma_1B_loops, sigma_1B)"
   ]
  },
  {
   "attachments": {},
   "cell_type": "markdown",
   "metadata": {},
   "source": [
    "## 3.5 SNR Check\n",
    "$$S/N_B \\equiv \\frac{\\mu_1}{ \\sigma_1} = \\Bigg[ 2 \\sum_f \\sum_{ij} \\frac{\\Gamma_{ij}^2 S_h^2}{P_iP_j + S_h[P_i + P_j] + S_h^2[1+\\Gamma_{ij}^2]}   \\Bigg]^{1/2} $$"
   ]
  },
  {
   "cell_type": "code",
   "execution_count": 128,
   "metadata": {},
   "outputs": [],
   "source": [
    "def snr_bg_B(noise, Gamma, Sh_bg):\n",
    "    \"\"\" Calculate S/N_B for the background, using P_i, Gamma, S_h and S_h0\n",
    "    \n",
    "    Parameters\n",
    "    ----------\n",
    "    noise : (P,) 1darray of scalars\n",
    "        Noise spectral density of each pulsar.\n",
    "    Gamma : (P,P,) 2Darray of scalars\n",
    "        Overlap reduction function for j>i, 0 otherwise.\n",
    "    Sh_bg : (F,) 1Darray of scalars\n",
    "        Spectral density in the background.\n",
    "    Sh0_bg : (F,) 1Darray of scalars\n",
    "        Value of spectral density used to construct the statistic.\n",
    "\n",
    "    Returns\n",
    "    -------\n",
    "    SNR_B : Scalar\n",
    "        Signal to noise ratio assuming the B statistic\n",
    "        \n",
    "\n",
    "    Follows Eq. (A19) from Rosado et al. 2015.\n",
    "    \"\"\"\n",
    "\n",
    "\n",
    "    # to get sum term in shape (P,P,F) for ii,jj,kk we want:\n",
    "    # Gamma in shape (P,P,1)\n",
    "    # Sh0 and Sh in shape (1,1,F)\n",
    "    # P_i in shape (P,1,1)\n",
    "    # P_j in shape (1,P,1)\n",
    "\n",
    "    numer = Gamma[:,:,np.newaxis]**2 * Sh_bg[np.newaxis,np.newaxis,:]**2\n",
    "    denom = (noise[:,np.newaxis,np.newaxis] * noise[np.newaxis,:,np.newaxis]\n",
    "             + Sh_bg[np.newaxis,np.newaxis,:] * (noise[:,np.newaxis,np.newaxis]+noise[np.newaxis,:,np.newaxis])\n",
    "             + Sh_bg[np.newaxis,np.newaxis,:]**2 * (1 + Gamma[:,:,np.newaxis]**2))\n",
    "\n",
    "    sum = np.sum(numer/denom)\n",
    "    SNR_B = np.sqrt(2*sum)\n",
    "    return SNR_B\n",
    "\n",
    "    "
   ]
  },
  {
   "cell_type": "code",
   "execution_count": 129,
   "metadata": {},
   "outputs": [
    {
     "ename": "ValueError",
     "evalue": "operands could not be broadcast together with shapes (4,4,25) (40,40,25) ",
     "output_type": "error",
     "traceback": [
      "\u001b[0;31m---------------------------------------------------------------------------\u001b[0m",
      "\u001b[0;31mValueError\u001b[0m                                Traceback (most recent call last)",
      "Cell \u001b[0;32mIn[129], line 1\u001b[0m\n\u001b[0;32m----> 1\u001b[0m SNR_B \u001b[39m=\u001b[39m snr_bg_B(noise, Gamma, Sh_bg)\n\u001b[1;32m      2\u001b[0m \u001b[39mprint\u001b[39m(SNR_B, mu_1B\u001b[39m/\u001b[39msigma_1B)\n",
      "Cell \u001b[0;32mIn[128], line 32\u001b[0m, in \u001b[0;36msnr_bg_B\u001b[0;34m(noise, Gamma, Sh_bg)\u001b[0m\n\u001b[1;32m     25\u001b[0m \u001b[39m# to get sum term in shape (P,P,F) for ii,jj,kk we want:\u001b[39;00m\n\u001b[1;32m     26\u001b[0m \u001b[39m# Gamma in shape (P,P,1)\u001b[39;00m\n\u001b[1;32m     27\u001b[0m \u001b[39m# Sh0 and Sh in shape (1,1,F)\u001b[39;00m\n\u001b[1;32m     28\u001b[0m \u001b[39m# P_i in shape (P,1,1)\u001b[39;00m\n\u001b[1;32m     29\u001b[0m \u001b[39m# P_j in shape (1,P,1)\u001b[39;00m\n\u001b[1;32m     31\u001b[0m numer \u001b[39m=\u001b[39m Gamma[:,:,np\u001b[39m.\u001b[39mnewaxis]\u001b[39m*\u001b[39m\u001b[39m*\u001b[39m\u001b[39m2\u001b[39m \u001b[39m*\u001b[39m Sh_bg[np\u001b[39m.\u001b[39mnewaxis,np\u001b[39m.\u001b[39mnewaxis,:]\u001b[39m*\u001b[39m\u001b[39m*\u001b[39m\u001b[39m2\u001b[39m\n\u001b[0;32m---> 32\u001b[0m denom \u001b[39m=\u001b[39m (noise[:,np\u001b[39m.\u001b[39;49mnewaxis,np\u001b[39m.\u001b[39;49mnewaxis] \u001b[39m*\u001b[39;49m noise[np\u001b[39m.\u001b[39;49mnewaxis,:,np\u001b[39m.\u001b[39;49mnewaxis]\n\u001b[1;32m     33\u001b[0m          \u001b[39m+\u001b[39;49m Sh_bg[np\u001b[39m.\u001b[39;49mnewaxis,np\u001b[39m.\u001b[39;49mnewaxis,:] \u001b[39m*\u001b[39;49m (noise[:,np\u001b[39m.\u001b[39;49mnewaxis,np\u001b[39m.\u001b[39;49mnewaxis]\u001b[39m+\u001b[39;49mnoise[np\u001b[39m.\u001b[39;49mnewaxis,:,np\u001b[39m.\u001b[39;49mnewaxis])\n\u001b[1;32m     34\u001b[0m          \u001b[39m+\u001b[39;49m Sh_bg[np\u001b[39m.\u001b[39;49mnewaxis,np\u001b[39m.\u001b[39;49mnewaxis,:]\u001b[39m*\u001b[39;49m\u001b[39m*\u001b[39;49m\u001b[39m2\u001b[39;49m \u001b[39m*\u001b[39;49m (\u001b[39m1\u001b[39;49m \u001b[39m+\u001b[39;49m Gamma[:,:,np\u001b[39m.\u001b[39;49mnewaxis]\u001b[39m*\u001b[39;49m\u001b[39m*\u001b[39;49m\u001b[39m2\u001b[39;49m))\n\u001b[1;32m     36\u001b[0m \u001b[39msum\u001b[39m \u001b[39m=\u001b[39m np\u001b[39m.\u001b[39msum(numer\u001b[39m/\u001b[39mdenom)\n\u001b[1;32m     37\u001b[0m SNR_B \u001b[39m=\u001b[39m np\u001b[39m.\u001b[39msqrt(\u001b[39m2\u001b[39m\u001b[39m*\u001b[39m\u001b[39msum\u001b[39m)\n",
      "\u001b[0;31mValueError\u001b[0m: operands could not be broadcast together with shapes (4,4,25) (40,40,25) "
     ]
    }
   ],
   "source": [
    "SNR_B = snr_bg_B(noise, Gamma, Sh_bg)\n",
    "print(SNR_B, mu_1B/sigma_1B)"
   ]
  },
  {
   "attachments": {},
   "cell_type": "markdown",
   "metadata": {},
   "source": [
    "## 3.6 Detection Probability\n",
    "$$ \\gamma_{bg} = \\frac{1}{2} \\mathrm{erfc} \\big[ \\frac{\\sqrt{2} \\sigma_0 \\mathrm{erfc}^{-1}(2\\alpha_0) - \\mu_1}{\\sqrt{2} \\sigma_1}\\big]"
   ]
  },
  {
   "cell_type": "code",
   "execution_count": 28,
   "metadata": {},
   "outputs": [],
   "source": [
    "ALPHA0 = 0.001 # false alarm probability (FAP)\n",
    "\n",
    "def bg_detection_probability(sigma_0, sigma_1, mu_1, alpha_0):\n",
    "    \"\"\" Calculate the background detection probability, gamma_bg.\n",
    "\n",
    "    Parameters\n",
    "    ----------\n",
    "    sigma_0 : scalar\n",
    "        Standard deviation of stochastic noise processes.\n",
    "    sigma_1 : scalar\n",
    "        Standard deviation of GWB PDF.\n",
    "    mu_1 : scalar\n",
    "        Mean of GWB PDF.\n",
    "    alpha_0 : scalar\n",
    "        False alarm probability max.\n",
    "\n",
    "    Returns\n",
    "    -------\n",
    "    dp_bg : scalar\n",
    "        Background detection probability.\n",
    "\n",
    "        \n",
    "    Follows Rosado et al. 2015 Eq. (15)\n",
    "    \"\"\"\n",
    "    temp = ((np.sqrt(2) * sigma_0 * sp.special.erfcinv(2*alpha_0) - mu_1)\n",
    "            /(np.sqrt(2) * sigma_1))\n",
    "    dp_bg = .5 * sp.special.erfc(temp)\n",
    "    return dp_bg"
   ]
  },
  {
   "cell_type": "code",
   "execution_count": 29,
   "metadata": {},
   "outputs": [
    {
     "name": "stdout",
     "output_type": "stream",
     "text": [
      "0.4205217089902424\n"
     ]
    }
   ],
   "source": [
    "dp_bg = bg_detection_probability(sigma_0B, sigma_1B, mu_1B, ALPHA0)\n",
    "print(dp_bg)"
   ]
  },
  {
   "cell_type": "code",
   "execution_count": 34,
   "metadata": {},
   "outputs": [],
   "source": [
    "def detect_bg(THETAS, PHIS, SIGMAS, fobs, cad, hc_bg, return_all = False):\n",
    "    \"\"\" Calculate the background detection probability, and all intermediary steps.\n",
    "\n",
    "    Parameters\n",
    "    ----------\n",
    "    THETAS : (P,) 1Darray of scalars\n",
    "        Latitudinal angular position of each pulsar in radians.\n",
    "    PHIS: (P,) 1Darray of scalars\n",
    "        Longitudinal angular position of each pulsar in radians.\n",
    "    SIGMAS : (P,) 1Darray of scalars\n",
    "        Sigma_i of each pulsar in seconds.\n",
    "    fobs : (F,) 1Darray of scalars\n",
    "        Frequency bin centers in hertz.\n",
    "    cad : scalar\n",
    "        Cadence of observations in seconds.\n",
    "    hc_bg : (F,)\n",
    "        Characteristic strain of the background at each frequency.\n",
    "    return_all : Bool\n",
    "        Whether to return all parameters or just dp_bg\n",
    "\n",
    "    Returns\n",
    "    -------\n",
    "    dp_bg : scalar\n",
    "        Background detection probability\n",
    "    Gamma : (P, P) 2D Array\n",
    "        Overlap reduction function for j>i, 0 otherwise.\n",
    "        Only returned if return_all = True.\n",
    "    Sh_bg : (F,) 1Darray\n",
    "        Spectral density\n",
    "        Only returned if return_all = True.\n",
    "    noise : (P,) 1Darray\n",
    "        Spectral noise density of each pulsar.\n",
    "        Only returned if return_all = True.\n",
    "    mu_1B : scalar\n",
    "        Expected value for the B statistic.\n",
    "        Only returned if return_all = True.\n",
    "    sigma_0B : scalar\n",
    "    sigma_1B : scalar\n",
    "\n",
    "    \"\"\"\n",
    "    # Overlap Reduction Function\n",
    "    num = len(THETAS) # number of pulsars, P\n",
    "    Gamma = np.zeros((num, num)) # (P,P) 2Darray of scalars, Overlap reduction function between all puolsar\n",
    "    for ii in range(num):\n",
    "        for jj in range(num):\n",
    "            theta_ij =  relative_angle(THETAS[ii], PHIS[ii],\n",
    "                                        THETAS[jj], PHIS[jj])\n",
    "            # find ORF\n",
    "            Gamma[ii,jj] = orf_ij(ii, jj, theta_ij)\n",
    "\n",
    "    # Spectral Density\n",
    "    Sh_bg = power_spectral_density(hc_bg[:], fobs) # spectral density of bg, using 0th realization\n",
    "    Sh0_bg = Sh_bg # approximation used in Rosado et al. 2015\n",
    "\n",
    "    # Noise \n",
    "    noise = _white_noise(cad, SIGMAS) \n",
    "\n",
    "    mu_1B = mean1_Bstatistic_ndars(noise, Gamma, Sh_bg, Sh0_bg)\n",
    "\n",
    "    sigma_0B = sigma0_Bstatistic_ndars(noise, Gamma, Sh_bg, Sh0_bg)\n",
    "\n",
    "    sigma_1B = sigma1_Bstatistic_ndars(noise, Gamma, Sh_bg, Sh0_bg)\n",
    "\n",
    "    dp_bg = bg_detection_probability(sigma_0B, sigma_1B, mu_1B, ALPHA0)\n",
    "\n",
    "    if(return_all):\n",
    "        return dp_bg, Gamma, Sh_bg, noise, mu_1B, sigma_0B, sigma_1B\n",
    "    else:\n",
    "        return dp_bg"
   ]
  },
  {
   "cell_type": "markdown",
   "metadata": {},
   "source": [
    "# Full Walkthrough"
   ]
  },
  {
   "cell_type": "code",
   "execution_count": 35,
   "metadata": {},
   "outputs": [],
   "source": [
    "# # example 5\n",
    "# edges, number, fobs, exname = ss.example5(print_test=False)\n",
    "# hc_bg, hc_ss, ssidx, hsamp, bgpar, sspar = ss.ss_by_cdefs(edges, number, 30, params=True)\n",
    "# dur = 10.0*YR\n",
    "# cad = .2*YR"
   ]
  },
  {
   "attachments": {},
   "cell_type": "markdown",
   "metadata": {},
   "source": [
    "Print Info"
   ]
  },
  {
   "cell_type": "code",
   "execution_count": 39,
   "metadata": {},
   "outputs": [
    {
     "name": "stdout",
     "output_type": "stream",
     "text": [
      "Number of pulsars: 40\n",
      "\n",
      "OVERLAP\n",
      "thetas (pi):\t3.18e-04, 7.72e-02, 3.00e-01, 1.00e+00, 1.70e+00, 1.92e+00, 2.00e+00\n",
      "Gamma:\t-1.52e-01, -1.49e-01, -1.22e-01, 8.22e-02, 2.79e-01, 4.59e-01, nan\n",
      "\n",
      "NOISE\n",
      "cadence (s): \t6.31e+06\n",
      "sigmas (s): %s 1.00e-06, 1.04e-06, 1.15e-06, 1.50e-06, 1.85e-06, 1.96e-06, 2.00e-06\n",
      "P_i (s^3):\t1.26e-05, 1.36e-05, 1.67e-05, 2.84e-05, 4.32e-05, 4.86e-05, 5.05e-05\n",
      "\n",
      "SIGNAL\n",
      "fobs (nHz): \t3.17e+00, 5.55e+00, 1.42e+01, 4.12e+01, 6.82e+01, 7.68e+01, 7.92e+01\n",
      "hc_bg:   \t2.81e-16, 3.05e-16, 3.91e-16, 6.88e-16, 1.88e-15, 4.20e-15, 6.22e-15\n",
      "S_h (s^3):\t1.23e-12, 1.32e-12, 4.33e-12, 1.04e-10, 1.23e-08, 2.89e-06, 1.03e-05\n",
      "\n",
      "B STATISTICS\n",
      "sigma_0: \tnan\n",
      "sigma_1: \tnan\n",
      "mu_1:    \tnan\n",
      "\n",
      "DETECTION PROB\n",
      "DP_bg:   \tnan\n",
      "SNR_B:   \tnan\n"
     ]
    }
   ],
   "source": [
    "num_pulsars = 40\n",
    "THETAS = np.linspace(0.001, 2*np.pi, num_pulsars) # (P,) 1Darray of scalars, angular sky position of each pulsar\n",
    "PHIS = np.linspace(0.001, np.pi, num_pulsars)\n",
    "SIGMAS = np.linspace(1e-6, 2e-6, num_pulsars) # (P,) 1Darray of scalars, sigma_i of each pulsar\n",
    "ALPHA0 = 0.001\n",
    "dp_bg, Gamma, Sh_bg, noise, mu_1B, sigma_0B, sigma_1B = \\\n",
    "    detect_bg(THETAS, PHIS, SIGMAS, fobs, cad, hc_bg[:,1], return_all=True)\n",
    "print('Number of pulsars:',num_pulsars)\n",
    "print('\\nOVERLAP')\n",
    "print('thetas (pi):\\t%s' % str(holo.utils.stats(THETAS/np.pi)))\n",
    "print('Gamma:\\t%s' % str(holo.utils.stats(Gamma)))\n",
    "# print('Gamma:\\t', Gamma)\n",
    "\n",
    "print('\\nNOISE')\n",
    "print('cadence (s): \\t%.2e' % cad)\n",
    "print('sigmas (s): %s', str(holo.utils.stats(SIGMAS)))\n",
    "print('P_i (s^3):\\t%s' % str(holo.utils.stats(noise)))\n",
    "\n",
    "print('\\nSIGNAL')\n",
    "print('fobs (nHz): \\t%s' % str(holo.utils.stats(fobs*10**9)))\n",
    "print('hc_bg:   \\t%s' % str(holo.utils.stats(hc_bg[:,0])))\n",
    "print('S_h (s^3):\\t%s' % str(holo.utils.stats(Sh_bg)))\n",
    "\n",
    "print('\\nB STATISTICS')\n",
    "print('sigma_0: \\t%.2e' % sigma_0B)\n",
    "print('sigma_1: \\t%.2e' % sigma_1B)\n",
    "print('mu_1:    \\t%.2e' % mu_1B)\n",
    "\n",
    "print('\\nDETECTION PROB')\n",
    "print('DP_bg:   \\t%.2e' % dp_bg)\n",
    "print('SNR_B:   \\t%.2f' % (mu_1B/sigma_1B))"
   ]
  },
  {
   "attachments": {},
   "cell_type": "markdown",
   "metadata": {},
   "source": [
    "Compare to hasasia"
   ]
  },
  {
   "cell_type": "code",
   "execution_count": null,
   "metadata": {},
   "outputs": [],
   "source": [
    "scGWB = hsen.GWBSensitivityCurve(spectra)"
   ]
  },
  {
   "cell_type": "code",
   "execution_count": null,
   "metadata": {},
   "outputs": [
    {
     "ename": "NameError",
     "evalue": "name 'pulsars' is not defined",
     "output_type": "error",
     "traceback": [
      "\u001b[0;31m---------------------------------------------------------------------------\u001b[0m",
      "\u001b[0;31mNameError\u001b[0m                                 Traceback (most recent call last)",
      "Cell \u001b[0;32mIn[2], line 2\u001b[0m\n\u001b[1;32m      1\u001b[0m \u001b[39m# print(Sh_bg)\u001b[39;00m\n\u001b[0;32m----> 2\u001b[0m \u001b[39mprint\u001b[39m(\u001b[39m'\u001b[39m\u001b[39mpulsars:\u001b[39m\u001b[39m'\u001b[39m, pulsars[\u001b[39m0\u001b[39m]\u001b[39m.\u001b[39m\u001b[39m__dict__\u001b[39m\u001b[39m.\u001b[39mkeys())\n\u001b[1;32m      3\u001b[0m \u001b[39mprint\u001b[39m(\u001b[39m'\u001b[39m\u001b[39mspectra:\u001b[39m\u001b[39m'\u001b[39m, spectra[\u001b[39m0\u001b[39m]\u001b[39m.\u001b[39m\u001b[39m__dict__\u001b[39m\u001b[39m.\u001b[39mkeys())\n\u001b[1;32m      4\u001b[0m \u001b[39mprint\u001b[39m(\u001b[39m'\u001b[39m\u001b[39mscGWB:\u001b[39m\u001b[39m'\u001b[39m, scGWB\u001b[39m.\u001b[39m\u001b[39m__dict__\u001b[39m\u001b[39m.\u001b[39mkeys())\n",
      "\u001b[0;31mNameError\u001b[0m: name 'pulsars' is not defined"
     ]
    }
   ],
   "source": [
    "# print(Sh_bg)\n",
    "print('pulsars:', pulsars[0].__dict__.keys())\n",
    "print('spectra:', spectra[0].__dict__.keys())\n",
    "print('scGWB:', scGWB.__dict__.keys())\n",
    "print(scGWB.S_eff)"
   ]
  },
  {
   "attachments": {},
   "cell_type": "markdown",
   "metadata": {},
   "source": [
    "## detect_bg_pta(pulsars)\n",
    "can I get cad from pulsar objects?"
   ]
  },
  {
   "cell_type": "code",
   "execution_count": 41,
   "metadata": {},
   "outputs": [
    {
     "ename": "IndentationError",
     "evalue": "unindent does not match any outer indentation level (<tokenize>, line 72)",
     "output_type": "error",
     "traceback": [
      "\u001b[0;36m  File \u001b[0;32m<tokenize>:72\u001b[0;36m\u001b[0m\n\u001b[0;31m    else:\u001b[0m\n\u001b[0m    ^\u001b[0m\n\u001b[0;31mIndentationError\u001b[0m\u001b[0;31m:\u001b[0m unindent does not match any outer indentation level\n"
     ]
    }
   ],
   "source": [
    "# NOTE: Could modify this to take hc_bg[F,R], and return dp[R]\n",
    "\n",
    "def detect_bg_pta(pulsars, spectra, cad, hc_bg, alpha_0=0.001, ret_all = False):\n",
    "    \"\"\" Calculate the background detection probability, and all the intermediary steps\n",
    "    from a list of hasasia.Pulsar objects.\n",
    "    \n",
    "    Parameters\n",
    "    ----------\n",
    "    pulsars : (P,) list of hasasia.Pulsar objects\n",
    "        A set of pulsars generated by hasasia.sim.sim_pta()\n",
    "    spectra : (P,) list of hasasia.Spectrum objects\n",
    "        The spectrum for each pulsar.\n",
    "    cad : scalar\n",
    "        Cadence of observations in seconds.\n",
    "    hc_bg : (F,)\n",
    "        Characteristic strain of the background at each frequency.\n",
    "    alpha_0 : scalar\n",
    "        Falsa alarm probability\n",
    "    return_all : Bool\n",
    "        Whether or not to return intermediate variables.\n",
    "\n",
    "    Returns\n",
    "    -------\n",
    "    dp_bg : scalar\n",
    "        Background detection probability\n",
    "    Gamma : (P, P) 2D Array\n",
    "        Overlap reduction function for j>i, 0 otherwise.\n",
    "        Only returned if return_all = True.\n",
    "    Sh_bg : (F,) 1Darray\n",
    "        Spectral density\n",
    "        Only returned if return_all = True.\n",
    "    noise : (P,) 1Darray\n",
    "        Spectral noise density of each pulsar.\n",
    "        Only returned if return_all = True.\n",
    "    mu_1B : scalar\n",
    "        Expected value for the B statistic.\n",
    "        Only returned if return_all = True.\n",
    "    sigma_0B : scalar\n",
    "    sigma_1B : scalar\n",
    "    \"\"\"\n",
    "\n",
    "    # check inputs\n",
    "    assert len(pulsars) == len(spectra), f\"'pulsars ({len(pulsars)}) does not match 'spectra' ({len(spectra)}) !\"\n",
    "    \n",
    "    # get pulsar properties\n",
    "    thetas = np.zeros(len(pulsars))\n",
    "    phis = np.zeros(len(pulsars))\n",
    "    sigmas = np.zeros(len(pulsars))\n",
    "    for ii in range(len(pulsars)):\n",
    "        thetas[ii] = pulsars[ii].theta\n",
    "        phis[ii] = pulsars[ii].phi\n",
    "        sigmas[ii] = pulsars[ii].toaerrs\n",
    "\n",
    "    fobs = spectra[0].freqs\n",
    "\n",
    "    Gamma = _orf_pta(pulsars)\n",
    "\n",
    "    Sh_bg = _power_spectral_density(hc_bg[:], fobs)\n",
    "\n",
    "    white_noise = _white_noise(cad, sigmas)\n",
    "\n",
    "    mu_1B = = _mean1_Bstatistic(noise, Gamma, Sh_bg, Sh0_bg)\n",
    "\n",
    "    sigma_0B = _sigma0_Bstatistic(noise, Gamma, Sh_bg, Sh0_bg)\n",
    "\n",
    "    sigma_1B = _sigma1_Bstatistic(noise, Gamma, Sh_bg, Sh0_bg)\n",
    "\n",
    "    dp_bg = _bg_detection_probability(sigma_0B, sigma_1B, mu_1B, alpha_0)\n",
    "\n",
    "    if(ret_all):\n",
    "            return dp_bg, Gamma, Sh_bg, noise, mu_1B, sigma_0B, sigma_1B\n",
    "        else:\n",
    "            return dp_bg\n",
    "    \n",
    "\n"
   ]
  },
  {
   "cell_type": "code",
   "execution_count": 13,
   "metadata": {},
   "outputs": [
    {
     "name": "stdout",
     "output_type": "stream",
     "text": [
      "[1.e-07 1.e-07 1.e-07 1.e-07 1.e-07 1.e-07 1.e-07 1.e-07 1.e-07 1.e-07\n",
      " 1.e-07 1.e-07 1.e-07 1.e-07 1.e-07 1.e-07 1.e-07 1.e-07 1.e-07 1.e-07\n",
      " 1.e-07 1.e-07 1.e-07 1.e-07 1.e-07 1.e-07 1.e-07 1.e-07 1.e-07 1.e-07\n",
      " 1.e-07 1.e-07 1.e-07 1.e-07 1.e-07 1.e-07 1.e-07 1.e-07 1.e-07 1.e-07\n",
      " 1.e-07 1.e-07 1.e-07 1.e-07 1.e-07 1.e-07 1.e-07 1.e-07 1.e-07 1.e-07]\n"
     ]
    }
   ],
   "source": [
    "print(spectra[0].toaerrs)"
   ]
  },
  {
   "attachments": {},
   "cell_type": "markdown",
   "metadata": {},
   "source": [
    "# 4 Single Sources Setup"
   ]
  },
  {
   "attachments": {},
   "cell_type": "markdown",
   "metadata": {},
   "source": [
    "## 4.1 Place binaries at random positions"
   ]
  },
  {
   "cell_type": "code",
   "execution_count": 143,
   "metadata": {},
   "outputs": [
    {
     "name": "stdout",
     "output_type": "stream",
     "text": [
      "(25, 30)\n"
     ]
    },
    {
     "data": {
      "text/plain": [
       "<matplotlib.colorbar.Colorbar at 0x2c2c16dd0>"
      ]
     },
     "execution_count": 143,
     "metadata": {},
     "output_type": "execute_result"
    },
    {
     "data": {
      "image/png": "[encoded data removed]",
      "text/plain": [
       "<Figure size 640x480 with 2 Axes>"
      ]
     },
     "metadata": {},
     "output_type": "display_data"
    }
   ],
   "source": [
    "ss_thetas = np.random.uniform(0, np.pi, size = hc_ss.size).reshape(hc_ss.shape)\n",
    "ss_phis = np.random.uniform(0, 2*np.pi, size = hc_ss.size).reshape(hc_ss.shape)\n",
    "ss_xis = np.random.uniform(0, np.pi, size = hc_ss.size).reshape(hc_ss.shape)\n",
    "ss_Phi0s = np.random.uniform(0, 2*np.pi, size = hc_ss.size).reshape(hc_ss.shape)\n",
    "print(ss_thetas.shape)\n",
    "plt.scatter(ss_thetas/np.pi, ss_phis/np.pi, c=ss_xis/np.pi, cmap='viridis', alpha=0.8)\n",
    "plt.xlabel(r'$\\theta/\\phi$')\n",
    "plt.ylabel('$\\phi/\\pi$')\n",
    "plt.colorbar(label=r'$\\xi/\\pi$ ')"
   ]
  },
  {
   "attachments": {},
   "cell_type": "markdown",
   "metadata": {},
   "source": [
    "## 4.2 Unitary vectors\n",
    "\n",
    "$$\\hat{m} = +[\\sin (\\phi)\\cos(\\xi) - \\sin (\\xi) cos(\\phi) cos(\\theta)] \\hat{x} \n",
    "\n",
    "- [\\cos (\\phi) \\cos(\\xi) + \\sin(\\xi) \\sin(\\phi) \\cos(\\theta)] \\hat{y} \n",
    "\n",
    "+ [\\sin)(\\xi)\\sin(\\phi)]\\hat{z} \\quad\\quad\\quad(40)$$\n",
    "\n",
    "$$ \\hat{n} = +[-\\sin(\\phi) \\sin(\\xi) - \\cos(\\xi) \\cos(\\phi) \\cos(\\theta)] \\hat{x} \n",
    "+[\\cos(\\phi) \\sin(\\xi) - \\cos(\\xi) \\sin(\\phi) \\cos(\\theta)] \\hat{y} \n",
    "+[\\cos(\\xi) \\sin(\\theta)]\\hat{z} \\quad\\quad\\quad(41)$$\n",
    "\n",
    "$$\\hat{\\Omega} = -\\sin(\\theta) \\cos(\\phi) \\hat{x}  - \\sin(\\theta) \\sin(\\phi) \\hat{y} - \\cos(\\theta) \\hat{z} \\quad\\quad\\quad(42)$$\n",
    "\n",
    "These are functions of $\\theta$ and $\\phi$, the angular position of the binary, and $\\xi$, the inclination of the binary. "
   ]
  },
  {
   "cell_type": "code",
   "execution_count": 144,
   "metadata": {},
   "outputs": [],
   "source": [
    "def _m_unitary_vector(theta, phi, xi):\n",
    "    \"\"\" Calculate the unitary vector m-hat for the antenna pattern functions.\n",
    "    \n",
    "    Parameters\n",
    "    ----------\n",
    "    theta : (F,R) NDarray\n",
    "        Spherical coordinate position of each single source.\n",
    "    phi : (F,R) NDarray\n",
    "        Spherical coordinate position of each single source.\n",
    "    xi : (F,R) NDarray\n",
    "        Inclination of binary? But thought that's what iota was?    \n",
    "    \n",
    "    Returns\n",
    "    -------\n",
    "    m_hat : (3,F,R) NDarray \n",
    "        Unitary vector m-hat with x, y, and z components at \n",
    "        index 0, 1, and 2, respectively.\n",
    "        \n",
    "    \"\"\"\n",
    "    mhat_x = (np.sin(phi) * np.cos(xi) \n",
    "              - np.sin(xi) * np.cos(phi) * np.cos(theta))\n",
    "    mhat_y = -(np.cos(phi) * np.cos(xi)\n",
    "               + np.sin(xi) * np.sin(phi) * np.cos(theta))\n",
    "    mhat_z = (np.sin(xi) * np.sin(theta))\n",
    "\n",
    "    m_hat = np.array([mhat_x, mhat_y, mhat_z])\n",
    "    return m_hat\n",
    "\n",
    "def _n_unitary_vector(theta, phi, xi):\n",
    "    \"\"\" Calculate the unitary vector n-hat for the antenna pattern functions.\n",
    "    \n",
    "    Paramters\n",
    "    ---------\n",
    "    theta : (F,R,) NDarray\n",
    "        Spherical coordinate position of each single source.\n",
    "    phi : (F,R,) NDarray\n",
    "        Spherical coordinate position of each single source.\n",
    "    xi : (F,) 1Darray\n",
    "        Inclination of binary? But thought that's what iota was?    \n",
    "    \n",
    "    Returns\n",
    "    -------\n",
    "    n_hat : (3,F,R) NDarray\n",
    "        Unitary vector n-hat.\n",
    "        \n",
    "    \"\"\"\n",
    "\n",
    "    nhat_x = (- np.sin(phi) * np.sin(xi) \n",
    "              - np.cos(xi) * np.cos(phi) * np.cos(theta))\n",
    "    nhat_y = (np.cos(phi) * np.sin(xi) \n",
    "              - np.cos(xi) * np.sin(phi) * np.cos(theta))\n",
    "    nhat_z = np.cos(xi) * np.sin(theta)\n",
    "\n",
    "    n_hat = np.array([nhat_x, nhat_y, nhat_z])\n",
    "    return n_hat\n",
    "\n",
    "def _Omega_unitary_vector(theta, phi):\n",
    "    \"\"\" Calculate the unitary vector n-hat for the antenna pattern functions.\n",
    "    \n",
    "    Paramters\n",
    "    ---------\n",
    "    theta : (F,R) NDarray\n",
    "        Spherical coordinate position of each single source.\n",
    "    phi : (F,R) NDarray\n",
    "        Spherical coordinate position of each single source.\n",
    "    \n",
    "    Returns\n",
    "    -------\n",
    "    Omega_hat : (3,F,R,) NDarray\n",
    "        Unitary vector Omega-hat.\n",
    "    \"\"\"\n",
    "\n",
    "    Omegahat_x = - np.sin(theta) * np.cos(phi)\n",
    "    Omegahat_y = - np.sin(theta) * np.sin(phi)\n",
    "    Omegahat_z = - np.cos(theta)\n",
    "\n",
    "    Omega_hat = np.array([Omegahat_x, Omegahat_y, Omegahat_z])\n",
    "    return Omega_hat\n",
    "\n"
   ]
  },
  {
   "cell_type": "code",
   "execution_count": 145,
   "metadata": {},
   "outputs": [
    {
     "name": "stdout",
     "output_type": "stream",
     "text": [
      "(3, 25, 30) 3.92e+00, 4.59e+00, 5.99e+00, 8.67e+00, 1.02e+01, 1.14e+01, 1.21e+01 \n",
      " (3, 25, 30) 4.04e+00, 5.51e+00, 6.35e+00, 8.60e+00, 9.95e+00, 1.12e+01, 1.32e+01 \n",
      " (3, 25, 30) 3.98e+00, 4.90e+00, 5.58e+00, 7.05e+00, 1.20e+01, 1.31e+01, 1.45e+01\n",
      "(3, 25, 30) [-0.33557409 -0.88601517  0.31994868]\n",
      "(3, 25, 30) [ 0.87201808 -0.4206499  -0.25027611]\n",
      "(3, 25, 30) [0.35633481 0.19501485 0.91378045]\n"
     ]
    }
   ],
   "source": [
    "m_hat = _m_unitary_vector(ss_thetas, ss_phis, ss_xis)\n",
    "n_hat = _n_unitary_vector(ss_thetas, ss_phis, ss_xis)\n",
    "Omega_hat = _Omega_unitary_vector(ss_thetas, ss_phis)\n",
    "print(m_hat.shape, holo.utils.stats(np.sum(m_hat**2, axis=1)), '\\n', \n",
    "      n_hat.shape, holo.utils.stats(np.sum(n_hat**2, axis=1)), '\\n',  \n",
    "      Omega_hat.shape, holo.utils.stats(np.sum(Omega_hat**2, axis=1))) # should all be 1\n",
    "print(m_hat.shape, m_hat[:,0,0])\n",
    "print(n_hat.shape, n_hat[:,0,0])\n",
    "print(Omega_hat.shape, Omega_hat[:,0,0])"
   ]
  },
  {
   "attachments": {},
   "cell_type": "markdown",
   "metadata": {},
   "source": [
    "## 4.3 Pulsar unitary vector\n",
    "$$ \\hat{p}_i = \\sin(\\theta_i) \\cos(\\phi_i) \\hat{x} + \\sin(\\theta_i) \\sin(\\phi_i) \\hat{y} + \\cos(\\theta_i) \\hat{z} \\quad\\quad\\quad(43)$$\n",
    "where $\\theta_i$ and $\\phi_i$ give the angular position of the ith pulsar."
   ]
  },
  {
   "cell_type": "code",
   "execution_count": 146,
   "metadata": {},
   "outputs": [],
   "source": [
    "def _pi_unitary_vector(phi_i, theta_i):\n",
    "    \"\"\" Calculate the unitary vector p_i-hat for the ith pulsar.\n",
    "    \n",
    "    Parameters\n",
    "    ----------\n",
    "    phi : (P,) 1Darray\n",
    "        Spherical coordinate position of each pulsar.\n",
    "    theta : (P,) 1Darray\n",
    "        Spherical coordinate position of each pulsar.\n",
    "    Returns\n",
    "    -------\n",
    "    pi_hat : (3,P,) vector\n",
    "        pulsar unitary vector\n",
    "    \n",
    "    \"\"\"\n",
    "\n",
    "    pihat_x = np.sin(theta_i) * np.cos(phi_i)\n",
    "    pihat_y = np.sin(theta_i) * np.sin(phi_i)\n",
    "    pihat_z = np.cos(theta_i)\n",
    "\n",
    "    pi_hat = np.array([pihat_x, pihat_y, pihat_z])\n",
    "    return pi_hat"
   ]
  },
  {
   "cell_type": "code",
   "execution_count": 147,
   "metadata": {},
   "outputs": [
    {
     "name": "stdout",
     "output_type": "stream",
     "text": [
      "1.50e-32, 1.50e-32, 1.50e-32, 1.62e+00, 2.38e+00, 2.38e+00, 2.38e+00\n",
      "(3, 4) [-1.52685855e-01 -9.88274774e-01  6.12323400e-17]\n"
     ]
    }
   ],
   "source": [
    "pi_hat = _pi_unitary_vector(phis, thetas)\n",
    "print(holo.utils.stats(np.sum(pi_hat**2, axis=1))) # should all be 1\n",
    "print(pi_hat.shape, pi_hat[:,0])"
   ]
  },
  {
   "attachments": {},
   "cell_type": "markdown",
   "metadata": {},
   "source": [
    "## 4.4 Antenna Pattern Functions\n",
    "$$ F_i^+ = \\frac{1}{2}  \\frac{[\\hat{m}\\cdot \\hat{p}_i]^2 - \\hat{n} \\cdot \\hat{p}_i]^2}{1  + \\hat{\\Omega} \\cdot \\hat{p}_i} $$\n",
    " \n",
    " $$ F_i^\\times = \\frac{\\hat{m} \\cdot \\hat{p}_i] [\\hat{n} \\cdot \\hat{p}_i]}{1 + \\hat{\\Omega} \\cdot \\hat{p}_i}"
   ]
  },
  {
   "cell_type": "code",
   "execution_count": 148,
   "metadata": {},
   "outputs": [],
   "source": [
    "def dotprod(vec1, vec2):\n",
    "    \"\"\" Calculate the dot product for NDarrays of 3D vectors, with\n",
    "     vector elements specified by the first index. \n",
    "     \n",
    "     Parameters\n",
    "     ----------\n",
    "     vec1 : (3,N1,N2,N3,...N) NDarray\n",
    "     vec2 : (3,N1,N2,N3,...N) NDarray\n",
    "\n",
    "     Returns\n",
    "     -------\n",
    "     dotted : (N1,N2,N3,...N) NDarray\n",
    "        The dot product of the vectors specified by the first dimension,\n",
    "        for every N1, N2, N3,...N.\n",
    "\n",
    "    Example: find the dot product of 3D vectors for every P,F,R, using NDarrays\n",
    "    of shape (3,P,F,R)\n",
    "     \"\"\"\n",
    "    \n",
    "    dotted = vec1[0,...]*vec2[0,...] + vec1[1,...]*vec2[1,...] + vec1[2,...]*vec2[2,...]\n",
    "    return dotted\n",
    "\n",
    "\n",
    "def _antenna_pattern_functions(m_hat, n_hat, Omega_hat, pi_hat):\n",
    "    \"\"\" + antenna pattern function for the ith pulsar.\n",
    "    \n",
    "    Parameters\n",
    "    ----------\n",
    "    m_hat : (3,F,R) NDarray\n",
    "        Single source m_hat unitary vector for each frequency and realization.\n",
    "    n_hat : (3,F,R) NDarray\n",
    "        Single source mnhat unitary vector for each frequency and realization.\n",
    "    Omega_hat : (3,F,R) NDarray\n",
    "        Single source Omega_hat unitary vector for each frequency and realization.\n",
    "    pi_hat : (3,P) NDarray\n",
    "        Pulsar term unitary vector for the ith pulsar.\n",
    "        \n",
    "    Returns\n",
    "    -------\n",
    "    Fi_plus : (P,F,R) NDarray\n",
    "        Plus antenna pattern function for each pulsar and binary of each realization.\n",
    "    Fi_cross : (P,F,R) NDarray\n",
    "        Cross antenna pattern function for each pulsar and binary of each realization. \n",
    "    \n",
    "    \"\"\"\n",
    "    mh = m_hat[:,np.newaxis,:,:]\n",
    "    nh = n_hat[:,np.newaxis,:,:]\n",
    "    Oh = Omega_hat[:,np.newaxis,:,:]\n",
    "    ph = pi_hat[:,:,np.newaxis,np.newaxis]\n",
    "    denom = 1 + dotprod(Oh, ph)\n",
    "    Fi_plus = ((dotprod(mh, ph)**2 - dotprod(nh, ph)**2) \n",
    "               / denom / 2)\n",
    "    Fi_cross = dotprod(mh, ph) * dotprod(nh, ph) / denom\n",
    "    \n",
    "    return Fi_plus, Fi_cross\n",
    "    "
   ]
  },
  {
   "cell_type": "code",
   "execution_count": 149,
   "metadata": {},
   "outputs": [
    {
     "name": "stdout",
     "output_type": "stream",
     "text": [
      "(4, 25, 30) -9.77e-01, -6.55e-01, -4.22e-01, 1.05e-03, 4.23e-01, 6.56e-01, 9.99e-01\n",
      "(4, 25, 30) -9.92e-01, -6.79e-01, -4.12e-01, 1.65e-03, 4.29e-01, 6.63e-01, 9.99e-01\n"
     ]
    }
   ],
   "source": [
    "Fi_plus, Fi_cross = _antenna_pattern_functions(m_hat, n_hat, Omega_hat, pi_hat)\n",
    "print(Fi_plus.shape, holo.utils.stats(Fi_plus))\n",
    "print(Fi_cross.shape, holo.utils.stats(Fi_cross))"
   ]
  },
  {
   "attachments": {},
   "cell_type": "markdown",
   "metadata": {},
   "source": [
    "## 4.5 Amplitude, A\n",
    "\n",
    "$$ A = 2 \\frac{G^{5/3} \\mathcal{M}^{5/3} [\\pi f [1+z]]^{2/3}}{c^4 r} \\quad (5)$$\n",
    "$ h = A\\sqrt{\\frac{1}{2}[a^2+b^2]} \\quad (4)$ ?? a and b are defined by i, is that related to hc_ss then??\n",
    "$$ h_s = \\frac{8}{10^{1/2}} \\frac{(G\\mathcal{M})^{5/3}}{c^4 d_L} (2\\pi f_r)^{2/3}  = \\frac{2^{2/3}\\times8}{2\\times10^{1/2}} \\times \\big[ 2 \\frac{(G\\mathcal{M})^{5/3}}{c^4 d_L} (\\pi f_r)^{2/3} \\big] =  \\frac{4(2)^{1/6}}{\\sqrt{5}} A $$\n",
    "$$ h_{c,ss}^2 = h_s^2 / dlnf = h_s^2 * f / df $$\n",
    "$$ h_{c,ss} = h_s \\sqrt{f/df} \\frac{4(2)^{1/6}}{\\sqrt{5}} A * f / df$$\n",
    "$$ A = \\frac{\\sqrt{5}}{4 (2)^{1/6}} \\sqrt{\\frac{df}{f}} h_{c,ss} $$"
   ]
  },
  {
   "cell_type": "code",
   "execution_count": 150,
   "metadata": {},
   "outputs": [],
   "source": [
    "def _amplitude(hc_ss, f, df):\n",
    "    \"\"\" Calculate the amplitude from the single source to use in DP calculations\n",
    "    \n",
    "    Parameters\n",
    "    ----------\n",
    "    hc_ss : (F,R,) NDarray\n",
    "        Characteristic strain of each single source at each realization.\n",
    "    f : (F,) 1Darray\n",
    "        Frequency\n",
    "    df : (F,) 1Darray\n",
    "        Frequency bin widths.\n",
    "\n",
    "    Returns\n",
    "    -------\n",
    "    Amp : (F,R,)\n",
    "        Dimensionless amplitude, A, of each single source at each frequency and realization.\n",
    "    \n",
    "    \"\"\"\n",
    "\n",
    "    Amp = hc_ss * np.sqrt(5) / 4 / 2**(1/6) *np.sqrt(df[:,np.newaxis]/f[:,np.newaxis])\n",
    "    return Amp"
   ]
  },
  {
   "cell_type": "code",
   "execution_count": 151,
   "metadata": {},
   "outputs": [
    {
     "name": "stdout",
     "output_type": "stream",
     "text": [
      "(25, 30) 3.63e-18, 1.04e-17, 1.70e-17, 4.82e-17, 1.69e-16, 3.40e-16, 1.20e-15\n"
     ]
    }
   ],
   "source": [
    "df = np.diff(edges[-1])\n",
    "amp = _amplitude(hc_ss, fobs, df)\n",
    "print(amp.shape, holo.utils.stats(amp))"
   ]
  },
  {
   "attachments": {},
   "cell_type": "markdown",
   "metadata": {},
   "source": [
    "## 4.6 ss_noise\n",
    "Noise from all other sources in the same frequency bin except for the loudest\n",
    "$$ S_{h,\\mathrm{rest}} = \\frac{h_{c,\\mathrm{rest}}^2}{f} \\frac{1}{12 \\pi^2 f^2} \\quad\\quad\\quad(45)$$\n",
    "Included in total noise spectral density for the ith pulsar\n",
    "$$S_i = 2\\Delta t \\sigma_i^2 + S_{h,\\mathrm{rest}}\\quad\\quad\\quad(44)$$"
   ]
  },
  {
   "cell_type": "code",
   "execution_count": 152,
   "metadata": {},
   "outputs": [],
   "source": [
    "def _Sh_rest_noise(hc_bg, freqs):\n",
    "    \"\"\" Calculate the noise spectral density contribution from all but the current single source, i.e., the background.\n",
    "\n",
    "    Parameters\n",
    "    ----------\n",
    "    hc_bg : (F,R,) NDarray\n",
    "        Characteristic strain from all but loudest source at each frequency.\n",
    "    freqs : (F,) 1Darray\n",
    "        Frequency bin centers.\n",
    "        \n",
    "    Returns\n",
    "    -------\n",
    "    ss_noise : (P,F,R,) NDarray of scalars\n",
    "        The noise in each pulsar for detecting a single source at each frequency.\n",
    "\n",
    "    Follows Eq. (45) in Rosado et al. 2015.\n",
    "    TODO: modify this to allow for multiple loud sources.\n",
    "    \"\"\"\n",
    "    Sh_rest = hc_bg**2 / freqs[:,np.newaxis]**3 /(12 * np.pi**2) # (F,R)\n",
    "    return Sh_rest\n",
    "\n",
    "# otherwise calculate from scratch\n",
    "def _total_noise(delta_t, sigmas, hc_bg, freqs):\n",
    "    \"\"\" Calculate the noise spectral density of each pulsar, s it pertains to single\n",
    "    source detections, i.e., including the background as a noise source. \n",
    "\n",
    "    Parameters\n",
    "    ----------\n",
    "    delta_t : scalar\n",
    "        Detection cadence, in seconds.\n",
    "    sigmas : (P,) 1Darray\n",
    "        Variance for the ith pulsar, in seconds\n",
    "    hc_bg : (F,R,) NDarray\n",
    "        Characteristic strain from all but loudest source at each frequency.\n",
    "    freqs : (F,) 1Darray\n",
    "        Frequency bin centers.\n",
    "        \n",
    "    Returns\n",
    "    -------\n",
    "    noise : (P,F,R,) NDarray of scalars\n",
    "        The noise in each pulsar for detecting a single source at each frequency.\n",
    "\n",
    "    Follows Eq. (44) in Rosado et al. 2015.\n",
    "    \"\"\"\n",
    "\n",
    "    noise = _white_noise(delta_t, sigmas) # (P,)\n",
    "    Sh_rest = _Sh_rest_noise(hc_bg, freqs) # (F,R,)\n",
    "    noise = noise[:,np.newaxis,np.newaxis] + Sh_rest[np.newaxis,:] # (P,F,R)\n",
    "    return noise"
   ]
  },
  {
   "cell_type": "code",
   "execution_count": 153,
   "metadata": {},
   "outputs": [
    {
     "name": "stdout",
     "output_type": "stream",
     "text": [
      "(4, 25, 30) 1.26e-07, 1.26e-07, 1.26e-07, 1.26e-07, 1.39e-07, 5.90e-07, 1.24e-05\n"
     ]
    }
   ],
   "source": [
    "tot_noise = _total_noise(cad, sigmas, hc_bg, fobs)\n",
    "print(tot_noise.shape, holo.utils.stats(tot_noise))"
   ]
  },
  {
   "attachments": {},
   "cell_type": "markdown",
   "metadata": {},
   "source": [
    "## 4.7 Polarization contributions\n",
    "$$ a = 1 + \\cos^2 \\iota $$\n",
    "$$ b = -2 \\cos \\iota $$\n",
    "\n",
    "Where $\\iota$ is the binary inclination angle."
   ]
  },
  {
   "cell_type": "code",
   "execution_count": 154,
   "metadata": {},
   "outputs": [],
   "source": [
    "def _a_b_polarization(iotas):\n",
    "    \"\"\" Polarization contribution variables a and b.\n",
    "    \n",
    "    Parameters\n",
    "    ----------\n",
    "    iotas : scalar or NDarray\n",
    "        Typically will be (F,R,) NDarray\n",
    "\n",
    "    Returns\n",
    "    -------\n",
    "    a_pol : scalar or NDarray\n",
    "        Same shape as iota\n",
    "    b_pol : scalar or NDarray\n",
    "        Same shape as iota\n",
    "\n",
    "    \"\"\"\n",
    "    a_pol = 1 + np.cos(iotas) **2\n",
    "    b_pol = -2 * np.cos(iotas)\n",
    "    return a_pol, b_pol"
   ]
  },
  {
   "cell_type": "code",
   "execution_count": 155,
   "metadata": {},
   "outputs": [],
   "source": [
    "ss_iotas = ss_xis\n",
    "a_pol, b_pol = _a_b_polarization(ss_iotas)"
   ]
  },
  {
   "attachments": {},
   "cell_type": "markdown",
   "metadata": {},
   "source": [
    "## 4.8 GW Phase\n",
    "$\\Phi_0$ is the initial phase and describes the signal detected on Earth. $\\Phi(t) = 2\\pi f t$, and \n",
    "$$\\Phi_T = 2 \\pi f T \\quad\\quad\\quad (47)$$ \n",
    "where $T$ is the duration. "
   ]
  },
  {
   "cell_type": "code",
   "execution_count": 165,
   "metadata": {},
   "outputs": [],
   "source": [
    "def _gw_phase(dur, freqs):\n",
    "    \"\"\" Calculate the detected gravitational wave phase at each frequency.\n",
    "\n",
    "    Parameters\n",
    "    ----------\n",
    "    dur : scalar\n",
    "        Duration (time elapsed from initial phase to detection)\n",
    "    freqs : (F,) 1Darray\n",
    "        Frequency of each single source.\n",
    "\n",
    "    Returns\n",
    "    -------\n",
    "    Phi_T : (F,) NDarray\n",
    "        Detected GW phase of each single source.\n",
    "    \"\"\"\n",
    "\n",
    "    Phi_T = 2 * np.pi * freqs\n",
    "    return Phi_T"
   ]
  },
  {
   "attachments": {},
   "cell_type": "markdown",
   "metadata": {},
   "source": [
    "## 4.9 SNR \n",
    "### 4.9.1 SNR for a single pulsar\n",
    "$$ \\mathrm{S/N}_i^2 = \\frac{A^2}{S_i 8 \\pi^3 f^3} \\bigg[a^2[F_i^+]^2 \\Big[\\Phi_T [1 + 2 \\sin^2(\\Phi_0)]\n",
    "+ \\cos(\\Phi_T)[-\\sin(\\Phi_T) + 4 \\sin(\\Phi_0)] - 4\\sin(\\Phi_0)\\Big] \\\\\n",
    "+ b^2[F_i^\\times]^2 \\Big[\\Phi_T[1+2\\cos^2(\\Phi_0)] + \\sin(\\Phi_T)[\\cos(\\Phi_T) - 4\\cos(\\Phi_0)]\\Big] \\\\\n",
    "- 2ab F_i^+ F_i^\\times \\Big[2\\Phi_T \\sin(\\Phi_0) \\cos(\\Phi_0) \n",
    "+ \\sin(\\Phi_T)[\\sin(\\Phi_T) - 2\\sin(\\Phi_0) + 2\\cos(\\Phi_T) \\cos(\\Phi_0) - 2\\cos(\\Phi_0)]\\Big]\\bigg]\\quad\\quad\\quad(46) $$\n",
    "\n",
    "### 4.9.2 Total SNR (for each single source)\n",
    "$$\\mathrm{S/N_S} = \\Big[ \\sum_{i=1}^{M} \\mathrm{S/N}_i^2\\Big]^{1/2} \\quad\\quad\\quad(35)$$"
   ]
  },
  {
   "cell_type": "markdown",
   "metadata": {},
   "source": [
    "breaking up the SNR_i equation into pieces:\n",
    "$$ \\mathrm{Term 1} = a^2[F_i^+]^2 \\Big[\\Phi_T [1 + 2 \\sin^2(\\Phi_0)] + \\cos(\\Phi_T)[-\\sin(\\Phi_T) + 4 \\sin(\\Phi_0)] - 4\\sin(\\Phi_0)\\Big] $$\n",
    "$$ \\mathrm{Term 2} =+ b^2[F_i^\\times]^2 \\Big[\\Phi_T[1+2\\cos^2(\\Phi_0)] + \\sin(\\Phi_T)[\\cos(\\Phi_T) - 4\\cos(\\Phi_0)]\\Big] $$\n",
    "$$\\mathrm{Term 3} = - 2ab F_i^+ F_i^\\times \\Big[2\\Phi_T \\sin(\\Phi_0) \\cos(\\Phi_0) \\\\\n",
    "+ \\sin(\\Phi_T)[\\sin(\\Phi_T) - 2\\sin(\\Phi_0) + 2\\cos(\\Phi_T) \\cos(\\Phi_0) - 2\\cos(\\Phi_0)]\\Big] $$\n",
    "\n",
    "$$\\mathrm{Coef} =  \\frac{A^2}{S_i 8 \\pi^3 f^3}$$\n",
    "$$S/N_i^2 = \\mathrm{Coef} \\bigg[\\mathrm{Term1} + \\mathrm{Term2} + \\mathrm{Term3}\\bigg]$$"
   ]
  },
  {
   "cell_type": "code",
   "execution_count": 166,
   "metadata": {},
   "outputs": [],
   "source": [
    "def _SNR_ss(amp, Fi_plus, Fi_cross, iotas, dur, Phi_0, S_i, freqs):\n",
    "    \"\"\" Calculate the SNR for each pulsar wrt each single source detection.\n",
    "\n",
    "    Paramters\n",
    "    ---------\n",
    "    amp : (F,R,) NDarray \n",
    "        Dimensionless strain amplitude for loudest source at each frequency.\n",
    "    Fi_plus : (P,F,R,) NDarray\n",
    "        Antenna pattern function for each pulsar.\n",
    "    Fi_cross : (P,F,R,) NDarray\n",
    "        Antenna pattern function for each pulsar.\n",
    "    iotas : (F,R,) NDarray\n",
    "        Is this inclination? or what?\n",
    "        Gives the wave polarizations a and b.\n",
    "    dur : scalar\n",
    "        Duration of observations.\n",
    "    Phi_0 : (F,R,) NDarray\n",
    "        Initial GW Phase.\n",
    "    S_i : (P,F,R,) NDarray\n",
    "        Total noise of each pulsar wrt detection of each single source, in s^3\n",
    "    freqs : (F,) 1Darray \n",
    "\n",
    "    Returns\n",
    "    -------\n",
    "    SNR_ss : (F,R,) NDarray\n",
    "        SNR from the whole PTA for each single source at each frequency and realization.\n",
    "\n",
    "    \"\"\"\n",
    "    \n",
    "    amp = amp[np.newaxis,:,:]  # (P,F,R)\n",
    "    # print('amp', amp.shape)\n",
    "\n",
    "    a_pol, b_pol = _a_b_polarization(iotas) # (F,R,)\n",
    "    a_pol = a_pol[np.newaxis,:,:] # (P,F,R)\n",
    "    b_pol = b_pol[np.newaxis,:,:] # (P,F,R)\n",
    "    # print('a_pol', a_pol.shape)\n",
    "    # print('b_pol', b_pol.shape)\n",
    "\n",
    "    Phi_T = _gw_phase(dur, freqs) # (F,)\n",
    "    # print('Phi_T', Phi_T.shape)\n",
    "    Phi_T = Phi_T[np.newaxis,:,np.newaxis] # (P,F,R)\n",
    "    # print('Phi_T', Phi_T.shape)\n",
    "\n",
    "    Phi_0 = Phi_0[np.newaxis,:,:] # (P,F,R)\n",
    "    # print('Phi_0', Phi_0.shape)\n",
    "\n",
    "    freqs = freqs[np.newaxis,:,np.newaxis]\n",
    "    # print('freqs', freqs.shape)\n",
    "\n",
    "    coef = amp**2 / (S_i * 8 * np.pi**3 * freqs**3) # [S_i] s^3 and [freqs^3] Hz^3 cancel\n",
    "    \n",
    "    term1 = a_pol**2 * Fi_plus**2 * (Phi_T * (1 + 2 * np.sin(Phi_0)**2) \n",
    "                                     + np.cos(Phi_T)*(-np.sin(Phi_T) + 4 * np.sin(Phi_0)) \n",
    "                                     - 4*np.sin(Phi_0))\n",
    "    \n",
    "    term2 = b_pol**2 * Fi_cross**2 * (Phi_T*(1+2*np.cos(Phi_0)**2) \n",
    "                                      + np.sin(Phi_T)*(np.cos(Phi_T) - 4 * np.cos(Phi_0)))\n",
    "    \n",
    "    term3 = - (2*a_pol*b_pol*Fi_plus*Fi_cross \n",
    "               * (2*Phi_T*np.sin(Phi_0)*np.cos(Phi_0)\n",
    "                  + np.sin(Phi_T)*(np.sin(Phi_T) - 2*np.sin(Phi_0) \n",
    "                                   + 2*np.cos(Phi_T)*np.cos(Phi_0) \n",
    "                                   - 2*np.cos(Phi_0))))\n",
    "    \n",
    "    SNR_pulsar_ss = coef*(term1 + term2 + term3) # (P,F,R)\n",
    "\n",
    "    SNR_ss = np.sqrt(np.sum(SNR_pulsar_ss**2, axis=0)) # (F,R)\n",
    "    return SNR_ss"
   ]
  },
  {
   "cell_type": "code",
   "execution_count": 167,
   "metadata": {},
   "outputs": [
    {
     "name": "stdout",
     "output_type": "stream",
     "text": [
      "amp (1, 25, 30)\n",
      "a_pol (1, 25, 30)\n",
      "b_pol (1, 25, 30)\n",
      "Phi_T (25,)\n",
      "Phi_T (1, 25, 1)\n",
      "Phi_0 (1, 25, 30)\n",
      "freqs (1, 25, 1)\n",
      "(25, 30) 4.97e-21, 1.61e-15, 1.38e-14, 4.15e-13, 2.79e-11, 1.98e-10, 5.69e-09\n"
     ]
    }
   ],
   "source": [
    "SNR_ss = _SNR_ss(amp=amp, Fi_plus=Fi_plus, Fi_cross=Fi_cross, iotas=ss_iotas,\n",
    "                 dur = dur, Phi_0=ss_Phi0s, S_i=tot_noise, freqs=fobs)\n",
    "print(SNR_ss.shape, holo.utils.stats(SNR_ss))"
   ]
  },
  {
   "attachments": {},
   "cell_type": "markdown",
   "metadata": {},
   "source": [
    "## 4.10 Threshold F-statistic $\\cal{\\bar{F}}_e$ \n",
    "\n",
    "Calculated from\n",
    "$$ \\alpha_0 = 1 - [1 - [1 + \\cal{\\bar{F}}_e]e^{-\\cal{\\bar{F}}_e}]^N \\quad\\quad\\quad(31)$$\n",
    "where $\\alpha_0$ is the fixed value false alarm probability and $N$ is the number of single sources (in that realization).\n",
    "\n",
    "$$ 0 = \\alpha_0 - 1 + [1 - [1 + \\cal{\\bar{F}}_e]e^{-\\cal{\\bar{F}}_e}]^N$$\n",
    "Note, this is the same across all realizations, since it just depends on the number of single sources."
   ]
  },
  {
   "cell_type": "code",
   "execution_count": 172,
   "metadata": {},
   "outputs": [],
   "source": [
    "def _func_Fe_thresh(Fe_bar, Num, alpha_0):\n",
    "    rv = alpha_0 - 1 + (1 - (1 + Fe_bar)*np.exp(-Fe_bar))**Num \n",
    "    return rv\n",
    "\n",
    "def _Fe_thresh(Num, alpha_0=0.001):\n",
    "    \"\"\" Calculate the threshold F_e statistic.\n",
    "    \n",
    "    Parameters\n",
    "    ----------\n",
    "    Num : int\n",
    "        Number of single sources to detect.\n",
    "    alpha_0 : scalar\n",
    "        False alarm probability max.\n",
    "\n",
    "    Returns\n",
    "    -------\n",
    "    Fe_bar : scalar\n",
    "        Threshold Fe statistic\n",
    "    \"\"\"\n",
    "    \n",
    "    Fe_bar = sp.optimize.fsolve(_func_Fe_thresh, 1, args=(Num, alpha_0))[0]\n",
    "    return Fe_bar\n"
   ]
  },
  {
   "cell_type": "code",
   "execution_count": 180,
   "metadata": {},
   "outputs": [
    {
     "name": "stdout",
     "output_type": "stream",
     "text": [
      "25\n",
      "51.0\n"
     ]
    }
   ],
   "source": [
    "Num = hc_ss[...,0].size # does not depend on realizations\n",
    "print(Num)\n",
    "Fe_bar = _Fe_thresh(Num)\n",
    "print(Fe_bar)"
   ]
  },
  {
   "attachments": {},
   "cell_type": "markdown",
   "metadata": {},
   "source": [
    "## 4.11 Detection Probability\n",
    "### 4.11.1 DP of one single source\n",
    "$$\\gamma_i = \\int_{\\cal{\\bar{F}}_e}^\\infty p_1(\\cal{F}_e, \\rho) d \\cal{F}_e \\\\\n",
    "= \\int_{\\cal{\\bar{F}}_e}^\\infty \\frac{[2\\cal{F}_e]^{1/2}}{\\rho} I_1(\\rho\\sqrt{2\\cal{F}_e}) e^{-\\cal{F}_e-\\frac{1}{2} \\rho^2} d\\cal{F}_e$$\n",
    "with $\\rho=\\mathrm{S/N_i}$ and $\\cal{\\bar{F}}_e$ calculated from $ \\alpha_0 = 1 - [1 - [1 + \\cal{\\bar{F}}_e]e^{-\\cal{\\bar{F}}_e}]^N$ where $N$ is the number of single sources (in that realization)"
   ]
  },
  {
   "cell_type": "code",
   "execution_count": 194,
   "metadata": {},
   "outputs": [],
   "source": [
    "def _integrand_gamma_ss_i(Fe, rho):\n",
    "\n",
    "    I_1 = sp.special.i1(rho*np.sqrt(2*Fe_bar))\n",
    "    rv = (2*Fe)**(1/2) /rho * I_1 * np.exp(-Fe - rho**2 /2)\n",
    "    return rv\n",
    "\n",
    "def _gamma_ss_i(Fe_bar, rho):\n",
    "    \"\"\" Calculate the detection probability for each single source in each realization.\n",
    "    \n",
    "    Parameters\n",
    "    ----------\n",
    "    rho : (F,R,) NDarray\n",
    "        Given by the total PTA signal to noise ratio, S/N_S, for each single source\n",
    "    Fe_bar : scalar\n",
    "        The threshold F_e statistic\n",
    "\n",
    "    Returns\n",
    "    -------\n",
    "    gamma_ss_i : (F,R,) NDarray\n",
    "        The detection probability for each single source, i, at each frequency and realization.\n",
    "\n",
    "    TODO: Find a way to do this without the embedded for loops!\n",
    "    \"\"\"\n",
    "    gamma_ss_i = np.zeros((rho.shape))\n",
    "    for ff in range(len(rho)):\n",
    "        for rr in range(len(rho[0])):\n",
    "            gamma_ss_i[ff,rr] = sp.integrate.quad(_integrand_gamma_ss_i, Fe_bar, np.inf, args=(rho[ff,rr]))[0]\n",
    "   \n",
    "    return gamma_ss_i\n",
    "\n"
   ]
  },
  {
   "cell_type": "code",
   "execution_count": 196,
   "metadata": {},
   "outputs": [
    {
     "name": "stdout",
     "output_type": "stream",
     "text": [
      "(25, 30) 3.65e-21, 3.65e-21, 3.65e-21, 3.65e-21, 3.65e-21, 3.65e-21, 3.65e-21\n"
     ]
    }
   ],
   "source": [
    "gamma_ss_i = _gamma_ss_i(Fe_bar, rho=SNR_ss)\n",
    "print(gamma_ss_i.shape, holo.utils.stats(gamma_ss_i))"
   ]
  },
  {
   "attachments": {},
   "cell_type": "markdown",
   "metadata": {},
   "source": [
    "### 4.11.2 Detection Probability of any single source\n",
    "$$\\gamma_{ss} = 1 - \\prod_{i}[1-\\gamma_i]$$"
   ]
  },
  {
   "cell_type": "code",
   "execution_count": 207,
   "metadata": {},
   "outputs": [],
   "source": [
    "def _ss_detection_probability(gamma_ss_i):\n",
    "    \"\"\" Calculate the probability of detecting any single source, given individual single \n",
    "    source detection probabilities.\n",
    "    \n",
    "    \n",
    "    Parameters\n",
    "    ----------\n",
    "    gamma_ss_i : (F,R,) NDarray\n",
    "        Detection probability of each single source, at each frequency and realization.\n",
    "\n",
    "    Returns\n",
    "    -------\n",
    "    gamma_ss : (R,) 1Darray\n",
    "        Detection probability of any single source, for each realization\n",
    "    \"\"\"\n",
    "    \n",
    "    gamma_ss = 1 - np.product(1-gamma_ss_i, axis=1)\n",
    "    return gamma_ss"
   ]
  },
  {
   "cell_type": "code",
   "execution_count": 209,
   "metadata": {},
   "outputs": [
    {
     "name": "stdout",
     "output_type": "stream",
     "text": [
      "(25,) 0.00e+00, 0.00e+00, 0.00e+00, 0.00e+00, 0.00e+00, 0.00e+00, 0.00e+00\n",
      "[0. 0. 0. 0. 0. 0. 0. 0. 0. 0. 0. 0. 0. 0. 0. 0. 0. 0. 0. 0. 0. 0. 0. 0.\n",
      " 0.]\n"
     ]
    }
   ],
   "source": [
    "gamma_ss = _ss_detection_probability(gamma_ss_i)\n",
    "print(gamma_ss.shape, holo.utils.stats(gamma_ss))\n",
    "print(gamma_ss)"
   ]
  },
  {
   "cell_type": "code",
   "execution_count": null,
   "metadata": {},
   "outputs": [],
   "source": []
  },
  {
   "cell_type": "code",
   "execution_count": null,
   "metadata": {},
   "outputs": [],
   "source": []
  },
  {
   "cell_type": "code",
   "execution_count": null,
   "metadata": {},
   "outputs": [],
   "source": []
  }
 ],
 "metadata": {
  "kernelspec": {
   "display_name": "holo310",
   "language": "python",
   "name": "python3"
  },
  "language_info": {
   "codemirror_mode": {
    "name": "ipython",
    "version": 3
   },
   "file_extension": ".py",
   "mimetype": "text/x-python",
   "name": "python",
   "nbconvert_exporter": "python",
   "pygments_lexer": "ipython3",
   "version": "3.10.10"
  },
  "orig_nbformat": 4
 },
 "nbformat": 4,
 "nbformat_minor": 2
}
