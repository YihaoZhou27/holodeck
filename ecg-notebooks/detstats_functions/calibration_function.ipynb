{
 "cells": [
  {
   "cell_type": "code",
   "execution_count": null,
   "metadata": {},
   "outputs": [],
   "source": [
    "%reload_ext autoreload\n",
    "%autoreload 2\n",
    "from importlib import reload\n",
    "\n",
    "import numpy as np\n",
    "import matplotlib.pyplot as plt\n",
    "import matplotlib.cm as cm\n",
    "import scipy as sp\n",
    "import h5py\n",
    "\n",
    "import holodeck as holo\n",
    "import holodeck.single_sources as ss\n",
    "from holodeck.constants import YR, MSOL\n",
    "from holodeck import utils, detstats, plot\n",
    "\n",
    "\n",
    "import hasasia.sensitivity as hsen\n",
    "import hasasia.sim as hsim"
   ]
  },
  {
   "attachments": {},
   "cell_type": "markdown",
   "metadata": {},
   "source": [
    "# Read in hdf file"
   ]
  },
  {
   "cell_type": "code",
   "execution_count": null,
   "metadata": {},
   "outputs": [],
   "source": [
    "filepath = '/Users/emigardiner/GWs/holodeck/output/brc_output/ss64_09Bn1000_2023-06-22_uniform-09b_n1000_r100_f40_l10'\n",
    "filename = filepath+'/sam_lib.hdf5'\n",
    "ssfile = h5py.File(filename, 'r')\n",
    "print(list(ssfile.keys()))\n",
    "fobs = ssfile['fobs'][:]\n",
    "dur = 1/fobs[0]\n",
    "cad = 1/(2*fobs[-1])\n",
    "hc_ss_all = ssfile['hc_ss'][...]\n",
    "hc_bg_all = ssfile['hc_bg'][...]\n",
    "shape = hc_ss_all.shape\n",
    "nsamp, nfreqs, nreals, nloudest = shape[0], shape[1], shape[2], shape[3]\n",
    "print('N,F,R,L:', nsamp, nfreqs, nreals, nloudest)\n",
    "ssfile.close()"
   ]
  },
  {
   "cell_type": "code",
   "execution_count": null,
   "metadata": {},
   "outputs": [],
   "source": [
    "# find best\n",
    "# found this in a another notebook to be sample 30\n",
    "# nn=30\n",
    "fidx=1 # choose second bin\n",
    "hc_ref15_10yr = 11.2*10**-15 \n",
    "print(fobs[fidx]*YR)\n",
    "nsort, fidx, hc_ref15 = detstats.rank_samples(hc_ss_all, hc_bg_all, fobs, fidx=1, \n",
    "                              hc_ref=hc_ref15_10yr, ret_all=True)\n",
    "nn = nsort[0]\n",
    "print(nn, fobs[fidx]*YR, hc_ref15)"
   ]
  },
  {
   "cell_type": "code",
   "execution_count": null,
   "metadata": {},
   "outputs": [],
   "source": [
    "dp_bg = detstats.detect_bg_pta"
   ]
  },
  {
   "cell_type": "code",
   "execution_count": null,
   "metadata": {},
   "outputs": [],
   "source": [
    "\n",
    "def get_dpbg(hc_bg, npsrs, sigma, trials):\n",
    "    avg_dp_tot = 0\n",
    "    # median_tot = 0\n",
    "    for ii in range(trials):\n",
    "        # build PTA\n",
    "        phis = np.random.uniform(0, 2*np.pi, size = npsrs)\n",
    "        thetas = np.random.uniform(np.pi/2, np.pi/2, size = npsrs)\n",
    "        # sigmas = np.ones_like(phis)*sigma\n",
    "        psrs = hsim.sim_pta(timespan=dur/YR, cad=1/(cad/YR), sigma=sigma,\n",
    "                        phi=phis, theta=thetas)\n",
    "        dp_bg = detstats.detect_bg_pta(psrs, fobs, hc_bg=hc_bg)\n",
    "        # print(f'{dp_bg=}')\n",
    "        avg_dp_tot+=np.median(dp_bg)\n",
    "    avg_dp = avg_dp_tot/trials\n",
    "        # median_tot+=np.median(dp_bg) #, np.std(dp_bg))\n",
    "    return avg_dp"
   ]
  },
  {
   "cell_type": "code",
   "execution_count": null,
   "metadata": {},
   "outputs": [],
   "source": [
    "NREALS = nreals\n",
    "NPSRS = 40\n",
    "SIG_START = 1e-7\n",
    "SIG_MIN = 1e-9\n",
    "SIG_MAX = 1e-3"
   ]
  },
  {
   "cell_type": "code",
   "execution_count": null,
   "metadata": {},
   "outputs": [],
   "source": [
    "# def get_dpbg(hc_bg, npsrs, sigma, trials, fobs, dur, cad, nreals=NREALS):\n",
    "#     all_dp = np.zeros((trials, nreals))\n",
    "#     # median_tot = 0\n",
    "#     for ii in range(trials):\n",
    "#         # build PTA\n",
    "#         phis = np.random.uniform(0, 2*np.pi, size = npsrs)\n",
    "#         thetas = np.random.uniform(np.pi/2, np.pi/2, size = npsrs)\n",
    "#         # sigmas = np.ones_like(phis)*sigma\n",
    "#         psrs = hsim.sim_pta(timespan=dur/YR, cad=1/(cad/YR), sigma=sigma,\n",
    "#                         phi=phis, theta=thetas)\n",
    "#         all_dp[ii] = detstats.detect_bg_pta(psrs, fobs, hc_bg=hc_bg)\n",
    "#         # print(f'{dp_bg=}')\n",
    "#     avg_dp = np.mean(all_dp)\n",
    "#     std_dp = np.std(all_dp)\n",
    "#         # median_tot+=np.median(dp_bg) #, np.std(dp_bg))\n",
    "#     return avg_dp, std_dp\n",
    "\n",
    "# def quick_pta_calibration(hc_bg, fobs, maxtrials=2, debug=False,\n",
    "#                           sig_start = 1e-6, sig_min = 1e-10, sig_max = 1e-3, npsrs=NPSRS):\n",
    "#     assert maxtrials>1, \"'maxtrials' must be >1\"\n",
    "#     dur = 1.0/fobs[0]\n",
    "#     cad = 1.0/(2*fobs[-1])\n",
    "#     sigma=sig_start\n",
    "\n",
    "#     avg_dp = 0\n",
    "#     trials=1\n",
    "#     while avg_dp<.495 or avg_dp>.505 or trials==1:\n",
    "#         avg_dp, std_dp = get_dpbg(hc_bg, npsrs=npsrs, sigma=sigma, trials=trials,\n",
    "#                           fobs=fobs, dur=dur, cad=cad)\n",
    "#         if debug: print(f\"{avg_dp=}, {sigma=}, {sig_min=}, {sig_max=}, {trials=}\")\n",
    "        \n",
    "#         if avg_dp>0.4 and avg_dp<0.5:\n",
    "#             trials=maxtrials\n",
    "\n",
    "#         if avg_dp>=0.51:  # avg_dp too high, raise sigma\n",
    "#             sig_min = sigma\n",
    "#             sigma = np.random.uniform(sig_min, sig_max)\n",
    "#         elif avg_dp<=0.49: # avg_dp too low, decrease sigma\n",
    "#             sig_max = sigma\n",
    "#             sigma = np.random.uniform(sig_min, sig_max)     \n",
    "#     return sigma, avg_dp, std_dp"
   ]
  },
  {
   "cell_type": "code",
   "execution_count": null,
   "metadata": {},
   "outputs": [],
   "source": [
    "def get_dpbg(hc_bg, npsrs, sigma, trials, fobs, dur, cad, nreals=NREALS):\n",
    "    all_dp = np.zeros((trials, nreals))\n",
    "    # median_tot = 0\n",
    "    for ii in range(trials):\n",
    "        # build PTA\n",
    "        phis = np.random.uniform(0, 2*np.pi, size = npsrs)\n",
    "        thetas = np.random.uniform(np.pi/2, np.pi/2, size = npsrs)\n",
    "        # sigmas = np.ones_like(phis)*sigma\n",
    "        psrs = hsim.sim_pta(timespan=dur/YR, cad=1/(cad/YR), sigma=sigma,\n",
    "                        phi=phis, theta=thetas)\n",
    "        all_dp[ii] = detstats.detect_bg_pta(psrs, fobs, hc_bg=hc_bg)\n",
    "        # print(f'{dp_bg=}')\n",
    "    avg_dp = np.mean(all_dp)\n",
    "    std_dp = np.std(all_dp)\n",
    "        # median_tot+=np.median(dp_bg) #, np.std(dp_bg))\n",
    "    return avg_dp, std_dp\n",
    "\n",
    "def quick_pta_calibration(hc_bg, fobs, maxtrials=2, debug=False,\n",
    "                          sig_start = 1e-6, sig_min = 1e-10, sig_max = 1e-3, npsrs=NPSRS,):\n",
    "    dur = 1.0/fobs[0]\n",
    "    cad = 1.0/(2*fobs[-1])\n",
    "    sigma=sig_start\n",
    "\n",
    "    avg_dp = 0\n",
    "    trials = 1\n",
    "    enough_trials = False\n",
    "    while avg_dp<.495 or avg_dp>.505 or enough_trials==False: # must be within the desired target range using the max number of trials\n",
    "        avg_dp, std_dp = get_dpbg(hc_bg, npsrs=npsrs, sigma=sigma, trials=trials,\n",
    "                          fobs=fobs, dur=dur, cad=cad)\n",
    "        if debug: print(f\"{avg_dp=}, {sigma=}, {sig_min=}, {sig_max=}, {trials=}\")\n",
    "        \n",
    "        if avg_dp>0.4 and avg_dp<0.5:\n",
    "            if trials == maxtrials:\n",
    "                enough_trials=True\n",
    "            else:\n",
    "                trials=maxtrials\n",
    "\n",
    "        if avg_dp>=0.51:  # avg_dp too high, raise sigma\n",
    "            sig_min = sigma\n",
    "            sigma = np.random.uniform(sig_min, sig_max)\n",
    "        elif avg_dp<=0.49: # avg_dp too low, decrease sigma\n",
    "            sig_max = sigma\n",
    "            sigma = np.random.uniform(sig_min, sig_max)     \n",
    "    return sigma, avg_dp, std_dp\n",
    "\n",
    "def binary_pta_calibration(hc_bg, fobs, maxtrials=2, debug=False,\n",
    "                          sig_start = 1e-6, sig_min = 1e-10, sig_max = 1e-3, npsrs=NPSRS,):\n",
    "    dur = 1.0/fobs[0]\n",
    "    cad = 1.0/(2*fobs[-1])\n",
    "    sigma=sig_start\n",
    "\n",
    "    avg_dp = 0\n",
    "    trials = 1\n",
    "    enough_trials = False\n",
    "    while avg_dp<.495 or avg_dp>.505 or enough_trials==False: # must be within the desired target range using the max number of trials\n",
    "        avg_dp, std_dp = get_dpbg(hc_bg, npsrs=npsrs, sigma=sigma, trials=trials,\n",
    "                          fobs=fobs, dur=dur, cad=cad)\n",
    "        if debug: print(f\"{avg_dp=}, {sigma=}, {sig_min=}, {sig_max=}, {trials=}\")\n",
    "        \n",
    "        if avg_dp>0.4 and avg_dp<0.5:\n",
    "            if trials == maxtrials:\n",
    "                enough_trials=True\n",
    "            else:\n",
    "                trials=maxtrials\n",
    "\n",
    "        if avg_dp>=0.51:  # avg_dp too high, raise sigma\n",
    "            sig_min = sigma\n",
    "            sigma = np.mean([sig_min, sig_max])\n",
    "        elif avg_dp<=0.49: # avg_dp too low, decrease sigma\n",
    "            sig_max = sigma\n",
    "            sigma = np.mean([sig_min, sig_max])     \n",
    "    return sigma, avg_dp, std_dp"
   ]
  },
  {
   "cell_type": "code",
   "execution_count": null,
   "metadata": {},
   "outputs": [],
   "source": [
    "def logmean(arr1, axis=None):\n",
    "    \"\"\" Get the geometric (log space) mean over two arrays \"\"\"\n",
    "    log1 = np.log10(arr1)\n",
    "    logmean = np.mean(log1, axis=axis)\n",
    "    mean = 10**logmean\n",
    "    return mean\n",
    "\n",
    "print('%.2e' % logmean([0.001, 0.01]))\n"
   ]
  },
  {
   "cell_type": "code",
   "execution_count": null,
   "metadata": {},
   "outputs": [],
   "source": [
    "print(f\"{nreals=}\")\n",
    "sigma, avg_dp, std_dp = quick_pta_calibration(hc_bg_all[nn], fobs, maxtrials=1)\n",
    "print(f\"{sigma=:.3e}, {avg_dp=:.3f}, {std_dp=:.3f}\")\n",
    "%timeit sigma, avg_dp, std_dp = quick_pta_calibration(hc_bg_all[nn], fobs, maxtrials=1)\n"
   ]
  },
  {
   "cell_type": "code",
   "execution_count": null,
   "metadata": {},
   "outputs": [],
   "source": [
    "print(f\"{nreals=}\")\n",
    "sigma, avg_dp, std_dp = binary_pta_calibration(hc_bg_all[nn], fobs, maxtrials=1)\n",
    "print(f\"{sigma=:.3e}, {avg_dp=:.3f}, {std_dp=:.3f}\")\n",
    "%timeit sigma, avg_dp, std_dp = binary_pta_calibration(hc_bg_all[nn], fobs, maxtrials=1)"
   ]
  },
  {
   "cell_type": "code",
   "execution_count": null,
   "metadata": {},
   "outputs": [],
   "source": [
    "print(f\"{nreals=}\")\n",
    "sigma, avg_dp, std_dp = quick_pta_calibration(hc_bg_all[nn], fobs, maxtrials=2)\n",
    "print(f\"{sigma=:.3e}, {avg_dp=:.2f}, {std_dp=:.3f}\")\n",
    "%timeit sigma, avg_dp, std_dp = quick_pta_calibration(hc_bg_all[nn], fobs, maxtrials=2)"
   ]
  },
  {
   "cell_type": "code",
   "execution_count": null,
   "metadata": {},
   "outputs": [],
   "source": [
    "print(f\"{nreals=}\")\n",
    "sigma, avg_dp, std_dp = binary_pta_calibration(hc_bg_all[nn], fobs, maxtrials=2)\n",
    "print(f\"{sigma=:.3e}, {avg_dp=:.3f}, {std_dp=:.3f}\")\n",
    "%timeit sigma, avg_dp, std_dp = binary_pta_calibration(hc_bg_all[nn], fobs, maxtrials=2)"
   ]
  },
  {
   "attachments": {},
   "cell_type": "markdown",
   "metadata": {},
   "source": [
    "# Function from detstats.py"
   ]
  },
  {
   "cell_type": "code",
   "execution_count": null,
   "metadata": {},
   "outputs": [],
   "source": [
    "print(f\"{nreals=}\")\n",
    "sigma, avg_dp, std_dp = detstats.binary_pta_calibration(hc_bg_all[nn], fobs, NPSRS, maxtrials=1)\n",
    "print(f\"{sigma=:.3e}, {avg_dp=:.3f}, {std_dp=:.3f}\")\n",
    "%timeit sigma, avg_dp, std_dp = detstats.binary_pta_calibration(hc_bg_all[nn], fobs, NPSRS, maxtrials=1)"
   ]
  },
  {
   "cell_type": "code",
   "execution_count": null,
   "metadata": {},
   "outputs": [],
   "source": [
    "print(f\"{nreals=}\")\n",
    "sigma, avg_dp, std_dp = detstats.binary_pta_calibration(hc_bg_all[nn], fobs, NPSRS, maxtrials=5)\n",
    "print(f\"{sigma=:.3e}, {avg_dp=:.3f}, {std_dp=:.3f}\")\n",
    "%timeit sigma, avg_dp, std_dp = detstats.binary_pta_calibration(hc_bg_all[nn], fobs, NPSRS, maxtrials=5)"
   ]
  },
  {
   "attachments": {},
   "cell_type": "markdown",
   "metadata": {},
   "source": [
    "# Individual Realizations"
   ]
  },
  {
   "cell_type": "code",
   "execution_count": null,
   "metadata": {},
   "outputs": [],
   "source": [
    "hc_bg = hc_bg_all[nn]\n",
    "\n",
    "import time\n",
    "\n",
    "def calibrate_every_real(hc_bg, fobs, npsrs, maxtrials):\n",
    "    nreals = hc_bg.shape[-1]\n",
    "    rsigmas = np.zeros(nreals)\n",
    "    avg_dps = np.zeros(nreals)\n",
    "    std_dps = np.zeros(nreals)\n",
    "    for rr in range(nreals):\n",
    "        hc_bg_rr = hc_bg[:,rr:rr+1]\n",
    "        # print(hc_bg_rr.shape)\n",
    "        rsigmas[rr], avg_dps[rr], std_dps[rr] = detstats.binary_pta_calibration(\n",
    "            hc_bg_rr, fobs, npsrs, maxtrials, sig_min=1e-8, sig_max=1e-4\n",
    "        )\n",
    "    return rsigmas, avg_dps, std_dps\n",
    "start_time = time.time()\n",
    "rsigmas, avg_dps, std_dps = calibrate_every_real(hc_bg_all[nn], fobs, NPSRS, 2)\n",
    "print(f\"{time.time() - start_time} s\")"
   ]
  },
  {
   "cell_type": "code",
   "execution_count": null,
   "metadata": {},
   "outputs": [],
   "source": [
    "%time rsigmas, avg_dps, std_dps = calibrate_every_real(hc_bg_all[nn], fobs, NPSRS, 1)\n",
    "%time rsigmas, avg_dps, std_dps = calibrate_every_real(hc_bg_all[nn], fobs, NPSRS, 2)\n",
    "%time rsigmas, avg_dps, std_dps = calibrate_every_real(hc_bg_all[nn], fobs, NPSRS, 3)\n"
   ]
  },
  {
   "cell_type": "code",
   "execution_count": null,
   "metadata": {},
   "outputs": [],
   "source": [
    "%time rsigmas, avg_dps, std_dps = detstats.calibrate_every_real(hc_bg_all[nn], fobs, NPSRS, 4)"
   ]
  },
  {
   "cell_type": "code",
   "execution_count": null,
   "metadata": {},
   "outputs": [],
   "source": [
    "print(hc_ss_all.shape)"
   ]
  },
  {
   "cell_type": "code",
   "execution_count": null,
   "metadata": {},
   "outputs": [],
   "source": [
    "hc_ss = hc_ss_all[nn]\n",
    "print(hc_ss.shape)\n",
    "hc_bg = hc_bg_all[nn]\n",
    "NSKIES=20\n",
    "\n",
    "%time detstats.detect_pspace_model_clbrt_pta(fobs, hc_ss, hc_bg, NPSRS, nskies=20, debug=True, tol=0.01, maxbads=10)"
   ]
  },
  {
   "cell_type": "code",
   "execution_count": null,
   "metadata": {},
   "outputs": [],
   "source": [
    "%time detstats.detect_pspace_model_clbrt_pta(fobs, hc_ss, hc_bg, NPSRS, NSKIES, debug=True, tol=0.01, maxbads=20)"
   ]
  },
  {
   "cell_type": "code",
   "execution_count": null,
   "metadata": {},
   "outputs": [],
   "source": [
    "%time detstats.detect_pspace_model_clbrt_pta(fobs, hc_ss, hc_bg, NPSRS, NSKIES, debug=True, tol=0.01, maxbads=30)"
   ]
  },
  {
   "cell_type": "code",
   "execution_count": null,
   "metadata": {},
   "outputs": [],
   "source": []
  }
 ],
 "metadata": {
  "kernelspec": {
   "display_name": "holo310",
   "language": "python",
   "name": "python3"
  },
  "language_info": {
   "codemirror_mode": {
    "name": "ipython",
    "version": 3
   },
   "file_extension": ".py",
   "mimetype": "text/x-python",
   "name": "python",
   "nbconvert_exporter": "python",
   "pygments_lexer": "ipython3",
   "version": "3.10.10"
  }
 },
 "nbformat": 4,
 "nbformat_minor": 2
}
