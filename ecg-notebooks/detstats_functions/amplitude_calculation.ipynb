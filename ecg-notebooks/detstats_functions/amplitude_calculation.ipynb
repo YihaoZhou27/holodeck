{
 "cells": [
  {
   "cell_type": "code",
   "execution_count": null,
   "metadata": {},
   "outputs": [],
   "source": [
    "import holodeck as holo\n",
    "from holodeck import single_sources, utils\n",
    "import holodeck.detstats as ds\n",
    "from holodeck.constants import YR, MSOL, NWTG, SPLC\n",
    "\n",
    "import numpy as np\n",
    "import matplotlib.pyplot as plt\n",
    "import kalepy as kale"
   ]
  },
  {
   "cell_type": "code",
   "execution_count": null,
   "metadata": {},
   "outputs": [],
   "source": [
    "mtot=(1.0e6*MSOL/1.988409870698051, 1.0e8*MSOL/1.988409870698051, 3)\n",
    "mrat=(1e-1, 1.0, 2)\n",
    "redz=(1e-3, 1.0, 4)\n",
    "sam = holo.sam.Semi_Analytic_Model(mtot=mtot, mrat=mrat, \n",
    "        redz=redz)\n",
    "print('edges:', sam.edges)"
   ]
  },
  {
   "cell_type": "code",
   "execution_count": null,
   "metadata": {},
   "outputs": [],
   "source": [
    "dur = 5.0*YR/3.1557600\n",
    "cad = .5*YR/3.1557600\n",
    "fo_gw = utils.nyquist_freqs(dur,cad)\n",
    "fo_gw_edges = utils.nyquist_freqs_edges(dur,cad)\n",
    "fo_orb_edges = fo_gw_edges / 2.0\n",
    "fo_orb = fo_gw / 2.0\n",
    "\n",
    "# dynamic_binary_number\n",
    "# gets differential number of binaries per bin-vol per log freq interval\n",
    "hard=holo.hardening.Hard_GW\n",
    "edges, dnum = sam.dynamic_binary_number(hard=hard, fobs_orb=fo_orb)\n",
    "edges[-1] = fo_orb_edges\n",
    "\n",
    "# integrate (multiply by bin volume) within each bin\n",
    "number = utils._integrate_grid_differential_number(edges, dnum, freq=False)\n",
    "number = number * np.diff(np.log(fo_gw_edges))"
   ]
  },
  {
   "cell_type": "markdown",
   "metadata": {},
   "source": [
    "# Dimensionless Amplitude of the signal"
   ]
  },
  {
   "cell_type": "code",
   "execution_count": null,
   "metadata": {},
   "outputs": [],
   "source": [
    "print('G = %.2e cm^3 g^-1 s^-2' % NWTG)\n",
    "tot_mass = kale.utils.midpoints(np.geomspace(mtot[0], mtot[1], mtot[2]))\n",
    "mass_rat = kale.utils.midpoints(np.geomspace(mrat[0], mrat[1], mrat[2]))\n",
    "chirp_mass = utils.chirp_mass_mtmr(tot_mass[:,np.newaxis], mass_rat[np.newaxis,:])\n",
    "print('M_c:', chirp_mass.shape, chirp_mass, 'g')\n",
    "redshift = kale.utils.midpoints(np.geomspace(redz[0], redz[1], redz[2]))\n",
    "print('z:', redshift.shape, redshift)\n",
    "comdist = holo.cosmo.comoving_distance(redshift).cgs.value\n",
    "print('d_c:', comdist.shape, comdist, 'cm')"
   ]
  },
  {
   "attachments": {},
   "cell_type": "markdown",
   "metadata": {},
   "source": [
    "$$ A = 2 \\frac{G^{5/3}\\mathcal{M}^{5/3}[\\pi f_{o,gw}[1+z]]^{2/3}}{c^4 r} \\quad\\quad (5)$$ \n",
    "in Rosado 2015\n",
    "\n",
    "$\\mathcal{M}$ is the proper chirp mass and $r$ is the comoving distance"
   ]
  },
  {
   "cell_type": "code",
   "execution_count": null,
   "metadata": {},
   "outputs": [],
   "source": [
    "def amp_from_pars(mc, rz, fo_gw):\n",
    "    \"\"\"\n",
    "    Parameters\n",
    "    ----------\n",
    "    mc : (M,Q)\n",
    "        Proper chirp mass (rest frame).\n",
    "    rz : (Z,)\n",
    "        Redshift.\n",
    "    fo_gw : (Z,F)\n",
    "        Observed gw frequency.\n",
    "    \"\"\"\n",
    "    mc = mc[:,:,np.newaxis,np.newaxis]\n",
    "    rz = rz[np.newaxis,np.newaxis,:,np.newaxis]\n",
    "    fo_gw = fo_gw[np.newaxis,np.newaxis,np.newaxis,:]\n",
    "    dc = holo.cosmo.comoving_distance(rz).cgs.value\n",
    "    numer = NWTG**(5/3) * mc**(5/3) * (np.pi * fo_gw*(1+rz))**(2/3)\n",
    "    denom = SPLC**4 * dc\n",
    "    amp = 2*numer/denom\n",
    "    return amp"
   ]
  },
  {
   "attachments": {},
   "cell_type": "markdown",
   "metadata": {},
   "source": [
    "## Check units\n",
    "* [G] = cm^3 g^-1 s^-2\n",
    "* [M] = g\n",
    "* [f] = s^-1\n",
    "* [c] = cm s^-1\n",
    "* [r] = cm\n",
    "\n",
    "[G]^(5/3) [M] ^(5/3) [f]^(2/3) [c]^(-4) [r]^(-1) \n",
    "\n",
    "= (cm^3 g^-1 s^-2)^(5/3) (g)^(5/3) (s^-1)^(2/3) (cm s^-1)^(-4) (cm)^(-1) \n",
    "\n",
    "= cm^5 g^(-5/3) s^(-10/3) g^(5/3) s^(-2/3) cm^(-4) s^(4) cm^(-1)\n",
    "\n",
    "= cm^5 cm^(-4) cm^(-1) g^(-5/3) g^(5/3) s^(-10/3)  s^(-2/3) s^(4) \n",
    "\n",
    "= cm^0 g^0 s^0 = dimensionless (check!)"
   ]
  },
  {
   "cell_type": "code",
   "execution_count": null,
   "metadata": {},
   "outputs": [],
   "source": [
    "par_amp = amp_from_pars(chirp_mass, redshift, fo_gw)\n",
    "print('A', par_amp.shape)\n",
    "print('A[0,0,0]:', par_amp[0,0,0])"
   ]
  },
  {
   "cell_type": "code",
   "execution_count": null,
   "metadata": {},
   "outputs": [],
   "source": [
    "hc2 = holo.gravwaves.char_strain_sq_from_bin_edges(edges)\n",
    "print(hc2.shape)\n",
    "hc = np.sqrt(hc2)\n",
    "print(hc.shape)"
   ]
  },
  {
   "cell_type": "code",
   "execution_count": null,
   "metadata": {},
   "outputs": [],
   "source": [
    "df = np.diff(fo_orb_edges)\n",
    "print(df.shape)\n",
    "\n",
    "hs = utils.char_strain_to_strain_amp(hc, fo_orb[np.newaxis,np.newaxis,:], \n",
    "                                     df[np.newaxis,np.newaxis,:]) # shape M,Z,F\n"
   ]
  },
  {
   "cell_type": "code",
   "execution_count": null,
   "metadata": {},
   "outputs": [],
   "source": [
    "print(hs.shape, par_amp.shape)\n",
    "print(hs[0,0,0])\n",
    "print(par_amp[0,0,0])"
   ]
  },
  {
   "cell_type": "code",
   "execution_count": null,
   "metadata": {},
   "outputs": [],
   "source": [
    "def hs_from_pars(mc, rz, fo_gw):\n",
    "    \"\"\"\n",
    "    Parameters\n",
    "    ----------\n",
    "    mc : (M,Q)\n",
    "        Proper chirp mass (rest frame).\n",
    "    rz : (Z,)\n",
    "        Redshift.\n",
    "    fo_gw : (Z,F)\n",
    "        Observed gw frequency.\n",
    "    \"\"\"\n",
    "    mc = mc[:,:,np.newaxis,np.newaxis]\n",
    "    rz = rz[np.newaxis,np.newaxis,:,np.newaxis]\n",
    "    fo_gw = fo_gw[np.newaxis,np.newaxis,np.newaxis,:]\n",
    "    fr_gw = utils.frst_from_fobs(fo_gw, rz) # rest frame gw frequency\n",
    "    dc = holo.cosmo.comoving_distance(rz).cgs.value\n",
    "    numer = 8*NWTG**(5/3)*mc**(5/3) * (np.pi*fr_gw)**(2/3)\n",
    "    denom = np.sqrt(10) * SPLC**4 * dc\n",
    "    return numer/denom"
   ]
  },
  {
   "cell_type": "code",
   "execution_count": null,
   "metadata": {},
   "outputs": [],
   "source": [
    "par_hs = hs_from_pars(chirp_mass, redshift, fo_gw)\n",
    "print(par_hs.shape)\n",
    "print(par_hs[0,0,0], hs[0,0,0])"
   ]
  },
  {
   "attachments": {},
   "cell_type": "markdown",
   "metadata": {},
   "source": [
    "$h_s = A * \\mathrm{factor}$"
   ]
  },
  {
   "cell_type": "code",
   "execution_count": null,
   "metadata": {},
   "outputs": [],
   "source": [
    "plt.plot(np.arange(par_hs.size), (par_hs / par_amp).flatten())\n",
    "print(4/np.sqrt(10))\n",
    "factor = par_hs/par_amp\n",
    "print(factor)"
   ]
  },
  {
   "cell_type": "code",
   "execution_count": null,
   "metadata": {},
   "outputs": [],
   "source": [
    "plt.plot(np.arange(par_hs.size), ((10**(1/2)/4) * par_hs / par_amp).flatten(),\n",
    "         label = r'$\\frac{10^{1/2}}{4} \\frac{h_s}{A}$')\n",
    "plt.legend(fontsize=18)\n"
   ]
  },
  {
   "cell_type": "code",
   "execution_count": null,
   "metadata": {},
   "outputs": [],
   "source": [
    "fr_orb = utils.frst_from_fobs(fo_orb[np.newaxis,:], \n",
    "                              redshift[:,np.newaxis]) # (Z,F)\n",
    "\n",
    "hs_utils = utils.gw_strain_source(chirp_mass[:,np.newaxis,np.newaxis],\n",
    "                                  comdist[np.newaxis,:,np.newaxis], \n",
    "                                  fr_orb[np.newaxis,:,:])\n",
    "print(hs_utils.shape)"
   ]
  },
  {
   "cell_type": "code",
   "execution_count": null,
   "metadata": {},
   "outputs": [],
   "source": [
    "print(par_hs.shape)\n",
    "plt.plot(np.arange(par_hs.size), hs_utils.flatten(), alpha=0.5,\n",
    "         label='hs from utils.gw_strain_source')\n",
    "plt.plot(np.arange(par_hs.size), par_hs.flatten(), alpha=0.5,\n",
    "         label='hs from pars')\n",
    "plt.plot(np.arange(par_hs.size), hs.flatten(), alpha=0.5,\n",
    "         label='hs from hc')\n",
    "plt.legend()\n",
    "plt.ylabel('hs')\n",
    "plt.xlabel('ii')"
   ]
  },
  {
   "cell_type": "code",
   "execution_count": null,
   "metadata": {},
   "outputs": [],
   "source": [
    "print(par_hs.shape)\n",
    "plt.plot(fo_orb, hs_utils[0,0,0,:], alpha=0.5,\n",
    "         label='hs from utils.gw_strain_source')\n",
    "plt.plot(fo_orb, par_hs[0,0,0,:], alpha=0.5,\n",
    "         label='hs from pars', linestyle='--')\n",
    "plt.plot(fo_orb, hs[0,0,0,:], alpha=0.5,\n",
    "         label='hs from hc')\n",
    "\n",
    "dfo_orb = np.diff(fo_orb_edges)\n",
    "plt.plot(fo_orb, hc[0,0,0,:]*np.sqrt(dfo_orb/fo_orb), alpha=0.5,\n",
    "         label='hc*$\\sqrt{df/f}$', linestyle='--')\n",
    "\n",
    "plt.plot(fo_orb, par_amp[0,0,0,:] * 4/np.sqrt(10), alpha=0.5, linestyle=':',\n",
    "         color='k', label = r'$\\frac{4}{\\sqrt{10}} A$')\n",
    "plt.legend(fontsize=12)\n",
    "plt.xlabel('fobs_orb')\n",
    "plt.ylabel('hs[M=0, Z=0, :]')"
   ]
  },
  {
   "attachments": {},
   "cell_type": "markdown",
   "metadata": {},
   "source": [
    "# Everything works out!!\n",
    "\n",
    "So in utils.char_strain_to_strain_amp we do $h_s = h_c * \\sqrt{\\Delta f_{obs,orb} / f_{obs,orb}}$ (which ends up not actually being needed)\n",
    "\n",
    "In detstats._amplitude we do $A = \\frac{10^{1/2}}{4} h_s = \\frac{10^{1/2}}{4} h_c * \\sqrt{\\Delta f_{obs} / f_{obs}} $ where it doesnt matter if orbital or gw frequencies are used, as long as they are the same for $f_{obs}$ and $\\Delta f_{obs}$"
   ]
  },
  {
   "cell_type": "code",
   "execution_count": null,
   "metadata": {},
   "outputs": [],
   "source": []
  },
  {
   "cell_type": "code",
   "execution_count": null,
   "metadata": {},
   "outputs": [],
   "source": []
  },
  {
   "cell_type": "code",
   "execution_count": null,
   "metadata": {},
   "outputs": [],
   "source": []
  }
 ],
 "metadata": {
  "kernelspec": {
   "display_name": "holo310",
   "language": "python",
   "name": "python3"
  },
  "language_info": {
   "codemirror_mode": {
    "name": "ipython",
    "version": 3
   },
   "file_extension": ".py",
   "mimetype": "text/x-python",
   "name": "python",
   "nbconvert_exporter": "python",
   "pygments_lexer": "ipython3",
   "version": "3.10.10"
  }
 },
 "nbformat": 4,
 "nbformat_minor": 2
}
