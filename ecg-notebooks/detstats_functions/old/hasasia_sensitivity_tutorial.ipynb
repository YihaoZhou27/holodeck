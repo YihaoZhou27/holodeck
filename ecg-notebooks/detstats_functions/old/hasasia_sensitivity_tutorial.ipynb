{
 "cells": [
  {
   "cell_type": "code",
   "execution_count": null,
   "metadata": {},
   "outputs": [],
   "source": [
    "import numpy as np\n",
    "import hasasia.sensitivity as sens\n",
    "import hasasia.sim as sim\n",
    "\n",
    "import matplotlib.pyplot as plt\n",
    "import matplotlib as mpl"
   ]
  },
  {
   "cell_type": "markdown",
   "metadata": {},
   "source": []
  },
  {
   "attachments": {},
   "cell_type": "markdown",
   "metadata": {},
   "source": [
    "Make randomly spaced pulsars"
   ]
  },
  {
   "cell_type": "code",
   "execution_count": null,
   "metadata": {},
   "outputs": [],
   "source": [
    "phi = np.random.uniform(0, 2*np.pi, size=34)\n",
    "theta = np.random.uniform(0, np.pi, size=34)\n",
    "\n",
    "pulsars = sim.sim_pta(timespan=11.4, cad=23, sigma=1e-7, \n",
    "                   phi=phi, theta=theta, Npsrs=34)\n",
    "# timespan of observations = T"
   ]
  },
  {
   "attachments": {},
   "cell_type": "markdown",
   "metadata": {},
   "source": [
    "Make spectra object for each pulsar"
   ]
  },
  {
   "cell_type": "code",
   "execution_count": null,
   "metadata": {},
   "outputs": [],
   "source": [
    "# freqs = np.logspace(np.log10(5e-10), np.log10(5e-7),400)\n",
    "# same thing:\n",
    "freqs = (np.geomspace(5e-10, 5e-7, 400))\n",
    "spectra = []\n",
    "\n",
    "for pul in pulsars:\n",
    "    sp = sens.Spectrum(pul, freqs=freqs) # spectrum object\n",
    "    sp.NcalInv # calculate inverse noise weighted transmission function along the way\n",
    "    spectra.append(sp)"
   ]
  },
  {
   "attachments": {},
   "cell_type": "markdown",
   "metadata": {},
   "source": [
    "Enter spectra into GWB and deterministic sensitivity curve classes"
   ]
  },
  {
   "cell_type": "code",
   "execution_count": null,
   "metadata": {},
   "outputs": [],
   "source": [
    "scGWB = sens.GWBSensitivityCurve(spectra)\n",
    "scDeter = sens.DeterSensitivityCurve(spectra)\n",
    "\n",
    "plt.loglog(scGWB.freqs, scGWB.h_c, label='GWB')\n",
    "plt.loglog(scDeter.freqs, scDeter.h_c, label='Deterministic')\n",
    "plt.legend()"
   ]
  },
  {
   "attachments": {},
   "cell_type": "markdown",
   "metadata": {},
   "source": [
    "Do I have parameters here that I need for my detection statistics?\n",
    "* sigma? other noise like red noise?\n",
    "* theta_i, phi_i (yes)\n",
    "* "
   ]
  },
  {
   "attachments": {},
   "cell_type": "markdown",
   "metadata": {},
   "source": [
    "Compare to 3 year baseline "
   ]
  },
  {
   "cell_type": "code",
   "execution_count": null,
   "metadata": {},
   "outputs": [],
   "source": []
  },
  {
   "attachments": {},
   "cell_type": "markdown",
   "metadata": {},
   "source": [
    "# Questions\n",
    "* What is the transmission function (I get inverse-noise weighted)\n",
    "* How are sensitivity curves calculated and does this just mean what min strain the inputted pulsar array is capable of detecting?"
   ]
  },
  {
   "cell_type": "code",
   "execution_count": null,
   "metadata": {},
   "outputs": [],
   "source": []
  }
 ],
 "metadata": {
  "kernelspec": {
   "display_name": "holo310",
   "language": "python",
   "name": "python3"
  },
  "language_info": {
   "codemirror_mode": {
    "name": "ipython",
    "version": 3
   },
   "file_extension": ".py",
   "mimetype": "text/x-python",
   "name": "python",
   "nbconvert_exporter": "python",
   "pygments_lexer": "ipython3",
   "version": "3.10.9"
  }
 },
 "nbformat": 4,
 "nbformat_minor": 2
}
