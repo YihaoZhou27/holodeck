{
 "cells": [
  {
   "cell_type": "code",
   "execution_count": null,
   "metadata": {},
   "outputs": [],
   "source": [
    "import numpy as np\n",
    "import hasasia.sensitivity as sens\n",
    "import hasasia.sim as sim\n",
    "import matplotlib.pyplot as plt\n",
    "\n",
    "import holodeck as holo\n",
    "import holodeck.plot as plot\n",
    "from holodeck.constants import YR"
   ]
  },
  {
   "attachments": {},
   "cell_type": "markdown",
   "metadata": {},
   "source": [
    "# 1)) Getting Started\n",
    "### Create random PTA"
   ]
  },
  {
   "cell_type": "code",
   "execution_count": null,
   "metadata": {},
   "outputs": [],
   "source": [
    "phi = np.random.uniform(0, 2*np.pi, size=34)\n",
    "theta = np.random.uniform(0, np.pi, size=34)\n",
    "psrs = sim.sim_pta(timespan=11.4, cad=23, sigma=1e-7, \n",
    "                   phi=phi, theta=theta, Npsrs=34)\n",
    "# timespan = dur/YR, cad = 1/(cad/YR). \n",
    "# This cad is number/yr. Holodeck cad is time b/t observations"
   ]
  },
  {
   "attachments": {},
   "cell_type": "markdown",
   "metadata": {},
   "source": [
    "### Make a spectra for each pulsar\n",
    "Also calculate inverse-noise-weighted transmission function."
   ]
  },
  {
   "cell_type": "code",
   "execution_count": null,
   "metadata": {},
   "outputs": [],
   "source": [
    "freqs = np.geomspace(5e-10, 5e-7, 400)\n",
    "spectra = []\n",
    "for psr in psrs: \n",
    "    spec = sens.Spectrum(psr, freqs=freqs)\n",
    "    spec.NcalInv\n",
    "    spectra.append(spec)\n",
    "# without concern for NcalInv, could just do\n",
    "# spectra = [sens.Spectrum(p, freqs=freqs) for p in psrs]"
   ]
  },
  {
   "attachments": {},
   "cell_type": "markdown",
   "metadata": {},
   "source": [
    "### Get sensitivity curves\n",
    "Enter list of spectra into sensitivty curve classes.\n",
    "- Deterministic (single source, averaged over inclination, polarization, and sky position) has effective strain-noise power spectral density $S_\\mathrm{eff}(f) \\equiv \\big(\\frac{4}{5} \\sum_I \\frac{T_I}{T_\\mathrm{obs}} \\frac{1}{S_I(f)} \\big)^{-1} $   (70)\n",
    " \n",
    "- GWB: level of GWB that would be required to produce the actual noise of the detector (non-Gaussian and non-stationary.) with $S_\\mathrm{eff}(f) = \\big(\\sum_I \\sum_J \\frac{T_{IJ}}{ T_\\mathrm{obs} \\frac{\\chi_{IJ}^2}{S_I(f)S_J^{f}}}  \\big)^{-1/2} $   (89)\n",
    "\n",
    "According to Hazboun (2019) both follow \n",
    "$ h_c(f) \\equiv \\sqrt{f S_\\mathrm{eff}(f)} $    (72)"
   ]
  },
  {
   "cell_type": "code",
   "execution_count": null,
   "metadata": {},
   "outputs": [],
   "source": [
    "scGWB = sens.GWBSensitivityCurve(spectra)\n",
    "scDeter = sens.DeterSensitivityCurve(spectra)"
   ]
  },
  {
   "attachments": {},
   "cell_type": "markdown",
   "metadata": {},
   "source": [
    "Plot sensitivity curves"
   ]
  },
  {
   "cell_type": "code",
   "execution_count": null,
   "metadata": {},
   "outputs": [],
   "source": [
    "xx = freqs * YR\n",
    "fig, ax = plot.figax(\n",
    "    xlabel=plot.LABEL_GW_FREQUENCY_YR,\n",
    "    ylabel=plot.LABEL_CHARACTERISTIC_STRAIN\n",
    ")\n",
    "ax.loglog(xx, scGWB.h_c, label='Stochastic (bg)')\n",
    "ax.loglog(xx, scDeter.h_c, label='Deterministic (ss)')\n",
    "ax.legend()"
   ]
  },
  {
   "attachments": {},
   "cell_type": "markdown",
   "metadata": {},
   "source": [
    "### Compare different PTA baseline"
   ]
  },
  {
   "cell_type": "code",
   "execution_count": null,
   "metadata": {},
   "outputs": [],
   "source": [
    "# same cad, signa, phi, theta, Npsrs. Just different timespan\n",
    "psrs2 = sim.sim_pta(timespan=3.0, cad=23, sigma=1e-7, phi=phi, theta=theta, Npsrs=34)\n",
    "spectra2 = [sens.Spectrum(psr, freqs=freqs) for psr in psrs2]\n",
    "scGWB2 = sens.GWBSensitivityCurve(spectra2)\n",
    "scDeter2 = sens.DeterSensitivityCurve(spectra2)"
   ]
  },
  {
   "attachments": {},
   "cell_type": "markdown",
   "metadata": {},
   "source": [
    "Plot, like in tutorial"
   ]
  },
  {
   "cell_type": "code",
   "execution_count": null,
   "metadata": {},
   "outputs": [],
   "source": [
    "plt.loglog(freqs,scGWB.h_c,label='11.4-year Baseline')\n",
    "plt.loglog(freqs,scGWB2.h_c,label='3-year Baseline')\n",
    "plt.xlabel('Frequency [Hz]')\n",
    "plt.ylabel('Characteristic Strain, $h_c$')\n",
    "plt.legend()\n",
    "plt.show()"
   ]
  },
  {
   "cell_type": "code",
   "execution_count": null,
   "metadata": {},
   "outputs": [],
   "source": [
    "xx = freqs * YR\n",
    "fig, ax = plot.figax(\n",
    "    xlabel=plot.LABEL_GW_FREQUENCY_YR,\n",
    "    ylabel=plot.LABEL_CHARACTERISTIC_STRAIN\n",
    ")\n",
    "ax.loglog(xx, scGWB.h_c, label='GWB,11.4 Yr Baseline', \n",
    "          color='C0')\n",
    "ax.loglog(xx, scGWB2.h_c, label='GWB, 3 Yr Baseline', \n",
    "          color='C0', ls='dashed')\n",
    "ax.loglog(xx, scDeter.h_c, label='SS, 11.4 Yr Baseline',\n",
    "          color='tab:pink')\n",
    "ax.loglog(xx, scDeter2.h_c, label='SS, 3 Yr Baseline',\n",
    "          color='tab:pink', ls='dashed')\n",
    "ax.legend()"
   ]
  },
  {
   "attachments": {},
   "cell_type": "markdown",
   "metadata": {},
   "source": [
    "# 2)) Sensitivity Tutorial"
   ]
  },
  {
   "cell_type": "code",
   "execution_count": null,
   "metadata": {},
   "outputs": [],
   "source": [
    "import hasasia.sim as hsim\n",
    "import hasasia.sensitivity as hsen"
   ]
  },
  {
   "attachments": {},
   "cell_type": "markdown",
   "metadata": {},
   "source": [
    "## 2.1) Create PTA and Spectra\n",
    "### Random PTA (list of sens.pulsar objects)"
   ]
  },
  {
   "cell_type": "code",
   "execution_count": null,
   "metadata": {},
   "outputs": [],
   "source": [
    "phi = np.random.uniform(0, 2*np.pi, size=34)\n",
    "cos_theta = np.random.uniform(-1,1,size=34)\n",
    "theta = np.arccos(cos_theta)\n",
    "timespan=[11.4 for ii in range(10)] # first 10 pulsars have 11.4 yrs of data\n",
    "timespan.extend([3.0 for ii in range(24)]) # last 24 pulsars have only 3 yrs of data\n",
    "# timespan=np.empty_like(phi) # if I wanted to use numpy array instead\n",
    "# for ii in range(len(phi)):\n",
    "#     if ii<10: timespan[ii]=11.4\n",
    "#     else: timespan[ii]=3.0\n",
    "print(timespan)"
   ]
  },
  {
   "cell_type": "code",
   "execution_count": null,
   "metadata": {},
   "outputs": [],
   "source": [
    "psrs_wo = hsim.sim_pta(timespan=timespan, cad=23, sigma=1e-7, \n",
    "                     phi=phi, theta=theta)"
   ]
  },
  {
   "cell_type": "code",
   "execution_count": null,
   "metadata": {},
   "outputs": [],
   "source": [
    "psrs = hsim.sim_pta(timespan=timespan, cad=23, sigma=1e-7,\n",
    "                    phi=phi,theta=theta)"
   ]
  },
  {
   "attachments": {},
   "cell_type": "markdown",
   "metadata": {},
   "source": [
    "#### Include red noise (power law $A_\\mathrm{RN} f^\\alpha$) in a new PTA, this is the GWB"
   ]
  },
  {
   "cell_type": "code",
   "execution_count": null,
   "metadata": {},
   "outputs": [],
   "source": [
    "freqs = np.logspace(np.log10(5e-10), np.log10(5e-7),500)\n",
    "psrs_rn = hsim.sim_pta(timespan=timespan,cad=23,sigma=1e-7,\n",
    "                     phi=phi,theta=theta,\n",
    "                     A_rn=6e-16, alpha=-2/3.,freqs=freqs)"
   ]
  },
  {
   "cell_type": "code",
   "execution_count": null,
   "metadata": {},
   "outputs": [],
   "source": [
    "psrs2 = hsim.sim_pta(timespan=timespan,cad=23,sigma=1e-7,\n",
    "                     phi=phi,theta=theta,\n",
    "                     A_rn=6e-16, alpha=-2/3.,freqs=freqs)"
   ]
  },
  {
   "cell_type": "code",
   "execution_count": null,
   "metadata": {},
   "outputs": [],
   "source": [
    "print(psrs[0].__dict__.keys())\n",
    "print(np.all(psrs[20].toas == psrs_wo[20].toas))\n",
    "print(np.all(psrs2[20].toaerrs == psrs_rn[20].toaerrs))"
   ]
  },
  {
   "attachments": {},
   "cell_type": "markdown",
   "metadata": {},
   "source": [
    "### Spectra for each pulsar"
   ]
  },
  {
   "cell_type": "code",
   "execution_count": null,
   "metadata": {},
   "outputs": [],
   "source": [
    "spectra_wo = []\n",
    "for psr in psrs_wo:\n",
    "    sp = hsen.Spectrum(psr, freqs=freqs)\n",
    "    sp.NcalInv # inverse noise weighted transmission function\n",
    "    spectra_wo.append(sp)\n",
    "\n",
    "spectra_rn = []\n",
    "for psr in psrs_rn:\n",
    "    sp = hsen.Spectrum(psr, freqs=freqs)\n",
    "    sp.NcalInv\n",
    "    spectra_rn.append(sp)"
   ]
  },
  {
   "cell_type": "code",
   "execution_count": null,
   "metadata": {},
   "outputs": [],
   "source": [
    "spectra = []\n",
    "for p in psrs:\n",
    "    sp = hsen.Spectrum(p, freqs=freqs)\n",
    "    sp.NcalInv\n",
    "    spectra.append(sp)\n",
    "spectra2 = []\n",
    "for p in psrs2:\n",
    "    sp = hsen.Spectrum(p, freqs=freqs)\n",
    "    sp.NcalInv\n",
    "    spectra2.append(sp)"
   ]
  },
  {
   "cell_type": "code",
   "execution_count": null,
   "metadata": {},
   "outputs": [],
   "source": [
    "print(spectra_wo[0].__dict__.keys())\n",
    "# for spec in spectra1:\n",
    "    # print(holo.utils.stats(spec.freqs)) # the freqs are same for all of them\n",
    "    # print(holo.utils.stats(spec.NcalInv)) # same for all w/ same timespan\n",
    "# print(np.all(sp == psrs_wo[20].toas))\n",
    "print(np.all(spectra_wo[20]._NcalInv == spectra[20]._NcalInv))\n",
    "print(np.all(spectra_rn[20]._NcalInv == spectra2[20]._NcalInv))"
   ]
  },
  {
   "attachments": {},
   "cell_type": "markdown",
   "metadata": {},
   "source": [
    "#### NcalInv: \n",
    "Inverse noise-weighted transmission function, Eq. (19-20) in Hazboun et al. (2019).  Inverse of the detector's (noise power spectral density) x (frequency response function).\n",
    "\n",
    "NcalInv is a property. Do you just name a property in order to calculate it, or why do we need to do that? Is it not calculated when first used internally?"
   ]
  },
  {
   "cell_type": "code",
   "execution_count": null,
   "metadata": {},
   "outputs": [],
   "source": [
    "xx = freqs*YR\n",
    "fig, ax = plot.figax(\n",
    "    xlabel=plot.LABEL_GW_FREQUENCY_YR,\n",
    "    ylabel='$N_\\mathrm{I}^{-1}$'\n",
    ")\n",
    "ax.loglog(xx, spectra_wo[0].NcalInv, color='tab:blue',\n",
    "          label='w/o RN, T={0} yrs'.format(timespan[0]))\n",
    "ax.loglog(xx, spectra_wo[10].NcalInv, color='tab:blue', ls='--', \n",
    "          label='w/o RN, T={0} yrs'.format(timespan[10]))\n",
    "ax.loglog(xx, spectra_rn[0].NcalInv, color='tab:red',\n",
    "          label='w/ RN, T={0} yrs'.format(timespan[0]))\n",
    "ax.loglog(xx, spectra_rn[10].NcalInv, color='tab:red', ls='--',\n",
    "          label='w/ RN, T={0} yrs'.format(timespan[10]))\n",
    "ax.legend()"
   ]
  },
  {
   "cell_type": "code",
   "execution_count": null,
   "metadata": {},
   "outputs": [],
   "source": [
    "plt.loglog(spectra[0].freqs,spectra[0].NcalInv,\n",
    "           label='w/o GWB, T={0} yrs'.format(timespan[0]))\n",
    "plt.loglog(spectra2[20].freqs,spectra2[20].NcalInv,'--',\n",
    "           label='w/ GWB, T={0} yrs'.format(timespan[20]))\n",
    "plt.xlabel('Frequency [Hz]')\n",
    "plt.ylabel(r'$\\mathcal{N}^{-1}_{\\rm I}$')\n",
    "plt.legend()\n",
    "plt.show()"
   ]
  },
  {
   "attachments": {},
   "cell_type": "markdown",
   "metadata": {},
   "source": [
    "#### S_I: Strain power sensitivity. Eq. (76)\n",
    "$$ S_\\mathrm{I} = \\frac{1}{\\cal{N}^{-1}\\cal{R}}$$"
   ]
  },
  {
   "cell_type": "code",
   "execution_count": null,
   "metadata": {},
   "outputs": [],
   "source": [
    "xx = freqs*YR\n",
    "fig, ax = plot.figax(\n",
    "    xlabel=plot.LABEL_GW_FREQUENCY_YR,\n",
    "    ylabel='$S_\\mathrm{I}$',\n",
    ")\n",
    "ax.loglog(xx, spectra_wo[0].S_I, color='tab:blue',\n",
    "          label='w/o RN, T={0} yrs'.format(timespan[0]))\n",
    "ax.loglog(xx, spectra_wo[10].S_I, color='tab:blue', ls='--',\n",
    "          label='w/o RN, T={0} yrs'.format(timespan[10]))\n",
    "ax.loglog(xx, spectra_rn[0].S_I, color='tab:red',\n",
    "          label='w/ RN, T={0} yrs'.format(timespan[0]))\n",
    "ax.loglog(xx, spectra_rn[10].S_I, color='tab:red', ls='--', \n",
    "          label='w/ RN, T={0} yrs'.format(timespan[10]))\n",
    "ax.legend()"
   ]
  },
  {
   "cell_type": "code",
   "execution_count": null,
   "metadata": {},
   "outputs": [],
   "source": [
    "plt.loglog(spectra[0].freqs,spectra[0].S_I,label='w/o GWB')\n",
    "plt.loglog(spectra2[0].freqs,spectra2[0].S_I,'--',label='w/ GWB')\n",
    "plt.xlabel('Frequency [Hz]')\n",
    "plt.ylabel(r'$S_{\\rm I}$')\n",
    "plt.legend()\n",
    "plt.show()"
   ]
  },
  {
   "attachments": {},
   "cell_type": "markdown",
   "metadata": {},
   "source": [
    "## 2.2) Sensitivity Curvess"
   ]
  },
  {
   "cell_type": "code",
   "execution_count": null,
   "metadata": {},
   "outputs": [],
   "source": [
    "sc1a = hsen.GWBSensitivityCurve(spectra)\n",
    "sc1b = hsen.DeterSensitivityCurve(spectra)\n",
    "sc2a = hsen.GWBSensitivityCurve(spectra2)\n",
    "sc2b = hsen.DeterSensitivityCurve(spectra2)"
   ]
  },
  {
   "cell_type": "code",
   "execution_count": null,
   "metadata": {},
   "outputs": [],
   "source": [
    "sc_wo_bg = hsen.GWBSensitivityCurve(spectra_wo)\n",
    "sc_wo_ss = hsen.DeterSensitivityCurve(spectra_wo)\n",
    "sc_rn_bg = hsen.GWBSensitivityCurve(spectra_rn)\n",
    "sc_rn_ss = hsen.DeterSensitivityCurve(spectra_rn)"
   ]
  },
  {
   "attachments": {},
   "cell_type": "markdown",
   "metadata": {},
   "source": [
    "Effective Strain Noise PSD $S_\\mathrm{eff}$"
   ]
  },
  {
   "cell_type": "code",
   "execution_count": null,
   "metadata": {},
   "outputs": [],
   "source": [
    "xx = freqs*YR\n",
    "fig, ax = plot.figax(\n",
    "    xlabel=plot.LABEL_GW_FREQUENCY_YR,\n",
    "    ylabel='Effective Strain Noise PSD, $S_\\mathrm{eff}$'\n",
    ")\n",
    "ax.loglog(xx, sc_wo_bg.S_eff, color='tab:blue',\n",
    "          label='GWB, w/o RN')\n",
    "ax.loglog(xx, sc_wo_ss.S_eff, color='tab:blue', ls=':',\n",
    "          label='SS, w/o RN')\n",
    "ax.loglog(xx, sc_rn_bg.S_eff, color='tab:pink',\n",
    "          label='GWB, w/ RN')\n",
    "ax.loglog(xx, sc_rn_ss.S_eff, color='tab:pink', ls=':', \n",
    "          label='SS, w/ RN')\n",
    "ax.legend()"
   ]
  },
  {
   "cell_type": "code",
   "execution_count": null,
   "metadata": {},
   "outputs": [],
   "source": [
    "print(np.all(sc1a.S_eff == sc_wo_bg.S_eff))\n",
    "print(np.all(sc1b.S_eff == sc_wo_ss.S_eff))\n",
    "print(np.all(sc2a.S_eff == sc_rn_bg.S_eff))\n",
    "print(np.all(sc2a.S_eff == sc_rn_ss.S_eff))"
   ]
  },
  {
   "cell_type": "code",
   "execution_count": null,
   "metadata": {},
   "outputs": [],
   "source": [
    "plt.loglog(sc1a.freqs,sc1a.S_eff,label='w/o GWB')\n",
    "plt.loglog(sc2a.freqs,sc2a.S_eff,'--',label='w/ GWB')\n",
    "plt.xlabel('Frequency [Hz]')\n",
    "plt.ylabel(r'Effective Strain Noise PSD, $S_{\\rm eff}$')\n",
    "plt.legend()\n",
    "plt.show()"
   ]
  },
  {
   "attachments": {},
   "cell_type": "markdown",
   "metadata": {},
   "source": [
    "Characteristic Strain, $h_c$"
   ]
  },
  {
   "cell_type": "code",
   "execution_count": null,
   "metadata": {},
   "outputs": [],
   "source": [
    "xx = freqs*YR\n",
    "fig, ax = plot.figax(\n",
    "    xlabel=plot.LABEL_GW_FREQUENCY_YR,\n",
    "    ylabel=plot.LABEL_CHARACTERISTIC_STRAIN\n",
    ")\n",
    "ax.loglog(xx, sc_wo_bg.h_c, color='tab:blue',\n",
    "          label='GWB, w/o RN')\n",
    "ax.loglog(xx, sc_wo_ss.h_c, color='tab:blue', ls=':',\n",
    "          label='SS, w/o RN')\n",
    "ax.loglog(xx, sc_rn_bg.h_c, color='tab:pink',\n",
    "          label='GWB, w/ RN')\n",
    "ax.loglog(xx, sc_rn_ss.h_c, color='tab:pink', ls=':', \n",
    "          label='SS, w/ RN')\n",
    "ax.legend()"
   ]
  },
  {
   "cell_type": "code",
   "execution_count": null,
   "metadata": {},
   "outputs": [],
   "source": [
    "plt.loglog(sc1a.freqs,sc1a.h_c)\n",
    "plt.loglog(sc2a.freqs,sc2a.h_c,'--')\n",
    "plt.xlabel('Frequency [Hz]')\n",
    "plt.ylabel('Characteristic Strain, $h_c$')\n",
    "plt.show()"
   ]
  },
  {
   "attachments": {},
   "cell_type": "markdown",
   "metadata": {},
   "source": [
    "Energy Density, $\\Omega_{gw}$"
   ]
  },
  {
   "cell_type": "code",
   "execution_count": null,
   "metadata": {},
   "outputs": [],
   "source": [
    "xx = freqs*YR\n",
    "fig, ax = plot.figax(\n",
    "    xlabel=plot.LABEL_GW_FREQUENCY_YR,\n",
    "    ylabel='Energy Density, $\\Omega_{gw}$'\n",
    ")\n",
    "ax.loglog(xx, sc_wo_bg.Omega_gw, color='tab:blue',\n",
    "          label='GWB, w/o RN')\n",
    "ax.loglog(xx, sc_wo_ss.Omega_gw, color='tab:blue', ls=':',\n",
    "          label='SS, w/o RN')\n",
    "ax.loglog(xx, sc_rn_bg.Omega_gw, color='tab:pink',\n",
    "          label='GWB, w/ RN')\n",
    "ax.loglog(xx, sc_rn_ss.Omega_gw, color='tab:pink', ls=':', \n",
    "          label='SS, w/ RN')\n",
    "ax.legend()"
   ]
  },
  {
   "cell_type": "code",
   "execution_count": null,
   "metadata": {},
   "outputs": [],
   "source": [
    "plt.loglog(sc1a.freqs,sc1a.Omega_gw)\n",
    "plt.loglog(sc2a.freqs,sc2a.Omega_gw,'--')\n",
    "plt.xlabel('Frequency [Hz]')\n",
    "plt.ylabel('Energy Density, $\\Omega_{gw}$')\n",
    "plt.show()\n"
   ]
  },
  {
   "cell_type": "code",
   "execution_count": null,
   "metadata": {},
   "outputs": [],
   "source": [
    "plt.loglog(sc1b.freqs,sc1b.h_c)\n",
    "plt.loglog(sc2b.freqs,sc2b.h_c,'--')\n",
    "plt.xlabel('Frequency [Hz]')\n",
    "plt.ylabel('Characteristic Strain, $h_c$')\n",
    "plt.title('Sensitivity Curves for Deterministic Signals')\n",
    "plt.show()"
   ]
  },
  {
   "attachments": {},
   "cell_type": "markdown",
   "metadata": {},
   "source": [
    "## 2.3) Multiple Red Noise Values\n",
    "Can give each pulsar it's own red noise power spectrum"
   ]
  },
  {
   "cell_type": "code",
   "execution_count": null,
   "metadata": {},
   "outputs": [],
   "source": [
    "A_rn = np.random.uniform(1e-16,1e-12,size=phi.shape[0])\n",
    "alphas = np.random.uniform(-3/4,1,size=phi.shape[0])\n",
    "\n",
    "psrs_vr = hsim.sim_pta(timespan=timespan, cad=23, sigma=1e-7,\n",
    "                       phi=phi, theta=theta, \n",
    "                       A_rn=A_rn, alpha=alphas, freqs=freqs)\n",
    "spectra_vr = []\n",
    "for psr in psrs_vr:\n",
    "    sp = hsen.Spectrum(psr, freqs=freqs)\n",
    "    sp.NcalInv\n",
    "    spectra_vr.append(sp)\n",
    "\n",
    "sc_vr_bg = hsen.GWBSensitivityCurve(spectra_vr)\n",
    "sc_vr_ss = hsen.DeterSensitivityCurve(spectra_vr)"
   ]
  },
  {
   "cell_type": "code",
   "execution_count": null,
   "metadata": {},
   "outputs": [],
   "source": [
    "psrs3 = hsim.sim_pta(timespan=timespan,cad=23,sigma=1e-7,\n",
    "                     phi=phi,theta=theta,\n",
    "                     A_rn=A_rn,alpha=alphas,freqs=freqs)\n",
    "\n",
    "spectra3 = []\n",
    "for p in psrs3:\n",
    "    sp = hsen.Spectrum(p, freqs=freqs)\n",
    "    sp.NcalInv\n",
    "    spectra3.append(sp)\n",
    "\n",
    "sc3a=hsen.GWBSensitivityCurve(spectra3)\n",
    "sc3b=hsen.DeterSensitivityCurve(spectra3)\n"
   ]
  },
  {
   "cell_type": "code",
   "execution_count": null,
   "metadata": {},
   "outputs": [],
   "source": [
    "xx = freqs*YR\n",
    "fig, ax = plot.figax(\n",
    "    xlabel=plot.LABEL_GW_FREQUENCY_YR,\n",
    "    ylabel='Energy Density, $\\Omega_{gw}$'\n",
    ")\n",
    "ax.loglog(xx, sc_wo_bg.Omega_gw, color='tab:blue',\n",
    "          label='GWB, w/o RN')\n",
    "ax.loglog(xx, sc_wo_ss.Omega_gw, color='tab:blue', ls=':',\n",
    "          label='SS, w/o RN')\n",
    "ax.loglog(xx, sc_rn_bg.Omega_gw, color='tab:pink',\n",
    "          label='GWB, w/ RN')\n",
    "ax.loglog(xx, sc_rn_ss.Omega_gw, color='tab:pink', ls=':', \n",
    "          label='SS, w/ RN')\n",
    "ax.loglog(xx, sc_vr_bg.Omega_gw, color='tab:green',\n",
    "          label='GWB, varying RN')\n",
    "ax.loglog(xx, sc_vr_ss.Omega_gw, color='tab:green', ls=':', \n",
    "          label='SS, varying RN')\n",
    "ax.legend()"
   ]
  },
  {
   "cell_type": "code",
   "execution_count": null,
   "metadata": {},
   "outputs": [],
   "source": [
    "plt.loglog(sc1a.freqs,sc1a.h_c)\n",
    "plt.loglog(sc2a.freqs,sc2a.h_c,'--')\n",
    "plt.loglog(sc3a.freqs,sc3a.h_c,':')\n",
    "plt.xlabel('Frequency [Hz]')\n",
    "plt.ylabel('Characteristic Strain, $h_c$')\n",
    "plt.show()"
   ]
  },
  {
   "attachments": {},
   "cell_type": "markdown",
   "metadata": {},
   "source": [
    "## 2.4) Power Law-Integrated Sensitivity Curve\n",
    "Calculate amplitude of a GWB needed to obtain a particular SNR w/ the default spectral index"
   ]
  },
  {
   "cell_type": "code",
   "execution_count": null,
   "metadata": {},
   "outputs": [],
   "source": [
    "yr_sec = 365.25*24*3600\n",
    "fyr = 1/yr_sec"
   ]
  },
  {
   "cell_type": "code",
   "execution_count": null,
   "metadata": {},
   "outputs": [],
   "source": [
    "# Here is how PI_hc calculates the power-law integrated strain\n",
    "# First it gets the amplitude, h \n",
    "N=30 # number of dif alphas to use\n",
    "alpha = np.linspace(-1.75, 1.25, N)\n",
    "h = hsen.Agwb_from_Seff_plaw(freqs=sc_wo_bg.freqs, Tspan=sc_wo_bg.Tspan,\n",
    "                             SNR=3, S_eff=sc_wo_bg.S_eff, alpha=alpha) # get's an amplitude \n",
    "plaw = np.dot((freqs[:,np.newaxis]/fyr)**alpha,h[:,np.newaxis]*np.eye(N))\n",
    "\n",
    "PI_sensitivity = np.amax(plaw, axis=1)\n",
    "print(h.shape, plaw.shape, PI_sensitivity.shape)"
   ]
  },
  {
   "cell_type": "code",
   "execution_count": null,
   "metadata": {},
   "outputs": [],
   "source": [
    "hgw = hsen.Agwb_from_Seff_plaw(sc1a.freqs, Tspan=sc1a.Tspan, SNR=3,\n",
    "                               S_eff=sc1a.S_eff)\n",
    "\n",
    "#We calculate the power law across the frequency range for plotting.\n",
    "fyr = 1/(365.25*24*3600)\n",
    "plaw_h = hgw*(sc1a.freqs/fyr)**(-2/3)"
   ]
  },
  {
   "cell_type": "code",
   "execution_count": null,
   "metadata": {},
   "outputs": [],
   "source": [
    "PI_sc, plaw = hsen.PI_hc(freqs=sc1a.freqs, Tspan=sc1a.Tspan,\n",
    "                         SNR=3, S_eff=sc1a.S_eff, N=30)"
   ]
  },
  {
   "cell_type": "code",
   "execution_count": null,
   "metadata": {},
   "outputs": [],
   "source": [
    "for ii in range(plaw.shape[1]):\n",
    "    plt.loglog(sc1a.freqs,plaw[:,ii],\n",
    "               color='gray',lw=0.5)\n",
    "plt.loglog(sc1a.freqs,plaw_h,color='C1',lw=2,\n",
    "           label=r'SNR=3, $\\alpha=-2/3$')\n",
    "plt.loglog(sc1a.freqs,sc1a.h_c, label='Stochastic Sensitivity')\n",
    "plt.loglog(sc1a.freqs,PI_sc, linestyle=':',color='k',lw=2,\n",
    "           label='PI Stochastic Sensitivity')\n",
    "plt.xlabel('Frequency [Hz]')\n",
    "plt.ylabel('Characteristic Strain, $h_c$')\n",
    "plt.axvline(fyr,linestyle=':')\n",
    "plt.title('Power Law Integrated Stochastic Senstivity Curve')\n",
    "plt.ylim(hgw*0.75,2e-11)\n",
    "plt.text(x=4e-8,y=3e-16,\n",
    "         s=r'$A_{\\rm GWB}$='+'{0:1.2e}'.format(hgw),\n",
    "         bbox=dict(facecolor='white', alpha=0.9))\n",
    "plt.legend(loc='upper left')\n",
    "plt.show()"
   ]
  },
  {
   "attachments": {},
   "cell_type": "markdown",
   "metadata": {},
   "source": [
    "## 2.5) Pairwise Sensitivity Curves"
   ]
  },
  {
   "cell_type": "code",
   "execution_count": null,
   "metadata": {},
   "outputs": [],
   "source": [
    "plt.loglog(sc1a.freqs,sc1a.S_effIJ[79],label='w/o GWB')\n",
    "plt.loglog(sc2a.freqs,sc2a.S_effIJ[79],'--',label='w/ GWB')\n",
    "plt.xlabel('Frequency [Hz]')\n",
    "plt.ylabel(r'Pairwise Noise PSD, $S_{\\rm IJ}$')\n",
    "p1,p2 = sc1a.pairs[:,79]\n",
    "plt.title(r'Pairwise Senstivity for Pulsar {0} and {1}'.format(p1,p2))\n",
    "plt.legend()\n",
    "plt.show()"
   ]
  },
  {
   "attachments": {},
   "cell_type": "markdown",
   "metadata": {},
   "source": [
    "# 3)) SkySensitivity Tutorial"
   ]
  },
  {
   "cell_type": "code",
   "execution_count": null,
   "metadata": {},
   "outputs": [],
   "source": [
    "import healpy as hp\n",
    "import astropy.units as u\n",
    "import astropy.constants as c\n",
    "import hasasia.skymap as hsky"
   ]
  },
  {
   "attachments": {},
   "cell_type": "markdown",
   "metadata": {},
   "source": [
    "## 3.1) Make PTA"
   ]
  },
  {
   "cell_type": "code",
   "execution_count": null,
   "metadata": {},
   "outputs": [],
   "source": [
    "#Make a set of random sky positions\n",
    "phi = np.random.uniform(0, 2*np.pi,size=33)\n",
    "cos_theta = np.random.uniform(-1,1,size=33)\n",
    "theta = np.arccos(cos_theta)\n",
    "\n",
    "#Adding one well-placed sky position for plots.\n",
    "phi = np.append(np.array(np.deg2rad(60)),phi)\n",
    "theta = np.append(np.array(np.deg2rad(50)),theta)\n",
    "\n",
    "#Define the timsespans and TOA errors for the pulsars\n",
    "timespans = np.random.uniform(3.0,11.4,size=34)\n",
    "Tspan = timespans.max()*365.25*24*3600\n",
    "sigma = 1e-7 # 100 ns\n",
    "print(Tspan/YR)"
   ]
  },
  {
   "cell_type": "code",
   "execution_count": null,
   "metadata": {},
   "outputs": [],
   "source": [
    "#Simulate a set of identical pulsars, with different sky positions.\n",
    "psrs = hsim.sim_pta(timespan=11.4, cad=23, sigma=sigma,\n",
    "                    phi=phi, theta=theta)"
   ]
  },
  {
   "cell_type": "code",
   "execution_count": null,
   "metadata": {},
   "outputs": [],
   "source": [
    "freqs = np.logspace(np.log10(1/(5*Tspan)),np.log10(2e-7),500)\n",
    "spectra = []\n",
    "for p in psrs:\n",
    "    sp = hsen.Spectrum(p, freqs=freqs)\n",
    "    sp.NcalInv\n",
    "    spectra.append(sp)"
   ]
  },
  {
   "attachments": {},
   "cell_type": "markdown",
   "metadata": {},
   "source": [
    "## 3.2) SkySensitivity Object"
   ]
  },
  {
   "cell_type": "code",
   "execution_count": null,
   "metadata": {},
   "outputs": [],
   "source": [
    "#Use the healpy functions to get the sky coordinates\n",
    "NSIDE = 32\n",
    "NPIX = hp.nside2npix(NSIDE)\n",
    "IPIX = np.arange(NPIX)\n",
    "theta_gw, phi_gw = hp.pix2ang(nside=NSIDE,ipix=IPIX)"
   ]
  },
  {
   "cell_type": "code",
   "execution_count": null,
   "metadata": {},
   "outputs": [],
   "source": [
    "SM=hsky.SkySensitivity(spectra,theta_gw, phi_gw)"
   ]
  },
  {
   "cell_type": "code",
   "execution_count": null,
   "metadata": {},
   "outputs": [],
   "source": [
    "hp.mollview(SM.eplus[1,1,:], title='$e_{11}^+$',)\n",
    "hp.mollview(SM.ecross[1,1,:], title='$e_{11}^x$',)"
   ]
  },
  {
   "attachments": {},
   "cell_type": "markdown",
   "metadata": {},
   "source": [
    "response function of individual pulsars"
   ]
  },
  {
   "cell_type": "code",
   "execution_count": null,
   "metadata": {},
   "outputs": [],
   "source": [
    "idx = 0\n",
    "hp.mollview(SM.Fplus[idx], fig=1,\n",
    "            title=\"Single Pulsar Response $R^+$\",min=-1,max=1)\n",
    "hp.visufunc.projscatter(SM.thetas[idx],SM.phis[idx],\n",
    "                        marker='*',color='white',\n",
    "                        edgecolors='k',s=200)\n",
    "hp.mollview(SM.Fcross[idx], fig=2,\n",
    "            title=r\"Single Pulsar Response $R^\\times$\",min=-1,max=1)\n",
    "hp.visufunc.projscatter(SM.thetas[idx],SM.phis[idx],\n",
    "                        marker='*',color='white',\n",
    "                        edgecolors='k',s=200)\n",
    "\n",
    "plt.show()\n"
   ]
  },
  {
   "attachments": {},
   "cell_type": "markdown",
   "metadata": {},
   "source": [
    "full residual response"
   ]
  },
  {
   "cell_type": "code",
   "execution_count": null,
   "metadata": {},
   "outputs": [],
   "source": [
    "idx =0\n",
    "hp.mollview(SM.sky_response[idx], title=\"Single Pulsar Response\")\n",
    "hp.visufunc.projscatter(SM.thetas[idx], SM.phis[idx],\n",
    "                        marker='*',color='white',\n",
    "                        edgecolors='k',s=200)\n",
    "plt.show()"
   ]
  },
  {
   "cell_type": "code",
   "execution_count": null,
   "metadata": {},
   "outputs": [],
   "source": [
    "sky_loc = 'PTA Sensitivity at '\n",
    "sky_loc += '{0:2.1f}$^\\circ$N, {1:2.1f}$^\\circ$E'.format(np.rad2deg(theta_gw[252]),\n",
    "                                               np.rad2deg(phi_gw[252]))\n",
    "plt.loglog(SM.freqs,spectra[0].S_I, label='Individual PSR Sensitivity')\n",
    "plt.loglog(SM.freqs,SM.S_effSky[:,252],\n",
    "           label=sky_loc)\n",
    "plt.legend(loc='upper left')\n",
    "plt.show()"
   ]
  },
  {
   "attachments": {},
   "cell_type": "markdown",
   "metadata": {},
   "source": [
    "Sensitivity across sky"
   ]
  },
  {
   "cell_type": "code",
   "execution_count": null,
   "metadata": {},
   "outputs": [],
   "source": [
    "idx = 73\n",
    "hp.mollview(SM.S_effSky[idx],\n",
    "            title=\"Sky Sensitivity at {0:2.2e} Hz\".format(SM.freqs[idx]),\n",
    "            cmap='Reds_r')\n",
    "hp.visufunc.projscatter(SM.thetas,SM.phis,\n",
    "                        marker='*',color='white',\n",
    "                        edgecolors='k',s=200)\n",
    "plt.show()"
   ]
  },
  {
   "attachments": {},
   "cell_type": "markdown",
   "metadata": {},
   "source": [
    "## 3.3) Signal SNR across the Sky\n",
    "SNR for a given signal at every sky position"
   ]
  },
  {
   "cell_type": "code",
   "execution_count": null,
   "metadata": {},
   "outputs": [],
   "source": [
    "# for circular binaries\n",
    "hCirc = hsky.h_circ(1e9,200,5e-9,Tspan,SM.freqs).to('')"
   ]
  },
  {
   "cell_type": "code",
   "execution_count": null,
   "metadata": {},
   "outputs": [],
   "source": [
    "# plot signal in frequency domain for a finite integration time\n",
    "plt.semilogx(SM.freqs, hCirc)\n",
    "plt.xlabel('Frequency [Hz]')\n",
    "plt.ylabel(r'$\\tilde{h}$')\n",
    "plt.show()"
   ]
  },
  {
   "cell_type": "code",
   "execution_count": null,
   "metadata": {},
   "outputs": [],
   "source": [
    "SNR = SM.SNR(hCirc.value[167])"
   ]
  },
  {
   "cell_type": "code",
   "execution_count": null,
   "metadata": {},
   "outputs": [],
   "source": [
    "idx = 167\n",
    "hp.mollview(SNR[idx],\n",
    "            title=\"SNR with Single SMBHB Source\",\n",
    "            cmap='viridis')\n",
    "hp.visufunc.projscatter(SM.thetas,SM.phis,marker='*',\n",
    "                        color='white',edgecolors='k',s=200)\n",
    "plt.show()"
   ]
  },
  {
   "cell_type": "code",
   "execution_count": null,
   "metadata": {},
   "outputs": [],
   "source": [
    "h_divA = (hsky.h_circ(1e9,200,5e-9,Tspan,SM.freqs)\n",
    "          /hsky.h0_circ(1e9,200,5e-9)).value"
   ]
  },
  {
   "cell_type": "code",
   "execution_count": null,
   "metadata": {},
   "outputs": [],
   "source": [
    "Amp = SM.A_gwb(h_divA)\n"
   ]
  },
  {
   "cell_type": "code",
   "execution_count": null,
   "metadata": {},
   "outputs": [],
   "source": [
    "hp.mollview(Amp,\n",
    "            title=\"Amplitude Needed for an SNR=1 detection.\",\n",
    "            cmap='viridis')\n",
    "hp.visufunc.projscatter(SM.thetas,SM.phis,marker='*',\n",
    "                        color='white',edgecolors='k',s=200)\n",
    "plt.show()"
   ]
  },
  {
   "attachments": {},
   "cell_type": "markdown",
   "metadata": {},
   "source": [
    "## 3.4) Check dicts"
   ]
  },
  {
   "cell_type": "code",
   "execution_count": null,
   "metadata": {},
   "outputs": [],
   "source": [
    "print(type(psrs[0]),'has', psrs[0].__dict__.keys())\n",
    "print(type(spectra[0]), 'has', spectra[0].__dict__.keys())\n",
    "print(type(sc_wo_bg), 'has', sc_wo_bg.__dict__.keys())\n",
    "print(type(sc_wo_ss), 'has', sc_wo_ss.__dict__.keys())\n",
    "print(type(psrs))\n",
    "# <class 'hasasia.sensitivity.Pulsar'> has dict_keys(['toas', 'toaerrs', 'phi', 'theta', 'pdist', 'N', 'designmatrix'])\n",
    "# <class 'hasasia.sensitivity.Spectrum'> has dict_keys(['_H_0', 'toas', 'toaerrs', 'phi', 'theta', 'N', 'designmatrix', 'pdist', 'tm_fit', 'Tf_kwargs', 'freqs', '_psd_prefit', '_NcalInv', '_S_I'])\n",
    "# <class 'hasasia.sensitivity.GWBSensitivityCurve'> has dict_keys(['_H_0', 'Npsrs', 'phis', 'thetas', 'Tspan', 'freqs', 'SnI', 'ThetaIJ', 'chiIJ', 'pairs', 'chiRSS', 'T_IJ', '_S_eff', '_h_c', '_Omega_gw'])\n",
    "# <class 'hasasia.sensitivity.DeterSensitivityCurve'> has dict_keys(['_H_0', 'Npsrs', 'phis', 'thetas', 'Tspan', 'freqs', 'SnI', 'T_I', 'pulsar_term', 'include_corr', '_S_eff', '_h_c', '_Omega_gw'])"
   ]
  },
  {
   "attachments": {},
   "cell_type": "markdown",
   "metadata": {},
   "source": [
    "# 4)) Real Pulsar Timing Array Data Tutorial"
   ]
  },
  {
   "cell_type": "code",
   "execution_count": null,
   "metadata": {},
   "outputs": [],
   "source": [
    "import scipy.linalg as sl\n",
    "import glob, pickle, json\n",
    "from enterprise.pulsar import Pulsar as ePulsar"
   ]
  },
  {
   "attachments": {},
   "cell_type": "markdown",
   "metadata": {},
   "source": [
    "Pulsar from real data"
   ]
  },
  {
   "cell_type": "code",
   "execution_count": null,
   "metadata": {},
   "outputs": [],
   "source": []
  }
 ],
 "metadata": {
  "kernelspec": {
   "display_name": "holo310",
   "language": "python",
   "name": "python3"
  },
  "language_info": {
   "codemirror_mode": {
    "name": "ipython",
    "version": 3
   },
   "file_extension": ".py",
   "mimetype": "text/x-python",
   "name": "python",
   "nbconvert_exporter": "python",
   "pygments_lexer": "ipython3",
   "version": "3.10.9"
  }
 },
 "nbformat": 4,
 "nbformat_minor": 2
}
