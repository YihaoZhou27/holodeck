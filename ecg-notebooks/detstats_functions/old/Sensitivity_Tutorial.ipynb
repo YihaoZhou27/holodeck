{
 "cells": [
  {
   "cell_type": "code",
   "execution_count": null,
   "metadata": {},
   "outputs": [],
   "source": [
    "import numpy as np\n",
    "import matplotlib.pyplot as plt\n",
    "%matplotlib inline\n",
    "import hasasia.sensitivity as hsen\n",
    "import hasasia.sim as hsim"
   ]
  },
  {
   "cell_type": "code",
   "execution_count": null,
   "metadata": {},
   "outputs": [],
   "source": [
    "phi = np.random.uniform(0, 2*np.pi,size=34)\n",
    "cos_theta = np.random.uniform(-1,1,size=34)\n",
    "#This ensures a uniform distribution across the sky.\n",
    "theta = np.arccos(cos_theta)\n"
   ]
  },
  {
   "cell_type": "code",
   "execution_count": null,
   "metadata": {},
   "outputs": [],
   "source": [
    "timespan=[11.4 for ii in range(10)]\n",
    "timespan.extend([3.0 for ii in range(24)])"
   ]
  },
  {
   "cell_type": "code",
   "execution_count": null,
   "metadata": {},
   "outputs": [],
   "source": [
    "psrs = hsim.sim_pta(timespan=timespan, cad=23, sigma=1e-7,\n",
    "                    phi=phi,theta=theta)"
   ]
  },
  {
   "cell_type": "code",
   "execution_count": null,
   "metadata": {},
   "outputs": [],
   "source": [
    "freqs = np.logspace(np.log10(5e-10),np.log10(5e-7),500)\n"
   ]
  },
  {
   "cell_type": "code",
   "execution_count": null,
   "metadata": {},
   "outputs": [],
   "source": [
    "psrs2 = hsim.sim_pta(timespan=timespan,cad=23,sigma=1e-7,\n",
    "                     phi=phi,theta=theta,\n",
    "                     A_rn=6e-16,alpha=-2/3.,freqs=freqs)"
   ]
  },
  {
   "cell_type": "code",
   "execution_count": null,
   "metadata": {},
   "outputs": [],
   "source": [
    "spectra = []\n",
    "for p in psrs:\n",
    "    sp = hsen.Spectrum(p, freqs=freqs)\n",
    "    sp.NcalInv\n",
    "    spectra.append(sp)"
   ]
  },
  {
   "cell_type": "code",
   "execution_count": null,
   "metadata": {},
   "outputs": [],
   "source": [
    "spectra2 = []\n",
    "for p in psrs2:\n",
    "    sp = hsen.Spectrum(p, freqs=freqs)\n",
    "    sp.NcalInv\n",
    "    spectra2.append(sp)\n"
   ]
  },
  {
   "cell_type": "code",
   "execution_count": null,
   "metadata": {},
   "outputs": [],
   "source": [
    "plt.loglog(spectra[0].freqs,spectra[0].NcalInv,\n",
    "           label='w/o GWB, T={0} yrs'.format(timespan[0]))\n",
    "plt.loglog(spectra2[20].freqs,spectra2[20].NcalInv,'--',\n",
    "           label='w/ GWB, T={0} yrs'.format(timespan[20]))\n",
    "plt.xlabel('Frequency [Hz]')\n",
    "plt.ylabel(r'$\\mathcal{N}^{-1}_{\\rm I}$')\n",
    "plt.legend()\n",
    "plt.show()"
   ]
  },
  {
   "cell_type": "code",
   "execution_count": null,
   "metadata": {},
   "outputs": [],
   "source": [
    "plt.loglog(spectra[0].freqs,spectra[0].S_I,label='w/o GWB')\n",
    "plt.loglog(spectra2[0].freqs,spectra2[0].S_I,'--',label='w/ GWB')\n",
    "plt.xlabel('Frequency [Hz]')\n",
    "plt.ylabel(r'$S_{\\rm I}$')\n",
    "plt.legend()\n",
    "plt.show()"
   ]
  },
  {
   "attachments": {},
   "cell_type": "markdown",
   "metadata": {},
   "source": [
    "# Sensitivity Curves"
   ]
  },
  {
   "cell_type": "code",
   "execution_count": null,
   "metadata": {},
   "outputs": [],
   "source": [
    "sc1a = hsen.GWBSensitivityCurve(spectra)\n",
    "sc1b = hsen.DeterSensitivityCurve(spectra)\n",
    "sc2a = hsen.GWBSensitivityCurve(spectra2)\n",
    "sc2b = hsen.DeterSensitivityCurve(spectra2)"
   ]
  },
  {
   "cell_type": "code",
   "execution_count": null,
   "metadata": {},
   "outputs": [],
   "source": [
    "plt.loglog(sc1a.freqs,sc1a.S_eff,label='w/o GWB')\n",
    "plt.loglog(sc2a.freqs,sc2a.S_eff,'--',label='w/ GWB')\n",
    "plt.xlabel('Frequency [Hz]')\n",
    "plt.ylabel(r'Effective Strain Noise PSD, $S_{\\rm eff}$')\n",
    "plt.legend()\n",
    "plt.show()"
   ]
  },
  {
   "cell_type": "code",
   "execution_count": null,
   "metadata": {},
   "outputs": [],
   "source": []
  }
 ],
 "metadata": {
  "kernelspec": {
   "display_name": "holo310",
   "language": "python",
   "name": "python3"
  },
  "language_info": {
   "codemirror_mode": {
    "name": "ipython",
    "version": 3
   },
   "file_extension": ".py",
   "mimetype": "text/x-python",
   "name": "python",
   "nbconvert_exporter": "python",
   "pygments_lexer": "ipython3",
   "version": "3.10.9"
  }
 },
 "nbformat": 4,
 "nbformat_minor": 2
}
