{
 "cells": [
  {
   "cell_type": "code",
   "execution_count": null,
   "metadata": {},
   "outputs": [],
   "source": [
    "import numpy as np\n",
    "import numpy as np\n",
    "import matplotlib.pyplot as plt\n",
    "import matplotlib.cm as cm\n",
    "import scipy as sp\n",
    "import sympy\n",
    "\n",
    "\n",
    "import holodeck as holo\n",
    "import holodeck.single_sources as ss\n",
    "from holodeck.constants import YR, MSOL\n",
    "from holodeck import utils, plot, detstats\n",
    "\n",
    "import hasasia.sensitivity as hsen\n",
    "import hasasia.sim as hsim\n",
    "import hasasia.skymap as hsky\n",
    "import hasasia as has"
   ]
  },
  {
   "attachments": {},
   "cell_type": "markdown",
   "metadata": {},
   "source": [
    "# 1 Setup\n",
    "## 1.1 Strain Model"
   ]
  },
  {
   "cell_type": "markdown",
   "metadata": {},
   "source": [
    "Build SAM and calculate strains"
   ]
  },
  {
   "cell_type": "markdown",
   "metadata": {},
   "source": [
    "Make the semi-analytic model object."
   ]
  },
  {
   "cell_type": "code",
   "execution_count": null,
   "metadata": {},
   "outputs": [],
   "source": [
    "dur = 10.0*YR\n",
    "cad = 0.2*YR\n",
    "fobs = utils.nyquist_freqs(dur,cad)\n",
    "fobs_edges = utils.nyquist_freqs_edges(dur,cad)\n",
    "sam = holo.sam.Semi_Analytic_Model() \n",
    "# sam = holo.sam.Semi_Analytic_Model(mtot=(1.0e4*MSOL, 1.0e11*MSOL, 20), mrat=(1e-3, 1.0, 20), redz=(1e-3, 10.0, 20))  # faster version\n",
    "hard = holo.hardening.Hard_GW"
   ]
  },
  {
   "attachments": {},
   "cell_type": "markdown",
   "metadata": {},
   "source": [
    "Calculate strains. Single loudest only"
   ]
  },
  {
   "cell_type": "code",
   "execution_count": null,
   "metadata": {},
   "outputs": [],
   "source": [
    "fobs_orb_edges = fobs_edges / 2.0 \n",
    "fobs_orb_cents = fobs/ 2.0\n",
    "# edges\n",
    "edges, dnum = sam.dynamic_binary_number(hard, fobs_orb=fobs_orb_cents) # should the zero stalled option be part of the parameter space?\n",
    "edges[-1] = fobs_orb_edges\n",
    "dfobs = np.diff(edges[-1])\n",
    "\n",
    "# integrate for number\n",
    "number = utils._integrate_grid_differential_number(edges, dnum, freq=False)\n",
    "number = number * np.diff(np.log(fobs_edges)) \n",
    "hc_ss, hc_bg = ss.ss_gws(edges, number, realize=30, \n",
    "                                        loudest = 1, params = False)  # just single loudest\n",
    "print(hc_ss.shape)"
   ]
  },
  {
   "attachments": {},
   "cell_type": "markdown",
   "metadata": {},
   "source": [
    "## 1.2 Place Binaries Randomly"
   ]
  },
  {
   "cell_type": "code",
   "execution_count": null,
   "metadata": {},
   "outputs": [],
   "source": [
    "S = 20 # Sky Realizations\n",
    "F = len(hc_ss) # Frequencies\n",
    "R = len(hc_ss[0]) # Strain Realizations\n",
    "L = len(hc_ss[0,0]) # Loudest\n",
    "\n",
    "# shape (S,F,L)\n",
    "# theta_ss = np.random.uniform(0, np.pi, size = S*F*L).reshape(S,F,L)\n",
    "# phi_ss = np.random.uniform(0, 2*np.pi, size = S*F*L).reshape(S,F,L)\n",
    "# iota_ss = np.random.uniform(0, np.pi, size = S*F*L).reshape(S,F,L)\n",
    "psi_ss = np.ones_like(theta_ss)*(np.pi/2)\n",
    "# psi_ss = np.random.uniform(0, np.pi, size = S*F*L).reshape(S,F,L) \n",
    "psi_label = 'psi = pi/2, rest unchanged from prev run'\n",
    "# Phi0_ss = np.random.uniform(0, 2*np.pi, size = S*F*L).reshape(S,F,L)\n",
    "\n",
    "print(theta_ss.shape)\n",
    "plt.scatter(theta_ss/np.pi, phi_ss/np.pi, c=psi_ss/np.pi, cmap='viridis', alpha=0.8)\n",
    "plt.xlabel(r'$\\theta/\\phi$')\n",
    "plt.ylabel('$\\phi/\\pi$')\n",
    "plt.colorbar(label=r'$\\psi/\\pi$ ')"
   ]
  },
  {
   "attachments": {},
   "cell_type": "markdown",
   "metadata": {},
   "source": [
    "## 1.3 Pulsar Setup"
   ]
  },
  {
   "attachments": {},
   "cell_type": "markdown",
   "metadata": {},
   "source": [
    "place 40 random pulsars"
   ]
  },
  {
   "cell_type": "code",
   "execution_count": null,
   "metadata": {},
   "outputs": [],
   "source": [
    "npsrs = 40\n",
    "phis = np.random.uniform(0, 2*np.pi, size = npsrs)\n",
    "thetas = np.random.uniform(np.pi/2, np.pi/2, size = npsrs)\n",
    "sigmas = np.ones_like(phis)*1e-7\n",
    "\n",
    "# build sim_pta\n",
    "pulsars = hsim.sim_pta(timespan=dur/YR, cad=1/(cad/YR), sigma=sigmas,\n",
    "                    phi=phis, theta=thetas)\n",
    "# get spectrum for each\n",
    "spectra = np.empty_like(pulsars, dtype=hsen.Spectrum)\n",
    "for ii in range(npsrs):\n",
    "    spectra[ii] = hsen.Spectrum(pulsars[ii], freqs=fobs)\n",
    "    spectra[ii].NcalInv # calculate inverse noise weighted transmission function\n",
    "# get sensitivity curve\n",
    "scDeter = hsen.DeterSensitivityCurve(list(spectra))\n",
    "skymap = np.empty(S, dtype=hsky.SkySensitivity) # one for each sky realization\n",
    "for ss in range(S):\n",
    "    skymap[ss] = hsky.SkySensitivity(list(spectra), theta_gw=theta_ss[ss,:,0], \n",
    "                                phi_gw=phi_ss[ss,:,0],\n",
    "                                iota=iota_ss[ss,:,0], psi=psi_ss[ss,:,0]) #using 0th loudest"
   ]
  },
  {
   "attachments": {},
   "cell_type": "markdown",
   "metadata": {},
   "source": [
    "# 2 Calculate SNRs and DPs"
   ]
  },
  {
   "cell_type": "code",
   "execution_count": null,
   "metadata": {},
   "outputs": [],
   "source": [
    "dp_ros = np.zeros((S, R))\n",
    "snr_ros = np.zeros((S, F, R, L))\n",
    "dp_sky = np.zeros((S, R))\n",
    "snr_sky = np.zeros((S, F, R, L))\n",
    "for ss in range(S):\n",
    "    theta_cur=theta_ss[ss,:,0][:,np.newaxis,np.newaxis] #(F,R,L), R=1\n",
    "    phi_cur=phi_ss[ss,:,0][:,np.newaxis,np.newaxis] #(F,R,L), R=1\n",
    "    iota_cur=iota_ss[ss,:,0][:,np.newaxis,np.newaxis] #(F,R,L), R=1\n",
    "    Phi0_cur=Phi0_ss[ss,:,0][:,np.newaxis,np.newaxis] #(F,R,L), R=1\n",
    "    # print(Phi0_cur.shape)\n",
    "    for rr in range(R):\n",
    "        hc_ss_rr = hc_ss[:,rr,:][:,np.newaxis,:] #(F,R,L), R=1\n",
    "        hc_bg_rr = hc_bg[:,rr][:,np.newaxis] #(F,R), R=1\n",
    "        # print(hc_ss_rr.shape) \n",
    "        dp_ros[ss,rr], temp1, = detstats.detect_ss(thetas, phis, sigmas, cad, dur, fobs, dfobs, \n",
    "                                                               hc_ss_rr, hc_bg_rr,\n",
    "                                                               ret_SNR = True, theta_ss=theta_cur, phi_ss=phi_cur, \n",
    "                                                               iota_ss=iota_cur, psi_ss=None, Phi0_ss=Phi0_cur)\n",
    "        snr_ros[ss,:,rr,:] = temp1[:,0,:]\n",
    "        # print('test1')\n",
    "        dp_sky[ss,rr], temp2 = detstats.detect_ss_skymap(skymap[ss], fobs, dfobs, \n",
    "                                                                      hc_ss_rr, iota_cur, psi_ss=None,\n",
    "                                                                    ret_SNR = True, debug=False)\n",
    "        snr_sky[ss,:,rr,:] = temp2[:,0,:]"
   ]
  },
  {
   "attachments": {},
   "cell_type": "markdown",
   "metadata": {},
   "source": [
    "### Varying sky for single strain realization plot"
   ]
  },
  {
   "cell_type": "code",
   "execution_count": null,
   "metadata": {},
   "outputs": [],
   "source": [
    "def plot_strain_real(DP1, SNR1, DP2, SNR2, label1='Rosado', label2='skymap(iota)', figlabel='Single Strain Realization'):\n",
    "    \"\"\"\n",
    "    Parameters\n",
    "    ----------\n",
    "    DP1 : (S,) 1Darray\n",
    "        Detection probability for each sky realization of a given strain realization\n",
    "        by method 1 (default Rosado)\n",
    "    SNR1 : (S, F, L) NDarray \n",
    "        SNR of each loudest source for each sky realization of a given strain realiztaion\n",
    "        by method 1 (default Rosado)\n",
    "    DP2 : (S,) 1Darray\n",
    "        Detection probability for each sky realization of a given strain realization\n",
    "        by method 2 (default skymap.SNR)\n",
    "    SNR2 : (S, F, L) NDarray \n",
    "        SNR of each loudest source for each sky realization of a given strain realiztaion\n",
    "        by method 2 (default skymap.SNR)\n",
    "    label 1 : string\n",
    "        label for method 1, default Rosado,\n",
    "    label 2 : string\n",
    "        label for method 2, default skymap(iota)\n",
    "\n",
    "    Returns\n",
    "    ------\n",
    "    fig \n",
    "    \n",
    "    \"\"\"\n",
    "    fig, axs = plt.subplots(1,2, figsize=(10,4))\n",
    "    nreals = np.min([15, len(DP1)])  # number of sky realizations to plot\n",
    "    colors = cm.rainbow(np.linspace(0,1,nreals))\n",
    "    ss = 0\n",
    "    axs[0].plot(fobs, SNR1[ss,:,0], color=colors[ss], linestyle='-', alpha=0.5, linewidth=2, label=label1) \n",
    "    axs[0].plot(fobs, SNR2[ss,:,0], color=colors[ss], linestyle='--', alpha=0.5, label=label2)\n",
    "    axs[1].scatter(ss, DP1[ss], color = colors[ss], marker='o', label=label1)\n",
    "    axs[1].scatter(ss, DP2[ss], color = colors[ss], marker='x', label=label2)\n",
    "    \n",
    "    for ss in range(1, nreals):\n",
    "        # 0th loudest\n",
    "        axs[0].plot(fobs, SNR1[ss,:,0], linestyle='-', alpha=0.5, color=colors[ss], linewidth=2) \n",
    "        axs[0].plot(fobs, SNR2[ss,:,0], linestyle='--', alpha=0.5, color = colors[ss])\n",
    "\n",
    "        axs[1].scatter(ss, DP1[ss], color = colors[ss],marker='o')\n",
    "        axs[1].scatter(ss, DP2[ss], color = colors[ss], marker='x')\n",
    "\n",
    "    axs[0].set_xlabel('fobs (Hz)')\n",
    "    axs[0].set_ylabel('SNR')\n",
    "    axs[0].legend()\n",
    "\n",
    "    axs[1].set_ylabel('single source DP')\n",
    "    axs[1].set_xlabel('Sky Realization (S)')\n",
    "    axs[1].set_yscale('log')\n",
    "    axs[1].legend(loc='upper right')\n",
    "\n",
    "    fig.suptitle(figlabel)\n",
    "    fig.tight_layout()\n",
    "    return fig"
   ]
  },
  {
   "cell_type": "code",
   "execution_count": null,
   "metadata": {},
   "outputs": [],
   "source": [
    "for rr in range(0,10):\n",
    "    fig = plot_strain_real(dp_ros[:,rr], snr_ros[:,:,rr,:], dp_sky[:,rr], snr_sky[:,:,rr,:],\n",
    "                        label1='Rosado', label2='hasasia.skymap', figlabel='%dth Strain Realization' %rr)"
   ]
  },
  {
   "cell_type": "code",
   "execution_count": null,
   "metadata": {},
   "outputs": [],
   "source": [
    "def plot_sky_real(DP1, SNR1, DP2, SNR2, label1='Rosado', label2='skymap(iota)', figlabel='Single Strain Realization'):\n",
    "    \"\"\"\n",
    "    Parameters\n",
    "    ----------\n",
    "    DP1 : (R,) 1Darray\n",
    "        Detection probability for each sky realization of a given strain realization\n",
    "        by method 1 (default Rosado)\n",
    "    SNR1 : (F, R, L) NDarray \n",
    "        SNR of each loudest source for each sky realization of a given strain realiztaion\n",
    "        by method 1 (default Rosado)\n",
    "    DP2 : (R,) 1Darray\n",
    "        Detection probability for each sky realization of a given strain realization\n",
    "        by method 2 (default skymap.SNR)\n",
    "    SNR2 : (F, R, L) NDarray \n",
    "        SNR of each loudest source for each sky realization of a given strain realiztaion\n",
    "        by method 2 (default skymap.SNR)\n",
    "    label 1 : string\n",
    "        label for method 1, default Rosado,\n",
    "    label 2 : string\n",
    "        label for method 2, default skymap(iota)\n",
    "\n",
    "    Returns\n",
    "    ------\n",
    "    fig \n",
    "    \n",
    "    \"\"\"\n",
    "    fig, axs = plt.subplots(1,2, figsize=(10,4))\n",
    "    nreals = np.min([15, len(DP1)])  # number of sky realizations to plot\n",
    "    colors = cm.rainbow(np.linspace(0,1,nreals))\n",
    "    rr = 0\n",
    "    axs[0].plot(fobs, SNR1[:,rr,0], color=colors[rr], linestyle='-', alpha=0.5, linewidth=2, label=label1) \n",
    "    axs[0].plot(fobs, SNR2[:,rr,0], color=colors[rr], linestyle='--', alpha=0.5, label=label2)\n",
    "    axs[1].scatter(rr, DP1[rr], color = colors[rr], marker='o', label=label1)\n",
    "    axs[1].scatter(rr, DP2[rr], color = colors[rr], marker='x', label=label2)\n",
    "    \n",
    "    for rr in range(1, nreals):\n",
    "        # 0th loudest\n",
    "        axs[0].plot(fobs, SNR1[:,rr,0], linestyle='-', alpha=0.5, color=colors[rr], linewidth=2) \n",
    "        axs[0].plot(fobs, SNR2[:,rr,0], linestyle='--', alpha=0.5, color = colors[rr])\n",
    "\n",
    "        axs[1].scatter(rr, DP1[rr], color = colors[rr],marker='o')\n",
    "        axs[1].scatter(rr, DP2[rr], color = colors[rr], marker='x')\n",
    "\n",
    "    axs[0].set_xlabel('fobs (Hz)')\n",
    "    axs[0].set_ylabel('SNR')\n",
    "    axs[0].legend()\n",
    "\n",
    "    axs[1].set_ylabel('single source DP')\n",
    "    axs[1].set_xlabel('Strain Realization (R)')\n",
    "    axs[1].set_yscale('log')\n",
    "    axs[1].legend(loc='upper right')\n",
    "\n",
    "    fig.suptitle(figlabel)\n",
    "    fig.tight_layout()\n",
    "    return fig"
   ]
  },
  {
   "attachments": {},
   "cell_type": "markdown",
   "metadata": {},
   "source": [
    "## Varying strain for single sky realization plot"
   ]
  },
  {
   "cell_type": "code",
   "execution_count": null,
   "metadata": {},
   "outputs": [],
   "source": [
    "for ss in range(0,10):\n",
    "    fig = plot_sky_real(dp_ros[ss,:], snr_ros[ss,:,:,:], dp_sky[ss,:], snr_sky[ss,:,:,:],\n",
    "                        label1='Rosado', label2='hasasia.skymap', figlabel='%dth Sky Realization' %ss)"
   ]
  },
  {
   "attachments": {},
   "cell_type": "markdown",
   "metadata": {},
   "source": [
    "## Standard Deviation Plot"
   ]
  },
  {
   "cell_type": "code",
   "execution_count": null,
   "metadata": {},
   "outputs": [],
   "source": [
    "def plot_reals_stdev(DP1, SNR1, DP2, SNR2, label1='Rosado', label2='skymap(iota)', figlabel=None):\n",
    "    \"\"\"\n",
    "    Parameters\n",
    "    ----------\n",
    "    DP1 : (S,R) NDarray\n",
    "        Detection probability for each sky realization of a given strain realization\n",
    "        by method 1 (default Rosado)\n",
    "    SNR1 : (S, F, R, L) NDarray \n",
    "        SNR of each loudest source for each sky realization of a given strain realiztaion\n",
    "        by method 1 (default Rosado)\n",
    "    DP2 : (S,R) NDarray\n",
    "        Detection probability for each sky realization of a given strain realization\n",
    "        by method 2 (default skymap.SNR)\n",
    "    SNR2 : (S, F, R, L) NDarray \n",
    "        SNR of each loudest source for each sky realization of a given strain realiztaion\n",
    "        by method 2 (default skymap.SNR)\n",
    "    label 1 : string\n",
    "        label for method 1, default Rosado,\n",
    "    label 2 : string\n",
    "        label for method 2, default skymap(iota)\n",
    "\n",
    "    Returns\n",
    "    ------\n",
    "    fig\n",
    "\n",
    "    \"\"\"\n",
    "    fig, axs = plt.subplots(2, 2, figsize=(10,8))\n",
    "    nreals = len(DP1[0])  # number of strain realizations to plot\n",
    "    color1 = 'tab:purple'\n",
    "    color2 = 'tab:green'\n",
    "    reals = np.arange(R)\n",
    "    axs[0,0].plot(reals, np.std(SNR1, axis=(0,1)), color1, marker='o', linestyle='-', linewidth=2, label=label1) \n",
    "    axs[0,0].plot(reals, np.std(SNR2, axis=(0,1)), color2, marker='x', linestyle='--', label=label2)\n",
    "    axs[0,1].plot(reals, np.std(DP1, axis=0), color = color1, marker='o', label=label1)\n",
    "    axs[0,1].plot(reals, np.std(DP2, axis=0), color = color2, marker='x', label=label2)\n",
    "    \n",
    "    # for rr in range(1, nreals):\n",
    "    #     axs[0,0].plot(reals, np.std(SNR1, axis=(0,1)), color=colors[rr], marker='o', linestyle='-', alpha=0.5, linewidth=2) \n",
    "    #     axs[0,0].plot(reals, np.std(SNR2, axis=(0,1)), color=colors[rr], marker='x', linestyle='--', alpha=0.5)\n",
    "    #     axs[0,1].plot(rr, np.std(DP1, axis=0), color = colors[rr], marker='o')\n",
    "    #     axs[0,1].plot(rr, np.std(DP2, axis=0), color = colors[rr], marker='x')\n",
    "    \n",
    "    axs[0,0].set_xlabel('Strain Realization (R)')\n",
    "    axs[0,0].set_ylabel('stdev(SNR) over sky reals, S')\n",
    "    axs[0,0].legend(loc='upper right')\n",
    "\n",
    "    axs[0,1].set_xlabel('Strain Realization (R)')\n",
    "    axs[0,1].set_ylabel('stdev(DP) over sky reals, S')\n",
    "    axs[0,1].legend(loc='upper right')\n",
    "\n",
    "    skies = np.arange(S)\n",
    "    axs[1,0].plot(skies, np.std(SNR1, axis=(1,2)), color=color1, marker='o', linestyle='-', linewidth=2, label=label1) \n",
    "    axs[1,0].plot(skies, np.std(SNR2, axis=(1,2)), color=color2, marker='x', linestyle='--', label=label2)\n",
    "    axs[1,1].plot(skies, np.std(DP1, axis=1), color = color1, marker='o', label=label1)\n",
    "    axs[1,1].plot(skies, np.std(DP2, axis=1), color = color2, marker='x', label=label2)\n",
    "    \n",
    "    # for rr in range(1, nreals):\n",
    "    #     axs[1,0].plot(rr, np.std(SNR1, axis=(1,2)), color=colors[rr], marker='o', linestyle='-', alpha=0.5, linewidth=2) \n",
    "    #     axs[1,0].plot(rr, np.std(SNR2, axis=(1,2)), color=colors[rr], marker='x', linestyle='--', alpha=0.5)\n",
    "    #     axs[1,1].plot(rr, np.std(DP1, axis=1), color = colors[rr], marker='o')\n",
    "    #     axs[1,1].plot(rr, np.std(DP2, axis=1), color = colors[rr], marker='x')\n",
    "    \n",
    "    axs[1,0].set_xlabel('Sky Realization (S)')\n",
    "    axs[1,0].set_ylabel('stdev(SNR) over strain reals, R')\n",
    "    axs[1,0].legend(loc='upper right')\n",
    "\n",
    "    axs[1,1].set_xlabel('Sky Realization (S)')\n",
    "    axs[1,1].set_ylabel('stdev(DP) over strain reals, R')\n",
    "    axs[1,1].legend(loc='upper right')\n",
    "\n",
    "    if figlabel is not None:\n",
    "        fig.suptitle(figlabel)\n",
    "    fig.tight_layout()\n",
    "    return fig\n",
    "    \n",
    "    "
   ]
  },
  {
   "cell_type": "code",
   "execution_count": null,
   "metadata": {},
   "outputs": [],
   "source": [
    "fig = plot_reals_stdev(dp_ros, snr_ros, dp_sky, snr_sky,\n",
    "                       label1='Rosado', label2='hasasia.skymap', figlabel=psi_label)"
   ]
  }
 ],
 "metadata": {
  "kernelspec": {
   "display_name": "holo310",
   "language": "python",
   "name": "python3"
  },
  "language_info": {
   "codemirror_mode": {
    "name": "ipython",
    "version": 3
   },
   "file_extension": ".py",
   "mimetype": "text/x-python",
   "name": "python",
   "nbconvert_exporter": "python",
   "pygments_lexer": "ipython3",
   "version": "3.10.10"
  }
 },
 "nbformat": 4,
 "nbformat_minor": 2
}
