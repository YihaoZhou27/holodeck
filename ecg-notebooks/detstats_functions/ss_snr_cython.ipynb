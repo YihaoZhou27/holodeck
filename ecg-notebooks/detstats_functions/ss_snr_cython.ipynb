{
 "cells": [
  {
   "cell_type": "code",
   "execution_count": null,
   "metadata": {},
   "outputs": [],
   "source": []
  },
  {
   "cell_type": "code",
   "execution_count": null,
   "metadata": {},
   "outputs": [],
   "source": [
    "import numpy as np\n",
    "import numpy as np\n",
    "import matplotlib.pyplot as plt\n",
    "\n",
    "\n",
    "import holodeck as holo\n",
    "from holodeck import detstats, utils, sam\n",
    "import holodeck.detstats as ds\n",
    "from holodeck.constants import YR, MSOL\n",
    "\n",
    "import hasasia.sensitivity as hsen\n",
    "import hasasia.sim as hsim \n",
    "import hasasia.skymap as hsky"
   ]
  },
  {
   "attachments": {},
   "cell_type": "markdown",
   "metadata": {},
   "source": [
    "# 1 Strain Model"
   ]
  },
  {
   "attachments": {},
   "cell_type": "markdown",
   "metadata": {},
   "source": [
    "Build SAM and calculate strains"
   ]
  },
  {
   "attachments": {},
   "cell_type": "markdown",
   "metadata": {},
   "source": [
    "Make the semi-analytic model object."
   ]
  },
  {
   "cell_type": "code",
   "execution_count": null,
   "metadata": {},
   "outputs": [],
   "source": [
    "dur = 10.0*YR\n",
    "cad = 0.2*YR\n",
    "fobs_gw_cents = utils.nyquist_freqs(dur,cad)\n",
    "fobs_gw_edges = utils.nyquist_freqs_edges(dur,cad)\n",
    "# sam = holo.sam.Semi_Analytic_Model() \n",
    "sam = holo.sam.Semi_Analytic_Model(mtot=(1.0e4*MSOL, 1.0e11*MSOL, 20), mrat=(1e-3, 1.0, 20), redz=(1e-3, 10.0, 20))  # faster version\n",
    "hard = holo.hardening.Hard_GW()"
   ]
  },
  {
   "attachments": {},
   "cell_type": "markdown",
   "metadata": {},
   "source": [
    "Calculate strains."
   ]
  },
  {
   "cell_type": "code",
   "execution_count": null,
   "metadata": {},
   "outputs": [],
   "source": [
    "fobs=fobs_gw_cents\n",
    "dfobs = np.diff(fobs_gw_edges)\n",
    "\n",
    "hc_ss, hc_bg = sam.gwb(fobs_gw_edges, hard, realize=30, \n",
    "                                        loudest = 5, params = False) \n",
    "print(hc_ss.shape)"
   ]
  },
  {
   "attachments": {},
   "cell_type": "markdown",
   "metadata": {},
   "source": [
    "# 1.) 2 pulsars, 1 binary\n",
    "## 1.1 Setup\n",
    "### 1.1.1 Build SAM and calculate strains"
   ]
  },
  {
   "attachments": {},
   "cell_type": "markdown",
   "metadata": {},
   "source": [
    "Make the semi-analytic model object."
   ]
  },
  {
   "cell_type": "code",
   "execution_count": null,
   "metadata": {},
   "outputs": [],
   "source": [
    "# hcfile = np.load('/Users/emigardiner/GWs/holodeck/ecg-notebooks/detstats_functions/npz_arrays/sample_sam_C.npz')\n",
    "# dur = hcfile['dur']\n",
    "# cad = hcfile['cad']\n",
    "# fobs = hcfile['fobs']\n",
    "# dfobs = hcfile['dfobs']\n",
    "# hc_ss = hcfile['hc_ss']\n",
    "# hc_bg = hcfile['hc_bg']\n",
    "# print(hc_ss.shape)"
   ]
  },
  {
   "attachments": {},
   "cell_type": "markdown",
   "metadata": {},
   "source": [
    "### 1.1.2 Set Up 1 SS\n"
   ]
  },
  {
   "attachments": {},
   "cell_type": "markdown",
   "metadata": {},
   "source": [
    "Place the single sources randomly across the sky\n",
    "Isolate the 3rd frequency bin source, place it."
   ]
  },
  {
   "cell_type": "code",
   "execution_count": null,
   "metadata": {},
   "outputs": [],
   "source": [
    "theta_ss = np.random.uniform(0, np.pi, size = hc_ss.size).reshape(hc_ss.shape)\n",
    "phi_ss = np.random.uniform(0, 2*np.pi, size = hc_ss.size).reshape(hc_ss.shape)\n",
    "iota_ss = np.random.uniform(0, np.pi, size = hc_ss.size).reshape(hc_ss.shape)\n",
    "psi_ss = np.random.uniform(0, np.pi, size = hc_ss.size).reshape(hc_ss.shape)\n",
    "Phi0_ss = np.random.uniform(0,2*np.pi, size=hc_ss.size).reshape(hc_ss.shape)\n",
    "# np.savez('/Users/emigardiner/GWs/holodeck/ecg-notebooks/detstats_functions/random_binary_angles_C.npz',\n",
    "#          theta_ss=theta_ss, phi_ss=phi_ss, iota_ss=iota_ss, psi_ss=psi_ss, Phi0_ss=Phi0_ss)\n",
    "\n",
    "# infile = np.load('/Users/emigardiner/GWs/holodeck/ecg-notebooks/detstats_functions/npz_arrays/random_binary_angles_C.npz')\n",
    "# theta_ss = infile['theta_ss']\n",
    "# phi_ss = infile['phi_ss']\n",
    "# iota_ss = infile['iota_ss']\n",
    "# psi_ss = infile['psi_ss']\n",
    "# Phi0_ss = infile['Phi0_ss']\n",
    "\n",
    "fig = holo.plot.plot_bg_ss(fobs, hc_bg, hc_ss)"
   ]
  },
  {
   "attachments": {},
   "cell_type": "markdown",
   "metadata": {},
   "source": [
    "### 1.1.3 Set Up 2 Pulsars\n",
    "* 2 pulsars\n",
    "* 45 degrees ($\\pi$/4) apart in $\\phi$\n",
    "* same $\\theta=0$"
   ]
  },
  {
   "cell_type": "code",
   "execution_count": null,
   "metadata": {},
   "outputs": [],
   "source": [
    "# set pulsar parameters\n",
    "def reset_pulsars(npsrs=2, phis = np.array([0,np.pi/4]), thetas = np.array([0,0]), \n",
    "    sigmas = np.array([1e-7,1e-7])):\n",
    "    # build sim_pta\n",
    "    pulsars = hsim.sim_pta(timespan=dur/YR, cad=1/(cad/YR), sigma=sigmas,\n",
    "                        phi=phis, theta=thetas)\n",
    "    # get spectrum for each\n",
    "    spectra = np.empty_like(pulsars, dtype=hsen.Spectrum)\n",
    "    for ii in range(npsrs):\n",
    "        spectra[ii] = hsen.Spectrum(pulsars[ii], freqs=fobs)\n",
    "        spectra[ii].NcalInv # calculate inverse noise weighted transmission function\n",
    "    # get sensitivity curve\n",
    "    # scDeter = hsen.DeterSensitivityCurve(list(spectra))\n",
    "    # skymap = hsky.SkySensitivity(list(spectra), theta_gw=theta_ss.squeeze(), \n",
    "    #                              phi_gw=phi_ss.squeeze(),\n",
    "    #                              iota=iota_ss.squeeze())\n",
    "    return npsrs, thetas, phis, sigmas, pulsars, spectra #, scDeter, skymap\n",
    "npsrs, thetas, phis, sigmas, pulsars, spectra = reset_pulsars()"
   ]
  },
  {
   "attachments": {},
   "cell_type": "markdown",
   "metadata": {},
   "source": [
    "## 1.2 SNR "
   ]
  },
  {
   "cell_type": "code",
   "execution_count": null,
   "metadata": {},
   "outputs": [],
   "source": [
    "# amp = detstats._amplitude(hc_ss, fobs, dfobs)\n",
    "# F_iplus, F_icross = detstats._antenna_pattern_functions(m_hat, n_hat, Omega_hat, pi_hat)\n",
    "\n",
    "# snr_ss_cython = detstats._snr_ss(amp, F_iplus, F_icross, iotas, dur, Phi_0, S_i, freqs=fobs)"
   ]
  },
  {
   "cell_type": "code",
   "execution_count": null,
   "metadata": {},
   "outputs": [],
   "source": [
    "num = (hc_ss[0]).size\n",
    "print(num)"
   ]
  },
  {
   "cell_type": "code",
   "execution_count": null,
   "metadata": {},
   "outputs": [],
   "source": [
    "dp_ss, snr_ss, gamma_ssi = detstats.detect_ss_pta(pulsars, cad, dur, fobs, dfobs, hc_ss, hc_bg, \n",
    "                       theta_ss, phi_ss, iota_ss, Phi0_ss, Fe_bar_guess=25, ret_snr=True)"
   ]
  },
  {
   "cell_type": "code",
   "execution_count": null,
   "metadata": {},
   "outputs": [],
   "source": [
    " # unitary vectors\n",
    "m_hat = ds._m_unitary_vector(theta_ss, phi_ss, psi_ss) # (3,F,S,L)\n",
    "print(m_hat.shape)\n",
    "n_hat = ds._n_unitary_vector(theta_ss, phi_ss, psi_ss) # (3,F,S,L)\n",
    "Omega_hat = ds._Omega_unitary_vector(theta_ss, phi_ss) # (3,F,S,L)\n",
    "pi_hat = ds._pi_unitary_vector(phis, thetas) # (3,P)\n",
    "\n",
    "# antenna pattern functions\n",
    "F_iplus, F_icross = ds._antenna_pattern_functions(m_hat, n_hat, Omega_hat, \n",
    "                                                pi_hat) # (P,F,S,L)\n",
    "print(F_iplus.shape)\n",
    "\n",
    "# noise spectral density\n",
    "S_i = ds._total_noise(cad, sigmas, hc_ss, hc_bg, fobs)\n",
    "\n",
    "# amplitudw\n",
    "amp = ds._amplitude(hc_ss, fobs, \n",
    "                    dfobs) # (F,R,L)\n",
    "print(amp.shape)\n",
    "\n",
    "snr_ss_5d = ds._snr_ss_5dim(amp, F_iplus, F_icross, iota_ss, dur, Phi0_ss, S_i, fobs) # (F,R,S,L)"
   ]
  },
  {
   "cell_type": "code",
   "execution_count": null,
   "metadata": {},
   "outputs": [],
   "source": [
    "plt.scatter(snr_ss.flatten(), snr_ss_5d.flatten(), s=1, alpha=0.5)"
   ]
  },
  {
   "cell_type": "code",
   "execution_count": null,
   "metadata": {},
   "outputs": [],
   "source": [
    "print(hc_ss.shape, theta_ss.shape)"
   ]
  },
  {
   "cell_type": "markdown",
   "metadata": {},
   "source": [
    "### 2.1.3 Place 40 random pulsars"
   ]
  },
  {
   "cell_type": "code",
   "execution_count": null,
   "metadata": {},
   "outputs": [],
   "source": [
    "npsrs = 40\n",
    "phis = np.random.uniform(0, 2*np.pi, size = npsrs)\n",
    "thetas = np.random.uniform(np.pi/2, np.pi/2, size = npsrs)\n",
    "sigmas = np.ones_like(phis)*1e-7\n",
    "\n",
    "# build sim_pta\n",
    "pulsars = hsim.sim_pta(timespan=dur/YR, cad=1/(cad/YR), sigma=sigmas,\n",
    "                    phi=phis, theta=thetas)\n",
    "# print(theta_ss.squeeze(), '\\n', phi_ss.squeeze(), '\\n', iota_ss.squeeze())"
   ]
  },
  {
   "cell_type": "code",
   "execution_count": null,
   "metadata": {},
   "outputs": [],
   "source": [
    "dp_ss, snr_ss, gamma_ssi = detstats.detect_ss_pta(pulsars, cad, dur, fobs, dfobs, hc_ss, hc_bg, \n",
    "                       theta_ss, phi_ss, iota_ss, Phi0_ss, Fe_bar_guess=25, ret_snr=True)"
   ]
  },
  {
   "cell_type": "code",
   "execution_count": null,
   "metadata": {},
   "outputs": [],
   "source": [
    " # unitary vectors\n",
    "m_hat = ds._m_unitary_vector(theta_ss, phi_ss, psi_ss) # (3,F,S,L)\n",
    "print(m_hat.shape)\n",
    "n_hat = ds._n_unitary_vector(theta_ss, phi_ss, psi_ss) # (3,F,S,L)\n",
    "Omega_hat = ds._Omega_unitary_vector(theta_ss, phi_ss) # (3,F,S,L)\n",
    "pi_hat = ds._pi_unitary_vector(phis, thetas) # (3,P)\n",
    "\n",
    "# antenna pattern functions\n",
    "F_iplus, F_icross = ds._antenna_pattern_functions(m_hat, n_hat, Omega_hat, \n",
    "                                                pi_hat) # (P,F,S,L)\n",
    "print(F_iplus.shape)\n",
    "\n",
    "# noise spectral density\n",
    "S_i = ds._total_noise(cad, sigmas, hc_ss, hc_bg, fobs)\n",
    "\n",
    "# amplitudw\n",
    "amp = ds._amplitude(hc_ss, fobs, \n",
    "                    dfobs) # (F,R,L)\n",
    "print(amp.shape)\n",
    "\n",
    "snr_ss_5d = ds._snr_ss_5dim(amp, F_iplus, F_icross, iota_ss, dur, Phi0_ss, S_i, fobs) # (F,R,S,L)"
   ]
  },
  {
   "cell_type": "code",
   "execution_count": null,
   "metadata": {},
   "outputs": [],
   "source": [
    "fig, ax = plot.figax(xlabel='snr_ss with cython', ylabel='snr_ss with 5darrays')\n",
    "ax.scatter(snr_ss.flatten(), snr_ss_5d.flatten(), s=1, alpha=0.5)\n",
    "ax.plot(np.arange(50), np.arange(50), color='k', alpha=0.5)"
   ]
  },
  {
   "cell_type": "code",
   "execution_count": null,
   "metadata": {},
   "outputs": [],
   "source": [
    "fig, ax = plot.figax(xlabel='snr_ss with cython', ylabel='snr_ss with 5darrays', yscale='linear', xscale='linear')\n",
    "ax.scatter(snr_ss.flatten(), snr_ss_5d.flatten(), s=1, alpha=0.5)\n",
    "ax.plot(np.arange(50), np.arange(50), color='k', alpha=0.5)"
   ]
  },
  {
   "cell_type": "code",
   "execution_count": null,
   "metadata": {},
   "outputs": [],
   "source": []
  }
 ],
 "metadata": {
  "kernelspec": {
   "display_name": "holo310",
   "language": "python",
   "name": "python3"
  },
  "language_info": {
   "codemirror_mode": {
    "name": "ipython",
    "version": 3
   },
   "file_extension": ".py",
   "mimetype": "text/x-python",
   "name": "python",
   "nbconvert_exporter": "python",
   "pygments_lexer": "ipython3",
   "version": "3.10.10"
  }
 },
 "nbformat": 4,
 "nbformat_minor": 2
}
