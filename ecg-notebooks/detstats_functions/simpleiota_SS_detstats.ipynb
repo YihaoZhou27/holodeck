{
 "cells": [
  {
   "cell_type": "code",
   "execution_count": null,
   "metadata": {},
   "outputs": [],
   "source": [
    "import numpy as np\n",
    "import matplotlib.pyplot as plt\n",
    "import matplotlib.cm as cm\n",
    "import scipy as sp\n",
    "\n",
    "import holodeck as holo\n",
    "import holodeck.single_sources\n",
    "import holodeck.detstats as det\n",
    "from holodeck.constants import YR, MSOL\n",
    "from holodeck import utils\n",
    "\n",
    "\n",
    "import hasasia.sensitivity as hsen\n",
    "import hasasia.sim as hsim\n",
    "import hasasia.skymap as hsky"
   ]
  },
  {
   "attachments": {},
   "cell_type": "markdown",
   "metadata": {},
   "source": [
    "# Build SAM and calculate strains"
   ]
  },
  {
   "attachments": {},
   "cell_type": "markdown",
   "metadata": {},
   "source": [
    "Make the semi-analytic model object."
   ]
  },
  {
   "cell_type": "code",
   "execution_count": null,
   "metadata": {},
   "outputs": [],
   "source": [
    "# dur = 5.0*YR\n",
    "# cad = .5*YR\n",
    "# fobs = utils.nyquist_freqs(dur,cad)\n",
    "# fobs_edges = utils.nyquist_freqs_edges(dur,cad)\n",
    "# sam = holo.sam.Semi_Analytic_Model() \n",
    "# # sam = holo.sam.Semi_Analytic_Model(mtot=(1.0e4*MSOL, 1.0e11*MSOL, 20), mrat=(1e-3, 1.0, 20), redz=(1e-3, 10.0, 20))  # faster version\n",
    "# hard = holo.hardening.Hard_GW\n",
    "# fobs_orb_edges = fobs_edges / 2.0 \n",
    "# fobs_orb_cents = fobs/ 2.0\n",
    "# # edges\n",
    "# edges, dnum = sam.dynamic_binary_number(hard, fobs_orb=fobs_orb_cents) # should the zero stalled option be part of the parameter space?\n",
    "# edges[-1] = fobs_orb_edges\n",
    "# dfobs = np.diff(edges[-1])\n",
    "# # integrate for number\n",
    "# number = utils._integrate_grid_differential_number(edges, dnum, freq=False)\n",
    "# number = number * np.diff(np.log(fobs_edges)) \n",
    "# hc_ss, hc_bg = holo.single_sources.ss_gws(edges, number, realize=1, \n",
    "#                                         loudest = 1, params = False) \n",
    "# np.savez('/Users/emigardiner/GWs/holodeck/ecg-notebooks/detstats_functions/sample_sam_C.npz', \n",
    "#          dur=dur, cad=cad, fobs=fobs, dfobs=dfobs, hc_ss=hc_ss, hc_bg=hc_bg)"
   ]
  },
  {
   "cell_type": "code",
   "execution_count": null,
   "metadata": {},
   "outputs": [],
   "source": [
    "hcfile = np.load('/Users/emigardiner/GWs/holodeck/ecg-notebooks/detstats_functions/sample_sam_C.npz')\n",
    "dur = hcfile['dur']\n",
    "cad = hcfile['cad']\n",
    "fobs = hcfile['fobs']\n",
    "dfobs = hcfile['dfobs']\n",
    "hc_ss = hcfile['hc_ss']\n",
    "hc_bg = hcfile['hc_bg']\n",
    "print(hc_ss.shape)"
   ]
  },
  {
   "cell_type": "markdown",
   "metadata": {},
   "source": [
    "# Set Up 1 SS\n"
   ]
  },
  {
   "cell_type": "markdown",
   "metadata": {},
   "source": [
    "Place the single sources randomly across the sky\n",
    "Isolate the 5th frequency bin source, place it."
   ]
  },
  {
   "cell_type": "code",
   "execution_count": null,
   "metadata": {},
   "outputs": [],
   "source": [
    "# theta_ss = np.random.uniform(0, np.pi, size = hc_ss.size).reshape(hc_ss.shape)\n",
    "# phi_ss = np.random.uniform(0, 2*np.pi, size = hc_ss.size).reshape(hc_ss.shape)\n",
    "# iota_ss = np.random.uniform(0, np.pi, size = hc_ss.size).reshape(hc_ss.shape)\n",
    "# psi_ss = np.random.uniform(0, np.pi, size = hc_ss.size).reshape(hc_ss.shape) \n",
    "# Phi0_ss = np.random.uniform(0,2*np.pi, size=hc_ss.size).reshape(hc_ss.shape)\n",
    "# np.savez('/Users/emigardiner/GWs/holodeck/ecg-notebooks/detstats_functions/random_binary_angles_C.npz',\n",
    "#          theta_ss=theta_ss, phi_ss=phi_ss, iota_ss=iota_ss, psi_ss=psi_ss, Phi0_ss=Phi0_ss)\n",
    "\n",
    "infile = np.load('/Users/emigardiner/GWs/holodeck/ecg-notebooks/detstats_functions/random_binary_angles_C.npz')\n",
    "theta_ss = infile['theta_ss']\n",
    "phi_ss = infile['phi_ss']\n",
    "# iota_ss = infile['iota_ss']\n",
    "# psi_ss = infile['psi_ss']\n",
    "# Phi0_ss = infile['Phi0_ss']\n",
    "\n",
    "# theta_ss = np.zeros_like(hc_ss)\n",
    "# phi_ss = np.zeros_like(hc_ss)\n",
    "iota_ss = np.zeros_like(hc_ss)\n",
    "psi_ss = np.zeros_like(hc_ss)\n",
    "Phi0_ss = np.zeros_like(hc_ss)\n",
    "\n",
    "test=np.ones(theta_ss.shape)\n",
    "# # special 5th bin:\n",
    "ss=2\n",
    "def reset_ss():\n",
    "    theta_ss[ss,0,0] = np.pi/8\n",
    "    phi_ss[ss,0,0] = np.pi/8\n",
    "    Phi0_ss[ss,0,0] = 0\n",
    "    iota_ss[ss,0,0] = 0\n",
    "    psi_ss[ss,0,0] = 0\n",
    "    hc_ss = np.zeros(theta_ss.shape)\n",
    "    hc_ss[ss,0,0] = 5e-15\n",
    "    return theta_ss, phi_ss, iota_ss, psi_ss, Phi0_ss, hc_ss\n",
    "theta_ss, phi_ss, iota_ss, psi_ss, Phi0_ss, hc_ss = reset_ss()"
   ]
  },
  {
   "cell_type": "code",
   "execution_count": null,
   "metadata": {},
   "outputs": [],
   "source": [
    "def plot_hc():\n",
    "    nreals = np.min([10, len(hc_bg[0])])\n",
    "    colors = cm.rainbow(np.linspace(0,1,nreals))\n",
    "    plt.xlabel('Frequency, $f_\\mathrm{obs}$ (1/yr)')\n",
    "    plt.ylabel('Characteristic Strain, $h_c$')\n",
    "    for rr in range(nreals):\n",
    "        if(rr==0):\n",
    "            label_bg = 'GWB'\n",
    "            label_ss = 'SS'\n",
    "        else:\n",
    "            label_bg = None\n",
    "            label_ss = None\n",
    "        plt.loglog(fobs*YR, hc_bg[:,rr], alpha=0.5, label=label_bg)\n",
    "        plt.scatter(fobs*YR, hc_ss[:,rr], alpha=0.5, label=label_ss)\n",
    "    plt.loglog(fobs*YR, np.median(hc_bg, axis=1), color='k')\n",
    "    plt.legend()\n",
    "\n",
    "plot_hc()"
   ]
  },
  {
   "attachments": {},
   "cell_type": "markdown",
   "metadata": {},
   "source": [
    "# Set Up 2 Pulsars\n",
    "* 2 pulsars\n",
    "* 45 degrees ($\\pi$/4) apart in $\\phi$\n",
    "* same $\\theta=0$"
   ]
  },
  {
   "cell_type": "code",
   "execution_count": null,
   "metadata": {},
   "outputs": [],
   "source": [
    "# set pulsar parameters\n",
    "def reset_pulsars(npsrs=2, phis = np.array([0,np.pi/4]), thetas = np.array([0,0]), \n",
    "    sigmas = np.array([1e-7,1e-7])):\n",
    "    # build sim_pta\n",
    "    pulsars = hsim.sim_pta(timespan=dur/YR, cad=1/(cad/YR), sigma=sigmas,\n",
    "                        phi=phis, theta=thetas)\n",
    "    # get spectrum for each\n",
    "    spectra = np.empty_like(pulsars, dtype=hsen.Spectrum)\n",
    "    for ii in range(npsrs):\n",
    "        spectra[ii] = hsen.Spectrum(pulsars[ii], freqs=fobs)\n",
    "        spectra[ii].NcalInv # calculate inverse noise weighted transmission function\n",
    "    # get sensitivity curve\n",
    "    scDeter = hsen.DeterSensitivityCurve(list(spectra))\n",
    "    skymap = hsky.SkySensitivity(list(spectra), theta_gw=theta_ss.squeeze(), \n",
    "                                 phi_gw=phi_ss.squeeze(),\n",
    "                                 iota=iota_ss.squeeze(), psi=psi_ss.squeeze())\n",
    "    return npsrs, thetas, phis, sigmas, pulsars, spectra, scDeter, skymap\n",
    "npsrs, thetas, phis, sigmas, pulsars, spectra, scDeter, skymap = reset_pulsars()"
   ]
  },
  {
   "attachments": {},
   "cell_type": "markdown",
   "metadata": {},
   "source": [
    "# SNR "
   ]
  },
  {
   "attachments": {},
   "cell_type": "markdown",
   "metadata": {},
   "source": [
    "## skymap \n",
    "Using hasasia.skysensitivity.skymap, including iota or psi"
   ]
  },
  {
   "cell_type": "code",
   "execution_count": null,
   "metadata": {},
   "outputs": [],
   "source": [
    "hs = holo.utils.char_strain_to_strain_amp(hc_ss, fobs, dfobs)\n",
    "test_iota = np.pi/2\n",
    "test_psi = np.pi/2\n",
    "iota_ss[ss,0,0] = test_iota\n",
    "psi_ss[ss,0,0] = test_psi\n",
    "np.set_printoptions(precision=2)\n",
    "    \n",
    "print('iota_ss', iota_ss[ss,0,0])\n",
    "print('psi_ss', psi_ss[ss,0,0])\n",
    "rho1 = skymap.SNR(hs[:,0,0], iota=iota_ss, psi=None)\n",
    "print('\\nrho1[:,ss]', rho1[:,ss])\n",
    "print('rho1[ss,:]', rho1[ss,:])\n",
    "\n",
    "rho2 = skymap.SNR(hs[:,0,0], iota=None, psi=psi_ss)\n",
    "print('\\nrho2[:,ss]', rho2[:,ss])\n",
    "print('rho2[ss,:]', rho2[ss,:])\n",
    "\n",
    "\n",
    "rho3 = skymap.SNR(hs[:,0,0], iota=None, psi=None)\n",
    "print('\\nrho3[:,ss]', rho3[:,ss])\n",
    "print('rho3[ss,:]', rho3[ss,:])\n",
    "\n",
    "print(np.all(rho1==rho2))\n",
    "print(np.all(rho1==rho3))"
   ]
  },
  {
   "cell_type": "code",
   "execution_count": null,
   "metadata": {},
   "outputs": [],
   "source": [
    "test_iota = np.pi/2\n",
    "test_psi = np.pi/2\n",
    "iota_ss[ss,0,0] = test_iota\n",
    "psi_ss[ss,0,0] = test_psi\n",
    "    \n",
    "\n",
    "print('\\n\\tiota=None and psi=None')\n",
    "snr_sky1 = det.snr_skymap(skymap, fobs, dfobs, hc_ss,\n",
    "                          iota_ss=None, psi_ss=None, debug=True)\n",
    "print('snr_sky =',snr_sky1.shape,\n",
    "       (snr_sky1.squeeze()))\n",
    "\n",
    "print('\\n\\tiota=None and psi=%.2fpi' % (test_psi/np.pi))\n",
    "snr_sky2 = det.snr_skymap(skymap, fobs, dfobs, hc_ss, \n",
    "                          iota_ss=None, psi_ss=psi_ss, debug=True)\n",
    "print('snr_sky =',snr_sky2.shape,\n",
    "       (snr_sky2.squeeze()))\n",
    "\n",
    "print('\\n\\tiota=%.2fpi and psi=None' % (test_iota/np.pi))\n",
    "snr_sky3 = det.snr_skymap(skymap, fobs, dfobs, hc_ss,\n",
    "                          iota_ss=iota_ss, psi_ss=None, debug=True)\n",
    "print('snr_sky =',snr_sky3.shape,\n",
    "       (snr_sky3.squeeze()))"
   ]
  },
  {
   "attachments": {},
   "cell_type": "markdown",
   "metadata": {},
   "source": [
    "## scDeter\n",
    "using hasasia.sensitivity.DeterSensitivityCurve"
   ]
  },
  {
   "cell_type": "code",
   "execution_count": null,
   "metadata": {},
   "outputs": [],
   "source": [
    "snr_sky4 = det.snr_scDeter(scDeter, fobs, dfobs, hc_ss, debug=True)\n",
    "print('snr_sky =',snr_sky4.shape,\n",
    "       (snr_sky4.squeeze()))"
   ]
  },
  {
   "cell_type": "markdown",
   "metadata": {},
   "source": []
  },
  {
   "cell_type": "code",
   "execution_count": null,
   "metadata": {},
   "outputs": [],
   "source": []
  },
  {
   "attachments": {},
   "cell_type": "markdown",
   "metadata": {},
   "source": [
    "# Calculate DP and SNR by each method"
   ]
  },
  {
   "cell_type": "markdown",
   "metadata": {},
   "source": [
    "Detection probability by 3 methods:\n",
    "* det = detect_ss() uses the stored arrays with Rosado equations\n",
    "* pta = detect_ss_pta() uses the pulsar list object with Rosado equations\n",
    "* has = detect_ss_scDeter() uses the hasasia.DeterSensitivityCurve SNR's to calculate dp"
   ]
  },
  {
   "cell_type": "code",
   "execution_count": null,
   "metadata": {},
   "outputs": [],
   "source": [
    "dp_det, snr_det = det.detect_ss(thetas, phis, sigmas, cad, dur, fobs, dfobs, hc_ss, hc_bg,\n",
    "                                ret_SNR = True, theta_ss=theta_ss, phi_ss=phi_ss, \n",
    "                                iota_ss=iota_ss, psi_ss=psi_ss, Phi0_ss=Phi0_ss)\n",
    "# print(dp_det, snr_det.shape, snr_det.squeeze())\n",
    "print('\\ndp_det', dp_det.shape, dp_det.squeeze(), \n",
    "      '\\nsnr_det', snr_det.shape, holo.utils.stats(snr_det))\n",
    "\n",
    "dp_pta, snr_pta = det.detect_ss_pta(pulsars, cad, dur, fobs, dfobs, hc_ss, hc_bg,\n",
    "                                ret_SNR = True, theta_ss=theta_ss, phi_ss=phi_ss, \n",
    "                                iota_ss=iota_ss, psi_ss=psi_ss, Phi0_ss=Phi0_ss)\n",
    "print('\\ndp_pta', dp_pta.shape, dp_pta.squeeze(), \n",
    "      '\\nsnr_pta', snr_pta.shape, holo.utils.stats(snr_pta))\n",
    "# print('dp_pta:', dp_pta, snr_pta.shape, snr_pta.squeeze())\n",
    "dp_scD, snr_scD = det.detect_ss_scDeter(pulsars, scDeter, hc_ss,\n",
    "                                ret_SNR = True, theta_ss=theta_ss, phi_ss=phi_ss, \n",
    "                                iota_ss=iota_ss, psi_ss=psi_ss, Phi0_ss=Phi0_ss)\n",
    "print('\\ndp_scD', dp_scD.shape, dp_scD.squeeze(), \n",
    "      '\\nsnr_scD', snr_scD.shape, holo.utils.stats(snr_scD))\n",
    "# print('dp_scD:', dp_scD, snr_scD.shape, snr_scD.squeeze())\n",
    "\n",
    "print('')\n",
    "dp_sky, snr_sky = det.detect_ss_skymap(pulsars, skymap, hc_ss,\n",
    "                                ret_SNR = True, theta_ss=theta_ss, phi_ss=phi_ss, \n",
    "                                iota_ss=None, psi_ss=None, Phi0_ss=Phi0_ss)\n",
    "print('dp_sky', dp_sky.shape, dp_sky.squeeze(), \n",
    "      '\\nsnr_sky', snr_sky.shape, holo.utils.stats(snr_sky))\n",
    "# just use average over 25 for dp_sky\n",
    "dp_sky = np.mean(dp_sky, axis=0)\n",
    "print('np.mean(dp_sky):', dp_sky.shape, dp_sky.squeeze())\n",
    "# print(np.mean(snr_sky.squeeze(), axis=0))\n",
    "# print(np.mean(snr_sky.squeeze(), axis=1))"
   ]
  },
  {
   "cell_type": "code",
   "execution_count": null,
   "metadata": {},
   "outputs": [],
   "source": [
    "def plot_snr():\n",
    "        fig,ax = plt.subplots(figsize=(7,5))\n",
    "        ax.scatter(fobs[ss], snr_det.squeeze()[ss], label='snr_det, $\\gamma_{ss}=%.4f$' % dp_det, marker='.')\n",
    "        ax.scatter(fobs[ss], snr_pta.squeeze()[ss], label='snr_pta, $\\gamma_{ss}=%.4f$' % dp_pta, marker='.') # should be exact same, check!\n",
    "        ax.scatter(fobs[ss], snr_scD.squeeze()[ss], label='snr_scD, $\\gamma_{ss}=%.4f$' % dp_scD, marker='.')\n",
    "\n",
    "        # ax.scatter(fobs[ss], snr_det.squeeze()[ss], color='red', )\n",
    "        # ax.scatter(fobs[ss], snr_pta.squeeze()[ss], color='k')\n",
    "        # ax.scatter(fobs[ss], snr_scD.squeeze()[ss], color='k')\n",
    "        ax.set_ylim(1e-5,2e1)\n",
    "        ax.set_xlabel('$f_\\mathrm{obs}$ (Hz)')\n",
    "        ax.set_ylabel('SNR')\n",
    "\n",
    "        ax.legend(loc='upper right')\n",
    "        ax.text(.01, .01, r'pulsars $(\\theta, \\phi)$:'+'\\n(%.3f, %.3f) \\n(%.3f, %.3f)'\n",
    "                %(thetas[0], phis[0], thetas[1], phis[1]), \n",
    "                transform=ax.transAxes)\n",
    "        ax.text(.01, .2, ('%dth bin source:\\n' %ss + r'$\\theta=$'+str(theta_ss.squeeze()[ss]) \n",
    "                        + r', $\\phi=$'+'%.3f'% (phi_ss.squeeze()[ss]) \n",
    "                        + r', $\\iota=$'+'%.3f'% (iota_ss.squeeze()[ss])\n",
    "                        + r', $\\psi=$'+'%.3f'% (psi_ss.squeeze()[ss]) \n",
    "                        + r', $\\Phi_0=$'+'%.3f'% (Phi0_ss.squeeze()[ss]) \n",
    "                        + '\\n$h_{c,ss}[%d]=%.2e$' % (ss, hc_ss.squeeze()[ss])\n",
    "                        ), \n",
    "                transform=ax.transAxes)\n",
    "plot_snr()"
   ]
  },
  {
   "attachments": {},
   "cell_type": "markdown",
   "metadata": {},
   "source": [
    "# 1.. Isolate Strain\n",
    "double it"
   ]
  },
  {
   "cell_type": "code",
   "execution_count": null,
   "metadata": {},
   "outputs": [],
   "source": [
    "theta_ss, phi_ss, iota_ss, psi_ss, Phi0_ss, hc_ss = reset_ss()\n",
    "npsrs, thetas, phis, sigmas, pulsars, spectra, scDeter, skymap = reset_pulsars()\n",
    "\n",
    "num = 100\n",
    "hc_arr = np.geomspace(.001, 100, 100)\n",
    "SNR_det_of_hc = np.zeros(hc_arr.shape)\n",
    "DP_det_of_hc = np.zeros(hc_arr.shape)\n",
    "SNR_scD_of_hc = np.zeros(hc_arr.shape)\n",
    "DP_scD_of_hc = np.zeros(hc_arr.shape)\n",
    "SNR_sky_of_hc = np.zeros(hc_arr.shape)\n",
    "DP_sky_of_hc = np.zeros(hc_arr.shape)\n",
    "for ii in range(num):\n",
    "    DP_det_of_hc[ii], temp_det = det.detect_ss(thetas, phis, sigmas, cad, dur, \n",
    "                                                        fobs, dfobs, hc_arr[ii]*hc_ss, hc_bg,\n",
    "                                ret_SNR = True, theta_ss=theta_ss, phi_ss=phi_ss, \n",
    "                                iota_ss=iota_ss, psi_ss=psi_ss, Phi0_ss=Phi0_ss)\n",
    "    SNR_det_of_hc[ii] = temp_det[ss]\n",
    "    DP_scD_of_hc[ii], temp_scD = det.detect_ss_scDeter(pulsars, scDeter, \n",
    "                                                                hc_arr[ii]*hc_ss,\n",
    "                                ret_SNR = True, theta_ss=theta_ss, phi_ss=phi_ss, \n",
    "                                iota_ss=iota_ss, psi_ss=psi_ss, Phi0_ss=Phi0_ss)\n",
    "    SNR_scD_of_hc[ii] = temp_scD[ss]\n",
    "    temp_dp, temp_sky = det.detect_ss_skymap(pulsars, skymap, hc_ss,\n",
    "                                ret_SNR = True, theta_ss=theta_ss, phi_ss=phi_ss, \n",
    "                                iota_ss=None, psi_ss=None, Phi0_ss=Phi0_ss, debug=False)\n",
    "    DP_scD_of_hc[ii] = np.mean(temp_dp, axis=0)\n",
    "    SNR_sky_of_hc[ii] = np.mean(temp_sky[ss], axis=0)\n",
    "    # SNR_sky_of_hc[ii] = np.mean(temp_sky[ss], axis=1)\n",
    "    "
   ]
  },
  {
   "cell_type": "code",
   "execution_count": null,
   "metadata": {},
   "outputs": [],
   "source": [
    "fig, ax = plt.subplots(figsize=(7,5))\n",
    "ax.set_xlabel('Characteristic Strain $h_{c,ss}$')\n",
    "ax.set_ylabel('SNR')\n",
    "ax.loglog(hc_arr*hc_ss[ss,0,0], SNR_det_of_hc, label='SNR by holodeck.detstats', color='tab:purple')\n",
    "ax.plot(hc_arr*hc_ss[ss,0,0], SNR_scD_of_hc, label='SNR by hasasia.DeterSensitivityCurve', color='tab:green')\n",
    "ax.plot(hc_arr*hc_ss[ss,0,0], SNR_sky_of_hc, label='SNR by hasasia.skymap', color='tab:blue', linestyle=':')\n",
    "ax.text(.01, .7, r'pulsars $(\\theta, \\phi)$:'+'\\n(%.3f$\\pi$, %.3f$\\pi$) \\n(%.3f$\\pi$, %.3f$\\pi$)'\n",
    "                %(thetas[0]/np.pi, phis[0]/np.pi, thetas[1]/np.pi, phis[1]/np.pi), \n",
    "                transform=ax.transAxes)\n",
    "ax.text(.01, .9, ('%dth bin source:\\n' %ss \n",
    "                  + r'$\\theta=$'+'%.3f$\\pi$'%(theta_ss.squeeze()[ss]/np.pi) \n",
    "                  + r', $\\phi=$'+'%.3f$\\pi$'% (phi_ss.squeeze()[ss]/np.pi) \n",
    "                  + r', $\\iota=$'+'%.3f$\\pi$'% (iota_ss.squeeze()[ss]/np.pi)\n",
    "                  + r', $\\psi=$'+'%.3f$\\pi$'% (psi_ss.squeeze()[ss]/np.pi) \n",
    "                  + r', $\\Phi_0=$'+'%.3f$\\pi$'% (Phi0_ss.squeeze()[ss]/np.pi) \n",
    "                #   + '\\n$h_{c,ss}[%d]=%.2e$' % (ss, hc_ss.squeeze()[ss])\n",
    "                ), \n",
    "        transform=ax.transAxes)\n",
    "ax.legend(loc='lower right')"
   ]
  },
  {
   "cell_type": "code",
   "execution_count": null,
   "metadata": {},
   "outputs": [],
   "source": [
    "fig, ax = plt.subplots(figsize=(7,5))\n",
    "ax.set_xlabel('Characteristic Strain $h_{c,ss}$')\n",
    "ax.set_ylabel('DP')\n",
    "ax.loglog(hc_arr*hc_ss[ss,0,0], DP_det_of_hc, label='SNR by holodeck.detstats', color='tab:purple')\n",
    "ax.plot(hc_arr*hc_ss[ss,0,0], DP_scD_of_hc, label='SNR by hasasia.DeterSensitivityCurve', color='tab:green')\n",
    "ax.text(.01, .7, r'pulsars $(\\theta, \\phi)$:'+'\\n(%.3f$\\pi$, %.3f$\\pi$) \\n(%.3f$\\pi$, %.3f$\\pi$)'\n",
    "                %(thetas[0]/np.pi, phis[0]/np.pi, thetas[1]/np.pi, phis[1]/np.pi), \n",
    "                transform=ax.transAxes)\n",
    "ax.text(.01, .9, ('%dth bin source:\\n' %ss \n",
    "                  + r'$\\theta=$'+'%.3f$\\pi$'%(theta_ss.squeeze()[ss]/np.pi) \n",
    "                  + r', $\\phi=$'+'%.3f$\\pi$'% (phi_ss.squeeze()[ss]/np.pi) \n",
    "                  + r', $\\iota=$'+'%.3f$\\pi$'% (iota_ss.squeeze()[ss]/np.pi)\n",
    "                  + r', $\\psi=$'+'%.3f$\\pi$'% (psi_ss.squeeze()[ss]/np.pi) \n",
    "                  + r', $\\Phi_0=$'+'%.3f$\\pi$'% (Phi0_ss.squeeze()[ss]/np.pi) \n",
    "                #   + '\\n$h_{c,ss}[%d]=%.2e$' % (ss, hc_ss.squeeze()[ss])\n",
    "                ), \n",
    "        transform=ax.transAxes)\n",
    "ax.legend(loc='lower right')"
   ]
  },
  {
   "attachments": {},
   "cell_type": "markdown",
   "metadata": {},
   "source": [
    "# 2.. Isolate $\\theta$"
   ]
  },
  {
   "cell_type": "code",
   "execution_count": null,
   "metadata": {},
   "outputs": [],
   "source": [
    "theta_ss, phi_ss, iota_ss, psi_ss, Phi0_ss, hc_ss = reset_ss()\n",
    "npsrs, thetas, phis, sigmas, pulsars, spectra, scDeter = reset_pulsars()\n",
    "\n",
    "num = 100\n",
    "theta_arr = np.linspace(0, np.pi, num)\n",
    "SNR_det_of_theta = np.zeros(hc_arr.shape)\n",
    "DP_det_of_theta = np.zeros(hc_arr.shape)\n",
    "SNR_scD_of_theta = np.zeros(hc_arr.shape)\n",
    "DP_scD_of_theta = np.zeros(hc_arr.shape)\n",
    "for ii in range(num):\n",
    "    theta_ss[ss] = theta_arr[ii]\n",
    "    npsrs, thetas, phis, sigmas, pulsars, spectra, scDeter = reset_pulsars()\n",
    "    DP_det_of_theta[ii], temp_det = det.detect_ss(thetas, phis, sigmas, cad, dur, \n",
    "                                                        fobs, dfobs, hc_ss, hc_bg,\n",
    "                                ret_SNR = True, theta_ss=theta_ss, phi_ss=phi_ss, \n",
    "                                iota_ss=iota_ss, psi_ss=psi_ss, Phi0_ss=Phi0_ss)\n",
    "    SNR_det_of_theta[ii] = temp_det[ss]\n",
    "    DP_scD_of_theta[ii], temp_scD = det.detect_ss_scDeter(pulsars, scDeter, hc_ss,\n",
    "                                ret_SNR = True, theta_ss=theta_ss, phi_ss=phi_ss, \n",
    "                                iota_ss=iota_ss, psi_ss=psi_ss, Phi0_ss=Phi0_ss)\n",
    "    SNR_scD_of_theta[ii] = temp_scD[ss]"
   ]
  },
  {
   "cell_type": "code",
   "execution_count": null,
   "metadata": {},
   "outputs": [],
   "source": [
    "fig, ax = plt.subplots(figsize=(7,5))\n",
    "ax.set_xlabel(r'Latitudinal angular position $\\theta / \\pi$')\n",
    "ax.set_ylabel('SNR')\n",
    "ax.plot(theta_arr/np.pi, SNR_det_of_theta, label='SNR by holodeck.detstats', color='tab:purple')\n",
    "ax.plot(theta_arr/np.pi, SNR_scD_of_theta, label='SNR by hasasia.DeterSensitivityCurve', color='tab:green')\n",
    "ax.text(.01, .7, r'pulsars $(\\theta, \\phi)$:'+'\\n(%.3f$\\pi$, %.3f$\\pi$) \\n(%.3f$\\pi$, %.3f$\\pi$)'\n",
    "                %(thetas[0]/np.pi, phis[0]/np.pi, thetas[1]/np.pi, phis[1]/np.pi), \n",
    "                transform=ax.transAxes)\n",
    "ax.text(.01, .9, ('%dth bin source:\\n' %ss \n",
    "                #   + r'$\\theta=$'+'%.3f$\\pi$'%(theta_ss.squeeze()[ss]/np.pi) \n",
    "                  + r', $\\phi=$'+'%.3f$\\pi$'% (phi_ss.squeeze()[ss]/np.pi) \n",
    "                  + r', $\\iota=$'+'%.3f$\\pi$'% (iota_ss.squeeze()[ss]/np.pi)\n",
    "                  + r', $\\psi=$'+'%.3f$\\pi$'% (psi_ss.squeeze()[ss]/np.pi) \n",
    "                  + r', $\\Phi_0=$'+'%.3f$\\pi$'% (Phi0_ss.squeeze()[ss]/np.pi) \n",
    "                  + ', $h_{c,ss}[%d]=%.2e$' % (ss, hc_ss.squeeze()[ss])\n",
    "                ), \n",
    "        transform=ax.transAxes)\n",
    "ax.legend(loc='lower right')"
   ]
  },
  {
   "attachments": {},
   "cell_type": "markdown",
   "metadata": {},
   "source": [
    "Highest when closest to pulsars, nice."
   ]
  },
  {
   "attachments": {},
   "cell_type": "markdown",
   "metadata": {},
   "source": [
    "# 3.. Isolate $\\phi$"
   ]
  },
  {
   "cell_type": "code",
   "execution_count": null,
   "metadata": {},
   "outputs": [],
   "source": [
    "theta_ss, phi_ss, iota_ss, psi_ss, Phi0_ss, hc_ss = reset_ss()\n",
    "npsrs, thetas, phis, sigmas, pulsars, spectra, scDeter = reset_pulsars()\n",
    "\n",
    "num = 100\n",
    "phi_arr = np.linspace(0, 2*np.pi, num)\n",
    "SNR_det_of_phi = np.zeros(hc_arr.shape)\n",
    "DP_det_of_phi = np.zeros(hc_arr.shape)\n",
    "SNR_scD_of_phi = np.zeros(hc_arr.shape)\n",
    "DP_scD_of_phi = np.zeros(hc_arr.shape)\n",
    "for ii in range(num):\n",
    "    phi_ss[ss] = phi_arr[ii]\n",
    "    DP_det_of_phi[ii], temp_det = det.detect_ss(thetas, phis, sigmas, cad, dur, \n",
    "                                                        fobs, dfobs, hc_ss, hc_bg,\n",
    "                                ret_SNR = True, theta_ss=theta_ss, phi_ss=phi_ss, \n",
    "                                iota_ss=iota_ss, psi_ss=psi_ss, Phi0_ss=Phi0_ss)\n",
    "    SNR_det_of_phi[ii] = temp_det[ss]\n",
    "    DP_scD_of_phi[ii], temp_scD = det.detect_ss_scDeter(pulsars, scDeter, hc_ss,\n",
    "                                ret_SNR = True, theta_ss=theta_ss, phi_ss=phi_ss, \n",
    "                                iota_ss=iota_ss, psi_ss=psi_ss, Phi0_ss=Phi0_ss)\n",
    "    SNR_scD_of_phi[ii] = temp_scD[ss]"
   ]
  },
  {
   "cell_type": "code",
   "execution_count": null,
   "metadata": {},
   "outputs": [],
   "source": [
    "fig, ax = plt.subplots(figsize=(7,5))\n",
    "ax.set_xlabel(r'Longitudinal angular position $\\phi / \\pi$')\n",
    "ax.set_ylabel('SNR')\n",
    "ax.plot(phi_arr/np.pi, SNR_det_of_phi, label='SNR by holodeck.detstats', color='tab:purple')\n",
    "ax.plot(phi_arr/np.pi, SNR_scD_of_phi, label='SNR by hasasia.DeterSensitivityCurve', color='tab:green')\n",
    "ax.text(.01, .7, r'pulsars $(\\theta, \\phi)$:'+'\\n(%.3f$\\pi$, %.3f$\\pi$) \\n(%.3f$\\pi$, %.3f$\\pi$)'\n",
    "                %(thetas[0]/np.pi, phis[0]/np.pi, thetas[1]/np.pi, phis[1]/np.pi), \n",
    "                transform=ax.transAxes)\n",
    "ax.text(.01, .9, ('%dth bin source:\\n' %ss \n",
    "                  + r'$\\theta=$'+'%.3f$\\pi$'%(theta_ss.squeeze()[ss]/np.pi) \n",
    "                #   + r', $\\phi=$'+'%.3f$\\pi$'% (phi_ss.squeeze()[ss]/np.pi) \n",
    "                  + r', $\\iota=$'+'%.3f$\\pi$'% (iota_ss.squeeze()[ss]/np.pi)\n",
    "                  + r', $\\psi=$'+'%.3f$\\pi$'% (psi_ss.squeeze()[ss]/np.pi) \n",
    "                  + r', $\\Phi_0=$'+'%.3f$\\pi$'% (Phi0_ss.squeeze()[ss]/np.pi) \n",
    "                  + ', $h_{c,ss}[%d]=%.2e$' % (ss, hc_ss.squeeze()[ss])\n",
    "                ), \n",
    "        transform=ax.transAxes)\n",
    "ax.legend(loc='lower right')\n",
    "ax.set_ylim(0.5, 2.5)"
   ]
  },
  {
   "attachments": {},
   "cell_type": "markdown",
   "metadata": {},
   "source": [
    "Why doesn't either depend on phi? on the pole, phi makes no dif"
   ]
  },
  {
   "attachments": {},
   "cell_type": "markdown",
   "metadata": {},
   "source": [
    "# 4.. Isolate Polarization $\\psi$"
   ]
  },
  {
   "cell_type": "code",
   "execution_count": null,
   "metadata": {},
   "outputs": [],
   "source": [
    "theta_ss, phi_ss, iota_ss, psi_ss, Phi0_ss, hc_ss = reset_ss()\n",
    "npsrs, thetas, phis, sigmas, pulsars, spectra, scDeter = reset_pulsars()\n",
    "\n",
    "num = 100\n",
    "psi_arr = np.linspace(0, np.pi, num)\n",
    "SNR_det_of_psi = np.zeros(hc_arr.shape)\n",
    "DP_det_of_psi = np.zeros(hc_arr.shape)\n",
    "SNR_scD_of_psi = np.zeros(hc_arr.shape)\n",
    "DP_scD_of_psi = np.zeros(hc_arr.shape)\n",
    "for ii in range(num):\n",
    "    psi_ss[ss] = psi_arr[ii]\n",
    "    DP_det_of_psi[ii], temp_det = det.detect_ss(thetas, phis, sigmas, cad, dur, \n",
    "                                                        fobs, dfobs, hc_ss, hc_bg,\n",
    "                                ret_SNR = True, theta_ss=theta_ss, phi_ss=phi_ss, \n",
    "                                iota_ss=iota_ss, psi_ss=psi_ss, Phi0_ss=Phi0_ss)\n",
    "    SNR_det_of_psi[ii] = temp_det[ss]\n",
    "    DP_scD_of_psi[ii], temp_scD = det.detect_ss_scDeter(pulsars, scDeter, hc_ss,\n",
    "                                ret_SNR = True, theta_ss=theta_ss, phi_ss=phi_ss, \n",
    "                                iota_ss=iota_ss, psi_ss=psi_ss, Phi0_ss=Phi0_ss)\n",
    "    SNR_scD_of_psi[ii] = temp_scD[ss]"
   ]
  },
  {
   "cell_type": "code",
   "execution_count": null,
   "metadata": {},
   "outputs": [],
   "source": [
    "fig, ax = plt.subplots(figsize=(7,5))\n",
    "ax.set_xlabel(r'Polarization $\\psi / \\pi$')\n",
    "ax.set_ylabel('SNR')\n",
    "ax.plot(psi_arr/np.pi, SNR_det_of_psi, label='SNR by holodeck.detstats', color='tab:purple')\n",
    "ax.plot(psi_arr/np.pi, SNR_scD_of_psi, label='SNR by hasasia.DeterSensitivityCurve', color='tab:green')\n",
    "ax.text(.01, .7, r'pulsars $(\\theta, \\phi)$:'+'\\n(%.3f$\\pi$, %.3f$\\pi$) \\n(%.3f$\\pi$, %.3f$\\pi$)'\n",
    "                %(thetas[0]/np.pi, phis[0]/np.pi, thetas[1]/np.pi, phis[1]/np.pi), \n",
    "                transform=ax.transAxes)\n",
    "ax.text(.01, .9, ('%dth bin source:\\n' %ss \n",
    "                  + r'$\\theta=$'+'%.3f$\\pi$'%(theta_ss.squeeze()[ss]/np.pi) \n",
    "                  + r', $\\phi=$'+'%.3f$\\pi$'% (phi_ss.squeeze()[ss]/np.pi) \n",
    "                  + r', $\\iota=$'+'%.3f$\\pi$'% (iota_ss.squeeze()[ss]/np.pi)\n",
    "                #   + r', $\\psi=$'+'%.3f$\\pi$'% (psi_ss.squeeze()[ss]/np.pi) \n",
    "                  + r', $\\Phi_0=$'+'%.3f$\\pi$'% (Phi0_ss.squeeze()[ss]/np.pi) \n",
    "                  + ', $h_{c,ss}[%d]=%.2e$' % (ss, hc_ss.squeeze()[ss])\n",
    "                ), \n",
    "        transform=ax.transAxes)\n",
    "ax.legend(loc='lower right')\n",
    "ax.set_ylim(0.5, 2.5)"
   ]
  },
  {
   "cell_type": "code",
   "execution_count": null,
   "metadata": {},
   "outputs": [],
   "source": [
    "print(psi_arr[np.argmax(SNR_det_of_psi)]/np.pi)"
   ]
  },
  {
   "attachments": {},
   "cell_type": "markdown",
   "metadata": {},
   "source": [
    "# 5.. Isolate Inclination $\\iota$"
   ]
  },
  {
   "cell_type": "code",
   "execution_count": null,
   "metadata": {},
   "outputs": [],
   "source": [
    "theta_ss, phi_ss, iota_ss, psi_ss, Phi0_ss, hc_ss = reset_ss()\n",
    "npsrs, thetas, phis, sigmas, pulsars, spectra, scDeter = reset_pulsars()\n",
    "\n",
    "num = 100\n",
    "iota_arr = np.linspace(0, np.pi, num)\n",
    "SNR_det_of_iota = np.zeros(hc_arr.shape)\n",
    "DP_det_of_iota = np.zeros(hc_arr.shape)\n",
    "SNR_scD_of_iota = np.zeros(hc_arr.shape)\n",
    "DP_scD_of_iota = np.zeros(hc_arr.shape)\n",
    "for ii in range(num):\n",
    "    iota_ss[ss] = iota_arr[ii]\n",
    "    DP_det_of_iota[ii], temp_det = det.detect_ss(thetas, phis, sigmas, cad, dur, \n",
    "                                                        fobs, dfobs, hc_ss, hc_bg,\n",
    "                                ret_SNR = True, theta_ss=theta_ss, phi_ss=phi_ss, \n",
    "                                iota_ss=iota_ss, psi_ss=psi_ss, Phi0_ss=Phi0_ss)\n",
    "    SNR_det_of_iota[ii] = temp_det[ss]\n",
    "    DP_scD_of_iota[ii], temp_scD = det.detect_ss_scDeter(pulsars, scDeter, hc_ss,\n",
    "                                ret_SNR = True, theta_ss=theta_ss, phi_ss=phi_ss, \n",
    "                                iota_ss=iota_ss, psi_ss=psi_ss, Phi0_ss=Phi0_ss)\n",
    "    SNR_scD_of_iota[ii] = temp_scD[ss]"
   ]
  },
  {
   "cell_type": "code",
   "execution_count": null,
   "metadata": {},
   "outputs": [],
   "source": [
    "fig, ax = plt.subplots(figsize=(7,5))\n",
    "ax.set_xlabel(r'Inclination $\\iota / \\pi$')\n",
    "ax.set_ylabel('SNR')\n",
    "ax.plot(iota_arr/np.pi, SNR_det_of_iota, label='SNR by holodeck.detstats', color='tab:purple')\n",
    "ax.plot(iota_arr/np.pi, SNR_scD_of_iota, label='SNR by hasasia.DeterSensitivityCurve', color='tab:green')\n",
    "ax.text(.01, .7, r'pulsars $(\\theta, \\phi)$:'+'\\n(%.3f$\\pi$, %.3f$\\pi$) \\n(%.3f$\\pi$, %.3f$\\pi$)'\n",
    "                %(thetas[0]/np.pi, phis[0]/np.pi, thetas[1]/np.pi, phis[1]/np.pi), \n",
    "                transform=ax.transAxes)\n",
    "ax.text(.01, .9, ('%dth bin source:\\n' %ss \n",
    "                  + r'$\\theta=$'+'%.3f$\\pi$'%(theta_ss.squeeze()[ss]/np.pi) \n",
    "                  + r', $\\phi=$'+'%.3f$\\pi$'% (phi_ss.squeeze()[ss]/np.pi) \n",
    "                #   + r', $\\iota=$'+'%.3f$\\pi$'% (iota_ss.squeeze()[ss]/np.pi)\n",
    "                  + r', $\\psi=$'+'%.3f$\\pi$'% (psi_ss.squeeze()[ss]/np.pi) \n",
    "                  + r', $\\Phi_0=$'+'%.3f$\\pi$'% (Phi0_ss.squeeze()[ss]/np.pi) \n",
    "                  + ', $h_{c,ss}[%d]=%.2e$' % (ss, hc_ss.squeeze()[ss])\n",
    "                ), \n",
    "        transform=ax.transAxes)\n",
    "ax.legend(loc='lower right')\n",
    "ax.set_ylim(0, 2.5)"
   ]
  },
  {
   "attachments": {},
   "cell_type": "markdown",
   "metadata": {},
   "source": [
    "# 6.. Move One Pulsar"
   ]
  },
  {
   "cell_type": "code",
   "execution_count": null,
   "metadata": {},
   "outputs": [],
   "source": [
    "theta_ss, phi_ss, iota_ss, psi_ss, Phi0_ss, hc_ss = reset_ss()\n",
    "npsrs, thetas, phis, sigmas, pulsars, spectra, scDeter = reset_pulsars()\n",
    "\n",
    "num = 100\n",
    "pphi_arr = np.linspace(0, 2*np.pi, num)\n",
    "SNR_det_of_pphi = np.zeros(hc_arr.shape)\n",
    "DP_det_of_pphi = np.zeros(hc_arr.shape)\n",
    "SNR_scD_of_pphi = np.zeros(hc_arr.shape)\n",
    "DP_scD_of_pphi = np.zeros(hc_arr.shape)\n",
    "for ii in range(num):\n",
    "    phis[1] = pphi_arr[ii]\n",
    "    npsrs, thetas, phis, sigmas, pulsars, spectra, scDeter = reset_pulsars(phis=phis)\n",
    "    DP_det_of_pphi[ii], temp_det = det.detect_ss(thetas, phis, sigmas, cad, dur, \n",
    "                                                        fobs, dfobs, hc_ss, hc_bg,\n",
    "                                ret_SNR = True, theta_ss=theta_ss, phi_ss=phi_ss, \n",
    "                                iota_ss=iota_ss, psi_ss=psi_ss, Phi0_ss=Phi0_ss)\n",
    "    SNR_det_of_pphi[ii] = temp_det[ss]\n",
    "    DP_scD_of_pphi[ii], temp_scD = det.detect_ss_scDeter(pulsars, scDeter, hc_ss,\n",
    "                                ret_SNR = True, theta_ss=theta_ss, phi_ss=phi_ss, \n",
    "                                iota_ss=iota_ss, psi_ss=psi_ss, Phi0_ss=Phi0_ss)\n",
    "    SNR_scD_of_pphi[ii] = temp_scD[ss]"
   ]
  },
  {
   "cell_type": "code",
   "execution_count": null,
   "metadata": {},
   "outputs": [],
   "source": [
    "fig, ax = plt.subplots(figsize=(7,5))\n",
    "ax.set_xlabel(r'2nd Pulsar Position $\\phi_{i=2} / \\pi$')\n",
    "ax.set_ylabel('SNR')\n",
    "ax.plot(pphi_arr/np.pi, SNR_det_of_pphi, label='SNR by holodeck.detstats', color='tab:purple')\n",
    "ax.plot(pphi_arr/np.pi, SNR_scD_of_pphi, label='SNR by hasasia.DeterSensitivityCurve', color='tab:green')\n",
    "ax.text(.01, .7, r'pulsars $(\\theta, \\phi)$:'+'\\n(%.3f$\\pi$, %.3f$\\pi$) \\n(%.3f$\\pi$, $\\phi_{i=2}$)'\n",
    "                %(thetas[0]/np.pi, phis[0]/np.pi, thetas[1]/np.pi), \n",
    "                transform=ax.transAxes)\n",
    "ax.text(.01, .9, ('%dth bin source:\\n' %ss \n",
    "                  + r'$\\theta=$'+'%.3f$\\pi$'%(theta_ss.squeeze()[ss]/np.pi) \n",
    "                  + r', $\\phi=$'+'%.3f$\\pi$'% (phi_ss.squeeze()[ss]/np.pi) \n",
    "                  + r', $\\iota=$'+'%.3f$\\pi$'% (iota_ss.squeeze()[ss]/np.pi)\n",
    "                  + r', $\\psi=$'+'%.3f$\\pi$'% (psi_ss.squeeze()[ss]/np.pi) \n",
    "                  + r', $\\Phi_0=$'+'%.3f$\\pi$'% (Phi0_ss.squeeze()[ss]/np.pi) \n",
    "                  + ', $h_{c,ss}[%d]=%.2e$' % (ss, hc_ss.squeeze()[ss])\n",
    "                ), \n",
    "        transform=ax.transAxes)\n",
    "ax.legend(loc='lower right')\n",
    "ax.set_ylim(0.5, 2.5)"
   ]
  },
  {
   "attachments": {},
   "cell_type": "markdown",
   "metadata": {},
   "source": [
    "# 7.. Move One Pulsar Theta"
   ]
  },
  {
   "cell_type": "code",
   "execution_count": null,
   "metadata": {},
   "outputs": [],
   "source": [
    "theta_ss, phi_ss, iota_ss, psi_ss, Phi0_ss, hc_ss = reset_ss()\n",
    "npsrs, thetas, phis, sigmas, pulsars, spectra, scDeter = reset_pulsars()\n",
    "\n",
    "num = 100\n",
    "ptheta_arr = np.linspace(0, np.pi, num)\n",
    "SNR_det_of_ptheta = np.zeros(hc_arr.shape)\n",
    "DP_det_of_ptheta = np.zeros(hc_arr.shape)\n",
    "SNR_scD_of_ptheta = np.zeros(hc_arr.shape)\n",
    "DP_scD_of_ptheta = np.zeros(hc_arr.shape)\n",
    "for ii in range(num):\n",
    "    thetas[1] = ptheta_arr[ii]\n",
    "    npsrs, thetas, phis, sigmas, pulsars, spectra, scDeter = reset_pulsars(thetas=thetas)\n",
    "    DP_det_of_ptheta[ii], temp_det = det.detect_ss(thetas, phis, sigmas, cad, dur, \n",
    "                                                        fobs, dfobs, hc_ss, hc_bg,\n",
    "                                ret_SNR = True, theta_ss=theta_ss, phi_ss=phi_ss, \n",
    "                                iota_ss=iota_ss, psi_ss=psi_ss, Phi0_ss=Phi0_ss)\n",
    "    SNR_det_of_ptheta[ii] = temp_det[ss]\n",
    "    DP_scD_of_ptheta[ii], temp_scD = det.detect_ss_scDeter(pulsars, scDeter, hc_ss,\n",
    "                                ret_SNR = True, theta_ss=theta_ss, phi_ss=phi_ss, \n",
    "                                iota_ss=iota_ss, psi_ss=psi_ss, Phi0_ss=Phi0_ss)\n",
    "    SNR_scD_of_ptheta[ii] = temp_scD[ss]"
   ]
  },
  {
   "cell_type": "code",
   "execution_count": null,
   "metadata": {},
   "outputs": [],
   "source": [
    "fig, ax = plt.subplots(figsize=(7,5))\n",
    "ax.set_xlabel(r'2nd Pulsar Position $\\theta_{i=2} / \\pi$')\n",
    "ax.set_ylabel('SNR')\n",
    "ax.plot(ptheta_arr/np.pi, SNR_det_of_ptheta, label='SNR by holodeck.detstats', color='tab:purple')\n",
    "ax.plot(ptheta_arr/np.pi, SNR_scD_of_ptheta, label='SNR by hasasia.DeterSensitivityCurve', color='tab:green')\n",
    "ax.text(.01, .7, r'pulsars $(\\theta, \\phi)$:'+'\\n(%.3f$\\pi$, %.3f$\\pi$)'%(thetas[0]/np.pi, phis[0]/np.pi)        \n",
    "        +' \\n('+r'$\\theta_{i=2}$,'+' %.3f$\\pi$)' % (phis[1]/np.pi), \n",
    "                transform=ax.transAxes)\n",
    "ax.text(.01, .9, ('%dth bin source:\\n' %ss \n",
    "                  + r'$\\theta=$'+'%.3f$\\pi$'%(theta_ss.squeeze()[ss]/np.pi) \n",
    "                  + r', $\\phi=$'+'%.3f$\\pi$'% (phi_ss.squeeze()[ss]/np.pi) \n",
    "                  + r', $\\iota=$'+'%.3f$\\pi$'% (iota_ss.squeeze()[ss]/np.pi)\n",
    "                  + r', $\\psi=$'+'%.3f$\\pi$'% (psi_ss.squeeze()[ss]/np.pi) \n",
    "                  + r', $\\Phi_0=$'+'%.3f$\\pi$'% (Phi0_ss.squeeze()[ss]/np.pi) \n",
    "                  + ', $h_{c,ss}[%d]=%.2e$' % (ss, hc_ss.squeeze()[ss])\n",
    "                ), \n",
    "        transform=ax.transAxes)\n",
    "ax.legend(loc='lower right')\n",
    "ax.set_ylim(0.5, 2.5)"
   ]
  },
  {
   "attachments": {},
   "cell_type": "markdown",
   "metadata": {},
   "source": [
    "# 8.. Change pulsar noise"
   ]
  },
  {
   "cell_type": "code",
   "execution_count": null,
   "metadata": {},
   "outputs": [],
   "source": [
    "theta_ss, phi_ss, iota_ss, psi_ss, Phi0_ss, hc_ss = reset_ss()\n",
    "npsrs, thetas, phis, sigmas, pulsars, spectra, scDeter = reset_pulsars()\n",
    "\n",
    "num = 100\n",
    "psigma_arr = np.geomspace(1e-10, 1e-3, num)\n",
    "SNR_det_of_psigma = np.zeros(hc_arr.shape)\n",
    "DP_det_of_psigma = np.zeros(hc_arr.shape)\n",
    "SNR_scD_of_psigma = np.zeros(hc_arr.shape)\n",
    "DP_scD_of_psigma = np.zeros(hc_arr.shape)\n",
    "for ii in range(num):\n",
    "    sigmas = np.array([psigma_arr[ii], psigma_arr[ii]])\n",
    "    npsrs, thetas, phis, sigmas, pulsars, spectra, scDeter = reset_pulsars(sigmas=sigmas)\n",
    "    DP_det_of_psigma[ii], temp_det = det.detect_ss(thetas, phis, sigmas, cad, dur, \n",
    "                                                        fobs, dfobs, hc_ss, hc_bg,\n",
    "                                ret_SNR = True, theta_ss=theta_ss, phi_ss=phi_ss, \n",
    "                                iota_ss=iota_ss, psi_ss=psi_ss, Phi0_ss=Phi0_ss)\n",
    "    SNR_det_of_psigma[ii] = temp_det[ss]\n",
    "    DP_scD_of_psigma[ii], temp_scD = det.detect_ss_scDeter(pulsars, scDeter, hc_ss,\n",
    "                                ret_SNR = True, theta_ss=theta_ss, phi_ss=phi_ss, \n",
    "                                iota_ss=iota_ss, psi_ss=psi_ss, Phi0_ss=Phi0_ss)\n",
    "    SNR_scD_of_psigma[ii] = temp_scD[ss]"
   ]
  },
  {
   "cell_type": "code",
   "execution_count": null,
   "metadata": {},
   "outputs": [],
   "source": [
    "fig, ax = plt.subplots(figsize=(7,5))\n",
    "ax.set_xlabel(r'Pulsar white noise $\\sigma$ (s)')\n",
    "ax.set_ylabel('SNR')\n",
    "ax.loglog(psigma_arr, SNR_det_of_psigma, label='SNR by holodeck.detstats', color='tab:purple')\n",
    "ax.plot(psigma_arr, SNR_scD_of_psigma, label='SNR by hasasia.DeterSensitivityCurve', color='tab:green')\n",
    "ax.text(.01, .7, r'pulsars $(\\theta, \\phi)$:'+'\\n(%.3f$\\pi$, %.3f$\\pi$) \\n(%.3f$\\pi$, %.3f$\\pi$)'\n",
    "                %(thetas[0]/np.pi, phis[0]/np.pi, thetas[1]/np.pi, phis[1]/np.pi), \n",
    "                transform=ax.transAxes)\n",
    "ax.text(.01, .9, ('%dth bin source:\\n' %ss \n",
    "                  + r'$\\theta=$'+'%.3f$\\pi$'%(theta_ss.squeeze()[ss]/np.pi) \n",
    "                  + r', $\\phi=$'+'%.3f$\\pi$'% (phi_ss.squeeze()[ss]/np.pi) \n",
    "                  + r', $\\iota=$'+'%.3f$\\pi$'% (iota_ss.squeeze()[ss]/np.pi)\n",
    "                  + r', $\\psi=$'+'%.3f$\\pi$'% (psi_ss.squeeze()[ss]/np.pi) \n",
    "                  + r', $\\Phi_0=$'+'%.3f$\\pi$'% (Phi0_ss.squeeze()[ss]/np.pi) \n",
    "                  + ', $h_{c,ss}[%d]=%.2e$' % (ss, hc_ss.squeeze()[ss])\n",
    "                ), \n",
    "        transform=ax.transAxes)\n",
    "ax.legend(loc='lower right')\n",
    "# ax.set_ylim(0.5, 2.5)"
   ]
  },
  {
   "attachments": {},
   "cell_type": "markdown",
   "metadata": {},
   "source": [
    "# for sources at all frequencies"
   ]
  },
  {
   "cell_type": "code",
   "execution_count": null,
   "metadata": {},
   "outputs": [],
   "source": [
    "dp_det, snr_det = det.detect_ss(thetas, phis, sigmas, cad, dur, fobs, dfobs, hc_ss, hc_bg,\n",
    "                                ret_SNR = True, theta_ss=theta_ss, phi_ss=phi_ss, \n",
    "                                iota_ss=iota_ss, psi_ss=psi_ss, Phi0_ss=Phi0_ss)\n",
    "print(dp_det, snr_det.shape, snr_det.squeeze())\n",
    "dp_scD, snr_scD = det.detect_ss_scDeter(pulsars, scDeter, hc_ss,\n",
    "                                ret_SNR = True, theta_ss=theta_ss, phi_ss=phi_ss, \n",
    "                                iota_ss=iota_ss, psi_ss=psi_ss, Phi0_ss=Phi0_ss)\n",
    "print(dp_scD, snr_scD.shape, snr_scD.squeeze())\n",
    "\n",
    "plot_snr()\n"
   ]
  },
  {
   "cell_type": "code",
   "execution_count": null,
   "metadata": {},
   "outputs": [],
   "source": [
    "# reset_ss()\n",
    "hc_ss[ss,0,0] = 4*2.64e-15"
   ]
  },
  {
   "cell_type": "code",
   "execution_count": null,
   "metadata": {},
   "outputs": [],
   "source": [
    "dp_det, snr_det = det.detect_ss(thetas, phis, sigmas, cad, dur, fobs, dfobs, hc_ss, hc_bg,\n",
    "                                ret_SNR = True, theta_ss=theta_ss, phi_ss=phi_ss, \n",
    "                                iota_ss=iota_ss, psi_ss=psi_ss, Phi0_ss=Phi0_ss)\n",
    "print(dp_det, snr_det.shape, snr_det.squeeze())\n",
    "dp_scD, snr_scD = det.detect_ss_scDeter(pulsars, scDeter, hc_ss,\n",
    "                                ret_SNR = True, theta_ss=theta_ss, phi_ss=phi_ss, \n",
    "                                iota_ss=iota_ss, psi_ss=psi_ss, Phi0_ss=Phi0_ss)\n",
    "print(dp_scD, snr_scD.shape, snr_scD.squeeze())\n",
    "\n",
    "plot_snr()\n"
   ]
  },
  {
   "attachments": {},
   "cell_type": "markdown",
   "metadata": {},
   "source": [
    "# Isolate inclination"
   ]
  },
  {
   "cell_type": "code",
   "execution_count": null,
   "metadata": {},
   "outputs": [],
   "source": [
    "reset_ss()\n",
    "iota_ss[ss,0,0] = np.pi/2\n",
    "p_det, snr_det = det.detect_ss(thetas, phis, sigmas, cad, dur, fobs, dfobs, hc_ss, hc_bg,\n",
    "                                ret_SNR = True, theta_ss=theta_ss, phi_ss=phi_ss, \n",
    "                                iota_ss=iota_ss, psi_ss=psi_ss, Phi0_ss=Phi0_ss)\n",
    "print(dp_det, snr_det.shape, snr_det.squeeze())\n",
    "dp_scD, snr_scD = det.detect_ss_scDeter(pulsars, scDeter, hc_ss,\n",
    "                                ret_SNR = True, theta_ss=theta_ss, phi_ss=phi_ss, \n",
    "                                iota_ss=iota_ss, psi_ss=psi_ss, Phi0_ss=Phi0_ss)\n",
    "print(dp_scD, snr_scD.shape, snr_scD.squeeze())\n",
    "\n",
    "plot_snr()\n"
   ]
  },
  {
   "cell_type": "code",
   "execution_count": null,
   "metadata": {},
   "outputs": [],
   "source": []
  }
 ],
 "metadata": {
  "kernelspec": {
   "display_name": "holo310",
   "language": "python",
   "name": "python3"
  },
  "language_info": {
   "codemirror_mode": {
    "name": "ipython",
    "version": 3
   },
   "file_extension": ".py",
   "mimetype": "text/x-python",
   "name": "python",
   "nbconvert_exporter": "python",
   "pygments_lexer": "ipython3",
   "version": "3.10.10"
  }
 },
 "nbformat": 4,
 "nbformat_minor": 2
}
