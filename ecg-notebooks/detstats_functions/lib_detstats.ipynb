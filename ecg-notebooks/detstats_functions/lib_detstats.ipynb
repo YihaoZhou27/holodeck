{
 "cells": [
  {
   "cell_type": "code",
   "execution_count": 1,
   "metadata": {},
   "outputs": [],
   "source": [
    "import numpy as np\n",
    "import matplotlib.pyplot as plt\n",
    "import matplotlib.cm as cm\n",
    "import scipy as sp\n",
    "import h5py\n",
    "\n",
    "import holodeck as holo\n",
    "import holodeck.single_sources as ss\n",
    "import holodeck.detstats as det\n",
    "from holodeck.constants import YR, MSOL\n",
    "from holodeck import utils\n",
    "\n",
    "\n",
    "import hasasia.sensitivity as hsen\n",
    "import hasasia.sim as hsim"
   ]
  },
  {
   "attachments": {},
   "cell_type": "markdown",
   "metadata": {},
   "source": [
    "## Goal:\n",
    "Pass in an hdf5 file from a library of param spaces and return the average detection probability.\n",
    "\n",
    "## Steps:\n",
    "1) Read in file: fobs, hc_ss, hc_bg\n",
    "2) Produce make a PTA set-up calibrated to 50% hc_bg DP?\n",
    "3) Given pulsar setup and hdf file, calculate average ss DP and average bg DP\n",
    "    * Calculate bg DP for each of R strain realizations\n",
    "    * Build S sky realizations\n",
    "    * Calculate ss DP for each of S sky realizations for each of R strain realizations.\n"
   ]
  },
  {
   "cell_type": "code",
   "execution_count": 59,
   "metadata": {},
   "outputs": [
    {
     "name": "stdout",
     "output_type": "stream",
     "text": [
      "['bgpar', 'dfobs', 'fobs', 'hc_bg', 'hc_ss', 'pta_cad', 'pta_dur', 'sample_params', 'sspar']\n"
     ]
    }
   ],
   "source": [
    "ssfile = h5py.File('/Users/emigardiner/GWs/holodeck/output/2023-05-09-mbp-ss12_n10_r10_f20_l5_p1_s10/ss_lib.hdf5', 'r')\n",
    "print(list(ssfile.keys()))\n",
    "# print(ssfile['pta_dur'][0])\n",
    "fobs = ssfile['fobs'][:]\n",
    "dfobs = ssfile['dfobs'][:]\n",
    "dur = ssfile['pta_dur'][0]\n",
    "cad = ssfile['pta_cad'][0]\n",
    "hc_ss_all = ssfile['hc_ss'][...]\n",
    "hc_bg_all = ssfile['hc_bg'][...]\n",
    "ssfile.close()"
   ]
  },
  {
   "attachments": {},
   "cell_type": "markdown",
   "metadata": {},
   "source": [
    "## single realization example"
   ]
  },
  {
   "attachments": {},
   "cell_type": "markdown",
   "metadata": {},
   "source": [
    "### build PTA\n",
    "This is just used to store theta, phi, and sigmas of the pta."
   ]
  },
  {
   "cell_type": "code",
   "execution_count": 61,
   "metadata": {},
   "outputs": [
    {
     "name": "stdout",
     "output_type": "stream",
     "text": [
      "[9.88399495e-10 9.88399495e-10 9.88399495e-10 9.88399495e-10\n",
      " 9.88399495e-10 9.88399495e-10 9.88399495e-10 9.88399495e-10\n",
      " 9.88399495e-10 9.88399495e-10 9.88399495e-10 9.88399495e-10\n",
      " 9.88399495e-10 9.88399495e-10 9.88399495e-10 9.88399495e-10\n",
      " 9.88399495e-10 9.88399495e-10 9.88399495e-10 9.88399495e-10]\n"
     ]
    }
   ],
   "source": []
  },
  {
   "attachments": {},
   "cell_type": "markdown",
   "metadata": {},
   "source": [
    "## Step 3: Given pulsar setup, and hdf file, calculate average ss DP\n",
    "\n",
    "Parameters and functions needed:\n",
    "* def detect_bg_pta(\n",
    "    - pulsars, \n",
    "    - spectra, \n",
    "    - cad, \n",
    "    - hc_bg, \n",
    "    - alpha_0=0.001, \n",
    "    - ret_all = False):\n",
    "* def detect_ss_pta(\n",
    "    - pulsars, \n",
    "    - cad, \n",
    "    - dur, \n",
    "    - fobs,\n",
    "    - dfobs, \n",
    "    - hc_ss, \n",
    "    - hc_bg\n",
    "    - theta_ss=None, \n",
    "    - phi_ss=None, \n",
    "    - Phi0_ss=None, \n",
    "    - iota_ss=None, \n",
    "    - psi_ss=None):"
   ]
  },
  {
   "cell_type": "markdown",
   "metadata": {},
   "source": []
  }
 ],
 "metadata": {
  "kernelspec": {
   "display_name": "holo310",
   "language": "python",
   "name": "python3"
  },
  "language_info": {
   "codemirror_mode": {
    "name": "ipython",
    "version": 3
   },
   "file_extension": ".py",
   "mimetype": "text/x-python",
   "name": "python",
   "nbconvert_exporter": "python",
   "pygments_lexer": "ipython3",
   "version": "3.10.10"
  },
  "orig_nbformat": 4
 },
 "nbformat": 4,
 "nbformat_minor": 2
}
