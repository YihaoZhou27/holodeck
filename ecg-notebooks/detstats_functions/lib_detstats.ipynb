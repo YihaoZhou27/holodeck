{
 "cells": [
  {
   "cell_type": "code",
   "execution_count": 1,
   "metadata": {},
   "outputs": [],
   "source": [
    "import numpy as np\n",
    "import matplotlib.pyplot as plt\n",
    "import matplotlib.cm as cm\n",
    "import scipy as sp\n",
    "import h5py\n",
    "\n",
    "import holodeck as holo\n",
    "import holodeck.single_sources as ss\n",
    "from holodeck.constants import YR, MSOL\n",
    "from holodeck import utils, detstats\n",
    "\n",
    "\n",
    "import hasasia.sensitivity as hsen\n",
    "import hasasia.sim as hsim"
   ]
  },
  {
   "attachments": {},
   "cell_type": "markdown",
   "metadata": {},
   "source": [
    "## Goal:\n",
    "Pass in an hdf5 file from a library of param spaces and return the average detection probability.\n",
    "\n",
    "## Steps:\n",
    "1) Read in file: fobs, hc_ss, hc_bg\n",
    "2) Produce make a PTA set-up calibrated to 50% hc_bg DP?\n",
    "3) Given pulsar setup and hdf file, calculate average ss DP and average bg DP\n",
    "    * Calculate bg DP for each of R strain realizations\n",
    "    * Build S sky realizations\n",
    "    * Calculate ss DP for each of S sky realizations for each of R strain realizations.\n"
   ]
  },
  {
   "attachments": {},
   "cell_type": "markdown",
   "metadata": {},
   "source": [
    "# Step 1. Read in hdf file"
   ]
  },
  {
   "cell_type": "code",
   "execution_count": 6,
   "metadata": {},
   "outputs": [
    {
     "name": "stdout",
     "output_type": "stream",
     "text": [
      "['bgpar', 'dfobs', 'fobs', 'hc_bg', 'hc_ss', 'pta_cad', 'pta_dur', 'sample_params', 'sspar']\n"
     ]
    }
   ],
   "source": [
    "ssfile = h5py.File('/Users/emigardiner/GWs/holodeck/output/2023-05-09-mbp-ss13_n10_r10_f20_l5_p1_s10/ss_lib.hdf5', 'r')\n",
    "print(list(ssfile.keys()))\n",
    "# print(ssfile['pta_dur'][0])\n",
    "fobs = ssfile['fobs'][:]\n",
    "dfobs = ssfile['dfobs'][:]\n",
    "dur = ssfile['pta_dur'][0]\n",
    "cad = ssfile['pta_cad'][0]\n",
    "hc_ss_all = ssfile['hc_ss'][...]\n",
    "hc_bg_all = ssfile['hc_bg'][...]\n",
    "nsamp = len(hc_bg_all)\n",
    "nreals = len(hc_bg_all[0,0])\n",
    "ssfile.close()"
   ]
  },
  {
   "cell_type": "code",
   "execution_count": 8,
   "metadata": {},
   "outputs": [
    {
     "name": "stdout",
     "output_type": "stream",
     "text": [
      "samples (N): 10 \n",
      "reals (R): 10 \n",
      "N,F,R,L: (10, 20, 10, 5)\n"
     ]
    }
   ],
   "source": [
    "print('samples (N):', nsamp, '\\nreals (R):', nreals, '\\nN,F,R,L:', hc_ss_all.shape)"
   ]
  },
  {
   "attachments": {},
   "cell_type": "markdown",
   "metadata": {},
   "source": [
    "## single realization example"
   ]
  },
  {
   "attachments": {},
   "cell_type": "markdown",
   "metadata": {},
   "source": [
    "# Step 2. build PTA\n",
    "Here I am doing this randomly, but really it should be calibrated to hc_bg. Unsure how to do this, if it should be calibrated independently for each strain realization (R), a single pta should be used for all calculations, or positions etc. should be randomized for each iteration. We could even have pta realizations, on top of the strain realizations and the (single source) sky realizations, but that sounds like a nightmare.\n",
    "\n",
    "The pulsars object is used to store thetas, phis, and sigmas of the pta. With this, use the detect_bg_pta(pulsars, spectra,...) and detect_ss_pta(pulsars,...) functions in detstats. Alternatively, you can just pass in the phis, thetas, and sigmas array to the detect_bg() and detect_ss() functions."
   ]
  },
  {
   "cell_type": "code",
   "execution_count": 25,
   "metadata": {},
   "outputs": [],
   "source": [
    "npsrs = 40\n",
    "phis = np.random.uniform(0, 2*np.pi, size = npsrs)\n",
    "thetas = np.random.uniform(np.pi/2, np.pi/2, size = npsrs)\n",
    "sigmas = np.ones_like(phis)*1e-6\n",
    "# build sim_pta\n",
    "pulsars = hsim.sim_pta(timespan=dur/YR, cad=1/(cad/YR), sigma=sigmas,\n",
    "                    phi=phis, theta=thetas)\n"
   ]
  },
  {
   "attachments": {},
   "cell_type": "markdown",
   "metadata": {},
   "source": [
    "# Step 3. Calculate detstats\n",
    "Given pulsar setup, and hdf file, calculate average ss DP\n",
    "\n",
    "Parameters and functions needed:\n",
    "* def detect_bg_pta(\n",
    "    - pulsars, \n",
    "    - fobs, \n",
    "    - cad, \n",
    "    - hc_bg, \n",
    "    - alpha_0=0.001, \n",
    "    - ret_all = False):\n",
    "* def detect_ss_pta(\n",
    "    - pulsars, \n",
    "    - cad, \n",
    "    - dur, \n",
    "    - fobs,\n",
    "    - dfobs, \n",
    "    - hc_ss, \n",
    "    - hc_bg\n",
    "    - theta_ss\n",
    "    - phi_ss=None, \n",
    "    - Phi0_ss=None, \n",
    "    - iota_ss=None, \n",
    "    - psi_ss=None):"
   ]
  },
  {
   "attachments": {},
   "cell_type": "markdown",
   "metadata": {},
   "source": [
    "## 3.1 BG DP"
   ]
  },
  {
   "cell_type": "code",
   "execution_count": 5,
   "metadata": {},
   "outputs": [
    {
     "name": "stdout",
     "output_type": "stream",
     "text": [
      "Sh_bg: (20, 10)\n",
      "noise: (40,)\n",
      "sigma_0B: (10,)\n",
      "sigma_1B: (10,)\n",
      "mu_1B: (10,)\n",
      "dp_bg (10,)\n",
      "[1. 1. 1. 1. 1. 1. 1. 1. 1. 1.]\n"
     ]
    }
   ],
   "source": [
    "dp = detstats.detect_bg(thetas, phis, sigmas, fobs, cad, hc_bg_all[0])\n",
    "print(dp)"
   ]
  },
  {
   "cell_type": "code",
   "execution_count": 15,
   "metadata": {},
   "outputs": [
    {
     "data": {
      "image/png": "[encoded data removed]",
      "text/plain": [
       "<Figure size 640x480 with 1 Axes>"
      ]
     },
     "metadata": {},
     "output_type": "display_data"
    }
   ],
   "source": [
    "dp_bg_all = np.zeros((nsamp, nreals)) # (N,R)\n",
    "for nn in range(nsamp):\n",
    "    dp_bg_all[nn,:] = detstats.detect_bg_pta(pulsars, fobs, cad, hc_bg_all[nn])\n",
    "for nn in range(nsamp):\n",
    "    plt.plot(np.arange(nreals), dp_bg_all[nn,:])"
   ]
  },
  {
   "cell_type": "markdown",
   "metadata": {},
   "source": []
  },
  {
   "attachments": {},
   "cell_type": "markdown",
   "metadata": {},
   "source": [
    "# Appendix: Regular Old Detection Statistic Calculation"
   ]
  },
  {
   "attachments": {},
   "cell_type": "markdown",
   "metadata": {},
   "source": [
    "### A.1 build sam and calculate gws"
   ]
  },
  {
   "cell_type": "code",
   "execution_count": 13,
   "metadata": {},
   "outputs": [
    {
     "name": "stdout",
     "output_type": "stream",
     "text": [
      "SS 1: \n",
      "Current memory usage: max=0.35 GB, RSS=0.35 GB, VMS=391.14 GB\n",
      "20:55:50 INFO : zero_coalesced=True, zero_stalled=False [sam.py:dynamic_binary_number]\n",
      "20:55:50 INFO : Stalled SAM bins based on GMT: 2.58e+05/6.53e+05 = 3.96e-01 [sam.py:static_binary_density]\n",
      "20:55:50 INFO : Adding MMbulge scatter (3.4000e-01) [sam.py:static_binary_density]\n",
      "20:55:50 INFO : \tdens bef: (0.00e+00, 0.00e+00, 3.29e-61, 8.58e-04, 1.48e-02, 2.79e-02, 4.47e-02) [sam.py:static_binary_density]\n",
      "20:56:06 INFO : Scatter added after 15.632978 sec [sam.py:static_binary_density]\n",
      "20:56:06 INFO : \tdens aft: (6.72e-29, 2.61e-15, 3.78e-09, 1.03e-03, 1.50e-02, 2.80e-02, 4.26e-02) [sam.py:static_binary_density]\n",
      "20:56:06 INFO : \tmass: 8.56e-02 ==> 8.54e-02 || change = -1.7939e-03 [sam.py:static_binary_density]\n",
      "20:56:06 INFO : zeroing out 2.58e+05/6.53e+05 = 3.96e-01 systems stalled from GMT [sam.py:static_binary_density]\n",
      "20:56:06 INFO : fraction of coalesced binaries: 3.28e+06/2.41e+07 = 1.36e-01 [sam.py:dynamic_binary_number]\n",
      "20:56:06 INFO : stalled binaries are not being accounted for in `dynamic_binary_number`! [sam.py:dynamic_binary_number]\n",
      "SS 2: \n",
      "Current memory usage: max=1.63 GB, RSS=0.74 GB, VMS=391.75 GB\n",
      "SS 3: \n",
      "Current memory usage: max=1.78 GB, RSS=0.91 GB, VMS=391.93 GB\n",
      "20:56:11 WARNING : Using `redz_prime` for redshift (includes galaxy merger time, but not evolution time) [sam.py:ss_gwb]\n",
      "SS 4: \n",
      "Current memory usage: max=2.75 GB, RSS=1.71 GB, VMS=392.73 GB\n"
     ]
    }
   ],
   "source": [
    "dur = 15.0*YR\n",
    "cad = .2*YR\n",
    "fobs = utils.nyquist_freqs(dur,cad)\n",
    "fobs_edges = utils.nyquist_freqs_edges(dur,cad)\n",
    "dfobs = np.diff(fobs_edges)\n",
    "sam = holo.sam.Semi_Analytic_Model() \n",
    "# sam = holo.sam.Semi_Analytic_Model(mtot=(1.0e4*MSOL, 1.0e11*MSOL, 20), mrat=(1e-3, 1.0, 20), redz=(1e-3, 10.0, 20))  # faster version\n",
    "hc_ss_one, hc_bg_one = sam.ss_gwb(fobs_edges, realize=20, loudest=5)"
   ]
  },
  {
   "attachments": {},
   "cell_type": "markdown",
   "metadata": {},
   "source": [
    "### A.2 build pta"
   ]
  },
  {
   "cell_type": "code",
   "execution_count": 14,
   "metadata": {},
   "outputs": [],
   "source": [
    "npsrs = 40\n",
    "phis = np.random.uniform(0, 2*np.pi, size = npsrs)\n",
    "thetas = np.random.uniform(np.pi/2, np.pi/2, size = npsrs)\n",
    "sigmas = np.ones_like(phis)*5.2e-6\n",
    "# build sim_pta\n",
    "pulsars = hsim.sim_pta(timespan=dur/YR, cad=1/(cad/YR), sigma=sigmas,\n",
    "                    phi=phis, theta=thetas)\n"
   ]
  },
  {
   "attachments": {},
   "cell_type": "markdown",
   "metadata": {},
   "source": [
    "### A.3 calculate bg DP"
   ]
  },
  {
   "cell_type": "code",
   "execution_count": 15,
   "metadata": {},
   "outputs": [
    {
     "name": "stdout",
     "output_type": "stream",
     "text": [
      "Sh_bg: (37, 20)\n",
      "noise: (40,)\n",
      "sigma_0B: (20,)\n",
      "sigma_1B: (20,)\n",
      "mu_1B: (20,)\n",
      "dp_bg (20,)\n",
      "[0.44466558 0.33913061 0.36260412 0.34920849 0.35000785 0.40633811\n",
      " 0.39771231 0.44341833 0.30930974 0.40054486 0.41737916 0.39769583\n",
      " 0.35561333 0.3059527  0.3310121  0.34130019 0.38849313 0.41343036\n",
      " 0.45701499 0.33719282]\n",
      "[0.44466558 0.33913061 0.36260412 0.34920849 0.35000785 0.40633811\n",
      " 0.39771231 0.44341833 0.30930974 0.40054486 0.41737916 0.39769583\n",
      " 0.35561333 0.3059527  0.3310121  0.34130019 0.38849313 0.41343036\n",
      " 0.45701499 0.33719282]\n"
     ]
    },
    {
     "data": {
      "text/plain": [
       "Text(0.5, 1.0, 'F,R,L =(37, 20, 5)\\nsigmas=5.20e-06')"
      ]
     },
     "execution_count": 15,
     "metadata": {},
     "output_type": "execute_result"
    },
    {
     "data": {
      "image/png": "[encoded data removed]",
      "text/plain": [
       "<Figure size 640x480 with 1 Axes>"
      ]
     },
     "metadata": {},
     "output_type": "display_data"
    }
   ],
   "source": [
    "dp_bg1 = detstats.detect_bg_pta(pulsars, fobs, cad, hc_bg_one)\n",
    "dp_bg2 = detstats.detect_bg(thetas, phis, sigmas, fobs, cad, hc_bg_one)\n",
    "plt.scatter(dp_bg1, dp_bg2)\n",
    "print(dp_bg1)\n",
    "print(dp_bg2)\n",
    "plt.xlabel('detect_bg_pta')\n",
    "plt.ylabel('detect_bg')\n",
    "plt.title(('F,R,L ='+ str(hc_ss_one.shape)+'\\nsigmas=%.2e' %sigmas[0]))\n"
   ]
  },
  {
   "attachments": {},
   "cell_type": "markdown",
   "metadata": {},
   "source": [
    "### A.4 build ss sky realizations"
   ]
  },
  {
   "cell_type": "code",
   "execution_count": 16,
   "metadata": {},
   "outputs": [
    {
     "name": "stdout",
     "output_type": "stream",
     "text": [
      "(37, 20, 5)\n"
     ]
    }
   ],
   "source": [
    "print(hc_ss_one.shape)"
   ]
  },
  {
   "cell_type": "code",
   "execution_count": 17,
   "metadata": {},
   "outputs": [
    {
     "name": "stdout",
     "output_type": "stream",
     "text": [
      "(37,)\n"
     ]
    }
   ],
   "source": [
    "S = 15\n",
    "F = len(hc_ss_one)\n",
    "print(dfobs.shape)\n",
    "L = len(hc_ss_one[0,0])\n",
    "theta_ss = np.random.uniform(0, np.pi, size=F*S*L).reshape(F,S,L)\n",
    "phi_ss = np.random.uniform(0,2*np.pi, size=theta_ss.size).reshape(theta_ss.shape)\n",
    "Phi0_ss = np.random.uniform(0,2*np.pi, size=theta_ss.size).reshape(theta_ss.shape)\n",
    "iota_ss = np.random.uniform(0, np.pi, size = theta_ss.size).reshape(theta_ss.shape)\n",
    "psi_ss = np.random.uniform(0, np.pi, size = theta_ss.size).reshape(theta_ss.shape)"
   ]
  },
  {
   "attachments": {},
   "cell_type": "markdown",
   "metadata": {},
   "source": [
    "### A.5 calculate ss DP"
   ]
  },
  {
   "cell_type": "code",
   "execution_count": 18,
   "metadata": {},
   "outputs": [
    {
     "name": "stdout",
     "output_type": "stream",
     "text": [
      "amp (1, 37, 20, 1, 5)\n",
      "a_pol (1, 37, 1, 15, 5)\n",
      "b_pol (1, 37, 1, 15, 5)\n",
      "Phi_T (37, 15, 5)\n",
      "Phi_T (1, 37, 1, 15, 5)\n",
      "Phi_0 (1, 37, 1, 15, 5)\n",
      "freqs (1, 37, 1, 1, 1)\n",
      "gamma_ssi[0,4,13,0] is nan, setting to 0.\n",
      "gamma_ssi[0,12,0,0] is nan, setting to 0.\n",
      "gamma_ssi[0,12,1,0] is nan, setting to 0.\n",
      "gamma_ssi[0,12,2,0] is nan, setting to 0.\n",
      "gamma_ssi[0,12,4,0] is nan, setting to 0.\n",
      "gamma_ssi[0,12,5,0] is nan, setting to 0.\n",
      "gamma_ssi[0,12,9,0] is nan, setting to 0.\n",
      "gamma_ssi[0,12,10,0] is nan, setting to 0.\n",
      "gamma_ssi[0,12,11,0] is nan, setting to 0.\n",
      "gamma_ssi[0,12,12,0] is nan, setting to 0.\n",
      "gamma_ssi[0,12,13,0] is nan, setting to 0.\n",
      "gamma_ssi[0,12,14,0] is nan, setting to 0.\n",
      "amp (1, 37, 20, 1, 5)\n",
      "a_pol (1, 37, 1, 15, 5)\n",
      "b_pol (1, 37, 1, 15, 5)\n",
      "Phi_T (37, 15, 5)\n",
      "Phi_T (1, 37, 1, 15, 5)\n",
      "Phi_0 (1, 37, 1, 15, 5)\n",
      "freqs (1, 37, 1, 1, 1)\n",
      "gamma_ssi[0,4,13,0] is nan, setting to 0.\n",
      "gamma_ssi[0,12,0,0] is nan, setting to 0.\n",
      "gamma_ssi[0,12,1,0] is nan, setting to 0.\n",
      "gamma_ssi[0,12,2,0] is nan, setting to 0.\n",
      "gamma_ssi[0,12,4,0] is nan, setting to 0.\n",
      "gamma_ssi[0,12,5,0] is nan, setting to 0.\n",
      "gamma_ssi[0,12,9,0] is nan, setting to 0.\n",
      "gamma_ssi[0,12,10,0] is nan, setting to 0.\n",
      "gamma_ssi[0,12,11,0] is nan, setting to 0.\n",
      "gamma_ssi[0,12,12,0] is nan, setting to 0.\n",
      "gamma_ssi[0,12,13,0] is nan, setting to 0.\n",
      "gamma_ssi[0,12,14,0] is nan, setting to 0.\n"
     ]
    }
   ],
   "source": [
    "dp_ss1 = detstats.detect_ss_pta(pulsars, cad, dur, fobs, dfobs, hc_ss_one, hc_bg_one,\n",
    "                                theta_ss=theta_ss, phi_ss=phi_ss, Phi0_ss=Phi0_ss, iota_ss=iota_ss, psi_ss=psi_ss)\n",
    "dp_ss2 = detstats.detect_ss(thetas, phis, sigmas, cad, dur, fobs, dfobs, hc_ss_one, hc_bg_one,\n",
    "                                theta_ss=theta_ss, phi_ss=phi_ss, Phi0_ss=Phi0_ss, iota_ss=iota_ss, psi_ss=psi_ss)"
   ]
  },
  {
   "cell_type": "code",
   "execution_count": 22,
   "metadata": {},
   "outputs": [
    {
     "name": "stdout",
     "output_type": "stream",
     "text": [
      "(20, 15) 1.01e-03, 1.05e-03, 1.11e-03, 1.48e-03, 1.09e-02, 7.26e-02, 4.75e-01\n",
      "(20, 15) 1.01e-03, 1.05e-03, 1.11e-03, 1.48e-03, 1.09e-02, 7.26e-02, 4.75e-01\n"
     ]
    },
    {
     "data": {
      "text/plain": [
       "Text(0.5, 1.0, 'F,R,L =(37, 20, 5)\\nsigmas=5.20e-06')"
      ]
     },
     "execution_count": 22,
     "metadata": {},
     "output_type": "execute_result"
    },
    {
     "data": {
      "image/png": "[encoded data removed]",
      "text/plain": [
       "<Figure size 640x480 with 1 Axes>"
      ]
     },
     "metadata": {},
     "output_type": "display_data"
    }
   ],
   "source": [
    "plt.scatter(dp_ss1, dp_ss2)\n",
    "print(dp_ss1.shape, utils.stats(dp_ss1))\n",
    "print(dp_ss2.shape, utils.stats(dp_ss2))\n",
    "plt.xlabel('detect_ss_pta')\n",
    "plt.ylabel('detect_ss')\n",
    "plt.title(('F,R,L ='+ str(hc_ss_one.shape)+'\\nsigmas=%.2e' %sigmas[0]))\n"
   ]
  },
  {
   "cell_type": "code",
   "execution_count": null,
   "metadata": {},
   "outputs": [],
   "source": []
  }
 ],
 "metadata": {
  "kernelspec": {
   "display_name": "holo310",
   "language": "python",
   "name": "python3"
  },
  "language_info": {
   "codemirror_mode": {
    "name": "ipython",
    "version": 3
   },
   "file_extension": ".py",
   "mimetype": "text/x-python",
   "name": "python",
   "nbconvert_exporter": "python",
   "pygments_lexer": "ipython3",
   "version": "3.10.10"
  },
  "orig_nbformat": 4
 },
 "nbformat": 4,
 "nbformat_minor": 2
}
