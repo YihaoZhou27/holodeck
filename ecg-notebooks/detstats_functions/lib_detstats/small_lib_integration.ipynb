{
 "cells": [
  {
   "cell_type": "code",
   "execution_count": null,
   "metadata": {},
   "outputs": [],
   "source": [
    "%reload_ext autoreload\n",
    "%autoreload 2\n",
    "from importlib import reload\n",
    "\n",
    "import holodeck.detstats as ds\n",
    "import h5py\n",
    "\n",
    "import numpy as np\n",
    "import matplotlib.pyplot as plt"
   ]
  },
  {
   "attachments": {},
   "cell_type": "markdown",
   "metadata": {},
   "source": [
    "# Calculate Library Detstats"
   ]
  },
  {
   "cell_type": "code",
   "execution_count": null,
   "metadata": {},
   "outputs": [],
   "source": [
    "# hdf_name = '/Users/emigardiner/GWs/holodeck/output/2023-05-09-mbp-ss14_n40_r10_f20_d17.5_l5_p0/ss_lib.hdf5'\n",
    "# detstats_path = '/Users/emigardiner/GWs/holodeck/output/2023-05-09-mbp-ss14_n40_r10_f20_d17.5_l5_p0/detstats'\n",
    "\n",
    "# npsrs = 40\n",
    "# sigma = 1e-7\n",
    "# output_dir = detstats_path+'/ds2_psrs40_sigma1e-7'"
   ]
  },
  {
   "cell_type": "code",
   "execution_count": null,
   "metadata": {},
   "outputs": [],
   "source": [
    "# vals = ds.detect_lib(hdf_name, output_dir, npsrs, sigma, \n",
    "#                      nskies=25, thresh=0.5, plot=True, debug=True)"
   ]
  },
  {
   "attachments": {},
   "cell_type": "markdown",
   "metadata": {},
   "source": [
    "# Read in Library Detstats"
   ]
  },
  {
   "cell_type": "code",
   "execution_count": null,
   "metadata": {},
   "outputs": [],
   "source": [
    "sspath = '/Users/emigardiner/GWs/holodeck/output/2023-05-09-mbp-ss15_n100_r30_f100_d15_l5_p0/'\n",
    "hdfname = sspath+'ss_lib.hdf5'\n",
    "ssfile = h5py.File(hdfname, 'r')\n",
    "print(list(ssfile.keys()))\n",
    "hc_ss = ssfile['hc_ss'][...]\n",
    "hc_bg = ssfile['hc_bg'][...]\n",
    "ssfile.close()\n",
    "\n",
    "print('N,F,R,L:', hc_ss.shape) \n",
    "shape = hc_ss.shape\n",
    "N, F, R, L = shape[0], shape[1], shape[2], shape[3]\n",
    "\n",
    "# dsfile = np.load('/Users/emigardiner/GWs/holodeck/output/2023-05-09-mbp-ss15_n100_r30_f100_d15_l5_p0/detstats/dp4_psrs60_sigma1e-07/detstats.npz')\n",
    "dsfile = np.load('/Users/emigardiner/GWs/holodeck/output/2023-05-12-mbp-ss16_n10_r10_f70_d12.5_l10_p0/detstats/ds2_psrs60_sigma5e-07/detstats.npz')\n",
    "dp_ss = dsfile['dp_ss']\n",
    "dp_bg = dsfile['dp_bg']\n",
    "df_ss = dsfile['df_ss']\n",
    "df_bg = dsfile['df_bg']\n",
    "snr_ss = dsfile['snr_ss']\n",
    "snr_bg = dsfile['snr_bg']\n",
    "print('N,R,S:', dp_ss.shape)\n",
    "S = dp_ss.shape[-1]"
   ]
  },
  {
   "cell_type": "code",
   "execution_count": null,
   "metadata": {},
   "outputs": [],
   "source": [
    "print('snr_ss range:', np.min(snr_ss), np.max(snr_ss))"
   ]
  },
  {
   "attachments": {},
   "cell_type": "markdown",
   "metadata": {},
   "source": [
    "# Integration Outputs"
   ]
  },
  {
   "cell_type": "code",
   "execution_count": null,
   "metadata": {},
   "outputs": [],
   "source": [
    "from scipy import integrate, special\n",
    "from sympy import nsolve, Symbol\n",
    "\n",
    "def _Fe_thresh(Num, alpha_0=0.001):\n",
    "    \"\"\" Calculate the threshold F_e statistic using sympy.nsolve\n",
    "    \n",
    "    Parameters\n",
    "    ----------\n",
    "    Num : int\n",
    "        Number of single sources to detect.\n",
    "    alpha_0 : scalar\n",
    "        False alarm probability max.\n",
    "\n",
    "    Returns\n",
    "    -------\n",
    "    Fe_bar : scalar\n",
    "        Threshold Fe statistic\n",
    "    \"\"\"\n",
    "    Fe_bar = Symbol('Fe_bar')\n",
    "    func = 1 - (1 - (1 + Fe_bar)*np.e**(-Fe_bar))**Num - alpha_0\n",
    "    Fe_bar = nsolve(func, Fe_bar, 10)\n",
    "    return(Fe_bar)\n",
    "\n",
    "def _integrand(Fe, rho):\n",
    "\n",
    "    I_1 = special.i1(rho*np.sqrt(2*Fe))\n",
    "    rv = (2*Fe)**(1/2) /rho * I_1 * np.exp(-Fe - rho**2 /2)\n",
    "    return rv\n",
    "\n",
    "def integrate_rho(Fe_bar, rho):\n",
    "    \"\"\" Calculate the detection probability for each single source in each realization.\n",
    "    \n",
    "    Parameters\n",
    "    ----------\n",
    "    rho : scalar\n",
    "    Fe_bar : scalar\n",
    "\n",
    "    Returns\n",
    "    -------\n",
    "    gamma) : float\n",
    "    \"\"\"\n",
    "    gamma_ssi = integrate.quad(_integrand, Fe_bar, np.inf, \n",
    "                               args=(rho))[0]\n",
    "    return gamma_ssi"
   ]
  },
  {
   "cell_type": "code",
   "execution_count": null,
   "metadata": {},
   "outputs": [],
   "source": [
    "Num = F*L\n",
    "Fe_bar = _Fe_thresh(Num)\n",
    "outname = './output/integral_maps/Num%d_F%d_L%d_Febar%.2f.dat' % (Num, F, L, Fe_bar)"
   ]
  },
  {
   "cell_type": "code",
   "execution_count": null,
   "metadata": {},
   "outputs": [],
   "source": [
    "rho = np.geomspace(10**-3, 10**3, 10**5)\n",
    "print(rho.shape)\n",
    "ans = np.zeros_like(rho)\n",
    "\n",
    "\n",
    "for ii in range(len(rho)):\n",
    "    if ii%(len(rho)/10) == 0:\n",
    "       print(ii, 'out of', len(rho))\n",
    "    ans[ii] = integrate_rho(Fe_bar, rho[ii])\n"
   ]
  },
  {
   "cell_type": "code",
   "execution_count": null,
   "metadata": {},
   "outputs": [],
   "source": [
    "xx = rho\n",
    "yy = ans\n",
    "\n",
    "fig, (ax1, ax2) = plt.subplots(nrows=2, ncols=1, sharex=True, figsize=(8,5),\n",
    "                               gridspec_kw={'height_ratios': [3.5, 1]})\n",
    "ax1.loglog(xx, yy, label='Num=%dx%d=%d, Fe_bar=%.2f' % (F,L,Num, Fe_bar), marker='x', markersize=5, linestyle='')\n",
    "ax1.set_title(r'$\\gamma_i(\\rho) = \\int_{\\bar{\\mathcal{F}}_e}^\\infty \\frac{\\sqrt{2\\mathcal{F}_e}}{\\rho} \\mathcal{I}_1 ( \\rho\\sqrt{2\\mathcal{F}_e} ) e^{-\\mathcal{F}_e - \\frac{1}{2}\\rho^2} d\\mathcal{F}_e$', \n",
    "               fontsize=12)\n",
    "ax1.set_ylabel('$\\gamma_i$')\n",
    "ax1.axhline(1, color='k', alpha=0.5, ls='--', label='$\\gamma_i$=1')\n",
    "ax1.legend()\n",
    "\n",
    "ax2.scatter(xx, np.isnan(yy), marker='x', s=5, color='tab:red')\n",
    "ax2.set_ylabel('is nan')\n",
    "ax2.set_xlabel(r'$\\rho$', fontsize=14)\n",
    "\n",
    "fig.tight_layout()"
   ]
  },
  {
   "cell_type": "code",
   "execution_count": null,
   "metadata": {},
   "outputs": [],
   "source": [
    "rho1 = np.geomspace(10**0.5, 10**2, 10**3)\n",
    "print(rho1.shape)\n",
    "ans1 = np.zeros_like(rho1)\n",
    "\n",
    "\n",
    "for ii in range(len(rho1)):\n",
    "    if ii%(len(rho1)/10) == 0:\n",
    "       print('on', ii, 'out of', len(rho1))\n",
    "    ans1[ii] = integrate_rho(Fe_bar, rho1[ii])"
   ]
  },
  {
   "cell_type": "code",
   "execution_count": null,
   "metadata": {},
   "outputs": [],
   "source": [
    "xx=rho1\n",
    "yy=ans1\n",
    "fig, (ax1, ax2) = plt.subplots(nrows=2, ncols=1, sharex=True, figsize=(8,5),\n",
    "                               gridspec_kw={'height_ratios': [3.5, 1]})\n",
    "ax1.loglog(xx, yy, label='Num=%dx%d=%d, Fe_bar=%.2f' % (F,L,Num, Fe_bar), marker='x', markersize=5, linestyle='')\n",
    "ax1.set_title(r'$\\gamma_i(\\rho) = \\int_{\\bar{\\mathcal{F}}_e}^\\infty \\frac{\\sqrt{2\\mathcal{F}_e}}{\\rho} \\mathcal{I}_1 ( \\rho\\sqrt{2\\mathcal{F}_e} ) e^{-\\mathcal{F}_e - \\frac{1}{2}\\rho^2} d\\mathcal{F}_e$', \n",
    "               fontsize=12)\n",
    "ax1.set_ylabel('$\\gamma_i$')\n",
    "ax1.axhline(1, color='k', alpha=0.5, ls='--', label='$\\gamma_i$=1')\n",
    "ax1.legend()\n",
    "\n",
    "ax2.scatter(xx, np.isnan(yy), marker='x', s=5, color='tab:red')\n",
    "ax2.set_ylabel('is nan')\n",
    "ax2.set_xlabel(r'$\\rho$', fontsize=14)\n",
    "\n",
    "fig.tight_layout()"
   ]
  },
  {
   "cell_type": "code",
   "execution_count": null,
   "metadata": {},
   "outputs": [],
   "source": [
    "print(snr_ss.shape, snr_bg.shape)"
   ]
  },
  {
   "cell_type": "code",
   "execution_count": null,
   "metadata": {},
   "outputs": [],
   "source": [
    "plt.hist(snr_ss.flatten(), bins=100)\n",
    "plt.yscale('log')\n",
    "plt.xscale('log')\n",
    "plt.title('Histogram of SNRs for the 10th Loudest Sources in each Frequency Bin')\n",
    "plt.ylabel('Number of Single Sources')\n",
    "plt.xlabel('SNR_ss')"
   ]
  },
  {
   "cell_type": "code",
   "execution_count": null,
   "metadata": {},
   "outputs": [],
   "source": [
    "print(Fe_bar)\n",
    "Fe = np.linspace(start=15, stop=1000, num=10)\n",
    "integrands = np.zeros((len(Fe), len(rho)))\n",
    "I1 = np.zeros_like(integrands)\n",
    "for ff in range(len(Fe)):\n",
    "    if ff%(len(Fe)/10) == 0:\n",
    "        print('on', ff, 'out of', len(Fe))\n",
    "        for ii in range(len(rho)):\n",
    "            integrands[ff,ii] = _integrand(Fe=Fe[ff], rho=rho[ii])\n",
    "            I1[ff,ii] = special.i1(rho[ii]*np.sqrt(2*Fe[ff]))"
   ]
  },
  {
   "cell_type": "code",
   "execution_count": null,
   "metadata": {},
   "outputs": [],
   "source": [
    "import matplotlib.cm as cm"
   ]
  },
  {
   "cell_type": "code",
   "execution_count": null,
   "metadata": {},
   "outputs": [],
   "source": [
    "\n",
    "# for ff in range(len(Fe)):\n",
    "#     plt.loglog(rho, integrands[ff], color=colors[ff], label = 'Fe=%.2f' % Fe[ff], alpha=0.5)\n",
    "# plt.legend(loc='lower left')\n",
    "# plt.xlabel(r'$\\rho$')\n",
    "# plt.ylabel('integrand')\n",
    "# plt.plot(np.arange(len(Fe)), Fe)\n",
    "\n",
    "xx=rho\n",
    "yy=integrands\n",
    "colors = cm.rainbow(np.linspace(0,1,len(Fe)))\n",
    "fig, (ax1, ax2) = plt.subplots(nrows=2, ncols=1, sharex=True, figsize=(8,5),\n",
    "                               gridspec_kw={'height_ratios': [3.5, 1]})\n",
    "for ff in range(len(Fe)):\n",
    "    ax1.loglog(rho, yy[ff], color=colors[ff], label = 'Fe=%.2f' % Fe[ff], alpha=0.5)\n",
    "    ax2.scatter(xx, np.isnan(yy[ff]), marker='x', s=1, color=colors[ff], alpha=0.5)\n",
    "\n",
    "# ax1.loglog(xx, yy[0], label='Num=%dx%d=%d, Fe_bar=%.2f' % (F,L,Num, Fe_bar), marker='x', markersize=5, linestyle='')\n",
    "ax1.set_title(r'integrand = $\\frac{\\sqrt{2\\mathcal{F}_e}}{\\rho} \\mathcal{I}_1 ( \\rho\\sqrt{2\\mathcal{F}_e} ) e^{-\\mathcal{F}_e - \\frac{1}{2}\\rho^2}$', \n",
    "               fontsize=12)\n",
    "ax1.set_ylabel('integrand')\n",
    "ax1.axhline(1, color='k', alpha=0.5, ls='--', label='integrand=1')\n",
    "ax1.legend()\n",
    "\n",
    "\n",
    "ax2.set_ylabel('is nan')\n",
    "ax2.set_xlabel(r'$\\rho$', fontsize=14)\n",
    "\n",
    "fig.tight_layout()"
   ]
  },
  {
   "cell_type": "code",
   "execution_count": null,
   "metadata": {},
   "outputs": [],
   "source": [
    "\n",
    "# for ff in range(len(Fe)):\n",
    "#     plt.loglog(rho, integrands[ff], color=colors[ff], label = 'Fe=%.2f' % Fe[ff], alpha=0.5)\n",
    "# plt.legend(loc='lower left')\n",
    "# plt.xlabel(r'$\\rho$')\n",
    "# plt.ylabel('integrand')\n",
    "# plt.plot(np.arange(len(Fe)), Fe)\n",
    "\n",
    "xx=rho\n",
    "yy=I1\n",
    "colors = cm.rainbow(np.linspace(0,1,len(Fe)))\n",
    "fig, (ax1, ax2, ax3) = plt.subplots(nrows=3, ncols=1, sharex=True, figsize=(8,5),\n",
    "                               gridspec_kw={'height_ratios': [3.5, 1, 1]})\n",
    "for ff in range(len(Fe)):\n",
    "    ax1.loglog(rho, yy[ff]/10**50, color=colors[ff], label = 'Fe=%.2f' % Fe[ff], alpha=0.5)\n",
    "    ax2.scatter(xx, np.isnan(yy[ff]), marker='x', s=1, color=colors[ff], alpha=0.5)\n",
    "    ax3.scatter(xx, np.isinf(yy[ff]), marker='x', s=1, color=colors[ff], alpha=0.5)\n",
    "\n",
    "# ax1.loglog(xx, yy[0], label='Num=%dx%d=%d, Fe_bar=%.2f' % (F,L,Num, Fe_bar), marker='x', markersize=5, linestyle='')\n",
    "ax1.set_title(r'$\\mathcal{I}_1 ( \\rho\\sqrt{2\\mathcal{F}_e} ) $', \n",
    "               fontsize=12)\n",
    "ax1.set_ylabel(r'$\\mathcal{I}_1 ( \\rho\\sqrt{2\\mathcal{F}_e} ) /10^{50}$')\n",
    "# ax1.axhline(1, color='k', alpha=0.5, ls='--', label='$\\gamma_i$=1')\n",
    "ax1.legend()\n",
    "ax1.set_ylim(10**-54, 10**19) # it won't let me set ymax above 10^19\n",
    "\n",
    "\n",
    "ax2.set_ylabel('is nan')\n",
    "ax2.set_ylim(-0.1,1.1)\n",
    "ax3.set_ylabel('is inf')\n",
    "ax3.set_ylim(-0.1,1.1)\n",
    "ax3.set_xlabel(r'$\\rho$', fontsize=14)\n",
    "\n",
    "fig.tight_layout()"
   ]
  },
  {
   "cell_type": "code",
   "execution_count": null,
   "metadata": {},
   "outputs": [],
   "source": [
    "print(I1[np.isinf(I1)].size)\n",
    "print(I1.size)"
   ]
  },
  {
   "attachments": {},
   "cell_type": "markdown",
   "metadata": {},
   "source": [
    "## Try again, using long for I1"
   ]
  },
  {
   "cell_type": "code",
   "execution_count": null,
   "metadata": {},
   "outputs": [],
   "source": [
    "import sys\n",
    "print(sys.float_info.max)\n",
    "print(np.max(I1[np.isfinite(I1)]))\n",
    "print(sys.dou"
   ]
  },
  {
   "cell_type": "code",
   "execution_count": null,
   "metadata": {},
   "outputs": [],
   "source": [
    "# print(Fe_bar)\n",
    "# Fe = np.linspace(start=15, stop=1000, num=10)\n",
    "# integrands = np.zeros((len(Fe), len(rho)))\n",
    "I1_long = np.zeros_like(integrands, dtype=long)\n",
    "for ff in range(len(Fe)):\n",
    "    if ff%(len(Fe)/10) == 0:\n",
    "        print('on', ff, 'out of', len(Fe))\n",
    "        for ii in range(len(rho)):\n",
    "            I1_long[ff,ii] = special.i1(rho[ii]*np.sqrt(2*Fe[ff]))"
   ]
  },
  {
   "attachments": {},
   "cell_type": "markdown",
   "metadata": {},
   "source": [
    "## Try setting inf values to large I1"
   ]
  },
  {
   "cell_type": "code",
   "execution_count": null,
   "metadata": {},
   "outputs": [],
   "source": [
    "\n",
    "def _integrand_max(Fe, rho):\n",
    "\n",
    "    I_1 = special.i1(rho*np.sqrt(2*Fe))\n",
    "    if np.isinf(I_1): I_1 = 10**300\n",
    "    rv = (2*Fe)**(1/2) /rho * I_1 * np.exp(-Fe - rho**2 /2)\n",
    "    return rv\n",
    "\n",
    "def integrate_rho_max(Fe_bar, rho):\n",
    "    \"\"\" Calculate the detection probability for each single source in each realization.\n",
    "    \n",
    "    Parameters\n",
    "    ----------\n",
    "    rho : scalar\n",
    "    Fe_bar : scalar\n",
    "\n",
    "    Returns\n",
    "    -------\n",
    "    gamma) : float\n",
    "    \"\"\"\n",
    "    gamma_ssi = integrate.quad(_integrand_max, Fe_bar, np.inf, \n",
    "                               args=(rho))[0]\n",
    "    return gamma_ssi"
   ]
  },
  {
   "cell_type": "code",
   "execution_count": null,
   "metadata": {},
   "outputs": [],
   "source": [
    "print(Fe_bar)\n",
    "Fe = np.linspace(start=15, stop=1000, num=10)\n",
    "integrands_max = np.zeros((len(Fe), len(rho)))\n",
    "I1_max = np.zeros_like(integrands)\n",
    "ans_max = np.zeros_like(rho)\n",
    "\n",
    "for ii in range(len(rho)):\n",
    "    ans_max[ii] = integrate_rho_max(Fe_bar, rho[ii])\n",
    "    if ii%(len(rho)/10) == 0:\n",
    "        print('on', ii, 'out of', len(rho))\n",
    "        for ff in range(len(Fe)):\n",
    "            integrands_max[ff,ii] = _integrand(Fe=Fe[ff], rho=rho[ii])\n",
    "            I1_max[ff,ii] = special.i1(rho[ii]*np.sqrt(2*Fe[ff]))"
   ]
  },
  {
   "cell_type": "code",
   "execution_count": null,
   "metadata": {},
   "outputs": [],
   "source": [
    "print('max gamma = gamma[rho=%.2f] = %.10f' % (rho[np.argmax(ans_max)], np.max(ans_max)))\n",
    "index_one = 0\n",
    "ii=0\n",
    "while index_one==0:\n",
    "    if(ans_max[ii]>=1): index_one = ii\n",
    "    ii+=1\n",
    "print('First gamma>=1 = gamma(rho=%.2f) =  %.10f' % (rho[index_one], ans_max[index_one]))\n",
    "\n",
    "# print(ans_max[index_one], ans_max[index_one+1], ans_max[index_one+2])\n",
    "# for ii in range(index_one, len(ans_max)-1):\n",
    "#     if(ans_max[ii]<ans_max[ii+1]):\n",
    "#         print(ii, 'increasing')\n",
    "#     elif((ans_max[ii]>ans_max[ii+1])):\n",
    "#         print(ii,'decreasing')\n",
    "\n",
    "deriv = np.diff(ans_max)/ans_max[1:]\n",
    "plt.scatter(rho[1:], deriv>0)\n",
    "plt.xscale('log')\n",
    "plt.axvline(rho[index_one], color='k', linestyle='dashed')\n",
    "\n"
   ]
  },
  {
   "cell_type": "code",
   "execution_count": null,
   "metadata": {},
   "outputs": [],
   "source": [
    "xx = rho\n",
    "yy = ans_max\n",
    "\n",
    "fig, (ax1, ax2) = plt.subplots(nrows=2, ncols=1, sharex=True, figsize=(8,5),\n",
    "                               gridspec_kw={'height_ratios': [3.5, 1]})\n",
    "ax1.loglog(xx, yy, label='Num=%dx%d=%d, Fe_bar=%.2f' % (F,L,Num, Fe_bar), marker='x', markersize=5, linestyle='')\n",
    "ax1.set_title(r'$\\gamma_i(\\rho) = \\int_{\\bar{\\mathcal{F}}_e}^\\infty \\frac{\\sqrt{2\\mathcal{F}_e}}{\\rho} \\mathcal{I}_1 ( \\rho\\sqrt{2\\mathcal{F}_e} ) e^{-\\mathcal{F}_e - \\frac{1}{2}\\rho^2} d\\mathcal{F}_e$', \n",
    "               fontsize=12)\n",
    "ax1.set_ylabel('$\\gamma_i$')\n",
    "ax1.axhline(1, color='k', alpha=0.5, ls='--', label='$\\gamma_i$=1')\n",
    "ax1.axvline(rho[index_one], label=r'$\\gamma_i(\\rho=%.2f) = 1$' % rho[index_one], color='green', linestyle='--')\n",
    "ax1.legend()\n",
    "\n",
    "ax2.scatter(xx, np.isnan(yy), marker='x', s=5, color='tab:red')\n",
    "ax2.set_ylabel('is nan')\n",
    "ax2.set_xlabel(r'$\\rho$', fontsize=14)\n",
    "\n",
    "\n",
    "fig.tight_layout()"
   ]
  },
  {
   "attachments": {},
   "cell_type": "markdown",
   "metadata": {},
   "source": [
    "# Integrate with Euler Method\n",
    "and bessel function max patch\n",
    "\n",
    "F(t, S(t)) = gamma(Fe, integrand(Fe)). For some fixed rho\n",
    "<!-- \n",
    "$\\frac{dS(t)}{dt} = \\mathrm{integrand}(\\mathcal{F}_e) = \\frac{\\sqrt{2\\mathcal{F}_e}}{\\rho} \\mathcal{I}_1 ( \\rho\\sqrt{2\\mathcal{F}_e} ) e^{-\\mathcal{F}_e - \\frac{1}{2}\\rho^2} = F(t, S(t))$\n",
    "\n",
    "$S(t) = \\gamma_i(\\rho) = \\int \\frac{dS(\\rho)}{d\\rho} d\\rho$\n",
    "\n",
    "For my code:\n",
    "\n",
    "$F(\\rho) = \\frac{d\\gamma(\\rho)}{d\\rho} = \\frac{\\sqrt{2\\mathcal{F}_e}}{\\rho} \\mathcal{I}_1 ( \\rho\\sqrt{2\\mathcal{F}_e} ) e^{-\\mathcal{F}_e - \\frac{1}{2}\\rho^2}$\n",
    "\n",
    "$ \\gamma(\\rho_{j+1}) = \\gamma(\\rho_j) + (\\rho_{j+1} - \\rho_j) \\frac{d\\gamma(\\rho_j)}{dt}$ -->"
   ]
  },
  {
   "attachments": {},
   "cell_type": "markdown",
   "metadata": {},
   "source": [
    "$\\rho$ = fixed\n",
    "\n",
    "$\\frac{dS(t)}{dt} = \\frac{\\sqrt{2t}}{\\rho} \\mathcal{I}_1 ( \\rho\\sqrt{2t} ) e^{-t - \\frac{1}{2}\\rho^2}$ given by _integrand_max(t, rho)\n",
    "\n",
    "$\\frac{dS(t)}{dt} = F(t, S(t))$\n",
    "\n",
    "$s1 = s(t1) = s(0) = \\int \\frac{dS(t)}{dt} dt $ at $t=0$"
   ]
  },
  {
   "attachments": {},
   "cell_type": "markdown",
   "metadata": {},
   "source": []
  },
  {
   "cell_type": "code",
   "execution_count": null,
   "metadata": {},
   "outputs": [],
   "source": [
    "# Define parameters\n",
    "def f(t, rho):\n",
    "    return _integrand_max(t, rho)\n",
    "\n",
    "h = 0.0001 # step size\n",
    "t = np.arange(0, 1+h, h) # numerical grid\n",
    "s0 = -1 # initial condition, but not sure what this value should actually be, \n",
    "# but maybe it doesn't matter because it's just a constant that would be subtracted in finite integral subtraction\n",
    "\n",
    "\n",
    "s=np.zeros(len(t))\n",
    "s[0] = s0\n",
    "print(s)\n",
    "\n",
    "rr = int(len(rho)/2) # pick a middleish rho\n",
    "print(rho[rr])\n",
    "for i in range(0, len(t)-1):\n",
    "    s[i+1] = s[i] + h*f(t[i], rho[rr])\n",
    "gamma1= s[-1] - s[0]\n",
    "\n",
    "plt.scatter(t, s, marker='x', label='rho=%f, gamma(rho)=%f' % (rho[rr], gamma1), s=3)\n",
    "plt.legend()\n",
    "plt.xlabel('t')\n",
    "plt.ylabel('f(t)')"
   ]
  },
  {
   "cell_type": "code",
   "execution_count": null,
   "metadata": {},
   "outputs": [],
   "source": [
    "# Want integral from Fe_bar to infinity\n",
    "\n",
    "# Define parameters\n",
    "def f(t, rho):\n",
    "    return _integrand_max(t, rho)\n",
    "print(Fe_bar)\n",
    "h = 1 # step size\n",
    "t = np.arange(float(Fe_bar),float(Fe_bar)*10000, h) # numerical grid\n",
    "s0 = 0 # initial condition, not sure what this value should actually be, \n",
    "# but it doesn't matter because it's just a constant subtracted out of definite integrals\n",
    "\n",
    "s=np.zeros(len(t))\n",
    "s[0] = s0\n",
    "# print(s)\n",
    "\n",
    "rr = int(len(rho)/2) # pick a middleish rho\n",
    "print(rho[rr])\n",
    "for i in range(0, len(t)-1):\n",
    "    s[i+1] = s[i] + h*f(t[i], rho[rr])\n",
    "gamma1= s[-1] - s[0]\n",
    "\n",
    "plt.scatter(t, s, marker='x', label='rho=%f, gamma(rho)=%f' % (rho[rr], gamma1), s=3)\n",
    "plt.legend()\n",
    "plt.xlabel('t')\n",
    "plt.ylabel('f(t)')"
   ]
  },
  {
   "cell_type": "code",
   "execution_count": null,
   "metadata": {},
   "outputs": [],
   "source": [
    "# Define parameters\n",
    "def f(t, rho):\n",
    "    return _integrand_max(t, rho)\n",
    "h = 10 # step size\n",
    "t = np.arange(float(Fe_bar), float(Fe_bar)*100, h) # numerical grid\n",
    "s0 = 0 # it doesn't matter what this is because it's just subtracted out for definite integrals\n",
    "s=np.zeros(len(t))\n",
    "\n",
    "gamma = np.zeros_like(rho)\n",
    "for rr in range(len(rho)):\n",
    "    if rr%(len(rho)/10) == 0: print('on', rr, 'out of', len(rho))\n",
    "    for ii in range(0, len(t)-1):\n",
    "        s[ii+1] = s[ii] + h*f(t[ii], rho[rr])\n",
    "    gamma[rr] = s[-1] - s[0]"
   ]
  },
  {
   "cell_type": "code",
   "execution_count": null,
   "metadata": {},
   "outputs": [],
   "source": [
    "h=10\n",
    "plt.loglog(rho, gamma, marker='x', markersize=1, linestyle='', alpha=0.5,\n",
    "           label = 'Euler Method with h = %d from $\\overline{F}_e$ to 100$\\overline{F}_e$' % h)\n",
    "plt.loglog(rho, ans_max, marker='x', markersize=1, linestyle='',  alpha=0.5,\n",
    "           label = 'Scipy Integration')\n",
    "plt.xlabel('rho')\n",
    "plt.ylabel('gamma')\n",
    "plt.axhline(1, label='gamma=1', linestyle='--', color='k')\n",
    "plt.legend(loc='lower left')"
   ]
  },
  {
   "cell_type": "code",
   "execution_count": null,
   "metadata": {},
   "outputs": [],
   "source": [
    "\n",
    "plt.loglog(rho, gamma, marker='x', markersize=3, linestyle='')\n",
    "plt.xlabel('rho')\n",
    "plt.ylabel('gamma')\n",
    "plt.title(r'$\\gamma_i(\\rho) = \\int_{\\bar{\\mathcal{F}}_e}^\\infty \\frac{\\sqrt{2\\mathcal{F}_e}}{\\rho} \\mathcal{I}_1 ( \\rho\\sqrt{2\\mathcal{F}_e} ) e^{-\\mathcal{F}_e - \\frac{1}{2}\\rho^2} d\\mathcal{F}_e$ by Euler Method', \n",
    "               fontsize=12)\n",
    "plt.xlim(10**-3, 10**0)\n",
    "plt.ylim(10**-1, 10)"
   ]
  },
  {
   "cell_type": "code",
   "execution_count": null,
   "metadata": {},
   "outputs": [],
   "source": [
    "rho3 = np.geomspace(10**-3, 10**1, 100)\n",
    "\n",
    "# Define parameters\n",
    "def f(t, rho):\n",
    "    return _integrand_max(t, rho)\n",
    "\n",
    "h = 1 # step size\n",
    "t = np.arange(float(Fe_bar), float(Fe_bar)*1000, h) # numerical grid from Fe_bar to ~inf (or just large)\n",
    "s0 = 0 # it doesn't matter what this is because it's just subtracted out in finite integral subtraction\n",
    "s=np.zeros(len(t))\n",
    "\n",
    "xx = rho3\n",
    "y1 = np.zeros_like(rho3)\n",
    "y2 = np.zeros_like(rho3)\n",
    "for rr in range(len(xx)):\n",
    "    if rr%(len(xx)/10) == 0: print('on', rr, 'out of', len(xx))\n",
    "    for ii in range(0, len(t)-1):\n",
    "        s[ii+1] = s[ii] + h*f(t[ii], xx[rr])\n",
    "    y1[rr] = s[-1] - s[0]\n",
    "    y2[rr] = integrate_rho(Fe_bar, xx[rr])\n",
    "gamma3 = y1\n",
    "ans3 = y2"
   ]
  },
  {
   "cell_type": "code",
   "execution_count": null,
   "metadata": {},
   "outputs": [],
   "source": [
    "\n",
    "plt.loglog(xx, y1, marker='x', markersize=3, linestyle='', label='Euler Method with h = %.3f from $\\overline{F}_e$ to $1000\\overline{F}_e$' % h)\n",
    "plt.loglog(xx, y2, marker='x', markersize=3, linestyle='', label='Scipy Integration')\n",
    "plt.xlabel('rho')\n",
    "plt.ylabel('gamma')\n",
    "plt.legend(loc='upper left')"
   ]
  },
  {
   "attachments": {},
   "cell_type": "markdown",
   "metadata": {},
   "source": [
    "# Try integrating with quadpy\n",
    "## without extra pars\n",
    "Setting rho outside of the function, so the integrand is a function only of Fe.\n",
    "\n",
    "Bessel function fails??"
   ]
  },
  {
   "cell_type": "code",
   "execution_count": null,
   "metadata": {},
   "outputs": [],
   "source": [
    "import quadpy"
   ]
  },
  {
   "cell_type": "code",
   "execution_count": null,
   "metadata": {},
   "outputs": [],
   "source": [
    "def _integrand_qp(Fe):\n",
    "        rho_qp=rho2[5]\n",
    "        I_1 = special.i1(rho_qp*np.sqrt(2*Fe))\n",
    "        rv = (2*Fe)**(1/2) /rho_qp * I_1 * np.exp(-Fe - rho_qp**2 /2)\n",
    "        return rv\n",
    "\n",
    "def integrate_rho_quadpy(Fe_bar):\n",
    "    \"\"\" Calculate the detection probability for each single source in each realization.\n",
    "    \n",
    "    Parameters\n",
    "    ----------\n",
    "    rho : scalar\n",
    "    Fe_bar : scalar\n",
    "\n",
    "    Returns\n",
    "    -------\n",
    "    rv : float\n",
    "    \"\"\"\n",
    "    gamma_ssi = quadpy.quad(_integrand_qp, Fe_bar, np.inf)[0]\n",
    "    return gamma_ssi"
   ]
  },
  {
   "cell_type": "code",
   "execution_count": null,
   "metadata": {},
   "outputs": [],
   "source": [
    "rho2 = np.geomspace(10**0.5, 10**2, 10**3)\n",
    "print(rho1.shape)\n",
    "ans2 = np.zeros_like(rho1)\n",
    "\n",
    "for ii in range(len(rho2)):\n",
    "    if ii%(len(rho2)/10) == 0:\n",
    "       print('on', ii, 'out of', len(rho2))\n",
    "    rho_qp=rho2[ii]  \n",
    "    print(rho_qp)\n",
    "    ans2[ii] = integrate_rho_quadpy(Fe_bar)"
   ]
  },
  {
   "attachments": {},
   "cell_type": "markdown",
   "metadata": {},
   "source": [
    "## same way as with integrand.py\n",
    "This doesn't work"
   ]
  },
  {
   "cell_type": "code",
   "execution_count": null,
   "metadata": {},
   "outputs": [],
   "source": [
    "def _integrand_qp(Fe, rho):\n",
    "\n",
    "    I_1 = special.i1(rho*np.sqrt(2*Fe))\n",
    "    rv = (2*Fe)**(1/2) /rho * I_1 * np.exp(-Fe - rho**2 /2)\n",
    "    return rv\n",
    "\n",
    "def integrate_rho_quadpy(Fe_bar, rho):\n",
    "    \"\"\" Calculate the detection probability for each single source in each realization.\n",
    "    \n",
    "    Parameters\n",
    "    ----------\n",
    "    rho : scalar\n",
    "    Fe_bar : scalar\n",
    "\n",
    "    Returns\n",
    "    -------\n",
    "    rv : float\n",
    "    \"\"\"\n",
    "    gamma_ssi = quadpy.quad(_integrand, Fe_bar, np.inf, \n",
    "                               args=(rho))[0]\n",
    "    return gamma_ssi"
   ]
  },
  {
   "cell_type": "code",
   "execution_count": null,
   "metadata": {},
   "outputs": [],
   "source": [
    "rho2 = np.geomspace(10**0.5, 10**2, 10**3)\n",
    "print(rho1.shape)\n",
    "ans2 = np.zeros_like(rho1)\n",
    "\n",
    "for ii in range(len(rho2)):\n",
    "    if ii%(len(rho2)/10) == 0:\n",
    "       print('on', ii, 'out of', len(rho2))\n",
    "    ans2[ii] = integrate_rho_quadpy(Fe_bar, rho2[ii])"
   ]
  },
  {
   "cell_type": "code",
   "execution_count": null,
   "metadata": {},
   "outputs": [],
   "source": []
  }
 ],
 "metadata": {
  "kernelspec": {
   "display_name": "holo310",
   "language": "python",
   "name": "python3"
  },
  "language_info": {
   "codemirror_mode": {
    "name": "ipython",
    "version": 3
   },
   "file_extension": ".py",
   "mimetype": "text/x-python",
   "name": "python",
   "nbconvert_exporter": "python",
   "pygments_lexer": "ipython3",
   "version": "3.10.10"
  }
 },
 "nbformat": 4,
 "nbformat_minor": 2
}
