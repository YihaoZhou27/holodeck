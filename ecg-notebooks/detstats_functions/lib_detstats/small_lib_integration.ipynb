{
 "cells": [
  {
   "cell_type": "code",
   "execution_count": null,
   "metadata": {},
   "outputs": [],
   "source": [
    "%reload_ext autoreload\n",
    "%autoreload 2\n",
    "from importlib import reload\n",
    "\n",
    "import holodeck.detstats as ds\n",
    "import h5py\n",
    "\n",
    "import numpy as np\n",
    "import matplotlib.pyplot as plt\n",
    "import matplotlib.cm as cm"
   ]
  },
  {
   "attachments": {},
   "cell_type": "markdown",
   "metadata": {},
   "source": [
    "# Calculate Library Detstats"
   ]
  },
  {
   "cell_type": "code",
   "execution_count": null,
   "metadata": {},
   "outputs": [],
   "source": [
    "# hdf_name = '/Users/emigardiner/GWs/holodeck/output/2023-05-09-mbp-ss14_n40_r10_f20_d17.5_l5_p0/ss_lib.hdf5'\n",
    "# detstats_path = '/Users/emigardiner/GWs/holodeck/output/2023-05-09-mbp-ss14_n40_r10_f20_d17.5_l5_p0/detstats'\n",
    "\n",
    "# npsrs = 40\n",
    "# sigma = 1e-7\n",
    "# output_dir = detstats_path+'/ds2_psrs40_sigma1e-7'"
   ]
  },
  {
   "cell_type": "code",
   "execution_count": null,
   "metadata": {},
   "outputs": [],
   "source": [
    "# vals = ds.detect_lib(hdf_name, output_dir, npsrs, sigma, \n",
    "#                      nskies=25, thresh=0.5, plot=True, debug=True)"
   ]
  },
  {
   "attachments": {},
   "cell_type": "markdown",
   "metadata": {},
   "source": [
    "# Read in Library Detstats"
   ]
  },
  {
   "cell_type": "code",
   "execution_count": null,
   "metadata": {},
   "outputs": [],
   "source": [
    "sspath = '/Users/emigardiner/GWs/holodeck/output/2023-05-09-mbp-ss15_n100_r30_f100_d15_l5_p0/'\n",
    "hdfname = sspath+'ss_lib.hdf5'\n",
    "ssfile = h5py.File(hdfname, 'r')\n",
    "print(list(ssfile.keys()))\n",
    "hc_ss = ssfile['hc_ss'][...]\n",
    "hc_bg = ssfile['hc_bg'][...]\n",
    "ssfile.close()\n",
    "\n",
    "print('N,F,R,L:', hc_ss.shape) \n",
    "shape = hc_ss.shape\n",
    "N, F, R, L = shape[0], shape[1], shape[2], shape[3]\n",
    "\n",
    "# dsfile = np.load('/Users/emigardiner/GWs/holodeck/output/2023-05-09-mbp-ss15_n100_r30_f100_d15_l5_p0/detstats/dp4_psrs60_sigma1e-07/detstats.npz')\n",
    "dsfile = np.load('/Users/emigardiner/GWs/holodeck/output/2023-05-12-mbp-ss16_n10_r10_f70_d12.5_l10_p0/detstats/ds2_psrs60_sigma5e-07/detstats.npz')\n",
    "dp_ss = dsfile['dp_ss']\n",
    "dp_bg = dsfile['dp_bg']\n",
    "df_ss = dsfile['df_ss']\n",
    "df_bg = dsfile['df_bg']\n",
    "snr_ss = dsfile['snr_ss']\n",
    "snr_bg = dsfile['snr_bg']\n",
    "print('N,R,S:', dp_ss.shape)\n",
    "S = dp_ss.shape[-1]"
   ]
  },
  {
   "cell_type": "code",
   "execution_count": null,
   "metadata": {},
   "outputs": [],
   "source": [
    "print('snr_ss range:', np.min(snr_ss), np.max(snr_ss))"
   ]
  },
  {
   "attachments": {},
   "cell_type": "markdown",
   "metadata": {},
   "source": [
    "# SNR Histogram"
   ]
  },
  {
   "cell_type": "code",
   "execution_count": null,
   "metadata": {},
   "outputs": [],
   "source": [
    "print(snr_ss.shape, snr_bg.shape)\n",
    "print(snr_ss.min())"
   ]
  },
  {
   "cell_type": "code",
   "execution_count": null,
   "metadata": {},
   "outputs": [],
   "source": [
    "flat_snr = snr_ss.flatten()\n",
    "bins = np.geomspace(1e-7, flat_snr.max(), 100+1)\n",
    "plt.hist(flat_snr, bins=bins)\n",
    "\n",
    "plt.yscale('log')\n",
    "plt.xscale('log')\n",
    "plt.title('Histogram of SNRs for the 10th Loudest Sources in each Frequency Bin')\n",
    "plt.ylabel('Number of Single Sources')\n",
    "plt.xlabel('SNR_ss')"
   ]
  },
  {
   "attachments": {},
   "cell_type": "markdown",
   "metadata": {},
   "source": [
    "# Integration Outputs"
   ]
  },
  {
   "cell_type": "code",
   "execution_count": null,
   "metadata": {},
   "outputs": [],
   "source": [
    "from scipy import integrate, special\n",
    "from sympy import nsolve, Symbol\n",
    "\n",
    "def _Fe_thresh(Num, alpha_0=0.001):\n",
    "    \"\"\" Calculate the threshold F_e statistic using sympy.nsolve\n",
    "    \n",
    "    Parameters\n",
    "    ----------\n",
    "    Num : int\n",
    "        Number of single sources to detect.\n",
    "    alpha_0 : scalar\n",
    "        False alarm probability max.\n",
    "\n",
    "    Returns\n",
    "    -------\n",
    "    Fe_bar : scalar\n",
    "        Threshold Fe statistic\n",
    "    \"\"\"\n",
    "    Fe_bar = Symbol('Fe_bar')\n",
    "    func = 1 - (1 - (1 + Fe_bar)*np.e**(-Fe_bar))**Num - alpha_0\n",
    "    Fe_bar = nsolve(func, Fe_bar, 10)\n",
    "    return(Fe_bar)\n",
    "\n",
    "def _integrand(Fe, rho):\n",
    "\n",
    "    I_1 = special.i1(rho*np.sqrt(2*Fe))\n",
    "    rv = (2*Fe)**(1/2) /rho * I_1 * np.exp(-Fe - rho**2 /2)\n",
    "    return rv\n",
    "\n",
    "def integrate_rho(Fe_bar, rho):\n",
    "    \"\"\" Calculate the detection probability for each single source in each realization.\n",
    "    \n",
    "    Parameters\n",
    "    ----------\n",
    "    rho : scalar\n",
    "    Fe_bar : scalar\n",
    "\n",
    "    Returns\n",
    "    -------\n",
    "    gamma) : float\n",
    "    \"\"\"\n",
    "    gamma_ssi = integrate.quad(_integrand, Fe_bar, np.inf, \n",
    "                               args=(rho))[0]\n",
    "    return gamma_ssi"
   ]
  },
  {
   "attachments": {},
   "cell_type": "markdown",
   "metadata": {},
   "source": [
    "Find Fe_bar"
   ]
  },
  {
   "cell_type": "code",
   "execution_count": null,
   "metadata": {},
   "outputs": [],
   "source": [
    "Num = F*L\n",
    "Fe_bar = _Fe_thresh(Num)\n",
    "outname = './output/integral_maps/Num%d_F%d_L%d_Febar%.2f.dat' % (Num, F, L, Fe_bar)\n",
    "Fe_bar = np.float64(Fe_bar)"
   ]
  },
  {
   "attachments": {},
   "cell_type": "markdown",
   "metadata": {},
   "source": [
    "run_integration"
   ]
  },
  {
   "cell_type": "code",
   "execution_count": null,
   "metadata": {},
   "outputs": [],
   "source": [
    "rho = np.geomspace(10**-3, 10**3, 10**3)\n",
    "Fe = np.linspace(start=15, stop=1000, num=10)\n",
    "\n",
    "def run_integration(rho, Fe):\n",
    "    ans = np.zeros_like(rho)\n",
    "    integrands = np.zeros((len(rho),len(Fe)))\n",
    "    for ii in range(len(rho)):\n",
    "        if ii%(len(rho)/10) == 0:\n",
    "            print(ii, 'out of', len(rho))\n",
    "        ans[ii] = integrate_rho(Fe_bar, rho[ii])\n",
    "        for ff in range(len(Fe)):\n",
    "            integrands[ii,ff] = _integrand(Fe[ff], rho[ii])\n",
    "\n",
    "    return ans, integrands\n",
    "\n",
    "ans, integrands = run_integration(rho, Fe)\n"
   ]
  },
  {
   "cell_type": "code",
   "execution_count": null,
   "metadata": {},
   "outputs": [],
   "source": [
    "rho2 = np.geomspace(10**-1, 10**2, 10**4)\n",
    "ans2, integrands2 = run_integration(rho2, Fe)\n"
   ]
  },
  {
   "attachments": {},
   "cell_type": "markdown",
   "metadata": {},
   "source": [
    "Plot gamma vs. rho"
   ]
  },
  {
   "cell_type": "code",
   "execution_count": null,
   "metadata": {},
   "outputs": [],
   "source": [
    "xx = rho\n",
    "yy = ans\n",
    "\n",
    "fig, (ax1, ax2) = plt.subplots(nrows=2, ncols=1, sharex=True, figsize=(8,5),\n",
    "                               gridspec_kw={'height_ratios': [3.5, 1]})\n",
    "ax1.loglog(xx, yy, label='Num=%dx%d=%d, Fe_bar=%.2f' % (F,L,Num, Fe_bar), marker='x', markersize=5, linestyle='')\n",
    "ax1.set_title(r'$\\gamma_i(\\rho) = \\int_{\\bar{\\mathcal{F}}_e}^\\infty \\frac{\\sqrt{2\\mathcal{F}_e}}{\\rho} \\mathcal{I}_1 ( \\rho\\sqrt{2\\mathcal{F}_e} ) e^{-\\mathcal{F}_e - \\frac{1}{2}\\rho^2} d\\mathcal{F}_e$', \n",
    "               fontsize=12)\n",
    "ax1.set_ylabel('$\\gamma_i$')\n",
    "ax1.axhline(1, color='k', alpha=0.5, ls='--', label='$\\gamma_i$=1')\n",
    "ax1.legend()\n",
    "\n",
    "ax2.scatter(xx, np.isnan(yy), marker='x', s=5, color='tab:red')\n",
    "ax2.set_ylabel('is nan')\n",
    "ax2.set_xlabel(r'$\\rho$', fontsize=14)\n",
    "\n",
    "fig.tight_layout()"
   ]
  },
  {
   "cell_type": "code",
   "execution_count": null,
   "metadata": {},
   "outputs": [],
   "source": [
    "rho1 = np.geomspace(10**0.5, 10**2, 10**3)\n",
    "print(rho1.shape)\n",
    "ans1 = np.zeros_like(rho1)\n",
    "\n",
    "\n",
    "for ii in range(len(rho1)):\n",
    "    if ii%(len(rho1)/10) == 0:\n",
    "       print('on', ii, 'out of', len(rho1))\n",
    "    ans1[ii] = integrate_rho(Fe_bar, rho1[ii])"
   ]
  },
  {
   "cell_type": "code",
   "execution_count": null,
   "metadata": {},
   "outputs": [],
   "source": [
    "xx=rho1\n",
    "yy=ans1\n",
    "fig, (ax1, ax2) = plt.subplots(nrows=2, ncols=1, sharex=True, figsize=(8,5),\n",
    "                               gridspec_kw={'height_ratios': [3.5, 1]})\n",
    "ax1.loglog(xx, yy, label='Num=%dx%d=%d, Fe_bar=%.2f' % (F,L,Num, Fe_bar), marker='x', markersize=5, linestyle='')\n",
    "ax1.set_title(r'$\\gamma_i(\\rho) = \\int_{\\bar{\\mathcal{F}}_e}^\\infty \\frac{\\sqrt{2\\mathcal{F}_e}}{\\rho} \\mathcal{I}_1 ( \\rho\\sqrt{2\\mathcal{F}_e} ) e^{-\\mathcal{F}_e - \\frac{1}{2}\\rho^2} d\\mathcal{F}_e$', \n",
    "               fontsize=12)\n",
    "ax1.set_ylabel('$\\gamma_i$')\n",
    "ax1.axhline(1, color='k', alpha=0.5, ls='--', label='$\\gamma_i$=1')\n",
    "ax1.legend()\n",
    "\n",
    "ax2.scatter(xx, np.isnan(yy), marker='x', s=5, color='tab:red')\n",
    "ax2.set_ylabel('is nan')\n",
    "ax2.set_xlabel(r'$\\rho$', fontsize=14)\n",
    "\n",
    "fig.tight_layout()"
   ]
  },
  {
   "cell_type": "code",
   "execution_count": null,
   "metadata": {},
   "outputs": [],
   "source": [
    "print(Fe_bar)\n",
    "Fe = np.linspace(start=15, stop=1000, num=10)\n",
    "integrands = np.zeros((len(Fe), len(rho)))\n",
    "I1 = np.zeros_like(integrands)\n",
    "for ff in range(len(Fe)):\n",
    "    if ff%(len(Fe)/10) == 0:\n",
    "        print('on', ff, 'out of', len(Fe))\n",
    "        for ii in range(len(rho)):\n",
    "            integrands[ff,ii] = _integrand(Fe=Fe[ff], rho=rho[ii])\n",
    "            I1[ff,ii] = special.i1(rho[ii]*np.sqrt(2*Fe[ff]))"
   ]
  },
  {
   "attachments": {},
   "cell_type": "markdown",
   "metadata": {},
   "source": [
    "plot integrands"
   ]
  },
  {
   "cell_type": "code",
   "execution_count": null,
   "metadata": {},
   "outputs": [],
   "source": [
    "\n",
    "# for ff in range(len(Fe)):\n",
    "#     plt.loglog(rho, integrands[ff], color=colors[ff], label = 'Fe=%.2f' % Fe[ff], alpha=0.5)\n",
    "# plt.legend(loc='lower left')\n",
    "# plt.xlabel(r'$\\rho$')\n",
    "# plt.ylabel('integrand')\n",
    "# plt.plot(np.arange(len(Fe)), Fe)\n",
    "\n",
    "xx=rho\n",
    "yy=integrands\n",
    "colors = cm.rainbow(np.linspace(0,1,len(Fe)))\n",
    "fig, (ax1, ax2) = plt.subplots(nrows=2, ncols=1, sharex=True, figsize=(8,5),\n",
    "                               gridspec_kw={'height_ratios': [3.5, 1]})\n",
    "for ff in range(len(Fe)):\n",
    "    ax1.loglog(rho, yy[ff], color=colors[ff], label = 'Fe=%.2f' % Fe[ff], alpha=0.5)\n",
    "    ax2.scatter(xx, np.isnan(yy[ff]), marker='x', s=1, color=colors[ff], alpha=0.5)\n",
    "\n",
    "# ax1.loglog(xx, yy[0], label='Num=%dx%d=%d, Fe_bar=%.2f' % (F,L,Num, Fe_bar), marker='x', markersize=5, linestyle='')\n",
    "ax1.set_title(r'integrand = $\\frac{\\sqrt{2\\mathcal{F}_e}}{\\rho} \\mathcal{I}_1 ( \\rho\\sqrt{2\\mathcal{F}_e} ) e^{-\\mathcal{F}_e - \\frac{1}{2}\\rho^2}$', \n",
    "               fontsize=12)\n",
    "ax1.set_ylabel('integrand')\n",
    "ax1.axhline(1, color='k', alpha=0.5, ls='--', label='integrand=1')\n",
    "ax1.legend()\n",
    "\n",
    "\n",
    "ax2.set_ylabel('is nan')\n",
    "ax2.set_xlabel(r'$\\rho$', fontsize=14)\n",
    "\n",
    "fig.tight_layout()"
   ]
  },
  {
   "cell_type": "code",
   "execution_count": null,
   "metadata": {},
   "outputs": [],
   "source": [
    "\n",
    "# for ff in range(len(Fe)):\n",
    "#     plt.loglog(rho, integrands[ff], color=colors[ff], label = 'Fe=%.2f' % Fe[ff], alpha=0.5)\n",
    "# plt.legend(loc='lower left')\n",
    "# plt.xlabel(r'$\\rho$')\n",
    "# plt.ylabel('integrand')\n",
    "# plt.plot(np.arange(len(Fe)), Fe)\n",
    "\n",
    "xx=rho\n",
    "yy=I1\n",
    "colors = cm.rainbow(np.linspace(0,1,len(Fe)))\n",
    "fig, (ax1, ax2, ax3) = plt.subplots(nrows=3, ncols=1, sharex=True, figsize=(8,5),\n",
    "                               gridspec_kw={'height_ratios': [3.5, 1, 1]})\n",
    "for ff in range(len(Fe)):\n",
    "    ax1.loglog(rho, yy[ff]/10**50, color=colors[ff], label = 'Fe=%.2f' % Fe[ff], alpha=0.5)\n",
    "    ax2.scatter(xx, np.isnan(yy[ff]), marker='x', s=1, color=colors[ff], alpha=0.5)\n",
    "    ax3.scatter(xx, np.isinf(yy[ff]), marker='x', s=1, color=colors[ff], alpha=0.5)\n",
    "\n",
    "# ax1.loglog(xx, yy[0], label='Num=%dx%d=%d, Fe_bar=%.2f' % (F,L,Num, Fe_bar), marker='x', markersize=5, linestyle='')\n",
    "ax1.set_title(r'$\\mathcal{I}_1 ( \\rho\\sqrt{2\\mathcal{F}_e} ) $', \n",
    "               fontsize=12)\n",
    "ax1.set_ylabel(r'$\\mathcal{I}_1 ( \\rho\\sqrt{2\\mathcal{F}_e} ) /10^{50}$')\n",
    "# ax1.axhline(1, color='k', alpha=0.5, ls='--', label='$\\gamma_i$=1')\n",
    "ax1.legend()\n",
    "ax1.set_ylim(10**-54, 10**19) # it won't let me set ymax above 10^19\n",
    "\n",
    "\n",
    "ax2.set_ylabel('is nan')\n",
    "ax2.set_ylim(-0.1,1.1)\n",
    "ax3.set_ylabel('is inf')\n",
    "ax3.set_ylim(-0.1,1.1)\n",
    "ax3.set_xlabel(r'$\\rho$', fontsize=14)\n",
    "\n",
    "fig.tight_layout()"
   ]
  },
  {
   "cell_type": "code",
   "execution_count": null,
   "metadata": {},
   "outputs": [],
   "source": [
    "print(I1[np.isinf(I1)].size)\n",
    "print(I1.size)"
   ]
  },
  {
   "attachments": {},
   "cell_type": "markdown",
   "metadata": {},
   "source": [
    "## Try setting inf I1 to large"
   ]
  },
  {
   "cell_type": "code",
   "execution_count": null,
   "metadata": {},
   "outputs": [],
   "source": [
    "\n",
    "def _integrand_max(Fe, rho):\n",
    "\n",
    "    I_1 = special.i1(rho*np.sqrt(2*Fe))\n",
    "    if np.isinf(I_1): I_1 = 10**300\n",
    "    rv = (2*Fe)**(1/2) /rho * I_1 * np.exp(-Fe - rho**2 /2)\n",
    "    return rv\n",
    "\n",
    "def integrate_rho_max(Fe_bar, rho):\n",
    "    \"\"\" Calculate the detection probability for each single source in each realization.\n",
    "    \n",
    "    Parameters\n",
    "    ----------\n",
    "    rho : scalar\n",
    "    Fe_bar : scalar\n",
    "\n",
    "    Returns\n",
    "    -------\n",
    "    gamma) : float\n",
    "    \"\"\"\n",
    "    gamma_ssi = integrate.quad(_integrand_max, Fe_bar, np.inf, \n",
    "                               args=(rho))[0]\n",
    "    return gamma_ssi"
   ]
  },
  {
   "cell_type": "code",
   "execution_count": null,
   "metadata": {},
   "outputs": [],
   "source": [
    "\n",
    "def run_integration_max(rho, Fe):\n",
    "    ans = np.zeros_like(rho)\n",
    "    integrands = np.zeros((len(rho),len(Fe)))\n",
    "    I1 = np.zeros_like(integrands)    \n",
    "    for ii in range(len(rho)):\n",
    "        if ii%(len(rho)/10) == 0:\n",
    "            print(ii, 'out of', len(rho))\n",
    "        ans[ii] = integrate_rho_max(Fe_bar, rho[ii])\n",
    "        for ff in range(len(Fe)):\n",
    "            integrands[ii,ff] = _integrand_max(Fe[ff], rho[ii])\n",
    "            I1[ii,ff] = special.i1(rho[ii]*np.sqrt(2*Fe[ff]))\n",
    "    return ans, integrands, I1\n",
    "\n",
    "ans_max, integrands_max, I1 = run_integration_max(rho, Fe)\n",
    "ans2_max, integrands2_max, I12 = run_integration_max(rho2, Fe)\n",
    "\n",
    "\n",
    "# rint(Fe_bar)\n",
    "# Fe = np.linspace(start=15, stop=1000, num=10)\n",
    "# integrands_max = np.zeros((len(Fe), len(rho)))\n",
    "# I1_max = np.zeros_like(integrands)\n",
    "# ans_max = np.zeros_like(rho)\n",
    "\n",
    "# for ii in range(len(rho)):\n",
    "#     ans_max[ii] = integrate_rho_max(Fe_bar, rho[ii])\n",
    "#     if ii%(len(rho)/10) == 0:\n",
    "#         print('on', ii, 'out of', len(rho))\n",
    "#         for ff in range(len(Fe)):\n",
    "#             integrands_max[ff,ii] = _integrand(Fe=Fe[ff], rho=rho[ii])\n",
    "#             I1_max[ff,ii] = special.i1(rho[ii]*np.sqrt(2*Fe[ff]))"
   ]
  },
  {
   "attachments": {},
   "cell_type": "markdown",
   "metadata": {},
   "source": [
    "Find max gamma"
   ]
  },
  {
   "cell_type": "code",
   "execution_count": null,
   "metadata": {},
   "outputs": [],
   "source": [
    "print('max gamma = gamma[rho=%.2f] = %.10f' % (rho[np.argmax(ans_max)], np.max(ans_max)))\n",
    "index_one = 0\n",
    "ii=0\n",
    "while index_one==0:\n",
    "    if(ans_max[ii]>=1): index_one = ii\n",
    "    ii+=1\n",
    "print('First gamma>=1 = gamma(rho=%.2f) =  %.10f' % (rho[index_one], ans_max[index_one]))\n",
    "\n",
    "# print(ans_max[index_one], ans_max[index_one+1], ans_max[index_one+2])\n",
    "# for ii in range(index_one, len(ans_max)-1):\n",
    "#     if(ans_max[ii]<ans_max[ii+1]):\n",
    "#         print(ii, 'increasing')\n",
    "#     elif((ans_max[ii]>ans_max[ii+1])):\n",
    "#         print(ii,'decreasing')\n",
    "\n",
    "deriv = np.diff(ans_max)/ans_max[1:]\n",
    "plt.scatter(rho[1:], deriv>0)\n",
    "plt.xscale('log')\n",
    "plt.axvline(rho[index_one], color='k', linestyle='dashed')\n",
    "\n"
   ]
  },
  {
   "attachments": {},
   "cell_type": "markdown",
   "metadata": {},
   "source": [
    "Plot gamma v rho"
   ]
  },
  {
   "cell_type": "code",
   "execution_count": null,
   "metadata": {},
   "outputs": [],
   "source": [
    "xx = rho\n",
    "yy = ans_max\n",
    "\n",
    "fig, (ax1, ax2) = plt.subplots(nrows=2, ncols=1, sharex=True, figsize=(8,5),\n",
    "                               gridspec_kw={'height_ratios': [3.5, 1]})\n",
    "ax1.loglog(xx, yy, label='Num=%dx%d=%d, Fe_bar=%.2f' % (F,L,Num, Fe_bar), marker='x', markersize=5, linestyle='')\n",
    "ax1.set_title(r'$\\gamma_i(\\rho) = \\int_{\\bar{\\mathcal{F}}_e}^\\infty \\frac{\\sqrt{2\\mathcal{F}_e}}{\\rho} \\mathcal{I}_1 ( \\rho\\sqrt{2\\mathcal{F}_e} ) e^{-\\mathcal{F}_e - \\frac{1}{2}\\rho^2} d\\mathcal{F}_e$', \n",
    "               fontsize=12)\n",
    "ax1.set_ylabel('$\\gamma_i$')\n",
    "ax1.axhline(1, color='k', alpha=0.5, ls='--', label='$\\gamma_i$=1')\n",
    "ax1.axvline(rho[index_one], label=r'$\\gamma_i(\\rho=%.2f) = 1$' % rho[index_one], color='green', linestyle='--')\n",
    "ax1.legend()\n",
    "\n",
    "ax2.scatter(xx, np.isnan(yy), marker='x', s=5, color='tab:red')\n",
    "ax2.set_ylabel('is nan')\n",
    "ax2.set_xlabel(r'$\\rho$', fontsize=14)\n",
    "\n",
    "\n",
    "fig.tight_layout()"
   ]
  },
  {
   "attachments": {},
   "cell_type": "markdown",
   "metadata": {},
   "source": [
    "## Try setting inf values to 0"
   ]
  },
  {
   "cell_type": "code",
   "execution_count": null,
   "metadata": {},
   "outputs": [],
   "source": [
    "def _integrand_zero(Fe, rho):\n",
    "\n",
    "    I_1 = special.i1(rho*np.sqrt(2*Fe))\n",
    "    if np.isinf(I_1): \n",
    "        # print('zeroing at rho = %f' % rho)\n",
    "        return 0\n",
    "    # print('NOT zeroing at rho = %f' % rho)\n",
    "    rv = (2*Fe)**(1/2) /rho * I_1 * np.exp(-Fe - rho**2 /2)\n",
    "    return rv\n",
    "\n",
    "def integrate_rho_zero(Fe_bar, rho):\n",
    "    \"\"\" Calculate the detection probability for each single source in each realization.\n",
    "    \"\"\"\n",
    "    gamma_ssi = integrate.quad(_integrand_zero, Fe_bar, np.inf, \n",
    "                               args=(rho))[0]\n",
    "    return gamma_ssi"
   ]
  },
  {
   "attachments": {},
   "cell_type": "markdown",
   "metadata": {},
   "source": [
    "run integration"
   ]
  },
  {
   "cell_type": "code",
   "execution_count": null,
   "metadata": {},
   "outputs": [],
   "source": [
    "def run_integration_zero(rho, Fe):\n",
    "    ans = np.zeros_like(rho)\n",
    "    integrands = np.zeros((len(rho),len(Fe)))\n",
    "    for ii in range(len(rho)):\n",
    "        if ii%(len(rho)/10) == 0:\n",
    "            print(ii, 'out of', len(rho))\n",
    "        ans[ii] = integrate_rho_zero(Fe_bar, rho[ii])\n",
    "        for ff in range(len(Fe)):\n",
    "            integrands[ii,ff] = _integrand_zero(Fe[ff], rho[ii])\n",
    "    return ans, integrands\n",
    "\n",
    "ans_zero, integrands_zero = run_integration_zero(rho, Fe)\n",
    "ans2_zero, integrands2_zero = run_integration_zero(rho2, Fe)"
   ]
  },
  {
   "attachments": {},
   "cell_type": "markdown",
   "metadata": {},
   "source": [
    "find max gamma"
   ]
  },
  {
   "cell_type": "code",
   "execution_count": null,
   "metadata": {},
   "outputs": [],
   "source": [
    "print('max gamma = gamma[rho=%.2f] = %.15f' % (rho[np.argmax(ans_zero)], np.max(ans_zero)))\n",
    "index_zero = 0\n",
    "ii=0\n",
    "while index_zero==0:\n",
    "    if(ans_zero[ii]>=1): index_zero = ii\n",
    "    ii+=1\n",
    "print('First gamma>=1 = gamma(rho=%.2f) =  %.15f' % (rho[index_zero], ans_max[index_zero]))\n",
    "\n",
    "# print(ans_max[index_one], ans_max[index_one+1], ans_max[index_one+2])\n",
    "# for ii in range(index_one, len(ans_max)-1):\n",
    "#     if(ans_max[ii]<ans_max[ii+1]):\n",
    "#         print(ii, 'increasing')\n",
    "#     elif((ans_max[ii]>ans_max[ii+1])):\n",
    "#         print(ii,'decreasing')\n",
    "\n",
    "# deriv = np.diff(ans_zero)/ans_zero[1:]\n",
    "# plt.scatter(rho[1:], deriv>0)\n",
    "# plt.xscale('log')\n",
    "# plt.axvline(rho[index_zero], color='k', linestyle='dashed')\n",
    "\n"
   ]
  },
  {
   "attachments": {},
   "cell_type": "markdown",
   "metadata": {},
   "source": [
    "plot gamma"
   ]
  },
  {
   "cell_type": "code",
   "execution_count": null,
   "metadata": {},
   "outputs": [],
   "source": [
    "xx = rho\n",
    "yy = ans_zero\n",
    "\n",
    "fig, (ax1, ax2) = plt.subplots(nrows=2, ncols=1, sharex=True, figsize=(8,5),\n",
    "                               gridspec_kw={'height_ratios': [3.5, 1]})\n",
    "ax1.loglog(xx, yy, label='np.inf $ \\mathcal{I}_1 = 0$\\n', marker='x', markersize=5, linestyle='')\n",
    "ax1.set_title('Num=%dx%d=%d, Fe_bar=%.2f\\n' % (F,L,Num, Fe_bar) + r'$\\gamma_i(\\rho) = \\int_{\\bar{\\mathcal{F}}_e}^\\infty \\frac{\\sqrt{2\\mathcal{F}_e}}{\\rho} \\mathcal{I}_1 ( \\rho\\sqrt{2\\mathcal{F}_e} ) e^{-\\mathcal{F}_e - \\frac{1}{2}\\rho^2} d\\mathcal{F}_e$', \n",
    "               fontsize=12)\n",
    "ax1.set_ylabel('$\\gamma_i$')\n",
    "ax1.axhline(1, color='k', alpha=0.5, ls='--', label='$\\gamma_i$=1')\n",
    "ax1.axvline(rho[index_one], label=r'$\\gamma_i(\\rho=%.2f) = 1$' % rho[index_one], color='green', linestyle='--')\n",
    "ax1.legend()\n",
    "\n",
    "ax2.scatter(xx, np.isnan(yy), marker='x', s=5, color='tab:red')\n",
    "ax2.set_ylabel('is nan')\n",
    "ax2.set_xlabel(r'$\\rho$', fontsize=14)\n",
    "\n",
    "\n",
    "fig.tight_layout()"
   ]
  },
  {
   "cell_type": "code",
   "execution_count": null,
   "metadata": {},
   "outputs": [],
   "source": [
    "xx = rho\n",
    "yy = ans_zero\n",
    "\n",
    "fig, (ax1, ax2) = plt.subplots(nrows=2, ncols=1, sharex=True, figsize=(8,5),\n",
    "                               gridspec_kw={'height_ratios': [3.5, 1]})\n",
    "\n",
    "ax1.loglog(xx, ans_zero, label='np.inf $ \\mathcal{I}_1 = 0$', marker='o', markersize=2, \n",
    "           linestyle='', color='tab:green', alpha=0.5)\n",
    "ax1.loglog(xx, ans, label='np.inf $ \\mathcal{I}_1 = $np.nan', marker='+', markersize=2, \n",
    "           linestyle='', color='tab:orange', alpha=0.5)\n",
    "ax1.loglog(xx, ans_max, label='np.inf $ \\mathcal{I}_1 = 1e300$', marker='x', markersize=2, \n",
    "           linestyle='', color='tab:blue', alpha=0.5)\n",
    "\n",
    "ax1.set_title('Num=%dx%d=%d, Fe_bar=%.2f\\n' % (F,L,Num, Fe_bar) + r'$\\gamma_i(\\rho) = \\int_{\\bar{\\mathcal{F}}_e}^\\infty \\frac{\\sqrt{2\\mathcal{F}_e}}{\\rho} \\mathcal{I}_1 ( \\rho\\sqrt{2\\mathcal{F}_e} ) e^{-\\mathcal{F}_e - \\frac{1}{2}\\rho^2} d\\mathcal{F}_e$', \n",
    "               fontsize=12)\n",
    "ax1.set_ylabel('$\\gamma_i$')\n",
    "ax1.axhline(1, color='k', alpha=0.5, ls='--', label='$\\gamma_i$=1')\n",
    "ax1.axvline(rho[index_one], label=r'$\\gamma_i(\\rho=%.2f) = 1$' % rho[index_one], color='green', linestyle='--')\n",
    "ax1.legend()\n",
    "\n",
    "ax2.scatter(xx, np.isnan(ans_zero), marker='x', s=1, color='tab:green', alpha=0.5)\n",
    "ax2.scatter(xx, np.isnan(ans), marker='x', s=1, color='tab:orange', alpha=0.5)\n",
    "ax2.scatter(xx, np.isnan(ans_max), marker='x', s=1, color='tab:blue', alpha=0.5)\n",
    "ax2.set_ylabel('is nan')\n",
    "ax2.set_xlabel(r'$\\rho$', fontsize=14)\n",
    "\n",
    "\n",
    "fig.tight_layout()"
   ]
  },
  {
   "cell_type": "code",
   "execution_count": null,
   "metadata": {},
   "outputs": [],
   "source": [
    "xx = rho\n",
    "yy = ans_zero\n",
    "\n",
    "fig, (ax1, ax2, ax3) = plt.subplots(nrows=3, ncols=1, sharex=True, figsize=(8,8))\n",
    "\n",
    "ax1.loglog(xx, ans, label='np.inf $ \\mathcal{I}_1 = $np.nan', marker='x', markersize=2, \n",
    "           linestyle='', color='tab:orange', alpha=0.5)\n",
    "ax2.loglog(xx, ans_zero, label='np.inf $ \\mathcal{I}_1 = 0$', marker='x', markersize=2, \n",
    "           linestyle='', color='tab:green', alpha=0.5)\n",
    "ax3.loglog(xx, ans_max, label='np.inf $ \\mathcal{I}_1 = 1e300$', marker='x', markersize=2, \n",
    "           linestyle='', color='tab:blue', alpha=0.5)\n",
    "\n",
    "ax1.set_title('Num=%dx%d=%d, Fe_bar=%.2f\\n' % (F,L,Num, Fe_bar) + r'$\\gamma_i(\\rho) = \\int_{\\bar{\\mathcal{F}}_e}^\\infty \\frac{\\sqrt{2\\mathcal{F}_e}}{\\rho} \\mathcal{I}_1 ( \\rho\\sqrt{2\\mathcal{F}_e} ) e^{-\\mathcal{F}_e - \\frac{1}{2}\\rho^2} d\\mathcal{F}_e$', \n",
    "               fontsize=12)\n",
    "\n",
    "for ax in (ax1, ax2, ax3):\n",
    "    ax.set_ylabel('$\\gamma_i$')\n",
    "    ax.axhline(1, color='k', alpha=0.5, ls='--')\n",
    "    ax.axvline(rho[index_one], linestyle='--')\n",
    "\n",
    "\n",
    "ax3.set_xlabel(r'$\\rho$', fontsize=14)\n",
    "\n",
    "fig.legend()\n",
    "\n",
    "\n",
    "fig.tight_layout()"
   ]
  },
  {
   "cell_type": "code",
   "execution_count": null,
   "metadata": {},
   "outputs": [],
   "source": [
    "fig, (ax1, ax2) = plt.subplots(nrows=2, ncols=1, sharex=True, \n",
    "                               gridspec_kw={'height_ratios': [2, 1]})\n",
    "ax1.set_title('Ratio of gamma_i with inf I_1 vals set to 1e300 / set to 0')\n",
    "ax1.loglog(xx, ans_max/ans_zero, label='maxed / zero-ed', marker='x', markersize=2, \n",
    "           linestyle='', color='tab:blue', alpha=0.5)\n",
    "ax1.set_ylabel('ratio')\n",
    "ax1.legend()\n",
    "ax2.plot(xx, ans_max==ans_zero, color='red', label = 'maxed==zeroed')\n",
    "ax2.set_ylabel('equals')\n",
    "ax2.legend()\n",
    "ax2.set_xlabel(r'$\\rho')\n",
    "fig.tight_layout()"
   ]
  },
  {
   "attachments": {},
   "cell_type": "markdown",
   "metadata": {},
   "source": [
    "plot integrand"
   ]
  },
  {
   "cell_type": "code",
   "execution_count": null,
   "metadata": {},
   "outputs": [],
   "source": [
    "\n",
    "# for ff in range(len(Fe)):\n",
    "#     plt.loglog(rho, integrands[ff], color=colors[ff], label = 'Fe=%.2f' % Fe[ff], alpha=0.5)\n",
    "# plt.legend(loc='lower left')\n",
    "# plt.xlabel(r'$\\rho$')\n",
    "# plt.ylabel('integrand')\n",
    "# plt.plot(np.arange(len(Fe)), Fe)\n",
    "\n",
    "xx=rho\n",
    "y1=integrands\n",
    "y2=integrands_zero\n",
    "colors = cm.rainbow(np.linspace(0,1,len(Fe)))\n",
    "fig, ((ax1, ax2), (ax3, ax4)) = plt.subplots(nrows=2, ncols=2, sharex=True, figsize=(12,5),\n",
    "                               gridspec_kw={'height_ratios': [3.5, 1]})\n",
    "for ff in range(len(Fe)):\n",
    "    ax1.loglog(xx, y1[:,ff], color=colors[ff], alpha=0.5)\n",
    "    ax3.scatter(xx, np.isnan(y1[:,ff]), marker='x', s=1, color=colors[ff], alpha=0.5)\n",
    "    ax2.loglog(xx, y2[:,ff], color=colors[ff], label = 'Fe=%.2f' % Fe[ff], alpha=0.5)\n",
    "    ax4.scatter(xx, np.isnan(y2[:,ff]), marker='x', s=1, color=colors[ff], alpha=0.5)\n",
    "\n",
    "# ax1.loglog(xx, yy[0], label='Num=%dx%d=%d, Fe_bar=%.2f' % (F,L,Num, Fe_bar), marker='x', markersize=5, linestyle='')\n",
    "ax1.set_title('np.inf $ \\mathcal{I}_1 =$np.nan \\n' + r'integrand = $\\frac{\\sqrt{2\\mathcal{F}_e}}{\\rho} \\mathcal{I}_1 ( \\rho\\sqrt{2\\mathcal{F}_e} ) e^{-\\mathcal{F}_e - \\frac{1}{2}\\rho^2}$', \n",
    "               fontsize=12)\n",
    "ax2.set_title('np.inf $ \\mathcal{I}_1 = 0$ \\n' + r'integrand = $\\frac{\\sqrt{2\\mathcal{F}_e}}{\\rho} \\mathcal{I}_1 ( \\rho\\sqrt{2\\mathcal{F}_e} ) e^{-\\mathcal{F}_e - \\frac{1}{2}\\rho^2}$', \n",
    "               fontsize=12)\n",
    "ax1.set_ylabel('integrand')\n",
    "ax1.axhline(1, color='k', alpha=0.5, ls='--', label='integrand=1')\n",
    "fig.legend()\n",
    "\n",
    "\n",
    "ax3.set_ylabel('is nan')\n",
    "ax3.set_xlabel(r'$\\rho$', fontsize=14)\n",
    "ax4.set_xlabel(r'$\\rho$', fontsize=14)\n",
    "ax4.sharey(ax3)\n",
    "\n",
    "fig.tight_layout()"
   ]
  },
  {
   "attachments": {},
   "cell_type": "markdown",
   "metadata": {},
   "source": [
    "## Try using bessel approximation"
   ]
  },
  {
   "cell_type": "code",
   "execution_count": null,
   "metadata": {},
   "outputs": [],
   "source": [
    "def _mod_bessel_1(x):\n",
    "    term1 = np.exp(x)/np.sqrt(2*np.pi*x)\n",
    "    term2 = 1-3/8/x * (1+5/2/8/x * (1 + 21/3/8/x))\n",
    "    I_1 = term1*term2\n",
    "    return I_1\n",
    "\n",
    "def _integrand_aprx(Fe, rho):\n",
    "\n",
    "    I_1 = _mod_bessel_1(rho*np.sqrt(2*Fe))\n",
    "    if np.isinf(I_1): \n",
    "        # print('zeroing at rho = %f' % rho)\n",
    "        return 0\n",
    "    # print('NOT zeroing at rho = %f' % rho)\n",
    "    rv = (2*Fe)**(1/2) /rho * I_1 * np.exp(-Fe - rho**2 /2)\n",
    "    return rv\n",
    "\n",
    "def integrate_rho_aprx(Fe_bar, rho):\n",
    "    \"\"\" Calculate the detection probability for each single source in each realization.\n",
    "    \"\"\"\n",
    "    gamma_ssi = integrate.quad(_integrand_aprx, Fe_bar, np.inf, \n",
    "                               args=(rho))[0]\n",
    "    return gamma_ssi"
   ]
  },
  {
   "attachments": {},
   "cell_type": "markdown",
   "metadata": {},
   "source": [
    "run integration"
   ]
  },
  {
   "cell_type": "code",
   "execution_count": null,
   "metadata": {},
   "outputs": [],
   "source": [
    "def run_integration_aprx(rho, Fe):\n",
    "    ans = np.zeros_like(rho)\n",
    "    integrands = np.zeros((len(rho),len(Fe)))\n",
    "    for ii in range(len(rho)):\n",
    "        if ii%(len(rho)/10) == 0:\n",
    "            print(ii, 'out of', len(rho))\n",
    "        ans[ii] = integrate_rho_aprx(Fe_bar, rho[ii])\n",
    "        for ff in range(len(Fe)):\n",
    "            integrands[ii,ff] = _integrand_aprx(Fe[ff], rho[ii])\n",
    "    return ans, integrands\n",
    "ans_aprx, integrands_aprx = run_integration_aprx(rho, Fe)\n",
    "ans2_aprx, integrands2_aprx = run_integration_aprx(rho2, Fe)"
   ]
  },
  {
   "attachments": {},
   "cell_type": "markdown",
   "metadata": {},
   "source": [
    "Find DP=1"
   ]
  },
  {
   "cell_type": "code",
   "execution_count": null,
   "metadata": {},
   "outputs": [],
   "source": [
    "print(rho.shape, ans_aprx.shape)"
   ]
  },
  {
   "cell_type": "code",
   "execution_count": null,
   "metadata": {},
   "outputs": [],
   "source": [
    "print('max gamma = gamma[rho=%.2f] = %.10f' % (rho[np.argmax(ans_aprx)], np.max(ans_aprx)))\n",
    "index_aprx = 0\n",
    "ii=0\n",
    "while index_aprx==0 and ii<len(ans_aprx):\n",
    "    if(ans_aprx[ii]>=1): index_aprx = ii\n",
    "    ii+=1\n",
    "print('First gamma>=1 = gamma(rho=%.2f) =  %.10f' % (rho[index_aprx], ans_aprx[index_aprx]))\n",
    "# print(ans_aprx)"
   ]
  },
  {
   "cell_type": "code",
   "execution_count": null,
   "metadata": {},
   "outputs": [],
   "source": [
    "xx = rho\n",
    "yy = ans_aprx\n",
    "\n",
    "fig, (ax1, ax2) = plt.subplots(nrows=2, ncols=1, sharex=True, figsize=(8,5),\n",
    "                               gridspec_kw={'height_ratios': [3.5, 1]})\n",
    "ax1.loglog(xx, yy, label='approx $ \\mathcal{I}_1$\\n', marker='x', markersize=5, linestyle='')\n",
    "ax1.set_title('Num=%dx%d=%d, Fe_bar=%.2f\\n' % (F,L,Num, Fe_bar) + r'$\\gamma_i(\\rho) = \\int_{\\bar{\\mathcal{F}}_e}^\\infty \\frac{\\sqrt{2\\mathcal{F}_e}}{\\rho} \\mathcal{I}_1 ( \\rho\\sqrt{2\\mathcal{F}_e} ) e^{-\\mathcal{F}_e - \\frac{1}{2}\\rho^2} d\\mathcal{F}_e$', \n",
    "               fontsize=12)\n",
    "ax1.set_ylabel('$\\gamma_i$')\n",
    "ax1.axhline(1, color='k', alpha=0.5, ls='--', label='$\\gamma_i$=1')\n",
    "ax1.axvline(rho[index_one], label=r'$\\gamma_i(\\rho=%.2f) = 1$' % rho[index_one], color='green', linestyle='--')\n",
    "ax1.legend()\n",
    "\n",
    "ax2.scatter(xx, np.isnan(yy), marker='x', s=5, color='tab:red')\n",
    "ax2.set_ylabel('is nan')\n",
    "ax2.set_xlabel(r'$\\rho$', fontsize=14)\n",
    "\n",
    "\n",
    "fig.tight_layout()"
   ]
  },
  {
   "attachments": {},
   "cell_type": "markdown",
   "metadata": {},
   "source": [
    "plot integrands"
   ]
  },
  {
   "cell_type": "code",
   "execution_count": null,
   "metadata": {},
   "outputs": [],
   "source": [
    "\n",
    "# for ff in range(len(Fe)):\n",
    "#     plt.loglog(rho, integrands[ff], color=colors[ff], label = 'Fe=%.2f' % Fe[ff], alpha=0.5)\n",
    "# plt.legend(loc='lower left')\n",
    "# plt.xlabel(r'$\\rho$')\n",
    "# plt.ylabel('integrand')\n",
    "# plt.plot(np.arange(len(Fe)), Fe)\n",
    "\n",
    "xx=rho\n",
    "y1=integrands\n",
    "y2=integrands_aprx\n",
    "colors = cm.rainbow(np.linspace(0,1,len(Fe)))\n",
    "fig, ((ax1, ax2), (ax3, ax4)) = plt.subplots(nrows=2, ncols=2, sharex=True, figsize=(12,5),\n",
    "                               gridspec_kw={'height_ratios': [3.5, 1]})\n",
    "for ff in range(len(Fe)):\n",
    "    ax1.loglog(rho, y1[:,ff], color=colors[ff], alpha=0.5)\n",
    "    ax3.scatter(xx, np.isnan(y1[:,ff]), marker='x', s=1, color=colors[ff], alpha=0.5)\n",
    "    ax2.loglog(rho, y2[:,ff], color=colors[ff], label = 'Fe=%.2f' % Fe[ff], alpha=0.5)\n",
    "    ax4.scatter(xx, np.isnan(y2[:,ff]), marker='x', s=1, color=colors[ff], alpha=0.5)\n",
    "\n",
    "# ax1.loglog(xx, yy[0], label='Num=%dx%d=%d, Fe_bar=%.2f' % (F,L,Num, Fe_bar), marker='x', markersize=5, linestyle='')\n",
    "ax1.set_title('np.inf $ \\mathcal{I}_1 =$np.nan \\n' + r'integrand = $\\frac{\\sqrt{2\\mathcal{F}_e}}{\\rho} \\mathcal{I}_1 ( \\rho\\sqrt{2\\mathcal{F}_e} ) e^{-\\mathcal{F}_e - \\frac{1}{2}\\rho^2}$', \n",
    "               fontsize=12)\n",
    "ax2.set_title('approx $ \\mathcal{I}_1$ \\n' + r'integrand = $\\frac{\\sqrt{2\\mathcal{F}_e}}{\\rho} \\mathcal{I}_1 ( \\rho\\sqrt{2\\mathcal{F}_e} ) e^{-\\mathcal{F}_e - \\frac{1}{2}\\rho^2}$', \n",
    "               fontsize=12)\n",
    "ax1.set_ylabel('integrand')\n",
    "ax1.axhline(1, color='k', alpha=0.5, ls='--', label='integrand=1')\n",
    "fig.legend()\n",
    "\n",
    "\n",
    "ax3.set_ylabel('is nan')\n",
    "ax3.set_xlabel(r'$\\rho$', fontsize=14)\n",
    "ax4.set_xlabel(r'$\\rho$', fontsize=14)\n",
    "ax4.sharey(ax3)\n",
    "\n",
    "fig.tight_layout()"
   ]
  },
  {
   "cell_type": "code",
   "execution_count": null,
   "metadata": {},
   "outputs": [],
   "source": [
    "xx = rho\n",
    "yy = ans_zero\n",
    "\n",
    "fig, (ax1, ax2) = plt.subplots(nrows=2, ncols=1, sharex=True, figsize=(6,5))\n",
    "\n",
    "ax1.loglog(xx, ans, label='np.inf $ \\mathcal{I}_1 = $np.nan', marker='x', markersize=2, \n",
    "           linestyle='', color='tab:orange', alpha=0.5)\n",
    "ax2.loglog(xx, ans_aprx, label='aprx $ \\mathcal{I}_1$', marker='x', markersize=2, \n",
    "           linestyle='', color='tab:green', alpha=0.5)\n",
    "\n",
    "ax1.set_title('Num=%dx%d=%d, Fe_bar=%.2f\\n' % (F,L,Num, Fe_bar) + r'$\\gamma_i(\\rho) = \\int_{\\bar{\\mathcal{F}}_e}^\\infty \\frac{\\sqrt{2\\mathcal{F}_e}}{\\rho} \\mathcal{I}_1 ( \\rho\\sqrt{2\\mathcal{F}_e} ) e^{-\\mathcal{F}_e - \\frac{1}{2}\\rho^2} d\\mathcal{F}_e$', \n",
    "               fontsize=12)\n",
    "\n",
    "for ax in (ax1, ax2):\n",
    "    ax.set_ylabel('$\\gamma_i$')\n",
    "    ax.axhline(1, color='k', alpha=0.5, ls='--')\n",
    "    ax.axvline(rho[index_one], linestyle='--')\n",
    "\n",
    "\n",
    "ax2.set_xlabel(r'$\\rho$', fontsize=14)\n",
    "ax2.sharey(ax1)\n",
    "\n",
    "fig.legend(loc='lower left')\n",
    "\n",
    "\n",
    "fig.tight_layout()"
   ]
  },
  {
   "attachments": {},
   "cell_type": "markdown",
   "metadata": {},
   "source": [
    "## Try conjoined combo"
   ]
  },
  {
   "cell_type": "code",
   "execution_count": null,
   "metadata": {},
   "outputs": [],
   "source": [
    "Fe_bar = np.float64(Fe_bar)\n",
    "2*np.sqrt(2*Fe_bar)"
   ]
  },
  {
   "cell_type": "code",
   "execution_count": null,
   "metadata": {},
   "outputs": [],
   "source": [
    "def _I1_approx(xx):\n",
    "    \"\"\" Modified Bessel Function of the first kind, first order, expansion for large values.\n",
    "    \"\"\"\n",
    "    term1 = np.exp(xx)/np.sqrt(2*np.pi*xx)\n",
    "    term2 = 1-3/8/xx * (1+5/2/8/xx * (1 + 21/3/8/xx))\n",
    "    I_1 = term1*term2\n",
    "    return I_1\n",
    "\n",
    "# def _integrand(Fe, rho, cutoff=10.0):\n",
    "#     xx = rho*np.sqrt(2*Fe)\n",
    "#     if xx <= cutoff: I_1 = special.i1(xx) \n",
    "#     else: I_1 = _I1_approx(xx) # use the approx expansion for large values\n",
    "#     rv = (2*Fe)**(1/2) /rho * I_1 * np.exp(-Fe - rho**2 /2)\n",
    "#     return rv\n",
    "\n",
    "def _integrand_conj(Fe, rho): \n",
    "    xx = rho*np.sqrt(2*Fe)\n",
    "    I_1 = special.i1(xx) \n",
    "    if np.isinf(I_1): # check if nan\n",
    "        I_1 = _I1_approx(xx) # this could still be inf\n",
    "        # if np.isinf(I_1): print('I_1(%.2f, %.2f) approx is inf' % (Fe, rho))\n",
    "    rv = (2*Fe)**(1/2) /rho * I_1 * np.exp(-Fe - rho**2 /2)\n",
    "    return rv\n",
    "\n",
    "\n",
    "def integrate_rho_conj(Fe_bar, rho):\n",
    "    \"\"\" Calculate the detection probability for each single source in each realization.\n",
    "    \"\"\"\n",
    "\n",
    "    # try high Fe instead of np.inf\n",
    "    gamma_ssi = integrate.quad(_integrand_conj, Fe_bar, np.inf, \n",
    "                               args=(rho))[0]\n",
    "    return gamma_ssi"
   ]
  },
  {
   "attachments": {},
   "cell_type": "markdown",
   "metadata": {},
   "source": [
    "run integration"
   ]
  },
  {
   "cell_type": "code",
   "execution_count": null,
   "metadata": {},
   "outputs": [],
   "source": [
    "\n",
    "def run_integration_conj(rho, Fe):\n",
    "    ans = np.zeros_like(rho)\n",
    "    integrands = np.zeros((len(rho),len(Fe)))\n",
    "    for ii in range(len(rho)):\n",
    "        if ii%(len(rho)/10) == 0:\n",
    "            print(ii, 'out of', len(rho))\n",
    "        ans[ii] = integrate_rho_conj(Fe_bar, rho[ii])\n",
    "        for ff in range(len(Fe)):\n",
    "            integrands[ii,ff] = _integrand_conj(Fe[ff], rho[ii])\n",
    "    return ans, integrands\n",
    "\n",
    "ans_conj, integrands_conj = run_integration_conj(rho, Fe)\n",
    "ans2_conj, integrands2_conj = run_integration_conj(rho2, Fe)"
   ]
  },
  {
   "attachments": {},
   "cell_type": "markdown",
   "metadata": {},
   "source": [
    "Find DP=1"
   ]
  },
  {
   "cell_type": "code",
   "execution_count": null,
   "metadata": {},
   "outputs": [],
   "source": [
    "print('number of nans:', np.sum(np.isnan(ans_conj)))\n",
    "# ans_conj[np.isnan(ans_conj)] = 0\n",
    "\n",
    "print('max gamma = gamma[rho=%.2f] = %.10f' % (rho[np.nanargmax(ans_conj)], np.nanmax(ans_conj)))\n",
    "index_conj = 0\n",
    "ii=0\n",
    "while index_conj==0 and ii<len(ans_conj):\n",
    "    if(ans_conj[ii]>=1): index_conj = ii\n",
    "    ii+=1\n",
    "print('First gamma>=1 = gamma(rho=%.2f) =  %.10f' % (rho[index_conj], ans_aprx[index_conj]))\n",
    "# print(ans_conj)\n",
    "print(np.max(ans_conj))\n",
    "\n",
    "# never quite reaches 1!"
   ]
  },
  {
   "cell_type": "code",
   "execution_count": null,
   "metadata": {},
   "outputs": [],
   "source": [
    "print(ans_conj[np.isinf(ans_conj)]) # none are infinity"
   ]
  },
  {
   "attachments": {},
   "cell_type": "markdown",
   "metadata": {},
   "source": [
    "plot gamma vs rho"
   ]
  },
  {
   "cell_type": "code",
   "execution_count": null,
   "metadata": {},
   "outputs": [],
   "source": [
    "def plot_gamma(rho, ans, label='', index_one=None):\n",
    "    xx = rho\n",
    "    yy = ans\n",
    "\n",
    "    fig, (ax1, ax2) = plt.subplots(nrows=2, ncols=1, sharex=True, figsize=(8,5),\n",
    "                                gridspec_kw={'height_ratios': [3.5, 1]})\n",
    "    ax1.loglog(xx, yy, label=label, marker='x', markersize=5, linestyle='')\n",
    "    ax1.set_title('Num=%dx%d=%d, Fe_bar=%.2f\\n' % (F,L,Num, Fe_bar) + r'$\\gamma_i(\\rho) = \\int_{\\bar{\\mathcal{F}}_e}^\\infty \\frac{\\sqrt{2\\mathcal{F}_e}}{\\rho} \\mathcal{I}_1 ( \\rho\\sqrt{2\\mathcal{F}_e} ) e^{-\\mathcal{F}_e - \\frac{1}{2}\\rho^2} d\\mathcal{F}_e$', \n",
    "                fontsize=12)\n",
    "    ax1.set_ylabel('$\\gamma_i$')\n",
    "    ax1.axhline(1, color='k', alpha=0.5, ls='--', label='$\\gamma_i$=1')\n",
    "    if index_one is not None:\n",
    "        ax1.axvline(rho[index_one], label=r'$\\gamma_i(\\rho=%.2f) = %.2f$' \n",
    "                    % (rho[index_one], yy[index_one]), color='green', linestyle='--')\n",
    "    ax1.legend()\n",
    "\n",
    "    ax2.scatter(xx, np.isnan(yy), marker='x', s=5, color='tab:red')\n",
    "    ax2.set_ylabel('is nan')\n",
    "    ax2.set_xlabel(r'$\\rho$', fontsize=14)\n",
    "\n",
    "\n",
    "    fig.tight_layout()\n",
    "    return fig\n",
    "\n",
    "fig = plot_gamma(rho, ans_conj, label='Conjoined $ \\mathcal{I}_1$', index_one=np.nanargmax(ans_conj))\n",
    "fig = plot_gamma(rho2, ans2_conj, label='Conjoined $ \\mathcal{I}_1$', index_one=np.nanargmax(ans2_conj))"
   ]
  },
  {
   "cell_type": "code",
   "execution_count": null,
   "metadata": {},
   "outputs": [],
   "source": [
    "def plot_3_gamma(rho, ans1, ans2, ans3, label1, label2, label3):\n",
    "    xx = rho\n",
    "\n",
    "    fig, (ax1, ax2, ax3) = plt.subplots(nrows=3, ncols=1, sharex=True, figsize=(6,8))\n",
    "\n",
    "    ax1.loglog(xx, ans1, label=label1, marker='x', markersize=2, \n",
    "            linestyle='', color='tab:orange', alpha=0.5)\n",
    "    ax2.loglog(xx, ans2, label=label2, marker='x', markersize=2, \n",
    "            linestyle='', color='tab:green', alpha=0.5)\n",
    "    ax3.loglog(xx, ans3, label=label3, marker='x', markersize=2, \n",
    "            linestyle='', color='tab:blue', alpha=0.5)\n",
    "\n",
    "    ax1.set_title('Num=%dx%d=%d, Fe_bar=%.2f\\n' % (F,L,Num, Fe_bar) + r'$\\gamma_i(\\rho) = \\int_{\\bar{\\mathcal{F}}_e}^\\infty \\frac{\\sqrt{2\\mathcal{F}_e}}{\\rho} \\mathcal{I}_1 ( \\rho\\sqrt{2\\mathcal{F}_e} ) e^{-\\mathcal{F}_e - \\frac{1}{2}\\rho^2} d\\mathcal{F}_e$', \n",
    "                fontsize=12)\n",
    "\n",
    "    label_cutoff = r'cutoff $\\rho \\sqrt{2 \\bar{\\mathcal{F}}_e}$ = 0.0'\n",
    "    for ax in (ax1, ax2, ax3):\n",
    "        ax.set_ylabel('$\\gamma_i$')\n",
    "        ax.axhline(1, color='k', alpha=0.5, ls='--')\n",
    "        ax.axvline(rho[index_one], linestyle='--')\n",
    "        ax.axvline((0.0/np.sqrt(2*Fe_bar)), linestyle='--', color='pink', label=label_cutoff)\n",
    "        label_cutoff=None\n",
    "\n",
    "\n",
    "\n",
    "    ax3.set_xlabel(r'$\\rho$', fontsize=14)\n",
    "\n",
    "    fig.legend(loc='lower left')\n",
    "    fig.tight_layout()\n",
    "    return fig\n",
    "\n",
    "fig=plot_3_gamma(rho, ans, ans_aprx, ans_conj, label1='np.inf $ \\mathcal{I}_1 = $np.nan', label2='aprx $ \\mathcal{I}_1$', label3='conjoined $ \\mathcal{I}_1$')"
   ]
  },
  {
   "cell_type": "code",
   "execution_count": null,
   "metadata": {},
   "outputs": [],
   "source": [
    "\n",
    "# for ff in range(len(Fe)):\n",
    "#     plt.loglog(rho, integrands[ff], color=colors[ff], label = 'Fe=%.2f' % Fe[ff], alpha=0.5)\n",
    "# plt.legend(loc='lower left')\n",
    "# plt.xlabel(r'$\\rho$')\n",
    "# plt.ylabel('integrand')\n",
    "# plt.plot(np.arange(len(Fe)), Fe)\n",
    "\n",
    "xx=rho\n",
    "y1=integrands\n",
    "y2=integrands_conj\n",
    "colors = cm.rainbow(np.linspace(0,1,len(Fe)))\n",
    "fig, ((ax1, ax2), (ax3, ax4)) = plt.subplots(nrows=2, ncols=2, sharex=True, figsize=(12,5),\n",
    "                               gridspec_kw={'height_ratios': [3.5, 1]})\n",
    "for ff in range(len(Fe)):\n",
    "    ax1.loglog(rho, y1[:,ff], color=colors[ff], alpha=0.5)\n",
    "    ax3.scatter(xx, np.isnan(y1[:,ff]), marker='x', s=1, color=colors[ff], alpha=0.5)\n",
    "    ax2.loglog(rho, y2[:,ff], color=colors[ff], label = 'Fe=%.2f' % Fe[ff], alpha=0.5)\n",
    "    ax4.scatter(xx, np.isnan(y2[:,ff]), marker='x', s=1, color=colors[ff], alpha=0.5)\n",
    "\n",
    "# ax1.loglog(xx, yy[0], label='Num=%dx%d=%d, Fe_bar=%.2f' % (F,L,Num, Fe_bar), marker='x', markersize=5, linestyle='')\n",
    "ax1.set_title('np.inf $ \\mathcal{I}_1 =$np.nan \\n' + r'integrand = $\\frac{\\sqrt{2\\mathcal{F}_e}}{\\rho} \\mathcal{I}_1 ( \\rho\\sqrt{2\\mathcal{F}_e} ) e^{-\\mathcal{F}_e - \\frac{1}{2}\\rho^2}$', \n",
    "               fontsize=12)\n",
    "ax2.set_title('conjoined $ \\mathcal{I}_1$, cutoff=0 \\n' + r'integrand = $\\frac{\\sqrt{2\\mathcal{F}_e}}{\\rho} \\mathcal{I}_1 ( \\rho\\sqrt{2\\mathcal{F}_e} ) e^{-\\mathcal{F}_e - \\frac{1}{2}\\rho^2}$', \n",
    "               fontsize=12)\n",
    "ax1.set_ylabel('integrand')\n",
    "ax1.axhline(1, color='k', alpha=0.5, ls='--', label='integrand=1')\n",
    "fig.legend()\n",
    "\n",
    "\n",
    "ax3.set_ylabel('is nan')\n",
    "ax3.set_xlabel(r'$\\rho$', fontsize=14)\n",
    "ax4.set_xlabel(r'$\\rho$', fontsize=14)\n",
    "ax4.sharey(ax3)\n",
    "\n",
    "fig.tight_layout()"
   ]
  },
  {
   "attachments": {},
   "cell_type": "markdown",
   "metadata": {},
   "source": [
    "## Try simplified expansion"
   ]
  },
  {
   "cell_type": "code",
   "execution_count": null,
   "metadata": {},
   "outputs": [],
   "source": [
    "def _I1_approx(xx):\n",
    "    \"\"\" Modified Bessel Function of the first kind, first order, expansion for large values.\n",
    "    \"\"\"\n",
    "    term1 = np.exp(xx)/np.sqrt(2*np.pi*xx)\n",
    "    term2 = 1-3/8/xx * (1+5/2/8/xx * (1 + 21/3/8/xx))\n",
    "    I_1 = term1*term2\n",
    "    return I_1\n",
    "\n",
    "# def _integrand(Fe, rho, cutoff=10.0):\n",
    "#     xx = rho*np.sqrt(2*Fe)\n",
    "#     if xx <= cutoff: I_1 = special.i1(xx) \n",
    "#     else: I_1 = _I1_approx(xx) # use the approx expansion for large values\n",
    "#     rv = (2*Fe)**(1/2) /rho * I_1 * np.exp(-Fe - rho**2 /2)\n",
    "#     return rv\n",
    "\n",
    "def _integrand_approx(Fe, rho):\n",
    "    xx = rho*np.sqrt(2*Fe)\n",
    "    termA = np.sqrt( Fe / np.pi / xx )/rho \n",
    "    termB = np.exp(xx-Fe-rho**2/2)\n",
    "    termC = 1-(3/8/xx*(1 + 5/2/8/xx * (1 + 21/3/8/xx)))\n",
    "    return termA * termB * termC\n",
    "\n",
    "def _integrand_simp(Fe, rho): \n",
    "    xx = rho*np.sqrt(2*Fe)\n",
    "    I_1 = special.i1(xx) \n",
    "    if np.isinf(I_1): # check if nan\n",
    "        rv = _integrand_approx(Fe,rho)\n",
    "        if np.isnan(rv):\n",
    "            print('integrand(%.2f, %.2f) approx is nan' % (Fe, rho))\n",
    "    else:\n",
    "        rv = (2*Fe)**(1/2) /rho * I_1 * np.exp(-Fe - rho**2 /2)\n",
    "    return rv\n",
    "\n",
    "\n",
    "def integrate_rho_simp(Fe_bar, rho):\n",
    "    \"\"\" Calculate the detection probability for each single source in each realization.\n",
    "    \"\"\"\n",
    "\n",
    "    # try high Fe instead of np.inf\n",
    "    gamma_ssi = integrate.quad(_integrand_simp, Fe_bar, np.inf, \n",
    "                               args=(rho))[0]\n",
    "    return gamma_ssi"
   ]
  },
  {
   "attachments": {},
   "cell_type": "markdown",
   "metadata": {},
   "source": [
    "run integration"
   ]
  },
  {
   "cell_type": "code",
   "execution_count": null,
   "metadata": {},
   "outputs": [],
   "source": [
    "\n",
    "def run_integration_simp(rho, Fe):\n",
    "    ans = np.zeros_like(rho)\n",
    "    integrands = np.zeros((len(rho),len(Fe)))\n",
    "    for ii in range(len(rho)):\n",
    "        if ii%(len(rho)/10) == 0:\n",
    "            print(ii, 'out of', len(rho))\n",
    "        ans[ii] = integrate_rho_simp(Fe_bar, rho[ii])\n",
    "        for ff in range(len(Fe)):\n",
    "            integrands[ii,ff] = _integrand_simp(Fe[ff], rho[ii])\n",
    "    return ans, integrands\n",
    "\n",
    "ans_simp, integrands_simp = run_integration_simp(rho, Fe)\n",
    "ans2_simp, integrands2_simp = run_integration_simp(rho2, Fe)"
   ]
  },
  {
   "attachments": {},
   "cell_type": "markdown",
   "metadata": {},
   "source": [
    "run Fe integration"
   ]
  },
  {
   "cell_type": "code",
   "execution_count": null,
   "metadata": {},
   "outputs": [],
   "source": [
    "Fe_Fe = np.geomspace(10**0,10**4, 100)\n",
    "rho_Fe = np.array([10**-1, 10**0, 10**1, 10**2])\n",
    "integrands_Fe_simp = np.zeros((len(rho_Fe),len(Fe_Fe)))\n",
    "for ii in range(len(rho_Fe)):\n",
    "    for ff in range(len(Fe)):\n",
    "        integrands_Fe_simp[ii,ff] = _integrand_simp(Fe=Fe_Fe[ff], rho=rho_Fe[ii])\n",
    "\n",
    "\n",
    "integrands_Fe = np.zeros((len(rho_Fe),len(Fe_Fe)))\n",
    "for ii in range(len(rho_Fe)):\n",
    "    for ff in range(len(Fe)):\n",
    "        integrands_Fe[ii,ff] = _integrand(Fe=Fe_Fe[ff], rho=rho_Fe[ii])"
   ]
  },
  {
   "attachments": {},
   "cell_type": "markdown",
   "metadata": {},
   "source": [
    "Find DP=1"
   ]
  },
  {
   "cell_type": "code",
   "execution_count": null,
   "metadata": {},
   "outputs": [],
   "source": [
    "print('number of nans:', np.sum(np.isnan(ans_simp)))\n",
    "\n",
    "print('max gamma = gamma[rho=%.2f] = %.10f' % (rho[np.nanargmax(ans_simp)], np.nanmax(ans_simp)))\n",
    "index_simp = 0\n",
    "ii=0\n",
    "while index_simp==0 and ii<len(rho):\n",
    "    if(ans_simp[ii]>=1): index_simp = ii\n",
    "    ii+=1\n",
    "print('First gamma>=1 = gamma(rho=%.2f) =  %.10f' % (rho[index_simp], ans_aprx[index_simp]))\n",
    "# print(ans_conj)\n",
    "print(np.max(ans_simp))\n",
    "\n",
    "# never quite reaches 1!"
   ]
  },
  {
   "attachments": {},
   "cell_type": "markdown",
   "metadata": {},
   "source": [
    "Plot gamma vs rho"
   ]
  },
  {
   "cell_type": "code",
   "execution_count": null,
   "metadata": {},
   "outputs": [],
   "source": [
    "def plot_gamma(rho, ans, label='', index_one=None):\n",
    "    xx = rho\n",
    "    yy = ans\n",
    "\n",
    "    fig, (ax1, ax2) = plt.subplots(nrows=2, ncols=1, sharex=True, figsize=(8,5),\n",
    "                                gridspec_kw={'height_ratios': [3.5, 1]})\n",
    "    ax1.loglog(xx, yy, label=label, marker='x', markersize=5, linestyle='')\n",
    "    ax1.set_title('Num=%dx%d=%d, Fe_bar=%.2f\\n' % (F,L,Num, Fe_bar) + r'$\\gamma_i(\\rho) = \\int_{\\bar{\\mathcal{F}}_e}^\\infty \\frac{\\sqrt{2\\mathcal{F}_e}}{\\rho} \\mathcal{I}_1 ( \\rho\\sqrt{2\\mathcal{F}_e} ) e^{-\\mathcal{F}_e - \\frac{1}{2}\\rho^2} d\\mathcal{F}_e$', \n",
    "                fontsize=12)\n",
    "    ax1.set_ylabel('$\\gamma_i$')\n",
    "    ax1.axhline(1, color='k', alpha=0.5, ls='--', label='$\\gamma_i$=1')\n",
    "    if index_one is not None:\n",
    "        ax1.axvline(rho[index_one], label=r'$\\gamma_i(\\rho=%.2f) = %.2f$' \n",
    "                    % (rho[index_one], yy[index_one]), color='green', linestyle='--')\n",
    "    ax1.legend()\n",
    "\n",
    "    ax2.scatter(xx, np.isnan(yy), marker='x', s=5, color='tab:red')\n",
    "    ax2.set_ylabel('is nan')\n",
    "    ax2.set_xlabel(r'$\\rho$', fontsize=14)\n",
    "\n",
    "\n",
    "    fig.tight_layout()\n",
    "    return fig\n",
    "\n",
    "fig = plot_gamma(rho, ans_simp, label='Simplified Approx for $ \\mathcal{I}_1$=np.inf', index_one=np.nanargmax(ans_simp))\n",
    "fig = plot_gamma(rho2, ans2_simp, label='Simplified Approx for $ \\mathcal{I}_1$=np.inf', index_one=np.nanargmax(ans2_simp))"
   ]
  },
  {
   "attachments": {},
   "cell_type": "markdown",
   "metadata": {},
   "source": [
    "plot integrand vs Fe"
   ]
  },
  {
   "cell_type": "code",
   "execution_count": null,
   "metadata": {},
   "outputs": [],
   "source": [
    "def plot_integrand_vs_Fe(rho, Fe, integrands1, integrands2, title1, title2):\n",
    "    # for ff in range(len(Fe)):\n",
    "    #     plt.loglog(rho, integrands[ff], color=colors[ff], label = 'Fe=%.2f' % Fe[ff], alpha=0.5)\n",
    "    # plt.legend(loc='lower left')\n",
    "    # plt.xlabel(r'$\\rho$')\n",
    "    # plt.ylabel('integrand')\n",
    "    # plt.plot(np.arange(len(Fe)), Fe)\n",
    "\n",
    "    xx=Fe\n",
    "    y1=integrands1\n",
    "    y2=integrands2\n",
    "    colors = cm.rainbow(np.linspace(0,1,len(rho)))\n",
    "    fig, ((ax1, ax2), (ax3, ax4), (ax5, ax6)) = plt.subplots(nrows=3, ncols=2, sharex=True, figsize=(12,5),\n",
    "                                gridspec_kw={'height_ratios': [3.5, 1,1]})\n",
    "    for rr in range(len(rho)):\n",
    "        ax1.loglog(xx, y1[rr,:], color=colors[rr], alpha=0.5)\n",
    "        ax3.scatter(xx, np.isnan(y1[rr,:]), marker='x', s=3, color=colors[rr], alpha=0.5)\n",
    "        ax5.scatter(xx, (y1[rr,:]==0), marker='x', s=3, color=colors[rr], alpha=0.5)\n",
    "\n",
    "        ax2.loglog(xx, y2[rr,:], color=colors[rr], label = '$rho$='+'%.2f' % rho[rr], alpha=0.5)\n",
    "        ax4.scatter(xx, np.isnan(y2[rr,:]), marker='x', s=3, color=colors[rr], alpha=0.5)\n",
    "        ax6.scatter(xx, (y2[rr,:]==0), marker='x', s=3, color=colors[rr], alpha=0.5)\n",
    "\n",
    "    # ax1.loglog(xx, yy[0], label='Num=%dx%d=%d, Fe_bar=%.2f' % (F,L,Num, Fe_bar), marker='x', markersize=5, linestyle='')\n",
    "    ax1.set_title(title1, fontsize=12)\n",
    "    ax2.set_title(title2, fontsize=12)\n",
    "    ax1.set_ylabel('integrand')\n",
    "    ax2.sharey(ax1)\n",
    "    ax1.axhline(1, color='k', alpha=0.5, ls='--', label='integrand=1')\n",
    "    fig.legend()\n",
    "\n",
    "\n",
    "    ax3.set_ylabel('is nan')\n",
    "    ax4.sharey(ax3)\n",
    "    ax5.set_ylabel('is zero')\n",
    "    ax6.sharey(ax5)\n",
    "\n",
    "    ax5.set_xlabel(r'$\\mathcal{F}_e$', fontsize=14)\n",
    "    ax6.set_xlabel(r'$\\mathcal{F}_e$', fontsize=14)\n",
    "\n",
    "    fig.tight_layout()\n",
    "    return fig\n",
    "\n",
    "title1 = 'np.inf $ \\mathcal{I}_1 =$ np.nan \\n' + r'integrand = $\\frac{\\sqrt{2\\mathcal{F}_e}}{\\rho} \\mathcal{I}_1 ( \\rho\\sqrt{2\\mathcal{F}_e} ) e^{-\\mathcal{F}_e - \\frac{1}{2}\\rho^2}$'\n",
    "title2 = 'np.inf $ \\mathcal{I}_1$ =simp apprx \\n' + r'integrand = $\\frac{\\sqrt{2\\mathcal{F}_e}}{\\rho} \\mathcal{I}_1 ( \\rho\\sqrt{2\\mathcal{F}_e} ) e^{-\\mathcal{F}_e - \\frac{1}{2}\\rho^2}$'\n",
    "fig = plot_integrand_vs_Fe(rho_Fe, Fe_Fe, integrands_Fe, integrands_Fe_simp, title1, title2)"
   ]
  },
  {
   "cell_type": "code",
   "execution_count": null,
   "metadata": {},
   "outputs": [],
   "source": [
    "print(integrands_Fe_simp[-1])"
   ]
  },
  {
   "attachments": {},
   "cell_type": "markdown",
   "metadata": {},
   "source": [
    "## Try cutoff"
   ]
  },
  {
   "cell_type": "code",
   "execution_count": null,
   "metadata": {},
   "outputs": [],
   "source": [
    "def _I1_approx(xx):\n",
    "    \"\"\" Modified Bessel Function of the first kind, first order, expansion for large values.\n",
    "    \"\"\"\n",
    "    term1 = np.exp(xx)/np.sqrt(2*np.pi*xx)\n",
    "    term2 = 1-3/8/xx * (1+5/2/8/xx * (1 + 21/3/8/xx))\n",
    "    I_1 = term1*term2\n",
    "    return I_1\n",
    "\n",
    "# def _integrand(Fe, rho, cutoff=10.0):\n",
    "#     xx = rho*np.sqrt(2*Fe)\n",
    "#     if xx <= cutoff: I_1 = special.i1(xx) \n",
    "#     else: I_1 = _I1_approx(xx) # use the approx expansion for large values\n",
    "#     rv = (2*Fe)**(1/2) /rho * I_1 * np.exp(-Fe - rho**2 /2)\n",
    "#     return rv\n",
    "\n",
    "def _integrand_approx(Fe, rho):\n",
    "    xx = rho*np.sqrt(2*Fe)\n",
    "    termA = np.sqrt( Fe / np.pi / xx )/rho \n",
    "    termB = np.exp(xx-Fe-rho**2/2)\n",
    "    termC = 1-(3/8/xx*(1 + 5/2/8/xx * (1 + 21/3/8/xx)))\n",
    "    return termA * termB * termC\n",
    "\n",
    "def _integrand_cut(Fe, rho, cutoff=20.0): \n",
    "    xx = rho*np.sqrt(2*Fe)\n",
    "    if xx > cutoff:\n",
    "        rv = _integrand_approx(Fe,rho)\n",
    "        if np.isnan(rv):\n",
    "            print('integrand(%.2f, %.2f) approx is nan' % (Fe, rho))\n",
    "    else:\n",
    "        I_1 = special.i1(xx) \n",
    "        rv = (2*Fe)**(1/2) /rho * I_1 * np.exp(-Fe - rho**2 /2)\n",
    "    return rv\n",
    "\n",
    "\n",
    "def integrate_rho_cut(Fe_bar, rho):\n",
    "    \"\"\" Calculate the detection probability for each single source in each realization.\n",
    "    \"\"\"\n",
    "\n",
    "    # try high Fe instead of np.inf\n",
    "    gamma_ssi = integrate.quad(_integrand_cut, Fe_bar, np.inf, \n",
    "                               args=(rho))[0]\n",
    "    return gamma_ssi"
   ]
  },
  {
   "cell_type": "markdown",
   "metadata": {},
   "source": [
    "run integration"
   ]
  },
  {
   "cell_type": "code",
   "execution_count": null,
   "metadata": {},
   "outputs": [],
   "source": [
    "def run_integration_cut(rho, Fe):\n",
    "    ans = np.zeros_like(rho)\n",
    "    integrands = np.zeros((len(rho),len(Fe)))\n",
    "    for ii in range(len(rho)):\n",
    "        if ii%(len(rho)/10) == 0:\n",
    "            print(ii, 'out of', len(rho))\n",
    "        ans[ii] = integrate_rho_cut(Fe_bar, rho[ii])\n",
    "        for ff in range(len(Fe)):\n",
    "            integrands[ii,ff] = _integrand_cut(Fe[ff], rho[ii])\n",
    "    return ans, integrands\n",
    "ans_cut, integrands_cut = run_integration_cut(rho, Fe)\n",
    "ans2_cut, integrands2_cut = run_integration_cut(rho2, Fe)"
   ]
  },
  {
   "cell_type": "markdown",
   "metadata": {},
   "source": [
    "run Fe integration"
   ]
  },
  {
   "cell_type": "code",
   "execution_count": null,
   "metadata": {},
   "outputs": [],
   "source": [
    "integrands_Fe_cut = np.zeros((len(rho_Fe),len(Fe_Fe)))\n",
    "for ii in range(len(rho_Fe)):\n",
    "    for ff in range(len(Fe)):\n",
    "        integrands_Fe_cut[ii,ff] = _integrand_cut(Fe=Fe_Fe[ff], rho=rho_Fe[ii])"
   ]
  },
  {
   "cell_type": "markdown",
   "metadata": {},
   "source": [
    "Find DP=1"
   ]
  },
  {
   "cell_type": "code",
   "execution_count": null,
   "metadata": {},
   "outputs": [],
   "source": [
    "ans_dp = ans_cut\n",
    "\n",
    "print('number of nans:', np.sum(np.isnan(ans_dp)))\n",
    "\n",
    "print('max gamma = gamma[rho=%.2f] = %.10f' % (rho[np.nanargmax(ans_dp)], np.nanmax(ans_dp)))\n",
    "index = 0\n",
    "ii=0\n",
    "while index==0 and ii<len(rho):\n",
    "    if(ans_dp[ii]>=1): index = ii\n",
    "    ii+=1\n",
    "print('First gamma>=1 = gamma(rho=%.2f) =  %.10f' % (rho[index], ans_dp[index]))\n",
    "# print(ans_conj)\n",
    "print(np.max(ans_dp))\n",
    "\n",
    "index_cut = index\n",
    "\n",
    "# never quite reaches 1!"
   ]
  },
  {
   "cell_type": "markdown",
   "metadata": {},
   "source": [
    "Plot gamma vs rho"
   ]
  },
  {
   "cell_type": "code",
   "execution_count": null,
   "metadata": {},
   "outputs": [],
   "source": [
    "\n",
    "fig = plot_gamma(rho, ans_cut, label='Simplified if $ xx >$ Cutoff', index_one=np.nanargmax(ans_cut))\n",
    "fig = plot_gamma(rho2, ans2_cut, label='Simplified if $ xx >$ Cutoff', index_one=np.nanargmax(ans2_cut))"
   ]
  },
  {
   "cell_type": "markdown",
   "metadata": {},
   "source": [
    "plot integrand vs Fe"
   ]
  },
  {
   "cell_type": "code",
   "execution_count": null,
   "metadata": {},
   "outputs": [],
   "source": [
    "title1 = 'np.inf $ \\mathcal{I}_1 =$ np.nan \\n' + r'integrand = $\\frac{\\sqrt{2\\mathcal{F}_e}}{\\rho} \\mathcal{I}_1 ( \\rho\\sqrt{2\\mathcal{F}_e} ) e^{-\\mathcal{F}_e - \\frac{1}{2}\\rho^2}$'\n",
    "title2 = 'Simplified if $ xx >$ Cutoff\\n' + r'integrand = $\\frac{\\sqrt{2\\mathcal{F}_e}}{\\rho} \\mathcal{I}_1 ( \\rho\\sqrt{2\\mathcal{F}_e} ) e^{-\\mathcal{F}_e - \\frac{1}{2}\\rho^2}$'\n",
    "fig = plot_integrand_vs_Fe(rho_Fe, Fe_Fe, integrands_Fe, integrands_Fe_cut, title1, title2)"
   ]
  },
  {
   "attachments": {},
   "cell_type": "markdown",
   "metadata": {},
   "source": [
    "## Try equation"
   ]
  },
  {
   "cell_type": "code",
   "execution_count": null,
   "metadata": {},
   "outputs": [],
   "source": [
    "Fe_temp = 10\n",
    "rho_temp = 50\n",
    "xx = rho_temp*np.sqrt(2*Fe_temp)\n",
    "termA = np.sqrt( Fe_temp / np.pi / xx )/rho_temp \n",
    "termB = np.exp(xx-Fe_temp-rho_temp**2/2)\n",
    "termC = 1-(3/8/xx*(1 + 5/2/8/xx * (1 + 21/3/8/xx)))\n",
    "rv = termA*termB*termC\n",
    "\n",
    "print(rv)"
   ]
  },
  {
   "cell_type": "code",
   "execution_count": null,
   "metadata": {},
   "outputs": [],
   "source": [
    "Fe_temp = 10\n",
    "rho_temp = 50\n",
    "xx = rho_temp*np.sqrt(2*Fe_temp)\n",
    "\n",
    "rv = ((np.sqrt( Fe_temp / np.pi / xx )/rho_temp ) \n",
    "      *(np.exp(xx-Fe_temp-rho_temp**2/2))\n",
    "      *(1-(3/8/xx*(1 + 5/2/8/xx * (1 + 21/3/8/xx)))))\n",
    "print(rv)"
   ]
  },
  {
   "cell_type": "markdown",
   "metadata": {},
   "source": [
    "## Try Max Out\n"
   ]
  },
  {
   "cell_type": "code",
   "execution_count": null,
   "metadata": {},
   "outputs": [],
   "source": [
    "def _integrand_approx(Fe, rho):\n",
    "    xx = rho*np.sqrt(2*Fe)\n",
    "    termA = np.sqrt( Fe / np.pi / xx )/rho \n",
    "    termB = np.exp(xx-Fe-rho**2/2)\n",
    "    termC = 1-(3/8/xx*(1 + 5/2/8/xx * (1 + 21/3/8/xx)))\n",
    "    return termA * termB * termC\n",
    "\n",
    "def _integrand(Fe, rho): \n",
    "    xx = rho*np.sqrt(2*Fe)\n",
    "    I_1 = special.i1(xx) \n",
    "    if np.isinf(I_1): # check if nan\n",
    "        rv = _integrand_approx(Fe,rho)\n",
    "    else:\n",
    "        rv = (2*Fe)**(1/2) /rho * I_1 * np.exp(-Fe - rho**2 /2)\n",
    "    return rv\n",
    "\n",
    "\n",
    "def integrate_rho(Fe_bar, rho):\n",
    "    \"\"\" Calculate the detection probability for each single source in each realization.\n",
    "    \"\"\"\n",
    "\n",
    "    # try high Fe instead of np.inf\n",
    "    gamma_ssi = integrate.quad(_integrand_simp, Fe_bar, np.inf, \n",
    "                               args=(rho))[0]\n",
    "    return gamma_ssi\n",
    "\n",
    "def gamma_above_peak(gamma_ssi):\n",
    "    "
   ]
  },
  {
   "attachments": {},
   "cell_type": "markdown",
   "metadata": {},
   "source": [
    "# Integrate with Euler Method\n",
    "and bessel function max patch\n",
    "\n",
    "F(t, S(t)) = gamma(Fe, integrand(Fe)). For some fixed rho\n",
    "<!-- \n",
    "$\\frac{dS(t)}{dt} = \\mathrm{integrand}(\\mathcal{F}_e) = \\frac{\\sqrt{2\\mathcal{F}_e}}{\\rho} \\mathcal{I}_1 ( \\rho\\sqrt{2\\mathcal{F}_e} ) e^{-\\mathcal{F}_e - \\frac{1}{2}\\rho^2} = F(t, S(t))$\n",
    "\n",
    "$S(t) = \\gamma_i(\\rho) = \\int \\frac{dS(\\rho)}{d\\rho} d\\rho$\n",
    "\n",
    "For my code:\n",
    "\n",
    "$F(\\rho) = \\frac{d\\gamma(\\rho)}{d\\rho} = \\frac{\\sqrt{2\\mathcal{F}_e}}{\\rho} \\mathcal{I}_1 ( \\rho\\sqrt{2\\mathcal{F}_e} ) e^{-\\mathcal{F}_e - \\frac{1}{2}\\rho^2}$\n",
    "\n",
    "$ \\gamma(\\rho_{j+1}) = \\gamma(\\rho_j) + (\\rho_{j+1} - \\rho_j) \\frac{d\\gamma(\\rho_j)}{dt}$ -->"
   ]
  },
  {
   "attachments": {},
   "cell_type": "markdown",
   "metadata": {},
   "source": [
    "$\\rho$ = fixed\n",
    "\n",
    "$\\frac{dS(t)}{dt} = \\frac{\\sqrt{2t}}{\\rho} \\mathcal{I}_1 ( \\rho\\sqrt{2t} ) e^{-t - \\frac{1}{2}\\rho^2}$ given by _integrand_max(t, rho)\n",
    "\n",
    "$\\frac{dS(t)}{dt} = F(t, S(t))$\n",
    "\n",
    "$s1 = s(t1) = s(0) = \\int \\frac{dS(t)}{dt} dt $ at $t=0$"
   ]
  },
  {
   "cell_type": "code",
   "execution_count": null,
   "metadata": {},
   "outputs": [],
   "source": [
    "# Define parameters\n",
    "def f(t, rho):\n",
    "    return _integrand_max(t, rho)\n",
    "\n",
    "h = 0.0001 # step size\n",
    "t = np.arange(0, 1+h, h) # numerical grid\n",
    "s0 = -1 # initial condition, but not sure what this value should actually be, \n",
    "# but maybe it doesn't matter because it's just a constant that would be subtracted in finite integral subtraction\n",
    "\n",
    "\n",
    "s=np.zeros(len(t))\n",
    "s[0] = s0\n",
    "print(s)\n",
    "\n",
    "rr = int(len(rho)/2) # pick a middleish rho\n",
    "print(rho[rr])\n",
    "for i in range(0, len(t)-1):\n",
    "    s[i+1] = s[i] + h*f(t[i], rho[rr])\n",
    "gamma1= s[-1] - s[0]\n",
    "\n",
    "plt.scatter(t, s, marker='x', label='rho=%f, gamma(rho)=%f' % (rho[rr], gamma1), s=3)\n",
    "plt.legend()\n",
    "plt.xlabel('t')\n",
    "plt.ylabel('f(t)')"
   ]
  },
  {
   "cell_type": "code",
   "execution_count": null,
   "metadata": {},
   "outputs": [],
   "source": [
    "# Want integral from Fe_bar to infinity\n",
    "\n",
    "# Define parameters\n",
    "def f(t, rho):\n",
    "    return _integrand_max(t, rho)\n",
    "print(Fe_bar)\n",
    "h = 1 # step size\n",
    "t = np.arange(float(Fe_bar),float(Fe_bar)*10000, h) # numerical grid\n",
    "s0 = 0 # initial condition, not sure what this value should actually be, \n",
    "# but it doesn't matter because it's just a constant subtracted out of definite integrals\n",
    "\n",
    "s=np.zeros(len(t))\n",
    "s[0] = s0\n",
    "# print(s)\n",
    "\n",
    "rr = int(len(rho)/2) # pick a middleish rho\n",
    "print(rho[rr])\n",
    "for i in range(0, len(t)-1):\n",
    "    s[i+1] = s[i] + h*f(t[i], rho[rr])\n",
    "gamma1= s[-1] - s[0]\n",
    "\n",
    "plt.scatter(t, s, marker='x', label='rho=%f, gamma(rho)=%f' % (rho[rr], gamma1), s=3)\n",
    "plt.legend()\n",
    "plt.xlabel('t')\n",
    "plt.ylabel('f(t)')"
   ]
  },
  {
   "cell_type": "code",
   "execution_count": null,
   "metadata": {},
   "outputs": [],
   "source": [
    "# Define parameters\n",
    "def f(t, rho):\n",
    "    return _integrand_max(t, rho)\n",
    "h = 10 # step size\n",
    "t = np.arange(float(Fe_bar), float(Fe_bar)*100, h) # numerical grid\n",
    "s0 = 0 # it doesn't matter what this is because it's just subtracted out for definite integrals\n",
    "s=np.zeros(len(t))\n",
    "\n",
    "gamma = np.zeros_like(rho)\n",
    "for rr in range(len(rho)):\n",
    "    if rr%(len(rho)/10) == 0: print('on', rr, 'out of', len(rho))\n",
    "    for ii in range(0, len(t)-1):\n",
    "        s[ii+1] = s[ii] + h*f(t[ii], rho[rr])\n",
    "    gamma[rr] = s[-1] - s[0]"
   ]
  },
  {
   "cell_type": "code",
   "execution_count": null,
   "metadata": {},
   "outputs": [],
   "source": [
    "h=10\n",
    "plt.loglog(rho, gamma, marker='x', markersize=1, linestyle='', alpha=0.5,\n",
    "           label = 'Euler Method with h = %d from $\\overline{F}_e$ to 100$\\overline{F}_e$' % h)\n",
    "plt.loglog(rho, ans_max, marker='x', markersize=1, linestyle='',  alpha=0.5,\n",
    "           label = 'Scipy Integration')\n",
    "plt.xlabel('rho')\n",
    "plt.ylabel('gamma')\n",
    "plt.axhline(1, label='gamma=1', linestyle='--', color='k')\n",
    "plt.legend(loc='lower left')"
   ]
  },
  {
   "cell_type": "code",
   "execution_count": null,
   "metadata": {},
   "outputs": [],
   "source": [
    "\n",
    "plt.loglog(rho, gamma, marker='x', markersize=3, linestyle='')\n",
    "plt.xlabel('rho')\n",
    "plt.ylabel('gamma')\n",
    "plt.title(r'$\\gamma_i(\\rho) = \\int_{\\bar{\\mathcal{F}}_e}^\\infty \\frac{\\sqrt{2\\mathcal{F}_e}}{\\rho} \\mathcal{I}_1 ( \\rho\\sqrt{2\\mathcal{F}_e} ) e^{-\\mathcal{F}_e - \\frac{1}{2}\\rho^2} d\\mathcal{F}_e$ by Euler Method', \n",
    "               fontsize=12)\n",
    "plt.xlim(10**-3, 10**0)\n",
    "plt.ylim(10**-1, 10)"
   ]
  },
  {
   "cell_type": "code",
   "execution_count": null,
   "metadata": {},
   "outputs": [],
   "source": [
    "rho3 = np.geomspace(10**-3, 10**1, 100)\n",
    "\n",
    "# Define parameters\n",
    "def f(t, rho):\n",
    "    return _integrand_max(t, rho)\n",
    "\n",
    "h = 1 # step size\n",
    "t = np.arange(float(Fe_bar), float(Fe_bar)*1000, h) # numerical grid from Fe_bar to ~inf (or just large)\n",
    "s0 = 0 # it doesn't matter what this is because it's just subtracted out in finite integral subtraction\n",
    "s=np.zeros(len(t))\n",
    "\n",
    "xx = rho3\n",
    "y1 = np.zeros_like(rho3)\n",
    "y2 = np.zeros_like(rho3)\n",
    "for rr in range(len(xx)):\n",
    "    if rr%(len(xx)/10) == 0: print('on', rr, 'out of', len(xx))\n",
    "    for ii in range(0, len(t)-1):\n",
    "        s[ii+1] = s[ii] + h*f(t[ii], xx[rr])\n",
    "    y1[rr] = s[-1] - s[0]\n",
    "    y2[rr] = integrate_rho(Fe_bar, xx[rr])\n",
    "gamma3 = y1\n",
    "ans3 = y2"
   ]
  },
  {
   "cell_type": "code",
   "execution_count": null,
   "metadata": {},
   "outputs": [],
   "source": [
    "\n",
    "plt.loglog(xx, y1, marker='x', markersize=3, linestyle='', label='Euler Method with h = %.3f from $\\overline{F}_e$ to $1000\\overline{F}_e$' % h)\n",
    "plt.loglog(xx, y2, marker='x', markersize=3, linestyle='', label='Scipy Integration')\n",
    "plt.xlabel('rho')\n",
    "plt.ylabel('gamma')\n",
    "plt.legend(loc='upper left')"
   ]
  },
  {
   "attachments": {},
   "cell_type": "markdown",
   "metadata": {},
   "source": [
    "# quadpy\n",
    "## without extra pars\n",
    "Setting rho outside of the function, so the integrand is a function only of Fe.\n",
    "\n",
    "Bessel function fails??"
   ]
  },
  {
   "cell_type": "code",
   "execution_count": null,
   "metadata": {},
   "outputs": [],
   "source": [
    "import quadpy"
   ]
  },
  {
   "cell_type": "code",
   "execution_count": null,
   "metadata": {},
   "outputs": [],
   "source": [
    "def _integrand_qp(Fe):\n",
    "        rho_qp=rho2[5]\n",
    "        I_1 = special.i1(rho_qp*np.sqrt(2*Fe))\n",
    "        rv = (2*Fe)**(1/2) /rho_qp * I_1 * np.exp(-Fe - rho_qp**2 /2)\n",
    "        return rv\n",
    "\n",
    "def integrate_rho_quadpy(Fe_bar):\n",
    "    \"\"\" Calculate the detection probability for each single source in each realization.\n",
    "    \n",
    "    Parameters\n",
    "    ----------\n",
    "    rho : scalar\n",
    "    Fe_bar : scalar\n",
    "\n",
    "    Returns\n",
    "    -------\n",
    "    rv : float\n",
    "    \"\"\"\n",
    "    gamma_ssi = quadpy.quad(_integrand_qp, Fe_bar, np.inf)[0]\n",
    "    return gamma_ssi"
   ]
  },
  {
   "cell_type": "code",
   "execution_count": null,
   "metadata": {},
   "outputs": [],
   "source": [
    "rho2 = np.geomspace(10**0.5, 10**2, 10**3)\n",
    "print(rho1.shape)\n",
    "ans2 = np.zeros_like(rho1)\n",
    "\n",
    "for ii in range(len(rho2)):\n",
    "    if ii%(len(rho2)/10) == 0:\n",
    "       print('on', ii, 'out of', len(rho2))\n",
    "    rho_qp=rho2[ii]  \n",
    "    print(rho_qp)\n",
    "    ans2[ii] = integrate_rho_quadpy(Fe_bar)"
   ]
  },
  {
   "attachments": {},
   "cell_type": "markdown",
   "metadata": {},
   "source": [
    "## same way as with integrand.py\n",
    "This doesn't work"
   ]
  },
  {
   "cell_type": "code",
   "execution_count": null,
   "metadata": {},
   "outputs": [],
   "source": [
    "def _integrand_qp(Fe, rho):\n",
    "\n",
    "    I_1 = special.i1(rho*np.sqrt(2*Fe))\n",
    "    rv = (2*Fe)**(1/2) /rho * I_1 * np.exp(-Fe - rho**2 /2)\n",
    "    return rv\n",
    "\n",
    "def integrate_rho_quadpy(Fe_bar, rho):\n",
    "    \"\"\" Calculate the detection probability for each single source in each realization.\n",
    "    \n",
    "    Parameters\n",
    "    ----------\n",
    "    rho : scalar\n",
    "    Fe_bar : scalar\n",
    "\n",
    "    Returns\n",
    "    -------\n",
    "    rv : float\n",
    "    \"\"\"\n",
    "    gamma_ssi = quadpy.quad(_integrand, Fe_bar, np.inf, \n",
    "                               args=(rho))[0]\n",
    "    return gamma_ssi"
   ]
  },
  {
   "cell_type": "code",
   "execution_count": null,
   "metadata": {},
   "outputs": [],
   "source": [
    "rho2 = np.geomspace(10**0.5, 10**2, 10**3)\n",
    "print(rho1.shape)\n",
    "ans2 = np.zeros_like(rho1)\n",
    "\n",
    "for ii in range(len(rho2)):\n",
    "    if ii%(len(rho2)/10) == 0:\n",
    "       print('on', ii, 'out of', len(rho2))\n",
    "    ans2[ii] = integrate_rho_quadpy(Fe_bar, rho2[ii])"
   ]
  },
  {
   "cell_type": "code",
   "execution_count": null,
   "metadata": {},
   "outputs": [],
   "source": [
    "alpha_0 = 0.001\n",
    "Num = 40000\n",
    "print(Num)\n",
    "\n",
    "Fe_test = Symbol('Fe_test')\n",
    "func = 1 - (1 - (1 + Fe_test)*np.e**(-Fe_test))**Num - alpha_0\n",
    "Fe_test = nsolve(func, Fe_test, 15) # mod from \n",
    "print(Fe_test)"
   ]
  },
  {
   "cell_type": "code",
   "execution_count": null,
   "metadata": {},
   "outputs": [],
   "source": []
  }
 ],
 "metadata": {
  "kernelspec": {
   "display_name": "holo310",
   "language": "python",
   "name": "python3"
  },
  "language_info": {
   "codemirror_mode": {
    "name": "ipython",
    "version": 3
   },
   "file_extension": ".py",
   "mimetype": "text/x-python",
   "name": "python",
   "nbconvert_exporter": "python",
   "pygments_lexer": "ipython3",
   "version": "3.10.10"
  }
 },
 "nbformat": 4,
 "nbformat_minor": 2
}
