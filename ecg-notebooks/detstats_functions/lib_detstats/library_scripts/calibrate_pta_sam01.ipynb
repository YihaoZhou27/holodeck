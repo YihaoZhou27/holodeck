{
 "cells": [
  {
   "cell_type": "code",
   "execution_count": null,
   "metadata": {},
   "outputs": [],
   "source": [
    "import numpy as np\n",
    "import matplotlib.pyplot as plt\n",
    "import matplotlib.cm as cm\n",
    "import scipy as sp\n",
    "import h5py\n",
    "\n",
    "import holodeck as holo\n",
    "import holodeck.single_sources as ss\n",
    "from holodeck.constants import YR, MSOL\n",
    "from holodeck import utils, detstats, plot\n",
    "\n",
    "\n",
    "import hasasia.sensitivity as hsen\n",
    "import hasasia.sim as hsim"
   ]
  },
  {
   "attachments": {},
   "cell_type": "markdown",
   "metadata": {},
   "source": [
    "# Step 1. Read in hdf file"
   ]
  },
  {
   "cell_type": "code",
   "execution_count": null,
   "metadata": {},
   "outputs": [],
   "source": [
    "filepath = '/Users/emigardiner/GWs/holodeck/output/2023-05-16-mbp-ss19_uniform05A_n1000_r50_d20_f30_l2000_p0/'\n",
    "filename = filepath+'ss_lib.hdf5'\n",
    "ssfile = h5py.File(filename, 'r')\n",
    "print(list(ssfile.keys()))\n",
    "# print(ssfile['pta_dur'][0])\n",
    "fobs = ssfile['fobs'][:]\n",
    "dfobs = ssfile['dfobs'][:]\n",
    "dur = ssfile['pta_dur'][0]\n",
    "cad = ssfile['pta_cad'][0]\n",
    "hc_ss_all = ssfile['hc_ss'][...]\n",
    "hc_bg_all = ssfile['hc_bg'][...]\n",
    "shape = hc_ss_all.shape\n",
    "nsamp, nfreqs, nreals, nloudest = shape[0], shape[1], shape[2], shape[3]\n",
    "print(nsamp, nfreqs, nreals, nloudest)\n",
    "ssfile.close()"
   ]
  },
  {
   "cell_type": "code",
   "execution_count": null,
   "metadata": {},
   "outputs": [],
   "source": [
    "print('samples (N):', nsamp, '\\nreals (R):', nreals, '\\nN,F,R,L:', hc_ss_all.shape)"
   ]
  },
  {
   "attachments": {},
   "cell_type": "markdown",
   "metadata": {},
   "source": [
    "# Step 2. Calibrate PTA"
   ]
  },
  {
   "cell_type": "code",
   "execution_count": null,
   "metadata": {},
   "outputs": [],
   "source": [
    "# find best\n",
    "# found this in a another notebook to be sample 30\n",
    "nn=30"
   ]
  },
  {
   "cell_type": "code",
   "execution_count": null,
   "metadata": {},
   "outputs": [],
   "source": [
    "# modify these until dp_bg = .5\n",
    "npsrs=60\n",
    "sigma=1.24e-8\n",
    "\n",
    "# build PTA\n",
    "phis = np.random.uniform(0, 2*np.pi, size = npsrs)\n",
    "thetas = np.random.uniform(np.pi/2, np.pi/2, size = npsrs)\n",
    "# sigmas = np.ones_like(phis)*sigma\n",
    "psrs = hsim.sim_pta(timespan=dur/YR, cad=1/(cad/YR), sigma=sigma,\n",
    "                phi=phis, theta=thetas)"
   ]
  },
  {
   "cell_type": "code",
   "execution_count": null,
   "metadata": {},
   "outputs": [],
   "source": [
    "dp_bg = detstats.detect_bg_pta(psrs, fobs, cad, hc_bg_all[nn])\n",
    "print(np.mean(dp_bg))"
   ]
  },
  {
   "attachments": {},
   "cell_type": "markdown",
   "metadata": {},
   "source": [
    "# Step 3. Build PTA, Build skies, Calculate DP, Calculate DF\n",
    "Step 2 was skipped, we didn't calibrate the PTA. Just built one randomly."
   ]
  },
  {
   "cell_type": "code",
   "execution_count": null,
   "metadata": {},
   "outputs": [],
   "source": [
    "def run_psr_calculations_and_plot(hc_ss_all, hc_bg_all, npsrs, sigma, nskies = 25, thresh=0.5,\n",
    "                                  detstats_path='./'):\n",
    "    \"\"\" Calculate DPs for a set of randomly placed pulsars with the number and range given.\n",
    "\n",
    "    Parameters\n",
    "    ----------\n",
    "\n",
    "    Returns\n",
    "    -------\n",
    "    \n",
    "    \"\"\"\n",
    "    shape = hc_ss_all.shape\n",
    "    nsamp, nfreqs, nreals, nloudest = shape[0], shape[1], shape[2], shape[3]\n",
    "\n",
    "    # build PTA\n",
    "    print('building psrs')\n",
    "    phis = np.random.uniform(0, 2*np.pi, size = npsrs)\n",
    "    thetas = np.random.uniform(np.pi/2, np.pi/2, size = npsrs)\n",
    "    # sigmas = np.ones_like(phis)*sigma\n",
    "    psrs = hsim.sim_pta(timespan=dur/YR, cad=1/(cad/YR), sigma=sigma,\n",
    "                    phi=phis, theta=thetas)\n",
    "\n",
    "     # Build ss skies\n",
    "    print('building ss skies')\n",
    "    theta_ss, phi_ss, Phi0_ss, iota_ss, psi_ss = _build_skies(nfreqs, nskies, nloudest)\n",
    "\n",
    "    # Calculate DPs \n",
    "    print('calculating SS and BG detections probabilities')\n",
    "    dp_bg_all = np.zeros((nsamp, nreals)) # (N,R)\n",
    "    dp_ss_all = np.zeros((nsamp, nreals, nskies)) # (N,R,S)\n",
    "    df_bg_all = np.zeros(nsamp)\n",
    "    df_ss_all = np.zeros(nsamp)\n",
    "    for nn in range(nsamp):\n",
    "        print('on nn/N = %d/%d' % (nn,nsamp))\n",
    "        dp_bg_all[nn,:] = detstats.detect_bg_pta(psrs, fobs, cad, hc_bg_all[nn])\n",
    "        dp_ss_all[nn,:,:] = detstats.detect_ss_pta(psrs, cad, dur, fobs, dfobs,\n",
    "                                                hc_ss_all[nn], hc_bg_all[nn],\n",
    "                                                theta_ss=theta_ss, phi_ss=phi_ss, Phi0_ss=Phi0_ss,\n",
    "                                                iota_ss=iota_ss, psi_ss=psi_ss)\n",
    "        count_bg = 0\n",
    "        count_ss = 0\n",
    "        for rr in range(nreals):\n",
    "            if (dp_bg_all[nn,rr] > thresh):\n",
    "                count_bg += 1\n",
    "            for ss in range(nskies):\n",
    "                if (dp_ss_all[nn,rr,ss] > thresh):\n",
    "                    count_ss += 1\n",
    "        df_bg_all[nn] = count_bg/nreals\n",
    "        df_ss_all[nn] = count_ss/(nreals*nskies)\n",
    "\n",
    "        fig = plot_sample_nn(fobs, hc_ss_all[nn], hc_bg_all[nn],\n",
    "                         dp_ss_all[nn], dp_bg_all[nn], \n",
    "                         df_ss_all[nn], df_bg_all[nn], nn=nn)\n",
    "        fname = (detstats_path+'p%06d_detprob.png' % nn) # need to make this directory\n",
    "        print(fname)\n",
    "        fig.savefig(fname, dpi=100)\n",
    "        plt.close(fig)\n",
    "\n",
    "    return dp_ss_all, dp_bg_all, df_ss_all, df_bg_all\n",
    "\n",
    "\n",
    "\n",
    "def _build_skies(nfreqs, nskies, nloudest):\n",
    "    theta_ss = np.random.uniform(0, np.pi, size = nfreqs * nskies * nloudest).reshape(nfreqs, nskies, nloudest)\n",
    "    phi_ss = np.random.uniform(0, 2*np.pi, size = theta_ss.size).reshape(theta_ss.shape)\n",
    "    Phi0_ss = np.random.uniform(0,2*np.pi, size = theta_ss.size).reshape(theta_ss.shape)\n",
    "    iota_ss = np.random.uniform(0,  np.pi, size = theta_ss.size).reshape(theta_ss.shape)\n",
    "    psi_ss = np.random.uniform(0,   np.pi, size = theta_ss.size).reshape(theta_ss.shape)\n",
    "    return theta_ss, phi_ss, Phi0_ss, iota_ss, psi_ss\n",
    "        \n",
    "\n"
   ]
  },
  {
   "cell_type": "code",
   "execution_count": null,
   "metadata": {},
   "outputs": [],
   "source": [
    "import os\n",
    "detstats_path = filepath+'/detstats/dp3_psrs40_sigma1e-6/'\n",
    "os.makedirs(detstats_path)"
   ]
  },
  {
   "cell_type": "code",
   "execution_count": null,
   "metadata": {},
   "outputs": [],
   "source": [
    "dp_ss3, dp_bg3, df_ss3, df_bg3 = run_psr_calculations_and_plot(hc_ss_all, hc_bg_all, npsrs = 40, sigma = 1e-6, \n",
    "                         nskies = 25, detstatspath=detstats_path) # this is a pretty optimistic pta"
   ]
  },
  {
   "cell_type": "code",
   "execution_count": null,
   "metadata": {},
   "outputs": [],
   "source": [
    "fig1 = plot_detprob(dp_ss3, dp_bg3)\n",
    "fig2 = plot_detfrac(df_ss3, df_bg3, thresh=0.5)\n",
    "fig1.savefig(detstats_path+'allsamp_detprobs.png', dpi=300)\n",
    "fig2.savefig(detstats_path+'allsamp_detfracs.png', dpi=300)\n",
    "np.savez(detstats_path+'detstats.npz', dp_ss=dp_ss3, dp_bg=dp_bg3, df_ss=df_ss3, df_bg=df_bg3)"
   ]
  },
  {
   "cell_type": "code",
   "execution_count": null,
   "metadata": {},
   "outputs": [],
   "source": []
  },
  {
   "cell_type": "code",
   "execution_count": null,
   "metadata": {},
   "outputs": [],
   "source": []
  },
  {
   "cell_type": "code",
   "execution_count": null,
   "metadata": {},
   "outputs": [],
   "source": []
  },
  {
   "cell_type": "code",
   "execution_count": null,
   "metadata": {},
   "outputs": [],
   "source": [
    "'''\n",
    "def _detfrac_from_reals(dp_ss_all, dp_bg_all, thresh=0.5):\n",
    "    \"\"\" \n",
    "    Calculate how many realizations have a detections, to get \n",
    "    the detection probability for a sample.\n",
    "\n",
    "    Parameters\n",
    "    ----------\n",
    "    dp_ss_all : (N, R, S) NDarray\n",
    "    dp_bg_all : (N, R) NDarray\n",
    "    thresh : scalar\n",
    "        threshold DP to count as a detection\n",
    "\n",
    "    Returns\n",
    "    -------\n",
    "    ss_detfrac : (N,) NDarray\n",
    "        Fraction of realizations with an ss DP above thresh.\n",
    "    bg_detfrac : (N,) NDarray\n",
    "        Fraction of realizations with a bg DP above thresh.\n",
    "\n",
    "    NOTE: With minimal effort this can be done without for loops, \n",
    "    just needs some count() and condition array things\n",
    "    \"\"\"\n",
    "    nsamp = len(dp_ss_all)\n",
    "    nreals = len(dp_ss_all[0])\n",
    "    nskies = len(dp_ss_all[0,0])\n",
    "    bg_detfrac = np.zeros(nsamp)\n",
    "    ss_detfrac = np.zeros(nsamp)\n",
    "    for nn in range(nsamp):\n",
    "        count_bg = 0\n",
    "        count_ss = 0\n",
    "        for rr in range(nreals):\n",
    "            if (dp_bg_all[nn,rr] > thresh):\n",
    "                count_bg += 1\n",
    "            for ss in range(nskies):\n",
    "                if (dp_ss_all[nn,rr,ss] > thresh):\n",
    "                    count_ss += 1\n",
    "        bg_detfrac[nn] = count_bg/nreals\n",
    "        ss_detfrac[nn] = count_ss/(nreals*nskies)\n",
    "\n",
    "    return ss_detfrac, bg_detfrac\n",
    "'''"
   ]
  }
 ],
 "metadata": {
  "kernelspec": {
   "display_name": "holo310",
   "language": "python",
   "name": "python3"
  },
  "language_info": {
   "codemirror_mode": {
    "name": "ipython",
    "version": 3
   },
   "file_extension": ".py",
   "mimetype": "text/x-python",
   "name": "python",
   "nbconvert_exporter": "python",
   "pygments_lexer": "ipython3",
   "version": "3.10.10"
  }
 },
 "nbformat": 4,
 "nbformat_minor": 2
}
