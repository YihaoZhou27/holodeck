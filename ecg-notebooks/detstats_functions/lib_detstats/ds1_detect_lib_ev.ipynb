{
 "cells": [
  {
   "cell_type": "code",
   "execution_count": null,
   "metadata": {},
   "outputs": [],
   "source": [
    "%reload_ext autoreload\n",
    "%autoreload 2\n",
    "from importlib import reload\n",
    "\n",
    "import numpy as np\n",
    "import matplotlib.pyplot as plt\n",
    "import matplotlib.cm as cm\n",
    "import h5py\n",
    "\n",
    "from holodeck import plot\n",
    "import holodeck.detstats as ds\n",
    "from holodeck.constants import YR, MSOL, MPC\n",
    "import holodeck as holo"
   ]
  },
  {
   "cell_type": "code",
   "execution_count": null,
   "metadata": {},
   "outputs": [],
   "source": [
    "lib_path = '/Users/emigardiner/GWs/holodeck/output/2023-05-09-mbp-ss15_n100_r30_f100_d15_l5_p0'\n",
    "hdf_name = lib_path+'/sam_lib.hdf5'\n",
    "hdf_file = h5py.File(hdf_name)\n",
    "print(hdf_file.keys())\n",
    "# params = hdf_file['sample_params'][...]\n",
    "# hc_ss = hdf_file['hc_ss'][...]\n",
    "# hc_bg = hdf_file['hc_bg'][...]\n",
    "# sspar = hdf_file['sspar'][...]\n",
    "# bgpar = hdf_file['bgpar'][...]\n",
    "fobs = hdf_file['fobs'][:]\n",
    "dur = hdf_file['pta_dur'][0]\n",
    "cad = hdf_file['pta_cad'][0]\n",
    "hdf_file.close()"
   ]
  },
  {
   "cell_type": "code",
   "execution_count": null,
   "metadata": {},
   "outputs": [],
   "source": [
    "npsrs = 50\n",
    "sigma = 1e-7 \n",
    "nskies = 25 \n",
    "thresh = 0.5\n",
    "nfreqs = len(fobs)\n",
    "\n",
    "fobs_cents, fobs_edges = holo.utils.pta_freqs(dur, cad)\n",
    "dfobs = np.diff(fobs_edges)[:nfreqs]\n",
    "assert np.all(fobs_cents[:nfreqs] == fobs), 'fobs should match'"
   ]
  },
  {
   "cell_type": "code",
   "execution_count": null,
   "metadata": {},
   "outputs": [],
   "source": [
    "output_dir = (lib_path+'/detstats/psrs%d_sigma%.2e'  % (npsrs, sigma))\n",
    "data = ds.detect_lib(hdf_name, output_dir, npsrs=npsrs, sigma=sigma, nskies=nskies, thresh=thresh,\n",
    "                     plot=True, debug=True, dur=dur, cad=cad, dfobs=dfobs, \n",
    "                     save_ssi=False, ret_dict=True)"
   ]
  },
  {
   "cell_type": "code",
   "execution_count": null,
   "metadata": {},
   "outputs": [],
   "source": [
    "%time data1 = ds.detect_lib(hdf_name, output_dir, npsrs=npsrs, sigma=sigma, nskies=nskies, thresh=thresh, \\\n",
    "                     plot=True, debug=True, dur=dur, cad=cad, dfobs=dfobs, \\\n",
    "                     save_ssi=False, ret_dict=True)"
   ]
  },
  {
   "cell_type": "code",
   "execution_count": null,
   "metadata": {},
   "outputs": [],
   "source": [
    "%time data2 = ds.detect_lib(hdf_name, output_dir, npsrs=npsrs, sigma=sigma, nskies=nskies, thresh=thresh, \\\n",
    "                     plot=True, debug=True, dur=dur, cad=cad, dfobs=dfobs, \\\n",
    "                     save_ssi=True, ret_dict=True)"
   ]
  },
  {
   "cell_type": "code",
   "execution_count": null,
   "metadata": {},
   "outputs": [],
   "source": [
    "print(data['ev_ss'].shape)\n",
    "print(holo.utils.stats(data['ev_ss']))"
   ]
  },
  {
   "attachments": {},
   "cell_type": "markdown",
   "metadata": {},
   "source": [
    "# Check script results (ss15)"
   ]
  },
  {
   "cell_type": "code",
   "execution_count": null,
   "metadata": {},
   "outputs": [],
   "source": [
    "path = '/Users/emigardiner/GWs/holodeck/output/2023-05-09-mbp-ss15_n100_r30_f100_d15_l5_p0/detstats/psrs60_sigma2.50e-06'\n",
    "filename = path+'/detstats.npz'\n",
    "file = np.load(filename)\n",
    "print(file.files)"
   ]
  },
  {
   "cell_type": "code",
   "execution_count": null,
   "metadata": {},
   "outputs": [],
   "source": [
    "ev_ss = file['ev_ss']\n",
    "gamma_ssi = file['gamma_ssi']\n",
    "file.close()"
   ]
  },
  {
   "cell_type": "code",
   "execution_count": null,
   "metadata": {},
   "outputs": [],
   "source": [
    "fig, ax = plot.figax(xscale='linear', xlabel='n', ylabel='expval ss')\n",
    "ax.scatter(np.arange(ev_ss.size), ev_ss)"
   ]
  },
  {
   "cell_type": "code",
   "execution_count": null,
   "metadata": {},
   "outputs": [],
   "source": [
    "print(gamma_ssi.shape)\n",
    "print(holo.utils.stats(gamma_ssi[1,2,10,0]))"
   ]
  },
  {
   "cell_type": "code",
   "execution_count": null,
   "metadata": {},
   "outputs": [],
   "source": []
  }
 ],
 "metadata": {
  "kernelspec": {
   "display_name": "holo310",
   "language": "python",
   "name": "python3"
  },
  "language_info": {
   "codemirror_mode": {
    "name": "ipython",
    "version": 3
   },
   "file_extension": ".py",
   "mimetype": "text/x-python",
   "name": "python",
   "nbconvert_exporter": "python",
   "pygments_lexer": "ipython3",
   "version": "3.10.10"
  }
 },
 "nbformat": 4,
 "nbformat_minor": 2
}
