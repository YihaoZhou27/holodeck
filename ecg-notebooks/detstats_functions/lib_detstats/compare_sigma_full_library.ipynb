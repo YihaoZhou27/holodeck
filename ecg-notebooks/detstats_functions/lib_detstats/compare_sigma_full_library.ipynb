{
 "cells": [
  {
   "cell_type": "code",
   "execution_count": null,
   "metadata": {},
   "outputs": [],
   "source": [
    "import numpy as np\n",
    "import matplotlib.pyplot as plt\n",
    "import matplotlib.cm as cm\n",
    "import scipy as sp\n",
    "import h5py\n",
    "\n",
    "import holodeck as holo\n",
    "import holodeck.single_sources as ss\n",
    "from holodeck.constants import YR, MSOL\n",
    "from holodeck import utils, detstats, plot\n",
    "\n",
    "\n",
    "import hasasia.sensitivity as hsen\n",
    "import hasasia.sim as hsim"
   ]
  },
  {
   "attachments": {},
   "cell_type": "markdown",
   "metadata": {},
   "source": [
    "# Read in strains from hdf"
   ]
  },
  {
   "cell_type": "code",
   "execution_count": null,
   "metadata": {},
   "outputs": [],
   "source": [
    "sspath = '/Users/emigardiner/GWs/holodeck/output/2023-05-09-mbp-ss15_n100_r30_f100_d15_l5_p0/'\n",
    "hdfname = sspath+'ss_lib.hdf5'\n",
    "ssfile = h5py.File(hdfname, 'r')\n",
    "print(list(ssfile.keys()))\n",
    "hc_ss_all = ssfile['hc_ss'][...]\n",
    "hc_bg_all = ssfile['hc_bg'][...]\n",
    "ssfile.close()"
   ]
  },
  {
   "cell_type": "code",
   "execution_count": null,
   "metadata": {},
   "outputs": [],
   "source": [
    "print('N,F,R,L:', hc_ss_all.shape) \n",
    "shape = hc_ss_all.shape\n",
    "N, F, R, L = shape[0], shape[1], shape[2], shape[3]"
   ]
  },
  {
   "attachments": {},
   "cell_type": "markdown",
   "metadata": {},
   "source": [
    "# Read in detstats"
   ]
  },
  {
   "cell_type": "code",
   "execution_count": null,
   "metadata": {},
   "outputs": [],
   "source": [
    "detstats_path = sspath+'/detstats/'\n",
    "\n",
    "dpname1 = detstats_path+'dp1_psrs40_sigma1e-7/detstats.npz'\n",
    "dpname2 = detstats_path+'dp2_psrs40_sigma5e-7/detstats.npz'\n",
    "dpname3 = detstats_path+'dp3_psrs40_sigma1e-6/detstats.npz'\n",
    "dpnames = np.array([dpname1, dpname2, dpname3])\n",
    "\n",
    "dpfile1 = np.load(dpname1)\n",
    "dp_ss1 = dpfile1['dp_ss']\n",
    "print('N,R,S:', dp_ss1.shape)\n",
    "S = dp_ss1.shape[-1]\n",
    "\n",
    "dp_ss_psrs = np.zeros((3,N,R,S))\n",
    "dp_bg_psrs = np.zeros((3,N,R))\n",
    "df_ss_psrs = np.zeros((3,N))\n",
    "df_bg_psrs = np.zeros((3,N))\n",
    "\n",
    "for ii in range(len(dpnames)):\n",
    "    dpfile = np.load(dpnames[ii])\n",
    "    dp_ss_psrs[ii,...] = dpfile['dp_ss']\n",
    "    dp_bg_psrs[ii,...] = dpfile['dp_bg']\n",
    "    df_ss_psrs[ii,...] = dpfile['df_ss']\n",
    "    df_bg_psrs[ii,...] = dpfile['df_bg']\n",
    "    dpfile.close()"
   ]
  },
  {
   "attachments": {},
   "cell_type": "markdown",
   "metadata": {},
   "source": [
    "# Plot"
   ]
  },
  {
   "cell_type": "code",
   "execution_count": null,
   "metadata": {},
   "outputs": [],
   "source": [
    "def plot_detprob(dp_ss, dp_bg):\n",
    "    \"\"\" Plot detection probability for many samples.\n",
    "\n",
    "    Paramaters\n",
    "    ----------\n",
    "    dp_ss : (N,R) NDarray\n",
    "    dp_bg : (N,R,S) NDarray\n",
    "    \"\"\"\n",
    "    fig, ax = plt.subplots(figsize=(6.5,4))\n",
    "    ax.set_xlabel('Param Space Sample')\n",
    "    ax.set_ylabel('Detection Probability, $\\gamma$')\n",
    "\n",
    "    nsamp = len(dp_ss)\n",
    "    ax.errorbar(np.arange(nsamp), np.mean(dp_bg, axis=1), \n",
    "                yerr = np.std(dp_bg, axis=1), linestyle='', \n",
    "                marker='d', capsize=5, color='cornflowerblue', alpha=0.75,\n",
    "                label = r'$\\langle \\gamma_\\mathrm{BG} \\rangle$')\n",
    "    ax.errorbar(np.arange(nsamp), np.mean(dp_ss, axis=(1,2)),\n",
    "                yerr = np.std(dp_ss, axis=(1,2)), linestyle='', \n",
    "                marker='o', capsize=5, color='orangered', alpha=0.75,\n",
    "                label = r'$\\langle \\gamma_\\mathrm{SS} \\rangle$')\n",
    "    ax.set_yscale('log')\n",
    "    ax.set_title('Average DP across Realizations')\n",
    "\n",
    "    ax.legend()\n",
    "    fig.tight_layout()\n",
    "\n",
    "    return fig\n",
    "\n",
    "\n",
    "def plot_detfrac(df_ss, df_bg):\n",
    "    fig, ax = plt.subplots(figsize=(6.5,4))\n",
    "    ax.plot(np.arange(len(df_bg)), df_bg, color='cornflowerblue', label='BG',\n",
    "            marker='d')\n",
    "    ax.plot(np.arange(len(df_ss)), df_ss, color='orangered', label='SS',\n",
    "            marker='o')\n",
    "    ax.set_xlabel('Param Space Sample')\n",
    "    ax.set_ylabel('Detection Fraction')\n",
    "    ax.set_title('Fraction of Realizations with Detection')\n",
    "    ax.legend()\n",
    "    fig.tight_layout()\n",
    "    return fig\n"
   ]
  },
  {
   "cell_type": "code",
   "execution_count": null,
   "metadata": {},
   "outputs": [],
   "source": [
    "for ii in range(len(dpnames)):\n",
    "    fig = plot_detprob(dp_ss_psrs[ii], dp_bg_psrs[ii])\n",
    "    fig = plot_detfrac(df_ss_psrs[ii], df_bg_psrs[ii])"
   ]
  },
  {
   "attachments": {},
   "cell_type": "markdown",
   "metadata": {},
   "source": [
    "# Detection Fraction calculation"
   ]
  },
  {
   "cell_type": "code",
   "execution_count": null,
   "metadata": {},
   "outputs": [],
   "source": [
    "nn=0\n",
    "dp_bg = dp_bg_psrs[1]\n",
    "dp_ss = dp_ss_psrs[1]\n",
    "print(dp_ss.shape)\n",
    "print(dp_bg[nn])\n",
    "print((dp_bg[nn]>0.019), dp_bg[nn].size)\n",
    "print(np.sum((dp_bg[nn]>0.019)))\n",
    "print((dp_bg[nn]>0.019).sum()/dp_bg[nn].size)\n",
    "print(F,R)\n",
    "print(np.sum(dp_bg[nn]>0.019)/R)"
   ]
  },
  {
   "attachments": {},
   "cell_type": "markdown",
   "metadata": {},
   "source": []
  }
 ],
 "metadata": {
  "kernelspec": {
   "display_name": "holo310",
   "language": "python",
   "name": "python3"
  },
  "language_info": {
   "codemirror_mode": {
    "name": "ipython",
    "version": 3
   },
   "file_extension": ".py",
   "mimetype": "text/x-python",
   "name": "python",
   "nbconvert_exporter": "python",
   "pygments_lexer": "ipython3",
   "version": "3.10.10"
  }
 },
 "nbformat": 4,
 "nbformat_minor": 2
}
