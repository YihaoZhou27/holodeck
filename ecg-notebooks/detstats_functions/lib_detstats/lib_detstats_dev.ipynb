{
 "cells": [
  {
   "cell_type": "code",
   "execution_count": null,
   "metadata": {},
   "outputs": [],
   "source": [
    "import numpy as np\n",
    "import matplotlib.pyplot as plt\n",
    "import matplotlib.cm as cm\n",
    "import scipy as sp\n",
    "import h5py\n",
    "\n",
    "import holodeck as holo\n",
    "import holodeck.single_sources as ss\n",
    "from holodeck.constants import YR, MSOL\n",
    "from holodeck import utils, detstats, plot\n",
    "\n",
    "\n",
    "import hasasia.sensitivity as hsen\n",
    "import hasasia.sim as hsim"
   ]
  },
  {
   "attachments": {},
   "cell_type": "markdown",
   "metadata": {},
   "source": [
    "## Goal:\n",
    "Pass in an hdf5 file from a library of param spaces and return the average detection probability.\n",
    "\n",
    "## Steps:\n",
    "1) Read in file: fobs, hc_ss, hc_bg\n",
    "2) Produce make a PTA set-up calibrated to 50% hc_bg DP?\n",
    "3) Given pulsar setup and hdf file, calculate average ss DP and average bg DP\n",
    "    * Calculate bg DP for each of R strain realizations\n",
    "    * Build S sky realizations\n",
    "    * Calculate ss DP for each of S sky realizations for each of R strain realizations.\n"
   ]
  },
  {
   "attachments": {},
   "cell_type": "markdown",
   "metadata": {},
   "source": [
    "# Step 1. Read in hdf file"
   ]
  },
  {
   "cell_type": "code",
   "execution_count": null,
   "metadata": {},
   "outputs": [],
   "source": [
    "filepath = '/Users/emigardiner/GWs/holodeck/output/2023-05-09-mbp-ss14_n40_r10_f20_d17.5_l5_p0/'\n",
    "filename = filepath+'ss_lib.hdf5'\n",
    "ssfile = h5py.File(filename, 'r')\n",
    "print(list(ssfile.keys()))\n",
    "# print(ssfile['pta_dur'][0])\n",
    "fobs = ssfile['fobs'][:]\n",
    "dfobs = ssfile['dfobs'][:]\n",
    "dur = ssfile['pta_dur'][0]\n",
    "cad = ssfile['pta_cad'][0]\n",
    "hc_ss_all = ssfile['hc_ss'][...]\n",
    "hc_bg_all = ssfile['hc_bg'][...]\n",
    "shape = hc_ss_all.shape\n",
    "nsamp, nfreqs, nreals, nloudest = shape[0], shape[1], shape[2], shape[3]\n",
    "print(nsamp, nfreqs, nreals, nloudest)\n",
    "ssfile.close()"
   ]
  },
  {
   "cell_type": "code",
   "execution_count": null,
   "metadata": {},
   "outputs": [],
   "source": [
    "print('samples (N):', nsamp, '\\nreals (R):', nreals, '\\nN,F,R,L:', hc_ss_all.shape)"
   ]
  },
  {
   "attachments": {},
   "cell_type": "markdown",
   "metadata": {},
   "source": [
    "## single realization example"
   ]
  },
  {
   "attachments": {},
   "cell_type": "markdown",
   "metadata": {},
   "source": [
    "# Step 2. build PTA\n",
    "Here I am doing this randomly, but really it should be calibrated to hc_bg. Unsure how to do this, if it should be calibrated independently for each strain realization (R), a single pta should be used for all calculations, or positions etc. should be randomized for each iteration. We could even have pta realizations, on top of the strain realizations and the (single source) sky realizations, but that sounds like a nightmare.\n",
    "\n",
    "The pulsars object is used to store thetas, phis, and sigmas of the pta. With this, use the detect_bg_pta(pulsars, spectra,...) and detect_ss_pta(pulsars,...) functions in detstats. Alternatively, you can just pass in the phis, thetas, and sigmas array to the detect_bg() and detect_ss() functions."
   ]
  },
  {
   "cell_type": "code",
   "execution_count": null,
   "metadata": {},
   "outputs": [],
   "source": [
    "npsrs = 30\n",
    "phis = np.random.uniform(0, 2*np.pi, size = npsrs)\n",
    "thetas = np.random.uniform(np.pi/2, np.pi/2, size = npsrs)\n",
    "sigmas = np.ones_like(phis)*1.17e-5\n",
    "# build sim_pta\n",
    "psrs = hsim.sim_pta(timespan=dur/YR, cad=1/(cad/YR), sigma=sigmas,\n",
    "                    phi=phis, theta=thetas)\n"
   ]
  },
  {
   "attachments": {},
   "cell_type": "markdown",
   "metadata": {},
   "source": [
    "calibrate to middle-ish sample"
   ]
  },
  {
   "cell_type": "code",
   "execution_count": null,
   "metadata": {},
   "outputs": [],
   "source": [
    "dp_bg = detstats.detect_bg_pta(psrs, fobs, cad, \n",
    "                               hc_bg_all[int(nsamp/2)])\n",
    "print(np.mean(dp_bg))"
   ]
  },
  {
   "attachments": {},
   "cell_type": "markdown",
   "metadata": {},
   "source": [
    "# Step 3. Calculate detstats\n",
    "Given pulsar setup, and hdf file, calculate average ss DP\n",
    "\n",
    "Parameters and functions needed:\n",
    "* def detect_bg_pta(\n",
    "    - pulsars, \n",
    "    - fobs, \n",
    "    - cad, \n",
    "    - hc_bg, \n",
    "    - alpha_0=0.001, \n",
    "    - ret_all = False):\n",
    "* def detect_ss_pta(\n",
    "    - pulsars, \n",
    "    - cad, \n",
    "    - dur, \n",
    "    - fobs,\n",
    "    - dfobs, \n",
    "    - hc_ss, \n",
    "    - hc_bg\n",
    "    - theta_ss\n",
    "    - phi_ss=None, \n",
    "    - Phi0_ss=None, \n",
    "    - iota_ss=None, \n",
    "    - psi_ss=None):"
   ]
  },
  {
   "attachments": {},
   "cell_type": "markdown",
   "metadata": {},
   "source": [
    "## 3.1 BG DP"
   ]
  },
  {
   "cell_type": "code",
   "execution_count": null,
   "metadata": {},
   "outputs": [],
   "source": [
    "dp_bg_all = np.zeros((nsamp, nreals)) # (N,R)\n",
    "for nn in range(nsamp):\n",
    "    dp_bg_all[nn,:] = detstats.detect_bg_pta(psrs, fobs, cad, hc_bg_all[nn])\n"
   ]
  },
  {
   "cell_type": "code",
   "execution_count": null,
   "metadata": {},
   "outputs": [],
   "source": [
    "fig, ax = plt.subplots(figsize=(7,5))\n",
    "ax.set_xlabel('Param Space Sample')\n",
    "ax.set_ylabel('Detection Probability, $\\gamma$')\n",
    "ax.errorbar(np.arange(nsamp), np.mean(dp_bg_all, axis=1), \n",
    "            yerr = np.std(dp_bg_all, axis=1), linestyle='', \n",
    "            marker='o', capsize=5, color='cornflowerblue', \n",
    "            label = r'$\\langle \\gamma_\\mathrm{BG} \\rangle$')\n",
    "ax.set_yscale('log')\n",
    "fig.legend()"
   ]
  },
  {
   "attachments": {},
   "cell_type": "markdown",
   "metadata": {},
   "source": [
    "## 3.2 SS DP"
   ]
  },
  {
   "attachments": {},
   "cell_type": "markdown",
   "metadata": {},
   "source": [
    "Build Sky Realizations"
   ]
  },
  {
   "cell_type": "code",
   "execution_count": null,
   "metadata": {},
   "outputs": [],
   "source": [
    "nskies = 25 # choose the number of ss sky realizations\n",
    "theta_ss = np.random.uniform(0, np.pi, size = nfreqs * nskies * nloudest).reshape(nfreqs, nskies, nloudest)\n",
    "phi_ss = np.random.uniform(0, 2*np.pi, size = theta_ss.size).reshape(theta_ss.shape)\n",
    "Phi0_ss = np.random.uniform(0,2*np.pi, size = theta_ss.size).reshape(theta_ss.shape)\n",
    "iota_ss = np.random.uniform(0,  np.pi, size = theta_ss.size).reshape(theta_ss.shape)\n",
    "psi_ss = np.random.uniform(0,   np.pi, size = theta_ss.size).reshape(theta_ss.shape)"
   ]
  },
  {
   "attachments": {},
   "cell_type": "markdown",
   "metadata": {},
   "source": [
    "Calculate ss DP"
   ]
  },
  {
   "cell_type": "code",
   "execution_count": null,
   "metadata": {},
   "outputs": [],
   "source": [
    "dp_ss_all = np.zeros((nsamp, nreals, nskies)) # (N,R,S)\n",
    "for nn in range(nreals):\n",
    "    dp_ss_all[nn,:,:] = detstats.detect_ss_pta(psrs, cad, dur, fobs, dfobs,\n",
    "                                               hc_ss_all[nn], hc_bg_all[nn],\n",
    "                                               theta_ss=theta_ss, phi_ss=phi_ss, Phi0_ss=Phi0_ss,\n",
    "                                               iota_ss=iota_ss, psi_ss=psi_ss)"
   ]
  },
  {
   "cell_type": "code",
   "execution_count": null,
   "metadata": {},
   "outputs": [],
   "source": [
    "def plot_detprob(dp_ss_all, dp_bg_all):\n",
    "    \"\"\" Plot detection probability for many samples.\n",
    "\n",
    "    Paramaters\n",
    "    ----------\n",
    "    dp_ss_all : (N,R) NDarray\n",
    "    dp_bg_all : (N,R,S) NDarray\n",
    "    \"\"\"\n",
    "    fig, ax = plt.subplots(figsize=(6.5,4))\n",
    "    ax.set_xlabel('Param Space Sample')\n",
    "    ax.set_ylabel('Detection Probability, $\\gamma$')\n",
    "    ax.errorbar(np.arange(nsamp), np.mean(dp_bg_all, axis=1), \n",
    "                yerr = np.std(dp_bg_all, axis=1), linestyle='', \n",
    "                marker='d', capsize=5, color='cornflowerblue', alpha=0.75,\n",
    "                label = r'$\\langle \\gamma_\\mathrm{BG} \\rangle$')\n",
    "    ax.errorbar(np.arange(nsamp), np.mean(dp_ss_all, axis=(1,2)),\n",
    "                yerr = np.std(dp_ss_all, axis=(1,2)), linestyle='', \n",
    "                marker='o', capsize=5, color='orangered', alpha=0.75,\n",
    "                label = r'$\\langle \\gamma_\\mathrm{SS} \\rangle$')\n",
    "    ax.set_yscale('log')\n",
    "    ax.set_title('Average DP across Realizations')\n",
    "\n",
    "    ax.legend()\n",
    "    fig.tight_layout()\n",
    "\n",
    "    return fig\n",
    "\n",
    "fig = plot_detprob(dp_ss_all, dp_bg_all)"
   ]
  },
  {
   "cell_type": "code",
   "execution_count": null,
   "metadata": {},
   "outputs": [],
   "source": [
    "# plot different sky realizations separately\n",
    "fig, ax = plt.subplots(figsize=(6,4))\n",
    "ax.set_xlabel('Param Space Sample')\n",
    "ax.set_ylabel('Detection Probability, $\\gamma$')\n",
    "ax.errorbar(np.arange(nsamp), np.mean(dp_bg_all, axis=1), \n",
    "            yerr = np.std(dp_bg_all, axis=1), linestyle='', \n",
    "            marker='d', capsize=5, color='cornflowerblue', \n",
    "            label = r'$\\langle \\gamma_\\mathrm{BG} \\rangle$')\n",
    "for ss in range(nskies): # each color is a sky realization\n",
    "    if ss == 0: ss_label = r'$\\langle \\gamma_\\mathrm{SS} \\rangle$'\n",
    "    else: ss_label = None\n",
    "    ax.errorbar(np.arange(nsamp), np.mean(dp_ss_all[:,:,ss], axis=1),\n",
    "                yerr = np.std(dp_ss_all[:,:,ss], axis=1), linestyle='', \n",
    "            marker='o', capsize=5, alpha=0.25,\n",
    "            label = ss_label)\n",
    "ax.set_yscale('log')\n",
    "ax.legend()"
   ]
  },
  {
   "attachments": {},
   "cell_type": "markdown",
   "metadata": {},
   "source": [
    "## Count realizations with detections"
   ]
  },
  {
   "cell_type": "code",
   "execution_count": null,
   "metadata": {},
   "outputs": [],
   "source": [
    "'''\n",
    "def detfrac_from_reals(dp_ss_all, dp_bg_all, thresh=0.5):\n",
    "    \"\"\" \n",
    "    Calculate how many realizations have a detections, to get \n",
    "    the detection probability for a sample.\n",
    "\n",
    "    Parameters\n",
    "    ----------\n",
    "    dp_ss_all : (N, R, S) NDarray\n",
    "    dp_bg_all : (N, R) NDarray\n",
    "    thresh : scalar\n",
    "        threshold DP to count as a detection\n",
    "\n",
    "    Returns\n",
    "    -------\n",
    "    ss_detfrac : (N,) NDarray\n",
    "        Fraction of realizations with an ss DP above thresh.\n",
    "    bg_detfrac : (N,) NDarray\n",
    "        Fraction of realizations with a bg DP above thresh.\n",
    "    \n",
    "    \"\"\"\n",
    "    nsamp = len(dp_ss_all)\n",
    "    nreals = len(dp_ss_all[0])\n",
    "    nskies = len(dp_ss_all[0,0])\n",
    "    bg_detfrac = np.zeros(nsamp)\n",
    "    ss_detfrac = np.zeros(nsamp)\n",
    "    for nn in range(nsamp):\n",
    "        count_bg = 0\n",
    "        count_ss = 0\n",
    "        for rr in range(nreals):\n",
    "            if (dp_bg_all[nn,rr] > thresh):\n",
    "                count_bg += 1\n",
    "            for ss in range(nskies):\n",
    "                if (dp_ss_all[nn,rr,ss] > thresh):\n",
    "                    count_ss += 1\n",
    "        bg_detfrac[nn] = count_bg/nreals\n",
    "        ss_detfrac[nn] = count_ss/(nreals*nskies)\n",
    "\n",
    "    return ss_detfrac, bg_detfrac\n",
    "\n",
    "'''\n",
    "\n",
    "def detfrac_from_reals(dp_ss_all, dp_bg_all, thresh=0.5):\n",
    "    \"\"\" \n",
    "    Calculate how many realizations have a detections, to get \n",
    "    the detection probability for a sample.\n",
    "\n",
    "    Parameters\n",
    "    ----------\n",
    "    dp_ss_all : (N, R, S) NDarray\n",
    "    dp_bg_all : (N, R) NDarray\n",
    "    thresh : scalar\n",
    "        threshold DP to count as a detection\n",
    "\n",
    "    Returns\n",
    "    -------\n",
    "    ss_detfrac : (N,) NDarray\n",
    "        Fraction of realizations with an ss DP above thresh.\n",
    "    bg_detfrac : (N,) NDarray\n",
    "        Fraction of realizations with a bg DP above thresh.\n",
    "    \n",
    "    \"\"\"\n",
    "    nsamp = len(dp_ss_all)\n",
    "    nreals = len(dp_ss_all[0])\n",
    "    nskies = len(dp_ss_all[0,0])\n",
    "    bg_detfrac = np.zeros(nsamp)\n",
    "    ss_detfrac = np.zeros(nsamp)\n",
    "    for nn in range(nsamp):\n",
    "        count_bg = 0\n",
    "        count_ss = 0\n",
    "        for rr in range(nreals):\n",
    "            if (dp_bg_all[nn,rr] > thresh):\n",
    "                count_bg += 1\n",
    "            for ss in range(nskies):\n",
    "                if (dp_ss_all[nn,rr,ss] > thresh):\n",
    "                    count_ss += 1\n",
    "        bg_detfrac[nn] = count_bg/nreals\n",
    "        ss_detfrac[nn] = count_ss/(nreals*nskies)\n",
    "\n",
    "    return ss_detfrac, bg_detfrac"
   ]
  },
  {
   "cell_type": "code",
   "execution_count": null,
   "metadata": {},
   "outputs": [],
   "source": []
  },
  {
   "cell_type": "code",
   "execution_count": null,
   "metadata": {},
   "outputs": [],
   "source": [
    "thresh=0.5\n",
    "ss_detfrac, bg_detfrac = detfrac_from_reals(dp_ss_all, dp_bg_all, thresh)\n",
    "def plot_detfrac(df_ss, df_bg, thresh):\n",
    "    fig, ax = plt.subplots(figsize=(6.5,4))\n",
    "    ax.plot(np.arange(nsamp), df_bg, color='cornflowerblue', label='BG',\n",
    "            marker='d')\n",
    "    ax.plot(np.arange(nsamp), df_ss, color='orangered', label='SS',\n",
    "            marker='o')\n",
    "    ax.set_xlabel('Param Space Sample')\n",
    "    ax.set_ylabel('Detection Fraction')\n",
    "    ax.set_title('Fraction of Realizations with DP > %0.2f' % thresh)\n",
    "    ax.legend()\n",
    "    fig.tight_layout()\n",
    "    return fig\n",
    "fig = plot_detfrac(ss_detfrac, bg_detfrac, thresh)"
   ]
  },
  {
   "attachments": {},
   "cell_type": "markdown",
   "metadata": {},
   "source": [
    "# Streamline\n",
    " Do it all for a given pta"
   ]
  },
  {
   "cell_type": "code",
   "execution_count": null,
   "metadata": {},
   "outputs": [],
   "source": [
    "def run_psr_calculations(hc_ss_all, hc_bg_all, npsrs = 30, sigma = 1.17e-5, \n",
    "                         nskies = 25):\n",
    "    shape = hc_ss_all.shape\n",
    "    nsamp, nfreqs, nreals, nloudest = shape[0], shape[1], shape[2], shape[3]\n",
    "\n",
    "    # build PTA\n",
    "    phis = np.random.uniform(0, 2*np.pi, size = npsrs)\n",
    "    thetas = np.random.uniform(np.pi/2, np.pi/2, size = npsrs)\n",
    "    sigmas = np.ones_like(phis)*sigma\n",
    "    psrs = hsim.sim_pta(timespan=dur/YR, cad=1/(cad/YR), sigma=sigmas,\n",
    "                    phi=phis, theta=thetas)\n",
    "    \n",
    "    # Calculate background DP\n",
    "    dp_bg_all = np.zeros((nsamp, nreals)) # (N,R)\n",
    "    for nn in range(nsamp):\n",
    "        dp_bg_all[nn,:] = detstats.detect_bg_pta(psrs, fobs, cad, hc_bg_all[nn])\n",
    "\n",
    "    # Build ss skies\n",
    "    theta_ss = np.random.uniform(0, np.pi, size = nfreqs * nskies * nloudest).reshape(nfreqs, nskies, nloudest)\n",
    "    phi_ss = np.random.uniform(0, 2*np.pi, size = theta_ss.size).reshape(theta_ss.shape)\n",
    "    Phi0_ss = np.random.uniform(0,2*np.pi, size = theta_ss.size).reshape(theta_ss.shape)\n",
    "    iota_ss = np.random.uniform(0,  np.pi, size = theta_ss.size).reshape(theta_ss.shape)\n",
    "    psi_ss = np.random.uniform(0,   np.pi, size = theta_ss.size).reshape(theta_ss.shape)\n",
    "\n",
    "    # Calculate single source DP\n",
    "    dp_ss_all = np.zeros((nsamp, nreals, nskies)) # (N,R,S)\n",
    "    for nn in range(nreals):\n",
    "        dp_ss_all[nn,:,:] = detstats.detect_ss_pta(psrs, cad, dur, fobs, dfobs,\n",
    "                                                hc_ss_all[nn], hc_bg_all[nn],\n",
    "                                                theta_ss=theta_ss, phi_ss=phi_ss, Phi0_ss=Phi0_ss,\n",
    "                                                iota_ss=iota_ss, psi_ss=psi_ss)\n",
    "    return dp_ss_all, dp_bg_all\n",
    "        "
   ]
  },
  {
   "cell_type": "code",
   "execution_count": null,
   "metadata": {},
   "outputs": [],
   "source": [
    "dp_ss_psr, dp_bg_psr = run_psr_calculations(hc_ss_all, hc_bg_all, npsrs = 30, sigma = 1e-6,\n",
    "                                  nskies = 25)\n",
    "fig1 = plot_detprob(dp_ss_psr, dp_bg_psr)"
   ]
  },
  {
   "cell_type": "code",
   "execution_count": null,
   "metadata": {},
   "outputs": [],
   "source": [
    "print(np.min(dp_ss_psr))"
   ]
  },
  {
   "attachments": {},
   "cell_type": "markdown",
   "metadata": {},
   "source": [
    "where are the rest of my single sources? possibly too low to detect"
   ]
  },
  {
   "cell_type": "code",
   "execution_count": null,
   "metadata": {},
   "outputs": [],
   "source": [
    "thresh=0.5\n",
    "df_ss_psr, df_bg_psr = detfrac_from_reals(dp_ss_psr, dp_bg_psr, thresh)\n",
    "fig2 = plot_detfrac(df_ss_psr, df_bg_psr, thresh)"
   ]
  },
  {
   "attachments": {},
   "cell_type": "markdown",
   "metadata": {},
   "source": [
    "Try another pta, 40 pulsars, 5e-7 sigma"
   ]
  },
  {
   "cell_type": "code",
   "execution_count": null,
   "metadata": {},
   "outputs": [],
   "source": [
    "dp_ss_psr40, dp_bg_psr40 = run_psr_calculations(hc_ss_all, hc_bg_all, npsrs = 40, sigma = 5e-7,\n",
    "                                  nskies = 25)\n",
    "fig1 = plot_detprob(dp_ss_psr40, dp_bg_psr40)\n",
    "thresh=0.5\n",
    "df_ss_psr40, df_bg_psr40 = detfrac_from_reals(dp_ss_psr40, dp_bg_psr40, thresh)\n",
    "fig2 = plot_detfrac(df_ss_psr40, df_bg_psr40, thresh)"
   ]
  },
  {
   "cell_type": "code",
   "execution_count": null,
   "metadata": {},
   "outputs": [],
   "source": [
    "def plot_nsample_dp(dp_ss, dp_bg, nn):\n",
    "    fig, ax = plt.subplots(figsize=(6.5,4))\n",
    "    for ss in range(nskies):\n",
    "        ax.scatter(np.arange(nreals), dp_ss_psr40[nn,:,ss], alpha=0.5)\n",
    "    ax.scatter(np.arange(nreals), dp_bg_psr40[nn], color='k')\n",
    "    ax.set_xlabel('Realization (R)')\n",
    "    ax.set_ylabel('SS DetProb')\n",
    "    ax.set_title('Sample (N): %d' %nn)\n",
    "    return fig\n",
    "    \n",
    "\n",
    "fig = plot_nsample_dp(dp_ss_psr40, dp_bg_psr40, nn=7)\n",
    "fig = plot.plot_bg_ss(fobs, hc_bg_all[nn], hc_ss_all[nn])"
   ]
  },
  {
   "cell_type": "code",
   "execution_count": null,
   "metadata": {},
   "outputs": [],
   "source": [
    "fig1 = plot_nsample_dp(dp_ss_psr40, dp_bg_psr40, nn=20)\n",
    "# ax = fig1.axes[0]\n",
    "# ax.set_yscale('log') # 0's dont show up on log plot\n",
    "# ax.set_ylim(0, 1e-40)\n",
    "fig2 = plot.plot_bg_ss(fobs, hc_bg_all[20], hc_ss_all[20])\n",
    "# It really just depends on how high the strain is!\n"
   ]
  },
  {
   "cell_type": "code",
   "execution_count": null,
   "metadata": {},
   "outputs": [],
   "source": [
    "def plot_sample_nn(fobs, hc_ss, hc_bg, dp_ss, dp_bg, df_ss, df_bg, nn):\n",
    "    \"\"\" Plot strain and detection probability for a single sample.\n",
    "    \"\"\"\n",
    "    shape = hc_ss.shape\n",
    "    F, R, L = shape[0], shape[1], shape[2]\n",
    "    S = dp_ss.shape[-1]\n",
    "    fig, axs = plt.subplots(1, 2,figsize=(12,4))\n",
    "\n",
    "    # Strains\n",
    "    plot.draw_ss_and_gwb(axs[0], fobs*YR, hc_ss, hc_bg)\n",
    "    axs[0].set_xlabel(plot.LABEL_GW_FREQUENCY_YR)\n",
    "    axs[0].set_ylabel(plot.LABEL_CHARACTERISTIC_STRAIN)\n",
    "    axs[0].set_title('Sample nn=%d (F=%d, R=%d, L=%d)' % (nn, F, R, L))\n",
    "    axs[0].set_xscale('log')\n",
    "    axs[0].set_yscale('log')\n",
    "\n",
    "    for ss in range(S):\n",
    "        axs[1].scatter(np.arange(nreals), dp_ss[:,ss], alpha=0.25)\n",
    "    axs[1].scatter(np.arange(nreals), dp_bg, color='k', \n",
    "                   label='BG, DF = %.2e' % df_bg,\n",
    "                   marker='d')\n",
    "    axs[1].errorbar(np.arange(nreals), np.mean(dp_ss[:,:], axis=1),\n",
    "                     yerr = np.std(dp_ss[:,:], axis=1), color='orangered',\n",
    "                      label = 'SS, sky-avg, DF = %.2e' % df_ss, linestyle='', capsize=3,\n",
    "                       marker='o' )\n",
    "    axs[1].set_xlabel('Realization (R)')\n",
    "    axs[1].set_ylabel('SS DetProb')\n",
    "    # axs[1].set_title('BG DF = ' %nn)\n",
    "    fig.legend()\n",
    "    fig.tight_layout()\n",
    "    \n",
    "    return fig\n",
    "nn=7\n",
    "fig = plot_sample_nn(fobs, hc_ss_all[nn], hc_bg_all[nn], \n",
    "                     dp_ss_psr40[nn], dp_bg_psr40[nn],\n",
    "                     df_ss_psr40[nn], df_bg_psr40[nn], \n",
    "                     nn)"
   ]
  },
  {
   "cell_type": "code",
   "execution_count": null,
   "metadata": {},
   "outputs": [],
   "source": [
    "for nn in range(nsamp):\n",
    "    fig = plot_sample_nn(fobs, hc_ss_all[nn], hc_bg_all[nn],\n",
    "                         dp_ss_psr40[nn], dp_bg_psr40[nn], \n",
    "                         df_ss_psr40[nn], df_bg_psr40[nn], nn=nn)\n",
    "    fname = (filepath+'detstats/p%06d_detprob.png' % nn)\n",
    "    print(fname)\n",
    "    fig.savefig(fname, dpi=100)\n",
    "    plt.close(fig)"
   ]
  },
  {
   "attachments": {},
   "cell_type": "markdown",
   "metadata": {},
   "source": [
    "# Appendix: Regular Old Detection Statistic Calculation"
   ]
  },
  {
   "attachments": {},
   "cell_type": "markdown",
   "metadata": {},
   "source": [
    "### A.1 build sam and calculate gws"
   ]
  },
  {
   "cell_type": "code",
   "execution_count": null,
   "metadata": {},
   "outputs": [],
   "source": [
    "dur = 15.0*YR\n",
    "cad = .2*YR\n",
    "fobs = utils.nyquist_freqs(dur,cad)\n",
    "fobs_edges = utils.nyquist_freqs_edges(dur,cad)\n",
    "dfobs = np.diff(fobs_edges)\n",
    "sam = holo.sam.Semi_Analytic_Model() \n",
    "# sam = holo.sam.Semi_Analytic_Model(mtot=(1.0e4*MSOL, 1.0e11*MSOL, 20), mrat=(1e-3, 1.0, 20), redz=(1e-3, 10.0, 20))  # faster version\n",
    "hc_ss_one, hc_bg_one = sam.ss_gwb(fobs_edges, realize=20, loudest=5)"
   ]
  },
  {
   "attachments": {},
   "cell_type": "markdown",
   "metadata": {},
   "source": [
    "### A.2 build pta"
   ]
  },
  {
   "cell_type": "code",
   "execution_count": null,
   "metadata": {},
   "outputs": [],
   "source": [
    "npsrs = 40\n",
    "phis = np.random.uniform(0, 2*np.pi, size = npsrs)\n",
    "thetas = np.random.uniform(np.pi/2, np.pi/2, size = npsrs)\n",
    "sigmas = np.ones_like(phis)*5.2e-6\n",
    "# build sim_pta\n",
    "pulsars = hsim.sim_pta(timespan=dur/YR, cad=1/(cad/YR), sigma=sigmas,\n",
    "                    phi=phis, theta=thetas)\n"
   ]
  },
  {
   "attachments": {},
   "cell_type": "markdown",
   "metadata": {},
   "source": [
    "### A.3 calculate bg DP"
   ]
  },
  {
   "cell_type": "code",
   "execution_count": null,
   "metadata": {},
   "outputs": [],
   "source": [
    "dp_bg1 = detstats.detect_bg_pta(pulsars, fobs, cad, hc_bg_one)\n",
    "dp_bg2 = detstats.detect_bg(thetas, phis, sigmas, fobs, cad, hc_bg_one)\n",
    "plt.scatter(dp_bg1, dp_bg2)\n",
    "print(dp_bg1)\n",
    "print(dp_bg2)\n",
    "plt.xlabel('detect_bg_pta')\n",
    "plt.ylabel('detect_bg')\n",
    "plt.title(('F,R,L ='+ str(hc_ss_one.shape)+'\\nsigmas=%.2e' %sigmas[0]))\n"
   ]
  },
  {
   "attachments": {},
   "cell_type": "markdown",
   "metadata": {},
   "source": [
    "### A.4 build ss sky realizations"
   ]
  },
  {
   "cell_type": "code",
   "execution_count": null,
   "metadata": {},
   "outputs": [],
   "source": [
    "print(hc_ss_one.shape)"
   ]
  },
  {
   "cell_type": "code",
   "execution_count": null,
   "metadata": {},
   "outputs": [],
   "source": [
    "S = 15\n",
    "F = len(fobs)\n",
    "L = len(hc_ss_one[0,0])\n",
    "theta_ss = np.random.uniform(0, np.pi, size=F*S*L).reshape(F,S,L)\n",
    "phi_ss = np.random.uniform(0,2*np.pi, size=theta_ss.size).reshape(theta_ss.shape)\n",
    "Phi0_ss = np.random.uniform(0,2*np.pi, size=theta_ss.size).reshape(theta_ss.shape)\n",
    "iota_ss = np.random.uniform(0, np.pi, size = theta_ss.size).reshape(theta_ss.shape)\n",
    "psi_ss = np.random.uniform(0, np.pi, size = theta_ss.size).reshape(theta_ss.shape)"
   ]
  },
  {
   "attachments": {},
   "cell_type": "markdown",
   "metadata": {},
   "source": [
    "### A.5 calculate ss DP"
   ]
  },
  {
   "cell_type": "code",
   "execution_count": null,
   "metadata": {},
   "outputs": [],
   "source": [
    "dp_ss1 = detstats.detect_ss_pta(pulsars, cad, dur, fobs, dfobs, hc_ss_one, hc_bg_one,\n",
    "                                theta_ss=theta_ss, phi_ss=phi_ss, Phi0_ss=Phi0_ss, iota_ss=iota_ss, psi_ss=psi_ss)\n",
    "dp_ss2 = detstats.detect_ss(thetas, phis, sigmas, cad, dur, fobs, dfobs, hc_ss_one, hc_bg_one,\n",
    "                                theta_ss=theta_ss, phi_ss=phi_ss, Phi0_ss=Phi0_ss, iota_ss=iota_ss, psi_ss=psi_ss)"
   ]
  },
  {
   "cell_type": "code",
   "execution_count": null,
   "metadata": {},
   "outputs": [],
   "source": [
    "plt.scatter(dp_ss1, dp_ss2)\n",
    "print(dp_ss1.shape, utils.stats(dp_ss1))\n",
    "print(dp_ss2.shape, utils.stats(dp_ss2))\n",
    "plt.xlabel('detect_ss_pta')\n",
    "plt.ylabel('detect_ss')\n",
    "plt.title(('F,R,L ='+ str(hc_ss_one.shape)+'\\nsigmas=%.2e' %sigmas[0]))\n"
   ]
  },
  {
   "cell_type": "code",
   "execution_count": null,
   "metadata": {},
   "outputs": [],
   "source": [
    "print(dp_ss1.shape) # (R, S)"
   ]
  },
  {
   "cell_type": "code",
   "execution_count": null,
   "metadata": {},
   "outputs": [],
   "source": [
    "def plot_dpbg_dpss(dpbg, dpss, title):\n",
    "    R = len(dpbg)\n",
    "    fig, ax = plt.subplots(figsize = (8,4))\n",
    "    ax.scatter(np.arange(R), dpbg, label='$\\gamma_\\mathrm{bg}$, avg = %.2e' % np.mean(dpbg), color='blue')\n",
    "    ax.errorbar(np.arange(R), np.mean(dpss, axis=1), yerr=np.std(dpss, axis=1), capsize=3,\n",
    "                linestyle='', marker='o',\n",
    "                color='red', label = '$\\gamma_\\mathrm{SS}$ (averaged over sky realizations), avg = %.2e' \n",
    "                % np.mean(dpss))\n",
    "    for ss in range(len(dpss[0])):\n",
    "        ax.scatter(np.arange(R), dpss[:,ss], alpha=0.25)\n",
    "\n",
    "    fig.legend(bbox_to_anchor=(0.1,0), bbox_transform=fig.transFigure, loc='upper left')\n",
    "    ax.set_xlabel('Realization')\n",
    "    ax.set_ylabel('Detection Probability')\n",
    "    ax.set_yscale('log')\n",
    "    ax.set_title(title)\n",
    "    # plt.ylim(0,1)\n",
    "    return fig\n",
    "\n",
    "fig = plot_dpbg_dpss(dp_bg1, dp_ss1, title = ('F,R,L ='+ str(hc_ss_one.shape)+'\\nsigmas=%.2e' %sigmas[0]))"
   ]
  },
  {
   "attachments": {},
   "cell_type": "markdown",
   "metadata": {},
   "source": [
    "### A.6 %timeit"
   ]
  },
  {
   "cell_type": "code",
   "execution_count": null,
   "metadata": {},
   "outputs": [],
   "source": [
    "%timeit detstats.detect_ss_pta(pulsars, cad, dur, fobs, dfobs, hc_ss_one, hc_bg_one,\\\n",
    "                                theta_ss=theta_ss, phi_ss=phi_ss, Phi0_ss=Phi0_ss, iota_ss=iota_ss, psi_ss=psi_ss) "
   ]
  },
  {
   "cell_type": "code",
   "execution_count": null,
   "metadata": {},
   "outputs": [],
   "source": [
    "%timeit detstats.detect_ss(thetas, phis, sigmas, cad, dur, fobs, dfobs, hc_ss_one, hc_bg_one, \\\n",
    "                                theta_ss=theta_ss, phi_ss=phi_ss, Phi0_ss=Phi0_ss, iota_ss=iota_ss, psi_ss=psi_ss)"
   ]
  },
  {
   "cell_type": "code",
   "execution_count": null,
   "metadata": {},
   "outputs": [],
   "source": [
    "%timeit detstats.detect_bg_pta(pulsars, fobs, cad, hc_bg_one)\n",
    "%timeit detstats.detect_bg(thetas, phis, sigmas, fobs, cad, hc_bg_one)\n"
   ]
  },
  {
   "attachments": {},
   "cell_type": "markdown",
   "metadata": {},
   "source": [
    "## A.7 Vary L\n",
    "### L = 100"
   ]
  },
  {
   "cell_type": "code",
   "execution_count": null,
   "metadata": {},
   "outputs": [],
   "source": [
    "def calculate_dps(pulsars, hc_ss, hc_bg, S=15):\n",
    "    F = len(hc_ss)\n",
    "    R = len(hc_ss[0])\n",
    "    L = len(hc_ss[0,0])\n",
    "\n",
    "    # build ss sky realizations        \n",
    "    theta_ss = np.random.uniform(0, np.pi, size=F*S*L).reshape(F,S,L)\n",
    "    phi_ss = np.random.uniform(0,2*np.pi, size=theta_ss.size).reshape(theta_ss.shape)\n",
    "    Phi0_ss = np.random.uniform(0,2*np.pi, size=theta_ss.size).reshape(theta_ss.shape)\n",
    "    iota_ss = np.random.uniform(0, np.pi, size = theta_ss.size).reshape(theta_ss.shape)\n",
    "    psi_ss = np.random.uniform(0, np.pi, size = theta_ss.size).reshape(theta_ss.shape)\n",
    "\n",
    "    dp_bg = detstats.detect_bg_pta(pulsars, fobs, cad, hc_bg)\n",
    "    dp_ss = detstats.detect_ss_pta(pulsars, cad, dur, fobs, dfobs, hc_ss, hc_bg,\n",
    "                                theta_ss=theta_ss, phi_ss=phi_ss, Phi0_ss=Phi0_ss, \n",
    "                                iota_ss=iota_ss, psi_ss=psi_ss)\n",
    "    return dp_bg, dp_ss \n",
    "\n",
    "def time_dps(pulsars, hc_ss, hc_bg, S=15):\n",
    "    F = len(hc_ss)\n",
    "    R = len(hc_ss[0])\n",
    "    L = len(hc_ss[0,0])\n",
    "\n",
    "    # build ss sky realizations        \n",
    "    theta_ss = np.random.uniform(0, np.pi, size=F*S*L).reshape(F,S,L)\n",
    "    phi_ss = np.random.uniform(0,2*np.pi, size=theta_ss.size).reshape(theta_ss.shape)\n",
    "    Phi0_ss = np.random.uniform(0,2*np.pi, size=theta_ss.size).reshape(theta_ss.shape)\n",
    "    iota_ss = np.random.uniform(0, np.pi, size = theta_ss.size).reshape(theta_ss.shape)\n",
    "    psi_ss = np.random.uniform(0, np.pi, size = theta_ss.size).reshape(theta_ss.shape)\n",
    "\n",
    "    %timeit detstats.detect_bg_pta(pulsars, fobs, cad, hc_bg)\n",
    "    %timeit detstats.detect_ss_pta(pulsars, cad, dur, fobs, dfobs, hc_ss, hc_bg,\\\n",
    "                                theta_ss=theta_ss, phi_ss=phi_ss, Phi0_ss=Phi0_ss, \\\n",
    "                                iota_ss=iota_ss, psi_ss=psi_ss)\n"
   ]
  },
  {
   "cell_type": "code",
   "execution_count": null,
   "metadata": {},
   "outputs": [],
   "source": [
    "hc_ss_L100, hc_bg_L100 = sam.ss_gwb(fobs_edges, realize=20, loudest=100)\n",
    "dp_bg_L100, dp_ss_L100 = calculate_dps(pulsars, hc_ss_L100, hc_bg_L100, S=15)"
   ]
  },
  {
   "cell_type": "code",
   "execution_count": null,
   "metadata": {},
   "outputs": [],
   "source": [
    "fig = plot_dpbg_dpss(dp_bg_L100, dp_ss_L100, \n",
    "                     title = ('F,R,L ='+ str(hc_ss_L100.shape)+'\\nsigmas=%.2e' %sigmas[0]))"
   ]
  },
  {
   "attachments": {},
   "cell_type": "markdown",
   "metadata": {},
   "source": [
    "### L = 1"
   ]
  },
  {
   "cell_type": "code",
   "execution_count": null,
   "metadata": {},
   "outputs": [],
   "source": [
    "hc_ss_L1, hc_bg_L1 = sam.ss_gwb(fobs_edges, realize=20, loudest=1)\n",
    "dp_bg_L1, dp_ss_L1 = calculate_dps(pulsars, hc_ss_L1, hc_bg_L1, S=15)\n",
    "fig = plot_dpbg_dpss(dp_bg_L1, dp_ss_L1, \n",
    "                     title = ('F,R,L ='+ str(hc_ss_L1.shape)+'\\nsigmas=%.2e' %sigmas[0]))"
   ]
  },
  {
   "attachments": {},
   "cell_type": "markdown",
   "metadata": {},
   "source": [
    "## A.8 % Timeit "
   ]
  },
  {
   "cell_type": "code",
   "execution_count": null,
   "metadata": {},
   "outputs": [],
   "source": [
    "time_dps(pulsars, hc_ss_L1, hc_bg_L1, S=15)"
   ]
  },
  {
   "cell_type": "code",
   "execution_count": null,
   "metadata": {},
   "outputs": [],
   "source": [
    "time_dps(pulsars, hc_ss_L100, hc_bg_L100, S=15)"
   ]
  },
  {
   "cell_type": "code",
   "execution_count": null,
   "metadata": {},
   "outputs": [],
   "source": []
  }
 ],
 "metadata": {
  "kernelspec": {
   "display_name": "holo310",
   "language": "python",
   "name": "python3"
  },
  "language_info": {
   "codemirror_mode": {
    "name": "ipython",
    "version": 3
   },
   "file_extension": ".py",
   "mimetype": "text/x-python",
   "name": "python",
   "nbconvert_exporter": "python",
   "pygments_lexer": "ipython3",
   "version": "3.10.10"
  }
 },
 "nbformat": 4,
 "nbformat_minor": 2
}
