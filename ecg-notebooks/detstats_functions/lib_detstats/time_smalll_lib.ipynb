{
 "cells": [
  {
   "cell_type": "code",
   "execution_count": null,
   "metadata": {},
   "outputs": [],
   "source": [
    "%reload_ext autoreload\n",
    "%autoreload 2\n",
    "from importlib import reload\n",
    "\n",
    "import holodeck.detstats as ds\n",
    "import h5py\n",
    "\n",
    "import numpy as np\n",
    "import matplotlib.pyplot as plt"
   ]
  },
  {
   "attachments": {},
   "cell_type": "markdown",
   "metadata": {},
   "source": [
    "# Calculate Library Detstats"
   ]
  },
  {
   "cell_type": "code",
   "execution_count": null,
   "metadata": {},
   "outputs": [],
   "source": [
    "# hdf_name = '/Users/emigardiner/GWs/holodeck/output/2023-05-09-mbp-ss14_n40_r10_f20_d17.5_l5_p0/ss_lib.hdf5'\n",
    "# detstats_path = '/Users/emigardiner/GWs/holodeck/output/2023-05-09-mbp-ss14_n40_r10_f20_d17.5_l5_p0/detstats'\n",
    "\n",
    "# npsrs = 40\n",
    "# sigma = 1e-7\n",
    "# output_dir = detstats_path+'/ds2_psrs40_sigma1e-7'"
   ]
  },
  {
   "cell_type": "code",
   "execution_count": null,
   "metadata": {},
   "outputs": [],
   "source": [
    "# vals = ds.detect_lib(hdf_name, output_dir, npsrs, sigma, \n",
    "#                      nskies=25, thresh=0.5, plot=True, debug=True)"
   ]
  },
  {
   "attachments": {},
   "cell_type": "markdown",
   "metadata": {},
   "source": [
    "# Read in Library Detstats"
   ]
  },
  {
   "cell_type": "code",
   "execution_count": null,
   "metadata": {},
   "outputs": [],
   "source": [
    "sspath = '/Users/emigardiner/GWs/holodeck/output/2023-05-09-mbp-ss15_n100_r30_f100_d15_l5_p0/'\n",
    "hdfname = sspath+'ss_lib.hdf5'\n",
    "ssfile = h5py.File(hdfname, 'r')\n",
    "print(list(ssfile.keys()))\n",
    "hc_ss = ssfile['hc_ss'][...]\n",
    "hc_bg = ssfile['hc_bg'][...]\n",
    "ssfile.close()\n",
    "\n",
    "print('N,F,R,L:', hc_ss.shape) \n",
    "shape = hc_ss.shape\n",
    "N, F, R, L = shape[0], shape[1], shape[2], shape[3]\n",
    "\n",
    "# dsfile = np.load('/Users/emigardiner/GWs/holodeck/output/2023-05-09-mbp-ss15_n100_r30_f100_d15_l5_p0/detstats/dp4_psrs60_sigma1e-07/detstats.npz')\n",
    "dsfile = np.load('/Users/emigardiner/GWs/holodeck/output/2023-05-12-mbp-ss16_n10_r10_f70_d12.5_l10_p0/detstats/ds2_psrs60_sigma5e-07/detstats.npz')\n",
    "dp_ss = dsfile['dp_ss']\n",
    "dp_bg = dsfile['dp_bg']\n",
    "df_ss = dsfile['df_ss']\n",
    "df_bg = dsfile['df_bg']\n",
    "snr_ss = dsfile['snr_ss']\n",
    "snr_bg = dsfile['snr_bg']\n",
    "print('N,R,S:', dp_ss.shape)\n",
    "S = dp_ss.shape[-1]"
   ]
  },
  {
   "cell_type": "code",
   "execution_count": null,
   "metadata": {},
   "outputs": [],
   "source": [
    "print('snr_ss range:', np.min(snr_ss), np.max(snr_ss))"
   ]
  },
  {
   "attachments": {},
   "cell_type": "markdown",
   "metadata": {},
   "source": [
    "# Integration Outputs"
   ]
  },
  {
   "cell_type": "code",
   "execution_count": null,
   "metadata": {},
   "outputs": [],
   "source": [
    "from scipy import integrate, special\n",
    "from sympy import nsolve, Symbol\n",
    "\n",
    "def _Fe_thresh(Num, alpha_0=0.001):\n",
    "    \"\"\" Calculate the threshold F_e statistic using sympy.nsolve\n",
    "    \n",
    "    Parameters\n",
    "    ----------\n",
    "    Num : int\n",
    "        Number of single sources to detect.\n",
    "    alpha_0 : scalar\n",
    "        False alarm probability max.\n",
    "\n",
    "    Returns\n",
    "    -------\n",
    "    Fe_bar : scalar\n",
    "        Threshold Fe statistic\n",
    "    \"\"\"\n",
    "    Fe_bar = Symbol('Fe_bar')\n",
    "    func = 1 - (1 - (1 + Fe_bar)*np.e**(-Fe_bar))**Num - alpha_0\n",
    "    Fe_bar = nsolve(func, Fe_bar, 10)\n",
    "    return(Fe_bar)\n",
    "\n",
    "def _integrand(Fe, rho):\n",
    "\n",
    "    I_1 = special.i1(rho*np.sqrt(2*Fe))\n",
    "    rv = (2*Fe)**(1/2) /rho * I_1 * np.exp(-Fe - rho**2 /2)\n",
    "    return rv\n",
    "\n",
    "def integrate_rho(Fe_bar, rho):\n",
    "    \"\"\" Calculate the detection probability for each single source in each realization.\n",
    "    \n",
    "    Parameters\n",
    "    ----------\n",
    "    rho : scalar\n",
    "    Fe_bar : scalar\n",
    "\n",
    "    Returns\n",
    "    -------\n",
    "    rv : float\n",
    "    \"\"\"\n",
    "    gamma_ssi = integrate.quad(_integrand, Fe_bar, np.inf, \n",
    "                               args=(rho))[0]\n",
    "    return gamma_ssi"
   ]
  },
  {
   "cell_type": "code",
   "execution_count": null,
   "metadata": {},
   "outputs": [],
   "source": [
    "Num = F*L\n",
    "Fe_bar = _Fe_thresh(Num)\n",
    "outname = './output/integral_maps/Num%d_F%d_L%d_Febar%.2f.dat' % (Num, F, L, Fe_bar)"
   ]
  },
  {
   "cell_type": "code",
   "execution_count": null,
   "metadata": {},
   "outputs": [],
   "source": [
    "rho = np.geomspace(10**-3, 10**3, 10**5)\n",
    "print(rho.shape)\n",
    "ans = np.zeros_like(rho)\n",
    "\n",
    "\n",
    "for ii in range(len(rho)):\n",
    "    if ii%(len(rho)/10) == 0:\n",
    "       print(ii, 'out of', len(rho))\n",
    "    ans[ii] = integrate_rho(Fe_bar, rho[ii])\n"
   ]
  },
  {
   "cell_type": "code",
   "execution_count": null,
   "metadata": {},
   "outputs": [],
   "source": [
    "xx = rho\n",
    "yy = ans\n",
    "\n",
    "fig, (ax1, ax2) = plt.subplots(nrows=2, ncols=1, sharex=True, figsize=(8,5),\n",
    "                               gridspec_kw={'height_ratios': [3.5, 1]})\n",
    "ax1.loglog(xx, yy, label='Num=%d, Fe_bar=%.2f' % (Num, Fe_bar), marker='x', markersize=5, linestyle='')\n",
    "ax1.set_title(r'$\\gamma_i(\\rho) = \\int_{\\bar{\\mathcal{F}}_e}^\\infty \\frac{\\sqrt{2\\mathcal{F}_e}}{\\rho} \\mathcal{I}_1 ( \\rho\\sqrt{2\\mathcal{F}_e} ) e^{-\\mathcal{F}_e - \\frac{1}{2}\\rho^2} d\\mathcal{F}_e$', \n",
    "               fontsize=12)\n",
    "ax1.set_ylabel('$\\gamma_i$')\n",
    "ax1.axhline(1, color='k', alpha=0.5, ls='--', label='$\\gamma_i$=1')\n",
    "ax1.legend()\n",
    "\n",
    "ax2.scatter(xx, np.isnan(yy), marker='x', s=5, color='tab:red')\n",
    "ax2.set_ylabel('is nan')\n",
    "ax2.set_xlabel(r'$\\rho$', fontsize=14)\n",
    "\n",
    "fig.tight_layout()"
   ]
  },
  {
   "cell_type": "code",
   "execution_count": null,
   "metadata": {},
   "outputs": [],
   "source": [
    "rho1 = np.geomspace(10**0.5, 10**2, 10**3)\n",
    "print(rho1.shape)\n",
    "ans1 = np.zeros_like(rho1)\n",
    "\n",
    "\n",
    "for ii in range(len(rho1)):\n",
    "    if ii%(len(rho1)/10) == 0:\n",
    "       print('on', ii, 'out of', len(rho1))\n",
    "    ans1[ii] = integrate_rho(Fe_bar, rho1[ii])"
   ]
  },
  {
   "cell_type": "code",
   "execution_count": null,
   "metadata": {},
   "outputs": [],
   "source": [
    "xx=rho1\n",
    "yy=ans1\n",
    "fig, (ax1, ax2) = plt.subplots(nrows=2, ncols=1, sharex=True, figsize=(8,5),\n",
    "                               gridspec_kw={'height_ratios': [3.5, 1]})\n",
    "ax1.loglog(xx, yy, label='Num=%d, Fe_bar=%.2f' % (Num, Fe_bar), marker='x', markersize=5, linestyle='')\n",
    "ax1.set_title(r'$\\gamma_i(\\rho) = \\int_{\\bar{\\mathcal{F}}_e}^\\infty \\frac{\\sqrt{2\\mathcal{F}_e}}{\\rho} \\mathcal{I}_1 ( \\rho\\sqrt{2\\mathcal{F}_e} ) e^{-\\mathcal{F}_e - \\frac{1}{2}\\rho^2} d\\mathcal{F}_e$', \n",
    "               fontsize=12)\n",
    "ax1.set_ylabel('$\\gamma_i$')\n",
    "ax1.axhline(1, color='k', alpha=0.5, ls='--', label='$\\gamma_i$=1')\n",
    "ax1.legend()\n",
    "\n",
    "ax2.scatter(xx, np.isnan(yy), marker='x', s=5, color='tab:red')\n",
    "ax2.set_ylabel('is nan')\n",
    "ax2.set_xlabel(r'$\\rho$', fontsize=14)\n",
    "\n",
    "fig.tight_layout()"
   ]
  },
  {
   "cell_type": "code",
   "execution_count": null,
   "metadata": {},
   "outputs": [],
   "source": []
  }
 ],
 "metadata": {
  "kernelspec": {
   "display_name": "holo310",
   "language": "python",
   "name": "python3"
  },
  "language_info": {
   "codemirror_mode": {
    "name": "ipython",
    "version": 3
   },
   "file_extension": ".py",
   "mimetype": "text/x-python",
   "name": "python",
   "nbconvert_exporter": "python",
   "pygments_lexer": "ipython3",
   "version": "3.10.10"
  }
 },
 "nbformat": 4,
 "nbformat_minor": 2
}
