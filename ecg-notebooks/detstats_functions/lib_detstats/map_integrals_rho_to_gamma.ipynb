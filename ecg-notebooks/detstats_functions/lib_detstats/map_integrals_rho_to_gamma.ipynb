{
 "cells": [
  {
   "cell_type": "code",
   "execution_count": null,
   "metadata": {},
   "outputs": [],
   "source": [
    "%reload_ext autoreload\n",
    "%autoreload 2\n",
    "from importlib import reload\n",
    "\n",
    "\n",
    "import holodeck as holo\n",
    "import holodeck.detstats as ds\n",
    "from holodeck import plot\n",
    "import h5py\n",
    "\n",
    "import numpy as np\n",
    "import matplotlib.pyplot as plt\n",
    "import matplotlib.cm as cm\n",
    "\n",
    "import os"
   ]
  },
  {
   "attachments": {},
   "cell_type": "markdown",
   "metadata": {},
   "source": [
    " Calculate Library Detstats"
   ]
  },
  {
   "cell_type": "code",
   "execution_count": null,
   "metadata": {},
   "outputs": [],
   "source": [
    "# hdf_name = '/Users/emigardiner/GWs/holodeck/output/2023-05-09-mbp-ss14_n40_r10_f20_d17.5_l5_p0/ss_lib.hdf5'\n",
    "# detstats_path = '/Users/emigardiner/GWs/holodeck/output/2023-05-09-mbp-ss14_n40_r10_f20_d17.5_l5_p0/detstats'\n",
    "\n",
    "# npsrs = 40\n",
    "# sigma = 1e-7\n",
    "# output_dir = detstats_path+'/ds2_psrs40_sigma1e-7'"
   ]
  },
  {
   "cell_type": "code",
   "execution_count": null,
   "metadata": {},
   "outputs": [],
   "source": [
    "# vals = ds.detect_lib(hdf_name, output_dir, npsrs, sigma, \n",
    "#                      nskies=25, thresh=0.5, plot=True, debug=True)"
   ]
  },
  {
   "attachments": {},
   "cell_type": "markdown",
   "metadata": {},
   "source": [
    "# Read in Library "
   ]
  },
  {
   "cell_type": "code",
   "execution_count": null,
   "metadata": {},
   "outputs": [],
   "source": [
    "sspath = '/Users/emigardiner/GWs/holodeck/output/2023-05-09-mbp-ss15_n100_r30_f100_d15_l5_p0/'\n",
    "hdfname = sspath+'ss_lib.hdf5'\n",
    "ssfile = h5py.File(hdfname, 'r')\n",
    "print(list(ssfile.keys()))\n",
    "hc_ss = ssfile['hc_ss'][...]\n",
    "hc_bg = ssfile['hc_bg'][...]\n",
    "ssfile.close()\n",
    "\n",
    "print('N,F,R,L:', hc_ss.shape) \n",
    "shape = hc_ss.shape\n",
    "N, F, R, L = shape[0], shape[1], shape[2], shape[3]\n",
    "\n",
    "# dsfile = np.load('/Users/emigardiner/GWs/holodeck/output/2023-05-09-mbp-ss15_n100_r30_f100_d15_l5_p0/detstats/dp4_psrs60_sigma1e-07/detstats.npz')\n",
    "dsfile = np.load('/Users/emigardiner/GWs/holodeck/output/2023-05-12-mbp-ss16_n10_r10_f70_d12.5_l10_p0/detstats/ds2_psrs60_sigma5e-07/detstats.npz')\n",
    "dp_ss = dsfile['dp_ss']\n",
    "dp_bg = dsfile['dp_bg']\n",
    "df_ss = dsfile['df_ss']\n",
    "df_bg = dsfile['df_bg']\n",
    "snr_ss = dsfile['snr_ss']\n",
    "snr_bg = dsfile['snr_bg']\n",
    "print('N,R,S:', dp_ss.shape)\n",
    "S = dp_ss.shape[-1]"
   ]
  },
  {
   "cell_type": "code",
   "execution_count": null,
   "metadata": {},
   "outputs": [],
   "source": [
    "print('snr_ss range:', np.min(snr_ss), np.max(snr_ss))"
   ]
  },
  {
   "attachments": {},
   "cell_type": "markdown",
   "metadata": {},
   "source": [
    "## SNR Histogram"
   ]
  },
  {
   "cell_type": "code",
   "execution_count": null,
   "metadata": {},
   "outputs": [],
   "source": [
    "print(snr_ss.shape, snr_bg.shape)\n",
    "print(snr_ss.min())"
   ]
  },
  {
   "cell_type": "code",
   "execution_count": null,
   "metadata": {},
   "outputs": [],
   "source": [
    "flat_snr = snr_ss.flatten()\n",
    "bins = np.geomspace(1e-7, flat_snr.max(), 100+1)\n",
    "plt.hist(flat_snr, bins=bins)\n",
    "\n",
    "plt.yscale('log')\n",
    "plt.xscale('log')\n",
    "plt.title('Histogram of SNRs for the 10th Loudest Sources in each Frequency Bin')\n",
    "plt.ylabel('Number of Single Sources')\n",
    "plt.xlabel('SNR_ss')"
   ]
  },
  {
   "attachments": {},
   "cell_type": "markdown",
   "metadata": {},
   "source": [
    "# Integration"
   ]
  },
  {
   "attachments": {},
   "cell_type": "markdown",
   "metadata": {},
   "source": [
    "Find Fe_bar"
   ]
  },
  {
   "cell_type": "code",
   "execution_count": null,
   "metadata": {},
   "outputs": [],
   "source": [
    "Num = F*L\n",
    "Fe_bar = ds._Fe_thresh(Num)\n",
    "Fe_bar = np.float64(Fe_bar)"
   ]
  },
  {
   "attachments": {},
   "cell_type": "markdown",
   "metadata": {},
   "source": [
    "run_integration"
   ]
  },
  {
   "cell_type": "code",
   "execution_count": null,
   "metadata": {},
   "outputs": [],
   "source": [
    "rho = np.geomspace(10**-3, 10**3, 10**3)\n",
    "gamma = np.zeros_like(rho)\n",
    "\n",
    "for rr in range(len(rho)):\n",
    "    gamma[rr] = ds._gamma_of_rho(Fe_bar, rho[rr])"
   ]
  },
  {
   "attachments": {},
   "cell_type": "markdown",
   "metadata": {},
   "source": [
    "plot gamma(rho)"
   ]
  },
  {
   "cell_type": "code",
   "execution_count": null,
   "metadata": {},
   "outputs": [],
   "source": [
    "def plot_gamma_vs_rho(rho, gamma, label=''):\n",
    "    fig, ax = plot.figax(xlabel=r'$\\rho$', ylabel=r'$\\gamma(\\rho)$')\n",
    "    title = r'$\\gamma(\\rho) = \\int_{\\bar{\\mathcal{F}}_e}^\\infty \\frac{\\sqrt{2\\mathcal{F}_e}}{\\rho} \\mathcal{I}_1 ( \\rho\\sqrt{2\\mathcal{F}_e} ) e^{-\\mathcal{F}_e - \\frac{1}{2}\\rho^2} d\\mathcal{F}_e$'\n",
    "    ax.set_title(title)\n",
    "    ax.scatter(rho, gamma, marker='x', s=2, label=label)\n",
    "    ax.legend()\n",
    "    return fig\n",
    "\n",
    "fig = plot_gamma_vs_rho(rho, gamma, label='original')"
   ]
  },
  {
   "attachments": {},
   "cell_type": "markdown",
   "metadata": {},
   "source": [
    "Max gamma above peak rho"
   ]
  },
  {
   "cell_type": "code",
   "execution_count": null,
   "metadata": {},
   "outputs": [],
   "source": [
    "arg_peak = np.nanargmax(gamma)\n",
    "rho_peak = rho[arg_peak]\n",
    "gamma_peak = np.max(gamma)\n",
    "assert gamma_peak == gamma[arg_peak]"
   ]
  },
  {
   "cell_type": "code",
   "execution_count": null,
   "metadata": {},
   "outputs": [],
   "source": [
    "def gamma_above_peak(gamma):\n",
    "    arg_peak = np.nanargmax(gamma)\n",
    "    gamma[arg_peak:] = gamma[arg_peak]\n",
    "    return gamma\n",
    "\n",
    "print('peak at index=%d, rho=%f, gamma=%f' % (arg_peak, rho_peak, gamma_peak))\n",
    "\n",
    "gamma_maxed = np.copy(gamma)\n",
    "gamma_maxed = gamma_above_peak(gamma_maxed)\n",
    "\n",
    "fig = plot_gamma_vs_rho(rho, gamma_maxed, label='maxed above peak')"
   ]
  },
  {
   "cell_type": "code",
   "execution_count": null,
   "metadata": {},
   "outputs": [],
   "source": [
    "def gamma_above_one(gamma):\n",
    "    gamma[gamma>1.0] = 1.0\n",
    "    return gamma\n",
    "\n",
    "gamma_one = np.copy(gamma_maxed)\n",
    "gamma_one = gamma_above_one(gamma_one)\n",
    "fig = plot_gamma_vs_rho(rho, gamma_one, label='> 1.0 set to 1.0')"
   ]
  },
  {
   "cell_type": "code",
   "execution_count": null,
   "metadata": {},
   "outputs": [],
   "source": [
    "plt.loglog(rho, gamma_maxed-gamma_one, \n",
    "           label='$\\gamma_\\mathrm{maxed} - \\gamma_\\mathrm{ones}$')\n",
    "# plt.loglog(rho, gamma_maxed/gamma_one, \n",
    "#            label='$\\gamma_\\mathrm{maxed} / \\gamma_\\mathrm{ones}$')\n",
    "plt.xlabel(r'$\\rho$')\n",
    "plt.ylabel('difference')\n",
    "plt.legend()"
   ]
  },
  {
   "attachments": {},
   "cell_type": "markdown",
   "metadata": {},
   "source": [
    "## Save Grid"
   ]
  },
  {
   "cell_type": "code",
   "execution_count": null,
   "metadata": {},
   "outputs": [],
   "source": [
    "\n",
    "# n(rho), n(Num) grid\n",
    "\n",
    "outfile = '/Users/emigardiner/GWs/holodeck/output/rho_gamma_grids/rho_gamma_interp_grid_Num%d.npz' % (Num)\n",
    "np.savez(outfile, rho_interp_grid=rho, gamma_interp_grid=gamma_one, Fe_bar=Fe_bar, Num=Num)"
   ]
  },
  {
   "attachments": {},
   "cell_type": "markdown",
   "metadata": {},
   "source": [
    "# Grid Interpolation"
   ]
  },
  {
   "cell_type": "code",
   "execution_count": null,
   "metadata": {},
   "outputs": [],
   "source": [
    "from holodeck.constants import YR, GYR, MSOL\n",
    "from holodeck import utils, sam, cosmo, sam_cython"
   ]
  },
  {
   "cell_type": "code",
   "execution_count": null,
   "metadata": {},
   "outputs": [],
   "source": [
    "dur = 16.03*YR\n",
    "cad = .2*YR\n",
    "fobs_gw_cents = utils.nyquist_freqs(dur, cad)\n",
    "fobs_gw_edges = utils.nyquist_freqs_edges(dur, cad)\n",
    "fobs_orb_cents = fobs_gw_cents/2\n",
    "fobs_orb_edges = fobs_gw_edges/2\n",
    "sam = sam.Semi_Analytic_Model(mtot=(1.0e4*MSOL, 1.0e12*MSOL, 10), mrat=(1e-3, 1.0, 12), redz=(1e-3, 10.0, 14))\n",
    "hard = holo.hardening.Fixed_Time_2PL_SAM(sam, 3*GYR)"
   ]
  },
  {
   "cell_type": "code",
   "execution_count": null,
   "metadata": {},
   "outputs": [],
   "source": [
    "redz_final, diff_num = holo.sam_cython.dynamic_binary_number_at_fobs(\n",
    "            fobs_orb_cents, sam, hard, cosmo\n",
    "        )"
   ]
  },
  {
   "attachments": {},
   "cell_type": "markdown",
   "metadata": {},
   "source": [
    "## Check if interp grid exists"
   ]
  },
  {
   "cell_type": "code",
   "execution_count": null,
   "metadata": {},
   "outputs": [],
   "source": [
    "Num = 500\n",
    "\n",
    "gridname = '/Users/emigardiner/GWs/holodeck/output/rho_gamma_grids/rho_gamma_interp_grid_Num%d.npz' % (Num)\n",
    "if os.path.exists(gridname):\n",
    "    gridfile = np.load(gridname)\n",
    "    rho_interp_grid = gridfile['rho_interp_grid']\n",
    "    gamma_interp_grid = gridfile['gamma_interp_grid']\n",
    "    Fe_bar = gridfile['Fe_bar']"
   ]
  },
  {
   "attachments": {},
   "cell_type": "markdown",
   "metadata": {},
   "source": [
    "### generate random rho's"
   ]
  },
  {
   "cell_type": "code",
   "execution_count": null,
   "metadata": {},
   "outputs": [],
   "source": [
    "rho_exp = np.random.uniform(-6,6,10)\n",
    "rho_rand = 10**rho_exp\n",
    "print(rho_rand)"
   ]
  },
  {
   "cell_type": "code",
   "execution_count": null,
   "metadata": {},
   "outputs": [],
   "source": [
    "rsort = np.argsort(rho_rand)\n",
    "print(rsort)\n",
    "print(rho_rand[rsort])"
   ]
  },
  {
   "cell_type": "code",
   "execution_count": null,
   "metadata": {},
   "outputs": [],
   "source": [
    "print(np.min(rho_interp_grid))"
   ]
  },
  {
   "cell_type": "code",
   "execution_count": null,
   "metadata": {},
   "outputs": [],
   "source": [
    "gamma_rand = sam_cython.gamma_of_rho_interp(rho_rand, rsort, rho_interp_grid, gamma_interp_grid)\n",
    "print(gamma_rand)\n",
    "print(gamma_rand[rsort])"
   ]
  },
  {
   "cell_type": "code",
   "execution_count": null,
   "metadata": {},
   "outputs": [],
   "source": [
    "fig = plot_gamma_vs_rho(rho_interp_grid, gamma_interp_grid, label='interp_grid')\n",
    "ax = fig.axes[0]\n",
    "ax.scatter(rho_rand, gamma_rand, color='r', label='rand, interpolated in cython')\n",
    "ax.legend()"
   ]
  },
  {
   "cell_type": "code",
   "execution_count": null,
   "metadata": {},
   "outputs": [],
   "source": []
  }
 ],
 "metadata": {
  "kernelspec": {
   "display_name": "holo310",
   "language": "python",
   "name": "python3"
  },
  "language_info": {
   "codemirror_mode": {
    "name": "ipython",
    "version": 3
   },
   "file_extension": ".py",
   "mimetype": "text/x-python",
   "name": "python",
   "nbconvert_exporter": "python",
   "pygments_lexer": "ipython3",
   "version": "3.10.10"
  }
 },
 "nbformat": 4,
 "nbformat_minor": 2
}
