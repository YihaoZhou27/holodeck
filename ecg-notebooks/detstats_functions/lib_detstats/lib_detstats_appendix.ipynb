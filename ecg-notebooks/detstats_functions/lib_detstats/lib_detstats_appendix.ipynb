{
 "cells": [
  {
   "cell_type": "code",
   "execution_count": null,
   "metadata": {},
   "outputs": [],
   "source": [
    "import numpy as np\n",
    "import matplotlib.pyplot as plt\n",
    "import matplotlib.cm as cm\n",
    "import scipy as sp\n",
    "import h5py\n",
    "\n",
    "import holodeck as holo\n",
    "import holodeck.single_sources as ss\n",
    "from holodeck.constants import YR, MSOL\n",
    "# from holodeck import utils, detstats, plot\n",
    "from holodeck import utils, detstats, plot\n",
    "import holodeck.detstats as ds\n",
    "\n",
    "import hasasia.sensitivity as hsen\n",
    "import hasasia.sim as hsim"
   ]
  },
  {
   "attachments": {},
   "cell_type": "markdown",
   "metadata": {},
   "source": [
    "# Appendix: Regular Old Detection Statistic Calculation \n",
    "for 1 Parameter Space Sample, but many strain and sky realizations"
   ]
  },
  {
   "attachments": {},
   "cell_type": "markdown",
   "metadata": {},
   "source": [
    "### A.1 build sam and calculate gws"
   ]
  },
  {
   "cell_type": "code",
   "execution_count": null,
   "metadata": {},
   "outputs": [],
   "source": [
    "dur = 15.0*YR\n",
    "cad = .2*YR\n",
    "fobs = utils.nyquist_freqs(dur,cad)\n",
    "fobs_edges = utils.nyquist_freqs_edges(dur,cad)\n",
    "dfobs = np.diff(fobs_edges)\n",
    "sam = holo.sam.Semi_Analytic_Model() \n",
    "# sam = holo.sam.Semi_Analytic_Model(mtot=(1.0e4*MSOL, 1.0e11*MSOL, 20), mrat=(1e-3, 1.0, 20), redz=(1e-3, 10.0, 20))  # faster version\n",
    "hc_ss_L5, hc_bg_L5 = sam.ss_gwb(fobs_edges, realize=20, loudest=5)"
   ]
  },
  {
   "attachments": {},
   "cell_type": "markdown",
   "metadata": {},
   "source": [
    "### A.2 build pta"
   ]
  },
  {
   "cell_type": "code",
   "execution_count": null,
   "metadata": {},
   "outputs": [],
   "source": [
    "npsrs = 40\n",
    "phis = np.random.uniform(0, 2*np.pi, size = npsrs)\n",
    "thetas = np.random.uniform(np.pi/2, np.pi/2, size = npsrs)\n",
    "sigmas = np.ones_like(phis)*5.2e-6\n",
    "# build sim_pta\n",
    "pulsars = hsim.sim_pta(timespan=dur/YR, cad=1/(cad/YR), sigma=sigmas,\n",
    "                    phi=phis, theta=thetas)\n"
   ]
  },
  {
   "attachments": {},
   "cell_type": "markdown",
   "metadata": {},
   "source": [
    "### A.3 calculate bg DP"
   ]
  },
  {
   "cell_type": "code",
   "execution_count": null,
   "metadata": {},
   "outputs": [],
   "source": [
    "dp_bg1 = detstats.detect_bg_pta(pulsars, fobs, cad, hc_bg_L5)\n",
    "dp_bg2 = detstats.detect_bg(thetas, phis, sigmas, fobs, cad, hc_bg_L5)\n",
    "plt.scatter(dp_bg1, dp_bg2)\n",
    "print(dp_bg1)\n",
    "print(dp_bg2)\n",
    "plt.xlabel('detect_bg_pta')\n",
    "plt.ylabel('detect_bg')\n",
    "plt.title(('F,R,L ='+ str(hc_ss_L5.shape)+'\\nsigmas=%.2e' %sigmas[0]))\n"
   ]
  },
  {
   "attachments": {},
   "cell_type": "markdown",
   "metadata": {},
   "source": [
    "### A.4 build ss sky realizations"
   ]
  },
  {
   "cell_type": "code",
   "execution_count": null,
   "metadata": {},
   "outputs": [],
   "source": [
    "print(hc_ss_L5.shape)"
   ]
  },
  {
   "cell_type": "code",
   "execution_count": null,
   "metadata": {},
   "outputs": [],
   "source": [
    "S = 15\n",
    "F = len(fobs)\n",
    "L = len(hc_ss_L5[0,0])\n",
    "theta_ss = np.random.uniform(0, np.pi, size=F*S*L).reshape(F,S,L)\n",
    "phi_ss = np.random.uniform(0,2*np.pi, size=theta_ss.size).reshape(theta_ss.shape)\n",
    "Phi0_ss = np.random.uniform(0,2*np.pi, size=theta_ss.size).reshape(theta_ss.shape)\n",
    "iota_ss = np.random.uniform(0, np.pi, size = theta_ss.size).reshape(theta_ss.shape)\n",
    "psi_ss = np.random.uniform(0, np.pi, size = theta_ss.size).reshape(theta_ss.shape)"
   ]
  },
  {
   "attachments": {},
   "cell_type": "markdown",
   "metadata": {},
   "source": [
    "### A.5 calculate ss DP"
   ]
  },
  {
   "cell_type": "code",
   "execution_count": null,
   "metadata": {},
   "outputs": [],
   "source": [
    "dp_ss1 = detstats.detect_ss_pta(pulsars, cad, dur, fobs, dfobs, hc_ss_L5, hc_bg_L5,\n",
    "                                theta_ss=theta_ss, phi_ss=phi_ss, Phi0_ss=Phi0_ss, iota_ss=iota_ss, psi_ss=psi_ss)\n",
    "dp_ss2 = detstats.detect_ss(thetas, phis, sigmas, cad, dur, fobs, dfobs, hc_ss_L5, hc_bg_L5,\n",
    "                                theta_ss=theta_ss, phi_ss=phi_ss, Phi0_ss=Phi0_ss, iota_ss=iota_ss, psi_ss=psi_ss)"
   ]
  },
  {
   "cell_type": "code",
   "execution_count": null,
   "metadata": {},
   "outputs": [],
   "source": [
    "plt.scatter(dp_ss1, dp_ss2)\n",
    "print(dp_ss1.shape, utils.stats(dp_ss1))\n",
    "print(dp_ss2.shape, utils.stats(dp_ss2))\n",
    "plt.xlabel('detect_ss_pta')\n",
    "plt.ylabel('detect_ss')\n",
    "plt.title(('F,R,L ='+ str(hc_ss_L5.shape)+'\\nsigmas=%.2e' %sigmas[0]))\n"
   ]
  },
  {
   "cell_type": "code",
   "execution_count": null,
   "metadata": {},
   "outputs": [],
   "source": [
    "print(dp_ss1.shape) # (R, S)"
   ]
  },
  {
   "cell_type": "code",
   "execution_count": null,
   "metadata": {},
   "outputs": [],
   "source": [
    "def plot_dpbg_dpss(dpbg, dpss, title):\n",
    "    R = len(dpbg)\n",
    "    fig, ax = plt.subplots(figsize = (8,4))\n",
    "    ax.scatter(np.arange(R), dpbg, label='$\\gamma_\\mathrm{bg}$, avg = %.2e' % np.mean(dpbg), color='blue')\n",
    "    ax.errorbar(np.arange(R), np.mean(dpss, axis=1), yerr=np.std(dpss, axis=1), capsize=3,\n",
    "                linestyle='', marker='o',\n",
    "                color='red', label = '$\\gamma_\\mathrm{SS}$ (averaged over sky realizations), avg = %.2e' \n",
    "                % np.mean(dpss))\n",
    "    for ss in range(len(dpss[0])):\n",
    "        ax.scatter(np.arange(R), dpss[:,ss], alpha=0.25)\n",
    "\n",
    "    fig.legend(bbox_to_anchor=(0.1,0), bbox_transform=fig.transFigure, loc='upper left')\n",
    "    ax.set_xlabel('Realization')\n",
    "    ax.set_ylabel('Detection Probability')\n",
    "    ax.set_yscale('log')\n",
    "    ax.set_title(title)\n",
    "    # plt.ylim(0,1)\n",
    "    return fig\n",
    "\n",
    "fig = plot_dpbg_dpss(dp_bg1, dp_ss1, title = ('F,R,L ='+ str(hc_ss_L5.shape)+'\\nsigmas=%.2e' %sigmas[0]))"
   ]
  },
  {
   "attachments": {},
   "cell_type": "markdown",
   "metadata": {},
   "source": [
    "## A.6 %timeit\n",
    "### Full calculation"
   ]
  },
  {
   "cell_type": "code",
   "execution_count": null,
   "metadata": {},
   "outputs": [],
   "source": [
    "%timeit detstats.detect_ss_pta(pulsars, cad, dur, fobs, dfobs, hc_ss_L5, hc_bg_L5,\\\n",
    "                                theta_ss=theta_ss, phi_ss=phi_ss, Phi0_ss=Phi0_ss, iota_ss=iota_ss, psi_ss=psi_ss) "
   ]
  },
  {
   "cell_type": "code",
   "execution_count": null,
   "metadata": {},
   "outputs": [],
   "source": [
    "%timeit detstats.detect_ss(thetas, phis, sigmas, cad, dur, fobs, dfobs, hc_ss_L5, hc_bg_L5, \\\n",
    "                                theta_ss=theta_ss, phi_ss=phi_ss, Phi0_ss=Phi0_ss, iota_ss=iota_ss, psi_ss=psi_ss)"
   ]
  },
  {
   "cell_type": "code",
   "execution_count": null,
   "metadata": {},
   "outputs": [],
   "source": [
    "%timeit detstats.detect_bg_pta(pulsars, fobs, cad, hc_bg_L5)\n",
    "%timeit detstats.detect_bg(thetas, phis, sigmas, fobs, cad, hc_bg_L5)\n"
   ]
  },
  {
   "attachments": {},
   "cell_type": "markdown",
   "metadata": {},
   "source": [
    "### Step by Step"
   ]
  },
  {
   "cell_type": "code",
   "execution_count": null,
   "metadata": {},
   "outputs": [],
   "source": [
    "# unitary vectors\n",
    "%timeit m_hat = ds._m_unitary_vector(theta_ss, phi_ss, psi_ss)\n",
    "m_hat = ds._m_unitary_vector(theta_ss, phi_ss, psi_ss)\n",
    "n_hat = ds._n_unitary_vector(theta_ss, phi_ss, psi_ss) # (3,F,S,L)\n",
    "Omega_hat = ds._Omega_unitary_vector(theta_ss, phi_ss) # (3,F,S,L)"
   ]
  },
  {
   "cell_type": "code",
   "execution_count": null,
   "metadata": {},
   "outputs": [],
   "source": [
    "# check pulsar inputs\n",
    "# get pulsar properties\n",
    "thetas = np.zeros(len(pulsars))\n",
    "phis = np.zeros(len(pulsars))\n",
    "sigmas = np.zeros(len(pulsars))\n",
    "for ii in range(len(pulsars)):\n",
    "    thetas[ii] = pulsars[ii].theta\n",
    "    phis[ii] = pulsars[ii].phi\n",
    "    sigmas[ii] = np.mean(pulsars[ii].toaerrs)\n",
    "pi_hat =ds. _pi_unitary_vector(phis, thetas) # (3,P)"
   ]
  },
  {
   "cell_type": "code",
   "execution_count": null,
   "metadata": {},
   "outputs": [],
   "source": []
  },
  {
   "attachments": {},
   "cell_type": "markdown",
   "metadata": {},
   "source": [
    "## A.7 Vary L\n",
    "### L = 100"
   ]
  },
  {
   "cell_type": "code",
   "execution_count": null,
   "metadata": {},
   "outputs": [],
   "source": [
    "def calculate_dps(pulsars, hc_ss, hc_bg, S=15):\n",
    "    F = len(hc_ss)\n",
    "    R = len(hc_ss[0])\n",
    "    L = len(hc_ss[0,0])\n",
    "\n",
    "    # build ss sky realizations        \n",
    "    theta_ss = np.random.uniform(0, np.pi, size=F*S*L).reshape(F,S,L)\n",
    "    phi_ss = np.random.uniform(0,2*np.pi, size=theta_ss.size).reshape(theta_ss.shape)\n",
    "    Phi0_ss = np.random.uniform(0,2*np.pi, size=theta_ss.size).reshape(theta_ss.shape)\n",
    "    iota_ss = np.random.uniform(0, np.pi, size = theta_ss.size).reshape(theta_ss.shape)\n",
    "    psi_ss = np.random.uniform(0, np.pi, size = theta_ss.size).reshape(theta_ss.shape)\n",
    "\n",
    "    dp_bg = detstats.detect_bg_pta(pulsars, fobs, cad, hc_bg)\n",
    "    dp_ss = detstats.detect_ss_pta(pulsars, cad, dur, fobs, dfobs, hc_ss, hc_bg,\n",
    "                                theta_ss=theta_ss, phi_ss=phi_ss, Phi0_ss=Phi0_ss, \n",
    "                                iota_ss=iota_ss, psi_ss=psi_ss)\n",
    "    return dp_bg, dp_ss \n",
    "\n",
    "def time_dps(pulsars, hc_ss, hc_bg, S=15):\n",
    "    F = len(hc_ss)\n",
    "    R = len(hc_ss[0])\n",
    "    L = len(hc_ss[0,0])\n",
    "\n",
    "    # build ss sky realizations        \n",
    "    theta_ss = np.random.uniform(0, np.pi, size=F*S*L).reshape(F,S,L)\n",
    "    phi_ss = np.random.uniform(0,2*np.pi, size=theta_ss.size).reshape(theta_ss.shape)\n",
    "    Phi0_ss = np.random.uniform(0,2*np.pi, size=theta_ss.size).reshape(theta_ss.shape)\n",
    "    iota_ss = np.random.uniform(0, np.pi, size = theta_ss.size).reshape(theta_ss.shape)\n",
    "    psi_ss = np.random.uniform(0, np.pi, size = theta_ss.size).reshape(theta_ss.shape)\n",
    "\n",
    "    %timeit detstats.detect_bg_pta(pulsars, fobs, cad, hc_bg)\n",
    "    %timeit detstats.detect_ss_pta(pulsars, cad, dur, fobs, dfobs, hc_ss, hc_bg,\\\n",
    "                                theta_ss=theta_ss, phi_ss=phi_ss, Phi0_ss=Phi0_ss, \\\n",
    "                                iota_ss=iota_ss, psi_ss=psi_ss)\n"
   ]
  },
  {
   "cell_type": "code",
   "execution_count": null,
   "metadata": {},
   "outputs": [],
   "source": [
    "hc_ss_L100, hc_bg_L100 = sam.ss_gwb(fobs_edges, realize=20, loudest=100)\n",
    "dp_bg_L100, dp_ss_L100 = calculate_dps(pulsars, hc_ss_L100, hc_bg_L100, S=15)"
   ]
  },
  {
   "cell_type": "code",
   "execution_count": null,
   "metadata": {},
   "outputs": [],
   "source": [
    "fig = plot_dpbg_dpss(dp_bg_L100, dp_ss_L100, \n",
    "                     title = ('F,R,L ='+ str(hc_ss_L100.shape)+'\\nsigmas=%.2e' %sigmas[0]))"
   ]
  },
  {
   "attachments": {},
   "cell_type": "markdown",
   "metadata": {},
   "source": [
    "### L = 1"
   ]
  },
  {
   "cell_type": "code",
   "execution_count": null,
   "metadata": {},
   "outputs": [],
   "source": [
    "hc_ss_L1, hc_bg_L1 = sam.ss_gwb(fobs_edges, realize=20, loudest=1)\n",
    "dp_bg_L1, dp_ss_L1 = calculate_dps(pulsars, hc_ss_L1, hc_bg_L1, S=15)\n",
    "fig = plot_dpbg_dpss(dp_bg_L1, dp_ss_L1, \n",
    "                     title = ('F,R,L ='+ str(hc_ss_L1.shape)+'\\nsigmas=%.2e' %sigmas[0]))"
   ]
  },
  {
   "attachments": {},
   "cell_type": "markdown",
   "metadata": {},
   "source": [
    "## A.8 % Timeit "
   ]
  },
  {
   "cell_type": "code",
   "execution_count": null,
   "metadata": {},
   "outputs": [],
   "source": [
    "time_dps(pulsars, hc_ss_L1, hc_bg_L1, S=15)"
   ]
  },
  {
   "cell_type": "code",
   "execution_count": null,
   "metadata": {},
   "outputs": [],
   "source": [
    "time_dps(pulsars, hc_ss_L100, hc_bg_L100, S=15)"
   ]
  },
  {
   "attachments": {},
   "cell_type": "markdown",
   "metadata": {},
   "source": [
    "## A.9 Time Individual SS Steps"
   ]
  },
  {
   "cell_type": "code",
   "execution_count": null,
   "metadata": {},
   "outputs": [],
   "source": []
  }
 ],
 "metadata": {
  "kernelspec": {
   "display_name": "holo310",
   "language": "python",
   "name": "python3"
  },
  "language_info": {
   "codemirror_mode": {
    "name": "ipython",
    "version": 3
   },
   "file_extension": ".py",
   "mimetype": "text/x-python",
   "name": "python",
   "nbconvert_exporter": "python",
   "pygments_lexer": "ipython3",
   "version": "3.10.10"
  }
 },
 "nbformat": 4,
 "nbformat_minor": 2
}
