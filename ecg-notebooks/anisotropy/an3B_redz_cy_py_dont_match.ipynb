{
 "cells": [
  {
   "cell_type": "code",
   "execution_count": null,
   "metadata": {},
   "outputs": [],
   "source": [
    "%reload_ext autoreload\n",
    "%autoreload 2\n",
    "from importlib import reload\n",
    "\n",
    "import numpy as np\n",
    "import matplotlib.pyplot as plt\n",
    "import matplotlib.cm as cm\n",
    "import kalepy as kale\n",
    "\n",
    "import holodeck as holo\n",
    "# import holodeck.anisotropy as anis\n",
    "from holodeck import detstats, plot, utils\n",
    "from holodeck.constants import YR, MSOL, GYR, SPLC, PC, MPC"
   ]
  },
  {
   "attachments": {},
   "cell_type": "markdown",
   "metadata": {},
   "source": [
    "# Functions"
   ]
  },
  {
   "cell_type": "code",
   "execution_count": null,
   "metadata": {},
   "outputs": [],
   "source": [
    "def strain_amp_at_bin_centers_redz(edges, redz=None):\n",
    "    \"\"\" Calculate strain amplitude at bin centers, with final or initial redz.\n",
    "    \n",
    "    \"\"\"\n",
    "    assert len(edges) == 4\n",
    "    assert np.all([np.ndim(ee) == 1 for ee in edges])\n",
    "\n",
    "    foo = edges[-1]                   #: should be observer-frame orbital-frequencies\n",
    "    df = np.diff(foo)                 #: frequency bin widths\n",
    "    fc = kale.utils.midpoints(foo)    #: use frequency-bin centers for strain (more accurate!)\n",
    "\n",
    "    # redshifts are defined across 4D grid, shape (M, Q, Z, Fc)\n",
    "    #    where M, Q, Z are edges and Fc is frequency centers\n",
    "    # find midpoints of redshifts in M, Q, Z dimensions, to end up with (M-1, Q-1, Z-1, Fc)\n",
    "    if redz is not None:\n",
    "        for dd in range(3):\n",
    "            redz = np.moveaxis(redz, dd, 0)\n",
    "            redz = kale.utils.midpoints(redz, axis=0)\n",
    "            redz = np.moveaxis(redz, 0, dd)\n",
    "        dc = +np.inf * np.ones_like(redz)\n",
    "        sel = (redz > 0.0)\n",
    "        dc[sel] = holo.cosmo.comoving_distance(redz[sel]).cgs.value\n",
    "    else:\n",
    "        redz = kale.utils.midpoints(edges[2])[np.newaxis,np.newaxis,:,np.newaxis]\n",
    "        dc = holo.cosmo.comoving_distance(redz).cgs.value\n",
    "\n",
    "\n",
    "    # ---- calculate GW strain ----\n",
    "    mt = kale.utils.midpoints(edges[0])\n",
    "    mr = kale.utils.midpoints(edges[1])\n",
    "    mc = utils.chirp_mass_mtmr(mt[:, np.newaxis], mr[np.newaxis, :])\n",
    "    mc = mc[:, :, np.newaxis, np.newaxis]\n",
    "    \n",
    "    # convert from observer-frame to rest-frame; still using frequency-bin centers\n",
    "    fr = utils.frst_from_fobs(fc[np.newaxis, np.newaxis, np.newaxis, :], redz)\n",
    "\n",
    "    hs = utils.gw_strain_source(mc, dc, fr)\n",
    "    return hs\n",
    "\n",
    "\n",
    "def strain_amp_at_bin_edges_redz(edges, redz=None):\n",
    "    \"\"\" Calculate strain amplitude at bin edges, with final or initial redz.\n",
    "    \n",
    "    \"\"\"\n",
    "    assert len(edges) == 4\n",
    "    assert np.all([np.ndim(ee) == 1 for ee in edges])\n",
    "\n",
    "    foo = edges[-1]                   #: should be observer-frame orbital-frequencies\n",
    "    # df = np.diff(foo)                 #: frequency bin widths\n",
    "    fc = kale.utils.midpoints(foo)    #: use frequency-bin centers for strain (more accurate!)\n",
    "\n",
    "\n",
    "    if redz is not None:\n",
    "        dc = +np.inf * np.ones_like(redz)\n",
    "        sel = (redz > 0.0)\n",
    "        dc[sel] = holo.cosmo.comoving_distance(redz[sel]).cgs.value\n",
    "    else: \n",
    "        redz = edges[2][np.newaxis,np.newaxis,:,np.newaxis]\n",
    "        dc = holo.cosmo.comoving_distance(redz).cgs.value\n",
    "\n",
    "    # ---- calculate GW strain ----\n",
    "    mt = (edges[0])\n",
    "    mr = (edges[1])\n",
    "    mc = utils.chirp_mass_mtmr(mt[:, np.newaxis], mr[np.newaxis, :])\n",
    "    mc = mc[:, :, np.newaxis, np.newaxis]\n",
    "    \n",
    "    # convert from observer-frame to rest-frame; still using frequency-bin centers\n",
    "    fr = utils.frst_from_fobs(fc[np.newaxis, np.newaxis, np.newaxis, :], redz)\n",
    "\n",
    "    hs_edges = utils.gw_strain_source(mc, dc, fr)\n",
    "    return hs_edges\n",
    "\n",
    "    \n",
    "def sam_model(sam, hard,\n",
    "        dur=16.03*YR, cad=0.2*YR, use_redz=True):\n",
    "    fobs_gw_cents = utils.nyquist_freqs(dur,cad)\n",
    "    fobs_gw_edges = utils.nyquist_freqs_edges(dur,cad)\n",
    "    fobs_orb_cents = fobs_gw_cents/2.0\n",
    "    fobs_orb_edges = fobs_gw_edges/2.0\n",
    "\n",
    "    if isinstance(hard, holo.hardening.Fixed_Time_2PL_SAM):\n",
    "        hard_name = 'Fixed Time'\n",
    "    elif isinstance(hard, holo.hardening.Hard_GW):\n",
    "        hard_name = 'GW Only'\n",
    "    else:\n",
    "        raise Exception(\"'hard' must be an instance of 'Fixed_Time_2PL_SAM' or 'Hard_GW'\")\n",
    "\n",
    "    redz_final, diff_num = holo.sam_cython.dynamic_binary_number_at_fobs(\n",
    "        fobs_orb_cents, sam, hard, holo.cosmo)\n",
    "    edges = [sam.mtot, sam.mrat, sam.redz, fobs_orb_edges]\n",
    "    number = holo.sam_cython.integrate_differential_number_3dx1d(edges, diff_num)\n",
    "\n",
    "    hsf_cents = strain_amp_at_bin_centers_redz(edges, redz_final)\n",
    "    hsf_edges = strain_amp_at_bin_edges_redz(edges, redz_final)\n",
    "    hsi_cents = strain_amp_at_bin_centers_redz(edges)\n",
    "    hsi_edges = strain_amp_at_bin_edges_redz(edges)\n",
    "\n",
    "    vals = {\n",
    "        'hard':hard, 'sam':sam, 'edges':edges, 'number': number, 'diff_num':diff_num, 'redz_final':redz_final,\n",
    "        'hsi_cents':hsi_cents, 'hsi_edges':hsi_edges, 'hsf_cents':hsf_cents, 'hsf_edges':hsf_edges, \n",
    "        'fobs_gw_cents':fobs_gw_cents, 'fobs_gw_edges':fobs_gw_edges, \n",
    "        'fobs_orb_cents':fobs_orb_cents, 'fobs_orb_edges':fobs_orb_edges, 'hard_name':hard_name\n",
    "    }\n",
    "    return vals\n",
    "\n",
    "def integrate_mm(dnum, edges): # integrate dN/dlogM\n",
    "    num = utils.trapz(dnum, np.log10(edges[0]), axis=0, cumsum=False)\n",
    "    return num\n",
    "def integrate_qq(dnum, edges): # integrate dN/dq\n",
    "    num = utils.trapz(dnum, edges[1], axis=1, cumsum=False)\n",
    "    return num\n",
    "def integrate_zz(dnum, edges): # dN/dz\n",
    "    num = utils.trapz(dnum, edges[2], axis=2, cumsum=False)\n",
    "    return num\n",
    "def integrate_ff(dnum, fobs_gw_edges): # dN/dlogn\n",
    "    num = dnum*np.diff(np.log(fobs_gw_edges))\n",
    "    return num "
   ]
  },
  {
   "attachments": {},
   "cell_type": "markdown",
   "metadata": {},
   "source": [
    "# Shape 5, 6, 7"
   ]
  },
  {
   "cell_type": "code",
   "execution_count": null,
   "metadata": {},
   "outputs": [],
   "source": [
    "sam = holo.sam.Semi_Analytic_Model(shape=(5,6,7))\n",
    "hard = holo.hardening.Fixed_Time_2PL_SAM(sam, 3*GYR)\n",
    "vals = sam_model(sam, hard)\n",
    "\n",
    "fobs_orb_cents=vals['fobs_orb_cents']"
   ]
  },
  {
   "cell_type": "code",
   "execution_count": null,
   "metadata": {},
   "outputs": [],
   "source": [
    "redz_final_cy, diff_num_cy = holo.sam_cython.dynamic_binary_number_at_fobs(\n",
    "        fobs_orb_cents, sam, hard, holo.cosmo)\n",
    "temp, diff_num_py, redz_final_py = sam.dynamic_binary_number_at_fobs(hard, fobs_orb_cents)\n",
    "print('cython:', utils.stats(redz_final_cy))\n",
    "print('python:', utils.stats(redz_final_py))"
   ]
  },
  {
   "attachments": {},
   "cell_type": "markdown",
   "metadata": {},
   "source": [
    "## Compare redz"
   ]
  },
  {
   "cell_type": "code",
   "execution_count": null,
   "metadata": {},
   "outputs": [],
   "source": [
    "\n",
    "fig, ax = plot.figax(xlabel='index', ylabel='redz_final', xscale='linear', yscale='linear')\n",
    "ax.scatter(np.arange(redz_final_py.size), redz_final_py.flatten(), label='python', marker='x', alpha=0.5)\n",
    "ax.scatter(np.arange(redz_final_cy.size), redz_final_cy.flatten(), label='cython', marker='+', alpha=0.5)\n",
    "ax.set_title('%s, %s' % (vals['hard_name'], str(sam.shape)))\n",
    "ax.legend()"
   ]
  },
  {
   "attachments": {},
   "cell_type": "markdown",
   "metadata": {},
   "source": [
    "## Compare diff_num"
   ]
  },
  {
   "cell_type": "code",
   "execution_count": null,
   "metadata": {},
   "outputs": [],
   "source": [
    "print('cython:', utils.stats(diff_num_cy))\n",
    "print('python:', utils.stats(diff_num_py))\n",
    "\n",
    "fig, ax = plot.figax(xlabel='index', ylabel='diff_num', xscale='linear', yscale='log')\n",
    "ax.scatter(np.arange(diff_num_py.size), diff_num_py.flatten(), label='python', marker='x', alpha=0.5)\n",
    "ax.scatter(np.arange(diff_num_cy.size), diff_num_cy.flatten(), label='cython', marker='+', alpha=0.5)\n",
    "ax.set_title('%s, %s' % (vals['hard_name'], str(sam.shape)))\n",
    "ax.legend()"
   ]
  },
  {
   "attachments": {},
   "cell_type": "markdown",
   "metadata": {},
   "source": [
    "# Shape 20, 20, 20"
   ]
  },
  {
   "cell_type": "code",
   "execution_count": null,
   "metadata": {},
   "outputs": [],
   "source": [
    "sam = holo.sam.Semi_Analytic_Model(shape=20)\n",
    "hard = holo.hardening.Fixed_Time_2PL_SAM(sam, 3*GYR)\n",
    "vals = sam_model(sam, hard)\n",
    "\n",
    "fobs_orb_cents=vals['fobs_orb_cents']"
   ]
  },
  {
   "cell_type": "code",
   "execution_count": null,
   "metadata": {},
   "outputs": [],
   "source": [
    "redz_final_cy, diff_num_cy = holo.sam_cython.dynamic_binary_number_at_fobs(\n",
    "        fobs_orb_cents, sam, hard, holo.cosmo)\n",
    "temp, diff_num_py, redz_final_py = sam.dynamic_binary_number_at_fobs(hard, fobs_orb_cents)\n",
    "print('cython:', utils.stats(redz_final_cy))\n",
    "print('python:', utils.stats(redz_final_py))"
   ]
  },
  {
   "attachments": {},
   "cell_type": "markdown",
   "metadata": {},
   "source": [
    "## Compare redz"
   ]
  },
  {
   "cell_type": "code",
   "execution_count": null,
   "metadata": {},
   "outputs": [],
   "source": [
    "\n",
    "fig, ax = plot.figax(xlabel='index', ylabel='redz_final', xscale='linear', yscale='linear')\n",
    "ax.scatter(np.arange(redz_final_py.size), redz_final_py.flatten(), label='python', marker='x', alpha=0.5)\n",
    "ax.scatter(np.arange(redz_final_cy.size), redz_final_cy.flatten(), label='cython', marker='+', alpha=0.5)\n",
    "ax.set_title('%s, %s' % (vals['hard_name'], str(sam.shape)))\n",
    "ax.legend()"
   ]
  },
  {
   "attachments": {},
   "cell_type": "markdown",
   "metadata": {},
   "source": [
    "## compare diff_num"
   ]
  },
  {
   "cell_type": "code",
   "execution_count": null,
   "metadata": {},
   "outputs": [],
   "source": [
    "print('cython:', utils.stats(diff_num_cy))\n",
    "print('python:', utils.stats(diff_num_py))\n",
    "\n",
    "fig, ax = plot.figax(xlabel='index', ylabel='diff_num', xscale='linear', yscale='log')\n",
    "ax.scatter(np.arange(diff_num_py.size), diff_num_py.flatten(), label='python', marker='x', alpha=0.5)\n",
    "ax.scatter(np.arange(diff_num_cy.size), diff_num_cy.flatten(), label='cython', marker='+', alpha=0.5)\n",
    "ax.set_title('%s, %s' % (vals['hard_name'], str(sam.shape)))\n",
    "ax.legend()"
   ]
  },
  {
   "attachments": {},
   "cell_type": "markdown",
   "metadata": {},
   "source": [
    "# Weird Spot"
   ]
  },
  {
   "cell_type": "code",
   "execution_count": null,
   "metadata": {},
   "outputs": [],
   "source": [
    "mm, qq, zz, ff = 15, 18, 15, 28 # weird spot\n",
    "\n",
    "fobs_orb_cents = vals['fobs_orb_cents']\n",
    "fobs_gw_cents = vals['fobs_gw_cents']\n",
    "redz_final, diff_num = holo.sam_cython.dynamic_binary_number_at_fobs(\n",
    "    fobs_orb_cents, sam, hard, holo.cosmo)\n",
    "\n",
    "hs_final_cy = holo.gravwaves.strain_amp_from_bin_edges_redz(vals['edges'], redz_final_cy)\n",
    "hs_final_py = holo.gravwaves.strain_amp_from_bin_edges_redz(vals['edges'], redz_final_py)\n",
    "hs_init = strain_amp_at_bin_centers_redz(vals['edges'], redz=None)\n",
    "\n",
    "print('hs_init:', utils.stats(hs_init), f\", {hs_init.shape=}\")\n",
    "print('hs_final_cy:', utils.stats(hs_final_cy), f\", {hs_init.shape=}\")\n",
    "print('hs_final_py:', utils.stats(hs_final_py), f\", {hs_init.shape=}\")\n",
    "\n",
    "rz_init = kale.utils.midpoints(sam.redz, axis=0)\n",
    "rzf_cy = redz_final_cy\n",
    "rzf_py = redz_final_py\n",
    "for dd in range(3):\n",
    "    rzf_cy = np.moveaxis(rzf_cy, dd, 0)\n",
    "    rzf_cy = kale.utils.midpoints(rzf_cy, axis=0)\n",
    "    rzf_cy = np.moveaxis(rzf_cy, 0, dd)\n",
    "\n",
    "    rzf_py = np.moveaxis(rzf_py, dd, 0)\n",
    "    rzf_py = kale.utils.midpoints(rzf_py, axis=0)\n",
    "    rzf_py = np.moveaxis(rzf_py, 0, dd)\n",
    "\n",
    "print('M(mm=%d)=%.2e M_sol, q(qq=%d)=%.2e, f_obs,orb(ff=%d)=%.2f/yr, f_obs,gw(ff=%d)=%.2f/yr' \n",
    "      % (mm, utils.midpoints(vals['edges'][0])[mm]/MSOL, \n",
    "         qq, utils.midpoints(vals['edges'][1])[qq],\n",
    "         ff, fobs_orb_cents[ff]*YR,\n",
    "         ff, fobs_gw_cents[ff]*YR))\n",
    "for zz in (14,15,16):\n",
    "    print('zz=%d, z_init=%.2f, z_fin,cy=%.2f, z_fin,py=%.2f, hs_init=%.2e, hs_fin,cy=%.2e, hs_fin,py=%.2e' \n",
    "          % (zz, rz_init[zz], rzf_cy[mm,qq,zz,ff], rzf_py[mm,qq,zz,ff], \n",
    "          hs_init[mm,qq,zz,ff], hs_final_cy[mm,qq,zz,ff], hs_final_py[mm,qq,zz,ff]))"
   ]
  },
  {
   "attachments": {},
   "cell_type": "markdown",
   "metadata": {},
   "source": [
    "## Print info\n",
    "Note that hs_fin cy and py do not match. There are places where cython gives nonzero but python gives 0."
   ]
  },
  {
   "cell_type": "code",
   "execution_count": null,
   "metadata": {},
   "outputs": [],
   "source": [
    "mm, qq, zz, ff = 15, 18, 15, 25 # weird spot\n",
    "for ff in [0,4,9,14,19,24,29,34,38]:\n",
    "      print('\\nM(mm=%d)=%.2e M_sol, q(qq=%d)=%.2e, f_obs,orb(ff=%d)=%.2f/yr, f_obs,gw(ff=%d)=%.2f/yr' \n",
    "            % (mm, utils.midpoints(vals['edges'][0])[mm]/MSOL, \n",
    "            qq, utils.midpoints(vals['edges'][1])[qq],\n",
    "            ff, fobs_orb_cents[ff]*YR,\n",
    "            ff, fobs_gw_cents[ff]*YR))\n",
    "      for zz in (14,15,16):\n",
    "            print('zz=%d, z_init=%.2f, z_fin,cy=%.2f, z_fin,py=%.2f, hs_init=%.2e, hs_fin,cy=%.2e, hs_fin,py=%.2e' \n",
    "                  % (zz, rz_init[zz], rzf_cy[mm,qq,zz,ff], rzf_py[mm,qq,zz,ff], \n",
    "                  hs_init[mm,qq,zz,ff], hs_final_cy[mm,qq,zz,ff], hs_final_py[mm,qq,zz,ff]))"
   ]
  },
  {
   "attachments": {},
   "cell_type": "markdown",
   "metadata": {},
   "source": [
    "## Plot weird spot"
   ]
  },
  {
   "cell_type": "code",
   "execution_count": null,
   "metadata": {},
   "outputs": [],
   "source": [
    "def plot_strain_vs_z(\n",
    "    vals, mm_arr=[mm,], qq_arr=[qq,], zz_arr=[zz,], ff_arr=[ff,],\n",
    "    all_hs=np.array([hs_init, hs_final_cy, hs_final_py]), \n",
    "    labels_hs=np.array(['init z', 'cython final z', 'python final z']), \n",
    "    linestyles = np.array(['--', '-', '-.'])):\n",
    "\n",
    "    fobs_gw_cents = vals['fobs_gw_cents']\n",
    "    cents_mm = utils.midpoints(vals['edges'][0])\n",
    "    cents_qq = utils.midpoints(vals['edges'][1])\n",
    "    cents_zz = utils.midpoints(vals['edges'][2])\n",
    "    colors=cm.rainbow_r(np.linspace(0,1,len(ff_arr)))\n",
    "\n",
    "    fig, ax = holo.plot.figax(\n",
    "        xlabel='$z$',\n",
    "        ylabel='$h_s$',\n",
    "    )\n",
    "\n",
    "    xx = cents_zz # redshifts\n",
    "\n",
    "    for mi,mm in enumerate(mm_arr):\n",
    "        for qi,qq in enumerate(qq_arr):\n",
    "            for zi,zz in enumerate(zz_arr):\n",
    "                for fi,ff in enumerate(ff_arr):\n",
    "                    color=colors[fi]\n",
    "                    for yi, yy in enumerate(all_hs):\n",
    "                        if mi==0 and qi==0 and zi==0 and fi==0:\n",
    "                            label_hs = labels_hs[yi]\n",
    "                        else:\n",
    "                            label_hs = ''\n",
    "                        if yi==0:\n",
    "                            label_hs = label_hs + (', $M=%.2e\\ M_\\odot$, $q=%.2f$, $f=%.2f$/yr' \n",
    "                            % (cents_mm[mm]/MSOL, cents_qq[qq], fobs_gw_cents[ff]*YR))\n",
    "                        ax.plot(xx, yy[mm,qq,:,ff], label=label_hs, linestyle=linestyles[yi], alpha=0.65, \n",
    "                            color=color)\n",
    "\n",
    "\n",
    "    leg = fig.legend(ncols=1, bbox_to_anchor=(.9,.9), loc='upper left', fontsize=12)\n",
    "    title='%s, %s' % (str(vals['hard_name']), str(vals['sam'].shape))\n",
    "    fig.suptitle(title)\n",
    "    fig.tight_layout\n",
    "    return fig, title\n"
   ]
  },
  {
   "cell_type": "code",
   "execution_count": null,
   "metadata": {},
   "outputs": [],
   "source": [
    "mm, qq, zz, ff = 15, 18, 15, 28 # weird spot\n",
    "\n",
    "fig,title = plot_strain_vs_z(\n",
    "    vals, mm_arr=[mm,], qq_arr=[qq,], zz_arr=[zz,], ff_arr=[0,4,9,14,19,24,29,34,38],\n",
    "    all_hs=np.array([ hs_final_cy, hs_final_py, hs_init,]), \n",
    "    labels_hs=np.array(['cython final z', 'python final z', 'init z', ]), \n",
    "    linestyles = np.array([ '--', '-', ':',]))"
   ]
  },
  {
   "cell_type": "code",
   "execution_count": null,
   "metadata": {},
   "outputs": [],
   "source": [
    "fig,title = plot_strain_vs_z(\n",
    "    vals, mm_arr=[mm,], qq_arr=[qq,], zz_arr=[zz,], ff_arr=[0,4,9,14,19,24,29,34,38],\n",
    "    all_hs=np.array([hs_init, hs_final_py]), \n",
    "    labels_hs=np.array(['init z', 'python final z']), \n",
    "    linestyles = np.array(['--', '-']))"
   ]
  },
  {
   "cell_type": "code",
   "execution_count": null,
   "metadata": {},
   "outputs": [],
   "source": [
    "fig,title = plot_strain_vs_z(\n",
    "    vals, mm_arr=[mm,], qq_arr=[qq,], zz_arr=[zz,], ff_arr=[0,4,9,14,19,24,29,34,38],\n",
    "    all_hs=np.array([hs_final_cy, hs_final_py]), \n",
    "    labels_hs=np.array(['cython final z', 'python final z']), \n",
    "    linestyles = np.array(['--', '-']))"
   ]
  },
  {
   "cell_type": "code",
   "execution_count": null,
   "metadata": {},
   "outputs": [],
   "source": []
  }
 ],
 "metadata": {
  "kernelspec": {
   "display_name": "holo310",
   "language": "python",
   "name": "python3"
  },
  "language_info": {
   "codemirror_mode": {
    "name": "ipython",
    "version": 3
   },
   "file_extension": ".py",
   "mimetype": "text/x-python",
   "name": "python",
   "nbconvert_exporter": "python",
   "pygments_lexer": "ipython3",
   "version": "3.10.10"
  }
 },
 "nbformat": 4,
 "nbformat_minor": 2
}
