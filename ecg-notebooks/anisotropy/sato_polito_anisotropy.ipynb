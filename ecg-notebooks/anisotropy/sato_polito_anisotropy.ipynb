{
 "cells": [
  {
   "cell_type": "code",
   "execution_count": null,
   "metadata": {},
   "outputs": [],
   "source": [
    "import numpy as np\n",
    "import matplotlib.pyplot as plt\n",
    "import h5py\n",
    "import healpy as hp\n",
    "\n",
    "from holodeck import detstats, anisotropy\n",
    "from holodeck.constants import YR"
   ]
  },
  {
   "attachments": {},
   "cell_type": "markdown",
   "metadata": {},
   "source": [
    "# Sato-Polito Process fow SWGB Modeling\n",
    "\n",
    "1) Predict number of binaries in each bin in redshift, mass, and frequency\n",
    "\n",
    "2) Obtain number of binaries for each realization in each bin by Poisson sampling\n",
    "\n",
    "3) Uniformly sample angular positions (in $\\cos \\theta$ and $\\phi$)\n",
    "\n",
    "4) Get strain amplitude of each using eq. (7)\n",
    "$$ h^2(z, \\mathcal{M}, f) = \\frac{32 \\pi^{4/3}}{5 c^8} \\frac{(1+z)^{10/3}}{d^2_L (z)} (\\mathcal{G} \\mathcal{M})^{10/3} f^{4/3} $$\n",
    "\n",
    "5) Plug strain amplitude into Eq. (17)\n",
    "\n",
    "$$ C_\\ell (f) = \\delta_{\\ell 0}\\delta_{m0} \\bigg( \\frac{f}{4\\pi \\Delta f}   \\int d \\vec{\\theta} \\frac{d N_{\\Delta f}}{d \\vec{\\theta}} h^2 (f,\\vec{\\theta})   \\bigg)^2 \n",
    "+ \\big( \\frac{f}{4 \\pi \\Delta f}\\big)^2 \\int d\\vec{\\theta} \\frac{d N_{\\Delta f}}{d \\vec{\\theta}} h^4 (f, \\vec{\\theta})\n",
    "$$\n"
   ]
  },
  {
   "attachments": {},
   "cell_type": "markdown",
   "metadata": {},
   "source": [
    "## Applying to our methods"
   ]
  },
  {
   "attachments": {},
   "cell_type": "markdown",
   "metadata": {},
   "source": [
    "\n",
    "$\\frac{d N_{\\Delta f}}{d \\vec{\\theta}}$ is the number in that frequency bin, at that angle\n",
    "\n",
    "$ h_c^2 = \\frac{f}{df} h_s^2 $ so this is the same as\n",
    "$$ C_\\ell (f) = \\delta_{\\ell 0}\\delta_{m0} \\bigg( \\frac{1}{4\\pi}   \\int d \\vec{\\theta} \\frac{d N_{\\Delta f}}{d \\vec{\\theta}} h_c^2 (f,\\vec{\\theta})   \\bigg)^2 \n",
    "+ \\bigg( \\frac{1}{4 \\pi}\\bigg)^2 \\int d\\vec{\\theta} \\frac{d N_{\\Delta f}}{d \\vec{\\theta}} h_c^4 (f, \\vec{\\theta} )\n",
    "$$\n",
    "\n",
    "$$ C_\\ell (f) = \\delta_{\\ell 0}\\delta_{m0} \\bigg( \\frac{1}{4\\pi}   \\int d \\vec{\\theta} h_c^2 (f)   \\bigg)^2 \n",
    "+ \\bigg( \\frac{1}{4 \\pi} \\bigg)^2 \\int d\\vec{\\theta} h_c^4 (f )\n",
    "$$\n",
    "\n"
   ]
  },
  {
   "attachments": {},
   "cell_type": "markdown",
   "metadata": {},
   "source": [
    "# Set Up\n",
    "### Read in Strain Data"
   ]
  },
  {
   "cell_type": "code",
   "execution_count": null,
   "metadata": {},
   "outputs": [],
   "source": [
    "sspath = '/Users/emigardiner/GWs/holodeck/output/2023-05-16-mbp-ss19_uniform05A_n1000_r50_d20_f30_l2000_p0/'\n",
    "hdfname = sspath+'ss_lib.hdf5'\n",
    "ssfile = h5py.File(hdfname, 'r')\n",
    "print(list(ssfile.keys()))\n",
    "hc_ss = ssfile['hc_ss'][...]\n",
    "hc_bg = ssfile['hc_bg'][...]\n",
    "fobs = ssfile['fobs'][:]\n",
    "dfobs = ssfile['dfobs'][:]\n",
    "ssfile.close()\n",
    "\n",
    "shape = hc_ss.shape\n",
    "nsamps, nfreqs, nreals, nloudest = shape[0], shape[1], shape[2], shape[3]\n",
    "print('N,F,R,L =', nsamps, nfreqs, nreals, nloudest)\n"
   ]
  },
  {
   "attachments": {},
   "cell_type": "markdown",
   "metadata": {},
   "source": [
    "### Get best sample"
   ]
  },
  {
   "cell_type": "code",
   "execution_count": null,
   "metadata": {},
   "outputs": [],
   "source": [
    "hc_ref15_10yr = 11.2*10**-15 \n",
    "nsort, fidx, hc_tt, hc_ref15 = detstats.rank_samples(hc_ss, hc_bg, fobs, hc_ref=hc_ref15_10yr, ret_all=True)\n",
    "print(hc_ref15)"
   ]
  },
  {
   "attachments": {},
   "cell_type": "markdown",
   "metadata": {},
   "source": [
    "### Get healpix map"
   ]
  },
  {
   "cell_type": "code",
   "execution_count": null,
   "metadata": {},
   "outputs": [],
   "source": [
    "nside=32\n",
    "moll_hc = anisotropy.healpix_map(hc_ss[nsort[0]], hc_bg[nsort[0]], nside=nside)"
   ]
  },
  {
   "cell_type": "code",
   "execution_count": null,
   "metadata": {},
   "outputs": [],
   "source": [
    "rr=0\n",
    "hp.mollview(moll_hc[rr,fidx], title='Sample %d, Realization %d, $f$=%.2f yr$^{-1}$' % (nsort[0], rr, fobs[fidx]*YR))"
   ]
  },
  {
   "attachments": {},
   "cell_type": "markdown",
   "metadata": {},
   "source": [
    "# Calculate Anisotropy"
   ]
  },
  {
   "attachments": {},
   "cell_type": "markdown",
   "metadata": {},
   "source": [
    "$$ C_\\ell (f) = \\delta_{\\ell 0}\\delta_{m0} \\bigg( \\frac{1}{4\\pi}   \\int d \\vec{\\theta} \\frac{d N_{\\Delta f}}{d \\vec{\\theta}} h_c^2 (f,\\vec{\\theta})   \\bigg)^2 \n",
    "+ \\bigg( \\frac{1}{4 \\pi}\\bigg)^2 \\int d\\vec{\\theta} \\frac{d N_{\\Delta f}}{d \\vec{\\theta}} h_c^4 (f, \\vec{\\theta} )\n",
    "$$\n",
    "\n",
    "$$ C_\\ell (f) = \\delta_{\\ell 0}\\delta_{m0} \\bigg( \\frac{1}{4\\pi}   \\int d \\vec{\\theta} h_c^2 (f)   \\bigg)^2 \n",
    "+ \\bigg( \\frac{1}{4 \\pi} \\bigg)^2 \\int d\\vec{\\theta} h_c^4 (f )\n",
    "$$\n",
    "\n",
    "Need to convert $ d\\vec{\\theta}$ to $d (\\mathrm{pixel})$"
   ]
  },
  {
   "cell_type": "code",
   "execution_count": null,
   "metadata": {},
   "outputs": [],
   "source": [
    "def spk_Cl(moll_hc):\n",
    "    \"\"\" \n",
    "    \n",
    "    \"\"\""
   ]
  }
 ],
 "metadata": {
  "kernelspec": {
   "display_name": "holo310",
   "language": "python",
   "name": "python3"
  },
  "language_info": {
   "codemirror_mode": {
    "name": "ipython",
    "version": 3
   },
   "file_extension": ".py",
   "mimetype": "text/x-python",
   "name": "python",
   "nbconvert_exporter": "python",
   "pygments_lexer": "ipython3",
   "version": "3.10.10"
  }
 },
 "nbformat": 4,
 "nbformat_minor": 2
}
