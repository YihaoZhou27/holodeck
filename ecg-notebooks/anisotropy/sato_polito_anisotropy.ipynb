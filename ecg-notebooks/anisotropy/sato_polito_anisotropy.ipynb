{
 "cells": [
  {
   "cell_type": "code",
   "execution_count": null,
   "metadata": {},
   "outputs": [],
   "source": [
    "import numpy as np\n",
    "import matplotlib.pyplot as plt\n",
    "import h5py\n",
    "import healpy as hp\n",
    "import kalepy as kale\n",
    "\n",
    "import holodeck as holo\n",
    "from holodeck import detstats, anisotropy, plot, utils\n",
    "from holodeck.constants import YR, MSOL, GYR"
   ]
  },
  {
   "attachments": {},
   "cell_type": "markdown",
   "metadata": {},
   "source": [
    "# Sato-Polito Process fow SWGB Modeling\n",
    "\n",
    "1) Predict number of binaries in each bin in redshift, mass, and frequency\n",
    "\n",
    "2) Obtain number of binaries for each realization in each bin by Poisson sampling\n",
    "\n",
    "3) Uniformly sample angular positions (in $\\cos \\theta$ and $\\phi$)\n",
    "\n",
    "4) Get strain amplitude of each using eq. (7)\n",
    "$$ h^2(z, \\mathcal{M}, f) = \\frac{32 \\pi^{4/3}}{5 c^8} \\frac{(1+z)^{10/3}}{d^2_L (z)} (\\mathcal{G} \\mathcal{M})^{10/3} f^{4/3} $$\n",
    "\n",
    "5) Plug strain amplitude into Eq. (17)\n",
    "\n",
    "$$ C_\\ell (f) = \\delta_{\\ell 0}\\delta_{m0} \\bigg( \\frac{f}{4\\pi \\Delta f}   \\int d \\vec{\\theta} \\frac{d N_{\\Delta f}}{d \\vec{\\theta}} h^2 (f,\\vec{\\theta})   \\bigg)^2 \n",
    "+ \\big( \\frac{f}{4 \\pi \\Delta f}\\big)^2 \\int d\\vec{\\theta} \\frac{d N_{\\Delta f}}{d \\vec{\\theta}} h^4 (f, \\vec{\\theta})\n",
    "$$\n"
   ]
  },
  {
   "attachments": {},
   "cell_type": "markdown",
   "metadata": {},
   "source": [
    "## Applying to our methods"
   ]
  },
  {
   "attachments": {},
   "cell_type": "markdown",
   "metadata": {},
   "source": [
    "\n",
    "$\\frac{d N_{\\Delta f}}{d \\vec{\\theta}}$ is the number in that frequency bin, at that angle\n",
    "\n",
    "$ h_c^2 = \\frac{f}{df} h_s^2 $ so this is the same as\n",
    "$$ C_\\ell (f) = \\delta_{\\ell 0}\\delta_{m0} \\bigg( \\frac{1}{4\\pi}   \\int d \\vec{\\theta} \\frac{d N_{\\Delta f}}{d \\vec{\\theta}} h_c^2 (f,\\vec{\\theta})   \\bigg)^2 \n",
    "+ \\bigg( \\frac{1}{4 \\pi}\\bigg)^2 \\int d\\vec{\\theta} \\frac{d N_{\\Delta f}}{d \\vec{\\theta}} h_c^4 (f, \\vec{\\theta} )\n",
    "$$\n",
    "\n",
    "$$ C_\\ell (f) = \\delta_{\\ell 0}\\delta_{m0} \\bigg( \\frac{1}{4\\pi}   \\int d \\vec{\\theta} h_c^2 (f)   \\bigg)^2 \n",
    "+ \\bigg( \\frac{1}{4 \\pi} \\bigg)^2 \\int d\\vec{\\theta} h_c^4 (f )\n",
    "$$\n",
    "\n",
    "We already have a characteristic strain at each pixel, having previously done $\\int \\frac{dN_{\\Delta f}}{dM dq dz} h_c^2(M,q,z) dM dq dz$ and distributing this total strain among pixels (using an evenly spread background and individual sources at individual pixels). Now, we just need to integrate that $h_c$ over all the pixels."
   ]
  },
  {
   "attachments": {},
   "cell_type": "markdown",
   "metadata": {},
   "source": [
    "$$ C_\\ell (f) = \\delta_{\\ell 0}\\delta_{m0} \\bigg( \\frac{1}{4\\pi}   \\int d \\vec{\\theta} \\frac{d N_{\\Delta f}}{d \\vec{\\theta}} h_c^2 (f,\\vec{\\theta})   \\bigg)^2 \n",
    "+ \\bigg( \\frac{1}{4 \\pi}\\bigg)^2 \\int d\\vec{\\theta} \\frac{d N_{\\Delta f}}{d \\vec{\\theta}} h_c^4 (f, \\vec{\\theta} )\n",
    "$$\n",
    "\n",
    "$$ C_\\ell (f) = \\delta_{\\ell 0}\\delta_{m0} \\bigg( \\frac{1}{4\\pi}   \\int d \\vec{\\theta} h_c^2 (f)   \\bigg)^2 \n",
    "+ \\bigg( \\frac{1}{4 \\pi} \\bigg)^2 \\int d\\vec{\\theta} h_c^4 (f )\n",
    "$$\n",
    "where $\\vec{\\theta}$ is now just position bin, not also M,q,z\n",
    "\n",
    "Need to convert $ d\\vec{\\theta}$ to $d (\\mathrm{pixel})$"
   ]
  },
  {
   "attachments": {},
   "cell_type": "markdown",
   "metadata": {},
   "source": [
    "\n",
    "$$ C_\\ell (f) = \\delta_{\\ell 0}\\delta_{m0} \\bigg( \\frac{1}{4\\pi}   \\sum  d\\theta d\\phi  h_c^2 (f)   \\bigg)^2 \n",
    "+ \\bigg( \\frac{1}{4 \\pi} \\bigg)^2 \\sum d\\theta d\\phi h_c^4 (f )\n",
    "$$\n",
    "\n",
    "The 1/4pi, but this doesn't matter if I normalize C_l by C_0.\n",
    "\n",
    "Pixel area is given in square degrees, dA = dtheta dphi. It is the same for all pixels, so can be pulled out of the integral/sum\n",
    "\n",
    "$$ \\frac{C_\\ell (f)}{C_0 (f)} = \\frac{\\delta_{\\ell 0}\\delta_{m0} \\bigg( \\sum_\\mathrm{pixels}   A_\\mathrm{pix} h_c^2 (f)   \\bigg)^2 \n",
    "+ \\sum_\\mathrm{pixels}  A_\\mathrm{pix} h_c^4 (f )}{\\delta_{0 0}\\delta_{00} \\bigg( \\sum_\\mathrm{pixels}   A_\\mathrm{pix} h_c^2 (f)   \\bigg)^2 \n",
    "+ \\sum_\\mathrm{pixels}  A_\\mathrm{pix} h_c^4 (f )}\n",
    "$$\n",
    "simplifying for $l = l> 0$\n",
    "$$ \\frac{C_{\\ell>0} (f)}{C_0 (f)} = \\frac{\\sum_\\mathrm{pixels}  h_c^4 (f )}{ A_\\mathrm{pix} \\bigg( \\sum_\\mathrm{pixels}  h_c^2 (f)   \\bigg)^2 \n",
    "+ \\sum_\\mathrm{pixels}   h_c^4 (f )}\n",
    "$$ \n",
    "\n",
    "$$ \\frac{C_{\\ell>0} (f)}{C_0 (f)} = \\sum_\\mathrm{pixels} \\frac{ h_c^4 (f )}{ A_\\mathrm{pix} \\big(  h_c^2 (f)   \\big)^2 \n",
    "+  h_c^4 (f )}\n",
    "$$ \n",
    "\n",
    "\n",
    "$$ \\frac{C_{\\ell>0} (f)}{C_0 (f)} = \\sum_\\mathrm{pixels} \\frac{ h_c^4 (f )}{ A_\\mathrm{pix} h_c^4 (f)  \n",
    "+  h_c^4 (f )}\n",
    "$$ \n",
    "\n"
   ]
  },
  {
   "attachments": {},
   "cell_type": "markdown",
   "metadata": {},
   "source": [
    "# Set Up\n",
    "### Read in Strain Data"
   ]
  },
  {
   "cell_type": "code",
   "execution_count": null,
   "metadata": {},
   "outputs": [],
   "source": [
    "sspath = '/Users/emigardiner/GWs/holodeck/output/2023-05-16-mbp-ss19_uniform05A_n1000_r50_d20_f30_l2000_p0/'\n",
    "hdfname = sspath+'ss_lib.hdf5'\n",
    "ssfile = h5py.File(hdfname, 'r')\n",
    "print(list(ssfile.keys()))\n",
    "hc_ss = ssfile['hc_ss'][...]\n",
    "hc_bg = ssfile['hc_bg'][...]\n",
    "fobs = ssfile['fobs'][:]\n",
    "dfobs = ssfile['dfobs'][:]\n",
    "ssfile.close()\n",
    "\n",
    "shape = hc_ss.shape\n",
    "nsamps, nfreqs, nreals, nloudest = shape[0], shape[1], shape[2], shape[3]\n",
    "print('N,F,R,L =', nsamps, nfreqs, nreals, nloudest)\n"
   ]
  },
  {
   "attachments": {},
   "cell_type": "markdown",
   "metadata": {},
   "source": [
    "### Get best sample"
   ]
  },
  {
   "cell_type": "code",
   "execution_count": null,
   "metadata": {},
   "outputs": [],
   "source": [
    "hc_ref15_10yr = 11.2*10**-15 \n",
    "nsort, fidx, hc_tt, hc_ref15 = detstats.rank_samples(hc_ss, hc_bg, fobs, hc_ref=hc_ref15_10yr, ret_all=True)\n",
    "print(hc_ref15)"
   ]
  },
  {
   "attachments": {},
   "cell_type": "markdown",
   "metadata": {},
   "source": [
    "### Get healpix map"
   ]
  },
  {
   "cell_type": "code",
   "execution_count": null,
   "metadata": {},
   "outputs": [],
   "source": [
    "nside=32\n",
    "moll_hc = anisotropy.healpix_map(hc_ss[nsort[0]], hc_bg[nsort[0]], nside=nside)"
   ]
  },
  {
   "cell_type": "code",
   "execution_count": null,
   "metadata": {},
   "outputs": [],
   "source": [
    "rr=0\n",
    "hp.mollview(moll_hc[rr,fidx], title='Sample %d, Realization %d, $f$=%.2f yr$^{-1}$' % (nsort[0], rr, fobs[fidx]*YR))"
   ]
  },
  {
   "attachments": {},
   "cell_type": "markdown",
   "metadata": {},
   "source": [
    "# Calculate Anisotropy"
   ]
  },
  {
   "attachments": {},
   "cell_type": "markdown",
   "metadata": {},
   "source": [
    "$$ \\frac{C_{\\ell>0} (f)}{C_0 (f)} = \\sum_\\mathrm{pixels} \\frac{ h_c^4 (f )}{ A_\\mathrm{pix} h_c^4 (f)  \n",
    "+  h_c^4 (f )}\n",
    "$$ "
   ]
  },
  {
   "cell_type": "code",
   "execution_count": null,
   "metadata": {},
   "outputs": [],
   "source": [
    "print(moll_hc.shape)"
   ]
  },
  {
   "cell_type": "code",
   "execution_count": null,
   "metadata": {},
   "outputs": [],
   "source": [
    "def ClC0_analytic(moll_hc):\n",
    "    \"\"\" Calculate Cl/C0 for l>0 using Sato-Polito Eq. 17, modified\n",
    "     to use characteristic strains from  Poisson sampled parameter bins \n",
    "     already calculated and placed at random pixels.\n",
    "\n",
    "     Parameters\n",
    "     ----------\n",
    "     moll_hc : (F,R,npix) \n",
    "     \"\"\"\n",
    "    \n",
    "    nside = hp.npix2nside(len(moll_hc[0,0]))\n",
    "    area = hp.nside2pixarea(nside)\n",
    "\n",
    "    sum_term = moll_hc**4 / (area*moll_hc**4 + moll_hc**4)\n",
    "    ClC0 = np.sum(sum_term, axis=-1) # sum over pixels\n",
    "\n",
    "    return ClC0\n",
    "\n",
    "print(hp.nside2pixarea(nside))"
   ]
  },
  {
   "cell_type": "code",
   "execution_count": null,
   "metadata": {},
   "outputs": [],
   "source": [
    "ClC0 = ClC0_analytic(moll_hc)\n",
    "print(ClC0.shape) # F, R"
   ]
  },
  {
   "cell_type": "code",
   "execution_count": null,
   "metadata": {},
   "outputs": [],
   "source": [
    "nshow=20\n",
    "\n",
    "fig, ax = plot.figax(xlabel=plot.LABEL_GW_FREQUENCY_YR, ylabel='$C_{\\ell>0}/C_0$')\n",
    "xx = fobs*YR\n",
    "for rr in range(nshow):\n",
    "    yy = ClC0[:,rr]\n",
    "    ax.plot(xx, yy, color='tab:orange')\n",
    "# ax.set_ylim(10**-6, 10**0)\n",
    "plot._twin_hz(ax, nano=False)"
   ]
  },
  {
   "attachments": {},
   "cell_type": "markdown",
   "metadata": {},
   "source": [
    "# Back to dN/bin"
   ]
  },
  {
   "attachments": {},
   "cell_type": "markdown",
   "metadata": {},
   "source": [
    "$$ C_\\ell (f) = \\delta_{\\ell 0}\\delta_{m0} \\bigg( \\frac{f}{4\\pi \\Delta f}   \\int d \\vec{\\theta} \\frac{d N_{\\Delta f}}{d \\vec{\\theta}} h^2 (f,\\vec{\\theta})   \\bigg)^2 \n",
    "+ \\big( \\frac{f}{4 \\pi \\Delta f}\\big)^2 \\int d\\vec{\\theta} \\frac{d N_{\\Delta f}}{d \\vec{\\theta}} h^4 (f, \\vec{\\theta})\n",
    "$$\n"
   ]
  },
  {
   "cell_type": "code",
   "execution_count": null,
   "metadata": {},
   "outputs": [],
   "source": [
    "dur, cad = 16.03*YR, 0.2*YR\n",
    "fobs_gw_cents = utils.nyquist_freqs(dur,cad)\n",
    "fobs_gw_edges = utils.nyquist_freqs_edges(dur,cad)\n",
    "sam = holo.sam.Semi_Analytic_Model()\n",
    "# sam = holo.sam.Semi_Analytic_Model(mtot=(1.0e4*MSOL, 1.0e11*MSOL, 20), mrat=(1e-3, 1.0, 20), redz=(1e-3, 10.0, 20))  # faster version\n"
   ]
  },
  {
   "cell_type": "code",
   "execution_count": null,
   "metadata": {},
   "outputs": [],
   "source": [
    "fobs_orb_cents = fobs_gw_cents/2.0\n",
    "fobs_orb_edges = fobs_gw_edges/2.0\n",
    "hard = holo.hardening.Fixed_Time_2PL_SAM(sam, 3*GYR)\n",
    "redz_final, diff_num = holo.sam_cython.dynamic_binary_number_at_fobs(\n",
    "    fobs_orb_cents, sam, hard, holo.cosmo)\n",
    "edges = [sam.mtot, sam.mrat, sam.redz, fobs_orb_edges]\n",
    "number = holo.sam_cython.integrate_differential_number_3dx1d(edges, diff_num)"
   ]
  },
  {
   "cell_type": "code",
   "execution_count": null,
   "metadata": {},
   "outputs": [],
   "source": [
    "hs = holo.gravwaves.strain_amp_from_bin_edges_redz(edges, redz_final)\n",
    "print(hs.shape) # (M,Q,Z,F)\n",
    "print(number.shape) # (M,Q,Z,F)"
   ]
  },
  {
   "cell_type": "code",
   "execution_count": null,
   "metadata": {},
   "outputs": [],
   "source": [
    "def Cl_analytic_from_num(fobs_orb_edges, number, hs, realize = False):\n",
    "    \"\"\" Calculate Cl using Eq. (17) of Sato-Polito & Kamionkowski\n",
    "    Parameters\n",
    "    ----------\n",
    "    fobs_orb_edges : (F,) 1Darray\n",
    "        Observed orbital frequency bin edges\n",
    "    hs : (M,Q,Z,F) NDarray\n",
    "        Strain amplitude of each M,q,z bin\n",
    "    number : (M,Q,Z,F) NDarray\n",
    "        Number of sources in each M,q,z, bin\n",
    "    \n",
    "    \"\"\"\n",
    "\n",
    "    df = np.diff(fobs_orb_edges)                 #: frequency bin widths\n",
    "    fc = kale.utils.midpoints(fobs_orb_edges)    #: use frequency-bin centers for strain (more accurate!)\n",
    "\n",
    "    # df = fobs_orb_widths[np.newaxis, np.newaxis, np.newaxis, :] # (M,Q,Z,F) NDarray\n",
    "    # fc = fobs_orb_cents[np.newaxis, np.newaxis, np.newaxis, :]  # (M,Q,Z,F) NDarray\n",
    "\n",
    "    delta_term = (\n",
    "        fc / (4*np.pi * df) * np.sum(number*hs**2, axis=(0,1,2))\n",
    "    )**2\n",
    "\n",
    "    Cl = (\n",
    "        (fc / (4*np.pi*df))**2 * np.sum(number*hs**4, axis=(0,1,2))\n",
    "    )\n",
    "\n",
    "    C0 = Cl + delta_term\n",
    "\n",
    "    return C0, Cl\n",
    "\n",
    "C0, Cl = Cl_analytic_from_num(fobs_orb_edges, number, hs)"
   ]
  },
  {
   "cell_type": "code",
   "execution_count": null,
   "metadata": {},
   "outputs": [],
   "source": [
    "nshow=20\n",
    "\n",
    "fig, ax = plot.figax(xlabel=plot.LABEL_GW_FREQUENCY_HZ, ylabel='$C_{\\ell>0}/C_0$')\n",
    "xx = fobs_gw_cents\n",
    "yy = Cl/C0 # (F,)\n",
    "ax.plot(xx, yy, color='tab:orange', label='Eq (17) with cython number, full sam')\n",
    "# ax.set_ylim(10**-6, 10**0)\n",
    "plot._twin_yr(ax, nano=False)\n",
    "ax.legend()"
   ]
  },
  {
   "cell_type": "code",
   "execution_count": null,
   "metadata": {},
   "outputs": [],
   "source": [
    "def Cl_analytic_from_num(fobs_orb_edges, number, hs, realize = False):\n",
    "    \"\"\" Calculate Cl using Eq. (17) of Sato-Polito & Kamionkowski\n",
    "    Parameters\n",
    "    ----------\n",
    "    fobs_orb_edges : (F,) 1Darray\n",
    "        Observed orbital frequency bin edges\n",
    "    hs : (M,Q,Z,F) NDarray\n",
    "        Strain amplitude of each M,q,z bin\n",
    "    number : (M,Q,Z,F) NDarray\n",
    "        Number of sources in each M,q,z, bin\n",
    "    realize : boolean or integer\n",
    "        How many realizations to Poisson sample.\n",
    "    \n",
    "    \"\"\"\n",
    "\n",
    "    df = np.diff(fobs_orb_edges)                 #: frequency bin widths\n",
    "    fc = kale.utils.midpoints(fobs_orb_edges)    #: frequency-bin centers \n",
    "\n",
    "    # df = fobs_orb_widths[np.newaxis, np.newaxis, np.newaxis, :] # (M,Q,Z,F) NDarray\n",
    "    # fc = fobs_orb_cents[np.newaxis, np.newaxis, np.newaxis, :]  # (M,Q,Z,F) NDarray\n",
    "\n",
    "\n",
    "    # Poisson sample number in each bin\n",
    "    if utils.isinteger(realize):\n",
    "        number = np.random.poisson(number[...,np.newaxis], \n",
    "                                size = (number.shape + (realize,)))\n",
    "        df = df[...,np.newaxis]\n",
    "        fc = fc[...,np.newaxis]\n",
    "        hs = hs[...,np.newaxis]\n",
    "    elif realize is True:\n",
    "        number = holo.gravwaves.poisson_as_needed(number)\n",
    "\n",
    "\n",
    "\n",
    "    delta_term = (fc/(4*np.pi*df) * np.sum(number*hs**2, axis=(0,1,2)))**2\n",
    "\n",
    "    Cl = (fc/(4*np.pi*df))**2 * np.sum(number*hs**4, axis=(0,1,2))\n",
    "\n",
    "    C0 = Cl + delta_term\n",
    "\n",
    "    return C0, Cl\n",
    "\n",
    "C0, Cl = Cl_analytic_from_num(fobs_orb_edges, number, hs, realize=False)\n",
    "C0_many, Cl_many = Cl_analytic_from_num(fobs_orb_edges, number, hs, realize=20)"
   ]
  },
  {
   "cell_type": "code",
   "execution_count": null,
   "metadata": {},
   "outputs": [],
   "source": [
    "nshow=20\n",
    "\n",
    "fig, ax = plot.figax(xlabel=plot.LABEL_GW_FREQUENCY_HZ, ylabel='$C_{\\ell>0}/C_0$')\n",
    "xx = fobs_gw_cents\n",
    "yy = Cl/C0 # (F,)\n",
    "ax.plot(xx, yy, color='tab:grey', label='Eq (17) with cython number, full sam')\n",
    "rr = 0\n",
    "ax.plot(xx, Cl_many[:,rr]/C0_many[:,rr], color='tab:orange', alpha=0.25, label = 'Poisson number/bin realization')\n",
    "for rr in range(1, nshow):\n",
    "    ax.plot(xx, Cl_many[:,rr]/C0_many[:,rr], color='tab:orange', alpha=0.25)\n",
    "# ax.set_ylim(10**-6, 10**0)\n",
    "plot._twin_yr(ax, nano=False)\n",
    "ax.legend()"
   ]
  },
  {
   "cell_type": "code",
   "execution_count": null,
   "metadata": {},
   "outputs": [],
   "source": [
    "nshow=20\n",
    "\n",
    "\n",
    "\n",
    "def draw_analytic(ax, Cl, C0, fobs_gw_cents):\n",
    "    xx = fobs_gw_cents\n",
    "    yy = Cl/C0 # (F,)\n",
    "    ax.plot(xx, yy, color='tab:orange', lw=2, label='Eq (17) with cython number, full sam')\n",
    "    rr = 0\n",
    "    ax.plot(xx, Cl_many[:,rr]/C0_many[:,rr], color='tab:orange', alpha=0.15, linestyle='-', \n",
    "            label = 'Poisson number/bin realization')\n",
    "    for rr in range(1, nshow):\n",
    "        ax.plot(xx, Cl_many[:,rr]/C0_many[:,rr], color='tab:orange', alpha=0.25, linestyle='-')\n",
    "\n",
    "def draw_spk(ax):\n",
    "    spk_xx= np.array([3.5*10**-9, 1.25*10**-8, 1*10**-7]) /YR\n",
    "    spk_yy= np.array([1*10**-5, 1*10**-3, 1*10**-1])\n",
    "    ax.plot(spk_xx * YR, spk_yy, label='SP & K Rough Estimate', color='limegreen', ls='--')\n",
    "\n",
    "def draw_bayes(ax, lmax, colors = ['k', 'b', 'r', 'g', 'c', 'm']):\n",
    "    xx_Nihan = np.array([2.0, 4.0, 5.9, 7.9, 9.9]) *10**-9 # Hz\n",
    "    \n",
    "    Cl_nihan = np.array([\n",
    "    [0.20216773, 0.14690035, 0.09676646, 0.07453352, 0.05500382, 0.03177427],\n",
    "    [0.21201336, 0.14884939, 0.10545698, 0.07734305, 0.05257189, 0.03090662],\n",
    "    [0.20840993, 0.14836757, 0.09854803, 0.07205384, 0.05409881, 0.03305785],\n",
    "    [0.19788951, 0.15765126, 0.09615489, 0.07475364, 0.0527356 , 0.03113331],\n",
    "    [0.20182648, 0.14745265, 0.09681202, 0.0746824 , 0.05503161, 0.0317012 ]])\n",
    "    for ll in range(lmax):\n",
    "        ax.plot(xx_Nihan, Cl_nihan[:,ll]/Cl_nihan[:,0], \n",
    "                    label = '$l=%d$' % (ll+1), \n",
    "                color=colors[ll], marker='o', ms=8)\n",
    "\n",
    "def plot_ClC0():\n",
    "    fig, ax = plot.figax(xlabel=plot.LABEL_GW_FREQUENCY_HZ, ylabel='$C_{\\ell>0}/C_0$')\n",
    "    draw_analytic(ax, Cl, C0, fobs_gw_cents)\n",
    "    draw_spk(ax)\n",
    "    draw_bayes(ax, lmax=6)\n",
    "    # ax.set_ylim(10**-6, 10**0)\n",
    "    plot._twin_yr(ax, nano=False)\n",
    "    fig.legend(bbox_to_anchor=(0,-0.15), loc='upper left', bbox_transform = ax.transAxes, ncols=3)\n",
    "    return fig\n",
    "\n",
    "fig = plot_ClC0()"
   ]
  },
  {
   "cell_type": "code",
   "execution_count": null,
   "metadata": {},
   "outputs": [],
   "source": [
    "# sph_harm_file = np.load('/Users/emigardiner/GWs/holodeck/brc_output/ss51-2023-05-22_uniform_07a_n1000_r100_f40_l2000/anisotropy/sph_harm_lmax6_nside32_nbest100.npz')\n",
    "\n",
    "# # load ss info\n",
    "# shape = sph_harm_file['ss_shape']\n",
    "# nsamps, nfreqs, nreals, nloudest = shape[0], shape[1], shape[2], shape[3]\n",
    "# fobs = sph_harm_file['fobs']\n",
    "\n",
    "# # load ranking info\n",
    "# nsort = sph_harm_file['nsort']\n",
    "# fidx = sph_harm_file['fidx']\n",
    "# hc_tt = sph_harm_file['hc_tt']\n",
    "# hc_ref15 = sph_harm_file['hc_ref15']\n",
    "\n",
    "# # load harmonics info\n",
    "# nside = sph_harm_file['nside']\n",
    "# lmax  = sph_harm_file['lmax']\n",
    "# moll_hc_best = sph_harm_file['moll_hc_best']\n",
    "# Cl_best = sph_harm_file['Cl_best']\n",
    "# nbest = len(moll_hc_best)\n",
    "\n",
    "# sph_harm_file.close()"
   ]
  },
  {
   "cell_type": "code",
   "execution_count": null,
   "metadata": {},
   "outputs": [],
   "source": [
    "def draw_ClC0_medians(ax, xx, Cl_best, lmax, nshow):\n",
    "\n",
    "    yy = Cl_best[:,:,:,1:]/Cl_best[:,:,:,0,np.newaxis] # (B,F,R,l)\n",
    "    yy = np.median(yy, axis=-1) # (B,F,l) median over realizations\n",
    "\n",
    "    colors = ['k', 'b', 'r', 'g', 'c', 'm']\n",
    "    for ll in range(lmax):\n",
    "        ax.plot(xx, np.median(yy[:,:,ll], axis=0), color=colors[ll]) #, label='median of samples, $l=%d$' % ll)\n",
    "        for pp in [50, 98]:\n",
    "            percs = pp/2\n",
    "            percs = [50-percs, 50+percs]\n",
    "            ax.fill_between(xx, *np.percentile(yy[:,:,ll], percs, axis=0), alpha=0.1, color=colors[ll])\n",
    "        \n",
    "        for bb in range(0,nshow):\n",
    "            # if ll==0 and bb==0:\n",
    "            #     label = \"individual best samples, median of realizations\"\n",
    "            # else: \n",
    "            label=None\n",
    "            ax.plot(xx, yy[bb,:,ll], color=colors[ll], linestyle=':', alpha=0.1,\n",
    "                                 linewidth=1, label=label)\n",
    "def plot_ClC0():\n",
    "    fig, ax = plot.figax(xlabel=plot.LABEL_GW_FREQUENCY_HZ, ylabel='$C_{\\ell>0}/C_0$')\n",
    "    draw_analytic(ax, Cl, C0, fobs_gw_cents)\n",
    "    draw_spk(ax)\n",
    "    draw_bayes(ax, lmax=6)\n",
    "    draw_ClC0_medians(ax, fobs_gw_cents, Cl_best, lmax, nshow=10)\n",
    "    # ax.set_ylim(10**-6, 10**0)\n",
    "    plot._twin_yr(ax, nano=False)\n",
    "    ax.set_xlim(fobs[0]- 10**(-10), 1/YR)\n",
    "\n",
    "    fig.legend(bbox_to_anchor=(0,-0.15), loc='upper left', bbox_transform = ax.transAxes, ncols=3)\n",
    "    return fig\n",
    "\n",
    "fig = plot_ClC0()         "
   ]
  },
  {
   "attachments": {},
   "cell_type": "markdown",
   "metadata": {},
   "source": [
    "# GPF"
   ]
  },
  {
   "attachments": {},
   "cell_type": "markdown",
   "metadata": {},
   "source": [
    "$$ P(M,q,z) = f_0' \\bigg( \\frac{M}{M_0}\\bigg)^{\\alpha_f}(1+z)^{\\beta_f} $$\n",
    "\n",
    "$$ P(M,q,z) = 0.03 \\bigg( \\frac{M}{1\\times10^{11} M_\\odot} \\bigg)^{0} (1+z)^{0.8} $$\n",
    "\n",
    "$$ P(M,q,z) = 0.03  (1+z)^{0.8} $$"
   ]
  },
  {
   "cell_type": "code",
   "execution_count": null,
   "metadata": {},
   "outputs": [],
   "source": [
    "print('f_0=', sam._gpf._frac_norm)\n",
    "print('m_alpha=', sam._gpf._malpha)\n",
    "print('z_beta=', sam._gpf._zbeta)\n",
    "print('q_gamma=', sam._gpf._qgamma)\n",
    "print('m_ref (M_sun) = %e' % (sam._gpf._mref/MSOL))\n"
   ]
  },
  {
   "cell_type": "code",
   "execution_count": null,
   "metadata": {},
   "outputs": [],
   "source": [
    "print(np.min(sam.redz), np.max(sam.redz))"
   ]
  },
  {
   "cell_type": "code",
   "execution_count": null,
   "metadata": {},
   "outputs": [],
   "source": [
    "def P_of_z(z):\n",
    "    return (0.03*(1+z)*0.8)"
   ]
  },
  {
   "cell_type": "code",
   "execution_count": null,
   "metadata": {},
   "outputs": [],
   "source": [
    "P_of_z(0.001)\n",
    "P_of_z(10)"
   ]
  },
  {
   "cell_type": "code",
   "execution_count": null,
   "metadata": {},
   "outputs": [],
   "source": []
  }
 ],
 "metadata": {
  "kernelspec": {
   "display_name": "holo310",
   "language": "python",
   "name": "python3"
  },
  "language_info": {
   "codemirror_mode": {
    "name": "ipython",
    "version": 3
   },
   "file_extension": ".py",
   "mimetype": "text/x-python",
   "name": "python",
   "nbconvert_exporter": "python",
   "pygments_lexer": "ipython3",
   "version": "3.10.10"
  }
 },
 "nbformat": 4,
 "nbformat_minor": 2
}
