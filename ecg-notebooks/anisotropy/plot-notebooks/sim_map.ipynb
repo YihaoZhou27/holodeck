{
 "cells": [
  {
   "cell_type": "code",
   "execution_count": null,
   "metadata": {},
   "outputs": [],
   "source": [
    "%reload_ext autoreload\n",
    "%autoreload 2\n",
    "from importlib import reload\n",
    "\n",
    "\n",
    "import holodeck as holo\n",
    "from holodeck import single_sources, utils, plot, detstats, anisotropy\n",
    "from holodeck.constants import YR\n",
    "\n",
    "import numpy as np\n",
    "import healpy as hp\n",
    "import matplotlib.pyplot as plt\n",
    "import matplotlib as mpl\n",
    "import matplotlib.cm as cm\n",
    "import h5py\n",
    "\n"
   ]
  },
  {
   "attachments": {},
   "cell_type": "markdown",
   "metadata": {},
   "source": []
  },
  {
   "attachments": {},
   "cell_type": "markdown",
   "metadata": {},
   "source": [
    "## Load and concatenate pixel strains and harmonic coefficients for NSIDE 32"
   ]
  },
  {
   "cell_type": "code",
   "execution_count": null,
   "metadata": {},
   "outputs": [],
   "source": [
    "NBEST = 1\n",
    "\n",
    "file1 = np.load('/Users/emigardiner/GWs/holodeck/output/brc_output/ss51-2023-05-22_uniform_07a_n1000_r100_f40_l2000/anisotropy/sph_harm_hc2dOm_lmax6_ns32_r50_b00-49.npz')\n",
    "print(f\"{file1.files=}\")\n",
    "# load ss info\n",
    "shape = file1['ss_shape']\n",
    "nsamps, nfreqs, nreals, nloudest = shape[0], shape[1], shape[2], shape[3]\n",
    "fobs = file1['fobs']\n",
    "\n",
    "# load ranking info\n",
    "nsort = file1['nsort'][:NBEST]\n",
    "fidx = file1['fidx']\n",
    "hc_ref = file1['hc_ref']\n",
    "\n",
    "# load harmonics info\n",
    "nside = file1['nside']\n",
    "lmax  = file1['lmax']\n",
    "\n",
    "# load map and harmonics from 1st split chunk\n",
    "moll_hc_best1 = file1['moll_hc_best'][:NBEST]\n",
    "Cl_best1 = file1['Cl_best'][:NBEST]\n",
    "nbest1 = len(moll_hc_best1)\n",
    "\n",
    "file1.close()\n",
    "\n"
   ]
  },
  {
   "cell_type": "code",
   "execution_count": null,
   "metadata": {},
   "outputs": [],
   "source": [
    "print(fobs[1]*10**9)"
   ]
  },
  {
   "cell_type": "code",
   "execution_count": null,
   "metadata": {},
   "outputs": [],
   "source": [
    "moll_hc = moll_hc_best1[0]\n",
    "print(f\"{moll_hc.shape}\")"
   ]
  },
  {
   "cell_type": "code",
   "execution_count": null,
   "metadata": {},
   "outputs": [],
   "source": [
    "ff=1\n",
    "rr=3\n",
    "fig, ax = plot.figax()\n",
    "hp.mollview(moll_hc[ff,rr], hold=True, title='Simulated %.2f yr$^{-1}$ GW Sky' % ( fobs[ff]*YR), \n",
    "            unit='$h_c^2/\\mathrm{sr}^2$', min = 4e-33, max=1e-30,\n",
    "            \n",
    "            )\n",
    "# hp.graticule(alpha=0.5)\n",
    "fig.tight_layout()"
   ]
  },
  {
   "cell_type": "code",
   "execution_count": null,
   "metadata": {},
   "outputs": [],
   "source": [
    "ff=1\n",
    "rr=3\n",
    "fig,ax = plot.figax()\n",
    "\n",
    "smooth_map = hp.smoothing(moll_hc[ff,rr], fwhm=np.radians(1.) )\n",
    "\n",
    "\n",
    "# mpl.rcParams.update({'font.size': 14}) \n",
    "hp.mollview(smooth_map, hold=True, title=None, fig=fig,\n",
    "            unit='$h_c^2($f$=%.2f\\ \\mathrm{yr}^{-1})$'  % ( fobs[ff]*YR), \n",
    "            min = 4e-33, max=8e-31, cbar=False\n",
    "            )\n",
    "# hp.graticule(alpha=0.5)\n",
    "\n",
    "fig, ax = plt.gcf(), plt.gca()\n",
    "image = ax.get_images()[0]\n",
    "\n",
    "# fig.colorbar(image, orientation='horizontal', \n",
    "#              label='$h_c^2 (f=%0.2f\\ \\mathrm{yr^{-1}})$' % (fobs[ff]*YR),\n",
    "#              pad=0.02, shrink=0.6, aspect=30)\n",
    "# fig.colorbar()\n",
    "fig.tight_layout()"
   ]
  },
  {
   "cell_type": "code",
   "execution_count": null,
   "metadata": {},
   "outputs": [],
   "source": [
    "\n",
    "ff=1\n",
    "rr=3\n",
    "lmax=6\n",
    "fig,ax = plot.figax()\n",
    "\n",
    "\n",
    "Cl = hp.anafast(moll_hc[ff,rr], lmax=lmax)\n",
    "Cl_map = hp.synfast(Cl, nside, lmax=lmax)\n",
    "\n",
    "seed = np.random.randint(99999)   # get a random number\n",
    "print(seed)                       # print it out so we can reuse it if desired\n",
    "seed = 34891\n",
    "np.random.seed(seed)   \n",
    "\n",
    "# mpl.rcParams.update({'font.size': 14}) \n",
    "hp.mollview(Cl_map, hold=True, title='Reconstructed with $\\ell_\\mathrm{max}=%d$' % lmax, fig=fig,\n",
    "            unit='$h_c^2($f$=%.2f\\ \\mathrm{yr}^{-1})$'  % ( fobs[ff]*YR), \n",
    "            cbar=False, #min = 4e-33, max=8e-31, \n",
    "            )\n",
    "# hp.graticule(alpha=0.5)\n",
    "\n",
    "fig, ax = plt.gcf(), plt.gca()\n",
    "image = ax.get_images()[0]\n",
    "\n",
    "# fig.colorbar(image, orientation='horizontal', \n",
    "#              label='$h_c^2 (f=%0.2f\\ \\mathrm{yr^{-1}})$' % (fobs[ff]*YR),\n",
    "#              pad=0.02, shrink=0.6, aspect=30)\n",
    "# fig.colorbar()\n",
    "fig.tight_layout()"
   ]
  },
  {
   "cell_type": "code",
   "execution_count": null,
   "metadata": {},
   "outputs": [],
   "source": [
    "\n",
    "ff=1\n",
    "rr=3\n",
    "lmax=3\n",
    "\n",
    "\n",
    "Cl = hp.anafast(moll_hc[ff,rr], lmax=lmax)\n",
    "\n",
    "seed = 50158   # get a random number\n",
    "print(seed)                       # print it out so we can reuse it if desired\n",
    "np.random.seed(seed)   \n",
    "\n",
    "fig,ax = plot.figax()\n",
    "\n",
    "\n",
    "Cl_map = hp.synfast(Cl, nside, lmax=lmax)\n",
    "# mpl.rcParams.update({'font.size': 14}) \n",
    "hp.mollview(Cl_map, hold=True, \n",
    "            title='Reconstructed with $\\ell_\\mathrm{max}=%d$, seed=%d' % (lmax, seed),\n",
    "            cbar=False\n",
    "            #min = 4e-33, max=1.5e-31, cbar=False\n",
    "            )\n",
    "fig, ax = plt.gcf(), plt.gca()"
   ]
  },
  {
   "cell_type": "code",
   "execution_count": null,
   "metadata": {},
   "outputs": [],
   "source": [
    "\n",
    "ff=1\n",
    "rr=3\n",
    "lmax=3\n",
    "\n",
    "\n",
    "Cl = hp.anafast(moll_hc[ff,rr], lmax=lmax)\n",
    "\n",
    "for ii in range(20):\n",
    "    seed = np.random.randint(99999)   # get a random number\n",
    "    print(seed)                       # print it out so we can reuse it if desired\n",
    "    np.random.seed(seed)   \n",
    "\n",
    "    fig,ax = plot.figax()\n",
    "\n",
    "\n",
    "    Cl_map = hp.synfast(Cl, nside, lmax=lmax)\n",
    "    # mpl.rcParams.update({'font.size': 14}) \n",
    "    hp.mollview(Cl_map, hold=True, \n",
    "                title='Reconstructed with $\\ell_\\mathrm{max}=%d$, seed=%d' % (lmax, seed),\n",
    "                cbar=False\n",
    "                #min = 4e-33, max=1.5e-31, cbar=False\n",
    "                )\n",
    "    fig, ax = plt.gcf(), plt.gca()\n",
    "    # fig.savefig(('/Users/emigardiner/GWs/holodeck/ecg-notebooks/anisotropy/mollmaps/log_r%df%d_%02ddeg.png'\n",
    "    #               % (rr,ff,deg)))\n",
    "    # plt.close(fig)\n",
    "\n",
    "    # seed = np.random.randint(99999)   # get a random number\n",
    "    # print(seed)                       # print it out so we can reuse it if desired\n",
    "    # np.random.seed(seed)   \n",
    "    # # mpl.rcParams.update({'font.size': 14}) \n",
    "    # hp.mollview(Cl_map, hold=False, title=None, \n",
    "    #             unit='$h_c^2($f$=%.2f\\ \\mathrm{yr}^{-1})$'  % ( fobs[ff]*YR), )\n",
    "    # fig, ax = plt.gcf(), plt.gca()\n",
    "    # ax.set_title(', fontsize=12)\n",
    "    # # fig.colorbar()\n",
    "    # fig.tight_layout()"
   ]
  },
  {
   "cell_type": "code",
   "execution_count": null,
   "metadata": {},
   "outputs": [],
   "source": [
    "for deg in np.geomspace(5,180,5):\n",
    "    smooth_map = hp.smoothing(moll_hc[ff,rr], fwhm=np.radians(deg) )\n",
    "    fig,ax = plot.figax()\n",
    "\n",
    "    # mpl.rcParams.update({'font.size': 14}) \n",
    "    hp.mollview(smooth_map, hold=True, \n",
    "                title='Smoothed with fwhm=%d$\\deg$' % (deg),\n",
    "                cbar=False\n",
    "                #min = 4e-33, max=1.5e-31, cbar=False\n",
    "                )\n",
    "    fig, ax = plt.gcf(), plt.gca()\n",
    "    # fig.savefig(('/Users/emigardiner/GWs/holodeck/ecg-notebooks/anisotropy/mollmaps/log_r%df%d_%02ddeg.png'\n",
    "    #               % (rr,ff,deg)))\n",
    "    # plt.close(fig)\n"
   ]
  },
  {
   "attachments": {},
   "cell_type": "markdown",
   "metadata": {},
   "source": [
    "# Save varying smoothing"
   ]
  },
  {
   "cell_type": "code",
   "execution_count": null,
   "metadata": {},
   "outputs": [],
   "source": [
    "ff=1\n",
    "rr=3\n",
    "# fig,ax = plot.figax()\n",
    "\n",
    "\n",
    "# deg=30.\n",
    "ii=0\n",
    "for deg in np.geomspace(180,.01,100):\n",
    "    ii+=1\n",
    "    smooth_map = hp.smoothing(moll_hc[ff,rr], fwhm=np.radians(deg) )\n",
    "    fig,ax = plot.figax()\n",
    "\n",
    "    # mpl.rcParams.update({'font.size': 14}) \n",
    "    hp.mollview(smooth_map, hold=True, \n",
    "                title='Smoothed with fwhm=%d$\\deg$' % (deg),\n",
    "                cbar=False\n",
    "                #min = 4e-33, max=1.5e-31, cbar=False\n",
    "                )\n",
    "    fig, ax = plt.gcf(), plt.gca()\n",
    "    fig.savefig(('/Users/emigardiner/GWs/holodeck/ecg-notebooks/anisotropy/mollmaps/log180_ii%d_r%df%d_%03ddeg.png'\n",
    "                  % (ii,rr,ff,deg)))\n",
    "    plt.close(fig)\n"
   ]
  },
  {
   "cell_type": "code",
   "execution_count": null,
   "metadata": {},
   "outputs": [],
   "source": [
    "ff=1\n",
    "rr=3\n",
    "fig,ax = plot.figax()\n",
    "\n",
    "smooth_map = hp.smoothing(moll_hc[ff,rr], fwhm=np.radians(60.) )\n",
    "\n",
    "\n",
    "# mpl.rcParams.update({'font.size': 14}) \n",
    "hp.mollview(smooth_map, hold=True, title=None, fig=fig,\n",
    "            unit='$h_c^2($f$=%.2f\\ \\mathrm{yr}^{-1})$'  % ( fobs[ff]*YR), \n",
    "            cbar=False\n",
    "            #min = 4e-33, max=1.5e-31, cbar=False\n",
    "            )\n",
    "# hp.graticule(alpha=0.5)\n",
    "\n",
    "fig, ax = plt.gcf(), plt.gca()\n",
    "image = ax.get_images()[0]\n",
    "\n",
    "# fig.colorbar(image, orientation='horizontal', \n",
    "#              label='$h_c^2 (f=%0.2f\\ \\mathrm{yr^{-1}})$' % (fobs[ff]*YR),\n",
    "#              pad=0.02, shrink=0.6, aspect=30)\n",
    "# fig.colorbar()\n",
    "fig.tight_layout()"
   ]
  },
  {
   "attachments": {},
   "cell_type": "markdown",
   "metadata": {},
   "source": [
    "# Find Best Sample"
   ]
  },
  {
   "cell_type": "code",
   "execution_count": null,
   "metadata": {},
   "outputs": [],
   "source": [
    "NBEST = 1\n",
    "\n",
    "file1 = np.load('/Users/emigardiner/GWs/holodeck/output/brc_output/ss51-2023-05-22_uniform_07a_n1000_r100_f40_l2000/anisotropy/sph_harm_hc2dOm_lmax6_ns32_r50_b00-49.npz')\n",
    "print(f\"{file1.files=}\")\n",
    "# load ranking info\n",
    "nsort = file1['nsort'][:NBEST]\n",
    "print(nsort[0])\n",
    "nn = nsort[0]\n",
    "\n",
    "\n",
    "file1.close()\n",
    "\n"
   ]
  },
  {
   "attachments": {},
   "cell_type": "markdown",
   "metadata": {},
   "source": [
    "# Higher res"
   ]
  },
  {
   "cell_type": "code",
   "execution_count": null,
   "metadata": {},
   "outputs": [],
   "source": [
    "nn=320\n",
    "ff=1\n",
    "rr=3\n",
    "\n",
    "sam_dir = '/Users/emigardiner/GWs/holodeck/output/brc_output/ss51-2023-05-22_uniform_07a_n1000_r100_f40_l2000/'\n",
    "hdf_name = sam_dir + '/sam_lib.hdf5'\n",
    "hdf_file = h5py.File(hdf_name, 'r')\n",
    "\n",
    "hc_ss = hdf_file['hc_ss'][nn,0:5,0:5,:]\n",
    "hc_bg = hdf_file['hc_bg'][nn,0:5,0:5]\n",
    "fobs = hdf_file['fobs'][:]\n",
    "\n",
    "hdf_file.close()\n"
   ]
  },
  {
   "cell_type": "code",
   "execution_count": null,
   "metadata": {},
   "outputs": [],
   "source": [
    "print(hc_ss.shape)\n",
    "print(hc_bg.shape)"
   ]
  },
  {
   "attachments": {},
   "cell_type": "markdown",
   "metadata": {},
   "source": [
    "# make path"
   ]
  },
  {
   "cell_type": "code",
   "execution_count": null,
   "metadata": {},
   "outputs": [],
   "source": [
    "out_path = '/Users/emigardiner/GWs/holodeck/output/mollmaps'\n",
    "out_dir = out_path+'/09B_nside128'\n",
    "import os\n",
    "if (os.path.exists(out_dir) is False):\n",
    "    print('Making output directory.')\n",
    "    os.makedirs(out_dir)\n",
    "else:\n",
    "    print('Writing to an existing directory.')"
   ]
  },
  {
   "attachments": {},
   "cell_type": "markdown",
   "metadata": {},
   "source": [
    "make mollmap"
   ]
  },
  {
   "cell_type": "code",
   "execution_count": null,
   "metadata": {},
   "outputs": [],
   "source": [
    "moll_hc = anisotropy.healpix_map(hc_ss, hc_bg, nside=128)\n",
    "ff=1\n",
    "rr=3\n"
   ]
  },
  {
   "attachments": {},
   "cell_type": "markdown",
   "metadata": {},
   "source": [
    "plot, as is"
   ]
  },
  {
   "cell_type": "code",
   "execution_count": null,
   "metadata": {},
   "outputs": [],
   "source": [
    "fig,ax = plot.figax()\n",
    "\n",
    "# mpl.rcParams.update({'font.size': 14}) \n",
    "hp.mollview(moll_hc[ff,rr], hold=True, \n",
    "            title=None,\n",
    "            cbar=False\n",
    "            #min = 4e-33, max=1.5e-31, cbar=False\n",
    "            )\n",
    "fig, ax = plt.gcf(), plt.gca()\n",
    "# plt.close(fig)\n"
   ]
  },
  {
   "attachments": {},
   "cell_type": "markdown",
   "metadata": {},
   "source": [
    "plot a few smoothing cases"
   ]
  },
  {
   "cell_type": "code",
   "execution_count": null,
   "metadata": {},
   "outputs": [],
   "source": [
    "# deg=30.\n",
    "ii=0\n",
    "for deg in np.geomspace(180,1,10):\n",
    "    ii+=1\n",
    "    smooth_map = hp.smoothing(moll_hc[ff,rr], fwhm=np.radians(deg) )\n",
    "    fig,ax = plot.figax()\n",
    "\n",
    "    # mpl.rcParams.update({'font.size': 14}) \n",
    "    hp.mollview(smooth_map, hold=True, \n",
    "                title='Smoothed with fwhm=%.1f$\\deg$' % (deg),\n",
    "                cbar=False\n",
    "                #min = 4e-33, max=1.5e-31, cbar=False\n",
    "                )\n",
    "    fig, ax = plt.gcf(), plt.gca()\n",
    "    # fig.savefig(('/Users/emigardiner/GWs/holodeck/ecg-notebooks/anisotropy/mollmaps/log180_ii%d_r%df%d_%03ddeg.png'\n",
    "    #               % (ii,rr,ff,deg)))\n",
    "    # plt.close(fig)\n"
   ]
  },
  {
   "attachments": {},
   "cell_type": "markdown",
   "metadata": {},
   "source": [
    "plot and save many for gif"
   ]
  },
  {
   "cell_type": "code",
   "execution_count": null,
   "metadata": {},
   "outputs": [],
   "source": [
    "\n",
    "ii=0\n",
    "for deg in np.geomspace(180,1,500):\n",
    "    ii+=1\n",
    "    smooth_map = hp.smoothing(moll_hc[ff,rr], fwhm=np.radians(deg) )\n",
    "    fig,ax = plot.figax()\n",
    "\n",
    "    # mpl.rcParams.update({'font.size': 14}) \n",
    "    hp.mollview(smooth_map, hold=True, \n",
    "                title=None,\n",
    "                cbar=False\n",
    "                #min = 4e-33, max=1.5e-31, cbar=False\n",
    "                )\n",
    "    fig, ax = plt.gcf(), plt.gca()\n",
    "    fig.savefig((out_dir+'/ii%03d_rr%02dff%02d_%03ddeg.png'\n",
    "                  % (ii,rr,ff,deg)))\n",
    "    plt.close(fig)\n"
   ]
  },
  {
   "cell_type": "code",
   "execution_count": null,
   "metadata": {},
   "outputs": [],
   "source": []
  }
 ],
 "metadata": {
  "kernelspec": {
   "display_name": "holo310",
   "language": "python",
   "name": "python3"
  },
  "language_info": {
   "codemirror_mode": {
    "name": "ipython",
    "version": 3
   },
   "file_extension": ".py",
   "mimetype": "text/x-python",
   "name": "python",
   "nbconvert_exporter": "python",
   "pygments_lexer": "ipython3",
   "version": "3.10.10"
  }
 },
 "nbformat": 4,
 "nbformat_minor": 2
}
