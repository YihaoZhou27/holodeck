{
 "cells": [
  {
   "cell_type": "code",
   "execution_count": null,
   "metadata": {},
   "outputs": [],
   "source": [
    "%reload_ext autoreload\n",
    "%autoreload 2\n",
    "from importlib import reload\n",
    "\n",
    "import numpy as np\n",
    "import matplotlib.pyplot as plt\n",
    "import h5py\n",
    "import healpy as hp\n",
    "import kalepy as kale\n",
    "\n",
    "import holodeck as holo\n",
    "import holodeck.anisotropy as anis\n",
    "from holodeck import detstats, plot, utils\n",
    "from holodeck.constants import YR, MSOL, GYR"
   ]
  },
  {
   "cell_type": "code",
   "execution_count": null,
   "metadata": {},
   "outputs": [],
   "source": [
    "SHAPE=20"
   ]
  },
  {
   "attachments": {},
   "cell_type": "markdown",
   "metadata": {},
   "source": [
    "# Setup Example Model"
   ]
  },
  {
   "cell_type": "code",
   "execution_count": null,
   "metadata": {},
   "outputs": [],
   "source": [
    "# get frequencies\n",
    "dur = holo.librarian.DEF_PTA_DUR*YR\n",
    "fobs_gw_cents, fobs_gw_edges = holo.utils.pta_freqs(dur)\n",
    "fobs_orb_cents = fobs_gw_cents/2\n",
    "fobs_orb_edges = fobs_gw_edges/2"
   ]
  },
  {
   "cell_type": "code",
   "execution_count": null,
   "metadata": {},
   "outputs": [],
   "source": [
    "# build Semi-Analytic-Model\n",
    "sam = holo.sams.Semi_Analytic_Model(shape=SHAPE)\n",
    "hard = holo.hardening.Fixed_Time_2PL_SAM(sam, 3*GYR)\n",
    "if isinstance(hard, holo.hardening.Fixed_Time_2PL_SAM):\n",
    "    hard_name = 'Fixed Time'\n",
    "elif isinstance(hard, holo.hardening.Hard_GW):\n",
    "    hard_name = 'GW Only'\n",
    "\n",
    "# Evolve model to get final number densities & redshifts at bin edges\n",
    "redz_final, dnum = holo.sam_cython.dynamic_binary_number_at_fobs(\n",
    "    fobs_orb_cents, sam, hard, holo.cosmo)\n",
    "redz_initl = np.array(sam.redz)[np.newaxis,np.newaxis,:,np.newaxis]\n",
    "redz_prime = sam._redz_prime[...,np.newaxis]\n",
    "print(f\"{redz_final.shape=}, {redz_prime.shape=}, {redz_initl.shape=}\")\n",
    "\n",
    "# calculate final number per bin at bin centers\n",
    "edges = [sam.mtot, sam.mrat, sam.redz, fobs_orb_edges]\n",
    "number = holo.sam_cython.integrate_differential_number_3dx1d(edges, dnum)"
   ]
  },
  {
   "cell_type": "code",
   "execution_count": null,
   "metadata": {},
   "outputs": [],
   "source": [
    "# calculate strain amplitudes\n",
    "\n",
    "# at bin centers\n",
    "hs_cents_initl = anis.strain_amp_at_bin_centers_redz(edges, None)\n",
    "hs_cents_prime = anis.strain_amp_at_bin_centers_redz(edges, redz_prime)\n",
    "hs_cents_final = anis.strain_amp_at_bin_centers_redz(edges, redz_final) \n",
    "print(f\"{hs_cents_initl.shape=}, {hs_cents_prime.shape=}, {hs_cents_final.shape=}\")\n",
    "\n",
    "# at bin edges\n",
    "hs_edges_initl = anis.strain_amp_at_bin_edges_redz(edges, None)\n",
    "hs_edges_prime = anis.strain_amp_at_bin_edges_redz(edges, redz_prime)\n",
    "hs_edges_final = anis.strain_amp_at_bin_edges_redz(edges, redz_final) \n",
    "print(f\"{hs_edges_initl.shape=}, {hs_edges_prime.shape=}, {hs_edges_final.shape=}\")"
   ]
  },
  {
   "cell_type": "markdown",
   "metadata": {},
   "source": [
    "# Calculate Cl's"
   ]
  },
  {
   "cell_type": "code",
   "execution_count": null,
   "metadata": {},
   "outputs": [],
   "source": [
    "# from number and hs at bin centers\n",
    "Cl_cents_initl, ... = anis.Cl_analytic_from_num(fobs_orb_edges, number, hs_cents_initl)\n",
    "Cl_cents_prime,... = anis.Cl_analytic_from_num(fobs_orb_edges, number, hs_cents_prime)\n",
    "Cl_cents_final,... = anis.Cl_analytic_from_num(fobs_orb_edges, number, hs_cents_final)"
   ]
  },
  {
   "cell_type": "code",
   "execution_count": null,
   "metadata": {},
   "outputs": [],
   "source": [
    "print(np.max(fobs_gw_cents))"
   ]
  },
  {
   "cell_type": "code",
   "execution_count": null,
   "metadata": {},
   "outputs": [],
   "source": [
    "print(Cl_cents_final)"
   ]
  },
  {
   "cell_type": "code",
   "execution_count": null,
   "metadata": {},
   "outputs": [],
   "source": [
    "fig = anis.plot_ClC0_versions(fobs_gw_cents, spk=True, bayes=True, sim=False, \n",
    "                              analytic=True, Cl_analytic=Cl_cents_final)\n"
   ]
  },
  {
   "cell_type": "markdown",
   "metadata": {},
   "source": []
  }
 ],
 "metadata": {
  "kernelspec": {
   "display_name": "holo310",
   "language": "python",
   "name": "python3"
  },
  "language_info": {
   "codemirror_mode": {
    "name": "ipython",
    "version": 3
   },
   "file_extension": ".py",
   "mimetype": "text/x-python",
   "name": "python",
   "nbconvert_exporter": "python",
   "pygments_lexer": "ipython3",
   "version": "3.10.10"
  }
 },
 "nbformat": 4,
 "nbformat_minor": 2
}
