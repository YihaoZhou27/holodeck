{
 "cells": [
  {
   "cell_type": "code",
   "execution_count": null,
   "metadata": {},
   "outputs": [],
   "source": [
    "%reload_ext autoreload\n",
    "%autoreload 2\n",
    "from importlib import reload\n",
    "\n",
    "import numpy as np\n",
    "import matplotlib.pyplot as plt\n",
    "import h5py\n",
    "import healpy as hp\n",
    "import kalepy as kale\n",
    "\n",
    "import holodeck as holo\n",
    "import holodeck.anisotropy as anis\n",
    "from holodeck import detstats, plot, utils\n",
    "from holodeck.constants import YR, MSOL, GYR"
   ]
  },
  {
   "attachments": {},
   "cell_type": "markdown",
   "metadata": {},
   "source": [
    "# Set Up"
   ]
  },
  {
   "cell_type": "code",
   "execution_count": null,
   "metadata": {},
   "outputs": [],
   "source": [
    "dur, cad = 16.03*YR, 0.2*YR\n",
    "fobs_gw_cents = utils.nyquist_freqs(dur,cad)\n",
    "fobs_gw_edges = utils.nyquist_freqs_edges(dur,cad)\n",
    "# sam = holo.sam.Semi_Analytic_Model()\n",
    "sam = holo.sam.Semi_Analytic_Model(shape=20)  # faster version\n"
   ]
  },
  {
   "cell_type": "code",
   "execution_count": null,
   "metadata": {},
   "outputs": [],
   "source": [
    "fobs_orb_cents = fobs_gw_cents/2.0\n",
    "fobs_orb_edges = fobs_gw_edges/2.0\n",
    "# hard = holo.hardening.Hard_GW()\n",
    "hard = holo.hardening.Fixed_Time_2PL_SAM(sam, 3*GYR)\n",
    "redz_final, diff_num = holo.sam_cython.dynamic_binary_number_at_fobs(\n",
    "    fobs_orb_cents, sam, hard, holo.cosmo)\n",
    "edges = [sam.mtot, sam.mrat, sam.redz, fobs_orb_edges]"
   ]
  },
  {
   "cell_type": "code",
   "execution_count": null,
   "metadata": {},
   "outputs": [],
   "source": [
    "if isinstance(hard, holo.hardening.Fixed_Time_2PL_SAM):\n",
    "    hard_name = 'Fixed Time'\n",
    "elif isinstance(hard, holo.hardening.Hard_GW):\n",
    "    hard_name = 'GW Only'"
   ]
  },
  {
   "attachments": {},
   "cell_type": "markdown",
   "metadata": {},
   "source": [
    "# Calculate Anisotropy"
   ]
  },
  {
   "attachments": {},
   "cell_type": "markdown",
   "metadata": {},
   "source": [
    "$$ C_\\ell (f) = \\delta_{\\ell 0}\\delta_{m0} \\bigg( \\frac{f}{4\\pi \\Delta f}   \\int d \\vec{\\theta} \\frac{d N_{\\Delta f}}{d \\vec{\\theta}} h^2 (f,\\vec{\\theta})   \\bigg)^2 \n",
    "+ \\big( \\frac{f}{4 \\pi \\Delta f}\\big)^2 \\int d\\vec{\\theta} \\frac{d N_{\\Delta f}}{d \\vec{\\theta}} h^4 (f, \\vec{\\theta})\n",
    "$$\n",
    "\n",
    "\n",
    "\n",
    "* dens = d^3 n / [dlog10M dq dz] in units of [Mpc^-3] \n",
    "* dnum = d^4N / dlog10M dq dz dlnf\n",
    "* number = dN /dlnf"
   ]
  },
  {
   "attachments": {},
   "cell_type": "markdown",
   "metadata": {},
   "source": [
    " ## Cl_analytic_from_num()"
   ]
  },
  {
   "cell_type": "code",
   "execution_count": null,
   "metadata": {},
   "outputs": [],
   "source": [
    "hs = holo.gravwaves.strain_amp_from_bin_edges_redz(edges, redz_final)\n",
    "cynum = holo.sam_cython.integrate_differential_number_3dx1d(edges, diff_num)\n",
    "C0_cynum, Cl_cynum = anis.Cl_analytic_from_num(fobs_orb_edges, number=cynum, hs=hs)\n",
    "C0_cyreals, Cl_cyreals = anis.Cl_analytic_from_num(fobs_orb_edges, cynum, hs, realize=20)\n",
    "\n",
    "utnum = utils._integrate_grid_differential_number(edges, diff_num, freq=False)\n",
    "utnum = utnum * np.diff(np.log(fobs_gw_edges))\n",
    "C0_utnum, Cl_utnum = anis.Cl_analytic_from_num(fobs_orb_edges, number=utnum, hs=hs)\n",
    "C0_utreals, Cl_utreals = anis.Cl_analytic_from_num(fobs_orb_edges, utnum, hs, realize=20)\n",
    "\n"
   ]
  },
  {
   "cell_type": "code",
   "execution_count": null,
   "metadata": {},
   "outputs": [],
   "source": [
    "fig = anis.plot_ClC0_versions(fobs_gw_cents)\n",
    "ax = fig.axes[0]\n",
    "\n",
    "anis.draw_analytic(ax, Cl_cynum, C0_cynum, fobs_gw_cents, color='tab:orange', label='cython number', alpha=0.5, lw=4)\n",
    "anis.draw_reals(ax, Cl_cyreals, C0_cyreals, fobs_gw_cents, color='tab:orange', label=None,\n",
    "                show_reals=True, show_median=True, show_ci=True)\n",
    "\n",
    "anis.draw_analytic(ax, Cl_utnum, C0_utnum, fobs_gw_cents, color='tab:red', label='utils number', alpha=0.5)\n",
    "anis.draw_reals(ax, Cl_utreals, C0_utreals, fobs_gw_cents, color='tab:red', label=None,\n",
    "                                show_reals=True, show_median=True, show_ci=True)\n",
    "\n",
    "fig.legend(bbox_to_anchor=(0,-0.15), loc='upper left', bbox_transform = ax.transAxes, ncols=3)"
   ]
  },
  {
   "attachments": {},
   "cell_type": "markdown",
   "metadata": {},
   "source": [
    "This confirms that using number function is same, regardless which number we use"
   ]
  },
  {
   "attachments": {},
   "cell_type": "markdown",
   "metadata": {},
   "source": [
    "## Cl_analytic_from_dnum"
   ]
  },
  {
   "cell_type": "code",
   "execution_count": null,
   "metadata": {},
   "outputs": [],
   "source": [
    "C0_dnum, Cl_dnum = anis.Cl_analytic_from_dnum(edges, diff_num)\n",
    "C0_dnum_reals, Cl_dnum_reals = anis.Cl_analytic_from_dnum(edges, diff_num, realize=10)\n",
    "C0_redz, Cl_redz = anis.Cl_analytic_from_dnum(edges, diff_num, redz_final)\n",
    "C0_redz_reals, Cl_redz_reals = anis.Cl_analytic_from_dnum(edges, diff_num, redz_final, realize=10)"
   ]
  },
  {
   "cell_type": "code",
   "execution_count": null,
   "metadata": {},
   "outputs": [],
   "source": [
    "arr = np.array([1,2,3,4,])\n",
    "print(arr[:,np.newaxis].shape)"
   ]
  },
  {
   "cell_type": "code",
   "execution_count": null,
   "metadata": {},
   "outputs": [],
   "source": [
    "print(C0_dnum.shape)\n",
    "print(C0_dnum_reals.shape)"
   ]
  },
  {
   "attachments": {},
   "cell_type": "markdown",
   "metadata": {},
   "source": [
    "note that Cl_best does not use the same model as the mockups for Sato-Polito method here!"
   ]
  },
  {
   "cell_type": "code",
   "execution_count": null,
   "metadata": {},
   "outputs": [],
   "source": [
    "fig = anis.plot_ClC0_versions(fobs_gw_cents)\n",
    "ax = fig.axes[0]\n",
    "\n",
    "anis.draw_analytic(ax, Cl_cynum, C0_cynum, fobs_gw_cents, color='tab:orange', label='cython number', alpha=0.5, lw=4)\n",
    "anis.draw_reals(ax, Cl_cyreals, C0_cyreals, fobs_gw_cents, color='tab:orange', label=None,\n",
    "                show_reals=True, show_median=True, show_ci=True)\n",
    "\n",
    "anis.draw_analytic(ax, Cl_dnum, C0_dnum, fobs_gw_cents, label='dnum, z_init', color='deeppink')\n",
    "anis.draw_reals(ax, Cl_dnum_reals, C0_dnum_reals, fobs_gw_cents, label=None, color='deeppink')\n",
    "\n",
    "anis.draw_analytic(ax, Cl_redz, C0_redz, fobs_gw_cents, label='dnum, z_final', color='indigo')\n",
    "anis.draw_reals(ax, Cl_redz_reals, C0_redz_reals, fobs_gw_cents, label=None, color='indigo')\n",
    "\n",
    "fig.legend(bbox_to_anchor=(0,-0.15), loc='upper left', bbox_transform = ax.transAxes, ncols=4)\n",
    "ax.set_title('Shape=%s, %s' % (str(sam.shape), str(hard_name)), fontsize=14)\n",
    "\n",
    "fig.tight_layout()\n"
   ]
  },
  {
   "attachments": {},
   "cell_type": "markdown",
   "metadata": {},
   "source": [
    "# Compare Models"
   ]
  },
  {
   "cell_type": "code",
   "execution_count": null,
   "metadata": {},
   "outputs": [],
   "source": [
    "def compare_all_analytic_anis(sam, hard, fobs_gw_cents, fobs_gw_edges):\n",
    "\n",
    "    fobs_orb_cents = fobs_gw_cents/2.0\n",
    "    fobs_orb_edges = fobs_gw_edges/2.0\n",
    "    redz_final, diff_num = holo.sam_cython.dynamic_binary_number_at_fobs(\n",
    "        fobs_orb_cents, sam, hard, holo.cosmo)\n",
    "    edges = [sam.mtot, sam.mrat, sam.redz, fobs_orb_edges]\n",
    "    if isinstance(hard, holo.hardening.Fixed_Time_2PL_SAM):\n",
    "        hard_name = 'Fixed Time'\n",
    "    elif isinstance(hard, holo.hardening.Hard_GW):\n",
    "        hard_name = 'GW Only'\n",
    "\n",
    "    # analytic from number\n",
    "    print('calculating analytic from cython number')\n",
    "    hs = holo.gravwaves.strain_amp_from_bin_edges_redz(edges, redz_final)\n",
    "    cynum = holo.sam_cython.integrate_differential_number_3dx1d(edges, diff_num)\n",
    "    C0_cynum, Cl_cynum = anis.Cl_analytic_from_num(fobs_orb_edges, number=cynum, hs=hs)\n",
    "    C0_cyreals, Cl_cyreals = anis.Cl_analytic_from_num(fobs_orb_edges, cynum, hs, realize=20)\n",
    "\n",
    "    # anayltic from cython number\n",
    "    utnum = utils._integrate_grid_differential_number(edges, diff_num, freq=False)\n",
    "    utnum = utnum * np.diff(np.log(fobs_gw_edges))\n",
    "    C0_utnum, Cl_utnum = anis.Cl_analytic_from_num(fobs_orb_edges, number=utnum, hs=hs)\n",
    "    C0_utreals, Cl_utreals = anis.Cl_analytic_from_num(fobs_orb_edges, utnum, hs, realize=20)\n",
    "\n",
    "    # analytic from dnum\n",
    "    print('calculating analytic from dnum, initial redshift')\n",
    "    C0_dnum, Cl_dnum = anis.Cl_analytic_from_dnum(edges, diff_num)\n",
    "    C0_dnum_reals, Cl_dnum_reals = anis.Cl_analytic_from_dnum(edges, diff_num, realize=10)\n",
    "\n",
    "    print('calculating analytic from dnum, final redshift')\n",
    "    C0_redz, Cl_redz = anis.Cl_analytic_from_dnum(edges, diff_num, redz_final)\n",
    "    C0_redz_reals, Cl_redz_reals = anis.Cl_analytic_from_dnum(edges, diff_num, redz_final, realize=10)\n",
    "\n",
    "    # plot everything\n",
    "    print('plotting')\n",
    "    fig = anis.plot_ClC0_versions(fobs_gw_cents)\n",
    "    ax = fig.axes[0]\n",
    "\n",
    "    anis.draw_analytic(ax, Cl_cynum, C0_cynum, fobs_gw_cents, color='tab:orange', label='cython number', lw=4)\n",
    "    anis.draw_reals(ax, Cl_cyreals, C0_cyreals, fobs_gw_cents, color='tab:orange', label=None,\n",
    "                    show_reals=True, show_median=True, show_ci=True)\n",
    "\n",
    "    anis.draw_analytic(ax, Cl_utnum, C0_utnum, fobs_gw_cents, color='tab:red', label='utils number', lw=3)\n",
    "    anis.draw_reals(ax, Cl_utreals, C0_utreals, fobs_gw_cents, color='tab:red', label=None,\n",
    "                    show_reals=True, show_median=True, show_ci=True)\n",
    "\n",
    "    anis.draw_analytic(ax, Cl_dnum, C0_dnum, fobs_gw_cents, label='dnum, z_init', color='deeppink', lw=4)\n",
    "    anis.draw_reals(ax, Cl_dnum_reals, C0_dnum_reals, fobs_gw_cents, label=None, color='deeppink')\n",
    "\n",
    "    anis.draw_analytic(ax, Cl_redz, C0_redz, fobs_gw_cents, label='dnum, z_final', color='indigo', lw=4)\n",
    "    anis.draw_reals(ax, Cl_redz_reals, C0_redz_reals, fobs_gw_cents, label=None, color='indigo')\n",
    "\n",
    "    fig.legend(bbox_to_anchor=(0,-0.15), loc='upper left', bbox_transform = ax.transAxes, ncols=4)\n",
    "    ax.set_title('Shape=%s, %s' % (str(sam.shape), str(hard_name)), fontsize=14)\n",
    "\n",
    "    fig.tight_layout()\n",
    "    return fig"
   ]
  },
  {
   "attachments": {},
   "cell_type": "markdown",
   "metadata": {},
   "source": [
    "## Fixed Time, small shape"
   ]
  },
  {
   "cell_type": "code",
   "execution_count": null,
   "metadata": {},
   "outputs": [],
   "source": [
    "sam = holo.sam.Semi_Analytic_Model(shape=20)  \n",
    "hard = holo.hardening.Fixed_Time_2PL_SAM(sam, 3*GYR)\n",
    "fig = compare_all_analytic_anis(sam, hard, fobs_gw_cents, fobs_gw_edges)"
   ]
  },
  {
   "cell_type": "markdown",
   "metadata": {},
   "source": [
    "## GW Only, small shape"
   ]
  },
  {
   "cell_type": "code",
   "execution_count": null,
   "metadata": {},
   "outputs": [],
   "source": [
    "sam = holo.sam.Semi_Analytic_Model(shape=20)  \n",
    "# sam - holo.sam.Semi_Analytic_Model(mtot=(1.0e4*MSOL, 1.0e12*MSOL, 20), mrat=(1e-3, 1.0, 20), redz=(1e-3, 10.0, 20))\n",
    "hard = holo.hardening.Hard_GW()\n",
    "fig = compare_all_analytic_anis(sam, hard, fobs_gw_cents, fobs_gw_edges)"
   ]
  },
  {
   "attachments": {},
   "cell_type": "markdown",
   "metadata": {},
   "source": [
    "## Fixed Time, full shape"
   ]
  },
  {
   "cell_type": "code",
   "execution_count": null,
   "metadata": {},
   "outputs": [],
   "source": [
    "sam = holo.sam.Semi_Analytic_Model(shape=None) \n",
    "hard = holo.hardening.Fixed_Time_2PL_SAM(sam, 3*GYR)\n",
    "fig = compare_all_analytic_anis(sam, hard, fobs_gw_cents, fobs_gw_edges)"
   ]
  },
  {
   "attachments": {},
   "cell_type": "markdown",
   "metadata": {},
   "source": [
    "## GW Only, full shape"
   ]
  },
  {
   "cell_type": "code",
   "execution_count": null,
   "metadata": {},
   "outputs": [],
   "source": [
    "sam = holo.sam.Semi_Analytic_Model(shape=None)  \n",
    "hard = holo.hardening.Hard_GW()\n",
    "fig = compare_all_analytic_anis(sam, hard, fobs_gw_cents, fobs_gw_edges)"
   ]
  },
  {
   "cell_type": "code",
   "execution_count": null,
   "metadata": {},
   "outputs": [],
   "source": [
    "print(edges[0].shape)\n",
    "print(hs.shape)"
   ]
  },
  {
   "cell_type": "code",
   "execution_count": null,
   "metadata": {},
   "outputs": [],
   "source": [
    "plt.loglog(edges[0][:-1], hs[:,0,18,5])"
   ]
  },
  {
   "cell_type": "code",
   "execution_count": null,
   "metadata": {},
   "outputs": [],
   "source": [
    "number = holo.sam_cython.integrate_differential_number_3dx1d(edges, diff_num)\n",
    "print(holo.utils.stats(number))"
   ]
  },
  {
   "cell_type": "code",
   "execution_count": null,
   "metadata": {},
   "outputs": [],
   "source": [
    "print(np.diff(edges[1]))"
   ]
  },
  {
   "cell_type": "code",
   "execution_count": null,
   "metadata": {},
   "outputs": [],
   "source": [
    "# integrate over log10mass\n",
    "num = utils.trapz(diff_num, np.log10(edges[0]), axis=0)\n",
    "# integrate over mass-ratio\n",
    "num = utils.trapz(num, edges[1], axis=1)\n",
    "# # integrate over redshift\n",
    "# num = utils.trapz(num, edges[2], axis=2)\n",
    "# # times dln(f)\n",
    "# numh2 = numh2 * np.diff(np.log(fobs_gw_edges)) \n",
    "print(num.shape)\n",
    "plt.loglog(edges[2][:], num[10,10,:,10])"
   ]
  },
  {
   "cell_type": "code",
   "execution_count": null,
   "metadata": {},
   "outputs": [],
   "source": [
    "plt.loglog(edges[1][:-1], number[10,:,18,10])"
   ]
  },
  {
   "cell_type": "code",
   "execution_count": null,
   "metadata": {},
   "outputs": [],
   "source": []
  }
 ],
 "metadata": {
  "kernelspec": {
   "display_name": "holo310",
   "language": "python",
   "name": "python3"
  },
  "language_info": {
   "codemirror_mode": {
    "name": "ipython",
    "version": 3
   },
   "file_extension": ".py",
   "mimetype": "text/x-python",
   "name": "python",
   "nbconvert_exporter": "python",
   "pygments_lexer": "ipython3",
   "version": "3.10.10"
  }
 },
 "nbformat": 4,
 "nbformat_minor": 2
}
