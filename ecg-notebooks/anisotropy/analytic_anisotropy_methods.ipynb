{
 "cells": [
  {
   "cell_type": "code",
   "execution_count": null,
   "metadata": {},
   "outputs": [],
   "source": [
    "%reload_ext autoreload\n",
    "%autoreload 2\n",
    "from importlib import reload\n",
    "\n",
    "import numpy as np\n",
    "import matplotlib.pyplot as plt\n",
    "import h5py\n",
    "import healpy as hp\n",
    "import kalepy as kale\n",
    "\n",
    "import holodeck as holo\n",
    "import holodeck.anisotropy as anis\n",
    "from holodeck import detstats, plot, utils\n",
    "from holodeck.constants import YR, MSOL, GYR"
   ]
  },
  {
   "attachments": {},
   "cell_type": "markdown",
   "metadata": {},
   "source": [
    "# Set Up"
   ]
  },
  {
   "cell_type": "code",
   "execution_count": null,
   "metadata": {},
   "outputs": [],
   "source": [
    "dur, cad = 16.03*YR, 0.2*YR\n",
    "fobs_gw_cents = utils.nyquist_freqs(dur,cad)\n",
    "fobs_gw_edges = utils.nyquist_freqs_edges(dur,cad)\n",
    "fobs_orb_cents = fobs_gw_cents/2.0\n",
    "fobs_orb_edges = fobs_gw_edges/2.0\n",
    "\n",
    "# sam = holo.sam.Semi_Analytic_Model()\n",
    "sam_20 = holo.sam.Semi_Analytic_Model(shape=20)  # faster version\n",
    "hard_FT20 = holo.hardening.Fixed_Time_2PL_SAM(sam_20, 3*GYR)\n",
    "\n",
    "def setup_calculate_all(sam, hard):\n",
    "    redz_final, diff_num = holo.sam_cython.dynamic_binary_number_at_fobs(\n",
    "    fobs_orb_cents, sam, hard, holo.cosmo)\n",
    "    edges = [sam.mtot, sam.mrat, sam.redz, fobs_orb_edges]\n",
    "    if isinstance(hard, holo.hardening.Fixed_Time_2PL_SAM):\n",
    "        hard_name = 'Fixed Time'\n",
    "    elif isinstance(hard, holo.hardening.Hard_GW):\n",
    "        hard_name = 'GW Only'\n",
    "\n",
    "\n",
    "    hs = holo.gravwaves.strain_amp_from_bin_edges_redz(edges, redz_final)\n",
    "    cynum = holo.sam_cython.integrate_differential_number_3dx1d(edges, diff_num)\n",
    "    C0_cynum, Cl_cynum = anis.Cl_analytic_from_num(fobs_orb_edges, number=cynum, hs=hs)\n",
    "    C0_cyreals, Cl_cyreals = anis.Cl_analytic_from_num(fobs_orb_edges, cynum, hs, realize=20)\n",
    "\n",
    "    utnum = utils._integrate_grid_differential_number(edges, diff_num, freq=False)\n",
    "    utnum = utnum * np.diff(np.log(fobs_gw_edges))\n",
    "    C0_utnum, Cl_utnum = anis.Cl_analytic_from_num(fobs_orb_edges, number=utnum, hs=hs)\n",
    "    C0_utreals, Cl_utreals = anis.Cl_analytic_from_num(fobs_orb_edges, utnum, hs, realize=20)\n",
    "\n",
    "    C0_dnum, Cl_dnum = anis.Cl_analytic_from_dnum(edges, diff_num)\n",
    "    C0_dnum_reals, Cl_dnum_reals = anis.Cl_analytic_from_dnum(edges, diff_num, realize=10)\n",
    "    C0_redz, Cl_redz = anis.Cl_analytic_from_dnum(edges, diff_num, redz_final)\n",
    "    C0_redz_reals, Cl_redz_reals = anis.Cl_analytic_from_dnum(edges, diff_num, redz_final, realize=10)\n",
    "\n",
    "    C0_floor, Cl_floor = anis.Cl_analytic_from_num(fobs_orb_edges, number=cynum, hs=hs, realize=False, floor=True)\n",
    "    flnum = np.floor(cynum)\n",
    "    C0_flr2, Cl_flr2 = anis.Cl_analytic_from_num(fobs_orb_edges, flnum, hs, realize=False, floor=False)\n",
    "    \n",
    "    vals = {\n",
    "        'sam':sam, 'hard': hard, 'hard_name':hard_name, 'hs':hs,\n",
    "        'edges':edges, 'redz_final':redz_final, 'diff_num':diff_num,\n",
    "        'cynum':cynum, 'C0_cynum':C0_cynum, 'Cl_cynum':Cl_cynum, 'Cl_cyreals':Cl_cyreals, 'C0_cyreals':C0_cyreals,\n",
    "        'utnum':utnum, 'C0_utnum':C0_utnum, 'Cl_utnum':Cl_utnum, 'Cl_utreals':Cl_utreals, 'C0_utreals':C0_utreals,\n",
    "        'C0_dnum':C0_dnum, 'Cl_dnum':Cl_dnum, 'C0_dnum_reals':C0_dnum_reals, 'Cl_dnum_reals':Cl_dnum_reals,\n",
    "        'C0_redz':C0_redz, 'Cl_redz':Cl_redz, 'C0_redz_reals':C0_redz_reals, 'Cl_redz_reals':Cl_redz_reals,\n",
    "        'flnum':flnum, 'C0_floor':C0_floor, 'Cl_floor':Cl_floor, 'C0_flr2':C0_flr2, 'Cl_flr2':Cl_flr2,\n",
    "    }\n",
    "\n",
    "\n",
    "\n",
    "    return vals    \n",
    "\n",
    "vals_FT20 = setup_calculate_all(sam_20, hard_FT20)"
   ]
  },
  {
   "attachments": {},
   "cell_type": "markdown",
   "metadata": {},
   "source": [
    "# Calculate Anisotropy"
   ]
  },
  {
   "attachments": {},
   "cell_type": "markdown",
   "metadata": {},
   "source": [
    "$$ C_\\ell (f) = \\delta_{\\ell 0}\\delta_{m0} \\bigg( \\frac{f}{4\\pi \\Delta f}   \\int d \\vec{\\theta} \\frac{d N_{\\Delta f}}{d \\vec{\\theta}} h^2 (f,\\vec{\\theta})   \\bigg)^2 \n",
    "+ \\big( \\frac{f}{4 \\pi \\Delta f}\\big)^2 \\int d\\vec{\\theta} \\frac{d N_{\\Delta f}}{d \\vec{\\theta}} h^4 (f, \\vec{\\theta})\n",
    "$$\n",
    "\n",
    "\n",
    "\n",
    "* dens = d^3 n / [dlog10M dq dz] in units of [Mpc^-3] \n",
    "* dnum = d^4N / dlog10M dq dz dlnf\n",
    "* number = dN /dlnf"
   ]
  },
  {
   "attachments": {},
   "cell_type": "markdown",
   "metadata": {},
   "source": [
    " ### Plot Cl_analytic_from_num()"
   ]
  },
  {
   "cell_type": "code",
   "execution_count": null,
   "metadata": {},
   "outputs": [],
   "source": [
    "def plot_Cl_analytic_from_num(vals): # uses nb variables\n",
    "    Cl_cynum = vals['Cl_cynum']\n",
    "    C0_cynum = vals['C0_cynum']\n",
    "    Cl_cyreals = vals['Cl_cyreals']\n",
    "    C0_cyreals = vals['C0_cyreals']\n",
    "\n",
    "    Cl_utnum = vals['Cl_utnum']\n",
    "    C0_utnum = vals['C0_utnum']\n",
    "    Cl_utreals = vals['Cl_utreals']\n",
    "    C0_utreals = vals['C0_utreals']\n",
    "\n",
    "    Cl_floor = vals['Cl_floor']\n",
    "    C0_floor = vals['C0_floor']\n",
    "    Cl_flr2 = vals['Cl_flr2']\n",
    "    C0_flr2 = vals['C0_flr2']\n",
    "\n",
    "    fig1 = anis.plot_ClC0_versions(fobs_gw_cents)\n",
    "    ax = fig1.axes[0]\n",
    "    ax.set_title(vals['hard_name']+', '+str(vals['sam'].shape))\n",
    "\n",
    "    anis.draw_analytic(ax, Cl_cynum, C0_cynum, fobs_gw_cents, color='tab:orange', label='cython number', alpha=0.5, lw=4)\n",
    "    anis.draw_reals(ax, Cl_cyreals, C0_cyreals, fobs_gw_cents, color='tab:orange', label=None,\n",
    "                    show_reals=True, show_median=True, show_ci=True)\n",
    "\n",
    "    anis.draw_analytic(ax, Cl_utnum, C0_utnum, fobs_gw_cents, color='tab:red', label='utils number', alpha=0.5)\n",
    "    anis.draw_reals(ax, Cl_utreals, C0_utreals, fobs_gw_cents, color='tab:red', label=None,\n",
    "                                    show_reals=True, show_median=True, show_ci=True)\n",
    "\n",
    "\n",
    "\n",
    "    anis.draw_analytic(ax, Cl_floor, C0_floor, fobs_gw_cents, color='tab:blue', label='floor number', alpha=0.5)\n",
    "\n",
    "    anis.draw_analytic(ax, Cl_flr2, C0_flr2, fobs_gw_cents, color='tab:green', label='flr2 number', alpha=0.5, lw=5)\n",
    "\n",
    "    fig1.legend(bbox_to_anchor=(0,-0.15), loc='upper left', bbox_transform = ax.transAxes, ncols=4)\n",
    "\n",
    "    fig1.tight_layout()\n",
    "    return fig1\n",
    "\n",
    "fig = plot_Cl_analytic_from_num(vals_FT20)"
   ]
  },
  {
   "attachments": {},
   "cell_type": "markdown",
   "metadata": {},
   "source": [
    "### Plot number"
   ]
  },
  {
   "cell_type": "code",
   "execution_count": null,
   "metadata": {},
   "outputs": [],
   "source": [
    "def plot_num_sums(vals):\n",
    "    cynum = vals['cynum']\n",
    "    flnum = vals['flnum']\n",
    "\n",
    "    fig, (ax1, ax2) = plot.figax(xlabel=plot.LABEL_GW_FREQUENCY_HZ, ylabel='$\\sum_{M,q,z} N$', nrows=2, sharex=True)\n",
    "\n",
    "    xx = fobs_gw_cents\n",
    "    y1 = np.sum(cynum, axis=(0,1,2))\n",
    "    y2 = np.sum(flnum, axis=(0,1,2))\n",
    "    labels = np.array(['number', 'num rounded down'])\n",
    "\n",
    "    for ii,yy in enumerate([y1, y2]):\n",
    "        ax1.plot(xx, yy, label=labels[ii], alpha=0.5)\n",
    "    ax1.legend()\n",
    "    ax1.set_title(vals['hard_name']+', '+str(vals['sam'].shape))\n",
    "\n",
    "\n",
    "    ax2.plot(xx, y2/y1, label='rounded / not rounded')\n",
    "    ax2.legend()\n",
    "\n",
    "    fig.tight_layout()\n",
    "    return fig\n",
    "\n",
    "fig = plot_num_sums(vals_FT20)"
   ]
  },
  {
   "attachments": {},
   "cell_type": "markdown",
   "metadata": {},
   "source": [
    "This confirms that using number function is same, regardless which number we use"
   ]
  },
  {
   "attachments": {},
   "cell_type": "markdown",
   "metadata": {},
   "source": [
    "### Plot hs^2 and hs^4"
   ]
  },
  {
   "cell_type": "code",
   "execution_count": null,
   "metadata": {},
   "outputs": [],
   "source": [
    "def plot_hs2_and_hs4(vals):\n",
    "    hs = vals['hs']\n",
    "    \n",
    "    xx = fobs_gw_cents\n",
    "    fig, axs = plot.figax(ncols=2,figsize=(8.5,3),\n",
    "        xlabel=plot.LABEL_GW_FREQUENCY_HZ, sharex=True)\n",
    "    \n",
    "    draw_hs2_hs4(axs, xx, hs)\n",
    "    axs[0].set_title(vals['hard_name']+', '+str(vals['sam'].shape))\n",
    "\n",
    "    fig.tight_layout()\n",
    "    return fig\n",
    "    \n",
    "\n",
    "def draw_hs2_hs4(axs, xx, hs):\n",
    "    y1 = np.sum(hs**2, axis=(0,1,2))\n",
    "    y2 = np.sum(hs**4, axis=(0,1,2))\n",
    "    labels = np.array(['$\\sum_{M,q,z} h_s^2$', '$\\sum_{M,q,z} h_s^4$'])\n",
    "\n",
    "\n",
    "    for ii, yy in enumerate([y1, y2]):\n",
    "        axs[ii].scatter(xx, yy)\n",
    "        axs[ii].set_ylabel(labels[ii])\n",
    "\n",
    "def plot_numh2_and_numh4(vals):\n",
    "    hs = vals['hs']\n",
    "    cynum = vals['cynum']\n",
    "    flnum = vals['flnum']\n",
    "    \n",
    "    xx = fobs_gw_cents\n",
    "    fig, axs = plot.figax(ncols=2,figsize=(8.5,3),\n",
    "        xlabel=plot.LABEL_GW_FREQUENCY_HZ, sharex=True)\n",
    "\n",
    "    draw_numh2_numh4(axs, xx, hs, cynum, flnum)\n",
    "    axs[0].set_title(vals['hard_name']+', '+str(vals['sam'].shape))\n",
    "    fig.tight_layout()\n",
    "    return fig\n",
    "\n",
    "def draw_numh2_numh4(axs, xx, hs, cynum, flnum):\n",
    "    cy1 = np.sum(hs**2*cynum, axis=(0,1,2))\n",
    "    cy2 = np.sum(hs**4*cynum, axis=(0,1,2))\n",
    "    yy_cy = np.array([cy1, cy2])\n",
    "    fl1 = np.sum(hs**2*flnum, axis=(0,1,2))\n",
    "    fl2 = np.sum(hs**4*flnum, axis=(0,1,2))\n",
    "    yy_fl = np.array([fl1, fl2])\n",
    "    cylabel = 'num'\n",
    "    fllabel = 'rounded'\n",
    "    ylabels = np.array(['$\\sum_{M,q,z} N h_s^2$', '$\\sum_{M,q,z} N h_s^4$'])\n",
    "\n",
    "\n",
    "    for ii, ax in enumerate(axs):\n",
    "        ax.scatter(xx, yy_cy[ii], label=cylabel)\n",
    "        ax.scatter(xx, yy_fl[ii], label=fllabel)\n",
    "        ax.set_ylabel(ylabels[ii])\n",
    "        ax.legend()\n",
    "\n",
    "def plot_h2_h4_numh2_numh4(vals):\n",
    "    hs = vals['hs']\n",
    "    cynum = vals['cynum']\n",
    "    flnum = vals['flnum']\n",
    "    \n",
    "    xx = fobs_gw_cents\n",
    "    fig, axs = plot.figax(ncols=2,nrows=2, figsize=(8.5,4.5),\n",
    "        sharex=True) \n",
    "    for ax in axs[1,:]:\n",
    "        ax.set_xlabel(plot.LABEL_GW_FREQUENCY_HZ)\n",
    "    draw_hs2_hs4(axs[0,:], xx, hs)\n",
    "    draw_numh2_numh4(axs[1,:], xx, hs, cynum, flnum)\n",
    "    axs[0,0].set_title(vals['hard_name']+', '+str(vals['sam'].shape))\n",
    "    \n",
    "    fig.tight_layout()\n",
    "    return fig\n",
    "\n",
    "\n",
    "\n",
    "fig = plot_hs2_and_hs4(vals_FT20)\n",
    "fig = plot_numh2_and_numh4(vals_FT20)\n",
    "fig = plot_h2_h4_numh2_numh4(vals_FT20)\n"
   ]
  },
  {
   "attachments": {},
   "cell_type": "markdown",
   "metadata": {},
   "source": [
    "#### FT, Shape 20"
   ]
  },
  {
   "cell_type": "code",
   "execution_count": null,
   "metadata": {},
   "outputs": [],
   "source": [
    "vals = vals_FT20\n",
    "fig = plot_Cl_analytic_from_num(vals)\n",
    "fig = plot_num_sums(vals)\n",
    "# fig = plot_hs2_and_hs4(vals)\n",
    "# fig = plot_numh2_and_numh4(vals)\n",
    "fig = plot_h2_h4_numh2_numh4(vals)\n"
   ]
  },
  {
   "attachments": {},
   "cell_type": "markdown",
   "metadata": {},
   "source": [
    "#### FT, Shape 40"
   ]
  },
  {
   "cell_type": "code",
   "execution_count": null,
   "metadata": {},
   "outputs": [],
   "source": [
    "sam_40 = holo.sam.Semi_Analytic_Model(shape=40)\n",
    "hard_FT40 = holo.hardening.Fixed_Time_2PL_SAM(sam_40, 3*GYR)\n",
    "vals_FT40 = setup_calculate_all(sam_40, hard_FT40)"
   ]
  },
  {
   "cell_type": "code",
   "execution_count": null,
   "metadata": {},
   "outputs": [],
   "source": [
    "vals = vals_FT40\n",
    "fig = plot_Cl_analytic_from_num(vals)\n",
    "fig = plot_num_sums(vals)\n",
    "# fig = plot_hs2_and_hs4(vals)\n",
    "# fig = plot_numh2_and_numh4(vals)\n",
    "fig = plot_h2_h4_numh2_numh4(vals)"
   ]
  },
  {
   "attachments": {},
   "cell_type": "markdown",
   "metadata": {},
   "source": [
    "#### FT, Shape full"
   ]
  },
  {
   "cell_type": "code",
   "execution_count": null,
   "metadata": {},
   "outputs": [],
   "source": [
    "sam_full = holo.sam.Semi_Analytic_Model()\n",
    "hard_FTfull = holo.hardening.Fixed_Time_2PL_SAM(sam_full, 3*GYR)\n",
    "vals_FTfull = setup_calculate_all(sam_full, hard_FTfull)"
   ]
  },
  {
   "cell_type": "code",
   "execution_count": null,
   "metadata": {},
   "outputs": [],
   "source": [
    "vals = vals_FTfull\n",
    "fig = plot_Cl_analytic_from_num(vals)\n",
    "fig = plot_num_sums(vals)\n",
    "# fig = plot_hs2_and_hs4(vals)\n",
    "# fig = plot_numh2_and_numh4(vals)\n",
    "fig = plot_h2_h4_numh2_numh4(vals)"
   ]
  },
  {
   "attachments": {},
   "cell_type": "markdown",
   "metadata": {},
   "source": [
    "#### GW, Shape 20"
   ]
  },
  {
   "cell_type": "code",
   "execution_count": null,
   "metadata": {},
   "outputs": [],
   "source": [
    "hard_GW = holo.hardening.Hard_GW()\n",
    "vals_GW20 = setup_calculate_all(sam_20, hard_GW)"
   ]
  },
  {
   "cell_type": "code",
   "execution_count": null,
   "metadata": {},
   "outputs": [],
   "source": [
    "vals = vals_GW20\n",
    "fig = plot_Cl_analytic_from_num(vals)\n",
    "fig = plot_num_sums(vals)\n",
    "# fig = plot_hs2_and_hs4(vals)\n",
    "# fig = plot_numh2_and_numh4(vals)\n",
    "fig = plot_h2_h4_numh2_numh4(vals)"
   ]
  },
  {
   "attachments": {},
   "cell_type": "markdown",
   "metadata": {},
   "source": [
    "#### GW, Shape 40"
   ]
  },
  {
   "cell_type": "code",
   "execution_count": null,
   "metadata": {},
   "outputs": [],
   "source": [
    "vals_GW40 = setup_calculate_all(sam_40, hard_GW)"
   ]
  },
  {
   "cell_type": "code",
   "execution_count": null,
   "metadata": {},
   "outputs": [],
   "source": [
    "vals = vals_GW40\n",
    "fig = plot_Cl_analytic_from_num(vals)\n",
    "fig = plot_num_sums(vals)\n",
    "# fig = plot_hs2_and_hs4(vals)\n",
    "# fig = plot_numh2_and_numh4(vals)\n",
    "fig = plot_h2_h4_numh2_numh4(vals)"
   ]
  },
  {
   "attachments": {},
   "cell_type": "markdown",
   "metadata": {},
   "source": [
    "#### GW, Shape full"
   ]
  },
  {
   "cell_type": "code",
   "execution_count": null,
   "metadata": {},
   "outputs": [],
   "source": [
    "vals_GWfull = setup_calculate_all(sam_full, hard_GW)"
   ]
  },
  {
   "cell_type": "code",
   "execution_count": null,
   "metadata": {},
   "outputs": [],
   "source": [
    "vals = vals_GWfull\n",
    "fig = plot_Cl_analytic_from_num(vals)\n",
    "fig = plot_num_sums(vals)\n",
    "# fig = plot_hs2_and_hs4(vals)\n",
    "# fig = plot_numh2_and_numh4(vals)\n",
    "fig = plot_h2_h4_numh2_numh4(vals)"
   ]
  },
  {
   "attachments": {},
   "cell_type": "markdown",
   "metadata": {},
   "source": [
    "## Cl_analytic_from_dnum"
   ]
  },
  {
   "attachments": {},
   "cell_type": "markdown",
   "metadata": {},
   "source": [
    "note that Cl_best does not use the same model as the mockups for Sato-Polito method here!"
   ]
  },
  {
   "cell_type": "code",
   "execution_count": null,
   "metadata": {},
   "outputs": [],
   "source": [
    "\n",
    "C0_dnum = vals_FT20['C0_dnum']\n",
    "Cl_dnum = vals_FT20['Cl_dnum']\n",
    "C0_dnum_reals = vals_FT20['C0_dnum_reals']\n",
    "Cl_dnum_reals = vals_FT20['Cl_dnum_reals']\n",
    "C0_redz = vals_FT20[ 'C0_redz']\n",
    "Cl_redz = vals_FT20['Cl_redz']\n",
    "C0_redz_reals = vals_FT20['C0_redz_reals'] \n",
    "Cl_redz_reals = vals_FT20['Cl_redz_reals']\n",
    "\n",
    "fig = anis.plot_ClC0_versions(fobs_gw_cents)\n",
    "ax = fig.axes[0]\n",
    "\n",
    "anis.draw_analytic(ax, Cl_cynum, C0_cynum, fobs_gw_cents, color='tab:orange', label='cython number', alpha=0.5, lw=4)\n",
    "anis.draw_reals(ax, Cl_cyreals, C0_cyreals, fobs_gw_cents, color='tab:orange', label=None,\n",
    "                show_reals=True, show_median=True, show_ci=True)\n",
    "\n",
    "anis.draw_analytic(ax, Cl_dnum, C0_dnum, fobs_gw_cents, label='dnum, z_init', color='deeppink')\n",
    "anis.draw_reals(ax, Cl_dnum_reals, C0_dnum_reals, fobs_gw_cents, label=None, color='deeppink')\n",
    "\n",
    "anis.draw_analytic(ax, Cl_redz, C0_redz, fobs_gw_cents, label='dnum, z_final', color='indigo')\n",
    "anis.draw_reals(ax, Cl_redz_reals, C0_redz_reals, fobs_gw_cents, label=None, color='indigo')\n",
    "\n",
    "fig.legend(bbox_to_anchor=(0,-0.15), loc='upper left', bbox_transform = ax.transAxes, ncols=4)\n",
    "ax.set_title('Shape=%s, %s' % (str(sam.shape), str(hard_name)), fontsize=14)\n",
    "\n",
    "fig.tight_layout()\n"
   ]
  },
  {
   "attachments": {},
   "cell_type": "markdown",
   "metadata": {},
   "source": [
    "# Compare Models"
   ]
  },
  {
   "cell_type": "code",
   "execution_count": null,
   "metadata": {},
   "outputs": [],
   "source": [
    "sam = holo.sam.Semi_Analytic_Model(shape=10)\n",
    "hard = holo.hardening.Hard_GW()\n",
    "print(sam._density)\n",
    "fobs_orb_cents = fobs_gw_cents/2.0\n",
    "fobs_orb_edges = fobs_gw_edges/2.0\n",
    "redz_final, diff_num = holo.sam_cython.dynamic_binary_number_at_fobs(\n",
    "    fobs_orb_cents, sam, hard, holo.cosmo)\n",
    "print(sam._density.shape)"
   ]
  },
  {
   "cell_type": "code",
   "execution_count": null,
   "metadata": {},
   "outputs": [],
   "source": [
    "def compare_all_analytic_anis(sam, hard):\n",
    "\n",
    "    redz_final, diff_num = holo.sam_cython.dynamic_binary_number_at_fobs(\n",
    "        fobs_orb_cents, sam, hard, holo.cosmo)\n",
    "    edges = [sam.mtot, sam.mrat, sam.redz, fobs_orb_edges]\n",
    "    if isinstance(hard, holo.hardening.Fixed_Time_2PL_SAM):\n",
    "        hard_name = 'Fixed Time'\n",
    "    elif isinstance(hard, holo.hardening.Hard_GW):\n",
    "        hard_name = 'GW Only'\n",
    "\n",
    "    # analytic from cython number\n",
    "    print('calculating analytic from cython number')\n",
    "    hs = holo.gravwaves.strain_amp_from_bin_edges_redz(edges, redz_final)\n",
    "    cynum = holo.sam_cython.integrate_differential_number_3dx1d(edges, diff_num)\n",
    "    C0_cynum, Cl_cynum = anis.Cl_analytic_from_num(fobs_orb_edges, number=cynum, hs=hs)\n",
    "    C0_cyreals, Cl_cyreals = anis.Cl_analytic_from_num(fobs_orb_edges, cynum, hs, realize=20)\n",
    "\n",
    "    # # anayltic from utils number\n",
    "    # utnum = utils._integrate_grid_differential_number(edges, diff_num, freq=False)\n",
    "    # utnum = utnum * np.diff(np.log(fobs_gw_edges))\n",
    "    # C0_utnum, Cl_utnum = anis.Cl_analytic_from_num(fobs_orb_edges, number=utnum, hs=hs)\n",
    "    # C0_utreals, Cl_utreals = anis.Cl_analytic_from_num(fobs_orb_edges, utnum, hs, realize=20)\n",
    "\n",
    "    # anayltic from floor (rounded) number\n",
    "    flnum = np.floor(cynum)\n",
    "    C0_flnum, Cl_flnum = anis.Cl_analytic_from_num(fobs_orb_edges, number=flnum, hs=hs)\n",
    "\n",
    "    # analytic from dnum, zinit\n",
    "    print('calculating analytic from dnum, initial redshift')\n",
    "    C0_init, Cl_init = anis.Cl_analytic_from_dnum(edges, diff_num)\n",
    "    C0_inreals, Cl_inreals = anis.Cl_analytic_from_dnum(edges, diff_num, realize=10)\n",
    "\n",
    "    # analytic from dnum, zfinal\n",
    "    print('calculating analytic from dnum, final redshift')\n",
    "    C0_redz, Cl_redz = anis.Cl_analytic_from_dnum(edges, diff_num, redz_final)\n",
    "    C0_rzreals, Cl_rzreals = anis.Cl_analytic_from_dnum(edges, diff_num, redz_final, realize=10)\n",
    "\n",
    "     # plot everything\n",
    "    print('plotting')\n",
    "    fig = anis.plot_ClC0_versions(fobs_gw_cents)\n",
    "    ax = fig.axes[0]\n",
    "\n",
    "    anis.draw_analytic(ax, Cl_cynum, C0_cynum, fobs_gw_cents, color='tab:orange', label='cython number', lw=4)\n",
    "    anis.draw_reals(ax, Cl_cyreals, C0_cyreals, fobs_gw_cents, color='tab:orange', label=None,\n",
    "                    show_reals=True, show_median=True, show_ci=True)\n",
    "\n",
    "    anis.draw_analytic(ax, Cl_flnum, C0_flnum, fobs_gw_cents, color='tab:red', label='rounded number', lw=4)\n",
    "    # anis.draw_reals(ax, Cl_utreals, C0_utreals, fobs_gw_cents, color='tab:red', label=None,\n",
    "    #                 show_reals=True, show_median=True, show_ci=True)\n",
    "\n",
    "    anis.draw_analytic(ax, Cl_init, C0_init, fobs_gw_cents, label='dnum, z_init', color='deeppink', lw=4)\n",
    "    anis.draw_reals(ax, Cl_inreals, C0_inreals, fobs_gw_cents, label=None, color='deeppink')\n",
    "\n",
    "    anis.draw_analytic(ax, Cl_redz, C0_redz, fobs_gw_cents, label='dnum, z_final', color='indigo', lw=4)\n",
    "    anis.draw_reals(ax, Cl_rzreals, C0_rzreals, fobs_gw_cents, label=None, color='indigo')\n",
    "\n",
    "    fig.legend(bbox_to_anchor=(0,-0.15), loc='upper left', bbox_transform = ax.transAxes, ncols=4)\n",
    "    ax.set_title('%s, %s' % ( str(hard_name), str(sam.shape)), fontsize=12)\n",
    "\n",
    "    fig.tight_layout()\n",
    "\n",
    "\n",
    "    vals = {\n",
    "        'sam':sam, 'hard':hard, 'edges':edges, 'redz_final':redz_final, 'diff_num':diff_num, 'hs':hs,\n",
    "        'cynum':cynum, 'C0_cynum':C0_cynum, 'Cl_cynum':Cl_cynum, 'C0_cyreals':C0_cyreals, 'Cl_cyreals':Cl_cyreals, \n",
    "        'flnum':flnum, 'C0_flnum':C0_flnum, 'Cl_flnum':Cl_flnum,\n",
    "        'C0_init':C0_init, 'Cl_init':Cl_init, 'C0_inreals':C0_inreals, 'Cl_inreals':Cl_inreals,\n",
    "        'C0_redz':C0_redz, 'Cl_redz':Cl_redz, 'C0_rzreals':C0_rzreals, 'Cl_rzreals':Cl_rzreals,\n",
    "\n",
    "    }\n",
    "    return fig, vals"
   ]
  },
  {
   "attachments": {},
   "cell_type": "markdown",
   "metadata": {},
   "source": [
    "#### FT, Shape 20"
   ]
  },
  {
   "cell_type": "code",
   "execution_count": null,
   "metadata": {},
   "outputs": [],
   "source": [
    "fig, vals = compare_all_analytic_anis(sam_20, hard_FT20)"
   ]
  },
  {
   "attachments": {},
   "cell_type": "markdown",
   "metadata": {},
   "source": [
    "#### FT, Shape 40"
   ]
  },
  {
   "cell_type": "code",
   "execution_count": null,
   "metadata": {},
   "outputs": [],
   "source": [
    "fig, vals = compare_all_analytic_anis(sam_40, hard_FT40)"
   ]
  },
  {
   "attachments": {},
   "cell_type": "markdown",
   "metadata": {},
   "source": [
    "#### FT, Shape full"
   ]
  },
  {
   "cell_type": "code",
   "execution_count": null,
   "metadata": {},
   "outputs": [],
   "source": [
    "fig, vals = compare_all_analytic_anis(sam_full, hard_FTfull)"
   ]
  },
  {
   "attachments": {},
   "cell_type": "markdown",
   "metadata": {},
   "source": [
    "#### GW, Shape 20"
   ]
  },
  {
   "cell_type": "code",
   "execution_count": null,
   "metadata": {},
   "outputs": [],
   "source": [
    "fig, vals = compare_all_analytic_anis(sam_20, hard_GW)"
   ]
  },
  {
   "attachments": {},
   "cell_type": "markdown",
   "metadata": {},
   "source": [
    "#### GW, Shape 40"
   ]
  },
  {
   "cell_type": "code",
   "execution_count": null,
   "metadata": {},
   "outputs": [],
   "source": [
    "fig, vals = compare_all_analytic_anis(sam_40, hard_GW)"
   ]
  },
  {
   "attachments": {},
   "cell_type": "markdown",
   "metadata": {},
   "source": [
    "#### GW, Shape full"
   ]
  },
  {
   "cell_type": "code",
   "execution_count": null,
   "metadata": {},
   "outputs": [],
   "source": [
    "fig, vals = compare_all_analytic_anis(sam_full, hard_GW)"
   ]
  },
  {
   "attachments": {},
   "cell_type": "markdown",
   "metadata": {},
   "source": [
    "# Remaining Questions\n",
    "\n",
    "Why is np.random(number) * hs^2 from  Cl_analytic_from_num different from np.random(integral(dnum)) * hs^2 in Cl_analytic_from_dnum?\n",
    "\n",
    "Because, in Cl_analytic_from_num we take np.random after multiplying by d/dlnf, whereas in Cl_analytic_from_dnum, we are doing an extra *dif(log(fobs)) that we shouldn't be doing!!"
   ]
  },
  {
   "cell_type": "code",
   "execution_count": null,
   "metadata": {},
   "outputs": [],
   "source": []
  }
 ],
 "metadata": {
  "kernelspec": {
   "display_name": "holo310",
   "language": "python",
   "name": "python3"
  },
  "language_info": {
   "codemirror_mode": {
    "name": "ipython",
    "version": 3
   },
   "file_extension": ".py",
   "mimetype": "text/x-python",
   "name": "python",
   "nbconvert_exporter": "python",
   "pygments_lexer": "ipython3",
   "version": "3.10.10"
  }
 },
 "nbformat": 4,
 "nbformat_minor": 2
}
