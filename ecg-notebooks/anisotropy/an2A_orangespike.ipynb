{
 "cells": [
  {
   "cell_type": "code",
   "execution_count": null,
   "metadata": {},
   "outputs": [],
   "source": [
    "%reload_ext autoreload\n",
    "%autoreload 2\n",
    "from importlib import reload\n",
    "\n",
    "import holodeck as holo\n",
    "import holodeck.anisotropy as anis\n",
    "from holodeck.constants import YR, MSOL, GYR\n",
    "from holodeck import utils\n",
    "\n",
    "import matplotlib.pyplot as plt\n",
    "import matplotlib.cm as cm\n",
    "import numpy as np"
   ]
  },
  {
   "attachments": {},
   "cell_type": "markdown",
   "metadata": {},
   "source": [
    "* dens = d^3 n / [dlog10M dq dz] in units of [Mpc^-3] \n",
    "* dnum = d^4N / dlog10M dq dz dlnf\n",
    "* number = dN /dlnf"
   ]
  },
  {
   "attachments": {},
   "cell_type": "markdown",
   "metadata": {},
   "source": [
    "# Functions"
   ]
  },
  {
   "attachments": {},
   "cell_type": "markdown",
   "metadata": {},
   "source": [
    "sam_model()"
   ]
  },
  {
   "cell_type": "code",
   "execution_count": null,
   "metadata": {},
   "outputs": [],
   "source": [
    "def sam_model(sam, hard,\n",
    "        dur=16.03*YR, cad=0.2*YR, use_redz=True):\n",
    "    fobs_gw_cents = utils.nyquist_freqs(dur,cad)\n",
    "    fobs_gw_edges = utils.nyquist_freqs_edges(dur,cad)\n",
    "    fobs_orb_cents = fobs_gw_cents/2.0\n",
    "    fobs_orb_edges = fobs_gw_edges/2.0\n",
    "\n",
    "    if isinstance(hard, holo.hardening.Fixed_Time_2PL_SAM):\n",
    "        hard_name = 'Fixed Time'\n",
    "    elif isinstance(hard, holo.hardening.Hard_GW):\n",
    "        hard_name = 'GW Only'\n",
    "    else:\n",
    "        raise Exception(\"'hard' must be an instance of 'Fixed_Time_2PL_SAM' or 'Hard_GW'\")\n",
    "\n",
    "    redz_final, diff_num = holo.sam_cython.dynamic_binary_number_at_fobs(\n",
    "        fobs_orb_cents, sam, hard, holo.cosmo)\n",
    "    edges = [sam.mtot, sam.mrat, sam.redz, fobs_orb_edges]\n",
    "    number = holo.sam_cython.integrate_differential_number_3dx1d(edges, diff_num)\n",
    "    if use_redz:\n",
    "        hs_cents = anis.strain_amp_at_bin_centers_redz(edges, redz_final)\n",
    "        hs_edges = anis.strain_amp_at_bin_edges_redz(edges, redz_final)\n",
    "    else:\n",
    "        hs_cents = anis.strain_amp_at_bin_centers_redz(edges)\n",
    "        hs_edges = anis.strain_amp_at_bin_edges_redz(edges)\n",
    "\n",
    "    vals = {\n",
    "        'hard':hard, 'sam':sam, 'edges':edges, 'number': number, 'diff_num':diff_num, 'redz_final':redz_final,\n",
    "        'hs_cents':hs_cents, 'hs_edges':hs_edges, 'fobs_gw_cents':fobs_gw_cents, 'fobs_gw_edges':fobs_gw_edges, \n",
    "        'fobs_orb_cents':fobs_orb_cents, 'fobs_orb_edges':fobs_orb_edges, 'hard_name':hard_name\n",
    "    }\n",
    "    return vals\n",
    "\n",
    "def integrate_mm(dnum, edges): # integrate dN/dlogM\n",
    "    num = utils.trapz(dnum, np.log10(edges[0]), axis=0, cumsum=False)\n",
    "    return num\n",
    "def integrate_qq(dnum, edges): # integrate dN/dq\n",
    "    num = utils.trapz(dnum, edges[1], axis=1, cumsum=False)\n",
    "    return num\n",
    "def integrate_zz(dnum, edges): # dN/dz\n",
    "    num = utils.trapz(dnum, edges[2], axis=2, cumsum=False)\n",
    "    return num\n",
    "def integrate_ff(dnum, fobs_gw_edges): # dN/dlogn\n",
    "    num = dnum*np.diff(np.log(fobs_gw_edges))\n",
    "    return num "
   ]
  },
  {
   "attachments": {},
   "cell_type": "markdown",
   "metadata": {},
   "source": [
    "plot_dnum_dpar() vs each edge parameter"
   ]
  },
  {
   "cell_type": "code",
   "execution_count": null,
   "metadata": {},
   "outputs": [],
   "source": [
    "def plot_dnum_dpar(vals, mm_arr, qq_arr, zz_arr, ff_arr):\n",
    "    fig, axs = holo.plot.figax(\n",
    "        xlabel='edge parameters',\n",
    "        ylabel='$dN/d(\\mathrm{edge parameter})$',\n",
    "        ncols=3, figsize=(18,5),\n",
    "        sharey=True\n",
    "    )\n",
    "\n",
    "    edges_mm = vals['edges'][0]\n",
    "    cents_mm = utils.midpoints(edges_mm, log=True)\n",
    "    edges_qq = vals['edges'][1]\n",
    "    cents_qq = utils.midpoints(edges_qq, log=True)\n",
    "    edges_zz = vals['edges'][2]\n",
    "    cents_zz = utils.midpoints(edges_zz, log=True)\n",
    "    fobs_gw_edges = vals['fobs_gw_edges']\n",
    "    fobs_gw_cents = vals['fobs_gw_cents']\n",
    "\n",
    "    diff_num = vals['diff_num']\n",
    "    edges = vals['edges']\n",
    "    fobs_gw_edges = vals['fobs_gw_edges']\n",
    "    fobs_gw_cents = vals['fobs_gw_cents']\n",
    "    dnum_mm = integrate_ff(integrate_zz(integrate_qq(diff_num, edges), edges), fobs_gw_edges)\n",
    "    dnum_qq = integrate_ff(integrate_zz(integrate_mm(diff_num, edges), edges), fobs_gw_edges)\n",
    "    dnum_zz = integrate_ff(integrate_qq(integrate_mm(diff_num, edges), edges), fobs_gw_edges)\n",
    "    xlabels = np.array(['M ($M_\\odot$)', 'q', 'z'])\n",
    "    ylabels = np.array(['$dN/d\\log (M)$', '$dN/dq$', '$dN/dz$'])\n",
    "\n",
    "    xx = np.array([edges_mm/MSOL, edges_qq, edges_zz])\n",
    "\n",
    "    for mm in mm_arr:\n",
    "        for qq in qq_arr:\n",
    "            for zz in zz_arr:\n",
    "                for ff in ff_arr:\n",
    "                    yy = np.array([dnum_mm[:,qq,zz,ff], dnum_qq[mm,:,zz,ff], dnum_zz[mm,qq,:,ff]])\n",
    "                    labels = np.array(['$q=%.2f$, $z=%.2f$, $f=%.2f$/yr' % (cents_qq[qq], cents_zz[zz], fobs_gw_cents[ff]*YR),\n",
    "                                    '$M=%.2e\\ M_\\odot$, $z=%.2f$, $f=%.2f$/yr' % (cents_mm[mm]/MSOL, cents_zz[zz], fobs_gw_cents[ff]*YR),\n",
    "                                    '$M=%.2e\\ M_\\odot$, $q=%.2f$, $f=%.2f$/yr' % (cents_mm[mm]/MSOL, cents_qq[qq],  fobs_gw_cents[ff]*YR),])\n",
    "                    for ii, ax in enumerate(axs):\n",
    "                        ax.plot(xx[ii], yy[ii], label=labels[ii], alpha=0.75, \n",
    "                                )\n",
    "    for ii, ax in enumerate(axs):             \n",
    "        ax.set_xlabel(xlabels[ii])\n",
    "        ax.set_ylabel(ylabels[ii])\n",
    "        ax.legend(loc='upper right')\n",
    "\n",
    "    fig.suptitle('%s, %s' % (str(vals['hard_name']), str(vals['sam'].shape)))\n",
    "    fig.tight_layout\n",
    "    return fig"
   ]
  },
  {
   "attachments": {},
   "cell_type": "markdown",
   "metadata": {},
   "source": [
    "plot_number() by cython, utils, trapz, and rounding down"
   ]
  },
  {
   "cell_type": "code",
   "execution_count": null,
   "metadata": {},
   "outputs": [],
   "source": [
    "def plot_number(vals, mm_arr, qq_arr, zz_arr, ff_arr):\n",
    "    diff_num = vals['diff_num']\n",
    "    edges = vals['edges']\n",
    "    fobs_gw_edges = vals['fobs_gw_edges']\n",
    "    fobs_gw_cents = vals['fobs_gw_cents']\n",
    "    edges_mm = vals['edges'][0]\n",
    "    cents_mm = utils.midpoints(edges_mm, log=True)\n",
    "    edges_qq = vals['edges'][1]\n",
    "    cents_qq = utils.midpoints(edges_qq, log=True)\n",
    "    edges_zz = vals['edges'][2]\n",
    "    cents_zz = utils.midpoints(edges_zz, log=True)\n",
    "    dnum_zz = integrate_ff(integrate_qq(integrate_mm(diff_num, edges), edges), fobs_gw_edges)\n",
    "\n",
    "    cynum = vals['number']\n",
    "    tznum = integrate_zz(dnum_zz, edges)\n",
    "    utnum = utils._integrate_grid_differential_number(edges, diff_num, freq=False)\n",
    "    utnum = utnum * np.diff(np.log(fobs_gw_edges))\n",
    "\n",
    "    flnum = np.floor(cynum)\n",
    "\n",
    "    fig, axs = holo.plot.figax(\n",
    "        xlabel='edge parameters',\n",
    "        ylabel='$dN/d(\\mathrm{edge parameter})$',\n",
    "        ncols=3, figsize=(16,5),\n",
    "        sharey=True\n",
    "    )\n",
    "    xlabels = np.array(['M ($M_\\odot$)', 'q', 'z'])\n",
    "    ylabels = np.array(['$N (M)$', '$N(q)$', '$N(z)$'])\n",
    "\n",
    "    xx = np.array([cents_mm/MSOL, cents_qq, cents_zz])\n",
    "    for mm in mm_arr:\n",
    "        for qq in qq_arr:\n",
    "            for zz in zz_arr:\n",
    "                for ff in ff_arr:\n",
    "   \n",
    "                    yy_cyth = np.array([cynum[:,qq,zz,ff], cynum[mm,:,zz,ff], cynum[mm,qq,:,ff]])\n",
    "                    yy_trap = np.array([tznum[:,qq,zz,ff], tznum[mm,:,zz,ff], tznum[mm,qq,:,ff]])\n",
    "                    yy_util = np.array([utnum[:,qq,zz,ff], utnum[mm,:,zz,ff], utnum[mm,qq,:,ff]])\n",
    "                    yy_flor = np.array([flnum[:,qq,zz,ff], flnum[mm,:,zz,ff], flnum[mm,qq,:,ff]])\n",
    "                    labels = np.array(['$q=%.2f$, $z=%.2f$, $f=%.2f$/yr' % (cents_qq[qq], cents_zz[zz], fobs_gw_cents[ff]*YR),\n",
    "                                    '$M=%.2e\\ M_\\odot$, $z=%.2f$, $f=%.2f$/yr' % (cents_mm[mm]/MSOL, cents_zz[zz], fobs_gw_cents[ff]*YR),\n",
    "                                    '$M=%.2e\\ M_\\odot$, $q=%.2f$, $f=%.2f$/yr' % (cents_mm[mm]/MSOL, cents_qq[qq],  fobs_gw_cents[ff]*YR),])\n",
    "\n",
    "                    for ii, ax in enumerate(axs):\n",
    "                        ax.plot(xx[ii], yy_cyth[ii], label=labels[ii]+' cython', linestyle='-', alpha=0.75 \n",
    "                                )\n",
    "                        ax.plot(xx[ii], yy_trap[ii], label=labels[ii]+' trapz', linestyle='--', alpha=0.75 \n",
    "                                )\n",
    "                        ax.plot(xx[ii], yy_util[ii], label=labels[ii]+' utils', linestyle=':', alpha=0.75 \n",
    "                                )\n",
    "                        ax.plot(xx[ii], yy_flor[ii], label=labels[ii]+' floor', linestyle='-.', alpha=0.75 \n",
    "                                )\n",
    "    for ii, ax in enumerate(axs):\n",
    "        ax.set_xlabel(xlabels[ii])\n",
    "        ax.set_ylabel(ylabels[ii])\n",
    "        ax.legend()\n",
    "\n",
    "    fig.suptitle('%s, %s' % (str(vals['hard_name']), str(vals['sam'].shape)))\n",
    "    fig.tight_layout\n",
    "    return fig"
   ]
  },
  {
   "attachments": {},
   "cell_type": "markdown",
   "metadata": {},
   "source": [
    "plot_strain_amp() for initial and final z"
   ]
  },
  {
   "cell_type": "code",
   "execution_count": null,
   "metadata": {},
   "outputs": [],
   "source": [
    "def plot_strain_amp(vals, mm_arr, qq_arr, zz_arr, ff_arr):\n",
    "    # dnum = vals['diff_num']\n",
    "    edges = vals['edges']\n",
    "    edges_mm = vals['edges'][0]\n",
    "    cents_mm = utils.midpoints(edges_mm, log=True)\n",
    "    edges_qq = vals['edges'][1]\n",
    "    cents_qq = utils.midpoints(edges_qq, log=True)\n",
    "    edges_zz = vals['edges'][2]\n",
    "    cents_zz = utils.midpoints(edges_zz, log=True)\n",
    "\n",
    "\n",
    "    hs_final = anis.strain_amp_at_bin_centers_redz(edges, vals['redz_final'])\n",
    "    hs_initz = anis.strain_amp_at_bin_centers_redz(edges, redz=None)\n",
    "    print(holo.utils.stats(hs_final/hs_initz))\n",
    "\n",
    "    fig, axs = holo.plot.figax(\n",
    "        xlabel='edge parameters',\n",
    "        ylabel='$dN/d(\\mathrm{edge parameter})$',\n",
    "        ncols=3, figsize=(16,5),\n",
    "        sharey=True\n",
    "    )\n",
    "\n",
    "    xx = np.array([cents_mm/MSOL, cents_qq, cents_zz])\n",
    "    xlabels = np.array(['M ($M_\\odot$)', 'q', 'z'])\n",
    "    ylabels = np.array(['$h_s (M)$', '$h_s(q)$', '$h_s(z)$'])\n",
    "\n",
    "    for mm in mm_arr:\n",
    "        for qq in qq_arr:\n",
    "            for zz in zz_arr:\n",
    "                for ff in ff_arr:\n",
    "                    yy_initz = np.array([hs_initz[:,qq,zz,ff], hs_initz[mm,:,zz,ff], hs_initz[mm,qq,:,ff]])\n",
    "                    yy_final = np.array([hs_final[:,qq,zz,ff], hs_final[mm,:,zz,ff], hs_final[mm,qq,:,ff]])\n",
    "                    labels = np.array(['$q=%.2f$, $z=%.2f$, $f=%.2f$/yr' % (cents_qq[qq], cents_zz[zz], fobs_gw_cents[ff]*YR),\n",
    "                                    '$M=%.2e\\ M_\\odot$, $z=%.2f$, $f=%.2f$/yr' % (cents_mm[mm]/MSOL, cents_zz[zz], fobs_gw_cents[ff]*YR),\n",
    "                                    '$M=%.2e\\ M_\\odot$, $q=%.2f$, $f=%.2f$/yr' % (cents_mm[mm]/MSOL, cents_qq[qq],  fobs_gw_cents[ff]*YR),])\n",
    "\n",
    "                    for ii, ax in enumerate(axs):\n",
    "                        ax.plot(xx[ii], yy_initz[ii], label=labels[ii]+' initial z', linestyle='--', alpha=0.75 \n",
    "                                )\n",
    "                        ax.plot(xx[ii], yy_final[ii], label=labels[ii]+' final z', linestyle='-', alpha=0.75 \n",
    "                                )\n",
    "    for ii, ax in enumerate(axs):\n",
    "        ax.set_xlabel(xlabels[ii])\n",
    "        ax.set_ylabel(ylabels[ii])\n",
    "        ax.legend()\n",
    "\n",
    "    fig.suptitle('%s, %s' % (str(vals['hard_name']), str(vals['sam'].shape)))\n",
    "    fig.tight_layout\n",
    "    return fig"
   ]
  },
  {
   "attachments": {},
   "cell_type": "markdown",
   "metadata": {},
   "source": [
    "plot_number_times_h2()"
   ]
  },
  {
   "cell_type": "code",
   "execution_count": null,
   "metadata": {},
   "outputs": [],
   "source": [
    "def plot_number_times_h2(vals, mm_arr, qq_arr, zz_arr, ff_arr):\n",
    "    diff_num = vals['diff_num']\n",
    "    edges = vals['edges']\n",
    "    edges_mm = vals['edges'][0]\n",
    "    cents_mm = utils.midpoints(edges_mm, log=True)\n",
    "    edges_qq = vals['edges'][1]\n",
    "    cents_qq = utils.midpoints(edges_qq, log=True)\n",
    "    edges_zz = vals['edges'][2]\n",
    "    cents_zz = utils.midpoints(edges_zz, log=True)\n",
    "    dnum_zz = integrate_ff(integrate_qq(integrate_mm(diff_num, edges), edges), fobs_gw_edges)\n",
    "    hs_cents = vals['hs_cents']\n",
    "    fobs_gw_edges = vals['fobs_gw_edges']\n",
    "    fobs_gw_cents = vals['fobs_gw_cents']\n",
    "\n",
    "    cynum = vals['number']*hs_cents**2\n",
    "    tznum = integrate_zz(dnum_zz, edges)*hs_cents**2\n",
    "    utnum = utils._integrate_grid_differential_number(edges, diff_num, freq=False)\n",
    "    utnum = utnum * np.diff(np.log(fobs_gw_edges))*hs_cents**2\n",
    "\n",
    "    fig, axs = holo.plot.figax(\n",
    "        xlabel='edge parameters',\n",
    "        ylabel='$dN/d(\\mathrm{edge parameter})$',\n",
    "        ncols=3, figsize=(16,5),\n",
    "        sharey=True\n",
    "    )\n",
    "    xlabels = np.array(['M ($M_\\odot$)', 'q', 'z'])\n",
    "    ylabels = np.array([r'$N (M)\\times h_s^2$', r'$N(q)\\times h_s^2$', r'$N(z)\\times h_s^2$'])\n",
    "\n",
    "    xx = np.array([cents_mm/MSOL, cents_qq, cents_zz])\n",
    "    for mm in mm_arr:\n",
    "        for qq in qq_arr:\n",
    "            for zz in zz_arr:\n",
    "                for ff in ff_arr:\n",
    "   \n",
    "                    yy_cyth = np.array([cynum[:,qq,zz,ff], cynum[mm,:,zz,ff], cynum[mm,qq,:,ff]])\n",
    "                    yy_trap = np.array([tznum[:,qq,zz,ff], tznum[mm,:,zz,ff], tznum[mm,qq,:,ff]])\n",
    "                    yy_util = np.array([utnum[:,qq,zz,ff], utnum[mm,:,zz,ff], utnum[mm,qq,:,ff]])\n",
    "                    labels = np.array(['$q=%.2f$, $z=%.2f$, $f=%.2f$/yr' % (cents_qq[qq], cents_zz[zz], fobs_gw_cents[ff]*YR),\n",
    "                                    '$M=%.2e\\ M_\\odot$, $z=%.2f$, $f=%.2f$/yr' % (cents_mm[mm]/MSOL, cents_zz[zz], fobs_gw_cents[ff]*YR),\n",
    "                                    '$M=%.2e\\ M_\\odot$, $q=%.2f$, $f=%.2f$/yr' % (cents_mm[mm]/MSOL, cents_qq[qq],  fobs_gw_cents[ff]*YR),])\n",
    "\n",
    "                    for ii, ax in enumerate(axs):\n",
    "                        ax.plot(xx[ii], yy_cyth[ii], label=labels[ii]+' cython', linestyle='-', alpha=0.75 \n",
    "                                )\n",
    "                        ax.plot(xx[ii], yy_trap[ii], label=labels[ii]+' trapz', linestyle='--', alpha=0.75 \n",
    "                                )\n",
    "                        ax.plot(xx[ii], yy_util[ii], label=labels[ii]+' utils', linestyle=':', alpha=0.75 \n",
    "                                )\n",
    "    for ii, ax in enumerate(axs):\n",
    "        ax.set_xlabel(xlabels[ii])\n",
    "        ax.set_ylabel(ylabels[ii])\n",
    "        ax.legend()\n",
    "\n",
    "    fig.suptitle('%s, %s' % (str(vals['hard_name']), str(vals['sam'].shape)))\n",
    "    fig.tight_layout\n",
    "    return fig"
   ]
  },
  {
   "attachments": {},
   "cell_type": "markdown",
   "metadata": {},
   "source": [
    "plot_integrated()"
   ]
  },
  {
   "cell_type": "code",
   "execution_count": null,
   "metadata": {},
   "outputs": [],
   "source": [
    "def plot_integrated(vals, mm_arr, qq_arr, zz_arr, ff_arr):\n",
    "    diff_num = vals['diff_num']\n",
    "    edges = vals['edges']\n",
    "    edges_mm = vals['edges'][0]\n",
    "    cents_mm = utils.midpoints(edges_mm, log=True)\n",
    "    edges_qq = vals['edges'][1]\n",
    "    cents_qq = utils.midpoints(edges_qq, log=True)\n",
    "    edges_zz = vals['edges'][2]\n",
    "    cents_zz = utils.midpoints(edges_zz, log=True)\n",
    "\n",
    "    hs_cents = vals['hs_cents']\n",
    "    hs_edges = vals['hs_edges']\n",
    "    fobs_gw_edges = vals['fobs_gw_edges']\n",
    "\n",
    "    dnum_mm = integrate_ff(integrate_zz(integrate_qq(diff_num, edges), edges),  fobs_gw_edges)\n",
    "    numh2_mm = integrate_mm(dnum_mm* \n",
    "                            utils.midpoints_multiax(hs_edges, axis=(1,2), log=True)**2, edges)\n",
    "    numh4_mm = integrate_mm(dnum_mm* \n",
    "                            utils.midpoints_multiax(hs_edges, axis=(1,2), log=True)**4, edges)\n",
    "    # print('dnum_mm:', dnum_mm.shape, 'numh2_mm:', numh2_mm.shape)\n",
    "\n",
    "    dnum_qq = integrate_ff(integrate_zz(integrate_mm(diff_num, edges), edges),  fobs_gw_edges)\n",
    "    # print('dnum_qq:', dnum_qq.shape)\n",
    "    print((dnum_qq* utils.midpoints_multiax(hs_edges, axis=(0,2), log=True)**2).shape)\n",
    "    numh2_qq = integrate_qq(dnum_qq*\n",
    "                            utils.midpoints_multiax(hs_edges, axis=(0,2), log=True)**2, edges)\n",
    "    numh4_qq = integrate_qq(dnum_qq*\n",
    "                            utils.midpoints_multiax(hs_edges, axis=(0,2), log=True)**4, edges)\n",
    "    \n",
    "    dnum_zz = integrate_ff(integrate_qq(integrate_mm(diff_num, edges), edges),  fobs_gw_edges)\n",
    "    numh2_zz = integrate_zz(dnum_zz*\n",
    "                            utils.midpoints_multiax(hs_edges, axis=(0,1), log=True)**2, edges)\n",
    "    numh4_zz = integrate_zz(dnum_zz*\n",
    "                            utils.midpoints_multiax(hs_edges, axis=(0,1), log=True)**4, edges)\n",
    "\n",
    "    xlabels = np.array(['M ($M_\\odot$)', 'q', 'z'])\n",
    "    ylabels_h2 = np.array(['$\\int h_s^2 dN/d\\log (M)$', '$\\int h_s^2 dN/dq$', '$\\int h_s^2 dN/dz$'])\n",
    "    ylabels_h4 = np.array(['$\\int h_s^4 dN/d\\log (M)$', '$\\int h_s^4 dN/dq$', '$\\int h_s^4 dN/dz$'])\n",
    "\n",
    "    cynum = vals['number']\n",
    "    numh2_cy = cynum*hs_cents**2\n",
    "    numh4_cy = cynum*hs_cents**4\n",
    "\n",
    "\n",
    "    flnum = np.floor(cynum)\n",
    "    numh2_fl = flnum*hs_cents**2\n",
    "    numh4_fl = flnum*hs_cents**4\n",
    "    # tznum = integrate_zz(dnum_zz, edges)\n",
    "    # utnum = utils._integrate_grid_differential_number(edges, diff_num, freq=False)\n",
    "    # utnum = utnum * np.diff(np.log(fobs_gw_edges))\n",
    "\n",
    "    xx = np.array([cents_mm/MSOL, cents_qq, cents_zz])\n",
    "\n",
    "    fig, axs = holo.plot.figax(\n",
    "        nrows=2, ncols=3, figsize=(16,8))\n",
    "\n",
    "\n",
    "    for mm in mm_arr:\n",
    "        for qq in qq_arr:\n",
    "            for zz in zz_arr:\n",
    "                for ff in ff_arr:\n",
    "                    yy_h2 = np.array([numh2_mm[:,qq,zz,ff], numh2_qq[mm,:,zz,ff], numh2_zz[mm,qq,:,ff]])\n",
    "                    yy_h4 = np.array([numh4_mm[:,qq,zz,ff], numh4_qq[mm,:,zz,ff], numh4_zz[mm,qq,:,ff]])\n",
    "                    cy_h2 = np.array([numh2_cy[:,qq,zz,ff], numh2_cy[mm,:,zz,ff], numh2_cy[mm,qq,:,ff]])\n",
    "                    cy_h4 = np.array([numh4_cy[:,qq,zz,ff], numh4_cy[mm,:,zz,ff], numh4_cy[mm,qq,:,ff]])\n",
    "                    fl_h2 = np.array([numh2_fl[:,qq,zz,ff], numh2_fl[mm,:,zz,ff], numh2_fl[mm,qq,:,ff]])\n",
    "                    fl_h4 = np.array([numh4_fl[:,qq,zz,ff], numh4_fl[mm,:,zz,ff], numh4_fl[mm,qq,:,ff]])\n",
    "                    labels = np.array(['$q=%.2f$, $z=%.2f$, $f=%.2f$/yr' % (cents_qq[qq], cents_zz[zz], fobs_gw_cents[ff]*YR),\n",
    "                                    '$M=%.2e\\ M_\\odot$, $z=%.2f$, $f=%.2f$/yr' % (cents_mm[mm]/MSOL, cents_zz[zz], fobs_gw_cents[ff]*YR),\n",
    "                                    '$M=%.2e\\ M_\\odot$, $q=%.2f$, $f=%.2f$/yr' % (cents_mm[mm]/MSOL, cents_qq[qq],  fobs_gw_cents[ff]*YR),])\n",
    "\n",
    "                    for ii, ax in enumerate(axs[0,:]): # h2\n",
    "                        if ii==0 and mm==mm_arr[0] and qq==qq_arr[0] and zz==zz_arr[0] and ff==ff_arr[0]:\n",
    "                            cylabel=r'$h_s^2 \\times$ cynum'\n",
    "                            fllabel=r'$h_s^2 \\times$ flnum'\n",
    "                        else: \n",
    "                            cylabel=None\n",
    "                            fllabel=None\n",
    "                        ll, = ax.plot(xx[ii], cy_h2[ii], label=cylabel, linestyle='-', alpha=0.35, lw=4)\n",
    "                        cc = ll.get_color()\n",
    "                        ax.plot(xx[ii], fl_h2[ii], label=fllabel, linestyle='-', alpha=0.65, color=cc, lw=2)\n",
    "                        ax.plot(xx[ii], yy_h2[ii], label=labels[ii], linestyle='--', alpha=0.75, color=cc, lw=1)\n",
    "                    for ii, ax in enumerate(axs[1,:]): # h4\n",
    "                        if ii==0 and mm==mm_arr[0] and qq==qq_arr[0] and zz==zz_arr[0] and ff==ff_arr[0]:\n",
    "                            cylabel=r'$h_s^2 \\times$ cynum'\n",
    "                            fllabel=r'$h_s^2 \\times$ flnum'\n",
    "                        else: \n",
    "                            cylabel=None\n",
    "                            fllabel=None\n",
    "                        # ll, = ax.plot(xx[ii], cy_h4[ii], label=cylabel, linestyle='-', alpha=0.5, lw=3)\n",
    "                        ll = ax.scatter(xx[ii], cy_h4[ii], label=cylabel, marker='o', alpha=0.35, lw=3, s=10)\n",
    "                        # cc = ll.get_color()\n",
    "                        # ax.plot(xx[ii], yy_h4[ii], label=labels[ii], linestyle='x', alpha=0.75, color=cc )\n",
    "                        cc = ll.get_facecolors()\n",
    "                        ax.scatter(xx[ii], fl_h4[ii], label=fllabel, marker='+', alpha=0.65, color=cc)\n",
    "                        ax.scatter(xx[ii], yy_h4[ii], label=labels[ii], marker='x', alpha=0.75, color=cc )\n",
    "                        \n",
    "                        \n",
    "\n",
    "    for ii, ax in enumerate(axs[0,:]):\n",
    "        ax.set_ylabel(ylabels_h2[ii])\n",
    "        # if ii>0: ax.sharey(axs[0,0])\n",
    "        ax.legend(fontsize=8)\n",
    "    for ii, ax in enumerate(axs[1,:]):\n",
    "        ax.set_ylabel(ylabels_h4[ii])\n",
    "        ax.set_xlabel(xlabels[ii])\n",
    "        # if ii>0: ax.sharey(axs[1,0])\n",
    "        ax.sharex(axs[0,ii])\n",
    "        ax.legend(fontsize=8)\n",
    "\n",
    "    fig.suptitle('%s, %s' % (str(vals['hard_name']), str(vals['sam'].shape)))\n",
    "    fig.tight_layout()\n",
    "    return fig"
   ]
  },
  {
   "attachments": {},
   "cell_type": "markdown",
   "metadata": {},
   "source": [
    "plot_integrated_vary()"
   ]
  },
  {
   "cell_type": "code",
   "execution_count": null,
   "metadata": {},
   "outputs": [],
   "source": [
    "def calc_integrated(vals):\n",
    "    diff_num = vals['diff_num']\n",
    "    edges = vals['edges']\n",
    "    edges_mm = vals['edges'][0]\n",
    "    cents_mm = utils.midpoints(edges_mm, log=True)\n",
    "    edges_qq = vals['edges'][1]\n",
    "    cents_qq = utils.midpoints(edges_qq, log=True)\n",
    "    edges_zz = vals['edges'][2]\n",
    "    cents_zz = utils.midpoints(edges_zz, log=True)\n",
    "    fobs_gw_edges = vals['fobs_gw_edges']\n",
    "\n",
    "    hs_cents = vals['hs_cents']\n",
    "    hs_edges = vals['hs_edges']\n",
    "\n",
    "    dnum_mm = integrate_ff(integrate_zz(integrate_qq(diff_num, edges), edges),  fobs_gw_edges)\n",
    "    numh2_mm = integrate_mm(dnum_mm* \n",
    "                            utils.midpoints_multiax(hs_edges, axis=(1,2), log=True)**2, edges)\n",
    "    numh4_mm = integrate_mm(dnum_mm* \n",
    "                            utils.midpoints_multiax(hs_edges, axis=(1,2), log=True)**4, edges)\n",
    "    # print('dnum_mm:', dnum_mm.shape, 'numh2_mm:', numh2_mm.shape)\n",
    "\n",
    "    dnum_qq = integrate_ff(integrate_zz(integrate_mm(diff_num, edges), edges),  fobs_gw_edges)\n",
    "    # print('dnum_qq:', dnum_qq.shape)\n",
    "    # print((dnum_qq* utils.midpoints_multiax(hs_edges, axis=(0,2), log=True)**2).shape)\n",
    "    numh2_qq = integrate_qq(dnum_qq*\n",
    "                            utils.midpoints_multiax(hs_edges, axis=(0,2), log=True)**2, edges)\n",
    "    numh4_qq = integrate_qq(dnum_qq*\n",
    "                            utils.midpoints_multiax(hs_edges, axis=(0,2), log=True)**4, edges)\n",
    "    \n",
    "    dnum_zz = integrate_ff(integrate_qq(integrate_mm(diff_num, edges), edges),  fobs_gw_edges)\n",
    "    numh2_zz = integrate_zz(dnum_zz*\n",
    "                            utils.midpoints_multiax(hs_edges, axis=(0,1), log=True)**2, edges)\n",
    "    numh4_zz = integrate_zz(dnum_zz*\n",
    "                            utils.midpoints_multiax(hs_edges, axis=(0,1), log=True)**4, edges)\n",
    "    cynum = vals['number']\n",
    "    numh2_cy = cynum*hs_cents**2\n",
    "    numh4_cy = cynum*hs_cents**4\n",
    "\n",
    "\n",
    "    flnum = np.floor(cynum)\n",
    "    numh2_fl = flnum*hs_cents**2\n",
    "    numh4_fl = flnum*hs_cents**4\n",
    "    # tznum = integrate_zz(dnum_zz, edges)\n",
    "    # utnum = utils._integrate_grid_differential_number(edges, diff_num, freq=False)\n",
    "    # utnum = utnum * np.diff(np.log(fobs_gw_edges))\n",
    "\n",
    "    xx = np.array([cents_mm/MSOL, cents_qq, cents_zz])\n",
    "    # print(f\"{xx.shape=}\")\n",
    "\n",
    "    return (xx, numh2_mm, numh2_qq, numh2_zz, numh4_mm, numh4_qq, numh4_zz, \n",
    "            numh2_cy, numh4_cy, numh2_fl, numh4_fl)\n",
    "\n",
    "\n",
    "\n",
    "def plot_integrated_vary(vals, mm_arr, qq_arr, zz_arr, ff_arr, vary='mm'):\n",
    "\n",
    "    # if vary == 'mm':\n",
    "    #     colors=cm.rainbow_r(np.linspace(0,1,np.max(mm_arr)+1))\n",
    "    # elif vary == 'qq':\n",
    "    #     colors=cm.rainbow_r(np.linspace(0,1,np.max(qq_arr)+1))\n",
    "    # elif vary == 'zz':\n",
    "    #     colors=cm.rainbow_r(np.linspace(0,1,np.max(zz_arr)+1))\n",
    "    # else:\n",
    "    #     colors=cm.rainbow_r(np.linspace(0,1,np.max(ff_arr)+1))\n",
    "\n",
    "    if vary == 'mm':\n",
    "        colors=cm.rainbow_r(np.linspace(0,1,len(mm_arr)))\n",
    "    elif vary == 'qq':\n",
    "        colors=cm.rainbow_r(np.linspace(0,1,len(qq_arr)))\n",
    "    elif vary == 'zz':\n",
    "        colors=cm.rainbow_r(np.linspace(0,1,len(zz_arr)))\n",
    "    else:\n",
    "        colors=cm.rainbow_r(np.linspace(0,1,len(ff_arr)))\n",
    "\n",
    "\n",
    "\n",
    "    (xx, numh2_mm, numh2_qq, numh2_zz, numh4_mm, numh4_qq, numh4_zz, \n",
    "            numh2_cy, numh4_cy, numh2_fl, numh4_fl) = calc_integrated(vals)\n",
    "\n",
    "    fig, axs = holo.plot.figax(\n",
    "        nrows=2, ncols=3, figsize=(16,8))\n",
    "\n",
    "    xlabels = np.array(['M ($M_\\odot$)', 'q', 'z'])\n",
    "    ylabels_h2 = np.array(['$\\int h_s^2 dN/d\\log (M)$', '$\\int h_s^2 dN/dq$', '$\\int h_s^2 dN/dz$'])\n",
    "    ylabels_h4 = np.array(['$\\int h_s^4 dN/d\\log (M)$', '$\\int h_s^4 dN/dq$', '$\\int h_s^4 dN/dz$'])\n",
    "    fobs_gw_cents = vals['fobs_gw_cents']\n",
    "\n",
    "\n",
    "\n",
    "    for mi,mm in enumerate(mm_arr):\n",
    "        for qi,qq in enumerate(qq_arr):\n",
    "            for zi,zz in enumerate(zz_arr):\n",
    "                for fi,ff in enumerate(ff_arr):\n",
    "                    if vary == 'mm':\n",
    "                        color=colors[mi]\n",
    "                    elif vary == 'qq':\n",
    "                        color=colors[qi]\n",
    "                    elif vary == 'zz':\n",
    "                        color=colors[zi]\n",
    "                    else:\n",
    "                        color=colors[fi]\n",
    "    \n",
    "                    yy_h2 = np.array([numh2_mm[:,qq,zz,ff], numh2_qq[mm,:,zz,ff], numh2_zz[mm,qq,:,ff]])\n",
    "                    yy_h4 = np.array([numh4_mm[:,qq,zz,ff], numh4_qq[mm,:,zz,ff], numh4_zz[mm,qq,:,ff]])\n",
    "                    cy_h2 = np.array([numh2_cy[:,qq,zz,ff], numh2_cy[mm,:,zz,ff], numh2_cy[mm,qq,:,ff]])\n",
    "                    cy_h4 = np.array([numh4_cy[:,qq,zz,ff], numh4_cy[mm,:,zz,ff], numh4_cy[mm,qq,:,ff]])\n",
    "                    # fl_h2 = np.array([numh2_fl[:,qq,zz,ff], numh2_fl[mm,:,zz,ff], numh2_fl[mm,qq,:,ff]])\n",
    "                    # fl_h4 = np.array([numh4_fl[:,qq,zz,ff], numh4_fl[mm,:,zz,ff], numh4_fl[mm,qq,:,ff]])\n",
    "                    label0 = '$M=%.2e\\ M_\\odot$, $q=%.2f$, $z=%.2f$, $f=%.2f$/yr' % (xx[0,mm], xx[1,qq], xx[2,zz], fobs_gw_cents[ff]*YR)\n",
    "                    for ii, ax in enumerate(axs[0,:]): # h2\n",
    "                        label = label0 if ii==0 else None\n",
    "\n",
    "                        if ii==0 and mm==mm_arr[0] and qq==qq_arr[0] and zz==zz_arr[0] and ff==ff_arr[0]:\n",
    "                            cylabel=r'$h_s^2 \\times \\int dN/dx$'\n",
    "                            fllabel=r'rounded $h_s^2 \\times \\int dN/dx$'\n",
    "                        else: \n",
    "                            cylabel=None\n",
    "                            fllabel=None\n",
    "                        ll, = ax.plot(xx[ii], cy_h2[ii], label=cylabel, linestyle='-', alpha=0.35, lw=4, color=color)\n",
    "                        cc = ll.get_color()\n",
    "                        # ax.plot(xx[ii], fl_h2[ii], label=fllabel, linestyle='-', alpha=0.65, color=cc, lw=2)\n",
    "                        ax.plot(xx[ii], yy_h2[ii], label=label, linestyle='--', alpha=0.75, color=cc, lw=1)\n",
    "                    for ii, ax in enumerate(axs[1,:]): # h4\n",
    "                        # if ii==0 and mm==mm_arr[0] and qq==qq_arr[0] and zz==zz_arr[0] and ff==ff_arr[0]:\n",
    "                        #     cylabel=r'$h_s^2 \\times \\int dN/dx$'\n",
    "                        #     fllabel=r'rounded $h_s^2 \\times \\int dN/dx$'\n",
    "                        # else: \n",
    "                        cylabel=None\n",
    "                        fllabel=None\n",
    "                        # ll, = ax.plot(xx[ii], cy_h4[ii], label=cylabel, linestyle='-', alpha=0.5, lw=3)\n",
    "                        ll = ax.scatter(xx[ii], cy_h4[ii], label=cylabel, marker='o', alpha=0.35, lw=3, s=10, color=color)\n",
    "                        # cc = ll.get_color()\n",
    "                        # ax.plot(xx[ii], yy_h4[ii], label=labels[ii], linestyle='x', alpha=0.75, color=cc )\n",
    "                        cc = ll.get_facecolors()\n",
    "                        # ax.scatter(xx[ii], fl_h4[ii], label=fllabel, marker='+', alpha=0.65, color=cc)\n",
    "                        ax.scatter(xx[ii], yy_h4[ii], label=None, marker='x', alpha=0.75, color=cc )                \n",
    "\n",
    "    for ii, ax in enumerate(axs[0,:]):\n",
    "        ax.set_ylabel(ylabels_h2[ii])\n",
    "        # if ii>0: ax.sharey(axs[0,0])\n",
    "        # ax.legend(fontsize=8)\n",
    "    for ii, ax in enumerate(axs[1,:]):\n",
    "        ax.set_ylabel(ylabels_h4[ii])\n",
    "        ax.set_xlabel(xlabels[ii])\n",
    "        # if ii>0: ax.sharey(axs[1,0])\n",
    "        ax.sharex(axs[0,ii])\n",
    "        # ax.legend(fontsize=8)\n",
    "    leg = fig.legend(ncols=3, bbox_to_anchor=(0.05,0), loc='upper left', fontsize=14)\n",
    "    title = ('%s, %s, Varying %s' % (str(vals['hard_name']), str(vals['sam'].shape), vary))\n",
    "\n",
    "    fig.suptitle(title)\n",
    "    fig.tight_layout()\n",
    "    return fig, title\n"
   ]
  },
  {
   "attachments": {},
   "cell_type": "markdown",
   "metadata": {},
   "source": [
    "plot strain_amp_vary()"
   ]
  },
  {
   "cell_type": "code",
   "execution_count": null,
   "metadata": {},
   "outputs": [],
   "source": [
    "\n",
    "\n",
    "def calc_strain_amp(vals):\n",
    "    # dnum = vals['diff_num']\n",
    "    edges = vals['edges']\n",
    "    edges_mm = vals['edges'][0]\n",
    "    cents_mm = utils.midpoints(edges_mm, log=True)\n",
    "    edges_qq = vals['edges'][1]\n",
    "    cents_qq = utils.midpoints(edges_qq, log=True)\n",
    "    edges_zz = vals['edges'][2]\n",
    "    cents_zz = utils.midpoints(edges_zz, log=True)\n",
    "\n",
    "\n",
    "    hs_final = anis.strain_amp_at_bin_centers_redz(edges, vals['redz_final'])\n",
    "    hs_initz = anis.strain_amp_at_bin_centers_redz(edges, redz=None)\n",
    "    # print(holo.utils.stats(hs_final/hs_initz))\n",
    "\n",
    "    return hs_initz, hs_final, cents_mm, cents_qq, cents_zz\n",
    "\n",
    "def plot_strain_amp_vary(vals, mm_arr, qq_arr, zz_arr, ff_arr, vary='ff', initz=True):\n",
    "    hs_initz, hs_final, cents_mm, cents_qq, cents_zz = calc_strain_amp(vals)\n",
    "    fobs_gw_cents = vals['fobs_gw_cents']\n",
    "\n",
    "\n",
    "    if vary == 'mm':\n",
    "        colors=cm.rainbow_r(np.linspace(0,1,len(mm_arr)))\n",
    "    elif vary == 'qq':\n",
    "        colors=cm.rainbow_r(np.linspace(0,1,len(qq_arr)))\n",
    "    elif vary == 'zz':\n",
    "        colors=cm.rainbow_r(np.linspace(0,1,len(zz_arr)))\n",
    "    else:\n",
    "        colors=cm.rainbow_r(np.linspace(0,1,len(ff_arr)))\n",
    "\n",
    "    fig, axs = holo.plot.figax(\n",
    "        xlabel='edge parameters',\n",
    "        ylabel='$dN/d(\\mathrm{edge parameter})$',\n",
    "        ncols=3, figsize=(16,5),\n",
    "        sharey=True\n",
    "    )\n",
    "\n",
    "    xx = np.array([cents_mm/MSOL, cents_qq, cents_zz])\n",
    "    xlabels = np.array(['M ($M_\\odot$)', 'q', 'z'])\n",
    "    ylabels = np.array(['$h_s (M)$', '$h_s(q)$', '$h_s(z)$'])\n",
    "\n",
    "\n",
    "    for mi,mm in enumerate(mm_arr):\n",
    "        for qi,qq in enumerate(qq_arr):\n",
    "            for zi,zz in enumerate(zz_arr):\n",
    "                for fi,ff in enumerate(ff_arr):\n",
    "                    if vary == 'mm':\n",
    "                        color=colors[mi]\n",
    "                    elif vary == 'qq':\n",
    "                        color=colors[qi]\n",
    "                    elif vary == 'zz':\n",
    "                        color=colors[zi]\n",
    "                    else:\n",
    "                        color=colors[fi]\n",
    "                    \n",
    "                    yy_initz = np.array([hs_initz[:,qq,zz,ff], hs_initz[mm,:,zz,ff], hs_initz[mm,qq,:,ff]])\n",
    "                    yy_final = np.array([hs_final[:,qq,zz,ff], hs_final[mm,:,zz,ff], hs_final[mm,qq,:,ff]])\n",
    "                    label_ii = ('$M=%.2e\\ M_\\odot$, $q=%.2f$, $z=%.2f$, $f=%.2f$/yr' % (cents_mm[mm]/MSOL, cents_qq[qq], cents_zz[zz], fobs_gw_cents[ff]*YR))\n",
    "\n",
    "                    for ii, ax in enumerate(axs):\n",
    "                        label=label_ii if ii==0 else None\n",
    "                        if initz:\n",
    "                            if ii==0 and mi==0 and qi==0 and zi==0 and fi==0:\n",
    "                                label_init = 'initial z'\n",
    "                            else: label_init=None\n",
    "                            ax.plot(xx[ii], yy_initz[ii], label=label_init, linestyle='--', alpha=0.65, \n",
    "                                color=color)\n",
    "                        ax.plot(xx[ii], yy_final[ii], label=label, linestyle='-', alpha=0.75, \n",
    "                                color=color,)\n",
    "    for ii, ax in enumerate(axs):\n",
    "        ax.set_xlabel(xlabels[ii])\n",
    "        ax.set_ylabel(ylabels[ii])\n",
    "\n",
    "    leg = fig.legend(ncols=3, bbox_to_anchor=(0.05,0), loc='upper left', fontsize=14)\n",
    "    title='%s, %s' % (str(vals['hard_name']), str(vals['sam'].shape))\n",
    "    fig.suptitle(title)\n",
    "    fig.tight_layout\n",
    "    return fig, title"
   ]
  },
  {
   "attachments": {},
   "cell_type": "markdown",
   "metadata": {},
   "source": [
    "# Orange Spike"
   ]
  },
  {
   "attachments": {},
   "cell_type": "markdown",
   "metadata": {},
   "source": [
    "## FT, shape 20"
   ]
  },
  {
   "cell_type": "code",
   "execution_count": null,
   "metadata": {},
   "outputs": [],
   "source": [
    "sam=holo.sam.Semi_Analytic_Model(shape=20)\n",
    "valsFT20 = sam_model(sam=sam, hard=holo.hardening.Fixed_Time_2PL_SAM(sam, 3*GYR))"
   ]
  },
  {
   "cell_type": "code",
   "execution_count": null,
   "metadata": {},
   "outputs": [],
   "source": [
    "vals=valsFT20"
   ]
  },
  {
   "cell_type": "code",
   "execution_count": null,
   "metadata": {},
   "outputs": [],
   "source": [
    "# fig = plot_dnum_dpar(vals, mm_arr=[2,7], qq_arr=[17,], zz_arr=[17], ff_arr=[2,32])\n",
    "# fig = plot_strain_amp(vals, mm_arr=[6,], qq_arr=[17,], zz_arr=[15], ff_arr=[1,8,])\n",
    "# fig = plot_number(vals,  mm_arr=[7], qq_arr=[17,], zz_arr=[17], ff_arr=[32])\n",
    "# fig = plot_integrated(vals, mm_arr=[7,15], qq_arr=[17,], zz_arr=[17,], ff_arr=[32])"
   ]
  },
  {
   "cell_type": "code",
   "execution_count": null,
   "metadata": {},
   "outputs": [],
   "source": [
    "print(vals['fobs_gw_cents'][3]/2, utils.midpoints(vals['edges'][3], log=True)[3])"
   ]
  },
  {
   "cell_type": "code",
   "execution_count": null,
   "metadata": {},
   "outputs": [],
   "source": [
    "# vary mass, finding weird things happen\n",
    "fig,title = plot_integrated_vary(vals, mm_arr=[0,4,9,14,18], qq_arr=[17,], zz_arr=[17,], ff_arr=[32], vary='mm')"
   ]
  },
  {
   "attachments": {},
   "cell_type": "markdown",
   "metadata": {},
   "source": [
    "### first ff dropoff"
   ]
  },
  {
   "cell_type": "code",
   "execution_count": null,
   "metadata": {},
   "outputs": [],
   "source": [
    "# vary ff, finding weird things happen at high frequencies\n",
    "fig,title = plot_integrated_vary(vals, mm_arr=[15,], qq_arr=[17,], zz_arr=[17,], ff_arr=[0,10,20,30,38], vary='ff')\n",
    "# find where we have dropoff, between 10 and 20\n",
    "fig,title = plot_integrated_vary(vals, mm_arr=[15,], qq_arr=[17,], zz_arr=[15,], ff_arr=[10,12,14,16,18,20], vary='ff')\n",
    "fig.suptitle(title+', first dropoff between ff=10 and ff=20')\n",
    "fig,title = plot_integrated_vary(vals, mm_arr=[15,], qq_arr=[17,], zz_arr=[15,], ff_arr=[16,17,18,], vary='ff')\n",
    "fig.suptitle(title+', first dropoff at ff=15 = fobs_orb=%.2e/yr' % (utils.midpoints(vals['edges'][3], log=True)[15]*YR))"
   ]
  },
  {
   "attachments": {},
   "cell_type": "markdown",
   "metadata": {},
   "source": [
    "### first ff discontinuity"
   ]
  },
  {
   "cell_type": "code",
   "execution_count": null,
   "metadata": {},
   "outputs": [],
   "source": [
    "\n",
    "# find where we have full discontinuity, between 20 and 30\n",
    "fig,title = plot_integrated_vary(vals, mm_arr=[15,], qq_arr=[17,], zz_arr=[15,], ff_arr=[20,24,26,28,30], vary='ff')\n",
    "fig.suptitle(title+', first discontinuity between ff=20 and ff=30')\n",
    "# first discontinuity between 24 and 26\n",
    "fig,title = plot_integrated_vary(vals, mm_arr=[15,], qq_arr=[17,], zz_arr=[15,], ff_arr=[24,25,26], vary='ff')\n",
    "fig.suptitle(title+', first discontinuity at ff=25 = fobs_orb = %.2e /yr' % (utils.midpoints(vals['edges'][3], log=True)[25]*YR))\n",
    "# fig,title = plot_integrated_vary(vals, mm_arr=[15,], qq_arr=[17,], zz_arr=[15,], ff_arr=[25,], vary='ff')"
   ]
  },
  {
   "attachments": {},
   "cell_type": "markdown",
   "metadata": {},
   "source": [
    "### first qq discontinuity\n",
    "\n",
    "qq only even shows up for low mm or high zz. should be overlap at mm=15\n",
    "overlap exists at mm=15, ff=28\n",
    "\n",
    "discontinuity is independent of qq"
   ]
  },
  {
   "cell_type": "code",
   "execution_count": null,
   "metadata": {},
   "outputs": [],
   "source": [
    "# vary zz\n",
    "# everything else looks normal at these weird\n",
    "fig,title = plot_integrated_vary(vals, mm_arr=[15,], qq_arr=[0,4,9,14,18,], zz_arr=[17,], ff_arr=[28,], vary='qq')\n",
    "fig.suptitle(title+', discontinuity independent of qq')"
   ]
  },
  {
   "attachments": {},
   "cell_type": "markdown",
   "metadata": {},
   "source": [
    "### first mm discontinuity"
   ]
  },
  {
   "cell_type": "code",
   "execution_count": null,
   "metadata": {},
   "outputs": [],
   "source": [
    "fig,title = plot_integrated_vary(vals, mm_arr=[7,12,15,18], qq_arr=[17,], zz_arr=[17,], ff_arr=[28,], vary='mm')\n",
    "fig.suptitle(title+', first discontinuity between mm=12 and mm=15')\n",
    "fig,title = plot_integrated_vary(vals, mm_arr=[14,15], qq_arr=[17,], zz_arr=[17,], ff_arr=[28,], vary='mm')\n",
    "fig.suptitle(title+', first discontinuity at mm=15=%.2e' % (utils.midpoints(vals['edges'][0], log=True)[15]/MSOL))"
   ]
  },
  {
   "attachments": {},
   "cell_type": "markdown",
   "metadata": {},
   "source": [
    "### varying z, find exact weird spots"
   ]
  },
  {
   "cell_type": "code",
   "execution_count": null,
   "metadata": {},
   "outputs": [],
   "source": [
    "\n",
    "fig,title = plot_integrated_vary(vals, mm_arr=[15], qq_arr=[18,], zz_arr=[10,12,14,16,18], ff_arr=[28,], vary='zz')\n",
    "fig.suptitle(title+', discontinuity at zz=16, $z$=%.2e' % (utils.midpoints(vals['edges'][2], log=True)[16]))"
   ]
  },
  {
   "cell_type": "code",
   "execution_count": null,
   "metadata": {},
   "outputs": [],
   "source": [
    "zz_cents = utils.midpoints(vals['edges'][2], log=True)\n",
    "for zz in range(len(zz_cents)):\n",
    "    print('zz=',zz, zz_cents[zz])\n",
    "\n",
    "# weird stuff happens between z=1 and z=3"
   ]
  },
  {
   "attachments": {},
   "cell_type": "markdown",
   "metadata": {},
   "source": [
    "### look at hs for the weird case"
   ]
  },
  {
   "cell_type": "code",
   "execution_count": null,
   "metadata": {},
   "outputs": [],
   "source": [
    "fig, title = plot_strain_amp_vary(vals, mm_arr=[15,], qq_arr=[18,], zz_arr=[18,], ff_arr=[0,4,9,14,19,24,29,34,38], vary='ff')\n",
    "fig, title = plot_integrated_vary(vals, mm_arr=[15,], qq_arr=[18,], zz_arr=[18,], ff_arr=[0,4,9,14,19,24,29,34,38], vary='ff')"
   ]
  },
  {
   "attachments": {},
   "cell_type": "markdown",
   "metadata": {},
   "source": [
    "# Calculating hs"
   ]
  },
  {
   "cell_type": "code",
   "execution_count": null,
   "metadata": {},
   "outputs": [],
   "source": [
    "print(vals['fobs_gw_cents'].shape)"
   ]
  },
  {
   "cell_type": "code",
   "execution_count": null,
   "metadata": {},
   "outputs": [],
   "source": [
    "print(holo.utils.stats(utils.midpoints(sam.redz, log=True)))"
   ]
  },
  {
   "cell_type": "code",
   "execution_count": null,
   "metadata": {},
   "outputs": [],
   "source": [
    "# fig, title = plot_integrated_vary(vals, mm_arr=[15,], qq_arr=[18,], zz_arr=[18,], ff_arr=[0,4,9,14,19,24,29,34,38], vary='ff')\n",
    "\n",
    "mm, qq, zz, ff = 15, 18, 15, 28 # weird spot\n",
    "temp=calc_strain_amp(vals)\n",
    "hs_init, hs_final =temp[0], temp[1]\n",
    "print('hs_init:', utils.stats(hs_init), f\", {hs_init.shape=}\")\n",
    "print('hs_final:', utils.stats(hs_final), f\", {hs_init.shape=}\")\n",
    "rz_init = utils.midpoints(sam.redz)\n",
    "rz_final = utils.midpoints(vals['redz_final'], axis=(0,), log=True)\n",
    "rz_final = utils.midpoints(rz_final, axis=(1,), log=True)\n",
    "rz_final = utils.midpoints(rz_final, axis=(2,), log=True)\n",
    "print('rz_final:', utils.stats(rz_final), rz_final.shape)\n",
    "for zz in (14,15,16):\n",
    "    print('zz=%d, z_init=%.2f, z_final=%.2f, hs_init=%.2e, hs_final=%.2e' \n",
    "          % (zz, rz_init[zz], rz_final[mm,qq,zz,ff], hs_init[mm,qq,zz,ff], hs_final[mm,qq,zz,ff]))\n",
    "# print(holo.utils.stats(hs[mm,qq,zz,ff]))"
   ]
  },
  {
   "cell_type": "code",
   "execution_count": null,
   "metadata": {},
   "outputs": [],
   "source": [
    "# final redshift\n",
    "fobs_orb_cents=vals['fobs_orb_cents']\n",
    "hard = vals['hard']\n",
    "redz_final, diff_num = holo.sam_cython.dynamic_binary_number_at_fobs(\n",
    "    fobs_orb_cents, sam, hard, holo.cosmo)\n",
    "\n",
    "mtot = utils.midpoints(sam.mtot)\n",
    "mrat = utils.midpoints(sam.mrat)\n",
    "mchirp = utils.chirp_mass_mtmr(mtot[:,np.newaxis], mrat[np.newaxis,:])\n",
    "\n",
    "redz_init = utils.midpoints(sam.redz)\n",
    "dcom = holo.cosmo.comoving_distance(redz_init).cgs.value\n",
    "\n",
    "frst_orb = utils.frst_from_fobs(fobs_orb_cents[np.newaxis,:], redz_init[:,np.newaxis])\n",
    "\n",
    "\n",
    "\n",
    "mm=15\n",
    "qq=18\n",
    "zz=15\n",
    "ff=28\n",
    "hs15 = holo.utils.gw_strain_source(mchirp[mm,qq], dcom[zz], frst_orb[zz,ff])\n",
    "print(hs15)\n",
    "\n",
    "mm=15\n",
    "qq=18\n",
    "zz=16\n",
    "ff=28\n",
    "hs16 = holo.utils.gw_strain_source(mchirp[mm,qq], dcom[zz], frst_orb[zz,ff])\n",
    "print(hs16)"
   ]
  },
  {
   "cell_type": "code",
   "execution_count": null,
   "metadata": {},
   "outputs": [],
   "source": [
    "rz = redz_final\n",
    "print(redz_final[mm,qq,15,28])\n",
    "print(redz_final[mm+1,qq,15,28])\n",
    "print(np.mean(rz[mm,qq,15,ff], rz[mm+1,qq,15,ff], rz[mm,qq+1,zz,ff]))\n",
    "print(redz_final[mm,qq,16,28])\n",
    "print(redz_final[mm+1,qq,16,28])\n",
    "print(redz_final[mm,qq,17,28])\n",
    "print(redz_final[mm+1,qq,17,28])"
   ]
  },
  {
   "cell_type": "code",
   "execution_count": null,
   "metadata": {},
   "outputs": [],
   "source": [
    "print('%.2e %.2e' % (edges[0][mm]/MSOL, edges[0][mm+1]/MSOL))\n",
    "print('%.2e %.2e' % (edges[2][15], edges[2][16]))"
   ]
  },
  {
   "cell_type": "code",
   "execution_count": null,
   "metadata": {},
   "outputs": [],
   "source": [
    "print(np.max(edges[2]))"
   ]
  },
  {
   "attachments": {},
   "cell_type": "markdown",
   "metadata": {},
   "source": [
    "check final redz hs calculation from bin edges in gravwaves"
   ]
  },
  {
   "cell_type": "code",
   "execution_count": null,
   "metadata": {},
   "outputs": [],
   "source": [
    "\n",
    "redz_final, diff_num = holo.sam_cython.dynamic_binary_number_at_fobs(\n",
    "    fobs_orb_cents, sam, hard, holo.cosmo)\n",
    "\n",
    "\n",
    "hs_final = holo.gravwaves.strain_amp_from_bin_edges_redz(vals['edges'], vals['redz_final'])\n",
    "hs_init = anis.strain_amp_at_bin_centers_redz(vals['edges'], redz=None)\n",
    "hs_final_anis = anis.strain_amp_at_bin_centers_redz(vals['edges'], redz=vals['redz_final'])\n",
    "print(np.all(hs_final == hs_final_anis)) # check, I am calculating hs correctly\n",
    "rzfinal_cents = utils.midpoints(redz_final, log=True, axis=0)\n",
    "rzfinal_cents = utils.midpoints(rzfinal_cents, log=True, axis=1)\n",
    "rzfinal_cents = utils.midpoints(rzfinal_cents, log=True, axis=2)\n",
    "\n",
    "mm, qq, zz, ff = 15, 18, 15, 28 # weird input\n",
    "for zz in (14,15,16):\n",
    "    print('zz=%d, z_init=%.2f, z_final_edge=%.2f, z_final_cents=%.2f, hs_init=%.2e, hs_final=%.2e' \n",
    "          % (zz, rz_init[zz], rz_final[mm,qq,zz,ff], rzfinal_cents[mm,qq,zz,ff], hs_init[mm,qq,zz,ff], hs_final[mm,qq,zz,ff]))\n",
    "    \n",
    "print('low ff')\n",
    "mm, qq, zz, ff = 15, 18, 15, 18 # weird input\n",
    "for zz in (14,15,16):\n",
    "    print('zz=%d, z_init=%.2f, z_final=%.2f, z_final_cents=%.2f,  hs_init=%.2e, hs_final=%.2e' \n",
    "          % (zz, rz_init[zz], rz_final[mm,qq,zz,ff], rzfinal_cents[mm,qq,zz,ff], hs_init[mm,qq,zz,ff], hs_final[mm,qq,zz,ff]))\n",
    "    \n",
    "print('lower zz')\n",
    "mm, qq, zz, ff = 15, 18, 15, 28 # weird input\n",
    "for zz in (4,5,6):\n",
    "    print('zz=%d, z_init=%.2f, z_final=%.2f,  z_final_cents=%.2f, hs_init=%.2e, hs_final=%.2e' \n",
    "          % (zz, rz_init[zz], rz_final[mm,qq,zz,ff], rzfinal_cents[mm,qq,zz,ff], hs_init[mm,qq,zz,ff], hs_final[mm,qq,zz,ff]))"
   ]
  },
  {
   "cell_type": "code",
   "execution_count": null,
   "metadata": {},
   "outputs": [],
   "source": [
    "redz_final, diff_num = holo.sam_cython.dynamic_binary_number_at_fobs(\n",
    "    fobs_orb_cents, sam, hard, holo.cosmo)\n",
    "print(sam._redz_final)"
   ]
  },
  {
   "cell_type": "code",
   "execution_count": null,
   "metadata": {},
   "outputs": [],
   "source": [
    "import kalepy as kale"
   ]
  },
  {
   "cell_type": "code",
   "execution_count": null,
   "metadata": {},
   "outputs": [],
   "source": [
    "fobs_orb_edges=vals['fobs_orb_edges']\n",
    "edges = [sam.mtot, sam.mrat, sam.redz, fobs_orb_edges]\n",
    "redz_final, diff_num = holo.sam_cython.dynamic_binary_number_at_fobs(\n",
    "    fobs_orb_cents, sam, hard, holo.cosmo)\n",
    "\n",
    "hs_final = holo.gravwaves.strain_amp_from_bin_edges_redz(edges, redz_final)\n",
    "\n",
    "redz=redz_final\n",
    "\n",
    "for dd in range(3):\n",
    "    redz = np.moveaxis(redz, dd, 0)\n",
    "    redz = kale.utils.midpoints(redz, axis=0)\n",
    "    redz = np.moveaxis(redz, 0, dd)\n",
    "\n",
    "\n",
    "rzfinal_cents = utils.midpoints(redz_final, log=False, axis=0)\n",
    "rzfinal_cents = utils.midpoints(rzfinal_cents, log=False, axis=1)\n",
    "rzfinal_cents = utils.midpoints(rzfinal_cents, log=False, axis=2)\n",
    "\n",
    "mm, qq, zz, ff = 15, 18, 15, 28 # weird input\n",
    "for zz in (14,15,16):\n",
    "    print('zz=%d, z_init=%.2f, z_final_edge=%.2f, z_f_cents_kale=%.2f, z_f_cents_utils=%.2f, hs_init=%.2e, hs_final=%.2e' \n",
    "          % (zz, rz_init[zz], rz_final[mm,qq,zz,ff], redz[mm,qq,zz,ff], rzfinal_cents[mm,qq,zz,ff],\n",
    "             hs_init[mm,qq,zz,ff], hs_final[mm,qq,zz,ff]))"
   ]
  },
  {
   "attachments": {},
   "cell_type": "markdown",
   "metadata": {},
   "source": [
    "# intermediates of char_strain_sq_from_bin_edges_redz()"
   ]
  },
  {
   "cell_type": "code",
   "execution_count": null,
   "metadata": {},
   "outputs": [],
   "source": [
    "import kalepy as kale\n",
    "kale.midpoints()\n"
   ]
  },
  {
   "cell_type": "code",
   "execution_count": null,
   "metadata": {},
   "outputs": [],
   "source": [
    "def char_strain_sq_from_bin_edges_redz(edges, redz):\n",
    "    assert len(edges) == 4\n",
    "    assert np.all([np.ndim(ee) == 1 for ee in edges])\n",
    "\n",
    "    foo = edges[-1]                   #: should be observer-frame orbital-frequencies\n",
    "    df = np.diff(foo)                 #: frequency bin widths\n",
    "    fc = kale.utils.midpoints(foo)    #: use frequency-bin centers for strain (more accurate!)\n",
    "\n",
    "    # redshifts are defined across 4D grid, shape (M, Q, Z, Fc)\n",
    "    #    where M, Q, Z are edges and Fc is frequency centers\n",
    "    # find midpoints of redshifts in M, Q, Z dimensions, to end up with (M-1, Q-1, Z-1, Fc)\n",
    "    for dd in range(3):\n",
    "        redz = np.moveaxis(redz, dd, 0)\n",
    "        redz = kale.utils.midpoints(redz, axis=0)\n",
    "        redz = np.moveaxis(redz, 0, dd)\n",
    "\n",
    "    # ---- calculate GW strain ----\n",
    "    mt = kale.utils.midpoints(edges[0])\n",
    "    mr = kale.utils.midpoints(edges[1])\n",
    "    # rz = kale.utils.midpoints(edges[2])\n",
    "    mc = utils.chirp_mass_mtmr(mt[:, np.newaxis], mr[np.newaxis, :])\n",
    "    mc = mc[:, :, np.newaxis, np.newaxis]\n",
    "    dc = +np.inf * np.ones_like(redz)\n",
    "    sel = (redz > 0.0)\n",
    "    dc[sel] = cosmo.comoving_distance(redz[sel]).cgs.value\n",
    "\n",
    "    # convert from observer-frame to rest-frame; still using frequency-bin centers\n",
    "    fr = utils.frst_from_fobs(fc[np.newaxis, np.newaxis, np.newaxis, :], redz)\n",
    "\n",
    "    hs = utils.gw_strain_source(mc, dc, fr)\n",
    "    hc2 = (hs ** 2) * (fc / df)\n",
    "    return hc2"
   ]
  },
  {
   "attachments": {},
   "cell_type": "markdown",
   "metadata": {},
   "source": [
    "# Orange spike, cont."
   ]
  },
  {
   "attachments": {},
   "cell_type": "markdown",
   "metadata": {},
   "source": [
    "## GW, shape 20"
   ]
  },
  {
   "cell_type": "code",
   "execution_count": null,
   "metadata": {},
   "outputs": [],
   "source": [
    "sam_20=holo.sam.Semi_Analytic_Model(shape=20)\n",
    "vals_20GW = sam_model(sam=sam_20, hard=holo.hardening.Hard_GW())\n",
    "print(vals['hard_name'])"
   ]
  },
  {
   "cell_type": "code",
   "execution_count": null,
   "metadata": {},
   "outputs": [],
   "source": [
    "fig = plot_dnum_dpar(vals_20GW, mm_arr=[2,7], qq_arr=[17,], zz_arr=[17], ff_arr=[2,32])\n",
    "fig = plot_strain_amp(vals_20GW, mm_arr=[6,], qq_arr=[17,], zz_arr=[15], ff_arr=[1,8,])\n",
    "fig = plot_number(vals_20GW,  mm_arr=[7], qq_arr=[17,], zz_arr=[17], ff_arr=[2,32])\n",
    "fig = plot_integrated(vals_20GW, mm_arr=[7,15], qq_arr=[17,], zz_arr=[17,], ff_arr=[32])"
   ]
  },
  {
   "cell_type": "code",
   "execution_count": null,
   "metadata": {},
   "outputs": [],
   "source": [
    "fig = plot_integrated(vals_20GW, mm_arr=[7,15], qq_arr=[17,], zz_arr=[17,], ff_arr=[2, 32])"
   ]
  },
  {
   "cell_type": "code",
   "execution_count": null,
   "metadata": {},
   "outputs": [],
   "source": [
    "fig = plot_integrated(vals_20GW, mm_arr=[7,15], qq_arr=[17,], zz_arr=[5,17,], ff_arr=[32,])"
   ]
  },
  {
   "attachments": {},
   "cell_type": "markdown",
   "metadata": {},
   "source": [
    "## GW, shape full"
   ]
  },
  {
   "cell_type": "code",
   "execution_count": null,
   "metadata": {},
   "outputs": [],
   "source": [
    "sam_full = holo.sam.Semi_Analytic_Model(shape=None)\n",
    "vals_fullGW = sam_model(sam=sam_full, hard=holo.hardening.Hard_GW())"
   ]
  },
  {
   "cell_type": "code",
   "execution_count": null,
   "metadata": {},
   "outputs": [],
   "source": [
    "fig = plot_dnum_dpar(vals_fullGW, mm_arr=[2,7], qq_arr=[17,], zz_arr=[65], ff_arr=[2,32])\n",
    "fig = plot_strain_amp(vals_fullGW, mm_arr=[6,], qq_arr=[17,], zz_arr=[65], ff_arr=[1,8,])\n",
    "fig = plot_number(vals_fullGW,  mm_arr=[7], qq_arr=[17,], zz_arr=[65], ff_arr=[2,32])\n",
    "fig = plot_integrated(vals_fullGW, mm_arr=[7, -15], qq_arr=[17,], zz_arr=[65,], ff_arr=[32])"
   ]
  },
  {
   "cell_type": "code",
   "execution_count": null,
   "metadata": {},
   "outputs": [],
   "source": [
    "fig = plot_integrated(vals_fullGW, mm_arr=[7, -15], qq_arr=[17,], zz_arr=[55,85], ff_arr=[32])"
   ]
  },
  {
   "attachments": {},
   "cell_type": "markdown",
   "metadata": {},
   "source": [
    "## FT, shape full"
   ]
  },
  {
   "cell_type": "code",
   "execution_count": null,
   "metadata": {},
   "outputs": [],
   "source": [
    "sam_full = holo.sam.Semi_Analytic_Model(shape=None)\n",
    "vals_fullFT = sam_model(sam=sam_full, hard=holo.hardening.Fixed_Time_2PL_SAM(sam_full, 3*GYR))"
   ]
  },
  {
   "cell_type": "code",
   "execution_count": null,
   "metadata": {},
   "outputs": [],
   "source": [
    "fig = plot_dnum_dpar(vals_fullFT, mm_arr=[2,7], qq_arr=[17,], zz_arr=[65], ff_arr=[2,32])\n",
    "fig = plot_strain_amp(vals_fullFT, mm_arr=[6,], qq_arr=[17,], zz_arr=[65], ff_arr=[1,8,])\n",
    "fig = plot_number(vals_fullFT,  mm_arr=[7], qq_arr=[17,], zz_arr=[65], ff_arr=[2,32])\n",
    "fig = plot_integrated(vals_fullFT, mm_arr=[7, -15], qq_arr=[17,], zz_arr=[65,], ff_arr=[32])"
   ]
  },
  {
   "cell_type": "code",
   "execution_count": null,
   "metadata": {},
   "outputs": [],
   "source": [
    "fig = plot_integrated(vals_fullFT, mm_arr=[7, -15], qq_arr=[17,], zz_arr=[55,85], ff_arr=[32])"
   ]
  },
  {
   "cell_type": "code",
   "execution_count": null,
   "metadata": {},
   "outputs": [],
   "source": [
    "fig = plot_integrated(vals_fullFT, mm_arr=[7, -15], qq_arr=[17,], zz_arr=[55,85], ff_arr=[32])"
   ]
  },
  {
   "attachments": {},
   "cell_type": "markdown",
   "metadata": {},
   "source": [
    "# Looking for orange spike for dif models/shapes"
   ]
  },
  {
   "cell_type": "code",
   "execution_count": null,
   "metadata": {},
   "outputs": [],
   "source": [
    "sam = holo.sam.Semi_Analytic_Model(shape=20, mmbulge=holo.relations.MMBulge_MM2013(scatter_dex=0))\n",
    "vals = sam_model(sam=sam, hard=holo.hardening.Fixed_Time_2PL_SAM(sam, 3*GYR))\n"
   ]
  },
  {
   "cell_type": "code",
   "execution_count": null,
   "metadata": {},
   "outputs": [],
   "source": [
    "fig = plot_integrated(vals, mm_arr=[7,15], qq_arr=[17,], zz_arr=[17,], ff_arr=[32])\n",
    "fig.text(0, 0.98, 'scatter_dex=0', fontsize=18)"
   ]
  },
  {
   "cell_type": "code",
   "execution_count": null,
   "metadata": {},
   "outputs": [],
   "source": [
    "print(vals.keys())"
   ]
  },
  {
   "cell_type": "code",
   "execution_count": null,
   "metadata": {},
   "outputs": [],
   "source": []
  },
  {
   "attachments": {},
   "cell_type": "markdown",
   "metadata": {},
   "source": [
    "## shape 20"
   ]
  },
  {
   "cell_type": "code",
   "execution_count": null,
   "metadata": {},
   "outputs": [],
   "source": [
    "shape=20\n",
    "sam = holo.sam.Semi_Analytic_Model(shape=shape)\n",
    "vals = sam_model(sam=sam, hard=holo.hardening.Fixed_Time_2PL_SAM(sam, 3*GYR))\n",
    "\n",
    "\n",
    "fig = plot_integrated(vals, mm_arr=[7,15], qq_arr=[17,], zz_arr=[17,], ff_arr=[32])\n",
    "\n",
    "\n",
    "for zz in range(0,shape, int(shape/6)):\n",
    "    print(f\"{zz=}\")\n",
    "    fig, leg = plot_integrated_vary(vals, mm_arr=[15.], qq_arr=[17,], zz_arr=[zz,], ff_arr=np.arange(0,41,10), vary='ff')\n",
    "\n",
    "# ax = fig.axes[0]\n",
    "# ax.legend(ncols=3, bbox_to_anchor=(0,0), loc='upper left', bbox_transform=ax.transAxes)"
   ]
  },
  {
   "cell_type": "code",
   "execution_count": null,
   "metadata": {},
   "outputs": [],
   "source": [
    "shape=30\n",
    "sam = holo.sam.Semi_Analytic_Model(shape=shape)\n",
    "vals = sam_model(sam=sam, hard=holo.hardening.Fixed_Time_2PL_SAM(sam, 3*GYR))\n",
    "\n",
    "for mm in range(0,shape,int(shape/6)):\n",
    "    print(f\"{mm=}\")\n",
    "    for qq in range(0,shape, int(shape/6)):\n",
    "        print(f\"{qq=}\")\n",
    "        fig, leg = plot_integrated_vary(vals, mm_arr=np.arange(19), qq_arr=[10,], zz_arr=[17,], ff_arr=[32], vary='mm')\n",
    "\n",
    "# ax = fig.axes[0]\n",
    "# ax.legend(ncols=3, bbox_to_anchor=(0,0), loc='upper left', bbox_transform=ax.transAxes)\n"
   ]
  },
  {
   "cell_type": "code",
   "execution_count": null,
   "metadata": {},
   "outputs": [],
   "source": [
    "x = np.nan\n",
    "print( x>0,0)"
   ]
  }
 ],
 "metadata": {
  "kernelspec": {
   "display_name": "holo310",
   "language": "python",
   "name": "python3"
  },
  "language_info": {
   "codemirror_mode": {
    "name": "ipython",
    "version": 3
   },
   "file_extension": ".py",
   "mimetype": "text/x-python",
   "name": "python",
   "nbconvert_exporter": "python",
   "pygments_lexer": "ipython3",
   "version": "3.10.10"
  }
 },
 "nbformat": 4,
 "nbformat_minor": 2
}
