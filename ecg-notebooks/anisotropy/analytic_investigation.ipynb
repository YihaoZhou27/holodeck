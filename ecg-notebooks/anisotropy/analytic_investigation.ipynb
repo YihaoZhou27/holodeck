{
 "cells": [
  {
   "cell_type": "code",
   "execution_count": null,
   "metadata": {},
   "outputs": [],
   "source": [
    "%reload_ext autoreload\n",
    "%autoreload 2\n",
    "from importlib import reload\n",
    "\n",
    "import holodeck as holo\n",
    "import holodeck.anisotropy as anis\n",
    "from holodeck.constants import YR, MSOL, GYR\n",
    "from holodeck import utils\n",
    "\n",
    "import matplotlib.pyplot as plt\n",
    "import numpy as np"
   ]
  },
  {
   "attachments": {},
   "cell_type": "markdown",
   "metadata": {},
   "source": [
    "* dens = d^3 n / [dlog10M dq dz] in units of [Mpc^-3] \n",
    "* dnum = d^4N / dlog10M dq dz dlnf\n",
    "* number = dN /dlnf"
   ]
  },
  {
   "cell_type": "code",
   "execution_count": null,
   "metadata": {},
   "outputs": [],
   "source": []
  },
  {
   "cell_type": "code",
   "execution_count": null,
   "metadata": {},
   "outputs": [],
   "source": [
    "nbins = 10\n",
    "\n",
    "# redshift edges 0.01 to 1\n",
    "edges = np.geomspace(10**-2, 10**1, nbins+1)  # z bins\n",
    "print('z edges:', edges)\n",
    "\n",
    "# dnum up to order 10^5, 10^6\n",
    "dnum = np.geomspace(10**6, 10**0, nbins+1) # d^2N / dz dlnf \n",
    "print('dnum:', dnum)\n",
    "if(dnum[0]>dnum[-1]):\n",
    "    dnum_str = 'dnum decreasing'\n",
    "else: \n",
    "    dnum_str = 'dnum increasing'\n",
    "\n",
    "# num \n",
    "num = holo.utils.trapz(dnum, edges)\n",
    "print('num:', num)\n",
    "\n",
    "# hs up to 10^-15\n",
    "hs_exp_edges = np.linspace(-20, -15, nbins+1) \n",
    "hs_exp_cents = holo.utils.midpoints(hs_exp_edges)\n",
    "\n",
    "hs_edges = 10**hs_exp_edges\n",
    "hs_cents = 10**hs_exp_cents\n",
    "if(hs_cents[0]>hs_cents[-1]):\n",
    "    hs_str = 'hs decreasing'\n",
    "else:\n",
    "    hs_str = 'hs increasing'\n",
    "print('hs_cents:', hs_cents)\n",
    "print('hs_edges:', hs_edges)\n"
   ]
  },
  {
   "cell_type": "code",
   "execution_count": null,
   "metadata": {},
   "outputs": [],
   "source": [
    "numh2 = num*hs_cents**2\n",
    "numh4 = num*hs_cents**4\n",
    "\n",
    "dnumh2 = dnum*hs_edges**2\n",
    "inth2 = holo.utils.trapz(dnumh2, edges)\n",
    "\n",
    "dnumh4 = dnum*hs_edges**4\n",
    "inth4 = holo.utils.trapz(dnumh4, edges)"
   ]
  },
  {
   "cell_type": "code",
   "execution_count": null,
   "metadata": {},
   "outputs": [],
   "source": [
    "fig, ax = holo.plot.figax(xlabel='z edges', ylabel='integral')\n",
    "\n",
    "ax.plot(edges[:-1], inth2, label=r'$\\int(\\mathrm{dnum}*h^2)$')\n",
    "ax.plot(edges[:-1], numh2, label=r'$h^2* \\int(\\mathrm{dnum})$')\n",
    "# ax.plot(edges[:-1], inth4, label=r'$\\int(\\mathrm{dnum}*h^4)$')\n",
    "# ax.plot(edges[:-1], numh4, label=r'$h^4* \\int(\\mathrm{dnum})$')\n",
    "\n",
    "ax.legend()\n",
    "ax.set_title('z increasing -> %s and %s' % (dnum_str, hs_str))"
   ]
  },
  {
   "cell_type": "code",
   "execution_count": null,
   "metadata": {},
   "outputs": [],
   "source": [
    "fig, ax = holo.plot.figax(xlabel='z edges', ylabel='integral')\n",
    "\n",
    "# ax.plot(edges[:-1], inth2, label=r'$\\int(\\mathrm{dnum}*h^2)$')\n",
    "# ax.plot(edges[:-1], numh2, label=r'$h^2* \\int(\\mathrm{dnum})$')\n",
    "ax.plot(edges[:-1], inth4, label=r'$\\int(\\mathrm{dnum}*h^4)$')\n",
    "ax.plot(edges[:-1], numh4, label=r'$h^4* \\int(\\mathrm{dnum})$')\n",
    "\n",
    "ax.legend()\n",
    "\n",
    "ax.set_title('z increasing -> %s and %s' % (dnum_str, hs_str))"
   ]
  },
  {
   "attachments": {},
   "cell_type": "markdown",
   "metadata": {},
   "source": [
    "integrating before just makes the values slightly smaller"
   ]
  },
  {
   "cell_type": "code",
   "execution_count": null,
   "metadata": {},
   "outputs": [],
   "source": [
    "print(num)"
   ]
  },
  {
   "cell_type": "code",
   "execution_count": null,
   "metadata": {},
   "outputs": [],
   "source": [
    "print(np.floor(num))"
   ]
  },
  {
   "cell_type": "code",
   "execution_count": null,
   "metadata": {},
   "outputs": [],
   "source": [
    "def sam_model(\n",
    "        hard = holo.hardening.Hard_GW(), shape=20, \n",
    "        dur=16.03*YR, cad=0.2*YR, use_redz=True):\n",
    "    fobs_gw_cents = utils.nyquist_freqs(dur,cad)\n",
    "    fobs_gw_edges = utils.nyquist_freqs_edges(dur,cad)\n",
    "    fobs_orb_cents = fobs_gw_cents/2.0\n",
    "    fobs_orb_edges = fobs_gw_edges/2.0\n",
    "\n",
    "    hard = holo.hardening.Hard_GW()\n",
    "    sam = holo.sam.Semi_Analytic_Model(shape=shape)\n",
    "    if isinstance(hard, holo.hardening.Fixed_Time_2PL_SAM):\n",
    "        hard_name = 'Fixed Time'\n",
    "    elif isinstance(hard, holo.hardening.Hard_GW):\n",
    "        hard_name = 'GW Only'\n",
    "\n",
    "    redz_final, diff_num = holo.sam_cython.dynamic_binary_number_at_fobs(\n",
    "        fobs_orb_cents, sam, hard, holo.cosmo)\n",
    "    edges = [sam.mtot, sam.mrat, sam.redz, fobs_orb_edges]\n",
    "    number = holo.sam_cython.integrate_differential_number_3dx1d(edges, diff_num)\n",
    "    if use_redz:\n",
    "        hs_cents = anis.strain_amp_at_bin_centers_redz(edges, redz_final)\n",
    "        hs_edges = anis.strain_amp_at_bin_edges_redz(edges, redz_final)\n",
    "    else:\n",
    "        hs_cents = anis.strain_amp_at_bin_centers_redz(edges)\n",
    "        hs_edges = anis.strain_amp_at_bin_edges_redz(edges)\n",
    "\n",
    "    vals = {\n",
    "        'hard':hard, 'sam':sam, 'edges':edges, 'number': number, 'diff_num':diff_num, 'redz_final':redz_final,\n",
    "        'hs_cents':hs_cents, 'hs_edges':hs_edges, 'fobs_gw_cents':fobs_gw_cents, 'fobs_gw_edges':fobs_gw_edges, \n",
    "        'fobs_orb_cents':fobs_orb_cents, 'fobs_orb_edges':fobs_orb_edges, 'hard_name':hard_name\n",
    "    }\n",
    "    return vals\n",
    "\n"
   ]
  },
  {
   "cell_type": "code",
   "execution_count": null,
   "metadata": {},
   "outputs": [],
   "source": [
    "vals = sam_model(hard=holo.hardening.Hard_GW, shape=10, use_redz=True)"
   ]
  },
  {
   "cell_type": "code",
   "execution_count": null,
   "metadata": {},
   "outputs": [],
   "source": [
    "edges_mm = vals['edges'][0]\n",
    "cents_mm = utils.midpoints(edges_mm, log=True)\n",
    "edges_qq = vals['edges'][1]\n",
    "cents_qq = utils.midpoints(edges_qq, log=True)\n",
    "edges_zz = vals['edges'][2]\n",
    "cents_zz = utils.midpoints(edges_zz, log=True)\n",
    "dnum = vals['diff_num']\n",
    "\n",
    "np.set_printoptions(precision=3)\n",
    "print('M edges (g)', edges_mm)\n",
    "print('q edges', edges_qq)\n",
    "print('z edges', edges_zz)"
   ]
  },
  {
   "cell_type": "code",
   "execution_count": null,
   "metadata": {},
   "outputs": [],
   "source": [
    "def integrate_mm(dnum, edges): # integrate dN/dlogM\n",
    "    num = utils.trapz(dnum, np.log10(edges[0]), axis=0, cumsum=False)\n",
    "    return num\n",
    "def integrate_qq(dnum, edges): # integrate dN/dq\n",
    "    num = utils.trapz(dnum, edges[1], axis=1, cumsum=False)\n",
    "    return num\n",
    "def integrate_zz(dnum, edges): # dN/dz\n",
    "    num = utils.trapz(dnum, edges[2], axis=2, cumsum=False)\n",
    "    return num\n",
    "def integrate_ff(dnum, fobs_gw_edges): # dN/dlogn\n",
    "    num = dnum*np.diff(np.log(fobs_gw_edges))\n",
    "    return num \n",
    "\n",
    "dnum = vals['diff_num']\n",
    "edges = vals['edges']\n",
    "fobs_gw_edges = vals['fobs_gw_edges']\n",
    "fobs_gw_cents = vals['fobs_gw_cents']\n",
    "dnum_mm = integrate_ff(integrate_zz(integrate_qq(dnum, edges), edges), fobs_gw_edges)\n",
    "dnum_qq = integrate_ff(integrate_qq(integrate_mm(dnum, edges), edges), fobs_gw_edges)\n",
    "dnum_zz = integrate_ff(integrate_qq(integrate_mm(dnum, edges), edges), fobs_gw_edges)\n",
    "print(dnum_mm.shape, dnum_qq.shape, dnum_zz.shape)"
   ]
  },
  {
   "cell_type": "code",
   "execution_count": null,
   "metadata": {},
   "outputs": [],
   "source": [
    "qq=5\n",
    "mm=7\n",
    "zz=5\n",
    "ff=1\n",
    "\n",
    "fig, axs = holo.plot.figax(\n",
    "    xlabel='edge parameters',\n",
    "    ylabel='$dN/d(\\mathrm{edge parameter})$',\n",
    "    ncols=3, figsize=(16,5),\n",
    "    sharey=True\n",
    ")\n",
    "\n",
    "xx = np.array([edges_mm/MSOL, edges_qq, edges_zz])\n",
    "yy = np.array([dnum_mm[:,qq,zz,ff], dnum[mm,:,zz,ff], dnum[:,qq,zz,ff]])\n",
    "labels = np.array(['$q=%.2f$, $z=%.2f$, $f=%.2f$/yr' % (cents_qq[qq], cents_zz[zz], fobs_gw_cents[ff]*YR),\n",
    "                   '$M=%.2e\\ M_\\odot$, $z=%.2f$, $f=%.2f$/yr' % (cents_mm[mm]/MSOL, cents_zz[zz], fobs_gw_cents[ff]*YR),\n",
    "                   '$M=%.2e\\ M_\\odot$, $q=%.2f$, $f=%.2f$/yr' % (cents_mm[mm]/MSOL, cents_qq[qq],  fobs_gw_cents[ff]*YR),])\n",
    "xlabels = np.array(['M ($M_\\odot$)', 'q', 'z'])\n",
    "ylabels = np.array(['$dN/d\\log (M)$', '$dN/dq$', '$dN/dz$'])\n",
    "\n",
    "for ii, ax in enumerate(axs):\n",
    "    ax.plot(xx[ii], yy[ii], label=labels[ii] \n",
    "            )\n",
    "    ax.set_xlabel(xlabels[ii])\n",
    "    ax.set_ylabel(ylabels[ii])\n",
    "    ax.legend(loc='lower left')\n",
    "\n",
    "fig.tight_layout"
   ]
  },
  {
   "cell_type": "code",
   "execution_count": null,
   "metadata": {},
   "outputs": [],
   "source": []
  },
  {
   "cell_type": "code",
   "execution_count": null,
   "metadata": {},
   "outputs": [],
   "source": [
    "def plot_numbers(vals, mm=8, qq=5, zz=8, ff=1):\n",
    "    dnum = vals['diff_num']\n",
    "    edges_mm = vals['edges'][0]\n",
    "    cents_mm = utils.midpoints(edges_mm, log=True)\n",
    "    edges_qq = vals['edges'][1]\n",
    "    cents_qq = utils.midpoints(edges_qq, log=True)\n",
    "    edges_zz = vals['edges'][2]\n",
    "    cents_zz = utils.midpoints(edges_zz, log=True)\n",
    "\n",
    "    cynum = vals['number']\n",
    "    tznum = integrate_zz(dnum_zz, edges)\n",
    "    utnum = utils._integrate_grid_differential_number(edges, dnum, freq=False)\n",
    "    utnum = utnum * np.diff(np.log(fobs_gw_edges))\n",
    "\n",
    "    fig, axs = holo.plot.figax(\n",
    "        xlabel='edge parameters',\n",
    "        ylabel='$dN/d(\\mathrm{edge parameter})$',\n",
    "        ncols=3, figsize=(16,5),\n",
    "        sharey=True\n",
    "    )\n",
    "\n",
    "    xx = np.array([cents_mm/MSOL, cents_qq, cents_zz])\n",
    "    yy_cyth = np.array([cynum[:,qq,zz,ff], cynum[mm,:,zz,ff], cynum[:,qq,zz,ff]])\n",
    "    yy_trap = np.array([tznum[:,qq,zz,ff], tznum[mm,:,zz,ff], tznum[:,qq,zz,ff]])\n",
    "    yy_util = np.array([utnum[:,qq,zz,ff], utnum[mm,:,zz,ff], utnum[:,qq,zz,ff]])\n",
    "    labels = np.array(['$q=%.2f$, $z=%.2f$, $f=%.2f$/yr' % (cents_qq[qq], cents_zz[zz], fobs_gw_cents[ff]*YR),\n",
    "                    '$M=%.2e\\ M_\\odot$, $z=%.2f$, $f=%.2f$/yr' % (cents_mm[mm]/MSOL, cents_zz[zz], fobs_gw_cents[ff]*YR),\n",
    "                    '$M=%.2e\\ M_\\odot$, $q=%.2f$, $f=%.2f$/yr' % (cents_mm[mm]/MSOL, cents_qq[qq],  fobs_gw_cents[ff]*YR),])\n",
    "    xlabels = np.array(['M ($M_\\odot$)', 'q', 'z'])\n",
    "    ylabels = np.array(['$N (M)$', '$N(q)$', '$N(z)$'])\n",
    "\n",
    "    for ii, ax in enumerate(axs):\n",
    "        ax.plot(xx[ii], yy_cyth[ii], label=labels[ii]+' cython', linestyle='-', alpha=0.75 \n",
    "                )\n",
    "        ax.plot(xx[ii], yy_trap[ii], label=labels[ii]+' trapz', linestyle='--', alpha=0.75 \n",
    "                )\n",
    "        ax.plot(xx[ii], yy_util[ii], label=labels[ii]+' utils', linestyle=':', alpha=0.75 \n",
    "                )\n",
    "        ax.set_xlabel(xlabels[ii])\n",
    "        ax.set_ylabel(ylabels[ii])\n",
    "        ax.legend()\n",
    "\n",
    "    fig.tight_layout\n",
    "    return fig\n",
    "\n",
    "fig = plot_numbers(vals)"
   ]
  },
  {
   "attachments": {},
   "cell_type": "markdown",
   "metadata": {},
   "source": [
    "ok cool, my integration is working right"
   ]
  },
  {
   "cell_type": "code",
   "execution_count": null,
   "metadata": {},
   "outputs": [],
   "source": [
    "def plot_strain_amp(vals, mm=7, qq=5, zz=5, ff=1):\n",
    "    # dnum = vals['diff_num']\n",
    "    edges = vals['edges']\n",
    "    edges_mm = vals['edges'][0]\n",
    "    cents_mm = utils.midpoints(edges_mm, log=True)\n",
    "    edges_qq = vals['edges'][1]\n",
    "    cents_qq = utils.midpoints(edges_qq, log=True)\n",
    "    edges_zz = vals['edges'][2]\n",
    "    cents_zz = utils.midpoints(edges_zz, log=True)\n",
    "\n",
    "\n",
    "    hs_final = anis.strain_amp_at_bin_centers_redz(edges, vals['redz_final'])\n",
    "    hs_initz = anis.strain_amp_at_bin_centers_redz(edges, redz=None)\n",
    "    print(holo.utils.stats(hs_final/hs_initz))\n",
    "\n",
    "    fig, axs = holo.plot.figax(\n",
    "        xlabel='edge parameters',\n",
    "        ylabel='$dN/d(\\mathrm{edge parameter})$',\n",
    "        ncols=3, figsize=(16,5),\n",
    "        sharey=True\n",
    "    )\n",
    "\n",
    "    xx = np.array([cents_mm/MSOL, cents_qq, cents_zz])\n",
    "    yy_initz = np.array([hs_initz[:,qq,zz,ff], hs_initz[mm,:,zz,ff], hs_initz[:,qq,zz,ff]])\n",
    "    yy_final = np.array([hs_final[:,qq,zz,ff], hs_final[mm,:,zz,ff], hs_final[:,qq,zz,ff]])\n",
    "    labels = np.array(['$q=%.2f$, $z=%.2f$, $f=%.2f$/yr' % (cents_qq[qq], cents_zz[zz], fobs_gw_cents[ff]*YR),\n",
    "                    '$M=%.2e\\ M_\\odot$, $z=%.2f$, $f=%.2f$/yr' % (cents_mm[mm]/MSOL, cents_zz[zz], fobs_gw_cents[ff]*YR),\n",
    "                    '$M=%.2e\\ M_\\odot$, $q=%.2f$, $f=%.2f$/yr' % (cents_mm[mm]/MSOL, cents_qq[qq],  fobs_gw_cents[ff]*YR),])\n",
    "    xlabels = np.array(['M ($M_\\odot$)', 'q', 'z'])\n",
    "    ylabels = np.array(['$h_s (M)$', '$h_s(q)$', '$h_s(z)$'])\n",
    "\n",
    "    for ii, ax in enumerate(axs):\n",
    "        ax.plot(xx[ii], yy_initz[ii], label=labels[ii]+' initial z', linestyle='-', alpha=0.75 \n",
    "                )\n",
    "        ax.plot(xx[ii], yy_final[ii], label=labels[ii]+' final z', linestyle='--', alpha=0.75 \n",
    "                )\n",
    "        ax.set_xlabel(xlabels[ii])\n",
    "        ax.set_ylabel(ylabels[ii])\n",
    "        ax.legend()\n",
    "\n",
    "    fig.tight_layout\n",
    "    return fig\n",
    "\n",
    "fig = plot_strain_amp(vals)"
   ]
  },
  {
   "attachments": {},
   "cell_type": "markdown",
   "metadata": {},
   "source": [
    "# Comparing strain amplitude for initial/final redz\n",
    "\n",
    "conclusion: \n",
    "hs differences are almost negligible UNLESS hs_final is just 0 because redz_final has become -1 (never reaches GW emission)\n"
   ]
  },
  {
   "cell_type": "code",
   "execution_count": null,
   "metadata": {},
   "outputs": [],
   "source": [
    "sam=holo.sam.Semi_Analytic_Model(shape=20)\n",
    "vals = sam_model(hard=holo.hardening.Fixed_Time_2PL_SAM(sam, 3*GYR), shape=20, use_redz=True)\n",
    "fig = plot_strain_amp(vals, mm=18, qq=18, zz=15, ff=32)"
   ]
  },
  {
   "cell_type": "code",
   "execution_count": null,
   "metadata": {},
   "outputs": [],
   "source": [
    "\n",
    "edges_zz = vals['edges'][2]\n",
    "cents_zz = utils.midpoints(edges_zz, log=True)\n",
    "redz_final = vals['redz_final']\n",
    "print(np.unravel_index(np.argmax(np.abs(redz_final-edges_zz[np.newaxis,np.newaxis,:,np.newaxis])), redz_final.shape))"
   ]
  },
  {
   "cell_type": "code",
   "execution_count": null,
   "metadata": {},
   "outputs": [],
   "source": [
    "hs_final = anis.strain_amp_at_bin_edges_redz(vals['edges'], vals['redz_final'])\n",
    "hs_initz = anis.strain_amp_at_bin_edges_redz(vals['edges'], redz=None)\n",
    "print(hs_final[14,0,17,32])\n",
    "print(hs_initz[14,0,17,32])\n",
    "print(np.unravel_index(np.argmax(np.abs(hs_final-hs_initz)), hs_initz.shape))\n",
    "print(hs_final[19,19,0,39])\n",
    "print(hs_initz[19,19,0,39])"
   ]
  },
  {
   "cell_type": "code",
   "execution_count": null,
   "metadata": {},
   "outputs": [],
   "source": [
    "\n",
    "plt.scatter(redz_final.flatten(), hs_final.flatten())"
   ]
  },
  {
   "cell_type": "code",
   "execution_count": null,
   "metadata": {},
   "outputs": [],
   "source": [
    "plt.scatter(edges_zz, redz_final[19,19,:,39])"
   ]
  },
  {
   "cell_type": "code",
   "execution_count": null,
   "metadata": {},
   "outputs": [],
   "source": []
  }
 ],
 "metadata": {
  "kernelspec": {
   "display_name": "holo310",
   "language": "python",
   "name": "python3"
  },
  "language_info": {
   "codemirror_mode": {
    "name": "ipython",
    "version": 3
   },
   "file_extension": ".py",
   "mimetype": "text/x-python",
   "name": "python",
   "nbconvert_exporter": "python",
   "pygments_lexer": "ipython3",
   "version": "3.10.10"
  }
 },
 "nbformat": 4,
 "nbformat_minor": 2
}
