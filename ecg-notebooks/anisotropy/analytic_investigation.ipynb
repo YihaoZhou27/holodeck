{
 "cells": [
  {
   "cell_type": "code",
   "execution_count": null,
   "metadata": {},
   "outputs": [],
   "source": [
    "%reload_ext autoreload\n",
    "%autoreload 2\n",
    "from importlib import reload\n",
    "\n",
    "import holodeck as holo\n",
    "import holodeck.anisotropy as anis\n",
    "import matplotlib.pyplot as plot\n",
    "import numpy as np"
   ]
  },
  {
   "attachments": {},
   "cell_type": "markdown",
   "metadata": {},
   "source": [
    "* dens = d^3 n / [dlog10M dq dz] in units of [Mpc^-3] \n",
    "* dnum = d^4N / dlog10M dq dz dlnf\n",
    "* number = dN /dlnf"
   ]
  },
  {
   "cell_type": "code",
   "execution_count": null,
   "metadata": {},
   "outputs": [],
   "source": []
  },
  {
   "cell_type": "code",
   "execution_count": null,
   "metadata": {},
   "outputs": [],
   "source": [
    "nbins = 10\n",
    "\n",
    "# redshift edges 0.01 to 1\n",
    "edges = np.geomspace(10**-2, 10**1, nbins+1)  # z bins\n",
    "print('z edges:', edges)\n",
    "\n",
    "# dnum up to order 10^5, 10^6\n",
    "dnum = np.geomspace(10**6, 10**0, nbins+1) # d^2N / dz dlnf \n",
    "print('dnum:', dnum)\n",
    "if(dnum[0]>dnum[-1]):\n",
    "    dnum_str = 'dnum decreasing'\n",
    "else: \n",
    "    dnum_str = 'dnum increasing'\n",
    "\n",
    "# num \n",
    "num = holo.utils.trapz(dnum, edges)\n",
    "print('num:', num)\n",
    "\n",
    "# hs up to 10^-15\n",
    "hs_exp_edges = np.linspace(-20, -15, nbins+1) \n",
    "hs_exp_cents = holo.utils.midpoints(hs_exp_edges)\n",
    "\n",
    "hs_edges = 10**hs_exp_edges\n",
    "hs_cents = 10**hs_exp_cents\n",
    "if(hs_cents[0]>hs_cents[-1]):\n",
    "    hs_str = 'hs decreasing'\n",
    "else:\n",
    "    hs_str = 'hs increasing'\n",
    "print('hs_cents:', hs_cents)\n",
    "print('hs_edges:', hs_edges)\n"
   ]
  },
  {
   "cell_type": "code",
   "execution_count": null,
   "metadata": {},
   "outputs": [],
   "source": [
    "numh2 = num*hs_cents**2\n",
    "numh4 = num*hs_cents**4\n",
    "\n",
    "dnumh2 = dnum*hs_edges**2\n",
    "inth2 = holo.utils.trapz(dnumh2, edges)\n",
    "\n",
    "dnumh4 = dnum*hs_edges**4\n",
    "inth4 = holo.utils.trapz(dnumh4, edges)"
   ]
  },
  {
   "cell_type": "code",
   "execution_count": null,
   "metadata": {},
   "outputs": [],
   "source": [
    "fig, ax = holo.plot.figax(xlabel='z edges', ylabel='integral')\n",
    "\n",
    "ax.plot(edges[:-1], inth2, label=r'$\\int(\\mathrm{dnum}*h^2)$')\n",
    "ax.plot(edges[:-1], numh2, label=r'$h^2* \\int(\\mathrm{dnum})$')\n",
    "# ax.plot(edges[:-1], inth4, label=r'$\\int(\\mathrm{dnum}*h^4)$')\n",
    "# ax.plot(edges[:-1], numh4, label=r'$h^4* \\int(\\mathrm{dnum})$')\n",
    "\n",
    "ax.legend()\n",
    "ax.set_title('z increasing -> %s and %s' % (dnum_str, hs_str))"
   ]
  },
  {
   "cell_type": "code",
   "execution_count": null,
   "metadata": {},
   "outputs": [],
   "source": [
    "fig, ax = holo.plot.figax(xlabel='z edges', ylabel='integral')\n",
    "\n",
    "# ax.plot(edges[:-1], inth2, label=r'$\\int(\\mathrm{dnum}*h^2)$')\n",
    "# ax.plot(edges[:-1], numh2, label=r'$h^2* \\int(\\mathrm{dnum})$')\n",
    "ax.plot(edges[:-1], inth4, label=r'$\\int(\\mathrm{dnum}*h^4)$')\n",
    "ax.plot(edges[:-1], numh4, label=r'$h^4* \\int(\\mathrm{dnum})$')\n",
    "\n",
    "ax.legend()\n",
    "\n",
    "ax.set_title('z increasing -> %s and %s' % (dnum_str, hs_str))"
   ]
  },
  {
   "attachments": {},
   "cell_type": "markdown",
   "metadata": {},
   "source": [
    "integrating before just makes the values slightly smaller"
   ]
  },
  {
   "cell_type": "code",
   "execution_count": null,
   "metadata": {},
   "outputs": [],
   "source": [
    "print(num)"
   ]
  },
  {
   "cell_type": "code",
   "execution_count": null,
   "metadata": {},
   "outputs": [],
   "source": [
    "print(np.floor(num))"
   ]
  },
  {
   "cell_type": "code",
   "execution_count": null,
   "metadata": {},
   "outputs": [],
   "source": []
  }
 ],
 "metadata": {
  "kernelspec": {
   "display_name": "holo310",
   "language": "python",
   "name": "python3"
  },
  "language_info": {
   "codemirror_mode": {
    "name": "ipython",
    "version": 3
   },
   "file_extension": ".py",
   "mimetype": "text/x-python",
   "name": "python",
   "nbconvert_exporter": "python",
   "pygments_lexer": "ipython3",
   "version": "3.10.10"
  }
 },
 "nbformat": 4,
 "nbformat_minor": 2
}
