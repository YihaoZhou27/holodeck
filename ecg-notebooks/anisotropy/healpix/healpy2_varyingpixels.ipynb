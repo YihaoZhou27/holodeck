{
 "cells": [
  {
   "cell_type": "code",
   "execution_count": null,
   "metadata": {},
   "outputs": [],
   "source": [
    "import holodeck as holo\n",
    "from holodeck import single_sources, utils, plot, detstats\n",
    "from holodeck.constants import YR\n",
    "\n",
    "import numpy as np\n",
    "import healpy as hp\n",
    "import matplotlib.pyplot as plt\n",
    "\n",
    "import hasasia.sensitivity as hsen\n",
    "import hasasia.sim as hsim\n",
    "import hasasia.skymap as hsky"
   ]
  },
  {
   "attachments": {},
   "cell_type": "markdown",
   "metadata": {},
   "source": [
    "# Read in saved sam & strain data"
   ]
  },
  {
   "attachments": {},
   "cell_type": "markdown",
   "metadata": {},
   "source": [
    "Option 1) Make realizations"
   ]
  },
  {
   "cell_type": "code",
   "execution_count": null,
   "metadata": {},
   "outputs": [],
   "source": [
    "# dur = 15 * YR\n",
    "# nfreqs = 40\n",
    "# cad = dur/nfreqs/2\n",
    "# fobs= utils.nyquist_freqs(dur, cad)\n",
    "# fobs_edges = utils.nyquist_freqs_edges(dur, cad)\n",
    "# df_orb = np.diff(fobs_edges/2)\n",
    "# print(len(fobs))\n",
    "# sam = holo.sam.Semi_Analytic_Model()\n",
    "# hc_ss, hc_bg = sam.ss_gwb(fobs_edges, realize=3, loudest=10000)\n",
    "# np.savez('/Users/emigardiner/GWs/holodeck/ecg-notebooks/detstats_functions/npz_arrays/sam02_r3_f40_l10000.npz', \n",
    "#          dur=dur, cad=cad, fobs=fobs, df_orb=df_orb, hc_ss=hc_ss, hc_bg=hc_bg, edges=sam.edges)"
   ]
  },
  {
   "attachments": {},
   "cell_type": "markdown",
   "metadata": {},
   "source": [
    "Option 2) Load existing"
   ]
  },
  {
   "cell_type": "code",
   "execution_count": null,
   "metadata": {},
   "outputs": [],
   "source": [
    "# sam02 has r3, f40, 15 yr dur, 40 freqs, ca\n",
    "hcfile = np.load('/Users/emigardiner/GWs/holodeck/ecg-notebooks/detstats_functions/npz_arrays/sam02_r3_f40_l10000.npz')\n",
    "dur = hcfile['dur']\n",
    "cad = hcfile['cad']\n",
    "fobs = hcfile['fobs'][:]\n",
    "df_orb = hcfile['df_orb']\n",
    "hc_ss = hcfile['hc_ss']\n",
    "hc_bg = hcfile['hc_bg']\n",
    "hcfile.close()\n",
    "\n",
    "shape = hc_ss.shape\n",
    "F, R, L = shape[0], shape[1], shape[2]\n",
    "print('F, R, L =', F,R,L)\n",
    "sam_name = 'sam02: dur=%.2f yr, cad=%.4f yr, %d loudest' % (dur/YR, cad/YR, L)\n",
    "print(sam_name)"
   ]
  },
  {
   "attachments": {},
   "cell_type": "markdown",
   "metadata": {},
   "source": [
    "# Build skymap"
   ]
  },
  {
   "cell_type": "code",
   "execution_count": null,
   "metadata": {},
   "outputs": [],
   "source": [
    "# Random sky positions\n",
    "NSIDE1 = 32\n",
    "print( \"Approximate resolution at NSIDE {} is {:.2} deg\".format(\n",
    "        NSIDE1, hp.nside2resol(NSIDE1, arcmin=True) / 60))\n",
    "NPIX1 = hp.nside2npix(NSIDE1)\n",
    "print(NPIX1)\n",
    "\n",
    "# Random sky positions\n",
    "NSIDE2 = 28\n",
    "print( \"Approximate resolution at NSIDE {} is {:.2} deg\".format(\n",
    "        NSIDE2, hp.nside2resol(NSIDE2, arcmin=True) / 60))\n",
    "NPIX2 = hp.nside2npix(NSIDE2)\n",
    "print(NPIX2)\n",
    "\n",
    "# Random sky positions\n",
    "NSIDE3 = 24\n",
    "print( \"Approximate resolution at NSIDE {} is {:.2} deg\".format(\n",
    "        NSIDE2, hp.nside2resol(NSIDE3, arcmin=True) / 60))\n",
    "NPIX3 = hp.nside2npix(NSIDE3)\n",
    "print(NPIX3)"
   ]
  },
  {
   "attachments": {},
   "cell_type": "markdown",
   "metadata": {},
   "source": [
    "# Place Random Single Sources"
   ]
  },
  {
   "cell_type": "code",
   "execution_count": null,
   "metadata": {},
   "outputs": [],
   "source": [
    "m_strain1 = np.zeros((F,NPIX1)) # frequency, pixel positon\n",
    "m_strain2 = np.zeros((F,NPIX2)) # frequency, pixel positon\n",
    "m_strain3 = np.zeros((F,NPIX2)) # frequency, pixel positon\n",
    "# paint the background evenly across\n",
    "rr=0 # just one realization\n",
    "# avg_pix_strain = hc_bg[:] #/ NPIX # (F,R)\n",
    "\n",
    "# strain per pixel = sqrt(hc^2 / npixels)\n",
    "m_strain1 = np.ones((F,NPIX1)) * hc_bg[:,rr,np.newaxis]/np.sqrt(NPIX1)\n",
    "m_strain2 = np.ones((F,NPIX2)) * hc_bg[:,rr,np.newaxis]/np.sqrt(NPIX2)\n",
    "m_strain3 = np.ones((F,NPIX3)) * hc_bg[:,rr,np.newaxis]/np.sqrt(NPIX3)\n",
    "# print('hc_bg=\\n',hc_bg[:,rr], '\\nnpix=',NPIX1, '\\nbgpix strain=\\n', (m_strain1[:,0]))\n",
    "# print('hc_bg=\\n',hc_bg[:,rr], '\\nnpix=',NPIX2, '\\nbgpix strain=\\n', (m_strain2[:,0]))\n",
    "\n",
    "# choose random pixels to place single sources, \n",
    "pix_ss1 = np.random.randint(0, NPIX1-1, size=F*L).reshape(F,L)\n",
    "pix_ss2 = np.random.randint(0, NPIX2-1, size=F*L).reshape(F,L)\n",
    "pix_ss3 = np.random.randint(0, NPIX3-1, size=F*L).reshape(F,L)\n",
    "print(pix_ss1.shape)\n",
    "\n",
    "# and add the ss_strains to their pixels\n",
    "for ff in range(F):\n",
    "    for ll in range(L):\n",
    "        m_strain1[ff,pix_ss1[ff,ll]] = np.sqrt(m_strain1[ff,pix_ss1[ff,ll]]**2 + hc_ss[ff,rr,ll]**2)\n",
    "        m_strain2[ff,pix_ss2[ff,ll]] = np.sqrt(m_strain2[ff,pix_ss2[ff,ll]]**2 + hc_ss[ff,rr,ll]**2)\n",
    "        m_strain3[ff,pix_ss3[ff,ll]] = np.sqrt(m_strain3[ff,pix_ss3[ff,ll]]**2 + hc_ss[ff,rr,ll]**2)"
   ]
  },
  {
   "cell_type": "code",
   "execution_count": null,
   "metadata": {},
   "outputs": [],
   "source": [
    "# show in skymap\n",
    "# ff=23\n",
    "def ff_mollview(hc_ss, pix_ss, m_strain1, ff, plot=False, saveloc=None, ax=None):\n",
    "    # print(hc_ss[ff,rr,:])\n",
    "    if plot:\n",
    "        plt.scatter(np.arange(len(hc_ss[ff,rr,:])), pix_ss[ff,:], c=np.log(hc_ss[ff,rr,:]), cmap='viridis', s=0.5)\n",
    "        plt.colorbar(label='log(hc_ss)')\n",
    "        plt.xlabel(\"L'th Loudest\")\n",
    "        plt.ylabel('Pixel')\n",
    "    if ax is not None:\n",
    "        plt.axes(ax)\n",
    "    hp.mollview(m_strain1[ff], title='%d Loudest Single Sources at %.2f yr$^{-1}$ (freq bin %d/%d)' % (L, fobs[ff]*YR, ff, F))\n",
    "    if saveloc is not None:\n",
    "        fname = saveloc+'hp_ff%02d.png' % ff\n",
    "        print(fname)\n",
    "        plt.savefig(fname, dpi=300)\n",
    "    plt.close()\n",
    "# fig = ff_mollview(hc_ss, pix_ss, m_strain1, 23, plot=True)\n"
   ]
  },
  {
   "attachments": {},
   "cell_type": "markdown",
   "metadata": {},
   "source": [
    "## Per Frequency Skymaps"
   ]
  },
  {
   "cell_type": "code",
   "execution_count": null,
   "metadata": {},
   "outputs": [],
   "source": [
    "# saveloc = '/Users/emigardiner/GWs/holodeck/ecg-notebooks/healpix/2023-05-13_sam02_l10000/'\n",
    "for ff in range(F):\n",
    "    fig = ff_mollview(hc_ss, pix_ss2, m_strain1, ff, saveloc=None)\n",
    "    # fig.savefig(saveloc+'hp_ff%02d.png' % ff, dpi=300)\n",
    "    # plt.close(fig)"
   ]
  },
  {
   "cell_type": "code",
   "execution_count": null,
   "metadata": {},
   "outputs": [],
   "source": [
    "fig, axs = plt.subplots(nrows=10, ncols=int(F/10))\n",
    "for ff in range(F):\n",
    "    title='$f$= %.2f yr$^{-1}$ (bin %d/%d)' % (fobs[ff]*YR, ff, F)\n",
    "    row, col = int(ff/4), ff%4\n",
    "    # print(row,col)\n",
    "    plt.axes(axs[row,col])\n",
    "    hp.mollview(m_strain2[ff], title=title, hold=True)\n",
    "\n",
    "fig.suptitle('%d Loudest Single Sources' % L, y=.895)\n",
    "fig.tight_layout()\n",
    "fig.set_size_inches(18, 30)\n",
    "# fig.savefig(saveloc+'all_freqs.png', dpi=1000)\n",
    "\n",
    "# fig"
   ]
  },
  {
   "attachments": {},
   "cell_type": "markdown",
   "metadata": {},
   "source": [
    "# Spherical Harmonics"
   ]
  },
  {
   "attachments": {},
   "cell_type": "markdown",
   "metadata": {},
   "source": [
    "freq bin 5 is nice, lets use that first"
   ]
  },
  {
   "cell_type": "code",
   "execution_count": null,
   "metadata": {},
   "outputs": [],
   "source": [
    "Cl_lmax1 = np.zeros((F,9))\n",
    "Cl_lmax2 = np.zeros((F,9))\n",
    "Cl_lmax3 = np.zeros((F,9))\n",
    "# E_l_lmax8 = np.zeros((F,9))"
   ]
  },
  {
   "cell_type": "code",
   "execution_count": null,
   "metadata": {},
   "outputs": [],
   "source": [
    "for ff in range(F):\n",
    "    # power spectrum of a healpix map\n",
    "    Cl_lmax1[ff,:] = hp.anafast(m_strain1[ff], lmax=8)\n",
    "    Cl_lmax2[ff,:] = hp.anafast(m_strain2[ff], lmax=8)\n",
    "    Cl_lmax3[ff,:] = hp.anafast(m_strain3[ff], lmax=8)\n",
    "print(Cl_lmax1.shape)\n",
    "\n",
    "Cl_C0_ratio1 = Cl_lmax1[:,:]/Cl_lmax1[:,0][:,np.newaxis]\n",
    "Cl_C0_ratio2 = Cl_lmax2[:,:]/Cl_lmax2[:,0][:,np.newaxis]\n",
    "Cl_C0_ratio3 = Cl_lmax3[:,:]/Cl_lmax3[:,0][:,np.newaxis]\n",
    "print(Cl_C0_ratio1.shape)\n",
    "\n",
    "l_vals = np.arange(len(Cl_lmax1[0]))\n",
    "\n",
    "Cl_cum1 = np.sum(Cl_lmax1[:,1:], axis=1)\n",
    "Cl_cum_ratio1 = Cl_cum1/Cl_lmax1[:,0]\n",
    "Cl_cum2 = np.sum(Cl_lmax2[:,1:], axis=1)\n",
    "Cl_cum_ratio2 = Cl_cum2/Cl_lmax2[:,0]\n",
    "Cl_cum3 = np.sum(Cl_lmax3[:,1:], axis=1)\n",
    "Cl_cum_ratio3 = Cl_cum3/Cl_lmax3[:,0]\n",
    "print(Cl_cum_ratio1.shape)"
   ]
  },
  {
   "attachments": {},
   "cell_type": "markdown",
   "metadata": {},
   "source": [
    "plot all the spherical harmonics"
   ]
  },
  {
   "cell_type": "code",
   "execution_count": null,
   "metadata": {},
   "outputs": [],
   "source": [
    "fig, axs = plt.subplots(nrows=10, ncols=int(F/10), sharex=True, sharey=True)\n",
    "for ff in range(F):\n",
    "    title='$f$= %.2f yr$^{-1}$ (bin %d/%d)' % (fobs[ff]*YR, ff, F)\n",
    "    row, col = int(ff/4), ff%4\n",
    "    # print(row,col)\n",
    "    ax = axs[row,col]\n",
    "    ax.plot(l_vals, Cl_C0_ratio1[ff])\n",
    "    if row==9:\n",
    "        ax.set_xlabel('$l$')\n",
    "    if col==0:\n",
    "        ax.set_ylabel('$C_l/C_0$')\n",
    "\n",
    "# fig.suptitle('%d Loudest Single Sources' % L, y=.895)\n",
    "# fig.tight_layout()\n",
    "fig.set_size_inches(18, 30)\n",
    "# fig.savefig(saveloc+'all_freqs.png', dpi=1000)\n",
    "\n",
    "# fig"
   ]
  },
  {
   "cell_type": "code",
   "execution_count": null,
   "metadata": {},
   "outputs": [],
   "source": [
    "import matplotlib.cm as cm\n",
    "colors=cm.rainbow(np.linspace(0,1,F))\n",
    "fobs_nHz = fobs*10**9\n",
    "print(fobs_nHz)"
   ]
  },
  {
   "attachments": {},
   "cell_type": "markdown",
   "metadata": {},
   "source": [
    "Plot Just Cl"
   ]
  },
  {
   "cell_type": "code",
   "execution_count": null,
   "metadata": {},
   "outputs": [],
   "source": [
    "fig, ax = plt.subplots(figsize=(8,5))\n",
    "\n",
    "for ff in range(F):\n",
    "    if ff in (0, 10, 20, 30, 39):\n",
    "        label= ('$f$ = %.2f nHz' % fobs_nHz[ff])\n",
    "    else: label = None\n",
    "    ax.plot(l_vals[:], Cl_lmax1[ff,:], c=colors[ff], alpha=0.5, label=label,\n",
    "            marker='o')\n",
    "ax.set_xlabel('$l$')\n",
    "ax.set_ylabel('$C_l$')\n",
    "ax.set_yscale('log')\n",
    "ax.set_title('Spherical Harmonic Coefficients, NPIX=%d' % NPIX1)\n",
    "ax.legend()\n",
    "# fig.suptitle('%d Loudest Single Sources' % L, y=.895)\n",
    "fig.tight_layout()\n",
    "# fig.savefig(saveloc+'all_freqs.png', dpi=1000)\n",
    "\n",
    "# fig"
   ]
  },
  {
   "cell_type": "code",
   "execution_count": null,
   "metadata": {},
   "outputs": [],
   "source": [
    "fig, ax = plt.subplots(figsize=(8,5))\n",
    "\n",
    "for ff in range(F):\n",
    "    if ff in (0, 10, 20, 30, 39):\n",
    "        label= ('$f$ = %.2f nHz' % fobs_nHz[ff])\n",
    "    else: label = None\n",
    "    ax.plot(l_vals[:], Cl_lmax2[ff,:], c=colors[ff], alpha=0.5, label=label,\n",
    "            marker='o')\n",
    "ax.set_xlabel('$l$')\n",
    "ax.set_ylabel('$C_l$')\n",
    "ax.set_yscale('log')\n",
    "ax.set_title('Spherical Harmonic Coefficients, NPIX = %d' % NPIX2)\n",
    "ax.legend()\n",
    "# fig.suptitle('%d Loudest Single Sources' % L, y=.895)\n",
    "fig.tight_layout()\n",
    "# fig.savefig(saveloc+'all_freqs.png', dpi=1000)\n",
    "\n",
    "# fig"
   ]
  },
  {
   "cell_type": "code",
   "execution_count": null,
   "metadata": {},
   "outputs": [],
   "source": [
    "fig, ax = plt.subplots(figsize=(8,5))\n",
    "\n",
    "for ff in range(F):\n",
    "    if ff in (0, 10, 20, 30, 39):\n",
    "        label= ('$f$ = %.2f nHz' % fobs_nHz[ff])\n",
    "    else: label = None\n",
    "    ax.plot(l_vals[:], Cl_lmax3[ff,:], c=colors[ff], alpha=0.5, label=label,\n",
    "            marker='o')\n",
    "ax.set_xlabel('$l$')\n",
    "ax.set_ylabel('$C_l$')\n",
    "ax.set_yscale('log')\n",
    "ax.set_title('Spherical Harmonic Coefficients, NPIX = %d' % NPIX3)\n",
    "ax.legend()\n",
    "# fig.suptitle('%d Loudest Single Sources' % L, y=.895)\n",
    "fig.tight_layout()\n",
    "# fig.savefig(saveloc+'all_freqs.png', dpi=1000)\n",
    "\n",
    "# fig"
   ]
  },
  {
   "cell_type": "code",
   "execution_count": null,
   "metadata": {},
   "outputs": [],
   "source": [
    "fig, (ax1,ax2,ax3) = plt.subplots(nrows=1, ncols=3, sharey=True, figsize=(12,5))\n",
    "\n",
    "for ff in range(F):\n",
    "    if ff in (0, 10, 20, 30, 39):\n",
    "        label= ('$f$ = %.2f nHz' % fobs_nHz[ff])\n",
    "    else: label = None\n",
    "    ax1.plot(l_vals[1:], Cl_lmax1[ff,1:], c=colors[ff], alpha=0.5, label=label,\n",
    "            marker='o')\n",
    "    ax2.plot(l_vals[1:], Cl_lmax2[ff,1:], c=colors[ff], alpha=0.5, label=label,\n",
    "            marker='o')\n",
    "    ax3.plot(l_vals[1:], Cl_lmax3[ff,1:], c=colors[ff], alpha=0.5, label=label,\n",
    "            marker='o')\n",
    "for ax in (ax1, ax2, ax3):\n",
    "    ax.set_xlabel('$\\ell$')\n",
    "    ax.set_yscale('log')\n",
    "ax1.set_ylabel('$C_l$')\n",
    "ax1.set_title('NPIX = %d' %NPIX1)\n",
    "ax2.set_title('NPIX = %d' %NPIX2)\n",
    "ax3.set_title('NPIX = %d' %NPIX3)\n",
    "ax.legend()\n",
    "# fig.suptitle('%d Loudest Single Sources' % L, y=.895)\n",
    "fig.tight_layout()\n",
    "# fig.savefig(saveloc+'all_freqs.png', dpi=1000)\n",
    "\n",
    "# fig"
   ]
  },
  {
   "attachments": {},
   "cell_type": "markdown",
   "metadata": {},
   "source": [
    "### plot C_l/C_0"
   ]
  },
  {
   "cell_type": "code",
   "execution_count": null,
   "metadata": {},
   "outputs": [],
   "source": [
    "fig, ax = plt.subplots(figsize=(8,5))\n",
    "\n",
    "for ff in range(F):\n",
    "    if ff in (0, 10, 20, 30, 39):\n",
    "        label= ('$f$ = %.2f nHz' % fobs_nHz[ff])\n",
    "    else: label = None\n",
    "    ax.plot(l_vals[1:], Cl_C0_ratio1[ff,1:], c=colors[ff], alpha=0.5, label=label,\n",
    "            marker='o')\n",
    "ax.set_xlabel('$\\ell$')\n",
    "ax.set_ylabel('$C_\\ell/C_0$')\n",
    "ax.set_yscale('log')\n",
    "ax.set_title('Spherical Harmonic Coefficients, NPIX = %d' %NPIX1)\n",
    "ax.legend()\n",
    "# fig.suptitle('%d Loudest Single Sources' % L, y=.895)\n",
    "fig.tight_layout()\n",
    "# fig.savefig(saveloc+'all_freqs.png', dpi=1000)\n",
    "\n",
    "# fig"
   ]
  },
  {
   "cell_type": "code",
   "execution_count": null,
   "metadata": {},
   "outputs": [],
   "source": [
    "fig, ax = plt.subplots(figsize=(8,5))\n",
    "\n",
    "for ff in range(F):\n",
    "    if ff in (0, 10, 20, 30, 39):\n",
    "        label= ('$f$ = %.2f nHz' % fobs_nHz[ff])\n",
    "    else: label = None\n",
    "    ax.plot(l_vals[1:], Cl_C0_ratio2[ff,1:], c=colors[ff], alpha=0.5, label=label,\n",
    "            marker='o')\n",
    "ax.set_xlabel('$\\ell$')\n",
    "ax.set_ylabel('$C_\\ell/C_0$')\n",
    "ax.set_yscale('log')\n",
    "ax.set_title('Spherical Harmonic Coefficients, NPIX = %d' %NPIX2)\n",
    "ax.legend()\n",
    "# fig.suptitle('%d Loudest Single Sources' % L, y=.895)\n",
    "fig.tight_layout()\n",
    "# fig.savefig(saveloc+'all_freqs.png', dpi=1000)\n",
    "\n",
    "# fig"
   ]
  },
  {
   "cell_type": "code",
   "execution_count": null,
   "metadata": {},
   "outputs": [],
   "source": [
    "fig, ax = plt.subplots(figsize=(8,5))\n",
    "\n",
    "for ff in range(F):\n",
    "    if ff in (0, 10, 20, 30, 39):\n",
    "        label= ('$f$ = %.2f nHz' % fobs_nHz[ff])\n",
    "    else: label = None\n",
    "    ax.plot(l_vals[1:], Cl_C0_ratio3[ff,1:], c=colors[ff], alpha=0.5, label=label,\n",
    "            marker='o')\n",
    "ax.set_xlabel('$\\ell$')\n",
    "ax.set_ylabel('$C_\\ell/C_0$')\n",
    "ax.set_yscale('log')\n",
    "ax.set_title('Spherical Harmonic Coefficients, NPIX = %d' %NPIX3)\n",
    "ax.legend()\n",
    "# fig.suptitle('%d Loudest Single Sources' % L, y=.895)\n",
    "fig.tight_layout()\n",
    "# fig.savefig(saveloc+'all_freqs.png', dpi=1000)\n",
    "\n",
    "# fig"
   ]
  },
  {
   "cell_type": "code",
   "execution_count": null,
   "metadata": {},
   "outputs": [],
   "source": [
    "fig, (ax1,ax2,ax3) = plt.subplots(nrows=1, ncols=3, sharey=True, figsize=(12,5))\n",
    "\n",
    "for ff in range(F):\n",
    "    if ff in (0, 10, 20, 30, 39):\n",
    "        label= ('$f$ = %.2f nHz' % fobs_nHz[ff])\n",
    "    else: label = None\n",
    "    ax1.plot(l_vals[1:], Cl_C0_ratio1[ff,1:], c=colors[ff], alpha=0.5, label=label,\n",
    "            marker='o')\n",
    "    ax2.plot(l_vals[1:], Cl_C0_ratio2[ff,1:], c=colors[ff], alpha=0.5, label=label,\n",
    "            marker='o')\n",
    "    ax3.plot(l_vals[1:], Cl_C0_ratio3[ff,1:], c=colors[ff], alpha=0.5, label=label,\n",
    "            marker='o')\n",
    "for ax in (ax1, ax2, ax3):\n",
    "    ax.set_xlabel('$\\ell$')\n",
    "    ax.set_yscale('log')\n",
    "ax1.set_ylabel('$C_\\ell/C_0$')\n",
    "ax1.set_title('NPIX = %d' %NPIX1)\n",
    "ax2.set_title('NPIX = %d' %NPIX2)\n",
    "ax3.set_title('NPIX = %d' %NPIX3)\n",
    "ax.legend()\n",
    "# fig.suptitle('%d Loudest Single Sources' % L, y=.895)\n",
    "fig.tight_layout()\n",
    "# fig.savefig(saveloc+'all_freqs.png', dpi=1000)\n",
    "\n",
    "# fig"
   ]
  },
  {
   "attachments": {},
   "cell_type": "markdown",
   "metadata": {},
   "source": [
    "### Compare to energy\n",
    "fraction of energy in the background vs the sum over the 1000 sources.\n",
    "\n",
    "\"I’m curious if the ratio of power in the harmonics (i.e. top-right plot) is the same as the fraction of energy in the background vs the sum over the 1000 sources.\"\n",
    "\n",
    "$S_h(f) \\propto \\Omega_{gw}(f) / f^3\\quad (55)$    so    $\\Omega_{gw}(f) \\propto S_h(f) \\times f^3$\n",
    "\n",
    "$h_c(f) \\propto \\sqrt{f S_h(f)} \\quad (56)$    so    $S_h(f) \\propto h_c^2(f) /f$\n",
    "\n",
    "$$ \\Omega_{gw}(f) \\propto S_h(f) \\times f^3 \\propto (h_c^2(f) /f) \\times f^3 \\propto h_c^2(f) \\times f^2$$\n",
    "\n",
    "There's also a factor of $H_0^2$ which has units of time, and would cancel with the $f$ units to get dimensionless energy density.\n",
    "\n",
    "none of this matters because if we're looking for the ratio of energy at each frequency, the frequencies cancel"
   ]
  },
  {
   "cell_type": "code",
   "execution_count": null,
   "metadata": {},
   "outputs": [],
   "source": [
    "print(m_strain1[0].size)\n",
    "print(NSIDE1, NPIX1)"
   ]
  },
  {
   "cell_type": "code",
   "execution_count": null,
   "metadata": {},
   "outputs": [],
   "source": [
    "hc_ratio = np.sqrt(np.sum(hc_ss**2, axis=-1))/hc_bg\n",
    "print(hc_ratio.shape)\n",
    "\n",
    "fig, (ax, ax2) = plt.subplots(nrows=1, ncols=2, figsize=(8,6), gridspec_kw={'width_ratios': [4, 1]})\n",
    "\n",
    "for ff in range(F):\n",
    "    if ff in (0, 10, 20, 30, 39):\n",
    "        label= ('$f$ = %.2f nHz' % fobs_nHz[ff])\n",
    "    else: label = None\n",
    "    ax.plot(l_vals[1:], Cl_C0_ratio1[ff,1:], c=colors[ff], alpha=0.5, label=label,\n",
    "            marker='o')\n",
    "    ax2.axhline(hc_ratio[ff,0], color=colors[ff], alpha=0.5)\n",
    "ax.set_xlabel('$\\ell$')\n",
    "ax.set_ylabel('$C_\\ell/C_0$')\n",
    "ax.set_yscale('log')\n",
    "ax2.set_yscale('log')\n",
    "ax.set_title('Spherical Harmonic Coefficients')\n",
    "ax.legend()\n",
    "\n",
    "ax2.set_title('$h_{c,10,000\\ \\mathrm{loudest}}/h_{c,\\mathrm{bg}}$')\n",
    "# fig.suptitle('%d Loudest Single Sources' % L, y=.895)\n",
    "\n",
    "fig.tight_layout()\n",
    "# fig.savefig(saveloc+'all_freqs.png', dpi=1000)\n",
    "\n",
    "# fig"
   ]
  },
  {
   "attachments": {},
   "cell_type": "markdown",
   "metadata": {},
   "source": [
    "### Plot l(l+1)C_l"
   ]
  },
  {
   "cell_type": "code",
   "execution_count": null,
   "metadata": {},
   "outputs": [],
   "source": [
    "fig, ax = plt.subplots(figsize=(8,5))\n",
    "xx = l_vals[1:]\n",
    "yy = (l_vals*(l_vals+1))[np.newaxis,1:]*Cl_lmax1[:,1:]\n",
    "\n",
    "for ff in range(F):\n",
    "    if ff in (0, 10, 20, 30, 39):\n",
    "        label= ('$f$ = %.2f nHz' % fobs_nHz[ff])\n",
    "    else: label = None\n",
    "    ax.plot(xx, yy[ff], c=colors[ff], alpha=0.5, label=label,\n",
    "            marker='o')\n",
    "ax.set_xlabel('$\\ell$')\n",
    "ax.set_ylabel('$\\ell(\\ell+1)C_\\ell$')\n",
    "ax.set_yscale('log')\n",
    "ax.set_title('(Not Normalized) Spherical Harmonics')\n",
    "ax.legend()\n",
    "# fig.suptitle('%d Loudest Single Sources' % L, y=.895)\n",
    "fig.tight_layout()\n",
    "# fig.savefig(saveloc+'all_freqs.png', dpi=1000)\n",
    "\n",
    "# fig"
   ]
  },
  {
   "attachments": {},
   "cell_type": "markdown",
   "metadata": {},
   "source": [
    "## Plot C_l>0/C_0 vs. f"
   ]
  },
  {
   "cell_type": "code",
   "execution_count": null,
   "metadata": {},
   "outputs": [],
   "source": [
    "fig, ax = plt.subplots(figsize=(8,5))\n",
    "xx = fobs*YR\n",
    "yy = Cl_cum_ratio1\n",
    "\n",
    "ax.plot(xx, yy, c='k', alpha=0.5, marker='o', label=sam_name)\n",
    "ax.set_xlabel('Observed GW Frequency, $f$ (1/yr)')\n",
    "ax.set_ylabel('$C_{\\ell>0}/C_0$', fontsize=12)\n",
    "ax.set_yscale('log')\n",
    "# ax.set_title('(Not Normalized) Spherical Harmonics')\n",
    "ax.legend()\n",
    "# fig.suptitle('%d Loudest Single Sources' % L, y=.895)\n",
    "fig.tight_layout()\n",
    "# fig.savefig(saveloc+'all_freqs.png', dpi=1000)\n",
    "\n",
    "# fig"
   ]
  },
  {
   "attachments": {},
   "cell_type": "markdown",
   "metadata": {},
   "source": [
    "## normalizing"
   ]
  },
  {
   "cell_type": "code",
   "execution_count": null,
   "metadata": {},
   "outputs": [],
   "source": [
    "# normalizing each frequency strains by total strain of each frequency\n",
    "hc2_tot = np.sum(m_strain1**2, axis=1)\n",
    "print(hc2_tot.shape)\n",
    "print(m_strain1.shape)\n",
    "m_strain1_norm = m_strain1/np.sqrt(hc2_tot[:,np.newaxis])\n",
    "\n",
    "Cl_norm=np.zeros((F,9))\n",
    "for ff in range(F):\n",
    "    # power spectrum of a healpix map\n",
    "    Cl_norm[ff,:] = hp.anafast(m_strain1_norm[ff], lmax=8)\n",
    "\n",
    "Cl_C0_ratio_norm = Cl_norm/Cl_norm[:,0,np.newaxis]"
   ]
  },
  {
   "attachments": {},
   "cell_type": "markdown",
   "metadata": {},
   "source": [
    "#### Plot l(l+1)C_l"
   ]
  },
  {
   "cell_type": "code",
   "execution_count": null,
   "metadata": {},
   "outputs": [],
   "source": [
    "fig, ax = plt.subplots(figsize=(7,5))\n",
    "xx = l_vals[1:]\n",
    "yy = (l_vals*(l_vals+1))[np.newaxis,1:]*Cl_norm[:,1:]\n",
    "\n",
    "for ff in range(F):\n",
    "    if ff in (0, 10, 20, 30, 39):\n",
    "        label= ('$f$ = %.2f nHz' % fobs_nHz[ff])\n",
    "    else: label = None\n",
    "    ax.plot(xx, yy[ff], c=colors[ff], alpha=0.5, label=label,\n",
    "            marker='o')\n",
    "ax.set_xlabel('$\\ell$')\n",
    "ax.set_ylabel('$\\ell(\\ell+1)C_\\ell$')\n",
    "ax.set_yscale('log')\n",
    "ax.set_title('Normalized Spherical Harmonics')\n",
    "ax.legend(loc='lower right')\n",
    "# fig.suptitle('%d Loudest Single Sources' % L, y=.895)\n",
    "fig.tight_layout()\n",
    "# fig.savefig(saveloc+'all_freqs.png', dpi=1000)\n",
    "\n",
    "# fig"
   ]
  },
  {
   "attachments": {},
   "cell_type": "markdown",
   "metadata": {},
   "source": [
    "# Rebuild maps from harmonics"
   ]
  },
  {
   "cell_type": "code",
   "execution_count": null,
   "metadata": {},
   "outputs": [],
   "source": [
    "print(Cl_lmax1.shape)"
   ]
  },
  {
   "cell_type": "code",
   "execution_count": null,
   "metadata": {},
   "outputs": [],
   "source": [
    "m_sph1 = np.zeros_like(m_strain1)\n",
    "for ff in range(F):\n",
    "    m_sph1[ff,:] = hp.synfast(Cl_lmax1[ff], NSIDE1, lmax=8)"
   ]
  },
  {
   "cell_type": "code",
   "execution_count": null,
   "metadata": {},
   "outputs": [],
   "source": [
    "fig, axs = plt.subplots(nrows=10, ncols=int(F/10))\n",
    "for ff in range(F):\n",
    "    title='$f$= %.2f yr$^{-1}$ (bin %d/%d)' % (fobs[ff]*YR, ff, F)\n",
    "    row, col = int(ff/4), ff%4\n",
    "    # print(row,col)\n",
    "    plt.axes(axs[row,col])\n",
    "    hp.mollview(m_sph1[ff], title=title, hold=True)\n",
    "\n",
    "fig.suptitle('%d Loudest Single Sources, Recovered from Spherical Harmonics' % L, y=.895)\n",
    "fig.tight_layout()\n",
    "fig.set_size_inches(18, 30)\n",
    "# fig.savefig(saveloc+'all_freqs.png', dpi=1000)\n",
    "\n",
    "# fig"
   ]
  },
  {
   "cell_type": "code",
   "execution_count": null,
   "metadata": {},
   "outputs": [],
   "source": []
  }
 ],
 "metadata": {
  "kernelspec": {
   "display_name": "holo310",
   "language": "python",
   "name": "python3"
  },
  "language_info": {
   "codemirror_mode": {
    "name": "ipython",
    "version": 3
   },
   "file_extension": ".py",
   "mimetype": "text/x-python",
   "name": "python",
   "nbconvert_exporter": "python",
   "pygments_lexer": "ipython3",
   "version": "3.10.10"
  }
 },
 "nbformat": 4,
 "nbformat_minor": 2
}
