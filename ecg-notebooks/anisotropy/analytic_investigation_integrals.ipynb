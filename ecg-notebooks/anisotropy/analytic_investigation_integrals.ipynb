{
 "cells": [
  {
   "cell_type": "code",
   "execution_count": null,
   "metadata": {},
   "outputs": [],
   "source": [
    "%reload_ext autoreload\n",
    "%autoreload 2\n",
    "from importlib import reload\n",
    "\n",
    "import holodeck as holo\n",
    "import holodeck.anisotropy as anis\n",
    "from holodeck.constants import YR, MSOL, GYR\n",
    "from holodeck import utils\n",
    "\n",
    "import matplotlib.pyplot as plt\n",
    "import numpy as np"
   ]
  },
  {
   "attachments": {},
   "cell_type": "markdown",
   "metadata": {},
   "source": [
    "* dens = d^3 n / [dlog10M dq dz] in units of [Mpc^-3] \n",
    "* dnum = d^4N / dlog10M dq dz dlnf\n",
    "* number = dN /dlnf"
   ]
  },
  {
   "cell_type": "code",
   "execution_count": null,
   "metadata": {},
   "outputs": [],
   "source": []
  },
  {
   "cell_type": "code",
   "execution_count": null,
   "metadata": {},
   "outputs": [],
   "source": [
    "\n",
    "nbins = 10\n",
    "\n",
    "# redshift edges 0.01 to 1\n",
    "edges = np.geomspace(10**-3, 10**1, nbins+1)  # z bins\n",
    "print('z edges:', edges)\n",
    "\n",
    "\n",
    "def setup(\n",
    "        dnum = np.geomspace(10**0, 10**6, nbins+1), # d^2N / dz dlnf \n",
    "        hs_exp_edges = np.linspace(-20, -15, nbins+1), \n",
    "):\n",
    "    print('dnum:', dnum)\n",
    "    if(dnum[0]>dnum[-1]):\n",
    "        dnum_str = 'dnum decreasing'\n",
    "    else: \n",
    "        dnum_str = 'dnum increasing'\n",
    "\n",
    "    # num \n",
    "    num = holo.utils.trapz(dnum, edges)\n",
    "    print('num:', num)\n",
    "\n",
    "    # hs up to 10^-15\n",
    "    hs_exp_cents = holo.utils.midpoints(hs_exp_edges)\n",
    "\n",
    "    hs_edges = 10**hs_exp_edges\n",
    "    hs_cents = 10**hs_exp_cents\n",
    "    if(hs_cents[0]>hs_cents[-1]):\n",
    "        hs_str = 'hs decreasing'\n",
    "    else:\n",
    "        hs_str = 'hs increasing'\n",
    "    print('hs_cents:', hs_cents)\n",
    "    print('hs_edges:', hs_edges)\n",
    "\n",
    "    numh2 = num*hs_cents**2\n",
    "    numh4 = num*hs_cents**4\n",
    "\n",
    "    dnumh2 = dnum*hs_edges**2\n",
    "    inth2 = holo.utils.trapz(dnumh2, edges, cumsum=False)\n",
    "\n",
    "    dnumh4 = dnum*hs_edges**4\n",
    "    inth4 = holo.utils.trapz(dnumh4, edges, cumsum=False)\n",
    "\n",
    "    return num, dnum, hs_cents, dnum_str, hs_str, numh2, numh4, inth2, inth4\n",
    "\n",
    "\n",
    "def plot_integral_vs_z_edges(): # plots using whatever the nb variables r set to\n",
    "    fig, (ax1, ax2) = holo.plot.figax(ncols=2, figsize=(12,5),\n",
    "                                      xlabel='z edges', ylabel='integral')\n",
    "    # ax.plot(edges[:-1], inth2, label=r'$\\int(\\mathrm{dnum}*h^2)$')\n",
    "    # ax.plot(edges[:-1], numh2, label=r'$h^2* \\int(\\mathrm{dnum})$')\n",
    "\n",
    "    ax1.plot(edges[:-1], inth2, label=r'$\\int(\\mathrm{dnum}*h^2)$')\n",
    "    ax1.plot(edges[:-1], numh2, label=r'$h^2* \\int(\\mathrm{dnum})$')\n",
    "    ax1.legend()\n",
    "\n",
    "    ax2.plot(edges[:-1], inth4, label=r'$\\int(\\mathrm{dnum}*h^4)$')\n",
    "    ax2.plot(edges[:-1], numh4, label=r'$h^4* \\int(\\mathrm{dnum})$')\n",
    "    ax2.legend()\n",
    "    \n",
    "    fig.suptitle('nbins=%d, z increasing -> %s (%.2e to %.2e) and %s (%.2e to %.2e)' \n",
    "                 % (nbins, dnum_str, dnum[0], dnum[-1], hs_str, hs_cents[0], hs_cents[-1]),\n",
    "                 fontsize=12)\n",
    "    fig.tight_layout()\n",
    "    # ax2.set_title('z increasing -> %s and %s' % (dnum_str, hs_str))\n",
    "\n",
    "    return fig\n"
   ]
  },
  {
   "cell_type": "code",
   "execution_count": null,
   "metadata": {},
   "outputs": [],
   "source": [
    "\n",
    "num, dnum, hs_cents, dnum_str, hs_str, numh2, numh4, inth2, inth4 = setup(\n",
    "        dnum = np.geomspace(10**1, 10**2, nbins+1), # d^2N / dz dlnf \n",
    "        hs_exp_edges = np.linspace(-17, -16.5, nbins+1), )\n",
    "fig=plot_integral_vs_z_edges()"
   ]
  },
  {
   "cell_type": "code",
   "execution_count": null,
   "metadata": {},
   "outputs": [],
   "source": [
    "num, dnum, hs_cents, dnum_str, hs_str, numh2, numh4, inth2, inth4 = setup(\n",
    "        dnum = np.geomspace(10**8, 10**-15, nbins+1), # d^2N / dz dlnf \n",
    "        hs_exp_edges = np.linspace( -10, -35, nbins+1), )\n",
    "fig=plot_integral_vs_z_edges()"
   ]
  },
  {
   "cell_type": "code",
   "execution_count": null,
   "metadata": {},
   "outputs": [],
   "source": [
    "num, dnum, hs_cents, dnum_str, hs_str, numh2, numh4, inth2, inth4 = setup(\n",
    "        dnum = np.geomspace(10**-5, 10**6, nbins+1), # d^2N / dz dlnf \n",
    "        hs_exp_edges = np.linspace( -15, -25, nbins+1), )\n",
    "fig=plot_integral_vs_z_edges()\n"
   ]
  },
  {
   "cell_type": "code",
   "execution_count": null,
   "metadata": {},
   "outputs": [],
   "source": [
    "num, dnum, hs_cents, dnum_str, hs_str, numh2, numh4, inth2, inth4 = setup(\n",
    "        dnum = np.geomspace(10**-3, 10**6, nbins+1), # d^2N / dz dlnf \n",
    "        hs_exp_edges = np.linspace( -20, -15, nbins+1), )\n",
    "fig=plot_integral_vs_z_edges()"
   ]
  },
  {
   "attachments": {},
   "cell_type": "markdown",
   "metadata": {},
   "source": [
    "integrating before just makes the values slightly smaller"
   ]
  },
  {
   "cell_type": "code",
   "execution_count": null,
   "metadata": {},
   "outputs": [],
   "source": [
    "print(num)"
   ]
  },
  {
   "cell_type": "code",
   "execution_count": null,
   "metadata": {},
   "outputs": [],
   "source": [
    "print(np.floor(num))"
   ]
  },
  {
   "cell_type": "code",
   "execution_count": null,
   "metadata": {},
   "outputs": [],
   "source": [
    "def sam_model(sam, hard,\n",
    "        dur=16.03*YR, cad=0.2*YR, use_redz=True):\n",
    "    fobs_gw_cents = utils.nyquist_freqs(dur,cad)\n",
    "    fobs_gw_edges = utils.nyquist_freqs_edges(dur,cad)\n",
    "    fobs_orb_cents = fobs_gw_cents/2.0\n",
    "    fobs_orb_edges = fobs_gw_edges/2.0\n",
    "\n",
    "    if isinstance(hard, holo.hardening.Fixed_Time_2PL_SAM):\n",
    "        hard_name = 'Fixed Time'\n",
    "    elif isinstance(hard, holo.hardening.Hard_GW):\n",
    "        hard_name = 'GW Only'\n",
    "    else:\n",
    "        raise Exception(\"'hard' must be an instance of 'Fixed_Time_2PL_SAM' or 'Hard_GW'\")\n",
    "\n",
    "    redz_final, diff_num = holo.sam_cython.dynamic_binary_number_at_fobs(\n",
    "        fobs_orb_cents, sam, hard, holo.cosmo)\n",
    "    edges = [sam.mtot, sam.mrat, sam.redz, fobs_orb_edges]\n",
    "    number = holo.sam_cython.integrate_differential_number_3dx1d(edges, diff_num)\n",
    "    if use_redz:\n",
    "        hs_cents = anis.strain_amp_at_bin_centers_redz(edges, redz_final)\n",
    "        hs_edges = anis.strain_amp_at_bin_edges_redz(edges, redz_final)\n",
    "    else:\n",
    "        hs_cents = anis.strain_amp_at_bin_centers_redz(edges)\n",
    "        hs_edges = anis.strain_amp_at_bin_edges_redz(edges)\n",
    "\n",
    "    vals = {\n",
    "        'hard':hard, 'sam':sam, 'edges':edges, 'number': number, 'diff_num':diff_num, 'redz_final':redz_final,\n",
    "        'hs_cents':hs_cents, 'hs_edges':hs_edges, 'fobs_gw_cents':fobs_gw_cents, 'fobs_gw_edges':fobs_gw_edges, \n",
    "        'fobs_orb_cents':fobs_orb_cents, 'fobs_orb_edges':fobs_orb_edges, 'hard_name':hard_name\n",
    "    }\n",
    "    return vals\n",
    "\n",
    "def integrate_mm(dnum, edges): # integrate dN/dlogM\n",
    "    num = utils.trapz(dnum, np.log10(edges[0]), axis=0, cumsum=False)\n",
    "    return num\n",
    "def integrate_qq(dnum, edges): # integrate dN/dq\n",
    "    num = utils.trapz(dnum, edges[1], axis=1, cumsum=False)\n",
    "    return num\n",
    "def integrate_zz(dnum, edges): # dN/dz\n",
    "    num = utils.trapz(dnum, edges[2], axis=2, cumsum=False)\n",
    "    return num\n",
    "def integrate_ff(dnum, fobs_gw_edges): # dN/dlogn\n",
    "    num = dnum*np.diff(np.log(fobs_gw_edges))\n",
    "    return num "
   ]
  },
  {
   "cell_type": "code",
   "execution_count": null,
   "metadata": {},
   "outputs": [],
   "source": [
    "sam = holo.sam.Semi_Analytic_Model(shape=10)\n",
    "vals = sam_model(sam, hard=holo.hardening.Hard_GW())\n",
    "edges_mm = vals['edges'][0]\n",
    "cents_mm = utils.midpoints(edges_mm, log=True)\n",
    "edges_qq = vals['edges'][1]\n",
    "cents_qq = utils.midpoints(edges_qq, log=True)\n",
    "edges_zz = vals['edges'][2]\n",
    "cents_zz = utils.midpoints(edges_zz, log=True)\n",
    "diff_num = vals['diff_num']\n",
    "\n",
    "np.set_printoptions(precision=3)\n",
    "print('M edges (g)', edges_mm)\n",
    "print('q edges', edges_qq)\n",
    "print('z edges', edges_zz)\n",
    "\n",
    "\n",
    "edges = vals['edges']\n",
    "fobs_gw_edges = vals['fobs_gw_edges']\n",
    "fobs_gw_cents = vals['fobs_gw_cents']\n",
    "dnum_mm = integrate_ff(integrate_zz(integrate_qq(diff_num, edges), edges), fobs_gw_edges)\n",
    "dnum_qq = integrate_ff(integrate_qq(integrate_mm(diff_num, edges), edges), fobs_gw_edges)\n",
    "dnum_zz = integrate_ff(integrate_qq(integrate_mm(diff_num, edges), edges), fobs_gw_edges)\n",
    "print(dnum_mm.shape, dnum_qq.shape, dnum_zz.shape)"
   ]
  },
  {
   "cell_type": "code",
   "execution_count": null,
   "metadata": {},
   "outputs": [],
   "source": [
    "print(edges_zz.flatten().shape)\n",
    "plt.scatter(np.arange(len(edges_zz)), edges_zz)\n",
    "plt.yscale('log')"
   ]
  },
  {
   "cell_type": "code",
   "execution_count": null,
   "metadata": {},
   "outputs": [],
   "source": [
    "def plot_dnum_dpar(vals, mm_arr, qq_arr, zz_arr, ff_arr):\n",
    "    fig, axs = holo.plot.figax(\n",
    "        xlabel='edge parameters',\n",
    "        ylabel='$dN/d(\\mathrm{edge parameter})$',\n",
    "        ncols=3, figsize=(18,5),\n",
    "        sharey=True\n",
    "    )\n",
    "\n",
    "    edges_mm = vals['edges'][0]\n",
    "    cents_mm = utils.midpoints(edges_mm, log=True)\n",
    "    edges_qq = vals['edges'][1]\n",
    "    cents_qq = utils.midpoints(edges_qq, log=True)\n",
    "    edges_zz = vals['edges'][2]\n",
    "    cents_zz = utils.midpoints(edges_zz, log=True)\n",
    "\n",
    "    diff_num = vals['diff_num']\n",
    "    edges = vals['edges']\n",
    "    fobs_gw_edges = vals['fobs_gw_edges']\n",
    "    fobs_gw_cents = vals['fobs_gw_cents']\n",
    "    dnum_mm = integrate_ff(integrate_zz(integrate_qq(diff_num, edges), edges), fobs_gw_edges)\n",
    "    dnum_qq = integrate_ff(integrate_zz(integrate_mm(diff_num, edges), edges), fobs_gw_edges)\n",
    "    dnum_zz = integrate_ff(integrate_qq(integrate_mm(diff_num, edges), edges), fobs_gw_edges)\n",
    "    xlabels = np.array(['M ($M_\\odot$)', 'q', 'z'])\n",
    "    ylabels = np.array(['$dN/d\\log (M)$', '$dN/dq$', '$dN/dz$'])\n",
    "\n",
    "    xx = np.array([edges_mm/MSOL, edges_qq, edges_zz])\n",
    "\n",
    "    for mm in mm_arr:\n",
    "        for qq in qq_arr:\n",
    "            for zz in zz_arr:\n",
    "                for ff in ff_arr:\n",
    "                    yy = np.array([dnum_mm[:,qq,zz,ff], dnum_qq[mm,:,zz,ff], dnum_zz[mm,qq,:,ff]])\n",
    "                    labels = np.array(['$q=%.2f$, $z=%.2f$, $f=%.2f$/yr' % (cents_qq[qq], cents_zz[zz], fobs_gw_cents[ff]*YR),\n",
    "                                    '$M=%.2e\\ M_\\odot$, $z=%.2f$, $f=%.2f$/yr' % (cents_mm[mm]/MSOL, cents_zz[zz], fobs_gw_cents[ff]*YR),\n",
    "                                    '$M=%.2e\\ M_\\odot$, $q=%.2f$, $f=%.2f$/yr' % (cents_mm[mm]/MSOL, cents_qq[qq],  fobs_gw_cents[ff]*YR),])\n",
    "                    for ii, ax in enumerate(axs):\n",
    "                        ax.plot(xx[ii], yy[ii], label=labels[ii], alpha=0.75, \n",
    "                                )\n",
    "    for ii, ax in enumerate(axs):             \n",
    "        ax.set_xlabel(xlabels[ii])\n",
    "        ax.set_ylabel(ylabels[ii])\n",
    "        ax.legend(loc='upper right')\n",
    "\n",
    "    fig.suptitle('%s, %s' % (str(vals['hard_name']), str(vals['sam'].shape)))\n",
    "    fig.tight_layout\n",
    "    return fig\n",
    "\n",
    "fig = plot_dnum_dpar(vals, mm_arr=[2,7], qq_arr=[7,], zz_arr=[7], ff_arr=[2,32])"
   ]
  },
  {
   "cell_type": "code",
   "execution_count": null,
   "metadata": {},
   "outputs": [],
   "source": [
    "arr = np.linspace(0.5, 3, 10)\n",
    "print(arr)\n",
    "print(np.floor(arr))"
   ]
  },
  {
   "cell_type": "code",
   "execution_count": null,
   "metadata": {},
   "outputs": [],
   "source": [
    "def plot_number(vals, mm_arr, qq_arr, zz_arr, ff_arr):\n",
    "    diff_num = vals['diff_num']\n",
    "    edges = vals['edges']\n",
    "    edges_mm = vals['edges'][0]\n",
    "    cents_mm = utils.midpoints(edges_mm, log=True)\n",
    "    edges_qq = vals['edges'][1]\n",
    "    cents_qq = utils.midpoints(edges_qq, log=True)\n",
    "    edges_zz = vals['edges'][2]\n",
    "    cents_zz = utils.midpoints(edges_zz, log=True)\n",
    "    dnum_zz = integrate_ff(integrate_qq(integrate_mm(diff_num, edges), edges), fobs_gw_edges)\n",
    "\n",
    "    cynum = vals['number']\n",
    "    tznum = integrate_zz(dnum_zz, edges)\n",
    "    utnum = utils._integrate_grid_differential_number(edges, diff_num, freq=False)\n",
    "    utnum = utnum * np.diff(np.log(fobs_gw_edges))\n",
    "\n",
    "    flnum = np.floor(cynum)\n",
    "\n",
    "    fig, axs = holo.plot.figax(\n",
    "        xlabel='edge parameters',\n",
    "        ylabel='$dN/d(\\mathrm{edge parameter})$',\n",
    "        ncols=3, figsize=(16,5),\n",
    "        sharey=True\n",
    "    )\n",
    "    xlabels = np.array(['M ($M_\\odot$)', 'q', 'z'])\n",
    "    ylabels = np.array(['$N (M)$', '$N(q)$', '$N(z)$'])\n",
    "\n",
    "    xx = np.array([cents_mm/MSOL, cents_qq, cents_zz])\n",
    "    for mm in mm_arr:\n",
    "        for qq in qq_arr:\n",
    "            for zz in zz_arr:\n",
    "                for ff in ff_arr:\n",
    "   \n",
    "                    yy_cyth = np.array([cynum[:,qq,zz,ff], cynum[mm,:,zz,ff], cynum[mm,qq,:,ff]])\n",
    "                    yy_trap = np.array([tznum[:,qq,zz,ff], tznum[mm,:,zz,ff], tznum[mm,qq,:,ff]])\n",
    "                    yy_util = np.array([utnum[:,qq,zz,ff], utnum[mm,:,zz,ff], utnum[mm,qq,:,ff]])\n",
    "                    yy_flor = np.array([flnum[:,qq,zz,ff], flnum[mm,:,zz,ff], flnum[mm,qq,:,ff]])\n",
    "                    labels = np.array(['$q=%.2f$, $z=%.2f$, $f=%.2f$/yr' % (cents_qq[qq], cents_zz[zz], fobs_gw_cents[ff]*YR),\n",
    "                                    '$M=%.2e\\ M_\\odot$, $z=%.2f$, $f=%.2f$/yr' % (cents_mm[mm]/MSOL, cents_zz[zz], fobs_gw_cents[ff]*YR),\n",
    "                                    '$M=%.2e\\ M_\\odot$, $q=%.2f$, $f=%.2f$/yr' % (cents_mm[mm]/MSOL, cents_qq[qq],  fobs_gw_cents[ff]*YR),])\n",
    "\n",
    "                    for ii, ax in enumerate(axs):\n",
    "                        ax.plot(xx[ii], yy_cyth[ii], label=labels[ii]+' cython', linestyle='-', alpha=0.75 \n",
    "                                )\n",
    "                        ax.plot(xx[ii], yy_trap[ii], label=labels[ii]+' trapz', linestyle='--', alpha=0.75 \n",
    "                                )\n",
    "                        ax.plot(xx[ii], yy_util[ii], label=labels[ii]+' utils', linestyle=':', alpha=0.75 \n",
    "                                )\n",
    "                        ax.plot(xx[ii], yy_flor[ii], label=labels[ii]+' floor', linestyle='-.', alpha=0.75 \n",
    "                                )\n",
    "    for ii, ax in enumerate(axs):\n",
    "        ax.set_xlabel(xlabels[ii])\n",
    "        ax.set_ylabel(ylabels[ii])\n",
    "        ax.legend()\n",
    "\n",
    "    fig.suptitle('%s, %s' % (str(vals['hard_name']), str(vals['sam'].shape)))\n",
    "    fig.tight_layout\n",
    "    return fig\n",
    "\n",
    "fig = plot_number(vals,  mm_arr=[7], qq_arr=[7,], zz_arr=[7], ff_arr=[32])"
   ]
  },
  {
   "attachments": {},
   "cell_type": "markdown",
   "metadata": {},
   "source": [
    "ok cool, my integration is working right"
   ]
  },
  {
   "cell_type": "code",
   "execution_count": null,
   "metadata": {},
   "outputs": [],
   "source": [
    "def plot_strain_amp(vals, mm_arr, qq_arr, zz_arr, ff_arr):\n",
    "    # dnum = vals['diff_num']\n",
    "    edges = vals['edges']\n",
    "    edges_mm = vals['edges'][0]\n",
    "    cents_mm = utils.midpoints(edges_mm, log=True)\n",
    "    edges_qq = vals['edges'][1]\n",
    "    cents_qq = utils.midpoints(edges_qq, log=True)\n",
    "    edges_zz = vals['edges'][2]\n",
    "    cents_zz = utils.midpoints(edges_zz, log=True)\n",
    "\n",
    "\n",
    "    hs_final = anis.strain_amp_at_bin_centers_redz(edges, vals['redz_final'])\n",
    "    hs_initz = anis.strain_amp_at_bin_centers_redz(edges, redz=None)\n",
    "    print(holo.utils.stats(hs_final/hs_initz))\n",
    "\n",
    "    fig, axs = holo.plot.figax(\n",
    "        xlabel='edge parameters',\n",
    "        ylabel='$dN/d(\\mathrm{edge parameter})$',\n",
    "        ncols=3, figsize=(16,5),\n",
    "        sharey=True\n",
    "    )\n",
    "\n",
    "    xx = np.array([cents_mm/MSOL, cents_qq, cents_zz])\n",
    "    xlabels = np.array(['M ($M_\\odot$)', 'q', 'z'])\n",
    "    ylabels = np.array(['$h_s (M)$', '$h_s(q)$', '$h_s(z)$'])\n",
    "\n",
    "    for mm in mm_arr:\n",
    "        for qq in qq_arr:\n",
    "            for zz in zz_arr:\n",
    "                for ff in ff_arr:\n",
    "                    yy_initz = np.array([hs_initz[:,qq,zz,ff], hs_initz[mm,:,zz,ff], hs_initz[mm,qq,:,ff]])\n",
    "                    yy_final = np.array([hs_final[:,qq,zz,ff], hs_final[mm,:,zz,ff], hs_final[mm,qq,:,ff]])\n",
    "                    labels = np.array(['$q=%.2f$, $z=%.2f$, $f=%.2f$/yr' % (cents_qq[qq], cents_zz[zz], fobs_gw_cents[ff]*YR),\n",
    "                                    '$M=%.2e\\ M_\\odot$, $z=%.2f$, $f=%.2f$/yr' % (cents_mm[mm]/MSOL, cents_zz[zz], fobs_gw_cents[ff]*YR),\n",
    "                                    '$M=%.2e\\ M_\\odot$, $q=%.2f$, $f=%.2f$/yr' % (cents_mm[mm]/MSOL, cents_qq[qq],  fobs_gw_cents[ff]*YR),])\n",
    "\n",
    "                    for ii, ax in enumerate(axs):\n",
    "                        ax.plot(xx[ii], yy_initz[ii], label=labels[ii]+' initial z', linestyle='--', alpha=0.75 \n",
    "                                )\n",
    "                        ax.plot(xx[ii], yy_final[ii], label=labels[ii]+' final z', linestyle='-', alpha=0.75 \n",
    "                                )\n",
    "    for ii, ax in enumerate(axs):\n",
    "        ax.set_xlabel(xlabels[ii])\n",
    "        ax.set_ylabel(ylabels[ii])\n",
    "        ax.legend()\n",
    "\n",
    "    fig.suptitle('%s, %s' % (str(vals['hard_name']), str(vals['sam'].shape)))\n",
    "    fig.tight_layout\n",
    "    return fig\n",
    "\n",
    "fig = plot_strain_amp(vals, mm_arr=[6,], qq_arr=[7,], zz_arr=[5], ff_arr=[1,8,])"
   ]
  },
  {
   "cell_type": "code",
   "execution_count": null,
   "metadata": {},
   "outputs": [],
   "source": [
    "def plot_number_times_h2(vals, mm_arr, qq_arr, zz_arr, ff_arr):\n",
    "    diff_num = vals['diff_num']\n",
    "    edges = vals['edges']\n",
    "    edges_mm = vals['edges'][0]\n",
    "    cents_mm = utils.midpoints(edges_mm, log=True)\n",
    "    edges_qq = vals['edges'][1]\n",
    "    cents_qq = utils.midpoints(edges_qq, log=True)\n",
    "    edges_zz = vals['edges'][2]\n",
    "    cents_zz = utils.midpoints(edges_zz, log=True)\n",
    "    dnum_zz = integrate_ff(integrate_qq(integrate_mm(diff_num, edges), edges), fobs_gw_edges)\n",
    "    hs_cents = vals['hs_cents']\n",
    "\n",
    "    cynum = vals['number']*hs_cents**2\n",
    "    tznum = integrate_zz(dnum_zz, edges)*hs_cents**2\n",
    "    utnum = utils._integrate_grid_differential_number(edges, diff_num, freq=False)\n",
    "    utnum = utnum * np.diff(np.log(fobs_gw_edges))*hs_cents**2\n",
    "\n",
    "    fig, axs = holo.plot.figax(\n",
    "        xlabel='edge parameters',\n",
    "        ylabel='$dN/d(\\mathrm{edge parameter})$',\n",
    "        ncols=3, figsize=(16,5),\n",
    "        sharey=True\n",
    "    )\n",
    "    xlabels = np.array(['M ($M_\\odot$)', 'q', 'z'])\n",
    "    ylabels = np.array([r'$N (M)\\times h_s^2$', r'$N(q)\\times h_s^2$', r'$N(z)\\times h_s^2$'])\n",
    "\n",
    "    xx = np.array([cents_mm/MSOL, cents_qq, cents_zz])\n",
    "    for mm in mm_arr:\n",
    "        for qq in qq_arr:\n",
    "            for zz in zz_arr:\n",
    "                for ff in ff_arr:\n",
    "   \n",
    "                    yy_cyth = np.array([cynum[:,qq,zz,ff], cynum[mm,:,zz,ff], cynum[mm,qq,:,ff]])\n",
    "                    yy_trap = np.array([tznum[:,qq,zz,ff], tznum[mm,:,zz,ff], tznum[mm,qq,:,ff]])\n",
    "                    yy_util = np.array([utnum[:,qq,zz,ff], utnum[mm,:,zz,ff], utnum[mm,qq,:,ff]])\n",
    "                    labels = np.array(['$q=%.2f$, $z=%.2f$, $f=%.2f$/yr' % (cents_qq[qq], cents_zz[zz], fobs_gw_cents[ff]*YR),\n",
    "                                    '$M=%.2e\\ M_\\odot$, $z=%.2f$, $f=%.2f$/yr' % (cents_mm[mm]/MSOL, cents_zz[zz], fobs_gw_cents[ff]*YR),\n",
    "                                    '$M=%.2e\\ M_\\odot$, $q=%.2f$, $f=%.2f$/yr' % (cents_mm[mm]/MSOL, cents_qq[qq],  fobs_gw_cents[ff]*YR),])\n",
    "\n",
    "                    for ii, ax in enumerate(axs):\n",
    "                        ax.plot(xx[ii], yy_cyth[ii], label=labels[ii]+' cython', linestyle='-', alpha=0.75 \n",
    "                                )\n",
    "                        ax.plot(xx[ii], yy_trap[ii], label=labels[ii]+' trapz', linestyle='--', alpha=0.75 \n",
    "                                )\n",
    "                        ax.plot(xx[ii], yy_util[ii], label=labels[ii]+' utils', linestyle=':', alpha=0.75 \n",
    "                                )\n",
    "    for ii, ax in enumerate(axs):\n",
    "        ax.set_xlabel(xlabels[ii])\n",
    "        ax.set_ylabel(ylabels[ii])\n",
    "        ax.legend()\n",
    "\n",
    "    fig.suptitle('%s, %s' % (str(vals['hard_name']), str(vals['sam'].shape)))\n",
    "    fig.tight_layout\n",
    "    return fig\n",
    "\n",
    "fig = plot_number_times_h2(vals, mm_arr=[6,], qq_arr=[7,], zz_arr=[5], ff_arr=[1,8,])"
   ]
  },
  {
   "cell_type": "code",
   "execution_count": null,
   "metadata": {},
   "outputs": [],
   "source": [
    "\n",
    "\n",
    "def plot_integrated(vals, mm_arr, qq_arr, zz_arr, ff_arr):\n",
    "    diff_num = vals['diff_num']\n",
    "    edges = vals['edges']\n",
    "    edges_mm = vals['edges'][0]\n",
    "    cents_mm = utils.midpoints(edges_mm, log=True)\n",
    "    edges_qq = vals['edges'][1]\n",
    "    cents_qq = utils.midpoints(edges_qq, log=True)\n",
    "    edges_zz = vals['edges'][2]\n",
    "    cents_zz = utils.midpoints(edges_zz, log=True)\n",
    "\n",
    "    hs_cents = vals['hs_cents']\n",
    "    hs_edges = vals['hs_edges']\n",
    "\n",
    "    dnum_mm = integrate_ff(integrate_zz(integrate_qq(diff_num, edges), edges),  fobs_gw_edges)\n",
    "    numh2_mm = integrate_mm(dnum_mm* \n",
    "                            utils.midpoints_multiax(hs_edges, axis=(1,2), log=True)**2, edges)\n",
    "    numh4_mm = integrate_mm(dnum_mm* \n",
    "                            utils.midpoints_multiax(hs_edges, axis=(1,2), log=True)**4, edges)\n",
    "    print('dnum_mm:', dnum_mm.shape, 'numh2_mm:', numh2_mm.shape)\n",
    "\n",
    "    dnum_qq = integrate_ff(integrate_zz(integrate_mm(diff_num, edges), edges),  fobs_gw_edges)\n",
    "    print('dnum_qq:', dnum_qq.shape)\n",
    "    print((dnum_qq* utils.midpoints_multiax(hs_edges, axis=(0,2), log=True)**2).shape)\n",
    "    numh2_qq = integrate_qq(dnum_qq*\n",
    "                            utils.midpoints_multiax(hs_edges, axis=(0,2), log=True)**2, edges)\n",
    "    numh4_qq = integrate_qq(dnum_qq*\n",
    "                            utils.midpoints_multiax(hs_edges, axis=(0,2), log=True)**4, edges)\n",
    "    \n",
    "    dnum_zz = integrate_ff(integrate_qq(integrate_mm(diff_num, edges), edges),  fobs_gw_edges)\n",
    "    numh2_zz = integrate_zz(dnum_zz*\n",
    "                            utils.midpoints_multiax(hs_edges, axis=(0,1), log=True)**2, edges)\n",
    "    numh4_zz = integrate_zz(dnum_zz*\n",
    "                            utils.midpoints_multiax(hs_edges, axis=(0,1), log=True)**4, edges)\n",
    "\n",
    "    xlabels = np.array(['M ($M_\\odot$)', 'q', 'z'])\n",
    "    ylabels_h2 = np.array(['$\\int h_s^2 dN/d\\log (M)$', '$\\int h_s^2 dN/dq$', '$\\int h_s^2 dN/dz$'])\n",
    "    ylabels_h4 = np.array(['$\\int h_s^4 dN/d\\log (M)$', '$\\int h_s^4 dN/dq$', '$\\int h_s^4 dN/dz$'])\n",
    "\n",
    "    cynum = vals['number']\n",
    "    numh2_cy = cynum*hs_cents**2\n",
    "    numh4_cy = cynum*hs_cents**4\n",
    "\n",
    "\n",
    "    flnum = np.floor(cynum)\n",
    "    numh2_fl = flnum*hs_cents**2\n",
    "    numh4_fl = flnum*hs_cents**4\n",
    "    # tznum = integrate_zz(dnum_zz, edges)\n",
    "    # utnum = utils._integrate_grid_differential_number(edges, diff_num, freq=False)\n",
    "    # utnum = utnum * np.diff(np.log(fobs_gw_edges))\n",
    "\n",
    "    xx = np.array([cents_mm/MSOL, cents_qq, cents_zz])\n",
    "\n",
    "    fig, axs = holo.plot.figax(\n",
    "        nrows=2, ncols=3, figsize=(16,8))\n",
    "\n",
    "\n",
    "    for mm in mm_arr:\n",
    "        for qq in qq_arr:\n",
    "            for zz in zz_arr:\n",
    "                for ff in ff_arr:\n",
    "                    yy_h2 = np.array([numh2_mm[:,qq,zz,ff], numh2_qq[mm,:,zz,ff], numh2_zz[mm,qq,:,ff]])\n",
    "                    yy_h4 = np.array([numh4_mm[:,qq,zz,ff], numh4_qq[mm,:,zz,ff], numh4_zz[mm,qq,:,ff]])\n",
    "                    cy_h2 = np.array([numh2_cy[:,qq,zz,ff], numh2_cy[mm,:,zz,ff], numh2_cy[mm,qq,:,ff]])\n",
    "                    cy_h4 = np.array([numh4_cy[:,qq,zz,ff], numh4_cy[mm,:,zz,ff], numh4_cy[mm,qq,:,ff]])\n",
    "                    fl_h2 = np.array([numh2_fl[:,qq,zz,ff], numh2_fl[mm,:,zz,ff], numh2_fl[mm,qq,:,ff]])\n",
    "                    fl_h4 = np.array([numh4_fl[:,qq,zz,ff], numh4_fl[mm,:,zz,ff], numh4_fl[mm,qq,:,ff]])\n",
    "                    labels = np.array(['$q=%.2f$, $z=%.2f$, $f=%.2f$/yr' % (cents_qq[qq], cents_zz[zz], fobs_gw_cents[ff]*YR),\n",
    "                                    '$M=%.2e\\ M_\\odot$, $z=%.2f$, $f=%.2f$/yr' % (cents_mm[mm]/MSOL, cents_zz[zz], fobs_gw_cents[ff]*YR),\n",
    "                                    '$M=%.2e\\ M_\\odot$, $q=%.2f$, $f=%.2f$/yr' % (cents_mm[mm]/MSOL, cents_qq[qq],  fobs_gw_cents[ff]*YR),])\n",
    "\n",
    "                    for ii, ax in enumerate(axs[0,:]): # h2\n",
    "                        if ii==0 and mm==mm_arr[0] and qq==qq_arr[0] and zz==zz_arr[0] and ff==ff_arr[0]:\n",
    "                            cylabel=r'$h_s^2 \\times \\int dN/dx$'\n",
    "                            fllabel=r'rounded $h_s^2 \\times \\int dN/dx$'\n",
    "                        else: \n",
    "                            cylabel=None\n",
    "                            fllabel=None\n",
    "                        ll, = ax.plot(xx[ii], cy_h2[ii], label=cylabel, linestyle='-', alpha=0.35, lw=4)\n",
    "                        cc = ll.get_color()\n",
    "                        ax.plot(xx[ii], fl_h2[ii], label=fllabel, linestyle='-', alpha=0.65, color=cc, lw=2)\n",
    "                        ax.plot(xx[ii], yy_h2[ii], label=labels[ii], linestyle='--', alpha=0.75, color=cc, lw=1)\n",
    "                    for ii, ax in enumerate(axs[1,:]): # h4\n",
    "                        if ii==0 and mm==mm_arr[0] and qq==qq_arr[0] and zz==zz_arr[0] and ff==ff_arr[0]:\n",
    "                            cylabel=r'$h_s^2 \\times \\int dN/dx$'\n",
    "                            fllabel=r'rounded $h_s^2 \\times \\int dN/dx$'\n",
    "                        else: \n",
    "                            cylabel=None\n",
    "                            fllabel=None\n",
    "                        # ll, = ax.plot(xx[ii], cy_h4[ii], label=cylabel, linestyle='-', alpha=0.5, lw=3)\n",
    "                        ll = ax.scatter(xx[ii], cy_h4[ii], label=cylabel, marker='o', alpha=0.35, lw=3, s=10)\n",
    "                        # cc = ll.get_color()\n",
    "                        # ax.plot(xx[ii], yy_h4[ii], label=labels[ii], linestyle='x', alpha=0.75, color=cc )\n",
    "                        cc = ll.get_facecolors()\n",
    "                        ax.scatter(xx[ii], fl_h4[ii], label=fllabel, marker='+', alpha=0.65, color=cc)\n",
    "                        ax.scatter(xx[ii], yy_h4[ii], label=labels[ii], marker='x', alpha=0.75, color=cc )\n",
    "                        \n",
    "                        \n",
    "\n",
    "    for ii, ax in enumerate(axs[0,:]):\n",
    "        ax.set_ylabel(ylabels_h2[ii])\n",
    "        # if ii>0: ax.sharey(axs[0,0])\n",
    "        ax.legend(fontsize=8)\n",
    "    for ii, ax in enumerate(axs[1,:]):\n",
    "        ax.set_ylabel(ylabels_h4[ii])\n",
    "        ax.set_xlabel(xlabels[ii])\n",
    "        # if ii>0: ax.sharey(axs[1,0])\n",
    "        ax.sharex(axs[0,ii])\n",
    "        ax.legend(fontsize=8)\n",
    "\n",
    "    fig.suptitle('%s, %s' % (str(vals['hard_name']), str(vals['sam'].shape)))\n",
    "    fig.tight_layout()\n",
    "    return fig\n",
    "\n",
    "fig = plot_integrated(vals, mm_arr=[3,6,7], qq_arr=[-1,], zz_arr=[7,], ff_arr=[20])"
   ]
  },
  {
   "attachments": {},
   "cell_type": "markdown",
   "metadata": {},
   "source": [
    "# All together, fixed time model"
   ]
  },
  {
   "cell_type": "code",
   "execution_count": null,
   "metadata": {},
   "outputs": [],
   "source": [
    "sam=holo.sam.Semi_Analytic_Model(shape=20)\n",
    "vals = sam_model(sam=sam, hard=holo.hardening.Fixed_Time_2PL_SAM(sam, 3*GYR))\n",
    "print(vals['hard_name'])"
   ]
  },
  {
   "cell_type": "code",
   "execution_count": null,
   "metadata": {},
   "outputs": [],
   "source": [
    "fig = plot_dnum_dpar(vals, mm_arr=[2,7], qq_arr=[17,], zz_arr=[17], ff_arr=[2,32])\n",
    "fig = plot_strain_amp(vals, mm_arr=[6,], qq_arr=[17,], zz_arr=[15], ff_arr=[1,8,])\n",
    "fig = plot_number(vals,  mm_arr=[7], qq_arr=[17,], zz_arr=[17], ff_arr=[32])\n",
    "fig = plot_integrated(vals, mm_arr=[7,15], qq_arr=[17,], zz_arr=[17,], ff_arr=[32])"
   ]
  },
  {
   "cell_type": "code",
   "execution_count": null,
   "metadata": {},
   "outputs": [],
   "source": [
    "fig = plot_integrated(vals, mm_arr=[7,15], qq_arr=[17,], zz_arr=[5,17,], ff_arr=[32,])"
   ]
  },
  {
   "attachments": {},
   "cell_type": "markdown",
   "metadata": {},
   "source": [
    "# All together, GW Only"
   ]
  },
  {
   "cell_type": "code",
   "execution_count": null,
   "metadata": {},
   "outputs": [],
   "source": [
    "sam_20=holo.sam.Semi_Analytic_Model(shape=20)\n",
    "vals_20GW = sam_model(sam=sam_20, hard=holo.hardening.Hard_GW())\n",
    "print(vals['hard_name'])"
   ]
  },
  {
   "cell_type": "code",
   "execution_count": null,
   "metadata": {},
   "outputs": [],
   "source": [
    "fig = plot_dnum_dpar(vals_20GW, mm_arr=[2,7], qq_arr=[17,], zz_arr=[17], ff_arr=[2,32])\n",
    "fig = plot_strain_amp(vals_20GW, mm_arr=[6,], qq_arr=[17,], zz_arr=[15], ff_arr=[1,8,])\n",
    "fig = plot_number(vals_20GW,  mm_arr=[7], qq_arr=[17,], zz_arr=[17], ff_arr=[2,32])\n",
    "fig = plot_integrated(vals_20GW, mm_arr=[7,15], qq_arr=[17,], zz_arr=[17,], ff_arr=[32])"
   ]
  },
  {
   "cell_type": "code",
   "execution_count": null,
   "metadata": {},
   "outputs": [],
   "source": [
    "fig = plot_integrated(vals_20GW, mm_arr=[7,15], qq_arr=[17,], zz_arr=[17,], ff_arr=[2, 32])"
   ]
  },
  {
   "cell_type": "code",
   "execution_count": null,
   "metadata": {},
   "outputs": [],
   "source": [
    "fig = plot_integrated(vals_20GW, mm_arr=[7,15], qq_arr=[17,], zz_arr=[5,17,], ff_arr=[32,])"
   ]
  },
  {
   "attachments": {},
   "cell_type": "markdown",
   "metadata": {},
   "source": [
    "# Comparing dnum methods"
   ]
  },
  {
   "attachments": {},
   "cell_type": "markdown",
   "metadata": {},
   "source": [
    "## Full GW Only"
   ]
  },
  {
   "cell_type": "code",
   "execution_count": null,
   "metadata": {},
   "outputs": [],
   "source": [
    "sam_full = holo.sam.Semi_Analytic_Model(shape=None)\n",
    "vals_fullGW = sam_model(sam=sam_full, hard=holo.hardening.Hard_GW())"
   ]
  },
  {
   "cell_type": "code",
   "execution_count": null,
   "metadata": {},
   "outputs": [],
   "source": [
    "print(vals_fullGW['edges'][2])"
   ]
  },
  {
   "cell_type": "code",
   "execution_count": null,
   "metadata": {},
   "outputs": [],
   "source": [
    "plt.plot(np.arange(len(vals_fullGW['edges'][2])), vals_fullGW['edges'][2])\n",
    "plt.yscale('log')"
   ]
  },
  {
   "cell_type": "code",
   "execution_count": null,
   "metadata": {},
   "outputs": [],
   "source": [
    "fig = plot_dnum_dpar(vals_fullGW, mm_arr=[2,7], qq_arr=[17,], zz_arr=[65], ff_arr=[2,32])\n",
    "fig = plot_strain_amp(vals_fullGW, mm_arr=[6,], qq_arr=[17,], zz_arr=[65], ff_arr=[1,8,])\n",
    "fig = plot_number(vals_fullGW,  mm_arr=[7], qq_arr=[17,], zz_arr=[65], ff_arr=[2,32])\n",
    "fig = plot_integrated(vals_fullGW, mm_arr=[7, -15], qq_arr=[17,], zz_arr=[65,], ff_arr=[32])"
   ]
  },
  {
   "cell_type": "code",
   "execution_count": null,
   "metadata": {},
   "outputs": [],
   "source": [
    "fig = plot_integrated(vals_fullGW, mm_arr=[7, -15], qq_arr=[17,], zz_arr=[55,85], ff_arr=[32])"
   ]
  },
  {
   "attachments": {},
   "cell_type": "markdown",
   "metadata": {},
   "source": [
    "## Full Fixed Time"
   ]
  },
  {
   "cell_type": "code",
   "execution_count": null,
   "metadata": {},
   "outputs": [],
   "source": [
    "sam_full = holo.sam.Semi_Analytic_Model(shape=None)\n",
    "vals_fullFT = sam_model(sam=sam_full, hard=holo.hardening.Fixed_Time_2PL_SAM(sam_full, 3*GYR))"
   ]
  },
  {
   "cell_type": "code",
   "execution_count": null,
   "metadata": {},
   "outputs": [],
   "source": [
    "fig = plot_dnum_dpar(vals_fullFT, mm_arr=[2,7], qq_arr=[17,], zz_arr=[65], ff_arr=[2,32])\n",
    "fig = plot_strain_amp(vals_fullFT, mm_arr=[6,], qq_arr=[17,], zz_arr=[65], ff_arr=[1,8,])\n",
    "fig = plot_number(vals_fullFT,  mm_arr=[7], qq_arr=[17,], zz_arr=[65], ff_arr=[2,32])\n",
    "fig = plot_integrated(vals_fullFT, mm_arr=[7, -15], qq_arr=[17,], zz_arr=[65,], ff_arr=[32])"
   ]
  },
  {
   "cell_type": "code",
   "execution_count": null,
   "metadata": {},
   "outputs": [],
   "source": [
    "fig = plot_integrated(vals_fullFT, mm_arr=[7, -15], qq_arr=[17,], zz_arr=[55,85], ff_arr=[32])"
   ]
  },
  {
   "cell_type": "code",
   "execution_count": null,
   "metadata": {},
   "outputs": [],
   "source": [
    "fig = plot_integrated(vals_fullFT, mm_arr=[7, -15], qq_arr=[17,], zz_arr=[55,85], ff_arr=[32])"
   ]
  },
  {
   "attachments": {},
   "cell_type": "markdown",
   "metadata": {},
   "source": [
    "# Comparing strain amplitude for initial/final redz\n",
    "\n",
    "conclusion: \n",
    "hs differences are almost negligible UNLESS hs_final is just 0 because redz_final has become -1 (never reaches GW emission). This cuts off the loudest sources, which have the lowest redshifts and largest masses.\n"
   ]
  },
  {
   "cell_type": "code",
   "execution_count": null,
   "metadata": {},
   "outputs": [],
   "source": [
    "sam=holo.sam.Semi_Analytic_Model(shape=20)\n",
    "vals = sam_model(sam, hard=holo.hardening.Fixed_Time_2PL_SAM(sam, 3*GYR), use_redz=True)\n",
    "fig = plot_strain_amp(vals, mm_arr=[14,], qq_arr=[18,], zz_arr=[15,], ff_arr=[32,])\n",
    "fig.axes[0].set_ylim(10**-16, 10**-11)"
   ]
  },
  {
   "cell_type": "code",
   "execution_count": null,
   "metadata": {},
   "outputs": [],
   "source": [
    "\n",
    "edges_zz = vals['edges'][2]\n",
    "cents_zz = utils.midpoints(edges_zz, log=True)\n",
    "redz_final = vals['redz_final']\n",
    "print(np.unravel_index(np.argmax(np.abs(redz_final-edges_zz[np.newaxis,np.newaxis,:,np.newaxis])), redz_final.shape))"
   ]
  },
  {
   "cell_type": "code",
   "execution_count": null,
   "metadata": {},
   "outputs": [],
   "source": [
    "hs_final = anis.strain_amp_at_bin_edges_redz(vals['edges'], vals['redz_final'])\n",
    "hs_initz = anis.strain_amp_at_bin_edges_redz(vals['edges'], redz=None)\n",
    "print(hs_final[14,0,17,32])\n",
    "print(hs_initz[14,0,17,32])\n",
    "print(np.unravel_index(np.argmax(np.abs(hs_final-hs_initz)), hs_initz.shape))\n",
    "print(hs_final[19,19,0,39])\n",
    "print(hs_initz[19,19,0,39])"
   ]
  },
  {
   "cell_type": "code",
   "execution_count": null,
   "metadata": {},
   "outputs": [],
   "source": [
    "\n",
    "plt.scatter(redz_final.flatten(), hs_final.flatten())"
   ]
  },
  {
   "cell_type": "code",
   "execution_count": null,
   "metadata": {},
   "outputs": [],
   "source": [
    "plt.scatter(edges_zz, redz_final[19,19,:,39])"
   ]
  },
  {
   "cell_type": "code",
   "execution_count": null,
   "metadata": {},
   "outputs": [],
   "source": []
  }
 ],
 "metadata": {
  "kernelspec": {
   "display_name": "holo310",
   "language": "python",
   "name": "python3"
  },
  "language_info": {
   "codemirror_mode": {
    "name": "ipython",
    "version": 3
   },
   "file_extension": ".py",
   "mimetype": "text/x-python",
   "name": "python",
   "nbconvert_exporter": "python",
   "pygments_lexer": "ipython3",
   "version": "3.10.10"
  }
 },
 "nbformat": 4,
 "nbformat_minor": 2
}
