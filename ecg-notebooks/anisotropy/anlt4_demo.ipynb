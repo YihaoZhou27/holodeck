{
 "cells": [
  {
   "cell_type": "code",
   "execution_count": null,
   "metadata": {},
   "outputs": [],
   "source": [
    "%reload_ext autoreload\n",
    "%autoreload 2\n",
    "from importlib import reload\n",
    "\n",
    "import numpy as np\n",
    "import matplotlib.pyplot as plt\n",
    "import h5py\n",
    "import healpy as hp\n",
    "import kalepy as kale\n",
    "\n",
    "import holodeck as holo\n",
    "import holodeck.anisotropy as anis\n",
    "from holodeck import detstats, plot, utils\n",
    "from holodeck.constants import YR, MSOL, GYR\n",
    "\n",
    "from matplotlib.lines import Line2D"
   ]
  },
  {
   "cell_type": "code",
   "execution_count": null,
   "metadata": {},
   "outputs": [],
   "source": [
    "SHAPE=(91,81,101)\n",
    "SAVE=True"
   ]
  },
  {
   "attachments": {},
   "cell_type": "markdown",
   "metadata": {},
   "source": [
    "# Setup Example Model"
   ]
  },
  {
   "cell_type": "code",
   "execution_count": null,
   "metadata": {},
   "outputs": [],
   "source": [
    "# get frequencies\n",
    "dur = holo.librarian.DEF_PTA_DUR*YR\n",
    "fobs_gw_cents, fobs_gw_edges = holo.utils.pta_freqs(dur)\n",
    "fobs_orb_cents = fobs_gw_cents/2\n",
    "fobs_orb_edges = fobs_gw_edges/2"
   ]
  },
  {
   "cell_type": "code",
   "execution_count": null,
   "metadata": {},
   "outputs": [],
   "source": [
    "# build Semi-Analytic-Model\n",
    "sam = holo.sams.Semi_Analytic_Model(shape=SHAPE)\n",
    "hard = holo.hardening.Fixed_Time_2PL_SAM(sam, 3*GYR)\n",
    "if isinstance(hard, holo.hardening.Fixed_Time_2PL_SAM):\n",
    "    hard_name = '%dGyr Fixed Time' % (hard._target_time/GYR)\n",
    "elif isinstance(hard, holo.hardening.Hard_GW):\n",
    "    hard_name = 'GW Only'\n",
    "print(hard_name)"
   ]
  },
  {
   "cell_type": "code",
   "execution_count": null,
   "metadata": {},
   "outputs": [],
   "source": [
    "\n",
    "# Evolve model to get final number densities & redshifts at bin edges\n",
    "redz_final, dnum = holo.sam_cython.dynamic_binary_number_at_fobs(\n",
    "    fobs_orb_cents, sam, hard, holo.cosmo)\n",
    "\n",
    "# calculate final number per bin at bin centers\n",
    "edges = [sam.mtot, sam.mrat, sam.redz, fobs_orb_edges]\n",
    "number = holo.sam_cython.integrate_differential_number_3dx1d(edges, dnum)\n",
    "intnum = np.floor(number)\n",
    "\n",
    "# format redz_prime and redz_initial for use like redz_final\n",
    "redz_prime = sam._redz_prime[...,np.newaxis]\n",
    "redz_initl = np.array(sam.redz)[np.newaxis,np.newaxis,:,np.newaxis]\n",
    "mm = len(edges[0])\n",
    "qq = len(edges[1])\n",
    "zz = len(edges[2])\n",
    "redz_initl = np.repeat(redz_initl, mm*qq).reshape(mm,qq,zz,1)\n",
    "print(f\"{redz_final.shape=}, {redz_prime.shape=}, {redz_initl.shape=}\")\n",
    "\n"
   ]
  },
  {
   "cell_type": "code",
   "execution_count": null,
   "metadata": {},
   "outputs": [],
   "source": [
    "# calculate strain amplitudes\n",
    "\n",
    "# at bin centers\n",
    "hs_cents_initl = anis.strain_amp_at_bin_centers_redz(edges, None)\n",
    "hs_cents_prime = anis.strain_amp_at_bin_centers_redz(edges, redz_prime)\n",
    "hs_cents_final = anis.strain_amp_at_bin_centers_redz(edges, redz_final) \n",
    "print(f\"{hs_cents_initl.shape=}, {hs_cents_prime.shape=}, {hs_cents_final.shape=}\")\n",
    "\n",
    "# at bin edges\n",
    "hs_edges_initl = anis.strain_amp_at_bin_edges_redz(edges, None)\n",
    "hs_edges_prime = anis.strain_amp_at_bin_edges_redz(edges, redz_prime)\n",
    "hs_edges_final = anis.strain_amp_at_bin_edges_redz(edges, redz_final) \n",
    "print(f\"{hs_edges_initl.shape=}, {hs_edges_prime.shape=}, {hs_edges_final.shape=}\")"
   ]
  },
  {
   "attachments": {},
   "cell_type": "markdown",
   "metadata": {},
   "source": [
    "# Calculate Cl's from Number (bin centers)"
   ]
  },
  {
   "cell_type": "code",
   "execution_count": null,
   "metadata": {},
   "outputs": [],
   "source": [
    "# from number and hs at bin centers\n",
    "C0_cents_initl, Cl_cents_initl, = anis.Cl_analytic_from_num(fobs_orb_edges, number, hs_cents_initl)\n",
    "C0_cents_prime, Cl_cents_prime, = anis.Cl_analytic_from_num(fobs_orb_edges, number, hs_cents_prime)\n",
    "C0_cents_final, Cl_cents_final, = anis.Cl_analytic_from_num(fobs_orb_edges, number, hs_cents_final)"
   ]
  },
  {
   "cell_type": "code",
   "execution_count": null,
   "metadata": {},
   "outputs": [],
   "source": [
    "# from number and hs at bin centers\n",
    "C0_floor_initl, Cl_floor_initl, = anis.Cl_analytic_from_num(fobs_orb_edges, intnum, hs_cents_initl)\n",
    "C0_floor_prime, Cl_floor_prime, = anis.Cl_analytic_from_num(fobs_orb_edges, intnum, hs_cents_prime)\n",
    "C0_floor_final, Cl_floor_final, = anis.Cl_analytic_from_num(fobs_orb_edges, intnum, hs_cents_final)"
   ]
  },
  {
   "cell_type": "code",
   "execution_count": null,
   "metadata": {},
   "outputs": [],
   "source": [
    "fig = anis.plot_ClC0_versions(fobs_gw_cents, spk=True, bayes=False, sim=False)\n",
    "ax = fig.axes[0]\n",
    "ax.set_title('%s, shape=%s' % (hard_name, str(sam.shape)))\n",
    "\n",
    "anis.draw_bayes(ax, lmax=6, ms=4)\n",
    "\n",
    "\n",
    "C0_cents = [C0_cents_initl, C0_cents_prime, C0_cents_final]\n",
    "Cl_cents = [Cl_cents_initl, Cl_cents_prime, Cl_cents_final]\n",
    "\n",
    "C0_floor = [C0_floor_initl, C0_floor_prime, C0_floor_final]\n",
    "Cl_floor = [Cl_floor_initl, Cl_floor_prime, Cl_floor_final]\n",
    "\n",
    "lw = [1,1.5,2]\n",
    "colors = ['goldenrod', 'tab:orange', 'tab:red',]\n",
    "labels = ['init', 'prime', 'final']\n",
    "handles = []\n",
    "for ii in range(3):\n",
    "    print(ii)\n",
    "    hh = anis.draw_analytic(ax, C0=C0_cents[ii],Cl=Cl_cents[ii], fobs_gw_cents=fobs_gw_cents,\n",
    "                    label=labels[ii], ls='-.', color=colors[ii], lw=lw[ii])\n",
    "    anis.draw_analytic(ax, C0=C0_floor[ii],Cl=Cl_floor[ii], fobs_gw_cents=fobs_gw_cents,\n",
    "                    label=None, ls=':', color=colors[ii], lw=lw[ii])\n",
    "    handles.append(hh)\n",
    "leg = ax.legend(handles=handles, loc='lower left')\n",
    "\n",
    "leg_handles = [\n",
    "    Line2D([0], [0], label='SPK', ls='--', color='limegreen'),\n",
    "    Line2D([0], [0], label='upper lims', ls='-', marker='o', ms=4, color='k'),\n",
    "    Line2D([0], [0], label='cents number', ls='-.', color=colors[0]),\n",
    "           Line2D([0], [0], label='cents rounded', ls=':', color=colors[0])]\n",
    "leg2 = ax.legend(handles=leg_handles, loc='lower right')\n",
    "ax.add_artist(leg)\n"
   ]
  },
  {
   "attachments": {},
   "cell_type": "markdown",
   "metadata": {},
   "source": [
    "# Calculate Cl's from dnum (bin edges)"
   ]
  },
  {
   "cell_type": "code",
   "execution_count": null,
   "metadata": {},
   "outputs": [],
   "source": [
    "C0_edges_initl, Cl_edges_initl = anis.Cl_analytic_from_dnum(edges, dnum, redz_initl)\n",
    "C0_edges_prime, Cl_edges_prime = anis.Cl_analytic_from_dnum(edges, dnum, redz_prime)\n",
    "C0_edges_final, Cl_edges_final = anis.Cl_analytic_from_dnum(edges, dnum, redz_final)"
   ]
  },
  {
   "cell_type": "code",
   "execution_count": null,
   "metadata": {},
   "outputs": [],
   "source": [
    "fig = anis.plot_ClC0_versions(fobs_gw_cents, spk=True, bayes=False, sim=False)\n",
    "ax = fig.axes[0]\n",
    "ax.set_title('%s, shape=%s' % (hard_name, str(sam.shape)))\n",
    "\n",
    "anis.draw_bayes(ax, lmax=6, ms=4, colors=['k', 'k', 'k', 'k', 'k', 'k'])\n",
    "\n",
    "Cl_edges = [Cl_edges_initl, Cl_edges_prime, Cl_edges_final]\n",
    "C0_edges = [C0_edges_initl, C0_edges_prime, C0_edges_final]\n",
    "\n",
    "handles = []\n",
    "for ii in range(3):\n",
    "    print(ii)\n",
    "    hh = anis.draw_analytic(ax, C0=C0_edges[ii], Cl=Cl_edges[ii], fobs_gw_cents=fobs_gw_cents,\n",
    "                       label=labels[ii], ls='-', color=colors[ii], lw=lw[ii])\n",
    "    anis.draw_analytic(ax, C0=C0_floor[ii],Cl=Cl_floor[ii], fobs_gw_cents=fobs_gw_cents,\n",
    "                    label=None, ls=':', color=colors[ii], lw=lw[ii])\n",
    "    anis.draw_analytic(ax, C0=C0_cents[ii],Cl=Cl_cents[ii], fobs_gw_cents=fobs_gw_cents,\n",
    "                    label=labels[ii], ls='-.', color=colors[ii], lw=lw[ii])\n",
    "    handles.append(hh)\n",
    "\n",
    "leg1 = ax.legend(handles=handles, loc='lower left')\n",
    "\n",
    "leg_handles = [\n",
    "    Line2D([0], [0], label='edges dnum', ls='-', color=colors[-1]),\n",
    "    Line2D([0], [0], label='cents number', ls='-.', color=colors[-1]),\n",
    "    Line2D([0], [0], label='cents rounded', ls=':', color=colors[-1]),\n",
    "    Line2D([0], [0], label='SPK', ls='--', color='limegreen'),\n",
    "    Line2D([0], [0], label='bayes upper lims', ls='-', marker='o', ms=4, color='k'),\n",
    "]\n",
    "leg2 = ax.legend(handles=leg_handles, loc='lower right', ncols=2)\n",
    "ax.add_artist(leg1)\n"
   ]
  },
  {
   "attachments": {},
   "cell_type": "markdown",
   "metadata": {},
   "source": [
    "Make sure that prime and initl aren't the exact same"
   ]
  },
  {
   "cell_type": "code",
   "execution_count": null,
   "metadata": {},
   "outputs": [],
   "source": [
    "print(holo.utils.stats(Cl_edges_initl))\n",
    "print(holo.utils.stats(Cl_edges_prime))"
   ]
  },
  {
   "cell_type": "code",
   "execution_count": null,
   "metadata": {},
   "outputs": [],
   "source": [
    "print(holo.utils.stats(Cl_cents_prime))\n",
    "print(holo.utils.stats(Cl_cents_initl))"
   ]
  },
  {
   "attachments": {},
   "cell_type": "markdown",
   "metadata": {},
   "source": [
    "# Calculate Cl's from Random Realizations \n",
    "(always cents)"
   ]
  },
  {
   "cell_type": "code",
   "execution_count": null,
   "metadata": {},
   "outputs": [],
   "source": [
    "C0_reals_initl, Cl_reals_initl = anis.Cl_analytic_from_dnum(edges, dnum, redz_initl, realize=20)\n",
    "print('one done')\n",
    "C0_reals_prime, Cl_reals_prime = anis.Cl_analytic_from_dnum(edges, dnum, redz_prime, realize=20)\n",
    "print('two done')\n",
    "C0_reals_final, Cl_reals_final = anis.Cl_analytic_from_dnum(edges, dnum, redz_final, realize=20)\n"
   ]
  },
  {
   "cell_type": "code",
   "execution_count": null,
   "metadata": {},
   "outputs": [],
   "source": [
    "print(C0_reals_initl.shape)"
   ]
  },
  {
   "cell_type": "code",
   "execution_count": null,
   "metadata": {},
   "outputs": [],
   "source": [
    "fig = anis.plot_ClC0_versions(fobs_gw_cents, spk=True, bayes=False, sim=False)\n",
    "ax = fig.axes[0]\n",
    "ax.set_title('%s, shape=%s' % (hard_name, str(sam.shape)))\n",
    "\n",
    "anis.draw_bayes(ax, lmax=6, ms=4, colors=['k', 'k', 'k', 'k', 'k', 'k'])\n",
    "labels = ['z_initial', 'z_prime', 'z_final']\n",
    "colors=['olive', '#ff4000', 'deeppink']\n",
    "lw = [2, 2.5, 3]\n",
    "\n",
    "C0_reals = [C0_reals_initl, C0_reals_prime, C0_reals_final]\n",
    "Cl_reals = [Cl_reals_initl, Cl_reals_prime, Cl_reals_final]\n",
    "\n",
    "handles = []\n",
    "for ii in range(3):\n",
    "    print(ii)\n",
    "    hh = anis.draw_analytic(ax, C0=C0_edges[ii], Cl=Cl_edges[ii], fobs_gw_cents=fobs_gw_cents,\n",
    "                       label=labels[ii], ls='-', color=colors[ii], lw=lw[ii], alpha=0.7)\n",
    "    anis.draw_analytic(ax, C0=C0_floor[ii],Cl=Cl_floor[ii], fobs_gw_cents=fobs_gw_cents,\n",
    "                    label=None, ls='--', color=colors[ii], lw=lw[ii], alpha=0.5)\n",
    "    anis.draw_analytic(ax, C0=C0_cents[ii],Cl=Cl_cents[ii], fobs_gw_cents=fobs_gw_cents,\n",
    "                    label=labels[ii], ls='-.', color=colors[ii], lw=lw[ii], alpha=0.7)\n",
    "    anis.draw_reals(ax, Cl_reals[ii], C0_reals[ii], fobs_gw_cents,\n",
    "                    color=colors[ii], label=None, show_ci=True, show_reals=True, nshow=20)\n",
    "    handles.append(hh)\n",
    "\n",
    "leg1 = ax.legend(handles=handles, loc='lower right', bbox_to_anchor=(1,0.2))\n",
    "\n",
    "leg_handles = [\n",
    "    Line2D([0], [0], label='edges dnum', ls='-', color=colors[-1], alpha=0.7),\n",
    "    Line2D([0], [0], label='cents number', ls='-.', color=colors[-1], alpha=0.7),\n",
    "    Line2D([0], [0], label='cents rounded', ls='--', color=colors[-1], alpha=0.5),\n",
    "    Line2D([0], [0], label='realizations', ls=':', color=colors[-1], alpha=0.5),\n",
    "    Line2D([0], [0], label='SPK', ls='--', color='limegreen'),\n",
    "    Line2D([0], [0], label='bayes upper lims', ls='-', marker='o', ms=4, color='k'),\n",
    "]\n",
    "leg2 = ax.legend(handles=leg_handles, loc='lower right', ncols=2)\n",
    "ax.add_artist(leg1)\n",
    "\n",
    "fig.tight_layout()\n",
    "\n",
    "if SAVE:\n",
    "# if True:\n",
    "    fig_path = '/Users/emigardiner/GWs/holodeck/output/figures/anisotropy'\n",
    "    name = fig_path+f'/anlt_{hard._target_time/GYR}GyrFT_{sam.shape[0]}_{sam.shape[1]}_{sam.shape[2]}.png'\n",
    "    fig.savefig(name, bbox_inches='tight', dpi=100)\n"
   ]
  },
  {
   "cell_type": "code",
   "execution_count": null,
   "metadata": {},
   "outputs": [],
   "source": [
    "print(holo.utils.stats(redz_initl))\n",
    "print(holo.utils.stats(redz_prime))\n",
    "print(holo.utils.stats(redz_final))\n"
   ]
  },
  {
   "cell_type": "code",
   "execution_count": null,
   "metadata": {},
   "outputs": [],
   "source": [
    "print(holo.utils.stats(Cl_cents_final))\n",
    "print(holo.utils.stats(Cl_cents_prime))\n",
    "print(holo.utils.stats(Cl_cents_initl))"
   ]
  },
  {
   "cell_type": "code",
   "execution_count": null,
   "metadata": {},
   "outputs": [],
   "source": [
    "print(holo.utils.stats(Cl_floor_final))\n",
    "print(holo.utils.stats(Cl_floor_prime))\n",
    "print(holo.utils.stats(Cl_floor_initl))"
   ]
  },
  {
   "cell_type": "code",
   "execution_count": null,
   "metadata": {},
   "outputs": [],
   "source": []
  }
 ],
 "metadata": {
  "kernelspec": {
   "display_name": "holo310",
   "language": "python",
   "name": "python3"
  },
  "language_info": {
   "codemirror_mode": {
    "name": "ipython",
    "version": 3
   },
   "file_extension": ".py",
   "mimetype": "text/x-python",
   "name": "python",
   "nbconvert_exporter": "python",
   "pygments_lexer": "ipython3",
   "version": "3.10.10"
  }
 },
 "nbformat": 4,
 "nbformat_minor": 2
}
