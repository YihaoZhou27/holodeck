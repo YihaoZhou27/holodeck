{
 "cells": [
  {
   "cell_type": "code",
   "execution_count": null,
   "metadata": {},
   "outputs": [],
   "source": [
    "# %load ../init.ipy\n",
    "%reload_ext autoreload\n",
    "%autoreload 2\n",
    "from importlib import reload\n",
    "\n",
    "import numpy as np\n",
    "import holodeck as holo\n",
    "import holodeck.single_sources as ss\n",
    "import holodeck.cyutils as cy\n",
    "import matplotlib.pyplot as plt\n",
    "import kalepy as kale\n",
    "\n",
    "\n",
    "import matplotlib.cm as cm\n",
    "from holodeck import plot, utils\n",
    "from holodeck.constants import YR, MSOL\n",
    "import holodeck.detstats as det"
   ]
  },
  {
   "attachments": {},
   "cell_type": "markdown",
   "metadata": {},
   "source": [
    "# Check ss_lib_combine is working"
   ]
  },
  {
   "cell_type": "code",
   "execution_count": null,
   "metadata": {},
   "outputs": [],
   "source": [
    "import h5py"
   ]
  },
  {
   "cell_type": "code",
   "execution_count": null,
   "metadata": {},
   "outputs": [],
   "source": [
    "ssfile = h5py.File('/Users/emigardiner/GWs/holodeck/output/awg_output/uniform-07a_new_n500_r100_f40/sam_lib.hdf5', 'r+')\n",
    "list(ssfile.keys())"
   ]
  },
  {
   "cell_type": "code",
   "execution_count": null,
   "metadata": {},
   "outputs": [],
   "source": [
    "hc_bg_com = ssfile['hc_bg'][...]\n",
    "print(hc_bg_com.shape)\n",
    "hc_ss_com = ssfile['hc_ss'][...]\n",
    "print(hc_ss_com.shape)\n",
    "fobs_com = ssfile['fobs'][:]\n",
    "print(fobs_com.shape)\n",
    "sspar_com = ssfile['sspar'][...]\n",
    "print(sspar_com.shape)\n",
    "bgpar_com = ssfile['bgpar'][...]\n",
    "print(bgpar_com.shape)\n"
   ]
  },
  {
   "cell_type": "code",
   "execution_count": null,
   "metadata": {},
   "outputs": [],
   "source": [
    "nsort, fidx, hc_ref = holo.detstats.rank_samples(hc_ss_com, hc_bg_com, fobs_com, fidx=1, hc_ref=holo.detstats.HC_REF15_10YR, ret_all=True)\n",
    "np.savez('/Users/emigardiner/GWs/holodeck/output/awg_output/uniform-07a_new_n500_r100_f40/sample_rankinsg.npz', nsort)\n",
    "print(nsort[:10])\n",
    "print(fobs_com[fidx]*YR)\n",
    "print(hc_ref)"
   ]
  },
  {
   "cell_type": "code",
   "execution_count": null,
   "metadata": {},
   "outputs": [],
   "source": [
    "for ii in range(0,1): #len(hc_bg_com)):\n",
    "    fig = plot.plot_bg_ss(fobs_com[:], bg=hc_bg_com[ii], ss=hc_ss_com[ii])\n",
    "    fig = plot.plot_pars(fobs_com[:], hc_ss_com[ii,...], hc_bg_com[ii,...], sspar_com[ii,...], bgpar_com[ii,...])\n"
   ]
  },
  {
   "attachments": {},
   "cell_type": "markdown",
   "metadata": {},
   "source": [
    "## without pars"
   ]
  },
  {
   "cell_type": "code",
   "execution_count": null,
   "metadata": {},
   "outputs": [],
   "source": [
    "# ssfile = h5py.File('/Users/emigardiner/GWs/holodeck/output/2023-05-03-mbp-ss05_n10_r10_f100_d17.5_l100_p1_s10/ss_lib.hdf5', 'r+')\n",
    "# list(ssfile.keys())"
   ]
  },
  {
   "cell_type": "code",
   "execution_count": null,
   "metadata": {},
   "outputs": [],
   "source": [
    "# hc_bg_com2 = ssfile['hc_bg']\n",
    "# print(hc_bg_com2.shape)\n",
    "# hc_ss_com2 = ssfile['hc_ss']\n",
    "# print(hc_ss_com2.shape)\n",
    "# fobs_com2 = ssfile['fobs']\n",
    "# print(fobs_com2.shape)\n",
    "# # sspar_com = ssfile['sspar']\n",
    "# # bgpar_com = ssfile['bgpar']\n"
   ]
  },
  {
   "cell_type": "code",
   "execution_count": null,
   "metadata": {},
   "outputs": [],
   "source": [
    "# for ii in range(len(hc_bg_com2)):\n",
    "#     fig = plot.plot_gwb(fobs_com2[:], gwb=hc_bg_com2[ii], hc_ss=hc_ss_com2[ii,:,:,0:2])\n",
    "#     # fig = plot.plot_pars(fobs_com[:], hc_ss_com[ii,...,0:2], hc_bg_com[ii,...,0:2], sspar_com[ii,...,0:2], bgpar_com[ii,...,0:2])\n"
   ]
  },
  {
   "attachments": {},
   "cell_type": "markdown",
   "metadata": {},
   "source": [
    "# Check npz arrays"
   ]
  },
  {
   "cell_type": "code",
   "execution_count": null,
   "metadata": {},
   "outputs": [],
   "source": [
    "filename = '/Users/emigardiner/GWs/holodeck/brc_output/lib_ss__p000005_ss42.npz'\n",
    "infile = np.load(filename)\n",
    "print(infile.files)\n",
    "fobs_npz = infile['fobs']\n",
    "xx = fobs_npz*YR\n",
    "hc_ss_npz = infile['hc_ss']\n",
    "print(hc_ss_npz.shape)\n",
    "hc_bg_npz = infile['hc_bg']\n",
    "print(hc_bg_npz.shape)\n",
    "sspar_npz = infile['sspar']\n",
    "print(sspar_npz.shape)\n",
    "bgpar_npz = infile['bgpar']\n",
    "print(bgpar_npz.shape)"
   ]
  },
  {
   "attachments": {},
   "cell_type": "markdown",
   "metadata": {},
   "source": [
    "really slow to plot for 1000 loudest"
   ]
  },
  {
   "cell_type": "code",
   "execution_count": null,
   "metadata": {},
   "outputs": [],
   "source": [
    "fig1 = plot.plot_bg_ss(fobs_npz, bg=hc_bg_npz, ss=hc_ss_npz[...,0:15])"
   ]
  },
  {
   "cell_type": "code",
   "execution_count": null,
   "metadata": {},
   "outputs": [],
   "source": [
    "fig2 = plot.plot_pars(fobs_npz, hc_ss_npz[...,:100], hc_bg_npz, sspar_npz[...,:100], bgpar_npz)"
   ]
  },
  {
   "attachments": {},
   "cell_type": "markdown",
   "metadata": {},
   "source": [
    "trying all 1000"
   ]
  },
  {
   "cell_type": "code",
   "execution_count": null,
   "metadata": {},
   "outputs": [],
   "source": [
    "fig1 = plot.plot_bg_ss(fobs_npz, bg=hc_bg_npz, ss=hc_ss_npz)"
   ]
  },
  {
   "cell_type": "code",
   "execution_count": null,
   "metadata": {},
   "outputs": [],
   "source": [
    "fig2 = plot.plot_pars(fobs_npz, hc_ss_npz, hc_bg_npz, sspar_npz, bgpar_npz)"
   ]
  },
  {
   "attachments": {},
   "cell_type": "markdown",
   "metadata": {},
   "source": [
    "# Check 100 loudest"
   ]
  },
  {
   "cell_type": "code",
   "execution_count": null,
   "metadata": {},
   "outputs": [],
   "source": [
    "dur = 17.5*YR\n",
    "cad = 1/12*YR\n",
    "fobs = utils.nyquist_freqs(dur,cad)\n",
    "fobs_edges = utils.nyquist_freqs_edges(dur,cad)\n",
    "sam = holo.sam.Semi_Analytic_Model() \n",
    "# sam = holo.sam.Semi_Analytic_Model(mtot=(1.0e4*MSOL, 1.0e11*MSOL, 20), mrat=(1e-3, 1.0, 20), redz=(1e-3, 10.0, 20))  # faster version\n",
    "hard = holo.hardening.Hard_GW"
   ]
  },
  {
   "attachments": {},
   "cell_type": "markdown",
   "metadata": {},
   "source": [
    "Calculate strain"
   ]
  },
  {
   "cell_type": "code",
   "execution_count": null,
   "metadata": {},
   "outputs": [],
   "source": [
    "fobs_orb_edges = fobs_edges / 2.0 \n",
    "fobs_orb_cents = fobs/ 2.0\n",
    "# edges\n",
    "edges, dnum = sam.dynamic_binary_number(hard, fobs_orb=fobs_orb_cents) # should the zero stalled option be part of the parameter space?\n",
    "edges[-1] = fobs_orb_edges\n",
    "# integrate for number\n",
    "number = utils._integrate_grid_differential_number(edges, dnum, freq=False)\n",
    "number = number * np.diff(np.log(fobs_edges)) \n",
    "hc_ss, hc_bg, sspar, bgpar = ss.ss_gws(edges, number, realize=30, \\\n",
    "                                        loudest = 100, params = True) "
   ]
  },
  {
   "cell_type": "code",
   "execution_count": null,
   "metadata": {},
   "outputs": [],
   "source": [
    "print(fobs.shape)"
   ]
  },
  {
   "cell_type": "code",
   "execution_count": null,
   "metadata": {},
   "outputs": [],
   "source": [
    "fig = plot.plot_gwb(fobs, gwb=hc_bg, hc_ss=hc_ss)"
   ]
  },
  {
   "cell_type": "code",
   "execution_count": null,
   "metadata": {},
   "outputs": [],
   "source": [
    "fig = plot.plot_pars(fobs, hc_ss, hc_bg, sspar, bgpar)"
   ]
  },
  {
   "attachments": {},
   "cell_type": "markdown",
   "metadata": {},
   "source": [
    "# Check 1000 loudest"
   ]
  },
  {
   "attachments": {},
   "cell_type": "markdown",
   "metadata": {},
   "source": [
    "calculate strain, same SAM"
   ]
  },
  {
   "cell_type": "code",
   "execution_count": null,
   "metadata": {},
   "outputs": [],
   "source": [
    "fobs_orb_edges = fobs_edges / 2.0 \n",
    "fobs_orb_cents = fobs/ 2.0\n",
    "# edges\n",
    "edges, dnum = sam.dynamic_binary_number(hard, fobs_orb=fobs_orb_cents) # should the zero stalled option be part of the parameter space?\n",
    "edges[-1] = fobs_orb_edges\n",
    "# integrate for number\n",
    "number = utils._integrate_grid_differential_number(edges, dnum, freq=False)\n",
    "number = number * np.diff(np.log(fobs_edges)) \n",
    "hc_ss1000, hc_bg1000, sspar1000, bgpar1000 = ss.ss_gws(edges, number, realize=30, \\\n",
    "                                        loudest = 1000, params = True) "
   ]
  },
  {
   "cell_type": "code",
   "execution_count": null,
   "metadata": {},
   "outputs": [],
   "source": [
    "fig = plot.plot_gwb(fobs, gwb=hc_bg1000, hc_ss=hc_ss1000)"
   ]
  },
  {
   "cell_type": "code",
   "execution_count": null,
   "metadata": {},
   "outputs": [],
   "source": [
    "fig = plot.plot_pars(fobs, hc_ss1000, hc_bg1000, sspar1000, bgpar1000)"
   ]
  },
  {
   "cell_type": "code",
   "execution_count": null,
   "metadata": {},
   "outputs": [],
   "source": []
  }
 ],
 "metadata": {
  "kernelspec": {
   "display_name": "holo310",
   "language": "python",
   "name": "python3"
  },
  "language_info": {
   "codemirror_mode": {
    "name": "ipython",
    "version": 3
   },
   "file_extension": ".py",
   "mimetype": "text/x-python",
   "name": "python",
   "nbconvert_exporter": "python",
   "pygments_lexer": "ipython3",
   "version": "3.10.10"
  }
 },
 "nbformat": 4,
 "nbformat_minor": 2
}
