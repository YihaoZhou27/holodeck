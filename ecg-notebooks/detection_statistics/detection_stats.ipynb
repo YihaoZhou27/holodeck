{
 "cells": [
  {
   "cell_type": "code",
   "execution_count": 4,
   "metadata": {},
   "outputs": [],
   "source": [
    "# %load ../init.ipy\n",
    "%reload_ext autoreload\n",
    "%autoreload 2\n",
    "from importlib import reload\n",
    "\n",
    "import numpy as np\n",
    "import holodeck as holo\n",
    "import holodeck.single_sources as ss\n",
    "import matplotlib.pyplot as plt\n",
    "import scipy as sp"
   ]
  },
  {
   "cell_type": "code",
   "execution_count": 3,
   "metadata": {},
   "outputs": [
    {
     "name": "stdout",
     "output_type": "stream",
     "text": [
      "11:46:45 INFO : zero_coalesced=True, zero_stalled=False [sam.py:dynamic_binary_number]\n",
      "11:46:45 INFO : Stalled SAM bins based on GMT: 6.25e+03/1.56e+04 = 4.00e-01 [sam.py:static_binary_density]\n",
      "11:46:45 INFO : Adding MMbulge scatter (3.4000e-01) [sam.py:static_binary_density]\n",
      "11:46:45 INFO : \tdens bef: (0.00e+00, 5.88e-204, 7.46e-47, 1.42e-04, 6.93e-03, 1.16e-02, 1.54e-02) [sam.py:static_binary_density]\n",
      "11:46:45 INFO : Scatter added after 0.161583 sec [sam.py:static_binary_density]\n",
      "11:46:45 INFO : \tdens aft: (3.56e-18, 6.31e-13, 2.57e-10, 3.25e-04, 6.99e-03, 1.16e-02, 1.41e-02) [sam.py:static_binary_density]\n",
      "11:46:45 INFO : \tmass: 2.38e-02 ==> 2.37e-02 || change = -6.2202e-03 [sam.py:static_binary_density]\n",
      "11:46:45 INFO : zeroing out 6.25e+03/1.56e+04 = 4.00e-01 systems stalled from GMT [sam.py:static_binary_density]\n",
      "11:46:45 INFO : fraction of coalesced binaries: 4.04e+04/1.88e+05 = 2.16e-01 [sam.py:dynamic_binary_number]\n",
      "11:46:45 WARNING : WARNING: _stalled_ binaries are not being accounted for in `dynamic_binary_number`! [sam.py:dynamic_binary_number]\n"
     ]
    }
   ],
   "source": [
    "edges, number, fobs, exname = ss.example4(print_test=False)\n",
    "hc_bg, hc_ss, ssidx, hsamp, bgpar, sspar = ss.ss_by_cdefs(edges, number, 30, params=True)"
   ]
  },
  {
   "attachments": {},
   "cell_type": "markdown",
   "metadata": {},
   "source": [
    "# Rosado et al 2015"
   ]
  },
  {
   "attachments": {},
   "cell_type": "markdown",
   "metadata": {},
   "source": [
    "## For GWB\n",
    "PDF in the absence of a GWB\n",
    "$$ p_0(S) = \\frac{1}{\\sqrt{2\\pi\\sigma_0^2} }e^{-\\frac{(S-\\mu_0)^2}{2\\sigma_0^2}} $$\n",
    "PDF if GWB is present in the data\n",
    " $$ p_1(S) = \\frac{1}{\\sqrt{2\\pi\\sigma_1^2} }e^{-\\frac{(S-\\mu_1)^2}{2\\sigma_1^2}} $$"
   ]
  },
  {
   "attachments": {},
   "cell_type": "markdown",
   "metadata": {},
   "source": [
    "cross correlation\n",
    "$$ S = \\int_{-T/2}^{T/2} dt \\int_{-T/2}^{T/2} dt' s_i(t) s_j(t') Q(t,t')$$\n",
    "$T$ = observing time, $s_i(t)$ and $s_j(t)$ are different pulsar data, $Q(t,t')$ = filter function, chosen to maximize DP for a fixed FAP $=\\alpha_0=0.001$ (Neyman-Pearson criterion)\n"
   ]
  },
  {
   "attachments": {},
   "cell_type": "markdown",
   "metadata": {},
   "source": [
    "## For single sources\n",
    "PDF of $\\mathcal{F}_e$ - statistic in absence of signal\n",
    "$$ p_0(\\mathcal{F}_e) = \\mathcal{F}_e e^{-\\mathcal{F}_e}$$\n",
    "PDF of $\\mathcal{F}_e$ - statistic if signal is present\n",
    "$$ p_1(\\mathcal{F}_e, \\rho) = \\frac{(2\\mathcal{F}_e)^{1/2}}{\\rho} I_1 (\\rho \\sqrt{2 \\mathcal{F}_e}) e^{-\\mathcal{F}_e - 1/2\\rho^2} $$\n",
    "where $I_1(x)$ = the modified Bessel function of the first kind of order 1 and\n",
    " $\\rho$ = the optimal $S/N_S = \\big[ \\sum_{i=1}^M S/N_i^2 \\big]^{1/2}$"
   ]
  },
  {
   "attachments": {},
   "cell_type": "markdown",
   "metadata": {},
   "source": [
    "## Detection probability\n",
    "for single sources: $ \\gamma_S(t) = \\int_0^t p_s(t') dt'$ \\\n",
    "for background: $ \\gamma_B(t) = \\int_0^t p_B(t') dt'$"
   ]
  },
  {
   "attachments": {},
   "cell_type": "markdown",
   "metadata": {},
   "source": [
    "# Variables\n",
    "* $\\alpha$ = false alarm probability\n",
    "* $\\gamma$ = detection probability\n",
    "* $S_T$ = threshold signal"
   ]
  },
  {
   "attachments": {},
   "cell_type": "markdown",
   "metadata": {},
   "source": [
    "$$ \\gamma_{bg} = \\frac{1}{2} \\mathrm{erfc} \\big[ \\frac{\\sqrt{2} \\sigma_0 \\mathrm{erfc}^{-1}(2\\alpha_0) - \\mu_1}{\\sqrt{2} \\sigma_1}\\big]"
   ]
  },
  {
   "cell_type": "code",
   "execution_count": null,
   "metadata": {},
   "outputs": [],
   "source": [
    "ALPHA0 = 0.001 # false alarm probability (FAP)\n",
    "GAMMA0 = 0.95 # detection probability\n",
    "\n",
    "def bg_detection_probability(sigma_0, sigma_1, mu_1, alpha_0):\n",
    "    \"\"\" \n",
    "    background detetion probability gamma_bg\n",
    "    \"\"\"\n",
    "    temp = ((np.sqrt(2) * sigma_0 * sp.erfinv(2*alpha_0) - mu_1)\n",
    "            /(np.sqrt(2) * sigma_1))\n",
    "    gamma_bg = .5 * sp.erf(temp)\n",
    "    return gamma_bg\n",
    "\n",
    "def S_NA(mu_1, sigma_0):\n",
    "    \"\"\" \n",
    "    SNR for the A-statistic S/N_A\n",
    "    \"\"\"\n",
    "    return mu_1/sigma_0\n",
    "\n",
    "def S_NB(mu_1, sigma_1):\n",
    "    \"\"\" \n",
    "    SNR for the B-statistic S/N_B\n",
    "    \"\"\"\n",
    "    return mu_1/sigma_1\n"
   ]
  },
  {
   "attachments": {},
   "cell_type": "markdown",
   "metadata": {},
   "source": [
    "threshold signal to noise to have FAP $\\alpha <\\alpha_0$ and detection probability $\\gamma > \\gamma_0$\n",
    "\n",
    "$$ \\mathrm{S/N^T} \\approx \\sqrt{2} \\big[ \\mathrm{erfc}^{-1}(2\\alpha_0) - \\mathrm{erfc}^{-1}(2 \\gamma_0) \\big] $$"
   ]
  },
  {
   "cell_type": "code",
   "execution_count": 7,
   "metadata": {},
   "outputs": [],
   "source": [
    "def threshold_SNR(alpha_0, gamma_0):\n",
    "    \"\"\" \n",
    "    threshold signal to noise ratio S/N^T for alpha<alpha_0 and gamma > gamma_0\n",
    "    \"\"\"\n",
    "    return np.sqrt(2) * (sp.erfinv(2*alpha_0) - sp.erfinv(2*gamma_0))"
   ]
  },
  {
   "attachments": {},
   "cell_type": "markdown",
   "metadata": {},
   "source": [
    "$$ \\Gamma_{ij} = \\frac{3}{2} \\gamma_{ij} \\ln (\\gamma_{ij}) - \\frac{1}{4} \\gamma_{ij} + \\frac{1}{2} + \\frac{1}{2}\\delta_{ij} $$\n",
    "$$ \\gamma_{ij} = [1-\\cos (\\theta_{ij})]/2$$"
   ]
  },
  {
   "cell_type": "code",
   "execution_count": 8,
   "metadata": {},
   "outputs": [],
   "source": [
    "def gammaij_from_thetaij(theta_ij):\n",
    "    \"\"\" \n",
    "    gamma_ij for two pulsars of relative angle theta_ij\n",
    "    \"\"\"\n",
    "    return (1-np.cos(theta_ij))/2\n",
    "\n",
    "def thetaij_from_thetai_thetaj(theta_i, theta_j):\n",
    "    \"\"\" \n",
    "    relative angle between two pulsars with angular positions theta_i and theta_j\n",
    "    \"\"\"\n",
    "    return np.abs(theta_i - theta_j)\n",
    "\n",
    "def dirac_ij(i,j):\n",
    "    \"\"\" \n",
    "    the dirac delta function of i,j\n",
    "    \"\"\"\n",
    "    if(i==j): return 1\n",
    "    else: return 0\n",
    "\n",
    "def Gammaij_from_gammaij_diracij(gamma_ij, dirac_ij):\n",
    "    \"\"\" \n",
    "    Gamma_i,j as a function of gamma_i,j and diracdelta_i,j\n",
    "    \"\"\"\n",
    "    return (3/2 * gamma_ij *np.log(gamma_ij)\n",
    "            - 1/4 * gamma_ij\n",
    "            + 1/2 + dirac_ij)\n",
    "\n",
    "def Gammaij_from_thetai_thetaj_ij(theta_i, theta_j, i, j):\n",
    "    \"\"\" \n",
    "    Gamma_i,j as a function of theta_i, theta_j, i, and j\n",
    "    \"\"\"\n",
    "    dirac_ij = dirac_ij(i, j)\n",
    "    theta_ij = thetaij_from_thetai_thetaj(theta_i, theta_j)\n",
    "    gamma_ij = gammaij_from_thetaij(theta_ij)\n",
    "    return Gammaij_from_gammaij_diracij(gamma_ij, dirac_ij)"
   ]
  },
  {
   "cell_type": "code",
   "execution_count": null,
   "metadata": {},
   "outputs": [],
   "source": []
  }
 ],
 "metadata": {
  "kernelspec": {
   "display_name": "holo310",
   "language": "python",
   "name": "python3"
  },
  "language_info": {
   "codemirror_mode": {
    "name": "ipython",
    "version": 3
   },
   "file_extension": ".py",
   "mimetype": "text/x-python",
   "name": "python",
   "nbconvert_exporter": "python",
   "pygments_lexer": "ipython3",
   "version": "3.10.9"
  },
  "orig_nbformat": 4
 },
 "nbformat": 4,
 "nbformat_minor": 2
}
