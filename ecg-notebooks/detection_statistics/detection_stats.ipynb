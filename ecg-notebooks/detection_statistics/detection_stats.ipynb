{
 "cells": [
  {
   "cell_type": "code",
   "execution_count": 50,
   "metadata": {},
   "outputs": [],
   "source": [
    "# %load ../init.ipy\n",
    "%reload_ext autoreload\n",
    "%autoreload 2\n",
    "from importlib import reload\n",
    "\n",
    "import numpy as np\n",
    "import holodeck as holo\n",
    "import holodeck.single_sources as ss\n",
    "from holodeck.constants import YR\n",
    "import matplotlib.pyplot as plt\n",
    "import scipy as sp"
   ]
  },
  {
   "cell_type": "code",
   "execution_count": 157,
   "metadata": {},
   "outputs": [
    {
     "name": "stdout",
     "output_type": "stream",
     "text": [
      "using default mtot, mrat, and redz\n",
      "00:05:07 INFO : zero_coalesced=True, zero_stalled=False [sam.py:dynamic_binary_number]\n",
      "00:05:07 INFO : Stalled SAM bins based on GMT: 1.98e+05/4.99e+05 = 3.96e-01 [sam.py:static_binary_density]\n",
      "00:05:08 INFO : Adding MMbulge scatter (3.4000e-01) [sam.py:static_binary_density]\n",
      "00:05:08 INFO : \tdens bef: (1.28e-114, 5.22e-53, 2.59e-13, 2.12e-03, 1.66e-02, 2.92e-02, 4.47e-02) [sam.py:static_binary_density]\n",
      "00:05:14 INFO : Scatter added after 5.99839 sec [sam.py:static_binary_density]\n",
      "00:05:14 INFO : \tdens aft: (6.14e-17, 7.92e-09, 2.90e-06, 2.19e-03, 1.69e-02, 2.92e-02, 4.27e-02) [sam.py:static_binary_density]\n",
      "00:05:14 INFO : \tmass: 8.56e-02 ==> 8.54e-02 || change = -1.8507e-03 [sam.py:static_binary_density]\n",
      "00:05:14 INFO : zeroing out 1.98e+05/4.99e+05 = 3.96e-01 systems stalled from GMT [sam.py:static_binary_density]\n",
      "00:05:14 INFO : fraction of coalesced binaries: 4.33e+05/1.25e+07 = 3.47e-02 [sam.py:dynamic_binary_number]\n",
      "00:05:14 WARNING : WARNING: _stalled_ binaries are not being accounted for in `dynamic_binary_number`! [sam.py:dynamic_binary_number]\n"
     ]
    }
   ],
   "source": [
    "edges, number, fobs, exname = ss.example5(print_test=False)\n",
    "hc_bg, hc_ss, ssidx, hsamp, bgpar, sspar = ss.ss_by_cdefs(edges, number, 30, params=True)\n",
    "# example 5\n",
    "dur5 = 10.0*YR\n",
    "cad5 = .2*YR\n",
    "# dur4 = 5.0*YR/3.1557600\n",
    "# cad4 = .2*YR/3.1557600"
   ]
  },
  {
   "attachments": {},
   "cell_type": "markdown",
   "metadata": {},
   "source": [
    "# Rosado et al 2015"
   ]
  },
  {
   "attachments": {},
   "cell_type": "markdown",
   "metadata": {},
   "source": [
    "## For GWB\n",
    "PDF in the absence of a GWB\n",
    "$$ p_0(S) = \\frac{1}{\\sqrt{2\\pi\\sigma_0^2} }e^{-\\frac{(S-\\mu_0)^2}{2\\sigma_0^2}} $$\n",
    "PDF if GWB is present in the data\n",
    " $$ p_1(S) = \\frac{1}{\\sqrt{2\\pi\\sigma_1^2} }e^{-\\frac{(S-\\mu_1)^2}{2\\sigma_1^2}} $$"
   ]
  },
  {
   "attachments": {},
   "cell_type": "markdown",
   "metadata": {},
   "source": [
    "cross correlation\n",
    "$$ S = \\int_{-T/2}^{T/2} dt \\int_{-T/2}^{T/2} dt' s_i(t) s_j(t') Q(t,t')$$\n",
    "$T$ = observing time, $s_i(t)$ and $s_j(t)$ are different pulsar data, $Q(t,t')$ = filter function, chosen to maximize DP for a fixed FAP $=\\alpha_0=0.001$ (Neyman-Pearson criterion)\n"
   ]
  },
  {
   "attachments": {},
   "cell_type": "markdown",
   "metadata": {},
   "source": [
    "## For single sources\n",
    "PDF of $\\mathcal{F}_e$ - statistic in absence of signal\n",
    "$$ p_0(\\mathcal{F}_e) = \\mathcal{F}_e e^{-\\mathcal{F}_e}$$\n",
    "PDF of $\\mathcal{F}_e$ - statistic if signal is present\n",
    "$$ p_1(\\mathcal{F}_e, \\rho) = \\frac{(2\\mathcal{F}_e)^{1/2}}{\\rho} I_1 (\\rho \\sqrt{2 \\mathcal{F}_e}) e^{-\\mathcal{F}_e - 1/2\\rho^2} $$\n",
    "where $I_1(x)$ = the modified Bessel function of the first kind of order 1 and\n",
    " $\\rho$ = the optimal $S/N_S = \\big[ \\sum_{i=1}^M S/N_i^2 \\big]^{1/2}$"
   ]
  },
  {
   "attachments": {},
   "cell_type": "markdown",
   "metadata": {},
   "source": [
    "## Detection probability\n",
    "for single sources: $ \\gamma_S(t) = \\int_0^t p_s(t') dt'$ \\\n",
    "for background: $ \\gamma_B(t) = \\int_0^t p_B(t') dt'$"
   ]
  },
  {
   "attachments": {},
   "cell_type": "markdown",
   "metadata": {},
   "source": [
    "# Variables\n",
    "* $\\alpha$ = false alarm probability\n",
    "* $\\gamma$ = detection probability\n",
    "* $S_T$ = threshold signal"
   ]
  },
  {
   "attachments": {},
   "cell_type": "markdown",
   "metadata": {},
   "source": [
    "Background Detection Probability\n",
    "$$ \\gamma_{bg} = \\frac{1}{2} \\mathrm{erfc} \\big[ \\frac{\\sqrt{2} \\sigma_0 \\mathrm{erfc}^{-1}(2\\alpha_0) - \\mu_1}{\\sqrt{2} \\sigma_1}\\big]"
   ]
  },
  {
   "cell_type": "code",
   "execution_count": 52,
   "metadata": {},
   "outputs": [],
   "source": [
    "ALPHA0 = 0.001 # false alarm probability (FAP)\n",
    "GAMMA0 = 0.95 # detection probability\n",
    "\n",
    "def bg_detection_probability(sigma_0, sigma_1, mu_1, alpha_0):\n",
    "    \"\"\" Calculate the background detection probability, gamma_bg.\n",
    "\n",
    "    Parameters\n",
    "    ----------\n",
    "    sigma_0 : scalar\n",
    "        Standard deviation of stochastic noise processes.\n",
    "    sigma_1 : scalar\n",
    "        Standard deviation of GWB PDF.\n",
    "    mu_1 : scalar\n",
    "        Mean of GWB PDF.\n",
    "    alpha_0 : scalar\n",
    "        False alarm probability max.\n",
    "\n",
    "    Returns\n",
    "    -------\n",
    "    gamma_bg : scalar\n",
    "        Background detection probability.\n",
    "\n",
    "        \n",
    "    Follows Rosado et al. 2015 Eq. (15)\n",
    "    \"\"\"\n",
    "    temp = ((np.sqrt(2) * sigma_0 * sp.erfinv(2*alpha_0) - mu_1)\n",
    "            /(np.sqrt(2) * sigma_1))\n",
    "    gamma_bg = .5 * sp.erf(temp)\n",
    "    return gamma_bg"
   ]
  },
  {
   "attachments": {},
   "cell_type": "markdown",
   "metadata": {},
   "source": [
    "A-statistic: \n",
    "$$ S/N_A = \\mu_1/\\sigma_0$$\n",
    "B-statistic:\n",
    "$$ S/N_B = \\mu_1 / \\sigma_1 $$"
   ]
  },
  {
   "cell_type": "code",
   "execution_count": 158,
   "metadata": {},
   "outputs": [],
   "source": [
    "def SNR_A(mu_1, sigma_0):\n",
    "    \"\"\" Calculate the SNR for the A-statistic S/N_A \n",
    "    \n",
    "    Parameters\n",
    "    ----------\n",
    "    mu_1 : scalar\n",
    "        Mean of GWB PDF.\n",
    "    sigma_0 : scalar\n",
    "        Standard deviation of noise processes.\n",
    "\n",
    "    Returns\n",
    "    -------\n",
    "    SNR_A : scalar\n",
    "        Signal to noise ratio for the A-statistic.\n",
    "    \"\"\"\n",
    "    return mu_1/sigma_0\n",
    "\n",
    "def SNR_B(mu_1, sigma_1):\n",
    "    \"\"\" Calculate the SNR for the B-statistic S/N_B.\n",
    "\n",
    "    Parameters\n",
    "    ----------\n",
    "    mu_1 : scalar\n",
    "        Mean of GWB PDF.\n",
    "    sigma_1 : scalar\n",
    "        Standard deviation of the GWB PDf.\n",
    "\n",
    "    Returns\n",
    "    -------\n",
    "    SNR_B : scalar\n",
    "        Signal to noise ratio for the B-statistic.\n",
    "    \"\"\"\n",
    "    return mu_1/sigma_1"
   ]
  },
  {
   "attachments": {},
   "cell_type": "markdown",
   "metadata": {},
   "source": [
    "Threshold signal to noise to have FAP $\\alpha <\\alpha_0$ and detection probability $\\gamma > \\gamma_0$\n",
    "\n",
    "$$ \\mathrm{S/N^T_A} = \\sqrt{2} \\big[ \\mathrm{erfc}^{-1}(2\\alpha_0) - \\frac{\\sigma_1}{\\sigma_0}\\mathrm{erfc}^{-1}(2 \\gamma_0) \\big] $$\n",
    "\n",
    "$$\\mathrm{S/N^T_B} = \\sqrt{2} \\big[ \\frac{\\sigma_0}{\\sigma_1} \\mathrm{erfc}^{-1}(2\\alpha_0) - \\mathrm{erfc}^{-1}(2 \\gamma_0) \\big] $$\n",
    "\n",
    "$$ \\mathrm{S/N^T} \\approx \\sqrt{2} \\big[ \\mathrm{erfc}^{-1}(2\\alpha_0) - \\mathrm{erfc}^{-1}(2 \\gamma_0) \\big] $$"
   ]
  },
  {
   "cell_type": "code",
   "execution_count": 54,
   "metadata": {},
   "outputs": [],
   "source": [
    "def SNR_A_thresh(sigma_0, sigma_1, alpha_0, gamma_0):\n",
    "    \"\"\" Calculate the threshold SNR for the A-statistic S/N^T_A \n",
    "    to have a FAP < alpha_0 and DP > gamma_0.\n",
    "    \n",
    "    Parameters\n",
    "    ----------\n",
    "    sigma_0 : scalar\n",
    "        Standard deviation of noise processes.\n",
    "    sigma_1 : scalar\n",
    "        Standard deviation of the GWB\n",
    "    alpha_0 : scalar\n",
    "        False alarm probability max.\n",
    "    gamma_0 : scalar\n",
    "        Detection probability min.\n",
    "\n",
    "    Returns\n",
    "    -------\n",
    "    SNT_A : scalar\n",
    "        Signal to noise ratio for the A-statistic.\n",
    "\n",
    "    Follows Rosado et al. 2015 Eq. (18)\n",
    "    \"\"\"\n",
    "    SNT_A = np.sqrt(2) * (sp.erfinv(2*alpha_0) \n",
    "                          - sigma_1/sigma_0 * sp.erfinv(2*gamma_0))\n",
    "    return SNT_A\n",
    "\n",
    "def SNR_B(sigma_0, sigma_1, alpha_0, gamma_0):\n",
    "    \"\"\" Calculate the threshold SNR for the B-statistic S/N^T_B\n",
    "    to have a FAP < alpha_0 and DP > gamma_0.\n",
    "    \n",
    "    Parameters\n",
    "    ----------\n",
    "    sigma_0 : scalar\n",
    "        Standard deviation of noise processes.\n",
    "    sigma_1 : scalar\n",
    "        Standard deviation of the GWB\n",
    "    alpha_0 : scalar\n",
    "        False alarm probability max.\n",
    "    gamma_0 : scalar\n",
    "        Detection probability min.\n",
    "\n",
    "    Returns\n",
    "    -------\n",
    "    SNT_B : scalar\n",
    "        Signal to noise ratio for the A-statistic.\n",
    "\n",
    "    Follows Rosado et al. 2015 Eq. (19)\n",
    "    \"\"\"\n",
    "    SNT_B = np.sqrt(2) * (sigma_0/sigma_1 * sp.erfinv(2*alpha_0) \n",
    "                          - sp.erfinv(2*gamma_0))\n",
    "    return SNT_B\n",
    "\n",
    "def SNR_approx_thresh(alpha_0, gamma_0):\n",
    "    \"\"\" Calculate the approximate threshold SNR S/N^T for FAP < alpha_0 and DP > gamma_0/\n",
    "    This approximates sigma_0 ~ sigma_1\n",
    "    \n",
    "    Parameters\n",
    "    ----------\n",
    "    alpha_0 : scalar\n",
    "        False alarm probability maximum.\n",
    "    gamma_0 : scalar\n",
    "        Detection probability minimum.\n",
    "\n",
    "    Returns\n",
    "    -------\n",
    "    SNT : scalar\n",
    "        Signal to noise ratio threshold, approximated.\n",
    "\n",
    "    Follows Rosado et al. 2015 Eq. (17)\n",
    "    \"\"\"\n",
    "    SNT = np.sqrt(2) * (sp.erfinv(2*alpha_0) - sp.erfinv(2*gamma_0))"
   ]
  },
  {
   "attachments": {},
   "cell_type": "markdown",
   "metadata": {},
   "source": [
    "Overlap Reduction Function\n",
    "$$ \\Gamma_{ij} = \\frac{3}{2} \\gamma_{ij} \\ln (\\gamma_{ij}) - \\frac{1}{4} \\gamma_{ij} + \\frac{1}{2} + \\frac{1}{2}\\delta_{ij} $$\n",
    "$$ \\gamma_{ij} = [1-\\cos (\\theta_{ij})]/2$$"
   ]
  },
  {
   "cell_type": "code",
   "execution_count": 114,
   "metadata": {},
   "outputs": [],
   "source": [
    "def gammaij_from_thetaij(theta_ij):\n",
    "    \"\"\" Calcualte gamma_ij for two pulsars of relative angle theta_ij.\n",
    "    \n",
    "    Parameters\n",
    "    ----------\n",
    "    theta_ij : scalar \n",
    "        Relative angular position between the ith and jth pulsars.\n",
    "\n",
    "    Returns\n",
    "    -------\n",
    "    gamma_ij : scalar \n",
    "        [1 - cos(theta_ij)]/2\n",
    "\n",
    "    \"\"\"\n",
    "    return (1-np.cos(theta_ij))/2\n",
    "\n",
    "def thetaij_from_thetai_thetaj(theta_i, theta_j):\n",
    "    \"\"\" Calcualte relative angle between two pulsars with angular positions theta_i and theta_j.\n",
    "    \n",
    "    Parameters\n",
    "    ----------\n",
    "    theta_i : scalar \n",
    "        Angular position in the sky of the ith pulsar.\n",
    "    theta_j : scalar \n",
    "        Angular position in the sky of the jth pulsar.\n",
    "\n",
    "    Returns\n",
    "    -------\n",
    "    theta_ij : scalar \n",
    "        Relative angular position between the ith and jth pulsar.\n",
    "\n",
    "    \"\"\"\n",
    "    return np.abs(theta_i - theta_j)\n",
    "\n",
    "def dirac_delta(i,j):\n",
    "    \"\"\" Calculate the dirac delta function of i,j.\n",
    "    Parameters\n",
    "    ----------\n",
    "    i : int\n",
    "    j : int\n",
    "\n",
    "    Returns\n",
    "    ------- \n",
    "    dirac_ij : int\n",
    "        Dirac delta function of i and j\n",
    "\n",
    "    \"\"\"\n",
    "    if(i==j): return 1\n",
    "    else: return 0\n",
    "\n",
    "def overlap_from_gammaij_diracij(gamma_ij, dirac_ij):\n",
    "    \"\"\" Calculate Gamma_i,j as a function of gamma_i,j and diracdelta_i,j\n",
    "\n",
    "    Parameters\n",
    "    ----------\n",
    "    gamma_ij : scalar \n",
    "        (1-cos(theta_ij))/2\n",
    "    dirac_ij : scalar \n",
    "        Dirac delta function of i and j.\n",
    "\n",
    "    Returns\n",
    "    -------\n",
    "    Gamma_ij : scalar \n",
    "        Overlap reduction function of the ith and jth pulsars.\n",
    "\n",
    "    Follows Rosado et al. 2015 Eq. (24)\n",
    "    \"\"\"\n",
    "    return (3/2 * gamma_ij *np.log(gamma_ij)\n",
    "            - 1/4 * gamma_ij\n",
    "            + 1/2 + dirac_ij)\n",
    "\n",
    "def overlap_reduction_function(theta_i, theta_j, i, j):\n",
    "    \"\"\" Calculate the overlap reduction function Gamma_i,j as a function of theta_i, theta_j, i, and j.\n",
    "    \n",
    "    Parameters\n",
    "    ----------\n",
    "    theta_i : scalar\n",
    "        Angular position of the ith pulsar.\n",
    "    theta_j : scalar\n",
    "        Angular position of the jth pulsar.\n",
    "    i : int\n",
    "        index of the ith pulsar\n",
    "    j : int\n",
    "        index of the jth pulsar\n",
    "\n",
    "    Returns\n",
    "    -------\n",
    "    Gamma_ij : scalar\n",
    "        The overlap reduction function of the ith and jth pulsars.\n",
    "    \"\"\"\n",
    "    dirac_ij = dirac_delta(i, j)\n",
    "    theta_ij = thetaij_from_thetai_thetaj(theta_i, theta_j)\n",
    "    gamma_ij = gammaij_from_thetaij(theta_ij)\n",
    "    # print('dirac_ij:', dirac_ij, '\\ntheta_ij', theta_ij, '\\ngamma_ij', gamma_ij)\n",
    "    return overlap_from_gammaij_diracij(gamma_ij, dirac_ij)"
   ]
  },
  {
   "cell_type": "code",
   "execution_count": 178,
   "metadata": {},
   "outputs": [
    {
     "name": "stdout",
     "output_type": "stream",
     "text": [
      "[0.         0.52359878 3.14159265 3.66519143]\n",
      "[[       nan 0.21162783 0.25       0.16970912]\n",
      " [0.21162783        nan 0.16970912 0.25      ]\n",
      " [0.25       0.16970912        nan 0.21162783]\n",
      " [0.16970912 0.25       0.21162783        nan]]\n"
     ]
    }
   ],
   "source": [
    "# better to do with ndars, construct Gamma_ij as 2darray\n",
    "THETAS = np.array([0, np.pi/6, np.pi, 7/6*np.pi]) # (P,) 1Darray of scalars, angular sky position of each pulsar\n",
    "print(THETAS)\n",
    "\n",
    "num = len(THETAS) # number of pulsars, P\n",
    "overlap_ij = np.zeros((num, num)) # (P,P) 2Darray of scalars, Overlap reduction function between all puolsar\n",
    "for ii in range(num):\n",
    "    for jj in range(num):\n",
    "        overlap_ij[ii,jj] = overlap_reduction_function(THETAS[ii], THETAS[jj], ii, jj)\n",
    "print(overlap_ij)"
   ]
  },
  {
   "attachments": {},
   "cell_type": "markdown",
   "metadata": {},
   "source": [
    "$S_h$, the one-sided power spectral density of the GW signal in the timing residuals\n",
    "$$ S_h = \\frac{h_c^2}{12 \\pi ^2 f_k^3}$$\n",
    "\n",
    "$S_{h0}$, the expected one-sided power spectral density of the GW signal\n",
    "$$ S_{h0} = \\frac{\\mathcal{A}^2 \\mathrm{yr}^{-4/3}}{12\\pi^2} f^{-13/3} $$\n",
    "where $\\mathcal{A}$ is the fiducial characteristic strain amplitude such that \n",
    "$$h_c = \\mathcal{A} [f/\\mathrm{yr}^{-1}]^{-2/3}$$\n",
    "Rosado et al. approximate as\n",
    "$$ S_{h0} \\approx S_h = \\frac{h_c^2}{12 \\pi ^2 f_k^3}$$"
   ]
  },
  {
   "cell_type": "code",
   "execution_count": 56,
   "metadata": {},
   "outputs": [],
   "source": [
    "def power_spectral_density(h_c, f_k):\n",
    "    \"\"\" Calculate the one-sided power spectral density P_i of the ith pulsar at the kth frequency.\n",
    "\n",
    "    Parameters\n",
    "    ----------\n",
    "    h_c : scalar\n",
    "        Characteristic strain of the ith pulsar.\n",
    "    f_k : scalar\n",
    "        Frequency.\n",
    "    \n",
    "    Returns\n",
    "    -------\n",
    "    S_h : scalar\n",
    "        Power spectral density of the ith pulsar at the kth frequency.\n",
    "        Equivalently S_h0, using Rosado+2015's approximation.\n",
    "\n",
    "    Follows Rosado et al. 2015 Eq. (25)\n",
    "    \"\"\"\n",
    "    S_h =  h_c**3 / (12 * np.pi**2 * f_k**3)\n",
    "    return S_h"
   ]
  },
  {
   "attachments": {},
   "cell_type": "markdown",
   "metadata": {},
   "source": [
    "Noise spectral density $S_i$ \n",
    "$$ S_i = 2 \\Delta t \\sigma_i^2 + S_{h,\\mathrm{rest}}$$\n",
    "where $2 \\Delta t \\sigma_i ^2$ is the contribution from the pulsar's white noise and $S_{h,\\mathrm{rest}}$ is from all the other SBHBs except for the max, in our single source detection."
   ]
  },
  {
   "cell_type": "code",
   "execution_count": 129,
   "metadata": {},
   "outputs": [],
   "source": [
    "def white_noise(delta_t, sigma_i):\n",
    "    \"\"\" Calculate the white noise for a given pulsar 2 /Delta t sigma_i^2\n",
    "    \n",
    "    Parameters\n",
    "    ----------\n",
    "    delta_t : scalar\n",
    "        Detection cadence, in seconds.\n",
    "    sigma_i : scalar\n",
    "        Error/stdev/variance? for the ith pulsar, in seconds.\n",
    "\n",
    "    Returns\n",
    "    -------\n",
    "    P_i : scalar\n",
    "        Noise spectral density for the ith pulsar, for bg detection.\n",
    "        For single source detections, the noise spectral density S_i must also \n",
    "        include red noise from all but the loudest single sources, S_h,rest.\n",
    "\n",
    "    \"\"\"\n",
    "    P_i = 2 * delta_t * sigma_i**2\n",
    "    return P_i"
   ]
  },
  {
   "cell_type": "code",
   "execution_count": 177,
   "metadata": {},
   "outputs": [
    {
     "name": "stdout",
     "output_type": "stream",
     "text": [
      "0.2 [3.16880878e-13 3.16880878e-13 3.16880878e-13 3.16880878e-13] in years\n",
      "6311520.0 [1.e-05 1.e-05 1.e-05 1.e-05] in seconds\n",
      "P_i = [0.0012623 0.0012623 0.0012623 0.0012623] s^3 = [4.01653964e-26 4.01653964e-26 4.01653964e-26 4.01653964e-26]  yrs^3\n"
     ]
    }
   ],
   "source": [
    "SIGMAS = np.linspace(1e-5, 1e-5,4) # (P,) 1Darray of scalars, sigma_i of each pulsar\n",
    "print(cad5/YR, SIGMAS/YR, 'in years') #  cad and SIGMA are in seconds\n",
    "print(cad5, SIGMAS, 'in seconds') #  cad and SIGMA are in seconds\n",
    "\n",
    "noise_i = white_noise(cad5, SIGMAS) \n",
    "print('P_i =', noise_i, 's^3 =', noise_i/YR**3,' yrs^3')"
   ]
  },
  {
   "attachments": {},
   "cell_type": "markdown",
   "metadata": {},
   "source": [
    "mu_1, sigma_0, sigma_1 when we maximize the A statistic $\\mu/\\sigma_0 = \\langle X \\rangle / \\sqrt{\\mathrm{var}(X)_0}$\n",
    "\n",
    "$$ \\mu_1 = 2 \\sum_k \\sum_{ij} \\frac{\\Gamma_{ij}^2 S_h S_{h0}}{P_i P_j}$$"
   ]
  },
  {
   "attachments": {},
   "cell_type": "markdown",
   "metadata": {},
   "source": [
    "### B-statistic\n",
    "\n",
    "$$\\mu_1 = 1\\sum_f \\sum_{ij} \\frac{\\Gamma_{ij}^2 S_h S_{h0}}{[P_i + S_{h0}] [P_j + S_{h0}] + \\Gamma_{ij}^2 S_{h0}^2} $$\n",
    "\n",
    "$$ \\sigma_0^2 = 2\\sum_f \\sum_{ij} \\frac{\\Gamma_{ij}^2 S_{h0}^2 P_i P_j  }{\\big[ [P_i + S_{h0}] [P_j +S_{h0}] + \\Gamma_{ij}^2 S_{h0}^2  \\big]^2  } $$\n",
    "\n",
    "$$ \\sigma_1^2 = 2 \\sum_f \\sum_{ij} \\frac{\\Gamma_{ij}^2 S_{h0}^2 \\big[ [P_i + S_h] [P_j + S_h] + \\Gamma_{ij}^2 S_h^2   \\big]  }{\\big[[P_i + S_{h0}][P_j + S_{h0}] + \\Gamma_{ij}^2 S_{h0}^2  \\big]^2  } $$\n",
    "\n",
    "\n",
    "* $S_h(f_k)$ := actual value of the spectral density in the background\n",
    "$$ S_h = \\frac{h_c^2}{12 \\pi ^2 f_k^3}$$\n",
    "* $S_{h0}(f_k)$ := value of the spectral density used to construct the statistic\n",
    "$$ S_{h0} \\approx S_h$$\n",
    "* $P_i$ = $S_i$ := noise spectral density\n",
    "$$ S_i = 2 \\Delta t \\sigma_i^2 + S_{h,\\mathrm{rest}}$$\n",
    "* $2 \\Delta t \\sigma_i^2$ := the contribution from the pulsar's white noise\n",
    "* $S_{h,\\mathrm{rest}}$ := an additional red noise term produced by all other SBHBs at the same frequency bin\n",
    "$$ S_{h,\\mathrm{rest}} = \\frac{h_{c,\\mathrm{rest}}^2}{f} \\frac{1}{12 \\pi^2 f^2}$$\n"
   ]
  },
  {
   "cell_type": "code",
   "execution_count": 142,
   "metadata": {},
   "outputs": [],
   "source": [
    "def spectral_density(hc_bg, freqs):\n",
    "    \"\"\" Calculate the spectral density S_h(f_k) ~ S_h0(f_k) at the kth frequency\n",
    "\n",
    "    Parameters\n",
    "    ----------\n",
    "    hc_bg : (F,) 1D array of scalars\n",
    "        Characteristic strain of the background at each frequency. \n",
    "    freqs : (F,) 1Darray of scalars\n",
    "        Frequency bin centers corresponding to each strain\n",
    "\n",
    "    Returns\n",
    "    -------\n",
    "    S_h : (F,) 1Darray of scalars\n",
    "        Actual (S_h) or ~construction (S_h0) value of the background spectral density. \n",
    "        In units of [freqs]^-3\n",
    "    \"\"\"\n",
    "\n",
    "    S_h = hc_bg**2 / (12 * np.pi**2 * freqs**3)\n",
    "    return S_h"
   ]
  },
  {
   "cell_type": "code",
   "execution_count": 179,
   "metadata": {},
   "outputs": [
    {
     "name": "stdout",
     "output_type": "stream",
     "text": [
      "[3.16880878e-09 6.33761756e-09 9.50642634e-09 1.26752351e-08\n",
      " 1.58440439e-08 1.90128527e-08 2.21816615e-08 2.53504703e-08\n",
      " 2.85192790e-08 3.16880878e-08 3.48568966e-08 3.80257054e-08\n",
      " 4.11945142e-08 4.43633229e-08 4.75321317e-08 5.07009405e-08\n",
      " 5.38697493e-08 5.70385581e-08 6.02073668e-08 6.33761756e-08\n",
      " 6.65449844e-08 6.97137932e-08 7.28826020e-08 7.60514108e-08\n",
      " 7.92202195e-08]\n",
      "[6.36090712e-15 3.59703348e-15 2.52959798e-15 2.13075888e-15\n",
      " 1.92784403e-15 1.32045336e-15 1.30306950e-15 9.51058084e-16\n",
      " 8.53420312e-16 7.71624708e-16 9.04182344e-16 7.29125152e-16\n",
      " 5.06651582e-16 6.11270394e-16 4.36886075e-16 4.11679200e-16\n",
      " 5.10948352e-16 2.75174212e-16 4.67156403e-16 5.11281363e-16\n",
      " 2.62670664e-16 2.83298532e-16 4.64479117e-16 3.07575988e-16\n",
      " 3.59109729e-16]\n",
      "25\n"
     ]
    }
   ],
   "source": [
    "print(fobs[:])\n",
    "print(hc_bg[:,0])\n",
    "print(len(fobs))\n"
   ]
  },
  {
   "cell_type": "code",
   "execution_count": 180,
   "metadata": {},
   "outputs": [
    {
     "name": "stdout",
     "output_type": "stream",
     "text": [
      "[1.23767625e-15 7.90477753e-20 2.48719864e-22 6.67050393e-24\n",
      " 4.91127287e-25 9.82810693e-27 2.26681382e-27 1.03020842e-28\n",
      " 1.86332236e-29 3.94393259e-30 4.33006780e-30 5.44094074e-31\n",
      " 2.98029309e-32 4.71781144e-32 3.37971913e-33 1.32362949e-33\n",
      " 2.80358967e-33 4.08965406e-35 6.01844308e-34 6.51902342e-34\n",
      " 7.72660137e-36 8.00118931e-36 1.04169209e-34 5.98833542e-36\n",
      " 1.05049908e-35]\n",
      "2.651119670350339e-10\n"
     ]
    }
   ],
   "source": [
    "Sh_bg = spectral_density(hc_bg[:,0], fobs) # spectral density of bg, using 0th realization\n",
    "Sh0_bg = Sh_bg # approximation used in Rosado et al. 2015\n",
    "print(Sh_bg**3)\n",
    "print(Sh_bg[8])"
   ]
  },
  {
   "cell_type": "code",
   "execution_count": 70,
   "metadata": {},
   "outputs": [],
   "source": [
    "def mean1_Bstatistic_loops(noise_i, overlap_ij, Sh_bg, Sh0_bg):\n",
    "    \"\"\" Calculate mu_1 for the background, by summing over all pulsars and frequencies.\n",
    "    Assuming the B statistic, which maximizes S/N_B = mu_1/sigma_1\n",
    "    \n",
    "    Parameters\n",
    "    ----------\n",
    "    noise_i : (P,) 1darray of scalars\n",
    "        Noise spectral density of each pulsar.\n",
    "    overlap_ij : (P,P,) 2Darray of scalars\n",
    "        Overlap reduction function.\n",
    "    Sh_bg : (F,) 1Darray of scalars\n",
    "        Spectral density in the background.\n",
    "    Sh0_bg : (F,) 1Darray of scalars\n",
    "        Value of spectral density used to construct the statistic.\n",
    "\n",
    "    Returns\n",
    "    -------\n",
    "    mu_1B : \n",
    "        Expected value for the B statistic\n",
    "    \"\"\"\n",
    "    mu_1B = 0\n",
    "    for ii in range(len(noise_i)):\n",
    "        P_i = noise_i[ii]\n",
    "        for jj in range(len(noise_i)): # should ii and jj repeat, or just do for jj < ii?\n",
    "            if(jj>ii):\n",
    "                P_j = noise_i[jj]\n",
    "                Gamma_ij = overlap_ij[ii,jj]\n",
    "                for kk in range(len(Sh_bg)):\n",
    "                    Sh_k = Sh_bg[kk]\n",
    "                    Sh0_k = Sh0_bg[kk]\n",
    "                    mu_1B += ((Gamma_ij**2 * Sh_k * Sh0_k)\n",
    "                            /((P_i+Sh0_k) * (P_j+Sh0_k) \n",
    "                                + Gamma_ij**2 * Sh0_k**2))\n",
    "    mu_1B *= 2\n",
    "    return mu_1B\n",
    "\n",
    "def mean1_Bstatistic_ndars(noise_i, overlap_ij, Sh_bg, Sh0_bg):\n",
    "    \"\"\" Calculate mu_1 for the background, by summing over all pulsars and frequencies.\n",
    "    Assuming the B statistic, which maximizes S/N_B = mu_1/sigma_1\n",
    "    This doesn't work, it extraneously includes j<=1\n",
    "    \n",
    "    Parameters\n",
    "    ----------\n",
    "    noise_i : (P,) 1darray of scalars\n",
    "        Noise spectral density of each pulsar.\n",
    "    overlap_ij : (P,P,) 2Darray of scalars\n",
    "        Overlap reduction function.\n",
    "    Sh_bg : (F,) 1Darray of scalars\n",
    "        Spectral density in the background.\n",
    "    Sh0_bg : (F,) 1Darray of scalars\n",
    "        Value of spectral density used to construct the statistic.\n",
    "\n",
    "    Returns\n",
    "    -------\n",
    "    mu_1B : \n",
    "        Expected value for the B statistic\n",
    "    \"\"\"\n",
    "    \n",
    "    # to get sum term in shape (P,P,F) for ii,jj,kk we want:\n",
    "    # Gamma_ij in shape (P,P,1)\n",
    "    # Sh0 and Sh in shape (1,1,F)\n",
    "    # P_i in shape (P,1,1)\n",
    "    # P_j in shape (1,P,1)\n",
    "\n",
    "    numer = (overlap_ij[:,:,np.newaxis] **2 \n",
    "            * Sh_bg[np.newaxis, np.newaxis, :]\n",
    "            * Sh0_bg[np.newaxis, np.newaxis, :])\n",
    "    denom = ((noise_i[:, np.newaxis, np.newaxis] + Sh0_bg[np.newaxis,np.newaxis,:])\n",
    "               * (noise_i[np.newaxis, :, np.newaxis] + Sh0_bg[np.newaxis,np.newaxis,:])\n",
    "               + overlap_ij[:,:,np.newaxis]**2 * Sh0_bg[np.newaxis, np.newaxis, :]**2)\n",
    "    \n",
    "    # change the sum part\n",
    "    sum =0\n",
    "    for ii in range(len(numer)):\n",
    "        for jj in range(len(numer[0])):\n",
    "            if(jj>ii):\n",
    "                sum += np.sum(numer[ii,jj,:]/denom[ii,jj,:])\n",
    "    mu_1B = 2*sum\n",
    "    return mu_1B\n"
   ]
  },
  {
   "cell_type": "code",
   "execution_count": null,
   "metadata": {},
   "outputs": [],
   "source": [
    "mu_1B_loops = mean1_Bstatistic_loops(noise_i, overlap_ij, Sh_bg, Sh0_bg)\n",
    "mu_1B_ndars = mean1_Bstatistic_ndars(noise_i, overlap_ij, Sh_bg, Sh0_bg)\n"
   ]
  },
  {
   "attachments": {},
   "cell_type": "markdown",
   "metadata": {},
   "source": [
    "# Plot Gamma function\n",
    "\n",
    "Larger $\\Gamma_{ij}$ means we expect more overlap right, so what does negative $\\Gamma_{ij}$ mean?\n",
    "\n",
    "Largest overlap at $\\theta_i \\sim \\theta_j$, next largest at $\\theta_i \\sim \\theta_j + \\pi$ e.g. $\\theta_{ij} \\sim 180\\degree$, smallest at $\\theta_{ij} \\sim 90\\degree$ perpendicular in the sky"
   ]
  },
  {
   "cell_type": "code",
   "execution_count": 110,
   "metadata": {},
   "outputs": [
    {
     "data": {
      "text/plain": [
       "Text(0.5, 1.0, '$\\\\gamma_{ij}(\\\\theta_{ij}) = [1-\\\\cos{(\\\\theta_{ij})}]/2$')"
      ]
     },
     "execution_count": 110,
     "metadata": {},
     "output_type": "execute_result"
    },
    {
     "data": {
      "image/png": "[encoded data removed]",
      "text/plain": [
       "<Figure size 640x480 with 1 Axes>"
      ]
     },
     "metadata": {},
     "output_type": "display_data"
    }
   ],
   "source": [
    "theta_arr = np.linspace(0,2*np.pi,100)\n",
    "gamma_arr = (1-np.cos(theta_arr))/2\n",
    "plt.plot(theta_arr/np.pi, gamma_arr)\n",
    "plt.xlabel(r'$\\theta_{ij} / \\pi$')\n",
    "plt.ylabel(r'$\\gamma_{ij}$')\n",
    "plt.title(r'$\\gamma_{ij}(\\theta_{ij}) = [1-\\cos{(\\theta_{ij})}]/2$')"
   ]
  },
  {
   "cell_type": "code",
   "execution_count": 109,
   "metadata": {},
   "outputs": [
    {
     "data": {
      "text/plain": [
       "Text(0.5, 1.0, '$\\\\Gamma_{ij}(\\\\theta_{ij}) = \\\\frac{3}{2}\\\\gamma_{ij} \\\\ln (\\\\gamma_{ij}) - \\\\frac{1}{4}\\\\gamma_{ij} + \\\\frac{1}{2}$')"
      ]
     },
     "execution_count": 109,
     "metadata": {},
     "output_type": "execute_result"
    },
    {
     "data": {
      "image/png": "[encoded data removed]",
      "text/plain": [
       "<Figure size 640x480 with 1 Axes>"
      ]
     },
     "metadata": {},
     "output_type": "display_data"
    }
   ],
   "source": [
    "Gamma_arr = 3/2*gamma_arr *np.log(gamma_arr) - 1/4* gamma_arr + 1/2\n",
    "plt.plot(theta_arr/np.pi, Gamma_arr)\n",
    "plt.xlabel(r'$\\theta_{ij} /\\pi$')\n",
    "plt.ylabel('$\\Gamma_{ij}$')\n",
    "plt.title(r'$\\Gamma_{ij}(\\theta_{ij}) = \\frac{3}{2}\\gamma_{ij} \\ln (\\gamma_{ij}) - \\frac{1}{4}\\gamma_{ij} + \\frac{1}{2}$')"
   ]
  },
  {
   "cell_type": "code",
   "execution_count": null,
   "metadata": {},
   "outputs": [],
   "source": []
  }
 ],
 "metadata": {
  "kernelspec": {
   "display_name": "holo310",
   "language": "python",
   "name": "python3"
  },
  "language_info": {
   "codemirror_mode": {
    "name": "ipython",
    "version": 3
   },
   "file_extension": ".py",
   "mimetype": "text/x-python",
   "name": "python",
   "nbconvert_exporter": "python",
   "pygments_lexer": "ipython3",
   "version": "3.10.9"
  },
  "orig_nbformat": 4
 },
 "nbformat": 4,
 "nbformat_minor": 2
}
