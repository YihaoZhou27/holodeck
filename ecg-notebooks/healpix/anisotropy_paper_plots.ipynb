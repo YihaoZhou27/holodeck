{
 "cells": [
  {
   "cell_type": "code",
   "execution_count": null,
   "metadata": {},
   "outputs": [],
   "source": [
    "import holodeck as holo\n",
    "from holodeck import single_sources, utils, plot, detstats, anisotropy\n",
    "from holodeck.constants import YR\n",
    "\n",
    "import numpy as np\n",
    "import healpy as hp\n",
    "import matplotlib.pyplot as plt\n",
    "import matplotlib.cm as cm\n",
    "import h5py\n",
    "\n"
   ]
  },
  {
   "attachments": {},
   "cell_type": "markdown",
   "metadata": {},
   "source": [
    "# Set Up\n",
    "\n",
    "## Read in library\n",
    "\n",
    "ss16 has 10 loudest, definitely will replace this with a better library"
   ]
  },
  {
   "cell_type": "code",
   "execution_count": null,
   "metadata": {},
   "outputs": [],
   "source": [
    "sspath = '/Users/emigardiner/GWs/holodeck/output/2023-05-16-mbp-ss19_uniform05A_n1000_r50_d20_f30_l2000_p0/'\n",
    "hdfname = sspath+'ss_lib.hdf5'\n",
    "ssfile = h5py.File(hdfname, 'r')\n",
    "print(list(ssfile.keys()))\n",
    "hc_ss = ssfile['hc_ss'][...]\n",
    "hc_bg = ssfile['hc_bg'][...]\n",
    "fobs = ssfile['fobs'][:]\n",
    "dfobs = ssfile['dfobs'][:]\n",
    "ssfile.close()\n",
    "\n",
    "shape = hc_ss.shape\n",
    "nsamps, nfreqs, nreals, nloudest = shape[0], shape[1], shape[2], shape[3]\n",
    "print('N,F,R,L =', nsamps, nfreqs, nreals, nloudest)\n"
   ]
  },
  {
   "attachments": {},
   "cell_type": "markdown",
   "metadata": {},
   "source": [
    "## Find Best Samples"
   ]
  },
  {
   "cell_type": "code",
   "execution_count": null,
   "metadata": {},
   "outputs": [],
   "source": [
    "hc_ref15_10yr = 11.2*10**-15 \n",
    "nsort, fidx, hc_tt, hc_ref15 = detstats.rank_samples(hc_ss, hc_bg, fobs, hc_ref=hc_ref15_10yr, ret_all=True)\n",
    "nbest = 100\n",
    "print(hc_ref15)\n"
   ]
  },
  {
   "attachments": {},
   "cell_type": "markdown",
   "metadata": {},
   "source": [
    "## Load/Calculate pixel strains and harmonic coefficients"
   ]
  },
  {
   "cell_type": "code",
   "execution_count": null,
   "metadata": {},
   "outputs": [],
   "source": [
    "npix = anisotropy.NPIX\n",
    "lmax = anisotropy.LMAX\n",
    "\n",
    "Cl_best = np.zeros((nbest, nfreqs, nreals, lmax+1 ))\n",
    "moll_hc_best = np.zeros((nbest, nfreqs, nreals, npix))\n",
    "for nn in range(nbest):\n",
    "    print('on nn=%d out of nbest=%d' % (nn,nbest))\n",
    "    moll_hc_best[nn,...], Cl_best[nn,...] = anisotropy.sph_harm_from_hc(hc_ss[nsort[nn]], \n",
    "                                            hc_bg[nsort[nn]])"
   ]
  },
  {
   "cell_type": "code",
   "execution_count": null,
   "metadata": {},
   "outputs": [],
   "source": [
    "# np.savez(sspath+'sph_harmonics.npz', nsort=nsort, fidx=fidx, hc_tt=hc_tt, hc_ref15=hc_ref15, ss_shape=shape,\n",
    "#          moll_hc_best=moll_hc_best, Cl_best=Cl_best, nside=nside, lmax=lmax, fobs=fobs)\n",
    "\n",
    "sph_harm_file = np.load(sspath+'sph_harmonics.npz')\n",
    "\n",
    "# load ss info\n",
    "shape = sph_harm_file['ss_shape']\n",
    "nsamps, nfreqs, nreals, nloudest = shape[0], shape[1], shape[2], shape[3]\n",
    "fobs = sph_harm_file['fobs']\n",
    "\n",
    "# load ranking info\n",
    "nsort = sph_harm_file['nsort']\n",
    "fidx = sph_harm_file['fidx']\n",
    "hc_tt = sph_harm_file['hc_tt']\n",
    "hc_ref15 = sph_harm_file['hc_ref15']\n",
    "\n",
    "# load harmonics info\n",
    "nside = sph_harm_file['nside']\n",
    "lmax  = sph_harm_file['lmax']\n",
    "moll_hc_best = sph_harm_file['moll_hc_best']\n",
    "Cl_best = sph_harm_file['Cl_best']\n",
    "nbest = len(moll_hc_best)\n",
    "\n",
    "sph_harm_file.close()"
   ]
  },
  {
   "attachments": {},
   "cell_type": "markdown",
   "metadata": {},
   "source": [
    "### Plot Results"
   ]
  },
  {
   "cell_type": "code",
   "execution_count": null,
   "metadata": {},
   "outputs": [],
   "source": [
    "lvals = np.arange(lmax+1)\n",
    "fobs_nHz = fobs*10**9\n",
    "fobs_yrs = fobs*YR\n",
    "ff_labels = (0,9,19,29,39)\n",
    "nshow = 10"
   ]
  },
  {
   "attachments": {},
   "cell_type": "markdown",
   "metadata": {},
   "source": [
    "#### Plot_Cl_medians"
   ]
  },
  {
   "cell_type": "code",
   "execution_count": null,
   "metadata": {},
   "outputs": [],
   "source": [
    "def plot_Cl_medians(lvals, Cl_best, lmax):\n",
    "    fig, ax = plot.figax(figsize=(8,5), xlabel='$\\ell$', ylabel='$C_\\ell$', xscale='linear')\n",
    "\n",
    "    xx = lvals # (l)\n",
    "    yy = Cl_best # (B,F,R,l)\n",
    "    yy = np.median(yy, axis=2) # (B,F,l)\n",
    "\n",
    "    colors = cm.rainbow(np.linspace(1, 0, nfreqs+1))\n",
    "    for ff in (np.arange(1,nfreqs,8)):\n",
    "        label= ('$f$ = %.2f nHz = %.2f /yr' % (fobs_nHz[ff], fobs_yrs[ff]))\n",
    "        ax.plot(xx, np.median(yy[:,ff,:], axis=0), color=colors[ff], label=label,\n",
    "                linewidth=3)\n",
    "        for pp in [50,]:\n",
    "            percs = pp/2\n",
    "            percs = [50-percs, 50+percs]\n",
    "            ax.fill_between(xx, *np.percentile(yy[:,ff,:], percs, axis=0), alpha=0.25, color=colors[ff])\n",
    "        for bb in range(nshow):\n",
    "            ax.plot(xx, yy[bb,ff,:], color=colors[ff], linestyle=':', alpha=0.75)\n",
    "\n",
    "    ax.legend()\n",
    "    ax.set_title('50%% confidence intervals of the %d best samples \\nusing realizations medians, lmax=%d'\n",
    "                % (nbest, lmax))\n",
    "    return fig\n",
    "\n",
    "fig = plot_Cl_medians(lvals, Cl_best, lmax)"
   ]
  },
  {
   "cell_type": "code",
   "execution_count": null,
   "metadata": {},
   "outputs": [],
   "source": [
    "fig, ax = plot.figax(figsize=(8,5), xlabel='$\\ell$', ylabel='$C_\\ell$', xscale='linear')\n",
    "\n",
    "xx = lvals # (l)\n",
    "yy = Cl_best # (B,F,R,l)\n",
    "yy = np.median(yy, axis=2) # (B,F,l)\n",
    "\n",
    "# choose a frequency \n",
    "ff = fidx # f=1/yr\n",
    "label= ('$f$ = %.2f nHz = %.2f /yr' % (fobs_nHz[ff], fobs_yrs[ff]))\n",
    "yy = yy[:,ff,:] # (B,l)\n",
    "\n",
    "colors = cm.rainbow(np.linspace(1, 0, 31))\n",
    "ax.plot(xx, np.median(yy, axis=0), color=colors[ff], label=label, lw='3')\n",
    "for pp in [50, 98]:\n",
    "    percs = pp/2\n",
    "    percs = [50-percs, 50+percs]\n",
    "    ax.fill_between(xx, *np.percentile(yy, percs, axis=0), alpha=0.25, color=colors[ff])\n",
    "\n",
    "colors = cm.rainbow(np.linspace(0,1,nshow))\n",
    "for bb in range(nshow):\n",
    "    ax.plot(xx, yy[bb,:], color=colors[bb], linestyle=':', alpha=0.75)\n",
    "ax.legend()\n",
    "ax.set_title('50%% and 98%% Confidence Intervals of the %d Best Samples, \\nusing median among realizations, lmax=%d' % (nbest, lmax))"
   ]
  },
  {
   "attachments": {},
   "cell_type": "markdown",
   "metadata": {},
   "source": [
    "#### plot_ClC0_medians"
   ]
  },
  {
   "cell_type": "code",
   "execution_count": null,
   "metadata": {},
   "outputs": [],
   "source": [
    "def plot_ClC0_medians(lvals, Cl_best, lmax):\n",
    "    fig, ax = plot.figax(figsize=(8,5), xlabel='$\\ell$', ylabel='$C_\\ell/C_0$', xscale='linear')\n",
    "\n",
    "    xx = lvals[1:] # (l)\n",
    "    yy = Cl_best[:,:,:,1:]/Cl_best[:,:,:,0,np.newaxis] # (B,F,R,l)\n",
    "    yy = np.median(yy, axis=2) # (F,R,l)\n",
    "\n",
    "    colors = cm.rainbow(np.linspace(1, 0, nfreqs+1))\n",
    "    for ff in (np.arange(0,nfreqs,8)):\n",
    "        label= ('$f$ = %.2f nHz = %.2f /yr' % (fobs_nHz[ff], fobs_yrs[ff]))\n",
    "        ax.plot(xx, np.median(yy[:,ff,:], axis=0), color=colors[ff], label=label,\n",
    "                linewidth=4)\n",
    "        for pp in [50,]:\n",
    "            percs = pp/2\n",
    "            percs = [50-percs, 50+percs]\n",
    "            ax.fill_between(xx, *np.percentile(yy[:,ff,:], percs, axis=0), alpha=0.25, color=colors[ff],\n",
    "                            linestyle='solid', linewidth=3)\n",
    "        for bb in range(nshow):\n",
    "            ax.plot(xx, yy[bb,ff,:], color=colors[ff], linestyle=':', alpha=0.75)\n",
    "\n",
    "    fig.legend(ncol=3, bbox_to_anchor=(-.01,-.27), \n",
    "            bbox_transform=ax.transAxes, loc='lower left')\n",
    "    ax.set_title('50%% confidence intervals of the %d best samples \\nusing realizations medians, lmax=%d'\n",
    "                % (nbest, lmax))\n",
    "    fig.tight_layout()\n",
    "    return fig\n",
    "\n",
    "fig = plot_ClC0_medians(lvals, Cl_best, lmax)"
   ]
  },
  {
   "cell_type": "code",
   "execution_count": null,
   "metadata": {},
   "outputs": [],
   "source": [
    "fig, ax = plot.figax(figsize=(8,5), xlabel='$\\ell$', ylabel='$C_\\ell/C_0$', xscale='linear')\n",
    "\n",
    "xx = lvals[1:] # (l)\n",
    "yy = Cl_best[:,:,:,1:]/Cl_best[:,:,:,0,np.newaxis] # (B,F,R,l)\n",
    "yy = np.median(yy, axis=2) # (B,F,l)\n",
    "\n",
    "# choose a frequency \n",
    "ff = fidx # f=1/yr\n",
    "label= ('$f$ = %.2f nHz = %.2f /yr' % (fobs_nHz[ff], fobs_yrs[ff]))\n",
    "yy = yy[:,ff,:] # (B,l)\n",
    "\n",
    "colors = cm.rainbow(np.linspace(1, 0, 31))\n",
    "ax.plot(xx, np.median(yy, axis=0), color=colors[ff], label=label, lw=4)\n",
    "for pp in [50, 98]:\n",
    "    percs = pp/2\n",
    "    percs = [50-percs, 50+percs]\n",
    "    ax.fill_between(xx, *np.percentile(yy, percs, axis=0), alpha=0.25, color=colors[ff])\n",
    "\n",
    "colors = cm.rainbow(np.linspace(0,1,nbest))\n",
    "for bb in range(nbest):\n",
    "    ax.plot(xx, yy[bb,:], color=colors[bb], linestyle=':', alpha=0.75)\n",
    "ax.legend()\n",
    "ax.set_title('50%% and 98%% Confidence Intervals of the %d Best Samples, \\nusing median among realizations' % (nbest))"
   ]
  },
  {
   "attachments": {},
   "cell_type": "markdown",
   "metadata": {},
   "source": [
    "Find medium, small, and large anistotropy runs among these 100 samples"
   ]
  },
  {
   "cell_type": "code",
   "execution_count": null,
   "metadata": {},
   "outputs": [],
   "source": []
  },
  {
   "attachments": {},
   "cell_type": "markdown",
   "metadata": {},
   "source": [
    "#### plot_Clg0_medians"
   ]
  },
  {
   "cell_type": "code",
   "execution_count": null,
   "metadata": {},
   "outputs": [],
   "source": [
    "def plot_Clg0_medians(Cl_best, lmax, nshow):\n",
    "    fig, ax = plot.figax(figsize=(8,5), xlabel=plot.LABEL_GW_FREQUENCY_YR, ylabel='$C_{\\ell>0}/C_0$')\n",
    "\n",
    "    xx = fobs_yrs\n",
    "    yy = np.sum(Cl_best[:,:,:,1:], axis=-1)/Cl_best[:,:,:,0,] # (B,F,R)\n",
    "    yy = np.median(yy, axis=-1) # (B,F) median over realizations\n",
    "\n",
    "    ax.plot(xx, np.median(yy, axis=0), color='k')\n",
    "    for pp in [50, 98]:\n",
    "        percs = pp/2\n",
    "        percs = [50-percs, 50+percs]\n",
    "        ax.fill_between(xx, *np.percentile(yy, percs, axis=0), alpha=0.2, color='k')\n",
    "\n",
    "    colors = cm.rainbow(np.linspace(1, 0, nshow))\n",
    "    for bb in range(nshow):\n",
    "        ax.plot(xx, yy[bb,:], color=colors[bb], linestyle=':', alpha=0.75,\n",
    "                linewidth=2)\n",
    "    ax.legend()\n",
    "    # ax.set_title('50%% and 98%% confidence intervals of the %d best samples \\nusing realizations medians, lmax=%d'\n",
    "    #             % (nbest, lmax))\n",
    "    return fig\n",
    "fig = plot_Clg0_medians(Cl_best, lmax, nshow=15)"
   ]
  },
  {
   "cell_type": "code",
   "execution_count": null,
   "metadata": {},
   "outputs": [],
   "source": [
    "def plot_Clg0_llp1_medians(Cl_best, lmax, nshow):\n",
    "    fig, ax = plot.figax(figsize=(8,5), xlabel=plot.LABEL_GW_FREQUENCY_YR, ylabel='$C_{\\ell>0}/C_0$')\n",
    "\n",
    "    xx = fobs_yrs\n",
    "    yy = np.sum(Cl_best[:,:,:,1:], axis=-1)/Cl_best[:,:,:,0,] # (B,F,R)\n",
    "    yy = np.median(yy, axis=-1) # (B,F) median over realizations\n",
    "\n",
    "    ax.plot(xx, np.median(yy, axis=0), color='k')\n",
    "    for pp in [50, 98]:\n",
    "        percs = pp/2\n",
    "        percs = [50-percs, 50+percs]\n",
    "        ax.fill_between(xx, *np.percentile(yy, percs, axis=0), alpha=0.2, color='k')\n",
    "\n",
    "    colors = cm.rainbow(np.linspace(1, 0, nshow))\n",
    "    for bb in range(nshow):\n",
    "        ax.plot(xx, yy[bb,:], color=colors[bb], linestyle=':', alpha=0.75,\n",
    "                linewidth=2)\n",
    "    ax.legend()\n",
    "    # ax.set_title('50%% and 98%% confidence intervals of the %d best samples \\nusing realizations medians, lmax=%d'\n",
    "    #             % (nbest, lmax))\n",
    "    return fig\n",
    "fig = plot_Clg0_llp1_medians(Cl_best, lmax, nshow=15)"
   ]
  }
 ],
 "metadata": {
  "kernelspec": {
   "display_name": "holo310",
   "language": "python",
   "name": "python3"
  },
  "language_info": {
   "codemirror_mode": {
    "name": "ipython",
    "version": 3
   },
   "file_extension": ".py",
   "mimetype": "text/x-python",
   "name": "python",
   "nbconvert_exporter": "python",
   "pygments_lexer": "ipython3",
   "version": "3.10.10"
  }
 },
 "nbformat": 4,
 "nbformat_minor": 2
}
