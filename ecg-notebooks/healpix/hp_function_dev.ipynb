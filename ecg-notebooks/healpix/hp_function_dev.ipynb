{
 "cells": [
  {
   "cell_type": "code",
   "execution_count": null,
   "metadata": {},
   "outputs": [],
   "source": [
    "import holodeck as holo\n",
    "from holodeck import single_sources, utils, plot, detstats\n",
    "from holodeck.constants import YR\n",
    "\n",
    "import numpy as np\n",
    "import healpy as hp\n",
    "import matplotlib.pyplot as plt\n",
    "import matplotlib.cm as cm\n",
    "\n",
    "\n",
    "import hasasia.sensitivity as hsen\n",
    "import hasasia.sim as hsim\n",
    "import hasasia.skymap as hsky"
   ]
  },
  {
   "attachments": {},
   "cell_type": "markdown",
   "metadata": {},
   "source": [
    "# Load Strain Library"
   ]
  },
  {
   "cell_type": "code",
   "execution_count": null,
   "metadata": {},
   "outputs": [],
   "source": [
    "# sam02 has r3, f40, 15 yr dur, 40 freqs, ca\n",
    "hcfile = np.load('/Users/emigardiner/GWs/holodeck/ecg-notebooks/detstats_functions/npz_arrays/sam02_r3_f40_l10000.npz')\n",
    "dur = hcfile['dur']\n",
    "cad = hcfile['cad']\n",
    "fobs = hcfile['fobs'][:]\n",
    "df_orb = hcfile['df_orb']\n",
    "hc_ss = hcfile['hc_ss']\n",
    "hc_bg = hcfile['hc_bg']\n",
    "hcfile.close()\n",
    "\n",
    "shape = hc_ss.shape\n",
    "F, R, L = shape[0], shape[1], shape[2]\n",
    "print('F, R, L =', F,R,L)\n",
    "sam_name = 'sam02: dur=%.2f yr, cad=%.4f yr, %d loudest' % (dur/YR, cad/YR, L)\n",
    "print(sam_name)"
   ]
  },
  {
   "attachments": {},
   "cell_type": "markdown",
   "metadata": {},
   "source": [
    "# Function to Build Skymap"
   ]
  },
  {
   "cell_type": "code",
   "execution_count": null,
   "metadata": {},
   "outputs": [],
   "source": [
    "NSIDE = 24\n",
    "print( \"Approximate resolution at NSIDE {} is {:.2} deg\".format(\n",
    "        NSIDE, hp.nside2resol(NSIDE, arcmin=True) / 60))\n",
    "def hc_map(hc_ss, hc_bg, nside=NSIDE):\n",
    "    \"\"\" Build mollview array of strains for a healpix map\n",
    "    \n",
    "    Parameters\n",
    "    ----------\n",
    "    hc_ss : (F,R,L) NDarray\n",
    "        Characteristic strain of single sources.\n",
    "    hc_bg : (F,R) NDarray\n",
    "        Characteristic strain of the background.\n",
    "    nside : integer\n",
    "        number of sides for healpix map.\n",
    "\n",
    "    Returns\n",
    "    -------\n",
    "    moll_hc : (NPIX,) 1Darray\n",
    "        Array of strain at every pixel for a mollview healpix map.\n",
    "    \n",
    "    NOTE: Could speed up the for-loops, but it's ok for now.\n",
    "    \"\"\"\n",
    "\n",
    "    npix = hp.nside2npix(nside)\n",
    "    nfreqs = len(hc_ss)\n",
    "    nreals = len(hc_ss[0])\n",
    "    nloudest = len(hc_ss[0,0])\n",
    "\n",
    "    # spread background evenly across pixels in moll_hc\n",
    "    moll_hc = np.ones((nfreqs,nreals,npix)) * hc_bg[:,:,np.newaxis]/np.sqrt(npix) # (frequency, realization, pixel)\n",
    "\n",
    "    # choose random pixels to place the single sources\n",
    "    pix_ss = np.random.randint(0, npix-1, size=nfreqs*nreals*nloudest).reshape(nfreqs, nreals, nloudest)\n",
    "    for ff in range(nfreqs):\n",
    "        for rr in range(nreals):\n",
    "            for ll in range(nloudest):\n",
    "                moll_hc[ff,rr,pix_ss[ff,rr,ll]] = np.sqrt(moll_hc[ff,rr,pix_ss[ff,rr,ll]]**2\n",
    "                                                          + hc_ss[ff,rr,ll]**2)\n",
    "                \n",
    "    return moll_hc\n",
    "\n"
   ]
  },
  {
   "cell_type": "code",
   "execution_count": null,
   "metadata": {},
   "outputs": [],
   "source": [
    "moll_hc = hc_map(hc_ss, hc_bg)\n",
    "print(moll_hc.shape)"
   ]
  },
  {
   "cell_type": "code",
   "execution_count": null,
   "metadata": {},
   "outputs": [],
   "source": [
    "# def plot_all_freqs(fobs, moll_hc, nrows, ncols, saveloc=None):\n",
    "#     \"\"\"\" Map all the freqs for a single realization\n",
    "#     Parameters\n",
    "#     ----------\n",
    "#     fobs : (F,) 1Darray\n",
    "#         Observed gw frequencies.\n",
    "#     moll_hc : (F,L) NDarray\n",
    "#         strains of each pixel for a single realization\n",
    "#     nrows * ncols should be >= nfreqs\n",
    "#     \"\"\"\n",
    "#     fig, axs = plt.subplots(nrows=nrows, ncols=ncols)\n",
    "#     for ff in range(F):\n",
    "#         title='$f$= %.2f yr$^{-1}$ (bin %d/%d)' % (fobs[ff]*YR, ff, F)\n",
    "#         row, col = int(ff/4), ff%4\n",
    "#         # print(row,col)\n",
    "#         plt.axes(axs[row,col])\n",
    "#         hp.mollview(moll_hc[ff], title=title, hold=True)\n",
    "\n",
    "#     fig.suptitle('%d Loudest Single Sources' % L, y=.895)\n",
    "#     fig.tight_layout()\n",
    "#     fig.set_size_inches(18, 30)\n",
    "#     if saveloc is not None:\n",
    "#         fig.savefig(saveloc+'all_freqs.png', dpi=1000)\n",
    "\n",
    "# # fig\n"
   ]
  },
  {
   "cell_type": "markdown",
   "metadata": {},
   "source": [
    "# Calculate Harmonics"
   ]
  },
  {
   "cell_type": "code",
   "execution_count": null,
   "metadata": {},
   "outputs": [],
   "source": [
    "LMAX = 8\n",
    "def sph_harm_from_map(moll_hc, lmax=LMAX):\n",
    "    \"\"\" Calculate spherical harmonics from strains at every pixel of \n",
    "    a healpix mollview map.\n",
    "    \n",
    "    Parameters\n",
    "    ----------\n",
    "    moll_hc : (NPIX,) 1Darray\n",
    "        Characteristic strain of each pixel of a healpix map.\n",
    "    lmax : int\n",
    "        Highest harmonic to calculate.\n",
    "\n",
    "    Returns\n",
    "    -------\n",
    "    Cl : (F,R,lmax+1) NDarray\n",
    "        Spherical harmonic coefficients \n",
    "        \n",
    "    \"\"\"\n",
    "    nfreqs = len(moll_hc)\n",
    "    nreals = len(moll_hc[0])\n",
    "\n",
    "    Cl = np.zeros((nfreqs, nreals, lmax+1))\n",
    "    for ff in range(nfreqs):\n",
    "        for rr in range(nreals):\n",
    "            Cl[ff,rr,:] = hp.anafast(moll_hc[ff,rr], lmax=lmax)\n",
    "\n",
    "    return Cl\n",
    "\n",
    "def sph_harm_from_hc(hc_ss, hc_bg, nside = NSIDE, lmax = LMAX):\n",
    "    \"\"\" Calculate spherical harmonics and strain at every pixel\n",
    "    of a healpix mollview map from single source and background char strains.\n",
    "\n",
    "    Parameters\n",
    "    ----------\n",
    "    hc_ss : (F,R,L) NDarray\n",
    "        Characteristic strain of single sources.\n",
    "    hc_bg : (F,R) NDarray\n",
    "        Characteristic strain of the background.\n",
    "    nside : integer\n",
    "        number of sides for healpix map.\n",
    "\n",
    "    Returns\n",
    "    -------\n",
    "    moll_hc : (NPIX,) 1Darray\n",
    "        Array of strain at every pixel for a mollview healpix map.\n",
    "    Cl : (F,R,lmax+1) NDarray\n",
    "        Spherical harmonic coefficients \n",
    "    \n",
    "    \"\"\"\n",
    "    moll_hc = hc_map(hc_ss, hc_bg, nside)\n",
    "    Cl = sph_harm_from_map(moll_hc, lmax)\n",
    "\n",
    "    return moll_hc, Cl\n"
   ]
  },
  {
   "cell_type": "code",
   "execution_count": null,
   "metadata": {},
   "outputs": [],
   "source": [
    "lmax = LMAX\n",
    "Cl = sph_harm_from_map(moll_hc, lmax)\n",
    "print(Cl.shape)"
   ]
  },
  {
   "cell_type": "code",
   "execution_count": null,
   "metadata": {},
   "outputs": [],
   "source": [
    "moll_hc, Cl = sph_harm_from_hc(hc_ss, hc_bg)"
   ]
  },
  {
   "attachments": {},
   "cell_type": "markdown",
   "metadata": {},
   "source": [
    "# Plots"
   ]
  },
  {
   "cell_type": "code",
   "execution_count": null,
   "metadata": {},
   "outputs": [],
   "source": [
    "lvals = np.arange(lmax+1)\n",
    "fobs_nHz = fobs*10**9"
   ]
  },
  {
   "cell_type": "code",
   "execution_count": null,
   "metadata": {},
   "outputs": [],
   "source": [
    "def plot_Cl(Cl, lvals, fobs_nHz):\n",
    "    fig, ax = plot.figax(figsize=(8,5), xlabel='$\\ell$', ylabel='$C_\\ell$', xscale='linear')\n",
    "    colors=cm.rainbow(np.linspace(0,1,len(Cl)))\n",
    "\n",
    "    for ff in range(len(Cl)):\n",
    "        if ff in (0, 10, 20, 30, 39):\n",
    "            label= ('$f$ = %.2f nHz' % fobs_nHz[ff])\n",
    "        else: label = None\n",
    "        ax.plot(lvals[:], Cl[ff,:], c=colors[ff], alpha=0.5, label=label,\n",
    "                marker='o')\n",
    "        \n",
    "    ax.legend()\n",
    "    return fig\n",
    "\n",
    "fig = plot_Cl(Cl[:,0,:], lvals, fobs_nHz) # pick one realization"
   ]
  },
  {
   "cell_type": "code",
   "execution_count": null,
   "metadata": {},
   "outputs": [],
   "source": [
    "def plot_ClC0(Cl, lvals, fobs_nHz):\n",
    "    fig, ax = plot.figax(figsize=(8,5), xlabel='$\\ell$', ylabel='$C_\\ell/C_0$', xscale='linear')\n",
    "    colors=cm.rainbow(np.linspace(0,1,len(Cl)))\n",
    "\n",
    "    for ff in range(len(Cl)):\n",
    "        if ff in (0, 10, 20, 30, 39):\n",
    "            label= ('$f$ = %.2f nHz' % fobs_nHz[ff])\n",
    "        else: label = None\n",
    "        ax.plot(lvals[:], Cl[ff,:]/Cl[ff,0,np.newaxis], c=colors[ff], alpha=0.5, label=label,\n",
    "                marker='o')\n",
    "        \n",
    "    ax.legend()\n",
    "    return fig\n",
    "\n",
    "fig = plot_ClC0(Cl[:,0,:], lvals, fobs_nHz) # pick one realization"
   ]
  },
  {
   "cell_type": "code",
   "execution_count": null,
   "metadata": {},
   "outputs": [],
   "source": [
    "def plot_llp1Cl(Cl, lvals, fobs_nHz):\n",
    "    fig, ax = plot.figax(figsize=(8,5), xlabel='$\\ell$', ylabel='$\\ell(\\ell+1)C_\\ell$', xscale='linear')\n",
    "    colors=cm.rainbow(np.linspace(0,1,len(Cl)))\n",
    "\n",
    "    xx = lvals[1:]\n",
    "    yy = (lvals*(lvals+1))[np.newaxis,1:]*Cl[:,1:]\n",
    "    for ff in range(len(Cl)):\n",
    "        if ff in (0, 10, 20, 30, 39):\n",
    "            label= ('$f$ = %.2f nHz' % fobs_nHz[ff])\n",
    "        else: label = None\n",
    "        ax.plot(xx, yy[ff], c=colors[ff], alpha=0.5, label=label,\n",
    "                marker='o')\n",
    "        \n",
    "    ax.legend()\n",
    "    return fig\n",
    "\n",
    "fig = plot_llp1Cl(Cl[:,0,:], lvals, fobs_nHz) # pick one realization"
   ]
  },
  {
   "cell_type": "code",
   "execution_count": null,
   "metadata": {},
   "outputs": [],
   "source": [
    "def plot_Clg0(Cl, lvals, fobs):\n",
    "    # can do several realizations\n",
    "\n",
    "    fig, ax = plot.figax(figsize=(8,5), xlabel=plot.LABEL_GW_FREQUENCY_YR, ylabel='$C_{\\ell>0}/C_0$', xscale='linear')\n",
    "    xx = fobs*YR\n",
    "    print(xx.shape)\n",
    "    print(np.sum(Cl[:,:,1:], axis=2).shape)\n",
    "    print(Cl[:,:,0,np.newaxis].shape)\n",
    "    yy = np.sum(Cl[:,:,1:], axis=2)/Cl[:,:,0]\n",
    "    print(yy.shape)\n",
    "    for rr in range(len(Cl[0])):\n",
    "        ax.plot(xx, yy[:,rr], alpha=0.5, marker='o')\n",
    "\n",
    "    ax.plot(xx,np.median(yy, axis=1), color='k')\n",
    "        \n",
    "    ax.legend()\n",
    "    return fig\n",
    "\n",
    "fig = plot_Clg0(Cl, lvals, fobs) # pick one realization"
   ]
  },
  {
   "attachments": {},
   "cell_type": "markdown",
   "metadata": {},
   "source": [
    "# Rebuild Harmonics"
   ]
  },
  {
   "cell_type": "code",
   "execution_count": null,
   "metadata": {},
   "outputs": [],
   "source": [
    "def map_from_sph_harm(Cl, nside=NSIDE, lmax=LMAX):\n",
    "    nfreqs = len(Cl)\n",
    "    nreals = len(Cl[0])\n",
    "    npix = hp.nside2npix(nside)\n",
    "    moll_sh = np.zeros((nfreqs,nreals,npix))\n",
    "    for ff in range(nfreqs):\n",
    "        for rr in range(nreals):\n",
    "            moll_sh[ff,rr,:] = hp.synfast(Cl[ff,rr], nside, lmax=lmax)\n",
    "    return moll_sh\n"
   ]
  },
  {
   "cell_type": "code",
   "execution_count": null,
   "metadata": {},
   "outputs": [],
   "source": [
    "moll_sh = map_from_sph_harm(Cl)\n",
    "\n",
    "\n",
    "rr=0\n",
    "fig, axs = plt.subplots(nrows=10, ncols=int(F/10))\n",
    "for ff in range(F):\n",
    "    title='$f$= %.2f yr$^{-1}$ (bin %d/%d)' % (fobs[ff]*YR, ff, F)\n",
    "    row, col = int(ff/4), ff%4\n",
    "    # print(row,col)\n",
    "    plt.axes(axs[row,col])\n",
    "    hp.mollview(moll_sh[ff,rr], title=title, hold=True)\n",
    "\n",
    "fig.suptitle('%d Loudest Single Sources, Recovered from Spherical Harmonics' % L, y=.895)\n",
    "fig.tight_layout()\n",
    "fig.set_size_inches(18, 30)\n",
    "# fig.savefig(saveloc+'all_freqs.png', dpi=1000)\n",
    "\n",
    "# fig"
   ]
  },
  {
   "attachments": {},
   "cell_type": "markdown",
   "metadata": {},
   "source": [
    "### Original maps"
   ]
  },
  {
   "cell_type": "code",
   "execution_count": null,
   "metadata": {},
   "outputs": [],
   "source": [
    "rr=0\n",
    "fig, axs = plt.subplots(nrows=10, ncols=int(F/10))\n",
    "for ff in range(F):\n",
    "    title='$f$= %.2f yr$^{-1}$ (bin %d/%d)' % (fobs[ff]*YR, ff, F)\n",
    "    row, col = int(ff/4), ff%4\n",
    "    # print(row,col)\n",
    "    plt.axes(axs[row,col])\n",
    "    hp.mollview(moll_hc[ff,rr], title=title, hold=True)\n",
    "\n",
    "fig.suptitle('%d Loudest Single Sources' % L, y=.895)\n",
    "fig.tight_layout()\n",
    "fig.set_size_inches(18, 30)\n",
    "# fig.savefig(saveloc+'all_freqs.png', dpi=1000)\n",
    "\n",
    "# fig"
   ]
  },
  {
   "cell_type": "code",
   "execution_count": null,
   "metadata": {},
   "outputs": [],
   "source": []
  }
 ],
 "metadata": {
  "kernelspec": {
   "display_name": "holo310",
   "language": "python",
   "name": "python3"
  },
  "language_info": {
   "codemirror_mode": {
    "name": "ipython",
    "version": 3
   },
   "file_extension": ".py",
   "mimetype": "text/x-python",
   "name": "python",
   "nbconvert_exporter": "python",
   "pygments_lexer": "ipython3",
   "version": "3.10.10"
  }
 },
 "nbformat": 4,
 "nbformat_minor": 2
}
