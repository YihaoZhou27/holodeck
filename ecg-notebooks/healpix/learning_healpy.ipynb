{
 "cells": [
  {
   "cell_type": "code",
   "execution_count": null,
   "metadata": {},
   "outputs": [],
   "source": [
    "import holodeck as holo\n",
    "from holodeck import single_sources, utils, plot, detstats\n",
    "from holodeck.constants import YR\n",
    "\n",
    "import numpy as np\n",
    "import healpy as hp\n",
    "import matplotlib.pyplot as plt\n",
    "\n",
    "import hasasia.sensitivity as hsen\n",
    "import hasasia.sim as hsim\n",
    "import hasasia.skymap as hsky"
   ]
  },
  {
   "attachments": {},
   "cell_type": "markdown",
   "metadata": {},
   "source": [
    "# Read in saved sam & strain data"
   ]
  },
  {
   "attachments": {},
   "cell_type": "markdown",
   "metadata": {},
   "source": [
    "Option 1) Make realizations"
   ]
  },
  {
   "cell_type": "code",
   "execution_count": null,
   "metadata": {},
   "outputs": [],
   "source": [
    "# dur = 15 * YR\n",
    "# nfreqs = 40\n",
    "# cad = dur/nfreqs/2\n",
    "# fobs= utils.nyquist_freqs(dur, cad)\n",
    "# fobs_edges = utils.nyquist_freqs_edges(dur, cad)\n",
    "# df_orb = np.diff(fobs_edges/2)\n",
    "# print(len(fobs))\n",
    "# sam = holo.sam.Semi_Analytic_Model()\n",
    "# hc_ss, hc_bg = sam.ss_gwb(fobs_edges, realize=3, loudest=10000)\n",
    "# np.savez('/Users/emigardiner/GWs/holodeck/ecg-notebooks/detstats_functions/npz_arrays/sam02_r3_f40_l10000.npz', \n",
    "#          dur=dur, cad=cad, fobs=fobs, df_orb=df_orb, hc_ss=hc_ss, hc_bg=hc_bg)"
   ]
  },
  {
   "cell_type": "markdown",
   "metadata": {},
   "source": [
    "Option 2) Load existing"
   ]
  },
  {
   "cell_type": "code",
   "execution_count": null,
   "metadata": {},
   "outputs": [],
   "source": [
    "hcfile = np.load('/Users/emigardiner/GWs/holodeck/ecg-notebooks/detstats_functions/npz_arrays/sam02_r3_f40_l10000.npz')\n",
    "dur = hcfile['dur']\n",
    "cad = hcfile['cad']\n",
    "fobs = hcfile['fobs'][:]\n",
    "df_orb = hcfile['df_orb']\n",
    "hc_ss = hcfile['hc_ss']\n",
    "hc_bg = hcfile['hc_bg']\n",
    "hcfile.close()\n",
    "\n",
    "shape = hc_ss.shape\n",
    "F, R, L = shape[0], shape[1], shape[2]\n",
    "print('F, R, L =', F,R,L)"
   ]
  },
  {
   "attachments": {},
   "cell_type": "markdown",
   "metadata": {},
   "source": [
    "# Healpy Tutorial"
   ]
  },
  {
   "cell_type": "code",
   "execution_count": null,
   "metadata": {},
   "outputs": [],
   "source": [
    "# Random sky positions\n",
    "NSIDE = 32\n",
    "print( \"Approximate resolution at NSIDE {} is {:.2} deg\".format(\n",
    "        NSIDE, hp.nside2resol(NSIDE, arcmin=True) / 60))\n",
    "NPIX = hp.nside2npix(NSIDE)\n",
    "print(NPIX)"
   ]
  },
  {
   "cell_type": "code",
   "execution_count": null,
   "metadata": {},
   "outputs": [],
   "source": [
    "m = np.arange(NPIX) # value at each pixel\n",
    "hp.mollview(m, title=\"Mollview image RING\")\n",
    "hp.graticule()"
   ]
  },
  {
   "cell_type": "code",
   "execution_count": null,
   "metadata": {},
   "outputs": [],
   "source": [
    "# use a vector to represent coordinates\n",
    "vec = hp.ang2vec(np.pi / 2, np.pi * 3/4)\n",
    "print(vec)\n",
    "ipix_disc = hp.query_disc(nside=32, vec=vec, radius=np.radians(10))\n",
    "print(ipix_disc)"
   ]
  },
  {
   "cell_type": "code",
   "execution_count": null,
   "metadata": {},
   "outputs": [],
   "source": [
    "print(np.pi*32**2)"
   ]
  },
  {
   "cell_type": "code",
   "execution_count": null,
   "metadata": {},
   "outputs": [],
   "source": [
    "m = np.arange(NPIX)\n",
    "m[ipix_disc] = m.max()\n",
    "hp.mollview(m, title=\"Mollview image RING\")"
   ]
  },
  {
   "cell_type": "code",
   "execution_count": null,
   "metadata": {},
   "outputs": [],
   "source": []
  },
  {
   "cell_type": "markdown",
   "metadata": {},
   "source": [
    "# Place Random Single Sources"
   ]
  },
  {
   "cell_type": "code",
   "execution_count": null,
   "metadata": {},
   "outputs": [],
   "source": [
    "m_strain = np.zeros((F,NPIX)) # frequency, pixel positon\n",
    "# paint the background evenly across\n",
    "rr=0 # just one realization\n",
    "avg_pix_strain = hc_bg[:]/ NPIX # (F,R)\n",
    "m_strain = np.ones((F,NPIX)) * avg_pix_strain[:,rr,np.newaxis]\n",
    "print('hc_bg=\\n',hc_bg[:,rr], '\\nnpix=',NPIX, '\\nbgpix strain=\\n', (m_strain[:,0]))\n",
    "\n",
    "# choose random pixels to place single sources, \n",
    "pix_ss = np.random.randint(0, NPIX-1, size=F*L).reshape(F,L)\n",
    "print(pix_ss.shape)\n",
    "\n",
    "# and add the ss_strains to their pixels\n",
    "for ff in range(F):\n",
    "    for ll in range(L):\n",
    "        m_strain[ff,pix_ss[ff,ll]] += hc_ss[ff,rr,ll]"
   ]
  },
  {
   "cell_type": "code",
   "execution_count": null,
   "metadata": {},
   "outputs": [],
   "source": [
    "min_at_freq = np.min(m_strain, axis=1, )\n",
    "# max_at_freq = "
   ]
  },
  {
   "cell_type": "code",
   "execution_count": null,
   "metadata": {},
   "outputs": [],
   "source": [
    "# show in skymap\n",
    "# ff=23\n",
    "def ff_mollview(hc_ss, pix_ss, m_strain, ff, plot=False, saveloc=None, ax=None):\n",
    "    # print(hc_ss[ff,rr,:])\n",
    "    if plot:\n",
    "        plt.scatter(np.arange(len(hc_ss[ff,rr,:])), pix_ss[ff,:], c=np.log(hc_ss[ff,rr,:]), cmap='viridis', s=0.5)\n",
    "        plt.colorbar(label='log(hc_ss)')\n",
    "        plt.xlabel(\"L'th Loudest\")\n",
    "        plt.ylabel('Pixel')\n",
    "    if ax is not None:\n",
    "        plt.axes(ax)\n",
    "    hp.mollview(m_strain[ff], title='%d Loudest Single Sources at %.2f yr$^{-1}$ (freq bin %d/%d)' % (L, fobs[ff]*YR, ff, F))\n",
    "    if saveloc is not None:\n",
    "        fname = saveloc+'hp_ff%02d.png' % ff\n",
    "        print(fname)\n",
    "        plt.savefig(fname, dpi=300)\n",
    "    plt.close()\n",
    "fig = ff_mollview(hc_ss, pix_ss, m_strain, 23, plot=True)\n"
   ]
  },
  {
   "cell_type": "markdown",
   "metadata": {},
   "source": [
    "## Per Frequency Skymaps"
   ]
  },
  {
   "cell_type": "code",
   "execution_count": null,
   "metadata": {},
   "outputs": [],
   "source": [
    "saveloc = '/Users/emigardiner/GWs/holodeck/ecg-notebooks/healpix/2023-05-11_sam02_l10000/'\n",
    "for ff in range(F):\n",
    "    fig = ff_mollview(hc_ss, pix_ss, m_strain, ff, saveloc=saveloc)\n",
    "    # fig.savefig(saveloc+'hp_ff%02d.png' % ff, dpi=300)\n",
    "    # plt.close(fig)"
   ]
  },
  {
   "cell_type": "code",
   "execution_count": null,
   "metadata": {},
   "outputs": [],
   "source": [
    "fig, axs = plt.subplots(nrows=10, ncols=int(F/10))\n",
    "for ff in range(F):\n",
    "    title='$f$= %.2f yr$^{-1}$ (bin %d/%d)' % (fobs[ff]*YR, ff, F)\n",
    "    row, col = int(ff/4), ff%4\n",
    "    # print(row,col)\n",
    "    plt.axes(axs[row,col])\n",
    "    hp.mollview(m_strain[ff], title=title, hold=True)\n",
    "\n",
    "fig.suptitle('%d Loudest Single Sources' % L, y=.895)\n",
    "fig.tight_layout()\n",
    "fig.set_size_inches(18, 30)\n",
    "fig.savefig(saveloc+'all_freqs.png', dpi=1000)\n",
    "\n",
    "# fig"
   ]
  },
  {
   "attachments": {},
   "cell_type": "markdown",
   "metadata": {},
   "source": [
    "### 20 frequencies, 1 figure\n",
    "Using Levi's code"
   ]
  },
  {
   "cell_type": "code",
   "execution_count": null,
   "metadata": {},
   "outputs": [],
   "source": [
    "fig, ((ax0, ax1), (ax2, ax3), (ax4, ax5), (ax6, ax7), (ax8, \n",
    "      ax9), (ax10, ax11), (ax12, ax13), (ax14, ax15), (ax16, \n",
    "      ax17), (ax18, ax19)) = plt.subplots(nrows=10, ncols=2)\n",
    "\n",
    "ax_list = [ax0, ax1, ax2, ax3, ax4, ax5, ax6, ax7, ax8, \n",
    "      ax9, ax10, ax11, ax12, ax13, ax14, ax15, ax16, \n",
    "      ax17, ax18, ax19]\n",
    "\n",
    "for i, a in enumerate(ax_list):\n",
    "    plt.axes(a)\n",
    "    hp.mollview(m_strain[i], title=\"skymap_freqbin{}\".format(i), hold=True)\n",
    "fig.set_size_inches(8, 30)"
   ]
  },
  {
   "attachments": {},
   "cell_type": "markdown",
   "metadata": {},
   "source": [
    "# Spherical Harmonics"
   ]
  },
  {
   "attachments": {},
   "cell_type": "markdown",
   "metadata": {},
   "source": [
    "freq bin 5 is nice, lets use that first"
   ]
  },
  {
   "cell_type": "code",
   "execution_count": null,
   "metadata": {},
   "outputs": [],
   "source": [
    "Cl_lmax8 = np.zeros((F,9))\n",
    "# E_l_lmax8 = np.zeros((F,9))"
   ]
  },
  {
   "cell_type": "code",
   "execution_count": null,
   "metadata": {},
   "outputs": [],
   "source": [
    "for ff in range(F):\n",
    "    # power spectrum of a healpix map\n",
    "    Cl_lmax8[ff,:] = hp.anafast(m_strain[ff], lmax=8)\n",
    "print(Cl_lmax8.shape)\n",
    "\n",
    "Cl_C0_ratio = Cl_lmax8[:,:]/Cl_lmax8[:,0][:,np.newaxis]\n",
    "print(Cl_C0_ratio.shape)\n",
    "\n",
    "l_vals = np.arange(len(Cl_lmax8[0]))"
   ]
  },
  {
   "attachments": {},
   "cell_type": "markdown",
   "metadata": {},
   "source": [
    "plot all the spherical harmonics"
   ]
  },
  {
   "cell_type": "code",
   "execution_count": null,
   "metadata": {},
   "outputs": [],
   "source": [
    "fig, axs = plt.subplots(nrows=10, ncols=int(F/10), sharex=True, sharey=True)\n",
    "for ff in range(F):\n",
    "    title='$f$= %.2f yr$^{-1}$ (bin %d/%d)' % (fobs[ff]*YR, ff, F)\n",
    "    row, col = int(ff/4), ff%4\n",
    "    # print(row,col)\n",
    "    ax = axs[row,col]\n",
    "    ax.plot(l_vals, Cl_C0_ratio[ff])\n",
    "    if row==9:\n",
    "        ax.set_xlabel('$l$')\n",
    "    if col==0:\n",
    "        ax.set_ylabel('$C_l/C_0$')\n",
    "\n",
    "# fig.suptitle('%d Loudest Single Sources' % L, y=.895)\n",
    "# fig.tight_layout()\n",
    "fig.set_size_inches(18, 30)\n",
    "# fig.savefig(saveloc+'all_freqs.png', dpi=1000)\n",
    "\n",
    "# fig"
   ]
  },
  {
   "cell_type": "code",
   "execution_count": null,
   "metadata": {},
   "outputs": [],
   "source": [
    "import matplotlib.cm as cm\n",
    "colors=cm.rainbow(np.linspace(0,1,F))\n",
    "fobs_nHz = fobs*10**9\n",
    "print(fobs_nHz)"
   ]
  },
  {
   "cell_type": "markdown",
   "metadata": {},
   "source": [
    "Plot Just Cl"
   ]
  },
  {
   "cell_type": "code",
   "execution_count": null,
   "metadata": {},
   "outputs": [],
   "source": [
    "fig, ax = plt.subplots(figsize=(8,5))\n",
    "\n",
    "for ff in range(F):\n",
    "    if ff in (0, 10, 20, 30, 39):\n",
    "        label= ('$f$ = %.2f nHz' % fobs_nHz[ff])\n",
    "    else: label = None\n",
    "    ax.plot(l_vals[:], Cl_lmax8[ff,:], c=colors[ff], alpha=0.5, label=label,\n",
    "            marker='o')\n",
    "ax.set_xlabel('$l$')\n",
    "ax.set_ylabel('$C_l$')\n",
    "ax.set_yscale('log')\n",
    "ax.set_title('Spherical Harmonic Coefficients')\n",
    "ax.legend()\n",
    "# fig.suptitle('%d Loudest Single Sources' % L, y=.895)\n",
    "fig.tight_layout()\n",
    "# fig.savefig(saveloc+'all_freqs.png', dpi=1000)\n",
    "\n",
    "# fig"
   ]
  },
  {
   "attachments": {},
   "cell_type": "markdown",
   "metadata": {},
   "source": [
    "### plot C_l/C_0"
   ]
  },
  {
   "cell_type": "code",
   "execution_count": null,
   "metadata": {},
   "outputs": [],
   "source": [
    "fig, ax = plt.subplots(figsize=(8,5))\n",
    "\n",
    "for ff in range(F):\n",
    "    if ff in (0, 10, 20, 30, 39):\n",
    "        label= ('$f$ = %.2f nHz' % fobs_nHz[ff])\n",
    "    else: label = None\n",
    "    ax.plot(l_vals[1:], Cl_C0_ratio[ff,1:], c=colors[ff], alpha=0.5, label=label,\n",
    "            marker='o')\n",
    "ax.set_xlabel('$\\ell$')\n",
    "ax.set_ylabel('$C_\\ell/C_0$')\n",
    "ax.set_yscale('log')\n",
    "ax.set_title('Spherical Harmonic Coefficients')\n",
    "ax.legend()\n",
    "# fig.suptitle('%d Loudest Single Sources' % L, y=.895)\n",
    "fig.tight_layout()\n",
    "# fig.savefig(saveloc+'all_freqs.png', dpi=1000)\n",
    "\n",
    "# fig"
   ]
  },
  {
   "attachments": {},
   "cell_type": "markdown",
   "metadata": {},
   "source": [
    "### Plot l(l+1)C_l"
   ]
  },
  {
   "cell_type": "code",
   "execution_count": null,
   "metadata": {},
   "outputs": [],
   "source": [
    "fig, ax = plt.subplots(figsize=(8,5))\n",
    "xx = l_vals[1:]\n",
    "yy = (l_vals*(l_vals+1))[np.newaxis,1:]*Cl_lmax8[:,1:]\n",
    "\n",
    "for ff in range(F):\n",
    "    if ff in (0, 10, 20, 30, 39):\n",
    "        label= ('$f$ = %.2f nHz' % fobs_nHz[ff])\n",
    "    else: label = None\n",
    "    ax.plot(xx, yy[ff], c=colors[ff], alpha=0.5, label=label,\n",
    "            marker='o')\n",
    "ax.set_xlabel('$\\ell$')\n",
    "ax.set_ylabel('$\\ell(\\ell+1)C_\\ell$')\n",
    "ax.set_yscale('log')\n",
    "ax.set_title('(Not Normalized) Spherical Harmonics')\n",
    "ax.legend()\n",
    "# fig.suptitle('%d Loudest Single Sources' % L, y=.895)\n",
    "fig.tight_layout()\n",
    "# fig.savefig(saveloc+'all_freqs.png', dpi=1000)\n",
    "\n",
    "# fig"
   ]
  },
  {
   "attachments": {},
   "cell_type": "markdown",
   "metadata": {},
   "source": [
    "## normalizing"
   ]
  },
  {
   "cell_type": "code",
   "execution_count": null,
   "metadata": {},
   "outputs": [],
   "source": [
    "# normalizing each frequency strains by total strain of each frequency\n",
    "hc2_tot = np.sum(m_strain**2, axis=1)\n",
    "print(hc2_tot.shape)\n",
    "print(m_strain.shape)\n",
    "m_strain_norm = m_strain/np.sqrt(hc2_tot[:,np.newaxis])\n",
    "\n",
    "Cl_norm=np.zeros((F,9))\n",
    "for ff in range(F):\n",
    "    # power spectrum of a healpix map\n",
    "    Cl_norm[ff,:] = hp.anafast(m_strain_norm[ff], lmax=8)\n",
    "\n",
    "Cl_C0_ratio_norm = Cl_norm/Cl_norm[:,0,np.newaxis]"
   ]
  },
  {
   "attachments": {},
   "cell_type": "markdown",
   "metadata": {},
   "source": [
    "#### Plot l(l+1)C_l"
   ]
  },
  {
   "cell_type": "code",
   "execution_count": null,
   "metadata": {},
   "outputs": [],
   "source": [
    "fig, ax = plt.subplots(figsize=(7,5))\n",
    "xx = l_vals[1:]\n",
    "yy = (l_vals*(l_vals+1))[np.newaxis,1:]*Cl_norm[:,1:]\n",
    "\n",
    "for ff in range(F):\n",
    "    if ff in (0, 10, 20, 30, 39):\n",
    "        label= ('$f$ = %.2f nHz' % fobs_nHz[ff])\n",
    "    else: label = None\n",
    "    ax.plot(xx, yy[ff], c=colors[ff], alpha=0.5, label=label,\n",
    "            marker='o')\n",
    "ax.set_xlabel('$\\ell$')\n",
    "ax.set_ylabel('$\\ell(\\ell+1)C_\\ell$')\n",
    "ax.set_yscale('log')\n",
    "ax.set_title('Normalized Spherical Harmonics')\n",
    "ax.legend(loc='lower right')\n",
    "# fig.suptitle('%d Loudest Single Sources' % L, y=.895)\n",
    "fig.tight_layout()\n",
    "# fig.savefig(saveloc+'all_freqs.png', dpi=1000)\n",
    "\n",
    "# fig"
   ]
  },
  {
   "cell_type": "code",
   "execution_count": null,
   "metadata": {},
   "outputs": [],
   "source": []
  }
 ],
 "metadata": {
  "kernelspec": {
   "display_name": "holo310",
   "language": "python",
   "name": "python3"
  },
  "language_info": {
   "codemirror_mode": {
    "name": "ipython",
    "version": 3
   },
   "file_extension": ".py",
   "mimetype": "text/x-python",
   "name": "python",
   "nbconvert_exporter": "python",
   "pygments_lexer": "ipython3",
   "version": "3.10.10"
  }
 },
 "nbformat": 4,
 "nbformat_minor": 2
}
