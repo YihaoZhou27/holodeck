{
 "cells": [
  {
   "cell_type": "code",
   "execution_count": null,
   "id": "58190fa4",
   "metadata": {},
   "outputs": [],
   "source": [
    "# A Script for calculating the dropout parameters through the factorized likelihood approach. \n",
    "# Plotting of resampled amplitude distribution, dropout parameters included\n",
    "\n",
    "%matplotlib inlinez\n",
    "%config InlineBackend.figure_format = 'retina'\n",
    "#%load_ext line_profiler\n",
    "\n",
    "from __future__ import division\n",
    "\n",
    "import numpy as np\n",
    "import glob\n",
    "import matplotlib.pyplot as plt\n",
    "from matplotlib.pyplot import figure\n",
    "import scipy.linalg as sl\n",
    "import re\n",
    "\n",
    "import enterprise\n",
    "from enterprise.pulsar import Pulsar\n",
    "from enterprise.pulsar import Tempo2Pulsar\n",
    "import enterprise.signals.parameter as parameter\n",
    "from enterprise.signals import utils\n",
    "from enterprise.signals import signal_base\n",
    "from enterprise.signals import selections\n",
    "from enterprise.signals.selections import Selection\n",
    "from enterprise.signals import white_signals\n",
    "from enterprise.signals import gp_signals\n",
    "# from enterprise_extensions.models import model_general\n",
    "from enterprise_extensions import sampler\n",
    "from enterprise_extensions import model_utils\n",
    "from enterprise_extensions import deterministic\n",
    "from enterprise_extensions.timing import timing_block\n",
    "from enterprise_extensions.blocks import (white_noise_block, red_noise_block,\n",
    "                                          dm_noise_block,\n",
    "                                          chromatic_noise_block,\n",
    "                                          common_red_noise_block)\n",
    "from enterprise_extensions.chromatic.solar_wind import solar_wind_block\n",
    "from enterprise_extensions import chromatic as chrom\n",
    "from enterprise_extensions import dropout as do\n",
    "import enterprise_extensions\n",
    "from enterprise.signals import anis_coefficients as anis\n",
    "\n",
    "# from libstempo.libstempo import *\n",
    "import cython\n",
    "# import libstempo\n",
    "import json\n",
    "import acor\n",
    "import scipy\n",
    "import pickle\n",
    "import copy\n",
    "import json\n",
    "import la_forge.core as co\n",
    "import la_forge\n",
    "from la_forge import slices\n",
    "import healpy as hp\n",
    "\n",
    "\n",
    "import corner\n",
    "from PTMCMCSampler.PTMCMCSampler import PTSampler as ptmcmc"
   ]
  },
  {
   "cell_type": "markdown",
   "id": "c8674ec7",
   "metadata": {},
   "source": [
    "Here skymap is an array of size (# of frequency bins, # of healpy pixels) and contains a map for all frequency bins, where each pixel is the square root of the sum of angle averaged h^2 values in that frequency bin and sky pixel.  \n",
    "\n",
    "F_bins contains the edges of the frequency bins, and hist is the total number of binaries in each frequency bin for reference. I made this based on a 15 year timespan, which sets the lowest freqeuncy bin.\n",
    "\n",
    "\n",
    "Let me know if you have any questions. I can also easily create these with a different nside if you think a different value would work better for what you want to do with these. And I can also make multiple realizations, which I assume we will want to get an averaged result, but I figured a single realization should be enough for first tests."
   ]
  },
  {
   "cell_type": "markdown",
   "id": "5373c23c",
   "metadata": {},
   "source": [
    "# Plotting Skymap from Holodeck simulated sky, other data tests"
   ]
  },
  {
   "cell_type": "code",
   "execution_count": null,
   "id": "11772f5c",
   "metadata": {},
   "outputs": [],
   "source": [
    "npzfile = np.load(\"skymaps_for_steve_and_levi_nside32_1realization.npz\")\n",
    "skymaps = npzfile['skymaps']\n",
    "F_bins = npzfile['F_bins']\n",
    "hist = npzfile['hist']"
   ]
  },
  {
   "cell_type": "code",
   "execution_count": null,
   "id": "4a78ef30",
   "metadata": {},
   "outputs": [],
   "source": [
    "for k in npzfile.iterkeys():\n",
    "    print(k)"
   ]
  },
  {
   "cell_type": "code",
   "execution_count": null,
   "id": "1c76ff27",
   "metadata": {},
   "outputs": [],
   "source": [
    "Tspan_15yr = 505861299.1401644"
   ]
  },
  {
   "cell_type": "code",
   "execution_count": null,
   "id": "23ca66b8",
   "metadata": {},
   "outputs": [],
   "source": [
    "print(((F_bins[1]-F_bins[0])**(-1))/3.15e7)\n",
    "print(((F_bins[-1]-F_bins[-2])**(-1))/3.15e7)"
   ]
  },
  {
   "cell_type": "code",
   "execution_count": null,
   "id": "1e16684b",
   "metadata": {},
   "outputs": [],
   "source": [
    "print(np.diff(F_bins)**(-1)/3.15e7)"
   ]
  },
  {
   "cell_type": "code",
   "execution_count": null,
   "id": "4ec974e9",
   "metadata": {},
   "outputs": [],
   "source": [
    "print(F_bins[:]**(-1)/3.15e7)"
   ]
  },
  {
   "cell_type": "code",
   "execution_count": null,
   "id": "6f0ce6d6",
   "metadata": {},
   "outputs": [],
   "source": [
    "print(Tspan_15yr/3.15e7)"
   ]
  },
  {
   "cell_type": "code",
   "execution_count": null,
   "id": "04924fa4",
   "metadata": {},
   "outputs": [],
   "source": [
    "freqs = np.zeros((1,20))\n",
    "for i in range(20):\n",
    "    freqs[0,i] = i+1 / Tspan_15yr\n",
    "    \n",
    "print(freqs)"
   ]
  },
  {
   "cell_type": "code",
   "execution_count": null,
   "id": "7e6a94c8",
   "metadata": {},
   "outputs": [],
   "source": [
    "print(skymaps.shape)"
   ]
  },
  {
   "cell_type": "code",
   "execution_count": null,
   "id": "48cb3e27",
   "metadata": {},
   "outputs": [],
   "source": [
    "map_test = np.sum(skymaps[:,:], axis=0)"
   ]
  },
  {
   "cell_type": "code",
   "execution_count": null,
   "id": "f4aea680",
   "metadata": {},
   "outputs": [],
   "source": [
    "print(map_test.shape)"
   ]
  },
  {
   "cell_type": "code",
   "execution_count": null,
   "id": "c534fa7c",
   "metadata": {},
   "outputs": [],
   "source": [
    "\n",
    "hp.mollview(map_test, title=\"skymap\")\n",
    "hp.graticule()"
   ]
  },
  {
   "cell_type": "markdown",
   "id": "5bb2cec3",
   "metadata": {},
   "source": [
    "# Getting Sph. Harm. Coefs for Skymap, Reconstruction"
   ]
  },
  {
   "cell_type": "code",
   "execution_count": null,
   "id": "e61f684e",
   "metadata": {},
   "outputs": [],
   "source": [
    "coef_lmax8 = anis.clmFromMap(map_test, 1)"
   ]
  },
  {
   "cell_type": "code",
   "execution_count": null,
   "id": "34f8d0b2",
   "metadata": {},
   "outputs": [],
   "source": [
    "print(coef_lmax8)"
   ]
  },
  {
   "cell_type": "code",
   "execution_count": null,
   "id": "b29063ba",
   "metadata": {},
   "outputs": [],
   "source": [
    "map_from_coef_lmax8 = anis.mapFromClm(coef_lmax8, 8)"
   ]
  },
  {
   "cell_type": "code",
   "execution_count": null,
   "id": "d4b4031d",
   "metadata": {},
   "outputs": [],
   "source": [
    "print(len(map_from_coef_lmax8))"
   ]
  },
  {
   "cell_type": "code",
   "execution_count": null,
   "id": "eb6b2e1e",
   "metadata": {},
   "outputs": [],
   "source": [
    "hp.mollview(map_from_coef_lmax8, title=\"skymap\")\n",
    "hp.graticule()"
   ]
  },
  {
   "cell_type": "code",
   "execution_count": null,
   "id": "8120fc23",
   "metadata": {},
   "outputs": [],
   "source": [
    "c_l_lmax8 = hp.anafast(map_test, lmax=8)\n",
    "e_l_lmax8 = np.arange(len(c_l_lmax8))"
   ]
  },
  {
   "cell_type": "markdown",
   "id": "a8d2cc4d",
   "metadata": {},
   "source": [
    "# Angular Power Spectra over all Frequencies"
   ]
  },
  {
   "cell_type": "code",
   "execution_count": null,
   "id": "a9ed98af",
   "metadata": {},
   "outputs": [],
   "source": [
    "plt.figure(figsize=(10, 5))\n",
    "plt.plot(e_l_lmax8, e_l_lmax8 * (e_l_lmax8 + 1) * c_l_lmax8)\n",
    "plt.xlabel(\"$\\ell$\")\n",
    "plt.ylabel(\"$\\ell(\\ell+1)C_{\\ell}$\")\n",
    "plt.grid()\n",
    "hp.write_cl(\"cl.fits\", c_l_lmax8, overwrite=True)"
   ]
  },
  {
   "cell_type": "code",
   "execution_count": null,
   "id": "51cbdb19",
   "metadata": {},
   "outputs": [],
   "source": [
    "print(skymaps.shape)"
   ]
  },
  {
   "cell_type": "markdown",
   "id": "ea2d49d2",
   "metadata": {},
   "source": [
    "# Per Frequency Skymaps"
   ]
  },
  {
   "cell_type": "code",
   "execution_count": null,
   "id": "0e7c47ef",
   "metadata": {},
   "outputs": [],
   "source": [
    "map_20freqs = np.zeros((20, 12288))\n",
    "\n",
    "for i in range(20): \n",
    "    map_20freqs[i] = skymaps[i,:]\n"
   ]
  },
  {
   "cell_type": "code",
   "execution_count": null,
   "id": "10e51704",
   "metadata": {},
   "outputs": [],
   "source": [
    "\n",
    "\n",
    "fig, ((ax0, ax1), (ax2, ax3), (ax4, ax5), (ax6, ax7), (ax8, \n",
    "      ax9), (ax10, ax11), (ax12, ax13), (ax14, ax15), (ax16, \n",
    "      ax17), (ax18, ax19)) = plt.subplots(nrows=10, ncols=2)\n",
    "\n",
    "ax_list = [ax0, ax1, ax2, ax3, ax4, ax5, ax6, ax7, ax8, \n",
    "      ax9, ax10, ax11, ax12, ax13, ax14, ax15, ax16, \n",
    "      ax17, ax18, ax19]\n",
    "\n",
    "for i, a in enumerate(ax_list):\n",
    "    plt.axes(a)\n",
    "    hp.mollview(map_20freqs[i], title=\"skymap_freqbin{}\".format(i), hold=True)\n",
    "\n",
    "fig.set_size_inches(8, 40)\n",
    "# for a in range(2):\n",
    "#     if a == 0:\n",
    "#         for b in range(10):\n",
    "#             plt.axes[b, a] = hp.mollview(map_20freqs[b], title=\"skymap_freqbin{}\".format(b), hold=True)\n",
    "#     if a == 1:\n",
    "#         for c in range(10,19):\n",
    "#             axs[c, a] = hp.mollview(map_20freqs[c], title=\"skymap_freqbin{}\".format(c), hold=True)\n",
    "#hp.mollview(map_testf0, title=\"skymap\")\n",
    "#hp.graticule()"
   ]
  },
  {
   "cell_type": "code",
   "execution_count": null,
   "id": "ed7ac610",
   "metadata": {},
   "outputs": [],
   "source": [
    "last5freqtest = anis.clmFromMap(map_20freqs[-5], lmax=8)"
   ]
  },
  {
   "cell_type": "code",
   "execution_count": null,
   "id": "81fb73f3",
   "metadata": {},
   "outputs": [],
   "source": [
    "print(last5freqtest)"
   ]
  },
  {
   "cell_type": "code",
   "execution_count": null,
   "id": "393ef1c7",
   "metadata": {},
   "outputs": [],
   "source": [
    "b=-4\n",
    "hp.mollview(map_20freqs[b], title=\"skymap_freqbin{}\".format(b))\n",
    "hp.graticule()\n",
    "fig.set_size_inches(6, 10)\n"
   ]
  },
  {
   "cell_type": "code",
   "execution_count": null,
   "id": "de374cde",
   "metadata": {},
   "outputs": [],
   "source": [
    "c_l_lmax8_20freqs = np.zeros((20, 9))\n",
    "e_l_lmax8_20freqs = np.zeros((20, 9))\n",
    "\n",
    "\n",
    "for i in range(20): \n",
    "    c_l_lmax8_20freqs[i] = hp.anafast(map_20freqs[i], lmax=8)\n",
    "    e_l_lmax8_20freqs[i] = np.arange(len(c_l_lmax8_20freqs[i]))"
   ]
  },
  {
   "cell_type": "code",
   "execution_count": null,
   "id": "e4ddf16c",
   "metadata": {},
   "outputs": [],
   "source": [
    "print(c_l_lmax8_20freqs[-6:])"
   ]
  },
  {
   "cell_type": "code",
   "execution_count": null,
   "id": "2ad82570",
   "metadata": {},
   "outputs": [],
   "source": [
    "figps, ((axps0, axps1), (axps2, axps3), (axps4, axps5), (axps6, axps7), (axps8, \n",
    "      axps9), (axps10, axps11), (axps12, axps13), (axps14, axps15), (axps16, \n",
    "      axps17), (axps18, axps19)) = plt.subplots(nrows=10, ncols=2)\n",
    "\n",
    "axps_list = [axps0, axps1, axps2, axps3, axps4, axps5, axps6, axps7, axps8, \n",
    "      axps9, axps10, axps11, axps12, axps13, axps14, axps15, axps16, \n",
    "      axps17, axps18, axps19]\n",
    "\n",
    "for i, a in enumerate(axps_list):\n",
    "    plt.axes(a)\n",
    "    plt.plot(e_l_lmax8_20freqs[i], e_l_lmax8_20freqs[i] * \n",
    "             (e_l_lmax8_20freqs[i] + 1) * c_l_lmax8_20freqs[i])\n",
    "    plt.xlabel(\"$\\ell$\")\n",
    "    plt.ylabel(\"$\\ell(\\ell+1)C_{\\ell}$\")\n",
    "    plt.grid()\n",
    "figps.set_size_inches(8, 40)"
   ]
  },
  {
   "cell_type": "code",
   "execution_count": null,
   "id": "ba8fdc59",
   "metadata": {},
   "outputs": [],
   "source": [
    "# figps, ((axps0, axps1), (axps2, axps3), (axps4, axps5), (axps6, axps7), (axps8, \n",
    "#       axps9), (axps10, axps11), (axps12, axps13), (axps14, axps15), (axps16, \n",
    "#       axps17), (axps18, axps19)) = plt.subplots(nrows=10, ncols=2)\n",
    "\n",
    "# axps_list = [axps0, axps1, axps2, axps3, axps4, axps5, axps6, axps7, axps8, \n",
    "#       axps9, axps10, axps11, axps12, axps13, axps14, axps15, axps16, \n",
    "#       axps17, axps18, axps19]\n",
    "\n",
    "figps1 = plt.figure()\n",
    "axps01 = figps1.add_subplot(111)\n",
    "\n",
    "for i in range(20):\n",
    "    plt.plot(e_l_lmax8_20freqs[i], e_l_lmax8_20freqs[i] * \n",
    "             (e_l_lmax8_20freqs[i] + 1) * c_l_lmax8_20freqs[i], label='freq='+str(i))\n",
    "    plt.xlabel(\"$\\ell$\")\n",
    "    plt.ylabel(\"$\\ell(\\ell+1)C_{\\ell}$\")\n",
    "    plt.yscale('log')\n",
    "    \n",
    "    plt.legend()\n",
    "    plt.grid()\n",
    "figps1.set_size_inches(10, 10)"
   ]
  },
  {
   "cell_type": "markdown",
   "id": "c2a1cf24",
   "metadata": {},
   "source": [
    "# Normalizing Angular Power Spectra"
   ]
  },
  {
   "cell_type": "code",
   "execution_count": null,
   "id": "9e464879",
   "metadata": {},
   "outputs": [],
   "source": [
    "print(np.sum(skymaps[0,:], axis=0))"
   ]
  },
  {
   "cell_type": "code",
   "execution_count": null,
   "id": "5cb24d9e",
   "metadata": {},
   "outputs": [],
   "source": [
    "# normalizing each frequency skymap by total strain of each frequency in attempt to normalize the sph harm coefs.\n",
    "# Getting total h^2 for each freq\n",
    "h2_tot_20freqs = np.zeros((20, 1))\n",
    "\n",
    "for i in range(20): \n",
    "    h2_tot_20freqs[i] = np.sum(skymaps[i,:], axis=0)\n"
   ]
  },
  {
   "cell_type": "code",
   "execution_count": null,
   "id": "aa91f0aa",
   "metadata": {},
   "outputs": [],
   "source": [
    "print(map_20freqs[0]/h2_tot_20freqs[0])"
   ]
  },
  {
   "cell_type": "code",
   "execution_count": null,
   "id": "ef4ba3d4",
   "metadata": {},
   "outputs": [],
   "source": [
    "# Normalizing\n",
    "map_20freqs_norm = np.zeros((20, 12288))\n",
    "\n",
    "for i in range(20):\n",
    "    map_20freqs_norm[i] = map_20freqs[i]/h2_tot_20freqs[i]\n"
   ]
  },
  {
   "cell_type": "code",
   "execution_count": null,
   "id": "a860b62b",
   "metadata": {},
   "outputs": [],
   "source": [
    "#new coef calc\n",
    "\n",
    "c_l_lmax8_20freqs_norm = np.zeros((20, 9))\n",
    "e_l_lmax8_20freqs_norm = np.zeros((20, 9))\n",
    "\n",
    "\n",
    "for i in range(20): \n",
    "    c_l_lmax8_20freqs_norm[i] = hp.anafast(map_20freqs_norm[i], lmax=8)\n",
    "    e_l_lmax8_20freqs_norm[i] = np.arange(len(c_l_lmax8_20freqs_norm[i]))"
   ]
  },
  {
   "cell_type": "code",
   "execution_count": null,
   "id": "1c5cdafa",
   "metadata": {},
   "outputs": [],
   "source": [
    "figps1 = plt.figure()\n",
    "axps01 = figps1.add_subplot(111)\n",
    "\n",
    "for i in range(20):\n",
    "    plt.plot(e_l_lmax8_20freqs_norm[i], e_l_lmax8_20freqs_norm[i] * \n",
    "             (e_l_lmax8_20freqs_norm[i] + 1) * c_l_lmax8_20freqs_norm[i], label='freq='+str(i))\n",
    "    plt.xlabel(\"$\\ell$\")\n",
    "    plt.ylabel(\"$\\ell(\\ell+1)C_{\\ell}$\")\n",
    "    plt.yscale('log')\n",
    "    \n",
    "    plt.legend()\n",
    "    plt.grid()\n",
    "figps1.set_size_inches(10, 10)\n"
   ]
  },
  {
   "cell_type": "markdown",
   "id": "43df5eb4",
   "metadata": {},
   "source": [
    "Plot Just Cl"
   ]
  },
  {
   "cell_type": "code",
   "execution_count": null,
   "id": "ca01cff2",
   "metadata": {},
   "outputs": [],
   "source": [
    "fig, ax = plt.subplots(figsize=(8,5))\n",
    "\n",
    "for ff in range(F):\n",
    "    if ff in (0, 10, 20, 30, 39):\n",
    "        label= ('$f$ = %.2f nHz' % fobs_nHz[ff])\n",
    "    else: label = None\n",
    "    ax.plot(l_vals[1:], Cl_lmax8[ff,1:], c=colors[ff], alpha=0.5, label=label,\n",
    "            marker='o')\n",
    "ax.set_xlabel('$l$')\n",
    "ax.set_ylabel('$C_l/C_0$')\n",
    "ax.set_yscale('log')\n",
    "ax.set_title('Normalized Spherical Harmonic Coefficients')\n",
    "ax.legend()\n",
    "# fig.suptitle('%d Loudest Single Sources' % L, y=.895)\n",
    "fig.tight_layout()\n",
    "# fig.savefig(saveloc+'all_freqs.png', dpi=1000)\n",
    "\n",
    "# fig"
   ]
  },
  {
   "cell_type": "markdown",
   "id": "b67c3b4c",
   "metadata": {},
   "source": [
    "# Characteristic Strain Plot"
   ]
  },
  {
   "cell_type": "markdown",
   "id": "1402265a",
   "metadata": {},
   "source": [
    "making char strain plot: $h_c = (\\Sigma h_i^2 \\frac{f}{\\Delta f})$"
   ]
  },
  {
   "cell_type": "code",
   "execution_count": null,
   "id": "3df1396b",
   "metadata": {},
   "outputs": [],
   "source": [
    "print(np.diff(F_bins).shape)\n"
   ]
  },
  {
   "cell_type": "code",
   "execution_count": null,
   "id": "24d5c806",
   "metadata": {},
   "outputs": [],
   "source": [
    "char_strain = np.zeros((360))\n",
    "straintot = np.sum(skymaps[:,:])\n",
    "print(straintot)\n",
    "\n",
    "f_bins_plot = F_bins[:-1]\n",
    "f_bins_size = np.diff(F_bins)\n",
    "for i in range(360):\n",
    "    char_strain[i] = (np.sum(skymaps[i,:]) * (f_bins_plot[i]/f_bins_size[i]))**(1/2)\n",
    "\n",
    "    \n",
    "\n",
    "print(f_bins_plot.shape)"
   ]
  },
  {
   "cell_type": "code",
   "execution_count": null,
   "id": "af05f863",
   "metadata": {},
   "outputs": [],
   "source": [
    "figcs = plt.figure()\n",
    "axcs = figcs.add_subplot(111)\n",
    "\n",
    "plt.plot(f_bins_plot, char_strain)\n",
    "# plt.xlabel(\"$\\ell$\")\n",
    "# plt.ylabel(\"$\\ell(\\ell+1)C_{\\ell}$\")\n",
    "plt.xlim((0,4e-7))\n",
    "plt.yscale('log')\n",
    "\n",
    "#plt.legend()\n",
    "plt.grid()\n",
    "\n",
    "figps1.set_size_inches(10, 10)"
   ]
  },
  {
   "cell_type": "code",
   "execution_count": null,
   "id": "3a13735d",
   "metadata": {},
   "outputs": [],
   "source": [
    "print(F_bins.shape)"
   ]
  },
  {
   "cell_type": "code",
   "execution_count": null,
   "id": "b8b1e008",
   "metadata": {},
   "outputs": [],
   "source": []
  }
 ],
 "metadata": {
  "kernelspec": {
   "display_name": "Python 3 (ipykernel)",
   "language": "python",
   "name": "python3"
  },
  "language_info": {
   "codemirror_mode": {
    "name": "ipython",
    "version": 3
   },
   "file_extension": ".py",
   "mimetype": "text/x-python",
   "name": "python",
   "nbconvert_exporter": "python",
   "pygments_lexer": "ipython3",
   "version": "3.8.13"
  }
 },
 "nbformat": 4,
 "nbformat_minor": 5
}
