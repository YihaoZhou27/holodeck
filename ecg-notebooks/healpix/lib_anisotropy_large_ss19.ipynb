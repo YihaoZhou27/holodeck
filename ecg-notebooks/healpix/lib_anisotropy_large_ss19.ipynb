{
 "cells": [
  {
   "cell_type": "code",
   "execution_count": null,
   "metadata": {},
   "outputs": [],
   "source": [
    "import holodeck as holo\n",
    "from holodeck import single_sources, utils, plot, detstats\n",
    "from holodeck.constants import YR\n",
    "\n",
    "import numpy as np\n",
    "import healpy as hp\n",
    "import matplotlib.pyplot as plt\n",
    "import matplotlib.cm as cm\n",
    "import h5py\n",
    "\n"
   ]
  },
  {
   "attachments": {},
   "cell_type": "markdown",
   "metadata": {},
   "source": [
    "# Anisotropy Functions"
   ]
  },
  {
   "cell_type": "code",
   "execution_count": null,
   "metadata": {},
   "outputs": [],
   "source": [
    "NSIDE = 24\n",
    "LMAX = 8\n",
    "\n",
    "def healpix_map(hc_ss, hc_bg, nside=NSIDE):\n",
    "    \"\"\" Build mollview array of strains for a healpix map\n",
    "    \n",
    "    Parameters\n",
    "    ----------\n",
    "    hc_ss : (F,R,L) NDarray\n",
    "        Characteristic strain of single sources.\n",
    "    hc_bg : (F,R) NDarray\n",
    "        Characteristic strain of the background.\n",
    "    nside : integer\n",
    "        number of sides for healpix map.\n",
    "\n",
    "    Returns\n",
    "    -------\n",
    "    moll_hc : (NPIX,) 1Darray\n",
    "        Array of strain at every pixel for a mollview healpix map.\n",
    "    \n",
    "    NOTE: Could speed up the for-loops, but it's ok for now.\n",
    "    \"\"\"\n",
    "\n",
    "    npix = hp.nside2npix(nside)\n",
    "    nfreqs = len(hc_ss)\n",
    "    nreals = len(hc_ss[0])\n",
    "    nloudest = len(hc_ss[0,0])\n",
    "\n",
    "    # spread background evenly across pixels in moll_hc\n",
    "    moll_hc = np.ones((nfreqs,nreals,npix)) * hc_bg[:,:,np.newaxis]/np.sqrt(npix) # (frequency, realization, pixel)\n",
    "\n",
    "    # choose random pixels to place the single sources\n",
    "    pix_ss = np.random.randint(0, npix-1, size=nfreqs*nreals*nloudest).reshape(nfreqs, nreals, nloudest)\n",
    "    for ff in range(nfreqs):\n",
    "        for rr in range(nreals):\n",
    "            for ll in range(nloudest):\n",
    "                moll_hc[ff,rr,pix_ss[ff,rr,ll]] = np.sqrt(moll_hc[ff,rr,pix_ss[ff,rr,ll]]**2\n",
    "                                                          + hc_ss[ff,rr,ll]**2)\n",
    "                \n",
    "    return moll_hc\n",
    "\n",
    "def sph_harm_from_map(moll_hc, lmax=LMAX):\n",
    "    \"\"\" Calculate spherical harmonics from strains at every pixel of \n",
    "    a healpix mollview map.\n",
    "    \n",
    "    Parameters\n",
    "    ----------\n",
    "    moll_hc : (F,R,NPIX,) 1Darray\n",
    "        Characteristic strain of each pixel of a healpix map.\n",
    "    lmax : int\n",
    "        Highest harmonic to calculate.\n",
    "\n",
    "    Returns\n",
    "    -------\n",
    "    Cl : (F,R,lmax+1) NDarray\n",
    "        Spherical harmonic coefficients \n",
    "        \n",
    "    \"\"\"\n",
    "    nfreqs = len(moll_hc)\n",
    "    nreals = len(moll_hc[0])\n",
    "\n",
    "    Cl = np.zeros((nfreqs, nreals, lmax+1))\n",
    "    for ff in range(nfreqs):\n",
    "        for rr in range(nreals):\n",
    "            Cl[ff,rr,:] = hp.anafast(moll_hc[ff,rr], lmax=lmax)\n",
    "\n",
    "    return Cl\n",
    "\n",
    "def sph_harm_from_hc(hc_ss, hc_bg, nside = NSIDE, lmax = LMAX):\n",
    "    \"\"\" Calculate spherical harmonics and strain at every pixel\n",
    "    of a healpix mollview map from single source and background char strains.\n",
    "\n",
    "    Parameters\n",
    "    ----------\n",
    "    hc_ss : (F,R,L) NDarray\n",
    "        Characteristic strain of single sources.\n",
    "    hc_bg : (F,R) NDarray\n",
    "        Characteristic strain of the background.\n",
    "    nside : integer\n",
    "        number of sides for healpix map.\n",
    "\n",
    "    Returns\n",
    "    -------\n",
    "    moll_hc : (F,R,NPIX,) 2Darray\n",
    "        Array of strain at every pixel for a mollview healpix map.\n",
    "    Cl : (F,R,lmax+1) NDarray\n",
    "        Spherical harmonic coefficients \n",
    "    \n",
    "    \"\"\"\n",
    "    moll_hc = healpix_map(hc_ss, hc_bg, nside)\n",
    "    Cl = sph_harm_from_map(moll_hc, lmax)\n",
    "\n",
    "    return moll_hc, Cl\n",
    "\n",
    "\n",
    "\n",
    "##########################################################################################\n",
    "################################### PLOTTING FUNCTIONS ###################################\n",
    "##########################################################################################\n",
    "\n",
    "def plot_Cl(Cl, lvals, fobs_nHz, ff_labels=(0, 10, 20, 30, 39)):\n",
    "    \"\"\" Plot C_l vs l for all frequencies of a single realization.\n",
    "    \n",
    "    \"\"\"\n",
    "    fig, ax = plot.figax(figsize=(8,5), xlabel='$\\ell$', ylabel='$C_\\ell$', xscale='linear')\n",
    "    colors=cm.rainbow(np.linspace(0,1,len(Cl)))\n",
    "\n",
    "    for ff in range(len(Cl)):\n",
    "        if ff in ff_labels:\n",
    "            label= ('$f$ = %.2f nHz' % fobs_nHz[ff])\n",
    "        else: label = None\n",
    "        ax.plot(lvals[:], Cl[ff,:], c=colors[ff], alpha=0.5, label=label,\n",
    "                marker='o')\n",
    "        \n",
    "    ax.legend()\n",
    "    return fig\n",
    "\n",
    "def plot_ClC0(Cl, lvals, fobs_nHz, ff_labels=(0, 10, 20, 30, 39)):\n",
    "    \"\"\" Plot C_l/C_0 for all frequencies of a single realization.\n",
    "    \n",
    "    \"\"\"\n",
    "    fig, ax = plot.figax(figsize=(8,5), xlabel='$\\ell$', ylabel='$C_\\ell/C_0$', xscale='linear')\n",
    "    colors=cm.rainbow(np.linspace(0,1,len(Cl)))\n",
    "\n",
    "    for ff in range(len(Cl)):\n",
    "        if ff in ff_labels:\n",
    "            label= ('$f$ = %.2f nHz' % fobs_nHz[ff])\n",
    "        else: label = None\n",
    "        ax.plot(lvals[:], Cl[ff,:]/Cl[ff,0,np.newaxis], c=colors[ff], alpha=0.5, label=label,\n",
    "                marker='o')\n",
    "        \n",
    "    ax.legend()\n",
    "    return fig\n",
    "\n",
    "def plot_llp1Cl(Cl, lvals, fobs_nHz, ff_labels=(0, 10, 20, 30, 39)):\n",
    "    \"\"\" Plot l(l+1)C_l vs l for all frequencies of a single realization.\n",
    "    \n",
    "    \"\"\"\n",
    "    fig, ax = plot.figax(figsize=(8,5), xlabel='$\\ell$', ylabel='$\\ell(\\ell+1)C_\\ell$', xscale='linear')\n",
    "    colors=cm.rainbow(np.linspace(0,1,len(Cl)))\n",
    "\n",
    "    xx = lvals[1:]\n",
    "    yy = (lvals*(lvals+1))[np.newaxis,1:]*Cl[:,1:]\n",
    "    for ff in range(len(Cl)):\n",
    "        if ff in ff_labels:\n",
    "            label= ('$f$ = %.2f nHz' % fobs_nHz[ff])\n",
    "        else: label = None\n",
    "        ax.plot(xx, yy[ff], c=colors[ff], alpha=0.5, label=label,\n",
    "                marker='o')\n",
    "        \n",
    "    ax.legend()\n",
    "    return fig\n",
    "\n",
    "def plot_Clg0(Cl, fobs):\n",
    "    \"\"\" Plot C_l>0/C_0 vs f for many realizations.\n",
    "    \n",
    "    \"\"\"\n",
    "\n",
    "    fig, ax = plot.figax(figsize=(8,5), xlabel=plot.LABEL_GW_FREQUENCY_YR, ylabel='$C_{\\ell>0}/C_0$', xscale='linear')\n",
    "    xx = fobs*YR\n",
    "    print(xx.shape)\n",
    "    print(np.sum(Cl[:,:,1:], axis=2).shape)\n",
    "    print(Cl[:,:,0,np.newaxis].shape)\n",
    "    yy = np.sum(Cl[:,:,1:], axis=2)/Cl[:,:,0]\n",
    "    print(yy.shape)\n",
    "    for rr in range(len(Cl[0])):\n",
    "        ax.plot(xx, yy[:,rr], alpha=0.5, marker='o')\n",
    "\n",
    "    ax.plot(xx,np.median(yy, axis=1), color='k')\n",
    "        \n",
    "    ax.legend()\n",
    "    return fig\n",
    "\n",
    "def map_from_sph_harm(Cl, nside=NSIDE, lmax=LMAX):\n",
    "    nfreqs = len(Cl)\n",
    "    nreals = len(Cl[0])\n",
    "    npix = hp.nside2npix(nside)\n",
    "    moll_sh = np.zeros((nfreqs,nreals,npix))\n",
    "    for ff in range(nfreqs):\n",
    "        for rr in range(nreals):\n",
    "            moll_sh[ff,rr,:] = hp.synfast(Cl[ff,rr], nside, lmax=lmax)\n",
    "    return moll_sh"
   ]
  },
  {
   "attachments": {},
   "cell_type": "markdown",
   "metadata": {},
   "source": [
    "# Read in Library\n",
    "\n",
    "ss16 has 10 loudest, definitely will replace this with a better library"
   ]
  },
  {
   "cell_type": "code",
   "execution_count": null,
   "metadata": {},
   "outputs": [],
   "source": [
    "sspath = '/Users/emigardiner/GWs/holodeck/output/2023-05-16-mbp-ss19_uniform05A_n1000_r50_d20_f30_l2000_p0/'\n",
    "# hdfname = sspath+'ss_lib.hdf5'\n",
    "# ssfile = h5py.File(hdfname, 'r')\n",
    "# print(list(ssfile.keys()))\n",
    "# hc_ss = ssfile['hc_ss'][...]\n",
    "# hc_bg = ssfile['hc_bg'][...]\n",
    "# fobs = ssfile['fobs'][:]\n",
    "# dfobs = ssfile['dfobs'][:]\n",
    "# ssfile.close()\n",
    "\n",
    "# shape = hc_ss.shape\n",
    "# nsamps, nfreqs, nreals, nloudest = shape[0], shape[1], shape[2], shape[3]\n",
    "# print('N,F,R,L =', nsamps, nfreqs, nreals, nloudest)\n"
   ]
  },
  {
   "attachments": {},
   "cell_type": "markdown",
   "metadata": {},
   "source": [
    "# Find Best Samples"
   ]
  },
  {
   "cell_type": "code",
   "execution_count": null,
   "metadata": {},
   "outputs": [],
   "source": [
    "# hc_ref15_10yr = 11.2*10**-15 \n",
    "# nsort, fidx, hc_tt, hc_ref15 = detstats.rank_samples(hc_ss, hc_bg, fobs, hc_ref=hc_ref15_10yr, ret_all=True)\n",
    "# nbest = 100\n",
    "# print(hc_ref15)\n"
   ]
  },
  {
   "attachments": {},
   "cell_type": "markdown",
   "metadata": {},
   "source": [
    "### Plot amplitudes sorted"
   ]
  },
  {
   "cell_type": "code",
   "execution_count": null,
   "metadata": {},
   "outputs": [],
   "source": [
    "# # amplitudes from sorting\n",
    "# fig, ax = plot.figax(figsize=(7,5), xlabel='Sample', ylabel='$h_{c,\\mathrm{tot}}(f=1/\\mathrm{yr})$',\n",
    "#                      xscale='linear')\n",
    "\n",
    "# ax.scatter(nsort[:nbest], hc_tt[nsort][:nbest], s=20, marker='o', c=np.arange(len(nsort))[:nbest], \n",
    "#            cmap='jet_r', label='%d best samples' % nbest)\n",
    "# ax.scatter(nsort[nbest:], hc_tt[nsort][nbest:], s=15, marker='x', c='darkblue', \n",
    "#            label='excluded samples')\n",
    "# ax.axhline(hc_ref15, label='15 yr ref: %.2e' % (hc_ref15), linestyle='dashed', color='tab:red', alpha=0.5)\n",
    "# # plt.scatter(np.arange(nsamps), hc_tt[nsort], s=3, label= r'15 yr ref: $A=$' + '%.2f' % amp_ref15)\n",
    "\n",
    "# ax.set_yscale('log')\n",
    "# ax.set_xlabel('Samples')\n",
    "# ax.set_ylabel('$h_c(f=%.2f\\mathrm{yr}^{-1})$' % (fobs[fidx]*YR))\n",
    "# ax.legend()"
   ]
  },
  {
   "cell_type": "code",
   "execution_count": null,
   "metadata": {},
   "outputs": [],
   "source": [
    "# # amplitudes from sorting\n",
    "# fig, ax = plot.figax(figsize=(7,5), xlabel='Sample', ylabel='$h_{c,\\mathrm{tot}}(f=1/\\mathrm{yr})$',\n",
    "#                      xscale='linear')\n",
    "# ax.scatter(nsort, hc_tt[nsort], s=20, marker='o', c=np.arange(len(nsort)), \n",
    "#            cmap='jet_r')\n",
    "# ax.axhline(hc_ref15, label='15 yr ref: %.2e' % (hc_ref15), linestyle='dashed', color='tab:red', alpha=0.5)\n",
    "# # plt.scatter(np.arange(nsamps), hc_tt[nsort], s=3, label= r'15 yr ref: $A=$' + '%.2f' % amp_ref15)\n",
    "\n",
    "# ax.set_yscale('log')\n",
    "# ax.set_xlabel('Samples')\n",
    "# ax.set_ylabel('$h_c(f=%.2f\\mathrm{yr}^{-1})$' % (fobs[fidx]*YR))\n",
    "# ax.legend()"
   ]
  },
  {
   "attachments": {},
   "cell_type": "markdown",
   "metadata": {},
   "source": [
    "### Plot strains from best samples"
   ]
  },
  {
   "cell_type": "code",
   "execution_count": null,
   "metadata": {},
   "outputs": [],
   "source": [
    "# print(nsort[:5])\n",
    "# xx = fobs*YR\n",
    "# yy = hc_ref15_10yr * (xx/.1)**(-2/3)\n",
    "# for nn in nsort[:5]:\n",
    "#     print('nn=%d' % nn)\n",
    "#     fig = plot.plot_bg_ss(fobs, hc_bg[nn], hc_ss[nn,:,:,:100]) # just 100 loudest, cant see more anyway\n",
    "#     ax = fig.axes[0]\n",
    "#     ax.plot(xx,yy,linestyle='dashdot', color='grey', alpha=1, \n",
    "#             label= '$(%.2e) [f/(.1 \\mathrm{yr^-1})]^{-2/3}  $' % hc_ref15_10yr)\n",
    "#     ax.axhline(hc_ref15, label='15 yr ref: $h_c(%.2f/\\mathrm{yr}) = %.2e$' % (xx[fidx], hc_ref15), linestyle='dashed', color='tab:red', alpha=0.5)\n",
    "#     ax.axvline(xx[fidx], color='tab:blue', alpha=0.5, linestyle='dashed', label='$f=%.2f\\mathrm{yr}$' % xx[fidx])\n",
    "#     ax.set_title('Sample %d' % nn)\n",
    "#     ax.legend(loc='lower left')"
   ]
  },
  {
   "attachments": {},
   "cell_type": "markdown",
   "metadata": {},
   "source": [
    "# Load/Calculate pixel strains and harmonic coefficients"
   ]
  },
  {
   "cell_type": "code",
   "execution_count": null,
   "metadata": {},
   "outputs": [],
   "source": [
    "# nside = NSIDE\n",
    "# npix = hp.nside2npix(nside)\n",
    "# lmax = LMAX\n",
    "# Cl_best = np.zeros((nbest, nfreqs, nreals, lmax+1 ))\n",
    "# moll_hc_best = np.zeros((nbest, nfreqs, nreals, npix))\n",
    "# for nn in range(nbest):\n",
    "#     print('on nn=%d out of nbest=%d' % (nn,nbest))\n",
    "#     moll_hc_best[nn,...], Cl_best[nn,...] = sph_harm_from_hc(hc_ss[nsort[nn]], \n",
    "#                                             hc_bg[nsort[nn]],\n",
    "#                                             nside=nside, lmax=lmax)"
   ]
  },
  {
   "cell_type": "code",
   "execution_count": null,
   "metadata": {},
   "outputs": [],
   "source": [
    "# np.savez(sspath+'sph_harmonics.npz', nsort=nsort, fidx=fidx, hc_tt=hc_tt, hc_ref15=hc_ref15, ss_shape=shape,\n",
    "#          moll_hc_best=moll_hc_best, Cl_best=Cl_best, nside=nside, lmax=lmax, fobs=fobs)\n",
    "\n",
    "sph_harm_file = np.load(sspath+'sph_harmonics.npz')\n",
    "\n",
    "# load ss info\n",
    "shape = sph_harm_file['ss_shape']\n",
    "nsamps, nfreqs, nreals, nloudest = shape[0], shape[1], shape[2], shape[3]\n",
    "fobs = sph_harm_file['fobs']\n",
    "\n",
    "# load ranking info\n",
    "nsort = sph_harm_file['nsort']\n",
    "fidx = sph_harm_file['fidx']\n",
    "hc_tt = sph_harm_file['hc_tt']\n",
    "hc_ref15 = sph_harm_file['hc_ref15']\n",
    "\n",
    "# load harmonics info\n",
    "nside = sph_harm_file['nside']\n",
    "lmax  = sph_harm_file['lmax']\n",
    "moll_hc_best = sph_harm_file['moll_hc_best']\n",
    "Cl_best = sph_harm_file['Cl_best']\n",
    "nbest = len(moll_hc_best)\n",
    "\n",
    "sph_harm_file.close()"
   ]
  },
  {
   "attachments": {},
   "cell_type": "markdown",
   "metadata": {},
   "source": [
    "### Plot Results"
   ]
  },
  {
   "cell_type": "code",
   "execution_count": null,
   "metadata": {},
   "outputs": [],
   "source": [
    "lvals = np.arange(lmax+1)\n",
    "fobs_nHz = fobs*10**9\n",
    "fobs_yrs = fobs*YR\n",
    "ff_labels = (0,9,19,29,39)\n",
    "nshow = 10"
   ]
  },
  {
   "attachments": {},
   "cell_type": "markdown",
   "metadata": {},
   "source": [
    "#### Plot_Cl_medians"
   ]
  },
  {
   "cell_type": "code",
   "execution_count": null,
   "metadata": {},
   "outputs": [],
   "source": [
    "def plot_Cl_medians(lvals, Cl_best, lmax):\n",
    "    fig, ax = plot.figax(figsize=(8,5), xlabel='$\\ell$', ylabel='$C_\\ell$', xscale='linear')\n",
    "\n",
    "    xx = lvals # (l)\n",
    "    yy = Cl_best # (B,F,R,l)\n",
    "    yy = np.median(yy, axis=2) # (B,F,l)\n",
    "\n",
    "    colors = cm.rainbow(np.linspace(1, 0, nfreqs+1))\n",
    "    for ff in (np.arange(1,nfreqs,8)):\n",
    "        label= ('$f$ = %.2f nHz = %.2f /yr' % (fobs_nHz[ff], fobs_yrs[ff]))\n",
    "        ax.plot(xx, np.median(yy[:,ff,:], axis=0), color=colors[ff], label=label,\n",
    "                linewidth=3)\n",
    "        for pp in [50,]:\n",
    "            percs = pp/2\n",
    "            percs = [50-percs, 50+percs]\n",
    "            ax.fill_between(xx, *np.percentile(yy[:,ff,:], percs, axis=0), alpha=0.25, color=colors[ff])\n",
    "        for bb in range(nshow):\n",
    "            ax.plot(xx, yy[bb,ff,:], color=colors[ff], linestyle=':', alpha=0.75)\n",
    "\n",
    "    ax.legend()\n",
    "    ax.set_title('50%% confidence intervals of the %d best samples \\nusing realizations medians, lmax=%d'\n",
    "                % (nbest, lmax))\n",
    "    return fig\n",
    "\n",
    "fig = plot_Cl_medians(lvals, Cl_best, lmax)"
   ]
  },
  {
   "cell_type": "code",
   "execution_count": null,
   "metadata": {},
   "outputs": [],
   "source": [
    "fig, ax = plot.figax(figsize=(8,5), xlabel='$\\ell$', ylabel='$C_\\ell$', xscale='linear')\n",
    "\n",
    "xx = lvals # (l)\n",
    "yy = Cl_best # (B,F,R,l)\n",
    "yy = np.median(yy, axis=2) # (B,F,l)\n",
    "\n",
    "# choose a frequency \n",
    "ff = fidx # f=1/yr\n",
    "label= ('$f$ = %.2f nHz = %.2f /yr' % (fobs_nHz[ff], fobs_yrs[ff]))\n",
    "yy = yy[:,ff,:] # (B,l)\n",
    "\n",
    "colors = cm.rainbow(np.linspace(1, 0, 31))\n",
    "ax.plot(xx, np.median(yy, axis=0), color=colors[ff], label=label, lw='3')\n",
    "for pp in [50, 98]:\n",
    "    percs = pp/2\n",
    "    percs = [50-percs, 50+percs]\n",
    "    ax.fill_between(xx, *np.percentile(yy, percs, axis=0), alpha=0.25, color=colors[ff])\n",
    "\n",
    "colors = cm.rainbow(np.linspace(0,1,nshow))\n",
    "for bb in range(nshow):\n",
    "    ax.plot(xx, yy[bb,:], color=colors[bb], linestyle=':', alpha=0.75)\n",
    "ax.legend()\n",
    "ax.set_title('50%% and 98%% Confidence Intervals of the %d Best Samples, \\nusing median among realizations, lmax=%d' % (nbest, lmax))"
   ]
  },
  {
   "attachments": {},
   "cell_type": "markdown",
   "metadata": {},
   "source": [
    "#### plot_ClC0_medians"
   ]
  },
  {
   "cell_type": "code",
   "execution_count": null,
   "metadata": {},
   "outputs": [],
   "source": [
    "def plot_ClC0_medians(lvals, Cl_best, lmax):\n",
    "    fig, ax = plot.figax(figsize=(8,5), xlabel='$\\ell$', ylabel='$C_\\ell/C_0$', xscale='linear')\n",
    "\n",
    "    xx = lvals[1:] # (l)\n",
    "    yy = Cl_best[:,:,:,1:]/Cl_best[:,:,:,0,np.newaxis] # (B,F,R,l)\n",
    "    yy = np.median(yy, axis=2) # (F,R,l)\n",
    "\n",
    "    colors = cm.rainbow(np.linspace(1, 0, nfreqs+1))\n",
    "    for ff in (np.arange(0,nfreqs,8)):\n",
    "        label= ('$f$ = %.2f nHz = %.2f /yr' % (fobs_nHz[ff], fobs_yrs[ff]))\n",
    "        ax.plot(xx, np.median(yy[:,ff,:], axis=0), color=colors[ff], label=label,\n",
    "                linewidth=4)\n",
    "        for pp in [50,]:\n",
    "            percs = pp/2\n",
    "            percs = [50-percs, 50+percs]\n",
    "            ax.fill_between(xx, *np.percentile(yy[:,ff,:], percs, axis=0), alpha=0.25, color=colors[ff],\n",
    "                            linestyle='solid', linewidth=3)\n",
    "        for bb in range(nshow):\n",
    "            ax.plot(xx, yy[bb,ff,:], color=colors[ff], linestyle=':', alpha=0.75)\n",
    "\n",
    "    fig.legend(ncol=3, bbox_to_anchor=(-.01,-.27), \n",
    "            bbox_transform=ax.transAxes, loc='lower left')\n",
    "    ax.set_title('50%% confidence intervals of the %d best samples \\nusing realizations medians, lmax=%d'\n",
    "                % (nbest, lmax))\n",
    "    fig.tight_layout()\n",
    "    return fig\n",
    "\n",
    "fig = plot_ClC0_medians(lvals, Cl_best, lmax)"
   ]
  },
  {
   "cell_type": "code",
   "execution_count": null,
   "metadata": {},
   "outputs": [],
   "source": [
    "fig, ax = plot.figax(figsize=(8,5), xlabel='$\\ell$', ylabel='$C_\\ell/C_0$', xscale='linear')\n",
    "\n",
    "xx = lvals[1:] # (l)\n",
    "yy = Cl_best[:,:,:,1:]/Cl_best[:,:,:,0,np.newaxis] # (B,F,R,l)\n",
    "yy = np.median(yy, axis=2) # (B,F,l)\n",
    "\n",
    "# choose a frequency \n",
    "ff = fidx # f=1/yr\n",
    "label= ('$f$ = %.2f nHz = %.2f /yr' % (fobs_nHz[ff], fobs_yrs[ff]))\n",
    "yy = yy[:,ff,:] # (B,l)\n",
    "\n",
    "colors = cm.rainbow(np.linspace(1, 0, 31))\n",
    "ax.plot(xx, np.median(yy, axis=0), color=colors[ff], label=label, lw=4)\n",
    "for pp in [50, 98]:\n",
    "    percs = pp/2\n",
    "    percs = [50-percs, 50+percs]\n",
    "    ax.fill_between(xx, *np.percentile(yy, percs, axis=0), alpha=0.25, color=colors[ff])\n",
    "\n",
    "colors = cm.rainbow(np.linspace(0,1,nbest))\n",
    "for bb in range(nbest):\n",
    "    ax.plot(xx, yy[bb,:], color=colors[bb], linestyle=':', alpha=0.75)\n",
    "ax.legend()\n",
    "ax.set_title('50%% and 98%% Confidence Intervals of the %d Best Samples, \\nusing median among realizations' % (nbest))"
   ]
  },
  {
   "attachments": {},
   "cell_type": "markdown",
   "metadata": {},
   "source": [
    "Find medium, small, and large anistotropy runs among these 100 samples"
   ]
  },
  {
   "cell_type": "code",
   "execution_count": null,
   "metadata": {},
   "outputs": [],
   "source": []
  },
  {
   "attachments": {},
   "cell_type": "markdown",
   "metadata": {},
   "source": [
    "#### plot_Clg0_medians"
   ]
  },
  {
   "cell_type": "code",
   "execution_count": null,
   "metadata": {},
   "outputs": [],
   "source": [
    "def plot_Clg0_medians(Cl_best, lmax):\n",
    "    fig, ax = plot.figax(figsize=(8,5), xlabel=plot.LABEL_GW_FREQUENCY_YR, ylabel='$C_{\\ell>0}/C_0$')\n",
    "\n",
    "    xx = fobs_yrs\n",
    "    yy = np.sum(Cl_best[:,:,:,1:], axis=-1)/Cl_best[:,:,:,0,] # (B,F,R)\n",
    "    yy = np.median(yy, axis=-1) # (B,F) median over realizations\n",
    "\n",
    "    ax.plot(xx, np.median(yy, axis=0), color='k')\n",
    "    for pp in [50, 98]:\n",
    "        percs = pp/2\n",
    "        percs = [50-percs, 50+percs]\n",
    "        ax.fill_between(xx, *np.percentile(yy, percs, axis=0), alpha=0.2, color='k')\n",
    "\n",
    "    colors = cm.rainbow(np.linspace(1, 0, nshow))\n",
    "    for bb in range(nshow):\n",
    "        ax.plot(xx, yy[bb,:], color=colors[bb], linestyle=':', alpha=0.75,\n",
    "                linewidth=2)\n",
    "    ax.legend()\n",
    "    ax.set_title('50%% and 98%% confidence intervals of the %d best samples \\nusing realizations medians, lmax=%d'\n",
    "                % (nbest, lmax))\n",
    "    return fig\n",
    "fig = plot_Clg0_medians(Cl_best, lmax)"
   ]
  },
  {
   "cell_type": "code",
   "execution_count": null,
   "metadata": {},
   "outputs": [],
   "source": [
    "fig, ax = plot.figax(figsize=(8,5), xlabel=plot.LABEL_GW_FREQUENCY_YR, ylabel='$C_{\\ell>0}/C_0$')\n",
    "\n",
    "xx = fobs_yrs\n",
    "yy = np.sum(Cl_best[:,:,:,1:], axis=-1)/Cl_best[:,:,:,0,] # (B,F,R)\n",
    "\n",
    "colors = cm.rainbow(np.linspace(1, 0, 5))\n",
    "rr=0\n",
    "for bb in range(5):\n",
    "    # label= ('$f$ = %.2f nHz = %.2f /yr' % (fobs_nHz[ff], fobs_yrs[ff]))\n",
    "    label='p = %d' % nsort[bb]\n",
    "    ax.plot(xx, np.median(yy[bb,:,:], axis=-1), color=colors[bb], label=label)\n",
    "    for pp in [50, 98]:\n",
    "        percs = pp/2\n",
    "        percs = [50-percs, 50+percs]\n",
    "        ax.fill_between(xx, *np.percentile(yy[bb,:,:], percs, axis=-1), alpha=0.25, color=colors[bb])\n",
    "ax.legend()\n",
    "ax.set_title('50%% and 98%% confidence intervals from %d realizations of the %d best samples' % (nreals,5))"
   ]
  },
  {
   "attachments": {},
   "cell_type": "markdown",
   "metadata": {},
   "source": [
    "# Look at 1 sample, more closely"
   ]
  },
  {
   "cell_type": "code",
   "execution_count": null,
   "metadata": {},
   "outputs": [],
   "source": [
    "bb = 0 # best sample\n",
    "nn = nsort[bb]\n",
    "rr = 0\n",
    "print(Cl_best.shape)\n",
    "print(nn)"
   ]
  },
  {
   "cell_type": "code",
   "execution_count": null,
   "metadata": {},
   "outputs": [],
   "source": []
  },
  {
   "cell_type": "code",
   "execution_count": null,
   "metadata": {},
   "outputs": [],
   "source": [
    "fig1 = plot_Cl(Cl_best[bb,:,rr,:], lvals, fobs_nHz, ff_labels=(0,9,19,29,39))\n",
    "fig1.axes[0].set_title('Sample %d, Realization %d' % (nn,rr))\n",
    "\n",
    "fig2 = plot_ClC0(Cl_best[bb,:,rr,:], lvals, fobs_nHz, ff_labels=(0,9,19,29,39))\n",
    "fig2.axes[0].set_title('Sample %d, Realization %d' % (nn,rr))\n",
    "\n",
    "fig3 = plot_llp1Cl(Cl_best[bb,:,rr,:], lvals, fobs_nHz, ff_labels=(0,9,19,29,39))\n",
    "fig3.axes[0].set_title('Sample %d, Realization %d' % (nn,rr))\n",
    "\n",
    "fig4 = plot_Clg0(Cl_best[bb,:,:,:], fobs)"
   ]
  },
  {
   "attachments": {},
   "cell_type": "markdown",
   "metadata": {},
   "source": [
    "## Look at 3 cases, highest, lowest, and middle anisotropy"
   ]
  },
  {
   "cell_type": "code",
   "execution_count": null,
   "metadata": {},
   "outputs": [],
   "source": [
    "ClC0_ratio = Cl_best[:,:,:,1:]/Cl_best[:,:,:,0,np.newaxis] # (B,F,R,l)\n",
    "ClC0_mean = np.mean(ClC0_ratio, axis = (1,2,3)) # just one value for each 'best' sample, to quantify total anisotropy\n",
    "fig, ax = plot.figax(xscale='linear', xlabel='best sample', ylabel='mean $C_\\ell/C_0$')\n",
    "ax.scatter(np.arange(nbest), ClC0_mean)\n",
    "ax.set_title('mean $C_\\ell/C_0$ of all frequencies, realizations, and $\\ell>0$')"
   ]
  },
  {
   "attachments": {},
   "cell_type": "markdown",
   "metadata": {},
   "source": [
    "Find min, middle, max anisotropy samples"
   ]
  },
  {
   "cell_type": "code",
   "execution_count": null,
   "metadata": {},
   "outputs": [],
   "source": [
    "def argmedian(arr, side='both'):\n",
    "    if len(arr) % 2 == 1:\n",
    "        return np.where(arr == np.median(arr))[0][0]\n",
    "    else:\n",
    "        ll,rr = len(arr) // 2 - 1, len(arr) // 2\n",
    "        left = np.partition(arr, ll)[ll]\n",
    "        right = np.partition(arr, rr)[rr]\n",
    "        if(side=='both'):\n",
    "            return [np.where(arr == left)[0][0], np.where(arr == right)[0][0]]\n",
    "        elif(side=='left'):\n",
    "            return np.where(arr == left)[0][0]\n",
    "        elif(side=='right'):\n",
    "            return np.where(arr==right)[0][0]\n",
    "        else:\n",
    "            raise Exception(\"'side' must be one of 'both', 'left', or 'right'.\")\n",
    "\n",
    "bb_min = np.argmin(ClC0_mean)\n",
    "bb_max = np.argmax(ClC0_mean)\n",
    "bb_med = argmedian(ClC0_mean, side='left')\n",
    "nn_min, nn_max, nn_med = nsort[bb_min], nsort[bb_max], nsort[bb_med]\n",
    "print('Min: Sample %d, Median: Sample %d, Max: Sample %d' % (nn_min, nn_med, nn_max))"
   ]
  },
  {
   "attachments": {},
   "cell_type": "markdown",
   "metadata": {},
   "source": [
    "## Plot_Cl_reals"
   ]
  },
  {
   "cell_type": "code",
   "execution_count": null,
   "metadata": {},
   "outputs": [],
   "source": [
    "def plot_Cl_reals(lvals, Cl, lmax, bb):\n",
    "    fig, ax = plot.figax(figsize=(8,5), xlabel='$\\ell$', ylabel='$C_\\ell$', xscale='linear')\n",
    "    \n",
    "    xx = lvals # (l)\n",
    "    yy = Cl # (F,R,l)\n",
    "\n",
    "    ff_arr = np.arange(1, nfreqs, 8)\n",
    "    \n",
    "    draw_freq_reals(ax, xx, yy, ff_arr)\n",
    "    ax.legend()\n",
    "    ax.set_title('Sample %d: 50%% and 98%% confidence intervals of the %d realizations, lmax=%d'\n",
    "                % (nsort[bb], nreals, lmax))\n",
    "    return fig\n",
    "\n",
    "def draw_freq_reals(ax, xx, yy, ff_arr, nshow=10, civals = [50, 98], rlabel='',\n",
    "                ):\n",
    "    \"\"\" draw realization for a single sample at several frequencies, \n",
    "    \n",
    "    Parameters\n",
    "    ----------\n",
    "    ax\n",
    "    xx : (l) 1Darray\n",
    "    yy : (F,R,l) NDarray\n",
    "    nshow : integer\n",
    "        Number of realizations to plot\n",
    "    \"\"\"\n",
    "    \n",
    "    colors = cm.rainbow(np.linspace(1, 0, len(yy)+1))\n",
    "    for ff in ff_arr:\n",
    "        flabel= ('$f$ = %.2f nHz = %.2f /yr' % (fobs_nHz[ff], fobs_yrs[ff]))\n",
    "        draw_reals(ax, xx, yy[ff], nshow=nshow, civals = civals, color=colors[ff], flabel=flabel)\n",
    "\n",
    "def draw_reals(ax, xx, yy, nshow=10, civals = [50, 98], rlabel='', flabel='', color='k'):\n",
    "    \"\"\" draw realization for a single sample at several frequencies, \n",
    "    \n",
    "    Parameters\n",
    "    ----------\n",
    "    ax\n",
    "    xx : (l) 1Darray\n",
    "    yy : (R,l) NDarray\n",
    "    nshow : integer\n",
    "        Number of realizations to plot\n",
    "    \"\"\"\n",
    "    label= (rlabel+flabel)\n",
    "    ax.plot(xx, np.median(yy[:,:], axis=0), color=color, label=label,\n",
    "            linewidth=3, alpha=0.75)\n",
    "    for pp in civals:\n",
    "        percs = pp/2\n",
    "        percs = [50-percs, 50+percs]\n",
    "        ax.fill_between(xx, *np.percentile(yy[:,:], percs, axis=0), alpha=0.25, color=color)\n",
    "    for rr in range(nshow):\n",
    "        ax.plot(xx, yy[rr,:], color=color, linestyle=':', alpha=0.75)\n",
    "\n",
    "    \n",
    "\n",
    "fig = plot_Cl_reals(lvals, Cl_best[0], lmax, bb=0)\n",
    "fig = plot_Cl_reals(lvals, Cl_best[bb_med], lmax, bb=bb_med)"
   ]
  },
  {
   "attachments": {},
   "cell_type": "markdown",
   "metadata": {},
   "source": [
    "## Plot_ClC0_reals"
   ]
  },
  {
   "cell_type": "code",
   "execution_count": null,
   "metadata": {},
   "outputs": [],
   "source": [
    "def plot_ClC0_reals(lvals, Cl, lmax, bb):\n",
    "    fig, ax = plot.figax(figsize=(8,5), xlabel='$\\ell$', ylabel='$C_\\ell/C_0$', xscale='linear')\n",
    "    \n",
    "    xx = lvals[1:] # (l)\n",
    "    yy = Cl # (F,R,l)\n",
    "    yy = yy[:,:,1:]/yy[:,:,0,np.newaxis]\n",
    "\n",
    "    ff_arr = np.arange(1, nfreqs, 8)\n",
    "    \n",
    "    draw_freq_reals(ax, xx, yy, ff_arr, civals=[50,])\n",
    "    ax.legend()\n",
    "    ax.set_title('Sample %d: 50%% confidence intervals of the %d realizations, lmax=%d'\n",
    "                % (nsort[bb], nreals, lmax))\n",
    "    return fig\n",
    "\n",
    "    \n",
    "\n",
    "fig = plot_ClC0_reals(lvals, Cl_best[0], lmax, bb=0)\n",
    "fig = plot_ClC0_reals(lvals, Cl_best[bb_med], lmax, bb=bb_med)"
   ]
  },
  {
   "attachments": {},
   "cell_type": "markdown",
   "metadata": {},
   "source": [
    "## Plot Clg0_reals"
   ]
  },
  {
   "cell_type": "code",
   "execution_count": null,
   "metadata": {},
   "outputs": [],
   "source": [
    "def plot_Clg0_reals(Cl, lmax, bb):\n",
    "    fig, ax = plot.figax(figsize=(8,5), xlabel=plot.LABEL_GW_FREQUENCY_YR, ylabel='$C_{\\ell>0}/C_0$')\n",
    "\n",
    "    xx = fobs_yrs\n",
    "    yy = np.sum(Cl[:,:,1:], axis=-1)/Cl[:,:,0,] # (F,R)\n",
    "\n",
    "        # label= ('$f$ = %.2f nHz = %.2f /yr' % (fobs_nHz[ff], fobs_yrs[ff]))\n",
    "    ax.plot(xx, np.median(yy[:,:], axis=1), color='k')\n",
    "    for pp in [50, 98]:\n",
    "        percs = pp/2\n",
    "        percs = [50-percs, 50+percs]\n",
    "        ax.fill_between(xx, *np.percentile(yy[:,:], percs, axis=1), alpha=0.15, color='k')\n",
    "\n",
    "    for rr in range(20):\n",
    "        ax.plot(xx, yy[:,rr], linestyle=':', alpha=0.75)\n",
    "    ax.legend()\n",
    "    ax.set_title('Sample %d: 50%% and 98%% confidence intervals from %d realizations, lmax=%d' % (nsort[bb], nreals, lmax)) \n",
    "    return fig\n",
    "\n",
    "fig = plot_Clg0_reals(Cl_best[0], lmax, bb=0)\n",
    "fig = plot_Clg0_reals(Cl_best[bb_med], lmax, bb=bb_med)"
   ]
  },
  {
   "attachments": {},
   "cell_type": "markdown",
   "metadata": {},
   "source": [
    "## Plot Cl for min, med, max anisotropy"
   ]
  },
  {
   "attachments": {},
   "cell_type": "markdown",
   "metadata": {},
   "source": [
    "Cl_min_max_med using overall mean selection"
   ]
  },
  {
   "cell_type": "code",
   "execution_count": null,
   "metadata": {},
   "outputs": [],
   "source": [
    "def Cl_min_max_med(lvals, Cl_best, bb_min, bb_med, bb_max, title='', ff=fidx):\n",
    "    fig, ax = plot.figax(figsize=(8,5), xlabel='$\\ell$', ylabel='$C_\\ell$', xscale='linear')\n",
    "\n",
    "    xx = lvals # (l)\n",
    "    y1 = Cl_best[bb_min] # (F,R,l)\n",
    "    y2 = Cl_best[bb_med] # (F,R,l)\n",
    "    y3 = Cl_best[bb_max] # (F,R,l)\n",
    "    y4 = Cl_best[0] # (F,R,l)\n",
    "    print(Cl_best.shape)\n",
    "    print(y2.shape)\n",
    "\n",
    "    draw_reals(ax, xx, y1[ff], rlabel='min (sample %d), ' % nn_min, flabel = ('%.2f $yr^{-1}$' % fobs_yrs[ff]),\n",
    "            nshow=nshow, civals = [50,], color='tab:blue')\n",
    "    draw_reals(ax, xx, y2[ff], rlabel='med (sample %d), ' % nn_med, flabel = ('%.2f $yr^{-1}$' % fobs_yrs[ff]),\n",
    "            nshow=nshow, civals = [50,], color='tab:orange')\n",
    "    draw_reals(ax, xx, y3[ff], rlabel='max (sample %d), ' % nn_max, flabel = ('%.2f $yr^{-1}$' % fobs_yrs[ff]),\n",
    "            nshow=nshow, civals = [50,], color='tab:green')\n",
    "    draw_reals(ax, xx, y4[ff], rlabel='best (sample %d), ' % nsort[0], flabel = ('%.2f $yr^{-1}$' % fobs_yrs[ff]),\n",
    "            nshow=nshow, civals = [50,], color='tab:grey')\n",
    "    ax.legend()\n",
    "    ax.set_title(title)\n",
    "    return fig\n",
    "\n",
    "title = ('50%% confidence intervals of %d realizations, lmax=%d\\nSelected by mean $C_l/C_0$ over all freqs'\n",
    "                % (nreals, lmax))\n",
    "fig = Cl_min_max_med(lvals, Cl_best, bb_min, bb_med, bb_max, title=title, ff=ff)\n"
   ]
  },
  {
   "attachments": {},
   "cell_type": "markdown",
   "metadata": {},
   "source": [
    "## Plot Cl/C0 for min, med, max"
   ]
  },
  {
   "cell_type": "code",
   "execution_count": null,
   "metadata": {},
   "outputs": [],
   "source": [
    "def ClC0_min_max_med(lvals, Cl_best, bb_min, bb_med, bb_max, title='', ff=fidx):\n",
    "    fig, ax = plot.figax(figsize=(8,5), xlabel='$\\ell$', ylabel='$C_\\ell/C_0$', xscale='linear')\n",
    "\n",
    "    xx = lvals[1:] # (l)\n",
    "    y1 = Cl_best[bb_min] # (F,R,l)\n",
    "    y2 = Cl_best[bb_med] # (F,R,l)\n",
    "    y3 = Cl_best[bb_max] # (F,R,l)\n",
    "    y4 = Cl_best[nsort[0]] # (F,R,l)\n",
    "\n",
    "\n",
    "    y1 = y1[:,:,1:]/y1[:,:,0,np.newaxis] # (F,R,l)\n",
    "    y2 = y2[:,:,1:]/y2[:,:,0,np.newaxis]\n",
    "    y3 = y3[:,:,1:]/y3[:,:,0,np.newaxis]\n",
    "    y4 = y4[:,:,1:]/y4[:,:,0,np.newaxis]\n",
    "\n",
    "    draw_reals(ax, xx, y1[ff], rlabel='min (sample %d), ' % nn_min, flabel = ('%.2f $yr^{-1}$' % fobs_yrs[ff]),\n",
    "            nshow=nshow, civals = [50,98,], color='tab:blue')\n",
    "    draw_reals(ax, xx, y2[ff], rlabel='med (sample %d), ' % nn_med, flabel = ('%.2f $yr^{-1}$' % fobs_yrs[ff]),\n",
    "            nshow=nshow, civals = [50,98,], color='tab:orange')\n",
    "    draw_reals(ax, xx, y3[ff], rlabel='max (sample %d), ' % nn_max, flabel = ('%.2f $yr^{-1}$' % fobs_yrs[ff]),\n",
    "            nshow=nshow, civals = [50,98,], color='tab:green')\n",
    "    draw_reals(ax, xx, y4[ff], rlabel='max (sample %d), ' % nn_max, flabel = ('%.2f $yr^{-1}$' % fobs_yrs[ff]),\n",
    "            nshow=nshow, civals = [50,98,], color='tab:grey')\n",
    "    ax.legend()\n",
    "    ax.set_title(title)\n",
    "    return fig\n",
    "\n",
    "title = ('50%% and 98%% confidence intervals of %d realizations, lmax=%d\\nSelected by mean $C_l/C_0$ over all freqs'\n",
    "                % (nreals, lmax))\n",
    "fig = ClC0_min_max_med(lvals, Cl_best, bb_min, bb_med, bb_max,title=title, ff=fidx)\n"
   ]
  },
  {
   "attachments": {},
   "cell_type": "markdown",
   "metadata": {},
   "source": [
    "## Plot Clg0 for min, max, med"
   ]
  },
  {
   "cell_type": "code",
   "execution_count": null,
   "metadata": {},
   "outputs": [],
   "source": [
    "def Clg0_min_max_med(lvals, Cl_best, bb_min, bb_med, bb_max, title='', ff=fidx):\n",
    "    fig, ax = plot.figax(figsize=(8,5), xlabel='$f$ [yrs$^{-1}$]', ylabel='$C_{\\ell>0}/C_0$')\n",
    "\n",
    "    xx = fobs_yrs # (l)\n",
    "    y1 = Cl_best[bb_min] # (F,R,l)\n",
    "    y2 = Cl_best[bb_med] # (F,R,l)\n",
    "    y3 = Cl_best[bb_max] # (F,R,l)\n",
    "    y4 = Cl_best[nsort[0]] # (F,R,l)\n",
    "\n",
    "    y1 = np.sum(y1[:,:,1:], axis=-1)/y1[:,:,0] # (F,R,l)\n",
    "    y2 = np.sum(y2[:,:,1:], axis=-1)/y2[:,:,0] \n",
    "    y3 = np.sum(y3[:,:,1:], axis=-1)/y3[:,:,0] \n",
    "    y4 = np.sum(y4[:,:,1:], axis=-1)/y4[:,:,0] \n",
    "    \n",
    "    y1=np.swapaxes(y1,0,1)\n",
    "    y2=np.swapaxes(y2,0,1)\n",
    "    y3=np.swapaxes(y3,0,1)\n",
    "    y4=np.swapaxes(y4,0,1)\n",
    "\n",
    "    draw_reals(ax, xx, y1, rlabel='min (sample %d), ' % nn_min, \n",
    "            nshow=nshow, civals = [50,98,], color='tab:blue')\n",
    "    draw_reals(ax, xx, y2, rlabel='med (sample %d), ' % nn_med, \n",
    "            nshow=nshow, civals = [50,98,], color='tab:orange')\n",
    "    draw_reals(ax, xx, y3, rlabel='max (sample %d), ' % nn_max, \n",
    "            nshow=nshow, civals = [50,98,], color='tab:green')\n",
    "    draw_reals(ax, xx, y4, rlabel='max (sample %d), ' % nsort[0], \n",
    "            nshow=nshow, civals = [50,98,], color='tab:gray')\n",
    "    ax.legend()\n",
    "    ax.set_title(title)\n",
    "    return fig\n",
    "\n",
    "title = ('50%% and 98%% confidence intervals of %d realizations, lmax=%d\\nSelected by mean $C_l/C_0$ over all freqs'\n",
    "                % (nreals, lmax))\n",
    "fig = Clg0_min_max_med(lvals, Cl_best, bb_min, bb_med, bb_max,title=title, ff=fidx)\n",
    "\n",
    "\n"
   ]
  },
  {
   "attachments": {},
   "cell_type": "markdown",
   "metadata": {},
   "source": [
    "## Plot Clvf for med only"
   ]
  },
  {
   "cell_type": "code",
   "execution_count": null,
   "metadata": {},
   "outputs": [],
   "source": [
    "def Clvf_med(lvals, Cl_best, bb_min, bb_med, bb_max, title='', ff=fidx):\n",
    "    fig, ax = plot.figax(figsize=(8,5), xlabel='$f$ [yrs$^{-1}$]', ylabel='$C_{\\ell}$')\n",
    "\n",
    "    xx = fobs_yrs # (F)\n",
    "    yy = Cl_best[bb_med] # (F,R,l)\n",
    "    yy = np.swapaxes(yy, 0, 2) # (l,R,F)\n",
    "\n",
    "\n",
    "    colors=np.array(['','#0a5da4', '#00ba44', '#ff9503',\n",
    "                     '#ff471a', '#845b98', '#474747'])\n",
    "\n",
    "    for ll in range(1,7):\n",
    "        draw_reals(ax, xx, yy[ll], rlabel=('$\\ell=%d$' % ll),\n",
    "                   nshow=nshow, civals=[50,], color=colors[ll])\n",
    "\n",
    "    ax.legend(ncols=3)\n",
    "    ax.set_title(title)\n",
    "    return fig\n",
    "\n",
    "title = ('Sample %d (Median of mean($C_\\ell/C_0$))\\n50%% confidence intervals of %d realizations'\n",
    "                % (nn_med, nreals))\n",
    "fig = Clvf_med(lvals, Cl_best, bb_min, bb_med, bb_max,title=title, ff=fidx)\n",
    "\n",
    "\n"
   ]
  },
  {
   "cell_type": "code",
   "execution_count": null,
   "metadata": {},
   "outputs": [],
   "source": [
    "def Clvf_1real(lvals, Cl_best, bb_min, bb_med, bb_max, ff=fidx, rr=0):\n",
    "    fig, ax = plot.figax(figsize=(8,5), xlabel='$f$ [yrs$^{-1}$]', ylabel='$C_\\ell$')\n",
    "\n",
    "    xx = fobs_yrs # (F)\n",
    "    yy = Cl_best[bb_med] # (F,R,l)\n",
    "    yy = np.swapaxes(yy, 0, 2) # (l,R,F)\n",
    "\n",
    "\n",
    "    colors=np.array(['','#0a5da4', '#00ba44', '#ff9503',\n",
    "                     '#ff471a', '#845b98', '#474747'])\n",
    "    for ll in range(1,7):\n",
    "        ax.plot(xx, yy[ll,rr], label=('$\\ell=%d$' % ll), color=colors[ll], marker='o', linestyle='-')\n",
    "\n",
    "    ax.legend(ncols=3)\n",
    "    title = ('Sample %d (Median of mean($C_\\ell/C_0$))\\n%dth Realization'\n",
    "                % (nn_med, rr))\n",
    "    ax.set_title(title)\n",
    "    return fig\n",
    "\n",
    "for rr in range(0,1):\n",
    "    fig = Clvf_1real(lvals, Cl_best, bb_min, bb_med, bb_max, ff=fidx, rr=rr)\n",
    "\n",
    "\n"
   ]
  },
  {
   "cell_type": "code",
   "execution_count": null,
   "metadata": {},
   "outputs": [],
   "source": [
    "def ClC0vf_med(lvals, Cl_best, bb_min, bb_med, bb_max, title='', ff=fidx):\n",
    "    fig, ax = plot.figax(figsize=(8,5), xlabel='$f$ [yrs$^{-1}$]', ylabel='$C_{\\ell}/C_0$')\n",
    "\n",
    "    xx = fobs_yrs # (F)\n",
    "    yy = Cl_best[bb_med,:,:,1:]/Cl_best[bb_med,:,:,0,np.newaxis] # (F,R,l)\n",
    "    yy = np.swapaxes(yy, 0, 2) # (l,R,F)\n",
    "\n",
    "\n",
    "    colors=np.array(['','#0a5da4', '#00ba44', '#ff9503',\n",
    "                     '#ff471a', '#845b98', '#474747'])\n",
    "\n",
    "    for ll in range(1,7):\n",
    "        draw_reals(ax, xx, yy[ll], rlabel=('$\\ell=%d$' % ll),\n",
    "                   nshow=nshow, civals=[50,], color=colors[ll])\n",
    "\n",
    "    ax.legend(ncols=3)\n",
    "    ax.set_title(title)\n",
    "    return fig\n",
    "\n",
    "title = ('Sample %d (Median of mean($C_\\ell/C_0$))\\n50%% confidence intervals of %d realizations'\n",
    "                % (nn_med, nreals))\n",
    "fig = ClC0vf_med(lvals, Cl_best, bb_min, bb_med, bb_max,title=title, ff=fidx)\n",
    "\n",
    "\n"
   ]
  },
  {
   "cell_type": "code",
   "execution_count": null,
   "metadata": {},
   "outputs": [],
   "source": [
    "def ClC0vf_1real(lvals, Cl_best, bb_min, bb_med, bb_max, ff=fidx, rr=0):\n",
    "    fig, ax = plot.figax(figsize=(8,5), xlabel='$f$ [yrs$^{-1}$]', ylabel='$C_\\ell/C_0$')\n",
    "\n",
    "    xx = fobs_yrs # (F)\n",
    "    yy = Cl_best[bb_med] # (F,R,l)\n",
    "    yy = yy[:,:,1:]/yy[:,:,0,np.newaxis]\n",
    "    yy = np.swapaxes(yy, 0, 2) # (l,R,F)\n",
    "\n",
    "\n",
    "    colors=np.array(['','#0a5da4', '#00ba44', '#ff9503',\n",
    "                     '#ff471a', '#845b98', '#474747'])\n",
    "    for ll in range(1,7):\n",
    "        ax.plot(xx, yy[ll,rr], label=('$\\ell=%d$' % ll), color=colors[ll], marker='o', linestyle='-')\n",
    "\n",
    "    ax.legend(ncols=3)\n",
    "    title = ('Sample %d (Median of mean($C_\\ell/C_0$))\\n%dth Realization'\n",
    "                % (nn_med, rr))\n",
    "    ax.set_title(title)\n",
    "    return fig\n",
    "\n",
    "for rr in range(0,1):\n",
    "    fig = ClC0vf_1real(lvals, Cl_best, bb_min, bb_med, bb_max, ff=fidx, rr=rr)\n",
    "\n",
    "\n"
   ]
  },
  {
   "attachments": {},
   "cell_type": "markdown",
   "metadata": {},
   "source": [
    "# Compare to Nihan's Plot"
   ]
  },
  {
   "cell_type": "code",
   "execution_count": null,
   "metadata": {},
   "outputs": [],
   "source": [
    "def ClC0_double(lvals, Cl_best, bb_min, bb_med, bb_max, ff=fidx, rr=0):\n",
    "    fig, (ax1,ax2) = plot.figax(figsize=(10,4), ncols=2, nrows=1, \n",
    "                                sharey=True, xscale='linear', yscale='linear')\n",
    "\n",
    "    x1 = lvals[1:7]\n",
    "    x2 = fobs[0:7] # (F)\n",
    "    yy = Cl_best[bb_med,0:7,:,:] # (F,R,l)\n",
    "    y1 = yy[:,:,1:7]/yy[:,:,0,np.newaxis] # (F,R,l)\n",
    "    y2 = yy[:,:,0:7]/yy[:,:,0,np.newaxis] # (F,R,l)\n",
    "    y2 = np.swapaxes(y2, 0, 2) # (l,R,F)\n",
    "\n",
    "    print(x1.shape, y1.shape, x2.shape, y2.shape)\n",
    "\n",
    "    colors=np.array(['brown','#0a5da4', '#00ba44', '#ff9503',\n",
    "                     '#ff471a', '#845b98', '#474747'])\n",
    "    for ff in range(0,7):\n",
    "        ax1.plot(x1, y1[ff,rr], label=('$f=%.2f$ nHz' % fobs_nHz[ff]), color=colors[ff], marker='o', linestyle='-')\n",
    "    for ll in range(1,7):\n",
    "        ax2.plot(x2, y2[ll,rr], label=('$\\ell=%d$' % ll), color=colors[ll], marker='o', linestyle='-')\n",
    "\n",
    "    ax1.legend(loc='upper right', fontsize=8)\n",
    "    ax1.set_xlabel('$\\ell$')\n",
    "    ax1.set_ylabel('$C_\\ell/C_0$')\n",
    "    ax1.set_ylim(0,0.15)\n",
    "\n",
    "\n",
    "    ax2.legend(ncols=3, loc='upper right', fontsize=8)\n",
    "    ax2.set_xlabel('f [Hz]')\n",
    "    ax2.set_xlim(0.2e-8, 1.0e-8)\n",
    "\n",
    "    title = ('Sample %d (Median of mean($C_\\ell/C_0$))\\n%dth Realization'\n",
    "                % (nn_med, rr))\n",
    "    fig.suptitle(title)\n",
    "    fig.tight_layout()\n",
    "    return fig\n",
    "\n",
    "for rr in range(0,10):\n",
    "    fig = ClC0_double(lvals, Cl_best, bb_min, bb_med, bb_max, ff=fidx, rr=rr)\n",
    "\n",
    "\n"
   ]
  },
  {
   "cell_type": "code",
   "execution_count": null,
   "metadata": {},
   "outputs": [],
   "source": [
    "print(fobs*10**8)\n",
    "ff_trunc = fobs[0:7]\n",
    "print(ff_trunc*10**8)"
   ]
  },
  {
   "attachments": {},
   "cell_type": "markdown",
   "metadata": {},
   "source": [
    "### Select min, med, max just for this frequency bin"
   ]
  },
  {
   "cell_type": "code",
   "execution_count": null,
   "metadata": {},
   "outputs": [],
   "source": [
    "bb_max = np.argmax(ClC0_mean)\n",
    "bb_med = argmedian(ClC0_mean, side='left')\n",
    "nn_min, nn_max, nn_med = nsort[bb_min], nsort[bb_max], nsort[bb_med]\n",
    "print('Min: Sample %d, Median: Sample %d, Max: Sample %d' % (nn_min, nn_med, nn_max))"
   ]
  },
  {
   "cell_type": "code",
   "execution_count": null,
   "metadata": {},
   "outputs": [],
   "source": [
    "# nside = NSIDE\n",
    "# npix = hp.nside2npix(nside)\n",
    "# lmax6 = 6\n",
    "# lvals6 = np.arange(lmax6+1)\n",
    "# nbest6 = 10\n",
    "# Cl_best6 = np.zeros((nbest, nfreqs, nreals, lmax6+1 ))\n",
    "# moll_hc_best6 = np.zeros((nbest6, nfreqs, nreals, npix))\n",
    "# for nn in range(nbest):\n",
    "#     print('on nn=%d out of nbest=%d' % (nn,nbest))\n",
    "#     moll_hc_best6[nn,...], Cl_best6[nn,...] = sph_harm_from_hc(hc_ss[nsort[nn]], \n",
    "#                                             hc_bg[nsort[nn]],\n",
    "#                                             nside=nside, lmax=lmax6)"
   ]
  },
  {
   "attachments": {},
   "cell_type": "markdown",
   "metadata": {},
   "source": [
    "<!-- ### Plot Results -->"
   ]
  },
  {
   "cell_type": "code",
   "execution_count": null,
   "metadata": {},
   "outputs": [],
   "source": [
    "# fig1 = plot_Cl_medians(lvals6, Cl_best6, lmax6)\n",
    "# fig2 = plot_ClC0_medians(lvals6, Cl_best6, lmax6)\n",
    "# fig3 = plot_Clg0_medians(Cl_best6, lmax6)"
   ]
  },
  {
   "cell_type": "code",
   "execution_count": null,
   "metadata": {},
   "outputs": [],
   "source": [
    "# fig, ax = plot.figax(figsize=(8,5), xlabel=plot.LABEL_GW_FREQUENCY_YR, ylabel='$C_{\\ell>0}/C_0$')\n",
    "\n",
    "# xx = fobs_yrs\n",
    "# yy = np.sum(Cl_best6[:,:,:,1:], axis=-1)/Cl_best6[:,:,:,0,] # (B,F,R)\n",
    "\n",
    "# colors = cm.rainbow(np.linspace(1, 0, 5))\n",
    "# bb=0\n",
    "#     # label= ('$f$ = %.2f nHz = %.2f /yr' % (fobs_nHz[ff], fobs_yrs[ff]))\n",
    "# ax.plot(xx, np.median(yy[bb,:,:], axis=1), color='k')\n",
    "# for pp in [50, 98]:\n",
    "#     percs = pp/2\n",
    "#     percs = [50-percs, 50+percs]\n",
    "#     ax.fill_between(xx, *np.percentile(yy[bb,:,:], percs, axis=1), alpha=0.15, color='k')\n",
    "\n",
    "# for rr in range(20):\n",
    "#     ax.plot(xx, yy[bb,:,rr], linestyle=':', alpha=0.75)\n",
    "# ax.legend()\n",
    "# ax.set_title('50%% and 98%% confidence intervals from %d realizations of the %dth samples\\nlmax=%d' % (nreals,nsort[bb], lmax6))"
   ]
  },
  {
   "attachments": {},
   "cell_type": "markdown",
   "metadata": {},
   "source": [
    "# Using 12.5 yr data"
   ]
  },
  {
   "cell_type": "code",
   "execution_count": null,
   "metadata": {},
   "outputs": [],
   "source": [
    "# amp_ref12 = 1.53*10**-15\n",
    "# nsort12, fidx12, hc_tt12 = rank_samples(hc_ss, hc_bg, fobs, dfobs, amp_ref=amp_ref12, ret_all=True)\n",
    "# nbest = 25\n",
    "# hc_ref12 = amp_ref12 * np.sqrt(fobs[fidx]/dfobs[fidx])\n",
    "# print(hc_ref12)\n"
   ]
  },
  {
   "cell_type": "code",
   "execution_count": null,
   "metadata": {},
   "outputs": [],
   "source": [
    "# # amplitudes from sorting\n",
    "# fig, ax = plot.figax(figsize=(7,5), xlabel='Sample', ylabel='$h_{c,\\mathrm{tot}}(f=1/\\mathrm{yr})$',\n",
    "#                      xscale='linear')\n",
    "# ax.scatter(nsort12, hc_tt[nsort12], s=20, marker='o', c=np.arange(len(nsort)), \n",
    "#            cmap='jet_r')\n",
    "# ax.axhline(hc_ref12, label='12.5 yr ref: %.2e' % (hc_ref12), linestyle='dashed', color='tab:red', alpha=0.5)\n",
    "# # plt.scatter(np.arange(nsamps), hc_tt[nsort], s=3, label= r'15 yr ref: $A=$' + '%.2f' % amp_ref15)\n",
    "\n",
    "# plt.yscale('log')\n",
    "# plt.xlabel('Samples')\n",
    "# plt.ylabel('$h_c(f=1\\mathrm{yr}^{-1})$')\n",
    "# plt.legend()"
   ]
  },
  {
   "cell_type": "code",
   "execution_count": null,
   "metadata": {},
   "outputs": [],
   "source": [
    "# print(nsort12[:5])\n",
    "# for nn in nsort12[:5]:\n",
    "#     print('nn=%d' % nn)\n",
    "#     fig = plot.plot_bg_ss(fobs, hc_bg[nn], hc_ss[nn,:,:,:100]) # just 100 loudest, cant see more anyway\n",
    "#     ax = fig.axes[0]\n",
    "#     ax.axhline(hc_ref12, label='12.5 yr ref: %.2e' % (hc_ref12),\n",
    "#                 linestyle='dashed', color='tab:red', alpha=0.5)\n",
    "\n",
    "#     ax.axvline(1/10, color='k', alpha=0.5, linestyle='dashed', label='$f=1/10\\mathrm{yr}$')\n",
    "#     ax.set_title('Sample %d' % nn)\n",
    "#     ax.legend()"
   ]
  },
  {
   "cell_type": "code",
   "execution_count": null,
   "metadata": {},
   "outputs": [],
   "source": [
    "print(nfreqs)"
   ]
  },
  {
   "attachments": {},
   "cell_type": "markdown",
   "metadata": {},
   "source": [
    "# Maps for funsies"
   ]
  },
  {
   "cell_type": "code",
   "execution_count": null,
   "metadata": {},
   "outputs": [],
   "source": [
    "rr=0\n",
    "moll_hc = moll_hc_best[0]\n",
    "F=nfreqs\n",
    "L=nloudest\n",
    "\n",
    "fig, axs = plt.subplots(nrows=10, ncols=int(F/10))\n",
    "for ff in range(F):\n",
    "    title='$f$= %.2f yr$^{-1}$ (bin %d/%d)' % (fobs[ff]*YR, ff, F)\n",
    "    row, col = int(ff/3), ff%3\n",
    "    # print(row,col)\n",
    "    plt.axes(axs[row,col])\n",
    "    hp.mollview(moll_hc[ff,rr], title=title, hold=True)\n",
    "\n",
    "fig.suptitle('%d Loudest Single Sources' % L, y=.895)\n",
    "fig.tight_layout()\n",
    "fig.set_size_inches(18, 30)\n",
    "# fig.savefig(saveloc+'all_freqs.png', dpi=1000)\n",
    "\n",
    "# fig"
   ]
  },
  {
   "cell_type": "code",
   "execution_count": null,
   "metadata": {},
   "outputs": [],
   "source": [
    "Cl = Cl_best[0]\n",
    "\n",
    "moll_sh = map_from_sph_harm(Cl)\n",
    "\n",
    "rr=0\n",
    "fig, axs = plt.subplots(nrows=10, ncols=int(F/10))\n",
    "for ff in range(F):\n",
    "    title='$f$= %.2f yr$^{-1}$ (bin %d/%d)' % (fobs[ff]*YR, ff, F)\n",
    "    row, col = int(ff/3), ff%3\n",
    "    # print(row,col)\n",
    "    plt.axes(axs[row,col])\n",
    "    hp.mollview(moll_sh[ff,rr], title=title, hold=True)\n",
    "\n",
    "fig.suptitle('%d Loudest Single Sources, Recovered from Spherical Harmonics' % L, y=.895)\n",
    "fig.tight_layout()\n",
    "fig.set_size_inches(18, 30)\n",
    "# fig.savefig(saveloc+'all_freqs.png', dpi=1000)\n",
    "\n",
    "# fig"
   ]
  },
  {
   "cell_type": "code",
   "execution_count": null,
   "metadata": {},
   "outputs": [],
   "source": [
    "ff=fidx\n",
    "title = '$f$= %.2f yr$^{-1}$ (bin %d/%d)' % (fobs[ff]*YR, ff, nfreqs)\n",
    "hp.mollview(moll_hc[ff,rr], title='Randomly Placed: '+title, hold=False)\n",
    "hp.mollview(moll_sh[ff,rr], title='Reconstructed from Harmonics: '+title, hold=False)\n"
   ]
  },
  {
   "cell_type": "code",
   "execution_count": null,
   "metadata": {},
   "outputs": [],
   "source": [
    "print(npix)"
   ]
  },
  {
   "cell_type": "code",
   "execution_count": null,
   "metadata": {},
   "outputs": [],
   "source": [
    "# Cl = Cl_best6[0]\n",
    "# moll_sh6 = map_from_sph_harm(Cl)\n",
    "\n",
    "# ff=fidx\n",
    "# title = '$f$= %.2f yr$^{-1}$ (bin %d/%d)' % (fobs[ff]*YR, ff, F)\n",
    "# hp.mollview(moll_hc[ff,rr], title='Randomly Placed: '+title, hold=False)\n",
    "# hp.mollview(moll_sh6[ff,rr], title='Reconstructed from Harmonics: '+title, hold=False)\n"
   ]
  },
  {
   "cell_type": "code",
   "execution_count": null,
   "metadata": {},
   "outputs": [],
   "source": [
    "# for lmaxb in (4,5,6,7,8,9,10):\n",
    "#     print(lmaxb)\n",
    "#     moll_hcb, Clb = sph_harm_from_hc(hc_ss[nsort[0]], hc_bg[nsort[0]], \n",
    "#                                     nside=nside, lmax=lmaxb)\n",
    "#     moll_shb = map_from_sph_harm(Clb)\n",
    "#     hp.mollview(moll_shb[ff,rr], title=(('Reconstructed from %d Harmonics: ' % lmaxb) + title), hold=False)"
   ]
  },
  {
   "cell_type": "code",
   "execution_count": null,
   "metadata": {},
   "outputs": [],
   "source": [
    "# for lmaxb in (1,2,3,15,20):\n",
    "#     print(lmaxb)\n",
    "#     moll_hcb, Clb = sph_harm_from_hc(hc_ss[nsort[0]], hc_bg[nsort[0]], \n",
    "#                                     nside=nside, lmax=lmaxb)\n",
    "#     moll_shb = map_from_sph_harm(Clb)\n",
    "#     hp.mollview(moll_shb[ff,rr], title=(('Reconstructed from %d Harmonics: ' % lmaxb) + title), hold=False)"
   ]
  },
  {
   "cell_type": "code",
   "execution_count": null,
   "metadata": {},
   "outputs": [],
   "source": [
    "# for lmaxb in (30, 50):\n",
    "#     print(lmaxb)\n",
    "#     moll_hcb, Clb = sph_harm_from_hc(hc_ss[nsort[0]], hc_bg[nsort[0]], \n",
    "#                                     nside=nside, lmax=lmaxb)\n",
    "#     moll_shb = map_from_sph_harm(Clb)\n",
    "#     hp.mollview(moll_shb[ff,rr], title=(('Reconstructed from %d Harmonics: ' % lmaxb) + title), hold=False)"
   ]
  },
  {
   "attachments": {},
   "cell_type": "markdown",
   "metadata": {},
   "source": [
    "## Compare lmax for harmonics"
   ]
  },
  {
   "cell_type": "code",
   "execution_count": null,
   "metadata": {},
   "outputs": [],
   "source": [
    "lmaxes=(0,1,2,3,4,5,6,7,8,9,10,15,20,25,30,50)\n",
    "moll_maxes = np.zeros((len(lmaxes), nfreqs, nreals, npix))\n",
    "for ll in range(len(lmaxes)):\n",
    "    print(lmaxes[ll])\n",
    "    moll_hcb, Clb = sph_harm_from_hc(hc_ss[nsort[0]], hc_bg[nsort[0]], \n",
    "                                    nside=nside, lmax=lmaxes[ll])\n",
    "    moll_maxes[ll] = map_from_sph_harm(Clb)"
   ]
  },
  {
   "cell_type": "code",
   "execution_count": null,
   "metadata": {},
   "outputs": [],
   "source": [
    "print(sspath)"
   ]
  },
  {
   "cell_type": "code",
   "execution_count": null,
   "metadata": {},
   "outputs": [],
   "source": [
    "\n",
    "\n",
    "rr=0\n",
    "ff=fidx\n",
    "fig, axs = plt.subplots(nrows=4, ncols=4)\n",
    "for ll in range(len(lmaxes)):\n",
    "    title='lmax= %d, f=%.2f' % (lmaxes[ll], fobs_yrs[ff])\n",
    "    row, col = int(ll/4), ll%4\n",
    "    # print(row,col)\n",
    "    plt.axes(axs[row,col])\n",
    "    hp.mollview(moll_maxes[ll,ff,rr], title=title, hold=True)\n",
    "\n",
    "fig.suptitle('%d Loudest Single Sources, Recovered from Spherical Harmonics' % L, y=.895)\n",
    "fig.tight_layout()\n",
    "fig.set_size_inches(18, 12)\n",
    "fig.savefig(sspath+'maps_from_harmonics.png', dpi=300)\n",
    "# fig"
   ]
  },
  {
   "cell_type": "code",
   "execution_count": null,
   "metadata": {},
   "outputs": [],
   "source": []
  }
 ],
 "metadata": {
  "kernelspec": {
   "display_name": "holo310",
   "language": "python",
   "name": "python3"
  },
  "language_info": {
   "codemirror_mode": {
    "name": "ipython",
    "version": 3
   },
   "file_extension": ".py",
   "mimetype": "text/x-python",
   "name": "python",
   "nbconvert_exporter": "python",
   "pygments_lexer": "ipython3",
   "version": "3.10.10"
  }
 },
 "nbformat": 4,
 "nbformat_minor": 2
}
