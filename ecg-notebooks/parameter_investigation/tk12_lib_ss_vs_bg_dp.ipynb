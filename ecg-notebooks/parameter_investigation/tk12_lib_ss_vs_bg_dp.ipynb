{
 "cells": [
  {
   "cell_type": "code",
   "execution_count": null,
   "metadata": {},
   "outputs": [],
   "source": [
    "%reload_ext autoreload\n",
    "%autoreload 2\n",
    "from importlib import reload\n",
    "\n",
    "import numpy as np\n",
    "import matplotlib.pyplot as plt\n",
    "import matplotlib.cm as cm\n",
    "import matplotlib as mpl\n",
    "import h5py\n",
    "import tqdm\n",
    "\n",
    "\n",
    "from holodeck import plot, detstats\n",
    "import holodeck.single_sources as sings\n",
    "from holodeck.constants import YR, MSOL, MPC, GYR, PC\n",
    "import holodeck as holo\n",
    "from holodeck.sams import sam\n",
    "\n",
    "import hasasia.sim as hsim\n",
    "\n",
    "import sys\n",
    "sys.path.append('/Users/emigardiner/GWs/holodeck/ecg-notebooks/parameter_investigation')\n",
    "import anatomy as anat"
   ]
  },
  {
   "cell_type": "code",
   "execution_count": null,
   "metadata": {},
   "outputs": [],
   "source": [
    "file_path = '/Users/emigardiner/GWs/holodeck/output/brc_output/ss64_09Bn1000_2023-06-22_uniform-09b_n1000_r100_f40_l10'\n",
    "hdf = h5py.File(file_path+'/sam_lib.hdf5', 'r')\n",
    "\n",
    "print(hdf.keys())\n",
    "sample_params = hdf['sample_params'][...]\n",
    "hc_ss = hdf['hc_ss'][...]\n",
    "hc_bg = hdf['hc_bg'][...]\n",
    "sspar = hdf['sspar'][...]\n",
    "bgpar = hdf['bgpar'][...]\n",
    "fobs_gw_cents = hdf['fobs'][:]\n",
    "hdf.close()\n",
    "\n",
    "dur = 1/fobs_gw_cents[0]\n",
    "fobs_gw_cents, fobs_gw_edges = holo.utils.pta_freqs(dur, num=len(fobs_gw_cents))\n",
    "nsamps, nfreqs, nreals, nloudest = [*hc_ss.shape]\n"
   ]
  },
  {
   "cell_type": "code",
   "execution_count": null,
   "metadata": {},
   "outputs": [],
   "source": [
    "npz = np.load(file_path+'/PS_Uniform_09B.pspace.npz', allow_pickle=True)\n",
    "print(npz.files)\n",
    "param_names = npz['param_names']\n",
    "print(param_names)\n",
    "print(npz['class_name'])\n",
    "lib_name = '%s v%s, %d samples' % (npz['class_name'], npz['librarian_version'], nsamps)\n",
    "print(lib_name)\n",
    "# print(npz['sam_shape'])\n",
    "npz.close()"
   ]
  },
  {
   "attachments": {},
   "cell_type": "markdown",
   "metadata": {},
   "source": [
    "# Load detstats"
   ]
  },
  {
   "cell_type": "code",
   "execution_count": null,
   "metadata": {},
   "outputs": [],
   "source": [
    "npz = np.load('/Users/emigardiner/GWs/holodeck/output/brc_output/ss64_09Bn1000_2023-06-22_uniform-09b_n1000_r100_f40_l10/detstats/psrs40_sigma4.31e-06/detstats.npz')\n",
    "print(npz.files)\n",
    "# print(npz['snr_ss'].shape)\n",
    "dp_ss = npz['dp_ss']\n",
    "dp_bg = npz['dp_bg']\n",
    "df_ss = npz['df_ss']\n",
    "df_bg = npz['df_bg']\n",
    "ev_ss = npz['ev_ss']\n",
    "print(f\"{ev_ss.shape=}, {dp_ss.shape=}\")\n",
    "npz.close()"
   ]
  },
  {
   "cell_type": "code",
   "execution_count": null,
   "metadata": {},
   "outputs": [],
   "source": [
    "print(sample_params[0])"
   ]
  },
  {
   "cell_type": "code",
   "execution_count": null,
   "metadata": {},
   "outputs": [],
   "source": [
    "# def_draw_ev(ax):\n",
    "# plt.rcParams['mathtext.fontset'] = \"cm\"\n",
    "# plt.rcParams[\"font.family\"] = \"serif\"\n",
    "\n",
    "def draw_skies_vs_bg(ax, skies_ss, dp_bg, label=None,\n",
    "                     color='k', mean=True, errors=False,\n",
    "                     ms=2):\n",
    "    xx = dp_bg # shape (R,)\n",
    "    if mean:\n",
    "        yy = np.mean(skies_ss, axis=-1) # shape (R,)\n",
    "    else: \n",
    "        yy = np.mean(skies_ss, axis=-1) # shape (R,)\n",
    "    yerr = np.std(skies_ss, axis=-1) # shape (R,)\n",
    "    if errors:\n",
    "        hh = ax.errorbar(xx, yy, yerr, color=color, label=label,\n",
    "                    linestyle='', capsize=3, marker='o', alpha=0.05, markersize=ms)\n",
    "    else: \n",
    "        hh = ax.scatter(xx, yy, color=color, label=label,\n",
    "                    linestyle='', marker='o', alpha=0.05, s=ms)\n",
    "    return hh\n",
    "\n",
    "def plot_dpss_vs_dpbg(dp_ss, dp_bg, target_params=None, norm=None, \n",
    "                      use_ev=False, errors=False, ms=2, alpha=0.05, color='tab:blue', cmap=cm.rainbow):\n",
    "    # colors = cm.rainbow_r(np.linspace(0, 1, len(dsdat)))\n",
    "    # cmin = \n",
    "\n",
    "    sslabel = 'Expected Number' if use_ev else 'Detection Probability'\n",
    "    fig, ax = plot.figax(xlabel='Background Detection Probability', \n",
    "                         ylabel='$\\langle$ Single Source %s $\\\\rangle_\\mathrm{skies}$' % sslabel,\n",
    "    ) \n",
    "    \n",
    "    for ii in range(len(dp_ss)):\n",
    "        # label = '%.2f' % params[ii][target_param]\n",
    "        if target_params is not None and norm is not None:\n",
    "            color = cmap(norm(target_params[ii]))\n",
    "        detss = dp_ss[ii] # use_ev else ds['dp_ss']\n",
    "        hh = draw_skies_vs_bg(ax, detss, dp_bg[ii], color=color, errors=errors, ms=ms) #, label=label)\n",
    "\n",
    "\n",
    "    fig.tight_layout()\n",
    "    return fig\n",
    "\n",
    "\n",
    "\n",
    "\n",
    "# fig2 = plot_dpss_vs_dpbg(ev_ss, dp_bg, use_ev=True, errors=True)"
   ]
  },
  {
   "cell_type": "code",
   "execution_count": null,
   "metadata": {},
   "outputs": [],
   "source": [
    "fig1 = plot_dpss_vs_dpbg(dp_ss, dp_bg, use_ev=False)\n",
    "fig2 = plot_dpss_vs_dpbg(ev_ss, dp_bg, use_ev=True)"
   ]
  },
  {
   "attachments": {},
   "cell_type": "markdown",
   "metadata": {},
   "source": [
    "# Color by params"
   ]
  },
  {
   "cell_type": "code",
   "execution_count": null,
   "metadata": {},
   "outputs": [],
   "source": []
  },
  {
   "cell_type": "code",
   "execution_count": null,
   "metadata": {},
   "outputs": [],
   "source": [
    "target = 'hard_time'\n",
    "def normalize_target(target, param_names=param_names, sample_params=sample_params):\n",
    "    idx = list(param_names).index(target)\n",
    "    target_params = sample_params[:,idx]\n",
    "    mintarget = np.min(target_params)\n",
    "    maxtarget = np.max(target_params)\n",
    "    norm = mpl.colors.Normalize(vmin=mintarget, vmax=maxtarget)\n",
    "    return target_params, norm"
   ]
  },
  {
   "attachments": {},
   "cell_type": "markdown",
   "metadata": {},
   "source": [
    "Connect to hard_time"
   ]
  },
  {
   "cell_type": "code",
   "execution_count": null,
   "metadata": {},
   "outputs": [],
   "source": [
    "target_params, norm = normalize_target('hard_time')\n",
    "cmap=cm.rainbow\n",
    "fig = plot_dpss_vs_dpbg(ev_ss, dp_bg, use_ev=True, target_params=target_params, norm=norm, \n",
    "                        errors=False, cmap=cmap, ms=5, alpha=0.1)\n",
    "cbar = fig.colorbar(mpl.cm.ScalarMappable(norm=norm, cmap=cmap), \n",
    "                    label='$\\\\tau_\\mathrm{hard}$', shrink=0.75 )"
   ]
  },
  {
   "cell_type": "code",
   "execution_count": null,
   "metadata": {},
   "outputs": [],
   "source": [
    "print(nsamps, nfreqs, nreals)"
   ]
  },
  {
   "cell_type": "code",
   "execution_count": null,
   "metadata": {},
   "outputs": [],
   "source": [
    "print(ev_ss.shape)"
   ]
  },
  {
   "cell_type": "code",
   "execution_count": null,
   "metadata": {},
   "outputs": [],
   "source": [
    "print(param_names)"
   ]
  },
  {
   "cell_type": "code",
   "execution_count": null,
   "metadata": {},
   "outputs": [],
   "source": [
    "cmap=cm.rainbow\n",
    "\n",
    "for tt, target in enumerate(param_names):\n",
    "    target_params, norm = normalize_target(target)\n",
    "    fig = plot_dpss_vs_dpbg(ev_ss, dp_bg, use_ev=True, target_params=target_params, norm=norm, \n",
    "                            errors=False, cmap=cmap, ms=5, alpha=0.1)\n",
    "    cbar = fig.colorbar(mpl.cm.ScalarMappable(norm=norm, cmap=cmap), \n",
    "                        label=target, shrink=0.75 )\n",
    "    # fig.savefig(f'/Users/emigardiner/GWs/holodeck/output/figures/params/ss_vs_bg_dp_lib09A_single_pta/{target}.png')"
   ]
  },
  {
   "cell_type": "code",
   "execution_count": null,
   "metadata": {},
   "outputs": [],
   "source": [
    "fig.axes[0].set_ylim(10**-1, 4)\n",
    "fig"
   ]
  },
  {
   "attachments": {},
   "cell_type": "markdown",
   "metadata": {},
   "source": [
    "# Number Density of Ratio vs. Parameter"
   ]
  },
  {
   "attachments": {},
   "cell_type": "markdown",
   "metadata": {},
   "source": [
    "## Ratio"
   ]
  },
  {
   "cell_type": "code",
   "execution_count": null,
   "metadata": {},
   "outputs": [],
   "source": [
    "nskies = ev_ss.shape[-1]\n",
    "ratio = ev_ss/dp_bg[:,:,np.newaxis]\n",
    "nbins=40\n",
    "ratio_edges = np.geomspace(np.min(ratio), np.max(ratio), nbins)\n",
    "print(f\"{ratio.shape=}\")"
   ]
  },
  {
   "attachments": {},
   "cell_type": "markdown",
   "metadata": {},
   "source": [
    "### Ratio vs Hardening Time"
   ]
  },
  {
   "cell_type": "code",
   "execution_count": null,
   "metadata": {},
   "outputs": [],
   "source": [
    "thard = np.repeat(sample_params[:,0], nreals*nskies).reshape(nsamps, nreals, nskies)\n",
    "print(f\"{thard.shape=}\")\n",
    "th_edges = np.geomspace(np.min(sample_params[:,0]), np.max(sample_params[:,0]), nbins)\n",
    "hist, dpe, the = np.histogram2d(ratio.flatten(), thard.flatten(), bins=(ratio_edges, th_edges))\n",
    "\n",
    "DP, TH = np.meshgrid(ratio_edges, th_edges)\n",
    "fig, ax = plot.figax(xlabel='Hardening Time $\\\\tau_\\mathrm{hard}$', ylabel='Ratio $\\langle N_\\mathrm{SS} \\\\rangle / \\mathrm{DP}_\\mathrm{BG}$')\n",
    "ax.set_facecolor('k')\n",
    "im = ax.pcolormesh(TH, DP, np.log10(hist))\n",
    "cbar = plt.colorbar(im, ax=ax, label='$\\log N$')"
   ]
  },
  {
   "attachments": {},
   "cell_type": "markdown",
   "metadata": {},
   "source": [
    "### Ratio vs GSMF Mchar0"
   ]
  },
  {
   "cell_type": "code",
   "execution_count": null,
   "metadata": {},
   "outputs": [],
   "source": [
    "print(param_names)"
   ]
  },
  {
   "cell_type": "code",
   "execution_count": null,
   "metadata": {},
   "outputs": [],
   "source": [
    "mchar = np.repeat(sample_params[:,2], nreals*nskies).reshape(nsamps, nreals, nskies)\n",
    "print(f\"{mchar.shape=}\")\n",
    "mc_edges = np.linspace(np.min(sample_params[:,2]), np.max(sample_params[:,2]), nbins)\n",
    "hist, mce, the = np.histogram2d(ratio.flatten(), mchar.flatten(), bins=(ratio_edges, mc_edges))\n",
    "\n",
    "DP, MC = np.meshgrid(ratio_edges, mc_edges)\n",
    "fig, ax = plot.figax(xlabel='log($M_\\mathrm{char,0} / \\mathrm{M}_\\odot)$', ylabel='Ratio $\\langle N_\\mathrm{SS} \\\\rangle / \\mathrm{DP}_\\mathrm{BG}$',\n",
    "                     xscale='linear')\n",
    "ax.set_facecolor('k')\n",
    "im = ax.pcolormesh(MC, DP, np.log10(hist))\n",
    "cbar = plt.colorbar(im, ax=ax, label='$\\log N$')"
   ]
  },
  {
   "attachments": {},
   "cell_type": "markdown",
   "metadata": {},
   "source": [
    "## Background DP vs Param"
   ]
  },
  {
   "cell_type": "code",
   "execution_count": null,
   "metadata": {},
   "outputs": [],
   "source": [
    "def plot_2D_hist(xx, yy, xlabel, ylabel, xscale, nbins=40):\n",
    "   if xscale == 'linear':\n",
    "      xx_edges = np.linspace(np.min(xx), np.max(xx), nbins)\n",
    "   else:\n",
    "      xx_edges = np.geomspace(np.min(xx), np.max(xx), nbins)\n",
    "   print(f\"{np.min(xx)=}, {np.max(xx)=}, {np.min(yy)=}, {np.max(yy)=}\")\n",
    "   yy_edges = np.geomspace(np.min(yy), np.max(yy), nbins)\n",
    "   print(f\"{xx.shape=}, {yy.shape=}\")\n",
    "\n",
    "   hist, temp1, temp2 = np.histogram2d(dp_bg.flatten(), thard.flatten(), bins=(yy_edges, xx_edges))\n",
    "\n",
    "   YY, XX = np.meshgrid(yy_edges, xx_edges)\n",
    "   fig, ax = plot.figax_single(xlabel=xlabel, ylabel=ylabel,\n",
    "                     xscale=xscale)\n",
    "   ax.set_facecolor('k')\n",
    "   im = ax.pcolormesh(XX, YY, np.log10(hist))\n",
    "   cbar = plt.colorbar(im, ax=ax, label='$\\log N$')\n",
    "   return fig, hist"
   ]
  },
  {
   "attachments": {},
   "cell_type": "markdown",
   "metadata": {},
   "source": [
    "### hard time"
   ]
  },
  {
   "cell_type": "code",
   "execution_count": null,
   "metadata": {},
   "outputs": [],
   "source": [
    "xx = np.repeat(sample_params[:,0], nreals).reshape(nsamps, nreals)\n",
    "yy = dp_bg\n",
    "xlabel = '$\\\\tau_\\mathrm{hard}$'\n",
    "ylabel = '$\\mathrm{DP}_\\mathrm{BG}$'\n",
    "xscale = 'linear'\n",
    "fig, hist = plot_2D_hist(xx,yy,xlabel,ylabel,xscale)"
   ]
  },
  {
   "attachments": {},
   "cell_type": "markdown",
   "metadata": {},
   "source": [
    "### gsmf phi0"
   ]
  },
  {
   "cell_type": "code",
   "execution_count": null,
   "metadata": {},
   "outputs": [],
   "source": [
    "plt.hist(sample_params[:,1], bins=200)"
   ]
  },
  {
   "cell_type": "code",
   "execution_count": null,
   "metadata": {},
   "outputs": [],
   "source": [
    "xx = np.repeat(sample_params[:,1], nreals).reshape(nsamps, nreals)\n",
    "yy = dp_bg\n",
    "xlabel = 'GSMF $\\psi_0$'\n",
    "ylabel = '$\\mathrm{DP}_\\mathrm{BG}$'\n",
    "xscale = 'linear'\n",
    "fig, hist = plot_2D_hist(xx,yy,xlabel,ylabel,xscale,)\n",
    "\n",
    "print(f\"{holo.utils.stats(xx)=}, \\n{holo.utils.stats(yy)=}, \\n{holo.utils.stats(hist)=}\")"
   ]
  },
  {
   "cell_type": "code",
   "execution_count": null,
   "metadata": {},
   "outputs": [],
   "source": [
    "xx = np.repeat(sample_params[:,3], nreals).reshape(nsamps, nreals)\n",
    "yy = dp_bg\n",
    "xlabel = 'MMB $\\log(M_\\mathrm{amp}/\\mathrm{M}_\\odot)$'\n",
    "ylabel = '$\\mathrm{DP}_\\mathrm{BG}$'\n",
    "xscale = 'linear'\n",
    "fig, hist = plot_2D_hist(xx,yy,xlabel,ylabel,xscale)\n",
    "\n",
    "print(f\"{holo.utils.stats(xx)=}, \\n{holo.utils.stats(yy)=}, \\n{holo.utils.stats(hist)=}\")"
   ]
  },
  {
   "cell_type": "code",
   "execution_count": null,
   "metadata": {},
   "outputs": [],
   "source": []
  }
 ],
 "metadata": {
  "kernelspec": {
   "display_name": "holo310",
   "language": "python",
   "name": "python3"
  },
  "language_info": {
   "codemirror_mode": {
    "name": "ipython",
    "version": 3
   },
   "file_extension": ".py",
   "mimetype": "text/x-python",
   "name": "python",
   "nbconvert_exporter": "python",
   "pygments_lexer": "ipython3",
   "version": "3.10.10"
  }
 },
 "nbformat": 4,
 "nbformat_minor": 2
}
