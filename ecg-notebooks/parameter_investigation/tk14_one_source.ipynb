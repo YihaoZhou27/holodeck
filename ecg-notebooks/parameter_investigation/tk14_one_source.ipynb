{
 "cells": [
  {
   "cell_type": "code",
   "execution_count": null,
   "metadata": {},
   "outputs": [],
   "source": [
    "%reload_ext autoreload\n",
    "%autoreload 2\n",
    "from importlib import reload\n",
    "\n",
    "import numpy as np\n",
    "import matplotlib.pyplot as plt\n",
    "import matplotlib.cm as cm\n",
    "import matplotlib as mpl\n",
    "import h5py\n",
    "import tqdm\n",
    "import os\n",
    "\n",
    "\n",
    "from holodeck import plot, detstats\n",
    "import holodeck.single_sources as sings\n",
    "from holodeck.constants import YR, MSOL, MPC, GYR, PC\n",
    "import holodeck as holo\n",
    "from holodeck.sams import sam\n",
    "\n",
    "import hasasia.sim as hsim\n",
    "\n",
    "import sys\n",
    "sys.path.append('/Users/emigardiner/GWs/holodeck/ecg-notebooks/parameter_investigation')\n",
    "import anatomy as anat"
   ]
  },
  {
   "cell_type": "code",
   "execution_count": null,
   "metadata": {},
   "outputs": [],
   "source": [
    "TARGET = 'hard_time' # EDIT AS NEEDED\n",
    "TITLE = '$\\\\tau_\\mathrm{hard}$'   # EDIT AS NEEDED\n",
    "NVARS = 21\n",
    "NREALS=100\n",
    "NSKIES=100\n",
    "SAVEFIG = True\n",
    "SHAPE=None"
   ]
  },
  {
   "cell_type": "code",
   "execution_count": null,
   "metadata": {},
   "outputs": [],
   "source": [
    "path = '/Users/emigardiner/GWs/holodeck/output/anatomy_09B'\n",
    "load_data_from_file = path+f'/{TARGET}_v{NVARS}_r{NREALS}_s{NSKIES}_shape{str(SHAPE)}.npz' \n",
    "\n",
    "if os.path.exists(load_data_from_file) is False:\n",
    "    err = 'load data file does not exist, you need to construct it.'\n",
    "    raise Exception(err)\n",
    "print(load_data_from_file)\n",
    "# print(save_data_to_file)"
   ]
  },
  {
   "cell_type": "markdown",
   "metadata": {},
   "source": [
    "# Load Data from File"
   ]
  },
  {
   "cell_type": "code",
   "execution_count": null,
   "metadata": {},
   "outputs": [],
   "source": [
    "file = np.load(load_data_from_file, allow_pickle=True)\n",
    "print(file.files)\n",
    "nn=10\n",
    "\n",
    "data = file['data'][nn]\n",
    "params = file['params'][nn]\n",
    "dsdat = file['dsdat'][nn]\n",
    "file.close()\n"
   ]
  },
  {
   "cell_type": "markdown",
   "metadata": {},
   "source": [
    "# Get Shapes, Edges, Frequency Info"
   ]
  },
  {
   "cell_type": "code",
   "execution_count": null,
   "metadata": {},
   "outputs": [],
   "source": [
    "nfreqs, nreals, nloudest = [*data['hc_ss'].shape]\n",
    "nskies = dsdat['dp_ss'].shape[-1]\n",
    "fobs_cents = data['fobs_cents']"
   ]
  },
  {
   "cell_type": "code",
   "execution_count": null,
   "metadata": {},
   "outputs": [],
   "source": [
    "# mass edges\n",
    "sam = holo.sams.Semi_Analytic_Model(shape=SHAPE)\n",
    "# mm_edges = sam.mtot/MSOL\n",
    "\n",
    "# frequency bin edges\n",
    "# ff_edges = data['fobs_edges']/10**9"
   ]
  },
  {
   "attachments": {},
   "cell_type": "markdown",
   "metadata": {},
   "source": [
    "# Plot characteristic strain vs frequency with individual source gamma_ssi"
   ]
  },
  {
   "cell_type": "code",
   "execution_count": null,
   "metadata": {},
   "outputs": [],
   "source": [
    "xx = data['fobs_cents']\n",
    "\n",
    "x1 = np.repeat(xx, nreals*)\n",
    "y1 = np.repeat(data['hc_ss'], nskies).reshape(nfreqs, nreals, nskies, nloudest)\n",
    "c1 = dsdat['gamma_ssi']\n",
    "print(f\"{y1.shape=}, {c1.shape=}\")\n",
    "\n",
    "\n",
    "y2 = data['hc_bg']\n",
    "c2 = dsdat['dp_bg']\n",
    "print(f\"{y2.shape=}, {c2.shape=}\")"
   ]
  },
  {
   "cell_type": "code",
   "execution_count": null,
   "metadata": {},
   "outputs": [],
   "source": [
    "fig, ax = plot.figax(xlabel=plot.LABEL_GW_FREQUENCY_YR,\n",
    "                      ylabel=plot.LABEL_CHARACTERISTIC_STRAIN)\n",
    "# plot.draw_med_conf(ax, xx, y2)\n",
    "plot.draw_ss_and_gwb(ax, fobs_cents*YR, data['hc_ss'], data['hc_bg'])"
   ]
  },
  {
   "cell_type": "code",
   "execution_count": null,
   "metadata": {},
   "outputs": [],
   "source": [
    "print(str(None))"
   ]
  },
  {
   "cell_type": "code",
   "execution_count": null,
   "metadata": {},
   "outputs": [],
   "source": []
  }
 ],
 "metadata": {
  "kernelspec": {
   "display_name": "holo310",
   "language": "python",
   "name": "python3"
  },
  "language_info": {
   "codemirror_mode": {
    "name": "ipython",
    "version": 3
   },
   "file_extension": ".py",
   "mimetype": "text/x-python",
   "name": "python",
   "nbconvert_exporter": "python",
   "pygments_lexer": "ipython3",
   "version": "3.10.10"
  }
 },
 "nbformat": 4,
 "nbformat_minor": 2
}
