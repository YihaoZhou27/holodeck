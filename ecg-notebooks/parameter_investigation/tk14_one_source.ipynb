{
 "cells": [
  {
   "cell_type": "code",
   "execution_count": null,
   "metadata": {},
   "outputs": [],
   "source": [
    "%reload_ext autoreload\n",
    "%autoreload 2\n",
    "from importlib import reload\n",
    "\n",
    "import numpy as np\n",
    "import matplotlib.pyplot as plt\n",
    "import matplotlib.cm as cm\n",
    "import matplotlib as mpl\n",
    "import h5py\n",
    "import tqdm\n",
    "import os\n",
    "\n",
    "\n",
    "from holodeck import plot, detstats\n",
    "import holodeck.single_sources as sings\n",
    "from holodeck.constants import YR, MSOL, MPC, GYR, PC\n",
    "import holodeck as holo\n",
    "from holodeck.sams import sam\n",
    "\n",
    "import hasasia.sim as hsim\n",
    "\n",
    "import sys\n",
    "sys.path.append('/Users/emigardiner/GWs/holodeck/ecg-notebooks/parameter_investigation')\n",
    "import anatomy as anat"
   ]
  },
  {
   "cell_type": "code",
   "execution_count": null,
   "metadata": {},
   "outputs": [],
   "source": [
    "TARGET = 'hard_time' # EDIT AS NEEDED\n",
    "TITLE = '$\\\\tau_\\mathrm{hard}$'   # EDIT AS NEEDED\n",
    "NVARS = 21\n",
    "SAVEFIG = True"
   ]
  },
  {
   "cell_type": "code",
   "execution_count": null,
   "metadata": {},
   "outputs": [],
   "source": [
    "path = '/Users/emigardiner/GWs/holodeck/ecg-notebooks/parameter_investigation/anatomy_09B'\n",
    "load_data_from_file = path+f'/{TARGET}_{NVARS}vars_clbrt_pta.npz' \n",
    "\n",
    "if os.path.exists(load_data_from_file) is False:\n",
    "    err = 'load data file does not exist, you need to construct it.'\n",
    "    raise Exception(err)\n",
    "print(load_data_from_file)\n",
    "# print(save_data_to_file)"
   ]
  },
  {
   "cell_type": "markdown",
   "metadata": {},
   "source": [
    "# Load Data from File"
   ]
  },
  {
   "cell_type": "code",
   "execution_count": null,
   "metadata": {},
   "outputs": [],
   "source": [
    "file = np.load(load_data_from_file, allow_pickle=True)\n",
    "print(file.files)\n",
    "data = file['data']\n",
    "params = file['params']\n",
    "dsdat = file['dsdat']\n",
    "file.close()"
   ]
  },
  {
   "cell_type": "markdown",
   "metadata": {},
   "source": [
    "# Get Shapes, Edges, Frequency Info"
   ]
  },
  {
   "cell_type": "code",
   "execution_count": null,
   "metadata": {},
   "outputs": [],
   "source": [
    "nfreqs, nreals, nloudest = [*data[0]['hc_ss'].shape]\n",
    "fobs_cents = data[0]['fobs_cents']"
   ]
  },
  {
   "cell_type": "code",
   "execution_count": null,
   "metadata": {},
   "outputs": [],
   "source": [
    "# mass edges\n",
    "sam = holo.sams.Semi_Analytic_Model()\n",
    "mm_edges = sam.mtot/MSOL\n",
    "\n",
    "# frequency bin edges\n",
    "ff_edges = data[0]['fobs_edges']/10**9\n",
    "\n",
    "# get frequencies\n",
    "ssfrq = np.repeat(fobs_cents, nreals*nloudest)/10**9 # nHz\n",
    "bgfrq = np.repeat(fobs_cents, nreals)/10**9 # nHz"
   ]
  },
  {
   "attachments": {},
   "cell_type": "markdown",
   "metadata": {},
   "source": [
    "# Plot characteristic strain vs frequency with individual source gamma_ssi"
   ]
  },
  {
   "cell_type": "code",
   "execution_count": null,
   "metadata": {},
   "outputs": [],
   "source": []
  },
  {
   "cell_type": "code",
   "execution_count": null,
   "metadata": {},
   "outputs": [],
   "source": [
    "print(str(None))"
   ]
  },
  {
   "cell_type": "code",
   "execution_count": null,
   "metadata": {},
   "outputs": [],
   "source": []
  }
 ],
 "metadata": {
  "kernelspec": {
   "display_name": "holo310",
   "language": "python",
   "name": "python3"
  },
  "language_info": {
   "codemirror_mode": {
    "name": "ipython",
    "version": 3
   },
   "file_extension": ".py",
   "mimetype": "text/x-python",
   "name": "python",
   "nbconvert_exporter": "python",
   "pygments_lexer": "ipython3",
   "version": "3.10.10"
  }
 },
 "nbformat": 4,
 "nbformat_minor": 2
}
