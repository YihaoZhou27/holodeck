{
 "cells": [
  {
   "cell_type": "code",
   "execution_count": null,
   "metadata": {},
   "outputs": [],
   "source": [
    "%reload_ext autoreload\n",
    "%autoreload 2\n",
    "from importlib import reload\n",
    "\n",
    "import numpy as np\n",
    "import matplotlib.pyplot as plt\n",
    "import matplotlib.cm as cm\n",
    "import h5py\n",
    "\n",
    "from holodeck import plot, detstats\n",
    "from holodeck.constants import YR, MSOL, MPC\n",
    "import holodeck as holo"
   ]
  },
  {
   "attachments": {},
   "cell_type": "markdown",
   "metadata": {},
   "source": [
    "# Read in data"
   ]
  },
  {
   "cell_type": "code",
   "execution_count": null,
   "metadata": {},
   "outputs": [],
   "source": [
    "lib_path = '/Users/emigardiner/GWs/holodeck/output/awg_output/uniform-07a_new_n500_r100_f40'\n",
    "hdf_file = h5py.File(lib_path+'/sam_lib.hdf5')\n",
    "print(hdf_file.keys())\n",
    "params = hdf_file['sample_params'][...]\n",
    "hc_ss = hdf_file['hc_ss'][...]\n",
    "hc_bg = hdf_file['hc_bg'][...]\n",
    "sspar = hdf_file['sspar'][...]\n",
    "bgpar = hdf_file['bgpar'][...]\n",
    "fobs = hdf_file['fobs'][:]\n",
    "hdf_file.close()"
   ]
  },
  {
   "cell_type": "code",
   "execution_count": null,
   "metadata": {},
   "outputs": [],
   "source": [
    "space_class = holo.param_spaces.PS_Uniform_07A\n",
    "space = space_class(holo.log, 0, None, None)\n",
    "print(space.param_names)\n",
    "print(params[0])\n",
    "print(params[-1])\n",
    "print(params.shape)"
   ]
  },
  {
   "cell_type": "code",
   "execution_count": null,
   "metadata": {},
   "outputs": [],
   "source": [
    "ds_file = np.load(lib_path+'/detstats/psrs50_sigma8.28e-06/detstats.npz')\n",
    "df_ss = ds_file['df_ss']\n",
    "df_bg = ds_file['df_bg']\n",
    "dp_ss = ds_file['dp_ss']\n",
    "dp_bg = ds_file['dp_bg']\n",
    "ds_file.close()"
   ]
  },
  {
   "attachments": {},
   "cell_type": "markdown",
   "metadata": {},
   "source": [
    "# Best Samples"
   ]
  },
  {
   "cell_type": "code",
   "execution_count": null,
   "metadata": {},
   "outputs": [],
   "source": [
    "nsort = detstats.rank_samples(hc_ss, hc_bg, fobs, hc_ref=detstats.HC_REF15_10YR,  fidx=1)\n",
    "print(nsort[0:10])"
   ]
  },
  {
   "attachments": {},
   "cell_type": "markdown",
   "metadata": {},
   "source": [
    "# Binary Parameters"
   ]
  },
  {
   "attachments": {},
   "cell_type": "markdown",
   "metadata": {},
   "source": [
    "### just using best sample"
   ]
  },
  {
   "cell_type": "code",
   "execution_count": null,
   "metadata": {},
   "outputs": [],
   "source": [
    "print(sspar.shape)"
   ]
  },
  {
   "cell_type": "code",
   "execution_count": null,
   "metadata": {},
   "outputs": [],
   "source": [
    "freqs = np.repeat(fobs, hc_ss[0,0,:,:].size).reshape(hc_ss[0].shape)\n",
    "print(freqs.shape)\n",
    "print(freqs[:,0,0]*YR)"
   ]
  },
  {
   "attachments": {},
   "cell_type": "markdown",
   "metadata": {},
   "source": [
    "## Plot: hc vs bin pars"
   ]
  },
  {
   "cell_type": "code",
   "execution_count": null,
   "metadata": {},
   "outputs": [],
   "source": [
    "nn = nsort[0]\n",
    "plot_path = '/Users/emigardiner/GWs/holodeck/ecg-notebooks/parameter_investigation/plots_07a'\n",
    "\n",
    "\n",
    "def draw_ss_bin_pars(axs, hc_ss, sspar, fobs, labels, colors):\n",
    "\n",
    "    x1 = sspar[0,...] / MSOL\n",
    "    x2 = sspar[1,...]\n",
    "    x3 = holo.cosmo.comoving_distance(sspar[2,...]) \n",
    "    x4 = np.repeat(fobs, hc_ss[0,:,:].size).reshape(hc_ss.shape) *YR\n",
    "    yy = hc_ss\n",
    "\n",
    "    for ii, xx in enumerate([x1, x2, x3, x4]):\n",
    "        axs[ii].set_xlabel(labels[ii])\n",
    "        for rr in range(len(yy[0])):\n",
    "            axs[ii].scatter(xx[:,rr,:].flatten(), yy[:,rr,:].flatten(), marker='o', s=15, alpha=0.1, color=colors[rr])\n",
    "\n",
    "def draw_bg_bin_pars(axs, hc_bg, bgpar, fobs, color='k'):\n",
    "    x1 = bgpar[0,...] / MSOL \n",
    "    x2 = bgpar[1,...]\n",
    "    x3 = holo.cosmo.comoving_distance(bgpar[2,...]) \n",
    "    x4 = np.repeat(fobs, hc_bg[0,:].size).reshape(hc_bg.shape) *YR\n",
    "    yy = hc_bg\n",
    "\n",
    "    for ii, xx in enumerate([x1, x2, x3, x4]):\n",
    "        # axs[ii].set_xlabel(labels[ii])\n",
    "        for rr in range(len(yy[0])):\n",
    "            axs[ii].scatter(xx[:,rr], yy[:,rr], marker='x', s=15, alpha=0.1, color=color)\n",
    "\n",
    "def plot_bin_pars(nn, hc_ss, hc_bg, sspar, bgpar, fobs):\n",
    "    fig, axs = plot.figax(nrows=2, ncols=2, ylabel=plot.LABEL_CHARACTERISTIC_STRAIN, sharey=True,\n",
    "                        figsize=(10,7))\n",
    "\n",
    "    axs = axs.reshape(axs.size)\n",
    "    labels=['Total Mass, $M$ $(M_\\odot)$', 'Mass Ratio, $q$', 'Initial Comoving Distance, $d_c$ (Mpc)', plot.LABEL_GW_FREQUENCY_YR]\n",
    "    colors = cm.rainbow(np.linspace(0,1,len(hc_ss[0,0])))\n",
    "    \n",
    "    draw_bg_bin_pars(axs, hc_bg[nn], bgpar[nn], fobs)\n",
    "    draw_ss_bin_pars(axs, hc_ss[nn], sspar[nn], fobs, labels, colors)\n",
    "    fig.tight_layout()\n",
    "    return fig\n",
    "\n",
    "fig = plot_bin_pars(nsort[0], hc_ss, hc_bg, sspar, bgpar, fobs)"
   ]
  },
  {
   "cell_type": "code",
   "execution_count": null,
   "metadata": {},
   "outputs": [],
   "source": [
    "print('%04d' % nn)"
   ]
  },
  {
   "cell_type": "code",
   "execution_count": null,
   "metadata": {},
   "outputs": [],
   "source": [
    "nn = nsort[0]\n",
    "\n",
    "\n",
    "def draw_ss_bin_pars_fast(axs, hc_ss, sspar, fobs, labels, color='r'):\n",
    "\n",
    "    x1 = sspar[0,...] / MSOL\n",
    "    x2 = sspar[1,...]\n",
    "    x3 = holo.cosmo.comoving_distance(sspar[2,...]) \n",
    "    x4 = np.repeat(fobs, hc_ss[0,:,:].size).reshape(hc_ss.shape) *YR\n",
    "    yy = hc_ss\n",
    "\n",
    "    for ii, xx in enumerate([x1, x2, x3, x4]):\n",
    "        axs[ii].set_xlabel(labels[ii])\n",
    "        axs[ii].scatter(xx.flatten(), yy.flatten(), marker='o', s=15, alpha=0.1, color=color)\n",
    "\n",
    "def draw_bg_bin_pars_fast(axs, hc_bg, bgpar, fobs, color='k'):\n",
    "    x1 = bgpar[0,...] / MSOL \n",
    "    x2 = bgpar[1,...]\n",
    "    x3 = holo.cosmo.comoving_distance(bgpar[2,...]) \n",
    "    x4 = np.repeat(fobs, hc_bg[0,:].size).reshape(hc_bg.shape) *YR\n",
    "    yy = hc_bg\n",
    "\n",
    "    for ii, xx in enumerate([x1, x2, x3, x4]):\n",
    "        axs[ii].scatter(xx.flatten(), yy.flatten(), marker='x', s=15, alpha=0.1, color=color)\n",
    "\n",
    "def draw_sample_text(fig, nn, params, param_names, \n",
    "                     xx=0.1, yy=-0.025):\n",
    "    text = ''\n",
    "    for pp, name in enumerate(param_names):\n",
    "        text = text+\"'%s'=%.2e, \" % (name, params[nn,pp])\n",
    "        if pp == int(len(param_names)/2):\n",
    "            text = text+'\\n'\n",
    "    fig.text(xx, yy, text, fontsize=10, color='k', alpha=0.75)\n",
    "    \n",
    "\n",
    "def plot_bin_pars_fast(nn, hc_ss, hc_bg, sspar, bgpar, fobs, param_names=space.param_names):\n",
    "    fig, axs = plot.figax(nrows=2, ncols=2, ylabel='$h_c$', sharey=True,\n",
    "                        figsize=(9,6))\n",
    "\n",
    "    axs = axs.reshape(axs.size)\n",
    "    labels=['$M$ $(M_\\odot)$',  '$q$', ' $d_c$ (Mpc)', '$f\\ (\\mathrm{yr}^{-1})$']\n",
    "    \n",
    "    draw_bg_bin_pars_fast(axs, hc_bg[nn], bgpar[nn], fobs)\n",
    "    draw_ss_bin_pars_fast(axs, hc_ss[nn], sspar[nn], fobs, labels)\n",
    "\n",
    "    draw_sample_text(fig, nn, params, param_names, xx=0.1, yy=-0.025)\n",
    "    fig.tight_layout()\n",
    "    return fig\n",
    "\n",
    "for nn in nsort[:5]:\n",
    "    fig = plot_bin_pars_fast(nn, hc_ss, hc_bg, sspar, bgpar, fobs)"
   ]
  },
  {
   "attachments": {},
   "cell_type": "markdown",
   "metadata": {},
   "source": [
    "What about for the worst models? Or the rest?"
   ]
  },
  {
   "cell_type": "code",
   "execution_count": null,
   "metadata": {},
   "outputs": [],
   "source": [
    "# for ii in range(len(nsort)):\n",
    "#     nn = nsort[ii]\n",
    "#     print('ii=%d, nn=%d' % (ii,nn))\n",
    "#     fig = plot_bin_pars_fast(nn, hc_ss, hc_bg, sspar, bgpar, fobs)\n",
    "#     fig.savefig(plot_path+'/hc_vs_bins_rank%04d_p%04d.png' % (ii, nn), dpi=100)\n",
    "#     plt.close(fig)"
   ]
  },
  {
   "attachments": {},
   "cell_type": "markdown",
   "metadata": {},
   "source": [
    "## Plot: SNR vs bin pars"
   ]
  },
  {
   "cell_type": "code",
   "execution_count": null,
   "metadata": {},
   "outputs": [],
   "source": [
    "nn = nsort[0]\n",
    "\n",
    "\n",
    "def draw_ss_bin_pars(axs, hc_ss, sspar, fobs, labels, colors):\n",
    "\n",
    "    x1 = sspar[0,...] / MSOL\n",
    "    x2 = sspar[1,...]\n",
    "    x3 = holo.cosmo.comoving_distance(sspar[2,...]) \n",
    "    x4 = np.repeat(fobs, hc_ss[0,:,:].size).reshape(hc_ss.shape) *YR\n",
    "    yy = hc_ss\n",
    "\n",
    "    for ii, xx in enumerate([x1, x2, x3, x4]):\n",
    "        axs[ii].set_xlabel(labels[ii])\n",
    "        for rr in range(len(yy[0])):\n",
    "            axs[ii].scatter(xx[:,rr,:].flatten(), yy[:,rr,:].flatten(), marker='o', s=15, alpha=0.1, color=colors[rr])\n",
    "\n",
    "def draw_bg_bin_pars(axs, hc_bg, bgpar, fobs, color='k'):\n",
    "    x1 = bgpar[0,...] / MSOL\n",
    "    x2 = bgpar[1,...]\n",
    "    x3 = holo.cosmo.comoving_distance(bgpar[2,...]) \n",
    "    x4 = np.repeat(fobs, hc_bg[0,:].size).reshape(hc_bg.shape) *YR\n",
    "    yy = hc_bg\n",
    "\n",
    "    for ii, xx in enumerate([x1, x2, x3, x4]):\n",
    "        # axs[ii].set_xlabel(labels[ii])\n",
    "        for rr in range(len(yy[0])):\n",
    "            axs[ii].scatter(xx[:,rr], yy[:,rr], marker='x', s=15, alpha=0.1, color=color)\n",
    "\n",
    "def plot_bin_pars(nn, hc_ss, hc_bg, sspar, bgpar, fobs):\n",
    "    fig, axs = plot.figax(nrows=2, ncols=2, ylabel=plot.LABEL_CHARACTERISTIC_STRAIN, sharey=True,\n",
    "                        figsize=(10,7))\n",
    "\n",
    "    axs = axs.reshape(axs.size)\n",
    "    labels=['Mass, $M$ $(M_\\odot)$', 'Mass Ratio, $q$', 'Initial Comoving Distance, $d_c$ (Mpc)', plot.LABEL_GW_FREQUENCY_YR]\n",
    "    colors = cm.rainbow(np.linspace(0,1,len(hc_ss[0,0])))\n",
    "    \n",
    "    draw_bg_bin_pars(axs, hc_bg[nn], bgpar[nn], fobs)\n",
    "    draw_ss_bin_pars(axs, hc_ss[nn], sspar[nn], fobs, labels, colors)\n",
    "    fig.tight_layout()\n",
    "    return fig\n",
    "\n",
    "fig = plot_bin_pars(nsort[0], hc_ss, hc_bg, sspar, bgpar, fobs)"
   ]
  },
  {
   "attachments": {},
   "cell_type": "markdown",
   "metadata": {},
   "source": [
    "# DetFrac vs. Parameter"
   ]
  },
  {
   "attachments": {},
   "cell_type": "markdown",
   "metadata": {},
   "source": [
    "## hard_time\n",
    "I expect with shorter hardening times, we would see more sources (loud and bg)."
   ]
  },
  {
   "cell_type": "code",
   "execution_count": null,
   "metadata": {},
   "outputs": [],
   "source": [
    "def draw_df(ax, xx, df_ss=None, df_bg=None, label_ss='SS', label_bg='BG'):\n",
    "    if df_bg is not None:\n",
    "        ax.scatter(xx, df_bg, color='cornflowerblue', label=label_bg, \n",
    "                   marker='d', alpha=0.5)\n",
    "    if df_ss is not None:\n",
    "        ax.scatter(xx, df_ss, color='orangered', label=label_ss, \n",
    "                   marker='o', alpha=0.5)\n",
    "        \n",
    "fig, ax = plot.figax(xlabel=\"'hard_time'\", ylabel='Detection Fraction')\n",
    "draw_df(ax, params[:,0], df_ss, df_bg)"
   ]
  },
  {
   "cell_type": "code",
   "execution_count": null,
   "metadata": {},
   "outputs": [],
   "source": [
    "print(holo.utils.stats(params[:,1]))"
   ]
  },
  {
   "attachments": {},
   "cell_type": "markdown",
   "metadata": {},
   "source": [
    "sample astro pars"
   ]
  },
  {
   "cell_type": "code",
   "execution_count": null,
   "metadata": {},
   "outputs": [],
   "source": [
    "fig, axs = plot.figax(nrows=2, ncols=3, figsize=(12, 7), xscale='linear', yscale='linear')\n",
    "for aa, ax in enumerate(fig.axes[:5]):\n",
    "    ax.set_ylabel('%s' % space.param_names[aa]) \n",
    "    ax.scatter(np.arange(len(params)), params[:,aa])\n",
    "axs[1,0].set_xlabel('Sample')\n",
    "axs[1,1].set_xlabel('Sample')\n",
    "\n",
    "fig.tight_layout()"
   ]
  },
  {
   "attachments": {},
   "cell_type": "markdown",
   "metadata": {},
   "source": [
    "## Plot: DF vs astro pars"
   ]
  },
  {
   "cell_type": "code",
   "execution_count": null,
   "metadata": {},
   "outputs": [],
   "source": [
    "fig, axs = plot.figax(nrows=2, ncols=3, figsize=(12, 7), xscale='linear', sharey=True)\n",
    "for aa, ax in enumerate(fig.axes[:5]):\n",
    "    draw_df(ax, xx=params[:,aa], df_ss=df_ss, df_bg=df_bg)\n",
    "    ax.set_xlabel('%s' % space.param_names[aa]) \n",
    "    ax.set_ylim(10**-3, 10**0.1)\n",
    "axs[0,0].set_ylabel('Detection Fraction')\n",
    "axs[1,0].set_ylabel('Detection Fraction')\n",
    "\n",
    "fig.tight_layout()\n",
    "# draw_df(ax, params[:,0], df_ss, df_bg)"
   ]
  },
  {
   "attachments": {},
   "cell_type": "markdown",
   "metadata": {},
   "source": [
    "# Ranking best"
   ]
  },
  {
   "cell_type": "code",
   "execution_count": null,
   "metadata": {},
   "outputs": [],
   "source": [
    "nsort, fidx, hc_tt, hc_ref = detstats.rank_samples(hc_ss, hc_bg, fobs, hc_ref=detstats.HC_REF15_10YR,  fidx=1, ret_all=True)\n",
    "\n",
    "hc_tt = np.sqrt(np.sum(hc_ss**2, axis=-1) + hc_bg**2) # (N,F,R)\n",
    "hc_dif = np.abs(hc_tt[:,fidx,:] - hc_ref) # (N,R)\n",
    "hc_med_of_dif = np.median(hc_dif, axis=-1) # (N,) # median realization difference from ref freqs"
   ]
  },
  {
   "cell_type": "code",
   "execution_count": null,
   "metadata": {},
   "outputs": [],
   "source": [
    "hc_dif_of_med = np.median(hc_tt[:,fidx,:], axis=-1) # (N,)\n",
    "hc_dif_of_med = np.abs(hc_dif_of_med - hc_ref)"
   ]
  },
  {
   "attachments": {},
   "cell_type": "markdown",
   "metadata": {},
   "source": [
    "compare this ranking vs. the nsort ranking (which just used median hc_tt across all reals), out of curiosity"
   ]
  },
  {
   "cell_type": "code",
   "execution_count": null,
   "metadata": {},
   "outputs": [],
   "source": [
    "fig, ax = plot.figax(xlabel='sample ranking by nsort', ylabel='$|h_c - h_{c,\\mathrm{ref}}|$', \n",
    "                     xscale='linear', figsize=(10,5)\n",
    "                     )\n",
    "ax.plot(np.arange(len(nsort)), hc_med_of_dif[nsort], '-o', label='median of differences',\n",
    "           alpha=0.5, ms=3)\n",
    "ax.plot(np.arange(len(nsort)), hc_dif_of_med[nsort], '-o', label='differences of median',\n",
    "           alpha=0.5, ms=3)\n",
    "ax.legend()"
   ]
  },
  {
   "attachments": {},
   "cell_type": "markdown",
   "metadata": {},
   "source": [
    "## Plot: Ref-Diff vs Astro Pars"
   ]
  },
  {
   "cell_type": "code",
   "execution_count": null,
   "metadata": {},
   "outputs": [],
   "source": [
    "print(hc_med_of_dif.shape, df_bg.shape)"
   ]
  },
  {
   "cell_type": "code",
   "execution_count": null,
   "metadata": {},
   "outputs": [],
   "source": [
    "for pp in range(len(space.param_names)):\n",
    "    fig, ax = plot.figax(\n",
    "        xlabel='$|h_{c,\\mathrm{ref}} - h_c|$, decreasing likelihood', \n",
    "        ylabel=space.param_names[pp],\n",
    "        yscale='linear')\n",
    "    ax.plot(hc_dif_of_med[nsort], params[:,pp][nsort], '-o', alpha=0.5)"
   ]
  },
  {
   "cell_type": "code",
   "execution_count": null,
   "metadata": {},
   "outputs": [],
   "source": [
    "def draw_1dim(ax, xx, yy_ss=None, label_ss=None, color_ss='orangered',\n",
    "              yy_bg=None, label_bg=None, color_bg='cornflowerblue'):\n",
    "    if yy_bg is not None:\n",
    "        ax.scatter(xx, yy_bg, color=color_bg, label=label_bg, \n",
    "                   marker='d', alpha=0.5)\n",
    "    if yy_ss is not None:\n",
    "        print(xx.shape, yy_ss.shape)\n",
    "        ax.scatter(xx, yy_ss, color=color_ss, label=label_ss, \n",
    "                   marker='o', alpha=0.5)\n",
    "\n",
    "def draw_diff_vs_rank(ax):\n",
    "    # plot dif vs rank\n",
    "    ax.plot(np.arange(len(nsort)), hc_med_of_dif[nsort], '-o', label='median of differences',\n",
    "            alpha=0.5, ms=3)\n",
    "    ax.plot(np.arange(len(nsort)), hc_dif_of_med[nsort], '-o', label='differences of median',\n",
    "            alpha=0.5, ms=3)\n",
    "    ax.set_xscale('linear')\n",
    "    ax.legend()\n",
    "\n",
    "# Make figure\n",
    "fig, axs = plot.figax(nrows=2, ncols=3, figsize=(12, 7), sharey=True, xscale='linear')\n",
    "axs[0,0].set_ylabel('$|h_{c\\mathrm{ref}} - h_c|$ (decreasing likelihood)')\n",
    "axs[1,0].set_ylabel('$|h_{c\\mathrm{ref}} - h_c|$ (decreasing likelihood)')\n",
    "\n",
    "for aa, ax in enumerate(fig.axes[:5]):\n",
    "    draw_1dim(ax, xx=params[:,aa], \n",
    "              yy_ss=hc_med_of_dif, label_ss='median of diffs', color_ss='tab:blue',\n",
    "              yy_bg = hc_dif_of_med, label_bg='diff of medians', color_bg='tab:orange') # smaller dif = more likely\n",
    "    ax.set_xlabel('%s' % space.param_names[aa]) \n",
    "    # ax.set_ylim(10**-3, 10**0.1)\n",
    "draw_diff_vs_rank(axs[-1,-1])\n",
    "\n",
    "fig.tight_layout()"
   ]
  },
  {
   "cell_type": "code",
   "execution_count": null,
   "metadata": {},
   "outputs": [],
   "source": [
    "print(params.shape)"
   ]
  },
  {
   "attachments": {},
   "cell_type": "markdown",
   "metadata": {},
   "source": [
    "## Plot: Char strain vs astro parameters"
   ]
  },
  {
   "cell_type": "code",
   "execution_count": null,
   "metadata": {},
   "outputs": [],
   "source": [
    "def draw_hc_vs_param(ax, param,  xlabel=None, fobs=fobs, hc_ss=None, hc_bg=None, ):\n",
    "    argsort = np.argsort(param)\n",
    "    xx = param[argsort] # (N,)\n",
    "    \n",
    "    if hc_bg is not None:\n",
    "        y1 = hc_bg[argsort] # (N,F,R)\n",
    "        nfreqs = len(y1[0])\n",
    "\n",
    "    # x2 = np.repeat(xx, hc_ss[0].size).flatten()\n",
    "    # y2 = hc_ss[argsort].flatten() # (N,F,R,L)\n",
    "    if hc_ss is not None:\n",
    "        y2 = hc_ss[argsort][:,:,:,0] # only single loudest\n",
    "        y2 = np.median(y2, axis=-1) # ( N,F)\n",
    "        nfreqs = len(y2[0])\n",
    "\n",
    "    if xlabel is not None: ax.set_xlabel(xlabel)\n",
    "\n",
    "    colors=cm.rainbow(np.linspace(1,0,nfreqs))\n",
    "    for ff in range(nfreqs):\n",
    "        if (ff==0) or (ff == nfreqs-1):\n",
    "            flabel = '%.2f yr$^{-1}$, %.2f nHz' % (fobs[ff]*YR, fobs[ff]*10**9)\n",
    "            alpha=0.25\n",
    "        else: \n",
    "            flabel = None\n",
    "            alpha=0.07\n",
    "        if hc_bg is not None:\n",
    "            med, *conf = np.percentile(y1[:,ff,], [50,25,75], axis=-1)\n",
    "            ax.plot(xx, med, color=colors[ff], alpha=alpha, label=flabel, lw=1)\n",
    "        if hc_ss is not None:\n",
    "            ax.scatter(xx, y2[:,ff], color=colors[ff], alpha=0.05)\n",
    "        # ax.fill_between(xx, *conf, color=colors[ff], alpha=0.05)\n",
    "        # ax.scatter(xx[:,rr,:].flatten(), yy[:,rr,:].flatten(), marker='o', s=15, alpha=0.1, color=colors[rr])\n",
    "\n",
    "# def draw_bg_astro_pars(axs, hc_bg, bgpar, fobs, color='k'):\n",
    "#     x1 = bgpar[0,...] / MSOL \n",
    "#     x2 = bgpar[1,...]\n",
    "#     x3 = holo.cosmo.comoving_distance(bgpar[2,...]) \n",
    "#     x4 = np.repeat(fobs, hc_bg[0,:].size).reshape(hc_bg.shape) *YR\n",
    "#     yy = hc_bg\n",
    "\n",
    "#     for ii, xx in enumerate([x1, x2, x3, x4]):\n",
    "#         # axs[ii].set_xlabel(labels[ii])\n",
    "#         for rr in range(len(yy[0])):\n",
    "#             axs[ii].scatter(xx[:,rr], yy[:,rr], marker='x', s=15, alpha=0.1, color=color)\n",
    "\n",
    "\n",
    "# for aa, ax in enumerate(fig.axes[:5]):\n",
    "#     draw_1dim(ax, xx=params[:,aa], \n",
    "#               yy_ss=hc_med_of_dif, label_ss='median of diffs', color_ss='tab:blue',\n",
    "#               yy_bg = hc_dif_of_med, label_bg='diff of medians', color_bg='tab:orange') # smaller dif = more likely\n",
    "#     ax.set_xlabel('%s' % space.param_names[aa]) \n",
    "#     # ax.set_ylim(10**-3, 10**0.1)\n",
    "# draw_diff_vs_rank(axs[-1,-1])\n",
    "\n",
    "\n",
    "def plot_astro_pars(nn, hc_ss, hc_bg, params, param_names, fobs):\n",
    "    fig, axs = plot.figax(nrows=2, ncols=3, \n",
    "                          ylabel=plot.LABEL_CHARACTERISTIC_STRAIN, sharey=True,\n",
    "                        figsize=(10,7), xscale='linear')\n",
    "    # axs = axs.reshape(axs.size)\n",
    "\n",
    "    for aa, ax in enumerate(fig.axes[:5]):\n",
    "        draw_hc_vs_param(ax, params[:,aa], xlabel=param_names[aa], fobs=fobs, hc_ss=hc_ss, hc_bg=hc_bg,) \n",
    "\n",
    "    fig.legend(loc='lower right')\n",
    "\n",
    "    # colors = cm.rainbow(np.linspace(0,1,len(hc_ss[0,0])))\n",
    "    \n",
    "    # draw_bg_bin_pars(axs, hc_bg[nn], params[nn], fobs)\n",
    "    # draw_ss_bin_pars(axs, hc_ss[nn], params[nn], fobs, space.param_names, colors)\n",
    "    fig.tight_layout()\n",
    "    return fig\n",
    "\n",
    "fig = plot_astro_pars(nsort[0], hc_ss, hc_bg, params, space.param_names, fobs)"
   ]
  },
  {
   "attachments": {},
   "cell_type": "markdown",
   "metadata": {},
   "source": [
    "## Plot Mass vs GSMF"
   ]
  },
  {
   "cell_type": "code",
   "execution_count": null,
   "metadata": {},
   "outputs": [],
   "source": []
  },
  {
   "attachments": {},
   "cell_type": "markdown",
   "metadata": {},
   "source": [
    "# Analytic Functions"
   ]
  },
  {
   "attachments": {},
   "cell_type": "markdown",
   "metadata": {},
   "source": [
    "$$ \\frac{\\partial N}{\\mathrm{bin}} \\propto \\Phi (M,z) = \\ln (10) \\Phi_0 (z) \\times \\bigg( \\frac{M}{M_0(z)) }  \\bigg)^{1+\\alpha_0 (z0)} \\times \\exp \\bigg( -\\frac{M}{M_0(z)} \\bigg) $$"
   ]
  },
  {
   "attachments": {},
   "cell_type": "markdown",
   "metadata": {},
   "source": [
    "Phi vs M_0"
   ]
  },
  {
   "cell_type": "code",
   "execution_count": null,
   "metadata": {},
   "outputs": [],
   "source": [
    "phi0 = -2.77         # - 2.77  +/- [-0.29, +0.27]  [log10(1/Mpc^3)]\n",
    "phiz = -0.27         # - 0.27  +/- [-0.21, +0.23]  [log10(1/Mpc^3)]\n",
    "mchar0 = 10**11.24       # +11.24  +/- [-0.17, +0.20]  [log10(Msol)] # is this actually log10???\n",
    "mcharz = 0       #  0.0                        [log10(Msol)]    # noqa\n",
    "alpha0 = -1.24     # -1.24   +/- [-0.16, +0.16]\n",
    "alphaz = -0.03     # -0.03   +/- [-0.14, +0.16]"
   ]
  },
  {
   "attachments": {},
   "cell_type": "markdown",
   "metadata": {},
   "source": [
    "$\\Phi_0 = 10^{\\phi_0 + \\phi_z z}$, \\\n",
    "$M_\\mathrm{char} = M_0 + M_z z$, \\\n",
    "$\\alpha = \\alpha_0 + \\alpha_z z$ \n",
    "\n",
    "$$ \\Phi (M,z) = \\log (10) \\phi \\big( \\frac{M_*}{ M_\\mathrm{char}}\\big)^{1+\\alpha} \\exp \\big( \\frac{M_*}{ M_\\mathrm{char}}\\big) $$\n",
    "\n",
    "varying $\\phi_0$ and $M_0$\n",
    "\n",
    "Mchar is mass, mchar_log10 is log(mass) but M_* is mass?"
   ]
  },
  {
   "cell_type": "code",
   "execution_count": null,
   "metadata": {},
   "outputs": [],
   "source": [
    "def gsmf(mstar=10**11, redz=0.001, gsmf_phi0=-2.77, gsmf_mchar0_log10=11.24):\n",
    "    phi = np.power(10.0, gsmf_phi0 + phiz*redz)\n",
    "    mchar = 10**gsmf_mchar0_log10 + mcharz * redz\n",
    "    alpha = alpha0+alphaz*redz\n",
    "    xx = mstar/mchar\n",
    "    Phi = np.log(10.0) * phi * np.power(xx, 1.0 + alpha) * np.exp(-xx)\n",
    "    return Phi\n",
    "   "
   ]
  },
  {
   "cell_type": "code",
   "execution_count": null,
   "metadata": {},
   "outputs": [],
   "source": [
    "print(space.param_names)\n",
    "phi0_ii  = 1\n",
    "mchar_ii = 2"
   ]
  },
  {
   "cell_type": "code",
   "execution_count": null,
   "metadata": {},
   "outputs": [],
   "source": [
    "phi0 = np.linspace(params[:,phi0_ii].min(), params[:,phi0_ii].max(), 1000)\n",
    "Phi_phi0 = np.zeros_like(phi0)\n",
    "\n",
    "for ii, phi0_val in enumerate(phi0):\n",
    "    Phi_phi0[ii] = gsmf(gsmf_phi0=phi0_val)"
   ]
  },
  {
   "cell_type": "code",
   "execution_count": null,
   "metadata": {},
   "outputs": [],
   "source": [
    "fig, ax = plot.figax(\n",
    "    xlabel='gsmf_phi0 [log(1/Mpc$^3$)]',\n",
    "    ylabel = '$\\Phi$(gsmf_phi0) [1/Mpc$^{3}$]', xscale='linear')\n",
    "ax.plot(phi0, Phi_phi0)"
   ]
  },
  {
   "cell_type": "code",
   "execution_count": null,
   "metadata": {},
   "outputs": [],
   "source": [
    "mchar0_log10 = np.linspace(params[:,mchar_ii].min(), params[:,mchar_ii].max(), 1000)\n",
    "Phi_mchar0= np.zeros_like(phi0)\n",
    "\n",
    "for ii, mchar_val in enumerate(mchar0_log10):\n",
    "    Phi_mchar0[ii] = gsmf(gsmf_mchar0_log10=mchar_val)"
   ]
  },
  {
   "cell_type": "code",
   "execution_count": null,
   "metadata": {},
   "outputs": [],
   "source": [
    "fig, ax = plot.figax(\n",
    "    xlabel='gsmf_mchar0_log10 [log($M_\\odot$)]',\n",
    "    ylabel = '$\\Phi$(gsmf_mchar0_log10) [1/Mpc$^{3}$]', xscale='linear')\n",
    "ax.plot(mchar0_log10, Phi_mchar0)"
   ]
  },
  {
   "cell_type": "code",
   "execution_count": null,
   "metadata": {},
   "outputs": [],
   "source": [
    "\n",
    "fig, ax = plot.figax(\n",
    "    xlabel='gsmf_mchar0_log10 [log($M_\\odot$)]',\n",
    "    ylabel = '$\\Phi$(gsmf_mchar0_log10) [1/Mpc$^{3}$]', xscale='linear')\n",
    "\n",
    "colors = cm.rainbow(np.linspace(0,1,5))\n",
    "for mm, mstar in enumerate([10**8, 10**9, 10**10, 10**11, 10**12]): #, 10**13]):\n",
    "    for ii, mchar_val in enumerate(mchar0_log10):\n",
    "        Phi_mchar0[ii] = gsmf(gsmf_mchar0_log10=mchar_val, mstar=mstar)\n",
    "    ax.plot(mchar0_log10, Phi_mchar0, label='$M_*=$ %.1e' % mstar, color=colors[mm])\n",
    "\n",
    "ax.legend()"
   ]
  },
  {
   "cell_type": "code",
   "execution_count": null,
   "metadata": {},
   "outputs": [],
   "source": [
    "def _phi_func(self, redz):\n",
    "    \"\"\"See: [Chen2019]_ Eq.9\n",
    "    \"\"\"\n",
    "    return np.power(10.0, self._phi0 + self._phiz * redz)\n",
    "\n",
    "def _mchar_func(self, redz):\n",
    "    \"\"\"See: [Chen2019]_ Eq.10 - NOTE: added `redz` term\n",
    "    \"\"\"\n",
    "    return self._mchar0 + self._mcharz * redz\n",
    "\n",
    "def _alpha_func(self, redz):\n",
    "    \"\"\"See: [Chen2019]_ Eq.11\n",
    "    \"\"\"\n",
    "    return self._alpha0 + self._alphaz * redz"
   ]
  },
  {
   "cell_type": "code",
   "execution_count": null,
   "metadata": {},
   "outputs": [],
   "source": [
    "phi = sam._phi_func(redz)\n",
    "mchar = sam._mchar_func(redz)\n",
    "alpha = sam._alpha_func(redz)\n",
    "xx = mstar / mchar\n",
    "# [Chen2019]_ Eq.8\n",
    "rv = np.log(10.0) * phi * np.power(xx, 1.0 + alpha) * np.exp(-xx)"
   ]
  },
  {
   "cell_type": "code",
   "execution_count": null,
   "metadata": {},
   "outputs": [],
   "source": [
    "\n",
    "\n",
    "def plot_mass_vs_param(param, xlabel):\n",
    "    fig, ((ax1, ax2), (ax3, ax4)) = plot.figax(\n",
    "        xlabel = xlabel,\n",
    "        ncols=2, nrows=2, figsize=(12,8), sharex=True\n",
    "    )\n",
    "    argsort = np.argsort(param)\n",
    "    xx = param[argsort] # (N,)\n",
    "    y1 = bgpar[:,0,...][argsort] # (N,F,R)\n",
    "    y2 = np.median(sspar[:,0,...,0][argsort], -1) # (N,F)\n",
    "    nfreqs = len(fobs)\n",
    "\n",
    "    colors=cm.rainbow(np.linspace(1,0,nfreqs))\n",
    "    for ff in range(nfreqs):\n",
    "        if (ff==0) or (ff == nfreqs-1):\n",
    "            flabel = '%.2f yr$^{-1}$, %.2f nHz' % (fobs[ff]*YR, fobs[ff]*10**9)\n",
    "            alpha=0.25\n",
    "        else: \n",
    "            flabel = None\n",
    "            alpha=0.07\n",
    "        med, *conf = np.percentile(y1[:,ff,], [50,25,75], axis=-1)\n",
    "        ax1.plot(xx, med, color=colors[ff], alpha=alpha, label=flabel, lw=1)\n",
    "        ax2.scatter(xx, y2[:,ff], color=colors[ff], alpha=0.1)\n",
    "\n",
    "\n",
    "    ax1.set_ylabel('strain_weighted bg $M\\ (M_\\odot)$')\n",
    "    ax1.legend()\n",
    "    ax2.set_ylabel('single source $M\\ (M_\\odot)$')\n",
    "    ax2.sharey(ax1)\n",
    "\n",
    "    draw_hc_vs_param(ax3, param, fobs=fobs, hc_ss=None, hc_bg=hc_bg,) \n",
    "    draw_hc_vs_param(ax4, param, fobs=fobs, hc_ss=hc_ss, hc_bg=None,) \n",
    "    ax3.set_ylabel('bg $h_c$',)\n",
    "    ax4.set_ylabel('ss $h_c$',)\n",
    "    ax4.sharey(ax3)\n",
    "    fig.tight_layout()\n",
    "    return fig\n",
    "\n",
    "fig = plot_mass_vs_param(param = 10**params[:,mchar_ii],\n",
    "                         xlabel='GSMF $M_\\mathrm{char,0}\\ (M_\\odot)$')\n",
    "fig2 = plot_mass_vs_param(param = 10**params[:, phi0_ii],\n",
    "                         xlabel='GSMF $10^{\\Phi_0}\\ [1\\mathrm{1/Mpc^3}]$')"
   ]
  },
  {
   "cell_type": "code",
   "execution_count": null,
   "metadata": {},
   "outputs": [],
   "source": []
  }
 ],
 "metadata": {
  "kernelspec": {
   "display_name": "holo310",
   "language": "python",
   "name": "python3"
  },
  "language_info": {
   "codemirror_mode": {
    "name": "ipython",
    "version": 3
   },
   "file_extension": ".py",
   "mimetype": "text/x-python",
   "name": "python",
   "nbconvert_exporter": "python",
   "pygments_lexer": "ipython3",
   "version": "3.10.10"
  }
 },
 "nbformat": 4,
 "nbformat_minor": 2
}
