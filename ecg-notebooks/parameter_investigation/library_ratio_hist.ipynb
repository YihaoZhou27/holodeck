{
 "cells": [
  {
   "cell_type": "code",
   "execution_count": null,
   "metadata": {},
   "outputs": [],
   "source": [
    "%reload_ext autoreload\n",
    "%autoreload 2\n",
    "from importlib import reload\n",
    "\n",
    "import numpy as np\n",
    "import matplotlib.pyplot as plt\n",
    "import matplotlib.cm as cm\n",
    "import matplotlib as mpl\n",
    "import h5py\n",
    "import tqdm\n",
    "\n",
    "\n",
    "from holodeck import plot, detstats\n",
    "import holodeck.single_sources as sings\n",
    "from holodeck.constants import YR, MSOL, MPC, GYR, PC\n",
    "import holodeck as holo\n",
    "from holodeck.sams import sam\n",
    "\n",
    "import hasasia.sim as hsim\n",
    "\n",
    "import sys\n",
    "sys.path.append('/Users/emigardiner/GWs/holodeck/ecg-notebooks/parameter_investigation')\n",
    "import anatomy as anat"
   ]
  },
  {
   "cell_type": "code",
   "execution_count": null,
   "metadata": {},
   "outputs": [],
   "source": [
    "file_path = '/Users/emigardiner/GWs/holodeck/output/brc_output/ss63_09Bparams_2023-06-22_uniform-09b_n500_r100_f40_l10'\n",
    "hdf = h5py.File(file_path+'/sam_lib.hdf5', 'r')\n",
    "\n",
    "print(hdf.keys())\n",
    "sample_params = hdf['sample_params'][...]\n",
    "hc_ss = hdf['hc_ss'][...]\n",
    "hc_bg = hdf['hc_bg'][...]\n",
    "sspar = hdf['sspar'][...]\n",
    "bgpar = hdf['bgpar'][...]\n",
    "fobs_gw_cents = hdf['fobs'][:]\n",
    "hdf.close()\n",
    "\n",
    "dur = 1/fobs_gw_cents[0]\n",
    "fobs_gw_cents, fobs_gw_edges = holo.utils.pta_freqs(dur, num=len(fobs_gw_cents))\n",
    "nsamps, nfreqs, nreals, nloudest = [*hc_ss.shape]\n"
   ]
  },
  {
   "cell_type": "code",
   "execution_count": null,
   "metadata": {},
   "outputs": [],
   "source": [
    "npz = np.load(file_path+'/PS_Uniform_09B.pspace.npz', allow_pickle=True)\n",
    "print(npz.files)\n",
    "param_names = npz['param_names']\n",
    "print(param_names)\n",
    "print(npz['class_name'])\n",
    "lib_name = '%s v%s, %d samples' % (npz['class_name'], npz['librarian_version'], nsamps)\n",
    "print(lib_name)\n",
    "# print(npz['sam_shape'])\n",
    "npz.close()"
   ]
  },
  {
   "cell_type": "code",
   "execution_count": null,
   "metadata": {},
   "outputs": [],
   "source": [
    "# Load detstats\n",
    "npz = np.load('/Users/emigardiner/GWs/holodeck/output/brc_output/ss63_09Bparams_2023-06-22_uniform-09b_n500_r100_f40_l10/detstats/clbrt_psrs40/detstats_lib.npz')\n",
    "print(npz.files)\n",
    "# print(npz['snr_ss'].shape)\n",
    "dp_ss = npz['dp_ss']\n",
    "dp_bg = npz['dp_bg']\n",
    "df_ss = npz['df_ss']\n",
    "df_bg = npz['df_bg']\n",
    "ev_ss = npz['ev_ss']\n",
    "nskies = dp_ss.shape[-1]\n",
    "print(f\"{ev_ss.shape=}, {dp_ss.shape=}\")\n",
    "npz.close()"
   ]
  },
  {
   "cell_type": "code",
   "execution_count": null,
   "metadata": {},
   "outputs": [],
   "source": [
    "print(sample_params.shape\n",
    "      )"
   ]
  },
  {
   "attachments": {},
   "cell_type": "markdown",
   "metadata": {},
   "source": [
    "# Get Edges"
   ]
  },
  {
   "cell_type": "code",
   "execution_count": null,
   "metadata": {},
   "outputs": [],
   "source": [
    "NBINS = 40\n",
    "ht_min = np.min(sample_params[:,0])\n",
    "ht_max = np.max(sample_params[:,0])\n",
    "print(f\"{ht_min=}, {ht_max=}\")\n",
    "ht_edges = np.linspace(ht_min, ht_max, NBINS)\n",
    "ev_edges = np.geomspace(2.5e-3, 10.0, NBINS)"
   ]
  },
  {
   "attachments": {},
   "cell_type": "markdown",
   "metadata": {},
   "source": [
    "# Get data"
   ]
  },
  {
   "cell_type": "code",
   "execution_count": null,
   "metadata": {},
   "outputs": [],
   "source": [
    "\n",
    "ev2dp = ev_ss/dp_bg[...,np.newaxis]\n",
    "thard = sample_params[:,0]\n",
    "print(f\"{ev2dp.shape=}, {thard.shape=}\")\n",
    "thard = np.repeat(thard, nreals*nskies).reshape(nsamps, nreals, nskies)\n",
    "print(f\"{ev2dp.shape=}, {thard.shape=}\")\n"
   ]
  },
  {
   "attachments": {},
   "cell_type": "markdown",
   "metadata": {},
   "source": [
    "# Make Histogram"
   ]
  },
  {
   "cell_type": "code",
   "execution_count": null,
   "metadata": {},
   "outputs": [],
   "source": [
    "hist, eve, hte = np.histogram2d(ev2dp.flatten(), thard.flatten(), \n",
    "                            bins=(ev_edges, ht_edges))\n"
   ]
  },
  {
   "cell_type": "code",
   "execution_count": null,
   "metadata": {},
   "outputs": [],
   "source": [
    "xlabel = plot.PARAM_KEYS['hard_time']\n",
    "ylabel = '$EV_\\mathrm{SS}/DP_\\mathrm{BG}$'\n",
    "xscale = 'linear'\n",
    "yscale = 'log'\n",
    "\n",
    "\n",
    "htgrid, evgrid = np.meshgrid(ht_edges, ev_edges)\n",
    "fig, ax = plot.figax_single(xscale=xscale, yscale=yscale, xlabel=xlabel, ylabel=ylabel)\n",
    "im = ax.pcolormesh(htgrid, evgrid, np.log10(hist))\n",
    "plt.colorbar(im, ax=ax, label='$\\log N$')"
   ]
  },
  {
   "attachments": {},
   "cell_type": "markdown",
   "metadata": {},
   "source": [
    "# For Every Parameter"
   ]
  },
  {
   "cell_type": "code",
   "execution_count": null,
   "metadata": {},
   "outputs": [],
   "source": [
    "NBINS = 40\n",
    "\n",
    "yy = ev_ss/dp_bg[...,np.newaxis]\n",
    "yy_edges = np.geomspace(2.5e-4, 15.0, NBINS)\n",
    "\n",
    "param_hists = []\n",
    "param_edges = []\n",
    "for ii, target in enumerate(param_names):\n",
    "    xx = sample_params[:,ii]\n",
    "    xx = np.repeat(xx, nreals*nskies)\n",
    "    xmin = np.min(xx)\n",
    "    xmax = np.max(xx)\n",
    "    xx_edges = np.linspace(xmin, xmax, NBINS)\n",
    "    print(f\"{target} {xmin=}, {xmax=}\")\n",
    "\n",
    "    hist, yye, xxe = np.histogram2d(yy.flatten(), xx, bins=(yy_edges, xx_edges))\n",
    "    param_hists.append(hist)\n",
    "    param_edges.append(xx_edges)\n",
    "\n"
   ]
  },
  {
   "cell_type": "code",
   "execution_count": null,
   "metadata": {},
   "outputs": [],
   "source": [
    "fig, axs = plot.figax_double(nrows=2, ncols=3, sharey=True, sharex=False, xscale='linear')\n",
    "for ii, ax in enumerate(axs.flatten()):\n",
    "    ax.set_xlabel(plot.PARAM_KEYS[param_names[ii]])\n",
    "    if ii == 0 or ii == 3:\n",
    "        ax.set_ylabel(ylabel)\n",
    "    \n",
    "    xxgrid, yygrid = np.meshgrid(param_edges[ii], yy_edges)\n",
    "    im = ax.pcolormesh(xxgrid, yygrid, param_hists[ii])\n",
    "\n",
    "plt.subplots_adjust(wspace=0.03)\n",
    "\n",
    "# add colorbar\n",
    "plt.colorbar(im, ax=axs.ravel().tolist(), shrink=0.7, \n",
    "             orientation='vertical', pad=0.01, label='$N$', )"
   ]
  },
  {
   "cell_type": "code",
   "execution_count": null,
   "metadata": {},
   "outputs": [],
   "source": [
    "fig, axs = plot.figax_double(nrows=2, ncols=3, sharey=True, sharex=False, xscale='linear')\n",
    "for ii, ax in enumerate(axs.flatten()):\n",
    "    ax.set_xlabel(plot.PARAM_KEYS[param_names[ii]])\n",
    "    if ii == 0 or ii == 3:\n",
    "        ax.set_ylabel(ylabel)\n",
    "    \n",
    "    xxgrid, yygrid = np.meshgrid(param_edges[ii], yy_edges)\n",
    "    im = ax.pcolormesh(xxgrid, yygrid, np.log10(param_hists[ii]))\n",
    "\n",
    "plt.subplots_adjust(wspace=0.03)\n",
    "\n",
    "# add colorbar\n",
    "plt.colorbar(im, ax=axs.ravel().tolist(), shrink=0.7, \n",
    "             orientation='vertical', pad=0.01, label='$\\log N$', )"
   ]
  },
  {
   "cell_type": "code",
   "execution_count": null,
   "metadata": {},
   "outputs": [],
   "source": []
  }
 ],
 "metadata": {
  "kernelspec": {
   "display_name": "holo310",
   "language": "python",
   "name": "python3"
  },
  "language_info": {
   "codemirror_mode": {
    "name": "ipython",
    "version": 3
   },
   "file_extension": ".py",
   "mimetype": "text/x-python",
   "name": "python",
   "nbconvert_exporter": "python",
   "pygments_lexer": "ipython3",
   "version": "3.10.10"
  }
 },
 "nbformat": 4,
 "nbformat_minor": 2
}
