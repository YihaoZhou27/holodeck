{
 "cells": [
  {
   "cell_type": "code",
   "execution_count": null,
   "metadata": {},
   "outputs": [],
   "source": [
    "%reload_ext autoreload\n",
    "%autoreload 2\n",
    "from importlib import reload\n",
    "\n",
    "import numpy as np\n",
    "import matplotlib.pyplot as plt\n",
    "import matplotlib.cm as cm\n",
    "import h5py\n",
    "import tqdm\n",
    "\n",
    "\n",
    "from holodeck import plot, detstats\n",
    "import holodeck.single_sources as sings\n",
    "from holodeck.constants import YR, MSOL, MPC, GYR, PC\n",
    "import holodeck as holo\n",
    "from holodeck.sams import sam\n",
    "\n",
    "import hasasia.sim as hsim"
   ]
  },
  {
   "attachments": {},
   "cell_type": "markdown",
   "metadata": {},
   "source": [
    "# Load library data"
   ]
  },
  {
   "cell_type": "code",
   "execution_count": null,
   "metadata": {},
   "outputs": [],
   "source": [
    "file_path = '/Users/emigardiner/GWs/holodeck/output/brc_output/ss63_09Bparams_2023-06-22_uniform-09b_n500_r100_f40_l10'\n",
    "hdf = h5py.File(file_path+'/sam_lib.hdf5', 'r')\n",
    "\n",
    "print(hdf.keys())\n",
    "sample_params = hdf['sample_params'][...]\n",
    "hc_ss = hdf['hc_ss'][...]\n",
    "hc_bg = hdf['hc_bg'][...]\n",
    "sspar = hdf['sspar'][...]\n",
    "bgpar = hdf['bgpar'][...]\n",
    "fobs_gw_cents = hdf['fobs'][:]\n",
    "hdf.close()\n",
    "\n",
    "dur = 1/fobs_gw_cents[0]\n",
    "fobs_gw_cents, fobs_gw_edges = holo.utils.pta_freqs(dur, num=len(fobs_gw_cents))\n",
    "nsamps, nfreqs, nreals, nloudest = [*hc_ss.shape]\n",
    "print(f\"{nsamps=}, {nfreqs=}, {nreals=}, {nloudest=}\")\n"
   ]
  },
  {
   "attachments": {},
   "cell_type": "markdown",
   "metadata": {},
   "source": [
    "# Load Param Space"
   ]
  },
  {
   "cell_type": "code",
   "execution_count": null,
   "metadata": {},
   "outputs": [],
   "source": [
    "psfile = np.load(file_path+'/PS_Uniform_09B.pspace.npz')\n",
    "print(psfile.files)\n",
    "param_names = psfile['param_names']\n",
    "print(param_names)\n",
    "lib_name = '%s v%s, %d samples' % (psfile['class_name'], psfile['librarian_version'], nsamps)\n",
    "print(lib_name)\n",
    "psfile.close()\n"
   ]
  },
  {
   "attachments": {},
   "cell_type": "markdown",
   "metadata": {},
   "source": [
    "# Load Detstats"
   ]
  },
  {
   "cell_type": "code",
   "execution_count": null,
   "metadata": {},
   "outputs": [],
   "source": [
    "dsfile = np.load(file_path+'/detstats/psrs40_sigma7.37e-06/detstats.npz')\n",
    "print(dsfile.files)\n",
    "dp_ss = dsfile['dp_ss']\n",
    "dp_bg = dsfile['dp_bg']\n",
    "df_ss = dsfile['df_ss']\n",
    "df_bg = dsfile['df_bg']\n",
    "snr_ss = dsfile['snr_ss']\n",
    "snr_bg = dsfile['snr_bg']\n",
    "ev_ss = dsfile['ev_ss']\n",
    "dsfile.close()\n",
    "\n",
    "nskies = ev_ss.shape[-1]\n",
    "print(f\"{ev_ss.shape=}, {dp_bg.shape=}\")"
   ]
  },
  {
   "cell_type": "code",
   "execution_count": null,
   "metadata": {},
   "outputs": [],
   "source": [
    "ev_skymean = np.mean(ev_ss, axis=-1)\n",
    "evrat = ev_skymean/dp_bg"
   ]
  },
  {
   "cell_type": "code",
   "execution_count": null,
   "metadata": {},
   "outputs": [],
   "source": [
    "hard_time = sample_params[:,0]\n",
    "argsort = np.argsort(hard_time)\n",
    "\n",
    "xx = hard_time[argsort]\n",
    "yy = ev_ss[argsort].reshape(nsamps, nreals*nskies)\n",
    "# y2 = np.median(dprat, axis=-1)[argsort]\n",
    "\n",
    "fig, ax = plot.figax(xlabel='$t_\\mathrm{hard}$ [Gyr]', ylabel='Expectation Value for SS Detections')\n",
    "\n",
    "plot.draw_med_conf(ax, xx, yy)\n",
    "# ax.scatter(xx,yy, label='SS EV/ BG DP', alpha=0.5)\n",
    "# ax.scatter(xx, y2, label='SS DP/BG DP', alpha=0.5)\n",
    "# ax.legend()"
   ]
  },
  {
   "cell_type": "code",
   "execution_count": null,
   "metadata": {},
   "outputs": [],
   "source": [
    "hard_time = sample_params[:,0]\n",
    "argsort = np.argsort(hard_time)\n",
    "\n",
    "xx = hard_time[argsort]\n",
    "yy = evrat[argsort]\n",
    "# y2 = np.median(dprat, axis=-1)[argsort]\n",
    "\n",
    "fig, ax = plot.figax(xlabel='$t_\\mathrm{hard}$ [Gyr]', ylabel='exp # of SS / DP of BG')\n",
    "\n",
    "plot.draw_med_conf(ax, xx, yy)\n",
    "# ax.scatter(xx,yy, label='SS EV/ BG DP', alpha=0.5)\n",
    "# ax.scatter(xx, y2, label='SS DP/BG DP', alpha=0.5)\n",
    "# ax.legend()"
   ]
  },
  {
   "cell_type": "code",
   "execution_count": null,
   "metadata": {},
   "outputs": [],
   "source": [
    "fig, ax = plot.figax(xlabel='hard_time', ylabel='DP')\n",
    "xx = hard_time[argsort]"
   ]
  }
 ],
 "metadata": {
  "kernelspec": {
   "display_name": "holo310",
   "language": "python",
   "name": "python3"
  },
  "language_info": {
   "codemirror_mode": {
    "name": "ipython",
    "version": 3
   },
   "file_extension": ".py",
   "mimetype": "text/x-python",
   "name": "python",
   "nbconvert_exporter": "python",
   "pygments_lexer": "ipython3",
   "version": "3.10.10"
  }
 },
 "nbformat": 4,
 "nbformat_minor": 2
}
