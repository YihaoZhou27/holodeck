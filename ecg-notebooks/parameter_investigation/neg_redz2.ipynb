{
 "cells": [
  {
   "cell_type": "code",
   "execution_count": null,
   "metadata": {},
   "outputs": [],
   "source": [
    "%reload_ext autoreload\n",
    "%autoreload 2\n",
    "from importlib import reload\n",
    "\n",
    "import numpy as np\n",
    "import matplotlib.pyplot as plt\n",
    "import matplotlib.cm as cm\n",
    "import kalepy as kale\n",
    "\n",
    "import h5py\n",
    "\n",
    "\n",
    "from holodeck import plot, detstats, utils, cosmo\n",
    "import holodeck.sams.cyutils as sam_cyutils\n",
    "import holodeck.single_sources as sings\n",
    "from holodeck.constants import YR, MSOL, MPC, GYR\n",
    "import holodeck as holo\n",
    "\n",
    "import hasasia.sim as hsim"
   ]
  },
  {
   "cell_type": "code",
   "execution_count": null,
   "metadata": {},
   "outputs": [],
   "source": [
    "shape = 40\n",
    "\n",
    "fobs_cents, fobs_edges = utils.pta_freqs()\n",
    "sam = holo.sams.Semi_Analytic_Model(shape=shape)\n",
    "hard = holo.hardening.Fixed_Time_2PL_SAM(sam=sam, time=3*GYR)\n"
   ]
  },
  {
   "cell_type": "code",
   "execution_count": null,
   "metadata": {},
   "outputs": [],
   "source": [
    "nloudest = 5\n",
    "nreals = 10\n",
    "hc_ss, hc_bg, sspar, bgpar = sam.gwb(fobs_edges, hard, realize=nreals, loudest=nloudest, params=True)"
   ]
  },
  {
   "cell_type": "code",
   "execution_count": null,
   "metadata": {},
   "outputs": [],
   "source": [
    "for ii, par in enumerate(bgpar):\n",
    "    print(f\"{sings.par_names[ii]}, {utils.stats(par)}\")"
   ]
  },
  {
   "cell_type": "code",
   "execution_count": null,
   "metadata": {},
   "outputs": [],
   "source": [
    "for ii, par in enumerate(sspar):\n",
    "    print(f\"{sings.par_names[ii]}, {utils.stats(par)}\")"
   ]
  },
  {
   "cell_type": "code",
   "execution_count": null,
   "metadata": {},
   "outputs": [],
   "source": [
    "fobs_orb_cents = fobs_cents/2\n",
    "fobs_orb_edges = fobs_edges/2"
   ]
  },
  {
   "cell_type": "code",
   "execution_count": null,
   "metadata": {},
   "outputs": [],
   "source": [
    "redz_final, diff_num = sam_cyutils.dynamic_binary_number_at_fobs(\n",
    "    fobs_orb_cents, sam, hard, holo.cosmo\n",
    ")\n",
    "\n",
    "edges = [sam.mtot, sam.mrat, sam.redz, fobs_orb_edges]\n",
    "number = sam_cyutils.integrate_differential_number_3dx1d(edges, diff_num)"
   ]
  },
  {
   "cell_type": "code",
   "execution_count": null,
   "metadata": {},
   "outputs": [],
   "source": [
    "print(number.shape)"
   ]
  },
  {
   "attachments": {},
   "cell_type": "markdown",
   "metadata": {},
   "source": [
    "### Internal to ss_gws_redz()"
   ]
  },
  {
   "cell_type": "code",
   "execution_count": null,
   "metadata": {},
   "outputs": [],
   "source": [
    "redz=redz_final\n",
    "\n",
    "# All other bin midpoints\n",
    "mt = kale.utils.midpoints(edges[0]) #: total mass\n",
    "mr = kale.utils.midpoints(edges[1]) #: mass ratio\n",
    "rz = kale.utils.midpoints(edges[2]) #: initial redshift\n",
    "\n",
    "\n",
    "# hsfdf = hsamp^2 * f/df # this is same as hc^2\n",
    "h2fdf = holo.gravwaves.char_strain_sq_from_bin_edges_redz(edges, redz)\n",
    "\n",
    "# indices of bins sorted by h2fdf\n",
    "indices = np.argsort(-h2fdf[...,0].flatten()) # just sort for first frequency\n",
    "unraveled = np.array(np.unravel_index(indices, (len(mt),len(mr),len(rz))))\n",
    "msort = unraveled[0,:]\n",
    "qsort = unraveled[1,:]\n",
    "zsort = unraveled[2,:]"
   ]
  },
  {
   "cell_type": "code",
   "execution_count": null,
   "metadata": {},
   "outputs": [],
   "source": [
    "print(utils.stats(redz))\n",
    "if np.any(np.logical_and(redz<0, redz!=-1)):\n",
    "            err = np.sum(np.logical_and(redz<0, redz!=-1))\n",
    "            err = f\"{err} redz < 0 and !=-1 found in redz, in ss_gws_redz()\"\n",
    "            raise ValueError(err)"
   ]
  },
  {
   "cell_type": "code",
   "execution_count": null,
   "metadata": {},
   "outputs": [],
   "source": [
    "for dd in range(3):\n",
    "    redz = np.moveaxis(redz, dd, 0)\n",
    "    redz = kale.utils.midpoints(redz, axis=0)\n",
    "    redz = np.moveaxis(redz, 0, dd)\n"
   ]
  },
  {
   "cell_type": "code",
   "execution_count": null,
   "metadata": {},
   "outputs": [],
   "source": [
    "print(utils.stats(redz))\n",
    "if np.any(np.logical_and(redz<0, redz!=-1)):\n",
    "    err = np.sum(np.logical_and(redz<0, redz!=-1))\n",
    "    err = f\"{err} redz < 0 and !=-1 found in redz, in ss_gws_redz()\"\n",
    "    print(err)"
   ]
  },
  {
   "cell_type": "code",
   "execution_count": null,
   "metadata": {},
   "outputs": [],
   "source": [
    "print(redz.size)"
   ]
  },
  {
   "cell_type": "code",
   "execution_count": null,
   "metadata": {},
   "outputs": [],
   "source": [
    "dcom_final = +np.inf*np.ones_like(redz)\n",
    "# print(holo.utils.stats(redz), \"before sel\")\n",
    "sel = (redz > 0.0)\n",
    "redz[~sel] = -1.0\n",
    "# print(holo.utils.stats(redz), \"after sel\")\n",
    "redz[redz<0] = -1.0\n",
    "# print(holo.utils.stats(redz), \"after redz[redz<0]=-1\")\n",
    "dcom_final[sel] = cosmo.comoving_distance(redz[sel]).cgs.value\n",
    "if np.any(dcom_final<0): print('dcom_final<0 found')\n",
    "if np.any(np.isnan(dcom_final)): print('nan dcom_final found')\n",
    "# redz[redz<0] = -1"
   ]
  },
  {
   "cell_type": "code",
   "execution_count": null,
   "metadata": {},
   "outputs": [],
   "source": [
    "print(utils.stats(redz))\n",
    "print(utils.stats(dcom_final))"
   ]
  },
  {
   "cell_type": "code",
   "execution_count": null,
   "metadata": {},
   "outputs": [],
   "source": [
    "\n",
    "fobs_orb_edges = edges[-1]\n",
    "fobs_orb_cents = kale.utils.midpoints(fobs_orb_edges)\n",
    "frst_orb_cents = utils.frst_from_fobs(fobs_orb_cents[np.newaxis,np.newaxis,np.newaxis,:], redz) # (M,Q,Z,F,), final\n"
   ]
  },
  {
   "cell_type": "code",
   "execution_count": null,
   "metadata": {},
   "outputs": [],
   "source": [
    "\n",
    "sepa = utils.kepler_sepa_from_freq(mt[:,np.newaxis,np.newaxis,np.newaxis], frst_orb_cents) # (M,Q,Z,F) in cm\n",
    "angs = utils.angs_from_sepa(sepa, dcom_final, redz) # (M,Q,Z,F) use sepa and dcom in cm\n",
    "\n",
    "print(utils.stats(sepa))\n",
    "print(utils.stats(angs))"
   ]
  },
  {
   "cell_type": "code",
   "execution_count": null,
   "metadata": {},
   "outputs": [],
   "source": [
    "shape=number.shape\n",
    "print(shape)\n",
    "M, Q, Z, F = [*shape]\n",
    "L = nloudest\n",
    "R = nreals\n",
    "\n",
    "hc2ss = np.zeros_like(hc_ss)\n",
    "hc2bg = np.zeros_like(hc_bg)\n",
    "bgpar = np.zeros((7,F,R,))\n",
    "sspar = np.zeros((4,F,R,L))"
   ]
  },
  {
   "cell_type": "code",
   "execution_count": null,
   "metadata": {},
   "outputs": [],
   "source": [
    "thresh = 0.5 \n",
    "for rr in range(R):\n",
    "    for ff in range(F):\n",
    "        ll = 0 # track which index in the loudest list you're currently storing\n",
    "                    # start at 0 for the loudest of all.\n",
    "        # reset strain sums\n",
    "        sum_bg = 0 # sum of bg h2fdf, for parameter averaging and gwb\n",
    "        # reset parameter averaging sums\n",
    "        m_bg = 0\n",
    "        q_bg = 0\n",
    "        z_bg = 0\n",
    "        zfinal_bg = 0\n",
    "        dcom_bg = 0\n",
    "        sepa_bg = 0\n",
    "        angs_bg = 0\n",
    "        for bb in range(M*Q*Z): #iterate through bins, loudest to quietest\n",
    "            mm = msort[bb]\n",
    "            qq = qsort[bb]\n",
    "            zz = zsort[bb]\n",
    "            num = number[mm,qq,zz,ff]\n",
    "            num = np.random.poisson(num)\n",
    "            # if(num < 1):\n",
    "            #     continue\n",
    "            cur = h2fdf[mm,qq,zz,ff] # h^2 * f/df of current bin\n",
    "            # if (num<1):\n",
    "            #     continue # to next loudest bin\n",
    "            while (ll < L) and (num > 0) and (cur>0):\n",
    "                # store ll loudest source strain\n",
    "                hc2ss[ff,rr,ll] = cur\n",
    "\n",
    "                # store indices of ll loudest source\n",
    "                sspar[0,ff,rr,ll] = mt[mm]\n",
    "                sspar[1,ff,rr,ll] = mr[qq]\n",
    "                sspar[2,ff,rr,ll] = rz[zz]\n",
    "                sspar[3,ff,rr,ll] = redz_final[mm,qq,zz,ff]\n",
    "\n",
    "                # check for negative redz_final\n",
    "                if redz_final[mm,qq,zz,ff]<0 and redz_final[mm,qq,zz,ff]!=-1:\n",
    "                    # badz = badz+1\n",
    "                    err = f\"redz_final[{mm},{qq},{zz},{ff}] = {redz_final[mm,qq,zz,ff]} < 0\"\n",
    "                    print(\"ERROR IN CYUTILS:\", err)\n",
    "\n",
    "                # update number and ll index\n",
    "                num -= 1\n",
    "                ll += 1\n",
    "            if cur > 0 and num > 0:\n",
    "                sum_bg += num * cur # tot bg h2fdf\n",
    "                # add to average parameters of background sources\n",
    "                m_bg += num * cur * mt[mm] # tot weight bg mass\n",
    "                q_bg += num * cur * mr[qq] # tot weighted bg ratio\n",
    "                z_bg += num * cur * rz[zz] # tot weighted bg redshift\n",
    "                zfinal_bg += num * cur * redz_final[mm,qq,zz,ff] # tot weighted bg redshift after hardening\n",
    "                dcom_bg += num * cur * dcom_final[mm,qq,zz,ff] # tot weighted bg com. dist. after hardening\n",
    "                sepa_bg += num * cur * sepa[mm,qq,zz,ff] # tot weighted bg separation after hardening\n",
    "                angs_bg += num * cur * angs[mm,qq,zz,ff] # tot weighted bg angular separation after hardening\n",
    "\n",
    "        if np.any(sspar[3,ff,rr,:]<0):\n",
    "            print(f\"{ff=}, {rr=}, {sspar[3,ff,rr,:]=}\")\n",
    "        if ll < nloudest-1: \n",
    "            print(f'not enough loudest at {ff=}, {rr=}, {ll=} ')\n",
    "        hc2bg[ff,rr] = sum_bg # background strain\n",
    "        # background average parameters\n",
    "        bgpar[0,ff,rr] = m_bg/sum_bg # bg avg mass\n",
    "        bgpar[1,ff,rr] = q_bg/sum_bg # bg avg ratio\n",
    "        bgpar[2,ff,rr] = z_bg/sum_bg # bg avg redshift\n",
    "        bgpar[3,ff,rr] = zfinal_bg/sum_bg # bg avg redshift after hardening\n",
    "        bgpar[4,ff,rr] = dcom_bg/sum_bg # bg avg comoving distance after hardening\n",
    "        bgpar[5,ff,rr] = sepa_bg/sum_bg # bg avg binary separation after hardening\n",
    "        bgpar[6,ff,rr] = angs_bg/sum_bg # bg avg binary angular separation after hardening\n",
    "        # print(f\"{ff=}, {rr=}, {dcom_bg=}, {sum_bg=}\")\n"
   ]
  },
  {
   "cell_type": "code",
   "execution_count": null,
   "metadata": {},
   "outputs": [],
   "source": [
    "print(hc2ss[27,0,:])"
   ]
  },
  {
   "cell_type": "code",
   "execution_count": null,
   "metadata": {},
   "outputs": [],
   "source": [
    "print(redz_final[:,:,:,27])"
   ]
  },
  {
   "cell_type": "code",
   "execution_count": null,
   "metadata": {},
   "outputs": [],
   "source": [
    "for bb in range(M*Q*Z):\n",
    "    mm = msort[bb]\n",
    "    qq = qsort[bb]\n",
    "    zz = zsort[bb]\n",
    "    if mm==19 and qq==19 and zz==19:\n",
    "        print(f\"{bb=}, {mm}, {qq}, {zz}\") # this is the quietest bin!"
   ]
  },
  {
   "cell_type": "code",
   "execution_count": null,
   "metadata": {},
   "outputs": [],
   "source": [
    "print(h2fdf[19,19,19])"
   ]
  },
  {
   "cell_type": "code",
   "execution_count": null,
   "metadata": {},
   "outputs": [],
   "source": [
    "print(M*Q*Z)"
   ]
  },
  {
   "cell_type": "code",
   "execution_count": null,
   "metadata": {},
   "outputs": [],
   "source": [
    "print(M*Q*Z)"
   ]
  },
  {
   "cell_type": "code",
   "execution_count": null,
   "metadata": {},
   "outputs": [],
   "source": [
    "print(len(msort))"
   ]
  },
  {
   "cell_type": "code",
   "execution_count": null,
   "metadata": {},
   "outputs": [],
   "source": [
    "print(msort[-1]) # this is the quietest bin\n",
    "print(qsort[-1])\n",
    "print(zsort[-1])"
   ]
  },
  {
   "cell_type": "code",
   "execution_count": null,
   "metadata": {},
   "outputs": [],
   "source": [
    "for ff in range(F):\n",
    "    for rr in range(nreals):\n",
    "        for ll in range(nloudest):\n",
    "            if sspar[3,ff,rr,ll]<0:\n",
    "                print(f\"{ff=}, {rr=}, {ll=}\")"
   ]
  },
  {
   "cell_type": "code",
   "execution_count": null,
   "metadata": {},
   "outputs": [],
   "source": [
    "print(sspar[3,:,:,:][sspar[3]<0])"
   ]
  },
  {
   "cell_type": "code",
   "execution_count": null,
   "metadata": {},
   "outputs": [],
   "source": [
    "print(utils.stats(sspar[3]))"
   ]
  },
  {
   "cell_type": "code",
   "execution_count": null,
   "metadata": {},
   "outputs": [],
   "source": [
    "print(np.sum(sspar[3][sspar[3]<0]))"
   ]
  },
  {
   "cell_type": "code",
   "execution_count": null,
   "metadata": {},
   "outputs": [],
   "source": [
    "print(sspar[3])"
   ]
  },
  {
   "cell_type": "code",
   "execution_count": null,
   "metadata": {},
   "outputs": [],
   "source": []
  }
 ],
 "metadata": {
  "kernelspec": {
   "display_name": "holo310",
   "language": "python",
   "name": "python3"
  },
  "language_info": {
   "codemirror_mode": {
    "name": "ipython",
    "version": 3
   },
   "file_extension": ".py",
   "mimetype": "text/x-python",
   "name": "python",
   "nbconvert_exporter": "python",
   "pygments_lexer": "ipython3",
   "version": "3.10.10"
  }
 },
 "nbformat": 4,
 "nbformat_minor": 2
}
