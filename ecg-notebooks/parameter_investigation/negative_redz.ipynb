{
 "cells": [
  {
   "cell_type": "code",
   "execution_count": null,
   "metadata": {},
   "outputs": [],
   "source": [
    "%reload_ext autoreload\n",
    "%autoreload 2\n",
    "from importlib import reload\n",
    "\n",
    "import numpy as np\n",
    "import matplotlib.pyplot as plt\n",
    "import matplotlib.cm as cm\n",
    "import h5py\n",
    "\n",
    "\n",
    "from holodeck import plot, detstats\n",
    "import holodeck.single_sources as sings\n",
    "from holodeck.constants import YR, MSOL, MPC, GYR\n",
    "import holodeck as holo\n",
    "\n",
    "import hasasia.sim as hsim"
   ]
  },
  {
   "cell_type": "code",
   "execution_count": null,
   "metadata": {},
   "outputs": [],
   "source": [
    "SHAPE = 10\n",
    "NREALS = 30\n",
    "NFREQS = 40\n",
    "NLOUDEST = 3"
   ]
  },
  {
   "attachments": {},
   "cell_type": "markdown",
   "metadata": {},
   "source": [
    "# Construct a pspace instance"
   ]
  },
  {
   "cell_type": "code",
   "execution_count": null,
   "metadata": {},
   "outputs": [],
   "source": [
    "# construct a param_space instance, note that `nsamples` and `seed` don't matter here for how we'll use this\n",
    "pspace = holo.param_spaces.PS_Uniform_09A(holo.log, nsamples=1, sam_shape=SHAPE, seed=None)\n",
    "\n",
    "# get the parameter names from this library-space\n",
    "param_names = pspace.param_names\n",
    "num_pars = len(pspace.param_names)\n",
    "print(f\"{num_pars=} :: {param_names=}\")\n",
    "\n",
    "# choose each parameter to be half-way across the range provided by the library\n",
    "pars = 0.5 * np.ones(num_pars)\n",
    "# params = pars * pspace.param_samples\n",
    "params = pspace.normalized_params(pars)\n",
    "print(f\"{pars=}\")\n",
    "print(f\"{params=}\")\n",
    "\n",
    "# construct `sam` and `hard` instances based on these parameters,\n",
    "# using otherwise all default parameters for this library\n",
    "sam, hard = pspace.model_for_normalized_params(pars)\n",
    "if isinstance(hard, holo.hardening.Fixed_Time_2PL_SAM):\n",
    "    hard_name = 'Fixed Time'\n",
    "elif isinstance(hard, holo.hardening.Hard_GW):\n",
    "    hard_name = 'GW Only'\n",
    "\n",
    "# sam, hard = pspace.model_for_params(pspace.normalized_params(pars)) #this is way slower, but why??\n",
    "\n",
    "# run this model, retrieving binary parameters and the GWB\n",
    "data = holo.librarian.run_model(sam, hard, NREALS, NFREQS, NLOUDEST, \n",
    "                                gwb_flag=False, singles_flag=True, params_flag=True, details_flag=True)\n",
    "print(f\"retrieved data: {data.keys()=}\")"
   ]
  },
  {
   "cell_type": "code",
   "execution_count": null,
   "metadata": {},
   "outputs": [],
   "source": [
    "print(hard._target_time/GYR)"
   ]
  },
  {
   "cell_type": "code",
   "execution_count": null,
   "metadata": {},
   "outputs": [],
   "source": [
    "\n",
    "hc_ss, hc_bg, sspar, bgpar = sam.gwb(\n",
    "    fobs_gw_edges=data['fobs_edges'], hard=holo.hardening.Fixed_Time_2PL_SAM(sam,3*GYR),\n",
    "    params=True, loudest=NLOUDEST, realize=NREALS, )\n",
    "print('%d out of %d' % (np.sum(sspar[2]<0), sspar[3].size))\n",
    "print('%d out of %d' % (np.sum(bgpar[2]<0), bgpar[3].size))\n"
   ]
  },
  {
   "cell_type": "code",
   "execution_count": null,
   "metadata": {},
   "outputs": [],
   "source": [
    "\n",
    "hc_ss, hc_bg, sspar, bgpar = sam.gwb(\n",
    "    fobs_gw_edges=data['fobs_edges'], hard=holo.hardening.Fixed_Time_2PL_SAM(sam,5.5*GYR),\n",
    "    params=True, loudest=NLOUDEST, realize=NREALS, )\n",
    "print('%d out of %d' % (np.sum(sspar[2]<0), sspar[3].size))\n",
    "print('%d out of %d' % (np.sum(bgpar[2]<0), bgpar[3].size))\n"
   ]
  },
  {
   "cell_type": "code",
   "execution_count": null,
   "metadata": {},
   "outputs": [],
   "source": [
    "sspar = data['sspar']\n",
    "bgpar = data['bgpar']\n",
    "\n",
    "print(f\"{sspar.shape=}\")\n",
    "print('%d out of %d' % (np.sum(sspar[3]<0), sspar[3].size))\n",
    "print('%d out of %d' % (np.sum(bgpar[3]<0), bgpar[3].size))"
   ]
  },
  {
   "cell_type": "markdown",
   "metadata": {},
   "source": [
    "# Check neg"
   ]
  },
  {
   "cell_type": "code",
   "execution_count": null,
   "metadata": {},
   "outputs": [],
   "source": [
    "fobs_gw_cents, fobs_gw_edges = holo.utils.pta_freqs()\n",
    "print(fobs_gw_cents.size)"
   ]
  },
  {
   "cell_type": "code",
   "execution_count": null,
   "metadata": {},
   "outputs": [],
   "source": [
    "sam = holo.sams.Semi_Analytic_Model(shape=SHAPE)\n",
    "\n",
    "hc_ss, hc_bg, sspar, bgpar = sam.gwb(\n",
    "    fobs_gw_edges=fobs_gw_edges, hard=holo.hardening.Fixed_Time_2PL_SAM(sam, 3*GYR),\n",
    "    params=True, loudest=NLOUDEST, realize=NREALS, )\n",
    "print('%d out of %d' % (np.sum(sspar[2]<0), sspar[3].size))\n",
    "print('%d out of %d' % (np.sum(bgpar[2]<0), bgpar[3].size))"
   ]
  },
  {
   "cell_type": "code",
   "execution_count": null,
   "metadata": {},
   "outputs": [],
   "source": [
    "sam = holo.sams.Semi_Analytic_Model(shape=15)\n",
    "hc_ss, hc_bg, sspar, bgpar = sam.gwb(\n",
    "    fobs_gw_edges=fobs_gw_edges, hard=holo.hardening.Fixed_Time_2PL_SAM(sam, 3*GYR),\n",
    "    params=True)\n",
    "print('%d out of %d' % (np.sum(sspar[2]<0), sspar[3].size))\n",
    "print('%d out of %d' % (np.sum(bgpar[2]<0), bgpar[3].size))\n",
    "print(np.where(np.logical_and(sspar[3]<0, sspar[3] != -1)))"
   ]
  },
  {
   "cell_type": "code",
   "execution_count": null,
   "metadata": {},
   "outputs": [],
   "source": [
    "arr = np.random.uniform(-5, 5, 3*4).reshape(3,4)\n",
    "arr[0,0]=-1\n",
    "arr[2,2]=-1\n",
    "print(arr)"
   ]
  },
  {
   "cell_type": "code",
   "execution_count": null,
   "metadata": {},
   "outputs": [],
   "source": [
    "t1 = arr>0\n",
    "t2 = arr==-1\n",
    "print(t1,'\\n', t2)\n",
    "either = np.logical_or(t1, t2)\n",
    "print(either)\n",
    "\n"
   ]
  },
  {
   "cell_type": "code",
   "execution_count": null,
   "metadata": {},
   "outputs": [],
   "source": [
    "either =  np.logical_or(arr>0, arr==-1)\n",
    "neither = np.logical_not(either)\n",
    "print(either)\n",
    "if np.any(neither):\n",
    "    print(np.sum(neither))"
   ]
  },
  {
   "cell_type": "markdown",
   "metadata": {},
   "source": []
  },
  {
   "cell_type": "code",
   "execution_count": null,
   "metadata": {},
   "outputs": [],
   "source": []
  }
 ],
 "metadata": {
  "kernelspec": {
   "display_name": "holo310",
   "language": "python",
   "name": "python3"
  },
  "language_info": {
   "codemirror_mode": {
    "name": "ipython",
    "version": 3
   },
   "file_extension": ".py",
   "mimetype": "text/x-python",
   "name": "python",
   "nbconvert_exporter": "python",
   "pygments_lexer": "ipython3",
   "version": "3.10.10"
  }
 },
 "nbformat": 4,
 "nbformat_minor": 2
}
