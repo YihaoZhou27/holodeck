{
 "cells": [
  {
   "cell_type": "code",
   "execution_count": null,
   "metadata": {},
   "outputs": [],
   "source": [
    "%reload_ext autoreload\n",
    "%autoreload 2\n",
    "from importlib import reload\n",
    "\n",
    "import numpy as np\n",
    "import matplotlib.pyplot as plt\n",
    "import matplotlib.cm as cm\n",
    "import h5py\n",
    "\n",
    "\n",
    "from holodeck import plot, detstats\n",
    "import holodeck.single_sources as sings\n",
    "from holodeck.constants import YR, MSOL, MPC, GYR\n",
    "import holodeck as holo\n",
    "\n",
    "import hasasia.sim as hsim"
   ]
  },
  {
   "cell_type": "code",
   "execution_count": null,
   "metadata": {},
   "outputs": [],
   "source": [
    "SHAPE = 30\n",
    "NREALS = 30\n",
    "NFREQS = 40\n",
    "NLOUDEST = 10"
   ]
  },
  {
   "attachments": {},
   "cell_type": "markdown",
   "metadata": {},
   "source": [
    "# Construct a pspace instance"
   ]
  },
  {
   "cell_type": "code",
   "execution_count": null,
   "metadata": {},
   "outputs": [],
   "source": [
    "# construct a param_space instance, note that `nsamples` and `seed` don't matter here for how we'll use this\n",
    "pspace = holo.param_spaces.PS_Uniform_09A(holo.log, nsamples=1, sam_shape=SHAPE, seed=None)\n",
    "\n",
    "# get the parameter names from this library-space\n",
    "param_names = pspace.param_names\n",
    "num_pars = len(pspace.param_names)\n",
    "print(f\"{num_pars=} :: {param_names=}\")\n",
    "\n",
    "# choose each parameter to be half-way across the range provided by the library\n",
    "pars = 0.5 * np.ones(num_pars)\n",
    "# params = pars * pspace.param_samples\n",
    "params = pspace.normalized_params(pars)\n",
    "print(f\"{pars=}\")\n",
    "print(f\"{params=}\")\n",
    "\n",
    "# construct `sam` and `hard` instances based on these parameters,\n",
    "# using otherwise all default parameters for this library\n",
    "sam, hard = pspace.model_for_normalized_params(pars)\n",
    "if isinstance(hard, holo.hardening.Fixed_Time_2PL_SAM):\n",
    "    hard_name = 'Fixed Time'\n",
    "elif isinstance(hard, holo.hardening.Hard_GW):\n",
    "    hard_name = 'GW Only'\n",
    "# sam, hard = pspace.model_for_params(pspace.normalized_params(pars)) #this is way slower, but why??\n",
    "\n",
    "# run this model, retrieving binary parameters and the GWB\n",
    "data = holo.librarian.run_model(sam, hard, NREALS, NFREQS, NLOUDEST, \n",
    "                                gwb_flag=False, singles_flag=True, params_flag=True, details_flag=True)\n",
    "print(f\"retrieved data: {data.keys()=}\")"
   ]
  },
  {
   "cell_type": "code",
   "execution_count": null,
   "metadata": {},
   "outputs": [],
   "source": [
    "sspar = data['sspar']\n",
    "bgpar = data['bgpar']\n",
    "\n",
    "print(f\"{sspar.shape=}\")\n",
    "print('%d out of %d' % (np.sum(sspar[3]<0), sspar[3].size))\n",
    "print('%d out of %d' % (np.sum(bgpar[3]<0), bgpar[3].size))"
   ]
  },
  {
   "cell_type": "code",
   "execution_count": null,
   "metadata": {},
   "outputs": [],
   "source": [
    "hc_ss, hc_bg, sspar, bgpar = sam.gwb(fobs_gw_edges=data['fobs_edges'], hard=holo.hardening.Fixed_Time_2PL_SAM(sam, 3*GYR))\n",
    "print('%d out of %d' % (np.sum(sspar[3]<0), sspar[3].size))\n",
    "print('%d out of %d' % (np.sum(bgpar[3]<0), bgpar[3].size))"
   ]
  },
  {
   "cell_type": "code",
   "execution_count": null,
   "metadata": {},
   "outputs": [],
   "source": []
  }
 ],
 "metadata": {
  "kernelspec": {
   "display_name": "holo310",
   "language": "python",
   "name": "python3"
  },
  "language_info": {
   "codemirror_mode": {
    "name": "ipython",
    "version": 3
   },
   "file_extension": ".py",
   "mimetype": "text/x-python",
   "name": "python",
   "nbconvert_exporter": "python",
   "pygments_lexer": "ipython3",
   "version": "3.10.10"
  }
 },
 "nbformat": 4,
 "nbformat_minor": 2
}
