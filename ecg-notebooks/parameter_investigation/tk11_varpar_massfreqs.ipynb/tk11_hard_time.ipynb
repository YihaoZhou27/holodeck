{
 "cells": [
  {
   "cell_type": "code",
   "execution_count": null,
   "metadata": {},
   "outputs": [],
   "source": [
    "%reload_ext autoreload\n",
    "%autoreload 2\n",
    "from importlib import reload\n",
    "\n",
    "import numpy as np\n",
    "import matplotlib.pyplot as plt\n",
    "import matplotlib.cm as cm\n",
    "import h5py\n",
    "import matplotlib as mpl\n",
    "import os\n",
    "\n",
    "from holodeck import plot, detstats\n",
    "import holodeck.single_sources as sings\n",
    "from holodeck.constants import YR, MSOL, MPC\n",
    "import holodeck as holo\n",
    "\n",
    "import hasasia.sim as hsim\n"
   ]
  },
  {
   "cell_type": "code",
   "execution_count": null,
   "metadata": {},
   "outputs": [],
   "source": [
    "TARGET = 'hard_time' # EDIT AS NEEDED\n",
    "TITLE = '$\\\\tau_\\mathrm{hard}$'   # EDIT AS NEEDED\n",
    "NVARS = 21"
   ]
  },
  {
   "cell_type": "code",
   "execution_count": null,
   "metadata": {},
   "outputs": [],
   "source": [
    "path = '/Users/emigardiner/GWs/holodeck/ecg-notebooks/parameter_investigation/anatomy_09B'\n",
    "load_data_from_file = path+f'/{TARGET}_{NVARS}vars_clbrt_reals.npz' \n",
    "\n",
    "if os.path.exists(load_data_from_file) is False:\n",
    "    err = 'load data file does not exist, you need to construct it.'\n",
    "    raise Exception(err)\n",
    "print(load_data_from_file)\n",
    "# print(save_data_to_file)"
   ]
  },
  {
   "attachments": {},
   "cell_type": "markdown",
   "metadata": {},
   "source": [
    "# Load Data from File"
   ]
  },
  {
   "cell_type": "code",
   "execution_count": null,
   "metadata": {},
   "outputs": [],
   "source": [
    "file = np.load(load_data_from_file, allow_pickle=True)\n",
    "print(file.files)\n",
    "data = file['data']\n",
    "params = file['params']\n",
    "dsdat = file['dsdat']\n",
    "file.close()"
   ]
  },
  {
   "attachments": {},
   "cell_type": "markdown",
   "metadata": {},
   "source": [
    "# Get Shapes, Edges, Frequency Info"
   ]
  },
  {
   "cell_type": "code",
   "execution_count": null,
   "metadata": {},
   "outputs": [],
   "source": [
    "nfreqs, nreals, nloudest = [*data[0]['hc_ss'].shape]\n",
    "fobs_cents = data[0]['fobs_cents']"
   ]
  },
  {
   "cell_type": "code",
   "execution_count": null,
   "metadata": {},
   "outputs": [],
   "source": [
    "# mass edges\n",
    "sam = holo.sams.Semi_Analytic_Model()\n",
    "mm_edges = sam.mtot/MSOL\n",
    "\n",
    "# frequency bin edges\n",
    "ff_edges = data[0]['fobs_edges']/10**9\n",
    "\n",
    "# get frequencies\n",
    "ssfrq = np.repeat(fobs_cents, nreals*nloudest)/10**9 # nHz\n",
    "bgfrq = np.repeat(fobs_cents, nreals)/10**9 # nHz"
   ]
  },
  {
   "attachments": {},
   "cell_type": "markdown",
   "metadata": {},
   "source": [
    "# Plot 1"
   ]
  },
  {
   "cell_type": "code",
   "execution_count": null,
   "metadata": {},
   "outputs": [],
   "source": [
    "print(data[0]['sspar'].shape)"
   ]
  },
  {
   "cell_type": "code",
   "execution_count": null,
   "metadata": {},
   "outputs": [],
   "source": [
    "dat = data[0]\n",
    "parm = params[0]\n",
    "for ii, dat in enumerate(data):\n",
    "    parm = params[ii]\n",
    "    # get masses\n",
    "    ssmtt = dat['sspar'][0].flatten() /MSOL # msol\n",
    "    bgmtt = dat['bgpar'][0].flatten() /MSOL # msol\n",
    "\n",
    "    # get histograms\n",
    "    hist_ss, mme, ffe = np.histogram2d(ssmtt, ssfrq, bins=(mm_edges, ff_edges))\n",
    "    hist_bg, mme, ffe = np.histogram2d(bgmtt, bgfrq, bins=(mm_edges, ff_edges))\n",
    "\n",
    "    fig, axs = plot.figax(ncols=2, ylabel='$M$ [M$_\\odot$]', xlabel = '$f$ [nHz]', figsize=(8,4))\n",
    "    ffgrid, mtgrid, = np.meshgrid(ffe, mme)\n",
    "    # print(f\"{mtgrid.shape=}, {ffgrid.shape=}\")\n",
    "\n",
    "    ax = axs[0]\n",
    "    ax.set_title('$h_c^2$-weighted Background')\n",
    "    ax.set_facecolor('k')\n",
    "    im = ax.pcolormesh(ffgrid, mtgrid, np.log10(hist_bg), cmap='viridis')\n",
    "    cbar = plt.colorbar(im, ax=ax, label='$\\log N$', orientation='horizontal', pad=0.2)\n",
    "\n",
    "    ax = axs[1]\n",
    "    ax.set_title('Single Sources')\n",
    "    ax.set_facecolor('k')\n",
    "    ax.set_ylabel(None)\n",
    "    im = ax.pcolormesh(ffgrid, mtgrid, np.log10(hist_ss), cmap='inferno')\n",
    "    cbar = plt.colorbar(im, ax=ax, label='$\\log N$', orientation='horizontal', pad=0.2)\n",
    "\n",
    "    fig.suptitle((f\"{TARGET}={parm[TARGET]:.2f}\"))\n",
    "    fig.tight_layout()\n"
   ]
  },
  {
   "cell_type": "code",
   "execution_count": null,
   "metadata": {},
   "outputs": [],
   "source": [
    "print(parm)"
   ]
  },
  {
   "cell_type": "code",
   "execution_count": null,
   "metadata": {},
   "outputs": [],
   "source": []
  }
 ],
 "metadata": {
  "kernelspec": {
   "display_name": "holo310",
   "language": "python",
   "name": "python3"
  },
  "language_info": {
   "codemirror_mode": {
    "name": "ipython",
    "version": 3
   },
   "file_extension": ".py",
   "mimetype": "text/x-python",
   "name": "python",
   "nbconvert_exporter": "python",
   "pygments_lexer": "ipython3",
   "version": "3.10.10"
  }
 },
 "nbformat": 4,
 "nbformat_minor": 2
}
