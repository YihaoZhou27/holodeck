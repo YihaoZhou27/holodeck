{
 "cells": [
  {
   "cell_type": "code",
   "execution_count": null,
   "metadata": {},
   "outputs": [],
   "source": [
    "%reload_ext autoreload\n",
    "%autoreload 2\n",
    "from importlib import reload\n",
    "\n",
    "import numpy as np\n",
    "import matplotlib.pyplot as plt\n",
    "import matplotlib.cm as cm\n",
    "import h5py\n",
    "\n",
    "from holodeck import plot, detstats\n",
    "from holodeck.constants import YR, MSOL, MPC\n",
    "import holodeck as holo"
   ]
  },
  {
   "attachments": {},
   "cell_type": "markdown",
   "metadata": {},
   "source": [
    "# Read in data"
   ]
  },
  {
   "cell_type": "code",
   "execution_count": null,
   "metadata": {},
   "outputs": [],
   "source": [
    "lib_path = '/Users/emigardiner/GWs/holodeck/output/awg_output/uniform-07a_new_n500_r100_f40'\n",
    "hdf_file = h5py.File(lib_path+'/sam_lib.hdf5')\n",
    "print(hdf_file.keys())\n",
    "params = hdf_file['sample_params'][...]\n",
    "hc_ss = hdf_file['hc_ss'][...]\n",
    "hc_bg = hdf_file['hc_bg'][...]\n",
    "sspar = hdf_file['sspar'][...]\n",
    "bgpar = hdf_file['bgpar'][...]\n",
    "fobs = hdf_file['fobs'][:]\n",
    "hdf_file.close()"
   ]
  },
  {
   "cell_type": "code",
   "execution_count": null,
   "metadata": {},
   "outputs": [],
   "source": [
    "space_class = holo.param_spaces.PS_Uniform_07A\n",
    "space = space_class(holo.log, 0, None, None)\n",
    "print(space.param_names)\n",
    "print(params[0])\n",
    "print(params[-1])\n",
    "print(params.shape)"
   ]
  },
  {
   "cell_type": "code",
   "execution_count": null,
   "metadata": {},
   "outputs": [],
   "source": [
    "ds_file = np.load(lib_path+'/detstats/psrs50_sigma8.28e-06/detstats.npz')\n",
    "df_ss = ds_file['df_ss']\n",
    "df_bg = ds_file['df_bg']\n",
    "dp_ss = ds_file['dp_ss']\n",
    "dp_bg = ds_file['dp_bg']\n",
    "ds_file.close()"
   ]
  },
  {
   "attachments": {},
   "cell_type": "markdown",
   "metadata": {},
   "source": [
    "# Best Samples"
   ]
  },
  {
   "cell_type": "code",
   "execution_count": null,
   "metadata": {},
   "outputs": [],
   "source": [
    "nsort = detstats.rank_samples(hc_ss, hc_bg, fobs, hc_ref=detstats.HC_REF15_10YR,  fidx=1)\n",
    "print(nsort[0:10])"
   ]
  },
  {
   "attachments": {},
   "cell_type": "markdown",
   "metadata": {},
   "source": [
    "# Binary Parameters"
   ]
  },
  {
   "attachments": {},
   "cell_type": "markdown",
   "metadata": {},
   "source": [
    "### just using best sample"
   ]
  },
  {
   "cell_type": "code",
   "execution_count": null,
   "metadata": {},
   "outputs": [],
   "source": [
    "print(sspar.shape)"
   ]
  },
  {
   "cell_type": "code",
   "execution_count": null,
   "metadata": {},
   "outputs": [],
   "source": [
    "freqs = np.repeat(fobs, hc_ss[0,0,:,:].size).reshape(hc_ss[0].shape)\n",
    "print(freqs.shape)\n",
    "print(freqs[:,0,0]*YR)"
   ]
  },
  {
   "attachments": {},
   "cell_type": "markdown",
   "metadata": {},
   "source": [
    "## Plot: hc vs bin pars"
   ]
  },
  {
   "cell_type": "code",
   "execution_count": null,
   "metadata": {},
   "outputs": [],
   "source": [
    "nn = nsort[0]\n",
    "\n",
    "\n",
    "def draw_ss_bin_pars(axs, hc_ss, sspar, fobs, labels, colors):\n",
    "\n",
    "    x1 = sspar[0,...] / MSOL\n",
    "    x2 = sspar[1,...]\n",
    "    x3 = holo.cosmo.comoving_distance(sspar[2,...]) \n",
    "    x4 = np.repeat(fobs, hc_ss[0,:,:].size).reshape(hc_ss.shape) *YR\n",
    "    yy = hc_ss\n",
    "\n",
    "    for ii, xx in enumerate([x1, x2, x3, x4]):\n",
    "        axs[ii].set_xlabel(labels[ii])\n",
    "        for rr in range(len(yy[0])):\n",
    "            axs[ii].scatter(xx[:,rr,:].flatten(), yy[:,rr,:].flatten(), marker='o', s=15, alpha=0.1, color=colors[rr])\n",
    "\n",
    "def draw_bg_bin_pars(axs, hc_bg, bgpar, fobs, color='k'):\n",
    "    x1 = bgpar[0,...] / MSOL\n",
    "    x2 = bgpar[1,...]\n",
    "    x3 = holo.cosmo.comoving_distance(bgpar[2,...]) \n",
    "    x4 = np.repeat(fobs, hc_bg[0,:].size).reshape(hc_bg.shape) *YR\n",
    "    yy = hc_bg\n",
    "\n",
    "    for ii, xx in enumerate([x1, x2, x3, x4]):\n",
    "        # axs[ii].set_xlabel(labels[ii])\n",
    "        for rr in range(len(yy[0])):\n",
    "            axs[ii].scatter(xx[:,rr], yy[:,rr], marker='x', s=15, alpha=0.1, color=color)\n",
    "\n",
    "def plot_bin_pars(nn, hc_ss, hc_bg, sspar, bgpar, fobs):\n",
    "    fig, axs = plot.figax(nrows=2, ncols=2, ylabel=plot.LABEL_CHARACTERISTIC_STRAIN, sharey=True,\n",
    "                        figsize=(10,7))\n",
    "\n",
    "    axs = axs.reshape(axs.size)\n",
    "    labels=['Mass, $M$ $(M_\\odot)$', 'Mass Ratio, $q$', 'Initial Comoving Distance, $d_c$ (Mpc)', plot.LABEL_GW_FREQUENCY_YR]\n",
    "    colors = cm.rainbow(np.linspace(0,1,len(hc_ss[0,0])))\n",
    "    \n",
    "    draw_bg_bin_pars(axs, hc_bg[nn], bgpar[nn], fobs)\n",
    "    draw_ss_bin_pars(axs, hc_ss[nn], sspar[nn], fobs, labels, colors)\n",
    "    fig.tight_layout()\n",
    "    return fig\n",
    "\n",
    "fig = plot_bin_pars(nsort[0], hc_ss, hc_bg, sspar, bgpar, fobs)"
   ]
  },
  {
   "attachments": {},
   "cell_type": "markdown",
   "metadata": {},
   "source": [
    "## Plot: SNR vs bin pars"
   ]
  },
  {
   "cell_type": "code",
   "execution_count": null,
   "metadata": {},
   "outputs": [],
   "source": [
    "nn = nsort[0]\n",
    "\n",
    "\n",
    "def draw_ss_bin_pars(axs, hc_ss, sspar, fobs, labels, colors):\n",
    "\n",
    "    x1 = sspar[0,...] / MSOL\n",
    "    x2 = sspar[1,...]\n",
    "    x3 = holo.cosmo.comoving_distance(sspar[2,...]) \n",
    "    x4 = np.repeat(fobs, hc_ss[0,:,:].size).reshape(hc_ss.shape) *YR\n",
    "    yy = hc_ss\n",
    "\n",
    "    for ii, xx in enumerate([x1, x2, x3, x4]):\n",
    "        axs[ii].set_xlabel(labels[ii])\n",
    "        for rr in range(len(yy[0])):\n",
    "            axs[ii].scatter(xx[:,rr,:].flatten(), yy[:,rr,:].flatten(), marker='o', s=15, alpha=0.1, color=colors[rr])\n",
    "\n",
    "def draw_bg_bin_pars(axs, hc_bg, bgpar, fobs, color='k'):\n",
    "    x1 = bgpar[0,...] / MSOL\n",
    "    x2 = bgpar[1,...]\n",
    "    x3 = holo.cosmo.comoving_distance(bgpar[2,...]) \n",
    "    x4 = np.repeat(fobs, hc_bg[0,:].size).reshape(hc_bg.shape) *YR\n",
    "    yy = hc_bg\n",
    "\n",
    "    for ii, xx in enumerate([x1, x2, x3, x4]):\n",
    "        # axs[ii].set_xlabel(labels[ii])\n",
    "        for rr in range(len(yy[0])):\n",
    "            axs[ii].scatter(xx[:,rr], yy[:,rr], marker='x', s=15, alpha=0.1, color=color)\n",
    "\n",
    "def plot_bin_pars(nn, hc_ss, hc_bg, sspar, bgpar, fobs):\n",
    "    fig, axs = plot.figax(nrows=2, ncols=2, ylabel=plot.LABEL_CHARACTERISTIC_STRAIN, sharey=True,\n",
    "                        figsize=(10,7))\n",
    "\n",
    "    axs = axs.reshape(axs.size)\n",
    "    labels=['Mass, $M$ $(M_\\odot)$', 'Mass Ratio, $q$', 'Initial Comoving Distance, $d_c$ (Mpc)', plot.LABEL_GW_FREQUENCY_YR]\n",
    "    colors = cm.rainbow(np.linspace(0,1,len(hc_ss[0,0])))\n",
    "    \n",
    "    draw_bg_bin_pars(axs, hc_bg[nn], bgpar[nn], fobs)\n",
    "    draw_ss_bin_pars(axs, hc_ss[nn], sspar[nn], fobs, labels, colors)\n",
    "    fig.tight_layout()\n",
    "    return fig\n",
    "\n",
    "fig = plot_bin_pars(nsort[0], hc_ss, hc_bg, sspar, bgpar, fobs)"
   ]
  },
  {
   "attachments": {},
   "cell_type": "markdown",
   "metadata": {},
   "source": [
    "# DetFrac vs. Parameter"
   ]
  },
  {
   "attachments": {},
   "cell_type": "markdown",
   "metadata": {},
   "source": [
    "## hard_time\n",
    "I expect with shorter hardening times, we would see more sources (loud and bg)."
   ]
  },
  {
   "cell_type": "code",
   "execution_count": null,
   "metadata": {},
   "outputs": [],
   "source": [
    "def draw_df(ax, xx, df_ss=None, df_bg=None, label_ss='SS', label_bg='BG'):\n",
    "    if df_bg is not None:\n",
    "        ax.scatter(xx, df_bg, color='cornflowerblue', label=label_bg, \n",
    "                   marker='d', alpha=0.5)\n",
    "    if df_ss is not None:\n",
    "        ax.scatter(xx, df_ss, color='orangered', label=label_ss, \n",
    "                   marker='o', alpha=0.5)\n",
    "        \n",
    "fig, ax = plot.figax(xlabel=\"'hard_time'\", ylabel='Detection Fraction')\n",
    "draw_df(ax, params[:,0], df_ss, df_bg)"
   ]
  },
  {
   "cell_type": "code",
   "execution_count": null,
   "metadata": {},
   "outputs": [],
   "source": [
    "print(holo.utils.stats(params[:,1]))"
   ]
  },
  {
   "attachments": {},
   "cell_type": "markdown",
   "metadata": {},
   "source": [
    "sample astro pars"
   ]
  },
  {
   "cell_type": "code",
   "execution_count": null,
   "metadata": {},
   "outputs": [],
   "source": [
    "fig, axs = plot.figax(nrows=2, ncols=3, figsize=(12, 7), xscale='linear', yscale='linear')\n",
    "for aa, ax in enumerate(fig.axes[:5]):\n",
    "    ax.set_ylabel('%s' % space.param_names[aa]) \n",
    "    ax.scatter(np.arange(len(params)), params[:,aa])\n",
    "axs[1,0].set_xlabel('Sample')\n",
    "axs[1,1].set_xlabel('Sample')\n",
    "\n",
    "fig.tight_layout()"
   ]
  },
  {
   "attachments": {},
   "cell_type": "markdown",
   "metadata": {},
   "source": [
    "## Plot: DF vs astro pars"
   ]
  },
  {
   "cell_type": "code",
   "execution_count": null,
   "metadata": {},
   "outputs": [],
   "source": [
    "fig, axs = plot.figax(nrows=2, ncols=3, figsize=(12, 7), xscale='linear', sharey=True)\n",
    "for aa, ax in enumerate(fig.axes[:5]):\n",
    "    draw_df(ax, xx=params[:,aa], df_ss=df_ss, df_bg=df_bg)\n",
    "    ax.set_xlabel('%s' % space.param_names[aa]) \n",
    "    ax.set_ylim(10**-3, 10**0.1)\n",
    "axs[0,0].set_ylabel('Detection Fraction')\n",
    "axs[1,0].set_ylabel('Detection Fraction')\n",
    "\n",
    "fig.tight_layout()\n",
    "# draw_df(ax, params[:,0], df_ss, df_bg)"
   ]
  },
  {
   "cell_type": "code",
   "execution_count": null,
   "metadata": {},
   "outputs": [],
   "source": []
  },
  {
   "cell_type": "code",
   "execution_count": null,
   "metadata": {},
   "outputs": [],
   "source": []
  }
 ],
 "metadata": {
  "kernelspec": {
   "display_name": "holo310",
   "language": "python",
   "name": "python3"
  },
  "language_info": {
   "codemirror_mode": {
    "name": "ipython",
    "version": 3
   },
   "file_extension": ".py",
   "mimetype": "text/x-python",
   "name": "python",
   "nbconvert_exporter": "python",
   "pygments_lexer": "ipython3",
   "version": "3.10.10"
  }
 },
 "nbformat": 4,
 "nbformat_minor": 2
}
