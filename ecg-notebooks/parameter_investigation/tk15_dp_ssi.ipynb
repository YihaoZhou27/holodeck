{
 "cells": [
  {
   "cell_type": "code",
   "execution_count": null,
   "metadata": {},
   "outputs": [],
   "source": [
    "%reload_ext autoreload\n",
    "%autoreload 2\n",
    "from importlib import reload\n",
    "\n",
    "import numpy as np\n",
    "import matplotlib.pyplot as plt\n",
    "import matplotlib.cm as cm\n",
    "import h5py\n",
    "import matplotlib as mpl\n",
    "\n",
    "\n",
    "from holodeck import plot, detstats\n",
    "import holodeck.single_sources as sings\n",
    "from holodeck.constants import YR, MSOL, MPC\n",
    "import holodeck as holo\n",
    "\n",
    "import hasasia.sim as hsim\n"
   ]
  },
  {
   "cell_type": "code",
   "execution_count": null,
   "metadata": {},
   "outputs": [],
   "source": [
    "SHAPE = None\n",
    "NREALS = 500\n",
    "NFREQS = 40\n",
    "NLOUDEST = 10\n",
    "\n",
    "CONSTRUCT = False\n",
    "JUST_DETSTATS = False\n",
    "SAVEFIG = True\n",
    "TOL=0.01\n",
    "MAXBADS=5\n",
    "\n",
    "NVARS = 21\n",
    "\n",
    "NPSRS = 40\n",
    "NSKIES = 100\n",
    "TARGET = 'hard_time' # EDIT AS NEEDED\n",
    "TITLE = '$\\\\tau_\\mathrm{hard}$'   # EDIT AS NEEDED\n",
    "\n",
    "\n",
    "# TARGET = 'gsmf_mchar0_log10' # EDIT AS NEEDED\n",
    "# TITLE = 'GSMF: log($M_\\mathrm{char,0} / \\mathrm{M}_\\odot$)'   # EDIT AS NEEDED"
   ]
  },
  {
   "cell_type": "code",
   "execution_count": null,
   "metadata": {},
   "outputs": [],
   "source": [
    "path = '/Users/emigardiner/GWs/holodeck/output/anatomy_09B'\n",
    "load_data_from_file = path+f'/{TARGET}_v{NVARS}_r{NREALS}_s{NSKIES}_shape{str(SHAPE)}.npz' \n",
    "# save_data_to_file = path+f'/{TARGET}_v{NVARS}vars_clbrt_pta.npz' \n",
    "\n",
    "if CONSTRUCT is False:\n",
    "    import os\n",
    "    if os.path.exists(load_data_from_file) is False:\n",
    "        err = 'load data file does not exist, you need to construct it.'\n",
    "        raise Exception(err)\n",
    "print(load_data_from_file)\n",
    "# print(save_data_to_file)"
   ]
  },
  {
   "attachments": {},
   "cell_type": "markdown",
   "metadata": {},
   "source": [
    "Load Data"
   ]
  },
  {
   "cell_type": "code",
   "execution_count": null,
   "metadata": {},
   "outputs": [],
   "source": [
    "file = np.load(load_data_from_file, allow_pickle=True)\n",
    "print(file.files)\n",
    "data = file['data']\n",
    "params = file['params']\n",
    "dsdat = file['dsdat']\n",
    "file.close()\n"
   ]
  },
  {
   "attachments": {},
   "cell_type": "markdown",
   "metadata": {},
   "source": [
    "Parameter Space"
   ]
  },
  {
   "cell_type": "code",
   "execution_count": null,
   "metadata": {},
   "outputs": [],
   "source": [
    "pspace = holo.param_spaces.PS_Uniform_09B(holo.log, nsamples=1, sam_shape=SHAPE, seed=None)\n",
    "param_names = pspace.param_names"
   ]
  },
  {
   "cell_type": "code",
   "execution_count": null,
   "metadata": {},
   "outputs": [],
   "source": [
    "dat = data[0]\n",
    "gamma_ssi = dsdat[0]['gamma_ssi'] # F,R,S,L\n",
    "fobs_cents = data[0]['fobs_cents'] # F"
   ]
  },
  {
   "attachments": {},
   "cell_type": "markdown",
   "metadata": {},
   "source": [
    "Scatter of All"
   ]
  },
  {
   "cell_type": "code",
   "execution_count": null,
   "metadata": {},
   "outputs": [],
   "source": [
    "# xlabel = plot.LABEL_GW_FREQUENCY_YR\n",
    "# ylabel = 'Individual Single Source Detection Probability, $\\gamma_\\mathrm{ssi}$'\n",
    "\n",
    "# fig, ax = plot.figax(xlabel=xlabel, ylabel=ylabel)\n",
    "# colors = cm.rainbow(np.linspace(0,1,NVARS))\n",
    "# alpha=0.1\n",
    "\n",
    "# for ii, dat in enumerate(data):\n",
    "#     xx = np.repeat(fobs_cents, NREALS*NSKIES*NLOUDEST).reshape(NFREQS, NREALS, NSKIES, NLOUDEST)\n",
    "#     yy = dsdat[ii]['gamma_ssi'] # (F,S,R,L)\n",
    "#     ax.scatter(xx[:,:,:,0], yy[:,:,:,0], color=colors[ii], edgecolor='k', alpha=alpha)\n",
    "#     ax.scatter(xx[:,:,:,1:], yy[:,:,:,1:], color=colors[ii], alpha=alpha)"
   ]
  },
  {
   "attachments": {},
   "cell_type": "markdown",
   "metadata": {},
   "source": [
    "Just The Single Loudest"
   ]
  },
  {
   "cell_type": "code",
   "execution_count": null,
   "metadata": {},
   "outputs": [],
   "source": [
    "param_names.index(TARGET)"
   ]
  },
  {
   "cell_type": "code",
   "execution_count": null,
   "metadata": {},
   "outputs": [],
   "source": [
    "print(params[0])"
   ]
  },
  {
   "cell_type": "code",
   "execution_count": null,
   "metadata": {},
   "outputs": [],
   "source": [
    "xlabel = plot.LABEL_GW_FREQUENCY_YR\n",
    "ylabel = 'Detection Probability, $\\gamma_\\mathrm{ss,i}$'\n",
    "\n",
    "fig, ax = plot.figax(xlabel=xlabel, ylabel=ylabel)\n",
    "colors = cm.rainbow(np.linspace(0,1,NVARS))\n",
    "alpha=0.1\n",
    "\n",
    "# tt = param_names.index(TARGET)\n",
    "\n",
    "handles = []\n",
    "labels = []\n",
    "for ii, dat in enumerate(data):\n",
    "    if ii%2==0:\n",
    "        print(ii)\n",
    "        xx = fobs_cents # F, #np.repeat(fobs_cents, NREALS*NSKIES*NLOUDEST).reshape(NFREQS, NREALS, NSKIES, NLOUDEST)\n",
    "        yy = dsdat[ii]['gamma_ssi'][...,0] # (F,S,R)\n",
    "        yy = yy.reshape(NFREQS, NSKIES * NREALS)\n",
    "        hh = plot.draw_med_conf_color(ax, xx, yy, color=colors[ii],)\n",
    "        handles.append(hh)\n",
    "        labels.append(f\"{params[ii][TARGET]:.2f}\")\n",
    "    # ax.scatter(xx[:,:,:,0], yy[:,:,:,0], color=colors[ii], edgecolor='k', alpha=0.1)\n",
    "    # ax.scatter(xx[:,:,:,1:], yy[:,:,:,1:], color=colors[ii], alpha=0.1)\n",
    "\n",
    "ax.legend(handles=handles, labels=labels, title=TARGET)\n",
    "fig.savefig('/Users/emigardiner/GWs/holodeck/output/figures/anatomy_09B'\n",
    "            +f'/dp_vs_freq_{TARGET}_r{NREALS}_s{NSKIES}.png')"
   ]
  },
  {
   "cell_type": "code",
   "execution_count": null,
   "metadata": {},
   "outputs": [],
   "source": [
    "xlabel = plot.LABEL_GW_FREQUENCY_YR\n",
    "ylabel = 'Detection Probability, $\\gamma_\\mathrm{ss,i}$'\n",
    "\n",
    "fig, ax = plot.figax(xlabel=xlabel, ylabel=ylabel)\n",
    "colors = cm.rainbow(np.linspace(0,1,NVARS))\n",
    "alpha=0.1\n",
    "\n",
    "# tt = param_names.index(TARGET)\n",
    "\n",
    "handles = []\n",
    "labels = []\n",
    "for ii, dat in enumerate(data):\n",
    "    if ii%2==0:\n",
    "        print(ii)\n",
    "        xx = fobs_cents # F, #np.repeat(fobs_cents, NREALS*NSKIES*NLOUDEST).reshape(NFREQS, NREALS, NSKIES, NLOUDEST)\n",
    "        yy = dsdat[ii]['gamma_ssi'][...,0] # (F,S,R)\n",
    "        # yy = yy.reshape(NFREQS, NSKIES * NREALS)\n",
    "        yy = yy[:,0,:]\n",
    "        hh = plot.draw_med_conf_color(ax, xx, yy, color=colors[ii],)\n",
    "        handles.append(hh)\n",
    "        labels.append(f\"{params[ii][TARGET]:.2f}\")\n",
    "    # ax.scatter(xx[:,:,:,0], yy[:,:,:,0], color=colors[ii], edgecolor='k', alpha=0.1)\n",
    "    # ax.scatter(xx[:,:,:,1:], yy[:,:,:,1:], color=colors[ii], alpha=0.1)\n",
    "\n",
    "ax.legend(handles=handles, labels=labels, title=TARGET)"
   ]
  },
  {
   "cell_type": "code",
   "execution_count": null,
   "metadata": {},
   "outputs": [],
   "source": [
    "arr = np.array([[1,2],[3,4]], [[5,5],[5,5,]], [[6,6],[6,6]])\n",
    "print(arr.shape)"
   ]
  },
  {
   "cell_type": "code",
   "execution_count": null,
   "metadata": {},
   "outputs": [],
   "source": []
  }
 ],
 "metadata": {
  "kernelspec": {
   "display_name": "holo310",
   "language": "python",
   "name": "python3"
  },
  "language_info": {
   "codemirror_mode": {
    "name": "ipython",
    "version": 3
   },
   "file_extension": ".py",
   "mimetype": "text/x-python",
   "name": "python",
   "nbconvert_exporter": "python",
   "pygments_lexer": "ipython3",
   "version": "3.10.10"
  }
 },
 "nbformat": 4,
 "nbformat_minor": 2
}
