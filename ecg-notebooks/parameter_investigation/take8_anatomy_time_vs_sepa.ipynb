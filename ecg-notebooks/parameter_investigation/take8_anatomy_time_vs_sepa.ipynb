{
 "cells": [
  {
   "cell_type": "code",
   "execution_count": null,
   "metadata": {},
   "outputs": [],
   "source": [
    "%reload_ext autoreload\n",
    "%autoreload 2\n",
    "from importlib import reload\n",
    "\n",
    "import numpy as np\n",
    "import matplotlib.pyplot as plt\n",
    "import matplotlib.cm as cm\n",
    "import h5py\n",
    "\n",
    "\n",
    "from holodeck import plot, detstats\n",
    "import holodeck.single_sources as sings\n",
    "from holodeck.constants import YR, MSOL, MPC\n",
    "import holodeck as holo\n",
    "from holodeck.sams import sam\n",
    "\n",
    "import hasasia.sim as hsim\n",
    "\n",
    "import sys\n",
    "sys.path.append('/Users/emigardiner/GWs/holodeck/ecg-notebooks/parameter_investigation')\n",
    "import anatomy as anat"
   ]
  },
  {
   "attachments": {},
   "cell_type": "markdown",
   "metadata": {},
   "source": [
    "# Get PSpace Info"
   ]
  },
  {
   "cell_type": "code",
   "execution_count": null,
   "metadata": {},
   "outputs": [],
   "source": [
    "# use one file to get the shape\n",
    "npz = np.load('/Users/emigardiner/GWs/holodeck/ecg-notebooks/parameter_investigation/anatomy_uniform09A_fullshape/hard_time_p0.5_0.5_0.5_0.5_0.5_0.5_s91_81_101.npz',\n",
    "                        allow_pickle=True)             \n",
    "print(npz.files)\n",
    "data = npz['data']\n",
    "params = npz['params']\n",
    "hard_name = npz['hard_name']\n",
    "shape = npz['shape']\n",
    "target_param = npz['target_param']\n",
    "\n",
    "npz.close()\n",
    "\n",
    "# get param names\n",
    "pspace = holo.param_spaces.PS_Uniform_09A(holo.log, nsamples=1, sam_shape=shape, seed=None)\n",
    "param_names = pspace.param_names\n",
    "print(param_names)\n",
    "\n",
    "# # set directory path\n",
    "# sam_loc = '/Users/emigardiner/GWs/holodeck/ecg-notebooks/parameter_investigation/anatomy_uniform09A_fullshape/'\n",
    "# save_dir=sam_loc+'/figures'       "
   ]
  },
  {
   "attachments": {},
   "cell_type": "markdown",
   "metadata": {},
   "source": [
    "### Make Model"
   ]
  },
  {
   "cell_type": "code",
   "execution_count": null,
   "metadata": {},
   "outputs": [],
   "source": [
    "sam1, hard1 = pspace.model_for_params(params[1])\n"
   ]
  },
  {
   "attachments": {},
   "cell_type": "markdown",
   "metadata": {},
   "source": [
    "# Timescales"
   ]
  },
  {
   "cell_type": "code",
   "execution_count": null,
   "metadata": {},
   "outputs": [],
   "source": [
    "print(sings.par_names)\n",
    "fobs_gw_cents = data[1]['fobs_cents']\n",
    "sspar1 = sings.all_sspars(fobs_gw_cents, data[1]['sspar'])\n",
    "bgpar1 = data[1]['bgpar']\n",
    "print(data[1].keys())"
   ]
  },
  {
   "cell_type": "code",
   "execution_count": null,
   "metadata": {},
   "outputs": [],
   "source": [
    "print(sspar1.shape)"
   ]
  },
  {
   "cell_type": "code",
   "execution_count": null,
   "metadata": {},
   "outputs": [],
   "source": [
    "def tau_from_dadt(dadt, sepa):\n",
    "    \"\"\" tau = dt/dlna = dt/(da/a) = a*(dt/da) = a/(da/dt)\"\"\"\n",
    "    tau = (sepa)/dadt\n",
    "    return tau\n",
    "def tau_from_pars(sspar, bgpar, hard=holo.hardening.Hard_GW()):\n",
    "    \"\"\" pars contain [mtot, mrat, redz_init, redz_final, dcom_final, sepa_final, angs_final]\n",
    "    each for ss is in shape F,R,L and each for bg is in shape F,R\"\"\"\n",
    "    dadt_ss = hard.dadt(sspar[0], sspar[1], sspar[5])\n",
    "    dadt_bg = hard.dadt(bgpar[0], bgpar[1], bgpar[5])\n",
    "\n",
    "    tau_ss = tau_from_dadt(dadt_ss, sspar[5])\n",
    "    tau_bg = tau_from_dadt(dadt_bg, bgpar[5])\n",
    "    return tau_ss, tau_bg \n",
    "\n",
    "tau_ss, tau_bg = tau_from_pars(sspar1, bgpar1, hard1)\n",
    "\n"
   ]
  },
  {
   "cell_type": "code",
   "execution_count": null,
   "metadata": {},
   "outputs": [],
   "source": [
    "data2 = rv_hard_time[0][1]\n",
    "print(data2.keys)"
   ]
  },
  {
   "attachments": {},
   "cell_type": "markdown",
   "metadata": {},
   "source": [
    "# Plot Hardening Time vs. Separation"
   ]
  },
  {
   "cell_type": "code",
   "execution_count": null,
   "metadata": {},
   "outputs": [],
   "source": [
    "print(sings.par_names)"
   ]
  },
  {
   "cell_type": "code",
   "execution_count": null,
   "metadata": {},
   "outputs": [],
   "source": [
    "sepa_idx = np.where(sings.par_names=='sepa_final')[0]\n",
    "print(sepa_idx)"
   ]
  },
  {
   "cell_type": "code",
   "execution_count": null,
   "metadata": {},
   "outputs": [],
   "source": [
    "data = rv_hard_time[0][1]\n",
    "\n",
    "\n",
    "xlabels = ['Binary Separation [pc]', 'GW Frequency [nHz]']\n",
    "ylabels = ['Hardening Time [Gyr]', 'GW Characteristic Strain']\n",
    "\n",
    "fig, axs = plot.figax(nrows=2, figsize=(5,6)\n",
    "                     )\n",
    "for ii,ax in enumerate(axs):\n",
    "    ax.set_xlabel(xlabels[ii])\n",
    "    ax.set_ylabel(ylabels[ii])\n",
    "\n",
    "fig.tight_layout()\n",
    "\n",
    "\n",
    "\n",
    "\n",
    "x1_bg = bgpar[sepa_idx]\n",
    "\n"
   ]
  },
  {
   "cell_type": "code",
   "execution_count": null,
   "metadata": {},
   "outputs": [],
   "source": []
  }
 ],
 "metadata": {
  "kernelspec": {
   "display_name": "holo310",
   "language": "python",
   "name": "python3"
  },
  "language_info": {
   "codemirror_mode": {
    "name": "ipython",
    "version": 3
   },
   "file_extension": ".py",
   "mimetype": "text/x-python",
   "name": "python",
   "nbconvert_exporter": "python",
   "pygments_lexer": "ipython3",
   "version": "3.10.10"
  }
 },
 "nbformat": 4,
 "nbformat_minor": 2
}
