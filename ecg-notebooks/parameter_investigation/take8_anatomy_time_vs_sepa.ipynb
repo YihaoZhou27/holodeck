{
 "cells": [
  {
   "cell_type": "code",
   "execution_count": null,
   "metadata": {},
   "outputs": [],
   "source": [
    "%reload_ext autoreload\n",
    "%autoreload 2\n",
    "from importlib import reload\n",
    "\n",
    "import numpy as np\n",
    "import matplotlib.pyplot as plt\n",
    "import matplotlib.cm as cm\n",
    "import h5py\n",
    "\n",
    "\n",
    "from holodeck import plot, detstats\n",
    "import holodeck.single_sources as sings\n",
    "from holodeck.constants import YR, MSOL, MPC, GYR, PC\n",
    "import holodeck as holo\n",
    "from holodeck.sams import sam\n",
    "\n",
    "import hasasia.sim as hsim\n",
    "\n",
    "import sys\n",
    "sys.path.append('/Users/emigardiner/GWs/holodeck/ecg-notebooks/parameter_investigation')\n",
    "import anatomy as anat"
   ]
  },
  {
   "attachments": {},
   "cell_type": "markdown",
   "metadata": {},
   "source": [
    "# Try again"
   ]
  },
  {
   "cell_type": "code",
   "execution_count": null,
   "metadata": {},
   "outputs": [],
   "source": [
    "sam = holo.sams.Semi_Analytic_Model(shape=10)"
   ]
  },
  {
   "attachments": {},
   "cell_type": "markdown",
   "metadata": {},
   "source": [
    "# Nothing below this makes sense"
   ]
  },
  {
   "attachments": {},
   "cell_type": "markdown",
   "metadata": {},
   "source": [
    "# Get PSpace Info"
   ]
  },
  {
   "cell_type": "code",
   "execution_count": null,
   "metadata": {},
   "outputs": [],
   "source": [
    "# use one file to get the shape\n",
    "npz = np.load('/Users/emigardiner/GWs/holodeck/ecg-notebooks/parameter_investigation/anatomy_uniform09A_fullshape/hard_time_p0.5_0.5_0.5_0.5_0.5_0.5_s91_81_101.npz',\n",
    "                        allow_pickle=True)             \n",
    "print(npz.files)\n",
    "data = npz['data']\n",
    "params = npz['params']\n",
    "hard_name = npz['hard_name']\n",
    "shape = npz['shape']\n",
    "target_param = npz['target_param']\n",
    "\n",
    "npz.close()\n",
    "\n",
    "# get param names\n",
    "pspace = holo.param_spaces.PS_Uniform_09A(holo.log, nsamples=1, sam_shape=shape, seed=None)\n",
    "param_names = pspace.param_names\n",
    "print(param_names)\n",
    "print(f\"{shape=}\")\n",
    "print(f\"{data[0]['hc_ss'].shape}\")\n",
    "print(f\"{data[0].keys()=}\")\n",
    "\n",
    "# # set directory path\n",
    "# sam_loc = '/Users/emigardiner/GWs/holodeck/ecg-notebooks/parameter_investigation/anatomy_uniform09A_fullshape/'\n",
    "# save_dir=sam_loc+'/figures'       "
   ]
  },
  {
   "cell_type": "code",
   "execution_count": null,
   "metadata": {},
   "outputs": [],
   "source": [
    "print(data[0]['gwb_params'][0].shape)"
   ]
  },
  {
   "attachments": {},
   "cell_type": "markdown",
   "metadata": {},
   "source": [
    "### Make Model"
   ]
  },
  {
   "cell_type": "code",
   "execution_count": null,
   "metadata": {},
   "outputs": [],
   "source": [
    "sam1, hard1 = pspace.model_for_params(params[1])\n",
    "fobs_gw_cents = data[1]['fobs_cents']\n",
    "fobs_gw_edges = data[1]['fobs_edges']\n",
    "NFREQS, NREALS, NLOUDEST = [*data[0]['hc_ss'].shape]\n",
    "print(f\"{NFREQS=}, {NREALS=}, {NLOUDEST=}\")"
   ]
  },
  {
   "cell_type": "code",
   "execution_count": null,
   "metadata": {},
   "outputs": [],
   "source": [
    "fobs_orb_cents = fobs_gw_cents/2\n",
    "edges, dnum, redz_final, dets = sam1._dynamic_binary_number_at_fobs_consistent(hard1, fobs_orb_cents, details=True)"
   ]
  },
  {
   "cell_type": "code",
   "execution_count": null,
   "metadata": {},
   "outputs": [],
   "source": [
    "dadt = dets['dadt']\n",
    "sepa = dets['sepa']\n",
    "tau = dets['tau']"
   ]
  },
  {
   "attachments": {},
   "cell_type": "markdown",
   "metadata": {},
   "source": [
    "### Timescales"
   ]
  },
  {
   "cell_type": "code",
   "execution_count": null,
   "metadata": {},
   "outputs": [],
   "source": [
    "# def tau_from_dadt(dadt, sepa):\n",
    "#     \"\"\" tau = dt/dlna = dt/(da/a) = a*(dt/da) = a/(da/dt)\"\"\"\n",
    "#     tau = (sepa)/dadt\n",
    "#     return tau"
   ]
  },
  {
   "attachments": {},
   "cell_type": "markdown",
   "metadata": {},
   "source": [
    "# Plot Hardening Time vs. Separation"
   ]
  },
  {
   "cell_type": "code",
   "execution_count": null,
   "metadata": {},
   "outputs": [],
   "source": [
    "print(sings.par_names)"
   ]
  },
  {
   "cell_type": "code",
   "execution_count": null,
   "metadata": {},
   "outputs": [],
   "source": [
    "print(f\"{sepa.shape=}, {tau.shape=}\")\n",
    "print(holo.utils.stats(sepa))\n",
    "print(holo.utils.stats(tau))"
   ]
  },
  {
   "cell_type": "code",
   "execution_count": null,
   "metadata": {},
   "outputs": [],
   "source": [
    "mm=-1\n",
    "qq=-1\n",
    "zz=-1\n",
    "for mm in [5,50,80]:\n",
    "    for qq in [5,50, 80]:\n",
    "        for zz in [5,50,80]:\n",
    "            plt.plot(fobs_gw_cents, sepa[mm,qq,zz])"
   ]
  },
  {
   "cell_type": "code",
   "execution_count": null,
   "metadata": {},
   "outputs": [],
   "source": [
    "print(sepa.shape)"
   ]
  },
  {
   "cell_type": "code",
   "execution_count": null,
   "metadata": {},
   "outputs": [],
   "source": [
    "xlabels = ['Binary Separation [pc]', 'GW Frequency [nHz]']\n",
    "ylabels = ['Hardening Time [Gyr]', 'GW Characteristic Strain']\n",
    "\n",
    "fig, axs = plot.figax(nrows=2, figsize=(5,6)\n",
    "                     )\n",
    "for ii,ax in enumerate(axs):\n",
    "    ax.set_xlabel(xlabels[ii])\n",
    "    ax.set_ylabel(ylabels[ii])\n",
    "\n",
    "fig.tight_layout()\n",
    "\n",
    "x1 = sepa/PC\n",
    "y1 = dets['tau']/GYR\n",
    "\n",
    "for mm in np.arange(0, 90, 10):\n",
    "    for qq in np.arange(0,80,10):\n",
    "        for zz in np.arange(0,100,10):\n",
    "            axs[0].plot(x1[mm,qq,zz], y1[mm,qq,zz], alpha=0.5)\n",
    "# axs[0].set_xlim(10**3, 10**-3)\n",
    "\n",
    "\n",
    "# x2_bg = fobs_gw_cents\n",
    "\n",
    "\n",
    "\n"
   ]
  },
  {
   "attachments": {},
   "cell_type": "markdown",
   "metadata": {},
   "source": [
    "# Let's just copy Luke's notebook"
   ]
  },
  {
   "cell_type": "code",
   "execution_count": null,
   "metadata": {},
   "outputs": [],
   "source": [
    "import tqdm"
   ]
  },
  {
   "cell_type": "code",
   "execution_count": null,
   "metadata": {},
   "outputs": [],
   "source": [
    "NSTEPS = 10\n",
    "\n",
    "mtot_range = [3e8*MSOL, 3e9*MSOL]\n",
    "mtot_hirng = [3e9*MSOL, 3e10*MSOL]\n",
    "mrat_range = [0.2, 1.0]\n",
    "redz_range = [0, np.inf]\n",
    "\n",
    "space = pspace # from above\n",
    "\n",
    "# hard_time binary lifetimes \n",
    "times_list =  [params[0]['hard_time'], params[1]['hard_time'], params[2]['hard_time']]\n",
    "# hard_gamma_inner power law indices\n",
    "inner_list = [params[1]['hard_gamma_inner'], ]\n",
    "# range of binary separations to plot\n",
    "sepa = np.logspace(-3, 3, NSTEPS)[::-1] * PC\n",
    "\n",
    "time_hcss = []\n",
    "time_hcbg = []\n",
    "time_taus = []\n",
    "time_taus_high = []\n",
    "\n",
    "# Iterate over target lifetimes\n",
    "for tt, time in tqdm.tqdm(enumerate(times_list)):\n",
    "    _hcss = []\n",
    "    _hcbg = []\n",
    "    _taus = []\n",
    "    _taus_high = []\n",
    "\n",
    "    # iterate over outer power-law indices\n",
    "    for inner in tqdm.tqdm(inner_list):\n",
    "        # set custom parameters:\n",
    "        # using my parameters from above\n",
    "        params_step = params[1] # midpoints\n",
    "        params_step['hard_time'] = time\n",
    "        params_step['hard_gamma_inner'] = inner\n",
    "        sam, hard = pspace.model_for_params(params_step)\n",
    "\n",
    "        # calculate hc_bg and hc_ss at bin centers, between the given bin edges\n",
    "        _hcbg_step, _hcss_step, = sam.gwb(fobs_gw_edges, hard, \n",
    "                                    loudest = NLOUDEST, realize=NREALS)\n",
    "        _hcss.append(_hcss_step)\n",
    "        _hcbg.append(_hcbg_step)\n",
    "    \n",
    "        # _hcss.append(data[tt]['hc_ss'])\n",
    "        # _hcbg.append(data[tt]['hc_bg'])\n",
    " \n",
    "        # calculate binary properties at target separations\n",
    "        _edges, _dnum, _redz_final, _details = sam._dynamic_binary_number_at_sepa_consistent(\n",
    "            hard, sepa, details=True) # it would be better if I saved these details when I first calculated them!\n",
    "        \n",
    "        # select the bins with target binary parameters\n",
    "        # I could update this to select out my single source bins\n",
    "        sel_mtot = (mtot_range[0] < sam.mtot) & (sam.mtot <= mtot_range[1])\n",
    "        sel_himt = (mtot_hirng[0] < sam.mtot) & (sam.mtot <= mtot_range[1])\n",
    "        sel_mrat = (mrat_range[0] < sam.mrat) & (sam.mrat <= mrat_range[1])\n",
    "        sel_redz = (redz_range[0] < sam.redz) & (sam.redz <= redz_range[1])\n",
    "        sel = (\n",
    "            sel_mtot[:, np.newaxis, np.newaxis] *\n",
    "            sel_mrat[np.newaxis, :, np.newaxis] * \n",
    "            sel_redz[np.newaxis, np.newaxis, :]\n",
    "        )\n",
    "\n",
    "        sel_high = (\n",
    "            sel_himt[:, np.newaxis, np.newaxis] *\n",
    "            sel_mrat[np.newaxis, :, np.newaxis] * \n",
    "            sel_redz[np.newaxis, np.newaxis, :]\n",
    "        )\n",
    "\n",
    "        tau = _details['tau'][sel].T\n",
    "        tau_high = _details['tau'][sel_high].T\n",
    "        _taus.append(tau)\n",
    "        _taus_high.append(tau_high)\n",
    "\n",
    "    time_hcss.append(_hcss)\n",
    "    time_hcbg.append(_hcbg)\n",
    "    time_taus.append(_taus)\n",
    "    time_taus_high.append(_taus_high)\n",
    "        "
   ]
  },
  {
   "attachments": {},
   "cell_type": "markdown",
   "metadata": {},
   "source": [
    "# Plot Results"
   ]
  },
  {
   "cell_type": "code",
   "execution_count": null,
   "metadata": {},
   "outputs": [],
   "source": [
    "fig, axs = plot.figax_single(height=7, nrows=2,  hspace=0.35, bottom=0.1)\n",
    "\n",
    "xx = sepa/PC\n",
    "YR_LABEL_PAD = -4\n",
    "\n",
    "# ------------------------    1    ----------------------------\n",
    "ax = axs[0]\n",
    "ax.set(xlabel=plot.LABEL_SEPARATION_PC, ylabel=plot.LABEL_HARDENING_TIME, xscale='log', yscale='log')\n",
    "ax.invert_xaxis()\n",
    "\n",
    "ax.axhline(times_list[1], color='k', alpha=0.65)\n",
    "ax.axhline(times_list[0], color='k', ls='--', alpha=0.25)\n",
    "\n",
    "\n",
    "gamma_labels = []\n",
    "gamma_handles = []\n",
    "time_labels = []\n",
    "time_handles = []\n",
    "colors = []\n",
    "inner_idx = 1\n",
    "for ii, tau in enumerate(time_taus[:,inner_idx]):\n",
    "    yy = tau / GYR\n",
    "    \n",
    "    hh = plot.draw_med_conf(ax, xx, yy, fracs=[0.5], filter=True)\n",
    "    colors.append(hh[0].get_color())\n",
    "    time_handles.append(hh[0])\n",
    "    time_labels.append(f\"${times_list[ii]:.1f}$\")\n",
    "    if ii == 0:\n",
    "        gamma_labels.append(f\"${inner_list[inner_idx]:+.1f}$\")\n",
    "        gamma_handles.append(hh)\n",
    "\n",
    "# time_idx = 0        \n",
    "# for ii, tau in enumerate(inner_taus[time_idx]):\n",
    "#     yy = tau / GYR\n",
    "#     yy = [np.median(y[y>0.0]) for y in yy]\n",
    "#     hh, = ax.plot(xx, yy, color=colors[ii], ls='--', alpha=0.35)    \n",
    "#     if ii == 0:\n",
    "#         time_handles.append(hh)\n",
    "#         time_labels.append(f\"${times_list[time_idx]:.1f}$\")\n",
    "\n",
    "# leg = ax.legend(gamma_handles, gamma_labels, loc='lower left', \n",
    "#                 ncol=len(gamma_handles), title='$\\\\nu_\\mathrm{inner}$', title_fontsize=14)"
   ]
  },
  {
   "cell_type": "markdown",
   "metadata": {},
   "source": []
  },
  {
   "attachments": {},
   "cell_type": "markdown",
   "metadata": {},
   "source": [
    "Look at sspar range"
   ]
  },
  {
   "cell_type": "code",
   "execution_count": null,
   "metadata": {},
   "outputs": [],
   "source": [
    "print(sspar[0].shape)"
   ]
  },
  {
   "cell_type": "code",
   "execution_count": null,
   "metadata": {},
   "outputs": [],
   "source": [
    "sspar = data[1]['sspar']\n",
    "print(holo.utils.stats(sspar[0][...,-1]/MSOL))\n",
    "print('min: %e, max:%e' % (np.min(sspar[0][...,-1]) / MSOL, np.max(sspar[0][...,-1])/ MSOL))"
   ]
  },
  {
   "cell_type": "code",
   "execution_count": null,
   "metadata": {},
   "outputs": [],
   "source": [
    "fig, ax = plot.figax()\n",
    "ax.hist(sspar[0].flatten()/MSOL, color='b', alpha=0.5, label='5 loudest',\n",
    "         bins=100, log=True)\n",
    "ax.hist(sspar[0][...,-1].flatten()/MSOL, color='r', alpha=0.5, label='1 loudest', \n",
    "        bins=100, log=True)"
   ]
  },
  {
   "attachments": {},
   "cell_type": "markdown",
   "metadata": {},
   "source": [
    "# Varying gamma_inner"
   ]
  },
  {
   "cell_type": "code",
   "execution_count": null,
   "metadata": {},
   "outputs": [],
   "source": [
    "NSTEPS = 10\n",
    "\n",
    "mtot_range = [3e8*MSOL, 3e9*MSOL]\n",
    "mtot_hirng = [3e9*MSOL, 3e10*MSOL]\n",
    "mrat_range = [0.2, 1.0]\n",
    "redz_range = [0, np.inf]\n",
    "\n",
    "space = pspace # from above\n",
    "\n",
    "# hard_time binary lifetimes \n",
    "times_list = [params[1]['hard_time'],]]\n",
    "# hard_gamma_inner power law indices\n",
    "inner_list = [params[0]['hard_gamma_inner'], params[1]['hard_gamma_inner'], params[2]['hard_gamma_inner']]\n",
    "# range of binary separations to plot\n",
    "sepa = np.logspace(-3, 3, NSTEPS)[::-1] * PC\n",
    "\n",
    "inner_hcss = []\n",
    "inner_hcbg = []\n",
    "inner_taus = []\n",
    "inner_taus_high = []\n",
    "\n",
    "# Iterate over target lifetimes\n",
    "for time in tqdm.tqdm(times_list):\n",
    "    _hcss = []\n",
    "    _hcbg = []\n",
    "    _taus = []\n",
    "    _taus_high = []\n",
    "\n",
    "    # iterate over outer power-law indices\n",
    "    for inner in tqdm.tqdm(inner_list):\n",
    "        # set custom parameters:\n",
    "        # using my parameters from above\n",
    "        params_step = params[1] # midpoints\n",
    "        params_step['hard_time'] = time\n",
    "        params_step['hard_gamma_inner'] = inner\n",
    "        sam, hard = pspace.model_for_params(params_step)\n",
    "\n",
    "        # calculate hc_bg and hc_ss at bin centers, between the given bin edges\n",
    "        _hcbg_step, _hcss_step, = sam.gwb(fobs_gw_edges, hard, \n",
    "                                    loudest = NLOUDEST, realize=NREALS)\n",
    "        _hcss.append(_hcss_step)\n",
    "        _hcbg.append(_hcbg_step)\n",
    " \n",
    "        # calculate binary properties at target separations\n",
    "        _edges, _dnum, _redz_final, _details = sam._dynamic_binary_number_at_sepa_consistent(\n",
    "            hard, sepa, details=True)\n",
    "        \n",
    "        # select the bins with target binary parameters\n",
    "        # I could update this to select out my single source bins\n",
    "        sel_mtot = (mtot_range[0] < sam.mtot) & (sam.mtot <= mtot_range[1])\n",
    "        sel_himt = (mtot_hirng[0] < sam.mtot) & (sam.mtot <= mtot_range[1])\n",
    "        sel_mrat = (mrat_range[0] < sam.mrat) & (sam.mrat <= mrat_range[1])\n",
    "        sel_redz = (redz_range[0] < sam.redz) & (sam.redz <= redz_range[1])\n",
    "        sel = (\n",
    "            sel_mtot[:, np.newaxis, np.newaxis] *\n",
    "            sel_mrat[np.newaxis, :, np.newaxis] * \n",
    "            sel_redz[np.newaxis, np.newaxis, :]\n",
    "        )\n",
    "\n",
    "        sel_high = (\n",
    "            sel_himt[:, np.newaxis, np.newaxis] *\n",
    "            sel_mrat[np.newaxis, :, np.newaxis] * \n",
    "            sel_redz[np.newaxis, np.newaxis, :]\n",
    "        )\n",
    "\n",
    "        tau = _details['tau'][sel].T\n",
    "        tau_high = _details['tau'][sel_high].T\n",
    "        _taus.append(tau)\n",
    "        _taus_high.append(tau_high)\n",
    "\n",
    "    inner_hcss.append(_hcss)\n",
    "    inner_hcbg.append(_hcbg)\n",
    "    inner_taus.append(_taus)\n",
    "    inner_taus_high.append(_taus_high)\n",
    "        "
   ]
  }
 ],
 "metadata": {
  "kernelspec": {
   "display_name": "holo310",
   "language": "python",
   "name": "python3"
  },
  "language_info": {
   "codemirror_mode": {
    "name": "ipython",
    "version": 3
   },
   "file_extension": ".py",
   "mimetype": "text/x-python",
   "name": "python",
   "nbconvert_exporter": "python",
   "pygments_lexer": "ipython3",
   "version": "3.10.10"
  }
 },
 "nbformat": 4,
 "nbformat_minor": 2
}
