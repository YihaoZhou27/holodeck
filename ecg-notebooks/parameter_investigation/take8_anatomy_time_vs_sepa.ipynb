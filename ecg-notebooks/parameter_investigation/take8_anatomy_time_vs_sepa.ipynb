{
 "cells": [
  {
   "cell_type": "code",
   "execution_count": null,
   "metadata": {},
   "outputs": [],
   "source": [
    "%reload_ext autoreload\n",
    "%autoreload 2\n",
    "from importlib import reload\n",
    "\n",
    "import numpy as np\n",
    "import matplotlib.pyplot as plt\n",
    "import matplotlib.cm as cm\n",
    "import h5py\n",
    "\n",
    "\n",
    "from holodeck import plot, detstats\n",
    "import holodeck.single_sources as sings\n",
    "from holodeck.constants import YR, MSOL, MPC\n",
    "import holodeck as holo\n",
    "\n",
    "import hasasia.sim as hsim\n",
    "\n",
    "import sys\n",
    "sys.path.append('/Users/emigardiner/GWs/holodeck/ecg-notebooks/parameter_investigation')\n",
    "import anatomy as anat"
   ]
  },
  {
   "attachments": {},
   "cell_type": "markdown",
   "metadata": {},
   "source": [
    "<!-- # Get PSpace Info -->\n",
    "a;sfdn"
   ]
  },
  {
   "cell_type": "code",
   "execution_count": null,
   "metadata": {},
   "outputs": [],
   "source": [
    "# # use one file to get the shape\n",
    "# npz_hard_time = np.load('/Users/emigardiner/GWs/holodeck/ecg-notebooks/parameter_investigation/anatomy_uniform09A_fullshape/hard_time_p0.5_0.5_0.5_0.5_0.5_0.5_s91_81_101.npz',\n",
    "#                         allow_pickle=True)             \n",
    "# print(npz_hard_time.files)\n",
    "# SHAPE = npz_hard_time['shape']\n",
    "# npz_hard_time.close()\n",
    "\n",
    "# # get param names\n",
    "# pspace = holo.param_spaces.PS_Uniform_09A(holo.log, nsamples=1, sam_shape=SHAPE, seed=None)\n",
    "# param_names = pspace.param_names\n",
    "# print(param_names)\n",
    "\n",
    "# # set directory path\n",
    "# sam_loc = '/Users/emigardiner/GWs/holodeck/ecg-notebooks/parameter_investigation/anatomy_uniform09A_fullshape/'\n",
    "# save_dir=sam_loc+'/figures'       "
   ]
  },
  {
   "attachments": {},
   "cell_type": "markdown",
   "metadata": {},
   "source": [
    "### Vary parameters"
   ]
  },
  {
   "cell_type": "code",
   "execution_count": null,
   "metadata": {},
   "outputs": [],
   "source": [
    "SHAPE=20\n",
    "NREALS=30\n",
    "NFREQS=40\n",
    "\n",
    "def vary_parameter(\n",
    "                   target_param,    # the name of the parameter, has to exist in `param_names`\n",
    "                   params_list = [0.0, 0.5, 1.0],  # the values we'll check\n",
    "                   pspace = holo.param_spaces.PS_Uniform_09A(holo.log, nsamples=1, sam_shape=SHAPE, seed=None),\n",
    "                   pars=None, save_dir=None \n",
    "                   ):\n",
    "    # get the parameter names from this library-space\n",
    "    param_names = pspace.param_names\n",
    "    num_pars = len(pspace.param_names)\n",
    "    print(f\"{num_pars=} :: {param_names=}\")\n",
    "\n",
    "    # choose each parameter to be half-way across the range provided by the library\n",
    "    if pars is None:\n",
    "        pars = 0.5 * np.ones(num_pars) \n",
    "    str_pars = str(pars).replace(\" \", \"_\").replace(\"[\", \"\").replace(\"]\", \"\")\n",
    "    # Choose parameter to vary\n",
    "    param_idx = param_names.index(target_param)\n",
    "\n",
    "    data = []\n",
    "    params = []\n",
    "    for ii, par in enumerate(params_list):\n",
    "        pars[param_idx] = par\n",
    "        print(f\"{ii=}, {pars=}\")\n",
    "        # _params = pspace.param_samples[0]*pars\n",
    "        _params = pspace.normalized_params(pars)\n",
    "        params.append(_params)\n",
    "        # construct `sam` and `hard` instances based on these parameters\n",
    "        sam, hard = pspace.model_for_params(_params)\n",
    "        if isinstance(hard, holo.hardening.Fixed_Time_2PL_SAM):\n",
    "            hard_name = 'Fixed Time'\n",
    "        elif isinstance(hard, holo.hardening.Hard_GW):\n",
    "            hard_name = 'GW Only'\n",
    "        # run this model, retrieving binary parameters and the GWB\n",
    "        _data = holo.librarian.run_model(sam, hard, NREALS, NFREQS, \n",
    "                                        gwb_flag=False, singles_flag=True, params_flag=True, details_flag=True)\n",
    "        data.append(_data)\n",
    "    if save_dir is not None:\n",
    "        str_shape = str(sam.shape).replace(\", \", \"_\").replace(\"(\", \"\").replace(\")\", \"\")\n",
    "        filename = save_dir+'/%s_p%s_s%s.npz' % (target_param, str_pars, str_shape)\n",
    "        np.savez(filename, data=data, params=params, hard_name=hard_name, shape=sam.shape, target_param=target_param )\n",
    "        print('saved to %s' % filename)\n",
    "\n",
    "    return (data, params, hard_name, sam.shape, target_param, filename)"
   ]
  },
  {
   "cell_type": "code",
   "execution_count": null,
   "metadata": {},
   "outputs": [],
   "source": [
    "print(f\"{data[1].keys()=}\")\n",
    "print(f\"{params[1]=}\")"
   ]
  },
  {
   "attachments": {},
   "cell_type": "markdown",
   "metadata": {},
   "source": [
    "# Timescales"
   ]
  },
  {
   "cell_type": "code",
   "execution_count": null,
   "metadata": {},
   "outputs": [],
   "source": [
    "print(sings.par_names)\n",
    "fobs_gw_cents = data['fobs_cents']\n",
    "sspar = sings.all_sspars(fobs_gw_cents, data['sspar'])\n",
    "bgpar = data['bgpar']\n",
    "hard = holo.hardening.Fixed_Time_2PL_SAM()\n",
    "print(data.keys())"
   ]
  },
  {
   "cell_type": "code",
   "execution_count": null,
   "metadata": {},
   "outputs": [],
   "source": []
  },
  {
   "cell_type": "code",
   "execution_count": null,
   "metadata": {},
   "outputs": [],
   "source": [
    "print(bgpar[0].shape)"
   ]
  },
  {
   "cell_type": "code",
   "execution_count": null,
   "metadata": {},
   "outputs": [],
   "source": [
    "def tau_from_dadt(dadt, sepa):\n",
    "    \"\"\" tau = dt/dlna = dt/(da/a) = a*(dt/da) = a/(da/dt)\"\"\"\n",
    "    tau = (sepa)/dadt\n",
    "    return tau\n",
    "def tau_from_pars(sspar, bgpar, hard=holo.hardening.Hard_GW()):\n",
    "    \"\"\" pars contain [mtot, mrat, redz_init, redz_final, dcom_final, sepa_final, angs_final]\n",
    "    each for ss is in shape F,R,L and each for bg is in shape F,R\"\"\"\n",
    "    dadt_ss = hard.dadt(sspar[0], sspar[1], sspar[5])\n",
    "    dadt_bg = hard.dadt(bgpar[0], bgpar[1], bgpar[5])\n",
    "\n",
    "    tau_ss = tau_from_dadt(dadt_ss, sspar[5])\n",
    "    tau_bg = tau_from_dadt(dadt_bg, bgpar[5])\n",
    "    return tau_ss, tau_bg \n",
    "\n",
    "tau_ss, tau_bg = tau_from_pars(sspar, bgpar, )\n",
    "\n"
   ]
  },
  {
   "cell_type": "code",
   "execution_count": null,
   "metadata": {},
   "outputs": [],
   "source": [
    "data2 = rv_hard_time[0][1]\n",
    "print(data2.keys())"
   ]
  },
  {
   "attachments": {},
   "cell_type": "markdown",
   "metadata": {},
   "source": [
    "# Plot Hardening Time vs. Separation"
   ]
  },
  {
   "cell_type": "code",
   "execution_count": null,
   "metadata": {},
   "outputs": [],
   "source": [
    "print(sings.par_names)"
   ]
  },
  {
   "cell_type": "code",
   "execution_count": null,
   "metadata": {},
   "outputs": [],
   "source": [
    "sepa_idx = np.where(sings.par_names=='sepa_final')[0]\n",
    "print(sepa_idx)"
   ]
  },
  {
   "cell_type": "code",
   "execution_count": null,
   "metadata": {},
   "outputs": [],
   "source": [
    "data = rv_hard_time[0][1]\n",
    "\n",
    "\n",
    "xlabels = ['Binary Separation [pc]', 'GW Frequency [nHz]']\n",
    "ylabels = ['Hardening Time [Gyr]', 'GW Characteristic Strain']\n",
    "\n",
    "fig, axs = plot.figax(nrows=2, figsize=(5,6)\n",
    "                     )\n",
    "for ii,ax in enumerate(axs):\n",
    "    ax.set_xlabel(xlabels[ii])\n",
    "    ax.set_ylabel(ylabels[ii])\n",
    "\n",
    "fig.tight_layout()\n",
    "\n",
    "\n",
    "\n",
    "\n",
    "x1_bg = bgpar[sepa_idx]\n",
    "\n"
   ]
  },
  {
   "cell_type": "code",
   "execution_count": null,
   "metadata": {},
   "outputs": [],
   "source": []
  }
 ],
 "metadata": {
  "kernelspec": {
   "display_name": "holo310",
   "language": "python",
   "name": "python3"
  },
  "language_info": {
   "codemirror_mode": {
    "name": "ipython",
    "version": 3
   },
   "file_extension": ".py",
   "mimetype": "text/x-python",
   "name": "python",
   "nbconvert_exporter": "python",
   "pygments_lexer": "ipython3",
   "version": "3.10.10"
  }
 },
 "nbformat": 4,
 "nbformat_minor": 2
}
