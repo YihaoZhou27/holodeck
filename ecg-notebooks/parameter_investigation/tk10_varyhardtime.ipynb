{
 "cells": [
  {
   "cell_type": "code",
   "execution_count": null,
   "metadata": {},
   "outputs": [],
   "source": [
    "%reload_ext autoreload\n",
    "%autoreload 2\n",
    "from importlib import reload\n",
    "\n",
    "import numpy as np\n",
    "import matplotlib.pyplot as plt\n",
    "import matplotlib.cm as cm\n",
    "import h5py\n",
    "\n",
    "\n",
    "from holodeck import plot, detstats\n",
    "import holodeck.single_sources as sings\n",
    "from holodeck.constants import YR, MSOL, MPC\n",
    "import holodeck as holo\n",
    "\n"
   ]
  },
  {
   "cell_type": "code",
   "execution_count": null,
   "metadata": {},
   "outputs": [],
   "source": [
    "SHAPE = 20\n",
    "NREALS = 30\n",
    "NFREQS = 40\n",
    "NLOUDEST = 10"
   ]
  },
  {
   "attachments": {},
   "cell_type": "markdown",
   "metadata": {},
   "source": [
    "# Construct Parameter Space"
   ]
  },
  {
   "cell_type": "code",
   "execution_count": null,
   "metadata": {},
   "outputs": [],
   "source": [
    "pspace = holo.param_spaces.PS_Uniform_09B(holo.log, nsamples=1, sam_shape=SHAPE, seed=None)"
   ]
  },
  {
   "cell_type": "code",
   "execution_count": null,
   "metadata": {},
   "outputs": [],
   "source": [
    "param_names = pspace.param_names\n",
    "num_pars = len(param_names)\n",
    "pars = 0.5*np.ones(num_pars)"
   ]
  },
  {
   "cell_type": "code",
   "execution_count": null,
   "metadata": {},
   "outputs": [],
   "source": [
    "def vary_parameter(\n",
    "        target_param,    # the name of the parameter, has to exist in `param_names`\n",
    "        params_list = [0.0,  0.5, 1.0],  # the values we'll check\n",
    "        pspace = holo.param_spaces.PS_Uniform_09B(holo.log, nsamples=1, sam_shape=SHAPE, seed=None),\n",
    "        nreals=NREALS, nfreqs=NFREQS,\n",
    "        pars=None, save_dir=None, \n",
    "        ):\n",
    "    # get the parameter names from this library-space\n",
    "    param_names = pspace.param_names\n",
    "    num_pars = len(pspace.param_names)\n",
    "    print(f\"{num_pars=} :: {param_names=}\")\n",
    "\n",
    "    # choose each parameter to be half-way across the range provided by the library\n",
    "    if pars is None:\n",
    "        pars = 0.5 * np.ones(num_pars) \n",
    "    str_pars = str(pars).replace(\" \", \"_\").replace(\"[\", \"\").replace(\"]\", \"\")\n",
    "    # Choose parameter to vary\n",
    "    param_idx = param_names.index(target_param)\n",
    "\n",
    "    data = []\n",
    "    params = []\n",
    "    for ii, par in enumerate(params_list):\n",
    "        pars[param_idx] = par\n",
    "        print(f\"{ii=}, {pars=}\")\n",
    "        # _params = pspace.param_samples[0]*pars\n",
    "        _params = pspace.normalized_params(pars)\n",
    "        params.append(_params)\n",
    "        # construct `sam` and `hard` instances based on these parameters\n",
    "        sam, hard = pspace.model_for_params(_params, pspace.sam_shape)\n",
    "        if isinstance(hard, holo.hardening.Fixed_Time_2PL_SAM):\n",
    "            hard_name = 'Fixed Time'\n",
    "        elif isinstance(hard, holo.hardening.Hard_GW):\n",
    "            hard_name = 'GW Only'\n",
    "        # run this model, retrieving binary parameters and the GWB\n",
    "        _data = holo.librarian.run_model(sam, hard, nreals, nfreqs, \n",
    "                                        gwb_flag=False, singles_flag=True, params_flag=True, details_flag=True)\n",
    "        data.append(_data)\n",
    "    if save_dir is not None:\n",
    "        str_shape = str(sam.shape).replace(\", \", \"_\").replace(\"(\", \"\").replace(\")\", \"\")\n",
    "        filename = save_dir+'/%s_p%s_s%s.npz' % (target_param, str_pars, str_shape)\n",
    "        np.savez(filename, data=data, params=params, hard_name=hard_name, shape=sam.shape, target_param=target_param )\n",
    "        print('saved to %s' % filename)\n",
    "\n",
    "    return (data, params, hard_name, sam.shape, target_param)"
   ]
  },
  {
   "cell_type": "code",
   "execution_count": null,
   "metadata": {},
   "outputs": [],
   "source": [
    "params_list = np.linspace(0,1,6)\n",
    "print(params_list)\n",
    "rv_hard_time = vary_parameter('hard_time', params_list=params_list)"
   ]
  },
  {
   "cell_type": "code",
   "execution_count": null,
   "metadata": {},
   "outputs": [],
   "source": [
    "data = rv_hard_time[0]"
   ]
  }
 ],
 "metadata": {
  "kernelspec": {
   "display_name": "holo310",
   "language": "python",
   "name": "python3"
  },
  "language_info": {
   "codemirror_mode": {
    "name": "ipython",
    "version": 3
   },
   "file_extension": ".py",
   "mimetype": "text/x-python",
   "name": "python",
   "nbconvert_exporter": "python",
   "pygments_lexer": "ipython3",
   "version": "3.10.10"
  }
 },
 "nbformat": 4,
 "nbformat_minor": 2
}
