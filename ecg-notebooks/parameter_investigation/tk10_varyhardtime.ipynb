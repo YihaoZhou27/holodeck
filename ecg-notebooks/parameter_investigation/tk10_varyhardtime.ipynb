{
 "cells": [
  {
   "cell_type": "code",
   "execution_count": null,
   "metadata": {},
   "outputs": [],
   "source": [
    "%reload_ext autoreload\n",
    "%autoreload 2\n",
    "from importlib import reload\n",
    "\n",
    "import numpy as np\n",
    "import matplotlib.pyplot as plt\n",
    "import matplotlib.cm as cm\n",
    "import h5py\n",
    "import matplotlib as mpl\n",
    "\n",
    "\n",
    "from holodeck import plot, detstats\n",
    "import holodeck.single_sources as sings\n",
    "from holodeck.constants import YR, MSOL, MPC\n",
    "import holodeck as holo\n",
    "\n",
    "import hasasia.sim as hsim\n"
   ]
  },
  {
   "cell_type": "code",
   "execution_count": null,
   "metadata": {},
   "outputs": [],
   "source": [
    "SHAPE = None\n",
    "NREALS = 30\n",
    "NFREQS = 40\n",
    "NLOUDEST = 10\n",
    "RECONSTRUCT = True\n",
    "NPARS = 21"
   ]
  },
  {
   "attachments": {},
   "cell_type": "markdown",
   "metadata": {},
   "source": [
    "# Construct Parameter Space"
   ]
  },
  {
   "cell_type": "code",
   "execution_count": null,
   "metadata": {},
   "outputs": [],
   "source": [
    "pspace = holo.param_spaces.PS_Uniform_09B(holo.log, nsamples=1, sam_shape=SHAPE, seed=None)"
   ]
  },
  {
   "cell_type": "code",
   "execution_count": null,
   "metadata": {},
   "outputs": [],
   "source": [
    "param_names = pspace.param_names\n",
    "num_pars = len(param_names)\n",
    "pars = 0.5*np.ones(num_pars)"
   ]
  },
  {
   "cell_type": "code",
   "execution_count": null,
   "metadata": {},
   "outputs": [],
   "source": [
    "def vary_parameter(\n",
    "        target_param,    # the name of the parameter, has to exist in `param_names`\n",
    "        params_list = [0.0,  0.5, 1.0],  # the values we'll check\n",
    "        pspace = holo.param_spaces.PS_Uniform_09B(holo.log, nsamples=1, sam_shape=SHAPE, seed=None),\n",
    "        nreals=NREALS, nfreqs=NFREQS,\n",
    "        pars=None, save_dir=None, \n",
    "        get_ds=False, #npsrs=NPSRS, sigma=SIGMA, nskies=NSKIES,\n",
    "        ):\n",
    "    # get the parameter names from this library-space\n",
    "    param_names = pspace.param_names\n",
    "    num_pars = len(pspace.param_names)\n",
    "    print(f\"{num_pars=} :: {param_names=}\")\n",
    "\n",
    "    # choose each parameter to be half-way across the range provided by the library\n",
    "    if pars is None:\n",
    "        pars = 0.5 * np.ones(num_pars) \n",
    "    str_pars = str(pars).replace(\" \", \"_\").replace(\"[\", \"\").replace(\"]\", \"\")\n",
    "    # Choose parameter to vary\n",
    "    param_idx = param_names.index(target_param)\n",
    "\n",
    "    data = []\n",
    "    params = []\n",
    "    dsdat = []\n",
    "    for ii, par in enumerate(params_list):\n",
    "        pars[param_idx] = par\n",
    "        print(f\"{ii=}, {pars=}\")\n",
    "        # _params = pspace.param_samples[0]*pars\n",
    "        _params = pspace.normalized_params(pars)\n",
    "        params.append(_params)\n",
    "        # construct `sam` and `hard` instances based on these parameters\n",
    "        sam, hard = pspace.model_for_params(_params, pspace.sam_shape)\n",
    "        if isinstance(hard, holo.hardening.Fixed_Time_2PL_SAM):\n",
    "            hard_name = 'Fixed Time'\n",
    "        elif isinstance(hard, holo.hardening.Hard_GW):\n",
    "            hard_name = 'GW Only'\n",
    "        # run this model, retrieving binary parameters and the GWB\n",
    "        _data = holo.librarian.run_model(sam, hard, nreals, nfreqs, nloudest=NLOUDEST,\n",
    "                                        gwb_flag=False, singles_flag=True, params_flag=True, details_flag=True)\n",
    "        data.append(_data)\n",
    "        if get_ds:\n",
    "            _dsdat = detstats.detect_pspace_model(\n",
    "                _data['fobs_cents'], _data['hc_ss'], _data['hc_bg'], NPSRS, SIGMA, NSKIES)\n",
    "            dsdat.append(_dsdat)\n",
    "    if save_dir is not None:\n",
    "        str_shape = str(sam.shape).replace(\", \", \"_\").replace(\"(\", \"\").replace(\")\", \"\")\n",
    "        filename = save_dir+'/%s_p%s_s%s.npz' % (target_param, str_pars, str_shape)\n",
    "        np.savez(filename, data=data, params=params, hard_name=hard_name, shape=sam.shape, target_param=target_param )\n",
    "        print('saved to %s' % filename)\n",
    "\n",
    "    return (data, params, dsdat)"
   ]
  },
  {
   "attachments": {},
   "cell_type": "markdown",
   "metadata": {},
   "source": [
    "# Calibrate PTA"
   ]
  },
  {
   "attachments": {},
   "cell_type": "markdown",
   "metadata": {},
   "source": [
    "### Get Middle Model"
   ]
  },
  {
   "cell_type": "code",
   "execution_count": null,
   "metadata": {},
   "outputs": [],
   "source": [
    "rv = vary_parameter('hard_time', params_list=[0.5], get_ds=False)\n",
    "data1 = rv[0][0] # there is o|nly one data being returned\n",
    "print(f\"{len(rv[0])}\")"
   ]
  },
  {
   "cell_type": "code",
   "execution_count": null,
   "metadata": {},
   "outputs": [],
   "source": [
    "# calculate dur, cad, dfobs\n",
    "fobs_edges = data1['fobs_edges']\n",
    "fobs_cents = data1['fobs_cents']\n",
    "dur = 1/fobs_cents[0]\n",
    "print(dur.shape)\n",
    "hifr = NFREQS/dur\n",
    "cad = 1.0 / (2 * hifr)"
   ]
  },
  {
   "attachments": {},
   "cell_type": "markdown",
   "metadata": {},
   "source": [
    "## Change the PTA as needed"
   ]
  },
  {
   "cell_type": "code",
   "execution_count": null,
   "metadata": {},
   "outputs": [],
   "source": [
    "NPSRS = 40\n",
    "SIGMA = 2.6e-6\n",
    "NSKIES = 35\n",
    "\n",
    "# build PTA\n",
    "print('Building pulsar timing array.')\n",
    "sum_median=0\n",
    "sum_mean=0\n",
    "count=30\n",
    "# dat = data[int(len(data)/2)]\n",
    "for ii in range(count):\n",
    "    phis = np.random.uniform(0, 2*np.pi, size = NPSRS)\n",
    "    thetas = np.random.uniform(np.pi/2, np.pi/2, size = NPSRS)\n",
    "    # sigmas = np.ones_like(phis)*sigma\n",
    "    psrs = hsim.sim_pta(timespan=dur/YR, cad=1/(cad/YR), sigma=SIGMA,\n",
    "                    phi=phis, theta=thetas)\n",
    "\n",
    "    dp_bg = detstats.detect_bg_pta(psrs, fobs_cents, cad, data1['hc_bg'])\n",
    "    # print(f\"{np.median(dp_bg)=}, {np.mean(dp_bg)=}, {np.std(dp_bg)=}\")\n",
    "    sum_median += np.median(dp_bg)\n",
    "    sum_mean += np.mean(dp_bg)\n",
    "print(f\"average median={sum_median/count}, average mean={sum_mean/count}\")\n"
   ]
  },
  {
   "cell_type": "code",
   "execution_count": null,
   "metadata": {},
   "outputs": [],
   "source": [
    "theta_ss, phi_ss, Phi0_ss, iota_ss, psi_ss = detstats._build_skies(NFREQS, NSKIES, NLOUDEST)\n",
    "dfobs = np.diff(fobs_edges)\n",
    "hc_ss = data1['hc_ss']\n",
    "hc_bg = data1['hc_bg']\n",
    "vals_ss = detstats.detect_ss_pta(\n",
    "        psrs, cad, dur, fobs_cents, dfobs, hc_ss, hc_bg, \n",
    "        gamma_cython=True, snr_cython=True, ret_snr=True, \n",
    "        theta_ss=theta_ss, phi_ss=phi_ss, Phi0_ss=Phi0_ss, iota_ss=iota_ss, psi_ss=psi_ss,\n",
    "        )"
   ]
  },
  {
   "cell_type": "code",
   "execution_count": null,
   "metadata": {},
   "outputs": [],
   "source": [
    "print(NLOUDEST)"
   ]
  },
  {
   "cell_type": "code",
   "execution_count": null,
   "metadata": {},
   "outputs": [],
   "source": [
    "print(theta_ss.shape)\n",
    "print(hc_ss.shape)\n",
    "print(hc_bg.shape)\n",
    "print(data1['hc_bg'].shape)"
   ]
  },
  {
   "cell_type": "code",
   "execution_count": null,
   "metadata": {},
   "outputs": [],
   "source": [
    "print(data1['hc_bg'].shape)"
   ]
  },
  {
   "cell_type": "code",
   "execution_count": null,
   "metadata": {},
   "outputs": [],
   "source": [
    "dfobs = np.diff(fobs_edges)\n",
    "print(cad.shape)\n",
    "theta_ss = np.random.uniform(0, np.pi, size = NFREQS * NSKIES * NLOUDEST).reshape(NFREQS, NSKIES, NLOUDEST)\n",
    "dp_ss, snr_ss, gamma_ssi = detstats.detect_ss_pta(psrs, cad=cad, dur=dur, fobs=fobs_cents, dfobs=dfobs, #theta_ss=theta_ss,\n",
    "                                                  hc_ss=data1['hc_ss'], hc_bg=data1['hc_bg'], ret_snr=True)"
   ]
  },
  {
   "cell_type": "code",
   "execution_count": null,
   "metadata": {},
   "outputs": [],
   "source": [
    "# check that rest make sense\n",
    "\n",
    "dsdat1 = detstats.detect_pspace_model(fobs_cents, data1['hc_ss'], data1['hc_bg'], NPSRS, SIGMA, NSKIES)\n",
    "print(holo.utils.stats(dsdat1['ev_ss']))\n",
    "print(holo.utils.stats(dsdat1['dp_ss']))\n",
    "print(holo.utils.stats(dsdat1['ev_ss']-dsdat1['dp_ss']))\n",
    "print(holo.utils.stats(dsdat1['dp_bg']))"
   ]
  },
  {
   "attachments": {},
   "cell_type": "markdown",
   "metadata": {},
   "source": [
    "# Run Many Hard Times"
   ]
  },
  {
   "cell_type": "code",
   "execution_count": null,
   "metadata": {},
   "outputs": [],
   "source": [
    "filename = '/Users/emigardiner/GWs/holodeck/ecg-notebooks/parameter_investigation/anatomy_09B'\n",
    "name = '/hardtime_%dvariations' % NPARS\n",
    "filename = filename +name+'.npz'"
   ]
  },
  {
   "cell_type": "code",
   "execution_count": null,
   "metadata": {},
   "outputs": [],
   "source": [
    "RECONSTRUCT=True\n",
    "if RECONSTRUCT:\n",
    "    params_list = np.linspace(0,1,NPARS)\n",
    "    print(params_list)\n",
    "    data, params, dsdat = vary_parameter('hard_time', params_list=params_list, get_ds=True)\n",
    "    np.savez(filename, data=data, params=params, dsdat=dsdat)\n",
    "else:\n",
    "    file = np.load(filename, allow_pickle=True)\n",
    "    print(file.files)\n",
    "    data = file['data']\n",
    "    params = file['params']\n",
    "    dsdat = file['dsdat']"
   ]
  },
  {
   "attachments": {},
   "cell_type": "markdown",
   "metadata": {},
   "source": [
    "## or just reconstruct detstats"
   ]
  },
  {
   "cell_type": "code",
   "execution_count": null,
   "metadata": {},
   "outputs": [],
   "source": [
    "JUST_DETSTATS = False\n",
    "if JUST_DETSTATS:\n",
    "    dsdat = []\n",
    "    for ii, _data in enumerate(data):\n",
    "        _dsdat = detstats.detect_pspace_model(\n",
    "            _data['fobs_cents'], _data['hc_ss'], _data['hc_bg'], NPSRS, SIGMA, NSKIES)\n",
    "        dsdat.append(_dsdat)\n",
    "    np.savez(filename = filename +'/hardtime_%dvars_p%d_sig%.2e.npz' % (NPARS, NPSRS, SIGMA,),\n",
    "             data = data, dsdat=dsdat, params=params)"
   ]
  },
  {
   "cell_type": "code",
   "execution_count": null,
   "metadata": {},
   "outputs": [],
   "source": [
    "for ds in dsdat[:3]:\n",
    "    print(f\"{holo.utils.stats(ds['dp_bg'])=}\")\n",
    "    print(f\"{holo.utils.stats(ds['dp_ss'])=}\")\n",
    "    print(f\"{holo.utils.stats(ds['ev_ss'])=}\")"
   ]
  },
  {
   "cell_type": "code",
   "execution_count": null,
   "metadata": {},
   "outputs": [],
   "source": [
    "for ds in dsdat:\n",
    "    print(holo.utils.stats(ds['dp_bg']/ds['dp_ss'][:,5]))"
   ]
  },
  {
   "cell_type": "code",
   "execution_count": null,
   "metadata": {},
   "outputs": [],
   "source": [
    "# def_draw_ev(ax):\n",
    "# plt.rcParams['mathtext.fontset'] = \"cm\"\n",
    "# plt.rcParams[\"font.family\"] = \"serif\"\n",
    "\n",
    "def draw_skies_vs_bg(ax, skies_ss, dp_bg, label=None,\n",
    "                     color='k', mean=True):\n",
    "    xx = dp_bg # shape (R,)\n",
    "    if mean:\n",
    "        yy = np.mean(skies_ss, axis=-1) # shape (R,)\n",
    "    else: \n",
    "        yy = np.mean(skies_ss, axis=-1) # shape (R,)\n",
    "    yerr = np.std(skies_ss, axis=-1) # shape (R,)\n",
    "\n",
    "    hh = ax.errorbar(xx, yy, yerr, color=color, label=label,\n",
    "                linestyle='', capsize=3, marker='o', alpha=0.5)\n",
    "    return hh\n",
    "\n",
    "\n",
    "# def plot_evss_vs_dpbg(dsdat):\n",
    "#     colors = cm.rainbow_r(np.linspace(0, 1, len(dsdat)))\n",
    "\n",
    "#     fig, ax = plot.figax(xlabel='Background Detection Probability', \n",
    "#                          ylabel='$\\langle$ Single Source Detections $\\\\rangle_\\mathrm{skies}$')\n",
    "#     for ii, ds in enumerate(dsdat):\n",
    "#         draw_skies_vs_bg(ax, ds['ev_ss'], ds['dp_bg'], color=colors[ii])\n",
    "#     # xx = fobs_cents*YR\n",
    "#     # yy = dsdat['ev_ss']\n",
    "\n",
    "#     return fig\n",
    "\n",
    "def plot_dpss_vs_dpbg(dsdat, params, target_param='hard_time', use_ev=True):\n",
    "    colors = cm.rainbow_r(np.linspace(0, 1, len(dsdat)))\n",
    "    sslabel = 'Expected Number' if use_ev else 'Detection Probability'\n",
    "    fig, ax = plot.figax(xlabel='Background Detection Probability', \n",
    "                         ylabel='$\\langle$ Single Source %s} $\\\\rangle_\\mathrm{skies}$' % sslabel,\n",
    "    ) #xscale='linear', yscale='linear')\n",
    "    handles = []\n",
    "    for ii, ds in enumerate(dsdat):\n",
    "        label = '%.2f' % params[ii][target_param]\n",
    "        detss = ds['ev_ss'] if use_ev else ds['dp_ss']\n",
    "        hh = draw_skies_vs_bg(ax, detss, ds['dp_bg'], color=colors[ii], label=label)\n",
    "        handles.append(hh)\n",
    "    ax.legend(handles=handles, loc = 'lower left', title='$\\\\tau_\\mathrm{hard}$',\n",
    "              ncols=4, title_fontsize=12)\n",
    "    # ax.set_aspect(1)\n",
    "    # xx = fobs_cents*YR\n",
    "    # yy = dsdat['ev_ss']\n",
    "\n",
    "    fig.tight_layout()\n",
    "    return fig\n",
    "\n",
    "text = 'GSMF: $\\psi_0=%.2f, m_{\\phi,0}=%.2f$' % ((params[0]['gsmf_phi0']), (params[0]['gsmf_mchar0_log10']))\n",
    "text = text+'\\nMMB: $\\mu = %.2f, \\epsilon_\\mu=%2f$ dex' % (params[0]['mmb_mamp_log10'], params[0]['mmb_scatter_dex'])\n",
    "text = text+'\\n$da/dt: \\gamma_\\mathrm{inner}=%.2f, \\gamma_\\mathrm{outer}=%.2f$' % (params[0]['hard_gamma_inner'], 2.5)\n",
    "print(text)\n",
    "\n",
    "param_path = '/Users/emigardiner/GWs/holodeck/output/figures/params'\n",
    "\n",
    "\n",
    "fig1 = plot_dpss_vs_dpbg(dsdat, params, use_ev=True)\n",
    "fig1.axes[0].text(0.99,0.99, text, transform=fig1.axes[0].transAxes, verticalalignment='top', horizontalalignment='right')\n",
    "fig1.tight_layout()\n",
    "fig1.savefig(param_path+'/')\n",
    "\n",
    "fig2 = plot_dpss_vs_dpbg(dsdat, params, use_ev=False)\n",
    "fig2.axes[0].text(0.99,0.99, text, transform=fig1.axes[0].transAxes, verticalalignment='top', horizontalalignment='right')\n",
    "fig2.tight_layout()"
   ]
  },
  {
   "cell_type": "code",
   "execution_count": null,
   "metadata": {},
   "outputs": [],
   "source": [
    "\n",
    "xlabel='$\\\\tau_\\mathrm{hard}$'\n",
    "ylabel='$\\gamma_\\mathrm{SS}/\\gamma_\\mathrm{BG}$'\n",
    "colors = cm.rainbow_r(np.linspace(0, 1, len(params)))\n",
    "\n",
    "\n",
    "fig, ax = plot.figax(xscale='linear',)\n",
    "ax.set_ylabel(ylabel, fontsize=14)\n",
    "ax.set_xlabel(xlabel, fontsize=14)\n",
    "\n",
    "target='hard_time'\n",
    "xx = []\n",
    "yy = []\n",
    "for ii, par in enumerate(params):\n",
    "    xx.append(params[ii][target])\n",
    "    dp_bg = dsdat[ii]['dp_bg']\n",
    "    dp_ss = np.mean(dsdat[ii]['dp_ss'], axis=-1)\n",
    "    yy.append(dp_ss/dp_bg)\n",
    "    for rr in range(len(yy[0])):\n",
    "        ax.scatter(xx[ii], yy[ii][rr], color=colors[ii], alpha=0.5)\n",
    "xx = np.array(xx)\n",
    "yy = np.array(yy)\n",
    "print(yy.shape)\n",
    "# for rr, yi in enumerate(yy):\n",
    "#     ax.scatter(xx,yy[:,rr])\n",
    "plot.draw_med_conf(ax, xx, yy)\n",
    "# for rr in range(len(yy[0])):\n",
    "#     ax.scatter(xx,yy[:,rr], alpha=0.5, color=colors[])"
   ]
  },
  {
   "attachments": {},
   "cell_type": "markdown",
   "metadata": {},
   "source": [
    "Could do the same, but vary another model parameter for color, or show some other parameter"
   ]
  },
  {
   "cell_type": "code",
   "execution_count": null,
   "metadata": {},
   "outputs": [],
   "source": [
    "# Get mass normalization\n",
    "\n",
    "sspar = []\n",
    "ssmtot = []\n",
    "for dat in data:\n",
    "    sspar.append(dat['sspar'])\n",
    "    ssmtot.append(dat['sspar'][0])\n",
    "sspar = np.array(sspar)\n",
    "ssmtot = np.array(ssmtot)/MSOL\n",
    "ssmtot = np.max(ssmtot, axis=(1,3))\n",
    "norm = mpl.colors.Normalize(vmin=np.min(ssmtot), vmax=np.max(ssmtot))\n",
    "\n",
    "print(np.min(ssmtot))\n",
    "print(np.max(ssmtot))\n",
    "print(ssmtot.shape)"
   ]
  },
  {
   "cell_type": "code",
   "execution_count": null,
   "metadata": {},
   "outputs": [],
   "source": [
    "print(norm(1e43))\n",
    "print(norm(0))\n",
    "cmap = cm.viridis\n",
    "print(cmap(0.5))"
   ]
  },
  {
   "cell_type": "code",
   "execution_count": null,
   "metadata": {},
   "outputs": [],
   "source": [
    "xlabel='$\\\\tau_\\mathrm{hard}$'\n",
    "ylabel='$\\gamma_\\mathrm{SS}/\\gamma_\\mathrm{BG}$'\n",
    "cmap = cm.gist_rainbow\n",
    "\n",
    "fig, ax = plot.figax(xscale='linear',)\n",
    "ax.set_ylabel(ylabel, fontsize=14)\n",
    "ax.set_xlabel(xlabel, fontsize=14)\n",
    "\n",
    "target='hard_time'\n",
    "xx = []\n",
    "yy = []\n",
    "for ii, par in enumerate(params):\n",
    "    xx.append(params[ii][target])\n",
    "    dp_bg = dsdat[ii]['dp_bg']\n",
    "    dp_ss = np.mean(dsdat[ii]['dp_ss'], axis=-1)\n",
    "    yy.append(dp_ss/dp_bg)\n",
    "    for rr in range(len(yy[0])):\n",
    "        ax.scatter(xx[ii], yy[ii][rr], color=cmap(norm(ssmtot[ii,rr])),  alpha=0.5,)\n",
    "xx = np.array(xx)\n",
    "yy = np.array(yy)\n",
    "print(yy.shape)\n",
    "# for rr, yi in enumerate(yy):\n",
    "#     ax.scatter(xx,yy[:,rr])\n",
    "plot.draw_med_conf(ax, xx, yy)\n",
    "# for rr in range(len(yy[0])):\n",
    "#     ax.scatter(xx,yy[:,rr], alpha=0.5, color=colors[])\n",
    "cbar = fig.colorbar(mpl.cm.ScalarMappable(norm=norm, cmap=cmap), label='Mass of Loudest Source [M$_\\odot$]')"
   ]
  },
  {
   "cell_type": "code",
   "execution_count": null,
   "metadata": {},
   "outputs": [],
   "source": []
  }
 ],
 "metadata": {
  "kernelspec": {
   "display_name": "holo310",
   "language": "python",
   "name": "python3"
  },
  "language_info": {
   "codemirror_mode": {
    "name": "ipython",
    "version": 3
   },
   "file_extension": ".py",
   "mimetype": "text/x-python",
   "name": "python",
   "nbconvert_exporter": "python",
   "pygments_lexer": "ipython3",
   "version": "3.10.10"
  }
 },
 "nbformat": 4,
 "nbformat_minor": 2
}
