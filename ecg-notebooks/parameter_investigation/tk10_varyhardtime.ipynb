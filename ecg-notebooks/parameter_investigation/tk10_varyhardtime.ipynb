{
 "cells": [
  {
   "cell_type": "code",
   "execution_count": null,
   "metadata": {},
   "outputs": [],
   "source": [
    "%reload_ext autoreload\n",
    "%autoreload 2\n",
    "from importlib import reload\n",
    "\n",
    "import numpy as np\n",
    "import matplotlib.pyplot as plt\n",
    "import matplotlib.cm as cm\n",
    "import h5py\n",
    "\n",
    "\n",
    "from holodeck import plot, detstats\n",
    "import holodeck.single_sources as sings\n",
    "from holodeck.constants import YR, MSOL, MPC\n",
    "import holodeck as holo\n",
    "\n",
    "import hasasia.sim as hsim\n"
   ]
  },
  {
   "cell_type": "code",
   "execution_count": null,
   "metadata": {},
   "outputs": [],
   "source": [
    "SHAPE = 20\n",
    "NREALS = 30\n",
    "NFREQS = 40\n",
    "NLOUDEST = 10\n",
    "NPSRS = 40\n"
   ]
  },
  {
   "attachments": {},
   "cell_type": "markdown",
   "metadata": {},
   "source": [
    "# Construct Parameter Space"
   ]
  },
  {
   "cell_type": "code",
   "execution_count": null,
   "metadata": {},
   "outputs": [],
   "source": [
    "pspace = holo.param_spaces.PS_Uniform_09B(holo.log, nsamples=1, sam_shape=SHAPE, seed=None)"
   ]
  },
  {
   "cell_type": "code",
   "execution_count": null,
   "metadata": {},
   "outputs": [],
   "source": [
    "param_names = pspace.param_names\n",
    "num_pars = len(param_names)\n",
    "pars = 0.5*np.ones(num_pars)"
   ]
  },
  {
   "cell_type": "code",
   "execution_count": null,
   "metadata": {},
   "outputs": [],
   "source": [
    "def vary_parameter(\n",
    "        target_param,    # the name of the parameter, has to exist in `param_names`\n",
    "        params_list = [0.0,  0.5, 1.0],  # the values we'll check\n",
    "        pspace = holo.param_spaces.PS_Uniform_09B(holo.log, nsamples=1, sam_shape=SHAPE, seed=None),\n",
    "        nreals=NREALS, nfreqs=NFREQS,\n",
    "        pars=None, save_dir=None, \n",
    "        get_ds=False, #npsrs=NPSRS, sigma=SIGMA, nskies=NSKIES,\n",
    "        ):\n",
    "    # get the parameter names from this library-space\n",
    "    param_names = pspace.param_names\n",
    "    num_pars = len(pspace.param_names)\n",
    "    print(f\"{num_pars=} :: {param_names=}\")\n",
    "\n",
    "    # choose each parameter to be half-way across the range provided by the library\n",
    "    if pars is None:\n",
    "        pars = 0.5 * np.ones(num_pars) \n",
    "    str_pars = str(pars).replace(\" \", \"_\").replace(\"[\", \"\").replace(\"]\", \"\")\n",
    "    # Choose parameter to vary\n",
    "    param_idx = param_names.index(target_param)\n",
    "\n",
    "    data = []\n",
    "    params = []\n",
    "    dsdat = []\n",
    "    for ii, par in enumerate(params_list):\n",
    "        pars[param_idx] = par\n",
    "        print(f\"{ii=}, {pars=}\")\n",
    "        # _params = pspace.param_samples[0]*pars\n",
    "        _params = pspace.normalized_params(pars)\n",
    "        params.append(_params)\n",
    "        # construct `sam` and `hard` instances based on these parameters\n",
    "        sam, hard = pspace.model_for_params(_params, pspace.sam_shape)\n",
    "        if isinstance(hard, holo.hardening.Fixed_Time_2PL_SAM):\n",
    "            hard_name = 'Fixed Time'\n",
    "        elif isinstance(hard, holo.hardening.Hard_GW):\n",
    "            hard_name = 'GW Only'\n",
    "        # run this model, retrieving binary parameters and the GWB\n",
    "        _data = holo.librarian.run_model(sam, hard, nreals, nfreqs, \n",
    "                                        gwb_flag=False, singles_flag=True, params_flag=True, details_flag=True)\n",
    "        data.append(_data)\n",
    "        if detstats:\n",
    "            _dsdat = detstats.detect_pspace_model(\n",
    "                _data['fobs_cents'], _data['hc_ss'], _data['hc_bg'], NPSRS, SIGMA, NSKIES)\n",
    "            dsdat.append(_dsdat)\n",
    "    if save_dir is not None:\n",
    "        str_shape = str(sam.shape).replace(\", \", \"_\").replace(\"(\", \"\").replace(\")\", \"\")\n",
    "        filename = save_dir+'/%s_p%s_s%s.npz' % (target_param, str_pars, str_shape)\n",
    "        np.savez(filename, data=data, params=params, hard_name=hard_name, shape=sam.shape, target_param=target_param )\n",
    "        print('saved to %s' % filename)\n",
    "\n",
    "    return (data, params, dsdat)"
   ]
  },
  {
   "attachments": {},
   "cell_type": "markdown",
   "metadata": {},
   "source": [
    "# Calibrate PTA"
   ]
  },
  {
   "cell_type": "code",
   "execution_count": null,
   "metadata": {},
   "outputs": [],
   "source": [
    "rv = vary_parameter('hard_time', params_list=[0.5])\n",
    "data = rv[0][0]\n",
    "\n",
    "# calculate dur, cad, dfobs\n",
    "fobs_edges = data['fobs_edges']\n",
    "fobs_cents = data['fobs_cents']\n",
    "dur = 1/fobs_cents[0]\n",
    "hifr = NFREQS/dur\n",
    "cad = 1.0 / (2 * hifr)"
   ]
  },
  {
   "cell_type": "code",
   "execution_count": null,
   "metadata": {},
   "outputs": [],
   "source": [
    "NPSRS = 40\n",
    "SIGMA = 4.05e-6\n",
    "NSKIES = 25\n",
    "\n",
    "# build PTA\n",
    "print('Building pulsar timing array.')\n",
    "sum_median=0\n",
    "sum_mean=0\n",
    "count=30\n",
    "for ii in range(count):\n",
    "    phis = np.random.uniform(0, 2*np.pi, size = NPSRS)\n",
    "    thetas = np.random.uniform(np.pi/2, np.pi/2, size = NPSRS)\n",
    "    # sigmas = np.ones_like(phis)*sigma\n",
    "    psrs = hsim.sim_pta(timespan=dur/YR, cad=1/(cad/YR), sigma=SIGMA,\n",
    "                    phi=phis, theta=thetas)\n",
    "\n",
    "    dp_bg = detstats.detect_bg_pta(psrs, fobs_cents, cad, data['hc_bg'])\n",
    "    # print(f\"{np.median(dp_bg)=}, {np.mean(dp_bg)=}, {np.std(dp_bg)=}\")\n",
    "    sum_median += np.median(dp_bg)\n",
    "    sum_mean += np.mean(dp_bg)\n",
    "print(f\"average median={sum_median/count}, average mean={sum_mean/count}\")"
   ]
  },
  {
   "attachments": {},
   "cell_type": "markdown",
   "metadata": {},
   "source": [
    "# Run Many Hard Times"
   ]
  },
  {
   "cell_type": "code",
   "execution_count": null,
   "metadata": {},
   "outputs": [],
   "source": [
    "params_list = np.linspace(0,1,6)\n",
    "print(params_list)\n",
    "data, params, dsdat = vary_parameter('hard_time', params_list=params_list)"
   ]
  },
  {
   "cell_type": "code",
   "execution_count": null,
   "metadata": {},
   "outputs": [],
   "source": [
    "print(dsdat[1]['ev_ss'].shape)\n",
    "print(data[1]['fobs_cents'].shape)\n",
    "print(dsdat[1]['dp_bg'].shape)\n",
    "print(dsdat[1]['dp_ss'].shape)"
   ]
  },
  {
   "cell_type": "code",
   "execution_count": null,
   "metadata": {},
   "outputs": [],
   "source": [
    "# def_draw_ev(ax):\n",
    "\n",
    "def draw_skies_vs_bg(ax, skies_ss, dp_bg, label=None,\n",
    "                     color='k', mean=True):\n",
    "    xx = dp_bg # shape (R,)\n",
    "    if mean:\n",
    "        yy = np.mean(skies_ss, axis=-1) # shape (R,)\n",
    "    else: \n",
    "        yy = np.mean(skies_ss, axis=-1) # shape (R,)\n",
    "    yerr = np.std(skies_ss, axis=-1) # shape (R,)\n",
    "\n",
    "    hh, = ax.errorbar(xx, yy, yerr, color=color,\n",
    "                linestyle='', capsize=3, marker='o', alpha=0.5)\n",
    "    return hh\n",
    "\n",
    "\n",
    "# def plot_evss_vs_dpbg(dsdat):\n",
    "#     colors = cm.rainbow_r(np.linspace(0, 1, len(dsdat)))\n",
    "\n",
    "#     fig, ax = plot.figax(xlabel='Background Detection Probability', \n",
    "#                          ylabel='$\\langle$ Single Source Detections $\\\\rangle_\\mathrm{skies}$')\n",
    "#     for ii, ds in enumerate(dsdat):\n",
    "#         draw_skies_vs_bg(ax, ds['ev_ss'], ds['dp_bg'], color=colors[ii])\n",
    "#     # xx = fobs_cents*YR\n",
    "#     # yy = dsdat['ev_ss']\n",
    "\n",
    "#     return fig\n",
    "\n",
    "def plot_dpss_vs_dpbg(dsdat, params, target_param='hard_time', use_ev=True):\n",
    "    colors = cm.rainbow_r(np.linspace(0, 1, len(dsdat)))\n",
    "\n",
    "    fig, ax = plot.figax(xlabel='Background Detection Probability', \n",
    "                         ylabel='$\\langle$ Single Source Detections Probability $\\\\rangle_\\mathrm{skies}$')\n",
    "    handles = []\n",
    "    for ii, ds in enumerate(dsdat):\n",
    "        label = params[ii][target_param]\n",
    "        detss = ds['ev_ss'] if use_ev else ds['dp_ss']\n",
    "        hh = draw_skies_vs_bg(ax, detss, ds['dp_bg'], color=colors[ii], label=label)\n",
    "        handles.append(hh)\n",
    "    ax.legend(handles=handles, loc = 'upper left', title='$\\tau_\\mathrm{hard}$')\n",
    "    # xx = fobs_cents*YR\n",
    "    # yy = dsdat['ev_ss']\n",
    "\n",
    "    return fig\n",
    "\n",
    "fig1 = plot_dpss_vs_dpbg(dsdat, params, use_ev=True)\n",
    "fig2 = plot_dpss_vs_dpbg(dsdat, params, use_ev=False)"
   ]
  },
  {
   "cell_type": "code",
   "execution_count": null,
   "metadata": {},
   "outputs": [],
   "source": []
  }
 ],
 "metadata": {
  "kernelspec": {
   "display_name": "holo310",
   "language": "python",
   "name": "python3"
  },
  "language_info": {
   "codemirror_mode": {
    "name": "ipython",
    "version": 3
   },
   "file_extension": ".py",
   "mimetype": "text/x-python",
   "name": "python",
   "nbconvert_exporter": "python",
   "pygments_lexer": "ipython3",
   "version": "3.10.10"
  }
 },
 "nbformat": 4,
 "nbformat_minor": 2
}
