{
 "cells": [
  {
   "cell_type": "code",
   "execution_count": null,
   "metadata": {},
   "outputs": [],
   "source": [
    "%reload_ext autoreload\n",
    "%autoreload 2\n",
    "from importlib import reload\n",
    "\n",
    "import numpy as np\n",
    "import matplotlib.pyplot as plt\n",
    "import matplotlib.cm as cm\n",
    "import h5py\n",
    "\n",
    "\n",
    "from holodeck import plot, detstats\n",
    "import holodeck.single_sources as sings\n",
    "from holodeck.constants import YR, MSOL, MPC\n",
    "import holodeck as holo\n",
    "\n",
    "import hasasia.sim as hsim"
   ]
  },
  {
   "attachments": {},
   "cell_type": "markdown",
   "metadata": {},
   "source": [
    "# Setup"
   ]
  },
  {
   "attachments": {},
   "cell_type": "markdown",
   "metadata": {},
   "source": [
    "## Load vary param rv's"
   ]
  },
  {
   "cell_type": "code",
   "execution_count": null,
   "metadata": {},
   "outputs": [],
   "source": [
    "npz_hard_time = np.load('/Users/emigardiner/GWs/holodeck/ecg-notebooks/parameter_investigation/anatomy_uniform09A_fullshape/hard_time_p0.5_0.5_0.5_0.5_0.5_0.5_s91_81_101.npz',\n",
    "                        allow_pickle=True)\n",
    "print(npz_hard_time.files)\n",
    "\n",
    "data = npz_hard_time['data']\n",
    "params = npz_hard_time['params']\n",
    "hard_name = npz_hard_time['hard_name']\n",
    "shape = npz_hard_time['shape']\n",
    "target_param = npz_hard_time['target_param']\n",
    "\n",
    "# npz_hard_time.close()"
   ]
  },
  {
   "attachments": {},
   "cell_type": "markdown",
   "metadata": {},
   "source": [
    "## Get pspace info"
   ]
  },
  {
   "cell_type": "code",
   "execution_count": null,
   "metadata": {},
   "outputs": [],
   "source": [
    "pspace = holo.param_spaces.PS_Uniform_09A(holo.log, nsamples=1, sam_shape=shape, seed=None)\n",
    "param_names = pspace.param_names\n",
    "print(param_names)"
   ]
  },
  {
   "cell_type": "code",
   "execution_count": null,
   "metadata": {},
   "outputs": [],
   "source": [
    "math_param_names = np.array([r'$t_\\mathrm{hard}$', r'$\\Phi_0$', r'$M_\\mathrm{char,0}$',\n",
    "                            r'$\\log \\mu$', r'$\\epsilon_\\mu$', r'$\\gamma_\\mathrm{inner}'])\n",
    "short_param_names = np.array(['t_hard', 'Phi0', 'Mchar0$',\n",
    "                            'Mamp', 'scatter', 'gam_in'])"
   ]
  },
  {
   "attachments": {},
   "cell_type": "markdown",
   "metadata": {},
   "source": [
    "# General Plotting Functions"
   ]
  },
  {
   "cell_type": "code",
   "execution_count": null,
   "metadata": {},
   "outputs": [],
   "source": [
    "def draw_sample_text(fig, params, param_names, \n",
    "                     xx=0.1, yy=-0.025, fontsize=10, color='k'):\n",
    "    text = ''\n",
    "    for pp, name in enumerate(param_names):\n",
    "        text = text+short_param_names[pp]+'=%.2e, ' % (params[name])\n",
    "        # if pp == int(len(param_names)/2):\n",
    "        #     text = text+'\\n'\n",
    "    fig.text(xx, yy, text, fontsize=fontsize, color=color, alpha=0.75,\n",
    "             parse_math=True)\n",
    "\n",
    "# def draw_bg_par_vs_freq(ax, xx, xx_ss=None, yy_ss=None, xx_bg=None, yy_bg=None, \n",
    "#                      color_ss='r', color_bg='k', colors=None,\n",
    "#                      show_ss_medians=True, \n",
    "#                      fast, show_reals):\n",
    "#     if show_ss_medians:\n",
    "#         ax.\n",
    "\n",
    "    # if show_reals:\n",
    "    #     if fast:\n",
    "    #         ax.scatter(xx_ss.flatten(), yy_ss.flatten(), marker='o', alpha=0.1, color=color_ss)\n",
    "    #         ax.scatter(xx_bg.flatten(), yy_bg.flatten(), marker='x', alpha=0.1, color=color_bg)\n",
    "        # else:\n",
    "        #     for rr in range(nreals):\n",
    "        #         for ll in range(nloudest):\n",
    "        #             edgecolor='k' if ll==0 else None\n",
    "        #             ax.scatter(xx, yy_ss[:,rr,ll], marker='o', s=15, alpha=0.1, color=colors[rr], edgecolor=edgecolor)\n",
    "        #         ax.plot(xx, yy_bg[:,rr], marker='x', alpha=0.1, color=colors[rr])"
   ]
  },
  {
   "attachments": {},
   "cell_type": "markdown",
   "metadata": {},
   "source": [
    "# Plot mass and char strain"
   ]
  },
  {
   "cell_type": "code",
   "execution_count": null,
   "metadata": {},
   "outputs": [],
   "source": [
    "def draw_mass_hc_vs_freq(fig, axs, fobs_cents, hc_ss, hc_bg, sspar, bgpar,\n",
    "                          color_ss='r', color_bg='k', ls_ss = ':', ls_bg = '-', lw_ss = 2, lw_bg = 2, \n",
    "                          fast=True, show_reals=True): \n",
    "    colors = cm.rainbow(np.linspace(0,1,len(hc_ss[0])))\n",
    "    idx = [0,] # mass only\n",
    "    shape = hc_ss.shape\n",
    "    nfreqs, nreals, nloudest = shape[0], shape[1], shape[2]\n",
    "    xx = fobs_cents*YR\n",
    "    xx_ss = np.repeat(xx, nreals*nloudest).reshape(nfreqs, nreals, nloudest)\n",
    "    xx_bg = np.repeat(xx, nreals).reshape(nfreqs, nreals)\n",
    "\n",
    "    units = sings.par_units[idx]\n",
    "    yy_ss = sspar[idx]*units[:,np.newaxis,np.newaxis,np.newaxis] # shape 1,F,R,L\n",
    "    yy_ss = np.append(yy_ss, hc_ss).reshape(2, nfreqs, nreals, nloudest) # shape 2,F,R,L\n",
    "    yy_bg = bgpar[idx]*units[:,np.newaxis,np.newaxis] # shape 1,F,R\n",
    "    yy_bg = np.append(yy_bg, hc_bg).reshape(2, nfreqs, nreals) # shape 2,F,R\n",
    "\n",
    "    for ii, ax in enumerate(axs[:,0]): # first column, bg only\n",
    "        ax.plot(xx, np.median(yy_bg[ii], axis=-1), color=color_bg, linestyle=ls_bg, alpha=0.75)\n",
    "        for pp in [50, 98]:\n",
    "            conf = np.percentile(yy_bg[ii], [50-pp/2, 50+pp/2], axis=-1)\n",
    "            ax.fill_between(xx, *conf, color=color_bg, alpha=0.25)\n",
    "    \n",
    "    for ii, ax in enumerate(axs[:,1]): # second columns, bg median and ss\n",
    "        ax.plot(xx, np.median(yy_bg[ii], axis=-1), color=color_bg, linestyle=ls_bg, alpha=0.75)\n",
    "        # all loudest, small and very transparent\n",
    "        # ax.scatter(xx_ss.flatten(), yy_ss[ii].flatten(), color=color_ss, alpha=0.1, s=5)\n",
    "        # single loudest of any realization\n",
    "        ax.scatter(xx_ss[...,0].flatten(), yy_ss[ii,:,:,0].flatten(), color=color_ss,  alpha=0.1, s=15)\n",
    "        # median loudest of all realizations, with errorbars\n",
    "        ax.errorbar(xx, np.median(yy_ss[ii,:,:,0], axis=-1), yerr=np.std(yy_ss[ii,:,:,0], axis=-1),\n",
    "                    color=color_ss, alpha=0.5, marker='o', markersize=5, capsize=5)\n",
    "        ax.sharey(axs[ii,0])\n",
    "\n",
    "\n",
    "    # # plot all pars and hs\n",
    "    # for ii,ax in enumerate(axs.flatten()):\n",
    "    #     draw_par_vs_freq(ax, xx, xx_ss, yy_ss[ii], xx_bg, yy_bg[ii], \n",
    "    #                     color_ss, color_bg, colors,\n",
    "    #                     fast, show_reals, nreals, nloudest)\n",
    "    \n",
    "    return fig\n",
    "\n",
    "\n",
    "def plot_mass_hc_vs_freq(\n",
    "        data, params, hard_name, shape, target_param, \n",
    "        datcolor_ss = np.array(['limegreen', 'cornflowerblue', 'tomato']),\n",
    "        datcolor_bg = np.array(['#003300', 'darkblue', 'darkred']),\n",
    "        datlw = np.array([3,4,5]),\n",
    "        dattext_yy = np.array([-0.02, -0.05, -0.08])):\n",
    "    \n",
    "    fobs_cents = data[0]['fobs_cents']\n",
    "    fig, axs = holo.plot.figax(\n",
    "        nrows=2, ncols=2, sharex=True, figsize=(10,6))\n",
    "\n",
    "    idx = [0,]\n",
    "    labels = np.append(sings.par_labels[idx], \n",
    "                        np.array([plot.LABEL_CHARACTERISTIC_STRAIN]))\n",
    "        \n",
    "    for ax in axs[-1]:\n",
    "        ax.set_xlabel(holo.plot.LABEL_GW_FREQUENCY_YR)\n",
    "    for ii,ax in enumerate(axs[:,0]):\n",
    "        ax.set_ylabel(labels[ii])\n",
    "\n",
    "\n",
    "    for ii, dat in enumerate(data):\n",
    "        print(f'on dat {ii}')\n",
    "        fig = draw_mass_hc_vs_freq(fig, axs, fobs_cents, dat['hc_ss'], dat['hc_bg'], \n",
    "                                    dat['sspar'], dat['bgpar'], \n",
    "                                    color_ss=datcolor_ss[ii], color_bg=datcolor_bg[ii],\n",
    "                                    lw_bg = datlw[ii], lw_ss = datlw[ii]) \n",
    "        draw_sample_text(fig, params[ii], param_names, color=datcolor_bg[ii], \n",
    "                         yy=dattext_yy[ii], xx=0, fontsize=12)\n",
    "    fig.suptitle(\"%s, %s, Varying '%s'\" % (hard_name, str(shape), target_param))\n",
    "    fig.tight_layout()\n",
    "\n",
    "    return fig\n",
    "\n",
    "# fig = draw_three_models(data = data_hard_time, params = params_hard_time,\n",
    "#                         hard_name=hard_name, shape=sam.shape, target_param=target_param)"
   ]
  },
  {
   "attachments": {},
   "cell_type": "markdown",
   "metadata": {},
   "source": [
    "'hard_time'"
   ]
  },
  {
   "cell_type": "code",
   "execution_count": null,
   "metadata": {},
   "outputs": [],
   "source": [
    "npz = npz_hard_time\n",
    "fig = plot_mass_hc_vs_freq(npz['data'], npz['params'], npz['hard_name'], npz['shape'], \n",
    "                           npz['target_param'],)"
   ]
  },
  {
   "attachments": {},
   "cell_type": "markdown",
   "metadata": {},
   "source": [
    "'gsmf_phi0'"
   ]
  },
  {
   "cell_type": "code",
   "execution_count": null,
   "metadata": {},
   "outputs": [],
   "source": [
    "npz = np.load('/Users/emigardiner/GWs/holodeck/ecg-notebooks/parameter_investigation/anatomy_uniform09A_fullshape/gsmf_phi0_p0.5_0.5_0.5_0.5_0.5_0.5_s91_81_101.npz',\n",
    "              allow_pickle=True)\n",
    "fig = plot_mass_hc_vs_freq(npz['data'], npz['params'], npz['hard_name'], npz['shape'], \n",
    "                           npz['target_param'],)"
   ]
  },
  {
   "attachments": {},
   "cell_type": "markdown",
   "metadata": {},
   "source": [
    "'gsmf_mchar0_log10'"
   ]
  },
  {
   "cell_type": "code",
   "execution_count": null,
   "metadata": {},
   "outputs": [],
   "source": [
    "npz = np.load('/Users/emigardiner/GWs/holodeck/ecg-notebooks/parameter_investigation/anatomy_uniform09A_fullshape/gsmf_mchar0_log10_p0.5_0.5_0.5_0.5_0.5_0.5_s91_81_101.npz',\n",
    "              allow_pickle=True)\n",
    "fig = plot_mass_hc_vs_freq(npz['data'], npz['params'], npz['hard_name'], npz['shape'], \n",
    "                           npz['target_param'],)"
   ]
  },
  {
   "attachments": {},
   "cell_type": "markdown",
   "metadata": {},
   "source": [
    "'mmb_mamp_log10'"
   ]
  },
  {
   "cell_type": "code",
   "execution_count": null,
   "metadata": {},
   "outputs": [],
   "source": [
    "npz = np.load('/Users/emigardiner/GWs/holodeck/ecg-notebooks/parameter_investigation/anatomy_uniform09A_fullshape/mmb_mamp_log10_p0.5_0.5_0.5_0.5_0.5_0.5_s91_81_101.npz',\n",
    "              allow_pickle=True)\n",
    "fig = plot_mass_hc_vs_freq(npz['data'], npz['params'], npz['hard_name'], npz['shape'], \n",
    "                           npz['target_param'],)"
   ]
  },
  {
   "attachments": {},
   "cell_type": "markdown",
   "metadata": {},
   "source": [
    "'mmb_scatter_dex'"
   ]
  },
  {
   "cell_type": "code",
   "execution_count": null,
   "metadata": {},
   "outputs": [],
   "source": [
    "npz = np.load('/Users/emigardiner/GWs/holodeck/ecg-notebooks/parameter_investigation/anatomy_uniform09A_fullshape/mmb_scatter_dex_p0.5_0.5_0.5_0.5_0.5_0.5_s91_81_101.npz',\n",
    "              allow_pickle=True)\n",
    "fig = plot_mass_hc_vs_freq(npz['data'], npz['params'], npz['hard_name'], npz['shape'], \n",
    "                           npz['target_param'],)"
   ]
  },
  {
   "attachments": {},
   "cell_type": "markdown",
   "metadata": {},
   "source": [
    "'hard_gamma_inner'"
   ]
  },
  {
   "cell_type": "code",
   "execution_count": null,
   "metadata": {},
   "outputs": [],
   "source": [
    "npz = np.load('/Users/emigardiner/GWs/holodeck/ecg-notebooks/parameter_investigation/anatomy_uniform09A_fullshape/hard_gamma_inner_p0.5_0.5_0.5_0.5_0.5_0.5_s91_81_101.npz',\n",
    "              allow_pickle=True)\n",
    "fig = plot_mass_hc_vs_freq(npz['data'], npz['params'], npz['hard_name'], npz['shape'], \n",
    "                           npz['target_param'],)"
   ]
  },
  {
   "cell_type": "code",
   "execution_count": null,
   "metadata": {},
   "outputs": [],
   "source": []
  }
 ],
 "metadata": {
  "kernelspec": {
   "display_name": "holo310",
   "language": "python",
   "name": "python3"
  },
  "language_info": {
   "codemirror_mode": {
    "name": "ipython",
    "version": 3
   },
   "file_extension": ".py",
   "mimetype": "text/x-python",
   "name": "python",
   "nbconvert_exporter": "python",
   "pygments_lexer": "ipython3",
   "version": "3.10.10"
  }
 },
 "nbformat": 4,
 "nbformat_minor": 2
}
