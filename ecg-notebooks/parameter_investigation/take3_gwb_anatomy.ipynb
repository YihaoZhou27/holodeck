{
 "cells": [
  {
   "cell_type": "code",
   "execution_count": null,
   "metadata": {},
   "outputs": [],
   "source": [
    "%reload_ext autoreload\n",
    "%autoreload 2\n",
    "from importlib import reload\n",
    "\n",
    "import numpy as np\n",
    "import matplotlib.pyplot as plt\n",
    "import matplotlib.cm as cm\n",
    "import h5py\n",
    "\n",
    "\n",
    "from holodeck import plot, detstats\n",
    "import holodeck.single_sources as ss\n",
    "from holodeck.constants import YR, MSOL, MPC\n",
    "import holodeck as holo"
   ]
  },
  {
   "attachments": {},
   "cell_type": "markdown",
   "metadata": {},
   "source": [
    "# Choose a Parameter Space"
   ]
  },
  {
   "cell_type": "code",
   "execution_count": null,
   "metadata": {},
   "outputs": [],
   "source": [
    "SHAPE = (30,25,35)\n",
    "NREALS = 30\n",
    "NFREQS = 40\n",
    "NLOUDEST = 10\n",
    "\n",
    " # construct a param_space instance, note that `nsamples` and `seed` don't matter here for how we'll use this\n",
    "pspace = holo.param_spaces.PS_Uniform_09A(holo.log, nsamples=1, sam_shape=SHAPE, seed=None)\n",
    "\n",
    "# get the parameter names from this library-space\n",
    "param_names = pspace.param_names\n",
    "num_pars = len(pspace.param_names)\n",
    "print(f\"{num_pars=} :: {param_names=}\")\n",
    "\n",
    "# choose each parameter to be half-way across the range provided by the library\n",
    "pars = 0.5 * np.ones(num_pars)\n",
    "params = pars * pspace.param_samples\n",
    "print(f\"{pars=}\")\n",
    "print(f\"{params=}\")\n",
    "\n",
    "# construct `sam` and `hard` instances based on these parameters,\n",
    "# using otherwise all default parameters for this library\n",
    "sam, hard = pspace.model_for_normalized_params(pars)\n",
    "# sam, hard = pspace.model_for_params(pspace.normalized_params(pars)) #this is way slower, but why??\n",
    "\n",
    "# run this model, retrieving binary parameters and the GWB\n",
    "data = holo.librarian.run_model(sam, hard, NREALS, NFREQS, NLOUDEST, \n",
    "                                gwb_flag=False, singles_flag=True, params_flag=True, details_flag=True)\n",
    "print(f\"retrieved data: {data.keys()=}\")"
   ]
  },
  {
   "attachments": {},
   "cell_type": "markdown",
   "metadata": {},
   "source": [
    "Question: What are bin_params and gwb_params?"
   ]
  },
  {
   "cell_type": "code",
   "execution_count": null,
   "metadata": {},
   "outputs": [],
   "source": [
    "fobs_cents = data['fobs_cents']\n",
    "hc_ss_mid = data['hc_ss']\n",
    "hc_bg_mid = data['hc_bg']\n",
    "sspar_mid = ss.all_sspars(fobs_cents, data['sspar'])\n",
    "bgpar_mid = data['bgpar']\n",
    "binpar_names = ss.par_names\n",
    "# params = pars*pspace.params\n",
    "print(f\"{hc_ss_mid.shape=}\")\n",
    "print(f\"{bgpar_mid.shape=}\")\n",
    "print(f\"{sspar_mid.shape=}\")\n",
    "print(f\"{param_names=}\")\n",
    "print(f\"{params=}\")\n",
    "print(f\"{binpar_names=}\")"
   ]
  },
  {
   "attachments": {},
   "cell_type": "markdown",
   "metadata": {},
   "source": [
    "# Plot hc vs. bin pars"
   ]
  },
  {
   "cell_type": "code",
   "execution_count": null,
   "metadata": {},
   "outputs": [],
   "source": [
    "print(ss.par_labels)\n",
    "print(ss.par_units)"
   ]
  },
  {
   "cell_type": "code",
   "execution_count": null,
   "metadata": {},
   "outputs": [],
   "source": [
    "def draw_hs_vs_par(ax, xx_ss=None, yy_ss=None, xx_bg=None, yy_bg=None, color_ss='r', color_bg='k', fast_ss=True, \n",
    "                   show_medians = False, show_ci=False, show_reals=True):\n",
    "    if show_reals:\n",
    "        if (xx_ss is not None) and (yy_ss is not None):\n",
    "            if fast_ss:\n",
    "                ax.scatter(xx_ss.flatten(), yy_ss.flatten(), marker='o', s=15, alpha=0.1, color=color_ss)\n",
    "            else:\n",
    "                colors = cm.rainbow(np.linspace(0,1,len(yy_ss[0])))\n",
    "                for rr in range(len(yy_ss[0])):\n",
    "                    ax.scatter(xx_ss[:,rr,:].flatten(), yy_ss[:,rr,:].flatten(), marker='o', s=10, alpha=0.1, color=colors[rr])\n",
    "        if (xx_bg is not None) and (yy_bg is not None):\n",
    "            ax.scatter(xx_bg.flatten(), yy_bg.flatten(), marker='x', s=15, alpha=0.1, color=color_bg)\n",
    "    # if show_medians:\n",
    "    #     if (xx_ss is not None) and (yy_ss is not None):\n",
    "    #         ax.plot(np.median(xx_ss, axis=())\n",
    "    #     if (xx_bg is not None) and (yy_bg is not None):\n",
    "\n",
    "\n",
    "\n",
    "\n",
    "def plot_hs_vs_binpars(fobs_cents, hc_ss, hc_bg, sspar, bgpar, color_ss='r', color_bg='k', fast_ss=True):\n",
    "    \"\"\" plot mtot (0), mrat (1), redz_init (2), dc_final (4), sepa_final(5), angs_final(6)\"\"\"\n",
    "    colors = cm.rainbow(np.linspace(0,1,len(hc_ss[0])))\n",
    "    idx = [0,1,2,4,5,6]\n",
    "\n",
    "    labels = ss.par_labels[idx]\n",
    "    units = ss.par_units[idx]\n",
    "    xx_ss = sspar[idx]*units[:,np.newaxis,np.newaxis,np.newaxis]\n",
    "    xx_bg = bgpar[idx]*units[:,np.newaxis,np.newaxis]\n",
    "    print(f\"{xx_ss.shape=}\")\n",
    "    print(f\"{xx_bg.shape=}\")\n",
    "\n",
    "    yy_ss = hc_ss\n",
    "    yy_bg = hc_bg\n",
    "    print(f\"{yy_ss.shape=}\")\n",
    "    print(f\"{yy_bg.shape=}\")\n",
    "\n",
    "\n",
    "    fig, axs = holo.plot.figax(\n",
    "        nrows=2, ncols=3, sharey=True, figsize=(12,6))\n",
    "    for ax in axs[:,0]:\n",
    "        ax.set_ylabel(holo.plot.LABEL_CHARACTERISTIC_STRAIN)\n",
    "    for ii, ax in enumerate(axs.flatten()):\n",
    "        ax.set_xlabel(labels[ii])\n",
    "        draw_hs_vs_par(ax, xx_ss[ii], yy_ss, xx_bg[ii], yy_bg, color_ss, color_bg, fast_ss, colors)\n",
    "        \n",
    "    fig.tight_layout()\n",
    "    return fig\n",
    "\n",
    "fig = plot_hs_vs_binpars(fobs_cents, hc_ss_mid, hc_bg_mid, sspar_mid, bgpar_mid, fast_ss=True)"
   ]
  },
  {
   "attachments": {},
   "cell_type": "markdown",
   "metadata": {},
   "source": [
    "# Calculate detstats"
   ]
  },
  {
   "cell_type": "code",
   "execution_count": null,
   "metadata": {},
   "outputs": [],
   "source": [
    "detstats.detect_bg_pta()"
   ]
  },
  {
   "attachments": {},
   "cell_type": "markdown",
   "metadata": {},
   "source": [
    "# Plot everything vs freqs"
   ]
  },
  {
   "cell_type": "code",
   "execution_count": null,
   "metadata": {},
   "outputs": [],
   "source": [
    "arr = np.random.uniform(0,1,100).reshape(5,20)\n",
    "print(arr.shape)\n",
    "app = np.random.uniform(0,1, 20)\n",
    "tot = np.append(arr, app).reshape(6,20)\n",
    "print(tot.shape)\n",
    "print(np.all(arr[2] == tot[2]))"
   ]
  },
  {
   "cell_type": "code",
   "execution_count": null,
   "metadata": {},
   "outputs": [],
   "source": [
    "def plot_everything_vs_freqs(fobs_cents, hc_ss, hc_bg, sspar, bgpar, dp_ss, dp_bg, df_ss, df_bg,\n",
    "                             color_ss='r', color_bg='k', fast_ss=True):\n",
    "    \"\"\" plot mtot (0), mrat (1), redz_init (2), dc_final (4), sepa_final(5), angs_final(6)\"\"\"\n",
    "    colors = cm.rainbow(np.linspace(0,1,len(hc_ss[0])))\n",
    "    idx = [0,1,2,4,5,6]\n",
    "\n",
    "    labels = ss.par_labels[idx]\n",
    "    units = ss.par_units[idx]\n",
    "    xx_ss = sspar[idx]*units[:,np.newaxis,np.newaxis,np.newaxis] # shape 9, F,R,L\n",
    "    xx_ss = np.append(xx_ss, np.array([hc_ss, dp_ss, dp_bg])\n",
    "    xx_ss = np.append(xx_ss, dp_ss)\n",
    "    xx_bg = bgpar[idx]*units[:,np.newaxis,np.newaxis] # shape 9,F,R,L\n",
    "    print(f\"{xx_ss.shape=}\")\n",
    "    print(f\"{xx_bg.shape=}\")\n",
    "\n",
    "    yy_ss = hc_ss\n",
    "    yy_bg = hc_bg\n",
    "    print(f\"{yy_ss.shape=}\")\n",
    "    print(f\"{yy_bg.shape=}\")\n",
    "\n",
    "\n",
    "    fig, axs = holo.plot.figax(\n",
    "        nrows=2, ncols=3, sharey=True, figsize=(12,6))\n",
    "    for ax in axs[:,0]:\n",
    "        ax.set_ylabel(holo.plot.LABEL_CHARACTERISTIC_STRAIN)\n",
    "    for ii, ax in enumerate(axs.flatten()):\n",
    "        ax.set_xlabel(labels[ii])\n",
    "        draw_hs_vs_par(ax, xx_ss[ii], yy_ss, xx_bg[ii], yy_bg, color_ss, color_bg, fast_ss, colors)\n",
    "        \n",
    "    fig.tight_layout()\n",
    "    return fig"
   ]
  }
 ],
 "metadata": {
  "kernelspec": {
   "display_name": "holo310",
   "language": "python",
   "name": "python3"
  },
  "language_info": {
   "codemirror_mode": {
    "name": "ipython",
    "version": 3
   },
   "file_extension": ".py",
   "mimetype": "text/x-python",
   "name": "python",
   "nbconvert_exporter": "python",
   "pygments_lexer": "ipython3",
   "version": "3.10.10"
  }
 },
 "nbformat": 4,
 "nbformat_minor": 2
}
