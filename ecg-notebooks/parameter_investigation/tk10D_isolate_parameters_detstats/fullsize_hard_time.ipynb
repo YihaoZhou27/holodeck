{
 "cells": [
  {
   "cell_type": "code",
   "execution_count": null,
   "metadata": {},
   "outputs": [],
   "source": [
    "%reload_ext autoreload\n",
    "%autoreload 2\n",
    "from importlib import reload\n",
    "\n",
    "import numpy as np\n",
    "import matplotlib.pyplot as plt\n",
    "import matplotlib.cm as cm\n",
    "import h5py\n",
    "import matplotlib as mpl\n",
    "\n",
    "\n",
    "from holodeck import plot, detstats\n",
    "import holodeck.single_sources as sings\n",
    "from holodeck.constants import YR, MSOL, MPC\n",
    "import holodeck as holo\n",
    "\n",
    "import hasasia.sim as hsim\n"
   ]
  },
  {
   "cell_type": "code",
   "execution_count": null,
   "metadata": {},
   "outputs": [],
   "source": [
    "SHAPE = None\n",
    "NREALS = 100\n",
    "NFREQS = 40\n",
    "NLOUDEST = 10\n",
    "\n",
    "CONSTRUCT = False\n",
    "JUST_DETSTATS = False\n",
    "SAVEFIG = True\n",
    "TOL=0.01\n",
    "MAXBADS=5\n",
    "\n",
    "NVARS = 21\n",
    "\n",
    "NPSRS = 40\n",
    "NSKIES = 100\n",
    "# TARGET = 'hard_time' # EDIT AS NEEDED\n",
    "# TITLE = '$\\\\tau_\\mathrm{hard}$'   # EDIT AS NEEDED\n",
    "\n",
    "\n",
    "TARGET = 'gsmf_mchar0_log10' # EDIT AS NEEDED\n",
    "TITLE = 'GSMF: log($M_\\mathrm{char,0} / \\mathrm{M}_\\odot$)'   # EDIT AS NEEDED"
   ]
  },
  {
   "cell_type": "code",
   "execution_count": null,
   "metadata": {},
   "outputs": [],
   "source": [
    "path = '/Users/emigardiner/GWs/holodeck/output/anatomy_09B'\n",
    "load_data_from_file = path+f'/{TARGET}_v{NVARS}_r{NREALS}_s{NSKIES}_shape{str(SHAPE)}.npz' \n",
    "# save_data_to_file = path+f'/{TARGET}_v{NVARS}vars_clbrt_pta.npz' \n",
    "\n",
    "if CONSTRUCT is False:\n",
    "    import os\n",
    "    if os.path.exists(load_data_from_file) is False:\n",
    "        err = 'load data file does not exist, you need to construct it.'\n",
    "        raise Exception(err)\n",
    "print(load_data_from_file)\n",
    "# print(save_data_to_file)"
   ]
  },
  {
   "attachments": {},
   "cell_type": "markdown",
   "metadata": {},
   "source": [
    "## Get Param Names"
   ]
  },
  {
   "cell_type": "code",
   "execution_count": null,
   "metadata": {},
   "outputs": [],
   "source": [
    "pspace = holo.param_spaces.PS_Uniform_09B(holo.log, nsamples=1, sam_shape=SHAPE, seed=None)\n",
    "param_names = pspace.param_names"
   ]
  },
  {
   "attachments": {},
   "cell_type": "markdown",
   "metadata": {},
   "source": [
    "## Load Data"
   ]
  },
  {
   "cell_type": "code",
   "execution_count": null,
   "metadata": {},
   "outputs": [],
   "source": [
    "file = np.load(load_data_from_file, allow_pickle=True)\n",
    "print(file.files)\n",
    "data = file['data']\n",
    "params = file['params']\n",
    "dsdat = file['dsdat']\n",
    "file.close()\n"
   ]
  },
  {
   "attachments": {},
   "cell_type": "markdown",
   "metadata": {},
   "source": [
    "# Plot"
   ]
  },
  {
   "cell_type": "code",
   "execution_count": null,
   "metadata": {},
   "outputs": [],
   "source": [
    "\n",
    "def draw_skies_vs_bg(ax, skies_ss, dp_bg, label=None,\n",
    "                     color='k', mean=True):\n",
    "    xx = dp_bg # shape (R,)\n",
    "    if mean:\n",
    "        yy = np.mean(skies_ss, axis=-1) # shape (R,)\n",
    "    else: \n",
    "        yy = np.mean(skies_ss, axis=-1) # shape (R,)\n",
    "    yerr = np.std(skies_ss, axis=-1) # shape (R,)\n",
    "\n",
    "    hh = ax.errorbar(xx, yy, yerr, color=color, label=label,\n",
    "                linestyle='', capsize=3, marker='o', alpha=0.5)\n",
    "    return hh\n",
    "\n",
    "def plot_dpss_vs_dpbg(dsdat, params, target_param=TARGET, use_ev=True, title=TITLE):\n",
    "    colors = cm.rainbow_r(np.linspace(0, 1, len(dsdat)))\n",
    "    sslabel = 'Expected Number' if use_ev else 'Detection Probability'\n",
    "    fig, ax = plot.figax(xlabel='Background Detection Probability', \n",
    "                         ylabel='$\\langle$ Single Source %s} $\\\\rangle_\\mathrm{skies}$' % sslabel,\n",
    "    ) #xscale='linear', yscale='linear')\n",
    "    handles = []\n",
    "    for ii, ds in enumerate(dsdat):\n",
    "        label = '%.2f' % params[ii][target_param]\n",
    "        detss = ds['ev_ss'] if use_ev else ds['dp_ss']\n",
    "        hh = draw_skies_vs_bg(ax, detss, ds['dp_bg'], color=colors[ii], label=label)\n",
    "        handles.append(hh)\n",
    "    ax.legend(handles=handles, loc = 'lower left', title=title,\n",
    "              ncols=4, title_fontsize=12)\n",
    "\n",
    "    fig.tight_layout()\n",
    "    return fig\n",
    "\n",
    "text = 'GSMF: $\\psi_0=%.2f, m_{\\phi,0}=%.2f$' % ((params[0]['gsmf_phi0']), (params[0]['gsmf_mchar0_log10']))\n",
    "text = text+'\\nMMB: $\\mu = %.2f, \\epsilon_\\mu=%2f$ dex' % (params[0]['mmb_mamp_log10'], params[0]['mmb_scatter_dex'])\n",
    "text = text+'\\n$da/dt: \\gamma_\\mathrm{inner}=%.2f, \\\\tau_\\mathrm{hard}=%.2f$' % (params[0]['hard_time'], 2.5)\n",
    "print(text)\n",
    "\n",
    "\n",
    "\n",
    "\n",
    "fig1 = plot_dpss_vs_dpbg(dsdat, params, use_ev=True)\n",
    "fig1.axes[0].text(0.99,0.01, text, transform=fig1.axes[0].transAxes, verticalalignment='bottom', horizontalalignment='right')\n",
    "fig1.tight_layout()\n",
    "if SAVEFIG: \n",
    "    param_path = '/Users/emigardiner/GWs/holodeck/output/figures/params'\n",
    "    fig1.savefig(param_path+f'/ss_vs_bg_{TARGET}_{NVARS}vars_clbrtd.png')\n",
    "\n",
    "\n",
    "fig2 = plot_dpss_vs_dpbg(dsdat, params, use_ev=False)\n",
    "fig2.axes[0].text(0.99,0.99, text, transform=fig1.axes[0].transAxes, verticalalignment='top', horizontalalignment='right')\n",
    "fig2.tight_layout()"
   ]
  },
  {
   "cell_type": "code",
   "execution_count": null,
   "metadata": {},
   "outputs": [],
   "source": [
    "\n",
    "# xlabel=TITLE\n",
    "# ylabel='$\\gamma_\\mathrm{SS}/\\gamma_\\mathrm{BG}$'\n",
    "# colors = cm.rainbow_r(np.linspace(0, 1, len(params)))\n",
    "\n",
    "\n",
    "# fig, ax = plot.figax(xscale='linear',)\n",
    "# ax.set_ylabel(ylabel, fontsize=14)\n",
    "# ax.set_xlabel(xlabel, fontsize=14)\n",
    "\n",
    "# target=TARGET\n",
    "# xx = []\n",
    "# yy = []\n",
    "# for ii, par in enumerate(params):\n",
    "#     xx.append(params[ii][target])\n",
    "#     dp_bg = dsdat[ii]['dp_bg']\n",
    "#     dp_ss = np.mean(dsdat[ii]['dp_ss'], axis=-1)\n",
    "#     yy.append(dp_ss/dp_bg)\n",
    "#     for rr in range(len(yy[0])):\n",
    "#         ax.scatter(xx[ii], yy[ii][rr], color=colors[ii], alpha=0.5)\n",
    "# xx = np.array(xx)\n",
    "# yy = np.array(yy)\n",
    "# print(yy.shape)\n",
    "# # for rr, yi in enumerate(yy):\n",
    "# #     ax.scatter(xx,yy[:,rr])\n",
    "# plot.draw_med_conf(ax, xx, yy)\n",
    "# # for rr in range(len(yy[0])):\n",
    "# #     ax.scatter(xx,yy[:,rr], alpha=0.5, color=colors[])"
   ]
  },
  {
   "attachments": {},
   "cell_type": "markdown",
   "metadata": {},
   "source": [
    "Could do the same, but vary another model parameter for color, or show some other parameter"
   ]
  },
  {
   "attachments": {},
   "cell_type": "markdown",
   "metadata": {},
   "source": [
    "# Get Mass Normalization"
   ]
  },
  {
   "cell_type": "code",
   "execution_count": null,
   "metadata": {},
   "outputs": [],
   "source": [
    "# # Get SS mass normalization\n",
    "# use_snr=False\n",
    "# # ssmtot = []\n",
    "# # ss_dp = []\n",
    "# if use_snr:\n",
    "#     mt_hisnr= np.zeros((NVARS, NREALS))\n",
    "#     for ii,dat in enumerate(data):\n",
    "#         # ssmtot.append(dat['sspar'][0])\n",
    "#         snr_ss = dsdat[ii]['snr_ss'] # (F,R,S,L)\n",
    "#         # print(snr_ss.shape)\n",
    "#         ssmtot = dat['sspar'][0]\n",
    "#         # print(ssmtot.shape)\n",
    "#         # for each realization, find the frequency with the loudest single source\n",
    "#         for rr in range(len(snr_ss[0])):\n",
    "#             argmax = np.argmax(snr_ss[:,rr,:,:])\n",
    "#             fidx, sidx, lidx = np.unravel_index(argmax, (NFREQS, NSKIES, NLOUDEST))\n",
    "#             # print(f\"{fidx=}, {rr=}, {sidx=}, {lidx=}\")\n",
    "#             mt_hisnr[ii,rr] = ssmtot[fidx, rr, lidx]\n",
    "\n",
    "#     mt_hisnr = np.log10(mt_hisnr/MSOL)\n",
    "#     vmin = np.min(mt_hisnr)\n",
    "#     vmax = np.max(mt_hisnr)\n",
    "#     norm = mpl.colors.Normalize(vmin=vmin, vmax=vmax)\n",
    "\n",
    "# # print(f\"{vmin=}, {vmax=}\")\n",
    "# # print(mt_hisnr.shape)"
   ]
  },
  {
   "attachments": {},
   "cell_type": "markdown",
   "metadata": {},
   "source": [
    "# Any Normalization"
   ]
  },
  {
   "cell_type": "code",
   "execution_count": null,
   "metadata": {},
   "outputs": [],
   "source": [
    "\n",
    "#### use mass of max-DP single source for each realization\n",
    "norm_by_maxDPmass = True\n",
    "if norm_by_maxDPmass:\n",
    "    normcol = np.zeros((NVARS, NREALS))\n",
    "    for ii, dat in enumerate(data):\n",
    "        gamma_ssi = dsdat[ii]['gamma_ssi'] # (F,R,S,L)\n",
    "        ssmtot = dat['sspar'][0] # (F,R,L)\n",
    "        # for each realization, find the frequency, sky, and loudest with the loudest single source\n",
    "        for rr in range(NREALS):\n",
    "            argmax = np.argmax(gamma_ssi[:,rr,:,:])\n",
    "            ff, ss, ll = np.unravel_index(argmax, (NFREQS, NSKIES, NLOUDEST))\n",
    "            normcol[ii,rr] = ssmtot[ff,rr,ll]\n",
    "    normcol = np.log10(normcol/MSOL)\n",
    "\n",
    "#### could include other colorbar options here, to set normcol values\n",
    "\n",
    "norm = mpl.colors.Normalize(vmin=np.min(normcol), vmax=np.max(normcol))"
   ]
  },
  {
   "cell_type": "code",
   "execution_count": null,
   "metadata": {},
   "outputs": [],
   "source": [
    "print(dsdat[0]['dp_bg'].shape)"
   ]
  },
  {
   "attachments": {},
   "cell_type": "markdown",
   "metadata": {},
   "source": [
    "# Normalize with individual gamma ssi"
   ]
  },
  {
   "cell_type": "code",
   "execution_count": null,
   "metadata": {},
   "outputs": [],
   "source": [
    "print(f\"{dsdat[0]['gamma_ssi'].shape=}\")\n",
    "print(f\"{dsdat[0]['ev_ss'].shape=}\")"
   ]
  },
  {
   "cell_type": "code",
   "execution_count": null,
   "metadata": {},
   "outputs": [],
   "source": [
    "print(dat['sspar'].shape)"
   ]
  },
  {
   "cell_type": "code",
   "execution_count": null,
   "metadata": {},
   "outputs": [],
   "source": [
    "cc = np.zeros((NVARS, NREALS, NSKIES))\n",
    "for ii, dat in enumerate(data):\n",
    "    for rr in range(NREALS):\n",
    "        for ss in range(NSKIES):\n",
    "            argmax = np.argmax(dsdat[ii]['gamma_ssi'][:,rr,ss,:])\n",
    "            fidx, lidx =  np.unravel_index(argmax, shape=(NFREQS, NLOUDEST))\n",
    "            cc[ii,rr,ss] = np.log10(dat['sspar'][0,fidx,rr,lidx]/MSOL)\n",
    "\n",
    "norm = mpl.colors.Normalize(vmin=np.min(cc), vmax=np.max(cc))"
   ]
  },
  {
   "attachments": {},
   "cell_type": "markdown",
   "metadata": {},
   "source": [
    "# Plot with mass colorbar"
   ]
  },
  {
   "cell_type": "code",
   "execution_count": null,
   "metadata": {},
   "outputs": [],
   "source": [
    "print(xx[:,0,0].shape)"
   ]
  },
  {
   "cell_type": "code",
   "execution_count": null,
   "metadata": {},
   "outputs": [],
   "source": [
    "xlabel=TITLE\n",
    "# ylabel='$\\gamma_\\mathrm{SS}/\\gamma_\\mathrm{BG}$'\n",
    "ylabel = '$EV_\\mathrm{SS} / DP_\\mathrm{BG}$'\n",
    "clabel = '$\\log M / [\\mathrm{M}_\\odot] $)'\n",
    "cmap = cm.rainbow\n",
    "\n",
    "fig, ax = plot.figax(xscale='linear',)\n",
    "ax.set_ylabel(ylabel, fontsize=14)\n",
    "ax.set_xlabel(xlabel, fontsize=14)\n",
    "\n",
    "target=TARGET\n",
    "xx = []\n",
    "yy = []\n",
    "for ii, par in enumerate(params):\n",
    "    xx.append(params[ii][target])\n",
    "    dp_bg = np.repeat(dsdat[ii]['dp_bg'], NSKIES).reshape(NREALS, NSKIES)\n",
    "    dp_ss = dsdat[ii]['ev_ss']\n",
    "    yy.append(dp_ss/dp_bg)\n",
    "    # for rr in range(len(yy[0])):\n",
    "\n",
    "x1= np.array(xx)\n",
    "yy = np.array(yy)\n",
    "\n",
    "xx = np.repeat(x1, NREALS*NSKIES).reshape(NVARS, NREALS, NSKIES)\n",
    "print(f\"{xx.shape=}, {yy.shape=}, {cc.shape=}\")\n",
    "# sax = ax.scatter(xx, yy, c=cc, cmap=cmap, norm=norm, alpha=0.5,)\n",
    "# cbar = plt.colorbar(sax, ax=ax, label=clabel)\n",
    "\n",
    "\n",
    "print(f\"{xx.shape=}, {yy.shape=}\")\n",
    "\n",
    "col = 'tab:blue'\n",
    "for pp in [50, 95]:\n",
    "    med, *conf = np.percentile(yy, [50, 50-pp/2, 50+pp/2], axis=(1,2))\n",
    "    ax.plot(x1, med, alpha=0.5, color=col)\n",
    "    ax.fill_between(x1, *conf, color=col, alpha=0.25)\n",
    "# cbar = fig.colorbar(mpl.cm.ScalarMappable(norm=norm, cmap=cmap), label='log ($M(\\mathrm{max\\ EV_\\mathrm{SS}}) / [\\mathrm{M}_\\odot]$)',)\n",
    "# fig.tight_layout()\n",
    "\n",
    "# figloc = '/Users/emigardiner/GWs/holodeck/output/figures/params'\n",
    "# if SAVEFIG: fig.savefig(figloc+'/dpratio_vs_%s_w_mass_%dvars_clbrtd.png' % (TARGET, NVARS))"
   ]
  },
  {
   "attachments": {},
   "cell_type": "markdown",
   "metadata": {},
   "source": []
  },
  {
   "cell_type": "code",
   "execution_count": null,
   "metadata": {},
   "outputs": [],
   "source": []
  }
 ],
 "metadata": {
  "kernelspec": {
   "display_name": "holo310",
   "language": "python",
   "name": "python3"
  },
  "language_info": {
   "codemirror_mode": {
    "name": "ipython",
    "version": 3
   },
   "file_extension": ".py",
   "mimetype": "text/x-python",
   "name": "python",
   "nbconvert_exporter": "python",
   "pygments_lexer": "ipython3",
   "version": "3.10.10"
  }
 },
 "nbformat": 4,
 "nbformat_minor": 2
}
