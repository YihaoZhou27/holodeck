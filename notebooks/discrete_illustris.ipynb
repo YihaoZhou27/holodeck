{
 "cells": [
  {
   "cell_type": "code",
   "execution_count": null,
   "metadata": {},
   "outputs": [],
   "source": [
    "# %load ./init.ipy\n",
    "%reload_ext autoreload\n",
    "%autoreload 2\n",
    "from importlib import reload\n",
    "\n",
    "import os\n",
    "import sys\n",
    "import logging\n",
    "import warnings\n",
    "import numpy as np\n",
    "import astropy as ap\n",
    "import scipy as sp\n",
    "import scipy.stats\n",
    "import matplotlib as mpl\n",
    "import matplotlib.pyplot as plt\n",
    "\n",
    "import h5py\n",
    "import tqdm.notebook as tqdm\n",
    "\n",
    "import kalepy as kale\n",
    "import kalepy.utils\n",
    "import kalepy.plot\n",
    "\n",
    "import holodeck as holo\n",
    "import holodeck.sam\n",
    "from holodeck import cosmo, utils, plot\n",
    "from holodeck.constants import MSOL, PC, YR, MPC, GYR\n",
    "\n",
    "# Silence annoying numpy errors\n",
    "np.seterr(divide='ignore', invalid='ignore', over='ignore')\n",
    "warnings.filterwarnings(\"ignore\", category=UserWarning)\n",
    "\n",
    "# Plotting settings\n",
    "mpl.rc('font', **{'family': 'serif', 'sans-serif': ['Times'], 'size': 15})\n",
    "mpl.rc('lines', solid_capstyle='round')\n",
    "mpl.rc('mathtext', fontset='cm')\n",
    "plt.rcParams.update({'grid.alpha': 0.5})\n",
    "\n",
    "log = holo.log\n",
    "log.setLevel(logging.INFO)"
   ]
  },
  {
   "cell_type": "code",
   "execution_count": null,
   "metadata": {},
   "outputs": [],
   "source": [
    "PATH_DATA = holo._PATH_DATA\n",
    "\n",
    "FNAME_ILLUSTRIS_DATA = \"illustris-galaxy-mergers_L75n1820FP_gas-100_dm-100_star-100_bh-000.hdf5\"\n",
    "FNAME_MCCONNELL_MA_2013 = \"mcconnell+ma-2013_1211.2816.txt\"\n",
    "\n",
    "FNAME_DATA = os.path.join(PATH_DATA, FNAME_ILLUSTRIS_DATA)\n",
    "FNAME_MCCONNELL_MA_2013 = os.path.join(PATH_DATA, FNAME_MCCONNELL_MA_2013)"
   ]
  },
  {
   "cell_type": "code",
   "execution_count": null,
   "metadata": {},
   "outputs": [],
   "source": [
    "sepa = np.logspace(-4, 4, 100) * PC\n",
    "\n",
    "fig, ax = utils.figax(xlabel='Separation [pc]', ylabel='Hardening Time [yr]')\n",
    "\n",
    "data = evo.at('sepa', sepa)\n",
    "dadt = np.fabs(data['dadt'])\n",
    "\n",
    "conf = utils.quantiles(sepa/dadt/YR, sigmas=[0, -1, 1], axis=0)\n",
    "med, *conf = conf.T\n",
    "\n",
    "xx = sepa / PC\n",
    "\n",
    "ax.plot(xx, med)\n",
    "ax.fill_between(xx, *conf, alpha=0.2)\n",
    "\n",
    "plt.show()"
   ]
  },
  {
   "cell_type": "markdown",
   "metadata": {},
   "source": [
    "Compare actual evolution time to intended time (`htime`)"
   ]
  },
  {
   "cell_type": "code",
   "execution_count": null,
   "metadata": {},
   "outputs": [],
   "source": [
    "time = evo.tlbk\n",
    "dt = time[:, 0] - time[:, -1]\n",
    "\n",
    "kale.dist1d(dt/htime, density=True)"
   ]
  },
  {
   "cell_type": "markdown",
   "metadata": {},
   "source": [
    "# Quick: Population, Evolution, GW Spectrum"
   ]
  },
  {
   "cell_type": "code",
   "execution_count": null,
   "metadata": {},
   "outputs": [],
   "source": [
    "# ---- Create initial population\n",
    "\n",
    "pop = holo.Pop_Illustris(FNAME_DATA)\n",
    "\n",
    "# ---- Apply population modifiers\n",
    "\n",
    "# resample to increase the number of binaries\n",
    "mod_resamp = holo.PM_Resample(resample=5.0)\n",
    "# modify population (in-place)\n",
    "pop.modify(mod_resamp)\n",
    "\n",
    "# ---- Evolve binary population\n",
    "\n",
    "# create a fixed-total-time hardening mechanism\n",
    "fixed = holo.evolution.Fixed_Time(2.0 * GYR)\n",
    "# add population and hardening to an evolution instance\n",
    "evo = holo.evolution.Evolution(pop, fixed)\n",
    "# evolve binary population\n",
    "evo.evolve()\n",
    "\n",
    "# ---- Calculate and Plot GWB\n",
    "\n",
    "# construct sampling frequencies\n",
    "freqs = holo.utils.nyquist_freqs(dur=20.0*YR, cad=0.3*YR)\n",
    "# calculate discretized GW signals\n",
    "gwb = holo.gravwaves.GW_Discrete(evo, freqs, nreals=30)\n",
    "gwb.emit()\n",
    "\n",
    "plot_gwb(gwb)\n",
    "plt.show()"
   ]
  },
  {
   "cell_type": "markdown",
   "metadata": {},
   "source": [
    "# Step-by-Step"
   ]
  },
  {
   "cell_type": "markdown",
   "metadata": {},
   "source": [
    "## Construct Illustris-Based Binary Population"
   ]
  },
  {
   "cell_type": "code",
   "execution_count": null,
   "metadata": {},
   "outputs": [],
   "source": [
    "pop = holo.Pop_Illustris(FNAME_DATA)\n",
    "ill_name = os.path.basename(pop._fname).split('_')[1]\n",
    "print(\"Loaded\", pop.size, \"binaries from Illustris\", ill_name)"
   ]
  },
  {
   "cell_type": "code",
   "execution_count": null,
   "metadata": {},
   "outputs": [],
   "source": [
    "plot.plot_bin_pop(pop)\n",
    "plt.show()"
   ]
  },
  {
   "cell_type": "markdown",
   "metadata": {},
   "source": [
    "### Apply a modifier to add (arbitrary) eccentricities, and resample 5x"
   ]
  },
  {
   "cell_type": "code",
   "execution_count": null,
   "metadata": {},
   "outputs": [],
   "source": [
    "mod_eccen = holo.PM_Eccentricity()\n",
    "mod_resamp = holo.PM_Resample(resample=2.5)\n",
    "\n",
    "mods = [mod_eccen, mod_resamp]\n",
    "pop.modify(mods)\n",
    "print(\"Population now has\", pop.size, \"elements\")\n",
    "msg = np.percentile(pop.eccen, [25.0, 50.0, 75.0])\n",
    "msg = [\"{:.3f}\".format(vv) for vv in msg]\n",
    "msg = \", \".join(msg)\n",
    "print(\"Eccentricities: \", msg)"
   ]
  },
  {
   "cell_type": "code",
   "execution_count": null,
   "metadata": {},
   "outputs": [],
   "source": [
    "plot_bin_pop(pop)\n",
    "plt.show()"
   ]
  },
  {
   "cell_type": "markdown",
   "metadata": {},
   "source": [
    "### Apply Modifer to Use McConnell+Ma 2013 BH masses"
   ]
  },
  {
   "cell_type": "code",
   "execution_count": null,
   "metadata": {},
   "outputs": [],
   "source": [
    "# Create the modifier using M-Mbulge relation\n",
    "mod_mm13 = holo.PM_MM13(relation='mbulge')\n",
    "\n",
    "# Choose percentiles\n",
    "percs = 100*sp.stats.norm.cdf([-1, 0, 1])\n",
    "percs = [0,] + percs.tolist() + [100,]\n",
    "\n",
    "# Format nicely\n",
    "str_array = lambda xx: \", \".join([\"{:.2e}\".format(yy) for yy in xx])\n",
    "str_masses = lambda xx: str_array(np.percentile(xx/MSOL, percs))\n",
    "\n",
    "# Modify population\n",
    "print(\"Masses before: \", str_masses(pop.mass))\n",
    "pop.modify(mod_mm13)\n",
    "print(\"Masses after : \", str_masses(pop.mass))\n",
    "    \n",
    "plot_mbh_scaling_relations(pop, fname=FNAME_MCCONNELL_MA_2013)\n",
    "plt.show()"
   ]
  },
  {
   "cell_type": "markdown",
   "metadata": {},
   "source": [
    "# Binary Evolution"
   ]
  },
  {
   "cell_type": "code",
   "execution_count": null,
   "metadata": {},
   "outputs": [],
   "source": [
    "bin_evo = holo.evolution.Evo_Magic_Delay_Eccen(pop)\n",
    "bin_evo.evolve()"
   ]
  },
  {
   "cell_type": "code",
   "execution_count": null,
   "metadata": {},
   "outputs": [],
   "source": [
    "freqs = np.logspace(-3, 1, 30) / YR\n",
    "plot_evo(bin_evo, freqs)\n",
    "plt.show()"
   ]
  },
  {
   "cell_type": "markdown",
   "metadata": {},
   "source": [
    "# Calculate GWB"
   ]
  },
  {
   "cell_type": "code",
   "execution_count": null,
   "metadata": {},
   "outputs": [],
   "source": [
    "freqs = holo.utils.nyquist_freqs(20.0, 0.3)\n",
    "gwb = holo.GW_Discrete(bin_evo, freqs/YR, nreals=10)\n",
    "gwb.emit()"
   ]
  },
  {
   "cell_type": "code",
   "execution_count": null,
   "metadata": {},
   "outputs": [],
   "source": [
    "plot_gwb(gwb)\n",
    "plt.show()"
   ]
  },
  {
   "cell_type": "code",
   "execution_count": null,
   "metadata": {},
   "outputs": [],
   "source": []
  }
 ],
 "metadata": {
  "kernelspec": {
   "display_name": "py38",
   "language": "python",
   "name": "py38"
  },
  "language_info": {
   "codemirror_mode": {
    "name": "ipython",
    "version": 3
   },
   "file_extension": ".py",
   "mimetype": "text/x-python",
   "name": "python",
   "nbconvert_exporter": "python",
   "pygments_lexer": "ipython3",
   "version": "3.8.11"
  },
  "toc": {
   "base_numbering": 1,
   "nav_menu": {},
   "number_sections": true,
   "sideBar": true,
   "skip_h1_title": false,
   "title_cell": "Table of Contents",
   "title_sidebar": "Contents",
   "toc_cell": false,
   "toc_position": {},
   "toc_section_display": true,
   "toc_window_display": true
  },
  "varInspector": {
   "cols": {
    "lenName": 16,
    "lenType": 16,
    "lenVar": 40
   },
   "kernels_config": {
    "python": {
     "delete_cmd_postfix": "",
     "delete_cmd_prefix": "del ",
     "library": "var_list.py",
     "varRefreshCmd": "print(var_dic_list())"
    },
    "r": {
     "delete_cmd_postfix": ") ",
     "delete_cmd_prefix": "rm(",
     "library": "var_list.r",
     "varRefreshCmd": "cat(var_dic_list()) "
    }
   },
   "types_to_exclude": [
    "module",
    "function",
    "builtin_function_or_method",
    "instance",
    "_Feature"
   ],
   "window_display": false
  }
 },
 "nbformat": 4,
 "nbformat_minor": 4
}
