{
 "cells": [
  {
   "cell_type": "code",
   "execution_count": null,
   "metadata": {},
   "outputs": [],
   "source": [
    "# %load ./init.ipy\n",
    "%reload_ext autoreload\n",
    "%autoreload 2\n",
    "from importlib import reload\n",
    "\n",
    "import os\n",
    "import sys\n",
    "import logging\n",
    "import warnings\n",
    "import numpy as np\n",
    "import astropy as ap\n",
    "import scipy as sp\n",
    "import scipy.stats\n",
    "import matplotlib as mpl\n",
    "import matplotlib.pyplot as plt\n",
    "\n",
    "import h5py\n",
    "import tqdm.notebook as tqdm\n",
    "\n",
    "import kalepy as kale\n",
    "import kalepy.utils\n",
    "import kalepy.plot\n",
    "\n",
    "import holodeck as holo\n",
    "import holodeck.sam\n",
    "import holodeck.gravwaves\n",
    "from holodeck import cosmo, utils, plot\n",
    "from holodeck.constants import MSOL, PC, YR, MPC, GYR, SPLC\n",
    "\n",
    "# Silence annoying numpy errors\n",
    "np.seterr(divide='ignore', invalid='ignore', over='ignore')\n",
    "warnings.filterwarnings(\"ignore\", category=UserWarning)\n",
    "\n",
    "# Plotting settings\n",
    "mpl.rc('font', **{'family': 'serif', 'sans-serif': ['Times'], 'size': 15})\n",
    "mpl.rc('lines', solid_capstyle='round')\n",
    "mpl.rc('mathtext', fontset='cm')\n",
    "plt.rcParams.update({'grid.alpha': 0.5})\n",
    "mpl.style.use('default')   # avoid dark backgrounds from dark theme vscode\n",
    "\n",
    "log = holo.log\n",
    "log.setLevel(logging.INFO)"
   ]
  },
  {
   "cell_type": "markdown",
   "metadata": {},
   "source": [
    "# Quick-Start"
   ]
  },
  {
   "cell_type": "markdown",
   "metadata": {},
   "source": [
    "Create an Illustris-Based Population, and a simple binary-evolution model"
   ]
  },
  {
   "cell_type": "code",
   "execution_count": null,
   "metadata": {},
   "outputs": [],
   "source": [
    "# ---- Create initial population\n",
    "\n",
    "pop = holo.population.Pop_Illustris()\n",
    "\n",
    "# ---- Evolve binary population\n",
    "\n",
    "# create a fixed-total-time hardening mechanism\n",
    "fixed = holo.evolution.Fixed_Time.from_pop(pop, 2.0 * GYR)\n",
    "# Create an evolution instance using population and hardening mechanism\n",
    "evo = holo.evolution.Evolution(pop, fixed)\n",
    "# evolve binary population\n",
    "evo.evolve()"
   ]
  },
  {
   "cell_type": "markdown",
   "metadata": {},
   "source": [
    "Calculate GWB"
   ]
  },
  {
   "cell_type": "code",
   "execution_count": null,
   "metadata": {},
   "outputs": [],
   "source": [
    "# construct sampling frequencies\n",
    "freqs = holo.utils.nyquist_freqs(dur=20.0*YR, cad=0.3*YR)\n",
    "# calculate discretized GW signals\n",
    "gwb = holo.gravwaves.GW_Discrete(evo, freqs, nreals=30)\n",
    "gwb.emit()"
   ]
  },
  {
   "cell_type": "markdown",
   "metadata": {},
   "source": [
    "Plot GWB"
   ]
  },
  {
   "cell_type": "code",
   "execution_count": null,
   "metadata": {},
   "outputs": [],
   "source": [
    "plot.plot_gwb(gwb)\n",
    "plt.show()"
   ]
  },
  {
   "cell_type": "markdown",
   "metadata": {},
   "source": [
    "# Step-by-Step, with additional features"
   ]
  },
  {
   "cell_type": "markdown",
   "metadata": {},
   "source": [
    "Construct Illustris-Based Binary Population"
   ]
  },
  {
   "cell_type": "code",
   "execution_count": null,
   "metadata": {},
   "outputs": [],
   "source": [
    "pop = holo.population.Pop_Illustris()\n",
    "ill_name = os.path.basename(pop._fname).split('_')[1]\n",
    "print(\"Loaded\", pop.size, \"binaries from Illustris\", ill_name)"
   ]
  },
  {
   "cell_type": "markdown",
   "metadata": {},
   "source": [
    "Plot the properties of the Illustris population at the time of 'merger' events in the cosmological simulations"
   ]
  },
  {
   "cell_type": "code",
   "execution_count": null,
   "metadata": {},
   "outputs": [],
   "source": [
    "plot.plot_bin_pop(pop)\n",
    "plt.show()"
   ]
  },
  {
   "cell_type": "markdown",
   "metadata": {},
   "source": [
    "Apply a modifier to resample binary population by some factor, increasing the number of sample points"
   ]
  },
  {
   "cell_type": "code",
   "execution_count": null,
   "metadata": {},
   "outputs": [],
   "source": [
    "mod_resamp = holo.population.PM_Resample(resample=5.0)\n",
    "old_size = pop.size\n",
    "pop.modify(mod_resamp)\n",
    "print(f\"Population size increased from {old_size} to {pop.size} elements\")"
   ]
  },
  {
   "cell_type": "markdown",
   "metadata": {},
   "source": [
    "Plot resampled population, now with many more points"
   ]
  },
  {
   "cell_type": "code",
   "execution_count": null,
   "metadata": {},
   "outputs": [],
   "source": [
    "plot.plot_bin_pop(pop)\n",
    "plt.show()"
   ]
  },
  {
   "cell_type": "markdown",
   "metadata": {},
   "source": [
    "Apply another `Modifier` to change the MBH masses to match a particular M-Mbulge relation"
   ]
  },
  {
   "cell_type": "code",
   "execution_count": null,
   "metadata": {},
   "outputs": [],
   "source": [
    "# Create the modifier using M-Mbulge relation\n",
    "mmbulge = holo.relations.MMBulge_KH13()\n",
    "mod_kh13 = holo.population.PM_Mass_Reset(mmbulge, scatter=True)\n",
    "\n",
    "# Choose percentiles for reporting statistical properties\n",
    "percs = 100*sp.stats.norm.cdf([-1, 0, 1])\n",
    "percs = [0,] + percs.tolist() + [100,]\n",
    "\n",
    "# Format nicely\n",
    "str_array = lambda xx: \", \".join([\"{:.2e}\".format(yy) for yy in xx])\n",
    "str_masses = lambda xx: str_array(np.percentile(xx/MSOL, percs))\n",
    "\n",
    "# Modify population\n",
    "print(f\"                {0:7.0f}% {16:7.0f}% {50:7.0f}% {84:7.0f}% {100:7.0f}%\")\n",
    "print(\"Masses before: \", str_masses(pop.mass))\n",
    "pop.modify(mod_kh13)\n",
    "print(\"Masses after : \", str_masses(pop.mass))"
   ]
  },
  {
   "cell_type": "markdown",
   "metadata": {},
   "source": [
    "Plot MBH-Galaxy scaling relationship, showing old and new masses (i.e. before and after modification)"
   ]
  },
  {
   "cell_type": "code",
   "execution_count": null,
   "metadata": {},
   "outputs": [],
   "source": [
    "plot.plot_mbh_scaling_relations(pop)\n",
    "plt.show()"
   ]
  },
  {
   "cell_type": "markdown",
   "metadata": {},
   "source": [
    "# Binary Evolution Models"
   ]
  },
  {
   "cell_type": "markdown",
   "metadata": {},
   "source": [
    "## Phenomenological 'Fixed Time' Evolution Model"
   ]
  },
  {
   "cell_type": "markdown",
   "metadata": {},
   "source": [
    "The `holodeck.evolution.Fixed_Time` class uses a simple parametrized hardening model that forces all binaries to coalesce in a given total amount of time.  It uses a double power-law in hardening timescale [i.e. $\\tau_a \\equiv a / (da/dt) = dt/d\\ln a$], with two power-law indices, and a transition binary-separation, as the parameters.  Based on those three parameters, it constructs a complete binary evolution history for each binary (including GW emission), and chooses a normalization such that the total evolution time matches the desired value."
   ]
  },
  {
   "cell_type": "markdown",
   "metadata": {},
   "source": [
    "Construct an `Evolution` instance using a `Fixed_Time` model for the given lifetime."
   ]
  },
  {
   "cell_type": "code",
   "execution_count": null,
   "metadata": {},
   "outputs": [],
   "source": [
    "# Set timescale for all binaries to merge over\n",
    "fix_time = 3.0 * GYR\n",
    "# ---- Construct hardening model with this desired merging time\n",
    "# When this instance is created, it calculates the appropriate hardening normalization for each\n",
    "# binary to reach the desired coalescing time\n",
    "fixed = holo.evolution.Fixed_Time.from_pop(pop, fix_time)\n",
    "# Construct evolution instance using fixed time hardening\n",
    "evo = holo.evolution.Evolution(pop, fixed)\n",
    "# Evolve population\n",
    "evo.evolve()"
   ]
  },
  {
   "cell_type": "markdown",
   "metadata": {},
   "source": [
    "Compare resulting lifetimes to the targeted lifetime.  The match won't be perfect, but it should be within a few percent of the desired timescale (`fix_time`)."
   ]
  },
  {
   "cell_type": "code",
   "execution_count": null,
   "metadata": {},
   "outputs": [],
   "source": [
    "# Calculate the total lifetime of each binary\n",
    "time = evo.tlbk\n",
    "dt = time[:, 0] - time[:, -1]\n",
    "\n",
    "# Create figure\n",
    "fig, ax = plot.figax(scale='lin', xlabel='Time: actual/specified', ylabel='density')\n",
    "# use kalepy to plot distribution\n",
    "kale.dist1d(dt/fix_time, density=True)\n",
    "\n",
    "plt.show()"
   ]
  },
  {
   "cell_type": "markdown",
   "metadata": {},
   "source": [
    "Plot the hardening timescale ($\\tau_a$) vs. binary separation ($a$)."
   ]
  },
  {
   "cell_type": "code",
   "execution_count": null,
   "metadata": {},
   "outputs": [],
   "source": [
    "# Create spacing in separation (xaxis) to plot against\n",
    "sepa = np.logspace(-4, 4, 100) * PC\n",
    "# Plot hardening rates\n",
    "plot.plot_evo(evo, sepa=sepa)\n",
    "\n",
    "plt.show()"
   ]
  },
  {
   "cell_type": "markdown",
   "metadata": {},
   "source": [
    "Plot the hardening timescale ($\\tau_f$) vs. binary frequency ($f$)."
   ]
  },
  {
   "cell_type": "code",
   "execution_count": null,
   "metadata": {},
   "outputs": [],
   "source": [
    "# Create frequency spacing (xaxis) to plot against\n",
    "freqs = np.logspace(-3, 1, 30) / YR\n",
    "# plot evolution\n",
    "plot.plot_evo(evo, freqs=freqs)\n",
    "plt.show()"
   ]
  },
  {
   "cell_type": "markdown",
   "metadata": {},
   "source": [
    "Calculate GWB from the `evolution` instance, which takes into account the fixed-time hardening model"
   ]
  },
  {
   "cell_type": "code",
   "execution_count": null,
   "metadata": {},
   "outputs": [],
   "source": [
    "gwb = holo.gravwaves.GW_Discrete(evo, freqs, nreals=5)\n",
    "gwb.emit()"
   ]
  },
  {
   "cell_type": "markdown",
   "metadata": {},
   "source": [
    "Plot GWB."
   ]
  },
  {
   "cell_type": "code",
   "execution_count": null,
   "metadata": {},
   "outputs": [],
   "source": [
    "plot.plot_gwb(gwb)\n",
    "plt.show()"
   ]
  },
  {
   "cell_type": "markdown",
   "metadata": {},
   "source": [
    "### Compare varying parameters of the hardening model, on the resulting GWB spectrum"
   ]
  },
  {
   "cell_type": "code",
   "execution_count": null,
   "metadata": {},
   "outputs": [],
   "source": [
    "# Set timescale for all binaries to merge over\n",
    "fix_time_list = np.array([2.0, 4.0]) * GYR\n",
    "trans_sep_list = np.array([100.0, 10.0]) * PC\n",
    "\n",
    "gwbs = []\n",
    "labels = []\n",
    "evos = []\n",
    "\n",
    "for ii, fix in enumerate(tqdm.tqdm_notebook(fix_time_list)):\n",
    "    for jj, rchar in enumerate(tqdm.tqdm_notebook(trans_sep_list, leave=False)):\n",
    "        fixed = holo.evolution.Fixed_Time.from_pop(pop, fix, rchar=rchar, progress=False)\n",
    "        lab = rf\"$T={fix/GYR:.1f} \\, \\mathrm{{Gyr}}$, $R_{{c}} = {rchar/PC:.1f} \\, \\mathrm{{pc}}$\"\n",
    "        labels.append(lab)\n",
    "\n",
    "        _evo = holo.evolution.Evolution(pop, fixed)\n",
    "        _evo.evolve(progress=False)\n",
    "        evos.append(_evo)\n",
    "        _gwb = holo.gravwaves.GW_Discrete(_evo, freqs, nreals=10)\n",
    "        _gwb.emit(progress=False)\n",
    "        gwbs.append(_gwb)\n"
   ]
  },
  {
   "cell_type": "code",
   "execution_count": null,
   "metadata": {},
   "outputs": [],
   "source": [
    "fig, axes = plot.figax(figsize=[10, 6], nrows=2, sharex=True, xlabel='Frequency $[1/\\mathrm{yr}]$')\n",
    "axes[1].set(ylabel='Characteristic Strain $h_c$')\n",
    "\n",
    "for ii, (evo, gwb, lab) in enumerate(zip(evos, gwbs, labels)):\n",
    "    plot.plot_evo(evo, freqs=freqs, ax=axes[0])\n",
    "    hc = np.median(gwb.back, axis=-1)\n",
    "    axes[1].plot(freqs*YR, hc, label=lab)\n",
    "    \n",
    "axes[1].legend()\n",
    "plt.show()"
   ]
  },
  {
   "cell_type": "markdown",
   "metadata": {},
   "source": [
    "# Sample Full Light-Cone Population of Binaries"
   ]
  },
  {
   "cell_type": "code",
   "execution_count": null,
   "metadata": {},
   "outputs": [],
   "source": [
    "# pop = holo.population.Pop_Illustris()\n",
    "# mod_resamp = holo.population.PM_Resample(resample=2.0)\n",
    "# pop.modify(mod_resamp)\n",
    "\n",
    "# mmbulge = holo.relations.MMBulge_MM13(mamp=7e8*MSOL)\n",
    "# mod_mm13 = holo.population.PM_Mass_Reset(mmbulge, scatter=True)\n",
    "# pop.modify(mod_mm13)\n",
    "\n",
    "# fixed = holo.evolution.Fixed_Time.from_pop(pop, 2.0 * GYR)\n",
    "# evo = holo.evolution.Evolution(pop, fixed)\n",
    "# evo.evolve()\n",
    "\n",
    "# fobs = holo.utils.nyquist_freqs(20.0 * YR, 0.2 * YR)\n",
    "\n",
    "# gwb = holo.gravwaves.GW_Discrete(evo, fobs, nreals=10)\n",
    "# gwb.emit()\n",
    "\n",
    "# plot.plot_gwb(gwb)\n",
    "# plt.show()\n",
    "\n",
    "\n",
    "\n",
    "# samples = evo.sample_full_population(fobs, DOWN=None)\n",
    "# hs, fo = holo.sam._strains_from_samples(samples)\n",
    "\n",
    "# nloud = 5\n",
    "# colors = plot._get_cmap('plasma')(np.linspace(0.05, 0.95, nloud))# print(colors)\n",
    "\n",
    "# fig, ax = plot.figax(figsize=[12, 8], xlabel='Frequency [yr$^{-1}$]', ylabel='c-Strain')\n",
    "# for ii in utils.tqdm(range(fobs.size-1)):\n",
    "#     # if ii < 10 or ii > 16:\n",
    "#     #     continue\n",
    "    \n",
    "#     fextr = [fobs[ii+jj] for jj in range(2)]\n",
    "#     fextr = np.asarray(fextr)\n",
    "#     cycles = 1.0 / np.diff(np.log(fextr))[0]\n",
    "\n",
    "#     idx = (fextr[0] <= fo) & (fo < fextr[1])\n",
    "#     hs_bin = hs[idx]\n",
    "#     fo_bin = fo[idx]    \n",
    "\n",
    "#     tot = np.sqrt(np.sum(cycles * hs_bin**2))\n",
    "#     ax.plot(fextr*YR, tot * np.ones_like(fextr), 'k--')\n",
    "\n",
    "#     idx = np.argsort(hs_bin)[::-1]\n",
    "    \n",
    "#     for jj, cc in enumerate(colors):\n",
    "#         if jj > len(idx):\n",
    "#             break\n",
    "#         hi = idx[jj]\n",
    "#         lo = idx[jj+1:]\n",
    "#         gw_hi = np.sqrt(np.sum(cycles * hs_bin[hi]**2))\n",
    "#         gw_lo = np.sqrt(np.sum(cycles * hs_bin[lo]**2))\n",
    "\n",
    "#         fave = np.average(fo_bin[hi], weights=hs_bin[hi])\n",
    "#         ax.plot(fextr*YR, gw_lo * np.ones_like(fextr), color=cc, lw=0.5)\n",
    "#         ax.scatter(fave*YR, gw_hi, marker='.', color=cc, alpha=0.5)\n",
    "\n",
    "# plt.show()"
   ]
  }
 ],
 "metadata": {
  "interpreter": {
   "hash": "61b4062b24dfb1010f420dad5aa3bd73a4d2af47d0ec44eafec465a35a9d7239"
  },
  "kernelspec": {
   "display_name": "Python 3.9.12 ('py39')",
   "language": "python",
   "name": "python3"
  },
  "language_info": {
   "codemirror_mode": {
    "name": "ipython",
    "version": 3
   },
   "file_extension": ".py",
   "mimetype": "text/x-python",
   "name": "python",
   "nbconvert_exporter": "python",
   "pygments_lexer": "ipython3",
   "version": "3.9.12"
  },
  "toc": {
   "base_numbering": 1,
   "nav_menu": {},
   "number_sections": true,
   "sideBar": true,
   "skip_h1_title": false,
   "title_cell": "Table of Contents",
   "title_sidebar": "Contents",
   "toc_cell": false,
   "toc_position": {},
   "toc_section_display": true,
   "toc_window_display": true
  },
  "varInspector": {
   "cols": {
    "lenName": 16,
    "lenType": 16,
    "lenVar": 40
   },
   "kernels_config": {
    "python": {
     "delete_cmd_postfix": "",
     "delete_cmd_prefix": "del ",
     "library": "var_list.py",
     "varRefreshCmd": "print(var_dic_list())"
    },
    "r": {
     "delete_cmd_postfix": ") ",
     "delete_cmd_prefix": "rm(",
     "library": "var_list.r",
     "varRefreshCmd": "cat(var_dic_list()) "
    }
   },
   "types_to_exclude": [
    "module",
    "function",
    "builtin_function_or_method",
    "instance",
    "_Feature"
   ],
   "window_display": false
  }
 },
 "nbformat": 4,
 "nbformat_minor": 4
}
