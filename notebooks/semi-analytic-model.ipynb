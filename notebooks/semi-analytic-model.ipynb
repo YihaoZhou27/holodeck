{
 "cells": [
  {
   "cell_type": "code",
   "execution_count": null,
   "id": "662f23dc",
   "metadata": {},
   "outputs": [],
   "source": [
    "# %load ./init.ipy\n",
    "%reload_ext autoreload\n",
    "%autoreload 2\n",
    "from importlib import reload\n",
    "\n",
    "import os\n",
    "import sys\n",
    "import logging\n",
    "import warnings\n",
    "import numpy as np\n",
    "import astropy as ap\n",
    "import scipy as sp\n",
    "import scipy.stats\n",
    "import matplotlib as mpl\n",
    "import matplotlib.pyplot as plt\n",
    "\n",
    "import h5py\n",
    "import tqdm.notebook as tqdm\n",
    "\n",
    "import kalepy as kale\n",
    "# import kalepy.utils\n",
    "import kalepy.plot\n",
    "\n",
    "import holodeck as holo\n",
    "import holodeck.sam\n",
    "from holodeck import utils, plot  # , cosmo\n",
    "from holodeck.constants import MSOL, PC, YR, MPC, GYR, SPLC\n",
    "\n",
    "# Silence annoying numpy errors\n",
    "np.seterr(divide='ignore', invalid='ignore', over='ignore')\n",
    "warnings.filterwarnings(\"ignore\", category=UserWarning)\n",
    "\n",
    "# Plotting settings\n",
    "mpl.rc('font', **{'family': 'serif', 'sans-serif': ['Times'], 'size': 15})\n",
    "mpl.rc('lines', solid_capstyle='round')\n",
    "mpl.rc('mathtext', fontset='cm')\n",
    "plt.rcParams.update({'grid.alpha': 0.5})\n",
    "\n",
    "log = holo.log\n",
    "log.setLevel(logging.INFO)"
   ]
  },
  {
   "cell_type": "markdown",
   "id": "5f20307b",
   "metadata": {},
   "source": [
    "# Quick Start"
   ]
  },
  {
   "cell_type": "code",
   "execution_count": null,
   "id": "f4352d58",
   "metadata": {},
   "outputs": [],
   "source": [
    "# ---- Construct S.A.M. with default settings ----\n",
    "sam = holo.sam.Semi_Analytic_Model()"
   ]
  },
  {
   "cell_type": "code",
   "execution_count": null,
   "id": "116aba71",
   "metadata": {},
   "outputs": [],
   "source": [
    "# ---- Choose frequencies, and calculate GWB ----\n",
    "fobs = utils.nyquist_freqs()"
   ]
  },
  {
   "cell_type": "code",
   "execution_count": null,
   "id": "6833e235",
   "metadata": {},
   "outputs": [],
   "source": [
    "edges, number, hs = sam.number_from_hardening(holo.evolution.Hard_GW, fobs=fobs)\n"
   ]
  },
  {
   "cell_type": "code",
   "execution_count": null,
   "id": "b8689919",
   "metadata": {},
   "outputs": [],
   "source": [
    "num = number\n",
    "for ii, ee in enumerate(edges):\n",
    "    if ii == 0:\n",
    "        num = holo.utils.trapz_loglog(num, edges[0], dlogx=10.0, axis=0)\n",
    "    else:\n",
    "        num = holo.utils.trapz(num, edges[ii], axis=ii)\n",
    "\n",
    "    num = np.nan_to_num(num)"
   ]
  },
  {
   "cell_type": "code",
   "execution_count": null,
   "id": "1d599f6e",
   "metadata": {},
   "outputs": [],
   "source": [
    "edges[2].shape"
   ]
  },
  {
   "cell_type": "code",
   "execution_count": null,
   "id": "4bfc07b8",
   "metadata": {},
   "outputs": [],
   "source": [
    "num.shape"
   ]
  },
  {
   "cell_type": "code",
   "execution_count": null,
   "id": "9c3a4f69",
   "metadata": {},
   "outputs": [],
   "source": [
    "_num = np.nan_to_num(num)\n",
    "\n",
    "for ax in range(1, len(edges)):\n",
    "    _num = np.moveaxis(_num, ax, 0)\n",
    "    _num = 0.5 * (_num[1:] + _num[:-1])\n",
    "    _num = np.moveaxis(_num, 0, -1)\n",
    "    xx = edges[ax]\n",
    "    _num = _num * np.diff(xx)\n",
    "    _num = np.moveaxis(_num, -1, ax)\n",
    "\n"
   ]
  },
  {
   "cell_type": "code",
   "execution_count": null,
   "id": "cf1e4c00",
   "metadata": {},
   "outputs": [],
   "source": [
    "_num.sum()/1e9"
   ]
  },
  {
   "cell_type": "code",
   "execution_count": null,
   "id": "a1aa3a43",
   "metadata": {},
   "outputs": [],
   "source": [
    "# number.shape, edges[0].shape\n",
    "t = np.trapz(number, np.log10(edges[0]), axis=0)\n",
    "t"
   ]
  },
  {
   "cell_type": "code",
   "execution_count": null,
   "id": "4da220cd",
   "metadata": {},
   "outputs": [],
   "source": [
    "num = number\n",
    "egrid = np.meshgrid(*edges, indexing='ij')\n",
    "dlogx = [10.0, False, False, False]\n",
    "for ax, (xx, dlx) in enumerate(zip(egrid, dlogx)):\n",
    "    print(num.shape, ax, xx.shape)\n",
    "    num = holo.utils.trapz_loglog(number, xx, dlogx=dlx, axis=ax)\n",
    "    print(np.nan_to_num(num).sum())\n"
   ]
  },
  {
   "cell_type": "code",
   "execution_count": null,
   "id": "3c7dad5c",
   "metadata": {},
   "outputs": [],
   "source": [
    "edges[0]"
   ]
  },
  {
   "cell_type": "code",
   "execution_count": null,
   "id": "ea642114",
   "metadata": {},
   "outputs": [],
   "source": [
    "hc_gwb = np.sqrt(np.sum(num*np.square(hs), axis=(0, 1, 2)))"
   ]
  },
  {
   "cell_type": "code",
   "execution_count": null,
   "id": "b3898f4c",
   "metadata": {},
   "outputs": [],
   "source": [
    "gwb = sam.gwb(fobs, realize=10)    # calculate 10 different realizations"
   ]
  },
  {
   "cell_type": "code",
   "execution_count": null,
   "id": "a3387af9",
   "metadata": {},
   "outputs": [],
   "source": [
    "# ---- Plot GWB ----\n",
    "\n",
    "fig, ax = plt.subplots(figsize=[15, 8])\n",
    "ax.set(xscale='log', xlabel='Frequency [1/yr]', yscale='log', ylabel='Characteristic Strain')\n",
    "ax.grid(alpha=0.2)\n",
    "\n",
    "xx = fobs * YR\n",
    "yy = 2e-16 * np.power(xx, -2.0/3.0)\n",
    "ax.plot(xx, yy, 'k--', alpha=0.25, lw=2.0)\n",
    "ax.plot(xx, np.median(gwb, axis=-1), 'k-')\n",
    "for pp in [50, 98]:\n",
    "    percs = pp / 2\n",
    "    percs = [50 - percs, 50 + percs]\n",
    "    ax.fill_between(xx, *np.percentile(gwb, percs, axis=-1), alpha=0.25, color='b')\n",
    "\n",
    "plt.show()"
   ]
  },
  {
   "cell_type": "markdown",
   "id": "e1df94f1",
   "metadata": {},
   "source": [
    "# build SAM component-by-component"
   ]
  },
  {
   "cell_type": "code",
   "execution_count": null,
   "id": "f7095845",
   "metadata": {},
   "outputs": [],
   "source": [
    "gsmf = holo.sam.GSMF_Schechter()        # Galaxy Stellar-Mass Function (GSMF)\n",
    "gpf = holo.sam.GPF_Power_Law()          # Galaxy Pair Fraction         (GPF)\n",
    "gmt = holo.sam.GMT_Power_Law()          # Galaxy Merger Time           (GMT)\n",
    "mmbulge = holo.sam.MMBulge_Simple()\n",
    "\n",
    "sam = holo.sam.Semi_Analytic_Model(gsmf=gsmf, gpf=gpf, gmt=gmt, mmbulge=mmbulge)"
   ]
  },
  {
   "cell_type": "code",
   "execution_count": null,
   "id": "93de0d7c",
   "metadata": {},
   "outputs": [],
   "source": [
    "# ---- Calculate GWB Amplitude distribution at 1/yr ----\n",
    "ayr = sam.gwb(1.0/YR, realize=100)"
   ]
  },
  {
   "cell_type": "code",
   "execution_count": null,
   "id": "eee72ad8",
   "metadata": {},
   "outputs": [],
   "source": [
    "fig, ax = plt.subplots(figsize=[10, 6])\n",
    "ax.set(xlabel=r'$\\log_{10}(A_\\mathrm{yr})$', ylabel='Probability Density')\n",
    "ax.grid(alpha=0.2)\n",
    "kale.dist1d(np.log10(ayr), density=True, confidence=True)\n",
    "\n",
    "plt.show()"
   ]
  },
  {
   "cell_type": "markdown",
   "id": "5a4e2fdf",
   "metadata": {},
   "source": [
    "## Plot GWB Amplitude Distribution vs. M-MBulge parameters"
   ]
  },
  {
   "cell_type": "code",
   "execution_count": null,
   "id": "71eda2bc",
   "metadata": {},
   "outputs": [],
   "source": [
    "alpha_list = [0.75, 1.0, 1.25]\n",
    "norm_list = np.logspace(7, 9, 11)\n",
    "NREALS = 100\n",
    "FREQ = 1.0 / YR   # [1/s]\n",
    "\n",
    "dist_mmb = np.zeros((len(alpha_list), norm_list.size, NREALS))\n",
    "\n",
    "for aa, alpha in enumerate(tqdm.tqdm(alpha_list)):\n",
    "    for nn, norm in enumerate(tqdm.tqdm(norm_list, leave=False)):\n",
    "        mmbulge = holo.sam.MMBulge_Simple(mass_norm=norm, malpha=alpha)\n",
    "        sam = holo.sam.Semi_Analytic_Model(gsmf=gsmf, gpf=gpf, gmt=gmt, mmbulge=mmbulge)\n",
    "        dist_mmb[aa, nn, :] = sam.gwb(FREQ, realize=NREALS)"
   ]
  },
  {
   "cell_type": "code",
   "execution_count": null,
   "id": "62f496f7",
   "metadata": {},
   "outputs": [],
   "source": [
    "fig, ax = plt.subplots(figsize=[6, 4])\n",
    "ax.set(xscale='log', xlabel='M-MBulge Mass', yscale='log', ylabel=r'GWB $A_\\mathrm{yr}$')\n",
    "ax.grid(alpha=0.2)\n",
    "\n",
    "dist = dist_mmb\n",
    "\n",
    "for aa, dd in zip(alpha_list, dist):\n",
    "    med = np.median(dd, axis=-1)\n",
    "    cc, = ax.plot(norm_list, med, label=aa)\n",
    "    cc = cc.get_color()\n",
    "    ax.fill_between(norm_list, *np.percentile(dd, [25, 75], axis=-1), color=cc, alpha=0.25)\n",
    "    \n",
    "plt.legend(title='slope')\n",
    "plt.show()"
   ]
  },
  {
   "cell_type": "markdown",
   "id": "6f7ce70c",
   "metadata": {},
   "source": [
    "## Plot GWB Amplitude vs. Schecter Mass Parameter"
   ]
  },
  {
   "cell_type": "code",
   "execution_count": null,
   "id": "e1547cfc",
   "metadata": {},
   "outputs": [],
   "source": [
    "mz = np.array([0.0, 1e10, 1e11]) * MSOL\n",
    "m0 = np.logspace(10, 12, 7) * MSOL\n",
    "NREALS = 100\n",
    "FREQ = 1.0 / YR   # [1/s]\n",
    "\n",
    "dist = np.zeros((len(mz), len(m0), NREALS))\n",
    "\n",
    "for aa, _mz in enumerate(tqdm.tqdm(mz)):\n",
    "    for nn, _m0 in enumerate(tqdm.tqdm(m0, leave=False)):\n",
    "        gsmf = holo.sam.GSMF_Schechter(mref0=_m0, mrefz=_mz)\n",
    "        sam = holo.sam.Semi_Analytic_Model(gsmf=gsmf, gpf=gpf, gmt=gmt, mmbulge=mmbulge)\n",
    "        dist[aa, nn, :] = sam.gwb(FREQ, realize=NREALS)"
   ]
  },
  {
   "cell_type": "code",
   "execution_count": null,
   "id": "c1c92e56",
   "metadata": {},
   "outputs": [],
   "source": [
    "fig, ax = plt.subplots(figsize=[16, 6])\n",
    "ax.set(xscale='log', xlabel='Schechter Mass', yscale='log', ylabel=r'GWB $A_\\mathrm{yr}$')\n",
    "ax.grid(alpha=0.2)\n",
    "\n",
    "for aa, dd in zip(mz, dist):\n",
    "    med = np.median(dd, axis=-1)\n",
    "    lab = f\"$10^{{{np.log10(aa):+.1f}}}$\" if aa > 0.0 else f\"${aa:+.1f}$\"\n",
    "    cc, = ax.plot(m0, med, label=lab)\n",
    "    cc = cc.get_color()\n",
    "    ax.fill_between(m0, *np.percentile(dd, [25, 75], axis=-1), color=cc, alpha=0.25)\n",
    "    \n",
    "plt.legend(title='$M_0(z)$')\n",
    "plt.show()"
   ]
  },
  {
   "cell_type": "markdown",
   "id": "53f6fb7a",
   "metadata": {},
   "source": [
    "# Discretize Population"
   ]
  },
  {
   "cell_type": "code",
   "execution_count": null,
   "id": "e24f9f16",
   "metadata": {},
   "outputs": [],
   "source": [
    "sam = holo.sam.Semi_Analytic_Model()\n",
    "# sam = holo.sam.Semi_Analytic_Model(\n",
    "#     mtot=[275000.0, 100000000000.0, 101],\n",
    "#     mrat=[0.02, 1.0, 50],\n",
    "#     redz=[0.0, 6.0, 61]\n",
    "# )"
   ]
  },
  {
   "cell_type": "code",
   "execution_count": null,
   "id": "2e969cfc",
   "metadata": {},
   "outputs": [],
   "source": [
    "fobs = utils.nyquist_freqs(20.0*YR, 0.1*YR)\n",
    "\n",
    "edges, number, strain = sam.number_at_gw_fobs(fobs, limit_merger_time=2.0*GYR)\n",
    "log_edges_fobs = [np.log10(edges[0]), edges[1], edges[2], np.log10(edges[3])]\n",
    "\n",
    "num = number.sum()\n",
    "print(f\"{num:.4e}\")"
   ]
  },
  {
   "cell_type": "markdown",
   "id": "9c475429",
   "metadata": {},
   "source": [
    "## Sample using kalepy"
   ]
  },
  {
   "cell_type": "code",
   "execution_count": null,
   "id": "4e15bae9",
   "metadata": {},
   "outputs": [],
   "source": [
    "vals, weights = holo.sam.sample_sam(\n",
    "    sam, fobs, sample_threshold=10.0, cut_below_mass=None, limit_merger_time=2.0*GYR\n",
    ")"
   ]
  },
  {
   "cell_type": "code",
   "execution_count": null,
   "id": "bcaf8c70",
   "metadata": {},
   "outputs": [],
   "source": [
    "bins = (sam.mtot, sam.mrat)\n",
    "\n",
    "nums = nums.sum(axis=(-1, -2))\n",
    "# nums = number[..., 0].sum(axis=-1)\n",
    "# nums[nums < 1.0] = 0.0\n",
    "\n",
    "extr = [nums[nums > 0].min()/2, 2*nums.max()]\n",
    "extr[0] = np.max([extr[0], 1e-2])\n",
    "norm = mpl.colors.LogNorm(*extr)\n",
    "\n",
    "fig, axes = plt.subplots(figsize=[18, 6], ncols=3)\n",
    "\n",
    "for ax in axes:\n",
    "    ax.set(xscale='log', xlabel='log10 Mass Primary', ylabel='Mass Ratio')\n",
    "\n",
    "ax = axes[0]\n",
    "ax.set(title='Continuous')\n",
    "pcm = ax.pcolormesh(*bins, nums.T, norm=norm)\n",
    "plt.colorbar(pcm, ax=ax, orientation='horizontal')\n",
    "\n",
    "\n",
    "ax = axes[1]\n",
    "ax.set(title='Discrete (sampled)')\n",
    "# idx = (vals[3] < fobs[1])\n",
    "idx = slice(None)\n",
    "hist, *_ = np.histogram2d(vals[0, idx], vals[1, idx], bins=bins, weights=weights[idx])\n",
    "\n",
    "pcm = ax.pcolormesh(*bins, hist.T, norm=norm)\n",
    "plt.colorbar(pcm, ax=ax, orientation='horizontal')\n",
    "\n",
    "\n",
    "ax = axes[2]\n",
    "ax.set(title='Error')\n",
    "# test = 10.0 ** kale.utils.midpoints(np.log10(nums), axis=None)\n",
    "test = kale.utils.midpoints(nums, log=True, axis=None)\n",
    "diff = np.zeros_like(test)\n",
    "idx = (test > 0.0)\n",
    "diff[idx] = (hist[idx] - test[idx]) / test[idx]\n",
    "diff[~idx] = hist[~idx]\n",
    "print(\"hist = \", utils.stats(hist[np.isfinite(hist)]))\n",
    "print(\"test = \", utils.stats(test[np.isfinite(test)]))\n",
    "print(\"diff = \", utils.stats(diff), utils.minmax(diff))\n",
    "extr = diff\n",
    "extr = [diff.min(), 2.0]\n",
    "# extr = [-0.5, 0.5]\n",
    "smap = plot.smap(extr, midpoint=0.0)\n",
    "pcm = ax.pcolormesh(*bins, diff.T, cmap=smap.cmap, norm=smap.norm)\n",
    "plt.colorbar(pcm, ax=ax, orientation='horizontal')\n",
    "\n",
    "plt.show()"
   ]
  },
  {
   "cell_type": "code",
   "execution_count": null,
   "id": "c4e3eaa7",
   "metadata": {},
   "outputs": [],
   "source": [
    "bins = (sam.mtot, sam.mrat)\n",
    "vv, ww = kale.sample_outliers(bins, nums, 10.0)"
   ]
  },
  {
   "cell_type": "code",
   "execution_count": null,
   "id": "99090335",
   "metadata": {},
   "outputs": [],
   "source": [
    "bins = (sam.mtot, sam.mrat)\n",
    "\n",
    "test = kale.utils.midpoints(nums, log=False, axis=None)\n",
    "hh, *_ = np.histogram2d(*vv, weights=ww, bins=bins)\n",
    "\n",
    "fig, axes = plt.subplots(figsize=[20, 7], ncols=3)\n",
    "for ax in axes:\n",
    "    ax.set(xscale='log', yscale='log')\n",
    "    \n",
    "extr = utils.minmax([test, hh])\n",
    "extr[0] = np.max([extr[0], 1e-2])\n",
    "smap = plot.smap(extr, log=True)\n",
    "\n",
    "ax = axes[0]\n",
    "pcm = ax.pcolormesh(*bins, test.T, cmap=smap.cmap, norm=smap.norm)\n",
    "plt.colorbar(pcm, ax=ax)\n",
    "\n",
    "ax = axes[1]\n",
    "pcm = ax.pcolormesh(*bins, hh.T, cmap=smap.cmap, norm=smap.norm)\n",
    "plt.colorbar(pcm, ax=ax)\n",
    "\n",
    "ax = axes[2]\n",
    "diff = (hh - test) / test\n",
    "extr = diff\n",
    "extr = [-1, 1]\n",
    "smap = plot.smap(extr, midpoint=0.0)\n",
    "pcm = ax.pcolormesh(*bins, diff.T, cmap=smap.cmap, norm=smap.norm)\n",
    "plt.colorbar(pcm, ax=ax)\n",
    "\n",
    "plt.show()"
   ]
  },
  {
   "cell_type": "code",
   "execution_count": null,
   "id": "19322b93",
   "metadata": {},
   "outputs": [],
   "source": []
  },
  {
   "cell_type": "code",
   "execution_count": null,
   "id": "348cef0d",
   "metadata": {},
   "outputs": [],
   "source": [
    "test = 10.0 ** kale.utils.midpoints(np.log10(nums), axis=None)\n",
    "# test = kale.utils.midpoints(nums, axis=None)\n",
    "sam.mtot.size, hist.shape, test.shape"
   ]
  },
  {
   "cell_type": "code",
   "execution_count": null,
   "id": "b498084e",
   "metadata": {},
   "outputs": [],
   "source": [
    "aa = test[:, 0]\n",
    "bb = hist[:, 0]\n",
    "\n",
    "fig, ax = plot.figax()\n",
    "tw = ax.twinx()\n",
    "# tw.set(yscale='log')\n",
    "ax.plot(sam.mtot[1:], aa)\n",
    "ax.plot(sam.mtot[1:], bb)\n",
    "tw.plot(sam.mtot[1:], aa/bb)\n",
    "plt.show()"
   ]
  },
  {
   "cell_type": "markdown",
   "id": "a49e6b1e",
   "metadata": {},
   "source": [
    "## Calculate GWs"
   ]
  },
  {
   "cell_type": "code",
   "execution_count": null,
   "id": "4056ab45",
   "metadata": {},
   "outputs": [],
   "source": [
    "use_vals = vals\n",
    "use_weights = weights\n",
    "\n",
    "# use_vals = np.copy(vals)\n",
    "# use_weights = np.copy(weights)\n",
    "\n",
    "# idx = (vals[2] > 0.2)\n",
    "# use_vals = use_vals.T[idx].T\n",
    "# use_weights = use_weights[idx]\n",
    "\n",
    "gwf_freqs, gwf, gwb = holo.sam._gws_from_samples(use_vals, use_weights, fobs)"
   ]
  },
  {
   "cell_type": "code",
   "execution_count": null,
   "id": "b4c78042",
   "metadata": {},
   "outputs": [],
   "source": [
    "fig, ax = plot.figax()\n",
    "\n",
    "idx = (gwf > gwb)\n",
    "xx = gwf_freqs * YR   # [1/sec] ==> [1/yr]\n",
    "ax.scatter(xx[idx], gwf[idx], color='r', s=20, alpha=0.5)\n",
    "ax.scatter(xx[~idx], gwf[~idx], edgecolor='r', facecolor='none', s=20, alpha=0.5)\n",
    "\n",
    "xx = kale.utils.midpoints(fobs) * YR   # [1/sec] ==> [1/yr]\n",
    "ax.plot(xx, gwb, 'k-')\n",
    "\n",
    "amp = 10e-16\n",
    "yy = amp * np.power(xx, -2/3)\n",
    "ax.plot(xx, yy, 'k--', alpha=0.25)\n",
    "\n",
    "hc = number * strain**2\n",
    "hc = np.sqrt(np.sum(hc, axis=(0, 1, 2)))\n",
    "ax.plot(fobs, hc, 'b--')\n",
    "\n",
    "\n",
    "plt.show()"
   ]
  },
  {
   "cell_type": "markdown",
   "id": "ac674614",
   "metadata": {},
   "source": [
    "## Use realistic hardening rate to sample population"
   ]
  },
  {
   "cell_type": "code",
   "execution_count": null,
   "id": "1adeceed",
   "metadata": {},
   "outputs": [],
   "source": [
    "gsmf = holo.sam.GSMF_Schechter()\n",
    "gpf = holo.sam.GPF_Power_Law()\n",
    "gmt = holo.sam.GMT_Power_Law()\n",
    "mmbulge = holo.sam.MMBulge_Simple()\n",
    "\n",
    "sam = holo.sam.Semi_Analytic_Model(gsmf=gsmf, gpf=gpf, gmt=gmt, mmbulge=mmbulge)"
   ]
  },
  {
   "cell_type": "code",
   "execution_count": null,
   "id": "ea68a0fe",
   "metadata": {},
   "outputs": [],
   "source": [
    "hard = holo.evolution.Fixed_Time.from_sam(sam, 2.0*GYR)"
   ]
  },
  {
   "cell_type": "code",
   "execution_count": null,
   "id": "0f7dc23d",
   "metadata": {},
   "outputs": [],
   "source": [
    "fobs = np.logspace(-2, 2, 20)\n",
    "edges_fobs, num_fobs, strain_fobs = sam.number_from_hardening(hard, fobs=fobs)"
   ]
  },
  {
   "cell_type": "code",
   "execution_count": null,
   "id": "87ccedba",
   "metadata": {},
   "outputs": [],
   "source": [
    "utils.stats(num_fobs), num_fobs.shape, sam.shape"
   ]
  },
  {
   "cell_type": "code",
   "execution_count": null,
   "id": "6119a017",
   "metadata": {},
   "outputs": [],
   "source": [
    "number_fobs utils.trapz_loglog()"
   ]
  },
  {
   "cell_type": "markdown",
   "id": "754a4c9c",
   "metadata": {},
   "source": [
    "### Number vs frequency, plot GWB"
   ]
  },
  {
   "cell_type": "code",
   "execution_count": null,
   "id": "39661cfe",
   "metadata": {},
   "outputs": [],
   "source": [
    "fobs = np.logspace(-2, 2, 20)\n",
    "edges_fobs, number_fobs, strain_fobs = sam.number_from_hardening(hard, fobs=fobs)\n",
    "# edges_fobs, number_fobs, strain_fobs = sam.number_from_hardening(holo.evolution.Hard_GW, fobs=fobs)"
   ]
  },
  {
   "cell_type": "code",
   "execution_count": null,
   "id": "bb0df616",
   "metadata": {},
   "outputs": [],
   "source": [
    "NREALS = 30\n",
    "fig, ax = plot.figax(ylabel='Characteristic Strain', xlabel='Frequency [1/yr]', ylim=[3e-18, 2e-15])\n",
    "\n",
    "# Draw directly calculate GWB (smooth) spectrum\n",
    "yy = number_fobs\n",
    "zz = strain_fobs**2 * yy\n",
    "zz = zz.sum(axis=(0, 1, 2))\n",
    "zz = np.sqrt(zz)\n",
    "ax.plot(fobs, zz)\n",
    "\n",
    "# Draw poisson variations\n",
    "shp = yy.shape + (NREALS,)\n",
    "zz = strain_fobs[..., np.newaxis]**2 * np.random.poisson(yy[..., np.newaxis], size=shp)\n",
    "zz = zz.sum(axis=(0, 1, 2))\n",
    "zz = np.sqrt(zz)\n",
    "med, *conf = utils.quantiles(zz, [0.5, 0.25, 0.75], axis=1).T\n",
    "ax.plot(fobs, med, 'k--')\n",
    "ax.fill_between(fobs, *conf, color='k', alpha=0.2)\n",
    "\n",
    "# Draw analytic Estimate\n",
    "xx = 1.0\n",
    "tt = sam.gwb(xx, realize=False)\n",
    "aa, mm, bb = np.percentile(tt, [25, 50, 75])\n",
    "print(f\"{mm=:.2e}\")\n",
    "ax.plot([xx, xx], [aa, bb], 'r-', lw=2.0, alpha=0.5)\n",
    "ax.scatter(xx, mm, color='r', alpha=0.5)\n",
    "\n",
    "plt.show()"
   ]
  },
  {
   "cell_type": "markdown",
   "id": "85445a37",
   "metadata": {},
   "source": [
    "### Number vs. Separation - sample"
   ]
  },
  {
   "cell_type": "code",
   "execution_count": null,
   "id": "82c70e5c",
   "metadata": {},
   "outputs": [],
   "source": [
    "sepa = np.logspace(-6, 4, 50)\n",
    "edges, number, strain = sam.number_from_hardening(hard, sepa=sepa)"
   ]
  },
  {
   "cell_type": "code",
   "execution_count": null,
   "id": "9d578742",
   "metadata": {},
   "outputs": [],
   "source": [
    "fig, ax = plot.figax()\n",
    "yy = number\n",
    "dlna = np.diff(np.log(edges[-1]))[0]\n",
    "yy = yy * dlna\n",
    "yy = yy.sum(axis=(0, 1, 2))\n",
    "ax.plot(sepa, yy)\n",
    "plt.show()"
   ]
  },
  {
   "cell_type": "code",
   "execution_count": null,
   "id": "68eab0c4",
   "metadata": {},
   "outputs": [],
   "source": []
  }
 ],
 "metadata": {
  "interpreter": {
   "hash": "274378ccf2a5a54e659e4b77d37b4967012f8c0c97e72f88e01d2f1f4623a33d"
  },
  "kernelspec": {
   "display_name": "Python 3.8.12 64-bit ('py38': conda)",
   "name": "python3"
  },
  "language_info": {
   "codemirror_mode": {
    "name": "ipython",
    "version": 3
   },
   "file_extension": ".py",
   "mimetype": "text/x-python",
   "name": "python",
   "nbconvert_exporter": "python",
   "pygments_lexer": "ipython3",
   "version": "3.8.12"
  },
  "toc": {
   "base_numbering": 1,
   "nav_menu": {},
   "number_sections": true,
   "sideBar": true,
   "skip_h1_title": false,
   "title_cell": "Table of Contents",
   "title_sidebar": "Contents",
   "toc_cell": false,
   "toc_position": {
    "height": "calc(100% - 180px)",
    "left": "10px",
    "top": "150px",
    "width": "165px"
   },
   "toc_section_display": true,
   "toc_window_display": true
  },
  "varInspector": {
   "cols": {
    "lenName": 16,
    "lenType": 16,
    "lenVar": 40
   },
   "kernels_config": {
    "python": {
     "delete_cmd_postfix": "",
     "delete_cmd_prefix": "del ",
     "library": "var_list.py",
     "varRefreshCmd": "print(var_dic_list())"
    },
    "r": {
     "delete_cmd_postfix": ") ",
     "delete_cmd_prefix": "rm(",
     "library": "var_list.r",
     "varRefreshCmd": "cat(var_dic_list()) "
    }
   },
   "types_to_exclude": [
    "module",
    "function",
    "builtin_function_or_method",
    "instance",
    "_Feature"
   ],
   "window_display": false
  }
 },
 "nbformat": 4,
 "nbformat_minor": 5
}
