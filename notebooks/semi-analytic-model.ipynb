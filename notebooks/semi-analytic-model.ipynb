{
 "cells": [
  {
   "cell_type": "code",
   "execution_count": null,
   "id": "passing-albuquerque",
   "metadata": {},
   "outputs": [],
   "source": [
    "# %load ./init.ipy\n",
    "%reload_ext autoreload\n",
    "%autoreload 2\n",
    "from importlib import reload\n",
    "\n",
    "import os\n",
    "import sys\n",
    "import logging\n",
    "import warnings\n",
    "import numpy as np\n",
    "import astropy as ap\n",
    "import scipy as sp\n",
    "import scipy.stats\n",
    "import matplotlib as mpl\n",
    "import matplotlib.pyplot as plt\n",
    "\n",
    "import h5py\n",
    "import tqdm.notebook as tqdm\n",
    "\n",
    "import kalepy as kale\n",
    "import kalepy.utils\n",
    "import kalepy.plot\n",
    "\n",
    "import holodeck as holo\n",
    "import holodeck.sam\n",
    "from holodeck import cosmo, utils, plot\n",
    "from holodeck.constants import MSOL, PC, YR, MPC, GYR\n",
    "\n",
    "# Silence annoying numpy errors\n",
    "np.seterr(divide='ignore', invalid='ignore', over='ignore')\n",
    "warnings.filterwarnings(\"ignore\", category=UserWarning)\n",
    "\n",
    "# Plotting settings\n",
    "mpl.rc('font', **{'family': 'serif', 'sans-serif': ['Times'], 'size': 15})\n",
    "mpl.rc('lines', solid_capstyle='round')\n",
    "mpl.rc('mathtext', fontset='cm')\n",
    "plt.rcParams.update({'grid.alpha': 0.5})\n",
    "\n",
    "log = holo.log\n",
    "log.setLevel(logging.INFO)"
   ]
  },
  {
   "cell_type": "markdown",
   "id": "3d373494",
   "metadata": {},
   "source": [
    "# Quick Start"
   ]
  },
  {
   "cell_type": "code",
   "execution_count": null,
   "id": "e1a40ad4",
   "metadata": {},
   "outputs": [],
   "source": [
    "# ---- Construct S.A.M. with default settings ----\n",
    "sam = holo.sam.Semi_Analytic_Model()"
   ]
  },
  {
   "cell_type": "code",
   "execution_count": null,
   "id": "d0e24414",
   "metadata": {},
   "outputs": [],
   "source": [
    "# ---- Choose frequencies, and calculate GWB ----\n",
    "fobs = utils.nyquist_freqs()\n",
    "gwb = sam.gwb(fobs, realize=10)    # calculate 10 different realizations"
   ]
  },
  {
   "cell_type": "code",
   "execution_count": null,
   "id": "ab5c2f91",
   "metadata": {},
   "outputs": [],
   "source": [
    "# ---- Plot GWB ----\n",
    "\n",
    "fig, ax = plt.subplots(figsize=[15, 8])\n",
    "ax.set(xscale='log', xlabel='Frequency [1/yr]', yscale='log', ylabel='Characteristic Strain')\n",
    "ax.grid(alpha=0.2)\n",
    "\n",
    "yy = 2e-16 * np.power(fobs, -2.0/3.0)\n",
    "ax.plot(fobs, yy, 'k--', alpha=0.25, lw=2.0)\n",
    "ax.plot(fobs, np.median(gwb, axis=-1), 'k-')\n",
    "for pp in [50, 98]:\n",
    "    percs = pp / 2\n",
    "    percs = [50 - percs, 50 + percs]\n",
    "    ax.fill_between(fobs, *np.percentile(gwb, percs, axis=-1), alpha=0.25, color='b')\n",
    "\n",
    "plt.show()"
   ]
  },
  {
   "cell_type": "markdown",
   "id": "521f37ea",
   "metadata": {},
   "source": [
    "# build SAM component-by-component"
   ]
  },
  {
   "cell_type": "code",
   "execution_count": null,
   "id": "805c2a9c",
   "metadata": {},
   "outputs": [],
   "source": [
    "gsmf = holo.sam.GSMF_Schechter()\n",
    "gpf = holo.sam.GPF_Power_Law()\n",
    "gmt = holo.sam.GMT_Power_Law()\n",
    "mmbulge = holo.sam.MMBulge_Simple()\n",
    "\n",
    "sam = holo.sam.Semi_Analytic_Model(gsmf=gsmf, gpf=gpf, gmt=gmt, mmbulge=mmbulge)"
   ]
  },
  {
   "cell_type": "code",
   "execution_count": null,
   "id": "7bd1df39",
   "metadata": {},
   "outputs": [],
   "source": [
    "# ---- Calculate GWB Amplitude distribution at 1/yr ----\n",
    "ayr = sam.gwb(1.0, realize=100)"
   ]
  },
  {
   "cell_type": "code",
   "execution_count": null,
   "id": "99f8f077",
   "metadata": {},
   "outputs": [],
   "source": [
    "fig, ax = plt.subplots(figsize=[10, 6])\n",
    "ax.set(xlabel=r'$\\log_{10}(A_\\mathrm{yr})$', ylabel='Probability Density')\n",
    "ax.grid(alpha=0.2)\n",
    "kale.dist1d(np.log10(ayr), density=True, confidence=True)\n",
    "\n",
    "plt.show()"
   ]
  },
  {
   "cell_type": "markdown",
   "id": "65af8ecc",
   "metadata": {},
   "source": [
    "## Plot GWB Amplitude Distribution vs. M-MBulge parameters"
   ]
  },
  {
   "cell_type": "code",
   "execution_count": null,
   "id": "35a718f6",
   "metadata": {},
   "outputs": [],
   "source": [
    "alpha_list = [0.75, 1.0, 1.25]\n",
    "norm_list = np.logspace(7, 9, 11)\n",
    "NREALS = 300\n",
    "FREQ = 1.0   # [1/yr]\n",
    "\n",
    "dist_mmb = np.zeros((len(alpha_list), norm_list.size, NREALS))\n",
    "\n",
    "for aa, alpha in enumerate(tqdm.tqdm(alpha_list)):\n",
    "    for nn, norm in enumerate(tqdm.tqdm(norm_list, leave=False)):\n",
    "        mmbulge = holo.sam.MMBulge_Simple(mass_norm=norm, malpha=alpha)\n",
    "        sam = holo.sam.Semi_Analytic_Model(gsmf=gsmf, gpf=gpf, gmt=gmt, mmbulge=mmbulge)\n",
    "        dist_mmb[aa, nn, :] = sam.gwb(FREQ, realize=NREALS)"
   ]
  },
  {
   "cell_type": "code",
   "execution_count": null,
   "id": "13440d58",
   "metadata": {},
   "outputs": [],
   "source": [
    "fig, ax = plt.subplots(figsize=[6, 4])\n",
    "ax.set(xscale='log', xlabel='M-MBulge Mass', yscale='log', ylabel=r'GWB $A_\\mathrm{yr}$')\n",
    "ax.grid(alpha=0.2)\n",
    "\n",
    "dist = dist_mmb\n",
    "\n",
    "for aa, dd in zip(alpha_list, dist):\n",
    "    med = np.median(dd, axis=-1)\n",
    "    cc, = ax.plot(norm_list, med, label=aa)\n",
    "    cc = cc.get_color()\n",
    "    ax.fill_between(norm_list, *np.percentile(dd, [25, 75], axis=-1), color=cc, alpha=0.25)\n",
    "    \n",
    "plt.legend(title='slope')\n",
    "plt.show()"
   ]
  },
  {
   "cell_type": "markdown",
   "id": "2277c939",
   "metadata": {},
   "source": [
    "## Plot GWB Amplitude vs. Schecter Mass Parameter"
   ]
  },
  {
   "cell_type": "code",
   "execution_count": null,
   "id": "c78c0dee",
   "metadata": {},
   "outputs": [],
   "source": [
    "mz = [0.0, 1e10, 1e11]\n",
    "m0 = np.logspace(10, 12, 7)\n",
    "NREALS = 100\n",
    "FREQ = 1.0   # [1/yr]\n",
    "\n",
    "dist = np.zeros((len(mz), len(m0), NREALS))\n",
    "\n",
    "for aa, _mz in enumerate(tqdm.tqdm(mz)):\n",
    "    for nn, _m0 in enumerate(tqdm.tqdm(m0, leave=False)):\n",
    "        gsmf = holo.sam.GSMF_Schechter(mref0=_m0, mrefz=_mz)\n",
    "        sam = holo.sam.Semi_Analytic_Model(gsmf=gsmf, gpf=gpf, gmt=gmt, mmbulge=mmbulge)\n",
    "        dist[aa, nn, :] = sam.gwb(FREQ, realize=NREALS)"
   ]
  },
  {
   "cell_type": "code",
   "execution_count": null,
   "id": "290cf162",
   "metadata": {},
   "outputs": [],
   "source": [
    "fig, ax = plt.subplots(figsize=[16, 6])\n",
    "ax.set(xscale='log', xlabel='Schechter Mass', yscale='log', ylabel=r'GWB $A_\\mathrm{yr}$')\n",
    "ax.grid(alpha=0.2)\n",
    "\n",
    "for aa, dd in zip(mz, dist):\n",
    "    med = np.median(dd, axis=-1)\n",
    "    lab = f\"$10^{{{np.log10(aa):+.1f}}}$\" if aa > 0.0 else f\"${aa:+.1f}$\"\n",
    "    cc, = ax.plot(m0, med, label=lab)\n",
    "    cc = cc.get_color()\n",
    "    ax.fill_between(m0, *np.percentile(dd, [25, 75], axis=-1), color=cc, alpha=0.25)\n",
    "    \n",
    "plt.legend(title='$M_0(z)$')\n",
    "plt.show()"
   ]
  },
  {
   "cell_type": "markdown",
   "id": "c6d73c1c",
   "metadata": {},
   "source": [
    "# Discretize Population"
   ]
  },
  {
   "cell_type": "code",
   "execution_count": null,
   "id": "6d1021fc",
   "metadata": {},
   "outputs": [],
   "source": [
    "sam = holo.sam.Semi_Analytic_Model()"
   ]
  },
  {
   "cell_type": "code",
   "execution_count": null,
   "id": "13781216",
   "metadata": {},
   "outputs": [],
   "source": [
    "fobs = utils.nyquist_freqs(20.0, 0.1)\n",
    "\n",
    "edges, number, strain = sam.number_at_gw_fobs(fobs, limit_merger_time=2.0)\n",
    "log_edges_fobs = [np.log10(edges[0]), edges[1], edges[2], np.log10(edges[3])]\n",
    "\n",
    "num = number.sum()\n",
    "print(f\"{num:.4e}\")"
   ]
  },
  {
   "cell_type": "markdown",
   "id": "cee6e0c0",
   "metadata": {},
   "source": [
    "## Sample using kalepy"
   ]
  },
  {
   "cell_type": "code",
   "execution_count": null,
   "id": "50946f4c",
   "metadata": {},
   "outputs": [],
   "source": [
    "vals, weights = holo.sam.sample_sam(\n",
    "    sam, fobs, sample_threshold=10.0, cut_below_mass=None, limit_merger_time=2.0\n",
    ")"
   ]
  },
  {
   "cell_type": "code",
   "execution_count": null,
   "id": "e4f76792",
   "metadata": {},
   "outputs": [],
   "source": [
    "bins = (sam.mtot, sam.mrat)\n",
    "nums = number[..., 0].sum(axis=-1)\n",
    "nums[nums < 1.0] = 0.0\n",
    "\n",
    "norm = mpl.colors.LogNorm(nums[nums > 0].min()/2, 2*nums.max())\n",
    "\n",
    "fig, axes = plt.subplots(figsize=[15, 6], ncols=2)\n",
    "\n",
    "for ax in axes:\n",
    "    ax.set(xscale='log', xlabel='log10 Mass Primary', ylabel='Mass Ratio')\n",
    "\n",
    "ax = axes[0]\n",
    "ax.set(title='Continuous')\n",
    "pcm = ax.pcolormesh(*bins, nums.T, norm=norm)\n",
    "plt.colorbar(pcm, ax=ax, orientation='horizontal')\n",
    "\n",
    "\n",
    "ax = axes[1]\n",
    "ax.set(title='Discrete (sampled)')\n",
    "idx = (vals[3] < fobs[1])\n",
    "hist, *_ = np.histogram2d(vals[0, idx], vals[1, idx], bins=bins, weights=weights[idx])\n",
    "\n",
    "pcm = ax.pcolormesh(*bins, hist.T, norm=norm)\n",
    "plt.colorbar(pcm, ax=ax, orientation='horizontal')\n",
    "\n",
    "plt.show()\n"
   ]
  },
  {
   "cell_type": "markdown",
   "id": "0284cbcf",
   "metadata": {},
   "source": [
    "## Calculate GWs"
   ]
  },
  {
   "cell_type": "code",
   "execution_count": null,
   "id": "3e464e2f",
   "metadata": {},
   "outputs": [],
   "source": [
    "gwf_freqs, gwf, gwb = holo.sam._gws_from_samples(vals, weights, fobs)"
   ]
  },
  {
   "cell_type": "code",
   "execution_count": null,
   "id": "49fa287b",
   "metadata": {},
   "outputs": [],
   "source": [
    "fig, ax = plt.subplots()\n",
    "ax.set(xscale='log', yscale='log')\n",
    "ax.grid(alpha=0.25)\n",
    "\n",
    "idx = (gwf > gwb)\n",
    "ax.scatter(gwf_freqs[idx], gwf[idx], color='r', s=20, alpha=0.5)\n",
    "ax.scatter(gwf_freqs[~idx], gwf[~idx], edgecolor='r', facecolor='none', s=20, alpha=0.5)\n",
    "\n",
    "xx = kale.utils.midpoints(fobs)\n",
    "ax.plot(xx, gwb, 'k-')\n",
    "\n",
    "amp = 10e-16\n",
    "yy = amp * np.power(xx, -2/3)\n",
    "ax.plot(xx, yy, 'k--', alpha=0.25)\n",
    "\n",
    "plt.show()"
   ]
  }
 ],
 "metadata": {
  "kernelspec": {
   "display_name": "py38",
   "language": "python",
   "name": "py38"
  },
  "language_info": {
   "codemirror_mode": {
    "name": "ipython",
    "version": 3
   },
   "file_extension": ".py",
   "mimetype": "text/x-python",
   "name": "python",
   "nbconvert_exporter": "python",
   "pygments_lexer": "ipython3",
   "version": "3.8.11"
  },
  "toc": {
   "base_numbering": 1,
   "nav_menu": {},
   "number_sections": true,
   "sideBar": true,
   "skip_h1_title": false,
   "title_cell": "Table of Contents",
   "title_sidebar": "Contents",
   "toc_cell": false,
   "toc_position": {
    "height": "calc(100% - 180px)",
    "left": "10px",
    "top": "150px",
    "width": "165px"
   },
   "toc_section_display": true,
   "toc_window_display": true
  },
  "varInspector": {
   "cols": {
    "lenName": 16,
    "lenType": 16,
    "lenVar": 40
   },
   "kernels_config": {
    "python": {
     "delete_cmd_postfix": "",
     "delete_cmd_prefix": "del ",
     "library": "var_list.py",
     "varRefreshCmd": "print(var_dic_list())"
    },
    "r": {
     "delete_cmd_postfix": ") ",
     "delete_cmd_prefix": "rm(",
     "library": "var_list.r",
     "varRefreshCmd": "cat(var_dic_list()) "
    }
   },
   "types_to_exclude": [
    "module",
    "function",
    "builtin_function_or_method",
    "instance",
    "_Feature"
   ],
   "window_display": false
  }
 },
 "nbformat": 4,
 "nbformat_minor": 5
}
