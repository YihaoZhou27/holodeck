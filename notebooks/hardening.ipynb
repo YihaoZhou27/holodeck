{
 "cells": [
  {
   "cell_type": "code",
   "execution_count": null,
   "id": "05f9f080",
   "metadata": {},
   "outputs": [],
   "source": [
    "# %load ./init.ipy\n",
    "%reload_ext autoreload\n",
    "%autoreload 2\n",
    "from importlib import reload\n",
    "\n",
    "import os\n",
    "import sys\n",
    "import logging\n",
    "import warnings\n",
    "import numpy as np\n",
    "import astropy as ap\n",
    "import scipy as sp\n",
    "import scipy.stats\n",
    "import matplotlib as mpl\n",
    "import matplotlib.pyplot as plt\n",
    "\n",
    "import h5py\n",
    "import tqdm.notebook as tqdm\n",
    "\n",
    "import kalepy as kale\n",
    "import kalepy.utils\n",
    "import kalepy.plot\n",
    "\n",
    "import holodeck as holo\n",
    "import holodeck.sam\n",
    "from holodeck import cosmo, utils\n",
    "from holodeck.constants import MSOL, PC, YR, MPC, GYR\n",
    "\n",
    "# Silence annoying numpy errors\n",
    "np.seterr(divide='ignore', invalid='ignore', over='ignore')\n",
    "warnings.filterwarnings(\"ignore\", category=UserWarning)\n",
    "\n",
    "# Plotting settings\n",
    "mpl.rc('font', **{'family': 'serif', 'sans-serif': ['Times'], 'size': 15})\n",
    "mpl.rc('lines', solid_capstyle='round')\n",
    "mpl.rc('mathtext', fontset='cm')\n",
    "plt.rcParams.update({'grid.alpha': 0.5})\n",
    "\n",
    "log = holo.log\n",
    "log.setLevel(logging.INFO)"
   ]
  },
  {
   "cell_type": "code",
   "execution_count": null,
   "id": "951dcf3a",
   "metadata": {},
   "outputs": [],
   "source": [
    "sam = holo.sam.Semi_Analytic_Model()"
   ]
  },
  {
   "cell_type": "code",
   "execution_count": null,
   "id": "f1c6642d",
   "metadata": {},
   "outputs": [],
   "source": [
    "# ---- Create initial population\n",
    "\n",
    "pop = holo.population.Pop_Illustris()\n",
    "\n",
    "# ---- Apply population modifiers\n",
    "redz = cosmo.a_to_z(pop.scafa)\n",
    "print(f\"redz bef : {utils.stats(redz)}\")\n",
    "\n",
    "# resample to increase the number of binaries\n",
    "mod_resamp = holo.PM_Resample(resample=5.0)\n",
    "# modify population (in-place)\n",
    "pop.modify(mod_resamp)\n",
    "\n",
    "redz = cosmo.a_to_z(pop.scafa)\n",
    "print(f\"redz aft : {utils.stats(redz)}\")\n"
   ]
  },
  {
   "cell_type": "code",
   "execution_count": null,
   "id": "3cba166d",
   "metadata": {},
   "outputs": [],
   "source": [
    "hards = [\n",
    "    holo.evolution.Hard_GW,\n",
    "    holo.evolution.Sesana_Scattering(),\n",
    "    holo.evolution.Dynamical_Friction_NFW(),\n",
    "]\n",
    "\n",
    "evo = holo.evolution.Evolution(pop, hards, debug=True)"
   ]
  },
  {
   "cell_type": "code",
   "execution_count": null,
   "id": "2e18a1c4",
   "metadata": {},
   "outputs": [],
   "source": [
    "log.setLevel(logging.WARNING)"
   ]
  },
  {
   "cell_type": "code",
   "execution_count": null,
   "id": "c6aef9ee",
   "metadata": {},
   "outputs": [],
   "source": [
    "evo.evolve()"
   ]
  },
  {
   "cell_type": "code",
   "execution_count": null,
   "id": "215e40a3",
   "metadata": {},
   "outputs": [],
   "source": [
    "# utils.stats(evo._dadt_2)\n",
    "# evo.dadt[0]\n",
    "# evo._dadt_1[0]"
   ]
  },
  {
   "cell_type": "code",
   "execution_count": null,
   "id": "0d4e1fb3",
   "metadata": {},
   "outputs": [],
   "source": [
    "rads = np.logspace(-5, 4, 100) * PC\n",
    "data = evo.at('sepa', rads, pars=['dadt', '_dadt_0', '_dadt_1', '_dadt_2'], lin_interp=True)\n",
    "dadt = data['dadt']"
   ]
  },
  {
   "cell_type": "code",
   "execution_count": null,
   "id": "93d5ec2b",
   "metadata": {},
   "outputs": [],
   "source": [
    "fig, ax = utils.figax()\n",
    "\n",
    "vals = np.fabs(dadt)\n",
    "vals = rads / vals\n",
    "vals = vals / YR\n",
    "\n",
    "confs = utils.quantiles(vals, sigmas=[-1, 0, 1], axis=0)\n",
    "\n",
    "confs = confs.T\n",
    "med, *confs = confs[[1, 0, 2]]\n",
    "\n",
    "xx = rads / PC\n",
    "ax.plot(xx, med)\n",
    "ax.fill_between(xx, *confs, alpha=0.2)\n",
    "\n",
    "for ii in range(3):\n",
    "    vals = np.fabs(data[f\"_dadt_{ii}\"])\n",
    "        \n",
    "    vals = rads / vals\n",
    "    vals = vals / YR\n",
    "\n",
    "    confs = utils.quantiles(vals, sigmas=[-1, 1], axis=0).T\n",
    "    ax.fill_between(xx, *confs, alpha=0.1, label=ii)\n",
    "\n",
    "frac = utils.frac_str(evo.scafa[:, -1] < 1.0)\n",
    "print(frac)\n",
    "\n",
    "ax.set(title=f\"coalescing = {frac}\", ylim=[1e-2, 1e12])\n",
    "\n",
    "plt.legend()\n",
    "plt.show()"
   ]
  }
 ],
 "metadata": {
  "kernelspec": {
   "display_name": "py38",
   "language": "python",
   "name": "py38"
  },
  "language_info": {
   "codemirror_mode": {
    "name": "ipython",
    "version": 3
   },
   "file_extension": ".py",
   "mimetype": "text/x-python",
   "name": "python",
   "nbconvert_exporter": "python",
   "pygments_lexer": "ipython3",
   "version": "3.8.11"
  },
  "toc": {
   "base_numbering": 1,
   "nav_menu": {},
   "number_sections": true,
   "sideBar": true,
   "skip_h1_title": false,
   "title_cell": "Table of Contents",
   "title_sidebar": "Contents",
   "toc_cell": false,
   "toc_position": {
    "height": "calc(100% - 180px)",
    "left": "10px",
    "top": "150px",
    "width": "165px"
   },
   "toc_section_display": true,
   "toc_window_display": true
  },
  "varInspector": {
   "cols": {
    "lenName": 16,
    "lenType": 16,
    "lenVar": 40
   },
   "kernels_config": {
    "python": {
     "delete_cmd_postfix": "",
     "delete_cmd_prefix": "del ",
     "library": "var_list.py",
     "varRefreshCmd": "print(var_dic_list())"
    },
    "r": {
     "delete_cmd_postfix": ") ",
     "delete_cmd_prefix": "rm(",
     "library": "var_list.r",
     "varRefreshCmd": "cat(var_dic_list()) "
    }
   },
   "types_to_exclude": [
    "module",
    "function",
    "builtin_function_or_method",
    "instance",
    "_Feature"
   ],
   "window_display": false
  }
 },
 "nbformat": 4,
 "nbformat_minor": 5
}
