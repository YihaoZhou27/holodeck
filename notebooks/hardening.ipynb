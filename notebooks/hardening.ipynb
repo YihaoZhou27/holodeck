{
 "cells": [
  {
   "cell_type": "code",
   "execution_count": null,
   "id": "05f9f080",
   "metadata": {},
   "outputs": [],
   "source": [
    "# %load ./init.ipy\n",
    "%reload_ext autoreload\n",
    "%autoreload 2\n",
    "from importlib import reload\n",
    "\n",
    "import os\n",
    "import sys\n",
    "import logging\n",
    "import warnings\n",
    "import numpy as np\n",
    "import astropy as ap\n",
    "import scipy as sp\n",
    "import scipy.stats\n",
    "import matplotlib as mpl\n",
    "import matplotlib.pyplot as plt\n",
    "\n",
    "import h5py\n",
    "import tqdm.notebook as tqdm\n",
    "\n",
    "import kalepy as kale\n",
    "import kalepy.utils\n",
    "import kalepy.plot\n",
    "\n",
    "import holodeck as holo\n",
    "import holodeck.sam\n",
    "from holodeck import cosmo, utils\n",
    "from holodeck.constants import MSOL, PC, YR, MPC, GYR, NWTG\n",
    "\n",
    "# Silence annoying numpy errors\n",
    "np.seterr(divide='ignore', invalid='ignore', over='ignore')\n",
    "warnings.filterwarnings(\"ignore\", category=UserWarning)\n",
    "\n",
    "# Plotting settings\n",
    "mpl.rc('font', **{'family': 'serif', 'sans-serif': ['Times'], 'size': 15})\n",
    "mpl.rc('lines', solid_capstyle='round')\n",
    "mpl.rc('mathtext', fontset='cm')\n",
    "plt.rcParams.update({'grid.alpha': 0.5})\n",
    "\n",
    "log = holo.log\n",
    "log.setLevel(logging.INFO)"
   ]
  },
  {
   "cell_type": "code",
   "execution_count": null,
   "id": "6dec15f9",
   "metadata": {},
   "outputs": [],
   "source": []
  },
  {
   "cell_type": "code",
   "execution_count": null,
   "id": "6895d1ea",
   "metadata": {},
   "outputs": [],
   "source": [
    "m1 = 1e8 * MSOL\n",
    "m2 = 1e9 * MSOL\n",
    "\n",
    "gbh = holo.observations.Kormendy_Ho_2013()\n",
    "COUL = 10.0\n",
    "\n",
    "mt = m1 + m2\n",
    "mbulge = gbh.mbulge_from_mbh(mt)\n",
    "print(f\"{mbulge/MSOL=:.2e}\")\n",
    "vdisp = gbh.vdisp_from_mbh(mt)\n",
    "print(f\"{vdisp/1e5=:.2e}\")\n",
    "\n",
    "mdf = mbulge\n",
    "\n",
    "rchar = holo.evolution._radius_stellar_characteristic_dabringhausen_2008(mbulge)\n",
    "print(f\"{rchar/PC=:.2e}\")\n",
    "dens = holo.evolution._density_at_influence_radius_dehnen(mt, mbulge)\n",
    "print(f\"{dens*PC**3/MSOL=:.4e}\")\n",
    "\n",
    "rho = mbulge / (4.0*np.pi*rchar**3/3.0)\n",
    "print(f\"{rho*PC**3/MSOL=:.4e}\")\n",
    "\n",
    "tdyn = 1.0 / np.sqrt(NWTG*dens)\n",
    "print(f\"{tdyn/GYR*1e3=:.4e}\")\n",
    "\n",
    "dvdt = 2*np.pi*NWTG**2 * mdf * dens * COUL / vdisp**2\n",
    "print(f\"{dvdt*YR/1e5=:.4e}\")\n",
    "\n",
    "dadt = 2 * dvdt * tdyn\n",
    "print(f\"{dadt*YR/PC=:.4e}\")\n",
    "\n",
    "thard = rchar / dadt\n",
    "print(f\"{thard/GYR=:.4e}\")"
   ]
  },
  {
   "cell_type": "code",
   "execution_count": null,
   "id": "a29b2e06",
   "metadata": {},
   "outputs": [],
   "source": []
  },
  {
   "cell_type": "code",
   "execution_count": null,
   "id": "951dcf3a",
   "metadata": {},
   "outputs": [],
   "source": [
    "sam = holo.sam.Semi_Analytic_Model()"
   ]
  },
  {
   "cell_type": "code",
   "execution_count": null,
   "id": "d8ec28b4",
   "metadata": {},
   "outputs": [],
   "source": [
    "pop = holo.population.Pop_SAM(sam)"
   ]
  },
  {
   "cell_type": "code",
   "execution_count": null,
   "id": "f1c6642d",
   "metadata": {},
   "outputs": [],
   "source": [
    "# ---- Create initial population\n",
    "\n",
    "pop = holo.population.Pop_Illustris()\n",
    "\n",
    "# ---- Apply population modifiers\n",
    "\n",
    "# resample to increase the number of binaries\n",
    "mod_resamp = holo.PM_Resample(resample=5.0)\n",
    "# modify population (in-place)\n",
    "pop.modify(mod_resamp)\n"
   ]
  },
  {
   "cell_type": "code",
   "execution_count": null,
   "id": "75b5fed1",
   "metadata": {},
   "outputs": [],
   "source": [
    "pop.mass"
   ]
  }
 ],
 "metadata": {
  "kernelspec": {
   "display_name": "py38",
   "language": "python",
   "name": "py38"
  },
  "language_info": {
   "codemirror_mode": {
    "name": "ipython",
    "version": 3
   },
   "file_extension": ".py",
   "mimetype": "text/x-python",
   "name": "python",
   "nbconvert_exporter": "python",
   "pygments_lexer": "ipython3",
   "version": "3.8.11"
  },
  "toc": {
   "base_numbering": 1,
   "nav_menu": {},
   "number_sections": true,
   "sideBar": true,
   "skip_h1_title": false,
   "title_cell": "Table of Contents",
   "title_sidebar": "Contents",
   "toc_cell": false,
   "toc_position": {
    "height": "calc(100% - 180px)",
    "left": "10px",
    "top": "150px",
    "width": "165px"
   },
   "toc_section_display": true,
   "toc_window_display": true
  },
  "varInspector": {
   "cols": {
    "lenName": 16,
    "lenType": 16,
    "lenVar": 40
   },
   "kernels_config": {
    "python": {
     "delete_cmd_postfix": "",
     "delete_cmd_prefix": "del ",
     "library": "var_list.py",
     "varRefreshCmd": "print(var_dic_list())"
    },
    "r": {
     "delete_cmd_postfix": ") ",
     "delete_cmd_prefix": "rm(",
     "library": "var_list.r",
     "varRefreshCmd": "cat(var_dic_list()) "
    }
   },
   "types_to_exclude": [
    "module",
    "function",
    "builtin_function_or_method",
    "instance",
    "_Feature"
   ],
   "window_display": false
  }
 },
 "nbformat": 4,
 "nbformat_minor": 5
}
