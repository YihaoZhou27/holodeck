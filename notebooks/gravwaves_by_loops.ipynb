{
 "cells": [
  {
   "cell_type": "code",
   "execution_count": 2,
   "metadata": {},
   "outputs": [],
   "source": [
    "# MOD per system\n",
    "import sys\n",
    "sys.path.append('C:/Users/emiga/OneDrive/Cal/GWs/code/holodeck') \n",
    "\n",
    "\n",
    "# %load ../init.ipy\n",
    "%reload_ext autoreload\n",
    "%autoreload 2\n",
    "from importlib import reload\n",
    "\n",
    "import os\n",
    "import sys\n",
    "import logging\n",
    "import warnings\n",
    "import numpy as np\n",
    "import astropy as ap\n",
    "import scipy as sp\n",
    "import scipy.stats\n",
    "import matplotlib as mpl\n",
    "import matplotlib.pyplot as plt\n",
    "\n",
    "import h5py\n",
    "import tqdm.notebook as tqdm\n",
    "\n",
    "import kalepy as kale\n",
    "import kalepy.utils\n",
    "import kalepy.plot\n",
    "\n",
    "import holodeck as holo\n",
    "import holodeck.sam\n",
    "from holodeck import cosmo, utils, plot\n",
    "from holodeck.constants import MSOL, PC, YR, MPC, GYR\n",
    "\n",
    "# Silence annoying numpy errors\n",
    "np.seterr(divide='ignore', invalid='ignore', over='ignore')\n",
    "warnings.filterwarnings(\"ignore\", category=UserWarning)\n",
    "\n",
    "# Plotting settings\n",
    "mpl.rc('font', **{'family': 'serif', 'sans-serif': ['Times'], 'size': 15})\n",
    "mpl.rc('lines', solid_capstyle='round')\n",
    "mpl.rc('mathtext', fontset='cm')\n",
    "mpl.style.use('default')   # avoid dark backgrounds from dark theme vscode\n",
    "plt.rcParams.update({'grid.alpha': 0.5})\n",
    "\n",
    "log = holo.log\n",
    "log.setLevel(logging.INFO)"
   ]
  },
  {
   "cell_type": "code",
   "execution_count": 12,
   "metadata": {},
   "outputs": [],
   "source": [
    "def gws_by_loops(edges, number, realize, print_test = False):\n",
    "       \n",
    "    \"\"\" Inefficient way to calculate strain from numbered \n",
    "    grid integrated\n",
    "\n",
    "    Parameters\n",
    "    ----------\n",
    "    edges : (4,) list of 1darrays\n",
    "        A list containing the edges along each dimension.  The four dimensions correspond to\n",
    "        total mass, mass ratio, redshift, and observer-frame orbital frequency.\n",
    "        The length of each of the four arrays is M, Q, Z, F.\n",
    "    number : (M-1, Q-1, Z-1, F-1) ndarray\n",
    "        The number of binaries in each bin of parameter space.  This is calculated by integrating\n",
    "        `dnum` over each bin.\n",
    "    realize : bool or int,\n",
    "        Specification of how to construct one or more discrete realizations.\n",
    "        If a `bool` value, then whether or not to construct a realization.\n",
    "        If an `int` value, then how many discrete realizations to construct.\n",
    "    print_test : bool\n",
    "        Whether or not to print variables as they are calculated, for dev purposes.\n",
    "\n",
    "\n",
    "    Returns\n",
    "    -------\n",
    "    hc : ndarray\n",
    "        Characteristic strain of the GWB.\n",
    "        The shape depends on whether realize is an integer or not\n",
    "        realize = True or False: shape is (M-1, Q-1, Z-1, F-1)\n",
    "        realize = R: shape is  (M-1, Q-1, Z-1, F-1, R)\n",
    "\n",
    "    \"\"\"\n",
    "    if(print_test):\n",
    "        print('INPUTS: edges:', len(edges), '\\n', edges, \n",
    "        '\\nINPUTS:number:', number.shape, '\\n', number,'\\n')\n",
    "\n",
    "    # Frequency bin midpoints\n",
    "    foo = edges[-1]                   #: should be observer-frame orbital-frequencies\n",
    "    df = np.diff(foo)                 #: frequency bin widths\n",
    "    fc = kale.utils.midpoints(foo)    #: use frequency-bin centers for strain (more accurate!)\n",
    "\n",
    "    # All other bin midpoints\n",
    "    mt = kale.utils.midpoints(edges[0]) #: total mass\n",
    "    mr = kale.utils.midpoints(edges[1]) #: mass ratio\n",
    "    rz = kale.utils.midpoints(edges[2]) #: redshift\n",
    "\n",
    "    if(print_test):\n",
    "        print('Observer frame frequency centers: ', fc)\n",
    "        print('Mass edges: ', mt.shape, mt)\n",
    "        print('Ratio edges:', mr.shape, mr)\n",
    "        print('Redshift edges:', rz.shape, rz,'\\n')\n",
    "\n",
    "    \n",
    "    # make strain grid\n",
    "    hc_grid = np.empty_like(number)\n",
    "\n",
    "    # for r realizations, make a grid with shape \n",
    "    # m, q, z, f, r\n",
    "    if(utils.isinteger(realize)):\n",
    "        newshape = hc_grid.shape + (realize,)\n",
    "        if(print_test):\n",
    "            print('newshape:', newshape)\n",
    "        realized_grid = np.empty(newshape)\n",
    "\n",
    "    # get strain for each bin\n",
    "    for m_idx in range(len(mt)):\n",
    "        for q_idx in range(len(mr)):\n",
    "            for z_idx in range(len(rz)):\n",
    "                cmass = holo.utils.chirp_mass_mtmr(mt[m_idx], mr[q_idx])\n",
    "                cdist = holo.cosmo.comoving_distance(rz[z_idx]).cgs.value\n",
    "                \n",
    "                # print M, q, z, M_c, d_c\n",
    "                if(print_test):\n",
    "                    print('BIN mt=%.2e, mr=%.2e, rz=%.2e' %\n",
    "                        (mt[m_idx], mr[q_idx], rz[z_idx]))\n",
    "                    print('\\t m_c = %.2e, d_c = %.2e' \n",
    "                        % (cmass, cdist))\n",
    "\n",
    "                for f_idx in range(len(fc)):\n",
    "                    rfreq = holo.utils.frst_from_fobs(fc[f_idx], rz[z_idx])\n",
    "                    hs_mqzf = utils.gw_strain_source(cmass, cdist, rfreq)\n",
    "                    hc_dlnf = hs_mqzf**2 * (fc[f_idx]/df[f_idx])\n",
    "                    \n",
    "                    if(realize == False):\n",
    "                        hc_grid[m_idx, q_idx, z_idx, f_idx] = np.sqrt(hc_dlnf \n",
    "                                        * number[m_idx, q_idx, z_idx, f_idx])\n",
    "                    elif(realize == True):\n",
    "                        hc_grid[m_idx, q_idx, z_idx, f_idx] = np.sqrt(hc_dlnf \n",
    "                                        *np.random.poisson(number[m_idx, q_idx, z_idx, f_idx]))\n",
    "                    elif(utils.isinteger(realize)):\n",
    "                        for r_idx in range(realize):\n",
    "                            realized_grid[m_idx, q_idx, z_idx, f_idx, r_idx] = \\\n",
    "                                np.sqrt(hc_dlnf \n",
    "                                        *np.random.poisson(number[m_idx, q_idx, z_idx, f_idx]))\n",
    "                        hc_grid = realized_grid                \n",
    "                    else:\n",
    "                        print(\"`realize` ({}) must be one of {{True, False, integer}}!\"\\\n",
    "                            .format(realize))\n",
    "\n",
    "                     # print fr, hs, hc^2/dlnf, number, hc\n",
    "                    if(print_test):\n",
    "                        print('\\t\\tfr = %.2fnHz, h_s = %.2e, h_c^2/dlnf = %.2e' \n",
    "                            % (rfreq*10**9, hs_mqzf, hc_dlnf))\n",
    "                        print('\\t\\tnumber: %.2e' % number[m_idx, q_idx, z_idx, f_idx])\n",
    "                        print('\\t\\thc = %.2e' % hc_grid[m_idx, q_idx, z_idx, f_idx])\n",
    "    return hc_grid\n"
   ]
  },
  {
   "cell_type": "code",
   "execution_count": 13,
   "metadata": {},
   "outputs": [],
   "source": [
    "# Not yet implemented, ignore for now\n",
    "\n",
    "def gws_half_loops(edges, number, realize, print_test = False):\n",
    "       \n",
    "    \"\"\" Inefficient way to calculate strain from numbered \n",
    "    grid integrated, using slightly fewer calculations inside loops\n",
    "\n",
    "    Parameters\n",
    "    ----------\n",
    "    edges : (4,) list of 1darrays\n",
    "        A list containing the edges along each dimension.  The four dimensions correspond to\n",
    "        total mass, mass ratio, redshift, and observer-frame orbital frequency.\n",
    "        The length of each of the four arrays is M, Q, Z, F.\n",
    "    number : (M-1, Q-1, Z-1, F-1) ndarray\n",
    "        The number of binaries in each bin of parameter space.  This is calculated by integrating\n",
    "        `dnum` over each bin.\n",
    "    realize : bool or int,\n",
    "        Specification of how to construct one or more discrete realizations.\n",
    "        If a `bool` value, then whether or not to construct a realization.\n",
    "        If an `int` value, then how many discrete realizations to construct.\n",
    "    print_test : bool\n",
    "        Whether or not to print variables as they are calculated, for dev purposes.\n",
    "\n",
    "\n",
    "    Returns\n",
    "    -------\n",
    "    hc : ndarray\n",
    "        Characteristic strain of the GWB.\n",
    "        The shape depends on whether realize is an integer or not\n",
    "        realize = True or False: shape is (M-1, Q-1, Z-1, F-1)\n",
    "        realize = R: shape is  (M-1, Q-1, Z-1, F-1, R)\n",
    "\n",
    "    \"\"\"\n",
    "    if(print_test):\n",
    "        print('INPUTS: edges:', len(edges), '\\n', edges, \n",
    "        '\\nINPUTS:number:', number.shape, '\\n', number,'\\n')\n",
    "\n",
    "    # Frequency bin midpoints\n",
    "    foo = edges[-1]                   #: should be observer-frame orbital-frequencies\n",
    "    df = np.diff(foo)                 #: frequency bin widths\n",
    "    fc = kale.utils.midpoints(foo)    #: use frequency-bin centers for strain (more accurate!)\n",
    "\n",
    "    # All other bin midpoints\n",
    "    mt = kale.utils.midpoints(edges[0]) #: total mass\n",
    "    mr = kale.utils.midpoints(edges[1]) #: mass ratio\n",
    "    rz = kale.utils.midpoints(edges[2]) #: redshift\n",
    "\n",
    "    if(print_test):\n",
    "        print('Observer frame frequency centers: ', fc)\n",
    "        print('Mass edges: ', mt.shape, mt)\n",
    "        print('Ratio edges:', mr.shape, mr)\n",
    "        print('Redshift edges:', rz.shape, rz,'\\n')\n",
    "\n",
    "    # Chirp mass and comoving distance\n",
    "    # mc = utils.chirp_mass_mtmr(mt[:, np.newaxis], mr[np.newaxis, :])\n",
    "    # dc = holo.cosmo.comoving_distance(rz).cgs.value\n",
    "    # if(print_test):\n",
    "    #     print('Chirp mass', mc.shape, '\\n', mc)\n",
    "        # print('Comoving distance:', dc,'\\n')\n",
    "\n",
    "    # Convert freq bin centers to rest-frame\n",
    "    # fr = utils.frst_from_fobs(fc[np.newaxis, :], rz[:, np.newaxis])\n",
    "    # if(print_test):\n",
    "    #     print('Rest frame frequency centers:', fr.shape, \n",
    "    #         '\\n',fr,'\\n')\n",
    "    \n",
    "    # get strain for each bin\n",
    "    hc_grid = np.empty_like(number)\n",
    "    for m_idx in range(len(mt)):\n",
    "        for q_idx in range(len(mr)):\n",
    "            for z_idx in range(len(rz)):\n",
    "                cmass = holo.utils.chirp_mass_mtmr(mt[m_idx], mr[q_idx])\n",
    "                cdist = holo.cosmo.comoving_distance(rz[z_idx]).cgs.value\n",
    "                if(print_test):\n",
    "                    print('BIN mt=%.2e, mr=%.2e, rz=%.2e' %\n",
    "                        (mt[m_idx], mr[q_idx], rz[z_idx]))\n",
    "                    print('\\t m_c = %.2e, d_c = %.2e' \n",
    "                        % (cmass, cdist))\n",
    "                for f_idx in range(len(fc)):\n",
    "                    rfreq = holo.utils.frst_from_fobs(fc[f_idx], rz[z_idx])\n",
    "                    hs_mqzf = utils.gw_strain_source(cmass, cdist, rfreq)\n",
    "                    hc_dlnf = hs_mqzf**2 * (fc[f_idx]/df[f_idx])\n",
    "                    if(print_test):\n",
    "                        print('\\t\\tfr = %.2fnHz, h_s = %.2e, h_c^2/dlnf = %.2e' \n",
    "                            % (rfreq*10**9, hs_mqzf, hc_dlnf))\n",
    "                        print('\\t\\tnumber: %.2e' % number[m_idx, q_idx, z_idx, f_idx])\n",
    "                    if(realize == False):\n",
    "                        hc_grid[m_idx, q_idx, z_idx, f_idx] = np.sqrt(hc_dlnf \n",
    "                                        * number[m_idx, q_idx, z_idx, f_idx])\n",
    "                    elif(realize == True):\n",
    "                        hc_grid[m_idx, q_idx, z_idx, f_idx] = np.sqrt(hc_dlnf \n",
    "                                        *np.random.poisson(number[m_idx, q_idx, z_idx, f_idx]))\n",
    "                    else:\n",
    "                        print('cant do multiple realizations yet')\n",
    "                    if(print_test):\n",
    "                        print('\\t\\thc = %.2e' % hc_grid[m_idx, q_idx, z_idx, f_idx])\n",
    "\n",
    "\n",
    "\n",
    "    # if(realize == False):\n",
    "    #     hc_grid *= number\n",
    "    # elif(realize == True):\n",
    "    #     hc_grid *= np.random.poisson(number)\n",
    "\n",
    "    #not sure if this part will work\n",
    "    # elif utils.isinteger(realize):\n",
    "    #     try:\n",
    "    #         realizations = np.empty(realize)\n",
    "    #         for real in range(realize): \n",
    "    #             realizations[real]= gws_by_loops(edges, number, realize=True)\n",
    "    #         hc_grid = realizations\n",
    "    #     except:\n",
    "    #         print(\"Something went wrong when you tried to do multiple realizations.\")\n",
    "    print('hc:', hc.shape)\n",
    "\n",
    "    return hc_grid"
   ]
  },
  {
   "attachments": {},
   "cell_type": "markdown",
   "metadata": {},
   "source": [
    "# SAM Edges and Number for Example"
   ]
  },
  {
   "attachments": {},
   "cell_type": "markdown",
   "metadata": {},
   "source": [
    "frequency bins/edges"
   ]
  },
  {
   "cell_type": "code",
   "execution_count": 14,
   "metadata": {},
   "outputs": [
    {
     "name": "stdout",
     "output_type": "stream",
     "text": [
      "Number of frequency bins: 4\n",
      "  between [0.63, 3.16] 1/yr\n",
      "          [20.00, 100.00] nHz\n"
     ]
    }
   ],
   "source": [
    "dur = 5.0*YR/3.1557600\n",
    "cad = .5*YR/3.1557600\n",
    "fobs = utils.nyquist_freqs(dur,cad)\n",
    "fobs_edges = utils.nyquist_freqs_edges(dur,cad)\n",
    "print(f\"Number of frequency bins: {fobs.size-1}\")\n",
    "print(f\"  between [{fobs[0]*YR:.2f}, {fobs[-1]*YR:.2f}] 1/yr\")\n",
    "print(f\"          [{fobs[0]*1e9:.2f}, {fobs[-1]*1e9:.2f}] nHz\")"
   ]
  },
  {
   "attachments": {},
   "cell_type": "markdown",
   "metadata": {},
   "source": [
    "Semi-Analytic-Model with default parameters \n",
    "* gsmf=GSMF_Schechter, \n",
    "* gpf=GPF_Power_Law, \n",
    "* gmt=GMT_Power_Law, \n",
    "* mmbulge=relations.MMBulge_MM2013"
   ]
  },
  {
   "cell_type": "code",
   "execution_count": 15,
   "metadata": {},
   "outputs": [
    {
     "name": "stdout",
     "output_type": "stream",
     "text": [
      "edges: [array([1.e+39, 1.e+40, 1.e+41]), array([0.1, 1. ]), array([0.001, 0.01 , 0.1  , 1.   ])]\n"
     ]
    }
   ],
   "source": [
    "mtot=(1.0e6*MSOL/1.988409870698051, 1.0e8*MSOL/1.988409870698051, 3)\n",
    "mrat=(1e-1, 1.0, 2)\n",
    "redz=(1e-3, 1.0, 4)\n",
    "sam = holo.sam.Semi_Analytic_Model(mtot=mtot, mrat=mrat, \n",
    "        redz=redz)\n",
    "print('edges:', sam.edges)"
   ]
  },
  {
   "attachments": {},
   "cell_type": "markdown",
   "metadata": {},
   "source": [
    "gwb (internal to sam.gwb excluding hc calculation)"
   ]
  },
  {
   "cell_type": "code",
   "execution_count": 16,
   "metadata": {},
   "outputs": [],
   "source": [
    "fobs_gw_edges = fobs_edges\n",
    "hard = holo.hardening.Hard_GW\n",
    "fobs_gw_cents = kale.utils.midpoints(fobs_gw_edges)\n",
    "fobs_orb_edges = fobs_gw_edges / 2.0\n",
    "fobs_orb_cents = fobs_gw_cents / 2.0\n",
    "\n",
    "\n",
    "# dynamic_binary_number\n",
    "# gets differential number of binaries per bin-vol per log freq interval\n",
    "edges, dnum = sam.dynamic_binary_number(hard, fobs_orb=fobs_orb_cents)\n",
    "edges[-1] = fobs_orb_edges\n",
    "\n",
    "# integrate (multiply by bin volume) within each bin\n",
    "number = utils._integrate_grid_differential_number(edges, dnum, freq=False)\n",
    "number = number * np.diff(np.log(fobs_gw_edges))"
   ]
  },
  {
   "cell_type": "code",
   "execution_count": 17,
   "metadata": {},
   "outputs": [
    {
     "name": "stdout",
     "output_type": "stream",
     "text": [
      "INPUTS: edges: 4 \n",
      " [array([1.e+39, 1.e+40, 1.e+41]), array([0.1, 1. ]), array([0.001, 0.01 , 0.1  , 1.   ]), array([5.0e-09, 1.5e-08, 2.5e-08, 3.5e-08, 4.5e-08, 6.0e-08])] \n",
      "INPUTS:number: (2, 1, 3, 5) \n",
      " [[[[0.0000e+00 0.0000e+00 0.0000e+00 0.0000e+00 0.0000e+00]\n",
      "   [8.8275e+06 6.4642e+05 1.4442e+05 5.0086e+04 2.7764e+04]\n",
      "   [1.0939e+09 8.0105e+07 1.7896e+07 6.2067e+06 3.4405e+06]]]\n",
      "\n",
      "\n",
      " [[[0.0000e+00 0.0000e+00 0.0000e+00 0.0000e+00 0.0000e+00]\n",
      "   [1.0989e+05 8.0473e+03 1.7978e+03 6.2351e+02 3.4563e+02]\n",
      "   [1.2899e+07 9.4460e+05 2.1103e+05 7.3189e+04 4.0571e+04]]]] \n",
      "\n",
      "Observer frame frequency centers:  [1.00e-08 2.00e-08 3.00e-08 4.00e-08 5.25e-08]\n",
      "Mass edges:  (2,) [5.5e+39 5.5e+40]\n",
      "Ratio edges: (1,) [0.55]\n",
      "Redshift edges: (3,) [0.0055 0.055  0.55  ] \n",
      "\n",
      "BIN mt=5.50e+39, mr=5.50e-01, rz=5.50e-03\n",
      "\t m_c = 2.27e+39, d_c = 7.33e+25\n",
      "\t\tfr = 10.06nHz, h_s = 2.92e-19, h_c^2/dlnf = 8.53e-38\n",
      "\t\tnumber: 0.00e+00\n",
      "\t\thc = 0.00e+00\n",
      "\t\tfr = 20.11nHz, h_s = 4.64e-19, h_c^2/dlnf = 4.30e-37\n",
      "\t\tnumber: 0.00e+00\n",
      "\t\thc = 0.00e+00\n",
      "\t\tfr = 30.17nHz, h_s = 6.07e-19, h_c^2/dlnf = 1.11e-36\n",
      "\t\tnumber: 0.00e+00\n",
      "\t\thc = 0.00e+00\n",
      "\t\tfr = 40.22nHz, h_s = 7.36e-19, h_c^2/dlnf = 2.17e-36\n",
      "\t\tnumber: 0.00e+00\n",
      "\t\thc = 0.00e+00\n",
      "\t\tfr = 52.79nHz, h_s = 8.82e-19, h_c^2/dlnf = 2.72e-36\n",
      "\t\tnumber: 0.00e+00\n",
      "\t\thc = 0.00e+00\n",
      "BIN mt=5.50e+39, mr=5.50e-01, rz=5.50e-02\n",
      "\t m_c = 2.27e+39, d_c = 7.25e+26\n",
      "\t\tfr = 10.55nHz, h_s = 3.05e-20, h_c^2/dlnf = 9.29e-40\n",
      "\t\tnumber: 8.83e+06\n",
      "\t\thc = 9.06e-17\n",
      "\t\tfr = 21.10nHz, h_s = 4.84e-20, h_c^2/dlnf = 4.68e-39\n",
      "\t\tnumber: 6.46e+05\n",
      "\t\thc = 5.50e-17\n",
      "\t\tfr = 31.65nHz, h_s = 6.34e-20, h_c^2/dlnf = 1.21e-38\n",
      "\t\tnumber: 1.44e+05\n",
      "\t\thc = 4.17e-17\n",
      "\t\tfr = 42.20nHz, h_s = 7.68e-20, h_c^2/dlnf = 2.36e-38\n",
      "\t\tnumber: 5.01e+04\n",
      "\t\thc = 3.44e-17\n",
      "\t\tfr = 55.39nHz, h_s = 9.21e-20, h_c^2/dlnf = 2.97e-38\n",
      "\t\tnumber: 2.78e+04\n",
      "\t\thc = 2.87e-17\n",
      "BIN mt=5.50e+39, mr=5.50e-01, rz=5.50e-01\n",
      "\t m_c = 2.27e+39, d_c = 6.42e+27\n",
      "\t\tfr = 15.50nHz, h_s = 4.45e-21, h_c^2/dlnf = 1.98e-41\n",
      "\t\tnumber: 1.09e+09\n",
      "\t\thc = 1.47e-16\n",
      "\t\tfr = 31.00nHz, h_s = 7.07e-21, h_c^2/dlnf = 9.99e-41\n",
      "\t\tnumber: 8.01e+07\n",
      "\t\thc = 8.95e-17\n",
      "\t\tfr = 46.50nHz, h_s = 9.26e-21, h_c^2/dlnf = 2.57e-40\n",
      "\t\tnumber: 1.79e+07\n",
      "\t\thc = 6.79e-17\n",
      "\t\tfr = 62.00nHz, h_s = 1.12e-20, h_c^2/dlnf = 5.03e-40\n",
      "\t\tnumber: 6.21e+06\n",
      "\t\thc = 5.59e-17\n",
      "\t\tfr = 81.38nHz, h_s = 1.34e-20, h_c^2/dlnf = 6.33e-40\n",
      "\t\tnumber: 3.44e+06\n",
      "\t\thc = 4.67e-17\n",
      "BIN mt=5.50e+40, mr=5.50e-01, rz=5.50e-03\n",
      "\t m_c = 2.27e+40, d_c = 7.33e+25\n",
      "\t\tfr = 10.06nHz, h_s = 1.36e-17, h_c^2/dlnf = 1.84e-34\n",
      "\t\tnumber: 0.00e+00\n",
      "\t\thc = 0.00e+00\n",
      "\t\tfr = 20.11nHz, h_s = 2.15e-17, h_c^2/dlnf = 9.26e-34\n",
      "\t\tnumber: 0.00e+00\n",
      "\t\thc = 0.00e+00\n",
      "\t\tfr = 30.17nHz, h_s = 2.82e-17, h_c^2/dlnf = 2.38e-33\n",
      "\t\tnumber: 0.00e+00\n",
      "\t\thc = 0.00e+00\n",
      "\t\tfr = 40.22nHz, h_s = 3.42e-17, h_c^2/dlnf = 4.67e-33\n",
      "\t\tnumber: 0.00e+00\n",
      "\t\thc = 0.00e+00\n",
      "\t\tfr = 52.79nHz, h_s = 4.09e-17, h_c^2/dlnf = 5.87e-33\n",
      "\t\tnumber: 0.00e+00\n",
      "\t\thc = 0.00e+00\n",
      "BIN mt=5.50e+40, mr=5.50e-01, rz=5.50e-02\n",
      "\t m_c = 2.27e+40, d_c = 7.25e+26\n",
      "\t\tfr = 10.55nHz, h_s = 1.41e-18, h_c^2/dlnf = 2.00e-36\n",
      "\t\tnumber: 1.10e+05\n",
      "\t\thc = 4.69e-16\n",
      "\t\tfr = 21.10nHz, h_s = 2.25e-18, h_c^2/dlnf = 1.01e-35\n",
      "\t\tnumber: 8.05e+03\n",
      "\t\thc = 2.85e-16\n",
      "\t\tfr = 31.65nHz, h_s = 2.94e-18, h_c^2/dlnf = 2.60e-35\n",
      "\t\tnumber: 1.80e+03\n",
      "\t\thc = 2.16e-16\n",
      "\t\tfr = 42.20nHz, h_s = 3.57e-18, h_c^2/dlnf = 5.08e-35\n",
      "\t\tnumber: 6.24e+02\n",
      "\t\thc = 1.78e-16\n",
      "\t\tfr = 55.39nHz, h_s = 4.27e-18, h_c^2/dlnf = 6.39e-35\n",
      "\t\tnumber: 3.46e+02\n",
      "\t\thc = 1.49e-16\n",
      "BIN mt=5.50e+40, mr=5.50e-01, rz=5.50e-01\n",
      "\t m_c = 2.27e+40, d_c = 6.42e+27\n",
      "\t\tfr = 15.50nHz, h_s = 2.07e-19, h_c^2/dlnf = 4.27e-38\n",
      "\t\tnumber: 1.29e+07\n",
      "\t\thc = 7.42e-16\n",
      "\t\tfr = 31.00nHz, h_s = 3.28e-19, h_c^2/dlnf = 2.15e-37\n",
      "\t\tnumber: 9.45e+05\n",
      "\t\thc = 4.51e-16\n",
      "\t\tfr = 46.50nHz, h_s = 4.30e-19, h_c^2/dlnf = 5.54e-37\n",
      "\t\tnumber: 2.11e+05\n",
      "\t\thc = 3.42e-16\n",
      "\t\tfr = 62.00nHz, h_s = 5.21e-19, h_c^2/dlnf = 1.08e-36\n",
      "\t\tnumber: 7.32e+04\n",
      "\t\thc = 2.82e-16\n",
      "\t\tfr = 81.38nHz, h_s = 6.24e-19, h_c^2/dlnf = 1.36e-36\n",
      "\t\tnumber: 4.06e+04\n",
      "\t\thc = 2.35e-16\n"
     ]
    }
   ],
   "source": [
    "np.set_printoptions(precision = 4)\n",
    "loop_hcF = gws_by_loops(edges, number, realize = False, print_test=True)\n",
    "np.set_printoptions(precision = None)"
   ]
  },
  {
   "cell_type": "markdown",
   "metadata": {},
   "source": [
    "# Test Cases"
   ]
  },
  {
   "cell_type": "code",
   "execution_count": 32,
   "metadata": {},
   "outputs": [],
   "source": [
    "# get GWB spectrum\n",
    "hc_samF = holo.sam.gravwaves._gws_from_number_grid_integrated(edges, number, realize=False, sum=False)\n",
    "hc_samF_sum = holo.sam.gravwaves._gws_from_number_grid_integrated(edges, number, realize=False, sum=True)\n",
    "hc_samT = holo.sam.gravwaves._gws_from_number_grid_integrated(edges, number, realize=True, sum=False)\n",
    "hc_sam1 = holo.sam.gravwaves._gws_from_number_grid_integrated(edges, number, realize=1, sum=False)\n",
    "hc_sam3 = holo.sam.gravwaves._gws_from_number_grid_integrated(edges, number, realize=3, sum=False)\n",
    "hc_sam3_sum = holo.sam.gravwaves._gws_from_number_grid_integrated(edges, number, realize=3, sum=True)\n",
    "\n",
    "hc_loopF = gws_by_loops(edges, number, realize=False)   \n",
    "hc_loopF_sum = np.sqrt(np.sum(hc_loopF**2, axis=(0, 1, 2))) \n",
    "hc_loopT = gws_by_loops(edges, number, realize=True)\n",
    "hc_loop1 = gws_by_loops(edges, number, realize=1)   \n",
    "hc_loop3 = gws_by_loops(edges, number, realize=3)   \n",
    "hc_loop3_sum = np.sqrt(np.sum(hc_loop3**2, axis=(0, 1, 2)))\n",
    "        "
   ]
  },
  {
   "cell_type": "code",
   "execution_count": 21,
   "metadata": {},
   "outputs": [
    {
     "name": "stdout",
     "output_type": "stream",
     "text": [
      "[[[[ True  True  True  True  True]\n",
      "   [ True  True  True  True  True]\n",
      "   [ True  True  True  True  True]]]\n",
      "\n",
      "\n",
      " [[[ True  True  True  True  True]\n",
      "   [ True  True  True  True  True]\n",
      "   [ True  True  True  True  True]]]]\n",
      "hc by sam:\n",
      " [[[[0.0000e+00 0.0000e+00 0.0000e+00 0.0000e+00 0.0000e+00]\n",
      "   [9.0566e-17 5.5019e-17 4.1735e-17 3.4380e-17 2.8703e-17]\n",
      "   [1.4725e-16 8.9455e-17 6.7857e-17 5.5899e-17 4.6668e-17]]]\n",
      "\n",
      "\n",
      " [[[0.0000e+00 0.0000e+00 0.0000e+00 0.0000e+00 0.0000e+00]\n",
      "   [4.6903e-16 2.8493e-16 2.1614e-16 1.7805e-16 1.4865e-16]\n",
      "   [7.4220e-16 4.5088e-16 3.4202e-16 2.8175e-16 2.3522e-16]]]]\n",
      "hc by loop:\n",
      " [[[[0.0000e+00 0.0000e+00 0.0000e+00 0.0000e+00 0.0000e+00]\n",
      "   [9.0566e-17 5.5019e-17 4.1735e-17 3.4380e-17 2.8703e-17]\n",
      "   [1.4725e-16 8.9455e-17 6.7857e-17 5.5899e-17 4.6668e-17]]]\n",
      "\n",
      "\n",
      " [[[0.0000e+00 0.0000e+00 0.0000e+00 0.0000e+00 0.0000e+00]\n",
      "   [4.6903e-16 2.8493e-16 2.1614e-16 1.7805e-16 1.4865e-16]\n",
      "   [7.4220e-16 4.5088e-16 3.4202e-16 2.8175e-16 2.3522e-16]]]]\n"
     ]
    }
   ],
   "source": [
    "print(hc_samF == hc_loopF)\n",
    "# should be exact same\n",
    "print('hc by sam:\\n', hc_samF)\n",
    "print('hc by loop:\\n', hc_loopF)"
   ]
  },
  {
   "cell_type": "code",
   "execution_count": 69,
   "metadata": {},
   "outputs": [
    {
     "name": "stdout",
     "output_type": "stream",
     "text": [
      "[ True  True  True  True  True]\n",
      "hc sum by sam:\n",
      " [8.9484e-16 5.4361e-16 4.1236e-16 3.3969e-16 2.8360e-16]\n",
      "hc sum by loop:\n",
      " [8.9484e-16 5.4361e-16 4.1236e-16 3.3969e-16 2.8360e-16]\n"
     ]
    }
   ],
   "source": [
    "print(hc_samF_sum == hc_loopF_sum)\n",
    "# should be exact same\n",
    "print('hc sum by sam:\\n', hc_samF_sum)\n",
    "print('hc sum by loop:\\n', hc_loopF_sum)"
   ]
  },
  {
   "cell_type": "code",
   "execution_count": 23,
   "metadata": {},
   "outputs": [
    {
     "name": "stdout",
     "output_type": "stream",
     "text": [
      "6.6714594480582095e-18\n",
      "[[[[[ 0.0000e+00  0.0000e+00  0.0000e+00]\n",
      "    [ 0.0000e+00  0.0000e+00  0.0000e+00]\n",
      "    [ 0.0000e+00  0.0000e+00  0.0000e+00]\n",
      "    [ 0.0000e+00  0.0000e+00  0.0000e+00]\n",
      "    [ 0.0000e+00  0.0000e+00  0.0000e+00]]\n",
      "\n",
      "   [[ 8.1054e-22  5.4219e-21  1.2697e-20]\n",
      "    [ 4.0039e-20  3.0637e-21 -2.8106e-21]\n",
      "    [-4.2780e-20 -2.4562e-20  3.4537e-20]\n",
      "    [-5.8742e-20  2.0563e-20 -1.4776e-20]\n",
      "    [-6.7734e-20  2.3275e-20 -2.5104e-19]]\n",
      "\n",
      "   [[ 2.5149e-21  2.2191e-21 -1.3415e-21]\n",
      "    [-1.9110e-20  4.7529e-21  6.3803e-21]\n",
      "    [ 1.6636e-20 -1.2873e-21  6.1060e-21]\n",
      "    [ 1.5757e-21 -2.2079e-20  1.9509e-20]\n",
      "    [-1.3227e-21  2.4511e-20  1.8035e-20]]]]\n",
      "\n",
      "\n",
      "\n",
      " [[[[ 0.0000e+00  0.0000e+00  0.0000e+00]\n",
      "    [ 0.0000e+00  0.0000e+00  0.0000e+00]\n",
      "    [ 0.0000e+00  0.0000e+00  0.0000e+00]\n",
      "    [ 0.0000e+00  0.0000e+00  0.0000e+00]\n",
      "    [ 0.0000e+00  0.0000e+00  0.0000e+00]]\n",
      "\n",
      "   [[-4.5436e-19 -9.7071e-19 -1.0439e-19]\n",
      "    [-1.7717e-19 -7.4237e-19  2.6633e-18]\n",
      "    [ 6.6715e-18  1.0816e-18  4.8177e-18]\n",
      "    [-5.7408e-18  1.4290e-19  3.3877e-18]\n",
      "    [-9.5589e-18  2.1682e-18  3.2693e-18]]\n",
      "\n",
      "   [[ 6.8767e-20  7.8974e-20 -2.6987e-20]\n",
      "    [-1.2745e-19  3.3862e-20  3.4113e-19]\n",
      "    [ 4.8657e-19 -5.4223e-19 -4.6514e-19]\n",
      "    [ 8.4568e-19  1.0986e-18 -9.1738e-19]\n",
      "    [ 1.0081e-18 -8.1051e-19 -1.7656e-18]]]]]\n"
     ]
    }
   ],
   "source": [
    "print(np.max(hc_sam3-hc_loop3))\n",
    "print(hc_sam3 - hc_loop3)\n",
    "# should be different but by pretty low numbers"
   ]
  },
  {
   "cell_type": "code",
   "execution_count": 68,
   "metadata": {},
   "outputs": [
    {
     "name": "stdout",
     "output_type": "stream",
     "text": [
      "5.207673263596318e-18\n",
      "[[-7.6740e-19  6.1423e-19 -1.1280e-18]\n",
      " [-1.6909e-18  1.3780e-18 -1.2051e-18]\n",
      " [-5.4205e-19  1.0020e-18 -4.8279e-19]\n",
      " [ 1.9991e-18  5.2077e-18  2.8975e-18]\n",
      " [-6.0367e-18  2.0921e-18 -1.7081e-18]]\n"
     ]
    }
   ],
   "source": [
    "print(np.max(hc_sam3_sum-hc_loop3_sum))\n",
    "print(hc_sam3_sum - hc_loop3_sum)\n",
    "# should be different but by pretty low numbers"
   ]
  },
  {
   "attachments": {},
   "cell_type": "markdown",
   "metadata": {},
   "source": [
    "## Plot test cases strain vs frequency"
   ]
  },
  {
   "cell_type": "code",
   "execution_count": 48,
   "metadata": {},
   "outputs": [],
   "source": [
    "def add_sampleGWB_to_plot(fig, ax, PLOT_GWB, LABEL, COLOR='b'):\n",
    "    nsamp = PLOT_GWB.shape[1]\n",
    "    ax.plot(xx, np.median(PLOT_GWB, axis=1), color=COLOR, label=LABEL)\n",
    "    # plot contours at 50% and 98% confidence intervals\n",
    "    for pp in [50, 98]:\n",
    "        percs = pp / 2\n",
    "        percs = [50 - percs, 50 + percs]\n",
    "        ax.fill_between(xx, *np.percentile(PLOT_GWB, percs, axis=-1), alpha=0.25, color=COLOR)\n",
    "    # Plot `nsamp` random spectra \n",
    "    \n",
    "    idx = np.random.choice(PLOT_GWB.shape[1], nsamp, replace=False)\n",
    "    ax.plot(xx, PLOT_GWB[:, idx], lw=1.0, alpha=0.5, color=COLOR, linestyle = 'dotted')"
   ]
  },
  {
   "cell_type": "code",
   "execution_count": 102,
   "metadata": {},
   "outputs": [
    {
     "data": {
      "image/png": "[encoded data removed]",
      "text/plain": [
       "<Figure size 1000x450 with 1 Axes>"
      ]
     },
     "metadata": {},
     "output_type": "display_data"
    }
   ],
   "source": [
    "# Plot just this one realization\n",
    "fig, ax = plot.figax(xlabel='Frequency $f_\\mathrm{obs}$ [1/yr]', \n",
    "                    ylabel='Characteristic Strain $h_c$', figsize=[10,4.5])\n",
    "\n",
    "xx = fobs * YR\n",
    "\n",
    "# plot a reference, pure power-law  strain spectrum:   h_c(f) = 1e-15 * (f * yr) ^ -2/3\n",
    "yy = 1e-15 * np.power(xx, -2.0/3.0)\n",
    "ax.plot(xx, yy, 'k--', alpha=0.25, lw=2.0, label = 'pure power law')\n",
    "\n",
    "# plot the model without sampling\n",
    "# blue: my loop method\n",
    "# red: the sam method\n",
    "ax.plot(xx, hc_loopF_sum, color='b', lw=4, ls = 'solid', label='unsampled GWB spectrum by loops')\n",
    "ax.plot(xx, hc_samF_sum, color='r', lw=3, ls = 'dotted', label='unsampled GWB spectrum by sam')\n",
    "\n",
    "# plot the model with Poisson sampling\n",
    "# add_sampleGWB_to_plot(fig, ax, hc_loop3_sum, LABEL='loop with 3 realizations', COLOR='b')\n",
    "# add_sampleGWB_to_plot(fig, ax, hc_sam3_sum, LABEL='sam with 3 realizations', COLOR='r')\n",
    "\n",
    "# plot single realizations\n",
    "ax.plot(xx, hc_loop3_sum[:, 0], lw=4.0, alpha=0.6, color='green', linestyle = 'dotted',\n",
    "        label = 'loop realization')\n",
    "ax.plot(xx, hc_sam3_sum[:, 0], lw=4.0, alpha=0.6, color='purple', linestyle = 'dotted',\n",
    "        label = 'sam realization')\n",
    "\n",
    "\n",
    "legend_gwb = ax.legend(bbox_to_anchor=(.1,-.15), bbox_transform=fig.transFigure, loc='lower left')\n",
    "fig.tight_layout()"
   ]
  },
  {
   "attachments": {},
   "cell_type": "markdown",
   "metadata": {},
   "source": [
    "Everything appears to be along the unsampled line, even using the sam realization model,\n",
    "maybe because of the simplicity of my example. I'll try and more complex case with more realizations below."
   ]
  },
  {
   "cell_type": "code",
   "execution_count": 80,
   "metadata": {},
   "outputs": [
    {
     "data": {
      "image/png": "[encoded data removed]",
      "text/plain": [
       "<Figure size 1000x450 with 1 Axes>"
      ]
     },
     "metadata": {},
     "output_type": "display_data"
    }
   ],
   "source": [
    "# Plot just this one realization\n",
    "fig, ax = plot.figax(xlabel='Frequency $f_\\mathrm{obs}$ [1/yr]', \n",
    "                    ylabel='Characteristic Strain $h_c$', figsize=[10,4.5])\n",
    "\n",
    "xx = fobs * YR\n",
    "\n",
    "# plot a reference, pure power-law  strain spectrum:   h_c(f) = 1e-15 * (f * yr) ^ -2/3\n",
    "yy = 1e-15 * np.power(xx, -2.0/3.0)\n",
    "ax.plot(xx, yy, 'k--', alpha=0.25, lw=2.0, label = 'pure power law')\n",
    "\n",
    "# # plot the model without sampling\n",
    "# # blue: my loop method\n",
    "# # red: the sam method\n",
    "# ax.plot(xx, hc_loopF_sum, color='b', lw=4, ls = 'solid', label='unsampled GWB spectrum by loops')\n",
    "# ax.plot(xx, hc_samF_sum, color='r', lw=3, ls = 'dotted', label='unsampled GWB spectrum by sam')\n",
    "\n",
    "# # plot the model with Poisson sampling\n",
    "# add_sampleGWB_to_plot(fig, ax, hc_loop3_sum, LABEL='loop with 3 realizations', COLOR='b')\n",
    "# add_sampleGWB_to_plot(fig, ax, hc_sam3_sum, LABEL='sam with 3 realizations', COLOR='r')\n",
    "\n",
    "# plot single realizations\n",
    "for idx in range(3):\n",
    "        ax.scatter(xx, hc_loop3_sum[:, idx], lw=1.0, alpha=0.5, color='b', \n",
    "                label = 'loop realization %d' % idx)\n",
    "        ax.scatter(xx, hc_sam3_sum[:, idx], lw=1.0, alpha=0.5, color='r', \n",
    "                label = 'sam realization %d' % idx)\n",
    "\n",
    "\n",
    "legend_gwb = ax.legend(bbox_to_anchor=(.1,-.15), bbox_transform=fig.transFigure, loc='lower left')\n",
    "fig.tight_layout()"
   ]
  },
  {
   "attachments": {},
   "cell_type": "markdown",
   "metadata": {},
   "source": [
    "There are slight variations between them. This looks pretty good to me!"
   ]
  },
  {
   "attachments": {},
   "cell_type": "markdown",
   "metadata": {},
   "source": [
    "## More realizations"
   ]
  },
  {
   "cell_type": "code",
   "execution_count": 93,
   "metadata": {},
   "outputs": [],
   "source": [
    "# get GWB spectrum\n",
    "hc_sam10 = holo.sam.gravwaves._gws_from_number_grid_integrated(edges, number, realize=10, sum=False)\n",
    "hc_sam10_sum = holo.sam.gravwaves._gws_from_number_grid_integrated(edges, number, realize=10, sum=True)\n",
    "  \n",
    "hc_loop10 = gws_by_loops(edges, number, realize=10)   \n",
    "hc_loop10_sum = np.sqrt(np.sum(hc_loop10**2, axis=(0, 1, 2)))\n",
    "        "
   ]
  },
  {
   "cell_type": "code",
   "execution_count": 96,
   "metadata": {},
   "outputs": [
    {
     "data": {
      "image/png": "[encoded data removed]",
      "text/plain": [
       "<Figure size 1000x450 with 1 Axes>"
      ]
     },
     "metadata": {},
     "output_type": "display_data"
    }
   ],
   "source": [
    "# Plot just this one realization\n",
    "fig, ax = plot.figax(xlabel='Frequency $f_\\mathrm{obs}$ [1/yr]', \n",
    "                    ylabel='Characteristic Strain $h_c$', figsize=[10,4.5])\n",
    "\n",
    "xx = fobs * YR\n",
    "\n",
    "# plot a reference, pure power-law  strain spectrum:   h_c(f) = 1e-15 * (f * yr) ^ -2/3\n",
    "yy = 1e-15 * np.power(xx, -2.0/3.0)\n",
    "ax.plot(xx, yy, 'k--', alpha=0.25, lw=2.0, label = 'pure power law')\n",
    "\n",
    "# # plot the model without sampling\n",
    "# # blue: my loop method\n",
    "# # red: the sam method\n",
    "# ax.plot(xx, hc_loopF_sum, color='b', lw=4, ls = 'solid', label='unsampled GWB spectrum by loops')\n",
    "# ax.plot(xx, hc_samF_sum, color='r', lw=3, ls = 'dotted', label='unsampled GWB spectrum by sam')\n",
    "\n",
    "# # plot the model with Poisson sampling\n",
    "# add_sampleGWB_to_plot(fig, ax, hc_loop3_sum, LABEL='loop with 3 realizations', COLOR='b')\n",
    "# add_sampleGWB_to_plot(fig, ax, hc_sam3_sum, LABEL='sam with 3 realizations', COLOR='r')\n",
    "\n",
    "# plot single realizations\n",
    "for idx in range(len(hc_loop10_sum[0,:])):\n",
    "    if(idx==0):\n",
    "        ax.scatter(xx, hc_loop10_sum[:, idx], lw=1.0, alpha=0.5, color='b', \n",
    "                label = 'loop realization')\n",
    "        ax.scatter(xx, hc_sam10_sum[:, idx], lw=1.0, alpha=0.5, color='r', \n",
    "                label = 'sam realization')\n",
    "    else:\n",
    "        ax.scatter(xx, hc_loop10_sum[:, idx], lw=1.0, alpha=0.5, color='b')\n",
    "        ax.scatter(xx, hc_sam10_sum[:, idx], lw=1.0, alpha=0.5, color='r')\n",
    "\n",
    "\n",
    "legend_gwb = ax.legend(bbox_to_anchor=(.1,-.05), bbox_transform=fig.transFigure, loc='lower left')\n",
    "fig.tight_layout()"
   ]
  },
  {
   "attachments": {},
   "cell_type": "markdown",
   "metadata": {},
   "source": [
    "## More frequencies, masses, ratios, and redshifts"
   ]
  },
  {
   "cell_type": "code",
   "execution_count": 97,
   "metadata": {},
   "outputs": [],
   "source": [
    "def get_edges_and_numbers(dur, cad, mtot, mrat, redz):\n",
    "    fobs = utils.nyquist_freqs(dur,cad)\n",
    "    fobs_edges = utils.nyquist_freqs_edges(dur,cad)\n",
    "    print(f\"Number of frequency bins: {fobs.size-1}\")\n",
    "    print(f\"  between [{fobs[0]*YR:.2f}, {fobs[-1]*YR:.2f}] 1/yr\")\n",
    "    print(f\"          [{fobs[0]*1e9:.2f}, {fobs[-1]*1e9:.2f}] nHz\")\n",
    "    sam = holo.sam.Semi_Analytic_Model(mtot=mtot, mrat=mrat, \n",
    "        redz=redz)\n",
    "    print('edges:', sam.edges)\n",
    "    fobs_gw_edges = fobs_edges\n",
    "    hard = holo.hardening.Hard_GW\n",
    "    fobs_gw_cents = kale.utils.midpoints(fobs_gw_edges)\n",
    "    fobs_orb_edges = fobs_gw_edges / 2.0\n",
    "    fobs_orb_cents = fobs_gw_cents / 2.0\n",
    "\n",
    "\n",
    "    # dynamic_binary_number\n",
    "    # gets differential number of binaries per bin-vol per log freq interval\n",
    "    edges, dnum = sam.dynamic_binary_number(hard, fobs_orb=fobs_orb_cents)\n",
    "    edges[-1] = fobs_orb_edges\n",
    "\n",
    "    # integrate (multiply by bin volume) within each bin\n",
    "    number = utils._integrate_grid_differential_number(edges, dnum, freq=False)\n",
    "    number = number * np.diff(np.log(fobs_gw_edges))\n",
    "    return edges, number"
   ]
  },
  {
   "cell_type": "markdown",
   "metadata": {},
   "source": [
    "frequency bins/edges"
   ]
  },
  {
   "cell_type": "code",
   "execution_count": 98,
   "metadata": {},
   "outputs": [
    {
     "name": "stdout",
     "output_type": "stream",
     "text": [
      "Number of frequency bins: 11\n",
      "  between [0.20, 2.40] 1/yr\n",
      "          [6.34, 76.05] nHz\n",
      "edges: [array([1.9884e+37, 4.6444e+37, 1.0848e+38, 2.5338e+38, 5.9182e+38,\n",
      "       1.3823e+39, 3.2287e+39, 7.5414e+39, 1.7615e+40, 4.1143e+40,\n",
      "       9.6098e+40, 2.2446e+41, 5.2427e+41, 1.2246e+42, 2.8602e+42,\n",
      "       6.6807e+42, 1.5604e+43, 3.6447e+43, 8.5130e+43, 1.9884e+44]), array([0.001 , 0.0013, 0.0018, 0.0024, 0.0032, 0.0042, 0.0056, 0.0075,\n",
      "       0.01  , 0.0133, 0.0178, 0.0237, 0.0316, 0.0422, 0.0562, 0.075 ,\n",
      "       0.1   , 0.1334, 0.1778, 0.2371, 0.3162, 0.4217, 0.5623, 0.7499,\n",
      "       1.    ]), array([0.001 , 0.0016, 0.0027, 0.0044, 0.0072, 0.0118, 0.0193, 0.0316,\n",
      "       0.0518, 0.0848, 0.1389, 0.2276, 0.3728, 0.6105, 1.    ])]\n"
     ]
    }
   ],
   "source": [
    "dur2 = 5.0*YR\n",
    "cad2 = .2*YR\n",
    "mtot2=(1.0e4*MSOL, 1.0e11*MSOL, 20)\n",
    "mrat2=(1e-3, 1.0, 25)\n",
    "redz2=(1e-3, 1.0, 15)\n",
    "edges2, number2 = get_edges_and_numbers(dur2, cad2, mtot2, mrat2, redz2)"
   ]
  },
  {
   "attachments": {},
   "cell_type": "markdown",
   "metadata": {},
   "source": [
    "get strain (this gives lam value to large on windows)"
   ]
  },
  {
   "cell_type": "code",
   "execution_count": 104,
   "metadata": {},
   "outputs": [
    {
     "name": "stdout",
     "output_type": "stream",
     "text": [
      "19:15:48 ERROR : lam value too large [gravwaves.py:_gws_from_number_grid_integrated]\n",
      "utils.stats(number)='0.00e+00, 0.00e+00, 0.00e+00, 2.28e-56, 8.61e+03, 1.09e+07, 2.04e+12'\n",
      "number.max()=2.03746062e+12\n",
      "number.dtype=dtype('float64')\n"
     ]
    },
    {
     "ename": "ValueError",
     "evalue": "lam value too large",
     "output_type": "error",
     "traceback": [
      "\u001b[1;31m---------------------------------------------------------------------------\u001b[0m",
      "\u001b[1;31mValueError\u001b[0m                                Traceback (most recent call last)",
      "Cell \u001b[1;32mIn[104], line 3\u001b[0m\n\u001b[0;32m      1\u001b[0m \u001b[39m# get GWB spectrum\u001b[39;00m\n\u001b[0;32m      2\u001b[0m hc2_samF \u001b[39m=\u001b[39m holo\u001b[39m.\u001b[39msam\u001b[39m.\u001b[39mgravwaves\u001b[39m.\u001b[39m_gws_from_number_grid_integrated(edges2, number2, realize\u001b[39m=\u001b[39m\u001b[39mFalse\u001b[39;00m, \u001b[39msum\u001b[39m\u001b[39m=\u001b[39m\u001b[39mFalse\u001b[39;00m)\n\u001b[1;32m----> 3\u001b[0m hc2_sam15 \u001b[39m=\u001b[39m holo\u001b[39m.\u001b[39;49msam\u001b[39m.\u001b[39;49mgravwaves\u001b[39m.\u001b[39;49m_gws_from_number_grid_integrated(edges2, number2, realize\u001b[39m=\u001b[39;49m\u001b[39m15\u001b[39;49m, \u001b[39msum\u001b[39;49m\u001b[39m=\u001b[39;49m\u001b[39mFalse\u001b[39;49;00m)\n\u001b[0;32m      4\u001b[0m hc2_sam15_sum \u001b[39m=\u001b[39m holo\u001b[39m.\u001b[39msam\u001b[39m.\u001b[39mgravwaves\u001b[39m.\u001b[39m_gws_from_number_grid_integrated(edges2, number2, realize\u001b[39m=\u001b[39m\u001b[39m15\u001b[39m, \u001b[39msum\u001b[39m\u001b[39m=\u001b[39m\u001b[39mTrue\u001b[39;00m)\n\u001b[0;32m      6\u001b[0m hc2_loopF \u001b[39m=\u001b[39m gws_by_loops(edges2, number2, realize\u001b[39m=\u001b[39m\u001b[39mFalse\u001b[39;00m)    \n",
      "File \u001b[1;32mC:\\Users/emiga/OneDrive/Cal/GWs/code/holodeck\\holodeck\\gravwaves.py:545\u001b[0m, in \u001b[0;36m_gws_from_number_grid_integrated\u001b[1;34m(edges, number, realize, sum)\u001b[0m\n\u001b[0;32m    543\u001b[0m shape \u001b[39m=\u001b[39m number\u001b[39m.\u001b[39mshape \u001b[39m+\u001b[39m (realize,)\n\u001b[0;32m    544\u001b[0m \u001b[39mtry\u001b[39;00m:\n\u001b[1;32m--> 545\u001b[0m     hc \u001b[39m=\u001b[39m hc[\u001b[39m.\u001b[39m\u001b[39m.\u001b[39m\u001b[39m.\u001b[39m, np\u001b[39m.\u001b[39mnewaxis] \u001b[39m*\u001b[39m np\u001b[39m.\u001b[39;49mrandom\u001b[39m.\u001b[39;49mpoisson(number[\u001b[39m.\u001b[39;49m\u001b[39m.\u001b[39;49m\u001b[39m.\u001b[39;49m, np\u001b[39m.\u001b[39;49mnewaxis], size\u001b[39m=\u001b[39;49mshape)\n\u001b[0;32m    546\u001b[0m \u001b[39mexcept\u001b[39;00m \u001b[39mValueError\u001b[39;00m \u001b[39mas\u001b[39;00m err:\n\u001b[0;32m    547\u001b[0m     log\u001b[39m.\u001b[39merror(\u001b[39mstr\u001b[39m(err))\n",
      "File \u001b[1;32mmtrand.pyx:3595\u001b[0m, in \u001b[0;36mnumpy.random.mtrand.RandomState.poisson\u001b[1;34m()\u001b[0m\n",
      "File \u001b[1;32m_common.pyx:883\u001b[0m, in \u001b[0;36mnumpy.random._common.disc\u001b[1;34m()\u001b[0m\n",
      "File \u001b[1;32m_common.pyx:680\u001b[0m, in \u001b[0;36mnumpy.random._common.discrete_broadcast_d\u001b[1;34m()\u001b[0m\n",
      "File \u001b[1;32m_common.pyx:411\u001b[0m, in \u001b[0;36mnumpy.random._common.check_array_constraint\u001b[1;34m()\u001b[0m\n",
      "\u001b[1;31mValueError\u001b[0m: lam value too large"
     ]
    }
   ],
   "source": [
    "# get GWB spectrum\n",
    "hc2_samF = holo.sam.gravwaves._gws_from_number_grid_integrated(edges2, number2, realize=False, sum=False)\n",
    "hc2_sam15 = holo.sam.gravwaves._gws_from_number_grid_integrated(edges2, number2, realize=15, sum=False)\n",
    "hc2_sam15_sum = holo.sam.gravwaves._gws_from_number_grid_integrated(edges2, number2, realize=15, sum=True)\n",
    "\n",
    "hc2_loopF = gws_by_loops(edges2, number2, realize=False)    \n",
    "hc2_loop15 = gws_by_loops(edges2, number2, realize=15)   \n",
    "hc2_loop15_sum = np.sqrt(np.sum(hc2_loop15**2, axis=(0, 1, 2)))\n",
    "        "
   ]
  },
  {
   "cell_type": "markdown",
   "metadata": {},
   "source": [
    "plot"
   ]
  },
  {
   "cell_type": "code",
   "execution_count": null,
   "metadata": {},
   "outputs": [],
   "source": [
    "# Plot just this one realization\n",
    "fig, ax = plot.figax(xlabel='Frequency $f_\\mathrm{obs}$ [1/yr]', \n",
    "                    ylabel='Characteristic Strain $h_c$', figsize=[10,4.5])\n",
    "\n",
    "xx = fobs * YR\n",
    "\n",
    "# plot a reference, pure power-law  strain spectrum:   h_c(f) = 1e-15 * (f * yr) ^ -2/3\n",
    "yy = 1e-15 * np.power(xx, -2.0/3.0)\n",
    "ax.plot(xx, yy, 'k--', alpha=0.25, lw=2.0, label = 'pure power law')\n",
    "\n",
    "# plot the model without sampling\n",
    "# blue: my loop method\n",
    "# red: the sam method\n",
    "ax.plot(xx, hc2_loopF_sum, color='b', lw=4, ls = 'solid', label='unsampled GWB spectrum2 by loops')\n",
    "ax.plot(xx, hc2_samF_sum, color='r', lw=3, ls = 'dotted', label='unsampled GWB spectrum2 by sam')\n",
    "\n",
    "# plot the model with Poisson sampling\n",
    "add_sampleGWB_to_plot(fig, ax, hc2_loop115_sum, LABEL='loop2 with 15 realizations', COLOR='b')\n",
    "add_sampleGWB_to_plot(fig, ax, hc2_sam115_sum, LABEL='sam2 with 15 realizations', COLOR='r')\n",
    "\n",
    "# plot single realizations\n",
    "# ax.plot(xx, hc_loop10_sum[:, 0], lw=4.0, alpha=0.6, color='green', linestyle = 'dotted',\n",
    "#         label = 'loop realization')\n",
    "# ax.plot(xx, hc_sam10_sum[:, 0], lw=4.0, alpha=0.6, color='purple', linestyle = 'dotted',\n",
    "#         label = 'sam realization')\n",
    "\n",
    "\n",
    "legend_gwb = ax.legend(bbox_to_anchor=(.1,-.15), bbox_transform=fig.transFigure, loc='lower left')\n",
    "fig.tight_layout()"
   ]
  }
 ],
 "metadata": {
  "kernelspec": {
   "display_name": "Python 3",
   "language": "python",
   "name": "python3"
  },
  "language_info": {
   "codemirror_mode": {
    "name": "ipython",
    "version": 3
   },
   "file_extension": ".py",
   "mimetype": "text/x-python",
   "name": "python",
   "nbconvert_exporter": "python",
   "pygments_lexer": "ipython3",
   "version": "3.10.10"
  },
  "orig_nbformat": 4,
  "vscode": {
   "interpreter": {
    "hash": "17d459439548e0ef4d6a744a9fa4f3f6fa91b434189a6e542a76bffcd834cb9b"
   }
  }
 },
 "nbformat": 4,
 "nbformat_minor": 2
}
