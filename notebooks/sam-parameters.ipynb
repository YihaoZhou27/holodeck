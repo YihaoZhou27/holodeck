{
 "cells": [
  {
   "attachments": {},
   "cell_type": "markdown",
   "metadata": {},
   "source": [
    "# Semi-Analytic Model - Parameter Selection"
   ]
  },
  {
   "attachments": {},
   "cell_type": "markdown",
   "metadata": {},
   "source": [
    "## Initialization"
   ]
  },
  {
   "cell_type": "code",
   "execution_count": null,
   "metadata": {},
   "outputs": [],
   "source": [
    "import os\n",
    "# import warnings\n",
    "from pathlib import Path\n",
    "import numpy as np\n",
    "import matplotlib.pyplot as plt\n",
    "import matplotlib as mpl\n",
    "\n",
    "# Silence annoying numpy errors\n",
    "np.seterr(divide='ignore', invalid='ignore', over='ignore')\n",
    "# warnings.filterwarnings(\"ignore\", category=UserWarning)\n",
    "\n",
    "# Plotting settings\n",
    "mpl.rc('font', **{'family': 'serif', 'sans-serif': ['Times'], 'size': 15})\n",
    "mpl.rc('lines', solid_capstyle='round')\n",
    "mpl.rc('mathtext', fontset='cm')\n",
    "mpl.style.use('default')   # avoid dark backgrounds from dark theme vscode\n",
    "plt.rcParams.update({'grid.alpha': 0.5})\n"
   ]
  },
  {
   "attachments": {},
   "cell_type": "markdown",
   "metadata": {},
   "source": [
    "## Galaxy Stellar-Mass Function (GSMF)"
   ]
  },
  {
   "attachments": {},
   "cell_type": "markdown",
   "metadata": {},
   "source": [
    "### [Tomczak+2014](https://ui.adsabs.harvard.edu/abs/2014ApJ...783...85T/exportcitation)"
   ]
  },
  {
   "attachments": {},
   "cell_type": "markdown",
   "metadata": {},
   "source": [
    "- Includes single & double Schechter fits for various redshift bins, no fit to redshift evolution"
   ]
  },
  {
   "cell_type": "code",
   "execution_count": null,
   "metadata": {},
   "outputs": [],
   "source": [
    "data = {\n",
    "    0: {\n",
    "        'z': [0.2, 0.5],\n",
    "        'log10mstar': [11.05, 0.1],    # log10(M/Msol)\n",
    "        'alpha': [-1.35, 0.04],\n",
    "        'log10phistar': [-2.96, 0.10]  # log10(Phi / Mpc^-3 / dex)\n",
    "    },\n",
    "    1: {\n",
    "        'z': [0.5, 0.75],\n",
    "        'log10mstar': [11.00, 0.06],    # log10(M/Msol)\n",
    "        'alpha': [-1.35, 0.04],\n",
    "        'log10phistar': [-2.93, 0.07]  # log10(Phi / Mpc^-3 / dex)\n",
    "    },\n",
    "    2: {\n",
    "        'z': [0.75, 1.00],\n",
    "        'log10mstar': [11.16, 0.12],    # log10(M/Msol)\n",
    "        'alpha': [-1.38, 0.04],\n",
    "        'log10phistar': [-3.17, 0.11]  # log10(Phi / Mpc^-3 / dex)\n",
    "    },\n",
    "    3: {\n",
    "        'z': [1.00, 1.25],\n",
    "        'log10mstar': [11.09, 0.10],    # log10(M/Msol)\n",
    "        'alpha': [-1.33, 0.05],\n",
    "        'log10phistar': [-3.19, 0.11]  # log10(Phi / Mpc^-3 / dex)\n",
    "    },\n",
    "    4: {\n",
    "        'z': [1.25, 1.50],\n",
    "        'log10mstar': [10.88, 0.05],    # log10(M/Msol)\n",
    "        'alpha': [-1.29, 0.05],\n",
    "        'log10phistar': [-3.11, 0.08]  # log10(Phi / Mpc^-3 / dex)\n",
    "    },\n",
    "    5: {\n",
    "        'z': [1.50, 2.00],\n",
    "        'log10mstar': [10.97, 0.05],    # log10(M/Msol)\n",
    "        'alpha': [-1.45, 0.05],\n",
    "        'log10phistar': [-3.44, 0.08]  # log10(Phi / Mpc^-3 / dex)\n",
    "    },\n",
    "    6: {\n",
    "        'z': [2.00, 2.50],\n",
    "        'log10mstar': [11.28, 0.19],    # log10(M/Msol)\n",
    "        'alpha': [-1.60, 0.08],\n",
    "        'log10phistar': [-3.96, 0.19]  # log10(Phi / Mpc^-3 / dex)\n",
    "    },\n",
    "    7: {\n",
    "        'z': [2.50, 3.00],\n",
    "        'log10mstar': [11.35, 0.33],    # log10(M/Msol)\n",
    "        'alpha': [-1.74, 0.12],\n",
    "        'log10phistar': [-4.36, 0.29]  # log10(Phi / Mpc^-3 / dex)\n",
    "    },    \n",
    "}"
   ]
  },
  {
   "cell_type": "code",
   "execution_count": null,
   "metadata": {},
   "outputs": [],
   "source": [
    "keys = list(data[0].keys())\n",
    "print(f\"{keys=}\")\n",
    "keys.pop(keys.index('z'))\n",
    "fig, axes = plt.subplots(figsize=[10, 5], ncols=3)\n",
    "\n",
    "for ii, vals in enumerate(data.values()):\n",
    "    zbin = vals['z']\n",
    "    zave = np.mean(zbin)\n",
    "    zwid = np.diff(zbin)/2.0\n",
    "    print(zave, zwid)\n",
    "    for jj, (key, ax) in enumerate(zip(keys, axes)):\n",
    "        val = vals[key]\n",
    "        ax.errorbar(zave, val[0], xerr=zwid, yerr=val[1])\n",
    "        if ii == 0:\n",
    "            ax.set(xlabel='Redshift', title=key)\n",
    "            ax.grid(True, alpha=0.25)\n",
    "\n",
    "plt.show()"
   ]
  }
 ],
 "metadata": {
  "kernelspec": {
   "display_name": "py310",
   "language": "python",
   "name": "python3"
  },
  "language_info": {
   "codemirror_mode": {
    "name": "ipython",
    "version": 3
   },
   "file_extension": ".py",
   "mimetype": "text/x-python",
   "name": "python",
   "nbconvert_exporter": "python",
   "pygments_lexer": "ipython3",
   "version": "3.10.8"
  },
  "vscode": {
   "interpreter": {
    "hash": "1f0c7602c82e39efa19a01e5e068584db7a6d17aff8711ab06660aac81377393"
   }
  }
 },
 "nbformat": 4,
 "nbformat_minor": 2
}
