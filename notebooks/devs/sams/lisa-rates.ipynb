{
 "cells": [
  {
   "cell_type": "markdown",
   "metadata": {},
   "source": [
    "# SAM - LISA Detection Rates "
   ]
  },
  {
   "cell_type": "code",
   "execution_count": null,
   "metadata": {},
   "outputs": [],
   "source": [
    "import numpy as np\n",
    "import astropy.units as u\n",
    "import matplotlib.pyplot as plt\n",
    "\n",
    "import legwork as lw\n",
    "\n",
    "import holodeck as holo\n",
    "from holodeck import cosmo, utils, plot\n",
    "from holodeck.constants import GYR, YR, PC, MSOL"
   ]
  },
  {
   "cell_type": "code",
   "execution_count": null,
   "metadata": {},
   "outputs": [],
   "source": [
    "LISA_DUR_YR = 5.0"
   ]
  },
  {
   "cell_type": "markdown",
   "metadata": {},
   "source": [
    "Get LISA sensitivity curve from the [`legwork` package](https://github.com/TeamLEGWORK/LEGWORK)"
   ]
  },
  {
   "cell_type": "code",
   "execution_count": null,
   "metadata": {},
   "outputs": [],
   "source": [
    "lisa_mission_dur = LISA_DUR_YR * u.yr\n",
    "fobs = np.logspace(-7, 0, 1000) * u.Hz\n",
    "\n",
    "# --- plot LISA sensitivity curve\n",
    "lisa_psd = lw.psd.power_spectral_density(f=fobs, t_obs=lisa_mission_dur)\n",
    "lisa_hc = np.sqrt(fobs * lisa_psd)\n",
    "\n",
    "plt.loglog(fobs, lisa_hc)\n",
    "plt.gca().set(xlabel='GW frequency [Hz]', ylabel='Characteristic Strain')\n",
    "plt.show()"
   ]
  },
  {
   "cell_type": "code",
   "execution_count": null,
   "metadata": {},
   "outputs": [],
   "source": [
    "def is_lisa_detectable(ff, hc, fl, hl):\n",
    "    \"\"\"Determine which binaries (ISCO frequencies and strains) are detectable (above LISA curve).\n",
    "    \n",
    "    Note that this function will automatically select binaries reaching the correct frequencies.\n",
    "    \n",
    "    Arguments\n",
    "    ---------\n",
    "    ff : array_like of float\n",
    "        Frequencies of binaries (at ISCO).  Units must match `fl`; typically [Hz].\n",
    "    hc : array_like of float\n",
    "        Characterstic-strains of binaries (at ISCO).\n",
    "    fl : array_like of float\n",
    "        Frequencies of LISA sensitivty curve.  Units must match `ff`; typically [Hz].\n",
    "    hl : array_like of float\n",
    "        Characterstic-strains of LISA sensitivity curve.\n",
    "    \n",
    "    Returns\n",
    "    -------\n",
    "    sel : array_like of bool\n",
    "        Whether or not the corresponding binary is detectable.\n",
    "        Matches the shape of `ff`.\n",
    "    \n",
    "    \"\"\"\n",
    "    \n",
    "    # use logarithmic interpolation to find the LISA sensitivity curve at the binary frequencies\n",
    "    # if the binary frequencies are outside of the LISA band, `NaN` values are returned\n",
    "    sens_at_ff = utils.interp(ff, fl, hl)\n",
    "    # select binaries above sensitivity curve, `NaN` values (i.e. outside of band) will be False.\n",
    "    sel = (hc > sens_at_ff)\n",
    "    return sel"
   ]
  },
  {
   "cell_type": "markdown",
   "metadata": {},
   "source": [
    "## SAM LISA Detection Rates"
   ]
  },
  {
   "cell_type": "markdown",
   "metadata": {},
   "source": [
    "### Build SAM"
   ]
  },
  {
   "cell_type": "code",
   "execution_count": null,
   "metadata": {},
   "outputs": [],
   "source": [
    "mmbulge = holo.relations.MMBulge_KH2013()\n",
    "gsmf = holo.sams.comps.GSMF_Double_Schechter()\n",
    "gmr = holo.sams.comps.GMR_Illustris()\n",
    "\n",
    "sam = holo.sams.sam.Semi_Analytic_Model(gsmf=gsmf, gmr=gmr, mmbulge=mmbulge)"
   ]
  },
  {
   "cell_type": "code",
   "execution_count": null,
   "metadata": {},
   "outputs": [],
   "source": [
    "# ---- Number density of binary mergers\n",
    "# ``d^3 n / [dlog10M dq dz]`` in units of [Mpc^-3]\n",
    "ndens = sam.static_binary_density"
   ]
  },
  {
   "cell_type": "code",
   "execution_count": null,
   "metadata": {},
   "outputs": [],
   "source": [
    "mtot, mrat, redz = sam.edges\n",
    "mt, mr, rz = np.meshgrid(mtot, mrat, redz, indexing='ij')\n",
    "dc = cosmo.z_to_dcom(rz)\n",
    "\n",
    "m1, m2 = utils.m1m2_from_mtmr(mt, mr)\n",
    "mc = utils.chirp_mass_mtmr(mt, mr)\n",
    "\n",
    "# Place all binaries at the ISCO, find the corresponding frequency, strain, and characteristic strain\n",
    "risco = utils.rad_isco(mt)\n",
    "fisco_rst = utils.kepler_freq_from_sepa(mt, risco)\n",
    "fisco_obs = fisco_rst / (1.0 + rz)\n",
    "hs = utils.gw_strain_source(mc, dc, fisco_rst)\n",
    "dadt = utils.gw_hardening_rate_dadt(m1, m2, risco)\n",
    "dfdt, _ = utils.dfdt_from_dadt(dadt, risco, mtot=mt, frst_orb=fisco_rst)\n",
    "print(\"hs = \", utils.stats(hs))\n",
    "\n",
    "ncycles = fisco_rst**2 / dfdt\n",
    "print(\"ncycles = \", utils.stats(ncycles))\n",
    "\n",
    "hc = np.sqrt(ncycles) * hs\n",
    "print(\"hc = \", utils.stats(hc))"
   ]
  },
  {
   "cell_type": "markdown",
   "metadata": {},
   "source": [
    "### Compare Binaries to LISA Sensitivity Curve"
   ]
  },
  {
   "cell_type": "code",
   "execution_count": null,
   "metadata": {},
   "outputs": [],
   "source": [
    "fig, ax = plt.subplots()\n",
    "ax.set(xlabel='Frequency [Hz]', ylabel='Characteristic Strain')\n",
    "\n",
    "lab = f\"LISA ({LISA_DUR_YR:.1f} yr)\"\n",
    "ax.loglog(fobs, lisa_hc, label=lab)\n",
    "\n",
    "\n",
    "# --- plot ISCO characteristic-strains\n",
    "# color based on chirp-mass\n",
    "smap = plot.smap(mc/MSOL, log=True)\n",
    "colors = smap.to_rgba(mc.flatten()/MSOL)\n",
    "# find which points are detectable (above LISA curve)\n",
    "ff = fisco_obs.flatten()\n",
    "hh = hc.flatten()\n",
    "sel = is_lisa_detectable(ff, hh, fobs, lisa_hc)\n",
    "print(f\"Fraction of detectable grid points: {utils.frac_str(sel)}\")\n",
    "# plot\n",
    "ax.scatter(ff[~sel], hh[~sel], alpha=0.01, s=1, facecolor=colors[~sel], label='ISCO binaries')\n",
    "ax.scatter(ff[sel], hh[sel], alpha=0.9, s=4, facecolor=colors[sel])\n",
    "\n",
    "\n",
    "plt.colorbar(smap, ax=ax, label='Chirp Mass $[M_\\odot]$')\n",
    "plt.legend(markerscale=4.0)\n",
    "plt.show()"
   ]
  },
  {
   "cell_type": "markdown",
   "metadata": {},
   "source": [
    "### Calculate Rates"
   ]
  },
  {
   "cell_type": "markdown",
   "metadata": {},
   "source": [
    "Above, we have `ndens` which is the differential number-density of binaries in bins of total mass, mass ratio, and redshift:\n",
    "$$\\frac{d^3 n}{d\\log_{10}M \\, dq \\, dz}.$$\n",
    "The number-density is\n",
    "$$n = \\frac{dN}{dV_c}$$\n",
    "for comoving volume $V_c$.\n",
    "\n",
    "$$\\frac{dN}{dt}\n",
    "    = \\int \\frac{d^2 N}{dV_c dz} \\frac{dz}{dt} \\frac{d V_c}{dz} \\frac{1}{1+z}dz \n",
    "    = \\int \\frac{d n}{dz} \\frac{dz}{dt} \\frac{d V_c}{dz} \\frac{1}{1+z}dz,$$\n",
    "where the $(1+z)$ converts from rest-frame time (RHS), to observer-frame time (LHS).\n",
    "\n",
    "We must also integrate `ndens` over total mass and mass ratio, in addition to redshift, but the integrands in the above equations have no explicit $M$ or $q$ dependence, so that can be done independently."
   ]
  },
  {
   "cell_type": "code",
   "execution_count": null,
   "metadata": {},
   "outputs": [],
   "source": [
    "# Get cosmological factors\n",
    "# (Z,) units of [1/sec]\n",
    "dzdt = 1.0 / cosmo.dtdz(redz)\n",
    "# `ndens` is in units of [Mpc^-3], so make sure dVc/dz matches: [Mpc^3]\n",
    "dVcdz = cosmo.dVcdz(redz, cgs=False).to('Mpc3').value\n",
    "\n",
    "# --- Use trapezoid rule to integrate over redshift (last dimension of `ndens`)\n",
    "# (Z,)\n",
    "integ = dzdt * dVcdz / (1.0 + redz)\n",
    "# (M, Q, Z)\n",
    "integ = ndens * integ\n",
    "# multiple by boolean array of detectable elements (i.e. zero out non-detectable binaries)\n",
    "integ *= sel.reshape(ndens.shape)\n",
    "# (Z-1,)\n",
    "dz = np.diff(redz)\n",
    "# perform 'integration', but don't sum over redshift bins\n",
    "# (M, Q, Z-1)\n",
    "rate = 0.5 * (integ[:, :, :-1] + integ[:, :, 1:]) * dz\n",
    "\n",
    "# ---- Integrate over mass and mass-ratio\n",
    "# (M-1,)\n",
    "dlogm = np.diff(np.log10(mtot))\n",
    "# (Q-1,)\n",
    "dq = np.diff(mrat)\n",
    "# (M-1, Q, Z-1)\n",
    "rate = 0.5 * (rate[:-1, :, :] + rate[1:, :, :]) * dlogm[:, np.newaxis, np.newaxis]\n",
    "# (M-1, Q-1, Z-1)\n",
    "rate = 0.5 * (rate[:, :-1, :] + rate[:, 1:, :]) * dq[np.newaxis, :, np.newaxis]"
   ]
  },
  {
   "cell_type": "code",
   "execution_count": null,
   "metadata": {},
   "outputs": [],
   "source": [
    "print(f\"Rate of detections is {rate.sum()*YR:.2e} [1/yr]\")"
   ]
  },
  {
   "cell_type": "code",
   "execution_count": null,
   "metadata": {},
   "outputs": [],
   "source": [
    "fig, axes = plt.subplots(figsize=[8, 3], ncols=3, sharey=True)\n",
    "plt.subplots_adjust(wspace=0.02)\n",
    "\n",
    "units = [MSOL, 1.0, 1.0]\n",
    "direct = [-1, -1, +1]\n",
    "labels = ['total mass $[M_\\odot]$', 'mass ratio', 'redshift']\n",
    "ylab = 'detection rate $[1/\\mathrm{yr}]$'\n",
    "for ii, ax in enumerate(axes):\n",
    "    ax.grid(True, alpha=0.15)\n",
    "    ax.set(xscale='log', yscale='log', xlabel=labels[ii])\n",
    "    rr = np.moveaxis(rate, ii, 0)\n",
    "    rr = np.sum(rr, axis=(1, 2)) * YR\n",
    "\n",
    "    xx = sam.edges[ii] / units[ii]\n",
    "\n",
    "    if direct[ii] < 0:\n",
    "        yy = np.cumsum(rr[::-1])[::-1]\n",
    "    else:\n",
    "        yy = np.cumsum(rr)\n",
    "    ax.plot(xx[1:], yy, lw=2.0)\n",
    "    \n",
    "axes[0].set(ylabel=ylab, ylim=[1e-1, 1e3])    \n",
    "plt.show()"
   ]
  },
  {
   "cell_type": "markdown",
   "metadata": {},
   "source": [
    "# New Calculation"
   ]
  },
  {
   "cell_type": "code",
   "execution_count": null,
   "metadata": {},
   "outputs": [],
   "source": [
    "# SHAPE = None\n",
    "SHAPE = (31, 32, 33)\n",
    "mmbulge = holo.relations.MMBulge_KH2013()\n",
    "gsmf = holo.sams.comps.GSMF_Double_Schechter()\n",
    "\n",
    "gmr = holo.sams.comps.GMR_Illustris()\n",
    "sam = holo.sams.sam.Semi_Analytic_Model(gsmf=gsmf, gmr=gmr, mmbulge=mmbulge, shape=SHAPE)\n",
    "\n",
    "# gmt = holo.sams.comps.GMT_Power_Law()\n",
    "# gpf = holo.sams.comps.GPF_Power_Law()\n",
    "# sam = holo.sams.sam.Semi_Analytic_Model(gsmf=gsmf, gmt=gmt, gpf=gpf, mmbulge=mmbulge, shape=SHAPE)\n",
    "\n",
    "hard = holo.hardening.Fixed_Time_2PL_SAM(sam, 2*GYR)"
   ]
  },
  {
   "cell_type": "code",
   "execution_count": null,
   "metadata": {},
   "outputs": [],
   "source": [
    "redz_final, rate, fisco, hc = sam.rate_chirps(hard, integrate=False)"
   ]
  },
  {
   "cell_type": "code",
   "execution_count": null,
   "metadata": {},
   "outputs": [],
   "source": [
    "integ = sam._integrate_event_rate(rate)\n",
    "print(integ.sum()*YR)"
   ]
  },
  {
   "cell_type": "code",
   "execution_count": null,
   "metadata": {},
   "outputs": [],
   "source": [
    "fig, axes = plt.subplots(figsize=[16, 7], ncols=3)\n",
    "labels = ['total mass', 'mass ratio', 'redshift (initial)']\n",
    "for ii, ax in enumerate(axes):\n",
    "    jj = (ii+1) % 3\n",
    "    kk = (ii+2) % 3\n",
    "    ax.set(xscale='log', yscale='log', xlabel=labels[jj], ylabel=labels[kk])\n",
    "        \n",
    "    xx = sam.edges[jj]\n",
    "    yy = sam.edges[kk]\n",
    "    zz = np.sum(rate, axis=ii) * YR\n",
    "    zz = np.log10(zz)\n",
    "\n",
    "    if jj > kk:\n",
    "        zz = zz.T    \n",
    "    \n",
    "    pcm = ax.pcolormesh(xx, yy, zz.T, shading='auto')\n",
    "    plt.colorbar(pcm, ax=ax, orientation='horizontal')\n",
    "\n",
    "\n",
    "plt.show()"
   ]
  }
 ],
 "metadata": {
  "kernelspec": {
   "display_name": "py311",
   "language": "python",
   "name": "python3"
  },
  "language_info": {
   "codemirror_mode": {
    "name": "ipython",
    "version": 3
   },
   "file_extension": ".py",
   "mimetype": "text/x-python",
   "name": "python",
   "nbconvert_exporter": "python",
   "pygments_lexer": "ipython3",
   "version": "3.11.4"
  }
 },
 "nbformat": 4,
 "nbformat_minor": 2
}
