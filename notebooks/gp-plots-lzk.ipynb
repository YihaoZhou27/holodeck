{
 "cells": [
  {
   "cell_type": "markdown",
   "id": "90a15d9e-e816-4c92-9b43-30481dcdff1a",
   "metadata": {},
   "source": [
    "# Overview\n",
    "This notebook will walk you through how to use trained GPs. \n"
   ]
  },
  {
   "cell_type": "code",
   "execution_count": null,
   "id": "9b5d5305-37fe-4bc7-941a-3d7f7a8f9fce",
   "metadata": {},
   "outputs": [],
   "source": [
    "%load_ext autoreload\n",
    "%autoreload 2\n",
    "%matplotlib inline\n",
    "%config InlineBackend.figure_format = 'retina'\n",
    "\n",
    "import pickle\n",
    "import warnings\n",
    "from pathlib import Path\n",
    "from pprint import pp\n",
    "\n",
    "import h5py\n",
    "import numpy as np\n",
    "import matplotlib as mpl\n",
    "import matplotlib.pyplot as plt\n",
    "\n",
    "import holodeck as holo\n",
    "from holodeck import plot, utils\n",
    "import holodeck.gps.plotting_utils\n",
    "import holodeck.gps.sam_utils\n",
    "import holodeck.gps.gp_utils\n",
    "from holodeck.gps import plotting_utils as pu\n",
    "from holodeck.gps import sam_utils as su\n",
    "from holodeck.gps import gp_utils\n",
    "from holodeck.gps import gp_utils as gu\n",
    "from holodeck.gps.gp_utils import GaussProc\n",
    "\n",
    "\n",
    "# Silence annoying numpy errors\n",
    "np.seterr(divide='ignore', invalid='ignore', over='ignore')\n",
    "warnings.filterwarnings(\"ignore\", category=UserWarning)\n",
    "\n",
    "# Plotting settings\n",
    "mpl.rc('font', **{'family': 'serif', 'sans-serif': ['Times'], 'size': 15})\n",
    "mpl.rc('lines', solid_capstyle='round')\n",
    "mpl.rc('mathtext', fontset='cm')\n",
    "mpl.style.use('default')   # avoid dark backgrounds from dark theme vscode\n",
    "plt.rcParams.update({'grid.alpha': 0.5})"
   ]
  },
  {
   "cell_type": "code",
   "execution_count": null,
   "id": "5db5db08",
   "metadata": {},
   "outputs": [],
   "source": [
    "sim_path = Path(\n",
    "    \"/Users/lzkelley/programs/nanograv/15yr_astro_libraries/\"\n",
    "    # \"astro-02-gw\"\n",
    "    \"broad-uniform-01\"\n",
    ")\n",
    "sim_path.exists()"
   ]
  },
  {
   "cell_type": "markdown",
   "id": "93ee12c5-4049-4024-8b1f-d6d3d3feee42",
   "metadata": {},
   "source": [
    "### First, we need to read in the library"
   ]
  },
  {
   "cell_type": "code",
   "execution_count": null,
   "id": "cecf7aaa-467e-4e6a-93a4-278d8cc14bad",
   "metadata": {},
   "outputs": [],
   "source": [
    "spectra_file = sim_path.joinpath(\"sam_lib.hdf5\")\n",
    "print(\"/\".join(spectra_file.parts[-3:]), spectra_file.exists())\n",
    "spectra = h5py.File(spectra_file, \"r\")\n",
    "param_names = spectra.attrs['param_names'].astype('str')\n",
    "print(param_names)"
   ]
  },
  {
   "cell_type": "markdown",
   "id": "9e1f1c0b-5aec-4e6a-ac4a-eb6583c938b4",
   "metadata": {},
   "source": [
    "### Loading the trained GPs\n",
    "We'll load in the .PKL of trained GPs. Note that the `gaussproc` class was renamed to `GaussProc` to follow camel case standards for class names.\n",
    "\n",
    "The GPs should be named programmatically based on the library's name, so we'll use that."
   ]
  },
  {
   "cell_type": "code",
   "execution_count": null,
   "id": "24663e32-91e1-42ec-831f-3e089f80a85a",
   "metadata": {},
   "outputs": [],
   "source": [
    "import pickle\n",
    "import sys\n",
    "from pathlib import Path\n",
    "from holodeck.gps import gp_utils\n",
    "\n",
    "sys.modules['gp_utils'] = gp_utils\n",
    "\n",
    "gp_file = sim_path.joinpath(\n",
    "    # \"gp_trained/trained_gp_astro-02-gw_20230312_202655.pkl\"\n",
    "    # \"gp_trained/trained_gp_astro-02-gw_20230312_204249.pkl\"\n",
    "    # \"gp_trained/trained_gp_astro-02-gw_20230312_204349.pkl\"\n",
    "    \"gp_trained/broad-uniform-01-kernel-fits_tinygp.pkl\"\n",
    "    \n",
    ")\n",
    "\n",
    "# NOTE: THIS IS NOT WORKING because the config files are copied when the run is done... by which point its been changed!\n",
    "# test = Path(\"/\" + \"/\".join(gp_file.parts[1:-1]))\n",
    "# pat = \"2023\" + gp_file.name.split(\"_2023\")[-1].strip(\".pkl\")\n",
    "# ini_file = list(test.glob(f'*{pat}.ini'))\n",
    "# assert len(ini_file) == 1\n",
    "# gp_config = {}\n",
    "# with open(ini_file[0], 'r') as data:\n",
    "#     for line in data.readlines():\n",
    "#         line = line.strip()\n",
    "#         if len(line) == 0 or line.startswith('#') or line.startswith('['):\n",
    "#             continue\n",
    "#         print(line)\n",
    "#         line = line.split(\" = \")\n",
    "#         gp_config[line[0]] = line[1]\n",
    "\n",
    "with open(gp_file, \"rb\") as f:\n",
    "    gp_george = pickle.load(f, )"
   ]
  },
  {
   "attachments": {},
   "cell_type": "markdown",
   "id": "eaba56db",
   "metadata": {},
   "source": [
    "## Examine Chains"
   ]
  },
  {
   "cell_type": "code",
   "execution_count": null,
   "id": "49e531f2",
   "metadata": {},
   "outputs": [],
   "source": [
    "gp_params = ['amp',] + param_names.tolist()\n",
    "print(gp_params)"
   ]
  },
  {
   "attachments": {},
   "cell_type": "markdown",
   "id": "45fdd132",
   "metadata": {},
   "source": [
    "### Corner plot the samples"
   ]
  },
  {
   "cell_type": "code",
   "execution_count": null,
   "id": "f8ce9a33",
   "metadata": {},
   "outputs": [],
   "source": [
    "skip = 4\n",
    "gp = gp_george[0]\n",
    "samples = gp.emcee_flatchain\n",
    "print(samples.shape)\n",
    "nsamp = samples.shape[0]\n",
    "print(nsamp/96)\n",
    "nwalk = 96\n",
    "nsamp = 2000\n",
    "print(nwalk, nsamp, nwalk*nsamp, samples.shape[0]/nwalk/nsamp)\n",
    "assert samples.shape[0] == nwalk * nsamp\n",
    "samples = samples.reshape(nwalk, nsamp, -1)\n",
    "print(samples.shape)\n",
    "samples = samples[::skip, ::skip, :].reshape(-1, samples.shape[-1])\n",
    "print(samples.shape)\n",
    "# kale.corner(samples[:1000, :].T)\n",
    "import corner\n",
    "corner.corner(samples, labels=gp_params)\n",
    "plt.show()"
   ]
  },
  {
   "attachments": {},
   "cell_type": "markdown",
   "id": "4e4afd4a",
   "metadata": {},
   "source": [
    "### Plot the progression of each parameter vs chain steps"
   ]
  },
  {
   "cell_type": "code",
   "execution_count": null,
   "id": "ca264bee",
   "metadata": {},
   "outputs": [],
   "source": [
    "skip = 4\n",
    "gp = gp_george[0]\n",
    "npars = len(gp_params)\n",
    "fig, axes = plot.figax(figsize=[8, 3*npars], nrows=npars, scale='lin', sharex=True, xlabel='chain step')\n",
    "zz = gp.emcee_flatlnprob[::skip]\n",
    "smap = plot.smap(zz, cmap='Spectral')\n",
    "colors = smap.to_rgba(zz)\n",
    "for ii, ax in enumerate(axes):\n",
    "    ax.set(ylabel=gp_params[ii])\n",
    "    yy = gp.emcee_flatchain[::skip, ii]\n",
    "    ax.scatter(1+np.arange(yy.size), yy, facecolor=colors, edgecolor='0.25', lw=0.1, alpha=0.25, s=5)\n",
    "    \n",
    "cax = fig.add_axes([0.95, 0.2, 0.02, 0.6])\n",
    "plt.colorbar(smap, cax=cax, label='lnprob')\n",
    "plt.show()"
   ]
  },
  {
   "attachments": {},
   "cell_type": "markdown",
   "id": "a090b1e9",
   "metadata": {},
   "source": [
    "### Plot the parameters vs. lnprob"
   ]
  },
  {
   "cell_type": "code",
   "execution_count": null,
   "id": "25fc4415",
   "metadata": {},
   "outputs": [],
   "source": [
    "gp = gp_george[0]\n",
    "npars = len(gp_params)\n",
    "fig, axes = plot.figax(figsize=[8, 3*npars], nrows=npars, scale='lin', xlabel='lnprob')\n",
    "zz = gp.emcee_flatlnprob\n",
    "smap = plot.smap([0.0, 1.0], cmap='Spectral')\n",
    "colors = smap.to_rgba(np.linspace(0.0, 1.0, zz.size))\n",
    "for ii, ax in enumerate(axes):\n",
    "    ax.set(ylabel=gp_params[ii])\n",
    "    xx = gp.emcee_flatchain[:, ii]\n",
    "    ax.scatter(zz, xx, c=colors, s=3, alpha=0.2)\n",
    "\n",
    "cax = fig.add_axes([0.95, 0.2, 0.02, 0.6])\n",
    "plt.colorbar(smap, cax=cax)    \n",
    "plt.show()"
   ]
  },
  {
   "attachments": {},
   "cell_type": "markdown",
   "id": "646b1a1a",
   "metadata": {},
   "source": [
    "## Examine predictions"
   ]
  },
  {
   "cell_type": "markdown",
   "id": "16eecdda-6192-4236-9d24-35932149e551",
   "metadata": {},
   "source": [
    "### Setting up GP predictions\n",
    "Here we prepare the GPs for predictions.\n",
    "It's possible that the older models have byte strings instead of strings as their dictionary keys. If so, copy the below code and run it immediately after this cell.\n",
    "```python\n",
    "for gp in gp_george:\n",
    "    gp.par_dict = { key.decode('ascii'): gp.par_dict.get(key) for key in gp.par_dict.keys() }\n",
    "```"
   ]
  },
  {
   "cell_type": "code",
   "execution_count": null,
   "id": "ca6f9e36-a7d5-4293-81fb-8fff71503eb4",
   "metadata": {},
   "outputs": [],
   "source": [
    "gp = gu.set_up_predictions(gp_george)\n",
    "breaker()"
   ]
  },
  {
   "attachments": {},
   "cell_type": "markdown",
   "id": "57fb808d",
   "metadata": {},
   "source": [
    "## Plot Each Parameter 1D"
   ]
  },
  {
   "cell_type": "code",
   "execution_count": null,
   "id": "04fcb2e3",
   "metadata": {},
   "outputs": [],
   "source": [
    "def get_binned_med_std_1d(xx, yy, nbins=10):\n",
    "    assert np.ndim(yy) == 2\n",
    "    assert np.shape(xx)[0] == np.shape(yy)[0]\n",
    "    if np.ndim(xx) == 1:\n",
    "        xx = xx[:, np.newaxis] * np.ones_like(yy)\n",
    "    elif np.shape(xx) != np.shape(yy):\n",
    "        raise ValueError\n",
    "    \n",
    "    bins = kale.utils.spacing(xx[:, 0], 'lin', nbins+1, stretch=0.1)\n",
    "\n",
    "    med, *_ = sp.stats.binned_statistic(xx.flatten(), yy.flatten(), bins=bins, statistic='median')\n",
    "\n",
    "    std, *_ = sp.stats.binned_statistic(xx.flatten(), yy.flatten(), bins=bins, statistic='std')\n",
    "\n",
    "    ylo = med - std\n",
    "    ylo = [[ylo[ii], ylo[ii]] for ii in range(ylo.size)]\n",
    "    ylo = np.array(ylo).flatten()\n",
    "    yhi = med + std\n",
    "    edges, yhi = plot._get_hist_steps(bins, yhi)\n",
    "    return bins, med, edges, ylo, yhi\n",
    "\n",
    "\n",
    "def draw_spectra_strains_and_gp_strains_at_freq__vs_param(ax, freq_idx, par_idx, sample_params, gp_george, gps):\n",
    "    test_ind = int(sample_params.shape[0] * TEST_FRAC)\n",
    "    pars_all = sample_params[test_ind:, :]\n",
    "    pars = pars_all[:, par_idx]\n",
    "    gpg = gp_george[freq_idx]\n",
    "    gp_trained = gps[freq_idx]\n",
    "\n",
    "    gwb = spectra['gwb'][test_ind:, freq_idx, :]\n",
    "    sort_idx = np.argsort(pars)\n",
    "\n",
    "    xx = pars[sort_idx]\n",
    "    yy = np.log10(gwb[sort_idx])\n",
    "    xx_yy = xx[:, np.newaxis] * np.ones_like(yy)\n",
    "    cc = ax.scatter(xx_yy, yy, alpha=0.2, s=4, zorder=2)\n",
    "    cc = cc.get_facecolor()\n",
    "    ax.scatter([], [], color=cc, label='library', alpha=1.0, s=15)\n",
    "\n",
    "    bins, med, edges, ylo, yhi = get_binned_med_std_1d(xx_yy, yy)\n",
    "    plot.draw_hist_steps(ax, bins, med, zorder=9, color='0.75', lw=5.0, alpha=0.5)\n",
    "    plot.draw_hist_steps(ax, bins, med, zorder=10, color=cc, lw=2.0, alpha=1.0)\n",
    "    ax.fill_between(edges, ylo, yhi, zorder=10, color=cc, alpha=0.2)\n",
    "\n",
    "    # Move number of realizations to 1th dimension, (R, S) ==> (S, R) \n",
    "    hc = gp_trained.sample_conditional(gpg.y, pars_all, size=yy.shape[1]).T\n",
    "\n",
    "    hc = gpg.mean_spectra + hc\n",
    "    hc = np.log10(np.sqrt(10.0 ** hc))\n",
    "    cc = ax.scatter(xx_yy, hc, alpha=0.15, s=10, zorder=2, marker='.', edgecolor='0.25', lw=0.1)\n",
    "    cc = cc.get_facecolor()\n",
    "    ax.scatter([], [], color=cc, label='GP samples', alpha=1.0, s=30)\n",
    "\n",
    "    bins, med, edges, ylo, yhi = get_binned_med_std_1d(xx_yy, hc)\n",
    "    plot.draw_hist_steps(ax, bins, med, zorder=9, color='0.75', lw=5.0, alpha=0.5)\n",
    "    plot.draw_hist_steps(ax, bins, med, zorder=10, color=cc, lw=2.0, alpha=1.0)\n",
    "    ax.fill_between(edges, ylo, yhi, zorder=10, color=cc, alpha=0.2)\n",
    "\n",
    "    yextr = kale.utils.minmax(yy, stretch=1.0)\n",
    "    ax.set(ylim=yextr)\n",
    "    return\n",
    "\n",
    "freq_idx = 0\n",
    "\n",
    "# par_idx = 1\n",
    "# fig, ax = plot.figax(scale='lin')\n",
    "# ax.set(xlabel=param_names[par_idx], ylabel='$\\log_{10}(h_c)$')\n",
    "# draw_spectra_strains_and_gp_strains_at_freq__vs_param(ax, freq_idx, par_idx, sample_params, gp_george, gps)\n",
    "\n",
    "npars = len(param_names)\n",
    "fig, axes = plot.figax(figsize=[8, 3*npars], nrows=npars, scale='lin', hspace=0.35)\n",
    "for par_idx, ax in enumerate(axes):\n",
    "    ax.set(xlabel=param_names[par_idx], ylabel='$\\log_{10}(h_c)$')\n",
    "    draw_spectra_strains_and_gp_strains_at_freq__vs_param(ax, freq_idx, par_idx, sample_params, gp_george, gps)\n",
    "    if par_idx == 0:\n",
    "        ax.legend()\n",
    "\n",
    "plt.show()\n"
   ]
  },
  {
   "cell_type": "markdown",
   "id": "46f3ba5d-20c4-4e0d-91c6-49bb98fff05b",
   "metadata": {},
   "source": [
    "### Choosing what to hold constant\n",
    "In the following cell, a `mean_pars` dictionary is created. This contains the mean value of the parameter over its allowed range. This values in this dictionary tell the plotting routines what constant values to use. Feel free to construct your own with different values. Each `gp_george` has a `gp_george.par_dict` that contains each parameter and its allowed range. \n",
    "\n",
    "Another example constant dictionary you could create is one of the minimum values\n",
    "```python\n",
    "min_pars = {key:gp_george[0].par_dict[key]['min'] for key in gp_george[0].par_dict.keys()}\n",
    "```"
   ]
  },
  {
   "cell_type": "code",
   "execution_count": null,
   "id": "c787a877",
   "metadata": {},
   "outputs": [],
   "source": []
  },
  {
   "cell_type": "code",
   "execution_count": null,
   "id": "71bae266-e4d3-4e05-84e2-574643dfadc7",
   "metadata": {},
   "outputs": [],
   "source": [
    "mean_pars = gu.mean_par_dict(gp_george)\n",
    "pp(mean_pars)"
   ]
  },
  {
   "cell_type": "code",
   "execution_count": null,
   "id": "9f7b0b4c-816c-4359-a480-3147544f3153",
   "metadata": {},
   "outputs": [],
   "source": [
    "pp(gp_george[0].par_dict)"
   ]
  },
  {
   "cell_type": "markdown",
   "id": "b5c6652d-4d0f-4568-ac98-2b6f28216b7d",
   "metadata": {},
   "source": [
    "### Plotting individual parameters\n",
    "The following cell will plot GWBs while varying the parameter of interest with other parameters held constant. You may choose whether to calculate smoothed-mean GWBs from a SAM to overlay. The avaiable SAM configurations are in `sam_utils.py`\n",
    "\n"
   ]
  },
  {
   "cell_type": "code",
   "execution_count": null,
   "id": "0b337775-a4cc-408b-8173-160ebfcf5e45",
   "metadata": {},
   "outputs": [],
   "source": [
    "# sam_model = su.Hard04()\n",
    "sam_model = holo.param_spaces.PS_Broad_Uniform_01"
   ]
  },
  {
   "cell_type": "code",
   "execution_count": null,
   "id": "919fb121-e63e-4fe0-b220-cedfc5c0c877",
   "metadata": {},
   "outputs": [],
   "source": [
    "sam_model.param_names"
   ]
  },
  {
   "cell_type": "code",
   "execution_count": null,
   "id": "05993866-5f18-43c4-8d27-33acff651c30",
   "metadata": {
    "tags": []
   },
   "outputs": [],
   "source": [
    "pu.plot_individual_parameter(\n",
    "    gp_george,\n",
    "    gp,\n",
    "    mean_pars,\n",
    "    \"hard_time\",\n",
    "    spectra,\n",
    "    find_sam_mean=True,\n",
    "    model=sam_model.model_for_params,\n",
    "    plot_dir=\"/Users/lzkelley/Programs/nanograv/holodeck/output/gps\",\n",
    "    nreal=10,\n",
    "    num_points=5\n",
    ")"
   ]
  },
  {
   "cell_type": "markdown",
   "id": "8c97fd8f-eb9d-4b52-b76b-9862a6e12c89",
   "metadata": {},
   "source": [
    "### Getting back numerical values\n",
    "`plotting_utils.plot_individual_parameter()` can optionally return numerical results"
   ]
  },
  {
   "cell_type": "code",
   "execution_count": null,
   "id": "2a6147d5-fd37-4752-8ffc-0bf4001c150b",
   "metadata": {},
   "outputs": [],
   "source": [
    "?pu.plot_individual_parameter"
   ]
  },
  {
   "cell_type": "markdown",
   "id": "2acf008e-a2cd-4100-8a3b-ab7ee395df01",
   "metadata": {},
   "source": [
    "### Plotting all parameters\n",
    "The following cell will plot GWBs for each paramter, shading the regions in between the extrema. Once again, the values held constant are specified by `mean_pars`, but you can supply your own."
   ]
  },
  {
   "cell_type": "code",
   "execution_count": null,
   "id": "e971d0cb-6a3f-4f64-a98b-5b62838b5f48",
   "metadata": {},
   "outputs": [],
   "source": [
    "pu.plot_parameter_variances(\n",
    "    gp_george, gp, mean_pars, spectra, alpha=0.65, plot_dir=\"plots\"\n",
    ")"
   ]
  },
  {
   "cell_type": "markdown",
   "id": "1788980c-0193-42d0-8996-b38604dadecc",
   "metadata": {},
   "source": [
    "### Plotting prediction over the data from the library\n",
    "In the following cell, you can plot the GP's prediction on top of all of the realizations for a given parameter combination from the training data. If you reserved a training set, this would be a good place to choose an index that lies within the training set."
   ]
  },
  {
   "cell_type": "code",
   "execution_count": null,
   "id": "80c2f60f-a7f9-4ded-b012-0bd54d6cc687",
   "metadata": {},
   "outputs": [],
   "source": [
    "index = 300\n",
    "pu.plot_over_realizations(index, spectra, gp_george, gp)"
   ]
  },
  {
   "cell_type": "markdown",
   "id": "a0558eae-0391-450f-9223-bdee1391dc0c",
   "metadata": {},
   "source": [
    "### Drawing from the emcee chain\n",
    "Below, you'll see an example of drawing $h_\\rm{c}(f)$ samples from the emcee chain. "
   ]
  },
  {
   "cell_type": "code",
   "execution_count": null,
   "id": "0fd6347b-2e46-4652-8c9f-97e2b7ff25ee",
   "metadata": {},
   "outputs": [],
   "source": [
    "# Parameters from above plot\n",
    "use_pars = [-4.95E-01, -6.01E-01, 2.13E+00, 1.57E+00, -2.03E+00, 8.48E+00]\n",
    "\n",
    "# To use mean_pars, see below\n",
    "#hc = gu.sample_hc_from_gp(gp_george, gp, list(mean_pars.values()), 100)\n",
    "\n",
    "\n",
    "# I'm using the parameters from above because the spectra for the mean parameters are rather simple\n",
    "hc = gu.sample_hc_from_gp(gp_george, gp, use_pars, 100)"
   ]
  },
  {
   "cell_type": "code",
   "execution_count": null,
   "id": "da37fa7b-f2d1-48a9-b41d-6a5d5debf2a7",
   "metadata": {},
   "outputs": [],
   "source": [
    "?gu.sample_hc_from_gp"
   ]
  },
  {
   "cell_type": "code",
   "execution_count": null,
   "id": "b5d79a42-4741-4ec2-90c1-84547a9a7110",
   "metadata": {},
   "outputs": [],
   "source": [
    "freqs = spectra[\"fobs\"][: hc.shape[1]]\n",
    "for i in range(hc.shape[0]):\n",
    "    plt.loglog(freqs, hc[i, :], color=\"#4682b4\", alpha=0.3)\n",
    "\n",
    "plt.xlabel(\"Observed GW Frequency [Hz]\")\n",
    "plt.ylabel(r\"$h_{c} (f)$\")"
   ]
  }
 ],
 "metadata": {
  "kernelspec": {
   "display_name": "py310",
   "language": "python",
   "name": "python3"
  },
  "language_info": {
   "codemirror_mode": {
    "name": "ipython",
    "version": 3
   },
   "file_extension": ".py",
   "mimetype": "text/x-python",
   "name": "python",
   "nbconvert_exporter": "python",
   "pygments_lexer": "ipython3",
   "version": "3.10.9"
  },
  "vscode": {
   "interpreter": {
    "hash": "1f0c7602c82e39efa19a01e5e068584db7a6d17aff8711ab06660aac81377393"
   }
  }
 },
 "nbformat": 4,
 "nbformat_minor": 5
}
