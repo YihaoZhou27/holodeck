{
 "cells": [
  {
   "cell_type": "code",
   "execution_count": null,
   "id": "f9a9d9bc",
   "metadata": {},
   "outputs": [],
   "source": [
    "# %load ../init.ipy\n",
    "%reload_ext autoreload\n",
    "%autoreload 2\n",
    "from importlib import reload\n",
    "\n",
    "import os\n",
    "import sys\n",
    "import logging\n",
    "import warnings\n",
    "import numpy as np\n",
    "import astropy as ap\n",
    "import scipy as sp\n",
    "import scipy.stats\n",
    "import matplotlib as mpl\n",
    "import matplotlib.pyplot as plt\n",
    "\n",
    "import h5py\n",
    "import tqdm.notebook as tqdm\n",
    "\n",
    "import kalepy as kale\n",
    "import kalepy.utils\n",
    "import kalepy.plot\n",
    "\n",
    "import holodeck as holo\n",
    "import holodeck.sam\n",
    "from holodeck import cosmo, utils, plot\n",
    "from holodeck.constants import MSOL, PC, YR, MPC, GYR\n",
    "\n",
    "# Silence annoying numpy errors\n",
    "np.seterr(divide='ignore', invalid='ignore', over='ignore')\n",
    "warnings.filterwarnings(\"ignore\", category=UserWarning)\n",
    "\n",
    "# Plotting settings\n",
    "mpl.rc('font', **{'family': 'serif', 'sans-serif': ['Times'], 'size': 15})\n",
    "mpl.rc('lines', solid_capstyle='round')\n",
    "mpl.rc('mathtext', fontset='cm')\n",
    "mpl.style.use('default')   # avoid dark backgrounds from dark theme vscode\n",
    "plt.rcParams.update({'grid.alpha': 0.5})\n",
    "\n",
    "log = holo.log\n",
    "log.setLevel(logging.INFO)"
   ]
  },
  {
   "cell_type": "code",
   "execution_count": null,
   "id": "7dacb18d",
   "metadata": {},
   "outputs": [],
   "source": [
    "gsmf = holo.sam.GSMF_Schechter()        # Galaxy Stellar-Mass Function (GSMF)\n",
    "gpf = holo.sam.GPF_Power_Law()          # Galaxy Pair Fraction         (GPF)\n",
    "gmt = holo.sam.GMT_Power_Law()          # Galaxy Merger Time           (GMT)\n",
    "mmbulge = holo.relations.MMBulge_Standard()     # M-MBulge Relation            (MMB)\n",
    "\n",
    "# shape = (150, 151, 152)\n",
    "shape = (30, 31, 32)\n",
    "shape = None\n",
    "\n",
    "print(f\"{shape=}\")\n",
    "sam = holo.sam.Semi_Analytic_Model(gsmf=gsmf, gpf=gpf, gmt=gmt, mmbulge=mmbulge, shape=shape)\n",
    "print(f\"{sam.shape=}\")"
   ]
  },
  {
   "cell_type": "code",
   "execution_count": null,
   "id": "495ec671",
   "metadata": {},
   "outputs": [],
   "source": [
    "print(sam.shape)\n",
    "breaker()\n"
   ]
  },
  {
   "cell_type": "code",
   "execution_count": null,
   "id": "5b497346",
   "metadata": {},
   "outputs": [],
   "source": [
    "# Choose observed GW-Frequency bins based on nyquist sampling\n",
    "fobs = utils.nyquist_freqs(10.0*YR, 0.1*YR)\n",
    "# fobs = utils.nyquist_freqs(10.0*YR, 1.0*YR)\n",
    "# fobs = utils.nyquist_freqs(10.0*YR, 1.0*YR)\n",
    "# print(fobs.size, fobs.min(), fobs.max())\n",
    "fobs = kale.utils.spacing(fobs, scale='log', num=fobs.size)\n",
    "# print(fobs.size, fobs.min(), fobs.max())"
   ]
  },
  {
   "cell_type": "code",
   "execution_count": null,
   "id": "59d5e238",
   "metadata": {},
   "outputs": [],
   "source": [
    "vals, weights, edges, dens, mass = holo.sam.sample_sam_with_hardening(\n",
    "        sam, holo.evolution.Hard_GW, fobs=fobs,\n",
    "        sample_threshold=5.0, cut_below_mass=3e7, limit_merger_time=4*GYR,\n",
    ")"
   ]
  },
  {
   "cell_type": "code",
   "execution_count": null,
   "id": "fdad4132",
   "metadata": {},
   "outputs": [],
   "source": [
    "# gwf_freqs, gwf, gwb = holo.sam._gws_from_samples(vals, weights, fobs)"
   ]
  },
  {
   "cell_type": "code",
   "execution_count": null,
   "id": "49ba532f",
   "metadata": {},
   "outputs": [],
   "source": [
    "gwb_smooth = sam.gwb(fobs, realize=False)\n",
    "gwb_rough = sam.gwb(fobs, realize=10)"
   ]
  },
  {
   "cell_type": "code",
   "execution_count": null,
   "id": "7708eae8",
   "metadata": {},
   "outputs": [],
   "source": [
    "SAMP_NREALS = 10\n",
    "gwb = np.zeros((fobs.size-1, SAMP_NREALS))\n",
    "gwf = np.zeros((fobs.size-1, SAMP_NREALS))\n",
    "for ii in utils.tqdm(range(SAMP_NREALS)):\n",
    "    gwf_freqs, gwf[:, ii], gwb[:, ii] = holo.sam.sampled_gws_from_sam(\n",
    "        sam, fobs=fobs, hard=holo.evolution.Hard_GW, \n",
    "        sample_threshold=3.0, cut_below_mass=1e6, limit_merger_time=None,\n",
    "    )\n",
    "    # gwb[:, ii] = np.sqrt(_gwb[:]**2 + gwf**2)"
   ]
  },
  {
   "cell_type": "code",
   "execution_count": null,
   "id": "48bd305e",
   "metadata": {},
   "outputs": [],
   "source": [
    "fig, ax = plot.figax()\n",
    "\n",
    "def plot_gwb(xx, yy, **kwargs):\n",
    "    cc, = ax.plot(xx, np.median(yy, axis=-1), ls='--', **kwargs)\n",
    "    cc = cc.get_color()\n",
    "    temp = np.percentile(yy, [25, 75], axis=-1)\n",
    "    ax.fill_between(xx, *temp, color=cc, alpha=0.25)    \n",
    "    return\n",
    "\n",
    "xx = kale.utils.midpoints(fobs) * YR   # [1/sec] ==> [1/yr]\n",
    "\n",
    "amp = 10e-16\n",
    "yy = amp * np.power(xx, -2/3)\n",
    "ax.plot(xx, yy, 'k--', alpha=0.25)\n",
    "\n",
    "ax.plot(xx, gwb_smooth, 'b:')\n",
    "plot_gwb(xx, gwb_rough, label='roughed')\n",
    "if np.ndim(gwb) == 1:\n",
    "    ax.plot(xx, gwb, 'k-', alpha=0.25)\n",
    "else:\n",
    "    plot_gwb(xx, np.sqrt(gwb**2 + gwf**2), label='sampled')\n",
    "\n",
    "plt.legend()\n",
    "plt.show()\n",
    "# fig.savefig('temp.png')"
   ]
  },
  {
   "cell_type": "markdown",
   "id": "08a294b1",
   "metadata": {},
   "source": [
    "# Manual"
   ]
  },
  {
   "cell_type": "code",
   "execution_count": null,
   "id": "99afa0b2",
   "metadata": {},
   "outputs": [],
   "source": [
    "vals, weights, edges, dens, mass = holo.sam.sample_sam_with_hardening(\n",
    "        sam, holo.evolution.Hard_GW, fobs=fobs,\n",
    "        sample_threshold=5.0, cut_below_mass=None, limit_merger_time=None,\n",
    ")"
   ]
  },
  {
   "cell_type": "code",
   "execution_count": null,
   "id": "6c5f0e67",
   "metadata": {},
   "outputs": [],
   "source": [
    "kale.utils.jshape(edges)"
   ]
  },
  {
   "cell_type": "code",
   "execution_count": null,
   "id": "877253f1",
   "metadata": {},
   "outputs": [],
   "source": [
    "counts, _ = np.histogramdd(vals.T, bins=edges, weights=weights)\n",
    "print(counts.shape)"
   ]
  },
  {
   "cell_type": "code",
   "execution_count": null,
   "id": "e0a05009",
   "metadata": {},
   "outputs": [],
   "source": [
    "import zcode\n",
    "import zcode.math as zmath"
   ]
  },
  {
   "cell_type": "code",
   "execution_count": null,
   "id": "57471736",
   "metadata": {},
   "outputs": [],
   "source": [
    "LOG = True\n",
    "idx = (None, 0, 0, None)\n",
    "print(counts[idx].squeeze().shape)\n",
    "print(mass[idx].squeeze().shape)\n",
    "\n",
    "fig, axes = plt.subplots(figsize=[10, 4], ncols=2)\n",
    "extr = zmath.minmax(mass, prev=zmath.minmax(counts), limit=[0.5, None])\n",
    "if LOG:\n",
    "    extr = np.log10(extr)\n",
    "smap = plot.smap(extr)\n",
    "print(f\"{extr=}\")\n",
    "for ii, (ax, qq) in enumerate(zip(axes, [counts, mass])):\n",
    "    qq = qq[idx].squeeze()\n",
    "    if LOG:\n",
    "        qq = np.log10(qq)\n",
    "    ax.pcolormesh(qq, cmap=smap.cmap, norm=smap.norm)\n",
    "    \n",
    "plt.colorbar(smap)\n",
    "plt.show()"
   ]
  },
  {
   "cell_type": "code",
   "execution_count": null,
   "id": "bb1816b8",
   "metadata": {},
   "outputs": [],
   "source": [
    "mc = utils.chirp_mass(*utils.m1m2_from_mtmr(vals[0], vals[1]))\n",
    "rz = vals[2]\n",
    "fo = vals[3]\n",
    "frst = utils.frst_from_fobs(fo, rz)\n",
    "dc = cosmo.comoving_distance(rz).cgs.value\n",
    "hs = utils.gw_strain_source(mc, dc, frst)\n",
    "print(hs.shape, fo.shape, weights.shape)"
   ]
  },
  {
   "cell_type": "code",
   "execution_count": null,
   "id": "201e8f57",
   "metadata": {},
   "outputs": [],
   "source": [
    "idx = np.argsort(fo)\n",
    "fo = fo[idx]\n",
    "hs = hs[idx]\n",
    "weights = weights[idx]\n",
    "\n",
    "idx = np.digitize(fo, fobs) - 1\n",
    "gwb = np.zeros(fobs.size-1)\n",
    "\n",
    "for ii in utils.tqdm(range(gwb.size)):\n",
    "    sel = (idx == ii)\n",
    "    temp = weights[sel] * (hs[sel] ** 2)\n",
    "    gwb[ii] = np.sum(temp)\n",
    "    \n",
    "gwb = np.sqrt(gwb)"
   ]
  },
  {
   "cell_type": "code",
   "execution_count": null,
   "id": "4545272f",
   "metadata": {},
   "outputs": [],
   "source": [
    "fig, ax = plot.figax()\n",
    "\n",
    "def plot_gwb(xx, yy, **kwargs):\n",
    "    cc, = ax.plot(xx, np.median(yy, axis=-1), ls='--', **kwargs)\n",
    "    cc = cc.get_color()\n",
    "    temp = np.percentile(yy, [25, 75], axis=-1)\n",
    "    ax.fill_between(xx, *temp, color=cc, alpha=0.25)    \n",
    "    return\n",
    "\n",
    "xx = kale.utils.midpoints(fobs) * YR   # [1/sec] ==> [1/yr]\n",
    "\n",
    "amp = 10e-16\n",
    "yy = amp * np.power(xx, -2/3)\n",
    "ax.plot(xx, yy, 'k--', alpha=0.25)\n",
    "ax.plot(xx, gwb, 'k-', alpha=0.25)\n",
    "\n",
    "ax.plot(xx, gwb_smooth, 'b:')\n",
    "plot_gwb(xx, gwb_rough, label='roughed')\n",
    "# plot_gwb(xx, gwb, label='sampled')\n",
    "\n",
    "plt.legend()\n",
    "plt.show()"
   ]
  },
  {
   "cell_type": "markdown",
   "id": "0a9653ef",
   "metadata": {},
   "source": [
    "# Number of Sources vs. Frequency"
   ]
  },
  {
   "cell_type": "code",
   "execution_count": null,
   "id": "cea4b0ea",
   "metadata": {},
   "outputs": [],
   "source": [
    "NUM_REALS = 10\n",
    "vals = []\n",
    "weights = []\n",
    "for ii in holo.utils.tqdm(range(NUM_REALS)):\n",
    "    _vals, _weights, edges, dens, mass = holo.sam.sample_sam_with_hardening(\n",
    "            sam, holo.evolution.Hard_GW, fobs=fobs,\n",
    "            sample_threshold=5.0, cut_below_mass=None, limit_merger_time=None,\n",
    "    )\n",
    "    vals.append(_vals)\n",
    "    weights.append(_weights)"
   ]
  },
  {
   "cell_type": "code",
   "execution_count": null,
   "id": "33a9d5d3",
   "metadata": {},
   "outputs": [],
   "source": [
    "edges[0].shape"
   ]
  },
  {
   "cell_type": "code",
   "execution_count": null,
   "id": "c87b8cc5",
   "metadata": {},
   "outputs": [],
   "source": [
    "num_fobs = fobs.size\n",
    "# MASS_MIN = 1.0e9 * MSOL\n",
    "MASS_MIN = 0.0\n",
    "num = np.zeros((num_fobs, NUM_REALS))\n",
    "\n",
    "for ii in holo.utils.tqdm(range(NUM_REALS)):\n",
    "    fo = vals[ii][-1]\n",
    "    idx = np.digitize(fo, fobs) - 1\n",
    "    for jj in range(num_fobs):\n",
    "        sel = (idx == jj) & (vals[ii][0] > MASS_MIN)\n",
    "        num[jj, ii] = np.sum(weights[ii][sel])\n",
    "        \n",
    "sel = (kale.utils.midpoints(edges[0]) > MASS_MIN)\n",
    "idx = list(np.arange(mass.ndim))\n",
    "idx.pop(mass.ndim - 1)\n",
    "sam_num = np.sum(mass[sel], axis=tuple(idx))"
   ]
  },
  {
   "cell_type": "code",
   "execution_count": null,
   "id": "69c7de25",
   "metadata": {},
   "outputs": [],
   "source": [
    "def get_steps(xx, yy):\n",
    "    aa = [[xx[ii], xx[ii+1]] for ii in range(fobs.size-1)]\n",
    "    bb = [[yy[ii], yy[ii]] for ii in range(fobs.size-1)]\n",
    "    aa = np.array(aa).flatten()\n",
    "    bb = np.array(bb).flatten()\n",
    "    return aa, bb"
   ]
  },
  {
   "cell_type": "code",
   "execution_count": null,
   "id": "9faa1ac1",
   "metadata": {},
   "outputs": [],
   "source": [
    "fig, ax = plot.figax()\n",
    "xx = fobs*YR\n",
    "# ax.plot(xx, num)\n",
    "ax.plot(kale.utils.midpoints(xx), num.mean(axis=-1)[:-1], 'b-')\n",
    "ax.plot(kale.utils.midpoints(xx), sam_num, 'r--')\n",
    "\n",
    "aa, bb = get_steps(xx, sam_num)\n",
    "ax.plot(aa, bb, 'r:')\n",
    "plt.show()"
   ]
  }
 ],
 "metadata": {
  "interpreter": {
   "hash": "61b4062b24dfb1010f420dad5aa3bd73a4d2af47d0ec44eafec465a35a9d7239"
  },
  "kernelspec": {
   "display_name": "Python 3.9.7 64-bit ('py39': conda)",
   "name": "python3"
  },
  "language_info": {
   "codemirror_mode": {
    "name": "ipython",
    "version": 3
   },
   "file_extension": ".py",
   "mimetype": "text/x-python",
   "name": "python",
   "nbconvert_exporter": "python",
   "pygments_lexer": "ipython3",
   "version": "3.9.12"
  },
  "toc": {
   "base_numbering": 1,
   "nav_menu": {},
   "number_sections": true,
   "sideBar": true,
   "skip_h1_title": false,
   "title_cell": "Table of Contents",
   "title_sidebar": "Contents",
   "toc_cell": false,
   "toc_position": {
    "height": "calc(100% - 180px)",
    "left": "10px",
    "top": "150px",
    "width": "165px"
   },
   "toc_section_display": true,
   "toc_window_display": true
  },
  "varInspector": {
   "cols": {
    "lenName": 16,
    "lenType": 16,
    "lenVar": 40
   },
   "kernels_config": {
    "python": {
     "delete_cmd_postfix": "",
     "delete_cmd_prefix": "del ",
     "library": "var_list.py",
     "varRefreshCmd": "print(var_dic_list())"
    },
    "r": {
     "delete_cmd_postfix": ") ",
     "delete_cmd_prefix": "rm(",
     "library": "var_list.r",
     "varRefreshCmd": "cat(var_dic_list()) "
    }
   },
   "types_to_exclude": [
    "module",
    "function",
    "builtin_function_or_method",
    "instance",
    "_Feature"
   ],
   "window_display": false
  }
 },
 "nbformat": 4,
 "nbformat_minor": 5
}
