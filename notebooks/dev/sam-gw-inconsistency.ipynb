{
 "cells": [
  {
   "cell_type": "code",
   "execution_count": null,
   "id": "f9a9d9bc",
   "metadata": {},
   "outputs": [],
   "source": [
    "# %load ../init.ipy\n",
    "%reload_ext autoreload\n",
    "%autoreload 2\n",
    "from importlib import reload\n",
    "\n",
    "import os\n",
    "import sys\n",
    "import logging\n",
    "import warnings\n",
    "import numpy as np\n",
    "import astropy as ap\n",
    "import scipy as sp\n",
    "import scipy.stats\n",
    "import matplotlib as mpl\n",
    "import matplotlib.pyplot as plt\n",
    "\n",
    "import h5py\n",
    "import tqdm.notebook as tqdm\n",
    "\n",
    "import kalepy as kale\n",
    "import kalepy.utils\n",
    "import kalepy.plot\n",
    "\n",
    "import holodeck as holo\n",
    "import holodeck.sam\n",
    "from holodeck import cosmo, utils, plot\n",
    "from holodeck.constants import MSOL, PC, YR, MPC, GYR\n",
    "\n",
    "# Silence annoying numpy errors\n",
    "np.seterr(divide='ignore', invalid='ignore', over='ignore')\n",
    "warnings.filterwarnings(\"ignore\", category=UserWarning)\n",
    "\n",
    "# Plotting settings\n",
    "mpl.rc('font', **{'family': 'serif', 'sans-serif': ['Times'], 'size': 15})\n",
    "mpl.rc('lines', solid_capstyle='round')\n",
    "mpl.rc('mathtext', fontset='cm')\n",
    "mpl.style.use('default')   # avoid dark backgrounds from dark theme vscode\n",
    "plt.rcParams.update({'grid.alpha': 0.5})\n",
    "\n",
    "log = holo.log\n",
    "log.setLevel(logging.INFO)"
   ]
  },
  {
   "cell_type": "code",
   "execution_count": null,
   "id": "e0a05009",
   "metadata": {},
   "outputs": [],
   "source": [
    "import zcode\n",
    "import zcode.math as zmath\n",
    "import zcode.plot as zplot"
   ]
  },
  {
   "cell_type": "code",
   "execution_count": null,
   "id": "7dacb18d",
   "metadata": {},
   "outputs": [],
   "source": [
    "gsmf = holo.sam.GSMF_Schechter()        # Galaxy Stellar-Mass Function (GSMF)\n",
    "gpf = holo.sam.GPF_Power_Law()          # Galaxy Pair Fraction         (GPF)\n",
    "gmt = holo.sam.GMT_Power_Law()          # Galaxy Merger Time           (GMT)\n",
    "mmbulge = holo.relations.MMBulge_Standard()     # M-MBulge Relation            (MMB)\n",
    "# shape = (150, 151, 152)\n",
    "shape = (30, 31, 32)\n",
    "# shape = None\n",
    "\n",
    "sam = holo.sam.Semi_Analytic_Model(gsmf=gsmf, gpf=gpf, gmt=gmt, mmbulge=mmbulge, shape=shape)"
   ]
  },
  {
   "cell_type": "code",
   "execution_count": null,
   "id": "5b497346",
   "metadata": {},
   "outputs": [],
   "source": [
    "# fobs = utils.nyquist_freqs(10.0*YR, 0.1*YR)\n",
    "fobs = utils.nyquist_freqs(10.0*YR, 1.0*YR)\n",
    "# fobs = kale.utils.spacing(fobs, scale='log', num=fobs.size)"
   ]
  },
  {
   "cell_type": "code",
   "execution_count": null,
   "id": "f9fcd8ea",
   "metadata": {},
   "outputs": [],
   "source": [
    "NUM_REALS = 10"
   ]
  },
  {
   "cell_type": "code",
   "execution_count": null,
   "id": "49ba532f",
   "metadata": {},
   "outputs": [],
   "source": [
    "gwb_smooth = sam.gwb(fobs, realize=False)\n",
    "gwb_rough = sam.gwb(fobs, realize=NUM_REALS)"
   ]
  },
  {
   "cell_type": "code",
   "execution_count": null,
   "id": "7708eae8",
   "metadata": {},
   "outputs": [],
   "source": [
    "gwb = np.zeros((fobs.size-1, NUM_REALS))\n",
    "gwf = np.zeros((fobs.size-1, NUM_REALS))\n",
    "for ii in utils.tqdm(range(NUM_REALS)):\n",
    "    gwf_freqs, gwf[:, ii], gwb[:, ii] = holo.sam.sampled_gws_from_sam(\n",
    "        sam, fobs=fobs, hard=holo.evolution.Hard_GW, cut_below_mass=1e6*MSOL, limit_merger_time=None,\n",
    "        sample_threshold=100, poisson_inside=False,\n",
    "    )\n",
    "    # gwb[:, ii] = np.sqrt(_gwb[:]**2 + gwf**2)\n",
    "    # break"
   ]
  },
  {
   "cell_type": "code",
   "execution_count": null,
   "id": "de7b0749",
   "metadata": {},
   "outputs": [],
   "source": [
    "fig, ax = plot.figax()\n",
    "\n",
    "def plot_gwb(xx, yy, **kwargs):\n",
    "    cc, = ax.plot(xx, np.median(yy, axis=-1), ls='--', **kwargs)\n",
    "    cc = cc.get_color()\n",
    "    temp = np.percentile(yy, [25, 75], axis=-1)\n",
    "    ax.fill_between(xx, *temp, color=cc, alpha=0.25)    \n",
    "    return\n",
    "\n",
    "xx = kale.utils.midpoints(fobs) * YR   # [1/sec] ==> [1/yr]\n",
    "\n",
    "# amp = 10e-16\n",
    "# yy = amp * np.power(xx, -2/3)\n",
    "# ax.plot(xx, yy, 'k--', alpha=0.25)\n",
    "\n",
    "ax.plot(xx, gwb_smooth, 'b:')\n",
    "plot_gwb(xx, gwb_rough, label='roughed')\n",
    "if np.ndim(gwb) == 1:\n",
    "    ax.plot(xx, gwb, 'k-', alpha=0.25)\n",
    "else:\n",
    "    plot_gwb(xx, gwb, label='sampled')\n",
    "    # plot_gwb(xx, np.sqrt(gwb**2 + gwf**2), label='sampled')\n",
    "\n",
    "plt.legend()\n",
    "plt.show()\n",
    "# fig.savefig('temp.png')"
   ]
  },
  {
   "cell_type": "markdown",
   "id": "08a294b1",
   "metadata": {},
   "source": [
    "# Manual"
   ]
  },
  {
   "cell_type": "code",
   "execution_count": null,
   "id": "99afa0b2",
   "metadata": {},
   "outputs": [],
   "source": [
    "gsmf = holo.sam.GSMF_Schechter()        # Galaxy Stellar-Mass Function (GSMF)\n",
    "gpf = holo.sam.GPF_Power_Law()          # Galaxy Pair Fraction         (GPF)\n",
    "gmt = holo.sam.GMT_Power_Law()          # Galaxy Merger Time           (GMT)\n",
    "mmbulge = holo.relations.MMBulge_Standard()     # M-MBulge Relation            (MMB)\n",
    "hard = holo.evolution.Hard_GW\n",
    "# shape = (150, 151, 152)\n",
    "shape = (30, 31, 32)\n",
    "shape = (30, 31, 300)\n",
    "# shape = None\n",
    "\n",
    "sam = holo.sam.Semi_Analytic_Model(\n",
    "        gsmf=gsmf, gpf=gpf, gmt=gmt, mmbulge=mmbulge, shape=shape,\n",
    "        redz=[0.0, 6.0, 32]\n",
    ")\n",
    "print(f\"{sam.shape=}\")\n",
    "\n",
    "fobs = utils.nyquist_freqs(10.0*YR, 0.1*YR)\n",
    "\n",
    "vals, weights, edges, dens, mass = holo.sam.sample_sam_with_hardening(\n",
    "        sam, hard, fobs=fobs, cut_below_mass=None, limit_merger_time=None,\n",
    "        sample_threshold=10.0, poisson_inside=True, poisson_outside=True,\n",
    ")\n",
    "print(f\"{weights.size=:.4e}, {weights.sum()=:.8e}\")"
   ]
  },
  {
   "cell_type": "code",
   "execution_count": null,
   "id": "830ecd1e",
   "metadata": {},
   "outputs": [],
   "source": [
    "gwb_smooth = sam.gwb(fobs, realize=False)\n",
    "gwb_rough = sam.gwb(fobs, realize=NUM_REALS)"
   ]
  },
  {
   "cell_type": "code",
   "execution_count": null,
   "id": "fb7be9cf",
   "metadata": {},
   "outputs": [],
   "source": [
    "use_weights = np.copy(weights)\n",
    "print(kale.utils.stats_str(use_weights))\n",
    "\n",
    "# sel = (use_weights > 1.0)\n",
    "# sel = (use_weights < 1.0)\n",
    "# sel = (use_weights != 1.0)\n",
    "# sel = ~sel\n",
    "sel = slice(None)\n",
    "\n",
    "use_weights = use_weights[sel]\n",
    "# use_weights = np.random.poisson(use_weights)\n",
    "print(kale.utils.stats_str(use_weights))\n",
    "\n",
    "# print(kale.utils.stats_str(use_weights[sel]))\n",
    "# print(kale.utils.stats_str(use_weights[~sel]))\n",
    "# print(f\"weights: {zmath.frac_str(sel)}\")\n",
    "\n",
    "gff, gwf, gwb = holo.sam._gws_from_samples(vals[:, sel], use_weights, fobs)\n",
    "fig, ax = plot.figax()\n",
    "ff = kale.utils.midpoints(fobs)\n",
    "ax.plot(ff, gwb)\n",
    "ax.plot(gff, gwf, 'rx', alpha=0.5)\n",
    "\n",
    "ax.plot(ff, gwb_smooth, 'b:')\n",
    "plot_gwb(ff, gwb_rough, label='roughed')\n",
    "\n",
    "plt.show()"
   ]
  },
  {
   "cell_type": "code",
   "execution_count": null,
   "id": "bb1816b8",
   "metadata": {},
   "outputs": [],
   "source": [
    "mc = utils.chirp_mass(*utils.m1m2_from_mtmr(vals[0], vals[1]))\n",
    "rz = vals[2].copy()\n",
    "rz[rz < 1e-1] = 1e-1\n",
    "fo = vals[3].copy()\n",
    "frst = utils.frst_from_fobs(fo, rz)\n",
    "dc = cosmo.comoving_distance(rz).cgs.value\n",
    "hs = utils.gw_strain_source(mc, dc, frst)\n",
    "print(hs.shape, fo.shape, weights.shape)"
   ]
  },
  {
   "cell_type": "code",
   "execution_count": null,
   "id": "eaa4cbd9",
   "metadata": {},
   "outputs": [],
   "source": [
    "# idx = (weights > 1e6)\n",
    "\n",
    "temp = np.sqrt(weights * hs**2)\n",
    "idx = (temp > 1e-13)\n",
    "\n",
    "# idx = ()\n",
    "\n",
    "print(f\"{np.count_nonzero(idx):.4e}, {len(idx):.4e}\")\n",
    "print(f\"{kale.utils.stats_str(mc[idx]/MSOL)}\")\n",
    "print(f\"{kale.utils.stats_str(rz[idx])}\")\n",
    "print(f\"{kale.utils.stats_str(dc[idx]/MPC)}\")\n",
    "print(f\"{kale.utils.stats_str(hs[idx])}\")\n",
    "print(f\"{kale.utils.stats_str(weights[idx])}\")\n",
    "print(f\"{kale.utils.stats_str(np.sqrt(weights[idx]*hs[idx]**2))}\")\n",
    "\n"
   ]
  },
  {
   "cell_type": "code",
   "execution_count": null,
   "id": "201e8f57",
   "metadata": {},
   "outputs": [],
   "source": [
    "idx = np.argsort(fo)\n",
    "fo = fo[idx]\n",
    "hs = hs[idx]\n",
    "ww = weights[idx]\n",
    "\n",
    "idx = np.digitize(fo, fobs) - 1\n",
    "gwb = np.zeros(fobs.size-1)\n",
    "\n",
    "for ii in utils.tqdm(range(gwb.size)):\n",
    "    sel = (idx == ii)\n",
    "    temp = weights[sel] * (hs[sel] ** 2)\n",
    "    gwb[ii] = np.sum(temp)\n",
    "    \n",
    "gwb = np.sqrt(gwb) \n",
    "gwb *= np.sqrt(kale.utils.midpoints(fobs)/np.diff(fobs))"
   ]
  },
  {
   "cell_type": "code",
   "execution_count": null,
   "id": "4545272f",
   "metadata": {},
   "outputs": [],
   "source": [
    "fig, ax = plot.figax()\n",
    "\n",
    "def plot_gwb(xx, yy, **kwargs):\n",
    "    cc, = ax.plot(xx, np.median(yy, axis=-1), ls='--', **kwargs)\n",
    "    cc = cc.get_color()\n",
    "    temp = np.percentile(yy, [25, 75], axis=-1)\n",
    "    ax.fill_between(xx, *temp, color=cc, alpha=0.25)    \n",
    "    return\n",
    "\n",
    "xx = kale.utils.midpoints(fobs) * YR   # [1/sec] ==> [1/yr]\n",
    "\n",
    "amp = 10e-16\n",
    "yy = amp * np.power(xx, -2/3)\n",
    "ax.plot(xx, yy, 'k--', alpha=0.25)\n",
    "ax.plot(xx, gwb, 'k-', alpha=0.25)\n",
    "\n",
    "ax.plot(xx, gwb_smooth, 'b:')\n",
    "plot_gwb(xx, gwb_rough, label='roughed')\n",
    "# plot_gwb(xx, gwb, label='sampled')\n",
    "\n",
    "plt.legend()\n",
    "plt.show()"
   ]
  },
  {
   "cell_type": "markdown",
   "id": "96893787",
   "metadata": {},
   "source": [
    "# Compare Properties of Sampled Population to pure-SAM"
   ]
  },
  {
   "cell_type": "code",
   "execution_count": null,
   "id": "cea4b0ea",
   "metadata": {},
   "outputs": [],
   "source": [
    "NUM_REALS = 10\n",
    "vals = []\n",
    "weights = []\n",
    "for ii in holo.utils.tqdm(range(NUM_REALS)):\n",
    "    _vals, _weights, edges, dens, mass = holo.sam.sample_sam_with_hardening(\n",
    "            sam, holo.evolution.Hard_GW, fobs=fobs,\n",
    "            sample_threshold=5.0, cut_below_mass=None, limit_merger_time=None,\n",
    "    )\n",
    "    vals.append(_vals)\n",
    "    weights.append(_weights)"
   ]
  },
  {
   "cell_type": "markdown",
   "id": "0a9653ef",
   "metadata": {},
   "source": [
    "## Number of Sources vs. Frequency"
   ]
  },
  {
   "cell_type": "code",
   "execution_count": null,
   "id": "c87b8cc5",
   "metadata": {},
   "outputs": [],
   "source": [
    "num_fobs = fobs.size\n",
    "MASS_MIN = 1.0e8 * MSOL\n",
    "# MASS_MIN = 0.0/\n",
    "num = np.zeros((num_fobs, NUM_REALS))\n",
    "\n",
    "for ii in holo.utils.tqdm(range(NUM_REALS)):\n",
    "    fo = vals[ii][-1]\n",
    "    idx = np.digitize(fo, fobs) - 1\n",
    "    for jj in range(num_fobs):\n",
    "        sel = (idx == jj) & (vals[ii][0] > MASS_MIN)\n",
    "        num[jj, ii] = np.sum(weights[ii][sel])\n",
    "        \n",
    "sel = (kale.utils.midpoints(edges[0]) > MASS_MIN)\n",
    "idx = list(np.arange(mass.ndim))\n",
    "idx.pop(mass.ndim - 1)\n",
    "sam_num = np.sum(mass[sel], axis=tuple(idx))"
   ]
  },
  {
   "cell_type": "code",
   "execution_count": null,
   "id": "9faa1ac1",
   "metadata": {},
   "outputs": [],
   "source": [
    "fig, ax = plot.figax()\n",
    "xx = fobs*YR\n",
    "# ax.plot(xx, num)\n",
    "ax.plot(kale.utils.midpoints(xx), num.mean(axis=-1)[:-1], 'b-')\n",
    "ax.plot(kale.utils.midpoints(xx), sam_num, 'r--')\n",
    "\n",
    "aa, bb = plot._get_hist_steps(xx, sam_num)\n",
    "ax.plot(aa, bb, 'r:')\n",
    "# ax.set(xlim=[0.95e-1, 2.5e-1], ylim=[2e9, 4e10])\n",
    "plt.show()"
   ]
  },
  {
   "cell_type": "markdown",
   "id": "16e60c88",
   "metadata": {},
   "source": [
    "# Chirp-mass Distribution"
   ]
  },
  {
   "cell_type": "code",
   "execution_count": null,
   "id": "a5d5b525",
   "metadata": {},
   "outputs": [],
   "source": [
    "mchirp = []\n",
    "for ii in range(NUM_REALS):\n",
    "    vv = vals[ii]\n",
    "    mc = utils.m1m2_from_mtmr(vv[0], vv[1])\n",
    "    mc = utils.chirp_mass(*mc)\n",
    "    print(mc.shape, utils.stats(mc/MSOL))\n",
    "    break"
   ]
  },
  {
   "cell_type": "markdown",
   "id": "36edf2cf",
   "metadata": {},
   "source": [
    "## Sampling in Log vs. Linear Space"
   ]
  },
  {
   "cell_type": "code",
   "execution_count": null,
   "id": "734cf1de",
   "metadata": {},
   "outputs": [],
   "source": [
    "def func(xx):\n",
    "    zz = np.power(xx, +1.5) * np.exp(-xx)\n",
    "    return zz\n",
    "\n",
    "NUM = 1e4\n",
    "# xx = np.logspace(-2, 1, 100)\n",
    "xx = kale.utils.spacing([1e-2, 1e1], scale='log', num=100)\n",
    "yy = func(xx)\n",
    "Y = np.cumsum(yy)\n",
    "norm = NUM / Y[-1]\n",
    "yy *= norm\n",
    "Y *= norm\n",
    "\n",
    "dydx = np.diff(Y) / np.diff(xx)\n",
    "dydlnx = np.diff(Y) / np.diff(np.log(xx))\n",
    "xc = kale.utils.midpoints(xx)\n",
    "\n",
    "aa = kale.sample_grid(xc, dydx, nsamp=NUM)\n",
    "a1 = kale.sample_grid(np.log(xc), dydx, nsamp=NUM)\n",
    "a1 = np.e ** a1\n",
    "bb = kale.sample_grid(xc, dydlnx, nsamp=NUM)\n",
    "b1 = kale.sample_grid(np.log(xc), dydlnx, nsamp=NUM)\n",
    "b1 = np.e ** b1\n",
    "# ha, _ = np.histogram(aa, bins=xx)\n",
    "\n",
    "fig, axes = plot.figax(ncols=2)\n",
    "axes[0].set(xscale='linear', yscale='linear')\n",
    "for ax in axes:\n",
    "    ax.plot(xx, yy)\n",
    "    ax.plot(xc, dydx)\n",
    "    ax.plot(xc, dydlnx)\n",
    "    *_, p = ax.hist(aa, bins=xx, histtype='step', label='dydx')\n",
    "    c = p[0].get_edgecolor()\n",
    "    ax.hist(a1, bins=xx, histtype='step', ls='--', color=c)\n",
    "    *_, p = ax.hist(bb, bins=xx, histtype='step', label='dydlnx')\n",
    "    c = p[0].get_edgecolor()\n",
    "    ax.hist(b1, bins=xx, histtype='step', ls='--', color=c)\n",
    "\n",
    "plt.legend()\n",
    "plt.show()"
   ]
  },
  {
   "cell_type": "markdown",
   "id": "4eb7c4cf",
   "metadata": {},
   "source": [
    "# kalepy sampling fractional binaries"
   ]
  },
  {
   "cell_type": "code",
   "execution_count": null,
   "id": "8189b9ae",
   "metadata": {},
   "outputs": [],
   "source": [
    "def func(xx):\n",
    "    zz = np.power(xx, +1.5) * np.exp(-xx)\n",
    "    return zz\n",
    "\n",
    "NUM = 1e3\n",
    "xx = kale.utils.spacing([1e-2, 1e1], scale='log', num=100)\n",
    "yy = func(xx)\n",
    "Y = np.cumsum(yy)\n",
    "norm = NUM / Y[-1]\n",
    "yy *= norm\n",
    "Y *= norm\n",
    "dydx = np.diff(Y) / np.diff(xx)\n",
    "xc = kale.utils.midpoints(xx)\n",
    "\n",
    "NREALS = 100\n",
    "# NSAMP = 1e2\n",
    "NSAMP = NUM\n",
    "nbins = xx.size - 1\n",
    "dist = np.zeros((nbins, NREALS))\n",
    "wdist = np.zeros((nbins, NREALS))\n",
    "for rr in range(NREALS):\n",
    "    ss = kale.sample_grid(xc, dydx, nsamp=NSAMP)\n",
    "    dist[:, rr], _ = np.histogram(ss, bins=xx)\n",
    "    ss, ww = kale.sample_outliers(xc, dydx, 10.0, nsamp=int(NSAMP))\n",
    "    ss = ss.squeeze()\n",
    "    # print(np.shape(ss), np.shape(ww))\n",
    "    wdist[:, rr], _ = np.histogram(ss, bins=xx, weights=ww)\n",
    "    # wdist[:, rr], _ = np.histogram(ss, bins=xx)\n",
    "\n",
    "fig, ax = plot.figax()\n",
    "ax.plot(xx, yy)\n",
    "# ax.plot(xc, dydx)\n",
    "\n",
    "ave = np.mean(dist, axis=-1)\n",
    "ax.plot(xc, ave, 'r--')\n",
    "\n",
    "ave = np.mean(wdist, axis=-1)\n",
    "ax.plot(xc, ave, 'b--')\n",
    "\n",
    "plt.show()"
   ]
  }
 ],
 "metadata": {
  "interpreter": {
   "hash": "61b4062b24dfb1010f420dad5aa3bd73a4d2af47d0ec44eafec465a35a9d7239"
  },
  "kernelspec": {
   "display_name": "Python 3.9.7 64-bit ('py39': conda)",
   "name": "python3"
  },
  "language_info": {
   "codemirror_mode": {
    "name": "ipython",
    "version": 3
   },
   "file_extension": ".py",
   "mimetype": "text/x-python",
   "name": "python",
   "nbconvert_exporter": "python",
   "pygments_lexer": "ipython3",
   "version": "3.9.12"
  },
  "toc": {
   "base_numbering": 1,
   "nav_menu": {},
   "number_sections": true,
   "sideBar": true,
   "skip_h1_title": false,
   "title_cell": "Table of Contents",
   "title_sidebar": "Contents",
   "toc_cell": false,
   "toc_position": {
    "height": "calc(100% - 180px)",
    "left": "10px",
    "top": "150px",
    "width": "165px"
   },
   "toc_section_display": true,
   "toc_window_display": true
  },
  "varInspector": {
   "cols": {
    "lenName": 16,
    "lenType": 16,
    "lenVar": 40
   },
   "kernels_config": {
    "python": {
     "delete_cmd_postfix": "",
     "delete_cmd_prefix": "del ",
     "library": "var_list.py",
     "varRefreshCmd": "print(var_dic_list())"
    },
    "r": {
     "delete_cmd_postfix": ") ",
     "delete_cmd_prefix": "rm(",
     "library": "var_list.r",
     "varRefreshCmd": "cat(var_dic_list()) "
    }
   },
   "types_to_exclude": [
    "module",
    "function",
    "builtin_function_or_method",
    "instance",
    "_Feature"
   ],
   "window_display": false
  }
 },
 "nbformat": 4,
 "nbformat_minor": 5
}
