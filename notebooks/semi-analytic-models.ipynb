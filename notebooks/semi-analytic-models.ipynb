{
 "cells": [
  {
   "cell_type": "markdown",
   "id": "8d47f1a3",
   "metadata": {},
   "source": [
    "# `holodeck` - Semi-Analytic Models"
   ]
  },
  {
   "cell_type": "markdown",
   "id": "af59b140",
   "metadata": {},
   "source": []
  },
  {
   "cell_type": "code",
   "execution_count": null,
   "id": "f9a9d9bc",
   "metadata": {},
   "outputs": [],
   "source": [
    "%reload_ext autoreload\n",
    "%autoreload 2\n",
    "\n",
    "import numpy as np\n",
    "import matplotlib.pyplot as plt\n",
    "import tqdm.notebook as tqdm\n",
    "\n",
    "import kalepy as kale\n",
    "\n",
    "import holodeck as holo\n",
    "from holodeck import sams\n",
    "from holodeck import utils, plot\n",
    "from holodeck.constants import MSOL, YR"
   ]
  },
  {
   "attachments": {},
   "cell_type": "markdown",
   "id": "630dd2a1",
   "metadata": {},
   "source": [
    "## Quick Start"
   ]
  },
  {
   "attachments": {},
   "cell_type": "markdown",
   "id": "f691ee46",
   "metadata": {},
   "source": [
    "Construct a Semi-Analytic Model (SAM) using all of the default components"
   ]
  },
  {
   "cell_type": "code",
   "execution_count": null,
   "id": "4f80bc42",
   "metadata": {},
   "outputs": [],
   "source": [
    "# Specify the shape of the SAM grid to be a small number (e.g. `30`), so that this example runs quickly\n",
    "# (although with low accuracy).\n",
    "sam = sams.Semi_Analytic_Model(shape=30)"
   ]
  },
  {
   "attachments": {},
   "cell_type": "markdown",
   "id": "5bb4f96a",
   "metadata": {},
   "source": [
    "Choose the edges of the frequency bins at which to calculate the GWB"
   ]
  },
  {
   "cell_type": "code",
   "execution_count": null,
   "id": "a4e14d8e",
   "metadata": {},
   "outputs": [],
   "source": [
    "OBS_DUR = 10.0 * YR    # duration of PTA observations in [sec], which determines the Fourier frequency basis\n",
    "NUM_FREQS = 20         # number of frequency bins\n",
    "fobs, fobs_edges = utils.pta_freqs(dur=OBS_DUR, num=NUM_FREQS)\n",
    "print(f\"Number of frequency bins: {fobs.size}\")\n",
    "print(f\"  between [{fobs[0]*YR:.2f}, {fobs[-1]*YR:.2f}] 1/yr\")\n",
    "print(f\"          [{fobs[0]*1e9:.2f}, {fobs[-1]*1e9:.2f}] nHz\")"
   ]
  },
  {
   "attachments": {},
   "cell_type": "markdown",
   "id": "34f11e96",
   "metadata": {},
   "source": [
    "Calculate GWB from this SAM.  \n",
    "We need to specify the edges of the frequency bins that are being observed (`fobs_edges`).  \n",
    "We also ask for many different 'realizations' of the universe to get a distribution of expected amplitudes.  \n",
    "And finally we will obtain a handful of the 'loudest' binaries in each frequency bin, ('single sources'),  in addition to the sum of the characteristic strains of all remaining binaries (the background).\n"
   ]
  },
  {
   "cell_type": "code",
   "execution_count": null,
   "id": "abde3ae2",
   "metadata": {},
   "outputs": [],
   "source": [
    "NUM_REALS = 30    # Number of 'realizations' to generate\n",
    "NUM_LOUDEST = 2   # Number of 'loudest' binaries to generate in each frequency bin\n",
    "hc_ss, hc_bg = sam.gwb(fobs_edges, realize=NUM_REALS, loudest=NUM_LOUDEST)"
   ]
  },
  {
   "attachments": {},
   "cell_type": "markdown",
   "id": "ebc65eca",
   "metadata": {},
   "source": [
    "Plot GWB over multiple realizations"
   ]
  },
  {
   "cell_type": "code",
   "execution_count": null,
   "id": "d836901c",
   "metadata": {},
   "outputs": [],
   "source": [
    "plt.loglog(fobs*1e9, hc_bg, lw=0.5, alpha=0.75);\n",
    "plt.gca().set(ylabel='Characteristic Strain ($h_c$)', xlabel='GW Frequency [nHz]')\n",
    "plt.show()"
   ]
  },
  {
   "cell_type": "markdown",
   "id": "0e256c02",
   "metadata": {},
   "source": [
    "Slightly fancier plot:"
   ]
  },
  {
   "cell_type": "code",
   "execution_count": null,
   "id": "b69aed2a",
   "metadata": {},
   "outputs": [],
   "source": [
    "fig, ax = plot.figax(xlabel='GW Frequency $f_\\mathrm{obs}$ [1/yr]', ylabel='Characteristic Strain $h_c$')\n",
    "\n",
    "# `fobs` are bin centers in CGS units, convert to [1/yr]\n",
    "xx = fobs * YR\n",
    "\n",
    "# Get the median over all the realizations\n",
    "med = np.median(hc_bg, axis=-1)\n",
    "\n",
    "# plot a reference, pure power-law  strain spectrum:   h_c(f) = A * (f * yr) ^ -2/3\n",
    "yy = med[0] * np.power(xx/xx[0], -2.0/3.0)\n",
    "ax.plot(xx, yy, 'k--', alpha=0.25, lw=2.0)\n",
    "\n",
    "# Plot the median GWB spectrum\n",
    "ax.plot(xx, med, 'k-', alpha=0.5)\n",
    "\n",
    "# plot contours at 50% and 98% confidence intervals\n",
    "for pp in [50, 98]:\n",
    "    percs = pp / 2\n",
    "    percs = [50 - percs, 50 + percs]\n",
    "    ax.fill_between(xx, *np.percentile(hc_bg, percs, axis=-1), alpha=0.25, color='#7100d4')\n",
    "\n",
    "plt.show()"
   ]
  },
  {
   "attachments": {},
   "cell_type": "markdown",
   "id": "4356677c",
   "metadata": {},
   "source": [
    "## Build SAM with explicit components"
   ]
  },
  {
   "cell_type": "code",
   "execution_count": null,
   "id": "7dacb18d",
   "metadata": {},
   "outputs": [],
   "source": [
    "gsmf = holo.sams.GSMF_Schechter()               # Galaxy Stellar-Mass Function (GSMF)\n",
    "gpf = holo.sams.GPF_Power_Law()                 # Galaxy Pair Fraction         (GPF)\n",
    "gmt = holo.sams.GMT_Power_Law()                 # Galaxy Merger Time           (GMT)\n",
    "mmbulge = holo.relations.MMBulge_MM2013()       # M-MBulge Relation            (MMB)\n",
    "\n",
    "sam = holo.sams.Semi_Analytic_Model(gsmf=gsmf, gpf=gpf, gmt=gmt, mmbulge=mmbulge, shape=30)"
   ]
  },
  {
   "attachments": {},
   "cell_type": "markdown",
   "id": "526f1ed3",
   "metadata": {},
   "source": [
    "Calculate the distribution of GWB Amplitudes at 1/yr"
   ]
  },
  {
   "cell_type": "code",
   "execution_count": null,
   "id": "e9fc9e99",
   "metadata": {},
   "outputs": [],
   "source": [
    "# Choose our target GW frequency\n",
    "fobs = 1.0/YR\n",
    "# Choose an appropriate bin width\n",
    "fobs_width = fobs/16.0\n",
    "fobs_edges = np.array([fobs - 0.5*fobs_width, fobs + 0.5*fobs_width])\n",
    "hc_ss, hc_bg = sam.gwb(fobs_edges, realize=300, loudest=1)\n",
    "# Calculate the idealized GWB amplitude from this population\n",
    "gwb_ref = sam.gwb_ideal(fobs)\n",
    "\n",
    "amp_bg = hc_bg.flatten()\n",
    "# combine the single-sources and background sources into total amplitude\n",
    "amp_tot = np.sum(hc_ss**2, axis=-1) + hc_bg**2\n",
    "amp_tot = np.sqrt(amp_tot).flatten()"
   ]
  },
  {
   "attachments": {},
   "cell_type": "markdown",
   "id": "0584c3b6",
   "metadata": {},
   "source": [
    "Plot the distribution"
   ]
  },
  {
   "cell_type": "code",
   "execution_count": null,
   "id": "e56708aa",
   "metadata": {},
   "outputs": [],
   "source": [
    "fig, ax = plt.subplots(figsize=[8, 4])\n",
    "ax.set(xlabel=r'$\\log_{10}(A_\\mathrm{yr})$', ylabel='Probability Density')\n",
    "ax.grid(alpha=0.2)\n",
    "\n",
    "# use `kalepy` do draw the 1D distribution\n",
    "h1 = kale.dist1d(np.log10(amp_tot), density=True, confidence=True)\n",
    "h2 = kale.dist1d(np.log10(amp_bg), density=True, confidence=False)\n",
    "h3 = ax.axvline(np.log10(gwb_ref), ls='--', color='k')\n",
    "ax.legend([h1, h2, h3], ['Total', 'BG only', 'idealized'])\n",
    "\n",
    "plt.show()"
   ]
  },
  {
   "attachments": {},
   "cell_type": "markdown",
   "id": "4b567f98",
   "metadata": {},
   "source": [
    "## Plot GWB Amplitude Distribution vs. M-MBulge parameters"
   ]
  },
  {
   "attachments": {},
   "cell_type": "markdown",
   "id": "20f4383b",
   "metadata": {},
   "source": [
    "Calculate GWB amplitudes at $f = 1/yr$ over a grid of M-Mbulge parameters, specifically the amplitude and power-law."
   ]
  },
  {
   "cell_type": "code",
   "execution_count": null,
   "id": "55cb90ca",
   "metadata": {},
   "outputs": [],
   "source": [
    "# Choose parameters to explore\n",
    "NREALS = 10     # number of realizations at each parameter combination\n",
    "alpha_list = [1.0, 1.5]     # M-Mbulge power-law index\n",
    "norm_list = [3e8, 3e9]\n",
    "# norm_list = np.logspace(8, 9.5, 4)     # M-Mbulge normalization, units of [Msol]\n",
    "\n",
    "dist_mmb = np.zeros((len(alpha_list), len(norm_list), NREALS))\n",
    "\n",
    "# Iterate over a grid of both paremeters\n",
    "for aa, alpha in enumerate(tqdm.tqdm(alpha_list)):\n",
    "    for nn, norm in enumerate(tqdm.tqdm(norm_list, leave=False)):\n",
    "        # Create the M-Mbulge relationship for these parameters\n",
    "        mmbulge = holo.relations.MMBulge_Standard(mamp=norm*MSOL, mplaw=alpha)\n",
    "        # Build a new sam\n",
    "        sam = holo.sams.Semi_Analytic_Model(gsmf=gsmf, gpf=gpf, gmt=gmt, mmbulge=mmbulge, shape=20)\n",
    "        # Calculate the distribution of GWB amplitudes\n",
    "        cw, dist_mmb[aa, nn, :] = sam.gwb(fobs_edges, realize=NREALS, loudest=0)\n",
    "        if nn == 0:\n",
    "            print(f\"{aa=} {alpha=} {np.median(dist_mmb[aa, nn, :]):.4e}\")\n",
    "        # break"
   ]
  },
  {
   "attachments": {},
   "cell_type": "markdown",
   "id": "cc13e780",
   "metadata": {},
   "source": [
    "Plot the interquartile ranges for each power-law, as a function of normalization"
   ]
  },
  {
   "cell_type": "code",
   "execution_count": null,
   "id": "22a7c9c1",
   "metadata": {},
   "outputs": [],
   "source": [
    "fig, ax = plt.subplots(figsize=[6, 4])\n",
    "ax.set(xscale='log', xlabel='M-MBulge Mass Normalization', yscale='log', ylabel=r'GWB Amplitude $A_\\mathrm{yr}$')\n",
    "ax.grid(alpha=0.2)\n",
    "\n",
    "for aa, dd in zip(alpha_list, dist_mmb):\n",
    "    med = np.median(dd, axis=-1)\n",
    "    cc, = ax.plot(norm_list, med, label=aa)\n",
    "    cc = cc.get_color()\n",
    "    ax.fill_between(norm_list, *np.percentile(dd, [25, 75], axis=-1), color=cc, alpha=0.15)\n",
    "\n",
    "plt.legend(title='M-MBulge Slope')\n",
    "plt.show()"
   ]
  }
 ],
 "metadata": {
  "interpreter": {
   "hash": "61b4062b24dfb1010f420dad5aa3bd73a4d2af47d0ec44eafec465a35a9d7239"
  },
  "kernelspec": {
   "display_name": "Python 3 (ipykernel)",
   "language": "python",
   "name": "python3"
  },
  "language_info": {
   "codemirror_mode": {
    "name": "ipython",
    "version": 3
   },
   "file_extension": ".py",
   "mimetype": "text/x-python",
   "name": "python",
   "nbconvert_exporter": "python",
   "pygments_lexer": "ipython3",
   "version": "3.11.7"
  },
  "toc": {
   "base_numbering": 1,
   "nav_menu": {},
   "number_sections": true,
   "sideBar": true,
   "skip_h1_title": false,
   "title_cell": "Table of Contents",
   "title_sidebar": "Contents",
   "toc_cell": false,
   "toc_position": {
    "height": "calc(100% - 180px)",
    "left": "10px",
    "top": "150px",
    "width": "165px"
   },
   "toc_section_display": true,
   "toc_window_display": true
  },
  "varInspector": {
   "cols": {
    "lenName": 16,
    "lenType": 16,
    "lenVar": 40
   },
   "kernels_config": {
    "python": {
     "delete_cmd_postfix": "",
     "delete_cmd_prefix": "del ",
     "library": "var_list.py",
     "varRefreshCmd": "print(var_dic_list())"
    },
    "r": {
     "delete_cmd_postfix": ") ",
     "delete_cmd_prefix": "rm(",
     "library": "var_list.r",
     "varRefreshCmd": "cat(var_dic_list()) "
    }
   },
   "types_to_exclude": [
    "module",
    "function",
    "builtin_function_or_method",
    "instance",
    "_Feature"
   ],
   "window_display": false
  }
 },
 "nbformat": 4,
 "nbformat_minor": 5
}
