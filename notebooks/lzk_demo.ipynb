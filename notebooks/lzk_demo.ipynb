{
 "cells": [
  {
   "cell_type": "code",
   "execution_count": null,
   "metadata": {},
   "outputs": [],
   "source": [
    "%reload_ext autoreload\n",
    "%autoreload 2\n",
    "\n",
    "import os\n",
    "import sys\n",
    "import warnings\n",
    "import numpy as np\n",
    "import scipy as sp\n",
    "import scipy.stats\n",
    "import matplotlib as mpl\n",
    "import matplotlib.pyplot as plt\n",
    "\n",
    "import h5py\n",
    "\n",
    "import kalepy as kale\n",
    "\n",
    "import holodeck as holo\n",
    "from holodeck.constants import MSOL, PC, YR, MPC\n",
    "\n",
    "# Silence annoying numpy errors\n",
    "np.seterr(divide='ignore', invalid='ignore', over='ignore')\n",
    "warnings.filterwarnings(\"ignore\", category=UserWarning)\n",
    "\n",
    "# Plotting settings\n",
    "mpl.rc('font', **{'family': 'serif', 'sans-serif': ['Times'], 'size': 12})\n",
    "mpl.rc('lines', solid_capstyle='round')\n",
    "mpl.rc('mathtext', fontset='cm')\n",
    "plt.rcParams.update({'grid.alpha': 0.5})"
   ]
  },
  {
   "cell_type": "code",
   "execution_count": null,
   "metadata": {},
   "outputs": [],
   "source": [
    "PATH_DATA = \"/Users/lzkelley/Research/NANOGrav/holodeck/data_external/\"\n",
    "\n",
    "FNAME_ILLUSTRIS_DATA = \"illustris-galaxy-mergers_L75n1820FP_gas-100_dm-100_star-100_bh-000.hdf5\"\n",
    "FNAME_MCCONNELL_MA_2013 = \"mcconnell+ma-2013_1211.2816.txt\"\n",
    "\n",
    "FNAME_ILLUSTRIS_DATA = os.path.join(PATH_DATA, FNAME_ILLUSTRIS_DATA)\n",
    "FNAME_MCCONNELL_MA_2013 = os.path.join(PATH_DATA, FNAME_MCCONNELL_MA_2013)\n",
    "\n",
    "_fnames = [\n",
    "    FNAME_ILLUSTRIS_DATA, FNAME_MCCONNELL_MA_2013    \n",
    "]\n",
    "\n",
    "for fn in _fnames:\n",
    "    if not os.path.isfile(fn):\n",
    "        err = \"Could not find '{}'!\\n{}\".format(os.path.basename(fn), fn)\n",
    "        raise FileNotFoundError(err)"
   ]
  },
  {
   "cell_type": "markdown",
   "metadata": {},
   "source": [
    "## Utility Functions"
   ]
  },
  {
   "cell_type": "code",
   "execution_count": null,
   "metadata": {},
   "outputs": [],
   "source": [
    "def plot_bin_pop(bin_pop):\n",
    "    mt, mr = holo.utils.mtmr_from_m1m2(bin_pop.mass)\n",
    "    redz = holo.utils.a_to_z(bin_pop.time)\n",
    "    data = [mt/MSOL, mr, bin_pop.sepa/PC, 1+redz]\n",
    "    data = [np.log10(dd) for dd in data]\n",
    "    reflect = [None, [None, 0], None, [0, None]]\n",
    "    labels = ['M', 'q', 'a', '1+z']\n",
    "    if bin_pop.eccs is not None:\n",
    "        data.append(bin_pop.eccs)\n",
    "        reflect.append([0.0, 1.0])\n",
    "        labels.append('e')\n",
    "    \n",
    "    kde = kale.KDE(data, reflect=reflect)\n",
    "    corner = kale.Corner(kde, labels=labels, figsize=[8, 8])\n",
    "    corner.plot_data(kde)\n",
    "    return corner\n",
    "\n",
    "\n",
    "def plot_mbh_scaling_relations(pop, fname=None, color='r'):\n",
    "    fig, ax = plt.subplots(figsize=[8, 5])\n",
    "\n",
    "    #   ====    Plot McConnell+Ma-2013 Data    ====\n",
    "    handles = []\n",
    "    names = []\n",
    "    if fname is not None:\n",
    "        hh = _draw_mm13_data(ax, fname)\n",
    "        handles.append(hh)\n",
    "        names.append('McConnell+Ma')\n",
    "\n",
    "    #   ====    Plot MBH Merger Data    ====\n",
    "    hh, nn = _draw_pop_masses(ax, pop, color)\n",
    "    handles = handles + hh\n",
    "    names = names + nn\n",
    "    ax.legend(handles, names)\n",
    "    \n",
    "    return fig\n",
    "\n",
    "\n",
    "def _draw_mm13_data(ax, fname):\n",
    "    data = holo.observations.load_mcconnell_ma_2013(fname)\n",
    "    data = {kk: data[kk] if kk == 'name' else np.log10(data[kk]) for kk in data.keys()}\n",
    "    key = 'mbulge'\n",
    "    mass = data['mass']\n",
    "    yy = mass[:, 1]\n",
    "    yerr = np.array([yy - mass[:, 0], mass[:, 2] - yy])\n",
    "    vals = data[key]\n",
    "    if np.ndim(vals) == 1:\n",
    "        xx = vals\n",
    "        xerr = None\n",
    "    elif vals.shape[1] == 2:\n",
    "        xx = vals[:, 0]\n",
    "        xerr = vals[:, 1]\n",
    "    elif vals.shape[1] == 3:\n",
    "        xx = vals[:, 1]\n",
    "        xerr = np.array([xx-vals[:, 0], vals[:, 2]-xx])\n",
    "    else:\n",
    "        raise ValueError()\n",
    "\n",
    "    idx = (xx > 0.0) & (yy > 0.0)\n",
    "    if xerr is not None:\n",
    "        xerr = xerr[:, idx]\n",
    "    ax.errorbar(xx[idx], yy[idx], xerr=xerr, yerr=yerr[:, idx], fmt='none', zorder=10)\n",
    "    handle = ax.scatter(xx[idx], yy[idx], zorder=10)\n",
    "    ax.set(ylabel='MBH Mass', xlabel=key)\n",
    "\n",
    "    return handle\n",
    "\n",
    "\n",
    "def _draw_pop_masses(ax, pop, color='r', skip=4):\n",
    "    xx = pop.mbulge.flatten() / MSOL\n",
    "    yy_list = [pop.mass]\n",
    "    names = ['new']\n",
    "    if hasattr(pop, '_mass'):\n",
    "        yy_list.append(pop._mass)\n",
    "        names.append('old')\n",
    "    \n",
    "    colors = [color, '0.5']\n",
    "    handles = []\n",
    "    if skip > 1:\n",
    "        print(\"Plotting every {}th data-point\".format(skip))\n",
    "    cut = slice(None, None, skip)\n",
    "    for ii, yy in enumerate(yy_list):\n",
    "        yy = yy.flatten() / MSOL\n",
    "        data = np.log10([xx[cut], yy[cut]])\n",
    "        kale.plot.dist2d(\n",
    "            data, ax=ax, color=colors[ii], hist=False, contour=True,\n",
    "            median=True, mask_dense=True,\n",
    "        )\n",
    "        hh, = plt.plot([], [], color=colors[ii])\n",
    "        handles.append(hh)\n",
    "\n",
    "    return handles, names\n",
    "\n",
    "\n",
    "def plot_gwb(gwb):\n",
    "    fig, ax = plt.subplots(figsize=[10, 5])\n",
    "    ax.set(xscale='log', yscale='log')\n",
    "    ax.grid(True)\n",
    "\n",
    "    draw_gwb_sample(ax, gwb, color='b', alpha=0.1)\n",
    "    draw_gwb_conf(ax, gwb)\n",
    "    draw_plaw(ax, gwb.freqs*YR, f0=1)\n",
    "\n",
    "    return fig\n",
    "\n",
    "\n",
    "def draw_gwb_sample(ax, gwb, num=10, back=True, fore=False, **kwargs):\n",
    "    freqs = gwb.freqs * YR\n",
    "    _back = gwb.eccen_back\n",
    "    kwargs.setdefault('alpha', 0.5)\n",
    "    kwargs.setdefault('lw', 1.0)\n",
    "    cut = np.random.choice(_back.shape[1], 10, replace=False)\n",
    "\n",
    "    if back:\n",
    "        ax.plot(freqs, _back[:, cut], **kwargs)\n",
    "        \n",
    "    if fore:\n",
    "        _fore = gwb.eccen_fore[:, cut]\n",
    "        ax.scatter(freqs[:, np.newaxis] * np.ones_like(_fore), _fore, **kwargs)\n",
    "    \n",
    "    return \n",
    "\n",
    "\n",
    "def draw_gwb_conf(ax, gwb, conf=[0.25, 0.75], **kwargs):\n",
    "    freqs = gwb.freqs * YR\n",
    "    back = gwb.eccen_back\n",
    "    kwargs.setdefault('alpha', 0.5)\n",
    "    kwargs.setdefault('lw', 0.5)\n",
    "    conf = np.percentile(back, 100*np.array(conf), axis=-1)\n",
    "    return ax.fill_between(freqs, *conf, **kwargs)\n",
    "\n",
    "\n",
    "def draw_plaw(ax, freqs, amp=1e-15, f0=1/YR, **kwargs):\n",
    "    kwargs.setdefault('alpha', 0.5)\n",
    "    kwargs.setdefault('color', '0.5')\n",
    "    kwargs.setdefault('ls', '--')\n",
    "    plaw = amp * np.power(freqs/f0, -2/3)\n",
    "    return ax.plot(freqs, plaw, **kwargs)    \n",
    "    "
   ]
  },
  {
   "cell_type": "markdown",
   "metadata": {},
   "source": [
    "# Binary Population"
   ]
  },
  {
   "cell_type": "markdown",
   "metadata": {},
   "source": [
    "## Construct Illustris-Based Binary Population"
   ]
  },
  {
   "cell_type": "code",
   "execution_count": null,
   "metadata": {},
   "outputs": [],
   "source": [
    "bin_pop = holo.BP_Illustris(FNAME_ILLUSTRIS_DATA)\n",
    "\n",
    "ill_name = os.path.basename(bin_pop._fname).split('_')[1]\n",
    "print(\"Loaded\", bin_pop.size, \"binaries from Illustris\", ill_name)"
   ]
  },
  {
   "cell_type": "code",
   "execution_count": null,
   "metadata": {},
   "outputs": [],
   "source": [
    "plot_bin_pop(bin_pop)\n",
    "plt.show()"
   ]
  },
  {
   "cell_type": "markdown",
   "metadata": {},
   "source": [
    "### Apply a modifier to add (arbitrary) eccentricities, and resample 5x"
   ]
  },
  {
   "cell_type": "code",
   "execution_count": null,
   "metadata": {},
   "outputs": [],
   "source": [
    "mod_ecc = holo.PM_Eccentricity()\n",
    "mod_resamp = holo.PM_Resample(resample=2.0)\n",
    "\n",
    "mods = [mod_ecc, mod_resamp]\n",
    "bin_pop.modify(mods)\n",
    "    \n",
    "print(\"Population now has\", bin_pop.size, \"elements\")"
   ]
  },
  {
   "cell_type": "code",
   "execution_count": null,
   "metadata": {},
   "outputs": [],
   "source": [
    "plot_bin_pop(bin_pop)\n",
    "plt.show()"
   ]
  },
  {
   "cell_type": "markdown",
   "metadata": {},
   "source": [
    "### Apply Modifer to Use McConnell+Ma 2013 BH masses"
   ]
  },
  {
   "cell_type": "code",
   "execution_count": null,
   "metadata": {},
   "outputs": [],
   "source": [
    "# # Create the modifier using M-Mbulge relation\n",
    "# mod_mm13 = holo.PM_MM13(relation='mbulge')\n",
    "\n",
    "# # Choose percentiles\n",
    "# percs = 100*sp.stats.norm.cdf([-1, 0, 1])\n",
    "# percs = [0,] + percs.tolist() + [100,]\n",
    "\n",
    "# # Format nicely\n",
    "# str_array = lambda xx: \", \".join([\"{:.2e}\".format(yy) for yy in xx])\n",
    "# str_masses = lambda xx: str_array(np.percentile(xx/MSOL, percs))\n",
    "\n",
    "# # Modify population\n",
    "# print(\"Masses before: \", str_masses(bin_pop.mass))\n",
    "# bin_pop.modify(mod_mm13)\n",
    "# print(\"Masses after : \", str_masses(bin_pop.mass))\n",
    "    \n",
    "# plot_mbh_scaling_relations(bin_pop, fname=FNAME_MCCONNELL_MA_2013)\n",
    "# plt.show()"
   ]
  },
  {
   "cell_type": "markdown",
   "metadata": {},
   "source": [
    "# Binary Evolution"
   ]
  },
  {
   "cell_type": "code",
   "execution_count": null,
   "metadata": {},
   "outputs": [],
   "source": [
    "bin_evo = holo.BE_Magic_Delay(bin_pop)\n",
    "bin_evo.evolve()"
   ]
  },
  {
   "cell_type": "markdown",
   "metadata": {},
   "source": [
    "# Calculate GWB"
   ]
  },
  {
   "cell_type": "code",
   "execution_count": null,
   "metadata": {},
   "outputs": [],
   "source": [
    "freqs = holo.utils.nyquist_freqs(10.0, 1.0)\n",
    "gwb = holo.GWB(bin_evo, freqs/YR)"
   ]
  },
  {
   "cell_type": "code",
   "execution_count": null,
   "metadata": {},
   "outputs": [],
   "source": [
    "plot_gwb(gwb)\n",
    "plt.show()"
   ]
  },
  {
   "cell_type": "code",
   "execution_count": null,
   "metadata": {},
   "outputs": [],
   "source": []
  },
  {
   "cell_type": "code",
   "execution_count": null,
   "metadata": {},
   "outputs": [],
   "source": []
  },
  {
   "cell_type": "code",
   "execution_count": null,
   "metadata": {},
   "outputs": [],
   "source": []
  },
  {
   "cell_type": "code",
   "execution_count": null,
   "metadata": {},
   "outputs": [],
   "source": [
    "# NO ECC\n",
    "\n",
    "_calc_mc_at_fobs()\n",
    "fobs=3.17e-09, temp =(6.28e-47, 3.02e-44, 2.14e-42, 7.63e-40, 6.89e-32), for (0%, 16%, 50%, 84%, 100%)\n",
    "fobs=3.17e-09, hs2  =(6.28e-47, 3.02e-44, 2.14e-42, 7.63e-40, 6.89e-32), for (0%, 16%, 50%, 84%, 100%)\n",
    "fobs=3.17e-09, gne  =(1, 1, 1, 1, 1), for (0%, 16%, 50%, 84%, 100%)\n",
    "fobs=3.17e-09, harms=(2, 2, 2, 2, 2), for (0%, 16%, 50%, 84%, 100%)\n",
    "\n"
   ]
  },
  {
   "cell_type": "code",
   "execution_count": null,
   "metadata": {},
   "outputs": [],
   "source": [
    "import zcode.math as zmath"
   ]
  },
  {
   "cell_type": "code",
   "execution_count": null,
   "metadata": {},
   "outputs": [],
   "source": [
    "bin_pop = holo.BP_Illustris(FNAME_ILLUSTRIS_DATA)\n",
    "\n",
    "mods = []\n",
    "# mod_ecc = holo.PM_Eccentricity([1.0e-4, 0.01])\n",
    "mod_ecc = holo.PM_Eccentricity()\n",
    "mods.append(mod_ecc)\n",
    "mod_resamp = holo.PM_Resample(resample=5.0)\n",
    "mods.append(mod_resamp)\n",
    "mod_mm13 = holo.PM_MM13(relation='mbulge')\n",
    "mods.append(mod_mm13)\n",
    "\n",
    "bin_pop.modify(mods)\n",
    "\n",
    "# bin_evo = holo.evolution.BE_Magic_Delay_Circ(bin_pop)\n",
    "bin_evo = holo.evolution.BE_Magic_Delay_Eccen(bin_pop, time_delay=1e9*YR, nsteps=100)\n",
    "bin_evo.evolve()\n",
    "\n",
    "freqs = holo.utils.nyquist_freqs(10.0, 1.0)\n",
    "gwb = holo.GWB(bin_evo, freqs/YR, nreals=30)\n",
    "\n",
    "plot_gwb(gwb)\n",
    "plt.show()"
   ]
  },
  {
   "cell_type": "code",
   "execution_count": null,
   "metadata": {},
   "outputs": [],
   "source": [
    "plot_sepa_eccen(bin_evo)\n",
    "plt.show()"
   ]
  },
  {
   "cell_type": "code",
   "execution_count": null,
   "metadata": {},
   "outputs": [],
   "source": [
    "import zcode.plot as zplot\n",
    "\n",
    "def plot_sepa_eccen(evo):\n",
    "    \n",
    "    xx = np.logspace(-3, 1, 20) / YR\n",
    "\n",
    "    fig, ax = plt.subplots(figsize=[10, 5])\n",
    "    ax.set(xscale='log', yscale='log')\n",
    "\n",
    "    data = evo.at('fobs', xx)\n",
    "\n",
    "    xx = xx * YR\n",
    "    \n",
    "    def draw(ax, name, color=None, units=1.0):\n",
    "        # vals = getattr(data, vals)\n",
    "        vals = data[name]\n",
    "        if vals is None:\n",
    "            return\n",
    "        vals = vals / units\n",
    "        vals = np.percentile(vals, [25, 50, 75], axis=0)\n",
    "        hh, = ax.plot(xx, vals[1], color=color)\n",
    "        ax.fill_between(xx, vals[0], vals[-1], alpha=0.25, color=hh.get_color())                \n",
    "        ax.set_ylabel(name)\n",
    "        \n",
    "    draw(ax, 'sepa', 'blue', PC)\n",
    "\n",
    "    col = 'green'\n",
    "    ax = zplot.twin_axis(ax, pos=1.0, scale='lin', color=col)\n",
    "    draw(ax, 'eccen', col)\n",
    "\n",
    "    col = 'red'\n",
    "    ax = zplot.twin_axis(ax, pos=1.1, scale='log', color=col)\n",
    "    draw(ax, 'dadt', col, PC/(1e9*YR))\n",
    "\n",
    "    return\n",
    "\n",
    "plot_sepa_eccen(bin_evo)\n",
    "plt.show()"
   ]
  },
  {
   "cell_type": "code",
   "execution_count": null,
   "metadata": {},
   "outputs": [],
   "source": [
    "def plot_sepa_eccen(evo):\n",
    "    fig, axes = plt.subplots(figsize=[10, 5], ncols=2)\n",
    "\n",
    "    ax = axes[0]\n",
    "    ax.set(xscale='log')\n",
    "    ax.scatter(evo.sepa/PC, evo.eccen)\n",
    "\n",
    "    ax = axes[1]\n",
    "    ax.set(xscale='log', yscale='log')\n",
    "    ax.scatter(evo.dadt, evo.dedt)\n",
    "    print(\"dadt = \", holo.utils.minmax(evo.dadt))\n",
    "    print(\"dedt = \", holo.utils.minmax(evo.dedt))\n",
    "    \n",
    "    return\n",
    "\n",
    "plot_sepa_eccen(bin_evo)\n",
    "plt.show()"
   ]
  },
  {
   "cell_type": "code",
   "execution_count": null,
   "metadata": {},
   "outputs": [],
   "source": []
  },
  {
   "cell_type": "code",
   "execution_count": null,
   "metadata": {},
   "outputs": [],
   "source": []
  }
 ],
 "metadata": {
  "kernelspec": {
   "display_name": "py38",
   "language": "python",
   "name": "py38"
  },
  "language_info": {
   "codemirror_mode": {
    "name": "ipython",
    "version": 3
   },
   "file_extension": ".py",
   "mimetype": "text/x-python",
   "name": "python",
   "nbconvert_exporter": "python",
   "pygments_lexer": "ipython3",
   "version": "3.8.5"
  }
 },
 "nbformat": 4,
 "nbformat_minor": 4
}
