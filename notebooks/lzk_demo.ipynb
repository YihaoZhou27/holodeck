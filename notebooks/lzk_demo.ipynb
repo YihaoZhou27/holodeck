{
 "cells": [
  {
   "cell_type": "code",
   "execution_count": null,
   "metadata": {},
   "outputs": [],
   "source": [
    "%reload_ext autoreload\n",
    "%autoreload 2\n",
    "\n",
    "import os\n",
    "import sys\n",
    "import numpy as np\n",
    "import matplotlib as mpl\n",
    "import matplotlib.pyplot as plt\n",
    "\n",
    "import h5py\n",
    "\n",
    "import kalepy as kale\n",
    "\n",
    "import holodeck as holo\n",
    "from holodeck.constants import MSOL, PC"
   ]
  },
  {
   "cell_type": "code",
   "execution_count": null,
   "metadata": {},
   "outputs": [],
   "source": [
    "FNAME_ILLUSTRIS_DATA = (\n",
    "    \"/Users/lzkelley/Research/NANOGrav/holodeck/\"\n",
    "    \"data_external/galaxy-mergers_L75n1820FP_gas-100_dm-100_star-100_bh-000.hdf5\"\n",
    ")"
   ]
  },
  {
   "cell_type": "code",
   "execution_count": null,
   "metadata": {},
   "outputs": [],
   "source": [
    "def plot_bin_pop(bin_pop):\n",
    "    # Plot binary parameters\n",
    "    mt, mr = holo.utils.mtmr_from_m1m2(bin_pop.mass)\n",
    "    redz = holo.utils.a_to_z(bin_pop.time)\n",
    "    data = [mt/MSOL, mr, bin_pop.sepa/PC, 1+redz]\n",
    "    data = [np.log10(dd) for dd in data]\n",
    "    reflect = [None, [None, 0], None, [0, None]]\n",
    "    labels = ['M', 'q', 'a', 'z']\n",
    "    if bin_pop.eccs is not None:\n",
    "        data.append(bin_pop.eccs)\n",
    "        reflect.append([0.0, 1.0])\n",
    "        labels.append('e')\n",
    "    \n",
    "    kde = kale.KDE(data, reflect=reflect)\n",
    "    corner = kale.Corner(kde, labels=labels, figsize=[8, 8])\n",
    "    corner.plot_data(kde)\n",
    "    return corner"
   ]
  },
  {
   "cell_type": "markdown",
   "metadata": {},
   "source": [
    "## Construct Illustris-Based Binary Population"
   ]
  },
  {
   "cell_type": "code",
   "execution_count": null,
   "metadata": {},
   "outputs": [],
   "source": [
    "bin_pop = holo.holodeck.BP_Illustris(FNAME_ILLUSTRIS_DATA)\n",
    "ill_name = os.path.basename(bin_pop._fname).split('_')[1]\n",
    "print(\"Loaded\", bin_pop.size, \"binaries from Illustris\", ill_name)"
   ]
  },
  {
   "cell_type": "code",
   "execution_count": null,
   "metadata": {},
   "outputs": [],
   "source": [
    "plot_bin_pop(bin_pop)\n",
    "plt.show()"
   ]
  },
  {
   "cell_type": "markdown",
   "metadata": {},
   "source": [
    "## Apply a modifier to add (arbitrary) eccentricities, and resample 5x"
   ]
  },
  {
   "cell_type": "code",
   "execution_count": null,
   "metadata": {},
   "outputs": [],
   "source": [
    "mod_ecc = holo.holodeck.PM_Eccentricity()\n",
    "mod_resamp = holo.holodeck.PM_Resample(resample=5.0)\n",
    "mods = [mod_ecc, mod_resamp]\n",
    "for mod in mods:\n",
    "    mod(bin_pop)\n",
    "    \n",
    "bin_pop._update_derived()\n",
    "    \n",
    "print(\"Population now has\", bin_pop.size, \"elements\")"
   ]
  },
  {
   "cell_type": "code",
   "execution_count": null,
   "metadata": {},
   "outputs": [],
   "source": [
    "plot_bin_pop(bin_pop)\n",
    "plt.show()"
   ]
  }
 ],
 "metadata": {
  "kernelspec": {
   "display_name": "py38",
   "language": "python",
   "name": "py38"
  },
  "language_info": {
   "codemirror_mode": {
    "name": "ipython",
    "version": 3
   },
   "file_extension": ".py",
   "mimetype": "text/x-python",
   "name": "python",
   "nbconvert_exporter": "python",
   "pygments_lexer": "ipython3",
   "version": "3.8.5"
  }
 },
 "nbformat": 4,
 "nbformat_minor": 4
}
