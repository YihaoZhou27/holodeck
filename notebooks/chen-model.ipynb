{
 "cells": [
  {
   "cell_type": "code",
   "execution_count": null,
   "id": "passing-albuquerque",
   "metadata": {},
   "outputs": [],
   "source": [
    "# %load ./init.ipy\n",
    "%reload_ext autoreload\n",
    "%autoreload 2\n",
    "from importlib import reload\n",
    "\n",
    "import os\n",
    "import sys\n",
    "import logging\n",
    "import warnings\n",
    "import numpy as np\n",
    "import astropy as ap\n",
    "import scipy as sp\n",
    "import scipy.stats\n",
    "import matplotlib as mpl\n",
    "import matplotlib.pyplot as plt\n",
    "\n",
    "import h5py\n",
    "\n",
    "import kalepy as kale\n",
    "\n",
    "import holodeck as holo\n",
    "import holodeck.sam\n",
    "from holodeck import cosmo, utils\n",
    "from holodeck.constants import MSOL, PC, YR, MPC, GYR\n",
    "\n",
    "# Silence annoying numpy errors\n",
    "np.seterr(divide='ignore', invalid='ignore', over='ignore')\n",
    "warnings.filterwarnings(\"ignore\", category=UserWarning)\n",
    "\n",
    "# Plotting settings\n",
    "mpl.rc('font', **{'family': 'serif', 'sans-serif': ['Times'], 'size': 15})\n",
    "mpl.rc('lines', solid_capstyle='round')\n",
    "mpl.rc('mathtext', fontset='cm')\n",
    "plt.rcParams.update({'grid.alpha': 0.5})"
   ]
  },
  {
   "cell_type": "code",
   "execution_count": null,
   "id": "charitable-substitute",
   "metadata": {},
   "outputs": [],
   "source": [
    "import holodeck.sam\n",
    "reload(holodeck.sam)\n",
    "sam = holodeck.sam.BP_Semi_Analytic()\n",
    "\n",
    "freqs = 1/YR\n",
    "gwb = sam.gwb_sa(freqs)\n",
    "\n",
    "hc = np.sqrt(np.sum(gwb, axis=(1, 2, 3)))\n",
    "hc.shape, hc"
   ]
  },
  {
   "cell_type": "markdown",
   "id": "c6d73c1c",
   "metadata": {},
   "source": [
    "# Discretize Population"
   ]
  },
  {
   "cell_type": "code",
   "execution_count": null,
   "id": "6d1021fc",
   "metadata": {},
   "outputs": [],
   "source": [
    "import holodeck.sam\n",
    "reload(holodeck.sam)\n",
    "sam = holodeck.sam.BP_Semi_Analytic()\n",
    "edges = sam.edges\n",
    "nbh = sam.dnbh()"
   ]
  },
  {
   "cell_type": "code",
   "execution_count": null,
   "id": "c204692e",
   "metadata": {},
   "outputs": [],
   "source": [
    "# num_mbhb_fobs.shape\n",
    "self.mchirp"
   ]
  },
  {
   "cell_type": "code",
   "execution_count": null,
   "id": "13781216",
   "metadata": {},
   "outputs": [],
   "source": [
    "freqs = utils.nyquist_freqs(20.0, 0.1, trim=[None, 5.0])\n",
    "num_mbhb_fobs, hs = sam.num_mbhb(freqs/YR)\n",
    "edges_freqs = sam.edges + [freqs,]\n",
    "num = num_mbhb_fobs.sum()\n",
    "print(f\"{num=:.4e}\")\n",
    "num = np.random.poisson(num)\n",
    "print(f\"\\t{num:.4e}\")"
   ]
  },
  {
   "cell_type": "code",
   "execution_count": null,
   "id": "cd32f6c9",
   "metadata": {},
   "outputs": [],
   "source": [
    "vals = num_mbhb_fobs[..., 0].sum(axis=-1)\n",
    "plt.pcolormesh(sam.mbh1, sam.mrat, vals.T)\n",
    "plt.show()"
   ]
  },
  {
   "cell_type": "code",
   "execution_count": null,
   "id": "ec0c953a",
   "metadata": {},
   "outputs": [],
   "source": [
    "np.less()"
   ]
  },
  {
   "cell_type": "code",
   "execution_count": null,
   "id": "314b2d67",
   "metadata": {},
   "outputs": [],
   "source": []
  },
  {
   "cell_type": "code",
   "execution_count": null,
   "id": "34ae305a",
   "metadata": {},
   "outputs": [],
   "source": []
  },
  {
   "cell_type": "code",
   "execution_count": null,
   "id": "a432773d",
   "metadata": {},
   "outputs": [],
   "source": [
    "DOWN = 10.0\n",
    "num_mbhb = kale.utils.midpoints(num_mbhb_fobs, axis=None)\n",
    "portion = np.copy(num_mbhb)\n",
    "# portion = kale.utils.midpoints(num_mbhb_fobs, axis=None)\n",
    "# portion = np.copy(num_mbhb_fobs)\n",
    "\n",
    "print(f\"{portion.sum()=:.4e}\")\n",
    "# edges = edges_freqs\n",
    "edges = [sam.mbh1, sam.mrat, sam.redz, freqs]\n",
    "operators = [np.less, np.less, np.greater, None]\n",
    "values = [\n",
    "    [8.0, 7.0, 6.0],\n",
    "    [0.1, 0.05],\n",
    "    [2.0, 4.0, 6.0],\n",
    "    []\n",
    "]\n",
    "\n",
    "for ii, (ee, op, val) in enumerate(zip(edges, operators, values)):\n",
    "    portion = np.moveaxis(portion, ii, 0)\n",
    "    mm = kale.utils.midpoints(ee)\n",
    "    # mm = ee\n",
    "    for vv in val:\n",
    "        idx = op(mm, vv)\n",
    "        portion[idx] = portion[idx] / DOWN\n",
    "\n",
    "    portion = np.moveaxis(portion, 0, ii)\n",
    "\n",
    "print(f\"{portion.sum()=:.4e}\")\n",
    "down = num_mbhb/portion\n",
    "down = np.nan_to_num(down)\n",
    "print(utils.stats(down))"
   ]
  },
  {
   "cell_type": "code",
   "execution_count": null,
   "id": "26d1b605",
   "metadata": {},
   "outputs": [],
   "source": [
    "# sample = kale.sample_grid(edges_fobs, num_mbhb_fobs, num/1000)\n",
    "\n",
    "nsamp = num_mbhb_fobs.sum()\n",
    "print(f\"{nsamp=:.8e}\")\n",
    "nsamp = np.random.poisson(nsamp) / nsamp\n",
    "print(f\"{1-nsamp=:.8e}\")\n",
    "nsamp = int(portion.sum() * nsamp)\n",
    "print(f\"{nsamp=:.8e}\")\n",
    "# sample, weights = kale.sample_grid_proportional(edges, num_mbhb_fobs, portion, nsamp)\n",
    "sample, weights = kale.sample_grid_proportional(edges, num_mbhb, portion, nsamp)"
   ]
  },
  {
   "cell_type": "code",
   "execution_count": null,
   "id": "7495b13f",
   "metadata": {},
   "outputs": [],
   "source": [
    "sample[0]"
   ]
  },
  {
   "cell_type": "code",
   "execution_count": null,
   "id": "7d93af41",
   "metadata": {},
   "outputs": [],
   "source": [
    "ii = 0\n",
    "bins = [sam.mbh1, sam.mrat]\n",
    "\n",
    "fig, axes = plt.subplots(figsize=[20, 4], ncols=4)\n",
    "\n",
    "ax = axes[ii]; ii += 1\n",
    "vals = num_mbhb[..., 0].sum(axis=-1)\n",
    "# vals = num_mbhb.sum(axis=(-1, -2))\n",
    "\n",
    "# norm = mpl.colors.LogNorm(vals[vals > 0].min(), vals.max())\n",
    "# norm = mpl.colors.Normalize(vals.min(), vals.max())\n",
    "# print(norm.vmin, norm.vmax, norm)\n",
    "# kw = dict(norm=norm)\n",
    "kw = dict()\n",
    "\n",
    "ax.pcolormesh(*bins, vals.T, **kw)\n",
    "\n",
    "\n",
    "ax = axes[ii]; ii += 1\n",
    "vals = portion[..., 0].sum(axis=-1)\n",
    "# vals = portion.sum(axis=(-1, -2))\n",
    "ax.pcolormesh(*bins, vals.T, **kw)\n",
    "\n",
    "\n",
    "idx = (sample[-1] < edges[-1][1])\n",
    "\n",
    "ax = axes[ii]; ii += 1\n",
    "hist, *_ = np.histogram2d(sample[0][idx], sample[1][idx], bins=bins)\n",
    "ax.pcolormesh(*bins, hist.T, **kw)\n",
    "\n",
    "\n",
    "ax = axes[ii]; ii += 1\n",
    "hist, *_ = np.histogram2d(sample[0][idx], sample[1][idx], bins=bins, weights=weights[idx])\n",
    "ax.pcolormesh(*bins, hist.T, **kw)\n",
    "\n",
    "\n",
    "plt.show()"
   ]
  },
  {
   "cell_type": "code",
   "execution_count": null,
   "id": "20163c41",
   "metadata": {},
   "outputs": [],
   "source": [
    "ii = 0\n",
    "bins = [sam.mbh1, sam.mrat]\n",
    "\n",
    "fig, ax = plt.subplots(figsize=[20, 10])\n",
    "\n",
    "vals = num_mbhb[..., 0].sum(axis=-1)\n",
    "\n",
    "idx = (sample[-1] < edges[-1][1])\n",
    "hist, *_ = np.histogram2d(sample[0][idx], sample[1][idx], bins=bins, weights=weights[idx])\n",
    "\n",
    "data = np.ones_like(vals) * np.nan\n",
    "idx = (hist > 0)\n",
    "data[idx] = (vals[idx] / hist[idx]) - 1.0\n",
    "print(utils.stats(data))\n",
    "\n",
    "data = np.log10(np.fabs(data))\n",
    "\n",
    "pcm = ax.pcolormesh(*bins, data.T)\n",
    "plt.colorbar(pcm)\n",
    "\n",
    "plt.show()"
   ]
  },
  {
   "cell_type": "code",
   "execution_count": null,
   "id": "3a40b1bf",
   "metadata": {},
   "outputs": [],
   "source": [
    "cut = tuple([slice(None), 20, 10, 10])\n",
    "portion[cut] / num_mbhb_fobs[cut]"
   ]
  },
  {
   "cell_type": "code",
   "execution_count": null,
   "id": "63fd4c34",
   "metadata": {},
   "outputs": [],
   "source": []
  },
  {
   "cell_type": "code",
   "execution_count": null,
   "id": "0dd6e4fa",
   "metadata": {},
   "outputs": [],
   "source": []
  },
  {
   "cell_type": "code",
   "execution_count": null,
   "id": "8a02a719",
   "metadata": {},
   "outputs": [],
   "source": []
  },
  {
   "cell_type": "code",
   "execution_count": null,
   "id": "0054aceb",
   "metadata": {},
   "outputs": [],
   "source": [
    "num_mbhb = sam.num_mbhb()"
   ]
  },
  {
   "cell_type": "code",
   "execution_count": null,
   "id": "72e7a9cf",
   "metadata": {},
   "outputs": [],
   "source": [
    "freqs = utils.nyquist_freqs(20.0, 0.1, trim=[None, 5.0])\n",
    "print(freqs.size, freqs)\n",
    "frest = freqs[np.newaxis, :] * (1.0 + sam.redz[:, np.newaxis])\n",
    "print(frest.shape)\n",
    "\n",
    "m1 = sam.mbh1[:, np.newaxis, np.newaxis]   # (m1, redz, freq)\n",
    "m1 = (10.0 ** m1) * MSOL\n",
    "sepa = utils.kepler_sep_from_freq(m1, frest[np.newaxis, ...]/YR)\n",
    "print(f\"{sepa.shape=}, {utils.minmax(sepa/PC)=}\")\n",
    "m1 = m1[:, np.newaxis, :, :]   # (m1, z, f) ==> (m1, q, redz, freq)\n",
    "m2 = sam.mbh2[:, :, np.newaxis, np.newaxis]  # m1, q ==> m1, q, f, z\n",
    "m2 = (10.0 ** m2) * MSOL\n",
    "time = utils.time_to_merge_at_sep(m1, m2, sepa[:, np.newaxis, :, :])\n",
    "time[time < 0.0] = np.nan\n",
    "print(f\"{time.shape=}, {utils.minmax(time/GYR)=}\")\n",
    "\n",
    "fobs = 0.5 * (freqs[1:] + freqs[:-1])\n",
    "dt = -np.diff(time, axis=-1)\n",
    "dt = np.nan_to_num(dt)\n",
    "print(f\"{dt.shape=}, {utils.minmax(dt/GYR)=}\")\n",
    "tot_time = time[..., 0, np.newaxis]\n",
    "print(f\"{tot_time.shape=}, {utils.minmax(tot_time/GYR)=}\")\n",
    "mrat = sam.mrat[np.newaxis, :, np.newaxis, np.newaxis]\n",
    "zz = sam.redz[np.newaxis, np.newaxis, :, np.newaxis]\n",
    "mtime = sam.merger_time(m1, mrat, zz) * GYR\n",
    "print(f\"{mtime.shape=}, {utils.minmax(mtime/GYR)=}\")\n",
    "tot_time += mtime\n",
    "tfrac = dt / tot_time\n",
    "print(f\"{tfrac.shape=}, {utils.minmax(tfrac)=}\")\n",
    "temp = utils.stats(tfrac.sum(axis=-1))\n",
    "print(temp)\n",
    "\n",
    "num_mbhb_fobs = num_mbhb[..., np.newaxis] * tfrac\n",
    "edges_fobs = edges + [fobs]\n",
    "edges_fobs[0] = np.log10(edges_fobs[0])"
   ]
  },
  {
   "cell_type": "code",
   "execution_count": null,
   "id": "308fae1b",
   "metadata": {},
   "outputs": [],
   "source": [
    "sam.mchirp.shape"
   ]
  },
  {
   "cell_type": "code",
   "execution_count": null,
   "id": "65bba0bb",
   "metadata": {},
   "outputs": [],
   "source": [
    "num = num_mbhb_fobs.sum()\n",
    "print(f\"{num=:.4e}\")\n",
    "num = np.random.poisson(num)\n",
    "print(f\"\\t{num:.4e}\")"
   ]
  },
  {
   "cell_type": "code",
   "execution_count": null,
   "id": "21192a58",
   "metadata": {},
   "outputs": [],
   "source": [
    "sample = kale.sample_grid(edges_fobs, num_mbhb_fobs, num/1000)\n",
    "# sample[0, :] = np.power(10.0, sample[0, :])"
   ]
  },
  {
   "cell_type": "code",
   "execution_count": null,
   "id": "d729487c",
   "metadata": {},
   "outputs": [],
   "source": [
    "for ss in sample:\n",
    "    print(utils.minmax(ss), np.mean(ss))"
   ]
  },
  {
   "cell_type": "code",
   "execution_count": null,
   "id": "457853ca",
   "metadata": {},
   "outputs": [],
   "source": [
    "corner = kale.Corner(sample)\n",
    "corner.plot_data()\n",
    "plt.show()"
   ]
  },
  {
   "cell_type": "code",
   "execution_count": null,
   "id": "c257a789",
   "metadata": {},
   "outputs": [],
   "source": [
    "sam.mbh2.shape"
   ]
  },
  {
   "cell_type": "code",
   "execution_count": null,
   "id": "b5af82a0",
   "metadata": {},
   "outputs": [],
   "source": [
    "import zcode.plot as zplot"
   ]
  },
  {
   "cell_type": "markdown",
   "id": "5499d047",
   "metadata": {},
   "source": [
    "# Examine convergence properties"
   ]
  },
  {
   "cell_type": "code",
   "execution_count": null,
   "id": "13071387",
   "metadata": {},
   "outputs": [],
   "source": [
    "FREQ = 1.0 / YR\n",
    "MSTAR = [8.5, 13.0, 46]\n",
    "MRAT = [0.02, 1.0, 50]\n",
    "REDZ = [0.0, 6.0, 61]\n",
    "# np.logspace(*MSTAR)"
   ]
  },
  {
   "cell_type": "markdown",
   "id": "a10f5e8d",
   "metadata": {},
   "source": [
    "### mass"
   ]
  },
  {
   "cell_type": "code",
   "execution_count": null,
   "id": "regulated-report",
   "metadata": {},
   "outputs": [],
   "source": [
    "mstar_args = [\n",
    "    [8.5, 13, 41],    \n",
    "    [8.5, 13.5, 41],    \n",
    "    [8.5, 14.0, 41],    \n",
    "    [8.5, 13, 41],    \n",
    "    [8.5, 13, 61],    \n",
    "    [8.5, 13, 81],    \n",
    "]\n",
    "\n",
    "fig, ax = zplot.figax(scale='linear')\n",
    "\n",
    "strain = []\n",
    "labels = []\n",
    "for ii, mstar in enumerate(mstar_args):\n",
    "    sam = holodeck.sam.BP_Semi_Analytic(mstar_pri=mstar, mrat=MRAT, redz=REDZ)\n",
    "    gwb = sam.gwb_sa(FREQ)\n",
    "    hc = np.sqrt(np.sum(gwb))\n",
    "    ax.plot(ii+1, hc, marker='o', label=str(mstar))\n",
    "    \n",
    "plt.legend()\n",
    "plt.show()"
   ]
  },
  {
   "cell_type": "markdown",
   "id": "4990bb7a",
   "metadata": {},
   "source": [
    "### mass-ratio"
   ]
  },
  {
   "cell_type": "code",
   "execution_count": null,
   "id": "continental-champion",
   "metadata": {},
   "outputs": [],
   "source": [
    "args = [\n",
    "    [0.02, 1.0, 40],\n",
    "    [0.02, 1.0, 50],\n",
    "    [0.02, 1.0, 60],\n",
    "    [0.02, 1.0, 70],\n",
    "    [0.02, 1.0, 80],\n",
    "    [0.02, 1.0, 160],\n",
    "    [0.02, 1.0, 320],\n",
    "    [0.02, 1.0, 640],\n",
    "    [0.02, 1.0, 160],\n",
    "    [0.002, 1.0, 160],\n",
    "    [0.0002, 1.0, 160],\n",
    "]\n",
    "\n",
    "fig, ax = zplot.figax(scale='linear')\n",
    "\n",
    "strain = []\n",
    "labels = []\n",
    "for ii, arg in enumerate(args):\n",
    "    sam = holodeck.sam.BP_Semi_Analytic(mstar_pri=MSTAR, mrat=arg, redz=REDZ)\n",
    "    gwb = sam.gwb_sa(FREQ)\n",
    "    hc = np.sqrt(np.sum(gwb))\n",
    "    ax.plot(ii+1, hc, marker='o', label=str(arg))\n",
    "    \n",
    "plt.legend()\n",
    "plt.show()"
   ]
  },
  {
   "cell_type": "markdown",
   "id": "ba79bb6f",
   "metadata": {},
   "source": [
    "### redshift"
   ]
  },
  {
   "cell_type": "code",
   "execution_count": null,
   "id": "211ba942",
   "metadata": {},
   "outputs": [],
   "source": [
    "fig, ax = zplot.figax(scale='linear')\n",
    "\n",
    "strain = []\n",
    "labels = []\n",
    "for ii in range(10):\n",
    "    arg = [0.0, 1.0 + ii, int((1.0 + ii)/0.05)]\n",
    "    sam = holodeck.sam.BP_Semi_Analytic(mstar_pri=MSTAR, mrat=MRAT, redz=arg)\n",
    "    gwb = sam.gwb_sa(FREQ)\n",
    "    hc = np.sqrt(np.sum(gwb))\n",
    "    ax.plot(ii+1, hc, marker='o', label=str(arg))\n",
    "    \n",
    "plt.legend()\n",
    "plt.show()"
   ]
  },
  {
   "cell_type": "code",
   "execution_count": null,
   "id": "unlimited-status",
   "metadata": {},
   "outputs": [],
   "source": [
    "args = [\n",
    "    [0.0, 6.0, 40],\n",
    "    [0.0, 6.0, 80],\n",
    "    [0.0, 6.0, 100],\n",
    "    [0.0, 6.0, 150],\n",
    "    [0.0, 6.0, 200],\n",
    "    [0.0, 6.0, 250],\n",
    "    [0.0, 6.0, 300],\n",
    "]\n",
    "\n",
    "fig, ax = zplot.figax(scale='linear')\n",
    "\n",
    "strain = []\n",
    "labels = []\n",
    "for ii, arg in enumerate(args):\n",
    "    sam = holodeck.sam.BP_Semi_Analytic(mstar_pri=MSTAR, mrat=MRAT, redz=arg)\n",
    "    \n",
    "    gwb = sam.gwb_sa(FREQ)   # [:, :, :, 1:]\n",
    "    hc = np.sqrt(np.sum(gwb))\n",
    "\n",
    "    ax.plot(ii+1, hc, marker='o', label=str(arg))\n",
    "    \n",
    "plt.legend()\n",
    "plt.show()"
   ]
  },
  {
   "cell_type": "code",
   "execution_count": null,
   "id": "active-benchmark",
   "metadata": {},
   "outputs": [],
   "source": []
  },
  {
   "cell_type": "code",
   "execution_count": null,
   "id": "hollywood-trademark",
   "metadata": {},
   "outputs": [],
   "source": []
  },
  {
   "cell_type": "code",
   "execution_count": null,
   "id": "conservative-junior",
   "metadata": {},
   "outputs": [],
   "source": []
  },
  {
   "cell_type": "code",
   "execution_count": null,
   "id": "acoustic-meter",
   "metadata": {},
   "outputs": [],
   "source": []
  }
 ],
 "metadata": {
  "kernelspec": {
   "display_name": "py38",
   "language": "python",
   "name": "py38"
  },
  "language_info": {
   "codemirror_mode": {
    "name": "ipython",
    "version": 3
   },
   "file_extension": ".py",
   "mimetype": "text/x-python",
   "name": "python",
   "nbconvert_exporter": "python",
   "pygments_lexer": "ipython3",
   "version": "3.8.10"
  },
  "toc": {
   "base_numbering": 1,
   "nav_menu": {},
   "number_sections": true,
   "sideBar": true,
   "skip_h1_title": false,
   "title_cell": "Table of Contents",
   "title_sidebar": "Contents",
   "toc_cell": false,
   "toc_position": {
    "height": "calc(100% - 180px)",
    "left": "10px",
    "top": "150px",
    "width": "165px"
   },
   "toc_section_display": true,
   "toc_window_display": true
  },
  "varInspector": {
   "cols": {
    "lenName": 16,
    "lenType": 16,
    "lenVar": 40
   },
   "kernels_config": {
    "python": {
     "delete_cmd_postfix": "",
     "delete_cmd_prefix": "del ",
     "library": "var_list.py",
     "varRefreshCmd": "print(var_dic_list())"
    },
    "r": {
     "delete_cmd_postfix": ") ",
     "delete_cmd_prefix": "rm(",
     "library": "var_list.r",
     "varRefreshCmd": "cat(var_dic_list()) "
    }
   },
   "types_to_exclude": [
    "module",
    "function",
    "builtin_function_or_method",
    "instance",
    "_Feature"
   ],
   "window_display": false
  }
 },
 "nbformat": 4,
 "nbformat_minor": 5
}
