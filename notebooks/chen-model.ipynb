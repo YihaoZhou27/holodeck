{
 "cells": [
  {
   "cell_type": "code",
   "execution_count": null,
   "id": "passing-albuquerque",
   "metadata": {},
   "outputs": [],
   "source": [
    "# %load ./init.ipy\n",
    "%reload_ext autoreload\n",
    "%autoreload 2\n",
    "from importlib import reload\n",
    "\n",
    "import os\n",
    "import sys\n",
    "import logging\n",
    "import warnings\n",
    "import numpy as np\n",
    "import astropy as ap\n",
    "import scipy as sp\n",
    "import scipy.stats\n",
    "import matplotlib as mpl\n",
    "import matplotlib.pyplot as plt\n",
    "\n",
    "import h5py\n",
    "\n",
    "import kalepy as kale\n",
    "\n",
    "import holodeck as holo\n",
    "from holodeck import cosmo, utils\n",
    "from holodeck.constants import MSOL, PC, YR, MPC, GYR\n",
    "\n",
    "# Silence annoying numpy errors\n",
    "np.seterr(divide='ignore', invalid='ignore', over='ignore')\n",
    "warnings.filterwarnings(\"ignore\", category=UserWarning)\n",
    "\n",
    "# Plotting settings\n",
    "mpl.rc('font', **{'family': 'serif', 'sans-serif': ['Times'], 'size': 15})\n",
    "mpl.rc('lines', solid_capstyle='round')\n",
    "mpl.rc('mathtext', fontset='cm')\n",
    "plt.rcParams.update({'grid.alpha': 0.5})"
   ]
  },
  {
   "cell_type": "code",
   "execution_count": null,
   "id": "charitable-substitute",
   "metadata": {},
   "outputs": [],
   "source": [
    "import holodeck.sam\n",
    "reload(holodeck.sam)\n",
    "sam = holodeck.sam.BP_Semi_Analytic()\n",
    "\n",
    "freqs = 1/YR\n",
    "gwb = sam.gwb_sa(freqs)\n",
    "\n",
    "hc = np.sqrt(np.sum(gwb, axis=(1, 2, 3)))\n",
    "hc.shape, hc"
   ]
  },
  {
   "cell_type": "code",
   "execution_count": null,
   "id": "b5af82a0",
   "metadata": {},
   "outputs": [],
   "source": [
    "import zcode.plot as zplot"
   ]
  },
  {
   "cell_type": "markdown",
   "id": "5499d047",
   "metadata": {},
   "source": [
    "## Examine convergence properties"
   ]
  },
  {
   "cell_type": "code",
   "execution_count": null,
   "id": "13071387",
   "metadata": {},
   "outputs": [],
   "source": [
    "FREQ = 1.0 / YR\n",
    "MSTAR = [8.5, 13.0, 46]\n",
    "MRAT = [0.02, 1.0, 50]\n",
    "REDZ = [0.0, 6.0, 61]\n",
    "# np.logspace(*MSTAR)"
   ]
  },
  {
   "cell_type": "markdown",
   "id": "a10f5e8d",
   "metadata": {},
   "source": [
    "### mass"
   ]
  },
  {
   "cell_type": "code",
   "execution_count": null,
   "id": "regulated-report",
   "metadata": {},
   "outputs": [],
   "source": [
    "mstar_args = [\n",
    "    [8.5, 13, 41],    \n",
    "    [8.5, 13.5, 41],    \n",
    "    [8.5, 14.0, 41],    \n",
    "    [8.5, 13, 41],    \n",
    "    [8.5, 13, 61],    \n",
    "    [8.5, 13, 81],    \n",
    "]\n",
    "\n",
    "fig, ax = zplot.figax(scale='linear')\n",
    "\n",
    "strain = []\n",
    "labels = []\n",
    "for ii, mstar in enumerate(mstar_args):\n",
    "    sam = holodeck.sam.BP_Semi_Analytic(mstar_pri=mstar, mrat=MRAT, redz=REDZ)\n",
    "    gwb = sam.gwb_sa(FREQ)\n",
    "    hc = np.sqrt(np.sum(gwb))\n",
    "    ax.plot(ii+1, hc, marker='o', label=str(mstar))\n",
    "    \n",
    "plt.legend()\n",
    "plt.show()"
   ]
  },
  {
   "cell_type": "markdown",
   "id": "4990bb7a",
   "metadata": {},
   "source": [
    "### mass-ratio"
   ]
  },
  {
   "cell_type": "code",
   "execution_count": null,
   "id": "continental-champion",
   "metadata": {},
   "outputs": [],
   "source": [
    "args = [\n",
    "    [0.02, 1.0, 40],\n",
    "    [0.02, 1.0, 50],\n",
    "    [0.02, 1.0, 60],\n",
    "    [0.02, 1.0, 70],\n",
    "    [0.02, 1.0, 80],\n",
    "    [0.02, 1.0, 160],\n",
    "    [0.02, 1.0, 320],\n",
    "    [0.02, 1.0, 640],\n",
    "    [0.02, 1.0, 160],\n",
    "    [0.002, 1.0, 160],\n",
    "    [0.0002, 1.0, 160],\n",
    "]\n",
    "\n",
    "fig, ax = zplot.figax(scale='linear')\n",
    "\n",
    "strain = []\n",
    "labels = []\n",
    "for ii, arg in enumerate(args):\n",
    "    sam = holodeck.sam.BP_Semi_Analytic(mstar_pri=MSTAR, mrat=arg, redz=REDZ)\n",
    "    gwb = sam.gwb_sa(FREQ)\n",
    "    hc = np.sqrt(np.sum(gwb))\n",
    "    ax.plot(ii+1, hc, marker='o', label=str(arg))\n",
    "    \n",
    "plt.legend()\n",
    "plt.show()"
   ]
  },
  {
   "cell_type": "markdown",
   "id": "ba79bb6f",
   "metadata": {},
   "source": [
    "### redshift"
   ]
  },
  {
   "cell_type": "code",
   "execution_count": null,
   "id": "211ba942",
   "metadata": {},
   "outputs": [],
   "source": [
    "fig, ax = zplot.figax(scale='linear')\n",
    "\n",
    "strain = []\n",
    "labels = []\n",
    "for ii in range(10):\n",
    "    arg = [0.0, 1.0 + ii, int((1.0 + ii)/0.05)]\n",
    "    sam = holodeck.sam.BP_Semi_Analytic(mstar_pri=MSTAR, mrat=MRAT, redz=arg)\n",
    "    gwb = sam.gwb_sa(FREQ)\n",
    "    hc = np.sqrt(np.sum(gwb))\n",
    "    ax.plot(ii+1, hc, marker='o', label=str(arg))\n",
    "    \n",
    "plt.legend()\n",
    "plt.show()"
   ]
  },
  {
   "cell_type": "code",
   "execution_count": null,
   "id": "unlimited-status",
   "metadata": {},
   "outputs": [],
   "source": [
    "args = [\n",
    "    [0.0, 6.0, 40],\n",
    "    [0.0, 6.0, 80],\n",
    "    [0.0, 6.0, 100],\n",
    "    [0.0, 6.0, 150],\n",
    "    [0.0, 6.0, 200],\n",
    "    [0.0, 6.0, 250],\n",
    "    [0.0, 6.0, 300],\n",
    "]\n",
    "\n",
    "fig, ax = zplot.figax(scale='linear')\n",
    "\n",
    "strain = []\n",
    "labels = []\n",
    "for ii, arg in enumerate(args):\n",
    "    sam = holodeck.sam.BP_Semi_Analytic(mstar_pri=MSTAR, mrat=MRAT, redz=arg)\n",
    "    \n",
    "    gwb = sam.gwb_sa(FREQ)   # [:, :, :, 1:]\n",
    "    hc = np.sqrt(np.sum(gwb))\n",
    "\n",
    "    ax.plot(ii+1, hc, marker='o', label=str(arg))\n",
    "    \n",
    "plt.legend()\n",
    "plt.show()"
   ]
  },
  {
   "cell_type": "code",
   "execution_count": null,
   "id": "active-benchmark",
   "metadata": {},
   "outputs": [],
   "source": []
  },
  {
   "cell_type": "code",
   "execution_count": null,
   "id": "hollywood-trademark",
   "metadata": {},
   "outputs": [],
   "source": []
  },
  {
   "cell_type": "code",
   "execution_count": null,
   "id": "conservative-junior",
   "metadata": {},
   "outputs": [],
   "source": []
  },
  {
   "cell_type": "code",
   "execution_count": null,
   "id": "acoustic-meter",
   "metadata": {},
   "outputs": [],
   "source": []
  }
 ],
 "metadata": {
  "kernelspec": {
   "display_name": "py38",
   "language": "python",
   "name": "py38"
  },
  "language_info": {
   "codemirror_mode": {
    "name": "ipython",
    "version": 3
   },
   "file_extension": ".py",
   "mimetype": "text/x-python",
   "name": "python",
   "nbconvert_exporter": "python",
   "pygments_lexer": "ipython3",
   "version": "3.8.10"
  },
  "toc": {
   "base_numbering": 1,
   "nav_menu": {},
   "number_sections": true,
   "sideBar": true,
   "skip_h1_title": false,
   "title_cell": "Table of Contents",
   "title_sidebar": "Contents",
   "toc_cell": false,
   "toc_position": {
    "height": "calc(100% - 180px)",
    "left": "10px",
    "top": "150px",
    "width": "165px"
   },
   "toc_section_display": true,
   "toc_window_display": true
  },
  "varInspector": {
   "cols": {
    "lenName": 16,
    "lenType": 16,
    "lenVar": 40
   },
   "kernels_config": {
    "python": {
     "delete_cmd_postfix": "",
     "delete_cmd_prefix": "del ",
     "library": "var_list.py",
     "varRefreshCmd": "print(var_dic_list())"
    },
    "r": {
     "delete_cmd_postfix": ") ",
     "delete_cmd_prefix": "rm(",
     "library": "var_list.r",
     "varRefreshCmd": "cat(var_dic_list()) "
    }
   },
   "types_to_exclude": [
    "module",
    "function",
    "builtin_function_or_method",
    "instance",
    "_Feature"
   ],
   "window_display": false
  }
 },
 "nbformat": 4,
 "nbformat_minor": 5
}
