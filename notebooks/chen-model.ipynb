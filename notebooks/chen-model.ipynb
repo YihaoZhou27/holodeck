{
 "cells": [
  {
   "cell_type": "code",
   "execution_count": null,
   "id": "passing-albuquerque",
   "metadata": {},
   "outputs": [],
   "source": [
    "# %load ./init.ipy\n",
    "%reload_ext autoreload\n",
    "%autoreload 2\n",
    "from importlib import reload\n",
    "\n",
    "import os\n",
    "import sys\n",
    "import logging\n",
    "import warnings\n",
    "import numpy as np\n",
    "import astropy as ap\n",
    "import scipy as sp\n",
    "import scipy.stats\n",
    "import matplotlib as mpl\n",
    "import matplotlib.pyplot as plt\n",
    "\n",
    "import h5py\n",
    "\n",
    "import kalepy as kale\n",
    "\n",
    "import holodeck as holo\n",
    "import holodeck.sam\n",
    "from holodeck import cosmo, utils\n",
    "from holodeck.constants import MSOL, PC, YR, MPC, GYR\n",
    "\n",
    "# Silence annoying numpy errors\n",
    "np.seterr(divide='ignore', invalid='ignore', over='ignore')\n",
    "warnings.filterwarnings(\"ignore\", category=UserWarning)\n",
    "\n",
    "# Plotting settings\n",
    "mpl.rc('font', **{'family': 'serif', 'sans-serif': ['Times'], 'size': 15})\n",
    "mpl.rc('lines', solid_capstyle='round')\n",
    "mpl.rc('mathtext', fontset='cm')\n",
    "plt.rcParams.update({'grid.alpha': 0.5})"
   ]
  },
  {
   "cell_type": "code",
   "execution_count": null,
   "id": "5b275120",
   "metadata": {},
   "outputs": [],
   "source": [
    "import zcode.math as zmath\n",
    "import zcode.plot as zplot"
   ]
  },
  {
   "cell_type": "code",
   "execution_count": null,
   "id": "charitable-substitute",
   "metadata": {},
   "outputs": [],
   "source": [
    "# import holodeck.sam\n",
    "# reload(holodeck.sam)\n",
    "# sam = holodeck.sam.BP_Semi_Analytic()\n",
    "\n",
    "# freqs = 1/YR\n",
    "# gwb = sam.gwb_sa(freqs)\n",
    "\n",
    "# hc = np.sqrt(np.sum(gwb, axis=(1, 2, 3)))\n",
    "# hc.shape, hc"
   ]
  },
  {
   "cell_type": "markdown",
   "id": "c6d73c1c",
   "metadata": {},
   "source": [
    "# Discretize Population"
   ]
  },
  {
   "cell_type": "code",
   "execution_count": null,
   "id": "6d1021fc",
   "metadata": {},
   "outputs": [],
   "source": [
    "import holodeck.sam\n",
    "reload(holodeck.sam)\n",
    "sam = holodeck.sam.BP_Semi_Analytic()\n",
    "nbh = sam.dnbh()"
   ]
  },
  {
   "cell_type": "code",
   "execution_count": null,
   "id": "13781216",
   "metadata": {},
   "outputs": [],
   "source": [
    "freqs = utils.nyquist_freqs(20.0, 0.1, trim=[None, 5.0])\n",
    "\n",
    "num_mbhb_fobs, mbhb_hs = sam.num_mbhb(freqs/YR)\n",
    "edges_freqs = sam.edges + [freqs,]\n",
    "log_edges_freqs = [np.log10(edges_freqs[0]), edges_freqs[1], edges_freqs[2], np.log10(edges_freqs[3])]\n",
    "\n",
    "num = num_mbhb_fobs.sum()\n",
    "print(f\"{num=:.4e}\")"
   ]
  },
  {
   "cell_type": "code",
   "execution_count": null,
   "id": "0e9b8d01",
   "metadata": {},
   "outputs": [],
   "source": [
    "vals = num_mbhb_fobs[..., 0].sum(axis=-1)\n",
    "plt.pcolormesh(sam.mbh1, sam.mrat, vals.T)\n",
    "plt.show()"
   ]
  },
  {
   "cell_type": "code",
   "execution_count": null,
   "id": "36239f05",
   "metadata": {},
   "outputs": [],
   "source": []
  },
  {
   "cell_type": "code",
   "execution_count": null,
   "id": "375c6945",
   "metadata": {},
   "outputs": [],
   "source": [
    "class Corner_Grid:\n",
    "    \n",
    "    def __init__(self, edges, data, labels=None):\n",
    "        shape = [len(ee) for ee in edges]\n",
    "        ndim = len(shape)\n",
    "        \n",
    "        fsize = np.clip(ndim * 4, 6, 20)\n",
    "        fsize = [fsize, fsize * 0.75]\n",
    "        fig, axes = plt.subplots(figsize=fsize, ncols=ndim, nrows=ndim, sharex='col')\n",
    "        \n",
    "        self._ndim = ndim\n",
    "        self._shape = shape\n",
    "        self.fig = fig\n",
    "        self.axes = axes\n",
    "        \n",
    "        self._edges = edges\n",
    "        self._data = data\n",
    "        self._labels = labels\n",
    "\n",
    "        self.setup()\n",
    "        self.draw(edges, data)\n",
    "        return\n",
    "    \n",
    "    @property\n",
    "    def last(self):\n",
    "        return self._ndim - 1        \n",
    "    \n",
    "    def setup(self):\n",
    "        labels = self._labels\n",
    "    \n",
    "        def diag(jj, ax):\n",
    "            ax.set_yscale('log')\n",
    "            return\n",
    "\n",
    "        def offdiag(ii, jj, ax):\n",
    "            if jj > ii:\n",
    "                ax.set_visible(False)\n",
    "                return\n",
    "            \n",
    "            if labels is None:\n",
    "                return\n",
    "            \n",
    "            if (ii == self.last):\n",
    "                ax.set_xlabel(labels[jj])\n",
    "                \n",
    "            if (jj == 0) and (ii > 0):\n",
    "                ax.set_ylabel(labels[ii])\n",
    "            \n",
    "            return\n",
    "        \n",
    "        self.loop(diag, offdiag, skip=False)\n",
    "        return\n",
    "\n",
    "    def loop(self, diag, offdiag, skip=True):\n",
    "        axes = self.axes\n",
    "        diag_list = []\n",
    "        for jj, ax in enumerate(axes.diagonal()):\n",
    "            rv = diag(jj, ax)\n",
    "            diag_list.append(rv)\n",
    "\n",
    "        offd_list = []\n",
    "        for (ii, jj), ax in np.ndenumerate(axes):\n",
    "            if skip and (jj >= ii):\n",
    "                continue\n",
    "            rv = offdiag(ii, jj, ax)\n",
    "            offd_list.append(rv)\n",
    "        \n",
    "        return diag_list, offd_list\n",
    "    \n",
    "    def draw(self, edges, data):\n",
    "        ndim = self._ndim\n",
    "\n",
    "        def diag(jj, ax):\n",
    "            xx = edges[jj]\n",
    "            idx = np.arange(ndim).tolist()\n",
    "            idx.pop(jj)\n",
    "            vv = np.sum(data, axis=tuple(idx))\n",
    "            return self._draw1d(ax, xx, vv)\n",
    "\n",
    "        def offdiag(ii, jj, ax):\n",
    "            idx = np.arange(ndim).tolist()\n",
    "            for kk in [ii, jj]:\n",
    "                idx.pop(kk)\n",
    "\n",
    "            vv = np.sum(data, axis=tuple(idx))\n",
    "            xx = edges[jj]\n",
    "            yy = edges[ii]\n",
    "                \n",
    "            return self._draw2d(ax, [xx, yy], np.log10(vv))\n",
    "        \n",
    "        self.loop(diag, offdiag)\n",
    "        return\n",
    "    \n",
    "    def _draw1d(self, ax, edges, hist, **kwargs):\n",
    "        if len(edges) == len(hist) + 1:\n",
    "            xx = np.hstack([[edges[jj], edges[jj+1]] for jj in range(len(edges)-1)])\n",
    "            yy = np.hstack([[hh, hh] for hh in hist])\n",
    "        elif len(edges) == len(hist):\n",
    "            xx = edges\n",
    "            yy = hist\n",
    "        else:\n",
    "            raise\n",
    "            \n",
    "        line, = ax.plot(xx, yy, **kwargs)\n",
    "        return\n",
    "\n",
    "    def _draw2d(self, ax, edges, hist, mask_below=None, **kwargs):\n",
    "        if mask_below not in [False, None]:\n",
    "            hist = np.ma.masked_less_equal(hist, mask_below)\n",
    "        kwargs.setdefault('shading', 'auto')\n",
    "        # NOTE: this avoids edge artifacts when alpha is not unity!\n",
    "        kwargs.setdefault('edgecolors', [1.0, 1.0, 1.0, 0.0])\n",
    "        kwargs.setdefault('linewidth', 0.01)\n",
    "        # Plot\n",
    "        rv = ax.pcolormesh(*edges, hist.T, **kwargs)\n",
    "        return\n",
    "    \n",
    "Corner_Grid(log_edges_freqs, num_mbhb_fobs, labels=['log10(M)', 'q', 'z', 'log10(f)'])\n",
    "plt.show()"
   ]
  },
  {
   "cell_type": "code",
   "execution_count": null,
   "id": "e0b30ce2",
   "metadata": {},
   "outputs": [],
   "source": [
    "Corner_Grid(log_edges_freqs, mbhb_hs, labels=['log10(M)', 'q', 'z', 'log10(f)'])\n",
    "plt.show()"
   ]
  },
  {
   "cell_type": "code",
   "execution_count": null,
   "id": "e4692b81",
   "metadata": {},
   "outputs": [],
   "source": []
  },
  {
   "cell_type": "markdown",
   "id": "cee6e0c0",
   "metadata": {},
   "source": [
    "## Down-Sample Grid"
   ]
  },
  {
   "cell_type": "code",
   "execution_count": null,
   "id": "f2b43698",
   "metadata": {},
   "outputs": [],
   "source": [
    "_weight_mchirp = zmath.rescale(np.power(sam.mchirp, 5.0/3.0), log=True, clip=True)\n",
    "_weight_redz = zmath.rescale(1.0 - sam.redz, log=False, clip=True)\n",
    "weight = _weight_mchirp[:, :, np.newaxis, np.newaxis] * _weight_redz[np.newaxis, np.newaxis, :, np.newaxis]\n",
    "\n",
    "print(utils.stats(weight))\n",
    "\n",
    "weight = weight ** 2\n",
    "\n",
    "print(utils.stats(weight))\n",
    "\n",
    "weight = weight * np.ones_like(num_mbhb_fobs)"
   ]
  },
  {
   "cell_type": "code",
   "execution_count": null,
   "id": "1d565120",
   "metadata": {},
   "outputs": [],
   "source": [
    "ntot = num_mbhb_fobs.sum()\n",
    "weighted = num_mbhb_fobs * weight\n",
    "\n",
    "# portion = weight\n",
    "portion = weighted / 30.0\n",
    "\n",
    "print(f\"{ntot=:.8e}\")\n",
    "poisson_frac = np.random.poisson(ntot) / ntot\n",
    "print(f\"{poisson_frac-1=:.8e}\")\n",
    "nsamp = int(portion.sum() * poisson_frac)\n",
    "print(f\"{nsamp=:.8e}\")\n",
    "\n",
    "sample, weights = kale.sample_grid_proportional(edges, num_mbhb_fobs, portion, nsamp, interpolate=True)\n",
    "weights *= (poisson_frac * ntot / weights.sum())\n",
    "print(f\"{utils.stats(weights)=}\")\n",
    "print(f\"{ntot=:.4e}, {nsamp=:.4e}, {weights.sum()=:.4e}\")"
   ]
  },
  {
   "cell_type": "code",
   "execution_count": null,
   "id": "a7c70cec",
   "metadata": {},
   "outputs": [],
   "source": []
  },
  {
   "cell_type": "code",
   "execution_count": null,
   "id": "1de1b2d7",
   "metadata": {},
   "outputs": [],
   "source": []
  },
  {
   "cell_type": "code",
   "execution_count": null,
   "id": "30770a37",
   "metadata": {},
   "outputs": [],
   "source": []
  },
  {
   "cell_type": "code",
   "execution_count": null,
   "id": "9d4d69aa",
   "metadata": {},
   "outputs": [],
   "source": [
    "DOWN = 10.0\n",
    "# num_mbhb = kale.utils.midpoints(num_mbhb_fobs, axis=None)\n",
    "# portion = np.copy(num_mbhb)\n",
    "# portion = kale.utils.midpoints(num_mbhb_fobs, axis=None)\n",
    "portion = np.copy(num_mbhb_fobs)\n",
    "\n",
    "print(f\"{portion.sum()=:.4e}\")\n",
    "operators = [np.less, np.less, np.greater, None]\n",
    "values = [\n",
    "    [1e8, 1e7, 1e6],\n",
    "    [0.1, 0.05],\n",
    "    [2.0, 4.0, 5.0],\n",
    "    []\n",
    "]\n",
    "\n",
    "for ii, (ee, op, val) in enumerate(zip(edges_freqs, operators, values)):\n",
    "    portion = np.moveaxis(portion, ii, 0)\n",
    "#     mm = kale.utils.midpoints(ee)\n",
    "    mm = ee\n",
    "    for vv in val:\n",
    "        idx = op(mm, vv)\n",
    "        portion[idx] = portion[idx] / DOWN\n",
    "\n",
    "    portion = np.moveaxis(portion, 0, ii)\n",
    "\n",
    "print(f\"{portion.sum()=:.4e}\")\n",
    "down = num_mbhb_fobs/portion\n",
    "down = np.nan_to_num(down)\n",
    "print(utils.stats(down))"
   ]
  },
  {
   "cell_type": "code",
   "execution_count": null,
   "id": "26d1b605",
   "metadata": {},
   "outputs": [],
   "source": [
    "portion *= num_mbhb_fobs\n",
    "portion /= portion.sum()\n",
    "NSAMP = 1e6\n",
    "\n",
    "ntot = num_mbhb_fobs.sum()\n",
    "print(f\"{ntot=:.8e}\")\n",
    "samp_frac = np.random.poisson(ntot) / ntot\n",
    "print(f\"{samp_frac-1=:.8e}\")\n",
    "# nsamp = int(portion.sum() * nsamp)\n",
    "# print(f\"{nsamp=:.8e}\")\n",
    "print(f\"{NSAMP=:.8e}\")\n",
    "\n",
    "sample, weights = kale.sample_grid_proportional(edges_freqs, num_mbhb_fobs, portion, NSAMP)\n",
    "# sample, weights = kale.sample_grid_proportional(edges, num_mbhb, portion, nsamp)\n",
    "weights *= (ntot * samp_frac / weights.sum())\n",
    "\n",
    "print(f\"{ntot=:.4e}, {samp_frac=:.4e}, {weights.sum()=:.4e}\")\n",
    "print(f\"{utils.stats(weights)=}\")"
   ]
  },
  {
   "cell_type": "code",
   "execution_count": null,
   "id": "2a4f304c",
   "metadata": {},
   "outputs": [],
   "source": [
    "idx = np.argmax(weights)\n",
    "print(idx)\n",
    "print([ss[idx] for ss in sample])"
   ]
  },
  {
   "cell_type": "code",
   "execution_count": null,
   "id": "a12e5fec",
   "metadata": {},
   "outputs": [],
   "source": [
    "print(f\"{utils.stats(weights)=}\")"
   ]
  },
  {
   "cell_type": "code",
   "execution_count": null,
   "id": "c959f9c1",
   "metadata": {},
   "outputs": [],
   "source": []
  },
  {
   "cell_type": "code",
   "execution_count": null,
   "id": "112d41de",
   "metadata": {},
   "outputs": [],
   "source": [
    "ii = 0\n",
    "bins = [sam.mbh1, sam.mrat]\n",
    "\n",
    "fig, axes = plt.subplots(figsize=[20, 4], ncols=4)\n",
    "\n",
    "ax = axes[ii]; ii += 1\n",
    "vals = num_mbhb[..., 0].sum(axis=-1)\n",
    "# vals = num_mbhb.sum(axis=(-1, -2))\n",
    "\n",
    "# norm = mpl.colors.LogNorm(vals[vals > 0].min(), vals.max())\n",
    "# norm = mpl.colors.Normalize(vals.min(), vals.max())\n",
    "# print(norm.vmin, norm.vmax, norm)\n",
    "# kw = dict(norm=norm)\n",
    "kw = dict()\n",
    "\n",
    "ax.pcolormesh(*bins, vals.T, **kw)\n",
    "\n",
    "\n",
    "ax = axes[ii]; ii += 1\n",
    "vals = portion[..., 0].sum(axis=-1)\n",
    "# vals = portion.sum(axis=(-1, -2))\n",
    "ax.pcolormesh(*bins, vals.T, **kw)\n",
    "\n",
    "\n",
    "idx = (sample[-1] < edges[-1][1])\n",
    "\n",
    "ax = axes[ii]; ii += 1\n",
    "hist, *_ = np.histogram2d(sample[0][idx], sample[1][idx], bins=bins)\n",
    "ax.pcolormesh(*bins, hist.T, **kw)\n",
    "\n",
    "\n",
    "ax = axes[ii]; ii += 1\n",
    "hist, *_ = np.histogram2d(sample[0][idx], sample[1][idx], bins=bins, weights=weights[idx])\n",
    "ax.pcolormesh(*bins, hist.T, **kw)\n",
    "\n",
    "\n",
    "plt.show()"
   ]
  },
  {
   "cell_type": "code",
   "execution_count": null,
   "id": "92738007",
   "metadata": {},
   "outputs": [],
   "source": [
    "ii = 0\n",
    "bins = [sam.mbh1, sam.mrat]\n",
    "\n",
    "fig, ax = plt.subplots(figsize=[20, 10])\n",
    "\n",
    "vals = num_mbhb[..., 0].sum(axis=-1)\n",
    "\n",
    "idx = (sample[-1] < edges[-1][1])\n",
    "hist, *_ = np.histogram2d(sample[0][idx], sample[1][idx], bins=bins, weights=weights[idx])\n",
    "\n",
    "data = np.ones_like(vals) * np.nan\n",
    "idx = (hist > 0)\n",
    "data[idx] = (vals[idx] / hist[idx]) - 1.0\n",
    "print(utils.stats(data))\n",
    "\n",
    "data = np.log10(np.fabs(data))\n",
    "\n",
    "pcm = ax.pcolormesh(*bins, data.T)\n",
    "plt.colorbar(pcm)\n",
    "\n",
    "plt.show()"
   ]
  },
  {
   "cell_type": "code",
   "execution_count": null,
   "id": "37d14be4",
   "metadata": {},
   "outputs": [],
   "source": [
    "cut = tuple([slice(None), 20, 10, 10])\n",
    "portion[cut] / num_mbhb[cut]"
   ]
  },
  {
   "cell_type": "code",
   "execution_count": null,
   "id": "cee1b62d",
   "metadata": {},
   "outputs": [],
   "source": []
  },
  {
   "cell_type": "code",
   "execution_count": null,
   "id": "0ef54fc3",
   "metadata": {},
   "outputs": [],
   "source": []
  },
  {
   "cell_type": "code",
   "execution_count": null,
   "id": "0941cf0e",
   "metadata": {},
   "outputs": [],
   "source": []
  },
  {
   "cell_type": "code",
   "execution_count": null,
   "id": "0054aceb",
   "metadata": {},
   "outputs": [],
   "source": [
    "num_mbhb = sam.num_mbhb()"
   ]
  },
  {
   "cell_type": "code",
   "execution_count": null,
   "id": "72e7a9cf",
   "metadata": {},
   "outputs": [],
   "source": [
    "freqs = utils.nyquist_freqs(20.0, 0.1, trim=[None, 5.0])\n",
    "print(freqs.size, freqs)\n",
    "frest = freqs[np.newaxis, :] * (1.0 + sam.redz[:, np.newaxis])\n",
    "print(frest.shape)\n",
    "\n",
    "m1 = sam.mbh1[:, np.newaxis, np.newaxis]   # (m1, redz, freq)\n",
    "m1 = (10.0 ** m1) * MSOL\n",
    "sepa = utils.kepler_sep_from_freq(m1, frest[np.newaxis, ...]/YR)\n",
    "print(f\"{sepa.shape=}, {utils.minmax(sepa/PC)=}\")\n",
    "m1 = m1[:, np.newaxis, :, :]   # (m1, z, f) ==> (m1, q, redz, freq)\n",
    "m2 = sam.mbh2[:, :, np.newaxis, np.newaxis]  # m1, q ==> m1, q, f, z\n",
    "m2 = (10.0 ** m2) * MSOL\n",
    "time = utils.time_to_merge_at_sep(m1, m2, sepa[:, np.newaxis, :, :])\n",
    "time[time < 0.0] = np.nan\n",
    "print(f\"{time.shape=}, {utils.minmax(time/GYR)=}\")\n",
    "\n",
    "fobs = 0.5 * (freqs[1:] + freqs[:-1])\n",
    "dt = -np.diff(time, axis=-1)\n",
    "dt = np.nan_to_num(dt)\n",
    "print(f\"{dt.shape=}, {utils.minmax(dt/GYR)=}\")\n",
    "tot_time = time[..., 0, np.newaxis]\n",
    "print(f\"{tot_time.shape=}, {utils.minmax(tot_time/GYR)=}\")\n",
    "mrat = sam.mrat[np.newaxis, :, np.newaxis, np.newaxis]\n",
    "zz = sam.redz[np.newaxis, np.newaxis, :, np.newaxis]\n",
    "mtime = sam.merger_time(m1, mrat, zz) * GYR\n",
    "print(f\"{mtime.shape=}, {utils.minmax(mtime/GYR)=}\")\n",
    "tot_time += mtime\n",
    "tfrac = dt / tot_time\n",
    "print(f\"{tfrac.shape=}, {utils.minmax(tfrac)=}\")\n",
    "temp = utils.stats(tfrac.sum(axis=-1))\n",
    "print(temp)\n",
    "\n",
    "num_mbhb_fobs = num_mbhb[..., np.newaxis] * tfrac\n",
    "edges_fobs = edges + [fobs]\n",
    "edges_fobs[0] = np.log10(edges_fobs[0])"
   ]
  },
  {
   "cell_type": "code",
   "execution_count": null,
   "id": "308fae1b",
   "metadata": {},
   "outputs": [],
   "source": [
    "sam.mchirp.shape"
   ]
  },
  {
   "cell_type": "code",
   "execution_count": null,
   "id": "65bba0bb",
   "metadata": {},
   "outputs": [],
   "source": [
    "num = num_mbhb_fobs.sum()\n",
    "print(f\"{num=:.4e}\")\n",
    "num = np.random.poisson(num)\n",
    "print(f\"\\t{num:.4e}\")"
   ]
  },
  {
   "cell_type": "code",
   "execution_count": null,
   "id": "21192a58",
   "metadata": {},
   "outputs": [],
   "source": [
    "sample = kale.sample_grid(edges_fobs, num_mbhb_fobs, num/1000)\n",
    "# sample[0, :] = np.power(10.0, sample[0, :])"
   ]
  },
  {
   "cell_type": "code",
   "execution_count": null,
   "id": "d729487c",
   "metadata": {},
   "outputs": [],
   "source": [
    "for ss in sample:\n",
    "    print(utils.minmax(ss), np.mean(ss))"
   ]
  },
  {
   "cell_type": "code",
   "execution_count": null,
   "id": "457853ca",
   "metadata": {},
   "outputs": [],
   "source": [
    "corner = kale.Corner(sample)\n",
    "corner.plot_data()\n",
    "plt.show()"
   ]
  },
  {
   "cell_type": "code",
   "execution_count": null,
   "id": "c257a789",
   "metadata": {},
   "outputs": [],
   "source": [
    "sam.mbh2.shape"
   ]
  },
  {
   "cell_type": "code",
   "execution_count": null,
   "id": "b5af82a0",
   "metadata": {},
   "outputs": [],
   "source": [
    "import zcode.plot as zplot"
   ]
  },
  {
   "cell_type": "markdown",
   "id": "5499d047",
   "metadata": {},
   "source": [
    "# Examine convergence properties"
   ]
  },
  {
   "cell_type": "code",
   "execution_count": null,
   "id": "13071387",
   "metadata": {},
   "outputs": [],
   "source": [
    "FREQ = 1.0 / YR\n",
    "MSTAR = [8.5, 13.0, 46]\n",
    "MRAT = [0.02, 1.0, 50]\n",
    "REDZ = [0.0, 6.0, 61]\n",
    "# np.logspace(*MSTAR)"
   ]
  },
  {
   "cell_type": "markdown",
   "id": "a10f5e8d",
   "metadata": {},
   "source": [
    "### mass"
   ]
  },
  {
   "cell_type": "code",
   "execution_count": null,
   "id": "regulated-report",
   "metadata": {},
   "outputs": [],
   "source": [
    "mstar_args = [\n",
    "    [8.5, 13, 41],    \n",
    "    [8.5, 13.5, 41],    \n",
    "    [8.5, 14.0, 41],    \n",
    "    [8.5, 13, 41],    \n",
    "    [8.5, 13, 61],    \n",
    "    [8.5, 13, 81],    \n",
    "]\n",
    "\n",
    "fig, ax = zplot.figax(scale='linear')\n",
    "\n",
    "strain = []\n",
    "labels = []\n",
    "for ii, mstar in enumerate(mstar_args):\n",
    "    sam = holodeck.sam.BP_Semi_Analytic(mstar_pri=mstar, mrat=MRAT, redz=REDZ)\n",
    "    gwb = sam.gwb_sa(FREQ)\n",
    "    hc = np.sqrt(np.sum(gwb))\n",
    "    ax.plot(ii+1, hc, marker='o', label=str(mstar))\n",
    "    \n",
    "plt.legend()\n",
    "plt.show()"
   ]
  },
  {
   "cell_type": "markdown",
   "id": "4990bb7a",
   "metadata": {},
   "source": [
    "### mass-ratio"
   ]
  },
  {
   "cell_type": "code",
   "execution_count": null,
   "id": "continental-champion",
   "metadata": {},
   "outputs": [],
   "source": [
    "args = [\n",
    "    [0.02, 1.0, 40],\n",
    "    [0.02, 1.0, 50],\n",
    "    [0.02, 1.0, 60],\n",
    "    [0.02, 1.0, 70],\n",
    "    [0.02, 1.0, 80],\n",
    "    [0.02, 1.0, 160],\n",
    "    [0.02, 1.0, 320],\n",
    "    [0.02, 1.0, 640],\n",
    "    [0.02, 1.0, 160],\n",
    "    [0.002, 1.0, 160],\n",
    "    [0.0002, 1.0, 160],\n",
    "]\n",
    "\n",
    "fig, ax = zplot.figax(scale='linear')\n",
    "\n",
    "strain = []\n",
    "labels = []\n",
    "for ii, arg in enumerate(args):\n",
    "    sam = holodeck.sam.BP_Semi_Analytic(mstar_pri=MSTAR, mrat=arg, redz=REDZ)\n",
    "    gwb = sam.gwb_sa(FREQ)\n",
    "    hc = np.sqrt(np.sum(gwb))\n",
    "    ax.plot(ii+1, hc, marker='o', label=str(arg))\n",
    "    \n",
    "plt.legend()\n",
    "plt.show()"
   ]
  },
  {
   "cell_type": "markdown",
   "id": "ba79bb6f",
   "metadata": {},
   "source": [
    "### redshift"
   ]
  },
  {
   "cell_type": "code",
   "execution_count": null,
   "id": "211ba942",
   "metadata": {},
   "outputs": [],
   "source": [
    "fig, ax = zplot.figax(scale='linear')\n",
    "\n",
    "strain = []\n",
    "labels = []\n",
    "for ii in range(10):\n",
    "    arg = [0.0, 1.0 + ii, int((1.0 + ii)/0.05)]\n",
    "    sam = holodeck.sam.BP_Semi_Analytic(mstar_pri=MSTAR, mrat=MRAT, redz=arg)\n",
    "    gwb = sam.gwb_sa(FREQ)\n",
    "    hc = np.sqrt(np.sum(gwb))\n",
    "    ax.plot(ii+1, hc, marker='o', label=str(arg))\n",
    "    \n",
    "plt.legend()\n",
    "plt.show()"
   ]
  },
  {
   "cell_type": "code",
   "execution_count": null,
   "id": "unlimited-status",
   "metadata": {},
   "outputs": [],
   "source": [
    "args = [\n",
    "    [0.0, 6.0, 40],\n",
    "    [0.0, 6.0, 80],\n",
    "    [0.0, 6.0, 100],\n",
    "    [0.0, 6.0, 150],\n",
    "    [0.0, 6.0, 200],\n",
    "    [0.0, 6.0, 250],\n",
    "    [0.0, 6.0, 300],\n",
    "]\n",
    "\n",
    "fig, ax = zplot.figax(scale='linear')\n",
    "\n",
    "strain = []\n",
    "labels = []\n",
    "for ii, arg in enumerate(args):\n",
    "    sam = holodeck.sam.BP_Semi_Analytic(mstar_pri=MSTAR, mrat=MRAT, redz=arg)\n",
    "    \n",
    "    gwb = sam.gwb_sa(FREQ)   # [:, :, :, 1:]\n",
    "    hc = np.sqrt(np.sum(gwb))\n",
    "\n",
    "    ax.plot(ii+1, hc, marker='o', label=str(arg))\n",
    "    \n",
    "plt.legend()\n",
    "plt.show()"
   ]
  },
  {
   "cell_type": "code",
   "execution_count": null,
   "id": "active-benchmark",
   "metadata": {},
   "outputs": [],
   "source": []
  },
  {
   "cell_type": "code",
   "execution_count": null,
   "id": "hollywood-trademark",
   "metadata": {},
   "outputs": [],
   "source": []
  },
  {
   "cell_type": "code",
   "execution_count": null,
   "id": "conservative-junior",
   "metadata": {},
   "outputs": [],
   "source": []
  },
  {
   "cell_type": "code",
   "execution_count": null,
   "id": "acoustic-meter",
   "metadata": {},
   "outputs": [],
   "source": []
  }
 ],
 "metadata": {
  "kernelspec": {
   "display_name": "py38",
   "language": "python",
   "name": "py38"
  },
  "language_info": {
   "codemirror_mode": {
    "name": "ipython",
    "version": 3
   },
   "file_extension": ".py",
   "mimetype": "text/x-python",
   "name": "python",
   "nbconvert_exporter": "python",
   "pygments_lexer": "ipython3",
   "version": "3.8.10"
  },
  "toc": {
   "base_numbering": 1,
   "nav_menu": {},
   "number_sections": true,
   "sideBar": true,
   "skip_h1_title": false,
   "title_cell": "Table of Contents",
   "title_sidebar": "Contents",
   "toc_cell": false,
   "toc_position": {
    "height": "calc(100% - 180px)",
    "left": "10px",
    "top": "150px",
    "width": "165px"
   },
   "toc_section_display": true,
   "toc_window_display": true
  },
  "varInspector": {
   "cols": {
    "lenName": 16,
    "lenType": 16,
    "lenVar": 40
   },
   "kernels_config": {
    "python": {
     "delete_cmd_postfix": "",
     "delete_cmd_prefix": "del ",
     "library": "var_list.py",
     "varRefreshCmd": "print(var_dic_list())"
    },
    "r": {
     "delete_cmd_postfix": ") ",
     "delete_cmd_prefix": "rm(",
     "library": "var_list.r",
     "varRefreshCmd": "cat(var_dic_list()) "
    }
   },
   "types_to_exclude": [
    "module",
    "function",
    "builtin_function_or_method",
    "instance",
    "_Feature"
   ],
   "window_display": false
  }
 },
 "nbformat": 4,
 "nbformat_minor": 5
}
