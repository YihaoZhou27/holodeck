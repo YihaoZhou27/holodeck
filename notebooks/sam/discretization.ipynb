{
 "cells": [
  {
   "cell_type": "code",
   "execution_count": null,
   "id": "f9a9d9bc",
   "metadata": {},
   "outputs": [],
   "source": [
    "# %load ./init.ipy\n",
    "%reload_ext autoreload\n",
    "%autoreload 2\n",
    "from importlib import reload\n",
    "\n",
    "import os\n",
    "import sys\n",
    "import logging\n",
    "import warnings\n",
    "import numpy as np\n",
    "import astropy as ap\n",
    "import scipy as sp\n",
    "import scipy.stats\n",
    "import matplotlib as mpl\n",
    "import matplotlib.pyplot as plt\n",
    "\n",
    "import h5py\n",
    "import tqdm.notebook as tqdm\n",
    "\n",
    "import kalepy as kale\n",
    "# import kalepy.utils\n",
    "import kalepy.plot\n",
    "\n",
    "import holodeck as holo\n",
    "import holodeck.sam\n",
    "from holodeck import utils, plot, cosmo\n",
    "from holodeck.constants import MSOL, PC, YR, MPC, GYR, SPLC\n",
    "\n",
    "# Silence annoying numpy errors\n",
    "np.seterr(divide='ignore', invalid='ignore', over='ignore')\n",
    "warnings.filterwarnings(\"ignore\", category=UserWarning)\n",
    "\n",
    "# Plotting settings\n",
    "mpl.rc('font', **{'family': 'serif', 'sans-serif': ['Times'], 'size': 15})\n",
    "mpl.rc('lines', solid_capstyle='round')\n",
    "mpl.rc('mathtext', fontset='cm')\n",
    "mpl.style.use('default')   # avoid dark backgrounds from dark theme vscode\n",
    "plt.rcParams.update({'grid.alpha': 0.5})\n",
    "\n",
    "log = holo.log\n",
    "log.setLevel(logging.INFO)"
   ]
  },
  {
   "cell_type": "markdown",
   "id": "835aec19",
   "metadata": {},
   "source": [
    "# Initialize SAM model"
   ]
  },
  {
   "cell_type": "code",
   "execution_count": null,
   "id": "7dacb18d",
   "metadata": {},
   "outputs": [],
   "source": [
    "gsmf = holo.sam.GSMF_Schechter()        # Galaxy Stellar-Mass Function (GSMF)\n",
    "gpf = holo.sam.GPF_Power_Law()          # Galaxy Pair Fraction         (GPF)\n",
    "gmt = holo.sam.GMT_Power_Law()          # Galaxy Merger Time           (GMT)\n",
    "mmbulge = holo.relations.MMBulge_MM13() # M-MBulge Relation            (MMB)\n",
    "\n",
    "sam = holo.sam.Semi_Analytic_Model(gsmf=gsmf, gpf=gpf, gmt=gmt, mmbulge=mmbulge)"
   ]
  },
  {
   "cell_type": "markdown",
   "id": "78a201db",
   "metadata": {},
   "source": [
    "# Sample (Discretize) Assuming GW-Driven Evolution"
   ]
  },
  {
   "cell_type": "code",
   "execution_count": null,
   "id": "5b497346",
   "metadata": {},
   "outputs": [],
   "source": [
    "# Choose observed GW-Frequency bins based on nyquist sampling\n",
    "fobs = utils.nyquist_freqs(0.1*YR, 0.01*YR)\n",
    "print(fobs)"
   ]
  },
  {
   "cell_type": "code",
   "execution_count": null,
   "id": "59d5e238",
   "metadata": {},
   "outputs": [],
   "source": [
    "use_fobs = fobs\n",
    "use_fobs = kale.utils.subdivide(fobs, 4)\n",
    "print(fobs.size, use_fobs.size)\n",
    "vals, weights, edges, dens = holo.sam.sample_sam_with_hardening(\n",
    "        sam, holo.evolution.Hard_GW, fobs=use_fobs,\n",
    "        sample_threshold=10.0, cut_below_mass=1e7, limit_merger_time=4*GYR,\n",
    ")\n",
    "print(weights.size)"
   ]
  },
  {
   "cell_type": "code",
   "execution_count": null,
   "id": "91e2738c",
   "metadata": {},
   "outputs": [],
   "source": [
    "# dnum = sam._dnum\n",
    "# print(dnum.shape)\n",
    "# test = np.sum(dnum, axis=(0, 1, 2))\n",
    "# print(test.shape)\n",
    "# fig, ax = plot.figax()\n",
    "# xx = sam._edges[-1]\n",
    "# ax.plot(xx, test)\n",
    "# plt.show()\n",
    "\n",
    "log_edges = sam._log_edges\n",
    "dnum = sam._dnum\n",
    "axes = (1, 2)\n",
    "log_edges = [log_edges[ii] for ii in range(len(log_edges)) if ii not in axes]\n",
    "dnum = dnum.sum(axis=axes)\n",
    "\n",
    "dnum = dnum[22:30, :7]\n",
    "log_edges = [log_edges[0][22:30], log_edges[1][:7]]\n",
    "print(dnum.shape)\n",
    "\n",
    "fname = \"kalepy_sample_outliers_error.npz\"\n",
    "np.savez(fname, dens=dnum, edges=log_edges)\n",
    "print(f\"Saved error example data to '{fname}'\")\n",
    "\n",
    "vals, weights = kale.sample_outliers(log_edges, dnum, 10.0)\n",
    "fo = np.e ** vals[-1]\n",
    "# ee = sam._edges[-1]\n",
    "ee = np.e ** log_edges[-1]\n",
    "\n",
    "fig, ax = plot.figax()\n",
    "xx = ee\n",
    "xx = kale.utils.subdivide(ee, 2, log=True)\n",
    "print(weights.size, weights.sum(), weights.mean())\n",
    "idx = ()\n",
    "# idx = (weights == 1.0)\n",
    "ax.hist(fo[idx], bins=xx, weights=weights[idx])\n",
    "\n",
    "plt.show()"
   ]
  },
  {
   "cell_type": "code",
   "execution_count": null,
   "id": "aad18875",
   "metadata": {},
   "outputs": [],
   "source": []
  },
  {
   "cell_type": "code",
   "execution_count": null,
   "id": "90d8db7e",
   "metadata": {},
   "outputs": [],
   "source": []
  },
  {
   "cell_type": "code",
   "execution_count": null,
   "id": "cc627400",
   "metadata": {},
   "outputs": [],
   "source": [
    "fig, ax = plot.figax()\n",
    "_ee = edges[-1] * YR\n",
    "fo = vals[-1] * YR\n",
    "# print(utils.stats(fo))\n",
    "ee = kale.utils.subdivide(_ee, 3, log=True)\n",
    "idx = ()\n",
    "# idx = (weights != 1.0)\n",
    "# idx = (weights == 1.0)\n",
    "ax.hist(fo[idx], bins=ee, weights=weights[idx])\n",
    "for e in _ee:\n",
    "    ax.axvline(e, color='0.5', ls='--', alpha=0.2, zorder=1)\n",
    "for e in ee:\n",
    "    ax.axvline(e, color='r', ls='--', alpha=0.2, zorder=1)\n",
    "plt.show()"
   ]
  },
  {
   "cell_type": "code",
   "execution_count": null,
   "id": "c44a0dd4",
   "metadata": {},
   "outputs": [],
   "source": [
    "breaker()"
   ]
  },
  {
   "cell_type": "markdown",
   "id": "f04282c5",
   "metadata": {},
   "source": [
    "# Calculate GWs from Samples"
   ]
  },
  {
   "cell_type": "code",
   "execution_count": null,
   "id": "fdad4132",
   "metadata": {},
   "outputs": [],
   "source": [
    "gwf_freqs, gwf, gwb = holo.sam._gws_from_samples(vals, weights, fobs)"
   ]
  },
  {
   "cell_type": "code",
   "execution_count": null,
   "id": "49ba532f",
   "metadata": {},
   "outputs": [],
   "source": [
    "# gwb_rough = sam.gwb(fobs, realize=33)\n",
    "# gwb_smooth = sam.gwb(fobs, realize=False)"
   ]
  },
  {
   "cell_type": "code",
   "execution_count": null,
   "id": "004c38ac",
   "metadata": {},
   "outputs": [],
   "source": [
    "fig, ax = plot.figax()\n",
    "\n",
    "xx = kale.utils.midpoints(fobs) * YR   # [1/sec] ==> [1/yr]\n",
    "\n",
    "amp = 10e-16\n",
    "yy = amp * np.power(xx, -2/3)\n",
    "ax.plot(xx, yy, 'k--', alpha=0.25)\n",
    "\n",
    "# ff = np.sqrt(xx / np.diff(fobs*YR))\n",
    "ff = 1.0\n",
    "\n",
    "ax.plot(xx, gwb*ff, 'k-')\n",
    "\n",
    "idx = (gwf > gwb)\n",
    "xx = gwf_freqs * YR   # [1/sec] ==> [1/yr]\n",
    "ax.scatter(xx[idx], (gwf*ff)[idx], color='r', s=20, alpha=0.5)\n",
    "ax.scatter(xx[~idx], (gwf*ff)[~idx], edgecolor='r', facecolor='none', s=20, alpha=0.5)\n",
    "\n",
    "# ax.plot(fobs*YR, gwb_smooth, 'b--')\n",
    "# ax.plot(fobs*YR, np.median(gwb_rough, axis=-1), 'b:')\n",
    "# ax.fill_between(fobs*YR, *np.percentile(gwb_rough, [25, 75], axis=-1), color='b', alpha=0.25)\n",
    "\n",
    "plt.show()"
   ]
  },
  {
   "cell_type": "markdown",
   "id": "a69a3c65",
   "metadata": {},
   "source": [
    "# Use realistic hardening rate to sample population"
   ]
  },
  {
   "cell_type": "code",
   "execution_count": null,
   "id": "88c8d8bd",
   "metadata": {},
   "outputs": [],
   "source": [
    "hard = holo.evolution.Fixed_Time.from_sam(sam, 2.0*GYR)"
   ]
  }
 ],
 "metadata": {
  "interpreter": {
   "hash": "61b4062b24dfb1010f420dad5aa3bd73a4d2af47d0ec44eafec465a35a9d7239"
  },
  "kernelspec": {
   "display_name": "Python 3.9.7 64-bit ('py39': conda)",
   "name": "python3"
  },
  "language_info": {
   "codemirror_mode": {
    "name": "ipython",
    "version": 3
   },
   "file_extension": ".py",
   "mimetype": "text/x-python",
   "name": "python",
   "nbconvert_exporter": "python",
   "pygments_lexer": "ipython3",
   "version": "3.9.10"
  },
  "toc": {
   "base_numbering": 1,
   "nav_menu": {},
   "number_sections": true,
   "sideBar": true,
   "skip_h1_title": false,
   "title_cell": "Table of Contents",
   "title_sidebar": "Contents",
   "toc_cell": false,
   "toc_position": {
    "height": "calc(100% - 180px)",
    "left": "10px",
    "top": "150px",
    "width": "165px"
   },
   "toc_section_display": true,
   "toc_window_display": true
  },
  "varInspector": {
   "cols": {
    "lenName": 16,
    "lenType": 16,
    "lenVar": 40
   },
   "kernels_config": {
    "python": {
     "delete_cmd_postfix": "",
     "delete_cmd_prefix": "del ",
     "library": "var_list.py",
     "varRefreshCmd": "print(var_dic_list())"
    },
    "r": {
     "delete_cmd_postfix": ") ",
     "delete_cmd_prefix": "rm(",
     "library": "var_list.r",
     "varRefreshCmd": "cat(var_dic_list()) "
    }
   },
   "types_to_exclude": [
    "module",
    "function",
    "builtin_function_or_method",
    "instance",
    "_Feature"
   ],
   "window_display": false
  }
 },
 "nbformat": 4,
 "nbformat_minor": 5
}
