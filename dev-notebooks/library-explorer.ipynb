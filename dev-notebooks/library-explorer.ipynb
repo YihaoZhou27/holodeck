{
 "cells": [
  {
   "cell_type": "code",
   "execution_count": null,
   "metadata": {},
   "outputs": [],
   "source": [
    "# %load ../notebooks/init.ipy\n",
    "%reload_ext autoreload\n",
    "%autoreload 2\n",
    "\n",
    "# Builtin packages\n",
    "from importlib import reload\n",
    "import logging\n",
    "import os\n",
    "from pathlib import Path\n",
    "import sys\n",
    "import warnings\n",
    "\n",
    "# standard secondary packages\n",
    "import astropy as ap\n",
    "import h5py\n",
    "import matplotlib as mpl\n",
    "import matplotlib.pyplot as plt\n",
    "import numpy as np\n",
    "import scipy as sp\n",
    "import scipy.stats\n",
    "import tqdm.notebook as tqdm\n",
    "\n",
    "# development packages\n",
    "import kalepy as kale\n",
    "import kalepy.utils\n",
    "import kalepy.plot\n",
    "\n",
    "# --- Holodeck ----\n",
    "import holodeck as holo\n",
    "import holodeck.sam\n",
    "from holodeck import cosmo, utils, plot\n",
    "from holodeck.constants import MSOL, PC, YR, MPC, GYR\n",
    "import holodeck.gravwaves\n",
    "import holodeck.evolution\n",
    "import holodeck.population\n",
    "\n",
    "# Silence annoying numpy errors\n",
    "np.seterr(divide='ignore', invalid='ignore', over='ignore')\n",
    "warnings.filterwarnings(\"ignore\", category=UserWarning)\n",
    "\n",
    "# Plotting settings\n",
    "mpl.rc('font', **{'family': 'serif', 'sans-serif': ['Times'], 'size': 15})\n",
    "mpl.rc('lines', solid_capstyle='round')\n",
    "mpl.rc('mathtext', fontset='cm')\n",
    "mpl.style.use('default')   # avoid dark backgrounds from dark theme vscode\n",
    "plt.rcParams.update({'grid.alpha': 0.5})\n",
    "\n",
    "# Load log and set logging level\n",
    "log = holo.log\n",
    "log.setLevel(logging.INFO)"
   ]
  },
  {
   "cell_type": "code",
   "execution_count": null,
   "metadata": {},
   "outputs": [],
   "source": [
    "import zcode.math as zmath\n",
    "import zcode.plot as zplot"
   ]
  },
  {
   "cell_type": "code",
   "execution_count": null,
   "metadata": {},
   "outputs": [],
   "source": [
    "# path = \"/Users/lzkelley/programs/nanograv/ng15yr_astro_interp/ceffyl_ng15_multiorf_hdonly/\"\n",
    "path = \"/Users/lzkelley/programs/nanograv/ceffyl/data/NG15/fs2A/\"\n",
    "freq = np.load(path + \"freqs.npy\")\n",
    "dens = np.load(path + \"density.npy\").squeeze()\n",
    "rho = np.load(path + \"log10rhogrid.npy\")\n",
    "print(freq.shape, dens.shape, rho.shape)"
   ]
  },
  {
   "cell_type": "code",
   "execution_count": null,
   "metadata": {},
   "outputs": [],
   "source": [
    "1/(freq*YR)"
   ]
  },
  {
   "cell_type": "code",
   "execution_count": null,
   "metadata": {},
   "outputs": [],
   "source": [
    "CUT = 8\n",
    "\n",
    "xx = freq[:CUT]\n",
    "yy = (10.0 ** dens[:CUT])\n",
    "yy = np.sqrt((xx[:, np.newaxis]**3)*yy)\n",
    "yy = np.log10(yy)\n",
    "xx = xx * YR\n",
    "\n",
    "fig, ax = plot.figax(scale='lin') # , ylim=[-15, 2])\n",
    "# plot._draw_plaw(ax, freq*YR, 1.0e-15, 1.0)\n",
    "plt.violinplot(yy.T, positions=np.log10(xx))\n",
    "plt.show()"
   ]
  },
  {
   "cell_type": "code",
   "execution_count": null,
   "metadata": {},
   "outputs": [],
   "source": [
    "fig, ax = plot.figax()\n",
    "\n",
    "dens_med = np.median(dens, axis=-1)\n",
    "yy = 10.0 ** dens_med\n",
    "\n",
    "ax.plot(freq, yy)\n",
    "plt.show()\n",
    "\n",
    "# temp = np.sqrt(yy * (freq) * (12*np.pi**2))\n",
    "# print(temp)\n",
    "# ax.plot(freq, temp)\n",
    "# plt.show()"
   ]
  },
  {
   "cell_type": "code",
   "execution_count": null,
   "metadata": {},
   "outputs": [],
   "source": [
    "fig, ax = plot.figax(scale='lin', ylim=[-20, 2])\n",
    "# plot._draw_plaw(ax, freq*YR, 1.0e-15, 1.0)\n",
    "plt.violinplot(dens.T, positions=np.log10(freq*YR))\n",
    "plt.show()"
   ]
  },
  {
   "cell_type": "code",
   "execution_count": null,
   "metadata": {},
   "outputs": [],
   "source": []
  },
  {
   "cell_type": "code",
   "execution_count": null,
   "metadata": {},
   "outputs": [],
   "source": []
  },
  {
   "cell_type": "code",
   "execution_count": null,
   "metadata": {},
   "outputs": [],
   "source": [
    "fname = \"/Users/lzkelley/programs/nanograv/holodeck/output/hard04_2022-12-06_01/sam_lib.hdf5\"\n",
    "print(fname)\n",
    "data = h5py.File(fname, 'r')\n",
    "print(\"Keys:\", data.keys())\n",
    "for kk, vv in data.items():\n",
    "    try:\n",
    "        print(\"\\t\", kk, vv.shape)\n",
    "    except AttributeError:\n",
    "        continue\n",
    "    \n",
    "print(\"\\nAttributes:\")\n",
    "for kk, vv in data.attrs.items():\n",
    "    print(\"\\t\", kk, vv)\n",
    "    \n",
    "print(\"\\nParameters:\")\n",
    "for kk, vv in data['parameters'].items():\n",
    "    print(\"\\t\", kk, vv[:])"
   ]
  },
  {
   "cell_type": "code",
   "execution_count": null,
   "metadata": {},
   "outputs": [],
   "source": [
    "fobs = data['fobs'][:]\n",
    "xx = fobs * YR\n",
    "fig, ax = plot.figax(xlabel='Frequency $[\\\\mathrm{yr}^{-1}]$', ylabel='Characteristic Strain')\n",
    "plot._twin_hz(ax)\n",
    "\n",
    "if True:\n",
    "    # (nsamples, nfreqs, nreals)\n",
    "    yy = data['gwb'][:]\n",
    "    # ==> (nfreqs, nsamples, nreals)\n",
    "    yy = np.moveaxis(yy, 1, 0)\n",
    "    yy = np.median(yy, axis=-1)\n",
    "    yy = yy.reshape(yy.shape[0], -1)\n",
    "    ax.set(ylim=[1e-16, 3e-14])\n",
    "    ax.plot(xx, yy, alpha=0.1, color='k', lw=1)\n",
    "\n",
    "    for amp in [1e-15, 2e-15, 3e-15]:\n",
    "        plot._draw_plaw(ax, xx, amp, 1.0, color='r', alpha=1.0, zorder=100)\n",
    "\n",
    "if False:\n",
    "    ff = zmath.argnearest(xx, 1.0)\n",
    "    title = f\"Characteristic Strain at ${xx[ff]:.2f} \\, \\\\mathrm{{ yr}}^{{-1}}$\"\n",
    "    ax.set(xscale='linear', yscale='linear', xlim=[-17, -13], title=title)\n",
    "    yy = data['gwb'][:, ff, :].flatten()\n",
    "    yy = np.log10(yy[yy > 0.0])\n",
    "    kale.dist1d(yy, ax=ax, density=True, carpet=True)\n",
    "\n",
    "plt.show()"
   ]
  },
  {
   "cell_type": "code",
   "execution_count": null,
   "metadata": {},
   "outputs": [],
   "source": [
    "data['gwb'].shape"
   ]
  },
  {
   "cell_type": "code",
   "execution_count": null,
   "metadata": {},
   "outputs": [],
   "source": [
    "NUM = 60\n",
    "\n",
    "fobs = data['fobs'][:]\n",
    "xx = fobs * YR\n",
    "fig, ax = plot.figax(xlabel='Frequency $[\\\\mathrm{yr}^{-1}]$', ylabel='Characteristic Strain')\n",
    "plot._twin_hz(ax)\n",
    "ax.set(ylim=[1e-16, 3e-14])\n",
    "\n",
    "# (nsamples, nfreqs, nreals)\n",
    "yy = data['gwb'][:]\n",
    "\n",
    "nsamp = yy.shape[0]\n",
    "sel = np.random.choice(nsamp, NUM, replace=False)\n",
    "yy = yy[sel]\n",
    "\n",
    "# ==> (nfreqs, nsamples, nreals)\n",
    "yy = np.moveaxis(yy, 1, 0)\n",
    "\n",
    "med = np.median(yy, axis=-1)\n",
    "\n",
    "for ii in range(NUM):\n",
    "    cc, = ax.plot(xx, med[:, ii], alpha=0.5, lw=1) # , color='b')\n",
    "    cc = cc.get_color()\n",
    "\n",
    "    conf = np.percentile(yy[:, ii, :], [25, 75], axis=-1)\n",
    "    ax.fill_between(xx, *conf, alpha=0.15, color=cc, lw=1)\n",
    "\n",
    "    zz = yy[:, ii, :5]\n",
    "    zz = zz.reshape(zz.shape[0], -1)\n",
    "    ax.plot(xx, zz, alpha=0.25, color=cc, lw=1)\n",
    "\n",
    "for amp in [1e-15, 2e-15, 3e-15]:\n",
    "    hh = plot._draw_plaw(ax, xx, amp, 1.0, color='0.95', alpha=0.70, zorder=99, lw=2.0, ls='-')\n",
    "    zplot.label_line(ax, hh[0], f\"{zplot.scientific_notation(amp)}\", x=0.85, dy=0.01, alpha=0.65, fontsize=10)\n",
    "    plot._draw_plaw(ax, xx, amp, 1.0, color='r', alpha=0.75, zorder=100, lw=1.0)\n",
    "\n",
    "plt.show()"
   ]
  },
  {
   "cell_type": "code",
   "execution_count": null,
   "metadata": {},
   "outputs": [],
   "source": [
    "xx = data['fobs'][:] * YR\n",
    "gwb = data['gwb'][:]\n",
    "spars = data['sample_params'][:]\n",
    "print(gwb.shape, spars.shape)\n",
    "\n",
    "spars = spars.T\n",
    "for ii, pname in enumerate(data.attrs['param_names']):\n",
    "    fig, ax = plot.figax(xlabel=\"Frequency [1/yr]\", ylabel=\"Characteristic Strain\")\n",
    "    plot._twin_hz(ax)\n",
    "\n",
    "    pvals = data['parameters'][pname][:]\n",
    "    print(ii, pname, pvals)\n",
    "    sv = spars[ii].copy()\n",
    "    sort_idx = np.argsort(sv)\n",
    "    sv = sv[sort_idx]\n",
    "    lo = 0\n",
    "\n",
    "    num_pvals = len(pvals)\n",
    "    colors = zplot.color_cycle(num_pvals, cmap='Spectral')\n",
    "\n",
    "    for jj, pv in enumerate(pvals):\n",
    "        # This boolean array is False until the first value ABOVE this bin\n",
    "        hi = (sv > pv)\n",
    "        # Find the index of the first value ABOVE of this bin\n",
    "        hi = np.argmax(hi)\n",
    "        # Make sure ANY of the values are above this bin\n",
    "        hi = hi if (sv[hi] > pv) else None\n",
    "        # Select the values since the last bin, up to the next bin\n",
    "        cut = slice(lo, hi)\n",
    "        # Select the GWB spectra in this bin, shape (samples, freqs, reals)\n",
    "        yy = gwb[sort_idx][cut]\n",
    "        # convert to shape (freqs, samples, reals)\n",
    "        yy = np.moveaxis(yy, 1, 0)\n",
    "        # convert to shape (freqs, samples*reals)\n",
    "        yy = yy.reshape(yy.shape[0], -1)\n",
    "\n",
    "        med = np.median(yy, axis=-1)\n",
    "        conf = np.percentile(yy, [25, 75], axis=-1)\n",
    "        ax.plot(xx, med, color=colors[jj], label=f\"{pv:.1e}\")\n",
    "        ax.fill_between(xx, *conf, color=colors[jj], alpha=0.2)\n",
    "        \n",
    "        # set the lo-end of the next bin, to be the hi-end of this bin\n",
    "        lo = hi\n",
    "\n",
    "    ax.legend(title=pname)\n",
    "    \n",
    "    "
   ]
  },
  {
   "cell_type": "code",
   "execution_count": null,
   "metadata": {},
   "outputs": [],
   "source": [
    "# kale.corner(data['params'][:].T)"
   ]
  }
 ],
 "metadata": {
  "kernelspec": {
   "display_name": "Python 3.10.8 ('py310')",
   "language": "python",
   "name": "python3"
  },
  "language_info": {
   "codemirror_mode": {
    "name": "ipython",
    "version": 3
   },
   "file_extension": ".py",
   "mimetype": "text/x-python",
   "name": "python",
   "nbconvert_exporter": "python",
   "pygments_lexer": "ipython3",
   "version": "3.10.8"
  },
  "vscode": {
   "interpreter": {
    "hash": "1f0c7602c82e39efa19a01e5e068584db7a6d17aff8711ab06660aac81377393"
   }
  }
 },
 "nbformat": 4,
 "nbformat_minor": 2
}
