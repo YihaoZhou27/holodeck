{
 "cells": [
  {
   "cell_type": "code",
   "execution_count": null,
   "metadata": {},
   "outputs": [],
   "source": [
    "# %load ../notebooks/init.ipy\n",
    "%reload_ext autoreload\n",
    "%autoreload 2\n",
    "\n",
    "# Builtin packages\n",
    "from importlib import reload\n",
    "import logging\n",
    "import os\n",
    "from pathlib import Path\n",
    "import sys\n",
    "import warnings\n",
    "\n",
    "# standard secondary packages\n",
    "import astropy as ap\n",
    "import h5py\n",
    "import matplotlib as mpl\n",
    "import matplotlib.pyplot as plt\n",
    "import numpy as np\n",
    "import scipy as sp\n",
    "import scipy.stats\n",
    "import tqdm.notebook as tqdm\n",
    "\n",
    "# development packages\n",
    "import kalepy as kale\n",
    "import kalepy.utils\n",
    "import kalepy.plot\n",
    "\n",
    "# --- Holodeck ----\n",
    "import holodeck as holo\n",
    "import holodeck.sam\n",
    "from holodeck import cosmo, utils, plot\n",
    "from holodeck.constants import MSOL, PC, YR, MPC, GYR\n",
    "import holodeck.gravwaves\n",
    "import holodeck.evolution\n",
    "import holodeck.population\n",
    "\n",
    "# Silence annoying numpy errors\n",
    "np.seterr(divide='ignore', invalid='ignore', over='ignore')\n",
    "warnings.filterwarnings(\"ignore\", category=UserWarning)\n",
    "\n",
    "# Plotting settings\n",
    "mpl.rc('font', **{'family': 'serif', 'sans-serif': ['Times'], 'size': 15})\n",
    "mpl.rc('lines', solid_capstyle='round')\n",
    "mpl.rc('mathtext', fontset='cm')\n",
    "mpl.style.use('default')   # avoid dark backgrounds from dark theme vscode\n",
    "plt.rcParams.update({'grid.alpha': 0.5})\n",
    "\n",
    "# Load log and set logging level\n",
    "log = holo.log\n",
    "log.setLevel(logging.INFO)"
   ]
  },
  {
   "cell_type": "code",
   "execution_count": null,
   "metadata": {},
   "outputs": [],
   "source": [
    "kwargs = {'hard_time': 0.33333333333333326, 'hard_gamma_inner': -1.5, 'hard_gamma_outer': 1.0, 'hard_rchar': 1.5, 'gsmf_phi0': -2.7800000000000002, 'mmb_amp': 390000000.0}\n",
    "\n",
    "SAM_SHAPE = 50\n",
    "\n",
    "DEF_NUM_REALS = 100\n",
    "DEF_NUM_FBINS = 40\n",
    "DEF_PTA_DUR = 16.03     # [yrs]\n",
    "\n",
    "time, gamma_inner, gamma_outer, rchar, gsmf_phi0, mmb_amp = kwargs.values()\n",
    "time = (10.0 ** time) * GYR\n",
    "rchar = (10.0 ** rchar) * PC\n",
    "mmb_amp = mmb_amp*MSOL\n",
    "\n",
    "gsmf = holo.sam.GSMF_Schechter(phi0=gsmf_phi0)\n",
    "gpf = holo.sam.GPF_Power_Law()\n",
    "gmt = holo.sam.GMT_Power_Law()\n",
    "mmbulge = holo.relations.MMBulge_KH2013(mamp=mmb_amp)\n",
    "\n",
    "sam = holo.sam.Semi_Analytic_Model(\n",
    "    gsmf=gsmf, gpf=gpf, gmt=gmt, mmbulge=mmbulge,\n",
    "    shape=SAM_SHAPE\n",
    ")\n",
    "hard = holo.evolution.Fixed_Time.from_sam(\n",
    "    sam, time, rchar=rchar, gamma_sc=gamma_inner, gamma_df=gamma_outer,\n",
    "    exact=True, progress=False\n",
    ")"
   ]
  },
  {
   "cell_type": "code",
   "execution_count": null,
   "metadata": {},
   "outputs": [],
   "source": [
    "np.random.poisson(np.nan)"
   ]
  },
  {
   "cell_type": "code",
   "execution_count": null,
   "metadata": {},
   "outputs": [],
   "source": [
    "pta_dur = DEF_PTA_DUR * YR\n",
    "nfreqs = DEF_NUM_FBINS\n",
    "hifr = nfreqs/pta_dur\n",
    "pta_cad = 1.0 / (2 * hifr)\n",
    "fobs_cents = holo.utils.nyquist_freqs(pta_dur, pta_cad)\n",
    "fobs_edges = holo.utils.nyquist_freqs_edges(pta_dur, pta_cad)"
   ]
  },
  {
   "cell_type": "code",
   "execution_count": null,
   "metadata": {},
   "outputs": [],
   "source": [
    "np.isnan(hard._norm)"
   ]
  },
  {
   "cell_type": "code",
   "execution_count": null,
   "metadata": {},
   "outputs": [],
   "source": [
    "print(f\"{time/GYR=:.4e} {rchar/PC=:.4e}, {gamma_inner=:.4f}, {gamma_outer=:.4f}\")\n",
    "test = holo.evolution.Fixed_Time([time], [1.893e43], [0.3924], [0.01], [1e4*PC], rchar, gamma_inner, 1.0, False, True)\n",
    "# np.isnan(hard.dadt(1.893e43, 0.3924, 3.17857e17)).shape"
   ]
  },
  {
   "cell_type": "code",
   "execution_count": null,
   "metadata": {},
   "outputs": [],
   "source": [
    "# (M*Q*Z,) 1D arrays of each total-mass, mass-ratio, and redshift\n",
    "mt, mr, rz = [gg.ravel() for gg in sam.grid]\n",
    "# ---- Get the differential-number of binaries for each bin\n",
    "# convert to orbital-frequency (from GW-frequency)\n",
    "# fobs_orb_edges = fobs_edges / 2.0\n",
    "fobs_orb_cents = fobs_cents / 2.0\n",
    "\n",
    "frst_orb = fobs_orb_cents[:, np.newaxis] * (1.0 + rz[np.newaxis, :])\n",
    "sa = utils.kepler_sepa_from_freq(mt[np.newaxis, :], frst_orb)\n",
    "\n",
    "# (X, M*Q*Z), hardening rate, negative values, units of [cm/sec]\n",
    "mt, mr, sa, rz = np.broadcast_arrays(mt[np.newaxis, :], mr[np.newaxis, :], sa, rz[np.newaxis, :])\n",
    "dadt = hard.dadt(mt, mr, sa)\n",
    "\n",
    "bads = np.isnan(dadt)\n",
    "if np.any(bads):\n",
    "    print(f\"BADS: {utils.frac_str(bads)}\")\n",
    "    print(f\"{utils.minmax(mt)=}\")\n",
    "    print(f\"{utils.minmax(mr)=}\")\n",
    "    print(f\"{utils.minmax(sa)=}\")\n",
    "    print(f\"{utils.stats(mt[bads])=}\")\n",
    "    print(f\"{utils.stats(mr[bads])=}\")\n",
    "    print(f\"{utils.stats(sa[bads])=}\")\n",
    "    print(f\"{mt[bads][:5]=}\")\n",
    "    print(f\"{mr[bads][:5]=}\")\n",
    "    print(f\"{sa[bads][:5]=}\")\n",
    "    print(f\"{rz[bads][:5]=}\")\n",
    "\n",
    "    raise"
   ]
  },
  {
   "cell_type": "code",
   "execution_count": null,
   "metadata": {},
   "outputs": [],
   "source": [
    "gwb = sam.gwb(fobs_edges, realize=DEF_NUM_REALS, hard=hard)"
   ]
  },
  {
   "cell_type": "code",
   "execution_count": null,
   "metadata": {},
   "outputs": [],
   "source": []
  },
  {
   "cell_type": "code",
   "execution_count": null,
   "metadata": {},
   "outputs": [],
   "source": []
  },
  {
   "cell_type": "code",
   "execution_count": null,
   "metadata": {},
   "outputs": [],
   "source": []
  },
  {
   "cell_type": "code",
   "execution_count": null,
   "metadata": {},
   "outputs": [],
   "source": [
    "# fname = \"/Users/lzkelley/Programs/nanograv/holodeck/output/cori_sam-lib_2022-12-04_01.hdf5\"\n",
    "# fname = \"/Users/lzkelley/Programs/nanograv/holodeck/output/2022-12-05_01/sam_lib.hdf5\"\n",
    "fname = \"/Users/lzkelley/Programs/nanograv/holodeck/output/2022-12-05_01/sam_lib.hdf5\"\n",
    "data = h5py.File(fname, 'r')\n",
    "print(\"Keys:\", data.keys())\n",
    "for kk, vv in data.items():\n",
    "    print(\"\\t\", kk, vv.shape)\n",
    "print(\"Attributes:\")\n",
    "for kk, vv in data.attrs.items():\n",
    "    print(\"\\t\", kk, vv)"
   ]
  },
  {
   "cell_type": "code",
   "execution_count": null,
   "metadata": {},
   "outputs": [],
   "source": [
    "import zcode.math as zmath"
   ]
  },
  {
   "cell_type": "code",
   "execution_count": null,
   "metadata": {},
   "outputs": [],
   "source": [
    "fobs = data['fobs'][:]\n",
    "xx = fobs * YR\n",
    "fig, ax = plot.figax()\n",
    "\n",
    "\n",
    "yy = data['gwb'][:]\n",
    "# yy = np.median(yy, axis=-1)\n",
    "ax.plot(xx, np.moveaxis(yy, 1, 0).reshape(yy.shape[1], -1), alpha=0.1, color='k', lw=0.5)\n",
    "\n",
    "# ff = zmath.argnearest(xx, 1.0)\n",
    "# yy = data['gwb'][:, ff, :].flatten()\n",
    "# yy = np.log10(yy)\n",
    "# kale.dist1d(yy, ax=ax, density=True, carpet=True)\n",
    "\n",
    "plt.show()"
   ]
  },
  {
   "cell_type": "code",
   "execution_count": null,
   "metadata": {},
   "outputs": [],
   "source": [
    "param_names = data.attrs['param_names']\n",
    "for ii, par in enumerate(param_names):\n",
    "    vals = data['params'][:, ii]\n",
    "    print(f\"{ii} {par} : [{vals.min():.2e}, {vals.max():.2e}] {utils.stats(vals)}\")"
   ]
  },
  {
   "cell_type": "code",
   "execution_count": null,
   "metadata": {},
   "outputs": [],
   "source": [
    "gwb.max()"
   ]
  },
  {
   "cell_type": "code",
   "execution_count": null,
   "metadata": {},
   "outputs": [],
   "source": [
    "gwb = data['gwb'][:, 0, :].flatten()\n",
    "print(utils.stats(gwb))\n",
    "# kale.dist1d(np.log10(gwb))"
   ]
  },
  {
   "cell_type": "code",
   "execution_count": null,
   "metadata": {},
   "outputs": [],
   "source": [
    "kale.corner(data['params'][:].T)"
   ]
  }
 ],
 "metadata": {
  "kernelspec": {
   "display_name": "Python 3.10.8 ('py310')",
   "language": "python",
   "name": "python3"
  },
  "language_info": {
   "codemirror_mode": {
    "name": "ipython",
    "version": 3
   },
   "file_extension": ".py",
   "mimetype": "text/x-python",
   "name": "python",
   "nbconvert_exporter": "python",
   "pygments_lexer": "ipython3",
   "version": "3.10.8"
  },
  "vscode": {
   "interpreter": {
    "hash": "1f0c7602c82e39efa19a01e5e068584db7a6d17aff8711ab06660aac81377393"
   }
  }
 },
 "nbformat": 4,
 "nbformat_minor": 2
}
