{
 "cells": [
  {
   "cell_type": "code",
   "execution_count": null,
   "metadata": {},
   "outputs": [],
   "source": [
    "# %load ../notebooks/init.ipy\n",
    "%reload_ext autoreload\n",
    "%autoreload 2\n",
    "\n",
    "# Builtin packages\n",
    "from importlib import reload\n",
    "import logging\n",
    "import os\n",
    "from pathlib import Path\n",
    "import sys\n",
    "import warnings\n",
    "\n",
    "# standard secondary packages\n",
    "import astropy as ap\n",
    "import h5py\n",
    "import matplotlib as mpl\n",
    "import matplotlib.pyplot as plt\n",
    "import numpy as np\n",
    "import scipy as sp\n",
    "import scipy.stats\n",
    "import tqdm.notebook as tqdm\n",
    "\n",
    "# development packages\n",
    "import kalepy as kale\n",
    "import kalepy.utils\n",
    "import kalepy.plot\n",
    "\n",
    "# --- Holodeck ----\n",
    "import holodeck as holo\n",
    "import holodeck.sam\n",
    "from holodeck import cosmo, utils, plot\n",
    "from holodeck.constants import MSOL, PC, YR, MPC, GYR, SPLC, NWTG\n",
    "import holodeck.gravwaves\n",
    "import holodeck.evolution\n",
    "import holodeck.population\n",
    "\n",
    "# Silence annoying numpy errors\n",
    "np.seterr(divide='ignore', invalid='ignore', over='ignore')\n",
    "warnings.filterwarnings(\"ignore\", category=UserWarning)\n",
    "\n",
    "# Plotting settings\n",
    "mpl.rc('font', **{'family': 'serif', 'sans-serif': ['Times'], 'size': 15})\n",
    "mpl.rc('lines', solid_capstyle='round')\n",
    "mpl.rc('mathtext', fontset='cm')\n",
    "mpl.style.use('default')   # avoid dark backgrounds from dark theme vscode\n",
    "plt.rcParams.update({'grid.alpha': 0.5})\n",
    "\n",
    "# Load log and set logging level\n",
    "log = holo.log\n",
    "log.setLevel(logging.INFO)"
   ]
  },
  {
   "cell_type": "code",
   "execution_count": null,
   "metadata": {},
   "outputs": [],
   "source": [
    "import zcode.math as zmath"
   ]
  },
  {
   "cell_type": "markdown",
   "metadata": {},
   "source": [
    "# Construct a population of binaries"
   ]
  },
  {
   "cell_type": "code",
   "execution_count": null,
   "metadata": {},
   "outputs": [],
   "source": [
    "NUM = 1e6\n",
    "MASS_EXTR = [1e6, 1e10]\n",
    "# TMAX = (20.0 * YR)\n",
    "# NFREQS = 100\n",
    "TMAX = (2.0 * YR)\n",
    "NFREQS = 1000"
   ]
  },
  {
   "cell_type": "code",
   "execution_count": null,
   "metadata": {},
   "outputs": [],
   "source": [
    "fobs_gw = np.arange(1, NFREQS+1) / TMAX\n",
    "\n",
    "masses = zmath.random_power(MASS_EXTR, -3, NUM) * MSOL\n",
    "redz = 0.1\n",
    "mrat = 0.3\n",
    "\n",
    "fig, ax = plot.figax()\n",
    "kale.dist1d((masses/MSOL), carpet=False)\n",
    "plt.show()"
   ]
  },
  {
   "cell_type": "markdown",
   "metadata": {},
   "source": [
    "# Calculate the strain directly "
   ]
  },
  {
   "cell_type": "code",
   "execution_count": null,
   "metadata": {},
   "outputs": [],
   "source": []
  },
  {
   "cell_type": "markdown",
   "metadata": {},
   "source": [
    "# Semi-Analytic (SA) Calculation"
   ]
  },
  {
   "cell_type": "markdown",
   "metadata": {},
   "source": [
    "The GWB characteristic strain spectrum can be calculated **semi-analytically** using a volumetric number-density of sources $n(M, q, z) = dN/dV_c$, as [Phinney 2001, Eq. 5] or [Enoki & Nagashima 2007, Eq. 3.6]:\n",
    "\n",
    "$$ h_c^2 = \\frac{4G}{\\pi c^2 f} \\int dM \\, dq \\, dz \\, \\frac{d^3 n(M, q, z)}{dM \\, dq \\, dz} \\, \\left( \\frac{dE_{GW}(M, q)}{d f_r}\\right)_{f_r = f(1+z)}$$\n",
    "\n",
    "Assuming circular, GW-driven orbits, this can be simplified to [Enoki & Nagashima 2007, Eq.3.11]:\n",
    "\n",
    "$$ h_c^2 = \\frac{4\\pi}{3 c^2} (\\pi f)^{-4/3} \\int dM \\, dq \\, dz \\, \\frac{d^3 n(M, q, z)}{dM \\, dq \\, dz} \\, \\frac{(G\\mathcal{M})^{5/3}}{(1+z)^{1/3}}$$"
   ]
  },
  {
   "cell_type": "markdown",
   "metadata": {},
   "source": [
    "Construct a Number-Density"
   ]
  },
  {
   "cell_type": "code",
   "execution_count": null,
   "metadata": {},
   "outputs": [],
   "source": [
    "NBINS = 100\n",
    "mbin_edges = zmath.spacing(masses, 'log', NBINS+1)\n",
    "mbin_cents = 0.5 * (mbin_edges[:-1] + mbin_edges[1:])\n",
    "# calculate comoving-volume\n",
    "vcom = cosmo.comoving_volume(redz).cgs.value\n",
    "\n",
    "SHAPE = (NBINS,)\n",
    "ndens = np.zeros(SHAPE)\n",
    "ndens, *_ = sp.stats.binned_statistic(masses, None, statistic='count', bins=mbin_edges)\n",
    "ndens /= np.diff(mbin_edges)\n",
    "ndens /= vcom\n",
    "\n",
    "fig, ax = plot.figax()\n",
    "plot.draw_hist_steps(ax, mbin_edges/MSOL, ndens*MSOL*(MPC**3))\n",
    "plt.show()"
   ]
  },
  {
   "cell_type": "markdown",
   "metadata": {},
   "source": [
    "Calculate GWB assuming circular, GW-drive evolution"
   ]
  },
  {
   "cell_type": "code",
   "execution_count": null,
   "metadata": {},
   "outputs": [],
   "source": [
    "mchirp_edges = utils.chirp_mass_mtmr(mbin_edges, mrat)\n",
    "mchirp_cents = 0.5 * (mchirp_edges[:-1] + mchirp_edges[1:])\n",
    "integrand = ndens * np.power(NWTG * mchirp_cents, 5.0/3.0) * np.power(1+redz, -1.0/3.0)\n",
    "\n",
    "gwb_sa = ((4.0 * np.pi) / (3 * SPLC**2)) * np.power(np.pi*fobs_gw, -4.0/3.0) * np.sum(integrand * np.diff(mbin_edges))\n",
    "gwb_sa = np.sqrt(gwb_sa)\n",
    "\n",
    "fig, ax = plot.figax()\n",
    "xx = fobs_gw * YR\n",
    "ax.plot(xx, gwb_sa)\n",
    "plt.show()"
   ]
  },
  {
   "cell_type": "markdown",
   "metadata": {},
   "source": [
    "# Monte Carlo (MC) Calculation"
   ]
  },
  {
   "cell_type": "markdown",
   "metadata": {},
   "source": [
    "The GWB can also be calculated explicitly from the full population of binaries in the universe [Sesana et al. 2008, Eq.~10], \n",
    "$$h_c^2(f) = \\int_0^\\infty \\!\\! dz \\; \\frac{d^2 N}{dz \\, d\\ln f_r} \\; h^2(f_r),$$\n",
    "\n",
    "where the spectral GW strain (*not* characteristic strain) for a circular binary is,\n",
    "\n",
    "$$h(f_r) = \\frac{8}{10^{1/2}} \\frac{(G\\mathcal{M})^{5/3}}{c^4 d_c} (2\\pi f_r)^{2/3}.$$\n",
    "\n",
    "From [Sesana et al. 2008, Eq.6] we can write,\n",
    "\n",
    "$$\\frac{d^2 N}{dz \\, d\\ln f_r} = \\frac{d n_c}{dz} \\frac{dz}{dt} \\frac{dt}{d\\ln f_r} \\frac{d V_c}{dz}.$$\n",
    "\n",
    "The standard cosmographic relations are [Hogg 1999],\n",
    "\n",
    "$$\\frac{dz}{dt} = H_0 (1+z) E(z) \\\\\n",
    "    \\frac{d V_c}{dz} = 4\\pi \\frac{c}{H_0} \\frac{d_c^2}{E(z)} \\\\\n",
    "    d_L = d_c \\, (1+z)$$\n",
    "\n",
    "Combining these, we obtain:\n",
    "\n",
    "$$h_c^2(f) = \\int_0^\\infty \\!\\! dz \\; \\frac{dn_c}{dz} \\, h^2(f_r) \\, 4\\pi c \\, d_c^2 (1+z) \\, \\frac{f_r}{df_r / dt}.$$\n",
    "\n",
    "The hardening timescale for a circular, GW-driven binary is:\n",
    "\n",
    "$$\\tau_{GW} \\equiv \\frac{f_r}{\\left[df_r/dt\\right]_{GW}} = \\frac{5}{96} \\frac{c^5}{(G \\mathcal{M})^{5/3}} (2\\pi f_r)^{-8/3}.$$\n",
    "\n",
    "Plugging this in to the previous relation gives:\n",
    "\n",
    "$$h_c^2(f) = \\frac{20\\pi c^6}{96} \\int_0^\\infty \\!\\! dz \\; \\frac{dn_c}{dz} \\, h^2(f_r) \\, \\frac{d_c^2 (1+z)}{(G \\mathcal{M})^{5/3}} (2\\pi f_r)^{-8/3}.$$\n",
    "\n",
    "<!-- When taking the strain to be due to a circular binary:\n",
    "\n",
    "$$ h_c^2(f) = \\int_0^\\infty \\!\\! dz \\; \\frac{256 \\pi}{10 c^7} \\frac{dn_c}{dz} \\, \\frac{f_r}{df_r / dt} \\, (1+z) \\, (G \\mathcal{M})^{10/3} \\, (2\\pi f_r)^{4/3}.$$\n",
    "\n",
    "And for GW-driven evolution,\n",
    "\n",
    "$$h_c^2(f) = \\int_0^\\infty \\!\\! dz \\; \\frac{4 \\pi}{3 c^2} \\frac{dn_c}{dz}  \\, \\frac{(G \\mathcal{M})^{5/3}}{(1+z)^{1/3}} \\, (2\\pi f_r)^{-4/3}.$$ -->"
   ]
  },
  {
   "cell_type": "code",
   "execution_count": null,
   "metadata": {},
   "outputs": [],
   "source": [
    "\n",
    "dcom = cosmo.comoving_distance(redz).cgs.value\n",
    "frst_orb = fobs_gw[np.newaxis, :] * (1.0 + redz) / 2.0\n",
    "\n",
    "hs = (8.0 / np.sqrt(10)) * np.power(NWTG * mchirp_cents, 5.0/3.0) / (dcom * (SPLC**4))\n",
    "hs = hs[:, np.newaxis] * np.power(2*np.pi*frst_orb, 2.0/3.0) \n",
    "\n",
    "integrand = ((20*np.pi*(SPLC**6))/96) * ndens * np.diff(mbin_edges)\n",
    "integrand *= (dcom**2) * (1.0 + redz) * np.power(NWTG * mchirp_cents, -5.0/3.0)\n",
    "integrand = integrand[:, np.newaxis] * np.power(2.0*np.pi*frst_orb, -8.0/3.0)\n",
    "\n",
    "sepa_isco = 6 * NWTG * mbin_cents / SPLC**2\n",
    "frst_orb_isco = utils.kepler_freq_from_sepa(mbin_cents, sepa_isco)\n",
    "bads = frst_orb > frst_orb_isco[:, np.newaxis]\n",
    "merged = np.ones_like(integrand)\n",
    "merged[bads] = 0.0\n",
    "\n",
    "integrand = np.random.poisson(integrand[..., np.newaxis], integrand.shape + (20,)) * merged[..., np.newaxis]\n",
    "gwb_mc = np.sum(integrand * (hs**2)[..., np.newaxis], axis=0)\n",
    "\n",
    "gwb_mc = np.sqrt(gwb_mc)"
   ]
  },
  {
   "cell_type": "code",
   "execution_count": null,
   "metadata": {},
   "outputs": [],
   "source": [
    "fig, ax = plot.figax()\n",
    "xx = fobs_gw * YR\n",
    "# ax.plot(xx, gwb_mc[:, np.random.choice(20, 5, replace=False)], alpha=0.2)\n",
    "ax.plot(xx, np.median(gwb_mc, axis=-1), lw=0.5)\n",
    "ax.fill_between(xx, *np.percentile(gwb_mc, [25, 75], axis=-1), alpha=0.5)\n",
    "\n",
    "\n",
    "ax.plot(xx, gwb_sa, 'k--')\n",
    "plt.show()"
   ]
  }
 ],
 "metadata": {
  "kernelspec": {
   "display_name": "Python 3.9.13 ('py39')",
   "language": "python",
   "name": "python3"
  },
  "language_info": {
   "codemirror_mode": {
    "name": "ipython",
    "version": 3
   },
   "file_extension": ".py",
   "mimetype": "text/x-python",
   "name": "python",
   "nbconvert_exporter": "python",
   "pygments_lexer": "ipython3",
   "version": "3.9.13"
  },
  "vscode": {
   "interpreter": {
    "hash": "61b4062b24dfb1010f420dad5aa3bd73a4d2af47d0ec44eafec465a35a9d7239"
   }
  }
 },
 "nbformat": 4,
 "nbformat_minor": 2
}
