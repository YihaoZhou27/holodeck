{
 "cells": [
  {
   "cell_type": "code",
   "execution_count": null,
   "id": "ee1423d0-8ac7-4d2f-9b4b-e1286fa6e97f",
   "metadata": {
    "tags": []
   },
   "outputs": [],
   "source": [
    "import pickle\n",
    "from pathlib import Path\n",
    "from pprint import pp\n",
    "\n",
    "import os\n",
    "import sys\n",
    "\n",
    "import h5py\n",
    "import holodeck as holo\n",
    "from holodeck.gps import gp_utils as gu\n",
    "from holodeck.gps import plotting_utils as pu\n",
    "from holodeck.gps import sam_utils as su\n",
    "\n",
    "import matplotlib.pyplot as plt\n",
    "import numpy as np\n",
    "import corner\n",
    "\n",
    "from holodeck.gps.gp_utils import GaussProc\n",
    "\n",
    "# fixes relative-pathing errors for some GPs\n",
    "from holodeck.gps import gp_utils \n",
    "sys.modules['gp_utils'] = gp_utils\n",
    "\n",
    "%load_ext autoreload\n",
    "%autoreload 2"
   ]
  },
  {
   "attachments": {},
   "cell_type": "markdown",
   "id": "8bf6558a-349d-401a-9417-e1b658fc4e22",
   "metadata": {},
   "source": [
    "## define notebook-wide variables here"
   ]
  },
  {
   "cell_type": "code",
   "execution_count": null,
   "id": "da21e003-e6d2-4bd1-8710-fed5354aa338",
   "metadata": {
    "tags": []
   },
   "outputs": [],
   "source": [
    "# spectra and GPs\n",
    "\n",
    "# the name of the spectrum libraries used to train and test the GPs\n",
    "spectra_name_train = \"broad-uniform-04_n600_r1k\"\n",
    "spectra_name_test = \"broad-uniform-04_n1k_r1k\"\n",
    "# these are the date/time-based codes we use to distinguish GPs\n",
    "gp_ext_means = \"20230429_024952\"\n",
    "gp_ext_stdevs = \"20230428_223544\""
   ]
  },
  {
   "cell_type": "code",
   "execution_count": null,
   "id": "dde152d1-15b0-413e-a9d1-253009f1bd83",
   "metadata": {
    "tags": []
   },
   "outputs": [],
   "source": [
    "# plotting/visualization control\n",
    "train_hist = False # if set to true, will display histograms of predictions made on the training data in the train/test comparison. Often very narrow/on a different scale from test hist.\n",
    "save_figures = False # if set to true, will automatically save each of the figures created below using a prescribed filenaming convention\n",
    "box_frac = 0.2 #sets the size of the %error box placed on figures. Default of 0.2 corresponds to 20%."
   ]
  },
  {
   "attachments": {},
   "cell_type": "markdown",
   "id": "1527caf8-32d5-4e53-b60f-526e40040cd0",
   "metadata": {},
   "source": [
    "## definitions of helper functions"
   ]
  },
  {
   "cell_type": "code",
   "execution_count": null,
   "id": "3763cce4-7baa-4432-90f5-1f84b971ac2d",
   "metadata": {
    "tags": []
   },
   "outputs": [],
   "source": [
    "def get_mean_stdev(spectra,\n",
    "                 gp_george,\n",
    "                 gp_list,\n",
    "                 gp_george_stdev,\n",
    "                 gp_list_stdev,\n",
    "                 xobs,\n",
    "                 scale_factor=1.0, #1.0 for hc^2, 0.5 for hc\n",
    "                 include_gp_unc = False):\n",
    "    \n",
    "    pts = (xobs.shape[0],len(gp_george))\n",
    "    means = np.zeros(pts)\n",
    "    stdevs = np.zeros(pts)\n",
    "    \n",
    "    for ind in range(pts[0]):\n",
    "        env_param = xobs[ind,:].copy()\n",
    "        hc, rho, rho_pred = gu.hc_from_gp(gp_george, gp_list, gp_george_stdev, gp_list_stdev, env_param, include_gp_unc=include_gp_unc)\n",
    "        means[ind] = rho*scale_factor\n",
    "        stdevs[ind] = rho_pred[:,1]*scale_factor\n",
    "        \n",
    "    return means,stdevs\n",
    "\n",
    "\n",
    "\n",
    "def fraction_within_error(array,error_bound=0.1):\n",
    "    return np.count_nonzero(np.abs(10**(np.ravel(array))-1)<error_bound)/(array.size)"
   ]
  },
  {
   "attachments": {},
   "cell_type": "markdown",
   "id": "c32152d8-aa2b-4cf1-a321-06a05cfe7283",
   "metadata": {},
   "source": [
    "## set up your directory and GPs of interest"
   ]
  },
  {
   "cell_type": "code",
   "execution_count": null,
   "id": "7711ca47-6e98-461f-98fd-4acb30116464",
   "metadata": {
    "tags": []
   },
   "outputs": [],
   "source": [
    "spectra_file_train = Path(\n",
    "    f\"./spec_libraries/{spectra_name_train}/sam_lib.hdf5\"\n",
    ")\n",
    "print_name_train = spectra_name_train.replace(\"broad-\",\"b\").replace(\"uniform-\",\"u\")\n",
    "spectra_train = h5py.File(spectra_file_train, \"r\")\n",
    "\n",
    "spectra_file_test = Path(\n",
    "    f\"./spec_libraries/{spectra_name_test}/sam_lib.hdf5\"\n",
    ")\n",
    "print_name_test = spectra_name_test.replace(\"broad-\",\"b\").replace(\"uniform-\",\"u\")\n",
    "spectra_test = h5py.File(spectra_file_test, \"r\")"
   ]
  },
  {
   "cell_type": "code",
   "execution_count": null,
   "id": "0e22718d-d979-44c5-b9a3-b921dd66ceb2",
   "metadata": {
    "tags": []
   },
   "outputs": [],
   "source": [
    "gaussproc = GaussProc  # For backwards compatibility before change to camel-case\n",
    "\n",
    "# load the trained GPs and set up predictions\n",
    "\n",
    "# means\n",
    "gp_file_means = \"trained_gp_\" + spectra_file_train.parent.name + \"_\" + gp_ext_means + \".pkl\"\n",
    "with open(spectra_file_train.parent / gp_file_means, \"rb\") as f:\n",
    "    gp_george_means = pickle.load(f)\n",
    "gp_means = gu.set_up_predictions(spectra_train, gp_george_means)\n",
    "\n",
    "# standard deviations\n",
    "gp_file_stdevs = \"trained_gp_\" + spectra_file_train.parent.name + \"_\" + gp_ext_stdevs + \".pkl\"\n",
    "with open(spectra_file_train.parent / gp_file_stdevs, \"rb\") as f:\n",
    "    gp_george_stdevs = pickle.load(f)\n",
    "gp_stdevs = gu.set_up_predictions(spectra_train, gp_george_stdevs)"
   ]
  },
  {
   "attachments": {},
   "cell_type": "markdown",
   "id": "33b32c99-a5fb-4493-a9ee-e7adfe83dbf3",
   "metadata": {},
   "source": [
    "## recover means and stdevs"
   ]
  },
  {
   "cell_type": "code",
   "execution_count": null,
   "id": "665ca8f5-e623-4dd9-a450-4f0ebbf965b3",
   "metadata": {
    "tags": []
   },
   "outputs": [],
   "source": [
    "# first, get gwb information\n",
    "\n",
    "# for training data\n",
    "_, xobs_train, yerr_train, yobs_train, yobs_mean_train = gu.get_gwb(spectra_train, len(gp_george_means))\n",
    "yobs_train += yobs_mean_train\n",
    "# for testing data\n",
    "_, xobs_test, yerr_test, yobs_test, yobs_mean_test = gu.get_gwb(spectra_test, len(gp_george_means))\n",
    "yobs_test += yobs_mean_test"
   ]
  },
  {
   "cell_type": "code",
   "execution_count": null,
   "id": "dbc5d2c7-7da9-42d8-b85b-9889a5d7ee92",
   "metadata": {
    "tags": []
   },
   "outputs": [],
   "source": [
    "# then, find training and test set predictions for mean and stdevs\n",
    "# note that this step can take many seconds, depending on your hardware and the size of the spectrum library you're using\n",
    "# for very large libraries, you may want to consider pickling the recovered means and stdevs to easily load them later\n",
    "m_train,s_train = get_mean_stdev(spectra_train,gp_george_means,gp_means,gp_george_stdevs,gp_stdevs,xobs_train)\n",
    "m_test,s_test = get_mean_stdev(spectra_test,gp_george_means,gp_means,gp_george_stdevs,gp_stdevs,xobs_test)"
   ]
  },
  {
   "attachments": {},
   "cell_type": "markdown",
   "id": "fea03a77-07d9-451b-aec6-ac570f1799fd",
   "metadata": {},
   "source": [
    "## look at training data response"
   ]
  },
  {
   "cell_type": "code",
   "execution_count": null,
   "id": "476c911a-1376-4cb4-96a0-4d0ecd448983",
   "metadata": {
    "tags": []
   },
   "outputs": [],
   "source": [
    "yobs_train_plot = np.ravel(yobs_train)\n",
    "m_train_plot = np.ravel(m_train)\n",
    "yerr_train_plot = np.ravel(yerr_train)\n",
    "s_train_plot = np.ravel(s_train)"
   ]
  },
  {
   "cell_type": "code",
   "execution_count": null,
   "id": "7444ea41-4ac4-4809-b075-249f99d29784",
   "metadata": {
    "tags": []
   },
   "outputs": [],
   "source": [
    "fig,ax = plt.subplots(ncols=3,nrows=2)\n",
    "ptsize = 1\n",
    "\n",
    "ax[0,0].scatter(yobs_train_plot,m_train_plot,s=ptsize,marker='v',c='black')\n",
    "ax[0,0].set_xlabel(\"Actual mean\")\n",
    "ax[0,0].set_ylabel(\"Predicted mean\")\n",
    "\n",
    "ax[0,1].scatter(yobs_train_plot,m_train_plot-yobs_train_plot,s=ptsize,marker='v',c='black')\n",
    "ax[0,1].set_xlabel(\"Actual mean\")\n",
    "ax[0,1].set_ylabel(\"Error in prediction\")\n",
    "\n",
    "ax[0,2].hist(m_train_plot-yobs_train_plot,density=True,histtype='step',color='black')\n",
    "ax[0,2].set_xlabel(\"Error in prediction\")\n",
    "ax[0,2].set_ylabel(\"Prob. density\")\n",
    "\n",
    "ax[1,0].scatter(yerr_train_plot,s_train_plot,s=ptsize,marker='v',c='black')     \n",
    "ax[1,0].set_xlabel(\"Actual stdev\")\n",
    "ax[1,0].set_ylabel(\"Predicted stdev\")\n",
    "\n",
    "ax[1,1].scatter(yerr_train_plot,s_train_plot-yerr_train_plot,s=ptsize,marker='v',c='black')\n",
    "ax[1,1].set_xlabel(\"Actual stdev\")\n",
    "ax[1,1].set_ylabel(\"Error in prediction\")\n",
    "\n",
    "ax[1,2].hist(s_train_plot-yerr_train_plot,density=True,histtype='step',color='black')\n",
    "ax[1,2].set_xlabel(\"Error in prediction\")\n",
    "ax[1,2].set_ylabel(\"Prob. density\")\n",
    "\n",
    "\n",
    "fig.suptitle(f\"{print_name_train}, trained points\")\n",
    "fig.set_size_inches(12,8)\n",
    "fig.tight_layout()\n",
    "\n",
    "if save_figures:\n",
    "    plt.savefig(f\"{print_name_train}-confirmation_means-stdevs_{ext_m}+{ext_v}.png\")"
   ]
  },
  {
   "attachments": {},
   "cell_type": "markdown",
   "id": "92649a98-60ca-4ef2-9371-d4f20b16d252",
   "metadata": {},
   "source": [
    "## look at test data response, c.f. training"
   ]
  },
  {
   "cell_type": "code",
   "execution_count": null,
   "id": "a4919b55-7de3-4793-9832-a2608be04c00",
   "metadata": {
    "tags": []
   },
   "outputs": [],
   "source": [
    "yobs_test_plot = np.ravel(yobs_test)\n",
    "m_test_plot = np.ravel(m_test)\n",
    "yerr_test_plot = np.ravel(yerr_test)\n",
    "s_test_plot = np.ravel(s_test)"
   ]
  },
  {
   "cell_type": "code",
   "execution_count": null,
   "id": "14255f32-e85f-442b-bfe5-adc0c5a4f657",
   "metadata": {
    "tags": []
   },
   "outputs": [],
   "source": [
    "fig,ax = plt.subplots(ncols=3,nrows=2)\n",
    "ptsize = 1\n",
    "\n",
    "ax[0,0].scatter(yobs_train_plot,m_train_plot,s=ptsize,marker='v',c='black',label=\"Trained\")\n",
    "ax[0,0].scatter(yobs_test_plot,m_test_plot,s=ptsize,marker='^',c='red',label=\"Not trained\")\n",
    "ax[0,0].legend()\n",
    "ax[0,0].set_xlabel(\"Actual mean\")\n",
    "ax[0,0].set_ylabel(\"Predicted mean\")\n",
    "\n",
    "ax[0,1].scatter(yobs_train_plot,m_train_plot-yobs_train_plot,s=ptsize,marker='v',c='black',label=\"Trained\")\n",
    "ax[0,1].scatter(yobs_test_plot,m_test_plot-yobs_test_plot,s=ptsize,marker='^',c='red',label=\"Not trained\")\n",
    "if box_frac > 0.0:\n",
    "    ax[0,1].fill_between([np.min([np.min(yobs_train),np.min(yobs_test)]),np.max([np.max(yobs_train),np.max(yobs_test)])],\n",
    "                         np.log10(1-box_frac),np.log10(1+box_frac),color='gray',alpha=0.25, label=r\"$\\pm20\\%$ error\")\n",
    "ax[0,1].legend()\n",
    "ax[0,1].set_xlabel(\"Actual mean\")\n",
    "ax[0,1].set_ylabel(\"Error in prediction\")\n",
    "\n",
    "if train_hist:\n",
    "    ax[0,2].hist(m_train_plot-yobs_train_plot,density=True,histtype='step',color='black',label=\"Trained\")\n",
    "ax[0,2].hist(m_test_plot-yobs_test_plot,density=True,histtype='step',color='red',label=\"Not trained\")\n",
    "ax[0,2].legend()\n",
    "ax[0,2].set_xlabel(\"Error in prediction\")\n",
    "ax[0,2].set_ylabel(\"Prob. density\")\n",
    "\n",
    "ax[1,0].scatter(yerr_train_plot,s_train_plot,s=ptsize,marker='v',c='black',label=\"Trained\")\n",
    "ax[1,0].scatter(yerr_test_plot,s_test_plot,s=ptsize,marker='^',c='red',label=\"Not trained\")\n",
    "ax[1,0].legend()\n",
    "ax[1,0].set_xlabel(\"Actual stdev\")\n",
    "ax[1,0].set_ylabel(\"Predicted stdev\")\n",
    "\n",
    "ax[1,1].scatter(yerr_train_plot,s_train_plot-yerr_train_plot,s=ptsize,marker='v',c='black',label=\"Trained\")\n",
    "ax[1,1].scatter(yerr_test_plot,s_test_plot-yerr_test_plot,s=ptsize,marker='^',c='red',label=\"Not trained\")\n",
    "if box_frac > 0.0:\n",
    "    ax[1,1].fill_between([np.min([np.min(yerr_train),np.min(yerr_test)]),np.max([np.max(yerr_train),np.max(yerr_test)])],\n",
    "                         np.log10(1-box_frac),np.log10(1+box_frac),color='gray',alpha=0.25, label=r\"$\\pm20\\%$ error\")\n",
    "ax[1,1].legend()\n",
    "ax[1,1].set_xlabel(\"Actual stdev\")\n",
    "ax[1,1].set_ylabel(\"Error in prediction\")\n",
    "\n",
    "if train_hist:\n",
    "    ax[1,2].hist(s_train_plot-yerr_train_plot,density=True,histtype='step',color='black',label=\"Trained\")\n",
    "ax[1,2].hist(s_test_plot-yerr_test_plot,density=True,histtype='step',color='red',label=\"Not trained\")\n",
    "ax[1,2].legend()\n",
    "ax[1,2].set_xlabel(\"Error in prediction\")\n",
    "ax[1,2].set_ylabel(\"Prob. density\")\n",
    "\n",
    "\n",
    "\n",
    "fig.suptitle(f\"{print_name_train}, tested on {print_name_test}\")\n",
    "fig.set_size_inches(12,8)\n",
    "fig.tight_layout()\n",
    "\n",
    "if save_figures:\n",
    "    plt.savefig(f\"{print_name_train}-vs-{print_name_test}_means-stdevs_{ext_m}+{ext_v}.png\")"
   ]
  },
  {
   "cell_type": "code",
   "execution_count": null,
   "id": "0047a425-856e-4a22-96aa-60294a1f3e74",
   "metadata": {
    "tags": []
   },
   "outputs": [],
   "source": [
    "# print out some fractions w/in errors\n",
    "print(f\"Untrained means, fraction within {box_frac:.1%}: {fraction_within_error(m_test-yobs_test,box_frac):3f}\")\n",
    "print(f\"Untrained stdevs, fraction within {box_frac:.1%}: {fraction_within_error(s_test-yerr_test,box_frac):3f}\")"
   ]
  }
 ],
 "metadata": {
  "kernelspec": {
   "display_name": "Python 3 (ipykernel)",
   "language": "python",
   "name": "python3"
  },
  "language_info": {
   "codemirror_mode": {
    "name": "ipython",
    "version": 3
   },
   "file_extension": ".py",
   "mimetype": "text/x-python",
   "name": "python",
   "nbconvert_exporter": "python",
   "pygments_lexer": "ipython3",
   "version": "3.10.9"
  }
 },
 "nbformat": 4,
 "nbformat_minor": 5
}
