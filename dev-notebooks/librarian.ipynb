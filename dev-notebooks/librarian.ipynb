{
 "cells": [
  {
   "cell_type": "code",
   "execution_count": null,
   "metadata": {},
   "outputs": [],
   "source": [
    "# %load ../notebooks/init.ipy\n",
    "%reload_ext autoreload\n",
    "%autoreload 2\n",
    "\n",
    "# Builtin packages\n",
    "from datetime import datetime\n",
    "from importlib import reload\n",
    "import logging\n",
    "import os\n",
    "from pathlib import Path\n",
    "import sys\n",
    "import warnings\n",
    "\n",
    "# standard secondary packages\n",
    "import astropy as ap\n",
    "import h5py\n",
    "import matplotlib as mpl\n",
    "import matplotlib.pyplot as plt\n",
    "import numpy as np\n",
    "import scipy as sp\n",
    "import scipy.stats\n",
    "import tqdm.notebook as tqdm\n",
    "\n",
    "# development packages\n",
    "import kalepy as kale\n",
    "import kalepy.utils\n",
    "import kalepy.plot\n",
    "\n",
    "# --- Holodeck ----\n",
    "import holodeck as holo\n",
    "import holodeck.sam\n",
    "from holodeck import cosmo, utils, plot\n",
    "from holodeck.constants import MSOL, PC, YR, MPC, GYR, SPLC, NWTG\n",
    "import holodeck.gravwaves\n",
    "import holodeck.evolution\n",
    "import holodeck.population\n",
    "\n",
    "# Silence annoying numpy errors\n",
    "np.seterr(divide='ignore', invalid='ignore', over='ignore')\n",
    "warnings.filterwarnings(\"ignore\", category=UserWarning)\n",
    "\n",
    "# Plotting settings\n",
    "mpl.rc('font', **{'family': 'serif', 'sans-serif': ['Times'], 'size': 15})\n",
    "mpl.rc('lines', solid_capstyle='round')\n",
    "mpl.rc('mathtext', fontset='cm')\n",
    "mpl.style.use('default')   # avoid dark backgrounds from dark theme vscode\n",
    "plt.rcParams.update({'grid.alpha': 0.5})\n",
    "\n",
    "# Load log and set logging level\n",
    "log = holo.log\n",
    "log.setLevel(logging.INFO)"
   ]
  },
  {
   "attachments": {},
   "cell_type": "markdown",
   "metadata": {},
   "source": [
    "# Param_Space Class"
   ]
  },
  {
   "cell_type": "code",
   "execution_count": null,
   "metadata": {},
   "outputs": [],
   "source": [
    "class PS_Test(holo.librarian._Param_Space):\n",
    "    \n",
    "    def __init__(self, log, nsamples, sam_shape, seed):\n",
    "        super().__init__(\n",
    "            log, nsamples, sam_shape, seed,\n",
    "            gsmf_phi0=holo.librarian.PD_Normal(-2.77, 0.3),\n",
    "        )\n",
    "        return\n",
    "    \n",
    "    def model_for_number(self, num):\n",
    "        params = self.param_dict(num)\n",
    "        gsmf = holo.sam.GSMF_Schechter(phi0=params['gsmf_phi0'])\n",
    "        # CONSTRUCT SAM and HARD models here\n",
    "        sam = holo.sam.Semi_Analytic_Model(\n",
    "            ZERO_DYNAMIC_STALLED_SYSTEMS = False,\n",
    "            ZERO_GMT_STALLED_SYSTEMS = True,\n",
    "        )\n",
    "        hard = holo.hardening.Hard_GW\n",
    "        return sam, hard\n",
    "    \n",
    "test = PS_Test(log, 4, 10, 12345)\n",
    "fobs_edges = utils.nyquist_freqs_edges()\n",
    "fobs_cents = utils.midpoints(fobs_edges, log=False)\n",
    "sam, hard = test.model_for_number(0)\n",
    "gwb = sam.gwb(fobs_edges, hard=hard, realize=20)\n",
    "plot.plot_gwb(fobs_cents, gwb)\n",
    "plt.show()"
   ]
  },
  {
   "cell_type": "code",
   "execution_count": null,
   "metadata": {},
   "outputs": [],
   "source": [
    "class PS_Test(holo.librarian._Param_Space):\n",
    "    \n",
    "    def __init__(self, log, nsamples, sam_shape, seed):\n",
    "        super().__init__(\n",
    "            log, nsamples, sam_shape, seed,\n",
    "            gsmf_phi0=holo.librarian.PD_Normal(-2.77, 0.3),\n",
    "        )\n",
    "        return\n",
    "    \n",
    "    def model_for_number(self, num):\n",
    "        params = self.param_dict(num)\n",
    "        gsmf = holo.sam.GSMF_Schechter(phi0=params['gsmf_phi0'])\n",
    "\n",
    "        sam = holo.sam.Semi_Analytic_Model(\n",
    "            ZERO_DYNAMIC_STALLED_SYSTEMS = True,\n",
    "            ZERO_GMT_STALLED_SYSTEMS = False,\n",
    "            shape=self.sam_shape\n",
    "        )\n",
    "        # hard = holo.hardening.Hard_GW\n",
    "        hard = holo.hardening.Fixed_Time.from_sam(sam, 0.01*GYR)\n",
    "        return sam, hard\n",
    "    \n",
    "test = PS_Test(log, 4, 10, 12345)\n",
    "fobs_edges = utils.nyquist_freqs_edges()\n",
    "fobs_cents = utils.midpoints(fobs_edges, log=False)\n",
    "sam, hard = test.model_for_number(0)\n",
    "gwb = sam.gwb(fobs_edges, hard=hard, realize=20)\n",
    "plot.plot_gwb(fobs_cents, gwb)\n",
    "plt.show()"
   ]
  },
  {
   "cell_type": "code",
   "execution_count": null,
   "metadata": {},
   "outputs": [],
   "source": [
    "class PS_Test(holo.librarian._Param_Space):\n",
    "    \n",
    "    def __init__(self, log, nsamples, sam_shape, seed):\n",
    "        super().__init__(\n",
    "            log, nsamples, sam_shape, seed,\n",
    "            par1=holo.librarian.PD_Uniform(-1.0, 1.0),\n",
    "            par2=holo.librarian.PD_Uniform_Log(10.0, 1000.0),\n",
    "            par3=holo.librarian.PD_Normal(-3.0, 0.4),\n",
    "        )\n",
    "        return\n",
    "    \n",
    "    def model_for_number(self, num):\n",
    "        # CONSTRUCT SAM and HARD models here\n",
    "        sam = None\n",
    "        hard = None\n",
    "        return sam, hard\n",
    "    \n",
    "nsamps = 1000\n",
    "test = PS_Test(log, nsamps, 50, 12345)\n",
    "\n",
    "for ii in np.random.choice(nsamps, 4, replace=False):\n",
    "    print(f\"\\ntest sample {ii:4d} :: {test.params(ii)}  \\n    {test.param_dict(ii)}\")\n",
    "\n",
    "fig, axes = plt.subplots(figsize=[10, 5], ncols=test.ndims)\n",
    "for ii, ax in enumerate(axes):\n",
    "    ax.grid(True, alpha=0.25)\n",
    "    kale.dist1d(test._params[:, ii], ax=ax, density=False)\n",
    "    \n",
    "plt.show()\n"
   ]
  },
  {
   "attachments": {},
   "cell_type": "markdown",
   "metadata": {},
   "source": [
    "## Saving a _Param_Space class"
   ]
  },
  {
   "cell_type": "code",
   "execution_count": null,
   "metadata": {},
   "outputs": [],
   "source": [
    "space = holo.param_spaces.PS_Broad_Uniform_02B(log, 100, (11, 12, 13), None)\n",
    "output = Path('.').resolve()\n",
    "print(output)\n",
    "fname = space.save(output)"
   ]
  },
  {
   "cell_type": "code",
   "execution_count": null,
   "metadata": {},
   "outputs": [],
   "source": [
    "check = holo.param_spaces.PS_Broad_Uniform_02B.from_save(fname, log)"
   ]
  },
  {
   "cell_type": "code",
   "execution_count": null,
   "metadata": {},
   "outputs": [],
   "source": [
    "for kk in dir(space):\n",
    "    if kk.startswith(\"__\") or kk in ['_random_state']:\n",
    "        continue\n",
    "    v1 = getattr(space, kk)\n",
    "    v2 = getattr(check, kk)\n",
    "    print(kk, type(v1), type(v2))\n",
    "    if callable(v1):\n",
    "        continue\n",
    "    test = (v1 == v2)\n",
    "    print(\"\\t\", np.all(test))\n",
    "    assert np.all(test)\n",
    "    print(np.all(test))"
   ]
  },
  {
   "attachments": {},
   "cell_type": "markdown",
   "metadata": {},
   "source": [
    "# Param_Dist Classes"
   ]
  },
  {
   "attachments": {},
   "cell_type": "markdown",
   "metadata": {},
   "source": [
    "## Normal"
   ]
  },
  {
   "cell_type": "code",
   "execution_count": null,
   "metadata": {},
   "outputs": [],
   "source": [
    "PD_Normal = holo.librarian.PD_Normal"
   ]
  },
  {
   "attachments": {},
   "cell_type": "markdown",
   "metadata": {},
   "source": [
    "# LinLog"
   ]
  },
  {
   "cell_type": "code",
   "execution_count": null,
   "metadata": {},
   "outputs": [],
   "source": [
    "test = holo.librarian.PD_Lin_Log(0.01, 100.0, 0.1, 0.5)\n",
    "xx = np.linspace(0.0, 1.0, 10000)\n",
    "yy = test(xx)\n",
    "print(utils.minmax(yy))\n",
    "plt.loglog(xx, yy)\n",
    "ax = plt.gca()\n",
    "ax.axhline(test._crit, color='r', ls=':')\n",
    "ax.axvline(test._lofrac, color='r', ls=':')\n",
    "plt.show()"
   ]
  },
  {
   "attachments": {},
   "cell_type": "markdown",
   "metadata": {},
   "source": [
    "### Change the fraction of population below/above cutoff"
   ]
  },
  {
   "cell_type": "code",
   "execution_count": null,
   "metadata": {},
   "outputs": [],
   "source": [
    "NUM = int(1e4)\n",
    "crit = 0.1\n",
    "\n",
    "BINS = 20\n",
    "e1 = np.linspace(0.01, crit, BINS, endpoint=False)\n",
    "e2 = np.logspace(*np.log10([crit, 100.0]), BINS)\n",
    "edges = np.concatenate([e1, e2])\n",
    "\n",
    "fig, ax = plot.figax(scale='log')\n",
    "for frac in [0.2, 0.5, 0.8]:\n",
    "    test = holo.librarian.PD_Lin_Log(0.01, 100.0, crit, frac)\n",
    "    xx = test(np.random.uniform(0.0, 1.0, size=NUM))\n",
    "    kale.dist1d(xx, ax=ax, edges=edges, density=True, probability=False)\n",
    "    obs_frac = np.count_nonzero(xx < crit) / xx.size\n",
    "    print(f\"target:{frac:.2f}, result:{obs_frac:.4f}\", 1.0/np.sqrt(NUM))\n",
    "    assert np.isclose(frac, obs_frac, atol=2.0/np.sqrt(NUM))\n",
    "    \n",
    "plt.show()"
   ]
  },
  {
   "attachments": {},
   "cell_type": "markdown",
   "metadata": {},
   "source": [
    "### Change the location of the cutoff"
   ]
  },
  {
   "cell_type": "code",
   "execution_count": null,
   "metadata": {},
   "outputs": [],
   "source": [
    "NUM = int(1e4)\n",
    "frac = 0.5\n",
    "\n",
    "BINS = 20\n",
    "edges = np.logspace(*np.log10([0.01, 100.0]), 2*BINS)\n",
    "\n",
    "fig, ax = plot.figax(scale='log')\n",
    "for crit in [0.1, 1.0, 10.0]:\n",
    "    test = holo.librarian.PD_Lin_Log(0.01, 100.0, crit, frac)\n",
    "    xx = test(np.random.uniform(0.0, 1.0, size=NUM))\n",
    "    kale.dist1d(xx, ax=ax, edges=edges, density=True, probability=False)\n",
    "    obs_frac = np.count_nonzero(xx < crit) / xx.size\n",
    "    print(f\"target:{frac:.2f}, result:{obs_frac:.4f}\", 1.0/np.sqrt(NUM))\n",
    "    assert np.isclose(frac, obs_frac, atol=2.0/np.sqrt(NUM))\n",
    "    \n",
    "plt.show()"
   ]
  },
  {
   "attachments": {},
   "cell_type": "markdown",
   "metadata": {},
   "source": [
    "# LogLin"
   ]
  },
  {
   "cell_type": "code",
   "execution_count": null,
   "metadata": {},
   "outputs": [],
   "source": [
    "test = holo.librarian.PD_Log_Lin(0.01, 100.0, 0.1, 0.5)\n",
    "xx = np.linspace(0.0, 1.0, 10000)\n",
    "yy = test(xx)\n",
    "print(utils.minmax(yy))\n",
    "plt.loglog(xx, yy)\n",
    "ax = plt.gca()\n",
    "ax.axhline(test._crit, color='r', ls=':')\n",
    "ax.axvline(test._lofrac, color='r', ls=':')\n",
    "plt.show()"
   ]
  },
  {
   "attachments": {},
   "cell_type": "markdown",
   "metadata": {},
   "source": [
    "### Change the fraction of population below/above cutoff"
   ]
  },
  {
   "cell_type": "code",
   "execution_count": null,
   "metadata": {},
   "outputs": [],
   "source": [
    "NUM = int(2e4)\n",
    "crit = 0.1\n",
    "\n",
    "BINS = 30\n",
    "edges = np.logspace(*np.log10([0.01, 100.0]), BINS)\n",
    "\n",
    "fig, ax = plot.figax(scale='log')\n",
    "for frac in [0.2, 0.5, 0.8]:\n",
    "    test = holo.librarian.PD_Log_Lin(0.01, 100.0, crit, frac)\n",
    "    xx = test(np.random.uniform(0.0, 1.0, size=NUM))\n",
    "    kale.dist1d(xx, ax=ax, edges=edges, density=True, probability=False)\n",
    "    obs_frac = np.count_nonzero(xx < crit) / xx.size\n",
    "    print(f\"target:{frac:.2f}, result:{obs_frac:.4f}\", 1.0/np.sqrt(NUM))\n",
    "    assert np.isclose(frac, obs_frac, atol=2.0/np.sqrt(NUM))\n",
    "    \n",
    "plt.show()"
   ]
  },
  {
   "attachments": {},
   "cell_type": "markdown",
   "metadata": {},
   "source": [
    "### Change the location of the cutoff"
   ]
  },
  {
   "cell_type": "code",
   "execution_count": null,
   "metadata": {},
   "outputs": [],
   "source": [
    "NUM = int(2e4)\n",
    "frac = 0.5\n",
    "\n",
    "BINS = 20\n",
    "\n",
    "edges = np.logspace(*np.log10([0.01, 100.0]), 2*BINS)\n",
    "\n",
    "fig, ax = plot.figax(scale='log')\n",
    "for crit in [0.1, 1.0, 10.0]:\n",
    "    test = holo.librarian.PD_Log_Lin(0.01, 100.0, crit, frac)\n",
    "    xx = test(np.random.uniform(0.0, 1.0, size=NUM))\n",
    "    kale.dist1d(xx, ax=ax, edges=edges, density=True, probability=False)\n",
    "    obs_frac = np.count_nonzero(xx < crit) / xx.size\n",
    "    print(f\"target:{frac:.2f}, result:{obs_frac:.4f}\", 1.0/np.sqrt(NUM))\n",
    "    assert np.isclose(frac, obs_frac, atol=2.0/np.sqrt(NUM))\n",
    "    \n",
    "plt.show()"
   ]
  }
 ],
 "metadata": {
  "kernelspec": {
   "display_name": "py310",
   "language": "python",
   "name": "python3"
  },
  "language_info": {
   "codemirror_mode": {
    "name": "ipython",
    "version": 3
   },
   "file_extension": ".py",
   "mimetype": "text/x-python",
   "name": "python",
   "nbconvert_exporter": "python",
   "pygments_lexer": "ipython3",
   "version": "3.10.10"
  },
  "vscode": {
   "interpreter": {
    "hash": "1f0c7602c82e39efa19a01e5e068584db7a6d17aff8711ab06660aac81377393"
   }
  }
 },
 "nbformat": 4,
 "nbformat_minor": 2
}
