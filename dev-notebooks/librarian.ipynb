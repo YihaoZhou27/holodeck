{
 "cells": [
  {
   "cell_type": "code",
   "execution_count": null,
   "metadata": {},
   "outputs": [],
   "source": [
    "# %load ../notebooks/init.ipy\n",
    "%reload_ext autoreload\n",
    "%autoreload 2\n",
    "\n",
    "# Builtin packages\n",
    "from datetime import datetime\n",
    "from importlib import reload\n",
    "import logging\n",
    "import os\n",
    "from pathlib import Path\n",
    "import sys\n",
    "import warnings\n",
    "\n",
    "# standard secondary packages\n",
    "import astropy as ap\n",
    "import h5py\n",
    "import matplotlib as mpl\n",
    "import matplotlib.pyplot as plt\n",
    "import numpy as np\n",
    "import scipy as sp\n",
    "import scipy.stats\n",
    "import tqdm.notebook as tqdm\n",
    "\n",
    "# development packages\n",
    "import kalepy as kale\n",
    "import kalepy.utils\n",
    "import kalepy.plot\n",
    "\n",
    "# --- Holodeck ----\n",
    "import holodeck as holo\n",
    "import holodeck.sam\n",
    "from holodeck import cosmo, utils, plot\n",
    "from holodeck.constants import MSOL, PC, YR, MPC, GYR, SPLC, NWTG\n",
    "import holodeck.gravwaves\n",
    "import holodeck.evolution\n",
    "import holodeck.population\n",
    "\n",
    "# Silence annoying numpy errors\n",
    "np.seterr(divide='ignore', invalid='ignore', over='ignore')\n",
    "warnings.filterwarnings(\"ignore\", category=UserWarning)\n",
    "\n",
    "# Plotting settings\n",
    "mpl.rc('font', **{'family': 'serif', 'sans-serif': ['Times'], 'size': 15})\n",
    "mpl.rc('lines', solid_capstyle='round')\n",
    "mpl.rc('mathtext', fontset='cm')\n",
    "mpl.style.use('default')   # avoid dark backgrounds from dark theme vscode\n",
    "plt.rcParams.update({'grid.alpha': 0.5})\n",
    "\n",
    "# Load log and set logging level\n",
    "log = holo.log\n",
    "log.setLevel(logging.INFO)"
   ]
  },
  {
   "cell_type": "code",
   "execution_count": null,
   "metadata": {},
   "outputs": [],
   "source": [
    "class PS_Test(holo.librarian._Param_Space):\n",
    "    \n",
    "    def __init__(self, log, nsamples, sam_shape, seed):\n",
    "        super().__init__(\n",
    "            log, nsamples, sam_shape, seed,\n",
    "            par1=holo.librarian.PD_Uniform(-1.0, 1.0),\n",
    "            par2=holo.librarian.PD_Uniform_Log(10.0, 1000.0),\n",
    "            par3=holo.librarian.PD_Normal(0.0, 4.0),\n",
    "        )\n",
    "        return\n",
    "    \n",
    "    def model_for_number(self, num):\n",
    "        # CONSTRUCT SAM and HARD models here\n",
    "        sam = None\n",
    "        hard = None\n",
    "        return sam, hard\n",
    "    \n",
    "nsamps = 1000\n",
    "test = PS_Test(log, nsamps, 50, 12345)\n",
    "\n",
    "for ii in np.random.choice(nsamps, 4, replace=False):\n",
    "    print(f\"\\ntest sample {ii:4d} :: {test.params(ii)}  \\n    {test.param_dict(ii)}\")\n",
    "\n",
    "fig, axes = plt.subplots(figsize=[10, 5], ncols=test.ndims)\n",
    "for ii, ax in enumerate(axes):\n",
    "    ax.grid(True, alpha=0.25)\n",
    "    kale.dist1d(test._params[:, ii], ax=ax, density=False)\n",
    "    \n",
    "plt.show()\n"
   ]
  },
  {
   "attachments": {},
   "cell_type": "markdown",
   "metadata": {},
   "source": [
    "# LinLog"
   ]
  },
  {
   "cell_type": "code",
   "execution_count": null,
   "metadata": {},
   "outputs": [],
   "source": [
    "test = holo.librarian.PD_Lin_Log(0.01, 100.0, 0.1, 0.5)\n",
    "xx = np.linspace(0.0, 1.0, 10000)\n",
    "yy = test(xx)\n",
    "print(utils.minmax(yy))\n",
    "plt.loglog(xx, yy)\n",
    "ax = plt.gca()\n",
    "ax.axhline(test._crit, color='r', ls=':')\n",
    "ax.axvline(test._lofrac, color='r', ls=':')\n",
    "plt.show()"
   ]
  },
  {
   "cell_type": "code",
   "execution_count": null,
   "metadata": {},
   "outputs": [],
   "source": [
    "NUM = int(1e4)\n",
    "crit = 0.1\n",
    "\n",
    "BINS = 20\n",
    "e1 = np.linspace(0.01, crit, BINS, endpoint=False)\n",
    "e2 = np.logspace(*np.log10([crit, 100.0]), BINS)\n",
    "edges = np.concatenate([e1, e2])\n",
    "\n",
    "fig, ax = plot.figax(scale='log')\n",
    "for frac in [0.2, 0.5, 0.8]:\n",
    "    test = PD_Lin_Log(0.01, 100.0, crit, frac)\n",
    "    xx = test(np.random.uniform(0.0, 1.0, size=NUM))\n",
    "    kale.dist1d(xx, ax=ax, edges=edges, density=True, probability=False)\n",
    "    obs_frac = np.count_nonzero(xx < crit) / xx.size\n",
    "    print(f\"target:{frac:.2f}, result:{obs_frac:.4f}\", 1.0/np.sqrt(NUM))\n",
    "    assert np.isclose(frac, obs_frac, atol=2.0/np.sqrt(NUM))\n",
    "    \n",
    "plt.show()"
   ]
  },
  {
   "cell_type": "code",
   "execution_count": null,
   "metadata": {},
   "outputs": [],
   "source": [
    "NUM = int(1e4)\n",
    "frac = 0.5\n",
    "\n",
    "BINS = 20\n",
    "# e1 = np.linspace(0.01, crit, BINS, endpoint=False)\n",
    "# e2 = np.logspace(*np.log10([crit, 100.0]), BINS)\n",
    "# edges = np.concatenate([e1, e2])\n",
    "edges = np.logspace(*np.log10([0.01, 100.0]), 2*BINS)\n",
    "\n",
    "fig, ax = plot.figax(scale='log')\n",
    "for crit in [0.1, 1.0, 10.0]:\n",
    "    test = PD_Lin_Log(0.01, 100.0, crit, frac)\n",
    "    xx = test(np.random.uniform(0.0, 1.0, size=NUM))\n",
    "    kale.dist1d(xx, ax=ax, edges=edges, density=True, probability=False)\n",
    "    obs_frac = np.count_nonzero(xx < crit) / xx.size\n",
    "    print(f\"target:{frac:.2f}, result:{obs_frac:.4f}\", 1.0/np.sqrt(NUM))\n",
    "    assert np.isclose(frac, obs_frac, atol=2.0/np.sqrt(NUM))\n",
    "    \n",
    "plt.show()"
   ]
  },
  {
   "attachments": {},
   "cell_type": "markdown",
   "metadata": {},
   "source": [
    "# LogLin"
   ]
  },
  {
   "cell_type": "code",
   "execution_count": null,
   "metadata": {},
   "outputs": [],
   "source": [
    "class PD_Log_Lin(holo.librarian._Param_Dist):\n",
    "\n",
    "    def __init__(self, lo, hi, crit, lofrac):\n",
    "        self._lo = lo\n",
    "        self._hi = hi\n",
    "        self._crit = crit\n",
    "        self._lofrac = lofrac\n",
    "        return\n",
    "\n",
    "    def _dist_func(self, xx):\n",
    "        lo = self._lo\n",
    "        hi = self._hi\n",
    "        crit = self._crit\n",
    "        lofrac = self._lofrac\n",
    "        xx = np.atleast_1d(xx)\n",
    "        yy = np.empty_like(xx)\n",
    "        loidx = (xx <= lofrac)\n",
    "\n",
    "        l10_lo = np.log10(lo)\n",
    "        l10_crit = np.log10(crit)\n",
    "\n",
    "        temp = l10_lo + (l10_crit - l10_lo) * xx[loidx] / lofrac\n",
    "        yy[loidx] = np.power(10.0, temp)\n",
    "\n",
    "        hiidx = ~loidx\n",
    "        yy[hiidx] = crit + (hi - crit) * (xx[hiidx] - crit) / (1.0 - crit)\n",
    "        return yy"
   ]
  },
  {
   "cell_type": "code",
   "execution_count": null,
   "metadata": {},
   "outputs": [],
   "source": [
    "test = PD_Log_Lin(0.01, 100.0, 0.1, 0.5)\n",
    "xx = np.linspace(0.0, 1.0, 10000)\n",
    "yy = test(xx)\n",
    "print(utils.minmax(yy))\n",
    "plt.loglog(xx, yy)\n",
    "ax = plt.gca()\n",
    "ax.axhline(test._crit, color='r', ls=':')\n",
    "ax.axvline(test._lofrac, color='r', ls=':')\n",
    "plt.show()"
   ]
  }
 ],
 "metadata": {
  "kernelspec": {
   "display_name": "py310",
   "language": "python",
   "name": "python3"
  },
  "language_info": {
   "codemirror_mode": {
    "name": "ipython",
    "version": 3
   },
   "file_extension": ".py",
   "mimetype": "text/x-python",
   "name": "python",
   "nbconvert_exporter": "python",
   "pygments_lexer": "ipython3",
   "version": "3.10.8"
  },
  "vscode": {
   "interpreter": {
    "hash": "1f0c7602c82e39efa19a01e5e068584db7a6d17aff8711ab06660aac81377393"
   }
  }
 },
 "nbformat": 4,
 "nbformat_minor": 2
}
