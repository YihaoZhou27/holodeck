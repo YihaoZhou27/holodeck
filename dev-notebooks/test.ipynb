{
 "cells": [
  {
   "cell_type": "code",
   "execution_count": null,
   "metadata": {},
   "outputs": [],
   "source": [
    "# %load ../notebooks/init.ipy\n",
    "%reload_ext autoreload\n",
    "%autoreload 2\n",
    "\n",
    "# Builtin packages\n",
    "from importlib import reload\n",
    "import logging\n",
    "import os\n",
    "from pathlib import Path\n",
    "import sys\n",
    "import warnings\n",
    "\n",
    "# standard secondary packages\n",
    "import astropy as ap\n",
    "import h5py\n",
    "import matplotlib as mpl\n",
    "import matplotlib.pyplot as plt\n",
    "import numpy as np\n",
    "import scipy as sp\n",
    "import scipy.stats\n",
    "import tqdm.notebook as tqdm\n",
    "\n",
    "# development packages\n",
    "import kalepy as kale\n",
    "import kalepy.utils\n",
    "import kalepy.plot\n",
    "\n",
    "# --- Holodeck ----\n",
    "import holodeck as holo\n",
    "import holodeck.sam\n",
    "from holodeck import cosmo, utils, plot\n",
    "from holodeck.constants import MSOL, PC, YR, MPC, GYR\n",
    "import holodeck.gravwaves\n",
    "import holodeck.evolution\n",
    "import holodeck.population\n",
    "\n",
    "# Silence annoying numpy errors\n",
    "np.seterr(divide='ignore', invalid='ignore', over='ignore')\n",
    "warnings.filterwarnings(\"ignore\", category=UserWarning)\n",
    "\n",
    "# Plotting settings\n",
    "mpl.rc('font', **{'family': 'serif', 'sans-serif': ['Times'], 'size': 15})\n",
    "mpl.rc('lines', solid_capstyle='round')\n",
    "mpl.rc('mathtext', fontset='cm')\n",
    "mpl.style.use('default')   # avoid dark backgrounds from dark theme vscode\n",
    "plt.rcParams.update({'grid.alpha': 0.5})\n",
    "\n",
    "# Load log and set logging level\n",
    "log = holo.log\n",
    "log.setLevel(logging.INFO)"
   ]
  },
  {
   "cell_type": "code",
   "execution_count": null,
   "metadata": {},
   "outputs": [],
   "source": [
    "DUR = 2.0 * YR\n",
    "FMIN = 1 / DUR\n",
    "DF = FMIN / 2.0\n",
    "fobs = FMIN\n",
    "fobs_edges = FMIN + np.array([-DF, +DF])\n",
    "print(fobs_edges*YR, \"1/yr\")"
   ]
  },
  {
   "cell_type": "code",
   "execution_count": null,
   "metadata": {},
   "outputs": [],
   "source": [
    "NREALS = 30\n",
    "hard = holo.evolution.Hard_GW()\n",
    "sam = holo.sam.Semi_Analytic_Model()"
   ]
  },
  {
   "cell_type": "code",
   "execution_count": null,
   "metadata": {},
   "outputs": [],
   "source": [
    "fobs_orb_edges = fobs_edges / 2.0\n",
    "edges, dnum = sam.dynamic_binary_number(hard, fobs=fobs_orb_edges)\n",
    "number_0 = holo.utils._integrate_grid_differential_number(edges, dnum, freq=True)\n",
    "number_1 = holo.utils._integrate_grid_differential_number(edges, dnum, freq=False)\n",
    "number_1 = holo.utils.trapz(number_1/edges[3], edges[3], axis=3, cumsum=False)\n",
    "\n",
    "ratio = np.nan_to_num(number_1/number_0)\n",
    "print(kale.utils.stats_str(ratio))"
   ]
  },
  {
   "cell_type": "code",
   "execution_count": null,
   "metadata": {},
   "outputs": [],
   "source": [
    "cents = [kale.utils.midpoints(ee, log=False) for ee in edges]\n",
    "cgrid = np.meshgrid(*cents, indexing='ij')\n",
    "egrid = np.meshgrid(*edges, indexing='ij')"
   ]
  },
  {
   "cell_type": "code",
   "execution_count": null,
   "metadata": {},
   "outputs": [],
   "source": [
    "def hs_from_grid(grid):\n",
    "    mc = utils.chirp_mass(*utils.m1m2_from_mtmr(grid[0], grid[1]))\n",
    "    dc = cosmo.comoving_distance(grid[2]).cgs.value\n",
    "    # These should be *orbital*-frequencies\n",
    "    fr = utils.frst_from_fobs(grid[3], grid[2])\n",
    "    hs = utils.gw_strain_source(mc, dc, fr)\n",
    "    return hs\n",
    "\n",
    "hs_cents = hs_from_grid(cgrid)\n",
    "hs_edges = hs_from_grid(egrid)\n",
    "hs_edge_cents = kale.utils.midpoints(hs_edges, axis=None)\n",
    "\n",
    "ratio = hs_cents/hs_edge_cents\n",
    "print(kale.utils.stats_str(ratio))"
   ]
  },
  {
   "cell_type": "code",
   "execution_count": null,
   "metadata": {},
   "outputs": [],
   "source": [
    "hs_weight = dnum * (hs_edges ** 2)\n",
    "print(utils.stats(hs_weight))\n",
    "hs_weight = np.sqrt(utils._integrate_grid_differential_number(edges, hs_weight, freq=True) / number_0)\n",
    "hs_weight = np.nan_to_num(hs_weight)\n",
    "ratio = hs_weight / hs_edge_cents\n",
    "print(kale.utils.stats_str(ratio))"
   ]
  },
  {
   "cell_type": "code",
   "execution_count": null,
   "metadata": {},
   "outputs": [],
   "source": []
  },
  {
   "cell_type": "code",
   "execution_count": null,
   "metadata": {},
   "outputs": [],
   "source": [
    "# gwb_ref = sam.gwb(fobs_edges, realize=NREALS, hard=hard)\n",
    "gwb_test = sam.gwb(fobs_edges, realize=NREALS, hard=hard)"
   ]
  },
  {
   "cell_type": "code",
   "execution_count": null,
   "metadata": {},
   "outputs": [],
   "source": [
    "gwb_test.shape"
   ]
  },
  {
   "cell_type": "code",
   "execution_count": null,
   "metadata": {},
   "outputs": [],
   "source": [
    "gff = np.zeros(NREALS)\n",
    "gwf = np.zeros(NREALS)\n",
    "gwb = np.zeros(NREALS)\n",
    "\n",
    "for ii in range(NREALS):\n",
    "    vals, weights, edges, dens, mass = holo.sam.sample_sam_with_hardening(sam, hard, fobs=fobs_edges, sample_threshold=1e2, poisson_inside=True, poisson_outside=True)\n",
    "    gff[ii], gwf[ii], gwb[ii] = holo.gravwaves._gws_from_samples(vals, weights, 2*fobs_edges)"
   ]
  },
  {
   "cell_type": "code",
   "execution_count": null,
   "metadata": {},
   "outputs": [],
   "source": [
    "tot = np.sqrt(gwb**2 + gwf**2)\n",
    "aves = []\n",
    "meds = []\n",
    "for val in [gwb_ref, tot]:\n",
    "    sel = np.percentile(val, [25, 75])\n",
    "    sel = (sel[0] < val) & (val < sel[1])\n",
    "    ave = np.mean(val[sel])\n",
    "    med = np.median(val[sel])\n",
    "    std = np.std(val[sel])\n",
    "    aves.append(ave)\n",
    "    meds.append(med)\n",
    "\n",
    "for vals in [aves, meds]:\n",
    "    diff = (vals[1] - vals[0]) / vals[0]\n",
    "    print(f\"{diff:.4f}\")"
   ]
  },
  {
   "cell_type": "code",
   "execution_count": null,
   "metadata": {},
   "outputs": [],
   "source": [
    "kw = dict(density=True, hist=True, carpet=True, confidence=True, quantiles=[0.5])\n",
    "kale.dist1d(gwb_ref, **kw)\n",
    "kale.dist1d(gwb_test, color='r', **kw)\n",
    "kale.dist1d(np.sqrt(gwf**2 + gwb**2), color='k', **kw)"
   ]
  }
 ],
 "metadata": {
  "kernelspec": {
   "display_name": "Python 3.9.13 ('py39')",
   "language": "python",
   "name": "python3"
  },
  "language_info": {
   "codemirror_mode": {
    "name": "ipython",
    "version": 3
   },
   "file_extension": ".py",
   "mimetype": "text/x-python",
   "name": "python",
   "nbconvert_exporter": "python",
   "pygments_lexer": "ipython3",
   "version": "3.9.13"
  },
  "vscode": {
   "interpreter": {
    "hash": "61b4062b24dfb1010f420dad5aa3bd73a4d2af47d0ec44eafec465a35a9d7239"
   }
  }
 },
 "nbformat": 4,
 "nbformat_minor": 2
}
