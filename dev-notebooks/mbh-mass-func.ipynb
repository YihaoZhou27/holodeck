{
 "cells": [
  {
   "cell_type": "code",
   "execution_count": null,
   "metadata": {},
   "outputs": [],
   "source": [
    "%load_ext autoreload\n",
    "%autoreload 2\n",
    "%config InlineBackend.figure_format = 'retina'\n",
    "\n",
    "import numpy as np\n",
    "import scipy as sp\n",
    "import matplotlib.pyplot as plt\n",
    "\n",
    "import holodeck as holo\n",
    "from holodeck.constants import MSOL"
   ]
  },
  {
   "cell_type": "code",
   "execution_count": null,
   "metadata": {},
   "outputs": [],
   "source": [
    "# Load a parameter space instance to get default parameters (the input values here don't matter at all)\n",
    "pspace = holo.param_spaces.PS_Uniform_09B(holo.log, 10, 10, None)\n",
    "# print(pspace.DEFAULTS)"
   ]
  },
  {
   "cell_type": "code",
   "execution_count": null,
   "metadata": {},
   "outputs": [],
   "source": [
    "# Set our parameters that would vary across the parameter space / library\n",
    "REDZ = 1.0\n",
    "gsmf_phi0 = -2.5\n",
    "gsmf_mchar0_log10 = 11.25\n",
    "mmb_mamp_log10 = 9.0\n",
    "mmb_scatter_dex = 0.4\n",
    "\n",
    "gsmf = holo.sam.GSMF_Schechter(\n",
    "    phi0=gsmf_phi0,\n",
    "    phiz=pspace.DEFAULTS['gsmf_phiz'],\n",
    "    mchar0_log10=gsmf_mchar0_log10,\n",
    "    mcharz=pspace.DEFAULTS['gsmf_mcharz'],\n",
    "    alpha0=pspace.DEFAULTS['gsmf_alpha0'],\n",
    "    alphaz=pspace.DEFAULTS['gsmf_alphaz'],\n",
    ")\n",
    "\n",
    "mmbulge = holo.relations.MMBulge_KH2013(\n",
    "    mamp_log10=mmb_mamp_log10,\n",
    "    mplaw=pspace.DEFAULTS['mmb_plaw'],\n",
    "    scatter_dex=mmb_scatter_dex,\n",
    ")\n",
    "\n",
    "# Construct a SAM just to get the mtot spacing, but this could also be constructed manually\n",
    "_sam = holo.sam.Semi_Analytic_Model()\n",
    "mtot = _sam.mtot\n"
   ]
  },
  {
   "cell_type": "code",
   "execution_count": null,
   "metadata": {},
   "outputs": [],
   "source": [
    "# ---- Manually calculate the MBH mass function\n",
    "\n",
    "# Convert from MBH masses to galaxy stellar masses\n",
    "mstar = mmbulge.mstar_from_mbh(mtot, scatter=False)\n",
    "# This is `dn_gal / dlog10(M_gal)`\n",
    "ndens_gal = gsmf(mstar, REDZ)    # units of  [1/Mpc^3]\n",
    "\n",
    "# Get the jacobian to convert differential elements  dM_gal / dM_bh\n",
    "jac = mmbulge.dmstar_dmbh(mstar)   # [unitless]\n",
    "# convert to dlog10(M_gal)/dlog10(M_star)\n",
    "jac *= (mtot / mstar)\n",
    "# convert density from stellar to MBH:   dn_bh / dlog10(M_bh)\n",
    "ndens = ndens_gal * jac\n",
    "\n",
    "\n",
    "# ---- Use the function included within the GSMF to calculate the MBH mass function\n",
    "\n",
    "test_uniform = gsmf.mbh_mass_func(mtot, REDZ, mmbulge, scatter=False)\n",
    "test_scatter = holo.utils.scatter_redistribute_densities(mtot, test_uniform, scatter=mmbulge._scatter_dex)\n",
    "\n",
    "\n",
    "# ---- Plot\n",
    "\n",
    "plt.loglog(mstar/MSOL, ndens_gal, label='GSMF')\n",
    "plt.loglog(mtot/MSOL, ndens, alpha=0.75, label='Manual MBH mass func')\n",
    "plt.loglog(mtot/MSOL, test_uniform, ls='--', lw=2.0, alpha=0.75, label='Built-in MBH mass func')\n",
    "plt.loglog(mtot/MSOL, test_scatter, ls='-', lw=2.0, alpha=0.75, label='with scatter')\n",
    "\n",
    "ax = plt.gca()\n",
    "ax.set(ylim=[1e-8, 1e1])\n",
    "ax.legend()\n",
    "plt.show()"
   ]
  },
  {
   "cell_type": "code",
   "execution_count": null,
   "metadata": {},
   "outputs": [],
   "source": []
  }
 ],
 "metadata": {
  "kernelspec": {
   "display_name": "py310",
   "language": "python",
   "name": "python3"
  },
  "language_info": {
   "codemirror_mode": {
    "name": "ipython",
    "version": 3
   },
   "file_extension": ".py",
   "mimetype": "text/x-python",
   "name": "python",
   "nbconvert_exporter": "python",
   "pygments_lexer": "ipython3",
   "version": "3.10.11"
  }
 },
 "nbformat": 4,
 "nbformat_minor": 2
}
