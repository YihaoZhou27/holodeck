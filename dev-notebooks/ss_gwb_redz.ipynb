{
 "cells": [
  {
   "cell_type": "code",
   "execution_count": null,
   "metadata": {},
   "outputs": [],
   "source": [
    "# %load ../init.ipy\n",
    "%reload_ext autoreload\n",
    "%autoreload 2\n",
    "from importlib import reload\n",
    "\n",
    "import numpy as np\n",
    "import holodeck as holo\n",
    "import holodeck.single_sources as ss\n",
    "import holodeck.cyutils as cy\n",
    "import matplotlib.pyplot as plt\n",
    "import kalepy as kale\n",
    "\n",
    "\n",
    "import matplotlib.cm as cm\n",
    "from holodeck import plot, utils\n",
    "from holodeck.constants import YR, MSOL, GYR"
   ]
  },
  {
   "attachments": {},
   "cell_type": "markdown",
   "metadata": {},
   "source": [
    "# Build Semi-Analytic Model"
   ]
  },
  {
   "cell_type": "code",
   "execution_count": null,
   "metadata": {},
   "outputs": [],
   "source": [
    "dur, cad = 17.5*YR, 0.2*YR\n",
    "fobs = utils.nyquist_freqs(dur,cad)\n",
    "fobs_edges = utils.nyquist_freqs_edges(dur,cad)\n",
    "sam = holo.sam.Semi_Analytic_Model()\n",
    "# sam = holo.sam.Semi_Analytic_Model(mtot=(1.0e4*MSOL, 1.0e11*MSOL, 20), mrat=(1e-3, 1.0, 20), redz=(1e-3, 10.0, 20))  # faster version"
   ]
  },
  {
   "attachments": {},
   "cell_type": "markdown",
   "metadata": {},
   "source": [
    "## Test GWB calculation with default Hard_GW"
   ]
  },
  {
   "cell_type": "code",
   "execution_count": null,
   "metadata": {},
   "outputs": [],
   "source": [
    "# just using gwb() function\n",
    "gwb = sam.gwb_old(fobs_edges, hard=holo.hardening.Hard_GW, realize=10)\n",
    "fig = plot.plot_gwb(fobs, gwb)"
   ]
  },
  {
   "attachments": {},
   "cell_type": "markdown",
   "metadata": {},
   "source": [
    "## Test GWB calculation with Fixed_Time model"
   ]
  },
  {
   "cell_type": "code",
   "execution_count": null,
   "metadata": {},
   "outputs": [],
   "source": [
    "# just using gwb() function\n",
    "\n",
    "gwb = sam.new_gwb(fobs_edges, hard=holo.hardening.Fixed_Time_2PL_SAM(sam, 3*GYR), realize=10)\n",
    "fig = plot.plot_gwb(fobs, gwb)"
   ]
  },
  {
   "attachments": {},
   "cell_type": "markdown",
   "metadata": {},
   "source": [
    "# Calculate SS and GWB strain with sam.gwb()\n",
    "This function calls single_sources.ss_gws_redz()\n",
    "## using Hard_GW\n",
    "### with params"
   ]
  },
  {
   "cell_type": "code",
   "execution_count": null,
   "metadata": {},
   "outputs": [],
   "source": [
    "hard=holo.hardening.Hard_GW()\n",
    "assert isinstance(hard, (holo.hardening.Fixed_Time_2PL_SAM, holo.hardening.Hard_GW))"
   ]
  },
  {
   "cell_type": "code",
   "execution_count": null,
   "metadata": {},
   "outputs": [],
   "source": [
    "hc_ss, hc_bg, sspar, bgpar = sam.gwb(fobs_edges, hard=holo.hardening.Hard_GW(), realize = 10, loudest = 5, params = True)"
   ]
  },
  {
   "cell_type": "code",
   "execution_count": null,
   "metadata": {},
   "outputs": [],
   "source": [
    "fig = plot.plot_bg_ss(fobs, hc_bg, hc_ss)"
   ]
  },
  {
   "cell_type": "code",
   "execution_count": null,
   "metadata": {},
   "outputs": [],
   "source": [
    "fig = plot.plot_pars(fobs, sspar, bgpar)"
   ]
  },
  {
   "attachments": {},
   "cell_type": "markdown",
   "metadata": {},
   "source": [
    "### without params"
   ]
  },
  {
   "cell_type": "code",
   "execution_count": null,
   "metadata": {},
   "outputs": [],
   "source": [
    "hc_ss, hc_bg = sam.gwb(fobs_edges, hard=holo.hardening.Hard_GW(), realize=30, loudest=100, params=False)\n",
    "fig = plot.plot_bg_ss(fobs, hc_bg, hc_ss)"
   ]
  },
  {
   "attachments": {},
   "cell_type": "markdown",
   "metadata": {},
   "source": [
    "## using Fixed_Time\n",
    "### with params"
   ]
  },
  {
   "cell_type": "code",
   "execution_count": null,
   "metadata": {},
   "outputs": [],
   "source": [
    "hard = holo.hardening.Fixed_Time_2PL_SAM(sam, 3*GYR)\n",
    "hc_ss, hc_bg, sspar, bgpar = sam.gwb(fobs_edges, hard=hard, realize = 10, loudest = 5, params = True)\n",
    "fig = plot.plot_bg_ss(fobs, hc_bg, hc_ss)\n",
    "fig = plot.plot_pars(fobs, sspar, bgpar )"
   ]
  },
  {
   "attachments": {},
   "cell_type": "markdown",
   "metadata": {},
   "source": [
    "### without params"
   ]
  },
  {
   "cell_type": "code",
   "execution_count": null,
   "metadata": {},
   "outputs": [],
   "source": [
    "hc_ss, hc_bg = sam.gwb(fobs_edges, hard=hard, realize = 10, loudest = 5, params = False)\n",
    "fig = plot.plot_bg_ss(fobs, hc_bg, hc_ss)"
   ]
  },
  {
   "cell_type": "code",
   "execution_count": null,
   "metadata": {},
   "outputs": [],
   "source": []
  }
 ],
 "metadata": {
  "kernelspec": {
   "display_name": "holo310",
   "language": "python",
   "name": "python3"
  },
  "language_info": {
   "codemirror_mode": {
    "name": "ipython",
    "version": 3
   },
   "file_extension": ".py",
   "mimetype": "text/x-python",
   "name": "python",
   "nbconvert_exporter": "python",
   "pygments_lexer": "ipython3",
   "version": "3.10.10"
  },
  "vscode": {
   "interpreter": {
    "hash": "b691867a38f678e88325b7be712686862775b0bc37454cc33917ba725d804d99"
   }
  }
 },
 "nbformat": 4,
 "nbformat_minor": 2
}
