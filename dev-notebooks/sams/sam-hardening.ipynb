{
 "cells": [
  {
   "cell_type": "code",
   "execution_count": null,
   "metadata": {},
   "outputs": [],
   "source": [
    "# %load ../../notebooks/init.ipy\n",
    "%reload_ext autoreload\n",
    "%autoreload 2\n",
    "\n",
    "# Builtin packages\n",
    "from datetime import datetime\n",
    "from importlib import reload\n",
    "import logging\n",
    "import os\n",
    "from pathlib import Path\n",
    "import sys\n",
    "import warnings\n",
    "\n",
    "# standard secondary packages\n",
    "import astropy as ap\n",
    "import h5py\n",
    "import matplotlib as mpl\n",
    "import matplotlib.pyplot as plt\n",
    "import numpy as np\n",
    "import scipy as sp\n",
    "import scipy.stats\n",
    "import tqdm.notebook as tqdm\n",
    "\n",
    "# development packages\n",
    "import kalepy as kale\n",
    "import kalepy.utils\n",
    "import kalepy.plot\n",
    "\n",
    "# --- Holodeck ----\n",
    "import holodeck as holo\n",
    "import holodeck.sam\n",
    "from holodeck import cosmo, utils, plot\n",
    "from holodeck.constants import MSOL, PC, YR, MPC, GYR, SPLC, NWTG\n",
    "import holodeck.gravwaves\n",
    "import holodeck.evolution\n",
    "import holodeck.population\n",
    "\n",
    "# Silence annoying numpy errors\n",
    "np.seterr(divide='ignore', invalid='ignore', over='ignore')\n",
    "warnings.filterwarnings(\"ignore\", category=UserWarning)\n",
    "\n",
    "# Plotting settings\n",
    "mpl.rc('font', **{'family': 'serif', 'sans-serif': ['Times'], 'size': 15})\n",
    "mpl.rc('lines', solid_capstyle='round')\n",
    "mpl.rc('mathtext', fontset='cm')\n",
    "mpl.style.use('default')   # avoid dark backgrounds from dark theme vscode\n",
    "plt.rcParams.update({'grid.alpha': 0.5})\n",
    "\n",
    "# Load log and set logging level\n",
    "log = holo.log\n",
    "log.setLevel(logging.INFO)"
   ]
  },
  {
   "cell_type": "code",
   "execution_count": null,
   "metadata": {},
   "outputs": [],
   "source": [
    "import zcode.math as zmath\n",
    "import zcode.plot as zplot"
   ]
  },
  {
   "cell_type": "code",
   "execution_count": null,
   "metadata": {},
   "outputs": [],
   "source": [
    "log.setLevel(log.DEBUG)"
   ]
  },
  {
   "cell_type": "code",
   "execution_count": null,
   "metadata": {},
   "outputs": [],
   "source": [
    "log.level, log.DEBUG, log.INFO"
   ]
  },
  {
   "cell_type": "code",
   "execution_count": null,
   "metadata": {},
   "outputs": [],
   "source": [
    "SHAPE = 20\n",
    "TIME = 1.0 * GYR\n",
    "\n",
    "sam = holo.sam.Semi_Analytic_Model(shape=SHAPE)\n",
    "hard = holo.hardening.Fixed_Time.from_sam(sam, TIME, interpolate_norm=True)"
   ]
  },
  {
   "cell_type": "code",
   "execution_count": null,
   "metadata": {},
   "outputs": [],
   "source": [
    "STEPS = 500\n",
    "\n",
    "# () start from the hardening model's initial separation\n",
    "rmax = hard._sepa_init\n",
    "# (M,) end at the ISCO\n",
    "rmin = utils.rad_isco(sam.mtot)\n",
    "# rmin = hard._TIME_TOTAL_RMIN * np.ones_like(sam.mtot)\n",
    "# Choose steps for each binary, log-spaced between rmin and rmax\n",
    "extr = np.log10([rmax * np.ones_like(rmin), rmin])\n",
    "rads = np.linspace(0.0, 1.0, STEPS)[np.newaxis, :]\n",
    "# (M, X)\n",
    "rads = extr[0][:, np.newaxis] + (extr[1] - extr[0])[:, np.newaxis] * rads\n",
    "rads = 10.0 ** rads\n",
    "# (M, Q, Z, X)\n",
    "mt, mr, rz, rads = np.broadcast_arrays(\n",
    "    sam.mtot[:, np.newaxis, np.newaxis, np.newaxis],\n",
    "    sam.mrat[np.newaxis, :, np.newaxis, np.newaxis],\n",
    "    sam.redz[np.newaxis, np.newaxis, :, np.newaxis],\n",
    "    rads[:, np.newaxis, np.newaxis, :]\n",
    ")\n",
    "# (X, M*Q*Z)\n",
    "mt, mr, rz, rads = [mm.reshape(-1, STEPS).T for mm in [mt, mr, rz, rads]]\n",
    "# (X, M*Q*Z) --- `Fixed_Time.dadt` will only accept this shape\n",
    "dadt = hard.dadt(mt, mr, rads)\n",
    "# Integrate (inverse) hardening rates to calculate total lifetime to each separation\n",
    "times_evo = -utils.trapz_loglog(-1.0 / dadt, rads, axis=0, cumsum=True)\n"
   ]
  },
  {
   "cell_type": "code",
   "execution_count": null,
   "metadata": {},
   "outputs": [],
   "source": [
    "tt = times_evo[-1, :]/GYR\n",
    "fig, ax = plot.figax(scale='lin')\n",
    "print(utils.stats(tt))\n",
    "kale.dist1d(tt, density=True)\n",
    "plt.show()"
   ]
  },
  {
   "cell_type": "code",
   "execution_count": null,
   "metadata": {},
   "outputs": [],
   "source": [
    "bads = (tt > 1.8)\n",
    "print(tt[bads])\n",
    "print(utils.frac_str(bads))\n",
    "bads = np.where(bads)[0]\n",
    "print(bads)\n",
    "print()\n",
    "print(mt[0][bads]/MSOL)\n",
    "print(mr[0][bads])\n",
    "print(rz[0][bads])"
   ]
  },
  {
   "cell_type": "code",
   "execution_count": null,
   "metadata": {},
   "outputs": [],
   "source": [
    "rads.shape"
   ]
  },
  {
   "cell_type": "code",
   "execution_count": null,
   "metadata": {},
   "outputs": [],
   "source": [
    "fig, ax = plot.figax()\n",
    "tw = ax.twinx()\n",
    "tw.set(yscale='log')\n",
    "# for bb in bads:\n",
    "# for bb in np.random.choice(rads.shape[1], 10, replace=False):\n",
    "for bb in [98]:\n",
    "    print(bb)\n",
    "    xx = rads[:, bb]/PC\n",
    "    ax.plot(xx[1:], times_evo[:, bb]/GYR, label=bb, alpha=0.5)\n",
    "    tau = - rads[:, bb]/dadt[:, bb]\n",
    "    tw.plot(xx, tau/YR, label=bb, ls='--', alpha=0.5)\n",
    "\n",
    "ax.legend()    \n",
    "plt.show()"
   ]
  }
 ],
 "metadata": {
  "kernelspec": {
   "display_name": "py310",
   "language": "python",
   "name": "python3"
  },
  "language_info": {
   "codemirror_mode": {
    "name": "ipython",
    "version": 3
   },
   "file_extension": ".py",
   "mimetype": "text/x-python",
   "name": "python",
   "nbconvert_exporter": "python",
   "pygments_lexer": "ipython3",
   "version": "3.10.8"
  },
  "vscode": {
   "interpreter": {
    "hash": "1f0c7602c82e39efa19a01e5e068584db7a6d17aff8711ab06660aac81377393"
   }
  }
 },
 "nbformat": 4,
 "nbformat_minor": 2
}
