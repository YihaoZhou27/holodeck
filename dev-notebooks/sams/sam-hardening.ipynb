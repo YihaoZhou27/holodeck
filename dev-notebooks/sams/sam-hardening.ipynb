{
 "cells": [
  {
   "cell_type": "code",
   "execution_count": null,
   "metadata": {},
   "outputs": [],
   "source": [
    "# %load ../../notebooks/init.ipy\n",
    "%reload_ext autoreload\n",
    "%autoreload 2\n",
    "\n",
    "# Builtin packages\n",
    "from datetime import datetime\n",
    "from importlib import reload\n",
    "import logging\n",
    "import os\n",
    "from pathlib import Path\n",
    "import sys\n",
    "import warnings\n",
    "\n",
    "# standard secondary packages\n",
    "import astropy as ap\n",
    "import h5py\n",
    "import matplotlib as mpl\n",
    "import matplotlib.pyplot as plt\n",
    "import numpy as np\n",
    "import scipy as sp\n",
    "import scipy.stats\n",
    "import tqdm.notebook as tqdm\n",
    "\n",
    "# development packages\n",
    "import kalepy as kale\n",
    "import kalepy.utils\n",
    "import kalepy.plot\n",
    "\n",
    "# --- Holodeck ----\n",
    "import holodeck as holo\n",
    "import holodeck.sam\n",
    "from holodeck import cosmo, utils, plot\n",
    "from holodeck.constants import MSOL, PC, YR, MPC, GYR, SPLC, NWTG\n",
    "import holodeck.gravwaves\n",
    "import holodeck.evolution\n",
    "import holodeck.population\n",
    "\n",
    "# Silence annoying numpy errors\n",
    "np.seterr(divide='ignore', invalid='ignore', over='ignore')\n",
    "warnings.filterwarnings(\"ignore\", category=UserWarning)\n",
    "\n",
    "# Plotting settings\n",
    "mpl.rc('font', **{'family': 'serif', 'sans-serif': ['Times'], 'size': 15})\n",
    "mpl.rc('lines', solid_capstyle='round')\n",
    "mpl.rc('mathtext', fontset='cm')\n",
    "mpl.style.use('default')   # avoid dark backgrounds from dark theme vscode\n",
    "plt.rcParams.update({'grid.alpha': 0.5})\n",
    "\n",
    "# Load log and set logging level\n",
    "log = holo.log\n",
    "# log.setLevel(logging.INFO)\n",
    "log.setLevel(logging.DEBUG)"
   ]
  },
  {
   "cell_type": "code",
   "execution_count": null,
   "metadata": {},
   "outputs": [],
   "source": [
    "import zcode.math as zmath\n",
    "import zcode.plot as zplot"
   ]
  },
  {
   "cell_type": "code",
   "execution_count": null,
   "metadata": {},
   "outputs": [],
   "source": [
    "log.setLevel(log.DEBUG)"
   ]
  },
  {
   "cell_type": "code",
   "execution_count": null,
   "metadata": {},
   "outputs": [],
   "source": [
    "log.level, log.DEBUG, log.INFO"
   ]
  },
  {
   "cell_type": "code",
   "execution_count": null,
   "metadata": {},
   "outputs": [],
   "source": [
    "hard_time = -1.7201236742815582\n",
    "hard_gamma_inner = -0.03556985639992871\n",
    "gsmf_phi0 = -3.0564167047947643\n",
    "gsmf_mchar0 = 12.235955681919318\n",
    "gsmf_alpha0 = -0.9876847863104197\n",
    "gpf_zbeta = 0.49637865297766504\n",
    "gpf_qgamma = -1.3153408817208816\n",
    "gmt_norm = 5.65479556730525\n",
    "gmt_zbeta = 0.5038273206522703\n",
    "mmb_amp = 8.265821569516374\n",
    "mmb_plaw = 0.25942737980048103\n",
    "mmb_scatter = 0.20729445938337865\n",
    "\n",
    "hard_time = (10.0 ** hard_time) * GYR\n",
    "gmt_norm = gmt_norm * GYR\n",
    "mmb_amp = (10.0 ** mmb_amp) * MSOL\n",
    "\n",
    "gsmf = holo.sam.GSMF_Schechter(phi0=gsmf_phi0, mchar0_log10=gsmf_mchar0, alpha0=gsmf_alpha0)\n",
    "gpf = holo.sam.GPF_Power_Law(qgamma=gpf_qgamma, zbeta=gpf_zbeta)\n",
    "gmt = holo.sam.GMT_Power_Law(time_norm=gmt_norm, zbeta=gmt_zbeta)\n",
    "mmbulge = holo.relations.MMBulge_KH2013(mamp=mmb_amp, mplaw=mmb_plaw, scatter_dex=mmb_scatter)\n",
    "\n",
    "sam = holo.sam.Semi_Analytic_Model(\n",
    "    gsmf=gsmf, gpf=gpf, gmt=gmt, mmbulge=mmbulge,\n",
    "    shape=20\n",
    ")\n",
    "hard = holo.hardening.Fixed_Time.from_sam(\n",
    "    sam, hard_time, gamma_sc=hard_gamma_inner,\n",
    "    progress=False\n",
    ")\n",
    "pta_dur = 16.03 * YR\n",
    "nfreqs = 40\n",
    "hifr = nfreqs/pta_dur\n",
    "pta_cad = 1.0 / (2 * hifr)\n",
    "fobs_cents = holo.utils.nyquist_freqs(pta_dur, pta_cad)\n",
    "fobs_edges = holo.utils.nyquist_freqs_edges(pta_dur, pta_cad)\n",
    "gwb = sam.gwb(fobs_edges, realize=10, hard=hard)\n",
    "\n"
   ]
  },
  {
   "cell_type": "code",
   "execution_count": null,
   "metadata": {},
   "outputs": [],
   "source": [
    "SHAPE = None\n",
    "TIME = 1.0 * GYR\n",
    "\n",
    "sam = holo.sam.Semi_Analytic_Model(shape=SHAPE)\n",
    "hard = holo.hardening.Fixed_Time.from_sam(sam, TIME, interpolate_norm=False)"
   ]
  },
  {
   "cell_type": "code",
   "execution_count": null,
   "metadata": {},
   "outputs": [],
   "source": [
    "STEPS = 500\n",
    "\n",
    "# () start from the hardening model's initial separation\n",
    "rmax = hard._sepa_init\n",
    "# (M,) end at the ISCO\n",
    "rmin = utils.rad_isco(sam.mtot)\n",
    "# rmin = hard._TIME_TOTAL_RMIN * np.ones_like(sam.mtot)\n",
    "# Choose steps for each binary, log-spaced between rmin and rmax\n",
    "extr = np.log10([rmax * np.ones_like(rmin), rmin])\n",
    "rads = np.linspace(0.0, 1.0, STEPS)[np.newaxis, :]\n",
    "# (M, X)\n",
    "rads = extr[0][:, np.newaxis] + (extr[1] - extr[0])[:, np.newaxis] * rads\n",
    "rads = 10.0 ** rads\n",
    "# (M, Q, Z, X)\n",
    "mt, mr, rz, rads = np.broadcast_arrays(\n",
    "    sam.mtot[:, np.newaxis, np.newaxis, np.newaxis],\n",
    "    sam.mrat[np.newaxis, :, np.newaxis, np.newaxis],\n",
    "    sam.redz[np.newaxis, np.newaxis, :, np.newaxis],\n",
    "    rads[:, np.newaxis, np.newaxis, :]\n",
    ")\n",
    "# (X, M*Q*Z)\n",
    "mt, mr, rz, rads = [mm.reshape(-1, STEPS).T for mm in [mt, mr, rz, rads]]\n",
    "# (X, M*Q*Z) --- `Fixed_Time.dadt` will only accept this shape\n",
    "dadt = hard.dadt(mt, mr, rads)\n",
    "# Integrate (inverse) hardening rates to calculate total lifetime to each separation\n",
    "times_evo = -utils.trapz_loglog(-1.0 / dadt, rads, axis=0, cumsum=True)\n"
   ]
  },
  {
   "cell_type": "code",
   "execution_count": null,
   "metadata": {},
   "outputs": [],
   "source": [
    "tt = times_evo[-1, :]/GYR\n",
    "fig, ax = plot.figax(scale='lin')\n",
    "print(utils.stats(tt))\n",
    "kale.dist1d(tt, density=True)\n",
    "plt.show()"
   ]
  }
 ],
 "metadata": {
  "kernelspec": {
   "display_name": "py310",
   "language": "python",
   "name": "python3"
  },
  "language_info": {
   "codemirror_mode": {
    "name": "ipython",
    "version": 3
   },
   "file_extension": ".py",
   "mimetype": "text/x-python",
   "name": "python",
   "nbconvert_exporter": "python",
   "pygments_lexer": "ipython3",
   "version": "3.10.8"
  },
  "vscode": {
   "interpreter": {
    "hash": "1f0c7602c82e39efa19a01e5e068584db7a6d17aff8711ab06660aac81377393"
   }
  }
 },
 "nbformat": 4,
 "nbformat_minor": 2
}
