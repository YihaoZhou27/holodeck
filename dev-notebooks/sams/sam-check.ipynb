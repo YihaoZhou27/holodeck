{
 "cells": [
  {
   "cell_type": "code",
   "execution_count": null,
   "metadata": {},
   "outputs": [],
   "source": [
    "# %load ../../notebooks/init.ipy\n",
    "%reload_ext autoreload\n",
    "%autoreload 2\n",
    "\n",
    "# Builtin packages\n",
    "from importlib import reload\n",
    "import logging\n",
    "import os\n",
    "from pathlib import Path\n",
    "import sys\n",
    "import warnings\n",
    "\n",
    "# standard secondary packages\n",
    "import astropy as ap\n",
    "import h5py\n",
    "import matplotlib as mpl\n",
    "import matplotlib.pyplot as plt\n",
    "import numpy as np\n",
    "import scipy as sp\n",
    "import scipy.stats\n",
    "import tqdm.notebook as tqdm\n",
    "\n",
    "# development packages\n",
    "import kalepy as kale\n",
    "import kalepy.utils\n",
    "import kalepy.plot\n",
    "\n",
    "# --- Holodeck ----\n",
    "import holodeck as holo\n",
    "import holodeck.sam\n",
    "from holodeck import cosmo, utils, plot\n",
    "from holodeck.constants import MSOL, PC, YR, MPC, GYR, SPLC, NWTG\n",
    "import holodeck.gravwaves\n",
    "import holodeck.evolution\n",
    "import holodeck.population\n",
    "\n",
    "# Silence annoying numpy errors\n",
    "np.seterr(divide='ignore', invalid='ignore', over='ignore')\n",
    "warnings.filterwarnings(\"ignore\", category=UserWarning)\n",
    "\n",
    "# Plotting settings\n",
    "mpl.rc('font', **{'family': 'serif', 'sans-serif': ['Times'], 'size': 15})\n",
    "mpl.rc('lines', solid_capstyle='round')\n",
    "mpl.rc('mathtext', fontset='cm')\n",
    "mpl.style.use('default')   # avoid dark backgrounds from dark theme vscode\n",
    "plt.rcParams.update({'grid.alpha': 0.5})\n",
    "\n",
    "# Load log and set logging level\n",
    "log = holo.log\n",
    "log.setLevel(logging.INFO)"
   ]
  },
  {
   "cell_type": "code",
   "execution_count": null,
   "metadata": {},
   "outputs": [],
   "source": [
    "import zcode.math as zmath"
   ]
  },
  {
   "cell_type": "code",
   "execution_count": null,
   "metadata": {},
   "outputs": [],
   "source": [
    "import holodeck.sam_simple"
   ]
  },
  {
   "cell_type": "code",
   "execution_count": null,
   "metadata": {},
   "outputs": [],
   "source": [
    "fobs_yr = 1.0 / YR"
   ]
  },
  {
   "cell_type": "code",
   "execution_count": null,
   "metadata": {},
   "outputs": [],
   "source": [
    "sam_simple = holo.sam_simple.Simple_SAM()\n",
    "gwb_simple = sam_simple.gwb(fobs_yr)\n",
    "print(gwb_simple)"
   ]
  },
  {
   "cell_type": "code",
   "execution_count": null,
   "metadata": {},
   "outputs": [],
   "source": [
    "# gsmf = holo.sam.GSMF_Schechter()\n",
    "# gpf = holo.sam.GPF_Power_Law()\n",
    "# gmt = holo.sam.GMT_Power_Law()\n",
    "mmbulge = holo.relations.MMBulge_Standard(\n",
    "    mamp=sam_simple._mbh_star, mplaw=sam_simple._alpha_mbh_star, mref=1e11*MSOL\n",
    ")\n",
    "# sam = holo.sam.Semi_Analytic_Model(gsmf=gsmf, gpf=gpf, gmt=gmt, mmbulge=mmbulge, shape=100)\n",
    "sam = holo.sam.Semi_Analytic_Model(mmbulge=mmbulge)\n",
    "gwb = sam.gwb_ideal(fobs_yr)\n",
    "print(gwb)"
   ]
  },
  {
   "cell_type": "code",
   "execution_count": null,
   "metadata": {},
   "outputs": [],
   "source": [
    "gwb, gwb_simple, gwb/gwb_simple"
   ]
  },
  {
   "cell_type": "code",
   "execution_count": null,
   "metadata": {},
   "outputs": [],
   "source": [
    "NUM = 100\n",
    "mgal = MSOL * (10.0 ** np.random.uniform(8, 12, NUM))\n",
    "qgal = 10.0 ** np.random.uniform(-3.0, 0.0, NUM)\n",
    "redz = zmath.random_power([0.01, 1.5], 2.0, NUM)"
   ]
  },
  {
   "cell_type": "code",
   "execution_count": null,
   "metadata": {},
   "outputs": [],
   "source": [
    "def check(mm, qq, zz, check, simple):\n",
    "    err = (check - simple) / np.min([check, simple], axis=0)\n",
    "    isclose = np.isclose(check, simple, rtol=1e-2, atol=0.0)\n",
    "\n",
    "    print(zmath.str_array(check))\n",
    "    print(zmath.str_array(simple))\n",
    "    print(zmath.stats_str(check))\n",
    "    print(zmath.stats_str(simple))\n",
    "    print(zmath.str_array(err))\n",
    "    print(zmath.stats_str(err))\n",
    "    print(isclose)\n",
    "\n",
    "    fig, axes = plot.figax(ncols=3)\n",
    "    ax = axes[0]\n",
    "    xx = mm\n",
    "    ax.scatter(xx, check, color='r', alpha=0.5, marker='+')\n",
    "    ax.scatter(xx, simple, color='b', alpha=0.5, marker='x')\n",
    "    tw = ax.twinx()\n",
    "    ii = np.argsort(xx)\n",
    "    tw.plot(xx[ii], err[ii], alpha=0.25)\n",
    "\n",
    "    ax = axes[1]\n",
    "    xx = qq\n",
    "    ax.scatter(xx, check, color='r', alpha=0.5, marker='+')\n",
    "    ax.scatter(xx, simple, color='b', alpha=0.5, marker='x')\n",
    "    tw = ax.twinx()\n",
    "    ii = np.argsort(xx)\n",
    "    tw.plot(xx[ii], err[ii], alpha=0.25)\n",
    "\n",
    "    ax = axes[2]\n",
    "    xx = zz\n",
    "    ax.scatter(xx, check, color='r', alpha=0.5, marker='+')\n",
    "    ax.scatter(xx, simple, color='b', alpha=0.5, marker='x')\n",
    "    tw = ax.twinx()\n",
    "    ii = np.argsort(xx)\n",
    "    tw.plot(xx[ii], err[ii], alpha=0.25)\n",
    "\n",
    "    return isclose\n",
    "    \n",
    "def frac_diff(v1, v2):\n",
    "    ee = (v2 - v1)/np.min([v1, v2], axis=0)\n",
    "    return ee"
   ]
  },
  {
   "cell_type": "markdown",
   "metadata": {},
   "source": [
    "## GSMF"
   ]
  },
  {
   "cell_type": "code",
   "execution_count": null,
   "metadata": {},
   "outputs": [],
   "source": [
    "gsmf_check = sam._gsmf(mgal, redz)\n",
    "gsmf_simple = sam_simple.gsmf(mgal, redz)\n",
    "err = (gsmf_check - gsmf_simple) / np.min([gsmf_check, gsmf_simple], axis=0)\n",
    "print(np.isclose(gsmf_check, gsmf_simple, rtol=1e-2))\n",
    "# print(err)\n",
    "\n",
    "fig, axes = plot.figax(ncols=2)\n",
    "ax = axes[0]\n",
    "ax.scatter(mgal, gsmf_check, color='r', alpha=0.5, marker='+')\n",
    "ax.scatter(mgal, gsmf_simple, color='b', alpha=0.5, marker='x')\n",
    "\n",
    "ax = axes[1]\n",
    "ax.scatter(qgal, gsmf_check, color='r', alpha=0.5, marker='+')\n",
    "ax.scatter(qgal, gsmf_simple, color='b', alpha=0.5, marker='x')\n",
    "plt.show()"
   ]
  },
  {
   "cell_type": "markdown",
   "metadata": {},
   "source": [
    "## GPF"
   ]
  },
  {
   "cell_type": "code",
   "execution_count": null,
   "metadata": {},
   "outputs": [],
   "source": [
    "gpf_check = sam._gpf(mgal, qgal, redz)\n",
    "gpf_simple = sam_simple.gpf(mgal, qgal, redz)\n",
    "\n",
    "check(mgal, qgal, redz, gpf_check, gpf_simple)\n",
    "plt.show()"
   ]
  },
  {
   "cell_type": "markdown",
   "metadata": {},
   "source": [
    "## GMT"
   ]
  },
  {
   "cell_type": "code",
   "execution_count": null,
   "metadata": {},
   "outputs": [],
   "source": [
    "gmt_check = sam._gmt(mgal, qgal, redz)\n",
    "gmt_simple = sam_simple.gmt(mgal, qgal, redz)\n",
    "check(mgal, qgal, redz, gmt_check, gmt_simple)\n",
    "plt.show()"
   ]
  },
  {
   "cell_type": "markdown",
   "metadata": {},
   "source": [
    "## Galaxy NDens"
   ]
  },
  {
   "cell_type": "code",
   "execution_count": null,
   "metadata": {},
   "outputs": [],
   "source": [
    "sam_simple = holo.sam_simple.Simple_SAM()\n",
    "n1 = sam_simple.ndens_galaxy(mgal, qgal, redz)\n",
    "n2 = sam_simple._ndens_galaxy_check(mgal, qgal, redz)\n",
    "\n",
    "check(mgal, qgal, redz, n1, n2)\n",
    "plt.show()"
   ]
  },
  {
   "cell_type": "code",
   "execution_count": null,
   "metadata": {},
   "outputs": [],
   "source": [
    "sam = holo.sam.Semi_Analytic_Model()\n",
    "ndg_check = sam._ndens_gal(mgal, qgal, redz)\n",
    "ndg_simple = sam_simple.ndens_galaxy(mgal, qgal, redz)\n",
    "\n",
    "uu_check = ndg_check; vv_simple = ndg_simple\n",
    "check(mgal, qgal, redz, uu_check, vv_simple)\n",
    "plt.show()"
   ]
  },
  {
   "cell_type": "markdown",
   "metadata": {},
   "source": [
    "# MBH NDens"
   ]
  },
  {
   "cell_type": "code",
   "execution_count": null,
   "metadata": {},
   "outputs": [],
   "source": [
    "sam_simple = holo.sam_simple.Simple_SAM()\n",
    "sam = holo.sam.Semi_Analytic_Model(mmbulge=mmbulge)\n",
    "\n",
    "uu = sam._ndens_mbh(mgal, qgal, redz)\n",
    "vv = sam_simple.ndens_mbh(mgal, qgal, redz)\n",
    "\n",
    "close = check(mgal, qgal, redz, uu, vv)\n",
    "if not all(close):\n",
    "    err_msg = \"MBH Number-Density mismatch between SAM and Simple_SAM!\"\n",
    "    raise ValueError(err_msg)\n",
    "\n",
    "plt.show()"
   ]
  },
  {
   "cell_type": "code",
   "execution_count": null,
   "metadata": {},
   "outputs": [],
   "source": [
    "sam._density = None\n",
    "ndens_sam = sam.static_binary_density\n",
    "mbh_tot, mbh_rat, redz = np.copy(sam.grid)\n",
    "mbh_pri, mbh_sec = utils.m1m2_from_mtmr(mbh_tot, mbh_rat)\n",
    "mst_pri, mst_sec = [mmbulge.mstar_from_mbh(_mbh, scatter=False) for _mbh in [mbh_pri, mbh_sec]]\n",
    "mst_rat = mst_sec/mst_pri\n",
    "\n",
    "ndens_ref = sam._ndens_mbh(mst_pri, mst_rat, redz)\n",
    "\n",
    "err = frac_diff(ndens_sam, ndens_ref)\n",
    "print(zmath.stats_str(ndens_sam))\n",
    "print(zmath.stats_str(ndens_ref))\n",
    "print(\"err=\", zmath.stats_str(err))\n",
    "\n",
    "if not np.allclose(ndens_sam, ndens_ref, rtol=1e-6, atol=0.0):\n",
    "    err_msg = f\"sam mbh ndens does not match consistency check || error too large!\"\n",
    "    raise ValueError(err_msg)\n"
   ]
  },
  {
   "cell_type": "markdown",
   "metadata": {},
   "source": [
    "## GWB Ideal"
   ]
  },
  {
   "cell_type": "code",
   "execution_count": null,
   "metadata": {},
   "outputs": [],
   "source": [
    "sam_simple = holo.sam_simple.Simple_SAM()\n",
    "sam = holo.sam.Semi_Analytic_Model(mmbulge=mmbulge)\n",
    "\n",
    "hc1 = sam_simple.gwb_sam(fobs_yr, sam, dlog10=False)\n",
    "hc2 = sam_simple.gwb_sam(fobs_yr, sam, dlog10=True)\n",
    "print(hc1, hc2, hc1/hc2)\n",
    "if not np.isclose(hc1, hc2, rtol=1e-2, atol=0.0):\n",
    "    err = f\"{hc1=:.8e} (gwb) vs. {hc2=:.8e} || error too large!\"\n",
    "    raise ValueError(err)\n",
    "\n",
    "plt.show()"
   ]
  },
  {
   "cell_type": "code",
   "execution_count": null,
   "metadata": {},
   "outputs": [],
   "source": [
    "sam_simple = holo.sam_simple.Simple_SAM()\n",
    "\n",
    "mg = sam_simple.mass_gal[:, np.newaxis, np.newaxis]\n",
    "qg = sam_simple.mrat_gal[np.newaxis, :, np.newaxis]\n",
    "rz = sam_simple.redz[np.newaxis, np.newaxis, :]\n",
    "mtot = sam_simple.mbh[:, :, np.newaxis]\n",
    "\n",
    "ndens_a1 = sam_simple.ndens_mbh(mg, qg, rz, dlog10=False)\n",
    "ndens_b1 = ndens_a1 * mtot * np.log(10.0)\n",
    "ndens_b2 = sam_simple.ndens_mbh(mg, qg, rz, dlog10=True)\n",
    "ndens_a2 = ndens_b2 / (mtot * np.log(10.0))\n",
    "\n",
    "print(\"dlog10(M)\")\n",
    "print(utils.stats(ndens_b1, prec=4))\n",
    "print(utils.stats(ndens_b2, prec=4))\n",
    "err = frac_diff(ndens_b1, ndens_b2)\n",
    "print(utils.stats(err, prec=2))\n",
    "\n",
    "print(\"dM\")\n",
    "print(utils.stats(ndens_a1, prec=4))\n",
    "print(utils.stats(ndens_a2, prec=4))\n",
    "err = frac_diff(ndens_a1, ndens_a2)\n",
    "print(utils.stats(err[err > 0], prec=2))"
   ]
  },
  {
   "cell_type": "code",
   "execution_count": null,
   "metadata": {},
   "outputs": [],
   "source": [
    "sam_simple = holo.sam_simple.Simple_SAM()\n",
    "\n",
    "hc1 = sam_simple.gwb(fobs_yr, dlog10=True)\n",
    "hc2 = sam_simple.gwb(fobs_yr, dlog10=False)\n",
    "print(hc1, hc2, hc1/hc2)\n",
    "if not np.isclose(hc1, hc2, rtol=1e-2, atol=0.0):\n",
    "    err = f\"{hc1=:.8e} (gwb) vs. {hc2=:.8e} || error too large!\"\n",
    "    raise ValueError(err)\n",
    "\n",
    "# check(mgal, qgal, redz, uu, vv)\n",
    "plt.show()"
   ]
  },
  {
   "cell_type": "code",
   "execution_count": null,
   "metadata": {},
   "outputs": [],
   "source": [
    "sam_simple = holo.sam_simple.Simple_SAM()\n",
    "sam = holo.sam.Semi_Analytic_Model(mmbulge=mmbulge)\n",
    "\n",
    "hc1 = sam_simple.gwb(fobs_yr)\n",
    "hc2 = sam_simple.gwb_sam(fobs_yr, sam)\n",
    "print(hc1, hc2, hc1/hc2)\n",
    "if not np.isclose(hc1, hc2, rtol=1e-5, atol=0.0):\n",
    "    err = f\"{hc1=:.8e} (gwb) vs. {hc2=:.8e} || error too large!\"\n",
    "    raise ValueError(err)\n",
    "\n",
    "# check(mgal, qgal, redz, uu, vv)\n",
    "plt.show()"
   ]
  },
  {
   "cell_type": "code",
   "execution_count": null,
   "metadata": {},
   "outputs": [],
   "source": [
    "sam_simple = holo.sam_simple.Simple_SAM()\n",
    "sam = holo.sam.Semi_Analytic_Model(mmbulge=mmbulge)\n",
    "\n",
    "hc1 = sam.gwb_ideal(fobs_yr)\n",
    "hc2 = sam_simple.gwb(fobs_yr)\n",
    "\n",
    "print(hc1, hc2, hc1/hc2)\n",
    "if not np.isclose(hc1, hc2, rtol=1e-2, atol=0.0):\n",
    "    err_msg = f\"{hc1=:.8e} (gwb) vs. {hc2=:.8e} || error too large!\"\n",
    "    raise ValueError(err_msg)\n"
   ]
  },
  {
   "cell_type": "markdown",
   "metadata": {},
   "source": [
    "# Convergence Tests"
   ]
  },
  {
   "cell_type": "code",
   "execution_count": null,
   "metadata": {},
   "outputs": [],
   "source": [
    "size = [10, 20, 40, 100, 200, 400]\n",
    "print(size)\n",
    "gwb_reg = np.zeros(len(size))\n",
    "gwb_log = np.zeros(len(size))\n",
    "for ii, ss in enumerate(tqdm.tqdm_notebook(size)):\n",
    "    ss = int(ss)\n",
    "    print(ii, ss)\n",
    "    sam_simp = holo.sam_simple.Simple_SAM(size=ss)\n",
    "    gwb_reg[ii] = sam_simp.gwb(fobs_yr, dlog10=False)\n",
    "    gwb_log[ii] = sam_simp.gwb(fobs_yr, dlog10=True)"
   ]
  },
  {
   "cell_type": "code",
   "execution_count": null,
   "metadata": {},
   "outputs": [],
   "source": [
    "fig, ax = plot.figax()\n",
    "truth = 0.5 * (gwb_reg[-1] + gwb_log[-1])\n",
    "# truth = gwb_log[-1]\n",
    "ax.plot(size, np.fabs(gwb_reg - truth) / truth, 'r-', alpha=0.5, label='reg')\n",
    "ax.plot(size, np.fabs(gwb_log - truth) / truth, 'b--', alpha=0.5, label='log')\n",
    "ax.legend()\n",
    "plt.show()"
   ]
  }
 ],
 "metadata": {
  "kernelspec": {
   "display_name": "Python 3.10.6 ('py310')",
   "language": "python",
   "name": "python3"
  },
  "language_info": {
   "codemirror_mode": {
    "name": "ipython",
    "version": 3
   },
   "file_extension": ".py",
   "mimetype": "text/x-python",
   "name": "python",
   "nbconvert_exporter": "python",
   "pygments_lexer": "ipython3",
   "version": "3.10.8"
  },
  "vscode": {
   "interpreter": {
    "hash": "1f0c7602c82e39efa19a01e5e068584db7a6d17aff8711ab06660aac81377393"
   }
  }
 },
 "nbformat": 4,
 "nbformat_minor": 2
}
