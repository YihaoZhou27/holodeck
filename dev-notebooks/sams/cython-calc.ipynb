{
 "cells": [
  {
   "attachments": {},
   "cell_type": "markdown",
   "metadata": {},
   "source": [
    "# Solving for Hardening Rate"
   ]
  },
  {
   "cell_type": "code",
   "execution_count": null,
   "metadata": {},
   "outputs": [],
   "source": [
    "import numpy as np\n",
    "import holodeck as holo\n",
    "from holodeck.constants import YR, GYR\n",
    "from holodeck import utils, cosmo\n",
    "import holodeck.sam_cython\n",
    "\n",
    "import tqdm\n",
    "\n",
    "SHAPE = 20\n",
    "TIME = 3 * GYR\n",
    "\n",
    "sam = holo.sam.Semi_Analytic_Model(shape=SHAPE)\n",
    "\n",
    "# hard = holo.hardening.Hard_GW\n",
    "hard = holo.hardening.Fixed_Time.from_sam(sam, TIME)\n",
    "\n",
    "cy_norm = holodeck.sam_cython.find_hardening_norm(TIME, sam, hard, 5000)"
   ]
  },
  {
   "cell_type": "code",
   "execution_count": null,
   "metadata": {},
   "outputs": [],
   "source": [
    "norm = 10.0 ** cy_norm\n",
    "print(utils.stats(norm))\n",
    "print(utils.stats(hard._norm))"
   ]
  },
  {
   "cell_type": "code",
   "execution_count": null,
   "metadata": {},
   "outputs": [],
   "source": [
    "steps_list = [30, 100, 300, 1000, 3000, 10000]\n",
    "norms = []\n",
    "for steps in tqdm.tqdm(steps_list):\n",
    "    _norm = holodeck.sam_cython.find_hardening_norm(TIME, sam, hard, steps)\n",
    "    norms.append(_norm)"
   ]
  },
  {
   "cell_type": "code",
   "execution_count": null,
   "metadata": {},
   "outputs": [],
   "source": [
    "norms = np.asarray(norms)\n",
    "truth = norms[-1]\n",
    "\n",
    "xx = steps_list\n",
    "nn = len(xx)\n",
    "\n",
    "fig, ax = plt.subplots()\n",
    "ax.set(xscale='log', yscale='linear')\n",
    "ax.grid(True, alpha=0.25)\n",
    "\n",
    "med = np.median(norms, axis=(1, 2))\n",
    "med_truth = np.median(truth)\n",
    "\n",
    "ax.plot(xx, (med - med_truth)/med_truth, 'k+-', lw=2.0, alpha=0.8)\n",
    "\n",
    "flat = norms[:, :, 0].reshape(nn, -1)\n",
    "flat_truth = flat[-1]\n",
    "\n",
    "ax.plot(xx, (flat - flat_truth)/flat_truth, lw=1.0, alpha=0.5)\n",
    "plt.show()\n"
   ]
  },
  {
   "cell_type": "code",
   "execution_count": null,
   "metadata": {},
   "outputs": [],
   "source": []
  },
  {
   "cell_type": "code",
   "execution_count": null,
   "metadata": {},
   "outputs": [],
   "source": []
  },
  {
   "attachments": {},
   "cell_type": "markdown",
   "metadata": {},
   "source": [
    "# Test Binary Evolution"
   ]
  },
  {
   "cell_type": "code",
   "execution_count": null,
   "metadata": {},
   "outputs": [],
   "source": [
    "print(\"Hello\")\n",
    "\n",
    "import numpy as np\n",
    "import holodeck as holo\n",
    "from datetime import datetime\n",
    "import holodeck.sam_cython\n",
    "from holodeck.constants import YR, GYR\n",
    "from holodeck import utils, cosmo\n",
    "\n",
    "DEF_NUM_FBINS = 7\n",
    "DEF_PTA_DUR = 16.03     # [yrs]\n",
    "SHAPE = 20\n",
    "\n",
    "# Choose observed GW-Frequency bins based on nyquist sampling\n",
    "fobs_edges = utils.nyquist_freqs_edges(DEF_PTA_DUR*YR, cad=0.1*YR)\n",
    "fobs_edges = fobs_edges[:DEF_NUM_FBINS+1]\n",
    "fobs_cents = utils.midpoints(fobs_edges)\n",
    "fobs_orb_cents = fobs_cents / 2.0\n",
    "\n",
    "gsmf = holo.sam.GSMF_Schechter()               # Galaxy Stellar-Mass Function (GSMF)\n",
    "gpf = holo.sam.GPF_Power_Law()                 # Galaxy Pair Fraction         (GPF)\n",
    "gmt = holo.sam.GMT_Power_Law()                 # Galaxy Merger Time           (GMT)\n",
    "mmbulge = holo.relations.MMBulge_Standard()    # M-MBulge Relation            (MMB)\n",
    "\n",
    "sam = holo.sam.Semi_Analytic_Model(\n",
    "    gsmf=gsmf, gpf=gpf, gmt=gmt, mmbulge=mmbulge, shape=SHAPE,\n",
    "    ZERO_GMT_STALLED_SYSTEMS=True,\n",
    ")\n",
    "\n",
    "# hard = holo.hardening.Hard_GW\n",
    "hard = holo.hardening.Fixed_Time.from_sam(sam, 2 * GYR)\n",
    "\n",
    "print(\"START\", datetime.now())\n",
    "redz_final, diff_num = holodeck.sam_cython.dynamic_binary_number(fobs_orb_cents, sam, hard, cosmo, nsteps=200)\n",
    "print(\"END\", datetime.now())"
   ]
  },
  {
   "cell_type": "code",
   "execution_count": null,
   "metadata": {},
   "outputs": [],
   "source": [
    "edges, dnum = sam.dynamic_binary_number(hard, fobs_orb_cents, zero_stalled=True, zero_coalesced=True)"
   ]
  },
  {
   "cell_type": "code",
   "execution_count": null,
   "metadata": {},
   "outputs": [],
   "source": [
    "old_redz = sam._redz_final\n",
    "sel1 = (redz_final > 0.0)\n",
    "sel2 = (old_redz > 0.0)\n",
    "print(utils.stats(redz_final[sel1]))\n",
    "print(utils.stats(old_redz[sel2]))\n",
    "sel = sel1 & sel2\n",
    "print(utils.frac_str(sel1))\n",
    "print(utils.frac_str(sel2))\n",
    "print(utils.frac_str(sel))\n",
    "print(utils.stats(redz_final[sel]/old_redz[sel]))"
   ]
  },
  {
   "cell_type": "code",
   "execution_count": null,
   "metadata": {},
   "outputs": [],
   "source": [
    "old_redz[-1, -1, :, 0], redz_final[-1, -1, :, 0]"
   ]
  },
  {
   "cell_type": "code",
   "execution_count": null,
   "metadata": {},
   "outputs": [],
   "source": [
    "print(utils.stats(dnum))\n",
    "print(utils.stats(diff_num))\n",
    "sel1 = (diff_num > 0.0)\n",
    "sel2 = (dnum > 0.0)\n",
    "sel = sel1 & sel2\n",
    "print(utils.frac_str(sel1))\n",
    "print(utils.frac_str(sel2))\n",
    "print(utils.frac_str(sel))\n",
    "print(utils.stats(diff_num[sel]/dnum[sel]))"
   ]
  },
  {
   "cell_type": "code",
   "execution_count": null,
   "metadata": {},
   "outputs": [],
   "source": [
    "fobs_orb_cents"
   ]
  },
  {
   "cell_type": "code",
   "execution_count": null,
   "metadata": {},
   "outputs": [],
   "source": [
    "bads = (sel1 & ~sel2) | (~sel1 & sel2)\n",
    "# bads = (sel1 & ~sel2)\n",
    "# bads = (~sel1 & sel2)\n",
    "print(utils.frac_str(bads))\n",
    "bads = np.where(bads)\n",
    "\n",
    "fig, axes = plt.subplots(figsize=[10, 10], nrows=4)\n",
    "for ii, (ax, bb) in enumerate(zip(axes, bads)):\n",
    "    ax.set(xscale='log', yscale='log')\n",
    "    ax.hist(edges[ii][bb], bins=edges[ii], density=False)\n",
    "    \n",
    "plt.show()"
   ]
  },
  {
   "cell_type": "code",
   "execution_count": null,
   "metadata": {},
   "outputs": [],
   "source": [
    "cosmo._grid_dcom/MPC"
   ]
  }
 ],
 "metadata": {
  "kernelspec": {
   "display_name": "py310",
   "language": "python",
   "name": "python3"
  },
  "language_info": {
   "codemirror_mode": {
    "name": "ipython",
    "version": 3
   },
   "file_extension": ".py",
   "mimetype": "text/x-python",
   "name": "python",
   "nbconvert_exporter": "python",
   "pygments_lexer": "ipython3",
   "version": "3.10.10"
  }
 },
 "nbformat": 4,
 "nbformat_minor": 2
}
