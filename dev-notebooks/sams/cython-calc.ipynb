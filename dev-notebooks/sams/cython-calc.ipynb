{
 "cells": [
  {
   "cell_type": "code",
   "execution_count": null,
   "metadata": {},
   "outputs": [],
   "source": [
    "import numpy as np\n",
    "import holodeck as holo\n",
    "from holodeck.constants import YR, GYR\n",
    "from holodeck import utils, cosmo\n",
    "import holodeck.sam_cython\n",
    "\n",
    "import tqdm\n",
    "\n",
    "SHAPE = 100\n",
    "TIME = 3 * GYR\n",
    "\n",
    "DEF_NUM_FBINS = 7\n",
    "DEF_PTA_DUR = 16.03     # [yrs]\n",
    "SHAPE = 100\n",
    "\n",
    "# Choose observed GW-Frequency bins based on nyquist sampling\n",
    "fobs_edges = utils.nyquist_freqs_edges(DEF_PTA_DUR*YR, cad=0.1*YR)\n",
    "fobs_edges = fobs_edges[:DEF_NUM_FBINS+1]\n",
    "fobs_cents = utils.midpoints(fobs_edges)\n",
    "fobs_orb_cents = fobs_cents / 2.0\n",
    "\n",
    "\n",
    "sam = holo.sam.Semi_Analytic_Model(shape=SHAPE)\n",
    "\n",
    "# hard = holo.hardening.Hard_GW\n",
    "hard = holo.hardening.Fixed_Time_2PL_SAM(sam, TIME)\n",
    "\n",
    "redz_final, diff_num = holodeck.sam_cython.dynamic_binary_number_at_fobs(fobs_orb_cents, sam, hard, cosmo)\n",
    "\n",
    "# cy_norm = holodeck.sam_cython.find_2pl_hardening_norm(TIME, sam, hard, 10)"
   ]
  },
  {
   "attachments": {},
   "cell_type": "markdown",
   "metadata": {},
   "source": [
    "# Solving for Hardening Rate"
   ]
  },
  {
   "cell_type": "code",
   "execution_count": null,
   "metadata": {},
   "outputs": [],
   "source": [
    "import numpy as np\n",
    "import holodeck as holo\n",
    "from holodeck.constants import YR, GYR, PC\n",
    "from holodeck import utils, cosmo\n",
    "import holodeck.sam_cython\n",
    "\n",
    "import tqdm\n",
    "\n",
    "SHAPE = (12, 13, 14)\n",
    "TIME = 3 * GYR\n",
    "SEPA_INIT = 1e3 * PC\n",
    "RCHAR = 10.0 * PC\n",
    "GAMMA_INNER = -1.0\n",
    "GAMMA_OUTER = +1.5\n",
    "\n",
    "sam = holo.sam.Semi_Analytic_Model(shape=SHAPE)\n",
    "\n",
    "old_hard = holo.hardening.Fixed_Time_2PL.from_sam(\n",
    "    sam, TIME,\n",
    "    sepa_init=SEPA_INIT, rchar=RCHAR, gamma_inner=GAMMA_INNER, gamma_outer=GAMMA_OUTER\n",
    ")\n",
    "old_norm = old_hard._norm.reshape(sam.shape)[:, :, 0]\n",
    "print(old_norm.shape)\n",
    "\n",
    "new_hard = holo.hardening.Fixed_Time_2PL_SAM(\n",
    "    sam, TIME,\n",
    "    sepa_init=SEPA_INIT, rchar=RCHAR, gamma_inner=GAMMA_INNER, gamma_outer=GAMMA_OUTER\n",
    ")\n",
    "new_norm = new_hard._norm\n",
    "print(new_norm.shape)"
   ]
  },
  {
   "cell_type": "code",
   "execution_count": null,
   "metadata": {},
   "outputs": [],
   "source": [
    "print(utils.stats(old_norm))\n",
    "print(utils.stats(new_norm))\n",
    "print(utils.stats(new_norm/old_norm))"
   ]
  },
  {
   "cell_type": "code",
   "execution_count": null,
   "metadata": {},
   "outputs": [],
   "source": [
    "print(old_norm[0, :])\n",
    "print(new_norm[0, :])\n",
    "print()\n",
    "print(old_norm[:, 5])\n",
    "print(new_norm[:, 5])"
   ]
  },
  {
   "attachments": {},
   "cell_type": "markdown",
   "metadata": {},
   "source": [
    "# Test Binary Evolution"
   ]
  },
  {
   "cell_type": "code",
   "execution_count": null,
   "metadata": {},
   "outputs": [],
   "source": [
    "print(\"Hello\")\n",
    "\n",
    "import numpy as np\n",
    "import holodeck as holo\n",
    "from datetime import datetime\n",
    "import holodeck.sam_cython\n",
    "from holodeck.constants import YR, GYR, PC\n",
    "from holodeck import utils, cosmo\n",
    "\n",
    "DEF_NUM_FBINS = 7\n",
    "DEF_PTA_DUR = 16.03     # [yrs]\n",
    "SHAPE = 100\n",
    "TIME = 3 * GYR\n",
    "\n",
    "SEPA_INIT = 1e3 * PC\n",
    "RCHAR = 10.0 * PC\n",
    "GAMMA_INNER = -1.0\n",
    "GAMMA_OUTER = +1.5\n",
    "\n",
    "\n",
    "# Choose observed GW-Frequency bins based on nyquist sampling\n",
    "fobs_edges = utils.nyquist_freqs_edges(DEF_PTA_DUR*YR, cad=0.1*YR)\n",
    "fobs_edges = fobs_edges[:DEF_NUM_FBINS+1]\n",
    "fobs_cents = utils.midpoints(fobs_edges)\n",
    "fobs_orb_cents = fobs_cents / 2.0\n",
    "\n",
    "sam = holo.sam.Semi_Analytic_Model(shape=SHAPE)\n",
    "\n",
    "new_hard = holo.hardening.Fixed_Time_2PL_SAM(\n",
    "    sam, TIME,\n",
    "    sepa_init=SEPA_INIT, rchar=RCHAR, gamma_inner=GAMMA_INNER, gamma_outer=GAMMA_OUTER\n",
    ")\n",
    "\n",
    "new_redz_final, new_dnum = holodeck.sam_cython.dynamic_binary_number_at_fobs(fobs_orb_cents, sam, new_hard, cosmo)\n",
    "\n",
    "# old_hard = holo.hardening.Fixed_Time_2PL.from_sam(\n",
    "#     sam, TIME,\n",
    "#     sepa_init=SEPA_INIT, rchar=RCHAR, gamma_inner=GAMMA_INNER, gamma_outer=GAMMA_OUTER\n",
    "# )\n",
    "\n",
    "# edges, old_dnum = sam.dynamic_binary_number(old_hard, fobs_orb_cents, zero_stalled=True, zero_coalesced=True)\n",
    "# old_redz_final = sam._redz_final"
   ]
  },
  {
   "cell_type": "code",
   "execution_count": null,
   "metadata": {},
   "outputs": [],
   "source": [
    "sel1 = (new_redz_final > 0.0)\n",
    "sel2 = (old_redz_final > 0.0)\n",
    "print(utils.stats(new_redz_final[sel1]))\n",
    "print(utils.stats(old_redz_final[sel2]))\n",
    "sel = sel1 & sel2\n",
    "print(utils.frac_str(sel1))\n",
    "print(utils.frac_str(sel2))\n",
    "print(utils.frac_str(sel))\n",
    "print(utils.stats(new_redz_final[sel]/old_redz_final[sel]))"
   ]
  },
  {
   "cell_type": "code",
   "execution_count": null,
   "metadata": {},
   "outputs": [],
   "source": [
    "print(utils.stats(dnum))\n",
    "print(utils.stats(diff_num))\n",
    "sel1 = (diff_num > 0.0)\n",
    "sel2 = (dnum > 0.0)\n",
    "sel = sel1 & sel2\n",
    "print(utils.frac_str(sel1))\n",
    "print(utils.frac_str(sel2))\n",
    "print(utils.frac_str(sel))\n",
    "print(utils.stats(diff_num[sel]/dnum[sel]))"
   ]
  },
  {
   "cell_type": "code",
   "execution_count": null,
   "metadata": {},
   "outputs": [],
   "source": [
    "fobs_orb_cents"
   ]
  },
  {
   "cell_type": "code",
   "execution_count": null,
   "metadata": {},
   "outputs": [],
   "source": [
    "bads = (sel1 & ~sel2) | (~sel1 & sel2)\n",
    "# bads = (sel1 & ~sel2)\n",
    "# bads = (~sel1 & sel2)\n",
    "print(utils.frac_str(bads))\n",
    "bads = np.where(bads)\n",
    "\n",
    "fig, axes = plt.subplots(figsize=[10, 10], nrows=4)\n",
    "for ii, (ax, bb) in enumerate(zip(axes, bads)):\n",
    "    ax.set(xscale='log', yscale='log')\n",
    "    ax.hist(edges[ii][bb], bins=edges[ii], density=False)\n",
    "    \n",
    "plt.show()"
   ]
  },
  {
   "cell_type": "code",
   "execution_count": null,
   "metadata": {},
   "outputs": [],
   "source": [
    "cosmo._grid_dcom/MPC"
   ]
  }
 ],
 "metadata": {
  "kernelspec": {
   "display_name": "py310",
   "language": "python",
   "name": "python3"
  },
  "language_info": {
   "codemirror_mode": {
    "name": "ipython",
    "version": 3
   },
   "file_extension": ".py",
   "mimetype": "text/x-python",
   "name": "python",
   "nbconvert_exporter": "python",
   "pygments_lexer": "ipython3",
   "version": "3.10.10"
  }
 },
 "nbformat": 4,
 "nbformat_minor": 2
}
