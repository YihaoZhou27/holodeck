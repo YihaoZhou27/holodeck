{
 "cells": [
  {
   "cell_type": "code",
   "execution_count": null,
   "metadata": {},
   "outputs": [],
   "source": [
    "# %load ../../notebooks/init.ipy\n",
    "%reload_ext autoreload\n",
    "%autoreload 2\n",
    "\n",
    "# Builtin packages\n",
    "from datetime import datetime\n",
    "from importlib import reload\n",
    "import logging\n",
    "import os\n",
    "from pathlib import Path\n",
    "import sys\n",
    "import warnings\n",
    "\n",
    "# standard secondary packages\n",
    "import astropy as ap\n",
    "import h5py\n",
    "import matplotlib as mpl\n",
    "import matplotlib.pyplot as plt\n",
    "import numpy as np\n",
    "import scipy as sp\n",
    "import scipy.stats\n",
    "import tqdm.notebook as tqdm\n",
    "\n",
    "# development packages\n",
    "import kalepy as kale\n",
    "import kalepy.utils\n",
    "import kalepy.plot\n",
    "\n",
    "# --- Holodeck ----\n",
    "import holodeck as holo\n",
    "import holodeck.sam\n",
    "from holodeck import cosmo, utils, plot\n",
    "from holodeck.constants import MSOL, PC, YR, MPC, GYR, SPLC, NWTG\n",
    "import holodeck.gravwaves\n",
    "import holodeck.evolution\n",
    "import holodeck.population\n",
    "\n",
    "# Silence annoying numpy errors\n",
    "np.seterr(divide='ignore', invalid='ignore', over='ignore')\n",
    "warnings.filterwarnings(\"ignore\", category=UserWarning)\n",
    "\n",
    "# Plotting settings\n",
    "mpl.rc('font', **{'family': 'serif', 'sans-serif': ['Times'], 'size': 15})\n",
    "mpl.rc('lines', solid_capstyle='round')\n",
    "mpl.rc('mathtext', fontset='cm')\n",
    "mpl.style.use('default')   # avoid dark backgrounds from dark theme vscode\n",
    "plt.rcParams.update({'grid.alpha': 0.5})\n",
    "\n",
    "# Load log and set logging level\n",
    "log = holo.log\n",
    "log.setLevel(logging.INFO)"
   ]
  },
  {
   "cell_type": "code",
   "execution_count": null,
   "metadata": {},
   "outputs": [],
   "source": [
    "import zcode.math as zmath\n",
    "import zcode.plot as zplot\n",
    "\n",
    "def draw_gwb(ax, xx, gwb, nsamp=10, color=None, label=None):\n",
    "    if color is None:\n",
    "        color = ax._get_lines.get_next_color()\n",
    "\n",
    "    mm, *conf = np.percentile(gwb, [50, 25, 75], axis=1)\n",
    "    ax.plot(xx, mm, alpha=0.5, color=color, label=label)\n",
    "    ax.fill_between(xx, *conf, color=color, alpha=0.15)\n",
    "\n",
    "    if (nsamp is not None) and (nsamp > 0):\n",
    "        nsamp_max = gwb.shape[1]\n",
    "        idx = np.random.choice(nsamp_max, np.min([nsamp, nsamp_max]), replace=False)\n",
    "        for ii in idx:\n",
    "            ax.plot(xx, gwb[:, ii], color=color, alpha=0.25, lw=1.0, ls='-')\n",
    "            \n",
    "    return\n"
   ]
  },
  {
   "cell_type": "code",
   "execution_count": null,
   "metadata": {},
   "outputs": [],
   "source": [
    "SHAPE = 20\n",
    "TIME = 1e5 * GYR\n",
    "\n",
    "gsmf = holo.sam.GSMF_Schechter()               # Galaxy Stellar-Mass Function (GSMF)\n",
    "gpf = holo.sam.GPF_Power_Law()                 # Galaxy Pair Fraction         (GPF)\n",
    "gmt = holo.sam.GMT_Power_Law()                 # Galaxy Merger Time           (GMT)\n",
    "mmbulge = holo.relations.MMBulge_Standard()    # M-MBulge Relation            (MMB)\n",
    "\n",
    "# hard = holo.hardening.Hard_GW()\n",
    "\n",
    "sam = holo.sam.Semi_Analytic_Model(gsmf=gsmf, gpf=gpf, gmt=gmt, mmbulge=mmbulge, shape=SHAPE)\n",
    "hard = holo.hardening.Fixed_Time.from_sam(sam, TIME,  exact=True)"
   ]
  },
  {
   "cell_type": "code",
   "execution_count": null,
   "metadata": {},
   "outputs": [],
   "source": [
    "fobs_edges = utils.nyquist_freqs_edges(20*YR, 0.2*YR)\n",
    "fobs = utils.midpoints(fobs_edges, log=True)\n",
    "gwb = sam.gwb(fobs_edges, hard=hard, realize=30, )    # calculate many different realizations"
   ]
  },
  {
   "cell_type": "code",
   "execution_count": null,
   "metadata": {},
   "outputs": [],
   "source": [
    "xx = fobs * YR\n",
    "fig, ax = plot.figax()\n",
    "draw_gwb(ax, xx, gwb)\n",
    "# ax.plot(xx, gwb)\n",
    "\n",
    "plot._twin_hz(ax)\n",
    "plt.show()"
   ]
  },
  {
   "attachments": {},
   "cell_type": "markdown",
   "metadata": {},
   "source": [
    "# Calculate age during evolution from hardening model"
   ]
  },
  {
   "cell_type": "code",
   "execution_count": null,
   "metadata": {},
   "outputs": [],
   "source": [
    "sam = holo.sam.Semi_Analytic_Model(gsmf=gsmf, gpf=gpf, gmt=gmt, mmbulge=mmbulge, shape=None)\n",
    "# hard = holo.hardening.Fixed_Time.from_sam(sam, GYR, exact=True)\n",
    "hard = holo.hardening.Fixed_Time.from_sam(sam, GYR, exact=False)\n",
    "\n",
    "STEPS = 100\n",
    "# ()\n",
    "rmax = hard._sepa_init\n",
    "# (M,)\n",
    "rmin = utils.rad_isco(sam.mtot)\n",
    "\n",
    "extr = np.log10([rmax * np.ones_like(rmin), rmin])\n",
    "rads = np.linspace(0.0, 1.0, STEPS)[np.newaxis, :]\n",
    "# (M, X)\n",
    "rads = extr[0][:, np.newaxis] + (extr[1] - extr[0])[:, np.newaxis] * rads\n",
    "rads = 10.0 ** rads\n",
    "mt, mr, rz, rads = np.broadcast_arrays(sam.mtot[:, np.newaxis, np.newaxis, np.newaxis], sam.mrat[np.newaxis, :, np.newaxis, np.newaxis], sam.redz[np.newaxis, np.newaxis, :, np.newaxis], rads[:, np.newaxis, np.newaxis, :])\n",
    "\n",
    "mt, mr, rads = [mm.reshape(-1, STEPS).T for mm in [mt, mr, rads]]\n",
    "for mm in [mt, mr, rads]:\n",
    "    print(mm.shape)\n",
    "\n",
    "dadt = hard.dadt(mt, mr, rads)\n",
    "# Integrate (inverse) hardening rates to calculate total lifetime\n",
    "times = -utils.trapz_loglog(-1.0 / dadt, rads, axis=0, cumsum=True)\n",
    "print(rads.shape, times.shape)"
   ]
  },
  {
   "cell_type": "code",
   "execution_count": null,
   "metadata": {},
   "outputs": [],
   "source": [
    "fig, ax = plot.figax()\n",
    "tw = ax.twinx()\n",
    "tw.set(yscale='log')\n",
    "\n",
    "for ii in np.random.choice(rads.shape[1], 10, replace=False):\n",
    "    ax.plot(rads[1:, ii]/PC, times[:, ii]/YR)\n",
    "    tau = rads[:, ii] / -dadt[:, ii]\n",
    "    tw.plot(rads[:, ii]/PC, tau/YR, ls='--')\n",
    "    print(times[-1, ii]/GYR)\n",
    "    print(rads[-1, ii]/PC)\n",
    "\n",
    "plt.show()"
   ]
  }
 ],
 "metadata": {
  "kernelspec": {
   "display_name": "py310",
   "language": "python",
   "name": "python3"
  },
  "language_info": {
   "codemirror_mode": {
    "name": "ipython",
    "version": 3
   },
   "file_extension": ".py",
   "mimetype": "text/x-python",
   "name": "python",
   "nbconvert_exporter": "python",
   "pygments_lexer": "ipython3",
   "version": "3.10.8"
  },
  "vscode": {
   "interpreter": {
    "hash": "1f0c7602c82e39efa19a01e5e068584db7a6d17aff8711ab06660aac81377393"
   }
  }
 },
 "nbformat": 4,
 "nbformat_minor": 2
}
